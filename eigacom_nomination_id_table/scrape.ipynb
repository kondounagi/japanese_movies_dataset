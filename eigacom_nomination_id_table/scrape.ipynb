{
 "cells": [
  {
   "cell_type": "code",
   "execution_count": 1,
   "metadata": {},
   "outputs": [],
   "source": [
    "import csv\n",
    "import logging\n",
    "logging.basicConfig(format='%(message)s')\n",
    "import requests\n",
    "from bs4 import BeautifulSoup\n",
    "import time\n",
    "import re"
   ]
  },
  {
   "cell_type": "code",
   "execution_count": 2,
   "metadata": {},
   "outputs": [],
   "source": [
    "def scrape(year):    \n",
    "    \n",
    "    print(\"START : \" + str(year))\n",
    "    url_nominate='https://eiga.com/award/japan-academy/' + str(year)\n",
    "    \n",
    "\n",
    "\n",
    "    res = requests.get(url_nominate)\n",
    "    res.encoding = res.apparent_encoding\n",
    "    soup = BeautifulSoup(res.content, \"lxml\")\n",
    "    \n",
    "    table = soup.find('table', attrs={\"class\":\"_a\"})\n",
    "    \n",
    "    ids = []\n",
    "    \n",
    "    winner = table.find('tr', attrs={\"class\": \"prize\"})\n",
    "    winner_path = winner.find('a')[\"href\"]\n",
    "    winner_id = re.sub(\"\\\\D\", \"\", winner_path)\n",
    "    ids.append(winner_id)\n",
    "    winner.decompose()\n",
    "    \n",
    "    for a in table.find_all('a'):\n",
    "        path = a[\"href\"]\n",
    "        id = re.sub(\"\\\\D\", \"\", path)\n",
    "        ids.append(id)\n",
    "        \n",
    "        time.sleep(1)\n",
    "    return ids"
   ]
  },
  {
   "cell_type": "code",
   "execution_count": 3,
   "metadata": {},
   "outputs": [],
   "source": [
    "def main():\n",
    "    for year in range(1978, 2000):\n",
    "        ids = scrape(year)\n",
    "        with open('{}.txt'.format(str(year)), 'w') as f:\n",
    "            for id in ids:\n",
    "                f.write(str(id) + \"\\n\")"
   ]
  },
  {
   "cell_type": "code",
   "execution_count": 16,
   "metadata": {},
   "outputs": [
    {
     "name": "stdout",
     "output_type": "stream",
     "text": [
      "START : 1978\n",
      "START : 1979\n",
      "START : 1980\n",
      "START : 1981\n",
      "START : 1982\n",
      "START : 1983\n",
      "START : 1984\n",
      "START : 1985\n",
      "START : 1986\n",
      "START : 1987\n",
      "START : 1988\n",
      "START : 1989\n",
      "START : 1990\n",
      "START : 1991\n",
      "START : 1992\n",
      "START : 1993\n",
      "START : 1994\n",
      "START : 1995\n",
      "START : 1996\n",
      "START : 1997\n",
      "START : 1998\n",
      "START : 1999\n"
     ]
    }
   ],
   "source": [
    "if __name__ == \"__main__\":\n",
    "    main()"
   ]
  },
  {
   "cell_type": "code",
   "execution_count": 6,
   "metadata": {},
   "outputs": [
    {
     "name": "stdout",
     "output_type": "stream",
     "text": [
      "0\n",
      "1\n",
      "2\n",
      "3\n",
      "4\n",
      "5\n",
      "6\n",
      "7\n",
      "8\n",
      "9\n"
     ]
    }
   ],
   "source": [
    "for i in range(10):\n",
    "    print(i)"
   ]
  },
  {
   "cell_type": "code",
   "execution_count": null,
   "metadata": {},
   "outputs": [],
   "source": []
  }
 ],
 "metadata": {
  "kernelspec": {
   "display_name": "Python 3",
   "language": "python",
   "name": "python3"
  },
  "language_info": {
   "codemirror_mode": {
    "name": "ipython",
    "version": 3
   },
   "file_extension": ".py",
   "mimetype": "text/x-python",
   "name": "python",
   "nbconvert_exporter": "python",
   "pygments_lexer": "ipython3",
   "version": "3.7.4"
  }
 },
 "nbformat": 4,
 "nbformat_minor": 4
}
