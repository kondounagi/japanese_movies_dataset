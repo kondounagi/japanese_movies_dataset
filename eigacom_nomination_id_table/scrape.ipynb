{
 "cells": [
  {
   "cell_type": "code",
   "execution_count": 1,
   "metadata": {
    "attributes": {
     "classes": [],
     "id": "",
     "n": "1"
    }
   },
   "outputs": [],
   "source": [
    "import csv\n",
    "import logging\n",
    "logging.basicConfig(format='%(message)s')\n",
    "import requests\n",
    "from bs4 import BeautifulSoup\n",
    "import time\n",
    "import re"
   ]
  },
  {
   "cell_type": "code",
   "execution_count": 2,
   "metadata": {
    "attributes": {
     "classes": [],
     "id": "",
     "n": "2"
    }
   },
   "outputs": [],
   "source": [
    "def scrape(url_nominate):\n",
    "\n",
    "    print(\"START : \" + url_nominate)\n",
    "\n",
    "    res = requests.get(url_nominate)\n",
    "    res.encoding = res.apparent_encoding\n",
    "    soup = BeautifulSoup(res.content, \"lxml\")\n",
    "\n",
    "    table = soup.find('table', attrs={\"class\":\"_a\"})\n",
    "\n",
    "    ids = []\n",
    "\n",
    "    winner = table.find('tr', attrs={\"class\": \"prize\"})\n",
    "    winner_path = winner.find('a')[\"href\"]\n",
    "    winner_id = re.sub(\"\\\\D\", \"\", winner_path)\n",
    "    ids.append(winner_id)\n",
    "    winner.decompose()\n",
    "\n",
    "    for a in table.find_all('a'):\n",
    "        path = a[\"href\"]\n",
    "        id = re.sub(\"\\\\D\", \"\", path)\n",
    "        ids.append(id)\n",
    "\n",
    "        time.sleep(1)\n",
    "    return ids"
   ]
  },
  {
   "cell_type": "code",
   "execution_count": 3,
   "metadata": {
    "attributes": {
     "classes": [],
     "id": "",
     "n": "3"
    }
   },
   "outputs": [],
   "source": [
    "def main():\n",
    "    url = 'https://eiga.com/award/japan-academy/'\n",
    "    page = requests.get(url)\n",
    "    soup = BeautifulSoup(page.content, 'lxml')\n",
    "\n",
    "    for rel in [e[\"href\"] for e in soup.select('ul.list-inline > li > a')]:\n",
    "        match = re.search(r'\\d{4}', rel)\n",
    "        if match:\n",
    "            year = match.group(0)\n",
    "            ids = scrape(requests.compat.urljoin(url, rel))\n",
    "            with open('{}.txt'.format(year), 'w') as f:\n",
    "                for id in ids:\n",
    "                    f.write(str(id) + \"\\n\")"
   ]
  },
  {
   "cell_type": "code",
   "execution_count": 4,
   "metadata": {
    "attributes": {
     "classes": [],
     "id": "",
     "n": "4"
    }
   },
   "outputs": [
    {
     "name": "stdout",
     "output_type": "stream",
     "text": [
      "START : https://eiga.com/award/japan-academy/2018/\n",
      "START : https://eiga.com/award/japan-academy/2017/\n",
      "START : https://eiga.com/award/japan-academy/2016/\n",
      "START : https://eiga.com/award/japan-academy/2015/\n",
      "START : https://eiga.com/award/japan-academy/2014/\n",
      "START : https://eiga.com/award/japan-academy/2013/\n",
      "START : https://eiga.com/award/japan-academy/2012/\n",
      "START : https://eiga.com/award/japan-academy/2011/\n",
      "START : https://eiga.com/award/japan-academy/2010/\n",
      "START : https://eiga.com/award/japan-academy/2009/\n",
      "START : https://eiga.com/award/japan-academy/2008/\n",
      "START : https://eiga.com/award/japan-academy/2007/\n",
      "START : https://eiga.com/award/japan-academy/2006/\n",
      "START : https://eiga.com/award/japan-academy/2005/\n",
      "START : https://eiga.com/award/japan-academy/2004/\n",
      "START : https://eiga.com/award/japan-academy/2003/\n",
      "START : https://eiga.com/award/japan-academy/2002/\n",
      "START : https://eiga.com/award/japan-academy/2001/\n",
      "START : https://eiga.com/award/japan-academy/2000/\n",
      "START : https://eiga.com/award/japan-academy/1999/\n",
      "START : https://eiga.com/award/japan-academy/1998/\n",
      "START : https://eiga.com/award/japan-academy/1997/\n",
      "START : https://eiga.com/award/japan-academy/1996/\n",
      "START : https://eiga.com/award/japan-academy/1995/\n",
      "START : https://eiga.com/award/japan-academy/1994/\n",
      "START : https://eiga.com/award/japan-academy/1993/\n",
      "START : https://eiga.com/award/japan-academy/1992/\n",
      "START : https://eiga.com/award/japan-academy/1991/\n",
      "START : https://eiga.com/award/japan-academy/1990/\n",
      "START : https://eiga.com/award/japan-academy/1989/\n",
      "START : https://eiga.com/award/japan-academy/1988/\n",
      "START : https://eiga.com/award/japan-academy/1987/\n",
      "START : https://eiga.com/award/japan-academy/1986/\n",
      "START : https://eiga.com/award/japan-academy/1985/\n",
      "START : https://eiga.com/award/japan-academy/1984/\n",
      "START : https://eiga.com/award/japan-academy/1983/\n",
      "START : https://eiga.com/award/japan-academy/1982/\n",
      "START : https://eiga.com/award/japan-academy/1981/\n",
      "START : https://eiga.com/award/japan-academy/1980/\n",
      "START : https://eiga.com/award/japan-academy/1979/\n",
      "START : https://eiga.com/award/japan-academy/1978/\n"
     ]
    }
   ],
   "source": [
    "if __name__ == \"__main__\":\n",
    "    main()"
   ]
  },
  {
   "cell_type": "code",
   "execution_count": 5,
   "metadata": {
    "attributes": {
     "classes": [],
     "id": "",
     "n": "6"
    }
   },
   "outputs": [
    {
     "name": "stdout",
     "output_type": "stream",
     "text": [
      "0\n",
      "1\n",
      "2\n",
      "3\n",
      "4\n",
      "5\n",
      "6\n",
      "7\n",
      "8\n",
      "9\n"
     ]
    }
   ],
   "source": [
    "for i in range(10):\n",
    "    print(i)"
   ]
  }
 ],
 "metadata": {
  "kernelspec": {
   "display_name": "Python 3",
   "language": "python",
   "name": "python3"
  },
  "language_info": {
   "codemirror_mode": {
    "name": "ipython",
    "version": 3
   },
   "file_extension": ".py",
   "mimetype": "text/x-python",
   "name": "python",
   "nbconvert_exporter": "python",
   "pygments_lexer": "ipython3",
   "version": "3.7.4"
  }
 },
 "nbformat": 4,
 "nbformat_minor": 4
}
