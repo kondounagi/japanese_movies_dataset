{
 "cells": [
  {
   "cell_type": "code",
   "execution_count": 1,
   "metadata": {},
   "outputs": [],
   "source": [
    "import pandas as pd\n",
    "import json\n",
    "import os"
   ]
  },
  {
   "cell_type": "code",
   "execution_count": 2,
   "metadata": {},
   "outputs": [],
   "source": [
    "def create_df(year):\n",
    "    title = []\n",
    "    director = []\n",
    "    scriptwriter = []\n",
    "    performers = []\n",
    "    screen_time = []\n",
    "    production_studio = []\n",
    "    release_date = []\n",
    "    \n",
    "    meta_movie_data_path = 'meta_movie_data/'\n",
    "    filenames = os.listdir(meta_movie_data_path + str(year))\n",
    "    for filename in filenames:\n",
    "        with open(meta_movie_data_path + str(year) + \"/\"+ filename) as f:\n",
    "            meta_data = dict(json.load(f))\n",
    "            title += [meta_data['title']]\n",
    "            director += [meta_data['director']]\n",
    "            scriptwriter += [meta_data['scriptwriter']]\n",
    "            performers += [meta_data['performers']]\n",
    "            screen_time += [meta_data['screen_time']]\n",
    "            production_studio += [meta_data['production_studio']]\n",
    "            release_date += [meta_data['release_date']]\n",
    "    return pd.DataFrame(\n",
    "        data={\n",
    "            'title': title, 'director': director, 'scriptwriter': scriptwriter,\n",
    "            'performers': performers, 'screen_time': screen_time,\n",
    "            'production_studio': production_studio, 'release_date': release_date\n",
    "        },\n",
    "        columns=[\n",
    "            'title', 'director', 'scriptwriter', 'performers', 'screen_time',\n",
    "            'production_studio', 'release_date'\n",
    "        ]\n",
    "    )"
   ]
  },
  {
   "cell_type": "code",
   "execution_count": 3,
   "metadata": {},
   "outputs": [
    {
     "data": {
      "text/html": [
       "<div>\n",
       "<style scoped>\n",
       "    .dataframe tbody tr th:only-of-type {\n",
       "        vertical-align: middle;\n",
       "    }\n",
       "\n",
       "    .dataframe tbody tr th {\n",
       "        vertical-align: top;\n",
       "    }\n",
       "\n",
       "    .dataframe thead th {\n",
       "        text-align: right;\n",
       "    }\n",
       "</style>\n",
       "<table border=\"1\" class=\"dataframe\">\n",
       "  <thead>\n",
       "    <tr style=\"text-align: right;\">\n",
       "      <th></th>\n",
       "      <th>title</th>\n",
       "      <th>director</th>\n",
       "      <th>scriptwriter</th>\n",
       "      <th>performers</th>\n",
       "      <th>screen_time</th>\n",
       "      <th>production_studio</th>\n",
       "      <th>release_date</th>\n",
       "    </tr>\n",
       "  </thead>\n",
       "  <tbody>\n",
       "    <tr>\n",
       "      <th>0</th>\n",
       "      <td>TAP 完全なる飼育</td>\n",
       "      <td>[片嶋一貴]</td>\n",
       "      <td>[一雫ライオン]</td>\n",
       "      <td>[前川伶早, 西沢仁太, 有森也実, 高川裕也, 山根和馬, 尚玄, 千原せいじ, 福本清三...</td>\n",
       "      <td>106</td>\n",
       "      <td>セディックインターナショナル、電通</td>\n",
       "      <td>2013-11-09</td>\n",
       "    </tr>\n",
       "    <tr>\n",
       "      <th>1</th>\n",
       "      <td>タリウム少女の毒殺日記</td>\n",
       "      <td>[土屋豊]</td>\n",
       "      <td>[土屋豊]</td>\n",
       "      <td>[倉持由香, 渡辺真起子, 古舘寛治, 身体改造アーティストTakahashi, Takah...</td>\n",
       "      <td>82</td>\n",
       "      <td>アップリンク</td>\n",
       "      <td>2013-07-06</td>\n",
       "    </tr>\n",
       "    <tr>\n",
       "      <th>2</th>\n",
       "      <td>トゥ・ザ・ワンダー</td>\n",
       "      <td>[テレンス・マリック]</td>\n",
       "      <td>[テレンス・マリック]</td>\n",
       "      <td>[ベン・アフレック, オルガ・キュリレンコ, レイチェル・マクアダムス, ハビエル・バルデム]</td>\n",
       "      <td>112</td>\n",
       "      <td>ロングライド</td>\n",
       "      <td>2013-08-09</td>\n",
       "    </tr>\n",
       "    <tr>\n",
       "      <th>3</th>\n",
       "      <td>アンタッチャブルズ</td>\n",
       "      <td>[デビッド・シャロン]</td>\n",
       "      <td>[]</td>\n",
       "      <td>[オマール・シー, ローラン・ラフィット, サブリナ・ウアザニ, リオネル・アベランスキ, ...</td>\n",
       "      <td>95</td>\n",
       "      <td>ファインフィルムズ</td>\n",
       "      <td>2013-02-23</td>\n",
       "    </tr>\n",
       "    <tr>\n",
       "      <th>4</th>\n",
       "      <td>楽隊のうさぎ</td>\n",
       "      <td>[鈴木卓爾]</td>\n",
       "      <td>[大石三知子]</td>\n",
       "      <td>[奥田克久川崎航星, 川崎航星, 田中朝子井手しあん, 井手しあん, 前川ニキ祥子ニキ, ニ...</td>\n",
       "      <td>97</td>\n",
       "      <td>太秦、シネマ・シンジケート</td>\n",
       "      <td>2013-12-14</td>\n",
       "    </tr>\n",
       "  </tbody>\n",
       "</table>\n",
       "</div>"
      ],
      "text/plain": [
       "         title     director scriptwriter  \\\n",
       "0   TAP 完全なる飼育       [片嶋一貴]     [一雫ライオン]   \n",
       "1  タリウム少女の毒殺日記        [土屋豊]        [土屋豊]   \n",
       "2    トゥ・ザ・ワンダー  [テレンス・マリック]  [テレンス・マリック]   \n",
       "3    アンタッチャブルズ  [デビッド・シャロン]           []   \n",
       "4       楽隊のうさぎ       [鈴木卓爾]      [大石三知子]   \n",
       "\n",
       "                                          performers  screen_time  \\\n",
       "0  [前川伶早, 西沢仁太, 有森也実, 高川裕也, 山根和馬, 尚玄, 千原せいじ, 福本清三...          106   \n",
       "1  [倉持由香, 渡辺真起子, 古舘寛治, 身体改造アーティストTakahashi, Takah...           82   \n",
       "2    [ベン・アフレック, オルガ・キュリレンコ, レイチェル・マクアダムス, ハビエル・バルデム]          112   \n",
       "3  [オマール・シー, ローラン・ラフィット, サブリナ・ウアザニ, リオネル・アベランスキ, ...           95   \n",
       "4  [奥田克久川崎航星, 川崎航星, 田中朝子井手しあん, 井手しあん, 前川ニキ祥子ニキ, ニ...           97   \n",
       "\n",
       "   production_studio release_date  \n",
       "0  セディックインターナショナル、電通   2013-11-09  \n",
       "1             アップリンク   2013-07-06  \n",
       "2             ロングライド   2013-08-09  \n",
       "3          ファインフィルムズ   2013-02-23  \n",
       "4      太秦、シネマ・シンジケート   2013-12-14  "
      ]
     },
     "execution_count": 3,
     "metadata": {},
     "output_type": "execute_result"
    }
   ],
   "source": [
    "df_2013 = create_df(2013)\n",
    "df_2013.head()"
   ]
  },
  {
   "cell_type": "markdown",
   "metadata": {},
   "source": [
    "## TEST"
   ]
  },
  {
   "cell_type": "code",
   "execution_count": 24,
   "metadata": {},
   "outputs": [
    {
     "name": "stdout",
     "output_type": "stream",
     "text": [
      "{'title': 'ZEN FOR NOTHING〜何でもない禅〜', 'director': ['ベルナー・ペンツェル', '茂木綾子'], 'scriptwriter': [], 'performers': ['サビーネ・ティモテオ', 'ネルケ無方'], 'screen_time': 100, 'production_studio': 'silent voice', 'release_date': '2018-01-02'}\n"
     ]
    }
   ],
   "source": [
    "with open(\"japanese_movies_dataset/meta_movie_data/2018/1.json\") as json_file:\n",
    "    json_dict = dict(json.load(json_file))\n",
    "    # print(json_dict)\n",
    "    record = pd.Series(json_dict)"
   ]
  },
  {
   "cell_type": "code",
   "execution_count": 25,
   "metadata": {},
   "outputs": [
    {
     "data": {
      "text/plain": [
       "title                ZEN FOR NOTHING〜何でもない禅〜\n",
       "director                  [ベルナー・ペンツェル, 茂木綾子]\n",
       "scriptwriter                              []\n",
       "performers               [サビーネ・ティモテオ, ネルケ無方]\n",
       "screen_time                              100\n",
       "production_studio               silent voice\n",
       "release_date                      2018-01-02\n",
       "dtype: object"
      ]
     },
     "execution_count": 25,
     "metadata": {},
     "output_type": "execute_result"
    }
   ],
   "source": [
    "record"
   ]
  },
  {
   "cell_type": "code",
   "execution_count": 14,
   "metadata": {},
   "outputs": [],
   "source": [
    "record = pd.Series(dict(A='A', B='B'))"
   ]
  },
  {
   "cell_type": "code",
   "execution_count": null,
   "metadata": {},
   "outputs": [],
   "source": []
  }
 ],
 "metadata": {
  "kernelspec": {
   "display_name": "Python 3",
   "language": "python",
   "name": "python3"
  },
  "language_info": {
   "codemirror_mode": {
    "name": "ipython",
    "version": 3
   },
   "file_extension": ".py",
   "mimetype": "text/x-python",
   "name": "python",
   "nbconvert_exporter": "python",
   "pygments_lexer": "ipython3",
   "version": "3.6.3"
  }
 },
 "nbformat": 4,
 "nbformat_minor": 4
}
