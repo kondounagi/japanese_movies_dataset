{
 "cells": [
  {
   "cell_type": "code",
   "execution_count": 17,
   "metadata": {},
   "outputs": [],
   "source": [
    "from lxml import html\n",
    "import requests\n",
    "from bs4 import BeautifulSoup\n",
    "import re\n",
    "import json"
   ]
  },
  {
   "cell_type": "code",
   "execution_count": 2,
   "metadata": {},
   "outputs": [],
   "source": [
    "def get_movie_ids_from_list_page_soup(list_page_soup):\n",
    "    \"\"\"\n",
    "    get movie_id from list_page_soup\n",
    "    \"\"\"\n",
    "    movies = list_page_soup.find_all('div', class_=\"p-movie-cassette js-movie-cassette\")\n",
    "    \n",
    "    if not movies:\n",
    "        return False\n",
    "    movie_ids = []\n",
    "    \n",
    "    for i in range(len(movies)):\n",
    "        data_clip = movies[i].get('data-clip')\n",
    "        movie_id = int(re.match(r'^.*\"movie_id\":(\\d{5}).*', data_clip).group(1))\n",
    "        movie_ids.append(movie_id)\n",
    "        \n",
    "    return movie_ids"
   ]
  },
  {
   "cell_type": "code",
   "execution_count": 3,
   "metadata": {},
   "outputs": [],
   "source": [
    "def get_all_movie_ids(base_url):\n",
    "    \"\"\"\n",
    "    get all movie ids from base url \n",
    "    (ex. https://filmarks.com/list/year/2010s/2018)\n",
    "    \"\"\"\n",
    "    all_movie_ids = []\n",
    "    page_number = 1\n",
    "    while True :\n",
    "        # request GET\n",
    "        if page_number == 1:\n",
    "            page = requests.get(base_url)\n",
    "        else:\n",
    "            payload = {'page': '{}'.format(page_number)}\n",
    "            page = requests.get(base_url, params=payload)\n",
    "        list_page_soup = BeautifulSoup(page.content, 'html.parser')\n",
    "        \n",
    "        movie_ids = get_movie_ids_from_list_page_soup(list_page_soup)\n",
    "        if not movie_ids:\n",
    "            break\n",
    "        else:\n",
    "            all_movie_ids.extend(movie_ids)\n",
    "            page_number += 1\n",
    "    return all_movie_ids"
   ]
  },
  {
   "cell_type": "code",
   "execution_count": 4,
   "metadata": {},
   "outputs": [],
   "source": [
    "def get_reviews_from_individual_page_soup(individual_page_soup):\n",
    "    \"\"\"\n",
    "    parse indivisual_page_soup and return reviews's list\n",
    "    \"\"\"\n",
    "    reviews_obj = individual_page_soup.find_all('div', class_=\"p-mark__review\")\n",
    "    if not reviews_obj:\n",
    "        return False\n",
    "    else:\n",
    "        return [reviews_obj[i].text for i in range(len(reviews_obj))]"
   ]
  },
  {
   "cell_type": "code",
   "execution_count": 5,
   "metadata": {},
   "outputs": [],
   "source": [
    "def get_reviews_from_movie_id(movie_id):\n",
    "    \"\"\"\n",
    "    get all reviews tied to a given movie_id\n",
    "    and return a list of them\n",
    "    \"\"\"\n",
    "    all_reviews = []\n",
    "    base_url = 'https://filmarks.com/movies/' + str(movie_id)\n",
    "    page_number = 1\n",
    "    while True :\n",
    "        # request GET\n",
    "        if page_number == 1:\n",
    "            page = requests.get(base_url)\n",
    "        else:\n",
    "            payload = {'page': '{}'.format(page_number)}\n",
    "            page = requests.get(base_url, params=payload)\n",
    "        individual_page_soup = BeautifulSoup(page.content, 'html.parser')\n",
    "        \n",
    "        reviews = get_reviews_from_individual_page_soup(individual_page_soup)\n",
    "        if not reviews:\n",
    "            break\n",
    "        else:\n",
    "            all_reviews.extend(reviews)\n",
    "            page_number += 1\n",
    "    return all_reviews"
   ]
  },
  {
   "cell_type": "code",
   "execution_count": 6,
   "metadata": {},
   "outputs": [],
   "source": [
    "def get_title_from_movie_id(movie_id):\n",
    "    base_url = 'https://filmarks.com/movies/' + str(movie_id)\n",
    "    page = requests.get(base_url)\n",
    "    soup = BeautifulSoup(page.content, 'html.parser')\n",
    "    title = soup.find('h2', class_=\"p-content-detail__title\").span.text\n",
    "    return title"
   ]
  },
  {
   "cell_type": "code",
   "execution_count": 19,
   "metadata": {},
   "outputs": [],
   "source": [
    "def write_json(title, filmarks_reviews):\n",
    "    data = {}\n",
    "    data[\"title\"] = title\n",
    "    reviews = {}\n",
    "    reviews[\"filmarks\"] = filmarks_reviews\n",
    "    data[\"reviews\"] = reviews\n",
    "    with open('jsons/{}.json'.format(title), \"w\", encoding=\"utf-8\") as f:\n",
    "        json.dump(data, f, sort_keys=True, indent=4, separators=(',', ': '))"
   ]
  },
  {
   "cell_type": "code",
   "execution_count": null,
   "metadata": {},
   "outputs": [],
   "source": [
    "import csv\n",
    "#print(all_movie_ids)\n",
    "with open('movie_ids.csv', 'w', encoding='utf-8') as f:\n",
    "    writer = csv.writer(f, lineterminator='\\n')\n",
    "    writer.writerow(all_movie_ids)"
   ]
  },
  {
   "cell_type": "code",
   "execution_count": null,
   "metadata": {},
   "outputs": [],
   "source": [
    "for i in len(all_movie_ids):\n",
    "    movie_id = all_movie_ids[i]\n",
    "    title = get_title_from_movie_id(movie_id)\n",
    "    reviews = get_reviews_from_movie_id(movie_id)\n",
    "    "
   ]
  },
  {
   "cell_type": "markdown",
   "metadata": {},
   "source": [
    "## TEST"
   ]
  },
  {
   "cell_type": "code",
   "execution_count": null,
   "metadata": {},
   "outputs": [],
   "source": [
    "get_title_from_movie_id(79340)"
   ]
  },
  {
   "cell_type": "code",
   "execution_count": 20,
   "metadata": {},
   "outputs": [],
   "source": [
    "write_json(\"おはよ\", [1, 2, {'3': 3}, {'4': 4}])"
   ]
  },
  {
   "cell_type": "code",
   "execution_count": null,
   "metadata": {},
   "outputs": [],
   "source": []
  }
 ],
 "metadata": {
  "kernelspec": {
   "display_name": "Python 3",
   "language": "python",
   "name": "python3"
  },
  "language_info": {
   "codemirror_mode": {
    "name": "ipython",
    "version": 3
   },
   "file_extension": ".py",
   "mimetype": "text/x-python",
   "name": "python",
   "nbconvert_exporter": "python",
   "pygments_lexer": "ipython3",
   "version": "3.7.3"
  }
 },
 "nbformat": 4,
 "nbformat_minor": 2
}
