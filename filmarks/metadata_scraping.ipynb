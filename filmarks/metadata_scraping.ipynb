{
 "cells": [
  {
   "cell_type": "code",
   "execution_count": 1,
   "metadata": {},
   "outputs": [],
   "source": [
    "from lxml import html\n",
    "import requests\n",
    "from bs4 import BeautifulSoup\n",
    "import re\n",
    "import json"
   ]
  },
  {
   "cell_type": "code",
   "execution_count": 2,
   "metadata": {},
   "outputs": [],
   "source": [
    "def get_rating_from_soup(soup):\n",
    "    rating = soup.find('div', class_=\"c-rating__score\").text\n",
    "    try:\n",
    "        return float(rating)\n",
    "    except:\n",
    "        return None\n",
    "# get_rating_from_soup(get_soup_from_movie_id(85659))"
   ]
  },
  {
   "cell_type": "code",
   "execution_count": 3,
   "metadata": {},
   "outputs": [],
   "source": [
    "def get_genres_from_soup(soup):\n",
    "    try:\n",
    "        lis = soup.find('div', class_=\"p-content-detail__genre\").ul\n",
    "        genres = [a.text for a in lis]\n",
    "        return genres\n",
    "    except:\n",
    "        return None\n",
    "# get_genres_from_soup(get_soup_from_movie_id(82210))"
   ]
  },
  {
   "cell_type": "code",
   "execution_count": 4,
   "metadata": {},
   "outputs": [],
   "source": [
    "def get_synopsis_from_soup(soup):\n",
    "    try:\n",
    "        p = soup.find('div', {\"id\": \"js-content-detail-synopsis\"}) \\\n",
    "            .find(\"content-detail-synopsis\") \\\n",
    "            .get(\":outline\") \\\n",
    "            .strip(r'\"')\n",
    "        return p\n",
    "    except:\n",
    "        return None\n",
    "# get_synopsis_from_soup(get_soup_from_movie_id(82210))"
   ]
  },
  {
   "cell_type": "code",
   "execution_count": 5,
   "metadata": {},
   "outputs": [],
   "source": [
    "def get_soup_from_movie_id(movie_id):\n",
    "    base_url = 'https://filmarks.com/movies/' + str(movie_id)\n",
    "    page = requests.get(base_url)\n",
    "    individual_page_soup = BeautifulSoup(page.content, 'html.parser')\n",
    "    return individual_page_soup"
   ]
  },
  {
   "cell_type": "code",
   "execution_count": 6,
   "metadata": {},
   "outputs": [],
   "source": [
    "def get_title_from_movie_id(movie_id):\n",
    "    base_url = 'https://filmarks.com/movies/' + str(movie_id)\n",
    "    page = requests.get(base_url)\n",
    "    soup = BeautifulSoup(page.content, 'html.parser')\n",
    "    title = soup.find('h2', class_=\"p-content-detail__title\").span.text\n",
    "    \n",
    "    return trans(title)"
   ]
  },
  {
   "cell_type": "code",
   "execution_count": 7,
   "metadata": {},
   "outputs": [],
   "source": [
    "def trans(title_string):\n",
    "    \"\"\"\n",
    "    return regulated input (movie's title) \n",
    "    \"\"\"\n",
    "    table = str.maketrans({\n",
    "        '１': '1',\n",
    "        '２': '2',\n",
    "        '３': '3',\n",
    "        '４': '4',\n",
    "        '５': '5',\n",
    "        '６': '6',\n",
    "        '７': '7',\n",
    "        '８': '8',\n",
    "        '９': '9',\n",
    "        '０': '0',\n",
    "        '＆': '&',\n",
    "        '％': '%',\n",
    "         '＝': '=',\n",
    "        '＄': '$',\n",
    "        '＃': '#',\n",
    "        '！': '!',\n",
    "        '？': '?'\n",
    "    })\n",
    "    regulated_title = re.sub(r'（[^（）]*）', '', title_string)\n",
    "    regulated_title = re.sub(r'\\([^\\(\\)]*\\)', '', regulated_title)\n",
    "    regulated_title = re.sub(r'[\\s\\-～〜:：;、。<>＜＞「」\\\"\\',\\.・/／－]+', ' ', regulated_title)\n",
    "    regulated_title = regulated_title.translate(table)\n",
    "    regulated_title = regulated_title.rstrip(' ')\n",
    "    return regulated_title"
   ]
  },
  {
   "cell_type": "code",
   "execution_count": 8,
   "metadata": {},
   "outputs": [],
   "source": [
    "def write_json(year, title, genre, rating, synopsis):\n",
    "    data = {}\n",
    "    data[\"title\"] = title\n",
    "    data = {}\n",
    "    data[\"genre\"] = genre\n",
    "    data[\"rating\"] = rating\n",
    "    data[\"synopsis\"] = synopsis\n",
    "    with open('jsons/metadata/{}/{}.json'.format(year, title), \"w\", encoding=\"utf-8\") as f:\n",
    "        json.dump(data, f, sort_keys=True, indent=4, separators=(',', ': '))"
   ]
  },
  {
   "cell_type": "code",
   "execution_count": null,
   "metadata": {},
   "outputs": [],
   "source": [
    "def main(movie_ids, year):\n",
    "    for movie_id in movie_ids:\n",
    "        title = get_title_from_movie_id(movie_id)\n",
    "        #print(\"title: {}\".format(title))\n",
    "        \n",
    "        soup = get_soup_from_movie_id(movie_id)\n",
    "        genre = get_genres_from_soup(soup)\n",
    "        rating = get_rating_from_soup(soup)\n",
    "        synopsis = get_synopsis_from_soup(soup)\n",
    "        #print(\"genre: {}, rating: {}, synopsis: {}\".format(genre, rating, synopsis))\n",
    "        \n",
    "        write_json(year, title, genre, rating, synopsis)\n",
    "#main(all_movie_ids)"
   ]
  },
  {
   "cell_type": "code",
   "execution_count": null,
   "metadata": {},
   "outputs": [],
   "source": [
    "# read movie_ids.csv\n",
    "import csv\n",
    "for year in range(2008, 2013):\n",
    "    movie_ids = []\n",
    "    with open('movie_ids_{}.csv'.format(year), 'r', encoding='utf-8') as f:\n",
    "        reader = csv.reader(f, delimiter=',')\n",
    "        for row in reader:\n",
    "            movie_ids.extend(row)\n",
    "    main(movie_ids, year)"
   ]
  },
  {
   "cell_type": "markdown",
   "metadata": {},
   "source": [
    "## TEST"
   ]
  }
 ],
 "metadata": {
  "kernelspec": {
   "display_name": "Python 3",
   "language": "python",
   "name": "python3"
  },
  "language_info": {
   "codemirror_mode": {
    "name": "ipython",
    "version": 3
   },
   "file_extension": ".py",
   "mimetype": "text/x-python",
   "name": "python",
   "nbconvert_exporter": "python",
   "pygments_lexer": "ipython3",
   "version": "3.7.3"
  }
 },
 "nbformat": 4,
 "nbformat_minor": 2
}
