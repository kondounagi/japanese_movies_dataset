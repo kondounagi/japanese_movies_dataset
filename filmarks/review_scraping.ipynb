{
 "cells": [
  {
   "cell_type": "code",
   "execution_count": 1,
   "metadata": {},
   "outputs": [],
   "source": [
    "from lxml import html\n",
    "import requests\n",
    "from bs4 import BeautifulSoup\n",
    "import re\n",
    "import json"
   ]
  },
  {
   "cell_type": "code",
   "execution_count": 2,
   "metadata": {},
   "outputs": [],
   "source": [
    "def get_page_soup_from_href(href):\n",
    "    url = 'https://filmarks.com' + str(href)\n",
    "    page = requests.get(url)\n",
    "    soup = BeautifulSoup(page.content, 'html.parser')\n",
    "    return soup"
   ]
  },
  {
   "cell_type": "code",
   "execution_count": 14,
   "metadata": {},
   "outputs": [],
   "source": [
    "def get_movie_ids_from_list_page_soup(list_page_soup):\n",
    "    \"\"\"\n",
    "    get movie_id from list_page_soup\n",
    "    \"\"\"\n",
    "    movies = list_page_soup.find_all('div', class_=\"p-movie-cassette js-movie-cassette\")\n",
    "    \n",
    "    if not movies:\n",
    "        return False\n",
    "    movie_ids = []\n",
    "    \n",
    "    for i in range(len(movies)):\n",
    "        data_clip = movies[i].get('data-clip')\n",
    "        #print(data_clip)\n",
    "        movie_id = int(re.match(r'^.*\"movie_id\":(\\d+).*', data_clip).group(1))\n",
    "        movie_ids.append(movie_id)\n",
    "        \n",
    "    return movie_ids"
   ]
  },
  {
   "cell_type": "code",
   "execution_count": 15,
   "metadata": {},
   "outputs": [],
   "source": [
    "def get_all_movie_ids(base_url):\n",
    "    \"\"\"\n",
    "    get all movie ids from base url \n",
    "    (ex. https://filmarks.com/list/year/2010s/2018)\n",
    "    \"\"\"\n",
    "    all_movie_ids = []\n",
    "    page_number = 1\n",
    "    while True :\n",
    "        # request GET\n",
    "        if page_number == 1:\n",
    "            page = requests.get(base_url)\n",
    "        else:\n",
    "            payload = {'page': '{}'.format(page_number)}\n",
    "            page = requests.get(base_url, params=payload)\n",
    "        list_page_soup = BeautifulSoup(page.content, 'html.parser')\n",
    "        \n",
    "        movie_ids = get_movie_ids_from_list_page_soup(list_page_soup)\n",
    "        if not movie_ids:\n",
    "            break\n",
    "        else:\n",
    "            all_movie_ids.extend(movie_ids)\n",
    "            page_number += 1\n",
    "    return all_movie_ids"
   ]
  },
  {
   "cell_type": "code",
   "execution_count": 16,
   "metadata": {},
   "outputs": [],
   "source": [
    "def get_reviews_from_individual_page_soup(individual_page_soup):\n",
    "    \"\"\"\n",
    "    parse indivisual_page_soup and return reviews's list\n",
    "    \"\"\"\n",
    "    reviews_obj = individual_page_soup.find_all('div', class_=\"p-mark__review\")\n",
    "    if not reviews_obj:\n",
    "        return False\n",
    "    else:\n",
    "        return [str(reviews_obj[i].text) for i in range(len(reviews_obj))]"
   ]
  },
  {
   "cell_type": "code",
   "execution_count": 17,
   "metadata": {},
   "outputs": [],
   "source": [
    "def get_reviews_from_movie_id(movie_id):\n",
    "    \"\"\"\n",
    "    get all reviews tied to a given movie_id\n",
    "    and return a list of them\n",
    "    \"\"\"\n",
    "    all_reviews = []\n",
    "    base_url = 'https://filmarks.com/movies/' + str(movie_id)\n",
    "    page_number = 1\n",
    "    while True :\n",
    "        # request GET\n",
    "        if page_number == 1:\n",
    "            page = requests.get(base_url)\n",
    "        else:\n",
    "            payload = {'page': '{}'.format(page_number)}\n",
    "            page = requests.get(base_url, params=payload)\n",
    "        individual_page_soup = BeautifulSoup(page.content, 'html.parser')\n",
    "        \n",
    "        reviews = get_reviews_from_individual_page_soup(individual_page_soup)\n",
    "        if not reviews:\n",
    "            break\n",
    "        else:\n",
    "            all_reviews.extend(reviews)\n",
    "            #print(len(reviews))\n",
    "            page_number += 1\n",
    "    return all_reviews"
   ]
  },
  {
   "cell_type": "code",
   "execution_count": 18,
   "metadata": {},
   "outputs": [],
   "source": [
    "def get_last_page_soup(movie_id):\n",
    "    base_url = 'https://filmarks.com/movies/'\n",
    "    page = requests.get(base_url + str(movie_id))\n",
    "    soup = BeautifulSoup(page.content, 'html.parser')\n",
    "    \n",
    "    href = soup.find('a', class_=\"c-pagination__last\").get(\"href\")\n",
    "    return get_page_soup_from_href(href)\n",
    "# get_last_page_url(79340)"
   ]
  },
  {
   "cell_type": "code",
   "execution_count": 19,
   "metadata": {},
   "outputs": [],
   "source": [
    "def get_previous_page(page_soup):\n",
    "    base_url = 'https://filmarks.com/movies/'\n",
    "    prev_page_loc = soup.find(\"a\", class_=\"pagination__prev\").get(\"href\")\n",
    "    if prev_page_loc is None:\n",
    "        return False\n",
    "    else:\n",
    "        prev_page = requests.get(base_url + str(prev_page_loc))\n",
    "        prev_soup = BeautifulSoup(page.content, 'html.parser')\n",
    "        return prev_soup"
   ]
  },
  {
   "cell_type": "code",
   "execution_count": 20,
   "metadata": {},
   "outputs": [],
   "source": [
    "def get_last_5_page_reviews(movie_id):\n",
    "    last_page_url = get_last_page_url(movie_id)\n",
    "    page = requests.get(last_page_url)\n",
    "    soup = BeautifulSoup(page.content, 'html.parser')\n",
    "    reviews = []\n",
    "    for i in range(5):\n",
    "        page_reviews = get_reviews_from_individual_page_soup(soup)\n",
    "        if page_reviews is False:\n",
    "            return reviews\n",
    "        else:\n",
    "            reviews.extend(page_reviews)\n",
    "            # previous page を取得\n",
    "            get_previous_page"
   ]
  },
  {
   "cell_type": "code",
   "execution_count": 21,
   "metadata": {},
   "outputs": [],
   "source": [
    "def get_title_from_movie_id(movie_id):\n",
    "    base_url = 'https://filmarks.com/movies/' + str(movie_id)\n",
    "    page = requests.get(base_url)\n",
    "    soup = BeautifulSoup(page.content, 'html.parser')\n",
    "    title = soup.find('h2', class_=\"p-content-detail__title\").span.text\n",
    "    return title"
   ]
  },
  {
   "cell_type": "code",
   "execution_count": 22,
   "metadata": {},
   "outputs": [],
   "source": [
    "def write_json(title, filmarks_reviews):\n",
    "    data = {}\n",
    "    data[\"title\"] = title\n",
    "    reviews = {}\n",
    "    reviews[\"filmarks\"] = filmarks_reviews\n",
    "    data[\"reviews\"] = reviews\n",
    "    with open('jsons/{}.json'.format(title), \"w\", encoding=\"utf-8\") as f:\n",
    "        json.dump(data, f, sort_keys=True, indent=4, separators=(',', ': '))"
   ]
  },
  {
   "cell_type": "code",
   "execution_count": 23,
   "metadata": {},
   "outputs": [],
   "source": [
    "def main(movie_ids):\n",
    "    for movie_id in movie_ids:\n",
    "        title = get_title_from_movie_id(movie_id)\n",
    "        print(\"title: {}\".format(title))\n",
    "        reviews = get_reviews_from_movie_id(movie_id)\n",
    "        print(\"reveiws: {}\".format(len(reviews)))\n",
    "        write_json(title, reviews)\n",
    "\n",
    "#main(all_movie_ids)"
   ]
  },
  {
   "cell_type": "code",
   "execution_count": null,
   "metadata": {},
   "outputs": [],
   "source": []
  },
  {
   "cell_type": "code",
   "execution_count": null,
   "metadata": {},
   "outputs": [
    {
     "name": "stdout",
     "output_type": "stream",
     "text": [
      "base_url: https://filmarks.com/list/year/2010s/2013\n",
      "base_url: https://filmarks.com/list/year/2010s/2014\n",
      "base_url: https://filmarks.com/list/year/2010s/2015\n",
      "base_url: https://filmarks.com/list/year/2010s/2016\n"
     ]
    }
   ],
   "source": [
    "# write all_movie_ids as csv\n",
    "import csv\n",
    "#print(all_movie_ids)\n",
    "for year in range(2013, 2018):\n",
    "    if year < 2010:\n",
    "        year_s = '2000s'\n",
    "    else:\n",
    "        year_s = '2010s'\n",
    "    print(\"base_url: https://filmarks.com/list/year/{}/{}\".format(year_s, year))\n",
    "    all_movie_ids = get_all_movie_ids(\"https://filmarks.com/list/year/{}/{}\".format(year_s, year))\n",
    "    with open('movie_ids_{}.csv'.format(year), 'w', encoding='utf-8') as f:\n",
    "        writer = csv.writer(f, lineterminator='\\n')\n",
    "        writer.writerow(all_movie_ids)"
   ]
  },
  {
   "cell_type": "code",
   "execution_count": 20,
   "metadata": {},
   "outputs": [],
   "source": [
    "# read movie_ids.csv\n",
    "import csv\n",
    "all_movie_ids = []\n",
    "with open('movie_ids.csv', 'r', encoding='utf-8') as f:\n",
    "    reader = csv.reader(f, delimiter=',')\n",
    "    for row in reader:\n",
    "        all_movie_ids.extend(row)"
   ]
  },
  {
   "cell_type": "markdown",
   "metadata": {},
   "source": [
    "## TEST"
   ]
  },
  {
   "cell_type": "code",
   "execution_count": null,
   "metadata": {},
   "outputs": [],
   "source": []
  }
 ],
 "metadata": {
  "kernelspec": {
   "display_name": "Python 3",
   "language": "python",
   "name": "python3"
  },
  "language_info": {
   "codemirror_mode": {
    "name": "ipython",
    "version": 3
   },
   "file_extension": ".py",
   "mimetype": "text/x-python",
   "name": "python",
   "nbconvert_exporter": "python",
   "pygments_lexer": "ipython3",
   "version": "3.6.3"
  }
 },
 "nbformat": 4,
 "nbformat_minor": 4
}
