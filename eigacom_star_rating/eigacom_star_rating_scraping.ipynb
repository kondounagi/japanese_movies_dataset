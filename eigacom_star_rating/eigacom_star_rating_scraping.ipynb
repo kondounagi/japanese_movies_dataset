{
 "cells": [
  {
   "cell_type": "code",
   "execution_count": 6,
   "metadata": {},
   "outputs": [],
   "source": [
    "import csv\n",
    "import logging\n",
    "import requests\n",
    "from bs4 import BeautifulSoup\n",
    "import time\n",
    "import re\n",
    "import json"
   ]
  },
  {
   "cell_type": "code",
   "execution_count": 7,
   "metadata": {},
   "outputs": [],
   "source": [
    "logging.basicConfig(format='%(message)s')"
   ]
  },
  {
   "cell_type": "code",
   "execution_count": 8,
   "metadata": {},
   "outputs": [],
   "source": [
    "def normalize_query(q):\n",
    "    q = q.replace('\\n', '')\n",
    "    q = q.replace('（', '(')\n",
    "    q = q.replace('）', ')')\n",
    "    q = re.sub(r\"\\(.+\\)$\", \"\", \" \".join(q))\n",
    "    q = re.sub('(!|\\u3000|/|\\\\s|>|<|\\\\.)+', \" \", q)\n",
    "    return q"
   ]
  },
  {
   "cell_type": "code",
   "execution_count": 9,
   "metadata": {},
   "outputs": [],
   "source": [
    "def search(q):\n",
    "    url_search = 'https://eiga.com/search/{}' .format(requests.utils.quote(normalize_query(q), safe=''))\n",
    "    res_search = requests.get(url_search )\n",
    "    res_search.encoding = res_search.apparent_encoding\n",
    "    \n",
    "    soup_search = BeautifulSoup(res_search.content, \"lxml\")\n",
    "    result =  soup_search.find('section', attrs={\"id\": \"rslt-movie\"})\n",
    "    if result != None:\n",
    "        path = result.find('li', attrs={\"class\": \"col-s-3\"}).find('a')[\"href\"]\n",
    "        url_review = 'https://eiga.com' + path\n",
    "        return url_review\n",
    "    else:\n",
    "        return None"
   ]
  },
  {
   "cell_type": "code",
   "execution_count": 10,
   "metadata": {},
   "outputs": [],
   "source": [
    "def scrape(query):\n",
    "    data = {\n",
    "        \"id\": -1,\n",
    "        \"rating\": -1,\n",
    "        \"check-in\":-1,\n",
    "        \"review-count\":-1\n",
    "    }\n",
    "    print(\"START : \" + query)\n",
    "    url_review=search(query)\n",
    "    \n",
    "    if url_review is None:\n",
    "        logging.warning(\"**************************************************\")\n",
    "        logging.warning(q + \" HAS NO RESULT\")\n",
    "        logging.warning(\"**************************************************\")\n",
    "        return None\n",
    "\n",
    "    res = requests.get(url_review)\n",
    "    res.encoding = res.apparent_encoding\n",
    "    soup = BeautifulSoup(res.content, \"lxml\")\n",
    "    \n",
    "    rating = soup.find('span', attrs={\"class\": \"rating-star\"})\n",
    "    review_count = soup.find('span', attrs={\"itemprop\": \"reviewCount\"})\n",
    "    check_in = soup.find('a', attrs={\"class\": \"icon-movie-checkin\"}).find('strong')\n",
    "    data[\"rating\"] = 0 if rating.text == '－' else float(rating.text)\n",
    "    data[\"review-count\"] = 0 if review_count is None else int(review_count.text)\n",
    "    data[\"check-in\"] = 0 if check_in is None else int(check_in.text)\n",
    "        \n",
    "    return data"
   ]
  },
  {
   "cell_type": "code",
   "execution_count": 15,
   "metadata": {
    "scrolled": false
   },
   "outputs": [],
   "source": [
    "def main():\n",
    "    with open( '../2018_movie_clean', 'r') as movie_clean:\n",
    "        for line in csv.reader(movie_clean, delimiter='\\t'):\n",
    "            movie_id, title, *_ = line\n",
    "            output_file = './{}.json'.format(movie_id)\n",
    "            with open(output_file, 'w') as f:\n",
    "                print(movie_id)\n",
    "                data = scrape(title)\n",
    "                if data == None:\n",
    "                    continue\n",
    "                data[\"id\"] = int(movie_id)\n",
    "                json.dump(data, f, ensure_ascii=False, indent=2) \n",
    "            time.sleep(1)"
   ]
  },
  {
   "cell_type": "code",
   "execution_count": 17,
   "metadata": {},
   "outputs": [],
   "source": [
    "if __name__ == '__main__':\n",
    "    main()"
   ]
  },
  {
   "cell_type": "code",
   "execution_count": null,
   "metadata": {},
   "outputs": [],
   "source": []
  }
 ],
 "metadata": {
  "kernelspec": {
   "display_name": "Python 3",
   "language": "python",
   "name": "python3"
  },
  "language_info": {
   "codemirror_mode": {
    "name": "ipython",
    "version": 3
   },
   "file_extension": ".py",
   "mimetype": "text/x-python",
   "name": "python",
   "nbconvert_exporter": "python",
   "pygments_lexer": "ipython3",
   "version": "3.6.8"
  }
 },
 "nbformat": 4,
 "nbformat_minor": 2
}
