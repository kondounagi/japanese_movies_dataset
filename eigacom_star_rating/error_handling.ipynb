{
 "cells": [
  {
   "cell_type": "code",
   "execution_count": 1,
   "metadata": {},
   "outputs": [],
   "source": [
    "import requests\n",
    "from bs4 import BeautifulSoup\n",
    "import json\n",
    "import time"
   ]
  },
  {
   "cell_type": "code",
   "execution_count": 18,
   "metadata": {},
   "outputs": [],
   "source": [
    "errors = [\n",
    "    (86670, 38),\n",
    "    (88247,55),\n",
    "    (86032, 190),\n",
    "    (87955, 236),\n",
    "    (89094, 310),\n",
    "    (89250 , 342),\n",
    "    (89095 , 371),\n",
    "    (89180 ,431 ),\n",
    "    (89096 , 599),\n",
    "    (90052 ,700 ),\n",
    "    (87985 ,792 ),\n",
    "    (88869,834),\n",
    "]"
   ]
  },
  {
   "cell_type": "code",
   "execution_count": 2,
   "metadata": {},
   "outputs": [],
   "source": [
    "def scrape(id_in, id_out):\n",
    "    page_num = 1\n",
    "    data = {\n",
    "        \"id\": id_out,\n",
    "        \"rating\": -1,\n",
    "        \"check-in\":-1,\n",
    "        \"review-count\":-1\n",
    "    }\n",
    "    url_review = \"https://eiga.com/movie/\" + str(id_in)\n",
    "    \n",
    "    if(url_review == \"error\"):\n",
    "        return \"error\"\n",
    "    \n",
    "\n",
    "    res = requests.get(url_review)\n",
    "    res.encoding = res.apparent_encoding\n",
    "    soup = BeautifulSoup(res.content, \"lxml\")\n",
    "    \n",
    "    rating = soup.find('span', attrs={\"class\": \"rating-star\"})\n",
    "    review_count = soup.find('span', attrs={\"itemprop\": \"reviewCount\"})\n",
    "    check_in = soup.find('a', attrs={\"class\": \"icon-movie-checkin\"}).find('strong')\n",
    "    data[\"rating\"] = 0 if rating.text == '－' else float(rating.text)\n",
    "    data[\"review-count\"] = 0 if review_count is None else int(review_count.text)\n",
    "    data[\"check-in\"] = 0 if check_in is None else int(check_in.text)\n",
    "    print('DONE : ' + str(id_out) )\n",
    "    return data"
   ]
  },
  {
   "cell_type": "code",
   "execution_count": 3,
   "metadata": {},
   "outputs": [],
   "source": [
    "#追記： カメラを止めるな\n",
    "# errors = [(88047, 314)]"
   ]
  },
  {
   "cell_type": "code",
   "execution_count": 4,
   "metadata": {},
   "outputs": [
    {
     "name": "stdout",
     "output_type": "stream",
     "text": [
      "DONE : 314\n"
     ]
    }
   ],
   "source": [
    "for id_in, id_out in errors:\n",
    "    output_file = './{0}.json'.format(id_out)\n",
    "    with open(output_file, 'w') as f:\n",
    "        data = scrape(id_in, id_out)\n",
    "        jsn =  json.dumps(data,ensure_ascii=False, indent=2) \n",
    "        f.write(jsn)   \n",
    "    f.close()\n",
    "    time.sleep(1)"
   ]
  }
 ],
 "metadata": {
  "kernelspec": {
   "display_name": "Python 3",
   "language": "python",
   "name": "python3"
  },
  "language_info": {
   "codemirror_mode": {
    "name": "ipython",
    "version": 3
   },
   "file_extension": ".py",
   "mimetype": "text/x-python",
   "name": "python",
   "nbconvert_exporter": "python",
   "pygments_lexer": "ipython3",
   "version": "3.6.8"
  }
 },
 "nbformat": 4,
 "nbformat_minor": 2
}
