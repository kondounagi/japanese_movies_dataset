{
 "cells": [
  {
   "cell_type": "code",
   "execution_count": 20,
   "metadata": {},
   "outputs": [],
   "source": [
    "import csv\n",
    "import logging\n",
    "import requests\n",
    "from bs4 import BeautifulSoup\n",
    "import time\n",
    "import re\n",
    "import json\n",
    "logging.basicConfig(format='%(message)s')"
   ]
  },
  {
   "cell_type": "code",
   "execution_count": 21,
   "metadata": {},
   "outputs": [],
   "source": [
    "def normalize_query(q):\n",
    "    q = q.replace('\\n', '')\n",
    "    q = q.replace('（', '(')\n",
    "    q = q.replace('）', ')')\n",
    "    q = re.sub(r\"\\(.+\\)$\", \"\", q)\n",
    "    q = re.sub('(!|\\u3000|/|\\\\s|>|<|\\\\.)+', \" \", q)\n",
    "    return q\n",
    "\n",
    "def search(q):\n",
    "    url_search = 'https://eiga.com/search/{}' .format(requests.utils.quote(normalize_query(q), safe=''))\n",
    "    res_search = requests.get(url_search )\n",
    "    res_search.encoding = res_search.apparent_encoding\n",
    "    \n",
    "    soup_search = BeautifulSoup(res_search.content, \"lxml\")\n",
    "    result =  soup_search.find('section', attrs={\"id\": \"rslt-movie\"})\n",
    "    if result != None:\n",
    "        path = result.find('li', attrs={\"class\": \"col-s-3\"}).find('a')[\"href\"]\n",
    "        return path\n",
    "    else:\n",
    "        return None\n",
    "\n",
    "def scrape(query, movie_id, year):\n",
    "    data = {\n",
    "        \"id\": -1,\n",
    "        \"rating\": -1,\n",
    "        \"check-in\":-1,\n",
    "        \"review-count\":-1\n",
    "    }\n",
    "    print(\"START : \" + query)\n",
    "    path = search(query)\n",
    "    \n",
    "    if path is None:\n",
    "        logging.warning(\"**************************************************\")\n",
    "        logging.warning(query + \" HAS NO RESULT\")\n",
    "        logging.warning(\"**************************************************\")\n",
    "        with open('./eigacom_id_table_{}_error.txt'.format(year), 'a') as f:\n",
    "            print(str(movie_id), \"-1\")\n",
    "            f.write(str(movie_id) + '\\t' + '-1' + '\\n')\n",
    "        return None\n",
    "    \n",
    "    url_review = 'https://eiga.com' + path\n",
    "    eigacom_id = re.sub(\"\\\\D\", \"\", path)\n",
    "    \n",
    "    with open('./eigacom_id_table_{}.txt'.format(year), 'a') as f:\n",
    "        print(str(movie_id), eigacom_id)\n",
    "        f.write(str(movie_id) + '\\t' + eigacom_id + '\\n')\n",
    "    \n",
    "    res = requests.get(url_review)\n",
    "    res.encoding = res.apparent_encoding\n",
    "    soup = BeautifulSoup(res.content, \"lxml\")\n",
    "    \n",
    "    rating = soup.find('span', attrs={\"class\": \"rating-star\"})\n",
    "    review_count = soup.find('span', attrs={\"itemprop\": \"reviewCount\"})\n",
    "    check_in = soup.find('a', attrs={\"class\": \"icon-movie-checkin\"}).find('strong')\n",
    "    data[\"rating\"] = 0 if rating.text == '－' else float(rating.text)\n",
    "    data[\"review-count\"] = 0 if review_count is None else int(review_count.text)\n",
    "    data[\"check-in\"] = 0 if check_in is None else int(check_in.text)\n",
    "        \n",
    "    return data"
   ]
  },
  {
   "cell_type": "code",
   "execution_count": 22,
   "metadata": {},
   "outputs": [],
   "source": [
    "def main():\n",
    "    years = ['2017', '2016', '2015', '2014']\n",
    "    for y in years:\n",
    "        print(y)\n",
    "        fr = open('./eigacom_id_table_{}.txt'.format(y), 'r')\n",
    "        with open( '../{}_movie_clean'.format(y), 'r') as movie_clean:\n",
    "            for line in csv.reader(movie_clean, delimiter='\\t'):\n",
    "                eigacom_id = fr.readline().split()[1]\n",
    "                if eigacom_id != \"-1\":\n",
    "                    continue\n",
    "                    \n",
    "                movie_id, title, *_ = line\n",
    "            \n",
    "                output_file = './{0}/{1}.json'.format(y, movie_id)\n",
    "                with open(output_file, 'w') as f:\n",
    "                    print(movie_id)\n",
    "                    data = scrape(title,movie_id, y)\n",
    "                    if data == None:\n",
    "                        continue\n",
    "                    data[\"id\"] = int(movie_id)\n",
    "                    json.dump(data, f, ensure_ascii=False, indent=2) \n",
    "                time.sleep(1)\n",
    "    fr.close()\n",
    "    "
   ]
  },
  {
   "cell_type": "code",
   "execution_count": 23,
   "metadata": {
    "scrolled": false
   },
   "outputs": [
    {
     "name": "stdout",
     "output_type": "stream",
     "text": [
      "2017\n",
      "2\n",
      "START : 傷物語III 冷血篇\n",
      "2 83227\n",
      "10\n",
      "START : 劇場版 動物戦隊ジュウオウジャーVSニンニンジャー 未来からのメッセージ from スーパー戦隊\n",
      "10 86069\n",
      "11\n",
      "START : 劇場版 新・ミナミの帝王\n",
      "11 84729\n",
      "18\n",
      "START : 劇場版 黒執事 Book of the Atlantic\n",
      "18 83283\n",
      "22\n",
      "START : イタズラなkiss THE MOVIE 2 〜キャンバス編〜\n"
     ]
    },
    {
     "name": "stderr",
     "output_type": "stream",
     "text": [
      "**************************************************\n",
      "イタズラなkiss THE MOVIE 2 〜キャンバス編〜 HAS NO RESULT\n",
      "**************************************************\n"
     ]
    },
    {
     "name": "stdout",
     "output_type": "stream",
     "text": [
      "22 -1\n",
      "24\n",
      "START : 劇場版 BiS誕生の詩\n",
      "24 86317\n",
      "40\n",
      "START : 劇場版 ソードアート・オンライン -オーディナル・スケール-\n",
      "40 83224\n",
      "58\n",
      "START : 劇場版プリパラ み～んなでかがやけ！キラリン☆スターライブ！\n",
      "58 85902\n",
      "61\n",
      "START : 劇場版 しまじろうのわお！しまじろうと にじのオアシス\n"
     ]
    },
    {
     "name": "stderr",
     "output_type": "stream",
     "text": [
      "**************************************************\n",
      "劇場版 しまじろうのわお！しまじろうと にじのオアシス HAS NO RESULT\n",
      "**************************************************\n"
     ]
    },
    {
     "name": "stdout",
     "output_type": "stream",
     "text": [
      "61 -1\n",
      "63\n",
      "START : 劇場版 ウルトラマンオーブ 絆の力、おかりします！\n",
      "63 86049\n",
      "64\n",
      "START : 劇場版総集編 オーバーロード 漆黒の英雄\n",
      "64 86054\n",
      "70\n",
      "START : 劇場版 黒子のバスケ LAST GAME\n",
      "70 84708\n",
      "75\n",
      "START : サクラダリセット 前篇\n",
      "75 85654\n",
      "99\n",
      "START : 劇場版 Free!-Timeless Medley- 絆\n",
      "99 86805\n",
      "111\n",
      "START : 劇場版 FAIRY TAIL -DRAGON CRY-\n",
      "111 86574\n",
      "116\n",
      "START : サクラダリセット 後篇\n",
      "116 85655\n",
      "139\n",
      "START : 22年目の告白 -私が殺人犯です-\n",
      "139 85298\n",
      "147\n",
      "START : 劇場版 魔法科高校の劣等生 星を呼ぶ少女\n",
      "147 84507\n",
      "153\n",
      "START : 宇宙戦艦ヤマト2202 愛の戦士たち/第二章 発進篇\n",
      "153 86606\n",
      "166\n",
      "START : 劇場版ポケットモンスター キミにきめた!\n",
      "166 86155\n",
      "186\n",
      "START : 劇場版 仮面ライダーエグゼイド トゥルー・エンディング\n",
      "186 86299\n",
      "203\n",
      "START : 劇場版Fate/kaleid liner プリズマ☆イリヤ 雪下の誓い\n",
      "203 86604\n",
      "204\n",
      "START : 映画監督外山文治短編作品集\n"
     ]
    },
    {
     "name": "stderr",
     "output_type": "stream",
     "text": [
      "**************************************************\n",
      "映画監督外山文治短編作品集 HAS NO RESULT\n",
      "**************************************************\n"
     ]
    },
    {
     "name": "stdout",
     "output_type": "stream",
     "text": [
      "204 -1\n",
      "225\n",
      "START : 交響詩篇エウレカセブンハイエボリューション１\n",
      "225 86717\n",
      "236\n",
      "START : 劇場版　其ノ灯、暮ラシ\n",
      "236 87704\n",
      "238\n",
      "START : 劇場版 響け! ユーフォニアム～届けたいメロディ～\n",
      "238 86697\n",
      "239\n",
      "START : エルネスト もう一人のゲバラ\n"
     ]
    },
    {
     "name": "stderr",
     "output_type": "stream",
     "text": [
      "**************************************************\n",
      "エルネスト もう一人のゲバラ HAS NO RESULT\n",
      "**************************************************\n"
     ]
    },
    {
     "name": "stdout",
     "output_type": "stream",
     "text": [
      "239 -1\n",
      "247\n",
      "START : 宇宙戦艦ヤマト2202 愛の戦士たち/第三章 純愛篇\n",
      "247 87352\n",
      "248\n",
      "START : Fate/stay night [Heaven's Feel] 第一章「presage flower」\n"
     ]
    },
    {
     "name": "stderr",
     "output_type": "stream",
     "text": [
      "**************************************************\n",
      "Fate/stay night [Heaven's Feel] 第一章「presage flower」 HAS NO RESULT\n",
      "**************************************************\n"
     ]
    },
    {
     "name": "stdout",
     "output_type": "stream",
     "text": [
      "248 -1\n",
      "257\n",
      "START : ブレードランナー 2049\n",
      "257 85393\n",
      "270\n",
      "START : 劇場版シネマ狂想曲　名古屋映画館革命\n",
      "270 86828\n",
      "279\n",
      "START : 劇場版 はいからさんが通る 前編 〜紅緒、花の17歳〜\n",
      "279 85042\n",
      "292\n",
      "START : 映画かいけつゾロリ ZZ（ダブルゼット）のひみつ\n"
     ]
    },
    {
     "name": "stderr",
     "output_type": "stream",
     "text": [
      "**************************************************\n",
      "映画かいけつゾロリ ZZ（ダブルゼット）のひみつ HAS NO RESULT\n",
      "**************************************************\n"
     ]
    },
    {
     "name": "stdout",
     "output_type": "stream",
     "text": [
      "292 -1\n",
      "318\n",
      "START : ダンシング・ベートーヴェン\n",
      "318 87787\n",
      "2016\n",
      "24\n",
      "START : 尾崎支配人が泣いた夜 DOCUMENTARY of HKT48\n",
      "24 81438\n",
      "32\n",
      "START : 新劇場版 頭文字D Legend3 −夢現−\n"
     ]
    },
    {
     "name": "stderr",
     "output_type": "stream",
     "text": [
      "**************************************************\n",
      "新劇場版 頭文字D Legend3 −夢現− HAS NO RESULT\n",
      "**************************************************\n"
     ]
    },
    {
     "name": "stdout",
     "output_type": "stream",
     "text": [
      "32 -1\n",
      "47\n",
      "START : ジョーのあした 辰吉丈一郎との20年\n",
      "47 83126\n",
      "49\n",
      "START : 劇場版 探偵オペラ ミルキィホームズ 〜逆襲のミルキィホームズ〜\n",
      "49 82817\n",
      "59\n",
      "START : 劇場版しまじろうのわお! しまじろうと えほんのくに\n"
     ]
    },
    {
     "name": "stderr",
     "output_type": "stream",
     "text": [
      "**************************************************\n",
      "劇場版しまじろうのわお! しまじろうと えほんのくに HAS NO RESULT\n",
      "**************************************************\n"
     ]
    },
    {
     "name": "stdout",
     "output_type": "stream",
     "text": [
      "59 -1\n",
      "60\n",
      "START : エヴェレスト 神々の山嶺\n",
      "60 80572\n",
      "62\n",
      "START : 劇場版 ウルトラマンX きたぞ!われらのウルトラマン\n",
      "62 83703\n",
      "73\n",
      "START : リップヴァンウィンクルの花嫁\n",
      "73 83603\n",
      "80\n",
      "START : 青春100キロ\n",
      "80 84468\n",
      "86\n",
      "START : レヴェナント: 蘇えりし者\n",
      "86 82912\n",
      "88\n",
      "START : 劇場版 響け!ユーフォニアム〜北宇治高校吹奏楽部へようこそ〜\n",
      "88 83456\n",
      "102\n",
      "START : 64 -ロクヨン- 前編\n",
      "102 81855\n",
      "103\n",
      "START : チリ33人 希望の軌跡（ チリ・ コロンビア）\n",
      "103 83277\n",
      "125\n",
      "START : 64 -ロクヨン- 後編\n",
      "125 82055\n",
      "127\n",
      "START : 10 クローバーフィールド・レーン\n",
      "127 84061\n",
      "144\n",
      "START : 存在する理由 DOCUMENTARY of AKB48\n",
      "144 81531\n",
      "157\n",
      "START : 劇場版 仮面ライダーゴースト 100の眼魂とゴースト運命の瞬間\n",
      "157 83971\n",
      "158\n",
      "START : 劇場版 動物戦隊ジュウオウジャー ドキドキサーカスパニック!\n",
      "158 83972\n",
      "166\n",
      "START : 劇場版アイカツスターズ!\n",
      "166 83973\n",
      "169\n",
      "START : 葛城物語\n"
     ]
    },
    {
     "name": "stderr",
     "output_type": "stream",
     "text": [
      "**************************************************\n",
      "葛城物語 HAS NO RESULT\n",
      "**************************************************\n"
     ]
    },
    {
     "name": "stdout",
     "output_type": "stream",
     "text": [
      "169 -1\n",
      "175\n",
      "START : ミュータント・ニンジャ・タートルズ：影＜シャドウズ＞\n"
     ]
    },
    {
     "name": "stderr",
     "output_type": "stream",
     "text": [
      "**************************************************\n",
      "ミュータント・ニンジャ・タートルズ：影＜シャドウズ＞ HAS NO RESULT\n",
      "**************************************************\n"
     ]
    },
    {
     "name": "stdout",
     "output_type": "stream",
     "text": [
      "175 -1\n",
      "236\n",
      "START : 劇場版 艦これ\n",
      "236 82705\n",
      "2015\n",
      "1\n",
      "START : 劇場版 PSYCHO-PASS サイコパス\n",
      "1 88814\n",
      "2\n",
      "START : 96時間/レクイエム\n",
      "2 81182\n",
      "6\n",
      "START : アゲイン 28年目の甲子園\n",
      "6 79497\n",
      "19\n",
      "START : 劇場版 BiSキャノンボール2014\n",
      "19 81089\n",
      "26\n",
      "START : 劇場版プロレスキャノンボール2014\n",
      "26 81776\n",
      "36\n",
      "START : 劇場版 シドニアの騎士\n",
      "36 81440\n",
      "40\n",
      "START : 劇場版プリパラ み〜んなあつまれ!プリズム☆ツアーズ\n",
      "40 80759\n",
      "44\n",
      "START : 劇場版しまじろうのわお！ しまじろうと おおきなき\n"
     ]
    },
    {
     "name": "stderr",
     "output_type": "stream",
     "text": [
      "**************************************************\n",
      "劇場版しまじろうのわお！ しまじろうと おおきなき HAS NO RESULT\n",
      "**************************************************\n"
     ]
    },
    {
     "name": "stdout",
     "output_type": "stream",
     "text": [
      "44 -1\n",
      "48\n",
      "START : 劇場版 ウルトラマンギンガS 決戦!ウルトラ10勇士!!\n",
      "48 81372\n",
      "62\n",
      "START : ソロモンの偽証 後篇・裁判\n",
      "62 79922\n",
      "73\n",
      "START : 劇場版 境界の彼方 -I'LL BE HERE- 未来篇\n",
      "73 81455\n",
      "92\n",
      "START : 天才バカヴォン〜蘇るフランダースの犬〜\n",
      "92 80716\n",
      "125\n",
      "START : 劇場版 進撃の巨人 後編 自由の翼\n",
      "125 80232\n",
      "129\n",
      "START : チャイルド44 森に消えた子供たち\n",
      "129 81856\n",
      "131\n",
      "START : 青鬼 ver.2.0\n"
     ]
    },
    {
     "name": "stderr",
     "output_type": "stream",
     "text": [
      "**************************************************\n",
      "青鬼 ver.2.0 HAS NO RESULT\n",
      "**************************************************\n"
     ]
    },
    {
     "name": "stdout",
     "output_type": "stream",
     "text": [
      "131 -1\n",
      "143\n",
      "START : 奇跡の2000マイル\n",
      "143 82163\n",
      "160\n",
      "START : 劇場版 仮面ライダードライブ サプライズ・フューチャー\n",
      "160 81790\n",
      "166\n",
      "START : Dressing Up ドレッシングアップ\n"
     ]
    },
    {
     "name": "stderr",
     "output_type": "stream",
     "text": [
      "**************************************************\n",
      "Dressing Up ドレッシングアップ HAS NO RESULT\n",
      "**************************************************\n"
     ]
    },
    {
     "name": "stdout",
     "output_type": "stream",
     "text": [
      "166 -1\n",
      "174\n",
      "START : 劇場版デート・ア・ライブ 万由里ジャッジメント\n",
      "174 81800\n",
      "175\n",
      "START : 向日葵の丘・1983年夏\n",
      "175 80296\n",
      "176\n",
      "START : 劇場版 弱虫ペダル\n",
      "176 87430\n",
      "184\n",
      "START : 劇場版　どついたるねんライブ\n",
      "184 82766\n",
      "226\n",
      "START : サイボーグ009VSデビルマン\n",
      "226 82142\n",
      "246\n",
      "START : 劇場版 MOZU\n",
      "246 81409\n",
      "275\n",
      "START : 400デイズ\n",
      "275 82856\n",
      "283\n",
      "START : 劇場版　東京女子プロレス　爆音セレナーデ\n",
      "283 83734\n",
      "2014\n",
      "38\n",
      "START : ポール・ヴァーホーヴェン/トリック\n",
      "38 78251\n",
      "70\n",
      "START : 劇場版 TIGER & BUNNY -The Rising-\n",
      "70 77537\n",
      "84\n",
      "START : 17歳\n",
      "84 91424\n",
      "89\n",
      "START : 劇場版テレクラキャノンボール2013\n",
      "89 79945\n",
      "97\n",
      "START : 劇場版 仮面ティーチャー\n",
      "97 79346\n",
      "98\n",
      "START : ゲームセンターCX THE MOVIE 1986 マイティボンジャック\n",
      "98 78878\n",
      "105\n",
      "START : 劇場版 トレインヒーロー\n",
      "105 79835\n",
      "107\n",
      "START : バディファイトPresentsワールドプロレスリング3D第8弾 1.4東京ドーム 2014\n"
     ]
    },
    {
     "name": "stderr",
     "output_type": "stream",
     "text": [
      "**************************************************\n",
      "バディファイトPresentsワールドプロレスリング3D第8弾 1.4東京ドーム 2014 HAS NO RESULT\n",
      "**************************************************\n"
     ]
    },
    {
     "name": "stdout",
     "output_type": "stream",
     "text": [
      "107 -1\n",
      "127\n",
      "START : 劇場版 薄桜鬼 第二章 士魂蒼穹\n",
      "127 79114\n",
      "134\n",
      "START : 劇場版 プリティーリズム・オールスターセレクション プリズムショー☆ベストテン\n",
      "134 79844\n",
      "141\n",
      "START : 劇場版 しまじろうのわお! しまじろうとくじらのうた\n"
     ]
    },
    {
     "name": "stderr",
     "output_type": "stream",
     "text": [
      "**************************************************\n",
      "劇場版 しまじろうのわお! しまじろうとくじらのうた HAS NO RESULT\n",
      "**************************************************\n"
     ]
    },
    {
     "name": "stdout",
     "output_type": "stream",
     "text": [
      "141 -1\n",
      "143\n",
      "START : 劇場版 世界一初恋 〜横澤隆史の場合〜\n",
      "143 79255\n",
      "186\n",
      "START : 1/11 じゅういちぶんのいち\n"
     ]
    },
    {
     "name": "stderr",
     "output_type": "stream",
     "text": [
      "**************************************************\n",
      "1/11 じゅういちぶんのいち HAS NO RESULT\n",
      "**************************************************\n"
     ]
    },
    {
     "name": "stdout",
     "output_type": "stream",
     "text": [
      "186 -1\n",
      "190\n",
      "START : ROUTE42\n"
     ]
    },
    {
     "name": "stderr",
     "output_type": "stream",
     "text": [
      "**************************************************\n",
      "ROUTE42 HAS NO RESULT\n",
      "**************************************************\n"
     ]
    },
    {
     "name": "stdout",
     "output_type": "stream",
     "text": [
      "190 -1\n",
      "243\n",
      "START : ヴィオレッタ\n",
      "243 57099\n",
      "262\n",
      "START : ネクスト・ゴール!世界最弱のサッカー代表チーム 0対31からの挑戦\n",
      "262 79802\n",
      "293\n",
      "START : ミッション:15\n",
      "293 80230\n",
      "306\n",
      "START : 劇場版 東京伝説 恐怖の人間地獄\n",
      "306 80345\n",
      "320\n",
      "START : パリ・オペラ座へようこそ ライブビューイング シーズン2 2013〜2014/西部の娘\n"
     ]
    },
    {
     "name": "stderr",
     "output_type": "stream",
     "text": [
      "**************************************************\n",
      "パリ・オペラ座へようこそ ライブビューイング シーズン2 2013〜2014/西部の娘 HAS NO RESULT\n",
      "**************************************************\n"
     ]
    },
    {
     "name": "stdout",
     "output_type": "stream",
     "text": [
      "320 -1\n",
      "325\n",
      "START : 劇場版 東京伝説 歪んだ異形都市\n",
      "325 80346\n",
      "326\n",
      "START : SiM「10 YEARS - SPECIAL EDiTiON -」\n"
     ]
    },
    {
     "name": "stderr",
     "output_type": "stream",
     "text": [
      "**************************************************\n",
      "SiM「10 YEARS - SPECIAL EDiTiON -」 HAS NO RESULT\n",
      "**************************************************\n"
     ]
    },
    {
     "name": "stdout",
     "output_type": "stream",
     "text": [
      "326 -1\n",
      "340\n",
      "START : 300 〈スリーハンドレッド〉 〜帝国の進撃〜\n",
      "340 77929\n",
      "342\n",
      "START : 映画 うわこい2\n"
     ]
    },
    {
     "name": "stderr",
     "output_type": "stream",
     "text": [
      "**************************************************\n",
      "映画 うわこい2 HAS NO RESULT\n",
      "**************************************************\n"
     ]
    },
    {
     "name": "stdout",
     "output_type": "stream",
     "text": [
      "342 -1\n",
      "348\n",
      "START : ニューヨーク・アニバーサリーライブ/シリーズ第2弾 ビリー・ジョエル《ライヴ・アット・シェイ・スタジアム -ザ・コンサート-\n"
     ]
    },
    {
     "name": "stderr",
     "output_type": "stream",
     "text": [
      "**************************************************\n",
      "ニューヨーク・アニバーサリーライブ/シリーズ第2弾 ビリー・ジョエル《ライヴ・アット・シェイ・スタジアム -ザ・コンサート- HAS NO RESULT\n",
      "**************************************************\n"
     ]
    },
    {
     "name": "stdout",
     "output_type": "stream",
     "text": [
      "348 -1\n",
      "351\n",
      "START : アンダーフェイス\n"
     ]
    },
    {
     "name": "stderr",
     "output_type": "stream",
     "text": [
      "**************************************************\n",
      "アンダーフェイス HAS NO RESULT\n",
      "**************************************************\n"
     ]
    },
    {
     "name": "stdout",
     "output_type": "stream",
     "text": [
      "351 -1\n",
      "355\n",
      "START : NOTHING PARTS 71\n",
      "355 79864\n",
      "361\n",
      "START : 劇場版 テレクラキャノンボール2013\n",
      "361 79945\n",
      "365\n",
      "START : 奴隷区 僕と23人の奴隷\n",
      "365 79288\n",
      "390\n",
      "START : MOOSIC LAB 2014/あんこまん\n"
     ]
    },
    {
     "name": "stderr",
     "output_type": "stream",
     "text": [
      "**************************************************\n",
      "MOOSIC LAB 2014/あんこまん HAS NO RESULT\n",
      "**************************************************\n"
     ]
    },
    {
     "name": "stdout",
     "output_type": "stream",
     "text": [
      "390 -1\n",
      "391\n",
      "START : ニューヨーク・アニバーサリーライブ/シリーズ第3弾 サイモン&ガーファンクル《セントラルパーク・コンサート》\n"
     ]
    },
    {
     "name": "stderr",
     "output_type": "stream",
     "text": [
      "**************************************************\n",
      "ニューヨーク・アニバーサリーライブ/シリーズ第3弾 サイモン&ガーファンクル《セントラルパーク・コンサート》 HAS NO RESULT\n",
      "**************************************************\n"
     ]
    },
    {
     "name": "stdout",
     "output_type": "stream",
     "text": [
      "391 -1\n",
      "408\n",
      "START : パガニーニ 愛と狂気のヴァイオリニスト\n",
      "408 79642\n",
      "410\n",
      "START : シネマ歌舞伎/歌舞伎クラシック 船弁慶\n"
     ]
    },
    {
     "name": "stderr",
     "output_type": "stream",
     "text": [
      "**************************************************\n",
      "シネマ歌舞伎/歌舞伎クラシック 船弁慶 HAS NO RESULT\n",
      "**************************************************\n"
     ]
    },
    {
     "name": "stdout",
     "output_type": "stream",
     "text": [
      "410 -1\n",
      "411\n",
      "START : シネマ歌舞伎/歌舞伎クラシック 身替座禅\n"
     ]
    },
    {
     "name": "stderr",
     "output_type": "stream",
     "text": [
      "**************************************************\n",
      "シネマ歌舞伎/歌舞伎クラシック 身替座禅 HAS NO RESULT\n",
      "**************************************************\n"
     ]
    },
    {
     "name": "stdout",
     "output_type": "stream",
     "text": [
      "411 -1\n",
      "413\n",
      "START : ニューヨーク・アニバーサリーライブ/シリーズ第4弾 ボン・ジョヴィ《インサイド・アウト》\n"
     ]
    },
    {
     "name": "stderr",
     "output_type": "stream",
     "text": [
      "**************************************************\n",
      "ニューヨーク・アニバーサリーライブ/シリーズ第4弾 ボン・ジョヴィ《インサイド・アウト》 HAS NO RESULT\n",
      "**************************************************\n"
     ]
    },
    {
     "name": "stdout",
     "output_type": "stream",
     "text": [
      "413 -1\n",
      "416\n",
      "START : シネマ歌舞伎/歌舞伎クラシック 勧進帳\n"
     ]
    },
    {
     "name": "stderr",
     "output_type": "stream",
     "text": [
      "**************************************************\n",
      "シネマ歌舞伎/歌舞伎クラシック 勧進帳 HAS NO RESULT\n",
      "**************************************************\n"
     ]
    },
    {
     "name": "stdout",
     "output_type": "stream",
     "text": [
      "416 -1\n",
      "423\n",
      "START : 劇場版K MISSING KINGS\n",
      "423 79673\n",
      "427\n",
      "START : パリ・オペラ座へようこそ ライブビューイング シーズン2 2013〜2014/白鳥の湖\n"
     ]
    },
    {
     "name": "stderr",
     "output_type": "stream",
     "text": [
      "**************************************************\n",
      "パリ・オペラ座へようこそ ライブビューイング シーズン2 2013〜2014/白鳥の湖 HAS NO RESULT\n",
      "**************************************************\n"
     ]
    },
    {
     "name": "stdout",
     "output_type": "stream",
     "text": [
      "427 -1\n",
      "440\n",
      "START : 劇場版 仮面ライダー鎧武 サッカー大決戦!黄金の果実争奪杯!\n",
      "440 79896\n",
      "450\n",
      "START : NMB48 げいにん!THE MOVIE リターンズ 卒業!お笑い青春ガールズ!!新たなる旅立ち\n",
      "450 79986\n",
      "455\n",
      "START : ヴァンパイア・アカデミー\n",
      "455 79925\n",
      "461\n",
      "START : 新・極道の紋章\n"
     ]
    },
    {
     "name": "stderr",
     "output_type": "stream",
     "text": [
      "**************************************************\n",
      "新・極道の紋章 HAS NO RESULT\n",
      "**************************************************\n"
     ]
    },
    {
     "name": "stdout",
     "output_type": "stream",
     "text": [
      "461 -1\n",
      "483\n",
      "START : FORMA-フォルマ-\n"
     ]
    },
    {
     "name": "stderr",
     "output_type": "stream",
     "text": [
      "**************************************************\n",
      "FORMA-フォルマ- HAS NO RESULT\n",
      "**************************************************\n"
     ]
    },
    {
     "name": "stdout",
     "output_type": "stream",
     "text": [
      "483 -1\n",
      "491\n",
      "START : 365日のシンプルライフ（ フィンランド）\n",
      "491 80247\n",
      "500\n",
      "START : 新劇場版 頭文字［イニシャル］D Legend 1 -覚醒-\n"
     ]
    },
    {
     "name": "stderr",
     "output_type": "stream",
     "text": [
      "**************************************************\n",
      "新劇場版 頭文字［イニシャル］D Legend 1 -覚醒- HAS NO RESULT\n",
      "**************************************************\n"
     ]
    },
    {
     "name": "stdout",
     "output_type": "stream",
     "text": [
      "500 -1\n",
      "504\n",
      "START : リヴァイアサン\n",
      "504 80189\n",
      "569\n",
      "START : アンナプルナ南壁 7,400mの男たち\n"
     ]
    },
    {
     "name": "stderr",
     "output_type": "stream",
     "text": [
      "**************************************************\n",
      "アンナプルナ南壁 7,400mの男たち HAS NO RESULT\n",
      "**************************************************\n"
     ]
    },
    {
     "name": "stdout",
     "output_type": "stream",
     "text": [
      "569 -1\n",
      "654\n",
      "START : 弾丸刑事(デカ) 怒りの奪還\n"
     ]
    },
    {
     "name": "stderr",
     "output_type": "stream",
     "text": [
      "**************************************************\n",
      "弾丸刑事(デカ) 怒りの奪還 HAS NO RESULT\n",
      "**************************************************\n"
     ]
    },
    {
     "name": "stdout",
     "output_type": "stream",
     "text": [
      "654 -1\n",
      "663\n",
      "START : 0.5ミリ\n"
     ]
    },
    {
     "name": "stderr",
     "output_type": "stream",
     "text": [
      "**************************************************\n",
      "0.5ミリ HAS NO RESULT\n",
      "**************************************************\n"
     ]
    },
    {
     "name": "stdout",
     "output_type": "stream",
     "text": [
      "663 -1\n",
      "670\n",
      "START : 夜だから Night, Because\n"
     ]
    },
    {
     "name": "stderr",
     "output_type": "stream",
     "text": [
      "**************************************************\n",
      "夜だから Night, Because HAS NO RESULT\n",
      "**************************************************\n"
     ]
    },
    {
     "name": "stdout",
     "output_type": "stream",
     "text": [
      "670 -1\n",
      "755\n",
      "START : さよなら東京\n"
     ]
    },
    {
     "name": "stderr",
     "output_type": "stream",
     "text": [
      "**************************************************\n",
      "さよなら東京 HAS NO RESULT\n",
      "**************************************************\n"
     ]
    },
    {
     "name": "stdout",
     "output_type": "stream",
     "text": [
      "755 -1\n"
     ]
    }
   ],
   "source": [
    "if __name__ == '__main__':\n",
    "    main()"
   ]
  },
  {
   "cell_type": "markdown",
   "metadata": {},
   "source": [
    "映画.comにないやつ<br>\n",
    "2017 <br>\n",
    "204 外山文治短編作品集<br>\n",
    "2016 <br>\n",
    "169 葛城物語<br>\n",
    "2014 <br>\n",
    "326 SiM「10 YEARS - SPECIAL EDiTiON -」\n",
    "351 アンダーフェイス\n",
    "390 MOOSIC LAB 2014/あんこまん\n",
    "461 新・極道の紋章\n",
    "663 0.5ミリ\n",
    "755 さよなら東京\n",
    "2013 <br>\n",
    "78 英国ロイヤル・バレエ/ロミオとジュリエット\n",
    "83 つるしびな\n",
    "165 英国ロイヤル・バレエ/不思議の国のアリス\n",
    "404 イン・ザ・シャドウズ\n",
    "477 ブシモ Presentsプロレス3D第7弾 ワールドプロレスリング G1 CLIMAX 2013"
   ]
  },
  {
   "cell_type": "code",
   "execution_count": 29,
   "metadata": {},
   "outputs": [],
   "source": [
    "errors_2017 = [\n",
    "    (83967, 22),\n",
    "    (83446,59),\n",
    "    (85425, 239),\n",
    "    (84639, 248),\n",
    "    (86831, 292),\n",
    "]\n",
    "\n",
    "errors_2016 = [\n",
    "    (82315, 32),\n",
    "    (85928,61),\n",
    "    (83806, 175),\n",
    "]\n",
    "\n",
    "errors_2015 = [\n",
    "    (81351, 44),\n",
    "    (81588,131),\n",
    "    (78671, 166),\n",
    "]\n",
    "\n",
    "errors_2014 = [\n",
    "    (79824, 107),\n",
    "    (79222,141),\n",
    "    (79672, 186),\n",
    "    (77705, 190),\n",
    "    (79960,320),\n",
    "    (79998, 342),\n",
    "    (80145, 348),\n",
    "    (80146,391),\n",
    "    (80421, 410),\n",
    "    (80420, 411),\n",
    "    (80147,413),\n",
    "    (80419, 416),\n",
    "    (79957, 427),\n",
    "    (79260,483),\n",
    "    (78987, 500),\n",
    "    (79842, 569),\n",
    "    (80979,654),\n",
    "    (81192, 670),\n",
    "]\n",
    "\n",
    "errors_2013 = [\n",
    "    (78009,100),\n",
    "    (78140, 103),\n",
    "    (58247, 111),\n",
    "    (77852, 261),\n",
    "    (78088, 294),\n",
    "    (77941, 350),\n",
    "    (78149, 432),\n",
    "    (79303, 516),\n",
    "    (79202, 633),\n",
    "]"
   ]
  },
  {
   "cell_type": "code",
   "execution_count": 30,
   "metadata": {},
   "outputs": [],
   "source": [
    "errors_all = [errors_2017, errors_2016, errors_2015, errors_2014, errors_2013]"
   ]
  },
  {
   "cell_type": "code",
   "execution_count": 31,
   "metadata": {},
   "outputs": [],
   "source": [
    "def scrape_directly(id_in, id_out):\n",
    "    page_num = 1\n",
    "    data = {\n",
    "        \"id\": id_out,\n",
    "        \"rating\": -1,\n",
    "        \"check-in\":-1,\n",
    "        \"review-count\":-1\n",
    "    }\n",
    "    url_review = \"https://eiga.com/movie/\" + str(id_in)\n",
    "    \n",
    "    if(url_review == \"error\"):\n",
    "        return \"error\"\n",
    "    \n",
    "\n",
    "    res = requests.get(url_review)\n",
    "    res.encoding = res.apparent_encoding\n",
    "    soup = BeautifulSoup(res.content, \"lxml\")\n",
    "    \n",
    "    rating = soup.find('span', attrs={\"class\": \"rating-star\"})\n",
    "    review_count = soup.find('span', attrs={\"itemprop\": \"reviewCount\"})\n",
    "    check_in = soup.find('a', attrs={\"class\": \"icon-movie-checkin\"}).find('strong')\n",
    "    data[\"rating\"] = 0 if rating.text == '－' else float(rating.text)\n",
    "    data[\"review-count\"] = 0 if review_count is None else int(review_count.text)\n",
    "    data[\"check-in\"] = 0 if check_in is None else int(check_in.text)\n",
    "    print('DONE : ' + str(id_out) )\n",
    "    return data"
   ]
  },
  {
   "cell_type": "code",
   "execution_count": 32,
   "metadata": {},
   "outputs": [
    {
     "name": "stdout",
     "output_type": "stream",
     "text": [
      "2017\n",
      "DONE : 22\n",
      "DONE : 59\n",
      "DONE : 239\n",
      "DONE : 248\n",
      "DONE : 292\n",
      "2016\n",
      "DONE : 32\n",
      "DONE : 61\n",
      "DONE : 175\n",
      "2015\n",
      "DONE : 44\n",
      "DONE : 131\n",
      "DONE : 166\n",
      "2014\n",
      "DONE : 107\n",
      "DONE : 141\n",
      "DONE : 186\n",
      "DONE : 190\n",
      "DONE : 320\n",
      "DONE : 342\n",
      "DONE : 348\n",
      "DONE : 391\n",
      "DONE : 410\n",
      "DONE : 411\n",
      "DONE : 413\n",
      "DONE : 416\n",
      "DONE : 427\n",
      "DONE : 483\n",
      "DONE : 500\n",
      "DONE : 569\n",
      "DONE : 654\n",
      "DONE : 670\n",
      "2013\n",
      "DONE : 100\n",
      "DONE : 103\n",
      "DONE : 111\n",
      "DONE : 261\n",
      "DONE : 294\n",
      "DONE : 350\n",
      "DONE : 432\n",
      "DONE : 516\n",
      "DONE : 633\n"
     ]
    }
   ],
   "source": [
    "year = 2017\n",
    "for errors in errors_all:\n",
    "    print(year)\n",
    "    for id_in, id_out in errors:\n",
    "        output_file = './{0}/{1}.json'.format(str(year), id_out)\n",
    "        with open(output_file, 'w') as f:\n",
    "            data = scrape_directly(id_in, id_out)\n",
    "            jsn =  json.dump(data,f,ensure_ascii=False, indent=2) \n",
    "        time.sleep(1)\n",
    "    year -= 1"
   ]
  },
  {
   "cell_type": "code",
   "execution_count": null,
   "metadata": {},
   "outputs": [],
   "source": []
  }
 ],
 "metadata": {
  "kernelspec": {
   "display_name": "Python 3",
   "language": "python",
   "name": "python3"
  },
  "language_info": {
   "codemirror_mode": {
    "name": "ipython",
    "version": 3
   },
   "file_extension": ".py",
   "mimetype": "text/x-python",
   "name": "python",
   "nbconvert_exporter": "python",
   "pygments_lexer": "ipython3",
   "version": "3.6.8"
  }
 },
 "nbformat": 4,
 "nbformat_minor": 2
}
