{
 "cells": [
  {
   "cell_type": "code",
   "execution_count": 3,
   "metadata": {},
   "outputs": [],
   "source": [
    "import pandas as pd\n",
    "import numpy as np\n",
    "import sklearn\n",
    "from sklearn.model_selection import train_test_split\n",
    "from sklearn import metrics\n",
    "import matplotlib\n",
    "import matplotlib.pyplot as plt\n",
    "import catboost\n",
    "import optuna\n",
    "matplotlib.rcParams['font.family']='IPAGothic'"
   ]
  },
  {
   "cell_type": "code",
   "execution_count": 4,
   "metadata": {},
   "outputs": [],
   "source": [
    "def cv_generator():\n",
    "    base_path = \"../../data/std_data/\"\n",
    "    for year in range(1978, 2020):\n",
    "        train_x = pd.read_pickle(base_path + \"train/{}_x.pkl\".format(year)).values\n",
    "        test_x = pd.read_pickle(base_path + \"test/{}_x.pkl\".format(year)).values\n",
    "        train_y = pd.read_pickle(base_path + \"train/{}_y.pkl\".format(year)).values\n",
    "        test_y = pd.read_pickle(base_path + \"test/{}_y.pkl\".format(year)).values\n",
    "        yield (train_x, train_y, test_x, test_y)"
   ]
  },
  {
   "cell_type": "code",
   "execution_count": 5,
   "metadata": {},
   "outputs": [],
   "source": [
    "def objective(trial):\n",
    "    #paramter_tuning using optuna\n",
    "    params = {\n",
    "        'iterations' : trial.suggest_int('iterations', 50, 1000),                         \n",
    "        'depth' : trial.suggest_int('depth', 1, 10),                                       \n",
    "        'learning_rate' : trial.suggest_loguniform('learning_rate', 0.01, 0.5),               \n",
    "        'random_strength' :trial.suggest_int('random_strength', 0, 100),                       \n",
    "        'bagging_temperature' :trial.suggest_loguniform('bagging_temperature', 0.01, 100.00), \n",
    "        'od_type': trial.suggest_categorical('od_type', ['IncToDec', 'Iter']),\n",
    "        'od_wait' :trial.suggest_int('od_wait', 10, 50)\n",
    "    }\n",
    "        \n",
    "    model = catboost.CatBoostRegressor(**params, logging_level='Silent')\n",
    "        \n",
    "    pred_y_all = np.array([])\n",
    "    y_true_all = np.array([])\n",
    "    \n",
    "    data_gen = cv_generator()\n",
    "    \n",
    "    for (train_x, train_y, test_x, test_y) in data_gen:\n",
    "        model.fit(train_x, train_y)\n",
    "        pred_y = model.predict(test_x)\n",
    "        pred_y_all = np.hstack((pred_y_all, pred_y))\n",
    "        y_true_all = np.hstack((y_true_all, test_y))\n",
    "        \n",
    "    fpr, tpr, thresholds = metrics.roc_curve(y_true_all, pred_y_all, pos_label=1)\n",
    "    \n",
    "    return metrics.auc(fpr, tpr)"
   ]
  },
  {
   "cell_type": "code",
   "execution_count": null,
   "metadata": {},
   "outputs": [],
   "source": [
    "def main():\n",
    "    study = optuna.create_study(direction='maximize')\n",
    "    study.optimize(objective, n_trials=100)\n",
    "\n",
    "    print('Number of finished trials: {}'.format(len(study.trials)))\n",
    "\n",
    "    print('Best trial:')\n",
    "    trial = study.best_trial\n",
    "\n",
    "    print('  Value: {}'.format(trial.value))\n",
    "\n",
    "    print('  Params: ')\n",
    "    for key, value in trial.params.items():\n",
    "        print('    {}: {}'.format(key, value))\n",
    "\n",
    "main()"
   ]
  },
  {
   "cell_type": "code",
   "execution_count": 18,
   "metadata": {},
   "outputs": [
    {
     "name": "stdout",
     "output_type": "stream",
     "text": [
      "auc: 0.6191885038038883\n"
     ]
    },
    {
     "data": {
      "image/png": "[encoded data removed]",
      "text/plain": [
       "<Figure size 432x288 with 1 Axes>"
      ]
     },
     "metadata": {
      "needs_background": "light"
     },
     "output_type": "display_data"
    }
   ],
   "source": [
    "import matplotlib.pyplot as plt\n",
    "from sklearn import metrics\n",
    "\n",
    "fpr, tpr, thresholds = metrics.roc_curve(test_ys, predicted_ys)\n",
    "auc = metrics.auc(fpr, tpr)\n",
    "\n",
    "plt.plot(fpr, tpr, label='ROC curve (area = %.2f)'%auc)\n",
    "plt.legend()\n",
    "plt.title('ROC curve')\n",
    "plt.xlabel('False Positive Rate')\n",
    "plt.ylabel('True Positive Rate')\n",
    "plt.grid(True)\n",
    "\n",
    "print(\"auc: {}\".format(auc))"
   ]
  },
  {
   "cell_type": "markdown",
   "metadata": {},
   "source": [
    "## GridSearch"
   ]
  }
 ],
 "metadata": {
  "kernelspec": {
   "display_name": "Python 3",
   "language": "python",
   "name": "python3"
  },
  "language_info": {
   "codemirror_mode": {
    "name": "ipython",
    "version": 3
   },
   "file_extension": ".py",
   "mimetype": "text/x-python",
   "name": "python",
   "nbconvert_exporter": "python",
   "pygments_lexer": "ipython3",
   "version": "3.6.3"
  }
 },
 "nbformat": 4,
 "nbformat_minor": 4
}
