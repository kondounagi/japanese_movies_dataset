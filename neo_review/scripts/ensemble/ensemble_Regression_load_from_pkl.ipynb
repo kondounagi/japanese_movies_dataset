{
 "cells": [
  {
   "cell_type": "code",
   "execution_count": 10,
   "metadata": {
    "scrolled": true
   },
   "outputs": [],
   "source": [
    "import numpy as np\n",
    "import json\n",
    "import csv\n",
    "import pandas as pd\n",
    "import matplotlib.pyplot as plt\n",
    "\n",
    "from sklearn.linear_model import LogisticRegression\n",
    "import lightgbm as lgb\n",
    "from sklearn import svm\n",
    "import xgboost as xgb\n",
    "from sklearn.discriminant_analysis import LinearDiscriminantAnalysis as LDA\n",
    "\n",
    "from sklearn.ensemble import VotingRegressor, VotingClassifier\n",
    "from sklearn.metrics import confusion_matrix, roc_auc_score, roc_curve\n",
    "from sklearn.preprocessing import StandardScaler\n",
    "%matplotlib inline"
   ]
  },
  {
   "cell_type": "code",
   "execution_count": 11,
   "metadata": {},
   "outputs": [],
   "source": [
    "def load_data(y):\n",
    "    path = '../../data/std_data/'\n",
    "    x_train_std = pd.read_pickle(path +'train/{}_x.pkl'.format(str(y))).values\n",
    "    x_test_std = pd.read_pickle(path +'test/{}_x.pkl'.format(str(y))).values\n",
    "    y_train = pd.read_pickle(path +'train/{}_y.pkl'.format(str(y))).values\n",
    "    y_test = pd.read_pickle(path +'test/{}_y.pkl'.format(str(y))).values\n",
    "    features = pd.read_pickle(path +'train/{}_x.pkl'.format(str(y))).columns\n",
    "    return x_train_std, x_test_std, y_train, y_test, features"
   ]
  },
  {
   "cell_type": "code",
   "execution_count": 12,
   "metadata": {},
   "outputs": [],
   "source": [
    "def plot_roc_curve(fpr, tpr, auc):\n",
    "    # ROC曲線をプロット\n",
    "    plt.plot(fpr, tpr, label='ROC curve (area = %.2f)'%auc)\n",
    "    plt.legend()\n",
    "    plt.title('ROC curve')\n",
    "    plt.xlabel('False Positive Rate')\n",
    "    plt.ylabel('True Positive Rate')\n",
    "    plt.grid(True)\n",
    "    plt.show()"
   ]
  },
  {
   "cell_type": "code",
   "execution_count": 13,
   "metadata": {},
   "outputs": [],
   "source": [
    "def create_models():\n",
    "    lr = LogisticRegression(class_weight=\"balanced\", solver=\"liblinear\",  penalty=\"l2\", C=0.0001)\n",
    "    \n",
    "    sv = svm.SVR(kernel=\"sigmoid\",\n",
    "                                 degree=4,\n",
    "                                 gamma=0.043502212815589775,\n",
    "                                 coef0=0.20190829020616494,\n",
    "                                 tol=0.0001,\n",
    "                                 C=0.000245786293391316,\n",
    "                                 epsilon=0.3056167642389302,\n",
    "                                verbose=True,)\n",
    "\n",
    "    xgboost = xgb.XGBRegressor(silent= True, \n",
    "                           max_depth=1,\n",
    "                           learning_rate=0.14544434403253392,\n",
    "                           n_estimators = 72,\n",
    "                           gamma=0.4356018082020117,\n",
    "                           reg_lambda=2.931451663505623,\n",
    "                           reg_alpha=0.19045302677956732)\n",
    "\n",
    "    lgbm = lgb.LGBMRegressor(\n",
    "        random_state=0,\n",
    "        verbosity=-1,\n",
    "        bagging_seed=0,\n",
    "        boost_from_average='true',\n",
    "        metric='auc',\n",
    "        bagging_freq=4,\n",
    "        min_data_in_leaf=21,\n",
    "        max_depth=13,\n",
    "        learning_rate=0.08731913651405197,\n",
    "        n_estimators=3394,\n",
    "        subsample=0.7054763057027115,\n",
    "        num_leaves=438,\n",
    "        reg_lambda=0.9377125325944119,  \n",
    "    )\n",
    "    \n",
    "    lda = LDA(solver=\"eigen\", shrinkage=1)\n",
    "\n",
    "#     estimators_rgs = [('sv', sv), ('xgboost', xgboost), ('lgbm', lgbm)]\n",
    "    estimators_rgs = [('sv', sv),('lgbm', lgbm)]\n",
    "    \n",
    "    return estimators_rgs"
   ]
  },
  {
   "cell_type": "code",
   "execution_count": 14,
   "metadata": {},
   "outputs": [],
   "source": [
    "def main():\n",
    "    \n",
    "    \n",
    "    path = '../../data/dataframes/std_data/'\n",
    "#     df =  pd.read_pickle('../../data/dataframes/unificated_data_set.pkl')\n",
    "    \n",
    "    cm_all = np.zeros((2, 2))\n",
    "    \n",
    "    # 予測した確率全体を格納\n",
    "    probs_all = np.array([])\n",
    "    y_true_all = np.array([])\n",
    "    \n",
    "    for y in range(1978, 2020):\n",
    "        \n",
    "        # データの生成\n",
    "        x_train, x_test, y_train, y_test, features = load_data(y)\n",
    "       \n",
    "        # 学習\n",
    "        estimators= create_models()\n",
    "        \n",
    "        vr = VotingRegressor(estimators)\n",
    "\n",
    "        vr.fit(x_train, y_train)\n",
    "        \n",
    "        # 予測(確率)\n",
    "        probs = vr.predict(x_test)\n",
    "        probs_all = np.hstack((probs_all, probs))\n",
    "        y_true_all = np.hstack((y_true_all, y_test))\n",
    "        \n",
    "        print(probs)\n",
    "\n",
    "        # 混同行列\n",
    "        y_pred = np.where((probs ==  max(probs)), 1, 0) #確率→0/1\n",
    "        cm = confusion_matrix(y_true=y_test, y_pred=y_pred)\n",
    "        cm_all += cm\n",
    "    \n",
    "    auc = roc_auc_score(y_true_all, probs_all)\n",
    "    fpr, tpr, thresholds = roc_curve(y_true_all, probs_all)\n",
    "    \n",
    "    plot_roc_curve(fpr, tpr, auc)\n",
    "    \n",
    "    print(\"len: {0} , {1}\".format(len(y_true_all), len(probs_all) ))\n",
    "    print(\"confusion_matrix: \")\n",
    "    print(cm_all)\n",
    "    print(\"AUC: \")\n",
    "    print(auc)\n",
    "    print()\n",
    "    return"
   ]
  },
  {
   "cell_type": "code",
   "execution_count": 15,
   "metadata": {
    "scrolled": false
   },
   "outputs": [
    {
     "name": "stdout",
     "output_type": "stream",
     "text": [
      "[LibSVM][0.3216326  0.2134469  0.12689554 0.21332683 0.10513933]\n",
      "[LibSVM][0.46109286 0.16320013 0.23365305 0.24153291 0.21025618]\n",
      "[LibSVM][0.30941768 0.32653568 0.23333651 0.31757456 0.15630694]\n",
      "[LibSVM][0.05863577 0.14909542 0.15381485 0.15376956 0.34540711]\n",
      "[LibSVM][0.49423129 0.32842449 0.38458258 0.34614613 0.17554195]\n",
      "[LibSVM][0.38084406 0.14629292 0.17848126 0.15260859 0.16768978]\n",
      "[LibSVM][0.16251432 0.23863813 0.21989915 0.24367403 0.20330976]\n",
      "[LibSVM][0.25741283 0.26238433 0.45164889 0.18147071 0.06299576]\n",
      "[LibSVM][0.17057834 0.17186352 0.18535158 0.36309534 0.56187991]\n",
      "[LibSVM][0.25498473 0.16565442 0.13026268 0.11839156 0.37577299]\n",
      "[LibSVM][0.48443075 0.1446556  0.17523783 0.28532315 0.19011076]\n",
      "[LibSVM][0.17713172 0.30194203 0.0902137  0.23100298 0.1741303 ]\n",
      "[LibSVM][0.53155719 0.17372883 0.24568116 0.31763286 0.116716  ]\n",
      "[LibSVM][0.41366739 0.22536233 0.24631953 0.11609648 0.23043309]\n",
      "[LibSVM][0.74380246 0.32568682 0.28105597 0.28495859 0.1744172 ]\n",
      "[LibSVM][0.56549665 0.28590945 0.14309924 0.10367077 0.10991579]\n",
      "[LibSVM][0.29853248 0.40749636 0.14954537 0.09510901 0.16396688]\n",
      "[LibSVM][0.27355949 0.14576558 0.19532358 0.15099255 0.24244675]\n",
      "[LibSVM][0.30945036 0.15327935 0.27625831 0.63936877 0.14771978]\n",
      "[LibSVM][0.49139342 0.14748667 0.33029518 0.3329523  0.40391701]\n",
      "[LibSVM][ 0.17929482 -0.00115356  0.17713721  0.23257109  0.40578932]\n",
      "[LibSVM][0.36919504 0.19197882 0.16587203 0.1501607  0.26747406]\n",
      "[LibSVM][0.48190941 0.23546357 0.15999149 0.31263678 0.15717678]\n",
      "[LibSVM][0.22011854 0.49677229 0.2959659  0.22161425 0.14309577]\n",
      "[LibSVM][0.76166207 0.30057165 0.37488005 0.16096377 0.16884821]\n",
      "[LibSVM][0.72416286 0.16555313 0.16329196 0.08171405 0.04500445]\n",
      "[LibSVM][0.28182528 0.37936244 0.17334953 0.16753318 0.20362096]\n",
      "[LibSVM][0.2748155  0.21686335 0.31391451 0.14475172 0.58928427]\n",
      "[LibSVM][0.67926765 0.16706006 0.24006476 0.52858147 0.17127125]\n",
      "[LibSVM][0.38098038 0.38438921 0.17237916 0.13095364 0.19432669]\n",
      "[LibSVM][0.19219392 0.22319091 0.16646602 0.6175078  0.16118712]\n",
      "[LibSVM][0.7019004  0.18411926 0.18780874 0.19791097 0.1599752 ]\n",
      "[LibSVM][0.2545406  0.17455886 0.26022624 0.10738272 0.27713593]\n",
      "[LibSVM][0.2239671  0.47917096 0.16191628 0.13759117 0.17589558]\n",
      "[LibSVM][0.29132543 0.11688703 0.1680459  0.30640759 0.18770406]\n",
      "[LibSVM][0.10045077 0.2549152  0.19578278 0.21009878 0.08127207]\n",
      "[LibSVM][0.60646703 0.17819425 0.30981411 0.23504052 0.32055817 0.22213077]\n",
      "[LibSVM][0.2254511  0.17869411 0.17128953 0.13476847 0.08541641]\n",
      "[LibSVM][0.25520696 0.58887154 0.08902907 0.21363612 0.13649538]\n",
      "[LibSVM][0.35882047 0.27962059 0.28798601 0.13015583 0.14817133]\n",
      "[LibSVM][0.52717592 0.16037268 0.15364221 0.05651337 0.21052508]\n",
      "[LibSVM][0.49144684 0.17562039 0.18768403 0.30794397 0.10953077]\n"
     ]
    },
    {
     "data": {
      "image/png": "[encoded data removed]",
      "text/plain": [
       "<Figure size 432x288 with 1 Axes>"
      ]
     },
     "metadata": {
      "needs_background": "light"
     },
     "output_type": "display_data"
    },
    {
     "name": "stdout",
     "output_type": "stream",
     "text": [
      "len: 211 , 211\n",
      "confusion_matrix: \n",
      "[[149.  20.]\n",
      " [ 20.  22.]]\n",
      "AUC: \n",
      "0.7738799661876584\n",
      "\n"
     ]
    }
   ],
   "source": [
    "main()"
   ]
  },
  {
   "cell_type": "code",
   "execution_count": null,
   "metadata": {},
   "outputs": [],
   "source": []
  }
 ],
 "metadata": {
  "kernelspec": {
   "display_name": "Python 3",
   "language": "python",
   "name": "python3"
  },
  "language_info": {
   "codemirror_mode": {
    "name": "ipython",
    "version": 3
   },
   "file_extension": ".py",
   "mimetype": "text/x-python",
   "name": "python",
   "nbconvert_exporter": "python",
   "pygments_lexer": "ipython3",
   "version": "3.6.3"
  }
 },
 "nbformat": 4,
 "nbformat_minor": 2
}
