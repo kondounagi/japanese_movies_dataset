{
 "cells": [
  {
   "cell_type": "code",
   "execution_count": 4,
   "metadata": {
    "scrolled": true
   },
   "outputs": [],
   "source": [
    "import numpy as np\n",
    "import json\n",
    "import csv\n",
    "import pandas as pd\n",
    "import matplotlib.pyplot as plt\n",
    "\n",
    "from sklearn.linear_model import LogisticRegression\n",
    "import lightgbm as lgb\n",
    "from sklearn import svm\n",
    "import xgboost as xgb\n",
    "from sklearn.discriminant_analysis import LinearDiscriminantAnalysis as LDA\n",
    "\n",
    "from sklearn.ensemble import VotingRegressor, VotingClassifier\n",
    "from sklearn.metrics import confusion_matrix, roc_auc_score, roc_curve\n",
    "from sklearn.preprocessing import StandardScaler\n",
    "%matplotlib inline"
   ]
  },
  {
   "cell_type": "code",
   "execution_count": 5,
   "metadata": {},
   "outputs": [],
   "source": [
    "def load_data(y):\n",
    "    path = '../../data/std_data/'\n",
    "    x_train_std = pd.read_pickle(path +'train/{}_x.pkl'.format(str(y))).values\n",
    "    x_test_std = pd.read_pickle(path +'test/{}_x.pkl'.format(str(y))).values\n",
    "    y_train = pd.read_pickle(path +'train/{}_y.pkl'.format(str(y))).values\n",
    "    y_test = pd.read_pickle(path +'test/{}_y.pkl'.format(str(y))).values\n",
    "    features = pd.read_pickle(path +'train/{}_x.pkl'.format(str(y))).columns\n",
    "    return x_train_std, x_test_std, y_train, y_test, features"
   ]
  },
  {
   "cell_type": "code",
   "execution_count": 6,
   "metadata": {},
   "outputs": [],
   "source": [
    "def plot_roc_curve(fpr, tpr, auc):\n",
    "    # ROC曲線をプロット\n",
    "    plt.plot(fpr, tpr, label='ROC curve (area = %.2f)'%auc)\n",
    "    plt.legend()\n",
    "    plt.title('ROC curve')\n",
    "    plt.xlabel('False Positive Rate')\n",
    "    plt.ylabel('True Positive Rate')\n",
    "    plt.grid(True)\n",
    "    plt.show()"
   ]
  },
  {
   "cell_type": "code",
   "execution_count": 7,
   "metadata": {},
   "outputs": [],
   "source": [
    "def create_models():\n",
    "    lr = LogisticRegression(class_weight=\"balanced\", solver=\"liblinear\",  penalty=\"l2\", C=0.0001)\n",
    "    \n",
    "    sv = svm.SVR(kernel=\"sigmoid\",\n",
    "                                 degree=4,\n",
    "                                 gamma=0.043502212815589775,\n",
    "                                 coef0=0.20190829020616494,\n",
    "                                 tol=0.0001,\n",
    "                                 C=0.000245786293391316,\n",
    "                                 epsilon=0.3056167642389302,\n",
    "                                verbose=True,)\n",
    "\n",
    "    xgboost = xgb.XGBRegressor(silent= True, \n",
    "                           max_depth=1,\n",
    "                           learning_rate=0.14544434403253392,\n",
    "                           n_estimators = 72,\n",
    "                           gamma=0.4356018082020117,\n",
    "                           reg_lambda=2.931451663505623,\n",
    "                           reg_alpha=0.19045302677956732)\n",
    "\n",
    "    lgbm = lgb.LGBMRegressor(\n",
    "        verbosity=1,\n",
    "        boost_from_average='true',\n",
    "        metric='auc',\n",
    "        bagging_freq=5,\n",
    "        max_depth=19,\n",
    "        learning_rate=0.09802221664336347,\n",
    "        n_estimators=703,\n",
    "        subsample=0.7596658467659505,\n",
    "        reg_lambda=0.4087114877863393,  \n",
    "    )\n",
    "    \n",
    "    lda = LDA(solver=\"eigen\", shrinkage=1)\n",
    "\n",
    "#     estimators_rgs = [('sv', sv), ('xgboost', xgboost), ('lgbm', lgbm)]\n",
    "    estimators_rgs = [('sv', sv)]\n",
    "    \n",
    "    return estimators_rgs"
   ]
  },
  {
   "cell_type": "code",
   "execution_count": 8,
   "metadata": {},
   "outputs": [],
   "source": [
    "def main():\n",
    "    \n",
    "    \n",
    "    path = '../../data/dataframes/std_data/'\n",
    "#     df =  pd.read_pickle('../../data/dataframes/unificated_data_set.pkl')\n",
    "    \n",
    "    cm_all = np.zeros((2, 2))\n",
    "    \n",
    "    # 予測した確率全体を格納\n",
    "    probs_all = np.array([])\n",
    "    y_true_all = np.array([])\n",
    "    \n",
    "    for y in range(1978, 2020):\n",
    "        \n",
    "        # データの生成\n",
    "        x_train, x_test, y_train, y_test, features = load_data(y)\n",
    "       \n",
    "        # 学習\n",
    "        estimators= create_models()\n",
    "        \n",
    "        vr = VotingRegressor(estimators)\n",
    "\n",
    "        vr.fit(x_train, y_train)\n",
    "        \n",
    "        # 予測(確率)\n",
    "        probs = vr.predict(x_test)\n",
    "        probs_all = np.hstack((probs_all, probs))\n",
    "        y_true_all = np.hstack((y_true_all, y_test))\n",
    "        \n",
    "        print(probs)\n",
    "\n",
    "        # 混同行列\n",
    "        y_pred = np.where((probs ==  max(probs)), 1, 0) #確率→0/1\n",
    "        cm = confusion_matrix(y_true=y_test, y_pred=y_pred)\n",
    "        cm_all += cm\n",
    "    \n",
    "    auc = roc_auc_score(y_true_all, probs_all)\n",
    "    fpr, tpr, thresholds = roc_curve(y_true_all, probs_all)\n",
    "    \n",
    "    plot_roc_curve(fpr, tpr, auc)\n",
    "    \n",
    "    print(\"len: {0} , {1}\".format(len(y_true_all), len(probs_all) ))\n",
    "    print(\"confusion_matrix: \")\n",
    "    print(cm_all)\n",
    "    print(\"AUC: \")\n",
    "    print(auc)\n",
    "    print()\n",
    "    return"
   ]
  },
  {
   "cell_type": "code",
   "execution_count": 9,
   "metadata": {
    "scrolled": false
   },
   "outputs": [
    {
     "name": "stdout",
     "output_type": "stream",
     "text": [
      "[LibSVM][0.30580789 0.30564387 0.30547808 0.30540372 0.30560268]\n",
      "[LibSVM][0.30593323 0.30521432 0.30517564 0.30617554 0.30539501]\n",
      "[LibSVM][0.30570494 0.30659332 0.30554006 0.30559091 0.30512126]\n",
      "[LibSVM][0.30566617 0.30543004 0.30507452 0.30498393 0.3054972 ]\n",
      "[LibSVM][0.3058696  0.30527224 0.30543854 0.30651597 0.3049204 ]\n",
      "[LibSVM][0.30606462 0.3052377  0.30552445 0.3054822  0.30550741]\n",
      "[LibSVM][0.30517683 0.30595254 0.30479771 0.30595302 0.30551031]\n",
      "[LibSVM][0.30565616 0.30466567 0.30552394 0.30513271 0.3049988 ]\n",
      "[LibSVM][0.30468122 0.30536791 0.30526694 0.30570737 0.30543331]\n",
      "[LibSVM][0.30521909 0.30534103 0.30569973 0.30551182 0.30505604]\n",
      "[LibSVM][0.30643271 0.30498952 0.30550903 0.30553003 0.30449575]\n",
      "[LibSVM][0.30603852 0.30513859 0.30505287 0.30533348 0.30541707]\n",
      "[LibSVM][0.30681046 0.30533812 0.30528238 0.30525525 0.3052455 ]\n",
      "[LibSVM][0.30674606 0.30574582 0.30522266 0.30519566 0.30559716]\n",
      "[LibSVM][0.30642606 0.3054582  0.30559078 0.3051348  0.30518044]\n",
      "[LibSVM][0.30669081 0.3053132  0.3047802  0.30574054 0.30555743]\n",
      "[LibSVM][0.3059656  0.30671179 0.30568317 0.30590716 0.30486692]\n",
      "[LibSVM][0.30582775 0.3048818  0.3050824  0.3053738  0.30548592]\n",
      "[LibSVM][0.30667064 0.3052608  0.30510526 0.30607256 0.30521168]\n",
      "[LibSVM][0.30694973 0.30551563 0.30562657 0.30532677 0.3049493 ]\n",
      "[LibSVM][0.30533387 0.30559633 0.30508961 0.30545848 0.30564938]\n",
      "[LibSVM][0.30656768 0.30550775 0.30538415 0.305792   0.30606008]\n",
      "[LibSVM][0.30698359 0.30499308 0.30474012 0.30576303 0.30505284]\n",
      "[LibSVM][0.3049509  0.30647495 0.30550939 0.30581782 0.30557062]\n",
      "[LibSVM][0.30594931 0.30518292 0.30519862 0.30481648 0.30563397]\n",
      "[LibSVM][0.30676373 0.30518563 0.30508055 0.30515927 0.305204  ]\n",
      "[LibSVM][0.30559238 0.30616984 0.30548029 0.30479488 0.30540384]\n",
      "[LibSVM][0.30557784 0.30556808 0.30520573 0.30554335 0.30654398]\n",
      "[LibSVM][0.30583425 0.30512337 0.30615237 0.30627367 0.30544412]\n",
      "[LibSVM][0.30632043 0.30536315 0.30480135 0.30553318 0.30499808]\n",
      "[LibSVM][0.30542869 0.30571444 0.30566728 0.30655163 0.30573698]\n",
      "[LibSVM][0.30615938 0.30460826 0.30558684 0.30518966 0.30537686]\n",
      "[LibSVM][0.30633546 0.30475116 0.30558297 0.30458983 0.30580011]\n",
      "[LibSVM][0.30521272 0.30651085 0.30471442 0.30472376 0.30481437]\n",
      "[LibSVM][0.30552848 0.30483362 0.30544001 0.30528914 0.30532645]\n",
      "[LibSVM][0.30512715 0.30585373 0.30475981 0.30555879 0.30551553]\n",
      "[LibSVM][0.30678028 0.30525942 0.30519842 0.30578138 0.30560489 0.30536599]\n",
      "[LibSVM][0.30636416 0.30555465 0.30576711 0.30532355 0.3047583 ]\n",
      "[LibSVM][0.30599202 0.30496895 0.30506803 0.3055178  0.30513352]\n",
      "[LibSVM][0.30585237 0.30534112 0.30548378 0.30519544 0.30505196]\n",
      "[LibSVM][0.30553532 0.30528205 0.30525751 0.30508747 0.3050527 ]\n",
      "[LibSVM][0.30717203 0.30562159 0.30570099 0.30578976 0.30514799]\n"
     ]
    },
    {
     "data": {
      "image/png": "[encoded data removed]",
      "text/plain": [
       "<Figure size 432x288 with 1 Axes>"
      ]
     },
     "metadata": {
      "needs_background": "light"
     },
     "output_type": "display_data"
    },
    {
     "name": "stdout",
     "output_type": "stream",
     "text": [
      "len: 211 , 211\n",
      "confusion_matrix: \n",
      "[[154.  15.]\n",
      " [ 15.  27.]]\n",
      "AUC: \n",
      "0.794590025359256\n",
      "\n"
     ]
    }
   ],
   "source": [
    "main()"
   ]
  },
  {
   "cell_type": "code",
   "execution_count": null,
   "metadata": {},
   "outputs": [],
   "source": []
  }
 ],
 "metadata": {
  "kernelspec": {
   "display_name": "Python 3",
   "language": "python",
   "name": "python3"
  },
  "language_info": {
   "codemirror_mode": {
    "name": "ipython",
    "version": 3
   },
   "file_extension": ".py",
   "mimetype": "text/x-python",
   "name": "python",
   "nbconvert_exporter": "python",
   "pygments_lexer": "ipython3",
   "version": "3.6.8"
  }
 },
 "nbformat": 4,
 "nbformat_minor": 2
}
