{
 "cells": [
  {
   "cell_type": "code",
   "execution_count": 1,
   "metadata": {
    "scrolled": true
   },
   "outputs": [],
   "source": [
    "import numpy as np\n",
    "import json\n",
    "import csv\n",
    "import pandas as pd\n",
    "import matplotlib.pyplot as plt\n",
    "\n",
    "from sklearn.linear_model import LogisticRegression\n",
    "import lightgbm as lgb\n",
    "from sklearn import svm\n",
    "import xgboost as xgb\n",
    "from sklearn.discriminant_analysis import LinearDiscriminantAnalysis as LDA\n",
    "\n",
    "from sklearn.ensemble import VotingRegressor, VotingClassifier\n",
    "from sklearn.metrics import confusion_matrix, roc_auc_score, roc_curve\n",
    "from sklearn.preprocessing import StandardScaler\n",
    "%matplotlib inline"
   ]
  },
  {
   "cell_type": "code",
   "execution_count": 3,
   "metadata": {},
   "outputs": [],
   "source": [
    "def load_data(y):\n",
    "    path = '../../data/std_data/'\n",
    "    x_train_std = pd.read_pickle(path +'train/{}_x.pkl'.format(str(y))).values\n",
    "    x_test_std = pd.read_pickle(path +'test/{}_x.pkl'.format(str(y))).values\n",
    "    y_train = pd.read_pickle(path +'train/{}_y.pkl'.format(str(y))).values\n",
    "    y_test = pd.read_pickle(path +'test/{}_y.pkl'.format(str(y))).values\n",
    "    features = pd.read_pickle(path +'train/{}_x.pkl'.format(str(y))).columns\n",
    "    return x_train_std, x_test_std, y_train, y_test, features"
   ]
  },
  {
   "cell_type": "code",
   "execution_count": 6,
   "metadata": {},
   "outputs": [],
   "source": [
    "def plot_roc_curve(fpr, tpr, auc):\n",
    "    # ROC曲線をプロット\n",
    "    plt.plot(fpr, tpr, label='ROC curve (area = %.2f)'%auc)\n",
    "    plt.legend()\n",
    "    plt.title('ROC curve')\n",
    "    plt.xlabel('False Positive Rate')\n",
    "    plt.ylabel('True Positive Rate')\n",
    "    plt.grid(True)\n",
    "    plt.show()"
   ]
  },
  {
   "cell_type": "code",
   "execution_count": 9,
   "metadata": {},
   "outputs": [],
   "source": [
    "def create_models():\n",
    "    lr = LogisticRegression(class_weight=\"balanced\", solver=\"liblinear\",  penalty=\"l2\", C=0.0001)\n",
    "    \n",
    "    sv = svm.SVR(kernel=\"poly\",\n",
    "                                 degree=8,\n",
    "                                 gamma=0.03521735642853326,\n",
    "                                 coef0=0.34010389238140537,\n",
    "                                 tol=1e-05,\n",
    "                                 C=0.001,\n",
    "                                 epsilon=0.14620884632948022,\n",
    "                                verbose=True,)\n",
    "\n",
    "    xgboost = xgb.XGBRegressor(silent= True, \n",
    "                           max_depth=1,\n",
    "                           learning_rate=0.14544434403253392,\n",
    "                           n_estimators = 72,\n",
    "                           gamma=0.4356018082020117,\n",
    "                           reg_lambda=2.931451663505623,\n",
    "                           reg_alpha=0.19045302677956732)\n",
    "\n",
    "    lgbm = lgb.LGBMRegressor(\n",
    "        verbosity=1,\n",
    "        boost_from_average='true',\n",
    "        metric='auc',\n",
    "        bagging_freq=5,\n",
    "        max_depth=19,\n",
    "        learning_rate=0.09802221664336347,\n",
    "        n_estimators=703,\n",
    "        subsample=0.7596658467659505,\n",
    "        reg_lambda=0.4087114877863393,  \n",
    "    )\n",
    "    \n",
    "    lda = LDA(solver=\"eigen\", shrinkage=1)\n",
    "\n",
    "    estimators_rgs = [('sv', sv), ('xgboost', xgboost), ('lgbm', lgbm)]\n",
    "    \n",
    "    return estimators_rgs"
   ]
  },
  {
   "cell_type": "code",
   "execution_count": 10,
   "metadata": {},
   "outputs": [],
   "source": [
    "def main():\n",
    "    \n",
    "    \n",
    "    path = '../../data/dataframes/std_data/'\n",
    "#     df =  pd.read_pickle('../../data/dataframes/unificated_data_set.pkl')\n",
    "    \n",
    "    cm_all = np.zeros((2, 2))\n",
    "    \n",
    "    # 予測した確率全体を格納\n",
    "    probs_all = np.array([])\n",
    "    y_true_all = np.array([])\n",
    "    \n",
    "    for y in range(1978, 2020):\n",
    "        \n",
    "        # データの生成\n",
    "        x_train, x_test, y_train, y_test, features = load_data(y)\n",
    "       \n",
    "        # 学習\n",
    "        estimators= create_models()\n",
    "        \n",
    "        vr = VotingRegressor(estimators)\n",
    "\n",
    "        vr.fit(x_train, y_train)\n",
    "        \n",
    "        # 予測(確率)\n",
    "        probs = vr.predict(x_test)\n",
    "        probs_all = np.hstack((probs_all, probs))\n",
    "        y_true_all = np.hstack((y_true_all, y_test))\n",
    "        \n",
    "        print(probs)\n",
    "\n",
    "        # 混同行列\n",
    "        y_pred = np.where((probs ==  max(probs)), 1, 0) #確率→0/1\n",
    "        cm = confusion_matrix(y_true=y_test, y_pred=y_pred)\n",
    "        cm_all += cm\n",
    "    \n",
    "    auc = roc_auc_score(y_true_all, probs_all)\n",
    "    fpr, tpr, thresholds = roc_curve(y_true_all, probs_all)\n",
    "    \n",
    "    plot_roc_curve(fpr, tpr, auc)\n",
    "    \n",
    "    print(\"len: {0} , {1}\".format(len(y_true_all), len(probs_all) ))\n",
    "    print(\"confusion_matrix: \")\n",
    "    print(cm_all)\n",
    "    print(\"AUC: \")\n",
    "    print(auc)\n",
    "    print()\n",
    "    return"
   ]
  },
  {
   "cell_type": "code",
   "execution_count": 11,
   "metadata": {
    "scrolled": false
   },
   "outputs": [
    {
     "name": "stdout",
     "output_type": "stream",
     "text": [
      "[LibSVM][0.24265484 0.12292849 0.0808274  0.12345066 0.08915181]\n",
      "[LibSVM][0.3174956  0.07700879 0.1027298  0.22382121 0.10757573]\n",
      "[LibSVM][0.200123   0.29343527 0.14071987 0.22888646 0.07678397]\n",
      "[LibSVM][0.0252648  0.2114061  0.09127731 0.08576803 0.26429916]\n",
      "[LibSVM][0.23877467 0.4271     0.15355391 0.25747094 0.07983452]\n",
      "[LibSVM][0.35077026 0.09300522 0.08888738 0.06812772 0.13435625]\n",
      "[LibSVM][0.09477487 0.16882009 0.12894777 0.24043363 0.12966311]\n",
      "[LibSVM][0.19744781 0.14531987 0.29326043 0.13327864 0.02843674]\n",
      "[LibSVM][0.09791697 0.086035   0.18610589 0.26291487 0.25750697]\n",
      "[LibSVM][0.17545678 0.13292764 0.08830559 0.07131929 0.23779861]\n",
      "[LibSVM][0.43819207 0.12449298 0.08821565 0.14148995 0.14617843]\n",
      "[LibSVM][0.09232227 0.15372838 0.08916982 0.28300013 0.1475299 ]\n",
      "[LibSVM][0.43686886 0.07561549 0.17435653 0.18610939 0.09113189]\n",
      "[LibSVM][0.39362435 0.17614889 0.10102213 0.08352102 0.11812703]\n",
      "[LibSVM][0.63122642 0.23174917 0.16922684 0.15574813 0.08513344]\n",
      "[LibSVM][0.58894823 0.16911815 0.06364062 0.04487125 0.09624915]\n",
      "[LibSVM][0.20517772 0.40771623 0.08428045 0.05056625 0.11647668]\n",
      "[LibSVM][0.26754147 0.09891449 0.0922322  0.07609953 0.14933401]\n",
      "[LibSVM][0.28475407 0.08941416 0.19063674 0.47493751 0.0700309 ]\n",
      "[LibSVM][0.53676861 0.07428196 0.19953708 0.15185777 0.18240193]\n",
      "[LibSVM][0.092748   0.04422389 0.12397535 0.14449864 0.26775836]\n",
      "[LibSVM][0.33019967 0.11894957 0.10920536 0.10454567 0.20534824]\n",
      "[LibSVM][0.43676519 0.13306613 0.10874855 0.21225763 0.10757863]\n",
      "[LibSVM][0.11737273 0.45626903 0.31162837 0.16068705 0.07417011]\n",
      "[LibSVM][0.49389741 0.17603373 0.22917639 0.10099021 0.1259446 ]\n",
      "[LibSVM][0.67558654 0.15158767 0.13629236 0.08197524 0.06230399]\n",
      "[LibSVM][0.13857013 0.3019333  0.09068325 0.09251409 0.13954006]\n",
      "[LibSVM][0.14320164 0.14380475 0.17541443 0.12113368 0.55743294]\n",
      "[LibSVM][0.38153004 0.09132885 0.20541635 0.59247088 0.09099673]\n",
      "[LibSVM][0.33755713 0.23621525 0.09790532 0.07213436 0.133292  ]\n",
      "[LibSVM][0.16517619 0.14166137 0.10718148 0.75767606 0.10500751]\n",
      "[LibSVM][0.62611374 0.17807263 0.17067361 0.08134818 0.13078871]\n",
      "[LibSVM][0.20781534 0.11684347 0.20185203 0.04540251 0.3359325 ]\n",
      "[LibSVM][0.13297883 0.65586123 0.11847852 0.1457084  0.11573593]\n",
      "[LibSVM][0.24469349 0.07847287 0.12493788 0.17650266 0.12050522]\n",
      "[LibSVM][0.05595714 0.14758165 0.10447007 0.12020344 0.09230834]\n",
      "[LibSVM][0.5488922  0.058152   0.19710318 0.29016072 0.22691899 0.20531118]\n",
      "[LibSVM][0.15385457 0.10557505 0.08974237 0.07024417 0.09181943]\n",
      "[LibSVM][0.19149726 0.30896557 0.05986916 0.1810121  0.08565452]\n",
      "[LibSVM][0.29295746 0.17209278 0.16122754 0.05768701 0.11347629]\n",
      "[LibSVM][0.29605714 0.08554291 0.0676637  0.05403738 0.12163233]\n",
      "[LibSVM][0.45970789 0.12413941 0.1837229  0.33363293 0.05731405]\n"
     ]
    },
    {
     "data": {
      "image/png": "[encoded data removed]",
      "text/plain": [
       "<Figure size 432x288 with 1 Axes>"
      ]
     },
     "metadata": {
      "needs_background": "light"
     },
     "output_type": "display_data"
    },
    {
     "name": "stdout",
     "output_type": "stream",
     "text": [
      "len: 211 , 211\n",
      "confusion_matrix: \n",
      "[[149.  20.]\n",
      " [ 20.  22.]]\n",
      "AUC: \n",
      "0.7633136094674556\n",
      "\n"
     ]
    }
   ],
   "source": [
    "main()"
   ]
  },
  {
   "cell_type": "code",
   "execution_count": null,
   "metadata": {},
   "outputs": [],
   "source": []
  }
 ],
 "metadata": {
  "kernelspec": {
   "display_name": "Python 3",
   "language": "python",
   "name": "python3"
  },
  "language_info": {
   "codemirror_mode": {
    "name": "ipython",
    "version": 3
   },
   "file_extension": ".py",
   "mimetype": "text/x-python",
   "name": "python",
   "nbconvert_exporter": "python",
   "pygments_lexer": "ipython3",
   "version": "3.6.3"
  }
 },
 "nbformat": 4,
 "nbformat_minor": 2
}
