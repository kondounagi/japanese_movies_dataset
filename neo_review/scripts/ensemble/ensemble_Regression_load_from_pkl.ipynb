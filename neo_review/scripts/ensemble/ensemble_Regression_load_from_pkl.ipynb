{
 "cells": [
  {
   "cell_type": "code",
   "execution_count": 23,
   "metadata": {
    "scrolled": true
   },
   "outputs": [],
   "source": [
    "import numpy as np\n",
    "import json\n",
    "import csv\n",
    "import pandas as pd\n",
    "import matplotlib.pyplot as plt\n",
    "\n",
    "import lightgbm as lgb\n",
    "from sklearn import svm\n",
    "import xgboost as xgb\n",
    "\n",
    "from sklearn.ensemble import VotingRegressor, VotingClassifier\n",
    "from sklearn.metrics import confusion_matrix, roc_auc_score, roc_curve\n",
    "from sklearn.preprocessing import StandardScaler\n",
    "%matplotlib inline"
   ]
  },
  {
   "cell_type": "code",
   "execution_count": 24,
   "metadata": {},
   "outputs": [],
   "source": [
    "def load_data(y):\n",
    "    path = '../../data/std_data/'\n",
    "    x_train_std = pd.read_pickle(path +'train/{}_x.pkl'.format(str(y))).values\n",
    "    x_test_std = pd.read_pickle(path +'test/{}_x.pkl'.format(str(y))).values\n",
    "    y_train = pd.read_pickle(path +'train/{}_y.pkl'.format(str(y))).values\n",
    "    y_test = pd.read_pickle(path +'test/{}_y.pkl'.format(str(y))).values\n",
    "    features = pd.read_pickle(path +'train/{}_x.pkl'.format(str(y))).columns\n",
    "    return x_train_std, x_test_std, y_train, y_test, features"
   ]
  },
  {
   "cell_type": "code",
   "execution_count": 25,
   "metadata": {},
   "outputs": [],
   "source": [
    "def plot_roc_curve(fpr, tpr, auc):\n",
    "    # ROC曲線をプロット\n",
    "    plt.plot(fpr, tpr, label='ROC curve (area = %.2f)'%auc)\n",
    "    plt.legend()\n",
    "    plt.title('ROC curve')\n",
    "    plt.xlabel('False Positive Rate')\n",
    "    plt.ylabel('True Positive Rate')\n",
    "    plt.grid(True)\n",
    "    plt.show()"
   ]
  },
  {
   "cell_type": "code",
   "execution_count": 35,
   "metadata": {},
   "outputs": [],
   "source": [
    "def create_models():\n",
    "    \n",
    "    sv = svm.SVR(kernel=\"sigmoid\",\n",
    "                                 degree=4,\n",
    "                                 gamma=0.043502212815589775,\n",
    "                                 coef0=0.20190829020616494,\n",
    "                                 tol=0.0001,\n",
    "                                 C=0.000245786293391316,\n",
    "                                 epsilon=0.3056167642389302,\n",
    "                                verbose=True,)\n",
    "\n",
    "    xgboost = xgb.XGBRegressor(silent= True, \n",
    "                           max_depth=4,\n",
    "                           learning_rate=0.12765177534095626,\n",
    "                           n_estimators = 46,\n",
    "                           gamma=0.060805284848630535,\n",
    "                           reg_lambda=4.995675788308118,\n",
    "                           reg_alpha=2.1912254426545754,\n",
    "                           sub_sample=0.45297631180790854,\n",
    "                           scale_pos_weight=1.1672978934986058)\n",
    "\n",
    "    lgbm = lgb.LGBMRegressor(\n",
    "        random_state=0,\n",
    "        verbosity=-1,\n",
    "        bagging_seed=0,\n",
    "        boost_from_average='true',\n",
    "        metric='auc',\n",
    "        bagging_freq=4,\n",
    "        min_data_in_leaf=21,\n",
    "        max_depth=13,\n",
    "        learning_rate=0.08731913651405197,\n",
    "        n_estimators=3394,\n",
    "        subsample=0.7054763057027115,\n",
    "        num_leaves=438,\n",
    "        reg_lambda=0.9377125325944119,  \n",
    "    )\n",
    "\n",
    "#     estimators_rgs = [('sv', sv), ('xgboost', xgboost), ('lgbm', lgbm)]\n",
    "    estimators_rgs = [('sv', sv), ('xgboost', xgboost), ('lgbm', lgbm)]\n",
    "    \n",
    "    return estimators_rgs"
   ]
  },
  {
   "cell_type": "code",
   "execution_count": 36,
   "metadata": {},
   "outputs": [],
   "source": [
    "def main():\n",
    "    \n",
    "    \n",
    "    path = '../../data/dataframes/std_data/'\n",
    "#     df =  pd.read_pickle('../../data/dataframes/unificated_data_set.pkl')\n",
    "    \n",
    "    cm_all = np.zeros((2, 2))\n",
    "    \n",
    "    # 予測した確率全体を格納\n",
    "    probs_all = np.array([])\n",
    "    y_true_all = np.array([])\n",
    "    \n",
    "    for y in range(1978, 2020):\n",
    "        \n",
    "        # データの生成\n",
    "        x_train, x_test, y_train, y_test, features = load_data(y)\n",
    "       \n",
    "        # 学習\n",
    "        estimators= create_models()\n",
    "        \n",
    "        vr = VotingRegressor(estimators)\n",
    "\n",
    "        vr.fit(x_train, y_train)\n",
    "        \n",
    "        # 予測(確率)\n",
    "        probs = vr.predict(x_test)\n",
    "        probs_all = np.hstack((probs_all, probs))\n",
    "        y_true_all = np.hstack((y_true_all, y_test))\n",
    "        \n",
    "        print(probs)\n",
    "\n",
    "        # 混同行列\n",
    "        y_pred = np.where((probs ==  max(probs)), 1, 0) #確率→0/1\n",
    "        cm = confusion_matrix(y_true=y_test, y_pred=y_pred)\n",
    "        cm_all += cm\n",
    "    \n",
    "    auc = roc_auc_score(y_true_all, probs_all)\n",
    "    fpr, tpr, thresholds = roc_curve(y_true_all, probs_all)\n",
    "    \n",
    "    plot_roc_curve(fpr, tpr, auc)\n",
    "    \n",
    "    print(\"len: {0} , {1}\".format(len(y_true_all), len(probs_all) ))\n",
    "    print(\"confusion_matrix: \")\n",
    "    print(cm_all)\n",
    "    print(\"AUC: \")\n",
    "    print(auc)\n",
    "    print()\n",
    "    return"
   ]
  },
  {
   "cell_type": "code",
   "execution_count": 37,
   "metadata": {
    "scrolled": false
   },
   "outputs": [
    {
     "name": "stdout",
     "output_type": "stream",
     "text": [
      "[LibSVM][0.30695627 0.18663848 0.10632863 0.20459561 0.22759412]\n",
      "[LibSVM][0.41533278 0.12242573 0.14756406 0.27662802 0.15506782]\n",
      "[LibSVM][0.22995942 0.37832221 0.21227851 0.33984905 0.12067668]\n",
      "[LibSVM][0.11301188 0.15110359 0.13775075 0.13772056 0.25436373]\n",
      "[LibSVM][0.38670365 0.3182631  0.32304295 0.39914834 0.12581401]\n",
      "[LibSVM][0.45182741 0.14387713 0.12794224 0.1517037  0.16263149]\n",
      "[LibSVM][0.1230828  0.27240449 0.18700318 0.3012467  0.16802454]\n",
      "[LibSVM][0.21789974 0.17793395 0.38883669 0.16551724 0.03830657]\n",
      "[LibSVM][0.12846994 0.11391946 0.26706426 0.35304876 0.39276389]\n",
      "[LibSVM][0.19099021 0.17481517 0.16097316 0.10655892 0.29517079]\n",
      "[LibSVM][0.44195602 0.12409595 0.10296991 0.24426144 0.1820785 ]\n",
      "[LibSVM][0.15693516 0.20994662 0.09543239 0.35270785 0.16408413]\n",
      "[LibSVM][0.58261114 0.13991164 0.20732509 0.23844137 0.1401777 ]\n",
      "[LibSVM][0.51029569 0.24499121 0.17960605 0.09736113 0.20046288]\n",
      "[LibSVM][0.80968312 0.30726018 0.30590556 0.2650913  0.1254795 ]\n",
      "[LibSVM][0.59202658 0.21485812 0.14111514 0.09962972 0.13089598]\n",
      "[LibSVM][0.33148506 0.51690576 0.13179129 0.09361659 0.12396369]\n",
      "[LibSVM][0.34888111 0.10219479 0.13031818 0.12384619 0.20190183]\n",
      "[LibSVM][0.36898446 0.13535484 0.18559911 0.56811021 0.11657457]\n",
      "[LibSVM][0.54768555 0.11533223 0.30607489 0.28114115 0.27812841]\n",
      "[LibSVM][0.15727691 0.07754845 0.14064105 0.18059347 0.39317666]\n",
      "[LibSVM][0.40918654 0.144657   0.15663142 0.19629773 0.27000624]\n",
      "[LibSVM][0.48729531 0.21267815 0.11285967 0.26984132 0.14218595]\n",
      "[LibSVM][0.19780692 0.5592595  0.35295151 0.23703356 0.12269655]\n",
      "[LibSVM][0.65300624 0.28681965 0.28083498 0.15099726 0.12665547]\n",
      "[LibSVM][0.77706385 0.14037652 0.1745692  0.08194131 0.04575402]\n",
      "[LibSVM][0.21801177 0.4605604  0.1412225  0.1167024  0.19764217]\n",
      "[LibSVM][0.26510749 0.2020963  0.28121756 0.12132483 0.59809498]\n",
      "[LibSVM][0.54966169 0.14324788 0.24666219 0.58697037 0.16486395]\n",
      "[LibSVM][0.4496761  0.29472413 0.14748695 0.14023848 0.1737932 ]\n",
      "[LibSVM][0.22759807 0.19249833 0.14792476 0.66463805 0.16020971]\n",
      "[LibSVM][0.64694984 0.16764031 0.22397265 0.1920218  0.14918531]\n",
      "[LibSVM][0.28379278 0.1453532  0.22885267 0.1053886  0.32973592]\n",
      "[LibSVM][0.18980008 0.56407786 0.12484659 0.12646693 0.1781849 ]\n",
      "[LibSVM][0.28974116 0.14687    0.11022449 0.22979574 0.15175745]\n",
      "[LibSVM][0.09269178 0.22651364 0.15596784 0.20401815 0.15581604]\n",
      "[LibSVM][0.61818522 0.13716741 0.27974814 0.31826835 0.25912075 0.18442917]\n",
      "[LibSVM][0.21866173 0.12161387 0.1546565  0.1542838  0.07292846]\n",
      "[LibSVM][0.27878387 0.42641813 0.07371707 0.23827917 0.12422045]\n",
      "[LibSVM][0.2890104  0.20101198 0.20152094 0.11012998 0.14572351]\n",
      "[LibSVM][0.38845408 0.12824892 0.11225208 0.05160448 0.16623879]\n",
      "[LibSVM][0.5172444  0.18045366 0.18987391 0.3890732  0.10042681]\n"
     ]
    },
    {
     "data": {
      "image/png": "[encoded data removed]",
      "text/plain": [
       "<Figure size 432x288 with 1 Axes>"
      ]
     },
     "metadata": {
      "needs_background": "light"
     },
     "output_type": "display_data"
    },
    {
     "name": "stdout",
     "output_type": "stream",
     "text": [
      "len: 211 , 211\n",
      "confusion_matrix: \n",
      "[[149.  20.]\n",
      " [ 20.  22.]]\n",
      "AUC: \n",
      "0.7774020850943928\n",
      "\n"
     ]
    }
   ],
   "source": [
    "main()"
   ]
  },
  {
   "cell_type": "code",
   "execution_count": null,
   "metadata": {},
   "outputs": [],
   "source": [
    "# xgboost: \n",
    "# 0.7607072414764722\n",
    "\n",
    "# svm\n",
    "# 0.794590025359256\n",
    "\n",
    "# lgbm\n",
    "# 0.7602141448295294\n",
    "\n",
    "# ('sv', sv), ('xgboost', xgboost),\n",
    "# 0.7603550295857988\n",
    "\n",
    "# ('xgboost', xgboost), ('lgbm', lgbm)\n",
    "# 0.7772612003381234\n",
    "\n",
    "# ('sv', sv), ('lgbm', lgbm)\n",
    "# 0.7606367990983375\n",
    "\n",
    "# ('sv', sv), ('xgboost', xgboost), ('lgbm', lgbm)\n",
    "# 0.7774020850943928"
   ]
  },
  {
   "cell_type": "code",
   "execution_count": null,
   "metadata": {},
   "outputs": [],
   "source": []
  }
 ],
 "metadata": {
  "kernelspec": {
   "display_name": "Python 3",
   "language": "python",
   "name": "python3"
  },
  "language_info": {
   "codemirror_mode": {
    "name": "ipython",
    "version": 3
   },
   "file_extension": ".py",
   "mimetype": "text/x-python",
   "name": "python",
   "nbconvert_exporter": "python",
   "pygments_lexer": "ipython3",
   "version": "3.6.3"
  }
 },
 "nbformat": 4,
 "nbformat_minor": 2
}
