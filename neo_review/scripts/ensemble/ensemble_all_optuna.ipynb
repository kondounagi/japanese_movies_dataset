{
 "cells": [
  {
   "cell_type": "code",
   "execution_count": 17,
   "metadata": {},
   "outputs": [],
   "source": [
    "import numpy as np\n",
    "import json\n",
    "import csv\n",
    "import pandas as pd\n",
    "import matplotlib.pyplot as plt\n",
    "\n",
    "from sklearn.linear_model import LogisticRegression\n",
    "from sklearn.discriminant_analysis import LinearDiscriminantAnalysis as LDA\n",
    "import lightgbm as lgb\n",
    "from sklearn import svm\n",
    "import xgboost as xgb\n",
    "import catboost\n",
    "from sklearn.neural_network import MLPRegressor\n",
    "import optuna\n",
    "\n",
    "from sklearn.metrics import confusion_matrix, roc_auc_score, roc_curve\n",
    "from sklearn.preprocessing import StandardScaler\n",
    "%matplotlib inline"
   ]
  },
  {
   "cell_type": "code",
   "execution_count": 18,
   "metadata": {},
   "outputs": [],
   "source": [
    "def load_data(y):\n",
    "    path = '../../data/std_data/'\n",
    "    x_train_std = pd.read_pickle(path +'train/{}_x.pkl'.format(str(y))).values\n",
    "    x_test_std = pd.read_pickle(path +'test/{}_x.pkl'.format(str(y))).values\n",
    "    y_train = pd.read_pickle(path +'train/{}_y.pkl'.format(str(y))).values\n",
    "    y_test = pd.read_pickle(path +'test/{}_y.pkl'.format(str(y))).values\n",
    "    features = pd.read_pickle(path +'train/{}_x.pkl'.format(str(y))).columns\n",
    "    return x_train_std, x_test_std, y_train, y_test, features"
   ]
  },
  {
   "cell_type": "code",
   "execution_count": 19,
   "metadata": {},
   "outputs": [],
   "source": [
    "def plot_roc_curve(fpr, tpr, auc):\n",
    "    # ROC曲線をプロット\n",
    "    plt.plot(fpr, tpr, label='ROC curve (area = %.2f)'%auc)\n",
    "    plt.legend()\n",
    "    plt.title('ROC curve')\n",
    "    plt.xlabel('False Positive Rate')\n",
    "    plt.ylabel('True Positive Rate')\n",
    "    plt.grid(True)\n",
    "    plt.show()"
   ]
  },
  {
   "cell_type": "code",
   "execution_count": 20,
   "metadata": {},
   "outputs": [],
   "source": [
    "def train():\n",
    "    \n",
    "    # 予測した確率全体を格納\n",
    "    probs_all_lr = np.array([])\n",
    "    probs_all_lda = np.array([])\n",
    "    probs_all_sv = np.array([])\n",
    "    probs_all_lgbm = np.array([])\n",
    "    probs_all_xgb = np.array([])\n",
    "    probs_all_cb = np.array([])\n",
    "    probs_all_mlp = np.array([])\n",
    "    \n",
    "    y_true_all = np.array([])\n",
    "    \n",
    "    for y in range(1978, 2020):\n",
    "        \n",
    "        # データの生成\n",
    "        x_train_std, x_test_std, y_train, y_test, features = load_data(y)\n",
    "        y_true_all = np.hstack((y_true_all, y_test))\n",
    "       \n",
    "        # logistic regression\n",
    "        lr = LogisticRegression(class_weight=\"balanced\", solver=\"liblinear\",  penalty=\"l2\", C=0.0001, random_state=0,) # ロジスティック回帰モデルのインスタンスを作成\n",
    "        lr.fit(x_train_std, y_train) # ロジスティック回帰モデルの重みを学習\n",
    "        probs_lr = lr.predict_proba(x_test_std)[:,1]\n",
    "        probs_all_lr = np.hstack((probs_all_lr, probs_lr))\n",
    "        \n",
    "        # LDA\n",
    "        lda = LDA(solver=\"eigen\", shrinkage=1).fit(x_train_std,  y_train)\n",
    "        probs_lda = lda.predict_proba(x_test_std)[:,1]\n",
    "        probs_all_lda = np.hstack((probs_all_lda, probs_lda))\n",
    "        \n",
    "        # svm\n",
    "        sv = svm.SVR(kernel=\"sigmoid\",\n",
    "                                     degree=4,\n",
    "                                     gamma=0.043502212815589775,\n",
    "                                     coef0=0.20190829020616494,\n",
    "                                     tol=0.0001,\n",
    "                                     C=0.000245786293391316,\n",
    "                                     epsilon=0.3056167642389302,\n",
    "                                    verbose=False,)\n",
    "        sv.fit(x_train_std, y_train)\n",
    "        probs_sv = sv.predict(x_test_std)\n",
    "        probs_all_sv = np.hstack((probs_all_sv, probs_sv))\n",
    "        \n",
    "        # xgb\n",
    "        xgboost = xgb.XGBRegressor(silent= True, \n",
    "                               random_state=0,\n",
    "                               max_depth=4,\n",
    "                               learning_rate=0.12765177534095626,\n",
    "                               n_estimators = 46,\n",
    "                               gamma=0.060805284848630535,\n",
    "                               reg_lambda=4.995675788308118,\n",
    "                               reg_alpha=2.1912254426545754,\n",
    "                               sub_sample=0.45297631180790854,\n",
    "                               scale_pos_weight=1.1672978934986058)\n",
    "        xgboost.fit(x_train_std, y_train)\n",
    "        probs_xgb = xgboost.predict(x_test_std)\n",
    "        probs_all_xgb = np.hstack((probs_all_xgb, probs_xgb))\n",
    "        \n",
    "        \n",
    "        \n",
    "        # lgbm\n",
    "        lgbm = lgb.LGBMRegressor(\n",
    "            random_state=0,\n",
    "            verbosity=-1,\n",
    "            bagging_seed=0,\n",
    "            boost_from_average='true',\n",
    "            metric='auc',\n",
    "            bagging_freq=4,\n",
    "            min_data_in_leaf=21,\n",
    "            max_depth=13,\n",
    "            learning_rate=0.08731913651405197,\n",
    "            n_estimators=3394,\n",
    "            subsample=0.7054763057027115,\n",
    "            num_leaves=438,\n",
    "            reg_lambda=0.9377125325944119,  \n",
    "        )\n",
    "        \n",
    "        lgbm.fit(x_train_std, y_train)\n",
    "        probs_lgbm = lgbm.predict(x_test_std)\n",
    "        probs_all_lgbm = np.hstack((probs_all_lgbm, probs_lgbm))\n",
    "        \n",
    "        # catboost\n",
    "        cb = catboost.CatBoostRegressor(\n",
    "            random_state=0,\n",
    "            iterations=258,\n",
    "            depth=2,\n",
    "            learning_rate=0.019083573879517587,\n",
    "            random_strength=84,\n",
    "            bagging_temperature=0.3233702745357832,\n",
    "            od_type=\"Iter\",\n",
    "            od_wait=32, \n",
    "            logging_level='Silent')\n",
    "        cb.fit(x_train_std, y_train)\n",
    "        probs_cb = cb.predict(x_test_std)\n",
    "        probs_all_cb = np.hstack((probs_all_cb, probs_cb))   \n",
    "        \n",
    "        # mlp\n",
    "        mlp = MLPRegressor(hidden_layer_sizes=(32,),\n",
    "                           activation='relu',\n",
    "                           solver='adam',\n",
    "                           alpha=4.76324733221396,\n",
    "                           batch_size='auto',\n",
    "                           learning_rate='constant', \n",
    "                           learning_rate_init=0.0012043271455668674, \n",
    "                           power_t=0.5,\n",
    "                           max_iter=1000, \n",
    "                           shuffle=True,\n",
    "                           random_state=0, \n",
    "                           tol=0.0001, \n",
    "                           verbose=False, \n",
    "                           warm_start=False, \n",
    "                           momentum=0.9,\n",
    "                           nesterovs_momentum=True, \n",
    "                           early_stopping=False, \n",
    "                           validation_fraction=0.1, \n",
    "                           beta_1=0.022158342014810775, \n",
    "                           beta_2= 0.7802116425099002,\n",
    "                           epsilon=1e-08,\n",
    "                           )\n",
    "        mlp.fit(x_train_std, y_train)\n",
    "        probs_mlp = mlp.predict(x_test_std)\n",
    "        probs_all_mlp = np.hstack((probs_all_mlp, probs_mlp))   \n",
    "    \n",
    "    auc_lr = roc_auc_score(y_true_all, probs_all_lr)\n",
    "    auc_lda = roc_auc_score(y_true_all, probs_all_lda)\n",
    "    auc_sv = roc_auc_score(y_true_all, probs_all_sv)\n",
    "    auc_xgb = roc_auc_score(y_true_all, probs_all_xgb)\n",
    "    auc_lgbm = roc_auc_score(y_true_all, probs_all_lgbm)\n",
    "    auc_cb = roc_auc_score(y_true_all, probs_all_cb)\n",
    "    auc_mlp = roc_auc_score(y_true_all, probs_all_mlp)\n",
    "    \n",
    "    all_models_probs = [probs_all_lr, probs_all_lda, probs_all_sv, probs_all_xgb, probs_all_lgbm, probs_all_cb, probs_all_mlp]\n",
    "    \n",
    "    print(\"len: {0} \".format(len(y_true_all) ))\n",
    "\n",
    "    print(\"AUC LR: \",auc_lr)\n",
    "    print(\"AUC LDA: \",auc_lda)\n",
    "    print(\"AUC svm: \",auc_sv)\n",
    "    print(\"AUC xgb: \",auc_xgb)\n",
    "    print(\"AUC lgbm: \", auc_lgbm)\n",
    "    print(\"AUC CB: \",auc_cb)\n",
    "    print(\"AUC MLP: \",auc_mlp)\n",
    "    print()\n",
    "    return y_true_all, all_models_probs"
   ]
  },
  {
   "cell_type": "code",
   "execution_count": 21,
   "metadata": {},
   "outputs": [],
   "source": [
    "def optimize(trial, y_true_all, all_models_probs):\n",
    "    \n",
    "    \n",
    "    w_lr =trial.suggest_uniform('w_lr', 0.0, 1.0)\n",
    "    w_lda =0\n",
    "    w_sv = trial.suggest_uniform('w_sv', 0.0, 1.0)\n",
    "    w_xgb = trial.suggest_uniform('w_xgb', 0.0, 1.0)\n",
    "    w_lgbm =trial.suggest_uniform('w_lgbm', 0.0, 1.0)\n",
    "    w_cb =  0\n",
    "    w_mlp = trial.suggest_uniform('w_mlp', 0.0, 1.0)\n",
    "    \n",
    "    # 各モデルの重み\n",
    "    w = np.array([w_lr, w_lda, w_sv, w_xgb, w_lgbm,w_cb, w_mlp])\n",
    "    w_norm = w/np.sum(w)\n",
    "    \n",
    "    print(\"[w_lr, w_lda, w_sv, w_xgb, w_lgbm,w_cb ] = \", w)\n",
    "    print(\"norm = \", w_norm)\n",
    "    \n",
    "    # 各モデル結果の重み付き平均\n",
    "    probs_weighted_average = np.array([0 for i in range(len(y_true_all))], dtype='float64')\n",
    "    for probs, weight in zip(all_models_probs, w_norm):\n",
    "        probs_weighted_average += (probs * weight)\n",
    "\n",
    "    auc = roc_auc_score(y_true_all, probs_weighted_average)\n",
    "    \n",
    "    fpr, tpr, thresholds = roc_curve(y_true_all, probs_weighted_average)\n",
    "    \n",
    "#     plot_roc_curve(fpr, tpr, auc)\n",
    "\n",
    "    print(\"AUC all: \",auc)\n",
    "    print()\n",
    "    return -auc"
   ]
  },
  {
   "cell_type": "code",
   "execution_count": 22,
   "metadata": {},
   "outputs": [],
   "source": [
    "def main():\n",
    "    np.set_printoptions(precision=3, suppress=True)\n",
    "    \n",
    "    y_true_all, all_models_probs = train()\n",
    "    \n",
    "    study = optuna.create_study()\n",
    "    study.optimize(lambda trial: optimize(trial, y_true_all, all_models_probs), n_trials=10000)\n",
    "    print(study.best_trial)"
   ]
  },
  {
   "cell_type": "code",
   "execution_count": 23,
   "metadata": {
    "scrolled": true
   },
   "outputs": [
    {
     "name": "stdout",
     "output_type": "stream",
     "text": [
      "len: 211 \n",
      "AUC LR:  0.7482389405466329\n",
      "AUC LDA:  0.7418991265145111\n",
      "AUC svm:  0.794590025359256\n",
      "AUC xgb:  0.7607072414764722\n",
      "AUC lgbm:  0.7602141448295294\n",
      "AUC CB:  0.7561284868977177\n",
      "AUC MLP:  0.777120315581854\n",
      "\n",
      "[w_lr, w_lda, w_sv, w_xgb, w_lgbm,w_cb ] =  [0.156 0.    0.31  0.041 0.53  0.    0.846]\n",
      "AUC all:  0.7768385460693152\n",
      "\n"
     ]
    },
    {
     "name": "stderr",
     "output_type": "stream",
     "text": [
      "[I 2019-08-24 12:07:14,152] Finished trial#0 resulted in value: -0.7768385460693152. Current best value is -0.7768385460693152 with parameters: {'w_lr': 0.155787181116115, 'w_sv': 0.30963060389190644, 'w_xgb': 0.04108205554267208, 'w_lgbm': 0.5296914906600672, 'w_mlp': 0.8464782906009629}.\n"
     ]
    },
    {
     "name": "stdout",
     "output_type": "stream",
     "text": [
      "[w_lr, w_lda, w_sv, w_xgb, w_lgbm,w_cb ] =  [0.683 0.    0.162 0.012 0.642 0.    0.656]\n",
      "AUC all:  0.7716258100873485\n",
      "\n"
     ]
    },
    {
     "name": "stderr",
     "output_type": "stream",
     "text": [
      "[I 2019-08-24 12:07:14,265] Finished trial#1 resulted in value: -0.7716258100873485. Current best value is -0.7768385460693152 with parameters: {'w_lr': 0.155787181116115, 'w_sv': 0.30963060389190644, 'w_xgb': 0.04108205554267208, 'w_lgbm': 0.5296914906600672, 'w_mlp': 0.8464782906009629}.\n"
     ]
    },
    {
     "name": "stdout",
     "output_type": "stream",
     "text": [
      "[w_lr, w_lda, w_sv, w_xgb, w_lgbm,w_cb ] =  [0.406 0.    0.471 0.258 0.305 0.    0.807]\n",
      "AUC all:  0.79149056072133\n",
      "\n"
     ]
    },
    {
     "name": "stderr",
     "output_type": "stream",
     "text": [
      "[I 2019-08-24 12:07:14,385] Finished trial#2 resulted in value: -0.79149056072133. Current best value is -0.79149056072133 with parameters: {'w_lr': 0.40595855472182507, 'w_sv': 0.4705645269003038, 'w_xgb': 0.2580934400993975, 'w_lgbm': 0.30468847706445723, 'w_mlp': 0.8067694026018007}.\n"
     ]
    },
    {
     "name": "stdout",
     "output_type": "stream",
     "text": [
      "[w_lr, w_lda, w_sv, w_xgb, w_lgbm,w_cb ] =  [0.889 0.    0.397 0.692 0.601 0.    0.842]\n",
      "AUC all:  0.7875457875457875\n",
      "\n"
     ]
    },
    {
     "name": "stderr",
     "output_type": "stream",
     "text": [
      "[I 2019-08-24 12:07:14,504] Finished trial#3 resulted in value: -0.7875457875457875. Current best value is -0.79149056072133 with parameters: {'w_lr': 0.40595855472182507, 'w_sv': 0.4705645269003038, 'w_xgb': 0.2580934400993975, 'w_lgbm': 0.30468847706445723, 'w_mlp': 0.8067694026018007}.\n"
     ]
    },
    {
     "name": "stdout",
     "output_type": "stream",
     "text": [
      "[w_lr, w_lda, w_sv, w_xgb, w_lgbm,w_cb ] =  [0.976 0.    0.88  0.133 0.346 0.    0.699]\n",
      "AUC all:  0.786559594251902\n",
      "\n"
     ]
    },
    {
     "name": "stderr",
     "output_type": "stream",
     "text": [
      "[I 2019-08-24 12:07:14,624] Finished trial#4 resulted in value: -0.786559594251902. Current best value is -0.79149056072133 with parameters: {'w_lr': 0.40595855472182507, 'w_sv': 0.4705645269003038, 'w_xgb': 0.2580934400993975, 'w_lgbm': 0.30468847706445723, 'w_mlp': 0.8067694026018007}.\n"
     ]
    },
    {
     "name": "stdout",
     "output_type": "stream",
     "text": [
      "[w_lr, w_lda, w_sv, w_xgb, w_lgbm,w_cb ] =  [0.912 0.    0.864 0.697 0.498 0.    0.857]\n",
      "AUC all:  0.7896590588898281\n",
      "\n"
     ]
    },
    {
     "name": "stderr",
     "output_type": "stream",
     "text": [
      "[I 2019-08-24 12:07:14,736] Finished trial#5 resulted in value: -0.7896590588898281. Current best value is -0.79149056072133 with parameters: {'w_lr': 0.40595855472182507, 'w_sv': 0.4705645269003038, 'w_xgb': 0.2580934400993975, 'w_lgbm': 0.30468847706445723, 'w_mlp': 0.8067694026018007}.\n"
     ]
    },
    {
     "name": "stdout",
     "output_type": "stream",
     "text": [
      "[w_lr, w_lda, w_sv, w_xgb, w_lgbm,w_cb ] =  [0.383 0.    0.536 0.598 0.62  0.    0.223]\n",
      "AUC all:  0.7795153564384334\n",
      "\n"
     ]
    },
    {
     "name": "stderr",
     "output_type": "stream",
     "text": [
      "[I 2019-08-24 12:07:14,848] Finished trial#6 resulted in value: -0.7795153564384334. Current best value is -0.79149056072133 with parameters: {'w_lr': 0.40595855472182507, 'w_sv': 0.4705645269003038, 'w_xgb': 0.2580934400993975, 'w_lgbm': 0.30468847706445723, 'w_mlp': 0.8067694026018007}.\n"
     ]
    },
    {
     "name": "stdout",
     "output_type": "stream",
     "text": [
      "[w_lr, w_lda, w_sv, w_xgb, w_lgbm,w_cb ] =  [0.888 0.    0.641 0.573 0.949 0.    0.347]\n",
      "AUC all:  0.7750070442378134\n",
      "\n"
     ]
    },
    {
     "name": "stderr",
     "output_type": "stream",
     "text": [
      "[I 2019-08-24 12:07:14,980] Finished trial#7 resulted in value: -0.7750070442378134. Current best value is -0.79149056072133 with parameters: {'w_lr': 0.40595855472182507, 'w_sv': 0.4705645269003038, 'w_xgb': 0.2580934400993975, 'w_lgbm': 0.30468847706445723, 'w_mlp': 0.8067694026018007}.\n"
     ]
    },
    {
     "name": "stdout",
     "output_type": "stream",
     "text": [
      "[w_lr, w_lda, w_sv, w_xgb, w_lgbm,w_cb ] =  [0.229 0.    0.678 0.428 0.752 0.    0.608]\n",
      "AUC all:  0.7774020850943928\n",
      "\n"
     ]
    },
    {
     "name": "stderr",
     "output_type": "stream",
     "text": [
      "[I 2019-08-24 12:07:15,100] Finished trial#8 resulted in value: -0.7774020850943928. Current best value is -0.79149056072133 with parameters: {'w_lr': 0.40595855472182507, 'w_sv': 0.4705645269003038, 'w_xgb': 0.2580934400993975, 'w_lgbm': 0.30468847706445723, 'w_mlp': 0.8067694026018007}.\n"
     ]
    },
    {
     "name": "stdout",
     "output_type": "stream",
     "text": [
      "[w_lr, w_lda, w_sv, w_xgb, w_lgbm,w_cb ] =  [0.702 0.    0.758 0.137 0.662 0.    0.163]\n",
      "AUC all:  0.7678219216680755\n",
      "\n"
     ]
    },
    {
     "name": "stderr",
     "output_type": "stream",
     "text": [
      "[I 2019-08-24 12:07:15,216] Finished trial#9 resulted in value: -0.7678219216680755. Current best value is -0.79149056072133 with parameters: {'w_lr': 0.40595855472182507, 'w_sv': 0.4705645269003038, 'w_xgb': 0.2580934400993975, 'w_lgbm': 0.30468847706445723, 'w_mlp': 0.8067694026018007}.\n"
     ]
    },
    {
     "name": "stdout",
     "output_type": "stream",
     "text": [
      "[w_lr, w_lda, w_sv, w_xgb, w_lgbm,w_cb ] =  [0.01  0.    0.022 0.374 0.014 0.    0.965]\n",
      "AUC all:  0.774443505212736\n",
      "\n"
     ]
    },
    {
     "name": "stderr",
     "output_type": "stream",
     "text": [
      "[I 2019-08-24 12:07:15,359] Finished trial#10 resulted in value: -0.774443505212736. Current best value is -0.79149056072133 with parameters: {'w_lr': 0.40595855472182507, 'w_sv': 0.4705645269003038, 'w_xgb': 0.2580934400993975, 'w_lgbm': 0.30468847706445723, 'w_mlp': 0.8067694026018007}.\n"
     ]
    },
    {
     "name": "stdout",
     "output_type": "stream",
     "text": [
      "[w_lr, w_lda, w_sv, w_xgb, w_lgbm,w_cb ] =  [0.513 0.    0.954 0.939 0.298 0.    0.999]\n",
      "AUC all:  0.7879684418145957\n",
      "\n"
     ]
    },
    {
     "name": "stderr",
     "output_type": "stream",
     "text": [
      "[I 2019-08-24 12:07:15,503] Finished trial#11 resulted in value: -0.7879684418145957. Current best value is -0.79149056072133 with parameters: {'w_lr': 0.40595855472182507, 'w_sv': 0.4705645269003038, 'w_xgb': 0.2580934400993975, 'w_lgbm': 0.30468847706445723, 'w_mlp': 0.8067694026018007}.\n"
     ]
    },
    {
     "name": "stdout",
     "output_type": "stream",
     "text": [
      "[w_lr, w_lda, w_sv, w_xgb, w_lgbm,w_cb ] =  [0.463 0.    0.454 0.85  0.304 0.    0.458]\n",
      "AUC all:  0.788109326570865\n",
      "\n"
     ]
    },
    {
     "name": "stderr",
     "output_type": "stream",
     "text": [
      "[I 2019-08-24 12:07:15,644] Finished trial#12 resulted in value: -0.788109326570865. Current best value is -0.79149056072133 with parameters: {'w_lr': 0.40595855472182507, 'w_sv': 0.4705645269003038, 'w_xgb': 0.2580934400993975, 'w_lgbm': 0.30468847706445723, 'w_mlp': 0.8067694026018007}.\n"
     ]
    },
    {
     "name": "stdout",
     "output_type": "stream",
     "text": [
      "[w_lr, w_lda, w_sv, w_xgb, w_lgbm,w_cb ] =  [0.642 0.    0.244 0.291 0.059 0.    0.807]\n",
      "AUC all:  0.782051282051282\n",
      "\n"
     ]
    },
    {
     "name": "stderr",
     "output_type": "stream",
     "text": [
      "[I 2019-08-24 12:07:15,792] Finished trial#13 resulted in value: -0.782051282051282. Current best value is -0.79149056072133 with parameters: {'w_lr': 0.40595855472182507, 'w_sv': 0.4705645269003038, 'w_xgb': 0.2580934400993975, 'w_lgbm': 0.30468847706445723, 'w_mlp': 0.8067694026018007}.\n"
     ]
    },
    {
     "name": "stdout",
     "output_type": "stream",
     "text": [
      "[w_lr, w_lda, w_sv, w_xgb, w_lgbm,w_cb ] =  [0.298 0.    0.542 0.766 0.176 0.    0.992]\n",
      "AUC all:  0.7847280924204001\n",
      "\n"
     ]
    },
    {
     "name": "stderr",
     "output_type": "stream",
     "text": [
      "[I 2019-08-24 12:07:15,939] Finished trial#14 resulted in value: -0.7847280924204001. Current best value is -0.79149056072133 with parameters: {'w_lr': 0.40595855472182507, 'w_sv': 0.4705645269003038, 'w_xgb': 0.2580934400993975, 'w_lgbm': 0.30468847706445723, 'w_mlp': 0.8067694026018007}.\n"
     ]
    },
    {
     "name": "stdout",
     "output_type": "stream",
     "text": [
      "[w_lr, w_lda, w_sv, w_xgb, w_lgbm,w_cb ] =  [0.557 0.    0.873 0.268 0.404 0.    0.758]\n",
      "AUC all:  0.78923640462102\n",
      "\n"
     ]
    },
    {
     "name": "stderr",
     "output_type": "stream",
     "text": [
      "[I 2019-08-24 12:07:16,085] Finished trial#15 resulted in value: -0.78923640462102. Current best value is -0.79149056072133 with parameters: {'w_lr': 0.40595855472182507, 'w_sv': 0.4705645269003038, 'w_xgb': 0.2580934400993975, 'w_lgbm': 0.30468847706445723, 'w_mlp': 0.8067694026018007}.\n"
     ]
    },
    {
     "name": "stdout",
     "output_type": "stream",
     "text": [
      "[w_lr, w_lda, w_sv, w_xgb, w_lgbm,w_cb ] =  [0.029 0.    0.734 0.511 0.453 0.    0.531]\n",
      "AUC all:  0.7875457875457874\n",
      "\n"
     ]
    },
    {
     "name": "stderr",
     "output_type": "stream",
     "text": [
      "[I 2019-08-24 12:07:16,235] Finished trial#16 resulted in value: -0.7875457875457874. Current best value is -0.79149056072133 with parameters: {'w_lr': 0.40595855472182507, 'w_sv': 0.4705645269003038, 'w_xgb': 0.2580934400993975, 'w_lgbm': 0.30468847706445723, 'w_mlp': 0.8067694026018007}.\n"
     ]
    },
    {
     "name": "stdout",
     "output_type": "stream",
     "text": [
      "[w_lr, w_lda, w_sv, w_xgb, w_lgbm,w_cb ] =  [0.791 0.    0.599 0.723 0.166 0.    0.895]\n",
      "AUC all:  0.7844463229078614\n",
      "\n"
     ]
    },
    {
     "name": "stderr",
     "output_type": "stream",
     "text": [
      "[I 2019-08-24 12:07:16,389] Finished trial#17 resulted in value: -0.7844463229078614. Current best value is -0.79149056072133 with parameters: {'w_lr': 0.40595855472182507, 'w_sv': 0.4705645269003038, 'w_xgb': 0.2580934400993975, 'w_lgbm': 0.30468847706445723, 'w_mlp': 0.8067694026018007}.\n"
     ]
    },
    {
     "name": "stdout",
     "output_type": "stream",
     "text": [
      "[w_lr, w_lda, w_sv, w_xgb, w_lgbm,w_cb ] =  [0.358 0.    0.354 0.22  0.862 0.    0.011]\n",
      "AUC all:  0.7682445759368836\n",
      "\n"
     ]
    },
    {
     "name": "stderr",
     "output_type": "stream",
     "text": [
      "[I 2019-08-24 12:07:16,538] Finished trial#18 resulted in value: -0.7682445759368836. Current best value is -0.79149056072133 with parameters: {'w_lr': 0.40595855472182507, 'w_sv': 0.4705645269003038, 'w_xgb': 0.2580934400993975, 'w_lgbm': 0.30468847706445723, 'w_mlp': 0.8067694026018007}.\n"
     ]
    },
    {
     "name": "stdout",
     "output_type": "stream",
     "text": [
      "[w_lr, w_lda, w_sv, w_xgb, w_lgbm,w_cb ] =  [0.145 0.    0.123 0.427 0.178 0.    0.542]\n",
      "AUC all:  0.7893772893772895\n",
      "\n"
     ]
    },
    {
     "name": "stderr",
     "output_type": "stream",
     "text": [
      "[I 2019-08-24 12:07:16,686] Finished trial#19 resulted in value: -0.7893772893772895. Current best value is -0.79149056072133 with parameters: {'w_lr': 0.40595855472182507, 'w_sv': 0.4705645269003038, 'w_xgb': 0.2580934400993975, 'w_lgbm': 0.30468847706445723, 'w_mlp': 0.8067694026018007}.\n"
     ]
    },
    {
     "name": "stdout",
     "output_type": "stream",
     "text": [
      "[w_lr, w_lda, w_sv, w_xgb, w_lgbm,w_cb ] =  [0.578 0.    0.998 0.987 0.517 0.    0.736]\n",
      "AUC all:  0.7868413637644406\n",
      "\n"
     ]
    },
    {
     "name": "stderr",
     "output_type": "stream",
     "text": [
      "[I 2019-08-24 12:07:16,839] Finished trial#20 resulted in value: -0.7868413637644406. Current best value is -0.79149056072133 with parameters: {'w_lr': 0.40595855472182507, 'w_sv': 0.4705645269003038, 'w_xgb': 0.2580934400993975, 'w_lgbm': 0.30468847706445723, 'w_mlp': 0.8067694026018007}.\n"
     ]
    },
    {
     "name": "stdout",
     "output_type": "stream",
     "text": [
      "[w_lr, w_lda, w_sv, w_xgb, w_lgbm,w_cb ] =  [0.122 0.    0.069 0.43  0.205 0.    0.556]\n",
      "AUC all:  0.7896590588898281\n",
      "\n"
     ]
    },
    {
     "name": "stderr",
     "output_type": "stream",
     "text": [
      "[I 2019-08-24 12:07:16,991] Finished trial#21 resulted in value: -0.7896590588898281. Current best value is -0.79149056072133 with parameters: {'w_lr': 0.40595855472182507, 'w_sv': 0.4705645269003038, 'w_xgb': 0.2580934400993975, 'w_lgbm': 0.30468847706445723, 'w_mlp': 0.8067694026018007}.\n"
     ]
    },
    {
     "name": "stdout",
     "output_type": "stream",
     "text": [
      "[w_lr, w_lda, w_sv, w_xgb, w_lgbm,w_cb ] =  [0.139 0.    0.075 0.352 0.236 0.    0.426]\n",
      "AUC all:  0.7890955198647505\n",
      "\n"
     ]
    },
    {
     "name": "stderr",
     "output_type": "stream",
     "text": [
      "[I 2019-08-24 12:07:17,158] Finished trial#22 resulted in value: -0.7890955198647505. Current best value is -0.79149056072133 with parameters: {'w_lr': 0.40595855472182507, 'w_sv': 0.4705645269003038, 'w_xgb': 0.2580934400993975, 'w_lgbm': 0.30468847706445723, 'w_mlp': 0.8067694026018007}.\n"
     ]
    },
    {
     "name": "stdout",
     "output_type": "stream",
     "text": [
      "[w_lr, w_lda, w_sv, w_xgb, w_lgbm,w_cb ] =  [0.436 0.    0.242 0.623 0.431 0.    0.929]\n",
      "AUC all:  0.7897999436460974\n",
      "\n"
     ]
    },
    {
     "name": "stderr",
     "output_type": "stream",
     "text": [
      "[I 2019-08-24 12:07:17,325] Finished trial#23 resulted in value: -0.7897999436460974. Current best value is -0.79149056072133 with parameters: {'w_lr': 0.40595855472182507, 'w_sv': 0.4705645269003038, 'w_xgb': 0.2580934400993975, 'w_lgbm': 0.30468847706445723, 'w_mlp': 0.8067694026018007}.\n"
     ]
    },
    {
     "name": "stdout",
     "output_type": "stream",
     "text": [
      "[w_lr, w_lda, w_sv, w_xgb, w_lgbm,w_cb ] =  [0.438 0.    0.248 0.534 0.084 0.    0.917]\n",
      "AUC all:  0.7796562411947028\n",
      "\n"
     ]
    },
    {
     "name": "stderr",
     "output_type": "stream",
     "text": [
      "[I 2019-08-24 12:07:17,496] Finished trial#24 resulted in value: -0.7796562411947028. Current best value is -0.79149056072133 with parameters: {'w_lr': 0.40595855472182507, 'w_sv': 0.4705645269003038, 'w_xgb': 0.2580934400993975, 'w_lgbm': 0.30468847706445723, 'w_mlp': 0.8067694026018007}.\n"
     ]
    },
    {
     "name": "stdout",
     "output_type": "stream",
     "text": [
      "[w_lr, w_lda, w_sv, w_xgb, w_lgbm,w_cb ] =  [0.346 0.    0.419 0.661 0.426 0.    0.924]\n",
      "AUC all:  0.7900817131586362\n",
      "\n"
     ]
    },
    {
     "name": "stderr",
     "output_type": "stream",
     "text": [
      "[I 2019-08-24 12:07:17,668] Finished trial#25 resulted in value: -0.7900817131586362. Current best value is -0.79149056072133 with parameters: {'w_lr': 0.40595855472182507, 'w_sv': 0.4705645269003038, 'w_xgb': 0.2580934400993975, 'w_lgbm': 0.30468847706445723, 'w_mlp': 0.8067694026018007}.\n"
     ]
    },
    {
     "name": "stdout",
     "output_type": "stream",
     "text": [
      "[w_lr, w_lda, w_sv, w_xgb, w_lgbm,w_cb ] =  [0.317 0.    0.453 0.869 0.42  0.    0.925]\n",
      "AUC all:  0.78923640462102\n",
      "\n"
     ]
    },
    {
     "name": "stderr",
     "output_type": "stream",
     "text": [
      "[I 2019-08-24 12:07:17,839] Finished trial#26 resulted in value: -0.78923640462102. Current best value is -0.79149056072133 with parameters: {'w_lr': 0.40595855472182507, 'w_sv': 0.4705645269003038, 'w_xgb': 0.2580934400993975, 'w_lgbm': 0.30468847706445723, 'w_mlp': 0.8067694026018007}.\n"
     ]
    },
    {
     "name": "stdout",
     "output_type": "stream",
     "text": [
      "[w_lr, w_lda, w_sv, w_xgb, w_lgbm,w_cb ] =  [0.243 0.    0.265 0.614 0.385 0.    0.802]\n",
      "AUC all:  0.7897999436460976\n",
      "\n"
     ]
    },
    {
     "name": "stderr",
     "output_type": "stream",
     "text": [
      "[I 2019-08-24 12:07:18,010] Finished trial#27 resulted in value: -0.7897999436460976. Current best value is -0.79149056072133 with parameters: {'w_lr': 0.40595855472182507, 'w_sv': 0.4705645269003038, 'w_xgb': 0.2580934400993975, 'w_lgbm': 0.30468847706445723, 'w_mlp': 0.8067694026018007}.\n"
     ]
    },
    {
     "name": "stdout",
     "output_type": "stream",
     "text": [
      "[w_lr, w_lda, w_sv, w_xgb, w_lgbm,w_cb ] =  [0.234 0.    0.414 0.666 0.356 0.    0.774]\n",
      "AUC all:  0.7885319808396731\n",
      "\n"
     ]
    },
    {
     "name": "stderr",
     "output_type": "stream",
     "text": [
      "[I 2019-08-24 12:07:18,184] Finished trial#28 resulted in value: -0.7885319808396731. Current best value is -0.79149056072133 with parameters: {'w_lr': 0.40595855472182507, 'w_sv': 0.4705645269003038, 'w_xgb': 0.2580934400993975, 'w_lgbm': 0.30468847706445723, 'w_mlp': 0.8067694026018007}.\n"
     ]
    },
    {
     "name": "stdout",
     "output_type": "stream",
     "text": [
      "[w_lr, w_lda, w_sv, w_xgb, w_lgbm,w_cb ] =  [0.233 0.    0.309 0.766 0.563 0.    0.654]\n",
      "AUC all:  0.7872640180332487\n",
      "\n"
     ]
    },
    {
     "name": "stderr",
     "output_type": "stream",
     "text": [
      "[I 2019-08-24 12:07:18,351] Finished trial#29 resulted in value: -0.7872640180332487. Current best value is -0.79149056072133 with parameters: {'w_lr': 0.40595855472182507, 'w_sv': 0.4705645269003038, 'w_xgb': 0.2580934400993975, 'w_lgbm': 0.30468847706445723, 'w_mlp': 0.8067694026018007}.\n"
     ]
    },
    {
     "name": "stdout",
     "output_type": "stream",
     "text": [
      "[w_lr, w_lda, w_sv, w_xgb, w_lgbm,w_cb ] =  [0.379 0.    0.334 0.49  0.283 0.    0.816]\n",
      "AUC all:  0.7906452521837136\n",
      "\n"
     ]
    },
    {
     "name": "stderr",
     "output_type": "stream",
     "text": [
      "[I 2019-08-24 12:07:18,533] Finished trial#30 resulted in value: -0.7906452521837136. Current best value is -0.79149056072133 with parameters: {'w_lr': 0.40595855472182507, 'w_sv': 0.4705645269003038, 'w_xgb': 0.2580934400993975, 'w_lgbm': 0.30468847706445723, 'w_mlp': 0.8067694026018007}.\n"
     ]
    },
    {
     "name": "stdout",
     "output_type": "stream",
     "text": [
      "[w_lr, w_lda, w_sv, w_xgb, w_lgbm,w_cb ] =  [0.377 0.    0.332 0.529 0.26  0.    0.834]\n",
      "AUC all:  0.7900817131586362\n",
      "\n"
     ]
    },
    {
     "name": "stderr",
     "output_type": "stream",
     "text": [
      "[I 2019-08-24 12:07:18,706] Finished trial#31 resulted in value: -0.7900817131586362. Current best value is -0.79149056072133 with parameters: {'w_lr': 0.40595855472182507, 'w_sv': 0.4705645269003038, 'w_xgb': 0.2580934400993975, 'w_lgbm': 0.30468847706445723, 'w_mlp': 0.8067694026018007}.\n"
     ]
    },
    {
     "name": "stdout",
     "output_type": "stream",
     "text": [
      "[w_lr, w_lda, w_sv, w_xgb, w_lgbm,w_cb ] =  [0.387 0.    0.488 0.473 0.274 0.    0.868]\n",
      "AUC all:  0.7900817131586363\n",
      "\n"
     ]
    },
    {
     "name": "stderr",
     "output_type": "stream",
     "text": [
      "[I 2019-08-24 12:07:18,887] Finished trial#32 resulted in value: -0.7900817131586363. Current best value is -0.79149056072133 with parameters: {'w_lr': 0.40595855472182507, 'w_sv': 0.4705645269003038, 'w_xgb': 0.2580934400993975, 'w_lgbm': 0.30468847706445723, 'w_mlp': 0.8067694026018007}.\n"
     ]
    },
    {
     "name": "stdout",
     "output_type": "stream",
     "text": [
      "[w_lr, w_lda, w_sv, w_xgb, w_lgbm,w_cb ] =  [0.302 0.    0.493 0.07  0.303 0.    0.685]\n",
      "AUC all:  0.7850098619329389\n",
      "\n"
     ]
    },
    {
     "name": "stderr",
     "output_type": "stream",
     "text": [
      "[I 2019-08-24 12:07:19,067] Finished trial#33 resulted in value: -0.7850098619329389. Current best value is -0.79149056072133 with parameters: {'w_lr': 0.40595855472182507, 'w_sv': 0.4705645269003038, 'w_xgb': 0.2580934400993975, 'w_lgbm': 0.30468847706445723, 'w_mlp': 0.8067694026018007}.\n"
     ]
    },
    {
     "name": "stdout",
     "output_type": "stream",
     "text": [
      "[w_lr, w_lda, w_sv, w_xgb, w_lgbm,w_cb ] =  [0.503 0.    0.34  0.465 0.25  0.    0.835]\n",
      "AUC all:  0.7888137503522119\n",
      "\n"
     ]
    },
    {
     "name": "stderr",
     "output_type": "stream",
     "text": [
      "[I 2019-08-24 12:07:19,245] Finished trial#34 resulted in value: -0.7888137503522119. Current best value is -0.79149056072133 with parameters: {'w_lr': 0.40595855472182507, 'w_sv': 0.4705645269003038, 'w_xgb': 0.2580934400993975, 'w_lgbm': 0.30468847706445723, 'w_mlp': 0.8067694026018007}.\n"
     ]
    },
    {
     "name": "stdout",
     "output_type": "stream",
     "text": [
      "[w_lr, w_lda, w_sv, w_xgb, w_lgbm,w_cb ] =  [0.391 0.    0.181 0.352 0.11  0.    0.866]\n",
      "AUC all:  0.7859960552268245\n",
      "\n"
     ]
    },
    {
     "name": "stderr",
     "output_type": "stream",
     "text": [
      "[I 2019-08-24 12:07:19,427] Finished trial#35 resulted in value: -0.7859960552268245. Current best value is -0.79149056072133 with parameters: {'w_lr': 0.40595855472182507, 'w_sv': 0.4705645269003038, 'w_xgb': 0.2580934400993975, 'w_lgbm': 0.30468847706445723, 'w_mlp': 0.8067694026018007}.\n"
     ]
    },
    {
     "name": "stdout",
     "output_type": "stream",
     "text": [
      "[w_lr, w_lda, w_sv, w_xgb, w_lgbm,w_cb ] =  [0.564 0.    0.561 0.2   0.342 0.    0.746]\n",
      "AUC all:  0.7897999436460974\n",
      "\n"
     ]
    },
    {
     "name": "stderr",
     "output_type": "stream",
     "text": [
      "[I 2019-08-24 12:07:19,610] Finished trial#36 resulted in value: -0.7897999436460974. Current best value is -0.79149056072133 with parameters: {'w_lr': 0.40595855472182507, 'w_sv': 0.4705645269003038, 'w_xgb': 0.2580934400993975, 'w_lgbm': 0.30468847706445723, 'w_mlp': 0.8067694026018007}.\n"
     ]
    },
    {
     "name": "stdout",
     "output_type": "stream",
     "text": [
      "[w_lr, w_lda, w_sv, w_xgb, w_lgbm,w_cb ] =  [0.436 0.    0.402 0.565 0.474 0.    0.616]\n",
      "AUC all:  0.7875457875457875\n",
      "\n"
     ]
    },
    {
     "name": "stderr",
     "output_type": "stream",
     "text": [
      "[I 2019-08-24 12:07:19,794] Finished trial#37 resulted in value: -0.7875457875457875. Current best value is -0.79149056072133 with parameters: {'w_lr': 0.40595855472182507, 'w_sv': 0.4705645269003038, 'w_xgb': 0.2580934400993975, 'w_lgbm': 0.30468847706445723, 'w_mlp': 0.8067694026018007}.\n"
     ]
    },
    {
     "name": "stdout",
     "output_type": "stream",
     "text": [
      "[w_lr, w_lda, w_sv, w_xgb, w_lgbm,w_cb ] =  [0.408 0.    0.491 0.503 0.127 0.    0.703]\n",
      "AUC all:  0.785432516201747\n",
      "\n"
     ]
    },
    {
     "name": "stderr",
     "output_type": "stream",
     "text": [
      "[I 2019-08-24 12:07:19,980] Finished trial#38 resulted in value: -0.785432516201747. Current best value is -0.79149056072133 with parameters: {'w_lr': 0.40595855472182507, 'w_sv': 0.4705645269003038, 'w_xgb': 0.2580934400993975, 'w_lgbm': 0.30468847706445723, 'w_mlp': 0.8067694026018007}.\n"
     ]
    },
    {
     "name": "stdout",
     "output_type": "stream",
     "text": [
      "[w_lr, w_lda, w_sv, w_xgb, w_lgbm,w_cb ] =  [0.31  0.    0.626 0.662 0.368 0.    0.961]\n",
      "AUC all:  0.7893772893772893\n",
      "\n"
     ]
    },
    {
     "name": "stderr",
     "output_type": "stream",
     "text": [
      "[I 2019-08-24 12:07:20,161] Finished trial#39 resulted in value: -0.7893772893772893. Current best value is -0.79149056072133 with parameters: {'w_lr': 0.40595855472182507, 'w_sv': 0.4705645269003038, 'w_xgb': 0.2580934400993975, 'w_lgbm': 0.30468847706445723, 'w_mlp': 0.8067694026018007}.\n"
     ]
    },
    {
     "name": "stdout",
     "output_type": "stream",
     "text": [
      "[w_lr, w_lda, w_sv, w_xgb, w_lgbm,w_cb ] =  [0.655 0.    0.342 0.005 0.258 0.    0.857]\n",
      "AUC all:  0.7843054381515919\n",
      "\n"
     ]
    },
    {
     "name": "stderr",
     "output_type": "stream",
     "text": [
      "[I 2019-08-24 12:07:20,350] Finished trial#40 resulted in value: -0.7843054381515919. Current best value is -0.79149056072133 with parameters: {'w_lr': 0.40595855472182507, 'w_sv': 0.4705645269003038, 'w_xgb': 0.2580934400993975, 'w_lgbm': 0.30468847706445723, 'w_mlp': 0.8067694026018007}.\n"
     ]
    },
    {
     "name": "stdout",
     "output_type": "stream",
     "text": [
      "[w_lr, w_lda, w_sv, w_xgb, w_lgbm,w_cb ] =  [0.347 0.    0.439 0.56  0.287 0.    0.886]\n",
      "AUC all:  0.7902225979149056\n",
      "\n"
     ]
    },
    {
     "name": "stderr",
     "output_type": "stream",
     "text": [
      "[I 2019-08-24 12:07:20,535] Finished trial#41 resulted in value: -0.7902225979149056. Current best value is -0.79149056072133 with parameters: {'w_lr': 0.40595855472182507, 'w_sv': 0.4705645269003038, 'w_xgb': 0.2580934400993975, 'w_lgbm': 0.30468847706445723, 'w_mlp': 0.8067694026018007}.\n"
     ]
    },
    {
     "name": "stdout",
     "output_type": "stream",
     "text": [
      "[w_lr, w_lda, w_sv, w_xgb, w_lgbm,w_cb ] =  [0.338 0.    0.448 0.468 0.322 0.    0.886]\n",
      "AUC all:  0.7909270216962525\n",
      "\n"
     ]
    },
    {
     "name": "stderr",
     "output_type": "stream",
     "text": [
      "[I 2019-08-24 12:07:20,721] Finished trial#42 resulted in value: -0.7909270216962525. Current best value is -0.79149056072133 with parameters: {'w_lr': 0.40595855472182507, 'w_sv': 0.4705645269003038, 'w_xgb': 0.2580934400993975, 'w_lgbm': 0.30468847706445723, 'w_mlp': 0.8067694026018007}.\n"
     ]
    },
    {
     "name": "stdout",
     "output_type": "stream",
     "text": [
      "[w_lr, w_lda, w_sv, w_xgb, w_lgbm,w_cb ] =  [0.187 0.    0.465 0.392 0.321 0.    0.869]\n",
      "AUC all:  0.7926176387714848\n",
      "\n"
     ]
    },
    {
     "name": "stderr",
     "output_type": "stream",
     "text": [
      "[I 2019-08-24 12:07:20,915] Finished trial#43 resulted in value: -0.7926176387714848. Current best value is -0.7926176387714848 with parameters: {'w_lr': 0.18694920052351488, 'w_sv': 0.46469941703618933, 'w_xgb': 0.3923573388943994, 'w_lgbm': 0.32097565800159483, 'w_mlp': 0.8689397883326836}.\n"
     ]
    },
    {
     "name": "stdout",
     "output_type": "stream",
     "text": [
      "[w_lr, w_lda, w_sv, w_xgb, w_lgbm,w_cb ] =  [0.199 0.    0.568 0.386 0.33  0.    0.983]\n",
      "AUC all:  0.7909270216962525\n",
      "\n"
     ]
    },
    {
     "name": "stderr",
     "output_type": "stream",
     "text": [
      "[I 2019-08-24 12:07:21,106] Finished trial#44 resulted in value: -0.7909270216962525. Current best value is -0.7926176387714848 with parameters: {'w_lr': 0.18694920052351488, 'w_sv': 0.46469941703618933, 'w_xgb': 0.3923573388943994, 'w_lgbm': 0.32097565800159483, 'w_mlp': 0.8689397883326836}.\n"
     ]
    },
    {
     "name": "stdout",
     "output_type": "stream",
     "text": [
      "[w_lr, w_lda, w_sv, w_xgb, w_lgbm,w_cb ] =  [0.203 0.    0.692 0.318 0.33  0.    0.984]\n",
      "AUC all:  0.7917723302338688\n",
      "\n"
     ]
    },
    {
     "name": "stderr",
     "output_type": "stream",
     "text": [
      "[I 2019-08-24 12:07:21,292] Finished trial#45 resulted in value: -0.7917723302338688. Current best value is -0.7926176387714848 with parameters: {'w_lr': 0.18694920052351488, 'w_sv': 0.46469941703618933, 'w_xgb': 0.3923573388943994, 'w_lgbm': 0.32097565800159483, 'w_mlp': 0.8689397883326836}.\n"
     ]
    },
    {
     "name": "stdout",
     "output_type": "stream",
     "text": [
      "[w_lr, w_lda, w_sv, w_xgb, w_lgbm,w_cb ] =  [0.073 0.    0.713 0.327 0.331 0.    0.994]\n",
      "AUC all:  0.7919132149901381\n",
      "\n"
     ]
    },
    {
     "name": "stderr",
     "output_type": "stream",
     "text": [
      "[I 2019-08-24 12:07:21,478] Finished trial#46 resulted in value: -0.7919132149901381. Current best value is -0.7926176387714848 with parameters: {'w_lr': 0.18694920052351488, 'w_sv': 0.46469941703618933, 'w_xgb': 0.3923573388943994, 'w_lgbm': 0.32097565800159483, 'w_mlp': 0.8689397883326836}.\n"
     ]
    },
    {
     "name": "stdout",
     "output_type": "stream",
     "text": [
      "[w_lr, w_lda, w_sv, w_xgb, w_lgbm,w_cb ] =  [0.06  0.    0.803 0.3   0.571 0.    0.994]\n",
      "AUC all:  0.7869822485207101\n",
      "\n"
     ]
    },
    {
     "name": "stderr",
     "output_type": "stream",
     "text": [
      "[I 2019-08-24 12:07:21,664] Finished trial#47 resulted in value: -0.7869822485207101. Current best value is -0.7926176387714848 with parameters: {'w_lr': 0.18694920052351488, 'w_sv': 0.46469941703618933, 'w_xgb': 0.3923573388943994, 'w_lgbm': 0.32097565800159483, 'w_mlp': 0.8689397883326836}.\n"
     ]
    },
    {
     "name": "stdout",
     "output_type": "stream",
     "text": [
      "[w_lr, w_lda, w_sv, w_xgb, w_lgbm,w_cb ] =  [0.081 0.    0.698 0.163 0.487 0.    0.966]\n",
      "AUC all:  0.7865595942519019\n",
      "\n"
     ]
    },
    {
     "name": "stderr",
     "output_type": "stream",
     "text": [
      "[I 2019-08-24 12:07:21,855] Finished trial#48 resulted in value: -0.7865595942519019. Current best value is -0.7926176387714848 with parameters: {'w_lr': 0.18694920052351488, 'w_sv': 0.46469941703618933, 'w_xgb': 0.3923573388943994, 'w_lgbm': 0.32097565800159483, 'w_mlp': 0.8689397883326836}.\n"
     ]
    },
    {
     "name": "stdout",
     "output_type": "stream",
     "text": [
      "[w_lr, w_lda, w_sv, w_xgb, w_lgbm,w_cb ] =  [0.176 0.    0.789 0.39  0.695 0.    0.988]\n",
      "AUC all:  0.7844463229078613\n",
      "\n"
     ]
    },
    {
     "name": "stderr",
     "output_type": "stream",
     "text": [
      "[I 2019-08-24 12:07:22,052] Finished trial#49 resulted in value: -0.7844463229078613. Current best value is -0.7926176387714848 with parameters: {'w_lr': 0.18694920052351488, 'w_sv': 0.46469941703618933, 'w_xgb': 0.3923573388943994, 'w_lgbm': 0.32097565800159483, 'w_mlp': 0.8689397883326836}.\n"
     ]
    },
    {
     "name": "stdout",
     "output_type": "stream",
     "text": [
      "[w_lr, w_lda, w_sv, w_xgb, w_lgbm,w_cb ] =  [0.101 0.    0.641 0.256 0.221 0.    0.785]\n",
      "AUC all:  0.7917723302338686\n",
      "\n"
     ]
    },
    {
     "name": "stderr",
     "output_type": "stream",
     "text": [
      "[I 2019-08-24 12:07:22,241] Finished trial#50 resulted in value: -0.7917723302338686. Current best value is -0.7926176387714848 with parameters: {'w_lr': 0.18694920052351488, 'w_sv': 0.46469941703618933, 'w_xgb': 0.3923573388943994, 'w_lgbm': 0.32097565800159483, 'w_mlp': 0.8689397883326836}.\n"
     ]
    },
    {
     "name": "stdout",
     "output_type": "stream",
     "text": [
      "[w_lr, w_lda, w_sv, w_xgb, w_lgbm,w_cb ] =  [0.188 0.    0.685 0.264 0.346 0.    0.965]\n",
      "AUC all:  0.7907861369399831\n",
      "\n"
     ]
    },
    {
     "name": "stderr",
     "output_type": "stream",
     "text": [
      "[I 2019-08-24 12:07:22,436] Finished trial#51 resulted in value: -0.7907861369399831. Current best value is -0.7926176387714848 with parameters: {'w_lr': 0.18694920052351488, 'w_sv': 0.46469941703618933, 'w_xgb': 0.3923573388943994, 'w_lgbm': 0.32097565800159483, 'w_mlp': 0.8689397883326836}.\n"
     ]
    },
    {
     "name": "stdout",
     "output_type": "stream",
     "text": [
      "[w_lr, w_lda, w_sv, w_xgb, w_lgbm,w_cb ] =  [0.002 0.    0.595 0.321 0.209 0.    0.783]\n",
      "AUC all:  0.7897999436460974\n",
      "\n"
     ]
    },
    {
     "name": "stderr",
     "output_type": "stream",
     "text": [
      "[I 2019-08-24 12:07:22,629] Finished trial#52 resulted in value: -0.7897999436460974. Current best value is -0.7926176387714848 with parameters: {'w_lr': 0.18694920052351488, 'w_sv': 0.46469941703618933, 'w_xgb': 0.3923573388943994, 'w_lgbm': 0.32097565800159483, 'w_mlp': 0.8689397883326836}.\n"
     ]
    },
    {
     "name": "stdout",
     "output_type": "stream",
     "text": [
      "[w_lr, w_lda, w_sv, w_xgb, w_lgbm,w_cb ] =  [0.096 0.    0.653 0.231 0.033 0.    0.892]\n",
      "AUC all:  0.7812059735136658\n",
      "\n"
     ]
    },
    {
     "name": "stderr",
     "output_type": "stream",
     "text": [
      "[I 2019-08-24 12:07:22,835] Finished trial#53 resulted in value: -0.7812059735136658. Current best value is -0.7926176387714848 with parameters: {'w_lr': 0.18694920052351488, 'w_sv': 0.46469941703618933, 'w_xgb': 0.3923573388943994, 'w_lgbm': 0.32097565800159483, 'w_mlp': 0.8689397883326836}.\n"
     ]
    },
    {
     "name": "stdout",
     "output_type": "stream",
     "text": [
      "[w_lr, w_lda, w_sv, w_xgb, w_lgbm,w_cb ] =  [0.035 0.    0.719 0.083 0.147 0.    0.735]\n",
      "AUC all:  0.7920540997464075\n",
      "\n"
     ]
    },
    {
     "name": "stderr",
     "output_type": "stream",
     "text": [
      "[I 2019-08-24 12:07:23,040] Finished trial#54 resulted in value: -0.7920540997464075. Current best value is -0.7926176387714848 with parameters: {'w_lr': 0.18694920052351488, 'w_sv': 0.46469941703618933, 'w_xgb': 0.3923573388943994, 'w_lgbm': 0.32097565800159483, 'w_mlp': 0.8689397883326836}.\n"
     ]
    },
    {
     "name": "stdout",
     "output_type": "stream",
     "text": [
      "[w_lr, w_lda, w_sv, w_xgb, w_lgbm,w_cb ] =  [0.028 0.    0.732 0.078 0.16  0.    0.646]\n",
      "AUC all:  0.7907861369399831\n",
      "\n"
     ]
    },
    {
     "name": "stderr",
     "output_type": "stream",
     "text": [
      "[I 2019-08-24 12:07:23,244] Finished trial#55 resulted in value: -0.7907861369399831. Current best value is -0.7926176387714848 with parameters: {'w_lr': 0.18694920052351488, 'w_sv': 0.46469941703618933, 'w_xgb': 0.3923573388943994, 'w_lgbm': 0.32097565800159483, 'w_mlp': 0.8689397883326836}.\n"
     ]
    },
    {
     "name": "stdout",
     "output_type": "stream",
     "text": [
      "[w_lr, w_lda, w_sv, w_xgb, w_lgbm,w_cb ] =  [0.062 0.    0.919 0.155 0.203 0.    0.722]\n",
      "AUC all:  0.7917723302338686\n",
      "\n"
     ]
    },
    {
     "name": "stderr",
     "output_type": "stream",
     "text": [
      "[I 2019-08-24 12:07:23,450] Finished trial#56 resulted in value: -0.7917723302338686. Current best value is -0.7926176387714848 with parameters: {'w_lr': 0.18694920052351488, 'w_sv': 0.46469941703618933, 'w_xgb': 0.3923573388943994, 'w_lgbm': 0.32097565800159483, 'w_mlp': 0.8689397883326836}.\n"
     ]
    },
    {
     "name": "stdout",
     "output_type": "stream",
     "text": [
      "[w_lr, w_lda, w_sv, w_xgb, w_lgbm,w_cb ] =  [0.055 0.    0.916 0.17  0.216 0.    0.708]\n",
      "AUC all:  0.7910679064525218\n",
      "\n"
     ]
    },
    {
     "name": "stderr",
     "output_type": "stream",
     "text": [
      "[I 2019-08-24 12:07:23,648] Finished trial#57 resulted in value: -0.7910679064525218. Current best value is -0.7926176387714848 with parameters: {'w_lr': 0.18694920052351488, 'w_sv': 0.46469941703618933, 'w_xgb': 0.3923573388943994, 'w_lgbm': 0.32097565800159483, 'w_mlp': 0.8689397883326836}.\n"
     ]
    },
    {
     "name": "stdout",
     "output_type": "stream",
     "text": [
      "[w_lr, w_lda, w_sv, w_xgb, w_lgbm,w_cb ] =  [0.109 0.    0.839 0.119 0.133 0.    0.578]\n",
      "AUC all:  0.7921949845026768\n",
      "\n"
     ]
    },
    {
     "name": "stderr",
     "output_type": "stream",
     "text": [
      "[I 2019-08-24 12:07:23,844] Finished trial#58 resulted in value: -0.7921949845026768. Current best value is -0.7926176387714848 with parameters: {'w_lr': 0.18694920052351488, 'w_sv': 0.46469941703618933, 'w_xgb': 0.3923573388943994, 'w_lgbm': 0.32097565800159483, 'w_mlp': 0.8689397883326836}.\n"
     ]
    },
    {
     "name": "stdout",
     "output_type": "stream",
     "text": [
      "[w_lr, w_lda, w_sv, w_xgb, w_lgbm,w_cb ] =  [0.003 0.    0.818 0.106 0.132 0.    0.579]\n",
      "AUC all:  0.7924767540152156\n",
      "\n"
     ]
    },
    {
     "name": "stderr",
     "output_type": "stream",
     "text": [
      "[I 2019-08-24 12:07:24,047] Finished trial#59 resulted in value: -0.7924767540152156. Current best value is -0.7926176387714848 with parameters: {'w_lr': 0.18694920052351488, 'w_sv': 0.46469941703618933, 'w_xgb': 0.3923573388943994, 'w_lgbm': 0.32097565800159483, 'w_mlp': 0.8689397883326836}.\n"
     ]
    },
    {
     "name": "stdout",
     "output_type": "stream",
     "text": [
      "[w_lr, w_lda, w_sv, w_xgb, w_lgbm,w_cb ] =  [0.147 0.    0.831 0.101 0.068 0.    0.451]\n",
      "AUC all:  0.7921949845026768\n",
      "\n"
     ]
    },
    {
     "name": "stderr",
     "output_type": "stream",
     "text": [
      "[I 2019-08-24 12:07:24,261] Finished trial#60 resulted in value: -0.7921949845026768. Current best value is -0.7926176387714848 with parameters: {'w_lr': 0.18694920052351488, 'w_sv': 0.46469941703618933, 'w_xgb': 0.3923573388943994, 'w_lgbm': 0.32097565800159483, 'w_mlp': 0.8689397883326836}.\n"
     ]
    },
    {
     "name": "stdout",
     "output_type": "stream",
     "text": [
      "[w_lr, w_lda, w_sv, w_xgb, w_lgbm,w_cb ] =  [0.122 0.    0.825 0.097 0.001 0.    0.434]\n",
      "AUC all:  0.7752888137503521\n",
      "\n"
     ]
    },
    {
     "name": "stderr",
     "output_type": "stream",
     "text": [
      "[I 2019-08-24 12:07:24,471] Finished trial#61 resulted in value: -0.7752888137503521. Current best value is -0.7926176387714848 with parameters: {'w_lr': 0.18694920052351488, 'w_sv': 0.46469941703618933, 'w_xgb': 0.3923573388943994, 'w_lgbm': 0.32097565800159483, 'w_mlp': 0.8689397883326836}.\n"
     ]
    },
    {
     "name": "stdout",
     "output_type": "stream",
     "text": [
      "[w_lr, w_lda, w_sv, w_xgb, w_lgbm,w_cb ] =  [0.004 0.    0.836 0.048 0.051 0.    0.365]\n",
      "AUC all:  0.7940264863341787\n",
      "\n"
     ]
    },
    {
     "name": "stderr",
     "output_type": "stream",
     "text": [
      "[I 2019-08-24 12:07:24,683] Finished trial#62 resulted in value: -0.7940264863341787. Current best value is -0.7940264863341787 with parameters: {'w_lr': 0.0040199237090516315, 'w_sv': 0.8364548957499613, 'w_xgb': 0.048475921092385854, 'w_lgbm': 0.05102076310051028, 'w_mlp': 0.36500163988319534}.\n"
     ]
    },
    {
     "name": "stdout",
     "output_type": "stream",
     "text": [
      "[w_lr, w_lda, w_sv, w_xgb, w_lgbm,w_cb ] =  [0.005 0.    0.86  0.037 0.071 0.    0.357]\n",
      "AUC all:  0.7919132149901381\n",
      "\n"
     ]
    },
    {
     "name": "stderr",
     "output_type": "stream",
     "text": [
      "[I 2019-08-24 12:07:24,899] Finished trial#63 resulted in value: -0.7919132149901381. Current best value is -0.7940264863341787 with parameters: {'w_lr': 0.0040199237090516315, 'w_sv': 0.8364548957499613, 'w_xgb': 0.048475921092385854, 'w_lgbm': 0.05102076310051028, 'w_mlp': 0.36500163988319534}.\n"
     ]
    },
    {
     "name": "stdout",
     "output_type": "stream",
     "text": [
      "[w_lr, w_lda, w_sv, w_xgb, w_lgbm,w_cb ] =  [0.012 0.    0.844 0.034 0.051 0.    0.314]\n",
      "AUC all:  0.7928994082840237\n",
      "\n"
     ]
    },
    {
     "name": "stderr",
     "output_type": "stream",
     "text": [
      "[I 2019-08-24 12:07:25,115] Finished trial#64 resulted in value: -0.7928994082840237. Current best value is -0.7940264863341787 with parameters: {'w_lr': 0.0040199237090516315, 'w_sv': 0.8364548957499613, 'w_xgb': 0.048475921092385854, 'w_lgbm': 0.05102076310051028, 'w_mlp': 0.36500163988319534}.\n"
     ]
    },
    {
     "name": "stdout",
     "output_type": "stream",
     "text": [
      "[w_lr, w_lda, w_sv, w_xgb, w_lgbm,w_cb ] =  [0.034 0.    0.993 0.118 0.039 0.    0.331]\n",
      "AUC all:  0.7872640180332487\n",
      "\n"
     ]
    },
    {
     "name": "stderr",
     "output_type": "stream",
     "text": [
      "[I 2019-08-24 12:07:25,333] Finished trial#65 resulted in value: -0.7872640180332487. Current best value is -0.7940264863341787 with parameters: {'w_lr': 0.0040199237090516315, 'w_sv': 0.8364548957499613, 'w_xgb': 0.048475921092385854, 'w_lgbm': 0.05102076310051028, 'w_mlp': 0.36500163988319534}.\n"
     ]
    },
    {
     "name": "stdout",
     "output_type": "stream",
     "text": [
      "[w_lr, w_lda, w_sv, w_xgb, w_lgbm,w_cb ] =  [0.141 0.    0.768 0.041 0.123 0.    0.259]\n",
      "AUC all:  0.7865595942519019\n",
      "\n"
     ]
    },
    {
     "name": "stderr",
     "output_type": "stream",
     "text": [
      "[I 2019-08-24 12:07:25,556] Finished trial#66 resulted in value: -0.7865595942519019. Current best value is -0.7940264863341787 with parameters: {'w_lr': 0.0040199237090516315, 'w_sv': 0.8364548957499613, 'w_xgb': 0.048475921092385854, 'w_lgbm': 0.05102076310051028, 'w_mlp': 0.36500163988319534}.\n"
     ]
    },
    {
     "name": "stdout",
     "output_type": "stream",
     "text": [
      "[w_lr, w_lda, w_sv, w_xgb, w_lgbm,w_cb ] =  [0.266 0.    0.831 0.006 0.15  0.    0.489]\n",
      "AUC all:  0.7858551704705551\n",
      "\n"
     ]
    },
    {
     "name": "stderr",
     "output_type": "stream",
     "text": [
      "[I 2019-08-24 12:07:25,777] Finished trial#67 resulted in value: -0.7858551704705551. Current best value is -0.7940264863341787 with parameters: {'w_lr': 0.0040199237090516315, 'w_sv': 0.8364548957499613, 'w_xgb': 0.048475921092385854, 'w_lgbm': 0.05102076310051028, 'w_mlp': 0.36500163988319534}.\n"
     ]
    },
    {
     "name": "stdout",
     "output_type": "stream",
     "text": [
      "[w_lr, w_lda, w_sv, w_xgb, w_lgbm,w_cb ] =  [0.169 0.    0.912 0.119 0.098 0.    0.589]\n",
      "AUC all:  0.7930402930402931\n",
      "\n"
     ]
    },
    {
     "name": "stderr",
     "output_type": "stream",
     "text": [
      "[I 2019-08-24 12:07:25,998] Finished trial#68 resulted in value: -0.7930402930402931. Current best value is -0.7940264863341787 with parameters: {'w_lr': 0.0040199237090516315, 'w_sv': 0.8364548957499613, 'w_xgb': 0.048475921092385854, 'w_lgbm': 0.05102076310051028, 'w_mlp': 0.36500163988319534}.\n"
     ]
    },
    {
     "name": "stdout",
     "output_type": "stream",
     "text": [
      "[w_lr, w_lda, w_sv, w_xgb, w_lgbm,w_cb ] =  [0.116 0.    0.907 0.122 0.098 0.    0.382]\n",
      "AUC all:  0.790363482671175\n",
      "\n"
     ]
    },
    {
     "name": "stderr",
     "output_type": "stream",
     "text": [
      "[I 2019-08-24 12:07:26,221] Finished trial#69 resulted in value: -0.790363482671175. Current best value is -0.7940264863341787 with parameters: {'w_lr': 0.0040199237090516315, 'w_sv': 0.8364548957499613, 'w_xgb': 0.048475921092385854, 'w_lgbm': 0.05102076310051028, 'w_mlp': 0.36500163988319534}.\n"
     ]
    },
    {
     "name": "stdout",
     "output_type": "stream",
     "text": [
      "[w_lr, w_lda, w_sv, w_xgb, w_lgbm,w_cb ] =  [0.155 0.    0.866 0.2   0.036 0.    0.567]\n",
      "AUC all:  0.7820512820512819\n",
      "\n"
     ]
    },
    {
     "name": "stderr",
     "output_type": "stream",
     "text": [
      "[I 2019-08-24 12:07:26,444] Finished trial#70 resulted in value: -0.7820512820512819. Current best value is -0.7940264863341787 with parameters: {'w_lr': 0.0040199237090516315, 'w_sv': 0.8364548957499613, 'w_xgb': 0.048475921092385854, 'w_lgbm': 0.05102076310051028, 'w_mlp': 0.36500163988319534}.\n"
     ]
    },
    {
     "name": "stdout",
     "output_type": "stream",
     "text": [
      "[w_lr, w_lda, w_sv, w_xgb, w_lgbm,w_cb ] =  [0.034 0.    0.959 0.075 0.066 0.    0.307]\n",
      "AUC all:  0.7927585235277542\n",
      "\n"
     ]
    },
    {
     "name": "stderr",
     "output_type": "stream",
     "text": [
      "[I 2019-08-24 12:07:26,671] Finished trial#71 resulted in value: -0.7927585235277542. Current best value is -0.7940264863341787 with parameters: {'w_lr': 0.0040199237090516315, 'w_sv': 0.8364548957499613, 'w_xgb': 0.048475921092385854, 'w_lgbm': 0.05102076310051028, 'w_mlp': 0.36500163988319534}.\n"
     ]
    },
    {
     "name": "stdout",
     "output_type": "stream",
     "text": [
      "[w_lr, w_lda, w_sv, w_xgb, w_lgbm,w_cb ] =  [0.007 0.    0.959 0.05  0.004 0.    0.28 ]\n",
      "AUC all:  0.7802197802197802\n",
      "\n"
     ]
    },
    {
     "name": "stderr",
     "output_type": "stream",
     "text": [
      "[I 2019-08-24 12:07:26,900] Finished trial#72 resulted in value: -0.7802197802197802. Current best value is -0.7940264863341787 with parameters: {'w_lr': 0.0040199237090516315, 'w_sv': 0.8364548957499613, 'w_xgb': 0.048475921092385854, 'w_lgbm': 0.05102076310051028, 'w_mlp': 0.36500163988319534}.\n"
     ]
    },
    {
     "name": "stdout",
     "output_type": "stream",
     "text": [
      "[w_lr, w_lda, w_sv, w_xgb, w_lgbm,w_cb ] =  [0.163 0.    0.942 0.113 0.065 0.    0.184]\n",
      "AUC all:  0.7912087912087912\n",
      "\n"
     ]
    },
    {
     "name": "stderr",
     "output_type": "stream",
     "text": [
      "[I 2019-08-24 12:07:27,126] Finished trial#73 resulted in value: -0.7912087912087912. Current best value is -0.7940264863341787 with parameters: {'w_lr': 0.0040199237090516315, 'w_sv': 0.8364548957499613, 'w_xgb': 0.048475921092385854, 'w_lgbm': 0.05102076310051028, 'w_mlp': 0.36500163988319534}.\n"
     ]
    },
    {
     "name": "stdout",
     "output_type": "stream",
     "text": [
      "[w_lr, w_lda, w_sv, w_xgb, w_lgbm,w_cb ] =  [0.265 0.    0.891 0.03  0.097 0.    0.5  ]\n",
      "AUC all:  0.7916314454775993\n",
      "\n"
     ]
    },
    {
     "name": "stderr",
     "output_type": "stream",
     "text": [
      "[I 2019-08-24 12:07:27,356] Finished trial#74 resulted in value: -0.7916314454775993. Current best value is -0.7940264863341787 with parameters: {'w_lr': 0.0040199237090516315, 'w_sv': 0.8364548957499613, 'w_xgb': 0.048475921092385854, 'w_lgbm': 0.05102076310051028, 'w_mlp': 0.36500163988319534}.\n"
     ]
    },
    {
     "name": "stdout",
     "output_type": "stream",
     "text": [
      "[w_lr, w_lda, w_sv, w_xgb, w_lgbm,w_cb ] =  [0.081 0.    0.832 0.145 0.06  0.    0.4  ]\n",
      "AUC all:  0.7895181741335586\n",
      "\n"
     ]
    },
    {
     "name": "stderr",
     "output_type": "stream",
     "text": [
      "[I 2019-08-24 12:07:27,589] Finished trial#75 resulted in value: -0.7895181741335586. Current best value is -0.7940264863341787 with parameters: {'w_lr': 0.0040199237090516315, 'w_sv': 0.8364548957499613, 'w_xgb': 0.048475921092385854, 'w_lgbm': 0.05102076310051028, 'w_mlp': 0.36500163988319534}.\n"
     ]
    },
    {
     "name": "stdout",
     "output_type": "stream",
     "text": [
      "[w_lr, w_lda, w_sv, w_xgb, w_lgbm,w_cb ] =  [0.037 0.    0.979 0.061 0.017 0.    0.323]\n",
      "AUC all:  0.7857142857142857\n",
      "\n"
     ]
    },
    {
     "name": "stderr",
     "output_type": "stream",
     "text": [
      "[I 2019-08-24 12:07:27,820] Finished trial#76 resulted in value: -0.7857142857142857. Current best value is -0.7940264863341787 with parameters: {'w_lr': 0.0040199237090516315, 'w_sv': 0.8364548957499613, 'w_xgb': 0.048475921092385854, 'w_lgbm': 0.05102076310051028, 'w_mlp': 0.36500163988319534}.\n"
     ]
    },
    {
     "name": "stdout",
     "output_type": "stream",
     "text": [
      "[w_lr, w_lda, w_sv, w_xgb, w_lgbm,w_cb ] =  [0.114 0.    0.753 0.189 0.184 0.    0.462]\n",
      "AUC all:  0.7914905607213301\n",
      "\n"
     ]
    },
    {
     "name": "stderr",
     "output_type": "stream",
     "text": [
      "[I 2019-08-24 12:07:28,052] Finished trial#77 resulted in value: -0.7914905607213301. Current best value is -0.7940264863341787 with parameters: {'w_lr': 0.0040199237090516315, 'w_sv': 0.8364548957499613, 'w_xgb': 0.048475921092385854, 'w_lgbm': 0.05102076310051028, 'w_mlp': 0.36500163988319534}.\n"
     ]
    },
    {
     "name": "stdout",
     "output_type": "stream",
     "text": [
      "[w_lr, w_lda, w_sv, w_xgb, w_lgbm,w_cb ] =  [0.216 0.    0.858 0.007 0.139 0.    0.601]\n",
      "AUC all:  0.7883910960834037\n",
      "\n"
     ]
    },
    {
     "name": "stderr",
     "output_type": "stream",
     "text": [
      "[I 2019-08-24 12:07:28,292] Finished trial#78 resulted in value: -0.7883910960834037. Current best value is -0.7940264863341787 with parameters: {'w_lr': 0.0040199237090516315, 'w_sv': 0.8364548957499613, 'w_xgb': 0.048475921092385854, 'w_lgbm': 0.05102076310051028, 'w_mlp': 0.36500163988319534}.\n"
     ]
    },
    {
     "name": "stdout",
     "output_type": "stream",
     "text": [
      "[w_lr, w_lda, w_sv, w_xgb, w_lgbm,w_cb ] =  [0.986 0.    0.94  0.1   0.085 0.    0.288]\n",
      "AUC all:  0.790363482671175\n",
      "\n"
     ]
    },
    {
     "name": "stderr",
     "output_type": "stream",
     "text": [
      "[I 2019-08-24 12:07:28,529] Finished trial#79 resulted in value: -0.790363482671175. Current best value is -0.7940264863341787 with parameters: {'w_lr': 0.0040199237090516315, 'w_sv': 0.8364548957499613, 'w_xgb': 0.048475921092385854, 'w_lgbm': 0.05102076310051028, 'w_mlp': 0.36500163988319534}.\n"
     ]
    },
    {
     "name": "stdout",
     "output_type": "stream",
     "text": [
      "[w_lr, w_lda, w_sv, w_xgb, w_lgbm,w_cb ] =  [0.001 0.    0.782 0.232 0.113 0.    0.206]\n",
      "AUC all:  0.7889546351084813\n",
      "\n"
     ]
    },
    {
     "name": "stderr",
     "output_type": "stream",
     "text": [
      "[I 2019-08-24 12:07:28,757] Finished trial#80 resulted in value: -0.7889546351084813. Current best value is -0.7940264863341787 with parameters: {'w_lr': 0.0040199237090516315, 'w_sv': 0.8364548957499613, 'w_xgb': 0.048475921092385854, 'w_lgbm': 0.05102076310051028, 'w_mlp': 0.36500163988319534}.\n"
     ]
    },
    {
     "name": "stdout",
     "output_type": "stream",
     "text": [
      "[w_lr, w_lda, w_sv, w_xgb, w_lgbm,w_cb ] =  [0.032 0.    0.805 0.088 0.046 0.    0.513]\n",
      "AUC all:  0.7902225979149056\n",
      "\n"
     ]
    },
    {
     "name": "stderr",
     "output_type": "stream",
     "text": [
      "[I 2019-08-24 12:07:28,993] Finished trial#81 resulted in value: -0.7902225979149056. Current best value is -0.7940264863341787 with parameters: {'w_lr': 0.0040199237090516315, 'w_sv': 0.8364548957499613, 'w_xgb': 0.048475921092385854, 'w_lgbm': 0.05102076310051028, 'w_mlp': 0.36500163988319534}.\n"
     ]
    },
    {
     "name": "stdout",
     "output_type": "stream",
     "text": [
      "[w_lr, w_lda, w_sv, w_xgb, w_lgbm,w_cb ] =  [0.048 0.    0.893 0.071 0.179 0.    0.587]\n",
      "AUC all:  0.7896590588898281\n",
      "\n"
     ]
    },
    {
     "name": "stderr",
     "output_type": "stream",
     "text": [
      "[I 2019-08-24 12:07:29,224] Finished trial#82 resulted in value: -0.7896590588898281. Current best value is -0.7940264863341787 with parameters: {'w_lr': 0.0040199237090516315, 'w_sv': 0.8364548957499613, 'w_xgb': 0.048475921092385854, 'w_lgbm': 0.05102076310051028, 'w_mlp': 0.36500163988319534}.\n"
     ]
    },
    {
     "name": "stdout",
     "output_type": "stream",
     "text": [
      "[w_lr, w_lda, w_sv, w_xgb, w_lgbm,w_cb ] =  [0.088 0.    0.841 0.133 0.142 0.    0.623]\n",
      "AUC all:  0.7921949845026768\n",
      "\n"
     ]
    },
    {
     "name": "stderr",
     "output_type": "stream",
     "text": [
      "[I 2019-08-24 12:07:29,465] Finished trial#83 resulted in value: -0.7921949845026768. Current best value is -0.7940264863341787 with parameters: {'w_lr': 0.0040199237090516315, 'w_sv': 0.8364548957499613, 'w_xgb': 0.048475921092385854, 'w_lgbm': 0.05102076310051028, 'w_mlp': 0.36500163988319534}.\n"
     ]
    },
    {
     "name": "stdout",
     "output_type": "stream",
     "text": [
      "[w_lr, w_lda, w_sv, w_xgb, w_lgbm,w_cb ] =  [0.092 0.    0.84  0.138 0.001 0.    0.526]\n",
      "AUC all:  0.7745843899690054\n",
      "\n"
     ]
    },
    {
     "name": "stderr",
     "output_type": "stream",
     "text": [
      "[I 2019-08-24 12:07:29,708] Finished trial#84 resulted in value: -0.7745843899690054. Current best value is -0.7940264863341787 with parameters: {'w_lr': 0.0040199237090516315, 'w_sv': 0.8364548957499613, 'w_xgb': 0.048475921092385854, 'w_lgbm': 0.05102076310051028, 'w_mlp': 0.36500163988319534}.\n"
     ]
    },
    {
     "name": "stdout",
     "output_type": "stream",
     "text": [
      "[w_lr, w_lda, w_sv, w_xgb, w_lgbm,w_cb ] =  [0.14  0.    0.756 0.187 0.114 0.    0.635]\n",
      "AUC all:  0.7913496759650606\n",
      "\n"
     ]
    },
    {
     "name": "stderr",
     "output_type": "stream",
     "text": [
      "[I 2019-08-24 12:07:29,942] Finished trial#85 resulted in value: -0.7913496759650606. Current best value is -0.7940264863341787 with parameters: {'w_lr': 0.0040199237090516315, 'w_sv': 0.8364548957499613, 'w_xgb': 0.048475921092385854, 'w_lgbm': 0.05102076310051028, 'w_mlp': 0.36500163988319534}.\n"
     ]
    },
    {
     "name": "stdout",
     "output_type": "stream",
     "text": [
      "[w_lr, w_lda, w_sv, w_xgb, w_lgbm,w_cb ] =  [0.163 0.    0.964 0.026 0.078 0.    0.471]\n",
      "AUC all:  0.7912087912087912\n",
      "\n"
     ]
    },
    {
     "name": "stderr",
     "output_type": "stream",
     "text": [
      "[I 2019-08-24 12:07:30,175] Finished trial#86 resulted in value: -0.7912087912087912. Current best value is -0.7940264863341787 with parameters: {'w_lr': 0.0040199237090516315, 'w_sv': 0.8364548957499613, 'w_xgb': 0.048475921092385854, 'w_lgbm': 0.05102076310051028, 'w_mlp': 0.36500163988319534}.\n"
     ]
    },
    {
     "name": "stdout",
     "output_type": "stream",
     "text": [
      "[w_lr, w_lda, w_sv, w_xgb, w_lgbm,w_cb ] =  [0.182 0.    0.88  0.127 0.024 0.    0.68 ]\n",
      "AUC all:  0.7833192448577063\n",
      "\n"
     ]
    },
    {
     "name": "stderr",
     "output_type": "stream",
     "text": [
      "[I 2019-08-24 12:07:30,414] Finished trial#87 resulted in value: -0.7833192448577063. Current best value is -0.7940264863341787 with parameters: {'w_lr': 0.0040199237090516315, 'w_sv': 0.8364548957499613, 'w_xgb': 0.048475921092385854, 'w_lgbm': 0.05102076310051028, 'w_mlp': 0.36500163988319534}.\n"
     ]
    },
    {
     "name": "stdout",
     "output_type": "stream",
     "text": [
      "[w_lr, w_lda, w_sv, w_xgb, w_lgbm,w_cb ] =  [0.794 0.    0.373 0.003 0.135 0.    0.421]\n",
      "AUC all:  0.7838827838827839\n",
      "\n"
     ]
    },
    {
     "name": "stderr",
     "output_type": "stream",
     "text": [
      "[I 2019-08-24 12:07:30,650] Finished trial#88 resulted in value: -0.7838827838827839. Current best value is -0.7940264863341787 with parameters: {'w_lr': 0.0040199237090516315, 'w_sv': 0.8364548957499613, 'w_xgb': 0.048475921092385854, 'w_lgbm': 0.05102076310051028, 'w_mlp': 0.36500163988319534}.\n"
     ]
    },
    {
     "name": "stdout",
     "output_type": "stream",
     "text": [
      "[w_lr, w_lda, w_sv, w_xgb, w_lgbm,w_cb ] =  [0.075 0.    0.811 0.104 0.057 0.    0.55 ]\n",
      "AUC all:  0.7903634826711748\n",
      "\n"
     ]
    },
    {
     "name": "stderr",
     "output_type": "stream",
     "text": [
      "[I 2019-08-24 12:07:30,888] Finished trial#89 resulted in value: -0.7903634826711748. Current best value is -0.7940264863341787 with parameters: {'w_lr': 0.0040199237090516315, 'w_sv': 0.8364548957499613, 'w_xgb': 0.048475921092385854, 'w_lgbm': 0.05102076310051028, 'w_mlp': 0.36500163988319534}.\n"
     ]
    },
    {
     "name": "stdout",
     "output_type": "stream",
     "text": [
      "[w_lr, w_lda, w_sv, w_xgb, w_lgbm,w_cb ] =  [0.254 0.    0.929 0.164 0.185 0.    0.242]\n",
      "AUC all:  0.7879684418145956\n",
      "\n"
     ]
    },
    {
     "name": "stderr",
     "output_type": "stream",
     "text": [
      "[I 2019-08-24 12:07:31,127] Finished trial#90 resulted in value: -0.7879684418145956. Current best value is -0.7940264863341787 with parameters: {'w_lr': 0.0040199237090516315, 'w_sv': 0.8364548957499613, 'w_xgb': 0.048475921092385854, 'w_lgbm': 0.05102076310051028, 'w_mlp': 0.36500163988319534}.\n"
     ]
    },
    {
     "name": "stdout",
     "output_type": "stream",
     "text": [
      "[w_lr, w_lda, w_sv, w_xgb, w_lgbm,w_cb ] =  [0.026 0.    0.844 0.058 0.148 0.    0.136]\n",
      "AUC all:  0.7776838546069315\n",
      "\n"
     ]
    },
    {
     "name": "stderr",
     "output_type": "stream",
     "text": [
      "[I 2019-08-24 12:07:31,374] Finished trial#91 resulted in value: -0.7776838546069315. Current best value is -0.7940264863341787 with parameters: {'w_lr': 0.0040199237090516315, 'w_sv': 0.8364548957499613, 'w_xgb': 0.048475921092385854, 'w_lgbm': 0.05102076310051028, 'w_mlp': 0.36500163988319534}.\n"
     ]
    },
    {
     "name": "stdout",
     "output_type": "stream",
     "text": [
      "[w_lr, w_lda, w_sv, w_xgb, w_lgbm,w_cb ] =  [0.101 0.    0.528 0.082 0.091 0.    0.566]\n",
      "AUC all:  0.7927585235277542\n",
      "\n"
     ]
    },
    {
     "name": "stderr",
     "output_type": "stream",
     "text": [
      "[I 2019-08-24 12:07:31,628] Finished trial#92 resulted in value: -0.7927585235277542. Current best value is -0.7940264863341787 with parameters: {'w_lr': 0.0040199237090516315, 'w_sv': 0.8364548957499613, 'w_xgb': 0.048475921092385854, 'w_lgbm': 0.05102076310051028, 'w_mlp': 0.36500163988319534}.\n"
     ]
    },
    {
     "name": "stdout",
     "output_type": "stream",
     "text": [
      "[w_lr, w_lda, w_sv, w_xgb, w_lgbm,w_cb ] =  [0.122 0.    0.523 0.028 0.093 0.    0.571]\n",
      "AUC all:  0.7913496759650607\n",
      "\n"
     ]
    },
    {
     "name": "stderr",
     "output_type": "stream",
     "text": [
      "[I 2019-08-24 12:07:31,879] Finished trial#93 resulted in value: -0.7913496759650607. Current best value is -0.7940264863341787 with parameters: {'w_lr': 0.0040199237090516315, 'w_sv': 0.8364548957499613, 'w_xgb': 0.048475921092385854, 'w_lgbm': 0.05102076310051028, 'w_mlp': 0.36500163988319534}.\n"
     ]
    },
    {
     "name": "stdout",
     "output_type": "stream",
     "text": [
      "[w_lr, w_lda, w_sv, w_xgb, w_lgbm,w_cb ] =  [0.106 0.    0.898 0.133 0.073 0.    0.625]\n",
      "AUC all:  0.7910679064525218\n",
      "\n"
     ]
    },
    {
     "name": "stderr",
     "output_type": "stream",
     "text": [
      "[I 2019-08-24 12:07:32,133] Finished trial#94 resulted in value: -0.7910679064525218. Current best value is -0.7940264863341787 with parameters: {'w_lr': 0.0040199237090516315, 'w_sv': 0.8364548957499613, 'w_xgb': 0.048475921092385854, 'w_lgbm': 0.05102076310051028, 'w_mlp': 0.36500163988319534}.\n"
     ]
    },
    {
     "name": "stdout",
     "output_type": "stream",
     "text": [
      "[w_lr, w_lda, w_sv, w_xgb, w_lgbm,w_cb ] =  [0.067 0.    0.78  0.072 0.117 0.    0.366]\n",
      "AUC all:  0.7906452521837136\n",
      "\n"
     ]
    },
    {
     "name": "stderr",
     "output_type": "stream",
     "text": [
      "[I 2019-08-24 12:07:32,392] Finished trial#95 resulted in value: -0.7906452521837136. Current best value is -0.7940264863341787 with parameters: {'w_lr': 0.0040199237090516315, 'w_sv': 0.8364548957499613, 'w_xgb': 0.048475921092385854, 'w_lgbm': 0.05102076310051028, 'w_mlp': 0.36500163988319534}.\n"
     ]
    },
    {
     "name": "stdout",
     "output_type": "stream",
     "text": [
      "[w_lr, w_lda, w_sv, w_xgb, w_lgbm,w_cb ] =  [0.14  0.    0.814 0.218 0.165 0.    0.322]\n",
      "AUC all:  0.7902225979149056\n",
      "\n"
     ]
    },
    {
     "name": "stderr",
     "output_type": "stream",
     "text": [
      "[I 2019-08-24 12:07:32,652] Finished trial#96 resulted in value: -0.7902225979149056. Current best value is -0.7940264863341787 with parameters: {'w_lr': 0.0040199237090516315, 'w_sv': 0.8364548957499613, 'w_xgb': 0.048475921092385854, 'w_lgbm': 0.05102076310051028, 'w_mlp': 0.36500163988319534}.\n"
     ]
    },
    {
     "name": "stdout",
     "output_type": "stream",
     "text": [
      "[w_lr, w_lda, w_sv, w_xgb, w_lgbm,w_cb ] =  [0.212 0.    0.873 0.095 0.241 0.    0.294]\n",
      "AUC all:  0.7797971259509721\n",
      "\n"
     ]
    },
    {
     "name": "stderr",
     "output_type": "stream",
     "text": [
      "[I 2019-08-24 12:07:32,908] Finished trial#97 resulted in value: -0.7797971259509721. Current best value is -0.7940264863341787 with parameters: {'w_lr': 0.0040199237090516315, 'w_sv': 0.8364548957499613, 'w_xgb': 0.048475921092385854, 'w_lgbm': 0.05102076310051028, 'w_mlp': 0.36500163988319534}.\n"
     ]
    },
    {
     "name": "stdout",
     "output_type": "stream",
     "text": [
      "[w_lr, w_lda, w_sv, w_xgb, w_lgbm,w_cb ] =  [0.004 0.    0.984 0.056 0.022 0.    0.441]\n",
      "AUC all:  0.7867004790081712\n",
      "\n"
     ]
    },
    {
     "name": "stderr",
     "output_type": "stream",
     "text": [
      "[I 2019-08-24 12:07:33,170] Finished trial#98 resulted in value: -0.7867004790081712. Current best value is -0.7940264863341787 with parameters: {'w_lr': 0.0040199237090516315, 'w_sv': 0.8364548957499613, 'w_xgb': 0.048475921092385854, 'w_lgbm': 0.05102076310051028, 'w_mlp': 0.36500163988319534}.\n"
     ]
    },
    {
     "name": "stdout",
     "output_type": "stream",
     "text": [
      "[w_lr, w_lda, w_sv, w_xgb, w_lgbm,w_cb ] =  [0.087 0.    0.85  0.175 0.048 0.    0.589]\n",
      "AUC all:  0.7847280924204001\n",
      "\n"
     ]
    },
    {
     "name": "stderr",
     "output_type": "stream",
     "text": [
      "[I 2019-08-24 12:07:33,431] Finished trial#99 resulted in value: -0.7847280924204001. Current best value is -0.7940264863341787 with parameters: {'w_lr': 0.0040199237090516315, 'w_sv': 0.8364548957499613, 'w_xgb': 0.048475921092385854, 'w_lgbm': 0.05102076310051028, 'w_mlp': 0.36500163988319534}.\n"
     ]
    },
    {
     "name": "stdout",
     "output_type": "stream",
     "text": [
      "[w_lr, w_lda, w_sv, w_xgb, w_lgbm,w_cb ] =  [0.053 0.    0.742 0.151 0.096 0.    0.399]\n",
      "AUC all:  0.790363482671175\n",
      "\n"
     ]
    },
    {
     "name": "stderr",
     "output_type": "stream",
     "text": [
      "[I 2019-08-24 12:07:33,692] Finished trial#100 resulted in value: -0.790363482671175. Current best value is -0.7940264863341787 with parameters: {'w_lr': 0.0040199237090516315, 'w_sv': 0.8364548957499613, 'w_xgb': 0.048475921092385854, 'w_lgbm': 0.05102076310051028, 'w_mlp': 0.36500163988319534}.\n"
     ]
    },
    {
     "name": "stdout",
     "output_type": "stream",
     "text": [
      "[w_lr, w_lda, w_sv, w_xgb, w_lgbm,w_cb ] =  [0.014 0.    0.467 0.08  0.997 0.    0.67 ]\n",
      "AUC all:  0.7678219216680755\n",
      "\n"
     ]
    },
    {
     "name": "stderr",
     "output_type": "stream",
     "text": [
      "[I 2019-08-24 12:07:33,955] Finished trial#101 resulted in value: -0.7678219216680755. Current best value is -0.7940264863341787 with parameters: {'w_lr': 0.0040199237090516315, 'w_sv': 0.8364548957499613, 'w_xgb': 0.048475921092385854, 'w_lgbm': 0.05102076310051028, 'w_mlp': 0.36500163988319534}.\n"
     ]
    },
    {
     "name": "stdout",
     "output_type": "stream",
     "text": [
      "[w_lr, w_lda, w_sv, w_xgb, w_lgbm,w_cb ] =  [0.048 0.    0.796 0.112 0.135 0.    0.525]\n",
      "AUC all:  0.7921949845026768\n",
      "\n"
     ]
    },
    {
     "name": "stderr",
     "output_type": "stream",
     "text": [
      "[I 2019-08-24 12:07:34,217] Finished trial#102 resulted in value: -0.7921949845026768. Current best value is -0.7940264863341787 with parameters: {'w_lr': 0.0040199237090516315, 'w_sv': 0.8364548957499613, 'w_xgb': 0.048475921092385854, 'w_lgbm': 0.05102076310051028, 'w_mlp': 0.36500163988319534}.\n"
     ]
    },
    {
     "name": "stdout",
     "output_type": "stream",
     "text": [
      "[w_lr, w_lda, w_sv, w_xgb, w_lgbm,w_cb ] =  [0.167 0.    0.795 0.116 0.128 0.    0.53 ]\n",
      "AUC all:  0.7919132149901381\n",
      "\n"
     ]
    },
    {
     "name": "stderr",
     "output_type": "stream",
     "text": [
      "[I 2019-08-24 12:07:34,482] Finished trial#103 resulted in value: -0.7919132149901381. Current best value is -0.7940264863341787 with parameters: {'w_lr': 0.0040199237090516315, 'w_sv': 0.8364548957499613, 'w_xgb': 0.048475921092385854, 'w_lgbm': 0.05102076310051028, 'w_mlp': 0.36500163988319534}.\n"
     ]
    },
    {
     "name": "stdout",
     "output_type": "stream",
     "text": [
      "[w_lr, w_lda, w_sv, w_xgb, w_lgbm,w_cb ] =  [0.107 0.    0.913 0.045 0.16  0.    0.49 ]\n",
      "AUC all:  0.7889546351084812\n",
      "\n"
     ]
    },
    {
     "name": "stderr",
     "output_type": "stream",
     "text": [
      "[I 2019-08-24 12:07:34,749] Finished trial#104 resulted in value: -0.7889546351084812. Current best value is -0.7940264863341787 with parameters: {'w_lr': 0.0040199237090516315, 'w_sv': 0.8364548957499613, 'w_xgb': 0.048475921092385854, 'w_lgbm': 0.05102076310051028, 'w_mlp': 0.36500163988319534}.\n"
     ]
    },
    {
     "name": "stdout",
     "output_type": "stream",
     "text": [
      "[w_lr, w_lda, w_sv, w_xgb, w_lgbm,w_cb ] =  [0.132 0.    0.516 0.103 0.194 0.    0.567]\n",
      "AUC all:  0.7888137503522119\n",
      "\n"
     ]
    },
    {
     "name": "stderr",
     "output_type": "stream",
     "text": [
      "[I 2019-08-24 12:07:35,019] Finished trial#105 resulted in value: -0.7888137503522119. Current best value is -0.7940264863341787 with parameters: {'w_lr': 0.0040199237090516315, 'w_sv': 0.8364548957499613, 'w_xgb': 0.048475921092385854, 'w_lgbm': 0.05102076310051028, 'w_mlp': 0.36500163988319534}.\n"
     ]
    },
    {
     "name": "stdout",
     "output_type": "stream",
     "text": [
      "[w_lr, w_lda, w_sv, w_xgb, w_lgbm,w_cb ] =  [0.049 0.    0.879 0.019 0.059 0.    0.608]\n",
      "AUC all:  0.7920540997464075\n",
      "\n"
     ]
    },
    {
     "name": "stderr",
     "output_type": "stream",
     "text": [
      "[I 2019-08-24 12:07:35,280] Finished trial#106 resulted in value: -0.7920540997464075. Current best value is -0.7940264863341787 with parameters: {'w_lr': 0.0040199237090516315, 'w_sv': 0.8364548957499613, 'w_xgb': 0.048475921092385854, 'w_lgbm': 0.05102076310051028, 'w_mlp': 0.36500163988319534}.\n"
     ]
    },
    {
     "name": "stdout",
     "output_type": "stream",
     "text": [
      "[w_lr, w_lda, w_sv, w_xgb, w_lgbm,w_cb ] =  [0.091 0.    0.829 0.152 0.106 0.    0.475]\n",
      "AUC all:  0.7913496759650606\n",
      "\n"
     ]
    },
    {
     "name": "stderr",
     "output_type": "stream",
     "text": [
      "[I 2019-08-24 12:07:35,555] Finished trial#107 resulted in value: -0.7913496759650606. Current best value is -0.7940264863341787 with parameters: {'w_lr': 0.0040199237090516315, 'w_sv': 0.8364548957499613, 'w_xgb': 0.048475921092385854, 'w_lgbm': 0.05102076310051028, 'w_mlp': 0.36500163988319534}.\n"
     ]
    },
    {
     "name": "stdout",
     "output_type": "stream",
     "text": [
      "[w_lr, w_lda, w_sv, w_xgb, w_lgbm,w_cb ] =  [0.193 0.    0.769 0.129 0.075 0.    0.516]\n",
      "AUC all:  0.7916314454775993\n",
      "\n"
     ]
    },
    {
     "name": "stderr",
     "output_type": "stream",
     "text": [
      "[I 2019-08-24 12:07:35,823] Finished trial#108 resulted in value: -0.7916314454775993. Current best value is -0.7940264863341787 with parameters: {'w_lr': 0.0040199237090516315, 'w_sv': 0.8364548957499613, 'w_xgb': 0.048475921092385854, 'w_lgbm': 0.05102076310051028, 'w_mlp': 0.36500163988319534}.\n"
     ]
    },
    {
     "name": "stdout",
     "output_type": "stream",
     "text": [
      "[w_lr, w_lda, w_sv, w_xgb, w_lgbm,w_cb ] =  [0.02  0.    0.943 0.21  0.232 0.    0.34 ]\n",
      "AUC all:  0.7888137503522119\n",
      "\n"
     ]
    },
    {
     "name": "stderr",
     "output_type": "stream",
     "text": [
      "[I 2019-08-24 12:07:36,096] Finished trial#109 resulted in value: -0.7888137503522119. Current best value is -0.7940264863341787 with parameters: {'w_lr': 0.0040199237090516315, 'w_sv': 0.8364548957499613, 'w_xgb': 0.048475921092385854, 'w_lgbm': 0.05102076310051028, 'w_mlp': 0.36500163988319534}.\n"
     ]
    },
    {
     "name": "stdout",
     "output_type": "stream",
     "text": [
      "[w_lr, w_lda, w_sv, w_xgb, w_lgbm,w_cb ] =  [0.067 0.    0.854 0.248 0.13  0.    0.541]\n",
      "AUC all:  0.7890955198647506\n",
      "\n"
     ]
    },
    {
     "name": "stderr",
     "output_type": "stream",
     "text": [
      "[I 2019-08-24 12:07:36,366] Finished trial#110 resulted in value: -0.7890955198647506. Current best value is -0.7940264863341787 with parameters: {'w_lr': 0.0040199237090516315, 'w_sv': 0.8364548957499613, 'w_xgb': 0.048475921092385854, 'w_lgbm': 0.05102076310051028, 'w_mlp': 0.36500163988319534}.\n"
     ]
    },
    {
     "name": "stdout",
     "output_type": "stream",
     "text": [
      "[w_lr, w_lda, w_sv, w_xgb, w_lgbm,w_cb ] =  [0.05  0.    0.873 0.034 0.052 0.    0.611]\n",
      "AUC all:  0.7934629473091012\n",
      "\n"
     ]
    },
    {
     "name": "stderr",
     "output_type": "stream",
     "text": [
      "[I 2019-08-24 12:07:36,627] Finished trial#111 resulted in value: -0.7934629473091012. Current best value is -0.7940264863341787 with parameters: {'w_lr': 0.0040199237090516315, 'w_sv': 0.8364548957499613, 'w_xgb': 0.048475921092385854, 'w_lgbm': 0.05102076310051028, 'w_mlp': 0.36500163988319534}.\n"
     ]
    },
    {
     "name": "stdout",
     "output_type": "stream",
     "text": [
      "[w_lr, w_lda, w_sv, w_xgb, w_lgbm,w_cb ] =  [0.039 0.    0.813 0.057 0.035 0.    0.642]\n",
      "AUC all:  0.7888137503522119\n",
      "\n"
     ]
    },
    {
     "name": "stderr",
     "output_type": "stream",
     "text": [
      "[I 2019-08-24 12:07:36,889] Finished trial#112 resulted in value: -0.7888137503522119. Current best value is -0.7940264863341787 with parameters: {'w_lr': 0.0040199237090516315, 'w_sv': 0.8364548957499613, 'w_xgb': 0.048475921092385854, 'w_lgbm': 0.05102076310051028, 'w_mlp': 0.36500163988319534}.\n"
     ]
    },
    {
     "name": "stdout",
     "output_type": "stream",
     "text": [
      "[w_lr, w_lda, w_sv, w_xgb, w_lgbm,w_cb ] =  [0.15  0.    0.89  0.088 0.091 0.    0.583]\n",
      "AUC all:  0.7931811777965623\n",
      "\n"
     ]
    },
    {
     "name": "stderr",
     "output_type": "stream",
     "text": [
      "[I 2019-08-24 12:07:37,154] Finished trial#113 resulted in value: -0.7931811777965623. Current best value is -0.7940264863341787 with parameters: {'w_lr': 0.0040199237090516315, 'w_sv': 0.8364548957499613, 'w_xgb': 0.048475921092385854, 'w_lgbm': 0.05102076310051028, 'w_mlp': 0.36500163988319534}.\n"
     ]
    },
    {
     "name": "stdout",
     "output_type": "stream",
     "text": [
      "[w_lr, w_lda, w_sv, w_xgb, w_lgbm,w_cb ] =  [0.152 0.    0.89  0.086 0.084 0.    0.596]\n",
      "AUC all:  0.7933220625528318\n",
      "\n"
     ]
    },
    {
     "name": "stderr",
     "output_type": "stream",
     "text": [
      "[I 2019-08-24 12:07:37,419] Finished trial#114 resulted in value: -0.7933220625528318. Current best value is -0.7940264863341787 with parameters: {'w_lr': 0.0040199237090516315, 'w_sv': 0.8364548957499613, 'w_xgb': 0.048475921092385854, 'w_lgbm': 0.05102076310051028, 'w_mlp': 0.36500163988319534}.\n"
     ]
    },
    {
     "name": "stdout",
     "output_type": "stream",
     "text": [
      "[w_lr, w_lda, w_sv, w_xgb, w_lgbm,w_cb ] =  [0.226 0.    0.966 0.083 0.006 0.    0.614]\n",
      "AUC all:  0.7792335869258946\n",
      "\n"
     ]
    },
    {
     "name": "stderr",
     "output_type": "stream",
     "text": [
      "[I 2019-08-24 12:07:37,699] Finished trial#115 resulted in value: -0.7792335869258946. Current best value is -0.7940264863341787 with parameters: {'w_lr': 0.0040199237090516315, 'w_sv': 0.8364548957499613, 'w_xgb': 0.048475921092385854, 'w_lgbm': 0.05102076310051028, 'w_mlp': 0.36500163988319534}.\n"
     ]
    },
    {
     "name": "stdout",
     "output_type": "stream",
     "text": [
      "[w_lr, w_lda, w_sv, w_xgb, w_lgbm,w_cb ] =  [0.075 0.    0.918 0.017 0.087 0.    0.665]\n",
      "AUC all:  0.7920540997464074\n",
      "\n"
     ]
    },
    {
     "name": "stderr",
     "output_type": "stream",
     "text": [
      "[I 2019-08-24 12:07:37,969] Finished trial#116 resulted in value: -0.7920540997464074. Current best value is -0.7940264863341787 with parameters: {'w_lr': 0.0040199237090516315, 'w_sv': 0.8364548957499613, 'w_xgb': 0.048475921092385854, 'w_lgbm': 0.05102076310051028, 'w_mlp': 0.36500163988319534}.\n"
     ]
    },
    {
     "name": "stdout",
     "output_type": "stream",
     "text": [
      "[w_lr, w_lda, w_sv, w_xgb, w_lgbm,w_cb ] =  [0.123 0.    0.892 0.04  0.042 0.    0.556]\n",
      "AUC all:  0.7917723302338687\n",
      "\n"
     ]
    },
    {
     "name": "stderr",
     "output_type": "stream",
     "text": [
      "[I 2019-08-24 12:07:38,254] Finished trial#117 resulted in value: -0.7917723302338687. Current best value is -0.7940264863341787 with parameters: {'w_lr': 0.0040199237090516315, 'w_sv': 0.8364548957499613, 'w_xgb': 0.048475921092385854, 'w_lgbm': 0.05102076310051028, 'w_mlp': 0.36500163988319534}.\n"
     ]
    },
    {
     "name": "stdout",
     "output_type": "stream",
     "text": [
      "[w_lr, w_lda, w_sv, w_xgb, w_lgbm,w_cb ] =  [0.171 0.    0.876 0.091 0.066 0.    0.445]\n",
      "AUC all:  0.792617638771485\n",
      "\n"
     ]
    },
    {
     "name": "stderr",
     "output_type": "stream",
     "text": [
      "[I 2019-08-24 12:07:38,522] Finished trial#118 resulted in value: -0.792617638771485. Current best value is -0.7940264863341787 with parameters: {'w_lr': 0.0040199237090516315, 'w_sv': 0.8364548957499613, 'w_xgb': 0.048475921092385854, 'w_lgbm': 0.05102076310051028, 'w_mlp': 0.36500163988319534}.\n"
     ]
    },
    {
     "name": "stdout",
     "output_type": "stream",
     "text": [
      "[w_lr, w_lda, w_sv, w_xgb, w_lgbm,w_cb ] =  [0.173 0.    0.424 0.003 0.02  0.    0.305]\n",
      "AUC all:  0.7900817131586363\n",
      "\n"
     ]
    },
    {
     "name": "stderr",
     "output_type": "stream",
     "text": [
      "[I 2019-08-24 12:07:38,795] Finished trial#119 resulted in value: -0.7900817131586363. Current best value is -0.7940264863341787 with parameters: {'w_lr': 0.0040199237090516315, 'w_sv': 0.8364548957499613, 'w_xgb': 0.048475921092385854, 'w_lgbm': 0.05102076310051028, 'w_mlp': 0.36500163988319534}.\n"
     ]
    },
    {
     "name": "stdout",
     "output_type": "stream",
     "text": [
      "[w_lr, w_lda, w_sv, w_xgb, w_lgbm,w_cb ] =  [0.158 0.    0.877 0.07  0.109 0.    0.592]\n",
      "AUC all:  0.7916314454775992\n",
      "\n"
     ]
    },
    {
     "name": "stderr",
     "output_type": "stream",
     "text": [
      "[I 2019-08-24 12:07:39,073] Finished trial#120 resulted in value: -0.7916314454775992. Current best value is -0.7940264863341787 with parameters: {'w_lr': 0.0040199237090516315, 'w_sv': 0.8364548957499613, 'w_xgb': 0.048475921092385854, 'w_lgbm': 0.05102076310051028, 'w_mlp': 0.36500163988319534}.\n"
     ]
    },
    {
     "name": "stdout",
     "output_type": "stream",
     "text": [
      "[w_lr, w_lda, w_sv, w_xgb, w_lgbm,w_cb ] =  [0.197 0.    0.932 0.087 0.063 0.    0.45 ]\n",
      "AUC all:  0.7917723302338687\n",
      "\n"
     ]
    },
    {
     "name": "stderr",
     "output_type": "stream",
     "text": [
      "[I 2019-08-24 12:07:39,361] Finished trial#121 resulted in value: -0.7917723302338687. Current best value is -0.7940264863341787 with parameters: {'w_lr': 0.0040199237090516315, 'w_sv': 0.8364548957499613, 'w_xgb': 0.048475921092385854, 'w_lgbm': 0.05102076310051028, 'w_mlp': 0.36500163988319534}.\n"
     ]
    },
    {
     "name": "stdout",
     "output_type": "stream",
     "text": [
      "[w_lr, w_lda, w_sv, w_xgb, w_lgbm,w_cb ] =  [0.138 0.    0.902 0.05  0.083 0.    0.379]\n",
      "AUC all:  0.7914905607213301\n",
      "\n"
     ]
    },
    {
     "name": "stderr",
     "output_type": "stream",
     "text": [
      "[I 2019-08-24 12:07:39,642] Finished trial#122 resulted in value: -0.7914905607213301. Current best value is -0.7940264863341787 with parameters: {'w_lr': 0.0040199237090516315, 'w_sv': 0.8364548957499613, 'w_xgb': 0.048475921092385854, 'w_lgbm': 0.05102076310051028, 'w_mlp': 0.36500163988319534}.\n"
     ]
    },
    {
     "name": "stdout",
     "output_type": "stream",
     "text": [
      "[w_lr, w_lda, w_sv, w_xgb, w_lgbm,w_cb ] =  [0.274 0.    0.996 0.09  0.001 0.    0.412]\n",
      "AUC all:  0.7757114680191602\n",
      "\n"
     ]
    },
    {
     "name": "stderr",
     "output_type": "stream",
     "text": [
      "[I 2019-08-24 12:07:39,933] Finished trial#123 resulted in value: -0.7757114680191602. Current best value is -0.7940264863341787 with parameters: {'w_lr': 0.0040199237090516315, 'w_sv': 0.8364548957499613, 'w_xgb': 0.048475921092385854, 'w_lgbm': 0.05102076310051028, 'w_mlp': 0.36500163988319534}.\n"
     ]
    },
    {
     "name": "stdout",
     "output_type": "stream",
     "text": [
      "[w_lr, w_lda, w_sv, w_xgb, w_lgbm,w_cb ] =  [0.104 0.    0.858 0.17  0.166 0.    0.578]\n",
      "AUC all:  0.7913496759650606\n",
      "\n"
     ]
    },
    {
     "name": "stderr",
     "output_type": "stream",
     "text": [
      "[I 2019-08-24 12:07:40,221] Finished trial#124 resulted in value: -0.7913496759650606. Current best value is -0.7940264863341787 with parameters: {'w_lr': 0.0040199237090516315, 'w_sv': 0.8364548957499613, 'w_xgb': 0.048475921092385854, 'w_lgbm': 0.05102076310051028, 'w_mlp': 0.36500163988319534}.\n"
     ]
    },
    {
     "name": "stdout",
     "output_type": "stream",
     "text": [
      "[w_lr, w_lda, w_sv, w_xgb, w_lgbm,w_cb ] =  [0.013 0.    0.958 0.115 0.103 0.    0.507]\n",
      "AUC all:  0.7928994082840237\n",
      "\n"
     ]
    },
    {
     "name": "stderr",
     "output_type": "stream",
     "text": [
      "[I 2019-08-24 12:07:40,512] Finished trial#125 resulted in value: -0.7928994082840237. Current best value is -0.7940264863341787 with parameters: {'w_lr': 0.0040199237090516315, 'w_sv': 0.8364548957499613, 'w_xgb': 0.048475921092385854, 'w_lgbm': 0.05102076310051028, 'w_mlp': 0.36500163988319534}.\n"
     ]
    },
    {
     "name": "stdout",
     "output_type": "stream",
     "text": [
      "[w_lr, w_lda, w_sv, w_xgb, w_lgbm,w_cb ] =  [0.001 0.    0.967 0.136 0.047 0.    0.628]\n",
      "AUC all:  0.7864187094956325\n",
      "\n"
     ]
    },
    {
     "name": "stderr",
     "output_type": "stream",
     "text": [
      "[I 2019-08-24 12:07:40,804] Finished trial#126 resulted in value: -0.7864187094956325. Current best value is -0.7940264863341787 with parameters: {'w_lr': 0.0040199237090516315, 'w_sv': 0.8364548957499613, 'w_xgb': 0.048475921092385854, 'w_lgbm': 0.05102076310051028, 'w_mlp': 0.36500163988319534}.\n"
     ]
    },
    {
     "name": "stdout",
     "output_type": "stream",
     "text": [
      "[w_lr, w_lda, w_sv, w_xgb, w_lgbm,w_cb ] =  [0.017 0.    0.94  0.027 0.115 0.    0.5  ]\n",
      "AUC all:  0.7896590588898281\n",
      "\n"
     ]
    },
    {
     "name": "stderr",
     "output_type": "stream",
     "text": [
      "[I 2019-08-24 12:07:41,095] Finished trial#127 resulted in value: -0.7896590588898281. Current best value is -0.7940264863341787 with parameters: {'w_lr': 0.0040199237090516315, 'w_sv': 0.8364548957499613, 'w_xgb': 0.048475921092385854, 'w_lgbm': 0.05102076310051028, 'w_mlp': 0.36500163988319534}.\n"
     ]
    },
    {
     "name": "stdout",
     "output_type": "stream",
     "text": [
      "[w_lr, w_lda, w_sv, w_xgb, w_lgbm,w_cb ] =  [0.047 0.    0.921 0.111 0.084 0.    0.545]\n",
      "AUC all:  0.7937447168216398\n",
      "\n"
     ]
    },
    {
     "name": "stderr",
     "output_type": "stream",
     "text": [
      "[I 2019-08-24 12:07:41,378] Finished trial#128 resulted in value: -0.7937447168216398. Current best value is -0.7940264863341787 with parameters: {'w_lr': 0.0040199237090516315, 'w_sv': 0.8364548957499613, 'w_xgb': 0.048475921092385854, 'w_lgbm': 0.05102076310051028, 'w_mlp': 0.36500163988319534}.\n"
     ]
    },
    {
     "name": "stdout",
     "output_type": "stream",
     "text": [
      "[w_lr, w_lda, w_sv, w_xgb, w_lgbm,w_cb ] =  [0.065 0.    0.915 0.066 0.094 0.    0.548]\n",
      "AUC all:  0.7920540997464074\n",
      "\n"
     ]
    },
    {
     "name": "stderr",
     "output_type": "stream",
     "text": [
      "[I 2019-08-24 12:07:41,671] Finished trial#129 resulted in value: -0.7920540997464074. Current best value is -0.7940264863341787 with parameters: {'w_lr': 0.0040199237090516315, 'w_sv': 0.8364548957499613, 'w_xgb': 0.048475921092385854, 'w_lgbm': 0.05102076310051028, 'w_mlp': 0.36500163988319534}.\n"
     ]
    },
    {
     "name": "stdout",
     "output_type": "stream",
     "text": [
      "[w_lr, w_lda, w_sv, w_xgb, w_lgbm,w_cb ] =  [0.023 0.    0.884 0.005 0.026 0.    0.506]\n",
      "AUC all:  0.7871231332769794\n",
      "\n"
     ]
    },
    {
     "name": "stderr",
     "output_type": "stream",
     "text": [
      "[I 2019-08-24 12:07:41,969] Finished trial#130 resulted in value: -0.7871231332769794. Current best value is -0.7940264863341787 with parameters: {'w_lr': 0.0040199237090516315, 'w_sv': 0.8364548957499613, 'w_xgb': 0.048475921092385854, 'w_lgbm': 0.05102076310051028, 'w_mlp': 0.36500163988319534}.\n"
     ]
    },
    {
     "name": "stdout",
     "output_type": "stream",
     "text": [
      "[w_lr, w_lda, w_sv, w_xgb, w_lgbm,w_cb ] =  [0.176 0.    0.929 0.109 0.072 0.    0.263]\n",
      "AUC all:  0.7888137503522118\n",
      "\n"
     ]
    },
    {
     "name": "stderr",
     "output_type": "stream",
     "text": [
      "[I 2019-08-24 12:07:42,266] Finished trial#131 resulted in value: -0.7888137503522118. Current best value is -0.7940264863341787 with parameters: {'w_lr': 0.0040199237090516315, 'w_sv': 0.8364548957499613, 'w_xgb': 0.048475921092385854, 'w_lgbm': 0.05102076310051028, 'w_mlp': 0.36500163988319534}.\n"
     ]
    },
    {
     "name": "stdout",
     "output_type": "stream",
     "text": [
      "[w_lr, w_lda, w_sv, w_xgb, w_lgbm,w_cb ] =  [0.117 0.    0.955 0.041 0.049 0.    0.563]\n",
      "AUC all:  0.792617638771485\n",
      "\n"
     ]
    },
    {
     "name": "stderr",
     "output_type": "stream",
     "text": [
      "[I 2019-08-24 12:07:42,566] Finished trial#132 resulted in value: -0.792617638771485. Current best value is -0.7940264863341787 with parameters: {'w_lr': 0.0040199237090516315, 'w_sv': 0.8364548957499613, 'w_xgb': 0.048475921092385854, 'w_lgbm': 0.05102076310051028, 'w_mlp': 0.36500163988319534}.\n"
     ]
    },
    {
     "name": "stdout",
     "output_type": "stream",
     "text": [
      "[w_lr, w_lda, w_sv, w_xgb, w_lgbm,w_cb ] =  [0.154 0.    0.951 0.041 0.049 0.    0.561]\n",
      "AUC all:  0.7926176387714848\n",
      "\n"
     ]
    },
    {
     "name": "stderr",
     "output_type": "stream",
     "text": [
      "[I 2019-08-24 12:07:42,867] Finished trial#133 resulted in value: -0.7926176387714848. Current best value is -0.7940264863341787 with parameters: {'w_lr': 0.0040199237090516315, 'w_sv': 0.8364548957499613, 'w_xgb': 0.048475921092385854, 'w_lgbm': 0.05102076310051028, 'w_mlp': 0.36500163988319534}.\n"
     ]
    },
    {
     "name": "stdout",
     "output_type": "stream",
     "text": [
      "[w_lr, w_lda, w_sv, w_xgb, w_lgbm,w_cb ] =  [0.21  0.    0.981 0.036 0.04  0.    0.555]\n",
      "AUC all:  0.7913496759650607\n",
      "\n"
     ]
    },
    {
     "name": "stderr",
     "output_type": "stream",
     "text": [
      "[I 2019-08-24 12:07:43,165] Finished trial#134 resulted in value: -0.7913496759650607. Current best value is -0.7940264863341787 with parameters: {'w_lr': 0.0040199237090516315, 'w_sv': 0.8364548957499613, 'w_xgb': 0.048475921092385854, 'w_lgbm': 0.05102076310051028, 'w_mlp': 0.36500163988319534}.\n"
     ]
    },
    {
     "name": "stdout",
     "output_type": "stream",
     "text": [
      "[w_lr, w_lda, w_sv, w_xgb, w_lgbm,w_cb ] =  [0.157 0.    0.998 0.065 0.058 0.    0.6  ]\n",
      "AUC all:  0.7910679064525219\n",
      "\n"
     ]
    },
    {
     "name": "stderr",
     "output_type": "stream",
     "text": [
      "[I 2019-08-24 12:07:43,462] Finished trial#135 resulted in value: -0.7910679064525219. Current best value is -0.7940264863341787 with parameters: {'w_lr': 0.0040199237090516315, 'w_sv': 0.8364548957499613, 'w_xgb': 0.048475921092385854, 'w_lgbm': 0.05102076310051028, 'w_mlp': 0.36500163988319534}.\n"
     ]
    },
    {
     "name": "stdout",
     "output_type": "stream",
     "text": [
      "[w_lr, w_lda, w_sv, w_xgb, w_lgbm,w_cb ] =  [0.126 0.    0.951 0.042 0.002 0.    0.477]\n",
      "AUC all:  0.7796562411947027\n",
      "\n"
     ]
    },
    {
     "name": "stderr",
     "output_type": "stream",
     "text": [
      "[I 2019-08-24 12:07:43,757] Finished trial#136 resulted in value: -0.7796562411947027. Current best value is -0.7940264863341787 with parameters: {'w_lr': 0.0040199237090516315, 'w_sv': 0.8364548957499613, 'w_xgb': 0.048475921092385854, 'w_lgbm': 0.05102076310051028, 'w_mlp': 0.36500163988319534}.\n"
     ]
    },
    {
     "name": "stdout",
     "output_type": "stream",
     "text": [
      "[w_lr, w_lda, w_sv, w_xgb, w_lgbm,w_cb ] =  [0.237 0.    0.962 0.021 0.091 0.    0.31 ]\n",
      "AUC all:  0.7895181741335587\n",
      "\n"
     ]
    },
    {
     "name": "stderr",
     "output_type": "stream",
     "text": [
      "[I 2019-08-24 12:07:44,056] Finished trial#137 resulted in value: -0.7895181741335587. Current best value is -0.7940264863341787 with parameters: {'w_lr': 0.0040199237090516315, 'w_sv': 0.8364548957499613, 'w_xgb': 0.048475921092385854, 'w_lgbm': 0.05102076310051028, 'w_mlp': 0.36500163988319534}.\n"
     ]
    },
    {
     "name": "stdout",
     "output_type": "stream",
     "text": [
      "[w_lr, w_lda, w_sv, w_xgb, w_lgbm,w_cb ] =  [0.186 0.    0.906 0.087 0.014 0.    0.536]\n",
      "AUC all:  0.7823330515638207\n",
      "\n"
     ]
    },
    {
     "name": "stderr",
     "output_type": "stream",
     "text": [
      "[I 2019-08-24 12:07:44,356] Finished trial#138 resulted in value: -0.7823330515638207. Current best value is -0.7940264863341787 with parameters: {'w_lr': 0.0040199237090516315, 'w_sv': 0.8364548957499613, 'w_xgb': 0.048475921092385854, 'w_lgbm': 0.05102076310051028, 'w_mlp': 0.36500163988319534}.\n"
     ]
    },
    {
     "name": "stdout",
     "output_type": "stream",
     "text": [
      "[w_lr, w_lda, w_sv, w_xgb, w_lgbm,w_cb ] =  [0.099 0.    0.95  0.004 0.057 0.    0.647]\n",
      "AUC all:  0.7927585235277542\n",
      "\n"
     ]
    },
    {
     "name": "stderr",
     "output_type": "stream",
     "text": [
      "[I 2019-08-24 12:07:44,657] Finished trial#139 resulted in value: -0.7927585235277542. Current best value is -0.7940264863341787 with parameters: {'w_lr': 0.0040199237090516315, 'w_sv': 0.8364548957499613, 'w_xgb': 0.048475921092385854, 'w_lgbm': 0.05102076310051028, 'w_mlp': 0.36500163988319534}.\n"
     ]
    },
    {
     "name": "stdout",
     "output_type": "stream",
     "text": [
      "[w_lr, w_lda, w_sv, w_xgb, w_lgbm,w_cb ] =  [0.102 0.    0.921 0.068 0.068 0.    0.695]\n",
      "AUC all:  0.7923358692589462\n",
      "\n"
     ]
    },
    {
     "name": "stderr",
     "output_type": "stream",
     "text": [
      "[I 2019-08-24 12:07:44,957] Finished trial#140 resulted in value: -0.7923358692589462. Current best value is -0.7940264863341787 with parameters: {'w_lr': 0.0040199237090516315, 'w_sv': 0.8364548957499613, 'w_xgb': 0.048475921092385854, 'w_lgbm': 0.05102076310051028, 'w_mlp': 0.36500163988319534}.\n"
     ]
    },
    {
     "name": "stdout",
     "output_type": "stream",
     "text": [
      "[w_lr, w_lda, w_sv, w_xgb, w_lgbm,w_cb ] =  [0.148 0.    0.951 0.001 0.049 0.    0.655]\n",
      "AUC all:  0.7907861369399831\n",
      "\n"
     ]
    },
    {
     "name": "stderr",
     "output_type": "stream",
     "text": [
      "[I 2019-08-24 12:07:45,261] Finished trial#141 resulted in value: -0.7907861369399831. Current best value is -0.7940264863341787 with parameters: {'w_lr': 0.0040199237090516315, 'w_sv': 0.8364548957499613, 'w_xgb': 0.048475921092385854, 'w_lgbm': 0.05102076310051028, 'w_mlp': 0.36500163988319534}.\n"
     ]
    },
    {
     "name": "stdout",
     "output_type": "stream",
     "text": [
      "[w_lr, w_lda, w_sv, w_xgb, w_lgbm,w_cb ] =  [0.091 0.    0.977 0.055 0.091 0.    0.352]\n",
      "AUC all:  0.7907861369399831\n",
      "\n"
     ]
    },
    {
     "name": "stderr",
     "output_type": "stream",
     "text": [
      "[I 2019-08-24 12:07:45,568] Finished trial#142 resulted in value: -0.7907861369399831. Current best value is -0.7940264863341787 with parameters: {'w_lr': 0.0040199237090516315, 'w_sv': 0.8364548957499613, 'w_xgb': 0.048475921092385854, 'w_lgbm': 0.05102076310051028, 'w_mlp': 0.36500163988319534}.\n"
     ]
    },
    {
     "name": "stdout",
     "output_type": "stream",
     "text": [
      "[w_lr, w_lda, w_sv, w_xgb, w_lgbm,w_cb ] =  [0.121 0.    0.996 0.825 0.03  0.    0.576]\n",
      "AUC all:  0.7700760777683855\n",
      "\n"
     ]
    },
    {
     "name": "stderr",
     "output_type": "stream",
     "text": [
      "[I 2019-08-24 12:07:45,883] Finished trial#143 resulted in value: -0.7700760777683855. Current best value is -0.7940264863341787 with parameters: {'w_lr': 0.0040199237090516315, 'w_sv': 0.8364548957499613, 'w_xgb': 0.048475921092385854, 'w_lgbm': 0.05102076310051028, 'w_mlp': 0.36500163988319534}.\n"
     ]
    },
    {
     "name": "stdout",
     "output_type": "stream",
     "text": [
      "[w_lr, w_lda, w_sv, w_xgb, w_lgbm,w_cb ] =  [0.066 0.    0.895 0.021 0.11  0.    0.601]\n",
      "AUC all:  0.7899408284023669\n",
      "\n"
     ]
    },
    {
     "name": "stderr",
     "output_type": "stream",
     "text": [
      "[I 2019-08-24 12:07:46,198] Finished trial#144 resulted in value: -0.7899408284023669. Current best value is -0.7940264863341787 with parameters: {'w_lr': 0.0040199237090516315, 'w_sv': 0.8364548957499613, 'w_xgb': 0.048475921092385854, 'w_lgbm': 0.05102076310051028, 'w_mlp': 0.36500163988319534}.\n"
     ]
    },
    {
     "name": "stdout",
     "output_type": "stream",
     "text": [
      "[w_lr, w_lda, w_sv, w_xgb, w_lgbm,w_cb ] =  [0.132 0.    0.932 0.047 0.076 0.    0.519]\n",
      "AUC all:  0.7928994082840237\n",
      "\n"
     ]
    },
    {
     "name": "stderr",
     "output_type": "stream",
     "text": [
      "[I 2019-08-24 12:07:46,513] Finished trial#145 resulted in value: -0.7928994082840237. Current best value is -0.7940264863341787 with parameters: {'w_lr': 0.0040199237090516315, 'w_sv': 0.8364548957499613, 'w_xgb': 0.048475921092385854, 'w_lgbm': 0.05102076310051028, 'w_mlp': 0.36500163988319534}.\n"
     ]
    },
    {
     "name": "stdout",
     "output_type": "stream",
     "text": [
      "[w_lr, w_lda, w_sv, w_xgb, w_lgbm,w_cb ] =  [0.046 0.    0.871 0.093 0.064 0.    0.517]\n",
      "AUC all:  0.7912087912087913\n",
      "\n"
     ]
    },
    {
     "name": "stderr",
     "output_type": "stream",
     "text": [
      "[I 2019-08-24 12:07:46,829] Finished trial#146 resulted in value: -0.7912087912087913. Current best value is -0.7940264863341787 with parameters: {'w_lr': 0.0040199237090516315, 'w_sv': 0.8364548957499613, 'w_xgb': 0.048475921092385854, 'w_lgbm': 0.05102076310051028, 'w_mlp': 0.36500163988319534}.\n"
     ]
    },
    {
     "name": "stdout",
     "output_type": "stream",
     "text": [
      "[w_lr, w_lda, w_sv, w_xgb, w_lgbm,w_cb ] =  [0.135 0.    0.952 0.043 0.81  0.    0.565]\n",
      "AUC all:  0.7679628064243449\n",
      "\n"
     ]
    },
    {
     "name": "stderr",
     "output_type": "stream",
     "text": [
      "[I 2019-08-24 12:07:47,144] Finished trial#147 resulted in value: -0.7679628064243449. Current best value is -0.7940264863341787 with parameters: {'w_lr': 0.0040199237090516315, 'w_sv': 0.8364548957499613, 'w_xgb': 0.048475921092385854, 'w_lgbm': 0.05102076310051028, 'w_mlp': 0.36500163988319534}.\n"
     ]
    },
    {
     "name": "stdout",
     "output_type": "stream",
     "text": [
      "[w_lr, w_lda, w_sv, w_xgb, w_lgbm,w_cb ] =  [0.083 0.    0.932 0.079 0.    0.    0.637]\n",
      "AUC all:  0.7775429698506621\n",
      "\n"
     ]
    },
    {
     "name": "stderr",
     "output_type": "stream",
     "text": [
      "[I 2019-08-24 12:07:47,461] Finished trial#148 resulted in value: -0.7775429698506621. Current best value is -0.7940264863341787 with parameters: {'w_lr': 0.0040199237090516315, 'w_sv': 0.8364548957499613, 'w_xgb': 0.048475921092385854, 'w_lgbm': 0.05102076310051028, 'w_mlp': 0.36500163988319534}.\n"
     ]
    },
    {
     "name": "stdout",
     "output_type": "stream",
     "text": [
      "[w_lr, w_lda, w_sv, w_xgb, w_lgbm,w_cb ] =  [0.476 0.    0.2   0.001 0.05  0.    0.539]\n",
      "AUC all:  0.7899408284023669\n",
      "\n"
     ]
    },
    {
     "name": "stderr",
     "output_type": "stream",
     "text": [
      "[I 2019-08-24 12:07:47,783] Finished trial#149 resulted in value: -0.7899408284023669. Current best value is -0.7940264863341787 with parameters: {'w_lr': 0.0040199237090516315, 'w_sv': 0.8364548957499613, 'w_xgb': 0.048475921092385854, 'w_lgbm': 0.05102076310051028, 'w_mlp': 0.36500163988319534}.\n"
     ]
    },
    {
     "name": "stdout",
     "output_type": "stream",
     "text": [
      "[w_lr, w_lda, w_sv, w_xgb, w_lgbm,w_cb ] =  [0.152 0.    0.908 0.047 0.088 0.    0.615]\n",
      "AUC all:  0.7928994082840236\n",
      "\n"
     ]
    },
    {
     "name": "stderr",
     "output_type": "stream",
     "text": [
      "[I 2019-08-24 12:07:48,099] Finished trial#150 resulted in value: -0.7928994082840236. Current best value is -0.7940264863341787 with parameters: {'w_lr': 0.0040199237090516315, 'w_sv': 0.8364548957499613, 'w_xgb': 0.048475921092385854, 'w_lgbm': 0.05102076310051028, 'w_mlp': 0.36500163988319534}.\n"
     ]
    },
    {
     "name": "stdout",
     "output_type": "stream",
     "text": [
      "[w_lr, w_lda, w_sv, w_xgb, w_lgbm,w_cb ] =  [0.178 0.    0.904 0.113 0.078 0.    0.592]\n",
      "AUC all:  0.7910679064525218\n",
      "\n"
     ]
    },
    {
     "name": "stderr",
     "output_type": "stream",
     "text": [
      "[I 2019-08-24 12:07:48,420] Finished trial#151 resulted in value: -0.7910679064525218. Current best value is -0.7940264863341787 with parameters: {'w_lr': 0.0040199237090516315, 'w_sv': 0.8364548957499613, 'w_xgb': 0.048475921092385854, 'w_lgbm': 0.05102076310051028, 'w_mlp': 0.36500163988319534}.\n"
     ]
    },
    {
     "name": "stdout",
     "output_type": "stream",
     "text": [
      "[w_lr, w_lda, w_sv, w_xgb, w_lgbm,w_cb ] =  [0.108 0.    0.01  0.056 0.108 0.    0.482]\n",
      "AUC all:  0.790363482671175\n",
      "\n"
     ]
    },
    {
     "name": "stderr",
     "output_type": "stream",
     "text": [
      "[I 2019-08-24 12:07:48,743] Finished trial#152 resulted in value: -0.790363482671175. Current best value is -0.7940264863341787 with parameters: {'w_lr': 0.0040199237090516315, 'w_sv': 0.8364548957499613, 'w_xgb': 0.048475921092385854, 'w_lgbm': 0.05102076310051028, 'w_mlp': 0.36500163988319534}.\n"
     ]
    },
    {
     "name": "stdout",
     "output_type": "stream",
     "text": [
      "[w_lr, w_lda, w_sv, w_xgb, w_lgbm,w_cb ] =  [0.197 0.    0.917 0.022 0.098 0.    0.617]\n",
      "AUC all:  0.7900817131586362\n",
      "\n"
     ]
    },
    {
     "name": "stderr",
     "output_type": "stream",
     "text": [
      "[I 2019-08-24 12:07:49,069] Finished trial#153 resulted in value: -0.7900817131586362. Current best value is -0.7940264863341787 with parameters: {'w_lr': 0.0040199237090516315, 'w_sv': 0.8364548957499613, 'w_xgb': 0.048475921092385854, 'w_lgbm': 0.05102076310051028, 'w_mlp': 0.36500163988319534}.\n"
     ]
    },
    {
     "name": "stdout",
     "output_type": "stream",
     "text": [
      "[w_lr, w_lda, w_sv, w_xgb, w_lgbm,w_cb ] =  [0.132 0.    0.861 0.441 0.077 0.    0.656]\n",
      "AUC all:  0.7810650887573964\n",
      "\n"
     ]
    },
    {
     "name": "stderr",
     "output_type": "stream",
     "text": [
      "[I 2019-08-24 12:07:49,389] Finished trial#154 resulted in value: -0.7810650887573964. Current best value is -0.7940264863341787 with parameters: {'w_lr': 0.0040199237090516315, 'w_sv': 0.8364548957499613, 'w_xgb': 0.048475921092385854, 'w_lgbm': 0.05102076310051028, 'w_mlp': 0.36500163988319534}.\n"
     ]
    },
    {
     "name": "stdout",
     "output_type": "stream",
     "text": [
      "[w_lr, w_lda, w_sv, w_xgb, w_lgbm,w_cb ] =  [0.044 0.    0.886 0.074 0.026 0.    0.509]\n",
      "AUC all:  0.7868413637644408\n",
      "\n"
     ]
    },
    {
     "name": "stderr",
     "output_type": "stream",
     "text": [
      "[I 2019-08-24 12:07:49,716] Finished trial#155 resulted in value: -0.7868413637644408. Current best value is -0.7940264863341787 with parameters: {'w_lr': 0.0040199237090516315, 'w_sv': 0.8364548957499613, 'w_xgb': 0.048475921092385854, 'w_lgbm': 0.05102076310051028, 'w_mlp': 0.36500163988319534}.\n"
     ]
    },
    {
     "name": "stdout",
     "output_type": "stream",
     "text": [
      "[w_lr, w_lda, w_sv, w_xgb, w_lgbm,w_cb ] =  [0.157 0.    0.937 0.035 0.053 0.    0.567]\n",
      "AUC all:  0.7931811777965624\n",
      "\n"
     ]
    },
    {
     "name": "stderr",
     "output_type": "stream",
     "text": [
      "[I 2019-08-24 12:07:50,046] Finished trial#156 resulted in value: -0.7931811777965624. Current best value is -0.7940264863341787 with parameters: {'w_lr': 0.0040199237090516315, 'w_sv': 0.8364548957499613, 'w_xgb': 0.048475921092385854, 'w_lgbm': 0.05102076310051028, 'w_mlp': 0.36500163988319534}.\n"
     ]
    },
    {
     "name": "stdout",
     "output_type": "stream",
     "text": [
      "[w_lr, w_lda, w_sv, w_xgb, w_lgbm,w_cb ] =  [0.08  0.    0.937 0.001 0.084 0.    0.612]\n",
      "AUC all:  0.7910679064525218\n",
      "\n"
     ]
    },
    {
     "name": "stderr",
     "output_type": "stream",
     "text": [
      "[I 2019-08-24 12:07:50,374] Finished trial#157 resulted in value: -0.7910679064525218. Current best value is -0.7940264863341787 with parameters: {'w_lr': 0.0040199237090516315, 'w_sv': 0.8364548957499613, 'w_xgb': 0.048475921092385854, 'w_lgbm': 0.05102076310051028, 'w_mlp': 0.36500163988319534}.\n"
     ]
    },
    {
     "name": "stdout",
     "output_type": "stream",
     "text": [
      "[w_lr, w_lda, w_sv, w_xgb, w_lgbm,w_cb ] =  [0.155 0.    0.973 0.144 0.12  0.    0.581]\n",
      "AUC all:  0.7923358692589462\n",
      "\n"
     ]
    },
    {
     "name": "stderr",
     "output_type": "stream",
     "text": [
      "[I 2019-08-24 12:07:50,693] Finished trial#158 resulted in value: -0.7923358692589462. Current best value is -0.7940264863341787 with parameters: {'w_lr': 0.0040199237090516315, 'w_sv': 0.8364548957499613, 'w_xgb': 0.048475921092385854, 'w_lgbm': 0.05102076310051028, 'w_mlp': 0.36500163988319534}.\n"
     ]
    },
    {
     "name": "stdout",
     "output_type": "stream",
     "text": [
      "[w_lr, w_lda, w_sv, w_xgb, w_lgbm,w_cb ] =  [0.596 0.    0.903 0.098 0.032 0.    0.531]\n",
      "AUC all:  0.7851507466892081\n",
      "\n"
     ]
    },
    {
     "name": "stderr",
     "output_type": "stream",
     "text": [
      "[I 2019-08-24 12:07:51,026] Finished trial#159 resulted in value: -0.7851507466892081. Current best value is -0.7940264863341787 with parameters: {'w_lr': 0.0040199237090516315, 'w_sv': 0.8364548957499613, 'w_xgb': 0.048475921092385854, 'w_lgbm': 0.05102076310051028, 'w_mlp': 0.36500163988319534}.\n"
     ]
    },
    {
     "name": "stdout",
     "output_type": "stream",
     "text": [
      "[w_lr, w_lda, w_sv, w_xgb, w_lgbm,w_cb ] =  [0.026 0.    0.876 0.032 0.146 0.    0.638]\n",
      "AUC all:  0.7897999436460975\n",
      "\n"
     ]
    },
    {
     "name": "stderr",
     "output_type": "stream",
     "text": [
      "[I 2019-08-24 12:07:51,352] Finished trial#160 resulted in value: -0.7897999436460975. Current best value is -0.7940264863341787 with parameters: {'w_lr': 0.0040199237090516315, 'w_sv': 0.8364548957499613, 'w_xgb': 0.048475921092385854, 'w_lgbm': 0.05102076310051028, 'w_mlp': 0.36500163988319534}.\n"
     ]
    },
    {
     "name": "stdout",
     "output_type": "stream",
     "text": [
      "[w_lr, w_lda, w_sv, w_xgb, w_lgbm,w_cb ] =  [0.115 0.    0.385 0.056 0.054 0.    0.552]\n",
      "AUC all:  0.7914905607213298\n",
      "\n"
     ]
    },
    {
     "name": "stderr",
     "output_type": "stream",
     "text": [
      "[I 2019-08-24 12:07:51,688] Finished trial#161 resulted in value: -0.7914905607213298. Current best value is -0.7940264863341787 with parameters: {'w_lr': 0.0040199237090516315, 'w_sv': 0.8364548957499613, 'w_xgb': 0.048475921092385854, 'w_lgbm': 0.05102076310051028, 'w_mlp': 0.36500163988319534}.\n"
     ]
    },
    {
     "name": "stdout",
     "output_type": "stream",
     "text": [
      "[w_lr, w_lda, w_sv, w_xgb, w_lgbm,w_cb ] =  [0.171 0.    0.926 0.123 0.453 0.    0.592]\n",
      "AUC all:  0.7790927021696252\n",
      "\n"
     ]
    },
    {
     "name": "stderr",
     "output_type": "stream",
     "text": [
      "[I 2019-08-24 12:07:52,013] Finished trial#162 resulted in value: -0.7790927021696252. Current best value is -0.7940264863341787 with parameters: {'w_lr': 0.0040199237090516315, 'w_sv': 0.8364548957499613, 'w_xgb': 0.048475921092385854, 'w_lgbm': 0.05102076310051028, 'w_mlp': 0.36500163988319534}.\n"
     ]
    },
    {
     "name": "stdout",
     "output_type": "stream",
     "text": [
      "[w_lr, w_lda, w_sv, w_xgb, w_lgbm,w_cb ] =  [0.151 0.    0.952 0.046 0.045 0.    0.567]\n",
      "AUC all:  0.7913496759650606\n",
      "\n"
     ]
    },
    {
     "name": "stderr",
     "output_type": "stream",
     "text": [
      "[I 2019-08-24 12:07:52,348] Finished trial#163 resulted in value: -0.7913496759650606. Current best value is -0.7940264863341787 with parameters: {'w_lr': 0.0040199237090516315, 'w_sv': 0.8364548957499613, 'w_xgb': 0.048475921092385854, 'w_lgbm': 0.05102076310051028, 'w_mlp': 0.36500163988319534}.\n"
     ]
    },
    {
     "name": "stdout",
     "output_type": "stream",
     "text": [
      "[w_lr, w_lda, w_sv, w_xgb, w_lgbm,w_cb ] =  [0.    0.    0.471 0.074 0.07  0.    0.373]\n",
      "AUC all:  0.793040293040293\n",
      "\n"
     ]
    },
    {
     "name": "stderr",
     "output_type": "stream",
     "text": [
      "[I 2019-08-24 12:07:52,683] Finished trial#164 resulted in value: -0.793040293040293. Current best value is -0.7940264863341787 with parameters: {'w_lr': 0.0040199237090516315, 'w_sv': 0.8364548957499613, 'w_xgb': 0.048475921092385854, 'w_lgbm': 0.05102076310051028, 'w_mlp': 0.36500163988319534}.\n"
     ]
    },
    {
     "name": "stdout",
     "output_type": "stream",
     "text": [
      "[w_lr, w_lda, w_sv, w_xgb, w_lgbm,w_cb ] =  [0.056 0.    0.302 0.081 0.069 0.    0.375]\n",
      "AUC all:  0.7930402930402929\n",
      "\n"
     ]
    },
    {
     "name": "stderr",
     "output_type": "stream",
     "text": [
      "[I 2019-08-24 12:07:53,021] Finished trial#165 resulted in value: -0.7930402930402929. Current best value is -0.7940264863341787 with parameters: {'w_lr': 0.0040199237090516315, 'w_sv': 0.8364548957499613, 'w_xgb': 0.048475921092385854, 'w_lgbm': 0.05102076310051028, 'w_mlp': 0.36500163988319534}.\n"
     ]
    },
    {
     "name": "stdout",
     "output_type": "stream",
     "text": [
      "[w_lr, w_lda, w_sv, w_xgb, w_lgbm,w_cb ] =  [0.06  0.    0.272 0.086 0.103 0.    0.396]\n",
      "AUC all:  0.7920540997464074\n",
      "\n"
     ]
    },
    {
     "name": "stderr",
     "output_type": "stream",
     "text": [
      "[I 2019-08-24 12:07:53,364] Finished trial#166 resulted in value: -0.7920540997464074. Current best value is -0.7940264863341787 with parameters: {'w_lr': 0.0040199237090516315, 'w_sv': 0.8364548957499613, 'w_xgb': 0.048475921092385854, 'w_lgbm': 0.05102076310051028, 'w_mlp': 0.36500163988319534}.\n"
     ]
    },
    {
     "name": "stdout",
     "output_type": "stream",
     "text": [
      "[w_lr, w_lda, w_sv, w_xgb, w_lgbm,w_cb ] =  [0.04  0.    0.102 0.067 0.015 0.    0.358]\n",
      "AUC all:  0.784023668639053\n",
      "\n"
     ]
    },
    {
     "name": "stderr",
     "output_type": "stream",
     "text": [
      "[I 2019-08-24 12:07:53,710] Finished trial#167 resulted in value: -0.784023668639053. Current best value is -0.7940264863341787 with parameters: {'w_lr': 0.0040199237090516315, 'w_sv': 0.8364548957499613, 'w_xgb': 0.048475921092385854, 'w_lgbm': 0.05102076310051028, 'w_mlp': 0.36500163988319534}.\n"
     ]
    },
    {
     "name": "stdout",
     "output_type": "stream",
     "text": [
      "[w_lr, w_lda, w_sv, w_xgb, w_lgbm,w_cb ] =  [0.022 0.    0.6   0.018 0.082 0.    0.381]\n",
      "AUC all:  0.7897999436460975\n",
      "\n"
     ]
    },
    {
     "name": "stderr",
     "output_type": "stream",
     "text": [
      "[I 2019-08-24 12:07:54,049] Finished trial#168 resulted in value: -0.7897999436460975. Current best value is -0.7940264863341787 with parameters: {'w_lr': 0.0040199237090516315, 'w_sv': 0.8364548957499613, 'w_xgb': 0.048475921092385854, 'w_lgbm': 0.05102076310051028, 'w_mlp': 0.36500163988319534}.\n"
     ]
    },
    {
     "name": "stdout",
     "output_type": "stream",
     "text": [
      "[w_lr, w_lda, w_sv, w_xgb, w_lgbm,w_cb ] =  [0.011 0.    0.323 0.098 0.068 0.    0.337]\n",
      "AUC all:  0.79149056072133\n",
      "\n"
     ]
    },
    {
     "name": "stderr",
     "output_type": "stream",
     "text": [
      "[I 2019-08-24 12:07:54,390] Finished trial#169 resulted in value: -0.79149056072133. Current best value is -0.7940264863341787 with parameters: {'w_lr': 0.0040199237090516315, 'w_sv': 0.8364548957499613, 'w_xgb': 0.048475921092385854, 'w_lgbm': 0.05102076310051028, 'w_mlp': 0.36500163988319534}.\n"
     ]
    },
    {
     "name": "stdout",
     "output_type": "stream",
     "text": [
      "[w_lr, w_lda, w_sv, w_xgb, w_lgbm,w_cb ] =  [0.001 0.    0.051 0.121 0.117 0.    0.416]\n",
      "AUC all:  0.7914905607213298\n",
      "\n"
     ]
    },
    {
     "name": "stderr",
     "output_type": "stream",
     "text": [
      "[I 2019-08-24 12:07:54,732] Finished trial#170 resulted in value: -0.7914905607213298. Current best value is -0.7940264863341787 with parameters: {'w_lr': 0.0040199237090516315, 'w_sv': 0.8364548957499613, 'w_xgb': 0.048475921092385854, 'w_lgbm': 0.05102076310051028, 'w_mlp': 0.36500163988319534}.\n"
     ]
    },
    {
     "name": "stdout",
     "output_type": "stream",
     "text": [
      "[w_lr, w_lda, w_sv, w_xgb, w_lgbm,w_cb ] =  [0.094 0.    0.893 0.074 0.064 0.    0.312]\n",
      "AUC all:  0.7924767540152154\n",
      "\n"
     ]
    },
    {
     "name": "stderr",
     "output_type": "stream",
     "text": [
      "[I 2019-08-24 12:07:55,071] Finished trial#171 resulted in value: -0.7924767540152154. Current best value is -0.7940264863341787 with parameters: {'w_lr': 0.0040199237090516315, 'w_sv': 0.8364548957499613, 'w_xgb': 0.048475921092385854, 'w_lgbm': 0.05102076310051028, 'w_mlp': 0.36500163988319534}.\n"
     ]
    },
    {
     "name": "stdout",
     "output_type": "stream",
     "text": [
      "[w_lr, w_lda, w_sv, w_xgb, w_lgbm,w_cb ] =  [0.072 0.    0.151 0.043 0.088 0.    0.37 ]\n",
      "AUC all:  0.7910679064525218\n",
      "\n"
     ]
    },
    {
     "name": "stderr",
     "output_type": "stream",
     "text": [
      "[I 2019-08-24 12:07:55,405] Finished trial#172 resulted in value: -0.7910679064525218. Current best value is -0.7940264863341787 with parameters: {'w_lr': 0.0040199237090516315, 'w_sv': 0.8364548957499613, 'w_xgb': 0.048475921092385854, 'w_lgbm': 0.05102076310051028, 'w_mlp': 0.36500163988319534}.\n"
     ]
    },
    {
     "name": "stdout",
     "output_type": "stream",
     "text": [
      "[w_lr, w_lda, w_sv, w_xgb, w_lgbm,w_cb ] =  [0.056 0.    0.923 0.084 0.033 0.    0.261]\n",
      "AUC all:  0.7890955198647506\n",
      "\n"
     ]
    },
    {
     "name": "stderr",
     "output_type": "stream",
     "text": [
      "[I 2019-08-24 12:07:55,753] Finished trial#173 resulted in value: -0.7890955198647506. Current best value is -0.7940264863341787 with parameters: {'w_lr': 0.0040199237090516315, 'w_sv': 0.8364548957499613, 'w_xgb': 0.048475921092385854, 'w_lgbm': 0.05102076310051028, 'w_mlp': 0.36500163988319534}.\n"
     ]
    },
    {
     "name": "stdout",
     "output_type": "stream",
     "text": [
      "[w_lr, w_lda, w_sv, w_xgb, w_lgbm,w_cb ] =  [0.13  0.    0.853 0.11  0.067 0.    0.285]\n",
      "AUC all:  0.790363482671175\n",
      "\n"
     ]
    },
    {
     "name": "stderr",
     "output_type": "stream",
     "text": [
      "[I 2019-08-24 12:07:56,096] Finished trial#174 resulted in value: -0.790363482671175. Current best value is -0.7940264863341787 with parameters: {'w_lr': 0.0040199237090516315, 'w_sv': 0.8364548957499613, 'w_xgb': 0.048475921092385854, 'w_lgbm': 0.05102076310051028, 'w_mlp': 0.36500163988319534}.\n"
     ]
    },
    {
     "name": "stdout",
     "output_type": "stream",
     "text": [
      "[w_lr, w_lda, w_sv, w_xgb, w_lgbm,w_cb ] =  [0.111 0.    0.981 0.053 0.104 0.    0.623]\n",
      "AUC all:  0.7913496759650606\n",
      "\n"
     ]
    },
    {
     "name": "stderr",
     "output_type": "stream",
     "text": [
      "[I 2019-08-24 12:07:56,445] Finished trial#175 resulted in value: -0.7913496759650606. Current best value is -0.7940264863341787 with parameters: {'w_lr': 0.0040199237090516315, 'w_sv': 0.8364548957499613, 'w_xgb': 0.048475921092385854, 'w_lgbm': 0.05102076310051028, 'w_mlp': 0.36500163988319534}.\n"
     ]
    },
    {
     "name": "stdout",
     "output_type": "stream",
     "text": [
      "[w_lr, w_lda, w_sv, w_xgb, w_lgbm,w_cb ] =  [0.09  0.    0.939 0.021 0.128 0.    0.343]\n",
      "AUC all:  0.7875457875457875\n",
      "\n"
     ]
    },
    {
     "name": "stderr",
     "output_type": "stream",
     "text": [
      "[I 2019-08-24 12:07:56,799] Finished trial#176 resulted in value: -0.7875457875457875. Current best value is -0.7940264863341787 with parameters: {'w_lr': 0.0040199237090516315, 'w_sv': 0.8364548957499613, 'w_xgb': 0.048475921092385854, 'w_lgbm': 0.05102076310051028, 'w_mlp': 0.36500163988319534}.\n"
     ]
    },
    {
     "name": "stdout",
     "output_type": "stream",
     "text": [
      "[w_lr, w_lda, w_sv, w_xgb, w_lgbm,w_cb ] =  [0.002 0.    0.551 0.151 0.    0.    0.546]\n",
      "AUC all:  0.7743026204564667\n",
      "\n"
     ]
    },
    {
     "name": "stderr",
     "output_type": "stream",
     "text": [
      "[I 2019-08-24 12:07:57,151] Finished trial#177 resulted in value: -0.7743026204564667. Current best value is -0.7940264863341787 with parameters: {'w_lr': 0.0040199237090516315, 'w_sv': 0.8364548957499613, 'w_xgb': 0.048475921092385854, 'w_lgbm': 0.05102076310051028, 'w_mlp': 0.36500163988319534}.\n"
     ]
    },
    {
     "name": "stdout",
     "output_type": "stream",
     "text": [
      "[w_lr, w_lda, w_sv, w_xgb, w_lgbm,w_cb ] =  [0.034 0.    0.872 0.068 0.041 0.    0.442]\n",
      "AUC all:  0.7899408284023669\n",
      "\n"
     ]
    },
    {
     "name": "stderr",
     "output_type": "stream",
     "text": [
      "[I 2019-08-24 12:07:57,506] Finished trial#178 resulted in value: -0.7899408284023669. Current best value is -0.7940264863341787 with parameters: {'w_lr': 0.0040199237090516315, 'w_sv': 0.8364548957499613, 'w_xgb': 0.048475921092385854, 'w_lgbm': 0.05102076310051028, 'w_mlp': 0.36500163988319534}.\n"
     ]
    },
    {
     "name": "stdout",
     "output_type": "stream",
     "text": [
      "[w_lr, w_lda, w_sv, w_xgb, w_lgbm,w_cb ] =  [0.063 0.    0.91  0.033 0.081 0.    0.464]\n",
      "AUC all:  0.7913496759650606\n",
      "\n"
     ]
    },
    {
     "name": "stderr",
     "output_type": "stream",
     "text": [
      "[I 2019-08-24 12:07:57,863] Finished trial#179 resulted in value: -0.7913496759650606. Current best value is -0.7940264863341787 with parameters: {'w_lr': 0.0040199237090516315, 'w_sv': 0.8364548957499613, 'w_xgb': 0.048475921092385854, 'w_lgbm': 0.05102076310051028, 'w_mlp': 0.36500163988319534}.\n"
     ]
    },
    {
     "name": "stdout",
     "output_type": "stream",
     "text": [
      "[w_lr, w_lda, w_sv, w_xgb, w_lgbm,w_cb ] =  [0.14  0.    0.999 0.094 0.061 0.    0.677]\n",
      "AUC all:  0.7907861369399831\n",
      "\n"
     ]
    },
    {
     "name": "stderr",
     "output_type": "stream",
     "text": [
      "[I 2019-08-24 12:07:58,214] Finished trial#180 resulted in value: -0.7907861369399831. Current best value is -0.7940264863341787 with parameters: {'w_lr': 0.0040199237090516315, 'w_sv': 0.8364548957499613, 'w_xgb': 0.048475921092385854, 'w_lgbm': 0.05102076310051028, 'w_mlp': 0.36500163988319534}.\n"
     ]
    },
    {
     "name": "stdout",
     "output_type": "stream",
     "text": [
      "[w_lr, w_lda, w_sv, w_xgb, w_lgbm,w_cb ] =  [0.202 0.    0.44  0.006 0.096 0.    0.581]\n",
      "AUC all:  0.78923640462102\n",
      "\n"
     ]
    },
    {
     "name": "stderr",
     "output_type": "stream",
     "text": [
      "[I 2019-08-24 12:07:58,568] Finished trial#181 resulted in value: -0.78923640462102. Current best value is -0.7940264863341787 with parameters: {'w_lr': 0.0040199237090516315, 'w_sv': 0.8364548957499613, 'w_xgb': 0.048475921092385854, 'w_lgbm': 0.05102076310051028, 'w_mlp': 0.36500163988319534}.\n"
     ]
    },
    {
     "name": "stdout",
     "output_type": "stream",
     "text": [
      "[w_lr, w_lda, w_sv, w_xgb, w_lgbm,w_cb ] =  [0.94  0.    0.476 0.058 0.019 0.    0.491]\n",
      "AUC all:  0.7852916314454775\n",
      "\n"
     ]
    },
    {
     "name": "stderr",
     "output_type": "stream",
     "text": [
      "[I 2019-08-24 12:07:58,915] Finished trial#182 resulted in value: -0.7852916314454775. Current best value is -0.7940264863341787 with parameters: {'w_lr': 0.0040199237090516315, 'w_sv': 0.8364548957499613, 'w_xgb': 0.048475921092385854, 'w_lgbm': 0.05102076310051028, 'w_mlp': 0.36500163988319534}.\n"
     ]
    },
    {
     "name": "stdout",
     "output_type": "stream",
     "text": [
      "[w_lr, w_lda, w_sv, w_xgb, w_lgbm,w_cb ] =  [0.182 0.    0.968 0.079 0.053 0.    0.527]\n",
      "AUC all:  0.7903634826711748\n",
      "\n"
     ]
    },
    {
     "name": "stderr",
     "output_type": "stream",
     "text": [
      "[I 2019-08-24 12:07:59,275] Finished trial#183 resulted in value: -0.7903634826711748. Current best value is -0.7940264863341787 with parameters: {'w_lr': 0.0040199237090516315, 'w_sv': 0.8364548957499613, 'w_xgb': 0.048475921092385854, 'w_lgbm': 0.05102076310051028, 'w_mlp': 0.36500163988319534}.\n"
     ]
    },
    {
     "name": "stdout",
     "output_type": "stream",
     "text": [
      "[w_lr, w_lda, w_sv, w_xgb, w_lgbm,w_cb ] =  [0.169 0.    0.953 0.04  0.045 0.    0.563]\n",
      "AUC all:  0.7919132149901379\n",
      "\n"
     ]
    },
    {
     "name": "stderr",
     "output_type": "stream",
     "text": [
      "[I 2019-08-24 12:07:59,634] Finished trial#184 resulted in value: -0.7919132149901379. Current best value is -0.7940264863341787 with parameters: {'w_lr': 0.0040199237090516315, 'w_sv': 0.8364548957499613, 'w_xgb': 0.048475921092385854, 'w_lgbm': 0.05102076310051028, 'w_mlp': 0.36500163988319534}.\n"
     ]
    },
    {
     "name": "stdout",
     "output_type": "stream",
     "text": [
      "[w_lr, w_lda, w_sv, w_xgb, w_lgbm,w_cb ] =  [0.117 0.    0.462 0.133 0.076 0.    0.608]\n",
      "AUC all:  0.7910679064525218\n",
      "\n"
     ]
    },
    {
     "name": "stderr",
     "output_type": "stream",
     "text": [
      "[I 2019-08-24 12:08:00,001] Finished trial#185 resulted in value: -0.7910679064525218. Current best value is -0.7940264863341787 with parameters: {'w_lr': 0.0040199237090516315, 'w_sv': 0.8364548957499613, 'w_xgb': 0.048475921092385854, 'w_lgbm': 0.05102076310051028, 'w_mlp': 0.36500163988319534}.\n"
     ]
    },
    {
     "name": "stdout",
     "output_type": "stream",
     "text": [
      "[w_lr, w_lda, w_sv, w_xgb, w_lgbm,w_cb ] =  [0.142 0.    0.659 0.032 0.052 0.    0.549]\n",
      "AUC all:  0.7928994082840237\n",
      "\n"
     ]
    },
    {
     "name": "stderr",
     "output_type": "stream",
     "text": [
      "[I 2019-08-24 12:08:00,363] Finished trial#186 resulted in value: -0.7928994082840237. Current best value is -0.7940264863341787 with parameters: {'w_lr': 0.0040199237090516315, 'w_sv': 0.8364548957499613, 'w_xgb': 0.048475921092385854, 'w_lgbm': 0.05102076310051028, 'w_mlp': 0.36500163988319534}.\n"
     ]
    },
    {
     "name": "stdout",
     "output_type": "stream",
     "text": [
      "[w_lr, w_lda, w_sv, w_xgb, w_lgbm,w_cb ] =  [0.143 0.    0.576 0.001 0.026 0.    0.52 ]\n",
      "AUC all:  0.7876866723020569\n",
      "\n"
     ]
    },
    {
     "name": "stderr",
     "output_type": "stream",
     "text": [
      "[I 2019-08-24 12:08:00,724] Finished trial#187 resulted in value: -0.7876866723020569. Current best value is -0.7940264863341787 with parameters: {'w_lr': 0.0040199237090516315, 'w_sv': 0.8364548957499613, 'w_xgb': 0.048475921092385854, 'w_lgbm': 0.05102076310051028, 'w_mlp': 0.36500163988319534}.\n"
     ]
    },
    {
     "name": "stdout",
     "output_type": "stream",
     "text": [
      "[w_lr, w_lda, w_sv, w_xgb, w_lgbm,w_cb ] =  [0.001 0.    0.504 0.107 0.101 0.    0.605]\n",
      "AUC all:  0.7928994082840235\n",
      "\n"
     ]
    },
    {
     "name": "stderr",
     "output_type": "stream",
     "text": [
      "[I 2019-08-24 12:08:01,092] Finished trial#188 resulted in value: -0.7928994082840235. Current best value is -0.7940264863341787 with parameters: {'w_lr': 0.0040199237090516315, 'w_sv': 0.8364548957499613, 'w_xgb': 0.048475921092385854, 'w_lgbm': 0.05102076310051028, 'w_mlp': 0.36500163988319534}.\n"
     ]
    },
    {
     "name": "stdout",
     "output_type": "stream",
     "text": [
      "[w_lr, w_lda, w_sv, w_xgb, w_lgbm,w_cb ] =  [0.016 0.    0.623 0.114 0.122 0.    0.636]\n",
      "AUC all:  0.7928994082840236\n",
      "\n"
     ]
    },
    {
     "name": "stderr",
     "output_type": "stream",
     "text": [
      "[I 2019-08-24 12:08:01,464] Finished trial#189 resulted in value: -0.7928994082840236. Current best value is -0.7940264863341787 with parameters: {'w_lr': 0.0040199237090516315, 'w_sv': 0.8364548957499613, 'w_xgb': 0.048475921092385854, 'w_lgbm': 0.05102076310051028, 'w_mlp': 0.36500163988319534}.\n"
     ]
    },
    {
     "name": "stdout",
     "output_type": "stream",
     "text": [
      "[w_lr, w_lda, w_sv, w_xgb, w_lgbm,w_cb ] =  [0.005 0.    0.655 0.105 0.151 0.    0.638]\n",
      "AUC all:  0.7913496759650606\n",
      "\n"
     ]
    },
    {
     "name": "stderr",
     "output_type": "stream",
     "text": [
      "[I 2019-08-24 12:08:01,834] Finished trial#190 resulted in value: -0.7913496759650606. Current best value is -0.7940264863341787 with parameters: {'w_lr': 0.0040199237090516315, 'w_sv': 0.8364548957499613, 'w_xgb': 0.048475921092385854, 'w_lgbm': 0.05102076310051028, 'w_mlp': 0.36500163988319534}.\n"
     ]
    },
    {
     "name": "stdout",
     "output_type": "stream",
     "text": [
      "[w_lr, w_lda, w_sv, w_xgb, w_lgbm,w_cb ] =  [0.001 0.    0.539 0.066 0.12  0.    0.602]\n",
      "AUC all:  0.7920540997464074\n",
      "\n"
     ]
    },
    {
     "name": "stderr",
     "output_type": "stream",
     "text": [
      "[I 2019-08-24 12:08:02,210] Finished trial#191 resulted in value: -0.7920540997464074. Current best value is -0.7940264863341787 with parameters: {'w_lr': 0.0040199237090516315, 'w_sv': 0.8364548957499613, 'w_xgb': 0.048475921092385854, 'w_lgbm': 0.05102076310051028, 'w_mlp': 0.36500163988319534}.\n"
     ]
    },
    {
     "name": "stdout",
     "output_type": "stream",
     "text": [
      "[w_lr, w_lda, w_sv, w_xgb, w_lgbm,w_cb ] =  [0.024 0.    0.624 0.121 0.105 0.    0.626]\n",
      "AUC all:  0.7933220625528318\n",
      "\n"
     ]
    },
    {
     "name": "stderr",
     "output_type": "stream",
     "text": [
      "[I 2019-08-24 12:08:02,591] Finished trial#192 resulted in value: -0.7933220625528318. Current best value is -0.7940264863341787 with parameters: {'w_lr': 0.0040199237090516315, 'w_sv': 0.8364548957499613, 'w_xgb': 0.048475921092385854, 'w_lgbm': 0.05102076310051028, 'w_mlp': 0.36500163988319534}.\n"
     ]
    },
    {
     "name": "stdout",
     "output_type": "stream",
     "text": [
      "[w_lr, w_lda, w_sv, w_xgb, w_lgbm,w_cb ] =  [0.035 0.    0.62  0.135 0.106 0.    0.656]\n",
      "AUC all:  0.7938856015779092\n",
      "\n"
     ]
    },
    {
     "name": "stderr",
     "output_type": "stream",
     "text": [
      "[I 2019-08-24 12:08:02,965] Finished trial#193 resulted in value: -0.7938856015779092. Current best value is -0.7940264863341787 with parameters: {'w_lr': 0.0040199237090516315, 'w_sv': 0.8364548957499613, 'w_xgb': 0.048475921092385854, 'w_lgbm': 0.05102076310051028, 'w_mlp': 0.36500163988319534}.\n"
     ]
    },
    {
     "name": "stdout",
     "output_type": "stream",
     "text": [
      "[w_lr, w_lda, w_sv, w_xgb, w_lgbm,w_cb ] =  [0.036 0.    0.611 0.167 0.131 0.    0.656]\n",
      "AUC all:  0.792617638771485\n",
      "\n"
     ]
    },
    {
     "name": "stderr",
     "output_type": "stream",
     "text": [
      "[I 2019-08-24 12:08:03,344] Finished trial#194 resulted in value: -0.792617638771485. Current best value is -0.7940264863341787 with parameters: {'w_lr': 0.0040199237090516315, 'w_sv': 0.8364548957499613, 'w_xgb': 0.048475921092385854, 'w_lgbm': 0.05102076310051028, 'w_mlp': 0.36500163988319534}.\n"
     ]
    },
    {
     "name": "stdout",
     "output_type": "stream",
     "text": [
      "[w_lr, w_lda, w_sv, w_xgb, w_lgbm,w_cb ] =  [0.024 0.    0.672 0.116 0.099 0.    0.63 ]\n",
      "AUC all:  0.7940264863341786\n",
      "\n"
     ]
    },
    {
     "name": "stderr",
     "output_type": "stream",
     "text": [
      "[I 2019-08-24 12:08:03,714] Finished trial#195 resulted in value: -0.7940264863341786. Current best value is -0.7940264863341787 with parameters: {'w_lr': 0.0040199237090516315, 'w_sv': 0.8364548957499613, 'w_xgb': 0.048475921092385854, 'w_lgbm': 0.05102076310051028, 'w_mlp': 0.36500163988319534}.\n"
     ]
    },
    {
     "name": "stdout",
     "output_type": "stream",
     "text": [
      "[w_lr, w_lda, w_sv, w_xgb, w_lgbm,w_cb ] =  [0.017 0.    0.668 0.121 0.104 0.    0.626]\n",
      "AUC all:  0.7931811777965624\n",
      "\n"
     ]
    },
    {
     "name": "stderr",
     "output_type": "stream",
     "text": [
      "[I 2019-08-24 12:08:04,089] Finished trial#196 resulted in value: -0.7931811777965624. Current best value is -0.7940264863341787 with parameters: {'w_lr': 0.0040199237090516315, 'w_sv': 0.8364548957499613, 'w_xgb': 0.048475921092385854, 'w_lgbm': 0.05102076310051028, 'w_mlp': 0.36500163988319534}.\n"
     ]
    },
    {
     "name": "stdout",
     "output_type": "stream",
     "text": [
      "[w_lr, w_lda, w_sv, w_xgb, w_lgbm,w_cb ] =  [0.026 0.    0.668 0.144 0.111 0.    0.682]\n",
      "AUC all:  0.7931811777965623\n",
      "\n"
     ]
    },
    {
     "name": "stderr",
     "output_type": "stream",
     "text": [
      "[I 2019-08-24 12:08:04,470] Finished trial#197 resulted in value: -0.7931811777965623. Current best value is -0.7940264863341787 with parameters: {'w_lr': 0.0040199237090516315, 'w_sv': 0.8364548957499613, 'w_xgb': 0.048475921092385854, 'w_lgbm': 0.05102076310051028, 'w_mlp': 0.36500163988319534}.\n"
     ]
    },
    {
     "name": "stdout",
     "output_type": "stream",
     "text": [
      "[w_lr, w_lda, w_sv, w_xgb, w_lgbm,w_cb ] =  [0.022 0.    0.651 0.156 0.152 0.    0.702]\n",
      "AUC all:  0.7924767540152154\n",
      "\n"
     ]
    },
    {
     "name": "stderr",
     "output_type": "stream",
     "text": [
      "[I 2019-08-24 12:08:04,855] Finished trial#198 resulted in value: -0.7924767540152154. Current best value is -0.7940264863341787 with parameters: {'w_lr': 0.0040199237090516315, 'w_sv': 0.8364548957499613, 'w_xgb': 0.048475921092385854, 'w_lgbm': 0.05102076310051028, 'w_mlp': 0.36500163988319534}.\n"
     ]
    },
    {
     "name": "stdout",
     "output_type": "stream",
     "text": [
      "[w_lr, w_lda, w_sv, w_xgb, w_lgbm,w_cb ] =  [0.021 0.    0.702 0.182 0.117 0.    0.713]\n",
      "AUC all:  0.7920540997464074\n",
      "\n"
     ]
    },
    {
     "name": "stderr",
     "output_type": "stream",
     "text": [
      "[I 2019-08-24 12:08:05,223] Finished trial#199 resulted in value: -0.7920540997464074. Current best value is -0.7940264863341787 with parameters: {'w_lr': 0.0040199237090516315, 'w_sv': 0.8364548957499613, 'w_xgb': 0.048475921092385854, 'w_lgbm': 0.05102076310051028, 'w_mlp': 0.36500163988319534}.\n"
     ]
    },
    {
     "name": "stdout",
     "output_type": "stream",
     "text": [
      "[w_lr, w_lda, w_sv, w_xgb, w_lgbm,w_cb ] =  [0.041 0.    0.617 0.134 0.137 0.    0.676]\n",
      "AUC all:  0.7931811777965624\n",
      "\n"
     ]
    },
    {
     "name": "stderr",
     "output_type": "stream",
     "text": [
      "[I 2019-08-24 12:08:05,610] Finished trial#200 resulted in value: -0.7931811777965624. Current best value is -0.7940264863341787 with parameters: {'w_lr': 0.0040199237090516315, 'w_sv': 0.8364548957499613, 'w_xgb': 0.048475921092385854, 'w_lgbm': 0.05102076310051028, 'w_mlp': 0.36500163988319534}.\n"
     ]
    },
    {
     "name": "stdout",
     "output_type": "stream",
     "text": [
      "[w_lr, w_lda, w_sv, w_xgb, w_lgbm,w_cb ] =  [0.048 0.    0.671 0.138 0.134 0.    0.686]\n",
      "AUC all:  0.7928994082840237\n",
      "\n"
     ]
    },
    {
     "name": "stderr",
     "output_type": "stream",
     "text": [
      "[I 2019-08-24 12:08:05,977] Finished trial#201 resulted in value: -0.7928994082840237. Current best value is -0.7940264863341787 with parameters: {'w_lr': 0.0040199237090516315, 'w_sv': 0.8364548957499613, 'w_xgb': 0.048475921092385854, 'w_lgbm': 0.05102076310051028, 'w_mlp': 0.36500163988319534}.\n"
     ]
    },
    {
     "name": "stdout",
     "output_type": "stream",
     "text": [
      "[w_lr, w_lda, w_sv, w_xgb, w_lgbm,w_cb ] =  [0.055 0.    0.675 0.145 0.165 0.    0.685]\n",
      "AUC all:  0.791913214990138\n",
      "\n"
     ]
    },
    {
     "name": "stderr",
     "output_type": "stream",
     "text": [
      "[I 2019-08-24 12:08:06,362] Finished trial#202 resulted in value: -0.791913214990138. Current best value is -0.7940264863341787 with parameters: {'w_lr': 0.0040199237090516315, 'w_sv': 0.8364548957499613, 'w_xgb': 0.048475921092385854, 'w_lgbm': 0.05102076310051028, 'w_mlp': 0.36500163988319534}.\n"
     ]
    },
    {
     "name": "stdout",
     "output_type": "stream",
     "text": [
      "[w_lr, w_lda, w_sv, w_xgb, w_lgbm,w_cb ] =  [0.    0.    0.63  0.143 0.14  0.    0.674]\n",
      "AUC all:  0.793040293040293\n",
      "\n"
     ]
    },
    {
     "name": "stderr",
     "output_type": "stream",
     "text": [
      "[I 2019-08-24 12:08:06,745] Finished trial#203 resulted in value: -0.793040293040293. Current best value is -0.7940264863341787 with parameters: {'w_lr': 0.0040199237090516315, 'w_sv': 0.8364548957499613, 'w_xgb': 0.048475921092385854, 'w_lgbm': 0.05102076310051028, 'w_mlp': 0.36500163988319534}.\n"
     ]
    },
    {
     "name": "stdout",
     "output_type": "stream",
     "text": [
      "[w_lr, w_lda, w_sv, w_xgb, w_lgbm,w_cb ] =  [0.036 0.    0.677 0.191 0.141 0.    0.726]\n",
      "AUC all:  0.7921949845026769\n",
      "\n"
     ]
    },
    {
     "name": "stderr",
     "output_type": "stream",
     "text": [
      "[I 2019-08-24 12:08:07,132] Finished trial#204 resulted in value: -0.7921949845026769. Current best value is -0.7940264863341787 with parameters: {'w_lr': 0.0040199237090516315, 'w_sv': 0.8364548957499613, 'w_xgb': 0.048475921092385854, 'w_lgbm': 0.05102076310051028, 'w_mlp': 0.36500163988319534}.\n"
     ]
    },
    {
     "name": "stdout",
     "output_type": "stream",
     "text": [
      "[w_lr, w_lda, w_sv, w_xgb, w_lgbm,w_cb ] =  [0.003 0.    0.634 0.132 0.176 0.    0.675]\n",
      "AUC all:  0.7923358692589462\n",
      "\n"
     ]
    },
    {
     "name": "stderr",
     "output_type": "stream",
     "text": [
      "[I 2019-08-24 12:08:07,523] Finished trial#205 resulted in value: -0.7923358692589462. Current best value is -0.7940264863341787 with parameters: {'w_lr': 0.0040199237090516315, 'w_sv': 0.8364548957499613, 'w_xgb': 0.048475921092385854, 'w_lgbm': 0.05102076310051028, 'w_mlp': 0.36500163988319534}.\n"
     ]
    },
    {
     "name": "stdout",
     "output_type": "stream",
     "text": [
      "[w_lr, w_lda, w_sv, w_xgb, w_lgbm,w_cb ] =  [0.041 0.    0.582 0.141 0.105 0.    0.691]\n",
      "AUC all:  0.7938856015779092\n",
      "\n"
     ]
    },
    {
     "name": "stderr",
     "output_type": "stream",
     "text": [
      "[I 2019-08-24 12:08:07,914] Finished trial#206 resulted in value: -0.7938856015779092. Current best value is -0.7940264863341787 with parameters: {'w_lr': 0.0040199237090516315, 'w_sv': 0.8364548957499613, 'w_xgb': 0.048475921092385854, 'w_lgbm': 0.05102076310051028, 'w_mlp': 0.36500163988319534}.\n"
     ]
    },
    {
     "name": "stdout",
     "output_type": "stream",
     "text": [
      "[w_lr, w_lda, w_sv, w_xgb, w_lgbm,w_cb ] =  [0.047 0.    0.59  0.166 0.129 0.    0.69 ]\n",
      "AUC all:  0.7927585235277542\n",
      "\n"
     ]
    },
    {
     "name": "stderr",
     "output_type": "stream",
     "text": [
      "[I 2019-08-24 12:08:08,304] Finished trial#207 resulted in value: -0.7927585235277542. Current best value is -0.7940264863341787 with parameters: {'w_lr': 0.0040199237090516315, 'w_sv': 0.8364548957499613, 'w_xgb': 0.048475921092385854, 'w_lgbm': 0.05102076310051028, 'w_mlp': 0.36500163988319534}.\n"
     ]
    },
    {
     "name": "stdout",
     "output_type": "stream",
     "text": [
      "[w_lr, w_lda, w_sv, w_xgb, w_lgbm,w_cb ] =  [0.025 0.    0.664 0.123 0.102 0.    0.748]\n",
      "AUC all:  0.7928994082840235\n",
      "\n"
     ]
    },
    {
     "name": "stderr",
     "output_type": "stream",
     "text": [
      "[I 2019-08-24 12:08:08,692] Finished trial#208 resulted in value: -0.7928994082840235. Current best value is -0.7940264863341787 with parameters: {'w_lr': 0.0040199237090516315, 'w_sv': 0.8364548957499613, 'w_xgb': 0.048475921092385854, 'w_lgbm': 0.05102076310051028, 'w_mlp': 0.36500163988319534}.\n"
     ]
    },
    {
     "name": "stdout",
     "output_type": "stream",
     "text": [
      "[w_lr, w_lda, w_sv, w_xgb, w_lgbm,w_cb ] =  [0.    0.    0.629 0.145 0.142 0.    0.664]\n",
      "AUC all:  0.793040293040293\n",
      "\n"
     ]
    },
    {
     "name": "stderr",
     "output_type": "stream",
     "text": [
      "[I 2019-08-24 12:08:09,083] Finished trial#209 resulted in value: -0.793040293040293. Current best value is -0.7940264863341787 with parameters: {'w_lr': 0.0040199237090516315, 'w_sv': 0.8364548957499613, 'w_xgb': 0.048475921092385854, 'w_lgbm': 0.05102076310051028, 'w_mlp': 0.36500163988319534}.\n"
     ]
    },
    {
     "name": "stdout",
     "output_type": "stream",
     "text": [
      "[w_lr, w_lda, w_sv, w_xgb, w_lgbm,w_cb ] =  [0.001 0.    0.624 0.145 0.167 0.    0.669]\n",
      "AUC all:  0.7924767540152156\n",
      "\n"
     ]
    },
    {
     "name": "stderr",
     "output_type": "stream",
     "text": [
      "[I 2019-08-24 12:08:09,475] Finished trial#210 resulted in value: -0.7924767540152156. Current best value is -0.7940264863341787 with parameters: {'w_lr': 0.0040199237090516315, 'w_sv': 0.8364548957499613, 'w_xgb': 0.048475921092385854, 'w_lgbm': 0.05102076310051028, 'w_mlp': 0.36500163988319534}.\n"
     ]
    },
    {
     "name": "stdout",
     "output_type": "stream",
     "text": [
      "[w_lr, w_lda, w_sv, w_xgb, w_lgbm,w_cb ] =  [0.049 0.    0.642 0.14  0.145 0.    0.662]\n",
      "AUC all:  0.7923358692589462\n",
      "\n"
     ]
    },
    {
     "name": "stderr",
     "output_type": "stream",
     "text": [
      "[I 2019-08-24 12:08:09,872] Finished trial#211 resulted in value: -0.7923358692589462. Current best value is -0.7940264863341787 with parameters: {'w_lr': 0.0040199237090516315, 'w_sv': 0.8364548957499613, 'w_xgb': 0.048475921092385854, 'w_lgbm': 0.05102076310051028, 'w_mlp': 0.36500163988319534}.\n"
     ]
    },
    {
     "name": "stdout",
     "output_type": "stream",
     "text": [
      "[w_lr, w_lda, w_sv, w_xgb, w_lgbm,w_cb ] =  [0.024 0.    0.612 0.162 0.107 0.    0.685]\n",
      "AUC all:  0.7930402930402931\n",
      "\n"
     ]
    },
    {
     "name": "stderr",
     "output_type": "stream",
     "text": [
      "[I 2019-08-24 12:08:10,271] Finished trial#212 resulted in value: -0.7930402930402931. Current best value is -0.7940264863341787 with parameters: {'w_lr': 0.0040199237090516315, 'w_sv': 0.8364548957499613, 'w_xgb': 0.048475921092385854, 'w_lgbm': 0.05102076310051028, 'w_mlp': 0.36500163988319534}.\n"
     ]
    },
    {
     "name": "stdout",
     "output_type": "stream",
     "text": [
      "[w_lr, w_lda, w_sv, w_xgb, w_lgbm,w_cb ] =  [0.031 0.    0.72  0.171 0.113 0.    0.71 ]\n",
      "AUC all:  0.7921949845026768\n",
      "\n"
     ]
    },
    {
     "name": "stderr",
     "output_type": "stream",
     "text": [
      "[I 2019-08-24 12:08:10,666] Finished trial#213 resulted in value: -0.7921949845026768. Current best value is -0.7940264863341787 with parameters: {'w_lr': 0.0040199237090516315, 'w_sv': 0.8364548957499613, 'w_xgb': 0.048475921092385854, 'w_lgbm': 0.05102076310051028, 'w_mlp': 0.36500163988319534}.\n"
     ]
    },
    {
     "name": "stdout",
     "output_type": "stream",
     "text": [
      "[w_lr, w_lda, w_sv, w_xgb, w_lgbm,w_cb ] =  [0.017 0.    0.584 0.201 0.098 0.    0.66 ]\n",
      "AUC all:  0.7896590588898281\n",
      "\n"
     ]
    },
    {
     "name": "stderr",
     "output_type": "stream",
     "text": [
      "[I 2019-08-24 12:08:11,063] Finished trial#214 resulted in value: -0.7896590588898281. Current best value is -0.7940264863341787 with parameters: {'w_lr': 0.0040199237090516315, 'w_sv': 0.8364548957499613, 'w_xgb': 0.048475921092385854, 'w_lgbm': 0.05102076310051028, 'w_mlp': 0.36500163988319534}.\n"
     ]
    },
    {
     "name": "stdout",
     "output_type": "stream",
     "text": [
      "[w_lr, w_lda, w_sv, w_xgb, w_lgbm,w_cb ] =  [0.001 0.    0.619 0.159 0.086 0.    0.7  ]\n",
      "AUC all:  0.790363482671175\n",
      "\n"
     ]
    },
    {
     "name": "stderr",
     "output_type": "stream",
     "text": [
      "[I 2019-08-24 12:08:11,449] Finished trial#215 resulted in value: -0.790363482671175. Current best value is -0.7940264863341787 with parameters: {'w_lr': 0.0040199237090516315, 'w_sv': 0.8364548957499613, 'w_xgb': 0.048475921092385854, 'w_lgbm': 0.05102076310051028, 'w_mlp': 0.36500163988319534}.\n"
     ]
    },
    {
     "name": "stdout",
     "output_type": "stream",
     "text": [
      "[w_lr, w_lda, w_sv, w_xgb, w_lgbm,w_cb ] =  [0.017 0.    0.598 0.124 0.11  0.    0.645]\n",
      "AUC all:  0.7931811777965625\n",
      "\n"
     ]
    },
    {
     "name": "stderr",
     "output_type": "stream",
     "text": [
      "[I 2019-08-24 12:08:11,839] Finished trial#216 resulted in value: -0.7931811777965625. Current best value is -0.7940264863341787 with parameters: {'w_lr': 0.0040199237090516315, 'w_sv': 0.8364548957499613, 'w_xgb': 0.048475921092385854, 'w_lgbm': 0.05102076310051028, 'w_mlp': 0.36500163988319534}.\n"
     ]
    },
    {
     "name": "stdout",
     "output_type": "stream",
     "text": [
      "[w_lr, w_lda, w_sv, w_xgb, w_lgbm,w_cb ] =  [0.03  0.    0.634 0.122 0.111 0.    0.645]\n",
      "AUC all:  0.7933220625528317\n",
      "\n"
     ]
    },
    {
     "name": "stderr",
     "output_type": "stream",
     "text": [
      "[I 2019-08-24 12:08:12,240] Finished trial#217 resulted in value: -0.7933220625528317. Current best value is -0.7940264863341787 with parameters: {'w_lr': 0.0040199237090516315, 'w_sv': 0.8364548957499613, 'w_xgb': 0.048475921092385854, 'w_lgbm': 0.05102076310051028, 'w_mlp': 0.36500163988319534}.\n"
     ]
    },
    {
     "name": "stdout",
     "output_type": "stream",
     "text": [
      "[w_lr, w_lda, w_sv, w_xgb, w_lgbm,w_cb ] =  [0.029 0.    0.565 0.121 0.113 0.    0.642]\n",
      "AUC all:  0.7934629473091012\n",
      "\n"
     ]
    },
    {
     "name": "stderr",
     "output_type": "stream",
     "text": [
      "[I 2019-08-24 12:08:12,645] Finished trial#218 resulted in value: -0.7934629473091012. Current best value is -0.7940264863341787 with parameters: {'w_lr': 0.0040199237090516315, 'w_sv': 0.8364548957499613, 'w_xgb': 0.048475921092385854, 'w_lgbm': 0.05102076310051028, 'w_mlp': 0.36500163988319534}.\n"
     ]
    },
    {
     "name": "stdout",
     "output_type": "stream",
     "text": [
      "[w_lr, w_lda, w_sv, w_xgb, w_lgbm,w_cb ] =  [0.035 0.    0.567 0.129 0.142 0.    0.648]\n",
      "AUC all:  0.7920540997464075\n",
      "\n"
     ]
    },
    {
     "name": "stderr",
     "output_type": "stream",
     "text": [
      "[I 2019-08-24 12:08:13,034] Finished trial#219 resulted in value: -0.7920540997464075. Current best value is -0.7940264863341787 with parameters: {'w_lr': 0.0040199237090516315, 'w_sv': 0.8364548957499613, 'w_xgb': 0.048475921092385854, 'w_lgbm': 0.05102076310051028, 'w_mlp': 0.36500163988319534}.\n"
     ]
    },
    {
     "name": "stdout",
     "output_type": "stream",
     "text": [
      "[w_lr, w_lda, w_sv, w_xgb, w_lgbm,w_cb ] =  [0.07  0.    0.602 0.148 0.122 0.    0.63 ]\n",
      "AUC all:  0.7931811777965625\n",
      "\n"
     ]
    },
    {
     "name": "stderr",
     "output_type": "stream",
     "text": [
      "[I 2019-08-24 12:08:13,442] Finished trial#220 resulted in value: -0.7931811777965625. Current best value is -0.7940264863341787 with parameters: {'w_lr': 0.0040199237090516315, 'w_sv': 0.8364548957499613, 'w_xgb': 0.048475921092385854, 'w_lgbm': 0.05102076310051028, 'w_mlp': 0.36500163988319534}.\n"
     ]
    },
    {
     "name": "stdout",
     "output_type": "stream",
     "text": [
      "[w_lr, w_lda, w_sv, w_xgb, w_lgbm,w_cb ] =  [0.064 0.    0.602 0.157 0.116 0.    0.628]\n",
      "AUC all:  0.791913214990138\n",
      "\n"
     ]
    },
    {
     "name": "stderr",
     "output_type": "stream",
     "text": [
      "[I 2019-08-24 12:08:13,849] Finished trial#221 resulted in value: -0.791913214990138. Current best value is -0.7940264863341787 with parameters: {'w_lr': 0.0040199237090516315, 'w_sv': 0.8364548957499613, 'w_xgb': 0.048475921092385854, 'w_lgbm': 0.05102076310051028, 'w_mlp': 0.36500163988319534}.\n"
     ]
    },
    {
     "name": "stdout",
     "output_type": "stream",
     "text": [
      "[w_lr, w_lda, w_sv, w_xgb, w_lgbm,w_cb ] =  [0.034 0.    0.602 0.182 0.114 0.    0.672]\n",
      "AUC all:  0.7916314454775992\n",
      "\n"
     ]
    },
    {
     "name": "stderr",
     "output_type": "stream",
     "text": [
      "[I 2019-08-24 12:08:14,254] Finished trial#222 resulted in value: -0.7916314454775992. Current best value is -0.7940264863341787 with parameters: {'w_lr': 0.0040199237090516315, 'w_sv': 0.8364548957499613, 'w_xgb': 0.048475921092385854, 'w_lgbm': 0.05102076310051028, 'w_mlp': 0.36500163988319534}.\n"
     ]
    },
    {
     "name": "stdout",
     "output_type": "stream",
     "text": [
      "[w_lr, w_lda, w_sv, w_xgb, w_lgbm,w_cb ] =  [0.057 0.    0.621 0.13  0.158 0.    0.649]\n",
      "AUC all:  0.7920540997464074\n",
      "\n"
     ]
    },
    {
     "name": "stderr",
     "output_type": "stream",
     "text": [
      "[I 2019-08-24 12:08:14,663] Finished trial#223 resulted in value: -0.7920540997464074. Current best value is -0.7940264863341787 with parameters: {'w_lr': 0.0040199237090516315, 'w_sv': 0.8364548957499613, 'w_xgb': 0.048475921092385854, 'w_lgbm': 0.05102076310051028, 'w_mlp': 0.36500163988319534}.\n"
     ]
    },
    {
     "name": "stdout",
     "output_type": "stream",
     "text": [
      "[w_lr, w_lda, w_sv, w_xgb, w_lgbm,w_cb ] =  [0.073 0.    0.641 0.12  0.132 0.    0.63 ]\n",
      "AUC all:  0.7926176387714848\n",
      "\n"
     ]
    },
    {
     "name": "stderr",
     "output_type": "stream",
     "text": [
      "[I 2019-08-24 12:08:15,070] Finished trial#224 resulted in value: -0.7926176387714848. Current best value is -0.7940264863341787 with parameters: {'w_lr': 0.0040199237090516315, 'w_sv': 0.8364548957499613, 'w_xgb': 0.048475921092385854, 'w_lgbm': 0.05102076310051028, 'w_mlp': 0.36500163988319534}.\n"
     ]
    },
    {
     "name": "stdout",
     "output_type": "stream",
     "text": [
      "[w_lr, w_lda, w_sv, w_xgb, w_lgbm,w_cb ] =  [0.021 0.    0.558 0.149 0.192 0.    0.727]\n",
      "AUC all:  0.7921949845026768\n",
      "\n"
     ]
    },
    {
     "name": "stderr",
     "output_type": "stream",
     "text": [
      "[I 2019-08-24 12:08:15,466] Finished trial#225 resulted in value: -0.7921949845026768. Current best value is -0.7940264863341787 with parameters: {'w_lr': 0.0040199237090516315, 'w_sv': 0.8364548957499613, 'w_xgb': 0.048475921092385854, 'w_lgbm': 0.05102076310051028, 'w_mlp': 0.36500163988319534}.\n"
     ]
    },
    {
     "name": "stdout",
     "output_type": "stream",
     "text": [
      "[w_lr, w_lda, w_sv, w_xgb, w_lgbm,w_cb ] =  [0.046 0.    0.578 0.11  0.099 0.    0.655]\n",
      "AUC all:  0.7933220625528317\n",
      "\n"
     ]
    },
    {
     "name": "stderr",
     "output_type": "stream",
     "text": [
      "[I 2019-08-24 12:08:15,875] Finished trial#226 resulted in value: -0.7933220625528317. Current best value is -0.7940264863341787 with parameters: {'w_lr': 0.0040199237090516315, 'w_sv': 0.8364548957499613, 'w_xgb': 0.048475921092385854, 'w_lgbm': 0.05102076310051028, 'w_mlp': 0.36500163988319534}.\n"
     ]
    },
    {
     "name": "stdout",
     "output_type": "stream",
     "text": [
      "[w_lr, w_lda, w_sv, w_xgb, w_lgbm,w_cb ] =  [0.002 0.    0.58  0.174 0.1   0.    0.67 ]\n",
      "AUC all:  0.7916314454775992\n",
      "\n"
     ]
    },
    {
     "name": "stderr",
     "output_type": "stream",
     "text": [
      "[I 2019-08-24 12:08:16,293] Finished trial#227 resulted in value: -0.7916314454775992. Current best value is -0.7940264863341787 with parameters: {'w_lr': 0.0040199237090516315, 'w_sv': 0.8364548957499613, 'w_xgb': 0.048475921092385854, 'w_lgbm': 0.05102076310051028, 'w_mlp': 0.36500163988319534}.\n"
     ]
    },
    {
     "name": "stdout",
     "output_type": "stream",
     "text": [
      "[w_lr, w_lda, w_sv, w_xgb, w_lgbm,w_cb ] =  [0.002 0.    0.605 0.111 0.126 0.    0.652]\n",
      "AUC all:  0.7923358692589462\n",
      "\n"
     ]
    },
    {
     "name": "stderr",
     "output_type": "stream",
     "text": [
      "[I 2019-08-24 12:08:16,710] Finished trial#228 resulted in value: -0.7923358692589462. Current best value is -0.7940264863341787 with parameters: {'w_lr': 0.0040199237090516315, 'w_sv': 0.8364548957499613, 'w_xgb': 0.048475921092385854, 'w_lgbm': 0.05102076310051028, 'w_mlp': 0.36500163988319534}.\n"
     ]
    },
    {
     "name": "stdout",
     "output_type": "stream",
     "text": [
      "[w_lr, w_lda, w_sv, w_xgb, w_lgbm,w_cb ] =  [0.036 0.    0.634 0.138 0.104 0.    0.635]\n",
      "AUC all:  0.793040293040293\n",
      "\n"
     ]
    },
    {
     "name": "stderr",
     "output_type": "stream",
     "text": [
      "[I 2019-08-24 12:08:17,128] Finished trial#229 resulted in value: -0.793040293040293. Current best value is -0.7940264863341787 with parameters: {'w_lr': 0.0040199237090516315, 'w_sv': 0.8364548957499613, 'w_xgb': 0.048475921092385854, 'w_lgbm': 0.05102076310051028, 'w_mlp': 0.36500163988319534}.\n"
     ]
    },
    {
     "name": "stdout",
     "output_type": "stream",
     "text": [
      "[w_lr, w_lda, w_sv, w_xgb, w_lgbm,w_cb ] =  [0.019 0.    0.579 0.16  0.151 0.    0.692]\n",
      "AUC all:  0.7927585235277543\n",
      "\n"
     ]
    },
    {
     "name": "stderr",
     "output_type": "stream",
     "text": [
      "[I 2019-08-24 12:08:17,545] Finished trial#230 resulted in value: -0.7927585235277543. Current best value is -0.7940264863341787 with parameters: {'w_lr': 0.0040199237090516315, 'w_sv': 0.8364548957499613, 'w_xgb': 0.048475921092385854, 'w_lgbm': 0.05102076310051028, 'w_mlp': 0.36500163988319534}.\n"
     ]
    },
    {
     "name": "stdout",
     "output_type": "stream",
     "text": [
      "[w_lr, w_lda, w_sv, w_xgb, w_lgbm,w_cb ] =  [0.032 0.    0.625 0.133 0.102 0.    0.625]\n",
      "AUC all:  0.793462947309101\n",
      "\n"
     ]
    },
    {
     "name": "stderr",
     "output_type": "stream",
     "text": [
      "[I 2019-08-24 12:08:17,960] Finished trial#231 resulted in value: -0.793462947309101. Current best value is -0.7940264863341787 with parameters: {'w_lr': 0.0040199237090516315, 'w_sv': 0.8364548957499613, 'w_xgb': 0.048475921092385854, 'w_lgbm': 0.05102076310051028, 'w_mlp': 0.36500163988319534}.\n"
     ]
    },
    {
     "name": "stdout",
     "output_type": "stream",
     "text": [
      "[w_lr, w_lda, w_sv, w_xgb, w_lgbm,w_cb ] =  [0.042 0.    0.634 0.137 0.106 0.    0.62 ]\n",
      "AUC all:  0.7928994082840237\n",
      "\n"
     ]
    },
    {
     "name": "stderr",
     "output_type": "stream",
     "text": [
      "[I 2019-08-24 12:08:18,374] Finished trial#232 resulted in value: -0.7928994082840237. Current best value is -0.7940264863341787 with parameters: {'w_lr': 0.0040199237090516315, 'w_sv': 0.8364548957499613, 'w_xgb': 0.048475921092385854, 'w_lgbm': 0.05102076310051028, 'w_mlp': 0.36500163988319534}.\n"
     ]
    },
    {
     "name": "stdout",
     "output_type": "stream",
     "text": [
      "[w_lr, w_lda, w_sv, w_xgb, w_lgbm,w_cb ] =  [0.04  0.    0.597 0.123 0.085 0.    0.632]\n",
      "AUC all:  0.791913214990138\n",
      "\n"
     ]
    },
    {
     "name": "stderr",
     "output_type": "stream",
     "text": [
      "[I 2019-08-24 12:08:18,782] Finished trial#233 resulted in value: -0.791913214990138. Current best value is -0.7940264863341787 with parameters: {'w_lr': 0.0040199237090516315, 'w_sv': 0.8364548957499613, 'w_xgb': 0.048475921092385854, 'w_lgbm': 0.05102076310051028, 'w_mlp': 0.36500163988319534}.\n"
     ]
    },
    {
     "name": "stdout",
     "output_type": "stream",
     "text": [
      "[w_lr, w_lda, w_sv, w_xgb, w_lgbm,w_cb ] =  [0.063 0.    0.643 0.102 0.096 0.    0.618]\n",
      "AUC all:  0.7933220625528319\n",
      "\n"
     ]
    },
    {
     "name": "stderr",
     "output_type": "stream",
     "text": [
      "[I 2019-08-24 12:08:19,194] Finished trial#234 resulted in value: -0.7933220625528319. Current best value is -0.7940264863341787 with parameters: {'w_lr': 0.0040199237090516315, 'w_sv': 0.8364548957499613, 'w_xgb': 0.048475921092385854, 'w_lgbm': 0.05102076310051028, 'w_mlp': 0.36500163988319534}.\n"
     ]
    },
    {
     "name": "stdout",
     "output_type": "stream",
     "text": [
      "[w_lr, w_lda, w_sv, w_xgb, w_lgbm,w_cb ] =  [0.068 0.    0.651 0.098 0.093 0.    0.62 ]\n",
      "AUC all:  0.7933220625528317\n",
      "\n"
     ]
    },
    {
     "name": "stderr",
     "output_type": "stream",
     "text": [
      "[I 2019-08-24 12:08:19,601] Finished trial#235 resulted in value: -0.7933220625528317. Current best value is -0.7940264863341787 with parameters: {'w_lr': 0.0040199237090516315, 'w_sv': 0.8364548957499613, 'w_xgb': 0.048475921092385854, 'w_lgbm': 0.05102076310051028, 'w_mlp': 0.36500163988319534}.\n"
     ]
    },
    {
     "name": "stdout",
     "output_type": "stream",
     "text": [
      "[w_lr, w_lda, w_sv, w_xgb, w_lgbm,w_cb ] =  [0.075 0.    0.687 0.102 0.081 0.    0.598]\n",
      "AUC all:  0.791913214990138\n",
      "\n"
     ]
    },
    {
     "name": "stderr",
     "output_type": "stream",
     "text": [
      "[I 2019-08-24 12:08:20,022] Finished trial#236 resulted in value: -0.791913214990138. Current best value is -0.7940264863341787 with parameters: {'w_lr': 0.0040199237090516315, 'w_sv': 0.8364548957499613, 'w_xgb': 0.048475921092385854, 'w_lgbm': 0.05102076310051028, 'w_mlp': 0.36500163988319534}.\n"
     ]
    },
    {
     "name": "stdout",
     "output_type": "stream",
     "text": [
      "[w_lr, w_lda, w_sv, w_xgb, w_lgbm,w_cb ] =  [0.074 0.    0.615 0.109 0.122 0.    0.615]\n",
      "AUC all:  0.7927585235277543\n",
      "\n"
     ]
    },
    {
     "name": "stderr",
     "output_type": "stream",
     "text": [
      "[I 2019-08-24 12:08:20,446] Finished trial#237 resulted in value: -0.7927585235277543. Current best value is -0.7940264863341787 with parameters: {'w_lr': 0.0040199237090516315, 'w_sv': 0.8364548957499613, 'w_xgb': 0.048475921092385854, 'w_lgbm': 0.05102076310051028, 'w_mlp': 0.36500163988319534}.\n"
     ]
    },
    {
     "name": "stdout",
     "output_type": "stream",
     "text": [
      "[w_lr, w_lda, w_sv, w_xgb, w_lgbm,w_cb ] =  [0.058 0.    0.658 0.099 0.094 0.    0.642]\n",
      "AUC all:  0.7933220625528317\n",
      "\n"
     ]
    },
    {
     "name": "stderr",
     "output_type": "stream",
     "text": [
      "[I 2019-08-24 12:08:20,875] Finished trial#238 resulted in value: -0.7933220625528317. Current best value is -0.7940264863341787 with parameters: {'w_lr': 0.0040199237090516315, 'w_sv': 0.8364548957499613, 'w_xgb': 0.048475921092385854, 'w_lgbm': 0.05102076310051028, 'w_mlp': 0.36500163988319534}.\n"
     ]
    },
    {
     "name": "stdout",
     "output_type": "stream",
     "text": [
      "[w_lr, w_lda, w_sv, w_xgb, w_lgbm,w_cb ] =  [0.057 0.    0.655 0.099 0.095 0.    0.618]\n",
      "AUC all:  0.7931811777965625\n",
      "\n"
     ]
    },
    {
     "name": "stderr",
     "output_type": "stream",
     "text": [
      "[I 2019-08-24 12:08:21,302] Finished trial#239 resulted in value: -0.7931811777965625. Current best value is -0.7940264863341787 with parameters: {'w_lr': 0.0040199237090516315, 'w_sv': 0.8364548957499613, 'w_xgb': 0.048475921092385854, 'w_lgbm': 0.05102076310051028, 'w_mlp': 0.36500163988319534}.\n"
     ]
    },
    {
     "name": "stdout",
     "output_type": "stream",
     "text": [
      "[w_lr, w_lda, w_sv, w_xgb, w_lgbm,w_cb ] =  [0.06  0.    0.644 0.093 0.092 0.    0.621]\n",
      "AUC all:  0.7933220625528317\n",
      "\n"
     ]
    },
    {
     "name": "stderr",
     "output_type": "stream",
     "text": [
      "[I 2019-08-24 12:08:21,731] Finished trial#240 resulted in value: -0.7933220625528317. Current best value is -0.7940264863341787 with parameters: {'w_lr': 0.0040199237090516315, 'w_sv': 0.8364548957499613, 'w_xgb': 0.048475921092385854, 'w_lgbm': 0.05102076310051028, 'w_mlp': 0.36500163988319534}.\n"
     ]
    },
    {
     "name": "stdout",
     "output_type": "stream",
     "text": [
      "[w_lr, w_lda, w_sv, w_xgb, w_lgbm,w_cb ] =  [0.058 0.    0.662 0.108 0.09  0.    0.618]\n",
      "AUC all:  0.7933220625528317\n",
      "\n"
     ]
    },
    {
     "name": "stderr",
     "output_type": "stream",
     "text": [
      "[I 2019-08-24 12:08:22,161] Finished trial#241 resulted in value: -0.7933220625528317. Current best value is -0.7940264863341787 with parameters: {'w_lr': 0.0040199237090516315, 'w_sv': 0.8364548957499613, 'w_xgb': 0.048475921092385854, 'w_lgbm': 0.05102076310051028, 'w_mlp': 0.36500163988319534}.\n"
     ]
    },
    {
     "name": "stdout",
     "output_type": "stream",
     "text": [
      "[w_lr, w_lda, w_sv, w_xgb, w_lgbm,w_cb ] =  [0.065 0.    0.655 0.099 0.089 0.    0.621]\n",
      "AUC all:  0.7936038320653704\n",
      "\n"
     ]
    },
    {
     "name": "stderr",
     "output_type": "stream",
     "text": [
      "[I 2019-08-24 12:08:22,595] Finished trial#242 resulted in value: -0.7936038320653704. Current best value is -0.7940264863341787 with parameters: {'w_lr': 0.0040199237090516315, 'w_sv': 0.8364548957499613, 'w_xgb': 0.048475921092385854, 'w_lgbm': 0.05102076310051028, 'w_mlp': 0.36500163988319534}.\n"
     ]
    },
    {
     "name": "stdout",
     "output_type": "stream",
     "text": [
      "[w_lr, w_lda, w_sv, w_xgb, w_lgbm,w_cb ] =  [0.062 0.    0.655 0.1   0.086 0.    0.617]\n",
      "AUC all:  0.793462947309101\n",
      "\n"
     ]
    },
    {
     "name": "stderr",
     "output_type": "stream",
     "text": [
      "[I 2019-08-24 12:08:23,025] Finished trial#243 resulted in value: -0.793462947309101. Current best value is -0.7940264863341787 with parameters: {'w_lr': 0.0040199237090516315, 'w_sv': 0.8364548957499613, 'w_xgb': 0.048475921092385854, 'w_lgbm': 0.05102076310051028, 'w_mlp': 0.36500163988319534}.\n"
     ]
    },
    {
     "name": "stdout",
     "output_type": "stream",
     "text": [
      "[w_lr, w_lda, w_sv, w_xgb, w_lgbm,w_cb ] =  [0.065 0.    0.695 0.101 0.086 0.    0.614]\n",
      "AUC all:  0.7936038320653704\n",
      "\n"
     ]
    },
    {
     "name": "stderr",
     "output_type": "stream",
     "text": [
      "[I 2019-08-24 12:08:23,463] Finished trial#244 resulted in value: -0.7936038320653704. Current best value is -0.7940264863341787 with parameters: {'w_lr': 0.0040199237090516315, 'w_sv': 0.8364548957499613, 'w_xgb': 0.048475921092385854, 'w_lgbm': 0.05102076310051028, 'w_mlp': 0.36500163988319534}.\n"
     ]
    },
    {
     "name": "stdout",
     "output_type": "stream",
     "text": [
      "[w_lr, w_lda, w_sv, w_xgb, w_lgbm,w_cb ] =  [0.07  0.    0.701 0.094 0.08  0.    0.616]\n",
      "AUC all:  0.7924767540152156\n",
      "\n"
     ]
    },
    {
     "name": "stderr",
     "output_type": "stream",
     "text": [
      "[I 2019-08-24 12:08:23,897] Finished trial#245 resulted in value: -0.7924767540152156. Current best value is -0.7940264863341787 with parameters: {'w_lr': 0.0040199237090516315, 'w_sv': 0.8364548957499613, 'w_xgb': 0.048475921092385854, 'w_lgbm': 0.05102076310051028, 'w_mlp': 0.36500163988319534}.\n"
     ]
    },
    {
     "name": "stdout",
     "output_type": "stream",
     "text": [
      "[w_lr, w_lda, w_sv, w_xgb, w_lgbm,w_cb ] =  [0.081 0.    0.651 0.102 0.087 0.    0.62 ]\n",
      "AUC all:  0.7933220625528318\n",
      "\n"
     ]
    },
    {
     "name": "stderr",
     "output_type": "stream",
     "text": [
      "[I 2019-08-24 12:08:24,338] Finished trial#246 resulted in value: -0.7933220625528318. Current best value is -0.7940264863341787 with parameters: {'w_lr': 0.0040199237090516315, 'w_sv': 0.8364548957499613, 'w_xgb': 0.048475921092385854, 'w_lgbm': 0.05102076310051028, 'w_mlp': 0.36500163988319534}.\n"
     ]
    },
    {
     "name": "stdout",
     "output_type": "stream",
     "text": [
      "[w_lr, w_lda, w_sv, w_xgb, w_lgbm,w_cb ] =  [0.082 0.    0.689 0.098 0.086 0.    0.647]\n",
      "AUC all:  0.7927585235277543\n",
      "\n"
     ]
    },
    {
     "name": "stderr",
     "output_type": "stream",
     "text": [
      "[I 2019-08-24 12:08:24,770] Finished trial#247 resulted in value: -0.7927585235277543. Current best value is -0.7940264863341787 with parameters: {'w_lr': 0.0040199237090516315, 'w_sv': 0.8364548957499613, 'w_xgb': 0.048475921092385854, 'w_lgbm': 0.05102076310051028, 'w_mlp': 0.36500163988319534}.\n"
     ]
    },
    {
     "name": "stdout",
     "output_type": "stream",
     "text": [
      "[w_lr, w_lda, w_sv, w_xgb, w_lgbm,w_cb ] =  [0.06  0.    0.651 0.096 0.077 0.    0.604]\n",
      "AUC all:  0.7923358692589462\n",
      "\n"
     ]
    },
    {
     "name": "stderr",
     "output_type": "stream",
     "text": [
      "[I 2019-08-24 12:08:25,213] Finished trial#248 resulted in value: -0.7923358692589462. Current best value is -0.7940264863341787 with parameters: {'w_lr': 0.0040199237090516315, 'w_sv': 0.8364548957499613, 'w_xgb': 0.048475921092385854, 'w_lgbm': 0.05102076310051028, 'w_mlp': 0.36500163988319534}.\n"
     ]
    },
    {
     "name": "stdout",
     "output_type": "stream",
     "text": [
      "[w_lr, w_lda, w_sv, w_xgb, w_lgbm,w_cb ] =  [0.081 0.    0.662 0.112 0.094 0.    0.625]\n",
      "AUC all:  0.7931811777965624\n",
      "\n"
     ]
    },
    {
     "name": "stderr",
     "output_type": "stream",
     "text": [
      "[I 2019-08-24 12:08:25,640] Finished trial#249 resulted in value: -0.7931811777965624. Current best value is -0.7940264863341787 with parameters: {'w_lr': 0.0040199237090516315, 'w_sv': 0.8364548957499613, 'w_xgb': 0.048475921092385854, 'w_lgbm': 0.05102076310051028, 'w_mlp': 0.36500163988319534}.\n"
     ]
    },
    {
     "name": "stdout",
     "output_type": "stream",
     "text": [
      "[w_lr, w_lda, w_sv, w_xgb, w_lgbm,w_cb ] =  [0.056 0.    0.65  0.113 0.095 0.    0.637]\n",
      "AUC all:  0.793040293040293\n",
      "\n"
     ]
    },
    {
     "name": "stderr",
     "output_type": "stream",
     "text": [
      "[I 2019-08-24 12:08:26,078] Finished trial#250 resulted in value: -0.793040293040293. Current best value is -0.7940264863341787 with parameters: {'w_lr': 0.0040199237090516315, 'w_sv': 0.8364548957499613, 'w_xgb': 0.048475921092385854, 'w_lgbm': 0.05102076310051028, 'w_mlp': 0.36500163988319534}.\n"
     ]
    },
    {
     "name": "stdout",
     "output_type": "stream",
     "text": [
      "[w_lr, w_lda, w_sv, w_xgb, w_lgbm,w_cb ] =  [0.084 0.    0.655 0.095 0.077 0.    0.615]\n",
      "AUC all:  0.7920540997464075\n",
      "\n"
     ]
    },
    {
     "name": "stderr",
     "output_type": "stream",
     "text": [
      "[I 2019-08-24 12:08:26,509] Finished trial#251 resulted in value: -0.7920540997464075. Current best value is -0.7940264863341787 with parameters: {'w_lr': 0.0040199237090516315, 'w_sv': 0.8364548957499613, 'w_xgb': 0.048475921092385854, 'w_lgbm': 0.05102076310051028, 'w_mlp': 0.36500163988319534}.\n"
     ]
    },
    {
     "name": "stdout",
     "output_type": "stream",
     "text": [
      "[w_lr, w_lda, w_sv, w_xgb, w_lgbm,w_cb ] =  [0.071 0.    0.676 0.116 0.115 0.    0.591]\n",
      "AUC all:  0.7930402930402931\n",
      "\n"
     ]
    },
    {
     "name": "stderr",
     "output_type": "stream",
     "text": [
      "[I 2019-08-24 12:08:26,934] Finished trial#252 resulted in value: -0.7930402930402931. Current best value is -0.7940264863341787 with parameters: {'w_lr': 0.0040199237090516315, 'w_sv': 0.8364548957499613, 'w_xgb': 0.048475921092385854, 'w_lgbm': 0.05102076310051028, 'w_mlp': 0.36500163988319534}.\n"
     ]
    },
    {
     "name": "stdout",
     "output_type": "stream",
     "text": [
      "[w_lr, w_lda, w_sv, w_xgb, w_lgbm,w_cb ] =  [0.053 0.    0.696 0.092 0.097 0.    0.645]\n",
      "AUC all:  0.7933220625528317\n",
      "\n"
     ]
    },
    {
     "name": "stderr",
     "output_type": "stream",
     "text": [
      "[I 2019-08-24 12:08:27,370] Finished trial#253 resulted in value: -0.7933220625528317. Current best value is -0.7940264863341787 with parameters: {'w_lr': 0.0040199237090516315, 'w_sv': 0.8364548957499613, 'w_xgb': 0.048475921092385854, 'w_lgbm': 0.05102076310051028, 'w_mlp': 0.36500163988319534}.\n"
     ]
    },
    {
     "name": "stdout",
     "output_type": "stream",
     "text": [
      "[w_lr, w_lda, w_sv, w_xgb, w_lgbm,w_cb ] =  [0.058 0.    0.709 0.087 0.069 0.    0.646]\n",
      "AUC all:  0.7912087912087912\n",
      "\n"
     ]
    },
    {
     "name": "stderr",
     "output_type": "stream",
     "text": [
      "[I 2019-08-24 12:08:27,816] Finished trial#254 resulted in value: -0.7912087912087912. Current best value is -0.7940264863341787 with parameters: {'w_lr': 0.0040199237090516315, 'w_sv': 0.8364548957499613, 'w_xgb': 0.048475921092385854, 'w_lgbm': 0.05102076310051028, 'w_mlp': 0.36500163988319534}.\n"
     ]
    },
    {
     "name": "stdout",
     "output_type": "stream",
     "text": [
      "[w_lr, w_lda, w_sv, w_xgb, w_lgbm,w_cb ] =  [0.055 0.    0.69  0.1   0.089 0.    0.607]\n",
      "AUC all:  0.7933220625528318\n",
      "\n"
     ]
    },
    {
     "name": "stderr",
     "output_type": "stream",
     "text": [
      "[I 2019-08-24 12:08:28,249] Finished trial#255 resulted in value: -0.7933220625528318. Current best value is -0.7940264863341787 with parameters: {'w_lr': 0.0040199237090516315, 'w_sv': 0.8364548957499613, 'w_xgb': 0.048475921092385854, 'w_lgbm': 0.05102076310051028, 'w_mlp': 0.36500163988319534}.\n"
     ]
    },
    {
     "name": "stdout",
     "output_type": "stream",
     "text": [
      "[w_lr, w_lda, w_sv, w_xgb, w_lgbm,w_cb ] =  [0.092 0.    0.693 0.084 0.072 0.    0.648]\n",
      "AUC all:  0.7912087912087912\n",
      "\n"
     ]
    },
    {
     "name": "stderr",
     "output_type": "stream",
     "text": [
      "[I 2019-08-24 12:08:28,686] Finished trial#256 resulted in value: -0.7912087912087912. Current best value is -0.7940264863341787 with parameters: {'w_lr': 0.0040199237090516315, 'w_sv': 0.8364548957499613, 'w_xgb': 0.048475921092385854, 'w_lgbm': 0.05102076310051028, 'w_mlp': 0.36500163988319534}.\n"
     ]
    },
    {
     "name": "stdout",
     "output_type": "stream",
     "text": [
      "[w_lr, w_lda, w_sv, w_xgb, w_lgbm,w_cb ] =  [0.051 0.    0.643 0.085 0.089 0.    0.599]\n",
      "AUC all:  0.793462947309101\n",
      "\n"
     ]
    },
    {
     "name": "stderr",
     "output_type": "stream",
     "text": [
      "[I 2019-08-24 12:08:29,138] Finished trial#257 resulted in value: -0.793462947309101. Current best value is -0.7940264863341787 with parameters: {'w_lr': 0.0040199237090516315, 'w_sv': 0.8364548957499613, 'w_xgb': 0.048475921092385854, 'w_lgbm': 0.05102076310051028, 'w_mlp': 0.36500163988319534}.\n"
     ]
    },
    {
     "name": "stdout",
     "output_type": "stream",
     "text": [
      "[w_lr, w_lda, w_sv, w_xgb, w_lgbm,w_cb ] =  [0.05  0.    0.64  0.074 0.083 0.    0.595]\n",
      "AUC all:  0.7937447168216398\n",
      "\n"
     ]
    },
    {
     "name": "stderr",
     "output_type": "stream",
     "text": [
      "[I 2019-08-24 12:08:29,591] Finished trial#258 resulted in value: -0.7937447168216398. Current best value is -0.7940264863341787 with parameters: {'w_lr': 0.0040199237090516315, 'w_sv': 0.8364548957499613, 'w_xgb': 0.048475921092385854, 'w_lgbm': 0.05102076310051028, 'w_mlp': 0.36500163988319534}.\n"
     ]
    },
    {
     "name": "stdout",
     "output_type": "stream",
     "text": [
      "[w_lr, w_lda, w_sv, w_xgb, w_lgbm,w_cb ] =  [0.053 0.    0.641 0.074 0.086 0.    0.594]\n",
      "AUC all:  0.7933220625528318\n",
      "\n"
     ]
    },
    {
     "name": "stderr",
     "output_type": "stream",
     "text": [
      "[I 2019-08-24 12:08:30,051] Finished trial#259 resulted in value: -0.7933220625528318. Current best value is -0.7940264863341787 with parameters: {'w_lr': 0.0040199237090516315, 'w_sv': 0.8364548957499613, 'w_xgb': 0.048475921092385854, 'w_lgbm': 0.05102076310051028, 'w_mlp': 0.36500163988319534}.\n"
     ]
    },
    {
     "name": "stdout",
     "output_type": "stream",
     "text": [
      "[w_lr, w_lda, w_sv, w_xgb, w_lgbm,w_cb ] =  [0.053 0.    0.719 0.071 0.059 0.    0.59 ]\n",
      "AUC all:  0.7906452521837137\n",
      "\n"
     ]
    },
    {
     "name": "stderr",
     "output_type": "stream",
     "text": [
      "[I 2019-08-24 12:08:30,501] Finished trial#260 resulted in value: -0.7906452521837137. Current best value is -0.7940264863341787 with parameters: {'w_lr': 0.0040199237090516315, 'w_sv': 0.8364548957499613, 'w_xgb': 0.048475921092385854, 'w_lgbm': 0.05102076310051028, 'w_mlp': 0.36500163988319534}.\n"
     ]
    },
    {
     "name": "stdout",
     "output_type": "stream",
     "text": [
      "[w_lr, w_lda, w_sv, w_xgb, w_lgbm,w_cb ] =  [0.042 0.    0.684 0.076 0.081 0.    0.602]\n",
      "AUC all:  0.7927585235277543\n",
      "\n"
     ]
    },
    {
     "name": "stderr",
     "output_type": "stream",
     "text": [
      "[I 2019-08-24 12:08:30,958] Finished trial#261 resulted in value: -0.7927585235277543. Current best value is -0.7940264863341787 with parameters: {'w_lr': 0.0040199237090516315, 'w_sv': 0.8364548957499613, 'w_xgb': 0.048475921092385854, 'w_lgbm': 0.05102076310051028, 'w_mlp': 0.36500163988319534}.\n"
     ]
    },
    {
     "name": "stdout",
     "output_type": "stream",
     "text": [
      "[w_lr, w_lda, w_sv, w_xgb, w_lgbm,w_cb ] =  [0.066 0.    0.641 0.103 0.065 0.    0.594]\n",
      "AUC all:  0.7905043674274443\n",
      "\n"
     ]
    },
    {
     "name": "stderr",
     "output_type": "stream",
     "text": [
      "[I 2019-08-24 12:08:31,412] Finished trial#262 resulted in value: -0.7905043674274443. Current best value is -0.7940264863341787 with parameters: {'w_lr': 0.0040199237090516315, 'w_sv': 0.8364548957499613, 'w_xgb': 0.048475921092385854, 'w_lgbm': 0.05102076310051028, 'w_mlp': 0.36500163988319534}.\n"
     ]
    },
    {
     "name": "stdout",
     "output_type": "stream",
     "text": [
      "[w_lr, w_lda, w_sv, w_xgb, w_lgbm,w_cb ] =  [0.09  0.    0.643 0.077 0.085 0.    0.098]\n",
      "AUC all:  0.7861369399830939\n",
      "\n"
     ]
    },
    {
     "name": "stderr",
     "output_type": "stream",
     "text": [
      "[I 2019-08-24 12:08:31,869] Finished trial#263 resulted in value: -0.7861369399830939. Current best value is -0.7940264863341787 with parameters: {'w_lr': 0.0040199237090516315, 'w_sv': 0.8364548957499613, 'w_xgb': 0.048475921092385854, 'w_lgbm': 0.05102076310051028, 'w_mlp': 0.36500163988319534}.\n"
     ]
    },
    {
     "name": "stdout",
     "output_type": "stream",
     "text": [
      "[w_lr, w_lda, w_sv, w_xgb, w_lgbm,w_cb ] =  [0.051 0.    0.73  0.089 0.089 0.    0.61 ]\n",
      "AUC all:  0.7933220625528317\n",
      "\n"
     ]
    },
    {
     "name": "stderr",
     "output_type": "stream",
     "text": [
      "[I 2019-08-24 12:08:32,329] Finished trial#264 resulted in value: -0.7933220625528317. Current best value is -0.7940264863341787 with parameters: {'w_lr': 0.0040199237090516315, 'w_sv': 0.8364548957499613, 'w_xgb': 0.048475921092385854, 'w_lgbm': 0.05102076310051028, 'w_mlp': 0.36500163988319534}.\n"
     ]
    },
    {
     "name": "stdout",
     "output_type": "stream",
     "text": [
      "[w_lr, w_lda, w_sv, w_xgb, w_lgbm,w_cb ] =  [0.043 0.    0.686 0.061 0.061 0.    0.58 ]\n",
      "AUC all:  0.7920540997464074\n",
      "\n"
     ]
    },
    {
     "name": "stderr",
     "output_type": "stream",
     "text": [
      "[I 2019-08-24 12:08:32,783] Finished trial#265 resulted in value: -0.7920540997464074. Current best value is -0.7940264863341787 with parameters: {'w_lr': 0.0040199237090516315, 'w_sv': 0.8364548957499613, 'w_xgb': 0.048475921092385854, 'w_lgbm': 0.05102076310051028, 'w_mlp': 0.36500163988319534}.\n"
     ]
    },
    {
     "name": "stdout",
     "output_type": "stream",
     "text": [
      "[w_lr, w_lda, w_sv, w_xgb, w_lgbm,w_cb ] =  [0.079 0.    0.64  0.086 0.119 0.    0.609]\n",
      "AUC all:  0.7912087912087913\n",
      "\n"
     ]
    },
    {
     "name": "stderr",
     "output_type": "stream",
     "text": [
      "[I 2019-08-24 12:08:33,234] Finished trial#266 resulted in value: -0.7912087912087913. Current best value is -0.7940264863341787 with parameters: {'w_lr': 0.0040199237090516315, 'w_sv': 0.8364548957499613, 'w_xgb': 0.048475921092385854, 'w_lgbm': 0.05102076310051028, 'w_mlp': 0.36500163988319534}.\n"
     ]
    },
    {
     "name": "stdout",
     "output_type": "stream",
     "text": [
      "[w_lr, w_lda, w_sv, w_xgb, w_lgbm,w_cb ] =  [0.09  0.    0.667 0.111 0.094 0.    0.6  ]\n",
      "AUC all:  0.794167371090448\n",
      "\n"
     ]
    },
    {
     "name": "stderr",
     "output_type": "stream",
     "text": [
      "[I 2019-08-24 12:08:33,694] Finished trial#267 resulted in value: -0.794167371090448. Current best value is -0.794167371090448 with parameters: {'w_lr': 0.09033355084071595, 'w_sv': 0.6667439984503063, 'w_xgb': 0.11085542749886816, 'w_lgbm': 0.09393337360710555, 'w_mlp': 0.6004727388935579}.\n"
     ]
    },
    {
     "name": "stdout",
     "output_type": "stream",
     "text": [
      "[w_lr, w_lda, w_sv, w_xgb, w_lgbm,w_cb ] =  [0.092 0.    0.671 0.071 0.074 0.    0.587]\n",
      "AUC all:  0.7924767540152156\n",
      "\n"
     ]
    },
    {
     "name": "stderr",
     "output_type": "stream",
     "text": [
      "[I 2019-08-24 12:08:34,148] Finished trial#268 resulted in value: -0.7924767540152156. Current best value is -0.794167371090448 with parameters: {'w_lr': 0.09033355084071595, 'w_sv': 0.6667439984503063, 'w_xgb': 0.11085542749886816, 'w_lgbm': 0.09393337360710555, 'w_mlp': 0.6004727388935579}.\n"
     ]
    },
    {
     "name": "stdout",
     "output_type": "stream",
     "text": [
      "[w_lr, w_lda, w_sv, w_xgb, w_lgbm,w_cb ] =  [0.039 0.    0.624 0.118 0.044 0.    0.599]\n",
      "AUC all:  0.7861369399830938\n",
      "\n"
     ]
    },
    {
     "name": "stderr",
     "output_type": "stream",
     "text": [
      "[I 2019-08-24 12:08:34,614] Finished trial#269 resulted in value: -0.7861369399830938. Current best value is -0.794167371090448 with parameters: {'w_lr': 0.09033355084071595, 'w_sv': 0.6667439984503063, 'w_xgb': 0.11085542749886816, 'w_lgbm': 0.09393337360710555, 'w_mlp': 0.6004727388935579}.\n"
     ]
    },
    {
     "name": "stdout",
     "output_type": "stream",
     "text": [
      "[w_lr, w_lda, w_sv, w_xgb, w_lgbm,w_cb ] =  [0.052 0.    0.743 0.09  0.104 0.    0.579]\n",
      "AUC all:  0.792617638771485\n",
      "\n"
     ]
    },
    {
     "name": "stderr",
     "output_type": "stream",
     "text": [
      "[I 2019-08-24 12:08:35,079] Finished trial#270 resulted in value: -0.792617638771485. Current best value is -0.794167371090448 with parameters: {'w_lr': 0.09033355084071595, 'w_sv': 0.6667439984503063, 'w_xgb': 0.11085542749886816, 'w_lgbm': 0.09393337360710555, 'w_mlp': 0.6004727388935579}.\n"
     ]
    },
    {
     "name": "stdout",
     "output_type": "stream",
     "text": [
      "[w_lr, w_lda, w_sv, w_xgb, w_lgbm,w_cb ] =  [0.073 0.    0.665 0.102 0.083 0.    0.617]\n",
      "AUC all:  0.7924767540152156\n",
      "\n"
     ]
    },
    {
     "name": "stderr",
     "output_type": "stream",
     "text": [
      "[I 2019-08-24 12:08:35,545] Finished trial#271 resulted in value: -0.7924767540152156. Current best value is -0.794167371090448 with parameters: {'w_lr': 0.09033355084071595, 'w_sv': 0.6667439984503063, 'w_xgb': 0.11085542749886816, 'w_lgbm': 0.09393337360710555, 'w_mlp': 0.6004727388935579}.\n"
     ]
    },
    {
     "name": "stdout",
     "output_type": "stream",
     "text": [
      "[w_lr, w_lda, w_sv, w_xgb, w_lgbm,w_cb ] =  [0.096 0.    0.638 0.124 0.104 0.    0.63 ]\n",
      "AUC all:  0.7938856015779092\n",
      "\n"
     ]
    },
    {
     "name": "stderr",
     "output_type": "stream",
     "text": [
      "[I 2019-08-24 12:08:36,000] Finished trial#272 resulted in value: -0.7938856015779092. Current best value is -0.794167371090448 with parameters: {'w_lr': 0.09033355084071595, 'w_sv': 0.6667439984503063, 'w_xgb': 0.11085542749886816, 'w_lgbm': 0.09393337360710555, 'w_mlp': 0.6004727388935579}.\n"
     ]
    },
    {
     "name": "stdout",
     "output_type": "stream",
     "text": [
      "[w_lr, w_lda, w_sv, w_xgb, w_lgbm,w_cb ] =  [0.099 0.    0.557 0.123 0.118 0.    0.6  ]\n",
      "AUC all:  0.7928994082840237\n",
      "\n"
     ]
    },
    {
     "name": "stderr",
     "output_type": "stream",
     "text": [
      "[I 2019-08-24 12:08:36,465] Finished trial#273 resulted in value: -0.7928994082840237. Current best value is -0.794167371090448 with parameters: {'w_lr': 0.09033355084071595, 'w_sv': 0.6667439984503063, 'w_xgb': 0.11085542749886816, 'w_lgbm': 0.09393337360710555, 'w_mlp': 0.6004727388935579}.\n"
     ]
    },
    {
     "name": "stdout",
     "output_type": "stream",
     "text": [
      "[w_lr, w_lda, w_sv, w_xgb, w_lgbm,w_cb ] =  [0.097 0.    0.706 0.064 0.061 0.    0.579]\n",
      "AUC all:  0.7906452521837137\n",
      "\n"
     ]
    },
    {
     "name": "stderr",
     "output_type": "stream",
     "text": [
      "[I 2019-08-24 12:08:36,936] Finished trial#274 resulted in value: -0.7906452521837137. Current best value is -0.794167371090448 with parameters: {'w_lr': 0.09033355084071595, 'w_sv': 0.6667439984503063, 'w_xgb': 0.11085542749886816, 'w_lgbm': 0.09393337360710555, 'w_mlp': 0.6004727388935579}.\n"
     ]
    },
    {
     "name": "stdout",
     "output_type": "stream",
     "text": [
      "[w_lr, w_lda, w_sv, w_xgb, w_lgbm,w_cb ] =  [0.08  0.    0.678 0.101 0.039 0.    0.63 ]\n",
      "AUC all:  0.78698224852071\n",
      "\n"
     ]
    },
    {
     "name": "stderr",
     "output_type": "stream",
     "text": [
      "[I 2019-08-24 12:08:37,409] Finished trial#275 resulted in value: -0.78698224852071. Current best value is -0.794167371090448 with parameters: {'w_lr': 0.09033355084071595, 'w_sv': 0.6667439984503063, 'w_xgb': 0.11085542749886816, 'w_lgbm': 0.09393337360710555, 'w_mlp': 0.6004727388935579}.\n"
     ]
    },
    {
     "name": "stdout",
     "output_type": "stream",
     "text": [
      "[w_lr, w_lda, w_sv, w_xgb, w_lgbm,w_cb ] =  [0.066 0.    0.642 0.075 0.691 0.    0.62 ]\n",
      "AUC all:  0.7720484643561566\n",
      "\n"
     ]
    },
    {
     "name": "stderr",
     "output_type": "stream",
     "text": [
      "[I 2019-08-24 12:08:37,883] Finished trial#276 resulted in value: -0.7720484643561566. Current best value is -0.794167371090448 with parameters: {'w_lr': 0.09033355084071595, 'w_sv': 0.6667439984503063, 'w_xgb': 0.11085542749886816, 'w_lgbm': 0.09393337360710555, 'w_mlp': 0.6004727388935579}.\n"
     ]
    },
    {
     "name": "stdout",
     "output_type": "stream",
     "text": [
      "[w_lr, w_lda, w_sv, w_xgb, w_lgbm,w_cb ] =  [0.028 0.    0.625 0.128 0.127 0.    0.635]\n",
      "AUC all:  0.7936038320653706\n",
      "\n"
     ]
    },
    {
     "name": "stderr",
     "output_type": "stream",
     "text": [
      "[I 2019-08-24 12:08:38,363] Finished trial#277 resulted in value: -0.7936038320653706. Current best value is -0.794167371090448 with parameters: {'w_lr': 0.09033355084071595, 'w_sv': 0.6667439984503063, 'w_xgb': 0.11085542749886816, 'w_lgbm': 0.09393337360710555, 'w_mlp': 0.6004727388935579}.\n"
     ]
    },
    {
     "name": "stdout",
     "output_type": "stream",
     "text": [
      "[w_lr, w_lda, w_sv, w_xgb, w_lgbm,w_cb ] =  [0.724 0.    0.694 0.127 0.129 0.    0.602]\n",
      "AUC all:  0.7916314454775992\n",
      "\n"
     ]
    },
    {
     "name": "stderr",
     "output_type": "stream",
     "text": [
      "[I 2019-08-24 12:08:38,826] Finished trial#278 resulted in value: -0.7916314454775992. Current best value is -0.794167371090448 with parameters: {'w_lr': 0.09033355084071595, 'w_sv': 0.6667439984503063, 'w_xgb': 0.11085542749886816, 'w_lgbm': 0.09393337360710555, 'w_mlp': 0.6004727388935579}.\n"
     ]
    },
    {
     "name": "stdout",
     "output_type": "stream",
     "text": [
      "[w_lr, w_lda, w_sv, w_xgb, w_lgbm,w_cb ] =  [0.034 0.    0.583 0.128 0.07  0.    0.66 ]\n",
      "AUC all:  0.7906452521837137\n",
      "\n"
     ]
    },
    {
     "name": "stderr",
     "output_type": "stream",
     "text": [
      "[I 2019-08-24 12:08:39,303] Finished trial#279 resulted in value: -0.7906452521837137. Current best value is -0.794167371090448 with parameters: {'w_lr': 0.09033355084071595, 'w_sv': 0.6667439984503063, 'w_xgb': 0.11085542749886816, 'w_lgbm': 0.09393337360710555, 'w_mlp': 0.6004727388935579}.\n"
     ]
    },
    {
     "name": "stdout",
     "output_type": "stream",
     "text": [
      "[w_lr, w_lda, w_sv, w_xgb, w_lgbm,w_cb ] =  [0.025 0.    0.621 0.128 0.121 0.    0.629]\n",
      "AUC all:  0.7928994082840236\n",
      "\n"
     ]
    },
    {
     "name": "stderr",
     "output_type": "stream",
     "text": [
      "[I 2019-08-24 12:08:39,779] Finished trial#280 resulted in value: -0.7928994082840236. Current best value is -0.794167371090448 with parameters: {'w_lr': 0.09033355084071595, 'w_sv': 0.6667439984503063, 'w_xgb': 0.11085542749886816, 'w_lgbm': 0.09393337360710555, 'w_mlp': 0.6004727388935579}.\n"
     ]
    },
    {
     "name": "stdout",
     "output_type": "stream",
     "text": [
      "[w_lr, w_lda, w_sv, w_xgb, w_lgbm,w_cb ] =  [0.033 0.    0.617 0.115 0.106 0.    0.658]\n",
      "AUC all:  0.7930402930402929\n",
      "\n"
     ]
    },
    {
     "name": "stderr",
     "output_type": "stream",
     "text": [
      "[I 2019-08-24 12:08:40,261] Finished trial#281 resulted in value: -0.7930402930402929. Current best value is -0.794167371090448 with parameters: {'w_lr': 0.09033355084071595, 'w_sv': 0.6667439984503063, 'w_xgb': 0.11085542749886816, 'w_lgbm': 0.09393337360710555, 'w_mlp': 0.6004727388935579}.\n"
     ]
    },
    {
     "name": "stdout",
     "output_type": "stream",
     "text": [
      "[w_lr, w_lda, w_sv, w_xgb, w_lgbm,w_cb ] =  [0.038 0.    0.59  0.137 0.055 0.    0.575]\n",
      "AUC all:  0.7874049027895181\n",
      "\n"
     ]
    },
    {
     "name": "stderr",
     "output_type": "stream",
     "text": [
      "[I 2019-08-24 12:08:40,738] Finished trial#282 resulted in value: -0.7874049027895181. Current best value is -0.794167371090448 with parameters: {'w_lr': 0.09033355084071595, 'w_sv': 0.6667439984503063, 'w_xgb': 0.11085542749886816, 'w_lgbm': 0.09393337360710555, 'w_mlp': 0.6004727388935579}.\n"
     ]
    },
    {
     "name": "stdout",
     "output_type": "stream",
     "text": [
      "[w_lr, w_lda, w_sv, w_xgb, w_lgbm,w_cb ] =  [0.097 0.    0.63  0.061 0.083 0.    0.606]\n",
      "AUC all:  0.7926176387714848\n",
      "\n"
     ]
    },
    {
     "name": "stderr",
     "output_type": "stream",
     "text": [
      "[I 2019-08-24 12:08:41,211] Finished trial#283 resulted in value: -0.7926176387714848. Current best value is -0.794167371090448 with parameters: {'w_lr': 0.09033355084071595, 'w_sv': 0.6667439984503063, 'w_xgb': 0.11085542749886816, 'w_lgbm': 0.09393337360710555, 'w_mlp': 0.6004727388935579}.\n"
     ]
    },
    {
     "name": "stdout",
     "output_type": "stream",
     "text": [
      "[w_lr, w_lda, w_sv, w_xgb, w_lgbm,w_cb ] =  [0.076 0.    0.658 0.095 0.094 0.    0.628]\n",
      "AUC all:  0.7931811777965623\n",
      "\n"
     ]
    },
    {
     "name": "stderr",
     "output_type": "stream",
     "text": [
      "[I 2019-08-24 12:08:41,692] Finished trial#284 resulted in value: -0.7931811777965623. Current best value is -0.794167371090448 with parameters: {'w_lr': 0.09033355084071595, 'w_sv': 0.6667439984503063, 'w_xgb': 0.11085542749886816, 'w_lgbm': 0.09393337360710555, 'w_mlp': 0.6004727388935579}.\n"
     ]
    },
    {
     "name": "stdout",
     "output_type": "stream",
     "text": [
      "[w_lr, w_lda, w_sv, w_xgb, w_lgbm,w_cb ] =  [0.053 0.    0.541 0.944 0.069 0.    0.59 ]\n",
      "AUC all:  0.775993237531699\n",
      "\n"
     ]
    },
    {
     "name": "stderr",
     "output_type": "stream",
     "text": [
      "[I 2019-08-24 12:08:42,170] Finished trial#285 resulted in value: -0.775993237531699. Current best value is -0.794167371090448 with parameters: {'w_lr': 0.09033355084071595, 'w_sv': 0.6667439984503063, 'w_xgb': 0.11085542749886816, 'w_lgbm': 0.09393337360710555, 'w_mlp': 0.6004727388935579}.\n"
     ]
    },
    {
     "name": "stdout",
     "output_type": "stream",
     "text": [
      "[w_lr, w_lda, w_sv, w_xgb, w_lgbm,w_cb ] =  [0.048 0.    0.724 0.08  0.135 0.    0.651]\n",
      "AUC all:  0.791913214990138\n",
      "\n"
     ]
    },
    {
     "name": "stderr",
     "output_type": "stream",
     "text": [
      "[I 2019-08-24 12:08:42,655] Finished trial#286 resulted in value: -0.791913214990138. Current best value is -0.794167371090448 with parameters: {'w_lr': 0.09033355084071595, 'w_sv': 0.6667439984503063, 'w_xgb': 0.11085542749886816, 'w_lgbm': 0.09393337360710555, 'w_mlp': 0.6004727388935579}.\n"
     ]
    },
    {
     "name": "stdout",
     "output_type": "stream",
     "text": [
      "[w_lr, w_lda, w_sv, w_xgb, w_lgbm,w_cb ] =  [0.104 0.    0.614 0.112 0.101 0.    0.607]\n",
      "AUC all:  0.7933220625528317\n",
      "\n"
     ]
    },
    {
     "name": "stderr",
     "output_type": "stream",
     "text": [
      "[I 2019-08-24 12:08:43,140] Finished trial#287 resulted in value: -0.7933220625528317. Current best value is -0.794167371090448 with parameters: {'w_lr': 0.09033355084071595, 'w_sv': 0.6667439984503063, 'w_xgb': 0.11085542749886816, 'w_lgbm': 0.09393337360710555, 'w_mlp': 0.6004727388935579}.\n"
     ]
    },
    {
     "name": "stdout",
     "output_type": "stream",
     "text": [
      "[w_lr, w_lda, w_sv, w_xgb, w_lgbm,w_cb ] =  [0.081 0.    0.569 0.059 0.079 0.    0.569]\n",
      "AUC all:  0.793462947309101\n",
      "\n"
     ]
    },
    {
     "name": "stderr",
     "output_type": "stream",
     "text": [
      "[I 2019-08-24 12:08:43,636] Finished trial#288 resulted in value: -0.793462947309101. Current best value is -0.794167371090448 with parameters: {'w_lr': 0.09033355084071595, 'w_sv': 0.6667439984503063, 'w_xgb': 0.11085542749886816, 'w_lgbm': 0.09393337360710555, 'w_mlp': 0.6004727388935579}.\n"
     ]
    },
    {
     "name": "stdout",
     "output_type": "stream",
     "text": [
      "[w_lr, w_lda, w_sv, w_xgb, w_lgbm,w_cb ] =  [0.093 0.    0.606 0.058 0.12  0.    0.565]\n",
      "AUC all:  0.7909270216962525\n",
      "\n"
     ]
    },
    {
     "name": "stderr",
     "output_type": "stream",
     "text": [
      "[I 2019-08-24 12:08:44,121] Finished trial#289 resulted in value: -0.7909270216962525. Current best value is -0.794167371090448 with parameters: {'w_lr': 0.09033355084071595, 'w_sv': 0.6667439984503063, 'w_xgb': 0.11085542749886816, 'w_lgbm': 0.09393337360710555, 'w_mlp': 0.6004727388935579}.\n"
     ]
    },
    {
     "name": "stdout",
     "output_type": "stream",
     "text": [
      "[w_lr, w_lda, w_sv, w_xgb, w_lgbm,w_cb ] =  [0.11  0.    0.612 0.056 0.037 0.    0.578]\n",
      "AUC all:  0.7890955198647506\n",
      "\n"
     ]
    },
    {
     "name": "stderr",
     "output_type": "stream",
     "text": [
      "[I 2019-08-24 12:08:44,600] Finished trial#290 resulted in value: -0.7890955198647506. Current best value is -0.794167371090448 with parameters: {'w_lr': 0.09033355084071595, 'w_sv': 0.6667439984503063, 'w_xgb': 0.11085542749886816, 'w_lgbm': 0.09393337360710555, 'w_mlp': 0.6004727388935579}.\n"
     ]
    },
    {
     "name": "stdout",
     "output_type": "stream",
     "text": [
      "[w_lr, w_lda, w_sv, w_xgb, w_lgbm,w_cb ] =  [0.019 0.    0.679 0.153 0.056 0.    0.636]\n",
      "AUC all:  0.7859960552268245\n",
      "\n"
     ]
    },
    {
     "name": "stderr",
     "output_type": "stream",
     "text": [
      "[I 2019-08-24 12:08:45,081] Finished trial#291 resulted in value: -0.7859960552268245. Current best value is -0.794167371090448 with parameters: {'w_lr': 0.09033355084071595, 'w_sv': 0.6667439984503063, 'w_xgb': 0.11085542749886816, 'w_lgbm': 0.09393337360710555, 'w_mlp': 0.6004727388935579}.\n"
     ]
    },
    {
     "name": "stdout",
     "output_type": "stream",
     "text": [
      "[w_lr, w_lda, w_sv, w_xgb, w_lgbm,w_cb ] =  [0.025 0.    0.638 0.079 0.072 0.    0.555]\n",
      "AUC all:  0.792617638771485\n",
      "\n"
     ]
    },
    {
     "name": "stderr",
     "output_type": "stream",
     "text": [
      "[I 2019-08-24 12:08:45,579] Finished trial#292 resulted in value: -0.792617638771485. Current best value is -0.794167371090448 with parameters: {'w_lr': 0.09033355084071595, 'w_sv': 0.6667439984503063, 'w_xgb': 0.11085542749886816, 'w_lgbm': 0.09393337360710555, 'w_mlp': 0.6004727388935579}.\n"
     ]
    },
    {
     "name": "stdout",
     "output_type": "stream",
     "text": [
      "[w_lr, w_lda, w_sv, w_xgb, w_lgbm,w_cb ] =  [0.081 0.    0.571 0.106 0.11  0.    0.59 ]\n",
      "AUC all:  0.7924767540152156\n",
      "\n"
     ]
    },
    {
     "name": "stderr",
     "output_type": "stream",
     "text": [
      "[I 2019-08-24 12:08:46,072] Finished trial#293 resulted in value: -0.7924767540152156. Current best value is -0.794167371090448 with parameters: {'w_lr': 0.09033355084071595, 'w_sv': 0.6667439984503063, 'w_xgb': 0.11085542749886816, 'w_lgbm': 0.09393337360710555, 'w_mlp': 0.6004727388935579}.\n"
     ]
    },
    {
     "name": "stdout",
     "output_type": "stream",
     "text": [
      "[w_lr, w_lda, w_sv, w_xgb, w_lgbm,w_cb ] =  [0.066 0.    0.671 0.061 0.086 0.    0.617]\n",
      "AUC all:  0.7924767540152156\n",
      "\n"
     ]
    },
    {
     "name": "stderr",
     "output_type": "stream",
     "text": [
      "[I 2019-08-24 12:08:46,551] Finished trial#294 resulted in value: -0.7924767540152156. Current best value is -0.794167371090448 with parameters: {'w_lr': 0.09033355084071595, 'w_sv': 0.6667439984503063, 'w_xgb': 0.11085542749886816, 'w_lgbm': 0.09393337360710555, 'w_mlp': 0.6004727388935579}.\n"
     ]
    },
    {
     "name": "stdout",
     "output_type": "stream",
     "text": [
      "[w_lr, w_lda, w_sv, w_xgb, w_lgbm,w_cb ] =  [0.527 0.    0.654 0.106 0.054 0.    0.594]\n",
      "AUC all:  0.7892364046210201\n",
      "\n"
     ]
    },
    {
     "name": "stderr",
     "output_type": "stream",
     "text": [
      "[I 2019-08-24 12:08:47,029] Finished trial#295 resulted in value: -0.7892364046210201. Current best value is -0.794167371090448 with parameters: {'w_lr': 0.09033355084071595, 'w_sv': 0.6667439984503063, 'w_xgb': 0.11085542749886816, 'w_lgbm': 0.09393337360710555, 'w_mlp': 0.6004727388935579}.\n"
     ]
    },
    {
     "name": "stdout",
     "output_type": "stream",
     "text": [
      "[w_lr, w_lda, w_sv, w_xgb, w_lgbm,w_cb ] =  [0.019 0.    0.634 0.13  0.128 0.    0.643]\n",
      "AUC all:  0.7936038320653706\n",
      "\n"
     ]
    },
    {
     "name": "stderr",
     "output_type": "stream",
     "text": [
      "[I 2019-08-24 12:08:47,522] Finished trial#296 resulted in value: -0.7936038320653706. Current best value is -0.794167371090448 with parameters: {'w_lr': 0.09033355084071595, 'w_sv': 0.6667439984503063, 'w_xgb': 0.11085542749886816, 'w_lgbm': 0.09393337360710555, 'w_mlp': 0.6004727388935579}.\n"
     ]
    },
    {
     "name": "stdout",
     "output_type": "stream",
     "text": [
      "[w_lr, w_lda, w_sv, w_xgb, w_lgbm,w_cb ] =  [0.001 0.    0.518 0.141 0.153 0.    0.662]\n",
      "AUC all:  0.7921949845026769\n",
      "\n"
     ]
    },
    {
     "name": "stderr",
     "output_type": "stream",
     "text": [
      "[I 2019-08-24 12:08:48,013] Finished trial#297 resulted in value: -0.7921949845026769. Current best value is -0.794167371090448 with parameters: {'w_lr': 0.09033355084071595, 'w_sv': 0.6667439984503063, 'w_xgb': 0.11085542749886816, 'w_lgbm': 0.09393337360710555, 'w_mlp': 0.6004727388935579}.\n"
     ]
    },
    {
     "name": "stdout",
     "output_type": "stream",
     "text": [
      "[w_lr, w_lda, w_sv, w_xgb, w_lgbm,w_cb ] =  [0.018 0.    0.627 0.165 0.13  0.    0.57 ]\n",
      "AUC all:  0.7914905607213298\n",
      "\n"
     ]
    },
    {
     "name": "stderr",
     "output_type": "stream",
     "text": [
      "[I 2019-08-24 12:08:48,517] Finished trial#298 resulted in value: -0.7914905607213298. Current best value is -0.794167371090448 with parameters: {'w_lr': 0.09033355084071595, 'w_sv': 0.6667439984503063, 'w_xgb': 0.11085542749886816, 'w_lgbm': 0.09393337360710555, 'w_mlp': 0.6004727388935579}.\n"
     ]
    },
    {
     "name": "stdout",
     "output_type": "stream",
     "text": [
      "[w_lr, w_lda, w_sv, w_xgb, w_lgbm,w_cb ] =  [0.036 0.    0.635 0.126 0.133 0.    0.639]\n",
      "AUC all:  0.7928994082840236\n",
      "\n"
     ]
    },
    {
     "name": "stderr",
     "output_type": "stream",
     "text": [
      "[I 2019-08-24 12:08:49,018] Finished trial#299 resulted in value: -0.7928994082840236. Current best value is -0.794167371090448 with parameters: {'w_lr': 0.09033355084071595, 'w_sv': 0.6667439984503063, 'w_xgb': 0.11085542749886816, 'w_lgbm': 0.09393337360710555, 'w_mlp': 0.6004727388935579}.\n"
     ]
    },
    {
     "name": "stdout",
     "output_type": "stream",
     "text": [
      "[w_lr, w_lda, w_sv, w_xgb, w_lgbm,w_cb ] =  [0.047 0.    0.562 0.147 0.113 0.    0.603]\n",
      "AUC all:  0.7924767540152156\n",
      "\n"
     ]
    },
    {
     "name": "stderr",
     "output_type": "stream",
     "text": [
      "[I 2019-08-24 12:08:49,525] Finished trial#300 resulted in value: -0.7924767540152156. Current best value is -0.794167371090448 with parameters: {'w_lr': 0.09033355084071595, 'w_sv': 0.6667439984503063, 'w_xgb': 0.11085542749886816, 'w_lgbm': 0.09393337360710555, 'w_mlp': 0.6004727388935579}.\n"
     ]
    },
    {
     "name": "stdout",
     "output_type": "stream",
     "text": [
      "[w_lr, w_lda, w_sv, w_xgb, w_lgbm,w_cb ] =  [0.077 0.    0.592 0.08  0.887 0.    0.622]\n",
      "AUC all:  0.7689489997182305\n",
      "\n"
     ]
    },
    {
     "name": "stderr",
     "output_type": "stream",
     "text": [
      "[I 2019-08-24 12:08:50,026] Finished trial#301 resulted in value: -0.7689489997182305. Current best value is -0.794167371090448 with parameters: {'w_lr': 0.09033355084071595, 'w_sv': 0.6667439984503063, 'w_xgb': 0.11085542749886816, 'w_lgbm': 0.09393337360710555, 'w_mlp': 0.6004727388935579}.\n"
     ]
    },
    {
     "name": "stdout",
     "output_type": "stream",
     "text": [
      "[w_lr, w_lda, w_sv, w_xgb, w_lgbm,w_cb ] =  [0.072 0.    0.648 0.13  0.03  0.    0.58 ]\n",
      "AUC all:  0.7838827838827839\n",
      "\n"
     ]
    },
    {
     "name": "stderr",
     "output_type": "stream",
     "text": [
      "[I 2019-08-24 12:08:50,538] Finished trial#302 resulted in value: -0.7838827838827839. Current best value is -0.794167371090448 with parameters: {'w_lr': 0.09033355084071595, 'w_sv': 0.6667439984503063, 'w_xgb': 0.11085542749886816, 'w_lgbm': 0.09393337360710555, 'w_mlp': 0.6004727388935579}.\n"
     ]
    },
    {
     "name": "stdout",
     "output_type": "stream",
     "text": [
      "[w_lr, w_lda, w_sv, w_xgb, w_lgbm,w_cb ] =  [0.111 0.    0.663 0.184 0.077 0.    0.555]\n",
      "AUC all:  0.7888137503522119\n",
      "\n"
     ]
    },
    {
     "name": "stderr",
     "output_type": "stream",
     "text": [
      "[I 2019-08-24 12:08:51,046] Finished trial#303 resulted in value: -0.7888137503522119. Current best value is -0.794167371090448 with parameters: {'w_lr': 0.09033355084071595, 'w_sv': 0.6667439984503063, 'w_xgb': 0.11085542749886816, 'w_lgbm': 0.09393337360710555, 'w_mlp': 0.6004727388935579}.\n"
     ]
    },
    {
     "name": "stdout",
     "output_type": "stream",
     "text": [
      "[w_lr, w_lda, w_sv, w_xgb, w_lgbm,w_cb ] =  [0.013 0.    0.672 0.107 0.601 0.    0.608]\n",
      "AUC all:  0.7741617357001972\n",
      "\n"
     ]
    },
    {
     "name": "stderr",
     "output_type": "stream",
     "text": [
      "[I 2019-08-24 12:08:51,551] Finished trial#304 resulted in value: -0.7741617357001972. Current best value is -0.794167371090448 with parameters: {'w_lr': 0.09033355084071595, 'w_sv': 0.6667439984503063, 'w_xgb': 0.11085542749886816, 'w_lgbm': 0.09393337360710555, 'w_mlp': 0.6004727388935579}.\n"
     ]
    },
    {
     "name": "stdout",
     "output_type": "stream",
     "text": [
      "[w_lr, w_lda, w_sv, w_xgb, w_lgbm,w_cb ] =  [0.047 0.    0.711 0.053 0.554 0.    0.638]\n",
      "AUC all:  0.7735981966751196\n",
      "\n"
     ]
    },
    {
     "name": "stderr",
     "output_type": "stream",
     "text": [
      "[I 2019-08-24 12:08:52,057] Finished trial#305 resulted in value: -0.7735981966751196. Current best value is -0.794167371090448 with parameters: {'w_lr': 0.09033355084071595, 'w_sv': 0.6667439984503063, 'w_xgb': 0.11085542749886816, 'w_lgbm': 0.09393337360710555, 'w_mlp': 0.6004727388935579}.\n"
     ]
    },
    {
     "name": "stdout",
     "output_type": "stream",
     "text": [
      "[w_lr, w_lda, w_sv, w_xgb, w_lgbm,w_cb ] =  [0.    0.    0.599 0.083 0.16  0.    0.659]\n",
      "AUC all:  0.790363482671175\n",
      "\n"
     ]
    },
    {
     "name": "stderr",
     "output_type": "stream",
     "text": [
      "[I 2019-08-24 12:08:52,567] Finished trial#306 resulted in value: -0.790363482671175. Current best value is -0.794167371090448 with parameters: {'w_lr': 0.09033355084071595, 'w_sv': 0.6667439984503063, 'w_xgb': 0.11085542749886816, 'w_lgbm': 0.09393337360710555, 'w_mlp': 0.6004727388935579}.\n"
     ]
    },
    {
     "name": "stdout",
     "output_type": "stream",
     "text": [
      "[w_lr, w_lda, w_sv, w_xgb, w_lgbm,w_cb ] =  [0.029 0.    0.632 0.128 0.121 0.    0.637]\n",
      "AUC all:  0.793040293040293\n",
      "\n"
     ]
    },
    {
     "name": "stderr",
     "output_type": "stream",
     "text": [
      "[I 2019-08-24 12:08:53,073] Finished trial#307 resulted in value: -0.793040293040293. Current best value is -0.794167371090448 with parameters: {'w_lr': 0.09033355084071595, 'w_sv': 0.6667439984503063, 'w_xgb': 0.11085542749886816, 'w_lgbm': 0.09393337360710555, 'w_mlp': 0.6004727388935579}.\n"
     ]
    },
    {
     "name": "stdout",
     "output_type": "stream",
     "text": [
      "[w_lr, w_lda, w_sv, w_xgb, w_lgbm,w_cb ] =  [0.088 0.    0.618 0.086 0.098 0.    0.59 ]\n",
      "AUC all:  0.7923358692589461\n",
      "\n"
     ]
    },
    {
     "name": "stderr",
     "output_type": "stream",
     "text": [
      "[I 2019-08-24 12:08:53,575] Finished trial#308 resulted in value: -0.7923358692589461. Current best value is -0.794167371090448 with parameters: {'w_lr': 0.09033355084071595, 'w_sv': 0.6667439984503063, 'w_xgb': 0.11085542749886816, 'w_lgbm': 0.09393337360710555, 'w_mlp': 0.6004727388935579}.\n"
     ]
    },
    {
     "name": "stdout",
     "output_type": "stream",
     "text": [
      "[w_lr, w_lda, w_sv, w_xgb, w_lgbm,w_cb ] =  [0.067 0.    0.654 0.158 0.06  0.    0.619]\n",
      "AUC all:  0.7871231332769794\n",
      "\n"
     ]
    },
    {
     "name": "stderr",
     "output_type": "stream",
     "text": [
      "[I 2019-08-24 12:08:54,085] Finished trial#309 resulted in value: -0.7871231332769794. Current best value is -0.794167371090448 with parameters: {'w_lr': 0.09033355084071595, 'w_sv': 0.6667439984503063, 'w_xgb': 0.11085542749886816, 'w_lgbm': 0.09393337360710555, 'w_mlp': 0.6004727388935579}.\n"
     ]
    },
    {
     "name": "stdout",
     "output_type": "stream",
     "text": [
      "[w_lr, w_lda, w_sv, w_xgb, w_lgbm,w_cb ] =  [0.041 0.    0.57  0.11  0.103 0.    0.672]\n",
      "AUC all:  0.7937447168216398\n",
      "\n"
     ]
    },
    {
     "name": "stderr",
     "output_type": "stream",
     "text": [
      "[I 2019-08-24 12:08:54,604] Finished trial#310 resulted in value: -0.7937447168216398. Current best value is -0.794167371090448 with parameters: {'w_lr': 0.09033355084071595, 'w_sv': 0.6667439984503063, 'w_xgb': 0.11085542749886816, 'w_lgbm': 0.09393337360710555, 'w_mlp': 0.6004727388935579}.\n"
     ]
    },
    {
     "name": "stdout",
     "output_type": "stream",
     "text": [
      "[w_lr, w_lda, w_sv, w_xgb, w_lgbm,w_cb ] =  [0.016 0.    0.54  0.116 0.142 0.    0.565]\n",
      "AUC all:  0.7920540997464075\n",
      "\n"
     ]
    },
    {
     "name": "stderr",
     "output_type": "stream",
     "text": [
      "[I 2019-08-24 12:08:55,103] Finished trial#311 resulted in value: -0.7920540997464075. Current best value is -0.794167371090448 with parameters: {'w_lr': 0.09033355084071595, 'w_sv': 0.6667439984503063, 'w_xgb': 0.11085542749886816, 'w_lgbm': 0.09393337360710555, 'w_mlp': 0.6004727388935579}.\n"
     ]
    },
    {
     "name": "stdout",
     "output_type": "stream",
     "text": [
      "[w_lr, w_lda, w_sv, w_xgb, w_lgbm,w_cb ] =  [0.035 0.    0.56  0.142 0.083 0.    0.663]\n",
      "AUC all:  0.7909270216962524\n",
      "\n"
     ]
    },
    {
     "name": "stderr",
     "output_type": "stream",
     "text": [
      "[I 2019-08-24 12:08:55,625] Finished trial#312 resulted in value: -0.7909270216962524. Current best value is -0.794167371090448 with parameters: {'w_lr': 0.09033355084071595, 'w_sv': 0.6667439984503063, 'w_xgb': 0.11085542749886816, 'w_lgbm': 0.09393337360710555, 'w_mlp': 0.6004727388935579}.\n"
     ]
    },
    {
     "name": "stdout",
     "output_type": "stream",
     "text": [
      "[w_lr, w_lda, w_sv, w_xgb, w_lgbm,w_cb ] =  [0.046 0.    0.58  0.067 0.044 0.    0.693]\n",
      "AUC all:  0.7886728655959426\n",
      "\n"
     ]
    },
    {
     "name": "stderr",
     "output_type": "stream",
     "text": [
      "[I 2019-08-24 12:08:56,132] Finished trial#313 resulted in value: -0.7886728655959426. Current best value is -0.794167371090448 with parameters: {'w_lr': 0.09033355084071595, 'w_sv': 0.6667439984503063, 'w_xgb': 0.11085542749886816, 'w_lgbm': 0.09393337360710555, 'w_mlp': 0.6004727388935579}.\n"
     ]
    },
    {
     "name": "stdout",
     "output_type": "stream",
     "text": [
      "[w_lr, w_lda, w_sv, w_xgb, w_lgbm,w_cb ] =  [0.001 0.    0.599 0.046 0.111 0.    0.671]\n",
      "AUC all:  0.7912087912087912\n",
      "\n"
     ]
    },
    {
     "name": "stderr",
     "output_type": "stream",
     "text": [
      "[I 2019-08-24 12:08:56,649] Finished trial#314 resulted in value: -0.7912087912087912. Current best value is -0.794167371090448 with parameters: {'w_lr': 0.09033355084071595, 'w_sv': 0.6667439984503063, 'w_xgb': 0.11085542749886816, 'w_lgbm': 0.09393337360710555, 'w_mlp': 0.6004727388935579}.\n"
     ]
    },
    {
     "name": "stdout",
     "output_type": "stream",
     "text": [
      "[w_lr, w_lda, w_sv, w_xgb, w_lgbm,w_cb ] =  [0.025 0.    0.61  0.735 0.076 0.    0.603]\n",
      "AUC all:  0.7772612003381234\n",
      "\n"
     ]
    },
    {
     "name": "stderr",
     "output_type": "stream",
     "text": [
      "[I 2019-08-24 12:08:57,170] Finished trial#315 resulted in value: -0.7772612003381234. Current best value is -0.794167371090448 with parameters: {'w_lr': 0.09033355084071595, 'w_sv': 0.6667439984503063, 'w_xgb': 0.11085542749886816, 'w_lgbm': 0.09393337360710555, 'w_mlp': 0.6004727388935579}.\n"
     ]
    },
    {
     "name": "stdout",
     "output_type": "stream",
     "text": [
      "[w_lr, w_lda, w_sv, w_xgb, w_lgbm,w_cb ] =  [0.06  0.    0.683 0.111 0.127 0.    0.539]\n",
      "AUC all:  0.7917723302338687\n",
      "\n"
     ]
    },
    {
     "name": "stderr",
     "output_type": "stream",
     "text": [
      "[I 2019-08-24 12:08:57,693] Finished trial#316 resulted in value: -0.7917723302338687. Current best value is -0.794167371090448 with parameters: {'w_lr': 0.09033355084071595, 'w_sv': 0.6667439984503063, 'w_xgb': 0.11085542749886816, 'w_lgbm': 0.09393337360710555, 'w_mlp': 0.6004727388935579}.\n"
     ]
    },
    {
     "name": "stdout",
     "output_type": "stream",
     "text": [
      "[w_lr, w_lda, w_sv, w_xgb, w_lgbm,w_cb ] =  [0.088 0.    0.633 0.167 0.176 0.    0.588]\n",
      "AUC all:  0.7916314454775993\n",
      "\n"
     ]
    },
    {
     "name": "stderr",
     "output_type": "stream",
     "text": [
      "[I 2019-08-24 12:08:58,207] Finished trial#317 resulted in value: -0.7916314454775993. Current best value is -0.794167371090448 with parameters: {'w_lr': 0.09033355084071595, 'w_sv': 0.6667439984503063, 'w_xgb': 0.11085542749886816, 'w_lgbm': 0.09393337360710555, 'w_mlp': 0.6004727388935579}.\n"
     ]
    },
    {
     "name": "stdout",
     "output_type": "stream",
     "text": [
      "[w_lr, w_lda, w_sv, w_xgb, w_lgbm,w_cb ] =  [0.042 0.    0.586 0.131 0.064 0.    0.711]\n",
      "AUC all:  0.7889546351084813\n",
      "\n"
     ]
    },
    {
     "name": "stderr",
     "output_type": "stream",
     "text": [
      "[I 2019-08-24 12:08:58,729] Finished trial#318 resulted in value: -0.7889546351084813. Current best value is -0.794167371090448 with parameters: {'w_lr': 0.09033355084071595, 'w_sv': 0.6667439984503063, 'w_xgb': 0.11085542749886816, 'w_lgbm': 0.09393337360710555, 'w_mlp': 0.6004727388935579}.\n"
     ]
    },
    {
     "name": "stdout",
     "output_type": "stream",
     "text": [
      "[w_lr, w_lda, w_sv, w_xgb, w_lgbm,w_cb ] =  [0.02  0.    0.549 0.092 0.101 0.    0.632]\n",
      "AUC all:  0.7923358692589462\n",
      "\n"
     ]
    },
    {
     "name": "stderr",
     "output_type": "stream",
     "text": [
      "[I 2019-08-24 12:08:59,249] Finished trial#319 resulted in value: -0.7923358692589462. Current best value is -0.794167371090448 with parameters: {'w_lr': 0.09033355084071595, 'w_sv': 0.6667439984503063, 'w_xgb': 0.11085542749886816, 'w_lgbm': 0.09393337360710555, 'w_mlp': 0.6004727388935579}.\n"
     ]
    },
    {
     "name": "stdout",
     "output_type": "stream",
     "text": [
      "[w_lr, w_lda, w_sv, w_xgb, w_lgbm,w_cb ] =  [0.071 0.    0.644 0.073 0.107 0.    0.65 ]\n",
      "AUC all:  0.7924767540152156\n",
      "\n"
     ]
    },
    {
     "name": "stderr",
     "output_type": "stream",
     "text": [
      "[I 2019-08-24 12:08:59,775] Finished trial#320 resulted in value: -0.7924767540152156. Current best value is -0.794167371090448 with parameters: {'w_lr': 0.09033355084071595, 'w_sv': 0.6667439984503063, 'w_xgb': 0.11085542749886816, 'w_lgbm': 0.09393337360710555, 'w_mlp': 0.6004727388935579}.\n"
     ]
    },
    {
     "name": "stdout",
     "output_type": "stream",
     "text": [
      "[w_lr, w_lda, w_sv, w_xgb, w_lgbm,w_cb ] =  [0.101 0.    0.62  0.112 0.081 0.    0.676]\n",
      "AUC all:  0.79149056072133\n",
      "\n"
     ]
    },
    {
     "name": "stderr",
     "output_type": "stream",
     "text": [
      "[I 2019-08-24 12:09:00,305] Finished trial#321 resulted in value: -0.79149056072133. Current best value is -0.794167371090448 with parameters: {'w_lr': 0.09033355084071595, 'w_sv': 0.6667439984503063, 'w_xgb': 0.11085542749886816, 'w_lgbm': 0.09393337360710555, 'w_mlp': 0.6004727388935579}.\n"
     ]
    },
    {
     "name": "stdout",
     "output_type": "stream",
     "text": [
      "[w_lr, w_lda, w_sv, w_xgb, w_lgbm,w_cb ] =  [0.057 0.    0.568 0.141 0.142 0.    0.612]\n",
      "AUC all:  0.79149056072133\n",
      "\n"
     ]
    },
    {
     "name": "stderr",
     "output_type": "stream",
     "text": [
      "[I 2019-08-24 12:09:00,831] Finished trial#322 resulted in value: -0.79149056072133. Current best value is -0.794167371090448 with parameters: {'w_lr': 0.09033355084071595, 'w_sv': 0.6667439984503063, 'w_xgb': 0.11085542749886816, 'w_lgbm': 0.09393337360710555, 'w_mlp': 0.6004727388935579}.\n"
     ]
    },
    {
     "name": "stdout",
     "output_type": "stream",
     "text": [
      "[w_lr, w_lda, w_sv, w_xgb, w_lgbm,w_cb ] =  [0.033 0.    0.695 0.094 0.048 0.    0.57 ]\n",
      "AUC all:  0.7902225979149056\n",
      "\n"
     ]
    },
    {
     "name": "stderr",
     "output_type": "stream",
     "text": [
      "[I 2019-08-24 12:09:01,353] Finished trial#323 resulted in value: -0.7902225979149056. Current best value is -0.794167371090448 with parameters: {'w_lr': 0.09033355084071595, 'w_sv': 0.6667439984503063, 'w_xgb': 0.11085542749886816, 'w_lgbm': 0.09393337360710555, 'w_mlp': 0.6004727388935579}.\n"
     ]
    },
    {
     "name": "stdout",
     "output_type": "stream",
     "text": [
      "[w_lr, w_lda, w_sv, w_xgb, w_lgbm,w_cb ] =  [0.117 0.    0.525 0.054 0.031 0.    0.63 ]\n",
      "AUC all:  0.7879684418145956\n",
      "\n"
     ]
    },
    {
     "name": "stderr",
     "output_type": "stream",
     "text": [
      "[I 2019-08-24 12:09:01,880] Finished trial#324 resulted in value: -0.7879684418145956. Current best value is -0.794167371090448 with parameters: {'w_lr': 0.09033355084071595, 'w_sv': 0.6667439984503063, 'w_xgb': 0.11085542749886816, 'w_lgbm': 0.09393337360710555, 'w_mlp': 0.6004727388935579}.\n"
     ]
    },
    {
     "name": "stdout",
     "output_type": "stream",
     "text": [
      "[w_lr, w_lda, w_sv, w_xgb, w_lgbm,w_cb ] =  [0.002 0.    0.498 0.072 0.088 0.    0.598]\n",
      "AUC all:  0.7934629473091012\n",
      "\n"
     ]
    },
    {
     "name": "stderr",
     "output_type": "stream",
     "text": [
      "[I 2019-08-24 12:09:02,405] Finished trial#325 resulted in value: -0.7934629473091012. Current best value is -0.794167371090448 with parameters: {'w_lr': 0.09033355084071595, 'w_sv': 0.6667439984503063, 'w_xgb': 0.11085542749886816, 'w_lgbm': 0.09393337360710555, 'w_mlp': 0.6004727388935579}.\n"
     ]
    },
    {
     "name": "stdout",
     "output_type": "stream",
     "text": [
      "[w_lr, w_lda, w_sv, w_xgb, w_lgbm,w_cb ] =  [0.005 0.    0.522 0.024 0.07  0.    0.593]\n",
      "AUC all:  0.7920540997464074\n",
      "\n"
     ]
    },
    {
     "name": "stderr",
     "output_type": "stream",
     "text": [
      "[I 2019-08-24 12:09:02,919] Finished trial#326 resulted in value: -0.7920540997464074. Current best value is -0.794167371090448 with parameters: {'w_lr': 0.09033355084071595, 'w_sv': 0.6667439984503063, 'w_xgb': 0.11085542749886816, 'w_lgbm': 0.09393337360710555, 'w_mlp': 0.6004727388935579}.\n"
     ]
    },
    {
     "name": "stdout",
     "output_type": "stream",
     "text": [
      "[w_lr, w_lda, w_sv, w_xgb, w_lgbm,w_cb ] =  [0.017 0.    0.508 0.126 0.117 0.    0.633]\n",
      "AUC all:  0.793462947309101\n",
      "\n"
     ]
    },
    {
     "name": "stderr",
     "output_type": "stream",
     "text": [
      "[I 2019-08-24 12:09:03,455] Finished trial#327 resulted in value: -0.793462947309101. Current best value is -0.794167371090448 with parameters: {'w_lr': 0.09033355084071595, 'w_sv': 0.6667439984503063, 'w_xgb': 0.11085542749886816, 'w_lgbm': 0.09393337360710555, 'w_mlp': 0.6004727388935579}.\n"
     ]
    },
    {
     "name": "stdout",
     "output_type": "stream",
     "text": [
      "[w_lr, w_lda, w_sv, w_xgb, w_lgbm,w_cb ] =  [0.005 0.    0.512 0.186 0.156 0.    0.549]\n",
      "AUC all:  0.7914905607213301\n",
      "\n"
     ]
    },
    {
     "name": "stderr",
     "output_type": "stream",
     "text": [
      "[I 2019-08-24 12:09:03,988] Finished trial#328 resulted in value: -0.7914905607213301. Current best value is -0.794167371090448 with parameters: {'w_lr': 0.09033355084071595, 'w_sv': 0.6667439984503063, 'w_xgb': 0.11085542749886816, 'w_lgbm': 0.09393337360710555, 'w_mlp': 0.6004727388935579}.\n"
     ]
    },
    {
     "name": "stdout",
     "output_type": "stream",
     "text": [
      "[w_lr, w_lda, w_sv, w_xgb, w_lgbm,w_cb ] =  [0.085 0.    0.495 0.158 0.132 0.    0.65 ]\n",
      "AUC all:  0.7923358692589462\n",
      "\n"
     ]
    },
    {
     "name": "stderr",
     "output_type": "stream",
     "text": [
      "[I 2019-08-24 12:09:04,530] Finished trial#329 resulted in value: -0.7923358692589462. Current best value is -0.794167371090448 with parameters: {'w_lr': 0.09033355084071595, 'w_sv': 0.6667439984503063, 'w_xgb': 0.11085542749886816, 'w_lgbm': 0.09393337360710555, 'w_mlp': 0.6004727388935579}.\n"
     ]
    },
    {
     "name": "stdout",
     "output_type": "stream",
     "text": [
      "[w_lr, w_lda, w_sv, w_xgb, w_lgbm,w_cb ] =  [0.048 0.    0.535 0.605 0.116 0.    0.605]\n",
      "AUC all:  0.7845872076641307\n",
      "\n"
     ]
    },
    {
     "name": "stderr",
     "output_type": "stream",
     "text": [
      "[I 2019-08-24 12:09:05,068] Finished trial#330 resulted in value: -0.7845872076641307. Current best value is -0.794167371090448 with parameters: {'w_lr': 0.09033355084071595, 'w_sv': 0.6667439984503063, 'w_xgb': 0.11085542749886816, 'w_lgbm': 0.09393337360710555, 'w_mlp': 0.6004727388935579}.\n"
     ]
    },
    {
     "name": "stdout",
     "output_type": "stream",
     "text": [
      "[w_lr, w_lda, w_sv, w_xgb, w_lgbm,w_cb ] =  [0.013 0.    0.49  0.066 0.107 0.    0.674]\n",
      "AUC all:  0.7919132149901381\n",
      "\n"
     ]
    },
    {
     "name": "stderr",
     "output_type": "stream",
     "text": [
      "[I 2019-08-24 12:09:05,614] Finished trial#331 resulted in value: -0.7919132149901381. Current best value is -0.794167371090448 with parameters: {'w_lr': 0.09033355084071595, 'w_sv': 0.6667439984503063, 'w_xgb': 0.11085542749886816, 'w_lgbm': 0.09393337360710555, 'w_mlp': 0.6004727388935579}.\n"
     ]
    },
    {
     "name": "stdout",
     "output_type": "stream",
     "text": [
      "[w_lr, w_lda, w_sv, w_xgb, w_lgbm,w_cb ] =  [0.    0.    0.491 0.04  0.09  0.    0.692]\n",
      "AUC all:  0.7923358692589461\n",
      "\n"
     ]
    },
    {
     "name": "stderr",
     "output_type": "stream",
     "text": [
      "[I 2019-08-24 12:09:06,151] Finished trial#332 resulted in value: -0.7923358692589461. Current best value is -0.794167371090448 with parameters: {'w_lr': 0.09033355084071595, 'w_sv': 0.6667439984503063, 'w_xgb': 0.11085542749886816, 'w_lgbm': 0.09393337360710555, 'w_mlp': 0.6004727388935579}.\n"
     ]
    },
    {
     "name": "stdout",
     "output_type": "stream",
     "text": [
      "[w_lr, w_lda, w_sv, w_xgb, w_lgbm,w_cb ] =  [0.027 0.    0.557 0.123 0.125 0.    0.631]\n",
      "AUC all:  0.7931811777965624\n",
      "\n"
     ]
    },
    {
     "name": "stderr",
     "output_type": "stream",
     "text": [
      "[I 2019-08-24 12:09:06,690] Finished trial#333 resulted in value: -0.7931811777965624. Current best value is -0.794167371090448 with parameters: {'w_lr': 0.09033355084071595, 'w_sv': 0.6667439984503063, 'w_xgb': 0.11085542749886816, 'w_lgbm': 0.09393337360710555, 'w_mlp': 0.6004727388935579}.\n"
     ]
    },
    {
     "name": "stdout",
     "output_type": "stream",
     "text": [
      "[w_lr, w_lda, w_sv, w_xgb, w_lgbm,w_cb ] =  [0.065 0.    0.672 0.098 0.053 0.    0.578]\n",
      "AUC all:  0.789659058889828\n",
      "\n"
     ]
    },
    {
     "name": "stderr",
     "output_type": "stream",
     "text": [
      "[I 2019-08-24 12:09:07,230] Finished trial#334 resulted in value: -0.789659058889828. Current best value is -0.794167371090448 with parameters: {'w_lr': 0.09033355084071595, 'w_sv': 0.6667439984503063, 'w_xgb': 0.11085542749886816, 'w_lgbm': 0.09393337360710555, 'w_mlp': 0.6004727388935579}.\n"
     ]
    },
    {
     "name": "stdout",
     "output_type": "stream",
     "text": [
      "[w_lr, w_lda, w_sv, w_xgb, w_lgbm,w_cb ] =  [0.026 0.    0.59  0.137 0.143 0.    0.656]\n",
      "AUC all:  0.7924767540152157\n",
      "\n"
     ]
    },
    {
     "name": "stderr",
     "output_type": "stream",
     "text": [
      "[I 2019-08-24 12:09:07,762] Finished trial#335 resulted in value: -0.7924767540152157. Current best value is -0.794167371090448 with parameters: {'w_lr': 0.09033355084071595, 'w_sv': 0.6667439984503063, 'w_xgb': 0.11085542749886816, 'w_lgbm': 0.09393337360710555, 'w_mlp': 0.6004727388935579}.\n"
     ]
    },
    {
     "name": "stdout",
     "output_type": "stream",
     "text": [
      "[w_lr, w_lda, w_sv, w_xgb, w_lgbm,w_cb ] =  [0.002 0.    0.604 0.154 0.1   0.    0.64 ]\n",
      "AUC all:  0.7928994082840237\n",
      "\n"
     ]
    },
    {
     "name": "stderr",
     "output_type": "stream",
     "text": [
      "[I 2019-08-24 12:09:08,296] Finished trial#336 resulted in value: -0.7928994082840237. Current best value is -0.794167371090448 with parameters: {'w_lr': 0.09033355084071595, 'w_sv': 0.6667439984503063, 'w_xgb': 0.11085542749886816, 'w_lgbm': 0.09393337360710555, 'w_mlp': 0.6004727388935579}.\n"
     ]
    },
    {
     "name": "stdout",
     "output_type": "stream",
     "text": [
      "[w_lr, w_lda, w_sv, w_xgb, w_lgbm,w_cb ] =  [0.037 0.    0.455 0.12  0.166 0.    0.613]\n",
      "AUC all:  0.7916314454775993\n",
      "\n"
     ]
    },
    {
     "name": "stderr",
     "output_type": "stream",
     "text": [
      "[I 2019-08-24 12:09:08,830] Finished trial#337 resulted in value: -0.7916314454775993. Current best value is -0.794167371090448 with parameters: {'w_lr': 0.09033355084071595, 'w_sv': 0.6667439984503063, 'w_xgb': 0.11085542749886816, 'w_lgbm': 0.09393337360710555, 'w_mlp': 0.6004727388935579}.\n"
     ]
    },
    {
     "name": "stdout",
     "output_type": "stream",
     "text": [
      "[w_lr, w_lda, w_sv, w_xgb, w_lgbm,w_cb ] =  [0.053 0.    0.568 0.071 0.076 0.    0.585]\n",
      "AUC all:  0.7924767540152156\n",
      "\n"
     ]
    },
    {
     "name": "stderr",
     "output_type": "stream",
     "text": [
      "[I 2019-08-24 12:09:09,364] Finished trial#338 resulted in value: -0.7924767540152156. Current best value is -0.794167371090448 with parameters: {'w_lr': 0.09033355084071595, 'w_sv': 0.6667439984503063, 'w_xgb': 0.11085542749886816, 'w_lgbm': 0.09393337360710555, 'w_mlp': 0.6004727388935579}.\n"
     ]
    },
    {
     "name": "stdout",
     "output_type": "stream",
     "text": [
      "[w_lr, w_lda, w_sv, w_xgb, w_lgbm,w_cb ] =  [0.087 0.    0.506 0.096 0.067 0.    0.612]\n",
      "AUC all:  0.7903634826711751\n",
      "\n"
     ]
    },
    {
     "name": "stderr",
     "output_type": "stream",
     "text": [
      "[I 2019-08-24 12:09:09,895] Finished trial#339 resulted in value: -0.7903634826711751. Current best value is -0.794167371090448 with parameters: {'w_lr': 0.09033355084071595, 'w_sv': 0.6667439984503063, 'w_xgb': 0.11085542749886816, 'w_lgbm': 0.09393337360710555, 'w_mlp': 0.6004727388935579}.\n"
     ]
    },
    {
     "name": "stdout",
     "output_type": "stream",
     "text": [
      "[w_lr, w_lda, w_sv, w_xgb, w_lgbm,w_cb ] =  [0.001 0.    0.614 0.129 0.116 0.    0.638]\n",
      "AUC all:  0.793462947309101\n",
      "\n"
     ]
    },
    {
     "name": "stderr",
     "output_type": "stream",
     "text": [
      "[I 2019-08-24 12:09:10,449] Finished trial#340 resulted in value: -0.793462947309101. Current best value is -0.794167371090448 with parameters: {'w_lr': 0.09033355084071595, 'w_sv': 0.6667439984503063, 'w_xgb': 0.11085542749886816, 'w_lgbm': 0.09393337360710555, 'w_mlp': 0.6004727388935579}.\n"
     ]
    },
    {
     "name": "stdout",
     "output_type": "stream",
     "text": [
      "[w_lr, w_lda, w_sv, w_xgb, w_lgbm,w_cb ] =  [0.013 0.    0.66  0.634 0.377 0.    0.668]\n",
      "AUC all:  0.7883910960834037\n",
      "\n"
     ]
    },
    {
     "name": "stderr",
     "output_type": "stream",
     "text": [
      "[I 2019-08-24 12:09:10,999] Finished trial#341 resulted in value: -0.7883910960834037. Current best value is -0.794167371090448 with parameters: {'w_lr': 0.09033355084071595, 'w_sv': 0.6667439984503063, 'w_xgb': 0.11085542749886816, 'w_lgbm': 0.09393337360710555, 'w_mlp': 0.6004727388935579}.\n"
     ]
    },
    {
     "name": "stdout",
     "output_type": "stream",
     "text": [
      "[w_lr, w_lda, w_sv, w_xgb, w_lgbm,w_cb ] =  [0.002 0.    0.611 0.18  0.131 0.    0.653]\n",
      "AUC all:  0.7919132149901381\n",
      "\n"
     ]
    },
    {
     "name": "stderr",
     "output_type": "stream",
     "text": [
      "[I 2019-08-24 12:09:11,554] Finished trial#342 resulted in value: -0.7919132149901381. Current best value is -0.794167371090448 with parameters: {'w_lr': 0.09033355084071595, 'w_sv': 0.6667439984503063, 'w_xgb': 0.11085542749886816, 'w_lgbm': 0.09393337360710555, 'w_mlp': 0.6004727388935579}.\n"
     ]
    },
    {
     "name": "stdout",
     "output_type": "stream",
     "text": [
      "[w_lr, w_lda, w_sv, w_xgb, w_lgbm,w_cb ] =  [0.002 0.    0.583 0.145 0.407 0.    0.632]\n",
      "AUC all:  0.7837418991265144\n",
      "\n"
     ]
    },
    {
     "name": "stderr",
     "output_type": "stream",
     "text": [
      "[I 2019-08-24 12:09:12,110] Finished trial#343 resulted in value: -0.7837418991265144. Current best value is -0.794167371090448 with parameters: {'w_lr': 0.09033355084071595, 'w_sv': 0.6667439984503063, 'w_xgb': 0.11085542749886816, 'w_lgbm': 0.09393337360710555, 'w_mlp': 0.6004727388935579}.\n"
     ]
    },
    {
     "name": "stdout",
     "output_type": "stream",
     "text": [
      "[w_lr, w_lda, w_sv, w_xgb, w_lgbm,w_cb ] =  [0.023 0.    0.625 0.133 0.116 0.    0.682]\n",
      "AUC all:  0.7928994082840236\n",
      "\n"
     ]
    },
    {
     "name": "stderr",
     "output_type": "stream",
     "text": [
      "[I 2019-08-24 12:09:12,653] Finished trial#344 resulted in value: -0.7928994082840236. Current best value is -0.794167371090448 with parameters: {'w_lr': 0.09033355084071595, 'w_sv': 0.6667439984503063, 'w_xgb': 0.11085542749886816, 'w_lgbm': 0.09393337360710555, 'w_mlp': 0.6004727388935579}.\n"
     ]
    },
    {
     "name": "stdout",
     "output_type": "stream",
     "text": [
      "[w_lr, w_lda, w_sv, w_xgb, w_lgbm,w_cb ] =  [0.041 0.    0.648 0.114 0.013 0.    0.645]\n",
      "AUC all:  0.7803606649760496\n",
      "\n"
     ]
    },
    {
     "name": "stderr",
     "output_type": "stream",
     "text": [
      "[I 2019-08-24 12:09:13,204] Finished trial#345 resulted in value: -0.7803606649760496. Current best value is -0.794167371090448 with parameters: {'w_lr': 0.09033355084071595, 'w_sv': 0.6667439984503063, 'w_xgb': 0.11085542749886816, 'w_lgbm': 0.09393337360710555, 'w_mlp': 0.6004727388935579}.\n"
     ]
    },
    {
     "name": "stdout",
     "output_type": "stream",
     "text": [
      "[w_lr, w_lda, w_sv, w_xgb, w_lgbm,w_cb ] =  [0.053 0.    0.635 0.082 0.093 0.    0.6  ]\n",
      "AUC all:  0.7933220625528317\n",
      "\n"
     ]
    },
    {
     "name": "stderr",
     "output_type": "stream",
     "text": [
      "[I 2019-08-24 12:09:13,766] Finished trial#346 resulted in value: -0.7933220625528317. Current best value is -0.794167371090448 with parameters: {'w_lr': 0.09033355084071595, 'w_sv': 0.6667439984503063, 'w_xgb': 0.11085542749886816, 'w_lgbm': 0.09393337360710555, 'w_mlp': 0.6004727388935579}.\n"
     ]
    },
    {
     "name": "stdout",
     "output_type": "stream",
     "text": [
      "[w_lr, w_lda, w_sv, w_xgb, w_lgbm,w_cb ] =  [0.034 0.    0.594 0.04  0.044 0.    0.563]\n",
      "AUC all:  0.7917723302338687\n",
      "\n"
     ]
    },
    {
     "name": "stderr",
     "output_type": "stream",
     "text": [
      "[I 2019-08-24 12:09:14,325] Finished trial#347 resulted in value: -0.7917723302338687. Current best value is -0.794167371090448 with parameters: {'w_lr': 0.09033355084071595, 'w_sv': 0.6667439984503063, 'w_xgb': 0.11085542749886816, 'w_lgbm': 0.09393337360710555, 'w_mlp': 0.6004727388935579}.\n"
     ]
    },
    {
     "name": "stdout",
     "output_type": "stream",
     "text": [
      "[w_lr, w_lda, w_sv, w_xgb, w_lgbm,w_cb ] =  [0.075 0.    0.536 0.164 0.115 0.    0.708]\n",
      "AUC all:  0.7927585235277543\n",
      "\n"
     ]
    },
    {
     "name": "stderr",
     "output_type": "stream",
     "text": [
      "[I 2019-08-24 12:09:14,883] Finished trial#348 resulted in value: -0.7927585235277543. Current best value is -0.794167371090448 with parameters: {'w_lr': 0.09033355084071595, 'w_sv': 0.6667439984503063, 'w_xgb': 0.11085542749886816, 'w_lgbm': 0.09393337360710555, 'w_mlp': 0.6004727388935579}.\n"
     ]
    },
    {
     "name": "stdout",
     "output_type": "stream",
     "text": [
      "[w_lr, w_lda, w_sv, w_xgb, w_lgbm,w_cb ] =  [0.019 0.    0.613 0.207 0.151 0.    0.632]\n",
      "AUC all:  0.7912087912087913\n",
      "\n"
     ]
    },
    {
     "name": "stderr",
     "output_type": "stream",
     "text": [
      "[I 2019-08-24 12:09:15,437] Finished trial#349 resulted in value: -0.7912087912087913. Current best value is -0.794167371090448 with parameters: {'w_lr': 0.09033355084071595, 'w_sv': 0.6667439984503063, 'w_xgb': 0.11085542749886816, 'w_lgbm': 0.09393337360710555, 'w_mlp': 0.6004727388935579}.\n"
     ]
    },
    {
     "name": "stdout",
     "output_type": "stream",
     "text": [
      "[w_lr, w_lda, w_sv, w_xgb, w_lgbm,w_cb ] =  [0.016 0.    0.625 0.132 0.132 0.    0.666]\n",
      "AUC all:  0.7933220625528317\n",
      "\n"
     ]
    },
    {
     "name": "stderr",
     "output_type": "stream",
     "text": [
      "[I 2019-08-24 12:09:16,001] Finished trial#350 resulted in value: -0.7933220625528317. Current best value is -0.794167371090448 with parameters: {'w_lr': 0.09033355084071595, 'w_sv': 0.6667439984503063, 'w_xgb': 0.11085542749886816, 'w_lgbm': 0.09393337360710555, 'w_mlp': 0.6004727388935579}.\n"
     ]
    },
    {
     "name": "stdout",
     "output_type": "stream",
     "text": [
      "[w_lr, w_lda, w_sv, w_xgb, w_lgbm,w_cb ] =  [0.067 0.    0.703 0.106 0.097 0.    0.616]\n",
      "AUC all:  0.7931811777965623\n",
      "\n"
     ]
    },
    {
     "name": "stderr",
     "output_type": "stream",
     "text": [
      "[I 2019-08-24 12:09:16,565] Finished trial#351 resulted in value: -0.7931811777965623. Current best value is -0.794167371090448 with parameters: {'w_lr': 0.09033355084071595, 'w_sv': 0.6667439984503063, 'w_xgb': 0.11085542749886816, 'w_lgbm': 0.09393337360710555, 'w_mlp': 0.6004727388935579}.\n"
     ]
    },
    {
     "name": "stdout",
     "output_type": "stream",
     "text": [
      "[w_lr, w_lda, w_sv, w_xgb, w_lgbm,w_cb ] =  [0.003 0.    0.55  0.154 0.11  0.    0.642]\n",
      "AUC all:  0.7924767540152154\n",
      "\n"
     ]
    },
    {
     "name": "stderr",
     "output_type": "stream",
     "text": [
      "[I 2019-08-24 12:09:17,114] Finished trial#352 resulted in value: -0.7924767540152154. Current best value is -0.794167371090448 with parameters: {'w_lr': 0.09033355084071595, 'w_sv': 0.6667439984503063, 'w_xgb': 0.11085542749886816, 'w_lgbm': 0.09393337360710555, 'w_mlp': 0.6004727388935579}.\n"
     ]
    },
    {
     "name": "stdout",
     "output_type": "stream",
     "text": [
      "[w_lr, w_lda, w_sv, w_xgb, w_lgbm,w_cb ] =  [0.043 0.    0.685 0.535 0.074 0.    0.621]\n",
      "AUC all:  0.7792335869258945\n",
      "\n"
     ]
    },
    {
     "name": "stderr",
     "output_type": "stream",
     "text": [
      "[I 2019-08-24 12:09:17,670] Finished trial#353 resulted in value: -0.7792335869258945. Current best value is -0.794167371090448 with parameters: {'w_lr': 0.09033355084071595, 'w_sv': 0.6667439984503063, 'w_xgb': 0.11085542749886816, 'w_lgbm': 0.09393337360710555, 'w_mlp': 0.6004727388935579}.\n"
     ]
    },
    {
     "name": "stdout",
     "output_type": "stream",
     "text": [
      "[w_lr, w_lda, w_sv, w_xgb, w_lgbm,w_cb ] =  [0.104 0.    0.578 0.053 0.058 0.    0.587]\n",
      "AUC all:  0.7919132149901381\n",
      "\n"
     ]
    },
    {
     "name": "stderr",
     "output_type": "stream",
     "text": [
      "[I 2019-08-24 12:09:18,225] Finished trial#354 resulted in value: -0.7919132149901381. Current best value is -0.794167371090448 with parameters: {'w_lr': 0.09033355084071595, 'w_sv': 0.6667439984503063, 'w_xgb': 0.11085542749886816, 'w_lgbm': 0.09393337360710555, 'w_mlp': 0.6004727388935579}.\n"
     ]
    },
    {
     "name": "stdout",
     "output_type": "stream",
     "text": [
      "[w_lr, w_lda, w_sv, w_xgb, w_lgbm,w_cb ] =  [0.03  0.    0.636 0.122 0.178 0.    0.654]\n",
      "AUC all:  0.7916314454775992\n",
      "\n"
     ]
    },
    {
     "name": "stderr",
     "output_type": "stream",
     "text": [
      "[I 2019-08-24 12:09:18,808] Finished trial#355 resulted in value: -0.7916314454775992. Current best value is -0.794167371090448 with parameters: {'w_lr': 0.09033355084071595, 'w_sv': 0.6667439984503063, 'w_xgb': 0.11085542749886816, 'w_lgbm': 0.09393337360710555, 'w_mlp': 0.6004727388935579}.\n"
     ]
    },
    {
     "name": "stdout",
     "output_type": "stream",
     "text": [
      "[w_lr, w_lda, w_sv, w_xgb, w_lgbm,w_cb ] =  [0.018 0.    0.6   0.141 0.138 0.    0.681]\n",
      "AUC all:  0.7933220625528317\n",
      "\n"
     ]
    },
    {
     "name": "stderr",
     "output_type": "stream",
     "text": [
      "[I 2019-08-24 12:09:19,377] Finished trial#356 resulted in value: -0.7933220625528317. Current best value is -0.794167371090448 with parameters: {'w_lr': 0.09033355084071595, 'w_sv': 0.6667439984503063, 'w_xgb': 0.11085542749886816, 'w_lgbm': 0.09393337360710555, 'w_mlp': 0.6004727388935579}.\n"
     ]
    },
    {
     "name": "stdout",
     "output_type": "stream",
     "text": [
      "[w_lr, w_lda, w_sv, w_xgb, w_lgbm,w_cb ] =  [0.061 0.    0.754 0.084 0.088 0.    0.568]\n",
      "AUC all:  0.793040293040293\n",
      "\n"
     ]
    },
    {
     "name": "stderr",
     "output_type": "stream",
     "text": [
      "[I 2019-08-24 12:09:19,955] Finished trial#357 resulted in value: -0.793040293040293. Current best value is -0.794167371090448 with parameters: {'w_lr': 0.09033355084071595, 'w_sv': 0.6667439984503063, 'w_xgb': 0.11085542749886816, 'w_lgbm': 0.09393337360710555, 'w_mlp': 0.6004727388935579}.\n"
     ]
    },
    {
     "name": "stdout",
     "output_type": "stream",
     "text": [
      "[w_lr, w_lda, w_sv, w_xgb, w_lgbm,w_cb ] =  [0.049 0.    0.677 0.343 0.026 0.    0.542]\n",
      "AUC all:  0.7750070442378134\n",
      "\n"
     ]
    },
    {
     "name": "stderr",
     "output_type": "stream",
     "text": [
      "[I 2019-08-24 12:09:20,525] Finished trial#358 resulted in value: -0.7750070442378134. Current best value is -0.794167371090448 with parameters: {'w_lr': 0.09033355084071595, 'w_sv': 0.6667439984503063, 'w_xgb': 0.11085542749886816, 'w_lgbm': 0.09393337360710555, 'w_mlp': 0.6004727388935579}.\n"
     ]
    },
    {
     "name": "stdout",
     "output_type": "stream",
     "text": [
      "[w_lr, w_lda, w_sv, w_xgb, w_lgbm,w_cb ] =  [0.001 0.    0.661 0.281 0.091 0.    0.602]\n",
      "AUC all:  0.7883910960834037\n",
      "\n"
     ]
    },
    {
     "name": "stderr",
     "output_type": "stream",
     "text": [
      "[I 2019-08-24 12:09:21,090] Finished trial#359 resulted in value: -0.7883910960834037. Current best value is -0.794167371090448 with parameters: {'w_lr': 0.09033355084071595, 'w_sv': 0.6667439984503063, 'w_xgb': 0.11085542749886816, 'w_lgbm': 0.09393337360710555, 'w_mlp': 0.6004727388935579}.\n"
     ]
    },
    {
     "name": "stdout",
     "output_type": "stream",
     "text": [
      "[w_lr, w_lda, w_sv, w_xgb, w_lgbm,w_cb ] =  [0.08  0.    0.567 0.069 0.065 0.    0.741]\n",
      "AUC all:  0.7913496759650606\n",
      "\n"
     ]
    },
    {
     "name": "stderr",
     "output_type": "stream",
     "text": [
      "[I 2019-08-24 12:09:21,652] Finished trial#360 resulted in value: -0.7913496759650606. Current best value is -0.794167371090448 with parameters: {'w_lr': 0.09033355084071595, 'w_sv': 0.6667439984503063, 'w_xgb': 0.11085542749886816, 'w_lgbm': 0.09393337360710555, 'w_mlp': 0.6004727388935579}.\n"
     ]
    },
    {
     "name": "stdout",
     "output_type": "stream",
     "text": [
      "[w_lr, w_lda, w_sv, w_xgb, w_lgbm,w_cb ] =  [0.119 0.    0.648 0.106 0.117 0.    0.63 ]\n",
      "AUC all:  0.7924767540152156\n",
      "\n"
     ]
    },
    {
     "name": "stderr",
     "output_type": "stream",
     "text": [
      "[I 2019-08-24 12:09:22,215] Finished trial#361 resulted in value: -0.7924767540152156. Current best value is -0.794167371090448 with parameters: {'w_lr': 0.09033355084071595, 'w_sv': 0.6667439984503063, 'w_xgb': 0.11085542749886816, 'w_lgbm': 0.09393337360710555, 'w_mlp': 0.6004727388935579}.\n"
     ]
    },
    {
     "name": "stdout",
     "output_type": "stream",
     "text": [
      "[w_lr, w_lda, w_sv, w_xgb, w_lgbm,w_cb ] =  [0.038 0.    0.424 0.094 0.107 0.    0.598]\n",
      "AUC all:  0.792617638771485\n",
      "\n"
     ]
    },
    {
     "name": "stderr",
     "output_type": "stream",
     "text": [
      "[I 2019-08-24 12:09:22,795] Finished trial#362 resulted in value: -0.792617638771485. Current best value is -0.794167371090448 with parameters: {'w_lr': 0.09033355084071595, 'w_sv': 0.6667439984503063, 'w_xgb': 0.11085542749886816, 'w_lgbm': 0.09393337360710555, 'w_mlp': 0.6004727388935579}.\n"
     ]
    },
    {
     "name": "stdout",
     "output_type": "stream",
     "text": [
      "[w_lr, w_lda, w_sv, w_xgb, w_lgbm,w_cb ] =  [0.    0.    0.622 0.176 0.155 0.    0.661]\n",
      "AUC all:  0.791913214990138\n",
      "\n"
     ]
    },
    {
     "name": "stderr",
     "output_type": "stream",
     "text": [
      "[I 2019-08-24 12:09:23,359] Finished trial#363 resulted in value: -0.791913214990138. Current best value is -0.794167371090448 with parameters: {'w_lr': 0.09033355084071595, 'w_sv': 0.6667439984503063, 'w_xgb': 0.11085542749886816, 'w_lgbm': 0.09393337360710555, 'w_mlp': 0.6004727388935579}.\n"
     ]
    },
    {
     "name": "stdout",
     "output_type": "stream",
     "text": [
      "[w_lr, w_lda, w_sv, w_xgb, w_lgbm,w_cb ] =  [0.024 0.    0.61  0.125 0.118 0.    0.227]\n",
      "AUC all:  0.7906452521837137\n",
      "\n"
     ]
    },
    {
     "name": "stderr",
     "output_type": "stream",
     "text": [
      "[I 2019-08-24 12:09:23,941] Finished trial#364 resulted in value: -0.7906452521837137. Current best value is -0.794167371090448 with parameters: {'w_lr': 0.09033355084071595, 'w_sv': 0.6667439984503063, 'w_xgb': 0.11085542749886816, 'w_lgbm': 0.09393337360710555, 'w_mlp': 0.6004727388935579}.\n"
     ]
    },
    {
     "name": "stdout",
     "output_type": "stream",
     "text": [
      "[w_lr, w_lda, w_sv, w_xgb, w_lgbm,w_cb ] =  [0.405 0.    0.859 0.028 0.079 0.    0.583]\n",
      "AUC all:  0.7931811777965623\n",
      "\n"
     ]
    },
    {
     "name": "stderr",
     "output_type": "stream",
     "text": [
      "[I 2019-08-24 12:09:24,516] Finished trial#365 resulted in value: -0.7931811777965623. Current best value is -0.794167371090448 with parameters: {'w_lr': 0.09033355084071595, 'w_sv': 0.6667439984503063, 'w_xgb': 0.11085542749886816, 'w_lgbm': 0.09393337360710555, 'w_mlp': 0.6004727388935579}.\n"
     ]
    },
    {
     "name": "stdout",
     "output_type": "stream",
     "text": [
      "[w_lr, w_lda, w_sv, w_xgb, w_lgbm,w_cb ] =  [0.001 0.    0.594 0.149 0.139 0.    0.694]\n",
      "AUC all:  0.7934629473091012\n",
      "\n"
     ]
    },
    {
     "name": "stderr",
     "output_type": "stream",
     "text": [
      "[I 2019-08-24 12:09:25,096] Finished trial#366 resulted in value: -0.7934629473091012. Current best value is -0.794167371090448 with parameters: {'w_lr': 0.09033355084071595, 'w_sv': 0.6667439984503063, 'w_xgb': 0.11085542749886816, 'w_lgbm': 0.09393337360710555, 'w_mlp': 0.6004727388935579}.\n"
     ]
    },
    {
     "name": "stdout",
     "output_type": "stream",
     "text": [
      "[w_lr, w_lda, w_sv, w_xgb, w_lgbm,w_cb ] =  [0.041 0.    0.581 0.16  0.202 0.    0.718]\n",
      "AUC all:  0.7917723302338687\n",
      "\n"
     ]
    },
    {
     "name": "stderr",
     "output_type": "stream",
     "text": [
      "[I 2019-08-24 12:09:25,684] Finished trial#367 resulted in value: -0.7917723302338687. Current best value is -0.794167371090448 with parameters: {'w_lr': 0.09033355084071595, 'w_sv': 0.6667439984503063, 'w_xgb': 0.11085542749886816, 'w_lgbm': 0.09393337360710555, 'w_mlp': 0.6004727388935579}.\n"
     ]
    },
    {
     "name": "stdout",
     "output_type": "stream",
     "text": [
      "[w_lr, w_lda, w_sv, w_xgb, w_lgbm,w_cb ] =  [0.    0.    0.555 0.147 0.142 0.    0.775]\n",
      "AUC all:  0.793462947309101\n",
      "\n"
     ]
    },
    {
     "name": "stderr",
     "output_type": "stream",
     "text": [
      "[I 2019-08-24 12:09:26,272] Finished trial#368 resulted in value: -0.793462947309101. Current best value is -0.794167371090448 with parameters: {'w_lr': 0.09033355084071595, 'w_sv': 0.6667439984503063, 'w_xgb': 0.11085542749886816, 'w_lgbm': 0.09393337360710555, 'w_mlp': 0.6004727388935579}.\n"
     ]
    },
    {
     "name": "stdout",
     "output_type": "stream",
     "text": [
      "[w_lr, w_lda, w_sv, w_xgb, w_lgbm,w_cb ] =  [0.009 0.    0.52  0.177 0.17  0.    0.727]\n",
      "AUC all:  0.7917723302338686\n",
      "\n"
     ]
    },
    {
     "name": "stderr",
     "output_type": "stream",
     "text": [
      "[I 2019-08-24 12:09:26,861] Finished trial#369 resulted in value: -0.7917723302338686. Current best value is -0.794167371090448 with parameters: {'w_lr': 0.09033355084071595, 'w_sv': 0.6667439984503063, 'w_xgb': 0.11085542749886816, 'w_lgbm': 0.09393337360710555, 'w_mlp': 0.6004727388935579}.\n"
     ]
    },
    {
     "name": "stdout",
     "output_type": "stream",
     "text": [
      "[w_lr, w_lda, w_sv, w_xgb, w_lgbm,w_cb ] =  [0.001 0.    0.553 0.226 0.143 0.    0.693]\n",
      "AUC all:  0.7909270216962525\n",
      "\n"
     ]
    },
    {
     "name": "stderr",
     "output_type": "stream",
     "text": [
      "[I 2019-08-24 12:09:27,447] Finished trial#370 resulted in value: -0.7909270216962525. Current best value is -0.794167371090448 with parameters: {'w_lr': 0.09033355084071595, 'w_sv': 0.6667439984503063, 'w_xgb': 0.11085542749886816, 'w_lgbm': 0.09393337360710555, 'w_mlp': 0.6004727388935579}.\n"
     ]
    },
    {
     "name": "stdout",
     "output_type": "stream",
     "text": [
      "[w_lr, w_lda, w_sv, w_xgb, w_lgbm,w_cb ] =  [0.022 0.    0.479 0.149 0.155 0.    0.688]\n",
      "AUC all:  0.7921949845026768\n",
      "\n"
     ]
    },
    {
     "name": "stderr",
     "output_type": "stream",
     "text": [
      "[I 2019-08-24 12:09:28,035] Finished trial#371 resulted in value: -0.7921949845026768. Current best value is -0.794167371090448 with parameters: {'w_lr': 0.09033355084071595, 'w_sv': 0.6667439984503063, 'w_xgb': 0.11085542749886816, 'w_lgbm': 0.09393337360710555, 'w_mlp': 0.6004727388935579}.\n"
     ]
    },
    {
     "name": "stdout",
     "output_type": "stream",
     "text": [
      "[w_lr, w_lda, w_sv, w_xgb, w_lgbm,w_cb ] =  [0.001 0.    0.529 0.146 0.146 0.    0.668]\n",
      "AUC all:  0.792617638771485\n",
      "\n"
     ]
    },
    {
     "name": "stderr",
     "output_type": "stream",
     "text": [
      "[I 2019-08-24 12:09:28,629] Finished trial#372 resulted in value: -0.792617638771485. Current best value is -0.794167371090448 with parameters: {'w_lr': 0.09033355084071595, 'w_sv': 0.6667439984503063, 'w_xgb': 0.11085542749886816, 'w_lgbm': 0.09393337360710555, 'w_mlp': 0.6004727388935579}.\n"
     ]
    },
    {
     "name": "stdout",
     "output_type": "stream",
     "text": [
      "[w_lr, w_lda, w_sv, w_xgb, w_lgbm,w_cb ] =  [0.002 0.    0.58  0.194 0.131 0.    0.756]\n",
      "AUC all:  0.791913214990138\n",
      "\n"
     ]
    },
    {
     "name": "stderr",
     "output_type": "stream",
     "text": [
      "[I 2019-08-24 12:09:29,218] Finished trial#373 resulted in value: -0.791913214990138. Current best value is -0.794167371090448 with parameters: {'w_lr': 0.09033355084071595, 'w_sv': 0.6667439984503063, 'w_xgb': 0.11085542749886816, 'w_lgbm': 0.09393337360710555, 'w_mlp': 0.6004727388935579}.\n"
     ]
    },
    {
     "name": "stdout",
     "output_type": "stream",
     "text": [
      "[w_lr, w_lda, w_sv, w_xgb, w_lgbm,w_cb ] =  [0.032 0.    0.554 0.167 0.184 0.    0.763]\n",
      "AUC all:  0.7920540997464074\n",
      "\n"
     ]
    },
    {
     "name": "stderr",
     "output_type": "stream",
     "text": [
      "[I 2019-08-24 12:09:29,821] Finished trial#374 resulted in value: -0.7920540997464074. Current best value is -0.794167371090448 with parameters: {'w_lr': 0.09033355084071595, 'w_sv': 0.6667439984503063, 'w_xgb': 0.11085542749886816, 'w_lgbm': 0.09393337360710555, 'w_mlp': 0.6004727388935579}.\n"
     ]
    },
    {
     "name": "stdout",
     "output_type": "stream",
     "text": [
      "[w_lr, w_lda, w_sv, w_xgb, w_lgbm,w_cb ] =  [0.061 0.    0.591 0.123 0.127 0.    0.837]\n",
      "AUC all:  0.7933220625528318\n",
      "\n"
     ]
    },
    {
     "name": "stderr",
     "output_type": "stream",
     "text": [
      "[I 2019-08-24 12:09:30,403] Finished trial#375 resulted in value: -0.7933220625528318. Current best value is -0.794167371090448 with parameters: {'w_lr': 0.09033355084071595, 'w_sv': 0.6667439984503063, 'w_xgb': 0.11085542749886816, 'w_lgbm': 0.09393337360710555, 'w_mlp': 0.6004727388935579}.\n"
     ]
    },
    {
     "name": "stdout",
     "output_type": "stream",
     "text": [
      "[w_lr, w_lda, w_sv, w_xgb, w_lgbm,w_cb ] =  [0.023 0.    0.547 0.142 0.106 0.    0.644]\n",
      "AUC all:  0.7927585235277543\n",
      "\n"
     ]
    },
    {
     "name": "stderr",
     "output_type": "stream",
     "text": [
      "[I 2019-08-24 12:09:30,987] Finished trial#376 resulted in value: -0.7927585235277543. Current best value is -0.794167371090448 with parameters: {'w_lr': 0.09033355084071595, 'w_sv': 0.6667439984503063, 'w_xgb': 0.11085542749886816, 'w_lgbm': 0.09393337360710555, 'w_mlp': 0.6004727388935579}.\n"
     ]
    },
    {
     "name": "stdout",
     "output_type": "stream",
     "text": [
      "[w_lr, w_lda, w_sv, w_xgb, w_lgbm,w_cb ] =  [0.866 0.    0.569 0.114 0.129 0.    0.852]\n",
      "AUC all:  0.7927585235277542\n",
      "\n"
     ]
    },
    {
     "name": "stderr",
     "output_type": "stream",
     "text": [
      "[I 2019-08-24 12:09:31,581] Finished trial#377 resulted in value: -0.7927585235277542. Current best value is -0.794167371090448 with parameters: {'w_lr': 0.09033355084071595, 'w_sv': 0.6667439984503063, 'w_xgb': 0.11085542749886816, 'w_lgbm': 0.09393337360710555, 'w_mlp': 0.6004727388935579}.\n"
     ]
    },
    {
     "name": "stdout",
     "output_type": "stream",
     "text": [
      "[w_lr, w_lda, w_sv, w_xgb, w_lgbm,w_cb ] =  [0.038 0.    0.505 0.136 0.163 0.    0.704]\n",
      "AUC all:  0.7920540997464075\n",
      "\n"
     ]
    },
    {
     "name": "stderr",
     "output_type": "stream",
     "text": [
      "[I 2019-08-24 12:09:32,173] Finished trial#378 resulted in value: -0.7920540997464075. Current best value is -0.794167371090448 with parameters: {'w_lr': 0.09033355084071595, 'w_sv': 0.6667439984503063, 'w_xgb': 0.11085542749886816, 'w_lgbm': 0.09393337360710555, 'w_mlp': 0.6004727388935579}.\n"
     ]
    },
    {
     "name": "stdout",
     "output_type": "stream",
     "text": [
      "[w_lr, w_lda, w_sv, w_xgb, w_lgbm,w_cb ] =  [0.065 0.    0.6   0.161 0.105 0.    0.792]\n",
      "AUC all:  0.79149056072133\n",
      "\n"
     ]
    },
    {
     "name": "stderr",
     "output_type": "stream",
     "text": [
      "[I 2019-08-24 12:09:32,768] Finished trial#379 resulted in value: -0.79149056072133. Current best value is -0.794167371090448 with parameters: {'w_lr': 0.09033355084071595, 'w_sv': 0.6667439984503063, 'w_xgb': 0.11085542749886816, 'w_lgbm': 0.09393337360710555, 'w_mlp': 0.6004727388935579}.\n"
     ]
    },
    {
     "name": "stdout",
     "output_type": "stream",
     "text": [
      "[w_lr, w_lda, w_sv, w_xgb, w_lgbm,w_cb ] =  [0.018 0.    0.569 0.114 0.132 0.    0.638]\n",
      "AUC all:  0.792617638771485\n",
      "\n"
     ]
    },
    {
     "name": "stderr",
     "output_type": "stream",
     "text": [
      "[I 2019-08-24 12:09:33,361] Finished trial#380 resulted in value: -0.792617638771485. Current best value is -0.794167371090448 with parameters: {'w_lr': 0.09033355084071595, 'w_sv': 0.6667439984503063, 'w_xgb': 0.11085542749886816, 'w_lgbm': 0.09393337360710555, 'w_mlp': 0.6004727388935579}.\n"
     ]
    },
    {
     "name": "stdout",
     "output_type": "stream",
     "text": [
      "[w_lr, w_lda, w_sv, w_xgb, w_lgbm,w_cb ] =  [0.    0.    0.593 0.131 0.044 0.    0.668]\n",
      "AUC all:  0.7854325162017468\n",
      "\n"
     ]
    },
    {
     "name": "stderr",
     "output_type": "stream",
     "text": [
      "[I 2019-08-24 12:09:33,946] Finished trial#381 resulted in value: -0.7854325162017468. Current best value is -0.794167371090448 with parameters: {'w_lr': 0.09033355084071595, 'w_sv': 0.6667439984503063, 'w_xgb': 0.11085542749886816, 'w_lgbm': 0.09393337360710555, 'w_mlp': 0.6004727388935579}.\n"
     ]
    },
    {
     "name": "stdout",
     "output_type": "stream",
     "text": [
      "[w_lr, w_lda, w_sv, w_xgb, w_lgbm,w_cb ] =  [0.043 0.    0.532 0.087 0.061 0.    0.773]\n",
      "AUC all:  0.7900817131586362\n",
      "\n"
     ]
    },
    {
     "name": "stderr",
     "output_type": "stream",
     "text": [
      "[I 2019-08-24 12:09:34,529] Finished trial#382 resulted in value: -0.7900817131586362. Current best value is -0.794167371090448 with parameters: {'w_lr': 0.09033355084071595, 'w_sv': 0.6667439984503063, 'w_xgb': 0.11085542749886816, 'w_lgbm': 0.09393337360710555, 'w_mlp': 0.6004727388935579}.\n"
     ]
    },
    {
     "name": "stdout",
     "output_type": "stream",
     "text": [
      "[w_lr, w_lda, w_sv, w_xgb, w_lgbm,w_cb ] =  [0.094 0.    0.608 0.107 0.094 0.    0.623]\n",
      "AUC all:  0.7934629473091012\n",
      "\n"
     ]
    },
    {
     "name": "stderr",
     "output_type": "stream",
     "text": [
      "[I 2019-08-24 12:09:35,135] Finished trial#383 resulted in value: -0.7934629473091012. Current best value is -0.794167371090448 with parameters: {'w_lr': 0.09033355084071595, 'w_sv': 0.6667439984503063, 'w_xgb': 0.11085542749886816, 'w_lgbm': 0.09393337360710555, 'w_mlp': 0.6004727388935579}.\n"
     ]
    },
    {
     "name": "stdout",
     "output_type": "stream",
     "text": [
      "[w_lr, w_lda, w_sv, w_xgb, w_lgbm,w_cb ] =  [0.1   0.    0.605 0.198 0.115 0.    0.646]\n",
      "AUC all:  0.7907861369399831\n",
      "\n"
     ]
    },
    {
     "name": "stderr",
     "output_type": "stream",
     "text": [
      "[I 2019-08-24 12:09:35,727] Finished trial#384 resulted in value: -0.7907861369399831. Current best value is -0.794167371090448 with parameters: {'w_lr': 0.09033355084071595, 'w_sv': 0.6667439984503063, 'w_xgb': 0.11085542749886816, 'w_lgbm': 0.09393337360710555, 'w_mlp': 0.6004727388935579}.\n"
     ]
    },
    {
     "name": "stdout",
     "output_type": "stream",
     "text": [
      "[w_lr, w_lda, w_sv, w_xgb, w_lgbm,w_cb ] =  [0.087 0.    0.614 0.152 0.076 0.    0.703]\n",
      "AUC all:  0.7905043674274443\n",
      "\n"
     ]
    },
    {
     "name": "stderr",
     "output_type": "stream",
     "text": [
      "[I 2019-08-24 12:09:36,326] Finished trial#385 resulted in value: -0.7905043674274443. Current best value is -0.794167371090448 with parameters: {'w_lr': 0.09033355084071595, 'w_sv': 0.6667439984503063, 'w_xgb': 0.11085542749886816, 'w_lgbm': 0.09393337360710555, 'w_mlp': 0.6004727388935579}.\n"
     ]
    },
    {
     "name": "stdout",
     "output_type": "stream",
     "text": [
      "[w_lr, w_lda, w_sv, w_xgb, w_lgbm,w_cb ] =  [0.    0.    0.572 0.127 0.095 0.    0.622]\n",
      "AUC all:  0.7940264863341786\n",
      "\n"
     ]
    },
    {
     "name": "stderr",
     "output_type": "stream",
     "text": [
      "[I 2019-08-24 12:09:36,935] Finished trial#386 resulted in value: -0.7940264863341786. Current best value is -0.794167371090448 with parameters: {'w_lr': 0.09033355084071595, 'w_sv': 0.6667439984503063, 'w_xgb': 0.11085542749886816, 'w_lgbm': 0.09393337360710555, 'w_mlp': 0.6004727388935579}.\n"
     ]
    },
    {
     "name": "stdout",
     "output_type": "stream",
     "text": [
      "[w_lr, w_lda, w_sv, w_xgb, w_lgbm,w_cb ] =  [0.002 0.    0.566 0.18  0.146 0.    0.627]\n",
      "AUC all:  0.7920540997464074\n",
      "\n"
     ]
    },
    {
     "name": "stderr",
     "output_type": "stream",
     "text": [
      "[I 2019-08-24 12:09:37,532] Finished trial#387 resulted in value: -0.7920540997464074. Current best value is -0.794167371090448 with parameters: {'w_lr': 0.09033355084071595, 'w_sv': 0.6667439984503063, 'w_xgb': 0.11085542749886816, 'w_lgbm': 0.09393337360710555, 'w_mlp': 0.6004727388935579}.\n"
     ]
    },
    {
     "name": "stdout",
     "output_type": "stream",
     "text": [
      "[w_lr, w_lda, w_sv, w_xgb, w_lgbm,w_cb ] =  [0.019 0.    0.589 0.135 0.102 0.    0.659]\n",
      "AUC all:  0.7938856015779092\n",
      "\n"
     ]
    },
    {
     "name": "stderr",
     "output_type": "stream",
     "text": [
      "[I 2019-08-24 12:09:38,141] Finished trial#388 resulted in value: -0.7938856015779092. Current best value is -0.794167371090448 with parameters: {'w_lr': 0.09033355084071595, 'w_sv': 0.6667439984503063, 'w_xgb': 0.11085542749886816, 'w_lgbm': 0.09393337360710555, 'w_mlp': 0.6004727388935579}.\n"
     ]
    },
    {
     "name": "stdout",
     "output_type": "stream",
     "text": [
      "[w_lr, w_lda, w_sv, w_xgb, w_lgbm,w_cb ] =  [0.014 0.    0.586 0.12  0.12  0.    0.672]\n",
      "AUC all:  0.7936038320653706\n",
      "\n"
     ]
    },
    {
     "name": "stderr",
     "output_type": "stream",
     "text": [
      "[I 2019-08-24 12:09:38,744] Finished trial#389 resulted in value: -0.7936038320653706. Current best value is -0.794167371090448 with parameters: {'w_lr': 0.09033355084071595, 'w_sv': 0.6667439984503063, 'w_xgb': 0.11085542749886816, 'w_lgbm': 0.09393337360710555, 'w_mlp': 0.6004727388935579}.\n"
     ]
    },
    {
     "name": "stdout",
     "output_type": "stream",
     "text": [
      "[w_lr, w_lda, w_sv, w_xgb, w_lgbm,w_cb ] =  [0.005 0.    0.595 0.162 0.166 0.    0.685]\n",
      "AUC all:  0.79149056072133\n",
      "\n"
     ]
    },
    {
     "name": "stderr",
     "output_type": "stream",
     "text": [
      "[I 2019-08-24 12:09:39,352] Finished trial#390 resulted in value: -0.79149056072133. Current best value is -0.794167371090448 with parameters: {'w_lr': 0.09033355084071595, 'w_sv': 0.6667439984503063, 'w_xgb': 0.11085542749886816, 'w_lgbm': 0.09393337360710555, 'w_mlp': 0.6004727388935579}.\n"
     ]
    },
    {
     "name": "stdout",
     "output_type": "stream",
     "text": [
      "[w_lr, w_lda, w_sv, w_xgb, w_lgbm,w_cb ] =  [0.021 0.    0.582 0.115 0.119 0.    0.699]\n",
      "AUC all:  0.7927585235277542\n",
      "\n"
     ]
    },
    {
     "name": "stderr",
     "output_type": "stream",
     "text": [
      "[I 2019-08-24 12:09:39,969] Finished trial#391 resulted in value: -0.7927585235277542. Current best value is -0.794167371090448 with parameters: {'w_lr': 0.09033355084071595, 'w_sv': 0.6667439984503063, 'w_xgb': 0.11085542749886816, 'w_lgbm': 0.09393337360710555, 'w_mlp': 0.6004727388935579}.\n"
     ]
    },
    {
     "name": "stdout",
     "output_type": "stream",
     "text": [
      "[w_lr, w_lda, w_sv, w_xgb, w_lgbm,w_cb ] =  [0.001 0.    0.547 0.138 0.144 0.    0.914]\n",
      "AUC all:  0.792617638771485\n",
      "\n"
     ]
    },
    {
     "name": "stderr",
     "output_type": "stream",
     "text": [
      "[I 2019-08-24 12:09:40,587] Finished trial#392 resulted in value: -0.792617638771485. Current best value is -0.794167371090448 with parameters: {'w_lr': 0.09033355084071595, 'w_sv': 0.6667439984503063, 'w_xgb': 0.11085542749886816, 'w_lgbm': 0.09393337360710555, 'w_mlp': 0.6004727388935579}.\n"
     ]
    },
    {
     "name": "stdout",
     "output_type": "stream",
     "text": [
      "[w_lr, w_lda, w_sv, w_xgb, w_lgbm,w_cb ] =  [0.001 0.    0.585 0.148 0.132 0.    0.678]\n",
      "AUC all:  0.7933220625528318\n",
      "\n"
     ]
    },
    {
     "name": "stderr",
     "output_type": "stream",
     "text": [
      "[I 2019-08-24 12:09:41,202] Finished trial#393 resulted in value: -0.7933220625528318. Current best value is -0.794167371090448 with parameters: {'w_lr': 0.09033355084071595, 'w_sv': 0.6667439984503063, 'w_xgb': 0.11085542749886816, 'w_lgbm': 0.09393337360710555, 'w_mlp': 0.6004727388935579}.\n"
     ]
    },
    {
     "name": "stdout",
     "output_type": "stream",
     "text": [
      "[w_lr, w_lda, w_sv, w_xgb, w_lgbm,w_cb ] =  [0.024 0.    0.547 0.169 0.101 0.    0.723]\n",
      "AUC all:  0.7909270216962525\n",
      "\n"
     ]
    },
    {
     "name": "stderr",
     "output_type": "stream",
     "text": [
      "[I 2019-08-24 12:09:41,816] Finished trial#394 resulted in value: -0.7909270216962525. Current best value is -0.794167371090448 with parameters: {'w_lr': 0.09033355084071595, 'w_sv': 0.6667439984503063, 'w_xgb': 0.11085542749886816, 'w_lgbm': 0.09393337360710555, 'w_mlp': 0.6004727388935579}.\n"
     ]
    },
    {
     "name": "stdout",
     "output_type": "stream",
     "text": [
      "[w_lr, w_lda, w_sv, w_xgb, w_lgbm,w_cb ] =  [0.032 0.    0.577 0.129 0.105 0.    0.662]\n",
      "AUC all:  0.7943082558467174\n",
      "\n"
     ]
    },
    {
     "name": "stderr",
     "output_type": "stream",
     "text": [
      "[I 2019-08-24 12:09:42,433] Finished trial#395 resulted in value: -0.7943082558467174. Current best value is -0.7943082558467174 with parameters: {'w_lr': 0.03188777855097702, 'w_sv': 0.577373257538757, 'w_xgb': 0.12868607584601516, 'w_lgbm': 0.1053007910076171, 'w_mlp': 0.6623833317114562}.\n"
     ]
    },
    {
     "name": "stdout",
     "output_type": "stream",
     "text": [
      "[w_lr, w_lda, w_sv, w_xgb, w_lgbm,w_cb ] =  [0.614 0.    0.586 0.128 0.062 0.    0.667]\n",
      "AUC all:  0.7883910960834039\n",
      "\n"
     ]
    },
    {
     "name": "stderr",
     "output_type": "stream",
     "text": [
      "[I 2019-08-24 12:09:43,036] Finished trial#396 resulted in value: -0.7883910960834039. Current best value is -0.7943082558467174 with parameters: {'w_lr': 0.03188777855097702, 'w_sv': 0.577373257538757, 'w_xgb': 0.12868607584601516, 'w_lgbm': 0.1053007910076171, 'w_mlp': 0.6623833317114562}.\n"
     ]
    },
    {
     "name": "stdout",
     "output_type": "stream",
     "text": [
      "[w_lr, w_lda, w_sv, w_xgb, w_lgbm,w_cb ] =  [0.001 0.    0.564 0.15  0.099 0.    0.689]\n",
      "AUC all:  0.7920540997464074\n",
      "\n"
     ]
    },
    {
     "name": "stderr",
     "output_type": "stream",
     "text": [
      "[I 2019-08-24 12:09:43,644] Finished trial#397 resulted in value: -0.7920540997464074. Current best value is -0.7943082558467174 with parameters: {'w_lr': 0.03188777855097702, 'w_sv': 0.577373257538757, 'w_xgb': 0.12868607584601516, 'w_lgbm': 0.1053007910076171, 'w_mlp': 0.6623833317114562}.\n"
     ]
    },
    {
     "name": "stdout",
     "output_type": "stream",
     "text": [
      "[w_lr, w_lda, w_sv, w_xgb, w_lgbm,w_cb ] =  [0.036 0.    0.784 0.109 0.096 0.    0.662]\n",
      "AUC all:  0.7933220625528318\n",
      "\n"
     ]
    },
    {
     "name": "stderr",
     "output_type": "stream",
     "text": [
      "[I 2019-08-24 12:09:44,252] Finished trial#398 resulted in value: -0.7933220625528318. Current best value is -0.7943082558467174 with parameters: {'w_lr': 0.03188777855097702, 'w_sv': 0.577373257538757, 'w_xgb': 0.12868607584601516, 'w_lgbm': 0.1053007910076171, 'w_mlp': 0.6623833317114562}.\n"
     ]
    },
    {
     "name": "stdout",
     "output_type": "stream",
     "text": [
      "[w_lr, w_lda, w_sv, w_xgb, w_lgbm,w_cb ] =  [0.053 0.    0.607 0.069 0.037 0.    0.682]\n",
      "AUC all:  0.7885319808396732\n",
      "\n"
     ]
    },
    {
     "name": "stderr",
     "output_type": "stream",
     "text": [
      "[I 2019-08-24 12:09:44,862] Finished trial#399 resulted in value: -0.7885319808396732. Current best value is -0.7943082558467174 with parameters: {'w_lr': 0.03188777855097702, 'w_sv': 0.577373257538757, 'w_xgb': 0.12868607584601516, 'w_lgbm': 0.1053007910076171, 'w_mlp': 0.6623833317114562}.\n"
     ]
    },
    {
     "name": "stdout",
     "output_type": "stream",
     "text": [
      "[w_lr, w_lda, w_sv, w_xgb, w_lgbm,w_cb ] =  [0.077 0.    0.578 0.104 0.075 0.    0.023]\n",
      "AUC all:  0.7823330515638208\n",
      "\n"
     ]
    },
    {
     "name": "stderr",
     "output_type": "stream",
     "text": [
      "[I 2019-08-24 12:09:45,490] Finished trial#400 resulted in value: -0.7823330515638208. Current best value is -0.7943082558467174 with parameters: {'w_lr': 0.03188777855097702, 'w_sv': 0.577373257538757, 'w_xgb': 0.12868607584601516, 'w_lgbm': 0.1053007910076171, 'w_mlp': 0.6623833317114562}.\n"
     ]
    },
    {
     "name": "stdout",
     "output_type": "stream",
     "text": [
      "[w_lr, w_lda, w_sv, w_xgb, w_lgbm,w_cb ] =  [0.043 0.    0.626 0.091 0.082 0.    0.659]\n",
      "AUC all:  0.79149056072133\n",
      "\n"
     ]
    },
    {
     "name": "stderr",
     "output_type": "stream",
     "text": [
      "[I 2019-08-24 12:09:46,112] Finished trial#401 resulted in value: -0.79149056072133. Current best value is -0.7943082558467174 with parameters: {'w_lr': 0.03188777855097702, 'w_sv': 0.577373257538757, 'w_xgb': 0.12868607584601516, 'w_lgbm': 0.1053007910076171, 'w_mlp': 0.6623833317114562}.\n"
     ]
    },
    {
     "name": "stdout",
     "output_type": "stream",
     "text": [
      "[w_lr, w_lda, w_sv, w_xgb, w_lgbm,w_cb ] =  [0.015 0.    0.56  0.133 0.12  0.    0.74 ]\n",
      "AUC all:  0.7933220625528317\n",
      "\n"
     ]
    },
    {
     "name": "stderr",
     "output_type": "stream",
     "text": [
      "[I 2019-08-24 12:09:46,741] Finished trial#402 resulted in value: -0.7933220625528317. Current best value is -0.7943082558467174 with parameters: {'w_lr': 0.03188777855097702, 'w_sv': 0.577373257538757, 'w_xgb': 0.12868607584601516, 'w_lgbm': 0.1053007910076171, 'w_mlp': 0.6623833317114562}.\n"
     ]
    },
    {
     "name": "stdout",
     "output_type": "stream",
     "text": [
      "[w_lr, w_lda, w_sv, w_xgb, w_lgbm,w_cb ] =  [0.109 0.    0.507 0.114 0.051 0.    0.703]\n",
      "AUC all:  0.7875457875457875\n",
      "\n"
     ]
    },
    {
     "name": "stderr",
     "output_type": "stream",
     "text": [
      "[I 2019-08-24 12:09:47,364] Finished trial#403 resulted in value: -0.7875457875457875. Current best value is -0.7943082558467174 with parameters: {'w_lr': 0.03188777855097702, 'w_sv': 0.577373257538757, 'w_xgb': 0.12868607584601516, 'w_lgbm': 0.1053007910076171, 'w_mlp': 0.6623833317114562}.\n"
     ]
    },
    {
     "name": "stdout",
     "output_type": "stream",
     "text": [
      "[w_lr, w_lda, w_sv, w_xgb, w_lgbm,w_cb ] =  [0.035 0.    0.608 0.127 0.105 0.    0.651]\n",
      "AUC all:  0.7943082558467174\n",
      "\n"
     ]
    },
    {
     "name": "stderr",
     "output_type": "stream",
     "text": [
      "[I 2019-08-24 12:09:47,997] Finished trial#404 resulted in value: -0.7943082558467174. Current best value is -0.7943082558467174 with parameters: {'w_lr': 0.03188777855097702, 'w_sv': 0.577373257538757, 'w_xgb': 0.12868607584601516, 'w_lgbm': 0.1053007910076171, 'w_mlp': 0.6623833317114562}.\n"
     ]
    },
    {
     "name": "stdout",
     "output_type": "stream",
     "text": [
      "[w_lr, w_lda, w_sv, w_xgb, w_lgbm,w_cb ] =  [0.051 0.    0.593 0.061 0.072 0.    0.658]\n",
      "AUC all:  0.7921949845026768\n",
      "\n"
     ]
    },
    {
     "name": "stderr",
     "output_type": "stream",
     "text": [
      "[I 2019-08-24 12:09:48,625] Finished trial#405 resulted in value: -0.7921949845026768. Current best value is -0.7943082558467174 with parameters: {'w_lr': 0.03188777855097702, 'w_sv': 0.577373257538757, 'w_xgb': 0.12868607584601516, 'w_lgbm': 0.1053007910076171, 'w_mlp': 0.6623833317114562}.\n"
     ]
    },
    {
     "name": "stdout",
     "output_type": "stream",
     "text": [
      "[w_lr, w_lda, w_sv, w_xgb, w_lgbm,w_cb ] =  [0.038 0.    0.624 0.116 0.096 0.    0.677]\n",
      "AUC all:  0.7931811777965624\n",
      "\n"
     ]
    },
    {
     "name": "stderr",
     "output_type": "stream",
     "text": [
      "[I 2019-08-24 12:09:49,257] Finished trial#406 resulted in value: -0.7931811777965624. Current best value is -0.7943082558467174 with parameters: {'w_lr': 0.03188777855097702, 'w_sv': 0.577373257538757, 'w_xgb': 0.12868607584601516, 'w_lgbm': 0.1053007910076171, 'w_mlp': 0.6623833317114562}.\n"
     ]
    },
    {
     "name": "stdout",
     "output_type": "stream",
     "text": [
      "[w_lr, w_lda, w_sv, w_xgb, w_lgbm,w_cb ] =  [0.026 0.    0.477 0.104 0.119 0.    0.653]\n",
      "AUC all:  0.7927585235277543\n",
      "\n"
     ]
    },
    {
     "name": "stderr",
     "output_type": "stream",
     "text": [
      "[I 2019-08-24 12:09:49,883] Finished trial#407 resulted in value: -0.7927585235277543. Current best value is -0.7943082558467174 with parameters: {'w_lr': 0.03188777855097702, 'w_sv': 0.577373257538757, 'w_xgb': 0.12868607584601516, 'w_lgbm': 0.1053007910076171, 'w_mlp': 0.6623833317114562}.\n"
     ]
    },
    {
     "name": "stdout",
     "output_type": "stream",
     "text": [
      "[w_lr, w_lda, w_sv, w_xgb, w_lgbm,w_cb ] =  [0.02  0.    0.605 0.127 0.106 0.    0.648]\n",
      "AUC all:  0.7940264863341786\n",
      "\n"
     ]
    },
    {
     "name": "stderr",
     "output_type": "stream",
     "text": [
      "[I 2019-08-24 12:09:50,505] Finished trial#408 resulted in value: -0.7940264863341786. Current best value is -0.7943082558467174 with parameters: {'w_lr': 0.03188777855097702, 'w_sv': 0.577373257538757, 'w_xgb': 0.12868607584601516, 'w_lgbm': 0.1053007910076171, 'w_mlp': 0.6623833317114562}.\n"
     ]
    },
    {
     "name": "stdout",
     "output_type": "stream",
     "text": [
      "[w_lr, w_lda, w_sv, w_xgb, w_lgbm,w_cb ] =  [0.03  0.    0.601 0.086 0.267 0.    0.715]\n",
      "AUC all:  0.7893772893772893\n",
      "\n"
     ]
    },
    {
     "name": "stderr",
     "output_type": "stream",
     "text": [
      "[I 2019-08-24 12:09:51,125] Finished trial#409 resulted in value: -0.7893772893772893. Current best value is -0.7943082558467174 with parameters: {'w_lr': 0.03188777855097702, 'w_sv': 0.577373257538757, 'w_xgb': 0.12868607584601516, 'w_lgbm': 0.1053007910076171, 'w_mlp': 0.6623833317114562}.\n"
     ]
    },
    {
     "name": "stdout",
     "output_type": "stream",
     "text": [
      "[w_lr, w_lda, w_sv, w_xgb, w_lgbm,w_cb ] =  [0.051 0.    0.603 0.165 0.094 0.    0.688]\n",
      "AUC all:  0.7909270216962525\n",
      "\n"
     ]
    },
    {
     "name": "stderr",
     "output_type": "stream",
     "text": [
      "[I 2019-08-24 12:09:51,760] Finished trial#410 resulted in value: -0.7909270216962525. Current best value is -0.7943082558467174 with parameters: {'w_lr': 0.03188777855097702, 'w_sv': 0.577373257538757, 'w_xgb': 0.12868607584601516, 'w_lgbm': 0.1053007910076171, 'w_mlp': 0.6623833317114562}.\n"
     ]
    },
    {
     "name": "stdout",
     "output_type": "stream",
     "text": [
      "[w_lr, w_lda, w_sv, w_xgb, w_lgbm,w_cb ] =  [0.317 0.    0.632 0.125 0.103 0.    0.67 ]\n",
      "AUC all:  0.792617638771485\n",
      "\n"
     ]
    },
    {
     "name": "stderr",
     "output_type": "stream",
     "text": [
      "[I 2019-08-24 12:09:52,397] Finished trial#411 resulted in value: -0.792617638771485. Current best value is -0.7943082558467174 with parameters: {'w_lr': 0.03188777855097702, 'w_sv': 0.577373257538757, 'w_xgb': 0.12868607584601516, 'w_lgbm': 0.1053007910076171, 'w_mlp': 0.6623833317114562}.\n"
     ]
    },
    {
     "name": "stdout",
     "output_type": "stream",
     "text": [
      "[w_lr, w_lda, w_sv, w_xgb, w_lgbm,w_cb ] =  [0.08  0.    0.58  0.045 0.011 0.    0.65 ]\n",
      "AUC all:  0.7838827838827839\n",
      "\n"
     ]
    },
    {
     "name": "stderr",
     "output_type": "stream",
     "text": [
      "[I 2019-08-24 12:09:53,039] Finished trial#412 resulted in value: -0.7838827838827839. Current best value is -0.7943082558467174 with parameters: {'w_lr': 0.03188777855097702, 'w_sv': 0.577373257538757, 'w_xgb': 0.12868607584601516, 'w_lgbm': 0.1053007910076171, 'w_mlp': 0.6623833317114562}.\n"
     ]
    },
    {
     "name": "stdout",
     "output_type": "stream",
     "text": [
      "[w_lr, w_lda, w_sv, w_xgb, w_lgbm,w_cb ] =  [0.074 0.    0.571 0.082 0.514 0.    0.697]\n",
      "AUC all:  0.7762750070442378\n",
      "\n"
     ]
    },
    {
     "name": "stderr",
     "output_type": "stream",
     "text": [
      "[I 2019-08-24 12:09:53,677] Finished trial#413 resulted in value: -0.7762750070442378. Current best value is -0.7943082558467174 with parameters: {'w_lr': 0.03188777855097702, 'w_sv': 0.577373257538757, 'w_xgb': 0.12868607584601516, 'w_lgbm': 0.1053007910076171, 'w_mlp': 0.6623833317114562}.\n"
     ]
    },
    {
     "name": "stdout",
     "output_type": "stream",
     "text": [
      "[w_lr, w_lda, w_sv, w_xgb, w_lgbm,w_cb ] =  [0.004 0.    0.61  0.146 0.13  0.    0.643]\n",
      "AUC all:  0.7927585235277543\n",
      "\n"
     ]
    },
    {
     "name": "stderr",
     "output_type": "stream",
     "text": [
      "[I 2019-08-24 12:09:54,317] Finished trial#414 resulted in value: -0.7927585235277543. Current best value is -0.7943082558467174 with parameters: {'w_lr': 0.03188777855097702, 'w_sv': 0.577373257538757, 'w_xgb': 0.12868607584601516, 'w_lgbm': 0.1053007910076171, 'w_mlp': 0.6623833317114562}.\n"
     ]
    },
    {
     "name": "stdout",
     "output_type": "stream",
     "text": [
      "[w_lr, w_lda, w_sv, w_xgb, w_lgbm,w_cb ] =  [0.02  0.    0.539 0.185 0.217 0.    0.672]\n",
      "AUC all:  0.7906452521837137\n",
      "\n"
     ]
    },
    {
     "name": "stderr",
     "output_type": "stream",
     "text": [
      "[I 2019-08-24 12:09:54,965] Finished trial#415 resulted in value: -0.7906452521837137. Current best value is -0.7943082558467174 with parameters: {'w_lr': 0.03188777855097702, 'w_sv': 0.577373257538757, 'w_xgb': 0.12868607584601516, 'w_lgbm': 0.1053007910076171, 'w_mlp': 0.6623833317114562}.\n"
     ]
    },
    {
     "name": "stdout",
     "output_type": "stream",
     "text": [
      "[w_lr, w_lda, w_sv, w_xgb, w_lgbm,w_cb ] =  [0.065 0.    0.594 0.106 0.059 0.    0.65 ]\n",
      "AUC all:  0.789659058889828\n",
      "\n"
     ]
    },
    {
     "name": "stderr",
     "output_type": "stream",
     "text": [
      "[I 2019-08-24 12:09:55,606] Finished trial#416 resulted in value: -0.789659058889828. Current best value is -0.7943082558467174 with parameters: {'w_lr': 0.03188777855097702, 'w_sv': 0.577373257538757, 'w_xgb': 0.12868607584601516, 'w_lgbm': 0.1053007910076171, 'w_mlp': 0.6623833317114562}.\n"
     ]
    },
    {
     "name": "stdout",
     "output_type": "stream",
     "text": [
      "[w_lr, w_lda, w_sv, w_xgb, w_lgbm,w_cb ] =  [0.362 0.    0.818 0.136 0.103 0.    0.624]\n",
      "AUC all:  0.7928994082840237\n",
      "\n"
     ]
    },
    {
     "name": "stderr",
     "output_type": "stream",
     "text": [
      "[I 2019-08-24 12:09:56,249] Finished trial#417 resulted in value: -0.7928994082840237. Current best value is -0.7943082558467174 with parameters: {'w_lr': 0.03188777855097702, 'w_sv': 0.577373257538757, 'w_xgb': 0.12868607584601516, 'w_lgbm': 0.1053007910076171, 'w_mlp': 0.6623833317114562}.\n"
     ]
    },
    {
     "name": "stdout",
     "output_type": "stream",
     "text": [
      "[w_lr, w_lda, w_sv, w_xgb, w_lgbm,w_cb ] =  [0.098 0.    0.57  0.058 0.032 0.    0.716]\n",
      "AUC all:  0.7872640180332487\n",
      "\n"
     ]
    },
    {
     "name": "stderr",
     "output_type": "stream",
     "text": [
      "[I 2019-08-24 12:09:56,893] Finished trial#418 resulted in value: -0.7872640180332487. Current best value is -0.7943082558467174 with parameters: {'w_lr': 0.03188777855097702, 'w_sv': 0.577373257538757, 'w_xgb': 0.12868607584601516, 'w_lgbm': 0.1053007910076171, 'w_mlp': 0.6623833317114562}.\n"
     ]
    },
    {
     "name": "stdout",
     "output_type": "stream",
     "text": [
      "[w_lr, w_lda, w_sv, w_xgb, w_lgbm,w_cb ] =  [0.038 0.    0.619 0.161 0.112 0.    0.665]\n",
      "AUC all:  0.7923358692589462\n",
      "\n"
     ]
    },
    {
     "name": "stderr",
     "output_type": "stream",
     "text": [
      "[I 2019-08-24 12:09:57,532] Finished trial#419 resulted in value: -0.7923358692589462. Current best value is -0.7943082558467174 with parameters: {'w_lr': 0.03188777855097702, 'w_sv': 0.577373257538757, 'w_xgb': 0.12868607584601516, 'w_lgbm': 0.1053007910076171, 'w_mlp': 0.6623833317114562}.\n"
     ]
    },
    {
     "name": "stdout",
     "output_type": "stream",
     "text": [
      "[w_lr, w_lda, w_sv, w_xgb, w_lgbm,w_cb ] =  [0.056 0.    0.659 0.113 0.082 0.    0.178]\n",
      "AUC all:  0.7907861369399831\n",
      "\n"
     ]
    },
    {
     "name": "stderr",
     "output_type": "stream",
     "text": [
      "[I 2019-08-24 12:09:58,175] Finished trial#420 resulted in value: -0.7907861369399831. Current best value is -0.7943082558467174 with parameters: {'w_lr': 0.03188777855097702, 'w_sv': 0.577373257538757, 'w_xgb': 0.12868607584601516, 'w_lgbm': 0.1053007910076171, 'w_mlp': 0.6623833317114562}.\n"
     ]
    },
    {
     "name": "stdout",
     "output_type": "stream",
     "text": [
      "[w_lr, w_lda, w_sv, w_xgb, w_lgbm,w_cb ] =  [0.023 0.    0.622 0.137 0.154 0.    0.641]\n",
      "AUC all:  0.7919132149901381\n",
      "\n"
     ]
    },
    {
     "name": "stderr",
     "output_type": "stream",
     "text": [
      "[I 2019-08-24 12:09:58,819] Finished trial#421 resulted in value: -0.7919132149901381. Current best value is -0.7943082558467174 with parameters: {'w_lr': 0.03188777855097702, 'w_sv': 0.577373257538757, 'w_xgb': 0.12868607584601516, 'w_lgbm': 0.1053007910076171, 'w_mlp': 0.6623833317114562}.\n"
     ]
    },
    {
     "name": "stdout",
     "output_type": "stream",
     "text": [
      "[w_lr, w_lda, w_sv, w_xgb, w_lgbm,w_cb ] =  [0.035 0.    0.594 0.13  0.131 0.    0.681]\n",
      "AUC all:  0.7927585235277543\n",
      "\n"
     ]
    },
    {
     "name": "stderr",
     "output_type": "stream",
     "text": [
      "[I 2019-08-24 12:09:59,466] Finished trial#422 resulted in value: -0.7927585235277543. Current best value is -0.7943082558467174 with parameters: {'w_lr': 0.03188777855097702, 'w_sv': 0.577373257538757, 'w_xgb': 0.12868607584601516, 'w_lgbm': 0.1053007910076171, 'w_mlp': 0.6623833317114562}.\n"
     ]
    },
    {
     "name": "stdout",
     "output_type": "stream",
     "text": [
      "[w_lr, w_lda, w_sv, w_xgb, w_lgbm,w_cb ] =  [0.062 0.    0.643 0.093 0.071 0.    0.623]\n",
      "AUC all:  0.7906452521837137\n",
      "\n"
     ]
    },
    {
     "name": "stderr",
     "output_type": "stream",
     "text": [
      "[I 2019-08-24 12:10:00,122] Finished trial#423 resulted in value: -0.7906452521837137. Current best value is -0.7943082558467174 with parameters: {'w_lr': 0.03188777855097702, 'w_sv': 0.577373257538757, 'w_xgb': 0.12868607584601516, 'w_lgbm': 0.1053007910076171, 'w_mlp': 0.6623833317114562}.\n"
     ]
    },
    {
     "name": "stdout",
     "output_type": "stream",
     "text": [
      "[w_lr, w_lda, w_sv, w_xgb, w_lgbm,w_cb ] =  [0.017 0.    0.55  0.154 0.15  0.    0.808]\n",
      "AUC all:  0.7928994082840237\n",
      "\n"
     ]
    },
    {
     "name": "stderr",
     "output_type": "stream",
     "text": [
      "[I 2019-08-24 12:10:00,776] Finished trial#424 resulted in value: -0.7928994082840237. Current best value is -0.7943082558467174 with parameters: {'w_lr': 0.03188777855097702, 'w_sv': 0.577373257538757, 'w_xgb': 0.12868607584601516, 'w_lgbm': 0.1053007910076171, 'w_mlp': 0.6623833317114562}.\n"
     ]
    },
    {
     "name": "stdout",
     "output_type": "stream",
     "text": [
      "[w_lr, w_lda, w_sv, w_xgb, w_lgbm,w_cb ] =  [0.044 0.    0.645 0.415 0.088 0.    0.611]\n",
      "AUC all:  0.7834601296139757\n",
      "\n"
     ]
    },
    {
     "name": "stderr",
     "output_type": "stream",
     "text": [
      "[I 2019-08-24 12:10:01,422] Finished trial#425 resulted in value: -0.7834601296139757. Current best value is -0.7943082558467174 with parameters: {'w_lr': 0.03188777855097702, 'w_sv': 0.577373257538757, 'w_xgb': 0.12868607584601516, 'w_lgbm': 0.1053007910076171, 'w_mlp': 0.6623833317114562}.\n"
     ]
    },
    {
     "name": "stdout",
     "output_type": "stream",
     "text": [
      "[w_lr, w_lda, w_sv, w_xgb, w_lgbm,w_cb ] =  [0.014 0.    0.611 0.124 0.118 0.    0.648]\n",
      "AUC all:  0.7936038320653704\n",
      "\n"
     ]
    },
    {
     "name": "stderr",
     "output_type": "stream",
     "text": [
      "[I 2019-08-24 12:10:02,113] Finished trial#426 resulted in value: -0.7936038320653704. Current best value is -0.7943082558467174 with parameters: {'w_lr': 0.03188777855097702, 'w_sv': 0.577373257538757, 'w_xgb': 0.12868607584601516, 'w_lgbm': 0.1053007910076171, 'w_mlp': 0.6623833317114562}.\n"
     ]
    },
    {
     "name": "stdout",
     "output_type": "stream",
     "text": [
      "[w_lr, w_lda, w_sv, w_xgb, w_lgbm,w_cb ] =  [0.289 0.    0.607 0.119 0.121 0.    0.657]\n",
      "AUC all:  0.792617638771485\n",
      "\n"
     ]
    },
    {
     "name": "stderr",
     "output_type": "stream",
     "text": [
      "[I 2019-08-24 12:10:02,766] Finished trial#427 resulted in value: -0.792617638771485. Current best value is -0.7943082558467174 with parameters: {'w_lr': 0.03188777855097702, 'w_sv': 0.577373257538757, 'w_xgb': 0.12868607584601516, 'w_lgbm': 0.1053007910076171, 'w_mlp': 0.6623833317114562}.\n"
     ]
    },
    {
     "name": "stdout",
     "output_type": "stream",
     "text": [
      "[w_lr, w_lda, w_sv, w_xgb, w_lgbm,w_cb ] =  [0.003 0.    0.589 0.173 0.132 0.    0.694]\n",
      "AUC all:  0.7920540997464074\n",
      "\n"
     ]
    },
    {
     "name": "stderr",
     "output_type": "stream",
     "text": [
      "[I 2019-08-24 12:10:03,456] Finished trial#428 resulted in value: -0.7920540997464074. Current best value is -0.7943082558467174 with parameters: {'w_lr': 0.03188777855097702, 'w_sv': 0.577373257538757, 'w_xgb': 0.12868607584601516, 'w_lgbm': 0.1053007910076171, 'w_mlp': 0.6623833317114562}.\n"
     ]
    },
    {
     "name": "stdout",
     "output_type": "stream",
     "text": [
      "[w_lr, w_lda, w_sv, w_xgb, w_lgbm,w_cb ] =  [0.002 0.    0.607 0.121 0.112 0.    0.669]\n",
      "AUC all:  0.793040293040293\n",
      "\n"
     ]
    },
    {
     "name": "stderr",
     "output_type": "stream",
     "text": [
      "[I 2019-08-24 12:10:04,110] Finished trial#429 resulted in value: -0.793040293040293. Current best value is -0.7943082558467174 with parameters: {'w_lr': 0.03188777855097702, 'w_sv': 0.577373257538757, 'w_xgb': 0.12868607584601516, 'w_lgbm': 0.1053007910076171, 'w_mlp': 0.6623833317114562}.\n"
     ]
    },
    {
     "name": "stdout",
     "output_type": "stream",
     "text": [
      "[w_lr, w_lda, w_sv, w_xgb, w_lgbm,w_cb ] =  [0.017 0.    0.581 0.152 0.172 0.    0.646]\n",
      "AUC all:  0.7923358692589463\n",
      "\n"
     ]
    },
    {
     "name": "stderr",
     "output_type": "stream",
     "text": [
      "[I 2019-08-24 12:10:04,943] Finished trial#430 resulted in value: -0.7923358692589463. Current best value is -0.7943082558467174 with parameters: {'w_lr': 0.03188777855097702, 'w_sv': 0.577373257538757, 'w_xgb': 0.12868607584601516, 'w_lgbm': 0.1053007910076171, 'w_mlp': 0.6623833317114562}.\n"
     ]
    },
    {
     "name": "stdout",
     "output_type": "stream",
     "text": [
      "[w_lr, w_lda, w_sv, w_xgb, w_lgbm,w_cb ] =  [0.031 0.    0.629 0.102 0.053 0.    0.639]\n",
      "AUC all:  0.7900817131586362\n",
      "\n"
     ]
    },
    {
     "name": "stderr",
     "output_type": "stream",
     "text": [
      "[I 2019-08-24 12:10:05,602] Finished trial#431 resulted in value: -0.7900817131586362. Current best value is -0.7943082558467174 with parameters: {'w_lr': 0.03188777855097702, 'w_sv': 0.577373257538757, 'w_xgb': 0.12868607584601516, 'w_lgbm': 0.1053007910076171, 'w_mlp': 0.6623833317114562}.\n"
     ]
    },
    {
     "name": "stdout",
     "output_type": "stream",
     "text": [
      "[w_lr, w_lda, w_sv, w_xgb, w_lgbm,w_cb ] =  [0.002 0.    0.611 0.204 0.099 0.    0.679]\n",
      "AUC all:  0.7893772893772892\n",
      "\n"
     ]
    },
    {
     "name": "stderr",
     "output_type": "stream",
     "text": [
      "[I 2019-08-24 12:10:06,343] Finished trial#432 resulted in value: -0.7893772893772892. Current best value is -0.7943082558467174 with parameters: {'w_lr': 0.03188777855097702, 'w_sv': 0.577373257538757, 'w_xgb': 0.12868607584601516, 'w_lgbm': 0.1053007910076171, 'w_mlp': 0.6623833317114562}.\n"
     ]
    },
    {
     "name": "stdout",
     "output_type": "stream",
     "text": [
      "[w_lr, w_lda, w_sv, w_xgb, w_lgbm,w_cb ] =  [0.021 0.    0.587 0.136 0.074 0.    0.657]\n",
      "AUC all:  0.7913496759650605\n",
      "\n"
     ]
    },
    {
     "name": "stderr",
     "output_type": "stream",
     "text": [
      "[I 2019-08-24 12:10:06,991] Finished trial#433 resulted in value: -0.7913496759650605. Current best value is -0.7943082558467174 with parameters: {'w_lr': 0.03188777855097702, 'w_sv': 0.577373257538757, 'w_xgb': 0.12868607584601516, 'w_lgbm': 0.1053007910076171, 'w_mlp': 0.6623833317114562}.\n"
     ]
    },
    {
     "name": "stdout",
     "output_type": "stream",
     "text": [
      "[w_lr, w_lda, w_sv, w_xgb, w_lgbm,w_cb ] =  [0.041 0.    0.57  0.086 0.14  0.    0.631]\n",
      "AUC all:  0.7905043674274443\n",
      "\n"
     ]
    },
    {
     "name": "stderr",
     "output_type": "stream",
     "text": [
      "[I 2019-08-24 12:10:07,644] Finished trial#434 resulted in value: -0.7905043674274443. Current best value is -0.7943082558467174 with parameters: {'w_lr': 0.03188777855097702, 'w_sv': 0.577373257538757, 'w_xgb': 0.12868607584601516, 'w_lgbm': 0.1053007910076171, 'w_mlp': 0.6623833317114562}.\n"
     ]
    },
    {
     "name": "stdout",
     "output_type": "stream",
     "text": [
      "[w_lr, w_lda, w_sv, w_xgb, w_lgbm,w_cb ] =  [0.018 0.    0.635 0.118 0.11  0.    0.652]\n",
      "AUC all:  0.7930402930402929\n",
      "\n"
     ]
    },
    {
     "name": "stderr",
     "output_type": "stream",
     "text": [
      "[I 2019-08-24 12:10:08,303] Finished trial#435 resulted in value: -0.7930402930402929. Current best value is -0.7943082558467174 with parameters: {'w_lr': 0.03188777855097702, 'w_sv': 0.577373257538757, 'w_xgb': 0.12868607584601516, 'w_lgbm': 0.1053007910076171, 'w_mlp': 0.6623833317114562}.\n"
     ]
    },
    {
     "name": "stdout",
     "output_type": "stream",
     "text": [
      "[w_lr, w_lda, w_sv, w_xgb, w_lgbm,w_cb ] =  [0.002 0.    0.668 0.142 0.085 0.    0.687]\n",
      "AUC all:  0.7910679064525218\n",
      "\n"
     ]
    },
    {
     "name": "stderr",
     "output_type": "stream",
     "text": [
      "[I 2019-08-24 12:10:09,084] Finished trial#436 resulted in value: -0.7910679064525218. Current best value is -0.7943082558467174 with parameters: {'w_lr': 0.03188777855097702, 'w_sv': 0.577373257538757, 'w_xgb': 0.12868607584601516, 'w_lgbm': 0.1053007910076171, 'w_mlp': 0.6623833317114562}.\n"
     ]
    },
    {
     "name": "stdout",
     "output_type": "stream",
     "text": [
      "[w_lr, w_lda, w_sv, w_xgb, w_lgbm,w_cb ] =  [0.047 0.    0.614 0.014 0.188 0.    0.707]\n",
      "AUC all:  0.7871231332769795\n",
      "\n"
     ]
    },
    {
     "name": "stderr",
     "output_type": "stream",
     "text": [
      "[I 2019-08-24 12:10:09,753] Finished trial#437 resulted in value: -0.7871231332769795. Current best value is -0.7943082558467174 with parameters: {'w_lr': 0.03188777855097702, 'w_sv': 0.577373257538757, 'w_xgb': 0.12868607584601516, 'w_lgbm': 0.1053007910076171, 'w_mlp': 0.6623833317114562}.\n"
     ]
    },
    {
     "name": "stdout",
     "output_type": "stream",
     "text": [
      "[w_lr, w_lda, w_sv, w_xgb, w_lgbm,w_cb ] =  [0.03  0.    0.536 0.827 0.053 0.    0.615]\n",
      "AUC all:  0.7743026204564666\n",
      "\n"
     ]
    },
    {
     "name": "stderr",
     "output_type": "stream",
     "text": [
      "[I 2019-08-24 12:10:10,432] Finished trial#438 resulted in value: -0.7743026204564666. Current best value is -0.7943082558467174 with parameters: {'w_lr': 0.03188777855097702, 'w_sv': 0.577373257538757, 'w_xgb': 0.12868607584601516, 'w_lgbm': 0.1053007910076171, 'w_mlp': 0.6623833317114562}.\n"
     ]
    },
    {
     "name": "stdout",
     "output_type": "stream",
     "text": [
      "[w_lr, w_lda, w_sv, w_xgb, w_lgbm,w_cb ] =  [0.    0.    0.584 0.109 0.129 0.    0.667]\n",
      "AUC all:  0.7919132149901381\n",
      "\n"
     ]
    },
    {
     "name": "stderr",
     "output_type": "stream",
     "text": [
      "[I 2019-08-24 12:10:11,097] Finished trial#439 resulted in value: -0.7919132149901381. Current best value is -0.7943082558467174 with parameters: {'w_lr': 0.03188777855097702, 'w_sv': 0.577373257538757, 'w_xgb': 0.12868607584601516, 'w_lgbm': 0.1053007910076171, 'w_mlp': 0.6623833317114562}.\n"
     ]
    },
    {
     "name": "stdout",
     "output_type": "stream",
     "text": [
      "[w_lr, w_lda, w_sv, w_xgb, w_lgbm,w_cb ] =  [0.    0.    0.602 0.176 0.097 0.    0.633]\n",
      "AUC all:  0.7910679064525219\n",
      "\n"
     ]
    },
    {
     "name": "stderr",
     "output_type": "stream",
     "text": [
      "[I 2019-08-24 12:10:11,780] Finished trial#440 resulted in value: -0.7910679064525219. Current best value is -0.7943082558467174 with parameters: {'w_lr': 0.03188777855097702, 'w_sv': 0.577373257538757, 'w_xgb': 0.12868607584601516, 'w_lgbm': 0.1053007910076171, 'w_mlp': 0.6623833317114562}.\n"
     ]
    },
    {
     "name": "stdout",
     "output_type": "stream",
     "text": [
      "[w_lr, w_lda, w_sv, w_xgb, w_lgbm,w_cb ] =  [0.062 0.    0.833 0.078 0.066 0.    0.602]\n",
      "AUC all:  0.7912087912087912\n",
      "\n"
     ]
    },
    {
     "name": "stderr",
     "output_type": "stream",
     "text": [
      "[I 2019-08-24 12:10:12,444] Finished trial#441 resulted in value: -0.7912087912087912. Current best value is -0.7943082558467174 with parameters: {'w_lr': 0.03188777855097702, 'w_sv': 0.577373257538757, 'w_xgb': 0.12868607584601516, 'w_lgbm': 0.1053007910076171, 'w_mlp': 0.6623833317114562}.\n"
     ]
    },
    {
     "name": "stdout",
     "output_type": "stream",
     "text": [
      "[w_lr, w_lda, w_sv, w_xgb, w_lgbm,w_cb ] =  [0.039 0.    0.628 0.153 0.115 0.    0.647]\n",
      "AUC all:  0.7924767540152156\n",
      "\n"
     ]
    },
    {
     "name": "stderr",
     "output_type": "stream",
     "text": [
      "[I 2019-08-24 12:10:13,122] Finished trial#442 resulted in value: -0.7924767540152156. Current best value is -0.7943082558467174 with parameters: {'w_lr': 0.03188777855097702, 'w_sv': 0.577373257538757, 'w_xgb': 0.12868607584601516, 'w_lgbm': 0.1053007910076171, 'w_mlp': 0.6623833317114562}.\n"
     ]
    },
    {
     "name": "stdout",
     "output_type": "stream",
     "text": [
      "[w_lr, w_lda, w_sv, w_xgb, w_lgbm,w_cb ] =  [0.088 0.    0.573 0.101 0.158 0.    0.623]\n",
      "AUC all:  0.7909270216962525\n",
      "\n"
     ]
    },
    {
     "name": "stderr",
     "output_type": "stream",
     "text": [
      "[I 2019-08-24 12:10:13,796] Finished trial#443 resulted in value: -0.7909270216962525. Current best value is -0.7943082558467174 with parameters: {'w_lr': 0.03188777855097702, 'w_sv': 0.577373257538757, 'w_xgb': 0.12868607584601516, 'w_lgbm': 0.1053007910076171, 'w_mlp': 0.6623833317114562}.\n"
     ]
    },
    {
     "name": "stdout",
     "output_type": "stream",
     "text": [
      "[w_lr, w_lda, w_sv, w_xgb, w_lgbm,w_cb ] =  [0.066 0.    0.555 0.128 0.025 0.    0.671]\n",
      "AUC all:  0.7837418991265145\n",
      "\n"
     ]
    },
    {
     "name": "stderr",
     "output_type": "stream",
     "text": [
      "[I 2019-08-24 12:10:14,472] Finished trial#444 resulted in value: -0.7837418991265145. Current best value is -0.7943082558467174 with parameters: {'w_lr': 0.03188777855097702, 'w_sv': 0.577373257538757, 'w_xgb': 0.12868607584601516, 'w_lgbm': 0.1053007910076171, 'w_mlp': 0.6623833317114562}.\n"
     ]
    },
    {
     "name": "stdout",
     "output_type": "stream",
     "text": [
      "[w_lr, w_lda, w_sv, w_xgb, w_lgbm,w_cb ] =  [0.    0.    0.668 0.092 0.086 0.    0.726]\n",
      "AUC all:  0.79149056072133\n",
      "\n"
     ]
    },
    {
     "name": "stderr",
     "output_type": "stream",
     "text": [
      "[I 2019-08-24 12:10:15,156] Finished trial#445 resulted in value: -0.79149056072133. Current best value is -0.7943082558467174 with parameters: {'w_lr': 0.03188777855097702, 'w_sv': 0.577373257538757, 'w_xgb': 0.12868607584601516, 'w_lgbm': 0.1053007910076171, 'w_mlp': 0.6623833317114562}.\n"
     ]
    },
    {
     "name": "stdout",
     "output_type": "stream",
     "text": [
      "[w_lr, w_lda, w_sv, w_xgb, w_lgbm,w_cb ] =  [0.02  0.    0.639 0.125 0.105 0.    0.689]\n",
      "AUC all:  0.793462947309101\n",
      "\n"
     ]
    },
    {
     "name": "stderr",
     "output_type": "stream",
     "text": [
      "[I 2019-08-24 12:10:15,830] Finished trial#446 resulted in value: -0.793462947309101. Current best value is -0.7943082558467174 with parameters: {'w_lr': 0.03188777855097702, 'w_sv': 0.577373257538757, 'w_xgb': 0.12868607584601516, 'w_lgbm': 0.1053007910076171, 'w_mlp': 0.6623833317114562}.\n"
     ]
    },
    {
     "name": "stdout",
     "output_type": "stream",
     "text": [
      "[w_lr, w_lda, w_sv, w_xgb, w_lgbm,w_cb ] =  [0.124 0.    0.597 0.151 0.138 0.    0.642]\n",
      "AUC all:  0.793040293040293\n",
      "\n"
     ]
    },
    {
     "name": "stderr",
     "output_type": "stream",
     "text": [
      "[I 2019-08-24 12:10:16,519] Finished trial#447 resulted in value: -0.793040293040293. Current best value is -0.7943082558467174 with parameters: {'w_lr': 0.03188777855097702, 'w_sv': 0.577373257538757, 'w_xgb': 0.12868607584601516, 'w_lgbm': 0.1053007910076171, 'w_mlp': 0.6623833317114562}.\n"
     ]
    },
    {
     "name": "stdout",
     "output_type": "stream",
     "text": [
      "[w_lr, w_lda, w_sv, w_xgb, w_lgbm,w_cb ] =  [0.048 0.    0.616 0.076 0.073 0.    0.608]\n",
      "AUC all:  0.7916314454775993\n",
      "\n"
     ]
    },
    {
     "name": "stderr",
     "output_type": "stream",
     "text": [
      "[I 2019-08-24 12:10:17,199] Finished trial#448 resulted in value: -0.7916314454775993. Current best value is -0.7943082558467174 with parameters: {'w_lr': 0.03188777855097702, 'w_sv': 0.577373257538757, 'w_xgb': 0.12868607584601516, 'w_lgbm': 0.1053007910076171, 'w_mlp': 0.6623833317114562}.\n"
     ]
    },
    {
     "name": "stdout",
     "output_type": "stream",
     "text": [
      "[w_lr, w_lda, w_sv, w_xgb, w_lgbm,w_cb ] =  [0.03  0.    0.652 0.105 0.112 0.    0.66 ]\n",
      "AUC all:  0.7930402930402929\n",
      "\n"
     ]
    },
    {
     "name": "stderr",
     "output_type": "stream",
     "text": [
      "[I 2019-08-24 12:10:17,878] Finished trial#449 resulted in value: -0.7930402930402929. Current best value is -0.7943082558467174 with parameters: {'w_lr': 0.03188777855097702, 'w_sv': 0.577373257538757, 'w_xgb': 0.12868607584601516, 'w_lgbm': 0.1053007910076171, 'w_mlp': 0.6623833317114562}.\n"
     ]
    },
    {
     "name": "stdout",
     "output_type": "stream",
     "text": [
      "[w_lr, w_lda, w_sv, w_xgb, w_lgbm,w_cb ] =  [0.077 0.    0.592 0.175 0.052 0.    0.705]\n",
      "AUC all:  0.7854325162017469\n",
      "\n"
     ]
    },
    {
     "name": "stderr",
     "output_type": "stream",
     "text": [
      "[I 2019-08-24 12:10:18,553] Finished trial#450 resulted in value: -0.7854325162017469. Current best value is -0.7943082558467174 with parameters: {'w_lr': 0.03188777855097702, 'w_sv': 0.577373257538757, 'w_xgb': 0.12868607584601516, 'w_lgbm': 0.1053007910076171, 'w_mlp': 0.6623833317114562}.\n"
     ]
    },
    {
     "name": "stdout",
     "output_type": "stream",
     "text": [
      "[w_lr, w_lda, w_sv, w_xgb, w_lgbm,w_cb ] =  [0.019 0.    0.53  0.136 0.09  0.    0.629]\n",
      "AUC all:  0.7921949845026768\n",
      "\n"
     ]
    },
    {
     "name": "stderr",
     "output_type": "stream",
     "text": [
      "[I 2019-08-24 12:10:19,235] Finished trial#451 resulted in value: -0.7921949845026768. Current best value is -0.7943082558467174 with parameters: {'w_lr': 0.03188777855097702, 'w_sv': 0.577373257538757, 'w_xgb': 0.12868607584601516, 'w_lgbm': 0.1053007910076171, 'w_mlp': 0.6623833317114562}.\n"
     ]
    },
    {
     "name": "stdout",
     "output_type": "stream",
     "text": [
      "[w_lr, w_lda, w_sv, w_xgb, w_lgbm,w_cb ] =  [0.001 0.    0.563 0.116 0.127 0.    0.612]\n",
      "AUC all:  0.7927585235277542\n",
      "\n"
     ]
    },
    {
     "name": "stderr",
     "output_type": "stream",
     "text": [
      "[I 2019-08-24 12:10:19,917] Finished trial#452 resulted in value: -0.7927585235277542. Current best value is -0.7943082558467174 with parameters: {'w_lr': 0.03188777855097702, 'w_sv': 0.577373257538757, 'w_xgb': 0.12868607584601516, 'w_lgbm': 0.1053007910076171, 'w_mlp': 0.6623833317114562}.\n"
     ]
    },
    {
     "name": "stdout",
     "output_type": "stream",
     "text": [
      "[w_lr, w_lda, w_sv, w_xgb, w_lgbm,w_cb ] =  [0.669 0.    0.621 0.095 0.082 0.    0.59 ]\n",
      "AUC all:  0.7912087912087913\n",
      "\n"
     ]
    },
    {
     "name": "stderr",
     "output_type": "stream",
     "text": [
      "[I 2019-08-24 12:10:20,609] Finished trial#453 resulted in value: -0.7912087912087913. Current best value is -0.7943082558467174 with parameters: {'w_lr': 0.03188777855097702, 'w_sv': 0.577373257538757, 'w_xgb': 0.12868607584601516, 'w_lgbm': 0.1053007910076171, 'w_mlp': 0.6623833317114562}.\n"
     ]
    },
    {
     "name": "stdout",
     "output_type": "stream",
     "text": [
      "[w_lr, w_lda, w_sv, w_xgb, w_lgbm,w_cb ] =  [0.055 0.    0.634 0.071 0.151 0.    0.658]\n",
      "AUC all:  0.7906452521837136\n",
      "\n"
     ]
    },
    {
     "name": "stderr",
     "output_type": "stream",
     "text": [
      "[I 2019-08-24 12:10:21,297] Finished trial#454 resulted in value: -0.7906452521837136. Current best value is -0.7943082558467174 with parameters: {'w_lr': 0.03188777855097702, 'w_sv': 0.577373257538757, 'w_xgb': 0.12868607584601516, 'w_lgbm': 0.1053007910076171, 'w_mlp': 0.6623833317114562}.\n"
     ]
    },
    {
     "name": "stdout",
     "output_type": "stream",
     "text": [
      "[w_lr, w_lda, w_sv, w_xgb, w_lgbm,w_cb ] =  [0.037 0.    0.694 0.162 0.038 0.    0.679]\n",
      "AUC all:  0.7847280924204001\n",
      "\n"
     ]
    },
    {
     "name": "stderr",
     "output_type": "stream",
     "text": [
      "[I 2019-08-24 12:10:21,989] Finished trial#455 resulted in value: -0.7847280924204001. Current best value is -0.7943082558467174 with parameters: {'w_lr': 0.03188777855097702, 'w_sv': 0.577373257538757, 'w_xgb': 0.12868607584601516, 'w_lgbm': 0.1053007910076171, 'w_mlp': 0.6623833317114562}.\n"
     ]
    },
    {
     "name": "stdout",
     "output_type": "stream",
     "text": [
      "[w_lr, w_lda, w_sv, w_xgb, w_lgbm,w_cb ] =  [0.094 0.    0.598 0.132 0.742 0.    0.638]\n",
      "AUC all:  0.773316427162581\n",
      "\n"
     ]
    },
    {
     "name": "stderr",
     "output_type": "stream",
     "text": [
      "[I 2019-08-24 12:10:22,684] Finished trial#456 resulted in value: -0.773316427162581. Current best value is -0.7943082558467174 with parameters: {'w_lr': 0.03188777855097702, 'w_sv': 0.577373257538757, 'w_xgb': 0.12868607584601516, 'w_lgbm': 0.1053007910076171, 'w_mlp': 0.6623833317114562}.\n"
     ]
    },
    {
     "name": "stdout",
     "output_type": "stream",
     "text": [
      "[w_lr, w_lda, w_sv, w_xgb, w_lgbm,w_cb ] =  [0.067 0.    0.801 0.039 0.106 0.    0.623]\n",
      "AUC all:  0.7909270216962525\n",
      "\n"
     ]
    },
    {
     "name": "stderr",
     "output_type": "stream",
     "text": [
      "[I 2019-08-24 12:10:23,365] Finished trial#457 resulted in value: -0.7909270216962525. Current best value is -0.7943082558467174 with parameters: {'w_lr': 0.03188777855097702, 'w_sv': 0.577373257538757, 'w_xgb': 0.12868607584601516, 'w_lgbm': 0.1053007910076171, 'w_mlp': 0.6623833317114562}.\n"
     ]
    },
    {
     "name": "stdout",
     "output_type": "stream",
     "text": [
      "[w_lr, w_lda, w_sv, w_xgb, w_lgbm,w_cb ] =  [0.018 0.    0.723 0.112 0.064 0.    0.65 ]\n",
      "AUC all:  0.7895181741335587\n",
      "\n"
     ]
    },
    {
     "name": "stderr",
     "output_type": "stream",
     "text": [
      "[I 2019-08-24 12:10:24,060] Finished trial#458 resulted in value: -0.7895181741335587. Current best value is -0.7943082558467174 with parameters: {'w_lr': 0.03188777855097702, 'w_sv': 0.577373257538757, 'w_xgb': 0.12868607584601516, 'w_lgbm': 0.1053007910076171, 'w_mlp': 0.6623833317114562}.\n"
     ]
    },
    {
     "name": "stdout",
     "output_type": "stream",
     "text": [
      "[w_lr, w_lda, w_sv, w_xgb, w_lgbm,w_cb ] =  [0.045 0.    0.661 0.144 0.124 0.    0.603]\n",
      "AUC all:  0.7927585235277543\n",
      "\n"
     ]
    },
    {
     "name": "stderr",
     "output_type": "stream",
     "text": [
      "[I 2019-08-24 12:10:24,753] Finished trial#459 resulted in value: -0.7927585235277543. Current best value is -0.7943082558467174 with parameters: {'w_lr': 0.03188777855097702, 'w_sv': 0.577373257538757, 'w_xgb': 0.12868607584601516, 'w_lgbm': 0.1053007910076171, 'w_mlp': 0.6623833317114562}.\n"
     ]
    },
    {
     "name": "stdout",
     "output_type": "stream",
     "text": [
      "[w_lr, w_lda, w_sv, w_xgb, w_lgbm,w_cb ] =  [0.001 0.    0.578 0.09  0.098 0.    0.693]\n",
      "AUC all:  0.7933220625528317\n",
      "\n"
     ]
    },
    {
     "name": "stderr",
     "output_type": "stream",
     "text": [
      "[I 2019-08-24 12:10:25,442] Finished trial#460 resulted in value: -0.7933220625528317. Current best value is -0.7943082558467174 with parameters: {'w_lr': 0.03188777855097702, 'w_sv': 0.577373257538757, 'w_xgb': 0.12868607584601516, 'w_lgbm': 0.1053007910076171, 'w_mlp': 0.6623833317114562}.\n"
     ]
    },
    {
     "name": "stdout",
     "output_type": "stream",
     "text": [
      "[w_lr, w_lda, w_sv, w_xgb, w_lgbm,w_cb ] =  [0.032 0.    0.615 0.122 0.141 0.    0.668]\n",
      "AUC all:  0.7927585235277543\n",
      "\n"
     ]
    },
    {
     "name": "stderr",
     "output_type": "stream",
     "text": [
      "[I 2019-08-24 12:10:26,128] Finished trial#461 resulted in value: -0.7927585235277543. Current best value is -0.7943082558467174 with parameters: {'w_lr': 0.03188777855097702, 'w_sv': 0.577373257538757, 'w_xgb': 0.12868607584601516, 'w_lgbm': 0.1053007910076171, 'w_mlp': 0.6623833317114562}.\n"
     ]
    },
    {
     "name": "stdout",
     "output_type": "stream",
     "text": [
      "[w_lr, w_lda, w_sv, w_xgb, w_lgbm,w_cb ] =  [0.    0.    0.555 0.074 0.081 0.    0.575]\n",
      "AUC all:  0.7936038320653704\n",
      "\n"
     ]
    },
    {
     "name": "stderr",
     "output_type": "stream",
     "text": [
      "[I 2019-08-24 12:10:26,832] Finished trial#462 resulted in value: -0.7936038320653704. Current best value is -0.7943082558467174 with parameters: {'w_lr': 0.03188777855097702, 'w_sv': 0.577373257538757, 'w_xgb': 0.12868607584601516, 'w_lgbm': 0.1053007910076171, 'w_mlp': 0.6623833317114562}.\n"
     ]
    },
    {
     "name": "stdout",
     "output_type": "stream",
     "text": [
      "[w_lr, w_lda, w_sv, w_xgb, w_lgbm,w_cb ] =  [0.064 0.    0.537 0.03  0.044 0.    0.546]\n",
      "AUC all:  0.7921949845026769\n",
      "\n"
     ]
    },
    {
     "name": "stderr",
     "output_type": "stream",
     "text": [
      "[I 2019-08-24 12:10:27,518] Finished trial#463 resulted in value: -0.7921949845026769. Current best value is -0.7943082558467174 with parameters: {'w_lr': 0.03188777855097702, 'w_sv': 0.577373257538757, 'w_xgb': 0.12868607584601516, 'w_lgbm': 0.1053007910076171, 'w_mlp': 0.6623833317114562}.\n"
     ]
    },
    {
     "name": "stdout",
     "output_type": "stream",
     "text": [
      "[w_lr, w_lda, w_sv, w_xgb, w_lgbm,w_cb ] =  [0.05  0.    0.552 0.101 0.072 0.    0.573]\n",
      "AUC all:  0.7910679064525218\n",
      "\n"
     ]
    },
    {
     "name": "stderr",
     "output_type": "stream",
     "text": [
      "[I 2019-08-24 12:10:28,210] Finished trial#464 resulted in value: -0.7910679064525218. Current best value is -0.7943082558467174 with parameters: {'w_lr': 0.03188777855097702, 'w_sv': 0.577373257538757, 'w_xgb': 0.12868607584601516, 'w_lgbm': 0.1053007910076171, 'w_mlp': 0.6623833317114562}.\n"
     ]
    },
    {
     "name": "stdout",
     "output_type": "stream",
     "text": [
      "[w_lr, w_lda, w_sv, w_xgb, w_lgbm,w_cb ] =  [0.435 0.    0.559 0.074 0.124 0.    0.525]\n",
      "AUC all:  0.7905043674274443\n",
      "\n"
     ]
    },
    {
     "name": "stderr",
     "output_type": "stream",
     "text": [
      "[I 2019-08-24 12:10:28,910] Finished trial#465 resulted in value: -0.7905043674274443. Current best value is -0.7943082558467174 with parameters: {'w_lr': 0.03188777855097702, 'w_sv': 0.577373257538757, 'w_xgb': 0.12868607584601516, 'w_lgbm': 0.1053007910076171, 'w_mlp': 0.6623833317114562}.\n"
     ]
    },
    {
     "name": "stdout",
     "output_type": "stream",
     "text": [
      "[w_lr, w_lda, w_sv, w_xgb, w_lgbm,w_cb ] =  [0.1   0.    0.516 0.052 0.015 0.    0.57 ]\n",
      "AUC all:  0.7837418991265145\n",
      "\n"
     ]
    },
    {
     "name": "stderr",
     "output_type": "stream",
     "text": [
      "[I 2019-08-24 12:10:29,835] Finished trial#466 resulted in value: -0.7837418991265145. Current best value is -0.7943082558467174 with parameters: {'w_lr': 0.03188777855097702, 'w_sv': 0.577373257538757, 'w_xgb': 0.12868607584601516, 'w_lgbm': 0.1053007910076171, 'w_mlp': 0.6623833317114562}.\n"
     ]
    },
    {
     "name": "stdout",
     "output_type": "stream",
     "text": [
      "[w_lr, w_lda, w_sv, w_xgb, w_lgbm,w_cb ] =  [0.001 0.    0.577 0.191 0.093 0.    0.586]\n",
      "AUC all:  0.7895181741335586\n",
      "\n"
     ]
    },
    {
     "name": "stderr",
     "output_type": "stream",
     "text": [
      "[I 2019-08-24 12:10:30,603] Finished trial#467 resulted in value: -0.7895181741335586. Current best value is -0.7943082558467174 with parameters: {'w_lr': 0.03188777855097702, 'w_sv': 0.577373257538757, 'w_xgb': 0.12868607584601516, 'w_lgbm': 0.1053007910076171, 'w_mlp': 0.6623833317114562}.\n"
     ]
    },
    {
     "name": "stdout",
     "output_type": "stream",
     "text": [
      "[w_lr, w_lda, w_sv, w_xgb, w_lgbm,w_cb ] =  [0.023 0.    0.595 0.161 0.172 0.    0.631]\n",
      "AUC all:  0.7921949845026768\n",
      "\n"
     ]
    },
    {
     "name": "stderr",
     "output_type": "stream",
     "text": [
      "[I 2019-08-24 12:10:31,479] Finished trial#468 resulted in value: -0.7921949845026768. Current best value is -0.7943082558467174 with parameters: {'w_lr': 0.03188777855097702, 'w_sv': 0.577373257538757, 'w_xgb': 0.12868607584601516, 'w_lgbm': 0.1053007910076171, 'w_mlp': 0.6623833317114562}.\n"
     ]
    },
    {
     "name": "stdout",
     "output_type": "stream",
     "text": [
      "[w_lr, w_lda, w_sv, w_xgb, w_lgbm,w_cb ] =  [0.014 0.    0.642 0.013 0.058 0.    0.546]\n",
      "AUC all:  0.7905043674274443\n",
      "\n"
     ]
    },
    {
     "name": "stderr",
     "output_type": "stream",
     "text": [
      "[I 2019-08-24 12:10:32,180] Finished trial#469 resulted in value: -0.7905043674274443. Current best value is -0.7943082558467174 with parameters: {'w_lr': 0.03188777855097702, 'w_sv': 0.577373257538757, 'w_xgb': 0.12868607584601516, 'w_lgbm': 0.1053007910076171, 'w_mlp': 0.6623833317114562}.\n"
     ]
    },
    {
     "name": "stdout",
     "output_type": "stream",
     "text": [
      "[w_lr, w_lda, w_sv, w_xgb, w_lgbm,w_cb ] =  [0.076 0.    0.683 0.053 0.079 0.    0.593]\n",
      "AUC all:  0.7927585235277542\n",
      "\n"
     ]
    },
    {
     "name": "stderr",
     "output_type": "stream",
     "text": [
      "[I 2019-08-24 12:10:32,990] Finished trial#470 resulted in value: -0.7927585235277542. Current best value is -0.7943082558467174 with parameters: {'w_lr': 0.03188777855097702, 'w_sv': 0.577373257538757, 'w_xgb': 0.12868607584601516, 'w_lgbm': 0.1053007910076171, 'w_mlp': 0.6623833317114562}.\n"
     ]
    },
    {
     "name": "stdout",
     "output_type": "stream",
     "text": [
      "[w_lr, w_lda, w_sv, w_xgb, w_lgbm,w_cb ] =  [0.041 0.    0.528 0.074 0.07  0.    0.609]\n",
      "AUC all:  0.79149056072133\n",
      "\n"
     ]
    },
    {
     "name": "stderr",
     "output_type": "stream",
     "text": [
      "[I 2019-08-24 12:10:33,704] Finished trial#471 resulted in value: -0.79149056072133. Current best value is -0.7943082558467174 with parameters: {'w_lr': 0.03188777855097702, 'w_sv': 0.577373257538757, 'w_xgb': 0.12868607584601516, 'w_lgbm': 0.1053007910076171, 'w_mlp': 0.6623833317114562}.\n"
     ]
    },
    {
     "name": "stdout",
     "output_type": "stream",
     "text": [
      "[w_lr, w_lda, w_sv, w_xgb, w_lgbm,w_cb ] =  [0.019 0.    0.548 0.141 0.292 0.    0.565]\n",
      "AUC all:  0.7875457875457875\n",
      "\n"
     ]
    },
    {
     "name": "stderr",
     "output_type": "stream",
     "text": [
      "[I 2019-08-24 12:10:34,400] Finished trial#472 resulted in value: -0.7875457875457875. Current best value is -0.7943082558467174 with parameters: {'w_lr': 0.03188777855097702, 'w_sv': 0.577373257538757, 'w_xgb': 0.12868607584601516, 'w_lgbm': 0.1053007910076171, 'w_mlp': 0.6623833317114562}.\n"
     ]
    },
    {
     "name": "stdout",
     "output_type": "stream",
     "text": [
      "[w_lr, w_lda, w_sv, w_xgb, w_lgbm,w_cb ] =  [0.054 0.    0.622 0.087 0.093 0.    0.586]\n",
      "AUC all:  0.7923358692589462\n",
      "\n"
     ]
    },
    {
     "name": "stderr",
     "output_type": "stream",
     "text": [
      "[I 2019-08-24 12:10:35,120] Finished trial#473 resulted in value: -0.7923358692589462. Current best value is -0.7943082558467174 with parameters: {'w_lr': 0.03188777855097702, 'w_sv': 0.577373257538757, 'w_xgb': 0.12868607584601516, 'w_lgbm': 0.1053007910076171, 'w_mlp': 0.6623833317114562}.\n"
     ]
    },
    {
     "name": "stdout",
     "output_type": "stream",
     "text": [
      "[w_lr, w_lda, w_sv, w_xgb, w_lgbm,w_cb ] =  [0.082 0.    0.565 0.065 0.106 0.    0.618]\n",
      "AUC all:  0.7917723302338686\n",
      "\n"
     ]
    },
    {
     "name": "stderr",
     "output_type": "stream",
     "text": [
      "[I 2019-08-24 12:10:35,967] Finished trial#474 resulted in value: -0.7917723302338686. Current best value is -0.7943082558467174 with parameters: {'w_lr': 0.03188777855097702, 'w_sv': 0.577373257538757, 'w_xgb': 0.12868607584601516, 'w_lgbm': 0.1053007910076171, 'w_mlp': 0.6623833317114562}.\n"
     ]
    },
    {
     "name": "stdout",
     "output_type": "stream",
     "text": [
      "[w_lr, w_lda, w_sv, w_xgb, w_lgbm,w_cb ] =  [0.002 0.    0.585 0.114 0.119 0.    0.14 ]\n",
      "AUC all:  0.7865595942519019\n",
      "\n"
     ]
    },
    {
     "name": "stderr",
     "output_type": "stream",
     "text": [
      "[I 2019-08-24 12:10:36,683] Finished trial#475 resulted in value: -0.7865595942519019. Current best value is -0.7943082558467174 with parameters: {'w_lr': 0.03188777855097702, 'w_sv': 0.577373257538757, 'w_xgb': 0.12868607584601516, 'w_lgbm': 0.1053007910076171, 'w_mlp': 0.6623833317114562}.\n"
     ]
    },
    {
     "name": "stdout",
     "output_type": "stream",
     "text": [
      "[w_lr, w_lda, w_sv, w_xgb, w_lgbm,w_cb ] =  [0.019 0.    0.766 0.139 0.148 0.    0.716]\n",
      "AUC all:  0.7928994082840236\n",
      "\n"
     ]
    },
    {
     "name": "stderr",
     "output_type": "stream",
     "text": [
      "[I 2019-08-24 12:10:37,418] Finished trial#476 resulted in value: -0.7928994082840236. Current best value is -0.7943082558467174 with parameters: {'w_lr': 0.03188777855097702, 'w_sv': 0.577373257538757, 'w_xgb': 0.12868607584601516, 'w_lgbm': 0.1053007910076171, 'w_mlp': 0.6623833317114562}.\n"
     ]
    },
    {
     "name": "stdout",
     "output_type": "stream",
     "text": [
      "[w_lr, w_lda, w_sv, w_xgb, w_lgbm,w_cb ] =  [0.121 0.    0.653 0.045 0.061 0.    0.555]\n",
      "AUC all:  0.7917723302338687\n",
      "\n"
     ]
    },
    {
     "name": "stderr",
     "output_type": "stream",
     "text": [
      "[I 2019-08-24 12:10:38,119] Finished trial#477 resulted in value: -0.7917723302338687. Current best value is -0.7943082558467174 with parameters: {'w_lr': 0.03188777855097702, 'w_sv': 0.577373257538757, 'w_xgb': 0.12868607584601516, 'w_lgbm': 0.1053007910076171, 'w_mlp': 0.6623833317114562}.\n"
     ]
    },
    {
     "name": "stdout",
     "output_type": "stream",
     "text": [
      "[w_lr, w_lda, w_sv, w_xgb, w_lgbm,w_cb ] =  [0.035 0.    0.844 0.094 0.041 0.    0.598]\n",
      "AUC all:  0.7878275570583263\n",
      "\n"
     ]
    },
    {
     "name": "stderr",
     "output_type": "stream",
     "text": [
      "[I 2019-08-24 12:10:38,961] Finished trial#478 resulted in value: -0.7878275570583263. Current best value is -0.7943082558467174 with parameters: {'w_lr': 0.03188777855097702, 'w_sv': 0.577373257538757, 'w_xgb': 0.12868607584601516, 'w_lgbm': 0.1053007910076171, 'w_mlp': 0.6623833317114562}.\n"
     ]
    },
    {
     "name": "stdout",
     "output_type": "stream",
     "text": [
      "[w_lr, w_lda, w_sv, w_xgb, w_lgbm,w_cb ] =  [0.064 0.    0.604 0.126 0.115 0.    0.649]\n",
      "AUC all:  0.7933220625528317\n",
      "\n"
     ]
    },
    {
     "name": "stderr",
     "output_type": "stream",
     "text": [
      "[I 2019-08-24 12:10:39,670] Finished trial#479 resulted in value: -0.7933220625528317. Current best value is -0.7943082558467174 with parameters: {'w_lr': 0.03188777855097702, 'w_sv': 0.577373257538757, 'w_xgb': 0.12868607584601516, 'w_lgbm': 0.1053007910076171, 'w_mlp': 0.6623833317114562}.\n"
     ]
    },
    {
     "name": "stdout",
     "output_type": "stream",
     "text": [
      "[w_lr, w_lda, w_sv, w_xgb, w_lgbm,w_cb ] =  [0.041 0.    0.584 0.163 0.134 0.    0.676]\n",
      "AUC all:  0.7924767540152156\n",
      "\n"
     ]
    },
    {
     "name": "stderr",
     "output_type": "stream",
     "text": [
      "[I 2019-08-24 12:10:40,391] Finished trial#480 resulted in value: -0.7924767540152156. Current best value is -0.7943082558467174 with parameters: {'w_lr': 0.03188777855097702, 'w_sv': 0.577373257538757, 'w_xgb': 0.12868607584601516, 'w_lgbm': 0.1053007910076171, 'w_mlp': 0.6623833317114562}.\n"
     ]
    },
    {
     "name": "stdout",
     "output_type": "stream",
     "text": [
      "[w_lr, w_lda, w_sv, w_xgb, w_lgbm,w_cb ] =  [0.004 0.    0.611 0.114 0.092 0.    0.693]\n",
      "AUC all:  0.7923358692589463\n",
      "\n"
     ]
    },
    {
     "name": "stderr",
     "output_type": "stream",
     "text": [
      "[I 2019-08-24 12:10:41,242] Finished trial#481 resulted in value: -0.7923358692589463. Current best value is -0.7943082558467174 with parameters: {'w_lr': 0.03188777855097702, 'w_sv': 0.577373257538757, 'w_xgb': 0.12868607584601516, 'w_lgbm': 0.1053007910076171, 'w_mlp': 0.6623833317114562}.\n"
     ]
    },
    {
     "name": "stdout",
     "output_type": "stream",
     "text": [
      "[w_lr, w_lda, w_sv, w_xgb, w_lgbm,w_cb ] =  [0.097 0.    0.63  0.142 0.107 0.    0.64 ]\n",
      "AUC all:  0.7927585235277543\n",
      "\n"
     ]
    },
    {
     "name": "stderr",
     "output_type": "stream",
     "text": [
      "[I 2019-08-24 12:10:42,085] Finished trial#482 resulted in value: -0.7927585235277543. Current best value is -0.7943082558467174 with parameters: {'w_lr': 0.03188777855097702, 'w_sv': 0.577373257538757, 'w_xgb': 0.12868607584601516, 'w_lgbm': 0.1053007910076171, 'w_mlp': 0.6623833317114562}.\n"
     ]
    },
    {
     "name": "stdout",
     "output_type": "stream",
     "text": [
      "[w_lr, w_lda, w_sv, w_xgb, w_lgbm,w_cb ] =  [0.024 0.    0.543 0.213 0.081 0.    0.662]\n",
      "AUC all:  0.7885319808396731\n",
      "\n"
     ]
    },
    {
     "name": "stderr",
     "output_type": "stream",
     "text": [
      "[I 2019-08-24 12:10:42,923] Finished trial#483 resulted in value: -0.7885319808396731. Current best value is -0.7943082558467174 with parameters: {'w_lr': 0.03188777855097702, 'w_sv': 0.577373257538757, 'w_xgb': 0.12868607584601516, 'w_lgbm': 0.1053007910076171, 'w_mlp': 0.6623833317114562}.\n"
     ]
    },
    {
     "name": "stdout",
     "output_type": "stream",
     "text": [
      "[w_lr, w_lda, w_sv, w_xgb, w_lgbm,w_cb ] =  [0.057 0.    0.572 0.113 0.15  0.    0.631]\n",
      "AUC all:  0.7913496759650606\n",
      "\n"
     ]
    },
    {
     "name": "stderr",
     "output_type": "stream",
     "text": [
      "[I 2019-08-24 12:10:43,652] Finished trial#484 resulted in value: -0.7913496759650606. Current best value is -0.7943082558467174 with parameters: {'w_lr': 0.03188777855097702, 'w_sv': 0.577373257538757, 'w_xgb': 0.12868607584601516, 'w_lgbm': 0.1053007910076171, 'w_mlp': 0.6623833317114562}.\n"
     ]
    },
    {
     "name": "stdout",
     "output_type": "stream",
     "text": [
      "[w_lr, w_lda, w_sv, w_xgb, w_lgbm,w_cb ] =  [0.003 0.    0.494 0.07  0.12  0.    0.739]\n",
      "AUC all:  0.7917723302338686\n",
      "\n"
     ]
    },
    {
     "name": "stderr",
     "output_type": "stream",
     "text": [
      "[I 2019-08-24 12:10:44,375] Finished trial#485 resulted in value: -0.7917723302338686. Current best value is -0.7943082558467174 with parameters: {'w_lr': 0.03188777855097702, 'w_sv': 0.577373257538757, 'w_xgb': 0.12868607584601516, 'w_lgbm': 0.1053007910076171, 'w_mlp': 0.6623833317114562}.\n"
     ]
    },
    {
     "name": "stdout",
     "output_type": "stream",
     "text": [
      "[w_lr, w_lda, w_sv, w_xgb, w_lgbm,w_cb ] =  [0.078 0.    0.873 0.091 0.032 0.    0.609]\n",
      "AUC all:  0.78698224852071\n",
      "\n"
     ]
    },
    {
     "name": "stderr",
     "output_type": "stream",
     "text": [
      "[I 2019-08-24 12:10:45,133] Finished trial#486 resulted in value: -0.78698224852071. Current best value is -0.7943082558467174 with parameters: {'w_lr': 0.03188777855097702, 'w_sv': 0.577373257538757, 'w_xgb': 0.12868607584601516, 'w_lgbm': 0.1053007910076171, 'w_mlp': 0.6623833317114562}.\n"
     ]
    },
    {
     "name": "stdout",
     "output_type": "stream",
     "text": [
      "[w_lr, w_lda, w_sv, w_xgb, w_lgbm,w_cb ] =  [0.039 0.    0.663 0.084 0.061 0.    0.619]\n",
      "AUC all:  0.7906452521837137\n",
      "\n"
     ]
    },
    {
     "name": "stderr",
     "output_type": "stream",
     "text": [
      "[I 2019-08-24 12:10:46,036] Finished trial#487 resulted in value: -0.7906452521837137. Current best value is -0.7943082558467174 with parameters: {'w_lr': 0.03188777855097702, 'w_sv': 0.577373257538757, 'w_xgb': 0.12868607584601516, 'w_lgbm': 0.1053007910076171, 'w_mlp': 0.6623833317114562}.\n"
     ]
    },
    {
     "name": "stdout",
     "output_type": "stream",
     "text": [
      "[w_lr, w_lda, w_sv, w_xgb, w_lgbm,w_cb ] =  [0.017 0.    0.736 0.025 0.082 0.    0.673]\n",
      "AUC all:  0.7920540997464074\n",
      "\n"
     ]
    },
    {
     "name": "stderr",
     "output_type": "stream",
     "text": [
      "[I 2019-08-24 12:10:46,882] Finished trial#488 resulted in value: -0.7920540997464074. Current best value is -0.7943082558467174 with parameters: {'w_lr': 0.03188777855097702, 'w_sv': 0.577373257538757, 'w_xgb': 0.12868607584601516, 'w_lgbm': 0.1053007910076171, 'w_mlp': 0.6623833317114562}.\n"
     ]
    },
    {
     "name": "stdout",
     "output_type": "stream",
     "text": [
      "[w_lr, w_lda, w_sv, w_xgb, w_lgbm,w_cb ] =  [0.043 0.    0.678 0.102 0.093 0.    0.58 ]\n",
      "AUC all:  0.7931811777965624\n",
      "\n"
     ]
    },
    {
     "name": "stderr",
     "output_type": "stream",
     "text": [
      "[I 2019-08-24 12:10:47,601] Finished trial#489 resulted in value: -0.7931811777965624. Current best value is -0.7943082558467174 with parameters: {'w_lr': 0.03188777855097702, 'w_sv': 0.577373257538757, 'w_xgb': 0.12868607584601516, 'w_lgbm': 0.1053007910076171, 'w_mlp': 0.6623833317114562}.\n"
     ]
    },
    {
     "name": "stdout",
     "output_type": "stream",
     "text": [
      "[w_lr, w_lda, w_sv, w_xgb, w_lgbm,w_cb ] =  [0.018 0.    0.597 0.129 0.109 0.    0.649]\n",
      "AUC all:  0.7933220625528317\n",
      "\n"
     ]
    },
    {
     "name": "stderr",
     "output_type": "stream",
     "text": [
      "[I 2019-08-24 12:10:48,353] Finished trial#490 resulted in value: -0.7933220625528317. Current best value is -0.7943082558467174 with parameters: {'w_lr': 0.03188777855097702, 'w_sv': 0.577373257538757, 'w_xgb': 0.12868607584601516, 'w_lgbm': 0.1053007910076171, 'w_mlp': 0.6623833317114562}.\n"
     ]
    },
    {
     "name": "stdout",
     "output_type": "stream",
     "text": [
      "[w_lr, w_lda, w_sv, w_xgb, w_lgbm,w_cb ] =  [0.002 0.    0.636 0.063 0.444 0.    0.534]\n",
      "AUC all:  0.7748661594815441\n",
      "\n"
     ]
    },
    {
     "name": "stderr",
     "output_type": "stream",
     "text": [
      "[I 2019-08-24 12:10:49,098] Finished trial#491 resulted in value: -0.7748661594815441. Current best value is -0.7943082558467174 with parameters: {'w_lr': 0.03188777855097702, 'w_sv': 0.577373257538757, 'w_xgb': 0.12868607584601516, 'w_lgbm': 0.1053007910076171, 'w_mlp': 0.6623833317114562}.\n"
     ]
    },
    {
     "name": "stdout",
     "output_type": "stream",
     "text": [
      "[w_lr, w_lda, w_sv, w_xgb, w_lgbm,w_cb ] =  [0.071 0.    0.449 0.098 0.051 0.    0.599]\n",
      "AUC all:  0.7900817131586362\n",
      "\n"
     ]
    },
    {
     "name": "stderr",
     "output_type": "stream",
     "text": [
      "[I 2019-08-24 12:10:49,883] Finished trial#492 resulted in value: -0.7900817131586362. Current best value is -0.7943082558467174 with parameters: {'w_lr': 0.03188777855097702, 'w_sv': 0.577373257538757, 'w_xgb': 0.12868607584601516, 'w_lgbm': 0.1053007910076171, 'w_mlp': 0.6623833317114562}.\n"
     ]
    },
    {
     "name": "stdout",
     "output_type": "stream",
     "text": [
      "[w_lr, w_lda, w_sv, w_xgb, w_lgbm,w_cb ] =  [0.001 0.    0.708 0.153 0.13  0.    0.698]\n",
      "AUC all:  0.7928994082840237\n",
      "\n"
     ]
    },
    {
     "name": "stderr",
     "output_type": "stream",
     "text": [
      "[I 2019-08-24 12:10:50,617] Finished trial#493 resulted in value: -0.7928994082840237. Current best value is -0.7943082558467174 with parameters: {'w_lr': 0.03188777855097702, 'w_sv': 0.577373257538757, 'w_xgb': 0.12868607584601516, 'w_lgbm': 0.1053007910076171, 'w_mlp': 0.6623833317114562}.\n"
     ]
    },
    {
     "name": "stdout",
     "output_type": "stream",
     "text": [
      "[w_lr, w_lda, w_sv, w_xgb, w_lgbm,w_cb ] =  [0.031 0.    0.565 0.18  0.173 0.    0.675]\n",
      "AUC all:  0.7919132149901381\n",
      "\n"
     ]
    },
    {
     "name": "stderr",
     "output_type": "stream",
     "text": [
      "[I 2019-08-24 12:10:51,339] Finished trial#494 resulted in value: -0.7919132149901381. Current best value is -0.7943082558467174 with parameters: {'w_lr': 0.03188777855097702, 'w_sv': 0.577373257538757, 'w_xgb': 0.12868607584601516, 'w_lgbm': 0.1053007910076171, 'w_mlp': 0.6623833317114562}.\n"
     ]
    },
    {
     "name": "stdout",
     "output_type": "stream",
     "text": [
      "[w_lr, w_lda, w_sv, w_xgb, w_lgbm,w_cb ] =  [0.019 0.    0.61  0.126 0.103 0.    0.641]\n",
      "AUC all:  0.7944491406029868\n",
      "\n"
     ]
    },
    {
     "name": "stderr",
     "output_type": "stream",
     "text": [
      "[I 2019-08-24 12:10:52,070] Finished trial#495 resulted in value: -0.7944491406029868. Current best value is -0.7944491406029868 with parameters: {'w_lr': 0.018735636670162738, 'w_sv': 0.609782869522277, 'w_xgb': 0.1257268888344056, 'w_lgbm': 0.10282314833705018, 'w_mlp': 0.6409335052733912}.\n"
     ]
    },
    {
     "name": "stdout",
     "output_type": "stream",
     "text": [
      "[w_lr, w_lda, w_sv, w_xgb, w_lgbm,w_cb ] =  [0.001 0.    0.618 0.129 0.1   0.    0.65 ]\n",
      "AUC all:  0.7937447168216398\n",
      "\n"
     ]
    },
    {
     "name": "stderr",
     "output_type": "stream",
     "text": [
      "[I 2019-08-24 12:10:52,849] Finished trial#496 resulted in value: -0.7937447168216398. Current best value is -0.7944491406029868 with parameters: {'w_lr': 0.018735636670162738, 'w_sv': 0.609782869522277, 'w_xgb': 0.1257268888344056, 'w_lgbm': 0.10282314833705018, 'w_mlp': 0.6409335052733912}.\n"
     ]
    },
    {
     "name": "stdout",
     "output_type": "stream",
     "text": [
      "[w_lr, w_lda, w_sv, w_xgb, w_lgbm,w_cb ] =  [0.002 0.    0.625 0.151 0.139 0.    0.658]\n",
      "AUC all:  0.7931811777965624\n",
      "\n"
     ]
    },
    {
     "name": "stderr",
     "output_type": "stream",
     "text": [
      "[I 2019-08-24 12:10:53,595] Finished trial#497 resulted in value: -0.7931811777965624. Current best value is -0.7944491406029868 with parameters: {'w_lr': 0.018735636670162738, 'w_sv': 0.609782869522277, 'w_xgb': 0.1257268888344056, 'w_lgbm': 0.10282314833705018, 'w_mlp': 0.6409335052733912}.\n"
     ]
    },
    {
     "name": "stdout",
     "output_type": "stream",
     "text": [
      "[w_lr, w_lda, w_sv, w_xgb, w_lgbm,w_cb ] =  [0.023 0.    0.648 0.127 0.071 0.    0.633]\n",
      "AUC all:  0.7910679064525218\n",
      "\n"
     ]
    },
    {
     "name": "stderr",
     "output_type": "stream",
     "text": [
      "[I 2019-08-24 12:10:54,328] Finished trial#498 resulted in value: -0.7910679064525218. Current best value is -0.7944491406029868 with parameters: {'w_lr': 0.018735636670162738, 'w_sv': 0.609782869522277, 'w_xgb': 0.1257268888344056, 'w_lgbm': 0.10282314833705018, 'w_mlp': 0.6409335052733912}.\n"
     ]
    },
    {
     "name": "stdout",
     "output_type": "stream",
     "text": [
      "[w_lr, w_lda, w_sv, w_xgb, w_lgbm,w_cb ] =  [0.05  0.    0.667 0.308 0.081 0.    0.611]\n",
      "AUC all:  0.7869822485207101\n",
      "\n"
     ]
    },
    {
     "name": "stderr",
     "output_type": "stream",
     "text": [
      "[I 2019-08-24 12:10:55,067] Finished trial#499 resulted in value: -0.7869822485207101. Current best value is -0.7944491406029868 with parameters: {'w_lr': 0.018735636670162738, 'w_sv': 0.609782869522277, 'w_xgb': 0.1257268888344056, 'w_lgbm': 0.10282314833705018, 'w_mlp': 0.6409335052733912}.\n"
     ]
    },
    {
     "name": "stdout",
     "output_type": "stream",
     "text": [
      "[w_lr, w_lda, w_sv, w_xgb, w_lgbm,w_cb ] =  [0.021 0.    0.616 0.18  0.108 0.    0.704]\n",
      "AUC all:  0.7920540997464074\n",
      "\n"
     ]
    },
    {
     "name": "stderr",
     "output_type": "stream",
     "text": [
      "[I 2019-08-24 12:10:55,805] Finished trial#500 resulted in value: -0.7920540997464074. Current best value is -0.7944491406029868 with parameters: {'w_lr': 0.018735636670162738, 'w_sv': 0.609782869522277, 'w_xgb': 0.1257268888344056, 'w_lgbm': 0.10282314833705018, 'w_mlp': 0.6409335052733912}.\n"
     ]
    },
    {
     "name": "stdout",
     "output_type": "stream",
     "text": [
      "[w_lr, w_lda, w_sv, w_xgb, w_lgbm,w_cb ] =  [0.11  0.    0.64  0.109 0.093 0.    0.633]\n",
      "AUC all:  0.7930402930402929\n",
      "\n"
     ]
    },
    {
     "name": "stderr",
     "output_type": "stream",
     "text": [
      "[I 2019-08-24 12:10:56,662] Finished trial#501 resulted in value: -0.7930402930402929. Current best value is -0.7944491406029868 with parameters: {'w_lr': 0.018735636670162738, 'w_sv': 0.609782869522277, 'w_xgb': 0.1257268888344056, 'w_lgbm': 0.10282314833705018, 'w_mlp': 0.6409335052733912}.\n"
     ]
    },
    {
     "name": "stdout",
     "output_type": "stream",
     "text": [
      "[w_lr, w_lda, w_sv, w_xgb, w_lgbm,w_cb ] =  [0.018 0.    0.607 0.128 0.113 0.    0.502]\n",
      "AUC all:  0.7928994082840236\n",
      "\n"
     ]
    },
    {
     "name": "stderr",
     "output_type": "stream",
     "text": [
      "[I 2019-08-24 12:10:57,488] Finished trial#502 resulted in value: -0.7928994082840236. Current best value is -0.7944491406029868 with parameters: {'w_lr': 0.018735636670162738, 'w_sv': 0.609782869522277, 'w_xgb': 0.1257268888344056, 'w_lgbm': 0.10282314833705018, 'w_mlp': 0.6409335052733912}.\n"
     ]
    },
    {
     "name": "stdout",
     "output_type": "stream",
     "text": [
      "[w_lr, w_lda, w_sv, w_xgb, w_lgbm,w_cb ] =  [0.001 0.    0.586 0.151 0.16  0.    0.68 ]\n",
      "AUC all:  0.791913214990138\n",
      "\n"
     ]
    },
    {
     "name": "stderr",
     "output_type": "stream",
     "text": [
      "[I 2019-08-24 12:10:58,305] Finished trial#503 resulted in value: -0.791913214990138. Current best value is -0.7944491406029868 with parameters: {'w_lr': 0.018735636670162738, 'w_sv': 0.609782869522277, 'w_xgb': 0.1257268888344056, 'w_lgbm': 0.10282314833705018, 'w_mlp': 0.6409335052733912}.\n"
     ]
    },
    {
     "name": "stdout",
     "output_type": "stream",
     "text": [
      "[w_lr, w_lda, w_sv, w_xgb, w_lgbm,w_cb ] =  [0.054 0.    0.632 0.475 0.092 0.    0.649]\n",
      "AUC all:  0.7826148210763596\n",
      "\n"
     ]
    },
    {
     "name": "stderr",
     "output_type": "stream",
     "text": [
      "[I 2019-08-24 12:10:59,051] Finished trial#504 resulted in value: -0.7826148210763596. Current best value is -0.7944491406029868 with parameters: {'w_lr': 0.018735636670162738, 'w_sv': 0.609782869522277, 'w_xgb': 0.1257268888344056, 'w_lgbm': 0.10282314833705018, 'w_mlp': 0.6409335052733912}.\n"
     ]
    },
    {
     "name": "stdout",
     "output_type": "stream",
     "text": [
      "[w_lr, w_lda, w_sv, w_xgb, w_lgbm,w_cb ] =  [0.04  0.    0.65  0.125 0.062 0.    0.654]\n",
      "AUC all:  0.7895181741335587\n",
      "\n"
     ]
    },
    {
     "name": "stderr",
     "output_type": "stream",
     "text": [
      "[I 2019-08-24 12:10:59,797] Finished trial#505 resulted in value: -0.7895181741335587. Current best value is -0.7944491406029868 with parameters: {'w_lr': 0.018735636670162738, 'w_sv': 0.609782869522277, 'w_xgb': 0.1257268888344056, 'w_lgbm': 0.10282314833705018, 'w_mlp': 0.6409335052733912}.\n"
     ]
    },
    {
     "name": "stdout",
     "output_type": "stream",
     "text": [
      "[w_lr, w_lda, w_sv, w_xgb, w_lgbm,w_cb ] =  [0.032 0.    0.614 0.133 0.006 0.    0.644]\n",
      "AUC all:  0.7774020850943929\n",
      "\n"
     ]
    },
    {
     "name": "stderr",
     "output_type": "stream",
     "text": [
      "[I 2019-08-24 12:11:00,541] Finished trial#506 resulted in value: -0.7774020850943929. Current best value is -0.7944491406029868 with parameters: {'w_lr': 0.018735636670162738, 'w_sv': 0.609782869522277, 'w_xgb': 0.1257268888344056, 'w_lgbm': 0.10282314833705018, 'w_mlp': 0.6409335052733912}.\n"
     ]
    },
    {
     "name": "stdout",
     "output_type": "stream",
     "text": [
      "[w_lr, w_lda, w_sv, w_xgb, w_lgbm,w_cb ] =  [0.019 0.    0.555 0.098 0.123 0.    0.662]\n",
      "AUC all:  0.7923358692589462\n",
      "\n"
     ]
    },
    {
     "name": "stderr",
     "output_type": "stream",
     "text": [
      "[I 2019-08-24 12:11:01,346] Finished trial#507 resulted in value: -0.7923358692589462. Current best value is -0.7944491406029868 with parameters: {'w_lr': 0.018735636670162738, 'w_sv': 0.609782869522277, 'w_xgb': 0.1257268888344056, 'w_lgbm': 0.10282314833705018, 'w_mlp': 0.6409335052733912}.\n"
     ]
    },
    {
     "name": "stdout",
     "output_type": "stream",
     "text": [
      "[w_lr, w_lda, w_sv, w_xgb, w_lgbm,w_cb ] =  [0.725 0.    0.597 0.112 0.1   0.    0.625]\n",
      "AUC all:  0.7927585235277543\n",
      "\n"
     ]
    },
    {
     "name": "stderr",
     "output_type": "stream",
     "text": [
      "[I 2019-08-24 12:11:02,108] Finished trial#508 resulted in value: -0.7927585235277543. Current best value is -0.7944491406029868 with parameters: {'w_lr': 0.018735636670162738, 'w_sv': 0.609782869522277, 'w_xgb': 0.1257268888344056, 'w_lgbm': 0.10282314833705018, 'w_mlp': 0.6409335052733912}.\n"
     ]
    },
    {
     "name": "stdout",
     "output_type": "stream",
     "text": [
      "[w_lr, w_lda, w_sv, w_xgb, w_lgbm,w_cb ] =  [0.058 0.    0.683 0.079 0.035 0.    0.576]\n",
      "AUC all:  0.7869822485207102\n",
      "\n"
     ]
    },
    {
     "name": "stderr",
     "output_type": "stream",
     "text": [
      "[I 2019-08-24 12:11:02,869] Finished trial#509 resulted in value: -0.7869822485207102. Current best value is -0.7944491406029868 with parameters: {'w_lr': 0.018735636670162738, 'w_sv': 0.609782869522277, 'w_xgb': 0.1257268888344056, 'w_lgbm': 0.10282314833705018, 'w_mlp': 0.6409335052733912}.\n"
     ]
    },
    {
     "name": "stdout",
     "output_type": "stream",
     "text": [
      "[w_lr, w_lda, w_sv, w_xgb, w_lgbm,w_cb ] =  [0.    0.    0.663 0.044 0.074 0.    0.594]\n",
      "AUC all:  0.793040293040293\n",
      "\n"
     ]
    },
    {
     "name": "stderr",
     "output_type": "stream",
     "text": [
      "[I 2019-08-24 12:11:03,621] Finished trial#510 resulted in value: -0.793040293040293. Current best value is -0.7944491406029868 with parameters: {'w_lr': 0.018735636670162738, 'w_sv': 0.609782869522277, 'w_xgb': 0.1257268888344056, 'w_lgbm': 0.10282314833705018, 'w_mlp': 0.6409335052733912}.\n"
     ]
    },
    {
     "name": "stdout",
     "output_type": "stream",
     "text": [
      "[w_lr, w_lda, w_sv, w_xgb, w_lgbm,w_cb ] =  [0.036 0.    0.57  0.167 0.116 0.    0.642]\n",
      "AUC all:  0.7917723302338687\n",
      "\n"
     ]
    },
    {
     "name": "stderr",
     "output_type": "stream",
     "text": [
      "[I 2019-08-24 12:11:04,413] Finished trial#511 resulted in value: -0.7917723302338687. Current best value is -0.7944491406029868 with parameters: {'w_lr': 0.018735636670162738, 'w_sv': 0.609782869522277, 'w_xgb': 0.1257268888344056, 'w_lgbm': 0.10282314833705018, 'w_mlp': 0.6409335052733912}.\n"
     ]
    },
    {
     "name": "stdout",
     "output_type": "stream",
     "text": [
      "[w_lr, w_lda, w_sv, w_xgb, w_lgbm,w_cb ] =  [0.086 0.    0.621 0.125 0.097 0.    0.629]\n",
      "AUC all:  0.7934629473091012\n",
      "\n"
     ]
    },
    {
     "name": "stderr",
     "output_type": "stream",
     "text": [
      "[I 2019-08-24 12:11:05,176] Finished trial#512 resulted in value: -0.7934629473091012. Current best value is -0.7944491406029868 with parameters: {'w_lr': 0.018735636670162738, 'w_sv': 0.609782869522277, 'w_xgb': 0.1257268888344056, 'w_lgbm': 0.10282314833705018, 'w_mlp': 0.6409335052733912}.\n"
     ]
    },
    {
     "name": "stdout",
     "output_type": "stream",
     "text": [
      "[w_lr, w_lda, w_sv, w_xgb, w_lgbm,w_cb ] =  [0.002 0.    0.595 0.16  0.191 0.    0.691]\n",
      "AUC all:  0.7916314454775992\n",
      "\n"
     ]
    },
    {
     "name": "stderr",
     "output_type": "stream",
     "text": [
      "[I 2019-08-24 12:11:05,929] Finished trial#513 resulted in value: -0.7916314454775992. Current best value is -0.7944491406029868 with parameters: {'w_lr': 0.018735636670162738, 'w_sv': 0.609782869522277, 'w_xgb': 0.1257268888344056, 'w_lgbm': 0.10282314833705018, 'w_mlp': 0.6409335052733912}.\n"
     ]
    },
    {
     "name": "stdout",
     "output_type": "stream",
     "text": [
      "[w_lr, w_lda, w_sv, w_xgb, w_lgbm,w_cb ] =  [0.    0.    0.638 0.148 0.135 0.    0.678]\n",
      "AUC all:  0.7928994082840237\n",
      "\n"
     ]
    },
    {
     "name": "stderr",
     "output_type": "stream",
     "text": [
      "[I 2019-08-24 12:11:06,765] Finished trial#514 resulted in value: -0.7928994082840237. Current best value is -0.7944491406029868 with parameters: {'w_lr': 0.018735636670162738, 'w_sv': 0.609782869522277, 'w_xgb': 0.1257268888344056, 'w_lgbm': 0.10282314833705018, 'w_mlp': 0.6409335052733912}.\n"
     ]
    },
    {
     "name": "stdout",
     "output_type": "stream",
     "text": [
      "[w_lr, w_lda, w_sv, w_xgb, w_lgbm,w_cb ] =  [0.552 0.    0.619 0.099 0.083 0.    0.614]\n",
      "AUC all:  0.7909270216962523\n",
      "\n"
     ]
    },
    {
     "name": "stderr",
     "output_type": "stream",
     "text": [
      "[I 2019-08-24 12:11:07,626] Finished trial#515 resulted in value: -0.7909270216962523. Current best value is -0.7944491406029868 with parameters: {'w_lr': 0.018735636670162738, 'w_sv': 0.609782869522277, 'w_xgb': 0.1257268888344056, 'w_lgbm': 0.10282314833705018, 'w_mlp': 0.6409335052733912}.\n"
     ]
    },
    {
     "name": "stdout",
     "output_type": "stream",
     "text": [
      "[w_lr, w_lda, w_sv, w_xgb, w_lgbm,w_cb ] =  [0.058 0.    0.699 0.237 0.051 0.    0.662]\n",
      "AUC all:  0.7823330515638208\n",
      "\n"
     ]
    },
    {
     "name": "stderr",
     "output_type": "stream",
     "text": [
      "[I 2019-08-24 12:11:08,387] Finished trial#516 resulted in value: -0.7823330515638208. Current best value is -0.7944491406029868 with parameters: {'w_lr': 0.018735636670162738, 'w_sv': 0.609782869522277, 'w_xgb': 0.1257268888344056, 'w_lgbm': 0.10282314833705018, 'w_mlp': 0.6409335052733912}.\n"
     ]
    },
    {
     "name": "stdout",
     "output_type": "stream",
     "text": [
      "[w_lr, w_lda, w_sv, w_xgb, w_lgbm,w_cb ] =  [0.086 0.    0.648 0.376 0.067 0.    0.618]\n",
      "AUC all:  0.7816286277824739\n",
      "\n"
     ]
    },
    {
     "name": "stderr",
     "output_type": "stream",
     "text": [
      "[I 2019-08-24 12:11:09,145] Finished trial#517 resulted in value: -0.7816286277824739. Current best value is -0.7944491406029868 with parameters: {'w_lr': 0.018735636670162738, 'w_sv': 0.609782869522277, 'w_xgb': 0.1257268888344056, 'w_lgbm': 0.10282314833705018, 'w_mlp': 0.6409335052733912}.\n"
     ]
    },
    {
     "name": "stdout",
     "output_type": "stream",
     "text": [
      "[w_lr, w_lda, w_sv, w_xgb, w_lgbm,w_cb ] =  [0.069 0.    0.622 0.132 0.103 0.    0.639]\n",
      "AUC all:  0.7936038320653706\n",
      "\n"
     ]
    },
    {
     "name": "stderr",
     "output_type": "stream",
     "text": [
      "[I 2019-08-24 12:11:09,907] Finished trial#518 resulted in value: -0.7936038320653706. Current best value is -0.7944491406029868 with parameters: {'w_lr': 0.018735636670162738, 'w_sv': 0.609782869522277, 'w_xgb': 0.1257268888344056, 'w_lgbm': 0.10282314833705018, 'w_mlp': 0.6409335052733912}.\n"
     ]
    },
    {
     "name": "stdout",
     "output_type": "stream",
     "text": [
      "[w_lr, w_lda, w_sv, w_xgb, w_lgbm,w_cb ] =  [0.081 0.    0.629 0.195 0.105 0.    0.637]\n",
      "AUC all:  0.7907861369399829\n",
      "\n"
     ]
    },
    {
     "name": "stderr",
     "output_type": "stream",
     "text": [
      "[I 2019-08-24 12:11:10,721] Finished trial#519 resulted in value: -0.7907861369399829. Current best value is -0.7944491406029868 with parameters: {'w_lr': 0.018735636670162738, 'w_sv': 0.609782869522277, 'w_xgb': 0.1257268888344056, 'w_lgbm': 0.10282314833705018, 'w_mlp': 0.6409335052733912}.\n"
     ]
    },
    {
     "name": "stdout",
     "output_type": "stream",
     "text": [
      "[w_lr, w_lda, w_sv, w_xgb, w_lgbm,w_cb ] =  [0.12  0.    0.61  0.118 0.118 0.    0.655]\n",
      "AUC all:  0.7936038320653706\n",
      "\n"
     ]
    },
    {
     "name": "stderr",
     "output_type": "stream",
     "text": [
      "[I 2019-08-24 12:11:11,534] Finished trial#520 resulted in value: -0.7936038320653706. Current best value is -0.7944491406029868 with parameters: {'w_lr': 0.018735636670162738, 'w_sv': 0.609782869522277, 'w_xgb': 0.1257268888344056, 'w_lgbm': 0.10282314833705018, 'w_mlp': 0.6409335052733912}.\n"
     ]
    },
    {
     "name": "stdout",
     "output_type": "stream",
     "text": [
      "[w_lr, w_lda, w_sv, w_xgb, w_lgbm,w_cb ] =  [0.134 0.    0.669 0.138 0.13  0.    0.665]\n",
      "AUC all:  0.793040293040293\n",
      "\n"
     ]
    },
    {
     "name": "stderr",
     "output_type": "stream",
     "text": [
      "[I 2019-08-24 12:11:12,333] Finished trial#521 resulted in value: -0.793040293040293. Current best value is -0.7944491406029868 with parameters: {'w_lr': 0.018735636670162738, 'w_sv': 0.609782869522277, 'w_xgb': 0.1257268888344056, 'w_lgbm': 0.10282314833705018, 'w_mlp': 0.6409335052733912}.\n"
     ]
    },
    {
     "name": "stdout",
     "output_type": "stream",
     "text": [
      "[w_lr, w_lda, w_sv, w_xgb, w_lgbm,w_cb ] =  [0.116 0.    0.647 0.117 0.146 0.    0.663]\n",
      "AUC all:  0.7924767540152154\n",
      "\n"
     ]
    },
    {
     "name": "stderr",
     "output_type": "stream",
     "text": [
      "[I 2019-08-24 12:11:13,226] Finished trial#522 resulted in value: -0.7924767540152154. Current best value is -0.7944491406029868 with parameters: {'w_lr': 0.018735636670162738, 'w_sv': 0.609782869522277, 'w_xgb': 0.1257268888344056, 'w_lgbm': 0.10282314833705018, 'w_mlp': 0.6409335052733912}.\n"
     ]
    },
    {
     "name": "stdout",
     "output_type": "stream",
     "text": [
      "[w_lr, w_lda, w_sv, w_xgb, w_lgbm,w_cb ] =  [0.067 0.    0.609 0.171 0.122 0.    0.652]\n",
      "AUC all:  0.7917723302338687\n",
      "\n"
     ]
    },
    {
     "name": "stderr",
     "output_type": "stream",
     "text": [
      "[I 2019-08-24 12:11:14,041] Finished trial#523 resulted in value: -0.7917723302338687. Current best value is -0.7944491406029868 with parameters: {'w_lr': 0.018735636670162738, 'w_sv': 0.609782869522277, 'w_xgb': 0.1257268888344056, 'w_lgbm': 0.10282314833705018, 'w_mlp': 0.6409335052733912}.\n"
     ]
    },
    {
     "name": "stdout",
     "output_type": "stream",
     "text": [
      "[w_lr, w_lda, w_sv, w_xgb, w_lgbm,w_cb ] =  [0.106 0.    0.631 0.694 0.107 0.    0.684]\n",
      "AUC all:  0.782051282051282\n",
      "\n"
     ]
    },
    {
     "name": "stderr",
     "output_type": "stream",
     "text": [
      "[I 2019-08-24 12:11:14,806] Finished trial#524 resulted in value: -0.782051282051282. Current best value is -0.7944491406029868 with parameters: {'w_lr': 0.018735636670162738, 'w_sv': 0.609782869522277, 'w_xgb': 0.1257268888344056, 'w_lgbm': 0.10282314833705018, 'w_mlp': 0.6409335052733912}.\n"
     ]
    },
    {
     "name": "stdout",
     "output_type": "stream",
     "text": [
      "[w_lr, w_lda, w_sv, w_xgb, w_lgbm,w_cb ] =  [0.073 0.    0.591 0.135 0.158 0.    0.646]\n",
      "AUC all:  0.791913214990138\n",
      "\n"
     ]
    },
    {
     "name": "stderr",
     "output_type": "stream",
     "text": [
      "[I 2019-08-24 12:11:15,608] Finished trial#525 resulted in value: -0.791913214990138. Current best value is -0.7944491406029868 with parameters: {'w_lr': 0.018735636670162738, 'w_sv': 0.609782869522277, 'w_xgb': 0.1257268888344056, 'w_lgbm': 0.10282314833705018, 'w_mlp': 0.6409335052733912}.\n"
     ]
    },
    {
     "name": "stdout",
     "output_type": "stream",
     "text": [
      "[w_lr, w_lda, w_sv, w_xgb, w_lgbm,w_cb ] =  [0.052 0.    0.606 0.111 0.124 0.    0.673]\n",
      "AUC all:  0.7923358692589462\n",
      "\n"
     ]
    },
    {
     "name": "stderr",
     "output_type": "stream",
     "text": [
      "[I 2019-08-24 12:11:16,373] Finished trial#526 resulted in value: -0.7923358692589462. Current best value is -0.7944491406029868 with parameters: {'w_lr': 0.018735636670162738, 'w_sv': 0.609782869522277, 'w_xgb': 0.1257268888344056, 'w_lgbm': 0.10282314833705018, 'w_mlp': 0.6409335052733912}.\n"
     ]
    },
    {
     "name": "stdout",
     "output_type": "stream",
     "text": [
      "[w_lr, w_lda, w_sv, w_xgb, w_lgbm,w_cb ] =  [0.092 0.    0.654 0.144 0.084 0.    0.637]\n",
      "AUC all:  0.7909270216962525\n",
      "\n"
     ]
    },
    {
     "name": "stderr",
     "output_type": "stream",
     "text": [
      "[I 2019-08-24 12:11:17,148] Finished trial#527 resulted in value: -0.7909270216962525. Current best value is -0.7944491406029868 with parameters: {'w_lr': 0.018735636670162738, 'w_sv': 0.609782869522277, 'w_xgb': 0.1257268888344056, 'w_lgbm': 0.10282314833705018, 'w_mlp': 0.6409335052733912}.\n"
     ]
    },
    {
     "name": "stdout",
     "output_type": "stream",
     "text": [
      "[w_lr, w_lda, w_sv, w_xgb, w_lgbm,w_cb ] =  [0.068 0.    0.625 0.096 0.103 0.    0.658]\n",
      "AUC all:  0.793040293040293\n",
      "\n"
     ]
    },
    {
     "name": "stderr",
     "output_type": "stream",
     "text": [
      "[I 2019-08-24 12:11:17,945] Finished trial#528 resulted in value: -0.793040293040293. Current best value is -0.7944491406029868 with parameters: {'w_lr': 0.018735636670162738, 'w_sv': 0.609782869522277, 'w_xgb': 0.1257268888344056, 'w_lgbm': 0.10282314833705018, 'w_mlp': 0.6409335052733912}.\n"
     ]
    },
    {
     "name": "stdout",
     "output_type": "stream",
     "text": [
      "[w_lr, w_lda, w_sv, w_xgb, w_lgbm,w_cb ] =  [0.036 0.    0.584 0.123 0.136 0.    0.719]\n",
      "AUC all:  0.7921949845026768\n",
      "\n"
     ]
    },
    {
     "name": "stderr",
     "output_type": "stream",
     "text": [
      "[I 2019-08-24 12:11:18,797] Finished trial#529 resulted in value: -0.7921949845026768. Current best value is -0.7944491406029868 with parameters: {'w_lr': 0.018735636670162738, 'w_sv': 0.609782869522277, 'w_xgb': 0.1257268888344056, 'w_lgbm': 0.10282314833705018, 'w_mlp': 0.6409335052733912}.\n"
     ]
    },
    {
     "name": "stdout",
     "output_type": "stream",
     "text": [
      "[w_lr, w_lda, w_sv, w_xgb, w_lgbm,w_cb ] =  [0.062 0.    0.67  0.167 0.112 0.    0.624]\n",
      "AUC all:  0.7916314454775993\n",
      "\n"
     ]
    },
    {
     "name": "stderr",
     "output_type": "stream",
     "text": [
      "[I 2019-08-24 12:11:19,601] Finished trial#530 resulted in value: -0.7916314454775993. Current best value is -0.7944491406029868 with parameters: {'w_lr': 0.018735636670162738, 'w_sv': 0.609782869522277, 'w_xgb': 0.1257268888344056, 'w_lgbm': 0.10282314833705018, 'w_mlp': 0.6409335052733912}.\n"
     ]
    },
    {
     "name": "stdout",
     "output_type": "stream",
     "text": [
      "[w_lr, w_lda, w_sv, w_xgb, w_lgbm,w_cb ] =  [0.042 0.    0.609 0.107 0.079 0.    0.676]\n",
      "AUC all:  0.7913496759650606\n",
      "\n"
     ]
    },
    {
     "name": "stderr",
     "output_type": "stream",
     "text": [
      "[I 2019-08-24 12:11:20,586] Finished trial#531 resulted in value: -0.7913496759650606. Current best value is -0.7944491406029868 with parameters: {'w_lr': 0.018735636670162738, 'w_sv': 0.609782869522277, 'w_xgb': 0.1257268888344056, 'w_lgbm': 0.10282314833705018, 'w_mlp': 0.6409335052733912}.\n"
     ]
    },
    {
     "name": "stdout",
     "output_type": "stream",
     "text": [
      "[w_lr, w_lda, w_sv, w_xgb, w_lgbm,w_cb ] =  [0.124 0.    0.639 0.139 0.099 0.    0.647]\n",
      "AUC all:  0.7933220625528318\n",
      "\n"
     ]
    },
    {
     "name": "stderr",
     "output_type": "stream",
     "text": [
      "[I 2019-08-24 12:11:21,419] Finished trial#532 resulted in value: -0.7933220625528318. Current best value is -0.7944491406029868 with parameters: {'w_lr': 0.018735636670162738, 'w_sv': 0.609782869522277, 'w_xgb': 0.1257268888344056, 'w_lgbm': 0.10282314833705018, 'w_mlp': 0.6409335052733912}.\n"
     ]
    },
    {
     "name": "stdout",
     "output_type": "stream",
     "text": [
      "[w_lr, w_lda, w_sv, w_xgb, w_lgbm,w_cb ] =  [0.032 0.    0.577 0.092 0.153 0.    0.608]\n",
      "AUC all:  0.7896590588898281\n",
      "\n"
     ]
    },
    {
     "name": "stderr",
     "output_type": "stream",
     "text": [
      "[I 2019-08-24 12:11:22,237] Finished trial#533 resulted in value: -0.7896590588898281. Current best value is -0.7944491406029868 with parameters: {'w_lr': 0.018735636670162738, 'w_sv': 0.609782869522277, 'w_xgb': 0.1257268888344056, 'w_lgbm': 0.10282314833705018, 'w_mlp': 0.6409335052733912}.\n"
     ]
    },
    {
     "name": "stdout",
     "output_type": "stream",
     "text": [
      "[w_lr, w_lda, w_sv, w_xgb, w_lgbm,w_cb ] =  [0.052 0.    0.683 0.151 0.071 0.    0.632]\n",
      "AUC all:  0.7905043674274443\n",
      "\n"
     ]
    },
    {
     "name": "stderr",
     "output_type": "stream",
     "text": [
      "[I 2019-08-24 12:11:23,017] Finished trial#534 resulted in value: -0.7905043674274443. Current best value is -0.7944491406029868 with parameters: {'w_lr': 0.018735636670162738, 'w_sv': 0.609782869522277, 'w_xgb': 0.1257268888344056, 'w_lgbm': 0.10282314833705018, 'w_mlp': 0.6409335052733912}.\n"
     ]
    },
    {
     "name": "stdout",
     "output_type": "stream",
     "text": [
      "[w_lr, w_lda, w_sv, w_xgb, w_lgbm,w_cb ] =  [0.091 0.    0.616 0.119 0.121 0.    0.66 ]\n",
      "AUC all:  0.7927585235277543\n",
      "\n"
     ]
    },
    {
     "name": "stderr",
     "output_type": "stream",
     "text": [
      "[I 2019-08-24 12:11:23,843] Finished trial#535 resulted in value: -0.7927585235277543. Current best value is -0.7944491406029868 with parameters: {'w_lr': 0.018735636670162738, 'w_sv': 0.609782869522277, 'w_xgb': 0.1257268888344056, 'w_lgbm': 0.10282314833705018, 'w_mlp': 0.6409335052733912}.\n"
     ]
    },
    {
     "name": "stdout",
     "output_type": "stream",
     "text": [
      "[w_lr, w_lda, w_sv, w_xgb, w_lgbm,w_cb ] =  [0.019 0.    0.646 0.082 0.086 0.    0.7  ]\n",
      "AUC all:  0.7923358692589462\n",
      "\n"
     ]
    },
    {
     "name": "stderr",
     "output_type": "stream",
     "text": [
      "[I 2019-08-24 12:11:24,742] Finished trial#536 resulted in value: -0.7923358692589462. Current best value is -0.7944491406029868 with parameters: {'w_lr': 0.018735636670162738, 'w_sv': 0.609782869522277, 'w_xgb': 0.1257268888344056, 'w_lgbm': 0.10282314833705018, 'w_mlp': 0.6409335052733912}.\n"
     ]
    },
    {
     "name": "stdout",
     "output_type": "stream",
     "text": [
      "[w_lr, w_lda, w_sv, w_xgb, w_lgbm,w_cb ] =  [0.071 0.    0.597 0.13  0.638 0.    0.677]\n",
      "AUC all:  0.7751479289940828\n",
      "\n"
     ]
    },
    {
     "name": "stderr",
     "output_type": "stream",
     "text": [
      "[I 2019-08-24 12:11:25,527] Finished trial#537 resulted in value: -0.7751479289940828. Current best value is -0.7944491406029868 with parameters: {'w_lr': 0.018735636670162738, 'w_sv': 0.609782869522277, 'w_xgb': 0.1257268888344056, 'w_lgbm': 0.10282314833705018, 'w_mlp': 0.6409335052733912}.\n"
     ]
    },
    {
     "name": "stdout",
     "output_type": "stream",
     "text": [
      "[w_lr, w_lda, w_sv, w_xgb, w_lgbm,w_cb ] =  [0.037 0.    0.634 0.193 0.105 0.    0.618]\n",
      "AUC all:  0.7902225979149056\n",
      "\n"
     ]
    },
    {
     "name": "stderr",
     "output_type": "stream",
     "text": [
      "[I 2019-08-24 12:11:26,345] Finished trial#538 resulted in value: -0.7902225979149056. Current best value is -0.7944491406029868 with parameters: {'w_lr': 0.018735636670162738, 'w_sv': 0.609782869522277, 'w_xgb': 0.1257268888344056, 'w_lgbm': 0.10282314833705018, 'w_mlp': 0.6409335052733912}.\n"
     ]
    },
    {
     "name": "stdout",
     "output_type": "stream",
     "text": [
      "[w_lr, w_lda, w_sv, w_xgb, w_lgbm,w_cb ] =  [0.    0.    0.58  0.109 0.133 0.    0.644]\n",
      "AUC all:  0.7920540997464074\n",
      "\n"
     ]
    },
    {
     "name": "stderr",
     "output_type": "stream",
     "text": [
      "[I 2019-08-24 12:11:27,175] Finished trial#539 resulted in value: -0.7920540997464074. Current best value is -0.7944491406029868 with parameters: {'w_lr': 0.018735636670162738, 'w_sv': 0.609782869522277, 'w_xgb': 0.1257268888344056, 'w_lgbm': 0.10282314833705018, 'w_mlp': 0.6409335052733912}.\n"
     ]
    },
    {
     "name": "stdout",
     "output_type": "stream",
     "text": [
      "[w_lr, w_lda, w_sv, w_xgb, w_lgbm,w_cb ] =  [0.104 0.    0.708 0.162 0.064 0.    0.583]\n",
      "AUC all:  0.7888137503522119\n",
      "\n"
     ]
    },
    {
     "name": "stderr",
     "output_type": "stream",
     "text": [
      "[I 2019-08-24 12:11:27,958] Finished trial#540 resulted in value: -0.7888137503522119. Current best value is -0.7944491406029868 with parameters: {'w_lr': 0.018735636670162738, 'w_sv': 0.609782869522277, 'w_xgb': 0.1257268888344056, 'w_lgbm': 0.10282314833705018, 'w_mlp': 0.6409335052733912}.\n"
     ]
    },
    {
     "name": "stdout",
     "output_type": "stream",
     "text": [
      "[w_lr, w_lda, w_sv, w_xgb, w_lgbm,w_cb ] =  [0.018 0.    0.617 0.139 0.093 0.    0.206]\n",
      "AUC all:  0.7906452521837135\n",
      "\n"
     ]
    },
    {
     "name": "stderr",
     "output_type": "stream",
     "text": [
      "[I 2019-08-24 12:11:28,746] Finished trial#541 resulted in value: -0.7906452521837135. Current best value is -0.7944491406029868 with parameters: {'w_lr': 0.018735636670162738, 'w_sv': 0.609782869522277, 'w_xgb': 0.1257268888344056, 'w_lgbm': 0.10282314833705018, 'w_mlp': 0.6409335052733912}.\n"
     ]
    },
    {
     "name": "stdout",
     "output_type": "stream",
     "text": [
      "[w_lr, w_lda, w_sv, w_xgb, w_lgbm,w_cb ] =  [0.057 0.    0.665 0.085 0.116 0.    0.554]\n",
      "AUC all:  0.7923358692589462\n",
      "\n"
     ]
    },
    {
     "name": "stderr",
     "output_type": "stream",
     "text": [
      "[I 2019-08-24 12:11:29,555] Finished trial#542 resulted in value: -0.7923358692589462. Current best value is -0.7944491406029868 with parameters: {'w_lr': 0.018735636670162738, 'w_sv': 0.609782869522277, 'w_xgb': 0.1257268888344056, 'w_lgbm': 0.10282314833705018, 'w_mlp': 0.6409335052733912}.\n"
     ]
    },
    {
     "name": "stdout",
     "output_type": "stream",
     "text": [
      "[w_lr, w_lda, w_sv, w_xgb, w_lgbm,w_cb ] =  [0.043 0.    0.599 0.109 0.143 0.    0.653]\n",
      "AUC all:  0.7924767540152156\n",
      "\n"
     ]
    },
    {
     "name": "stderr",
     "output_type": "stream",
     "text": [
      "[I 2019-08-24 12:11:30,355] Finished trial#543 resulted in value: -0.7924767540152156. Current best value is -0.7944491406029868 with parameters: {'w_lr': 0.018735636670162738, 'w_sv': 0.609782869522277, 'w_xgb': 0.1257268888344056, 'w_lgbm': 0.10282314833705018, 'w_mlp': 0.6409335052733912}.\n"
     ]
    },
    {
     "name": "stdout",
     "output_type": "stream",
     "text": [
      "[w_lr, w_lda, w_sv, w_xgb, w_lgbm,w_cb ] =  [0.    0.    0.629 0.133 0.08  0.    0.606]\n",
      "AUC all:  0.79149056072133\n",
      "\n"
     ]
    },
    {
     "name": "stderr",
     "output_type": "stream",
     "text": [
      "[I 2019-08-24 12:11:31,160] Finished trial#544 resulted in value: -0.79149056072133. Current best value is -0.7944491406029868 with parameters: {'w_lr': 0.018735636670162738, 'w_sv': 0.609782869522277, 'w_xgb': 0.1257268888344056, 'w_lgbm': 0.10282314833705018, 'w_mlp': 0.6409335052733912}.\n"
     ]
    },
    {
     "name": "stdout",
     "output_type": "stream",
     "text": [
      "[w_lr, w_lda, w_sv, w_xgb, w_lgbm,w_cb ] =  [0.081 0.    0.569 0.098 0.099 0.    0.631]\n",
      "AUC all:  0.7921949845026768\n",
      "\n"
     ]
    },
    {
     "name": "stderr",
     "output_type": "stream",
     "text": [
      "[I 2019-08-24 12:11:31,958] Finished trial#545 resulted in value: -0.7921949845026768. Current best value is -0.7944491406029868 with parameters: {'w_lr': 0.018735636670162738, 'w_sv': 0.609782869522277, 'w_xgb': 0.1257268888344056, 'w_lgbm': 0.10282314833705018, 'w_mlp': 0.6409335052733912}.\n"
     ]
    },
    {
     "name": "stdout",
     "output_type": "stream",
     "text": [
      "[w_lr, w_lda, w_sv, w_xgb, w_lgbm,w_cb ] =  [0.025 0.    0.654 0.173 0.167 0.    0.688]\n",
      "AUC all:  0.7916314454775993\n",
      "\n"
     ]
    },
    {
     "name": "stderr",
     "output_type": "stream",
     "text": [
      "[I 2019-08-24 12:11:32,753] Finished trial#546 resulted in value: -0.7916314454775993. Current best value is -0.7944491406029868 with parameters: {'w_lr': 0.018735636670162738, 'w_sv': 0.609782869522277, 'w_xgb': 0.1257268888344056, 'w_lgbm': 0.10282314833705018, 'w_mlp': 0.6409335052733912}.\n"
     ]
    },
    {
     "name": "stdout",
     "output_type": "stream",
     "text": [
      "[w_lr, w_lda, w_sv, w_xgb, w_lgbm,w_cb ] =  [0.064 0.    0.596 0.122 0.054 0.    0.667]\n",
      "AUC all:  0.7872640180332489\n",
      "\n"
     ]
    },
    {
     "name": "stderr",
     "output_type": "stream",
     "text": [
      "[I 2019-08-24 12:11:33,575] Finished trial#547 resulted in value: -0.7872640180332489. Current best value is -0.7944491406029868 with parameters: {'w_lr': 0.018735636670162738, 'w_sv': 0.609782869522277, 'w_xgb': 0.1257268888344056, 'w_lgbm': 0.10282314833705018, 'w_mlp': 0.6409335052733912}.\n"
     ]
    },
    {
     "name": "stdout",
     "output_type": "stream",
     "text": [
      "[w_lr, w_lda, w_sv, w_xgb, w_lgbm,w_cb ] =  [0.021 0.    0.687 0.076 0.123 0.    0.633]\n",
      "AUC all:  0.79149056072133\n",
      "\n"
     ]
    },
    {
     "name": "stderr",
     "output_type": "stream",
     "text": [
      "[I 2019-08-24 12:11:34,378] Finished trial#548 resulted in value: -0.79149056072133. Current best value is -0.7944491406029868 with parameters: {'w_lr': 0.018735636670162738, 'w_sv': 0.609782869522277, 'w_xgb': 0.1257268888344056, 'w_lgbm': 0.10282314833705018, 'w_mlp': 0.6409335052733912}.\n"
     ]
    },
    {
     "name": "stdout",
     "output_type": "stream",
     "text": [
      "[w_lr, w_lda, w_sv, w_xgb, w_lgbm,w_cb ] =  [0.819 0.    0.619 0.16  0.076 0.    0.71 ]\n",
      "AUC all:  0.7885319808396731\n",
      "\n"
     ]
    },
    {
     "name": "stderr",
     "output_type": "stream",
     "text": [
      "[I 2019-08-24 12:11:35,179] Finished trial#549 resulted in value: -0.7885319808396731. Current best value is -0.7944491406029868 with parameters: {'w_lr': 0.018735636670162738, 'w_sv': 0.609782869522277, 'w_xgb': 0.1257268888344056, 'w_lgbm': 0.10282314833705018, 'w_mlp': 0.6409335052733912}.\n"
     ]
    },
    {
     "name": "stdout",
     "output_type": "stream",
     "text": [
      "[w_lr, w_lda, w_sv, w_xgb, w_lgbm,w_cb ] =  [0.046 0.    0.582 0.147 0.105 0.    0.604]\n",
      "AUC all:  0.7921949845026768\n",
      "\n"
     ]
    },
    {
     "name": "stderr",
     "output_type": "stream",
     "text": [
      "[I 2019-08-24 12:11:35,981] Finished trial#550 resulted in value: -0.7921949845026768. Current best value is -0.7944491406029868 with parameters: {'w_lr': 0.018735636670162738, 'w_sv': 0.609782869522277, 'w_xgb': 0.1257268888344056, 'w_lgbm': 0.10282314833705018, 'w_mlp': 0.6409335052733912}.\n"
     ]
    },
    {
     "name": "stdout",
     "output_type": "stream",
     "text": [
      "[w_lr, w_lda, w_sv, w_xgb, w_lgbm,w_cb ] =  [0.016 0.    0.645 0.119 0.142 0.    0.654]\n",
      "AUC all:  0.7924767540152157\n",
      "\n"
     ]
    },
    {
     "name": "stderr",
     "output_type": "stream",
     "text": [
      "[I 2019-08-24 12:11:36,790] Finished trial#551 resulted in value: -0.7924767540152157. Current best value is -0.7944491406029868 with parameters: {'w_lr': 0.018735636670162738, 'w_sv': 0.609782869522277, 'w_xgb': 0.1257268888344056, 'w_lgbm': 0.10282314833705018, 'w_mlp': 0.6409335052733912}.\n"
     ]
    },
    {
     "name": "stdout",
     "output_type": "stream",
     "text": [
      "[w_lr, w_lda, w_sv, w_xgb, w_lgbm,w_cb ] =  [0.49  0.    0.56  0.089 0.122 0.    0.585]\n",
      "AUC all:  0.7905043674274443\n",
      "\n"
     ]
    },
    {
     "name": "stderr",
     "output_type": "stream",
     "text": [
      "[I 2019-08-24 12:11:37,599] Finished trial#552 resulted in value: -0.7905043674274443. Current best value is -0.7944491406029868 with parameters: {'w_lr': 0.018735636670162738, 'w_sv': 0.609782869522277, 'w_xgb': 0.1257268888344056, 'w_lgbm': 0.10282314833705018, 'w_mlp': 0.6409335052733912}.\n"
     ]
    },
    {
     "name": "stdout",
     "output_type": "stream",
     "text": [
      "[w_lr, w_lda, w_sv, w_xgb, w_lgbm,w_cb ] =  [0.076 0.    0.606 0.136 0.087 0.    0.619]\n",
      "AUC all:  0.7914905607213298\n",
      "\n"
     ]
    },
    {
     "name": "stderr",
     "output_type": "stream",
     "text": [
      "[I 2019-08-24 12:11:38,391] Finished trial#553 resulted in value: -0.7914905607213298. Current best value is -0.7944491406029868 with parameters: {'w_lr': 0.018735636670162738, 'w_sv': 0.609782869522277, 'w_xgb': 0.1257268888344056, 'w_lgbm': 0.10282314833705018, 'w_mlp': 0.6409335052733912}.\n"
     ]
    },
    {
     "name": "stdout",
     "output_type": "stream",
     "text": [
      "[w_lr, w_lda, w_sv, w_xgb, w_lgbm,w_cb ] =  [0.04  0.    0.636 0.103 0.973 0.    0.684]\n",
      "AUC all:  0.769512538743308\n",
      "\n"
     ]
    },
    {
     "name": "stderr",
     "output_type": "stream",
     "text": [
      "[I 2019-08-24 12:11:39,203] Finished trial#554 resulted in value: -0.769512538743308. Current best value is -0.7944491406029868 with parameters: {'w_lr': 0.018735636670162738, 'w_sv': 0.609782869522277, 'w_xgb': 0.1257268888344056, 'w_lgbm': 0.10282314833705018, 'w_mlp': 0.6409335052733912}.\n"
     ]
    },
    {
     "name": "stdout",
     "output_type": "stream",
     "text": [
      "[w_lr, w_lda, w_sv, w_xgb, w_lgbm,w_cb ] =  [0.112 0.    0.544 0.07  0.062 0.    0.518]\n",
      "AUC all:  0.79149056072133\n",
      "\n"
     ]
    },
    {
     "name": "stderr",
     "output_type": "stream",
     "text": [
      "[I 2019-08-24 12:11:40,022] Finished trial#555 resulted in value: -0.79149056072133. Current best value is -0.7944491406029868 with parameters: {'w_lr': 0.018735636670162738, 'w_sv': 0.609782869522277, 'w_xgb': 0.1257268888344056, 'w_lgbm': 0.10282314833705018, 'w_mlp': 0.6409335052733912}.\n"
     ]
    },
    {
     "name": "stdout",
     "output_type": "stream",
     "text": [
      "[w_lr, w_lda, w_sv, w_xgb, w_lgbm,w_cb ] =  [0.056 0.    0.665 0.121 0.104 0.    0.643]\n",
      "AUC all:  0.7940264863341786\n",
      "\n"
     ]
    },
    {
     "name": "stderr",
     "output_type": "stream",
     "text": [
      "[I 2019-08-24 12:11:40,848] Finished trial#556 resulted in value: -0.7940264863341786. Current best value is -0.7944491406029868 with parameters: {'w_lr': 0.018735636670162738, 'w_sv': 0.609782869522277, 'w_xgb': 0.1257268888344056, 'w_lgbm': 0.10282314833705018, 'w_mlp': 0.6409335052733912}.\n"
     ]
    },
    {
     "name": "stdout",
     "output_type": "stream",
     "text": [
      "[w_lr, w_lda, w_sv, w_xgb, w_lgbm,w_cb ] =  [0.095 0.    0.701 0.101 0.047 0.    0.565]\n",
      "AUC all:  0.7885319808396731\n",
      "\n"
     ]
    },
    {
     "name": "stderr",
     "output_type": "stream",
     "text": [
      "[I 2019-08-24 12:11:41,654] Finished trial#557 resulted in value: -0.7885319808396731. Current best value is -0.7944491406029868 with parameters: {'w_lr': 0.018735636670162738, 'w_sv': 0.609782869522277, 'w_xgb': 0.1257268888344056, 'w_lgbm': 0.10282314833705018, 'w_mlp': 0.6409335052733912}.\n"
     ]
    },
    {
     "name": "stdout",
     "output_type": "stream",
     "text": [
      "[w_lr, w_lda, w_sv, w_xgb, w_lgbm,w_cb ] =  [0.001 0.    0.658 0.179 0.15  0.    0.663]\n",
      "AUC all:  0.7921949845026768\n",
      "\n"
     ]
    },
    {
     "name": "stderr",
     "output_type": "stream",
     "text": [
      "[I 2019-08-24 12:11:42,475] Finished trial#558 resulted in value: -0.7921949845026768. Current best value is -0.7944491406029868 with parameters: {'w_lr': 0.018735636670162738, 'w_sv': 0.609782869522277, 'w_xgb': 0.1257268888344056, 'w_lgbm': 0.10282314833705018, 'w_mlp': 0.6409335052733912}.\n"
     ]
    },
    {
     "name": "stdout",
     "output_type": "stream",
     "text": [
      "[w_lr, w_lda, w_sv, w_xgb, w_lgbm,w_cb ] =  [0.066 0.    0.682 0.15  0.118 0.    0.642]\n",
      "AUC all:  0.7924767540152156\n",
      "\n"
     ]
    },
    {
     "name": "stderr",
     "output_type": "stream",
     "text": [
      "[I 2019-08-24 12:11:43,284] Finished trial#559 resulted in value: -0.7924767540152156. Current best value is -0.7944491406029868 with parameters: {'w_lr': 0.018735636670162738, 'w_sv': 0.609782869522277, 'w_xgb': 0.1257268888344056, 'w_lgbm': 0.10282314833705018, 'w_mlp': 0.6409335052733912}.\n"
     ]
    },
    {
     "name": "stdout",
     "output_type": "stream",
     "text": [
      "[w_lr, w_lda, w_sv, w_xgb, w_lgbm,w_cb ] =  [0.086 0.    0.726 0.116 0.091 0.    0.592]\n",
      "AUC all:  0.7933220625528318\n",
      "\n"
     ]
    },
    {
     "name": "stderr",
     "output_type": "stream",
     "text": [
      "[I 2019-08-24 12:11:44,112] Finished trial#560 resulted in value: -0.7933220625528318. Current best value is -0.7944491406029868 with parameters: {'w_lr': 0.018735636670162738, 'w_sv': 0.609782869522277, 'w_xgb': 0.1257268888344056, 'w_lgbm': 0.10282314833705018, 'w_mlp': 0.6409335052733912}.\n"
     ]
    },
    {
     "name": "stdout",
     "output_type": "stream",
     "text": [
      "[w_lr, w_lda, w_sv, w_xgb, w_lgbm,w_cb ] =  [0.055 0.    0.67  0.135 0.134 0.    0.668]\n",
      "AUC all:  0.7936038320653706\n",
      "\n"
     ]
    },
    {
     "name": "stderr",
     "output_type": "stream",
     "text": [
      "[I 2019-08-24 12:11:44,928] Finished trial#561 resulted in value: -0.7936038320653706. Current best value is -0.7944491406029868 with parameters: {'w_lr': 0.018735636670162738, 'w_sv': 0.609782869522277, 'w_xgb': 0.1257268888344056, 'w_lgbm': 0.10282314833705018, 'w_mlp': 0.6409335052733912}.\n"
     ]
    },
    {
     "name": "stdout",
     "output_type": "stream",
     "text": [
      "[w_lr, w_lda, w_sv, w_xgb, w_lgbm,w_cb ] =  [0.031 0.    0.587 0.195 0.186 0.    0.73 ]\n",
      "AUC all:  0.7916314454775993\n",
      "\n"
     ]
    },
    {
     "name": "stderr",
     "output_type": "stream",
     "text": [
      "[I 2019-08-24 12:11:45,746] Finished trial#562 resulted in value: -0.7916314454775993. Current best value is -0.7944491406029868 with parameters: {'w_lr': 0.018735636670162738, 'w_sv': 0.609782869522277, 'w_xgb': 0.1257268888344056, 'w_lgbm': 0.10282314833705018, 'w_mlp': 0.6409335052733912}.\n"
     ]
    },
    {
     "name": "stdout",
     "output_type": "stream",
     "text": [
      "[w_lr, w_lda, w_sv, w_xgb, w_lgbm,w_cb ] =  [0.    0.    0.619 0.157 0.157 0.    0.698]\n",
      "AUC all:  0.7924767540152156\n",
      "\n"
     ]
    },
    {
     "name": "stderr",
     "output_type": "stream",
     "text": [
      "[I 2019-08-24 12:11:46,553] Finished trial#563 resulted in value: -0.7924767540152156. Current best value is -0.7944491406029868 with parameters: {'w_lr': 0.018735636670162738, 'w_sv': 0.609782869522277, 'w_xgb': 0.1257268888344056, 'w_lgbm': 0.10282314833705018, 'w_mlp': 0.6409335052733912}.\n"
     ]
    },
    {
     "name": "stdout",
     "output_type": "stream",
     "text": [
      "[w_lr, w_lda, w_sv, w_xgb, w_lgbm,w_cb ] =  [0.02  0.    0.572 0.137 0.319 0.    0.677]\n",
      "AUC all:  0.7868413637644407\n",
      "\n"
     ]
    },
    {
     "name": "stderr",
     "output_type": "stream",
     "text": [
      "[I 2019-08-24 12:11:47,377] Finished trial#564 resulted in value: -0.7868413637644407. Current best value is -0.7944491406029868 with parameters: {'w_lr': 0.018735636670162738, 'w_sv': 0.609782869522277, 'w_xgb': 0.1257268888344056, 'w_lgbm': 0.10282314833705018, 'w_mlp': 0.6409335052733912}.\n"
     ]
    },
    {
     "name": "stdout",
     "output_type": "stream",
     "text": [
      "[w_lr, w_lda, w_sv, w_xgb, w_lgbm,w_cb ] =  [0.072 0.    0.696 0.174 0.13  0.    0.671]\n",
      "AUC all:  0.7923358692589462\n",
      "\n"
     ]
    },
    {
     "name": "stderr",
     "output_type": "stream",
     "text": [
      "[I 2019-08-24 12:11:48,209] Finished trial#565 resulted in value: -0.7923358692589462. Current best value is -0.7944491406029868 with parameters: {'w_lr': 0.018735636670162738, 'w_sv': 0.609782869522277, 'w_xgb': 0.1257268888344056, 'w_lgbm': 0.10282314833705018, 'w_mlp': 0.6409335052733912}.\n"
     ]
    },
    {
     "name": "stdout",
     "output_type": "stream",
     "text": [
      "[w_lr, w_lda, w_sv, w_xgb, w_lgbm,w_cb ] =  [0.046 0.    0.749 0.152 0.139 0.    0.698]\n",
      "AUC all:  0.7931811777965624\n",
      "\n"
     ]
    },
    {
     "name": "stderr",
     "output_type": "stream",
     "text": [
      "[I 2019-08-24 12:11:49,047] Finished trial#566 resulted in value: -0.7931811777965624. Current best value is -0.7944491406029868 with parameters: {'w_lr': 0.018735636670162738, 'w_sv': 0.609782869522277, 'w_xgb': 0.1257268888344056, 'w_lgbm': 0.10282314833705018, 'w_mlp': 0.6409335052733912}.\n"
     ]
    },
    {
     "name": "stdout",
     "output_type": "stream",
     "text": [
      "[w_lr, w_lda, w_sv, w_xgb, w_lgbm,w_cb ] =  [0.105 0.    0.708 0.13  0.104 0.    0.657]\n",
      "AUC all:  0.7936038320653704\n",
      "\n"
     ]
    },
    {
     "name": "stderr",
     "output_type": "stream",
     "text": [
      "[I 2019-08-24 12:11:49,873] Finished trial#567 resulted in value: -0.7936038320653704. Current best value is -0.7944491406029868 with parameters: {'w_lr': 0.018735636670162738, 'w_sv': 0.609782869522277, 'w_xgb': 0.1257268888344056, 'w_lgbm': 0.10282314833705018, 'w_mlp': 0.6409335052733912}.\n"
     ]
    },
    {
     "name": "stdout",
     "output_type": "stream",
     "text": [
      "[w_lr, w_lda, w_sv, w_xgb, w_lgbm,w_cb ] =  [0.098 0.    0.727 0.135 0.164 0.    0.679]\n",
      "AUC all:  0.7924767540152156\n",
      "\n"
     ]
    },
    {
     "name": "stderr",
     "output_type": "stream",
     "text": [
      "[I 2019-08-24 12:11:50,702] Finished trial#568 resulted in value: -0.7924767540152156. Current best value is -0.7944491406029868 with parameters: {'w_lr': 0.018735636670162738, 'w_sv': 0.609782869522277, 'w_xgb': 0.1257268888344056, 'w_lgbm': 0.10282314833705018, 'w_mlp': 0.6409335052733912}.\n"
     ]
    },
    {
     "name": "stdout",
     "output_type": "stream",
     "text": [
      "[w_lr, w_lda, w_sv, w_xgb, w_lgbm,w_cb ] =  [0.11  0.    0.708 0.165 0.104 0.    0.43 ]\n",
      "AUC all:  0.7900817131586362\n",
      "\n"
     ]
    },
    {
     "name": "stderr",
     "output_type": "stream",
     "text": [
      "[I 2019-08-24 12:11:51,525] Finished trial#569 resulted in value: -0.7900817131586362. Current best value is -0.7944491406029868 with parameters: {'w_lr': 0.018735636670162738, 'w_sv': 0.609782869522277, 'w_xgb': 0.1257268888344056, 'w_lgbm': 0.10282314833705018, 'w_mlp': 0.6409335052733912}.\n"
     ]
    },
    {
     "name": "stdout",
     "output_type": "stream",
     "text": [
      "[w_lr, w_lda, w_sv, w_xgb, w_lgbm,w_cb ] =  [0.055 0.    0.66  0.116 0.074 0.    0.633]\n",
      "AUC all:  0.7907861369399831\n",
      "\n"
     ]
    },
    {
     "name": "stderr",
     "output_type": "stream",
     "text": [
      "[I 2019-08-24 12:11:52,361] Finished trial#570 resulted in value: -0.7907861369399831. Current best value is -0.7944491406029868 with parameters: {'w_lr': 0.018735636670162738, 'w_sv': 0.609782869522277, 'w_xgb': 0.1257268888344056, 'w_lgbm': 0.10282314833705018, 'w_mlp': 0.6409335052733912}.\n"
     ]
    },
    {
     "name": "stdout",
     "output_type": "stream",
     "text": [
      "[w_lr, w_lda, w_sv, w_xgb, w_lgbm,w_cb ] =  [0.12  0.    0.654 0.139 0.131 0.    0.663]\n",
      "AUC all:  0.7927585235277543\n",
      "\n"
     ]
    },
    {
     "name": "stderr",
     "output_type": "stream",
     "text": [
      "[I 2019-08-24 12:11:53,191] Finished trial#571 resulted in value: -0.7927585235277543. Current best value is -0.7944491406029868 with parameters: {'w_lr': 0.018735636670162738, 'w_sv': 0.609782869522277, 'w_xgb': 0.1257268888344056, 'w_lgbm': 0.10282314833705018, 'w_mlp': 0.6409335052733912}.\n"
     ]
    },
    {
     "name": "stdout",
     "output_type": "stream",
     "text": [
      "[w_lr, w_lda, w_sv, w_xgb, w_lgbm,w_cb ] =  [0.127 0.    0.672 0.183 0.175 0.    0.701]\n",
      "AUC all:  0.7913496759650606\n",
      "\n"
     ]
    },
    {
     "name": "stderr",
     "output_type": "stream",
     "text": [
      "[I 2019-08-24 12:11:54,018] Finished trial#572 resulted in value: -0.7913496759650606. Current best value is -0.7944491406029868 with parameters: {'w_lr': 0.018735636670162738, 'w_sv': 0.609782869522277, 'w_xgb': 0.1257268888344056, 'w_lgbm': 0.10282314833705018, 'w_mlp': 0.6409335052733912}.\n"
     ]
    },
    {
     "name": "stdout",
     "output_type": "stream",
     "text": [
      "[w_lr, w_lda, w_sv, w_xgb, w_lgbm,w_cb ] =  [0.136 0.    0.718 0.153 0.106 0.    0.649]\n",
      "AUC all:  0.7927585235277543\n",
      "\n"
     ]
    },
    {
     "name": "stderr",
     "output_type": "stream",
     "text": [
      "[I 2019-08-24 12:11:54,864] Finished trial#573 resulted in value: -0.7927585235277543. Current best value is -0.7944491406029868 with parameters: {'w_lr': 0.018735636670162738, 'w_sv': 0.609782869522277, 'w_xgb': 0.1257268888344056, 'w_lgbm': 0.10282314833705018, 'w_mlp': 0.6409335052733912}.\n"
     ]
    },
    {
     "name": "stdout",
     "output_type": "stream",
     "text": [
      "[w_lr, w_lda, w_sv, w_xgb, w_lgbm,w_cb ] =  [0.087 0.    0.688 0.129 0.113 0.    0.723]\n",
      "AUC all:  0.793462947309101\n",
      "\n"
     ]
    },
    {
     "name": "stderr",
     "output_type": "stream",
     "text": [
      "[I 2019-08-24 12:11:55,712] Finished trial#574 resulted in value: -0.793462947309101. Current best value is -0.7944491406029868 with parameters: {'w_lr': 0.018735636670162738, 'w_sv': 0.609782869522277, 'w_xgb': 0.1257268888344056, 'w_lgbm': 0.10282314833705018, 'w_mlp': 0.6409335052733912}.\n"
     ]
    },
    {
     "name": "stdout",
     "output_type": "stream",
     "text": [
      "[w_lr, w_lda, w_sv, w_xgb, w_lgbm,w_cb ] =  [0.051 0.    0.636 0.121 0.149 0.    0.645]\n",
      "AUC all:  0.7921949845026768\n",
      "\n"
     ]
    },
    {
     "name": "stderr",
     "output_type": "stream",
     "text": [
      "[I 2019-08-24 12:11:56,540] Finished trial#575 resulted in value: -0.7921949845026768. Current best value is -0.7944491406029868 with parameters: {'w_lr': 0.018735636670162738, 'w_sv': 0.609782869522277, 'w_xgb': 0.1257268888344056, 'w_lgbm': 0.10282314833705018, 'w_mlp': 0.6409335052733912}.\n"
     ]
    },
    {
     "name": "stdout",
     "output_type": "stream",
     "text": [
      "[w_lr, w_lda, w_sv, w_xgb, w_lgbm,w_cb ] =  [0.02  0.    0.606 0.157 0.135 0.    0.683]\n",
      "AUC all:  0.7924767540152156\n",
      "\n"
     ]
    },
    {
     "name": "stderr",
     "output_type": "stream",
     "text": [
      "[I 2019-08-24 12:11:57,364] Finished trial#576 resulted in value: -0.7924767540152156. Current best value is -0.7944491406029868 with parameters: {'w_lr': 0.018735636670162738, 'w_sv': 0.609782869522277, 'w_xgb': 0.1257268888344056, 'w_lgbm': 0.10282314833705018, 'w_mlp': 0.6409335052733912}.\n"
     ]
    },
    {
     "name": "stdout",
     "output_type": "stream",
     "text": [
      "[w_lr, w_lda, w_sv, w_xgb, w_lgbm,w_cb ] =  [0.038 0.    0.669 0.112 0.122 0.    0.467]\n",
      "AUC all:  0.7924767540152156\n",
      "\n"
     ]
    },
    {
     "name": "stderr",
     "output_type": "stream",
     "text": [
      "[I 2019-08-24 12:11:58,201] Finished trial#577 resulted in value: -0.7924767540152156. Current best value is -0.7944491406029868 with parameters: {'w_lr': 0.018735636670162738, 'w_sv': 0.609782869522277, 'w_xgb': 0.1257268888344056, 'w_lgbm': 0.10282314833705018, 'w_mlp': 0.6409335052733912}.\n"
     ]
    },
    {
     "name": "stdout",
     "output_type": "stream",
     "text": [
      "[w_lr, w_lda, w_sv, w_xgb, w_lgbm,w_cb ] =  [0.958 0.    0.627 0.21  0.121 0.    0.667]\n",
      "AUC all:  0.7897999436460975\n",
      "\n"
     ]
    },
    {
     "name": "stderr",
     "output_type": "stream",
     "text": [
      "[I 2019-08-24 12:11:59,035] Finished trial#578 resulted in value: -0.7897999436460975. Current best value is -0.7944491406029868 with parameters: {'w_lr': 0.018735636670162738, 'w_sv': 0.609782869522277, 'w_xgb': 0.1257268888344056, 'w_lgbm': 0.10282314833705018, 'w_mlp': 0.6409335052733912}.\n"
     ]
    },
    {
     "name": "stdout",
     "output_type": "stream",
     "text": [
      "[w_lr, w_lda, w_sv, w_xgb, w_lgbm,w_cb ] =  [0.1   0.    0.672 0.142 0.095 0.    0.663]\n",
      "AUC all:  0.7920540997464074\n",
      "\n"
     ]
    },
    {
     "name": "stderr",
     "output_type": "stream",
     "text": [
      "[I 2019-08-24 12:11:59,886] Finished trial#579 resulted in value: -0.7920540997464074. Current best value is -0.7944491406029868 with parameters: {'w_lr': 0.018735636670162738, 'w_sv': 0.609782869522277, 'w_xgb': 0.1257268888344056, 'w_lgbm': 0.10282314833705018, 'w_mlp': 0.6409335052733912}.\n"
     ]
    },
    {
     "name": "stdout",
     "output_type": "stream",
     "text": [
      "[w_lr, w_lda, w_sv, w_xgb, w_lgbm,w_cb ] =  [0.133 0.    0.649 0.171 0.101 0.    0.706]\n",
      "AUC all:  0.7916314454775993\n",
      "\n"
     ]
    },
    {
     "name": "stderr",
     "output_type": "stream",
     "text": [
      "[I 2019-08-24 12:12:00,740] Finished trial#580 resulted in value: -0.7916314454775993. Current best value is -0.7944491406029868 with parameters: {'w_lr': 0.018735636670162738, 'w_sv': 0.609782869522277, 'w_xgb': 0.1257268888344056, 'w_lgbm': 0.10282314833705018, 'w_mlp': 0.6409335052733912}.\n"
     ]
    },
    {
     "name": "stdout",
     "output_type": "stream",
     "text": [
      "[w_lr, w_lda, w_sv, w_xgb, w_lgbm,w_cb ] =  [0.061 0.    0.56  0.082 0.069 0.    0.619]\n",
      "AUC all:  0.7914905607213298\n",
      "\n"
     ]
    },
    {
     "name": "stderr",
     "output_type": "stream",
     "text": [
      "[I 2019-08-24 12:12:01,582] Finished trial#581 resulted in value: -0.7914905607213298. Current best value is -0.7944491406029868 with parameters: {'w_lr': 0.018735636670162738, 'w_sv': 0.609782869522277, 'w_xgb': 0.1257268888344056, 'w_lgbm': 0.10282314833705018, 'w_mlp': 0.6409335052733912}.\n"
     ]
    },
    {
     "name": "stdout",
     "output_type": "stream",
     "text": [
      "[w_lr, w_lda, w_sv, w_xgb, w_lgbm,w_cb ] =  [0.075 0.    0.778 0.127 0.097 0.    0.684]\n",
      "AUC all:  0.7933220625528319\n",
      "\n"
     ]
    },
    {
     "name": "stderr",
     "output_type": "stream",
     "text": [
      "[I 2019-08-24 12:12:02,440] Finished trial#582 resulted in value: -0.7933220625528319. Current best value is -0.7944491406029868 with parameters: {'w_lr': 0.018735636670162738, 'w_sv': 0.609782869522277, 'w_xgb': 0.1257268888344056, 'w_lgbm': 0.10282314833705018, 'w_mlp': 0.6409335052733912}.\n"
     ]
    },
    {
     "name": "stdout",
     "output_type": "stream",
     "text": [
      "[w_lr, w_lda, w_sv, w_xgb, w_lgbm,w_cb ] =  [0.036 0.    0.627 0.098 0.153 0.    0.64 ]\n",
      "AUC all:  0.7900817131586362\n",
      "\n"
     ]
    },
    {
     "name": "stderr",
     "output_type": "stream",
     "text": [
      "[I 2019-08-24 12:12:03,300] Finished trial#583 resulted in value: -0.7900817131586362. Current best value is -0.7944491406029868 with parameters: {'w_lr': 0.018735636670162738, 'w_sv': 0.609782869522277, 'w_xgb': 0.1257268888344056, 'w_lgbm': 0.10282314833705018, 'w_mlp': 0.6409335052733912}.\n"
     ]
    },
    {
     "name": "stdout",
     "output_type": "stream",
     "text": [
      "[w_lr, w_lda, w_sv, w_xgb, w_lgbm,w_cb ] =  [0.104 0.    0.668 0.143 0.199 0.    0.657]\n",
      "AUC all:  0.7907861369399831\n",
      "\n"
     ]
    },
    {
     "name": "stderr",
     "output_type": "stream",
     "text": [
      "[I 2019-08-24 12:12:04,147] Finished trial#584 resulted in value: -0.7907861369399831. Current best value is -0.7944491406029868 with parameters: {'w_lr': 0.018735636670162738, 'w_sv': 0.609782869522277, 'w_xgb': 0.1257268888344056, 'w_lgbm': 0.10282314833705018, 'w_mlp': 0.6409335052733912}.\n"
     ]
    },
    {
     "name": "stdout",
     "output_type": "stream",
     "text": [
      "[w_lr, w_lda, w_sv, w_xgb, w_lgbm,w_cb ] =  [0.002 0.    0.594 0.11  0.133 0.    0.636]\n",
      "AUC all:  0.7928994082840236\n",
      "\n"
     ]
    },
    {
     "name": "stderr",
     "output_type": "stream",
     "text": [
      "[I 2019-08-24 12:12:04,996] Finished trial#585 resulted in value: -0.7928994082840236. Current best value is -0.7944491406029868 with parameters: {'w_lr': 0.018735636670162738, 'w_sv': 0.609782869522277, 'w_xgb': 0.1257268888344056, 'w_lgbm': 0.10282314833705018, 'w_mlp': 0.6409335052733912}.\n"
     ]
    },
    {
     "name": "stdout",
     "output_type": "stream",
     "text": [
      "[w_lr, w_lda, w_sv, w_xgb, w_lgbm,w_cb ] =  [0.056 0.    0.64  0.119 0.119 0.    0.63 ]\n",
      "AUC all:  0.792617638771485\n",
      "\n"
     ]
    },
    {
     "name": "stderr",
     "output_type": "stream",
     "text": [
      "[I 2019-08-24 12:12:05,847] Finished trial#586 resulted in value: -0.792617638771485. Current best value is -0.7944491406029868 with parameters: {'w_lr': 0.018735636670162738, 'w_sv': 0.609782869522277, 'w_xgb': 0.1257268888344056, 'w_lgbm': 0.10282314833705018, 'w_mlp': 0.6409335052733912}.\n"
     ]
    },
    {
     "name": "stdout",
     "output_type": "stream",
     "text": [
      "[w_lr, w_lda, w_sv, w_xgb, w_lgbm,w_cb ] =  [0.033 0.    0.581 0.156 0.08  0.    0.685]\n",
      "AUC all:  0.7899408284023669\n",
      "\n"
     ]
    },
    {
     "name": "stderr",
     "output_type": "stream",
     "text": [
      "[I 2019-08-24 12:12:06,695] Finished trial#587 resulted in value: -0.7899408284023669. Current best value is -0.7944491406029868 with parameters: {'w_lr': 0.018735636670162738, 'w_sv': 0.609782869522277, 'w_xgb': 0.1257268888344056, 'w_lgbm': 0.10282314833705018, 'w_mlp': 0.6409335052733912}.\n"
     ]
    },
    {
     "name": "stdout",
     "output_type": "stream",
     "text": [
      "[w_lr, w_lda, w_sv, w_xgb, w_lgbm,w_cb ] =  [0.05  0.    0.613 0.127 0.171 0.    0.647]\n",
      "AUC all:  0.7920540997464074\n",
      "\n"
     ]
    },
    {
     "name": "stderr",
     "output_type": "stream",
     "text": [
      "[I 2019-08-24 12:12:07,553] Finished trial#588 resulted in value: -0.7920540997464074. Current best value is -0.7944491406029868 with parameters: {'w_lr': 0.018735636670162738, 'w_sv': 0.609782869522277, 'w_xgb': 0.1257268888344056, 'w_lgbm': 0.10282314833705018, 'w_mlp': 0.6409335052733912}.\n"
     ]
    },
    {
     "name": "stdout",
     "output_type": "stream",
     "text": [
      "[w_lr, w_lda, w_sv, w_xgb, w_lgbm,w_cb ] =  [0.018 0.    0.529 0.185 0.037 0.    0.489]\n",
      "AUC all:  0.7821921668075513\n",
      "\n"
     ]
    },
    {
     "name": "stderr",
     "output_type": "stream",
     "text": [
      "[I 2019-08-24 12:12:08,399] Finished trial#589 resulted in value: -0.7821921668075513. Current best value is -0.7944491406029868 with parameters: {'w_lr': 0.018735636670162738, 'w_sv': 0.609782869522277, 'w_xgb': 0.1257268888344056, 'w_lgbm': 0.10282314833705018, 'w_mlp': 0.6409335052733912}.\n"
     ]
    },
    {
     "name": "stdout",
     "output_type": "stream",
     "text": [
      "[w_lr, w_lda, w_sv, w_xgb, w_lgbm,w_cb ] =  [0.065 0.    0.645 0.096 0.134 0.    0.67 ]\n",
      "AUC all:  0.79149056072133\n",
      "\n"
     ]
    },
    {
     "name": "stderr",
     "output_type": "stream",
     "text": [
      "[I 2019-08-24 12:12:09,250] Finished trial#590 resulted in value: -0.79149056072133. Current best value is -0.7944491406029868 with parameters: {'w_lr': 0.018735636670162738, 'w_sv': 0.609782869522277, 'w_xgb': 0.1257268888344056, 'w_lgbm': 0.10282314833705018, 'w_mlp': 0.6409335052733912}.\n"
     ]
    },
    {
     "name": "stdout",
     "output_type": "stream",
     "text": [
      "[w_lr, w_lda, w_sv, w_xgb, w_lgbm,w_cb ] =  [0.339 0.    0.548 0.062 0.058 0.    0.609]\n",
      "AUC all:  0.7909270216962524\n",
      "\n"
     ]
    },
    {
     "name": "stderr",
     "output_type": "stream",
     "text": [
      "[I 2019-08-24 12:12:10,111] Finished trial#591 resulted in value: -0.7909270216962524. Current best value is -0.7944491406029868 with parameters: {'w_lr': 0.018735636670162738, 'w_sv': 0.609782869522277, 'w_xgb': 0.1257268888344056, 'w_lgbm': 0.10282314833705018, 'w_mlp': 0.6409335052733912}.\n"
     ]
    },
    {
     "name": "stdout",
     "output_type": "stream",
     "text": [
      "[w_lr, w_lda, w_sv, w_xgb, w_lgbm,w_cb ] =  [0.001 0.    0.592 0.081 0.077 0.    0.54 ]\n",
      "AUC all:  0.7933220625528318\n",
      "\n"
     ]
    },
    {
     "name": "stderr",
     "output_type": "stream",
     "text": [
      "[I 2019-08-24 12:12:10,960] Finished trial#592 resulted in value: -0.7933220625528318. Current best value is -0.7944491406029868 with parameters: {'w_lr': 0.018735636670162738, 'w_sv': 0.609782869522277, 'w_xgb': 0.1257268888344056, 'w_lgbm': 0.10282314833705018, 'w_mlp': 0.6409335052733912}.\n"
     ]
    },
    {
     "name": "stdout",
     "output_type": "stream",
     "text": [
      "[w_lr, w_lda, w_sv, w_xgb, w_lgbm,w_cb ] =  [0.036 0.    0.625 0.112 0.114 0.    0.649]\n",
      "AUC all:  0.7931811777965624\n",
      "\n"
     ]
    },
    {
     "name": "stderr",
     "output_type": "stream",
     "text": [
      "[I 2019-08-24 12:12:11,828] Finished trial#593 resulted in value: -0.7931811777965624. Current best value is -0.7944491406029868 with parameters: {'w_lr': 0.018735636670162738, 'w_sv': 0.609782869522277, 'w_xgb': 0.1257268888344056, 'w_lgbm': 0.10282314833705018, 'w_mlp': 0.6409335052733912}.\n"
     ]
    },
    {
     "name": "stdout",
     "output_type": "stream",
     "text": [
      "[w_lr, w_lda, w_sv, w_xgb, w_lgbm,w_cb ] =  [0.079 0.    0.613 0.138 0.142 0.    0.626]\n",
      "AUC all:  0.7923358692589462\n",
      "\n"
     ]
    },
    {
     "name": "stderr",
     "output_type": "stream",
     "text": [
      "[I 2019-08-24 12:12:12,674] Finished trial#594 resulted in value: -0.7923358692589462. Current best value is -0.7944491406029868 with parameters: {'w_lr': 0.018735636670162738, 'w_sv': 0.609782869522277, 'w_xgb': 0.1257268888344056, 'w_lgbm': 0.10282314833705018, 'w_mlp': 0.6409335052733912}.\n"
     ]
    },
    {
     "name": "stdout",
     "output_type": "stream",
     "text": [
      "[w_lr, w_lda, w_sv, w_xgb, w_lgbm,w_cb ] =  [0.    0.    0.686 0.059 0.085 0.    0.596]\n",
      "AUC all:  0.7931811777965623\n",
      "\n"
     ]
    },
    {
     "name": "stderr",
     "output_type": "stream",
     "text": [
      "[I 2019-08-24 12:12:13,534] Finished trial#595 resulted in value: -0.7931811777965623. Current best value is -0.7944491406029868 with parameters: {'w_lr': 0.018735636670162738, 'w_sv': 0.609782869522277, 'w_xgb': 0.1257268888344056, 'w_lgbm': 0.10282314833705018, 'w_mlp': 0.6409335052733912}.\n"
     ]
    },
    {
     "name": "stdout",
     "output_type": "stream",
     "text": [
      "[w_lr, w_lda, w_sv, w_xgb, w_lgbm,w_cb ] =  [0.019 0.    0.654 0.164 0.11  0.    0.713]\n",
      "AUC all:  0.7936038320653704\n",
      "\n"
     ]
    },
    {
     "name": "stderr",
     "output_type": "stream",
     "text": [
      "[I 2019-08-24 12:12:14,413] Finished trial#596 resulted in value: -0.7936038320653704. Current best value is -0.7944491406029868 with parameters: {'w_lr': 0.018735636670162738, 'w_sv': 0.609782869522277, 'w_xgb': 0.1257268888344056, 'w_lgbm': 0.10282314833705018, 'w_mlp': 0.6409335052733912}.\n"
     ]
    },
    {
     "name": "stdout",
     "output_type": "stream",
     "text": [
      "[w_lr, w_lda, w_sv, w_xgb, w_lgbm,w_cb ] =  [0.038 0.    0.674 0.141 0.16  0.    0.667]\n",
      "AUC all:  0.7917723302338687\n",
      "\n"
     ]
    },
    {
     "name": "stderr",
     "output_type": "stream",
     "text": [
      "[I 2019-08-24 12:12:15,290] Finished trial#597 resulted in value: -0.7917723302338687. Current best value is -0.7944491406029868 with parameters: {'w_lr': 0.018735636670162738, 'w_sv': 0.609782869522277, 'w_xgb': 0.1257268888344056, 'w_lgbm': 0.10282314833705018, 'w_mlp': 0.6409335052733912}.\n"
     ]
    },
    {
     "name": "stdout",
     "output_type": "stream",
     "text": [
      "[w_lr, w_lda, w_sv, w_xgb, w_lgbm,w_cb ] =  [0.013 0.    0.582 0.091 0.486 0.    0.692]\n",
      "AUC all:  0.7782473936320091\n",
      "\n"
     ]
    },
    {
     "name": "stderr",
     "output_type": "stream",
     "text": [
      "[I 2019-08-24 12:12:16,163] Finished trial#598 resulted in value: -0.7782473936320091. Current best value is -0.7944491406029868 with parameters: {'w_lr': 0.018735636670162738, 'w_sv': 0.609782869522277, 'w_xgb': 0.1257268888344056, 'w_lgbm': 0.10282314833705018, 'w_mlp': 0.6409335052733912}.\n"
     ]
    },
    {
     "name": "stdout",
     "output_type": "stream",
     "text": [
      "[w_lr, w_lda, w_sv, w_xgb, w_lgbm,w_cb ] =  [0.074 0.    0.663 0.1   0.362 0.    0.617]\n",
      "AUC all:  0.7819103972950127\n",
      "\n"
     ]
    },
    {
     "name": "stderr",
     "output_type": "stream",
     "text": [
      "[I 2019-08-24 12:12:17,043] Finished trial#599 resulted in value: -0.7819103972950127. Current best value is -0.7944491406029868 with parameters: {'w_lr': 0.018735636670162738, 'w_sv': 0.609782869522277, 'w_xgb': 0.1257268888344056, 'w_lgbm': 0.10282314833705018, 'w_mlp': 0.6409335052733912}.\n"
     ]
    },
    {
     "name": "stdout",
     "output_type": "stream",
     "text": [
      "[w_lr, w_lda, w_sv, w_xgb, w_lgbm,w_cb ] =  [0.052 0.    0.609 0.134 0.823 0.    0.658]\n",
      "AUC all:  0.7723302338686954\n",
      "\n"
     ]
    },
    {
     "name": "stderr",
     "output_type": "stream",
     "text": [
      "[I 2019-08-24 12:12:17,904] Finished trial#600 resulted in value: -0.7723302338686954. Current best value is -0.7944491406029868 with parameters: {'w_lr': 0.018735636670162738, 'w_sv': 0.609782869522277, 'w_xgb': 0.1257268888344056, 'w_lgbm': 0.10282314833705018, 'w_mlp': 0.6409335052733912}.\n"
     ]
    },
    {
     "name": "stdout",
     "output_type": "stream",
     "text": [
      "[w_lr, w_lda, w_sv, w_xgb, w_lgbm,w_cb ] =  [0.031 0.    0.632 0.113 0.098 0.    0.641]\n",
      "AUC all:  0.7931811777965625\n",
      "\n"
     ]
    },
    {
     "name": "stderr",
     "output_type": "stream",
     "text": [
      "[I 2019-08-24 12:12:18,773] Finished trial#601 resulted in value: -0.7931811777965625. Current best value is -0.7944491406029868 with parameters: {'w_lr': 0.018735636670162738, 'w_sv': 0.609782869522277, 'w_xgb': 0.1257268888344056, 'w_lgbm': 0.10282314833705018, 'w_mlp': 0.6409335052733912}.\n"
     ]
    },
    {
     "name": "stdout",
     "output_type": "stream",
     "text": [
      "[w_lr, w_lda, w_sv, w_xgb, w_lgbm,w_cb ] =  [0.053 0.    0.565 0.079 0.05  0.    0.586]\n",
      "AUC all:  0.7906452521837137\n",
      "\n"
     ]
    },
    {
     "name": "stderr",
     "output_type": "stream",
     "text": [
      "[I 2019-08-24 12:12:19,636] Finished trial#602 resulted in value: -0.7906452521837137. Current best value is -0.7944491406029868 with parameters: {'w_lr': 0.018735636670162738, 'w_sv': 0.609782869522277, 'w_xgb': 0.1257268888344056, 'w_lgbm': 0.10282314833705018, 'w_mlp': 0.6409335052733912}.\n"
     ]
    },
    {
     "name": "stdout",
     "output_type": "stream",
     "text": [
      "[w_lr, w_lda, w_sv, w_xgb, w_lgbm,w_cb ] =  [0.093 0.    0.566 0.164 0.088 0.    0.677]\n",
      "AUC all:  0.7906452521837137\n",
      "\n"
     ]
    },
    {
     "name": "stderr",
     "output_type": "stream",
     "text": [
      "[I 2019-08-24 12:12:20,508] Finished trial#603 resulted in value: -0.7906452521837137. Current best value is -0.7944491406029868 with parameters: {'w_lr': 0.018735636670162738, 'w_sv': 0.609782869522277, 'w_xgb': 0.1257268888344056, 'w_lgbm': 0.10282314833705018, 'w_mlp': 0.6409335052733912}.\n"
     ]
    },
    {
     "name": "stdout",
     "output_type": "stream",
     "text": [
      "[w_lr, w_lda, w_sv, w_xgb, w_lgbm,w_cb ] =  [0.    0.    0.598 0.9   0.119 0.    0.748]\n",
      "AUC all:  0.7799380107072416\n",
      "\n"
     ]
    },
    {
     "name": "stderr",
     "output_type": "stream",
     "text": [
      "[I 2019-08-24 12:12:21,396] Finished trial#604 resulted in value: -0.7799380107072416. Current best value is -0.7944491406029868 with parameters: {'w_lr': 0.018735636670162738, 'w_sv': 0.609782869522277, 'w_xgb': 0.1257268888344056, 'w_lgbm': 0.10282314833705018, 'w_mlp': 0.6409335052733912}.\n"
     ]
    },
    {
     "name": "stdout",
     "output_type": "stream",
     "text": [
      "[w_lr, w_lda, w_sv, w_xgb, w_lgbm,w_cb ] =  [0.    0.    0.599 0.122 0.143 0.    0.632]\n",
      "AUC all:  0.7923358692589462\n",
      "\n"
     ]
    },
    {
     "name": "stderr",
     "output_type": "stream",
     "text": [
      "[I 2019-08-24 12:12:22,273] Finished trial#605 resulted in value: -0.7923358692589462. Current best value is -0.7944491406029868 with parameters: {'w_lr': 0.018735636670162738, 'w_sv': 0.609782869522277, 'w_xgb': 0.1257268888344056, 'w_lgbm': 0.10282314833705018, 'w_mlp': 0.6409335052733912}.\n"
     ]
    },
    {
     "name": "stdout",
     "output_type": "stream",
     "text": [
      "[w_lr, w_lda, w_sv, w_xgb, w_lgbm,w_cb ] =  [0.114 0.    0.644 0.153 0.11  0.    0.662]\n",
      "AUC all:  0.7926176387714848\n",
      "\n"
     ]
    },
    {
     "name": "stderr",
     "output_type": "stream",
     "text": [
      "[I 2019-08-24 12:12:23,144] Finished trial#606 resulted in value: -0.7926176387714848. Current best value is -0.7944491406029868 with parameters: {'w_lr': 0.018735636670162738, 'w_sv': 0.609782869522277, 'w_xgb': 0.1257268888344056, 'w_lgbm': 0.10282314833705018, 'w_mlp': 0.6409335052733912}.\n"
     ]
    },
    {
     "name": "stdout",
     "output_type": "stream",
     "text": [
      "[w_lr, w_lda, w_sv, w_xgb, w_lgbm,w_cb ] =  [0.029 0.    0.684 0.187 0.096 0.    0.739]\n",
      "AUC all:  0.7897999436460975\n",
      "\n"
     ]
    },
    {
     "name": "stderr",
     "output_type": "stream",
     "text": [
      "[I 2019-08-24 12:12:24,019] Finished trial#607 resulted in value: -0.7897999436460975. Current best value is -0.7944491406029868 with parameters: {'w_lr': 0.018735636670162738, 'w_sv': 0.609782869522277, 'w_xgb': 0.1257268888344056, 'w_lgbm': 0.10282314833705018, 'w_mlp': 0.6409335052733912}.\n"
     ]
    },
    {
     "name": "stdout",
     "output_type": "stream",
     "text": [
      "[w_lr, w_lda, w_sv, w_xgb, w_lgbm,w_cb ] =  [0.073 0.    0.687 0.091 0.069 0.    0.615]\n",
      "AUC all:  0.7903634826711748\n",
      "\n"
     ]
    },
    {
     "name": "stderr",
     "output_type": "stream",
     "text": [
      "[I 2019-08-24 12:12:24,890] Finished trial#608 resulted in value: -0.7903634826711748. Current best value is -0.7944491406029868 with parameters: {'w_lr': 0.018735636670162738, 'w_sv': 0.609782869522277, 'w_xgb': 0.1257268888344056, 'w_lgbm': 0.10282314833705018, 'w_mlp': 0.6409335052733912}.\n"
     ]
    },
    {
     "name": "stdout",
     "output_type": "stream",
     "text": [
      "[w_lr, w_lda, w_sv, w_xgb, w_lgbm,w_cb ] =  [0.091 0.    0.708 0.129 0.102 0.    0.678]\n",
      "AUC all:  0.7931811777965624\n",
      "\n"
     ]
    },
    {
     "name": "stderr",
     "output_type": "stream",
     "text": [
      "[I 2019-08-24 12:12:25,765] Finished trial#609 resulted in value: -0.7931811777965624. Current best value is -0.7944491406029868 with parameters: {'w_lr': 0.018735636670162738, 'w_sv': 0.609782869522277, 'w_xgb': 0.1257268888344056, 'w_lgbm': 0.10282314833705018, 'w_mlp': 0.6409335052733912}.\n"
     ]
    },
    {
     "name": "stdout",
     "output_type": "stream",
     "text": [
      "[w_lr, w_lda, w_sv, w_xgb, w_lgbm,w_cb ] =  [0.05  0.    0.651 0.167 0.024 0.    0.716]\n",
      "AUC all:  0.7823330515638208\n",
      "\n"
     ]
    },
    {
     "name": "stderr",
     "output_type": "stream",
     "text": [
      "[I 2019-08-24 12:12:26,645] Finished trial#610 resulted in value: -0.7823330515638208. Current best value is -0.7944491406029868 with parameters: {'w_lr': 0.018735636670162738, 'w_sv': 0.609782869522277, 'w_xgb': 0.1257268888344056, 'w_lgbm': 0.10282314833705018, 'w_mlp': 0.6409335052733912}.\n"
     ]
    },
    {
     "name": "stdout",
     "output_type": "stream",
     "text": [
      "[w_lr, w_lda, w_sv, w_xgb, w_lgbm,w_cb ] =  [0.017 0.    0.624 0.172 0.131 0.    0.725]\n",
      "AUC all:  0.7921949845026769\n",
      "\n"
     ]
    },
    {
     "name": "stderr",
     "output_type": "stream",
     "text": [
      "[I 2019-08-24 12:12:27,524] Finished trial#611 resulted in value: -0.7921949845026769. Current best value is -0.7944491406029868 with parameters: {'w_lr': 0.018735636670162738, 'w_sv': 0.609782869522277, 'w_xgb': 0.1257268888344056, 'w_lgbm': 0.10282314833705018, 'w_mlp': 0.6409335052733912}.\n"
     ]
    },
    {
     "name": "stdout",
     "output_type": "stream",
     "text": [
      "[w_lr, w_lda, w_sv, w_xgb, w_lgbm,w_cb ] =  [0.053 0.    0.665 0.102 0.066 0.    0.094]\n",
      "AUC all:  0.7883910960834037\n",
      "\n"
     ]
    },
    {
     "name": "stderr",
     "output_type": "stream",
     "text": [
      "[I 2019-08-24 12:12:28,414] Finished trial#612 resulted in value: -0.7883910960834037. Current best value is -0.7944491406029868 with parameters: {'w_lr': 0.018735636670162738, 'w_sv': 0.609782869522277, 'w_xgb': 0.1257268888344056, 'w_lgbm': 0.10282314833705018, 'w_mlp': 0.6409335052733912}.\n"
     ]
    },
    {
     "name": "stdout",
     "output_type": "stream",
     "text": [
      "[w_lr, w_lda, w_sv, w_xgb, w_lgbm,w_cb ] =  [0.03  0.    0.549 0.144 0.087 0.    0.696]\n",
      "AUC all:  0.7906452521837138\n",
      "\n"
     ]
    },
    {
     "name": "stderr",
     "output_type": "stream",
     "text": [
      "[I 2019-08-24 12:12:29,310] Finished trial#613 resulted in value: -0.7906452521837138. Current best value is -0.7944491406029868 with parameters: {'w_lr': 0.018735636670162738, 'w_sv': 0.609782869522277, 'w_xgb': 0.1257268888344056, 'w_lgbm': 0.10282314833705018, 'w_mlp': 0.6409335052733912}.\n"
     ]
    },
    {
     "name": "stdout",
     "output_type": "stream",
     "text": [
      "[w_lr, w_lda, w_sv, w_xgb, w_lgbm,w_cb ] =  [0.138 0.    0.652 0.199 0.112 0.    0.71 ]\n",
      "AUC all:  0.7910679064525217\n",
      "\n"
     ]
    },
    {
     "name": "stderr",
     "output_type": "stream",
     "text": [
      "[I 2019-08-24 12:12:30,202] Finished trial#614 resulted in value: -0.7910679064525217. Current best value is -0.7944491406029868 with parameters: {'w_lr': 0.018735636670162738, 'w_sv': 0.609782869522277, 'w_xgb': 0.1257268888344056, 'w_lgbm': 0.10282314833705018, 'w_mlp': 0.6409335052733912}.\n"
     ]
    },
    {
     "name": "stdout",
     "output_type": "stream",
     "text": [
      "[w_lr, w_lda, w_sv, w_xgb, w_lgbm,w_cb ] =  [0.084 0.    0.681 0.128 0.087 0.    0.649]\n",
      "AUC all:  0.7916314454775993\n",
      "\n"
     ]
    },
    {
     "name": "stderr",
     "output_type": "stream",
     "text": [
      "[I 2019-08-24 12:12:31,093] Finished trial#615 resulted in value: -0.7916314454775993. Current best value is -0.7944491406029868 with parameters: {'w_lr': 0.018735636670162738, 'w_sv': 0.609782869522277, 'w_xgb': 0.1257268888344056, 'w_lgbm': 0.10282314833705018, 'w_mlp': 0.6409335052733912}.\n"
     ]
    },
    {
     "name": "stdout",
     "output_type": "stream",
     "text": [
      "[w_lr, w_lda, w_sv, w_xgb, w_lgbm,w_cb ] =  [0.022 0.    0.621 0.147 0.127 0.    0.655]\n",
      "AUC all:  0.7930402930402931\n",
      "\n"
     ]
    },
    {
     "name": "stderr",
     "output_type": "stream",
     "text": [
      "[I 2019-08-24 12:12:31,989] Finished trial#616 resulted in value: -0.7930402930402931. Current best value is -0.7944491406029868 with parameters: {'w_lr': 0.018735636670162738, 'w_sv': 0.609782869522277, 'w_xgb': 0.1257268888344056, 'w_lgbm': 0.10282314833705018, 'w_mlp': 0.6409335052733912}.\n"
     ]
    },
    {
     "name": "stdout",
     "output_type": "stream",
     "text": [
      "[w_lr, w_lda, w_sv, w_xgb, w_lgbm,w_cb ] =  [0.062 0.    0.573 0.059 0.05  0.    0.566]\n",
      "AUC all:  0.7912087912087912\n",
      "\n"
     ]
    },
    {
     "name": "stderr",
     "output_type": "stream",
     "text": [
      "[I 2019-08-24 12:12:32,874] Finished trial#617 resulted in value: -0.7912087912087912. Current best value is -0.7944491406029868 with parameters: {'w_lr': 0.018735636670162738, 'w_sv': 0.609782869522277, 'w_xgb': 0.1257268888344056, 'w_lgbm': 0.10282314833705018, 'w_mlp': 0.6409335052733912}.\n"
     ]
    },
    {
     "name": "stdout",
     "output_type": "stream",
     "text": [
      "[w_lr, w_lda, w_sv, w_xgb, w_lgbm,w_cb ] =  [0.    0.    0.586 0.073 0.071 0.    0.6  ]\n",
      "AUC all:  0.7923358692589462\n",
      "\n"
     ]
    },
    {
     "name": "stderr",
     "output_type": "stream",
     "text": [
      "[I 2019-08-24 12:12:33,755] Finished trial#618 resulted in value: -0.7923358692589462. Current best value is -0.7944491406029868 with parameters: {'w_lr': 0.018735636670162738, 'w_sv': 0.609782869522277, 'w_xgb': 0.1257268888344056, 'w_lgbm': 0.10282314833705018, 'w_mlp': 0.6409335052733912}.\n"
     ]
    },
    {
     "name": "stdout",
     "output_type": "stream",
     "text": [
      "[w_lr, w_lda, w_sv, w_xgb, w_lgbm,w_cb ] =  [0.001 0.    0.599 0.111 0.155 0.    0.634]\n",
      "AUC all:  0.7906452521837137\n",
      "\n"
     ]
    },
    {
     "name": "stderr",
     "output_type": "stream",
     "text": [
      "[I 2019-08-24 12:12:34,668] Finished trial#619 resulted in value: -0.7906452521837137. Current best value is -0.7944491406029868 with parameters: {'w_lr': 0.018735636670162738, 'w_sv': 0.609782869522277, 'w_xgb': 0.1257268888344056, 'w_lgbm': 0.10282314833705018, 'w_mlp': 0.6409335052733912}.\n"
     ]
    },
    {
     "name": "stdout",
     "output_type": "stream",
     "text": [
      "[w_lr, w_lda, w_sv, w_xgb, w_lgbm,w_cb ] =  [0.042 0.    0.641 0.161 0.106 0.    0.758]\n",
      "AUC all:  0.7917723302338686\n",
      "\n"
     ]
    },
    {
     "name": "stderr",
     "output_type": "stream",
     "text": [
      "[I 2019-08-24 12:12:35,547] Finished trial#620 resulted in value: -0.7917723302338686. Current best value is -0.7944491406029868 with parameters: {'w_lr': 0.018735636670162738, 'w_sv': 0.609782869522277, 'w_xgb': 0.1257268888344056, 'w_lgbm': 0.10282314833705018, 'w_mlp': 0.6409335052733912}.\n"
     ]
    },
    {
     "name": "stdout",
     "output_type": "stream",
     "text": [
      "[w_lr, w_lda, w_sv, w_xgb, w_lgbm,w_cb ] =  [0.113 0.    0.702 0.124 0.098 0.    0.669]\n",
      "AUC all:  0.7936038320653704\n",
      "\n"
     ]
    },
    {
     "name": "stderr",
     "output_type": "stream",
     "text": [
      "[I 2019-08-24 12:12:36,436] Finished trial#621 resulted in value: -0.7936038320653704. Current best value is -0.7944491406029868 with parameters: {'w_lr': 0.018735636670162738, 'w_sv': 0.609782869522277, 'w_xgb': 0.1257268888344056, 'w_lgbm': 0.10282314833705018, 'w_mlp': 0.6409335052733912}.\n"
     ]
    },
    {
     "name": "stdout",
     "output_type": "stream",
     "text": [
      "[w_lr, w_lda, w_sv, w_xgb, w_lgbm,w_cb ] =  [0.016 0.    0.53  0.088 0.132 0.    0.624]\n",
      "AUC all:  0.79149056072133\n",
      "\n"
     ]
    },
    {
     "name": "stderr",
     "output_type": "stream",
     "text": [
      "[I 2019-08-24 12:12:37,313] Finished trial#622 resulted in value: -0.79149056072133. Current best value is -0.7944491406029868 with parameters: {'w_lr': 0.018735636670162738, 'w_sv': 0.609782869522277, 'w_xgb': 0.1257268888344056, 'w_lgbm': 0.10282314833705018, 'w_mlp': 0.6409335052733912}.\n"
     ]
    },
    {
     "name": "stdout",
     "output_type": "stream",
     "text": [
      "[w_lr, w_lda, w_sv, w_xgb, w_lgbm,w_cb ] =  [0.144 0.    0.736 0.131 0.104 0.    0.686]\n",
      "AUC all:  0.7933220625528318\n",
      "\n"
     ]
    },
    {
     "name": "stderr",
     "output_type": "stream",
     "text": [
      "[I 2019-08-24 12:12:38,204] Finished trial#623 resulted in value: -0.7933220625528318. Current best value is -0.7944491406029868 with parameters: {'w_lr': 0.018735636670162738, 'w_sv': 0.609782869522277, 'w_xgb': 0.1257268888344056, 'w_lgbm': 0.10282314833705018, 'w_mlp': 0.6409335052733912}.\n"
     ]
    },
    {
     "name": "stdout",
     "output_type": "stream",
     "text": [
      "[w_lr, w_lda, w_sv, w_xgb, w_lgbm,w_cb ] =  [0.12  0.    0.664 0.776 0.082 0.    0.666]\n",
      "AUC all:  0.7774020850943928\n",
      "\n"
     ]
    },
    {
     "name": "stderr",
     "output_type": "stream",
     "text": [
      "[I 2019-08-24 12:12:39,087] Finished trial#624 resulted in value: -0.7774020850943928. Current best value is -0.7944491406029868 with parameters: {'w_lr': 0.018735636670162738, 'w_sv': 0.609782869522277, 'w_xgb': 0.1257268888344056, 'w_lgbm': 0.10282314833705018, 'w_mlp': 0.6409335052733912}.\n"
     ]
    },
    {
     "name": "stdout",
     "output_type": "stream",
     "text": [
      "[w_lr, w_lda, w_sv, w_xgb, w_lgbm,w_cb ] =  [0.025 0.    0.612 0.151 0.244 0.    0.716]\n",
      "AUC all:  0.7889546351084812\n",
      "\n"
     ]
    },
    {
     "name": "stderr",
     "output_type": "stream",
     "text": [
      "[I 2019-08-24 12:12:39,981] Finished trial#625 resulted in value: -0.7889546351084812. Current best value is -0.7944491406029868 with parameters: {'w_lr': 0.018735636670162738, 'w_sv': 0.609782869522277, 'w_xgb': 0.1257268888344056, 'w_lgbm': 0.10282314833705018, 'w_mlp': 0.6409335052733912}.\n"
     ]
    },
    {
     "name": "stdout",
     "output_type": "stream",
     "text": [
      "[w_lr, w_lda, w_sv, w_xgb, w_lgbm,w_cb ] =  [0.019 0.    0.629 0.222 0.177 0.    0.707]\n",
      "AUC all:  0.7906452521837137\n",
      "\n"
     ]
    },
    {
     "name": "stderr",
     "output_type": "stream",
     "text": [
      "[I 2019-08-24 12:12:40,884] Finished trial#626 resulted in value: -0.7906452521837137. Current best value is -0.7944491406029868 with parameters: {'w_lr': 0.018735636670162738, 'w_sv': 0.609782869522277, 'w_xgb': 0.1257268888344056, 'w_lgbm': 0.10282314833705018, 'w_mlp': 0.6409335052733912}.\n"
     ]
    },
    {
     "name": "stdout",
     "output_type": "stream",
     "text": [
      "[w_lr, w_lda, w_sv, w_xgb, w_lgbm,w_cb ] =  [0.061 0.    0.578 0.095 0.038 0.    0.599]\n",
      "AUC all:  0.78698224852071\n",
      "\n"
     ]
    },
    {
     "name": "stderr",
     "output_type": "stream",
     "text": [
      "[I 2019-08-24 12:12:41,803] Finished trial#627 resulted in value: -0.78698224852071. Current best value is -0.7944491406029868 with parameters: {'w_lr': 0.018735636670162738, 'w_sv': 0.609782869522277, 'w_xgb': 0.1257268888344056, 'w_lgbm': 0.10282314833705018, 'w_mlp': 0.6409335052733912}.\n"
     ]
    },
    {
     "name": "stdout",
     "output_type": "stream",
     "text": [
      "[w_lr, w_lda, w_sv, w_xgb, w_lgbm,w_cb ] =  [0.031 0.    0.604 0.11  0.15  0.    0.643]\n",
      "AUC all:  0.7913496759650606\n",
      "\n"
     ]
    },
    {
     "name": "stderr",
     "output_type": "stream",
     "text": [
      "[I 2019-08-24 12:12:42,717] Finished trial#628 resulted in value: -0.7913496759650606. Current best value is -0.7944491406029868 with parameters: {'w_lr': 0.018735636670162738, 'w_sv': 0.609782869522277, 'w_xgb': 0.1257268888344056, 'w_lgbm': 0.10282314833705018, 'w_mlp': 0.6409335052733912}.\n"
     ]
    },
    {
     "name": "stdout",
     "output_type": "stream",
     "text": [
      "[w_lr, w_lda, w_sv, w_xgb, w_lgbm,w_cb ] =  [0.086 0.    0.643 0.113 0.067 0.    0.674]\n",
      "AUC all:  0.7890955198647506\n",
      "\n"
     ]
    },
    {
     "name": "stderr",
     "output_type": "stream",
     "text": [
      "[I 2019-08-24 12:12:43,615] Finished trial#629 resulted in value: -0.7890955198647506. Current best value is -0.7944491406029868 with parameters: {'w_lr': 0.018735636670162738, 'w_sv': 0.609782869522277, 'w_xgb': 0.1257268888344056, 'w_lgbm': 0.10282314833705018, 'w_mlp': 0.6409335052733912}.\n"
     ]
    },
    {
     "name": "stdout",
     "output_type": "stream",
     "text": [
      "[w_lr, w_lda, w_sv, w_xgb, w_lgbm,w_cb ] =  [0.015 0.    0.556 0.081 0.123 0.    0.621]\n",
      "AUC all:  0.7913496759650605\n",
      "\n"
     ]
    },
    {
     "name": "stderr",
     "output_type": "stream",
     "text": [
      "[I 2019-08-24 12:12:44,513] Finished trial#630 resulted in value: -0.7913496759650605. Current best value is -0.7944491406029868 with parameters: {'w_lr': 0.018735636670162738, 'w_sv': 0.609782869522277, 'w_xgb': 0.1257268888344056, 'w_lgbm': 0.10282314833705018, 'w_mlp': 0.6409335052733912}.\n"
     ]
    },
    {
     "name": "stdout",
     "output_type": "stream",
     "text": [
      "[w_lr, w_lda, w_sv, w_xgb, w_lgbm,w_cb ] =  [0.452 0.    0.585 0.15  0.115 0.    0.409]\n",
      "AUC all:  0.7902225979149056\n",
      "\n"
     ]
    },
    {
     "name": "stderr",
     "output_type": "stream",
     "text": [
      "[I 2019-08-24 12:12:45,424] Finished trial#631 resulted in value: -0.7902225979149056. Current best value is -0.7944491406029868 with parameters: {'w_lr': 0.018735636670162738, 'w_sv': 0.609782869522277, 'w_xgb': 0.1257268888344056, 'w_lgbm': 0.10282314833705018, 'w_mlp': 0.6409335052733912}.\n"
     ]
    },
    {
     "name": "stdout",
     "output_type": "stream",
     "text": [
      "[w_lr, w_lda, w_sv, w_xgb, w_lgbm,w_cb ] =  [0.04  0.    0.621 0.172 0.092 0.    0.262]\n",
      "AUC all:  0.7902225979149056\n",
      "\n"
     ]
    },
    {
     "name": "stderr",
     "output_type": "stream",
     "text": [
      "[I 2019-08-24 12:12:46,312] Finished trial#632 resulted in value: -0.7902225979149056. Current best value is -0.7944491406029868 with parameters: {'w_lr': 0.018735636670162738, 'w_sv': 0.609782869522277, 'w_xgb': 0.1257268888344056, 'w_lgbm': 0.10282314833705018, 'w_mlp': 0.6409335052733912}.\n"
     ]
    },
    {
     "name": "stdout",
     "output_type": "stream",
     "text": [
      "[w_lr, w_lda, w_sv, w_xgb, w_lgbm,w_cb ] =  [0.071 0.    0.664 0.992 0.142 0.    0.724]\n",
      "AUC all:  0.7816286277824739\n",
      "\n"
     ]
    },
    {
     "name": "stderr",
     "output_type": "stream",
     "text": [
      "[I 2019-08-24 12:12:47,203] Finished trial#633 resulted in value: -0.7816286277824739. Current best value is -0.7944491406029868 with parameters: {'w_lr': 0.018735636670162738, 'w_sv': 0.609782869522277, 'w_xgb': 0.1257268888344056, 'w_lgbm': 0.10282314833705018, 'w_mlp': 0.6409335052733912}.\n"
     ]
    },
    {
     "name": "stdout",
     "output_type": "stream",
     "text": [
      "[w_lr, w_lda, w_sv, w_xgb, w_lgbm,w_cb ] =  [0.101 0.    0.803 0.119 0.085 0.    0.681]\n",
      "AUC all:  0.7912087912087913\n",
      "\n"
     ]
    },
    {
     "name": "stderr",
     "output_type": "stream",
     "text": [
      "[I 2019-08-24 12:12:48,103] Finished trial#634 resulted in value: -0.7912087912087913. Current best value is -0.7944491406029868 with parameters: {'w_lr': 0.018735636670162738, 'w_sv': 0.609782869522277, 'w_xgb': 0.1257268888344056, 'w_lgbm': 0.10282314833705018, 'w_mlp': 0.6409335052733912}.\n"
     ]
    },
    {
     "name": "stdout",
     "output_type": "stream",
     "text": [
      "[w_lr, w_lda, w_sv, w_xgb, w_lgbm,w_cb ] =  [0.047 0.    0.632 0.11  0.12  0.    0.646]\n",
      "AUC all:  0.7926176387714848\n",
      "\n"
     ]
    },
    {
     "name": "stderr",
     "output_type": "stream",
     "text": [
      "[I 2019-08-24 12:12:49,018] Finished trial#635 resulted in value: -0.7926176387714848. Current best value is -0.7944491406029868 with parameters: {'w_lr': 0.018735636670162738, 'w_sv': 0.609782869522277, 'w_xgb': 0.1257268888344056, 'w_lgbm': 0.10282314833705018, 'w_mlp': 0.6409335052733912}.\n"
     ]
    },
    {
     "name": "stdout",
     "output_type": "stream",
     "text": [
      "[w_lr, w_lda, w_sv, w_xgb, w_lgbm,w_cb ] =  [0.018 0.    0.541 0.141 0.062 0.    0.692]\n",
      "AUC all:  0.7886728655959424\n",
      "\n"
     ]
    },
    {
     "name": "stderr",
     "output_type": "stream",
     "text": [
      "[I 2019-08-24 12:12:49,918] Finished trial#636 resulted in value: -0.7886728655959424. Current best value is -0.7944491406029868 with parameters: {'w_lr': 0.018735636670162738, 'w_sv': 0.609782869522277, 'w_xgb': 0.1257268888344056, 'w_lgbm': 0.10282314833705018, 'w_mlp': 0.6409335052733912}.\n"
     ]
    },
    {
     "name": "stdout",
     "output_type": "stream",
     "text": [
      "[w_lr, w_lda, w_sv, w_xgb, w_lgbm,w_cb ] =  [0.065 0.    0.599 0.05  0.03  0.    0.585]\n",
      "AUC all:  0.7885319808396731\n",
      "\n"
     ]
    },
    {
     "name": "stderr",
     "output_type": "stream",
     "text": [
      "[I 2019-08-24 12:12:50,822] Finished trial#637 resulted in value: -0.7885319808396731. Current best value is -0.7944491406029868 with parameters: {'w_lr': 0.018735636670162738, 'w_sv': 0.609782869522277, 'w_xgb': 0.1257268888344056, 'w_lgbm': 0.10282314833705018, 'w_mlp': 0.6409335052733912}.\n"
     ]
    },
    {
     "name": "stdout",
     "output_type": "stream",
     "text": [
      "[w_lr, w_lda, w_sv, w_xgb, w_lgbm,w_cb ] =  [0.067 0.    0.683 0.091 0.056 0.    0.616]\n",
      "AUC all:  0.7905043674274442\n",
      "\n"
     ]
    },
    {
     "name": "stderr",
     "output_type": "stream",
     "text": [
      "[I 2019-08-24 12:12:51,729] Finished trial#638 resulted in value: -0.7905043674274442. Current best value is -0.7944491406029868 with parameters: {'w_lr': 0.018735636670162738, 'w_sv': 0.609782869522277, 'w_xgb': 0.1257268888344056, 'w_lgbm': 0.10282314833705018, 'w_mlp': 0.6409335052733912}.\n"
     ]
    },
    {
     "name": "stdout",
     "output_type": "stream",
     "text": [
      "[w_lr, w_lda, w_sv, w_xgb, w_lgbm,w_cb ] =  [0.039 0.    0.995 0.132 0.143 0.    0.655]\n",
      "AUC all:  0.7921949845026768\n",
      "\n"
     ]
    },
    {
     "name": "stderr",
     "output_type": "stream",
     "text": [
      "[I 2019-08-24 12:12:52,636] Finished trial#639 resulted in value: -0.7921949845026768. Current best value is -0.7944491406029868 with parameters: {'w_lr': 0.018735636670162738, 'w_sv': 0.609782869522277, 'w_xgb': 0.1257268888344056, 'w_lgbm': 0.10282314833705018, 'w_mlp': 0.6409335052733912}.\n"
     ]
    },
    {
     "name": "stdout",
     "output_type": "stream",
     "text": [
      "[w_lr, w_lda, w_sv, w_xgb, w_lgbm,w_cb ] =  [0.162 0.    0.652 0.122 0.094 0.    0.633]\n",
      "AUC all:  0.7936038320653706\n",
      "\n"
     ]
    },
    {
     "name": "stderr",
     "output_type": "stream",
     "text": [
      "[I 2019-08-24 12:12:53,549] Finished trial#640 resulted in value: -0.7936038320653706. Current best value is -0.7944491406029868 with parameters: {'w_lr': 0.018735636670162738, 'w_sv': 0.609782869522277, 'w_xgb': 0.1257268888344056, 'w_lgbm': 0.10282314833705018, 'w_mlp': 0.6409335052733912}.\n"
     ]
    },
    {
     "name": "stdout",
     "output_type": "stream",
     "text": [
      "[w_lr, w_lda, w_sv, w_xgb, w_lgbm,w_cb ] =  [0.113 0.    0.646 0.138 0.104 0.    0.651]\n",
      "AUC all:  0.7938856015779093\n",
      "\n"
     ]
    },
    {
     "name": "stderr",
     "output_type": "stream",
     "text": [
      "[I 2019-08-24 12:12:54,476] Finished trial#641 resulted in value: -0.7938856015779093. Current best value is -0.7944491406029868 with parameters: {'w_lr': 0.018735636670162738, 'w_sv': 0.609782869522277, 'w_xgb': 0.1257268888344056, 'w_lgbm': 0.10282314833705018, 'w_mlp': 0.6409335052733912}.\n"
     ]
    },
    {
     "name": "stdout",
     "output_type": "stream",
     "text": [
      "[w_lr, w_lda, w_sv, w_xgb, w_lgbm,w_cb ] =  [0.149 0.    0.641 0.183 0.102 0.    0.629]\n",
      "AUC all:  0.7909270216962523\n",
      "\n"
     ]
    },
    {
     "name": "stderr",
     "output_type": "stream",
     "text": [
      "[I 2019-08-24 12:12:55,403] Finished trial#642 resulted in value: -0.7909270216962523. Current best value is -0.7944491406029868 with parameters: {'w_lr': 0.018735636670162738, 'w_sv': 0.609782869522277, 'w_xgb': 0.1257268888344056, 'w_lgbm': 0.10282314833705018, 'w_mlp': 0.6409335052733912}.\n"
     ]
    },
    {
     "name": "stdout",
     "output_type": "stream",
     "text": [
      "[w_lr, w_lda, w_sv, w_xgb, w_lgbm,w_cb ] =  [0.16  0.    0.63  0.15  0.127 0.    0.644]\n",
      "AUC all:  0.7927585235277542\n",
      "\n"
     ]
    },
    {
     "name": "stderr",
     "output_type": "stream",
     "text": [
      "[I 2019-08-24 12:12:56,320] Finished trial#643 resulted in value: -0.7927585235277542. Current best value is -0.7944491406029868 with parameters: {'w_lr': 0.018735636670162738, 'w_sv': 0.609782869522277, 'w_xgb': 0.1257268888344056, 'w_lgbm': 0.10282314833705018, 'w_mlp': 0.6409335052733912}.\n"
     ]
    },
    {
     "name": "stdout",
     "output_type": "stream",
     "text": [
      "[w_lr, w_lda, w_sv, w_xgb, w_lgbm,w_cb ] =  [0.102 0.    0.654 0.14  0.079 0.    0.66 ]\n",
      "AUC all:  0.7905043674274445\n",
      "\n"
     ]
    },
    {
     "name": "stderr",
     "output_type": "stream",
     "text": [
      "[I 2019-08-24 12:12:57,252] Finished trial#644 resulted in value: -0.7905043674274445. Current best value is -0.7944491406029868 with parameters: {'w_lr': 0.018735636670162738, 'w_sv': 0.609782869522277, 'w_xgb': 0.1257268888344056, 'w_lgbm': 0.10282314833705018, 'w_mlp': 0.6409335052733912}.\n"
     ]
    },
    {
     "name": "stdout",
     "output_type": "stream",
     "text": [
      "[w_lr, w_lda, w_sv, w_xgb, w_lgbm,w_cb ] =  [0.132 0.    0.614 0.127 0.545 0.    0.637]\n",
      "AUC all:  0.776697661313046\n",
      "\n"
     ]
    },
    {
     "name": "stderr",
     "output_type": "stream",
     "text": [
      "[I 2019-08-24 12:12:58,190] Finished trial#645 resulted in value: -0.776697661313046. Current best value is -0.7944491406029868 with parameters: {'w_lr': 0.018735636670162738, 'w_sv': 0.609782869522277, 'w_xgb': 0.1257268888344056, 'w_lgbm': 0.10282314833705018, 'w_mlp': 0.6409335052733912}.\n"
     ]
    },
    {
     "name": "stdout",
     "output_type": "stream",
     "text": [
      "[w_lr, w_lda, w_sv, w_xgb, w_lgbm,w_cb ] =  [0.172 0.    0.638 0.161 0.165 0.    0.629]\n",
      "AUC all:  0.791913214990138\n",
      "\n"
     ]
    },
    {
     "name": "stderr",
     "output_type": "stream",
     "text": [
      "[I 2019-08-24 12:12:59,115] Finished trial#646 resulted in value: -0.791913214990138. Current best value is -0.7944491406029868 with parameters: {'w_lr': 0.018735636670162738, 'w_sv': 0.609782869522277, 'w_xgb': 0.1257268888344056, 'w_lgbm': 0.10282314833705018, 'w_mlp': 0.6409335052733912}.\n"
     ]
    },
    {
     "name": "stdout",
     "output_type": "stream",
     "text": [
      "[w_lr, w_lda, w_sv, w_xgb, w_lgbm,w_cb ] =  [0.109 0.    0.62  0.111 0.106 0.    0.668]\n",
      "AUC all:  0.7927585235277543\n",
      "\n"
     ]
    },
    {
     "name": "stderr",
     "output_type": "stream",
     "text": [
      "[I 2019-08-24 12:13:00,044] Finished trial#647 resulted in value: -0.7927585235277543. Current best value is -0.7944491406029868 with parameters: {'w_lr': 0.018735636670162738, 'w_sv': 0.609782869522277, 'w_xgb': 0.1257268888344056, 'w_lgbm': 0.10282314833705018, 'w_mlp': 0.6409335052733912}.\n"
     ]
    },
    {
     "name": "stdout",
     "output_type": "stream",
     "text": [
      "[w_lr, w_lda, w_sv, w_xgb, w_lgbm,w_cb ] =  [0.085 0.    0.649 0.144 0.123 0.    0.688]\n",
      "AUC all:  0.7928994082840236\n",
      "\n"
     ]
    },
    {
     "name": "stderr",
     "output_type": "stream",
     "text": [
      "[I 2019-08-24 12:13:00,983] Finished trial#648 resulted in value: -0.7928994082840236. Current best value is -0.7944491406029868 with parameters: {'w_lr': 0.018735636670162738, 'w_sv': 0.609782869522277, 'w_xgb': 0.1257268888344056, 'w_lgbm': 0.10282314833705018, 'w_mlp': 0.6409335052733912}.\n"
     ]
    },
    {
     "name": "stdout",
     "output_type": "stream",
     "text": [
      "[w_lr, w_lda, w_sv, w_xgb, w_lgbm,w_cb ] =  [0.128 0.    0.671 0.179 0.086 0.    0.651]\n",
      "AUC all:  0.7900817131586363\n",
      "\n"
     ]
    },
    {
     "name": "stderr",
     "output_type": "stream",
     "text": [
      "[I 2019-08-24 12:13:01,924] Finished trial#649 resulted in value: -0.7900817131586363. Current best value is -0.7944491406029868 with parameters: {'w_lr': 0.018735636670162738, 'w_sv': 0.609782869522277, 'w_xgb': 0.1257268888344056, 'w_lgbm': 0.10282314833705018, 'w_mlp': 0.6409335052733912}.\n"
     ]
    },
    {
     "name": "stdout",
     "output_type": "stream",
     "text": [
      "[w_lr, w_lda, w_sv, w_xgb, w_lgbm,w_cb ] =  [0.137 0.    0.608 0.126 0.1   0.    0.612]\n",
      "AUC all:  0.793462947309101\n",
      "\n"
     ]
    },
    {
     "name": "stderr",
     "output_type": "stream",
     "text": [
      "[I 2019-08-24 12:13:02,850] Finished trial#650 resulted in value: -0.793462947309101. Current best value is -0.7944491406029868 with parameters: {'w_lr': 0.018735636670162738, 'w_sv': 0.609782869522277, 'w_xgb': 0.1257268888344056, 'w_lgbm': 0.10282314833705018, 'w_mlp': 0.6409335052733912}.\n"
     ]
    },
    {
     "name": "stdout",
     "output_type": "stream",
     "text": [
      "[w_lr, w_lda, w_sv, w_xgb, w_lgbm,w_cb ] =  [0.161 0.    0.629 0.103 0.068 0.    0.636]\n",
      "AUC all:  0.7899408284023669\n",
      "\n"
     ]
    },
    {
     "name": "stderr",
     "output_type": "stream",
     "text": [
      "[I 2019-08-24 12:13:03,778] Finished trial#651 resulted in value: -0.7899408284023669. Current best value is -0.7944491406029868 with parameters: {'w_lr': 0.018735636670162738, 'w_sv': 0.609782869522277, 'w_xgb': 0.1257268888344056, 'w_lgbm': 0.10282314833705018, 'w_mlp': 0.6409335052733912}.\n"
     ]
    },
    {
     "name": "stdout",
     "output_type": "stream",
     "text": [
      "[w_lr, w_lda, w_sv, w_xgb, w_lgbm,w_cb ] =  [0.09  0.    0.654 0.204 0.136 0.    0.672]\n",
      "AUC all:  0.7912087912087911\n",
      "\n"
     ]
    },
    {
     "name": "stderr",
     "output_type": "stream",
     "text": [
      "[I 2019-08-24 12:13:04,701] Finished trial#652 resulted in value: -0.7912087912087911. Current best value is -0.7944491406029868 with parameters: {'w_lr': 0.018735636670162738, 'w_sv': 0.609782869522277, 'w_xgb': 0.1257268888344056, 'w_lgbm': 0.10282314833705018, 'w_mlp': 0.6409335052733912}.\n"
     ]
    },
    {
     "name": "stdout",
     "output_type": "stream",
     "text": [
      "[w_lr, w_lda, w_sv, w_xgb, w_lgbm,w_cb ] =  [0.082 0.    0.593 0.157 0.002 0.    0.646]\n",
      "AUC all:  0.7747252747252747\n",
      "\n"
     ]
    },
    {
     "name": "stderr",
     "output_type": "stream",
     "text": [
      "[I 2019-08-24 12:13:05,623] Finished trial#653 resulted in value: -0.7747252747252747. Current best value is -0.7944491406029868 with parameters: {'w_lr': 0.018735636670162738, 'w_sv': 0.609782869522277, 'w_xgb': 0.1257268888344056, 'w_lgbm': 0.10282314833705018, 'w_mlp': 0.6409335052733912}.\n"
     ]
    },
    {
     "name": "stdout",
     "output_type": "stream",
     "text": [
      "[w_lr, w_lda, w_sv, w_xgb, w_lgbm,w_cb ] =  [0.118 0.    0.634 0.129 0.112 0.    0.616]\n",
      "AUC all:  0.793040293040293\n",
      "\n"
     ]
    },
    {
     "name": "stderr",
     "output_type": "stream",
     "text": [
      "[I 2019-08-24 12:13:06,539] Finished trial#654 resulted in value: -0.793040293040293. Current best value is -0.7944491406029868 with parameters: {'w_lr': 0.018735636670162738, 'w_sv': 0.609782869522277, 'w_xgb': 0.1257268888344056, 'w_lgbm': 0.10282314833705018, 'w_mlp': 0.6409335052733912}.\n"
     ]
    },
    {
     "name": "stdout",
     "output_type": "stream",
     "text": [
      "[w_lr, w_lda, w_sv, w_xgb, w_lgbm,w_cb ] =  [0.055 0.    0.615 0.107 0.087 0.    0.695]\n",
      "AUC all:  0.7920540997464075\n",
      "\n"
     ]
    },
    {
     "name": "stderr",
     "output_type": "stream",
     "text": [
      "[I 2019-08-24 12:13:07,458] Finished trial#655 resulted in value: -0.7920540997464075. Current best value is -0.7944491406029868 with parameters: {'w_lr': 0.018735636670162738, 'w_sv': 0.609782869522277, 'w_xgb': 0.1257268888344056, 'w_lgbm': 0.10282314833705018, 'w_mlp': 0.6409335052733912}.\n"
     ]
    },
    {
     "name": "stdout",
     "output_type": "stream",
     "text": [
      "[w_lr, w_lda, w_sv, w_xgb, w_lgbm,w_cb ] =  [0.075 0.    0.672 0.135 0.048 0.    0.287]\n",
      "AUC all:  0.7886728655959424\n",
      "\n"
     ]
    },
    {
     "name": "stderr",
     "output_type": "stream",
     "text": [
      "[I 2019-08-24 12:13:08,390] Finished trial#656 resulted in value: -0.7886728655959424. Current best value is -0.7944491406029868 with parameters: {'w_lr': 0.018735636670162738, 'w_sv': 0.609782869522277, 'w_xgb': 0.1257268888344056, 'w_lgbm': 0.10282314833705018, 'w_mlp': 0.6409335052733912}.\n"
     ]
    },
    {
     "name": "stdout",
     "output_type": "stream",
     "text": [
      "[w_lr, w_lda, w_sv, w_xgb, w_lgbm,w_cb ] =  [0.046 0.    0.596 0.149 0.157 0.    0.66 ]\n",
      "AUC all:  0.7923358692589461\n",
      "\n"
     ]
    },
    {
     "name": "stderr",
     "output_type": "stream",
     "text": [
      "[I 2019-08-24 12:13:09,335] Finished trial#657 resulted in value: -0.7923358692589461. Current best value is -0.7944491406029868 with parameters: {'w_lr': 0.018735636670162738, 'w_sv': 0.609782869522277, 'w_xgb': 0.1257268888344056, 'w_lgbm': 0.10282314833705018, 'w_mlp': 0.6409335052733912}.\n"
     ]
    },
    {
     "name": "stdout",
     "output_type": "stream",
     "text": [
      "[w_lr, w_lda, w_sv, w_xgb, w_lgbm,w_cb ] =  [0.039 0.    0.65  0.117 0.121 0.    0.628]\n",
      "AUC all:  0.792617638771485\n",
      "\n"
     ]
    },
    {
     "name": "stderr",
     "output_type": "stream",
     "text": [
      "[I 2019-08-24 12:13:10,276] Finished trial#658 resulted in value: -0.792617638771485. Current best value is -0.7944491406029868 with parameters: {'w_lr': 0.018735636670162738, 'w_sv': 0.609782869522277, 'w_xgb': 0.1257268888344056, 'w_lgbm': 0.10282314833705018, 'w_mlp': 0.6409335052733912}.\n"
     ]
    },
    {
     "name": "stdout",
     "output_type": "stream",
     "text": [
      "[w_lr, w_lda, w_sv, w_xgb, w_lgbm,w_cb ] =  [0.12  0.    0.628 0.171 0.077 0.    0.674]\n",
      "AUC all:  0.7902225979149057\n",
      "\n"
     ]
    },
    {
     "name": "stderr",
     "output_type": "stream",
     "text": [
      "[I 2019-08-24 12:13:11,221] Finished trial#659 resulted in value: -0.7902225979149057. Current best value is -0.7944491406029868 with parameters: {'w_lr': 0.018735636670162738, 'w_sv': 0.609782869522277, 'w_xgb': 0.1257268888344056, 'w_lgbm': 0.10282314833705018, 'w_mlp': 0.6409335052733912}.\n"
     ]
    },
    {
     "name": "stdout",
     "output_type": "stream",
     "text": [
      "[w_lr, w_lda, w_sv, w_xgb, w_lgbm,w_cb ] =  [0.145 0.    0.607 0.098 0.1   0.    0.65 ]\n",
      "AUC all:  0.7927585235277541\n",
      "\n"
     ]
    },
    {
     "name": "stderr",
     "output_type": "stream",
     "text": [
      "[I 2019-08-24 12:13:12,155] Finished trial#660 resulted in value: -0.7927585235277541. Current best value is -0.7944491406029868 with parameters: {'w_lr': 0.018735636670162738, 'w_sv': 0.609782869522277, 'w_xgb': 0.1257268888344056, 'w_lgbm': 0.10282314833705018, 'w_mlp': 0.6409335052733912}.\n"
     ]
    },
    {
     "name": "stdout",
     "output_type": "stream",
     "text": [
      "[w_lr, w_lda, w_sv, w_xgb, w_lgbm,w_cb ] =  [0.226 0.    0.572 0.14  0.211 0.    0.609]\n",
      "AUC all:  0.7895181741335587\n",
      "\n"
     ]
    },
    {
     "name": "stderr",
     "output_type": "stream",
     "text": [
      "[I 2019-08-24 12:13:13,087] Finished trial#661 resulted in value: -0.7895181741335587. Current best value is -0.7944491406029868 with parameters: {'w_lr': 0.018735636670162738, 'w_sv': 0.609782869522277, 'w_xgb': 0.1257268888344056, 'w_lgbm': 0.10282314833705018, 'w_mlp': 0.6409335052733912}.\n"
     ]
    },
    {
     "name": "stdout",
     "output_type": "stream",
     "text": [
      "[w_lr, w_lda, w_sv, w_xgb, w_lgbm,w_cb ] =  [0.069 0.    0.666 0.115 0.14  0.    0.633]\n",
      "AUC all:  0.7924767540152156\n",
      "\n"
     ]
    },
    {
     "name": "stderr",
     "output_type": "stream",
     "text": [
      "[I 2019-08-24 12:13:14,026] Finished trial#662 resulted in value: -0.7924767540152156. Current best value is -0.7944491406029868 with parameters: {'w_lr': 0.018735636670162738, 'w_sv': 0.609782869522277, 'w_xgb': 0.1257268888344056, 'w_lgbm': 0.10282314833705018, 'w_mlp': 0.6409335052733912}.\n"
     ]
    },
    {
     "name": "stdout",
     "output_type": "stream",
     "text": [
      "[w_lr, w_lda, w_sv, w_xgb, w_lgbm,w_cb ] =  [0.097 0.    0.59  0.091 0.118 0.    0.688]\n",
      "AUC all:  0.7926176387714848\n",
      "\n"
     ]
    },
    {
     "name": "stderr",
     "output_type": "stream",
     "text": [
      "[I 2019-08-24 12:13:14,970] Finished trial#663 resulted in value: -0.7926176387714848. Current best value is -0.7944491406029868 with parameters: {'w_lr': 0.018735636670162738, 'w_sv': 0.609782869522277, 'w_xgb': 0.1257268888344056, 'w_lgbm': 0.10282314833705018, 'w_mlp': 0.6409335052733912}.\n"
     ]
    },
    {
     "name": "stdout",
     "output_type": "stream",
     "text": [
      "[w_lr, w_lda, w_sv, w_xgb, w_lgbm,w_cb ] =  [0.001 0.    0.64  0.154 0.069 0.    0.658]\n",
      "AUC all:  0.7889546351084812\n",
      "\n"
     ]
    },
    {
     "name": "stderr",
     "output_type": "stream",
     "text": [
      "[I 2019-08-24 12:13:15,917] Finished trial#664 resulted in value: -0.7889546351084812. Current best value is -0.7944491406029868 with parameters: {'w_lr': 0.018735636670162738, 'w_sv': 0.609782869522277, 'w_xgb': 0.1257268888344056, 'w_lgbm': 0.10282314833705018, 'w_mlp': 0.6409335052733912}.\n"
     ]
    },
    {
     "name": "stdout",
     "output_type": "stream",
     "text": [
      "[w_lr, w_lda, w_sv, w_xgb, w_lgbm,w_cb ] =  [0.053 0.    0.616 0.13  0.098 0.    0.632]\n",
      "AUC all:  0.7937447168216398\n",
      "\n"
     ]
    },
    {
     "name": "stderr",
     "output_type": "stream",
     "text": [
      "[I 2019-08-24 12:13:16,868] Finished trial#665 resulted in value: -0.7937447168216398. Current best value is -0.7944491406029868 with parameters: {'w_lr': 0.018735636670162738, 'w_sv': 0.609782869522277, 'w_xgb': 0.1257268888344056, 'w_lgbm': 0.10282314833705018, 'w_mlp': 0.6409335052733912}.\n"
     ]
    },
    {
     "name": "stdout",
     "output_type": "stream",
     "text": [
      "[w_lr, w_lda, w_sv, w_xgb, w_lgbm,w_cb ] =  [0.037 0.    0.612 0.588 0.049 0.    0.61 ]\n",
      "AUC all:  0.7754296985066215\n",
      "\n"
     ]
    },
    {
     "name": "stderr",
     "output_type": "stream",
     "text": [
      "[I 2019-08-24 12:13:17,827] Finished trial#666 resulted in value: -0.7754296985066215. Current best value is -0.7944491406029868 with parameters: {'w_lr': 0.018735636670162738, 'w_sv': 0.609782869522277, 'w_xgb': 0.1257268888344056, 'w_lgbm': 0.10282314833705018, 'w_mlp': 0.6409335052733912}.\n"
     ]
    },
    {
     "name": "stdout",
     "output_type": "stream",
     "text": [
      "[w_lr, w_lda, w_sv, w_xgb, w_lgbm,w_cb ] =  [0.03  0.    0.58  0.106 0.088 0.    0.602]\n",
      "AUC all:  0.793462947309101\n",
      "\n"
     ]
    },
    {
     "name": "stderr",
     "output_type": "stream",
     "text": [
      "[I 2019-08-24 12:13:18,779] Finished trial#667 resulted in value: -0.793462947309101. Current best value is -0.7944491406029868 with parameters: {'w_lr': 0.018735636670162738, 'w_sv': 0.609782869522277, 'w_xgb': 0.1257268888344056, 'w_lgbm': 0.10282314833705018, 'w_mlp': 0.6409335052733912}.\n"
     ]
    },
    {
     "name": "stdout",
     "output_type": "stream",
     "text": [
      "[w_lr, w_lda, w_sv, w_xgb, w_lgbm,w_cb ] =  [0.051 0.    0.685 0.187 0.132 0.    0.669]\n",
      "AUC all:  0.7913496759650606\n",
      "\n"
     ]
    },
    {
     "name": "stderr",
     "output_type": "stream",
     "text": [
      "[I 2019-08-24 12:13:19,723] Finished trial#668 resulted in value: -0.7913496759650606. Current best value is -0.7944491406029868 with parameters: {'w_lr': 0.018735636670162738, 'w_sv': 0.609782869522277, 'w_xgb': 0.1257268888344056, 'w_lgbm': 0.10282314833705018, 'w_mlp': 0.6409335052733912}.\n"
     ]
    },
    {
     "name": "stdout",
     "output_type": "stream",
     "text": [
      "[w_lr, w_lda, w_sv, w_xgb, w_lgbm,w_cb ] =  [0.    0.    0.608 0.121 0.076 0.    0.631]\n",
      "AUC all:  0.7909270216962524\n",
      "\n"
     ]
    },
    {
     "name": "stderr",
     "output_type": "stream",
     "text": [
      "[I 2019-08-24 12:13:20,668] Finished trial#669 resulted in value: -0.7909270216962524. Current best value is -0.7944491406029868 with parameters: {'w_lr': 0.018735636670162738, 'w_sv': 0.609782869522277, 'w_xgb': 0.1257268888344056, 'w_lgbm': 0.10282314833705018, 'w_mlp': 0.6409335052733912}.\n"
     ]
    },
    {
     "name": "stdout",
     "output_type": "stream",
     "text": [
      "[w_lr, w_lda, w_sv, w_xgb, w_lgbm,w_cb ] =  [0.08  0.    0.581 0.164 0.1   0.    0.646]\n",
      "AUC all:  0.7916314454775992\n",
      "\n"
     ]
    },
    {
     "name": "stderr",
     "output_type": "stream",
     "text": [
      "[I 2019-08-24 12:13:21,620] Finished trial#670 resulted in value: -0.7916314454775992. Current best value is -0.7944491406029868 with parameters: {'w_lr': 0.018735636670162738, 'w_sv': 0.609782869522277, 'w_xgb': 0.1257268888344056, 'w_lgbm': 0.10282314833705018, 'w_mlp': 0.6409335052733912}.\n"
     ]
    },
    {
     "name": "stdout",
     "output_type": "stream",
     "text": [
      "[w_lr, w_lda, w_sv, w_xgb, w_lgbm,w_cb ] =  [0.019 0.    0.642 0.082 0.117 0.    0.69 ]\n",
      "AUC all:  0.7921949845026769\n",
      "\n"
     ]
    },
    {
     "name": "stderr",
     "output_type": "stream",
     "text": [
      "[I 2019-08-24 12:13:22,582] Finished trial#671 resulted in value: -0.7921949845026769. Current best value is -0.7944491406029868 with parameters: {'w_lr': 0.018735636670162738, 'w_sv': 0.609782869522277, 'w_xgb': 0.1257268888344056, 'w_lgbm': 0.10282314833705018, 'w_mlp': 0.6409335052733912}.\n"
     ]
    },
    {
     "name": "stdout",
     "output_type": "stream",
     "text": [
      "[w_lr, w_lda, w_sv, w_xgb, w_lgbm,w_cb ] =  [0.065 0.    0.623 0.139 0.024 0.    0.662]\n",
      "AUC all:  0.7834601296139757\n",
      "\n"
     ]
    },
    {
     "name": "stderr",
     "output_type": "stream",
     "text": [
      "[I 2019-08-24 12:13:23,531] Finished trial#672 resulted in value: -0.7834601296139757. Current best value is -0.7944491406029868 with parameters: {'w_lr': 0.018735636670162738, 'w_sv': 0.609782869522277, 'w_xgb': 0.1257268888344056, 'w_lgbm': 0.10282314833705018, 'w_mlp': 0.6409335052733912}.\n"
     ]
    },
    {
     "name": "stdout",
     "output_type": "stream",
     "text": [
      "[w_lr, w_lda, w_sv, w_xgb, w_lgbm,w_cb ] =  [0.094 0.    0.215 0.525 0.057 0.    0.619]\n",
      "AUC all:  0.777120315581854\n",
      "\n"
     ]
    },
    {
     "name": "stderr",
     "output_type": "stream",
     "text": [
      "[I 2019-08-24 12:13:24,498] Finished trial#673 resulted in value: -0.777120315581854. Current best value is -0.7944491406029868 with parameters: {'w_lr': 0.018735636670162738, 'w_sv': 0.609782869522277, 'w_xgb': 0.1257268888344056, 'w_lgbm': 0.10282314833705018, 'w_mlp': 0.6409335052733912}.\n"
     ]
    },
    {
     "name": "stdout",
     "output_type": "stream",
     "text": [
      "[w_lr, w_lda, w_sv, w_xgb, w_lgbm,w_cb ] =  [0.052 0.    0.658 0.136 0.09  0.    0.593]\n",
      "AUC all:  0.7923358692589462\n",
      "\n"
     ]
    },
    {
     "name": "stderr",
     "output_type": "stream",
     "text": [
      "[I 2019-08-24 12:13:25,466] Finished trial#674 resulted in value: -0.7923358692589462. Current best value is -0.7944491406029868 with parameters: {'w_lr': 0.018735636670162738, 'w_sv': 0.609782869522277, 'w_xgb': 0.1257268888344056, 'w_lgbm': 0.10282314833705018, 'w_mlp': 0.6409335052733912}.\n"
     ]
    },
    {
     "name": "stdout",
     "output_type": "stream",
     "text": [
      "[w_lr, w_lda, w_sv, w_xgb, w_lgbm,w_cb ] =  [0.03  0.    0.596 0.102 0.188 0.    0.644]\n",
      "AUC all:  0.7905043674274445\n",
      "\n"
     ]
    },
    {
     "name": "stderr",
     "output_type": "stream",
     "text": [
      "[I 2019-08-24 12:13:26,432] Finished trial#675 resulted in value: -0.7905043674274445. Current best value is -0.7944491406029868 with parameters: {'w_lr': 0.018735636670162738, 'w_sv': 0.609782869522277, 'w_xgb': 0.1257268888344056, 'w_lgbm': 0.10282314833705018, 'w_mlp': 0.6409335052733912}.\n"
     ]
    },
    {
     "name": "stdout",
     "output_type": "stream",
     "text": [
      "[w_lr, w_lda, w_sv, w_xgb, w_lgbm,w_cb ] =  [0.019 0.    0.637 0.119 0.151 0.    0.325]\n",
      "AUC all:  0.7909270216962523\n",
      "\n"
     ]
    },
    {
     "name": "stderr",
     "output_type": "stream",
     "text": [
      "[I 2019-08-24 12:13:27,396] Finished trial#676 resulted in value: -0.7909270216962523. Current best value is -0.7944491406029868 with parameters: {'w_lr': 0.018735636670162738, 'w_sv': 0.609782869522277, 'w_xgb': 0.1257268888344056, 'w_lgbm': 0.10282314833705018, 'w_mlp': 0.6409335052733912}.\n"
     ]
    },
    {
     "name": "stdout",
     "output_type": "stream",
     "text": [
      "[w_lr, w_lda, w_sv, w_xgb, w_lgbm,w_cb ] =  [0.052 0.    0.674 0.172 0.1   0.    0.629]\n",
      "AUC all:  0.7916314454775992\n",
      "\n"
     ]
    },
    {
     "name": "stderr",
     "output_type": "stream",
     "text": [
      "[I 2019-08-24 12:13:28,349] Finished trial#677 resulted in value: -0.7916314454775992. Current best value is -0.7944491406029868 with parameters: {'w_lr': 0.018735636670162738, 'w_sv': 0.609782869522277, 'w_xgb': 0.1257268888344056, 'w_lgbm': 0.10282314833705018, 'w_mlp': 0.6409335052733912}.\n"
     ]
    },
    {
     "name": "stdout",
     "output_type": "stream",
     "text": [
      "[w_lr, w_lda, w_sv, w_xgb, w_lgbm,w_cb ] =  [0.077 0.    0.606 0.068 0.072 0.    0.605]\n",
      "AUC all:  0.792617638771485\n",
      "\n"
     ]
    },
    {
     "name": "stderr",
     "output_type": "stream",
     "text": [
      "[I 2019-08-24 12:13:29,309] Finished trial#678 resulted in value: -0.792617638771485. Current best value is -0.7944491406029868 with parameters: {'w_lr': 0.018735636670162738, 'w_sv': 0.609782869522277, 'w_xgb': 0.1257268888344056, 'w_lgbm': 0.10282314833705018, 'w_mlp': 0.6409335052733912}.\n"
     ]
    },
    {
     "name": "stdout",
     "output_type": "stream",
     "text": [
      "[w_lr, w_lda, w_sv, w_xgb, w_lgbm,w_cb ] =  [0.108 0.    0.648 0.152 0.105 0.    0.623]\n",
      "AUC all:  0.7921949845026768\n",
      "\n"
     ]
    },
    {
     "name": "stderr",
     "output_type": "stream",
     "text": [
      "[I 2019-08-24 12:13:30,280] Finished trial#679 resulted in value: -0.7921949845026768. Current best value is -0.7944491406029868 with parameters: {'w_lr': 0.018735636670162738, 'w_sv': 0.609782869522277, 'w_xgb': 0.1257268888344056, 'w_lgbm': 0.10282314833705018, 'w_mlp': 0.6409335052733912}.\n"
     ]
    },
    {
     "name": "stdout",
     "output_type": "stream",
     "text": [
      "[w_lr, w_lda, w_sv, w_xgb, w_lgbm,w_cb ] =  [0.048 0.    0.564 0.141 0.138 0.    0.679]\n",
      "AUC all:  0.7933220625528318\n",
      "\n"
     ]
    },
    {
     "name": "stderr",
     "output_type": "stream",
     "text": [
      "[I 2019-08-24 12:13:31,253] Finished trial#680 resulted in value: -0.7933220625528318. Current best value is -0.7944491406029868 with parameters: {'w_lr': 0.018735636670162738, 'w_sv': 0.609782869522277, 'w_xgb': 0.1257268888344056, 'w_lgbm': 0.10282314833705018, 'w_mlp': 0.6409335052733912}.\n"
     ]
    },
    {
     "name": "stdout",
     "output_type": "stream",
     "text": [
      "[w_lr, w_lda, w_sv, w_xgb, w_lgbm,w_cb ] =  [0.033 0.    0.581 0.092 0.172 0.    0.702]\n",
      "AUC all:  0.7900817131586362\n",
      "\n"
     ]
    },
    {
     "name": "stderr",
     "output_type": "stream",
     "text": [
      "[I 2019-08-24 12:13:32,224] Finished trial#681 resulted in value: -0.7900817131586362. Current best value is -0.7944491406029868 with parameters: {'w_lr': 0.018735636670162738, 'w_sv': 0.609782869522277, 'w_xgb': 0.1257268888344056, 'w_lgbm': 0.10282314833705018, 'w_mlp': 0.6409335052733912}.\n"
     ]
    },
    {
     "name": "stdout",
     "output_type": "stream",
     "text": [
      "[w_lr, w_lda, w_sv, w_xgb, w_lgbm,w_cb ] =  [0.061 0.    0.62  0.191 0.118 0.    0.656]\n",
      "AUC all:  0.7913496759650606\n",
      "\n"
     ]
    },
    {
     "name": "stderr",
     "output_type": "stream",
     "text": [
      "[I 2019-08-24 12:13:33,187] Finished trial#682 resulted in value: -0.7913496759650606. Current best value is -0.7944491406029868 with parameters: {'w_lr': 0.018735636670162738, 'w_sv': 0.609782869522277, 'w_xgb': 0.1257268888344056, 'w_lgbm': 0.10282314833705018, 'w_mlp': 0.6409335052733912}.\n"
     ]
    },
    {
     "name": "stdout",
     "output_type": "stream",
     "text": [
      "[w_lr, w_lda, w_sv, w_xgb, w_lgbm,w_cb ] =  [0.085 0.    0.695 0.118 0.062 0.    0.674]\n",
      "AUC all:  0.7893772893772895\n",
      "\n"
     ]
    },
    {
     "name": "stderr",
     "output_type": "stream",
     "text": [
      "[I 2019-08-24 12:13:34,145] Finished trial#683 resulted in value: -0.7893772893772895. Current best value is -0.7944491406029868 with parameters: {'w_lr': 0.018735636670162738, 'w_sv': 0.609782869522277, 'w_xgb': 0.1257268888344056, 'w_lgbm': 0.10282314833705018, 'w_mlp': 0.6409335052733912}.\n"
     ]
    },
    {
     "name": "stdout",
     "output_type": "stream",
     "text": [
      "[w_lr, w_lda, w_sv, w_xgb, w_lgbm,w_cb ] =  [0.186 0.    0.371 0.411 0.085 0.    0.646]\n",
      "AUC all:  0.7833192448577063\n",
      "\n"
     ]
    },
    {
     "name": "stderr",
     "output_type": "stream",
     "text": [
      "[I 2019-08-24 12:13:35,120] Finished trial#684 resulted in value: -0.7833192448577063. Current best value is -0.7944491406029868 with parameters: {'w_lr': 0.018735636670162738, 'w_sv': 0.609782869522277, 'w_xgb': 0.1257268888344056, 'w_lgbm': 0.10282314833705018, 'w_mlp': 0.6409335052733912}.\n"
     ]
    },
    {
     "name": "stdout",
     "output_type": "stream",
     "text": [
      "[w_lr, w_lda, w_sv, w_xgb, w_lgbm,w_cb ] =  [0.037 0.    0.662 0.165 0.041 0.    0.63 ]\n",
      "AUC all:  0.7847280924204001\n",
      "\n"
     ]
    },
    {
     "name": "stderr",
     "output_type": "stream",
     "text": [
      "[I 2019-08-24 12:13:36,085] Finished trial#685 resulted in value: -0.7847280924204001. Current best value is -0.7944491406029868 with parameters: {'w_lr': 0.018735636670162738, 'w_sv': 0.609782869522277, 'w_xgb': 0.1257268888344056, 'w_lgbm': 0.10282314833705018, 'w_mlp': 0.6409335052733912}.\n"
     ]
    },
    {
     "name": "stdout",
     "output_type": "stream",
     "text": [
      "[w_lr, w_lda, w_sv, w_xgb, w_lgbm,w_cb ] =  [0.116 0.    0.597 0.102 0.094 0.    0.699]\n",
      "AUC all:  0.7933220625528318\n",
      "\n"
     ]
    },
    {
     "name": "stderr",
     "output_type": "stream",
     "text": [
      "[I 2019-08-24 12:13:37,046] Finished trial#686 resulted in value: -0.7933220625528318. Current best value is -0.7944491406029868 with parameters: {'w_lr': 0.018735636670162738, 'w_sv': 0.609782869522277, 'w_xgb': 0.1257268888344056, 'w_lgbm': 0.10282314833705018, 'w_mlp': 0.6409335052733912}.\n"
     ]
    },
    {
     "name": "stdout",
     "output_type": "stream",
     "text": [
      "[w_lr, w_lda, w_sv, w_xgb, w_lgbm,w_cb ] =  [0.019 0.    0.632 0.135 0.071 0.    0.597]\n",
      "AUC all:  0.7906452521837137\n",
      "\n"
     ]
    },
    {
     "name": "stderr",
     "output_type": "stream",
     "text": [
      "[I 2019-08-24 12:13:38,019] Finished trial#687 resulted in value: -0.7906452521837137. Current best value is -0.7944491406029868 with parameters: {'w_lr': 0.018735636670162738, 'w_sv': 0.609782869522277, 'w_xgb': 0.1257268888344056, 'w_lgbm': 0.10282314833705018, 'w_mlp': 0.6409335052733912}.\n"
     ]
    },
    {
     "name": "stdout",
     "output_type": "stream",
     "text": [
      "[w_lr, w_lda, w_sv, w_xgb, w_lgbm,w_cb ] =  [0.    0.    0.63  0.154 0.094 0.    0.507]\n",
      "AUC all:  0.7910679064525219\n",
      "\n"
     ]
    },
    {
     "name": "stderr",
     "output_type": "stream",
     "text": [
      "[I 2019-08-24 12:13:38,986] Finished trial#688 resulted in value: -0.7910679064525219. Current best value is -0.7944491406029868 with parameters: {'w_lr': 0.018735636670162738, 'w_sv': 0.609782869522277, 'w_xgb': 0.1257268888344056, 'w_lgbm': 0.10282314833705018, 'w_mlp': 0.6409335052733912}.\n"
     ]
    },
    {
     "name": "stdout",
     "output_type": "stream",
     "text": [
      "[w_lr, w_lda, w_sv, w_xgb, w_lgbm,w_cb ] =  [0.019 0.    0.562 0.076 0.125 0.    0.655]\n",
      "AUC all:  0.7912087912087912\n",
      "\n"
     ]
    },
    {
     "name": "stderr",
     "output_type": "stream",
     "text": [
      "[I 2019-08-24 12:13:39,963] Finished trial#689 resulted in value: -0.7912087912087912. Current best value is -0.7944491406029868 with parameters: {'w_lr': 0.018735636670162738, 'w_sv': 0.609782869522277, 'w_xgb': 0.1257268888344056, 'w_lgbm': 0.10282314833705018, 'w_mlp': 0.6409335052733912}.\n"
     ]
    },
    {
     "name": "stdout",
     "output_type": "stream",
     "text": [
      "[w_lr, w_lda, w_sv, w_xgb, w_lgbm,w_cb ] =  [0.055 0.    0.653 0.135 0.582 0.    0.239]\n",
      "AUC all:  0.7696534234995773\n",
      "\n"
     ]
    },
    {
     "name": "stderr",
     "output_type": "stream",
     "text": [
      "[I 2019-08-24 12:13:40,925] Finished trial#690 resulted in value: -0.7696534234995773. Current best value is -0.7944491406029868 with parameters: {'w_lr': 0.018735636670162738, 'w_sv': 0.609782869522277, 'w_xgb': 0.1257268888344056, 'w_lgbm': 0.10282314833705018, 'w_mlp': 0.6409335052733912}.\n"
     ]
    },
    {
     "name": "stdout",
     "output_type": "stream",
     "text": [
      "[w_lr, w_lda, w_sv, w_xgb, w_lgbm,w_cb ] =  [0.035 0.    0.399 0.113 0.152 0.    0.675]\n",
      "AUC all:  0.7917723302338686\n",
      "\n"
     ]
    },
    {
     "name": "stderr",
     "output_type": "stream",
     "text": [
      "[I 2019-08-24 12:13:41,904] Finished trial#691 resulted in value: -0.7917723302338686. Current best value is -0.7944491406029868 with parameters: {'w_lr': 0.018735636670162738, 'w_sv': 0.609782869522277, 'w_xgb': 0.1257268888344056, 'w_lgbm': 0.10282314833705018, 'w_mlp': 0.6409335052733912}.\n"
     ]
    },
    {
     "name": "stdout",
     "output_type": "stream",
     "text": [
      "[w_lr, w_lda, w_sv, w_xgb, w_lgbm,w_cb ] =  [0.069 0.    0.594 0.092 0.13  0.    0.455]\n",
      "AUC all:  0.7917723302338686\n",
      "\n"
     ]
    },
    {
     "name": "stderr",
     "output_type": "stream",
     "text": [
      "[I 2019-08-24 12:13:42,876] Finished trial#692 resulted in value: -0.7917723302338686. Current best value is -0.7944491406029868 with parameters: {'w_lr': 0.018735636670162738, 'w_sv': 0.609782869522277, 'w_xgb': 0.1257268888344056, 'w_lgbm': 0.10282314833705018, 'w_mlp': 0.6409335052733912}.\n"
     ]
    },
    {
     "name": "stdout",
     "output_type": "stream",
     "text": [
      "[w_lr, w_lda, w_sv, w_xgb, w_lgbm,w_cb ] =  [0.154 0.    0.617 0.125 0.106 0.    0.635]\n",
      "AUC all:  0.7928994082840236\n",
      "\n"
     ]
    },
    {
     "name": "stderr",
     "output_type": "stream",
     "text": [
      "[I 2019-08-24 12:13:43,861] Finished trial#693 resulted in value: -0.7928994082840236. Current best value is -0.7944491406029868 with parameters: {'w_lr': 0.018735636670162738, 'w_sv': 0.609782869522277, 'w_xgb': 0.1257268888344056, 'w_lgbm': 0.10282314833705018, 'w_mlp': 0.6409335052733912}.\n"
     ]
    },
    {
     "name": "stdout",
     "output_type": "stream",
     "text": [
      "[w_lr, w_lda, w_sv, w_xgb, w_lgbm,w_cb ] =  [0.004 0.    0.605 0.064 0.072 0.    0.617]\n",
      "AUC all:  0.7931811777965624\n",
      "\n"
     ]
    },
    {
     "name": "stderr",
     "output_type": "stream",
     "text": [
      "[I 2019-08-24 12:13:44,841] Finished trial#694 resulted in value: -0.7931811777965624. Current best value is -0.7944491406029868 with parameters: {'w_lr': 0.018735636670162738, 'w_sv': 0.609782869522277, 'w_xgb': 0.1257268888344056, 'w_lgbm': 0.10282314833705018, 'w_mlp': 0.6409335052733912}.\n"
     ]
    },
    {
     "name": "stdout",
     "output_type": "stream",
     "text": [
      "[w_lr, w_lda, w_sv, w_xgb, w_lgbm,w_cb ] =  [0.047 0.    0.685 0.171 0.047 0.    0.583]\n",
      "AUC all:  0.7845872076641308\n",
      "\n"
     ]
    },
    {
     "name": "stderr",
     "output_type": "stream",
     "text": [
      "[I 2019-08-24 12:13:45,830] Finished trial#695 resulted in value: -0.7845872076641308. Current best value is -0.7944491406029868 with parameters: {'w_lr': 0.018735636670162738, 'w_sv': 0.609782869522277, 'w_xgb': 0.1257268888344056, 'w_lgbm': 0.10282314833705018, 'w_mlp': 0.6409335052733912}.\n"
     ]
    },
    {
     "name": "stdout",
     "output_type": "stream",
     "text": [
      "[w_lr, w_lda, w_sv, w_xgb, w_lgbm,w_cb ] =  [0.063 0.    0.641 0.152 0.105 0.    0.606]\n",
      "AUC all:  0.7921949845026768\n",
      "\n"
     ]
    },
    {
     "name": "stderr",
     "output_type": "stream",
     "text": [
      "[I 2019-08-24 12:13:46,806] Finished trial#696 resulted in value: -0.7921949845026768. Current best value is -0.7944491406029868 with parameters: {'w_lr': 0.018735636670162738, 'w_sv': 0.609782869522277, 'w_xgb': 0.1257268888344056, 'w_lgbm': 0.10282314833705018, 'w_mlp': 0.6409335052733912}.\n"
     ]
    },
    {
     "name": "stdout",
     "output_type": "stream",
     "text": [
      "[w_lr, w_lda, w_sv, w_xgb, w_lgbm,w_cb ] =  [0.031 0.    0.577 0.453 0.143 0.    0.663]\n",
      "AUC all:  0.7885319808396731\n",
      "\n"
     ]
    },
    {
     "name": "stderr",
     "output_type": "stream",
     "text": [
      "[I 2019-08-24 12:13:47,786] Finished trial#697 resulted in value: -0.7885319808396731. Current best value is -0.7944491406029868 with parameters: {'w_lr': 0.018735636670162738, 'w_sv': 0.609782869522277, 'w_xgb': 0.1257268888344056, 'w_lgbm': 0.10282314833705018, 'w_mlp': 0.6409335052733912}.\n"
     ]
    },
    {
     "name": "stdout",
     "output_type": "stream",
     "text": [
      "[w_lr, w_lda, w_sv, w_xgb, w_lgbm,w_cb ] =  [0.015 0.    0.545 0.103 0.121 0.    0.685]\n",
      "AUC all:  0.7921949845026768\n",
      "\n"
     ]
    },
    {
     "name": "stderr",
     "output_type": "stream",
     "text": [
      "[I 2019-08-24 12:13:48,774] Finished trial#698 resulted in value: -0.7921949845026768. Current best value is -0.7944491406029868 with parameters: {'w_lr': 0.018735636670162738, 'w_sv': 0.609782869522277, 'w_xgb': 0.1257268888344056, 'w_lgbm': 0.10282314833705018, 'w_mlp': 0.6409335052733912}.\n"
     ]
    },
    {
     "name": "stdout",
     "output_type": "stream",
     "text": [
      "[w_lr, w_lda, w_sv, w_xgb, w_lgbm,w_cb ] =  [0.046 0.    0.667 0.128 0.081 0.    0.633]\n",
      "AUC all:  0.7910679064525219\n",
      "\n"
     ]
    },
    {
     "name": "stderr",
     "output_type": "stream",
     "text": [
      "[I 2019-08-24 12:13:49,757] Finished trial#699 resulted in value: -0.7910679064525219. Current best value is -0.7944491406029868 with parameters: {'w_lr': 0.018735636670162738, 'w_sv': 0.609782869522277, 'w_xgb': 0.1257268888344056, 'w_lgbm': 0.10282314833705018, 'w_mlp': 0.6409335052733912}.\n"
     ]
    },
    {
     "name": "stdout",
     "output_type": "stream",
     "text": [
      "[w_lr, w_lda, w_sv, w_xgb, w_lgbm,w_cb ] =  [0.095 0.    0.617 0.079 0.058 0.    0.619]\n",
      "AUC all:  0.7902225979149056\n",
      "\n"
     ]
    },
    {
     "name": "stderr",
     "output_type": "stream",
     "text": [
      "[I 2019-08-24 12:13:50,757] Finished trial#700 resulted in value: -0.7902225979149056. Current best value is -0.7944491406029868 with parameters: {'w_lr': 0.018735636670162738, 'w_sv': 0.609782869522277, 'w_xgb': 0.1257268888344056, 'w_lgbm': 0.10282314833705018, 'w_mlp': 0.6409335052733912}.\n"
     ]
    },
    {
     "name": "stdout",
     "output_type": "stream",
     "text": [
      "[w_lr, w_lda, w_sv, w_xgb, w_lgbm,w_cb ] =  [0.004 0.    0.828 0.111 0.127 0.    0.65 ]\n",
      "AUC all:  0.7924767540152156\n",
      "\n"
     ]
    },
    {
     "name": "stderr",
     "output_type": "stream",
     "text": [
      "[I 2019-08-24 12:13:51,733] Finished trial#701 resulted in value: -0.7924767540152156. Current best value is -0.7944491406029868 with parameters: {'w_lr': 0.018735636670162738, 'w_sv': 0.609782869522277, 'w_xgb': 0.1257268888344056, 'w_lgbm': 0.10282314833705018, 'w_mlp': 0.6409335052733912}.\n"
     ]
    },
    {
     "name": "stdout",
     "output_type": "stream",
     "text": [
      "[w_lr, w_lda, w_sv, w_xgb, w_lgbm,w_cb ] =  [0.265 0.    0.586 0.149 0.159 0.    0.704]\n",
      "AUC all:  0.791913214990138\n",
      "\n"
     ]
    },
    {
     "name": "stderr",
     "output_type": "stream",
     "text": [
      "[I 2019-08-24 12:13:52,716] Finished trial#702 resulted in value: -0.791913214990138. Current best value is -0.7944491406029868 with parameters: {'w_lr': 0.018735636670162738, 'w_sv': 0.609782869522277, 'w_xgb': 0.1257268888344056, 'w_lgbm': 0.10282314833705018, 'w_mlp': 0.6409335052733912}.\n"
     ]
    },
    {
     "name": "stdout",
     "output_type": "stream",
     "text": [
      "[w_lr, w_lda, w_sv, w_xgb, w_lgbm,w_cb ] =  [0.067 0.    0.712 0.216 0.087 0.    0.641]\n",
      "AUC all:  0.7883910960834039\n",
      "\n"
     ]
    },
    {
     "name": "stderr",
     "output_type": "stream",
     "text": [
      "[I 2019-08-24 12:13:53,707] Finished trial#703 resulted in value: -0.7883910960834039. Current best value is -0.7944491406029868 with parameters: {'w_lr': 0.018735636670162738, 'w_sv': 0.609782869522277, 'w_xgb': 0.1257268888344056, 'w_lgbm': 0.10282314833705018, 'w_mlp': 0.6409335052733912}.\n"
     ]
    },
    {
     "name": "stdout",
     "output_type": "stream",
     "text": [
      "[w_lr, w_lda, w_sv, w_xgb, w_lgbm,w_cb ] =  [0.517 0.    0.617 0.045 0.107 0.    0.601]\n",
      "AUC all:  0.7912087912087913\n",
      "\n"
     ]
    },
    {
     "name": "stderr",
     "output_type": "stream",
     "text": [
      "[I 2019-08-24 12:13:54,697] Finished trial#704 resulted in value: -0.7912087912087913. Current best value is -0.7944491406029868 with parameters: {'w_lr': 0.018735636670162738, 'w_sv': 0.609782869522277, 'w_xgb': 0.1257268888344056, 'w_lgbm': 0.10282314833705018, 'w_mlp': 0.6409335052733912}.\n"
     ]
    },
    {
     "name": "stdout",
     "output_type": "stream",
     "text": [
      "[w_lr, w_lda, w_sv, w_xgb, w_lgbm,w_cb ] =  [0.    0.    0.605 0.09  0.075 0.    0.557]\n",
      "AUC all:  0.793040293040293\n",
      "\n"
     ]
    },
    {
     "name": "stderr",
     "output_type": "stream",
     "text": [
      "[I 2019-08-24 12:13:55,688] Finished trial#705 resulted in value: -0.793040293040293. Current best value is -0.7944491406029868 with parameters: {'w_lr': 0.018735636670162738, 'w_sv': 0.609782869522277, 'w_xgb': 0.1257268888344056, 'w_lgbm': 0.10282314833705018, 'w_mlp': 0.6409335052733912}.\n"
     ]
    },
    {
     "name": "stdout",
     "output_type": "stream",
     "text": [
      "[w_lr, w_lda, w_sv, w_xgb, w_lgbm,w_cb ] =  [0.128 0.    0.757 0.115 0.108 0.    0.669]\n",
      "AUC all:  0.7927585235277541\n",
      "\n"
     ]
    },
    {
     "name": "stderr",
     "output_type": "stream",
     "text": [
      "[I 2019-08-24 12:13:56,688] Finished trial#706 resulted in value: -0.7927585235277541. Current best value is -0.7944491406029868 with parameters: {'w_lr': 0.018735636670162738, 'w_sv': 0.609782869522277, 'w_xgb': 0.1257268888344056, 'w_lgbm': 0.10282314833705018, 'w_mlp': 0.6409335052733912}.\n"
     ]
    },
    {
     "name": "stdout",
     "output_type": "stream",
     "text": [
      "[w_lr, w_lda, w_sv, w_xgb, w_lgbm,w_cb ] =  [0.002 0.    0.648 0.126 0.138 0.    0.661]\n",
      "AUC all:  0.7927585235277542\n",
      "\n"
     ]
    },
    {
     "name": "stderr",
     "output_type": "stream",
     "text": [
      "[I 2019-08-24 12:13:57,681] Finished trial#707 resulted in value: -0.7927585235277542. Current best value is -0.7944491406029868 with parameters: {'w_lr': 0.018735636670162738, 'w_sv': 0.609782869522277, 'w_xgb': 0.1257268888344056, 'w_lgbm': 0.10282314833705018, 'w_mlp': 0.6409335052733912}.\n"
     ]
    },
    {
     "name": "stdout",
     "output_type": "stream",
     "text": [
      "[w_lr, w_lda, w_sv, w_xgb, w_lgbm,w_cb ] =  [0.    0.    0.566 0.096 0.019 0.    0.622]\n",
      "AUC all:  0.7830374753451677\n",
      "\n"
     ]
    },
    {
     "name": "stderr",
     "output_type": "stream",
     "text": [
      "[I 2019-08-24 12:13:58,674] Finished trial#708 resulted in value: -0.7830374753451677. Current best value is -0.7944491406029868 with parameters: {'w_lr': 0.018735636670162738, 'w_sv': 0.609782869522277, 'w_xgb': 0.1257268888344056, 'w_lgbm': 0.10282314833705018, 'w_mlp': 0.6409335052733912}.\n"
     ]
    },
    {
     "name": "stdout",
     "output_type": "stream",
     "text": [
      "[w_lr, w_lda, w_sv, w_xgb, w_lgbm,w_cb ] =  [0.081 0.    0.635 0.181 0.095 0.    0.639]\n",
      "AUC all:  0.7909270216962525\n",
      "\n"
     ]
    },
    {
     "name": "stderr",
     "output_type": "stream",
     "text": [
      "[I 2019-08-24 12:13:59,682] Finished trial#709 resulted in value: -0.7909270216962525. Current best value is -0.7944491406029868 with parameters: {'w_lr': 0.018735636670162738, 'w_sv': 0.609782869522277, 'w_xgb': 0.1257268888344056, 'w_lgbm': 0.10282314833705018, 'w_mlp': 0.6409335052733912}.\n"
     ]
    },
    {
     "name": "stdout",
     "output_type": "stream",
     "text": [
      "[w_lr, w_lda, w_sv, w_xgb, w_lgbm,w_cb ] =  [0.109 0.    0.67  0.139 0.06  0.    0.356]\n",
      "AUC all:  0.7883910960834037\n",
      "\n"
     ]
    },
    {
     "name": "stderr",
     "output_type": "stream",
     "text": [
      "[I 2019-08-24 12:14:00,671] Finished trial#710 resulted in value: -0.7883910960834037. Current best value is -0.7944491406029868 with parameters: {'w_lr': 0.018735636670162738, 'w_sv': 0.609782869522277, 'w_xgb': 0.1257268888344056, 'w_lgbm': 0.10282314833705018, 'w_mlp': 0.6409335052733912}.\n"
     ]
    },
    {
     "name": "stdout",
     "output_type": "stream",
     "text": [
      "[w_lr, w_lda, w_sv, w_xgb, w_lgbm,w_cb ] =  [0.034 0.    0.522 0.158 0.12  0.    0.686]\n",
      "AUC all:  0.792617638771485\n",
      "\n"
     ]
    },
    {
     "name": "stderr",
     "output_type": "stream",
     "text": [
      "[I 2019-08-24 12:14:01,666] Finished trial#711 resulted in value: -0.792617638771485. Current best value is -0.7944491406029868 with parameters: {'w_lr': 0.018735636670162738, 'w_sv': 0.609782869522277, 'w_xgb': 0.1257268888344056, 'w_lgbm': 0.10282314833705018, 'w_mlp': 0.6409335052733912}.\n"
     ]
    },
    {
     "name": "stdout",
     "output_type": "stream",
     "text": [
      "[w_lr, w_lda, w_sv, w_xgb, w_lgbm,w_cb ] =  [0.084 0.    0.586 0.124 0.076 0.    0.654]\n",
      "AUC all:  0.7903634826711751\n",
      "\n"
     ]
    },
    {
     "name": "stderr",
     "output_type": "stream",
     "text": [
      "[I 2019-08-24 12:14:02,689] Finished trial#712 resulted in value: -0.7903634826711751. Current best value is -0.7944491406029868 with parameters: {'w_lr': 0.018735636670162738, 'w_sv': 0.609782869522277, 'w_xgb': 0.1257268888344056, 'w_lgbm': 0.10282314833705018, 'w_mlp': 0.6409335052733912}.\n"
     ]
    },
    {
     "name": "stdout",
     "output_type": "stream",
     "text": [
      "[w_lr, w_lda, w_sv, w_xgb, w_lgbm,w_cb ] =  [0.071 0.    0.647 0.146 0.092 0.    0.576]\n",
      "AUC all:  0.7923358692589462\n",
      "\n"
     ]
    },
    {
     "name": "stderr",
     "output_type": "stream",
     "text": [
      "[I 2019-08-24 12:14:03,758] Finished trial#713 resulted in value: -0.7923358692589462. Current best value is -0.7944491406029868 with parameters: {'w_lr': 0.018735636670162738, 'w_sv': 0.609782869522277, 'w_xgb': 0.1257268888344056, 'w_lgbm': 0.10282314833705018, 'w_mlp': 0.6409335052733912}.\n"
     ]
    },
    {
     "name": "stdout",
     "output_type": "stream",
     "text": [
      "[w_lr, w_lda, w_sv, w_xgb, w_lgbm,w_cb ] =  [0.023 0.    0.6   0.076 0.034 0.    0.607]\n",
      "AUC all:  0.78698224852071\n",
      "\n"
     ]
    },
    {
     "name": "stderr",
     "output_type": "stream",
     "text": [
      "[I 2019-08-24 12:14:04,990] Finished trial#714 resulted in value: -0.78698224852071. Current best value is -0.7944491406029868 with parameters: {'w_lr': 0.018735636670162738, 'w_sv': 0.609782869522277, 'w_xgb': 0.1257268888344056, 'w_lgbm': 0.10282314833705018, 'w_mlp': 0.6409335052733912}.\n"
     ]
    },
    {
     "name": "stdout",
     "output_type": "stream",
     "text": [
      "[w_lr, w_lda, w_sv, w_xgb, w_lgbm,w_cb ] =  [0.377 0.    0.689 0.109 0.143 0.    0.525]\n",
      "AUC all:  0.7917723302338686\n",
      "\n"
     ]
    },
    {
     "name": "stderr",
     "output_type": "stream",
     "text": [
      "[I 2019-08-24 12:14:05,996] Finished trial#715 resulted in value: -0.7917723302338686. Current best value is -0.7944491406029868 with parameters: {'w_lr': 0.018735636670162738, 'w_sv': 0.609782869522277, 'w_xgb': 0.1257268888344056, 'w_lgbm': 0.10282314833705018, 'w_mlp': 0.6409335052733912}.\n"
     ]
    },
    {
     "name": "stdout",
     "output_type": "stream",
     "text": [
      "[w_lr, w_lda, w_sv, w_xgb, w_lgbm,w_cb ] =  [0.095 0.    0.569 0.126 0.109 0.    0.68 ]\n",
      "AUC all:  0.7937447168216398\n",
      "\n"
     ]
    },
    {
     "name": "stderr",
     "output_type": "stream",
     "text": [
      "[I 2019-08-24 12:14:07,378] Finished trial#716 resulted in value: -0.7937447168216398. Current best value is -0.7944491406029868 with parameters: {'w_lr': 0.018735636670162738, 'w_sv': 0.609782869522277, 'w_xgb': 0.1257268888344056, 'w_lgbm': 0.10282314833705018, 'w_mlp': 0.6409335052733912}.\n"
     ]
    },
    {
     "name": "stdout",
     "output_type": "stream",
     "text": [
      "[w_lr, w_lda, w_sv, w_xgb, w_lgbm,w_cb ] =  [0.114 0.    0.536 0.057 0.057 0.    0.713]\n",
      "AUC all:  0.7912087912087912\n",
      "\n"
     ]
    },
    {
     "name": "stderr",
     "output_type": "stream",
     "text": [
      "[I 2019-08-24 12:14:08,441] Finished trial#717 resulted in value: -0.7912087912087912. Current best value is -0.7944491406029868 with parameters: {'w_lr': 0.018735636670162738, 'w_sv': 0.609782869522277, 'w_xgb': 0.1257268888344056, 'w_lgbm': 0.10282314833705018, 'w_mlp': 0.6409335052733912}.\n"
     ]
    },
    {
     "name": "stdout",
     "output_type": "stream",
     "text": [
      "[w_lr, w_lda, w_sv, w_xgb, w_lgbm,w_cb ] =  [0.145 0.    0.551 0.163 0.113 0.    0.69 ]\n",
      "AUC all:  0.7927585235277543\n",
      "\n"
     ]
    },
    {
     "name": "stderr",
     "output_type": "stream",
     "text": [
      "[I 2019-08-24 12:14:09,439] Finished trial#718 resulted in value: -0.7927585235277543. Current best value is -0.7944491406029868 with parameters: {'w_lr': 0.018735636670162738, 'w_sv': 0.609782869522277, 'w_xgb': 0.1257268888344056, 'w_lgbm': 0.10282314833705018, 'w_mlp': 0.6409335052733912}.\n"
     ]
    },
    {
     "name": "stdout",
     "output_type": "stream",
     "text": [
      "[w_lr, w_lda, w_sv, w_xgb, w_lgbm,w_cb ] =  [0.124 0.    0.567 0.096 0.083 0.    0.727]\n",
      "AUC all:  0.7907861369399832\n",
      "\n"
     ]
    },
    {
     "name": "stderr",
     "output_type": "stream",
     "text": [
      "[I 2019-08-24 12:14:10,836] Finished trial#719 resulted in value: -0.7907861369399832. Current best value is -0.7944491406029868 with parameters: {'w_lr': 0.018735636670162738, 'w_sv': 0.609782869522277, 'w_xgb': 0.1257268888344056, 'w_lgbm': 0.10282314833705018, 'w_mlp': 0.6409335052733912}.\n"
     ]
    },
    {
     "name": "stdout",
     "output_type": "stream",
     "text": [
      "[w_lr, w_lda, w_sv, w_xgb, w_lgbm,w_cb ] =  [0.097 0.    0.57  0.639 0.113 0.    0.703]\n",
      "AUC all:  0.7828965905888983\n",
      "\n"
     ]
    },
    {
     "name": "stderr",
     "output_type": "stream",
     "text": [
      "[I 2019-08-24 12:14:12,098] Finished trial#720 resulted in value: -0.7828965905888983. Current best value is -0.7944491406029868 with parameters: {'w_lr': 0.018735636670162738, 'w_sv': 0.609782869522277, 'w_xgb': 0.1257268888344056, 'w_lgbm': 0.10282314833705018, 'w_mlp': 0.6409335052733912}.\n"
     ]
    },
    {
     "name": "stdout",
     "output_type": "stream",
     "text": [
      "[w_lr, w_lda, w_sv, w_xgb, w_lgbm,w_cb ] =  [0.084 0.    0.539 0.196 0.113 0.    0.682]\n",
      "AUC all:  0.7909270216962525\n",
      "\n"
     ]
    },
    {
     "name": "stderr",
     "output_type": "stream",
     "text": [
      "[I 2019-08-24 12:14:13,300] Finished trial#721 resulted in value: -0.7909270216962525. Current best value is -0.7944491406029868 with parameters: {'w_lr': 0.018735636670162738, 'w_sv': 0.609782869522277, 'w_xgb': 0.1257268888344056, 'w_lgbm': 0.10282314833705018, 'w_mlp': 0.6409335052733912}.\n"
     ]
    },
    {
     "name": "stdout",
     "output_type": "stream",
     "text": [
      "[w_lr, w_lda, w_sv, w_xgb, w_lgbm,w_cb ] =  [0.047 0.    0.509 0.139 0.17  0.    0.738]\n",
      "AUC all:  0.7921949845026768\n",
      "\n"
     ]
    },
    {
     "name": "stderr",
     "output_type": "stream",
     "text": [
      "[I 2019-08-24 12:14:14,344] Finished trial#722 resulted in value: -0.7921949845026768. Current best value is -0.7944491406029868 with parameters: {'w_lr': 0.018735636670162738, 'w_sv': 0.609782869522277, 'w_xgb': 0.1257268888344056, 'w_lgbm': 0.10282314833705018, 'w_mlp': 0.6409335052733912}.\n"
     ]
    },
    {
     "name": "stdout",
     "output_type": "stream",
     "text": [
      "[w_lr, w_lda, w_sv, w_xgb, w_lgbm,w_cb ] =  [0.031 0.    0.558 0.122 0.134 0.    0.667]\n",
      "AUC all:  0.793040293040293\n",
      "\n"
     ]
    },
    {
     "name": "stderr",
     "output_type": "stream",
     "text": [
      "[I 2019-08-24 12:14:15,770] Finished trial#723 resulted in value: -0.793040293040293. Current best value is -0.7944491406029868 with parameters: {'w_lr': 0.018735636670162738, 'w_sv': 0.609782869522277, 'w_xgb': 0.1257268888344056, 'w_lgbm': 0.10282314833705018, 'w_mlp': 0.6409335052733912}.\n"
     ]
    },
    {
     "name": "stdout",
     "output_type": "stream",
     "text": [
      "[w_lr, w_lda, w_sv, w_xgb, w_lgbm,w_cb ] =  [0.141 0.    0.58  0.103 0.086 0.    0.64 ]\n",
      "AUC all:  0.792617638771485\n",
      "\n"
     ]
    },
    {
     "name": "stderr",
     "output_type": "stream",
     "text": [
      "[I 2019-08-24 12:14:16,786] Finished trial#724 resulted in value: -0.792617638771485. Current best value is -0.7944491406029868 with parameters: {'w_lr': 0.018735636670162738, 'w_sv': 0.609782869522277, 'w_xgb': 0.1257268888344056, 'w_lgbm': 0.10282314833705018, 'w_mlp': 0.6409335052733912}.\n"
     ]
    },
    {
     "name": "stdout",
     "output_type": "stream",
     "text": [
      "[w_lr, w_lda, w_sv, w_xgb, w_lgbm,w_cb ] =  [0.066 0.    0.62  0.171 0.155 0.    0.647]\n",
      "AUC all:  0.7919132149901381\n",
      "\n"
     ]
    },
    {
     "name": "stderr",
     "output_type": "stream",
     "text": [
      "[I 2019-08-24 12:14:17,988] Finished trial#725 resulted in value: -0.7919132149901381. Current best value is -0.7944491406029868 with parameters: {'w_lr': 0.018735636670162738, 'w_sv': 0.609782869522277, 'w_xgb': 0.1257268888344056, 'w_lgbm': 0.10282314833705018, 'w_mlp': 0.6409335052733912}.\n"
     ]
    },
    {
     "name": "stdout",
     "output_type": "stream",
     "text": [
      "[w_lr, w_lda, w_sv, w_xgb, w_lgbm,w_cb ] =  [0.105 0.    0.668 0.08  0.097 0.    0.624]\n",
      "AUC all:  0.7928994082840237\n",
      "\n"
     ]
    },
    {
     "name": "stderr",
     "output_type": "stream",
     "text": [
      "[I 2019-08-24 12:14:19,003] Finished trial#726 resulted in value: -0.7928994082840237. Current best value is -0.7944491406029868 with parameters: {'w_lr': 0.018735636670162738, 'w_sv': 0.609782869522277, 'w_xgb': 0.1257268888344056, 'w_lgbm': 0.10282314833705018, 'w_mlp': 0.6409335052733912}.\n"
     ]
    },
    {
     "name": "stdout",
     "output_type": "stream",
     "text": [
      "[w_lr, w_lda, w_sv, w_xgb, w_lgbm,w_cb ] =  [0.093 0.    0.976 0.144 0.678 0.    0.656]\n",
      "AUC all:  0.774866159481544\n",
      "\n"
     ]
    },
    {
     "name": "stderr",
     "output_type": "stream",
     "text": [
      "[I 2019-08-24 12:14:20,354] Finished trial#727 resulted in value: -0.774866159481544. Current best value is -0.7944491406029868 with parameters: {'w_lr': 0.018735636670162738, 'w_sv': 0.609782869522277, 'w_xgb': 0.1257268888344056, 'w_lgbm': 0.10282314833705018, 'w_mlp': 0.6409335052733912}.\n"
     ]
    },
    {
     "name": "stdout",
     "output_type": "stream",
     "text": [
      "[w_lr, w_lda, w_sv, w_xgb, w_lgbm,w_cb ] =  [0.059 0.    0.522 0.129 0.399 0.    0.682]\n",
      "AUC all:  0.7828965905888983\n",
      "\n"
     ]
    },
    {
     "name": "stderr",
     "output_type": "stream",
     "text": [
      "[I 2019-08-24 12:14:21,658] Finished trial#728 resulted in value: -0.7828965905888983. Current best value is -0.7944491406029868 with parameters: {'w_lr': 0.018735636670162738, 'w_sv': 0.609782869522277, 'w_xgb': 0.1257268888344056, 'w_lgbm': 0.10282314833705018, 'w_mlp': 0.6409335052733912}.\n"
     ]
    },
    {
     "name": "stdout",
     "output_type": "stream",
     "text": [
      "[w_lr, w_lda, w_sv, w_xgb, w_lgbm,w_cb ] =  [0.163 0.    0.598 0.108 0.062 0.    0.591]\n",
      "AUC all:  0.7897999436460975\n",
      "\n"
     ]
    },
    {
     "name": "stderr",
     "output_type": "stream",
     "text": [
      "[I 2019-08-24 12:14:22,757] Finished trial#729 resulted in value: -0.7897999436460975. Current best value is -0.7944491406029868 with parameters: {'w_lr': 0.018735636670162738, 'w_sv': 0.609782869522277, 'w_xgb': 0.1257268888344056, 'w_lgbm': 0.10282314833705018, 'w_mlp': 0.6409335052733912}.\n"
     ]
    },
    {
     "name": "stdout",
     "output_type": "stream",
     "text": [
      "[w_lr, w_lda, w_sv, w_xgb, w_lgbm,w_cb ] =  [0.016 0.    0.579 0.086 0.114 0.    0.651]\n",
      "AUC all:  0.7917723302338686\n",
      "\n"
     ]
    },
    {
     "name": "stderr",
     "output_type": "stream",
     "text": [
      "[I 2019-08-24 12:14:23,778] Finished trial#730 resulted in value: -0.7917723302338686. Current best value is -0.7944491406029868 with parameters: {'w_lr': 0.018735636670162738, 'w_sv': 0.609782869522277, 'w_xgb': 0.1257268888344056, 'w_lgbm': 0.10282314833705018, 'w_mlp': 0.6409335052733912}.\n"
     ]
    },
    {
     "name": "stdout",
     "output_type": "stream",
     "text": [
      "[w_lr, w_lda, w_sv, w_xgb, w_lgbm,w_cb ] =  [0.055 0.    0.556 0.155 0.078 0.    0.706]\n",
      "AUC all:  0.790363482671175\n",
      "\n"
     ]
    },
    {
     "name": "stderr",
     "output_type": "stream",
     "text": [
      "[I 2019-08-24 12:14:25,060] Finished trial#731 resulted in value: -0.790363482671175. Current best value is -0.7944491406029868 with parameters: {'w_lr': 0.018735636670162738, 'w_sv': 0.609782869522277, 'w_xgb': 0.1257268888344056, 'w_lgbm': 0.10282314833705018, 'w_mlp': 0.6409335052733912}.\n"
     ]
    },
    {
     "name": "stdout",
     "output_type": "stream",
     "text": [
      "[w_lr, w_lda, w_sv, w_xgb, w_lgbm,w_cb ] =  [0.105 0.    0.594 0.114 0.047 0.    0.618]\n",
      "AUC all:  0.7875457875457876\n",
      "\n"
     ]
    },
    {
     "name": "stderr",
     "output_type": "stream",
     "text": [
      "[I 2019-08-24 12:14:26,189] Finished trial#732 resulted in value: -0.7875457875457876. Current best value is -0.7944491406029868 with parameters: {'w_lr': 0.018735636670162738, 'w_sv': 0.609782869522277, 'w_xgb': 0.1257268888344056, 'w_lgbm': 0.10282314833705018, 'w_mlp': 0.6409335052733912}.\n"
     ]
    },
    {
     "name": "stdout",
     "output_type": "stream",
     "text": [
      "[w_lr, w_lda, w_sv, w_xgb, w_lgbm,w_cb ] =  [0.125 0.    0.617 0.128 0.093 0.    0.61 ]\n",
      "AUC all:  0.7934629473091012\n",
      "\n"
     ]
    },
    {
     "name": "stderr",
     "output_type": "stream",
     "text": [
      "[I 2019-08-24 12:14:27,398] Finished trial#733 resulted in value: -0.7934629473091012. Current best value is -0.7944491406029868 with parameters: {'w_lr': 0.018735636670162738, 'w_sv': 0.609782869522277, 'w_xgb': 0.1257268888344056, 'w_lgbm': 0.10282314833705018, 'w_mlp': 0.6409335052733912}.\n"
     ]
    },
    {
     "name": "stdout",
     "output_type": "stream",
     "text": [
      "[w_lr, w_lda, w_sv, w_xgb, w_lgbm,w_cb ] =  [0.08  0.    0.576 0.027 0.127 0.    0.674]\n",
      "AUC all:  0.7910679064525219\n",
      "\n"
     ]
    },
    {
     "name": "stderr",
     "output_type": "stream",
     "text": [
      "[I 2019-08-24 12:14:28,476] Finished trial#734 resulted in value: -0.7910679064525219. Current best value is -0.7944491406029868 with parameters: {'w_lr': 0.018735636670162738, 'w_sv': 0.609782869522277, 'w_xgb': 0.1257268888344056, 'w_lgbm': 0.10282314833705018, 'w_mlp': 0.6409335052733912}.\n"
     ]
    },
    {
     "name": "stdout",
     "output_type": "stream",
     "text": [
      "[w_lr, w_lda, w_sv, w_xgb, w_lgbm,w_cb ] =  [0.095 0.    0.6   0.062 0.067 0.    0.636]\n",
      "AUC all:  0.7919132149901381\n",
      "\n"
     ]
    },
    {
     "name": "stderr",
     "output_type": "stream",
     "text": [
      "[I 2019-08-24 12:14:29,506] Finished trial#735 resulted in value: -0.7919132149901381. Current best value is -0.7944491406029868 with parameters: {'w_lr': 0.018735636670162738, 'w_sv': 0.609782869522277, 'w_xgb': 0.1257268888344056, 'w_lgbm': 0.10282314833705018, 'w_mlp': 0.6409335052733912}.\n"
     ]
    },
    {
     "name": "stdout",
     "output_type": "stream",
     "text": [
      "[w_lr, w_lda, w_sv, w_xgb, w_lgbm,w_cb ] =  [0.083 0.    0.616 0.342 0.097 0.    0.579]\n",
      "AUC all:  0.7876866723020569\n",
      "\n"
     ]
    },
    {
     "name": "stderr",
     "output_type": "stream",
     "text": [
      "[I 2019-08-24 12:14:30,571] Finished trial#736 resulted in value: -0.7876866723020569. Current best value is -0.7944491406029868 with parameters: {'w_lr': 0.018735636670162738, 'w_sv': 0.609782869522277, 'w_xgb': 0.1257268888344056, 'w_lgbm': 0.10282314833705018, 'w_mlp': 0.6409335052733912}.\n"
     ]
    },
    {
     "name": "stdout",
     "output_type": "stream",
     "text": [
      "[w_lr, w_lda, w_sv, w_xgb, w_lgbm,w_cb ] =  [0.048 0.    0.293 0.145 0.116 0.    0.674]\n",
      "AUC all:  0.7924767540152156\n",
      "\n"
     ]
    },
    {
     "name": "stderr",
     "output_type": "stream",
     "text": [
      "[I 2019-08-24 12:14:31,789] Finished trial#737 resulted in value: -0.7924767540152156. Current best value is -0.7944491406029868 with parameters: {'w_lr': 0.018735636670162738, 'w_sv': 0.609782869522277, 'w_xgb': 0.1257268888344056, 'w_lgbm': 0.10282314833705018, 'w_mlp': 0.6409335052733912}.\n"
     ]
    },
    {
     "name": "stdout",
     "output_type": "stream",
     "text": [
      "[w_lr, w_lda, w_sv, w_xgb, w_lgbm,w_cb ] =  [0.001 0.    0.56  0.    0.075 0.    0.542]\n",
      "AUC all:  0.7907861369399831\n",
      "\n"
     ]
    },
    {
     "name": "stderr",
     "output_type": "stream",
     "text": [
      "[I 2019-08-24 12:14:33,013] Finished trial#738 resulted in value: -0.7907861369399831. Current best value is -0.7944491406029868 with parameters: {'w_lr': 0.018735636670162738, 'w_sv': 0.609782869522277, 'w_xgb': 0.1257268888344056, 'w_lgbm': 0.10282314833705018, 'w_mlp': 0.6409335052733912}.\n"
     ]
    },
    {
     "name": "stdout",
     "output_type": "stream",
     "text": [
      "[w_lr, w_lda, w_sv, w_xgb, w_lgbm,w_cb ] =  [0.028 0.    0.629 0.263 0.046 0.    0.632]\n",
      "AUC all:  0.7816286277824739\n",
      "\n"
     ]
    },
    {
     "name": "stderr",
     "output_type": "stream",
     "text": [
      "[I 2019-08-24 12:14:34,232] Finished trial#739 resulted in value: -0.7816286277824739. Current best value is -0.7944491406029868 with parameters: {'w_lr': 0.018735636670162738, 'w_sv': 0.609782869522277, 'w_xgb': 0.1257268888344056, 'w_lgbm': 0.10282314833705018, 'w_mlp': 0.6409335052733912}.\n"
     ]
    },
    {
     "name": "stdout",
     "output_type": "stream",
     "text": [
      "[w_lr, w_lda, w_sv, w_xgb, w_lgbm,w_cb ] =  [0.636 0.    0.63  0.111 0.098 0.    0.599]\n",
      "AUC all:  0.7924767540152157\n",
      "\n"
     ]
    },
    {
     "name": "stderr",
     "output_type": "stream",
     "text": [
      "[I 2019-08-24 12:14:35,353] Finished trial#740 resulted in value: -0.7924767540152157. Current best value is -0.7944491406029868 with parameters: {'w_lr': 0.018735636670162738, 'w_sv': 0.609782869522277, 'w_xgb': 0.1257268888344056, 'w_lgbm': 0.10282314833705018, 'w_mlp': 0.6409335052733912}.\n"
     ]
    },
    {
     "name": "stdout",
     "output_type": "stream",
     "text": [
      "[w_lr, w_lda, w_sv, w_xgb, w_lgbm,w_cb ] =  [0.105 0.    0.588 0.087 0.085 0.    0.394]\n",
      "AUC all:  0.793040293040293\n",
      "\n"
     ]
    },
    {
     "name": "stderr",
     "output_type": "stream",
     "text": [
      "[I 2019-08-24 12:14:36,491] Finished trial#741 resulted in value: -0.793040293040293. Current best value is -0.7944491406029868 with parameters: {'w_lr': 0.018735636670162738, 'w_sv': 0.609782869522277, 'w_xgb': 0.1257268888344056, 'w_lgbm': 0.10282314833705018, 'w_mlp': 0.6409335052733912}.\n"
     ]
    },
    {
     "name": "stdout",
     "output_type": "stream",
     "text": [
      "[w_lr, w_lda, w_sv, w_xgb, w_lgbm,w_cb ] =  [0.077 0.    0.889 0.172 0.002 0.    0.658]\n",
      "AUC all:  0.7751479289940828\n",
      "\n"
     ]
    },
    {
     "name": "stderr",
     "output_type": "stream",
     "text": [
      "[I 2019-08-24 12:14:37,865] Finished trial#742 resulted in value: -0.7751479289940828. Current best value is -0.7944491406029868 with parameters: {'w_lr': 0.018735636670162738, 'w_sv': 0.609782869522277, 'w_xgb': 0.1257268888344056, 'w_lgbm': 0.10282314833705018, 'w_mlp': 0.6409335052733912}.\n"
     ]
    },
    {
     "name": "stdout",
     "output_type": "stream",
     "text": [
      "[w_lr, w_lda, w_sv, w_xgb, w_lgbm,w_cb ] =  [0.019 0.    0.718 0.132 0.143 0.    0.68 ]\n",
      "AUC all:  0.7924767540152156\n",
      "\n"
     ]
    },
    {
     "name": "stderr",
     "output_type": "stream",
     "text": [
      "[I 2019-08-24 12:14:39,205] Finished trial#743 resulted in value: -0.7924767540152156. Current best value is -0.7944491406029868 with parameters: {'w_lr': 0.018735636670162738, 'w_sv': 0.609782869522277, 'w_xgb': 0.1257268888344056, 'w_lgbm': 0.10282314833705018, 'w_mlp': 0.6409335052733912}.\n"
     ]
    },
    {
     "name": "stdout",
     "output_type": "stream",
     "text": [
      "[w_lr, w_lda, w_sv, w_xgb, w_lgbm,w_cb ] =  [0.902 0.    0.693 0.156 0.101 0.    0.703]\n",
      "AUC all:  0.7903634826711751\n",
      "\n"
     ]
    },
    {
     "name": "stderr",
     "output_type": "stream",
     "text": [
      "[I 2019-08-24 12:14:40,342] Finished trial#744 resulted in value: -0.7903634826711751. Current best value is -0.7944491406029868 with parameters: {'w_lr': 0.018735636670162738, 'w_sv': 0.609782869522277, 'w_xgb': 0.1257268888344056, 'w_lgbm': 0.10282314833705018, 'w_mlp': 0.6409335052733912}.\n"
     ]
    },
    {
     "name": "stdout",
     "output_type": "stream",
     "text": [
      "[w_lr, w_lda, w_sv, w_xgb, w_lgbm,w_cb ] =  [0.133 0.    0.638 0.102 0.074 0.    0.62 ]\n",
      "AUC all:  0.7913496759650606\n",
      "\n"
     ]
    },
    {
     "name": "stderr",
     "output_type": "stream",
     "text": [
      "[I 2019-08-24 12:14:41,660] Finished trial#745 resulted in value: -0.7913496759650606. Current best value is -0.7944491406029868 with parameters: {'w_lr': 0.018735636670162738, 'w_sv': 0.609782869522277, 'w_xgb': 0.1257268888344056, 'w_lgbm': 0.10282314833705018, 'w_mlp': 0.6409335052733912}.\n"
     ]
    },
    {
     "name": "stdout",
     "output_type": "stream",
     "text": [
      "[w_lr, w_lda, w_sv, w_xgb, w_lgbm,w_cb ] =  [0.067 0.    0.652 0.125 0.106 0.    0.643]\n",
      "AUC all:  0.7940264863341786\n",
      "\n"
     ]
    },
    {
     "name": "stderr",
     "output_type": "stream",
     "text": [
      "[I 2019-08-24 12:14:42,930] Finished trial#746 resulted in value: -0.7940264863341786. Current best value is -0.7944491406029868 with parameters: {'w_lr': 0.018735636670162738, 'w_sv': 0.609782869522277, 'w_xgb': 0.1257268888344056, 'w_lgbm': 0.10282314833705018, 'w_mlp': 0.6409335052733912}.\n"
     ]
    },
    {
     "name": "stdout",
     "output_type": "stream",
     "text": [
      "[w_lr, w_lda, w_sv, w_xgb, w_lgbm,w_cb ] =  [0.998 0.    0.676 0.187 0.026 0.    0.638]\n",
      "AUC all:  0.7810650887573964\n",
      "\n"
     ]
    },
    {
     "name": "stderr",
     "output_type": "stream",
     "text": [
      "[I 2019-08-24 12:14:44,238] Finished trial#747 resulted in value: -0.7810650887573964. Current best value is -0.7944491406029868 with parameters: {'w_lr': 0.018735636670162738, 'w_sv': 0.609782869522277, 'w_xgb': 0.1257268888344056, 'w_lgbm': 0.10282314833705018, 'w_mlp': 0.6409335052733912}.\n"
     ]
    },
    {
     "name": "stdout",
     "output_type": "stream",
     "text": [
      "[w_lr, w_lda, w_sv, w_xgb, w_lgbm,w_cb ] =  [0.068 0.    0.652 0.151 0.13  0.    0.656]\n",
      "AUC all:  0.7923358692589462\n",
      "\n"
     ]
    },
    {
     "name": "stderr",
     "output_type": "stream",
     "text": [
      "[I 2019-08-24 12:14:45,375] Finished trial#748 resulted in value: -0.7923358692589462. Current best value is -0.7944491406029868 with parameters: {'w_lr': 0.018735636670162738, 'w_sv': 0.609782869522277, 'w_xgb': 0.1257268888344056, 'w_lgbm': 0.10282314833705018, 'w_mlp': 0.6409335052733912}.\n"
     ]
    },
    {
     "name": "stdout",
     "output_type": "stream",
     "text": [
      "[w_lr, w_lda, w_sv, w_xgb, w_lgbm,w_cb ] =  [0.045 0.    0.556 0.067 0.901 0.    0.701]\n",
      "AUC all:  0.7702169625246549\n",
      "\n"
     ]
    },
    {
     "name": "stderr",
     "output_type": "stream",
     "text": [
      "[I 2019-08-24 12:14:46,523] Finished trial#749 resulted in value: -0.7702169625246549. Current best value is -0.7944491406029868 with parameters: {'w_lr': 0.018735636670162738, 'w_sv': 0.609782869522277, 'w_xgb': 0.1257268888344056, 'w_lgbm': 0.10282314833705018, 'w_mlp': 0.6409335052733912}.\n"
     ]
    },
    {
     "name": "stdout",
     "output_type": "stream",
     "text": [
      "[w_lr, w_lda, w_sv, w_xgb, w_lgbm,w_cb ] =  [0.111 0.    0.662 0.12  0.061 0.    0.567]\n",
      "AUC all:  0.7900817131586363\n",
      "\n"
     ]
    },
    {
     "name": "stderr",
     "output_type": "stream",
     "text": [
      "[I 2019-08-24 12:14:47,772] Finished trial#750 resulted in value: -0.7900817131586363. Current best value is -0.7944491406029868 with parameters: {'w_lr': 0.018735636670162738, 'w_sv': 0.609782869522277, 'w_xgb': 0.1257268888344056, 'w_lgbm': 0.10282314833705018, 'w_mlp': 0.6409335052733912}.\n"
     ]
    },
    {
     "name": "stdout",
     "output_type": "stream",
     "text": [
      "[w_lr, w_lda, w_sv, w_xgb, w_lgbm,w_cb ] =  [0.019 0.    0.639 0.095 0.109 0.    0.597]\n",
      "AUC all:  0.7927585235277543\n",
      "\n"
     ]
    },
    {
     "name": "stderr",
     "output_type": "stream",
     "text": [
      "[I 2019-08-24 12:14:48,922] Finished trial#751 resulted in value: -0.7927585235277543. Current best value is -0.7944491406029868 with parameters: {'w_lr': 0.018735636670162738, 'w_sv': 0.609782869522277, 'w_xgb': 0.1257268888344056, 'w_lgbm': 0.10282314833705018, 'w_mlp': 0.6409335052733912}.\n"
     ]
    },
    {
     "name": "stdout",
     "output_type": "stream",
     "text": [
      "[w_lr, w_lda, w_sv, w_xgb, w_lgbm,w_cb ] =  [0.063 0.    0.702 0.139 0.086 0.    0.478]\n",
      "AUC all:  0.7913496759650606\n",
      "\n"
     ]
    },
    {
     "name": "stderr",
     "output_type": "stream",
     "text": [
      "[I 2019-08-24 12:14:50,226] Finished trial#752 resulted in value: -0.7913496759650606. Current best value is -0.7944491406029868 with parameters: {'w_lr': 0.018735636670162738, 'w_sv': 0.609782869522277, 'w_xgb': 0.1257268888344056, 'w_lgbm': 0.10282314833705018, 'w_mlp': 0.6409335052733912}.\n"
     ]
    },
    {
     "name": "stdout",
     "output_type": "stream",
     "text": [
      "[w_lr, w_lda, w_sv, w_xgb, w_lgbm,w_cb ] =  [0.043 0.    0.604 0.122 0.038 0.    0.62 ]\n",
      "AUC all:  0.7857142857142858\n",
      "\n"
     ]
    },
    {
     "name": "stderr",
     "output_type": "stream",
     "text": [
      "[I 2019-08-24 12:14:51,534] Finished trial#753 resulted in value: -0.7857142857142858. Current best value is -0.7944491406029868 with parameters: {'w_lr': 0.018735636670162738, 'w_sv': 0.609782869522277, 'w_xgb': 0.1257268888344056, 'w_lgbm': 0.10282314833705018, 'w_mlp': 0.6409335052733912}.\n"
     ]
    },
    {
     "name": "stdout",
     "output_type": "stream",
     "text": [
      "[w_lr, w_lda, w_sv, w_xgb, w_lgbm,w_cb ] =  [0.057 0.    0.577 0.175 0.123 0.    0.674]\n",
      "AUC all:  0.7921949845026768\n",
      "\n"
     ]
    },
    {
     "name": "stderr",
     "output_type": "stream",
     "text": [
      "[I 2019-08-24 12:14:52,815] Finished trial#754 resulted in value: -0.7921949845026768. Current best value is -0.7944491406029868 with parameters: {'w_lr': 0.018735636670162738, 'w_sv': 0.609782869522277, 'w_xgb': 0.1257268888344056, 'w_lgbm': 0.10282314833705018, 'w_mlp': 0.6409335052733912}.\n"
     ]
    },
    {
     "name": "stdout",
     "output_type": "stream",
     "text": [
      "[w_lr, w_lda, w_sv, w_xgb, w_lgbm,w_cb ] =  [0.001 0.    0.537 0.101 0.093 0.    0.637]\n",
      "AUC all:  0.7933220625528319\n",
      "\n"
     ]
    },
    {
     "name": "stderr",
     "output_type": "stream",
     "text": [
      "[I 2019-08-24 12:14:54,082] Finished trial#755 resulted in value: -0.7933220625528319. Current best value is -0.7944491406029868 with parameters: {'w_lr': 0.018735636670162738, 'w_sv': 0.609782869522277, 'w_xgb': 0.1257268888344056, 'w_lgbm': 0.10282314833705018, 'w_mlp': 0.6409335052733912}.\n"
     ]
    },
    {
     "name": "stdout",
     "output_type": "stream",
     "text": [
      "[w_lr, w_lda, w_sv, w_xgb, w_lgbm,w_cb ] =  [0.093 0.    0.66  0.045 0.07  0.    0.654]\n",
      "AUC all:  0.7913496759650606\n",
      "\n"
     ]
    },
    {
     "name": "stderr",
     "output_type": "stream",
     "text": [
      "[I 2019-08-24 12:14:55,280] Finished trial#756 resulted in value: -0.7913496759650606. Current best value is -0.7944491406029868 with parameters: {'w_lr': 0.018735636670162738, 'w_sv': 0.609782869522277, 'w_xgb': 0.1257268888344056, 'w_lgbm': 0.10282314833705018, 'w_mlp': 0.6409335052733912}.\n"
     ]
    },
    {
     "name": "stdout",
     "output_type": "stream",
     "text": [
      "[w_lr, w_lda, w_sv, w_xgb, w_lgbm,w_cb ] =  [0.124 0.    0.741 0.078 0.108 0.    0.665]\n",
      "AUC all:  0.7920540997464075\n",
      "\n"
     ]
    },
    {
     "name": "stderr",
     "output_type": "stream",
     "text": [
      "[I 2019-08-24 12:14:56,379] Finished trial#757 resulted in value: -0.7920540997464075. Current best value is -0.7944491406029868 with parameters: {'w_lr': 0.018735636670162738, 'w_sv': 0.609782869522277, 'w_xgb': 0.1257268888344056, 'w_lgbm': 0.10282314833705018, 'w_mlp': 0.6409335052733912}.\n"
     ]
    },
    {
     "name": "stdout",
     "output_type": "stream",
     "text": [
      "[w_lr, w_lda, w_sv, w_xgb, w_lgbm,w_cb ] =  [0.04  0.    0.848 0.112 0.146 0.    0.727]\n",
      "AUC all:  0.7921949845026768\n",
      "\n"
     ]
    },
    {
     "name": "stderr",
     "output_type": "stream",
     "text": [
      "[I 2019-08-24 12:14:57,496] Finished trial#758 resulted in value: -0.7921949845026768. Current best value is -0.7944491406029868 with parameters: {'w_lr': 0.018735636670162738, 'w_sv': 0.609782869522277, 'w_xgb': 0.1257268888344056, 'w_lgbm': 0.10282314833705018, 'w_mlp': 0.6409335052733912}.\n"
     ]
    },
    {
     "name": "stdout",
     "output_type": "stream",
     "text": [
      "[w_lr, w_lda, w_sv, w_xgb, w_lgbm,w_cb ] =  [0.152 0.    0.609 0.089 0.083 0.    0.69 ]\n",
      "AUC all:  0.79149056072133\n",
      "\n"
     ]
    },
    {
     "name": "stderr",
     "output_type": "stream",
     "text": [
      "[I 2019-08-24 12:14:58,736] Finished trial#759 resulted in value: -0.79149056072133. Current best value is -0.7944491406029868 with parameters: {'w_lr': 0.018735636670162738, 'w_sv': 0.609782869522277, 'w_xgb': 0.1257268888344056, 'w_lgbm': 0.10282314833705018, 'w_mlp': 0.6409335052733912}.\n"
     ]
    },
    {
     "name": "stdout",
     "output_type": "stream",
     "text": [
      "[w_lr, w_lda, w_sv, w_xgb, w_lgbm,w_cb ] =  [0.088 0.    0.584 0.117 0.113 0.    0.605]\n",
      "AUC all:  0.7931811777965624\n",
      "\n"
     ]
    },
    {
     "name": "stderr",
     "output_type": "stream",
     "text": [
      "[I 2019-08-24 12:14:59,798] Finished trial#760 resulted in value: -0.7931811777965624. Current best value is -0.7944491406029868 with parameters: {'w_lr': 0.018735636670162738, 'w_sv': 0.609782869522277, 'w_xgb': 0.1257268888344056, 'w_lgbm': 0.10282314833705018, 'w_mlp': 0.6409335052733912}.\n"
     ]
    },
    {
     "name": "stdout",
     "output_type": "stream",
     "text": [
      "[w_lr, w_lda, w_sv, w_xgb, w_lgbm,w_cb ] =  [0.075 0.    0.681 0.143 0.059 0.    0.652]\n",
      "AUC all:  0.7871231332769794\n",
      "\n"
     ]
    },
    {
     "name": "stderr",
     "output_type": "stream",
     "text": [
      "[I 2019-08-24 12:15:00,868] Finished trial#761 resulted in value: -0.7871231332769794. Current best value is -0.7944491406029868 with parameters: {'w_lr': 0.018735636670162738, 'w_sv': 0.609782869522277, 'w_xgb': 0.1257268888344056, 'w_lgbm': 0.10282314833705018, 'w_mlp': 0.6409335052733912}.\n"
     ]
    },
    {
     "name": "stdout",
     "output_type": "stream",
     "text": [
      "[w_lr, w_lda, w_sv, w_xgb, w_lgbm,w_cb ] =  [0.071 0.    0.567 0.137 0.126 0.    0.692]\n",
      "AUC all:  0.7933220625528318\n",
      "\n"
     ]
    },
    {
     "name": "stderr",
     "output_type": "stream",
     "text": [
      "[I 2019-08-24 12:15:02,322] Finished trial#762 resulted in value: -0.7933220625528318. Current best value is -0.7944491406029868 with parameters: {'w_lr': 0.018735636670162738, 'w_sv': 0.609782869522277, 'w_xgb': 0.1257268888344056, 'w_lgbm': 0.10282314833705018, 'w_mlp': 0.6409335052733912}.\n"
     ]
    },
    {
     "name": "stdout",
     "output_type": "stream",
     "text": [
      "[w_lr, w_lda, w_sv, w_xgb, w_lgbm,w_cb ] =  [0.039 0.    0.654 0.165 0.162 0.    0.629]\n",
      "AUC all:  0.7916314454775993\n",
      "\n"
     ]
    },
    {
     "name": "stderr",
     "output_type": "stream",
     "text": [
      "[I 2019-08-24 12:15:03,855] Finished trial#763 resulted in value: -0.7916314454775993. Current best value is -0.7944491406029868 with parameters: {'w_lr': 0.018735636670162738, 'w_sv': 0.609782869522277, 'w_xgb': 0.1257268888344056, 'w_lgbm': 0.10282314833705018, 'w_mlp': 0.6409335052733912}.\n"
     ]
    },
    {
     "name": "stdout",
     "output_type": "stream",
     "text": [
      "[w_lr, w_lda, w_sv, w_xgb, w_lgbm,w_cb ] =  [0.018 0.    0.599 0.069 0.096 0.    0.584]\n",
      "AUC all:  0.792617638771485\n",
      "\n"
     ]
    },
    {
     "name": "stderr",
     "output_type": "stream",
     "text": [
      "[I 2019-08-24 12:15:05,046] Finished trial#764 resulted in value: -0.792617638771485. Current best value is -0.7944491406029868 with parameters: {'w_lr': 0.018735636670162738, 'w_sv': 0.609782869522277, 'w_xgb': 0.1257268888344056, 'w_lgbm': 0.10282314833705018, 'w_mlp': 0.6409335052733912}.\n"
     ]
    },
    {
     "name": "stdout",
     "output_type": "stream",
     "text": [
      "[w_lr, w_lda, w_sv, w_xgb, w_lgbm,w_cb ] =  [0.097 0.    0.676 0.103 0.074 0.    0.617]\n",
      "AUC all:  0.7913496759650606\n",
      "\n"
     ]
    },
    {
     "name": "stderr",
     "output_type": "stream",
     "text": [
      "[I 2019-08-24 12:15:06,283] Finished trial#765 resulted in value: -0.7913496759650606. Current best value is -0.7944491406029868 with parameters: {'w_lr': 0.018735636670162738, 'w_sv': 0.609782869522277, 'w_xgb': 0.1257268888344056, 'w_lgbm': 0.10282314833705018, 'w_mlp': 0.6409335052733912}.\n"
     ]
    },
    {
     "name": "stdout",
     "output_type": "stream",
     "text": [
      "[w_lr, w_lda, w_sv, w_xgb, w_lgbm,w_cb ] =  [0.102 0.    0.632 0.119 0.053 0.    0.638]\n",
      "AUC all:  0.7878275570583263\n",
      "\n"
     ]
    },
    {
     "name": "stderr",
     "output_type": "stream",
     "text": [
      "[I 2019-08-24 12:15:07,472] Finished trial#766 resulted in value: -0.7878275570583263. Current best value is -0.7944491406029868 with parameters: {'w_lr': 0.018735636670162738, 'w_sv': 0.609782869522277, 'w_xgb': 0.1257268888344056, 'w_lgbm': 0.10282314833705018, 'w_mlp': 0.6409335052733912}.\n"
     ]
    },
    {
     "name": "stdout",
     "output_type": "stream",
     "text": [
      "[w_lr, w_lda, w_sv, w_xgb, w_lgbm,w_cb ] =  [0.206 0.    0.919 0.155 0.1   0.    0.661]\n",
      "AUC all:  0.7919132149901381\n",
      "\n"
     ]
    },
    {
     "name": "stderr",
     "output_type": "stream",
     "text": [
      "[I 2019-08-24 12:15:08,532] Finished trial#767 resulted in value: -0.7919132149901381. Current best value is -0.7944491406029868 with parameters: {'w_lr': 0.018735636670162738, 'w_sv': 0.609782869522277, 'w_xgb': 0.1257268888344056, 'w_lgbm': 0.10282314833705018, 'w_mlp': 0.6409335052733912}.\n"
     ]
    },
    {
     "name": "stdout",
     "output_type": "stream",
     "text": [
      "[w_lr, w_lda, w_sv, w_xgb, w_lgbm,w_cb ] =  [0.06  0.    0.621 0.133 0.125 0.    0.608]\n",
      "AUC all:  0.7933220625528318\n",
      "\n"
     ]
    },
    {
     "name": "stderr",
     "output_type": "stream",
     "text": [
      "[I 2019-08-24 12:15:09,720] Finished trial#768 resulted in value: -0.7933220625528318. Current best value is -0.7944491406029868 with parameters: {'w_lr': 0.018735636670162738, 'w_sv': 0.609782869522277, 'w_xgb': 0.1257268888344056, 'w_lgbm': 0.10282314833705018, 'w_mlp': 0.6409335052733912}.\n"
     ]
    },
    {
     "name": "stdout",
     "output_type": "stream",
     "text": [
      "[w_lr, w_lda, w_sv, w_xgb, w_lgbm,w_cb ] =  [0.759 0.    0.64  0.182 0.143 0.    0.679]\n",
      "AUC all:  0.7910679064525218\n",
      "\n"
     ]
    },
    {
     "name": "stderr",
     "output_type": "stream",
     "text": [
      "[I 2019-08-24 12:15:11,131] Finished trial#769 resulted in value: -0.7910679064525218. Current best value is -0.7944491406029868 with parameters: {'w_lr': 0.018735636670162738, 'w_sv': 0.609782869522277, 'w_xgb': 0.1257268888344056, 'w_lgbm': 0.10282314833705018, 'w_mlp': 0.6409335052733912}.\n"
     ]
    },
    {
     "name": "stdout",
     "output_type": "stream",
     "text": [
      "[w_lr, w_lda, w_sv, w_xgb, w_lgbm,w_cb ] =  [0.001 0.    0.687 0.205 0.083 0.    0.72 ]\n",
      "AUC all:  0.7883910960834037\n",
      "\n"
     ]
    },
    {
     "name": "stderr",
     "output_type": "stream",
     "text": [
      "[I 2019-08-24 12:15:12,439] Finished trial#770 resulted in value: -0.7883910960834037. Current best value is -0.7944491406029868 with parameters: {'w_lr': 0.018735636670162738, 'w_sv': 0.609782869522277, 'w_xgb': 0.1257268888344056, 'w_lgbm': 0.10282314833705018, 'w_mlp': 0.6409335052733912}.\n"
     ]
    },
    {
     "name": "stdout",
     "output_type": "stream",
     "text": [
      "[w_lr, w_lda, w_sv, w_xgb, w_lgbm,w_cb ] =  [0.121 0.    0.621 0.09  0.102 0.    0.641]\n",
      "AUC all:  0.7927585235277543\n",
      "\n"
     ]
    },
    {
     "name": "stderr",
     "output_type": "stream",
     "text": [
      "[I 2019-08-24 12:15:13,519] Finished trial#771 resulted in value: -0.7927585235277543. Current best value is -0.7944491406029868 with parameters: {'w_lr': 0.018735636670162738, 'w_sv': 0.609782869522277, 'w_xgb': 0.1257268888344056, 'w_lgbm': 0.10282314833705018, 'w_mlp': 0.6409335052733912}.\n"
     ]
    },
    {
     "name": "stdout",
     "output_type": "stream",
     "text": [
      "[w_lr, w_lda, w_sv, w_xgb, w_lgbm,w_cb ] =  [0.029 0.    0.538 0.156 0.171 0.    0.676]\n",
      "AUC all:  0.7923358692589462\n",
      "\n"
     ]
    },
    {
     "name": "stderr",
     "output_type": "stream",
     "text": [
      "[I 2019-08-24 12:15:14,920] Finished trial#772 resulted in value: -0.7923358692589462. Current best value is -0.7944491406029868 with parameters: {'w_lr': 0.018735636670162738, 'w_sv': 0.609782869522277, 'w_xgb': 0.1257268888344056, 'w_lgbm': 0.10282314833705018, 'w_mlp': 0.6409335052733912}.\n"
     ]
    },
    {
     "name": "stdout",
     "output_type": "stream",
     "text": [
      "[w_lr, w_lda, w_sv, w_xgb, w_lgbm,w_cb ] =  [0.019 0.    0.652 0.125 0.117 0.    0.592]\n",
      "AUC all:  0.7931811777965624\n",
      "\n"
     ]
    },
    {
     "name": "stderr",
     "output_type": "stream",
     "text": [
      "[I 2019-08-24 12:15:16,283] Finished trial#773 resulted in value: -0.7931811777965624. Current best value is -0.7944491406029868 with parameters: {'w_lr': 0.018735636670162738, 'w_sv': 0.609782869522277, 'w_xgb': 0.1257268888344056, 'w_lgbm': 0.10282314833705018, 'w_mlp': 0.6409335052733912}.\n"
     ]
    },
    {
     "name": "stdout",
     "output_type": "stream",
     "text": [
      "[w_lr, w_lda, w_sv, w_xgb, w_lgbm,w_cb ] =  [0.08  0.    0.592 0.077 0.068 0.    0.553]\n",
      "AUC all:  0.79149056072133\n",
      "\n"
     ]
    },
    {
     "name": "stderr",
     "output_type": "stream",
     "text": [
      "[I 2019-08-24 12:15:17,363] Finished trial#774 resulted in value: -0.79149056072133. Current best value is -0.7944491406029868 with parameters: {'w_lr': 0.018735636670162738, 'w_sv': 0.609782869522277, 'w_xgb': 0.1257268888344056, 'w_lgbm': 0.10282314833705018, 'w_mlp': 0.6409335052733912}.\n"
     ]
    },
    {
     "name": "stdout",
     "output_type": "stream",
     "text": [
      "[w_lr, w_lda, w_sv, w_xgb, w_lgbm,w_cb ] =  [0.059 0.    0.571 0.139 0.112 0.    0.69 ]\n",
      "AUC all:  0.7937447168216398\n",
      "\n"
     ]
    },
    {
     "name": "stderr",
     "output_type": "stream",
     "text": [
      "[I 2019-08-24 12:15:18,426] Finished trial#775 resulted in value: -0.7937447168216398. Current best value is -0.7944491406029868 with parameters: {'w_lr': 0.018735636670162738, 'w_sv': 0.609782869522277, 'w_xgb': 0.1257268888344056, 'w_lgbm': 0.10282314833705018, 'w_mlp': 0.6409335052733912}.\n"
     ]
    },
    {
     "name": "stdout",
     "output_type": "stream",
     "text": [
      "[w_lr, w_lda, w_sv, w_xgb, w_lgbm,w_cb ] =  [0.068 0.    0.562 0.166 0.103 0.    0.7  ]\n",
      "AUC all:  0.7917723302338687\n",
      "\n"
     ]
    },
    {
     "name": "stderr",
     "output_type": "stream",
     "text": [
      "[I 2019-08-24 12:15:19,509] Finished trial#776 resulted in value: -0.7917723302338687. Current best value is -0.7944491406029868 with parameters: {'w_lr': 0.018735636670162738, 'w_sv': 0.609782869522277, 'w_xgb': 0.1257268888344056, 'w_lgbm': 0.10282314833705018, 'w_mlp': 0.6409335052733912}.\n"
     ]
    },
    {
     "name": "stdout",
     "output_type": "stream",
     "text": [
      "[w_lr, w_lda, w_sv, w_xgb, w_lgbm,w_cb ] =  [0.05  0.    0.53  0.188 0.144 0.    0.71 ]\n",
      "AUC all:  0.7916314454775993\n",
      "\n"
     ]
    },
    {
     "name": "stderr",
     "output_type": "stream",
     "text": [
      "[I 2019-08-24 12:15:20,597] Finished trial#777 resulted in value: -0.7916314454775993. Current best value is -0.7944491406029868 with parameters: {'w_lr': 0.018735636670162738, 'w_sv': 0.609782869522277, 'w_xgb': 0.1257268888344056, 'w_lgbm': 0.10282314833705018, 'w_mlp': 0.6409335052733912}.\n"
     ]
    },
    {
     "name": "stdout",
     "output_type": "stream",
     "text": [
      "[w_lr, w_lda, w_sv, w_xgb, w_lgbm,w_cb ] =  [0.037 0.    0.546 0.149 0.04  0.    0.63 ]\n",
      "AUC all:  0.7848689771766694\n",
      "\n"
     ]
    },
    {
     "name": "stderr",
     "output_type": "stream",
     "text": [
      "[I 2019-08-24 12:15:21,682] Finished trial#778 resulted in value: -0.7848689771766694. Current best value is -0.7944491406029868 with parameters: {'w_lr': 0.018735636670162738, 'w_sv': 0.609782869522277, 'w_xgb': 0.1257268888344056, 'w_lgbm': 0.10282314833705018, 'w_mlp': 0.6409335052733912}.\n"
     ]
    },
    {
     "name": "stdout",
     "output_type": "stream",
     "text": [
      "[w_lr, w_lda, w_sv, w_xgb, w_lgbm,w_cb ] =  [0.044 0.    0.774 0.139 0.194 0.    0.69 ]\n",
      "AUC all:  0.7912087912087912\n",
      "\n"
     ]
    },
    {
     "name": "stderr",
     "output_type": "stream",
     "text": [
      "[I 2019-08-24 12:15:22,764] Finished trial#779 resulted in value: -0.7912087912087912. Current best value is -0.7944491406029868 with parameters: {'w_lr': 0.018735636670162738, 'w_sv': 0.609782869522277, 'w_xgb': 0.1257268888344056, 'w_lgbm': 0.10282314833705018, 'w_mlp': 0.6409335052733912}.\n"
     ]
    },
    {
     "name": "stdout",
     "output_type": "stream",
     "text": [
      "[w_lr, w_lda, w_sv, w_xgb, w_lgbm,w_cb ] =  [0.033 0.    0.604 0.04  0.134 0.    0.657]\n",
      "AUC all:  0.7912087912087913\n",
      "\n"
     ]
    },
    {
     "name": "stderr",
     "output_type": "stream",
     "text": [
      "[I 2019-08-24 12:15:23,835] Finished trial#780 resulted in value: -0.7912087912087913. Current best value is -0.7944491406029868 with parameters: {'w_lr': 0.018735636670162738, 'w_sv': 0.609782869522277, 'w_xgb': 0.1257268888344056, 'w_lgbm': 0.10282314833705018, 'w_mlp': 0.6409335052733912}.\n"
     ]
    },
    {
     "name": "stdout",
     "output_type": "stream",
     "text": [
      "[w_lr, w_lda, w_sv, w_xgb, w_lgbm,w_cb ] =  [0.063 0.    0.701 0.135 0.089 0.    0.724]\n",
      "AUC all:  0.7913496759650606\n",
      "\n"
     ]
    },
    {
     "name": "stderr",
     "output_type": "stream",
     "text": [
      "[I 2019-08-24 12:15:24,926] Finished trial#781 resulted in value: -0.7913496759650606. Current best value is -0.7944491406029868 with parameters: {'w_lr': 0.018735636670162738, 'w_sv': 0.609782869522277, 'w_xgb': 0.1257268888344056, 'w_lgbm': 0.10282314833705018, 'w_mlp': 0.6409335052733912}.\n"
     ]
    },
    {
     "name": "stdout",
     "output_type": "stream",
     "text": [
      "[w_lr, w_lda, w_sv, w_xgb, w_lgbm,w_cb ] =  [0.017 0.    0.51  0.244 0.107 0.    0.671]\n",
      "AUC all:  0.7892364046210198\n",
      "\n"
     ]
    },
    {
     "name": "stderr",
     "output_type": "stream",
     "text": [
      "[I 2019-08-24 12:15:26,008] Finished trial#782 resulted in value: -0.7892364046210198. Current best value is -0.7944491406029868 with parameters: {'w_lr': 0.018735636670162738, 'w_sv': 0.609782869522277, 'w_xgb': 0.1257268888344056, 'w_lgbm': 0.10282314833705018, 'w_mlp': 0.6409335052733912}.\n"
     ]
    },
    {
     "name": "stdout",
     "output_type": "stream",
     "text": [
      "[w_lr, w_lda, w_sv, w_xgb, w_lgbm,w_cb ] =  [0.005 0.    0.571 0.104 0.124 0.    0.75 ]\n",
      "AUC all:  0.7923358692589462\n",
      "\n"
     ]
    },
    {
     "name": "stderr",
     "output_type": "stream",
     "text": [
      "[I 2019-08-24 12:15:27,099] Finished trial#783 resulted in value: -0.7923358692589462. Current best value is -0.7944491406029868 with parameters: {'w_lr': 0.018735636670162738, 'w_sv': 0.609782869522277, 'w_xgb': 0.1257268888344056, 'w_lgbm': 0.10282314833705018, 'w_mlp': 0.6409335052733912}.\n"
     ]
    },
    {
     "name": "stdout",
     "output_type": "stream",
     "text": [
      "[w_lr, w_lda, w_sv, w_xgb, w_lgbm,w_cb ] =  [0.056 0.    0.661 0.159 0.073 0.    0.689]\n",
      "AUC all:  0.7895181741335587\n",
      "\n"
     ]
    },
    {
     "name": "stderr",
     "output_type": "stream",
     "text": [
      "[I 2019-08-24 12:15:28,193] Finished trial#784 resulted in value: -0.7895181741335587. Current best value is -0.7944491406029868 with parameters: {'w_lr': 0.018735636670162738, 'w_sv': 0.609782869522277, 'w_xgb': 0.1257268888344056, 'w_lgbm': 0.10282314833705018, 'w_mlp': 0.6409335052733912}.\n"
     ]
    },
    {
     "name": "stdout",
     "output_type": "stream",
     "text": [
      "[w_lr, w_lda, w_sv, w_xgb, w_lgbm,w_cb ] =  [0.081 0.    0.553 0.111 0.112 0.    0.712]\n",
      "AUC all:  0.7924767540152156\n",
      "\n"
     ]
    },
    {
     "name": "stderr",
     "output_type": "stream",
     "text": [
      "[I 2019-08-24 12:15:29,292] Finished trial#785 resulted in value: -0.7924767540152156. Current best value is -0.7944491406029868 with parameters: {'w_lr': 0.018735636670162738, 'w_sv': 0.609782869522277, 'w_xgb': 0.1257268888344056, 'w_lgbm': 0.10282314833705018, 'w_mlp': 0.6409335052733912}.\n"
     ]
    },
    {
     "name": "stdout",
     "output_type": "stream",
     "text": [
      "[w_lr, w_lda, w_sv, w_xgb, w_lgbm,w_cb ] =  [0.035 0.    0.575 0.096 0.086 0.    0.509]\n",
      "AUC all:  0.7928994082840236\n",
      "\n"
     ]
    },
    {
     "name": "stderr",
     "output_type": "stream",
     "text": [
      "[I 2019-08-24 12:15:30,385] Finished trial#786 resulted in value: -0.7928994082840236. Current best value is -0.7944491406029868 with parameters: {'w_lr': 0.018735636670162738, 'w_sv': 0.609782869522277, 'w_xgb': 0.1257268888344056, 'w_lgbm': 0.10282314833705018, 'w_mlp': 0.6409335052733912}.\n"
     ]
    },
    {
     "name": "stdout",
     "output_type": "stream",
     "text": [
      "[w_lr, w_lda, w_sv, w_xgb, w_lgbm,w_cb ] =  [0.05  0.    0.633 0.164 0.148 0.    0.667]\n",
      "AUC all:  0.7928994082840236\n",
      "\n"
     ]
    },
    {
     "name": "stderr",
     "output_type": "stream",
     "text": [
      "[I 2019-08-24 12:15:31,487] Finished trial#787 resulted in value: -0.7928994082840236. Current best value is -0.7944491406029868 with parameters: {'w_lr': 0.018735636670162738, 'w_sv': 0.609782869522277, 'w_xgb': 0.1257268888344056, 'w_lgbm': 0.10282314833705018, 'w_mlp': 0.6409335052733912}.\n"
     ]
    },
    {
     "name": "stdout",
     "output_type": "stream",
     "text": [
      "[w_lr, w_lda, w_sv, w_xgb, w_lgbm,w_cb ] =  [0.079 0.    0.603 0.055 0.055 0.    0.647]\n",
      "AUC all:  0.79149056072133\n",
      "\n"
     ]
    },
    {
     "name": "stderr",
     "output_type": "stream",
     "text": [
      "[I 2019-08-24 12:15:32,596] Finished trial#788 resulted in value: -0.79149056072133. Current best value is -0.7944491406029868 with parameters: {'w_lr': 0.018735636670162738, 'w_sv': 0.609782869522277, 'w_xgb': 0.1257268888344056, 'w_lgbm': 0.10282314833705018, 'w_mlp': 0.6409335052733912}.\n"
     ]
    },
    {
     "name": "stdout",
     "output_type": "stream",
     "text": [
      "[w_lr, w_lda, w_sv, w_xgb, w_lgbm,w_cb ] =  [0.072 0.    0.548 0.118 0.075 0.    0.736]\n",
      "AUC all:  0.7902225979149056\n",
      "\n"
     ]
    },
    {
     "name": "stderr",
     "output_type": "stream",
     "text": [
      "[I 2019-08-24 12:15:33,689] Finished trial#789 resulted in value: -0.7902225979149056. Current best value is -0.7944491406029868 with parameters: {'w_lr': 0.018735636670162738, 'w_sv': 0.609782869522277, 'w_xgb': 0.1257268888344056, 'w_lgbm': 0.10282314833705018, 'w_mlp': 0.6409335052733912}.\n"
     ]
    },
    {
     "name": "stdout",
     "output_type": "stream",
     "text": [
      "[w_lr, w_lda, w_sv, w_xgb, w_lgbm,w_cb ] =  [0.017 0.    0.578 0.088 0.127 0.    0.693]\n",
      "AUC all:  0.7913496759650605\n",
      "\n"
     ]
    },
    {
     "name": "stderr",
     "output_type": "stream",
     "text": [
      "[I 2019-08-24 12:15:34,786] Finished trial#790 resulted in value: -0.7913496759650605. Current best value is -0.7944491406029868 with parameters: {'w_lr': 0.018735636670162738, 'w_sv': 0.609782869522277, 'w_xgb': 0.1257268888344056, 'w_lgbm': 0.10282314833705018, 'w_mlp': 0.6409335052733912}.\n"
     ]
    },
    {
     "name": "stdout",
     "output_type": "stream",
     "text": [
      "[w_lr, w_lda, w_sv, w_xgb, w_lgbm,w_cb ] =  [0.003 0.    0.587 0.135 0.152 0.    0.676]\n",
      "AUC all:  0.791913214990138\n",
      "\n"
     ]
    },
    {
     "name": "stderr",
     "output_type": "stream",
     "text": [
      "[I 2019-08-24 12:15:35,887] Finished trial#791 resulted in value: -0.791913214990138. Current best value is -0.7944491406029868 with parameters: {'w_lr': 0.018735636670162738, 'w_sv': 0.609782869522277, 'w_xgb': 0.1257268888344056, 'w_lgbm': 0.10282314833705018, 'w_mlp': 0.6409335052733912}.\n"
     ]
    },
    {
     "name": "stdout",
     "output_type": "stream",
     "text": [
      "[w_lr, w_lda, w_sv, w_xgb, w_lgbm,w_cb ] =  [0.042 0.    0.523 0.557 0.124 0.    0.709]\n",
      "AUC all:  0.7851507466892083\n",
      "\n"
     ]
    },
    {
     "name": "stderr",
     "output_type": "stream",
     "text": [
      "[I 2019-08-24 12:15:36,984] Finished trial#792 resulted in value: -0.7851507466892083. Current best value is -0.7944491406029868 with parameters: {'w_lr': 0.018735636670162738, 'w_sv': 0.609782869522277, 'w_xgb': 0.1257268888344056, 'w_lgbm': 0.10282314833705018, 'w_mlp': 0.6409335052733912}.\n"
     ]
    },
    {
     "name": "stdout",
     "output_type": "stream",
     "text": [
      "[w_lr, w_lda, w_sv, w_xgb, w_lgbm,w_cb ] =  [0.135 0.    0.608 0.962 0.016 0.    0.624]\n",
      "AUC all:  0.7669766131304593\n",
      "\n"
     ]
    },
    {
     "name": "stderr",
     "output_type": "stream",
     "text": [
      "[I 2019-08-24 12:15:38,074] Finished trial#793 resulted in value: -0.7669766131304593. Current best value is -0.7944491406029868 with parameters: {'w_lr': 0.018735636670162738, 'w_sv': 0.609782869522277, 'w_xgb': 0.1257268888344056, 'w_lgbm': 0.10282314833705018, 'w_mlp': 0.6409335052733912}.\n"
     ]
    },
    {
     "name": "stdout",
     "output_type": "stream",
     "text": [
      "[w_lr, w_lda, w_sv, w_xgb, w_lgbm,w_cb ] =  [0.092 0.    0.619 0.14  0.102 0.    0.657]\n",
      "AUC all:  0.7933220625528318\n",
      "\n"
     ]
    },
    {
     "name": "stderr",
     "output_type": "stream",
     "text": [
      "[I 2019-08-24 12:15:39,161] Finished trial#794 resulted in value: -0.7933220625528318. Current best value is -0.7944491406029868 with parameters: {'w_lr': 0.018735636670162738, 'w_sv': 0.609782869522277, 'w_xgb': 0.1257268888344056, 'w_lgbm': 0.10282314833705018, 'w_mlp': 0.6409335052733912}.\n"
     ]
    },
    {
     "name": "stdout",
     "output_type": "stream",
     "text": [
      "[w_lr, w_lda, w_sv, w_xgb, w_lgbm,w_cb ] =  [0.064 0.    0.589 0.127 0.09  0.    0.668]\n",
      "AUC all:  0.7913496759650606\n",
      "\n"
     ]
    },
    {
     "name": "stderr",
     "output_type": "stream",
     "text": [
      "[I 2019-08-24 12:15:40,260] Finished trial#795 resulted in value: -0.7913496759650606. Current best value is -0.7944491406029868 with parameters: {'w_lr': 0.018735636670162738, 'w_sv': 0.609782869522277, 'w_xgb': 0.1257268888344056, 'w_lgbm': 0.10282314833705018, 'w_mlp': 0.6409335052733912}.\n"
     ]
    },
    {
     "name": "stdout",
     "output_type": "stream",
     "text": [
      "[w_lr, w_lda, w_sv, w_xgb, w_lgbm,w_cb ] =  [0.054 0.    0.712 0.114 0.06  0.    0.683]\n",
      "AUC all:  0.7902225979149056\n",
      "\n"
     ]
    },
    {
     "name": "stderr",
     "output_type": "stream",
     "text": [
      "[I 2019-08-24 12:15:41,366] Finished trial#796 resulted in value: -0.7902225979149056. Current best value is -0.7944491406029868 with parameters: {'w_lr': 0.018735636670162738, 'w_sv': 0.609782869522277, 'w_xgb': 0.1257268888344056, 'w_lgbm': 0.10282314833705018, 'w_mlp': 0.6409335052733912}.\n"
     ]
    },
    {
     "name": "stdout",
     "output_type": "stream",
     "text": [
      "[w_lr, w_lda, w_sv, w_xgb, w_lgbm,w_cb ] =  [0.05  0.    0.672 0.182 0.088 0.    0.57 ]\n",
      "AUC all:  0.7896590588898282\n",
      "\n"
     ]
    },
    {
     "name": "stderr",
     "output_type": "stream",
     "text": [
      "[I 2019-08-24 12:15:42,473] Finished trial#797 resulted in value: -0.7896590588898282. Current best value is -0.7944491406029868 with parameters: {'w_lr': 0.018735636670162738, 'w_sv': 0.609782869522277, 'w_xgb': 0.1257268888344056, 'w_lgbm': 0.10282314833705018, 'w_mlp': 0.6409335052733912}.\n"
     ]
    },
    {
     "name": "stdout",
     "output_type": "stream",
     "text": [
      "[w_lr, w_lda, w_sv, w_xgb, w_lgbm,w_cb ] =  [0.002 0.    0.563 0.102 0.131 0.    0.611]\n",
      "AUC all:  0.792617638771485\n",
      "\n"
     ]
    },
    {
     "name": "stderr",
     "output_type": "stream",
     "text": [
      "[I 2019-08-24 12:15:43,579] Finished trial#798 resulted in value: -0.792617638771485. Current best value is -0.7944491406029868 with parameters: {'w_lr': 0.018735636670162738, 'w_sv': 0.609782869522277, 'w_xgb': 0.1257268888344056, 'w_lgbm': 0.10282314833705018, 'w_mlp': 0.6409335052733912}.\n"
     ]
    },
    {
     "name": "stdout",
     "output_type": "stream",
     "text": [
      "[w_lr, w_lda, w_sv, w_xgb, w_lgbm,w_cb ] =  [0.031 0.    0.546 0.065 0.071 0.    0.585]\n",
      "AUC all:  0.7931811777965624\n",
      "\n"
     ]
    },
    {
     "name": "stderr",
     "output_type": "stream",
     "text": [
      "[I 2019-08-24 12:15:44,691] Finished trial#799 resulted in value: -0.7931811777965624. Current best value is -0.7944491406029868 with parameters: {'w_lr': 0.018735636670162738, 'w_sv': 0.609782869522277, 'w_xgb': 0.1257268888344056, 'w_lgbm': 0.10282314833705018, 'w_mlp': 0.6409335052733912}.\n"
     ]
    },
    {
     "name": "stdout",
     "output_type": "stream",
     "text": [
      "[w_lr, w_lda, w_sv, w_xgb, w_lgbm,w_cb ] =  [0.068 0.    0.627 0.205 0.108 0.    0.649]\n",
      "AUC all:  0.7902225979149056\n",
      "\n"
     ]
    },
    {
     "name": "stderr",
     "output_type": "stream",
     "text": [
      "[I 2019-08-24 12:15:45,809] Finished trial#800 resulted in value: -0.7902225979149056. Current best value is -0.7944491406029868 with parameters: {'w_lr': 0.018735636670162738, 'w_sv': 0.609782869522277, 'w_xgb': 0.1257268888344056, 'w_lgbm': 0.10282314833705018, 'w_mlp': 0.6409335052733912}.\n"
     ]
    },
    {
     "name": "stdout",
     "output_type": "stream",
     "text": [
      "[w_lr, w_lda, w_sv, w_xgb, w_lgbm,w_cb ] =  [0.    0.    0.488 0.147 0.041 0.    0.696]\n",
      "AUC all:  0.7847280924204001\n",
      "\n"
     ]
    },
    {
     "name": "stderr",
     "output_type": "stream",
     "text": [
      "[I 2019-08-24 12:15:46,929] Finished trial#801 resulted in value: -0.7847280924204001. Current best value is -0.7944491406029868 with parameters: {'w_lr': 0.018735636670162738, 'w_sv': 0.609782869522277, 'w_xgb': 0.1257268888344056, 'w_lgbm': 0.10282314833705018, 'w_mlp': 0.6409335052733912}.\n"
     ]
    },
    {
     "name": "stdout",
     "output_type": "stream",
     "text": [
      "[w_lr, w_lda, w_sv, w_xgb, w_lgbm,w_cb ] =  [0.031 0.    0.617 0.167 0.107 0.    0.616]\n",
      "AUC all:  0.7917723302338687\n",
      "\n"
     ]
    },
    {
     "name": "stderr",
     "output_type": "stream",
     "text": [
      "[I 2019-08-24 12:15:48,038] Finished trial#802 resulted in value: -0.7917723302338687. Current best value is -0.7944491406029868 with parameters: {'w_lr': 0.018735636670162738, 'w_sv': 0.609782869522277, 'w_xgb': 0.1257268888344056, 'w_lgbm': 0.10282314833705018, 'w_mlp': 0.6409335052733912}.\n"
     ]
    },
    {
     "name": "stdout",
     "output_type": "stream",
     "text": [
      "[w_lr, w_lda, w_sv, w_xgb, w_lgbm,w_cb ] =  [0.026 0.    0.59  0.082 0.174 0.    0.645]\n",
      "AUC all:  0.7897999436460974\n",
      "\n"
     ]
    },
    {
     "name": "stderr",
     "output_type": "stream",
     "text": [
      "[I 2019-08-24 12:15:49,162] Finished trial#803 resulted in value: -0.7897999436460974. Current best value is -0.7944491406029868 with parameters: {'w_lr': 0.018735636670162738, 'w_sv': 0.609782869522277, 'w_xgb': 0.1257268888344056, 'w_lgbm': 0.10282314833705018, 'w_mlp': 0.6409335052733912}.\n"
     ]
    },
    {
     "name": "stdout",
     "output_type": "stream",
     "text": [
      "[w_lr, w_lda, w_sv, w_xgb, w_lgbm,w_cb ] =  [0.001 0.    0.654 0.124 0.086 0.    0.628]\n",
      "AUC all:  0.7921949845026769\n",
      "\n"
     ]
    },
    {
     "name": "stderr",
     "output_type": "stream",
     "text": [
      "[I 2019-08-24 12:15:50,279] Finished trial#804 resulted in value: -0.7921949845026769. Current best value is -0.7944491406029868 with parameters: {'w_lr': 0.018735636670162738, 'w_sv': 0.609782869522277, 'w_xgb': 0.1257268888344056, 'w_lgbm': 0.10282314833705018, 'w_mlp': 0.6409335052733912}.\n"
     ]
    },
    {
     "name": "stdout",
     "output_type": "stream",
     "text": [
      "[w_lr, w_lda, w_sv, w_xgb, w_lgbm,w_cb ] =  [0.09  0.    0.575 0.105 0.112 0.    0.668]\n",
      "AUC all:  0.7927585235277542\n",
      "\n"
     ]
    },
    {
     "name": "stderr",
     "output_type": "stream",
     "text": [
      "[I 2019-08-24 12:15:51,406] Finished trial#805 resulted in value: -0.7927585235277542. Current best value is -0.7944491406029868 with parameters: {'w_lr': 0.018735636670162738, 'w_sv': 0.609782869522277, 'w_xgb': 0.1257268888344056, 'w_lgbm': 0.10282314833705018, 'w_mlp': 0.6409335052733912}.\n"
     ]
    },
    {
     "name": "stdout",
     "output_type": "stream",
     "text": [
      "[w_lr, w_lda, w_sv, w_xgb, w_lgbm,w_cb ] =  [0.086 0.    0.608 0.144 0.06  0.    0.307]\n",
      "AUC all:  0.7881093265708651\n",
      "\n"
     ]
    },
    {
     "name": "stderr",
     "output_type": "stream",
     "text": [
      "[I 2019-08-24 12:15:52,532] Finished trial#806 resulted in value: -0.7881093265708651. Current best value is -0.7944491406029868 with parameters: {'w_lr': 0.018735636670162738, 'w_sv': 0.609782869522277, 'w_xgb': 0.1257268888344056, 'w_lgbm': 0.10282314833705018, 'w_mlp': 0.6409335052733912}.\n"
     ]
    },
    {
     "name": "stdout",
     "output_type": "stream",
     "text": [
      "[w_lr, w_lda, w_sv, w_xgb, w_lgbm,w_cb ] =  [0.056 0.    0.641 0.145 0.741 0.    0.662]\n",
      "AUC all:  0.7734573119188504\n",
      "\n"
     ]
    },
    {
     "name": "stderr",
     "output_type": "stream",
     "text": [
      "[I 2019-08-24 12:15:53,649] Finished trial#807 resulted in value: -0.7734573119188504. Current best value is -0.7944491406029868 with parameters: {'w_lr': 0.018735636670162738, 'w_sv': 0.609782869522277, 'w_xgb': 0.1257268888344056, 'w_lgbm': 0.10282314833705018, 'w_mlp': 0.6409335052733912}.\n"
     ]
    },
    {
     "name": "stdout",
     "output_type": "stream",
     "text": [
      "[w_lr, w_lda, w_sv, w_xgb, w_lgbm,w_cb ] =  [0.051 0.    0.814 0.029 0.134 0.    0.537]\n",
      "AUC all:  0.7888137503522119\n",
      "\n"
     ]
    },
    {
     "name": "stderr",
     "output_type": "stream",
     "text": [
      "[I 2019-08-24 12:15:54,762] Finished trial#808 resulted in value: -0.7888137503522119. Current best value is -0.7944491406029868 with parameters: {'w_lr': 0.018735636670162738, 'w_sv': 0.609782869522277, 'w_xgb': 0.1257268888344056, 'w_lgbm': 0.10282314833705018, 'w_mlp': 0.6409335052733912}.\n"
     ]
    },
    {
     "name": "stdout",
     "output_type": "stream",
     "text": [
      "[w_lr, w_lda, w_sv, w_xgb, w_lgbm,w_cb ] =  [0.117 0.    0.639 0.107 0.085 0.    0.64 ]\n",
      "AUC all:  0.7920540997464075\n",
      "\n"
     ]
    },
    {
     "name": "stderr",
     "output_type": "stream",
     "text": [
      "[I 2019-08-24 12:15:55,883] Finished trial#809 resulted in value: -0.7920540997464075. Current best value is -0.7944491406029868 with parameters: {'w_lr': 0.018735636670162738, 'w_sv': 0.609782869522277, 'w_xgb': 0.1257268888344056, 'w_lgbm': 0.10282314833705018, 'w_mlp': 0.6409335052733912}.\n"
     ]
    },
    {
     "name": "stdout",
     "output_type": "stream",
     "text": [
      "[w_lr, w_lda, w_sv, w_xgb, w_lgbm,w_cb ] =  [0.077 0.    0.566 0.078 0.108 0.    0.687]\n",
      "AUC all:  0.7921949845026768\n",
      "\n"
     ]
    },
    {
     "name": "stderr",
     "output_type": "stream",
     "text": [
      "[I 2019-08-24 12:15:56,997] Finished trial#810 resulted in value: -0.7921949845026768. Current best value is -0.7944491406029868 with parameters: {'w_lr': 0.018735636670162738, 'w_sv': 0.609782869522277, 'w_xgb': 0.1257268888344056, 'w_lgbm': 0.10282314833705018, 'w_mlp': 0.6409335052733912}.\n"
     ]
    },
    {
     "name": "stdout",
     "output_type": "stream",
     "text": [
      "[w_lr, w_lda, w_sv, w_xgb, w_lgbm,w_cb ] =  [0.101 0.    0.588 0.123 0.113 0.    0.655]\n",
      "AUC all:  0.793040293040293\n",
      "\n"
     ]
    },
    {
     "name": "stderr",
     "output_type": "stream",
     "text": [
      "[I 2019-08-24 12:15:58,110] Finished trial#811 resulted in value: -0.793040293040293. Current best value is -0.7944491406029868 with parameters: {'w_lr': 0.018735636670162738, 'w_sv': 0.609782869522277, 'w_xgb': 0.1257268888344056, 'w_lgbm': 0.10282314833705018, 'w_mlp': 0.6409335052733912}.\n"
     ]
    },
    {
     "name": "stdout",
     "output_type": "stream",
     "text": [
      "[w_lr, w_lda, w_sv, w_xgb, w_lgbm,w_cb ] =  [0.04  0.    0.689 0.165 0.032 0.    0.201]\n",
      "AUC all:  0.7844463229078613\n",
      "\n"
     ]
    },
    {
     "name": "stderr",
     "output_type": "stream",
     "text": [
      "[I 2019-08-24 12:15:59,237] Finished trial#812 resulted in value: -0.7844463229078613. Current best value is -0.7944491406029868 with parameters: {'w_lr': 0.018735636670162738, 'w_sv': 0.609782869522277, 'w_xgb': 0.1257268888344056, 'w_lgbm': 0.10282314833705018, 'w_mlp': 0.6409335052733912}.\n"
     ]
    },
    {
     "name": "stdout",
     "output_type": "stream",
     "text": [
      "[w_lr, w_lda, w_sv, w_xgb, w_lgbm,w_cb ] =  [0.06  0.    0.613 0.13  0.153 0.    0.67 ]\n",
      "AUC all:  0.7921949845026768\n",
      "\n"
     ]
    },
    {
     "name": "stderr",
     "output_type": "stream",
     "text": [
      "[I 2019-08-24 12:16:00,360] Finished trial#813 resulted in value: -0.7921949845026768. Current best value is -0.7944491406029868 with parameters: {'w_lr': 0.018735636670162738, 'w_sv': 0.609782869522277, 'w_xgb': 0.1257268888344056, 'w_lgbm': 0.10282314833705018, 'w_mlp': 0.6409335052733912}.\n"
     ]
    },
    {
     "name": "stdout",
     "output_type": "stream",
     "text": [
      "[w_lr, w_lda, w_sv, w_xgb, w_lgbm,w_cb ] =  [0.032 0.    0.52  0.093 0.08  0.    0.741]\n",
      "AUC all:  0.7909270216962525\n",
      "\n"
     ]
    },
    {
     "name": "stderr",
     "output_type": "stream",
     "text": [
      "[I 2019-08-24 12:16:01,505] Finished trial#814 resulted in value: -0.7909270216962525. Current best value is -0.7944491406029868 with parameters: {'w_lr': 0.018735636670162738, 'w_sv': 0.609782869522277, 'w_xgb': 0.1257268888344056, 'w_lgbm': 0.10282314833705018, 'w_mlp': 0.6409335052733912}.\n"
     ]
    },
    {
     "name": "stdout",
     "output_type": "stream",
     "text": [
      "[w_lr, w_lda, w_sv, w_xgb, w_lgbm,w_cb ] =  [0.014 0.    0.553 0.146 0.097 0.    0.602]\n",
      "AUC all:  0.7921949845026768\n",
      "\n"
     ]
    },
    {
     "name": "stderr",
     "output_type": "stream",
     "text": [
      "[I 2019-08-24 12:16:02,663] Finished trial#815 resulted in value: -0.7921949845026768. Current best value is -0.7944491406029868 with parameters: {'w_lr': 0.018735636670162738, 'w_sv': 0.609782869522277, 'w_xgb': 0.1257268888344056, 'w_lgbm': 0.10282314833705018, 'w_mlp': 0.6409335052733912}.\n"
     ]
    },
    {
     "name": "stdout",
     "output_type": "stream",
     "text": [
      "[w_lr, w_lda, w_sv, w_xgb, w_lgbm,w_cb ] =  [0.143 0.    0.647 0.056 0.054 0.    0.625]\n",
      "AUC all:  0.7912087912087912\n",
      "\n"
     ]
    },
    {
     "name": "stderr",
     "output_type": "stream",
     "text": [
      "[I 2019-08-24 12:16:03,803] Finished trial#816 resulted in value: -0.7912087912087912. Current best value is -0.7944491406029868 with parameters: {'w_lr': 0.018735636670162738, 'w_sv': 0.609782869522277, 'w_xgb': 0.1257268888344056, 'w_lgbm': 0.10282314833705018, 'w_mlp': 0.6409335052733912}.\n"
     ]
    },
    {
     "name": "stdout",
     "output_type": "stream",
     "text": [
      "[w_lr, w_lda, w_sv, w_xgb, w_lgbm,w_cb ] =  [0.561 0.    0.627 0.108 0.069 0.    0.613]\n",
      "AUC all:  0.7885319808396732\n",
      "\n"
     ]
    },
    {
     "name": "stderr",
     "output_type": "stream",
     "text": [
      "[I 2019-08-24 12:16:04,933] Finished trial#817 resulted in value: -0.7885319808396732. Current best value is -0.7944491406029868 with parameters: {'w_lr': 0.018735636670162738, 'w_sv': 0.609782869522277, 'w_xgb': 0.1257268888344056, 'w_lgbm': 0.10282314833705018, 'w_mlp': 0.6409335052733912}.\n"
     ]
    },
    {
     "name": "stdout",
     "output_type": "stream",
     "text": [
      "[w_lr, w_lda, w_sv, w_xgb, w_lgbm,w_cb ] =  [0.051 0.    0.687 0.18  0.093 0.    0.589]\n",
      "AUC all:  0.7905043674274443\n",
      "\n"
     ]
    },
    {
     "name": "stderr",
     "output_type": "stream",
     "text": [
      "[I 2019-08-24 12:16:06,083] Finished trial#818 resulted in value: -0.7905043674274443. Current best value is -0.7944491406029868 with parameters: {'w_lr': 0.018735636670162738, 'w_sv': 0.609782869522277, 'w_xgb': 0.1257268888344056, 'w_lgbm': 0.10282314833705018, 'w_mlp': 0.6409335052733912}.\n"
     ]
    },
    {
     "name": "stdout",
     "output_type": "stream",
     "text": [
      "[w_lr, w_lda, w_sv, w_xgb, w_lgbm,w_cb ] =  [0.416 0.    0.592 0.118 0.076 0.    0.56 ]\n",
      "AUC all:  0.7896590588898281\n",
      "\n"
     ]
    },
    {
     "name": "stderr",
     "output_type": "stream",
     "text": [
      "[I 2019-08-24 12:16:07,232] Finished trial#819 resulted in value: -0.7896590588898281. Current best value is -0.7944491406029868 with parameters: {'w_lr': 0.018735636670162738, 'w_sv': 0.609782869522277, 'w_xgb': 0.1257268888344056, 'w_lgbm': 0.10282314833705018, 'w_mlp': 0.6409335052733912}.\n"
     ]
    },
    {
     "name": "stdout",
     "output_type": "stream",
     "text": [
      "[w_lr, w_lda, w_sv, w_xgb, w_lgbm,w_cb ] =  [0.    0.    0.727 0.156 0.138 0.    0.689]\n",
      "AUC all:  0.792617638771485\n",
      "\n"
     ]
    },
    {
     "name": "stderr",
     "output_type": "stream",
     "text": [
      "[I 2019-08-24 12:16:08,353] Finished trial#820 resulted in value: -0.792617638771485. Current best value is -0.7944491406029868 with parameters: {'w_lr': 0.018735636670162738, 'w_sv': 0.609782869522277, 'w_xgb': 0.1257268888344056, 'w_lgbm': 0.10282314833705018, 'w_mlp': 0.6409335052733912}.\n"
     ]
    },
    {
     "name": "stdout",
     "output_type": "stream",
     "text": [
      "[w_lr, w_lda, w_sv, w_xgb, w_lgbm,w_cb ] =  [0.064 0.    0.545 0.126 0.048 0.    0.704]\n",
      "AUC all:  0.7867004790081714\n",
      "\n"
     ]
    },
    {
     "name": "stderr",
     "output_type": "stream",
     "text": [
      "[I 2019-08-24 12:16:09,481] Finished trial#821 resulted in value: -0.7867004790081714. Current best value is -0.7944491406029868 with parameters: {'w_lr': 0.018735636670162738, 'w_sv': 0.609782869522277, 'w_xgb': 0.1257268888344056, 'w_lgbm': 0.10282314833705018, 'w_mlp': 0.6409335052733912}.\n"
     ]
    },
    {
     "name": "stdout",
     "output_type": "stream",
     "text": [
      "[w_lr, w_lda, w_sv, w_xgb, w_lgbm,w_cb ] =  [0.    0.    0.04  0.141 0.128 0.    0.68 ]\n",
      "AUC all:  0.7933220625528317\n",
      "\n"
     ]
    },
    {
     "name": "stderr",
     "output_type": "stream",
     "text": [
      "[I 2019-08-24 12:16:10,620] Finished trial#822 resulted in value: -0.7933220625528317. Current best value is -0.7944491406029868 with parameters: {'w_lr': 0.018735636670162738, 'w_sv': 0.609782869522277, 'w_xgb': 0.1257268888344056, 'w_lgbm': 0.10282314833705018, 'w_mlp': 0.6409335052733912}.\n"
     ]
    },
    {
     "name": "stdout",
     "output_type": "stream",
     "text": [
      "[w_lr, w_lda, w_sv, w_xgb, w_lgbm,w_cb ] =  [0.022 0.    0.936 0.093 0.093 0.    0.636]\n",
      "AUC all:  0.7933220625528317\n",
      "\n"
     ]
    },
    {
     "name": "stderr",
     "output_type": "stream",
     "text": [
      "[I 2019-08-24 12:16:11,752] Finished trial#823 resulted in value: -0.7933220625528317. Current best value is -0.7944491406029868 with parameters: {'w_lr': 0.018735636670162738, 'w_sv': 0.609782869522277, 'w_xgb': 0.1257268888344056, 'w_lgbm': 0.10282314833705018, 'w_mlp': 0.6409335052733912}.\n"
     ]
    },
    {
     "name": "stdout",
     "output_type": "stream",
     "text": [
      "[w_lr, w_lda, w_sv, w_xgb, w_lgbm,w_cb ] =  [0.    0.    0.581 0.082 0.156 0.    0.646]\n",
      "AUC all:  0.7902225979149056\n",
      "\n"
     ]
    },
    {
     "name": "stderr",
     "output_type": "stream",
     "text": [
      "[I 2019-08-24 12:16:12,901] Finished trial#824 resulted in value: -0.7902225979149056. Current best value is -0.7944491406029868 with parameters: {'w_lr': 0.018735636670162738, 'w_sv': 0.609782869522277, 'w_xgb': 0.1257268888344056, 'w_lgbm': 0.10282314833705018, 'w_mlp': 0.6409335052733912}.\n"
     ]
    },
    {
     "name": "stdout",
     "output_type": "stream",
     "text": [
      "[w_lr, w_lda, w_sv, w_xgb, w_lgbm,w_cb ] =  [0.121 0.    0.61  0.11  0.095 0.    0.602]\n",
      "AUC all:  0.7936038320653706\n",
      "\n"
     ]
    },
    {
     "name": "stderr",
     "output_type": "stream",
     "text": [
      "[I 2019-08-24 12:16:14,047] Finished trial#825 resulted in value: -0.7936038320653706. Current best value is -0.7944491406029868 with parameters: {'w_lr': 0.018735636670162738, 'w_sv': 0.609782869522277, 'w_xgb': 0.1257268888344056, 'w_lgbm': 0.10282314833705018, 'w_mlp': 0.6409335052733912}.\n"
     ]
    },
    {
     "name": "stdout",
     "output_type": "stream",
     "text": [
      "[w_lr, w_lda, w_sv, w_xgb, w_lgbm,w_cb ] =  [0.082 0.    0.638 0.161 0.119 0.    0.641]\n",
      "AUC all:  0.7919132149901381\n",
      "\n"
     ]
    },
    {
     "name": "stderr",
     "output_type": "stream",
     "text": [
      "[I 2019-08-24 12:16:15,208] Finished trial#826 resulted in value: -0.7919132149901381. Current best value is -0.7944491406029868 with parameters: {'w_lr': 0.018735636670162738, 'w_sv': 0.609782869522277, 'w_xgb': 0.1257268888344056, 'w_lgbm': 0.10282314833705018, 'w_mlp': 0.6409335052733912}.\n"
     ]
    },
    {
     "name": "stdout",
     "output_type": "stream",
     "text": [
      "[w_lr, w_lda, w_sv, w_xgb, w_lgbm,w_cb ] =  [0.034 0.    0.556 0.133 0.137 0.    0.718]\n",
      "AUC all:  0.792617638771485\n",
      "\n"
     ]
    },
    {
     "name": "stderr",
     "output_type": "stream",
     "text": [
      "[I 2019-08-24 12:16:16,359] Finished trial#827 resulted in value: -0.792617638771485. Current best value is -0.7944491406029868 with parameters: {'w_lr': 0.018735636670162738, 'w_sv': 0.609782869522277, 'w_xgb': 0.1257268888344056, 'w_lgbm': 0.10282314833705018, 'w_mlp': 0.6409335052733912}.\n"
     ]
    },
    {
     "name": "stdout",
     "output_type": "stream",
     "text": [
      "[w_lr, w_lda, w_sv, w_xgb, w_lgbm,w_cb ] =  [0.077 0.    0.576 0.072 0.068 0.    0.624]\n",
      "AUC all:  0.7905043674274443\n",
      "\n"
     ]
    },
    {
     "name": "stderr",
     "output_type": "stream",
     "text": [
      "[I 2019-08-24 12:16:17,513] Finished trial#828 resulted in value: -0.7905043674274443. Current best value is -0.7944491406029868 with parameters: {'w_lr': 0.018735636670162738, 'w_sv': 0.609782869522277, 'w_xgb': 0.1257268888344056, 'w_lgbm': 0.10282314833705018, 'w_mlp': 0.6409335052733912}.\n"
     ]
    },
    {
     "name": "stdout",
     "output_type": "stream",
     "text": [
      "[w_lr, w_lda, w_sv, w_xgb, w_lgbm,w_cb ] =  [0.292 0.    0.601 0.099 0.108 0.    0.572]\n",
      "AUC all:  0.7923358692589462\n",
      "\n"
     ]
    },
    {
     "name": "stderr",
     "output_type": "stream",
     "text": [
      "[I 2019-08-24 12:16:18,668] Finished trial#829 resulted in value: -0.7923358692589462. Current best value is -0.7944491406029868 with parameters: {'w_lr': 0.018735636670162738, 'w_sv': 0.609782869522277, 'w_xgb': 0.1257268888344056, 'w_lgbm': 0.10282314833705018, 'w_mlp': 0.6409335052733912}.\n"
     ]
    },
    {
     "name": "stdout",
     "output_type": "stream",
     "text": [
      "[w_lr, w_lda, w_sv, w_xgb, w_lgbm,w_cb ] =  [0.186 0.    0.669 0.114 0.081 0.    0.658]\n",
      "AUC all:  0.7916314454775993\n",
      "\n"
     ]
    },
    {
     "name": "stderr",
     "output_type": "stream",
     "text": [
      "[I 2019-08-24 12:16:19,833] Finished trial#830 resulted in value: -0.7916314454775993. Current best value is -0.7944491406029868 with parameters: {'w_lr': 0.018735636670162738, 'w_sv': 0.609782869522277, 'w_xgb': 0.1257268888344056, 'w_lgbm': 0.10282314833705018, 'w_mlp': 0.6409335052733912}.\n"
     ]
    },
    {
     "name": "stdout",
     "output_type": "stream",
     "text": [
      "[w_lr, w_lda, w_sv, w_xgb, w_lgbm,w_cb ] =  [0.053 0.    0.994 0.18  0.122 0.    0.673]\n",
      "AUC all:  0.7917723302338686\n",
      "\n"
     ]
    },
    {
     "name": "stderr",
     "output_type": "stream",
     "text": [
      "[I 2019-08-24 12:16:20,986] Finished trial#831 resulted in value: -0.7917723302338686. Current best value is -0.7944491406029868 with parameters: {'w_lr': 0.018735636670162738, 'w_sv': 0.609782869522277, 'w_xgb': 0.1257268888344056, 'w_lgbm': 0.10282314833705018, 'w_mlp': 0.6409335052733912}.\n"
     ]
    },
    {
     "name": "stdout",
     "output_type": "stream",
     "text": [
      "[w_lr, w_lda, w_sv, w_xgb, w_lgbm,w_cb ] =  [0.018 0.    0.597 0.053 0.099 0.    0.585]\n",
      "AUC all:  0.7913496759650606\n",
      "\n"
     ]
    },
    {
     "name": "stderr",
     "output_type": "stream",
     "text": [
      "[I 2019-08-24 12:16:22,145] Finished trial#832 resulted in value: -0.7913496759650606. Current best value is -0.7944491406029868 with parameters: {'w_lr': 0.018735636670162738, 'w_sv': 0.609782869522277, 'w_xgb': 0.1257268888344056, 'w_lgbm': 0.10282314833705018, 'w_mlp': 0.6409335052733912}.\n"
     ]
    },
    {
     "name": "stdout",
     "output_type": "stream",
     "text": [
      "[w_lr, w_lda, w_sv, w_xgb, w_lgbm,w_cb ] =  [0.092 0.    0.66  0.151 0.042 0.    0.633]\n",
      "AUC all:  0.7855734009580164\n",
      "\n"
     ]
    },
    {
     "name": "stderr",
     "output_type": "stream",
     "text": [
      "[I 2019-08-24 12:16:23,299] Finished trial#833 resulted in value: -0.7855734009580164. Current best value is -0.7944491406029868 with parameters: {'w_lr': 0.018735636670162738, 'w_sv': 0.609782869522277, 'w_xgb': 0.1257268888344056, 'w_lgbm': 0.10282314833705018, 'w_mlp': 0.6409335052733912}.\n"
     ]
    },
    {
     "name": "stdout",
     "output_type": "stream",
     "text": [
      "[w_lr, w_lda, w_sv, w_xgb, w_lgbm,w_cb ] =  [0.034 0.    0.643 0.129 0.063 0.    0.016]\n",
      "AUC all:  0.7859960552268245\n",
      "\n"
     ]
    },
    {
     "name": "stderr",
     "output_type": "stream",
     "text": [
      "[I 2019-08-24 12:16:24,440] Finished trial#834 resulted in value: -0.7859960552268245. Current best value is -0.7944491406029868 with parameters: {'w_lr': 0.018735636670162738, 'w_sv': 0.609782869522277, 'w_xgb': 0.1257268888344056, 'w_lgbm': 0.10282314833705018, 'w_mlp': 0.6409335052733912}.\n"
     ]
    },
    {
     "name": "stdout",
     "output_type": "stream",
     "text": [
      "[w_lr, w_lda, w_sv, w_xgb, w_lgbm,w_cb ] =  [0.096 0.    0.622 0.194 0.112 0.    0.66 ]\n",
      "AUC all:  0.7907861369399831\n",
      "\n"
     ]
    },
    {
     "name": "stderr",
     "output_type": "stream",
     "text": [
      "[I 2019-08-24 12:16:25,590] Finished trial#835 resulted in value: -0.7907861369399831. Current best value is -0.7944491406029868 with parameters: {'w_lr': 0.018735636670162738, 'w_sv': 0.609782869522277, 'w_xgb': 0.1257268888344056, 'w_lgbm': 0.10282314833705018, 'w_mlp': 0.6409335052733912}.\n"
     ]
    },
    {
     "name": "stdout",
     "output_type": "stream",
     "text": [
      "[w_lr, w_lda, w_sv, w_xgb, w_lgbm,w_cb ] =  [0.018 0.    0.571 0.093 0.085 0.    0.616]\n",
      "AUC all:  0.7936038320653706\n",
      "\n"
     ]
    },
    {
     "name": "stderr",
     "output_type": "stream",
     "text": [
      "[I 2019-08-24 12:16:26,743] Finished trial#836 resulted in value: -0.7936038320653706. Current best value is -0.7944491406029868 with parameters: {'w_lr': 0.018735636670162738, 'w_sv': 0.609782869522277, 'w_xgb': 0.1257268888344056, 'w_lgbm': 0.10282314833705018, 'w_mlp': 0.6409335052733912}.\n"
     ]
    },
    {
     "name": "stdout",
     "output_type": "stream",
     "text": [
      "[w_lr, w_lda, w_sv, w_xgb, w_lgbm,w_cb ] =  [0.001 0.    0.533 0.052 0.001 0.    0.6  ]\n",
      "AUC all:  0.7792335869258946\n",
      "\n"
     ]
    },
    {
     "name": "stderr",
     "output_type": "stream",
     "text": [
      "[I 2019-08-24 12:16:27,880] Finished trial#837 resulted in value: -0.7792335869258946. Current best value is -0.7944491406029868 with parameters: {'w_lr': 0.018735636670162738, 'w_sv': 0.609782869522277, 'w_xgb': 0.1257268888344056, 'w_lgbm': 0.10282314833705018, 'w_mlp': 0.6409335052733912}.\n"
     ]
    },
    {
     "name": "stdout",
     "output_type": "stream",
     "text": [
      "[w_lr, w_lda, w_sv, w_xgb, w_lgbm,w_cb ] =  [0.021 0.    0.902 0.071 0.022 0.    0.61 ]\n",
      "AUC all:  0.7841645533953225\n",
      "\n"
     ]
    },
    {
     "name": "stderr",
     "output_type": "stream",
     "text": [
      "[I 2019-08-24 12:16:29,034] Finished trial#838 resulted in value: -0.7841645533953225. Current best value is -0.7944491406029868 with parameters: {'w_lr': 0.018735636670162738, 'w_sv': 0.609782869522277, 'w_xgb': 0.1257268888344056, 'w_lgbm': 0.10282314833705018, 'w_mlp': 0.6409335052733912}.\n"
     ]
    },
    {
     "name": "stdout",
     "output_type": "stream",
     "text": [
      "[w_lr, w_lda, w_sv, w_xgb, w_lgbm,w_cb ] =  [0.113 0.    0.619 0.121 0.064 0.    0.641]\n",
      "AUC all:  0.7893772893772895\n",
      "\n"
     ]
    },
    {
     "name": "stderr",
     "output_type": "stream",
     "text": [
      "[I 2019-08-24 12:16:30,185] Finished trial#839 resulted in value: -0.7893772893772895. Current best value is -0.7944491406029868 with parameters: {'w_lr': 0.018735636670162738, 'w_sv': 0.609782869522277, 'w_xgb': 0.1257268888344056, 'w_lgbm': 0.10282314833705018, 'w_mlp': 0.6409335052733912}.\n"
     ]
    },
    {
     "name": "stdout",
     "output_type": "stream",
     "text": [
      "[w_lr, w_lda, w_sv, w_xgb, w_lgbm,w_cb ] =  [0.037 0.    0.608 0.153 0.162 0.    0.649]\n",
      "AUC all:  0.7917723302338687\n",
      "\n"
     ]
    },
    {
     "name": "stderr",
     "output_type": "stream",
     "text": [
      "[I 2019-08-24 12:16:31,337] Finished trial#840 resulted in value: -0.7917723302338687. Current best value is -0.7944491406029868 with parameters: {'w_lr': 0.018735636670162738, 'w_sv': 0.609782869522277, 'w_xgb': 0.1257268888344056, 'w_lgbm': 0.10282314833705018, 'w_mlp': 0.6409335052733912}.\n"
     ]
    },
    {
     "name": "stdout",
     "output_type": "stream",
     "text": [
      "[w_lr, w_lda, w_sv, w_xgb, w_lgbm,w_cb ] =  [0.042 0.    0.648 0.132 0.096 0.    0.625]\n",
      "AUC all:  0.7937447168216398\n",
      "\n"
     ]
    },
    {
     "name": "stderr",
     "output_type": "stream",
     "text": [
      "[I 2019-08-24 12:16:32,506] Finished trial#841 resulted in value: -0.7937447168216398. Current best value is -0.7944491406029868 with parameters: {'w_lr': 0.018735636670162738, 'w_sv': 0.609782869522277, 'w_xgb': 0.1257268888344056, 'w_lgbm': 0.10282314833705018, 'w_mlp': 0.6409335052733912}.\n"
     ]
    },
    {
     "name": "stdout",
     "output_type": "stream",
     "text": [
      "[w_lr, w_lda, w_sv, w_xgb, w_lgbm,w_cb ] =  [0.044 0.    0.563 0.011 0.044 0.    0.578]\n",
      "AUC all:  0.7924767540152156\n",
      "\n"
     ]
    },
    {
     "name": "stderr",
     "output_type": "stream",
     "text": [
      "[I 2019-08-24 12:16:33,668] Finished trial#842 resulted in value: -0.7924767540152156. Current best value is -0.7944491406029868 with parameters: {'w_lr': 0.018735636670162738, 'w_sv': 0.609782869522277, 'w_xgb': 0.1257268888344056, 'w_lgbm': 0.10282314833705018, 'w_mlp': 0.6409335052733912}.\n"
     ]
    },
    {
     "name": "stdout",
     "output_type": "stream",
     "text": [
      "[w_lr, w_lda, w_sv, w_xgb, w_lgbm,w_cb ] =  [0.065 0.    0.627 0.104 0.114 0.    0.623]\n",
      "AUC all:  0.792617638771485\n",
      "\n"
     ]
    },
    {
     "name": "stderr",
     "output_type": "stream",
     "text": [
      "[I 2019-08-24 12:16:34,834] Finished trial#843 resulted in value: -0.792617638771485. Current best value is -0.7944491406029868 with parameters: {'w_lr': 0.018735636670162738, 'w_sv': 0.609782869522277, 'w_xgb': 0.1257268888344056, 'w_lgbm': 0.10282314833705018, 'w_mlp': 0.6409335052733912}.\n"
     ]
    },
    {
     "name": "stdout",
     "output_type": "stream",
     "text": [
      "[w_lr, w_lda, w_sv, w_xgb, w_lgbm,w_cb ] =  [0.046 0.    0.662 0.167 0.078 0.    0.594]\n",
      "AUC all:  0.7897999436460975\n",
      "\n"
     ]
    },
    {
     "name": "stderr",
     "output_type": "stream",
     "text": [
      "[I 2019-08-24 12:16:35,992] Finished trial#844 resulted in value: -0.7897999436460975. Current best value is -0.7944491406029868 with parameters: {'w_lr': 0.018735636670162738, 'w_sv': 0.609782869522277, 'w_xgb': 0.1257268888344056, 'w_lgbm': 0.10282314833705018, 'w_mlp': 0.6409335052733912}.\n"
     ]
    },
    {
     "name": "stdout",
     "output_type": "stream",
     "text": [
      "[w_lr, w_lda, w_sv, w_xgb, w_lgbm,w_cb ] =  [0.069 0.    0.599 0.107 0.09  0.    0.548]\n",
      "AUC all:  0.7938856015779092\n",
      "\n"
     ]
    },
    {
     "name": "stderr",
     "output_type": "stream",
     "text": [
      "[I 2019-08-24 12:16:37,171] Finished trial#845 resulted in value: -0.7938856015779092. Current best value is -0.7944491406029868 with parameters: {'w_lr': 0.018735636670162738, 'w_sv': 0.609782869522277, 'w_xgb': 0.1257268888344056, 'w_lgbm': 0.10282314833705018, 'w_mlp': 0.6409335052733912}.\n"
     ]
    },
    {
     "name": "stdout",
     "output_type": "stream",
     "text": [
      "[w_lr, w_lda, w_sv, w_xgb, w_lgbm,w_cb ] =  [0.072 0.    0.698 0.141 0.085 0.    0.52 ]\n",
      "AUC all:  0.7914905607213298\n",
      "\n"
     ]
    },
    {
     "name": "stderr",
     "output_type": "stream",
     "text": [
      "[I 2019-08-24 12:16:38,332] Finished trial#846 resulted in value: -0.7914905607213298. Current best value is -0.7944491406029868 with parameters: {'w_lr': 0.018735636670162738, 'w_sv': 0.609782869522277, 'w_xgb': 0.1257268888344056, 'w_lgbm': 0.10282314833705018, 'w_mlp': 0.6409335052733912}.\n"
     ]
    },
    {
     "name": "stdout",
     "output_type": "stream",
     "text": [
      "[w_lr, w_lda, w_sv, w_xgb, w_lgbm,w_cb ] =  [0.071 0.    0.462 0.081 0.058 0.    0.538]\n",
      "AUC all:  0.7900817131586363\n",
      "\n"
     ]
    },
    {
     "name": "stderr",
     "output_type": "stream",
     "text": [
      "[I 2019-08-24 12:16:39,489] Finished trial#847 resulted in value: -0.7900817131586363. Current best value is -0.7944491406029868 with parameters: {'w_lr': 0.018735636670162738, 'w_sv': 0.609782869522277, 'w_xgb': 0.1257268888344056, 'w_lgbm': 0.10282314833705018, 'w_mlp': 0.6409335052733912}.\n"
     ]
    },
    {
     "name": "stdout",
     "output_type": "stream",
     "text": [
      "[w_lr, w_lda, w_sv, w_xgb, w_lgbm,w_cb ] =  [0.047 0.    0.573 0.094 0.099 0.    0.528]\n",
      "AUC all:  0.793040293040293\n",
      "\n"
     ]
    },
    {
     "name": "stderr",
     "output_type": "stream",
     "text": [
      "[I 2019-08-24 12:16:40,657] Finished trial#848 resulted in value: -0.793040293040293. Current best value is -0.7944491406029868 with parameters: {'w_lr': 0.018735636670162738, 'w_sv': 0.609782869522277, 'w_xgb': 0.1257268888344056, 'w_lgbm': 0.10282314833705018, 'w_mlp': 0.6409335052733912}.\n"
     ]
    },
    {
     "name": "stdout",
     "output_type": "stream",
     "text": [
      "[w_lr, w_lda, w_sv, w_xgb, w_lgbm,w_cb ] =  [0.033 0.    0.591 0.113 0.064 0.    0.557]\n",
      "AUC all:  0.7909270216962524\n",
      "\n"
     ]
    },
    {
     "name": "stderr",
     "output_type": "stream",
     "text": [
      "[I 2019-08-24 12:16:41,827] Finished trial#849 resulted in value: -0.7909270216962524. Current best value is -0.7944491406029868 with parameters: {'w_lr': 0.018735636670162738, 'w_sv': 0.609782869522277, 'w_xgb': 0.1257268888344056, 'w_lgbm': 0.10282314833705018, 'w_mlp': 0.6409335052733912}.\n"
     ]
    },
    {
     "name": "stdout",
     "output_type": "stream",
     "text": [
      "[w_lr, w_lda, w_sv, w_xgb, w_lgbm,w_cb ] =  [0.019 0.    0.53  0.036 0.073 0.    0.56 ]\n",
      "AUC all:  0.7921949845026769\n",
      "\n"
     ]
    },
    {
     "name": "stderr",
     "output_type": "stream",
     "text": [
      "[I 2019-08-24 12:16:42,988] Finished trial#850 resulted in value: -0.7921949845026769. Current best value is -0.7944491406029868 with parameters: {'w_lr': 0.018735636670162738, 'w_sv': 0.609782869522277, 'w_xgb': 0.1257268888344056, 'w_lgbm': 0.10282314833705018, 'w_mlp': 0.6409335052733912}.\n"
     ]
    },
    {
     "name": "stdout",
     "output_type": "stream",
     "text": [
      "[w_lr, w_lda, w_sv, w_xgb, w_lgbm,w_cb ] =  [0.057 0.    0.57  0.064 0.033 0.    0.56 ]\n",
      "AUC all:  0.7883910960834037\n",
      "\n"
     ]
    },
    {
     "name": "stderr",
     "output_type": "stream",
     "text": [
      "[I 2019-08-24 12:16:44,154] Finished trial#851 resulted in value: -0.7883910960834037. Current best value is -0.7944491406029868 with parameters: {'w_lr': 0.018735636670162738, 'w_sv': 0.609782869522277, 'w_xgb': 0.1257268888344056, 'w_lgbm': 0.10282314833705018, 'w_mlp': 0.6409335052733912}.\n"
     ]
    },
    {
     "name": "stdout",
     "output_type": "stream",
     "text": [
      "[w_lr, w_lda, w_sv, w_xgb, w_lgbm,w_cb ] =  [0.043 0.    0.964 0.129 0.1   0.    0.545]\n",
      "AUC all:  0.791913214990138\n",
      "\n"
     ]
    },
    {
     "name": "stderr",
     "output_type": "stream",
     "text": [
      "[I 2019-08-24 12:16:45,331] Finished trial#852 resulted in value: -0.791913214990138. Current best value is -0.7944491406029868 with parameters: {'w_lr': 0.018735636670162738, 'w_sv': 0.609782869522277, 'w_xgb': 0.1257268888344056, 'w_lgbm': 0.10282314833705018, 'w_mlp': 0.6409335052733912}.\n"
     ]
    },
    {
     "name": "stdout",
     "output_type": "stream",
     "text": [
      "[w_lr, w_lda, w_sv, w_xgb, w_lgbm,w_cb ] =  [0.101 0.    0.599 0.094 0.115 0.    0.575]\n",
      "AUC all:  0.791913214990138\n",
      "\n"
     ]
    },
    {
     "name": "stderr",
     "output_type": "stream",
     "text": [
      "[I 2019-08-24 12:16:46,501] Finished trial#853 resulted in value: -0.791913214990138. Current best value is -0.7944491406029868 with parameters: {'w_lr': 0.018735636670162738, 'w_sv': 0.609782869522277, 'w_xgb': 0.1257268888344056, 'w_lgbm': 0.10282314833705018, 'w_mlp': 0.6409335052733912}.\n"
     ]
    },
    {
     "name": "stdout",
     "output_type": "stream",
     "text": [
      "[w_lr, w_lda, w_sv, w_xgb, w_lgbm,w_cb ] =  [0.081 0.    0.65  0.111 0.054 0.    0.48 ]\n",
      "AUC all:  0.7909270216962525\n",
      "\n"
     ]
    },
    {
     "name": "stderr",
     "output_type": "stream",
     "text": [
      "[I 2019-08-24 12:16:47,663] Finished trial#854 resulted in value: -0.7909270216962525. Current best value is -0.7944491406029868 with parameters: {'w_lr': 0.018735636670162738, 'w_sv': 0.609782869522277, 'w_xgb': 0.1257268888344056, 'w_lgbm': 0.10282314833705018, 'w_mlp': 0.6409335052733912}.\n"
     ]
    },
    {
     "name": "stdout",
     "output_type": "stream",
     "text": [
      "[w_lr, w_lda, w_sv, w_xgb, w_lgbm,w_cb ] =  [0.096 0.    0.608 0.077 0.083 0.    0.504]\n",
      "AUC all:  0.7921949845026768\n",
      "\n"
     ]
    },
    {
     "name": "stderr",
     "output_type": "stream",
     "text": [
      "[I 2019-08-24 12:16:48,861] Finished trial#855 resulted in value: -0.7921949845026768. Current best value is -0.7944491406029868 with parameters: {'w_lr': 0.018735636670162738, 'w_sv': 0.609782869522277, 'w_xgb': 0.1257268888344056, 'w_lgbm': 0.10282314833705018, 'w_mlp': 0.6409335052733912}.\n"
     ]
    },
    {
     "name": "stdout",
     "output_type": "stream",
     "text": [
      "[w_lr, w_lda, w_sv, w_xgb, w_lgbm,w_cb ] =  [0.018 0.    0.792 0.139 0.101 0.    0.708]\n",
      "AUC all:  0.7928994082840237\n",
      "\n"
     ]
    },
    {
     "name": "stderr",
     "output_type": "stream",
     "text": [
      "[I 2019-08-24 12:16:50,036] Finished trial#856 resulted in value: -0.7928994082840237. Current best value is -0.7944491406029868 with parameters: {'w_lr': 0.018735636670162738, 'w_sv': 0.609782869522277, 'w_xgb': 0.1257268888344056, 'w_lgbm': 0.10282314833705018, 'w_mlp': 0.6409335052733912}.\n"
     ]
    },
    {
     "name": "stdout",
     "output_type": "stream",
     "text": [
      "[w_lr, w_lda, w_sv, w_xgb, w_lgbm,w_cb ] =  [0.065 0.    0.673 0.171 0.131 0.    0.517]\n",
      "AUC all:  0.7905043674274443\n",
      "\n"
     ]
    },
    {
     "name": "stderr",
     "output_type": "stream",
     "text": [
      "[I 2019-08-24 12:16:51,224] Finished trial#857 resulted in value: -0.7905043674274443. Current best value is -0.7944491406029868 with parameters: {'w_lr': 0.018735636670162738, 'w_sv': 0.609782869522277, 'w_xgb': 0.1257268888344056, 'w_lgbm': 0.10282314833705018, 'w_mlp': 0.6409335052733912}.\n"
     ]
    },
    {
     "name": "stdout",
     "output_type": "stream",
     "text": [
      "[w_lr, w_lda, w_sv, w_xgb, w_lgbm,w_cb ] =  [0.091 0.    0.592 0.105 0.078 0.    0.528]\n",
      "AUC all:  0.7931811777965623\n",
      "\n"
     ]
    },
    {
     "name": "stderr",
     "output_type": "stream",
     "text": [
      "[I 2019-08-24 12:16:52,419] Finished trial#858 resulted in value: -0.7931811777965623. Current best value is -0.7944491406029868 with parameters: {'w_lr': 0.018735636670162738, 'w_sv': 0.609782869522277, 'w_xgb': 0.1257268888344056, 'w_lgbm': 0.10282314833705018, 'w_mlp': 0.6409335052733912}.\n"
     ]
    },
    {
     "name": "stdout",
     "output_type": "stream",
     "text": [
      "[w_lr, w_lda, w_sv, w_xgb, w_lgbm,w_cb ] =  [0.057 0.    0.666 0.152 0.093 0.    0.504]\n",
      "AUC all:  0.79149056072133\n",
      "\n"
     ]
    },
    {
     "name": "stderr",
     "output_type": "stream",
     "text": [
      "[I 2019-08-24 12:16:53,621] Finished trial#859 resulted in value: -0.79149056072133. Current best value is -0.7944491406029868 with parameters: {'w_lr': 0.018735636670162738, 'w_sv': 0.609782869522277, 'w_xgb': 0.1257268888344056, 'w_lgbm': 0.10282314833705018, 'w_mlp': 0.6409335052733912}.\n"
     ]
    },
    {
     "name": "stdout",
     "output_type": "stream",
     "text": [
      "[w_lr, w_lda, w_sv, w_xgb, w_lgbm,w_cb ] =  [0.073 0.    0.65  0.13  0.047 0.    0.591]\n",
      "AUC all:  0.7864187094956326\n",
      "\n"
     ]
    },
    {
     "name": "stderr",
     "output_type": "stream",
     "text": [
      "[I 2019-08-24 12:16:54,798] Finished trial#860 resulted in value: -0.7864187094956326. Current best value is -0.7944491406029868 with parameters: {'w_lr': 0.018735636670162738, 'w_sv': 0.609782869522277, 'w_xgb': 0.1257268888344056, 'w_lgbm': 0.10282314833705018, 'w_mlp': 0.6409335052733912}.\n"
     ]
    },
    {
     "name": "stdout",
     "output_type": "stream",
     "text": [
      "[w_lr, w_lda, w_sv, w_xgb, w_lgbm,w_cb ] =  [0.106 0.    0.613 0.087 0.115 0.    0.61 ]\n",
      "AUC all:  0.79149056072133\n",
      "\n"
     ]
    },
    {
     "name": "stderr",
     "output_type": "stream",
     "text": [
      "[I 2019-08-24 12:16:56,001] Finished trial#861 resulted in value: -0.79149056072133. Current best value is -0.7944491406029868 with parameters: {'w_lr': 0.018735636670162738, 'w_sv': 0.609782869522277, 'w_xgb': 0.1257268888344056, 'w_lgbm': 0.10282314833705018, 'w_mlp': 0.6409335052733912}.\n"
     ]
    },
    {
     "name": "stdout",
     "output_type": "stream",
     "text": [
      "[w_lr, w_lda, w_sv, w_xgb, w_lgbm,w_cb ] =  [0.074 0.    0.642 0.12  0.073 0.    0.49 ]\n",
      "AUC all:  0.7920540997464075\n",
      "\n"
     ]
    },
    {
     "name": "stderr",
     "output_type": "stream",
     "text": [
      "[I 2019-08-24 12:16:57,191] Finished trial#862 resulted in value: -0.7920540997464075. Current best value is -0.7944491406029868 with parameters: {'w_lr': 0.018735636670162738, 'w_sv': 0.609782869522277, 'w_xgb': 0.1257268888344056, 'w_lgbm': 0.10282314833705018, 'w_mlp': 0.6409335052733912}.\n"
     ]
    },
    {
     "name": "stdout",
     "output_type": "stream",
     "text": [
      "[w_lr, w_lda, w_sv, w_xgb, w_lgbm,w_cb ] =  [0.856 0.    0.706 0.151 0.135 0.    0.549]\n",
      "AUC all:  0.7917723302338687\n",
      "\n"
     ]
    },
    {
     "name": "stderr",
     "output_type": "stream",
     "text": [
      "[I 2019-08-24 12:16:58,378] Finished trial#863 resulted in value: -0.7917723302338687. Current best value is -0.7944491406029868 with parameters: {'w_lr': 0.018735636670162738, 'w_sv': 0.609782869522277, 'w_xgb': 0.1257268888344056, 'w_lgbm': 0.10282314833705018, 'w_mlp': 0.6409335052733912}.\n"
     ]
    },
    {
     "name": "stdout",
     "output_type": "stream",
     "text": [
      "[w_lr, w_lda, w_sv, w_xgb, w_lgbm,w_cb ] =  [0.245 0.    0.591 0.284 0.094 0.    0.579]\n",
      "AUC all:  0.7885319808396731\n",
      "\n"
     ]
    },
    {
     "name": "stderr",
     "output_type": "stream",
     "text": [
      "[I 2019-08-24 12:16:59,565] Finished trial#864 resulted in value: -0.7885319808396731. Current best value is -0.7944491406029868 with parameters: {'w_lr': 0.018735636670162738, 'w_sv': 0.609782869522277, 'w_xgb': 0.1257268888344056, 'w_lgbm': 0.10282314833705018, 'w_mlp': 0.6409335052733912}.\n"
     ]
    },
    {
     "name": "stdout",
     "output_type": "stream",
     "text": [
      "[w_lr, w_lda, w_sv, w_xgb, w_lgbm,w_cb ] =  [0.058 0.    0.627 0.196 0.104 0.    0.596]\n",
      "AUC all:  0.7902225979149057\n",
      "\n"
     ]
    },
    {
     "name": "stderr",
     "output_type": "stream",
     "text": [
      "[I 2019-08-24 12:17:00,745] Finished trial#865 resulted in value: -0.7902225979149057. Current best value is -0.7944491406029868 with parameters: {'w_lr': 0.018735636670162738, 'w_sv': 0.609782869522277, 'w_xgb': 0.1257268888344056, 'w_lgbm': 0.10282314833705018, 'w_mlp': 0.6409335052733912}.\n"
     ]
    },
    {
     "name": "stdout",
     "output_type": "stream",
     "text": [
      "[w_lr, w_lda, w_sv, w_xgb, w_lgbm,w_cb ] =  [0.043 0.    0.634 0.11  0.063 0.    0.445]\n",
      "AUC all:  0.7909270216962525\n",
      "\n"
     ]
    },
    {
     "name": "stderr",
     "output_type": "stream",
     "text": [
      "[I 2019-08-24 12:17:01,936] Finished trial#866 resulted in value: -0.7909270216962525. Current best value is -0.7944491406029868 with parameters: {'w_lr': 0.018735636670162738, 'w_sv': 0.609782869522277, 'w_xgb': 0.1257268888344056, 'w_lgbm': 0.10282314833705018, 'w_mlp': 0.6409335052733912}.\n"
     ]
    },
    {
     "name": "stdout",
     "output_type": "stream",
     "text": [
      "[w_lr, w_lda, w_sv, w_xgb, w_lgbm,w_cb ] =  [0.001 0.    0.865 0.062 0.02  0.    0.569]\n",
      "AUC all:  0.7844463229078613\n",
      "\n"
     ]
    },
    {
     "name": "stderr",
     "output_type": "stream",
     "text": [
      "[I 2019-08-24 12:17:03,147] Finished trial#867 resulted in value: -0.7844463229078613. Current best value is -0.7944491406029868 with parameters: {'w_lr': 0.018735636670162738, 'w_sv': 0.609782869522277, 'w_xgb': 0.1257268888344056, 'w_lgbm': 0.10282314833705018, 'w_mlp': 0.6409335052733912}.\n"
     ]
    },
    {
     "name": "stdout",
     "output_type": "stream",
     "text": [
      "[w_lr, w_lda, w_sv, w_xgb, w_lgbm,w_cb ] =  [0.021 0.    0.503 0.037 0.042 0.    0.621]\n",
      "AUC all:  0.790786136939983\n",
      "\n"
     ]
    },
    {
     "name": "stderr",
     "output_type": "stream",
     "text": [
      "[I 2019-08-24 12:17:04,344] Finished trial#868 resulted in value: -0.790786136939983. Current best value is -0.7944491406029868 with parameters: {'w_lr': 0.018735636670162738, 'w_sv': 0.609782869522277, 'w_xgb': 0.1257268888344056, 'w_lgbm': 0.10282314833705018, 'w_mlp': 0.6409335052733912}.\n"
     ]
    },
    {
     "name": "stdout",
     "output_type": "stream",
     "text": [
      "[w_lr, w_lda, w_sv, w_xgb, w_lgbm,w_cb ] =  [0.08  0.    0.554 0.495 0.117 0.    0.651]\n",
      "AUC all:  0.7847280924204001\n",
      "\n"
     ]
    },
    {
     "name": "stderr",
     "output_type": "stream",
     "text": [
      "[I 2019-08-24 12:17:05,538] Finished trial#869 resulted in value: -0.7847280924204001. Current best value is -0.7944491406029868 with parameters: {'w_lr': 0.018735636670162738, 'w_sv': 0.609782869522277, 'w_xgb': 0.1257268888344056, 'w_lgbm': 0.10282314833705018, 'w_mlp': 0.6409335052733912}.\n"
     ]
    },
    {
     "name": "stdout",
     "output_type": "stream",
     "text": [
      "[w_lr, w_lda, w_sv, w_xgb, w_lgbm,w_cb ] =  [0.113 0.    0.58  0.099 0.086 0.    0.59 ]\n",
      "AUC all:  0.7927585235277541\n",
      "\n"
     ]
    },
    {
     "name": "stderr",
     "output_type": "stream",
     "text": [
      "[I 2019-08-24 12:17:06,731] Finished trial#870 resulted in value: -0.7927585235277541. Current best value is -0.7944491406029868 with parameters: {'w_lr': 0.018735636670162738, 'w_sv': 0.609782869522277, 'w_xgb': 0.1257268888344056, 'w_lgbm': 0.10282314833705018, 'w_mlp': 0.6409335052733912}.\n"
     ]
    },
    {
     "name": "stdout",
     "output_type": "stream",
     "text": [
      "[w_lr, w_lda, w_sv, w_xgb, w_lgbm,w_cb ] =  [0.032 0.    0.538 0.08  0.072 0.    0.618]\n",
      "AUC all:  0.79149056072133\n",
      "\n"
     ]
    },
    {
     "name": "stderr",
     "output_type": "stream",
     "text": [
      "[I 2019-08-24 12:17:07,946] Finished trial#871 resulted in value: -0.79149056072133. Current best value is -0.7944491406029868 with parameters: {'w_lr': 0.018735636670162738, 'w_sv': 0.609782869522277, 'w_xgb': 0.1257268888344056, 'w_lgbm': 0.10282314833705018, 'w_mlp': 0.6409335052733912}.\n"
     ]
    },
    {
     "name": "stdout",
     "output_type": "stream",
     "text": [
      "[w_lr, w_lda, w_sv, w_xgb, w_lgbm,w_cb ] =  [0.063 0.    0.623 0.228 0.096 0.    0.635]\n",
      "AUC all:  0.7895181741335586\n",
      "\n"
     ]
    },
    {
     "name": "stderr",
     "output_type": "stream",
     "text": [
      "[I 2019-08-24 12:17:09,142] Finished trial#872 resulted in value: -0.7895181741335586. Current best value is -0.7944491406029868 with parameters: {'w_lr': 0.018735636670162738, 'w_sv': 0.609782869522277, 'w_xgb': 0.1257268888344056, 'w_lgbm': 0.10282314833705018, 'w_mlp': 0.6409335052733912}.\n"
     ]
    },
    {
     "name": "stdout",
     "output_type": "stream",
     "text": [
      "[w_lr, w_lda, w_sv, w_xgb, w_lgbm,w_cb ] =  [0.018 0.    0.559 0.128 0.12  0.    0.694]\n",
      "AUC all:  0.7931811777965624\n",
      "\n"
     ]
    },
    {
     "name": "stderr",
     "output_type": "stream",
     "text": [
      "[I 2019-08-24 12:17:10,358] Finished trial#873 resulted in value: -0.7931811777965624. Current best value is -0.7944491406029868 with parameters: {'w_lr': 0.018735636670162738, 'w_sv': 0.609782869522277, 'w_xgb': 0.1257268888344056, 'w_lgbm': 0.10282314833705018, 'w_mlp': 0.6409335052733912}.\n"
     ]
    },
    {
     "name": "stdout",
     "output_type": "stream",
     "text": [
      "[w_lr, w_lda, w_sv, w_xgb, w_lgbm,w_cb ] =  [0.084 0.    0.656 0.133 0.084 0.    0.606]\n",
      "AUC all:  0.7912087912087911\n",
      "\n"
     ]
    },
    {
     "name": "stderr",
     "output_type": "stream",
     "text": [
      "[I 2019-08-24 12:17:11,548] Finished trial#874 resulted in value: -0.7912087912087911. Current best value is -0.7944491406029868 with parameters: {'w_lr': 0.018735636670162738, 'w_sv': 0.609782869522277, 'w_xgb': 0.1257268888344056, 'w_lgbm': 0.10282314833705018, 'w_mlp': 0.6409335052733912}.\n"
     ]
    },
    {
     "name": "stdout",
     "output_type": "stream",
     "text": [
      "[w_lr, w_lda, w_sv, w_xgb, w_lgbm,w_cb ] =  [0.    0.    0.567 0.668 0.062 0.    0.548]\n",
      "AUC all:  0.7764158918005072\n",
      "\n"
     ]
    },
    {
     "name": "stderr",
     "output_type": "stream",
     "text": [
      "[I 2019-08-24 12:17:12,747] Finished trial#875 resulted in value: -0.7764158918005072. Current best value is -0.7944491406029868 with parameters: {'w_lr': 0.018735636670162738, 'w_sv': 0.609782869522277, 'w_xgb': 0.1257268888344056, 'w_lgbm': 0.10282314833705018, 'w_mlp': 0.6409335052733912}.\n"
     ]
    },
    {
     "name": "stdout",
     "output_type": "stream",
     "text": [
      "[w_lr, w_lda, w_sv, w_xgb, w_lgbm,w_cb ] =  [0.037 0.    0.634 0.173 0.138 0.    0.641]\n",
      "AUC all:  0.792617638771485\n",
      "\n"
     ]
    },
    {
     "name": "stderr",
     "output_type": "stream",
     "text": [
      "[I 2019-08-24 12:17:13,976] Finished trial#876 resulted in value: -0.792617638771485. Current best value is -0.7944491406029868 with parameters: {'w_lr': 0.018735636670162738, 'w_sv': 0.609782869522277, 'w_xgb': 0.1257268888344056, 'w_lgbm': 0.10282314833705018, 'w_mlp': 0.6409335052733912}.\n"
     ]
    },
    {
     "name": "stdout",
     "output_type": "stream",
     "text": [
      "[w_lr, w_lda, w_sv, w_xgb, w_lgbm,w_cb ] =  [0.108 0.    0.601 0.11  0.112 0.    0.669]\n",
      "AUC all:  0.7927585235277543\n",
      "\n"
     ]
    },
    {
     "name": "stderr",
     "output_type": "stream",
     "text": [
      "[I 2019-08-24 12:17:15,200] Finished trial#877 resulted in value: -0.7927585235277543. Current best value is -0.7944491406029868 with parameters: {'w_lr': 0.018735636670162738, 'w_sv': 0.609782869522277, 'w_xgb': 0.1257268888344056, 'w_lgbm': 0.10282314833705018, 'w_mlp': 0.6409335052733912}.\n"
     ]
    },
    {
     "name": "stdout",
     "output_type": "stream",
     "text": [
      "[w_lr, w_lda, w_sv, w_xgb, w_lgbm,w_cb ] =  [0.043 0.    0.619 0.151 0.128 0.    0.046]\n",
      "AUC all:  0.7813468582699352\n",
      "\n"
     ]
    },
    {
     "name": "stderr",
     "output_type": "stream",
     "text": [
      "[I 2019-08-24 12:17:16,411] Finished trial#878 resulted in value: -0.7813468582699352. Current best value is -0.7944491406029868 with parameters: {'w_lr': 0.018735636670162738, 'w_sv': 0.609782869522277, 'w_xgb': 0.1257268888344056, 'w_lgbm': 0.10282314833705018, 'w_mlp': 0.6409335052733912}.\n"
     ]
    },
    {
     "name": "stdout",
     "output_type": "stream",
     "text": [
      "[w_lr, w_lda, w_sv, w_xgb, w_lgbm,w_cb ] =  [0.075 0.    0.609 0.089 0.093 0.    0.598]\n",
      "AUC all:  0.7928994082840237\n",
      "\n"
     ]
    },
    {
     "name": "stderr",
     "output_type": "stream",
     "text": [
      "[I 2019-08-24 12:17:17,624] Finished trial#879 resulted in value: -0.7928994082840237. Current best value is -0.7944491406029868 with parameters: {'w_lr': 0.018735636670162738, 'w_sv': 0.609782869522277, 'w_xgb': 0.1257268888344056, 'w_lgbm': 0.10282314833705018, 'w_mlp': 0.6409335052733912}.\n"
     ]
    },
    {
     "name": "stdout",
     "output_type": "stream",
     "text": [
      "[w_lr, w_lda, w_sv, w_xgb, w_lgbm,w_cb ] =  [0.032 0.    0.638 0.142 0.144 0.    0.625]\n",
      "AUC all:  0.7917723302338686\n",
      "\n"
     ]
    },
    {
     "name": "stderr",
     "output_type": "stream",
     "text": [
      "[I 2019-08-24 12:17:18,828] Finished trial#880 resulted in value: -0.7917723302338686. Current best value is -0.7944491406029868 with parameters: {'w_lr': 0.018735636670162738, 'w_sv': 0.609782869522277, 'w_xgb': 0.1257268888344056, 'w_lgbm': 0.10282314833705018, 'w_mlp': 0.6409335052733912}.\n"
     ]
    },
    {
     "name": "stdout",
     "output_type": "stream",
     "text": [
      "[w_lr, w_lda, w_sv, w_xgb, w_lgbm,w_cb ] =  [0.051 0.    0.587 0.125 0.108 0.    0.624]\n",
      "AUC all:  0.7931811777965624\n",
      "\n"
     ]
    },
    {
     "name": "stderr",
     "output_type": "stream",
     "text": [
      "[I 2019-08-24 12:17:20,021] Finished trial#881 resulted in value: -0.7931811777965624. Current best value is -0.7944491406029868 with parameters: {'w_lr': 0.018735636670162738, 'w_sv': 0.609782869522277, 'w_xgb': 0.1257268888344056, 'w_lgbm': 0.10282314833705018, 'w_mlp': 0.6409335052733912}.\n"
     ]
    },
    {
     "name": "stdout",
     "output_type": "stream",
     "text": [
      "[w_lr, w_lda, w_sv, w_xgb, w_lgbm,w_cb ] =  [0.03  0.    0.619 0.158 0.074 0.    0.646]\n",
      "AUC all:  0.790363482671175\n",
      "\n"
     ]
    },
    {
     "name": "stderr",
     "output_type": "stream",
     "text": [
      "[I 2019-08-24 12:17:21,233] Finished trial#882 resulted in value: -0.790363482671175. Current best value is -0.7944491406029868 with parameters: {'w_lr': 0.018735636670162738, 'w_sv': 0.609782869522277, 'w_xgb': 0.1257268888344056, 'w_lgbm': 0.10282314833705018, 'w_mlp': 0.6409335052733912}.\n"
     ]
    },
    {
     "name": "stdout",
     "output_type": "stream",
     "text": [
      "[w_lr, w_lda, w_sv, w_xgb, w_lgbm,w_cb ] =  [0.019 0.    0.518 0.061 0.037 0.    0.582]\n",
      "AUC all:  0.788531980839673\n",
      "\n"
     ]
    },
    {
     "name": "stderr",
     "output_type": "stream",
     "text": [
      "[I 2019-08-24 12:17:22,444] Finished trial#883 resulted in value: -0.788531980839673. Current best value is -0.7944491406029868 with parameters: {'w_lr': 0.018735636670162738, 'w_sv': 0.609782869522277, 'w_xgb': 0.1257268888344056, 'w_lgbm': 0.10282314833705018, 'w_mlp': 0.6409335052733912}.\n"
     ]
    },
    {
     "name": "stdout",
     "output_type": "stream",
     "text": [
      "[w_lr, w_lda, w_sv, w_xgb, w_lgbm,w_cb ] =  [0.    0.    0.578 0.103 0.121 0.    0.727]\n",
      "AUC all:  0.7927585235277543\n",
      "\n"
     ]
    },
    {
     "name": "stderr",
     "output_type": "stream",
     "text": [
      "[I 2019-08-24 12:17:23,659] Finished trial#884 resulted in value: -0.7927585235277543. Current best value is -0.7944491406029868 with parameters: {'w_lr': 0.018735636670162738, 'w_sv': 0.609782869522277, 'w_xgb': 0.1257268888344056, 'w_lgbm': 0.10282314833705018, 'w_mlp': 0.6409335052733912}.\n"
     ]
    },
    {
     "name": "stdout",
     "output_type": "stream",
     "text": [
      "[w_lr, w_lda, w_sv, w_xgb, w_lgbm,w_cb ] =  [0.06  0.    0.681 0.177 0.093 0.    0.683]\n",
      "AUC all:  0.790363482671175\n",
      "\n"
     ]
    },
    {
     "name": "stderr",
     "output_type": "stream",
     "text": [
      "[I 2019-08-24 12:17:24,874] Finished trial#885 resulted in value: -0.790363482671175. Current best value is -0.7944491406029868 with parameters: {'w_lr': 0.018735636670162738, 'w_sv': 0.609782869522277, 'w_xgb': 0.1257268888344056, 'w_lgbm': 0.10282314833705018, 'w_mlp': 0.6409335052733912}.\n"
     ]
    },
    {
     "name": "stdout",
     "output_type": "stream",
     "text": [
      "[w_lr, w_lda, w_sv, w_xgb, w_lgbm,w_cb ] =  [0.09  0.    0.594 0.118 0.103 0.    0.664]\n",
      "AUC all:  0.7934629473091013\n",
      "\n"
     ]
    },
    {
     "name": "stderr",
     "output_type": "stream",
     "text": [
      "[I 2019-08-24 12:17:26,101] Finished trial#886 resulted in value: -0.7934629473091013. Current best value is -0.7944491406029868 with parameters: {'w_lr': 0.018735636670162738, 'w_sv': 0.609782869522277, 'w_xgb': 0.1257268888344056, 'w_lgbm': 0.10282314833705018, 'w_mlp': 0.6409335052733912}.\n"
     ]
    },
    {
     "name": "stdout",
     "output_type": "stream",
     "text": [
      "[w_lr, w_lda, w_sv, w_xgb, w_lgbm,w_cb ] =  [0.018 0.    0.58  0.067 0.052 0.    0.608]\n",
      "AUC all:  0.7906452521837137\n",
      "\n"
     ]
    },
    {
     "name": "stderr",
     "output_type": "stream",
     "text": [
      "[I 2019-08-24 12:17:27,327] Finished trial#887 resulted in value: -0.7906452521837137. Current best value is -0.7944491406029868 with parameters: {'w_lr': 0.018735636670162738, 'w_sv': 0.609782869522277, 'w_xgb': 0.1257268888344056, 'w_lgbm': 0.10282314833705018, 'w_mlp': 0.6409335052733912}.\n"
     ]
    },
    {
     "name": "stdout",
     "output_type": "stream",
     "text": [
      "[w_lr, w_lda, w_sv, w_xgb, w_lgbm,w_cb ] =  [0.058 0.    0.7   0.138 0.148 0.    0.678]\n",
      "AUC all:  0.7923358692589462\n",
      "\n"
     ]
    },
    {
     "name": "stderr",
     "output_type": "stream",
     "text": [
      "[I 2019-08-24 12:17:28,547] Finished trial#888 resulted in value: -0.7923358692589462. Current best value is -0.7944491406029868 with parameters: {'w_lr': 0.018735636670162738, 'w_sv': 0.609782869522277, 'w_xgb': 0.1257268888344056, 'w_lgbm': 0.10282314833705018, 'w_mlp': 0.6409335052733912}.\n"
     ]
    },
    {
     "name": "stdout",
     "output_type": "stream",
     "text": [
      "[w_lr, w_lda, w_sv, w_xgb, w_lgbm,w_cb ] =  [0.067 0.    0.629 0.161 0.076 0.    0.637]\n",
      "AUC all:  0.7900817131586363\n",
      "\n"
     ]
    },
    {
     "name": "stderr",
     "output_type": "stream",
     "text": [
      "[I 2019-08-24 12:17:29,776] Finished trial#889 resulted in value: -0.7900817131586363. Current best value is -0.7944491406029868 with parameters: {'w_lr': 0.018735636670162738, 'w_sv': 0.609782869522277, 'w_xgb': 0.1257268888344056, 'w_lgbm': 0.10282314833705018, 'w_mlp': 0.6409335052733912}.\n"
     ]
    },
    {
     "name": "stdout",
     "output_type": "stream",
     "text": [
      "[w_lr, w_lda, w_sv, w_xgb, w_lgbm,w_cb ] =  [0.001 0.    0.602 0.127 0.119 0.    0.653]\n",
      "AUC all:  0.7936038320653704\n",
      "\n"
     ]
    },
    {
     "name": "stderr",
     "output_type": "stream",
     "text": [
      "[I 2019-08-24 12:17:31,008] Finished trial#890 resulted in value: -0.7936038320653704. Current best value is -0.7944491406029868 with parameters: {'w_lr': 0.018735636670162738, 'w_sv': 0.609782869522277, 'w_xgb': 0.1257268888344056, 'w_lgbm': 0.10282314833705018, 'w_mlp': 0.6409335052733912}.\n"
     ]
    },
    {
     "name": "stdout",
     "output_type": "stream",
     "text": [
      "[w_lr, w_lda, w_sv, w_xgb, w_lgbm,w_cb ] =  [0.049 0.    0.659 0.146 0.137 0.    0.685]\n",
      "AUC all:  0.7933220625528318\n",
      "\n"
     ]
    },
    {
     "name": "stderr",
     "output_type": "stream",
     "text": [
      "[I 2019-08-24 12:17:32,244] Finished trial#891 resulted in value: -0.7933220625528318. Current best value is -0.7944491406029868 with parameters: {'w_lr': 0.018735636670162738, 'w_sv': 0.609782869522277, 'w_xgb': 0.1257268888344056, 'w_lgbm': 0.10282314833705018, 'w_mlp': 0.6409335052733912}.\n"
     ]
    },
    {
     "name": "stdout",
     "output_type": "stream",
     "text": [
      "[w_lr, w_lda, w_sv, w_xgb, w_lgbm,w_cb ] =  [0.076 0.    0.617 0.108 0.063 0.    0.631]\n",
      "AUC all:  0.7895181741335587\n",
      "\n"
     ]
    },
    {
     "name": "stderr",
     "output_type": "stream",
     "text": [
      "[I 2019-08-24 12:17:33,473] Finished trial#892 resulted in value: -0.7895181741335587. Current best value is -0.7944491406029868 with parameters: {'w_lr': 0.018735636670162738, 'w_sv': 0.609782869522277, 'w_xgb': 0.1257268888344056, 'w_lgbm': 0.10282314833705018, 'w_mlp': 0.6409335052733912}.\n"
     ]
    },
    {
     "name": "stdout",
     "output_type": "stream",
     "text": [
      "[w_lr, w_lda, w_sv, w_xgb, w_lgbm,w_cb ] =  [0.12  0.    0.55  0.09  0.091 0.    0.532]\n",
      "AUC all:  0.792617638771485\n",
      "\n"
     ]
    },
    {
     "name": "stderr",
     "output_type": "stream",
     "text": [
      "[I 2019-08-24 12:17:34,713] Finished trial#893 resulted in value: -0.792617638771485. Current best value is -0.7944491406029868 with parameters: {'w_lr': 0.018735636670162738, 'w_sv': 0.609782869522277, 'w_xgb': 0.1257268888344056, 'w_lgbm': 0.10282314833705018, 'w_mlp': 0.6409335052733912}.\n"
     ]
    },
    {
     "name": "stdout",
     "output_type": "stream",
     "text": [
      "[w_lr, w_lda, w_sv, w_xgb, w_lgbm,w_cb ] =  [0.019 0.    0.549 0.019 0.023 0.    0.156]\n",
      "AUC all:  0.7936038320653704\n",
      "\n"
     ]
    },
    {
     "name": "stderr",
     "output_type": "stream",
     "text": [
      "[I 2019-08-24 12:17:35,943] Finished trial#894 resulted in value: -0.7936038320653704. Current best value is -0.7944491406029868 with parameters: {'w_lr': 0.018735636670162738, 'w_sv': 0.609782869522277, 'w_xgb': 0.1257268888344056, 'w_lgbm': 0.10282314833705018, 'w_mlp': 0.6409335052733912}.\n"
     ]
    },
    {
     "name": "stdout",
     "output_type": "stream",
     "text": [
      "[w_lr, w_lda, w_sv, w_xgb, w_lgbm,w_cb ] =  [0.046 0.    0.649 0.118 0.078 0.    0.568]\n",
      "AUC all:  0.7916314454775992\n",
      "\n"
     ]
    },
    {
     "name": "stderr",
     "output_type": "stream",
     "text": [
      "[I 2019-08-24 12:17:37,196] Finished trial#895 resulted in value: -0.7916314454775992. Current best value is -0.7944491406029868 with parameters: {'w_lr': 0.018735636670162738, 'w_sv': 0.609782869522277, 'w_xgb': 0.1257268888344056, 'w_lgbm': 0.10282314833705018, 'w_mlp': 0.6409335052733912}.\n"
     ]
    },
    {
     "name": "stdout",
     "output_type": "stream",
     "text": [
      "[w_lr, w_lda, w_sv, w_xgb, w_lgbm,w_cb ] =  [0.097 0.    0.603 0.089 0.11  0.    0.276]\n",
      "AUC all:  0.7912087912087913\n",
      "\n"
     ]
    },
    {
     "name": "stderr",
     "output_type": "stream",
     "text": [
      "[I 2019-08-24 12:17:38,422] Finished trial#896 resulted in value: -0.7912087912087913. Current best value is -0.7944491406029868 with parameters: {'w_lr': 0.018735636670162738, 'w_sv': 0.609782869522277, 'w_xgb': 0.1257268888344056, 'w_lgbm': 0.10282314833705018, 'w_mlp': 0.6409335052733912}.\n"
     ]
    },
    {
     "name": "stdout",
     "output_type": "stream",
     "text": [
      "[w_lr, w_lda, w_sv, w_xgb, w_lgbm,w_cb ] =  [0.1   0.    0.606 0.106 0.092 0.    0.572]\n",
      "AUC all:  0.7933220625528317\n",
      "\n"
     ]
    },
    {
     "name": "stderr",
     "output_type": "stream",
     "text": [
      "[I 2019-08-24 12:17:39,641] Finished trial#897 resulted in value: -0.7933220625528317. Current best value is -0.7944491406029868 with parameters: {'w_lr': 0.018735636670162738, 'w_sv': 0.609782869522277, 'w_xgb': 0.1257268888344056, 'w_lgbm': 0.10282314833705018, 'w_mlp': 0.6409335052733912}.\n"
     ]
    },
    {
     "name": "stdout",
     "output_type": "stream",
     "text": [
      "[w_lr, w_lda, w_sv, w_xgb, w_lgbm,w_cb ] =  [0.031 0.    0.567 0.137 0.118 0.    0.719]\n",
      "AUC all:  0.7938856015779092\n",
      "\n"
     ]
    },
    {
     "name": "stderr",
     "output_type": "stream",
     "text": [
      "[I 2019-08-24 12:17:40,880] Finished trial#898 resulted in value: -0.7938856015779092. Current best value is -0.7944491406029868 with parameters: {'w_lr': 0.018735636670162738, 'w_sv': 0.609782869522277, 'w_xgb': 0.1257268888344056, 'w_lgbm': 0.10282314833705018, 'w_mlp': 0.6409335052733912}.\n"
     ]
    },
    {
     "name": "stdout",
     "output_type": "stream",
     "text": [
      "[w_lr, w_lda, w_sv, w_xgb, w_lgbm,w_cb ] =  [0.037 0.    0.535 0.188 0.16  0.    0.746]\n",
      "AUC all:  0.792617638771485\n",
      "\n"
     ]
    },
    {
     "name": "stderr",
     "output_type": "stream",
     "text": [
      "[I 2019-08-24 12:17:42,108] Finished trial#899 resulted in value: -0.792617638771485. Current best value is -0.7944491406029868 with parameters: {'w_lr': 0.018735636670162738, 'w_sv': 0.609782869522277, 'w_xgb': 0.1257268888344056, 'w_lgbm': 0.10282314833705018, 'w_mlp': 0.6409335052733912}.\n"
     ]
    },
    {
     "name": "stdout",
     "output_type": "stream",
     "text": [
      "[w_lr, w_lda, w_sv, w_xgb, w_lgbm,w_cb ] =  [0.039 0.    0.567 0.165 0.109 0.    0.73 ]\n",
      "AUC all:  0.7924767540152156\n",
      "\n"
     ]
    },
    {
     "name": "stderr",
     "output_type": "stream",
     "text": [
      "[I 2019-08-24 12:17:43,330] Finished trial#900 resulted in value: -0.7924767540152156. Current best value is -0.7944491406029868 with parameters: {'w_lr': 0.018735636670162738, 'w_sv': 0.609782869522277, 'w_xgb': 0.1257268888344056, 'w_lgbm': 0.10282314833705018, 'w_mlp': 0.6409335052733912}.\n"
     ]
    },
    {
     "name": "stdout",
     "output_type": "stream",
     "text": [
      "[w_lr, w_lda, w_sv, w_xgb, w_lgbm,w_cb ] =  [0.048 0.    0.556 0.142 0.13  0.    0.782]\n",
      "AUC all:  0.793040293040293\n",
      "\n"
     ]
    },
    {
     "name": "stderr",
     "output_type": "stream",
     "text": [
      "[I 2019-08-24 12:17:44,566] Finished trial#901 resulted in value: -0.793040293040293. Current best value is -0.7944491406029868 with parameters: {'w_lr': 0.018735636670162738, 'w_sv': 0.609782869522277, 'w_xgb': 0.1257268888344056, 'w_lgbm': 0.10282314833705018, 'w_mlp': 0.6409335052733912}.\n"
     ]
    },
    {
     "name": "stdout",
     "output_type": "stream",
     "text": [
      "[w_lr, w_lda, w_sv, w_xgb, w_lgbm,w_cb ] =  [0.001 0.    0.526 0.158 0.063 0.    0.705]\n",
      "AUC all:  0.7868413637644406\n",
      "\n"
     ]
    },
    {
     "name": "stderr",
     "output_type": "stream",
     "text": [
      "[I 2019-08-24 12:17:45,808] Finished trial#902 resulted in value: -0.7868413637644406. Current best value is -0.7944491406029868 with parameters: {'w_lr': 0.018735636670162738, 'w_sv': 0.609782869522277, 'w_xgb': 0.1257268888344056, 'w_lgbm': 0.10282314833705018, 'w_mlp': 0.6409335052733912}.\n"
     ]
    },
    {
     "name": "stdout",
     "output_type": "stream",
     "text": [
      "[w_lr, w_lda, w_sv, w_xgb, w_lgbm,w_cb ] =  [0.031 0.    0.577 0.136 0.102 0.    0.764]\n",
      "AUC all:  0.7921949845026769\n",
      "\n"
     ]
    },
    {
     "name": "stderr",
     "output_type": "stream",
     "text": [
      "[I 2019-08-24 12:17:47,040] Finished trial#903 resulted in value: -0.7921949845026769. Current best value is -0.7944491406029868 with parameters: {'w_lr': 0.018735636670162738, 'w_sv': 0.609782869522277, 'w_xgb': 0.1257268888344056, 'w_lgbm': 0.10282314833705018, 'w_mlp': 0.6409335052733912}.\n"
     ]
    },
    {
     "name": "stdout",
     "output_type": "stream",
     "text": [
      "[w_lr, w_lda, w_sv, w_xgb, w_lgbm,w_cb ] =  [0.06  0.    0.546 0.173 0.078 0.    0.727]\n",
      "AUC all:  0.7895181741335586\n",
      "\n"
     ]
    },
    {
     "name": "stderr",
     "output_type": "stream",
     "text": [
      "[I 2019-08-24 12:17:48,272] Finished trial#904 resulted in value: -0.7895181741335586. Current best value is -0.7944491406029868 with parameters: {'w_lr': 0.018735636670162738, 'w_sv': 0.609782869522277, 'w_xgb': 0.1257268888344056, 'w_lgbm': 0.10282314833705018, 'w_mlp': 0.6409335052733912}.\n"
     ]
    },
    {
     "name": "stdout",
     "output_type": "stream",
     "text": [
      "[w_lr, w_lda, w_sv, w_xgb, w_lgbm,w_cb ] =  [0.018 0.    0.577 0.2   0.122 0.    0.723]\n",
      "AUC all:  0.7913496759650606\n",
      "\n"
     ]
    },
    {
     "name": "stderr",
     "output_type": "stream",
     "text": [
      "[I 2019-08-24 12:17:49,508] Finished trial#905 resulted in value: -0.7913496759650606. Current best value is -0.7944491406029868 with parameters: {'w_lr': 0.018735636670162738, 'w_sv': 0.609782869522277, 'w_xgb': 0.1257268888344056, 'w_lgbm': 0.10282314833705018, 'w_mlp': 0.6409335052733912}.\n"
     ]
    },
    {
     "name": "stdout",
     "output_type": "stream",
     "text": [
      "[w_lr, w_lda, w_sv, w_xgb, w_lgbm,w_cb ] =  [0.038 0.    0.587 0.127 0.228 0.    0.752]\n",
      "AUC all:  0.790363482671175\n",
      "\n"
     ]
    },
    {
     "name": "stderr",
     "output_type": "stream",
     "text": [
      "[I 2019-08-24 12:17:50,743] Finished trial#906 resulted in value: -0.790363482671175. Current best value is -0.7944491406029868 with parameters: {'w_lr': 0.018735636670162738, 'w_sv': 0.609782869522277, 'w_xgb': 0.1257268888344056, 'w_lgbm': 0.10282314833705018, 'w_mlp': 0.6409335052733912}.\n"
     ]
    },
    {
     "name": "stdout",
     "output_type": "stream",
     "text": [
      "[w_lr, w_lda, w_sv, w_xgb, w_lgbm,w_cb ] =  [0.06  0.    0.555 0.148 0.092 0.    0.742]\n",
      "AUC all:  0.7910679064525218\n",
      "\n"
     ]
    },
    {
     "name": "stderr",
     "output_type": "stream",
     "text": [
      "[I 2019-08-24 12:17:51,978] Finished trial#907 resulted in value: -0.7910679064525218. Current best value is -0.7944491406029868 with parameters: {'w_lr': 0.018735636670162738, 'w_sv': 0.609782869522277, 'w_xgb': 0.1257268888344056, 'w_lgbm': 0.10282314833705018, 'w_mlp': 0.6409335052733912}.\n"
     ]
    },
    {
     "name": "stdout",
     "output_type": "stream",
     "text": [
      "[w_lr, w_lda, w_sv, w_xgb, w_lgbm,w_cb ] =  [0.002 0.    0.497 0.101 0.049 0.    0.703]\n",
      "AUC all:  0.7883910960834037\n",
      "\n"
     ]
    },
    {
     "name": "stderr",
     "output_type": "stream",
     "text": [
      "[I 2019-08-24 12:17:53,215] Finished trial#908 resulted in value: -0.7883910960834037. Current best value is -0.7944491406029868 with parameters: {'w_lr': 0.018735636670162738, 'w_sv': 0.609782869522277, 'w_xgb': 0.1257268888344056, 'w_lgbm': 0.10282314833705018, 'w_mlp': 0.6409335052733912}.\n"
     ]
    },
    {
     "name": "stdout",
     "output_type": "stream",
     "text": [
      "[w_lr, w_lda, w_sv, w_xgb, w_lgbm,w_cb ] =  [0.    0.    0.571 0.12  0.347 0.    0.706]\n",
      "AUC all:  0.7868413637644407\n",
      "\n"
     ]
    },
    {
     "name": "stderr",
     "output_type": "stream",
     "text": [
      "[I 2019-08-24 12:17:54,440] Finished trial#909 resulted in value: -0.7868413637644407. Current best value is -0.7944491406029868 with parameters: {'w_lr': 0.018735636670162738, 'w_sv': 0.609782869522277, 'w_xgb': 0.1257268888344056, 'w_lgbm': 0.10282314833705018, 'w_mlp': 0.6409335052733912}.\n"
     ]
    },
    {
     "name": "stdout",
     "output_type": "stream",
     "text": [
      "[w_lr, w_lda, w_sv, w_xgb, w_lgbm,w_cb ] =  [0.032 0.    0.589 0.076 0.151 0.    0.722]\n",
      "AUC all:  0.7907861369399831\n",
      "\n"
     ]
    },
    {
     "name": "stderr",
     "output_type": "stream",
     "text": [
      "[I 2019-08-24 12:17:55,681] Finished trial#910 resulted in value: -0.7907861369399831. Current best value is -0.7944491406029868 with parameters: {'w_lr': 0.018735636670162738, 'w_sv': 0.609782869522277, 'w_xgb': 0.1257268888344056, 'w_lgbm': 0.10282314833705018, 'w_mlp': 0.6409335052733912}.\n"
     ]
    },
    {
     "name": "stdout",
     "output_type": "stream",
     "text": [
      "[w_lr, w_lda, w_sv, w_xgb, w_lgbm,w_cb ] =  [0.073 0.    0.538 0.139 0.108 0.    0.693]\n",
      "AUC all:  0.7937447168216398\n",
      "\n"
     ]
    },
    {
     "name": "stderr",
     "output_type": "stream",
     "text": [
      "[I 2019-08-24 12:17:56,938] Finished trial#911 resulted in value: -0.7937447168216398. Current best value is -0.7944491406029868 with parameters: {'w_lr': 0.018735636670162738, 'w_sv': 0.609782869522277, 'w_xgb': 0.1257268888344056, 'w_lgbm': 0.10282314833705018, 'w_mlp': 0.6409335052733912}.\n"
     ]
    },
    {
     "name": "stdout",
     "output_type": "stream",
     "text": [
      "[w_lr, w_lda, w_sv, w_xgb, w_lgbm,w_cb ] =  [0.049 0.    0.541 0.171 0.077 0.    0.698]\n",
      "AUC all:  0.7902225979149057\n",
      "\n"
     ]
    },
    {
     "name": "stderr",
     "output_type": "stream",
     "text": [
      "[I 2019-08-24 12:17:58,188] Finished trial#912 resulted in value: -0.7902225979149057. Current best value is -0.7944491406029868 with parameters: {'w_lr': 0.018735636670162738, 'w_sv': 0.609782869522277, 'w_xgb': 0.1257268888344056, 'w_lgbm': 0.10282314833705018, 'w_mlp': 0.6409335052733912}.\n"
     ]
    },
    {
     "name": "stdout",
     "output_type": "stream",
     "text": [
      "[w_lr, w_lda, w_sv, w_xgb, w_lgbm,w_cb ] =  [0.084 0.    0.511 0.215 0.134 0.    0.766]\n",
      "AUC all:  0.7913496759650606\n",
      "\n"
     ]
    },
    {
     "name": "stderr",
     "output_type": "stream",
     "text": [
      "[I 2019-08-24 12:17:59,455] Finished trial#913 resulted in value: -0.7913496759650606. Current best value is -0.7944491406029868 with parameters: {'w_lr': 0.018735636670162738, 'w_sv': 0.609782869522277, 'w_xgb': 0.1257268888344056, 'w_lgbm': 0.10282314833705018, 'w_mlp': 0.6409335052733912}.\n"
     ]
    },
    {
     "name": "stdout",
     "output_type": "stream",
     "text": [
      "[w_lr, w_lda, w_sv, w_xgb, w_lgbm,w_cb ] =  [0.029 0.    0.566 0.105 0.099 0.    0.671]\n",
      "AUC all:  0.7933220625528319\n",
      "\n"
     ]
    },
    {
     "name": "stderr",
     "output_type": "stream",
     "text": [
      "[I 2019-08-24 12:18:00,692] Finished trial#914 resulted in value: -0.7933220625528319. Current best value is -0.7944491406029868 with parameters: {'w_lr': 0.018735636670162738, 'w_sv': 0.609782869522277, 'w_xgb': 0.1257268888344056, 'w_lgbm': 0.10282314833705018, 'w_mlp': 0.6409335052733912}.\n"
     ]
    },
    {
     "name": "stdout",
     "output_type": "stream",
     "text": [
      "[w_lr, w_lda, w_sv, w_xgb, w_lgbm,w_cb ] =  [0.085 0.    0.54  0.153 0.275 0.    0.721]\n",
      "AUC all:  0.7903634826711751\n",
      "\n"
     ]
    },
    {
     "name": "stderr",
     "output_type": "stream",
     "text": [
      "[I 2019-08-24 12:18:01,959] Finished trial#915 resulted in value: -0.7903634826711751. Current best value is -0.7944491406029868 with parameters: {'w_lr': 0.018735636670162738, 'w_sv': 0.609782869522277, 'w_xgb': 0.1257268888344056, 'w_lgbm': 0.10282314833705018, 'w_mlp': 0.6409335052733912}.\n"
     ]
    },
    {
     "name": "stdout",
     "output_type": "stream",
     "text": [
      "[w_lr, w_lda, w_sv, w_xgb, w_lgbm,w_cb ] =  [0.051 0.    0.525 0.142 0.058 0.    0.706]\n",
      "AUC all:  0.78698224852071\n",
      "\n"
     ]
    },
    {
     "name": "stderr",
     "output_type": "stream",
     "text": [
      "[I 2019-08-24 12:18:03,228] Finished trial#916 resulted in value: -0.78698224852071. Current best value is -0.7944491406029868 with parameters: {'w_lr': 0.018735636670162738, 'w_sv': 0.609782869522277, 'w_xgb': 0.1257268888344056, 'w_lgbm': 0.10282314833705018, 'w_mlp': 0.6409335052733912}.\n"
     ]
    },
    {
     "name": "stdout",
     "output_type": "stream",
     "text": [
      "[w_lr, w_lda, w_sv, w_xgb, w_lgbm,w_cb ] =  [0.015 0.    0.877 0.089 0.456 0.    0.496]\n",
      "AUC all:  0.7751479289940829\n",
      "\n"
     ]
    },
    {
     "name": "stderr",
     "output_type": "stream",
     "text": [
      "[I 2019-08-24 12:18:04,478] Finished trial#917 resulted in value: -0.7751479289940829. Current best value is -0.7944491406029868 with parameters: {'w_lr': 0.018735636670162738, 'w_sv': 0.609782869522277, 'w_xgb': 0.1257268888344056, 'w_lgbm': 0.10282314833705018, 'w_mlp': 0.6409335052733912}.\n"
     ]
    },
    {
     "name": "stdout",
     "output_type": "stream",
     "text": [
      "[w_lr, w_lda, w_sv, w_xgb, w_lgbm,w_cb ] =  [0.073 0.    0.512 0.172 0.19  0.    0.741]\n",
      "AUC all:  0.7921949845026768\n",
      "\n"
     ]
    },
    {
     "name": "stderr",
     "output_type": "stream",
     "text": [
      "[I 2019-08-24 12:18:05,720] Finished trial#918 resulted in value: -0.7921949845026768. Current best value is -0.7944491406029868 with parameters: {'w_lr': 0.018735636670162738, 'w_sv': 0.609782869522277, 'w_xgb': 0.1257268888344056, 'w_lgbm': 0.10282314833705018, 'w_mlp': 0.6409335052733912}.\n"
     ]
    },
    {
     "name": "stdout",
     "output_type": "stream",
     "text": [
      "[w_lr, w_lda, w_sv, w_xgb, w_lgbm,w_cb ] =  [0.073 0.    0.543 0.125 0.121 0.    0.694]\n",
      "AUC all:  0.793040293040293\n",
      "\n"
     ]
    },
    {
     "name": "stderr",
     "output_type": "stream",
     "text": [
      "[I 2019-08-24 12:18:06,998] Finished trial#919 resulted in value: -0.793040293040293. Current best value is -0.7944491406029868 with parameters: {'w_lr': 0.018735636670162738, 'w_sv': 0.609782869522277, 'w_xgb': 0.1257268888344056, 'w_lgbm': 0.10282314833705018, 'w_mlp': 0.6409335052733912}.\n"
     ]
    },
    {
     "name": "stdout",
     "output_type": "stream",
     "text": [
      "[w_lr, w_lda, w_sv, w_xgb, w_lgbm,w_cb ] =  [0.065 0.    0.555 0.181 0.146 0.    0.688]\n",
      "AUC all:  0.7923358692589462\n",
      "\n"
     ]
    },
    {
     "name": "stderr",
     "output_type": "stream",
     "text": [
      "[I 2019-08-24 12:18:08,263] Finished trial#920 resulted in value: -0.7923358692589462. Current best value is -0.7944491406029868 with parameters: {'w_lr': 0.018735636670162738, 'w_sv': 0.609782869522277, 'w_xgb': 0.1257268888344056, 'w_lgbm': 0.10282314833705018, 'w_mlp': 0.6409335052733912}.\n"
     ]
    },
    {
     "name": "stdout",
     "output_type": "stream",
     "text": [
      "[w_lr, w_lda, w_sv, w_xgb, w_lgbm,w_cb ] =  [0.02  0.    0.593 0.051 0.772 0.    0.665]\n",
      "AUC all:  0.7706396167934628\n",
      "\n"
     ]
    },
    {
     "name": "stderr",
     "output_type": "stream",
     "text": [
      "[I 2019-08-24 12:18:09,518] Finished trial#921 resulted in value: -0.7706396167934628. Current best value is -0.7944491406029868 with parameters: {'w_lr': 0.018735636670162738, 'w_sv': 0.609782869522277, 'w_xgb': 0.1257268888344056, 'w_lgbm': 0.10282314833705018, 'w_mlp': 0.6409335052733912}.\n"
     ]
    },
    {
     "name": "stdout",
     "output_type": "stream",
     "text": [
      "[w_lr, w_lda, w_sv, w_xgb, w_lgbm,w_cb ] =  [0.085 0.    0.531 0.148 0.115 0.    0.724]\n",
      "AUC all:  0.7938856015779092\n",
      "\n"
     ]
    },
    {
     "name": "stderr",
     "output_type": "stream",
     "text": [
      "[I 2019-08-24 12:18:10,799] Finished trial#922 resulted in value: -0.7938856015779092. Current best value is -0.7944491406029868 with parameters: {'w_lr': 0.018735636670162738, 'w_sv': 0.609782869522277, 'w_xgb': 0.1257268888344056, 'w_lgbm': 0.10282314833705018, 'w_mlp': 0.6409335052733912}.\n"
     ]
    },
    {
     "name": "stdout",
     "output_type": "stream",
     "text": [
      "[w_lr, w_lda, w_sv, w_xgb, w_lgbm,w_cb ] =  [0.094 0.    0.129 0.159 0.127 0.    0.755]\n",
      "AUC all:  0.7931811777965624\n",
      "\n"
     ]
    },
    {
     "name": "stderr",
     "output_type": "stream",
     "text": [
      "[I 2019-08-24 12:18:12,076] Finished trial#923 resulted in value: -0.7931811777965624. Current best value is -0.7944491406029868 with parameters: {'w_lr': 0.018735636670162738, 'w_sv': 0.609782869522277, 'w_xgb': 0.1257268888344056, 'w_lgbm': 0.10282314833705018, 'w_mlp': 0.6409335052733912}.\n"
     ]
    },
    {
     "name": "stdout",
     "output_type": "stream",
     "text": [
      "[w_lr, w_lda, w_sv, w_xgb, w_lgbm,w_cb ] =  [0.087 0.    0.479 0.116 0.154 0.    0.712]\n",
      "AUC all:  0.7924767540152156\n",
      "\n"
     ]
    },
    {
     "name": "stderr",
     "output_type": "stream",
     "text": [
      "[I 2019-08-24 12:18:13,334] Finished trial#924 resulted in value: -0.7924767540152156. Current best value is -0.7944491406029868 with parameters: {'w_lr': 0.018735636670162738, 'w_sv': 0.609782869522277, 'w_xgb': 0.1257268888344056, 'w_lgbm': 0.10282314833705018, 'w_mlp': 0.6409335052733912}.\n"
     ]
    },
    {
     "name": "stdout",
     "output_type": "stream",
     "text": [
      "[w_lr, w_lda, w_sv, w_xgb, w_lgbm,w_cb ] =  [0.059 0.    0.564 0.141 0.177 0.    0.735]\n",
      "AUC all:  0.791913214990138\n",
      "\n"
     ]
    },
    {
     "name": "stderr",
     "output_type": "stream",
     "text": [
      "[I 2019-08-24 12:18:14,575] Finished trial#925 resulted in value: -0.791913214990138. Current best value is -0.7944491406029868 with parameters: {'w_lr': 0.018735636670162738, 'w_sv': 0.609782869522277, 'w_xgb': 0.1257268888344056, 'w_lgbm': 0.10282314833705018, 'w_mlp': 0.6409335052733912}.\n"
     ]
    },
    {
     "name": "stdout",
     "output_type": "stream",
     "text": [
      "[w_lr, w_lda, w_sv, w_xgb, w_lgbm,w_cb ] =  [0.694 0.    0.493 0.196 0.118 0.    0.787]\n",
      "AUC all:  0.7912087912087912\n",
      "\n"
     ]
    },
    {
     "name": "stderr",
     "output_type": "stream",
     "text": [
      "[I 2019-08-24 12:18:15,838] Finished trial#926 resulted in value: -0.7912087912087912. Current best value is -0.7944491406029868 with parameters: {'w_lr': 0.018735636670162738, 'w_sv': 0.609782869522277, 'w_xgb': 0.1257268888344056, 'w_lgbm': 0.10282314833705018, 'w_mlp': 0.6409335052733912}.\n"
     ]
    },
    {
     "name": "stdout",
     "output_type": "stream",
     "text": [
      "[w_lr, w_lda, w_sv, w_xgb, w_lgbm,w_cb ] =  [0.    0.    0.758 0.362 0.082 0.    0.751]\n",
      "AUC all:  0.7840236686390533\n",
      "\n"
     ]
    },
    {
     "name": "stderr",
     "output_type": "stream",
     "text": [
      "[I 2019-08-24 12:18:17,107] Finished trial#927 resulted in value: -0.7840236686390533. Current best value is -0.7944491406029868 with parameters: {'w_lr': 0.018735636670162738, 'w_sv': 0.609782869522277, 'w_xgb': 0.1257268888344056, 'w_lgbm': 0.10282314833705018, 'w_mlp': 0.6409335052733912}.\n"
     ]
    },
    {
     "name": "stdout",
     "output_type": "stream",
     "text": [
      "[w_lr, w_lda, w_sv, w_xgb, w_lgbm,w_cb ] =  [0.099 0.    0.514 0.209 0.138 0.    0.734]\n",
      "AUC all:  0.7913496759650606\n",
      "\n"
     ]
    },
    {
     "name": "stderr",
     "output_type": "stream",
     "text": [
      "[I 2019-08-24 12:18:18,386] Finished trial#928 resulted in value: -0.7913496759650606. Current best value is -0.7944491406029868 with parameters: {'w_lr': 0.018735636670162738, 'w_sv': 0.609782869522277, 'w_xgb': 0.1257268888344056, 'w_lgbm': 0.10282314833705018, 'w_mlp': 0.6409335052733912}.\n"
     ]
    },
    {
     "name": "stdout",
     "output_type": "stream",
     "text": [
      "[w_lr, w_lda, w_sv, w_xgb, w_lgbm,w_cb ] =  [0.11  0.    0.52  0.182 0.159 0.    0.722]\n",
      "AUC all:  0.7926176387714848\n",
      "\n"
     ]
    },
    {
     "name": "stderr",
     "output_type": "stream",
     "text": [
      "[I 2019-08-24 12:18:19,675] Finished trial#929 resulted in value: -0.7926176387714848. Current best value is -0.7944491406029868 with parameters: {'w_lr': 0.018735636670162738, 'w_sv': 0.609782869522277, 'w_xgb': 0.1257268888344056, 'w_lgbm': 0.10282314833705018, 'w_mlp': 0.6409335052733912}.\n"
     ]
    },
    {
     "name": "stdout",
     "output_type": "stream",
     "text": [
      "[w_lr, w_lda, w_sv, w_xgb, w_lgbm,w_cb ] =  [0.046 0.    0.533 0.157 0.106 0.    0.767]\n",
      "AUC all:  0.7919132149901381\n",
      "\n"
     ]
    },
    {
     "name": "stderr",
     "output_type": "stream",
     "text": [
      "[I 2019-08-24 12:18:20,956] Finished trial#930 resulted in value: -0.7919132149901381. Current best value is -0.7944491406029868 with parameters: {'w_lr': 0.018735636670162738, 'w_sv': 0.609782869522277, 'w_xgb': 0.1257268888344056, 'w_lgbm': 0.10282314833705018, 'w_mlp': 0.6409335052733912}.\n"
     ]
    },
    {
     "name": "stdout",
     "output_type": "stream",
     "text": [
      "[w_lr, w_lda, w_sv, w_xgb, w_lgbm,w_cb ] =  [0.068 0.    0.548 0.147 0.089 0.    0.335]\n",
      "AUC all:  0.7893772893772895\n",
      "\n"
     ]
    },
    {
     "name": "stderr",
     "output_type": "stream",
     "text": [
      "[I 2019-08-24 12:18:22,223] Finished trial#931 resulted in value: -0.7893772893772895. Current best value is -0.7944491406029868 with parameters: {'w_lr': 0.018735636670162738, 'w_sv': 0.609782869522277, 'w_xgb': 0.1257268888344056, 'w_lgbm': 0.10282314833705018, 'w_mlp': 0.6409335052733912}.\n"
     ]
    },
    {
     "name": "stdout",
     "output_type": "stream",
     "text": [
      "[w_lr, w_lda, w_sv, w_xgb, w_lgbm,w_cb ] =  [0.086 0.    0.847 0.129 0.067 0.    0.603]\n",
      "AUC all:  0.7909270216962524\n",
      "\n"
     ]
    },
    {
     "name": "stderr",
     "output_type": "stream",
     "text": [
      "[I 2019-08-24 12:18:23,486] Finished trial#932 resulted in value: -0.7909270216962524. Current best value is -0.7944491406029868 with parameters: {'w_lr': 0.018735636670162738, 'w_sv': 0.609782869522277, 'w_xgb': 0.1257268888344056, 'w_lgbm': 0.10282314833705018, 'w_mlp': 0.6409335052733912}.\n"
     ]
    },
    {
     "name": "stdout",
     "output_type": "stream",
     "text": [
      "[w_lr, w_lda, w_sv, w_xgb, w_lgbm,w_cb ] =  [0.    0.    0.921 0.16  0.109 0.    0.614]\n",
      "AUC all:  0.7916314454775992\n",
      "\n"
     ]
    },
    {
     "name": "stderr",
     "output_type": "stream",
     "text": [
      "[I 2019-08-24 12:18:24,766] Finished trial#933 resulted in value: -0.7916314454775992. Current best value is -0.7944491406029868 with parameters: {'w_lr': 0.018735636670162738, 'w_sv': 0.609782869522277, 'w_xgb': 0.1257268888344056, 'w_lgbm': 0.10282314833705018, 'w_mlp': 0.6409335052733912}.\n"
     ]
    },
    {
     "name": "stdout",
     "output_type": "stream",
     "text": [
      "[w_lr, w_lda, w_sv, w_xgb, w_lgbm,w_cb ] =  [0.065 0.    0.506 0.102 0.129 0.    0.743]\n",
      "AUC all:  0.7921949845026768\n",
      "\n"
     ]
    },
    {
     "name": "stderr",
     "output_type": "stream",
     "text": [
      "[I 2019-08-24 12:18:26,056] Finished trial#934 resulted in value: -0.7921949845026768. Current best value is -0.7944491406029868 with parameters: {'w_lr': 0.018735636670162738, 'w_sv': 0.609782869522277, 'w_xgb': 0.1257268888344056, 'w_lgbm': 0.10282314833705018, 'w_mlp': 0.6409335052733912}.\n"
     ]
    },
    {
     "name": "stdout",
     "output_type": "stream",
     "text": [
      "[w_lr, w_lda, w_sv, w_xgb, w_lgbm,w_cb ] =  [0.086 0.    0.519 0.181 0.514 0.    0.718]\n",
      "AUC all:  0.7799380107072413\n",
      "\n"
     ]
    },
    {
     "name": "stderr",
     "output_type": "stream",
     "text": [
      "[I 2019-08-24 12:18:27,326] Finished trial#935 resulted in value: -0.7799380107072413. Current best value is -0.7944491406029868 with parameters: {'w_lr': 0.018735636670162738, 'w_sv': 0.609782869522277, 'w_xgb': 0.1257268888344056, 'w_lgbm': 0.10282314833705018, 'w_mlp': 0.6409335052733912}.\n"
     ]
    },
    {
     "name": "stdout",
     "output_type": "stream",
     "text": [
      "[w_lr, w_lda, w_sv, w_xgb, w_lgbm,w_cb ] =  [0.037 0.    0.539 0.139 0.14  0.    0.714]\n",
      "AUC all:  0.7927585235277543\n",
      "\n"
     ]
    },
    {
     "name": "stderr",
     "output_type": "stream",
     "text": [
      "[I 2019-08-24 12:18:28,611] Finished trial#936 resulted in value: -0.7927585235277543. Current best value is -0.7944491406029868 with parameters: {'w_lr': 0.018735636670162738, 'w_sv': 0.609782869522277, 'w_xgb': 0.1257268888344056, 'w_lgbm': 0.10282314833705018, 'w_mlp': 0.6409335052733912}.\n"
     ]
    },
    {
     "name": "stdout",
     "output_type": "stream",
     "text": [
      "[w_lr, w_lda, w_sv, w_xgb, w_lgbm,w_cb ] =  [0.043 0.    0.557 0.074 0.088 0.    0.466]\n",
      "AUC all:  0.7920540997464075\n",
      "\n"
     ]
    },
    {
     "name": "stderr",
     "output_type": "stream",
     "text": [
      "[I 2019-08-24 12:18:29,879] Finished trial#937 resulted in value: -0.7920540997464075. Current best value is -0.7944491406029868 with parameters: {'w_lr': 0.018735636670162738, 'w_sv': 0.609782869522277, 'w_xgb': 0.1257268888344056, 'w_lgbm': 0.10282314833705018, 'w_mlp': 0.6409335052733912}.\n"
     ]
    },
    {
     "name": "stdout",
     "output_type": "stream",
     "text": [
      "[w_lr, w_lda, w_sv, w_xgb, w_lgbm,w_cb ] =  [0.025 0.    0.574 0.119 0.112 0.    0.681]\n",
      "AUC all:  0.7928994082840236\n",
      "\n"
     ]
    },
    {
     "name": "stderr",
     "output_type": "stream",
     "text": [
      "[I 2019-08-24 12:18:31,154] Finished trial#938 resulted in value: -0.7928994082840236. Current best value is -0.7944491406029868 with parameters: {'w_lr': 0.018735636670162738, 'w_sv': 0.609782869522277, 'w_xgb': 0.1257268888344056, 'w_lgbm': 0.10282314833705018, 'w_mlp': 0.6409335052733912}.\n"
     ]
    },
    {
     "name": "stdout",
     "output_type": "stream",
     "text": [
      "[w_lr, w_lda, w_sv, w_xgb, w_lgbm,w_cb ] =  [0.597 0.    0.572 0.092 0.037 0.    0.548]\n",
      "AUC all:  0.7868413637644406\n",
      "\n"
     ]
    },
    {
     "name": "stderr",
     "output_type": "stream",
     "text": [
      "[I 2019-08-24 12:18:32,438] Finished trial#939 resulted in value: -0.7868413637644406. Current best value is -0.7944491406029868 with parameters: {'w_lr': 0.018735636670162738, 'w_sv': 0.609782869522277, 'w_xgb': 0.1257268888344056, 'w_lgbm': 0.10282314833705018, 'w_mlp': 0.6409335052733912}.\n"
     ]
    },
    {
     "name": "stdout",
     "output_type": "stream",
     "text": [
      "[w_lr, w_lda, w_sv, w_xgb, w_lgbm,w_cb ] =  [0.109 0.    0.531 0.161 0.175 0.    0.707]\n",
      "AUC all:  0.7919132149901381\n",
      "\n"
     ]
    },
    {
     "name": "stderr",
     "output_type": "stream",
     "text": [
      "[I 2019-08-24 12:18:33,732] Finished trial#940 resulted in value: -0.7919132149901381. Current best value is -0.7944491406029868 with parameters: {'w_lr': 0.018735636670162738, 'w_sv': 0.609782869522277, 'w_xgb': 0.1257268888344056, 'w_lgbm': 0.10282314833705018, 'w_mlp': 0.6409335052733912}.\n"
     ]
    },
    {
     "name": "stdout",
     "output_type": "stream",
     "text": [
      "[w_lr, w_lda, w_sv, w_xgb, w_lgbm,w_cb ] =  [0.077 0.    0.537 0.195 0.136 0.    0.693]\n",
      "AUC all:  0.7914905607213298\n",
      "\n"
     ]
    },
    {
     "name": "stderr",
     "output_type": "stream",
     "text": [
      "[I 2019-08-24 12:18:35,017] Finished trial#941 resulted in value: -0.7914905607213298. Current best value is -0.7944491406029868 with parameters: {'w_lr': 0.018735636670162738, 'w_sv': 0.609782869522277, 'w_xgb': 0.1257268888344056, 'w_lgbm': 0.10282314833705018, 'w_mlp': 0.6409335052733912}.\n"
     ]
    },
    {
     "name": "stdout",
     "output_type": "stream",
     "text": [
      "[w_lr, w_lda, w_sv, w_xgb, w_lgbm,w_cb ] =  [0.016 0.    0.585 0.11  0.072 0.    0.373]\n",
      "AUC all:  0.7912087912087912\n",
      "\n"
     ]
    },
    {
     "name": "stderr",
     "output_type": "stream",
     "text": [
      "[I 2019-08-24 12:18:36,291] Finished trial#942 resulted in value: -0.7912087912087912. Current best value is -0.7944491406029868 with parameters: {'w_lr': 0.018735636670162738, 'w_sv': 0.609782869522277, 'w_xgb': 0.1257268888344056, 'w_lgbm': 0.10282314833705018, 'w_mlp': 0.6409335052733912}.\n"
     ]
    },
    {
     "name": "stdout",
     "output_type": "stream",
     "text": [
      "[w_lr, w_lda, w_sv, w_xgb, w_lgbm,w_cb ] =  [0.102 0.    0.489 0.149 0.117 0.    0.733]\n",
      "AUC all:  0.7938856015779092\n",
      "\n"
     ]
    },
    {
     "name": "stderr",
     "output_type": "stream",
     "text": [
      "[I 2019-08-24 12:18:37,592] Finished trial#943 resulted in value: -0.7938856015779092. Current best value is -0.7944491406029868 with parameters: {'w_lr': 0.018735636670162738, 'w_sv': 0.609782869522277, 'w_xgb': 0.1257268888344056, 'w_lgbm': 0.10282314833705018, 'w_mlp': 0.6409335052733912}.\n"
     ]
    },
    {
     "name": "stdout",
     "output_type": "stream",
     "text": [
      "[w_lr, w_lda, w_sv, w_xgb, w_lgbm,w_cb ] =  [0.134 0.    0.493 0.174 0.163 0.    0.818]\n",
      "AUC all:  0.7928994082840236\n",
      "\n"
     ]
    },
    {
     "name": "stderr",
     "output_type": "stream",
     "text": [
      "[I 2019-08-24 12:18:38,889] Finished trial#944 resulted in value: -0.7928994082840236. Current best value is -0.7944491406029868 with parameters: {'w_lr': 0.018735636670162738, 'w_sv': 0.609782869522277, 'w_xgb': 0.1257268888344056, 'w_lgbm': 0.10282314833705018, 'w_mlp': 0.6409335052733912}.\n"
     ]
    },
    {
     "name": "stdout",
     "output_type": "stream",
     "text": [
      "[w_lr, w_lda, w_sv, w_xgb, w_lgbm,w_cb ] =  [0.074 0.    0.45  0.738 0.1   0.    0.724]\n",
      "AUC all:  0.7799380107072413\n",
      "\n"
     ]
    },
    {
     "name": "stderr",
     "output_type": "stream",
     "text": [
      "[I 2019-08-24 12:18:40,170] Finished trial#945 resulted in value: -0.7799380107072413. Current best value is -0.7944491406029868 with parameters: {'w_lr': 0.018735636670162738, 'w_sv': 0.609782869522277, 'w_xgb': 0.1257268888344056, 'w_lgbm': 0.10282314833705018, 'w_mlp': 0.6409335052733912}.\n"
     ]
    },
    {
     "name": "stdout",
     "output_type": "stream",
     "text": [
      "[w_lr, w_lda, w_sv, w_xgb, w_lgbm,w_cb ] =  [0.103 0.    0.459 0.161 0.126 0.    0.747]\n",
      "AUC all:  0.793462947309101\n",
      "\n"
     ]
    },
    {
     "name": "stderr",
     "output_type": "stream",
     "text": [
      "[I 2019-08-24 12:18:41,455] Finished trial#946 resulted in value: -0.793462947309101. Current best value is -0.7944491406029868 with parameters: {'w_lr': 0.018735636670162738, 'w_sv': 0.609782869522277, 'w_xgb': 0.1257268888344056, 'w_lgbm': 0.10282314833705018, 'w_mlp': 0.6409335052733912}.\n"
     ]
    },
    {
     "name": "stdout",
     "output_type": "stream",
     "text": [
      "[w_lr, w_lda, w_sv, w_xgb, w_lgbm,w_cb ] =  [0.097 0.    0.519 0.232 0.148 0.    0.79 ]\n",
      "AUC all:  0.7913496759650607\n",
      "\n"
     ]
    },
    {
     "name": "stderr",
     "output_type": "stream",
     "text": [
      "[I 2019-08-24 12:18:42,747] Finished trial#947 resulted in value: -0.7913496759650607. Current best value is -0.7944491406029868 with parameters: {'w_lr': 0.018735636670162738, 'w_sv': 0.609782869522277, 'w_xgb': 0.1257268888344056, 'w_lgbm': 0.10282314833705018, 'w_mlp': 0.6409335052733912}.\n"
     ]
    },
    {
     "name": "stdout",
     "output_type": "stream",
     "text": [
      "[w_lr, w_lda, w_sv, w_xgb, w_lgbm,w_cb ] =  [0.13  0.    0.473 0.153 0.121 0.    0.726]\n",
      "AUC all:  0.7936038320653704\n",
      "\n"
     ]
    },
    {
     "name": "stderr",
     "output_type": "stream",
     "text": [
      "[I 2019-08-24 12:18:44,024] Finished trial#948 resulted in value: -0.7936038320653704. Current best value is -0.7944491406029868 with parameters: {'w_lr': 0.018735636670162738, 'w_sv': 0.609782869522277, 'w_xgb': 0.1257268888344056, 'w_lgbm': 0.10282314833705018, 'w_mlp': 0.6409335052733912}.\n"
     ]
    },
    {
     "name": "stdout",
     "output_type": "stream",
     "text": [
      "[w_lr, w_lda, w_sv, w_xgb, w_lgbm,w_cb ] =  [0.122 0.    0.683 0.079 0.05  0.    0.527]\n",
      "AUC all:  0.7906452521837136\n",
      "\n"
     ]
    },
    {
     "name": "stderr",
     "output_type": "stream",
     "text": [
      "[I 2019-08-24 12:18:45,302] Finished trial#949 resulted in value: -0.7906452521837136. Current best value is -0.7944491406029868 with parameters: {'w_lr': 0.018735636670162738, 'w_sv': 0.609782869522277, 'w_xgb': 0.1257268888344056, 'w_lgbm': 0.10282314833705018, 'w_mlp': 0.6409335052733912}.\n"
     ]
    },
    {
     "name": "stdout",
     "output_type": "stream",
     "text": [
      "[w_lr, w_lda, w_sv, w_xgb, w_lgbm,w_cb ] =  [0.12  0.    0.47  0.134 0.097 0.    0.42 ]\n",
      "AUC all:  0.7905043674274443\n",
      "\n"
     ]
    },
    {
     "name": "stderr",
     "output_type": "stream",
     "text": [
      "[I 2019-08-24 12:18:46,602] Finished trial#950 resulted in value: -0.7905043674274443. Current best value is -0.7944491406029868 with parameters: {'w_lr': 0.018735636670162738, 'w_sv': 0.609782869522277, 'w_xgb': 0.1257268888344056, 'w_lgbm': 0.10282314833705018, 'w_mlp': 0.6409335052733912}.\n"
     ]
    },
    {
     "name": "stdout",
     "output_type": "stream",
     "text": [
      "[w_lr, w_lda, w_sv, w_xgb, w_lgbm,w_cb ] =  [0.108 0.    0.482 0.125 0.115 0.    0.778]\n",
      "AUC all:  0.7931811777965623\n",
      "\n"
     ]
    },
    {
     "name": "stderr",
     "output_type": "stream",
     "text": [
      "[I 2019-08-24 12:18:47,904] Finished trial#951 resulted in value: -0.7931811777965623. Current best value is -0.7944491406029868 with parameters: {'w_lr': 0.018735636670162738, 'w_sv': 0.609782869522277, 'w_xgb': 0.1257268888344056, 'w_lgbm': 0.10282314833705018, 'w_mlp': 0.6409335052733912}.\n"
     ]
    },
    {
     "name": "stdout",
     "output_type": "stream",
     "text": [
      "[w_lr, w_lda, w_sv, w_xgb, w_lgbm,w_cb ] =  [0.095 0.    0.506 0.144 0.146 0.    0.746]\n",
      "AUC all:  0.7924767540152156\n",
      "\n"
     ]
    },
    {
     "name": "stderr",
     "output_type": "stream",
     "text": [
      "[I 2019-08-24 12:18:49,203] Finished trial#952 resulted in value: -0.7924767540152156. Current best value is -0.7944491406029868 with parameters: {'w_lr': 0.018735636670162738, 'w_sv': 0.609782869522277, 'w_xgb': 0.1257268888344056, 'w_lgbm': 0.10282314833705018, 'w_mlp': 0.6409335052733912}.\n"
     ]
    },
    {
     "name": "stdout",
     "output_type": "stream",
     "text": [
      "[w_lr, w_lda, w_sv, w_xgb, w_lgbm,w_cb ] =  [0.087 0.    0.419 0.172 0.001 0.    0.778]\n",
      "AUC all:  0.7745843899690054\n",
      "\n"
     ]
    },
    {
     "name": "stderr",
     "output_type": "stream",
     "text": [
      "[I 2019-08-24 12:18:50,500] Finished trial#953 resulted in value: -0.7745843899690054. Current best value is -0.7944491406029868 with parameters: {'w_lr': 0.018735636670162738, 'w_sv': 0.609782869522277, 'w_xgb': 0.1257268888344056, 'w_lgbm': 0.10282314833705018, 'w_mlp': 0.6409335052733912}.\n"
     ]
    },
    {
     "name": "stdout",
     "output_type": "stream",
     "text": [
      "[w_lr, w_lda, w_sv, w_xgb, w_lgbm,w_cb ] =  [0.132 0.    0.509 0.131 0.106 0.    0.721]\n",
      "AUC all:  0.7931811777965623\n",
      "\n"
     ]
    },
    {
     "name": "stderr",
     "output_type": "stream",
     "text": [
      "[I 2019-08-24 12:18:51,804] Finished trial#954 resulted in value: -0.7931811777965623. Current best value is -0.7944491406029868 with parameters: {'w_lr': 0.018735636670162738, 'w_sv': 0.609782869522277, 'w_xgb': 0.1257268888344056, 'w_lgbm': 0.10282314833705018, 'w_mlp': 0.6409335052733912}.\n"
     ]
    },
    {
     "name": "stdout",
     "output_type": "stream",
     "text": [
      "[w_lr, w_lda, w_sv, w_xgb, w_lgbm,w_cb ] =  [0.104 0.    0.477 0.189 0.178 0.    0.73 ]\n",
      "AUC all:  0.7920540997464074\n",
      "\n"
     ]
    },
    {
     "name": "stderr",
     "output_type": "stream",
     "text": [
      "[I 2019-08-24 12:18:53,100] Finished trial#955 resulted in value: -0.7920540997464074. Current best value is -0.7944491406029868 with parameters: {'w_lr': 0.018735636670162738, 'w_sv': 0.609782869522277, 'w_xgb': 0.1257268888344056, 'w_lgbm': 0.10282314833705018, 'w_mlp': 0.6409335052733912}.\n"
     ]
    },
    {
     "name": "stdout",
     "output_type": "stream",
     "text": [
      "[w_lr, w_lda, w_sv, w_xgb, w_lgbm,w_cb ] =  [0.084 0.    0.501 0.146 0.133 0.    0.734]\n",
      "AUC all:  0.7933220625528318\n",
      "\n"
     ]
    },
    {
     "name": "stderr",
     "output_type": "stream",
     "text": [
      "[I 2019-08-24 12:18:54,401] Finished trial#956 resulted in value: -0.7933220625528318. Current best value is -0.7944491406029868 with parameters: {'w_lr': 0.018735636670162738, 'w_sv': 0.609782869522277, 'w_xgb': 0.1257268888344056, 'w_lgbm': 0.10282314833705018, 'w_mlp': 0.6409335052733912}.\n"
     ]
    },
    {
     "name": "stdout",
     "output_type": "stream",
     "text": [
      "[w_lr, w_lda, w_sv, w_xgb, w_lgbm,w_cb ] =  [0.022 0.    0.5   0.029 0.066 0.    0.754]\n",
      "AUC all:  0.7920540997464075\n",
      "\n"
     ]
    },
    {
     "name": "stderr",
     "output_type": "stream",
     "text": [
      "[I 2019-08-24 12:18:55,705] Finished trial#957 resulted in value: -0.7920540997464075. Current best value is -0.7944491406029868 with parameters: {'w_lr': 0.018735636670162738, 'w_sv': 0.609782869522277, 'w_xgb': 0.1257268888344056, 'w_lgbm': 0.10282314833705018, 'w_mlp': 0.6409335052733912}.\n"
     ]
    },
    {
     "name": "stdout",
     "output_type": "stream",
     "text": [
      "[w_lr, w_lda, w_sv, w_xgb, w_lgbm,w_cb ] =  [0.052 0.    0.498 0.156 0.09  0.    0.655]\n",
      "AUC all:  0.7909270216962525\n",
      "\n"
     ]
    },
    {
     "name": "stderr",
     "output_type": "stream",
     "text": [
      "[I 2019-08-24 12:18:57,017] Finished trial#958 resulted in value: -0.7909270216962525. Current best value is -0.7944491406029868 with parameters: {'w_lr': 0.018735636670162738, 'w_sv': 0.609782869522277, 'w_xgb': 0.1257268888344056, 'w_lgbm': 0.10282314833705018, 'w_mlp': 0.6409335052733912}.\n"
     ]
    },
    {
     "name": "stdout",
     "output_type": "stream",
     "text": [
      "[w_lr, w_lda, w_sv, w_xgb, w_lgbm,w_cb ] =  [0.052 0.    0.602 0.104 0.093 0.    0.704]\n",
      "AUC all:  0.7928994082840236\n",
      "\n"
     ]
    },
    {
     "name": "stderr",
     "output_type": "stream",
     "text": [
      "[I 2019-08-24 12:18:58,327] Finished trial#959 resulted in value: -0.7928994082840236. Current best value is -0.7944491406029868 with parameters: {'w_lr': 0.018735636670162738, 'w_sv': 0.609782869522277, 'w_xgb': 0.1257268888344056, 'w_lgbm': 0.10282314833705018, 'w_mlp': 0.6409335052733912}.\n"
     ]
    },
    {
     "name": "stdout",
     "output_type": "stream",
     "text": [
      "[w_lr, w_lda, w_sv, w_xgb, w_lgbm,w_cb ] =  [0.064 0.    0.439 0.144 0.118 0.    0.735]\n",
      "AUC all:  0.7943082558467174\n",
      "\n"
     ]
    },
    {
     "name": "stderr",
     "output_type": "stream",
     "text": [
      "[I 2019-08-24 12:18:59,628] Finished trial#960 resulted in value: -0.7943082558467174. Current best value is -0.7944491406029868 with parameters: {'w_lr': 0.018735636670162738, 'w_sv': 0.609782869522277, 'w_xgb': 0.1257268888344056, 'w_lgbm': 0.10282314833705018, 'w_mlp': 0.6409335052733912}.\n"
     ]
    },
    {
     "name": "stdout",
     "output_type": "stream",
     "text": [
      "[w_lr, w_lda, w_sv, w_xgb, w_lgbm,w_cb ] =  [0.472 0.    0.478 0.205 0.165 0.    0.768]\n",
      "AUC all:  0.7916314454775993\n",
      "\n"
     ]
    },
    {
     "name": "stderr",
     "output_type": "stream",
     "text": [
      "[I 2019-08-24 12:19:00,928] Finished trial#961 resulted in value: -0.7916314454775993. Current best value is -0.7944491406029868 with parameters: {'w_lr': 0.018735636670162738, 'w_sv': 0.609782869522277, 'w_xgb': 0.1257268888344056, 'w_lgbm': 0.10282314833705018, 'w_mlp': 0.6409335052733912}.\n"
     ]
    },
    {
     "name": "stdout",
     "output_type": "stream",
     "text": [
      "[w_lr, w_lda, w_sv, w_xgb, w_lgbm,w_cb ] =  [0.07  0.    0.379 0.178 0.129 0.    0.73 ]\n",
      "AUC all:  0.7920540997464074\n",
      "\n"
     ]
    },
    {
     "name": "stderr",
     "output_type": "stream",
     "text": [
      "[I 2019-08-24 12:19:02,252] Finished trial#962 resulted in value: -0.7920540997464074. Current best value is -0.7944491406029868 with parameters: {'w_lr': 0.018735636670162738, 'w_sv': 0.609782869522277, 'w_xgb': 0.1257268888344056, 'w_lgbm': 0.10282314833705018, 'w_mlp': 0.6409335052733912}.\n"
     ]
    },
    {
     "name": "stdout",
     "output_type": "stream",
     "text": [
      "[w_lr, w_lda, w_sv, w_xgb, w_lgbm,w_cb ] =  [0.079 0.    0.941 0.165 0.155 0.    0.736]\n",
      "AUC all:  0.793040293040293\n",
      "\n"
     ]
    },
    {
     "name": "stderr",
     "output_type": "stream",
     "text": [
      "[I 2019-08-24 12:19:03,565] Finished trial#963 resulted in value: -0.793040293040293. Current best value is -0.7944491406029868 with parameters: {'w_lr': 0.018735636670162738, 'w_sv': 0.609782869522277, 'w_xgb': 0.1257268888344056, 'w_lgbm': 0.10282314833705018, 'w_mlp': 0.6409335052733912}.\n"
     ]
    },
    {
     "name": "stdout",
     "output_type": "stream",
     "text": [
      "[w_lr, w_lda, w_sv, w_xgb, w_lgbm,w_cb ] =  [0.051 0.    0.47  0.142 0.12  0.    0.758]\n",
      "AUC all:  0.7940264863341786\n",
      "\n"
     ]
    },
    {
     "name": "stderr",
     "output_type": "stream",
     "text": [
      "[I 2019-08-24 12:19:04,866] Finished trial#964 resulted in value: -0.7940264863341786. Current best value is -0.7944491406029868 with parameters: {'w_lr': 0.018735636670162738, 'w_sv': 0.609782869522277, 'w_xgb': 0.1257268888344056, 'w_lgbm': 0.10282314833705018, 'w_mlp': 0.6409335052733912}.\n"
     ]
    },
    {
     "name": "stdout",
     "output_type": "stream",
     "text": [
      "[w_lr, w_lda, w_sv, w_xgb, w_lgbm,w_cb ] =  [0.111 0.    0.439 0.155 0.149 0.    0.788]\n",
      "AUC all:  0.7928994082840237\n",
      "\n"
     ]
    },
    {
     "name": "stderr",
     "output_type": "stream",
     "text": [
      "[I 2019-08-24 12:19:06,185] Finished trial#965 resulted in value: -0.7928994082840237. Current best value is -0.7944491406029868 with parameters: {'w_lr': 0.018735636670162738, 'w_sv': 0.609782869522277, 'w_xgb': 0.1257268888344056, 'w_lgbm': 0.10282314833705018, 'w_mlp': 0.6409335052733912}.\n"
     ]
    },
    {
     "name": "stdout",
     "output_type": "stream",
     "text": [
      "[w_lr, w_lda, w_sv, w_xgb, w_lgbm,w_cb ] =  [0.067 0.    0.419 0.195 0.19  0.    0.753]\n",
      "AUC all:  0.79149056072133\n",
      "\n"
     ]
    },
    {
     "name": "stderr",
     "output_type": "stream",
     "text": [
      "[I 2019-08-24 12:19:07,517] Finished trial#966 resulted in value: -0.79149056072133. Current best value is -0.7944491406029868 with parameters: {'w_lr': 0.018735636670162738, 'w_sv': 0.609782869522277, 'w_xgb': 0.1257268888344056, 'w_lgbm': 0.10282314833705018, 'w_mlp': 0.6409335052733912}.\n"
     ]
    },
    {
     "name": "stdout",
     "output_type": "stream",
     "text": [
      "[w_lr, w_lda, w_sv, w_xgb, w_lgbm,w_cb ] =  [0.067 0.    0.443 0.109 0.134 0.    0.768]\n",
      "AUC all:  0.7923358692589462\n",
      "\n"
     ]
    },
    {
     "name": "stderr",
     "output_type": "stream",
     "text": [
      "[I 2019-08-24 12:19:08,824] Finished trial#967 resulted in value: -0.7923358692589462. Current best value is -0.7944491406029868 with parameters: {'w_lr': 0.018735636670162738, 'w_sv': 0.609782869522277, 'w_xgb': 0.1257268888344056, 'w_lgbm': 0.10282314833705018, 'w_mlp': 0.6409335052733912}.\n"
     ]
    },
    {
     "name": "stdout",
     "output_type": "stream",
     "text": [
      "[w_lr, w_lda, w_sv, w_xgb, w_lgbm,w_cb ] =  [0.083 0.    0.44  0.169 0.122 0.    0.752]\n",
      "AUC all:  0.7927585235277543\n",
      "\n"
     ]
    },
    {
     "name": "stderr",
     "output_type": "stream",
     "text": [
      "[I 2019-08-24 12:19:10,136] Finished trial#968 resulted in value: -0.7927585235277543. Current best value is -0.7944491406029868 with parameters: {'w_lr': 0.018735636670162738, 'w_sv': 0.609782869522277, 'w_xgb': 0.1257268888344056, 'w_lgbm': 0.10282314833705018, 'w_mlp': 0.6409335052733912}.\n"
     ]
    },
    {
     "name": "stdout",
     "output_type": "stream",
     "text": [
      "[w_lr, w_lda, w_sv, w_xgb, w_lgbm,w_cb ] =  [0.116 0.    0.468 0.218 0.145 0.    0.953]\n",
      "AUC all:  0.7924767540152156\n",
      "\n"
     ]
    },
    {
     "name": "stderr",
     "output_type": "stream",
     "text": [
      "[I 2019-08-24 12:19:11,461] Finished trial#969 resulted in value: -0.7924767540152156. Current best value is -0.7944491406029868 with parameters: {'w_lr': 0.018735636670162738, 'w_sv': 0.609782869522277, 'w_xgb': 0.1257268888344056, 'w_lgbm': 0.10282314833705018, 'w_mlp': 0.6409335052733912}.\n"
     ]
    },
    {
     "name": "stdout",
     "output_type": "stream",
     "text": [
      "[w_lr, w_lda, w_sv, w_xgb, w_lgbm,w_cb ] =  [0.043 0.    0.491 0.144 0.121 0.    0.767]\n",
      "AUC all:  0.7938856015779092\n",
      "\n"
     ]
    },
    {
     "name": "stderr",
     "output_type": "stream",
     "text": [
      "[I 2019-08-24 12:19:12,790] Finished trial#970 resulted in value: -0.7938856015779092. Current best value is -0.7944491406029868 with parameters: {'w_lr': 0.018735636670162738, 'w_sv': 0.609782869522277, 'w_xgb': 0.1257268888344056, 'w_lgbm': 0.10282314833705018, 'w_mlp': 0.6409335052733912}.\n"
     ]
    },
    {
     "name": "stdout",
     "output_type": "stream",
     "text": [
      "[w_lr, w_lda, w_sv, w_xgb, w_lgbm,w_cb ] =  [0.044 0.    0.408 0.179 0.137 0.    0.816]\n",
      "AUC all:  0.7931811777965624\n",
      "\n"
     ]
    },
    {
     "name": "stderr",
     "output_type": "stream",
     "text": [
      "[I 2019-08-24 12:19:14,118] Finished trial#971 resulted in value: -0.7931811777965624. Current best value is -0.7944491406029868 with parameters: {'w_lr': 0.018735636670162738, 'w_sv': 0.609782869522277, 'w_xgb': 0.1257268888344056, 'w_lgbm': 0.10282314833705018, 'w_mlp': 0.6409335052733912}.\n"
     ]
    },
    {
     "name": "stdout",
     "output_type": "stream",
     "text": [
      "[w_lr, w_lda, w_sv, w_xgb, w_lgbm,w_cb ] =  [0.056 0.    0.439 0.184 0.161 0.    0.787]\n",
      "AUC all:  0.7926176387714848\n",
      "\n"
     ]
    },
    {
     "name": "stderr",
     "output_type": "stream",
     "text": [
      "[I 2019-08-24 12:19:15,482] Finished trial#972 resulted in value: -0.7926176387714848. Current best value is -0.7944491406029868 with parameters: {'w_lr': 0.018735636670162738, 'w_sv': 0.609782869522277, 'w_xgb': 0.1257268888344056, 'w_lgbm': 0.10282314833705018, 'w_mlp': 0.6409335052733912}.\n"
     ]
    },
    {
     "name": "stdout",
     "output_type": "stream",
     "text": [
      "[w_lr, w_lda, w_sv, w_xgb, w_lgbm,w_cb ] =  [0.014 0.    0.461 0.154 0.163 0.    0.778]\n",
      "AUC all:  0.7926176387714848\n",
      "\n"
     ]
    },
    {
     "name": "stderr",
     "output_type": "stream",
     "text": [
      "[I 2019-08-24 12:19:17,037] Finished trial#973 resulted in value: -0.7926176387714848. Current best value is -0.7944491406029868 with parameters: {'w_lr': 0.018735636670162738, 'w_sv': 0.609782869522277, 'w_xgb': 0.1257268888344056, 'w_lgbm': 0.10282314833705018, 'w_mlp': 0.6409335052733912}.\n"
     ]
    },
    {
     "name": "stdout",
     "output_type": "stream",
     "text": [
      "[w_lr, w_lda, w_sv, w_xgb, w_lgbm,w_cb ] =  [0.096 0.    0.393 0.164 0.122 0.    0.786]\n",
      "AUC all:  0.7937447168216398\n",
      "\n"
     ]
    },
    {
     "name": "stderr",
     "output_type": "stream",
     "text": [
      "[I 2019-08-24 12:19:18,479] Finished trial#974 resulted in value: -0.7937447168216398. Current best value is -0.7944491406029868 with parameters: {'w_lr': 0.018735636670162738, 'w_sv': 0.609782869522277, 'w_xgb': 0.1257268888344056, 'w_lgbm': 0.10282314833705018, 'w_mlp': 0.6409335052733912}.\n"
     ]
    },
    {
     "name": "stdout",
     "output_type": "stream",
     "text": [
      "[w_lr, w_lda, w_sv, w_xgb, w_lgbm,w_cb ] =  [0.141 0.    0.362 0.173 0.147 0.    0.772]\n",
      "AUC all:  0.7927585235277543\n",
      "\n"
     ]
    },
    {
     "name": "stderr",
     "output_type": "stream",
     "text": [
      "[I 2019-08-24 12:19:19,991] Finished trial#975 resulted in value: -0.7927585235277543. Current best value is -0.7944491406029868 with parameters: {'w_lr': 0.018735636670162738, 'w_sv': 0.609782869522277, 'w_xgb': 0.1257268888344056, 'w_lgbm': 0.10282314833705018, 'w_mlp': 0.6409335052733912}.\n"
     ]
    },
    {
     "name": "stdout",
     "output_type": "stream",
     "text": [
      "[w_lr, w_lda, w_sv, w_xgb, w_lgbm,w_cb ] =  [0.097 0.    0.426 0.144 0.118 0.    0.759]\n",
      "AUC all:  0.7938856015779092\n",
      "\n"
     ]
    },
    {
     "name": "stderr",
     "output_type": "stream",
     "text": [
      "[I 2019-08-24 12:19:21,435] Finished trial#976 resulted in value: -0.7938856015779092. Current best value is -0.7944491406029868 with parameters: {'w_lr': 0.018735636670162738, 'w_sv': 0.609782869522277, 'w_xgb': 0.1257268888344056, 'w_lgbm': 0.10282314833705018, 'w_mlp': 0.6409335052733912}.\n"
     ]
    },
    {
     "name": "stdout",
     "output_type": "stream",
     "text": [
      "[w_lr, w_lda, w_sv, w_xgb, w_lgbm,w_cb ] =  [0.12  0.    0.428 0.213 0.129 0.    0.759]\n",
      "AUC all:  0.7910679064525218\n",
      "\n"
     ]
    },
    {
     "name": "stderr",
     "output_type": "stream",
     "text": [
      "[I 2019-08-24 12:19:22,788] Finished trial#977 resulted in value: -0.7910679064525218. Current best value is -0.7944491406029868 with parameters: {'w_lr': 0.018735636670162738, 'w_sv': 0.609782869522277, 'w_xgb': 0.1257268888344056, 'w_lgbm': 0.10282314833705018, 'w_mlp': 0.6409335052733912}.\n"
     ]
    },
    {
     "name": "stdout",
     "output_type": "stream",
     "text": [
      "[w_lr, w_lda, w_sv, w_xgb, w_lgbm,w_cb ] =  [0.082 0.    0.455 0.2   0.2   0.    0.804]\n",
      "AUC all:  0.79149056072133\n",
      "\n"
     ]
    },
    {
     "name": "stderr",
     "output_type": "stream",
     "text": [
      "[I 2019-08-24 12:19:24,236] Finished trial#978 resulted in value: -0.79149056072133. Current best value is -0.7944491406029868 with parameters: {'w_lr': 0.018735636670162738, 'w_sv': 0.609782869522277, 'w_xgb': 0.1257268888344056, 'w_lgbm': 0.10282314833705018, 'w_mlp': 0.6409335052733912}.\n"
     ]
    },
    {
     "name": "stdout",
     "output_type": "stream",
     "text": [
      "[w_lr, w_lda, w_sv, w_xgb, w_lgbm,w_cb ] =  [0.036 0.    0.406 0.144 0.12  0.    0.764]\n",
      "AUC all:  0.7938856015779092\n",
      "\n"
     ]
    },
    {
     "name": "stderr",
     "output_type": "stream",
     "text": [
      "[I 2019-08-24 12:19:25,578] Finished trial#979 resulted in value: -0.7938856015779092. Current best value is -0.7944491406029868 with parameters: {'w_lr': 0.018735636670162738, 'w_sv': 0.609782869522277, 'w_xgb': 0.1257268888344056, 'w_lgbm': 0.10282314833705018, 'w_mlp': 0.6409335052733912}.\n"
     ]
    },
    {
     "name": "stdout",
     "output_type": "stream",
     "text": [
      "[w_lr, w_lda, w_sv, w_xgb, w_lgbm,w_cb ] =  [0.04  0.    0.417 0.181 0.171 0.    0.831]\n",
      "AUC all:  0.7933220625528318\n",
      "\n"
     ]
    },
    {
     "name": "stderr",
     "output_type": "stream",
     "text": [
      "[I 2019-08-24 12:19:26,986] Finished trial#980 resulted in value: -0.7933220625528318. Current best value is -0.7944491406029868 with parameters: {'w_lr': 0.018735636670162738, 'w_sv': 0.609782869522277, 'w_xgb': 0.1257268888344056, 'w_lgbm': 0.10282314833705018, 'w_mlp': 0.6409335052733912}.\n"
     ]
    },
    {
     "name": "stdout",
     "output_type": "stream",
     "text": [
      "[w_lr, w_lda, w_sv, w_xgb, w_lgbm,w_cb ] =  [0.146 0.    0.423 0.157 0.148 0.    0.752]\n",
      "AUC all:  0.793040293040293\n",
      "\n"
     ]
    },
    {
     "name": "stderr",
     "output_type": "stream",
     "text": [
      "[I 2019-08-24 12:19:28,760] Finished trial#981 resulted in value: -0.793040293040293. Current best value is -0.7944491406029868 with parameters: {'w_lr': 0.018735636670162738, 'w_sv': 0.609782869522277, 'w_xgb': 0.1257268888344056, 'w_lgbm': 0.10282314833705018, 'w_mlp': 0.6409335052733912}.\n"
     ]
    },
    {
     "name": "stdout",
     "output_type": "stream",
     "text": [
      "[w_lr, w_lda, w_sv, w_xgb, w_lgbm,w_cb ] =  [0.032 0.    0.347 0.147 0.178 0.    0.796]\n",
      "AUC all:  0.792617638771485\n",
      "\n"
     ]
    },
    {
     "name": "stderr",
     "output_type": "stream",
     "text": [
      "[I 2019-08-24 12:19:30,408] Finished trial#982 resulted in value: -0.792617638771485. Current best value is -0.7944491406029868 with parameters: {'w_lr': 0.018735636670162738, 'w_sv': 0.609782869522277, 'w_xgb': 0.1257268888344056, 'w_lgbm': 0.10282314833705018, 'w_mlp': 0.6409335052733912}.\n"
     ]
    },
    {
     "name": "stdout",
     "output_type": "stream",
     "text": [
      "[w_lr, w_lda, w_sv, w_xgb, w_lgbm,w_cb ] =  [0.014 0.    0.394 0.19  0.144 0.    0.792]\n",
      "AUC all:  0.7921949845026769\n",
      "\n"
     ]
    },
    {
     "name": "stderr",
     "output_type": "stream",
     "text": [
      "[I 2019-08-24 12:19:31,796] Finished trial#983 resulted in value: -0.7921949845026769. Current best value is -0.7944491406029868 with parameters: {'w_lr': 0.018735636670162738, 'w_sv': 0.609782869522277, 'w_xgb': 0.1257268888344056, 'w_lgbm': 0.10282314833705018, 'w_mlp': 0.6409335052733912}.\n"
     ]
    },
    {
     "name": "stdout",
     "output_type": "stream",
     "text": [
      "[w_lr, w_lda, w_sv, w_xgb, w_lgbm,w_cb ] =  [0.035 0.    0.401 0.168 0.126 0.    0.804]\n",
      "AUC all:  0.7936038320653706\n",
      "\n"
     ]
    },
    {
     "name": "stderr",
     "output_type": "stream",
     "text": [
      "[I 2019-08-24 12:19:33,333] Finished trial#984 resulted in value: -0.7936038320653706. Current best value is -0.7944491406029868 with parameters: {'w_lr': 0.018735636670162738, 'w_sv': 0.609782869522277, 'w_xgb': 0.1257268888344056, 'w_lgbm': 0.10282314833705018, 'w_mlp': 0.6409335052733912}.\n"
     ]
    },
    {
     "name": "stdout",
     "output_type": "stream",
     "text": [
      "[w_lr, w_lda, w_sv, w_xgb, w_lgbm,w_cb ] =  [0.065 0.    0.428 0.15  0.163 0.    0.804]\n",
      "AUC all:  0.7928994082840236\n",
      "\n"
     ]
    },
    {
     "name": "stderr",
     "output_type": "stream",
     "text": [
      "[I 2019-08-24 12:19:34,743] Finished trial#985 resulted in value: -0.7928994082840236. Current best value is -0.7944491406029868 with parameters: {'w_lr': 0.018735636670162738, 'w_sv': 0.609782869522277, 'w_xgb': 0.1257268888344056, 'w_lgbm': 0.10282314833705018, 'w_mlp': 0.6409335052733912}.\n"
     ]
    },
    {
     "name": "stdout",
     "output_type": "stream",
     "text": [
      "[w_lr, w_lda, w_sv, w_xgb, w_lgbm,w_cb ] =  [0.123 0.    0.437 0.143 0.125 0.    0.765]\n",
      "AUC all:  0.7934629473091012\n",
      "\n"
     ]
    },
    {
     "name": "stderr",
     "output_type": "stream",
     "text": [
      "[I 2019-08-24 12:19:36,320] Finished trial#986 resulted in value: -0.7934629473091012. Current best value is -0.7944491406029868 with parameters: {'w_lr': 0.018735636670162738, 'w_sv': 0.609782869522277, 'w_xgb': 0.1257268888344056, 'w_lgbm': 0.10282314833705018, 'w_mlp': 0.6409335052733912}.\n"
     ]
    },
    {
     "name": "stdout",
     "output_type": "stream",
     "text": [
      "[w_lr, w_lda, w_sv, w_xgb, w_lgbm,w_cb ] =  [0.062 0.    0.362 0.183 0.213 0.    0.764]\n",
      "AUC all:  0.7917723302338687\n",
      "\n"
     ]
    },
    {
     "name": "stderr",
     "output_type": "stream",
     "text": [
      "[I 2019-08-24 12:19:37,754] Finished trial#987 resulted in value: -0.7917723302338687. Current best value is -0.7944491406029868 with parameters: {'w_lr': 0.018735636670162738, 'w_sv': 0.609782869522277, 'w_xgb': 0.1257268888344056, 'w_lgbm': 0.10282314833705018, 'w_mlp': 0.6409335052733912}.\n"
     ]
    },
    {
     "name": "stdout",
     "output_type": "stream",
     "text": [
      "[w_lr, w_lda, w_sv, w_xgb, w_lgbm,w_cb ] =  [0.094 0.    0.41  0.168 0.143 0.    0.776]\n",
      "AUC all:  0.7931811777965623\n",
      "\n"
     ]
    },
    {
     "name": "stderr",
     "output_type": "stream",
     "text": [
      "[I 2019-08-24 12:19:39,204] Finished trial#988 resulted in value: -0.7931811777965623. Current best value is -0.7944491406029868 with parameters: {'w_lr': 0.018735636670162738, 'w_sv': 0.609782869522277, 'w_xgb': 0.1257268888344056, 'w_lgbm': 0.10282314833705018, 'w_mlp': 0.6409335052733912}.\n"
     ]
    },
    {
     "name": "stdout",
     "output_type": "stream",
     "text": [
      "[w_lr, w_lda, w_sv, w_xgb, w_lgbm,w_cb ] =  [0.06  0.    0.45  0.151 0.119 0.    0.761]\n",
      "AUC all:  0.7938856015779092\n",
      "\n"
     ]
    },
    {
     "name": "stderr",
     "output_type": "stream",
     "text": [
      "[I 2019-08-24 12:19:40,947] Finished trial#989 resulted in value: -0.7938856015779092. Current best value is -0.7944491406029868 with parameters: {'w_lr': 0.018735636670162738, 'w_sv': 0.609782869522277, 'w_xgb': 0.1257268888344056, 'w_lgbm': 0.10282314833705018, 'w_mlp': 0.6409335052733912}.\n"
     ]
    },
    {
     "name": "stdout",
     "output_type": "stream",
     "text": [
      "[w_lr, w_lda, w_sv, w_xgb, w_lgbm,w_cb ] =  [0.08  0.    0.461 0.161 0.158 0.    0.773]\n",
      "AUC all:  0.7934629473091012\n",
      "\n"
     ]
    },
    {
     "name": "stderr",
     "output_type": "stream",
     "text": [
      "[I 2019-08-24 12:19:42,532] Finished trial#990 resulted in value: -0.7934629473091012. Current best value is -0.7944491406029868 with parameters: {'w_lr': 0.018735636670162738, 'w_sv': 0.609782869522277, 'w_xgb': 0.1257268888344056, 'w_lgbm': 0.10282314833705018, 'w_mlp': 0.6409335052733912}.\n"
     ]
    },
    {
     "name": "stdout",
     "output_type": "stream",
     "text": [
      "[w_lr, w_lda, w_sv, w_xgb, w_lgbm,w_cb ] =  [0.106 0.    0.463 0.193 0.181 0.    0.813]\n",
      "AUC all:  0.7928994082840236\n",
      "\n"
     ]
    },
    {
     "name": "stderr",
     "output_type": "stream",
     "text": [
      "[I 2019-08-24 12:19:44,121] Finished trial#991 resulted in value: -0.7928994082840236. Current best value is -0.7944491406029868 with parameters: {'w_lr': 0.018735636670162738, 'w_sv': 0.609782869522277, 'w_xgb': 0.1257268888344056, 'w_lgbm': 0.10282314833705018, 'w_mlp': 0.6409335052733912}.\n"
     ]
    },
    {
     "name": "stdout",
     "output_type": "stream",
     "text": [
      "[w_lr, w_lda, w_sv, w_xgb, w_lgbm,w_cb ] =  [0.061 0.    0.446 0.15  0.134 0.    0.761]\n",
      "AUC all:  0.7930402930402931\n",
      "\n"
     ]
    },
    {
     "name": "stderr",
     "output_type": "stream",
     "text": [
      "[I 2019-08-24 12:19:45,755] Finished trial#992 resulted in value: -0.7930402930402931. Current best value is -0.7944491406029868 with parameters: {'w_lr': 0.018735636670162738, 'w_sv': 0.609782869522277, 'w_xgb': 0.1257268888344056, 'w_lgbm': 0.10282314833705018, 'w_mlp': 0.6409335052733912}.\n"
     ]
    },
    {
     "name": "stdout",
     "output_type": "stream",
     "text": [
      "[w_lr, w_lda, w_sv, w_xgb, w_lgbm,w_cb ] =  [0.034 0.    0.451 0.175 0.122 0.    0.837]\n",
      "AUC all:  0.792617638771485\n",
      "\n"
     ]
    },
    {
     "name": "stderr",
     "output_type": "stream",
     "text": [
      "[I 2019-08-24 12:19:47,188] Finished trial#993 resulted in value: -0.792617638771485. Current best value is -0.7944491406029868 with parameters: {'w_lr': 0.018735636670162738, 'w_sv': 0.609782869522277, 'w_xgb': 0.1257268888344056, 'w_lgbm': 0.10282314833705018, 'w_mlp': 0.6409335052733912}.\n"
     ]
    },
    {
     "name": "stdout",
     "output_type": "stream",
     "text": [
      "[w_lr, w_lda, w_sv, w_xgb, w_lgbm,w_cb ] =  [0.083 0.    0.399 0.21  0.116 0.    0.756]\n",
      "AUC all:  0.7910679064525219\n",
      "\n"
     ]
    },
    {
     "name": "stderr",
     "output_type": "stream",
     "text": [
      "[I 2019-08-24 12:19:49,080] Finished trial#994 resulted in value: -0.7910679064525219. Current best value is -0.7944491406029868 with parameters: {'w_lr': 0.018735636670162738, 'w_sv': 0.609782869522277, 'w_xgb': 0.1257268888344056, 'w_lgbm': 0.10282314833705018, 'w_mlp': 0.6409335052733912}.\n"
     ]
    },
    {
     "name": "stdout",
     "output_type": "stream",
     "text": [
      "[w_lr, w_lda, w_sv, w_xgb, w_lgbm,w_cb ] =  [0.053 0.    0.385 0.144 0.158 0.    0.795]\n",
      "AUC all:  0.7931811777965624\n",
      "\n"
     ]
    },
    {
     "name": "stderr",
     "output_type": "stream",
     "text": [
      "[I 2019-08-24 12:19:50,662] Finished trial#995 resulted in value: -0.7931811777965624. Current best value is -0.7944491406029868 with parameters: {'w_lr': 0.018735636670162738, 'w_sv': 0.609782869522277, 'w_xgb': 0.1257268888344056, 'w_lgbm': 0.10282314833705018, 'w_mlp': 0.6409335052733912}.\n"
     ]
    },
    {
     "name": "stdout",
     "output_type": "stream",
     "text": [
      "[w_lr, w_lda, w_sv, w_xgb, w_lgbm,w_cb ] =  [0.032 0.    0.437 0.    0.138 0.    0.76 ]\n",
      "AUC all:  0.7900817131586362\n",
      "\n"
     ]
    },
    {
     "name": "stderr",
     "output_type": "stream",
     "text": [
      "[I 2019-08-24 12:19:52,477] Finished trial#996 resulted in value: -0.7900817131586362. Current best value is -0.7944491406029868 with parameters: {'w_lr': 0.018735636670162738, 'w_sv': 0.609782869522277, 'w_xgb': 0.1257268888344056, 'w_lgbm': 0.10282314833705018, 'w_mlp': 0.6409335052733912}.\n"
     ]
    },
    {
     "name": "stdout",
     "output_type": "stream",
     "text": [
      "[w_lr, w_lda, w_sv, w_xgb, w_lgbm,w_cb ] =  [0.071 0.    0.431 0.142 0.125 0.    0.789]\n",
      "AUC all:  0.7936038320653704\n",
      "\n"
     ]
    },
    {
     "name": "stderr",
     "output_type": "stream",
     "text": [
      "[I 2019-08-24 12:19:54,093] Finished trial#997 resulted in value: -0.7936038320653704. Current best value is -0.7944491406029868 with parameters: {'w_lr': 0.018735636670162738, 'w_sv': 0.609782869522277, 'w_xgb': 0.1257268888344056, 'w_lgbm': 0.10282314833705018, 'w_mlp': 0.6409335052733912}.\n"
     ]
    },
    {
     "name": "stdout",
     "output_type": "stream",
     "text": [
      "[w_lr, w_lda, w_sv, w_xgb, w_lgbm,w_cb ] =  [0.102 0.    0.475 0.167 0.111 0.    0.769]\n",
      "AUC all:  0.791913214990138\n",
      "\n"
     ]
    },
    {
     "name": "stderr",
     "output_type": "stream",
     "text": [
      "[I 2019-08-24 12:19:55,599] Finished trial#998 resulted in value: -0.791913214990138. Current best value is -0.7944491406029868 with parameters: {'w_lr': 0.018735636670162738, 'w_sv': 0.609782869522277, 'w_xgb': 0.1257268888344056, 'w_lgbm': 0.10282314833705018, 'w_mlp': 0.6409335052733912}.\n"
     ]
    },
    {
     "name": "stdout",
     "output_type": "stream",
     "text": [
      "[w_lr, w_lda, w_sv, w_xgb, w_lgbm,w_cb ] =  [0.05  0.    0.414 0.242 0.148 0.    0.822]\n",
      "AUC all:  0.7912087912087912\n",
      "\n"
     ]
    },
    {
     "name": "stderr",
     "output_type": "stream",
     "text": [
      "[I 2019-08-24 12:19:57,039] Finished trial#999 resulted in value: -0.7912087912087912. Current best value is -0.7944491406029868 with parameters: {'w_lr': 0.018735636670162738, 'w_sv': 0.609782869522277, 'w_xgb': 0.1257268888344056, 'w_lgbm': 0.10282314833705018, 'w_mlp': 0.6409335052733912}.\n"
     ]
    },
    {
     "name": "stdout",
     "output_type": "stream",
     "text": [
      "[w_lr, w_lda, w_sv, w_xgb, w_lgbm,w_cb ] =  [0.017 0.    0.458 0.13  0.113 0.    0.769]\n",
      "AUC all:  0.7936038320653704\n",
      "\n"
     ]
    },
    {
     "name": "stderr",
     "output_type": "stream",
     "text": [
      "[I 2019-08-24 12:19:58,571] Finished trial#1000 resulted in value: -0.7936038320653704. Current best value is -0.7944491406029868 with parameters: {'w_lr': 0.018735636670162738, 'w_sv': 0.609782869522277, 'w_xgb': 0.1257268888344056, 'w_lgbm': 0.10282314833705018, 'w_mlp': 0.6409335052733912}.\n"
     ]
    },
    {
     "name": "stdout",
     "output_type": "stream",
     "text": [
      "[w_lr, w_lda, w_sv, w_xgb, w_lgbm,w_cb ] =  [0.077 0.    0.414 0.186 0.137 0.    0.757]\n",
      "AUC all:  0.791913214990138\n",
      "\n"
     ]
    },
    {
     "name": "stderr",
     "output_type": "stream",
     "text": [
      "[I 2019-08-24 12:19:59,961] Finished trial#1001 resulted in value: -0.791913214990138. Current best value is -0.7944491406029868 with parameters: {'w_lr': 0.018735636670162738, 'w_sv': 0.609782869522277, 'w_xgb': 0.1257268888344056, 'w_lgbm': 0.10282314833705018, 'w_mlp': 0.6409335052733912}.\n"
     ]
    },
    {
     "name": "stdout",
     "output_type": "stream",
     "text": [
      "[w_lr, w_lda, w_sv, w_xgb, w_lgbm,w_cb ] =  [0.035 0.    0.483 0.16  0.111 0.    0.741]\n",
      "AUC all:  0.7933220625528317\n",
      "\n"
     ]
    },
    {
     "name": "stderr",
     "output_type": "stream",
     "text": [
      "[I 2019-08-24 12:20:01,416] Finished trial#1002 resulted in value: -0.7933220625528317. Current best value is -0.7944491406029868 with parameters: {'w_lr': 0.018735636670162738, 'w_sv': 0.609782869522277, 'w_xgb': 0.1257268888344056, 'w_lgbm': 0.10282314833705018, 'w_mlp': 0.6409335052733912}.\n"
     ]
    },
    {
     "name": "stdout",
     "output_type": "stream",
     "text": [
      "[w_lr, w_lda, w_sv, w_xgb, w_lgbm,w_cb ] =  [0.056 0.    0.46  0.135 0.176 0.    0.746]\n",
      "AUC all:  0.7912087912087912\n",
      "\n"
     ]
    },
    {
     "name": "stderr",
     "output_type": "stream",
     "text": [
      "[I 2019-08-24 12:20:02,811] Finished trial#1003 resulted in value: -0.7912087912087912. Current best value is -0.7944491406029868 with parameters: {'w_lr': 0.018735636670162738, 'w_sv': 0.609782869522277, 'w_xgb': 0.1257268888344056, 'w_lgbm': 0.10282314833705018, 'w_mlp': 0.6409335052733912}.\n"
     ]
    },
    {
     "name": "stdout",
     "output_type": "stream",
     "text": [
      "[w_lr, w_lda, w_sv, w_xgb, w_lgbm,w_cb ] =  [0.    0.    0.437 0.87  0.111 0.    0.799]\n",
      "AUC all:  0.7792335869258946\n",
      "\n"
     ]
    },
    {
     "name": "stderr",
     "output_type": "stream",
     "text": [
      "[I 2019-08-24 12:20:04,217] Finished trial#1004 resulted in value: -0.7792335869258946. Current best value is -0.7944491406029868 with parameters: {'w_lr': 0.018735636670162738, 'w_sv': 0.609782869522277, 'w_xgb': 0.1257268888344056, 'w_lgbm': 0.10282314833705018, 'w_mlp': 0.6409335052733912}.\n"
     ]
    },
    {
     "name": "stdout",
     "output_type": "stream",
     "text": [
      "[w_lr, w_lda, w_sv, w_xgb, w_lgbm,w_cb ] =  [0.092 0.    0.376 0.154 0.623 0.    0.777]\n",
      "AUC all:  0.7776838546069315\n",
      "\n"
     ]
    },
    {
     "name": "stderr",
     "output_type": "stream",
     "text": [
      "[I 2019-08-24 12:20:05,580] Finished trial#1005 resulted in value: -0.7776838546069315. Current best value is -0.7944491406029868 with parameters: {'w_lr': 0.018735636670162738, 'w_sv': 0.609782869522277, 'w_xgb': 0.1257268888344056, 'w_lgbm': 0.10282314833705018, 'w_mlp': 0.6409335052733912}.\n"
     ]
    },
    {
     "name": "stdout",
     "output_type": "stream",
     "text": [
      "[w_lr, w_lda, w_sv, w_xgb, w_lgbm,w_cb ] =  [0.018 0.    0.412 0.142 0.134 0.    0.742]\n",
      "AUC all:  0.7936038320653704\n",
      "\n"
     ]
    },
    {
     "name": "stderr",
     "output_type": "stream",
     "text": [
      "[I 2019-08-24 12:20:07,046] Finished trial#1006 resulted in value: -0.7936038320653704. Current best value is -0.7944491406029868 with parameters: {'w_lr': 0.018735636670162738, 'w_sv': 0.609782869522277, 'w_xgb': 0.1257268888344056, 'w_lgbm': 0.10282314833705018, 'w_mlp': 0.6409335052733912}.\n"
     ]
    },
    {
     "name": "stdout",
     "output_type": "stream",
     "text": [
      "[w_lr, w_lda, w_sv, w_xgb, w_lgbm,w_cb ] =  [0.053 0.    0.478 0.13  0.158 0.    0.748]\n",
      "AUC all:  0.7927585235277542\n",
      "\n"
     ]
    },
    {
     "name": "stderr",
     "output_type": "stream",
     "text": [
      "[I 2019-08-24 12:20:08,409] Finished trial#1007 resulted in value: -0.7927585235277542. Current best value is -0.7944491406029868 with parameters: {'w_lr': 0.018735636670162738, 'w_sv': 0.609782869522277, 'w_xgb': 0.1257268888344056, 'w_lgbm': 0.10282314833705018, 'w_mlp': 0.6409335052733912}.\n"
     ]
    },
    {
     "name": "stdout",
     "output_type": "stream",
     "text": [
      "[w_lr, w_lda, w_sv, w_xgb, w_lgbm,w_cb ] =  [0.106 0.    0.445 0.196 0.107 0.    0.768]\n",
      "AUC all:  0.7909270216962525\n",
      "\n"
     ]
    },
    {
     "name": "stderr",
     "output_type": "stream",
     "text": [
      "[I 2019-08-24 12:20:10,304] Finished trial#1008 resulted in value: -0.7909270216962525. Current best value is -0.7944491406029868 with parameters: {'w_lr': 0.018735636670162738, 'w_sv': 0.609782869522277, 'w_xgb': 0.1257268888344056, 'w_lgbm': 0.10282314833705018, 'w_mlp': 0.6409335052733912}.\n"
     ]
    },
    {
     "name": "stdout",
     "output_type": "stream",
     "text": [
      "[w_lr, w_lda, w_sv, w_xgb, w_lgbm,w_cb ] =  [0.002 0.    0.389 0.162 0.125 0.    0.784]\n",
      "AUC all:  0.7937447168216398\n",
      "\n"
     ]
    },
    {
     "name": "stderr",
     "output_type": "stream",
     "text": [
      "[I 2019-08-24 12:20:12,092] Finished trial#1009 resulted in value: -0.7937447168216398. Current best value is -0.7944491406029868 with parameters: {'w_lr': 0.018735636670162738, 'w_sv': 0.609782869522277, 'w_xgb': 0.1257268888344056, 'w_lgbm': 0.10282314833705018, 'w_mlp': 0.6409335052733912}.\n"
     ]
    },
    {
     "name": "stdout",
     "output_type": "stream",
     "text": [
      "[w_lr, w_lda, w_sv, w_xgb, w_lgbm,w_cb ] =  [0.068 0.    0.482 0.125 0.105 0.    0.751]\n",
      "AUC all:  0.7930402930402929\n",
      "\n"
     ]
    },
    {
     "name": "stderr",
     "output_type": "stream",
     "text": [
      "[I 2019-08-24 12:20:13,466] Finished trial#1010 resulted in value: -0.7930402930402929. Current best value is -0.7944491406029868 with parameters: {'w_lr': 0.018735636670162738, 'w_sv': 0.609782869522277, 'w_xgb': 0.1257268888344056, 'w_lgbm': 0.10282314833705018, 'w_mlp': 0.6409335052733912}.\n"
     ]
    },
    {
     "name": "stdout",
     "output_type": "stream",
     "text": [
      "[w_lr, w_lda, w_sv, w_xgb, w_lgbm,w_cb ] =  [0.039 0.    0.456 0.175 0.14  0.    0.811]\n",
      "AUC all:  0.7923358692589463\n",
      "\n"
     ]
    },
    {
     "name": "stderr",
     "output_type": "stream",
     "text": [
      "[I 2019-08-24 12:20:15,118] Finished trial#1011 resulted in value: -0.7923358692589463. Current best value is -0.7944491406029868 with parameters: {'w_lr': 0.018735636670162738, 'w_sv': 0.609782869522277, 'w_xgb': 0.1257268888344056, 'w_lgbm': 0.10282314833705018, 'w_mlp': 0.6409335052733912}.\n"
     ]
    },
    {
     "name": "stdout",
     "output_type": "stream",
     "text": [
      "[w_lr, w_lda, w_sv, w_xgb, w_lgbm,w_cb ] =  [0.082 0.    0.427 0.145 0.095 0.    0.742]\n",
      "AUC all:  0.7906452521837136\n",
      "\n"
     ]
    },
    {
     "name": "stderr",
     "output_type": "stream",
     "text": [
      "[I 2019-08-24 12:20:16,973] Finished trial#1012 resulted in value: -0.7906452521837136. Current best value is -0.7944491406029868 with parameters: {'w_lr': 0.018735636670162738, 'w_sv': 0.609782869522277, 'w_xgb': 0.1257268888344056, 'w_lgbm': 0.10282314833705018, 'w_mlp': 0.6409335052733912}.\n"
     ]
    },
    {
     "name": "stdout",
     "output_type": "stream",
     "text": [
      "[w_lr, w_lda, w_sv, w_xgb, w_lgbm,w_cb ] =  [0.131 0.    0.477 0.121 0.122 0.    0.777]\n",
      "AUC all:  0.7921949845026768\n",
      "\n"
     ]
    },
    {
     "name": "stderr",
     "output_type": "stream",
     "text": [
      "[I 2019-08-24 12:20:18,673] Finished trial#1013 resulted in value: -0.7921949845026768. Current best value is -0.7944491406029868 with parameters: {'w_lr': 0.018735636670162738, 'w_sv': 0.609782869522277, 'w_xgb': 0.1257268888344056, 'w_lgbm': 0.10282314833705018, 'w_mlp': 0.6409335052733912}.\n"
     ]
    },
    {
     "name": "stdout",
     "output_type": "stream",
     "text": [
      "[w_lr, w_lda, w_sv, w_xgb, w_lgbm,w_cb ] =  [0.026 0.    0.436 0.157 0.154 0.    0.755]\n",
      "AUC all:  0.7931811777965623\n",
      "\n"
     ]
    },
    {
     "name": "stderr",
     "output_type": "stream",
     "text": [
      "[I 2019-08-24 12:20:20,104] Finished trial#1014 resulted in value: -0.7931811777965623. Current best value is -0.7944491406029868 with parameters: {'w_lr': 0.018735636670162738, 'w_sv': 0.609782869522277, 'w_xgb': 0.1257268888344056, 'w_lgbm': 0.10282314833705018, 'w_mlp': 0.6409335052733912}.\n"
     ]
    },
    {
     "name": "stdout",
     "output_type": "stream",
     "text": [
      "[w_lr, w_lda, w_sv, w_xgb, w_lgbm,w_cb ] =  [0.    0.    0.401 0.137 0.098 0.    0.793]\n",
      "AUC all:  0.7909270216962525\n",
      "\n"
     ]
    },
    {
     "name": "stderr",
     "output_type": "stream",
     "text": [
      "[I 2019-08-24 12:20:21,603] Finished trial#1015 resulted in value: -0.7909270216962525. Current best value is -0.7944491406029868 with parameters: {'w_lr': 0.018735636670162738, 'w_sv': 0.609782869522277, 'w_xgb': 0.1257268888344056, 'w_lgbm': 0.10282314833705018, 'w_mlp': 0.6409335052733912}.\n"
     ]
    },
    {
     "name": "stdout",
     "output_type": "stream",
     "text": [
      "[w_lr, w_lda, w_sv, w_xgb, w_lgbm,w_cb ] =  [0.048 0.    0.451 0.119 0.123 0.    0.736]\n",
      "AUC all:  0.7928994082840235\n",
      "\n"
     ]
    },
    {
     "name": "stderr",
     "output_type": "stream",
     "text": [
      "[I 2019-08-24 12:20:23,370] Finished trial#1016 resulted in value: -0.7928994082840235. Current best value is -0.7944491406029868 with parameters: {'w_lr': 0.018735636670162738, 'w_sv': 0.609782869522277, 'w_xgb': 0.1257268888344056, 'w_lgbm': 0.10282314833705018, 'w_mlp': 0.6409335052733912}.\n"
     ]
    },
    {
     "name": "stdout",
     "output_type": "stream",
     "text": [
      "[w_lr, w_lda, w_sv, w_xgb, w_lgbm,w_cb ] =  [0.069 0.    0.468 0.173 0.086 0.    0.773]\n",
      "AUC all:  0.7903634826711751\n",
      "\n"
     ]
    },
    {
     "name": "stderr",
     "output_type": "stream",
     "text": [
      "[I 2019-08-24 12:20:24,926] Finished trial#1017 resulted in value: -0.7903634826711751. Current best value is -0.7944491406029868 with parameters: {'w_lr': 0.018735636670162738, 'w_sv': 0.609782869522277, 'w_xgb': 0.1257268888344056, 'w_lgbm': 0.10282314833705018, 'w_mlp': 0.6409335052733912}.\n"
     ]
    },
    {
     "name": "stdout",
     "output_type": "stream",
     "text": [
      "[w_lr, w_lda, w_sv, w_xgb, w_lgbm,w_cb ] =  [0.021 0.    0.421 0.143 0.193 0.    0.737]\n",
      "AUC all:  0.7924767540152156\n",
      "\n"
     ]
    },
    {
     "name": "stderr",
     "output_type": "stream",
     "text": [
      "[I 2019-08-24 12:20:26,403] Finished trial#1018 resulted in value: -0.7924767540152156. Current best value is -0.7944491406029868 with parameters: {'w_lr': 0.018735636670162738, 'w_sv': 0.609782869522277, 'w_xgb': 0.1257268888344056, 'w_lgbm': 0.10282314833705018, 'w_mlp': 0.6409335052733912}.\n"
     ]
    },
    {
     "name": "stdout",
     "output_type": "stream",
     "text": [
      "[w_lr, w_lda, w_sv, w_xgb, w_lgbm,w_cb ] =  [0.036 0.    0.432 0.122 0.141 0.    0.759]\n",
      "AUC all:  0.7923358692589462\n",
      "\n"
     ]
    },
    {
     "name": "stderr",
     "output_type": "stream",
     "text": [
      "[I 2019-08-24 12:20:27,780] Finished trial#1019 resulted in value: -0.7923358692589462. Current best value is -0.7944491406029868 with parameters: {'w_lr': 0.018735636670162738, 'w_sv': 0.609782869522277, 'w_xgb': 0.1257268888344056, 'w_lgbm': 0.10282314833705018, 'w_mlp': 0.6409335052733912}.\n"
     ]
    },
    {
     "name": "stdout",
     "output_type": "stream",
     "text": [
      "[w_lr, w_lda, w_sv, w_xgb, w_lgbm,w_cb ] =  [0.106 0.    0.465 0.216 0.111 0.    0.734]\n",
      "AUC all:  0.7900817131586362\n",
      "\n"
     ]
    },
    {
     "name": "stderr",
     "output_type": "stream",
     "text": [
      "[I 2019-08-24 12:20:29,161] Finished trial#1020 resulted in value: -0.7900817131586362. Current best value is -0.7944491406029868 with parameters: {'w_lr': 0.018735636670162738, 'w_sv': 0.609782869522277, 'w_xgb': 0.1257268888344056, 'w_lgbm': 0.10282314833705018, 'w_mlp': 0.6409335052733912}.\n"
     ]
    },
    {
     "name": "stdout",
     "output_type": "stream",
     "text": [
      "[w_lr, w_lda, w_sv, w_xgb, w_lgbm,w_cb ] =  [0.002 0.    0.497 0.192 0.085 0.    0.795]\n",
      "AUC all:  0.7893772893772893\n",
      "\n"
     ]
    },
    {
     "name": "stderr",
     "output_type": "stream",
     "text": [
      "[I 2019-08-24 12:20:30,531] Finished trial#1021 resulted in value: -0.7893772893772893. Current best value is -0.7944491406029868 with parameters: {'w_lr': 0.018735636670162738, 'w_sv': 0.609782869522277, 'w_xgb': 0.1257268888344056, 'w_lgbm': 0.10282314833705018, 'w_mlp': 0.6409335052733912}.\n"
     ]
    },
    {
     "name": "stdout",
     "output_type": "stream",
     "text": [
      "[w_lr, w_lda, w_sv, w_xgb, w_lgbm,w_cb ] =  [0.09  0.    0.483 0.158 0.107 0.    0.758]\n",
      "AUC all:  0.7920540997464074\n",
      "\n"
     ]
    },
    {
     "name": "stderr",
     "output_type": "stream",
     "text": [
      "[I 2019-08-24 12:20:31,933] Finished trial#1022 resulted in value: -0.7920540997464074. Current best value is -0.7944491406029868 with parameters: {'w_lr': 0.018735636670162738, 'w_sv': 0.609782869522277, 'w_xgb': 0.1257268888344056, 'w_lgbm': 0.10282314833705018, 'w_mlp': 0.6409335052733912}.\n"
     ]
    },
    {
     "name": "stdout",
     "output_type": "stream",
     "text": [
      "[w_lr, w_lda, w_sv, w_xgb, w_lgbm,w_cb ] =  [0.001 0.    0.407 0.132 0.133 0.    0.739]\n",
      "AUC all:  0.7934629473091012\n",
      "\n"
     ]
    },
    {
     "name": "stderr",
     "output_type": "stream",
     "text": [
      "[I 2019-08-24 12:20:33,320] Finished trial#1023 resulted in value: -0.7934629473091012. Current best value is -0.7944491406029868 with parameters: {'w_lr': 0.018735636670162738, 'w_sv': 0.609782869522277, 'w_xgb': 0.1257268888344056, 'w_lgbm': 0.10282314833705018, 'w_mlp': 0.6409335052733912}.\n"
     ]
    },
    {
     "name": "stdout",
     "output_type": "stream",
     "text": [
      "[w_lr, w_lda, w_sv, w_xgb, w_lgbm,w_cb ] =  [0.058 0.    0.448 0.116 0.086 0.    0.807]\n",
      "AUC all:  0.7909270216962524\n",
      "\n"
     ]
    },
    {
     "name": "stderr",
     "output_type": "stream",
     "text": [
      "[I 2019-08-24 12:20:34,697] Finished trial#1024 resulted in value: -0.7909270216962524. Current best value is -0.7944491406029868 with parameters: {'w_lr': 0.018735636670162738, 'w_sv': 0.609782869522277, 'w_xgb': 0.1257268888344056, 'w_lgbm': 0.10282314833705018, 'w_mlp': 0.6409335052733912}.\n"
     ]
    },
    {
     "name": "stdout",
     "output_type": "stream",
     "text": [
      "[w_lr, w_lda, w_sv, w_xgb, w_lgbm,w_cb ] =  [0.074 0.    0.478 0.168 0.162 0.    0.773]\n",
      "AUC all:  0.7931811777965624\n",
      "\n"
     ]
    },
    {
     "name": "stderr",
     "output_type": "stream",
     "text": [
      "[I 2019-08-24 12:20:36,101] Finished trial#1025 resulted in value: -0.7931811777965624. Current best value is -0.7944491406029868 with parameters: {'w_lr': 0.018735636670162738, 'w_sv': 0.609782869522277, 'w_xgb': 0.1257268888344056, 'w_lgbm': 0.10282314833705018, 'w_mlp': 0.6409335052733912}.\n"
     ]
    },
    {
     "name": "stdout",
     "output_type": "stream",
     "text": [
      "[w_lr, w_lda, w_sv, w_xgb, w_lgbm,w_cb ] =  [0.033 0.    0.377 0.145 0.12  0.    0.734]\n",
      "AUC all:  0.7940264863341786\n",
      "\n"
     ]
    },
    {
     "name": "stderr",
     "output_type": "stream",
     "text": [
      "[I 2019-08-24 12:20:37,492] Finished trial#1026 resulted in value: -0.7940264863341786. Current best value is -0.7944491406029868 with parameters: {'w_lr': 0.018735636670162738, 'w_sv': 0.609782869522277, 'w_xgb': 0.1257268888344056, 'w_lgbm': 0.10282314833705018, 'w_mlp': 0.6409335052733912}.\n"
     ]
    },
    {
     "name": "stdout",
     "output_type": "stream",
     "text": [
      "[w_lr, w_lda, w_sv, w_xgb, w_lgbm,w_cb ] =  [0.037 0.    0.434 0.186 0.182 0.    0.736]\n",
      "AUC all:  0.7916314454775992\n",
      "\n"
     ]
    },
    {
     "name": "stderr",
     "output_type": "stream",
     "text": [
      "[I 2019-08-24 12:20:38,879] Finished trial#1027 resulted in value: -0.7916314454775992. Current best value is -0.7944491406029868 with parameters: {'w_lr': 0.018735636670162738, 'w_sv': 0.609782869522277, 'w_xgb': 0.1257268888344056, 'w_lgbm': 0.10282314833705018, 'w_mlp': 0.6409335052733912}.\n"
     ]
    },
    {
     "name": "stdout",
     "output_type": "stream",
     "text": [
      "[w_lr, w_lda, w_sv, w_xgb, w_lgbm,w_cb ] =  [0.157 0.    0.322 0.154 0.103 0.    0.717]\n",
      "AUC all:  0.7916314454775992\n",
      "\n"
     ]
    },
    {
     "name": "stderr",
     "output_type": "stream",
     "text": [
      "[I 2019-08-24 12:20:40,292] Finished trial#1028 resulted in value: -0.7916314454775992. Current best value is -0.7944491406029868 with parameters: {'w_lr': 0.018735636670162738, 'w_sv': 0.609782869522277, 'w_xgb': 0.1257268888344056, 'w_lgbm': 0.10282314833705018, 'w_mlp': 0.6409335052733912}.\n"
     ]
    },
    {
     "name": "stdout",
     "output_type": "stream",
     "text": [
      "[w_lr, w_lda, w_sv, w_xgb, w_lgbm,w_cb ] =  [0.002 0.    0.341 0.166 0.167 0.    0.745]\n",
      "AUC all:  0.7921949845026769\n",
      "\n"
     ]
    },
    {
     "name": "stderr",
     "output_type": "stream",
     "text": [
      "[I 2019-08-24 12:20:41,687] Finished trial#1029 resulted in value: -0.7921949845026769. Current best value is -0.7944491406029868 with parameters: {'w_lr': 0.018735636670162738, 'w_sv': 0.609782869522277, 'w_xgb': 0.1257268888344056, 'w_lgbm': 0.10282314833705018, 'w_mlp': 0.6409335052733912}.\n"
     ]
    },
    {
     "name": "stdout",
     "output_type": "stream",
     "text": [
      "[w_lr, w_lda, w_sv, w_xgb, w_lgbm,w_cb ] =  [0.019 0.    0.39  0.123 0.142 0.    0.72 ]\n",
      "AUC all:  0.7924767540152156\n",
      "\n"
     ]
    },
    {
     "name": "stderr",
     "output_type": "stream",
     "text": [
      "[I 2019-08-24 12:20:43,099] Finished trial#1030 resulted in value: -0.7924767540152156. Current best value is -0.7944491406029868 with parameters: {'w_lr': 0.018735636670162738, 'w_sv': 0.609782869522277, 'w_xgb': 0.1257268888344056, 'w_lgbm': 0.10282314833705018, 'w_mlp': 0.6409335052733912}.\n"
     ]
    },
    {
     "name": "stdout",
     "output_type": "stream",
     "text": [
      "[w_lr, w_lda, w_sv, w_xgb, w_lgbm,w_cb ] =  [0.02  0.    0.44  0.138 0.078 0.    0.741]\n",
      "AUC all:  0.790363482671175\n",
      "\n"
     ]
    },
    {
     "name": "stderr",
     "output_type": "stream",
     "text": [
      "[I 2019-08-24 12:20:44,510] Finished trial#1031 resulted in value: -0.790363482671175. Current best value is -0.7944491406029868 with parameters: {'w_lr': 0.018735636670162738, 'w_sv': 0.609782869522277, 'w_xgb': 0.1257268888344056, 'w_lgbm': 0.10282314833705018, 'w_mlp': 0.6409335052733912}.\n"
     ]
    },
    {
     "name": "stdout",
     "output_type": "stream",
     "text": [
      "[w_lr, w_lda, w_sv, w_xgb, w_lgbm,w_cb ] =  [0.034 0.    0.405 0.115 0.13  0.    0.762]\n",
      "AUC all:  0.7927585235277542\n",
      "\n"
     ]
    },
    {
     "name": "stderr",
     "output_type": "stream",
     "text": [
      "[I 2019-08-24 12:20:45,923] Finished trial#1032 resulted in value: -0.7927585235277542. Current best value is -0.7944491406029868 with parameters: {'w_lr': 0.018735636670162738, 'w_sv': 0.609782869522277, 'w_xgb': 0.1257268888344056, 'w_lgbm': 0.10282314833705018, 'w_mlp': 0.6409335052733912}.\n"
     ]
    },
    {
     "name": "stdout",
     "output_type": "stream",
     "text": [
      "[w_lr, w_lda, w_sv, w_xgb, w_lgbm,w_cb ] =  [0.045 0.    0.487 0.148 0.104 0.    0.722]\n",
      "AUC all:  0.7927585235277543\n",
      "\n"
     ]
    },
    {
     "name": "stderr",
     "output_type": "stream",
     "text": [
      "[I 2019-08-24 12:20:47,316] Finished trial#1033 resulted in value: -0.7927585235277543. Current best value is -0.7944491406029868 with parameters: {'w_lr': 0.018735636670162738, 'w_sv': 0.609782869522277, 'w_xgb': 0.1257268888344056, 'w_lgbm': 0.10282314833705018, 'w_mlp': 0.6409335052733912}.\n"
     ]
    },
    {
     "name": "stdout",
     "output_type": "stream",
     "text": [
      "[w_lr, w_lda, w_sv, w_xgb, w_lgbm,w_cb ] =  [0.36  0.    0.359 0.115 0.118 0.    0.728]\n",
      "AUC all:  0.7924767540152156\n",
      "\n"
     ]
    },
    {
     "name": "stderr",
     "output_type": "stream",
     "text": [
      "[I 2019-08-24 12:20:48,713] Finished trial#1034 resulted in value: -0.7924767540152156. Current best value is -0.7944491406029868 with parameters: {'w_lr': 0.018735636670162738, 'w_sv': 0.609782869522277, 'w_xgb': 0.1257268888344056, 'w_lgbm': 0.10282314833705018, 'w_mlp': 0.6409335052733912}.\n"
     ]
    },
    {
     "name": "stdout",
     "output_type": "stream",
     "text": [
      "[w_lr, w_lda, w_sv, w_xgb, w_lgbm,w_cb ] =  [0.019 0.    0.356 0.135 0.089 0.    0.782]\n",
      "AUC all:  0.7906452521837137\n",
      "\n"
     ]
    },
    {
     "name": "stderr",
     "output_type": "stream",
     "text": [
      "[I 2019-08-24 12:20:50,180] Finished trial#1035 resulted in value: -0.7906452521837137. Current best value is -0.7944491406029868 with parameters: {'w_lr': 0.018735636670162738, 'w_sv': 0.609782869522277, 'w_xgb': 0.1257268888344056, 'w_lgbm': 0.10282314833705018, 'w_mlp': 0.6409335052733912}.\n"
     ]
    },
    {
     "name": "stdout",
     "output_type": "stream",
     "text": [
      "[w_lr, w_lda, w_sv, w_xgb, w_lgbm,w_cb ] =  [0.116 0.    0.317 0.178 0.148 0.    0.83 ]\n",
      "AUC all:  0.7927585235277542\n",
      "\n"
     ]
    },
    {
     "name": "stderr",
     "output_type": "stream",
     "text": [
      "[I 2019-08-24 12:20:51,733] Finished trial#1036 resulted in value: -0.7927585235277542. Current best value is -0.7944491406029868 with parameters: {'w_lr': 0.018735636670162738, 'w_sv': 0.609782869522277, 'w_xgb': 0.1257268888344056, 'w_lgbm': 0.10282314833705018, 'w_mlp': 0.6409335052733912}.\n"
     ]
    },
    {
     "name": "stdout",
     "output_type": "stream",
     "text": [
      "[w_lr, w_lda, w_sv, w_xgb, w_lgbm,w_cb ] =  [0.087 0.    0.382 0.2   0.421 0.    0.752]\n",
      "AUC all:  0.7861369399830939\n",
      "\n"
     ]
    },
    {
     "name": "stderr",
     "output_type": "stream",
     "text": [
      "[I 2019-08-24 12:20:53,528] Finished trial#1037 resulted in value: -0.7861369399830939. Current best value is -0.7944491406029868 with parameters: {'w_lr': 0.018735636670162738, 'w_sv': 0.609782869522277, 'w_xgb': 0.1257268888344056, 'w_lgbm': 0.10282314833705018, 'w_mlp': 0.6409335052733912}.\n"
     ]
    },
    {
     "name": "stdout",
     "output_type": "stream",
     "text": [
      "[w_lr, w_lda, w_sv, w_xgb, w_lgbm,w_cb ] =  [0.049 0.    0.393 0.108 0.127 0.    0.767]\n",
      "AUC all:  0.7923358692589462\n",
      "\n"
     ]
    },
    {
     "name": "stderr",
     "output_type": "stream",
     "text": [
      "[I 2019-08-24 12:20:55,140] Finished trial#1038 resulted in value: -0.7923358692589462. Current best value is -0.7944491406029868 with parameters: {'w_lr': 0.018735636670162738, 'w_sv': 0.609782869522277, 'w_xgb': 0.1257268888344056, 'w_lgbm': 0.10282314833705018, 'w_mlp': 0.6409335052733912}.\n"
     ]
    },
    {
     "name": "stdout",
     "output_type": "stream",
     "text": [
      "[w_lr, w_lda, w_sv, w_xgb, w_lgbm,w_cb ] =  [0.    0.    0.414 0.151 0.149 0.    0.792]\n",
      "AUC all:  0.792617638771485\n",
      "\n"
     ]
    },
    {
     "name": "stderr",
     "output_type": "stream",
     "text": [
      "[I 2019-08-24 12:20:56,590] Finished trial#1039 resulted in value: -0.792617638771485. Current best value is -0.7944491406029868 with parameters: {'w_lr': 0.018735636670162738, 'w_sv': 0.609782869522277, 'w_xgb': 0.1257268888344056, 'w_lgbm': 0.10282314833705018, 'w_mlp': 0.6409335052733912}.\n"
     ]
    },
    {
     "name": "stdout",
     "output_type": "stream",
     "text": [
      "[w_lr, w_lda, w_sv, w_xgb, w_lgbm,w_cb ] =  [0.026 0.    0.378 0.128 0.099 0.    0.728]\n",
      "AUC all:  0.791913214990138\n",
      "\n"
     ]
    },
    {
     "name": "stderr",
     "output_type": "stream",
     "text": [
      "[I 2019-08-24 12:20:58,039] Finished trial#1040 resulted in value: -0.791913214990138. Current best value is -0.7944491406029868 with parameters: {'w_lr': 0.018735636670162738, 'w_sv': 0.609782869522277, 'w_xgb': 0.1257268888344056, 'w_lgbm': 0.10282314833705018, 'w_mlp': 0.6409335052733912}.\n"
     ]
    },
    {
     "name": "stdout",
     "output_type": "stream",
     "text": [
      "[w_lr, w_lda, w_sv, w_xgb, w_lgbm,w_cb ] =  [0.037 0.    0.388 0.137 0.075 0.    0.779]\n",
      "AUC all:  0.78923640462102\n",
      "\n"
     ]
    },
    {
     "name": "stderr",
     "output_type": "stream",
     "text": [
      "[I 2019-08-24 12:20:59,547] Finished trial#1041 resulted in value: -0.78923640462102. Current best value is -0.7944491406029868 with parameters: {'w_lr': 0.018735636670162738, 'w_sv': 0.609782869522277, 'w_xgb': 0.1257268888344056, 'w_lgbm': 0.10282314833705018, 'w_mlp': 0.6409335052733912}.\n"
     ]
    },
    {
     "name": "stdout",
     "output_type": "stream",
     "text": [
      "[w_lr, w_lda, w_sv, w_xgb, w_lgbm,w_cb ] =  [0.013 0.    0.448 0.177 0.161 0.    0.753]\n",
      "AUC all:  0.793040293040293\n",
      "\n"
     ]
    },
    {
     "name": "stderr",
     "output_type": "stream",
     "text": [
      "[I 2019-08-24 12:21:00,966] Finished trial#1042 resulted in value: -0.793040293040293. Current best value is -0.7944491406029868 with parameters: {'w_lr': 0.018735636670162738, 'w_sv': 0.609782869522277, 'w_xgb': 0.1257268888344056, 'w_lgbm': 0.10282314833705018, 'w_mlp': 0.6409335052733912}.\n"
     ]
    },
    {
     "name": "stdout",
     "output_type": "stream",
     "text": [
      "[w_lr, w_lda, w_sv, w_xgb, w_lgbm,w_cb ] =  [0.002 0.    0.413 0.107 0.112 0.    0.733]\n",
      "AUC all:  0.7928994082840237\n",
      "\n"
     ]
    },
    {
     "name": "stderr",
     "output_type": "stream",
     "text": [
      "[I 2019-08-24 12:21:02,651] Finished trial#1043 resulted in value: -0.7928994082840237. Current best value is -0.7944491406029868 with parameters: {'w_lr': 0.018735636670162738, 'w_sv': 0.609782869522277, 'w_xgb': 0.1257268888344056, 'w_lgbm': 0.10282314833705018, 'w_mlp': 0.6409335052733912}.\n"
     ]
    },
    {
     "name": "stdout",
     "output_type": "stream",
     "text": [
      "[w_lr, w_lda, w_sv, w_xgb, w_lgbm,w_cb ] =  [0.062 0.    0.491 0.164 0.126 0.    0.764]\n",
      "AUC all:  0.7934629473091012\n",
      "\n"
     ]
    },
    {
     "name": "stderr",
     "output_type": "stream",
     "text": [
      "[I 2019-08-24 12:21:04,552] Finished trial#1044 resulted in value: -0.7934629473091012. Current best value is -0.7944491406029868 with parameters: {'w_lr': 0.018735636670162738, 'w_sv': 0.609782869522277, 'w_xgb': 0.1257268888344056, 'w_lgbm': 0.10282314833705018, 'w_mlp': 0.6409335052733912}.\n"
     ]
    },
    {
     "name": "stdout",
     "output_type": "stream",
     "text": [
      "[w_lr, w_lda, w_sv, w_xgb, w_lgbm,w_cb ] =  [0.047 0.    0.461 0.153 0.123 0.    0.853]\n",
      "AUC all:  0.793462947309101\n",
      "\n"
     ]
    },
    {
     "name": "stderr",
     "output_type": "stream",
     "text": [
      "[I 2019-08-24 12:21:06,502] Finished trial#1045 resulted in value: -0.793462947309101. Current best value is -0.7944491406029868 with parameters: {'w_lr': 0.018735636670162738, 'w_sv': 0.609782869522277, 'w_xgb': 0.1257268888344056, 'w_lgbm': 0.10282314833705018, 'w_mlp': 0.6409335052733912}.\n"
     ]
    },
    {
     "name": "stdout",
     "output_type": "stream",
     "text": [
      "[w_lr, w_lda, w_sv, w_xgb, w_lgbm,w_cb ] =  [0.079 0.    0.462 0.149 0.149 0.    0.751]\n",
      "AUC all:  0.793040293040293\n",
      "\n"
     ]
    },
    {
     "name": "stderr",
     "output_type": "stream",
     "text": [
      "[I 2019-08-24 12:21:07,990] Finished trial#1046 resulted in value: -0.793040293040293. Current best value is -0.7944491406029868 with parameters: {'w_lr': 0.018735636670162738, 'w_sv': 0.609782869522277, 'w_xgb': 0.1257268888344056, 'w_lgbm': 0.10282314833705018, 'w_mlp': 0.6409335052733912}.\n"
     ]
    },
    {
     "name": "stdout",
     "output_type": "stream",
     "text": [
      "[w_lr, w_lda, w_sv, w_xgb, w_lgbm,w_cb ] =  [0.001 0.    0.483 0.117 0.079 0.    0.718]\n",
      "AUC all:  0.7906452521837138\n",
      "\n"
     ]
    },
    {
     "name": "stderr",
     "output_type": "stream",
     "text": [
      "[I 2019-08-24 12:21:09,738] Finished trial#1047 resulted in value: -0.7906452521837138. Current best value is -0.7944491406029868 with parameters: {'w_lr': 0.018735636670162738, 'w_sv': 0.609782869522277, 'w_xgb': 0.1257268888344056, 'w_lgbm': 0.10282314833705018, 'w_mlp': 0.6409335052733912}.\n"
     ]
    },
    {
     "name": "stdout",
     "output_type": "stream",
     "text": [
      "[w_lr, w_lda, w_sv, w_xgb, w_lgbm,w_cb ] =  [0.13  0.    0.421 0.189 0.116 0.    0.8  ]\n",
      "AUC all:  0.79149056072133\n",
      "\n"
     ]
    },
    {
     "name": "stderr",
     "output_type": "stream",
     "text": [
      "[I 2019-08-24 12:21:11,246] Finished trial#1048 resulted in value: -0.79149056072133. Current best value is -0.7944491406029868 with parameters: {'w_lr': 0.018735636670162738, 'w_sv': 0.609782869522277, 'w_xgb': 0.1257268888344056, 'w_lgbm': 0.10282314833705018, 'w_mlp': 0.6409335052733912}.\n"
     ]
    },
    {
     "name": "stdout",
     "output_type": "stream",
     "text": [
      "[w_lr, w_lda, w_sv, w_xgb, w_lgbm,w_cb ] =  [0.099 0.    0.433 0.139 0.141 0.    0.776]\n",
      "AUC all:  0.7931811777965624\n",
      "\n"
     ]
    },
    {
     "name": "stderr",
     "output_type": "stream",
     "text": [
      "[I 2019-08-24 12:21:12,696] Finished trial#1049 resulted in value: -0.7931811777965624. Current best value is -0.7944491406029868 with parameters: {'w_lr': 0.018735636670162738, 'w_sv': 0.609782869522277, 'w_xgb': 0.1257268888344056, 'w_lgbm': 0.10282314833705018, 'w_mlp': 0.6409335052733912}.\n"
     ]
    },
    {
     "name": "stdout",
     "output_type": "stream",
     "text": [
      "[w_lr, w_lda, w_sv, w_xgb, w_lgbm,w_cb ] =  [0.066 0.    0.424 0.125 0.099 0.    0.818]\n",
      "AUC all:  0.79149056072133\n",
      "\n"
     ]
    },
    {
     "name": "stderr",
     "output_type": "stream",
     "text": [
      "[I 2019-08-24 12:21:14,161] Finished trial#1050 resulted in value: -0.79149056072133. Current best value is -0.7944491406029868 with parameters: {'w_lr': 0.018735636670162738, 'w_sv': 0.609782869522277, 'w_xgb': 0.1257268888344056, 'w_lgbm': 0.10282314833705018, 'w_mlp': 0.6409335052733912}.\n"
     ]
    },
    {
     "name": "stdout",
     "output_type": "stream",
     "text": [
      "[w_lr, w_lda, w_sv, w_xgb, w_lgbm,w_cb ] =  [0.073 0.    0.369 0.166 0.088 0.    0.78 ]\n",
      "AUC all:  0.7913496759650606\n",
      "\n"
     ]
    },
    {
     "name": "stderr",
     "output_type": "stream",
     "text": [
      "[I 2019-08-24 12:21:15,753] Finished trial#1051 resulted in value: -0.7913496759650606. Current best value is -0.7944491406029868 with parameters: {'w_lr': 0.018735636670162738, 'w_sv': 0.609782869522277, 'w_xgb': 0.1257268888344056, 'w_lgbm': 0.10282314833705018, 'w_mlp': 0.6409335052733912}.\n"
     ]
    },
    {
     "name": "stdout",
     "output_type": "stream",
     "text": [
      "[w_lr, w_lda, w_sv, w_xgb, w_lgbm,w_cb ] =  [0.103 0.    0.346 0.149 0.172 0.    0.752]\n",
      "AUC all:  0.7920540997464074\n",
      "\n"
     ]
    },
    {
     "name": "stderr",
     "output_type": "stream",
     "text": [
      "[I 2019-08-24 12:21:17,597] Finished trial#1052 resulted in value: -0.7920540997464074. Current best value is -0.7944491406029868 with parameters: {'w_lr': 0.018735636670162738, 'w_sv': 0.609782869522277, 'w_xgb': 0.1257268888344056, 'w_lgbm': 0.10282314833705018, 'w_mlp': 0.6409335052733912}.\n"
     ]
    },
    {
     "name": "stdout",
     "output_type": "stream",
     "text": [
      "[w_lr, w_lda, w_sv, w_xgb, w_lgbm,w_cb ] =  [0.322 0.    0.368 0.101 0.066 0.    0.714]\n",
      "AUC all:  0.7900817131586362\n",
      "\n"
     ]
    },
    {
     "name": "stderr",
     "output_type": "stream",
     "text": [
      "[I 2019-08-24 12:21:19,274] Finished trial#1053 resulted in value: -0.7900817131586362. Current best value is -0.7944491406029868 with parameters: {'w_lr': 0.018735636670162738, 'w_sv': 0.609782869522277, 'w_xgb': 0.1257268888344056, 'w_lgbm': 0.10282314833705018, 'w_mlp': 0.6409335052733912}.\n"
     ]
    },
    {
     "name": "stdout",
     "output_type": "stream",
     "text": [
      "[w_lr, w_lda, w_sv, w_xgb, w_lgbm,w_cb ] =  [0.031 0.    0.389 0.125 0.096 0.    0.759]\n",
      "AUC all:  0.79149056072133\n",
      "\n"
     ]
    },
    {
     "name": "stderr",
     "output_type": "stream",
     "text": [
      "[I 2019-08-24 12:21:21,131] Finished trial#1054 resulted in value: -0.79149056072133. Current best value is -0.7944491406029868 with parameters: {'w_lr': 0.018735636670162738, 'w_sv': 0.609782869522277, 'w_xgb': 0.1257268888344056, 'w_lgbm': 0.10282314833705018, 'w_mlp': 0.6409335052733912}.\n"
     ]
    },
    {
     "name": "stdout",
     "output_type": "stream",
     "text": [
      "[w_lr, w_lda, w_sv, w_xgb, w_lgbm,w_cb ] =  [0.088 0.    0.488 0.098 0.106 0.    0.712]\n",
      "AUC all:  0.7930402930402929\n",
      "\n"
     ]
    },
    {
     "name": "stderr",
     "output_type": "stream",
     "text": [
      "[I 2019-08-24 12:21:22,664] Finished trial#1055 resulted in value: -0.7930402930402929. Current best value is -0.7944491406029868 with parameters: {'w_lr': 0.018735636670162738, 'w_sv': 0.609782869522277, 'w_xgb': 0.1257268888344056, 'w_lgbm': 0.10282314833705018, 'w_mlp': 0.6409335052733912}.\n"
     ]
    },
    {
     "name": "stdout",
     "output_type": "stream",
     "text": [
      "[w_lr, w_lda, w_sv, w_xgb, w_lgbm,w_cb ] =  [0.055 0.    0.332 0.138 0.121 0.    0.802]\n",
      "AUC all:  0.7933220625528317\n",
      "\n"
     ]
    },
    {
     "name": "stderr",
     "output_type": "stream",
     "text": [
      "[I 2019-08-24 12:21:24,240] Finished trial#1056 resulted in value: -0.7933220625528317. Current best value is -0.7944491406029868 with parameters: {'w_lr': 0.018735636670162738, 'w_sv': 0.609782869522277, 'w_xgb': 0.1257268888344056, 'w_lgbm': 0.10282314833705018, 'w_mlp': 0.6409335052733912}.\n"
     ]
    },
    {
     "name": "stdout",
     "output_type": "stream",
     "text": [
      "[w_lr, w_lda, w_sv, w_xgb, w_lgbm,w_cb ] =  [0.066 0.    0.406 0.175 0.137 0.    0.736]\n",
      "AUC all:  0.7928994082840237\n",
      "\n"
     ]
    },
    {
     "name": "stderr",
     "output_type": "stream",
     "text": [
      "[I 2019-08-24 12:21:25,689] Finished trial#1057 resulted in value: -0.7928994082840237. Current best value is -0.7944491406029868 with parameters: {'w_lr': 0.018735636670162738, 'w_sv': 0.609782869522277, 'w_xgb': 0.1257268888344056, 'w_lgbm': 0.10282314833705018, 'w_mlp': 0.6409335052733912}.\n"
     ]
    },
    {
     "name": "stdout",
     "output_type": "stream",
     "text": [
      "[w_lr, w_lda, w_sv, w_xgb, w_lgbm,w_cb ] =  [0.022 0.    0.453 0.162 0.125 0.    0.74 ]\n",
      "AUC all:  0.7934629473091012\n",
      "\n"
     ]
    },
    {
     "name": "stderr",
     "output_type": "stream",
     "text": [
      "[I 2019-08-24 12:21:27,126] Finished trial#1058 resulted in value: -0.7934629473091012. Current best value is -0.7944491406029868 with parameters: {'w_lr': 0.018735636670162738, 'w_sv': 0.609782869522277, 'w_xgb': 0.1257268888344056, 'w_lgbm': 0.10282314833705018, 'w_mlp': 0.6409335052733912}.\n"
     ]
    },
    {
     "name": "stdout",
     "output_type": "stream",
     "text": [
      "[w_lr, w_lda, w_sv, w_xgb, w_lgbm,w_cb ] =  [0.538 0.    0.371 0.206 0.077 0.    0.112]\n",
      "AUC all:  0.7865595942519019\n",
      "\n"
     ]
    },
    {
     "name": "stderr",
     "output_type": "stream",
     "text": [
      "[I 2019-08-24 12:21:28,723] Finished trial#1059 resulted in value: -0.7865595942519019. Current best value is -0.7944491406029868 with parameters: {'w_lr': 0.018735636670162738, 'w_sv': 0.609782869522277, 'w_xgb': 0.1257268888344056, 'w_lgbm': 0.10282314833705018, 'w_mlp': 0.6409335052733912}.\n"
     ]
    },
    {
     "name": "stdout",
     "output_type": "stream",
     "text": [
      "[w_lr, w_lda, w_sv, w_xgb, w_lgbm,w_cb ] =  [0.031 0.    0.502 0.116 0.1   0.    0.705]\n",
      "AUC all:  0.7937447168216398\n",
      "\n"
     ]
    },
    {
     "name": "stderr",
     "output_type": "stream",
     "text": [
      "[I 2019-08-24 12:21:30,370] Finished trial#1060 resulted in value: -0.7937447168216398. Current best value is -0.7944491406029868 with parameters: {'w_lr': 0.018735636670162738, 'w_sv': 0.609782869522277, 'w_xgb': 0.1257268888344056, 'w_lgbm': 0.10282314833705018, 'w_mlp': 0.6409335052733912}.\n"
     ]
    },
    {
     "name": "stdout",
     "output_type": "stream",
     "text": [
      "[w_lr, w_lda, w_sv, w_xgb, w_lgbm,w_cb ] =  [0.002 0.    0.393 0.104 0.063 0.    0.724]\n",
      "AUC all:  0.7902225979149056\n",
      "\n"
     ]
    },
    {
     "name": "stderr",
     "output_type": "stream",
     "text": [
      "[I 2019-08-24 12:21:31,902] Finished trial#1061 resulted in value: -0.7902225979149056. Current best value is -0.7944491406029868 with parameters: {'w_lr': 0.018735636670162738, 'w_sv': 0.609782869522277, 'w_xgb': 0.1257268888344056, 'w_lgbm': 0.10282314833705018, 'w_mlp': 0.6409335052733912}.\n"
     ]
    },
    {
     "name": "stdout",
     "output_type": "stream",
     "text": [
      "[w_lr, w_lda, w_sv, w_xgb, w_lgbm,w_cb ] =  [0.056 0.    0.445 0.226 0.079 0.    0.774]\n",
      "AUC all:  0.7864187094956325\n",
      "\n"
     ]
    },
    {
     "name": "stderr",
     "output_type": "stream",
     "text": [
      "[I 2019-08-24 12:21:33,465] Finished trial#1062 resulted in value: -0.7864187094956325. Current best value is -0.7944491406029868 with parameters: {'w_lr': 0.018735636670162738, 'w_sv': 0.609782869522277, 'w_xgb': 0.1257268888344056, 'w_lgbm': 0.10282314833705018, 'w_mlp': 0.6409335052733912}.\n"
     ]
    },
    {
     "name": "stdout",
     "output_type": "stream",
     "text": [
      "[w_lr, w_lda, w_sv, w_xgb, w_lgbm,w_cb ] =  [0.114 0.    0.476 0.144 0.102 0.    0.762]\n",
      "AUC all:  0.7913496759650607\n",
      "\n"
     ]
    },
    {
     "name": "stderr",
     "output_type": "stream",
     "text": [
      "[I 2019-08-24 12:21:34,942] Finished trial#1063 resulted in value: -0.7913496759650607. Current best value is -0.7944491406029868 with parameters: {'w_lr': 0.018735636670162738, 'w_sv': 0.609782869522277, 'w_xgb': 0.1257268888344056, 'w_lgbm': 0.10282314833705018, 'w_mlp': 0.6409335052733912}.\n"
     ]
    },
    {
     "name": "stdout",
     "output_type": "stream",
     "text": [
      "[w_lr, w_lda, w_sv, w_xgb, w_lgbm,w_cb ] =  [0.093 0.    0.43  0.128 0.088 0.    0.715]\n",
      "AUC all:  0.7912087912087913\n",
      "\n"
     ]
    },
    {
     "name": "stderr",
     "output_type": "stream",
     "text": [
      "[I 2019-08-24 12:21:36,477] Finished trial#1064 resulted in value: -0.7912087912087913. Current best value is -0.7944491406029868 with parameters: {'w_lr': 0.018735636670162738, 'w_sv': 0.609782869522277, 'w_xgb': 0.1257268888344056, 'w_lgbm': 0.10282314833705018, 'w_mlp': 0.6409335052733912}.\n"
     ]
    },
    {
     "name": "stdout",
     "output_type": "stream",
     "text": [
      "[w_lr, w_lda, w_sv, w_xgb, w_lgbm,w_cb ] =  [0.077 0.    0.51  0.18  0.134 0.    0.741]\n",
      "AUC all:  0.7921949845026769\n",
      "\n"
     ]
    },
    {
     "name": "stderr",
     "output_type": "stream",
     "text": [
      "[I 2019-08-24 12:21:38,236] Finished trial#1065 resulted in value: -0.7921949845026769. Current best value is -0.7944491406029868 with parameters: {'w_lr': 0.018735636670162738, 'w_sv': 0.609782869522277, 'w_xgb': 0.1257268888344056, 'w_lgbm': 0.10282314833705018, 'w_mlp': 0.6409335052733912}.\n"
     ]
    },
    {
     "name": "stdout",
     "output_type": "stream",
     "text": [
      "[w_lr, w_lda, w_sv, w_xgb, w_lgbm,w_cb ] =  [0.046 0.    0.462 0.093 0.116 0.    0.23 ]\n",
      "AUC all:  0.7900817131586361\n",
      "\n"
     ]
    },
    {
     "name": "stderr",
     "output_type": "stream",
     "text": [
      "[I 2019-08-24 12:21:39,904] Finished trial#1066 resulted in value: -0.7900817131586361. Current best value is -0.7944491406029868 with parameters: {'w_lr': 0.018735636670162738, 'w_sv': 0.609782869522277, 'w_xgb': 0.1257268888344056, 'w_lgbm': 0.10282314833705018, 'w_mlp': 0.6409335052733912}.\n"
     ]
    },
    {
     "name": "stdout",
     "output_type": "stream",
     "text": [
      "[w_lr, w_lda, w_sv, w_xgb, w_lgbm,w_cb ] =  [0.    0.    0.512 0.121 0.056 0.    0.716]\n",
      "AUC all:  0.7890955198647507\n",
      "\n"
     ]
    },
    {
     "name": "stderr",
     "output_type": "stream",
     "text": [
      "[I 2019-08-24 12:21:41,579] Finished trial#1067 resulted in value: -0.7890955198647507. Current best value is -0.7944491406029868 with parameters: {'w_lr': 0.018735636670162738, 'w_sv': 0.609782869522277, 'w_xgb': 0.1257268888344056, 'w_lgbm': 0.10282314833705018, 'w_mlp': 0.6409335052733912}.\n"
     ]
    },
    {
     "name": "stdout",
     "output_type": "stream",
     "text": [
      "[w_lr, w_lda, w_sv, w_xgb, w_lgbm,w_cb ] =  [0.14  0.    0.41  0.799 0.165 0.    0.741]\n",
      "AUC all:  0.7833192448577064\n",
      "\n"
     ]
    },
    {
     "name": "stderr",
     "output_type": "stream",
     "text": [
      "[I 2019-08-24 12:21:43,162] Finished trial#1068 resulted in value: -0.7833192448577064. Current best value is -0.7944491406029868 with parameters: {'w_lr': 0.018735636670162738, 'w_sv': 0.609782869522277, 'w_xgb': 0.1257268888344056, 'w_lgbm': 0.10282314833705018, 'w_mlp': 0.6409335052733912}.\n"
     ]
    },
    {
     "name": "stdout",
     "output_type": "stream",
     "text": [
      "[w_lr, w_lda, w_sv, w_xgb, w_lgbm,w_cb ] =  [0.934 0.    0.247 0.152 0.104 0.    0.724]\n",
      "AUC all:  0.7900817131586362\n",
      "\n"
     ]
    },
    {
     "name": "stderr",
     "output_type": "stream",
     "text": [
      "[I 2019-08-24 12:21:44,652] Finished trial#1069 resulted in value: -0.7900817131586362. Current best value is -0.7944491406029868 with parameters: {'w_lr': 0.018735636670162738, 'w_sv': 0.609782869522277, 'w_xgb': 0.1257268888344056, 'w_lgbm': 0.10282314833705018, 'w_mlp': 0.6409335052733912}.\n"
     ]
    },
    {
     "name": "stdout",
     "output_type": "stream",
     "text": [
      "[w_lr, w_lda, w_sv, w_xgb, w_lgbm,w_cb ] =  [0.058 0.    0.461 0.133 0.313 0.    0.786]\n",
      "AUC all:  0.7896590588898281\n",
      "\n"
     ]
    },
    {
     "name": "stderr",
     "output_type": "stream",
     "text": [
      "[I 2019-08-24 12:21:46,255] Finished trial#1070 resulted in value: -0.7896590588898281. Current best value is -0.7944491406029868 with parameters: {'w_lr': 0.018735636670162738, 'w_sv': 0.609782869522277, 'w_xgb': 0.1257268888344056, 'w_lgbm': 0.10282314833705018, 'w_mlp': 0.6409335052733912}.\n"
     ]
    },
    {
     "name": "stdout",
     "output_type": "stream",
     "text": [
      "[w_lr, w_lda, w_sv, w_xgb, w_lgbm,w_cb ] =  [0.073 0.    0.493 0.162 0.152 0.    0.769]\n",
      "AUC all:  0.793040293040293\n",
      "\n"
     ]
    },
    {
     "name": "stderr",
     "output_type": "stream",
     "text": [
      "[I 2019-08-24 12:21:47,919] Finished trial#1071 resulted in value: -0.793040293040293. Current best value is -0.7944491406029868 with parameters: {'w_lr': 0.018735636670162738, 'w_sv': 0.609782869522277, 'w_xgb': 0.1257268888344056, 'w_lgbm': 0.10282314833705018, 'w_mlp': 0.6409335052733912}.\n"
     ]
    },
    {
     "name": "stdout",
     "output_type": "stream",
     "text": [
      "[w_lr, w_lda, w_sv, w_xgb, w_lgbm,w_cb ] =  [0.098 0.    0.491 0.186 0.134 0.    0.756]\n",
      "AUC all:  0.7920540997464074\n",
      "\n"
     ]
    },
    {
     "name": "stderr",
     "output_type": "stream",
     "text": [
      "[I 2019-08-24 12:21:49,373] Finished trial#1072 resulted in value: -0.7920540997464074. Current best value is -0.7944491406029868 with parameters: {'w_lr': 0.018735636670162738, 'w_sv': 0.609782869522277, 'w_xgb': 0.1257268888344056, 'w_lgbm': 0.10282314833705018, 'w_mlp': 0.6409335052733912}.\n"
     ]
    },
    {
     "name": "stdout",
     "output_type": "stream",
     "text": [
      "[w_lr, w_lda, w_sv, w_xgb, w_lgbm,w_cb ] =  [0.032 0.    0.423 0.15  0.128 0.    0.74 ]\n",
      "AUC all:  0.7931811777965624\n",
      "\n"
     ]
    },
    {
     "name": "stderr",
     "output_type": "stream",
     "text": [
      "[I 2019-08-24 12:21:50,990] Finished trial#1073 resulted in value: -0.7931811777965624. Current best value is -0.7944491406029868 with parameters: {'w_lr': 0.018735636670162738, 'w_sv': 0.609782869522277, 'w_xgb': 0.1257268888344056, 'w_lgbm': 0.10282314833705018, 'w_mlp': 0.6409335052733912}.\n"
     ]
    },
    {
     "name": "stdout",
     "output_type": "stream",
     "text": [
      "[w_lr, w_lda, w_sv, w_xgb, w_lgbm,w_cb ] =  [0.114 0.    0.445 0.136 0.115 0.    0.792]\n",
      "AUC all:  0.7931811777965623\n",
      "\n"
     ]
    },
    {
     "name": "stderr",
     "output_type": "stream",
     "text": [
      "[I 2019-08-24 12:21:52,849] Finished trial#1074 resulted in value: -0.7931811777965623. Current best value is -0.7944491406029868 with parameters: {'w_lr': 0.018735636670162738, 'w_sv': 0.609782869522277, 'w_xgb': 0.1257268888344056, 'w_lgbm': 0.10282314833705018, 'w_mlp': 0.6409335052733912}.\n"
     ]
    },
    {
     "name": "stdout",
     "output_type": "stream",
     "text": [
      "[w_lr, w_lda, w_sv, w_xgb, w_lgbm,w_cb ] =  [0.048 0.    0.467 0.098 0.204 0.    0.796]\n",
      "AUC all:  0.7897999436460974\n",
      "\n"
     ]
    },
    {
     "name": "stderr",
     "output_type": "stream",
     "text": [
      "[I 2019-08-24 12:21:54,644] Finished trial#1075 resulted in value: -0.7897999436460974. Current best value is -0.7944491406029868 with parameters: {'w_lr': 0.018735636670162738, 'w_sv': 0.609782869522277, 'w_xgb': 0.1257268888344056, 'w_lgbm': 0.10282314833705018, 'w_mlp': 0.6409335052733912}.\n"
     ]
    },
    {
     "name": "stdout",
     "output_type": "stream",
     "text": [
      "[w_lr, w_lda, w_sv, w_xgb, w_lgbm,w_cb ] =  [0.016 0.    0.377 0.113 0.084 0.    0.75 ]\n",
      "AUC all:  0.790786136939983\n",
      "\n"
     ]
    },
    {
     "name": "stderr",
     "output_type": "stream",
     "text": [
      "[I 2019-08-24 12:21:56,441] Finished trial#1076 resulted in value: -0.790786136939983. Current best value is -0.7944491406029868 with parameters: {'w_lr': 0.018735636670162738, 'w_sv': 0.609782869522277, 'w_xgb': 0.1257268888344056, 'w_lgbm': 0.10282314833705018, 'w_mlp': 0.6409335052733912}.\n"
     ]
    },
    {
     "name": "stdout",
     "output_type": "stream",
     "text": [
      "[w_lr, w_lda, w_sv, w_xgb, w_lgbm,w_cb ] =  [0.033 0.    0.406 0.115 0.019 0.    0.705]\n",
      "AUC all:  0.7817695125387433\n",
      "\n"
     ]
    },
    {
     "name": "stderr",
     "output_type": "stream",
     "text": [
      "[I 2019-08-24 12:21:58,188] Finished trial#1077 resulted in value: -0.7817695125387433. Current best value is -0.7944491406029868 with parameters: {'w_lr': 0.018735636670162738, 'w_sv': 0.609782869522277, 'w_xgb': 0.1257268888344056, 'w_lgbm': 0.10282314833705018, 'w_mlp': 0.6409335052733912}.\n"
     ]
    },
    {
     "name": "stdout",
     "output_type": "stream",
     "text": [
      "[w_lr, w_lda, w_sv, w_xgb, w_lgbm,w_cb ] =  [0.013 0.    0.342 0.132 0.073 0.    0.71 ]\n",
      "AUC all:  0.7900817131586363\n",
      "\n"
     ]
    },
    {
     "name": "stderr",
     "output_type": "stream",
     "text": [
      "[I 2019-08-24 12:21:59,924] Finished trial#1078 resulted in value: -0.7900817131586363. Current best value is -0.7944491406029868 with parameters: {'w_lr': 0.018735636670162738, 'w_sv': 0.609782869522277, 'w_xgb': 0.1257268888344056, 'w_lgbm': 0.10282314833705018, 'w_mlp': 0.6409335052733912}.\n"
     ]
    },
    {
     "name": "stdout",
     "output_type": "stream",
     "text": [
      "[w_lr, w_lda, w_sv, w_xgb, w_lgbm,w_cb ] =  [0.034 0.    0.444 0.197 0.154 0.    0.729]\n",
      "AUC all:  0.7920540997464074\n",
      "\n"
     ]
    },
    {
     "name": "stderr",
     "output_type": "stream",
     "text": [
      "[I 2019-08-24 12:22:01,869] Finished trial#1079 resulted in value: -0.7920540997464074. Current best value is -0.7944491406029868 with parameters: {'w_lr': 0.018735636670162738, 'w_sv': 0.609782869522277, 'w_xgb': 0.1257268888344056, 'w_lgbm': 0.10282314833705018, 'w_mlp': 0.6409335052733912}.\n"
     ]
    },
    {
     "name": "stdout",
     "output_type": "stream",
     "text": [
      "[w_lr, w_lda, w_sv, w_xgb, w_lgbm,w_cb ] =  [0.019 0.    0.472 0.168 0.116 0.    0.763]\n",
      "AUC all:  0.793462947309101\n",
      "\n"
     ]
    },
    {
     "name": "stderr",
     "output_type": "stream",
     "text": [
      "[I 2019-08-24 12:22:03,351] Finished trial#1080 resulted in value: -0.793462947309101. Current best value is -0.7944491406029868 with parameters: {'w_lr': 0.018735636670162738, 'w_sv': 0.609782869522277, 'w_xgb': 0.1257268888344056, 'w_lgbm': 0.10282314833705018, 'w_mlp': 0.6409335052733912}.\n"
     ]
    },
    {
     "name": "stdout",
     "output_type": "stream",
     "text": [
      "[w_lr, w_lda, w_sv, w_xgb, w_lgbm,w_cb ] =  [0.07  0.    0.419 0.146 0.14  0.    0.78 ]\n",
      "AUC all:  0.793462947309101\n",
      "\n"
     ]
    },
    {
     "name": "stderr",
     "output_type": "stream",
     "text": [
      "[I 2019-08-24 12:22:04,816] Finished trial#1081 resulted in value: -0.793462947309101. Current best value is -0.7944491406029868 with parameters: {'w_lr': 0.018735636670162738, 'w_sv': 0.609782869522277, 'w_xgb': 0.1257268888344056, 'w_lgbm': 0.10282314833705018, 'w_mlp': 0.6409335052733912}.\n"
     ]
    },
    {
     "name": "stdout",
     "output_type": "stream",
     "text": [
      "[w_lr, w_lda, w_sv, w_xgb, w_lgbm,w_cb ] =  [0.042 0.    0.431 0.1   0.093 0.    0.764]\n",
      "AUC all:  0.7914905607213298\n",
      "\n"
     ]
    },
    {
     "name": "stderr",
     "output_type": "stream",
     "text": [
      "[I 2019-08-24 12:22:06,268] Finished trial#1082 resulted in value: -0.7914905607213298. Current best value is -0.7944491406029868 with parameters: {'w_lr': 0.018735636670162738, 'w_sv': 0.609782869522277, 'w_xgb': 0.1257268888344056, 'w_lgbm': 0.10282314833705018, 'w_mlp': 0.6409335052733912}.\n"
     ]
    },
    {
     "name": "stdout",
     "output_type": "stream",
     "text": [
      "[w_lr, w_lda, w_sv, w_xgb, w_lgbm,w_cb ] =  [0.081 0.    0.472 0.401 0.179 0.    0.739]\n",
      "AUC all:  0.7893772893772893\n",
      "\n"
     ]
    },
    {
     "name": "stderr",
     "output_type": "stream",
     "text": [
      "[I 2019-08-24 12:22:07,730] Finished trial#1083 resulted in value: -0.7893772893772893. Current best value is -0.7944491406029868 with parameters: {'w_lr': 0.018735636670162738, 'w_sv': 0.609782869522277, 'w_xgb': 0.1257268888344056, 'w_lgbm': 0.10282314833705018, 'w_mlp': 0.6409335052733912}.\n"
     ]
    },
    {
     "name": "stdout",
     "output_type": "stream",
     "text": [
      "[w_lr, w_lda, w_sv, w_xgb, w_lgbm,w_cb ] =  [0.    0.    0.456 0.332 0.053 0.    0.782]\n",
      "AUC all:  0.780924204001127\n",
      "\n"
     ]
    },
    {
     "name": "stderr",
     "output_type": "stream",
     "text": [
      "[I 2019-08-24 12:22:09,207] Finished trial#1084 resulted in value: -0.780924204001127. Current best value is -0.7944491406029868 with parameters: {'w_lr': 0.018735636670162738, 'w_sv': 0.609782869522277, 'w_xgb': 0.1257268888344056, 'w_lgbm': 0.10282314833705018, 'w_mlp': 0.6409335052733912}.\n"
     ]
    },
    {
     "name": "stdout",
     "output_type": "stream",
     "text": [
      "[w_lr, w_lda, w_sv, w_xgb, w_lgbm,w_cb ] =  [0.001 0.    0.519 0.119 0.096 0.    0.698]\n",
      "AUC all:  0.7931811777965624\n",
      "\n"
     ]
    },
    {
     "name": "stderr",
     "output_type": "stream",
     "text": [
      "[I 2019-08-24 12:22:10,664] Finished trial#1085 resulted in value: -0.7931811777965624. Current best value is -0.7944491406029868 with parameters: {'w_lr': 0.018735636670162738, 'w_sv': 0.609782869522277, 'w_xgb': 0.1257268888344056, 'w_lgbm': 0.10282314833705018, 'w_mlp': 0.6409335052733912}.\n"
     ]
    },
    {
     "name": "stdout",
     "output_type": "stream",
     "text": [
      "[w_lr, w_lda, w_sv, w_xgb, w_lgbm,w_cb ] =  [0.047 0.    0.496 0.165 0.121 0.    0.718]\n",
      "AUC all:  0.792617638771485\n",
      "\n"
     ]
    },
    {
     "name": "stderr",
     "output_type": "stream",
     "text": [
      "[I 2019-08-24 12:22:12,157] Finished trial#1086 resulted in value: -0.792617638771485. Current best value is -0.7944491406029868 with parameters: {'w_lr': 0.018735636670162738, 'w_sv': 0.609782869522277, 'w_xgb': 0.1257268888344056, 'w_lgbm': 0.10282314833705018, 'w_mlp': 0.6409335052733912}.\n"
     ]
    },
    {
     "name": "stdout",
     "output_type": "stream",
     "text": [
      "[w_lr, w_lda, w_sv, w_xgb, w_lgbm,w_cb ] =  [0.063 0.    0.393 0.432 0.144 0.    0.735]\n",
      "AUC all:  0.7888137503522118\n",
      "\n"
     ]
    },
    {
     "name": "stderr",
     "output_type": "stream",
     "text": [
      "[I 2019-08-24 12:22:13,619] Finished trial#1087 resulted in value: -0.7888137503522118. Current best value is -0.7944491406029868 with parameters: {'w_lr': 0.018735636670162738, 'w_sv': 0.609782869522277, 'w_xgb': 0.1257268888344056, 'w_lgbm': 0.10282314833705018, 'w_mlp': 0.6409335052733912}.\n"
     ]
    },
    {
     "name": "stdout",
     "output_type": "stream",
     "text": [
      "[w_lr, w_lda, w_sv, w_xgb, w_lgbm,w_cb ] =  [0.092 0.    0.502 0.101 0.068 0.    0.677]\n",
      "AUC all:  0.7907861369399831\n",
      "\n"
     ]
    },
    {
     "name": "stderr",
     "output_type": "stream",
     "text": [
      "[I 2019-08-24 12:22:15,083] Finished trial#1088 resulted in value: -0.7907861369399831. Current best value is -0.7944491406029868 with parameters: {'w_lr': 0.018735636670162738, 'w_sv': 0.609782869522277, 'w_xgb': 0.1257268888344056, 'w_lgbm': 0.10282314833705018, 'w_mlp': 0.6409335052733912}.\n"
     ]
    },
    {
     "name": "stdout",
     "output_type": "stream",
     "text": [
      "[w_lr, w_lda, w_sv, w_xgb, w_lgbm,w_cb ] =  [0.02  0.    0.356 0.157 0.105 0.    0.753]\n",
      "AUC all:  0.791913214990138\n",
      "\n"
     ]
    },
    {
     "name": "stderr",
     "output_type": "stream",
     "text": [
      "[I 2019-08-24 12:22:16,557] Finished trial#1089 resulted in value: -0.791913214990138. Current best value is -0.7944491406029868 with parameters: {'w_lr': 0.018735636670162738, 'w_sv': 0.609782869522277, 'w_xgb': 0.1257268888344056, 'w_lgbm': 0.10282314833705018, 'w_mlp': 0.6409335052733912}.\n"
     ]
    },
    {
     "name": "stdout",
     "output_type": "stream",
     "text": [
      "[w_lr, w_lda, w_sv, w_xgb, w_lgbm,w_cb ] =  [0.042 0.    0.438 0.146 0.123 0.    0.809]\n",
      "AUC all:  0.7931811777965624\n",
      "\n"
     ]
    },
    {
     "name": "stderr",
     "output_type": "stream",
     "text": [
      "[I 2019-08-24 12:22:18,020] Finished trial#1090 resulted in value: -0.7931811777965624. Current best value is -0.7944491406029868 with parameters: {'w_lr': 0.018735636670162738, 'w_sv': 0.609782869522277, 'w_xgb': 0.1257268888344056, 'w_lgbm': 0.10282314833705018, 'w_mlp': 0.6409335052733912}.\n"
     ]
    },
    {
     "name": "stdout",
     "output_type": "stream",
     "text": [
      "[w_lr, w_lda, w_sv, w_xgb, w_lgbm,w_cb ] =  [0.168 0.    0.403 0.125 0.107 0.    0.389]\n",
      "AUC all:  0.7913496759650607\n",
      "\n"
     ]
    },
    {
     "name": "stderr",
     "output_type": "stream",
     "text": [
      "[I 2019-08-24 12:22:19,510] Finished trial#1091 resulted in value: -0.7913496759650607. Current best value is -0.7944491406029868 with parameters: {'w_lr': 0.018735636670162738, 'w_sv': 0.609782869522277, 'w_xgb': 0.1257268888344056, 'w_lgbm': 0.10282314833705018, 'w_mlp': 0.6409335052733912}.\n"
     ]
    },
    {
     "name": "stdout",
     "output_type": "stream",
     "text": [
      "[w_lr, w_lda, w_sv, w_xgb, w_lgbm,w_cb ] =  [0.066 0.    0.486 0.182 0.084 0.    0.731]\n",
      "AUC all:  0.7900817131586363\n",
      "\n"
     ]
    },
    {
     "name": "stderr",
     "output_type": "stream",
     "text": [
      "[I 2019-08-24 12:22:20,996] Finished trial#1092 resulted in value: -0.7900817131586363. Current best value is -0.7944491406029868 with parameters: {'w_lr': 0.018735636670162738, 'w_sv': 0.609782869522277, 'w_xgb': 0.1257268888344056, 'w_lgbm': 0.10282314833705018, 'w_mlp': 0.6409335052733912}.\n"
     ]
    },
    {
     "name": "stdout",
     "output_type": "stream",
     "text": [
      "[w_lr, w_lda, w_sv, w_xgb, w_lgbm,w_cb ] =  [0.084 0.    0.426 0.136 0.159 0.    0.762]\n",
      "AUC all:  0.792617638771485\n",
      "\n"
     ]
    },
    {
     "name": "stderr",
     "output_type": "stream",
     "text": [
      "[I 2019-08-24 12:22:22,466] Finished trial#1093 resulted in value: -0.792617638771485. Current best value is -0.7944491406029868 with parameters: {'w_lr': 0.018735636670162738, 'w_sv': 0.609782869522277, 'w_xgb': 0.1257268888344056, 'w_lgbm': 0.10282314833705018, 'w_mlp': 0.6409335052733912}.\n"
     ]
    },
    {
     "name": "stdout",
     "output_type": "stream",
     "text": [
      "[w_lr, w_lda, w_sv, w_xgb, w_lgbm,w_cb ] =  [0.001 0.    0.368 0.088 0.041 0.    0.692]\n",
      "AUC all:  0.7874049027895181\n",
      "\n"
     ]
    },
    {
     "name": "stderr",
     "output_type": "stream",
     "text": [
      "[I 2019-08-24 12:22:23,942] Finished trial#1094 resulted in value: -0.7874049027895181. Current best value is -0.7944491406029868 with parameters: {'w_lr': 0.018735636670162738, 'w_sv': 0.609782869522277, 'w_xgb': 0.1257268888344056, 'w_lgbm': 0.10282314833705018, 'w_mlp': 0.6409335052733912}.\n"
     ]
    },
    {
     "name": "stdout",
     "output_type": "stream",
     "text": [
      "[w_lr, w_lda, w_sv, w_xgb, w_lgbm,w_cb ] =  [0.022 0.    0.437 0.108 0.084 0.    0.81 ]\n",
      "AUC all:  0.790786136939983\n",
      "\n"
     ]
    },
    {
     "name": "stderr",
     "output_type": "stream",
     "text": [
      "[I 2019-08-24 12:22:25,427] Finished trial#1095 resulted in value: -0.790786136939983. Current best value is -0.7944491406029868 with parameters: {'w_lr': 0.018735636670162738, 'w_sv': 0.609782869522277, 'w_xgb': 0.1257268888344056, 'w_lgbm': 0.10282314833705018, 'w_mlp': 0.6409335052733912}.\n"
     ]
    },
    {
     "name": "stdout",
     "output_type": "stream",
     "text": [
      "[w_lr, w_lda, w_sv, w_xgb, w_lgbm,w_cb ] =  [0.034 0.    0.458 0.125 0.063 0.    0.253]\n",
      "AUC all:  0.7890955198647507\n",
      "\n"
     ]
    },
    {
     "name": "stderr",
     "output_type": "stream",
     "text": [
      "[I 2019-08-24 12:22:26,906] Finished trial#1096 resulted in value: -0.7890955198647507. Current best value is -0.7944491406029868 with parameters: {'w_lr': 0.018735636670162738, 'w_sv': 0.609782869522277, 'w_xgb': 0.1257268888344056, 'w_lgbm': 0.10282314833705018, 'w_mlp': 0.6409335052733912}.\n"
     ]
    },
    {
     "name": "stdout",
     "output_type": "stream",
     "text": [
      "[w_lr, w_lda, w_sv, w_xgb, w_lgbm,w_cb ] =  [0.13  0.    0.722 0.089 0.094 0.    0.717]\n",
      "AUC all:  0.792617638771485\n",
      "\n"
     ]
    },
    {
     "name": "stderr",
     "output_type": "stream",
     "text": [
      "[I 2019-08-24 12:22:28,380] Finished trial#1097 resulted in value: -0.792617638771485. Current best value is -0.7944491406029868 with parameters: {'w_lr': 0.018735636670162738, 'w_sv': 0.609782869522277, 'w_xgb': 0.1257268888344056, 'w_lgbm': 0.10282314833705018, 'w_mlp': 0.6409335052733912}.\n"
     ]
    },
    {
     "name": "stdout",
     "output_type": "stream",
     "text": [
      "[w_lr, w_lda, w_sv, w_xgb, w_lgbm,w_cb ] =  [0.107 0.    0.468 0.158 0.137 0.    0.872]\n",
      "AUC all:  0.7934629473091012\n",
      "\n"
     ]
    },
    {
     "name": "stderr",
     "output_type": "stream",
     "text": [
      "[I 2019-08-24 12:22:29,863] Finished trial#1098 resulted in value: -0.7934629473091012. Current best value is -0.7944491406029868 with parameters: {'w_lr': 0.018735636670162738, 'w_sv': 0.609782869522277, 'w_xgb': 0.1257268888344056, 'w_lgbm': 0.10282314833705018, 'w_mlp': 0.6409335052733912}.\n"
     ]
    },
    {
     "name": "stdout",
     "output_type": "stream",
     "text": [
      "[w_lr, w_lda, w_sv, w_xgb, w_lgbm,w_cb ] =  [0.056 0.    0.505 0.139 0.116 0.    0.758]\n",
      "AUC all:  0.7937447168216398\n",
      "\n"
     ]
    },
    {
     "name": "stderr",
     "output_type": "stream",
     "text": [
      "[I 2019-08-24 12:22:31,335] Finished trial#1099 resulted in value: -0.7937447168216398. Current best value is -0.7944491406029868 with parameters: {'w_lr': 0.018735636670162738, 'w_sv': 0.609782869522277, 'w_xgb': 0.1257268888344056, 'w_lgbm': 0.10282314833705018, 'w_mlp': 0.6409335052733912}.\n"
     ]
    },
    {
     "name": "stdout",
     "output_type": "stream",
     "text": [
      "[w_lr, w_lda, w_sv, w_xgb, w_lgbm,w_cb ] =  [0.064 0.    0.365 0.115 0.101 0.    0.701]\n",
      "AUC all:  0.793462947309101\n",
      "\n"
     ]
    },
    {
     "name": "stderr",
     "output_type": "stream",
     "text": [
      "[I 2019-08-24 12:22:32,821] Finished trial#1100 resulted in value: -0.793462947309101. Current best value is -0.7944491406029868 with parameters: {'w_lr': 0.018735636670162738, 'w_sv': 0.609782869522277, 'w_xgb': 0.1257268888344056, 'w_lgbm': 0.10282314833705018, 'w_mlp': 0.6409335052733912}.\n"
     ]
    },
    {
     "name": "stdout",
     "output_type": "stream",
     "text": [
      "[w_lr, w_lda, w_sv, w_xgb, w_lgbm,w_cb ] =  [0.028 0.    0.403 0.133 0.065 0.    0.694]\n",
      "AUC all:  0.7888137503522117\n",
      "\n"
     ]
    },
    {
     "name": "stderr",
     "output_type": "stream",
     "text": [
      "[I 2019-08-24 12:22:34,306] Finished trial#1101 resulted in value: -0.7888137503522117. Current best value is -0.7944491406029868 with parameters: {'w_lr': 0.018735636670162738, 'w_sv': 0.609782869522277, 'w_xgb': 0.1257268888344056, 'w_lgbm': 0.10282314833705018, 'w_mlp': 0.6409335052733912}.\n"
     ]
    },
    {
     "name": "stdout",
     "output_type": "stream",
     "text": [
      "[w_lr, w_lda, w_sv, w_xgb, w_lgbm,w_cb ] =  [0.086 0.    0.497 0.207 0.131 0.    0.734]\n",
      "AUC all:  0.7913496759650606\n",
      "\n"
     ]
    },
    {
     "name": "stderr",
     "output_type": "stream",
     "text": [
      "[I 2019-08-24 12:22:35,775] Finished trial#1102 resulted in value: -0.7913496759650606. Current best value is -0.7944491406029868 with parameters: {'w_lr': 0.018735636670162738, 'w_sv': 0.609782869522277, 'w_xgb': 0.1257268888344056, 'w_lgbm': 0.10282314833705018, 'w_mlp': 0.6409335052733912}.\n"
     ]
    },
    {
     "name": "stdout",
     "output_type": "stream",
     "text": [
      "[w_lr, w_lda, w_sv, w_xgb, w_lgbm,w_cb ] =  [0.147 0.    0.515 0.167 0.111 0.    0.744]\n",
      "AUC all:  0.7917723302338687\n",
      "\n"
     ]
    },
    {
     "name": "stderr",
     "output_type": "stream",
     "text": [
      "[I 2019-08-24 12:22:37,285] Finished trial#1103 resulted in value: -0.7917723302338687. Current best value is -0.7944491406029868 with parameters: {'w_lr': 0.018735636670162738, 'w_sv': 0.609782869522277, 'w_xgb': 0.1257268888344056, 'w_lgbm': 0.10282314833705018, 'w_mlp': 0.6409335052733912}.\n"
     ]
    },
    {
     "name": "stdout",
     "output_type": "stream",
     "text": [
      "[w_lr, w_lda, w_sv, w_xgb, w_lgbm,w_cb ] =  [0.119 0.    0.453 0.184 0.149 0.    0.725]\n",
      "AUC all:  0.7920540997464074\n",
      "\n"
     ]
    },
    {
     "name": "stderr",
     "output_type": "stream",
     "text": [
      "[I 2019-08-24 12:22:38,771] Finished trial#1104 resulted in value: -0.7920540997464074. Current best value is -0.7944491406029868 with parameters: {'w_lr': 0.018735636670162738, 'w_sv': 0.609782869522277, 'w_xgb': 0.1257268888344056, 'w_lgbm': 0.10282314833705018, 'w_mlp': 0.6409335052733912}.\n"
     ]
    },
    {
     "name": "stdout",
     "output_type": "stream",
     "text": [
      "[w_lr, w_lda, w_sv, w_xgb, w_lgbm,w_cb ] =  [0.054 0.    0.532 0.303 0.079 0.    0.715]\n",
      "AUC all:  0.7859960552268245\n",
      "\n"
     ]
    },
    {
     "name": "stderr",
     "output_type": "stream",
     "text": [
      "[I 2019-08-24 12:22:40,262] Finished trial#1105 resulted in value: -0.7859960552268245. Current best value is -0.7944491406029868 with parameters: {'w_lr': 0.018735636670162738, 'w_sv': 0.609782869522277, 'w_xgb': 0.1257268888344056, 'w_lgbm': 0.10282314833705018, 'w_mlp': 0.6409335052733912}.\n"
     ]
    },
    {
     "name": "stdout",
     "output_type": "stream",
     "text": [
      "[w_lr, w_lda, w_sv, w_xgb, w_lgbm,w_cb ] =  [0.015 0.    0.42  0.109 0.094 0.    0.665]\n",
      "AUC all:  0.7937447168216398\n",
      "\n"
     ]
    },
    {
     "name": "stderr",
     "output_type": "stream",
     "text": [
      "[I 2019-08-24 12:22:41,774] Finished trial#1106 resulted in value: -0.7937447168216398. Current best value is -0.7944491406029868 with parameters: {'w_lr': 0.018735636670162738, 'w_sv': 0.609782869522277, 'w_xgb': 0.1257268888344056, 'w_lgbm': 0.10282314833705018, 'w_mlp': 0.6409335052733912}.\n"
     ]
    },
    {
     "name": "stdout",
     "output_type": "stream",
     "text": [
      "[w_lr, w_lda, w_sv, w_xgb, w_lgbm,w_cb ] =  [0.072 0.    0.478 0.153 0.034 0.    0.356]\n",
      "AUC all:  0.7837418991265145\n",
      "\n"
     ]
    },
    {
     "name": "stderr",
     "output_type": "stream",
     "text": [
      "[I 2019-08-24 12:22:43,288] Finished trial#1107 resulted in value: -0.7837418991265145. Current best value is -0.7944491406029868 with parameters: {'w_lr': 0.018735636670162738, 'w_sv': 0.609782869522277, 'w_xgb': 0.1257268888344056, 'w_lgbm': 0.10282314833705018, 'w_mlp': 0.6409335052733912}.\n"
     ]
    },
    {
     "name": "stdout",
     "output_type": "stream",
     "text": [
      "[w_lr, w_lda, w_sv, w_xgb, w_lgbm,w_cb ] =  [0.042 0.    0.526 0.09  0.083 0.    0.692]\n",
      "AUC all:  0.7913496759650606\n",
      "\n"
     ]
    },
    {
     "name": "stderr",
     "output_type": "stream",
     "text": [
      "[I 2019-08-24 12:22:44,783] Finished trial#1108 resulted in value: -0.7913496759650606. Current best value is -0.7944491406029868 with parameters: {'w_lr': 0.018735636670162738, 'w_sv': 0.609782869522277, 'w_xgb': 0.1257268888344056, 'w_lgbm': 0.10282314833705018, 'w_mlp': 0.6409335052733912}.\n"
     ]
    },
    {
     "name": "stdout",
     "output_type": "stream",
     "text": [
      "[w_lr, w_lda, w_sv, w_xgb, w_lgbm,w_cb ] =  [0.096 0.    0.383 0.144 0.129 0.    0.778]\n",
      "AUC all:  0.7931811777965623\n",
      "\n"
     ]
    },
    {
     "name": "stderr",
     "output_type": "stream",
     "text": [
      "[I 2019-08-24 12:22:46,286] Finished trial#1109 resulted in value: -0.7931811777965623. Current best value is -0.7944491406029868 with parameters: {'w_lr': 0.018735636670162738, 'w_sv': 0.609782869522277, 'w_xgb': 0.1257268888344056, 'w_lgbm': 0.10282314833705018, 'w_mlp': 0.6409335052733912}.\n"
     ]
    },
    {
     "name": "stdout",
     "output_type": "stream",
     "text": [
      "[w_lr, w_lda, w_sv, w_xgb, w_lgbm,w_cb ] =  [0.016 0.    0.74  0.121 0.11  0.    0.708]\n",
      "AUC all:  0.793462947309101\n",
      "\n"
     ]
    },
    {
     "name": "stderr",
     "output_type": "stream",
     "text": [
      "[I 2019-08-24 12:22:47,784] Finished trial#1110 resulted in value: -0.793462947309101. Current best value is -0.7944491406029868 with parameters: {'w_lr': 0.018735636670162738, 'w_sv': 0.609782869522277, 'w_xgb': 0.1257268888344056, 'w_lgbm': 0.10282314833705018, 'w_mlp': 0.6409335052733912}.\n"
     ]
    },
    {
     "name": "stdout",
     "output_type": "stream",
     "text": [
      "[w_lr, w_lda, w_sv, w_xgb, w_lgbm,w_cb ] =  [0.061 0.    0.401 0.132 0.051 0.    0.701]\n",
      "AUC all:  0.7865595942519019\n",
      "\n"
     ]
    },
    {
     "name": "stderr",
     "output_type": "stream",
     "text": [
      "[I 2019-08-24 12:22:49,311] Finished trial#1111 resulted in value: -0.7865595942519019. Current best value is -0.7944491406029868 with parameters: {'w_lr': 0.018735636670162738, 'w_sv': 0.609782869522277, 'w_xgb': 0.1257268888344056, 'w_lgbm': 0.10282314833705018, 'w_mlp': 0.6409335052733912}.\n"
     ]
    },
    {
     "name": "stdout",
     "output_type": "stream",
     "text": [
      "[w_lr, w_lda, w_sv, w_xgb, w_lgbm,w_cb ] =  [0.036 0.    0.447 0.175 0.183 0.    0.75 ]\n",
      "AUC all:  0.791913214990138\n",
      "\n"
     ]
    },
    {
     "name": "stderr",
     "output_type": "stream",
     "text": [
      "[I 2019-08-24 12:22:50,804] Finished trial#1112 resulted in value: -0.791913214990138. Current best value is -0.7944491406029868 with parameters: {'w_lr': 0.018735636670162738, 'w_sv': 0.609782869522277, 'w_xgb': 0.1257268888344056, 'w_lgbm': 0.10282314833705018, 'w_mlp': 0.6409335052733912}.\n"
     ]
    },
    {
     "name": "stdout",
     "output_type": "stream",
     "text": [
      "[w_lr, w_lda, w_sv, w_xgb, w_lgbm,w_cb ] =  [0.111 0.    0.51  0.109 0.099 0.    0.684]\n",
      "AUC all:  0.793462947309101\n",
      "\n"
     ]
    },
    {
     "name": "stderr",
     "output_type": "stream",
     "text": [
      "[I 2019-08-24 12:22:52,311] Finished trial#1113 resulted in value: -0.793462947309101. Current best value is -0.7944491406029868 with parameters: {'w_lr': 0.018735636670162738, 'w_sv': 0.609782869522277, 'w_xgb': 0.1257268888344056, 'w_lgbm': 0.10282314833705018, 'w_mlp': 0.6409335052733912}.\n"
     ]
    },
    {
     "name": "stdout",
     "output_type": "stream",
     "text": [
      "[w_lr, w_lda, w_sv, w_xgb, w_lgbm,w_cb ] =  [0.001 0.    0.527 0.085 0.07  0.    0.666]\n",
      "AUC all:  0.7909270216962524\n",
      "\n"
     ]
    },
    {
     "name": "stderr",
     "output_type": "stream",
     "text": [
      "[I 2019-08-24 12:22:53,821] Finished trial#1114 resulted in value: -0.7909270216962524. Current best value is -0.7944491406029868 with parameters: {'w_lr': 0.018735636670162738, 'w_sv': 0.609782869522277, 'w_xgb': 0.1257268888344056, 'w_lgbm': 0.10282314833705018, 'w_mlp': 0.6409335052733912}.\n"
     ]
    },
    {
     "name": "stdout",
     "output_type": "stream",
     "text": [
      "[w_lr, w_lda, w_sv, w_xgb, w_lgbm,w_cb ] =  [0.    0.    0.393 0.135 0.126 0.    0.65 ]\n",
      "AUC all:  0.7928994082840236\n",
      "\n"
     ]
    },
    {
     "name": "stderr",
     "output_type": "stream",
     "text": [
      "[I 2019-08-24 12:22:55,325] Finished trial#1115 resulted in value: -0.7928994082840236. Current best value is -0.7944491406029868 with parameters: {'w_lr': 0.018735636670162738, 'w_sv': 0.609782869522277, 'w_xgb': 0.1257268888344056, 'w_lgbm': 0.10282314833705018, 'w_mlp': 0.6409335052733912}.\n"
     ]
    },
    {
     "name": "stdout",
     "output_type": "stream",
     "text": [
      "[w_lr, w_lda, w_sv, w_xgb, w_lgbm,w_cb ] =  [0.499 0.    0.481 0.154 0.159 0.    0.81 ]\n",
      "AUC all:  0.791913214990138\n",
      "\n"
     ]
    },
    {
     "name": "stderr",
     "output_type": "stream",
     "text": [
      "[I 2019-08-24 12:22:56,828] Finished trial#1116 resulted in value: -0.791913214990138. Current best value is -0.7944491406029868 with parameters: {'w_lr': 0.018735636670162738, 'w_sv': 0.609782869522277, 'w_xgb': 0.1257268888344056, 'w_lgbm': 0.10282314833705018, 'w_mlp': 0.6409335052733912}.\n"
     ]
    },
    {
     "name": "stdout",
     "output_type": "stream",
     "text": [
      "[w_lr, w_lda, w_sv, w_xgb, w_lgbm,w_cb ] =  [0.083 0.    0.672 0.002 0.101 0.    0.68 ]\n",
      "AUC all:  0.7900817131586362\n",
      "\n"
     ]
    },
    {
     "name": "stderr",
     "output_type": "stream",
     "text": [
      "[I 2019-08-24 12:22:58,313] Finished trial#1117 resulted in value: -0.7900817131586362. Current best value is -0.7944491406029868 with parameters: {'w_lr': 0.018735636670162738, 'w_sv': 0.609782869522277, 'w_xgb': 0.1257268888344056, 'w_lgbm': 0.10282314833705018, 'w_mlp': 0.6409335052733912}.\n"
     ]
    },
    {
     "name": "stdout",
     "output_type": "stream",
     "text": [
      "[w_lr, w_lda, w_sv, w_xgb, w_lgbm,w_cb ] =  [0.047 0.    0.406 0.1   0.086 0.    0.65 ]\n",
      "AUC all:  0.7923358692589463\n",
      "\n"
     ]
    },
    {
     "name": "stderr",
     "output_type": "stream",
     "text": [
      "[I 2019-08-24 12:22:59,814] Finished trial#1118 resulted in value: -0.7923358692589463. Current best value is -0.7944491406029868 with parameters: {'w_lr': 0.018735636670162738, 'w_sv': 0.609782869522277, 'w_xgb': 0.1257268888344056, 'w_lgbm': 0.10282314833705018, 'w_mlp': 0.6409335052733912}.\n"
     ]
    },
    {
     "name": "stdout",
     "output_type": "stream",
     "text": [
      "[w_lr, w_lda, w_sv, w_xgb, w_lgbm,w_cb ] =  [0.074 0.    0.437 0.15  0.14  0.    0.767]\n",
      "AUC all:  0.7931811777965624\n",
      "\n"
     ]
    },
    {
     "name": "stderr",
     "output_type": "stream",
     "text": [
      "[I 2019-08-24 12:23:01,344] Finished trial#1119 resulted in value: -0.7931811777965624. Current best value is -0.7944491406029868 with parameters: {'w_lr': 0.018735636670162738, 'w_sv': 0.609782869522277, 'w_xgb': 0.1257268888344056, 'w_lgbm': 0.10282314833705018, 'w_mlp': 0.6409335052733912}.\n"
     ]
    },
    {
     "name": "stdout",
     "output_type": "stream",
     "text": [
      "[w_lr, w_lda, w_sv, w_xgb, w_lgbm,w_cb ] =  [0.019 0.    0.469 0.226 0.169 0.    0.726]\n",
      "AUC all:  0.79149056072133\n",
      "\n"
     ]
    },
    {
     "name": "stderr",
     "output_type": "stream",
     "text": [
      "[I 2019-08-24 12:23:02,872] Finished trial#1120 resulted in value: -0.79149056072133. Current best value is -0.7944491406029868 with parameters: {'w_lr': 0.018735636670162738, 'w_sv': 0.609782869522277, 'w_xgb': 0.1257268888344056, 'w_lgbm': 0.10282314833705018, 'w_mlp': 0.6409335052733912}.\n"
     ]
    },
    {
     "name": "stdout",
     "output_type": "stream",
     "text": [
      "[w_lr, w_lda, w_sv, w_xgb, w_lgbm,w_cb ] =  [0.098 0.    0.496 0.189 0.116 0.    0.749]\n",
      "AUC all:  0.7917723302338686\n",
      "\n"
     ]
    },
    {
     "name": "stderr",
     "output_type": "stream",
     "text": [
      "[I 2019-08-24 12:23:04,382] Finished trial#1121 resulted in value: -0.7917723302338686. Current best value is -0.7944491406029868 with parameters: {'w_lr': 0.018735636670162738, 'w_sv': 0.609782869522277, 'w_xgb': 0.1257268888344056, 'w_lgbm': 0.10282314833705018, 'w_mlp': 0.6409335052733912}.\n"
     ]
    },
    {
     "name": "stdout",
     "output_type": "stream",
     "text": [
      "[w_lr, w_lda, w_sv, w_xgb, w_lgbm,w_cb ] =  [0.059 0.    0.423 0.116 0.072 0.    0.701]\n",
      "AUC all:  0.7899408284023669\n",
      "\n"
     ]
    },
    {
     "name": "stderr",
     "output_type": "stream",
     "text": [
      "[I 2019-08-24 12:23:05,893] Finished trial#1122 resulted in value: -0.7899408284023669. Current best value is -0.7944491406029868 with parameters: {'w_lr': 0.018735636670162738, 'w_sv': 0.609782869522277, 'w_xgb': 0.1257268888344056, 'w_lgbm': 0.10282314833705018, 'w_mlp': 0.6409335052733912}.\n"
     ]
    },
    {
     "name": "stdout",
     "output_type": "stream",
     "text": [
      "[w_lr, w_lda, w_sv, w_xgb, w_lgbm,w_cb ] =  [0.    0.    0.383 0.074 0.114 0.    0.636]\n",
      "AUC all:  0.7917723302338686\n",
      "\n"
     ]
    },
    {
     "name": "stderr",
     "output_type": "stream",
     "text": [
      "[I 2019-08-24 12:23:07,412] Finished trial#1123 resulted in value: -0.7917723302338686. Current best value is -0.7944491406029868 with parameters: {'w_lr': 0.018735636670162738, 'w_sv': 0.609782869522277, 'w_xgb': 0.1257268888344056, 'w_lgbm': 0.10282314833705018, 'w_mlp': 0.6409335052733912}.\n"
     ]
    },
    {
     "name": "stdout",
     "output_type": "stream",
     "text": [
      "[w_lr, w_lda, w_sv, w_xgb, w_lgbm,w_cb ] =  [0.031 0.    0.587 0.125 0.055 0.    0.674]\n",
      "AUC all:  0.788109326570865\n",
      "\n"
     ]
    },
    {
     "name": "stderr",
     "output_type": "stream",
     "text": [
      "[I 2019-08-24 12:23:08,937] Finished trial#1124 resulted in value: -0.788109326570865. Current best value is -0.7944491406029868 with parameters: {'w_lr': 0.018735636670162738, 'w_sv': 0.609782869522277, 'w_xgb': 0.1257268888344056, 'w_lgbm': 0.10282314833705018, 'w_mlp': 0.6409335052733912}.\n"
     ]
    },
    {
     "name": "stdout",
     "output_type": "stream",
     "text": [
      "[w_lr, w_lda, w_sv, w_xgb, w_lgbm,w_cb ] =  [0.042 0.    0.604 0.136 0.087 0.    0.79 ]\n",
      "AUC all:  0.7905043674274443\n",
      "\n"
     ]
    },
    {
     "name": "stderr",
     "output_type": "stream",
     "text": [
      "[I 2019-08-24 12:23:10,439] Finished trial#1125 resulted in value: -0.7905043674274443. Current best value is -0.7944491406029868 with parameters: {'w_lr': 0.018735636670162738, 'w_sv': 0.609782869522277, 'w_xgb': 0.1257268888344056, 'w_lgbm': 0.10282314833705018, 'w_mlp': 0.6409335052733912}.\n"
     ]
    },
    {
     "name": "stdout",
     "output_type": "stream",
     "text": [
      "[w_lr, w_lda, w_sv, w_xgb, w_lgbm,w_cb ] =  [0.048 0.    0.29  0.164 0.104 0.    0.663]\n",
      "AUC all:  0.7923358692589462\n",
      "\n"
     ]
    },
    {
     "name": "stderr",
     "output_type": "stream",
     "text": [
      "[I 2019-08-24 12:23:11,944] Finished trial#1126 resulted in value: -0.7923358692589462. Current best value is -0.7944491406029868 with parameters: {'w_lr': 0.018735636670162738, 'w_sv': 0.609782869522277, 'w_xgb': 0.1257268888344056, 'w_lgbm': 0.10282314833705018, 'w_mlp': 0.6409335052733912}.\n"
     ]
    },
    {
     "name": "stdout",
     "output_type": "stream",
     "text": [
      "[w_lr, w_lda, w_sv, w_xgb, w_lgbm,w_cb ] =  [0.087 0.    0.458 0.17  0.136 0.    0.737]\n",
      "AUC all:  0.7928994082840236\n",
      "\n"
     ]
    },
    {
     "name": "stderr",
     "output_type": "stream",
     "text": [
      "[I 2019-08-24 12:23:13,451] Finished trial#1127 resulted in value: -0.7928994082840236. Current best value is -0.7944491406029868 with parameters: {'w_lr': 0.018735636670162738, 'w_sv': 0.609782869522277, 'w_xgb': 0.1257268888344056, 'w_lgbm': 0.10282314833705018, 'w_mlp': 0.6409335052733912}.\n"
     ]
    },
    {
     "name": "stdout",
     "output_type": "stream",
     "text": [
      "[w_lr, w_lda, w_sv, w_xgb, w_lgbm,w_cb ] =  [0.127 0.    0.553 0.1   0.077 0.    0.7  ]\n",
      "AUC all:  0.7906452521837137\n",
      "\n"
     ]
    },
    {
     "name": "stderr",
     "output_type": "stream",
     "text": [
      "[I 2019-08-24 12:23:14,962] Finished trial#1128 resulted in value: -0.7906452521837137. Current best value is -0.7944491406029868 with parameters: {'w_lr': 0.018735636670162738, 'w_sv': 0.609782869522277, 'w_xgb': 0.1257268888344056, 'w_lgbm': 0.10282314833705018, 'w_mlp': 0.6409335052733912}.\n"
     ]
    },
    {
     "name": "stdout",
     "output_type": "stream",
     "text": [
      "[w_lr, w_lda, w_sv, w_xgb, w_lgbm,w_cb ] =  [0.063 0.    0.444 0.144 0.144 0.    0.838]\n",
      "AUC all:  0.7926176387714848\n",
      "\n"
     ]
    },
    {
     "name": "stderr",
     "output_type": "stream",
     "text": [
      "[I 2019-08-24 12:23:16,475] Finished trial#1129 resulted in value: -0.7926176387714848. Current best value is -0.7944491406029868 with parameters: {'w_lr': 0.018735636670162738, 'w_sv': 0.609782869522277, 'w_xgb': 0.1257268888344056, 'w_lgbm': 0.10282314833705018, 'w_mlp': 0.6409335052733912}.\n"
     ]
    },
    {
     "name": "stdout",
     "output_type": "stream",
     "text": [
      "[w_lr, w_lda, w_sv, w_xgb, w_lgbm,w_cb ] =  [0.111 0.    0.    0.119 0.11  0.    0.706]\n",
      "AUC all:  0.7933220625528317\n",
      "\n"
     ]
    },
    {
     "name": "stderr",
     "output_type": "stream",
     "text": [
      "[I 2019-08-24 12:23:17,991] Finished trial#1130 resulted in value: -0.7933220625528317. Current best value is -0.7944491406029868 with parameters: {'w_lr': 0.018735636670162738, 'w_sv': 0.609782869522277, 'w_xgb': 0.1257268888344056, 'w_lgbm': 0.10282314833705018, 'w_mlp': 0.6409335052733912}.\n"
     ]
    },
    {
     "name": "stdout",
     "output_type": "stream",
     "text": [
      "[w_lr, w_lda, w_sv, w_xgb, w_lgbm,w_cb ] =  [0.079 0.    0.462 0.163 0.123 0.    0.77 ]\n",
      "AUC all:  0.7937447168216398\n",
      "\n"
     ]
    },
    {
     "name": "stderr",
     "output_type": "stream",
     "text": [
      "[I 2019-08-24 12:23:19,503] Finished trial#1131 resulted in value: -0.7937447168216398. Current best value is -0.7944491406029868 with parameters: {'w_lr': 0.018735636670162738, 'w_sv': 0.609782869522277, 'w_xgb': 0.1257268888344056, 'w_lgbm': 0.10282314833705018, 'w_mlp': 0.6409335052733912}.\n"
     ]
    },
    {
     "name": "stdout",
     "output_type": "stream",
     "text": [
      "[w_lr, w_lda, w_sv, w_xgb, w_lgbm,w_cb ] =  [0.025 0.    0.489 0.175 0.151 0.    0.18 ]\n",
      "AUC all:  0.7865595942519018\n",
      "\n"
     ]
    },
    {
     "name": "stderr",
     "output_type": "stream",
     "text": [
      "[I 2019-08-24 12:23:21,019] Finished trial#1132 resulted in value: -0.7865595942519018. Current best value is -0.7944491406029868 with parameters: {'w_lr': 0.018735636670162738, 'w_sv': 0.609782869522277, 'w_xgb': 0.1257268888344056, 'w_lgbm': 0.10282314833705018, 'w_mlp': 0.6409335052733912}.\n"
     ]
    },
    {
     "name": "stdout",
     "output_type": "stream",
     "text": [
      "[w_lr, w_lda, w_sv, w_xgb, w_lgbm,w_cb ] =  [0.043 0.    0.631 0.086 0.095 0.    0.313]\n",
      "AUC all:  0.7912087912087912\n",
      "\n"
     ]
    },
    {
     "name": "stderr",
     "output_type": "stream",
     "text": [
      "[I 2019-08-24 12:23:22,559] Finished trial#1133 resulted in value: -0.7912087912087912. Current best value is -0.7944491406029868 with parameters: {'w_lr': 0.018735636670162738, 'w_sv': 0.609782869522277, 'w_xgb': 0.1257268888344056, 'w_lgbm': 0.10282314833705018, 'w_mlp': 0.6409335052733912}.\n"
     ]
    },
    {
     "name": "stdout",
     "output_type": "stream",
     "text": [
      "[w_lr, w_lda, w_sv, w_xgb, w_lgbm,w_cb ] =  [0.063 0.    0.521 0.205 0.124 0.    0.751]\n",
      "AUC all:  0.7910679064525218\n",
      "\n"
     ]
    },
    {
     "name": "stderr",
     "output_type": "stream",
     "text": [
      "[I 2019-08-24 12:23:24,098] Finished trial#1134 resulted in value: -0.7910679064525218. Current best value is -0.7944491406029868 with parameters: {'w_lr': 0.018735636670162738, 'w_sv': 0.609782869522277, 'w_xgb': 0.1257268888344056, 'w_lgbm': 0.10282314833705018, 'w_mlp': 0.6409335052733912}.\n"
     ]
    },
    {
     "name": "stdout",
     "output_type": "stream",
     "text": [
      "[w_lr, w_lda, w_sv, w_xgb, w_lgbm,w_cb ] =  [0.019 0.    0.424 0.153 0.164 0.    0.732]\n",
      "AUC all:  0.7921949845026768\n",
      "\n"
     ]
    },
    {
     "name": "stderr",
     "output_type": "stream",
     "text": [
      "[I 2019-08-24 12:23:25,628] Finished trial#1135 resulted in value: -0.7921949845026768. Current best value is -0.7944491406029868 with parameters: {'w_lr': 0.018735636670162738, 'w_sv': 0.609782869522277, 'w_xgb': 0.1257268888344056, 'w_lgbm': 0.10282314833705018, 'w_mlp': 0.6409335052733912}.\n"
     ]
    },
    {
     "name": "stdout",
     "output_type": "stream",
     "text": [
      "[w_lr, w_lda, w_sv, w_xgb, w_lgbm,w_cb ] =  [0.088 0.    0.445 0.14  0.133 0.    0.764]\n",
      "AUC all:  0.793040293040293\n",
      "\n"
     ]
    },
    {
     "name": "stderr",
     "output_type": "stream",
     "text": [
      "[I 2019-08-24 12:23:27,180] Finished trial#1136 resulted in value: -0.793040293040293. Current best value is -0.7944491406029868 with parameters: {'w_lr': 0.018735636670162738, 'w_sv': 0.609782869522277, 'w_xgb': 0.1257268888344056, 'w_lgbm': 0.10282314833705018, 'w_mlp': 0.6409335052733912}.\n"
     ]
    },
    {
     "name": "stdout",
     "output_type": "stream",
     "text": [
      "[w_lr, w_lda, w_sv, w_xgb, w_lgbm,w_cb ] =  [0.    0.    0.348 0.185 0.191 0.    0.715]\n",
      "AUC all:  0.7928994082840237\n",
      "\n"
     ]
    },
    {
     "name": "stderr",
     "output_type": "stream",
     "text": [
      "[I 2019-08-24 12:23:28,710] Finished trial#1137 resulted in value: -0.7928994082840237. Current best value is -0.7944491406029868 with parameters: {'w_lr': 0.018735636670162738, 'w_sv': 0.609782869522277, 'w_xgb': 0.1257268888344056, 'w_lgbm': 0.10282314833705018, 'w_mlp': 0.6409335052733912}.\n"
     ]
    },
    {
     "name": "stdout",
     "output_type": "stream",
     "text": [
      "[w_lr, w_lda, w_sv, w_xgb, w_lgbm,w_cb ] =  [0.052 0.    0.484 0.114 0.047 0.    0.64 ]\n",
      "AUC all:  0.7878275570583263\n",
      "\n"
     ]
    },
    {
     "name": "stderr",
     "output_type": "stream",
     "text": [
      "[I 2019-08-24 12:23:30,247] Finished trial#1138 resulted in value: -0.7878275570583263. Current best value is -0.7944491406029868 with parameters: {'w_lr': 0.018735636670162738, 'w_sv': 0.609782869522277, 'w_xgb': 0.1257268888344056, 'w_lgbm': 0.10282314833705018, 'w_mlp': 0.6409335052733912}.\n"
     ]
    },
    {
     "name": "stdout",
     "output_type": "stream",
     "text": [
      "[w_lr, w_lda, w_sv, w_xgb, w_lgbm,w_cb ] =  [0.031 0.    0.586 0.096 0.009 0.    0.655]\n",
      "AUC all:  0.7796562411947027\n",
      "\n"
     ]
    },
    {
     "name": "stderr",
     "output_type": "stream",
     "text": [
      "[I 2019-08-24 12:23:31,766] Finished trial#1139 resulted in value: -0.7796562411947027. Current best value is -0.7944491406029868 with parameters: {'w_lr': 0.018735636670162738, 'w_sv': 0.609782869522277, 'w_xgb': 0.1257268888344056, 'w_lgbm': 0.10282314833705018, 'w_mlp': 0.6409335052733912}.\n"
     ]
    },
    {
     "name": "stdout",
     "output_type": "stream",
     "text": [
      "[w_lr, w_lda, w_sv, w_xgb, w_lgbm,w_cb ] =  [0.017 0.    0.522 0.151 0.115 0.    0.787]\n",
      "AUC all:  0.7937447168216398\n",
      "\n"
     ]
    },
    {
     "name": "stderr",
     "output_type": "stream",
     "text": [
      "[I 2019-08-24 12:23:33,297] Finished trial#1140 resulted in value: -0.7937447168216398. Current best value is -0.7944491406029868 with parameters: {'w_lr': 0.018735636670162738, 'w_sv': 0.609782869522277, 'w_xgb': 0.1257268888344056, 'w_lgbm': 0.10282314833705018, 'w_mlp': 0.6409335052733912}.\n"
     ]
    },
    {
     "name": "stdout",
     "output_type": "stream",
     "text": [
      "[w_lr, w_lda, w_sv, w_xgb, w_lgbm,w_cb ] =  [0.033 0.    0.542 0.17  0.142 0.    0.729]\n",
      "AUC all:  0.7931811777965625\n",
      "\n"
     ]
    },
    {
     "name": "stderr",
     "output_type": "stream",
     "text": [
      "[I 2019-08-24 12:23:34,846] Finished trial#1141 resulted in value: -0.7931811777965625. Current best value is -0.7944491406029868 with parameters: {'w_lr': 0.018735636670162738, 'w_sv': 0.609782869522277, 'w_xgb': 0.1257268888344056, 'w_lgbm': 0.10282314833705018, 'w_mlp': 0.6409335052733912}.\n"
     ]
    },
    {
     "name": "stdout",
     "output_type": "stream",
     "text": [
      "[w_lr, w_lda, w_sv, w_xgb, w_lgbm,w_cb ] =  [0.103 0.    0.551 0.125 0.071 0.    0.68 ]\n",
      "AUC all:  0.7902225979149056\n",
      "\n"
     ]
    },
    {
     "name": "stderr",
     "output_type": "stream",
     "text": [
      "[I 2019-08-24 12:23:36,374] Finished trial#1142 resulted in value: -0.7902225979149056. Current best value is -0.7944491406029868 with parameters: {'w_lr': 0.018735636670162738, 'w_sv': 0.609782869522277, 'w_xgb': 0.1257268888344056, 'w_lgbm': 0.10282314833705018, 'w_mlp': 0.6409335052733912}.\n"
     ]
    },
    {
     "name": "stdout",
     "output_type": "stream",
     "text": [
      "[w_lr, w_lda, w_sv, w_xgb, w_lgbm,w_cb ] =  [0.014 0.    0.424 0.148 0.125 0.    0.742]\n",
      "AUC all:  0.7933220625528317\n",
      "\n"
     ]
    },
    {
     "name": "stderr",
     "output_type": "stream",
     "text": [
      "[I 2019-08-24 12:23:37,910] Finished trial#1143 resulted in value: -0.7933220625528317. Current best value is -0.7944491406029868 with parameters: {'w_lr': 0.018735636670162738, 'w_sv': 0.609782869522277, 'w_xgb': 0.1257268888344056, 'w_lgbm': 0.10282314833705018, 'w_mlp': 0.6409335052733912}.\n"
     ]
    },
    {
     "name": "stdout",
     "output_type": "stream",
     "text": [
      "[w_lr, w_lda, w_sv, w_xgb, w_lgbm,w_cb ] =  [0.07  0.    0.703 0.116 0.103 0.    0.623]\n",
      "AUC all:  0.7933220625528318\n",
      "\n"
     ]
    },
    {
     "name": "stderr",
     "output_type": "stream",
     "text": [
      "[I 2019-08-24 12:23:39,466] Finished trial#1144 resulted in value: -0.7933220625528318. Current best value is -0.7944491406029868 with parameters: {'w_lr': 0.018735636670162738, 'w_sv': 0.609782869522277, 'w_xgb': 0.1257268888344056, 'w_lgbm': 0.10282314833705018, 'w_mlp': 0.6409335052733912}.\n"
     ]
    },
    {
     "name": "stdout",
     "output_type": "stream",
     "text": [
      "[w_lr, w_lda, w_sv, w_xgb, w_lgbm,w_cb ] =  [0.077 0.    0.492 0.076 0.088 0.    0.652]\n",
      "AUC all:  0.7927585235277543\n",
      "\n"
     ]
    },
    {
     "name": "stderr",
     "output_type": "stream",
     "text": [
      "[I 2019-08-24 12:23:40,987] Finished trial#1145 resulted in value: -0.7927585235277543. Current best value is -0.7944491406029868 with parameters: {'w_lr': 0.018735636670162738, 'w_sv': 0.609782869522277, 'w_xgb': 0.1257268888344056, 'w_lgbm': 0.10282314833705018, 'w_mlp': 0.6409335052733912}.\n"
     ]
    },
    {
     "name": "stdout",
     "output_type": "stream",
     "text": [
      "[w_lr, w_lda, w_sv, w_xgb, w_lgbm,w_cb ] =  [0.135 0.    0.609 0.13  0.062 0.    0.687]\n",
      "AUC all:  0.7886728655959424\n",
      "\n"
     ]
    },
    {
     "name": "stderr",
     "output_type": "stream",
     "text": [
      "[I 2019-08-24 12:23:42,509] Finished trial#1146 resulted in value: -0.7886728655959424. Current best value is -0.7944491406029868 with parameters: {'w_lr': 0.018735636670162738, 'w_sv': 0.609782869522277, 'w_xgb': 0.1257268888344056, 'w_lgbm': 0.10282314833705018, 'w_mlp': 0.6409335052733912}.\n"
     ]
    },
    {
     "name": "stdout",
     "output_type": "stream",
     "text": [
      "[w_lr, w_lda, w_sv, w_xgb, w_lgbm,w_cb ] =  [0.056 0.    0.789 0.103 0.028 0.    0.63 ]\n",
      "AUC all:  0.7857142857142858\n",
      "\n"
     ]
    },
    {
     "name": "stderr",
     "output_type": "stream",
     "text": [
      "[I 2019-08-24 12:23:44,040] Finished trial#1147 resulted in value: -0.7857142857142858. Current best value is -0.7944491406029868 with parameters: {'w_lr': 0.018735636670162738, 'w_sv': 0.609782869522277, 'w_xgb': 0.1257268888344056, 'w_lgbm': 0.10282314833705018, 'w_mlp': 0.6409335052733912}.\n"
     ]
    },
    {
     "name": "stdout",
     "output_type": "stream",
     "text": [
      "[w_lr, w_lda, w_sv, w_xgb, w_lgbm,w_cb ] =  [0.002 0.    0.505 0.189 0.117 0.    0.778]\n",
      "AUC all:  0.7920540997464074\n",
      "\n"
     ]
    },
    {
     "name": "stderr",
     "output_type": "stream",
     "text": [
      "[I 2019-08-24 12:23:45,582] Finished trial#1148 resulted in value: -0.7920540997464074. Current best value is -0.7944491406029868 with parameters: {'w_lr': 0.018735636670162738, 'w_sv': 0.609782869522277, 'w_xgb': 0.1257268888344056, 'w_lgbm': 0.10282314833705018, 'w_mlp': 0.6409335052733912}.\n"
     ]
    },
    {
     "name": "stdout",
     "output_type": "stream",
     "text": [
      "[w_lr, w_lda, w_sv, w_xgb, w_lgbm,w_cb ] =  [0.038 0.    0.633 0.131 0.09  0.    0.435]\n",
      "AUC all:  0.791913214990138\n",
      "\n"
     ]
    },
    {
     "name": "stderr",
     "output_type": "stream",
     "text": [
      "[I 2019-08-24 12:23:47,114] Finished trial#1149 resulted in value: -0.791913214990138. Current best value is -0.7944491406029868 with parameters: {'w_lr': 0.018735636670162738, 'w_sv': 0.609782869522277, 'w_xgb': 0.1257268888344056, 'w_lgbm': 0.10282314833705018, 'w_mlp': 0.6409335052733912}.\n"
     ]
    },
    {
     "name": "stdout",
     "output_type": "stream",
     "text": [
      "[w_lr, w_lda, w_sv, w_xgb, w_lgbm,w_cb ] =  [0.017 0.    0.56  0.108 0.096 0.    0.675]\n",
      "AUC all:  0.7936038320653704\n",
      "\n"
     ]
    },
    {
     "name": "stderr",
     "output_type": "stream",
     "text": [
      "[I 2019-08-24 12:23:48,671] Finished trial#1150 resulted in value: -0.7936038320653704. Current best value is -0.7944491406029868 with parameters: {'w_lr': 0.018735636670162738, 'w_sv': 0.609782869522277, 'w_xgb': 0.1257268888344056, 'w_lgbm': 0.10282314833705018, 'w_mlp': 0.6409335052733912}.\n"
     ]
    },
    {
     "name": "stdout",
     "output_type": "stream",
     "text": [
      "[w_lr, w_lda, w_sv, w_xgb, w_lgbm,w_cb ] =  [0.118 0.    0.67  0.138 0.137 0.    0.822]\n",
      "AUC all:  0.7923358692589462\n",
      "\n"
     ]
    },
    {
     "name": "stderr",
     "output_type": "stream",
     "text": [
      "[I 2019-08-24 12:23:50,226] Finished trial#1151 resulted in value: -0.7923358692589462. Current best value is -0.7944491406029868 with parameters: {'w_lr': 0.018735636670162738, 'w_sv': 0.609782869522277, 'w_xgb': 0.1257268888344056, 'w_lgbm': 0.10282314833705018, 'w_mlp': 0.6409335052733912}.\n"
     ]
    },
    {
     "name": "stdout",
     "output_type": "stream",
     "text": [
      "[w_lr, w_lda, w_sv, w_xgb, w_lgbm,w_cb ] =  [0.097 0.    0.655 0.087 0.075 0.    0.663]\n",
      "AUC all:  0.7913496759650605\n",
      "\n"
     ]
    },
    {
     "name": "stderr",
     "output_type": "stream",
     "text": [
      "[I 2019-08-24 12:23:51,767] Finished trial#1152 resulted in value: -0.7913496759650605. Current best value is -0.7944491406029868 with parameters: {'w_lr': 0.018735636670162738, 'w_sv': 0.609782869522277, 'w_xgb': 0.1257268888344056, 'w_lgbm': 0.10282314833705018, 'w_mlp': 0.6409335052733912}.\n"
     ]
    },
    {
     "name": "stdout",
     "output_type": "stream",
     "text": [
      "[w_lr, w_lda, w_sv, w_xgb, w_lgbm,w_cb ] =  [0.069 0.    0.449 0.16  0.165 0.    0.759]\n",
      "AUC all:  0.7923358692589463\n",
      "\n"
     ]
    },
    {
     "name": "stderr",
     "output_type": "stream",
     "text": [
      "[I 2019-08-24 12:23:53,320] Finished trial#1153 resulted in value: -0.7923358692589463. Current best value is -0.7944491406029868 with parameters: {'w_lr': 0.018735636670162738, 'w_sv': 0.609782869522277, 'w_xgb': 0.1257268888344056, 'w_lgbm': 0.10282314833705018, 'w_mlp': 0.6409335052733912}.\n"
     ]
    },
    {
     "name": "stdout",
     "output_type": "stream",
     "text": [
      "[w_lr, w_lda, w_sv, w_xgb, w_lgbm,w_cb ] =  [0.649 0.    0.68  0.064 0.102 0.    0.614]\n",
      "AUC all:  0.7920540997464074\n",
      "\n"
     ]
    },
    {
     "name": "stderr",
     "output_type": "stream",
     "text": [
      "[I 2019-08-24 12:23:54,882] Finished trial#1154 resulted in value: -0.7920540997464074. Current best value is -0.7944491406029868 with parameters: {'w_lr': 0.018735636670162738, 'w_sv': 0.609782869522277, 'w_xgb': 0.1257268888344056, 'w_lgbm': 0.10282314833705018, 'w_mlp': 0.6409335052733912}.\n"
     ]
    },
    {
     "name": "stdout",
     "output_type": "stream",
     "text": [
      "[w_lr, w_lda, w_sv, w_xgb, w_lgbm,w_cb ] =  [0.78  0.    0.596 0.118 0.05  0.    0.702]\n",
      "AUC all:  0.7865595942519019\n",
      "\n"
     ]
    },
    {
     "name": "stderr",
     "output_type": "stream",
     "text": [
      "[I 2019-08-24 12:23:56,427] Finished trial#1155 resulted in value: -0.7865595942519019. Current best value is -0.7944491406029868 with parameters: {'w_lr': 0.018735636670162738, 'w_sv': 0.609782869522277, 'w_xgb': 0.1257268888344056, 'w_lgbm': 0.10282314833705018, 'w_mlp': 0.6409335052733912}.\n"
     ]
    },
    {
     "name": "stdout",
     "output_type": "stream",
     "text": [
      "[w_lr, w_lda, w_sv, w_xgb, w_lgbm,w_cb ] =  [0.001 0.    0.47  0.171 0.121 0.    0.724]\n",
      "AUC all:  0.7927585235277543\n",
      "\n"
     ]
    },
    {
     "name": "stderr",
     "output_type": "stream",
     "text": [
      "[I 2019-08-24 12:23:57,973] Finished trial#1156 resulted in value: -0.7927585235277543. Current best value is -0.7944491406029868 with parameters: {'w_lr': 0.018735636670162738, 'w_sv': 0.609782869522277, 'w_xgb': 0.1257268888344056, 'w_lgbm': 0.10282314833705018, 'w_mlp': 0.6409335052733912}.\n"
     ]
    },
    {
     "name": "stdout",
     "output_type": "stream",
     "text": [
      "[w_lr, w_lda, w_sv, w_xgb, w_lgbm,w_cb ] =  [0.    0.    0.416 0.246 0.148 0.    0.745]\n",
      "AUC all:  0.7910679064525219\n",
      "\n"
     ]
    },
    {
     "name": "stderr",
     "output_type": "stream",
     "text": [
      "[I 2019-08-24 12:23:59,536] Finished trial#1157 resulted in value: -0.7910679064525219. Current best value is -0.7944491406029868 with parameters: {'w_lr': 0.018735636670162738, 'w_sv': 0.609782869522277, 'w_xgb': 0.1257268888344056, 'w_lgbm': 0.10282314833705018, 'w_mlp': 0.6409335052733912}.\n"
     ]
    },
    {
     "name": "stdout",
     "output_type": "stream",
     "text": [
      "[w_lr, w_lda, w_sv, w_xgb, w_lgbm,w_cb ] =  [0.046 0.    0.085 0.208 0.149 0.    0.721]\n",
      "AUC all:  0.791913214990138\n",
      "\n"
     ]
    },
    {
     "name": "stderr",
     "output_type": "stream",
     "text": [
      "[I 2019-08-24 12:24:01,099] Finished trial#1158 resulted in value: -0.791913214990138. Current best value is -0.7944491406029868 with parameters: {'w_lr': 0.018735636670162738, 'w_sv': 0.609782869522277, 'w_xgb': 0.1257268888344056, 'w_lgbm': 0.10282314833705018, 'w_mlp': 0.6409335052733912}.\n"
     ]
    },
    {
     "name": "stdout",
     "output_type": "stream",
     "text": [
      "[w_lr, w_lda, w_sv, w_xgb, w_lgbm,w_cb ] =  [0.047 0.    0.623 0.099 0.08  0.    0.642]\n",
      "AUC all:  0.7921949845026769\n",
      "\n"
     ]
    },
    {
     "name": "stderr",
     "output_type": "stream",
     "text": [
      "[I 2019-08-24 12:24:02,680] Finished trial#1159 resulted in value: -0.7921949845026769. Current best value is -0.7944491406029868 with parameters: {'w_lr': 0.018735636670162738, 'w_sv': 0.609782869522277, 'w_xgb': 0.1257268888344056, 'w_lgbm': 0.10282314833705018, 'w_mlp': 0.6409335052733912}.\n"
     ]
    },
    {
     "name": "stdout",
     "output_type": "stream",
     "text": [
      "[w_lr, w_lda, w_sv, w_xgb, w_lgbm,w_cb ] =  [0.084 0.    0.477 0.139 0.112 0.    0.785]\n",
      "AUC all:  0.7928994082840237\n",
      "\n"
     ]
    },
    {
     "name": "stderr",
     "output_type": "stream",
     "text": [
      "[I 2019-08-24 12:24:04,226] Finished trial#1160 resulted in value: -0.7928994082840237. Current best value is -0.7944491406029868 with parameters: {'w_lr': 0.018735636670162738, 'w_sv': 0.609782869522277, 'w_xgb': 0.1257268888344056, 'w_lgbm': 0.10282314833705018, 'w_mlp': 0.6409335052733912}.\n"
     ]
    },
    {
     "name": "stdout",
     "output_type": "stream",
     "text": [
      "[w_lr, w_lda, w_sv, w_xgb, w_lgbm,w_cb ] =  [0.023 0.    0.379 0.159 0.133 0.    0.713]\n",
      "AUC all:  0.7930402930402931\n",
      "\n"
     ]
    },
    {
     "name": "stderr",
     "output_type": "stream",
     "text": [
      "[I 2019-08-24 12:24:05,768] Finished trial#1161 resulted in value: -0.7930402930402931. Current best value is -0.7944491406029868 with parameters: {'w_lr': 0.018735636670162738, 'w_sv': 0.609782869522277, 'w_xgb': 0.1257268888344056, 'w_lgbm': 0.10282314833705018, 'w_mlp': 0.6409335052733912}.\n"
     ]
    },
    {
     "name": "stdout",
     "output_type": "stream",
     "text": [
      "[w_lr, w_lda, w_sv, w_xgb, w_lgbm,w_cb ] =  [0.147 0.    0.432 0.133 0.107 0.    0.795]\n",
      "AUC all:  0.7920540997464074\n",
      "\n"
     ]
    },
    {
     "name": "stderr",
     "output_type": "stream",
     "text": [
      "[I 2019-08-24 12:24:07,320] Finished trial#1162 resulted in value: -0.7920540997464074. Current best value is -0.7944491406029868 with parameters: {'w_lr': 0.018735636670162738, 'w_sv': 0.609782869522277, 'w_xgb': 0.1257268888344056, 'w_lgbm': 0.10282314833705018, 'w_mlp': 0.6409335052733912}.\n"
     ]
    },
    {
     "name": "stdout",
     "output_type": "stream",
     "text": [
      "[w_lr, w_lda, w_sv, w_xgb, w_lgbm,w_cb ] =  [0.031 0.    0.647 0.116 0.065 0.    0.636]\n",
      "AUC all:  0.7899408284023669\n",
      "\n"
     ]
    },
    {
     "name": "stderr",
     "output_type": "stream",
     "text": [
      "[I 2019-08-24 12:24:08,880] Finished trial#1163 resulted in value: -0.7899408284023669. Current best value is -0.7944491406029868 with parameters: {'w_lr': 0.018735636670162738, 'w_sv': 0.609782869522277, 'w_xgb': 0.1257268888344056, 'w_lgbm': 0.10282314833705018, 'w_mlp': 0.6409335052733912}.\n"
     ]
    },
    {
     "name": "stdout",
     "output_type": "stream",
     "text": [
      "[w_lr, w_lda, w_sv, w_xgb, w_lgbm,w_cb ] =  [0.07  0.    0.409 0.147 0.121 0.    0.756]\n",
      "AUC all:  0.7943082558467174\n",
      "\n"
     ]
    },
    {
     "name": "stderr",
     "output_type": "stream",
     "text": [
      "[I 2019-08-24 12:24:10,457] Finished trial#1164 resulted in value: -0.7943082558467174. Current best value is -0.7944491406029868 with parameters: {'w_lr': 0.018735636670162738, 'w_sv': 0.609782869522277, 'w_xgb': 0.1257268888344056, 'w_lgbm': 0.10282314833705018, 'w_mlp': 0.6409335052733912}.\n"
     ]
    },
    {
     "name": "stdout",
     "output_type": "stream",
     "text": [
      "[w_lr, w_lda, w_sv, w_xgb, w_lgbm,w_cb ] =  [0.053 0.    0.37  0.182 0.164 0.    0.767]\n",
      "AUC all:  0.7931811777965624\n",
      "\n"
     ]
    },
    {
     "name": "stderr",
     "output_type": "stream",
     "text": [
      "[I 2019-08-24 12:24:12,015] Finished trial#1165 resulted in value: -0.7931811777965624. Current best value is -0.7944491406029868 with parameters: {'w_lr': 0.018735636670162738, 'w_sv': 0.609782869522277, 'w_xgb': 0.1257268888344056, 'w_lgbm': 0.10282314833705018, 'w_mlp': 0.6409335052733912}.\n"
     ]
    },
    {
     "name": "stdout",
     "output_type": "stream",
     "text": [
      "[w_lr, w_lda, w_sv, w_xgb, w_lgbm,w_cb ] =  [0.062 0.    0.331 0.152 0.097 0.    0.741]\n",
      "AUC all:  0.7912087912087912\n",
      "\n"
     ]
    },
    {
     "name": "stderr",
     "output_type": "stream",
     "text": [
      "[I 2019-08-24 12:24:13,578] Finished trial#1166 resulted in value: -0.7912087912087912. Current best value is -0.7944491406029868 with parameters: {'w_lr': 0.018735636670162738, 'w_sv': 0.609782869522277, 'w_xgb': 0.1257268888344056, 'w_lgbm': 0.10282314833705018, 'w_mlp': 0.6409335052733912}.\n"
     ]
    },
    {
     "name": "stdout",
     "output_type": "stream",
     "text": [
      "[w_lr, w_lda, w_sv, w_xgb, w_lgbm,w_cb ] =  [0.041 0.    0.393 0.09  0.088 0.    0.661]\n",
      "AUC all:  0.7934629473091012\n",
      "\n"
     ]
    },
    {
     "name": "stderr",
     "output_type": "stream",
     "text": [
      "[I 2019-08-24 12:24:15,136] Finished trial#1167 resulted in value: -0.7934629473091012. Current best value is -0.7944491406029868 with parameters: {'w_lr': 0.018735636670162738, 'w_sv': 0.609782869522277, 'w_xgb': 0.1257268888344056, 'w_lgbm': 0.10282314833705018, 'w_mlp': 0.6409335052733912}.\n"
     ]
    },
    {
     "name": "stdout",
     "output_type": "stream",
     "text": [
      "[w_lr, w_lda, w_sv, w_xgb, w_lgbm,w_cb ] =  [0.    0.    0.398 0.197 0.143 0.    0.698]\n",
      "AUC all:  0.7921949845026768\n",
      "\n"
     ]
    },
    {
     "name": "stderr",
     "output_type": "stream",
     "text": [
      "[I 2019-08-24 12:24:16,704] Finished trial#1168 resulted in value: -0.7921949845026768. Current best value is -0.7944491406029868 with parameters: {'w_lr': 0.018735636670162738, 'w_sv': 0.609782869522277, 'w_xgb': 0.1257268888344056, 'w_lgbm': 0.10282314833705018, 'w_mlp': 0.6409335052733912}.\n"
     ]
    },
    {
     "name": "stdout",
     "output_type": "stream",
     "text": [
      "[w_lr, w_lda, w_sv, w_xgb, w_lgbm,w_cb ] =  [0.107 0.    0.414 0.128 0.951 0.    0.682]\n",
      "AUC all:  0.7703578472809243\n",
      "\n"
     ]
    },
    {
     "name": "stderr",
     "output_type": "stream",
     "text": [
      "[I 2019-08-24 12:24:18,303] Finished trial#1169 resulted in value: -0.7703578472809243. Current best value is -0.7944491406029868 with parameters: {'w_lr': 0.018735636670162738, 'w_sv': 0.609782869522277, 'w_xgb': 0.1257268888344056, 'w_lgbm': 0.10282314833705018, 'w_mlp': 0.6409335052733912}.\n"
     ]
    },
    {
     "name": "stdout",
     "output_type": "stream",
     "text": [
      "[w_lr, w_lda, w_sv, w_xgb, w_lgbm,w_cb ] =  [0.065 0.    0.386 0.11  0.074 0.    0.641]\n",
      "AUC all:  0.7905043674274443\n",
      "\n"
     ]
    },
    {
     "name": "stderr",
     "output_type": "stream",
     "text": [
      "[I 2019-08-24 12:24:19,866] Finished trial#1170 resulted in value: -0.7905043674274443. Current best value is -0.7944491406029868 with parameters: {'w_lr': 0.018735636670162738, 'w_sv': 0.609782869522277, 'w_xgb': 0.1257268888344056, 'w_lgbm': 0.10282314833705018, 'w_mlp': 0.6409335052733912}.\n"
     ]
    },
    {
     "name": "stdout",
     "output_type": "stream",
     "text": [
      "[w_lr, w_lda, w_sv, w_xgb, w_lgbm,w_cb ] =  [0.037 0.    0.407 0.167 0.128 0.    0.777]\n",
      "AUC all:  0.7933220625528319\n",
      "\n"
     ]
    },
    {
     "name": "stderr",
     "output_type": "stream",
     "text": [
      "[I 2019-08-24 12:24:21,448] Finished trial#1171 resulted in value: -0.7933220625528319. Current best value is -0.7944491406029868 with parameters: {'w_lr': 0.018735636670162738, 'w_sv': 0.609782869522277, 'w_xgb': 0.1257268888344056, 'w_lgbm': 0.10282314833705018, 'w_mlp': 0.6409335052733912}.\n"
     ]
    },
    {
     "name": "stdout",
     "output_type": "stream",
     "text": [
      "[w_lr, w_lda, w_sv, w_xgb, w_lgbm,w_cb ] =  [0.088 0.    0.517 0.175 0.167 0.    0.408]\n",
      "AUC all:  0.7913496759650606\n",
      "\n"
     ]
    },
    {
     "name": "stderr",
     "output_type": "stream",
     "text": [
      "[I 2019-08-24 12:24:23,024] Finished trial#1172 resulted in value: -0.7913496759650606. Current best value is -0.7944491406029868 with parameters: {'w_lr': 0.018735636670162738, 'w_sv': 0.609782869522277, 'w_xgb': 0.1257268888344056, 'w_lgbm': 0.10282314833705018, 'w_mlp': 0.6409335052733912}.\n"
     ]
    },
    {
     "name": "stdout",
     "output_type": "stream",
     "text": [
      "[w_lr, w_lda, w_sv, w_xgb, w_lgbm,w_cb ] =  [0.    0.    0.426 0.195 0.174 0.    0.761]\n",
      "AUC all:  0.7923358692589462\n",
      "\n"
     ]
    },
    {
     "name": "stderr",
     "output_type": "stream",
     "text": [
      "[I 2019-08-24 12:24:24,610] Finished trial#1173 resulted in value: -0.7923358692589462. Current best value is -0.7944491406029868 with parameters: {'w_lr': 0.018735636670162738, 'w_sv': 0.609782869522277, 'w_xgb': 0.1257268888344056, 'w_lgbm': 0.10282314833705018, 'w_mlp': 0.6409335052733912}.\n"
     ]
    },
    {
     "name": "stdout",
     "output_type": "stream",
     "text": [
      "[w_lr, w_lda, w_sv, w_xgb, w_lgbm,w_cb ] =  [0.129 0.    0.405 0.263 0.147 0.    0.804]\n",
      "AUC all:  0.7899408284023668\n",
      "\n"
     ]
    },
    {
     "name": "stderr",
     "output_type": "stream",
     "text": [
      "[I 2019-08-24 12:24:26,184] Finished trial#1174 resulted in value: -0.7899408284023668. Current best value is -0.7944491406029868 with parameters: {'w_lr': 0.018735636670162738, 'w_sv': 0.609782869522277, 'w_xgb': 0.1257268888344056, 'w_lgbm': 0.10282314833705018, 'w_mlp': 0.6409335052733912}.\n"
     ]
    },
    {
     "name": "stdout",
     "output_type": "stream",
     "text": [
      "[w_lr, w_lda, w_sv, w_xgb, w_lgbm,w_cb ] =  [0.058 0.    0.361 0.142 0.048 0.    0.786]\n",
      "AUC all:  0.7861369399830939\n",
      "\n"
     ]
    },
    {
     "name": "stderr",
     "output_type": "stream",
     "text": [
      "[I 2019-08-24 12:24:27,768] Finished trial#1175 resulted in value: -0.7861369399830939. Current best value is -0.7944491406029868 with parameters: {'w_lr': 0.018735636670162738, 'w_sv': 0.609782869522277, 'w_xgb': 0.1257268888344056, 'w_lgbm': 0.10282314833705018, 'w_mlp': 0.6409335052733912}.\n"
     ]
    },
    {
     "name": "stdout",
     "output_type": "stream",
     "text": [
      "[w_lr, w_lda, w_sv, w_xgb, w_lgbm,w_cb ] =  [0.098 0.    0.696 0.153 0.113 0.    0.737]\n",
      "AUC all:  0.7937447168216399\n",
      "\n"
     ]
    },
    {
     "name": "stderr",
     "output_type": "stream",
     "text": [
      "[I 2019-08-24 12:24:29,333] Finished trial#1176 resulted in value: -0.7937447168216399. Current best value is -0.7944491406029868 with parameters: {'w_lr': 0.018735636670162738, 'w_sv': 0.609782869522277, 'w_xgb': 0.1257268888344056, 'w_lgbm': 0.10282314833705018, 'w_mlp': 0.6409335052733912}.\n"
     ]
    },
    {
     "name": "stdout",
     "output_type": "stream",
     "text": [
      "[w_lr, w_lda, w_sv, w_xgb, w_lgbm,w_cb ] =  [0.027 0.    0.381 0.072 0.09  0.    0.617]\n",
      "AUC all:  0.7931811777965623\n",
      "\n"
     ]
    },
    {
     "name": "stderr",
     "output_type": "stream",
     "text": [
      "[I 2019-08-24 12:24:30,921] Finished trial#1177 resulted in value: -0.7931811777965623. Current best value is -0.7944491406029868 with parameters: {'w_lr': 0.018735636670162738, 'w_sv': 0.609782869522277, 'w_xgb': 0.1257268888344056, 'w_lgbm': 0.10282314833705018, 'w_mlp': 0.6409335052733912}.\n"
     ]
    },
    {
     "name": "stdout",
     "output_type": "stream",
     "text": [
      "[w_lr, w_lda, w_sv, w_xgb, w_lgbm,w_cb ] =  [0.082 0.    0.436 0.171 0.129 0.    0.762]\n",
      "AUC all:  0.7926176387714848\n",
      "\n"
     ]
    },
    {
     "name": "stderr",
     "output_type": "stream",
     "text": [
      "[I 2019-08-24 12:24:32,501] Finished trial#1178 resulted in value: -0.7926176387714848. Current best value is -0.7944491406029868 with parameters: {'w_lr': 0.018735636670162738, 'w_sv': 0.609782869522277, 'w_xgb': 0.1257268888344056, 'w_lgbm': 0.10282314833705018, 'w_mlp': 0.6409335052733912}.\n"
     ]
    },
    {
     "name": "stdout",
     "output_type": "stream",
     "text": [
      "[w_lr, w_lda, w_sv, w_xgb, w_lgbm,w_cb ] =  [0.059 0.    0.45  0.135 0.111 0.    0.763]\n",
      "AUC all:  0.793462947309101\n",
      "\n"
     ]
    },
    {
     "name": "stderr",
     "output_type": "stream",
     "text": [
      "[I 2019-08-24 12:24:34,085] Finished trial#1179 resulted in value: -0.793462947309101. Current best value is -0.7944491406029868 with parameters: {'w_lr': 0.018735636670162738, 'w_sv': 0.609782869522277, 'w_xgb': 0.1257268888344056, 'w_lgbm': 0.10282314833705018, 'w_mlp': 0.6409335052733912}.\n"
     ]
    },
    {
     "name": "stdout",
     "output_type": "stream",
     "text": [
      "[w_lr, w_lda, w_sv, w_xgb, w_lgbm,w_cb ] =  [0.082 0.    0.426 0.156 0.133 0.    0.75 ]\n",
      "AUC all:  0.7928994082840236\n",
      "\n"
     ]
    },
    {
     "name": "stderr",
     "output_type": "stream",
     "text": [
      "[I 2019-08-24 12:24:35,654] Finished trial#1180 resulted in value: -0.7928994082840236. Current best value is -0.7944491406029868 with parameters: {'w_lr': 0.018735636670162738, 'w_sv': 0.609782869522277, 'w_xgb': 0.1257268888344056, 'w_lgbm': 0.10282314833705018, 'w_mlp': 0.6409335052733912}.\n"
     ]
    },
    {
     "name": "stdout",
     "output_type": "stream",
     "text": [
      "[w_lr, w_lda, w_sv, w_xgb, w_lgbm,w_cb ] =  [0.112 0.    0.367 0.119 0.093 0.    0.721]\n",
      "AUC all:  0.7917723302338686\n",
      "\n"
     ]
    },
    {
     "name": "stderr",
     "output_type": "stream",
     "text": [
      "[I 2019-08-24 12:24:37,233] Finished trial#1181 resulted in value: -0.7917723302338686. Current best value is -0.7944491406029868 with parameters: {'w_lr': 0.018735636670162738, 'w_sv': 0.609782869522277, 'w_xgb': 0.1257268888344056, 'w_lgbm': 0.10282314833705018, 'w_mlp': 0.6409335052733912}.\n"
     ]
    },
    {
     "name": "stdout",
     "output_type": "stream",
     "text": [
      "[w_lr, w_lda, w_sv, w_xgb, w_lgbm,w_cb ] =  [0.098 0.    0.398 0.147 0.22  0.    0.746]\n",
      "AUC all:  0.7906452521837137\n",
      "\n"
     ]
    },
    {
     "name": "stderr",
     "output_type": "stream",
     "text": [
      "[I 2019-08-24 12:24:38,811] Finished trial#1182 resulted in value: -0.7906452521837137. Current best value is -0.7944491406029868 with parameters: {'w_lr': 0.018735636670162738, 'w_sv': 0.609782869522277, 'w_xgb': 0.1257268888344056, 'w_lgbm': 0.10282314833705018, 'w_mlp': 0.6409335052733912}.\n"
     ]
    },
    {
     "name": "stdout",
     "output_type": "stream",
     "text": [
      "[w_lr, w_lda, w_sv, w_xgb, w_lgbm,w_cb ] =  [0.02  0.    0.355 0.132 0.116 0.    0.803]\n",
      "AUC all:  0.793462947309101\n",
      "\n"
     ]
    },
    {
     "name": "stderr",
     "output_type": "stream",
     "text": [
      "[I 2019-08-24 12:24:40,391] Finished trial#1183 resulted in value: -0.793462947309101. Current best value is -0.7944491406029868 with parameters: {'w_lr': 0.018735636670162738, 'w_sv': 0.609782869522277, 'w_xgb': 0.1257268888344056, 'w_lgbm': 0.10282314833705018, 'w_mlp': 0.6409335052733912}.\n"
     ]
    },
    {
     "name": "stdout",
     "output_type": "stream",
     "text": [
      "[w_lr, w_lda, w_sv, w_xgb, w_lgbm,w_cb ] =  [0.017 0.    0.534 0.105 0.103 0.    0.713]\n",
      "AUC all:  0.7933220625528318\n",
      "\n"
     ]
    },
    {
     "name": "stderr",
     "output_type": "stream",
     "text": [
      "[I 2019-08-24 12:24:41,990] Finished trial#1184 resulted in value: -0.7933220625528318. Current best value is -0.7944491406029868 with parameters: {'w_lr': 0.018735636670162738, 'w_sv': 0.609782869522277, 'w_xgb': 0.1257268888344056, 'w_lgbm': 0.10282314833705018, 'w_mlp': 0.6409335052733912}.\n"
     ]
    },
    {
     "name": "stdout",
     "output_type": "stream",
     "text": [
      "[w_lr, w_lda, w_sv, w_xgb, w_lgbm,w_cb ] =  [0.117 0.    0.454 0.139 0.126 0.    0.819]\n",
      "AUC all:  0.7931811777965623\n",
      "\n"
     ]
    },
    {
     "name": "stderr",
     "output_type": "stream",
     "text": [
      "[I 2019-08-24 12:24:43,590] Finished trial#1185 resulted in value: -0.7931811777965623. Current best value is -0.7944491406029868 with parameters: {'w_lr': 0.018735636670162738, 'w_sv': 0.609782869522277, 'w_xgb': 0.1257268888344056, 'w_lgbm': 0.10282314833705018, 'w_mlp': 0.6409335052733912}.\n"
     ]
    },
    {
     "name": "stdout",
     "output_type": "stream",
     "text": [
      "[w_lr, w_lda, w_sv, w_xgb, w_lgbm,w_cb ] =  [0.042 0.    0.576 0.086 0.029 0.    0.669]\n",
      "AUC all:  0.7854325162017469\n",
      "\n"
     ]
    },
    {
     "name": "stderr",
     "output_type": "stream",
     "text": [
      "[I 2019-08-24 12:24:45,203] Finished trial#1186 resulted in value: -0.7854325162017469. Current best value is -0.7944491406029868 with parameters: {'w_lr': 0.018735636670162738, 'w_sv': 0.609782869522277, 'w_xgb': 0.1257268888344056, 'w_lgbm': 0.10282314833705018, 'w_mlp': 0.6409335052733912}.\n"
     ]
    },
    {
     "name": "stdout",
     "output_type": "stream",
     "text": [
      "[w_lr, w_lda, w_sv, w_xgb, w_lgbm,w_cb ] =  [0.074 0.    0.421 0.212 0.16  0.    0.778]\n",
      "AUC all:  0.791913214990138\n",
      "\n"
     ]
    },
    {
     "name": "stderr",
     "output_type": "stream",
     "text": [
      "[I 2019-08-24 12:24:46,789] Finished trial#1187 resulted in value: -0.791913214990138. Current best value is -0.7944491406029868 with parameters: {'w_lr': 0.018735636670162738, 'w_sv': 0.609782869522277, 'w_xgb': 0.1257268888344056, 'w_lgbm': 0.10282314833705018, 'w_mlp': 0.6409335052733912}.\n"
     ]
    },
    {
     "name": "stdout",
     "output_type": "stream",
     "text": [
      "[w_lr, w_lda, w_sv, w_xgb, w_lgbm,w_cb ] =  [0.053 0.    0.545 0.116 0.071 0.    0.718]\n",
      "AUC all:  0.7895181741335587\n",
      "\n"
     ]
    },
    {
     "name": "stderr",
     "output_type": "stream",
     "text": [
      "[I 2019-08-24 12:24:48,374] Finished trial#1188 resulted in value: -0.7895181741335587. Current best value is -0.7944491406029868 with parameters: {'w_lr': 0.018735636670162738, 'w_sv': 0.609782869522277, 'w_xgb': 0.1257268888344056, 'w_lgbm': 0.10282314833705018, 'w_mlp': 0.6409335052733912}.\n"
     ]
    },
    {
     "name": "stdout",
     "output_type": "stream",
     "text": [
      "[w_lr, w_lda, w_sv, w_xgb, w_lgbm,w_cb ] =  [0.031 0.    0.414 0.184 0.15  0.    0.743]\n",
      "AUC all:  0.7923358692589462\n",
      "\n"
     ]
    },
    {
     "name": "stderr",
     "output_type": "stream",
     "text": [
      "[I 2019-08-24 12:24:49,973] Finished trial#1189 resulted in value: -0.7923358692589462. Current best value is -0.7944491406029868 with parameters: {'w_lr': 0.018735636670162738, 'w_sv': 0.609782869522277, 'w_xgb': 0.1257268888344056, 'w_lgbm': 0.10282314833705018, 'w_mlp': 0.6409335052733912}.\n"
     ]
    },
    {
     "name": "stdout",
     "output_type": "stream",
     "text": [
      "[w_lr, w_lda, w_sv, w_xgb, w_lgbm,w_cb ] =  [0.095 0.    0.466 0.054 0.116 0.    0.783]\n",
      "AUC all:  0.7923358692589462\n",
      "\n"
     ]
    },
    {
     "name": "stderr",
     "output_type": "stream",
     "text": [
      "[I 2019-08-24 12:24:51,565] Finished trial#1190 resulted in value: -0.7923358692589462. Current best value is -0.7944491406029868 with parameters: {'w_lr': 0.018735636670162738, 'w_sv': 0.609782869522277, 'w_xgb': 0.1257268888344056, 'w_lgbm': 0.10282314833705018, 'w_mlp': 0.6409335052733912}.\n"
     ]
    },
    {
     "name": "stdout",
     "output_type": "stream",
     "text": [
      "[w_lr, w_lda, w_sv, w_xgb, w_lgbm,w_cb ] =  [0.074 0.    0.392 0.178 0.25  0.    0.737]\n",
      "AUC all:  0.7897999436460975\n",
      "\n"
     ]
    },
    {
     "name": "stderr",
     "output_type": "stream",
     "text": [
      "[I 2019-08-24 12:24:53,171] Finished trial#1191 resulted in value: -0.7897999436460975. Current best value is -0.7944491406029868 with parameters: {'w_lr': 0.018735636670162738, 'w_sv': 0.609782869522277, 'w_xgb': 0.1257268888344056, 'w_lgbm': 0.10282314833705018, 'w_mlp': 0.6409335052733912}.\n"
     ]
    },
    {
     "name": "stdout",
     "output_type": "stream",
     "text": [
      "[w_lr, w_lda, w_sv, w_xgb, w_lgbm,w_cb ] =  [0.725 0.    0.673 0.098 0.088 0.    0.726]\n",
      "AUC all:  0.7906452521837137\n",
      "\n"
     ]
    },
    {
     "name": "stderr",
     "output_type": "stream",
     "text": [
      "[I 2019-08-24 12:24:54,774] Finished trial#1192 resulted in value: -0.7906452521837137. Current best value is -0.7944491406029868 with parameters: {'w_lr': 0.018735636670162738, 'w_sv': 0.609782869522277, 'w_xgb': 0.1257268888344056, 'w_lgbm': 0.10282314833705018, 'w_mlp': 0.6409335052733912}.\n"
     ]
    },
    {
     "name": "stdout",
     "output_type": "stream",
     "text": [
      "[w_lr, w_lda, w_sv, w_xgb, w_lgbm,w_cb ] =  [0.06  0.    0.606 0.121 0.056 0.    0.654]\n",
      "AUC all:  0.7882502113271344\n",
      "\n"
     ]
    },
    {
     "name": "stderr",
     "output_type": "stream",
     "text": [
      "[I 2019-08-24 12:24:56,369] Finished trial#1193 resulted in value: -0.7882502113271344. Current best value is -0.7944491406029868 with parameters: {'w_lr': 0.018735636670162738, 'w_sv': 0.609782869522277, 'w_xgb': 0.1257268888344056, 'w_lgbm': 0.10282314833705018, 'w_mlp': 0.6409335052733912}.\n"
     ]
    },
    {
     "name": "stdout",
     "output_type": "stream",
     "text": [
      "[w_lr, w_lda, w_sv, w_xgb, w_lgbm,w_cb ] =  [0.015 0.    0.442 0.162 0.2   0.    0.767]\n",
      "AUC all:  0.7921949845026769\n",
      "\n"
     ]
    },
    {
     "name": "stderr",
     "output_type": "stream",
     "text": [
      "[I 2019-08-24 12:24:57,962] Finished trial#1194 resulted in value: -0.7921949845026769. Current best value is -0.7944491406029868 with parameters: {'w_lr': 0.018735636670162738, 'w_sv': 0.609782869522277, 'w_xgb': 0.1257268888344056, 'w_lgbm': 0.10282314833705018, 'w_mlp': 0.6409335052733912}.\n"
     ]
    },
    {
     "name": "stdout",
     "output_type": "stream",
     "text": [
      "[w_lr, w_lda, w_sv, w_xgb, w_lgbm,w_cb ] =  [0.05  0.    0.436 0.127 0.597 0.    0.759]\n",
      "AUC all:  0.7768385460693153\n",
      "\n"
     ]
    },
    {
     "name": "stderr",
     "output_type": "stream",
     "text": [
      "[I 2019-08-24 12:24:59,562] Finished trial#1195 resulted in value: -0.7768385460693153. Current best value is -0.7944491406029868 with parameters: {'w_lr': 0.018735636670162738, 'w_sv': 0.609782869522277, 'w_xgb': 0.1257268888344056, 'w_lgbm': 0.10282314833705018, 'w_mlp': 0.6409335052733912}.\n"
     ]
    },
    {
     "name": "stdout",
     "output_type": "stream",
     "text": [
      "[w_lr, w_lda, w_sv, w_xgb, w_lgbm,w_cb ] =  [0.048 0.    0.65  0.083 0.664 0.    0.599]\n",
      "AUC all:  0.7724711186249648\n",
      "\n"
     ]
    },
    {
     "name": "stderr",
     "output_type": "stream",
     "text": [
      "[I 2019-08-24 12:25:01,149] Finished trial#1196 resulted in value: -0.7724711186249648. Current best value is -0.7944491406029868 with parameters: {'w_lr': 0.018735636670162738, 'w_sv': 0.609782869522277, 'w_xgb': 0.1257268888344056, 'w_lgbm': 0.10282314833705018, 'w_mlp': 0.6409335052733912}.\n"
     ]
    },
    {
     "name": "stdout",
     "output_type": "stream",
     "text": [
      "[w_lr, w_lda, w_sv, w_xgb, w_lgbm,w_cb ] =  [0.001 0.    0.618 0.099 0.078 0.    0.678]\n",
      "AUC all:  0.79149056072133\n",
      "\n"
     ]
    },
    {
     "name": "stderr",
     "output_type": "stream",
     "text": [
      "[I 2019-08-24 12:25:02,767] Finished trial#1197 resulted in value: -0.79149056072133. Current best value is -0.7944491406029868 with parameters: {'w_lr': 0.018735636670162738, 'w_sv': 0.609782869522277, 'w_xgb': 0.1257268888344056, 'w_lgbm': 0.10282314833705018, 'w_mlp': 0.6409335052733912}.\n"
     ]
    },
    {
     "name": "stdout",
     "output_type": "stream",
     "text": [
      "[w_lr, w_lda, w_sv, w_xgb, w_lgbm,w_cb ] =  [0.054 0.    0.48  0.154 0.1   0.    0.797]\n",
      "AUC all:  0.7906452521837137\n",
      "\n"
     ]
    },
    {
     "name": "stderr",
     "output_type": "stream",
     "text": [
      "[I 2019-08-24 12:25:04,394] Finished trial#1198 resulted in value: -0.7906452521837137. Current best value is -0.7944491406029868 with parameters: {'w_lr': 0.018735636670162738, 'w_sv': 0.609782869522277, 'w_xgb': 0.1257268888344056, 'w_lgbm': 0.10282314833705018, 'w_mlp': 0.6409335052733912}.\n"
     ]
    },
    {
     "name": "stdout",
     "output_type": "stream",
     "text": [
      "[w_lr, w_lda, w_sv, w_xgb, w_lgbm,w_cb ] =  [0.093 0.    0.59  0.113 0.064 0.    0.697]\n",
      "AUC all:  0.7900817131586363\n",
      "\n"
     ]
    },
    {
     "name": "stderr",
     "output_type": "stream",
     "text": [
      "[I 2019-08-24 12:25:06,009] Finished trial#1199 resulted in value: -0.7900817131586363. Current best value is -0.7944491406029868 with parameters: {'w_lr': 0.018735636670162738, 'w_sv': 0.609782869522277, 'w_xgb': 0.1257268888344056, 'w_lgbm': 0.10282314833705018, 'w_mlp': 0.6409335052733912}.\n"
     ]
    },
    {
     "name": "stdout",
     "output_type": "stream",
     "text": [
      "[w_lr, w_lda, w_sv, w_xgb, w_lgbm,w_cb ] =  [0.143 0.    0.566 0.128 0.081 0.    0.625]\n",
      "AUC all:  0.7907861369399831\n",
      "\n"
     ]
    },
    {
     "name": "stderr",
     "output_type": "stream",
     "text": [
      "[I 2019-08-24 12:25:07,621] Finished trial#1200 resulted in value: -0.7907861369399831. Current best value is -0.7944491406029868 with parameters: {'w_lr': 0.018735636670162738, 'w_sv': 0.609782869522277, 'w_xgb': 0.1257268888344056, 'w_lgbm': 0.10282314833705018, 'w_mlp': 0.6409335052733912}.\n"
     ]
    },
    {
     "name": "stdout",
     "output_type": "stream",
     "text": [
      "[w_lr, w_lda, w_sv, w_xgb, w_lgbm,w_cb ] =  [0.018 0.    0.711 0.146 0.135 0.    0.692]\n",
      "AUC all:  0.7927585235277542\n",
      "\n"
     ]
    },
    {
     "name": "stderr",
     "output_type": "stream",
     "text": [
      "[I 2019-08-24 12:25:09,237] Finished trial#1201 resulted in value: -0.7927585235277542. Current best value is -0.7944491406029868 with parameters: {'w_lr': 0.018735636670162738, 'w_sv': 0.609782869522277, 'w_xgb': 0.1257268888344056, 'w_lgbm': 0.10282314833705018, 'w_mlp': 0.6409335052733912}.\n"
     ]
    },
    {
     "name": "stdout",
     "output_type": "stream",
     "text": [
      "[w_lr, w_lda, w_sv, w_xgb, w_lgbm,w_cb ] =  [0.034 0.    0.641 0.103 0.103 0.    0.644]\n",
      "AUC all:  0.7924767540152156\n",
      "\n"
     ]
    },
    {
     "name": "stderr",
     "output_type": "stream",
     "text": [
      "[I 2019-08-24 12:25:10,858] Finished trial#1202 resulted in value: -0.7924767540152156. Current best value is -0.7944491406029868 with parameters: {'w_lr': 0.018735636670162738, 'w_sv': 0.609782869522277, 'w_xgb': 0.1257268888344056, 'w_lgbm': 0.10282314833705018, 'w_mlp': 0.6409335052733912}.\n"
     ]
    },
    {
     "name": "stdout",
     "output_type": "stream",
     "text": [
      "[w_lr, w_lda, w_sv, w_xgb, w_lgbm,w_cb ] =  [0.068 0.    0.41  0.193 0.167 0.    0.744]\n",
      "AUC all:  0.7928994082840236\n",
      "\n"
     ]
    },
    {
     "name": "stderr",
     "output_type": "stream",
     "text": [
      "[I 2019-08-24 12:25:12,468] Finished trial#1203 resulted in value: -0.7928994082840236. Current best value is -0.7944491406029868 with parameters: {'w_lr': 0.018735636670162738, 'w_sv': 0.609782869522277, 'w_xgb': 0.1257268888344056, 'w_lgbm': 0.10282314833705018, 'w_mlp': 0.6409335052733912}.\n"
     ]
    },
    {
     "name": "stdout",
     "output_type": "stream",
     "text": [
      "[w_lr, w_lda, w_sv, w_xgb, w_lgbm,w_cb ] =  [0.049 0.    0.508 0.145 0.117 0.    0.277]\n",
      "AUC all:  0.7910679064525218\n",
      "\n"
     ]
    },
    {
     "name": "stderr",
     "output_type": "stream",
     "text": [
      "[I 2019-08-24 12:25:14,100] Finished trial#1204 resulted in value: -0.7910679064525218. Current best value is -0.7944491406029868 with parameters: {'w_lr': 0.018735636670162738, 'w_sv': 0.609782869522277, 'w_xgb': 0.1257268888344056, 'w_lgbm': 0.10282314833705018, 'w_mlp': 0.6409335052733912}.\n"
     ]
    },
    {
     "name": "stdout",
     "output_type": "stream",
     "text": [
      "[w_lr, w_lda, w_sv, w_xgb, w_lgbm,w_cb ] =  [0.084 0.    0.456 0.167 0.138 0.    0.777]\n",
      "AUC all:  0.7927585235277542\n",
      "\n"
     ]
    },
    {
     "name": "stderr",
     "output_type": "stream",
     "text": [
      "[I 2019-08-24 12:25:15,713] Finished trial#1205 resulted in value: -0.7927585235277542. Current best value is -0.7944491406029868 with parameters: {'w_lr': 0.018735636670162738, 'w_sv': 0.609782869522277, 'w_xgb': 0.1257268888344056, 'w_lgbm': 0.10282314833705018, 'w_mlp': 0.6409335052733912}.\n"
     ]
    },
    {
     "name": "stdout",
     "output_type": "stream",
     "text": [
      "[w_lr, w_lda, w_sv, w_xgb, w_lgbm,w_cb ] =  [0.018 0.    0.555 0.125 0.875 0.    0.701]\n",
      "AUC all:  0.771484925331079\n",
      "\n"
     ]
    },
    {
     "name": "stderr",
     "output_type": "stream",
     "text": [
      "[I 2019-08-24 12:25:17,347] Finished trial#1206 resulted in value: -0.771484925331079. Current best value is -0.7944491406029868 with parameters: {'w_lr': 0.018735636670162738, 'w_sv': 0.609782869522277, 'w_xgb': 0.1257268888344056, 'w_lgbm': 0.10282314833705018, 'w_mlp': 0.6409335052733912}.\n"
     ]
    },
    {
     "name": "stdout",
     "output_type": "stream",
     "text": [
      "[w_lr, w_lda, w_sv, w_xgb, w_lgbm,w_cb ] =  [0.396 0.    0.823 0.137 0.102 0.    0.714]\n",
      "AUC all:  0.7921949845026768\n",
      "\n"
     ]
    },
    {
     "name": "stderr",
     "output_type": "stream",
     "text": [
      "[I 2019-08-24 12:25:18,986] Finished trial#1207 resulted in value: -0.7921949845026768. Current best value is -0.7944491406029868 with parameters: {'w_lr': 0.018735636670162738, 'w_sv': 0.609782869522277, 'w_xgb': 0.1257268888344056, 'w_lgbm': 0.10282314833705018, 'w_mlp': 0.6409335052733912}.\n"
     ]
    },
    {
     "name": "stdout",
     "output_type": "stream",
     "text": [
      "[w_lr, w_lda, w_sv, w_xgb, w_lgbm,w_cb ] =  [0.074 0.    0.59  0.081 0.044 0.    0.664]\n",
      "AUC all:  0.7886728655959425\n",
      "\n"
     ]
    },
    {
     "name": "stderr",
     "output_type": "stream",
     "text": [
      "[I 2019-08-24 12:25:20,612] Finished trial#1208 resulted in value: -0.7886728655959425. Current best value is -0.7944491406029868 with parameters: {'w_lr': 0.018735636670162738, 'w_sv': 0.609782869522277, 'w_xgb': 0.1257268888344056, 'w_lgbm': 0.10282314833705018, 'w_mlp': 0.6409335052733912}.\n"
     ]
    },
    {
     "name": "stdout",
     "output_type": "stream",
     "text": [
      "[w_lr, w_lda, w_sv, w_xgb, w_lgbm,w_cb ] =  [0.109 0.    0.459 0.022 0.128 0.    0.778]\n",
      "AUC all:  0.7907861369399831\n",
      "\n"
     ]
    },
    {
     "name": "stderr",
     "output_type": "stream",
     "text": [
      "[I 2019-08-24 12:25:22,243] Finished trial#1209 resulted in value: -0.7907861369399831. Current best value is -0.7944491406029868 with parameters: {'w_lr': 0.018735636670162738, 'w_sv': 0.609782869522277, 'w_xgb': 0.1257268888344056, 'w_lgbm': 0.10282314833705018, 'w_mlp': 0.6409335052733912}.\n"
     ]
    },
    {
     "name": "stdout",
     "output_type": "stream",
     "text": [
      "[w_lr, w_lda, w_sv, w_xgb, w_lgbm,w_cb ] =  [0.119 0.    0.625 0.105 0.001 0.    0.618]\n",
      "AUC all:  0.7765567765567766\n",
      "\n"
     ]
    },
    {
     "name": "stderr",
     "output_type": "stream",
     "text": [
      "[I 2019-08-24 12:25:23,864] Finished trial#1210 resulted in value: -0.7765567765567766. Current best value is -0.7944491406029868 with parameters: {'w_lr': 0.018735636670162738, 'w_sv': 0.609782869522277, 'w_xgb': 0.1257268888344056, 'w_lgbm': 0.10282314833705018, 'w_mlp': 0.6409335052733912}.\n"
     ]
    },
    {
     "name": "stdout",
     "output_type": "stream",
     "text": [
      "[w_lr, w_lda, w_sv, w_xgb, w_lgbm,w_cb ] =  [0.037 0.    0.484 0.158 0.138 0.    0.796]\n",
      "AUC all:  0.7931811777965623\n",
      "\n"
     ]
    },
    {
     "name": "stderr",
     "output_type": "stream",
     "text": [
      "[I 2019-08-24 12:25:25,491] Finished trial#1211 resulted in value: -0.7931811777965623. Current best value is -0.7944491406029868 with parameters: {'w_lr': 0.018735636670162738, 'w_sv': 0.609782869522277, 'w_xgb': 0.1257268888344056, 'w_lgbm': 0.10282314833705018, 'w_mlp': 0.6409335052733912}.\n"
     ]
    },
    {
     "name": "stdout",
     "output_type": "stream",
     "text": [
      "[w_lr, w_lda, w_sv, w_xgb, w_lgbm,w_cb ] =  [0.066 0.    0.667 0.    0.082 0.    0.609]\n",
      "AUC all:  0.790786136939983\n",
      "\n"
     ]
    },
    {
     "name": "stderr",
     "output_type": "stream",
     "text": [
      "[I 2019-08-24 12:25:27,098] Finished trial#1212 resulted in value: -0.790786136939983. Current best value is -0.7944491406029868 with parameters: {'w_lr': 0.018735636670162738, 'w_sv': 0.609782869522277, 'w_xgb': 0.1257268888344056, 'w_lgbm': 0.10282314833705018, 'w_mlp': 0.6409335052733912}.\n"
     ]
    },
    {
     "name": "stdout",
     "output_type": "stream",
     "text": [
      "[w_lr, w_lda, w_sv, w_xgb, w_lgbm,w_cb ] =  [0.029 0.    0.636 0.468 0.061 0.    0.645]\n",
      "AUC all:  0.7783882783882784\n",
      "\n"
     ]
    },
    {
     "name": "stderr",
     "output_type": "stream",
     "text": [
      "[I 2019-08-24 12:25:28,734] Finished trial#1213 resulted in value: -0.7783882783882784. Current best value is -0.7944491406029868 with parameters: {'w_lr': 0.018735636670162738, 'w_sv': 0.609782869522277, 'w_xgb': 0.1257268888344056, 'w_lgbm': 0.10282314833705018, 'w_mlp': 0.6409335052733912}.\n"
     ]
    },
    {
     "name": "stdout",
     "output_type": "stream",
     "text": [
      "[w_lr, w_lda, w_sv, w_xgb, w_lgbm,w_cb ] =  [0.095 0.    0.385 0.066 0.11  0.    0.729]\n",
      "AUC all:  0.7927585235277543\n",
      "\n"
     ]
    },
    {
     "name": "stderr",
     "output_type": "stream",
     "text": [
      "[I 2019-08-24 12:25:30,349] Finished trial#1214 resulted in value: -0.7927585235277543. Current best value is -0.7944491406029868 with parameters: {'w_lr': 0.018735636670162738, 'w_sv': 0.609782869522277, 'w_xgb': 0.1257268888344056, 'w_lgbm': 0.10282314833705018, 'w_mlp': 0.6409335052733912}.\n"
     ]
    },
    {
     "name": "stdout",
     "output_type": "stream",
     "text": [
      "[w_lr, w_lda, w_sv, w_xgb, w_lgbm,w_cb ] =  [0.061 0.    0.501 0.178 0.156 0.    0.747]\n",
      "AUC all:  0.792617638771485\n",
      "\n"
     ]
    },
    {
     "name": "stderr",
     "output_type": "stream",
     "text": [
      "[I 2019-08-24 12:25:31,958] Finished trial#1215 resulted in value: -0.792617638771485. Current best value is -0.7944491406029868 with parameters: {'w_lr': 0.018735636670162738, 'w_sv': 0.609782869522277, 'w_xgb': 0.1257268888344056, 'w_lgbm': 0.10282314833705018, 'w_mlp': 0.6409335052733912}.\n"
     ]
    },
    {
     "name": "stdout",
     "output_type": "stream",
     "text": [
      "[w_lr, w_lda, w_sv, w_xgb, w_lgbm,w_cb ] =  [0.164 0.    0.687 0.118 0.085 0.    0.629]\n",
      "AUC all:  0.7912087912087912\n",
      "\n"
     ]
    },
    {
     "name": "stderr",
     "output_type": "stream",
     "text": [
      "[I 2019-08-24 12:25:33,582] Finished trial#1216 resulted in value: -0.7912087912087912. Current best value is -0.7944491406029868 with parameters: {'w_lr': 0.018735636670162738, 'w_sv': 0.609782869522277, 'w_xgb': 0.1257268888344056, 'w_lgbm': 0.10282314833705018, 'w_mlp': 0.6409335052733912}.\n"
     ]
    },
    {
     "name": "stdout",
     "output_type": "stream",
     "text": [
      "[w_lr, w_lda, w_sv, w_xgb, w_lgbm,w_cb ] =  [0.046 0.    0.604 0.094 0.094 0.    0.661]\n",
      "AUC all:  0.793462947309101\n",
      "\n"
     ]
    },
    {
     "name": "stderr",
     "output_type": "stream",
     "text": [
      "[I 2019-08-24 12:25:35,210] Finished trial#1217 resulted in value: -0.793462947309101. Current best value is -0.7944491406029868 with parameters: {'w_lr': 0.018735636670162738, 'w_sv': 0.609782869522277, 'w_xgb': 0.1257268888344056, 'w_lgbm': 0.10282314833705018, 'w_mlp': 0.6409335052733912}.\n"
     ]
    },
    {
     "name": "stdout",
     "output_type": "stream",
     "text": [
      "[w_lr, w_lda, w_sv, w_xgb, w_lgbm,w_cb ] =  [0.002 0.    0.581 0.155 0.117 0.    0.686]\n",
      "AUC all:  0.7927585235277543\n",
      "\n"
     ]
    },
    {
     "name": "stderr",
     "output_type": "stream",
     "text": [
      "[I 2019-08-24 12:25:36,826] Finished trial#1218 resulted in value: -0.7927585235277543. Current best value is -0.7944491406029868 with parameters: {'w_lr': 0.018735636670162738, 'w_sv': 0.609782869522277, 'w_xgb': 0.1257268888344056, 'w_lgbm': 0.10282314833705018, 'w_mlp': 0.6409335052733912}.\n"
     ]
    },
    {
     "name": "stdout",
     "output_type": "stream",
     "text": [
      "[w_lr, w_lda, w_sv, w_xgb, w_lgbm,w_cb ] =  [0.001 0.    0.769 0.57  0.123 0.    0.463]\n",
      "AUC all:  0.7837418991265146\n",
      "\n"
     ]
    },
    {
     "name": "stderr",
     "output_type": "stream",
     "text": [
      "[I 2019-08-24 12:25:38,454] Finished trial#1219 resulted in value: -0.7837418991265146. Current best value is -0.7944491406029868 with parameters: {'w_lr': 0.018735636670162738, 'w_sv': 0.609782869522277, 'w_xgb': 0.1257268888344056, 'w_lgbm': 0.10282314833705018, 'w_mlp': 0.6409335052733912}.\n"
     ]
    },
    {
     "name": "stdout",
     "output_type": "stream",
     "text": [
      "[w_lr, w_lda, w_sv, w_xgb, w_lgbm,w_cb ] =  [0.122 0.    0.56  0.048 0.074 0.    0.674]\n",
      "AUC all:  0.7917723302338686\n",
      "\n"
     ]
    },
    {
     "name": "stderr",
     "output_type": "stream",
     "text": [
      "[I 2019-08-24 12:25:40,091] Finished trial#1220 resulted in value: -0.7917723302338686. Current best value is -0.7944491406029868 with parameters: {'w_lr': 0.018735636670162738, 'w_sv': 0.609782869522277, 'w_xgb': 0.1257268888344056, 'w_lgbm': 0.10282314833705018, 'w_mlp': 0.6409335052733912}.\n"
     ]
    },
    {
     "name": "stdout",
     "output_type": "stream",
     "text": [
      "[w_lr, w_lda, w_sv, w_xgb, w_lgbm,w_cb ] =  [0.001 0.    0.647 0.125 0.035 0.    0.604]\n",
      "AUC all:  0.7852916314454776\n",
      "\n"
     ]
    },
    {
     "name": "stderr",
     "output_type": "stream",
     "text": [
      "[I 2019-08-24 12:25:41,714] Finished trial#1221 resulted in value: -0.7852916314454776. Current best value is -0.7944491406029868 with parameters: {'w_lr': 0.018735636670162738, 'w_sv': 0.609782869522277, 'w_xgb': 0.1257268888344056, 'w_lgbm': 0.10282314833705018, 'w_mlp': 0.6409335052733912}.\n"
     ]
    },
    {
     "name": "stdout",
     "output_type": "stream",
     "text": [
      "[w_lr, w_lda, w_sv, w_xgb, w_lgbm,w_cb ] =  [0.083 0.    0.734 0.229 0.145 0.    0.699]\n",
      "AUC all:  0.7909270216962525\n",
      "\n"
     ]
    },
    {
     "name": "stderr",
     "output_type": "stream",
     "text": [
      "[I 2019-08-24 12:25:43,344] Finished trial#1222 resulted in value: -0.7909270216962525. Current best value is -0.7944491406029868 with parameters: {'w_lr': 0.018735636670162738, 'w_sv': 0.609782869522277, 'w_xgb': 0.1257268888344056, 'w_lgbm': 0.10282314833705018, 'w_mlp': 0.6409335052733912}.\n"
     ]
    },
    {
     "name": "stdout",
     "output_type": "stream",
     "text": [
      "[w_lr, w_lda, w_sv, w_xgb, w_lgbm,w_cb ] =  [0.075 0.    0.417 0.175 0.183 0.    0.757]\n",
      "AUC all:  0.7913496759650607\n",
      "\n"
     ]
    },
    {
     "name": "stderr",
     "output_type": "stream",
     "text": [
      "[I 2019-08-24 12:25:44,966] Finished trial#1223 resulted in value: -0.7913496759650607. Current best value is -0.7944491406029868 with parameters: {'w_lr': 0.018735636670162738, 'w_sv': 0.609782869522277, 'w_xgb': 0.1257268888344056, 'w_lgbm': 0.10282314833705018, 'w_mlp': 0.6409335052733912}.\n"
     ]
    },
    {
     "name": "stdout",
     "output_type": "stream",
     "text": [
      "[w_lr, w_lda, w_sv, w_xgb, w_lgbm,w_cb ] =  [0.099 0.    0.434 0.147 0.122 0.    0.767]\n",
      "AUC all:  0.7938856015779092\n",
      "\n"
     ]
    },
    {
     "name": "stderr",
     "output_type": "stream",
     "text": [
      "[I 2019-08-24 12:25:46,595] Finished trial#1224 resulted in value: -0.7938856015779092. Current best value is -0.7944491406029868 with parameters: {'w_lr': 0.018735636670162738, 'w_sv': 0.609782869522277, 'w_xgb': 0.1257268888344056, 'w_lgbm': 0.10282314833705018, 'w_mlp': 0.6409335052733912}.\n"
     ]
    },
    {
     "name": "stdout",
     "output_type": "stream",
     "text": [
      "[w_lr, w_lda, w_sv, w_xgb, w_lgbm,w_cb ] =  [0.136 0.    0.531 0.109 0.096 0.    0.634]\n",
      "AUC all:  0.7931811777965624\n",
      "\n"
     ]
    },
    {
     "name": "stderr",
     "output_type": "stream",
     "text": [
      "[I 2019-08-24 12:25:48,228] Finished trial#1225 resulted in value: -0.7931811777965624. Current best value is -0.7944491406029868 with parameters: {'w_lr': 0.018735636670162738, 'w_sv': 0.609782869522277, 'w_xgb': 0.1257268888344056, 'w_lgbm': 0.10282314833705018, 'w_mlp': 0.6409335052733912}.\n"
     ]
    },
    {
     "name": "stdout",
     "output_type": "stream",
     "text": [
      "[w_lr, w_lda, w_sv, w_xgb, w_lgbm,w_cb ] =  [0.048 0.    0.613 0.072 0.063 0.    0.651]\n",
      "AUC all:  0.7909270216962524\n",
      "\n"
     ]
    },
    {
     "name": "stderr",
     "output_type": "stream",
     "text": [
      "[I 2019-08-24 12:25:49,880] Finished trial#1226 resulted in value: -0.7909270216962524. Current best value is -0.7944491406029868 with parameters: {'w_lr': 0.018735636670162738, 'w_sv': 0.609782869522277, 'w_xgb': 0.1257268888344056, 'w_lgbm': 0.10282314833705018, 'w_mlp': 0.6409335052733912}.\n"
     ]
    },
    {
     "name": "stdout",
     "output_type": "stream",
     "text": [
      "[w_lr, w_lda, w_sv, w_xgb, w_lgbm,w_cb ] =  [0.022 0.    0.399 0.139 0.134 0.    0.817]\n",
      "AUC all:  0.792617638771485\n",
      "\n"
     ]
    },
    {
     "name": "stderr",
     "output_type": "stream",
     "text": [
      "[I 2019-08-24 12:25:51,513] Finished trial#1227 resulted in value: -0.792617638771485. Current best value is -0.7944491406029868 with parameters: {'w_lr': 0.018735636670162738, 'w_sv': 0.609782869522277, 'w_xgb': 0.1257268888344056, 'w_lgbm': 0.10282314833705018, 'w_mlp': 0.6409335052733912}.\n"
     ]
    },
    {
     "name": "stdout",
     "output_type": "stream",
     "text": [
      "[w_lr, w_lda, w_sv, w_xgb, w_lgbm,w_cb ] =  [0.139 0.    0.426 0.166 0.335 0.    0.739]\n",
      "AUC all:  0.7890955198647507\n",
      "\n"
     ]
    },
    {
     "name": "stderr",
     "output_type": "stream",
     "text": [
      "[I 2019-08-24 12:25:53,149] Finished trial#1228 resulted in value: -0.7890955198647507. Current best value is -0.7944491406029868 with parameters: {'w_lr': 0.018735636670162738, 'w_sv': 0.609782869522277, 'w_xgb': 0.1257268888344056, 'w_lgbm': 0.10282314833705018, 'w_mlp': 0.6409335052733912}.\n"
     ]
    },
    {
     "name": "stdout",
     "output_type": "stream",
     "text": [
      "[w_lr, w_lda, w_sv, w_xgb, w_lgbm,w_cb ] =  [0.115 0.    0.434 0.148 0.371 0.    0.603]\n",
      "AUC all:  0.7838827838827838\n",
      "\n"
     ]
    },
    {
     "name": "stderr",
     "output_type": "stream",
     "text": [
      "[I 2019-08-24 12:25:54,814] Finished trial#1229 resulted in value: -0.7838827838827838. Current best value is -0.7944491406029868 with parameters: {'w_lr': 0.018735636670162738, 'w_sv': 0.609782869522277, 'w_xgb': 0.1257268888344056, 'w_lgbm': 0.10282314833705018, 'w_mlp': 0.6409335052733912}.\n"
     ]
    },
    {
     "name": "stdout",
     "output_type": "stream",
     "text": [
      "[w_lr, w_lda, w_sv, w_xgb, w_lgbm,w_cb ] =  [0.111 0.    0.661 0.125 0.099 0.    0.64 ]\n",
      "AUC all:  0.7934629473091012\n",
      "\n"
     ]
    },
    {
     "name": "stderr",
     "output_type": "stream",
     "text": [
      "[I 2019-08-24 12:25:56,490] Finished trial#1230 resulted in value: -0.7934629473091012. Current best value is -0.7944491406029868 with parameters: {'w_lr': 0.018735636670162738, 'w_sv': 0.609782869522277, 'w_xgb': 0.1257268888344056, 'w_lgbm': 0.10282314833705018, 'w_mlp': 0.6409335052733912}.\n"
     ]
    },
    {
     "name": "stdout",
     "output_type": "stream",
     "text": [
      "[w_lr, w_lda, w_sv, w_xgb, w_lgbm,w_cb ] =  [0.085 0.    0.629 0.521 0.079 0.    0.626]\n",
      "AUC all:  0.7799380107072414\n",
      "\n"
     ]
    },
    {
     "name": "stderr",
     "output_type": "stream",
     "text": [
      "[I 2019-08-24 12:25:58,147] Finished trial#1231 resulted in value: -0.7799380107072414. Current best value is -0.7944491406029868 with parameters: {'w_lr': 0.018735636670162738, 'w_sv': 0.609782869522277, 'w_xgb': 0.1257268888344056, 'w_lgbm': 0.10282314833705018, 'w_mlp': 0.6409335052733912}.\n"
     ]
    },
    {
     "name": "stdout",
     "output_type": "stream",
     "text": [
      "[w_lr, w_lda, w_sv, w_xgb, w_lgbm,w_cb ] =  [0.427 0.    0.35  0.141 0.119 0.    0.843]\n",
      "AUC all:  0.7923358692589462\n",
      "\n"
     ]
    },
    {
     "name": "stderr",
     "output_type": "stream",
     "text": [
      "[I 2019-08-24 12:25:59,816] Finished trial#1232 resulted in value: -0.7923358692589462. Current best value is -0.7944491406029868 with parameters: {'w_lr': 0.018735636670162738, 'w_sv': 0.609782869522277, 'w_xgb': 0.1257268888344056, 'w_lgbm': 0.10282314833705018, 'w_mlp': 0.6409335052733912}.\n"
     ]
    },
    {
     "name": "stdout",
     "output_type": "stream",
     "text": [
      "[w_lr, w_lda, w_sv, w_xgb, w_lgbm,w_cb ] =  [0.158 0.    0.381 0.201 0.152 0.    0.686]\n",
      "AUC all:  0.7912087912087912\n",
      "\n"
     ]
    },
    {
     "name": "stderr",
     "output_type": "stream",
     "text": [
      "[I 2019-08-24 12:26:01,470] Finished trial#1233 resulted in value: -0.7912087912087912. Current best value is -0.7944491406029868 with parameters: {'w_lr': 0.018735636670162738, 'w_sv': 0.609782869522277, 'w_xgb': 0.1257268888344056, 'w_lgbm': 0.10282314833705018, 'w_mlp': 0.6409335052733912}.\n"
     ]
    },
    {
     "name": "stdout",
     "output_type": "stream",
     "text": [
      "[w_lr, w_lda, w_sv, w_xgb, w_lgbm,w_cb ] =  [0.029 0.    0.621 0.091 0.101 0.    0.585]\n",
      "AUC all:  0.7931811777965624\n",
      "\n"
     ]
    },
    {
     "name": "stderr",
     "output_type": "stream",
     "text": [
      "[I 2019-08-24 12:26:03,114] Finished trial#1234 resulted in value: -0.7931811777965624. Current best value is -0.7944491406029868 with parameters: {'w_lr': 0.018735636670162738, 'w_sv': 0.609782869522277, 'w_xgb': 0.1257268888344056, 'w_lgbm': 0.10282314833705018, 'w_mlp': 0.6409335052733912}.\n"
     ]
    },
    {
     "name": "stdout",
     "output_type": "stream",
     "text": [
      "[w_lr, w_lda, w_sv, w_xgb, w_lgbm,w_cb ] =  [0.127 0.    0.466 0.158 0.11  0.    0.828]\n",
      "AUC all:  0.7913496759650606\n",
      "\n"
     ]
    },
    {
     "name": "stderr",
     "output_type": "stream",
     "text": [
      "[I 2019-08-24 12:26:04,767] Finished trial#1235 resulted in value: -0.7913496759650606. Current best value is -0.7944491406029868 with parameters: {'w_lr': 0.018735636670162738, 'w_sv': 0.609782869522277, 'w_xgb': 0.1257268888344056, 'w_lgbm': 0.10282314833705018, 'w_mlp': 0.6409335052733912}.\n"
     ]
    },
    {
     "name": "stdout",
     "output_type": "stream",
     "text": [
      "[w_lr, w_lda, w_sv, w_xgb, w_lgbm,w_cb ] =  [0.061 0.    0.675 0.113 0.13  0.    0.772]\n",
      "AUC all:  0.792617638771485\n",
      "\n"
     ]
    },
    {
     "name": "stderr",
     "output_type": "stream",
     "text": [
      "[I 2019-08-24 12:26:06,395] Finished trial#1236 resulted in value: -0.792617638771485. Current best value is -0.7944491406029868 with parameters: {'w_lr': 0.018735636670162738, 'w_sv': 0.609782869522277, 'w_xgb': 0.1257268888344056, 'w_lgbm': 0.10282314833705018, 'w_mlp': 0.6409335052733912}.\n"
     ]
    },
    {
     "name": "stdout",
     "output_type": "stream",
     "text": [
      "[w_lr, w_lda, w_sv, w_xgb, w_lgbm,w_cb ] =  [0.033 0.    0.588 0.097 0.049 0.    0.658]\n",
      "AUC all:  0.7890955198647506\n",
      "\n"
     ]
    },
    {
     "name": "stderr",
     "output_type": "stream",
     "text": [
      "[I 2019-08-24 12:26:08,047] Finished trial#1237 resulted in value: -0.7890955198647506. Current best value is -0.7944491406029868 with parameters: {'w_lr': 0.018735636670162738, 'w_sv': 0.609782869522277, 'w_xgb': 0.1257268888344056, 'w_lgbm': 0.10282314833705018, 'w_mlp': 0.6409335052733912}.\n"
     ]
    },
    {
     "name": "stdout",
     "output_type": "stream",
     "text": [
      "[w_lr, w_lda, w_sv, w_xgb, w_lgbm,w_cb ] =  [0.082 0.    0.447 0.18  0.179 0.    0.779]\n",
      "AUC all:  0.7919132149901381\n",
      "\n"
     ]
    },
    {
     "name": "stderr",
     "output_type": "stream",
     "text": [
      "[I 2019-08-24 12:26:09,696] Finished trial#1238 resulted in value: -0.7919132149901381. Current best value is -0.7944491406029868 with parameters: {'w_lr': 0.018735636670162738, 'w_sv': 0.609782869522277, 'w_xgb': 0.1257268888344056, 'w_lgbm': 0.10282314833705018, 'w_mlp': 0.6409335052733912}.\n"
     ]
    },
    {
     "name": "stdout",
     "output_type": "stream",
     "text": [
      "[w_lr, w_lda, w_sv, w_xgb, w_lgbm,w_cb ] =  [0.019 0.    0.374 0.136 0.135 0.    0.68 ]\n",
      "AUC all:  0.7933220625528318\n",
      "\n"
     ]
    },
    {
     "name": "stderr",
     "output_type": "stream",
     "text": [
      "[I 2019-08-24 12:26:11,328] Finished trial#1239 resulted in value: -0.7933220625528318. Current best value is -0.7944491406029868 with parameters: {'w_lr': 0.018735636670162738, 'w_sv': 0.609782869522277, 'w_xgb': 0.1257268888344056, 'w_lgbm': 0.10282314833705018, 'w_mlp': 0.6409335052733912}.\n"
     ]
    },
    {
     "name": "stdout",
     "output_type": "stream",
     "text": [
      "[w_lr, w_lda, w_sv, w_xgb, w_lgbm,w_cb ] =  [0.1   0.    0.425 0.194 0.149 0.    0.798]\n",
      "AUC all:  0.792617638771485\n",
      "\n"
     ]
    },
    {
     "name": "stderr",
     "output_type": "stream",
     "text": [
      "[I 2019-08-24 12:26:12,986] Finished trial#1240 resulted in value: -0.792617638771485. Current best value is -0.7944491406029868 with parameters: {'w_lr': 0.018735636670162738, 'w_sv': 0.609782869522277, 'w_xgb': 0.1257268888344056, 'w_lgbm': 0.10282314833705018, 'w_mlp': 0.6409335052733912}.\n"
     ]
    },
    {
     "name": "stdout",
     "output_type": "stream",
     "text": [
      "[w_lr, w_lda, w_sv, w_xgb, w_lgbm,w_cb ] =  [0.057 0.    0.645 0.117 0.542 0.    0.645]\n",
      "AUC all:  0.776697661313046\n",
      "\n"
     ]
    },
    {
     "name": "stderr",
     "output_type": "stream",
     "text": [
      "[I 2019-08-24 12:26:14,644] Finished trial#1241 resulted in value: -0.776697661313046. Current best value is -0.7944491406029868 with parameters: {'w_lr': 0.018735636670162738, 'w_sv': 0.609782869522277, 'w_xgb': 0.1257268888344056, 'w_lgbm': 0.10282314833705018, 'w_mlp': 0.6409335052733912}.\n"
     ]
    },
    {
     "name": "stdout",
     "output_type": "stream",
     "text": [
      "[w_lr, w_lda, w_sv, w_xgb, w_lgbm,w_cb ] =  [0.055 0.    0.69  0.125 0.112 0.    0.742]\n",
      "AUC all:  0.7933220625528317\n",
      "\n"
     ]
    },
    {
     "name": "stderr",
     "output_type": "stream",
     "text": [
      "[I 2019-08-24 12:26:16,312] Finished trial#1242 resulted in value: -0.7933220625528317. Current best value is -0.7944491406029868 with parameters: {'w_lr': 0.018735636670162738, 'w_sv': 0.609782869522277, 'w_xgb': 0.1257268888344056, 'w_lgbm': 0.10282314833705018, 'w_mlp': 0.6409335052733912}.\n"
     ]
    },
    {
     "name": "stdout",
     "output_type": "stream",
     "text": [
      "[w_lr, w_lda, w_sv, w_xgb, w_lgbm,w_cb ] =  [0.175 0.    0.446 0.162 0.156 0.    0.772]\n",
      "AUC all:  0.7936038320653706\n",
      "\n"
     ]
    },
    {
     "name": "stderr",
     "output_type": "stream",
     "text": [
      "[I 2019-08-24 12:26:17,975] Finished trial#1243 resulted in value: -0.7936038320653706. Current best value is -0.7944491406029868 with parameters: {'w_lr': 0.018735636670162738, 'w_sv': 0.609782869522277, 'w_xgb': 0.1257268888344056, 'w_lgbm': 0.10282314833705018, 'w_mlp': 0.6409335052733912}.\n"
     ]
    },
    {
     "name": "stdout",
     "output_type": "stream",
     "text": [
      "[w_lr, w_lda, w_sv, w_xgb, w_lgbm,w_cb ] =  [0.08  0.    0.66  0.085 0.083 0.    0.601]\n",
      "AUC all:  0.7936038320653706\n",
      "\n"
     ]
    },
    {
     "name": "stderr",
     "output_type": "stream",
     "text": [
      "[I 2019-08-24 12:26:19,638] Finished trial#1244 resulted in value: -0.7936038320653706. Current best value is -0.7944491406029868 with parameters: {'w_lr': 0.018735636670162738, 'w_sv': 0.609782869522277, 'w_xgb': 0.1257268888344056, 'w_lgbm': 0.10282314833705018, 'w_mlp': 0.6409335052733912}.\n"
     ]
    },
    {
     "name": "stdout",
     "output_type": "stream",
     "text": [
      "[w_lr, w_lda, w_sv, w_xgb, w_lgbm,w_cb ] =  [0.094 0.    0.571 0.136 0.1   0.    0.059]\n",
      "AUC all:  0.7837418991265145\n",
      "\n"
     ]
    },
    {
     "name": "stderr",
     "output_type": "stream",
     "text": [
      "[I 2019-08-24 12:26:21,290] Finished trial#1245 resulted in value: -0.7837418991265145. Current best value is -0.7944491406029868 with parameters: {'w_lr': 0.018735636670162738, 'w_sv': 0.609782869522277, 'w_xgb': 0.1257268888344056, 'w_lgbm': 0.10282314833705018, 'w_mlp': 0.6409335052733912}.\n"
     ]
    },
    {
     "name": "stdout",
     "output_type": "stream",
     "text": [
      "[w_lr, w_lda, w_sv, w_xgb, w_lgbm,w_cb ] =  [0.019 0.    0.393 0.166 0.121 0.    0.665]\n",
      "AUC all:  0.7921949845026768\n",
      "\n"
     ]
    },
    {
     "name": "stderr",
     "output_type": "stream",
     "text": [
      "[I 2019-08-24 12:26:22,966] Finished trial#1246 resulted in value: -0.7921949845026768. Current best value is -0.7944491406029868 with parameters: {'w_lr': 0.018735636670162738, 'w_sv': 0.609782869522277, 'w_xgb': 0.1257268888344056, 'w_lgbm': 0.10282314833705018, 'w_mlp': 0.6409335052733912}.\n"
     ]
    },
    {
     "name": "stdout",
     "output_type": "stream",
     "text": [
      "[w_lr, w_lda, w_sv, w_xgb, w_lgbm,w_cb ] =  [0.118 0.    0.41  0.143 0.064 0.    0.588]\n",
      "AUC all:  0.7899408284023668\n",
      "\n"
     ]
    },
    {
     "name": "stderr",
     "output_type": "stream",
     "text": [
      "[I 2019-08-24 12:26:24,650] Finished trial#1247 resulted in value: -0.7899408284023668. Current best value is -0.7944491406029868 with parameters: {'w_lr': 0.018735636670162738, 'w_sv': 0.609782869522277, 'w_xgb': 0.1257268888344056, 'w_lgbm': 0.10282314833705018, 'w_mlp': 0.6409335052733912}.\n"
     ]
    },
    {
     "name": "stdout",
     "output_type": "stream",
     "text": [
      "[w_lr, w_lda, w_sv, w_xgb, w_lgbm,w_cb ] =  [0.036 0.    0.618 0.102 0.085 0.    0.617]\n",
      "AUC all:  0.7933220625528318\n",
      "\n"
     ]
    },
    {
     "name": "stderr",
     "output_type": "stream",
     "text": [
      "[I 2019-08-24 12:26:26,310] Finished trial#1248 resulted in value: -0.7933220625528318. Current best value is -0.7944491406029868 with parameters: {'w_lr': 0.018735636670162738, 'w_sv': 0.609782869522277, 'w_xgb': 0.1257268888344056, 'w_lgbm': 0.10282314833705018, 'w_mlp': 0.6409335052733912}.\n"
     ]
    },
    {
     "name": "stdout",
     "output_type": "stream",
     "text": [
      "[w_lr, w_lda, w_sv, w_xgb, w_lgbm,w_cb ] =  [0.134 0.    0.654 0.122 0.021 0.    0.484]\n",
      "AUC all:  0.7823330515638208\n",
      "\n"
     ]
    },
    {
     "name": "stderr",
     "output_type": "stream",
     "text": [
      "[I 2019-08-24 12:26:27,987] Finished trial#1249 resulted in value: -0.7823330515638208. Current best value is -0.7944491406029868 with parameters: {'w_lr': 0.018735636670162738, 'w_sv': 0.609782869522277, 'w_xgb': 0.1257268888344056, 'w_lgbm': 0.10282314833705018, 'w_mlp': 0.6409335052733912}.\n"
     ]
    },
    {
     "name": "stdout",
     "output_type": "stream",
     "text": [
      "[w_lr, w_lda, w_sv, w_xgb, w_lgbm,w_cb ] =  [0.104 0.    0.407 0.143 0.129 0.    0.801]\n",
      "AUC all:  0.7928994082840236\n",
      "\n"
     ]
    },
    {
     "name": "stderr",
     "output_type": "stream",
     "text": [
      "[I 2019-08-24 12:26:29,672] Finished trial#1250 resulted in value: -0.7928994082840236. Current best value is -0.7944491406029868 with parameters: {'w_lr': 0.018735636670162738, 'w_sv': 0.609782869522277, 'w_xgb': 0.1257268888344056, 'w_lgbm': 0.10282314833705018, 'w_mlp': 0.6409335052733912}.\n"
     ]
    },
    {
     "name": "stdout",
     "output_type": "stream",
     "text": [
      "[w_lr, w_lda, w_sv, w_xgb, w_lgbm,w_cb ] =  [0.105 0.    0.537 0.162 0.111 0.    0.698]\n",
      "AUC all:  0.7930402930402931\n",
      "\n"
     ]
    },
    {
     "name": "stderr",
     "output_type": "stream",
     "text": [
      "[I 2019-08-24 12:26:31,340] Finished trial#1251 resulted in value: -0.7930402930402931. Current best value is -0.7944491406029868 with parameters: {'w_lr': 0.018735636670162738, 'w_sv': 0.609782869522277, 'w_xgb': 0.1257268888344056, 'w_lgbm': 0.10282314833705018, 'w_mlp': 0.6409335052733912}.\n"
     ]
    },
    {
     "name": "stdout",
     "output_type": "stream",
     "text": [
      "[w_lr, w_lda, w_sv, w_xgb, w_lgbm,w_cb ] =  [0.071 0.    0.602 0.068 0.071 0.    0.671]\n",
      "AUC all:  0.7920540997464074\n",
      "\n"
     ]
    },
    {
     "name": "stderr",
     "output_type": "stream",
     "text": [
      "[I 2019-08-24 12:26:33,027] Finished trial#1252 resulted in value: -0.7920540997464074. Current best value is -0.7944491406029868 with parameters: {'w_lr': 0.018735636670162738, 'w_sv': 0.609782869522277, 'w_xgb': 0.1257268888344056, 'w_lgbm': 0.10282314833705018, 'w_mlp': 0.6409335052733912}.\n"
     ]
    },
    {
     "name": "stdout",
     "output_type": "stream",
     "text": [
      "[w_lr, w_lda, w_sv, w_xgb, w_lgbm,w_cb ] =  [0.279 0.    0.452 0.183 0.194 0.    0.766]\n",
      "AUC all:  0.7912087912087912\n",
      "\n"
     ]
    },
    {
     "name": "stderr",
     "output_type": "stream",
     "text": [
      "[I 2019-08-24 12:26:34,699] Finished trial#1253 resulted in value: -0.7912087912087912. Current best value is -0.7944491406029868 with parameters: {'w_lr': 0.018735636670162738, 'w_sv': 0.609782869522277, 'w_xgb': 0.1257268888344056, 'w_lgbm': 0.10282314833705018, 'w_mlp': 0.6409335052733912}.\n"
     ]
    },
    {
     "name": "stdout",
     "output_type": "stream",
     "text": [
      "[w_lr, w_lda, w_sv, w_xgb, w_lgbm,w_cb ] =  [0.047 0.    0.442 0.151 0.143 0.    0.762]\n",
      "AUC all:  0.793040293040293\n",
      "\n"
     ]
    },
    {
     "name": "stderr",
     "output_type": "stream",
     "text": [
      "[I 2019-08-24 12:26:36,395] Finished trial#1254 resulted in value: -0.793040293040293. Current best value is -0.7944491406029868 with parameters: {'w_lr': 0.018735636670162738, 'w_sv': 0.609782869522277, 'w_xgb': 0.1257268888344056, 'w_lgbm': 0.10282314833705018, 'w_mlp': 0.6409335052733912}.\n"
     ]
    },
    {
     "name": "stdout",
     "output_type": "stream",
     "text": [
      "[w_lr, w_lda, w_sv, w_xgb, w_lgbm,w_cb ] =  [0.003 0.    0.433 0.14  0.172 0.    0.809]\n",
      "AUC all:  0.7927585235277542\n",
      "\n"
     ]
    },
    {
     "name": "stderr",
     "output_type": "stream",
     "text": [
      "[I 2019-08-24 12:26:38,060] Finished trial#1255 resulted in value: -0.7927585235277542. Current best value is -0.7944491406029868 with parameters: {'w_lr': 0.018735636670162738, 'w_sv': 0.609782869522277, 'w_xgb': 0.1257268888344056, 'w_lgbm': 0.10282314833705018, 'w_mlp': 0.6409335052733912}.\n"
     ]
    },
    {
     "name": "stdout",
     "output_type": "stream",
     "text": [
      "[w_lr, w_lda, w_sv, w_xgb, w_lgbm,w_cb ] =  [0.104 0.    0.485 0.045 0.095 0.    0.574]\n",
      "AUC all:  0.7910679064525218\n",
      "\n"
     ]
    },
    {
     "name": "stderr",
     "output_type": "stream",
     "text": [
      "[I 2019-08-24 12:26:39,744] Finished trial#1256 resulted in value: -0.7910679064525218. Current best value is -0.7944491406029868 with parameters: {'w_lr': 0.018735636670162738, 'w_sv': 0.609782869522277, 'w_xgb': 0.1257268888344056, 'w_lgbm': 0.10282314833705018, 'w_mlp': 0.6409335052733912}.\n"
     ]
    },
    {
     "name": "stdout",
     "output_type": "stream",
     "text": [
      "[w_lr, w_lda, w_sv, w_xgb, w_lgbm,w_cb ] =  [0.074 0.    0.308 0.106 0.056 0.    0.627]\n",
      "AUC all:  0.7897999436460974\n",
      "\n"
     ]
    },
    {
     "name": "stderr",
     "output_type": "stream",
     "text": [
      "[I 2019-08-24 12:26:41,439] Finished trial#1257 resulted in value: -0.7897999436460974. Current best value is -0.7944491406029868 with parameters: {'w_lr': 0.018735636670162738, 'w_sv': 0.609782869522277, 'w_xgb': 0.1257268888344056, 'w_lgbm': 0.10282314833705018, 'w_mlp': 0.6409335052733912}.\n"
     ]
    },
    {
     "name": "stdout",
     "output_type": "stream",
     "text": [
      "[w_lr, w_lda, w_sv, w_xgb, w_lgbm,w_cb ] =  [0.073 0.    0.41  0.172 0.104 0.    0.729]\n",
      "AUC all:  0.79149056072133\n",
      "\n"
     ]
    },
    {
     "name": "stderr",
     "output_type": "stream",
     "text": [
      "[I 2019-08-24 12:26:43,107] Finished trial#1258 resulted in value: -0.79149056072133. Current best value is -0.7944491406029868 with parameters: {'w_lr': 0.018735636670162738, 'w_sv': 0.609782869522277, 'w_xgb': 0.1257268888344056, 'w_lgbm': 0.10282314833705018, 'w_mlp': 0.6409335052733912}.\n"
     ]
    },
    {
     "name": "stdout",
     "output_type": "stream",
     "text": [
      "[w_lr, w_lda, w_sv, w_xgb, w_lgbm,w_cb ] =  [0.147 0.    0.371 0.212 0.149 0.    0.724]\n",
      "AUC all:  0.79149056072133\n",
      "\n"
     ]
    },
    {
     "name": "stderr",
     "output_type": "stream",
     "text": [
      "[I 2019-08-24 12:26:44,796] Finished trial#1259 resulted in value: -0.79149056072133. Current best value is -0.7944491406029868 with parameters: {'w_lr': 0.018735636670162738, 'w_sv': 0.609782869522277, 'w_xgb': 0.1257268888344056, 'w_lgbm': 0.10282314833705018, 'w_mlp': 0.6409335052733912}.\n"
     ]
    },
    {
     "name": "stdout",
     "output_type": "stream",
     "text": [
      "[w_lr, w_lda, w_sv, w_xgb, w_lgbm,w_cb ] =  [0.115 0.    0.477 0.188 0.163 0.    0.751]\n",
      "AUC all:  0.7927585235277542\n",
      "\n"
     ]
    },
    {
     "name": "stderr",
     "output_type": "stream",
     "text": [
      "[I 2019-08-24 12:26:46,476] Finished trial#1260 resulted in value: -0.7927585235277542. Current best value is -0.7944491406029868 with parameters: {'w_lr': 0.018735636670162738, 'w_sv': 0.609782869522277, 'w_xgb': 0.1257268888344056, 'w_lgbm': 0.10282314833705018, 'w_mlp': 0.6409335052733912}.\n"
     ]
    },
    {
     "name": "stdout",
     "output_type": "stream",
     "text": [
      "[w_lr, w_lda, w_sv, w_xgb, w_lgbm,w_cb ] =  [0.073 0.    0.494 0.122 0.086 0.    0.716]\n",
      "AUC all:  0.79149056072133\n",
      "\n"
     ]
    },
    {
     "name": "stderr",
     "output_type": "stream",
     "text": [
      "[I 2019-08-24 12:26:48,153] Finished trial#1261 resulted in value: -0.79149056072133. Current best value is -0.7944491406029868 with parameters: {'w_lr': 0.018735636670162738, 'w_sv': 0.609782869522277, 'w_xgb': 0.1257268888344056, 'w_lgbm': 0.10282314833705018, 'w_mlp': 0.6409335052733912}.\n"
     ]
    },
    {
     "name": "stdout",
     "output_type": "stream",
     "text": [
      "[w_lr, w_lda, w_sv, w_xgb, w_lgbm,w_cb ] =  [0.091 0.    0.634 0.087 0.118 0.    0.712]\n",
      "AUC all:  0.7919132149901381\n",
      "\n"
     ]
    },
    {
     "name": "stderr",
     "output_type": "stream",
     "text": [
      "[I 2019-08-24 12:26:49,853] Finished trial#1262 resulted in value: -0.7919132149901381. Current best value is -0.7944491406029868 with parameters: {'w_lr': 0.018735636670162738, 'w_sv': 0.609782869522277, 'w_xgb': 0.1257268888344056, 'w_lgbm': 0.10282314833705018, 'w_mlp': 0.6409335052733912}.\n"
     ]
    },
    {
     "name": "stdout",
     "output_type": "stream",
     "text": [
      "[w_lr, w_lda, w_sv, w_xgb, w_lgbm,w_cb ] =  [0.06  0.    0.518 0.125 0.098 0.    0.719]\n",
      "AUC all:  0.792617638771485\n",
      "\n"
     ]
    },
    {
     "name": "stderr",
     "output_type": "stream",
     "text": [
      "[I 2019-08-24 12:26:51,564] Finished trial#1263 resulted in value: -0.792617638771485. Current best value is -0.7944491406029868 with parameters: {'w_lr': 0.018735636670162738, 'w_sv': 0.609782869522277, 'w_xgb': 0.1257268888344056, 'w_lgbm': 0.10282314833705018, 'w_mlp': 0.6409335052733912}.\n"
     ]
    },
    {
     "name": "stdout",
     "output_type": "stream",
     "text": [
      "[w_lr, w_lda, w_sv, w_xgb, w_lgbm,w_cb ] =  [0.    0.    0.427 0.154 0.128 0.    0.787]\n",
      "AUC all:  0.794167371090448\n",
      "\n"
     ]
    },
    {
     "name": "stderr",
     "output_type": "stream",
     "text": [
      "[I 2019-08-24 12:26:53,293] Finished trial#1264 resulted in value: -0.794167371090448. Current best value is -0.7944491406029868 with parameters: {'w_lr': 0.018735636670162738, 'w_sv': 0.609782869522277, 'w_xgb': 0.1257268888344056, 'w_lgbm': 0.10282314833705018, 'w_mlp': 0.6409335052733912}.\n"
     ]
    },
    {
     "name": "stdout",
     "output_type": "stream",
     "text": [
      "[w_lr, w_lda, w_sv, w_xgb, w_lgbm,w_cb ] =  [0.    0.    0.455 0.545 0.131 0.    0.826]\n",
      "AUC all:  0.7847280924204001\n",
      "\n"
     ]
    },
    {
     "name": "stderr",
     "output_type": "stream",
     "text": [
      "[I 2019-08-24 12:26:54,975] Finished trial#1265 resulted in value: -0.7847280924204001. Current best value is -0.7944491406029868 with parameters: {'w_lr': 0.018735636670162738, 'w_sv': 0.609782869522277, 'w_xgb': 0.1257268888344056, 'w_lgbm': 0.10282314833705018, 'w_mlp': 0.6409335052733912}.\n"
     ]
    },
    {
     "name": "stdout",
     "output_type": "stream",
     "text": [
      "[w_lr, w_lda, w_sv, w_xgb, w_lgbm,w_cb ] =  [0.001 0.    0.393 0.71  0.082 0.    0.793]\n",
      "AUC all:  0.7772612003381233\n",
      "\n"
     ]
    },
    {
     "name": "stderr",
     "output_type": "stream",
     "text": [
      "[I 2019-08-24 12:26:56,659] Finished trial#1266 resulted in value: -0.7772612003381233. Current best value is -0.7944491406029868 with parameters: {'w_lr': 0.018735636670162738, 'w_sv': 0.609782869522277, 'w_xgb': 0.1257268888344056, 'w_lgbm': 0.10282314833705018, 'w_mlp': 0.6409335052733912}.\n"
     ]
    },
    {
     "name": "stdout",
     "output_type": "stream",
     "text": [
      "[w_lr, w_lda, w_sv, w_xgb, w_lgbm,w_cb ] =  [0.001 0.    0.415 0.162 0.143 0.    0.791]\n",
      "AUC all:  0.7933220625528318\n",
      "\n"
     ]
    },
    {
     "name": "stderr",
     "output_type": "stream",
     "text": [
      "[I 2019-08-24 12:26:58,378] Finished trial#1267 resulted in value: -0.7933220625528318. Current best value is -0.7944491406029868 with parameters: {'w_lr': 0.018735636670162738, 'w_sv': 0.609782869522277, 'w_xgb': 0.1257268888344056, 'w_lgbm': 0.10282314833705018, 'w_mlp': 0.6409335052733912}.\n"
     ]
    },
    {
     "name": "stdout",
     "output_type": "stream",
     "text": [
      "[w_lr, w_lda, w_sv, w_xgb, w_lgbm,w_cb ] =  [0.016 0.    0.577 0.104 0.038 0.    0.647]\n",
      "AUC all:  0.7872640180332489\n",
      "\n"
     ]
    },
    {
     "name": "stderr",
     "output_type": "stream",
     "text": [
      "[I 2019-08-24 12:27:00,097] Finished trial#1268 resulted in value: -0.7872640180332489. Current best value is -0.7944491406029868 with parameters: {'w_lr': 0.018735636670162738, 'w_sv': 0.609782869522277, 'w_xgb': 0.1257268888344056, 'w_lgbm': 0.10282314833705018, 'w_mlp': 0.6409335052733912}.\n"
     ]
    },
    {
     "name": "stdout",
     "output_type": "stream",
     "text": [
      "[w_lr, w_lda, w_sv, w_xgb, w_lgbm,w_cb ] =  [0.017 0.    0.625 0.12  0.064 0.    0.63 ]\n",
      "AUC all:  0.7905043674274442\n",
      "\n"
     ]
    },
    {
     "name": "stderr",
     "output_type": "stream",
     "text": [
      "[I 2019-08-24 12:27:01,786] Finished trial#1269 resulted in value: -0.7905043674274442. Current best value is -0.7944491406029868 with parameters: {'w_lr': 0.018735636670162738, 'w_sv': 0.609782869522277, 'w_xgb': 0.1257268888344056, 'w_lgbm': 0.10282314833705018, 'w_mlp': 0.6409335052733912}.\n"
     ]
    },
    {
     "name": "stdout",
     "output_type": "stream",
     "text": [
      "[w_lr, w_lda, w_sv, w_xgb, w_lgbm,w_cb ] =  [0.017 0.    0.61  0.068 0.089 0.    0.621]\n",
      "AUC all:  0.7928994082840237\n",
      "\n"
     ]
    },
    {
     "name": "stderr",
     "output_type": "stream",
     "text": [
      "[I 2019-08-24 12:27:03,500] Finished trial#1270 resulted in value: -0.7928994082840237. Current best value is -0.7944491406029868 with parameters: {'w_lr': 0.018735636670162738, 'w_sv': 0.609782869522277, 'w_xgb': 0.1257268888344056, 'w_lgbm': 0.10282314833705018, 'w_mlp': 0.6409335052733912}.\n"
     ]
    },
    {
     "name": "stdout",
     "output_type": "stream",
     "text": [
      "[w_lr, w_lda, w_sv, w_xgb, w_lgbm,w_cb ] =  [0.821 0.    0.426 0.15  0.118 0.    0.749]\n",
      "AUC all:  0.7923358692589461\n",
      "\n"
     ]
    },
    {
     "name": "stderr",
     "output_type": "stream",
     "text": [
      "[I 2019-08-24 12:27:05,181] Finished trial#1271 resulted in value: -0.7923358692589461. Current best value is -0.7944491406029868 with parameters: {'w_lr': 0.018735636670162738, 'w_sv': 0.609782869522277, 'w_xgb': 0.1257268888344056, 'w_lgbm': 0.10282314833705018, 'w_mlp': 0.6409335052733912}.\n"
     ]
    },
    {
     "name": "stdout",
     "output_type": "stream",
     "text": [
      "[w_lr, w_lda, w_sv, w_xgb, w_lgbm,w_cb ] =  [0.015 0.    0.343 0.096 0.064 0.    0.651]\n",
      "AUC all:  0.7907861369399831\n",
      "\n"
     ]
    },
    {
     "name": "stderr",
     "output_type": "stream",
     "text": [
      "[I 2019-08-24 12:27:06,893] Finished trial#1272 resulted in value: -0.7907861369399831. Current best value is -0.7944491406029868 with parameters: {'w_lr': 0.018735636670162738, 'w_sv': 0.609782869522277, 'w_xgb': 0.1257268888344056, 'w_lgbm': 0.10282314833705018, 'w_mlp': 0.6409335052733912}.\n"
     ]
    },
    {
     "name": "stdout",
     "output_type": "stream",
     "text": [
      "[w_lr, w_lda, w_sv, w_xgb, w_lgbm,w_cb ] =  [0.042 0.    0.429 0.188 0.132 0.    0.842]\n",
      "AUC all:  0.7936038320653704\n",
      "\n"
     ]
    },
    {
     "name": "stderr",
     "output_type": "stream",
     "text": [
      "[I 2019-08-24 12:27:08,589] Finished trial#1273 resulted in value: -0.7936038320653704. Current best value is -0.7944491406029868 with parameters: {'w_lr': 0.018735636670162738, 'w_sv': 0.609782869522277, 'w_xgb': 0.1257268888344056, 'w_lgbm': 0.10282314833705018, 'w_mlp': 0.6409335052733912}.\n"
     ]
    },
    {
     "name": "stdout",
     "output_type": "stream",
     "text": [
      "[w_lr, w_lda, w_sv, w_xgb, w_lgbm,w_cb ] =  [0.002 0.    0.375 0.142 0.179 0.    0.82 ]\n",
      "AUC all:  0.792617638771485\n",
      "\n"
     ]
    },
    {
     "name": "stderr",
     "output_type": "stream",
     "text": [
      "[I 2019-08-24 12:27:10,286] Finished trial#1274 resulted in value: -0.792617638771485. Current best value is -0.7944491406029868 with parameters: {'w_lr': 0.018735636670162738, 'w_sv': 0.609782869522277, 'w_xgb': 0.1257268888344056, 'w_lgbm': 0.10282314833705018, 'w_mlp': 0.6409335052733912}.\n"
     ]
    },
    {
     "name": "stdout",
     "output_type": "stream",
     "text": [
      "[w_lr, w_lda, w_sv, w_xgb, w_lgbm,w_cb ] =  [0.038 0.    0.406 0.169 0.15  0.    0.789]\n",
      "AUC all:  0.7933220625528318\n",
      "\n"
     ]
    },
    {
     "name": "stderr",
     "output_type": "stream",
     "text": [
      "[I 2019-08-24 12:27:11,952] Finished trial#1275 resulted in value: -0.7933220625528318. Current best value is -0.7944491406029868 with parameters: {'w_lr': 0.018735636670162738, 'w_sv': 0.609782869522277, 'w_xgb': 0.1257268888344056, 'w_lgbm': 0.10282314833705018, 'w_mlp': 0.6409335052733912}.\n"
     ]
    },
    {
     "name": "stdout",
     "output_type": "stream",
     "text": [
      "[w_lr, w_lda, w_sv, w_xgb, w_lgbm,w_cb ] =  [0.082 0.    0.677 0.13  0.106 0.    0.811]\n",
      "AUC all:  0.7923358692589463\n",
      "\n"
     ]
    },
    {
     "name": "stderr",
     "output_type": "stream",
     "text": [
      "[I 2019-08-24 12:27:13,659] Finished trial#1276 resulted in value: -0.7923358692589463. Current best value is -0.7944491406029868 with parameters: {'w_lr': 0.018735636670162738, 'w_sv': 0.609782869522277, 'w_xgb': 0.1257268888344056, 'w_lgbm': 0.10282314833705018, 'w_mlp': 0.6409335052733912}.\n"
     ]
    },
    {
     "name": "stdout",
     "output_type": "stream",
     "text": [
      "[w_lr, w_lda, w_sv, w_xgb, w_lgbm,w_cb ] =  [0.033 0.    0.44  0.213 0.164 0.    0.78 ]\n",
      "AUC all:  0.7921949845026768\n",
      "\n"
     ]
    },
    {
     "name": "stderr",
     "output_type": "stream",
     "text": [
      "[I 2019-08-24 12:27:15,367] Finished trial#1277 resulted in value: -0.7921949845026768. Current best value is -0.7944491406029868 with parameters: {'w_lr': 0.018735636670162738, 'w_sv': 0.609782869522277, 'w_xgb': 0.1257268888344056, 'w_lgbm': 0.10282314833705018, 'w_mlp': 0.6409335052733912}.\n"
     ]
    },
    {
     "name": "stdout",
     "output_type": "stream",
     "text": [
      "[w_lr, w_lda, w_sv, w_xgb, w_lgbm,w_cb ] =  [0.086 0.    0.405 0.136 0.124 0.    0.797]\n",
      "AUC all:  0.7930402930402931\n",
      "\n"
     ]
    },
    {
     "name": "stderr",
     "output_type": "stream",
     "text": [
      "[I 2019-08-24 12:27:17,069] Finished trial#1278 resulted in value: -0.7930402930402931. Current best value is -0.7944491406029868 with parameters: {'w_lr': 0.018735636670162738, 'w_sv': 0.609782869522277, 'w_xgb': 0.1257268888344056, 'w_lgbm': 0.10282314833705018, 'w_mlp': 0.6409335052733912}.\n"
     ]
    },
    {
     "name": "stdout",
     "output_type": "stream",
     "text": [
      "[w_lr, w_lda, w_sv, w_xgb, w_lgbm,w_cb ] =  [0.    0.    0.567 0.159 0.103 0.    0.687]\n",
      "AUC all:  0.7923358692589462\n",
      "\n"
     ]
    },
    {
     "name": "stderr",
     "output_type": "stream",
     "text": [
      "[I 2019-08-24 12:27:18,791] Finished trial#1279 resulted in value: -0.7923358692589462. Current best value is -0.7944491406029868 with parameters: {'w_lr': 0.018735636670162738, 'w_sv': 0.609782869522277, 'w_xgb': 0.1257268888344056, 'w_lgbm': 0.10282314833705018, 'w_mlp': 0.6409335052733912}.\n"
     ]
    },
    {
     "name": "stdout",
     "output_type": "stream",
     "text": [
      "[w_lr, w_lda, w_sv, w_xgb, w_lgbm,w_cb ] =  [0.047 0.    0.422 0.112 0.129 0.    0.833]\n",
      "AUC all:  0.7933220625528318\n",
      "\n"
     ]
    },
    {
     "name": "stderr",
     "output_type": "stream",
     "text": [
      "[I 2019-08-24 12:27:20,512] Finished trial#1280 resulted in value: -0.7933220625528318. Current best value is -0.7944491406029868 with parameters: {'w_lr': 0.018735636670162738, 'w_sv': 0.609782869522277, 'w_xgb': 0.1257268888344056, 'w_lgbm': 0.10282314833705018, 'w_mlp': 0.6409335052733912}.\n"
     ]
    },
    {
     "name": "stdout",
     "output_type": "stream",
     "text": [
      "[w_lr, w_lda, w_sv, w_xgb, w_lgbm,w_cb ] =  [0.053 0.    0.461 0.164 0.147 0.    0.769]\n",
      "AUC all:  0.7934629473091012\n",
      "\n"
     ]
    },
    {
     "name": "stderr",
     "output_type": "stream",
     "text": [
      "[I 2019-08-24 12:27:22,201] Finished trial#1281 resulted in value: -0.7934629473091012. Current best value is -0.7944491406029868 with parameters: {'w_lr': 0.018735636670162738, 'w_sv': 0.609782869522277, 'w_xgb': 0.1257268888344056, 'w_lgbm': 0.10282314833705018, 'w_mlp': 0.6409335052733912}.\n"
     ]
    },
    {
     "name": "stdout",
     "output_type": "stream",
     "text": [
      "[w_lr, w_lda, w_sv, w_xgb, w_lgbm,w_cb ] =  [0.103 0.    0.42  0.202 0.12  0.    0.754]\n",
      "AUC all:  0.7920540997464074\n",
      "\n"
     ]
    },
    {
     "name": "stderr",
     "output_type": "stream",
     "text": [
      "[I 2019-08-24 12:27:23,914] Finished trial#1282 resulted in value: -0.7920540997464074. Current best value is -0.7944491406029868 with parameters: {'w_lr': 0.018735636670162738, 'w_sv': 0.609782869522277, 'w_xgb': 0.1257268888344056, 'w_lgbm': 0.10282314833705018, 'w_mlp': 0.6409335052733912}.\n"
     ]
    },
    {
     "name": "stdout",
     "output_type": "stream",
     "text": [
      "[w_lr, w_lda, w_sv, w_xgb, w_lgbm,w_cb ] =  [0.059 0.    0.392 0.177 0.128 0.    0.87 ]\n",
      "AUC all:  0.7936038320653704\n",
      "\n"
     ]
    },
    {
     "name": "stderr",
     "output_type": "stream",
     "text": [
      "[I 2019-08-24 12:27:25,634] Finished trial#1283 resulted in value: -0.7936038320653704. Current best value is -0.7944491406029868 with parameters: {'w_lr': 0.018735636670162738, 'w_sv': 0.609782869522277, 'w_xgb': 0.1257268888344056, 'w_lgbm': 0.10282314833705018, 'w_mlp': 0.6409335052733912}.\n"
     ]
    },
    {
     "name": "stdout",
     "output_type": "stream",
     "text": [
      "[w_lr, w_lda, w_sv, w_xgb, w_lgbm,w_cb ] =  [0.003 0.    0.533 0.15  0.143 0.    0.713]\n",
      "AUC all:  0.7934629473091012\n",
      "\n"
     ]
    },
    {
     "name": "stderr",
     "output_type": "stream",
     "text": [
      "[I 2019-08-24 12:27:27,346] Finished trial#1284 resulted in value: -0.7934629473091012. Current best value is -0.7944491406029868 with parameters: {'w_lr': 0.018735636670162738, 'w_sv': 0.609782869522277, 'w_xgb': 0.1257268888344056, 'w_lgbm': 0.10282314833705018, 'w_mlp': 0.6409335052733912}.\n"
     ]
    },
    {
     "name": "stdout",
     "output_type": "stream",
     "text": [
      "[w_lr, w_lda, w_sv, w_xgb, w_lgbm,w_cb ] =  [0.128 0.    0.713 0.152 0.111 0.    0.738]\n",
      "AUC all:  0.7933220625528318\n",
      "\n"
     ]
    },
    {
     "name": "stderr",
     "output_type": "stream",
     "text": [
      "[I 2019-08-24 12:27:29,060] Finished trial#1285 resulted in value: -0.7933220625528318. Current best value is -0.7944491406029868 with parameters: {'w_lr': 0.018735636670162738, 'w_sv': 0.609782869522277, 'w_xgb': 0.1257268888344056, 'w_lgbm': 0.10282314833705018, 'w_mlp': 0.6409335052733912}.\n"
     ]
    },
    {
     "name": "stdout",
     "output_type": "stream",
     "text": [
      "[w_lr, w_lda, w_sv, w_xgb, w_lgbm,w_cb ] =  [0.039 0.    0.428 0.194 0.091 0.    0.773]\n",
      "AUC all:  0.790363482671175\n",
      "\n"
     ]
    },
    {
     "name": "stderr",
     "output_type": "stream",
     "text": [
      "[I 2019-08-24 12:27:30,760] Finished trial#1286 resulted in value: -0.790363482671175. Current best value is -0.7944491406029868 with parameters: {'w_lr': 0.018735636670162738, 'w_sv': 0.609782869522277, 'w_xgb': 0.1257268888344056, 'w_lgbm': 0.10282314833705018, 'w_mlp': 0.6409335052733912}.\n"
     ]
    },
    {
     "name": "stdout",
     "output_type": "stream",
     "text": [
      "[w_lr, w_lda, w_sv, w_xgb, w_lgbm,w_cb ] =  [0.203 0.    0.384 0.135 0.111 0.    0.749]\n",
      "AUC all:  0.7927585235277543\n",
      "\n"
     ]
    },
    {
     "name": "stderr",
     "output_type": "stream",
     "text": [
      "[I 2019-08-24 12:27:32,466] Finished trial#1287 resulted in value: -0.7927585235277543. Current best value is -0.7944491406029868 with parameters: {'w_lr': 0.018735636670162738, 'w_sv': 0.609782869522277, 'w_xgb': 0.1257268888344056, 'w_lgbm': 0.10282314833705018, 'w_mlp': 0.6409335052733912}.\n"
     ]
    },
    {
     "name": "stdout",
     "output_type": "stream",
     "text": [
      "[w_lr, w_lda, w_sv, w_xgb, w_lgbm,w_cb ] =  [0.097 0.    0.433 0.109 0.075 0.    0.785]\n",
      "AUC all:  0.790363482671175\n",
      "\n"
     ]
    },
    {
     "name": "stderr",
     "output_type": "stream",
     "text": [
      "[I 2019-08-24 12:27:34,207] Finished trial#1288 resulted in value: -0.790363482671175. Current best value is -0.7944491406029868 with parameters: {'w_lr': 0.018735636670162738, 'w_sv': 0.609782869522277, 'w_xgb': 0.1257268888344056, 'w_lgbm': 0.10282314833705018, 'w_mlp': 0.6409335052733912}.\n"
     ]
    },
    {
     "name": "stdout",
     "output_type": "stream",
     "text": [
      "[w_lr, w_lda, w_sv, w_xgb, w_lgbm,w_cb ] =  [0.06  0.    0.694 0.074 0.084 0.    0.602]\n",
      "AUC all:  0.7936038320653704\n",
      "\n"
     ]
    },
    {
     "name": "stderr",
     "output_type": "stream",
     "text": [
      "[I 2019-08-24 12:27:35,929] Finished trial#1289 resulted in value: -0.7936038320653704. Current best value is -0.7944491406029868 with parameters: {'w_lr': 0.018735636670162738, 'w_sv': 0.609782869522277, 'w_xgb': 0.1257268888344056, 'w_lgbm': 0.10282314833705018, 'w_mlp': 0.6409335052733912}.\n"
     ]
    },
    {
     "name": "stdout",
     "output_type": "stream",
     "text": [
      "[w_lr, w_lda, w_sv, w_xgb, w_lgbm,w_cb ] =  [0.022 0.    0.46  0.165 0.103 0.    0.661]\n",
      "AUC all:  0.7923358692589462\n",
      "\n"
     ]
    },
    {
     "name": "stderr",
     "output_type": "stream",
     "text": [
      "[I 2019-08-24 12:27:37,660] Finished trial#1290 resulted in value: -0.7923358692589462. Current best value is -0.7944491406029868 with parameters: {'w_lr': 0.018735636670162738, 'w_sv': 0.609782869522277, 'w_xgb': 0.1257268888344056, 'w_lgbm': 0.10282314833705018, 'w_mlp': 0.6409335052733912}.\n"
     ]
    },
    {
     "name": "stdout",
     "output_type": "stream",
     "text": [
      "[w_lr, w_lda, w_sv, w_xgb, w_lgbm,w_cb ] =  [0.025 0.    0.603 0.087 0.042 0.    0.638]\n",
      "AUC all:  0.7883910960834037\n",
      "\n"
     ]
    },
    {
     "name": "stderr",
     "output_type": "stream",
     "text": [
      "[I 2019-08-24 12:27:39,375] Finished trial#1291 resulted in value: -0.7883910960834037. Current best value is -0.7944491406029868 with parameters: {'w_lr': 0.018735636670162738, 'w_sv': 0.609782869522277, 'w_xgb': 0.1257268888344056, 'w_lgbm': 0.10282314833705018, 'w_mlp': 0.6409335052733912}.\n"
     ]
    },
    {
     "name": "stdout",
     "output_type": "stream",
     "text": [
      "[w_lr, w_lda, w_sv, w_xgb, w_lgbm,w_cb ] =  [0.051 0.    0.442 0.18  0.164 0.    0.812]\n",
      "AUC all:  0.7928994082840237\n",
      "\n"
     ]
    },
    {
     "name": "stderr",
     "output_type": "stream",
     "text": [
      "[I 2019-08-24 12:27:41,096] Finished trial#1292 resulted in value: -0.7928994082840237. Current best value is -0.7944491406029868 with parameters: {'w_lr': 0.018735636670162738, 'w_sv': 0.609782869522277, 'w_xgb': 0.1257268888344056, 'w_lgbm': 0.10282314833705018, 'w_mlp': 0.6409335052733912}.\n"
     ]
    },
    {
     "name": "stdout",
     "output_type": "stream",
     "text": [
      "[w_lr, w_lda, w_sv, w_xgb, w_lgbm,w_cb ] =  [0.002 0.    0.415 0.12  0.822 0.    0.801]\n",
      "AUC all:  0.7727528881375035\n",
      "\n"
     ]
    },
    {
     "name": "stderr",
     "output_type": "stream",
     "text": [
      "[I 2019-08-24 12:27:42,814] Finished trial#1293 resulted in value: -0.7727528881375035. Current best value is -0.7944491406029868 with parameters: {'w_lr': 0.018735636670162738, 'w_sv': 0.609782869522277, 'w_xgb': 0.1257268888344056, 'w_lgbm': 0.10282314833705018, 'w_mlp': 0.6409335052733912}.\n"
     ]
    },
    {
     "name": "stdout",
     "output_type": "stream",
     "text": [
      "[w_lr, w_lda, w_sv, w_xgb, w_lgbm,w_cb ] =  [0.076 0.    0.511 0.38  0.106 0.    0.733]\n",
      "AUC all:  0.7875457875457875\n",
      "\n"
     ]
    },
    {
     "name": "stderr",
     "output_type": "stream",
     "text": [
      "[I 2019-08-24 12:27:44,545] Finished trial#1294 resulted in value: -0.7875457875457875. Current best value is -0.7944491406029868 with parameters: {'w_lr': 0.018735636670162738, 'w_sv': 0.609782869522277, 'w_xgb': 0.1257268888344056, 'w_lgbm': 0.10282314833705018, 'w_mlp': 0.6409335052733912}.\n"
     ]
    },
    {
     "name": "stdout",
     "output_type": "stream",
     "text": [
      "[w_lr, w_lda, w_sv, w_xgb, w_lgbm,w_cb ] =  [0.126 0.    0.433 0.131 0.48  0.    0.343]\n",
      "AUC all:  0.7726120033812341\n",
      "\n"
     ]
    },
    {
     "name": "stderr",
     "output_type": "stream",
     "text": [
      "[I 2019-08-24 12:27:46,276] Finished trial#1295 resulted in value: -0.7726120033812341. Current best value is -0.7944491406029868 with parameters: {'w_lr': 0.018735636670162738, 'w_sv': 0.609782869522277, 'w_xgb': 0.1257268888344056, 'w_lgbm': 0.10282314833705018, 'w_mlp': 0.6409335052733912}.\n"
     ]
    },
    {
     "name": "stdout",
     "output_type": "stream",
     "text": [
      "[w_lr, w_lda, w_sv, w_xgb, w_lgbm,w_cb ] =  [0.031 0.    0.474 0.219 0.139 0.    0.761]\n",
      "AUC all:  0.7913496759650606\n",
      "\n"
     ]
    },
    {
     "name": "stderr",
     "output_type": "stream",
     "text": [
      "[I 2019-08-24 12:27:47,978] Finished trial#1296 resulted in value: -0.7913496759650606. Current best value is -0.7944491406029868 with parameters: {'w_lr': 0.018735636670162738, 'w_sv': 0.609782869522277, 'w_xgb': 0.1257268888344056, 'w_lgbm': 0.10282314833705018, 'w_mlp': 0.6409335052733912}.\n"
     ]
    },
    {
     "name": "stdout",
     "output_type": "stream",
     "text": [
      "[w_lr, w_lda, w_sv, w_xgb, w_lgbm,w_cb ] =  [0.02  0.    0.391 0.147 0.769 0.    0.751]\n",
      "AUC all:  0.774443505212736\n",
      "\n"
     ]
    },
    {
     "name": "stderr",
     "output_type": "stream",
     "text": [
      "[I 2019-08-24 12:27:49,707] Finished trial#1297 resulted in value: -0.774443505212736. Current best value is -0.7944491406029868 with parameters: {'w_lr': 0.018735636670162738, 'w_sv': 0.609782869522277, 'w_xgb': 0.1257268888344056, 'w_lgbm': 0.10282314833705018, 'w_mlp': 0.6409335052733912}.\n"
     ]
    },
    {
     "name": "stdout",
     "output_type": "stream",
     "text": [
      "[w_lr, w_lda, w_sv, w_xgb, w_lgbm,w_cb ] =  [0.035 0.    0.462 0.101 0.089 0.    0.776]\n",
      "AUC all:  0.7913496759650606\n",
      "\n"
     ]
    },
    {
     "name": "stderr",
     "output_type": "stream",
     "text": [
      "[I 2019-08-24 12:27:51,431] Finished trial#1298 resulted in value: -0.7913496759650606. Current best value is -0.7944491406029868 with parameters: {'w_lr': 0.018735636670162738, 'w_sv': 0.609782869522277, 'w_xgb': 0.1257268888344056, 'w_lgbm': 0.10282314833705018, 'w_mlp': 0.6409335052733912}.\n"
     ]
    },
    {
     "name": "stdout",
     "output_type": "stream",
     "text": [
      "[w_lr, w_lda, w_sv, w_xgb, w_lgbm,w_cb ] =  [0.052 0.    0.4   0.114 0.075 0.    0.613]\n",
      "AUC all:  0.790786136939983\n",
      "\n"
     ]
    },
    {
     "name": "stderr",
     "output_type": "stream",
     "text": [
      "[I 2019-08-24 12:27:53,158] Finished trial#1299 resulted in value: -0.790786136939983. Current best value is -0.7944491406029868 with parameters: {'w_lr': 0.018735636670162738, 'w_sv': 0.609782869522277, 'w_xgb': 0.1257268888344056, 'w_lgbm': 0.10282314833705018, 'w_mlp': 0.6409335052733912}.\n"
     ]
    },
    {
     "name": "stdout",
     "output_type": "stream",
     "text": [
      "[w_lr, w_lda, w_sv, w_xgb, w_lgbm,w_cb ] =  [0.451 0.    0.366 0.175 0.174 0.    0.776]\n",
      "AUC all:  0.7923358692589462\n",
      "\n"
     ]
    },
    {
     "name": "stderr",
     "output_type": "stream",
     "text": [
      "[I 2019-08-24 12:27:54,910] Finished trial#1300 resulted in value: -0.7923358692589462. Current best value is -0.7944491406029868 with parameters: {'w_lr': 0.018735636670162738, 'w_sv': 0.609782869522277, 'w_xgb': 0.1257268888344056, 'w_lgbm': 0.10282314833705018, 'w_mlp': 0.6409335052733912}.\n"
     ]
    },
    {
     "name": "stdout",
     "output_type": "stream",
     "text": [
      "[w_lr, w_lda, w_sv, w_xgb, w_lgbm,w_cb ] =  [0.001 0.    0.67  0.15  0.128 0.    0.645]\n",
      "AUC all:  0.7924767540152156\n",
      "\n"
     ]
    },
    {
     "name": "stderr",
     "output_type": "stream",
     "text": [
      "[I 2019-08-24 12:27:56,642] Finished trial#1301 resulted in value: -0.7924767540152156. Current best value is -0.7944491406029868 with parameters: {'w_lr': 0.018735636670162738, 'w_sv': 0.609782869522277, 'w_xgb': 0.1257268888344056, 'w_lgbm': 0.10282314833705018, 'w_mlp': 0.6409335052733912}.\n"
     ]
    },
    {
     "name": "stdout",
     "output_type": "stream",
     "text": [
      "[w_lr, w_lda, w_sv, w_xgb, w_lgbm,w_cb ] =  [0.147 0.    0.648 0.027 0.121 0.    0.582]\n",
      "AUC all:  0.7905043674274443\n",
      "\n"
     ]
    },
    {
     "name": "stderr",
     "output_type": "stream",
     "text": [
      "[I 2019-08-24 12:27:58,375] Finished trial#1302 resulted in value: -0.7905043674274443. Current best value is -0.7944491406029868 with parameters: {'w_lr': 0.018735636670162738, 'w_sv': 0.609782869522277, 'w_xgb': 0.1257268888344056, 'w_lgbm': 0.10282314833705018, 'w_mlp': 0.6409335052733912}.\n"
     ]
    },
    {
     "name": "stdout",
     "output_type": "stream",
     "text": [
      "[w_lr, w_lda, w_sv, w_xgb, w_lgbm,w_cb ] =  [0.081 0.    0.497 0.128 0.098 0.    0.553]\n",
      "AUC all:  0.7920540997464074\n",
      "\n"
     ]
    },
    {
     "name": "stderr",
     "output_type": "stream",
     "text": [
      "[I 2019-08-24 12:28:00,090] Finished trial#1303 resulted in value: -0.7920540997464074. Current best value is -0.7944491406029868 with parameters: {'w_lr': 0.018735636670162738, 'w_sv': 0.609782869522277, 'w_xgb': 0.1257268888344056, 'w_lgbm': 0.10282314833705018, 'w_mlp': 0.6409335052733912}.\n"
     ]
    },
    {
     "name": "stdout",
     "output_type": "stream",
     "text": [
      "[w_lr, w_lda, w_sv, w_xgb, w_lgbm,w_cb ] =  [0.    0.    0.591 0.084 0.059 0.    0.675]\n",
      "AUC all:  0.7909270216962524\n",
      "\n"
     ]
    },
    {
     "name": "stderr",
     "output_type": "stream",
     "text": [
      "[I 2019-08-24 12:28:01,836] Finished trial#1304 resulted in value: -0.7909270216962524. Current best value is -0.7944491406029868 with parameters: {'w_lr': 0.018735636670162738, 'w_sv': 0.609782869522277, 'w_xgb': 0.1257268888344056, 'w_lgbm': 0.10282314833705018, 'w_mlp': 0.6409335052733912}.\n"
     ]
    },
    {
     "name": "stdout",
     "output_type": "stream",
     "text": [
      "[w_lr, w_lda, w_sv, w_xgb, w_lgbm,w_cb ] =  [0.017 0.    0.585 0.134 0.08  0.    0.664]\n",
      "AUC all:  0.7909270216962524\n",
      "\n"
     ]
    },
    {
     "name": "stderr",
     "output_type": "stream",
     "text": [
      "[I 2019-08-24 12:28:03,607] Finished trial#1305 resulted in value: -0.7909270216962524. Current best value is -0.7944491406029868 with parameters: {'w_lr': 0.018735636670162738, 'w_sv': 0.609782869522277, 'w_xgb': 0.1257268888344056, 'w_lgbm': 0.10282314833705018, 'w_mlp': 0.6409335052733912}.\n"
     ]
    },
    {
     "name": "stdout",
     "output_type": "stream",
     "text": [
      "[w_lr, w_lda, w_sv, w_xgb, w_lgbm,w_cb ] =  [0.035 0.    0.449 0.152 0.189 0.    0.796]\n",
      "AUC all:  0.7917723302338687\n",
      "\n"
     ]
    },
    {
     "name": "stderr",
     "output_type": "stream",
     "text": [
      "[I 2019-08-24 12:28:05,342] Finished trial#1306 resulted in value: -0.7917723302338687. Current best value is -0.7944491406029868 with parameters: {'w_lr': 0.018735636670162738, 'w_sv': 0.609782869522277, 'w_xgb': 0.1257268888344056, 'w_lgbm': 0.10282314833705018, 'w_mlp': 0.6409335052733912}.\n"
     ]
    },
    {
     "name": "stdout",
     "output_type": "stream",
     "text": [
      "[w_lr, w_lda, w_sv, w_xgb, w_lgbm,w_cb ] =  [0.001 0.    0.558 0.109 0.097 0.    0.676]\n",
      "AUC all:  0.7936038320653704\n",
      "\n"
     ]
    },
    {
     "name": "stderr",
     "output_type": "stream",
     "text": [
      "[I 2019-08-24 12:28:07,061] Finished trial#1307 resulted in value: -0.7936038320653704. Current best value is -0.7944491406029868 with parameters: {'w_lr': 0.018735636670162738, 'w_sv': 0.609782869522277, 'w_xgb': 0.1257268888344056, 'w_lgbm': 0.10282314833705018, 'w_mlp': 0.6409335052733912}.\n"
     ]
    },
    {
     "name": "stdout",
     "output_type": "stream",
     "text": [
      "[w_lr, w_lda, w_sv, w_xgb, w_lgbm,w_cb ] =  [0.031 0.    0.469 0.192 0.15  0.    0.765]\n",
      "AUC all:  0.792617638771485\n",
      "\n"
     ]
    },
    {
     "name": "stderr",
     "output_type": "stream",
     "text": [
      "[I 2019-08-24 12:28:08,808] Finished trial#1308 resulted in value: -0.792617638771485. Current best value is -0.7944491406029868 with parameters: {'w_lr': 0.018735636670162738, 'w_sv': 0.609782869522277, 'w_xgb': 0.1257268888344056, 'w_lgbm': 0.10282314833705018, 'w_mlp': 0.6409335052733912}.\n"
     ]
    },
    {
     "name": "stdout",
     "output_type": "stream",
     "text": [
      "[w_lr, w_lda, w_sv, w_xgb, w_lgbm,w_cb ] =  [0.104 0.    0.495 0.172 0.158 0.    0.728]\n",
      "AUC all:  0.7931811777965624\n",
      "\n"
     ]
    },
    {
     "name": "stderr",
     "output_type": "stream",
     "text": [
      "[I 2019-08-24 12:28:10,584] Finished trial#1309 resulted in value: -0.7931811777965624. Current best value is -0.7944491406029868 with parameters: {'w_lr': 0.018735636670162738, 'w_sv': 0.609782869522277, 'w_xgb': 0.1257268888344056, 'w_lgbm': 0.10282314833705018, 'w_mlp': 0.6409335052733912}.\n"
     ]
    },
    {
     "name": "stdout",
     "output_type": "stream",
     "text": [
      "[w_lr, w_lda, w_sv, w_xgb, w_lgbm,w_cb ] =  [0.068 0.    0.367 0.14  0.13  0.    0.752]\n",
      "AUC all:  0.7930402930402929\n",
      "\n"
     ]
    },
    {
     "name": "stderr",
     "output_type": "stream",
     "text": [
      "[I 2019-08-24 12:28:12,311] Finished trial#1310 resulted in value: -0.7930402930402929. Current best value is -0.7944491406029868 with parameters: {'w_lr': 0.018735636670162738, 'w_sv': 0.609782869522277, 'w_xgb': 0.1257268888344056, 'w_lgbm': 0.10282314833705018, 'w_mlp': 0.6409335052733912}.\n"
     ]
    },
    {
     "name": "stdout",
     "output_type": "stream",
     "text": [
      "[w_lr, w_lda, w_sv, w_xgb, w_lgbm,w_cb ] =  [0.053 0.    0.446 0.157 0.11  0.    0.218]\n",
      "AUC all:  0.7905043674274443\n",
      "\n"
     ]
    },
    {
     "name": "stderr",
     "output_type": "stream",
     "text": [
      "[I 2019-08-24 12:28:14,046] Finished trial#1311 resulted in value: -0.7905043674274443. Current best value is -0.7944491406029868 with parameters: {'w_lr': 0.018735636670162738, 'w_sv': 0.609782869522277, 'w_xgb': 0.1257268888344056, 'w_lgbm': 0.10282314833705018, 'w_mlp': 0.6409335052733912}.\n"
     ]
    },
    {
     "name": "stdout",
     "output_type": "stream",
     "text": [
      "[w_lr, w_lda, w_sv, w_xgb, w_lgbm,w_cb ] =  [0.065 0.    0.414 0.175 0.14  0.    0.771]\n",
      "AUC all:  0.7928994082840237\n",
      "\n"
     ]
    },
    {
     "name": "stderr",
     "output_type": "stream",
     "text": [
      "[I 2019-08-24 12:28:15,796] Finished trial#1312 resulted in value: -0.7928994082840237. Current best value is -0.7944491406029868 with parameters: {'w_lr': 0.018735636670162738, 'w_sv': 0.609782869522277, 'w_xgb': 0.1257268888344056, 'w_lgbm': 0.10282314833705018, 'w_mlp': 0.6409335052733912}.\n"
     ]
    },
    {
     "name": "stdout",
     "output_type": "stream",
     "text": [
      "[w_lr, w_lda, w_sv, w_xgb, w_lgbm,w_cb ] =  [0.118 0.    0.471 0.595 0.124 0.    0.73 ]\n",
      "AUC all:  0.7840236686390532\n",
      "\n"
     ]
    },
    {
     "name": "stderr",
     "output_type": "stream",
     "text": [
      "[I 2019-08-24 12:28:17,547] Finished trial#1313 resulted in value: -0.7840236686390532. Current best value is -0.7944491406029868 with parameters: {'w_lr': 0.018735636670162738, 'w_sv': 0.609782869522277, 'w_xgb': 0.1257268888344056, 'w_lgbm': 0.10282314833705018, 'w_mlp': 0.6409335052733912}.\n"
     ]
    },
    {
     "name": "stdout",
     "output_type": "stream",
     "text": [
      "[w_lr, w_lda, w_sv, w_xgb, w_lgbm,w_cb ] =  [0.09  0.    0.404 0.119 0.113 0.    0.803]\n",
      "AUC all:  0.792617638771485\n",
      "\n"
     ]
    },
    {
     "name": "stderr",
     "output_type": "stream",
     "text": [
      "[I 2019-08-24 12:28:19,309] Finished trial#1314 resulted in value: -0.792617638771485. Current best value is -0.7944491406029868 with parameters: {'w_lr': 0.018735636670162738, 'w_sv': 0.609782869522277, 'w_xgb': 0.1257268888344056, 'w_lgbm': 0.10282314833705018, 'w_mlp': 0.6409335052733912}.\n"
     ]
    },
    {
     "name": "stdout",
     "output_type": "stream",
     "text": [
      "[w_lr, w_lda, w_sv, w_xgb, w_lgbm,w_cb ] =  [0.014 0.    0.597 0.097 0.049 0.    0.631]\n",
      "AUC all:  0.7893772893772893\n",
      "\n"
     ]
    },
    {
     "name": "stderr",
     "output_type": "stream",
     "text": [
      "[I 2019-08-24 12:28:21,049] Finished trial#1315 resulted in value: -0.7893772893772893. Current best value is -0.7944491406029868 with parameters: {'w_lr': 0.018735636670162738, 'w_sv': 0.609782869522277, 'w_xgb': 0.1257268888344056, 'w_lgbm': 0.10282314833705018, 'w_mlp': 0.6409335052733912}.\n"
     ]
    },
    {
     "name": "stdout",
     "output_type": "stream",
     "text": [
      "[w_lr, w_lda, w_sv, w_xgb, w_lgbm,w_cb ] =  [0.037 0.    0.612 0.068 0.066 0.    0.653]\n",
      "AUC all:  0.7916314454775993\n",
      "\n"
     ]
    },
    {
     "name": "stderr",
     "output_type": "stream",
     "text": [
      "[I 2019-08-24 12:28:22,806] Finished trial#1316 resulted in value: -0.7916314454775993. Current best value is -0.7944491406029868 with parameters: {'w_lr': 0.018735636670162738, 'w_sv': 0.609782869522277, 'w_xgb': 0.1257268888344056, 'w_lgbm': 0.10282314833705018, 'w_mlp': 0.6409335052733912}.\n"
     ]
    },
    {
     "name": "stdout",
     "output_type": "stream",
     "text": [
      "[w_lr, w_lda, w_sv, w_xgb, w_lgbm,w_cb ] =  [0.    0.    0.542 0.137 0.086 0.    0.71 ]\n",
      "AUC all:  0.7910679064525219\n",
      "\n"
     ]
    },
    {
     "name": "stderr",
     "output_type": "stream",
     "text": [
      "[I 2019-08-24 12:28:24,545] Finished trial#1317 resulted in value: -0.7910679064525219. Current best value is -0.7944491406029868 with parameters: {'w_lr': 0.018735636670162738, 'w_sv': 0.609782869522277, 'w_xgb': 0.1257268888344056, 'w_lgbm': 0.10282314833705018, 'w_mlp': 0.6409335052733912}.\n"
     ]
    },
    {
     "name": "stdout",
     "output_type": "stream",
     "text": [
      "[w_lr, w_lda, w_sv, w_xgb, w_lgbm,w_cb ] =  [0.022 0.    0.577 0.124 0.074 0.    0.699]\n",
      "AUC all:  0.7905043674274443\n",
      "\n"
     ]
    },
    {
     "name": "stderr",
     "output_type": "stream",
     "text": [
      "[I 2019-08-24 12:28:26,287] Finished trial#1318 resulted in value: -0.7905043674274443. Current best value is -0.7944491406029868 with parameters: {'w_lr': 0.018735636670162738, 'w_sv': 0.609782869522277, 'w_xgb': 0.1257268888344056, 'w_lgbm': 0.10282314833705018, 'w_mlp': 0.6409335052733912}.\n"
     ]
    },
    {
     "name": "stdout",
     "output_type": "stream",
     "text": [
      "[w_lr, w_lda, w_sv, w_xgb, w_lgbm,w_cb ] =  [0.017 0.    0.379 0.148 0.137 0.    0.904]\n",
      "AUC all:  0.7934629473091012\n",
      "\n"
     ]
    },
    {
     "name": "stderr",
     "output_type": "stream",
     "text": [
      "[I 2019-08-24 12:28:28,053] Finished trial#1319 resulted in value: -0.7934629473091012. Current best value is -0.7944491406029868 with parameters: {'w_lr': 0.018735636670162738, 'w_sv': 0.609782869522277, 'w_xgb': 0.1257268888344056, 'w_lgbm': 0.10282314833705018, 'w_mlp': 0.6409335052733912}.\n"
     ]
    },
    {
     "name": "stdout",
     "output_type": "stream",
     "text": [
      "[w_lr, w_lda, w_sv, w_xgb, w_lgbm,w_cb ] =  [0.036 0.    0.658 0.078 0.088 0.    0.6  ]\n",
      "AUC all:  0.793040293040293\n",
      "\n"
     ]
    },
    {
     "name": "stderr",
     "output_type": "stream",
     "text": [
      "[I 2019-08-24 12:28:29,812] Finished trial#1320 resulted in value: -0.793040293040293. Current best value is -0.7944491406029868 with parameters: {'w_lr': 0.018735636670162738, 'w_sv': 0.609782869522277, 'w_xgb': 0.1257268888344056, 'w_lgbm': 0.10282314833705018, 'w_mlp': 0.6409335052733912}.\n"
     ]
    },
    {
     "name": "stdout",
     "output_type": "stream",
     "text": [
      "[w_lr, w_lda, w_sv, w_xgb, w_lgbm,w_cb ] =  [0.062 0.    0.408 0.048 0.016 0.    0.785]\n",
      "AUC all:  0.7840236686390533\n",
      "\n"
     ]
    },
    {
     "name": "stderr",
     "output_type": "stream",
     "text": [
      "[I 2019-08-24 12:28:31,570] Finished trial#1321 resulted in value: -0.7840236686390533. Current best value is -0.7944491406029868 with parameters: {'w_lr': 0.018735636670162738, 'w_sv': 0.609782869522277, 'w_xgb': 0.1257268888344056, 'w_lgbm': 0.10282314833705018, 'w_mlp': 0.6409335052733912}.\n"
     ]
    },
    {
     "name": "stdout",
     "output_type": "stream",
     "text": [
      "[w_lr, w_lda, w_sv, w_xgb, w_lgbm,w_cb ] =  [0.078 0.    0.437 0.106 0.111 0.    0.767]\n",
      "AUC all:  0.7931811777965624\n",
      "\n"
     ]
    },
    {
     "name": "stderr",
     "output_type": "stream",
     "text": [
      "[I 2019-08-24 12:28:33,329] Finished trial#1322 resulted in value: -0.7931811777965624. Current best value is -0.7944491406029868 with parameters: {'w_lr': 0.018735636670162738, 'w_sv': 0.609782869522277, 'w_xgb': 0.1257268888344056, 'w_lgbm': 0.10282314833705018, 'w_mlp': 0.6409335052733912}.\n"
     ]
    },
    {
     "name": "stdout",
     "output_type": "stream",
     "text": [
      "[w_lr, w_lda, w_sv, w_xgb, w_lgbm,w_cb ] =  [0.041 0.    0.422 0.091 0.129 0.    0.793]\n",
      "AUC all:  0.7920540997464074\n",
      "\n"
     ]
    },
    {
     "name": "stderr",
     "output_type": "stream",
     "text": [
      "[I 2019-08-24 12:28:35,081] Finished trial#1323 resulted in value: -0.7920540997464074. Current best value is -0.7944491406029868 with parameters: {'w_lr': 0.018735636670162738, 'w_sv': 0.609782869522277, 'w_xgb': 0.1257268888344056, 'w_lgbm': 0.10282314833705018, 'w_mlp': 0.6409335052733912}.\n"
     ]
    },
    {
     "name": "stdout",
     "output_type": "stream",
     "text": [
      "[w_lr, w_lda, w_sv, w_xgb, w_lgbm,w_cb ] =  [0.021 0.    0.455 0.159 0.155 0.    0.776]\n",
      "AUC all:  0.7934629473091012\n",
      "\n"
     ]
    },
    {
     "name": "stderr",
     "output_type": "stream",
     "text": [
      "[I 2019-08-24 12:28:36,828] Finished trial#1324 resulted in value: -0.7934629473091012. Current best value is -0.7944491406029868 with parameters: {'w_lr': 0.018735636670162738, 'w_sv': 0.609782869522277, 'w_xgb': 0.1257268888344056, 'w_lgbm': 0.10282314833705018, 'w_mlp': 0.6409335052733912}.\n"
     ]
    },
    {
     "name": "stdout",
     "output_type": "stream",
     "text": [
      "[w_lr, w_lda, w_sv, w_xgb, w_lgbm,w_cb ] =  [0.054 0.    0.422 0.127 0.102 0.    0.807]\n",
      "AUC all:  0.7924767540152154\n",
      "\n"
     ]
    },
    {
     "name": "stderr",
     "output_type": "stream",
     "text": [
      "[I 2019-08-24 12:28:38,586] Finished trial#1325 resulted in value: -0.7924767540152154. Current best value is -0.7944491406029868 with parameters: {'w_lr': 0.018735636670162738, 'w_sv': 0.609782869522277, 'w_xgb': 0.1257268888344056, 'w_lgbm': 0.10282314833705018, 'w_mlp': 0.6409335052733912}.\n"
     ]
    },
    {
     "name": "stdout",
     "output_type": "stream",
     "text": [
      "[w_lr, w_lda, w_sv, w_xgb, w_lgbm,w_cb ] =  [0.017 0.    0.529 0.175 0.118 0.    0.698]\n",
      "AUC all:  0.791913214990138\n",
      "\n"
     ]
    },
    {
     "name": "stderr",
     "output_type": "stream",
     "text": [
      "[I 2019-08-24 12:28:40,348] Finished trial#1326 resulted in value: -0.791913214990138. Current best value is -0.7944491406029868 with parameters: {'w_lr': 0.018735636670162738, 'w_sv': 0.609782869522277, 'w_xgb': 0.1257268888344056, 'w_lgbm': 0.10282314833705018, 'w_mlp': 0.6409335052733912}.\n"
     ]
    },
    {
     "name": "stdout",
     "output_type": "stream",
     "text": [
      "[w_lr, w_lda, w_sv, w_xgb, w_lgbm,w_cb ] =  [0.002 0.    0.623 0.108 0.052 0.    0.624]\n",
      "AUC all:  0.7889546351084813\n",
      "\n"
     ]
    },
    {
     "name": "stderr",
     "output_type": "stream",
     "text": [
      "[I 2019-08-24 12:28:42,119] Finished trial#1327 resulted in value: -0.7889546351084813. Current best value is -0.7944491406029868 with parameters: {'w_lr': 0.018735636670162738, 'w_sv': 0.609782869522277, 'w_xgb': 0.1257268888344056, 'w_lgbm': 0.10282314833705018, 'w_mlp': 0.6409335052733912}.\n"
     ]
    },
    {
     "name": "stdout",
     "output_type": "stream",
     "text": [
      "[w_lr, w_lda, w_sv, w_xgb, w_lgbm,w_cb ] =  [0.    0.    0.64  0.136 0.094 0.    0.694]\n",
      "AUC all:  0.7917723302338686\n",
      "\n"
     ]
    },
    {
     "name": "stderr",
     "output_type": "stream",
     "text": [
      "[I 2019-08-24 12:28:43,872] Finished trial#1328 resulted in value: -0.7917723302338686. Current best value is -0.7944491406029868 with parameters: {'w_lr': 0.018735636670162738, 'w_sv': 0.609782869522277, 'w_xgb': 0.1257268888344056, 'w_lgbm': 0.10282314833705018, 'w_mlp': 0.6409335052733912}.\n"
     ]
    },
    {
     "name": "stdout",
     "output_type": "stream",
     "text": [
      "[w_lr, w_lda, w_sv, w_xgb, w_lgbm,w_cb ] =  [0.093 0.    0.557 0.136 0.109 0.    0.734]\n",
      "AUC all:  0.7937447168216398\n",
      "\n"
     ]
    },
    {
     "name": "stderr",
     "output_type": "stream",
     "text": [
      "[I 2019-08-24 12:28:45,639] Finished trial#1329 resulted in value: -0.7937447168216398. Current best value is -0.7944491406029868 with parameters: {'w_lr': 0.018735636670162738, 'w_sv': 0.609782869522277, 'w_xgb': 0.1257268888344056, 'w_lgbm': 0.10282314833705018, 'w_mlp': 0.6409335052733912}.\n"
     ]
    },
    {
     "name": "stdout",
     "output_type": "stream",
     "text": [
      "[w_lr, w_lda, w_sv, w_xgb, w_lgbm,w_cb ] =  [0.043 0.    0.666 0.2   0.147 0.    0.717]\n",
      "AUC all:  0.791913214990138\n",
      "\n"
     ]
    },
    {
     "name": "stderr",
     "output_type": "stream",
     "text": [
      "[I 2019-08-24 12:28:47,398] Finished trial#1330 resulted in value: -0.791913214990138. Current best value is -0.7944491406029868 with parameters: {'w_lr': 0.018735636670162738, 'w_sv': 0.609782869522277, 'w_xgb': 0.1257268888344056, 'w_lgbm': 0.10282314833705018, 'w_mlp': 0.6409335052733912}.\n"
     ]
    },
    {
     "name": "stdout",
     "output_type": "stream",
     "text": [
      "[w_lr, w_lda, w_sv, w_xgb, w_lgbm,w_cb ] =  [0.076 0.    0.72  0.1   0.075 0.    0.613]\n",
      "AUC all:  0.7920540997464074\n",
      "\n"
     ]
    },
    {
     "name": "stderr",
     "output_type": "stream",
     "text": [
      "[I 2019-08-24 12:28:49,170] Finished trial#1331 resulted in value: -0.7920540997464074. Current best value is -0.7944491406029868 with parameters: {'w_lr': 0.018735636670162738, 'w_sv': 0.609782869522277, 'w_xgb': 0.1257268888344056, 'w_lgbm': 0.10282314833705018, 'w_mlp': 0.6409335052733912}.\n"
     ]
    },
    {
     "name": "stdout",
     "output_type": "stream",
     "text": [
      "[w_lr, w_lda, w_sv, w_xgb, w_lgbm,w_cb ] =  [0.064 0.    0.468 0.167 0.178 0.    0.764]\n",
      "AUC all:  0.7921949845026769\n",
      "\n"
     ]
    },
    {
     "name": "stderr",
     "output_type": "stream",
     "text": [
      "[I 2019-08-24 12:28:50,930] Finished trial#1332 resulted in value: -0.7921949845026769. Current best value is -0.7944491406029868 with parameters: {'w_lr': 0.018735636670162738, 'w_sv': 0.609782869522277, 'w_xgb': 0.1257268888344056, 'w_lgbm': 0.10282314833705018, 'w_mlp': 0.6409335052733912}.\n"
     ]
    },
    {
     "name": "stdout",
     "output_type": "stream",
     "text": [
      "[w_lr, w_lda, w_sv, w_xgb, w_lgbm,w_cb ] =  [0.    0.    0.688 0.123 0.093 0.    0.566]\n",
      "AUC all:  0.7933220625528317\n",
      "\n"
     ]
    },
    {
     "name": "stderr",
     "output_type": "stream",
     "text": [
      "[I 2019-08-24 12:28:52,721] Finished trial#1333 resulted in value: -0.7933220625528317. Current best value is -0.7944491406029868 with parameters: {'w_lr': 0.018735636670162738, 'w_sv': 0.609782869522277, 'w_xgb': 0.1257268888344056, 'w_lgbm': 0.10282314833705018, 'w_mlp': 0.6409335052733912}.\n"
     ]
    },
    {
     "name": "stdout",
     "output_type": "stream",
     "text": [
      "[w_lr, w_lda, w_sv, w_xgb, w_lgbm,w_cb ] =  [0.038 0.    0.64  0.09  0.032 0.    0.508]\n",
      "AUC all:  0.7864187094956325\n",
      "\n"
     ]
    },
    {
     "name": "stderr",
     "output_type": "stream",
     "text": [
      "[I 2019-08-24 12:28:54,513] Finished trial#1334 resulted in value: -0.7864187094956325. Current best value is -0.7944491406029868 with parameters: {'w_lr': 0.018735636670162738, 'w_sv': 0.609782869522277, 'w_xgb': 0.1257268888344056, 'w_lgbm': 0.10282314833705018, 'w_mlp': 0.6409335052733912}.\n"
     ]
    },
    {
     "name": "stdout",
     "output_type": "stream",
     "text": [
      "[w_lr, w_lda, w_sv, w_xgb, w_lgbm,w_cb ] =  [0.141 0.    0.748 0.153 0.135 0.    0.746]\n",
      "AUC all:  0.793040293040293\n",
      "\n"
     ]
    },
    {
     "name": "stderr",
     "output_type": "stream",
     "text": [
      "[I 2019-08-24 12:28:56,293] Finished trial#1335 resulted in value: -0.793040293040293. Current best value is -0.7944491406029868 with parameters: {'w_lr': 0.018735636670162738, 'w_sv': 0.609782869522277, 'w_xgb': 0.1257268888344056, 'w_lgbm': 0.10282314833705018, 'w_mlp': 0.6409335052733912}.\n"
     ]
    },
    {
     "name": "stdout",
     "output_type": "stream",
     "text": [
      "[w_lr, w_lda, w_sv, w_xgb, w_lgbm,w_cb ] =  [0.094 0.    0.446 0.188 0.208 0.    0.761]\n",
      "AUC all:  0.7921949845026769\n",
      "\n"
     ]
    },
    {
     "name": "stderr",
     "output_type": "stream",
     "text": [
      "[I 2019-08-24 12:28:58,086] Finished trial#1336 resulted in value: -0.7921949845026769. Current best value is -0.7944491406029868 with parameters: {'w_lr': 0.018735636670162738, 'w_sv': 0.609782869522277, 'w_xgb': 0.1257268888344056, 'w_lgbm': 0.10282314833705018, 'w_mlp': 0.6409335052733912}.\n"
     ]
    },
    {
     "name": "stdout",
     "output_type": "stream",
     "text": [
      "[w_lr, w_lda, w_sv, w_xgb, w_lgbm,w_cb ] =  [0.03  0.    0.604 0.11  0.071 0.    0.591]\n",
      "AUC all:  0.7907861369399832\n",
      "\n"
     ]
    },
    {
     "name": "stderr",
     "output_type": "stream",
     "text": [
      "[I 2019-08-24 12:28:59,886] Finished trial#1337 resulted in value: -0.7907861369399832. Current best value is -0.7944491406029868 with parameters: {'w_lr': 0.018735636670162738, 'w_sv': 0.609782869522277, 'w_xgb': 0.1257268888344056, 'w_lgbm': 0.10282314833705018, 'w_mlp': 0.6409335052733912}.\n"
     ]
    },
    {
     "name": "stdout",
     "output_type": "stream",
     "text": [
      "[w_lr, w_lda, w_sv, w_xgb, w_lgbm,w_cb ] =  [0.09  0.    0.4   0.159 0.125 0.    0.734]\n",
      "AUC all:  0.7933220625528318\n",
      "\n"
     ]
    },
    {
     "name": "stderr",
     "output_type": "stream",
     "text": [
      "[I 2019-08-24 12:29:01,679] Finished trial#1338 resulted in value: -0.7933220625528318. Current best value is -0.7944491406029868 with parameters: {'w_lr': 0.018735636670162738, 'w_sv': 0.609782869522277, 'w_xgb': 0.1257268888344056, 'w_lgbm': 0.10282314833705018, 'w_mlp': 0.6409335052733912}.\n"
     ]
    },
    {
     "name": "stdout",
     "output_type": "stream",
     "text": [
      "[w_lr, w_lda, w_sv, w_xgb, w_lgbm,w_cb ] =  [0.001 0.    0.591 0.133 0.096 0.    0.671]\n",
      "AUC all:  0.7930402930402929\n",
      "\n"
     ]
    },
    {
     "name": "stderr",
     "output_type": "stream",
     "text": [
      "[I 2019-08-24 12:29:03,494] Finished trial#1339 resulted in value: -0.7930402930402929. Current best value is -0.7944491406029868 with parameters: {'w_lr': 0.018735636670162738, 'w_sv': 0.609782869522277, 'w_xgb': 0.1257268888344056, 'w_lgbm': 0.10282314833705018, 'w_mlp': 0.6409335052733912}.\n"
     ]
    },
    {
     "name": "stdout",
     "output_type": "stream",
     "text": [
      "[w_lr, w_lda, w_sv, w_xgb, w_lgbm,w_cb ] =  [0.065 0.    0.465 0.201 0.164 0.    0.747]\n",
      "AUC all:  0.7927585235277543\n",
      "\n"
     ]
    },
    {
     "name": "stderr",
     "output_type": "stream",
     "text": [
      "[I 2019-08-24 12:29:05,366] Finished trial#1340 resulted in value: -0.7927585235277543. Current best value is -0.7944491406029868 with parameters: {'w_lr': 0.018735636670162738, 'w_sv': 0.609782869522277, 'w_xgb': 0.1257268888344056, 'w_lgbm': 0.10282314833705018, 'w_mlp': 0.6409335052733912}.\n"
     ]
    },
    {
     "name": "stdout",
     "output_type": "stream",
     "text": [
      "[w_lr, w_lda, w_sv, w_xgb, w_lgbm,w_cb ] =  [0.021 0.    0.63  0.139 0.11  0.    0.653]\n",
      "AUC all:  0.7933220625528318\n",
      "\n"
     ]
    },
    {
     "name": "stderr",
     "output_type": "stream",
     "text": [
      "[I 2019-08-24 12:29:07,272] Finished trial#1341 resulted in value: -0.7933220625528318. Current best value is -0.7944491406029868 with parameters: {'w_lr': 0.018735636670162738, 'w_sv': 0.609782869522277, 'w_xgb': 0.1257268888344056, 'w_lgbm': 0.10282314833705018, 'w_mlp': 0.6409335052733912}.\n"
     ]
    },
    {
     "name": "stdout",
     "output_type": "stream",
     "text": [
      "[w_lr, w_lda, w_sv, w_xgb, w_lgbm,w_cb ] =  [0.055 0.    0.559 0.165 0.135 0.    0.705]\n",
      "AUC all:  0.7931811777965624\n",
      "\n"
     ]
    },
    {
     "name": "stderr",
     "output_type": "stream",
     "text": [
      "[I 2019-08-24 12:29:09,159] Finished trial#1342 resulted in value: -0.7931811777965624. Current best value is -0.7944491406029868 with parameters: {'w_lr': 0.018735636670162738, 'w_sv': 0.609782869522277, 'w_xgb': 0.1257268888344056, 'w_lgbm': 0.10282314833705018, 'w_mlp': 0.6409335052733912}.\n"
     ]
    },
    {
     "name": "stdout",
     "output_type": "stream",
     "text": [
      "[w_lr, w_lda, w_sv, w_xgb, w_lgbm,w_cb ] =  [0.035 0.    0.436 0.119 0.115 0.    0.822]\n",
      "AUC all:  0.7928994082840236\n",
      "\n"
     ]
    },
    {
     "name": "stderr",
     "output_type": "stream",
     "text": [
      "[I 2019-08-24 12:29:11,015] Finished trial#1343 resulted in value: -0.7928994082840236. Current best value is -0.7944491406029868 with parameters: {'w_lr': 0.018735636670162738, 'w_sv': 0.609782869522277, 'w_xgb': 0.1257268888344056, 'w_lgbm': 0.10282314833705018, 'w_mlp': 0.6409335052733912}.\n"
     ]
    },
    {
     "name": "stdout",
     "output_type": "stream",
     "text": [
      "[w_lr, w_lda, w_sv, w_xgb, w_lgbm,w_cb ] =  [0.583 0.    0.546 0.151 0.065 0.    0.683]\n",
      "AUC all:  0.7881093265708652\n",
      "\n"
     ]
    },
    {
     "name": "stderr",
     "output_type": "stream",
     "text": [
      "[I 2019-08-24 12:29:12,821] Finished trial#1344 resulted in value: -0.7881093265708652. Current best value is -0.7944491406029868 with parameters: {'w_lr': 0.018735636670162738, 'w_sv': 0.609782869522277, 'w_xgb': 0.1257268888344056, 'w_lgbm': 0.10282314833705018, 'w_mlp': 0.6409335052733912}.\n"
     ]
    },
    {
     "name": "stdout",
     "output_type": "stream",
     "text": [
      "[w_lr, w_lda, w_sv, w_xgb, w_lgbm,w_cb ] =  [0.052 0.    0.48  0.147 0.092 0.    0.449]\n",
      "AUC all:  0.7910679064525219\n",
      "\n"
     ]
    },
    {
     "name": "stderr",
     "output_type": "stream",
     "text": [
      "[I 2019-08-24 12:29:14,605] Finished trial#1345 resulted in value: -0.7910679064525219. Current best value is -0.7944491406029868 with parameters: {'w_lr': 0.018735636670162738, 'w_sv': 0.609782869522277, 'w_xgb': 0.1257268888344056, 'w_lgbm': 0.10282314833705018, 'w_mlp': 0.6409335052733912}.\n"
     ]
    },
    {
     "name": "stdout",
     "output_type": "stream",
     "text": [
      "[w_lr, w_lda, w_sv, w_xgb, w_lgbm,w_cb ] =  [0.067 0.    0.504 0.174 0.158 0.    0.75 ]\n",
      "AUC all:  0.7928994082840236\n",
      "\n"
     ]
    },
    {
     "name": "stderr",
     "output_type": "stream",
     "text": [
      "[I 2019-08-24 12:29:16,421] Finished trial#1346 resulted in value: -0.7928994082840236. Current best value is -0.7944491406029868 with parameters: {'w_lr': 0.018735636670162738, 'w_sv': 0.609782869522277, 'w_xgb': 0.1257268888344056, 'w_lgbm': 0.10282314833705018, 'w_mlp': 0.6409335052733912}.\n"
     ]
    },
    {
     "name": "stdout",
     "output_type": "stream",
     "text": [
      "[w_lr, w_lda, w_sv, w_xgb, w_lgbm,w_cb ] =  [0.037 0.    0.422 0.125 0.128 0.    0.795]\n",
      "AUC all:  0.7924767540152154\n",
      "\n"
     ]
    },
    {
     "name": "stderr",
     "output_type": "stream",
     "text": [
      "[I 2019-08-24 12:29:18,236] Finished trial#1347 resulted in value: -0.7924767540152154. Current best value is -0.7944491406029868 with parameters: {'w_lr': 0.018735636670162738, 'w_sv': 0.609782869522277, 'w_xgb': 0.1257268888344056, 'w_lgbm': 0.10282314833705018, 'w_mlp': 0.6409335052733912}.\n"
     ]
    },
    {
     "name": "stdout",
     "output_type": "stream",
     "text": [
      "[w_lr, w_lda, w_sv, w_xgb, w_lgbm,w_cb ] =  [0.11  0.    0.582 0.057 0.053 0.    0.64 ]\n",
      "AUC all:  0.7912087912087912\n",
      "\n"
     ]
    },
    {
     "name": "stderr",
     "output_type": "stream",
     "text": [
      "[I 2019-08-24 12:29:20,045] Finished trial#1348 resulted in value: -0.7912087912087912. Current best value is -0.7944491406029868 with parameters: {'w_lr': 0.018735636670162738, 'w_sv': 0.609782869522277, 'w_xgb': 0.1257268888344056, 'w_lgbm': 0.10282314833705018, 'w_mlp': 0.6409335052733912}.\n"
     ]
    },
    {
     "name": "stdout",
     "output_type": "stream",
     "text": [
      "[w_lr, w_lda, w_sv, w_xgb, w_lgbm,w_cb ] =  [0.065 0.    0.657 0.089 0.08  0.    0.623]\n",
      "AUC all:  0.7923358692589462\n",
      "\n"
     ]
    },
    {
     "name": "stderr",
     "output_type": "stream",
     "text": [
      "[I 2019-08-24 12:29:21,859] Finished trial#1349 resulted in value: -0.7923358692589462. Current best value is -0.7944491406029868 with parameters: {'w_lr': 0.018735636670162738, 'w_sv': 0.609782869522277, 'w_xgb': 0.1257268888344056, 'w_lgbm': 0.10282314833705018, 'w_mlp': 0.6409335052733912}.\n"
     ]
    },
    {
     "name": "stdout",
     "output_type": "stream",
     "text": [
      "[w_lr, w_lda, w_sv, w_xgb, w_lgbm,w_cb ] =  [0.088 0.    0.636 0.107 0.095 0.    0.61 ]\n",
      "AUC all:  0.7933220625528317\n",
      "\n"
     ]
    },
    {
     "name": "stderr",
     "output_type": "stream",
     "text": [
      "[I 2019-08-24 12:29:23,655] Finished trial#1350 resulted in value: -0.7933220625528317. Current best value is -0.7944491406029868 with parameters: {'w_lr': 0.018735636670162738, 'w_sv': 0.609782869522277, 'w_xgb': 0.1257268888344056, 'w_lgbm': 0.10282314833705018, 'w_mlp': 0.6409335052733912}.\n"
     ]
    },
    {
     "name": "stdout",
     "output_type": "stream",
     "text": [
      "[w_lr, w_lda, w_sv, w_xgb, w_lgbm,w_cb ] =  [0.043 0.    0.685 0.078 0.079 0.    0.639]\n",
      "AUC all:  0.7920540997464074\n",
      "\n"
     ]
    },
    {
     "name": "stderr",
     "output_type": "stream",
     "text": [
      "[I 2019-08-24 12:29:25,445] Finished trial#1351 resulted in value: -0.7920540997464074. Current best value is -0.7944491406029868 with parameters: {'w_lr': 0.018735636670162738, 'w_sv': 0.609782869522277, 'w_xgb': 0.1257268888344056, 'w_lgbm': 0.10282314833705018, 'w_mlp': 0.6409335052733912}.\n"
     ]
    },
    {
     "name": "stdout",
     "output_type": "stream",
     "text": [
      "[w_lr, w_lda, w_sv, w_xgb, w_lgbm,w_cb ] =  [0.1   0.    0.351 0.149 0.389 0.    0.754]\n",
      "AUC all:  0.7864187094956326\n",
      "\n"
     ]
    },
    {
     "name": "stderr",
     "output_type": "stream",
     "text": [
      "[I 2019-08-24 12:29:27,252] Finished trial#1352 resulted in value: -0.7864187094956326. Current best value is -0.7944491406029868 with parameters: {'w_lr': 0.018735636670162738, 'w_sv': 0.609782869522277, 'w_xgb': 0.1257268888344056, 'w_lgbm': 0.10282314833705018, 'w_mlp': 0.6409335052733912}.\n"
     ]
    },
    {
     "name": "stdout",
     "output_type": "stream",
     "text": [
      "[w_lr, w_lda, w_sv, w_xgb, w_lgbm,w_cb ] =  [0.078 0.    0.521 0.016 0.111 0.    0.581]\n",
      "AUC all:  0.7910679064525219\n",
      "\n"
     ]
    },
    {
     "name": "stderr",
     "output_type": "stream",
     "text": [
      "[I 2019-08-24 12:29:29,064] Finished trial#1353 resulted in value: -0.7910679064525219. Current best value is -0.7944491406029868 with parameters: {'w_lr': 0.018735636670162738, 'w_sv': 0.609782869522277, 'w_xgb': 0.1257268888344056, 'w_lgbm': 0.10282314833705018, 'w_mlp': 0.6409335052733912}.\n"
     ]
    },
    {
     "name": "stdout",
     "output_type": "stream",
     "text": [
      "[w_lr, w_lda, w_sv, w_xgb, w_lgbm,w_cb ] =  [0.118 0.    0.335 0.115 0.291 0.    0.73 ]\n",
      "AUC all:  0.7893772893772893\n",
      "\n"
     ]
    },
    {
     "name": "stderr",
     "output_type": "stream",
     "text": [
      "[I 2019-08-24 12:29:30,863] Finished trial#1354 resulted in value: -0.7893772893772893. Current best value is -0.7944491406029868 with parameters: {'w_lr': 0.018735636670162738, 'w_sv': 0.609782869522277, 'w_xgb': 0.1257268888344056, 'w_lgbm': 0.10282314833705018, 'w_mlp': 0.6409335052733912}.\n"
     ]
    },
    {
     "name": "stdout",
     "output_type": "stream",
     "text": [
      "[w_lr, w_lda, w_sv, w_xgb, w_lgbm,w_cb ] =  [0.052 0.    0.476 0.131 0.134 0.    0.781]\n",
      "AUC all:  0.7927585235277542\n",
      "\n"
     ]
    },
    {
     "name": "stderr",
     "output_type": "stream",
     "text": [
      "[I 2019-08-24 12:29:32,688] Finished trial#1355 resulted in value: -0.7927585235277542. Current best value is -0.7944491406029868 with parameters: {'w_lr': 0.018735636670162738, 'w_sv': 0.609782869522277, 'w_xgb': 0.1257268888344056, 'w_lgbm': 0.10282314833705018, 'w_mlp': 0.6409335052733912}.\n"
     ]
    },
    {
     "name": "stdout",
     "output_type": "stream",
     "text": [
      "[w_lr, w_lda, w_sv, w_xgb, w_lgbm,w_cb ] =  [0.07  0.    0.495 0.174 0.115 0.    0.716]\n",
      "AUC all:  0.7921949845026768\n",
      "\n"
     ]
    },
    {
     "name": "stderr",
     "output_type": "stream",
     "text": [
      "[I 2019-08-24 12:29:34,521] Finished trial#1356 resulted in value: -0.7921949845026768. Current best value is -0.7944491406029868 with parameters: {'w_lr': 0.018735636670162738, 'w_sv': 0.609782869522277, 'w_xgb': 0.1257268888344056, 'w_lgbm': 0.10282314833705018, 'w_mlp': 0.6409335052733912}.\n"
     ]
    },
    {
     "name": "stdout",
     "output_type": "stream",
     "text": [
      "[w_lr, w_lda, w_sv, w_xgb, w_lgbm,w_cb ] =  [0.02  0.    0.55  0.668 0.043 0.    0.681]\n",
      "AUC all:  0.7737390814313891\n",
      "\n"
     ]
    },
    {
     "name": "stderr",
     "output_type": "stream",
     "text": [
      "[I 2019-08-24 12:29:36,353] Finished trial#1357 resulted in value: -0.7737390814313891. Current best value is -0.7944491406029868 with parameters: {'w_lr': 0.018735636670162738, 'w_sv': 0.609782869522277, 'w_xgb': 0.1257268888344056, 'w_lgbm': 0.10282314833705018, 'w_mlp': 0.6409335052733912}.\n"
     ]
    },
    {
     "name": "stdout",
     "output_type": "stream",
     "text": [
      "[w_lr, w_lda, w_sv, w_xgb, w_lgbm,w_cb ] =  [0.014 0.    0.665 0.144 0.147 0.    0.856]\n",
      "AUC all:  0.7927585235277542\n",
      "\n"
     ]
    },
    {
     "name": "stderr",
     "output_type": "stream",
     "text": [
      "[I 2019-08-24 12:29:38,172] Finished trial#1358 resulted in value: -0.7927585235277542. Current best value is -0.7944491406029868 with parameters: {'w_lr': 0.018735636670162738, 'w_sv': 0.609782869522277, 'w_xgb': 0.1257268888344056, 'w_lgbm': 0.10282314833705018, 'w_mlp': 0.6409335052733912}.\n"
     ]
    },
    {
     "name": "stdout",
     "output_type": "stream",
     "text": [
      "[w_lr, w_lda, w_sv, w_xgb, w_lgbm,w_cb ] =  [0.035 0.    0.641 0.157 0.107 0.    0.657]\n",
      "AUC all:  0.7926176387714848\n",
      "\n"
     ]
    },
    {
     "name": "stderr",
     "output_type": "stream",
     "text": [
      "[I 2019-08-24 12:29:39,978] Finished trial#1359 resulted in value: -0.7926176387714848. Current best value is -0.7944491406029868 with parameters: {'w_lr': 0.018735636670162738, 'w_sv': 0.609782869522277, 'w_xgb': 0.1257268888344056, 'w_lgbm': 0.10282314833705018, 'w_mlp': 0.6409335052733912}.\n"
     ]
    },
    {
     "name": "stdout",
     "output_type": "stream",
     "text": [
      "[w_lr, w_lda, w_sv, w_xgb, w_lgbm,w_cb ] =  [0.049 0.    0.402 0.105 0.126 0.    0.811]\n",
      "AUC all:  0.7927585235277543\n",
      "\n"
     ]
    },
    {
     "name": "stderr",
     "output_type": "stream",
     "text": [
      "[I 2019-08-24 12:29:41,776] Finished trial#1360 resulted in value: -0.7927585235277543. Current best value is -0.7944491406029868 with parameters: {'w_lr': 0.018735636670162738, 'w_sv': 0.609782869522277, 'w_xgb': 0.1257268888344056, 'w_lgbm': 0.10282314833705018, 'w_mlp': 0.6409335052733912}.\n"
     ]
    },
    {
     "name": "stdout",
     "output_type": "stream",
     "text": [
      "[w_lr, w_lda, w_sv, w_xgb, w_lgbm,w_cb ] =  [0.    0.    0.503 0.221 0.099 0.    0.675]\n",
      "AUC all:  0.7890955198647506\n",
      "\n"
     ]
    },
    {
     "name": "stderr",
     "output_type": "stream",
     "text": [
      "[I 2019-08-24 12:29:43,614] Finished trial#1361 resulted in value: -0.7890955198647506. Current best value is -0.7944491406029868 with parameters: {'w_lr': 0.018735636670162738, 'w_sv': 0.609782869522277, 'w_xgb': 0.1257268888344056, 'w_lgbm': 0.10282314833705018, 'w_mlp': 0.6409335052733912}.\n"
     ]
    },
    {
     "name": "stdout",
     "output_type": "stream",
     "text": [
      "[w_lr, w_lda, w_sv, w_xgb, w_lgbm,w_cb ] =  [0.311 0.    0.486 0.189 0.137 0.    0.386]\n",
      "AUC all:  0.7900817131586362\n",
      "\n"
     ]
    },
    {
     "name": "stderr",
     "output_type": "stream",
     "text": [
      "[I 2019-08-24 12:29:45,431] Finished trial#1362 resulted in value: -0.7900817131586362. Current best value is -0.7944491406029868 with parameters: {'w_lr': 0.018735636670162738, 'w_sv': 0.609782869522277, 'w_xgb': 0.1257268888344056, 'w_lgbm': 0.10282314833705018, 'w_mlp': 0.6409335052733912}.\n"
     ]
    },
    {
     "name": "stdout",
     "output_type": "stream",
     "text": [
      "[w_lr, w_lda, w_sv, w_xgb, w_lgbm,w_cb ] =  [0.087 0.    0.446 0.159 0.07  0.    0.745]\n",
      "AUC all:  0.7886728655959425\n",
      "\n"
     ]
    },
    {
     "name": "stderr",
     "output_type": "stream",
     "text": [
      "[I 2019-08-24 12:29:47,244] Finished trial#1363 resulted in value: -0.7886728655959425. Current best value is -0.7944491406029868 with parameters: {'w_lr': 0.018735636670162738, 'w_sv': 0.609782869522277, 'w_xgb': 0.1257268888344056, 'w_lgbm': 0.10282314833705018, 'w_mlp': 0.6409335052733912}.\n"
     ]
    },
    {
     "name": "stdout",
     "output_type": "stream",
     "text": [
      "[w_lr, w_lda, w_sv, w_xgb, w_lgbm,w_cb ] =  [0.073 0.    0.617 0.055 0.06  0.    0.65 ]\n",
      "AUC all:  0.7928994082840237\n",
      "\n"
     ]
    },
    {
     "name": "stderr",
     "output_type": "stream",
     "text": [
      "[I 2019-08-24 12:29:49,063] Finished trial#1364 resulted in value: -0.7928994082840237. Current best value is -0.7944491406029868 with parameters: {'w_lr': 0.018735636670162738, 'w_sv': 0.609782869522277, 'w_xgb': 0.1257268888344056, 'w_lgbm': 0.10282314833705018, 'w_mlp': 0.6409335052733912}.\n"
     ]
    },
    {
     "name": "stdout",
     "output_type": "stream",
     "text": [
      "[w_lr, w_lda, w_sv, w_xgb, w_lgbm,w_cb ] =  [0.052 0.    0.456 0.177 0.178 0.    0.78 ]\n",
      "AUC all:  0.7919132149901381\n",
      "\n"
     ]
    },
    {
     "name": "stderr",
     "output_type": "stream",
     "text": [
      "[I 2019-08-24 12:29:50,875] Finished trial#1365 resulted in value: -0.7919132149901381. Current best value is -0.7944491406029868 with parameters: {'w_lr': 0.018735636670162738, 'w_sv': 0.609782869522277, 'w_xgb': 0.1257268888344056, 'w_lgbm': 0.10282314833705018, 'w_mlp': 0.6409335052733912}.\n"
     ]
    },
    {
     "name": "stdout",
     "output_type": "stream",
     "text": [
      "[w_lr, w_lda, w_sv, w_xgb, w_lgbm,w_cb ] =  [0.082 0.    0.618 0.085 0.088 0.    0.611]\n",
      "AUC all:  0.7931811777965623\n",
      "\n"
     ]
    },
    {
     "name": "stderr",
     "output_type": "stream",
     "text": [
      "[I 2019-08-24 12:29:52,692] Finished trial#1366 resulted in value: -0.7931811777965623. Current best value is -0.7944491406029868 with parameters: {'w_lr': 0.018735636670162738, 'w_sv': 0.609782869522277, 'w_xgb': 0.1257268888344056, 'w_lgbm': 0.10282314833705018, 'w_mlp': 0.6409335052733912}.\n"
     ]
    },
    {
     "name": "stdout",
     "output_type": "stream",
     "text": [
      "[w_lr, w_lda, w_sv, w_xgb, w_lgbm,w_cb ] =  [0.018 0.    0.706 0.115 0.078 0.    1.   ]\n",
      "AUC all:  0.7900817131586363\n",
      "\n"
     ]
    },
    {
     "name": "stderr",
     "output_type": "stream",
     "text": [
      "[I 2019-08-24 12:29:54,505] Finished trial#1367 resulted in value: -0.7900817131586363. Current best value is -0.7944491406029868 with parameters: {'w_lr': 0.018735636670162738, 'w_sv': 0.609782869522277, 'w_xgb': 0.1257268888344056, 'w_lgbm': 0.10282314833705018, 'w_mlp': 0.6409335052733912}.\n"
     ]
    },
    {
     "name": "stdout",
     "output_type": "stream",
     "text": [
      "[w_lr, w_lda, w_sv, w_xgb, w_lgbm,w_cb ] =  [0.108 0.    0.599 0.105 0.028 0.    0.593]\n",
      "AUC all:  0.7852916314454775\n",
      "\n"
     ]
    },
    {
     "name": "stderr",
     "output_type": "stream",
     "text": [
      "[I 2019-08-24 12:29:56,336] Finished trial#1368 resulted in value: -0.7852916314454775. Current best value is -0.7944491406029868 with parameters: {'w_lr': 0.018735636670162738, 'w_sv': 0.609782869522277, 'w_xgb': 0.1257268888344056, 'w_lgbm': 0.10282314833705018, 'w_mlp': 0.6409335052733912}.\n"
     ]
    },
    {
     "name": "stdout",
     "output_type": "stream",
     "text": [
      "[w_lr, w_lda, w_sv, w_xgb, w_lgbm,w_cb ] =  [0.043 0.    0.39  0.136 0.165 0.    0.819]\n",
      "AUC all:  0.7921949845026768\n",
      "\n"
     ]
    },
    {
     "name": "stderr",
     "output_type": "stream",
     "text": [
      "[I 2019-08-24 12:29:58,163] Finished trial#1369 resulted in value: -0.7921949845026768. Current best value is -0.7944491406029868 with parameters: {'w_lr': 0.018735636670162738, 'w_sv': 0.609782869522277, 'w_xgb': 0.1257268888344056, 'w_lgbm': 0.10282314833705018, 'w_mlp': 0.6409335052733912}.\n"
     ]
    },
    {
     "name": "stdout",
     "output_type": "stream",
     "text": [
      "[w_lr, w_lda, w_sv, w_xgb, w_lgbm,w_cb ] =  [0.075 0.    0.428 0.125 0.12  0.    0.776]\n",
      "AUC all:  0.7933220625528318\n",
      "\n"
     ]
    },
    {
     "name": "stderr",
     "output_type": "stream",
     "text": [
      "[I 2019-08-24 12:29:59,973] Finished trial#1370 resulted in value: -0.7933220625528318. Current best value is -0.7944491406029868 with parameters: {'w_lr': 0.018735636670162738, 'w_sv': 0.609782869522277, 'w_xgb': 0.1257268888344056, 'w_lgbm': 0.10282314833705018, 'w_mlp': 0.6409335052733912}.\n"
     ]
    },
    {
     "name": "stdout",
     "output_type": "stream",
     "text": [
      "[w_lr, w_lda, w_sv, w_xgb, w_lgbm,w_cb ] =  [0.    0.    0.382 0.144 0.147 0.    0.701]\n",
      "AUC all:  0.7927585235277542\n",
      "\n"
     ]
    },
    {
     "name": "stderr",
     "output_type": "stream",
     "text": [
      "[I 2019-08-24 12:30:01,800] Finished trial#1371 resulted in value: -0.7927585235277542. Current best value is -0.7944491406029868 with parameters: {'w_lr': 0.018735636670162738, 'w_sv': 0.609782869522277, 'w_xgb': 0.1257268888344056, 'w_lgbm': 0.10282314833705018, 'w_mlp': 0.6409335052733912}.\n"
     ]
    },
    {
     "name": "stdout",
     "output_type": "stream",
     "text": [
      "[w_lr, w_lda, w_sv, w_xgb, w_lgbm,w_cb ] =  [0.161 0.    0.652 0.096 0.095 0.    0.623]\n",
      "AUC all:  0.7928994082840235\n",
      "\n"
     ]
    },
    {
     "name": "stderr",
     "output_type": "stream",
     "text": [
      "[I 2019-08-24 12:30:03,626] Finished trial#1372 resulted in value: -0.7928994082840235. Current best value is -0.7944491406029868 with parameters: {'w_lr': 0.018735636670162738, 'w_sv': 0.609782869522277, 'w_xgb': 0.1257268888344056, 'w_lgbm': 0.10282314833705018, 'w_mlp': 0.6409335052733912}.\n"
     ]
    },
    {
     "name": "stdout",
     "output_type": "stream",
     "text": [
      "[w_lr, w_lda, w_sv, w_xgb, w_lgbm,w_cb ] =  [0.13  0.    0.463 0.183 0.143 0.    0.782]\n",
      "AUC all:  0.7923358692589462\n",
      "\n"
     ]
    },
    {
     "name": "stderr",
     "output_type": "stream",
     "text": [
      "[I 2019-08-24 12:30:05,446] Finished trial#1373 resulted in value: -0.7923358692589462. Current best value is -0.7944491406029868 with parameters: {'w_lr': 0.018735636670162738, 'w_sv': 0.609782869522277, 'w_xgb': 0.1257268888344056, 'w_lgbm': 0.10282314833705018, 'w_mlp': 0.6409335052733912}.\n"
     ]
    },
    {
     "name": "stdout",
     "output_type": "stream",
     "text": [
      "[w_lr, w_lda, w_sv, w_xgb, w_lgbm,w_cb ] =  [0.061 0.    0.676 0.162 0.117 0.    0.713]\n",
      "AUC all:  0.7927585235277541\n",
      "\n"
     ]
    },
    {
     "name": "stderr",
     "output_type": "stream",
     "text": [
      "[I 2019-08-24 12:30:07,282] Finished trial#1374 resulted in value: -0.7927585235277541. Current best value is -0.7944491406029868 with parameters: {'w_lr': 0.018735636670162738, 'w_sv': 0.609782869522277, 'w_xgb': 0.1257268888344056, 'w_lgbm': 0.10282314833705018, 'w_mlp': 0.6409335052733912}.\n"
     ]
    },
    {
     "ename": "KeyboardInterrupt",
     "evalue": "",
     "output_type": "error",
     "traceback": [
      "\u001b[0;31m---------------------------------------------------------------------------\u001b[0m",
      "\u001b[0;31mKeyboardInterrupt\u001b[0m                         Traceback (most recent call last)",
      "\u001b[0;32m<ipython-input-23-263240bbee7e>\u001b[0m in \u001b[0;36m<module>\u001b[0;34m\u001b[0m\n\u001b[0;32m----> 1\u001b[0;31m \u001b[0mmain\u001b[0m\u001b[0;34m(\u001b[0m\u001b[0;34m)\u001b[0m\u001b[0;34m\u001b[0m\u001b[0m\n\u001b[0m",
      "\u001b[0;32m<ipython-input-22-aa6746804259>\u001b[0m in \u001b[0;36mmain\u001b[0;34m()\u001b[0m\n\u001b[1;32m      5\u001b[0m \u001b[0;34m\u001b[0m\u001b[0m\n\u001b[1;32m      6\u001b[0m     \u001b[0mstudy\u001b[0m \u001b[0;34m=\u001b[0m \u001b[0moptuna\u001b[0m\u001b[0;34m.\u001b[0m\u001b[0mcreate_study\u001b[0m\u001b[0;34m(\u001b[0m\u001b[0;34m)\u001b[0m\u001b[0;34m\u001b[0m\u001b[0m\n\u001b[0;32m----> 7\u001b[0;31m     \u001b[0mstudy\u001b[0m\u001b[0;34m.\u001b[0m\u001b[0moptimize\u001b[0m\u001b[0;34m(\u001b[0m\u001b[0;32mlambda\u001b[0m \u001b[0mtrial\u001b[0m\u001b[0;34m:\u001b[0m \u001b[0moptimize\u001b[0m\u001b[0;34m(\u001b[0m\u001b[0mtrial\u001b[0m\u001b[0;34m,\u001b[0m \u001b[0my_true_all\u001b[0m\u001b[0;34m,\u001b[0m \u001b[0mall_models_probs\u001b[0m\u001b[0;34m)\u001b[0m\u001b[0;34m,\u001b[0m \u001b[0mn_trials\u001b[0m\u001b[0;34m=\u001b[0m\u001b[0;36m10000\u001b[0m\u001b[0;34m)\u001b[0m\u001b[0;34m\u001b[0m\u001b[0m\n\u001b[0m\u001b[1;32m      8\u001b[0m     \u001b[0mprint\u001b[0m\u001b[0;34m(\u001b[0m\u001b[0mstudy\u001b[0m\u001b[0;34m.\u001b[0m\u001b[0mbest_trial\u001b[0m\u001b[0;34m)\u001b[0m\u001b[0;34m\u001b[0m\u001b[0m\n",
      "\u001b[0;32m~/venv/lib64/python3.6/site-packages/optuna/study.py\u001b[0m in \u001b[0;36moptimize\u001b[0;34m(self, func, n_trials, timeout, n_jobs, catch)\u001b[0m\n\u001b[1;32m    278\u001b[0m \u001b[0;34m\u001b[0m\u001b[0m\n\u001b[1;32m    279\u001b[0m         \u001b[0;32mif\u001b[0m \u001b[0mn_jobs\u001b[0m \u001b[0;34m==\u001b[0m \u001b[0;36m1\u001b[0m\u001b[0;34m:\u001b[0m\u001b[0;34m\u001b[0m\u001b[0m\n\u001b[0;32m--> 280\u001b[0;31m             \u001b[0mself\u001b[0m\u001b[0;34m.\u001b[0m\u001b[0m_optimize_sequential\u001b[0m\u001b[0;34m(\u001b[0m\u001b[0mfunc\u001b[0m\u001b[0;34m,\u001b[0m \u001b[0mn_trials\u001b[0m\u001b[0;34m,\u001b[0m \u001b[0mtimeout\u001b[0m\u001b[0;34m,\u001b[0m \u001b[0mcatch\u001b[0m\u001b[0;34m)\u001b[0m\u001b[0;34m\u001b[0m\u001b[0m\n\u001b[0m\u001b[1;32m    281\u001b[0m         \u001b[0;32melse\u001b[0m\u001b[0;34m:\u001b[0m\u001b[0;34m\u001b[0m\u001b[0m\n\u001b[1;32m    282\u001b[0m             \u001b[0mself\u001b[0m\u001b[0;34m.\u001b[0m\u001b[0m_optimize_parallel\u001b[0m\u001b[0;34m(\u001b[0m\u001b[0mfunc\u001b[0m\u001b[0;34m,\u001b[0m \u001b[0mn_trials\u001b[0m\u001b[0;34m,\u001b[0m \u001b[0mtimeout\u001b[0m\u001b[0;34m,\u001b[0m \u001b[0mn_jobs\u001b[0m\u001b[0;34m,\u001b[0m \u001b[0mcatch\u001b[0m\u001b[0;34m)\u001b[0m\u001b[0;34m\u001b[0m\u001b[0m\n",
      "\u001b[0;32m~/venv/lib64/python3.6/site-packages/optuna/study.py\u001b[0m in \u001b[0;36m_optimize_sequential\u001b[0;34m(self, func, n_trials, timeout, catch)\u001b[0m\n\u001b[1;32m    393\u001b[0m                     \u001b[0;32mbreak\u001b[0m\u001b[0;34m\u001b[0m\u001b[0m\n\u001b[1;32m    394\u001b[0m \u001b[0;34m\u001b[0m\u001b[0m\n\u001b[0;32m--> 395\u001b[0;31m             \u001b[0mself\u001b[0m\u001b[0;34m.\u001b[0m\u001b[0m_run_trial\u001b[0m\u001b[0;34m(\u001b[0m\u001b[0mfunc\u001b[0m\u001b[0;34m,\u001b[0m \u001b[0mcatch\u001b[0m\u001b[0;34m)\u001b[0m\u001b[0;34m\u001b[0m\u001b[0m\n\u001b[0m\u001b[1;32m    396\u001b[0m \u001b[0;34m\u001b[0m\u001b[0m\n\u001b[1;32m    397\u001b[0m     def _optimize_parallel(\n",
      "\u001b[0;32m~/venv/lib64/python3.6/site-packages/optuna/study.py\u001b[0m in \u001b[0;36m_run_trial\u001b[0;34m(self, func, catch)\u001b[0m\n\u001b[1;32m    467\u001b[0m \u001b[0;34m\u001b[0m\u001b[0m\n\u001b[1;32m    468\u001b[0m         \u001b[0;32mtry\u001b[0m\u001b[0;34m:\u001b[0m\u001b[0;34m\u001b[0m\u001b[0m\n\u001b[0;32m--> 469\u001b[0;31m             \u001b[0mresult\u001b[0m \u001b[0;34m=\u001b[0m \u001b[0mfunc\u001b[0m\u001b[0;34m(\u001b[0m\u001b[0mtrial\u001b[0m\u001b[0;34m)\u001b[0m\u001b[0;34m\u001b[0m\u001b[0m\n\u001b[0m\u001b[1;32m    470\u001b[0m         \u001b[0;32mexcept\u001b[0m \u001b[0mstructs\u001b[0m\u001b[0;34m.\u001b[0m\u001b[0mTrialPruned\u001b[0m \u001b[0;32mas\u001b[0m \u001b[0me\u001b[0m\u001b[0;34m:\u001b[0m\u001b[0;34m\u001b[0m\u001b[0m\n\u001b[1;32m    471\u001b[0m             message = 'Setting status of trial#{} as {}. {}'.format(trial_number,\n",
      "\u001b[0;32m<ipython-input-22-aa6746804259>\u001b[0m in \u001b[0;36m<lambda>\u001b[0;34m(trial)\u001b[0m\n\u001b[1;32m      5\u001b[0m \u001b[0;34m\u001b[0m\u001b[0m\n\u001b[1;32m      6\u001b[0m     \u001b[0mstudy\u001b[0m \u001b[0;34m=\u001b[0m \u001b[0moptuna\u001b[0m\u001b[0;34m.\u001b[0m\u001b[0mcreate_study\u001b[0m\u001b[0;34m(\u001b[0m\u001b[0;34m)\u001b[0m\u001b[0;34m\u001b[0m\u001b[0m\n\u001b[0;32m----> 7\u001b[0;31m     \u001b[0mstudy\u001b[0m\u001b[0;34m.\u001b[0m\u001b[0moptimize\u001b[0m\u001b[0;34m(\u001b[0m\u001b[0;32mlambda\u001b[0m \u001b[0mtrial\u001b[0m\u001b[0;34m:\u001b[0m \u001b[0moptimize\u001b[0m\u001b[0;34m(\u001b[0m\u001b[0mtrial\u001b[0m\u001b[0;34m,\u001b[0m \u001b[0my_true_all\u001b[0m\u001b[0;34m,\u001b[0m \u001b[0mall_models_probs\u001b[0m\u001b[0;34m)\u001b[0m\u001b[0;34m,\u001b[0m \u001b[0mn_trials\u001b[0m\u001b[0;34m=\u001b[0m\u001b[0;36m10000\u001b[0m\u001b[0;34m)\u001b[0m\u001b[0;34m\u001b[0m\u001b[0m\n\u001b[0m\u001b[1;32m      8\u001b[0m     \u001b[0mprint\u001b[0m\u001b[0;34m(\u001b[0m\u001b[0mstudy\u001b[0m\u001b[0;34m.\u001b[0m\u001b[0mbest_trial\u001b[0m\u001b[0;34m)\u001b[0m\u001b[0;34m\u001b[0m\u001b[0m\n",
      "\u001b[0;32m<ipython-input-21-0c913aeb5fd2>\u001b[0m in \u001b[0;36moptimize\u001b[0;34m(trial, y_true_all, all_models_probs)\u001b[0m\n\u001b[1;32m      5\u001b[0m     \u001b[0mw_lda\u001b[0m \u001b[0;34m=\u001b[0m\u001b[0;36m0\u001b[0m\u001b[0;34m\u001b[0m\u001b[0m\n\u001b[1;32m      6\u001b[0m     \u001b[0mw_sv\u001b[0m \u001b[0;34m=\u001b[0m \u001b[0mtrial\u001b[0m\u001b[0;34m.\u001b[0m\u001b[0msuggest_uniform\u001b[0m\u001b[0;34m(\u001b[0m\u001b[0;34m'w_sv'\u001b[0m\u001b[0;34m,\u001b[0m \u001b[0;36m0.0\u001b[0m\u001b[0;34m,\u001b[0m \u001b[0;36m1.0\u001b[0m\u001b[0;34m)\u001b[0m\u001b[0;34m\u001b[0m\u001b[0m\n\u001b[0;32m----> 7\u001b[0;31m     \u001b[0mw_xgb\u001b[0m \u001b[0;34m=\u001b[0m \u001b[0mtrial\u001b[0m\u001b[0;34m.\u001b[0m\u001b[0msuggest_uniform\u001b[0m\u001b[0;34m(\u001b[0m\u001b[0;34m'w_xgb'\u001b[0m\u001b[0;34m,\u001b[0m \u001b[0;36m0.0\u001b[0m\u001b[0;34m,\u001b[0m \u001b[0;36m1.0\u001b[0m\u001b[0;34m)\u001b[0m\u001b[0;34m\u001b[0m\u001b[0m\n\u001b[0m\u001b[1;32m      8\u001b[0m     \u001b[0mw_lgbm\u001b[0m \u001b[0;34m=\u001b[0m\u001b[0mtrial\u001b[0m\u001b[0;34m.\u001b[0m\u001b[0msuggest_uniform\u001b[0m\u001b[0;34m(\u001b[0m\u001b[0;34m'w_lgbm'\u001b[0m\u001b[0;34m,\u001b[0m \u001b[0;36m0.0\u001b[0m\u001b[0;34m,\u001b[0m \u001b[0;36m1.0\u001b[0m\u001b[0;34m)\u001b[0m\u001b[0;34m\u001b[0m\u001b[0m\n\u001b[1;32m      9\u001b[0m     \u001b[0mw_cb\u001b[0m \u001b[0;34m=\u001b[0m  \u001b[0;36m0\u001b[0m\u001b[0;34m\u001b[0m\u001b[0m\n",
      "\u001b[0;32m~/venv/lib64/python3.6/site-packages/optuna/trial.py\u001b[0m in \u001b[0;36msuggest_uniform\u001b[0;34m(self, name, low, high)\u001b[0m\n\u001b[1;32m    179\u001b[0m             \u001b[0;32mreturn\u001b[0m \u001b[0mself\u001b[0m\u001b[0;34m.\u001b[0m\u001b[0m_set_new_param_or_get_existing\u001b[0m\u001b[0;34m(\u001b[0m\u001b[0mname\u001b[0m\u001b[0;34m,\u001b[0m \u001b[0mlow\u001b[0m\u001b[0;34m,\u001b[0m \u001b[0mdistribution\u001b[0m\u001b[0;34m)\u001b[0m\u001b[0;34m\u001b[0m\u001b[0m\n\u001b[1;32m    180\u001b[0m \u001b[0;34m\u001b[0m\u001b[0m\n\u001b[0;32m--> 181\u001b[0;31m         \u001b[0;32mreturn\u001b[0m \u001b[0mself\u001b[0m\u001b[0;34m.\u001b[0m\u001b[0m_suggest\u001b[0m\u001b[0;34m(\u001b[0m\u001b[0mname\u001b[0m\u001b[0;34m,\u001b[0m \u001b[0mdistribution\u001b[0m\u001b[0;34m)\u001b[0m\u001b[0;34m\u001b[0m\u001b[0m\n\u001b[0m\u001b[1;32m    182\u001b[0m \u001b[0;34m\u001b[0m\u001b[0m\n\u001b[1;32m    183\u001b[0m     \u001b[0;32mdef\u001b[0m \u001b[0msuggest_loguniform\u001b[0m\u001b[0;34m(\u001b[0m\u001b[0mself\u001b[0m\u001b[0;34m,\u001b[0m \u001b[0mname\u001b[0m\u001b[0;34m,\u001b[0m \u001b[0mlow\u001b[0m\u001b[0;34m,\u001b[0m \u001b[0mhigh\u001b[0m\u001b[0;34m)\u001b[0m\u001b[0;34m:\u001b[0m\u001b[0;34m\u001b[0m\u001b[0m\n",
      "\u001b[0;32m~/venv/lib64/python3.6/site-packages/optuna/trial.py\u001b[0m in \u001b[0;36m_suggest\u001b[0;34m(self, name, distribution)\u001b[0m\n\u001b[1;32m    453\u001b[0m             \u001b[0mtrial\u001b[0m \u001b[0;34m=\u001b[0m \u001b[0mself\u001b[0m\u001b[0;34m.\u001b[0m\u001b[0mstorage\u001b[0m\u001b[0;34m.\u001b[0m\u001b[0mget_trial\u001b[0m\u001b[0;34m(\u001b[0m\u001b[0mself\u001b[0m\u001b[0;34m.\u001b[0m\u001b[0m_trial_id\u001b[0m\u001b[0;34m)\u001b[0m\u001b[0;34m\u001b[0m\u001b[0m\n\u001b[1;32m    454\u001b[0m             param_value = self.study.sampler.sample_independent(\n\u001b[0;32m--> 455\u001b[0;31m                 study, trial, name, distribution)\n\u001b[0m\u001b[1;32m    456\u001b[0m \u001b[0;34m\u001b[0m\u001b[0m\n\u001b[1;32m    457\u001b[0m         \u001b[0;32mreturn\u001b[0m \u001b[0mself\u001b[0m\u001b[0;34m.\u001b[0m\u001b[0m_set_new_param_or_get_existing\u001b[0m\u001b[0;34m(\u001b[0m\u001b[0mname\u001b[0m\u001b[0;34m,\u001b[0m \u001b[0mparam_value\u001b[0m\u001b[0;34m,\u001b[0m \u001b[0mdistribution\u001b[0m\u001b[0;34m)\u001b[0m\u001b[0;34m\u001b[0m\u001b[0m\n",
      "\u001b[0;32m~/venv/lib64/python3.6/site-packages/optuna/samplers/tpe/sampler.py\u001b[0m in \u001b[0;36msample_independent\u001b[0;34m(self, study, trial, param_name, param_distribution)\u001b[0m\n\u001b[1;32m     92\u001b[0m         \u001b[0;31m# type: (InTrialStudy, FrozenTrial, str, BaseDistribution) -> Any\u001b[0m\u001b[0;34m\u001b[0m\u001b[0;34m\u001b[0m\u001b[0m\n\u001b[1;32m     93\u001b[0m \u001b[0;34m\u001b[0m\u001b[0m\n\u001b[0;32m---> 94\u001b[0;31m         \u001b[0mvalues\u001b[0m\u001b[0;34m,\u001b[0m \u001b[0mscores\u001b[0m \u001b[0;34m=\u001b[0m \u001b[0m_get_observation_pairs\u001b[0m\u001b[0;34m(\u001b[0m\u001b[0mstudy\u001b[0m\u001b[0;34m,\u001b[0m \u001b[0mparam_name\u001b[0m\u001b[0;34m)\u001b[0m\u001b[0;34m\u001b[0m\u001b[0m\n\u001b[0m\u001b[1;32m     95\u001b[0m \u001b[0;34m\u001b[0m\u001b[0m\n\u001b[1;32m     96\u001b[0m         \u001b[0mn\u001b[0m \u001b[0;34m=\u001b[0m \u001b[0mlen\u001b[0m\u001b[0;34m(\u001b[0m\u001b[0mvalues\u001b[0m\u001b[0;34m)\u001b[0m\u001b[0;34m\u001b[0m\u001b[0m\n",
      "\u001b[0;32m~/venv/lib64/python3.6/site-packages/optuna/samplers/tpe/sampler.py\u001b[0m in \u001b[0;36m_get_observation_pairs\u001b[0;34m(study, param_name)\u001b[0m\n\u001b[1;32m    512\u001b[0m     \u001b[0mvalues\u001b[0m \u001b[0;34m=\u001b[0m \u001b[0;34m[\u001b[0m\u001b[0;34m]\u001b[0m\u001b[0;34m\u001b[0m\u001b[0m\n\u001b[1;32m    513\u001b[0m     \u001b[0mscores\u001b[0m \u001b[0;34m=\u001b[0m \u001b[0;34m[\u001b[0m\u001b[0;34m]\u001b[0m\u001b[0;34m\u001b[0m\u001b[0m\n\u001b[0;32m--> 514\u001b[0;31m     \u001b[0;32mfor\u001b[0m \u001b[0mtrial\u001b[0m \u001b[0;32min\u001b[0m \u001b[0mstudy\u001b[0m\u001b[0;34m.\u001b[0m\u001b[0mtrials\u001b[0m\u001b[0;34m:\u001b[0m\u001b[0;34m\u001b[0m\u001b[0m\n\u001b[0m\u001b[1;32m    515\u001b[0m         \u001b[0;32mif\u001b[0m \u001b[0mparam_name\u001b[0m \u001b[0;32mnot\u001b[0m \u001b[0;32min\u001b[0m \u001b[0mtrial\u001b[0m\u001b[0;34m.\u001b[0m\u001b[0mparams_in_internal_repr\u001b[0m\u001b[0;34m:\u001b[0m\u001b[0;34m\u001b[0m\u001b[0m\n\u001b[1;32m    516\u001b[0m             \u001b[0;32mcontinue\u001b[0m\u001b[0;34m\u001b[0m\u001b[0m\n",
      "\u001b[0;32m~/venv/lib64/python3.6/site-packages/optuna/study.py\u001b[0m in \u001b[0;36mtrials\u001b[0;34m(self)\u001b[0m\n\u001b[1;32m    579\u001b[0m         \"\"\"\n\u001b[1;32m    580\u001b[0m \u001b[0;34m\u001b[0m\u001b[0m\n\u001b[0;32m--> 581\u001b[0;31m         \u001b[0;32mreturn\u001b[0m \u001b[0mself\u001b[0m\u001b[0;34m.\u001b[0m\u001b[0mstorage\u001b[0m\u001b[0;34m.\u001b[0m\u001b[0mget_all_trials\u001b[0m\u001b[0;34m(\u001b[0m\u001b[0mself\u001b[0m\u001b[0;34m.\u001b[0m\u001b[0mstudy_id\u001b[0m\u001b[0;34m)\u001b[0m\u001b[0;34m\u001b[0m\u001b[0m\n\u001b[0m\u001b[1;32m    582\u001b[0m \u001b[0;34m\u001b[0m\u001b[0m\n\u001b[1;32m    583\u001b[0m \u001b[0;34m\u001b[0m\u001b[0m\n",
      "\u001b[0;32m~/venv/lib64/python3.6/site-packages/optuna/storages/in_memory.py\u001b[0m in \u001b[0;36mget_all_trials\u001b[0;34m(self, study_id)\u001b[0m\n\u001b[1;32m    254\u001b[0m         \u001b[0mself\u001b[0m\u001b[0;34m.\u001b[0m\u001b[0m_check_study_id\u001b[0m\u001b[0;34m(\u001b[0m\u001b[0mstudy_id\u001b[0m\u001b[0;34m)\u001b[0m\u001b[0;34m\u001b[0m\u001b[0m\n\u001b[1;32m    255\u001b[0m         \u001b[0;32mwith\u001b[0m \u001b[0mself\u001b[0m\u001b[0;34m.\u001b[0m\u001b[0m_lock\u001b[0m\u001b[0;34m:\u001b[0m\u001b[0;34m\u001b[0m\u001b[0m\n\u001b[0;32m--> 256\u001b[0;31m             \u001b[0;32mreturn\u001b[0m \u001b[0mcopy\u001b[0m\u001b[0;34m.\u001b[0m\u001b[0mdeepcopy\u001b[0m\u001b[0;34m(\u001b[0m\u001b[0mself\u001b[0m\u001b[0;34m.\u001b[0m\u001b[0mtrials\u001b[0m\u001b[0;34m)\u001b[0m\u001b[0;34m\u001b[0m\u001b[0m\n\u001b[0m\u001b[1;32m    257\u001b[0m \u001b[0;34m\u001b[0m\u001b[0m\n\u001b[1;32m    258\u001b[0m     \u001b[0;32mdef\u001b[0m \u001b[0mget_n_trials\u001b[0m\u001b[0;34m(\u001b[0m\u001b[0mself\u001b[0m\u001b[0;34m,\u001b[0m \u001b[0mstudy_id\u001b[0m\u001b[0;34m,\u001b[0m \u001b[0mstate\u001b[0m\u001b[0;34m=\u001b[0m\u001b[0;32mNone\u001b[0m\u001b[0;34m)\u001b[0m\u001b[0;34m:\u001b[0m\u001b[0;34m\u001b[0m\u001b[0m\n",
      "\u001b[0;32m/opt/rh/rh-python36/root/usr/lib64/python3.6/copy.py\u001b[0m in \u001b[0;36mdeepcopy\u001b[0;34m(x, memo, _nil)\u001b[0m\n\u001b[1;32m    148\u001b[0m     \u001b[0mcopier\u001b[0m \u001b[0;34m=\u001b[0m \u001b[0m_deepcopy_dispatch\u001b[0m\u001b[0;34m.\u001b[0m\u001b[0mget\u001b[0m\u001b[0;34m(\u001b[0m\u001b[0mcls\u001b[0m\u001b[0;34m)\u001b[0m\u001b[0;34m\u001b[0m\u001b[0m\n\u001b[1;32m    149\u001b[0m     \u001b[0;32mif\u001b[0m \u001b[0mcopier\u001b[0m\u001b[0;34m:\u001b[0m\u001b[0;34m\u001b[0m\u001b[0m\n\u001b[0;32m--> 150\u001b[0;31m         \u001b[0my\u001b[0m \u001b[0;34m=\u001b[0m \u001b[0mcopier\u001b[0m\u001b[0;34m(\u001b[0m\u001b[0mx\u001b[0m\u001b[0;34m,\u001b[0m \u001b[0mmemo\u001b[0m\u001b[0;34m)\u001b[0m\u001b[0;34m\u001b[0m\u001b[0m\n\u001b[0m\u001b[1;32m    151\u001b[0m     \u001b[0;32melse\u001b[0m\u001b[0;34m:\u001b[0m\u001b[0;34m\u001b[0m\u001b[0m\n\u001b[1;32m    152\u001b[0m         \u001b[0;32mtry\u001b[0m\u001b[0;34m:\u001b[0m\u001b[0;34m\u001b[0m\u001b[0m\n",
      "\u001b[0;32m/opt/rh/rh-python36/root/usr/lib64/python3.6/copy.py\u001b[0m in \u001b[0;36m_deepcopy_list\u001b[0;34m(x, memo, deepcopy)\u001b[0m\n\u001b[1;32m    213\u001b[0m     \u001b[0mappend\u001b[0m \u001b[0;34m=\u001b[0m \u001b[0my\u001b[0m\u001b[0;34m.\u001b[0m\u001b[0mappend\u001b[0m\u001b[0;34m\u001b[0m\u001b[0m\n\u001b[1;32m    214\u001b[0m     \u001b[0;32mfor\u001b[0m \u001b[0ma\u001b[0m \u001b[0;32min\u001b[0m \u001b[0mx\u001b[0m\u001b[0;34m:\u001b[0m\u001b[0;34m\u001b[0m\u001b[0m\n\u001b[0;32m--> 215\u001b[0;31m         \u001b[0mappend\u001b[0m\u001b[0;34m(\u001b[0m\u001b[0mdeepcopy\u001b[0m\u001b[0;34m(\u001b[0m\u001b[0ma\u001b[0m\u001b[0;34m,\u001b[0m \u001b[0mmemo\u001b[0m\u001b[0;34m)\u001b[0m\u001b[0;34m)\u001b[0m\u001b[0;34m\u001b[0m\u001b[0m\n\u001b[0m\u001b[1;32m    216\u001b[0m     \u001b[0;32mreturn\u001b[0m \u001b[0my\u001b[0m\u001b[0;34m\u001b[0m\u001b[0m\n\u001b[1;32m    217\u001b[0m \u001b[0md\u001b[0m\u001b[0;34m[\u001b[0m\u001b[0mlist\u001b[0m\u001b[0;34m]\u001b[0m \u001b[0;34m=\u001b[0m \u001b[0m_deepcopy_list\u001b[0m\u001b[0;34m\u001b[0m\u001b[0m\n",
      "\u001b[0;32m/opt/rh/rh-python36/root/usr/lib64/python3.6/copy.py\u001b[0m in \u001b[0;36mdeepcopy\u001b[0;34m(x, memo, _nil)\u001b[0m\n\u001b[1;32m    178\u001b[0m                     \u001b[0my\u001b[0m \u001b[0;34m=\u001b[0m \u001b[0mx\u001b[0m\u001b[0;34m\u001b[0m\u001b[0m\n\u001b[1;32m    179\u001b[0m                 \u001b[0;32melse\u001b[0m\u001b[0;34m:\u001b[0m\u001b[0;34m\u001b[0m\u001b[0m\n\u001b[0;32m--> 180\u001b[0;31m                     \u001b[0my\u001b[0m \u001b[0;34m=\u001b[0m \u001b[0m_reconstruct\u001b[0m\u001b[0;34m(\u001b[0m\u001b[0mx\u001b[0m\u001b[0;34m,\u001b[0m \u001b[0mmemo\u001b[0m\u001b[0;34m,\u001b[0m \u001b[0;34m*\u001b[0m\u001b[0mrv\u001b[0m\u001b[0;34m)\u001b[0m\u001b[0;34m\u001b[0m\u001b[0m\n\u001b[0m\u001b[1;32m    181\u001b[0m \u001b[0;34m\u001b[0m\u001b[0m\n\u001b[1;32m    182\u001b[0m     \u001b[0;31m# If is its own copy, don't memoize.\u001b[0m\u001b[0;34m\u001b[0m\u001b[0;34m\u001b[0m\u001b[0m\n",
      "\u001b[0;32m/opt/rh/rh-python36/root/usr/lib64/python3.6/copy.py\u001b[0m in \u001b[0;36m_reconstruct\u001b[0;34m(x, memo, func, args, state, listiter, dictiter, deepcopy)\u001b[0m\n\u001b[1;32m    272\u001b[0m     \u001b[0;32mif\u001b[0m \u001b[0mdeep\u001b[0m \u001b[0;32mand\u001b[0m \u001b[0margs\u001b[0m\u001b[0;34m:\u001b[0m\u001b[0;34m\u001b[0m\u001b[0m\n\u001b[1;32m    273\u001b[0m         \u001b[0margs\u001b[0m \u001b[0;34m=\u001b[0m \u001b[0;34m(\u001b[0m\u001b[0mdeepcopy\u001b[0m\u001b[0;34m(\u001b[0m\u001b[0marg\u001b[0m\u001b[0;34m,\u001b[0m \u001b[0mmemo\u001b[0m\u001b[0;34m)\u001b[0m \u001b[0;32mfor\u001b[0m \u001b[0marg\u001b[0m \u001b[0;32min\u001b[0m \u001b[0margs\u001b[0m\u001b[0;34m)\u001b[0m\u001b[0;34m\u001b[0m\u001b[0m\n\u001b[0;32m--> 274\u001b[0;31m     \u001b[0my\u001b[0m \u001b[0;34m=\u001b[0m \u001b[0mfunc\u001b[0m\u001b[0;34m(\u001b[0m\u001b[0;34m*\u001b[0m\u001b[0margs\u001b[0m\u001b[0;34m)\u001b[0m\u001b[0;34m\u001b[0m\u001b[0m\n\u001b[0m\u001b[1;32m    275\u001b[0m     \u001b[0;32mif\u001b[0m \u001b[0mdeep\u001b[0m\u001b[0;34m:\u001b[0m\u001b[0;34m\u001b[0m\u001b[0m\n\u001b[1;32m    276\u001b[0m         \u001b[0mmemo\u001b[0m\u001b[0;34m[\u001b[0m\u001b[0mid\u001b[0m\u001b[0;34m(\u001b[0m\u001b[0mx\u001b[0m\u001b[0;34m)\u001b[0m\u001b[0;34m]\u001b[0m \u001b[0;34m=\u001b[0m \u001b[0my\u001b[0m\u001b[0;34m\u001b[0m\u001b[0m\n",
      "\u001b[0;32m/opt/rh/rh-python36/root/usr/lib64/python3.6/copy.py\u001b[0m in \u001b[0;36m<genexpr>\u001b[0;34m(.0)\u001b[0m\n\u001b[1;32m    271\u001b[0m     \u001b[0mdeep\u001b[0m \u001b[0;34m=\u001b[0m \u001b[0mmemo\u001b[0m \u001b[0;32mis\u001b[0m \u001b[0;32mnot\u001b[0m \u001b[0;32mNone\u001b[0m\u001b[0;34m\u001b[0m\u001b[0m\n\u001b[1;32m    272\u001b[0m     \u001b[0;32mif\u001b[0m \u001b[0mdeep\u001b[0m \u001b[0;32mand\u001b[0m \u001b[0margs\u001b[0m\u001b[0;34m:\u001b[0m\u001b[0;34m\u001b[0m\u001b[0m\n\u001b[0;32m--> 273\u001b[0;31m         \u001b[0margs\u001b[0m \u001b[0;34m=\u001b[0m \u001b[0;34m(\u001b[0m\u001b[0mdeepcopy\u001b[0m\u001b[0;34m(\u001b[0m\u001b[0marg\u001b[0m\u001b[0;34m,\u001b[0m \u001b[0mmemo\u001b[0m\u001b[0;34m)\u001b[0m \u001b[0;32mfor\u001b[0m \u001b[0marg\u001b[0m \u001b[0;32min\u001b[0m \u001b[0margs\u001b[0m\u001b[0;34m)\u001b[0m\u001b[0;34m\u001b[0m\u001b[0m\n\u001b[0m\u001b[1;32m    274\u001b[0m     \u001b[0my\u001b[0m \u001b[0;34m=\u001b[0m \u001b[0mfunc\u001b[0m\u001b[0;34m(\u001b[0m\u001b[0;34m*\u001b[0m\u001b[0margs\u001b[0m\u001b[0;34m)\u001b[0m\u001b[0;34m\u001b[0m\u001b[0m\n\u001b[1;32m    275\u001b[0m     \u001b[0;32mif\u001b[0m \u001b[0mdeep\u001b[0m\u001b[0;34m:\u001b[0m\u001b[0;34m\u001b[0m\u001b[0m\n",
      "\u001b[0;32m/opt/rh/rh-python36/root/usr/lib64/python3.6/copy.py\u001b[0m in \u001b[0;36mdeepcopy\u001b[0;34m(x, memo, _nil)\u001b[0m\n\u001b[1;32m    178\u001b[0m                     \u001b[0my\u001b[0m \u001b[0;34m=\u001b[0m \u001b[0mx\u001b[0m\u001b[0;34m\u001b[0m\u001b[0m\n\u001b[1;32m    179\u001b[0m                 \u001b[0;32melse\u001b[0m\u001b[0;34m:\u001b[0m\u001b[0;34m\u001b[0m\u001b[0m\n\u001b[0;32m--> 180\u001b[0;31m                     \u001b[0my\u001b[0m \u001b[0;34m=\u001b[0m \u001b[0m_reconstruct\u001b[0m\u001b[0;34m(\u001b[0m\u001b[0mx\u001b[0m\u001b[0;34m,\u001b[0m \u001b[0mmemo\u001b[0m\u001b[0;34m,\u001b[0m \u001b[0;34m*\u001b[0m\u001b[0mrv\u001b[0m\u001b[0;34m)\u001b[0m\u001b[0;34m\u001b[0m\u001b[0m\n\u001b[0m\u001b[1;32m    181\u001b[0m \u001b[0;34m\u001b[0m\u001b[0m\n\u001b[1;32m    182\u001b[0m     \u001b[0;31m# If is its own copy, don't memoize.\u001b[0m\u001b[0;34m\u001b[0m\u001b[0;34m\u001b[0m\u001b[0m\n",
      "\u001b[0;32m/opt/rh/rh-python36/root/usr/lib64/python3.6/copy.py\u001b[0m in \u001b[0;36m_reconstruct\u001b[0;34m(x, memo, func, args, state, listiter, dictiter, deepcopy)\u001b[0m\n\u001b[1;32m    272\u001b[0m     \u001b[0;32mif\u001b[0m \u001b[0mdeep\u001b[0m \u001b[0;32mand\u001b[0m \u001b[0margs\u001b[0m\u001b[0;34m:\u001b[0m\u001b[0;34m\u001b[0m\u001b[0m\n\u001b[1;32m    273\u001b[0m         \u001b[0margs\u001b[0m \u001b[0;34m=\u001b[0m \u001b[0;34m(\u001b[0m\u001b[0mdeepcopy\u001b[0m\u001b[0;34m(\u001b[0m\u001b[0marg\u001b[0m\u001b[0;34m,\u001b[0m \u001b[0mmemo\u001b[0m\u001b[0;34m)\u001b[0m \u001b[0;32mfor\u001b[0m \u001b[0marg\u001b[0m \u001b[0;32min\u001b[0m \u001b[0margs\u001b[0m\u001b[0;34m)\u001b[0m\u001b[0;34m\u001b[0m\u001b[0m\n\u001b[0;32m--> 274\u001b[0;31m     \u001b[0my\u001b[0m \u001b[0;34m=\u001b[0m \u001b[0mfunc\u001b[0m\u001b[0;34m(\u001b[0m\u001b[0;34m*\u001b[0m\u001b[0margs\u001b[0m\u001b[0;34m)\u001b[0m\u001b[0;34m\u001b[0m\u001b[0m\n\u001b[0m\u001b[1;32m    275\u001b[0m     \u001b[0;32mif\u001b[0m \u001b[0mdeep\u001b[0m\u001b[0;34m:\u001b[0m\u001b[0;34m\u001b[0m\u001b[0m\n\u001b[1;32m    276\u001b[0m         \u001b[0mmemo\u001b[0m\u001b[0;34m[\u001b[0m\u001b[0mid\u001b[0m\u001b[0;34m(\u001b[0m\u001b[0mx\u001b[0m\u001b[0;34m)\u001b[0m\u001b[0;34m]\u001b[0m \u001b[0;34m=\u001b[0m \u001b[0my\u001b[0m\u001b[0;34m\u001b[0m\u001b[0m\n",
      "\u001b[0;31mKeyboardInterrupt\u001b[0m: "
     ]
    }
   ],
   "source": [
    "main()"
   ]
  },
  {
   "cell_type": "code",
   "execution_count": null,
   "metadata": {},
   "outputs": [],
   "source": []
  },
  {
   "cell_type": "code",
   "execution_count": null,
   "metadata": {},
   "outputs": [],
   "source": [
    "# best value is -0.7947309101155255 with parameters: {'w_lda': 0.09921014790481464, 'w_sv': 0.4530074587471793, 'w_xgb': 0.22971392450097775, 'w_lgbm': 0.2501321890556603, 'w_mlp': 0.926253219022292}.\n",
    "\n",
    "#best value is -0.7948717948717948 with parameters: {'w_lr': 0.08360537746692473, 'w_sv': 0.7436098375618999, 'w_xgb': 0.22134975813644708, 'w_lgbm': 0.23431770706459376, 'w_mlp': 0.8118605353214242}.\n",
    "\n",
    "# best value is -0.7971259509721048 with parameters: {'w_sv': 0.8002438174499535, 'w_xgb': 0.00031518275577795086, 'w_mlp': 0.0018017698441267613}.\n",
    "\n",
    "#best value is -0.7976894899971824 with parameters: {'w_sv': 0.49087490720537474, 'w_mlp': 0.00212194974236059}.\n"
   ]
  }
 ],
 "metadata": {
  "kernelspec": {
   "display_name": "Python 3",
   "language": "python",
   "name": "python3"
  },
  "language_info": {
   "codemirror_mode": {
    "name": "ipython",
    "version": 3
   },
   "file_extension": ".py",
   "mimetype": "text/x-python",
   "name": "python",
   "nbconvert_exporter": "python",
   "pygments_lexer": "ipython3",
   "version": "3.6.3"
  }
 },
 "nbformat": 4,
 "nbformat_minor": 2
}
