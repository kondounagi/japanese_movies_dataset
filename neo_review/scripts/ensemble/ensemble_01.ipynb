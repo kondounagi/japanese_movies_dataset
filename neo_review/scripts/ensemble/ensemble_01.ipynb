{
 "cells": [
  {
   "cell_type": "code",
   "execution_count": 14,
   "metadata": {},
   "outputs": [],
   "source": [
    "import numpy as np\n",
    "import json\n",
    "import csv\n",
    "import pandas as pd\n",
    "import matplotlib.pyplot as plt\n",
    "\n",
    "from sklearn.linear_model import LogisticRegression\n",
    "import lightgbm as lgb\n",
    "from sklearn import svm\n",
    "import xgboost as xgb\n",
    "from sklearn.discriminant_analysis import LinearDiscriminantAnalysis as LDA\n",
    "\n",
    "from sklearn.ensemble import VotingRegressor, VotingClassifier\n",
    "from sklearn.metrics import confusion_matrix, roc_auc_score, roc_curve\n",
    "from sklearn.preprocessing import StandardScaler\n",
    "%matplotlib inline"
   ]
  },
  {
   "cell_type": "code",
   "execution_count": 15,
   "metadata": {},
   "outputs": [],
   "source": [
    "def load_data(df, test_year):\n",
    "    \n",
    "    train = df.loc[df[\"year\"] != test_year]\n",
    "    test = df.loc[df[\"year\"] == test_year]\n",
    "    \n",
    "    # 入力データの作成\n",
    "    y_train = train['prize'].ravel()\n",
    "    x_train = train.drop(['prize', 'year'], axis=1)\n",
    "    \n",
    "    features = x_train.columns\n",
    "    \n",
    "    x_train = x_train.values # 学習データ\n",
    "    \n",
    "    # テストデータの作成\n",
    "    y_test = test['prize'].ravel()\n",
    "    x_test = test.drop(['prize', 'year'], axis=1)\n",
    "    x_test = x_test.values # テストデータ\n",
    "    \n",
    "    return x_train, x_test, y_train, y_test, features"
   ]
  },
  {
   "cell_type": "code",
   "execution_count": 16,
   "metadata": {},
   "outputs": [],
   "source": [
    "def plot_roc_curve(fpr, tpr, auc):\n",
    "    # ROC曲線をプロット\n",
    "    plt.plot(fpr, tpr, label='ROC curve (area = %.2f)'%auc)\n",
    "    plt.legend()\n",
    "    plt.title('ROC curve')\n",
    "    plt.xlabel('False Positive Rate')\n",
    "    plt.ylabel('True Positive Rate')\n",
    "    plt.grid(True)\n",
    "    plt.show()"
   ]
  },
  {
   "cell_type": "code",
   "execution_count": 17,
   "metadata": {},
   "outputs": [],
   "source": [
    "def create_models():\n",
    "    lr = LogisticRegression(class_weight=\"balanced\", solver=\"liblinear\",  penalty=\"l2\", C=0.0001)\n",
    "    \n",
    "    sv = svm.SVR(kernel=\"poly\",\n",
    "                                 degree=8,\n",
    "                                 gamma=0.03521735642853326,\n",
    "                                 coef0=0.34010389238140537,\n",
    "                                 tol=1e-05,\n",
    "                                 C=0.001,\n",
    "                                 epsilon=0.14620884632948022,\n",
    "                                verbose=True,\n",
    "                max_iter=1000)\n",
    "\n",
    "    xgboost = xgb.XGBRegressor(silent= True, \n",
    "                           max_depth=1,\n",
    "                           learning_rate=0.14544434403253392,\n",
    "                           n_estimators = 72,\n",
    "                           gamma=0.4356018082020117,\n",
    "                           reg_lambda=2.931451663505623,\n",
    "                           reg_alpha=0.19045302677956732)\n",
    "\n",
    "    lgbm = lgb.LGBMRegressor(\n",
    "        verbosity=1,\n",
    "        boost_from_average='true',\n",
    "        metric='auc',\n",
    "        bagging_freq=5,\n",
    "        max_depth=19,\n",
    "        learning_rate=0.09802221664336347,\n",
    "        n_estimators=703,\n",
    "        subsample=0.7596658467659505,\n",
    "        reg_lambda=0.4087114877863393,  \n",
    "    )\n",
    "    \n",
    "    lda = LDA(solver=\"eigen\", shrinkage=1)\n",
    "\n",
    "    estimators_rgs = [('sv', sv)]\n",
    "    \n",
    "    return estimators_rgs"
   ]
  },
  {
   "cell_type": "code",
   "execution_count": 18,
   "metadata": {},
   "outputs": [],
   "source": [
    "def main():\n",
    "    \n",
    "    df =  pd.read_pickle('../../data/dataframes/std_scaled_df.pkl')\n",
    "    \n",
    "    cm_all = np.zeros((2, 2))\n",
    "    \n",
    "    # 予測した確率全体を格納\n",
    "    probs_all = np.array([])\n",
    "    y_true_all = np.array([])\n",
    "    \n",
    "    for y in range(1978, 2020):\n",
    "        \n",
    "        # データの生成\n",
    "        x_train, x_test, y_train, y_test, features = load_data(df, y)\n",
    "       \n",
    "        # 学習\n",
    "        estimators= create_models()\n",
    "        \n",
    "        vr = VotingRegressor(estimators)\n",
    "\n",
    "        vr.fit(x_train, y_train)\n",
    "        \n",
    "        # 予測(確率)\n",
    "        probs = vr.predict(x_test)\n",
    "        probs_all = np.hstack((probs_all, probs))\n",
    "        y_true_all = np.hstack((y_true_all, y_test))\n",
    "        \n",
    "        print(probs)\n",
    "\n",
    "        # 混同行列\n",
    "        y_pred = np.where((probs ==  max(probs)), 1, 0) #確率→0/1\n",
    "        cm = confusion_matrix(y_true=y_test, y_pred=y_pred)\n",
    "        cm_all += cm\n",
    "\n",
    "    auc = roc_auc_score(y_true_all, probs_all)\n",
    "    fpr, tpr, thresholds = roc_curve(y_true_all, probs_all)\n",
    "    \n",
    "    plot_roc_curve(fpr, tpr, auc)\n",
    "    \n",
    "    print(\"len: {0} , {1}\".format(len(y_true_all), len(probs_all) ))\n",
    "    print(\"confusion_matrix: \")\n",
    "    print(cm_all)\n",
    "    print(\"AUC: \")\n",
    "    print(auc)\n",
    "    print()\n",
    "    return"
   ]
  },
  {
   "cell_type": "code",
   "execution_count": 13,
   "metadata": {},
   "outputs": [
    {
     "name": "stdout",
     "output_type": "stream",
     "text": [
      "[LibSVM][0.14624121 0.14628206 0.14624145 0.14636967 0.14624147]\n",
      "[LibSVM][0.14624594 0.14624694 0.14624701 0.14624704 0.14624707]\n",
      "[LibSVM][0.14615754 0.14617405 0.14615828 0.14616071 0.14616056]\n",
      "[LibSVM][0.14626118 0.14626053 0.14627042 0.14740225 0.14626285]\n",
      "[LibSVM][0.14623215 0.14623335 0.14623177 0.14623226 0.14623238]\n",
      "[LibSVM][0.14620859 0.14620674 0.14620884 0.14620867 0.14620814]\n",
      "[LibSVM][0.14623452 0.14623452 0.14623318 0.14623493 0.14623276]\n",
      "[LibSVM][0.14620894 0.14620859 0.14620678 0.14620827 0.1462085 ]\n",
      "[LibSVM][0.14619149 0.14619269 0.14619023 0.14619271 0.14618972]\n",
      "[LibSVM][0.14621248 0.14621122 0.14621209 0.14621269 0.14621295]\n",
      "[LibSVM][0.14622683 0.14622681 0.14622643 0.14622556 0.1462262 ]\n",
      "[LibSVM][0.14616231 0.14616525 0.14616427 0.14616171 0.14616307]\n",
      "[LibSVM]"
     ]
    },
    {
     "name": "stderr",
     "output_type": "stream",
     "text": [
      "/home/nakamoto/venv/lib64/python3.6/site-packages/sklearn/svm/base.py:241: ConvergenceWarning: Solver terminated early (max_iter=1000).  Consider pre-processing your data with StandardScaler or MinMaxScaler.\n",
      "  % self.max_iter, ConvergenceWarning)\n",
      "/home/nakamoto/venv/lib64/python3.6/site-packages/sklearn/svm/base.py:241: ConvergenceWarning: Solver terminated early (max_iter=1000).  Consider pre-processing your data with StandardScaler or MinMaxScaler.\n",
      "  % self.max_iter, ConvergenceWarning)\n",
      "/home/nakamoto/venv/lib64/python3.6/site-packages/sklearn/svm/base.py:241: ConvergenceWarning: Solver terminated early (max_iter=1000).  Consider pre-processing your data with StandardScaler or MinMaxScaler.\n",
      "  % self.max_iter, ConvergenceWarning)\n",
      "/home/nakamoto/venv/lib64/python3.6/site-packages/sklearn/svm/base.py:241: ConvergenceWarning: Solver terminated early (max_iter=1000).  Consider pre-processing your data with StandardScaler or MinMaxScaler.\n",
      "  % self.max_iter, ConvergenceWarning)\n",
      "/home/nakamoto/venv/lib64/python3.6/site-packages/sklearn/svm/base.py:241: ConvergenceWarning: Solver terminated early (max_iter=1000).  Consider pre-processing your data with StandardScaler or MinMaxScaler.\n",
      "  % self.max_iter, ConvergenceWarning)\n",
      "/home/nakamoto/venv/lib64/python3.6/site-packages/sklearn/svm/base.py:241: ConvergenceWarning: Solver terminated early (max_iter=1000).  Consider pre-processing your data with StandardScaler or MinMaxScaler.\n",
      "  % self.max_iter, ConvergenceWarning)\n",
      "/home/nakamoto/venv/lib64/python3.6/site-packages/sklearn/svm/base.py:241: ConvergenceWarning: Solver terminated early (max_iter=1000).  Consider pre-processing your data with StandardScaler or MinMaxScaler.\n",
      "  % self.max_iter, ConvergenceWarning)\n",
      "/home/nakamoto/venv/lib64/python3.6/site-packages/sklearn/svm/base.py:241: ConvergenceWarning: Solver terminated early (max_iter=1000).  Consider pre-processing your data with StandardScaler or MinMaxScaler.\n",
      "  % self.max_iter, ConvergenceWarning)\n",
      "/home/nakamoto/venv/lib64/python3.6/site-packages/sklearn/svm/base.py:241: ConvergenceWarning: Solver terminated early (max_iter=1000).  Consider pre-processing your data with StandardScaler or MinMaxScaler.\n",
      "  % self.max_iter, ConvergenceWarning)\n",
      "/home/nakamoto/venv/lib64/python3.6/site-packages/sklearn/svm/base.py:241: ConvergenceWarning: Solver terminated early (max_iter=1000).  Consider pre-processing your data with StandardScaler or MinMaxScaler.\n",
      "  % self.max_iter, ConvergenceWarning)\n"
     ]
    },
    {
     "name": "stdout",
     "output_type": "stream",
     "text": [
      "[-0.14620892  0.14620867 -0.14620892  0.14620848  0.146208  ]\n",
      "[LibSVM][0.14622834 0.14622839 0.14622815 0.14621848 0.14622837]\n",
      "[LibSVM][0.14620956 0.1462092  0.14620943 0.14620931 0.14620905]\n",
      "[LibSVM][0.14625225 0.1462521  0.14625164 0.14681118 0.14681118]\n",
      "[LibSVM][0.14619983 0.14620188 0.14620144 0.14711743 0.14620027]\n",
      "[LibSVM][0.14617109 0.14617088 0.14617087 0.14616871 0.14617017]\n",
      "[LibSVM][0.14623744 0.14623752 0.14609351 0.14623638 0.14623737]\n",
      "[LibSVM][0.14616998 0.14617202 0.14617125 0.14617385 0.14617297]\n",
      "[LibSVM][0.14617955 0.14618198 0.14618152 0.14618256 0.14618287]\n",
      "[LibSVM][0.14615844 0.1461607  0.14615874 0.14615935 0.14616191]\n",
      "[LibSVM][0.14620999 0.14621025 0.14621    0.14620999 0.14620886]\n",
      "[LibSVM][0.14625473 0.14625482 0.14625475 0.14625451 0.14625454]\n",
      "[LibSVM]"
     ]
    },
    {
     "name": "stderr",
     "output_type": "stream",
     "text": [
      "/home/nakamoto/venv/lib64/python3.6/site-packages/sklearn/svm/base.py:241: ConvergenceWarning: Solver terminated early (max_iter=1000).  Consider pre-processing your data with StandardScaler or MinMaxScaler.\n",
      "  % self.max_iter, ConvergenceWarning)\n",
      "/home/nakamoto/venv/lib64/python3.6/site-packages/sklearn/svm/base.py:241: ConvergenceWarning: Solver terminated early (max_iter=1000).  Consider pre-processing your data with StandardScaler or MinMaxScaler.\n",
      "  % self.max_iter, ConvergenceWarning)\n",
      "/home/nakamoto/venv/lib64/python3.6/site-packages/sklearn/svm/base.py:241: ConvergenceWarning: Solver terminated early (max_iter=1000).  Consider pre-processing your data with StandardScaler or MinMaxScaler.\n",
      "  % self.max_iter, ConvergenceWarning)\n",
      "/home/nakamoto/venv/lib64/python3.6/site-packages/sklearn/svm/base.py:241: ConvergenceWarning: Solver terminated early (max_iter=1000).  Consider pre-processing your data with StandardScaler or MinMaxScaler.\n",
      "  % self.max_iter, ConvergenceWarning)\n",
      "/home/nakamoto/venv/lib64/python3.6/site-packages/sklearn/svm/base.py:241: ConvergenceWarning: Solver terminated early (max_iter=1000).  Consider pre-processing your data with StandardScaler or MinMaxScaler.\n",
      "  % self.max_iter, ConvergenceWarning)\n",
      "/home/nakamoto/venv/lib64/python3.6/site-packages/sklearn/svm/base.py:241: ConvergenceWarning: Solver terminated early (max_iter=1000).  Consider pre-processing your data with StandardScaler or MinMaxScaler.\n",
      "  % self.max_iter, ConvergenceWarning)\n",
      "/home/nakamoto/venv/lib64/python3.6/site-packages/sklearn/svm/base.py:241: ConvergenceWarning: Solver terminated early (max_iter=1000).  Consider pre-processing your data with StandardScaler or MinMaxScaler.\n",
      "  % self.max_iter, ConvergenceWarning)\n",
      "/home/nakamoto/venv/lib64/python3.6/site-packages/sklearn/svm/base.py:241: ConvergenceWarning: Solver terminated early (max_iter=1000).  Consider pre-processing your data with StandardScaler or MinMaxScaler.\n",
      "  % self.max_iter, ConvergenceWarning)\n",
      "/home/nakamoto/venv/lib64/python3.6/site-packages/sklearn/svm/base.py:241: ConvergenceWarning: Solver terminated early (max_iter=1000).  Consider pre-processing your data with StandardScaler or MinMaxScaler.\n",
      "  % self.max_iter, ConvergenceWarning)\n",
      "/home/nakamoto/venv/lib64/python3.6/site-packages/sklearn/svm/base.py:241: ConvergenceWarning: Solver terminated early (max_iter=1000).  Consider pre-processing your data with StandardScaler or MinMaxScaler.\n",
      "  % self.max_iter, ConvergenceWarning)\n",
      "/home/nakamoto/venv/lib64/python3.6/site-packages/sklearn/svm/base.py:241: ConvergenceWarning: Solver terminated early (max_iter=1000).  Consider pre-processing your data with StandardScaler or MinMaxScaler.\n",
      "  % self.max_iter, ConvergenceWarning)\n"
     ]
    },
    {
     "name": "stdout",
     "output_type": "stream",
     "text": [
      "[0.14625082 0.14625158 0.14625077 0.14624867 0.14625052]\n",
      "[LibSVM][0.14621087 0.14621083 0.14621031 0.14621057 0.14621069]\n",
      "[LibSVM][0.14622199 0.14622226 0.14622186 0.14622397 0.14695467]\n",
      "[LibSVM][0.14625647 0.14625614 0.14625607 0.14625508 0.14625442]\n",
      "[LibSVM][0.14619748 0.14619824 0.14619768 0.1461998  0.14619842]\n",
      "[LibSVM][0.14616435 0.14616406 0.14616238 0.14616281 0.1461642 ]\n",
      "[LibSVM][0.14619309 0.14619498 0.14619628 0.14619357 0.14619532]\n",
      "[LibSVM][0.146181   0.14618058 0.14618134 0.14617998 0.14618124]\n",
      "[LibSVM][0.14624294 0.14624233 0.14624221 0.14624221 0.14624225]\n",
      "[LibSVM][0.14616424 0.14616099 0.14616254 0.14616253 0.14616095]\n",
      "[LibSVM][0.14624181 0.14624418 0.14624333 0.14624183 0.14624398]\n",
      "[LibSVM][0.1462127  0.14621282 0.14621289 0.14621101 0.14621306]\n",
      "[LibSVM][0.14619798 0.14619879 0.1461998  0.14620007 0.14619954 0.14619965]\n"
     ]
    },
    {
     "name": "stderr",
     "output_type": "stream",
     "text": [
      "/home/nakamoto/venv/lib64/python3.6/site-packages/sklearn/svm/base.py:241: ConvergenceWarning: Solver terminated early (max_iter=1000).  Consider pre-processing your data with StandardScaler or MinMaxScaler.\n",
      "  % self.max_iter, ConvergenceWarning)\n",
      "/home/nakamoto/venv/lib64/python3.6/site-packages/sklearn/svm/base.py:241: ConvergenceWarning: Solver terminated early (max_iter=1000).  Consider pre-processing your data with StandardScaler or MinMaxScaler.\n",
      "  % self.max_iter, ConvergenceWarning)\n",
      "/home/nakamoto/venv/lib64/python3.6/site-packages/sklearn/svm/base.py:241: ConvergenceWarning: Solver terminated early (max_iter=1000).  Consider pre-processing your data with StandardScaler or MinMaxScaler.\n",
      "  % self.max_iter, ConvergenceWarning)\n",
      "/home/nakamoto/venv/lib64/python3.6/site-packages/sklearn/svm/base.py:241: ConvergenceWarning: Solver terminated early (max_iter=1000).  Consider pre-processing your data with StandardScaler or MinMaxScaler.\n",
      "  % self.max_iter, ConvergenceWarning)\n",
      "/home/nakamoto/venv/lib64/python3.6/site-packages/sklearn/svm/base.py:241: ConvergenceWarning: Solver terminated early (max_iter=1000).  Consider pre-processing your data with StandardScaler or MinMaxScaler.\n",
      "  % self.max_iter, ConvergenceWarning)\n",
      "/home/nakamoto/venv/lib64/python3.6/site-packages/sklearn/svm/base.py:241: ConvergenceWarning: Solver terminated early (max_iter=1000).  Consider pre-processing your data with StandardScaler or MinMaxScaler.\n",
      "  % self.max_iter, ConvergenceWarning)\n",
      "/home/nakamoto/venv/lib64/python3.6/site-packages/sklearn/svm/base.py:241: ConvergenceWarning: Solver terminated early (max_iter=1000).  Consider pre-processing your data with StandardScaler or MinMaxScaler.\n",
      "  % self.max_iter, ConvergenceWarning)\n",
      "/home/nakamoto/venv/lib64/python3.6/site-packages/sklearn/svm/base.py:241: ConvergenceWarning: Solver terminated early (max_iter=1000).  Consider pre-processing your data with StandardScaler or MinMaxScaler.\n",
      "  % self.max_iter, ConvergenceWarning)\n",
      "/home/nakamoto/venv/lib64/python3.6/site-packages/sklearn/svm/base.py:241: ConvergenceWarning: Solver terminated early (max_iter=1000).  Consider pre-processing your data with StandardScaler or MinMaxScaler.\n",
      "  % self.max_iter, ConvergenceWarning)\n",
      "/home/nakamoto/venv/lib64/python3.6/site-packages/sklearn/svm/base.py:241: ConvergenceWarning: Solver terminated early (max_iter=1000).  Consider pre-processing your data with StandardScaler or MinMaxScaler.\n",
      "  % self.max_iter, ConvergenceWarning)\n",
      "/home/nakamoto/venv/lib64/python3.6/site-packages/sklearn/svm/base.py:241: ConvergenceWarning: Solver terminated early (max_iter=1000).  Consider pre-processing your data with StandardScaler or MinMaxScaler.\n",
      "  % self.max_iter, ConvergenceWarning)\n",
      "/home/nakamoto/venv/lib64/python3.6/site-packages/sklearn/svm/base.py:241: ConvergenceWarning: Solver terminated early (max_iter=1000).  Consider pre-processing your data with StandardScaler or MinMaxScaler.\n",
      "  % self.max_iter, ConvergenceWarning)\n"
     ]
    },
    {
     "name": "stdout",
     "output_type": "stream",
     "text": [
      "[LibSVM][0.14620568 0.14620784 0.14620681 0.14620769 0.14620771]\n",
      "[LibSVM][0.14621414 0.14621365 0.14621389 0.14621312 0.14621387]\n",
      "[LibSVM][0.14620889 0.14620689 0.14620848 0.14620889 0.1462089 ]\n",
      "[LibSVM][0.1462358  0.14623558 0.1462356  0.1462357  0.14623446]\n",
      "[LibSVM][0.14620824 0.14620813 0.14620819 0.1462082  0.14620816]\n"
     ]
    },
    {
     "name": "stderr",
     "output_type": "stream",
     "text": [
      "/home/nakamoto/venv/lib64/python3.6/site-packages/sklearn/svm/base.py:241: ConvergenceWarning: Solver terminated early (max_iter=1000).  Consider pre-processing your data with StandardScaler or MinMaxScaler.\n",
      "  % self.max_iter, ConvergenceWarning)\n"
     ]
    },
    {
     "data": {
      "image/png": "[encoded data removed]",
      "text/plain": [
       "<Figure size 432x288 with 1 Axes>"
      ]
     },
     "metadata": {
      "needs_background": "light"
     },
     "output_type": "display_data"
    },
    {
     "name": "stdout",
     "output_type": "stream",
     "text": [
      "len: 211 , 211\n",
      "confusion_matrix: \n",
      "[[138.  31.]\n",
      " [ 30.  12.]]\n",
      "AUC: \n",
      "0.4890814313891237\n",
      "\n"
     ]
    }
   ],
   "source": [
    "main()"
   ]
  },
  {
   "cell_type": "raw",
   "metadata": {},
   "source": [
    "lgbm 0.73\n",
    "svm 0.60\n",
    "xgb 0.63\n",
    "\n",
    "lgbm + svm 0.73\n",
    "xgb + svm 0.65\n",
    "lgbm + svm + xgb 0.75\n",
    "\n",
    "lr  0.71"
   ]
  },
  {
   "cell_type": "code",
   "execution_count": null,
   "metadata": {},
   "outputs": [],
   "source": []
  }
 ],
 "metadata": {
  "kernelspec": {
   "display_name": "Python 3",
   "language": "python",
   "name": "python3"
  },
  "language_info": {
   "codemirror_mode": {
    "name": "ipython",
    "version": 3
   },
   "file_extension": ".py",
   "mimetype": "text/x-python",
   "name": "python",
   "nbconvert_exporter": "python",
   "pygments_lexer": "ipython3",
   "version": "3.6.3"
  }
 },
 "nbformat": 4,
 "nbformat_minor": 2
}
