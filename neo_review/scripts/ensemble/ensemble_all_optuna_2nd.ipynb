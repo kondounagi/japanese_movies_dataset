{
 "cells": [
  {
   "cell_type": "code",
   "execution_count": 1,
   "metadata": {},
   "outputs": [],
   "source": [
    "import numpy as np\n",
    "import json\n",
    "import csv\n",
    "import pandas as pd\n",
    "import matplotlib.pyplot as plt\n",
    "\n",
    "from sklearn.linear_model import LogisticRegression\n",
    "from sklearn.discriminant_analysis import LinearDiscriminantAnalysis as LDA\n",
    "import lightgbm as lgb\n",
    "from sklearn import svm\n",
    "import xgboost as xgb\n",
    "import catboost\n",
    "from sklearn.neural_network import MLPRegressor\n",
    "import optuna\n",
    "\n",
    "from sklearn.metrics import confusion_matrix, roc_auc_score, roc_curve\n",
    "from sklearn.preprocessing import StandardScaler\n",
    "%matplotlib inline"
   ]
  },
  {
   "cell_type": "code",
   "execution_count": 2,
   "metadata": {},
   "outputs": [],
   "source": [
    "def load_data(y):\n",
    "    path = '../../data/std_data/'\n",
    "    x_train_std = pd.read_pickle(path +'train/{}_x.pkl'.format(str(y))).values\n",
    "    x_test_std = pd.read_pickle(path +'test/{}_x.pkl'.format(str(y))).values\n",
    "    y_train = pd.read_pickle(path +'train/{}_y.pkl'.format(str(y))).values\n",
    "    y_test = pd.read_pickle(path +'test/{}_y.pkl'.format(str(y))).values\n",
    "    features = pd.read_pickle(path +'train/{}_x.pkl'.format(str(y))).columns\n",
    "    return x_train_std, x_test_std, y_train, y_test, features"
   ]
  },
  {
   "cell_type": "code",
   "execution_count": 3,
   "metadata": {},
   "outputs": [],
   "source": [
    "def plot_roc_curve(fpr, tpr, auc):\n",
    "    # ROC曲線をプロット\n",
    "    plt.plot(fpr, tpr, label='ROC curve (area = %.2f)'%auc)\n",
    "    plt.legend()\n",
    "    plt.title('ROC curve')\n",
    "    plt.xlabel('False Positive Rate')\n",
    "    plt.ylabel('True Positive Rate')\n",
    "    plt.grid(True)\n",
    "    plt.show()"
   ]
  },
  {
   "cell_type": "code",
   "execution_count": 4,
   "metadata": {},
   "outputs": [],
   "source": [
    "def train():\n",
    "    \n",
    "    # 予測した確率全体を格納\n",
    "    probs_all_lr = np.array([])\n",
    "    probs_all_lda = np.array([])\n",
    "    probs_all_sv = np.array([])\n",
    "    probs_all_lgbm = np.array([])\n",
    "    probs_all_xgb = np.array([])\n",
    "    probs_all_cb = np.array([])\n",
    "    probs_all_mlp = np.array([])\n",
    "    \n",
    "    y_true_all = np.array([])\n",
    "    \n",
    "    for y in range(1978, 2020):\n",
    "        \n",
    "        # データの生成\n",
    "        x_train_std, x_test_std, y_train, y_test, features = load_data(y)\n",
    "        y_true_all = np.hstack((y_true_all, y_test))\n",
    "       \n",
    "        # logistic regression\n",
    "        lr = LogisticRegression(class_weight=\"balanced\", solver=\"liblinear\",  penalty=\"l2\", C=0.0001, random_state=0,) # ロジスティック回帰モデルのインスタンスを作成\n",
    "        lr.fit(x_train_std, y_train) # ロジスティック回帰モデルの重みを学習\n",
    "        probs_lr = lr.predict_proba(x_test_std)[:,1]\n",
    "        probs_all_lr = np.hstack((probs_all_lr, probs_lr))\n",
    "        \n",
    "        # LDA\n",
    "        lda = LDA(solver=\"eigen\", shrinkage=1).fit(x_train_std,  y_train)\n",
    "        probs_lda = lda.predict_proba(x_test_std)[:,1]\n",
    "        probs_all_lda = np.hstack((probs_all_lda, probs_lda))\n",
    "        \n",
    "        # svm\n",
    "        sv = svm.SVR(kernel=\"sigmoid\",\n",
    "                                     degree=4,\n",
    "                                     gamma=0.043502212815589775,\n",
    "                                     coef0=0.20190829020616494,\n",
    "                                     tol=0.0001,\n",
    "                                     C=0.000245786293391316,\n",
    "                                     epsilon=0.3056167642389302,\n",
    "                                    verbose=False,)\n",
    "        sv.fit(x_train_std, y_train)\n",
    "        probs_sv = sv.predict(x_test_std)\n",
    "        probs_all_sv = np.hstack((probs_all_sv, probs_sv))\n",
    "        \n",
    "        # xgb\n",
    "        xgboost = xgb.XGBRegressor(silent= True, \n",
    "                               random_state=0,\n",
    "                               max_depth=4,\n",
    "                               learning_rate=0.12765177534095626,\n",
    "                               n_estimators = 46,\n",
    "                               gamma=0.060805284848630535,\n",
    "                               reg_lambda=4.995675788308118,\n",
    "                               reg_alpha=2.1912254426545754,\n",
    "                               sub_sample=0.45297631180790854,\n",
    "                               scale_pos_weight=1.1672978934986058)\n",
    "        xgboost.fit(x_train_std, y_train)\n",
    "        probs_xgb = xgboost.predict(x_test_std)\n",
    "        probs_all_xgb = np.hstack((probs_all_xgb, probs_xgb))\n",
    "        \n",
    "        \n",
    "        \n",
    "        # lgbm\n",
    "        lgbm = lgb.LGBMRegressor(\n",
    "            random_state=0,\n",
    "            verbosity=-1,\n",
    "            bagging_seed=0,\n",
    "            boost_from_average='true',\n",
    "            metric='auc',\n",
    "            bagging_freq=4,\n",
    "            min_data_in_leaf=21,\n",
    "            max_depth=13,\n",
    "            learning_rate=0.08731913651405197,\n",
    "            n_estimators=3394,\n",
    "            subsample=0.7054763057027115,\n",
    "            num_leaves=438,\n",
    "            reg_lambda=0.9377125325944119,  \n",
    "        )\n",
    "        \n",
    "        lgbm.fit(x_train_std, y_train)\n",
    "        probs_lgbm = lgbm.predict(x_test_std)\n",
    "        probs_all_lgbm = np.hstack((probs_all_lgbm, probs_lgbm))\n",
    "        \n",
    "        # catboost\n",
    "        cb = catboost.CatBoostRegressor(\n",
    "            random_state=0,\n",
    "            iterations=258,\n",
    "            depth=2,\n",
    "            learning_rate=0.019083573879517587,\n",
    "            random_strength=84,\n",
    "            bagging_temperature=0.3233702745357832,\n",
    "            od_type=\"Iter\",\n",
    "            od_wait=32, \n",
    "            logging_level='Silent')\n",
    "        cb.fit(x_train_std, y_train)\n",
    "        probs_cb = cb.predict(x_test_std)\n",
    "        probs_all_cb = np.hstack((probs_all_cb, probs_cb))   \n",
    "        \n",
    "        # mlp\n",
    "        mlp = MLPRegressor(hidden_layer_sizes=(32,),\n",
    "                           activation='relu',\n",
    "                           solver='adam',\n",
    "                           alpha=4.76324733221396,\n",
    "                           batch_size='auto',\n",
    "                           learning_rate='constant', \n",
    "                           learning_rate_init=0.0012043271455668674, \n",
    "                           power_t=0.5,\n",
    "                           max_iter=1000, \n",
    "                           shuffle=True,\n",
    "                           random_state=0, \n",
    "                           tol=0.0001, \n",
    "                           verbose=False, \n",
    "                           warm_start=False, \n",
    "                           momentum=0.9,\n",
    "                           nesterovs_momentum=True, \n",
    "                           early_stopping=False, \n",
    "                           validation_fraction=0.1, \n",
    "                           beta_1=0.022158342014810775, \n",
    "                           beta_2= 0.7802116425099002,\n",
    "                           epsilon=1e-08,\n",
    "                           )\n",
    "        mlp.fit(x_train_std, y_train)\n",
    "        probs_mlp = mlp.predict(x_test_std)\n",
    "        probs_all_mlp = np.hstack((probs_all_mlp, probs_mlp))   \n",
    "    \n",
    "    auc_lr = roc_auc_score(y_true_all, probs_all_lr)\n",
    "    auc_lda = roc_auc_score(y_true_all, probs_all_lda)\n",
    "    auc_sv = roc_auc_score(y_true_all, probs_all_sv)\n",
    "    auc_xgb = roc_auc_score(y_true_all, probs_all_xgb)\n",
    "    auc_lgbm = roc_auc_score(y_true_all, probs_all_lgbm)\n",
    "    auc_cb = roc_auc_score(y_true_all, probs_all_cb)\n",
    "    auc_mlp = roc_auc_score(y_true_all, probs_all_mlp)\n",
    "    \n",
    "    all_models_probs = [probs_all_lr, probs_all_lda, probs_all_sv, probs_all_xgb, probs_all_lgbm, probs_all_cb, probs_all_mlp]\n",
    "    \n",
    "    print(\"len: {0} \".format(len(y_true_all) ))\n",
    "\n",
    "    print(\"AUC LR: \",auc_lr)\n",
    "    print(\"AUC LDA: \",auc_lda)\n",
    "    print(\"AUC svm: \",auc_sv)\n",
    "    print(\"AUC xgb: \",auc_xgb)\n",
    "    print(\"AUC lgbm: \", auc_lgbm)\n",
    "    print(\"AUC CB: \",auc_cb)\n",
    "    print(\"AUC MLP: \",auc_mlp)\n",
    "    print()\n",
    "    return y_true_all, all_models_probs"
   ]
  },
  {
   "cell_type": "code",
   "execution_count": 8,
   "metadata": {},
   "outputs": [],
   "source": [
    "def optimize(trial, y_true_all, all_models_probs):\n",
    "    \n",
    "    w_lr = trial.suggest_uniform('w_lr', 0.0, 1.0)\n",
    "    w_lda =trial.suggest_uniform('w_lda', 0.0, 1.0)\n",
    "    w_sv = trial.suggest_uniform('w_sv', 0.5, 1.0)\n",
    "    w_xgb = trial.suggest_uniform('w_xgb', 0.0, 1.0)\n",
    "    w_lgbm = trial.suggest_uniform('w_lgbm', 0.0, 1.0)\n",
    "    w_cb = 0\n",
    "    w_mlp = trial.suggest_uniform('w_mlp', 0.5, 1.0)\n",
    "    \n",
    "    # 各モデルの重み\n",
    "    w = np.array([w_lr, w_lda, w_sv, w_xgb, w_lgbm,w_cb, w_mlp])\n",
    "    w_norm = w/np.sum(w)\n",
    "    \n",
    "    \n",
    "    print(\"[w_lr, w_lda, w_sv, w_xgb, w_lgbm,w_cb ] = \", w)\n",
    "    print(\"norm = \", w_norm)\n",
    "    \n",
    "    # 各モデル結果の重み付き平均\n",
    "    probs_weighted_average = np.array([0 for i in range(len(y_true_all))], dtype='float64')\n",
    "    for probs, weight in zip(all_models_probs, w_norm):\n",
    "        probs_weighted_average += (probs * weight)\n",
    "\n",
    "    auc = roc_auc_score(y_true_all, probs_weighted_average)\n",
    "    \n",
    "    fpr, tpr, thresholds = roc_curve(y_true_all, probs_weighted_average)\n",
    "    \n",
    "#     plot_roc_curve(fpr, tpr, auc)\n",
    "\n",
    "    print(\"AUC all: \",auc)\n",
    "    print()\n",
    "    return -auc"
   ]
  },
  {
   "cell_type": "code",
   "execution_count": 9,
   "metadata": {},
   "outputs": [],
   "source": [
    "def main():\n",
    "    np.set_printoptions(precision=3, suppress=True)\n",
    "    \n",
    "    y_true_all, all_models_probs = train()\n",
    "    \n",
    "    study = optuna.create_study()\n",
    "    study.optimize(lambda trial: optimize(trial, y_true_all, all_models_probs), n_trials=10000)\n",
    "    print(study.best_trial)"
   ]
  },
  {
   "cell_type": "code",
   "execution_count": 10,
   "metadata": {
    "scrolled": true
   },
   "outputs": [
    {
     "name": "stdout",
     "output_type": "stream",
     "text": [
      "len: 211 \n",
      "AUC LR:  0.7482389405466329\n",
      "AUC LDA:  0.7418991265145111\n",
      "AUC svm:  0.794590025359256\n",
      "AUC xgb:  0.7607072414764722\n",
      "AUC lgbm:  0.7602141448295294\n",
      "AUC CB:  0.7561284868977177\n",
      "AUC MLP:  0.777120315581854\n",
      "\n",
      "[w_lr, w_lda, w_sv, w_xgb, w_lgbm,w_cb ] =  [0.687 0.812 0.896 0.264 0.308 0.    0.722]\n",
      "norm =  [0.186 0.22  0.243 0.072 0.084 0.    0.196]\n",
      "AUC all:  0.7786700479008172\n",
      "\n"
     ]
    },
    {
     "name": "stderr",
     "output_type": "stream",
     "text": [
      "[I 2019-08-24 12:11:29,168] Finished trial#0 resulted in value: -0.7786700479008172. Current best value is -0.7786700479008172 with parameters: {'w_lr': 0.6871455836427625, 'w_lda': 0.8119700207982415, 'w_sv': 0.8962616354809463, 'w_xgb': 0.2640409042551186, 'w_lgbm': 0.3081739154703371, 'w_mlp': 0.7220259539103066}.\n"
     ]
    },
    {
     "name": "stdout",
     "output_type": "stream",
     "text": [
      "[w_lr, w_lda, w_sv, w_xgb, w_lgbm,w_cb ] =  [0.455 0.796 0.712 0.23  0.553 0.    0.501]\n",
      "norm =  [0.14  0.245 0.219 0.071 0.17  0.    0.154]\n",
      "AUC all:  0.7776838546069315\n",
      "\n"
     ]
    },
    {
     "name": "stderr",
     "output_type": "stream",
     "text": [
      "[I 2019-08-24 12:11:29,284] Finished trial#1 resulted in value: -0.7776838546069315. Current best value is -0.7786700479008172 with parameters: {'w_lr': 0.6871455836427625, 'w_lda': 0.8119700207982415, 'w_sv': 0.8962616354809463, 'w_xgb': 0.2640409042551186, 'w_lgbm': 0.3081739154703371, 'w_mlp': 0.7220259539103066}.\n"
     ]
    },
    {
     "name": "stdout",
     "output_type": "stream",
     "text": [
      "[w_lr, w_lda, w_sv, w_xgb, w_lgbm,w_cb ] =  [0.507 0.497 0.62  0.04  0.061 0.    0.765]\n",
      "norm =  [0.204 0.2   0.249 0.016 0.024 0.    0.307]\n",
      "AUC all:  0.773316427162581\n",
      "\n"
     ]
    },
    {
     "name": "stderr",
     "output_type": "stream",
     "text": [
      "[I 2019-08-24 12:11:29,400] Finished trial#2 resulted in value: -0.773316427162581. Current best value is -0.7786700479008172 with parameters: {'w_lr': 0.6871455836427625, 'w_lda': 0.8119700207982415, 'w_sv': 0.8962616354809463, 'w_xgb': 0.2640409042551186, 'w_lgbm': 0.3081739154703371, 'w_mlp': 0.7220259539103066}.\n"
     ]
    },
    {
     "name": "stdout",
     "output_type": "stream",
     "text": [
      "[w_lr, w_lda, w_sv, w_xgb, w_lgbm,w_cb ] =  [0.22  0.763 0.648 0.523 0.181 0.    0.794]\n",
      "norm =  [0.07  0.244 0.207 0.167 0.058 0.    0.254]\n",
      "AUC all:  0.7779656241194702\n",
      "\n"
     ]
    },
    {
     "name": "stderr",
     "output_type": "stream",
     "text": [
      "[I 2019-08-24 12:11:29,519] Finished trial#3 resulted in value: -0.7779656241194702. Current best value is -0.7786700479008172 with parameters: {'w_lr': 0.6871455836427625, 'w_lda': 0.8119700207982415, 'w_sv': 0.8962616354809463, 'w_xgb': 0.2640409042551186, 'w_lgbm': 0.3081739154703371, 'w_mlp': 0.7220259539103066}.\n"
     ]
    },
    {
     "name": "stdout",
     "output_type": "stream",
     "text": [
      "[w_lr, w_lda, w_sv, w_xgb, w_lgbm,w_cb ] =  [0.055 0.552 0.692 0.719 0.395 0.    0.728]\n",
      "norm =  [0.018 0.176 0.22  0.229 0.126 0.    0.232]\n",
      "AUC all:  0.7874049027895182\n",
      "\n"
     ]
    },
    {
     "name": "stderr",
     "output_type": "stream",
     "text": [
      "[I 2019-08-24 12:11:29,636] Finished trial#4 resulted in value: -0.7874049027895182. Current best value is -0.7874049027895182 with parameters: {'w_lr': 0.05530187639647899, 'w_lda': 0.5521381993954498, 'w_sv': 0.6921550045760142, 'w_xgb': 0.719319702279739, 'w_lgbm': 0.39526311288347804, 'w_mlp': 0.727734114715858}.\n"
     ]
    },
    {
     "name": "stdout",
     "output_type": "stream",
     "text": [
      "[w_lr, w_lda, w_sv, w_xgb, w_lgbm,w_cb ] =  [0.281 0.695 0.691 0.536 0.977 0.    0.811]\n",
      "norm =  [0.07  0.174 0.173 0.134 0.245 0.    0.203]\n",
      "AUC all:  0.7812059735136658\n",
      "\n"
     ]
    },
    {
     "name": "stderr",
     "output_type": "stream",
     "text": [
      "[I 2019-08-24 12:11:29,754] Finished trial#5 resulted in value: -0.7812059735136658. Current best value is -0.7874049027895182 with parameters: {'w_lr': 0.05530187639647899, 'w_lda': 0.5521381993954498, 'w_sv': 0.6921550045760142, 'w_xgb': 0.719319702279739, 'w_lgbm': 0.39526311288347804, 'w_mlp': 0.727734114715858}.\n"
     ]
    },
    {
     "name": "stdout",
     "output_type": "stream",
     "text": [
      "[w_lr, w_lda, w_sv, w_xgb, w_lgbm,w_cb ] =  [0.82  0.591 0.777 0.289 0.681 0.    0.72 ]\n",
      "norm =  [0.211 0.152 0.2   0.075 0.176 0.    0.186]\n",
      "AUC all:  0.7820512820512819\n",
      "\n"
     ]
    },
    {
     "name": "stderr",
     "output_type": "stream",
     "text": [
      "[I 2019-08-24 12:11:29,880] Finished trial#6 resulted in value: -0.7820512820512819. Current best value is -0.7874049027895182 with parameters: {'w_lr': 0.05530187639647899, 'w_lda': 0.5521381993954498, 'w_sv': 0.6921550045760142, 'w_xgb': 0.719319702279739, 'w_lgbm': 0.39526311288347804, 'w_mlp': 0.727734114715858}.\n"
     ]
    },
    {
     "name": "stdout",
     "output_type": "stream",
     "text": [
      "[w_lr, w_lda, w_sv, w_xgb, w_lgbm,w_cb ] =  [0.966 0.773 0.959 0.657 0.238 0.    0.804]\n",
      "norm =  [0.22  0.176 0.218 0.149 0.054 0.    0.183]\n",
      "AUC all:  0.7782473936320091\n",
      "\n"
     ]
    },
    {
     "name": "stderr",
     "output_type": "stream",
     "text": [
      "[I 2019-08-24 12:11:30,003] Finished trial#7 resulted in value: -0.7782473936320091. Current best value is -0.7874049027895182 with parameters: {'w_lr': 0.05530187639647899, 'w_lda': 0.5521381993954498, 'w_sv': 0.6921550045760142, 'w_xgb': 0.719319702279739, 'w_lgbm': 0.39526311288347804, 'w_mlp': 0.727734114715858}.\n"
     ]
    },
    {
     "name": "stdout",
     "output_type": "stream",
     "text": [
      "[w_lr, w_lda, w_sv, w_xgb, w_lgbm,w_cb ] =  [0.717 0.302 0.59  0.085 0.889 0.    0.536]\n",
      "norm =  [0.23  0.097 0.189 0.027 0.285 0.    0.172]\n",
      "AUC all:  0.774443505212736\n",
      "\n"
     ]
    },
    {
     "name": "stderr",
     "output_type": "stream",
     "text": [
      "[I 2019-08-24 12:11:30,129] Finished trial#8 resulted in value: -0.774443505212736. Current best value is -0.7874049027895182 with parameters: {'w_lr': 0.05530187639647899, 'w_lda': 0.5521381993954498, 'w_sv': 0.6921550045760142, 'w_xgb': 0.719319702279739, 'w_lgbm': 0.39526311288347804, 'w_mlp': 0.727734114715858}.\n"
     ]
    },
    {
     "name": "stdout",
     "output_type": "stream",
     "text": [
      "[w_lr, w_lda, w_sv, w_xgb, w_lgbm,w_cb ] =  [0.961 0.688 0.746 0.558 0.477 0.    0.969]\n",
      "norm =  [0.218 0.156 0.17  0.127 0.108 0.    0.22 ]\n",
      "AUC all:  0.7845872076641307\n",
      "\n"
     ]
    },
    {
     "name": "stderr",
     "output_type": "stream",
     "text": [
      "[I 2019-08-24 12:11:30,265] Finished trial#9 resulted in value: -0.7845872076641307. Current best value is -0.7874049027895182 with parameters: {'w_lr': 0.05530187639647899, 'w_lda': 0.5521381993954498, 'w_sv': 0.6921550045760142, 'w_xgb': 0.719319702279739, 'w_lgbm': 0.39526311288347804, 'w_mlp': 0.727734114715858}.\n"
     ]
    },
    {
     "name": "stdout",
     "output_type": "stream",
     "text": [
      "[w_lr, w_lda, w_sv, w_xgb, w_lgbm,w_cb ] =  [0.004 0.032 0.539 0.981 0.734 0.    0.615]\n",
      "norm =  [0.001 0.011 0.185 0.338 0.253 0.    0.212]\n",
      "AUC all:  0.7848689771766696\n",
      "\n"
     ]
    },
    {
     "name": "stderr",
     "output_type": "stream",
     "text": [
      "[I 2019-08-24 12:11:30,430] Finished trial#10 resulted in value: -0.7848689771766696. Current best value is -0.7874049027895182 with parameters: {'w_lr': 0.05530187639647899, 'w_lda': 0.5521381993954498, 'w_sv': 0.6921550045760142, 'w_xgb': 0.719319702279739, 'w_lgbm': 0.39526311288347804, 'w_mlp': 0.727734114715858}.\n"
     ]
    },
    {
     "name": "stdout",
     "output_type": "stream",
     "text": [
      "[w_lr, w_lda, w_sv, w_xgb, w_lgbm,w_cb ] =  [0.076 0.06  0.512 0.999 0.771 0.    0.615]\n",
      "norm =  [0.025 0.02  0.169 0.329 0.254 0.    0.203]\n",
      "AUC all:  0.7850098619329389\n",
      "\n"
     ]
    },
    {
     "name": "stderr",
     "output_type": "stream",
     "text": [
      "[I 2019-08-24 12:11:30,585] Finished trial#11 resulted in value: -0.7850098619329389. Current best value is -0.7874049027895182 with parameters: {'w_lr': 0.05530187639647899, 'w_lda': 0.5521381993954498, 'w_sv': 0.6921550045760142, 'w_xgb': 0.719319702279739, 'w_lgbm': 0.39526311288347804, 'w_mlp': 0.727734114715858}.\n"
     ]
    },
    {
     "name": "stdout",
     "output_type": "stream",
     "text": [
      "[w_lr, w_lda, w_sv, w_xgb, w_lgbm,w_cb ] =  [0.016 0.306 0.504 0.993 0.432 0.    0.618]\n",
      "norm =  [0.006 0.107 0.176 0.346 0.15  0.    0.215]\n",
      "AUC all:  0.7876866723020569\n",
      "\n"
     ]
    },
    {
     "name": "stderr",
     "output_type": "stream",
     "text": [
      "[I 2019-08-24 12:11:30,746] Finished trial#12 resulted in value: -0.7876866723020569. Current best value is -0.7876866723020569 with parameters: {'w_lr': 0.016002358075562904, 'w_lda': 0.3059623573431674, 'w_sv': 0.5044080977691995, 'w_xgb': 0.9934991944491495, 'w_lgbm': 0.43155623508661994, 'w_mlp': 0.6178894810862445}.\n"
     ]
    },
    {
     "name": "stdout",
     "output_type": "stream",
     "text": [
      "[w_lr, w_lda, w_sv, w_xgb, w_lgbm,w_cb ] =  [0.127 0.337 0.811 0.811 0.413 0.    0.632]\n",
      "norm =  [0.041 0.108 0.259 0.259 0.132 0.    0.202]\n",
      "AUC all:  0.7874049027895181\n",
      "\n"
     ]
    },
    {
     "name": "stderr",
     "output_type": "stream",
     "text": [
      "[I 2019-08-24 12:11:30,908] Finished trial#13 resulted in value: -0.7874049027895181. Current best value is -0.7876866723020569 with parameters: {'w_lr': 0.016002358075562904, 'w_lda': 0.3059623573431674, 'w_sv': 0.5044080977691995, 'w_xgb': 0.9934991944491495, 'w_lgbm': 0.43155623508661994, 'w_mlp': 0.6178894810862445}.\n"
     ]
    },
    {
     "name": "stdout",
     "output_type": "stream",
     "text": [
      "[w_lr, w_lda, w_sv, w_xgb, w_lgbm,w_cb ] =  [0.004 0.961 0.56  0.815 0.367 0.    0.907]\n",
      "norm =  [0.001 0.266 0.155 0.226 0.102 0.    0.251]\n",
      "AUC all:  0.7810650887573964\n",
      "\n"
     ]
    },
    {
     "name": "stderr",
     "output_type": "stream",
     "text": [
      "[I 2019-08-24 12:11:31,090] Finished trial#14 resulted in value: -0.7810650887573964. Current best value is -0.7876866723020569 with parameters: {'w_lr': 0.016002358075562904, 'w_lda': 0.3059623573431674, 'w_sv': 0.5044080977691995, 'w_xgb': 0.9934991944491495, 'w_lgbm': 0.43155623508661994, 'w_mlp': 0.6178894810862445}.\n"
     ]
    },
    {
     "name": "stdout",
     "output_type": "stream",
     "text": [
      "[w_lr, w_lda, w_sv, w_xgb, w_lgbm,w_cb ] =  [0.336 0.26  0.854 0.843 0.549 0.    0.672]\n",
      "norm =  [0.096 0.074 0.243 0.24  0.156 0.    0.191]\n",
      "AUC all:  0.7864187094956326\n",
      "\n"
     ]
    },
    {
     "name": "stderr",
     "output_type": "stream",
     "text": [
      "[I 2019-08-24 12:11:31,251] Finished trial#15 resulted in value: -0.7864187094956326. Current best value is -0.7876866723020569 with parameters: {'w_lr': 0.016002358075562904, 'w_lda': 0.3059623573431674, 'w_sv': 0.5044080977691995, 'w_xgb': 0.9934991944491495, 'w_lgbm': 0.43155623508661994, 'w_mlp': 0.6178894810862445}.\n"
     ]
    },
    {
     "name": "stdout",
     "output_type": "stream",
     "text": [
      "[w_lr, w_lda, w_sv, w_xgb, w_lgbm,w_cb ] =  [0.176 0.441 0.658 0.705 0.081 0.    0.557]\n",
      "norm =  [0.067 0.168 0.251 0.269 0.031 0.    0.213]\n",
      "AUC all:  0.7750070442378135\n",
      "\n"
     ]
    },
    {
     "name": "stderr",
     "output_type": "stream",
     "text": [
      "[I 2019-08-24 12:11:31,411] Finished trial#16 resulted in value: -0.7750070442378135. Current best value is -0.7876866723020569 with parameters: {'w_lr': 0.016002358075562904, 'w_lda': 0.3059623573431674, 'w_sv': 0.5044080977691995, 'w_xgb': 0.9934991944491495, 'w_lgbm': 0.43155623508661994, 'w_mlp': 0.6178894810862445}.\n"
     ]
    },
    {
     "name": "stdout",
     "output_type": "stream",
     "text": [
      "[w_lr, w_lda, w_sv, w_xgb, w_lgbm,w_cb ] =  [0.014 0.147 0.997 0.982 0.624 0.    0.66 ]\n",
      "norm =  [0.004 0.043 0.291 0.287 0.182 0.    0.193]\n",
      "AUC all:  0.7845872076641307\n",
      "\n"
     ]
    },
    {
     "name": "stderr",
     "output_type": "stream",
     "text": [
      "[I 2019-08-24 12:11:31,576] Finished trial#17 resulted in value: -0.7845872076641307. Current best value is -0.7876866723020569 with parameters: {'w_lr': 0.016002358075562904, 'w_lda': 0.3059623573431674, 'w_sv': 0.5044080977691995, 'w_xgb': 0.9934991944491495, 'w_lgbm': 0.43155623508661994, 'w_mlp': 0.6178894810862445}.\n"
     ]
    },
    {
     "name": "stdout",
     "output_type": "stream",
     "text": [
      "[w_lr, w_lda, w_sv, w_xgb, w_lgbm,w_cb ] =  [0.424 0.399 0.578 0.409 0.208 0.    0.907]\n",
      "norm =  [0.145 0.136 0.198 0.14  0.071 0.    0.31 ]\n",
      "AUC all:  0.7833192448577064\n",
      "\n"
     ]
    },
    {
     "name": "stderr",
     "output_type": "stream",
     "text": [
      "[I 2019-08-24 12:11:31,751] Finished trial#18 resulted in value: -0.7833192448577064. Current best value is -0.7876866723020569 with parameters: {'w_lr': 0.016002358075562904, 'w_lda': 0.3059623573431674, 'w_sv': 0.5044080977691995, 'w_xgb': 0.9934991944491495, 'w_lgbm': 0.43155623508661994, 'w_mlp': 0.6178894810862445}.\n"
     ]
    },
    {
     "name": "stdout",
     "output_type": "stream",
     "text": [
      "[w_lr, w_lda, w_sv, w_xgb, w_lgbm,w_cb ] =  [0.096 0.19  0.506 0.898 0.432 0.    0.553]\n",
      "norm =  [0.036 0.071 0.189 0.336 0.162 0.    0.207]\n",
      "AUC all:  0.7864187094956326\n",
      "\n"
     ]
    },
    {
     "name": "stderr",
     "output_type": "stream",
     "text": [
      "[I 2019-08-24 12:11:31,920] Finished trial#19 resulted in value: -0.7864187094956326. Current best value is -0.7876866723020569 with parameters: {'w_lr': 0.016002358075562904, 'w_lda': 0.3059623573431674, 'w_sv': 0.5044080977691995, 'w_xgb': 0.9934991944491495, 'w_lgbm': 0.43155623508661994, 'w_mlp': 0.6178894810862445}.\n"
     ]
    },
    {
     "name": "stdout",
     "output_type": "stream",
     "text": [
      "[w_lr, w_lda, w_sv, w_xgb, w_lgbm,w_cb ] =  [0.329 0.591 0.915 0.711 0.315 0.    0.858]\n",
      "norm =  [0.088 0.159 0.246 0.191 0.085 0.    0.231]\n",
      "AUC all:  0.7847280924204001\n",
      "\n"
     ]
    },
    {
     "name": "stderr",
     "output_type": "stream",
     "text": [
      "[I 2019-08-24 12:11:32,093] Finished trial#20 resulted in value: -0.7847280924204001. Current best value is -0.7876866723020569 with parameters: {'w_lr': 0.016002358075562904, 'w_lda': 0.3059623573431674, 'w_sv': 0.5044080977691995, 'w_xgb': 0.9934991944491495, 'w_lgbm': 0.43155623508661994, 'w_mlp': 0.6178894810862445}.\n"
     ]
    },
    {
     "name": "stdout",
     "output_type": "stream",
     "text": [
      "[w_lr, w_lda, w_sv, w_xgb, w_lgbm,w_cb ] =  [0.124 0.363 0.83  0.792 0.416 0.    0.633]\n",
      "norm =  [0.039 0.115 0.263 0.251 0.132 0.    0.2  ]\n",
      "AUC all:  0.7876866723020569\n",
      "\n"
     ]
    },
    {
     "name": "stderr",
     "output_type": "stream",
     "text": [
      "[I 2019-08-24 12:11:32,271] Finished trial#21 resulted in value: -0.7876866723020569. Current best value is -0.7876866723020569 with parameters: {'w_lr': 0.016002358075562904, 'w_lda': 0.3059623573431674, 'w_sv': 0.5044080977691995, 'w_xgb': 0.9934991944491495, 'w_lgbm': 0.43155623508661994, 'w_mlp': 0.6178894810862445}.\n"
     ]
    },
    {
     "name": "stdout",
     "output_type": "stream",
     "text": [
      "[w_lr, w_lda, w_sv, w_xgb, w_lgbm,w_cb ] =  [0.003 0.552 0.828 0.906 0.485 0.    0.694]\n",
      "norm =  [0.001 0.159 0.239 0.261 0.14  0.    0.2  ]\n",
      "AUC all:  0.7876866723020569\n",
      "\n"
     ]
    },
    {
     "name": "stderr",
     "output_type": "stream",
     "text": [
      "[I 2019-08-24 12:11:32,444] Finished trial#22 resulted in value: -0.7876866723020569. Current best value is -0.7876866723020569 with parameters: {'w_lr': 0.016002358075562904, 'w_lda': 0.3059623573431674, 'w_sv': 0.5044080977691995, 'w_xgb': 0.9934991944491495, 'w_lgbm': 0.43155623508661994, 'w_mlp': 0.6178894810862445}.\n"
     ]
    },
    {
     "name": "stdout",
     "output_type": "stream",
     "text": [
      "[w_lr, w_lda, w_sv, w_xgb, w_lgbm,w_cb ] =  [0.189 0.373 0.826 0.916 0.524 0.    0.675]\n",
      "norm =  [0.054 0.107 0.236 0.262 0.15  0.    0.193]\n",
      "AUC all:  0.7875457875457875\n",
      "\n"
     ]
    },
    {
     "name": "stderr",
     "output_type": "stream",
     "text": [
      "[I 2019-08-24 12:11:32,620] Finished trial#23 resulted in value: -0.7875457875457875. Current best value is -0.7876866723020569 with parameters: {'w_lr': 0.016002358075562904, 'w_lda': 0.3059623573431674, 'w_sv': 0.5044080977691995, 'w_xgb': 0.9934991944491495, 'w_lgbm': 0.43155623508661994, 'w_mlp': 0.6178894810862445}.\n"
     ]
    },
    {
     "name": "stdout",
     "output_type": "stream",
     "text": [
      "[w_lr, w_lda, w_sv, w_xgb, w_lgbm,w_cb ] =  [0.004 0.226 0.865 0.905 0.605 0.    0.586]\n",
      "norm =  [0.001 0.071 0.271 0.284 0.19  0.    0.184]\n",
      "AUC all:  0.7868413637644407\n",
      "\n"
     ]
    },
    {
     "name": "stderr",
     "output_type": "stream",
     "text": [
      "[I 2019-08-24 12:11:32,793] Finished trial#24 resulted in value: -0.7868413637644407. Current best value is -0.7876866723020569 with parameters: {'w_lr': 0.016002358075562904, 'w_lda': 0.3059623573431674, 'w_sv': 0.5044080977691995, 'w_xgb': 0.9934991944491495, 'w_lgbm': 0.43155623508661994, 'w_mlp': 0.6178894810862445}.\n"
     ]
    },
    {
     "name": "stdout",
     "output_type": "stream",
     "text": [
      "[w_lr, w_lda, w_sv, w_xgb, w_lgbm,w_cb ] =  [0.146 0.469 0.797 1.    0.475 0.    0.679]\n",
      "norm =  [0.041 0.131 0.224 0.28  0.133 0.    0.19 ]\n",
      "AUC all:  0.7875457875457874\n",
      "\n"
     ]
    },
    {
     "name": "stderr",
     "output_type": "stream",
     "text": [
      "[I 2019-08-24 12:11:32,975] Finished trial#25 resulted in value: -0.7875457875457874. Current best value is -0.7876866723020569 with parameters: {'w_lr': 0.016002358075562904, 'w_lda': 0.3059623573431674, 'w_sv': 0.5044080977691995, 'w_xgb': 0.9934991944491495, 'w_lgbm': 0.43155623508661994, 'w_mlp': 0.6178894810862445}.\n"
     ]
    },
    {
     "name": "stdout",
     "output_type": "stream",
     "text": [
      "[w_lr, w_lda, w_sv, w_xgb, w_lgbm,w_cb ] =  [0.246 0.119 0.76  0.623 0.308 0.    0.592]\n",
      "norm =  [0.093 0.045 0.287 0.235 0.116 0.    0.223]\n",
      "AUC all:  0.7889546351084813\n",
      "\n"
     ]
    },
    {
     "name": "stderr",
     "output_type": "stream",
     "text": [
      "[I 2019-08-24 12:11:33,162] Finished trial#26 resulted in value: -0.7889546351084813. Current best value is -0.7889546351084813 with parameters: {'w_lr': 0.24628064814638637, 'w_lda': 0.11937809403305344, 'w_sv': 0.7596968512797477, 'w_xgb': 0.6225213394730437, 'w_lgbm': 0.3080822399412836, 'w_mlp': 0.5917202911648876}.\n"
     ]
    },
    {
     "name": "stdout",
     "output_type": "stream",
     "text": [
      "[w_lr, w_lda, w_sv, w_xgb, w_lgbm,w_cb ] =  [0.246 0.115 0.757 0.636 0.181 0.    0.578]\n",
      "norm =  [0.098 0.046 0.301 0.253 0.072 0.    0.23 ]\n",
      "AUC all:  0.7857142857142857\n",
      "\n"
     ]
    },
    {
     "name": "stderr",
     "output_type": "stream",
     "text": [
      "[I 2019-08-24 12:11:33,354] Finished trial#27 resulted in value: -0.7857142857142857. Current best value is -0.7889546351084813 with parameters: {'w_lr': 0.24628064814638637, 'w_lda': 0.11937809403305344, 'w_sv': 0.7596968512797477, 'w_xgb': 0.6225213394730437, 'w_lgbm': 0.3080822399412836, 'w_mlp': 0.5917202911648876}.\n"
     ]
    },
    {
     "name": "stdout",
     "output_type": "stream",
     "text": [
      "[w_lr, w_lda, w_sv, w_xgb, w_lgbm,w_cb ] =  [0.594 0.545 0.844 0.437 0.307 0.    0.696]\n",
      "norm =  [0.174 0.159 0.247 0.128 0.09  0.    0.203]\n",
      "AUC all:  0.7836010143702452\n",
      "\n"
     ]
    },
    {
     "name": "stderr",
     "output_type": "stream",
     "text": [
      "[I 2019-08-24 12:11:33,549] Finished trial#28 resulted in value: -0.7836010143702452. Current best value is -0.7889546351084813 with parameters: {'w_lr': 0.24628064814638637, 'w_lda': 0.11937809403305344, 'w_sv': 0.7596968512797477, 'w_xgb': 0.6225213394730437, 'w_lgbm': 0.3080822399412836, 'w_mlp': 0.5917202911648876}.\n"
     ]
    },
    {
     "name": "stdout",
     "output_type": "stream",
     "text": [
      "[w_lr, w_lda, w_sv, w_xgb, w_lgbm,w_cb ] =  [0.378 0.656 0.913 0.759 0.296 0.    0.65 ]\n",
      "norm =  [0.103 0.18  0.25  0.208 0.081 0.    0.178]\n",
      "AUC all:  0.7830374753451677\n",
      "\n"
     ]
    },
    {
     "name": "stderr",
     "output_type": "stream",
     "text": [
      "[I 2019-08-24 12:11:33,733] Finished trial#29 resulted in value: -0.7830374753451677. Current best value is -0.7889546351084813 with parameters: {'w_lr': 0.24628064814638637, 'w_lda': 0.11937809403305344, 'w_sv': 0.7596968512797477, 'w_xgb': 0.6225213394730437, 'w_lgbm': 0.3080822399412836, 'w_mlp': 0.5917202911648876}.\n"
     ]
    },
    {
     "name": "stdout",
     "output_type": "stream",
     "text": [
      "[w_lr, w_lda, w_sv, w_xgb, w_lgbm,w_cb ] =  [0.256 0.975 0.885 0.601 0.261 0.    0.505]\n",
      "norm =  [0.074 0.28  0.254 0.173 0.075 0.    0.145]\n",
      "AUC all:  0.7783882783882784\n",
      "\n"
     ]
    },
    {
     "name": "stderr",
     "output_type": "stream",
     "text": [
      "[I 2019-08-24 12:11:33,920] Finished trial#30 resulted in value: -0.7783882783882784. Current best value is -0.7889546351084813 with parameters: {'w_lr': 0.24628064814638637, 'w_lda': 0.11937809403305344, 'w_sv': 0.7596968512797477, 'w_xgb': 0.6225213394730437, 'w_lgbm': 0.3080822399412836, 'w_mlp': 0.5917202911648876}.\n"
     ]
    },
    {
     "name": "stdout",
     "output_type": "stream",
     "text": [
      "[w_lr, w_lda, w_sv, w_xgb, w_lgbm,w_cb ] =  [0.072 0.276 0.742 0.865 0.335 0.    0.606]\n",
      "norm =  [0.025 0.095 0.256 0.299 0.116 0.    0.209]\n",
      "AUC all:  0.7881093265708651\n",
      "\n"
     ]
    },
    {
     "name": "stderr",
     "output_type": "stream",
     "text": [
      "[I 2019-08-24 12:11:34,107] Finished trial#31 resulted in value: -0.7881093265708651. Current best value is -0.7889546351084813 with parameters: {'w_lr': 0.24628064814638637, 'w_lda': 0.11937809403305344, 'w_sv': 0.7596968512797477, 'w_xgb': 0.6225213394730437, 'w_lgbm': 0.3080822399412836, 'w_mlp': 0.5917202911648876}.\n"
     ]
    },
    {
     "name": "stdout",
     "output_type": "stream",
     "text": [
      "[w_lr, w_lda, w_sv, w_xgb, w_lgbm,w_cb ] =  [0.101 0.408 0.732 0.784 0.355 0.    0.593]\n",
      "norm =  [0.034 0.137 0.246 0.264 0.119 0.    0.199]\n",
      "AUC all:  0.7889546351084812\n",
      "\n"
     ]
    },
    {
     "name": "stderr",
     "output_type": "stream",
     "text": [
      "[I 2019-08-24 12:11:34,294] Finished trial#32 resulted in value: -0.7889546351084812. Current best value is -0.7889546351084813 with parameters: {'w_lr': 0.24628064814638637, 'w_lda': 0.11937809403305344, 'w_sv': 0.7596968512797477, 'w_xgb': 0.6225213394730437, 'w_lgbm': 0.3080822399412836, 'w_mlp': 0.5917202911648876}.\n"
     ]
    },
    {
     "name": "stdout",
     "output_type": "stream",
     "text": [
      "[w_lr, w_lda, w_sv, w_xgb, w_lgbm,w_cb ] =  [0.058 0.103 0.735 0.873 0.35  0.    0.514]\n",
      "norm =  [0.022 0.039 0.279 0.332 0.133 0.    0.195]\n",
      "AUC all:  0.7876866723020568\n",
      "\n"
     ]
    },
    {
     "name": "stderr",
     "output_type": "stream",
     "text": [
      "[I 2019-08-24 12:11:34,484] Finished trial#33 resulted in value: -0.7876866723020568. Current best value is -0.7889546351084813 with parameters: {'w_lr': 0.24628064814638637, 'w_lda': 0.11937809403305344, 'w_sv': 0.7596968512797477, 'w_xgb': 0.6225213394730437, 'w_lgbm': 0.3080822399412836, 'w_mlp': 0.5917202911648876}.\n"
     ]
    },
    {
     "name": "stdout",
     "output_type": "stream",
     "text": [
      "[w_lr, w_lda, w_sv, w_xgb, w_lgbm,w_cb ] =  [0.199 0.274 0.708 0.671 0.116 0.    0.588]\n",
      "norm =  [0.078 0.107 0.277 0.263 0.045 0.    0.23 ]\n",
      "AUC all:  0.7800788954635107\n",
      "\n"
     ]
    },
    {
     "name": "stderr",
     "output_type": "stream",
     "text": [
      "[I 2019-08-24 12:11:34,672] Finished trial#34 resulted in value: -0.7800788954635107. Current best value is -0.7889546351084813 with parameters: {'w_lr': 0.24628064814638637, 'w_lda': 0.11937809403305344, 'w_sv': 0.7596968512797477, 'w_xgb': 0.6225213394730437, 'w_lgbm': 0.3080822399412836, 'w_mlp': 0.5917202911648876}.\n"
     ]
    },
    {
     "name": "stdout",
     "output_type": "stream",
     "text": [
      "[w_lr, w_lda, w_sv, w_xgb, w_lgbm,w_cb ] =  [0.514 0.184 0.651 0.768 0.345 0.    0.532]\n",
      "norm =  [0.172 0.062 0.217 0.257 0.115 0.    0.178]\n",
      "AUC all:  0.7876866723020569\n",
      "\n"
     ]
    },
    {
     "name": "stderr",
     "output_type": "stream",
     "text": [
      "[I 2019-08-24 12:11:34,869] Finished trial#35 resulted in value: -0.7876866723020569. Current best value is -0.7889546351084813 with parameters: {'w_lr': 0.24628064814638637, 'w_lda': 0.11937809403305344, 'w_sv': 0.7596968512797477, 'w_xgb': 0.6225213394730437, 'w_lgbm': 0.3080822399412836, 'w_mlp': 0.5917202911648876}.\n"
     ]
    },
    {
     "name": "stdout",
     "output_type": "stream",
     "text": [
      "[w_lr, w_lda, w_sv, w_xgb, w_lgbm,w_cb ] =  [0.518 0.188 0.661 0.766 0.13  0.    0.529]\n",
      "norm =  [0.186 0.067 0.237 0.274 0.047 0.    0.189]\n",
      "AUC all:  0.7796562411947028\n",
      "\n"
     ]
    },
    {
     "name": "stderr",
     "output_type": "stream",
     "text": [
      "[I 2019-08-24 12:11:35,062] Finished trial#36 resulted in value: -0.7796562411947028. Current best value is -0.7889546351084813 with parameters: {'w_lr': 0.24628064814638637, 'w_lda': 0.11937809403305344, 'w_sv': 0.7596968512797477, 'w_xgb': 0.6225213394730437, 'w_lgbm': 0.3080822399412836, 'w_mlp': 0.5917202911648876}.\n"
     ]
    },
    {
     "name": "stdout",
     "output_type": "stream",
     "text": [
      "[w_lr, w_lda, w_sv, w_xgb, w_lgbm,w_cb ] =  [0.305 0.511 0.779 0.466 0.029 0.    0.769]\n",
      "norm =  [0.107 0.179 0.272 0.163 0.01  0.    0.269]\n",
      "AUC all:  0.7707805015497323\n",
      "\n"
     ]
    },
    {
     "name": "stderr",
     "output_type": "stream",
     "text": [
      "[I 2019-08-24 12:11:35,260] Finished trial#37 resulted in value: -0.7707805015497323. Current best value is -0.7889546351084813 with parameters: {'w_lr': 0.24628064814638637, 'w_lda': 0.11937809403305344, 'w_sv': 0.7596968512797477, 'w_xgb': 0.6225213394730437, 'w_lgbm': 0.3080822399412836, 'w_mlp': 0.5917202911648876}.\n"
     ]
    },
    {
     "name": "stdout",
     "output_type": "stream",
     "text": [
      "[w_lr, w_lda, w_sv, w_xgb, w_lgbm,w_cb ] =  [0.047 0.418 0.614 0.599 0.255 0.    0.604]\n",
      "norm =  [0.019 0.165 0.242 0.236 0.1   0.    0.238]\n",
      "AUC all:  0.7869822485207101\n",
      "\n"
     ]
    },
    {
     "name": "stderr",
     "output_type": "stream",
     "text": [
      "[I 2019-08-24 12:11:35,455] Finished trial#38 resulted in value: -0.7869822485207101. Current best value is -0.7889546351084813 with parameters: {'w_lr': 0.24628064814638637, 'w_lda': 0.11937809403305344, 'w_sv': 0.7596968512797477, 'w_xgb': 0.6225213394730437, 'w_lgbm': 0.3080822399412836, 'w_mlp': 0.5917202911648876}.\n"
     ]
    },
    {
     "name": "stdout",
     "output_type": "stream",
     "text": [
      "[w_lr, w_lda, w_sv, w_xgb, w_lgbm,w_cb ] =  [0.583 0.217 0.675 0.751 0.349 0.    0.554]\n",
      "norm =  [0.186 0.069 0.216 0.24  0.111 0.    0.177]\n",
      "AUC all:  0.7868413637644406\n",
      "\n"
     ]
    },
    {
     "name": "stderr",
     "output_type": "stream",
     "text": [
      "[I 2019-08-24 12:11:35,649] Finished trial#39 resulted in value: -0.7868413637644406. Current best value is -0.7889546351084813 with parameters: {'w_lr': 0.24628064814638637, 'w_lda': 0.11937809403305344, 'w_sv': 0.7596968512797477, 'w_xgb': 0.6225213394730437, 'w_lgbm': 0.3080822399412836, 'w_mlp': 0.5917202911648876}.\n"
     ]
    },
    {
     "name": "stdout",
     "output_type": "stream",
     "text": [
      "[w_lr, w_lda, w_sv, w_xgb, w_lgbm,w_cb ] =  [0.459 0.151 0.727 0.842 0.17  0.    0.567]\n",
      "norm =  [0.157 0.052 0.249 0.289 0.058 0.    0.194]\n",
      "AUC all:  0.7823330515638207\n",
      "\n"
     ]
    },
    {
     "name": "stderr",
     "output_type": "stream",
     "text": [
      "[I 2019-08-24 12:11:35,843] Finished trial#40 resulted in value: -0.7823330515638207. Current best value is -0.7889546351084813 with parameters: {'w_lr': 0.24628064814638637, 'w_lda': 0.11937809403305344, 'w_sv': 0.7596968512797477, 'w_xgb': 0.6225213394730437, 'w_lgbm': 0.3080822399412836, 'w_mlp': 0.5917202911648876}.\n"
     ]
    },
    {
     "name": "stdout",
     "output_type": "stream",
     "text": [
      "[w_lr, w_lda, w_sv, w_xgb, w_lgbm,w_cb ] =  [0.657 0.313 0.623 0.952 0.443 0.    0.501]\n",
      "norm =  [0.188 0.09  0.179 0.273 0.127 0.    0.143]\n",
      "AUC all:  0.7859960552268245\n",
      "\n"
     ]
    },
    {
     "name": "stderr",
     "output_type": "stream",
     "text": [
      "[I 2019-08-24 12:11:36,047] Finished trial#41 resulted in value: -0.7859960552268245. Current best value is -0.7889546351084813 with parameters: {'w_lr': 0.24628064814638637, 'w_lda': 0.11937809403305344, 'w_sv': 0.7596968512797477, 'w_xgb': 0.6225213394730437, 'w_lgbm': 0.3080822399412836, 'w_mlp': 0.5917202911648876}.\n"
     ]
    },
    {
     "name": "stdout",
     "output_type": "stream",
     "text": [
      "[w_lr, w_lda, w_sv, w_xgb, w_lgbm,w_cb ] =  [0.136 0.356 0.769 0.806 0.398 0.    0.646]\n",
      "norm =  [0.044 0.114 0.247 0.259 0.128 0.    0.208]\n",
      "AUC all:  0.7871231332769795\n",
      "\n"
     ]
    },
    {
     "name": "stderr",
     "output_type": "stream",
     "text": [
      "[I 2019-08-24 12:11:36,250] Finished trial#42 resulted in value: -0.7871231332769795. Current best value is -0.7889546351084813 with parameters: {'w_lr': 0.24628064814638637, 'w_lda': 0.11937809403305344, 'w_sv': 0.7596968512797477, 'w_xgb': 0.6225213394730437, 'w_lgbm': 0.3080822399412836, 'w_mlp': 0.5917202911648876}.\n"
     ]
    },
    {
     "name": "stdout",
     "output_type": "stream",
     "text": [
      "[w_lr, w_lda, w_sv, w_xgb, w_lgbm,w_cb ] =  [0.109 0.021 0.709 0.775 0.287 0.    0.535]\n",
      "norm =  [0.045 0.009 0.291 0.318 0.118 0.    0.22 ]\n",
      "AUC all:  0.7882502113271344\n",
      "\n"
     ]
    },
    {
     "name": "stderr",
     "output_type": "stream",
     "text": [
      "[I 2019-08-24 12:11:36,450] Finished trial#43 resulted in value: -0.7882502113271344. Current best value is -0.7889546351084813 with parameters: {'w_lr': 0.24628064814638637, 'w_lda': 0.11937809403305344, 'w_sv': 0.7596968512797477, 'w_xgb': 0.6225213394730437, 'w_lgbm': 0.3080822399412836, 'w_mlp': 0.5917202911648876}.\n"
     ]
    },
    {
     "name": "stdout",
     "output_type": "stream",
     "text": [
      "[w_lr, w_lda, w_sv, w_xgb, w_lgbm,w_cb ] =  [0.397 0.005 0.687 0.69  0.239 0.    0.544]\n",
      "norm =  [0.155 0.002 0.268 0.269 0.093 0.    0.212]\n",
      "AUC all:  0.7878275570583263\n",
      "\n"
     ]
    },
    {
     "name": "stderr",
     "output_type": "stream",
     "text": [
      "[I 2019-08-24 12:11:36,660] Finished trial#44 resulted in value: -0.7878275570583263. Current best value is -0.7889546351084813 with parameters: {'w_lr': 0.24628064814638637, 'w_lda': 0.11937809403305344, 'w_sv': 0.7596968512797477, 'w_xgb': 0.6225213394730437, 'w_lgbm': 0.3080822399412836, 'w_mlp': 0.5917202911648876}.\n"
     ]
    },
    {
     "name": "stdout",
     "output_type": "stream",
     "text": [
      "[w_lr, w_lda, w_sv, w_xgb, w_lgbm,w_cb ] =  [0.242 0.02  0.703 0.579 0.235 0.    0.591]\n",
      "norm =  [0.102 0.008 0.297 0.244 0.099 0.    0.249]\n",
      "AUC all:  0.7888137503522118\n",
      "\n"
     ]
    },
    {
     "name": "stderr",
     "output_type": "stream",
     "text": [
      "[I 2019-08-24 12:11:36,869] Finished trial#45 resulted in value: -0.7888137503522118. Current best value is -0.7889546351084813 with parameters: {'w_lr': 0.24628064814638637, 'w_lda': 0.11937809403305344, 'w_sv': 0.7596968512797477, 'w_xgb': 0.6225213394730437, 'w_lgbm': 0.3080822399412836, 'w_mlp': 0.5917202911648876}.\n"
     ]
    },
    {
     "name": "stdout",
     "output_type": "stream",
     "text": [
      "[w_lr, w_lda, w_sv, w_xgb, w_lgbm,w_cb ] =  [0.253 0.062 0.716 0.355 0.283 0.    0.602]\n",
      "norm =  [0.111 0.027 0.315 0.157 0.125 0.    0.265]\n",
      "AUC all:  0.7897999436460974\n",
      "\n"
     ]
    },
    {
     "name": "stderr",
     "output_type": "stream",
     "text": [
      "[I 2019-08-24 12:11:37,076] Finished trial#46 resulted in value: -0.7897999436460974. Current best value is -0.7897999436460974 with parameters: {'w_lr': 0.2528456830485769, 'w_lda': 0.06185147469071256, 'w_sv': 0.7162079019171405, 'w_xgb': 0.35547370305532405, 'w_lgbm': 0.2833390947399683, 'w_mlp': 0.6015923975391403}.\n"
     ]
    },
    {
     "name": "stdout",
     "output_type": "stream",
     "text": [
      "[w_lr, w_lda, w_sv, w_xgb, w_lgbm,w_cb ] =  [0.223 0.034 0.713 0.318 0.279 0.    0.734]\n",
      "norm =  [0.097 0.015 0.31  0.138 0.121 0.    0.319]\n",
      "AUC all:  0.7913496759650606\n",
      "\n"
     ]
    },
    {
     "name": "stderr",
     "output_type": "stream",
     "text": [
      "[I 2019-08-24 12:11:37,291] Finished trial#47 resulted in value: -0.7913496759650606. Current best value is -0.7913496759650606 with parameters: {'w_lr': 0.2232381330568611, 'w_lda': 0.03355511063891849, 'w_sv': 0.7129020399267015, 'w_xgb': 0.31750108062723736, 'w_lgbm': 0.2789215012783525, 'w_mlp': 0.7341126539024354}.\n"
     ]
    },
    {
     "name": "stdout",
     "output_type": "stream",
     "text": [
      "[w_lr, w_lda, w_sv, w_xgb, w_lgbm,w_cb ] =  [0.239 0.074 0.791 0.318 0.212 0.    0.733]\n",
      "norm =  [0.101 0.031 0.334 0.134 0.09  0.    0.31 ]\n",
      "AUC all:  0.7907861369399831\n",
      "\n"
     ]
    },
    {
     "name": "stderr",
     "output_type": "stream",
     "text": [
      "[I 2019-08-24 12:11:37,512] Finished trial#48 resulted in value: -0.7907861369399831. Current best value is -0.7913496759650606 with parameters: {'w_lr': 0.2232381330568611, 'w_lda': 0.03355511063891849, 'w_sv': 0.7129020399267015, 'w_xgb': 0.31750108062723736, 'w_lgbm': 0.2789215012783525, 'w_mlp': 0.7341126539024354}.\n"
     ]
    },
    {
     "name": "stdout",
     "output_type": "stream",
     "text": [
      "[w_lr, w_lda, w_sv, w_xgb, w_lgbm,w_cb ] =  [0.3   0.075 0.789 0.325 0.156 0.    0.74 ]\n",
      "norm =  [0.126 0.031 0.331 0.136 0.065 0.    0.31 ]\n",
      "AUC all:  0.7874049027895181\n",
      "\n"
     ]
    },
    {
     "name": "stderr",
     "output_type": "stream",
     "text": [
      "[I 2019-08-24 12:11:37,721] Finished trial#49 resulted in value: -0.7874049027895181. Current best value is -0.7913496759650606 with parameters: {'w_lr': 0.2232381330568611, 'w_lda': 0.03355511063891849, 'w_sv': 0.7129020399267015, 'w_xgb': 0.31750108062723736, 'w_lgbm': 0.2789215012783525, 'w_mlp': 0.7341126539024354}.\n"
     ]
    },
    {
     "name": "stdout",
     "output_type": "stream",
     "text": [
      "[w_lr, w_lda, w_sv, w_xgb, w_lgbm,w_cb ] =  [0.355 0.06  0.722 0.182 0.005 0.    0.773]\n",
      "norm =  [0.169 0.029 0.344 0.087 0.002 0.    0.369]\n",
      "AUC all:  0.7751479289940829\n",
      "\n"
     ]
    },
    {
     "name": "stderr",
     "output_type": "stream",
     "text": [
      "[I 2019-08-24 12:11:37,932] Finished trial#50 resulted in value: -0.7751479289940829. Current best value is -0.7913496759650606 with parameters: {'w_lr': 0.2232381330568611, 'w_lda': 0.03355511063891849, 'w_sv': 0.7129020399267015, 'w_xgb': 0.31750108062723736, 'w_lgbm': 0.2789215012783525, 'w_mlp': 0.7341126539024354}.\n"
     ]
    },
    {
     "name": "stdout",
     "output_type": "stream",
     "text": [
      "[w_lr, w_lda, w_sv, w_xgb, w_lgbm,w_cb ] =  [0.23  0.003 0.76  0.342 0.211 0.    0.827]\n",
      "norm =  [0.097 0.001 0.32  0.144 0.089 0.    0.349]\n",
      "AUC all:  0.78923640462102\n",
      "\n"
     ]
    },
    {
     "name": "stderr",
     "output_type": "stream",
     "text": [
      "[I 2019-08-24 12:11:38,150] Finished trial#51 resulted in value: -0.78923640462102. Current best value is -0.7913496759650606 with parameters: {'w_lr': 0.2232381330568611, 'w_lda': 0.03355511063891849, 'w_sv': 0.7129020399267015, 'w_xgb': 0.31750108062723736, 'w_lgbm': 0.2789215012783525, 'w_mlp': 0.7341126539024354}.\n"
     ]
    },
    {
     "name": "stdout",
     "output_type": "stream",
     "text": [
      "[w_lr, w_lda, w_sv, w_xgb, w_lgbm,w_cb ] =  [0.211 0.108 0.755 0.354 0.21  0.    0.821]\n",
      "norm =  [0.086 0.044 0.307 0.144 0.086 0.    0.334]\n",
      "AUC all:  0.7889546351084813\n",
      "\n"
     ]
    },
    {
     "name": "stderr",
     "output_type": "stream",
     "text": [
      "[I 2019-08-24 12:11:38,367] Finished trial#52 resulted in value: -0.7889546351084813. Current best value is -0.7913496759650606 with parameters: {'w_lr': 0.2232381330568611, 'w_lda': 0.03355511063891849, 'w_sv': 0.7129020399267015, 'w_xgb': 0.31750108062723736, 'w_lgbm': 0.2789215012783525, 'w_mlp': 0.7341126539024354}.\n"
     ]
    },
    {
     "name": "stdout",
     "output_type": "stream",
     "text": [
      "[w_lr, w_lda, w_sv, w_xgb, w_lgbm,w_cb ] =  [0.271 0.102 0.761 0.353 0.076 0.    0.838]\n",
      "norm =  [0.113 0.043 0.317 0.147 0.032 0.    0.349]\n",
      "AUC all:  0.782051282051282\n",
      "\n"
     ]
    },
    {
     "name": "stderr",
     "output_type": "stream",
     "text": [
      "[I 2019-08-24 12:11:38,582] Finished trial#53 resulted in value: -0.782051282051282. Current best value is -0.7913496759650606 with parameters: {'w_lr': 0.2232381330568611, 'w_lda': 0.03355511063891849, 'w_sv': 0.7129020399267015, 'w_xgb': 0.31750108062723736, 'w_lgbm': 0.2789215012783525, 'w_mlp': 0.7341126539024354}.\n"
     ]
    },
    {
     "name": "stdout",
     "output_type": "stream",
     "text": [
      "[w_lr, w_lda, w_sv, w_xgb, w_lgbm,w_cb ] =  [0.211 0.003 0.791 0.232 0.197 0.    0.831]\n",
      "norm =  [0.093 0.001 0.35  0.102 0.087 0.    0.367]\n",
      "AUC all:  0.7921949845026768\n",
      "\n"
     ]
    },
    {
     "name": "stderr",
     "output_type": "stream",
     "text": [
      "[I 2019-08-24 12:11:38,804] Finished trial#54 resulted in value: -0.7921949845026768. Current best value is -0.7921949845026768 with parameters: {'w_lr': 0.21060713007153786, 'w_lda': 0.0027269463715839243, 'w_sv': 0.7911606681563708, 'w_xgb': 0.23175647498685548, 'w_lgbm': 0.19653813659983116, 'w_mlp': 0.8307022345115403}.\n"
     ]
    },
    {
     "name": "stdout",
     "output_type": "stream",
     "text": [
      "[w_lr, w_lda, w_sv, w_xgb, w_lgbm,w_cb ] =  [0.169 0.002 0.806 0.213 0.219 0.    0.827]\n",
      "norm =  [0.076 0.001 0.36  0.095 0.098 0.    0.37 ]\n",
      "AUC all:  0.7920540997464075\n",
      "\n"
     ]
    },
    {
     "name": "stderr",
     "output_type": "stream",
     "text": [
      "[I 2019-08-24 12:11:39,027] Finished trial#55 resulted in value: -0.7920540997464075. Current best value is -0.7921949845026768 with parameters: {'w_lr': 0.21060713007153786, 'w_lda': 0.0027269463715839243, 'w_sv': 0.7911606681563708, 'w_xgb': 0.23175647498685548, 'w_lgbm': 0.19653813659983116, 'w_mlp': 0.8307022345115403}.\n"
     ]
    },
    {
     "name": "stdout",
     "output_type": "stream",
     "text": [
      "[w_lr, w_lda, w_sv, w_xgb, w_lgbm,w_cb ] =  [0.156 0.049 0.796 0.216 0.115 0.    0.875]\n",
      "norm =  [0.071 0.022 0.361 0.098 0.052 0.    0.396]\n",
      "AUC all:  0.7875457875457875\n",
      "\n"
     ]
    },
    {
     "name": "stderr",
     "output_type": "stream",
     "text": [
      "[I 2019-08-24 12:11:39,256] Finished trial#56 resulted in value: -0.7875457875457875. Current best value is -0.7921949845026768 with parameters: {'w_lr': 0.21060713007153786, 'w_lda': 0.0027269463715839243, 'w_sv': 0.7911606681563708, 'w_xgb': 0.23175647498685548, 'w_lgbm': 0.19653813659983116, 'w_mlp': 0.8307022345115403}.\n"
     ]
    },
    {
     "name": "stdout",
     "output_type": "stream",
     "text": [
      "[w_lr, w_lda, w_sv, w_xgb, w_lgbm,w_cb ] =  [0.181 0.001 0.809 0.119 0.201 0.    0.789]\n",
      "norm =  [0.086 0.001 0.385 0.057 0.096 0.    0.376]\n",
      "AUC all:  0.7903634826711751\n",
      "\n"
     ]
    },
    {
     "name": "stderr",
     "output_type": "stream",
     "text": [
      "[I 2019-08-24 12:11:39,490] Finished trial#57 resulted in value: -0.7903634826711751. Current best value is -0.7921949845026768 with parameters: {'w_lr': 0.21060713007153786, 'w_lda': 0.0027269463715839243, 'w_sv': 0.7911606681563708, 'w_xgb': 0.23175647498685548, 'w_lgbm': 0.19653813659983116, 'w_mlp': 0.8307022345115403}.\n"
     ]
    },
    {
     "name": "stdout",
     "output_type": "stream",
     "text": [
      "[w_lr, w_lda, w_sv, w_xgb, w_lgbm,w_cb ] =  [0.174 0.001 0.861 0.124 0.151 0.    0.791]\n",
      "norm =  [0.083 0.    0.41  0.059 0.072 0.    0.376]\n",
      "AUC all:  0.7921949845026768\n",
      "\n"
     ]
    },
    {
     "name": "stderr",
     "output_type": "stream",
     "text": [
      "[I 2019-08-24 12:11:39,715] Finished trial#58 resulted in value: -0.7921949845026768. Current best value is -0.7921949845026768 with parameters: {'w_lr': 0.21060713007153786, 'w_lda': 0.0027269463715839243, 'w_sv': 0.7911606681563708, 'w_xgb': 0.23175647498685548, 'w_lgbm': 0.19653813659983116, 'w_mlp': 0.8307022345115403}.\n"
     ]
    },
    {
     "name": "stdout",
     "output_type": "stream",
     "text": [
      "[w_lr, w_lda, w_sv, w_xgb, w_lgbm,w_cb ] =  [0.186 0.001 0.864 0.119 0.095 0.    0.783]\n",
      "norm =  [0.091 0.    0.422 0.058 0.046 0.    0.383]\n",
      "AUC all:  0.7913496759650606\n",
      "\n"
     ]
    },
    {
     "name": "stderr",
     "output_type": "stream",
     "text": [
      "[I 2019-08-24 12:11:39,947] Finished trial#59 resulted in value: -0.7913496759650606. Current best value is -0.7921949845026768 with parameters: {'w_lr': 0.21060713007153786, 'w_lda': 0.0027269463715839243, 'w_sv': 0.7911606681563708, 'w_xgb': 0.23175647498685548, 'w_lgbm': 0.19653813659983116, 'w_mlp': 0.8307022345115403}.\n"
     ]
    },
    {
     "name": "stdout",
     "output_type": "stream",
     "text": [
      "[w_lr, w_lda, w_sv, w_xgb, w_lgbm,w_cb ] =  [0.165 0.038 0.945 0.032 0.05  0.    0.721]\n",
      "norm =  [0.085 0.019 0.484 0.016 0.026 0.    0.37 ]\n",
      "AUC all:  0.7885319808396732\n",
      "\n"
     ]
    },
    {
     "name": "stderr",
     "output_type": "stream",
     "text": [
      "[I 2019-08-24 12:11:40,173] Finished trial#60 resulted in value: -0.7885319808396732. Current best value is -0.7921949845026768 with parameters: {'w_lr': 0.21060713007153786, 'w_lda': 0.0027269463715839243, 'w_sv': 0.7911606681563708, 'w_xgb': 0.23175647498685548, 'w_lgbm': 0.19653813659983116, 'w_mlp': 0.8307022345115403}.\n"
     ]
    },
    {
     "name": "stdout",
     "output_type": "stream",
     "text": [
      "[w_lr, w_lda, w_sv, w_xgb, w_lgbm,w_cb ] =  [0.194 0.001 0.873 0.108 0.09  0.    0.794]\n",
      "norm =  [0.094 0.001 0.424 0.053 0.044 0.    0.385]\n",
      "AUC all:  0.7912087912087912\n",
      "\n"
     ]
    },
    {
     "name": "stderr",
     "output_type": "stream",
     "text": [
      "[I 2019-08-24 12:11:40,412] Finished trial#61 resulted in value: -0.7912087912087912. Current best value is -0.7921949845026768 with parameters: {'w_lr': 0.21060713007153786, 'w_lda': 0.0027269463715839243, 'w_sv': 0.7911606681563708, 'w_xgb': 0.23175647498685548, 'w_lgbm': 0.19653813659983116, 'w_mlp': 0.8307022345115403}.\n"
     ]
    },
    {
     "name": "stdout",
     "output_type": "stream",
     "text": [
      "[w_lr, w_lda, w_sv, w_xgb, w_lgbm,w_cb ] =  [0.206 0.86  0.882 0.087 0.135 0.    0.794]\n",
      "norm =  [0.07  0.29  0.298 0.029 0.046 0.    0.268]\n",
      "AUC all:  0.7719075795998873\n",
      "\n"
     ]
    },
    {
     "name": "stderr",
     "output_type": "stream",
     "text": [
      "[I 2019-08-24 12:11:40,651] Finished trial#62 resulted in value: -0.7719075795998873. Current best value is -0.7921949845026768 with parameters: {'w_lr': 0.21060713007153786, 'w_lda': 0.0027269463715839243, 'w_sv': 0.7911606681563708, 'w_xgb': 0.23175647498685548, 'w_lgbm': 0.19653813659983116, 'w_mlp': 0.8307022345115403}.\n"
     ]
    },
    {
     "name": "stdout",
     "output_type": "stream",
     "text": [
      "[w_lr, w_lda, w_sv, w_xgb, w_lgbm,w_cb ] =  [0.292 0.078 0.865 0.261 0.094 0.    0.74 ]\n",
      "norm =  [0.125 0.033 0.371 0.112 0.04  0.    0.318]\n",
      "AUC all:  0.7867004790081713\n",
      "\n"
     ]
    },
    {
     "name": "stderr",
     "output_type": "stream",
     "text": [
      "[I 2019-08-24 12:11:40,885] Finished trial#63 resulted in value: -0.7867004790081713. Current best value is -0.7921949845026768 with parameters: {'w_lr': 0.21060713007153786, 'w_lda': 0.0027269463715839243, 'w_sv': 0.7911606681563708, 'w_xgb': 0.23175647498685548, 'w_lgbm': 0.19653813659983116, 'w_mlp': 0.8307022345115403}.\n"
     ]
    },
    {
     "name": "stdout",
     "output_type": "stream",
     "text": [
      "[w_lr, w_lda, w_sv, w_xgb, w_lgbm,w_cb ] =  [0.324 0.009 0.844 0.154 0.008 0.    0.756]\n",
      "norm =  [0.155 0.004 0.403 0.074 0.004 0.    0.361]\n",
      "AUC all:  0.778247393632009\n",
      "\n"
     ]
    },
    {
     "name": "stderr",
     "output_type": "stream",
     "text": [
      "[I 2019-08-24 12:11:41,116] Finished trial#64 resulted in value: -0.778247393632009. Current best value is -0.7921949845026768 with parameters: {'w_lr': 0.21060713007153786, 'w_lda': 0.0027269463715839243, 'w_sv': 0.7911606681563708, 'w_xgb': 0.23175647498685548, 'w_lgbm': 0.19653813659983116, 'w_mlp': 0.8307022345115403}.\n"
     ]
    },
    {
     "name": "stdout",
     "output_type": "stream",
     "text": [
      "[w_lr, w_lda, w_sv, w_xgb, w_lgbm,w_cb ] =  [0.14  0.148 0.905 0.222 0.047 0.    0.878]\n",
      "norm =  [0.06  0.063 0.387 0.095 0.02  0.    0.375]\n",
      "AUC all:  0.780924204001127\n",
      "\n"
     ]
    },
    {
     "name": "stderr",
     "output_type": "stream",
     "text": [
      "[I 2019-08-24 12:11:41,365] Finished trial#65 resulted in value: -0.780924204001127. Current best value is -0.7921949845026768 with parameters: {'w_lr': 0.21060713007153786, 'w_lda': 0.0027269463715839243, 'w_sv': 0.7911606681563708, 'w_xgb': 0.23175647498685548, 'w_lgbm': 0.19653813659983116, 'w_mlp': 0.8307022345115403}.\n"
     ]
    },
    {
     "name": "stdout",
     "output_type": "stream",
     "text": [
      "[w_lr, w_lda, w_sv, w_xgb, w_lgbm,w_cb ] =  [0.872 0.038 0.93  0.001 0.176 0.    0.808]\n",
      "norm =  [0.309 0.013 0.329 0.001 0.062 0.    0.286]\n",
      "AUC all:  0.7869822485207101\n",
      "\n"
     ]
    },
    {
     "name": "stderr",
     "output_type": "stream",
     "text": [
      "[I 2019-08-24 12:11:41,601] Finished trial#66 resulted in value: -0.7869822485207101. Current best value is -0.7921949845026768 with parameters: {'w_lr': 0.21060713007153786, 'w_lda': 0.0027269463715839243, 'w_sv': 0.7911606681563708, 'w_xgb': 0.23175647498685548, 'w_lgbm': 0.19653813659983116, 'w_mlp': 0.8307022345115403}.\n"
     ]
    },
    {
     "name": "stdout",
     "output_type": "stream",
     "text": [
      "[w_lr, w_lda, w_sv, w_xgb, w_lgbm,w_cb ] =  [0.175 0.002 0.811 0.283 0.146 0.    0.851]\n",
      "norm =  [0.077 0.001 0.357 0.125 0.065 0.    0.375]\n",
      "AUC all:  0.789659058889828\n",
      "\n"
     ]
    },
    {
     "name": "stderr",
     "output_type": "stream",
     "text": [
      "[I 2019-08-24 12:11:41,852] Finished trial#67 resulted in value: -0.789659058889828. Current best value is -0.7921949845026768 with parameters: {'w_lr': 0.21060713007153786, 'w_lda': 0.0027269463715839243, 'w_sv': 0.7911606681563708, 'w_xgb': 0.23175647498685548, 'w_lgbm': 0.19653813659983116, 'w_mlp': 0.8307022345115403}.\n"
     ]
    },
    {
     "name": "stdout",
     "output_type": "stream",
     "text": [
      "[w_lr, w_lda, w_sv, w_xgb, w_lgbm,w_cb ] =  [0.22  0.086 0.876 0.164 0.095 0.    0.784]\n",
      "norm =  [0.099 0.039 0.394 0.074 0.043 0.    0.352]\n",
      "AUC all:  0.7864187094956326\n",
      "\n"
     ]
    },
    {
     "name": "stderr",
     "output_type": "stream",
     "text": [
      "[I 2019-08-24 12:11:42,094] Finished trial#68 resulted in value: -0.7864187094956326. Current best value is -0.7921949845026768 with parameters: {'w_lr': 0.21060713007153786, 'w_lda': 0.0027269463715839243, 'w_sv': 0.7911606681563708, 'w_xgb': 0.23175647498685548, 'w_lgbm': 0.19653813659983116, 'w_mlp': 0.8307022345115403}.\n"
     ]
    },
    {
     "name": "stdout",
     "output_type": "stream",
     "text": [
      "[w_lr, w_lda, w_sv, w_xgb, w_lgbm,w_cb ] =  [0.103 0.135 0.984 0.107 0.195 0.    0.705]\n",
      "norm =  [0.046 0.06  0.441 0.048 0.088 0.    0.316]\n",
      "AUC all:  0.790786136939983\n",
      "\n"
     ]
    },
    {
     "name": "stderr",
     "output_type": "stream",
     "text": [
      "[I 2019-08-24 12:11:42,347] Finished trial#69 resulted in value: -0.790786136939983. Current best value is -0.7921949845026768 with parameters: {'w_lr': 0.21060713007153786, 'w_lda': 0.0027269463715839243, 'w_sv': 0.7911606681563708, 'w_xgb': 0.23175647498685548, 'w_lgbm': 0.19653813659983116, 'w_mlp': 0.8307022345115403}.\n"
     ]
    },
    {
     "name": "stdout",
     "output_type": "stream",
     "text": [
      "[w_lr, w_lda, w_sv, w_xgb, w_lgbm,w_cb ] =  [0.279 0.042 0.838 0.05  0.072 0.    0.757]\n",
      "norm =  [0.137 0.021 0.411 0.025 0.035 0.    0.371]\n",
      "AUC all:  0.7895181741335586\n",
      "\n"
     ]
    },
    {
     "name": "stderr",
     "output_type": "stream",
     "text": [
      "[I 2019-08-24 12:11:42,597] Finished trial#70 resulted in value: -0.7895181741335586. Current best value is -0.7921949845026768 with parameters: {'w_lr': 0.21060713007153786, 'w_lda': 0.0027269463715839243, 'w_sv': 0.7911606681563708, 'w_xgb': 0.23175647498685548, 'w_lgbm': 0.19653813659983116, 'w_mlp': 0.8307022345115403}.\n"
     ]
    },
    {
     "name": "stdout",
     "output_type": "stream",
     "text": [
      "[w_lr, w_lda, w_sv, w_xgb, w_lgbm,w_cb ] =  [0.035 0.133 0.859 0.136 0.194 0.    0.705]\n",
      "norm =  [0.017 0.064 0.417 0.066 0.094 0.    0.342]\n",
      "AUC all:  0.7924767540152156\n",
      "\n"
     ]
    },
    {
     "name": "stderr",
     "output_type": "stream",
     "text": [
      "[I 2019-08-24 12:11:42,839] Finished trial#71 resulted in value: -0.7924767540152156. Current best value is -0.7924767540152156 with parameters: {'w_lr': 0.03538167798481359, 'w_lda': 0.1327241743298133, 'w_sv': 0.8593910034022756, 'w_xgb': 0.1361800730034592, 'w_lgbm': 0.19438413054046966, 'w_mlp': 0.7052043536025215}.\n"
     ]
    },
    {
     "name": "stdout",
     "output_type": "stream",
     "text": [
      "[w_lr, w_lda, w_sv, w_xgb, w_lgbm,w_cb ] =  [0.071 0.168 0.858 0.195 0.229 0.    0.734]\n",
      "norm =  [0.032 0.075 0.38  0.086 0.101 0.    0.325]\n",
      "AUC all:  0.7912087912087912\n",
      "\n"
     ]
    },
    {
     "name": "stderr",
     "output_type": "stream",
     "text": [
      "[I 2019-08-24 12:11:43,086] Finished trial#72 resulted in value: -0.7912087912087912. Current best value is -0.7924767540152156 with parameters: {'w_lr': 0.03538167798481359, 'w_lda': 0.1327241743298133, 'w_sv': 0.8593910034022756, 'w_xgb': 0.1361800730034592, 'w_lgbm': 0.19438413054046966, 'w_mlp': 0.7052043536025215}.\n"
     ]
    },
    {
     "name": "stdout",
     "output_type": "stream",
     "text": [
      "[w_lr, w_lda, w_sv, w_xgb, w_lgbm,w_cb ] =  [0.041 0.175 0.861 0.136 0.252 0.    0.807]\n",
      "norm =  [0.018 0.077 0.379 0.06  0.111 0.    0.355]\n",
      "AUC all:  0.7920540997464074\n",
      "\n"
     ]
    },
    {
     "name": "stderr",
     "output_type": "stream",
     "text": [
      "[I 2019-08-24 12:11:43,334] Finished trial#73 resulted in value: -0.7920540997464074. Current best value is -0.7924767540152156 with parameters: {'w_lr': 0.03538167798481359, 'w_lda': 0.1327241743298133, 'w_sv': 0.8593910034022756, 'w_xgb': 0.1361800730034592, 'w_lgbm': 0.19438413054046966, 'w_mlp': 0.7052043536025215}.\n"
     ]
    },
    {
     "name": "stdout",
     "output_type": "stream",
     "text": [
      "[w_lr, w_lda, w_sv, w_xgb, w_lgbm,w_cb ] =  [0.036 0.217 0.894 0.133 0.149 0.    0.802]\n",
      "norm =  [0.016 0.097 0.401 0.06  0.067 0.    0.359]\n",
      "AUC all:  0.7855734009580162\n",
      "\n"
     ]
    },
    {
     "name": "stderr",
     "output_type": "stream",
     "text": [
      "[I 2019-08-24 12:11:43,580] Finished trial#74 resulted in value: -0.7855734009580162. Current best value is -0.7924767540152156 with parameters: {'w_lr': 0.03538167798481359, 'w_lda': 0.1327241743298133, 'w_sv': 0.8593910034022756, 'w_xgb': 0.1361800730034592, 'w_lgbm': 0.19438413054046966, 'w_mlp': 0.7052043536025215}.\n"
     ]
    },
    {
     "name": "stdout",
     "output_type": "stream",
     "text": [
      "[w_lr, w_lda, w_sv, w_xgb, w_lgbm,w_cb ] =  [0.072 0.177 0.854 0.208 0.236 0.    0.823]\n",
      "norm =  [0.03  0.075 0.361 0.088 0.1   0.    0.347]\n",
      "AUC all:  0.7909270216962525\n",
      "\n"
     ]
    },
    {
     "name": "stderr",
     "output_type": "stream",
     "text": [
      "[I 2019-08-24 12:11:43,846] Finished trial#75 resulted in value: -0.7909270216962525. Current best value is -0.7924767540152156 with parameters: {'w_lr': 0.03538167798481359, 'w_lda': 0.1327241743298133, 'w_sv': 0.8593910034022756, 'w_xgb': 0.1361800730034592, 'w_lgbm': 0.19438413054046966, 'w_mlp': 0.7052043536025215}.\n"
     ]
    },
    {
     "name": "stdout",
     "output_type": "stream",
     "text": [
      "[w_lr, w_lda, w_sv, w_xgb, w_lgbm,w_cb ] =  [0.083 0.165 0.823 0.185 0.273 0.    0.705]\n",
      "norm =  [0.037 0.074 0.368 0.083 0.122 0.    0.315]\n",
      "AUC all:  0.7910679064525219\n",
      "\n"
     ]
    },
    {
     "name": "stderr",
     "output_type": "stream",
     "text": [
      "[I 2019-08-24 12:11:44,106] Finished trial#76 resulted in value: -0.7910679064525219. Current best value is -0.7924767540152156 with parameters: {'w_lr': 0.03538167798481359, 'w_lda': 0.1327241743298133, 'w_sv': 0.8593910034022756, 'w_xgb': 0.1361800730034592, 'w_lgbm': 0.19438413054046966, 'w_mlp': 0.7052043536025215}.\n"
     ]
    },
    {
     "name": "stdout",
     "output_type": "stream",
     "text": [
      "[w_lr, w_lda, w_sv, w_xgb, w_lgbm,w_cb ] =  [0.042 0.24  0.86  0.251 0.174 0.    0.767]\n",
      "norm =  [0.018 0.103 0.368 0.107 0.075 0.    0.329]\n",
      "AUC all:  0.7850098619329389\n",
      "\n"
     ]
    },
    {
     "name": "stderr",
     "output_type": "stream",
     "text": [
      "[I 2019-08-24 12:11:44,363] Finished trial#77 resulted in value: -0.7850098619329389. Current best value is -0.7924767540152156 with parameters: {'w_lr': 0.03538167798481359, 'w_lda': 0.1327241743298133, 'w_sv': 0.8593910034022756, 'w_xgb': 0.1361800730034592, 'w_lgbm': 0.19438413054046966, 'w_mlp': 0.7052043536025215}.\n"
     ]
    },
    {
     "name": "stdout",
     "output_type": "stream",
     "text": [
      "[w_lr, w_lda, w_sv, w_xgb, w_lgbm,w_cb ] =  [0.03  0.119 0.819 0.061 0.257 0.    0.843]\n",
      "norm =  [0.014 0.056 0.385 0.028 0.121 0.    0.396]\n",
      "AUC all:  0.7874049027895181\n",
      "\n"
     ]
    },
    {
     "name": "stderr",
     "output_type": "stream",
     "text": [
      "[I 2019-08-24 12:11:44,620] Finished trial#78 resulted in value: -0.7874049027895181. Current best value is -0.7924767540152156 with parameters: {'w_lr': 0.03538167798481359, 'w_lda': 0.1327241743298133, 'w_sv': 0.8593910034022756, 'w_xgb': 0.1361800730034592, 'w_lgbm': 0.19438413054046966, 'w_mlp': 0.7052043536025215}.\n"
     ]
    },
    {
     "name": "stdout",
     "output_type": "stream",
     "text": [
      "[w_lr, w_lda, w_sv, w_xgb, w_lgbm,w_cb ] =  [0.14  0.029 0.929 0.008 0.116 0.    0.863]\n",
      "norm =  [0.067 0.014 0.446 0.004 0.056 0.    0.414]\n",
      "AUC all:  0.7899408284023668\n",
      "\n"
     ]
    },
    {
     "name": "stderr",
     "output_type": "stream",
     "text": [
      "[I 2019-08-24 12:11:44,884] Finished trial#79 resulted in value: -0.7899408284023668. Current best value is -0.7924767540152156 with parameters: {'w_lr': 0.03538167798481359, 'w_lda': 0.1327241743298133, 'w_sv': 0.8593910034022756, 'w_xgb': 0.1361800730034592, 'w_lgbm': 0.19438413054046966, 'w_mlp': 0.7052043536025215}.\n"
     ]
    },
    {
     "name": "stdout",
     "output_type": "stream",
     "text": [
      "[w_lr, w_lda, w_sv, w_xgb, w_lgbm,w_cb ] =  [0.112 0.134 0.893 0.145 0.875 0.    0.905]\n",
      "norm =  [0.036 0.044 0.292 0.047 0.286 0.    0.295]\n",
      "AUC all:  0.7776838546069315\n",
      "\n"
     ]
    },
    {
     "name": "stderr",
     "output_type": "stream",
     "text": [
      "[I 2019-08-24 12:11:45,140] Finished trial#80 resulted in value: -0.7776838546069315. Current best value is -0.7924767540152156 with parameters: {'w_lr': 0.03538167798481359, 'w_lda': 0.1327241743298133, 'w_sv': 0.8593910034022756, 'w_xgb': 0.1361800730034592, 'w_lgbm': 0.19438413054046966, 'w_mlp': 0.7052043536025215}.\n"
     ]
    },
    {
     "name": "stdout",
     "output_type": "stream",
     "text": [
      "[w_lr, w_lda, w_sv, w_xgb, w_lgbm,w_cb ] =  [0.189 0.103 0.874 0.106 0.224 0.    0.782]\n",
      "norm =  [0.083 0.045 0.384 0.047 0.098 0.    0.343]\n",
      "AUC all:  0.7909270216962524\n",
      "\n"
     ]
    },
    {
     "name": "stderr",
     "output_type": "stream",
     "text": [
      "[I 2019-08-24 12:11:45,402] Finished trial#81 resulted in value: -0.7909270216962524. Current best value is -0.7924767540152156 with parameters: {'w_lr': 0.03538167798481359, 'w_lda': 0.1327241743298133, 'w_sv': 0.8593910034022756, 'w_xgb': 0.1361800730034592, 'w_lgbm': 0.19438413054046966, 'w_mlp': 0.7052043536025215}.\n"
     ]
    },
    {
     "name": "stdout",
     "output_type": "stream",
     "text": [
      "[w_lr, w_lda, w_sv, w_xgb, w_lgbm,w_cb ] =  [0.074 0.085 0.845 0.08  0.326 0.    0.749]\n",
      "norm =  [0.034 0.04  0.391 0.037 0.151 0.    0.347]\n",
      "AUC all:  0.7867004790081713\n",
      "\n"
     ]
    },
    {
     "name": "stderr",
     "output_type": "stream",
     "text": [
      "[I 2019-08-24 12:11:45,661] Finished trial#82 resulted in value: -0.7867004790081713. Current best value is -0.7924767540152156 with parameters: {'w_lr': 0.03538167798481359, 'w_lda': 0.1327241743298133, 'w_sv': 0.8593910034022756, 'w_xgb': 0.1361800730034592, 'w_lgbm': 0.19438413054046966, 'w_mlp': 0.7052043536025215}.\n"
     ]
    },
    {
     "name": "stdout",
     "output_type": "stream",
     "text": [
      "[w_lr, w_lda, w_sv, w_xgb, w_lgbm,w_cb ] =  [0.159 0.206 0.835 0.184 0.163 0.    0.813]\n",
      "norm =  [0.067 0.087 0.354 0.078 0.069 0.    0.345]\n",
      "AUC all:  0.7854325162017469\n",
      "\n"
     ]
    },
    {
     "name": "stderr",
     "output_type": "stream",
     "text": [
      "[I 2019-08-24 12:11:45,921] Finished trial#83 resulted in value: -0.7854325162017469. Current best value is -0.7924767540152156 with parameters: {'w_lr': 0.03538167798481359, 'w_lda': 0.1327241743298133, 'w_sv': 0.8593910034022756, 'w_xgb': 0.1361800730034592, 'w_lgbm': 0.19438413054046966, 'w_mlp': 0.7052043536025215}.\n"
     ]
    },
    {
     "name": "stdout",
     "output_type": "stream",
     "text": [
      "[w_lr, w_lda, w_sv, w_xgb, w_lgbm,w_cb ] =  [0.131 0.047 0.868 0.251 0.375 0.    0.713]\n",
      "norm =  [0.055 0.02  0.364 0.105 0.157 0.    0.299]\n",
      "AUC all:  0.7889546351084813\n",
      "\n"
     ]
    },
    {
     "name": "stderr",
     "output_type": "stream",
     "text": [
      "[I 2019-08-24 12:11:46,181] Finished trial#84 resulted in value: -0.7889546351084813. Current best value is -0.7924767540152156 with parameters: {'w_lr': 0.03538167798481359, 'w_lda': 0.1327241743298133, 'w_sv': 0.8593910034022756, 'w_xgb': 0.1361800730034592, 'w_lgbm': 0.19438413054046966, 'w_mlp': 0.7052043536025215}.\n"
     ]
    },
    {
     "name": "stdout",
     "output_type": "stream",
     "text": [
      "[w_lr, w_lda, w_sv, w_xgb, w_lgbm,w_cb ] =  [0.006 0.243 0.906 0.193 0.099 0.    0.801]\n",
      "norm =  [0.002 0.108 0.403 0.086 0.044 0.    0.356]\n",
      "AUC all:  0.7810650887573963\n",
      "\n"
     ]
    },
    {
     "name": "stderr",
     "output_type": "stream",
     "text": [
      "[I 2019-08-24 12:11:46,444] Finished trial#85 resulted in value: -0.7810650887573963. Current best value is -0.7924767540152156 with parameters: {'w_lr': 0.03538167798481359, 'w_lda': 0.1327241743298133, 'w_sv': 0.8593910034022756, 'w_xgb': 0.1361800730034592, 'w_lgbm': 0.19438413054046966, 'w_mlp': 0.7052043536025215}.\n"
     ]
    },
    {
     "name": "stdout",
     "output_type": "stream",
     "text": [
      "[w_lr, w_lda, w_sv, w_xgb, w_lgbm,w_cb ] =  [0.2   0.162 0.851 0.285 0.193 0.    0.69 ]\n",
      "norm =  [0.084 0.068 0.357 0.12  0.081 0.    0.29 ]\n",
      "AUC all:  0.787686672302057\n",
      "\n"
     ]
    },
    {
     "name": "stderr",
     "output_type": "stream",
     "text": [
      "[I 2019-08-24 12:11:46,708] Finished trial#86 resulted in value: -0.787686672302057. Current best value is -0.7924767540152156 with parameters: {'w_lr': 0.03538167798481359, 'w_lda': 0.1327241743298133, 'w_sv': 0.8593910034022756, 'w_xgb': 0.1361800730034592, 'w_lgbm': 0.19438413054046966, 'w_mlp': 0.7052043536025215}.\n"
     ]
    },
    {
     "name": "stdout",
     "output_type": "stream",
     "text": [
      "[w_lr, w_lda, w_sv, w_xgb, w_lgbm,w_cb ] =  [0.091 0.003 0.78  0.39  0.255 0.    0.833]\n",
      "norm =  [0.039 0.001 0.332 0.166 0.108 0.    0.354]\n",
      "AUC all:  0.7913496759650606\n",
      "\n"
     ]
    },
    {
     "name": "stderr",
     "output_type": "stream",
     "text": [
      "[I 2019-08-24 12:11:46,987] Finished trial#87 resulted in value: -0.7913496759650606. Current best value is -0.7924767540152156 with parameters: {'w_lr': 0.03538167798481359, 'w_lda': 0.1327241743298133, 'w_sv': 0.8593910034022756, 'w_xgb': 0.1361800730034592, 'w_lgbm': 0.19438413054046966, 'w_mlp': 0.7052043536025215}.\n"
     ]
    },
    {
     "name": "stdout",
     "output_type": "stream",
     "text": [
      "[w_lr, w_lda, w_sv, w_xgb, w_lgbm,w_cb ] =  [0.092 0.058 0.8   0.312 0.302 0.    0.837]\n",
      "norm =  [0.038 0.024 0.333 0.13  0.126 0.    0.348]\n",
      "AUC all:  0.7921949845026768\n",
      "\n"
     ]
    },
    {
     "name": "stderr",
     "output_type": "stream",
     "text": [
      "[I 2019-08-24 12:11:47,257] Finished trial#88 resulted in value: -0.7921949845026768. Current best value is -0.7924767540152156 with parameters: {'w_lr': 0.03538167798481359, 'w_lda': 0.1327241743298133, 'w_sv': 0.8593910034022756, 'w_xgb': 0.1361800730034592, 'w_lgbm': 0.19438413054046966, 'w_mlp': 0.7052043536025215}.\n"
     ]
    },
    {
     "name": "stdout",
     "output_type": "stream",
     "text": [
      "[w_lr, w_lda, w_sv, w_xgb, w_lgbm,w_cb ] =  [0.095 0.    0.782 0.44  0.303 0.    0.835]\n",
      "norm =  [0.039 0.    0.319 0.179 0.123 0.    0.34 ]\n",
      "AUC all:  0.7906452521837137\n",
      "\n"
     ]
    },
    {
     "name": "stderr",
     "output_type": "stream",
     "text": [
      "[I 2019-08-24 12:11:47,525] Finished trial#89 resulted in value: -0.7906452521837137. Current best value is -0.7924767540152156 with parameters: {'w_lr': 0.03538167798481359, 'w_lda': 0.1327241743298133, 'w_sv': 0.8593910034022756, 'w_xgb': 0.1361800730034592, 'w_lgbm': 0.19438413054046966, 'w_mlp': 0.7052043536025215}.\n"
     ]
    },
    {
     "name": "stdout",
     "output_type": "stream",
     "text": [
      "[w_lr, w_lda, w_sv, w_xgb, w_lgbm,w_cb ] =  [0.023 0.062 0.772 0.382 0.269 0.    0.89 ]\n",
      "norm =  [0.01  0.026 0.322 0.159 0.112 0.    0.371]\n",
      "AUC all:  0.790786136939983\n",
      "\n"
     ]
    },
    {
     "name": "stderr",
     "output_type": "stream",
     "text": [
      "[I 2019-08-24 12:11:47,805] Finished trial#90 resulted in value: -0.790786136939983. Current best value is -0.7924767540152156 with parameters: {'w_lr': 0.03538167798481359, 'w_lda': 0.1327241743298133, 'w_sv': 0.8593910034022756, 'w_xgb': 0.1361800730034592, 'w_lgbm': 0.19438413054046966, 'w_mlp': 0.7052043536025215}.\n"
     ]
    },
    {
     "name": "stdout",
     "output_type": "stream",
     "text": [
      "[w_lr, w_lda, w_sv, w_xgb, w_lgbm,w_cb ] =  [0.06  0.022 0.808 0.237 0.255 0.    0.943]\n",
      "norm =  [0.026 0.01  0.348 0.102 0.11  0.    0.406]\n",
      "AUC all:  0.793040293040293\n",
      "\n"
     ]
    },
    {
     "name": "stderr",
     "output_type": "stream",
     "text": [
      "[I 2019-08-24 12:11:48,090] Finished trial#91 resulted in value: -0.793040293040293. Current best value is -0.793040293040293 with parameters: {'w_lr': 0.06030802462138424, 'w_lda': 0.022363506229205247, 'w_sv': 0.808131478655622, 'w_xgb': 0.23661287436577927, 'w_lgbm': 0.25465252461706256, 'w_mlp': 0.943137145993924}.\n"
     ]
    },
    {
     "name": "stdout",
     "output_type": "stream",
     "text": [
      "[w_lr, w_lda, w_sv, w_xgb, w_lgbm,w_cb ] =  [0.121 0.023 0.807 0.241 0.255 0.    0.988]\n",
      "norm =  [0.049 0.009 0.332 0.099 0.105 0.    0.406]\n",
      "AUC all:  0.7921949845026768\n",
      "\n"
     ]
    },
    {
     "name": "stderr",
     "output_type": "stream",
     "text": [
      "[I 2019-08-24 12:11:48,376] Finished trial#92 resulted in value: -0.7921949845026768. Current best value is -0.793040293040293 with parameters: {'w_lr': 0.06030802462138424, 'w_lda': 0.022363506229205247, 'w_sv': 0.808131478655622, 'w_xgb': 0.23661287436577927, 'w_lgbm': 0.25465252461706256, 'w_mlp': 0.943137145993924}.\n"
     ]
    },
    {
     "name": "stdout",
     "output_type": "stream",
     "text": [
      "[w_lr, w_lda, w_sv, w_xgb, w_lgbm,w_cb ] =  [0.05  0.023 0.804 0.24  0.248 0.    0.98 ]\n",
      "norm =  [0.021 0.01  0.343 0.102 0.106 0.    0.418]\n",
      "AUC all:  0.7920540997464075\n",
      "\n"
     ]
    },
    {
     "name": "stderr",
     "output_type": "stream",
     "text": [
      "[I 2019-08-24 12:11:48,660] Finished trial#93 resulted in value: -0.7920540997464075. Current best value is -0.793040293040293 with parameters: {'w_lr': 0.06030802462138424, 'w_lda': 0.022363506229205247, 'w_sv': 0.808131478655622, 'w_xgb': 0.23661287436577927, 'w_lgbm': 0.25465252461706256, 'w_mlp': 0.943137145993924}.\n"
     ]
    },
    {
     "name": "stdout",
     "output_type": "stream",
     "text": [
      "[w_lr, w_lda, w_sv, w_xgb, w_lgbm,w_cb ] =  [0.    0.027 0.805 0.239 0.321 0.    0.98 ]\n",
      "norm =  [0.    0.011 0.339 0.101 0.135 0.    0.413]\n",
      "AUC all:  0.7907861369399831\n",
      "\n"
     ]
    },
    {
     "name": "stderr",
     "output_type": "stream",
     "text": [
      "[I 2019-08-24 12:11:48,950] Finished trial#94 resulted in value: -0.7907861369399831. Current best value is -0.793040293040293 with parameters: {'w_lr': 0.06030802462138424, 'w_lda': 0.022363506229205247, 'w_sv': 0.808131478655622, 'w_xgb': 0.23661287436577927, 'w_lgbm': 0.25465252461706256, 'w_mlp': 0.943137145993924}.\n"
     ]
    },
    {
     "name": "stdout",
     "output_type": "stream",
     "text": [
      "[w_lr, w_lda, w_sv, w_xgb, w_lgbm,w_cb ] =  [0.059 0.086 0.818 0.167 0.188 0.    0.964]\n",
      "norm =  [0.026 0.037 0.359 0.073 0.082 0.    0.423]\n",
      "AUC all:  0.7919132149901381\n",
      "\n"
     ]
    },
    {
     "name": "stderr",
     "output_type": "stream",
     "text": [
      "[I 2019-08-24 12:11:49,226] Finished trial#95 resulted in value: -0.7919132149901381. Current best value is -0.793040293040293 with parameters: {'w_lr': 0.06030802462138424, 'w_lda': 0.022363506229205247, 'w_sv': 0.808131478655622, 'w_xgb': 0.23661287436577927, 'w_lgbm': 0.25465252461706256, 'w_mlp': 0.943137145993924}.\n"
     ]
    },
    {
     "name": "stdout",
     "output_type": "stream",
     "text": [
      "[w_lr, w_lda, w_sv, w_xgb, w_lgbm,w_cb ] =  [0.053 0.091 0.821 0.17  0.243 0.    0.959]\n",
      "norm =  [0.023 0.039 0.351 0.073 0.104 0.    0.41 ]\n",
      "AUC all:  0.791913214990138\n",
      "\n"
     ]
    },
    {
     "name": "stderr",
     "output_type": "stream",
     "text": [
      "[I 2019-08-24 12:11:49,512] Finished trial#96 resulted in value: -0.791913214990138. Current best value is -0.793040293040293 with parameters: {'w_lr': 0.06030802462138424, 'w_lda': 0.022363506229205247, 'w_sv': 0.808131478655622, 'w_xgb': 0.23661287436577927, 'w_lgbm': 0.25465252461706256, 'w_mlp': 0.943137145993924}.\n"
     ]
    },
    {
     "name": "stdout",
     "output_type": "stream",
     "text": [
      "[w_lr, w_lda, w_sv, w_xgb, w_lgbm,w_cb ] =  [0.126 0.124 0.801 0.232 0.194 0.    0.929]\n",
      "norm =  [0.052 0.051 0.333 0.097 0.081 0.    0.386]\n",
      "AUC all:  0.7897999436460975\n",
      "\n"
     ]
    },
    {
     "name": "stderr",
     "output_type": "stream",
     "text": [
      "[I 2019-08-24 12:11:49,800] Finished trial#97 resulted in value: -0.7897999436460975. Current best value is -0.793040293040293 with parameters: {'w_lr': 0.06030802462138424, 'w_lda': 0.022363506229205247, 'w_sv': 0.808131478655622, 'w_xgb': 0.23661287436577927, 'w_lgbm': 0.25465252461706256, 'w_mlp': 0.943137145993924}.\n"
     ]
    },
    {
     "name": "stdout",
     "output_type": "stream",
     "text": [
      "[w_lr, w_lda, w_sv, w_xgb, w_lgbm,w_cb ] =  [0.057 0.06  0.829 0.296 0.302 0.    0.946]\n",
      "norm =  [0.023 0.024 0.333 0.119 0.121 0.    0.38 ]\n",
      "AUC all:  0.7924767540152156\n",
      "\n"
     ]
    },
    {
     "name": "stderr",
     "output_type": "stream",
     "text": [
      "[I 2019-08-24 12:11:50,090] Finished trial#98 resulted in value: -0.7924767540152156. Current best value is -0.793040293040293 with parameters: {'w_lr': 0.06030802462138424, 'w_lda': 0.022363506229205247, 'w_sv': 0.808131478655622, 'w_xgb': 0.23661287436577927, 'w_lgbm': 0.25465252461706256, 'w_mlp': 0.943137145993924}.\n"
     ]
    },
    {
     "name": "stdout",
     "output_type": "stream",
     "text": [
      "[w_lr, w_lda, w_sv, w_xgb, w_lgbm,w_cb ] =  [0.112 0.061 0.829 0.295 0.39  0.    0.994]\n",
      "norm =  [0.042 0.023 0.309 0.11  0.145 0.    0.371]\n",
      "AUC all:  0.7900817131586362\n",
      "\n"
     ]
    },
    {
     "name": "stderr",
     "output_type": "stream",
     "text": [
      "[I 2019-08-24 12:11:50,382] Finished trial#99 resulted in value: -0.7900817131586362. Current best value is -0.793040293040293 with parameters: {'w_lr': 0.06030802462138424, 'w_lda': 0.022363506229205247, 'w_sv': 0.808131478655622, 'w_xgb': 0.23661287436577927, 'w_lgbm': 0.25465252461706256, 'w_mlp': 0.943137145993924}.\n"
     ]
    },
    {
     "name": "stdout",
     "output_type": "stream",
     "text": [
      "[w_lr, w_lda, w_sv, w_xgb, w_lgbm,w_cb ] =  [0.001 0.027 0.792 0.279 0.293 0.    0.996]\n",
      "norm =  [0.    0.011 0.332 0.117 0.123 0.    0.417]\n",
      "AUC all:  0.791913214990138\n",
      "\n"
     ]
    },
    {
     "name": "stderr",
     "output_type": "stream",
     "text": [
      "[I 2019-08-24 12:11:50,672] Finished trial#100 resulted in value: -0.791913214990138. Current best value is -0.793040293040293 with parameters: {'w_lr': 0.06030802462138424, 'w_lda': 0.022363506229205247, 'w_sv': 0.808131478655622, 'w_xgb': 0.23661287436577927, 'w_lgbm': 0.25465252461706256, 'w_mlp': 0.943137145993924}.\n"
     ]
    },
    {
     "name": "stdout",
     "output_type": "stream",
     "text": [
      "[w_lr, w_lda, w_sv, w_xgb, w_lgbm,w_cb ] =  [0.049 0.068 0.815 0.145 0.221 0.    0.933]\n",
      "norm =  [0.022 0.03  0.365 0.065 0.099 0.    0.418]\n",
      "AUC all:  0.7920540997464075\n",
      "\n"
     ]
    },
    {
     "name": "stderr",
     "output_type": "stream",
     "text": [
      "[I 2019-08-24 12:11:50,961] Finished trial#101 resulted in value: -0.7920540997464075. Current best value is -0.793040293040293 with parameters: {'w_lr': 0.06030802462138424, 'w_lda': 0.022363506229205247, 'w_sv': 0.808131478655622, 'w_xgb': 0.23661287436577927, 'w_lgbm': 0.25465252461706256, 'w_mlp': 0.943137145993924}.\n"
     ]
    },
    {
     "name": "stdout",
     "output_type": "stream",
     "text": [
      "[w_lr, w_lda, w_sv, w_xgb, w_lgbm,w_cb ] =  [0.023 0.064 0.834 0.209 0.268 0.    0.945]\n",
      "norm =  [0.01  0.027 0.356 0.089 0.114 0.    0.403]\n",
      "AUC all:  0.7933220625528318\n",
      "\n"
     ]
    },
    {
     "name": "stderr",
     "output_type": "stream",
     "text": [
      "[I 2019-08-24 12:11:51,251] Finished trial#102 resulted in value: -0.7933220625528318. Current best value is -0.7933220625528318 with parameters: {'w_lr': 0.022762682589665413, 'w_lda': 0.0642127801893829, 'w_sv': 0.8336895903897168, 'w_xgb': 0.20935442235979068, 'w_lgbm': 0.26793498528152604, 'w_mlp': 0.9451007172638869}.\n"
     ]
    },
    {
     "name": "stdout",
     "output_type": "stream",
     "text": [
      "[w_lr, w_lda, w_sv, w_xgb, w_lgbm,w_cb ] =  [0.021 0.063 0.811 0.306 0.218 0.    0.944]\n",
      "norm =  [0.009 0.027 0.343 0.13  0.092 0.    0.4  ]\n",
      "AUC all:  0.7909270216962525\n",
      "\n"
     ]
    },
    {
     "name": "stderr",
     "output_type": "stream",
     "text": [
      "[I 2019-08-24 12:11:51,549] Finished trial#103 resulted in value: -0.7909270216962525. Current best value is -0.7933220625528318 with parameters: {'w_lr': 0.022762682589665413, 'w_lda': 0.0642127801893829, 'w_sv': 0.8336895903897168, 'w_xgb': 0.20935442235979068, 'w_lgbm': 0.26793498528152604, 'w_mlp': 0.9451007172638869}.\n"
     ]
    },
    {
     "name": "stdout",
     "output_type": "stream",
     "text": [
      "[w_lr, w_lda, w_sv, w_xgb, w_lgbm,w_cb ] =  [0.059 0.019 0.836 0.213 0.307 0.    0.934]\n",
      "norm =  [0.025 0.008 0.353 0.09  0.13  0.    0.394]\n",
      "AUC all:  0.7906452521837138\n",
      "\n"
     ]
    },
    {
     "name": "stderr",
     "output_type": "stream",
     "text": [
      "[I 2019-08-24 12:11:51,854] Finished trial#104 resulted in value: -0.7906452521837138. Current best value is -0.7933220625528318 with parameters: {'w_lr': 0.022762682589665413, 'w_lda': 0.0642127801893829, 'w_sv': 0.8336895903897168, 'w_xgb': 0.20935442235979068, 'w_lgbm': 0.26793498528152604, 'w_mlp': 0.9451007172638869}.\n"
     ]
    },
    {
     "name": "stdout",
     "output_type": "stream",
     "text": [
      "[w_lr, w_lda, w_sv, w_xgb, w_lgbm,w_cb ] =  [0.12  0.049 0.745 0.257 0.276 0.    0.948]\n",
      "norm =  [0.05  0.021 0.311 0.107 0.115 0.    0.396]\n",
      "AUC all:  0.7928994082840237\n",
      "\n"
     ]
    },
    {
     "name": "stderr",
     "output_type": "stream",
     "text": [
      "[I 2019-08-24 12:11:52,163] Finished trial#105 resulted in value: -0.7928994082840237. Current best value is -0.7933220625528318 with parameters: {'w_lr': 0.022762682589665413, 'w_lda': 0.0642127801893829, 'w_sv': 0.8336895903897168, 'w_xgb': 0.20935442235979068, 'w_lgbm': 0.26793498528152604, 'w_mlp': 0.9451007172638869}.\n"
     ]
    },
    {
     "name": "stdout",
     "output_type": "stream",
     "text": [
      "[w_lr, w_lda, w_sv, w_xgb, w_lgbm,w_cb ] =  [0.12  0.049 0.747 0.274 0.363 0.    0.954]\n",
      "norm =  [0.048 0.02  0.298 0.109 0.145 0.    0.38 ]\n",
      "AUC all:  0.7899408284023668\n",
      "\n"
     ]
    },
    {
     "name": "stderr",
     "output_type": "stream",
     "text": [
      "[I 2019-08-24 12:11:52,464] Finished trial#106 resulted in value: -0.7899408284023668. Current best value is -0.7933220625528318 with parameters: {'w_lr': 0.022762682589665413, 'w_lda': 0.0642127801893829, 'w_sv': 0.8336895903897168, 'w_xgb': 0.20935442235979068, 'w_lgbm': 0.26793498528152604, 'w_mlp': 0.9451007172638869}.\n"
     ]
    },
    {
     "name": "stdout",
     "output_type": "stream",
     "text": [
      "[w_lr, w_lda, w_sv, w_xgb, w_lgbm,w_cb ] =  [0.088 0.1   0.787 0.24  0.334 0.    0.917]\n",
      "norm =  [0.036 0.04  0.319 0.097 0.135 0.    0.372]\n",
      "AUC all:  0.7905043674274443\n",
      "\n"
     ]
    },
    {
     "name": "stderr",
     "output_type": "stream",
     "text": [
      "[I 2019-08-24 12:11:52,766] Finished trial#107 resulted in value: -0.7905043674274443. Current best value is -0.7933220625528318 with parameters: {'w_lr': 0.022762682589665413, 'w_lda': 0.0642127801893829, 'w_sv': 0.8336895903897168, 'w_xgb': 0.20935442235979068, 'w_lgbm': 0.26793498528152604, 'w_mlp': 0.9451007172638869}.\n"
     ]
    },
    {
     "name": "stdout",
     "output_type": "stream",
     "text": [
      "[w_lr, w_lda, w_sv, w_xgb, w_lgbm,w_cb ] =  [0.16  0.073 0.763 0.267 0.281 0.    0.919]\n",
      "norm =  [0.065 0.03  0.31  0.108 0.114 0.    0.373]\n",
      "AUC all:  0.7933220625528318\n",
      "\n"
     ]
    },
    {
     "name": "stderr",
     "output_type": "stream",
     "text": [
      "[I 2019-08-24 12:11:53,068] Finished trial#108 resulted in value: -0.7933220625528318. Current best value is -0.7933220625528318 with parameters: {'w_lr': 0.022762682589665413, 'w_lda': 0.0642127801893829, 'w_sv': 0.8336895903897168, 'w_xgb': 0.20935442235979068, 'w_lgbm': 0.26793498528152604, 'w_mlp': 0.9451007172638869}.\n"
     ]
    },
    {
     "name": "stdout",
     "output_type": "stream",
     "text": [
      "[w_lr, w_lda, w_sv, w_xgb, w_lgbm,w_cb ] =  [0.139 0.132 0.768 0.266 0.273 0.    0.977]\n",
      "norm =  [0.054 0.052 0.301 0.104 0.107 0.    0.382]\n",
      "AUC all:  0.7930402930402931\n",
      "\n"
     ]
    },
    {
     "name": "stderr",
     "output_type": "stream",
     "text": [
      "[I 2019-08-24 12:11:53,385] Finished trial#109 resulted in value: -0.7930402930402931. Current best value is -0.7933220625528318 with parameters: {'w_lr': 0.022762682589665413, 'w_lda': 0.0642127801893829, 'w_sv': 0.8336895903897168, 'w_xgb': 0.20935442235979068, 'w_lgbm': 0.26793498528152604, 'w_mlp': 0.9451007172638869}.\n"
     ]
    },
    {
     "name": "stdout",
     "output_type": "stream",
     "text": [
      "[w_lr, w_lda, w_sv, w_xgb, w_lgbm,w_cb ] =  [0.144 0.133 0.772 0.329 0.294 0.    0.978]\n",
      "norm =  [0.054 0.05  0.291 0.124 0.111 0.    0.369]\n",
      "AUC all:  0.7931811777965624\n",
      "\n"
     ]
    },
    {
     "name": "stderr",
     "output_type": "stream",
     "text": [
      "[I 2019-08-24 12:11:53,684] Finished trial#110 resulted in value: -0.7931811777965624. Current best value is -0.7933220625528318 with parameters: {'w_lr': 0.022762682589665413, 'w_lda': 0.0642127801893829, 'w_sv': 0.8336895903897168, 'w_xgb': 0.20935442235979068, 'w_lgbm': 0.26793498528152604, 'w_mlp': 0.9451007172638869}.\n"
     ]
    },
    {
     "name": "stdout",
     "output_type": "stream",
     "text": [
      "[w_lr, w_lda, w_sv, w_xgb, w_lgbm,w_cb ] =  [0.154 0.129 0.772 0.329 0.294 0.    0.975]\n",
      "norm =  [0.058 0.049 0.291 0.124 0.111 0.    0.367]\n",
      "AUC all:  0.793040293040293\n",
      "\n"
     ]
    },
    {
     "name": "stderr",
     "output_type": "stream",
     "text": [
      "[I 2019-08-24 12:11:53,981] Finished trial#111 resulted in value: -0.793040293040293. Current best value is -0.7933220625528318 with parameters: {'w_lr': 0.022762682589665413, 'w_lda': 0.0642127801893829, 'w_sv': 0.8336895903897168, 'w_xgb': 0.20935442235979068, 'w_lgbm': 0.26793498528152604, 'w_mlp': 0.9451007172638869}.\n"
     ]
    },
    {
     "name": "stdout",
     "output_type": "stream",
     "text": [
      "[w_lr, w_lda, w_sv, w_xgb, w_lgbm,w_cb ] =  [0.158 0.142 0.739 0.334 0.274 0.    0.949]\n",
      "norm =  [0.061 0.055 0.285 0.129 0.106 0.    0.366]\n",
      "AUC all:  0.7920540997464074\n",
      "\n"
     ]
    },
    {
     "name": "stderr",
     "output_type": "stream",
     "text": [
      "[I 2019-08-24 12:11:54,286] Finished trial#112 resulted in value: -0.7920540997464074. Current best value is -0.7933220625528318 with parameters: {'w_lr': 0.022762682589665413, 'w_lda': 0.0642127801893829, 'w_sv': 0.8336895903897168, 'w_xgb': 0.20935442235979068, 'w_lgbm': 0.26793498528152604, 'w_mlp': 0.9451007172638869}.\n"
     ]
    },
    {
     "name": "stdout",
     "output_type": "stream",
     "text": [
      "[w_lr, w_lda, w_sv, w_xgb, w_lgbm,w_cb ] =  [0.151 0.118 0.772 0.383 0.284 0.    0.974]\n",
      "norm =  [0.056 0.044 0.288 0.143 0.106 0.    0.363]\n",
      "AUC all:  0.7910679064525218\n",
      "\n"
     ]
    },
    {
     "name": "stderr",
     "output_type": "stream",
     "text": [
      "[I 2019-08-24 12:11:54,607] Finished trial#113 resulted in value: -0.7910679064525218. Current best value is -0.7933220625528318 with parameters: {'w_lr': 0.022762682589665413, 'w_lda': 0.0642127801893829, 'w_sv': 0.8336895903897168, 'w_xgb': 0.20935442235979068, 'w_lgbm': 0.26793498528152604, 'w_mlp': 0.9451007172638869}.\n"
     ]
    },
    {
     "name": "stdout",
     "output_type": "stream",
     "text": [
      "[w_lr, w_lda, w_sv, w_xgb, w_lgbm,w_cb ] =  [0.12  0.197 0.766 0.303 0.327 0.    0.989]\n",
      "norm =  [0.044 0.073 0.284 0.112 0.121 0.    0.366]\n",
      "AUC all:  0.7924767540152156\n",
      "\n"
     ]
    },
    {
     "name": "stderr",
     "output_type": "stream",
     "text": [
      "[I 2019-08-24 12:11:54,926] Finished trial#114 resulted in value: -0.7924767540152156. Current best value is -0.7933220625528318 with parameters: {'w_lr': 0.022762682589665413, 'w_lda': 0.0642127801893829, 'w_sv': 0.8336895903897168, 'w_xgb': 0.20935442235979068, 'w_lgbm': 0.26793498528152604, 'w_mlp': 0.9451007172638869}.\n"
     ]
    },
    {
     "name": "stdout",
     "output_type": "stream",
     "text": [
      "[w_lr, w_lda, w_sv, w_xgb, w_lgbm,w_cb ] =  [0.174 0.203 0.757 0.261 0.378 0.    0.919]\n",
      "norm =  [0.065 0.075 0.281 0.097 0.141 0.    0.341]\n",
      "AUC all:  0.7920540997464074\n",
      "\n"
     ]
    },
    {
     "name": "stderr",
     "output_type": "stream",
     "text": [
      "[I 2019-08-24 12:11:55,247] Finished trial#115 resulted in value: -0.7920540997464074. Current best value is -0.7933220625528318 with parameters: {'w_lr': 0.022762682589665413, 'w_lda': 0.0642127801893829, 'w_sv': 0.8336895903897168, 'w_xgb': 0.20935442235979068, 'w_lgbm': 0.26793498528152604, 'w_mlp': 0.9451007172638869}.\n"
     ]
    },
    {
     "name": "stdout",
     "output_type": "stream",
     "text": [
      "[w_lr, w_lda, w_sv, w_xgb, w_lgbm,w_cb ] =  [0.122 0.133 0.765 0.307 0.414 0.    0.987]\n",
      "norm =  [0.045 0.049 0.281 0.112 0.152 0.    0.362]\n",
      "AUC all:  0.7900817131586362\n",
      "\n"
     ]
    },
    {
     "name": "stderr",
     "output_type": "stream",
     "text": [
      "[I 2019-08-24 12:11:55,560] Finished trial#116 resulted in value: -0.7900817131586362. Current best value is -0.7933220625528318 with parameters: {'w_lr': 0.022762682589665413, 'w_lda': 0.0642127801893829, 'w_sv': 0.8336895903897168, 'w_xgb': 0.20935442235979068, 'w_lgbm': 0.26793498528152604, 'w_mlp': 0.9451007172638869}.\n"
     ]
    },
    {
     "name": "stdout",
     "output_type": "stream",
     "text": [
      "[w_lr, w_lda, w_sv, w_xgb, w_lgbm,w_cb ] =  [0.144 0.103 0.73  0.5   0.321 0.    0.97 ]\n",
      "norm =  [0.052 0.037 0.264 0.181 0.116 0.    0.35 ]\n",
      "AUC all:  0.7912087912087913\n",
      "\n"
     ]
    },
    {
     "name": "stderr",
     "output_type": "stream",
     "text": [
      "[I 2019-08-24 12:11:55,871] Finished trial#117 resulted in value: -0.7912087912087913. Current best value is -0.7933220625528318 with parameters: {'w_lr': 0.022762682589665413, 'w_lda': 0.0642127801893829, 'w_sv': 0.8336895903897168, 'w_xgb': 0.20935442235979068, 'w_lgbm': 0.26793498528152604, 'w_mlp': 0.9451007172638869}.\n"
     ]
    },
    {
     "name": "stdout",
     "output_type": "stream",
     "text": [
      "[w_lr, w_lda, w_sv, w_xgb, w_lgbm,w_cb ] =  [0.097 0.159 0.752 0.305 0.353 0.    0.998]\n",
      "norm =  [0.036 0.06  0.282 0.114 0.133 0.    0.375]\n",
      "AUC all:  0.7920540997464074\n",
      "\n"
     ]
    },
    {
     "name": "stderr",
     "output_type": "stream",
     "text": [
      "[I 2019-08-24 12:11:56,192] Finished trial#118 resulted in value: -0.7920540997464074. Current best value is -0.7933220625528318 with parameters: {'w_lr': 0.022762682589665413, 'w_lda': 0.0642127801893829, 'w_sv': 0.8336895903897168, 'w_xgb': 0.20935442235979068, 'w_lgbm': 0.26793498528152604, 'w_mlp': 0.9451007172638869}.\n"
     ]
    },
    {
     "name": "stdout",
     "output_type": "stream",
     "text": [
      "[w_lr, w_lda, w_sv, w_xgb, w_lgbm,w_cb ] =  [0.119 0.188 0.777 0.271 0.273 0.    0.942]\n",
      "norm =  [0.046 0.073 0.302 0.106 0.106 0.    0.367]\n",
      "AUC all:  0.7914905607213301\n",
      "\n"
     ]
    },
    {
     "name": "stderr",
     "output_type": "stream",
     "text": [
      "[I 2019-08-24 12:11:56,507] Finished trial#119 resulted in value: -0.7914905607213301. Current best value is -0.7933220625528318 with parameters: {'w_lr': 0.022762682589665413, 'w_lda': 0.0642127801893829, 'w_sv': 0.8336895903897168, 'w_xgb': 0.20935442235979068, 'w_lgbm': 0.26793498528152604, 'w_mlp': 0.9451007172638869}.\n"
     ]
    },
    {
     "name": "stdout",
     "output_type": "stream",
     "text": [
      "[w_lr, w_lda, w_sv, w_xgb, w_lgbm,w_cb ] =  [0.086 0.147 0.739 0.371 0.453 0.    0.962]\n",
      "norm =  [0.031 0.053 0.268 0.134 0.164 0.    0.349]\n",
      "AUC all:  0.7892364046210201\n",
      "\n"
     ]
    },
    {
     "name": "stderr",
     "output_type": "stream",
     "text": [
      "[I 2019-08-24 12:11:56,823] Finished trial#120 resulted in value: -0.7892364046210201. Current best value is -0.7933220625528318 with parameters: {'w_lr': 0.022762682589665413, 'w_lda': 0.0642127801893829, 'w_sv': 0.8336895903897168, 'w_xgb': 0.20935442235979068, 'w_lgbm': 0.26793498528152604, 'w_mlp': 0.9451007172638869}.\n"
     ]
    },
    {
     "name": "stdout",
     "output_type": "stream",
     "text": [
      "[w_lr, w_lda, w_sv, w_xgb, w_lgbm,w_cb ] =  [0.067 0.074 0.796 0.325 0.311 0.    0.987]\n",
      "norm =  [0.026 0.029 0.311 0.127 0.122 0.    0.386]\n",
      "AUC all:  0.7934629473091012\n",
      "\n"
     ]
    },
    {
     "name": "stderr",
     "output_type": "stream",
     "text": [
      "[I 2019-08-24 12:11:57,142] Finished trial#121 resulted in value: -0.7934629473091012. Current best value is -0.7934629473091012 with parameters: {'w_lr': 0.06709694141481194, 'w_lda': 0.07353837946479393, 'w_sv': 0.7963109039594727, 'w_xgb': 0.324629558429613, 'w_lgbm': 0.31128981787720345, 'w_mlp': 0.986905971683254}.\n"
     ]
    },
    {
     "name": "stdout",
     "output_type": "stream",
     "text": [
      "[w_lr, w_lda, w_sv, w_xgb, w_lgbm,w_cb ] =  [0.07  0.074 0.793 0.326 0.3   0.    0.923]\n",
      "norm =  [0.028 0.03  0.319 0.131 0.121 0.    0.371]\n",
      "AUC all:  0.793040293040293\n",
      "\n"
     ]
    },
    {
     "name": "stderr",
     "output_type": "stream",
     "text": [
      "[I 2019-08-24 12:11:57,466] Finished trial#122 resulted in value: -0.793040293040293. Current best value is -0.7934629473091012 with parameters: {'w_lr': 0.06709694141481194, 'w_lda': 0.07353837946479393, 'w_sv': 0.7963109039594727, 'w_xgb': 0.324629558429613, 'w_lgbm': 0.31128981787720345, 'w_mlp': 0.986905971683254}.\n"
     ]
    },
    {
     "name": "stdout",
     "output_type": "stream",
     "text": [
      "[w_lr, w_lda, w_sv, w_xgb, w_lgbm,w_cb ] =  [0.028 0.084 0.767 0.408 0.323 0.    0.895]\n",
      "norm =  [0.011 0.034 0.306 0.163 0.129 0.    0.357]\n",
      "AUC all:  0.7913496759650606\n",
      "\n"
     ]
    },
    {
     "name": "stderr",
     "output_type": "stream",
     "text": [
      "[I 2019-08-24 12:11:57,791] Finished trial#123 resulted in value: -0.7913496759650606. Current best value is -0.7934629473091012 with parameters: {'w_lr': 0.06709694141481194, 'w_lda': 0.07353837946479393, 'w_sv': 0.7963109039594727, 'w_xgb': 0.324629558429613, 'w_lgbm': 0.31128981787720345, 'w_mlp': 0.986905971683254}.\n"
     ]
    },
    {
     "name": "stdout",
     "output_type": "stream",
     "text": [
      "[w_lr, w_lda, w_sv, w_xgb, w_lgbm,w_cb ] =  [0.068 0.118 0.786 0.339 0.35  0.    0.917]\n",
      "norm =  [0.027 0.046 0.305 0.132 0.136 0.    0.356]\n",
      "AUC all:  0.7924767540152156\n",
      "\n"
     ]
    },
    {
     "name": "stderr",
     "output_type": "stream",
     "text": [
      "[I 2019-08-24 12:11:58,116] Finished trial#124 resulted in value: -0.7924767540152156. Current best value is -0.7934629473091012 with parameters: {'w_lr': 0.06709694141481194, 'w_lda': 0.07353837946479393, 'w_sv': 0.7963109039594727, 'w_xgb': 0.324629558429613, 'w_lgbm': 0.31128981787720345, 'w_mlp': 0.986905971683254}.\n"
     ]
    },
    {
     "name": "stdout",
     "output_type": "stream",
     "text": [
      "[w_lr, w_lda, w_sv, w_xgb, w_lgbm,w_cb ] =  [0.07  0.122 0.782 0.345 0.342 0.    0.922]\n",
      "norm =  [0.027 0.047 0.303 0.134 0.132 0.    0.357]\n",
      "AUC all:  0.7924767540152156\n",
      "\n"
     ]
    },
    {
     "name": "stderr",
     "output_type": "stream",
     "text": [
      "[I 2019-08-24 12:11:58,446] Finished trial#125 resulted in value: -0.7924767540152156. Current best value is -0.7934629473091012 with parameters: {'w_lr': 0.06709694141481194, 'w_lda': 0.07353837946479393, 'w_sv': 0.7963109039594727, 'w_xgb': 0.324629558429613, 'w_lgbm': 0.31128981787720345, 'w_mlp': 0.986905971683254}.\n"
     ]
    },
    {
     "name": "stdout",
     "output_type": "stream",
     "text": [
      "[w_lr, w_lda, w_sv, w_xgb, w_lgbm,w_cb ] =  [0.08  0.116 0.753 0.337 0.337 0.    0.923]\n",
      "norm =  [0.032 0.046 0.296 0.132 0.132 0.    0.362]\n",
      "AUC all:  0.7923358692589462\n",
      "\n"
     ]
    },
    {
     "name": "stderr",
     "output_type": "stream",
     "text": [
      "[I 2019-08-24 12:11:58,770] Finished trial#126 resulted in value: -0.7923358692589462. Current best value is -0.7934629473091012 with parameters: {'w_lr': 0.06709694141481194, 'w_lda': 0.07353837946479393, 'w_sv': 0.7963109039594727, 'w_xgb': 0.324629558429613, 'w_lgbm': 0.31128981787720345, 'w_mlp': 0.986905971683254}.\n"
     ]
    },
    {
     "name": "stdout",
     "output_type": "stream",
     "text": [
      "[w_lr, w_lda, w_sv, w_xgb, w_lgbm,w_cb ] =  [0.066 0.08  0.788 0.35  0.402 0.    0.945]\n",
      "norm =  [0.025 0.03  0.299 0.133 0.153 0.    0.359]\n",
      "AUC all:  0.790363482671175\n",
      "\n"
     ]
    },
    {
     "name": "stderr",
     "output_type": "stream",
     "text": [
      "[I 2019-08-24 12:11:59,100] Finished trial#127 resulted in value: -0.790363482671175. Current best value is -0.7934629473091012 with parameters: {'w_lr': 0.06709694141481194, 'w_lda': 0.07353837946479393, 'w_sv': 0.7963109039594727, 'w_xgb': 0.324629558429613, 'w_lgbm': 0.31128981787720345, 'w_mlp': 0.986905971683254}.\n"
     ]
    },
    {
     "name": "stdout",
     "output_type": "stream",
     "text": [
      "[w_lr, w_lda, w_sv, w_xgb, w_lgbm,w_cb ] =  [0.021 0.142 0.723 0.33  0.293 0.    0.906]\n",
      "norm =  [0.009 0.059 0.3   0.136 0.121 0.    0.375]\n",
      "AUC all:  0.7937447168216399\n",
      "\n"
     ]
    },
    {
     "name": "stderr",
     "output_type": "stream",
     "text": [
      "[I 2019-08-24 12:11:59,439] Finished trial#128 resulted in value: -0.7937447168216399. Current best value is -0.7937447168216399 with parameters: {'w_lr': 0.020817415926041638, 'w_lda': 0.14199753634006776, 'w_sv': 0.7233694495535861, 'w_xgb': 0.32957385313243, 'w_lgbm': 0.2928537843790479, 'w_mlp': 0.9064702863328321}.\n"
     ]
    },
    {
     "name": "stdout",
     "output_type": "stream",
     "text": [
      "[w_lr, w_lda, w_sv, w_xgb, w_lgbm,w_cb ] =  [0.006 0.1   0.745 0.43  0.294 0.    0.906]\n",
      "norm =  [0.003 0.04  0.3   0.173 0.118 0.    0.365]\n",
      "AUC all:  0.7917723302338688\n",
      "\n"
     ]
    },
    {
     "name": "stderr",
     "output_type": "stream",
     "text": [
      "[I 2019-08-24 12:11:59,772] Finished trial#129 resulted in value: -0.7917723302338688. Current best value is -0.7937447168216399 with parameters: {'w_lr': 0.020817415926041638, 'w_lda': 0.14199753634006776, 'w_sv': 0.7233694495535861, 'w_xgb': 0.32957385313243, 'w_lgbm': 0.2928537843790479, 'w_mlp': 0.9064702863328321}.\n"
     ]
    },
    {
     "name": "stdout",
     "output_type": "stream",
     "text": [
      "[w_lr, w_lda, w_sv, w_xgb, w_lgbm,w_cb ] =  [0.045 0.141 0.698 0.325 0.305 0.    0.936]\n",
      "norm =  [0.018 0.058 0.285 0.133 0.125 0.    0.382]\n",
      "AUC all:  0.7940264863341788\n",
      "\n"
     ]
    },
    {
     "name": "stderr",
     "output_type": "stream",
     "text": [
      "[I 2019-08-24 12:12:00,103] Finished trial#130 resulted in value: -0.7940264863341788. Current best value is -0.7940264863341788 with parameters: {'w_lr': 0.04502890832297408, 'w_lda': 0.14129941655167774, 'w_sv': 0.6981068452522112, 'w_xgb': 0.3252681072006001, 'w_lgbm': 0.3052872488544724, 'w_mlp': 0.9362530704678917}.\n"
     ]
    },
    {
     "name": "stdout",
     "output_type": "stream",
     "text": [
      "[w_lr, w_lda, w_sv, w_xgb, w_lgbm,w_cb ] =  [0.039 0.153 0.688 0.321 0.289 0.    0.97 ]\n",
      "norm =  [0.016 0.062 0.28  0.131 0.118 0.    0.394]\n",
      "AUC all:  0.792617638771485\n",
      "\n"
     ]
    },
    {
     "name": "stderr",
     "output_type": "stream",
     "text": [
      "[I 2019-08-24 12:12:00,446] Finished trial#131 resulted in value: -0.792617638771485. Current best value is -0.7940264863341788 with parameters: {'w_lr': 0.04502890832297408, 'w_lda': 0.14129941655167774, 'w_sv': 0.6981068452522112, 'w_xgb': 0.3252681072006001, 'w_lgbm': 0.3052872488544724, 'w_mlp': 0.9362530704678917}.\n"
     ]
    },
    {
     "name": "stdout",
     "output_type": "stream",
     "text": [
      "[w_lr, w_lda, w_sv, w_xgb, w_lgbm,w_cb ] =  [0.017 0.146 0.687 0.367 0.305 0.    0.937]\n",
      "norm =  [0.007 0.059 0.28  0.149 0.124 0.    0.381]\n",
      "AUC all:  0.7937447168216399\n",
      "\n"
     ]
    },
    {
     "name": "stderr",
     "output_type": "stream",
     "text": [
      "[I 2019-08-24 12:12:00,785] Finished trial#132 resulted in value: -0.7937447168216399. Current best value is -0.7940264863341788 with parameters: {'w_lr': 0.04502890832297408, 'w_lda': 0.14129941655167774, 'w_sv': 0.6981068452522112, 'w_xgb': 0.3252681072006001, 'w_lgbm': 0.3052872488544724, 'w_mlp': 0.9362530704678917}.\n"
     ]
    },
    {
     "name": "stdout",
     "output_type": "stream",
     "text": [
      "[w_lr, w_lda, w_sv, w_xgb, w_lgbm,w_cb ] =  [0.023 0.196 0.694 0.368 0.28  0.    0.97 ]\n",
      "norm =  [0.009 0.077 0.274 0.145 0.111 0.    0.383]\n",
      "AUC all:  0.7899408284023668\n",
      "\n"
     ]
    },
    {
     "name": "stderr",
     "output_type": "stream",
     "text": [
      "[I 2019-08-24 12:12:01,127] Finished trial#133 resulted in value: -0.7899408284023668. Current best value is -0.7940264863341788 with parameters: {'w_lr': 0.04502890832297408, 'w_lda': 0.14129941655167774, 'w_sv': 0.6981068452522112, 'w_xgb': 0.3252681072006001, 'w_lgbm': 0.3052872488544724, 'w_mlp': 0.9362530704678917}.\n"
     ]
    },
    {
     "name": "stdout",
     "output_type": "stream",
     "text": [
      "[w_lr, w_lda, w_sv, w_xgb, w_lgbm,w_cb ] =  [0.008 0.152 0.675 0.408 0.364 0.    0.936]\n",
      "norm =  [0.003 0.06  0.265 0.16  0.143 0.    0.368]\n",
      "AUC all:  0.7924767540152156\n",
      "\n"
     ]
    },
    {
     "name": "stderr",
     "output_type": "stream",
     "text": [
      "[I 2019-08-24 12:12:01,467] Finished trial#134 resulted in value: -0.7924767540152156. Current best value is -0.7940264863341788 with parameters: {'w_lr': 0.04502890832297408, 'w_lda': 0.14129941655167774, 'w_sv': 0.6981068452522112, 'w_xgb': 0.3252681072006001, 'w_lgbm': 0.3052872488544724, 'w_mlp': 0.9362530704678917}.\n"
     ]
    },
    {
     "name": "stdout",
     "output_type": "stream",
     "text": [
      "[w_lr, w_lda, w_sv, w_xgb, w_lgbm,w_cb ] =  [0.019 0.176 0.694 0.328 0.267 0.    0.954]\n",
      "norm =  [0.008 0.072 0.285 0.135 0.11  0.    0.391]\n",
      "AUC all:  0.7905043674274443\n",
      "\n"
     ]
    },
    {
     "name": "stderr",
     "output_type": "stream",
     "text": [
      "[I 2019-08-24 12:12:01,812] Finished trial#135 resulted in value: -0.7905043674274443. Current best value is -0.7940264863341788 with parameters: {'w_lr': 0.04502890832297408, 'w_lda': 0.14129941655167774, 'w_sv': 0.6981068452522112, 'w_xgb': 0.3252681072006001, 'w_lgbm': 0.3052872488544724, 'w_mlp': 0.9362530704678917}.\n"
     ]
    },
    {
     "name": "stdout",
     "output_type": "stream",
     "text": [
      "[w_lr, w_lda, w_sv, w_xgb, w_lgbm,w_cb ] =  [0.039 0.232 0.678 0.359 0.307 0.    0.897]\n",
      "norm =  [0.015 0.092 0.27  0.143 0.122 0.    0.357]\n",
      "AUC all:  0.7921949845026768\n",
      "\n"
     ]
    },
    {
     "name": "stderr",
     "output_type": "stream",
     "text": [
      "[I 2019-08-24 12:12:02,159] Finished trial#136 resulted in value: -0.7921949845026768. Current best value is -0.7940264863341788 with parameters: {'w_lr': 0.04502890832297408, 'w_lda': 0.14129941655167774, 'w_sv': 0.6981068452522112, 'w_xgb': 0.3252681072006001, 'w_lgbm': 0.3052872488544724, 'w_mlp': 0.9362530704678917}.\n"
     ]
    },
    {
     "name": "stdout",
     "output_type": "stream",
     "text": [
      "[w_lr, w_lda, w_sv, w_xgb, w_lgbm,w_cb ] =  [0.104 0.268 0.718 0.289 0.308 0.    0.959]\n",
      "norm =  [0.039 0.101 0.272 0.109 0.117 0.    0.362]\n",
      "AUC all:  0.790363482671175\n",
      "\n"
     ]
    },
    {
     "name": "stderr",
     "output_type": "stream",
     "text": [
      "[I 2019-08-24 12:12:02,511] Finished trial#137 resulted in value: -0.790363482671175. Current best value is -0.7940264863341788 with parameters: {'w_lr': 0.04502890832297408, 'w_lda': 0.14129941655167774, 'w_sv': 0.6981068452522112, 'w_xgb': 0.3252681072006001, 'w_lgbm': 0.3052872488544724, 'w_mlp': 0.9362530704678917}.\n"
     ]
    },
    {
     "name": "stdout",
     "output_type": "stream",
     "text": [
      "[w_lr, w_lda, w_sv, w_xgb, w_lgbm,w_cb ] =  [0.144 0.151 0.698 0.324 0.24  0.    0.982]\n",
      "norm =  [0.057 0.06  0.275 0.128 0.094 0.    0.387]\n",
      "AUC all:  0.7897999436460975\n",
      "\n"
     ]
    },
    {
     "name": "stderr",
     "output_type": "stream",
     "text": [
      "[I 2019-08-24 12:12:02,861] Finished trial#138 resulted in value: -0.7897999436460975. Current best value is -0.7940264863341788 with parameters: {'w_lr': 0.04502890832297408, 'w_lda': 0.14129941655167774, 'w_sv': 0.6981068452522112, 'w_xgb': 0.3252681072006001, 'w_lgbm': 0.3052872488544724, 'w_mlp': 0.9362530704678917}.\n"
     ]
    },
    {
     "name": "stdout",
     "output_type": "stream",
     "text": [
      "[w_lr, w_lda, w_sv, w_xgb, w_lgbm,w_cb ] =  [0.05  0.078 0.631 0.263 0.298 0.    0.94 ]\n",
      "norm =  [0.022 0.034 0.279 0.116 0.132 0.    0.416]\n",
      "AUC all:  0.7927585235277543\n",
      "\n"
     ]
    },
    {
     "name": "stderr",
     "output_type": "stream",
     "text": [
      "[I 2019-08-24 12:12:03,216] Finished trial#139 resulted in value: -0.7927585235277543. Current best value is -0.7940264863341788 with parameters: {'w_lr': 0.04502890832297408, 'w_lda': 0.14129941655167774, 'w_sv': 0.6981068452522112, 'w_xgb': 0.3252681072006001, 'w_lgbm': 0.3052872488544724, 'w_mlp': 0.9362530704678917}.\n"
     ]
    },
    {
     "name": "stdout",
     "output_type": "stream",
     "text": [
      "[w_lr, w_lda, w_sv, w_xgb, w_lgbm,w_cb ] =  [0.    0.096 0.64  0.265 0.292 0.    0.969]\n",
      "norm =  [0.    0.042 0.283 0.117 0.129 0.    0.428]\n",
      "AUC all:  0.7933220625528318\n",
      "\n"
     ]
    },
    {
     "name": "stderr",
     "output_type": "stream",
     "text": [
      "[I 2019-08-24 12:12:03,567] Finished trial#140 resulted in value: -0.7933220625528318. Current best value is -0.7940264863341788 with parameters: {'w_lr': 0.04502890832297408, 'w_lda': 0.14129941655167774, 'w_sv': 0.6981068452522112, 'w_xgb': 0.3252681072006001, 'w_lgbm': 0.3052872488544724, 'w_mlp': 0.9362530704678917}.\n"
     ]
    },
    {
     "name": "stdout",
     "output_type": "stream",
     "text": [
      "[w_lr, w_lda, w_sv, w_xgb, w_lgbm,w_cb ] =  [0.003 0.095 0.634 0.268 0.266 0.    0.966]\n",
      "norm =  [0.002 0.043 0.284 0.12  0.119 0.    0.433]\n",
      "AUC all:  0.7940264863341786\n",
      "\n"
     ]
    },
    {
     "name": "stderr",
     "output_type": "stream",
     "text": [
      "[I 2019-08-24 12:12:03,915] Finished trial#141 resulted in value: -0.7940264863341786. Current best value is -0.7940264863341788 with parameters: {'w_lr': 0.04502890832297408, 'w_lda': 0.14129941655167774, 'w_sv': 0.6981068452522112, 'w_xgb': 0.3252681072006001, 'w_lgbm': 0.3052872488544724, 'w_mlp': 0.9362530704678917}.\n"
     ]
    },
    {
     "name": "stdout",
     "output_type": "stream",
     "text": [
      "[w_lr, w_lda, w_sv, w_xgb, w_lgbm,w_cb ] =  [0.005 0.097 0.627 0.265 0.258 0.    0.937]\n",
      "norm =  [0.002 0.044 0.286 0.121 0.118 0.    0.428]\n",
      "AUC all:  0.7938856015779092\n",
      "\n"
     ]
    },
    {
     "name": "stderr",
     "output_type": "stream",
     "text": [
      "[I 2019-08-24 12:12:04,266] Finished trial#142 resulted in value: -0.7938856015779092. Current best value is -0.7940264863341788 with parameters: {'w_lr': 0.04502890832297408, 'w_lda': 0.14129941655167774, 'w_sv': 0.6981068452522112, 'w_xgb': 0.3252681072006001, 'w_lgbm': 0.3052872488544724, 'w_mlp': 0.9362530704678917}.\n"
     ]
    },
    {
     "name": "stdout",
     "output_type": "stream",
     "text": [
      "[w_lr, w_lda, w_sv, w_xgb, w_lgbm,w_cb ] =  [0.001 0.101 0.589 0.272 0.264 0.    0.93 ]\n",
      "norm =  [0.    0.047 0.273 0.126 0.122 0.    0.431]\n",
      "AUC all:  0.7937447168216398\n",
      "\n"
     ]
    },
    {
     "name": "stderr",
     "output_type": "stream",
     "text": [
      "[I 2019-08-24 12:12:04,635] Finished trial#143 resulted in value: -0.7937447168216398. Current best value is -0.7940264863341788 with parameters: {'w_lr': 0.04502890832297408, 'w_lda': 0.14129941655167774, 'w_sv': 0.6981068452522112, 'w_xgb': 0.3252681072006001, 'w_lgbm': 0.3052872488544724, 'w_mlp': 0.9362530704678917}.\n"
     ]
    },
    {
     "name": "stdout",
     "output_type": "stream",
     "text": [
      "[w_lr, w_lda, w_sv, w_xgb, w_lgbm,w_cb ] =  [0.004 0.096 0.588 0.21  0.262 0.    0.928]\n",
      "norm =  [0.002 0.046 0.282 0.1   0.125 0.    0.445]\n",
      "AUC all:  0.7936038320653706\n",
      "\n"
     ]
    },
    {
     "name": "stderr",
     "output_type": "stream",
     "text": [
      "[I 2019-08-24 12:12:04,988] Finished trial#144 resulted in value: -0.7936038320653706. Current best value is -0.7940264863341788 with parameters: {'w_lr': 0.04502890832297408, 'w_lda': 0.14129941655167774, 'w_sv': 0.6981068452522112, 'w_xgb': 0.3252681072006001, 'w_lgbm': 0.3052872488544724, 'w_mlp': 0.9362530704678917}.\n"
     ]
    },
    {
     "name": "stdout",
     "output_type": "stream",
     "text": [
      "[w_lr, w_lda, w_sv, w_xgb, w_lgbm,w_cb ] =  [0.013 0.107 0.589 0.218 0.253 0.    0.911]\n",
      "norm =  [0.006 0.051 0.282 0.104 0.121 0.    0.436]\n",
      "AUC all:  0.7936038320653706\n",
      "\n"
     ]
    },
    {
     "name": "stderr",
     "output_type": "stream",
     "text": [
      "[I 2019-08-24 12:12:05,347] Finished trial#145 resulted in value: -0.7936038320653706. Current best value is -0.7940264863341788 with parameters: {'w_lr': 0.04502890832297408, 'w_lda': 0.14129941655167774, 'w_sv': 0.6981068452522112, 'w_xgb': 0.3252681072006001, 'w_lgbm': 0.3052872488544724, 'w_mlp': 0.9362530704678917}.\n"
     ]
    },
    {
     "name": "stdout",
     "output_type": "stream",
     "text": [
      "[w_lr, w_lda, w_sv, w_xgb, w_lgbm,w_cb ] =  [0.    0.101 0.583 0.218 0.236 0.    0.908]\n",
      "norm =  [0.    0.05  0.285 0.106 0.115 0.    0.444]\n",
      "AUC all:  0.7931811777965625\n",
      "\n"
     ]
    },
    {
     "name": "stderr",
     "output_type": "stream",
     "text": [
      "[I 2019-08-24 12:12:05,719] Finished trial#146 resulted in value: -0.7931811777965625. Current best value is -0.7940264863341788 with parameters: {'w_lr': 0.04502890832297408, 'w_lda': 0.14129941655167774, 'w_sv': 0.6981068452522112, 'w_xgb': 0.3252681072006001, 'w_lgbm': 0.3052872488544724, 'w_mlp': 0.9362530704678917}.\n"
     ]
    },
    {
     "name": "stdout",
     "output_type": "stream",
     "text": [
      "[w_lr, w_lda, w_sv, w_xgb, w_lgbm,w_cb ] =  [0.004 0.105 0.594 0.208 0.242 0.    0.882]\n",
      "norm =  [0.002 0.052 0.292 0.102 0.119 0.    0.433]\n",
      "AUC all:  0.7937447168216399\n",
      "\n"
     ]
    },
    {
     "name": "stderr",
     "output_type": "stream",
     "text": [
      "[I 2019-08-24 12:12:06,087] Finished trial#147 resulted in value: -0.7937447168216399. Current best value is -0.7940264863341788 with parameters: {'w_lr': 0.04502890832297408, 'w_lda': 0.14129941655167774, 'w_sv': 0.6981068452522112, 'w_xgb': 0.3252681072006001, 'w_lgbm': 0.3052872488544724, 'w_mlp': 0.9362530704678917}.\n"
     ]
    },
    {
     "name": "stdout",
     "output_type": "stream",
     "text": [
      "[w_lr, w_lda, w_sv, w_xgb, w_lgbm,w_cb ] =  [0.001 0.103 0.586 0.22  0.217 0.    0.879]\n",
      "norm =  [0.001 0.051 0.292 0.11  0.108 0.    0.438]\n",
      "AUC all:  0.7921949845026768\n",
      "\n"
     ]
    },
    {
     "name": "stderr",
     "output_type": "stream",
     "text": [
      "[I 2019-08-24 12:12:06,445] Finished trial#148 resulted in value: -0.7921949845026768. Current best value is -0.7940264863341788 with parameters: {'w_lr': 0.04502890832297408, 'w_lda': 0.14129941655167774, 'w_sv': 0.6981068452522112, 'w_xgb': 0.3252681072006001, 'w_lgbm': 0.3052872488544724, 'w_mlp': 0.9362530704678917}.\n"
     ]
    },
    {
     "name": "stdout",
     "output_type": "stream",
     "text": [
      "[w_lr, w_lda, w_sv, w_xgb, w_lgbm,w_cb ] =  [0.002 0.099 0.561 0.211 0.245 0.    0.909]\n",
      "norm =  [0.001 0.049 0.277 0.104 0.121 0.    0.449]\n",
      "AUC all:  0.7938856015779093\n",
      "\n"
     ]
    },
    {
     "name": "stderr",
     "output_type": "stream",
     "text": [
      "[I 2019-08-24 12:12:06,814] Finished trial#149 resulted in value: -0.7938856015779093. Current best value is -0.7940264863341788 with parameters: {'w_lr': 0.04502890832297408, 'w_lda': 0.14129941655167774, 'w_sv': 0.6981068452522112, 'w_xgb': 0.3252681072006001, 'w_lgbm': 0.3052872488544724, 'w_mlp': 0.9362530704678917}.\n"
     ]
    },
    {
     "name": "stdout",
     "output_type": "stream",
     "text": [
      "[w_lr, w_lda, w_sv, w_xgb, w_lgbm,w_cb ] =  [0.004 0.096 0.558 0.204 0.244 0.    0.912]\n",
      "norm =  [0.002 0.047 0.276 0.101 0.121 0.    0.452]\n",
      "AUC all:  0.7937447168216399\n",
      "\n"
     ]
    },
    {
     "name": "stderr",
     "output_type": "stream",
     "text": [
      "[I 2019-08-24 12:12:07,173] Finished trial#150 resulted in value: -0.7937447168216399. Current best value is -0.7940264863341788 with parameters: {'w_lr': 0.04502890832297408, 'w_lda': 0.14129941655167774, 'w_sv': 0.6981068452522112, 'w_xgb': 0.3252681072006001, 'w_lgbm': 0.3052872488544724, 'w_mlp': 0.9362530704678917}.\n"
     ]
    },
    {
     "name": "stdout",
     "output_type": "stream",
     "text": [
      "[w_lr, w_lda, w_sv, w_xgb, w_lgbm,w_cb ] =  [0.012 0.096 0.56  0.206 0.234 0.    0.908]\n",
      "norm =  [0.006 0.048 0.278 0.102 0.116 0.    0.451]\n",
      "AUC all:  0.7927585235277543\n",
      "\n"
     ]
    },
    {
     "name": "stderr",
     "output_type": "stream",
     "text": [
      "[I 2019-08-24 12:12:07,543] Finished trial#151 resulted in value: -0.7927585235277543. Current best value is -0.7940264863341788 with parameters: {'w_lr': 0.04502890832297408, 'w_lda': 0.14129941655167774, 'w_sv': 0.6981068452522112, 'w_xgb': 0.3252681072006001, 'w_lgbm': 0.3052872488544724, 'w_mlp': 0.9362530704678917}.\n"
     ]
    },
    {
     "name": "stdout",
     "output_type": "stream",
     "text": [
      "[w_lr, w_lda, w_sv, w_xgb, w_lgbm,w_cb ] =  [0.    0.091 0.606 0.197 0.248 0.    0.889]\n",
      "norm =  [0.    0.045 0.298 0.097 0.122 0.    0.437]\n",
      "AUC all:  0.793462947309101\n",
      "\n"
     ]
    },
    {
     "name": "stderr",
     "output_type": "stream",
     "text": [
      "[I 2019-08-24 12:12:07,908] Finished trial#152 resulted in value: -0.793462947309101. Current best value is -0.7940264863341788 with parameters: {'w_lr': 0.04502890832297408, 'w_lda': 0.14129941655167774, 'w_sv': 0.6981068452522112, 'w_xgb': 0.3252681072006001, 'w_lgbm': 0.3052872488544724, 'w_mlp': 0.9362530704678917}.\n"
     ]
    },
    {
     "name": "stdout",
     "output_type": "stream",
     "text": [
      "[w_lr, w_lda, w_sv, w_xgb, w_lgbm,w_cb ] =  [0.001 0.082 0.603 0.192 0.259 0.    0.893]\n",
      "norm =  [0.001 0.04  0.297 0.095 0.128 0.    0.44 ]\n",
      "AUC all:  0.7933220625528318\n",
      "\n"
     ]
    },
    {
     "name": "stderr",
     "output_type": "stream",
     "text": [
      "[I 2019-08-24 12:12:08,280] Finished trial#153 resulted in value: -0.7933220625528318. Current best value is -0.7940264863341788 with parameters: {'w_lr': 0.04502890832297408, 'w_lda': 0.14129941655167774, 'w_sv': 0.6981068452522112, 'w_xgb': 0.3252681072006001, 'w_lgbm': 0.3052872488544724, 'w_mlp': 0.9362530704678917}.\n"
     ]
    },
    {
     "name": "stdout",
     "output_type": "stream",
     "text": [
      "[w_lr, w_lda, w_sv, w_xgb, w_lgbm,w_cb ] =  [0.    0.086 0.604 0.192 0.258 0.    0.883]\n",
      "norm =  [0.    0.042 0.299 0.095 0.127 0.    0.437]\n",
      "AUC all:  0.793040293040293\n",
      "\n"
     ]
    },
    {
     "name": "stderr",
     "output_type": "stream",
     "text": [
      "[I 2019-08-24 12:12:08,654] Finished trial#154 resulted in value: -0.793040293040293. Current best value is -0.7940264863341788 with parameters: {'w_lr': 0.04502890832297408, 'w_lda': 0.14129941655167774, 'w_sv': 0.6981068452522112, 'w_xgb': 0.3252681072006001, 'w_lgbm': 0.3052872488544724, 'w_mlp': 0.9362530704678917}.\n"
     ]
    },
    {
     "name": "stdout",
     "output_type": "stream",
     "text": [
      "[w_lr, w_lda, w_sv, w_xgb, w_lgbm,w_cb ] =  [0.021 0.112 0.567 0.161 0.21  0.    0.862]\n",
      "norm =  [0.011 0.058 0.293 0.083 0.109 0.    0.446]\n",
      "AUC all:  0.7921949845026769\n",
      "\n"
     ]
    },
    {
     "name": "stderr",
     "output_type": "stream",
     "text": [
      "[I 2019-08-24 12:12:09,026] Finished trial#155 resulted in value: -0.7921949845026769. Current best value is -0.7940264863341788 with parameters: {'w_lr': 0.04502890832297408, 'w_lda': 0.14129941655167774, 'w_sv': 0.6981068452522112, 'w_xgb': 0.3252681072006001, 'w_lgbm': 0.3052872488544724, 'w_mlp': 0.9362530704678917}.\n"
     ]
    },
    {
     "name": "stdout",
     "output_type": "stream",
     "text": [
      "[w_lr, w_lda, w_sv, w_xgb, w_lgbm,w_cb ] =  [0.001 0.049 0.602 0.191 0.241 0.    0.889]\n",
      "norm =  [0.    0.025 0.305 0.097 0.122 0.    0.451]\n",
      "AUC all:  0.7928994082840237\n",
      "\n"
     ]
    },
    {
     "name": "stderr",
     "output_type": "stream",
     "text": [
      "[I 2019-08-24 12:12:09,393] Finished trial#156 resulted in value: -0.7928994082840237. Current best value is -0.7940264863341788 with parameters: {'w_lr': 0.04502890832297408, 'w_lda': 0.14129941655167774, 'w_sv': 0.6981068452522112, 'w_xgb': 0.3252681072006001, 'w_lgbm': 0.3052872488544724, 'w_mlp': 0.9362530704678917}.\n"
     ]
    },
    {
     "name": "stdout",
     "output_type": "stream",
     "text": [
      "[w_lr, w_lda, w_sv, w_xgb, w_lgbm,w_cb ] =  [0.029 0.111 0.639 0.227 0.227 0.    0.93 ]\n",
      "norm =  [0.013 0.051 0.295 0.105 0.105 0.    0.43 ]\n",
      "AUC all:  0.7913496759650607\n",
      "\n"
     ]
    },
    {
     "name": "stderr",
     "output_type": "stream",
     "text": [
      "[I 2019-08-24 12:12:09,781] Finished trial#157 resulted in value: -0.7913496759650607. Current best value is -0.7940264863341788 with parameters: {'w_lr': 0.04502890832297408, 'w_lda': 0.14129941655167774, 'w_sv': 0.6981068452522112, 'w_xgb': 0.3252681072006001, 'w_lgbm': 0.3052872488544724, 'w_mlp': 0.9362530704678917}.\n"
     ]
    },
    {
     "name": "stdout",
     "output_type": "stream",
     "text": [
      "[w_lr, w_lda, w_sv, w_xgb, w_lgbm,w_cb ] =  [0.023 0.079 0.539 0.176 0.251 0.    0.912]\n",
      "norm =  [0.012 0.04  0.272 0.089 0.127 0.    0.461]\n",
      "AUC all:  0.7933220625528317\n",
      "\n"
     ]
    },
    {
     "name": "stderr",
     "output_type": "stream",
     "text": [
      "[I 2019-08-24 12:12:10,160] Finished trial#158 resulted in value: -0.7933220625528317. Current best value is -0.7940264863341788 with parameters: {'w_lr': 0.04502890832297408, 'w_lda': 0.14129941655167774, 'w_sv': 0.6981068452522112, 'w_xgb': 0.3252681072006001, 'w_lgbm': 0.3052872488544724, 'w_mlp': 0.9362530704678917}.\n"
     ]
    },
    {
     "name": "stdout",
     "output_type": "stream",
     "text": [
      "[w_lr, w_lda, w_sv, w_xgb, w_lgbm,w_cb ] =  [0.04  0.07  0.599 0.202 0.264 0.    0.871]\n",
      "norm =  [0.02  0.034 0.293 0.099 0.129 0.    0.426]\n",
      "AUC all:  0.7924767540152156\n",
      "\n"
     ]
    },
    {
     "name": "stderr",
     "output_type": "stream",
     "text": [
      "[I 2019-08-24 12:12:10,543] Finished trial#159 resulted in value: -0.7924767540152156. Current best value is -0.7940264863341788 with parameters: {'w_lr': 0.04502890832297408, 'w_lda': 0.14129941655167774, 'w_sv': 0.6981068452522112, 'w_xgb': 0.3252681072006001, 'w_lgbm': 0.3052872488544724, 'w_mlp': 0.9362530704678917}.\n"
     ]
    },
    {
     "name": "stdout",
     "output_type": "stream",
     "text": [
      "[w_lr, w_lda, w_sv, w_xgb, w_lgbm,w_cb ] =  [0.004 0.167 0.614 0.285 0.181 0.    0.901]\n",
      "norm =  [0.002 0.078 0.285 0.132 0.084 0.    0.419]\n",
      "AUC all:  0.7869822485207101\n",
      "\n"
     ]
    },
    {
     "name": "stderr",
     "output_type": "stream",
     "text": [
      "[I 2019-08-24 12:12:10,920] Finished trial#160 resulted in value: -0.7869822485207101. Current best value is -0.7940264863341788 with parameters: {'w_lr': 0.04502890832297408, 'w_lda': 0.14129941655167774, 'w_sv': 0.6981068452522112, 'w_xgb': 0.3252681072006001, 'w_lgbm': 0.3052872488544724, 'w_mlp': 0.9362530704678917}.\n"
     ]
    },
    {
     "name": "stdout",
     "output_type": "stream",
     "text": [
      "[w_lr, w_lda, w_sv, w_xgb, w_lgbm,w_cb ] =  [0.003 0.094 0.554 0.248 0.253 0.    0.888]\n",
      "norm =  [0.002 0.046 0.272 0.121 0.124 0.    0.435]\n",
      "AUC all:  0.794167371090448\n",
      "\n"
     ]
    },
    {
     "name": "stderr",
     "output_type": "stream",
     "text": [
      "[I 2019-08-24 12:12:11,297] Finished trial#161 resulted in value: -0.794167371090448. Current best value is -0.794167371090448 with parameters: {'w_lr': 0.003435961571762481, 'w_lda': 0.09433760275079685, 'w_sv': 0.5542725457046627, 'w_xgb': 0.24755477914829127, 'w_lgbm': 0.2530687187337709, 'w_mlp': 0.8876419215711966}.\n"
     ]
    },
    {
     "name": "stdout",
     "output_type": "stream",
     "text": [
      "[w_lr, w_lda, w_sv, w_xgb, w_lgbm,w_cb ] =  [0.001 0.092 0.567 0.246 0.594 0.    0.89 ]\n",
      "norm =  [0.    0.038 0.237 0.103 0.248 0.    0.373]\n",
      "AUC all:  0.7847280924204001\n",
      "\n"
     ]
    },
    {
     "name": "stderr",
     "output_type": "stream",
     "text": [
      "[I 2019-08-24 12:12:11,695] Finished trial#162 resulted in value: -0.7847280924204001. Current best value is -0.794167371090448 with parameters: {'w_lr': 0.003435961571762481, 'w_lda': 0.09433760275079685, 'w_sv': 0.5542725457046627, 'w_xgb': 0.24755477914829127, 'w_lgbm': 0.2530687187337709, 'w_mlp': 0.8876419215711966}.\n"
     ]
    },
    {
     "name": "stdout",
     "output_type": "stream",
     "text": [
      "[w_lr, w_lda, w_sv, w_xgb, w_lgbm,w_cb ] =  [0.036 0.141 0.546 0.265 0.246 0.    0.927]\n",
      "norm =  [0.017 0.065 0.253 0.123 0.114 0.    0.429]\n",
      "AUC all:  0.791913214990138\n",
      "\n"
     ]
    },
    {
     "name": "stderr",
     "output_type": "stream",
     "text": [
      "[I 2019-08-24 12:12:12,079] Finished trial#163 resulted in value: -0.791913214990138. Current best value is -0.794167371090448 with parameters: {'w_lr': 0.003435961571762481, 'w_lda': 0.09433760275079685, 'w_sv': 0.5542725457046627, 'w_xgb': 0.24755477914829127, 'w_lgbm': 0.2530687187337709, 'w_mlp': 0.8876419215711966}.\n"
     ]
    },
    {
     "name": "stdout",
     "output_type": "stream",
     "text": [
      "[w_lr, w_lda, w_sv, w_xgb, w_lgbm,w_cb ] =  [0.02  0.052 0.617 0.222 0.215 0.    0.899]\n",
      "norm =  [0.01  0.026 0.304 0.11  0.106 0.    0.444]\n",
      "AUC all:  0.7921949845026768\n",
      "\n"
     ]
    },
    {
     "name": "stderr",
     "output_type": "stream",
     "text": [
      "[I 2019-08-24 12:12:12,466] Finished trial#164 resulted in value: -0.7921949845026768. Current best value is -0.794167371090448 with parameters: {'w_lr': 0.003435961571762481, 'w_lda': 0.09433760275079685, 'w_sv': 0.5542725457046627, 'w_xgb': 0.24755477914829127, 'w_lgbm': 0.2530687187337709, 'w_mlp': 0.8876419215711966}.\n"
     ]
    },
    {
     "name": "stdout",
     "output_type": "stream",
     "text": [
      "[w_lr, w_lda, w_sv, w_xgb, w_lgbm,w_cb ] =  [0.001 0.11  0.592 0.203 0.263 0.    0.87 ]\n",
      "norm =  [0.001 0.054 0.29  0.099 0.129 0.    0.427]\n",
      "AUC all:  0.792617638771485\n",
      "\n"
     ]
    },
    {
     "name": "stderr",
     "output_type": "stream",
     "text": [
      "[I 2019-08-24 12:12:12,857] Finished trial#165 resulted in value: -0.792617638771485. Current best value is -0.794167371090448 with parameters: {'w_lr': 0.003435961571762481, 'w_lda': 0.09433760275079685, 'w_sv': 0.5542725457046627, 'w_xgb': 0.24755477914829127, 'w_lgbm': 0.2530687187337709, 'w_mlp': 0.8876419215711966}.\n"
     ]
    },
    {
     "name": "stdout",
     "output_type": "stream",
     "text": [
      "[w_lr, w_lda, w_sv, w_xgb, w_lgbm,w_cb ] =  [0.042 0.041 0.652 0.25  0.277 0.    0.914]\n",
      "norm =  [0.019 0.019 0.3   0.115 0.127 0.    0.42 ]\n",
      "AUC all:  0.7921949845026768\n",
      "\n"
     ]
    },
    {
     "name": "stderr",
     "output_type": "stream",
     "text": [
      "[I 2019-08-24 12:12:13,241] Finished trial#166 resulted in value: -0.7921949845026768. Current best value is -0.794167371090448 with parameters: {'w_lr': 0.003435961571762481, 'w_lda': 0.09433760275079685, 'w_sv': 0.5542725457046627, 'w_xgb': 0.24755477914829127, 'w_lgbm': 0.2530687187337709, 'w_mlp': 0.8876419215711966}.\n"
     ]
    },
    {
     "name": "stdout",
     "output_type": "stream",
     "text": [
      "[w_lr, w_lda, w_sv, w_xgb, w_lgbm,w_cb ] =  [0.002 0.126 0.576 0.174 0.234 0.    0.886]\n",
      "norm =  [0.001 0.063 0.288 0.087 0.117 0.    0.444]\n",
      "AUC all:  0.7923358692589463\n",
      "\n"
     ]
    },
    {
     "name": "stderr",
     "output_type": "stream",
     "text": [
      "[I 2019-08-24 12:12:13,642] Finished trial#167 resulted in value: -0.7923358692589463. Current best value is -0.794167371090448 with parameters: {'w_lr': 0.003435961571762481, 'w_lda': 0.09433760275079685, 'w_sv': 0.5542725457046627, 'w_xgb': 0.24755477914829127, 'w_lgbm': 0.2530687187337709, 'w_mlp': 0.8876419215711966}.\n"
     ]
    },
    {
     "name": "stdout",
     "output_type": "stream",
     "text": [
      "[w_lr, w_lda, w_sv, w_xgb, w_lgbm,w_cb ] =  [0.022 0.096 0.522 0.211 0.204 0.    0.933]\n",
      "norm =  [0.011 0.048 0.262 0.106 0.103 0.    0.469]\n",
      "AUC all:  0.7916314454775993\n",
      "\n"
     ]
    },
    {
     "name": "stderr",
     "output_type": "stream",
     "text": [
      "[I 2019-08-24 12:12:14,044] Finished trial#168 resulted in value: -0.7916314454775993. Current best value is -0.794167371090448 with parameters: {'w_lr': 0.003435961571762481, 'w_lda': 0.09433760275079685, 'w_sv': 0.5542725457046627, 'w_xgb': 0.24755477914829127, 'w_lgbm': 0.2530687187337709, 'w_mlp': 0.8876419215711966}.\n"
     ]
    },
    {
     "name": "stdout",
     "output_type": "stream",
     "text": [
      "[w_lr, w_lda, w_sv, w_xgb, w_lgbm,w_cb ] =  [0.051 0.077 0.63  0.281 0.312 0.    0.912]\n",
      "norm =  [0.022 0.034 0.278 0.124 0.138 0.    0.403]\n",
      "AUC all:  0.7924767540152156\n",
      "\n"
     ]
    },
    {
     "name": "stderr",
     "output_type": "stream",
     "text": [
      "[I 2019-08-24 12:12:14,452] Finished trial#169 resulted in value: -0.7924767540152156. Current best value is -0.794167371090448 with parameters: {'w_lr': 0.003435961571762481, 'w_lda': 0.09433760275079685, 'w_sv': 0.5542725457046627, 'w_xgb': 0.24755477914829127, 'w_lgbm': 0.2530687187337709, 'w_mlp': 0.8876419215711966}.\n"
     ]
    },
    {
     "name": "stdout",
     "output_type": "stream",
     "text": [
      "[w_lr, w_lda, w_sv, w_xgb, w_lgbm,w_cb ] =  [0.022 0.065 0.549 0.155 0.262 0.    0.9  ]\n",
      "norm =  [0.011 0.033 0.281 0.079 0.134 0.    0.461]\n",
      "AUC all:  0.7907861369399831\n",
      "\n"
     ]
    },
    {
     "name": "stderr",
     "output_type": "stream",
     "text": [
      "[I 2019-08-24 12:12:14,860] Finished trial#170 resulted in value: -0.7907861369399831. Current best value is -0.794167371090448 with parameters: {'w_lr': 0.003435961571762481, 'w_lda': 0.09433760275079685, 'w_sv': 0.5542725457046627, 'w_xgb': 0.24755477914829127, 'w_lgbm': 0.2530687187337709, 'w_mlp': 0.8876419215711966}.\n"
     ]
    },
    {
     "name": "stdout",
     "output_type": "stream",
     "text": [
      "[w_lr, w_lda, w_sv, w_xgb, w_lgbm,w_cb ] =  [0.007 0.09  0.575 0.232 0.277 0.    0.926]\n",
      "norm =  [0.003 0.043 0.273 0.11  0.131 0.    0.439]\n",
      "AUC all:  0.793040293040293\n",
      "\n"
     ]
    },
    {
     "name": "stderr",
     "output_type": "stream",
     "text": [
      "[I 2019-08-24 12:12:15,265] Finished trial#171 resulted in value: -0.793040293040293. Current best value is -0.794167371090448 with parameters: {'w_lr': 0.003435961571762481, 'w_lda': 0.09433760275079685, 'w_sv': 0.5542725457046627, 'w_xgb': 0.24755477914829127, 'w_lgbm': 0.2530687187337709, 'w_mlp': 0.8876419215711966}.\n"
     ]
    },
    {
     "name": "stdout",
     "output_type": "stream",
     "text": [
      "[w_lr, w_lda, w_sv, w_xgb, w_lgbm,w_cb ] =  [0.034 0.123 0.609 0.257 0.32  0.    0.954]\n",
      "norm =  [0.015 0.054 0.265 0.112 0.139 0.    0.415]\n",
      "AUC all:  0.7923358692589464\n",
      "\n"
     ]
    },
    {
     "name": "stderr",
     "output_type": "stream",
     "text": [
      "[I 2019-08-24 12:12:15,668] Finished trial#172 resulted in value: -0.7923358692589464. Current best value is -0.794167371090448 with parameters: {'w_lr': 0.003435961571762481, 'w_lda': 0.09433760275079685, 'w_sv': 0.5542725457046627, 'w_xgb': 0.24755477914829127, 'w_lgbm': 0.2530687187337709, 'w_mlp': 0.8876419215711966}.\n"
     ]
    },
    {
     "name": "stdout",
     "output_type": "stream",
     "text": [
      "[w_lr, w_lda, w_sv, w_xgb, w_lgbm,w_cb ] =  [0.756 0.141 0.643 0.182 0.284 0.    0.916]\n",
      "norm =  [0.259 0.048 0.22  0.062 0.097 0.    0.314]\n",
      "AUC all:  0.79149056072133\n",
      "\n"
     ]
    },
    {
     "name": "stderr",
     "output_type": "stream",
     "text": [
      "[I 2019-08-24 12:12:16,078] Finished trial#173 resulted in value: -0.79149056072133. Current best value is -0.794167371090448 with parameters: {'w_lr': 0.003435961571762481, 'w_lda': 0.09433760275079685, 'w_sv': 0.5542725457046627, 'w_xgb': 0.24755477914829127, 'w_lgbm': 0.2530687187337709, 'w_mlp': 0.8876419215711966}.\n"
     ]
    },
    {
     "name": "stdout",
     "output_type": "stream",
     "text": [
      "[w_lr, w_lda, w_sv, w_xgb, w_lgbm,w_cb ] =  [0.013 0.067 0.625 0.23  0.253 0.    0.937]\n",
      "norm =  [0.006 0.031 0.294 0.108 0.119 0.    0.441]\n",
      "AUC all:  0.7940264863341787\n",
      "\n"
     ]
    },
    {
     "name": "stderr",
     "output_type": "stream",
     "text": [
      "[I 2019-08-24 12:12:16,476] Finished trial#174 resulted in value: -0.7940264863341787. Current best value is -0.794167371090448 with parameters: {'w_lr': 0.003435961571762481, 'w_lda': 0.09433760275079685, 'w_sv': 0.5542725457046627, 'w_xgb': 0.24755477914829127, 'w_lgbm': 0.2530687187337709, 'w_mlp': 0.8876419215711966}.\n"
     ]
    },
    {
     "name": "stdout",
     "output_type": "stream",
     "text": [
      "[w_lr, w_lda, w_sv, w_xgb, w_lgbm,w_cb ] =  [0.001 0.042 0.593 0.225 0.229 0.    0.931]\n",
      "norm =  [0.001 0.021 0.293 0.111 0.113 0.    0.46 ]\n",
      "AUC all:  0.7923358692589462\n",
      "\n"
     ]
    },
    {
     "name": "stderr",
     "output_type": "stream",
     "text": [
      "[I 2019-08-24 12:12:16,904] Finished trial#175 resulted in value: -0.7923358692589462. Current best value is -0.794167371090448 with parameters: {'w_lr': 0.003435961571762481, 'w_lda': 0.09433760275079685, 'w_sv': 0.5542725457046627, 'w_xgb': 0.24755477914829127, 'w_lgbm': 0.2530687187337709, 'w_mlp': 0.8876419215711966}.\n"
     ]
    },
    {
     "name": "stdout",
     "output_type": "stream",
     "text": [
      "[w_lr, w_lda, w_sv, w_xgb, w_lgbm,w_cb ] =  [0.    0.108 0.625 0.199 0.253 0.    0.965]\n",
      "norm =  [0.    0.05  0.291 0.092 0.118 0.    0.449]\n",
      "AUC all:  0.7923358692589462\n",
      "\n"
     ]
    },
    {
     "name": "stderr",
     "output_type": "stream",
     "text": [
      "[I 2019-08-24 12:12:17,310] Finished trial#176 resulted in value: -0.7923358692589462. Current best value is -0.794167371090448 with parameters: {'w_lr': 0.003435961571762481, 'w_lda': 0.09433760275079685, 'w_sv': 0.5542725457046627, 'w_xgb': 0.24755477914829127, 'w_lgbm': 0.2530687187337709, 'w_mlp': 0.8876419215711966}.\n"
     ]
    },
    {
     "name": "stdout",
     "output_type": "stream",
     "text": [
      "[w_lr, w_lda, w_sv, w_xgb, w_lgbm,w_cb ] =  [0.05  0.085 0.622 0.292 0.202 0.    0.904]\n",
      "norm =  [0.023 0.04  0.288 0.136 0.094 0.    0.419]\n",
      "AUC all:  0.790363482671175\n",
      "\n"
     ]
    },
    {
     "name": "stderr",
     "output_type": "stream",
     "text": [
      "[I 2019-08-24 12:12:17,716] Finished trial#177 resulted in value: -0.790363482671175. Current best value is -0.794167371090448 with parameters: {'w_lr': 0.003435961571762481, 'w_lda': 0.09433760275079685, 'w_sv': 0.5542725457046627, 'w_xgb': 0.24755477914829127, 'w_lgbm': 0.2530687187337709, 'w_mlp': 0.8876419215711966}.\n"
     ]
    },
    {
     "name": "stdout",
     "output_type": "stream",
     "text": [
      "[w_lr, w_lda, w_sv, w_xgb, w_lgbm,w_cb ] =  [0.02  0.06  0.559 0.247 0.25  0.    0.935]\n",
      "norm =  [0.009 0.029 0.27  0.119 0.12  0.    0.452]\n",
      "AUC all:  0.7928994082840237\n",
      "\n"
     ]
    },
    {
     "name": "stderr",
     "output_type": "stream",
     "text": [
      "[I 2019-08-24 12:12:18,129] Finished trial#178 resulted in value: -0.7928994082840237. Current best value is -0.794167371090448 with parameters: {'w_lr': 0.003435961571762481, 'w_lda': 0.09433760275079685, 'w_sv': 0.5542725457046627, 'w_xgb': 0.24755477914829127, 'w_lgbm': 0.2530687187337709, 'w_mlp': 0.8876419215711966}.\n"
     ]
    },
    {
     "name": "stdout",
     "output_type": "stream",
     "text": [
      "[w_lr, w_lda, w_sv, w_xgb, w_lgbm,w_cb ] =  [0.037 0.162 0.658 0.297 0.322 0.    0.95 ]\n",
      "norm =  [0.015 0.067 0.271 0.122 0.133 0.    0.392]\n",
      "AUC all:  0.7931811777965625\n",
      "\n"
     ]
    },
    {
     "name": "stderr",
     "output_type": "stream",
     "text": [
      "[I 2019-08-24 12:12:18,543] Finished trial#179 resulted in value: -0.7931811777965625. Current best value is -0.794167371090448 with parameters: {'w_lr': 0.003435961571762481, 'w_lda': 0.09433760275079685, 'w_sv': 0.5542725457046627, 'w_xgb': 0.24755477914829127, 'w_lgbm': 0.2530687187337709, 'w_mlp': 0.8876419215711966}.\n"
     ]
    },
    {
     "name": "stdout",
     "output_type": "stream",
     "text": [
      "[w_lr, w_lda, w_sv, w_xgb, w_lgbm,w_cb ] =  [0.003 0.126 0.584 0.272 0.288 0.    0.891]\n",
      "norm =  [0.001 0.058 0.27  0.126 0.133 0.    0.412]\n",
      "AUC all:  0.7927585235277543\n",
      "\n"
     ]
    },
    {
     "name": "stderr",
     "output_type": "stream",
     "text": [
      "[I 2019-08-24 12:12:18,949] Finished trial#180 resulted in value: -0.7927585235277543. Current best value is -0.794167371090448 with parameters: {'w_lr': 0.003435961571762481, 'w_lda': 0.09433760275079685, 'w_sv': 0.5542725457046627, 'w_xgb': 0.24755477914829127, 'w_lgbm': 0.2530687187337709, 'w_mlp': 0.8876419215711966}.\n"
     ]
    },
    {
     "name": "stdout",
     "output_type": "stream",
     "text": [
      "[w_lr, w_lda, w_sv, w_xgb, w_lgbm,w_cb ] =  [0.022 0.07  0.607 0.229 0.266 0.    0.925]\n",
      "norm =  [0.01  0.033 0.287 0.108 0.125 0.    0.437]\n",
      "AUC all:  0.7930402930402929\n",
      "\n"
     ]
    },
    {
     "name": "stderr",
     "output_type": "stream",
     "text": [
      "[I 2019-08-24 12:12:19,357] Finished trial#181 resulted in value: -0.7930402930402929. Current best value is -0.794167371090448 with parameters: {'w_lr': 0.003435961571762481, 'w_lda': 0.09433760275079685, 'w_sv': 0.5542725457046627, 'w_xgb': 0.24755477914829127, 'w_lgbm': 0.2530687187337709, 'w_mlp': 0.8876419215711966}.\n"
     ]
    },
    {
     "name": "stdout",
     "output_type": "stream",
     "text": [
      "[w_lr, w_lda, w_sv, w_xgb, w_lgbm,w_cb ] =  [0.06  0.723 0.525 0.207 0.226 0.    0.941]\n",
      "norm =  [0.022 0.27  0.196 0.077 0.084 0.    0.351]\n",
      "AUC all:  0.777120315581854\n",
      "\n"
     ]
    },
    {
     "name": "stderr",
     "output_type": "stream",
     "text": [
      "[I 2019-08-24 12:12:19,769] Finished trial#182 resulted in value: -0.777120315581854. Current best value is -0.794167371090448 with parameters: {'w_lr': 0.003435961571762481, 'w_lda': 0.09433760275079685, 'w_sv': 0.5542725457046627, 'w_xgb': 0.24755477914829127, 'w_lgbm': 0.2530687187337709, 'w_mlp': 0.8876419215711966}.\n"
     ]
    },
    {
     "name": "stdout",
     "output_type": "stream",
     "text": [
      "[w_lr, w_lda, w_sv, w_xgb, w_lgbm,w_cb ] =  [0.022 0.101 0.637 0.251 0.276 0.    0.913]\n",
      "norm =  [0.01  0.046 0.29  0.114 0.125 0.    0.415]\n",
      "AUC all:  0.7936038320653706\n",
      "\n"
     ]
    },
    {
     "name": "stderr",
     "output_type": "stream",
     "text": [
      "[I 2019-08-24 12:12:20,181] Finished trial#183 resulted in value: -0.7936038320653706. Current best value is -0.794167371090448 with parameters: {'w_lr': 0.003435961571762481, 'w_lda': 0.09433760275079685, 'w_sv': 0.5542725457046627, 'w_xgb': 0.24755477914829127, 'w_lgbm': 0.2530687187337709, 'w_mlp': 0.8876419215711966}.\n"
     ]
    },
    {
     "name": "stdout",
     "output_type": "stream",
     "text": [
      "[w_lr, w_lda, w_sv, w_xgb, w_lgbm,w_cb ] =  [0.001 0.1   0.638 0.244 0.288 0.    0.91 ]\n",
      "norm =  [0.001 0.046 0.292 0.112 0.132 0.    0.417]\n",
      "AUC all:  0.7930402930402931\n",
      "\n"
     ]
    },
    {
     "name": "stderr",
     "output_type": "stream",
     "text": [
      "[I 2019-08-24 12:12:20,607] Finished trial#184 resulted in value: -0.7930402930402931. Current best value is -0.794167371090448 with parameters: {'w_lr': 0.003435961571762481, 'w_lda': 0.09433760275079685, 'w_sv': 0.5542725457046627, 'w_xgb': 0.24755477914829127, 'w_lgbm': 0.2530687187337709, 'w_mlp': 0.8876419215711966}.\n"
     ]
    },
    {
     "name": "stdout",
     "output_type": "stream",
     "text": [
      "[w_lr, w_lda, w_sv, w_xgb, w_lgbm,w_cb ] =  [0.039 0.039 0.599 0.171 0.263 0.    0.88 ]\n",
      "norm =  [0.02  0.02  0.301 0.086 0.132 0.    0.442]\n",
      "AUC all:  0.7909270216962525\n",
      "\n"
     ]
    },
    {
     "name": "stderr",
     "output_type": "stream",
     "text": [
      "[I 2019-08-24 12:12:21,018] Finished trial#185 resulted in value: -0.7909270216962525. Current best value is -0.794167371090448 with parameters: {'w_lr': 0.003435961571762481, 'w_lda': 0.09433760275079685, 'w_sv': 0.5542725457046627, 'w_xgb': 0.24755477914829127, 'w_lgbm': 0.2530687187337709, 'w_mlp': 0.8876419215711966}.\n"
     ]
    },
    {
     "name": "stdout",
     "output_type": "stream",
     "text": [
      "[w_lr, w_lda, w_sv, w_xgb, w_lgbm,w_cb ] =  [0.996 0.111 0.57  0.27  0.335 0.    0.938]\n",
      "norm =  [0.309 0.035 0.177 0.084 0.104 0.    0.291]\n",
      "AUC all:  0.7923358692589462\n",
      "\n"
     ]
    },
    {
     "name": "stderr",
     "output_type": "stream",
     "text": [
      "[I 2019-08-24 12:12:21,458] Finished trial#186 resulted in value: -0.7923358692589462. Current best value is -0.794167371090448 with parameters: {'w_lr': 0.003435961571762481, 'w_lda': 0.09433760275079685, 'w_sv': 0.5542725457046627, 'w_xgb': 0.24755477914829127, 'w_lgbm': 0.2530687187337709, 'w_mlp': 0.8876419215711966}.\n"
     ]
    },
    {
     "name": "stdout",
     "output_type": "stream",
     "text": [
      "[w_lr, w_lda, w_sv, w_xgb, w_lgbm,w_cb ] =  [0.022 0.137 0.667 0.188 0.24  0.    0.857]\n",
      "norm =  [0.01  0.065 0.316 0.089 0.114 0.    0.406]\n",
      "AUC all:  0.7931811777965624\n",
      "\n"
     ]
    },
    {
     "name": "stderr",
     "output_type": "stream",
     "text": [
      "[I 2019-08-24 12:12:21,893] Finished trial#187 resulted in value: -0.7931811777965624. Current best value is -0.794167371090448 with parameters: {'w_lr': 0.003435961571762481, 'w_lda': 0.09433760275079685, 'w_sv': 0.5542725457046627, 'w_xgb': 0.24755477914829127, 'w_lgbm': 0.2530687187337709, 'w_mlp': 0.8876419215711966}.\n"
     ]
    },
    {
     "name": "stdout",
     "output_type": "stream",
     "text": [
      "[w_lr, w_lda, w_sv, w_xgb, w_lgbm,w_cb ] =  [0.062 0.055 0.616 0.276 0.305 0.    0.92 ]\n",
      "norm =  [0.028 0.025 0.276 0.124 0.136 0.    0.412]\n",
      "AUC all:  0.7919132149901381\n",
      "\n"
     ]
    },
    {
     "name": "stderr",
     "output_type": "stream",
     "text": [
      "[I 2019-08-24 12:12:22,327] Finished trial#188 resulted in value: -0.7919132149901381. Current best value is -0.794167371090448 with parameters: {'w_lr': 0.003435961571762481, 'w_lda': 0.09433760275079685, 'w_sv': 0.5542725457046627, 'w_xgb': 0.24755477914829127, 'w_lgbm': 0.2530687187337709, 'w_mlp': 0.8876419215711966}.\n"
     ]
    },
    {
     "name": "stdout",
     "output_type": "stream",
     "text": [
      "[w_lr, w_lda, w_sv, w_xgb, w_lgbm,w_cb ] =  [0.044 0.076 0.557 0.219 0.216 0.    0.901]\n",
      "norm =  [0.022 0.038 0.277 0.109 0.107 0.    0.448]\n",
      "AUC all:  0.7927585235277542\n",
      "\n"
     ]
    },
    {
     "name": "stderr",
     "output_type": "stream",
     "text": [
      "[I 2019-08-24 12:12:22,748] Finished trial#189 resulted in value: -0.7927585235277542. Current best value is -0.794167371090448 with parameters: {'w_lr': 0.003435961571762481, 'w_lda': 0.09433760275079685, 'w_sv': 0.5542725457046627, 'w_xgb': 0.24755477914829127, 'w_lgbm': 0.2530687187337709, 'w_mlp': 0.8876419215711966}.\n"
     ]
    },
    {
     "name": "stdout",
     "output_type": "stream",
     "text": [
      "[w_lr, w_lda, w_sv, w_xgb, w_lgbm,w_cb ] =  [0.001 0.092 0.63  0.243 0.251 0.    0.952]\n",
      "norm =  [0.    0.042 0.291 0.112 0.116 0.    0.439]\n",
      "AUC all:  0.7938856015779093\n",
      "\n"
     ]
    },
    {
     "name": "stderr",
     "output_type": "stream",
     "text": [
      "[I 2019-08-24 12:12:23,192] Finished trial#190 resulted in value: -0.7938856015779093. Current best value is -0.794167371090448 with parameters: {'w_lr': 0.003435961571762481, 'w_lda': 0.09433760275079685, 'w_sv': 0.5542725457046627, 'w_xgb': 0.24755477914829127, 'w_lgbm': 0.2530687187337709, 'w_mlp': 0.8876419215711966}.\n"
     ]
    },
    {
     "name": "stdout",
     "output_type": "stream",
     "text": [
      "[w_lr, w_lda, w_sv, w_xgb, w_lgbm,w_cb ] =  [0.016 0.092 0.629 0.24  0.25  0.    0.95 ]\n",
      "norm =  [0.007 0.042 0.289 0.11  0.115 0.    0.436]\n",
      "AUC all:  0.7938856015779092\n",
      "\n"
     ]
    },
    {
     "name": "stderr",
     "output_type": "stream",
     "text": [
      "[I 2019-08-24 12:12:23,618] Finished trial#191 resulted in value: -0.7938856015779092. Current best value is -0.794167371090448 with parameters: {'w_lr': 0.003435961571762481, 'w_lda': 0.09433760275079685, 'w_sv': 0.5542725457046627, 'w_xgb': 0.24755477914829127, 'w_lgbm': 0.2530687187337709, 'w_mlp': 0.8876419215711966}.\n"
     ]
    },
    {
     "name": "stdout",
     "output_type": "stream",
     "text": [
      "[w_lr, w_lda, w_sv, w_xgb, w_lgbm,w_cb ] =  [0.017 0.112 0.631 0.235 0.247 0.    0.956]\n",
      "norm =  [0.008 0.051 0.287 0.107 0.112 0.    0.435]\n",
      "AUC all:  0.7930402930402931\n",
      "\n"
     ]
    },
    {
     "name": "stderr",
     "output_type": "stream",
     "text": [
      "[I 2019-08-24 12:12:24,051] Finished trial#192 resulted in value: -0.7930402930402931. Current best value is -0.794167371090448 with parameters: {'w_lr': 0.003435961571762481, 'w_lda': 0.09433760275079685, 'w_sv': 0.5542725457046627, 'w_xgb': 0.24755477914829127, 'w_lgbm': 0.2530687187337709, 'w_mlp': 0.8876419215711966}.\n"
     ]
    },
    {
     "name": "stdout",
     "output_type": "stream",
     "text": [
      "[w_lr, w_lda, w_sv, w_xgb, w_lgbm,w_cb ] =  [0.003 0.097 0.646 0.252 0.283 0.    0.963]\n",
      "norm =  [0.001 0.043 0.288 0.112 0.126 0.    0.429]\n",
      "AUC all:  0.7938856015779092\n",
      "\n"
     ]
    },
    {
     "name": "stderr",
     "output_type": "stream",
     "text": [
      "[I 2019-08-24 12:12:24,486] Finished trial#193 resulted in value: -0.7938856015779092. Current best value is -0.794167371090448 with parameters: {'w_lr': 0.003435961571762481, 'w_lda': 0.09433760275079685, 'w_sv': 0.5542725457046627, 'w_xgb': 0.24755477914829127, 'w_lgbm': 0.2530687187337709, 'w_mlp': 0.8876419215711966}.\n"
     ]
    },
    {
     "name": "stdout",
     "output_type": "stream",
     "text": [
      "[w_lr, w_lda, w_sv, w_xgb, w_lgbm,w_cb ] =  [0.    0.097 0.646 0.255 0.232 0.    0.964]\n",
      "norm =  [0.    0.044 0.294 0.116 0.106 0.    0.439]\n",
      "AUC all:  0.793040293040293\n",
      "\n"
     ]
    },
    {
     "name": "stderr",
     "output_type": "stream",
     "text": [
      "[I 2019-08-24 12:12:24,921] Finished trial#194 resulted in value: -0.793040293040293. Current best value is -0.794167371090448 with parameters: {'w_lr': 0.003435961571762481, 'w_lda': 0.09433760275079685, 'w_sv': 0.5542725457046627, 'w_xgb': 0.24755477914829127, 'w_lgbm': 0.2530687187337709, 'w_mlp': 0.8876419215711966}.\n"
     ]
    },
    {
     "name": "stdout",
     "output_type": "stream",
     "text": [
      "[w_lr, w_lda, w_sv, w_xgb, w_lgbm,w_cb ] =  [0.026 0.147 0.62  0.223 0.27  0.    0.946]\n",
      "norm =  [0.012 0.066 0.278 0.1   0.121 0.    0.424]\n",
      "AUC all:  0.7923358692589462\n",
      "\n"
     ]
    },
    {
     "name": "stderr",
     "output_type": "stream",
     "text": [
      "[I 2019-08-24 12:12:25,358] Finished trial#195 resulted in value: -0.7923358692589462. Current best value is -0.794167371090448 with parameters: {'w_lr': 0.003435961571762481, 'w_lda': 0.09433760275079685, 'w_sv': 0.5542725457046627, 'w_xgb': 0.24755477914829127, 'w_lgbm': 0.2530687187337709, 'w_mlp': 0.8876419215711966}.\n"
     ]
    },
    {
     "name": "stdout",
     "output_type": "stream",
     "text": [
      "[w_lr, w_lda, w_sv, w_xgb, w_lgbm,w_cb ] =  [0.078 0.126 0.59  0.307 0.171 0.    0.924]\n",
      "norm =  [0.035 0.058 0.269 0.14  0.078 0.    0.421]\n",
      "AUC all:  0.7871231332769794\n",
      "\n"
     ]
    },
    {
     "name": "stderr",
     "output_type": "stream",
     "text": [
      "[I 2019-08-24 12:12:25,796] Finished trial#196 resulted in value: -0.7871231332769794. Current best value is -0.794167371090448 with parameters: {'w_lr': 0.003435961571762481, 'w_lda': 0.09433760275079685, 'w_sv': 0.5542725457046627, 'w_xgb': 0.24755477914829127, 'w_lgbm': 0.2530687187337709, 'w_mlp': 0.8876419215711966}.\n"
     ]
    },
    {
     "name": "stdout",
     "output_type": "stream",
     "text": [
      "[w_lr, w_lda, w_sv, w_xgb, w_lgbm,w_cb ] =  [0.003 0.088 0.61  0.243 0.251 0.    0.934]\n",
      "norm =  [0.001 0.041 0.287 0.114 0.118 0.    0.439]\n",
      "AUC all:  0.7943082558467174\n",
      "\n"
     ]
    },
    {
     "name": "stderr",
     "output_type": "stream",
     "text": [
      "[I 2019-08-24 12:12:26,231] Finished trial#197 resulted in value: -0.7943082558467174. Current best value is -0.7943082558467174 with parameters: {'w_lr': 0.0030540165711253563, 'w_lda': 0.08757798809119169, 'w_sv': 0.6097934649431067, 'w_xgb': 0.24277725635469752, 'w_lgbm': 0.2508511353587901, 'w_mlp': 0.9339716563156463}.\n"
     ]
    },
    {
     "name": "stdout",
     "output_type": "stream",
     "text": [
      "[w_lr, w_lda, w_sv, w_xgb, w_lgbm,w_cb ] =  [0.002 0.118 0.63  0.247 0.205 0.    0.954]\n",
      "norm =  [0.001 0.055 0.292 0.114 0.095 0.    0.443]\n",
      "AUC all:  0.7910679064525219\n",
      "\n"
     ]
    },
    {
     "name": "stderr",
     "output_type": "stream",
     "text": [
      "[I 2019-08-24 12:12:26,677] Finished trial#198 resulted in value: -0.7910679064525219. Current best value is -0.7943082558467174 with parameters: {'w_lr': 0.0030540165711253563, 'w_lda': 0.08757798809119169, 'w_sv': 0.6097934649431067, 'w_xgb': 0.24277725635469752, 'w_lgbm': 0.2508511353587901, 'w_mlp': 0.9339716563156463}.\n"
     ]
    },
    {
     "name": "stdout",
     "output_type": "stream",
     "text": [
      "[w_lr, w_lda, w_sv, w_xgb, w_lgbm,w_cb ] =  [0.041 0.175 0.708 0.293 0.244 0.    0.936]\n",
      "norm =  [0.017 0.073 0.295 0.122 0.102 0.    0.391]\n",
      "AUC all:  0.7895181741335586\n",
      "\n"
     ]
    },
    {
     "name": "stderr",
     "output_type": "stream",
     "text": [
      "[I 2019-08-24 12:12:27,112] Finished trial#199 resulted in value: -0.7895181741335586. Current best value is -0.7943082558467174 with parameters: {'w_lr': 0.0030540165711253563, 'w_lda': 0.08757798809119169, 'w_sv': 0.6097934649431067, 'w_xgb': 0.24277725635469752, 'w_lgbm': 0.2508511353587901, 'w_mlp': 0.9339716563156463}.\n"
     ]
    },
    {
     "name": "stdout",
     "output_type": "stream",
     "text": [
      "[w_lr, w_lda, w_sv, w_xgb, w_lgbm,w_cb ] =  [0.017 0.09  0.611 0.238 0.226 0.    0.912]\n",
      "norm =  [0.008 0.043 0.292 0.114 0.108 0.    0.436]\n",
      "AUC all:  0.7928994082840237\n",
      "\n"
     ]
    },
    {
     "name": "stderr",
     "output_type": "stream",
     "text": [
      "[I 2019-08-24 12:12:27,565] Finished trial#200 resulted in value: -0.7928994082840237. Current best value is -0.7943082558467174 with parameters: {'w_lr': 0.0030540165711253563, 'w_lda': 0.08757798809119169, 'w_sv': 0.6097934649431067, 'w_xgb': 0.24277725635469752, 'w_lgbm': 0.2508511353587901, 'w_mlp': 0.9339716563156463}.\n"
     ]
    },
    {
     "name": "stdout",
     "output_type": "stream",
     "text": [
      "[w_lr, w_lda, w_sv, w_xgb, w_lgbm,w_cb ] =  [0.054 0.07  0.538 0.267 0.28  0.    0.931]\n",
      "norm =  [0.025 0.033 0.252 0.125 0.131 0.    0.435]\n",
      "AUC all:  0.7936038320653706\n",
      "\n"
     ]
    },
    {
     "name": "stderr",
     "output_type": "stream",
     "text": [
      "[I 2019-08-24 12:12:28,011] Finished trial#201 resulted in value: -0.7936038320653706. Current best value is -0.7943082558467174 with parameters: {'w_lr': 0.0030540165711253563, 'w_lda': 0.08757798809119169, 'w_sv': 0.6097934649431067, 'w_xgb': 0.24277725635469752, 'w_lgbm': 0.2508511353587901, 'w_mlp': 0.9339716563156463}.\n"
     ]
    },
    {
     "name": "stdout",
     "output_type": "stream",
     "text": [
      "[w_lr, w_lda, w_sv, w_xgb, w_lgbm,w_cb ] =  [0.001 0.091 0.543 0.255 0.281 0.    0.931]\n",
      "norm =  [0.    0.043 0.258 0.121 0.134 0.    0.443]\n",
      "AUC all:  0.7927585235277542\n",
      "\n"
     ]
    },
    {
     "name": "stderr",
     "output_type": "stream",
     "text": [
      "[I 2019-08-24 12:12:28,467] Finished trial#202 resulted in value: -0.7927585235277542. Current best value is -0.7943082558467174 with parameters: {'w_lr': 0.0030540165711253563, 'w_lda': 0.08757798809119169, 'w_sv': 0.6097934649431067, 'w_xgb': 0.24277725635469752, 'w_lgbm': 0.2508511353587901, 'w_mlp': 0.9339716563156463}.\n"
     ]
    },
    {
     "name": "stdout",
     "output_type": "stream",
     "text": [
      "[w_lr, w_lda, w_sv, w_xgb, w_lgbm,w_cb ] =  [0.056 0.07  0.529 0.285 0.311 0.    0.943]\n",
      "norm =  [0.026 0.032 0.241 0.13  0.142 0.    0.43 ]\n",
      "AUC all:  0.7920540997464074\n",
      "\n"
     ]
    },
    {
     "name": "stderr",
     "output_type": "stream",
     "text": [
      "[I 2019-08-24 12:12:28,913] Finished trial#203 resulted in value: -0.7920540997464074. Current best value is -0.7943082558467174 with parameters: {'w_lr': 0.0030540165711253563, 'w_lda': 0.08757798809119169, 'w_sv': 0.6097934649431067, 'w_xgb': 0.24277725635469752, 'w_lgbm': 0.2508511353587901, 'w_mlp': 0.9339716563156463}.\n"
     ]
    },
    {
     "name": "stdout",
     "output_type": "stream",
     "text": [
      "[w_lr, w_lda, w_sv, w_xgb, w_lgbm,w_cb ] =  [0.03  0.118 0.648 0.208 0.256 0.    0.927]\n",
      "norm =  [0.014 0.054 0.296 0.095 0.117 0.    0.424]\n",
      "AUC all:  0.7928994082840237\n",
      "\n"
     ]
    },
    {
     "name": "stderr",
     "output_type": "stream",
     "text": [
      "[I 2019-08-24 12:12:29,375] Finished trial#204 resulted in value: -0.7928994082840237. Current best value is -0.7943082558467174 with parameters: {'w_lr': 0.0030540165711253563, 'w_lda': 0.08757798809119169, 'w_sv': 0.6097934649431067, 'w_xgb': 0.24277725635469752, 'w_lgbm': 0.2508511353587901, 'w_mlp': 0.9339716563156463}.\n"
     ]
    },
    {
     "name": "stdout",
     "output_type": "stream",
     "text": [
      "[w_lr, w_lda, w_sv, w_xgb, w_lgbm,w_cb ] =  [0.046 0.14  0.581 0.231 0.275 0.    0.961]\n",
      "norm =  [0.021 0.063 0.26  0.103 0.123 0.    0.43 ]\n",
      "AUC all:  0.7921949845026768\n",
      "\n"
     ]
    },
    {
     "name": "stderr",
     "output_type": "stream",
     "text": [
      "[I 2019-08-24 12:12:29,840] Finished trial#205 resulted in value: -0.7921949845026768. Current best value is -0.7943082558467174 with parameters: {'w_lr': 0.0030540165711253563, 'w_lda': 0.08757798809119169, 'w_sv': 0.6097934649431067, 'w_xgb': 0.24277725635469752, 'w_lgbm': 0.2508511353587901, 'w_mlp': 0.9339716563156463}.\n"
     ]
    },
    {
     "name": "stdout",
     "output_type": "stream",
     "text": [
      "[w_lr, w_lda, w_sv, w_xgb, w_lgbm,w_cb ] =  [0.017 0.057 0.665 0.27  0.239 0.    0.916]\n",
      "norm =  [0.008 0.026 0.307 0.125 0.11  0.    0.423]\n",
      "AUC all:  0.7927585235277543\n",
      "\n"
     ]
    },
    {
     "name": "stderr",
     "output_type": "stream",
     "text": [
      "[I 2019-08-24 12:12:30,288] Finished trial#206 resulted in value: -0.7927585235277543. Current best value is -0.7943082558467174 with parameters: {'w_lr': 0.0030540165711253563, 'w_lda': 0.08757798809119169, 'w_sv': 0.6097934649431067, 'w_xgb': 0.24277725635469752, 'w_lgbm': 0.2508511353587901, 'w_mlp': 0.9339716563156463}.\n"
     ]
    },
    {
     "name": "stdout",
     "output_type": "stream",
     "text": [
      "[w_lr, w_lda, w_sv, w_xgb, w_lgbm,w_cb ] =  [0.071 0.1   0.623 0.31  0.292 0.    0.934]\n",
      "norm =  [0.031 0.043 0.267 0.133 0.125 0.    0.401]\n",
      "AUC all:  0.7931811777965624\n",
      "\n"
     ]
    },
    {
     "name": "stderr",
     "output_type": "stream",
     "text": [
      "[I 2019-08-24 12:12:30,752] Finished trial#207 resulted in value: -0.7931811777965624. Current best value is -0.7943082558467174 with parameters: {'w_lr': 0.0030540165711253563, 'w_lda': 0.08757798809119169, 'w_sv': 0.6097934649431067, 'w_xgb': 0.24277725635469752, 'w_lgbm': 0.2508511353587901, 'w_mlp': 0.9339716563156463}.\n"
     ]
    },
    {
     "name": "stdout",
     "output_type": "stream",
     "text": [
      "[w_lr, w_lda, w_sv, w_xgb, w_lgbm,w_cb ] =  [0.001 0.037 0.554 0.252 0.188 0.    0.905]\n",
      "norm =  [0.001 0.019 0.286 0.13  0.097 0.    0.467]\n",
      "AUC all:  0.7921949845026769\n",
      "\n"
     ]
    },
    {
     "name": "stderr",
     "output_type": "stream",
     "text": [
      "[I 2019-08-24 12:12:31,208] Finished trial#208 resulted in value: -0.7921949845026769. Current best value is -0.7943082558467174 with parameters: {'w_lr': 0.0030540165711253563, 'w_lda': 0.08757798809119169, 'w_sv': 0.6097934649431067, 'w_xgb': 0.24277725635469752, 'w_lgbm': 0.2508511353587901, 'w_mlp': 0.9339716563156463}.\n"
     ]
    },
    {
     "name": "stdout",
     "output_type": "stream",
     "text": [
      "[w_lr, w_lda, w_sv, w_xgb, w_lgbm,w_cb ] =  [0.001 0.082 0.596 0.219 0.263 0.    0.95 ]\n",
      "norm =  [0.    0.039 0.283 0.104 0.125 0.    0.45 ]\n",
      "AUC all:  0.7934629473091012\n",
      "\n"
     ]
    },
    {
     "name": "stderr",
     "output_type": "stream",
     "text": [
      "[I 2019-08-24 12:12:31,667] Finished trial#209 resulted in value: -0.7934629473091012. Current best value is -0.7943082558467174 with parameters: {'w_lr': 0.0030540165711253563, 'w_lda': 0.08757798809119169, 'w_sv': 0.6097934649431067, 'w_xgb': 0.24277725635469752, 'w_lgbm': 0.2508511353587901, 'w_mlp': 0.9339716563156463}.\n"
     ]
    },
    {
     "name": "stdout",
     "output_type": "stream",
     "text": [
      "[w_lr, w_lda, w_sv, w_xgb, w_lgbm,w_cb ] =  [0.035 0.07  0.534 0.222 0.313 0.    0.953]\n",
      "norm =  [0.016 0.033 0.251 0.105 0.147 0.    0.448]\n",
      "AUC all:  0.7906452521837137\n",
      "\n"
     ]
    },
    {
     "name": "stderr",
     "output_type": "stream",
     "text": [
      "[I 2019-08-24 12:12:32,128] Finished trial#210 resulted in value: -0.7906452521837137. Current best value is -0.7943082558467174 with parameters: {'w_lr': 0.0030540165711253563, 'w_lda': 0.08757798809119169, 'w_sv': 0.6097934649431067, 'w_xgb': 0.24277725635469752, 'w_lgbm': 0.2508511353587901, 'w_mlp': 0.9339716563156463}.\n"
     ]
    },
    {
     "name": "stdout",
     "output_type": "stream",
     "text": [
      "[w_lr, w_lda, w_sv, w_xgb, w_lgbm,w_cb ] =  [0.001 0.087 0.592 0.199 0.263 0.    0.937]\n",
      "norm =  [0.001 0.042 0.285 0.096 0.127 0.    0.45 ]\n",
      "AUC all:  0.7931811777965624\n",
      "\n"
     ]
    },
    {
     "name": "stderr",
     "output_type": "stream",
     "text": [
      "[I 2019-08-24 12:12:32,591] Finished trial#211 resulted in value: -0.7931811777965624. Current best value is -0.7943082558467174 with parameters: {'w_lr': 0.0030540165711253563, 'w_lda': 0.08757798809119169, 'w_sv': 0.6097934649431067, 'w_xgb': 0.24277725635469752, 'w_lgbm': 0.2508511353587901, 'w_mlp': 0.9339716563156463}.\n"
     ]
    },
    {
     "name": "stdout",
     "output_type": "stream",
     "text": [
      "[w_lr, w_lda, w_sv, w_xgb, w_lgbm,w_cb ] =  [0.001 0.111 0.573 0.241 0.515 0.    0.953]\n",
      "norm =  [0.001 0.047 0.24  0.1   0.215 0.    0.398]\n",
      "AUC all:  0.7871231332769795\n",
      "\n"
     ]
    },
    {
     "name": "stderr",
     "output_type": "stream",
     "text": [
      "[I 2019-08-24 12:12:33,051] Finished trial#212 resulted in value: -0.7871231332769795. Current best value is -0.7943082558467174 with parameters: {'w_lr': 0.0030540165711253563, 'w_lda': 0.08757798809119169, 'w_sv': 0.6097934649431067, 'w_xgb': 0.24277725635469752, 'w_lgbm': 0.2508511353587901, 'w_mlp': 0.9339716563156463}.\n"
     ]
    },
    {
     "name": "stdout",
     "output_type": "stream",
     "text": [
      "[w_lr, w_lda, w_sv, w_xgb, w_lgbm,w_cb ] =  [0.017 0.609 0.511 0.213 0.249 0.    0.922]\n",
      "norm =  [0.007 0.241 0.203 0.084 0.099 0.    0.366]\n",
      "AUC all:  0.7807833192448577\n",
      "\n"
     ]
    },
    {
     "name": "stderr",
     "output_type": "stream",
     "text": [
      "[I 2019-08-24 12:12:33,517] Finished trial#213 resulted in value: -0.7807833192448577. Current best value is -0.7943082558467174 with parameters: {'w_lr': 0.0030540165711253563, 'w_lda': 0.08757798809119169, 'w_sv': 0.6097934649431067, 'w_xgb': 0.24277725635469752, 'w_lgbm': 0.2508511353587901, 'w_mlp': 0.9339716563156463}.\n"
     ]
    },
    {
     "name": "stdout",
     "output_type": "stream",
     "text": [
      "[w_lr, w_lda, w_sv, w_xgb, w_lgbm,w_cb ] =  [0.032 0.086 0.612 0.262 0.22  0.    0.944]\n",
      "norm =  [0.015 0.04  0.284 0.122 0.102 0.    0.438]\n",
      "AUC all:  0.7924767540152156\n",
      "\n"
     ]
    },
    {
     "name": "stderr",
     "output_type": "stream",
     "text": [
      "[I 2019-08-24 12:12:33,985] Finished trial#214 resulted in value: -0.7924767540152156. Current best value is -0.7943082558467174 with parameters: {'w_lr': 0.0030540165711253563, 'w_lda': 0.08757798809119169, 'w_sv': 0.6097934649431067, 'w_xgb': 0.24277725635469752, 'w_lgbm': 0.2508511353587901, 'w_mlp': 0.9339716563156463}.\n"
     ]
    },
    {
     "name": "stdout",
     "output_type": "stream",
     "text": [
      "[w_lr, w_lda, w_sv, w_xgb, w_lgbm,w_cb ] =  [0.001 0.13  0.635 0.283 0.279 0.    0.962]\n",
      "norm =  [0.001 0.057 0.277 0.124 0.122 0.    0.42 ]\n",
      "AUC all:  0.7933220625528318\n",
      "\n"
     ]
    },
    {
     "name": "stderr",
     "output_type": "stream",
     "text": [
      "[I 2019-08-24 12:12:34,451] Finished trial#215 resulted in value: -0.7933220625528318. Current best value is -0.7943082558467174 with parameters: {'w_lr': 0.0030540165711253563, 'w_lda': 0.08757798809119169, 'w_sv': 0.6097934649431067, 'w_xgb': 0.24277725635469752, 'w_lgbm': 0.2508511353587901, 'w_mlp': 0.9339716563156463}.\n"
     ]
    },
    {
     "name": "stdout",
     "output_type": "stream",
     "text": [
      "[w_lr, w_lda, w_sv, w_xgb, w_lgbm,w_cb ] =  [0.056 0.104 0.599 0.184 0.26  0.    0.93 ]\n",
      "norm =  [0.026 0.049 0.281 0.086 0.122 0.    0.436]\n",
      "AUC all:  0.7928994082840237\n",
      "\n"
     ]
    },
    {
     "name": "stderr",
     "output_type": "stream",
     "text": [
      "[I 2019-08-24 12:12:34,913] Finished trial#216 resulted in value: -0.7928994082840237. Current best value is -0.7943082558467174 with parameters: {'w_lr': 0.0030540165711253563, 'w_lda': 0.08757798809119169, 'w_sv': 0.6097934649431067, 'w_xgb': 0.24277725635469752, 'w_lgbm': 0.2508511353587901, 'w_mlp': 0.9339716563156463}.\n"
     ]
    },
    {
     "name": "stdout",
     "output_type": "stream",
     "text": [
      "[w_lr, w_lda, w_sv, w_xgb, w_lgbm,w_cb ] =  [0.023 0.052 0.623 0.234 0.296 0.    0.914]\n",
      "norm =  [0.011 0.024 0.291 0.109 0.138 0.    0.427]\n",
      "AUC all:  0.7907861369399831\n",
      "\n"
     ]
    },
    {
     "name": "stderr",
     "output_type": "stream",
     "text": [
      "[I 2019-08-24 12:12:35,379] Finished trial#217 resulted in value: -0.7907861369399831. Current best value is -0.7943082558467174 with parameters: {'w_lr': 0.0030540165711253563, 'w_lda': 0.08757798809119169, 'w_sv': 0.6097934649431067, 'w_xgb': 0.24277725635469752, 'w_lgbm': 0.2508511353587901, 'w_mlp': 0.9339716563156463}.\n"
     ]
    },
    {
     "name": "stdout",
     "output_type": "stream",
     "text": [
      "[w_lr, w_lda, w_sv, w_xgb, w_lgbm,w_cb ] =  [0.048 0.152 0.652 0.209 0.235 0.    0.94 ]\n",
      "norm =  [0.021 0.068 0.291 0.094 0.105 0.    0.42 ]\n",
      "AUC all:  0.7907861369399831\n",
      "\n"
     ]
    },
    {
     "name": "stderr",
     "output_type": "stream",
     "text": [
      "[I 2019-08-24 12:12:35,847] Finished trial#218 resulted in value: -0.7907861369399831. Current best value is -0.7943082558467174 with parameters: {'w_lr': 0.0030540165711253563, 'w_lda': 0.08757798809119169, 'w_sv': 0.6097934649431067, 'w_xgb': 0.24277725635469752, 'w_lgbm': 0.2508511353587901, 'w_mlp': 0.9339716563156463}.\n"
     ]
    },
    {
     "name": "stdout",
     "output_type": "stream",
     "text": [
      "[w_lr, w_lda, w_sv, w_xgb, w_lgbm,w_cb ] =  [0.019 0.078 0.566 0.25  0.279 0.    0.904]\n",
      "norm =  [0.009 0.037 0.27  0.119 0.133 0.    0.431]\n",
      "AUC all:  0.7933220625528318\n",
      "\n"
     ]
    },
    {
     "name": "stderr",
     "output_type": "stream",
     "text": [
      "[I 2019-08-24 12:12:36,324] Finished trial#219 resulted in value: -0.7933220625528318. Current best value is -0.7943082558467174 with parameters: {'w_lr': 0.0030540165711253563, 'w_lda': 0.08757798809119169, 'w_sv': 0.6097934649431067, 'w_xgb': 0.24277725635469752, 'w_lgbm': 0.2508511353587901, 'w_mlp': 0.9339716563156463}.\n"
     ]
    },
    {
     "name": "stdout",
     "output_type": "stream",
     "text": [
      "[w_lr, w_lda, w_sv, w_xgb, w_lgbm,w_cb ] =  [0.    0.113 0.586 0.152 0.246 0.    0.95 ]\n",
      "norm =  [0.    0.055 0.286 0.074 0.12  0.    0.464]\n",
      "AUC all:  0.79149056072133\n",
      "\n"
     ]
    },
    {
     "name": "stderr",
     "output_type": "stream",
     "text": [
      "[I 2019-08-24 12:12:36,791] Finished trial#220 resulted in value: -0.79149056072133. Current best value is -0.7943082558467174 with parameters: {'w_lr': 0.0030540165711253563, 'w_lda': 0.08757798809119169, 'w_sv': 0.6097934649431067, 'w_xgb': 0.24277725635469752, 'w_lgbm': 0.2508511353587901, 'w_mlp': 0.9339716563156463}.\n"
     ]
    },
    {
     "name": "stdout",
     "output_type": "stream",
     "text": [
      "[w_lr, w_lda, w_sv, w_xgb, w_lgbm,w_cb ] =  [0.016 0.094 0.643 0.268 0.295 0.    0.972]\n",
      "norm =  [0.007 0.041 0.281 0.117 0.129 0.    0.425]\n",
      "AUC all:  0.7927585235277542\n",
      "\n"
     ]
    },
    {
     "name": "stderr",
     "output_type": "stream",
     "text": [
      "[I 2019-08-24 12:12:37,263] Finished trial#221 resulted in value: -0.7927585235277542. Current best value is -0.7943082558467174 with parameters: {'w_lr': 0.0030540165711253563, 'w_lda': 0.08757798809119169, 'w_sv': 0.6097934649431067, 'w_xgb': 0.24277725635469752, 'w_lgbm': 0.2508511353587901, 'w_mlp': 0.9339716563156463}.\n"
     ]
    },
    {
     "name": "stdout",
     "output_type": "stream",
     "text": [
      "[w_lr, w_lda, w_sv, w_xgb, w_lgbm,w_cb ] =  [0.003 0.096 0.632 0.297 0.265 0.    0.966]\n",
      "norm =  [0.001 0.042 0.28  0.132 0.117 0.    0.428]\n",
      "AUC all:  0.7933220625528317\n",
      "\n"
     ]
    },
    {
     "name": "stderr",
     "output_type": "stream",
     "text": [
      "[I 2019-08-24 12:12:37,737] Finished trial#222 resulted in value: -0.7933220625528317. Current best value is -0.7943082558467174 with parameters: {'w_lr': 0.0030540165711253563, 'w_lda': 0.08757798809119169, 'w_sv': 0.6097934649431067, 'w_xgb': 0.24277725635469752, 'w_lgbm': 0.2508511353587901, 'w_mlp': 0.9339716563156463}.\n"
     ]
    },
    {
     "name": "stdout",
     "output_type": "stream",
     "text": [
      "[w_lr, w_lda, w_sv, w_xgb, w_lgbm,w_cb ] =  [0.567 0.063 0.608 0.216 0.269 0.    0.944]\n",
      "norm =  [0.213 0.023 0.228 0.081 0.101 0.    0.354]\n",
      "AUC all:  0.7927585235277542\n",
      "\n"
     ]
    },
    {
     "name": "stderr",
     "output_type": "stream",
     "text": [
      "[I 2019-08-24 12:12:38,220] Finished trial#223 resulted in value: -0.7927585235277542. Current best value is -0.7943082558467174 with parameters: {'w_lr': 0.0030540165711253563, 'w_lda': 0.08757798809119169, 'w_sv': 0.6097934649431067, 'w_xgb': 0.24277725635469752, 'w_lgbm': 0.2508511353587901, 'w_mlp': 0.9339716563156463}.\n"
     ]
    },
    {
     "name": "stdout",
     "output_type": "stream",
     "text": [
      "[w_lr, w_lda, w_sv, w_xgb, w_lgbm,w_cb ] =  [0.001 0.082 0.601 0.189 0.221 0.    0.893]\n",
      "norm =  [0.    0.041 0.303 0.095 0.111 0.    0.45 ]\n",
      "AUC all:  0.792617638771485\n",
      "\n"
     ]
    },
    {
     "name": "stderr",
     "output_type": "stream",
     "text": [
      "[I 2019-08-24 12:12:38,692] Finished trial#224 resulted in value: -0.792617638771485. Current best value is -0.7943082558467174 with parameters: {'w_lr': 0.0030540165711253563, 'w_lda': 0.08757798809119169, 'w_sv': 0.6097934649431067, 'w_xgb': 0.24277725635469752, 'w_lgbm': 0.2508511353587901, 'w_mlp': 0.9339716563156463}.\n"
     ]
    },
    {
     "name": "stdout",
     "output_type": "stream",
     "text": [
      "[w_lr, w_lda, w_sv, w_xgb, w_lgbm,w_cb ] =  [0.037 0.036 0.622 0.232 0.246 0.    0.926]\n",
      "norm =  [0.018 0.017 0.296 0.111 0.117 0.    0.441]\n",
      "AUC all:  0.7933220625528318\n",
      "\n"
     ]
    },
    {
     "name": "stderr",
     "output_type": "stream",
     "text": [
      "[I 2019-08-24 12:12:39,170] Finished trial#225 resulted in value: -0.7933220625528318. Current best value is -0.7943082558467174 with parameters: {'w_lr': 0.0030540165711253563, 'w_lda': 0.08757798809119169, 'w_sv': 0.6097934649431067, 'w_xgb': 0.24277725635469752, 'w_lgbm': 0.2508511353587901, 'w_mlp': 0.9339716563156463}.\n"
     ]
    },
    {
     "name": "stdout",
     "output_type": "stream",
     "text": [
      "[w_lr, w_lda, w_sv, w_xgb, w_lgbm,w_cb ] =  [0.075 0.065 0.576 0.278 0.328 0.    0.918]\n",
      "norm =  [0.034 0.029 0.257 0.124 0.146 0.    0.41 ]\n",
      "AUC all:  0.7913496759650607\n",
      "\n"
     ]
    },
    {
     "name": "stderr",
     "output_type": "stream",
     "text": [
      "[I 2019-08-24 12:12:39,654] Finished trial#226 resulted in value: -0.7913496759650607. Current best value is -0.7943082558467174 with parameters: {'w_lr': 0.0030540165711253563, 'w_lda': 0.08757798809119169, 'w_sv': 0.6097934649431067, 'w_xgb': 0.24277725635469752, 'w_lgbm': 0.2508511353587901, 'w_mlp': 0.9339716563156463}.\n"
     ]
    },
    {
     "name": "stdout",
     "output_type": "stream",
     "text": [
      "[w_lr, w_lda, w_sv, w_xgb, w_lgbm,w_cb ] =  [0.028 0.127 0.592 0.173 0.269 0.    0.935]\n",
      "norm =  [0.013 0.06  0.279 0.082 0.127 0.    0.44 ]\n",
      "AUC all:  0.791913214990138\n",
      "\n"
     ]
    },
    {
     "name": "stderr",
     "output_type": "stream",
     "text": [
      "[I 2019-08-24 12:12:40,136] Finished trial#227 resulted in value: -0.791913214990138. Current best value is -0.7943082558467174 with parameters: {'w_lr': 0.0030540165711253563, 'w_lda': 0.08757798809119169, 'w_sv': 0.6097934649431067, 'w_xgb': 0.24277725635469752, 'w_lgbm': 0.2508511353587901, 'w_mlp': 0.9339716563156463}.\n"
     ]
    },
    {
     "name": "stdout",
     "output_type": "stream",
     "text": [
      "[w_lr, w_lda, w_sv, w_xgb, w_lgbm,w_cb ] =  [0.003 0.129 0.681 0.313 0.28  0.    0.96 ]\n",
      "norm =  [0.001 0.055 0.288 0.133 0.118 0.    0.406]\n",
      "AUC all:  0.7927585235277543\n",
      "\n"
     ]
    },
    {
     "name": "stderr",
     "output_type": "stream",
     "text": [
      "[I 2019-08-24 12:12:40,626] Finished trial#228 resulted in value: -0.7927585235277543. Current best value is -0.7943082558467174 with parameters: {'w_lr': 0.0030540165711253563, 'w_lda': 0.08757798809119169, 'w_sv': 0.6097934649431067, 'w_xgb': 0.24277725635469752, 'w_lgbm': 0.2508511353587901, 'w_mlp': 0.9339716563156463}.\n"
     ]
    },
    {
     "name": "stdout",
     "output_type": "stream",
     "text": [
      "[w_lr, w_lda, w_sv, w_xgb, w_lgbm,w_cb ] =  [0.    0.078 0.608 0.197 0.252 0.    0.891]\n",
      "norm =  [0.    0.039 0.3   0.097 0.124 0.    0.44 ]\n",
      "AUC all:  0.7936038320653706\n",
      "\n"
     ]
    },
    {
     "name": "stderr",
     "output_type": "stream",
     "text": [
      "[I 2019-08-24 12:12:41,120] Finished trial#229 resulted in value: -0.7936038320653706. Current best value is -0.7943082558467174 with parameters: {'w_lr': 0.0030540165711253563, 'w_lda': 0.08757798809119169, 'w_sv': 0.6097934649431067, 'w_xgb': 0.24277725635469752, 'w_lgbm': 0.2508511353587901, 'w_mlp': 0.9339716563156463}.\n"
     ]
    },
    {
     "name": "stdout",
     "output_type": "stream",
     "text": [
      "[w_lr, w_lda, w_sv, w_xgb, w_lgbm,w_cb ] =  [0.05  0.104 0.616 0.198 0.21  0.    0.901]\n",
      "norm =  [0.024 0.05  0.296 0.095 0.101 0.    0.433]\n",
      "AUC all:  0.79149056072133\n",
      "\n"
     ]
    },
    {
     "name": "stderr",
     "output_type": "stream",
     "text": [
      "[I 2019-08-24 12:12:41,621] Finished trial#230 resulted in value: -0.79149056072133. Current best value is -0.7943082558467174 with parameters: {'w_lr': 0.0030540165711253563, 'w_lda': 0.08757798809119169, 'w_sv': 0.6097934649431067, 'w_xgb': 0.24277725635469752, 'w_lgbm': 0.2508511353587901, 'w_mlp': 0.9339716563156463}.\n"
     ]
    },
    {
     "name": "stdout",
     "output_type": "stream",
     "text": [
      "[w_lr, w_lda, w_sv, w_xgb, w_lgbm,w_cb ] =  [0.    0.082 0.602 0.191 0.256 0.    0.883]\n",
      "norm =  [0.    0.041 0.299 0.095 0.127 0.    0.438]\n",
      "AUC all:  0.7931811777965625\n",
      "\n"
     ]
    },
    {
     "name": "stderr",
     "output_type": "stream",
     "text": [
      "[I 2019-08-24 12:12:42,120] Finished trial#231 resulted in value: -0.7931811777965625. Current best value is -0.7943082558467174 with parameters: {'w_lr': 0.0030540165711253563, 'w_lda': 0.08757798809119169, 'w_sv': 0.6097934649431067, 'w_xgb': 0.24277725635469752, 'w_lgbm': 0.2508511353587901, 'w_mlp': 0.9339716563156463}.\n"
     ]
    },
    {
     "name": "stdout",
     "output_type": "stream",
     "text": [
      "[w_lr, w_lda, w_sv, w_xgb, w_lgbm,w_cb ] =  [0.024 0.075 0.568 0.253 0.304 0.    0.904]\n",
      "norm =  [0.011 0.035 0.267 0.119 0.143 0.    0.425]\n",
      "AUC all:  0.7920540997464074\n",
      "\n"
     ]
    },
    {
     "name": "stderr",
     "output_type": "stream",
     "text": [
      "[I 2019-08-24 12:12:42,620] Finished trial#232 resulted in value: -0.7920540997464074. Current best value is -0.7943082558467174 with parameters: {'w_lr': 0.0030540165711253563, 'w_lda': 0.08757798809119169, 'w_sv': 0.6097934649431067, 'w_xgb': 0.24277725635469752, 'w_lgbm': 0.2508511353587901, 'w_mlp': 0.9339716563156463}.\n"
     ]
    },
    {
     "name": "stdout",
     "output_type": "stream",
     "text": [
      "[w_lr, w_lda, w_sv, w_xgb, w_lgbm,w_cb ] =  [0.    0.128 0.639 0.281 0.283 0.    0.981]\n",
      "norm =  [0.    0.055 0.276 0.121 0.123 0.    0.424]\n",
      "AUC all:  0.7934629473091013\n",
      "\n"
     ]
    },
    {
     "name": "stderr",
     "output_type": "stream",
     "text": [
      "[I 2019-08-24 12:12:43,105] Finished trial#233 resulted in value: -0.7934629473091013. Current best value is -0.7943082558467174 with parameters: {'w_lr': 0.0030540165711253563, 'w_lda': 0.08757798809119169, 'w_sv': 0.6097934649431067, 'w_xgb': 0.24277725635469752, 'w_lgbm': 0.2508511353587901, 'w_mlp': 0.9339716563156463}.\n"
     ]
    },
    {
     "name": "stdout",
     "output_type": "stream",
     "text": [
      "[w_lr, w_lda, w_sv, w_xgb, w_lgbm,w_cb ] =  [0.017 0.117 0.657 0.229 0.233 0.    0.984]\n",
      "norm =  [0.007 0.052 0.294 0.102 0.104 0.    0.44 ]\n",
      "AUC all:  0.7910679064525218\n",
      "\n"
     ]
    },
    {
     "name": "stderr",
     "output_type": "stream",
     "text": [
      "[I 2019-08-24 12:12:43,604] Finished trial#234 resulted in value: -0.7910679064525218. Current best value is -0.7943082558467174 with parameters: {'w_lr': 0.0030540165711253563, 'w_lda': 0.08757798809119169, 'w_sv': 0.6097934649431067, 'w_xgb': 0.24277725635469752, 'w_lgbm': 0.2508511353587901, 'w_mlp': 0.9339716563156463}.\n"
     ]
    },
    {
     "name": "stdout",
     "output_type": "stream",
     "text": [
      "[w_lr, w_lda, w_sv, w_xgb, w_lgbm,w_cb ] =  [0.    0.148 0.635 0.248 0.256 0.    0.912]\n",
      "norm =  [0.    0.067 0.289 0.113 0.116 0.    0.415]\n",
      "AUC all:  0.7920540997464074\n",
      "\n"
     ]
    },
    {
     "name": "stderr",
     "output_type": "stream",
     "text": [
      "[I 2019-08-24 12:12:44,108] Finished trial#235 resulted in value: -0.7920540997464074. Current best value is -0.7943082558467174 with parameters: {'w_lr': 0.0030540165711253563, 'w_lda': 0.08757798809119169, 'w_sv': 0.6097934649431067, 'w_xgb': 0.24277725635469752, 'w_lgbm': 0.2508511353587901, 'w_mlp': 0.9339716563156463}.\n"
     ]
    },
    {
     "name": "stdout",
     "output_type": "stream",
     "text": [
      "[w_lr, w_lda, w_sv, w_xgb, w_lgbm,w_cb ] =  [0.036 0.105 0.722 0.282 0.29  0.    0.867]\n",
      "norm =  [0.016 0.046 0.313 0.122 0.126 0.    0.377]\n",
      "AUC all:  0.7934629473091013\n",
      "\n"
     ]
    },
    {
     "name": "stderr",
     "output_type": "stream",
     "text": [
      "[I 2019-08-24 12:12:44,607] Finished trial#236 resulted in value: -0.7934629473091013. Current best value is -0.7943082558467174 with parameters: {'w_lr': 0.0030540165711253563, 'w_lda': 0.08757798809119169, 'w_sv': 0.6097934649431067, 'w_xgb': 0.24277725635469752, 'w_lgbm': 0.2508511353587901, 'w_mlp': 0.9339716563156463}.\n"
     ]
    },
    {
     "name": "stdout",
     "output_type": "stream",
     "text": [
      "[w_lr, w_lda, w_sv, w_xgb, w_lgbm,w_cb ] =  [0.043 0.115 0.701 0.291 0.311 0.    0.928]\n",
      "norm =  [0.018 0.048 0.293 0.122 0.13  0.    0.389]\n",
      "AUC all:  0.7937447168216398\n",
      "\n"
     ]
    },
    {
     "name": "stderr",
     "output_type": "stream",
     "text": [
      "[I 2019-08-24 12:12:45,100] Finished trial#237 resulted in value: -0.7937447168216398. Current best value is -0.7943082558467174 with parameters: {'w_lr': 0.0030540165711253563, 'w_lda': 0.08757798809119169, 'w_sv': 0.6097934649431067, 'w_xgb': 0.24277725635469752, 'w_lgbm': 0.2508511353587901, 'w_mlp': 0.9339716563156463}.\n"
     ]
    },
    {
     "name": "stdout",
     "output_type": "stream",
     "text": [
      "[w_lr, w_lda, w_sv, w_xgb, w_lgbm,w_cb ] =  [0.038 0.138 0.722 0.291 0.29  0.    0.869]\n",
      "norm =  [0.016 0.059 0.307 0.124 0.123 0.    0.37 ]\n",
      "AUC all:  0.7933220625528318\n",
      "\n"
     ]
    },
    {
     "name": "stderr",
     "output_type": "stream",
     "text": [
      "[I 2019-08-24 12:12:45,599] Finished trial#238 resulted in value: -0.7933220625528318. Current best value is -0.7943082558467174 with parameters: {'w_lr': 0.0030540165711253563, 'w_lda': 0.08757798809119169, 'w_sv': 0.6097934649431067, 'w_xgb': 0.24277725635469752, 'w_lgbm': 0.2508511353587901, 'w_mlp': 0.9339716563156463}.\n"
     ]
    },
    {
     "name": "stdout",
     "output_type": "stream",
     "text": [
      "[w_lr, w_lda, w_sv, w_xgb, w_lgbm,w_cb ] =  [0.036 0.161 0.701 0.272 0.311 0.    0.924]\n",
      "norm =  [0.015 0.067 0.291 0.113 0.129 0.    0.384]\n",
      "AUC all:  0.7927585235277543\n",
      "\n"
     ]
    },
    {
     "name": "stderr",
     "output_type": "stream",
     "text": [
      "[I 2019-08-24 12:12:46,097] Finished trial#239 resulted in value: -0.7927585235277543. Current best value is -0.7943082558467174 with parameters: {'w_lr': 0.0030540165711253563, 'w_lda': 0.08757798809119169, 'w_sv': 0.6097934649431067, 'w_xgb': 0.24277725635469752, 'w_lgbm': 0.2508511353587901, 'w_mlp': 0.9339716563156463}.\n"
     ]
    },
    {
     "name": "stdout",
     "output_type": "stream",
     "text": [
      "[w_lr, w_lda, w_sv, w_xgb, w_lgbm,w_cb ] =  [0.022 0.11  0.705 0.302 0.337 0.    0.932]\n",
      "norm =  [0.009 0.046 0.293 0.125 0.14  0.    0.387]\n",
      "AUC all:  0.7924767540152156\n",
      "\n"
     ]
    },
    {
     "name": "stderr",
     "output_type": "stream",
     "text": [
      "[I 2019-08-24 12:12:46,596] Finished trial#240 resulted in value: -0.7924767540152156. Current best value is -0.7943082558467174 with parameters: {'w_lr': 0.0030540165711253563, 'w_lda': 0.08757798809119169, 'w_sv': 0.6097934649431067, 'w_xgb': 0.24277725635469752, 'w_lgbm': 0.2508511353587901, 'w_mlp': 0.9339716563156463}.\n"
     ]
    },
    {
     "name": "stdout",
     "output_type": "stream",
     "text": [
      "[w_lr, w_lda, w_sv, w_xgb, w_lgbm,w_cb ] =  [0.059 0.106 0.689 0.321 0.293 0.    0.944]\n",
      "norm =  [0.024 0.044 0.286 0.133 0.121 0.    0.391]\n",
      "AUC all:  0.7931811777965625\n",
      "\n"
     ]
    },
    {
     "name": "stderr",
     "output_type": "stream",
     "text": [
      "[I 2019-08-24 12:12:47,096] Finished trial#241 resulted in value: -0.7931811777965625. Current best value is -0.7943082558467174 with parameters: {'w_lr': 0.0030540165711253563, 'w_lda': 0.08757798809119169, 'w_sv': 0.6097934649431067, 'w_xgb': 0.24277725635469752, 'w_lgbm': 0.2508511353587901, 'w_mlp': 0.9339716563156463}.\n"
     ]
    },
    {
     "name": "stdout",
     "output_type": "stream",
     "text": [
      "[w_lr, w_lda, w_sv, w_xgb, w_lgbm,w_cb ] =  [0.049 0.128 0.731 0.279 0.28  0.    0.999]\n",
      "norm =  [0.02  0.052 0.296 0.113 0.113 0.    0.405]\n",
      "AUC all:  0.7936038320653707\n",
      "\n"
     ]
    },
    {
     "name": "stderr",
     "output_type": "stream",
     "text": [
      "[I 2019-08-24 12:12:47,597] Finished trial#242 resulted in value: -0.7936038320653707. Current best value is -0.7943082558467174 with parameters: {'w_lr': 0.0030540165711253563, 'w_lda': 0.08757798809119169, 'w_sv': 0.6097934649431067, 'w_xgb': 0.24277725635469752, 'w_lgbm': 0.2508511353587901, 'w_mlp': 0.9339716563156463}.\n"
     ]
    },
    {
     "name": "stdout",
     "output_type": "stream",
     "text": [
      "[w_lr, w_lda, w_sv, w_xgb, w_lgbm,w_cb ] =  [0.039 0.128 0.733 0.261 0.27  0.    0.919]\n",
      "norm =  [0.017 0.054 0.312 0.111 0.115 0.    0.391]\n",
      "AUC all:  0.793040293040293\n",
      "\n"
     ]
    },
    {
     "name": "stderr",
     "output_type": "stream",
     "text": [
      "[I 2019-08-24 12:12:48,096] Finished trial#243 resulted in value: -0.793040293040293. Current best value is -0.7943082558467174 with parameters: {'w_lr': 0.0030540165711253563, 'w_lda': 0.08757798809119169, 'w_sv': 0.6097934649431067, 'w_xgb': 0.24277725635469752, 'w_lgbm': 0.2508511353587901, 'w_mlp': 0.9339716563156463}.\n"
     ]
    },
    {
     "name": "stdout",
     "output_type": "stream",
     "text": [
      "[w_lr, w_lda, w_sv, w_xgb, w_lgbm,w_cb ] =  [0.082 0.118 0.715 0.285 0.323 0.    1.   ]\n",
      "norm =  [0.032 0.047 0.283 0.113 0.128 0.    0.396]\n",
      "AUC all:  0.7930402930402931\n",
      "\n"
     ]
    },
    {
     "name": "stderr",
     "output_type": "stream",
     "text": [
      "[I 2019-08-24 12:12:48,609] Finished trial#244 resulted in value: -0.7930402930402931. Current best value is -0.7943082558467174 with parameters: {'w_lr': 0.0030540165711253563, 'w_lda': 0.08757798809119169, 'w_sv': 0.6097934649431067, 'w_xgb': 0.24277725635469752, 'w_lgbm': 0.2508511353587901, 'w_mlp': 0.9339716563156463}.\n"
     ]
    },
    {
     "name": "stdout",
     "output_type": "stream",
     "text": [
      "[w_lr, w_lda, w_sv, w_xgb, w_lgbm,w_cb ] =  [0.001 0.144 0.723 0.245 0.28  0.    0.951]\n",
      "norm =  [0.    0.062 0.309 0.104 0.119 0.    0.406]\n",
      "AUC all:  0.7924767540152154\n",
      "\n"
     ]
    },
    {
     "name": "stderr",
     "output_type": "stream",
     "text": [
      "[I 2019-08-24 12:12:49,121] Finished trial#245 resulted in value: -0.7924767540152154. Current best value is -0.7943082558467174 with parameters: {'w_lr': 0.0030540165711253563, 'w_lda': 0.08757798809119169, 'w_sv': 0.6097934649431067, 'w_xgb': 0.24277725635469752, 'w_lgbm': 0.2508511353587901, 'w_mlp': 0.9339716563156463}.\n"
     ]
    },
    {
     "name": "stdout",
     "output_type": "stream",
     "text": [
      "[w_lr, w_lda, w_sv, w_xgb, w_lgbm,w_cb ] =  [0.02  0.1   0.714 0.275 0.235 0.    0.932]\n",
      "norm =  [0.009 0.044 0.313 0.121 0.103 0.    0.409]\n",
      "AUC all:  0.792617638771485\n",
      "\n"
     ]
    },
    {
     "name": "stderr",
     "output_type": "stream",
     "text": [
      "[I 2019-08-24 12:12:49,629] Finished trial#246 resulted in value: -0.792617638771485. Current best value is -0.7943082558467174 with parameters: {'w_lr': 0.0030540165711253563, 'w_lda': 0.08757798809119169, 'w_sv': 0.6097934649431067, 'w_xgb': 0.24277725635469752, 'w_lgbm': 0.2508511353587901, 'w_mlp': 0.9339716563156463}.\n"
     ]
    },
    {
     "name": "stdout",
     "output_type": "stream",
     "text": [
      "[w_lr, w_lda, w_sv, w_xgb, w_lgbm,w_cb ] =  [0.058 0.125 0.732 0.311 0.307 0.    0.878]\n",
      "norm =  [0.024 0.052 0.303 0.129 0.127 0.    0.364]\n",
      "AUC all:  0.7919132149901381\n",
      "\n"
     ]
    },
    {
     "name": "stderr",
     "output_type": "stream",
     "text": [
      "[I 2019-08-24 12:12:50,141] Finished trial#247 resulted in value: -0.7919132149901381. Current best value is -0.7943082558467174 with parameters: {'w_lr': 0.0030540165711253563, 'w_lda': 0.08757798809119169, 'w_sv': 0.6097934649431067, 'w_xgb': 0.24277725635469752, 'w_lgbm': 0.2508511353587901, 'w_mlp': 0.9339716563156463}.\n"
     ]
    },
    {
     "name": "stdout",
     "output_type": "stream",
     "text": [
      "[w_lr, w_lda, w_sv, w_xgb, w_lgbm,w_cb ] =  [0.431 0.164 0.629 0.259 0.261 0.    0.897]\n",
      "norm =  [0.163 0.062 0.238 0.098 0.099 0.    0.34 ]\n",
      "AUC all:  0.7912087912087913\n",
      "\n"
     ]
    },
    {
     "name": "stderr",
     "output_type": "stream",
     "text": [
      "[I 2019-08-24 12:12:50,661] Finished trial#248 resulted in value: -0.7912087912087913. Current best value is -0.7943082558467174 with parameters: {'w_lr': 0.0030540165711253563, 'w_lda': 0.08757798809119169, 'w_sv': 0.6097934649431067, 'w_xgb': 0.24277725635469752, 'w_lgbm': 0.2508511353587901, 'w_mlp': 0.9339716563156463}.\n"
     ]
    },
    {
     "name": "stdout",
     "output_type": "stream",
     "text": [
      "[w_lr, w_lda, w_sv, w_xgb, w_lgbm,w_cb ] =  [0.061 0.06  0.646 0.343 0.3   0.    0.992]\n",
      "norm =  [0.025 0.025 0.269 0.143 0.125 0.    0.413]\n",
      "AUC all:  0.7916314454775992\n",
      "\n"
     ]
    },
    {
     "name": "stderr",
     "output_type": "stream",
     "text": [
      "[I 2019-08-24 12:12:51,181] Finished trial#249 resulted in value: -0.7916314454775992. Current best value is -0.7943082558467174 with parameters: {'w_lr': 0.0030540165711253563, 'w_lda': 0.08757798809119169, 'w_sv': 0.6097934649431067, 'w_xgb': 0.24277725635469752, 'w_lgbm': 0.2508511353587901, 'w_mlp': 0.9339716563156463}.\n"
     ]
    },
    {
     "name": "stdout",
     "output_type": "stream",
     "text": [
      "[w_lr, w_lda, w_sv, w_xgb, w_lgbm,w_cb ] =  [0.018 0.092 0.549 0.228 0.281 0.    0.925]\n",
      "norm =  [0.008 0.044 0.262 0.109 0.134 0.    0.442]\n",
      "AUC all:  0.7928994082840236\n",
      "\n"
     ]
    },
    {
     "name": "stderr",
     "output_type": "stream",
     "text": [
      "[I 2019-08-24 12:12:51,694] Finished trial#250 resulted in value: -0.7928994082840236. Current best value is -0.7943082558467174 with parameters: {'w_lr': 0.0030540165711253563, 'w_lda': 0.08757798809119169, 'w_sv': 0.6097934649431067, 'w_xgb': 0.24277725635469752, 'w_lgbm': 0.2508511353587901, 'w_mlp': 0.9339716563156463}.\n"
     ]
    },
    {
     "name": "stdout",
     "output_type": "stream",
     "text": [
      "[w_lr, w_lda, w_sv, w_xgb, w_lgbm,w_cb ] =  [0.035 0.109 0.619 0.243 0.242 0.    0.912]\n",
      "norm =  [0.016 0.051 0.286 0.112 0.112 0.    0.422]\n",
      "AUC all:  0.7930402930402931\n",
      "\n"
     ]
    },
    {
     "name": "stderr",
     "output_type": "stream",
     "text": [
      "[I 2019-08-24 12:12:52,219] Finished trial#251 resulted in value: -0.7930402930402931. Current best value is -0.7943082558467174 with parameters: {'w_lr': 0.0030540165711253563, 'w_lda': 0.08757798809119169, 'w_sv': 0.6097934649431067, 'w_xgb': 0.24277725635469752, 'w_lgbm': 0.2508511353587901, 'w_mlp': 0.9339716563156463}.\n"
     ]
    },
    {
     "name": "stdout",
     "output_type": "stream",
     "text": [
      "[w_lr, w_lda, w_sv, w_xgb, w_lgbm,w_cb ] =  [0.    0.085 0.709 0.276 0.225 0.    0.941]\n",
      "norm =  [0.    0.038 0.317 0.124 0.101 0.    0.421]\n",
      "AUC all:  0.7924767540152157\n",
      "\n"
     ]
    },
    {
     "name": "stderr",
     "output_type": "stream",
     "text": [
      "[I 2019-08-24 12:12:52,740] Finished trial#252 resulted in value: -0.7924767540152157. Current best value is -0.7943082558467174 with parameters: {'w_lr': 0.0030540165711253563, 'w_lda': 0.08757798809119169, 'w_sv': 0.6097934649431067, 'w_xgb': 0.24277725635469752, 'w_lgbm': 0.2508511353587901, 'w_mlp': 0.9339716563156463}.\n"
     ]
    },
    {
     "name": "stdout",
     "output_type": "stream",
     "text": [
      "[w_lr, w_lda, w_sv, w_xgb, w_lgbm,w_cb ] =  [0.049 0.14  0.672 0.364 0.316 0.    0.999]\n",
      "norm =  [0.019 0.055 0.265 0.143 0.124 0.    0.393]\n",
      "AUC all:  0.7934629473091012\n",
      "\n"
     ]
    },
    {
     "name": "stderr",
     "output_type": "stream",
     "text": [
      "[I 2019-08-24 12:12:53,261] Finished trial#253 resulted in value: -0.7934629473091012. Current best value is -0.7943082558467174 with parameters: {'w_lr': 0.0030540165711253563, 'w_lda': 0.08757798809119169, 'w_sv': 0.6097934649431067, 'w_xgb': 0.24277725635469752, 'w_lgbm': 0.2508511353587901, 'w_mlp': 0.9339716563156463}.\n"
     ]
    },
    {
     "name": "stdout",
     "output_type": "stream",
     "text": [
      "[w_lr, w_lda, w_sv, w_xgb, w_lgbm,w_cb ] =  [0.049 0.179 0.667 0.35  0.291 0.    0.978]\n",
      "norm =  [0.019 0.071 0.265 0.139 0.116 0.    0.389]\n",
      "AUC all:  0.7916314454775993\n",
      "\n"
     ]
    },
    {
     "name": "stderr",
     "output_type": "stream",
     "text": [
      "[I 2019-08-24 12:12:53,794] Finished trial#254 resulted in value: -0.7916314454775993. Current best value is -0.7943082558467174 with parameters: {'w_lr': 0.0030540165711253563, 'w_lda': 0.08757798809119169, 'w_sv': 0.6097934649431067, 'w_xgb': 0.24277725635469752, 'w_lgbm': 0.2508511353587901, 'w_mlp': 0.9339716563156463}.\n"
     ]
    },
    {
     "name": "stdout",
     "output_type": "stream",
     "text": [
      "[w_lr, w_lda, w_sv, w_xgb, w_lgbm,w_cb ] =  [0.039 0.054 0.726 0.299 0.274 0.    0.887]\n",
      "norm =  [0.017 0.023 0.319 0.131 0.12  0.    0.389]\n",
      "AUC all:  0.7921949845026768\n",
      "\n"
     ]
    },
    {
     "name": "stderr",
     "output_type": "stream",
     "text": [
      "[I 2019-08-24 12:12:54,321] Finished trial#255 resulted in value: -0.7921949845026768. Current best value is -0.7943082558467174 with parameters: {'w_lr': 0.0030540165711253563, 'w_lda': 0.08757798809119169, 'w_sv': 0.6097934649431067, 'w_xgb': 0.24277725635469752, 'w_lgbm': 0.2508511353587901, 'w_mlp': 0.9339716563156463}.\n"
     ]
    },
    {
     "name": "stdout",
     "output_type": "stream",
     "text": [
      "[w_lr, w_lda, w_sv, w_xgb, w_lgbm,w_cb ] =  [0.017 0.116 0.638 0.227 0.258 0.    0.961]\n",
      "norm =  [0.008 0.052 0.288 0.102 0.116 0.    0.434]\n",
      "AUC all:  0.7928994082840236\n",
      "\n"
     ]
    },
    {
     "name": "stderr",
     "output_type": "stream",
     "text": [
      "[I 2019-08-24 12:12:54,866] Finished trial#256 resulted in value: -0.7928994082840236. Current best value is -0.7943082558467174 with parameters: {'w_lr': 0.0030540165711253563, 'w_lda': 0.08757798809119169, 'w_sv': 0.6097934649431067, 'w_xgb': 0.24277725635469752, 'w_lgbm': 0.2508511353587901, 'w_mlp': 0.9339716563156463}.\n"
     ]
    },
    {
     "name": "stdout",
     "output_type": "stream",
     "text": [
      "[w_lr, w_lda, w_sv, w_xgb, w_lgbm,w_cb ] =  [0.081 0.077 0.54  0.289 0.352 0.    0.99 ]\n",
      "norm =  [0.035 0.033 0.232 0.124 0.151 0.    0.425]\n",
      "AUC all:  0.79149056072133\n",
      "\n"
     ]
    },
    {
     "name": "stderr",
     "output_type": "stream",
     "text": [
      "[I 2019-08-24 12:12:55,400] Finished trial#257 resulted in value: -0.79149056072133. Current best value is -0.7943082558467174 with parameters: {'w_lr': 0.0030540165711253563, 'w_lda': 0.08757798809119169, 'w_sv': 0.6097934649431067, 'w_xgb': 0.24277725635469752, 'w_lgbm': 0.2508511353587901, 'w_mlp': 0.9339716563156463}.\n"
     ]
    },
    {
     "name": "stdout",
     "output_type": "stream",
     "text": [
      "[w_lr, w_lda, w_sv, w_xgb, w_lgbm,w_cb ] =  [0.017 0.1   0.581 0.212 0.978 0.    0.954]\n",
      "norm =  [0.006 0.035 0.205 0.075 0.344 0.    0.336]\n",
      "AUC all:  0.7776838546069315\n",
      "\n"
     ]
    },
    {
     "name": "stderr",
     "output_type": "stream",
     "text": [
      "[I 2019-08-24 12:12:55,927] Finished trial#258 resulted in value: -0.7776838546069315. Current best value is -0.7943082558467174 with parameters: {'w_lr': 0.0030540165711253563, 'w_lda': 0.08757798809119169, 'w_sv': 0.6097934649431067, 'w_xgb': 0.24277725635469752, 'w_lgbm': 0.2508511353587901, 'w_mlp': 0.9339716563156463}.\n"
     ]
    },
    {
     "name": "stdout",
     "output_type": "stream",
     "text": [
      "[w_lr, w_lda, w_sv, w_xgb, w_lgbm,w_cb ] =  [0.068 0.133 0.624 0.315 0.309 0.    0.982]\n",
      "norm =  [0.028 0.055 0.257 0.13  0.127 0.    0.404]\n",
      "AUC all:  0.7931811777965624\n",
      "\n"
     ]
    },
    {
     "name": "stderr",
     "output_type": "stream",
     "text": [
      "[I 2019-08-24 12:12:56,466] Finished trial#259 resulted in value: -0.7931811777965624. Current best value is -0.7943082558467174 with parameters: {'w_lr': 0.0030540165711253563, 'w_lda': 0.08757798809119169, 'w_sv': 0.6097934649431067, 'w_xgb': 0.24277725635469752, 'w_lgbm': 0.2508511353587901, 'w_mlp': 0.9339716563156463}.\n"
     ]
    },
    {
     "name": "stdout",
     "output_type": "stream",
     "text": [
      "[w_lr, w_lda, w_sv, w_xgb, w_lgbm,w_cb ] =  [0.017 0.09  0.612 0.258 0.247 0.    0.937]\n",
      "norm =  [0.008 0.042 0.283 0.119 0.114 0.    0.433]\n",
      "AUC all:  0.7931811777965624\n",
      "\n"
     ]
    },
    {
     "name": "stderr",
     "output_type": "stream",
     "text": [
      "[I 2019-08-24 12:12:56,993] Finished trial#260 resulted in value: -0.7931811777965624. Current best value is -0.7943082558467174 with parameters: {'w_lr': 0.0030540165711253563, 'w_lda': 0.08757798809119169, 'w_sv': 0.6097934649431067, 'w_xgb': 0.24277725635469752, 'w_lgbm': 0.2508511353587901, 'w_mlp': 0.9339716563156463}.\n"
     ]
    },
    {
     "name": "stdout",
     "output_type": "stream",
     "text": [
      "[w_lr, w_lda, w_sv, w_xgb, w_lgbm,w_cb ] =  [0.002 0.117 0.591 0.476 0.206 0.    0.909]\n",
      "norm =  [0.001 0.051 0.257 0.207 0.09  0.    0.395]\n",
      "AUC all:  0.7876866723020569\n",
      "\n"
     ]
    },
    {
     "name": "stderr",
     "output_type": "stream",
     "text": [
      "[I 2019-08-24 12:12:57,538] Finished trial#261 resulted in value: -0.7876866723020569. Current best value is -0.7943082558467174 with parameters: {'w_lr': 0.0030540165711253563, 'w_lda': 0.08757798809119169, 'w_sv': 0.6097934649431067, 'w_xgb': 0.24277725635469752, 'w_lgbm': 0.2508511353587901, 'w_mlp': 0.9339716563156463}.\n"
     ]
    },
    {
     "name": "stdout",
     "output_type": "stream",
     "text": [
      "[w_lr, w_lda, w_sv, w_xgb, w_lgbm,w_cb ] =  [0.001 0.478 0.699 0.242 0.271 0.    0.921]\n",
      "norm =  [0.001 0.183 0.268 0.093 0.104 0.    0.352]\n",
      "AUC all:  0.7844463229078613\n",
      "\n"
     ]
    },
    {
     "name": "stderr",
     "output_type": "stream",
     "text": [
      "[I 2019-08-24 12:12:58,083] Finished trial#262 resulted in value: -0.7844463229078613. Current best value is -0.7943082558467174 with parameters: {'w_lr': 0.0030540165711253563, 'w_lda': 0.08757798809119169, 'w_sv': 0.6097934649431067, 'w_xgb': 0.24277725635469752, 'w_lgbm': 0.2508511353587901, 'w_mlp': 0.9339716563156463}.\n"
     ]
    },
    {
     "name": "stdout",
     "output_type": "stream",
     "text": [
      "[w_lr, w_lda, w_sv, w_xgb, w_lgbm,w_cb ] =  [0.04  0.154 0.678 0.279 0.334 0.    0.896]\n",
      "norm =  [0.017 0.064 0.285 0.117 0.14  0.    0.376]\n",
      "AUC all:  0.7919132149901381\n",
      "\n"
     ]
    },
    {
     "name": "stderr",
     "output_type": "stream",
     "text": [
      "[I 2019-08-24 12:12:58,619] Finished trial#263 resulted in value: -0.7919132149901381. Current best value is -0.7943082558467174 with parameters: {'w_lr': 0.0030540165711253563, 'w_lda': 0.08757798809119169, 'w_sv': 0.6097934649431067, 'w_xgb': 0.24277725635469752, 'w_lgbm': 0.2508511353587901, 'w_mlp': 0.9339716563156463}.\n"
     ]
    },
    {
     "name": "stdout",
     "output_type": "stream",
     "text": [
      "[w_lr, w_lda, w_sv, w_xgb, w_lgbm,w_cb ] =  [0.031 0.066 0.551 0.33  0.289 0.    0.969]\n",
      "norm =  [0.014 0.03  0.247 0.148 0.129 0.    0.433]\n",
      "AUC all:  0.791913214990138\n",
      "\n"
     ]
    },
    {
     "name": "stderr",
     "output_type": "stream",
     "text": [
      "[I 2019-08-24 12:12:59,168] Finished trial#264 resulted in value: -0.791913214990138. Current best value is -0.7943082558467174 with parameters: {'w_lr': 0.0030540165711253563, 'w_lda': 0.08757798809119169, 'w_sv': 0.6097934649431067, 'w_xgb': 0.24277725635469752, 'w_lgbm': 0.2508511353587901, 'w_mlp': 0.9339716563156463}.\n"
     ]
    },
    {
     "name": "stdout",
     "output_type": "stream",
     "text": [
      "[w_lr, w_lda, w_sv, w_xgb, w_lgbm,w_cb ] =  [0.058 0.043 0.519 0.292 0.22  0.    0.927]\n",
      "norm =  [0.028 0.021 0.252 0.142 0.107 0.    0.45 ]\n",
      "AUC all:  0.7914905607213301\n",
      "\n"
     ]
    },
    {
     "name": "stderr",
     "output_type": "stream",
     "text": [
      "[I 2019-08-24 12:12:59,709] Finished trial#265 resulted in value: -0.7914905607213301. Current best value is -0.7943082558467174 with parameters: {'w_lr': 0.0030540165711253563, 'w_lda': 0.08757798809119169, 'w_sv': 0.6097934649431067, 'w_xgb': 0.24277725635469752, 'w_lgbm': 0.2508511353587901, 'w_mlp': 0.9339716563156463}.\n"
     ]
    },
    {
     "name": "stdout",
     "output_type": "stream",
     "text": [
      "[w_lr, w_lda, w_sv, w_xgb, w_lgbm,w_cb ] =  [0.    0.098 0.596 0.214 0.249 0.    0.948]\n",
      "norm =  [0.    0.046 0.283 0.102 0.118 0.    0.45 ]\n",
      "AUC all:  0.7936038320653706\n",
      "\n"
     ]
    },
    {
     "name": "stderr",
     "output_type": "stream",
     "text": [
      "[I 2019-08-24 12:13:00,250] Finished trial#266 resulted in value: -0.7936038320653706. Current best value is -0.7943082558467174 with parameters: {'w_lr': 0.0030540165711253563, 'w_lda': 0.08757798809119169, 'w_sv': 0.6097934649431067, 'w_xgb': 0.24277725635469752, 'w_lgbm': 0.2508511353587901, 'w_mlp': 0.9339716563156463}.\n"
     ]
    },
    {
     "name": "stdout",
     "output_type": "stream",
     "text": [
      "[w_lr, w_lda, w_sv, w_xgb, w_lgbm,w_cb ] =  [0.    0.103 0.561 0.262 0.236 0.    0.941]\n",
      "norm =  [0.    0.049 0.267 0.125 0.112 0.    0.447]\n",
      "AUC all:  0.7927585235277543\n",
      "\n"
     ]
    },
    {
     "name": "stderr",
     "output_type": "stream",
     "text": [
      "[I 2019-08-24 12:13:00,803] Finished trial#267 resulted in value: -0.7927585235277543. Current best value is -0.7943082558467174 with parameters: {'w_lr': 0.0030540165711253563, 'w_lda': 0.08757798809119169, 'w_sv': 0.6097934649431067, 'w_xgb': 0.24277725635469752, 'w_lgbm': 0.2508511353587901, 'w_mlp': 0.9339716563156463}.\n"
     ]
    },
    {
     "name": "stdout",
     "output_type": "stream",
     "text": [
      "[w_lr, w_lda, w_sv, w_xgb, w_lgbm,w_cb ] =  [0.021 0.134 0.655 0.239 0.248 0.    0.912]\n",
      "norm =  [0.01  0.061 0.297 0.108 0.112 0.    0.413]\n",
      "AUC all:  0.7924767540152154\n",
      "\n"
     ]
    },
    {
     "name": "stderr",
     "output_type": "stream",
     "text": [
      "[I 2019-08-24 12:13:01,345] Finished trial#268 resulted in value: -0.7924767540152154. Current best value is -0.7943082558467174 with parameters: {'w_lr': 0.0030540165711253563, 'w_lda': 0.08757798809119169, 'w_sv': 0.6097934649431067, 'w_xgb': 0.24277725635469752, 'w_lgbm': 0.2508511353587901, 'w_mlp': 0.9339716563156463}.\n"
     ]
    },
    {
     "name": "stdout",
     "output_type": "stream",
     "text": [
      "[w_lr, w_lda, w_sv, w_xgb, w_lgbm,w_cb ] =  [0.001 0.117 0.63  0.536 0.275 0.    0.932]\n",
      "norm =  [0.    0.047 0.253 0.215 0.111 0.    0.374]\n",
      "AUC all:  0.7893772893772895\n",
      "\n"
     ]
    },
    {
     "name": "stderr",
     "output_type": "stream",
     "text": [
      "[I 2019-08-24 12:13:01,901] Finished trial#269 resulted in value: -0.7893772893772895. Current best value is -0.7943082558467174 with parameters: {'w_lr': 0.0030540165711253563, 'w_lda': 0.08757798809119169, 'w_sv': 0.6097934649431067, 'w_xgb': 0.24277725635469752, 'w_lgbm': 0.2508511353587901, 'w_mlp': 0.9339716563156463}.\n"
     ]
    },
    {
     "name": "stdout",
     "output_type": "stream",
     "text": [
      "[w_lr, w_lda, w_sv, w_xgb, w_lgbm,w_cb ] =  [0.033 0.094 0.613 0.21  0.228 0.    0.949]\n",
      "norm =  [0.016 0.044 0.288 0.099 0.107 0.    0.446]\n",
      "AUC all:  0.7921949845026767\n",
      "\n"
     ]
    },
    {
     "name": "stderr",
     "output_type": "stream",
     "text": [
      "[I 2019-08-24 12:13:02,457] Finished trial#270 resulted in value: -0.7921949845026767. Current best value is -0.7943082558467174 with parameters: {'w_lr': 0.0030540165711253563, 'w_lda': 0.08757798809119169, 'w_sv': 0.6097934649431067, 'w_xgb': 0.24277725635469752, 'w_lgbm': 0.2508511353587901, 'w_mlp': 0.9339716563156463}.\n"
     ]
    },
    {
     "name": "stdout",
     "output_type": "stream",
     "text": [
      "[w_lr, w_lda, w_sv, w_xgb, w_lgbm,w_cb ] =  [0.021 0.155 0.645 0.258 0.255 0.    0.919]\n",
      "norm =  [0.009 0.069 0.286 0.115 0.113 0.    0.408]\n",
      "AUC all:  0.7921949845026768\n",
      "\n"
     ]
    },
    {
     "name": "stderr",
     "output_type": "stream",
     "text": [
      "[I 2019-08-24 12:13:03,013] Finished trial#271 resulted in value: -0.7921949845026768. Current best value is -0.7943082558467174 with parameters: {'w_lr': 0.0030540165711253563, 'w_lda': 0.08757798809119169, 'w_sv': 0.6097934649431067, 'w_xgb': 0.24277725635469752, 'w_lgbm': 0.2508511353587901, 'w_mlp': 0.9339716563156463}.\n"
     ]
    },
    {
     "name": "stdout",
     "output_type": "stream",
     "text": [
      "[w_lr, w_lda, w_sv, w_xgb, w_lgbm,w_cb ] =  [0.002 0.072 0.577 0.168 0.196 0.    0.906]\n",
      "norm =  [0.001 0.038 0.3   0.088 0.102 0.    0.471]\n",
      "AUC all:  0.7924767540152156\n",
      "\n"
     ]
    },
    {
     "name": "stderr",
     "output_type": "stream",
     "text": [
      "[I 2019-08-24 12:13:03,568] Finished trial#272 resulted in value: -0.7924767540152156. Current best value is -0.7943082558467174 with parameters: {'w_lr': 0.0030540165711253563, 'w_lda': 0.08757798809119169, 'w_sv': 0.6097934649431067, 'w_xgb': 0.24277725635469752, 'w_lgbm': 0.2508511353587901, 'w_mlp': 0.9339716563156463}.\n"
     ]
    },
    {
     "name": "stdout",
     "output_type": "stream",
     "text": [
      "[w_lr, w_lda, w_sv, w_xgb, w_lgbm,w_cb ] =  [0.001 0.125 0.604 0.232 0.286 0.    0.871]\n",
      "norm =  [0.    0.059 0.285 0.109 0.135 0.    0.411]\n",
      "AUC all:  0.7924767540152156\n",
      "\n"
     ]
    },
    {
     "name": "stderr",
     "output_type": "stream",
     "text": [
      "[I 2019-08-24 12:13:04,123] Finished trial#273 resulted in value: -0.7924767540152156. Current best value is -0.7943082558467174 with parameters: {'w_lr': 0.0030540165711253563, 'w_lda': 0.08757798809119169, 'w_sv': 0.6097934649431067, 'w_xgb': 0.24277725635469752, 'w_lgbm': 0.2508511353587901, 'w_mlp': 0.9339716563156463}.\n"
     ]
    },
    {
     "name": "stdout",
     "output_type": "stream",
     "text": [
      "[w_lr, w_lda, w_sv, w_xgb, w_lgbm,w_cb ] =  [0.034 0.103 0.622 0.277 0.259 0.    0.935]\n",
      "norm =  [0.015 0.046 0.279 0.124 0.116 0.    0.419]\n",
      "AUC all:  0.7943082558467174\n",
      "\n"
     ]
    },
    {
     "name": "stderr",
     "output_type": "stream",
     "text": [
      "[I 2019-08-24 12:13:04,681] Finished trial#274 resulted in value: -0.7943082558467174. Current best value is -0.7943082558467174 with parameters: {'w_lr': 0.0030540165711253563, 'w_lda': 0.08757798809119169, 'w_sv': 0.6097934649431067, 'w_xgb': 0.24277725635469752, 'w_lgbm': 0.2508511353587901, 'w_mlp': 0.9339716563156463}.\n"
     ]
    },
    {
     "name": "stdout",
     "output_type": "stream",
     "text": [
      "[w_lr, w_lda, w_sv, w_xgb, w_lgbm,w_cb ] =  [0.02  0.087 0.623 0.204 0.24  0.    0.936]\n",
      "norm =  [0.009 0.041 0.295 0.097 0.114 0.    0.444]\n",
      "AUC all:  0.7933220625528318\n",
      "\n"
     ]
    },
    {
     "name": "stderr",
     "output_type": "stream",
     "text": [
      "[I 2019-08-24 12:13:05,229] Finished trial#275 resulted in value: -0.7933220625528318. Current best value is -0.7943082558467174 with parameters: {'w_lr': 0.0030540165711253563, 'w_lda': 0.08757798809119169, 'w_sv': 0.6097934649431067, 'w_xgb': 0.24277725635469752, 'w_lgbm': 0.2508511353587901, 'w_mlp': 0.9339716563156463}.\n"
     ]
    },
    {
     "name": "stdout",
     "output_type": "stream",
     "text": [
      "[w_lr, w_lda, w_sv, w_xgb, w_lgbm,w_cb ] =  [0.875 0.057 0.63  0.26  0.213 0.    0.928]\n",
      "norm =  [0.295 0.019 0.213 0.088 0.072 0.    0.313]\n",
      "AUC all:  0.7916314454775993\n",
      "\n"
     ]
    },
    {
     "name": "stderr",
     "output_type": "stream",
     "text": [
      "[I 2019-08-24 12:13:05,781] Finished trial#276 resulted in value: -0.7916314454775993. Current best value is -0.7943082558467174 with parameters: {'w_lr': 0.0030540165711253563, 'w_lda': 0.08757798809119169, 'w_sv': 0.6097934649431067, 'w_xgb': 0.24277725635469752, 'w_lgbm': 0.2508511353587901, 'w_mlp': 0.9339716563156463}.\n"
     ]
    },
    {
     "name": "stdout",
     "output_type": "stream",
     "text": [
      "[w_lr, w_lda, w_sv, w_xgb, w_lgbm,w_cb ] =  [0.049 0.14  0.615 0.224 0.259 0.    0.957]\n",
      "norm =  [0.022 0.063 0.274 0.1   0.115 0.    0.426]\n",
      "AUC all:  0.7923358692589461\n",
      "\n"
     ]
    },
    {
     "name": "stderr",
     "output_type": "stream",
     "text": [
      "[I 2019-08-24 12:13:06,327] Finished trial#277 resulted in value: -0.7923358692589461. Current best value is -0.7943082558467174 with parameters: {'w_lr': 0.0030540165711253563, 'w_lda': 0.08757798809119169, 'w_sv': 0.6097934649431067, 'w_xgb': 0.24277725635469752, 'w_lgbm': 0.2508511353587901, 'w_mlp': 0.9339716563156463}.\n"
     ]
    },
    {
     "name": "stdout",
     "output_type": "stream",
     "text": [
      "[w_lr, w_lda, w_sv, w_xgb, w_lgbm,w_cb ] =  [0.037 0.1   0.587 0.243 0.23  0.    0.942]\n",
      "norm =  [0.017 0.047 0.274 0.114 0.108 0.    0.441]\n",
      "AUC all:  0.793040293040293\n",
      "\n"
     ]
    },
    {
     "name": "stderr",
     "output_type": "stream",
     "text": [
      "[I 2019-08-24 12:13:06,877] Finished trial#278 resulted in value: -0.793040293040293. Current best value is -0.7943082558467174 with parameters: {'w_lr': 0.0030540165711253563, 'w_lda': 0.08757798809119169, 'w_sv': 0.6097934649431067, 'w_xgb': 0.24277725635469752, 'w_lgbm': 0.2508511353587901, 'w_mlp': 0.9339716563156463}.\n"
     ]
    },
    {
     "name": "stdout",
     "output_type": "stream",
     "text": [
      "[w_lr, w_lda, w_sv, w_xgb, w_lgbm,w_cb ] =  [0.09  0.069 0.596 0.298 0.266 0.    0.919]\n",
      "norm =  [0.04  0.031 0.266 0.133 0.119 0.    0.411]\n",
      "AUC all:  0.7921949845026768\n",
      "\n"
     ]
    },
    {
     "name": "stderr",
     "output_type": "stream",
     "text": [
      "[I 2019-08-24 12:13:07,436] Finished trial#279 resulted in value: -0.7921949845026768. Current best value is -0.7943082558467174 with parameters: {'w_lr': 0.0030540165711253563, 'w_lda': 0.08757798809119169, 'w_sv': 0.6097934649431067, 'w_xgb': 0.24277725635469752, 'w_lgbm': 0.2508511353587901, 'w_mlp': 0.9339716563156463}.\n"
     ]
    },
    {
     "name": "stdout",
     "output_type": "stream",
     "text": [
      "[w_lr, w_lda, w_sv, w_xgb, w_lgbm,w_cb ] =  [0.018 0.173 0.635 0.176 0.797 0.    0.946]\n",
      "norm =  [0.006 0.063 0.231 0.064 0.29  0.    0.345]\n",
      "AUC all:  0.7795153564384334\n",
      "\n"
     ]
    },
    {
     "name": "stderr",
     "output_type": "stream",
     "text": [
      "[I 2019-08-24 12:13:07,990] Finished trial#280 resulted in value: -0.7795153564384334. Current best value is -0.7943082558467174 with parameters: {'w_lr': 0.0030540165711253563, 'w_lda': 0.08757798809119169, 'w_sv': 0.6097934649431067, 'w_xgb': 0.24277725635469752, 'w_lgbm': 0.2508511353587901, 'w_mlp': 0.9339716563156463}.\n"
     ]
    },
    {
     "name": "stdout",
     "output_type": "stream",
     "text": [
      "[w_lr, w_lda, w_sv, w_xgb, w_lgbm,w_cb ] =  [0.002 0.118 0.642 0.264 0.251 0.    0.972]\n",
      "norm =  [0.001 0.053 0.285 0.117 0.112 0.    0.432]\n",
      "AUC all:  0.7928994082840237\n",
      "\n"
     ]
    },
    {
     "name": "stderr",
     "output_type": "stream",
     "text": [
      "[I 2019-08-24 12:13:08,557] Finished trial#281 resulted in value: -0.7928994082840237. Current best value is -0.7943082558467174 with parameters: {'w_lr': 0.0030540165711253563, 'w_lda': 0.08757798809119169, 'w_sv': 0.6097934649431067, 'w_xgb': 0.24277725635469752, 'w_lgbm': 0.2508511353587901, 'w_mlp': 0.9339716563156463}.\n"
     ]
    },
    {
     "name": "stdout",
     "output_type": "stream",
     "text": [
      "[w_lr, w_lda, w_sv, w_xgb, w_lgbm,w_cb ] =  [0.066 0.104 0.738 0.206 0.3   0.    0.885]\n",
      "norm =  [0.029 0.045 0.321 0.09  0.13  0.    0.385]\n",
      "AUC all:  0.7919132149901381\n",
      "\n"
     ]
    },
    {
     "name": "stderr",
     "output_type": "stream",
     "text": [
      "[I 2019-08-24 12:13:09,130] Finished trial#282 resulted in value: -0.7919132149901381. Current best value is -0.7943082558467174 with parameters: {'w_lr': 0.0030540165711253563, 'w_lda': 0.08757798809119169, 'w_sv': 0.6097934649431067, 'w_xgb': 0.24277725635469752, 'w_lgbm': 0.2508511353587901, 'w_mlp': 0.9339716563156463}.\n"
     ]
    },
    {
     "name": "stdout",
     "output_type": "stream",
     "text": [
      "[w_lr, w_lda, w_sv, w_xgb, w_lgbm,w_cb ] =  [0.037 0.023 0.607 0.245 0.22  0.    0.932]\n",
      "norm =  [0.018 0.011 0.294 0.119 0.107 0.    0.452]\n",
      "AUC all:  0.7921949845026768\n",
      "\n"
     ]
    },
    {
     "name": "stderr",
     "output_type": "stream",
     "text": [
      "[I 2019-08-24 12:13:09,699] Finished trial#283 resulted in value: -0.7921949845026768. Current best value is -0.7943082558467174 with parameters: {'w_lr': 0.0030540165711253563, 'w_lda': 0.08757798809119169, 'w_sv': 0.6097934649431067, 'w_xgb': 0.24277725635469752, 'w_lgbm': 0.2508511353587901, 'w_mlp': 0.9339716563156463}.\n"
     ]
    },
    {
     "name": "stdout",
     "output_type": "stream",
     "text": [
      "[w_lr, w_lda, w_sv, w_xgb, w_lgbm,w_cb ] =  [0.016 0.084 0.623 0.275 0.273 0.    0.961]\n",
      "norm =  [0.007 0.038 0.279 0.123 0.122 0.    0.431]\n",
      "AUC all:  0.793462947309101\n",
      "\n"
     ]
    },
    {
     "name": "stderr",
     "output_type": "stream",
     "text": [
      "[I 2019-08-24 12:13:10,268] Finished trial#284 resulted in value: -0.793462947309101. Current best value is -0.7943082558467174 with parameters: {'w_lr': 0.0030540165711253563, 'w_lda': 0.08757798809119169, 'w_sv': 0.6097934649431067, 'w_xgb': 0.24277725635469752, 'w_lgbm': 0.2508511353587901, 'w_mlp': 0.9339716563156463}.\n"
     ]
    },
    {
     "name": "stdout",
     "output_type": "stream",
     "text": [
      "[w_lr, w_lda, w_sv, w_xgb, w_lgbm,w_cb ] =  [0.018 0.135 0.558 0.222 0.246 0.    0.925]\n",
      "norm =  [0.008 0.064 0.265 0.105 0.117 0.    0.44 ]\n",
      "AUC all:  0.7921949845026768\n",
      "\n"
     ]
    },
    {
     "name": "stderr",
     "output_type": "stream",
     "text": [
      "[I 2019-08-24 12:13:10,847] Finished trial#285 resulted in value: -0.7921949845026768. Current best value is -0.7943082558467174 with parameters: {'w_lr': 0.0030540165711253563, 'w_lda': 0.08757798809119169, 'w_sv': 0.6097934649431067, 'w_xgb': 0.24277725635469752, 'w_lgbm': 0.2508511353587901, 'w_mlp': 0.9339716563156463}.\n"
     ]
    },
    {
     "name": "stdout",
     "output_type": "stream",
     "text": [
      "[w_lr, w_lda, w_sv, w_xgb, w_lgbm,w_cb ] =  [0.051 0.049 0.69  0.313 0.297 0.    0.902]\n",
      "norm =  [0.022 0.021 0.3   0.136 0.129 0.    0.392]\n",
      "AUC all:  0.7920540997464074\n",
      "\n"
     ]
    },
    {
     "name": "stderr",
     "output_type": "stream",
     "text": [
      "[I 2019-08-24 12:13:11,424] Finished trial#286 resulted in value: -0.7920540997464074. Current best value is -0.7943082558467174 with parameters: {'w_lr': 0.0030540165711253563, 'w_lda': 0.08757798809119169, 'w_sv': 0.6097934649431067, 'w_xgb': 0.24277725635469752, 'w_lgbm': 0.2508511353587901, 'w_mlp': 0.9339716563156463}.\n"
     ]
    },
    {
     "name": "stdout",
     "output_type": "stream",
     "text": [
      "[w_lr, w_lda, w_sv, w_xgb, w_lgbm,w_cb ] =  [0.029 0.075 0.655 0.191 0.272 0.    0.95 ]\n",
      "norm =  [0.014 0.034 0.301 0.088 0.125 0.    0.437]\n",
      "AUC all:  0.793040293040293\n",
      "\n"
     ]
    },
    {
     "name": "stderr",
     "output_type": "stream",
     "text": [
      "[I 2019-08-24 12:13:12,000] Finished trial#287 resulted in value: -0.793040293040293. Current best value is -0.7943082558467174 with parameters: {'w_lr': 0.0030540165711253563, 'w_lda': 0.08757798809119169, 'w_sv': 0.6097934649431067, 'w_xgb': 0.24277725635469752, 'w_lgbm': 0.2508511353587901, 'w_mlp': 0.9339716563156463}.\n"
     ]
    },
    {
     "name": "stdout",
     "output_type": "stream",
     "text": [
      "[w_lr, w_lda, w_sv, w_xgb, w_lgbm,w_cb ] =  [0.055 0.947 0.722 0.248 0.236 0.    0.894]\n",
      "norm =  [0.018 0.305 0.233 0.08  0.076 0.    0.288]\n",
      "AUC all:  0.7764158918005071\n",
      "\n"
     ]
    },
    {
     "name": "stderr",
     "output_type": "stream",
     "text": [
      "[I 2019-08-24 12:13:12,580] Finished trial#288 resulted in value: -0.7764158918005071. Current best value is -0.7943082558467174 with parameters: {'w_lr': 0.0030540165711253563, 'w_lda': 0.08757798809119169, 'w_sv': 0.6097934649431067, 'w_xgb': 0.24277725635469752, 'w_lgbm': 0.2508511353587901, 'w_mlp': 0.9339716563156463}.\n"
     ]
    },
    {
     "name": "stdout",
     "output_type": "stream",
     "text": [
      "[w_lr, w_lda, w_sv, w_xgb, w_lgbm,w_cb ] =  [0.038 0.106 0.711 0.284 0.317 0.    0.937]\n",
      "norm =  [0.016 0.044 0.297 0.119 0.132 0.    0.392]\n",
      "AUC all:  0.7930402930402931\n",
      "\n"
     ]
    },
    {
     "name": "stderr",
     "output_type": "stream",
     "text": [
      "[I 2019-08-24 12:13:13,153] Finished trial#289 resulted in value: -0.7930402930402931. Current best value is -0.7943082558467174 with parameters: {'w_lr': 0.0030540165711253563, 'w_lda': 0.08757798809119169, 'w_sv': 0.6097934649431067, 'w_xgb': 0.24277725635469752, 'w_lgbm': 0.2508511353587901, 'w_mlp': 0.9339716563156463}.\n"
     ]
    },
    {
     "name": "stdout",
     "output_type": "stream",
     "text": [
      "[w_lr, w_lda, w_sv, w_xgb, w_lgbm,w_cb ] =  [0.004 0.158 0.612 0.23  0.204 0.    0.915]\n",
      "norm =  [0.002 0.074 0.288 0.108 0.096 0.    0.431]\n",
      "AUC all:  0.7889546351084813\n",
      "\n"
     ]
    },
    {
     "name": "stderr",
     "output_type": "stream",
     "text": [
      "[I 2019-08-24 12:13:13,727] Finished trial#290 resulted in value: -0.7889546351084813. Current best value is -0.7943082558467174 with parameters: {'w_lr': 0.0030540165711253563, 'w_lda': 0.08757798809119169, 'w_sv': 0.6097934649431067, 'w_xgb': 0.24277725635469752, 'w_lgbm': 0.2508511353587901, 'w_mlp': 0.9339716563156463}.\n"
     ]
    },
    {
     "name": "stdout",
     "output_type": "stream",
     "text": [
      "[w_lr, w_lda, w_sv, w_xgb, w_lgbm,w_cb ] =  [0.002 0.124 0.581 0.266 0.265 0.    0.928]\n",
      "norm =  [0.001 0.057 0.268 0.123 0.122 0.    0.428]\n",
      "AUC all:  0.7931811777965625\n",
      "\n"
     ]
    },
    {
     "name": "stderr",
     "output_type": "stream",
     "text": [
      "[I 2019-08-24 12:13:14,308] Finished trial#291 resulted in value: -0.7931811777965625. Current best value is -0.7943082558467174 with parameters: {'w_lr': 0.0030540165711253563, 'w_lda': 0.08757798809119169, 'w_sv': 0.6097934649431067, 'w_xgb': 0.24277725635469752, 'w_lgbm': 0.2508511353587901, 'w_mlp': 0.9339716563156463}.\n"
     ]
    },
    {
     "name": "stdout",
     "output_type": "stream",
     "text": [
      "[w_lr, w_lda, w_sv, w_xgb, w_lgbm,w_cb ] =  [0.001 0.091 0.539 0.208 0.282 0.    0.96 ]\n",
      "norm =  [0.001 0.044 0.259 0.1   0.135 0.    0.461]\n",
      "AUC all:  0.7933220625528318\n",
      "\n"
     ]
    },
    {
     "name": "stderr",
     "output_type": "stream",
     "text": [
      "[I 2019-08-24 12:13:14,893] Finished trial#292 resulted in value: -0.7933220625528318. Current best value is -0.7943082558467174 with parameters: {'w_lr': 0.0030540165711253563, 'w_lda': 0.08757798809119169, 'w_sv': 0.6097934649431067, 'w_xgb': 0.24277725635469752, 'w_lgbm': 0.2508511353587901, 'w_mlp': 0.9339716563156463}.\n"
     ]
    },
    {
     "name": "stdout",
     "output_type": "stream",
     "text": [
      "[w_lr, w_lda, w_sv, w_xgb, w_lgbm,w_cb ] =  [0.    0.145 0.593 0.298 0.252 0.    0.942]\n",
      "norm =  [0.    0.065 0.266 0.134 0.113 0.    0.422]\n",
      "AUC all:  0.7910679064525219\n",
      "\n"
     ]
    },
    {
     "name": "stderr",
     "output_type": "stream",
     "text": [
      "[I 2019-08-24 12:13:15,480] Finished trial#293 resulted in value: -0.7910679064525219. Current best value is -0.7943082558467174 with parameters: {'w_lr': 0.0030540165711253563, 'w_lda': 0.08757798809119169, 'w_sv': 0.6097934649431067, 'w_xgb': 0.24277725635469752, 'w_lgbm': 0.2508511353587901, 'w_mlp': 0.9339716563156463}.\n"
     ]
    },
    {
     "name": "stdout",
     "output_type": "stream",
     "text": [
      "[w_lr, w_lda, w_sv, w_xgb, w_lgbm,w_cb ] =  [0.678 0.063 0.57  0.243 0.227 0.    0.91 ]\n",
      "norm =  [0.252 0.023 0.212 0.09  0.084 0.    0.338]\n",
      "AUC all:  0.7924767540152156\n",
      "\n"
     ]
    },
    {
     "name": "stderr",
     "output_type": "stream",
     "text": [
      "[I 2019-08-24 12:13:16,073] Finished trial#294 resulted in value: -0.7924767540152156. Current best value is -0.7943082558467174 with parameters: {'w_lr': 0.0030540165711253563, 'w_lda': 0.08757798809119169, 'w_sv': 0.6097934649431067, 'w_xgb': 0.24277725635469752, 'w_lgbm': 0.2508511353587901, 'w_mlp': 0.9339716563156463}.\n"
     ]
    },
    {
     "name": "stdout",
     "output_type": "stream",
     "text": [
      "[w_lr, w_lda, w_sv, w_xgb, w_lgbm,w_cb ] =  [0.089 0.103 0.6   0.182 0.554 0.    0.879]\n",
      "norm =  [0.037 0.043 0.249 0.076 0.23  0.    0.365]\n",
      "AUC all:  0.7840236686390533\n",
      "\n"
     ]
    },
    {
     "name": "stderr",
     "output_type": "stream",
     "text": [
      "[I 2019-08-24 12:13:16,667] Finished trial#295 resulted in value: -0.7840236686390533. Current best value is -0.7943082558467174 with parameters: {'w_lr': 0.0030540165711253563, 'w_lda': 0.08757798809119169, 'w_sv': 0.6097934649431067, 'w_xgb': 0.24277725635469752, 'w_lgbm': 0.2508511353587901, 'w_mlp': 0.9339716563156463}.\n"
     ]
    },
    {
     "name": "stdout",
     "output_type": "stream",
     "text": [
      "[w_lr, w_lda, w_sv, w_xgb, w_lgbm,w_cb ] =  [0.068 0.037 0.704 0.153 0.294 0.    0.855]\n",
      "norm =  [0.032 0.017 0.333 0.073 0.139 0.    0.405]\n",
      "AUC all:  0.7890955198647506\n",
      "\n"
     ]
    },
    {
     "name": "stderr",
     "output_type": "stream",
     "text": [
      "[I 2019-08-24 12:13:17,260] Finished trial#296 resulted in value: -0.7890955198647506. Current best value is -0.7943082558467174 with parameters: {'w_lr': 0.0030540165711253563, 'w_lda': 0.08757798809119169, 'w_sv': 0.6097934649431067, 'w_xgb': 0.24277725635469752, 'w_lgbm': 0.2508511353587901, 'w_mlp': 0.9339716563156463}.\n"
     ]
    },
    {
     "name": "stdout",
     "output_type": "stream",
     "text": [
      "[w_lr, w_lda, w_sv, w_xgb, w_lgbm,w_cb ] =  [0.024 0.31  0.62  0.277 0.183 0.    0.952]\n",
      "norm =  [0.01  0.131 0.262 0.117 0.077 0.    0.402]\n",
      "AUC all:  0.7838827838827839\n",
      "\n"
     ]
    },
    {
     "name": "stderr",
     "output_type": "stream",
     "text": [
      "[I 2019-08-24 12:13:17,850] Finished trial#297 resulted in value: -0.7838827838827839. Current best value is -0.7943082558467174 with parameters: {'w_lr': 0.0030540165711253563, 'w_lda': 0.08757798809119169, 'w_sv': 0.6097934649431067, 'w_xgb': 0.24277725635469752, 'w_lgbm': 0.2508511353587901, 'w_mlp': 0.9339716563156463}.\n"
     ]
    },
    {
     "name": "stdout",
     "output_type": "stream",
     "text": [
      "[w_lr, w_lda, w_sv, w_xgb, w_lgbm,w_cb ] =  [0.04  0.082 0.531 0.217 0.254 0.    0.896]\n",
      "norm =  [0.02  0.041 0.263 0.107 0.126 0.    0.444]\n",
      "AUC all:  0.7940264863341786\n",
      "\n"
     ]
    },
    {
     "name": "stderr",
     "output_type": "stream",
     "text": [
      "[I 2019-08-24 12:13:18,439] Finished trial#298 resulted in value: -0.7940264863341786. Current best value is -0.7943082558467174 with parameters: {'w_lr': 0.0030540165711253563, 'w_lda': 0.08757798809119169, 'w_sv': 0.6097934649431067, 'w_xgb': 0.24277725635469752, 'w_lgbm': 0.2508511353587901, 'w_mlp': 0.9339716563156463}.\n"
     ]
    },
    {
     "name": "stdout",
     "output_type": "stream",
     "text": [
      "[w_lr, w_lda, w_sv, w_xgb, w_lgbm,w_cb ] =  [0.049 0.07  0.534 0.216 0.244 0.    0.898]\n",
      "norm =  [0.025 0.035 0.265 0.108 0.121 0.    0.446]\n",
      "AUC all:  0.7937447168216398\n",
      "\n"
     ]
    },
    {
     "name": "stderr",
     "output_type": "stream",
     "text": [
      "[I 2019-08-24 12:13:19,036] Finished trial#299 resulted in value: -0.7937447168216398. Current best value is -0.7943082558467174 with parameters: {'w_lr': 0.0030540165711253563, 'w_lda': 0.08757798809119169, 'w_sv': 0.6097934649431067, 'w_xgb': 0.24277725635469752, 'w_lgbm': 0.2508511353587901, 'w_mlp': 0.9339716563156463}.\n"
     ]
    },
    {
     "name": "stdout",
     "output_type": "stream",
     "text": [
      "[w_lr, w_lda, w_sv, w_xgb, w_lgbm,w_cb ] =  [0.063 0.052 0.517 0.219 0.214 0.    0.917]\n",
      "norm =  [0.032 0.026 0.261 0.11  0.108 0.    0.462]\n",
      "AUC all:  0.7919132149901381\n",
      "\n"
     ]
    },
    {
     "name": "stderr",
     "output_type": "stream",
     "text": [
      "[I 2019-08-24 12:13:19,617] Finished trial#300 resulted in value: -0.7919132149901381. Current best value is -0.7943082558467174 with parameters: {'w_lr': 0.0030540165711253563, 'w_lda': 0.08757798809119169, 'w_sv': 0.6097934649431067, 'w_xgb': 0.24277725635469752, 'w_lgbm': 0.2508511353587901, 'w_mlp': 0.9339716563156463}.\n"
     ]
    },
    {
     "name": "stdout",
     "output_type": "stream",
     "text": [
      "[w_lr, w_lda, w_sv, w_xgb, w_lgbm,w_cb ] =  [0.077 0.073 0.53  0.202 0.235 0.    0.889]\n",
      "norm =  [0.038 0.037 0.264 0.101 0.117 0.    0.443]\n",
      "AUC all:  0.7933220625528319\n",
      "\n"
     ]
    },
    {
     "name": "stderr",
     "output_type": "stream",
     "text": [
      "[I 2019-08-24 12:13:20,209] Finished trial#301 resulted in value: -0.7933220625528319. Current best value is -0.7943082558467174 with parameters: {'w_lr': 0.0030540165711253563, 'w_lda': 0.08757798809119169, 'w_sv': 0.6097934649431067, 'w_xgb': 0.24277725635469752, 'w_lgbm': 0.2508511353587901, 'w_mlp': 0.9339716563156463}.\n"
     ]
    },
    {
     "name": "stdout",
     "output_type": "stream",
     "text": [
      "[w_lr, w_lda, w_sv, w_xgb, w_lgbm,w_cb ] =  [0.05  0.386 0.529 0.232 0.262 0.    0.9  ]\n",
      "norm =  [0.021 0.164 0.224 0.098 0.111 0.    0.382]\n",
      "AUC all:  0.7871231332769795\n",
      "\n"
     ]
    },
    {
     "name": "stderr",
     "output_type": "stream",
     "text": [
      "[I 2019-08-24 12:13:20,812] Finished trial#302 resulted in value: -0.7871231332769795. Current best value is -0.7943082558467174 with parameters: {'w_lr': 0.0030540165711253563, 'w_lda': 0.08757798809119169, 'w_sv': 0.6097934649431067, 'w_xgb': 0.24277725635469752, 'w_lgbm': 0.2508511353587901, 'w_mlp': 0.9339716563156463}.\n"
     ]
    },
    {
     "name": "stdout",
     "output_type": "stream",
     "text": [
      "[w_lr, w_lda, w_sv, w_xgb, w_lgbm,w_cb ] =  [0.039 0.08  0.539 0.185 0.197 0.    0.897]\n",
      "norm =  [0.02  0.041 0.278 0.096 0.102 0.    0.463]\n",
      "AUC all:  0.7923358692589463\n",
      "\n"
     ]
    },
    {
     "name": "stderr",
     "output_type": "stream",
     "text": [
      "[I 2019-08-24 12:13:21,413] Finished trial#303 resulted in value: -0.7923358692589463. Current best value is -0.7943082558467174 with parameters: {'w_lr': 0.0030540165711253563, 'w_lda': 0.08757798809119169, 'w_sv': 0.6097934649431067, 'w_xgb': 0.24277725635469752, 'w_lgbm': 0.2508511353587901, 'w_mlp': 0.9339716563156463}.\n"
     ]
    },
    {
     "name": "stdout",
     "output_type": "stream",
     "text": [
      "[w_lr, w_lda, w_sv, w_xgb, w_lgbm,w_cb ] =  [0.092 0.107 0.506 0.253 0.242 0.    0.931]\n",
      "norm =  [0.043 0.05  0.237 0.119 0.113 0.    0.437]\n",
      "AUC all:  0.7931811777965624\n",
      "\n"
     ]
    },
    {
     "name": "stderr",
     "output_type": "stream",
     "text": [
      "[I 2019-08-24 12:13:22,017] Finished trial#304 resulted in value: -0.7931811777965624. Current best value is -0.7943082558467174 with parameters: {'w_lr': 0.0030540165711253563, 'w_lda': 0.08757798809119169, 'w_sv': 0.6097934649431067, 'w_xgb': 0.24277725635469752, 'w_lgbm': 0.2508511353587901, 'w_mlp': 0.9339716563156463}.\n"
     ]
    },
    {
     "name": "stdout",
     "output_type": "stream",
     "text": [
      "[w_lr, w_lda, w_sv, w_xgb, w_lgbm,w_cb ] =  [0.031 0.036 0.542 0.22  0.254 0.    0.921]\n",
      "norm =  [0.015 0.018 0.27  0.11  0.127 0.    0.46 ]\n",
      "AUC all:  0.793040293040293\n",
      "\n"
     ]
    },
    {
     "name": "stderr",
     "output_type": "stream",
     "text": [
      "[I 2019-08-24 12:13:22,616] Finished trial#305 resulted in value: -0.793040293040293. Current best value is -0.7943082558467174 with parameters: {'w_lr': 0.0030540165711253563, 'w_lda': 0.08757798809119169, 'w_sv': 0.6097934649431067, 'w_xgb': 0.24277725635469752, 'w_lgbm': 0.2508511353587901, 'w_mlp': 0.9339716563156463}.\n"
     ]
    },
    {
     "name": "stdout",
     "output_type": "stream",
     "text": [
      "[w_lr, w_lda, w_sv, w_xgb, w_lgbm,w_cb ] =  [0.052 0.057 0.552 0.24  0.274 0.    0.906]\n",
      "norm =  [0.025 0.028 0.265 0.115 0.132 0.    0.436]\n",
      "AUC all:  0.7928994082840236\n",
      "\n"
     ]
    },
    {
     "name": "stderr",
     "output_type": "stream",
     "text": [
      "[I 2019-08-24 12:13:23,222] Finished trial#306 resulted in value: -0.7928994082840236. Current best value is -0.7943082558467174 with parameters: {'w_lr': 0.0030540165711253563, 'w_lda': 0.08757798809119169, 'w_sv': 0.6097934649431067, 'w_xgb': 0.24277725635469752, 'w_lgbm': 0.2508511353587901, 'w_mlp': 0.9339716563156463}.\n"
     ]
    },
    {
     "name": "stdout",
     "output_type": "stream",
     "text": [
      "[w_lr, w_lda, w_sv, w_xgb, w_lgbm,w_cb ] =  [0.024 0.087 0.528 0.196 0.231 0.    0.939]\n",
      "norm =  [0.012 0.043 0.263 0.098 0.115 0.    0.468]\n",
      "AUC all:  0.7924767540152156\n",
      "\n"
     ]
    },
    {
     "name": "stderr",
     "output_type": "stream",
     "text": [
      "[I 2019-08-24 12:13:23,824] Finished trial#307 resulted in value: -0.7924767540152156. Current best value is -0.7943082558467174 with parameters: {'w_lr': 0.0030540165711253563, 'w_lda': 0.08757798809119169, 'w_sv': 0.6097934649431067, 'w_xgb': 0.24277725635469752, 'w_lgbm': 0.2508511353587901, 'w_mlp': 0.9339716563156463}.\n"
     ]
    },
    {
     "name": "stdout",
     "output_type": "stream",
     "text": [
      "[w_lr, w_lda, w_sv, w_xgb, w_lgbm,w_cb ] =  [0.074 0.072 0.562 0.253 0.322 0.    0.912]\n",
      "norm =  [0.034 0.033 0.256 0.115 0.147 0.    0.415]\n",
      "AUC all:  0.7912087912087912\n",
      "\n"
     ]
    },
    {
     "name": "stderr",
     "output_type": "stream",
     "text": [
      "[I 2019-08-24 12:13:24,423] Finished trial#308 resulted in value: -0.7912087912087912. Current best value is -0.7943082558467174 with parameters: {'w_lr': 0.0030540165711253563, 'w_lda': 0.08757798809119169, 'w_sv': 0.6097934649431067, 'w_xgb': 0.24277725635469752, 'w_lgbm': 0.2508511353587901, 'w_mlp': 0.9339716563156463}.\n"
     ]
    },
    {
     "name": "stdout",
     "output_type": "stream",
     "text": [
      "[w_lr, w_lda, w_sv, w_xgb, w_lgbm,w_cb ] =  [0.019 0.117 0.545 0.168 0.214 0.    0.893]\n",
      "norm =  [0.01  0.06  0.279 0.086 0.11  0.    0.457]\n",
      "AUC all:  0.7921949845026769\n",
      "\n"
     ]
    },
    {
     "name": "stderr",
     "output_type": "stream",
     "text": [
      "[I 2019-08-24 12:13:25,041] Finished trial#309 resulted in value: -0.7921949845026769. Current best value is -0.7943082558467174 with parameters: {'w_lr': 0.0030540165711253563, 'w_lda': 0.08757798809119169, 'w_sv': 0.6097934649431067, 'w_xgb': 0.24277725635469752, 'w_lgbm': 0.2508511353587901, 'w_mlp': 0.9339716563156463}.\n"
     ]
    },
    {
     "name": "stdout",
     "output_type": "stream",
     "text": [
      "[w_lr, w_lda, w_sv, w_xgb, w_lgbm,w_cb ] =  [0.051 0.019 0.685 0.224 0.268 0.    0.921]\n",
      "norm =  [0.024 0.009 0.316 0.103 0.124 0.    0.425]\n",
      "AUC all:  0.7913496759650606\n",
      "\n"
     ]
    },
    {
     "name": "stderr",
     "output_type": "stream",
     "text": [
      "[I 2019-08-24 12:13:25,655] Finished trial#310 resulted in value: -0.7913496759650606. Current best value is -0.7943082558467174 with parameters: {'w_lr': 0.0030540165711253563, 'w_lda': 0.08757798809119169, 'w_sv': 0.6097934649431067, 'w_xgb': 0.24277725635469752, 'w_lgbm': 0.2508511353587901, 'w_mlp': 0.9339716563156463}.\n"
     ]
    },
    {
     "name": "stdout",
     "output_type": "stream",
     "text": [
      "[w_lr, w_lda, w_sv, w_xgb, w_lgbm,w_cb ] =  [0.032 0.092 0.63  0.268 0.248 0.    0.906]\n",
      "norm =  [0.015 0.042 0.29  0.123 0.114 0.    0.416]\n",
      "AUC all:  0.793462947309101\n",
      "\n"
     ]
    },
    {
     "name": "stderr",
     "output_type": "stream",
     "text": [
      "[I 2019-08-24 12:13:26,264] Finished trial#311 resulted in value: -0.793462947309101. Current best value is -0.7943082558467174 with parameters: {'w_lr': 0.0030540165711253563, 'w_lda': 0.08757798809119169, 'w_sv': 0.6097934649431067, 'w_xgb': 0.24277725635469752, 'w_lgbm': 0.2508511353587901, 'w_mlp': 0.9339716563156463}.\n"
     ]
    },
    {
     "name": "stdout",
     "output_type": "stream",
     "text": [
      "[w_lr, w_lda, w_sv, w_xgb, w_lgbm,w_cb ] =  [0.015 0.124 0.606 0.206 0.229 0.    0.882]\n",
      "norm =  [0.007 0.06  0.294 0.1   0.111 0.    0.428]\n",
      "AUC all:  0.7919132149901381\n",
      "\n"
     ]
    },
    {
     "name": "stderr",
     "output_type": "stream",
     "text": [
      "[I 2019-08-24 12:13:26,878] Finished trial#312 resulted in value: -0.7919132149901381. Current best value is -0.7943082558467174 with parameters: {'w_lr': 0.0030540165711253563, 'w_lda': 0.08757798809119169, 'w_sv': 0.6097934649431067, 'w_xgb': 0.24277725635469752, 'w_lgbm': 0.2508511353587901, 'w_mlp': 0.9339716563156463}.\n"
     ]
    },
    {
     "name": "stdout",
     "output_type": "stream",
     "text": [
      "[w_lr, w_lda, w_sv, w_xgb, w_lgbm,w_cb ] =  [0.    0.056 0.575 0.18  0.251 0.    0.946]\n",
      "norm =  [0.    0.028 0.286 0.09  0.125 0.    0.471]\n",
      "AUC all:  0.7924767540152156\n",
      "\n"
     ]
    },
    {
     "name": "stderr",
     "output_type": "stream",
     "text": [
      "[I 2019-08-24 12:13:27,497] Finished trial#313 resulted in value: -0.7924767540152156. Current best value is -0.7943082558467174 with parameters: {'w_lr': 0.0030540165711253563, 'w_lda': 0.08757798809119169, 'w_sv': 0.6097934649431067, 'w_xgb': 0.24277725635469752, 'w_lgbm': 0.2508511353587901, 'w_mlp': 0.9339716563156463}.\n"
     ]
    },
    {
     "name": "stdout",
     "output_type": "stream",
     "text": [
      "[w_lr, w_lda, w_sv, w_xgb, w_lgbm,w_cb ] =  [0.056 0.074 0.533 0.387 0.301 0.    0.928]\n",
      "norm =  [0.025 0.033 0.234 0.17  0.132 0.    0.407]\n",
      "AUC all:  0.7914905607213298\n",
      "\n"
     ]
    },
    {
     "name": "stderr",
     "output_type": "stream",
     "text": [
      "[I 2019-08-24 12:13:28,103] Finished trial#314 resulted in value: -0.7914905607213298. Current best value is -0.7943082558467174 with parameters: {'w_lr': 0.0030540165711253563, 'w_lda': 0.08757798809119169, 'w_sv': 0.6097934649431067, 'w_xgb': 0.24277725635469752, 'w_lgbm': 0.2508511353587901, 'w_mlp': 0.9339716563156463}.\n"
     ]
    },
    {
     "name": "stdout",
     "output_type": "stream",
     "text": [
      "[w_lr, w_lda, w_sv, w_xgb, w_lgbm,w_cb ] =  [0.475 0.09  0.517 0.216 0.204 0.    0.934]\n",
      "norm =  [0.195 0.037 0.212 0.089 0.084 0.    0.384]\n",
      "AUC all:  0.7913496759650605\n",
      "\n"
     ]
    },
    {
     "name": "stderr",
     "output_type": "stream",
     "text": [
      "[I 2019-08-24 12:13:28,735] Finished trial#315 resulted in value: -0.7913496759650605. Current best value is -0.7943082558467174 with parameters: {'w_lr': 0.0030540165711253563, 'w_lda': 0.08757798809119169, 'w_sv': 0.6097934649431067, 'w_xgb': 0.24277725635469752, 'w_lgbm': 0.2508511353587901, 'w_mlp': 0.9339716563156463}.\n"
     ]
    },
    {
     "name": "stdout",
     "output_type": "stream",
     "text": [
      "[w_lr, w_lda, w_sv, w_xgb, w_lgbm,w_cb ] =  [0.033 0.042 0.501 0.3   0.285 0.    0.958]\n",
      "norm =  [0.016 0.02  0.236 0.142 0.135 0.    0.452]\n",
      "AUC all:  0.7927585235277542\n",
      "\n"
     ]
    },
    {
     "name": "stderr",
     "output_type": "stream",
     "text": [
      "[I 2019-08-24 12:13:29,353] Finished trial#316 resulted in value: -0.7927585235277542. Current best value is -0.7943082558467174 with parameters: {'w_lr': 0.0030540165711253563, 'w_lda': 0.08757798809119169, 'w_sv': 0.6097934649431067, 'w_xgb': 0.24277725635469752, 'w_lgbm': 0.2508511353587901, 'w_mlp': 0.9339716563156463}.\n"
     ]
    },
    {
     "name": "stdout",
     "output_type": "stream",
     "text": [
      "[w_lr, w_lda, w_sv, w_xgb, w_lgbm,w_cb ] =  [0.    0.092 0.625 0.332 0.702 0.    0.942]\n",
      "norm =  [0.    0.034 0.232 0.123 0.261 0.    0.35 ]\n",
      "AUC all:  0.7833192448577063\n",
      "\n"
     ]
    },
    {
     "name": "stderr",
     "output_type": "stream",
     "text": [
      "[I 2019-08-24 12:13:29,983] Finished trial#317 resulted in value: -0.7833192448577063. Current best value is -0.7943082558467174 with parameters: {'w_lr': 0.0030540165711253563, 'w_lda': 0.08757798809119169, 'w_sv': 0.6097934649431067, 'w_xgb': 0.24277725635469752, 'w_lgbm': 0.2508511353587901, 'w_mlp': 0.9339716563156463}.\n"
     ]
    },
    {
     "name": "stdout",
     "output_type": "stream",
     "text": [
      "[w_lr, w_lda, w_sv, w_xgb, w_lgbm,w_cb ] =  [0.016 0.189 0.556 0.244 0.272 0.    0.926]\n",
      "norm =  [0.007 0.086 0.252 0.111 0.123 0.    0.421]\n",
      "AUC all:  0.7916314454775993\n",
      "\n"
     ]
    },
    {
     "name": "stderr",
     "output_type": "stream",
     "text": [
      "[I 2019-08-24 12:13:30,607] Finished trial#318 resulted in value: -0.7916314454775993. Current best value is -0.7943082558467174 with parameters: {'w_lr': 0.0030540165711253563, 'w_lda': 0.08757798809119169, 'w_sv': 0.6097934649431067, 'w_xgb': 0.24277725635469752, 'w_lgbm': 0.2508511353587901, 'w_mlp': 0.9339716563156463}.\n"
     ]
    },
    {
     "name": "stdout",
     "output_type": "stream",
     "text": [
      "[w_lr, w_lda, w_sv, w_xgb, w_lgbm,w_cb ] =  [0.002 0.149 0.588 0.196 0.245 0.    0.901]\n",
      "norm =  [0.001 0.071 0.283 0.094 0.118 0.    0.433]\n",
      "AUC all:  0.7921949845026768\n",
      "\n"
     ]
    },
    {
     "name": "stderr",
     "output_type": "stream",
     "text": [
      "[I 2019-08-24 12:13:31,237] Finished trial#319 resulted in value: -0.7921949845026768. Current best value is -0.7943082558467174 with parameters: {'w_lr': 0.0030540165711253563, 'w_lda': 0.08757798809119169, 'w_sv': 0.6097934649431067, 'w_xgb': 0.24277725635469752, 'w_lgbm': 0.2508511353587901, 'w_mlp': 0.9339716563156463}.\n"
     ]
    },
    {
     "name": "stdout",
     "output_type": "stream",
     "text": [
      "[w_lr, w_lda, w_sv, w_xgb, w_lgbm,w_cb ] =  [0.044 0.122 0.649 0.26  0.309 0.    0.912]\n",
      "norm =  [0.019 0.053 0.282 0.113 0.135 0.    0.397]\n",
      "AUC all:  0.7923358692589462\n",
      "\n"
     ]
    },
    {
     "name": "stderr",
     "output_type": "stream",
     "text": [
      "[I 2019-08-24 12:13:31,871] Finished trial#320 resulted in value: -0.7923358692589462. Current best value is -0.7943082558467174 with parameters: {'w_lr': 0.0030540165711253563, 'w_lda': 0.08757798809119169, 'w_sv': 0.6097934649431067, 'w_xgb': 0.24277725635469752, 'w_lgbm': 0.2508511353587901, 'w_mlp': 0.9339716563156463}.\n"
     ]
    },
    {
     "name": "stdout",
     "output_type": "stream",
     "text": [
      "[w_lr, w_lda, w_sv, w_xgb, w_lgbm,w_cb ] =  [0.103 0.066 0.614 0.237 0.281 0.    0.917]\n",
      "norm =  [0.046 0.03  0.277 0.107 0.127 0.    0.414]\n",
      "AUC all:  0.7931811777965624\n",
      "\n"
     ]
    },
    {
     "name": "stderr",
     "output_type": "stream",
     "text": [
      "[I 2019-08-24 12:13:32,505] Finished trial#321 resulted in value: -0.7931811777965624. Current best value is -0.7943082558467174 with parameters: {'w_lr': 0.0030540165711253563, 'w_lda': 0.08757798809119169, 'w_sv': 0.6097934649431067, 'w_xgb': 0.24277725635469752, 'w_lgbm': 0.2508511353587901, 'w_mlp': 0.9339716563156463}.\n"
     ]
    },
    {
     "name": "stdout",
     "output_type": "stream",
     "text": [
      "[w_lr, w_lda, w_sv, w_xgb, w_lgbm,w_cb ] =  [0.001 0.107 0.597 0.149 0.225 0.    0.89 ]\n",
      "norm =  [0.    0.054 0.303 0.076 0.114 0.    0.452]\n",
      "AUC all:  0.79149056072133\n",
      "\n"
     ]
    },
    {
     "name": "stderr",
     "output_type": "stream",
     "text": [
      "[I 2019-08-24 12:13:33,135] Finished trial#322 resulted in value: -0.79149056072133. Current best value is -0.7943082558467174 with parameters: {'w_lr': 0.0030540165711253563, 'w_lda': 0.08757798809119169, 'w_sv': 0.6097934649431067, 'w_xgb': 0.24277725635469752, 'w_lgbm': 0.2508511353587901, 'w_mlp': 0.9339716563156463}.\n"
     ]
    },
    {
     "name": "stdout",
     "output_type": "stream",
     "text": [
      "[w_lr, w_lda, w_sv, w_xgb, w_lgbm,w_cb ] =  [0.    0.082 0.58  0.216 0.18  0.    0.949]\n",
      "norm =  [0.    0.041 0.289 0.107 0.09  0.    0.473]\n",
      "AUC all:  0.7910679064525217\n",
      "\n"
     ]
    },
    {
     "name": "stderr",
     "output_type": "stream",
     "text": [
      "[I 2019-08-24 12:13:33,753] Finished trial#323 resulted in value: -0.7910679064525217. Current best value is -0.7943082558467174 with parameters: {'w_lr': 0.0030540165711253563, 'w_lda': 0.08757798809119169, 'w_sv': 0.6097934649431067, 'w_xgb': 0.24277725635469752, 'w_lgbm': 0.2508511353587901, 'w_mlp': 0.9339716563156463}.\n"
     ]
    },
    {
     "name": "stdout",
     "output_type": "stream",
     "text": [
      "[w_lr, w_lda, w_sv, w_xgb, w_lgbm,w_cb ] =  [0.072 0.109 0.549 0.312 0.34  0.    0.935]\n",
      "norm =  [0.031 0.047 0.237 0.135 0.147 0.    0.404]\n",
      "AUC all:  0.7921949845026768\n",
      "\n"
     ]
    },
    {
     "name": "stderr",
     "output_type": "stream",
     "text": [
      "[I 2019-08-24 12:13:34,391] Finished trial#324 resulted in value: -0.7921949845026768. Current best value is -0.7943082558467174 with parameters: {'w_lr': 0.0030540165711253563, 'w_lda': 0.08757798809119169, 'w_sv': 0.6097934649431067, 'w_xgb': 0.24277725635469752, 'w_lgbm': 0.2508511353587901, 'w_mlp': 0.9339716563156463}.\n"
     ]
    },
    {
     "name": "stdout",
     "output_type": "stream",
     "text": [
      "[w_lr, w_lda, w_sv, w_xgb, w_lgbm,w_cb ] =  [0.03  0.132 0.635 0.276 0.259 0.    0.904]\n",
      "norm =  [0.014 0.059 0.284 0.123 0.116 0.    0.404]\n",
      "AUC all:  0.7930402930402931\n",
      "\n"
     ]
    },
    {
     "name": "stderr",
     "output_type": "stream",
     "text": [
      "[I 2019-08-24 12:13:35,021] Finished trial#325 resulted in value: -0.7930402930402931. Current best value is -0.7943082558467174 with parameters: {'w_lr': 0.0030540165711253563, 'w_lda': 0.08757798809119169, 'w_sv': 0.6097934649431067, 'w_xgb': 0.24277725635469752, 'w_lgbm': 0.2508511353587901, 'w_mlp': 0.9339716563156463}.\n"
     ]
    },
    {
     "name": "stdout",
     "output_type": "stream",
     "text": [
      "[w_lr, w_lda, w_sv, w_xgb, w_lgbm,w_cb ] =  [0.053 0.162 0.563 0.234 0.292 0.    0.925]\n",
      "norm =  [0.024 0.073 0.253 0.105 0.131 0.    0.415]\n",
      "AUC all:  0.7930402930402931\n",
      "\n"
     ]
    },
    {
     "name": "stderr",
     "output_type": "stream",
     "text": [
      "[I 2019-08-24 12:13:35,654] Finished trial#326 resulted in value: -0.7930402930402931. Current best value is -0.7943082558467174 with parameters: {'w_lr': 0.0030540165711253563, 'w_lda': 0.08757798809119169, 'w_sv': 0.6097934649431067, 'w_xgb': 0.24277725635469752, 'w_lgbm': 0.2508511353587901, 'w_mlp': 0.9339716563156463}.\n"
     ]
    },
    {
     "name": "stdout",
     "output_type": "stream",
     "text": [
      "[w_lr, w_lda, w_sv, w_xgb, w_lgbm,w_cb ] =  [0.026 0.11  0.57  0.26  0.266 0.    0.965]\n",
      "norm =  [0.012 0.05  0.259 0.119 0.121 0.    0.439]\n",
      "AUC all:  0.7945900253592559\n",
      "\n"
     ]
    },
    {
     "name": "stderr",
     "output_type": "stream",
     "text": [
      "[I 2019-08-24 12:13:36,294] Finished trial#327 resulted in value: -0.7945900253592559. Current best value is -0.7945900253592559 with parameters: {'w_lr': 0.025753243505792785, 'w_lda': 0.1096309890212957, 'w_sv': 0.569700349804581, 'w_xgb': 0.2604458715409301, 'w_lgbm': 0.2664801138693, 'w_mlp': 0.964959295713791}.\n"
     ]
    },
    {
     "name": "stdout",
     "output_type": "stream",
     "text": [
      "[w_lr, w_lda, w_sv, w_xgb, w_lgbm,w_cb ] =  [0.    0.138 0.575 0.196 0.235 0.    0.965]\n",
      "norm =  [0.    0.066 0.273 0.093 0.112 0.    0.457]\n",
      "AUC all:  0.7917723302338687\n",
      "\n"
     ]
    },
    {
     "name": "stderr",
     "output_type": "stream",
     "text": [
      "[I 2019-08-24 12:13:36,928] Finished trial#328 resulted in value: -0.7917723302338687. Current best value is -0.7945900253592559 with parameters: {'w_lr': 0.025753243505792785, 'w_lda': 0.1096309890212957, 'w_sv': 0.569700349804581, 'w_xgb': 0.2604458715409301, 'w_lgbm': 0.2664801138693, 'w_mlp': 0.964959295713791}.\n"
     ]
    },
    {
     "name": "stdout",
     "output_type": "stream",
     "text": [
      "[w_lr, w_lda, w_sv, w_xgb, w_lgbm,w_cb ] =  [0.02  0.114 0.565 0.254 0.256 0.    0.971]\n",
      "norm =  [0.009 0.052 0.259 0.117 0.117 0.    0.446]\n",
      "AUC all:  0.7933220625528318\n",
      "\n"
     ]
    },
    {
     "name": "stderr",
     "output_type": "stream",
     "text": [
      "[I 2019-08-24 12:13:37,569] Finished trial#329 resulted in value: -0.7933220625528318. Current best value is -0.7945900253592559 with parameters: {'w_lr': 0.025753243505792785, 'w_lda': 0.1096309890212957, 'w_sv': 0.569700349804581, 'w_xgb': 0.2604458715409301, 'w_lgbm': 0.2664801138693, 'w_mlp': 0.964959295713791}.\n"
     ]
    },
    {
     "name": "stdout",
     "output_type": "stream",
     "text": [
      "[w_lr, w_lda, w_sv, w_xgb, w_lgbm,w_cb ] =  [0.02  0.097 0.617 0.292 0.21  0.    0.96 ]\n",
      "norm =  [0.009 0.044 0.281 0.133 0.096 0.    0.437]\n",
      "AUC all:  0.7899408284023668\n",
      "\n"
     ]
    },
    {
     "name": "stderr",
     "output_type": "stream",
     "text": [
      "[I 2019-08-24 12:13:38,209] Finished trial#330 resulted in value: -0.7899408284023668. Current best value is -0.7945900253592559 with parameters: {'w_lr': 0.025753243505792785, 'w_lda': 0.1096309890212957, 'w_sv': 0.569700349804581, 'w_xgb': 0.2604458715409301, 'w_lgbm': 0.2664801138693, 'w_mlp': 0.964959295713791}.\n"
     ]
    },
    {
     "name": "stdout",
     "output_type": "stream",
     "text": [
      "[w_lr, w_lda, w_sv, w_xgb, w_lgbm,w_cb ] =  [0.067 0.067 0.558 0.345 0.275 0.    0.939]\n",
      "norm =  [0.03  0.03  0.248 0.153 0.122 0.    0.417]\n",
      "AUC all:  0.7921949845026768\n",
      "\n"
     ]
    },
    {
     "name": "stderr",
     "output_type": "stream",
     "text": [
      "[I 2019-08-24 12:13:38,849] Finished trial#331 resulted in value: -0.7921949845026768. Current best value is -0.7945900253592559 with parameters: {'w_lr': 0.025753243505792785, 'w_lda': 0.1096309890212957, 'w_sv': 0.569700349804581, 'w_xgb': 0.2604458715409301, 'w_lgbm': 0.2664801138693, 'w_mlp': 0.964959295713791}.\n"
     ]
    },
    {
     "name": "stdout",
     "output_type": "stream",
     "text": [
      "[w_lr, w_lda, w_sv, w_xgb, w_lgbm,w_cb ] =  [0.041 0.037 0.601 0.271 0.243 0.    0.949]\n",
      "norm =  [0.019 0.017 0.28  0.126 0.113 0.    0.443]\n",
      "AUC all:  0.792617638771485\n",
      "\n"
     ]
    },
    {
     "name": "stderr",
     "output_type": "stream",
     "text": [
      "[I 2019-08-24 12:13:39,497] Finished trial#332 resulted in value: -0.792617638771485. Current best value is -0.7945900253592559 with parameters: {'w_lr': 0.025753243505792785, 'w_lda': 0.1096309890212957, 'w_sv': 0.569700349804581, 'w_xgb': 0.2604458715409301, 'w_lgbm': 0.2664801138693, 'w_mlp': 0.964959295713791}.\n"
     ]
    },
    {
     "name": "stdout",
     "output_type": "stream",
     "text": [
      "[w_lr, w_lda, w_sv, w_xgb, w_lgbm,w_cb ] =  [0.019 0.143 0.58  0.227 0.316 0.    0.955]\n",
      "norm =  [0.008 0.064 0.259 0.101 0.141 0.    0.426]\n",
      "AUC all:  0.7924767540152156\n",
      "\n"
     ]
    },
    {
     "name": "stderr",
     "output_type": "stream",
     "text": [
      "[I 2019-08-24 12:13:40,137] Finished trial#333 resulted in value: -0.7924767540152156. Current best value is -0.7945900253592559 with parameters: {'w_lr': 0.025753243505792785, 'w_lda': 0.1096309890212957, 'w_sv': 0.569700349804581, 'w_xgb': 0.2604458715409301, 'w_lgbm': 0.2664801138693, 'w_mlp': 0.964959295713791}.\n"
     ]
    },
    {
     "name": "stdout",
     "output_type": "stream",
     "text": [
      "[w_lr, w_lda, w_sv, w_xgb, w_lgbm,w_cb ] =  [0.001 0.088 0.626 0.249 0.37  0.    0.945]\n",
      "norm =  [0.001 0.039 0.275 0.109 0.162 0.    0.415]\n",
      "AUC all:  0.7886728655959425\n",
      "\n"
     ]
    },
    {
     "name": "stderr",
     "output_type": "stream",
     "text": [
      "[I 2019-08-24 12:13:40,782] Finished trial#334 resulted in value: -0.7886728655959425. Current best value is -0.7945900253592559 with parameters: {'w_lr': 0.025753243505792785, 'w_lda': 0.1096309890212957, 'w_sv': 0.569700349804581, 'w_xgb': 0.2604458715409301, 'w_lgbm': 0.2664801138693, 'w_mlp': 0.964959295713791}.\n"
     ]
    },
    {
     "name": "stdout",
     "output_type": "stream",
     "text": [
      "[w_lr, w_lda, w_sv, w_xgb, w_lgbm,w_cb ] =  [0.033 0.12  0.643 0.316 0.27  0.    0.894]\n",
      "norm =  [0.014 0.053 0.283 0.139 0.119 0.    0.393]\n",
      "AUC all:  0.792617638771485\n",
      "\n"
     ]
    },
    {
     "name": "stderr",
     "output_type": "stream",
     "text": [
      "[I 2019-08-24 12:13:41,429] Finished trial#335 resulted in value: -0.792617638771485. Current best value is -0.7945900253592559 with parameters: {'w_lr': 0.025753243505792785, 'w_lda': 0.1096309890212957, 'w_sv': 0.569700349804581, 'w_xgb': 0.2604458715409301, 'w_lgbm': 0.2664801138693, 'w_mlp': 0.964959295713791}.\n"
     ]
    },
    {
     "name": "stdout",
     "output_type": "stream",
     "text": [
      "[w_lr, w_lda, w_sv, w_xgb, w_lgbm,w_cb ] =  [0.085 0.056 0.695 0.29  0.225 0.    0.974]\n",
      "norm =  [0.037 0.024 0.299 0.125 0.097 0.    0.419]\n",
      "AUC all:  0.7912087912087912\n",
      "\n"
     ]
    },
    {
     "name": "stderr",
     "output_type": "stream",
     "text": [
      "[I 2019-08-24 12:13:42,070] Finished trial#336 resulted in value: -0.7912087912087912. Current best value is -0.7945900253592559 with parameters: {'w_lr': 0.025753243505792785, 'w_lda': 0.1096309890212957, 'w_sv': 0.569700349804581, 'w_xgb': 0.2604458715409301, 'w_lgbm': 0.2664801138693, 'w_mlp': 0.964959295713791}.\n"
     ]
    },
    {
     "name": "stdout",
     "output_type": "stream",
     "text": [
      "[w_lr, w_lda, w_sv, w_xgb, w_lgbm,w_cb ] =  [0.053 0.174 0.538 0.27  0.292 0.    0.877]\n",
      "norm =  [0.024 0.079 0.244 0.122 0.133 0.    0.398]\n",
      "AUC all:  0.7928994082840237\n",
      "\n"
     ]
    },
    {
     "name": "stderr",
     "output_type": "stream",
     "text": [
      "[I 2019-08-24 12:13:42,724] Finished trial#337 resulted in value: -0.7928994082840237. Current best value is -0.7945900253592559 with parameters: {'w_lr': 0.025753243505792785, 'w_lda': 0.1096309890212957, 'w_sv': 0.569700349804581, 'w_xgb': 0.2604458715409301, 'w_lgbm': 0.2664801138693, 'w_mlp': 0.964959295713791}.\n"
     ]
    },
    {
     "name": "stdout",
     "output_type": "stream",
     "text": [
      "[w_lr, w_lda, w_sv, w_xgb, w_lgbm,w_cb ] =  [0.019 0.109 0.665 0.164 0.258 0.    0.91 ]\n",
      "norm =  [0.009 0.052 0.313 0.077 0.121 0.    0.428]\n",
      "AUC all:  0.7923358692589462\n",
      "\n"
     ]
    },
    {
     "name": "stderr",
     "output_type": "stream",
     "text": [
      "[I 2019-08-24 12:13:43,384] Finished trial#338 resulted in value: -0.7923358692589462. Current best value is -0.7945900253592559 with parameters: {'w_lr': 0.025753243505792785, 'w_lda': 0.1096309890212957, 'w_sv': 0.569700349804581, 'w_xgb': 0.2604458715409301, 'w_lgbm': 0.2664801138693, 'w_mlp': 0.964959295713791}.\n"
     ]
    },
    {
     "name": "stdout",
     "output_type": "stream",
     "text": [
      "[w_lr, w_lda, w_sv, w_xgb, w_lgbm,w_cb ] =  [0.043 0.077 0.546 0.201 0.302 0.    0.963]\n",
      "norm =  [0.02  0.036 0.256 0.094 0.142 0.    0.452]\n",
      "AUC all:  0.7910679064525219\n",
      "\n"
     ]
    },
    {
     "name": "stderr",
     "output_type": "stream",
     "text": [
      "[I 2019-08-24 12:13:44,048] Finished trial#339 resulted in value: -0.7910679064525219. Current best value is -0.7945900253592559 with parameters: {'w_lr': 0.025753243505792785, 'w_lda': 0.1096309890212957, 'w_sv': 0.569700349804581, 'w_xgb': 0.2604458715409301, 'w_lgbm': 0.2664801138693, 'w_mlp': 0.964959295713791}.\n"
     ]
    },
    {
     "name": "stdout",
     "output_type": "stream",
     "text": [
      "[w_lr, w_lda, w_sv, w_xgb, w_lgbm,w_cb ] =  [0.018 0.154 0.587 0.235 0.238 0.    0.92 ]\n",
      "norm =  [0.009 0.071 0.273 0.109 0.111 0.    0.428]\n",
      "AUC all:  0.79149056072133\n",
      "\n"
     ]
    },
    {
     "name": "stderr",
     "output_type": "stream",
     "text": [
      "[I 2019-08-24 12:13:44,708] Finished trial#340 resulted in value: -0.79149056072133. Current best value is -0.7945900253592559 with parameters: {'w_lr': 0.025753243505792785, 'w_lda': 0.1096309890212957, 'w_sv': 0.569700349804581, 'w_xgb': 0.2604458715409301, 'w_lgbm': 0.2664801138693, 'w_mlp': 0.964959295713791}.\n"
     ]
    },
    {
     "name": "stdout",
     "output_type": "stream",
     "text": [
      "[w_lr, w_lda, w_sv, w_xgb, w_lgbm,w_cb ] =  [0.059 0.131 0.57  0.261 0.333 0.    0.931]\n",
      "norm =  [0.026 0.057 0.25  0.114 0.146 0.    0.408]\n",
      "AUC all:  0.7920540997464074\n",
      "\n"
     ]
    },
    {
     "name": "stderr",
     "output_type": "stream",
     "text": [
      "[I 2019-08-24 12:13:45,376] Finished trial#341 resulted in value: -0.7920540997464074. Current best value is -0.7945900253592559 with parameters: {'w_lr': 0.025753243505792785, 'w_lda': 0.1096309890212957, 'w_sv': 0.569700349804581, 'w_xgb': 0.2604458715409301, 'w_lgbm': 0.2664801138693, 'w_mlp': 0.964959295713791}.\n"
     ]
    },
    {
     "name": "stdout",
     "output_type": "stream",
     "text": [
      "[w_lr, w_lda, w_sv, w_xgb, w_lgbm,w_cb ] =  [0.029 0.095 0.608 0.228 0.264 0.    0.899]\n",
      "norm =  [0.014 0.045 0.286 0.107 0.124 0.    0.423]\n",
      "AUC all:  0.7933220625528318\n",
      "\n"
     ]
    },
    {
     "name": "stderr",
     "output_type": "stream",
     "text": [
      "[I 2019-08-24 12:13:46,039] Finished trial#342 resulted in value: -0.7933220625528318. Current best value is -0.7945900253592559 with parameters: {'w_lr': 0.025753243505792785, 'w_lda': 0.1096309890212957, 'w_sv': 0.569700349804581, 'w_xgb': 0.2604458715409301, 'w_lgbm': 0.2664801138693, 'w_mlp': 0.964959295713791}.\n"
     ]
    },
    {
     "name": "stdout",
     "output_type": "stream",
     "text": [
      "[w_lr, w_lda, w_sv, w_xgb, w_lgbm,w_cb ] =  [0.002 0.123 0.636 0.187 0.196 0.    0.884]\n",
      "norm =  [0.001 0.061 0.314 0.092 0.097 0.    0.436]\n",
      "AUC all:  0.7910679064525219\n",
      "\n"
     ]
    },
    {
     "name": "stderr",
     "output_type": "stream",
     "text": [
      "[I 2019-08-24 12:13:46,695] Finished trial#343 resulted in value: -0.7910679064525219. Current best value is -0.7945900253592559 with parameters: {'w_lr': 0.025753243505792785, 'w_lda': 0.1096309890212957, 'w_sv': 0.569700349804581, 'w_xgb': 0.2604458715409301, 'w_lgbm': 0.2664801138693, 'w_mlp': 0.964959295713791}.\n"
     ]
    },
    {
     "name": "stdout",
     "output_type": "stream",
     "text": [
      "[w_lr, w_lda, w_sv, w_xgb, w_lgbm,w_cb ] =  [0.036 0.103 0.62  0.252 0.278 0.    0.912]\n",
      "norm =  [0.016 0.047 0.282 0.115 0.126 0.    0.415]\n",
      "AUC all:  0.7936038320653706\n",
      "\n"
     ]
    },
    {
     "name": "stderr",
     "output_type": "stream",
     "text": [
      "[I 2019-08-24 12:13:47,345] Finished trial#344 resulted in value: -0.7936038320653706. Current best value is -0.7945900253592559 with parameters: {'w_lr': 0.025753243505792785, 'w_lda': 0.1096309890212957, 'w_sv': 0.569700349804581, 'w_xgb': 0.2604458715409301, 'w_lgbm': 0.2664801138693, 'w_mlp': 0.964959295713791}.\n"
     ]
    },
    {
     "name": "stdout",
     "output_type": "stream",
     "text": [
      "[w_lr, w_lda, w_sv, w_xgb, w_lgbm,w_cb ] =  [0.    0.025 0.731 0.307 0.218 0.    0.946]\n",
      "norm =  [0.    0.011 0.328 0.138 0.098 0.    0.425]\n",
      "AUC all:  0.7907861369399831\n",
      "\n"
     ]
    },
    {
     "name": "stderr",
     "output_type": "stream",
     "text": [
      "[I 2019-08-24 12:13:48,012] Finished trial#345 resulted in value: -0.7907861369399831. Current best value is -0.7945900253592559 with parameters: {'w_lr': 0.025753243505792785, 'w_lda': 0.1096309890212957, 'w_sv': 0.569700349804581, 'w_xgb': 0.2604458715409301, 'w_lgbm': 0.2664801138693, 'w_mlp': 0.964959295713791}.\n"
     ]
    },
    {
     "name": "stdout",
     "output_type": "stream",
     "text": [
      "[w_lr, w_lda, w_sv, w_xgb, w_lgbm,w_cb ] =  [0.081 0.05  0.554 0.37  0.164 0.    0.936]\n",
      "norm =  [0.037 0.023 0.257 0.171 0.076 0.    0.434]\n",
      "AUC all:  0.7869822485207101\n",
      "\n"
     ]
    },
    {
     "name": "stderr",
     "output_type": "stream",
     "text": [
      "[I 2019-08-24 12:13:48,678] Finished trial#346 resulted in value: -0.7869822485207101. Current best value is -0.7945900253592559 with parameters: {'w_lr': 0.025753243505792785, 'w_lda': 0.1096309890212957, 'w_sv': 0.569700349804581, 'w_xgb': 0.2604458715409301, 'w_lgbm': 0.2664801138693, 'w_mlp': 0.964959295713791}.\n"
     ]
    },
    {
     "name": "stdout",
     "output_type": "stream",
     "text": [
      "[w_lr, w_lda, w_sv, w_xgb, w_lgbm,w_cb ] =  [0.001 0.085 0.616 0.13  0.247 0.    0.955]\n",
      "norm =  [0.    0.042 0.303 0.064 0.121 0.    0.469]\n",
      "AUC all:  0.7914905607213298\n",
      "\n"
     ]
    },
    {
     "name": "stderr",
     "output_type": "stream",
     "text": [
      "[I 2019-08-24 12:13:49,344] Finished trial#347 resulted in value: -0.7914905607213298. Current best value is -0.7945900253592559 with parameters: {'w_lr': 0.025753243505792785, 'w_lda': 0.1096309890212957, 'w_sv': 0.569700349804581, 'w_xgb': 0.2604458715409301, 'w_lgbm': 0.2664801138693, 'w_mlp': 0.964959295713791}.\n"
     ]
    },
    {
     "name": "stdout",
     "output_type": "stream",
     "text": [
      "[w_lr, w_lda, w_sv, w_xgb, w_lgbm,w_cb ] =  [0.066 0.115 0.746 0.284 0.289 0.    0.922]\n",
      "norm =  [0.027 0.048 0.308 0.117 0.119 0.    0.381]\n",
      "AUC all:  0.7933220625528318\n",
      "\n"
     ]
    },
    {
     "name": "stderr",
     "output_type": "stream",
     "text": [
      "[I 2019-08-24 12:13:50,014] Finished trial#348 resulted in value: -0.7933220625528318. Current best value is -0.7945900253592559 with parameters: {'w_lr': 0.025753243505792785, 'w_lda': 0.1096309890212957, 'w_sv': 0.569700349804581, 'w_xgb': 0.2604458715409301, 'w_lgbm': 0.2664801138693, 'w_mlp': 0.964959295713791}.\n"
     ]
    },
    {
     "name": "stdout",
     "output_type": "stream",
     "text": [
      "[w_lr, w_lda, w_sv, w_xgb, w_lgbm,w_cb ] =  [0.374 0.065 0.592 0.214 0.265 0.    0.931]\n",
      "norm =  [0.153 0.026 0.242 0.088 0.108 0.    0.381]\n",
      "AUC all:  0.7931811777965624\n",
      "\n"
     ]
    },
    {
     "name": "stderr",
     "output_type": "stream",
     "text": [
      "[I 2019-08-24 12:13:50,679] Finished trial#349 resulted in value: -0.7931811777965624. Current best value is -0.7945900253592559 with parameters: {'w_lr': 0.025753243505792785, 'w_lda': 0.1096309890212957, 'w_sv': 0.569700349804581, 'w_xgb': 0.2604458715409301, 'w_lgbm': 0.2664801138693, 'w_mlp': 0.964959295713791}.\n"
     ]
    },
    {
     "name": "stdout",
     "output_type": "stream",
     "text": [
      "[w_lr, w_lda, w_sv, w_xgb, w_lgbm,w_cb ] =  [0.045 0.208 0.71  0.333 0.317 0.    0.942]\n",
      "norm =  [0.018 0.082 0.278 0.13  0.124 0.    0.368]\n",
      "AUC all:  0.7924767540152156\n",
      "\n"
     ]
    },
    {
     "name": "stderr",
     "output_type": "stream",
     "text": [
      "[I 2019-08-24 12:13:51,350] Finished trial#350 resulted in value: -0.7924767540152156. Current best value is -0.7945900253592559 with parameters: {'w_lr': 0.025753243505792785, 'w_lda': 0.1096309890212957, 'w_sv': 0.569700349804581, 'w_xgb': 0.2604458715409301, 'w_lgbm': 0.2664801138693, 'w_mlp': 0.964959295713791}.\n"
     ]
    },
    {
     "name": "stdout",
     "output_type": "stream",
     "text": [
      "[w_lr, w_lda, w_sv, w_xgb, w_lgbm,w_cb ] =  [0.034 0.419 0.652 0.274 0.284 0.    0.974]\n",
      "norm =  [0.013 0.159 0.247 0.104 0.108 0.    0.369]\n",
      "AUC all:  0.7864187094956325\n",
      "\n"
     ]
    },
    {
     "name": "stderr",
     "output_type": "stream",
     "text": [
      "[I 2019-08-24 12:13:52,021] Finished trial#351 resulted in value: -0.7864187094956325. Current best value is -0.7945900253592559 with parameters: {'w_lr': 0.025753243505792785, 'w_lda': 0.1096309890212957, 'w_sv': 0.569700349804581, 'w_xgb': 0.2604458715409301, 'w_lgbm': 0.2664801138693, 'w_mlp': 0.964959295713791}.\n"
     ]
    },
    {
     "name": "stdout",
     "output_type": "stream",
     "text": [
      "[w_lr, w_lda, w_sv, w_xgb, w_lgbm,w_cb ] =  [0.017 0.075 0.53  0.235 0.237 0.    0.959]\n",
      "norm =  [0.008 0.036 0.258 0.115 0.115 0.    0.467]\n",
      "AUC all:  0.7934629473091012\n",
      "\n"
     ]
    },
    {
     "name": "stderr",
     "output_type": "stream",
     "text": [
      "[I 2019-08-24 12:13:52,690] Finished trial#352 resulted in value: -0.7934629473091012. Current best value is -0.7945900253592559 with parameters: {'w_lr': 0.025753243505792785, 'w_lda': 0.1096309890212957, 'w_sv': 0.569700349804581, 'w_xgb': 0.2604458715409301, 'w_lgbm': 0.2664801138693, 'w_mlp': 0.964959295713791}.\n"
     ]
    },
    {
     "name": "stdout",
     "output_type": "stream",
     "text": [
      "[w_lr, w_lda, w_sv, w_xgb, w_lgbm,w_cb ] =  [0.034 0.145 0.607 0.249 0.215 0.    0.896]\n",
      "norm =  [0.016 0.068 0.283 0.116 0.1   0.    0.417]\n",
      "AUC all:  0.7909270216962525\n",
      "\n"
     ]
    },
    {
     "name": "stderr",
     "output_type": "stream",
     "text": [
      "[I 2019-08-24 12:13:53,374] Finished trial#353 resulted in value: -0.7909270216962525. Current best value is -0.7945900253592559 with parameters: {'w_lr': 0.025753243505792785, 'w_lda': 0.1096309890212957, 'w_sv': 0.569700349804581, 'w_xgb': 0.2604458715409301, 'w_lgbm': 0.2664801138693, 'w_mlp': 0.964959295713791}.\n"
     ]
    },
    {
     "name": "stdout",
     "output_type": "stream",
     "text": [
      "[w_lr, w_lda, w_sv, w_xgb, w_lgbm,w_cb ] =  [0.017 0.099 0.585 0.214 0.259 0.    0.917]\n",
      "norm =  [0.008 0.047 0.28  0.102 0.124 0.    0.439]\n",
      "AUC all:  0.7930402930402931\n",
      "\n"
     ]
    },
    {
     "name": "stderr",
     "output_type": "stream",
     "text": [
      "[I 2019-08-24 12:13:54,051] Finished trial#354 resulted in value: -0.7930402930402931. Current best value is -0.7945900253592559 with parameters: {'w_lr': 0.025753243505792785, 'w_lda': 0.1096309890212957, 'w_sv': 0.569700349804581, 'w_xgb': 0.2604458715409301, 'w_lgbm': 0.2664801138693, 'w_mlp': 0.964959295713791}.\n"
     ]
    },
    {
     "name": "stdout",
     "output_type": "stream",
     "text": [
      "[w_lr, w_lda, w_sv, w_xgb, w_lgbm,w_cb ] =  [0.061 0.044 0.568 0.179 0.458 0.    0.949]\n",
      "norm =  [0.027 0.019 0.252 0.079 0.203 0.    0.42 ]\n",
      "AUC all:  0.7867004790081713\n",
      "\n"
     ]
    },
    {
     "name": "stderr",
     "output_type": "stream",
     "text": [
      "[I 2019-08-24 12:13:54,732] Finished trial#355 resulted in value: -0.7867004790081713. Current best value is -0.7945900253592559 with parameters: {'w_lr': 0.025753243505792785, 'w_lda': 0.1096309890212957, 'w_sv': 0.569700349804581, 'w_xgb': 0.2604458715409301, 'w_lgbm': 0.2664801138693, 'w_mlp': 0.964959295713791}.\n"
     ]
    },
    {
     "name": "stdout",
     "output_type": "stream",
     "text": [
      "[w_lr, w_lda, w_sv, w_xgb, w_lgbm,w_cb ] =  [0.104 0.074 0.629 0.292 0.305 0.    0.906]\n",
      "norm =  [0.045 0.032 0.272 0.126 0.132 0.    0.392]\n",
      "AUC all:  0.7930402930402931\n",
      "\n"
     ]
    },
    {
     "name": "stderr",
     "output_type": "stream",
     "text": [
      "[I 2019-08-24 12:13:55,411] Finished trial#356 resulted in value: -0.7930402930402931. Current best value is -0.7945900253592559 with parameters: {'w_lr': 0.025753243505792785, 'w_lda': 0.1096309890212957, 'w_sv': 0.569700349804581, 'w_xgb': 0.2604458715409301, 'w_lgbm': 0.2664801138693, 'w_mlp': 0.964959295713791}.\n"
     ]
    },
    {
     "name": "stdout",
     "output_type": "stream",
     "text": [
      "[w_lr, w_lda, w_sv, w_xgb, w_lgbm,w_cb ] =  [0.001 0.088 0.7   0.265 0.355 0.    0.966]\n",
      "norm =  [0.    0.037 0.295 0.112 0.149 0.    0.407]\n",
      "AUC all:  0.7906452521837137\n",
      "\n"
     ]
    },
    {
     "name": "stderr",
     "output_type": "stream",
     "text": [
      "[I 2019-08-24 12:13:56,097] Finished trial#357 resulted in value: -0.7906452521837137. Current best value is -0.7945900253592559 with parameters: {'w_lr': 0.025753243505792785, 'w_lda': 0.1096309890212957, 'w_sv': 0.569700349804581, 'w_xgb': 0.2604458715409301, 'w_lgbm': 0.2664801138693, 'w_mlp': 0.964959295713791}.\n"
     ]
    },
    {
     "name": "stdout",
     "output_type": "stream",
     "text": [
      "[w_lr, w_lda, w_sv, w_xgb, w_lgbm,w_cb ] =  [0.036 0.11  0.594 0.223 0.275 0.    0.924]\n",
      "norm =  [0.017 0.051 0.275 0.103 0.127 0.    0.428]\n",
      "AUC all:  0.7927585235277542\n",
      "\n"
     ]
    },
    {
     "name": "stderr",
     "output_type": "stream",
     "text": [
      "[I 2019-08-24 12:13:56,778] Finished trial#358 resulted in value: -0.7927585235277542. Current best value is -0.7945900253592559 with parameters: {'w_lr': 0.025753243505792785, 'w_lda': 0.1096309890212957, 'w_sv': 0.569700349804581, 'w_xgb': 0.2604458715409301, 'w_lgbm': 0.2664801138693, 'w_mlp': 0.964959295713791}.\n"
     ]
    },
    {
     "name": "stdout",
     "output_type": "stream",
     "text": [
      "[w_lr, w_lda, w_sv, w_xgb, w_lgbm,w_cb ] =  [0.044 0.131 0.621 0.243 0.277 0.    0.911]\n",
      "norm =  [0.02  0.059 0.279 0.109 0.125 0.    0.409]\n",
      "AUC all:  0.792617638771485\n",
      "\n"
     ]
    },
    {
     "name": "stderr",
     "output_type": "stream",
     "text": [
      "[I 2019-08-24 12:13:57,459] Finished trial#359 resulted in value: -0.792617638771485. Current best value is -0.7945900253592559 with parameters: {'w_lr': 0.025753243505792785, 'w_lda': 0.1096309890212957, 'w_sv': 0.569700349804581, 'w_xgb': 0.2604458715409301, 'w_lgbm': 0.2664801138693, 'w_mlp': 0.964959295713791}.\n"
     ]
    },
    {
     "name": "stdout",
     "output_type": "stream",
     "text": [
      "[w_lr, w_lda, w_sv, w_xgb, w_lgbm,w_cb ] =  [0.017 0.169 0.601 0.212 0.24  0.    0.941]\n",
      "norm =  [0.008 0.077 0.276 0.097 0.11  0.    0.432]\n",
      "AUC all:  0.7905043674274443\n",
      "\n"
     ]
    },
    {
     "name": "stderr",
     "output_type": "stream",
     "text": [
      "[I 2019-08-24 12:13:58,144] Finished trial#360 resulted in value: -0.7905043674274443. Current best value is -0.7945900253592559 with parameters: {'w_lr': 0.025753243505792785, 'w_lda': 0.1096309890212957, 'w_sv': 0.569700349804581, 'w_xgb': 0.2604458715409301, 'w_lgbm': 0.2664801138693, 'w_mlp': 0.964959295713791}.\n"
     ]
    },
    {
     "name": "stdout",
     "output_type": "stream",
     "text": [
      "[w_lr, w_lda, w_sv, w_xgb, w_lgbm,w_cb ] =  [0.001 0.105 0.576 0.252 0.256 0.    0.928]\n",
      "norm =  [0.    0.05  0.272 0.119 0.121 0.    0.438]\n",
      "AUC all:  0.7945900253592559\n",
      "\n"
     ]
    },
    {
     "name": "stderr",
     "output_type": "stream",
     "text": [
      "[I 2019-08-24 12:13:58,831] Finished trial#361 resulted in value: -0.7945900253592559. Current best value is -0.7945900253592559 with parameters: {'w_lr': 0.025753243505792785, 'w_lda': 0.1096309890212957, 'w_sv': 0.569700349804581, 'w_xgb': 0.2604458715409301, 'w_lgbm': 0.2664801138693, 'w_mlp': 0.964959295713791}.\n"
     ]
    },
    {
     "name": "stdout",
     "output_type": "stream",
     "text": [
      "[w_lr, w_lda, w_sv, w_xgb, w_lgbm,w_cb ] =  [0.001 0.136 0.578 0.315 0.192 0.    0.63 ]\n",
      "norm =  [0.    0.074 0.312 0.17  0.104 0.    0.34 ]\n",
      "AUC all:  0.7907861369399831\n",
      "\n"
     ]
    },
    {
     "name": "stderr",
     "output_type": "stream",
     "text": [
      "[I 2019-08-24 12:13:59,530] Finished trial#362 resulted in value: -0.7907861369399831. Current best value is -0.7945900253592559 with parameters: {'w_lr': 0.025753243505792785, 'w_lda': 0.1096309890212957, 'w_sv': 0.569700349804581, 'w_xgb': 0.2604458715409301, 'w_lgbm': 0.2664801138693, 'w_mlp': 0.964959295713791}.\n"
     ]
    },
    {
     "name": "stdout",
     "output_type": "stream",
     "text": [
      "[w_lr, w_lda, w_sv, w_xgb, w_lgbm,w_cb ] =  [0.031 0.543 0.644 0.253 0.299 0.    0.916]\n",
      "norm =  [0.012 0.202 0.24  0.094 0.111 0.    0.341]\n",
      "AUC all:  0.7841645533953226\n",
      "\n"
     ]
    },
    {
     "name": "stderr",
     "output_type": "stream",
     "text": [
      "[I 2019-08-24 12:14:00,211] Finished trial#363 resulted in value: -0.7841645533953226. Current best value is -0.7945900253592559 with parameters: {'w_lr': 0.025753243505792785, 'w_lda': 0.1096309890212957, 'w_sv': 0.569700349804581, 'w_xgb': 0.2604458715409301, 'w_lgbm': 0.2664801138693, 'w_mlp': 0.964959295713791}.\n"
     ]
    },
    {
     "name": "stdout",
     "output_type": "stream",
     "text": [
      "[w_lr, w_lda, w_sv, w_xgb, w_lgbm,w_cb ] =  [0.    0.112 0.558 0.297 0.227 0.    0.935]\n",
      "norm =  [0.    0.053 0.262 0.139 0.107 0.    0.439]\n",
      "AUC all:  0.7902225979149056\n",
      "\n"
     ]
    },
    {
     "name": "stderr",
     "output_type": "stream",
     "text": [
      "[I 2019-08-24 12:14:00,903] Finished trial#364 resulted in value: -0.7902225979149056. Current best value is -0.7945900253592559 with parameters: {'w_lr': 0.025753243505792785, 'w_lda': 0.1096309890212957, 'w_sv': 0.569700349804581, 'w_xgb': 0.2604458715409301, 'w_lgbm': 0.2664801138693, 'w_mlp': 0.964959295713791}.\n"
     ]
    },
    {
     "name": "stdout",
     "output_type": "stream",
     "text": [
      "[w_lr, w_lda, w_sv, w_xgb, w_lgbm,w_cb ] =  [0.54  0.15  0.568 0.281 0.257 0.    0.925]\n",
      "norm =  [0.198 0.055 0.209 0.103 0.094 0.    0.34 ]\n",
      "AUC all:  0.7914905607213298\n",
      "\n"
     ]
    },
    {
     "name": "stderr",
     "output_type": "stream",
     "text": [
      "[I 2019-08-24 12:14:01,590] Finished trial#365 resulted in value: -0.7914905607213298. Current best value is -0.7945900253592559 with parameters: {'w_lr': 0.025753243505792785, 'w_lda': 0.1096309890212957, 'w_sv': 0.569700349804581, 'w_xgb': 0.2604458715409301, 'w_lgbm': 0.2664801138693, 'w_mlp': 0.964959295713791}.\n"
     ]
    },
    {
     "name": "stdout",
     "output_type": "stream",
     "text": [
      "[w_lr, w_lda, w_sv, w_xgb, w_lgbm,w_cb ] =  [0.012 0.123 0.684 0.238 0.246 0.    0.946]\n",
      "norm =  [0.005 0.055 0.304 0.106 0.109 0.    0.421]\n",
      "AUC all:  0.7923358692589462\n",
      "\n"
     ]
    },
    {
     "name": "stderr",
     "output_type": "stream",
     "text": [
      "[I 2019-08-24 12:14:02,295] Finished trial#366 resulted in value: -0.7923358692589462. Current best value is -0.7945900253592559 with parameters: {'w_lr': 0.025753243505792785, 'w_lda': 0.1096309890212957, 'w_sv': 0.569700349804581, 'w_xgb': 0.2604458715409301, 'w_lgbm': 0.2664801138693, 'w_mlp': 0.964959295713791}.\n"
     ]
    },
    {
     "name": "stdout",
     "output_type": "stream",
     "text": [
      "[w_lr, w_lda, w_sv, w_xgb, w_lgbm,w_cb ] =  [0.069 0.068 0.546 0.269 0.318 0.    0.931]\n",
      "norm =  [0.031 0.031 0.248 0.122 0.145 0.    0.423]\n",
      "AUC all:  0.7914905607213301\n",
      "\n"
     ]
    },
    {
     "name": "stderr",
     "output_type": "stream",
     "text": [
      "[I 2019-08-24 12:14:03,015] Finished trial#367 resulted in value: -0.7914905607213301. Current best value is -0.7945900253592559 with parameters: {'w_lr': 0.025753243505792785, 'w_lda': 0.1096309890212957, 'w_sv': 0.569700349804581, 'w_xgb': 0.2604458715409301, 'w_lgbm': 0.2664801138693, 'w_mlp': 0.964959295713791}.\n"
     ]
    },
    {
     "name": "stdout",
     "output_type": "stream",
     "text": [
      "[w_lr, w_lda, w_sv, w_xgb, w_lgbm,w_cb ] =  [0.015 0.091 0.658 0.326 0.211 0.    0.866]\n",
      "norm =  [0.007 0.042 0.304 0.15  0.098 0.    0.4  ]\n",
      "AUC all:  0.7883910960834037\n",
      "\n"
     ]
    },
    {
     "name": "stderr",
     "output_type": "stream",
     "text": [
      "[I 2019-08-24 12:14:03,721] Finished trial#368 resulted in value: -0.7883910960834037. Current best value is -0.7945900253592559 with parameters: {'w_lr': 0.025753243505792785, 'w_lda': 0.1096309890212957, 'w_sv': 0.569700349804581, 'w_xgb': 0.2604458715409301, 'w_lgbm': 0.2664801138693, 'w_mlp': 0.964959295713791}.\n"
     ]
    },
    {
     "name": "stdout",
     "output_type": "stream",
     "text": [
      "[w_lr, w_lda, w_sv, w_xgb, w_lgbm,w_cb ] =  [0.088 0.097 0.511 0.263 0.287 0.    0.953]\n",
      "norm =  [0.04  0.044 0.232 0.12  0.13  0.    0.433]\n",
      "AUC all:  0.7937447168216398\n",
      "\n"
     ]
    },
    {
     "name": "stderr",
     "output_type": "stream",
     "text": [
      "[I 2019-08-24 12:14:04,541] Finished trial#369 resulted in value: -0.7937447168216398. Current best value is -0.7945900253592559 with parameters: {'w_lr': 0.025753243505792785, 'w_lda': 0.1096309890212957, 'w_sv': 0.569700349804581, 'w_xgb': 0.2604458715409301, 'w_lgbm': 0.2664801138693, 'w_mlp': 0.964959295713791}.\n"
     ]
    },
    {
     "name": "stdout",
     "output_type": "stream",
     "text": [
      "[w_lr, w_lda, w_sv, w_xgb, w_lgbm,w_cb ] =  [0.088 0.127 0.675 0.3   0.295 0.    0.984]\n",
      "norm =  [0.036 0.051 0.273 0.121 0.119 0.    0.399]\n",
      "AUC all:  0.7934629473091012\n",
      "\n"
     ]
    },
    {
     "name": "stderr",
     "output_type": "stream",
     "text": [
      "[I 2019-08-24 12:14:05,267] Finished trial#370 resulted in value: -0.7934629473091012. Current best value is -0.7945900253592559 with parameters: {'w_lr': 0.025753243505792785, 'w_lda': 0.1096309890212957, 'w_sv': 0.569700349804581, 'w_xgb': 0.2604458715409301, 'w_lgbm': 0.2664801138693, 'w_mlp': 0.964959295713791}.\n"
     ]
    },
    {
     "name": "stdout",
     "output_type": "stream",
     "text": [
      "[w_lr, w_lda, w_sv, w_xgb, w_lgbm,w_cb ] =  [0.053 0.187 0.636 0.26  0.327 0.    0.967]\n",
      "norm =  [0.022 0.077 0.262 0.107 0.134 0.    0.398]\n",
      "AUC all:  0.7927585235277543\n",
      "\n"
     ]
    },
    {
     "name": "stderr",
     "output_type": "stream",
     "text": [
      "[I 2019-08-24 12:14:06,063] Finished trial#371 resulted in value: -0.7927585235277543. Current best value is -0.7945900253592559 with parameters: {'w_lr': 0.025753243505792785, 'w_lda': 0.1096309890212957, 'w_sv': 0.569700349804581, 'w_xgb': 0.2604458715409301, 'w_lgbm': 0.2664801138693, 'w_mlp': 0.964959295713791}.\n"
     ]
    },
    {
     "name": "stdout",
     "output_type": "stream",
     "text": [
      "[w_lr, w_lda, w_sv, w_xgb, w_lgbm,w_cb ] =  [0.051 0.087 0.5   0.285 0.229 0.    0.884]\n",
      "norm =  [0.025 0.043 0.246 0.14  0.112 0.    0.434]\n",
      "AUC all:  0.7916314454775993\n",
      "\n"
     ]
    },
    {
     "name": "stderr",
     "output_type": "stream",
     "text": [
      "[I 2019-08-24 12:14:06,866] Finished trial#372 resulted in value: -0.7916314454775993. Current best value is -0.7945900253592559 with parameters: {'w_lr': 0.025753243505792785, 'w_lda': 0.1096309890212957, 'w_sv': 0.569700349804581, 'w_xgb': 0.2604458715409301, 'w_lgbm': 0.2664801138693, 'w_mlp': 0.964959295713791}.\n"
     ]
    },
    {
     "name": "stdout",
     "output_type": "stream",
     "text": [
      "[w_lr, w_lda, w_sv, w_xgb, w_lgbm,w_cb ] =  [0.    0.161 0.575 0.233 0.262 0.    0.939]\n",
      "norm =  [0.    0.074 0.265 0.107 0.121 0.    0.433]\n",
      "AUC all:  0.7921949845026769\n",
      "\n"
     ]
    },
    {
     "name": "stderr",
     "output_type": "stream",
     "text": [
      "[I 2019-08-24 12:14:07,572] Finished trial#373 resulted in value: -0.7921949845026769. Current best value is -0.7945900253592559 with parameters: {'w_lr': 0.025753243505792785, 'w_lda': 0.1096309890212957, 'w_sv': 0.569700349804581, 'w_xgb': 0.2604458715409301, 'w_lgbm': 0.2664801138693, 'w_mlp': 0.964959295713791}.\n"
     ]
    },
    {
     "name": "stdout",
     "output_type": "stream",
     "text": [
      "[w_lr, w_lda, w_sv, w_xgb, w_lgbm,w_cb ] =  [0.079 0.058 0.514 0.277 0.308 0.    0.956]\n",
      "norm =  [0.036 0.027 0.235 0.127 0.14  0.    0.436]\n",
      "AUC all:  0.7916314454775994\n",
      "\n"
     ]
    },
    {
     "name": "stderr",
     "output_type": "stream",
     "text": [
      "[I 2019-08-24 12:14:08,361] Finished trial#374 resulted in value: -0.7916314454775994. Current best value is -0.7945900253592559 with parameters: {'w_lr': 0.025753243505792785, 'w_lda': 0.1096309890212957, 'w_sv': 0.569700349804581, 'w_xgb': 0.2604458715409301, 'w_lgbm': 0.2664801138693, 'w_mlp': 0.964959295713791}.\n"
     ]
    },
    {
     "name": "stdout",
     "output_type": "stream",
     "text": [
      "[w_lr, w_lda, w_sv, w_xgb, w_lgbm,w_cb ] =  [0.031 0.101 0.507 0.345 0.283 0.    0.954]\n",
      "norm =  [0.014 0.046 0.228 0.155 0.127 0.    0.43 ]\n",
      "AUC all:  0.7919132149901381\n",
      "\n"
     ]
    },
    {
     "name": "stderr",
     "output_type": "stream",
     "text": [
      "[I 2019-08-24 12:14:09,116] Finished trial#375 resulted in value: -0.7919132149901381. Current best value is -0.7945900253592559 with parameters: {'w_lr': 0.025753243505792785, 'w_lda': 0.1096309890212957, 'w_sv': 0.569700349804581, 'w_xgb': 0.2604458715409301, 'w_lgbm': 0.2664801138693, 'w_mlp': 0.964959295713791}.\n"
     ]
    },
    {
     "name": "stdout",
     "output_type": "stream",
     "text": [
      "[w_lr, w_lda, w_sv, w_xgb, w_lgbm,w_cb ] =  [0.748 0.136 0.717 0.266 0.268 0.    0.965]\n",
      "norm =  [0.241 0.044 0.231 0.086 0.086 0.    0.311]\n",
      "AUC all:  0.7921949845026768\n",
      "\n"
     ]
    },
    {
     "name": "stderr",
     "output_type": "stream",
     "text": [
      "[I 2019-08-24 12:14:09,839] Finished trial#376 resulted in value: -0.7921949845026768. Current best value is -0.7945900253592559 with parameters: {'w_lr': 0.025753243505792785, 'w_lda': 0.1096309890212957, 'w_sv': 0.569700349804581, 'w_xgb': 0.2604458715409301, 'w_lgbm': 0.2664801138693, 'w_mlp': 0.964959295713791}.\n"
     ]
    },
    {
     "name": "stdout",
     "output_type": "stream",
     "text": [
      "[w_lr, w_lda, w_sv, w_xgb, w_lgbm,w_cb ] =  [0.104 0.051 0.52  0.314 0.29  0.    0.931]\n",
      "norm =  [0.047 0.023 0.235 0.142 0.131 0.    0.421]\n",
      "AUC all:  0.7921949845026768\n",
      "\n"
     ]
    },
    {
     "name": "stderr",
     "output_type": "stream",
     "text": [
      "[I 2019-08-24 12:14:10,549] Finished trial#377 resulted in value: -0.7921949845026768. Current best value is -0.7945900253592559 with parameters: {'w_lr': 0.025753243505792785, 'w_lda': 0.1096309890212957, 'w_sv': 0.569700349804581, 'w_xgb': 0.2604458715409301, 'w_lgbm': 0.2664801138693, 'w_mlp': 0.964959295713791}.\n"
     ]
    },
    {
     "name": "stdout",
     "output_type": "stream",
     "text": [
      "[w_lr, w_lda, w_sv, w_xgb, w_lgbm,w_cb ] =  [0.04  0.106 0.626 0.247 0.328 0.    0.916]\n",
      "norm =  [0.018 0.047 0.276 0.109 0.145 0.    0.405]\n",
      "AUC all:  0.7914905607213301\n",
      "\n"
     ]
    },
    {
     "name": "stderr",
     "output_type": "stream",
     "text": [
      "[I 2019-08-24 12:14:11,286] Finished trial#378 resulted in value: -0.7914905607213301. Current best value is -0.7945900253592559 with parameters: {'w_lr': 0.025753243505792785, 'w_lda': 0.1096309890212957, 'w_sv': 0.569700349804581, 'w_xgb': 0.2604458715409301, 'w_lgbm': 0.2664801138693, 'w_mlp': 0.964959295713791}.\n"
     ]
    },
    {
     "name": "stdout",
     "output_type": "stream",
     "text": [
      "[w_lr, w_lda, w_sv, w_xgb, w_lgbm,w_cb ] =  [0.066 0.112 0.631 0.263 0.345 0.    0.904]\n",
      "norm =  [0.029 0.048 0.272 0.113 0.149 0.    0.389]\n",
      "AUC all:  0.7906452521837137\n",
      "\n"
     ]
    },
    {
     "name": "stderr",
     "output_type": "stream",
     "text": [
      "[I 2019-08-24 12:14:12,045] Finished trial#379 resulted in value: -0.7906452521837137. Current best value is -0.7945900253592559 with parameters: {'w_lr': 0.025753243505792785, 'w_lda': 0.1096309890212957, 'w_sv': 0.569700349804581, 'w_xgb': 0.2604458715409301, 'w_lgbm': 0.2664801138693, 'w_mlp': 0.964959295713791}.\n"
     ]
    },
    {
     "name": "stdout",
     "output_type": "stream",
     "text": [
      "[w_lr, w_lda, w_sv, w_xgb, w_lgbm,w_cb ] =  [0.071 0.008 0.526 0.294 0.281 0.    0.94 ]\n",
      "norm =  [0.033 0.004 0.248 0.139 0.132 0.    0.444]\n",
      "AUC all:  0.7914905607213298\n",
      "\n"
     ]
    },
    {
     "name": "stderr",
     "output_type": "stream",
     "text": [
      "[I 2019-08-24 12:14:12,761] Finished trial#380 resulted in value: -0.7914905607213298. Current best value is -0.7945900253592559 with parameters: {'w_lr': 0.025753243505792785, 'w_lda': 0.1096309890212957, 'w_sv': 0.569700349804581, 'w_xgb': 0.2604458715409301, 'w_lgbm': 0.2664801138693, 'w_mlp': 0.964959295713791}.\n"
     ]
    },
    {
     "name": "stdout",
     "output_type": "stream",
     "text": [
      "[w_lr, w_lda, w_sv, w_xgb, w_lgbm,w_cb ] =  [0.002 0.09  0.565 0.206 0.246 0.    0.952]\n",
      "norm =  [0.001 0.044 0.274 0.1   0.119 0.    0.462]\n",
      "AUC all:  0.7933220625528318\n",
      "\n"
     ]
    },
    {
     "name": "stderr",
     "output_type": "stream",
     "text": [
      "[I 2019-08-24 12:14:13,961] Finished trial#381 resulted in value: -0.7933220625528318. Current best value is -0.7945900253592559 with parameters: {'w_lr': 0.025753243505792785, 'w_lda': 0.1096309890212957, 'w_sv': 0.569700349804581, 'w_xgb': 0.2604458715409301, 'w_lgbm': 0.2664801138693, 'w_mlp': 0.964959295713791}.\n"
     ]
    },
    {
     "name": "stdout",
     "output_type": "stream",
     "text": [
      "[w_lr, w_lda, w_sv, w_xgb, w_lgbm,w_cb ] =  [0.02  0.144 0.692 0.24  0.262 0.    0.92 ]\n",
      "norm =  [0.009 0.063 0.304 0.105 0.115 0.    0.404]\n",
      "AUC all:  0.7923358692589462\n",
      "\n"
     ]
    },
    {
     "name": "stderr",
     "output_type": "stream",
     "text": [
      "[I 2019-08-24 12:14:14,686] Finished trial#382 resulted in value: -0.7923358692589462. Current best value is -0.7945900253592559 with parameters: {'w_lr': 0.025753243505792785, 'w_lda': 0.1096309890212957, 'w_sv': 0.569700349804581, 'w_xgb': 0.2604458715409301, 'w_lgbm': 0.2664801138693, 'w_mlp': 0.964959295713791}.\n"
     ]
    },
    {
     "name": "stdout",
     "output_type": "stream",
     "text": [
      "[w_lr, w_lda, w_sv, w_xgb, w_lgbm,w_cb ] =  [0.022 0.079 0.738 0.36  0.227 0.    0.895]\n",
      "norm =  [0.009 0.034 0.318 0.155 0.098 0.    0.386]\n",
      "AUC all:  0.7895181741335587\n",
      "\n"
     ]
    },
    {
     "name": "stderr",
     "output_type": "stream",
     "text": [
      "[I 2019-08-24 12:14:15,593] Finished trial#383 resulted in value: -0.7895181741335587. Current best value is -0.7945900253592559 with parameters: {'w_lr': 0.025753243505792785, 'w_lda': 0.1096309890212957, 'w_sv': 0.569700349804581, 'w_xgb': 0.2604458715409301, 'w_lgbm': 0.2664801138693, 'w_mlp': 0.964959295713791}.\n"
     ]
    },
    {
     "name": "stdout",
     "output_type": "stream",
     "text": [
      "[w_lr, w_lda, w_sv, w_xgb, w_lgbm,w_cb ] =  [0.04  0.122 0.615 0.254 0.295 0.    0.977]\n",
      "norm =  [0.017 0.053 0.267 0.11  0.128 0.    0.424]\n",
      "AUC all:  0.7933220625528318\n",
      "\n"
     ]
    },
    {
     "name": "stderr",
     "output_type": "stream",
     "text": [
      "[I 2019-08-24 12:14:16,323] Finished trial#384 resulted in value: -0.7933220625528318. Current best value is -0.7945900253592559 with parameters: {'w_lr': 0.025753243505792785, 'w_lda': 0.1096309890212957, 'w_sv': 0.569700349804581, 'w_xgb': 0.2604458715409301, 'w_lgbm': 0.2664801138693, 'w_mlp': 0.964959295713791}.\n"
     ]
    },
    {
     "name": "stdout",
     "output_type": "stream",
     "text": [
      "[w_lr, w_lda, w_sv, w_xgb, w_lgbm,w_cb ] =  [0.02  0.099 0.644 0.228 0.249 0.    0.956]\n",
      "norm =  [0.009 0.045 0.293 0.104 0.114 0.    0.435]\n",
      "AUC all:  0.7934629473091012\n",
      "\n"
     ]
    },
    {
     "name": "stderr",
     "output_type": "stream",
     "text": [
      "[I 2019-08-24 12:14:17,360] Finished trial#385 resulted in value: -0.7934629473091012. Current best value is -0.7945900253592559 with parameters: {'w_lr': 0.025753243505792785, 'w_lda': 0.1096309890212957, 'w_sv': 0.569700349804581, 'w_xgb': 0.2604458715409301, 'w_lgbm': 0.2664801138693, 'w_mlp': 0.964959295713791}.\n"
     ]
    },
    {
     "name": "stdout",
     "output_type": "stream",
     "text": [
      "[w_lr, w_lda, w_sv, w_xgb, w_lgbm,w_cb ] =  [0.016 0.094 0.591 0.216 0.2   0.    0.945]\n",
      "norm =  [0.008 0.046 0.286 0.105 0.097 0.    0.458]\n",
      "AUC all:  0.7913496759650606\n",
      "\n"
     ]
    },
    {
     "name": "stderr",
     "output_type": "stream",
     "text": [
      "[I 2019-08-24 12:14:18,130] Finished trial#386 resulted in value: -0.7913496759650606. Current best value is -0.7945900253592559 with parameters: {'w_lr': 0.025753243505792785, 'w_lda': 0.1096309890212957, 'w_sv': 0.569700349804581, 'w_xgb': 0.2604458715409301, 'w_lgbm': 0.2664801138693, 'w_mlp': 0.964959295713791}.\n"
     ]
    },
    {
     "name": "stdout",
     "output_type": "stream",
     "text": [
      "[w_lr, w_lda, w_sv, w_xgb, w_lgbm,w_cb ] =  [0.05  0.063 0.61  0.605 0.268 0.    0.884]\n",
      "norm =  [0.02  0.026 0.246 0.244 0.108 0.    0.357]\n",
      "AUC all:  0.788391096083404\n",
      "\n"
     ]
    },
    {
     "name": "stderr",
     "output_type": "stream",
     "text": [
      "[I 2019-08-24 12:14:18,857] Finished trial#387 resulted in value: -0.788391096083404. Current best value is -0.7945900253592559 with parameters: {'w_lr': 0.025753243505792785, 'w_lda': 0.1096309890212957, 'w_sv': 0.569700349804581, 'w_xgb': 0.2604458715409301, 'w_lgbm': 0.2664801138693, 'w_mlp': 0.964959295713791}.\n"
     ]
    },
    {
     "name": "stdout",
     "output_type": "stream",
     "text": [
      "[w_lr, w_lda, w_sv, w_xgb, w_lgbm,w_cb ] =  [0.003 0.123 0.582 0.187 0.237 0.    0.948]\n",
      "norm =  [0.002 0.059 0.28  0.09  0.114 0.    0.456]\n",
      "AUC all:  0.7917723302338686\n",
      "\n"
     ]
    },
    {
     "name": "stderr",
     "output_type": "stream",
     "text": [
      "[I 2019-08-24 12:14:19,745] Finished trial#388 resulted in value: -0.7917723302338686. Current best value is -0.7945900253592559 with parameters: {'w_lr': 0.025753243505792785, 'w_lda': 0.1096309890212957, 'w_sv': 0.569700349804581, 'w_xgb': 0.2604458715409301, 'w_lgbm': 0.2664801138693, 'w_mlp': 0.964959295713791}.\n"
     ]
    },
    {
     "name": "stdout",
     "output_type": "stream",
     "text": [
      "[w_lr, w_lda, w_sv, w_xgb, w_lgbm,w_cb ] =  [0.061 0.786 0.539 0.304 0.312 0.    0.928]\n",
      "norm =  [0.021 0.268 0.184 0.104 0.107 0.    0.317]\n",
      "AUC all:  0.7807833192448577\n",
      "\n"
     ]
    },
    {
     "name": "stderr",
     "output_type": "stream",
     "text": [
      "[I 2019-08-24 12:14:20,478] Finished trial#389 resulted in value: -0.7807833192448577. Current best value is -0.7945900253592559 with parameters: {'w_lr': 0.025753243505792785, 'w_lda': 0.1096309890212957, 'w_sv': 0.569700349804581, 'w_xgb': 0.2604458715409301, 'w_lgbm': 0.2664801138693, 'w_mlp': 0.964959295713791}.\n"
     ]
    },
    {
     "name": "stdout",
     "output_type": "stream",
     "text": [
      "[w_lr, w_lda, w_sv, w_xgb, w_lgbm,w_cb ] =  [0.035 0.077 0.708 0.428 0.217 0.    0.895]\n",
      "norm =  [0.015 0.033 0.3   0.181 0.092 0.    0.379]\n",
      "AUC all:  0.7889546351084813\n",
      "\n"
     ]
    },
    {
     "name": "stderr",
     "output_type": "stream",
     "text": [
      "[I 2019-08-24 12:14:21,404] Finished trial#390 resulted in value: -0.7889546351084813. Current best value is -0.7945900253592559 with parameters: {'w_lr': 0.025753243505792785, 'w_lda': 0.1096309890212957, 'w_sv': 0.569700349804581, 'w_xgb': 0.2604458715409301, 'w_lgbm': 0.2664801138693, 'w_mlp': 0.964959295713791}.\n"
     ]
    },
    {
     "name": "stdout",
     "output_type": "stream",
     "text": [
      "[w_lr, w_lda, w_sv, w_xgb, w_lgbm,w_cb ] =  [0.004 0.031 0.555 0.198 0.256 0.    0.996]\n",
      "norm =  [0.002 0.015 0.272 0.097 0.126 0.    0.488]\n",
      "AUC all:  0.7923358692589462\n",
      "\n"
     ]
    },
    {
     "name": "stderr",
     "output_type": "stream",
     "text": [
      "[I 2019-08-24 12:14:22,148] Finished trial#391 resulted in value: -0.7923358692589462. Current best value is -0.7945900253592559 with parameters: {'w_lr': 0.025753243505792785, 'w_lda': 0.1096309890212957, 'w_sv': 0.569700349804581, 'w_xgb': 0.2604458715409301, 'w_lgbm': 0.2664801138693, 'w_mlp': 0.964959295713791}.\n"
     ]
    },
    {
     "name": "stdout",
     "output_type": "stream",
     "text": [
      "[w_lr, w_lda, w_sv, w_xgb, w_lgbm,w_cb ] =  [0.033 0.106 0.654 0.273 0.283 0.    0.968]\n",
      "norm =  [0.014 0.046 0.282 0.118 0.122 0.    0.418]\n",
      "AUC all:  0.7941673710904479\n",
      "\n"
     ]
    },
    {
     "name": "stderr",
     "output_type": "stream",
     "text": [
      "[I 2019-08-24 12:14:23,315] Finished trial#392 resulted in value: -0.7941673710904479. Current best value is -0.7945900253592559 with parameters: {'w_lr': 0.025753243505792785, 'w_lda': 0.1096309890212957, 'w_sv': 0.569700349804581, 'w_xgb': 0.2604458715409301, 'w_lgbm': 0.2664801138693, 'w_mlp': 0.964959295713791}.\n"
     ]
    },
    {
     "name": "stdout",
     "output_type": "stream",
     "text": [
      "[w_lr, w_lda, w_sv, w_xgb, w_lgbm,w_cb ] =  [0.084 0.051 0.53  0.274 0.303 0.    0.974]\n",
      "norm =  [0.038 0.023 0.239 0.124 0.137 0.    0.44 ]\n",
      "AUC all:  0.7919132149901381\n",
      "\n"
     ]
    },
    {
     "name": "stderr",
     "output_type": "stream",
     "text": [
      "[I 2019-08-24 12:14:24,051] Finished trial#393 resulted in value: -0.7919132149901381. Current best value is -0.7945900253592559 with parameters: {'w_lr': 0.025753243505792785, 'w_lda': 0.1096309890212957, 'w_sv': 0.569700349804581, 'w_xgb': 0.2604458715409301, 'w_lgbm': 0.2664801138693, 'w_mlp': 0.964959295713791}.\n"
     ]
    },
    {
     "name": "stdout",
     "output_type": "stream",
     "text": [
      "[w_lr, w_lda, w_sv, w_xgb, w_lgbm,w_cb ] =  [0.048 0.158 0.67  0.28  0.286 0.    0.971]\n",
      "norm =  [0.02  0.065 0.278 0.116 0.118 0.    0.402]\n",
      "AUC all:  0.7924767540152156\n",
      "\n"
     ]
    },
    {
     "name": "stderr",
     "output_type": "stream",
     "text": [
      "[I 2019-08-24 12:14:24,937] Finished trial#394 resulted in value: -0.7924767540152156. Current best value is -0.7945900253592559 with parameters: {'w_lr': 0.025753243505792785, 'w_lda': 0.1096309890212957, 'w_sv': 0.569700349804581, 'w_xgb': 0.2604458715409301, 'w_lgbm': 0.2664801138693, 'w_mlp': 0.964959295713791}.\n"
     ]
    },
    {
     "name": "stdout",
     "output_type": "stream",
     "text": [
      "[w_lr, w_lda, w_sv, w_xgb, w_lgbm,w_cb ] =  [0.001 0.136 0.682 0.301 0.246 0.    0.988]\n",
      "norm =  [0.    0.058 0.29  0.128 0.104 0.    0.42 ]\n",
      "AUC all:  0.7907861369399831\n",
      "\n"
     ]
    },
    {
     "name": "stderr",
     "output_type": "stream",
     "text": [
      "[I 2019-08-24 12:14:25,673] Finished trial#395 resulted in value: -0.7907861369399831. Current best value is -0.7945900253592559 with parameters: {'w_lr': 0.025753243505792785, 'w_lda': 0.1096309890212957, 'w_sv': 0.569700349804581, 'w_xgb': 0.2604458715409301, 'w_lgbm': 0.2664801138693, 'w_mlp': 0.964959295713791}.\n"
     ]
    },
    {
     "name": "stdout",
     "output_type": "stream",
     "text": [
      "[w_lr, w_lda, w_sv, w_xgb, w_lgbm,w_cb ] =  [0.031 0.082 0.66  0.32  0.641 0.    0.965]\n",
      "norm =  [0.012 0.03  0.245 0.118 0.238 0.    0.357]\n",
      "AUC all:  0.7855734009580163\n",
      "\n"
     ]
    },
    {
     "name": "stderr",
     "output_type": "stream",
     "text": [
      "[I 2019-08-24 12:14:26,607] Finished trial#396 resulted in value: -0.7855734009580163. Current best value is -0.7945900253592559 with parameters: {'w_lr': 0.025753243505792785, 'w_lda': 0.1096309890212957, 'w_sv': 0.569700349804581, 'w_xgb': 0.2604458715409301, 'w_lgbm': 0.2664801138693, 'w_mlp': 0.964959295713791}.\n"
     ]
    },
    {
     "name": "stdout",
     "output_type": "stream",
     "text": [
      "[w_lr, w_lda, w_sv, w_xgb, w_lgbm,w_cb ] =  [0.05  0.652 0.654 0.253 0.265 0.    0.982]\n",
      "norm =  [0.018 0.228 0.229 0.089 0.093 0.    0.344]\n",
      "AUC all:  0.7806424344885883\n",
      "\n"
     ]
    },
    {
     "name": "stderr",
     "output_type": "stream",
     "text": [
      "[I 2019-08-24 12:14:27,349] Finished trial#397 resulted in value: -0.7806424344885883. Current best value is -0.7945900253592559 with parameters: {'w_lr': 0.025753243505792785, 'w_lda': 0.1096309890212957, 'w_sv': 0.569700349804581, 'w_xgb': 0.2604458715409301, 'w_lgbm': 0.2664801138693, 'w_mlp': 0.964959295713791}.\n"
     ]
    },
    {
     "name": "stdout",
     "output_type": "stream",
     "text": [
      "[w_lr, w_lda, w_sv, w_xgb, w_lgbm,w_cb ] =  [0.023 0.114 0.648 0.235 0.282 0.    0.956]\n",
      "norm =  [0.01  0.05  0.287 0.104 0.125 0.    0.424]\n",
      "AUC all:  0.7927585235277542\n",
      "\n"
     ]
    },
    {
     "name": "stderr",
     "output_type": "stream",
     "text": [
      "[I 2019-08-24 12:14:28,441] Finished trial#398 resulted in value: -0.7927585235277542. Current best value is -0.7945900253592559 with parameters: {'w_lr': 0.025753243505792785, 'w_lda': 0.1096309890212957, 'w_sv': 0.569700349804581, 'w_xgb': 0.2604458715409301, 'w_lgbm': 0.2664801138693, 'w_mlp': 0.964959295713791}.\n"
     ]
    },
    {
     "name": "stdout",
     "output_type": "stream",
     "text": [
      "[w_lr, w_lda, w_sv, w_xgb, w_lgbm,w_cb ] =  [0.    0.102 0.729 0.281 0.306 0.    0.936]\n",
      "norm =  [0.    0.044 0.31  0.119 0.13  0.    0.397]\n",
      "AUC all:  0.7928994082840237\n",
      "\n"
     ]
    },
    {
     "name": "stderr",
     "output_type": "stream",
     "text": [
      "[I 2019-08-24 12:14:29,272] Finished trial#399 resulted in value: -0.7928994082840237. Current best value is -0.7945900253592559 with parameters: {'w_lr': 0.025753243505792785, 'w_lda': 0.1096309890212957, 'w_sv': 0.569700349804581, 'w_xgb': 0.2604458715409301, 'w_lgbm': 0.2664801138693, 'w_mlp': 0.964959295713791}.\n"
     ]
    },
    {
     "name": "stdout",
     "output_type": "stream",
     "text": [
      "[w_lr, w_lda, w_sv, w_xgb, w_lgbm,w_cb ] =  [0.322 0.176 0.57  0.329 0.328 0.    0.962]\n",
      "norm =  [0.12  0.066 0.212 0.123 0.122 0.    0.358]\n",
      "AUC all:  0.7928994082840237\n",
      "\n"
     ]
    },
    {
     "name": "stderr",
     "output_type": "stream",
     "text": [
      "[I 2019-08-24 12:14:30,539] Finished trial#400 resulted in value: -0.7928994082840237. Current best value is -0.7945900253592559 with parameters: {'w_lr': 0.025753243505792785, 'w_lda': 0.1096309890212957, 'w_sv': 0.569700349804581, 'w_xgb': 0.2604458715409301, 'w_lgbm': 0.2664801138693, 'w_mlp': 0.964959295713791}.\n"
     ]
    },
    {
     "name": "stdout",
     "output_type": "stream",
     "text": [
      "[w_lr, w_lda, w_sv, w_xgb, w_lgbm,w_cb ] =  [0.066 0.129 0.696 0.26  0.218 0.    0.953]\n",
      "norm =  [0.029 0.056 0.3   0.112 0.094 0.    0.41 ]\n",
      "AUC all:  0.7912087912087912\n",
      "\n"
     ]
    },
    {
     "name": "stderr",
     "output_type": "stream",
     "text": [
      "[I 2019-08-24 12:14:31,298] Finished trial#401 resulted in value: -0.7912087912087912. Current best value is -0.7945900253592559 with parameters: {'w_lr': 0.025753243505792785, 'w_lda': 0.1096309890212957, 'w_sv': 0.569700349804581, 'w_xgb': 0.2604458715409301, 'w_lgbm': 0.2664801138693, 'w_mlp': 0.964959295713791}.\n"
     ]
    },
    {
     "name": "stdout",
     "output_type": "stream",
     "text": [
      "[w_lr, w_lda, w_sv, w_xgb, w_lgbm,w_cb ] =  [0.032 0.147 0.641 0.29  0.286 0.    0.92 ]\n",
      "norm =  [0.014 0.064 0.277 0.125 0.124 0.    0.397]\n",
      "AUC all:  0.7928994082840237\n",
      "\n"
     ]
    },
    {
     "name": "stderr",
     "output_type": "stream",
     "text": [
      "[I 2019-08-24 12:14:32,074] Finished trial#402 resulted in value: -0.7928994082840237. Current best value is -0.7945900253592559 with parameters: {'w_lr': 0.025753243505792785, 'w_lda': 0.1096309890212957, 'w_sv': 0.569700349804581, 'w_xgb': 0.2604458715409301, 'w_lgbm': 0.2664801138693, 'w_mlp': 0.964959295713791}.\n"
     ]
    },
    {
     "name": "stdout",
     "output_type": "stream",
     "text": [
      "[w_lr, w_lda, w_sv, w_xgb, w_lgbm,w_cb ] =  [0.046 0.112 0.64  0.728 0.27  0.    0.972]\n",
      "norm =  [0.017 0.04  0.231 0.263 0.098 0.    0.351]\n",
      "AUC all:  0.7867004790081713\n",
      "\n"
     ]
    },
    {
     "name": "stderr",
     "output_type": "stream",
     "text": [
      "[I 2019-08-24 12:14:32,869] Finished trial#403 resulted in value: -0.7867004790081713. Current best value is -0.7945900253592559 with parameters: {'w_lr': 0.025753243505792785, 'w_lda': 0.1096309890212957, 'w_sv': 0.569700349804581, 'w_xgb': 0.2604458715409301, 'w_lgbm': 0.2664801138693, 'w_mlp': 0.964959295713791}.\n"
     ]
    },
    {
     "name": "stdout",
     "output_type": "stream",
     "text": [
      "[w_lr, w_lda, w_sv, w_xgb, w_lgbm,w_cb ] =  [0.    0.09  0.716 0.238 0.237 0.    0.937]\n",
      "norm =  [0.    0.041 0.323 0.107 0.107 0.    0.423]\n",
      "AUC all:  0.793462947309101\n",
      "\n"
     ]
    },
    {
     "name": "stderr",
     "output_type": "stream",
     "text": [
      "[I 2019-08-24 12:14:33,875] Finished trial#404 resulted in value: -0.793462947309101. Current best value is -0.7945900253592559 with parameters: {'w_lr': 0.025753243505792785, 'w_lda': 0.1096309890212957, 'w_sv': 0.569700349804581, 'w_xgb': 0.2604458715409301, 'w_lgbm': 0.2664801138693, 'w_mlp': 0.964959295713791}.\n"
     ]
    },
    {
     "name": "stdout",
     "output_type": "stream",
     "text": [
      "[w_lr, w_lda, w_sv, w_xgb, w_lgbm,w_cb ] =  [0.001 0.067 0.626 0.165 0.253 0.    0.849]\n",
      "norm =  [0.001 0.034 0.319 0.084 0.129 0.    0.433]\n",
      "AUC all:  0.7917723302338687\n",
      "\n"
     ]
    },
    {
     "name": "stderr",
     "output_type": "stream",
     "text": [
      "[I 2019-08-24 12:14:34,635] Finished trial#405 resulted in value: -0.7917723302338687. Current best value is -0.7945900253592559 with parameters: {'w_lr': 0.025753243505792785, 'w_lda': 0.1096309890212957, 'w_sv': 0.569700349804581, 'w_xgb': 0.2604458715409301, 'w_lgbm': 0.2664801138693, 'w_mlp': 0.964959295713791}.\n"
     ]
    },
    {
     "name": "stdout",
     "output_type": "stream",
     "text": [
      "[w_lr, w_lda, w_sv, w_xgb, w_lgbm,w_cb ] =  [0.643 0.105 0.623 0.256 0.383 0.    0.909]\n",
      "norm =  [0.22  0.036 0.213 0.088 0.131 0.    0.311]\n",
      "AUC all:  0.7888137503522118\n",
      "\n"
     ]
    },
    {
     "name": "stderr",
     "output_type": "stream",
     "text": [
      "[I 2019-08-24 12:14:35,718] Finished trial#406 resulted in value: -0.7888137503522118. Current best value is -0.7945900253592559 with parameters: {'w_lr': 0.025753243505792785, 'w_lda': 0.1096309890212957, 'w_sv': 0.569700349804581, 'w_xgb': 0.2604458715409301, 'w_lgbm': 0.2664801138693, 'w_mlp': 0.964959295713791}.\n"
     ]
    },
    {
     "name": "stdout",
     "output_type": "stream",
     "text": [
      "[w_lr, w_lda, w_sv, w_xgb, w_lgbm,w_cb ] =  [0.1   0.041 0.535 0.275 0.352 0.    0.929]\n",
      "norm =  [0.045 0.018 0.24  0.123 0.158 0.    0.416]\n",
      "AUC all:  0.7907861369399831\n",
      "\n"
     ]
    },
    {
     "name": "stderr",
     "output_type": "stream",
     "text": [
      "[I 2019-08-24 12:14:36,490] Finished trial#407 resulted in value: -0.7907861369399831. Current best value is -0.7945900253592559 with parameters: {'w_lr': 0.025753243505792785, 'w_lda': 0.1096309890212957, 'w_sv': 0.569700349804581, 'w_xgb': 0.2604458715409301, 'w_lgbm': 0.2664801138693, 'w_mlp': 0.964959295713791}.\n"
     ]
    },
    {
     "name": "stdout",
     "output_type": "stream",
     "text": [
      "[w_lr, w_lda, w_sv, w_xgb, w_lgbm,w_cb ] =  [0.025 0.072 0.605 0.308 0.187 0.    0.873]\n",
      "norm =  [0.012 0.035 0.292 0.149 0.09  0.    0.421]\n",
      "AUC all:  0.7890955198647505\n",
      "\n"
     ]
    },
    {
     "name": "stderr",
     "output_type": "stream",
     "text": [
      "[I 2019-08-24 12:14:37,653] Finished trial#408 resulted in value: -0.7890955198647505. Current best value is -0.7945900253592559 with parameters: {'w_lr': 0.025753243505792785, 'w_lda': 0.1096309890212957, 'w_sv': 0.569700349804581, 'w_xgb': 0.2604458715409301, 'w_lgbm': 0.2664801138693, 'w_mlp': 0.964959295713791}.\n"
     ]
    },
    {
     "name": "stdout",
     "output_type": "stream",
     "text": [
      "[w_lr, w_lda, w_sv, w_xgb, w_lgbm,w_cb ] =  [0.    0.135 0.511 0.22  0.234 0.    0.947]\n",
      "norm =  [0.    0.066 0.25  0.108 0.114 0.    0.463]\n",
      "AUC all:  0.7909270216962524\n",
      "\n"
     ]
    },
    {
     "name": "stderr",
     "output_type": "stream",
     "text": [
      "[I 2019-08-24 12:14:38,422] Finished trial#409 resulted in value: -0.7909270216962524. Current best value is -0.7945900253592559 with parameters: {'w_lr': 0.025753243505792785, 'w_lda': 0.1096309890212957, 'w_sv': 0.569700349804581, 'w_xgb': 0.2604458715409301, 'w_lgbm': 0.2664801138693, 'w_mlp': 0.964959295713791}.\n"
     ]
    },
    {
     "name": "stdout",
     "output_type": "stream",
     "text": [
      "[w_lr, w_lda, w_sv, w_xgb, w_lgbm,w_cb ] =  [0.    0.083 0.551 0.35  0.302 0.    0.964]\n",
      "norm =  [0.    0.037 0.245 0.156 0.134 0.    0.428]\n",
      "AUC all:  0.7921949845026768\n",
      "\n"
     ]
    },
    {
     "name": "stderr",
     "output_type": "stream",
     "text": [
      "[I 2019-08-24 12:14:39,243] Finished trial#410 resulted in value: -0.7921949845026768. Current best value is -0.7945900253592559 with parameters: {'w_lr': 0.025753243505792785, 'w_lda': 0.1096309890212957, 'w_sv': 0.569700349804581, 'w_xgb': 0.2604458715409301, 'w_lgbm': 0.2664801138693, 'w_mlp': 0.964959295713791}.\n"
     ]
    },
    {
     "name": "stdout",
     "output_type": "stream",
     "text": [
      "[w_lr, w_lda, w_sv, w_xgb, w_lgbm,w_cb ] =  [0.077 0.021 0.523 0.656 0.285 0.    0.938]\n",
      "norm =  [0.031 0.009 0.209 0.262 0.114 0.    0.375]\n",
      "AUC all:  0.7882502113271344\n",
      "\n"
     ]
    },
    {
     "name": "stderr",
     "output_type": "stream",
     "text": [
      "[I 2019-08-24 12:14:40,005] Finished trial#411 resulted in value: -0.7882502113271344. Current best value is -0.7945900253592559 with parameters: {'w_lr': 0.025753243505792785, 'w_lda': 0.1096309890212957, 'w_sv': 0.569700349804581, 'w_xgb': 0.2604458715409301, 'w_lgbm': 0.2664801138693, 'w_mlp': 0.964959295713791}.\n"
     ]
    },
    {
     "name": "stdout",
     "output_type": "stream",
     "text": [
      "[w_lr, w_lda, w_sv, w_xgb, w_lgbm,w_cb ] =  [0.022 0.054 0.704 0.239 0.257 0.    0.902]\n",
      "norm =  [0.01  0.025 0.323 0.11  0.118 0.    0.414]\n",
      "AUC all:  0.7931811777965623\n",
      "\n"
     ]
    },
    {
     "name": "stderr",
     "output_type": "stream",
     "text": [
      "[I 2019-08-24 12:14:40,960] Finished trial#412 resulted in value: -0.7931811777965623. Current best value is -0.7945900253592559 with parameters: {'w_lr': 0.025753243505792785, 'w_lda': 0.1096309890212957, 'w_sv': 0.569700349804581, 'w_xgb': 0.2604458715409301, 'w_lgbm': 0.2664801138693, 'w_mlp': 0.964959295713791}.\n"
     ]
    },
    {
     "name": "stdout",
     "output_type": "stream",
     "text": [
      "[w_lr, w_lda, w_sv, w_xgb, w_lgbm,w_cb ] =  [0.05  0.837 0.974 0.2   0.215 0.    0.994]\n",
      "norm =  [0.015 0.256 0.298 0.061 0.066 0.    0.304]\n",
      "AUC all:  0.7757114680191604\n",
      "\n"
     ]
    },
    {
     "name": "stderr",
     "output_type": "stream",
     "text": [
      "[I 2019-08-24 12:14:41,739] Finished trial#413 resulted in value: -0.7757114680191604. Current best value is -0.7945900253592559 with parameters: {'w_lr': 0.025753243505792785, 'w_lda': 0.1096309890212957, 'w_sv': 0.569700349804581, 'w_xgb': 0.2604458715409301, 'w_lgbm': 0.2664801138693, 'w_mlp': 0.964959295713791}.\n"
     ]
    },
    {
     "name": "stdout",
     "output_type": "stream",
     "text": [
      "[w_lr, w_lda, w_sv, w_xgb, w_lgbm,w_cb ] =  [0.065 0.063 0.548 0.289 0.32  0.    0.928]\n",
      "norm =  [0.029 0.029 0.248 0.131 0.145 0.    0.419]\n",
      "AUC all:  0.791913214990138\n",
      "\n"
     ]
    },
    {
     "name": "stderr",
     "output_type": "stream",
     "text": [
      "[I 2019-08-24 12:14:42,704] Finished trial#414 resulted in value: -0.791913214990138. Current best value is -0.7945900253592559 with parameters: {'w_lr': 0.025753243505792785, 'w_lda': 0.1096309890212957, 'w_sv': 0.569700349804581, 'w_xgb': 0.2604458715409301, 'w_lgbm': 0.2664801138693, 'w_mlp': 0.964959295713791}.\n"
     ]
    },
    {
     "name": "stdout",
     "output_type": "stream",
     "text": [
      "[w_lr, w_lda, w_sv, w_xgb, w_lgbm,w_cb ] =  [0.034 0.16  0.56  0.227 0.269 0.    0.918]\n",
      "norm =  [0.016 0.074 0.258 0.105 0.124 0.    0.423]\n",
      "AUC all:  0.7921949845026768\n",
      "\n"
     ]
    },
    {
     "name": "stderr",
     "output_type": "stream",
     "text": [
      "[I 2019-08-24 12:14:43,600] Finished trial#415 resulted in value: -0.7921949845026768. Current best value is -0.7945900253592559 with parameters: {'w_lr': 0.025753243505792785, 'w_lda': 0.1096309890212957, 'w_sv': 0.569700349804581, 'w_xgb': 0.2604458715409301, 'w_lgbm': 0.2664801138693, 'w_mlp': 0.964959295713791}.\n"
     ]
    },
    {
     "name": "stdout",
     "output_type": "stream",
     "text": [
      "[w_lr, w_lda, w_sv, w_xgb, w_lgbm,w_cb ] =  [0.085 0.111 0.541 0.261 0.298 0.    0.957]\n",
      "norm =  [0.038 0.049 0.24  0.116 0.132 0.    0.424]\n",
      "AUC all:  0.7933220625528319\n",
      "\n"
     ]
    },
    {
     "name": "stderr",
     "output_type": "stream",
     "text": [
      "[I 2019-08-24 12:14:44,524] Finished trial#416 resulted in value: -0.7933220625528319. Current best value is -0.7945900253592559 with parameters: {'w_lr': 0.025753243505792785, 'w_lda': 0.1096309890212957, 'w_sv': 0.569700349804581, 'w_xgb': 0.2604458715409301, 'w_lgbm': 0.2664801138693, 'w_mlp': 0.964959295713791}.\n"
     ]
    },
    {
     "name": "stdout",
     "output_type": "stream",
     "text": [
      "[w_lr, w_lda, w_sv, w_xgb, w_lgbm,w_cb ] =  [0.001 0.083 0.634 0.179 0.237 0.    0.879]\n",
      "norm =  [0.    0.041 0.315 0.089 0.118 0.    0.437]\n",
      "AUC all:  0.7934629473091012\n",
      "\n"
     ]
    },
    {
     "name": "stderr",
     "output_type": "stream",
     "text": [
      "[I 2019-08-24 12:14:45,490] Finished trial#417 resulted in value: -0.7934629473091012. Current best value is -0.7945900253592559 with parameters: {'w_lr': 0.025753243505792785, 'w_lda': 0.1096309890212957, 'w_sv': 0.569700349804581, 'w_xgb': 0.2604458715409301, 'w_lgbm': 0.2664801138693, 'w_mlp': 0.964959295713791}.\n"
     ]
    },
    {
     "name": "stdout",
     "output_type": "stream",
     "text": [
      "[w_lr, w_lda, w_sv, w_xgb, w_lgbm,w_cb ] =  [0.019 0.122 0.579 0.399 0.267 0.    0.942]\n",
      "norm =  [0.008 0.053 0.249 0.171 0.115 0.    0.405]\n",
      "AUC all:  0.7900817131586362\n",
      "\n"
     ]
    },
    {
     "name": "stderr",
     "output_type": "stream",
     "text": [
      "[I 2019-08-24 12:14:46,303] Finished trial#418 resulted in value: -0.7900817131586362. Current best value is -0.7945900253592559 with parameters: {'w_lr': 0.025753243505792785, 'w_lda': 0.1096309890212957, 'w_sv': 0.569700349804581, 'w_xgb': 0.2604458715409301, 'w_lgbm': 0.2664801138693, 'w_mlp': 0.964959295713791}.\n"
     ]
    },
    {
     "name": "stdout",
     "output_type": "stream",
     "text": [
      "[w_lr, w_lda, w_sv, w_xgb, w_lgbm,w_cb ] =  [0.041 0.145 0.573 0.505 0.204 0.    0.977]\n",
      "norm =  [0.017 0.059 0.234 0.207 0.083 0.    0.4  ]\n",
      "AUC all:  0.7874049027895182\n",
      "\n"
     ]
    },
    {
     "name": "stderr",
     "output_type": "stream",
     "text": [
      "[I 2019-08-24 12:14:47,252] Finished trial#419 resulted in value: -0.7874049027895182. Current best value is -0.7945900253592559 with parameters: {'w_lr': 0.025753243505792785, 'w_lda': 0.1096309890212957, 'w_sv': 0.569700349804581, 'w_xgb': 0.2604458715409301, 'w_lgbm': 0.2664801138693, 'w_mlp': 0.964959295713791}.\n"
     ]
    },
    {
     "name": "stdout",
     "output_type": "stream",
     "text": [
      "[w_lr, w_lda, w_sv, w_xgb, w_lgbm,w_cb ] =  [0.018 0.121 0.669 0.267 0.247 0.    0.907]\n",
      "norm =  [0.008 0.054 0.3   0.12  0.111 0.    0.407]\n",
      "AUC all:  0.7928994082840237\n",
      "\n"
     ]
    },
    {
     "name": "stderr",
     "output_type": "stream",
     "text": [
      "[I 2019-08-24 12:14:48,118] Finished trial#420 resulted in value: -0.7928994082840237. Current best value is -0.7945900253592559 with parameters: {'w_lr': 0.025753243505792785, 'w_lda': 0.1096309890212957, 'w_sv': 0.569700349804581, 'w_xgb': 0.2604458715409301, 'w_lgbm': 0.2664801138693, 'w_mlp': 0.964959295713791}.\n"
     ]
    },
    {
     "name": "stdout",
     "output_type": "stream",
     "text": [
      "[w_lr, w_lda, w_sv, w_xgb, w_lgbm,w_cb ] =  [0.902 0.099 0.645 0.249 0.281 0.    0.92 ]\n",
      "norm =  [0.291 0.032 0.208 0.08  0.091 0.    0.297]\n",
      "AUC all:  0.7921949845026767\n",
      "\n"
     ]
    },
    {
     "name": "stderr",
     "output_type": "stream",
     "text": [
      "[I 2019-08-24 12:14:48,970] Finished trial#421 resulted in value: -0.7921949845026767. Current best value is -0.7945900253592559 with parameters: {'w_lr': 0.025753243505792785, 'w_lda': 0.1096309890212957, 'w_sv': 0.569700349804581, 'w_xgb': 0.2604458715409301, 'w_lgbm': 0.2664801138693, 'w_mlp': 0.964959295713791}.\n"
     ]
    },
    {
     "name": "stdout",
     "output_type": "stream",
     "text": [
      "[w_lr, w_lda, w_sv, w_xgb, w_lgbm,w_cb ] =  [0.056 0.096 0.726 0.329 0.227 0.    0.94 ]\n",
      "norm =  [0.024 0.04  0.306 0.139 0.096 0.    0.396]\n",
      "AUC all:  0.7890955198647507\n",
      "\n"
     ]
    },
    {
     "name": "stderr",
     "output_type": "stream",
     "text": [
      "[I 2019-08-24 12:14:49,753] Finished trial#422 resulted in value: -0.7890955198647507. Current best value is -0.7945900253592559 with parameters: {'w_lr': 0.025753243505792785, 'w_lda': 0.1096309890212957, 'w_sv': 0.569700349804581, 'w_xgb': 0.2604458715409301, 'w_lgbm': 0.2664801138693, 'w_mlp': 0.964959295713791}.\n"
     ]
    },
    {
     "name": "stdout",
     "output_type": "stream",
     "text": [
      "[w_lr, w_lda, w_sv, w_xgb, w_lgbm,w_cb ] =  [0.016 0.124 0.751 0.22  0.305 0.    0.929]\n",
      "norm =  [0.007 0.053 0.32  0.094 0.13  0.    0.396]\n",
      "AUC all:  0.7926176387714851\n",
      "\n"
     ]
    },
    {
     "name": "stderr",
     "output_type": "stream",
     "text": [
      "[I 2019-08-24 12:14:50,547] Finished trial#423 resulted in value: -0.7926176387714851. Current best value is -0.7945900253592559 with parameters: {'w_lr': 0.025753243505792785, 'w_lda': 0.1096309890212957, 'w_sv': 0.569700349804581, 'w_xgb': 0.2604458715409301, 'w_lgbm': 0.2664801138693, 'w_mlp': 0.964959295713791}.\n"
     ]
    },
    {
     "name": "stdout",
     "output_type": "stream",
     "text": [
      "[w_lr, w_lda, w_sv, w_xgb, w_lgbm,w_cb ] =  [0.038 0.148 0.563 0.29  0.261 0.    0.966]\n",
      "norm =  [0.017 0.065 0.249 0.128 0.115 0.    0.426]\n",
      "AUC all:  0.7920540997464075\n",
      "\n"
     ]
    },
    {
     "name": "stderr",
     "output_type": "stream",
     "text": [
      "[I 2019-08-24 12:14:51,666] Finished trial#424 resulted in value: -0.7920540997464075. Current best value is -0.7945900253592559 with parameters: {'w_lr': 0.025753243505792785, 'w_lda': 0.1096309890212957, 'w_sv': 0.569700349804581, 'w_xgb': 0.2604458715409301, 'w_lgbm': 0.2664801138693, 'w_mlp': 0.964959295713791}.\n"
     ]
    },
    {
     "name": "stdout",
     "output_type": "stream",
     "text": [
      "[w_lr, w_lda, w_sv, w_xgb, w_lgbm,w_cb ] =  [0.06  0.068 0.536 0.308 0.345 0.    0.949]\n",
      "norm =  [0.026 0.03  0.237 0.136 0.152 0.    0.419]\n",
      "AUC all:  0.7914905607213298\n",
      "\n"
     ]
    },
    {
     "name": "stderr",
     "output_type": "stream",
     "text": [
      "[I 2019-08-24 12:14:52,521] Finished trial#425 resulted in value: -0.7914905607213298. Current best value is -0.7945900253592559 with parameters: {'w_lr': 0.025753243505792785, 'w_lda': 0.1096309890212957, 'w_sv': 0.569700349804581, 'w_xgb': 0.2604458715409301, 'w_lgbm': 0.2664801138693, 'w_mlp': 0.964959295713791}.\n"
     ]
    },
    {
     "name": "stdout",
     "output_type": "stream",
     "text": [
      "[w_lr, w_lda, w_sv, w_xgb, w_lgbm,w_cb ] =  [0.08  0.045 0.521 0.271 0.323 0.    0.937]\n",
      "norm =  [0.037 0.02  0.239 0.125 0.149 0.    0.43 ]\n",
      "AUC all:  0.79149056072133\n",
      "\n"
     ]
    },
    {
     "name": "stderr",
     "output_type": "stream",
     "text": [
      "[I 2019-08-24 12:14:53,513] Finished trial#426 resulted in value: -0.79149056072133. Current best value is -0.7945900253592559 with parameters: {'w_lr': 0.025753243505792785, 'w_lda': 0.1096309890212957, 'w_sv': 0.569700349804581, 'w_xgb': 0.2604458715409301, 'w_lgbm': 0.2664801138693, 'w_mlp': 0.964959295713791}.\n"
     ]
    },
    {
     "name": "stdout",
     "output_type": "stream",
     "text": [
      "[w_lr, w_lda, w_sv, w_xgb, w_lgbm,w_cb ] =  [0.    0.097 0.654 0.247 0.284 0.    0.914]\n",
      "norm =  [0.    0.044 0.298 0.113 0.129 0.    0.416]\n",
      "AUC all:  0.7938856015779092\n",
      "\n"
     ]
    },
    {
     "name": "stderr",
     "output_type": "stream",
     "text": [
      "[I 2019-08-24 12:14:54,369] Finished trial#427 resulted in value: -0.7938856015779092. Current best value is -0.7945900253592559 with parameters: {'w_lr': 0.025753243505792785, 'w_lda': 0.1096309890212957, 'w_sv': 0.569700349804581, 'w_xgb': 0.2604458715409301, 'w_lgbm': 0.2664801138693, 'w_mlp': 0.964959295713791}.\n"
     ]
    },
    {
     "name": "stdout",
     "output_type": "stream",
     "text": [
      "[w_lr, w_lda, w_sv, w_xgb, w_lgbm,w_cb ] =  [0.016 0.093 0.662 0.248 0.031 0.    0.923]\n",
      "norm =  [0.008 0.047 0.336 0.126 0.016 0.    0.468]\n",
      "AUC all:  0.7785291631445478\n",
      "\n"
     ]
    },
    {
     "name": "stderr",
     "output_type": "stream",
     "text": [
      "[I 2019-08-24 12:14:55,199] Finished trial#428 resulted in value: -0.7785291631445478. Current best value is -0.7945900253592559 with parameters: {'w_lr': 0.025753243505792785, 'w_lda': 0.1096309890212957, 'w_sv': 0.569700349804581, 'w_xgb': 0.2604458715409301, 'w_lgbm': 0.2664801138693, 'w_mlp': 0.964959295713791}.\n"
     ]
    },
    {
     "name": "stdout",
     "output_type": "stream",
     "text": [
      "[w_lr, w_lda, w_sv, w_xgb, w_lgbm,w_cb ] =  [0.001 0.112 0.652 0.278 0.288 0.    0.901]\n",
      "norm =  [0.001 0.05  0.292 0.124 0.129 0.    0.404]\n",
      "AUC all:  0.7930402930402931\n",
      "\n"
     ]
    },
    {
     "name": "stderr",
     "output_type": "stream",
     "text": [
      "[I 2019-08-24 12:14:56,052] Finished trial#429 resulted in value: -0.7930402930402931. Current best value is -0.7945900253592559 with parameters: {'w_lr': 0.025753243505792785, 'w_lda': 0.1096309890212957, 'w_sv': 0.569700349804581, 'w_xgb': 0.2604458715409301, 'w_lgbm': 0.2664801138693, 'w_mlp': 0.964959295713791}.\n"
     ]
    },
    {
     "name": "stdout",
     "output_type": "stream",
     "text": [
      "[w_lr, w_lda, w_sv, w_xgb, w_lgbm,w_cb ] =  [0.034 0.132 0.662 0.236 0.304 0.    0.954]\n",
      "norm =  [0.015 0.057 0.285 0.102 0.131 0.    0.411]\n",
      "AUC all:  0.7928994082840237\n",
      "\n"
     ]
    },
    {
     "name": "stderr",
     "output_type": "stream",
     "text": [
      "[I 2019-08-24 12:14:57,259] Finished trial#430 resulted in value: -0.7928994082840237. Current best value is -0.7945900253592559 with parameters: {'w_lr': 0.025753243505792785, 'w_lda': 0.1096309890212957, 'w_sv': 0.569700349804581, 'w_xgb': 0.2604458715409301, 'w_lgbm': 0.2664801138693, 'w_mlp': 0.964959295713791}.\n"
     ]
    },
    {
     "name": "stdout",
     "output_type": "stream",
     "text": [
      "[w_lr, w_lda, w_sv, w_xgb, w_lgbm,w_cb ] =  [0.021 0.187 0.691 0.259 0.278 0.    0.911]\n",
      "norm =  [0.009 0.08  0.294 0.11  0.118 0.    0.388]\n",
      "AUC all:  0.7917723302338687\n",
      "\n"
     ]
    },
    {
     "name": "stderr",
     "output_type": "stream",
     "text": [
      "[I 2019-08-24 12:14:58,124] Finished trial#431 resulted in value: -0.7917723302338687. Current best value is -0.7945900253592559 with parameters: {'w_lr': 0.025753243505792785, 'w_lda': 0.1096309890212957, 'w_sv': 0.569700349804581, 'w_xgb': 0.2604458715409301, 'w_lgbm': 0.2664801138693, 'w_mlp': 0.964959295713791}.\n"
     ]
    },
    {
     "name": "stdout",
     "output_type": "stream",
     "text": [
      "[w_lr, w_lda, w_sv, w_xgb, w_lgbm,w_cb ] =  [0.    0.078 0.681 0.295 0.249 0.    0.964]\n",
      "norm =  [0.    0.034 0.301 0.13  0.11  0.    0.425]\n",
      "AUC all:  0.7923358692589462\n",
      "\n"
     ]
    },
    {
     "name": "stderr",
     "output_type": "stream",
     "text": [
      "[I 2019-08-24 12:14:59,051] Finished trial#432 resulted in value: -0.7923358692589462. Current best value is -0.7945900253592559 with parameters: {'w_lr': 0.025753243505792785, 'w_lda': 0.1096309890212957, 'w_sv': 0.569700349804581, 'w_xgb': 0.2604458715409301, 'w_lgbm': 0.2664801138693, 'w_mlp': 0.964959295713791}.\n"
     ]
    },
    {
     "name": "stdout",
     "output_type": "stream",
     "text": [
      "[w_lr, w_lda, w_sv, w_xgb, w_lgbm,w_cb ] =  [0.    0.347 0.675 0.233 0.272 0.    0.984]\n",
      "norm =  [0.    0.138 0.269 0.093 0.108 0.    0.392]\n",
      "AUC all:  0.7874049027895181\n",
      "\n"
     ]
    },
    {
     "name": "stderr",
     "output_type": "stream",
     "text": [
      "[I 2019-08-24 12:15:00,114] Finished trial#433 resulted in value: -0.7874049027895181. Current best value is -0.7945900253592559 with parameters: {'w_lr': 0.025753243505792785, 'w_lda': 0.1096309890212957, 'w_sv': 0.569700349804581, 'w_xgb': 0.2604458715409301, 'w_lgbm': 0.2664801138693, 'w_mlp': 0.964959295713791}.\n"
     ]
    },
    {
     "name": "stdout",
     "output_type": "stream",
     "text": [
      "[w_lr, w_lda, w_sv, w_xgb, w_lgbm,w_cb ] =  [0.045 0.101 0.633 0.313 0.32  0.    0.661]\n",
      "norm =  [0.022 0.049 0.306 0.151 0.154 0.    0.319]\n",
      "AUC all:  0.7897999436460975\n",
      "\n"
     ]
    },
    {
     "name": "stderr",
     "output_type": "stream",
     "text": [
      "[I 2019-08-24 12:15:00,988] Finished trial#434 resulted in value: -0.7897999436460975. Current best value is -0.7945900253592559 with parameters: {'w_lr': 0.025753243505792785, 'w_lda': 0.1096309890212957, 'w_sv': 0.569700349804581, 'w_xgb': 0.2604458715409301, 'w_lgbm': 0.2664801138693, 'w_mlp': 0.964959295713791}.\n"
     ]
    },
    {
     "name": "stdout",
     "output_type": "stream",
     "text": [
      "[w_lr, w_lda, w_sv, w_xgb, w_lgbm,w_cb ] =  [0.031 0.165 0.651 0.273 0.23  0.    0.924]\n",
      "norm =  [0.014 0.073 0.286 0.12  0.101 0.    0.406]\n",
      "AUC all:  0.7897999436460975\n",
      "\n"
     ]
    },
    {
     "name": "stderr",
     "output_type": "stream",
     "text": [
      "[I 2019-08-24 12:15:01,785] Finished trial#435 resulted in value: -0.7897999436460975. Current best value is -0.7945900253592559 with parameters: {'w_lr': 0.025753243505792785, 'w_lda': 0.1096309890212957, 'w_sv': 0.569700349804581, 'w_xgb': 0.2604458715409301, 'w_lgbm': 0.2664801138693, 'w_mlp': 0.964959295713791}.\n"
     ]
    },
    {
     "name": "stdout",
     "output_type": "stream",
     "text": [
      "[w_lr, w_lda, w_sv, w_xgb, w_lgbm,w_cb ] =  [0.    0.084 0.628 0.378 0.293 0.    0.945]\n",
      "norm =  [0.    0.036 0.27  0.162 0.126 0.    0.406]\n",
      "AUC all:  0.791913214990138\n",
      "\n"
     ]
    },
    {
     "name": "stderr",
     "output_type": "stream",
     "text": [
      "[I 2019-08-24 12:15:02,610] Finished trial#436 resulted in value: -0.791913214990138. Current best value is -0.7945900253592559 with parameters: {'w_lr': 0.025753243505792785, 'w_lda': 0.1096309890212957, 'w_sv': 0.569700349804581, 'w_xgb': 0.2604458715409301, 'w_lgbm': 0.2664801138693, 'w_mlp': 0.964959295713791}.\n"
     ]
    },
    {
     "name": "stdout",
     "output_type": "stream",
     "text": [
      "[w_lr, w_lda, w_sv, w_xgb, w_lgbm,w_cb ] =  [0.06  0.117 0.619 0.248 0.26  0.    0.913]\n",
      "norm =  [0.027 0.053 0.279 0.112 0.117 0.    0.412]\n",
      "AUC all:  0.7933220625528319\n",
      "\n"
     ]
    },
    {
     "name": "stderr",
     "output_type": "stream",
     "text": [
      "[I 2019-08-24 12:15:03,425] Finished trial#437 resulted in value: -0.7933220625528319. Current best value is -0.7945900253592559 with parameters: {'w_lr': 0.025753243505792785, 'w_lda': 0.1096309890212957, 'w_sv': 0.569700349804581, 'w_xgb': 0.2604458715409301, 'w_lgbm': 0.2664801138693, 'w_mlp': 0.964959295713791}.\n"
     ]
    },
    {
     "name": "stdout",
     "output_type": "stream",
     "text": [
      "[w_lr, w_lda, w_sv, w_xgb, w_lgbm,w_cb ] =  [0.001 0.136 0.716 0.215 0.178 0.    0.893]\n",
      "norm =  [0.    0.064 0.335 0.1   0.083 0.    0.418]\n",
      "AUC all:  0.790363482671175\n",
      "\n"
     ]
    },
    {
     "name": "stderr",
     "output_type": "stream",
     "text": [
      "[I 2019-08-24 12:15:04,465] Finished trial#438 resulted in value: -0.790363482671175. Current best value is -0.7945900253592559 with parameters: {'w_lr': 0.025753243505792785, 'w_lda': 0.1096309890212957, 'w_sv': 0.569700349804581, 'w_xgb': 0.2604458715409301, 'w_lgbm': 0.2664801138693, 'w_mlp': 0.964959295713791}.\n"
     ]
    },
    {
     "name": "stdout",
     "output_type": "stream",
     "text": [
      "[w_lr, w_lda, w_sv, w_xgb, w_lgbm,w_cb ] =  [0.029 0.061 0.641 0.288 0.245 0.    0.999]\n",
      "norm =  [0.013 0.027 0.283 0.127 0.108 0.    0.441]\n",
      "AUC all:  0.7921949845026768\n",
      "\n"
     ]
    },
    {
     "name": "stderr",
     "output_type": "stream",
     "text": [
      "[I 2019-08-24 12:15:05,293] Finished trial#439 resulted in value: -0.7921949845026768. Current best value is -0.7945900253592559 with parameters: {'w_lr': 0.025753243505792785, 'w_lda': 0.1096309890212957, 'w_sv': 0.569700349804581, 'w_xgb': 0.2604458715409301, 'w_lgbm': 0.2664801138693, 'w_mlp': 0.964959295713791}.\n"
     ]
    },
    {
     "name": "stdout",
     "output_type": "stream",
     "text": [
      "[w_lr, w_lda, w_sv, w_xgb, w_lgbm,w_cb ] =  [0.048 0.1   0.662 0.555 0.336 0.    0.957]\n",
      "norm =  [0.018 0.037 0.249 0.209 0.127 0.    0.36 ]\n",
      "AUC all:  0.7912087912087912\n",
      "\n"
     ]
    },
    {
     "name": "stderr",
     "output_type": "stream",
     "text": [
      "[I 2019-08-24 12:15:06,336] Finished trial#440 resulted in value: -0.7912087912087912. Current best value is -0.7945900253592559 with parameters: {'w_lr': 0.025753243505792785, 'w_lda': 0.1096309890212957, 'w_sv': 0.569700349804581, 'w_xgb': 0.2604458715409301, 'w_lgbm': 0.2664801138693, 'w_mlp': 0.964959295713791}.\n"
     ]
    },
    {
     "name": "stdout",
     "output_type": "stream",
     "text": [
      "[w_lr, w_lda, w_sv, w_xgb, w_lgbm,w_cb ] =  [0.018 0.078 0.5   0.255 0.293 0.    0.935]\n",
      "norm =  [0.009 0.037 0.241 0.123 0.141 0.    0.45 ]\n",
      "AUC all:  0.793040293040293\n",
      "\n"
     ]
    },
    {
     "name": "stderr",
     "output_type": "stream",
     "text": [
      "[I 2019-08-24 12:15:07,506] Finished trial#441 resulted in value: -0.793040293040293. Current best value is -0.7945900253592559 with parameters: {'w_lr': 0.025753243505792785, 'w_lda': 0.1096309890212957, 'w_sv': 0.569700349804581, 'w_xgb': 0.2604458715409301, 'w_lgbm': 0.2664801138693, 'w_mlp': 0.964959295713791}.\n"
     ]
    },
    {
     "name": "stdout",
     "output_type": "stream",
     "text": [
      "[w_lr, w_lda, w_sv, w_xgb, w_lgbm,w_cb ] =  [0.017 0.115 0.74  0.23  0.219 0.    0.903]\n",
      "norm =  [0.008 0.052 0.333 0.103 0.098 0.    0.406]\n",
      "AUC all:  0.7914905607213298\n",
      "\n"
     ]
    },
    {
     "name": "stderr",
     "output_type": "stream",
     "text": [
      "[I 2019-08-24 12:15:08,363] Finished trial#442 resulted in value: -0.7914905607213298. Current best value is -0.7945900253592559 with parameters: {'w_lr': 0.025753243505792785, 'w_lda': 0.1096309890212957, 'w_sv': 0.569700349804581, 'w_xgb': 0.2604458715409301, 'w_lgbm': 0.2664801138693, 'w_mlp': 0.964959295713791}.\n"
     ]
    },
    {
     "name": "stdout",
     "output_type": "stream",
     "text": [
      "[w_lr, w_lda, w_sv, w_xgb, w_lgbm,w_cb ] =  [0.068 0.148 0.65  0.325 0.43  0.    0.976]\n",
      "norm =  [0.026 0.057 0.25  0.125 0.165 0.    0.376]\n",
      "AUC all:  0.7897999436460974\n",
      "\n"
     ]
    },
    {
     "name": "stderr",
     "output_type": "stream",
     "text": [
      "[I 2019-08-24 12:15:09,536] Finished trial#443 resulted in value: -0.7897999436460974. Current best value is -0.7945900253592559 with parameters: {'w_lr': 0.025753243505792785, 'w_lda': 0.1096309890212957, 'w_sv': 0.569700349804581, 'w_xgb': 0.2604458715409301, 'w_lgbm': 0.2664801138693, 'w_mlp': 0.964959295713791}.\n"
     ]
    },
    {
     "name": "stdout",
     "output_type": "stream",
     "text": [
      "[w_lr, w_lda, w_sv, w_xgb, w_lgbm,w_cb ] =  [0.037 0.083 0.706 0.266 0.273 0.    0.924]\n",
      "norm =  [0.016 0.036 0.308 0.116 0.119 0.    0.404]\n",
      "AUC all:  0.7934629473091012\n",
      "\n"
     ]
    },
    {
     "name": "stderr",
     "output_type": "stream",
     "text": [
      "[I 2019-08-24 12:15:10,456] Finished trial#444 resulted in value: -0.7934629473091012. Current best value is -0.7945900253592559 with parameters: {'w_lr': 0.025753243505792785, 'w_lda': 0.1096309890212957, 'w_sv': 0.569700349804581, 'w_xgb': 0.2604458715409301, 'w_lgbm': 0.2664801138693, 'w_mlp': 0.964959295713791}.\n"
     ]
    },
    {
     "name": "stdout",
     "output_type": "stream",
     "text": [
      "[w_lr, w_lda, w_sv, w_xgb, w_lgbm,w_cb ] =  [0.    0.104 0.616 0.203 0.311 0.    0.947]\n",
      "norm =  [0.    0.048 0.282 0.093 0.143 0.    0.434]\n",
      "AUC all:  0.7912087912087913\n",
      "\n"
     ]
    },
    {
     "name": "stderr",
     "output_type": "stream",
     "text": [
      "[I 2019-08-24 12:15:11,385] Finished trial#445 resulted in value: -0.7912087912087913. Current best value is -0.7945900253592559 with parameters: {'w_lr': 0.025753243505792785, 'w_lda': 0.1096309890212957, 'w_sv': 0.569700349804581, 'w_xgb': 0.2604458715409301, 'w_lgbm': 0.2664801138693, 'w_mlp': 0.964959295713791}.\n"
     ]
    },
    {
     "name": "stdout",
     "output_type": "stream",
     "text": [
      "[w_lr, w_lda, w_sv, w_xgb, w_lgbm,w_cb ] =  [0.094 0.052 0.635 0.303 0.255 0.    0.916]\n",
      "norm =  [0.042 0.023 0.282 0.134 0.113 0.    0.406]\n",
      "AUC all:  0.7920540997464074\n",
      "\n"
     ]
    },
    {
     "name": "stderr",
     "output_type": "stream",
     "text": [
      "[I 2019-08-24 12:15:12,215] Finished trial#446 resulted in value: -0.7920540997464074. Current best value is -0.7945900253592559 with parameters: {'w_lr': 0.025753243505792785, 'w_lda': 0.1096309890212957, 'w_sv': 0.569700349804581, 'w_xgb': 0.2604458715409301, 'w_lgbm': 0.2664801138693, 'w_mlp': 0.964959295713791}.\n"
     ]
    },
    {
     "name": "stdout",
     "output_type": "stream",
     "text": [
      "[w_lr, w_lda, w_sv, w_xgb, w_lgbm,w_cb ] =  [0.047 0.136 0.626 0.338 0.231 0.    0.931]\n",
      "norm =  [0.02  0.059 0.271 0.146 0.1   0.    0.403]\n",
      "AUC all:  0.7889546351084813\n",
      "\n"
     ]
    },
    {
     "name": "stderr",
     "output_type": "stream",
     "text": [
      "[I 2019-08-24 12:15:13,051] Finished trial#447 resulted in value: -0.7889546351084813. Current best value is -0.7945900253592559 with parameters: {'w_lr': 0.025753243505792785, 'w_lda': 0.1096309890212957, 'w_sv': 0.569700349804581, 'w_xgb': 0.2604458715409301, 'w_lgbm': 0.2664801138693, 'w_mlp': 0.964959295713791}.\n"
     ]
    },
    {
     "name": "stdout",
     "output_type": "stream",
     "text": [
      "[w_lr, w_lda, w_sv, w_xgb, w_lgbm,w_cb ] =  [0.018 0.029 0.556 0.245 0.281 0.    0.969]\n",
      "norm =  [0.008 0.014 0.265 0.117 0.134 0.    0.462]\n",
      "AUC all:  0.7923358692589462\n",
      "\n"
     ]
    },
    {
     "name": "stderr",
     "output_type": "stream",
     "text": [
      "[I 2019-08-24 12:15:13,968] Finished trial#448 resulted in value: -0.7923358692589462. Current best value is -0.7945900253592559 with parameters: {'w_lr': 0.025753243505792785, 'w_lda': 0.1096309890212957, 'w_sv': 0.569700349804581, 'w_xgb': 0.2604458715409301, 'w_lgbm': 0.2664801138693, 'w_mlp': 0.964959295713791}.\n"
     ]
    },
    {
     "name": "stdout",
     "output_type": "stream",
     "text": [
      "[w_lr, w_lda, w_sv, w_xgb, w_lgbm,w_cb ] =  [0.001 0.121 0.671 0.278 0.264 0.    0.957]\n",
      "norm =  [0.    0.053 0.293 0.121 0.115 0.    0.418]\n",
      "AUC all:  0.7940264863341786\n",
      "\n"
     ]
    },
    {
     "name": "stderr",
     "output_type": "stream",
     "text": [
      "[I 2019-08-24 12:15:14,798] Finished trial#449 resulted in value: -0.7940264863341786. Current best value is -0.7945900253592559 with parameters: {'w_lr': 0.025753243505792785, 'w_lda': 0.1096309890212957, 'w_sv': 0.569700349804581, 'w_xgb': 0.2604458715409301, 'w_lgbm': 0.2664801138693, 'w_mlp': 0.964959295713791}.\n"
     ]
    },
    {
     "name": "stdout",
     "output_type": "stream",
     "text": [
      "[w_lr, w_lda, w_sv, w_xgb, w_lgbm,w_cb ] =  [0.002 0.096 0.679 0.223 0.208 0.    0.959]\n",
      "norm =  [0.001 0.044 0.313 0.103 0.096 0.    0.442]\n",
      "AUC all:  0.7914905607213301\n",
      "\n"
     ]
    },
    {
     "name": "stderr",
     "output_type": "stream",
     "text": [
      "[I 2019-08-24 12:15:15,866] Finished trial#450 resulted in value: -0.7914905607213301. Current best value is -0.7945900253592559 with parameters: {'w_lr': 0.025753243505792785, 'w_lda': 0.1096309890212957, 'w_sv': 0.569700349804581, 'w_xgb': 0.2604458715409301, 'w_lgbm': 0.2664801138693, 'w_mlp': 0.964959295713791}.\n"
     ]
    },
    {
     "name": "stdout",
     "output_type": "stream",
     "text": [
      "[w_lr, w_lda, w_sv, w_xgb, w_lgbm,w_cb ] =  [0.001 0.068 0.669 0.265 0.155 0.    0.964]\n",
      "norm =  [0.    0.032 0.315 0.125 0.073 0.    0.454]\n",
      "AUC all:  0.7890955198647507\n",
      "\n"
     ]
    },
    {
     "name": "stderr",
     "output_type": "stream",
     "text": [
      "[I 2019-08-24 12:15:16,693] Finished trial#451 resulted in value: -0.7890955198647507. Current best value is -0.7945900253592559 with parameters: {'w_lr': 0.025753243505792785, 'w_lda': 0.1096309890212957, 'w_sv': 0.569700349804581, 'w_xgb': 0.2604458715409301, 'w_lgbm': 0.2664801138693, 'w_mlp': 0.964959295713791}.\n"
     ]
    },
    {
     "name": "stdout",
     "output_type": "stream",
     "text": [
      "[w_lr, w_lda, w_sv, w_xgb, w_lgbm,w_cb ] =  [0.    0.114 0.672 0.292 0.244 0.    0.952]\n",
      "norm =  [0.    0.05  0.295 0.128 0.107 0.    0.418]\n",
      "AUC all:  0.7920540997464074\n",
      "\n"
     ]
    },
    {
     "name": "stderr",
     "output_type": "stream",
     "text": [
      "[I 2019-08-24 12:15:17,520] Finished trial#452 resulted in value: -0.7920540997464074. Current best value is -0.7945900253592559 with parameters: {'w_lr': 0.025753243505792785, 'w_lda': 0.1096309890212957, 'w_sv': 0.569700349804581, 'w_xgb': 0.2604458715409301, 'w_lgbm': 0.2664801138693, 'w_mlp': 0.964959295713791}.\n"
     ]
    },
    {
     "name": "stdout",
     "output_type": "stream",
     "text": [
      "[w_lr, w_lda, w_sv, w_xgb, w_lgbm,w_cb ] =  [0.259 0.092 0.658 0.239 0.258 0.    0.943]\n",
      "norm =  [0.106 0.038 0.269 0.098 0.105 0.    0.385]\n",
      "AUC all:  0.7948717948717948\n",
      "\n"
     ]
    },
    {
     "name": "stderr",
     "output_type": "stream",
     "text": [
      "[I 2019-08-24 12:15:18,344] Finished trial#453 resulted in value: -0.7948717948717948. Current best value is -0.7948717948717948 with parameters: {'w_lr': 0.25932220860425337, 'w_lda': 0.09195697989035678, 'w_sv': 0.6584085004074863, 'w_xgb': 0.23943615391125597, 'w_lgbm': 0.2584978813734697, 'w_mlp': 0.9426610060258075}.\n"
     ]
    },
    {
     "name": "stdout",
     "output_type": "stream",
     "text": [
      "[w_lr, w_lda, w_sv, w_xgb, w_lgbm,w_cb ] =  [0.    0.077 0.648 0.202 0.191 0.    0.942]\n",
      "norm =  [0.    0.037 0.315 0.098 0.093 0.    0.457]\n",
      "AUC all:  0.7923358692589463\n",
      "\n"
     ]
    },
    {
     "name": "stderr",
     "output_type": "stream",
     "text": [
      "[I 2019-08-24 12:15:19,176] Finished trial#454 resulted in value: -0.7923358692589463. Current best value is -0.7948717948717948 with parameters: {'w_lr': 0.25932220860425337, 'w_lda': 0.09195697989035678, 'w_sv': 0.6584085004074863, 'w_xgb': 0.23943615391125597, 'w_lgbm': 0.2584978813734697, 'w_mlp': 0.9426610060258075}.\n"
     ]
    },
    {
     "name": "stdout",
     "output_type": "stream",
     "text": [
      "[w_lr, w_lda, w_sv, w_xgb, w_lgbm,w_cb ] =  [0.019 0.09  0.659 0.221 0.236 0.    0.959]\n",
      "norm =  [0.009 0.041 0.302 0.101 0.108 0.    0.439]\n",
      "AUC all:  0.793040293040293\n",
      "\n"
     ]
    },
    {
     "name": "stderr",
     "output_type": "stream",
     "text": [
      "[I 2019-08-24 12:15:20,023] Finished trial#455 resulted in value: -0.793040293040293. Current best value is -0.7948717948717948 with parameters: {'w_lr': 0.25932220860425337, 'w_lda': 0.09195697989035678, 'w_sv': 0.6584085004074863, 'w_xgb': 0.23943615391125597, 'w_lgbm': 0.2584978813734697, 'w_mlp': 0.9426610060258075}.\n"
     ]
    },
    {
     "name": "stdout",
     "output_type": "stream",
     "text": [
      "[w_lr, w_lda, w_sv, w_xgb, w_lgbm,w_cb ] =  [0.28  0.284 0.682 0.253 0.265 0.    0.948]\n",
      "norm =  [0.103 0.105 0.251 0.093 0.098 0.    0.349]\n",
      "AUC all:  0.788109326570865\n",
      "\n"
     ]
    },
    {
     "name": "stderr",
     "output_type": "stream",
     "text": [
      "[I 2019-08-24 12:15:20,868] Finished trial#456 resulted in value: -0.788109326570865. Current best value is -0.7948717948717948 with parameters: {'w_lr': 0.25932220860425337, 'w_lda': 0.09195697989035678, 'w_sv': 0.6584085004074863, 'w_xgb': 0.23943615391125597, 'w_lgbm': 0.2584978813734697, 'w_mlp': 0.9426610060258075}.\n"
     ]
    },
    {
     "name": "stdout",
     "output_type": "stream",
     "text": [
      "[w_lr, w_lda, w_sv, w_xgb, w_lgbm,w_cb ] =  [0.405 0.169 0.661 0.279 0.297 0.    0.941]\n",
      "norm =  [0.147 0.061 0.24  0.101 0.108 0.    0.342]\n",
      "AUC all:  0.7921949845026767\n",
      "\n"
     ]
    },
    {
     "name": "stderr",
     "output_type": "stream",
     "text": [
      "[I 2019-08-24 12:15:21,714] Finished trial#457 resulted in value: -0.7921949845026767. Current best value is -0.7948717948717948 with parameters: {'w_lr': 0.25932220860425337, 'w_lda': 0.09195697989035678, 'w_sv': 0.6584085004074863, 'w_xgb': 0.23943615391125597, 'w_lgbm': 0.2584978813734697, 'w_mlp': 0.9426610060258075}.\n"
     ]
    },
    {
     "name": "stdout",
     "output_type": "stream",
     "text": [
      "[w_lr, w_lda, w_sv, w_xgb, w_lgbm,w_cb ] =  [0.021 0.059 0.658 0.237 0.212 0.    0.969]\n",
      "norm =  [0.01  0.027 0.305 0.11  0.098 0.    0.449]\n",
      "AUC all:  0.7924767540152157\n",
      "\n"
     ]
    },
    {
     "name": "stderr",
     "output_type": "stream",
     "text": [
      "[I 2019-08-24 12:15:22,544] Finished trial#458 resulted in value: -0.7924767540152157. Current best value is -0.7948717948717948 with parameters: {'w_lr': 0.25932220860425337, 'w_lda': 0.09195697989035678, 'w_sv': 0.6584085004074863, 'w_xgb': 0.23943615391125597, 'w_lgbm': 0.2584978813734697, 'w_mlp': 0.9426610060258075}.\n"
     ]
    },
    {
     "name": "stdout",
     "output_type": "stream",
     "text": [
      "[w_lr, w_lda, w_sv, w_xgb, w_lgbm,w_cb ] =  [0.018 0.125 0.689 0.187 0.252 0.    0.932]\n",
      "norm =  [0.008 0.057 0.313 0.085 0.114 0.    0.423]\n",
      "AUC all:  0.7923358692589462\n",
      "\n"
     ]
    },
    {
     "name": "stderr",
     "output_type": "stream",
     "text": [
      "[I 2019-08-24 12:15:23,380] Finished trial#459 resulted in value: -0.7923358692589462. Current best value is -0.7948717948717948 with parameters: {'w_lr': 0.25932220860425337, 'w_lda': 0.09195697989035678, 'w_sv': 0.6584085004074863, 'w_xgb': 0.23943615391125597, 'w_lgbm': 0.2584978813734697, 'w_mlp': 0.9426610060258075}.\n"
     ]
    },
    {
     "name": "stdout",
     "output_type": "stream",
     "text": [
      "[w_lr, w_lda, w_sv, w_xgb, w_lgbm,w_cb ] =  [0.    0.112 0.673 0.211 0.228 0.    0.921]\n",
      "norm =  [0.    0.052 0.314 0.098 0.106 0.    0.429]\n",
      "AUC all:  0.79149056072133\n",
      "\n"
     ]
    },
    {
     "name": "stderr",
     "output_type": "stream",
     "text": [
      "[I 2019-08-24 12:15:24,220] Finished trial#460 resulted in value: -0.79149056072133. Current best value is -0.7948717948717948 with parameters: {'w_lr': 0.25932220860425337, 'w_lda': 0.09195697989035678, 'w_sv': 0.6584085004074863, 'w_xgb': 0.23943615391125597, 'w_lgbm': 0.2584978813734697, 'w_mlp': 0.9426610060258075}.\n"
     ]
    },
    {
     "name": "stdout",
     "output_type": "stream",
     "text": [
      "[w_lr, w_lda, w_sv, w_xgb, w_lgbm,w_cb ] =  [0.031 0.039 0.653 0.241 0.262 0.    0.888]\n",
      "norm =  [0.015 0.019 0.309 0.114 0.124 0.    0.42 ]\n",
      "AUC all:  0.7923358692589462\n",
      "\n"
     ]
    },
    {
     "name": "stderr",
     "output_type": "stream",
     "text": [
      "[I 2019-08-24 12:15:25,062] Finished trial#461 resulted in value: -0.7923358692589462. Current best value is -0.7948717948717948 with parameters: {'w_lr': 0.25932220860425337, 'w_lda': 0.09195697989035678, 'w_sv': 0.6584085004074863, 'w_xgb': 0.23943615391125597, 'w_lgbm': 0.2584978813734697, 'w_mlp': 0.9426610060258075}.\n"
     ]
    },
    {
     "name": "stdout",
     "output_type": "stream",
     "text": [
      "[w_lr, w_lda, w_sv, w_xgb, w_lgbm,w_cb ] =  [0.617 0.151 0.689 0.268 0.281 0.    0.952]\n",
      "norm =  [0.208 0.051 0.233 0.091 0.095 0.    0.322]\n",
      "AUC all:  0.7914905607213298\n",
      "\n"
     ]
    },
    {
     "name": "stderr",
     "output_type": "stream",
     "text": [
      "[I 2019-08-24 12:15:25,902] Finished trial#462 resulted in value: -0.7914905607213298. Current best value is -0.7948717948717948 with parameters: {'w_lr': 0.25932220860425337, 'w_lda': 0.09195697989035678, 'w_sv': 0.6584085004074863, 'w_xgb': 0.23943615391125597, 'w_lgbm': 0.2584978813734697, 'w_mlp': 0.9426610060258075}.\n"
     ]
    },
    {
     "name": "stdout",
     "output_type": "stream",
     "text": [
      "[w_lr, w_lda, w_sv, w_xgb, w_lgbm,w_cb ] =  [0.206 0.099 0.665 0.359 0.309 0.    0.958]\n",
      "norm =  [0.079 0.038 0.256 0.138 0.119 0.    0.369]\n",
      "AUC all:  0.7924767540152156\n",
      "\n"
     ]
    },
    {
     "name": "stderr",
     "output_type": "stream",
     "text": [
      "[I 2019-08-24 12:15:26,742] Finished trial#463 resulted in value: -0.7924767540152156. Current best value is -0.7948717948717948 with parameters: {'w_lr': 0.25932220860425337, 'w_lda': 0.09195697989035678, 'w_sv': 0.6584085004074863, 'w_xgb': 0.23943615391125597, 'w_lgbm': 0.2584978813734697, 'w_mlp': 0.9426610060258075}.\n"
     ]
    },
    {
     "name": "stdout",
     "output_type": "stream",
     "text": [
      "[w_lr, w_lda, w_sv, w_xgb, w_lgbm,w_cb ] =  [0.064 0.072 0.639 0.226 0.244 0.    0.977]\n",
      "norm =  [0.029 0.032 0.288 0.102 0.11  0.    0.44 ]\n",
      "AUC all:  0.7928994082840236\n",
      "\n"
     ]
    },
    {
     "name": "stderr",
     "output_type": "stream",
     "text": [
      "[I 2019-08-24 12:15:27,598] Finished trial#464 resulted in value: -0.7928994082840236. Current best value is -0.7948717948717948 with parameters: {'w_lr': 0.25932220860425337, 'w_lda': 0.09195697989035678, 'w_sv': 0.6584085004074863, 'w_xgb': 0.23943615391125597, 'w_lgbm': 0.2584978813734697, 'w_mlp': 0.9426610060258075}.\n"
     ]
    },
    {
     "name": "stdout",
     "output_type": "stream",
     "text": [
      "[w_lr, w_lda, w_sv, w_xgb, w_lgbm,w_cb ] =  [0.017 0.13  0.675 0.168 0.221 0.    0.906]\n",
      "norm =  [0.008 0.061 0.319 0.08  0.104 0.    0.428]\n",
      "AUC all:  0.7919132149901381\n",
      "\n"
     ]
    },
    {
     "name": "stderr",
     "output_type": "stream",
     "text": [
      "[I 2019-08-24 12:15:28,449] Finished trial#465 resulted in value: -0.7919132149901381. Current best value is -0.7948717948717948 with parameters: {'w_lr': 0.25932220860425337, 'w_lda': 0.09195697989035678, 'w_sv': 0.6584085004074863, 'w_xgb': 0.23943615391125597, 'w_lgbm': 0.2584978813734697, 'w_mlp': 0.9426610060258075}.\n"
     ]
    },
    {
     "name": "stdout",
     "output_type": "stream",
     "text": [
      "[w_lr, w_lda, w_sv, w_xgb, w_lgbm,w_cb ] =  [0.127 0.09  0.648 0.242 0.266 0.    0.968]\n",
      "norm =  [0.054 0.038 0.277 0.103 0.114 0.    0.413]\n",
      "AUC all:  0.794167371090448\n",
      "\n"
     ]
    },
    {
     "name": "stderr",
     "output_type": "stream",
     "text": [
      "[I 2019-08-24 12:15:29,311] Finished trial#466 resulted in value: -0.794167371090448. Current best value is -0.7948717948717948 with parameters: {'w_lr': 0.25932220860425337, 'w_lda': 0.09195697989035678, 'w_sv': 0.6584085004074863, 'w_xgb': 0.23943615391125597, 'w_lgbm': 0.2584978813734697, 'w_mlp': 0.9426610060258075}.\n"
     ]
    },
    {
     "name": "stdout",
     "output_type": "stream",
     "text": [
      "[w_lr, w_lda, w_sv, w_xgb, w_lgbm,w_cb ] =  [0.117 0.217 0.653 0.248 0.268 0.    0.979]\n",
      "norm =  [0.047 0.087 0.263 0.1   0.108 0.    0.394]\n",
      "AUC all:  0.7906452521837137\n",
      "\n"
     ]
    },
    {
     "name": "stderr",
     "output_type": "stream",
     "text": [
      "[I 2019-08-24 12:15:30,165] Finished trial#467 resulted in value: -0.7906452521837137. Current best value is -0.7948717948717948 with parameters: {'w_lr': 0.25932220860425337, 'w_lda': 0.09195697989035678, 'w_sv': 0.6584085004074863, 'w_xgb': 0.23943615391125597, 'w_lgbm': 0.2584978813734697, 'w_mlp': 0.9426610060258075}.\n"
     ]
    },
    {
     "name": "stdout",
     "output_type": "stream",
     "text": [
      "[w_lr, w_lda, w_sv, w_xgb, w_lgbm,w_cb ] =  [0.339 0.115 0.644 0.457 0.269 0.    0.969]\n",
      "norm =  [0.121 0.041 0.231 0.164 0.096 0.    0.347]\n",
      "AUC all:  0.7895181741335588\n",
      "\n"
     ]
    },
    {
     "name": "stderr",
     "output_type": "stream",
     "text": [
      "[I 2019-08-24 12:15:31,015] Finished trial#468 resulted in value: -0.7895181741335588. Current best value is -0.7948717948717948 with parameters: {'w_lr': 0.25932220860425337, 'w_lda': 0.09195697989035678, 'w_sv': 0.6584085004074863, 'w_xgb': 0.23943615391125597, 'w_lgbm': 0.2584978813734697, 'w_mlp': 0.9426610060258075}.\n"
     ]
    },
    {
     "name": "stdout",
     "output_type": "stream",
     "text": [
      "[w_lr, w_lda, w_sv, w_xgb, w_lgbm,w_cb ] =  [0.    0.05  0.649 0.202 0.244 0.    0.966]\n",
      "norm =  [0.    0.024 0.307 0.096 0.116 0.    0.458]\n",
      "AUC all:  0.791913214990138\n",
      "\n"
     ]
    },
    {
     "name": "stderr",
     "output_type": "stream",
     "text": [
      "[I 2019-08-24 12:15:31,878] Finished trial#469 resulted in value: -0.791913214990138. Current best value is -0.7948717948717948 with parameters: {'w_lr': 0.25932220860425337, 'w_lda': 0.09195697989035678, 'w_sv': 0.6584085004074863, 'w_xgb': 0.23943615391125597, 'w_lgbm': 0.2584978813734697, 'w_mlp': 0.9426610060258075}.\n"
     ]
    },
    {
     "name": "stdout",
     "output_type": "stream",
     "text": [
      "[w_lr, w_lda, w_sv, w_xgb, w_lgbm,w_cb ] =  [0.23  0.098 0.664 0.257 0.296 0.    0.959]\n",
      "norm =  [0.092 0.039 0.265 0.103 0.118 0.    0.383]\n",
      "AUC all:  0.7938856015779092\n",
      "\n"
     ]
    },
    {
     "name": "stderr",
     "output_type": "stream",
     "text": [
      "[I 2019-08-24 12:15:32,739] Finished trial#470 resulted in value: -0.7938856015779092. Current best value is -0.7948717948717948 with parameters: {'w_lr': 0.25932220860425337, 'w_lda': 0.09195697989035678, 'w_sv': 0.6584085004074863, 'w_xgb': 0.23943615391125597, 'w_lgbm': 0.2584978813734697, 'w_mlp': 0.9426610060258075}.\n"
     ]
    },
    {
     "name": "stdout",
     "output_type": "stream",
     "text": [
      "[w_lr, w_lda, w_sv, w_xgb, w_lgbm,w_cb ] =  [0.257 0.089 0.664 0.239 0.292 0.    0.985]\n",
      "norm =  [0.102 0.035 0.263 0.095 0.116 0.    0.39 ]\n",
      "AUC all:  0.792617638771485\n",
      "\n"
     ]
    },
    {
     "name": "stderr",
     "output_type": "stream",
     "text": [
      "[I 2019-08-24 12:15:33,595] Finished trial#471 resulted in value: -0.792617638771485. Current best value is -0.7948717948717948 with parameters: {'w_lr': 0.25932220860425337, 'w_lda': 0.09195697989035678, 'w_sv': 0.6584085004074863, 'w_xgb': 0.23943615391125597, 'w_lgbm': 0.2584978813734697, 'w_mlp': 0.9426610060258075}.\n"
     ]
    },
    {
     "name": "stdout",
     "output_type": "stream",
     "text": [
      "[w_lr, w_lda, w_sv, w_xgb, w_lgbm,w_cb ] =  [0.183 0.133 0.657 0.256 0.365 0.    0.961]\n",
      "norm =  [0.072 0.052 0.257 0.1   0.143 0.    0.376]\n",
      "AUC all:  0.7902225979149056\n",
      "\n"
     ]
    },
    {
     "name": "stderr",
     "output_type": "stream",
     "text": [
      "[I 2019-08-24 12:15:34,444] Finished trial#472 resulted in value: -0.7902225979149056. Current best value is -0.7948717948717948 with parameters: {'w_lr': 0.25932220860425337, 'w_lda': 0.09195697989035678, 'w_sv': 0.6584085004074863, 'w_xgb': 0.23943615391125597, 'w_lgbm': 0.2584978813734697, 'w_mlp': 0.9426610060258075}.\n"
     ]
    },
    {
     "name": "stdout",
     "output_type": "stream",
     "text": [
      "[w_lr, w_lda, w_sv, w_xgb, w_lgbm,w_cb ] =  [0.169 0.087 0.669 0.311 0.337 0.    0.973]\n",
      "norm =  [0.067 0.034 0.263 0.122 0.132 0.    0.382]\n",
      "AUC all:  0.792617638771485\n",
      "\n"
     ]
    },
    {
     "name": "stderr",
     "output_type": "stream",
     "text": [
      "[I 2019-08-24 12:15:35,311] Finished trial#473 resulted in value: -0.792617638771485. Current best value is -0.7948717948717948 with parameters: {'w_lr': 0.25932220860425337, 'w_lda': 0.09195697989035678, 'w_sv': 0.6584085004074863, 'w_xgb': 0.23943615391125597, 'w_lgbm': 0.2584978813734697, 'w_mlp': 0.9426610060258075}.\n"
     ]
    },
    {
     "name": "stdout",
     "output_type": "stream",
     "text": [
      "[w_lr, w_lda, w_sv, w_xgb, w_lgbm,w_cb ] =  [0.23  0.06  0.645 0.213 0.199 0.    0.981]\n",
      "norm =  [0.099 0.026 0.277 0.091 0.085 0.    0.422]\n",
      "AUC all:  0.792617638771485\n",
      "\n"
     ]
    },
    {
     "name": "stderr",
     "output_type": "stream",
     "text": [
      "[I 2019-08-24 12:15:36,175] Finished trial#474 resulted in value: -0.792617638771485. Current best value is -0.7948717948717948 with parameters: {'w_lr': 0.25932220860425337, 'w_lda': 0.09195697989035678, 'w_sv': 0.6584085004074863, 'w_xgb': 0.23943615391125597, 'w_lgbm': 0.2584978813734697, 'w_mlp': 0.9426610060258075}.\n"
     ]
    },
    {
     "name": "stdout",
     "output_type": "stream",
     "text": [
      "[w_lr, w_lda, w_sv, w_xgb, w_lgbm,w_cb ] =  [0.24  0.109 0.638 0.232 0.261 0.    0.572]\n",
      "norm =  [0.117 0.053 0.311 0.113 0.127 0.    0.279]\n",
      "AUC all:  0.7907861369399829\n",
      "\n"
     ]
    },
    {
     "name": "stderr",
     "output_type": "stream",
     "text": [
      "[I 2019-08-24 12:15:37,036] Finished trial#475 resulted in value: -0.7907861369399829. Current best value is -0.7948717948717948 with parameters: {'w_lr': 0.25932220860425337, 'w_lda': 0.09195697989035678, 'w_sv': 0.6584085004074863, 'w_xgb': 0.23943615391125597, 'w_lgbm': 0.2584978813734697, 'w_mlp': 0.9426610060258075}.\n"
     ]
    },
    {
     "name": "stdout",
     "output_type": "stream",
     "text": [
      "[w_lr, w_lda, w_sv, w_xgb, w_lgbm,w_cb ] =  [0.136 0.093 0.655 0.257 0.287 0.    0.954]\n",
      "norm =  [0.057 0.039 0.275 0.108 0.12  0.    0.401]\n",
      "AUC all:  0.7931811777965624\n",
      "\n"
     ]
    },
    {
     "name": "stderr",
     "output_type": "stream",
     "text": [
      "[I 2019-08-24 12:15:37,899] Finished trial#476 resulted in value: -0.7931811777965624. Current best value is -0.7948717948717948 with parameters: {'w_lr': 0.25932220860425337, 'w_lda': 0.09195697989035678, 'w_sv': 0.6584085004074863, 'w_xgb': 0.23943615391125597, 'w_lgbm': 0.2584978813734697, 'w_mlp': 0.9426610060258075}.\n"
     ]
    },
    {
     "name": "stdout",
     "output_type": "stream",
     "text": [
      "[w_lr, w_lda, w_sv, w_xgb, w_lgbm,w_cb ] =  [0.269 0.016 0.667 0.186 0.231 0.    0.968]\n",
      "norm =  [0.115 0.007 0.286 0.08  0.099 0.    0.414]\n",
      "AUC all:  0.7913496759650606\n",
      "\n"
     ]
    },
    {
     "name": "stderr",
     "output_type": "stream",
     "text": [
      "[I 2019-08-24 12:15:38,761] Finished trial#477 resulted in value: -0.7913496759650606. Current best value is -0.7948717948717948 with parameters: {'w_lr': 0.25932220860425337, 'w_lda': 0.09195697989035678, 'w_sv': 0.6584085004074863, 'w_xgb': 0.23943615391125597, 'w_lgbm': 0.2584978813734697, 'w_mlp': 0.9426610060258075}.\n"
     ]
    },
    {
     "name": "stdout",
     "output_type": "stream",
     "text": [
      "[w_lr, w_lda, w_sv, w_xgb, w_lgbm,w_cb ] =  [0.111 0.927 0.634 0.236 0.298 0.    0.959]\n",
      "norm =  [0.035 0.293 0.2   0.075 0.094 0.    0.303]\n",
      "AUC all:  0.7778247393632008\n",
      "\n"
     ]
    },
    {
     "name": "stderr",
     "output_type": "stream",
     "text": [
      "[I 2019-08-24 12:15:39,623] Finished trial#478 resulted in value: -0.7778247393632008. Current best value is -0.7948717948717948 with parameters: {'w_lr': 0.25932220860425337, 'w_lda': 0.09195697989035678, 'w_sv': 0.6584085004074863, 'w_xgb': 0.23943615391125597, 'w_lgbm': 0.2584978813734697, 'w_mlp': 0.9426610060258075}.\n"
     ]
    },
    {
     "name": "stdout",
     "output_type": "stream",
     "text": [
      "[w_lr, w_lda, w_sv, w_xgb, w_lgbm,w_cb ] =  [0.364 0.082 0.676 0.273 0.271 0.    0.95 ]\n",
      "norm =  [0.139 0.031 0.258 0.104 0.104 0.    0.363]\n",
      "AUC all:  0.7934629473091013\n",
      "\n"
     ]
    },
    {
     "name": "stderr",
     "output_type": "stream",
     "text": [
      "[I 2019-08-24 12:15:40,488] Finished trial#479 resulted in value: -0.7934629473091013. Current best value is -0.7948717948717948 with parameters: {'w_lr': 0.25932220860425337, 'w_lda': 0.09195697989035678, 'w_sv': 0.6584085004074863, 'w_xgb': 0.23943615391125597, 'w_lgbm': 0.2584978813734697, 'w_mlp': 0.9426610060258075}.\n"
     ]
    },
    {
     "name": "stdout",
     "output_type": "stream",
     "text": [
      "[w_lr, w_lda, w_sv, w_xgb, w_lgbm,w_cb ] =  [0.342 0.102 0.648 0.252 0.323 0.    0.945]\n",
      "norm =  [0.131 0.039 0.248 0.096 0.124 0.    0.362]\n",
      "AUC all:  0.7920540997464075\n",
      "\n"
     ]
    },
    {
     "name": "stderr",
     "output_type": "stream",
     "text": [
      "[I 2019-08-24 12:15:41,362] Finished trial#480 resulted in value: -0.7920540997464075. Current best value is -0.7948717948717948 with parameters: {'w_lr': 0.25932220860425337, 'w_lda': 0.09195697989035678, 'w_sv': 0.6584085004074863, 'w_xgb': 0.23943615391125597, 'w_lgbm': 0.2584978813734697, 'w_mlp': 0.9426610060258075}.\n"
     ]
    },
    {
     "name": "stdout",
     "output_type": "stream",
     "text": [
      "[w_lr, w_lda, w_sv, w_xgb, w_lgbm,w_cb ] =  [0.396 0.146 0.63  0.225 0.287 0.    0.96 ]\n",
      "norm =  [0.15  0.055 0.238 0.085 0.109 0.    0.363]\n",
      "AUC all:  0.7920540997464075\n",
      "\n"
     ]
    },
    {
     "name": "stderr",
     "output_type": "stream",
     "text": [
      "[I 2019-08-24 12:15:42,230] Finished trial#481 resulted in value: -0.7920540997464075. Current best value is -0.7948717948717948 with parameters: {'w_lr': 0.25932220860425337, 'w_lda': 0.09195697989035678, 'w_sv': 0.6584085004074863, 'w_xgb': 0.23943615391125597, 'w_lgbm': 0.2584978813734697, 'w_mlp': 0.9426610060258075}.\n"
     ]
    },
    {
     "name": "stdout",
     "output_type": "stream",
     "text": [
      "[w_lr, w_lda, w_sv, w_xgb, w_lgbm,w_cb ] =  [0.196 0.066 0.658 0.206 0.248 0.    0.974]\n",
      "norm =  [0.083 0.028 0.28  0.088 0.105 0.    0.415]\n",
      "AUC all:  0.7921949845026768\n",
      "\n"
     ]
    },
    {
     "name": "stderr",
     "output_type": "stream",
     "text": [
      "[I 2019-08-24 12:15:43,111] Finished trial#482 resulted in value: -0.7921949845026768. Current best value is -0.7948717948717948 with parameters: {'w_lr': 0.25932220860425337, 'w_lda': 0.09195697989035678, 'w_sv': 0.6584085004074863, 'w_xgb': 0.23943615391125597, 'w_lgbm': 0.2584978813734697, 'w_mlp': 0.9426610060258075}.\n"
     ]
    },
    {
     "name": "stdout",
     "output_type": "stream",
     "text": [
      "[w_lr, w_lda, w_sv, w_xgb, w_lgbm,w_cb ] =  [0.099 0.118 0.68  0.264 0.306 0.    0.945]\n",
      "norm =  [0.041 0.049 0.282 0.109 0.127 0.    0.392]\n",
      "AUC all:  0.7928994082840237\n",
      "\n"
     ]
    },
    {
     "name": "stderr",
     "output_type": "stream",
     "text": [
      "[I 2019-08-24 12:15:43,983] Finished trial#483 resulted in value: -0.7928994082840237. Current best value is -0.7948717948717948 with parameters: {'w_lr': 0.25932220860425337, 'w_lda': 0.09195697989035678, 'w_sv': 0.6584085004074863, 'w_xgb': 0.23943615391125597, 'w_lgbm': 0.2584978813734697, 'w_mlp': 0.9426610060258075}.\n"
     ]
    },
    {
     "name": "stdout",
     "output_type": "stream",
     "text": [
      "[w_lr, w_lda, w_sv, w_xgb, w_lgbm,w_cb ] =  [0.141 0.04  0.64  0.224 0.219 0.    0.887]\n",
      "norm =  [0.065 0.019 0.297 0.104 0.102 0.    0.412]\n",
      "AUC all:  0.7923358692589462\n",
      "\n"
     ]
    },
    {
     "name": "stderr",
     "output_type": "stream",
     "text": [
      "[I 2019-08-24 12:15:44,855] Finished trial#484 resulted in value: -0.7923358692589462. Current best value is -0.7948717948717948 with parameters: {'w_lr': 0.25932220860425337, 'w_lda': 0.09195697989035678, 'w_sv': 0.6584085004074863, 'w_xgb': 0.23943615391125597, 'w_lgbm': 0.2584978813734697, 'w_mlp': 0.9426610060258075}.\n"
     ]
    },
    {
     "name": "stdout",
     "output_type": "stream",
     "text": [
      "[w_lr, w_lda, w_sv, w_xgb, w_lgbm,w_cb ] =  [0.307 0.134 0.696 0.293 0.32  0.    0.936]\n",
      "norm =  [0.114 0.05  0.259 0.109 0.119 0.    0.349]\n",
      "AUC all:  0.7930402930402931\n",
      "\n"
     ]
    },
    {
     "name": "stderr",
     "output_type": "stream",
     "text": [
      "[I 2019-08-24 12:15:45,737] Finished trial#485 resulted in value: -0.7930402930402931. Current best value is -0.7948717948717948 with parameters: {'w_lr': 0.25932220860425337, 'w_lda': 0.09195697989035678, 'w_sv': 0.6584085004074863, 'w_xgb': 0.23943615391125597, 'w_lgbm': 0.2584978813734697, 'w_mlp': 0.9426610060258075}.\n"
     ]
    },
    {
     "name": "stdout",
     "output_type": "stream",
     "text": [
      "[w_lr, w_lda, w_sv, w_xgb, w_lgbm,w_cb ] =  [0.001 0.067 0.625 0.188 0.25  0.    0.898]\n",
      "norm =  [0.    0.033 0.308 0.093 0.123 0.    0.443]\n",
      "AUC all:  0.7927585235277543\n",
      "\n"
     ]
    },
    {
     "name": "stderr",
     "output_type": "stream",
     "text": [
      "[I 2019-08-24 12:15:46,629] Finished trial#486 resulted in value: -0.7927585235277543. Current best value is -0.7948717948717948 with parameters: {'w_lr': 0.25932220860425337, 'w_lda': 0.09195697989035678, 'w_sv': 0.6584085004074863, 'w_xgb': 0.23943615391125597, 'w_lgbm': 0.2584978813734697, 'w_mlp': 0.9426610060258075}.\n"
     ]
    },
    {
     "name": "stdout",
     "output_type": "stream",
     "text": [
      "[w_lr, w_lda, w_sv, w_xgb, w_lgbm,w_cb ] =  [0.211 0.095 0.663 0.248 0.282 0.    0.987]\n",
      "norm =  [0.085 0.038 0.267 0.1   0.114 0.    0.397]\n",
      "AUC all:  0.7937447168216398\n",
      "\n"
     ]
    },
    {
     "name": "stderr",
     "output_type": "stream",
     "text": [
      "[I 2019-08-24 12:15:47,501] Finished trial#487 resulted in value: -0.7937447168216398. Current best value is -0.7948717948717948 with parameters: {'w_lr': 0.25932220860425337, 'w_lda': 0.09195697989035678, 'w_sv': 0.6584085004074863, 'w_xgb': 0.23943615391125597, 'w_lgbm': 0.2584978813734697, 'w_mlp': 0.9426610060258075}.\n"
     ]
    },
    {
     "name": "stdout",
     "output_type": "stream",
     "text": [
      "[w_lr, w_lda, w_sv, w_xgb, w_lgbm,w_cb ] =  [0.22  0.165 0.694 0.289 0.312 0.    0.934]\n",
      "norm =  [0.084 0.063 0.266 0.111 0.119 0.    0.357]\n",
      "AUC all:  0.792617638771485\n",
      "\n"
     ]
    },
    {
     "name": "stderr",
     "output_type": "stream",
     "text": [
      "[I 2019-08-24 12:15:48,380] Finished trial#488 resulted in value: -0.792617638771485. Current best value is -0.7948717948717948 with parameters: {'w_lr': 0.25932220860425337, 'w_lda': 0.09195697989035678, 'w_sv': 0.6584085004074863, 'w_xgb': 0.23943615391125597, 'w_lgbm': 0.2584978813734697, 'w_mlp': 0.9426610060258075}.\n"
     ]
    },
    {
     "name": "stdout",
     "output_type": "stream",
     "text": [
      "[w_lr, w_lda, w_sv, w_xgb, w_lgbm,w_cb ] =  [0.486 0.12  0.678 0.335 0.27  0.    0.941]\n",
      "norm =  [0.172 0.042 0.24  0.118 0.095 0.    0.333]\n",
      "AUC all:  0.7917723302338686\n",
      "\n"
     ]
    },
    {
     "name": "stderr",
     "output_type": "stream",
     "text": [
      "[I 2019-08-24 12:15:49,272] Finished trial#489 resulted in value: -0.7917723302338686. Current best value is -0.7948717948717948 with parameters: {'w_lr': 0.25932220860425337, 'w_lda': 0.09195697989035678, 'w_sv': 0.6584085004074863, 'w_xgb': 0.23943615391125597, 'w_lgbm': 0.2584978813734697, 'w_mlp': 0.9426610060258075}.\n"
     ]
    },
    {
     "name": "stdout",
     "output_type": "stream",
     "text": [
      "[w_lr, w_lda, w_sv, w_xgb, w_lgbm,w_cb ] =  [0.44  0.081 0.611 0.28  0.123 0.    0.951]\n",
      "norm =  [0.177 0.032 0.246 0.113 0.05  0.    0.382]\n",
      "AUC all:  0.786559594251902\n",
      "\n"
     ]
    },
    {
     "name": "stderr",
     "output_type": "stream",
     "text": [
      "[I 2019-08-24 12:15:50,161] Finished trial#490 resulted in value: -0.786559594251902. Current best value is -0.7948717948717948 with parameters: {'w_lr': 0.25932220860425337, 'w_lda': 0.09195697989035678, 'w_sv': 0.6584085004074863, 'w_xgb': 0.23943615391125597, 'w_lgbm': 0.2584978813734697, 'w_mlp': 0.9426610060258075}.\n"
     ]
    },
    {
     "name": "stdout",
     "output_type": "stream",
     "text": [
      "[w_lr, w_lda, w_sv, w_xgb, w_lgbm,w_cb ] =  [0.214 0.098 0.665 0.241 0.261 0.    0.985]\n",
      "norm =  [0.087 0.04  0.27  0.098 0.106 0.    0.4  ]\n",
      "AUC all:  0.7938856015779092\n",
      "\n"
     ]
    },
    {
     "name": "stderr",
     "output_type": "stream",
     "text": [
      "[I 2019-08-24 12:15:51,064] Finished trial#491 resulted in value: -0.7938856015779092. Current best value is -0.7948717948717948 with parameters: {'w_lr': 0.25932220860425337, 'w_lda': 0.09195697989035678, 'w_sv': 0.6584085004074863, 'w_xgb': 0.23943615391125597, 'w_lgbm': 0.2584978813734697, 'w_mlp': 0.9426610060258075}.\n"
     ]
    },
    {
     "name": "stdout",
     "output_type": "stream",
     "text": [
      "[w_lr, w_lda, w_sv, w_xgb, w_lgbm,w_cb ] =  [0.261 0.108 0.667 0.232 0.233 0.    0.989]\n",
      "norm =  [0.105 0.044 0.268 0.093 0.094 0.    0.397]\n",
      "AUC all:  0.7910679064525218\n",
      "\n"
     ]
    },
    {
     "name": "stderr",
     "output_type": "stream",
     "text": [
      "[I 2019-08-24 12:15:51,965] Finished trial#492 resulted in value: -0.7910679064525218. Current best value is -0.7948717948717948 with parameters: {'w_lr': 0.25932220860425337, 'w_lda': 0.09195697989035678, 'w_sv': 0.6584085004074863, 'w_xgb': 0.23943615391125597, 'w_lgbm': 0.2584978813734697, 'w_mlp': 0.9426610060258075}.\n"
     ]
    },
    {
     "name": "stdout",
     "output_type": "stream",
     "text": [
      "[w_lr, w_lda, w_sv, w_xgb, w_lgbm,w_cb ] =  [0.235 0.084 0.658 0.213 0.26  0.    0.981]\n",
      "norm =  [0.097 0.034 0.271 0.088 0.107 0.    0.403]\n",
      "AUC all:  0.7931811777965624\n",
      "\n"
     ]
    },
    {
     "name": "stderr",
     "output_type": "stream",
     "text": [
      "[I 2019-08-24 12:15:52,867] Finished trial#493 resulted in value: -0.7931811777965624. Current best value is -0.7948717948717948 with parameters: {'w_lr': 0.25932220860425337, 'w_lda': 0.09195697989035678, 'w_sv': 0.6584085004074863, 'w_xgb': 0.23943615391125597, 'w_lgbm': 0.2584978813734697, 'w_mlp': 0.9426610060258075}.\n"
     ]
    },
    {
     "name": "stdout",
     "output_type": "stream",
     "text": [
      "[w_lr, w_lda, w_sv, w_xgb, w_lgbm,w_cb ] =  [0.252 0.142 0.645 0.249 0.255 0.    0.973]\n",
      "norm =  [0.1   0.056 0.256 0.099 0.101 0.    0.387]\n",
      "AUC all:  0.7923358692589462\n",
      "\n"
     ]
    },
    {
     "name": "stderr",
     "output_type": "stream",
     "text": [
      "[I 2019-08-24 12:15:53,749] Finished trial#494 resulted in value: -0.7923358692589462. Current best value is -0.7948717948717948 with parameters: {'w_lr': 0.25932220860425337, 'w_lda': 0.09195697989035678, 'w_sv': 0.6584085004074863, 'w_xgb': 0.23943615391125597, 'w_lgbm': 0.2584978813734697, 'w_mlp': 0.9426610060258075}.\n"
     ]
    },
    {
     "name": "stdout",
     "output_type": "stream",
     "text": [
      "[w_lr, w_lda, w_sv, w_xgb, w_lgbm,w_cb ] =  [0.29  0.19  0.65  0.237 0.218 0.    0.968]\n",
      "norm =  [0.114 0.074 0.255 0.093 0.085 0.    0.379]\n",
      "AUC all:  0.7882502113271344\n",
      "\n"
     ]
    },
    {
     "name": "stderr",
     "output_type": "stream",
     "text": [
      "[I 2019-08-24 12:15:54,628] Finished trial#495 resulted in value: -0.7882502113271344. Current best value is -0.7948717948717948 with parameters: {'w_lr': 0.25932220860425337, 'w_lda': 0.09195697989035678, 'w_sv': 0.6584085004074863, 'w_xgb': 0.23943615391125597, 'w_lgbm': 0.2584978813734697, 'w_mlp': 0.9426610060258075}.\n"
     ]
    },
    {
     "name": "stdout",
     "output_type": "stream",
     "text": [
      "[w_lr, w_lda, w_sv, w_xgb, w_lgbm,w_cb ] =  [0.19  0.1   0.666 0.202 0.237 0.    0.986]\n",
      "norm =  [0.08  0.042 0.28  0.085 0.1   0.    0.414]\n",
      "AUC all:  0.7919132149901381\n",
      "\n"
     ]
    },
    {
     "name": "stderr",
     "output_type": "stream",
     "text": [
      "[I 2019-08-24 12:15:55,518] Finished trial#496 resulted in value: -0.7919132149901381. Current best value is -0.7948717948717948 with parameters: {'w_lr': 0.25932220860425337, 'w_lda': 0.09195697989035678, 'w_sv': 0.6584085004074863, 'w_xgb': 0.23943615391125597, 'w_lgbm': 0.2584978813734697, 'w_mlp': 0.9426610060258075}.\n"
     ]
    },
    {
     "name": "stdout",
     "output_type": "stream",
     "text": [
      "[w_lr, w_lda, w_sv, w_xgb, w_lgbm,w_cb ] =  [0.238 0.054 0.635 0.152 0.942 0.    0.995]\n",
      "norm =  [0.079 0.018 0.211 0.05  0.312 0.    0.33 ]\n",
      "AUC all:  0.7751479289940829\n",
      "\n"
     ]
    },
    {
     "name": "stderr",
     "output_type": "stream",
     "text": [
      "[I 2019-08-24 12:15:56,415] Finished trial#497 resulted in value: -0.7751479289940829. Current best value is -0.7948717948717948 with parameters: {'w_lr': 0.25932220860425337, 'w_lda': 0.09195697989035678, 'w_sv': 0.6584085004074863, 'w_xgb': 0.23943615391125597, 'w_lgbm': 0.2584978813734697, 'w_mlp': 0.9426610060258075}.\n"
     ]
    },
    {
     "name": "stdout",
     "output_type": "stream",
     "text": [
      "[w_lr, w_lda, w_sv, w_xgb, w_lgbm,w_cb ] =  [0.221 0.07  0.655 0.265 0.273 0.    0.963]\n",
      "norm =  [0.09  0.029 0.268 0.108 0.112 0.    0.394]\n",
      "AUC all:  0.7936038320653704\n",
      "\n"
     ]
    },
    {
     "name": "stderr",
     "output_type": "stream",
     "text": [
      "[I 2019-08-24 12:15:57,310] Finished trial#498 resulted in value: -0.7936038320653704. Current best value is -0.7948717948717948 with parameters: {'w_lr': 0.25932220860425337, 'w_lda': 0.09195697989035678, 'w_sv': 0.6584085004074863, 'w_xgb': 0.23943615391125597, 'w_lgbm': 0.2584978813734697, 'w_mlp': 0.9426610060258075}.\n"
     ]
    },
    {
     "name": "stdout",
     "output_type": "stream",
     "text": [
      "[w_lr, w_lda, w_sv, w_xgb, w_lgbm,w_cb ] =  [0.305 0.129 0.674 0.228 0.199 0.    0.975]\n",
      "norm =  [0.122 0.052 0.268 0.091 0.079 0.    0.388]\n",
      "AUC all:  0.7895181741335587\n",
      "\n"
     ]
    },
    {
     "name": "stderr",
     "output_type": "stream",
     "text": [
      "[I 2019-08-24 12:15:58,197] Finished trial#499 resulted in value: -0.7895181741335587. Current best value is -0.7948717948717948 with parameters: {'w_lr': 0.25932220860425337, 'w_lda': 0.09195697989035678, 'w_sv': 0.6584085004074863, 'w_xgb': 0.23943615391125597, 'w_lgbm': 0.2584978813734697, 'w_mlp': 0.9426610060258075}.\n"
     ]
    },
    {
     "name": "stdout",
     "output_type": "stream",
     "text": [
      "[w_lr, w_lda, w_sv, w_xgb, w_lgbm,w_cb ] =  [0.174 0.113 0.629 0.246 0.539 0.    0.957]\n",
      "norm =  [0.065 0.042 0.237 0.092 0.203 0.    0.36 ]\n",
      "AUC all:  0.786559594251902\n",
      "\n"
     ]
    },
    {
     "name": "stderr",
     "output_type": "stream",
     "text": [
      "[I 2019-08-24 12:15:59,101] Finished trial#500 resulted in value: -0.786559594251902. Current best value is -0.7948717948717948 with parameters: {'w_lr': 0.25932220860425337, 'w_lda': 0.09195697989035678, 'w_sv': 0.6584085004074863, 'w_xgb': 0.23943615391125597, 'w_lgbm': 0.2584978813734697, 'w_mlp': 0.9426610060258075}.\n"
     ]
    },
    {
     "name": "stdout",
     "output_type": "stream",
     "text": [
      "[w_lr, w_lda, w_sv, w_xgb, w_lgbm,w_cb ] =  [0.223 0.085 0.618 0.217 0.265 0.    0.965]\n",
      "norm =  [0.094 0.036 0.261 0.092 0.111 0.    0.407]\n",
      "AUC all:  0.7934629473091012\n",
      "\n"
     ]
    },
    {
     "name": "stderr",
     "output_type": "stream",
     "text": [
      "[I 2019-08-24 12:15:59,990] Finished trial#501 resulted in value: -0.7934629473091012. Current best value is -0.7948717948717948 with parameters: {'w_lr': 0.25932220860425337, 'w_lda': 0.09195697989035678, 'w_sv': 0.6584085004074863, 'w_xgb': 0.23943615391125597, 'w_lgbm': 0.2584978813734697, 'w_mlp': 0.9426610060258075}.\n"
     ]
    },
    {
     "name": "stdout",
     "output_type": "stream",
     "text": [
      "[w_lr, w_lda, w_sv, w_xgb, w_lgbm,w_cb ] =  [0.253 0.156 0.684 0.26  0.25  0.    0.942]\n",
      "norm =  [0.099 0.061 0.269 0.102 0.098 0.    0.37 ]\n",
      "AUC all:  0.79149056072133\n",
      "\n"
     ]
    },
    {
     "name": "stderr",
     "output_type": "stream",
     "text": [
      "[I 2019-08-24 12:16:00,915] Finished trial#502 resulted in value: -0.79149056072133. Current best value is -0.7948717948717948 with parameters: {'w_lr': 0.25932220860425337, 'w_lda': 0.09195697989035678, 'w_sv': 0.6584085004074863, 'w_xgb': 0.23943615391125597, 'w_lgbm': 0.2584978813734697, 'w_mlp': 0.9426610060258075}.\n"
     ]
    },
    {
     "name": "stdout",
     "output_type": "stream",
     "text": [
      "[w_lr, w_lda, w_sv, w_xgb, w_lgbm,w_cb ] =  [0.207 0.1   0.645 0.189 0.287 0.    0.951]\n",
      "norm =  [0.087 0.042 0.271 0.079 0.121 0.    0.4  ]\n",
      "AUC all:  0.7920540997464074\n",
      "\n"
     ]
    },
    {
     "name": "stderr",
     "output_type": "stream",
     "text": [
      "[I 2019-08-24 12:16:01,840] Finished trial#503 resulted in value: -0.7920540997464074. Current best value is -0.7948717948717948 with parameters: {'w_lr': 0.25932220860425337, 'w_lda': 0.09195697989035678, 'w_sv': 0.6584085004074863, 'w_xgb': 0.23943615391125597, 'w_lgbm': 0.2584978813734697, 'w_mlp': 0.9426610060258075}.\n"
     ]
    },
    {
     "name": "stdout",
     "output_type": "stream",
     "text": [
      "[w_lr, w_lda, w_sv, w_xgb, w_lgbm,w_cb ] =  [0.268 0.126 0.654 0.276 0.23  0.    0.924]\n",
      "norm =  [0.108 0.051 0.264 0.111 0.093 0.    0.373]\n",
      "AUC all:  0.7906452521837137\n",
      "\n"
     ]
    },
    {
     "name": "stderr",
     "output_type": "stream",
     "text": [
      "[I 2019-08-24 12:16:02,761] Finished trial#504 resulted in value: -0.7906452521837137. Current best value is -0.7948717948717948 with parameters: {'w_lr': 0.25932220860425337, 'w_lda': 0.09195697989035678, 'w_sv': 0.6584085004074863, 'w_xgb': 0.23943615391125597, 'w_lgbm': 0.2584978813734697, 'w_mlp': 0.9426610060258075}.\n"
     ]
    },
    {
     "name": "stdout",
     "output_type": "stream",
     "text": [
      "[w_lr, w_lda, w_sv, w_xgb, w_lgbm,w_cb ] =  [0.167 0.082 0.639 0.237 0.271 0.    0.98 ]\n",
      "norm =  [0.07  0.034 0.269 0.1   0.114 0.    0.413]\n",
      "AUC all:  0.7938856015779092\n",
      "\n"
     ]
    },
    {
     "name": "stderr",
     "output_type": "stream",
     "text": [
      "[I 2019-08-24 12:16:03,676] Finished trial#505 resulted in value: -0.7938856015779092. Current best value is -0.7948717948717948 with parameters: {'w_lr': 0.25932220860425337, 'w_lda': 0.09195697989035678, 'w_sv': 0.6584085004074863, 'w_xgb': 0.23943615391125597, 'w_lgbm': 0.2584978813734697, 'w_mlp': 0.9426610060258075}.\n"
     ]
    },
    {
     "name": "stdout",
     "output_type": "stream",
     "text": [
      "[w_lr, w_lda, w_sv, w_xgb, w_lgbm,w_cb ] =  [0.172 0.032 0.642 0.243 0.3   0.    0.992]\n",
      "norm =  [0.072 0.013 0.27  0.102 0.126 0.    0.417]\n",
      "AUC all:  0.7913496759650605\n",
      "\n"
     ]
    },
    {
     "name": "stderr",
     "output_type": "stream",
     "text": [
      "[I 2019-08-24 12:16:04,593] Finished trial#506 resulted in value: -0.7913496759650605. Current best value is -0.7948717948717948 with parameters: {'w_lr': 0.25932220860425337, 'w_lda': 0.09195697989035678, 'w_sv': 0.6584085004074863, 'w_xgb': 0.23943615391125597, 'w_lgbm': 0.2584978813734697, 'w_mlp': 0.9426610060258075}.\n"
     ]
    },
    {
     "name": "stdout",
     "output_type": "stream",
     "text": [
      "[w_lr, w_lda, w_sv, w_xgb, w_lgbm,w_cb ] =  [0.166 0.049 0.633 0.268 0.269 0.    0.974]\n",
      "norm =  [0.07  0.021 0.268 0.113 0.114 0.    0.413]\n",
      "AUC all:  0.7928994082840236\n",
      "\n"
     ]
    },
    {
     "name": "stderr",
     "output_type": "stream",
     "text": [
      "[I 2019-08-24 12:16:05,522] Finished trial#507 resulted in value: -0.7928994082840236. Current best value is -0.7948717948717948 with parameters: {'w_lr': 0.25932220860425337, 'w_lda': 0.09195697989035678, 'w_sv': 0.6584085004074863, 'w_xgb': 0.23943615391125597, 'w_lgbm': 0.2584978813734697, 'w_mlp': 0.9426610060258075}.\n"
     ]
    },
    {
     "name": "stdout",
     "output_type": "stream",
     "text": [
      "[w_lr, w_lda, w_sv, w_xgb, w_lgbm,w_cb ] =  [0.191 0.063 0.648 0.239 0.284 0.    0.978]\n",
      "norm =  [0.079 0.026 0.27  0.1   0.118 0.    0.407]\n",
      "AUC all:  0.7928994082840237\n",
      "\n"
     ]
    },
    {
     "name": "stderr",
     "output_type": "stream",
     "text": [
      "[I 2019-08-24 12:16:06,439] Finished trial#508 resulted in value: -0.7928994082840237. Current best value is -0.7948717948717948 with parameters: {'w_lr': 0.25932220860425337, 'w_lda': 0.09195697989035678, 'w_sv': 0.6584085004074863, 'w_xgb': 0.23943615391125597, 'w_lgbm': 0.2584978813734697, 'w_mlp': 0.9426610060258075}.\n"
     ]
    },
    {
     "name": "stdout",
     "output_type": "stream",
     "text": [
      "[w_lr, w_lda, w_sv, w_xgb, w_lgbm,w_cb ] =  [0.145 0.082 0.625 0.208 0.247 0.    0.997]\n",
      "norm =  [0.063 0.036 0.271 0.09  0.107 0.    0.433]\n",
      "AUC all:  0.7923358692589462\n",
      "\n"
     ]
    },
    {
     "name": "stderr",
     "output_type": "stream",
     "text": [
      "[I 2019-08-24 12:16:07,357] Finished trial#509 resulted in value: -0.7923358692589462. Current best value is -0.7948717948717948 with parameters: {'w_lr': 0.25932220860425337, 'w_lda': 0.09195697989035678, 'w_sv': 0.6584085004074863, 'w_xgb': 0.23943615391125597, 'w_lgbm': 0.2584978813734697, 'w_mlp': 0.9426610060258075}.\n"
     ]
    },
    {
     "name": "stdout",
     "output_type": "stream",
     "text": [
      "[w_lr, w_lda, w_sv, w_xgb, w_lgbm,w_cb ] =  [0.213 0.072 0.664 0.303 0.299 0.    0.986]\n",
      "norm =  [0.084 0.028 0.262 0.119 0.118 0.    0.389]\n",
      "AUC all:  0.7931811777965624\n",
      "\n"
     ]
    },
    {
     "name": "stderr",
     "output_type": "stream",
     "text": [
      "[I 2019-08-24 12:16:08,270] Finished trial#510 resulted in value: -0.7931811777965624. Current best value is -0.7948717948717948 with parameters: {'w_lr': 0.25932220860425337, 'w_lda': 0.09195697989035678, 'w_sv': 0.6584085004074863, 'w_xgb': 0.23943615391125597, 'w_lgbm': 0.2584978813734697, 'w_mlp': 0.9426610060258075}.\n"
     ]
    },
    {
     "name": "stdout",
     "output_type": "stream",
     "text": [
      "[w_lr, w_lda, w_sv, w_xgb, w_lgbm,w_cb ] =  [0.197 0.09  0.616 0.221 0.215 0.    0.97 ]\n",
      "norm =  [0.085 0.039 0.267 0.096 0.093 0.    0.42 ]\n",
      "AUC all:  0.7917723302338687\n",
      "\n"
     ]
    },
    {
     "name": "stderr",
     "output_type": "stream",
     "text": [
      "[I 2019-08-24 12:16:09,190] Finished trial#511 resulted in value: -0.7917723302338687. Current best value is -0.7948717948717948 with parameters: {'w_lr': 0.25932220860425337, 'w_lda': 0.09195697989035678, 'w_sv': 0.6584085004074863, 'w_xgb': 0.23943615391125597, 'w_lgbm': 0.2584978813734697, 'w_mlp': 0.9426610060258075}.\n"
     ]
    },
    {
     "name": "stdout",
     "output_type": "stream",
     "text": [
      "[w_lr, w_lda, w_sv, w_xgb, w_lgbm,w_cb ] =  [0.239 0.112 0.634 0.255 0.273 0.    0.981]\n",
      "norm =  [0.096 0.045 0.254 0.102 0.11  0.    0.393]\n",
      "AUC all:  0.7940264863341786\n",
      "\n"
     ]
    },
    {
     "name": "stderr",
     "output_type": "stream",
     "text": [
      "[I 2019-08-24 12:16:10,110] Finished trial#512 resulted in value: -0.7940264863341786. Current best value is -0.7948717948717948 with parameters: {'w_lr': 0.25932220860425337, 'w_lda': 0.09195697989035678, 'w_sv': 0.6584085004074863, 'w_xgb': 0.23943615391125597, 'w_lgbm': 0.2584978813734697, 'w_mlp': 0.9426610060258075}.\n"
     ]
    },
    {
     "name": "stdout",
     "output_type": "stream",
     "text": [
      "[w_lr, w_lda, w_sv, w_xgb, w_lgbm,w_cb ] =  [0.247 0.108 0.636 0.261 0.266 0.    0.985]\n",
      "norm =  [0.099 0.043 0.254 0.104 0.106 0.    0.394]\n",
      "AUC all:  0.7937447168216398\n",
      "\n"
     ]
    },
    {
     "name": "stderr",
     "output_type": "stream",
     "text": [
      "[I 2019-08-24 12:16:11,038] Finished trial#513 resulted in value: -0.7937447168216398. Current best value is -0.7948717948717948 with parameters: {'w_lr': 0.25932220860425337, 'w_lda': 0.09195697989035678, 'w_sv': 0.6584085004074863, 'w_xgb': 0.23943615391125597, 'w_lgbm': 0.2584978813734697, 'w_mlp': 0.9426610060258075}.\n"
     ]
    },
    {
     "name": "stdout",
     "output_type": "stream",
     "text": [
      "[w_lr, w_lda, w_sv, w_xgb, w_lgbm,w_cb ] =  [0.226 0.051 0.637 0.249 0.255 0.    0.996]\n",
      "norm =  [0.094 0.021 0.264 0.103 0.106 0.    0.413]\n",
      "AUC all:  0.7927585235277543\n",
      "\n"
     ]
    },
    {
     "name": "stderr",
     "output_type": "stream",
     "text": [
      "[I 2019-08-24 12:16:11,959] Finished trial#514 resulted in value: -0.7927585235277543. Current best value is -0.7948717948717948 with parameters: {'w_lr': 0.25932220860425337, 'w_lda': 0.09195697989035678, 'w_sv': 0.6584085004074863, 'w_xgb': 0.23943615391125597, 'w_lgbm': 0.2584978813734697, 'w_mlp': 0.9426610060258075}.\n"
     ]
    },
    {
     "name": "stdout",
     "output_type": "stream",
     "text": [
      "[w_lr, w_lda, w_sv, w_xgb, w_lgbm,w_cb ] =  [0.238 0.079 0.652 0.28  0.278 0.    0.981]\n",
      "norm =  [0.095 0.032 0.26  0.112 0.111 0.    0.391]\n",
      "AUC all:  0.7928994082840237\n",
      "\n"
     ]
    },
    {
     "name": "stderr",
     "output_type": "stream",
     "text": [
      "[I 2019-08-24 12:16:12,885] Finished trial#515 resulted in value: -0.7928994082840237. Current best value is -0.7948717948717948 with parameters: {'w_lr': 0.25932220860425337, 'w_lda': 0.09195697989035678, 'w_sv': 0.6584085004074863, 'w_xgb': 0.23943615391125597, 'w_lgbm': 0.2584978813734697, 'w_mlp': 0.9426610060258075}.\n"
     ]
    },
    {
     "name": "stdout",
     "output_type": "stream",
     "text": [
      "[w_lr, w_lda, w_sv, w_xgb, w_lgbm,w_cb ] =  [0.2   0.096 0.627 0.175 0.234 0.    0.988]\n",
      "norm =  [0.086 0.042 0.27  0.075 0.101 0.    0.426]\n",
      "AUC all:  0.7920540997464074\n",
      "\n"
     ]
    },
    {
     "name": "stderr",
     "output_type": "stream",
     "text": [
      "[I 2019-08-24 12:16:13,821] Finished trial#516 resulted in value: -0.7920540997464074. Current best value is -0.7948717948717948 with parameters: {'w_lr': 0.25932220860425337, 'w_lda': 0.09195697989035678, 'w_sv': 0.6584085004074863, 'w_xgb': 0.23943615391125597, 'w_lgbm': 0.2584978813734697, 'w_mlp': 0.9426610060258075}.\n"
     ]
    },
    {
     "name": "stdout",
     "output_type": "stream",
     "text": [
      "[w_lr, w_lda, w_sv, w_xgb, w_lgbm,w_cb ] =  [0.267 0.07  0.637 0.232 0.257 0.    0.961]\n",
      "norm =  [0.11  0.029 0.263 0.096 0.106 0.    0.396]\n",
      "AUC all:  0.7933220625528318\n",
      "\n"
     ]
    },
    {
     "name": "stderr",
     "output_type": "stream",
     "text": [
      "[I 2019-08-24 12:16:14,756] Finished trial#517 resulted in value: -0.7933220625528318. Current best value is -0.7948717948717948 with parameters: {'w_lr': 0.25932220860425337, 'w_lda': 0.09195697989035678, 'w_sv': 0.6584085004074863, 'w_xgb': 0.23943615391125597, 'w_lgbm': 0.2584978813734697, 'w_mlp': 0.9426610060258075}.\n"
     ]
    },
    {
     "name": "stdout",
     "output_type": "stream",
     "text": [
      "[w_lr, w_lda, w_sv, w_xgb, w_lgbm,w_cb ] =  [0.162 0.102 0.615 0.204 0.171 0.    0.978]\n",
      "norm =  [0.072 0.046 0.276 0.091 0.076 0.    0.438]\n",
      "AUC all:  0.7892364046210201\n",
      "\n"
     ]
    },
    {
     "name": "stderr",
     "output_type": "stream",
     "text": [
      "[I 2019-08-24 12:16:15,697] Finished trial#518 resulted in value: -0.7892364046210201. Current best value is -0.7948717948717948 with parameters: {'w_lr': 0.25932220860425337, 'w_lda': 0.09195697989035678, 'w_sv': 0.6584085004074863, 'w_xgb': 0.23943615391125597, 'w_lgbm': 0.2584978813734697, 'w_mlp': 0.9426610060258075}.\n"
     ]
    },
    {
     "name": "stdout",
     "output_type": "stream",
     "text": [
      "[w_lr, w_lda, w_sv, w_xgb, w_lgbm,w_cb ] =  [0.286 0.121 0.624 0.257 0.275 0.    0.969]\n",
      "norm =  [0.113 0.048 0.247 0.101 0.109 0.    0.383]\n",
      "AUC all:  0.7928994082840237\n",
      "\n"
     ]
    },
    {
     "name": "stderr",
     "output_type": "stream",
     "text": [
      "[I 2019-08-24 12:16:16,639] Finished trial#519 resulted in value: -0.7928994082840237. Current best value is -0.7948717948717948 with parameters: {'w_lr': 0.25932220860425337, 'w_lda': 0.09195697989035678, 'w_sv': 0.6584085004074863, 'w_xgb': 0.23943615391125597, 'w_lgbm': 0.2584978813734697, 'w_mlp': 0.9426610060258075}.\n"
     ]
    },
    {
     "name": "stdout",
     "output_type": "stream",
     "text": [
      "[w_lr, w_lda, w_sv, w_xgb, w_lgbm,w_cb ] =  [0.225 0.12  0.642 0.243 0.24  0.    0.978]\n",
      "norm =  [0.092 0.049 0.262 0.099 0.098 0.    0.399]\n",
      "AUC all:  0.7916314454775992\n",
      "\n"
     ]
    },
    {
     "name": "stderr",
     "output_type": "stream",
     "text": [
      "[I 2019-08-24 12:16:17,588] Finished trial#520 resulted in value: -0.7916314454775992. Current best value is -0.7948717948717948 with parameters: {'w_lr': 0.25932220860425337, 'w_lda': 0.09195697989035678, 'w_sv': 0.6584085004074863, 'w_xgb': 0.23943615391125597, 'w_lgbm': 0.2584978813734697, 'w_mlp': 0.9426610060258075}.\n"
     ]
    },
    {
     "name": "stdout",
     "output_type": "stream",
     "text": [
      "[w_lr, w_lda, w_sv, w_xgb, w_lgbm,w_cb ] =  [0.154 0.032 0.602 0.22  0.486 0.    0.965]\n",
      "norm =  [0.063 0.013 0.245 0.09  0.198 0.    0.392]\n",
      "AUC all:  0.7874049027895181\n",
      "\n"
     ]
    },
    {
     "name": "stderr",
     "output_type": "stream",
     "text": [
      "[I 2019-08-24 12:16:18,528] Finished trial#521 resulted in value: -0.7874049027895181. Current best value is -0.7948717948717948 with parameters: {'w_lr': 0.25932220860425337, 'w_lda': 0.09195697989035678, 'w_sv': 0.6584085004074863, 'w_xgb': 0.23943615391125597, 'w_lgbm': 0.2584978813734697, 'w_mlp': 0.9426610060258075}.\n"
     ]
    },
    {
     "name": "stdout",
     "output_type": "stream",
     "text": [
      "[w_lr, w_lda, w_sv, w_xgb, w_lgbm,w_cb ] =  [0.187 0.147 0.67  0.293 0.326 0.    0.999]\n",
      "norm =  [0.071 0.056 0.256 0.112 0.124 0.    0.381]\n",
      "AUC all:  0.7927585235277543\n",
      "\n"
     ]
    },
    {
     "name": "stderr",
     "output_type": "stream",
     "text": [
      "[I 2019-08-24 12:16:19,475] Finished trial#522 resulted in value: -0.7927585235277543. Current best value is -0.7948717948717948 with parameters: {'w_lr': 0.25932220860425337, 'w_lda': 0.09195697989035678, 'w_sv': 0.6584085004074863, 'w_xgb': 0.23943615391125597, 'w_lgbm': 0.2584978813734697, 'w_mlp': 0.9426610060258075}.\n"
     ]
    },
    {
     "name": "stdout",
     "output_type": "stream",
     "text": [
      "[w_lr, w_lda, w_sv, w_xgb, w_lgbm,w_cb ] =  [0.125 0.138 0.661 0.319 0.303 0.    0.952]\n",
      "norm =  [0.05  0.055 0.264 0.128 0.121 0.    0.381]\n",
      "AUC all:  0.7933220625528318\n",
      "\n"
     ]
    },
    {
     "name": "stderr",
     "output_type": "stream",
     "text": [
      "[I 2019-08-24 12:16:20,411] Finished trial#523 resulted in value: -0.7933220625528318. Current best value is -0.7948717948717948 with parameters: {'w_lr': 0.25932220860425337, 'w_lda': 0.09195697989035678, 'w_sv': 0.6584085004074863, 'w_xgb': 0.23943615391125597, 'w_lgbm': 0.2584978813734697, 'w_mlp': 0.9426610060258075}.\n"
     ]
    },
    {
     "name": "stdout",
     "output_type": "stream",
     "text": [
      "[w_lr, w_lda, w_sv, w_xgb, w_lgbm,w_cb ] =  [0.229 0.162 0.651 0.276 0.342 0.    0.957]\n",
      "norm =  [0.088 0.062 0.249 0.106 0.131 0.    0.366]\n",
      "AUC all:  0.791913214990138\n",
      "\n"
     ]
    },
    {
     "name": "stderr",
     "output_type": "stream",
     "text": [
      "[I 2019-08-24 12:16:21,359] Finished trial#524 resulted in value: -0.791913214990138. Current best value is -0.7948717948717948 with parameters: {'w_lr': 0.25932220860425337, 'w_lda': 0.09195697989035678, 'w_sv': 0.6584085004074863, 'w_xgb': 0.23943615391125597, 'w_lgbm': 0.2584978813734697, 'w_mlp': 0.9426610060258075}.\n"
     ]
    },
    {
     "name": "stdout",
     "output_type": "stream",
     "text": [
      "[w_lr, w_lda, w_sv, w_xgb, w_lgbm,w_cb ] =  [0.206 0.084 0.62  0.02  0.211 0.    0.973]\n",
      "norm =  [0.097 0.04  0.293 0.01  0.1   0.    0.46 ]\n",
      "AUC all:  0.7876866723020569\n",
      "\n"
     ]
    },
    {
     "name": "stderr",
     "output_type": "stream",
     "text": [
      "[I 2019-08-24 12:16:22,299] Finished trial#525 resulted in value: -0.7876866723020569. Current best value is -0.7948717948717948 with parameters: {'w_lr': 0.25932220860425337, 'w_lda': 0.09195697989035678, 'w_sv': 0.6584085004074863, 'w_xgb': 0.23943615391125597, 'w_lgbm': 0.2584978813734697, 'w_mlp': 0.9426610060258075}.\n"
     ]
    },
    {
     "name": "stdout",
     "output_type": "stream",
     "text": [
      "[w_lr, w_lda, w_sv, w_xgb, w_lgbm,w_cb ] =  [0.215 0.052 0.565 0.193 0.233 0.    0.985]\n",
      "norm =  [0.096 0.023 0.252 0.086 0.104 0.    0.439]\n",
      "AUC all:  0.7923358692589461\n",
      "\n"
     ]
    },
    {
     "name": "stderr",
     "output_type": "stream",
     "text": [
      "[I 2019-08-24 12:16:23,241] Finished trial#526 resulted in value: -0.7923358692589461. Current best value is -0.7948717948717948 with parameters: {'w_lr': 0.25932220860425337, 'w_lda': 0.09195697989035678, 'w_sv': 0.6584085004074863, 'w_xgb': 0.23943615391125597, 'w_lgbm': 0.2584978813734697, 'w_mlp': 0.9426610060258075}.\n"
     ]
    },
    {
     "name": "stdout",
     "output_type": "stream",
     "text": [
      "[w_lr, w_lda, w_sv, w_xgb, w_lgbm,w_cb ] =  [0.269 0.104 0.629 0.935 0.271 0.    0.966]\n",
      "norm =  [0.085 0.033 0.198 0.295 0.085 0.    0.304]\n",
      "AUC all:  0.7861369399830939\n",
      "\n"
     ]
    },
    {
     "name": "stderr",
     "output_type": "stream",
     "text": [
      "[I 2019-08-24 12:16:24,177] Finished trial#527 resulted in value: -0.7861369399830939. Current best value is -0.7948717948717948 with parameters: {'w_lr': 0.25932220860425337, 'w_lda': 0.09195697989035678, 'w_sv': 0.6584085004074863, 'w_xgb': 0.23943615391125597, 'w_lgbm': 0.2584978813734697, 'w_mlp': 0.9426610060258075}.\n"
     ]
    },
    {
     "name": "stdout",
     "output_type": "stream",
     "text": [
      "[w_lr, w_lda, w_sv, w_xgb, w_lgbm,w_cb ] =  [0.241 0.069 0.608 0.23  0.247 0.    0.959]\n",
      "norm =  [0.102 0.029 0.258 0.098 0.105 0.    0.407]\n",
      "AUC all:  0.793040293040293\n",
      "\n"
     ]
    },
    {
     "name": "stderr",
     "output_type": "stream",
     "text": [
      "[I 2019-08-24 12:16:25,117] Finished trial#528 resulted in value: -0.793040293040293. Current best value is -0.7948717948717948 with parameters: {'w_lr': 0.25932220860425337, 'w_lda': 0.09195697989035678, 'w_sv': 0.6584085004074863, 'w_xgb': 0.23943615391125597, 'w_lgbm': 0.2584978813734697, 'w_mlp': 0.9426610060258075}.\n"
     ]
    },
    {
     "name": "stdout",
     "output_type": "stream",
     "text": [
      "[w_lr, w_lda, w_sv, w_xgb, w_lgbm,w_cb ] =  [0.186 0.01  0.641 0.258 0.288 0.    0.944]\n",
      "norm =  [0.08  0.004 0.276 0.111 0.124 0.    0.406]\n",
      "AUC all:  0.7909270216962525\n",
      "\n"
     ]
    },
    {
     "name": "stderr",
     "output_type": "stream",
     "text": [
      "[I 2019-08-24 12:16:26,063] Finished trial#529 resulted in value: -0.7909270216962525. Current best value is -0.7948717948717948 with parameters: {'w_lr': 0.25932220860425337, 'w_lda': 0.09195697989035678, 'w_sv': 0.6584085004074863, 'w_xgb': 0.23943615391125597, 'w_lgbm': 0.2584978813734697, 'w_mlp': 0.9426610060258075}.\n"
     ]
    },
    {
     "name": "stdout",
     "output_type": "stream",
     "text": [
      "[w_lr, w_lda, w_sv, w_xgb, w_lgbm,w_cb ] =  [0.253 0.181 0.68  0.282 0.308 0.    0.937]\n",
      "norm =  [0.096 0.069 0.258 0.107 0.117 0.    0.355]\n",
      "AUC all:  0.7924767540152156\n",
      "\n"
     ]
    },
    {
     "name": "stderr",
     "output_type": "stream",
     "text": [
      "[I 2019-08-24 12:16:27,015] Finished trial#530 resulted in value: -0.7924767540152156. Current best value is -0.7948717948717948 with parameters: {'w_lr': 0.25932220860425337, 'w_lda': 0.09195697989035678, 'w_sv': 0.6584085004074863, 'w_xgb': 0.23943615391125597, 'w_lgbm': 0.2584978813734697, 'w_mlp': 0.9426610060258075}.\n"
     ]
    },
    {
     "name": "stdout",
     "output_type": "stream",
     "text": [
      "[w_lr, w_lda, w_sv, w_xgb, w_lgbm,w_cb ] =  [0.162 0.092 0.633 0.244 0.261 0.    0.95 ]\n",
      "norm =  [0.069 0.039 0.27  0.104 0.112 0.    0.406]\n",
      "AUC all:  0.7943082558467175\n",
      "\n"
     ]
    },
    {
     "name": "stderr",
     "output_type": "stream",
     "text": [
      "[I 2019-08-24 12:16:27,954] Finished trial#531 resulted in value: -0.7943082558467175. Current best value is -0.7948717948717948 with parameters: {'w_lr': 0.25932220860425337, 'w_lda': 0.09195697989035678, 'w_sv': 0.6584085004074863, 'w_xgb': 0.23943615391125597, 'w_lgbm': 0.2584978813734697, 'w_mlp': 0.9426610060258075}.\n"
     ]
    },
    {
     "name": "stdout",
     "output_type": "stream",
     "text": [
      "[w_lr, w_lda, w_sv, w_xgb, w_lgbm,w_cb ] =  [0.161 0.087 0.632 0.242 0.257 0.    0.954]\n",
      "norm =  [0.069 0.037 0.271 0.104 0.11  0.    0.409]\n",
      "AUC all:  0.7943082558467174\n",
      "\n"
     ]
    },
    {
     "name": "stderr",
     "output_type": "stream",
     "text": [
      "[I 2019-08-24 12:16:28,906] Finished trial#532 resulted in value: -0.7943082558467174. Current best value is -0.7948717948717948 with parameters: {'w_lr': 0.25932220860425337, 'w_lda': 0.09195697989035678, 'w_sv': 0.6584085004074863, 'w_xgb': 0.23943615391125597, 'w_lgbm': 0.2584978813734697, 'w_mlp': 0.9426610060258075}.\n"
     ]
    },
    {
     "name": "stdout",
     "output_type": "stream",
     "text": [
      "[w_lr, w_lda, w_sv, w_xgb, w_lgbm,w_cb ] =  [0.154 0.044 0.631 0.248 0.261 0.    0.952]\n",
      "norm =  [0.067 0.019 0.276 0.108 0.114 0.    0.416]\n",
      "AUC all:  0.7933220625528317\n",
      "\n"
     ]
    },
    {
     "name": "stderr",
     "output_type": "stream",
     "text": [
      "[I 2019-08-24 12:16:29,859] Finished trial#533 resulted in value: -0.7933220625528317. Current best value is -0.7948717948717948 with parameters: {'w_lr': 0.25932220860425337, 'w_lda': 0.09195697989035678, 'w_sv': 0.6584085004074863, 'w_xgb': 0.23943615391125597, 'w_lgbm': 0.2584978813734697, 'w_mlp': 0.9426610060258075}.\n"
     ]
    },
    {
     "name": "stdout",
     "output_type": "stream",
     "text": [
      "[w_lr, w_lda, w_sv, w_xgb, w_lgbm,w_cb ] =  [0.138 0.078 0.643 0.261 0.262 0.    0.962]\n",
      "norm =  [0.059 0.033 0.274 0.111 0.112 0.    0.41 ]\n",
      "AUC all:  0.7934629473091012\n",
      "\n"
     ]
    },
    {
     "name": "stderr",
     "output_type": "stream",
     "text": [
      "[I 2019-08-24 12:16:30,814] Finished trial#534 resulted in value: -0.7934629473091012. Current best value is -0.7948717948717948 with parameters: {'w_lr': 0.25932220860425337, 'w_lda': 0.09195697989035678, 'w_sv': 0.6584085004074863, 'w_xgb': 0.23943615391125597, 'w_lgbm': 0.2584978813734697, 'w_mlp': 0.9426610060258075}.\n"
     ]
    },
    {
     "name": "stdout",
     "output_type": "stream",
     "text": [
      "[w_lr, w_lda, w_sv, w_xgb, w_lgbm,w_cb ] =  [0.173 0.06  0.634 0.236 0.278 0.    0.972]\n",
      "norm =  [0.074 0.025 0.269 0.1   0.118 0.    0.413]\n",
      "AUC all:  0.793462947309101\n",
      "\n"
     ]
    },
    {
     "name": "stderr",
     "output_type": "stream",
     "text": [
      "[I 2019-08-24 12:16:31,789] Finished trial#535 resulted in value: -0.793462947309101. Current best value is -0.7948717948717948 with parameters: {'w_lr': 0.25932220860425337, 'w_lda': 0.09195697989035678, 'w_sv': 0.6584085004074863, 'w_xgb': 0.23943615391125597, 'w_lgbm': 0.2584978813734697, 'w_mlp': 0.9426610060258075}.\n"
     ]
    },
    {
     "name": "stdout",
     "output_type": "stream",
     "text": [
      "[w_lr, w_lda, w_sv, w_xgb, w_lgbm,w_cb ] =  [0.151 0.092 0.624 0.259 0.225 0.    0.95 ]\n",
      "norm =  [0.066 0.04  0.271 0.113 0.098 0.    0.413]\n",
      "AUC all:  0.7926176387714848\n",
      "\n"
     ]
    },
    {
     "name": "stderr",
     "output_type": "stream",
     "text": [
      "[I 2019-08-24 12:16:32,749] Finished trial#536 resulted in value: -0.7926176387714848. Current best value is -0.7948717948717948 with parameters: {'w_lr': 0.25932220860425337, 'w_lda': 0.09195697989035678, 'w_sv': 0.6584085004074863, 'w_xgb': 0.23943615391125597, 'w_lgbm': 0.2584978813734697, 'w_mlp': 0.9426610060258075}.\n"
     ]
    },
    {
     "name": "stdout",
     "output_type": "stream",
     "text": [
      "[w_lr, w_lda, w_sv, w_xgb, w_lgbm,w_cb ] =  [0.187 0.081 0.646 0.23  0.253 0.    0.959]\n",
      "norm =  [0.079 0.034 0.274 0.097 0.107 0.    0.407]\n",
      "AUC all:  0.7936038320653706\n",
      "\n"
     ]
    },
    {
     "name": "stderr",
     "output_type": "stream",
     "text": [
      "[I 2019-08-24 12:16:33,705] Finished trial#537 resulted in value: -0.7936038320653706. Current best value is -0.7948717948717948 with parameters: {'w_lr': 0.25932220860425337, 'w_lda': 0.09195697989035678, 'w_sv': 0.6584085004074863, 'w_xgb': 0.23943615391125597, 'w_lgbm': 0.2584978813734697, 'w_mlp': 0.9426610060258075}.\n"
     ]
    },
    {
     "name": "stdout",
     "output_type": "stream",
     "text": [
      "[w_lr, w_lda, w_sv, w_xgb, w_lgbm,w_cb ] =  [0.165 0.062 0.637 0.271 0.275 0.    0.991]\n",
      "norm =  [0.069 0.026 0.265 0.113 0.114 0.    0.413]\n",
      "AUC all:  0.7934629473091012\n",
      "\n"
     ]
    },
    {
     "name": "stderr",
     "output_type": "stream",
     "text": [
      "[I 2019-08-24 12:16:34,672] Finished trial#538 resulted in value: -0.7934629473091012. Current best value is -0.7948717948717948 with parameters: {'w_lr': 0.25932220860425337, 'w_lda': 0.09195697989035678, 'w_sv': 0.6584085004074863, 'w_xgb': 0.23943615391125597, 'w_lgbm': 0.2584978813734697, 'w_mlp': 0.9426610060258075}.\n"
     ]
    },
    {
     "name": "stdout",
     "output_type": "stream",
     "text": [
      "[w_lr, w_lda, w_sv, w_xgb, w_lgbm,w_cb ] =  [0.133 0.741 0.654 0.241 0.246 0.    0.949]\n",
      "norm =  [0.045 0.25  0.221 0.081 0.083 0.    0.32 ]\n",
      "AUC all:  0.7779656241194702\n",
      "\n"
     ]
    },
    {
     "name": "stderr",
     "output_type": "stream",
     "text": [
      "[I 2019-08-24 12:16:35,628] Finished trial#539 resulted in value: -0.7779656241194702. Current best value is -0.7948717948717948 with parameters: {'w_lr': 0.25932220860425337, 'w_lda': 0.09195697989035678, 'w_sv': 0.6584085004074863, 'w_xgb': 0.23943615391125597, 'w_lgbm': 0.2584978813734697, 'w_mlp': 0.9426610060258075}.\n"
     ]
    },
    {
     "name": "stdout",
     "output_type": "stream",
     "text": [
      "[w_lr, w_lda, w_sv, w_xgb, w_lgbm,w_cb ] =  [0.122 0.107 0.629 0.249 0.289 0.    0.971]\n",
      "norm =  [0.052 0.045 0.266 0.105 0.122 0.    0.41 ]\n",
      "AUC all:  0.7927585235277542\n",
      "\n"
     ]
    },
    {
     "name": "stderr",
     "output_type": "stream",
     "text": [
      "[I 2019-08-24 12:16:36,592] Finished trial#540 resulted in value: -0.7927585235277542. Current best value is -0.7948717948717948 with parameters: {'w_lr': 0.25932220860425337, 'w_lda': 0.09195697989035678, 'w_sv': 0.6584085004074863, 'w_xgb': 0.23943615391125597, 'w_lgbm': 0.2584978813734697, 'w_mlp': 0.9426610060258075}.\n"
     ]
    },
    {
     "name": "stdout",
     "output_type": "stream",
     "text": [
      "[w_lr, w_lda, w_sv, w_xgb, w_lgbm,w_cb ] =  [0.17  0.089 0.62  0.223 0.222 0.    0.944]\n",
      "norm =  [0.075 0.039 0.274 0.098 0.098 0.    0.416]\n",
      "AUC all:  0.7916314454775992\n",
      "\n"
     ]
    },
    {
     "name": "stderr",
     "output_type": "stream",
     "text": [
      "[I 2019-08-24 12:16:37,562] Finished trial#541 resulted in value: -0.7916314454775992. Current best value is -0.7948717948717948 with parameters: {'w_lr': 0.25932220860425337, 'w_lda': 0.09195697989035678, 'w_sv': 0.6584085004074863, 'w_xgb': 0.23943615391125597, 'w_lgbm': 0.2584978813734697, 'w_mlp': 0.9426610060258075}.\n"
     ]
    },
    {
     "name": "stdout",
     "output_type": "stream",
     "text": [
      "[w_lr, w_lda, w_sv, w_xgb, w_lgbm,w_cb ] =  [0.149 0.03  0.651 0.27  0.259 0.    0.776]\n",
      "norm =  [0.07  0.014 0.305 0.127 0.121 0.    0.363]\n",
      "AUC all:  0.7920540997464074\n",
      "\n"
     ]
    },
    {
     "name": "stderr",
     "output_type": "stream",
     "text": [
      "[I 2019-08-24 12:16:38,537] Finished trial#542 resulted in value: -0.7920540997464074. Current best value is -0.7948717948717948 with parameters: {'w_lr': 0.25932220860425337, 'w_lda': 0.09195697989035678, 'w_sv': 0.6584085004074863, 'w_xgb': 0.23943615391125597, 'w_lgbm': 0.2584978813734697, 'w_mlp': 0.9426610060258075}.\n"
     ]
    },
    {
     "name": "stdout",
     "output_type": "stream",
     "text": [
      "[w_lr, w_lda, w_sv, w_xgb, w_lgbm,w_cb ] =  [0.197 0.063 0.637 0.248 0.197 0.    0.962]\n",
      "norm =  [0.085 0.027 0.276 0.107 0.086 0.    0.418]\n",
      "AUC all:  0.7920540997464075\n",
      "\n"
     ]
    },
    {
     "name": "stderr",
     "output_type": "stream",
     "text": [
      "[I 2019-08-24 12:16:39,495] Finished trial#543 resulted in value: -0.7920540997464075. Current best value is -0.7948717948717948 with parameters: {'w_lr': 0.25932220860425337, 'w_lda': 0.09195697989035678, 'w_sv': 0.6584085004074863, 'w_xgb': 0.23943615391125597, 'w_lgbm': 0.2584978813734697, 'w_mlp': 0.9426610060258075}.\n"
     ]
    },
    {
     "name": "stdout",
     "output_type": "stream",
     "text": [
      "[w_lr, w_lda, w_sv, w_xgb, w_lgbm,w_cb ] =  [0.183 0.11  0.647 0.218 0.238 0.    0.687]\n",
      "norm =  [0.088 0.053 0.311 0.105 0.114 0.    0.33 ]\n",
      "AUC all:  0.7930402930402931\n",
      "\n"
     ]
    },
    {
     "name": "stderr",
     "output_type": "stream",
     "text": [
      "[I 2019-08-24 12:16:40,460] Finished trial#544 resulted in value: -0.7930402930402931. Current best value is -0.7948717948717948 with parameters: {'w_lr': 0.25932220860425337, 'w_lda': 0.09195697989035678, 'w_sv': 0.6584085004074863, 'w_xgb': 0.23943615391125597, 'w_lgbm': 0.2584978813734697, 'w_mlp': 0.9426610060258075}.\n"
     ]
    },
    {
     "name": "stdout",
     "output_type": "stream",
     "text": [
      "[w_lr, w_lda, w_sv, w_xgb, w_lgbm,w_cb ] =  [0.129 0.089 0.619 0.239 0.277 0.    0.979]\n",
      "norm =  [0.055 0.038 0.266 0.103 0.119 0.    0.42 ]\n",
      "AUC all:  0.7937447168216398\n",
      "\n"
     ]
    },
    {
     "name": "stderr",
     "output_type": "stream",
     "text": [
      "[I 2019-08-24 12:16:41,443] Finished trial#545 resulted in value: -0.7937447168216398. Current best value is -0.7948717948717948 with parameters: {'w_lr': 0.25932220860425337, 'w_lda': 0.09195697989035678, 'w_sv': 0.6584085004074863, 'w_xgb': 0.23943615391125597, 'w_lgbm': 0.2584978813734697, 'w_mlp': 0.9426610060258075}.\n"
     ]
    },
    {
     "name": "stdout",
     "output_type": "stream",
     "text": [
      "[w_lr, w_lda, w_sv, w_xgb, w_lgbm,w_cb ] =  [0.17  0.076 0.631 0.279 0.258 0.    0.953]\n",
      "norm =  [0.072 0.032 0.266 0.118 0.109 0.    0.403]\n",
      "AUC all:  0.7924767540152156\n",
      "\n"
     ]
    },
    {
     "name": "stderr",
     "output_type": "stream",
     "text": [
      "[I 2019-08-24 12:16:42,411] Finished trial#546 resulted in value: -0.7924767540152156. Current best value is -0.7948717948717948 with parameters: {'w_lr': 0.25932220860425337, 'w_lda': 0.09195697989035678, 'w_sv': 0.6584085004074863, 'w_xgb': 0.23943615391125597, 'w_lgbm': 0.2584978813734697, 'w_mlp': 0.9426610060258075}.\n"
     ]
    },
    {
     "name": "stdout",
     "output_type": "stream",
     "text": [
      "[w_lr, w_lda, w_sv, w_xgb, w_lgbm,w_cb ] =  [0.208 0.047 0.659 0.265 0.292 0.    0.944]\n",
      "norm =  [0.086 0.019 0.273 0.11  0.121 0.    0.391]\n",
      "AUC all:  0.7917723302338687\n",
      "\n"
     ]
    },
    {
     "name": "stderr",
     "output_type": "stream",
     "text": [
      "[I 2019-08-24 12:16:43,375] Finished trial#547 resulted in value: -0.7917723302338687. Current best value is -0.7948717948717948 with parameters: {'w_lr': 0.25932220860425337, 'w_lda': 0.09195697989035678, 'w_sv': 0.6584085004074863, 'w_xgb': 0.23943615391125597, 'w_lgbm': 0.2584978813734697, 'w_mlp': 0.9426610060258075}.\n"
     ]
    },
    {
     "name": "stdout",
     "output_type": "stream",
     "text": [
      "[w_lr, w_lda, w_sv, w_xgb, w_lgbm,w_cb ] =  [0.167 0.12  0.645 0.091 0.226 0.    0.966]\n",
      "norm =  [0.075 0.054 0.291 0.041 0.102 0.    0.436]\n",
      "AUC all:  0.7913496759650607\n",
      "\n"
     ]
    },
    {
     "name": "stderr",
     "output_type": "stream",
     "text": [
      "[I 2019-08-24 12:16:44,345] Finished trial#548 resulted in value: -0.7913496759650607. Current best value is -0.7948717948717948 with parameters: {'w_lr': 0.25932220860425337, 'w_lda': 0.09195697989035678, 'w_sv': 0.6584085004074863, 'w_xgb': 0.23943615391125597, 'w_lgbm': 0.2584978813734697, 'w_mlp': 0.9426610060258075}.\n"
     ]
    },
    {
     "name": "stdout",
     "output_type": "stream",
     "text": [
      "[w_lr, w_lda, w_sv, w_xgb, w_lgbm,w_cb ] =  [0.143 0.095 0.638 0.221 0.268 0.    0.955]\n",
      "norm =  [0.062 0.041 0.275 0.095 0.116 0.    0.412]\n",
      "AUC all:  0.7933220625528318\n",
      "\n"
     ]
    },
    {
     "name": "stderr",
     "output_type": "stream",
     "text": [
      "[I 2019-08-24 12:16:45,337] Finished trial#549 resulted in value: -0.7933220625528318. Current best value is -0.7948717948717948 with parameters: {'w_lr': 0.25932220860425337, 'w_lda': 0.09195697989035678, 'w_sv': 0.6584085004074863, 'w_xgb': 0.23943615391125597, 'w_lgbm': 0.2584978813734697, 'w_mlp': 0.9426610060258075}.\n"
     ]
    },
    {
     "name": "stdout",
     "output_type": "stream",
     "text": [
      "[w_lr, w_lda, w_sv, w_xgb, w_lgbm,w_cb ] =  [0.183 0.109 0.615 0.253 0.244 0.    0.98 ]\n",
      "norm =  [0.077 0.046 0.258 0.106 0.102 0.    0.411]\n",
      "AUC all:  0.7924767540152156\n",
      "\n"
     ]
    },
    {
     "name": "stderr",
     "output_type": "stream",
     "text": [
      "[I 2019-08-24 12:16:46,319] Finished trial#550 resulted in value: -0.7924767540152156. Current best value is -0.7948717948717948 with parameters: {'w_lr': 0.25932220860425337, 'w_lda': 0.09195697989035678, 'w_sv': 0.6584085004074863, 'w_xgb': 0.23943615391125597, 'w_lgbm': 0.2584978813734697, 'w_mlp': 0.9426610060258075}.\n"
     ]
    },
    {
     "name": "stdout",
     "output_type": "stream",
     "text": [
      "[w_lr, w_lda, w_sv, w_xgb, w_lgbm,w_cb ] =  [0.113 0.069 0.656 0.286 0.294 0.    0.942]\n",
      "norm =  [0.048 0.029 0.278 0.121 0.125 0.    0.399]\n",
      "AUC all:  0.7924767540152156\n",
      "\n"
     ]
    },
    {
     "name": "stderr",
     "output_type": "stream",
     "text": [
      "[I 2019-08-24 12:16:47,292] Finished trial#551 resulted in value: -0.7924767540152156. Current best value is -0.7948717948717948 with parameters: {'w_lr': 0.25932220860425337, 'w_lda': 0.09195697989035678, 'w_sv': 0.6584085004074863, 'w_xgb': 0.23943615391125597, 'w_lgbm': 0.2584978813734697, 'w_mlp': 0.9426610060258075}.\n"
     ]
    },
    {
     "name": "stdout",
     "output_type": "stream",
     "text": [
      "[w_lr, w_lda, w_sv, w_xgb, w_lgbm,w_cb ] =  [0.208 0.002 0.633 0.232 0.211 0.    0.97 ]\n",
      "norm =  [0.092 0.001 0.281 0.103 0.093 0.    0.43 ]\n",
      "AUC all:  0.7931811777965625\n",
      "\n"
     ]
    },
    {
     "name": "stderr",
     "output_type": "stream",
     "text": [
      "[I 2019-08-24 12:16:48,276] Finished trial#552 resulted in value: -0.7931811777965625. Current best value is -0.7948717948717948 with parameters: {'w_lr': 0.25932220860425337, 'w_lda': 0.09195697989035678, 'w_sv': 0.6584085004074863, 'w_xgb': 0.23943615391125597, 'w_lgbm': 0.2584978813734697, 'w_mlp': 0.9426610060258075}.\n"
     ]
    },
    {
     "name": "stdout",
     "output_type": "stream",
     "text": [
      "[w_lr, w_lda, w_sv, w_xgb, w_lgbm,w_cb ] =  [0.24  0.122 0.622 0.265 0.255 0.    0.936]\n",
      "norm =  [0.098 0.05  0.255 0.109 0.105 0.    0.384]\n",
      "AUC all:  0.7927585235277543\n",
      "\n"
     ]
    },
    {
     "name": "stderr",
     "output_type": "stream",
     "text": [
      "[I 2019-08-24 12:16:49,274] Finished trial#553 resulted in value: -0.7927585235277543. Current best value is -0.7948717948717948 with parameters: {'w_lr': 0.25932220860425337, 'w_lda': 0.09195697989035678, 'w_sv': 0.6584085004074863, 'w_xgb': 0.23943615391125597, 'w_lgbm': 0.2584978813734697, 'w_mlp': 0.9426610060258075}.\n"
     ]
    },
    {
     "name": "stdout",
     "output_type": "stream",
     "text": [
      "[w_lr, w_lda, w_sv, w_xgb, w_lgbm,w_cb ] =  [0.219 0.092 0.649 0.243 0.28  0.    0.751]\n",
      "norm =  [0.098 0.041 0.291 0.109 0.125 0.    0.336]\n",
      "AUC all:  0.791913214990138\n",
      "\n"
     ]
    },
    {
     "name": "stderr",
     "output_type": "stream",
     "text": [
      "[I 2019-08-24 12:16:50,257] Finished trial#554 resulted in value: -0.791913214990138. Current best value is -0.7948717948717948 with parameters: {'w_lr': 0.25932220860425337, 'w_lda': 0.09195697989035678, 'w_sv': 0.6584085004074863, 'w_xgb': 0.23943615391125597, 'w_lgbm': 0.2584978813734697, 'w_mlp': 0.9426610060258075}.\n"
     ]
    },
    {
     "name": "stdout",
     "output_type": "stream",
     "text": [
      "[w_lr, w_lda, w_sv, w_xgb, w_lgbm,w_cb ] =  [0.198 0.049 0.662 0.206 0.235 0.    0.986]\n",
      "norm =  [0.085 0.021 0.284 0.088 0.101 0.    0.422]\n",
      "AUC all:  0.7916314454775992\n",
      "\n"
     ]
    },
    {
     "name": "stderr",
     "output_type": "stream",
     "text": [
      "[I 2019-08-24 12:16:51,228] Finished trial#555 resulted in value: -0.7916314454775992. Current best value is -0.7948717948717948 with parameters: {'w_lr': 0.25932220860425337, 'w_lda': 0.09195697989035678, 'w_sv': 0.6584085004074863, 'w_xgb': 0.23943615391125597, 'w_lgbm': 0.2584978813734697, 'w_mlp': 0.9426610060258075}.\n"
     ]
    },
    {
     "name": "stdout",
     "output_type": "stream",
     "text": [
      "[w_lr, w_lda, w_sv, w_xgb, w_lgbm,w_cb ] =  [0.154 0.08  0.628 0.278 0.27  0.    0.959]\n",
      "norm =  [0.065 0.034 0.265 0.117 0.114 0.    0.405]\n",
      "AUC all:  0.7936038320653704\n",
      "\n"
     ]
    },
    {
     "name": "stderr",
     "output_type": "stream",
     "text": [
      "[I 2019-08-24 12:16:52,225] Finished trial#556 resulted in value: -0.7936038320653704. Current best value is -0.7948717948717948 with parameters: {'w_lr': 0.25932220860425337, 'w_lda': 0.09195697989035678, 'w_sv': 0.6584085004074863, 'w_xgb': 0.23943615391125597, 'w_lgbm': 0.2584978813734697, 'w_mlp': 0.9426610060258075}.\n"
     ]
    },
    {
     "name": "stdout",
     "output_type": "stream",
     "text": [
      "[w_lr, w_lda, w_sv, w_xgb, w_lgbm,w_cb ] =  [0.135 0.328 0.639 0.22  0.792 0.    0.95 ]\n",
      "norm =  [0.044 0.107 0.208 0.072 0.259 0.    0.31 ]\n",
      "AUC all:  0.7805015497323189\n",
      "\n"
     ]
    },
    {
     "name": "stderr",
     "output_type": "stream",
     "text": [
      "[I 2019-08-24 12:16:53,205] Finished trial#557 resulted in value: -0.7805015497323189. Current best value is -0.7948717948717948 with parameters: {'w_lr': 0.25932220860425337, 'w_lda': 0.09195697989035678, 'w_sv': 0.6584085004074863, 'w_xgb': 0.23943615391125597, 'w_lgbm': 0.2584978813734697, 'w_mlp': 0.9426610060258075}.\n"
     ]
    },
    {
     "name": "stdout",
     "output_type": "stream",
     "text": [
      "[w_lr, w_lda, w_sv, w_xgb, w_lgbm,w_cb ] =  [0.113 0.106 0.613 0.258 0.3   0.    0.934]\n",
      "norm =  [0.049 0.046 0.264 0.111 0.129 0.    0.402]\n",
      "AUC all:  0.7927585235277543\n",
      "\n"
     ]
    },
    {
     "name": "stderr",
     "output_type": "stream",
     "text": [
      "[I 2019-08-24 12:16:54,209] Finished trial#558 resulted in value: -0.7927585235277543. Current best value is -0.7948717948717948 with parameters: {'w_lr': 0.25932220860425337, 'w_lda': 0.09195697989035678, 'w_sv': 0.6584085004074863, 'w_xgb': 0.23943615391125597, 'w_lgbm': 0.2584978813734697, 'w_mlp': 0.9426610060258075}.\n"
     ]
    },
    {
     "name": "stdout",
     "output_type": "stream",
     "text": [
      "[w_lr, w_lda, w_sv, w_xgb, w_lgbm,w_cb ] =  [0.252 0.443 0.645 0.298 0.253 0.    0.973]\n",
      "norm =  [0.088 0.155 0.225 0.104 0.088 0.    0.34 ]\n",
      "AUC all:  0.7841645533953225\n",
      "\n"
     ]
    },
    {
     "name": "stderr",
     "output_type": "stream",
     "text": [
      "[I 2019-08-24 12:16:55,186] Finished trial#559 resulted in value: -0.7841645533953225. Current best value is -0.7948717948717948 with parameters: {'w_lr': 0.25932220860425337, 'w_lda': 0.09195697989035678, 'w_sv': 0.6584085004074863, 'w_xgb': 0.23943615391125597, 'w_lgbm': 0.2584978813734697, 'w_mlp': 0.9426610060258075}.\n"
     ]
    },
    {
     "name": "stdout",
     "output_type": "stream",
     "text": [
      "[w_lr, w_lda, w_sv, w_xgb, w_lgbm,w_cb ] =  [0.183 0.129 0.657 0.233 0.192 0.    0.963]\n",
      "norm =  [0.077 0.055 0.279 0.099 0.082 0.    0.409]\n",
      "AUC all:  0.7896590588898281\n",
      "\n"
     ]
    },
    {
     "name": "stderr",
     "output_type": "stream",
     "text": [
      "[I 2019-08-24 12:16:56,188] Finished trial#560 resulted in value: -0.7896590588898281. Current best value is -0.7948717948717948 with parameters: {'w_lr': 0.25932220860425337, 'w_lda': 0.09195697989035678, 'w_sv': 0.6584085004074863, 'w_xgb': 0.23943615391125597, 'w_lgbm': 0.2584978813734697, 'w_mlp': 0.9426610060258075}.\n"
     ]
    },
    {
     "name": "stdout",
     "output_type": "stream",
     "text": [
      "[w_lr, w_lda, w_sv, w_xgb, w_lgbm,w_cb ] =  [0.158 0.508 0.626 0.251 0.226 0.    0.521]\n",
      "norm =  [0.069 0.222 0.274 0.11  0.099 0.    0.227]\n",
      "AUC all:  0.7810650887573964\n",
      "\n"
     ]
    },
    {
     "name": "stderr",
     "output_type": "stream",
     "text": [
      "[I 2019-08-24 12:16:57,184] Finished trial#561 resulted in value: -0.7810650887573964. Current best value is -0.7948717948717948 with parameters: {'w_lr': 0.25932220860425337, 'w_lda': 0.09195697989035678, 'w_sv': 0.6584085004074863, 'w_xgb': 0.23943615391125597, 'w_lgbm': 0.2584978813734697, 'w_mlp': 0.9426610060258075}.\n"
     ]
    },
    {
     "name": "stdout",
     "output_type": "stream",
     "text": [
      "[w_lr, w_lda, w_sv, w_xgb, w_lgbm,w_cb ] =  [0.231 0.066 0.665 0.203 0.277 0.    0.999]\n",
      "norm =  [0.094 0.027 0.272 0.083 0.113 0.    0.409]\n",
      "AUC all:  0.7928994082840236\n",
      "\n"
     ]
    },
    {
     "name": "stderr",
     "output_type": "stream",
     "text": [
      "[I 2019-08-24 12:16:58,181] Finished trial#562 resulted in value: -0.7928994082840236. Current best value is -0.7948717948717948 with parameters: {'w_lr': 0.25932220860425337, 'w_lda': 0.09195697989035678, 'w_sv': 0.6584085004074863, 'w_xgb': 0.23943615391125597, 'w_lgbm': 0.2584978813734697, 'w_mlp': 0.9426610060258075}.\n"
     ]
    },
    {
     "name": "stdout",
     "output_type": "stream",
     "text": [
      "[w_lr, w_lda, w_sv, w_xgb, w_lgbm,w_cb ] =  [0.282 0.093 0.639 0.277 0.244 0.    0.815]\n",
      "norm =  [0.12  0.04  0.272 0.118 0.104 0.    0.347]\n",
      "AUC all:  0.7921949845026768\n",
      "\n"
     ]
    },
    {
     "name": "stderr",
     "output_type": "stream",
     "text": [
      "[I 2019-08-24 12:16:59,180] Finished trial#563 resulted in value: -0.7921949845026768. Current best value is -0.7948717948717948 with parameters: {'w_lr': 0.25932220860425337, 'w_lda': 0.09195697989035678, 'w_sv': 0.6584085004074863, 'w_xgb': 0.23943615391125597, 'w_lgbm': 0.2584978813734697, 'w_mlp': 0.9426610060258075}.\n"
     ]
    },
    {
     "name": "stdout",
     "output_type": "stream",
     "text": [
      "[w_lr, w_lda, w_sv, w_xgb, w_lgbm,w_cb ] =  [0.205 0.116 0.608 0.234 0.314 0.    0.945]\n",
      "norm =  [0.084 0.048 0.251 0.097 0.13  0.    0.39 ]\n",
      "AUC all:  0.7924767540152157\n",
      "\n"
     ]
    },
    {
     "name": "stderr",
     "output_type": "stream",
     "text": [
      "[I 2019-08-24 12:17:00,171] Finished trial#564 resulted in value: -0.7924767540152157. Current best value is -0.7948717948717948 with parameters: {'w_lr': 0.25932220860425337, 'w_lda': 0.09195697989035678, 'w_sv': 0.6584085004074863, 'w_xgb': 0.23943615391125597, 'w_lgbm': 0.2584978813734697, 'w_mlp': 0.9426610060258075}.\n"
     ]
    },
    {
     "name": "stdout",
     "output_type": "stream",
     "text": [
      "[w_lr, w_lda, w_sv, w_xgb, w_lgbm,w_cb ] =  [0.129 0.023 0.647 0.264 0.265 0.    0.991]\n",
      "norm =  [0.056 0.01  0.279 0.114 0.114 0.    0.427]\n",
      "AUC all:  0.7926176387714848\n",
      "\n"
     ]
    },
    {
     "name": "stderr",
     "output_type": "stream",
     "text": [
      "[I 2019-08-24 12:17:01,166] Finished trial#565 resulted in value: -0.7926176387714848. Current best value is -0.7948717948717948 with parameters: {'w_lr': 0.25932220860425337, 'w_lda': 0.09195697989035678, 'w_sv': 0.6584085004074863, 'w_xgb': 0.23943615391125597, 'w_lgbm': 0.2584978813734697, 'w_mlp': 0.9426610060258075}.\n"
     ]
    },
    {
     "name": "stdout",
     "output_type": "stream",
     "text": [
      "[w_lr, w_lda, w_sv, w_xgb, w_lgbm,w_cb ] =  [0.18  0.078 0.621 0.22  0.29  0.    0.955]\n",
      "norm =  [0.077 0.033 0.265 0.094 0.124 0.    0.407]\n",
      "AUC all:  0.7930402930402931\n",
      "\n"
     ]
    },
    {
     "name": "stderr",
     "output_type": "stream",
     "text": [
      "[I 2019-08-24 12:17:02,180] Finished trial#566 resulted in value: -0.7930402930402931. Current best value is -0.7948717948717948 with parameters: {'w_lr': 0.25932220860425337, 'w_lda': 0.09195697989035678, 'w_sv': 0.6584085004074863, 'w_xgb': 0.23943615391125597, 'w_lgbm': 0.2584978813734697, 'w_mlp': 0.9426610060258075}.\n"
     ]
    },
    {
     "name": "stdout",
     "output_type": "stream",
     "text": [
      "[w_lr, w_lda, w_sv, w_xgb, w_lgbm,w_cb ] =  [0.247 0.103 0.655 0.293 0.218 0.    0.935]\n",
      "norm =  [0.101 0.042 0.267 0.119 0.089 0.    0.382]\n",
      "AUC all:  0.7895181741335587\n",
      "\n"
     ]
    },
    {
     "name": "stderr",
     "output_type": "stream",
     "text": [
      "[I 2019-08-24 12:17:03,189] Finished trial#567 resulted in value: -0.7895181741335587. Current best value is -0.7948717948717948 with parameters: {'w_lr': 0.25932220860425337, 'w_lda': 0.09195697989035678, 'w_sv': 0.6584085004074863, 'w_xgb': 0.23943615391125597, 'w_lgbm': 0.2584978813734697, 'w_mlp': 0.9426610060258075}.\n"
     ]
    },
    {
     "name": "stdout",
     "output_type": "stream",
     "text": [
      "[w_lr, w_lda, w_sv, w_xgb, w_lgbm,w_cb ] =  [0.154 0.053 0.634 0.246 0.255 0.    0.978]\n",
      "norm =  [0.066 0.023 0.273 0.106 0.11  0.    0.421]\n",
      "AUC all:  0.7927585235277543\n",
      "\n"
     ]
    },
    {
     "name": "stderr",
     "output_type": "stream",
     "text": [
      "[I 2019-08-24 12:17:04,190] Finished trial#568 resulted in value: -0.7927585235277543. Current best value is -0.7948717948717948 with parameters: {'w_lr': 0.25932220860425337, 'w_lda': 0.09195697989035678, 'w_sv': 0.6584085004074863, 'w_xgb': 0.23943615391125597, 'w_lgbm': 0.2584978813734697, 'w_mlp': 0.9426610060258075}.\n"
     ]
    },
    {
     "name": "stdout",
     "output_type": "stream",
     "text": [
      "[w_lr, w_lda, w_sv, w_xgb, w_lgbm,w_cb ] =  [0.229 0.131 0.669 0.198 0.279 0.    0.964]\n",
      "norm =  [0.093 0.053 0.271 0.08  0.113 0.    0.39 ]\n",
      "AUC all:  0.7924767540152156\n",
      "\n"
     ]
    },
    {
     "name": "stderr",
     "output_type": "stream",
     "text": [
      "[I 2019-08-24 12:17:05,195] Finished trial#569 resulted in value: -0.7924767540152156. Current best value is -0.7948717948717948 with parameters: {'w_lr': 0.25932220860425337, 'w_lda': 0.09195697989035678, 'w_sv': 0.6584085004074863, 'w_xgb': 0.23943615391125597, 'w_lgbm': 0.2584978813734697, 'w_mlp': 0.9426610060258075}.\n"
     ]
    },
    {
     "name": "stdout",
     "output_type": "stream",
     "text": [
      "[w_lr, w_lda, w_sv, w_xgb, w_lgbm,w_cb ] =  [0.215 0.089 0.629 0.267 0.235 0.    0.949]\n",
      "norm =  [0.09  0.037 0.264 0.112 0.099 0.    0.398]\n",
      "AUC all:  0.7927585235277542\n",
      "\n"
     ]
    },
    {
     "name": "stderr",
     "output_type": "stream",
     "text": [
      "[I 2019-08-24 12:17:06,209] Finished trial#570 resulted in value: -0.7927585235277542. Current best value is -0.7948717948717948 with parameters: {'w_lr': 0.25932220860425337, 'w_lda': 0.09195697989035678, 'w_sv': 0.6584085004074863, 'w_xgb': 0.23943615391125597, 'w_lgbm': 0.2584978813734697, 'w_mlp': 0.9426610060258075}.\n"
     ]
    },
    {
     "name": "stdout",
     "output_type": "stream",
     "text": [
      "[w_lr, w_lda, w_sv, w_xgb, w_lgbm,w_cb ] =  [0.518 0.108 0.643 0.238 0.299 0.    0.93 ]\n",
      "norm =  [0.189 0.04  0.235 0.087 0.109 0.    0.34 ]\n",
      "AUC all:  0.7921949845026769\n",
      "\n"
     ]
    },
    {
     "name": "stderr",
     "output_type": "stream",
     "text": [
      "[I 2019-08-24 12:17:07,240] Finished trial#571 resulted in value: -0.7921949845026769. Current best value is -0.7948717948717948 with parameters: {'w_lr': 0.25932220860425337, 'w_lda': 0.09195697989035678, 'w_sv': 0.6584085004074863, 'w_xgb': 0.23943615391125597, 'w_lgbm': 0.2584978813734697, 'w_mlp': 0.9426610060258075}.\n"
     ]
    },
    {
     "name": "stdout",
     "output_type": "stream",
     "text": [
      "[w_lr, w_lda, w_sv, w_xgb, w_lgbm,w_cb ] =  [0.169 0.069 0.615 0.215 0.258 0.    0.97 ]\n",
      "norm =  [0.074 0.03  0.268 0.094 0.112 0.    0.422]\n",
      "AUC all:  0.792617638771485\n",
      "\n"
     ]
    },
    {
     "name": "stderr",
     "output_type": "stream",
     "text": [
      "[I 2019-08-24 12:17:08,261] Finished trial#572 resulted in value: -0.792617638771485. Current best value is -0.7948717948717948 with parameters: {'w_lr': 0.25932220860425337, 'w_lda': 0.09195697989035678, 'w_sv': 0.6584085004074863, 'w_xgb': 0.23943615391125597, 'w_lgbm': 0.2584978813734697, 'w_mlp': 0.9426610060258075}.\n"
     ]
    },
    {
     "name": "stdout",
     "output_type": "stream",
     "text": [
      "[w_lr, w_lda, w_sv, w_xgb, w_lgbm,w_cb ] =  [0.108 0.033 0.664 0.292 0.205 0.    0.718]\n",
      "norm =  [0.053 0.016 0.329 0.144 0.101 0.    0.356]\n",
      "AUC all:  0.7900817131586363\n",
      "\n"
     ]
    },
    {
     "name": "stderr",
     "output_type": "stream",
     "text": [
      "[I 2019-08-24 12:17:09,270] Finished trial#573 resulted in value: -0.7900817131586363. Current best value is -0.7948717948717948 with parameters: {'w_lr': 0.25932220860425337, 'w_lda': 0.09195697989035678, 'w_sv': 0.6584085004074863, 'w_xgb': 0.23943615391125597, 'w_lgbm': 0.2584978813734697, 'w_mlp': 0.9426610060258075}.\n"
     ]
    },
    {
     "name": "stdout",
     "output_type": "stream",
     "text": [
      "[w_lr, w_lda, w_sv, w_xgb, w_lgbm,w_cb ] =  [0.194 0.125 0.654 0.256 0.277 0.    0.941]\n",
      "norm =  [0.079 0.051 0.267 0.104 0.113 0.    0.385]\n",
      "AUC all:  0.7934629473091012\n",
      "\n"
     ]
    },
    {
     "name": "stderr",
     "output_type": "stream",
     "text": [
      "[I 2019-08-24 12:17:10,300] Finished trial#574 resulted in value: -0.7934629473091012. Current best value is -0.7948717948717948 with parameters: {'w_lr': 0.25932220860425337, 'w_lda': 0.09195697989035678, 'w_sv': 0.6584085004074863, 'w_xgb': 0.23943615391125597, 'w_lgbm': 0.2584978813734697, 'w_mlp': 0.9426610060258075}.\n"
     ]
    },
    {
     "name": "stdout",
     "output_type": "stream",
     "text": [
      "[w_lr, w_lda, w_sv, w_xgb, w_lgbm,w_cb ] =  [0.142 0.095 0.641 0.271 0.238 0.    0.957]\n",
      "norm =  [0.061 0.04  0.273 0.116 0.101 0.    0.408]\n",
      "AUC all:  0.7927585235277541\n",
      "\n"
     ]
    },
    {
     "name": "stderr",
     "output_type": "stream",
     "text": [
      "[I 2019-08-24 12:17:11,310] Finished trial#575 resulted in value: -0.7927585235277541. Current best value is -0.7948717948717948 with parameters: {'w_lr': 0.25932220860425337, 'w_lda': 0.09195697989035678, 'w_sv': 0.6584085004074863, 'w_xgb': 0.23943615391125597, 'w_lgbm': 0.2584978813734697, 'w_mlp': 0.9426610060258075}.\n"
     ]
    },
    {
     "name": "stdout",
     "output_type": "stream",
     "text": [
      "[w_lr, w_lda, w_sv, w_xgb, w_lgbm,w_cb ] =  [0.263 0.055 0.625 0.225 0.319 0.    0.983]\n",
      "norm =  [0.107 0.022 0.253 0.091 0.129 0.    0.398]\n",
      "AUC all:  0.7912087912087912\n",
      "\n"
     ]
    },
    {
     "name": "stderr",
     "output_type": "stream",
     "text": [
      "[I 2019-08-24 12:17:12,328] Finished trial#576 resulted in value: -0.7912087912087912. Current best value is -0.7948717948717948 with parameters: {'w_lr': 0.25932220860425337, 'w_lda': 0.09195697989035678, 'w_sv': 0.6584085004074863, 'w_xgb': 0.23943615391125597, 'w_lgbm': 0.2584978813734697, 'w_mlp': 0.9426610060258075}.\n"
     ]
    },
    {
     "name": "stdout",
     "output_type": "stream",
     "text": [
      "[w_lr, w_lda, w_sv, w_xgb, w_lgbm,w_cb ] =  [0.001 0.078 0.633 0.183 0.267 0.    0.931]\n",
      "norm =  [0.    0.037 0.303 0.088 0.127 0.    0.445]\n",
      "AUC all:  0.7926176387714848\n",
      "\n"
     ]
    },
    {
     "name": "stderr",
     "output_type": "stream",
     "text": [
      "[I 2019-08-24 12:17:13,348] Finished trial#577 resulted in value: -0.7926176387714848. Current best value is -0.7948717948717948 with parameters: {'w_lr': 0.25932220860425337, 'w_lda': 0.09195697989035678, 'w_sv': 0.6584085004074863, 'w_xgb': 0.23943615391125597, 'w_lgbm': 0.2584978813734697, 'w_mlp': 0.9426610060258075}.\n"
     ]
    },
    {
     "name": "stdout",
     "output_type": "stream",
     "text": [
      "[w_lr, w_lda, w_sv, w_xgb, w_lgbm,w_cb ] =  [0.295 0.109 0.61  0.248 0.295 0.    0.948]\n",
      "norm =  [0.118 0.043 0.244 0.099 0.118 0.    0.378]\n",
      "AUC all:  0.7927585235277543\n",
      "\n"
     ]
    },
    {
     "name": "stderr",
     "output_type": "stream",
     "text": [
      "[I 2019-08-24 12:17:14,382] Finished trial#578 resulted in value: -0.7927585235277543. Current best value is -0.7948717948717948 with parameters: {'w_lr': 0.25932220860425337, 'w_lda': 0.09195697989035678, 'w_sv': 0.6584085004074863, 'w_xgb': 0.23943615391125597, 'w_lgbm': 0.2584978813734697, 'w_mlp': 0.9426610060258075}.\n"
     ]
    },
    {
     "name": "stdout",
     "output_type": "stream",
     "text": [
      "[w_lr, w_lda, w_sv, w_xgb, w_lgbm,w_cb ] =  [0.029 0.135 0.652 0.282 0.248 0.    0.999]\n",
      "norm =  [0.012 0.058 0.278 0.12  0.106 0.    0.426]\n",
      "AUC all:  0.7920540997464074\n",
      "\n"
     ]
    },
    {
     "name": "stderr",
     "output_type": "stream",
     "text": [
      "[I 2019-08-24 12:17:15,422] Finished trial#579 resulted in value: -0.7920540997464074. Current best value is -0.7948717948717948 with parameters: {'w_lr': 0.25932220860425337, 'w_lda': 0.09195697989035678, 'w_sv': 0.6584085004074863, 'w_xgb': 0.23943615391125597, 'w_lgbm': 0.2584978813734697, 'w_mlp': 0.9426610060258075}.\n"
     ]
    },
    {
     "name": "stdout",
     "output_type": "stream",
     "text": [
      "[w_lr, w_lda, w_sv, w_xgb, w_lgbm,w_cb ] =  [0.122 0.094 0.624 0.303 0.222 0.    0.967]\n",
      "norm =  [0.052 0.04  0.268 0.13  0.095 0.    0.415]\n",
      "AUC all:  0.7909270216962525\n",
      "\n"
     ]
    },
    {
     "name": "stderr",
     "output_type": "stream",
     "text": [
      "[I 2019-08-24 12:17:16,453] Finished trial#580 resulted in value: -0.7909270216962525. Current best value is -0.7948717948717948 with parameters: {'w_lr': 0.25932220860425337, 'w_lda': 0.09195697989035678, 'w_sv': 0.6584085004074863, 'w_xgb': 0.23943615391125597, 'w_lgbm': 0.2584978813734697, 'w_mlp': 0.9426610060258075}.\n"
     ]
    },
    {
     "name": "stdout",
     "output_type": "stream",
     "text": [
      "[w_lr, w_lda, w_sv, w_xgb, w_lgbm,w_cb ] =  [0.001 0.075 0.645 0.212 0.284 0.    0.957]\n",
      "norm =  [0.    0.034 0.297 0.098 0.131 0.    0.44 ]\n",
      "AUC all:  0.7934629473091012\n",
      "\n"
     ]
    },
    {
     "name": "stderr",
     "output_type": "stream",
     "text": [
      "[I 2019-08-24 12:17:17,491] Finished trial#581 resulted in value: -0.7934629473091012. Current best value is -0.7948717948717948 with parameters: {'w_lr': 0.25932220860425337, 'w_lda': 0.09195697989035678, 'w_sv': 0.6584085004074863, 'w_xgb': 0.23943615391125597, 'w_lgbm': 0.2584978813734697, 'w_mlp': 0.9426610060258075}.\n"
     ]
    },
    {
     "name": "stdout",
     "output_type": "stream",
     "text": [
      "[w_lr, w_lda, w_sv, w_xgb, w_lgbm,w_cb ] =  [0.217 0.118 0.603 0.237 0.262 0.    0.941]\n",
      "norm =  [0.091 0.05  0.253 0.1   0.11  0.    0.396]\n",
      "AUC all:  0.7928994082840237\n",
      "\n"
     ]
    },
    {
     "name": "stderr",
     "output_type": "stream",
     "text": [
      "[I 2019-08-24 12:17:18,521] Finished trial#582 resulted in value: -0.7928994082840237. Current best value is -0.7948717948717948 with parameters: {'w_lr': 0.25932220860425337, 'w_lda': 0.09195697989035678, 'w_sv': 0.6584085004074863, 'w_xgb': 0.23943615391125597, 'w_lgbm': 0.2584978813734697, 'w_mlp': 0.9426610060258075}.\n"
     ]
    },
    {
     "name": "stdout",
     "output_type": "stream",
     "text": [
      "[w_lr, w_lda, w_sv, w_xgb, w_lgbm,w_cb ] =  [0.031 0.049 0.674 0.26  0.177 0.    0.977]\n",
      "norm =  [0.014 0.022 0.311 0.12  0.082 0.    0.451]\n",
      "AUC all:  0.7897999436460975\n",
      "\n"
     ]
    },
    {
     "name": "stderr",
     "output_type": "stream",
     "text": [
      "[I 2019-08-24 12:17:19,549] Finished trial#583 resulted in value: -0.7897999436460975. Current best value is -0.7948717948717948 with parameters: {'w_lr': 0.25932220860425337, 'w_lda': 0.09195697989035678, 'w_sv': 0.6584085004074863, 'w_xgb': 0.23943615391125597, 'w_lgbm': 0.2584978813734697, 'w_mlp': 0.9426610060258075}.\n"
     ]
    },
    {
     "name": "stdout",
     "output_type": "stream",
     "text": [
      "[w_lr, w_lda, w_sv, w_xgb, w_lgbm,w_cb ] =  [0.186 0.097 0.634 0.229 0.245 0.    0.925]\n",
      "norm =  [0.08  0.042 0.274 0.099 0.106 0.    0.399]\n",
      "AUC all:  0.7940264863341787\n",
      "\n"
     ]
    },
    {
     "name": "stderr",
     "output_type": "stream",
     "text": [
      "[I 2019-08-24 12:17:20,579] Finished trial#584 resulted in value: -0.7940264863341787. Current best value is -0.7948717948717948 with parameters: {'w_lr': 0.25932220860425337, 'w_lda': 0.09195697989035678, 'w_sv': 0.6584085004074863, 'w_xgb': 0.23943615391125597, 'w_lgbm': 0.2584978813734697, 'w_mlp': 0.9426610060258075}.\n"
     ]
    },
    {
     "name": "stdout",
     "output_type": "stream",
     "text": [
      "[w_lr, w_lda, w_sv, w_xgb, w_lgbm,w_cb ] =  [0.203 0.078 0.617 0.203 0.199 0.    0.932]\n",
      "norm =  [0.091 0.035 0.277 0.091 0.089 0.    0.418]\n",
      "AUC all:  0.7921949845026768\n",
      "\n"
     ]
    },
    {
     "name": "stderr",
     "output_type": "stream",
     "text": [
      "[I 2019-08-24 12:17:21,614] Finished trial#585 resulted in value: -0.7921949845026768. Current best value is -0.7948717948717948 with parameters: {'w_lr': 0.25932220860425337, 'w_lda': 0.09195697989035678, 'w_sv': 0.6584085004074863, 'w_xgb': 0.23943615391125597, 'w_lgbm': 0.2584978813734697, 'w_mlp': 0.9426610060258075}.\n"
     ]
    },
    {
     "name": "stdout",
     "output_type": "stream",
     "text": [
      "[w_lr, w_lda, w_sv, w_xgb, w_lgbm,w_cb ] =  [0.187 0.14  0.656 0.175 0.235 0.    0.917]\n",
      "norm =  [0.081 0.061 0.284 0.076 0.102 0.    0.397]\n",
      "AUC all:  0.7912087912087913\n",
      "\n"
     ]
    },
    {
     "name": "stderr",
     "output_type": "stream",
     "text": [
      "[I 2019-08-24 12:17:22,647] Finished trial#586 resulted in value: -0.7912087912087913. Current best value is -0.7948717948717948 with parameters: {'w_lr': 0.25932220860425337, 'w_lda': 0.09195697989035678, 'w_sv': 0.6584085004074863, 'w_xgb': 0.23943615391125597, 'w_lgbm': 0.2584978813734697, 'w_mlp': 0.9426610060258075}.\n"
     ]
    },
    {
     "name": "stdout",
     "output_type": "stream",
     "text": [
      "[w_lr, w_lda, w_sv, w_xgb, w_lgbm,w_cb ] =  [0.164 0.106 0.637 0.226 0.309 0.    0.928]\n",
      "norm =  [0.069 0.045 0.269 0.095 0.13  0.    0.392]\n",
      "AUC all:  0.7920540997464075\n",
      "\n"
     ]
    },
    {
     "name": "stderr",
     "output_type": "stream",
     "text": [
      "[I 2019-08-24 12:17:23,689] Finished trial#587 resulted in value: -0.7920540997464075. Current best value is -0.7948717948717948 with parameters: {'w_lr': 0.25932220860425337, 'w_lda': 0.09195697989035678, 'w_sv': 0.6584085004074863, 'w_xgb': 0.23943615391125597, 'w_lgbm': 0.2584978813734697, 'w_mlp': 0.9426610060258075}.\n"
     ]
    },
    {
     "name": "stdout",
     "output_type": "stream",
     "text": [
      "[w_lr, w_lda, w_sv, w_xgb, w_lgbm,w_cb ] =  [0.185 0.122 0.663 0.25  0.276 0.    0.916]\n",
      "norm =  [0.077 0.051 0.275 0.104 0.114 0.    0.38 ]\n",
      "AUC all:  0.7928994082840236\n",
      "\n"
     ]
    },
    {
     "name": "stderr",
     "output_type": "stream",
     "text": [
      "[I 2019-08-24 12:17:24,733] Finished trial#588 resulted in value: -0.7928994082840236. Current best value is -0.7948717948717948 with parameters: {'w_lr': 0.25932220860425337, 'w_lda': 0.09195697989035678, 'w_sv': 0.6584085004074863, 'w_xgb': 0.23943615391125597, 'w_lgbm': 0.2584978813734697, 'w_mlp': 0.9426610060258075}.\n"
     ]
    },
    {
     "name": "stdout",
     "output_type": "stream",
     "text": [
      "[w_lr, w_lda, w_sv, w_xgb, w_lgbm,w_cb ] =  [0.167 0.065 0.629 0.196 0.216 0.    0.923]\n",
      "norm =  [0.076 0.029 0.287 0.089 0.099 0.    0.42 ]\n",
      "AUC all:  0.7920540997464074\n",
      "\n"
     ]
    },
    {
     "name": "stderr",
     "output_type": "stream",
     "text": [
      "[I 2019-08-24 12:17:25,768] Finished trial#589 resulted in value: -0.7920540997464074. Current best value is -0.7948717948717948 with parameters: {'w_lr': 0.25932220860425337, 'w_lda': 0.09195697989035678, 'w_sv': 0.6584085004074863, 'w_xgb': 0.23943615391125597, 'w_lgbm': 0.2584978813734697, 'w_mlp': 0.9426610060258075}.\n"
     ]
    },
    {
     "name": "stdout",
     "output_type": "stream",
     "text": [
      "[w_lr, w_lda, w_sv, w_xgb, w_lgbm,w_cb ] =  [0.153 0.091 0.631 0.278 0.238 0.    0.942]\n",
      "norm =  [0.066 0.039 0.271 0.119 0.102 0.    0.404]\n",
      "AUC all:  0.7924767540152156\n",
      "\n"
     ]
    },
    {
     "name": "stderr",
     "output_type": "stream",
     "text": [
      "[I 2019-08-24 12:17:26,816] Finished trial#590 resulted in value: -0.7924767540152156. Current best value is -0.7948717948717948 with parameters: {'w_lr': 0.25932220860425337, 'w_lda': 0.09195697989035678, 'w_sv': 0.6584085004074863, 'w_xgb': 0.23943615391125597, 'w_lgbm': 0.2584978813734697, 'w_mlp': 0.9426610060258075}.\n"
     ]
    },
    {
     "name": "stdout",
     "output_type": "stream",
     "text": [
      "[w_lr, w_lda, w_sv, w_xgb, w_lgbm,w_cb ] =  [0.807 0.059 0.62  0.225 0.247 0.    0.924]\n",
      "norm =  [0.28  0.02  0.215 0.078 0.086 0.    0.321]\n",
      "AUC all:  0.7927585235277542\n",
      "\n"
     ]
    },
    {
     "name": "stderr",
     "output_type": "stream",
     "text": [
      "[I 2019-08-24 12:17:27,864] Finished trial#591 resulted in value: -0.7927585235277542. Current best value is -0.7948717948717948 with parameters: {'w_lr': 0.25932220860425337, 'w_lda': 0.09195697989035678, 'w_sv': 0.6584085004074863, 'w_xgb': 0.23943615391125597, 'w_lgbm': 0.2584978813734697, 'w_mlp': 0.9426610060258075}.\n"
     ]
    },
    {
     "name": "stdout",
     "output_type": "stream",
     "text": [
      "[w_lr, w_lda, w_sv, w_xgb, w_lgbm,w_cb ] =  [0.217 0.144 0.648 0.301 0.22  0.    0.94 ]\n",
      "norm =  [0.088 0.058 0.262 0.122 0.089 0.    0.381]\n",
      "AUC all:  0.7890955198647507\n",
      "\n"
     ]
    },
    {
     "name": "stderr",
     "output_type": "stream",
     "text": [
      "[I 2019-08-24 12:17:28,921] Finished trial#592 resulted in value: -0.7890955198647507. Current best value is -0.7948717948717948 with parameters: {'w_lr': 0.25932220860425337, 'w_lda': 0.09195697989035678, 'w_sv': 0.6584085004074863, 'w_xgb': 0.23943615391125597, 'w_lgbm': 0.2584978813734697, 'w_mlp': 0.9426610060258075}.\n"
     ]
    },
    {
     "name": "stdout",
     "output_type": "stream",
     "text": [
      "[w_lr, w_lda, w_sv, w_xgb, w_lgbm,w_cb ] =  [0.184 0.036 0.635 0.211 0.256 0.    0.931]\n",
      "norm =  [0.082 0.016 0.282 0.094 0.114 0.    0.413]\n",
      "AUC all:  0.7934629473091012\n",
      "\n"
     ]
    },
    {
     "name": "stderr",
     "output_type": "stream",
     "text": [
      "[I 2019-08-24 12:17:29,974] Finished trial#593 resulted in value: -0.7934629473091012. Current best value is -0.7948717948717948 with parameters: {'w_lr': 0.25932220860425337, 'w_lda': 0.09195697989035678, 'w_sv': 0.6584085004074863, 'w_xgb': 0.23943615391125597, 'w_lgbm': 0.2584978813734697, 'w_mlp': 0.9426610060258075}.\n"
     ]
    },
    {
     "name": "stdout",
     "output_type": "stream",
     "text": [
      "[w_lr, w_lda, w_sv, w_xgb, w_lgbm,w_cb ] =  [0.232 0.102 0.61  0.24  0.235 0.    0.924]\n",
      "norm =  [0.099 0.044 0.261 0.102 0.1   0.    0.395]\n",
      "AUC all:  0.7920540997464074\n",
      "\n"
     ]
    },
    {
     "name": "stderr",
     "output_type": "stream",
     "text": [
      "[I 2019-08-24 12:17:31,019] Finished trial#594 resulted in value: -0.7920540997464074. Current best value is -0.7948717948717948 with parameters: {'w_lr': 0.25932220860425337, 'w_lda': 0.09195697989035678, 'w_sv': 0.6584085004074863, 'w_xgb': 0.23943615391125597, 'w_lgbm': 0.2584978813734697, 'w_mlp': 0.9426610060258075}.\n"
     ]
    },
    {
     "name": "stdout",
     "output_type": "stream",
     "text": [
      "[w_lr, w_lda, w_sv, w_xgb, w_lgbm,w_cb ] =  [0.144 0.117 0.64  0.196 0.261 0.    0.948]\n",
      "norm =  [0.062 0.051 0.278 0.085 0.113 0.    0.411]\n",
      "AUC all:  0.7930402930402931\n",
      "\n"
     ]
    },
    {
     "name": "stderr",
     "output_type": "stream",
     "text": [
      "[I 2019-08-24 12:17:32,073] Finished trial#595 resulted in value: -0.7930402930402931. Current best value is -0.7948717948717948 with parameters: {'w_lr': 0.25932220860425337, 'w_lda': 0.09195697989035678, 'w_sv': 0.6584085004074863, 'w_xgb': 0.23943615391125597, 'w_lgbm': 0.2584978813734697, 'w_mlp': 0.9426610060258075}.\n"
     ]
    },
    {
     "name": "stdout",
     "output_type": "stream",
     "text": [
      "[w_lr, w_lda, w_sv, w_xgb, w_lgbm,w_cb ] =  [0.2   0.087 0.669 0.262 0.292 0.    0.99 ]\n",
      "norm =  [0.08  0.035 0.268 0.105 0.117 0.    0.396]\n",
      "AUC all:  0.7931811777965624\n",
      "\n"
     ]
    },
    {
     "name": "stderr",
     "output_type": "stream",
     "text": [
      "[I 2019-08-24 12:17:33,119] Finished trial#596 resulted in value: -0.7931811777965624. Current best value is -0.7948717948717948 with parameters: {'w_lr': 0.25932220860425337, 'w_lda': 0.09195697989035678, 'w_sv': 0.6584085004074863, 'w_xgb': 0.23943615391125597, 'w_lgbm': 0.2584978813734697, 'w_mlp': 0.9426610060258075}.\n"
     ]
    },
    {
     "name": "stdout",
     "output_type": "stream",
     "text": [
      "[w_lr, w_lda, w_sv, w_xgb, w_lgbm,w_cb ] =  [0.171 0.109 0.651 0.281 0.333 0.    0.97 ]\n",
      "norm =  [0.068 0.043 0.259 0.112 0.132 0.    0.386]\n",
      "AUC all:  0.792617638771485\n",
      "\n"
     ]
    },
    {
     "name": "stderr",
     "output_type": "stream",
     "text": [
      "[I 2019-08-24 12:17:34,181] Finished trial#597 resulted in value: -0.792617638771485. Current best value is -0.7948717948717948 with parameters: {'w_lr': 0.25932220860425337, 'w_lda': 0.09195697989035678, 'w_sv': 0.6584085004074863, 'w_xgb': 0.23943615391125597, 'w_lgbm': 0.2584978813734697, 'w_mlp': 0.9426610060258075}.\n"
     ]
    },
    {
     "name": "stdout",
     "output_type": "stream",
     "text": [
      "[w_lr, w_lda, w_sv, w_xgb, w_lgbm,w_cb ] =  [0.2   0.076 0.626 0.227 0.207 0.    0.936]\n",
      "norm =  [0.088 0.033 0.276 0.1   0.091 0.    0.412]\n",
      "AUC all:  0.7920540997464074\n",
      "\n"
     ]
    },
    {
     "name": "stderr",
     "output_type": "stream",
     "text": [
      "[I 2019-08-24 12:17:35,238] Finished trial#598 resulted in value: -0.7920540997464074. Current best value is -0.7948717948717948 with parameters: {'w_lr': 0.25932220860425337, 'w_lda': 0.09195697989035678, 'w_sv': 0.6584085004074863, 'w_xgb': 0.23943615391125597, 'w_lgbm': 0.2584978813734697, 'w_mlp': 0.9426610060258075}.\n"
     ]
    },
    {
     "name": "stdout",
     "output_type": "stream",
     "text": [
      "[w_lr, w_lda, w_sv, w_xgb, w_lgbm,w_cb ] =  [0.23  0.093 0.605 0.245 0.249 0.    0.955]\n",
      "norm =  [0.097 0.039 0.254 0.103 0.105 0.    0.402]\n",
      "AUC all:  0.7940264863341786\n",
      "\n"
     ]
    },
    {
     "name": "stderr",
     "output_type": "stream",
     "text": [
      "[I 2019-08-24 12:17:36,301] Finished trial#599 resulted in value: -0.7940264863341786. Current best value is -0.7948717948717948 with parameters: {'w_lr': 0.25932220860425337, 'w_lda': 0.09195697989035678, 'w_sv': 0.6584085004074863, 'w_xgb': 0.23943615391125597, 'w_lgbm': 0.2584978813734697, 'w_mlp': 0.9426610060258075}.\n"
     ]
    },
    {
     "name": "stdout",
     "output_type": "stream",
     "text": [
      "[w_lr, w_lda, w_sv, w_xgb, w_lgbm,w_cb ] =  [0.247 0.253 0.594 0.258 0.249 0.    0.961]\n",
      "norm =  [0.096 0.099 0.232 0.101 0.097 0.    0.375]\n",
      "AUC all:  0.788109326570865\n",
      "\n"
     ]
    },
    {
     "name": "stderr",
     "output_type": "stream",
     "text": [
      "[I 2019-08-24 12:17:37,365] Finished trial#600 resulted in value: -0.788109326570865. Current best value is -0.7948717948717948 with parameters: {'w_lr': 0.25932220860425337, 'w_lda': 0.09195697989035678, 'w_sv': 0.6584085004074863, 'w_xgb': 0.23943615391125597, 'w_lgbm': 0.2584978813734697, 'w_mlp': 0.9426610060258075}.\n"
     ]
    },
    {
     "name": "stdout",
     "output_type": "stream",
     "text": [
      "[w_lr, w_lda, w_sv, w_xgb, w_lgbm,w_cb ] =  [0.24  0.138 0.617 0.245 0.225 0.    0.951]\n",
      "norm =  [0.099 0.057 0.255 0.101 0.093 0.    0.394]\n",
      "AUC all:  0.790786136939983\n",
      "\n"
     ]
    },
    {
     "name": "stderr",
     "output_type": "stream",
     "text": [
      "[I 2019-08-24 12:17:38,421] Finished trial#601 resulted in value: -0.790786136939983. Current best value is -0.7948717948717948 with parameters: {'w_lr': 0.25932220860425337, 'w_lda': 0.09195697989035678, 'w_sv': 0.6584085004074863, 'w_xgb': 0.23943615391125597, 'w_lgbm': 0.2584978813734697, 'w_mlp': 0.9426610060258075}.\n"
     ]
    },
    {
     "name": "stdout",
     "output_type": "stream",
     "text": [
      "[w_lr, w_lda, w_sv, w_xgb, w_lgbm,w_cb ] =  [0.228 0.046 0.601 0.882 0.194 0.    0.974]\n",
      "norm =  [0.078 0.016 0.205 0.301 0.066 0.    0.333]\n",
      "AUC all:  0.7847280924204001\n",
      "\n"
     ]
    },
    {
     "name": "stderr",
     "output_type": "stream",
     "text": [
      "[I 2019-08-24 12:17:39,480] Finished trial#602 resulted in value: -0.7847280924204001. Current best value is -0.7948717948717948 with parameters: {'w_lr': 0.25932220860425337, 'w_lda': 0.09195697989035678, 'w_sv': 0.6584085004074863, 'w_xgb': 0.23943615391125597, 'w_lgbm': 0.2584978813734697, 'w_mlp': 0.9426610060258075}.\n"
     ]
    },
    {
     "name": "stdout",
     "output_type": "stream",
     "text": [
      "[w_lr, w_lda, w_sv, w_xgb, w_lgbm,w_cb ] =  [0.216 0.089 0.557 0.21  0.281 0.    0.983]\n",
      "norm =  [0.093 0.038 0.239 0.09  0.12  0.    0.421]\n",
      "AUC all:  0.7928994082840237\n",
      "\n"
     ]
    },
    {
     "name": "stderr",
     "output_type": "stream",
     "text": [
      "[I 2019-08-24 12:17:40,546] Finished trial#603 resulted in value: -0.7928994082840237. Current best value is -0.7948717948717948 with parameters: {'w_lr': 0.25932220860425337, 'w_lda': 0.09195697989035678, 'w_sv': 0.6584085004074863, 'w_xgb': 0.23943615391125597, 'w_lgbm': 0.2584978813734697, 'w_mlp': 0.9426610060258075}.\n"
     ]
    },
    {
     "name": "stdout",
     "output_type": "stream",
     "text": [
      "[w_lr, w_lda, w_sv, w_xgb, w_lgbm,w_cb ] =  [0.271 0.071 0.604 0.226 0.572 0.    0.956]\n",
      "norm =  [0.1   0.026 0.224 0.084 0.212 0.    0.354]\n",
      "AUC all:  0.7857142857142857\n",
      "\n"
     ]
    },
    {
     "name": "stderr",
     "output_type": "stream",
     "text": [
      "[I 2019-08-24 12:17:41,607] Finished trial#604 resulted in value: -0.7857142857142857. Current best value is -0.7948717948717948 with parameters: {'w_lr': 0.25932220860425337, 'w_lda': 0.09195697989035678, 'w_sv': 0.6584085004074863, 'w_xgb': 0.23943615391125597, 'w_lgbm': 0.2584978813734697, 'w_mlp': 0.9426610060258075}.\n"
     ]
    },
    {
     "name": "stdout",
     "output_type": "stream",
     "text": [
      "[w_lr, w_lda, w_sv, w_xgb, w_lgbm,w_cb ] =  [0.099 0.122 0.57  0.16  0.298 0.    0.958]\n",
      "norm =  [0.045 0.055 0.258 0.073 0.135 0.    0.434]\n",
      "AUC all:  0.7912087912087912\n",
      "\n"
     ]
    },
    {
     "name": "stderr",
     "output_type": "stream",
     "text": [
      "[I 2019-08-24 12:17:42,665] Finished trial#605 resulted in value: -0.7912087912087912. Current best value is -0.7948717948717948 with parameters: {'w_lr': 0.25932220860425337, 'w_lda': 0.09195697989035678, 'w_sv': 0.6584085004074863, 'w_xgb': 0.23943615391125597, 'w_lgbm': 0.2584978813734697, 'w_mlp': 0.9426610060258075}.\n"
     ]
    },
    {
     "name": "stdout",
     "output_type": "stream",
     "text": [
      "[w_lr, w_lda, w_sv, w_xgb, w_lgbm,w_cb ] =  [0.259 0.103 0.585 0.267 0.261 0.    0.916]\n",
      "norm =  [0.108 0.043 0.245 0.112 0.109 0.    0.383]\n",
      "AUC all:  0.794167371090448\n",
      "\n"
     ]
    },
    {
     "name": "stderr",
     "output_type": "stream",
     "text": [
      "[I 2019-08-24 12:17:43,731] Finished trial#606 resulted in value: -0.794167371090448. Current best value is -0.7948717948717948 with parameters: {'w_lr': 0.25932220860425337, 'w_lda': 0.09195697989035678, 'w_sv': 0.6584085004074863, 'w_xgb': 0.23943615391125597, 'w_lgbm': 0.2584978813734697, 'w_mlp': 0.9426610060258075}.\n"
     ]
    },
    {
     "name": "stdout",
     "output_type": "stream",
     "text": [
      "[w_lr, w_lda, w_sv, w_xgb, w_lgbm,w_cb ] =  [0.26  0.157 0.601 0.303 0.233 0.    0.939]\n",
      "norm =  [0.104 0.063 0.241 0.122 0.093 0.    0.377]\n",
      "AUC all:  0.7892364046210201\n",
      "\n"
     ]
    },
    {
     "name": "stderr",
     "output_type": "stream",
     "text": [
      "[I 2019-08-24 12:17:44,805] Finished trial#607 resulted in value: -0.7892364046210201. Current best value is -0.7948717948717948 with parameters: {'w_lr': 0.25932220860425337, 'w_lda': 0.09195697989035678, 'w_sv': 0.6584085004074863, 'w_xgb': 0.23943615391125597, 'w_lgbm': 0.2584978813734697, 'w_mlp': 0.9426610060258075}.\n"
     ]
    },
    {
     "name": "stdout",
     "output_type": "stream",
     "text": [
      "[w_lr, w_lda, w_sv, w_xgb, w_lgbm,w_cb ] =  [0.323 0.02  0.581 0.283 0.211 0.    0.914]\n",
      "norm =  [0.138 0.009 0.249 0.121 0.091 0.    0.392]\n",
      "AUC all:  0.7906452521837137\n",
      "\n"
     ]
    },
    {
     "name": "stderr",
     "output_type": "stream",
     "text": [
      "[I 2019-08-24 12:17:45,908] Finished trial#608 resulted in value: -0.7906452521837137. Current best value is -0.7948717948717948 with parameters: {'w_lr': 0.25932220860425337, 'w_lda': 0.09195697989035678, 'w_sv': 0.6584085004074863, 'w_xgb': 0.23943615391125597, 'w_lgbm': 0.2584978813734697, 'w_mlp': 0.9426610060258075}.\n"
     ]
    },
    {
     "name": "stdout",
     "output_type": "stream",
     "text": [
      "[w_lr, w_lda, w_sv, w_xgb, w_lgbm,w_cb ] =  [0.29  0.127 0.586 0.053 0.25  0.    0.916]\n",
      "norm =  [0.13  0.057 0.264 0.024 0.112 0.    0.412]\n",
      "AUC all:  0.787686672302057\n",
      "\n"
     ]
    },
    {
     "name": "stderr",
     "output_type": "stream",
     "text": [
      "[I 2019-08-24 12:17:46,985] Finished trial#609 resulted in value: -0.787686672302057. Current best value is -0.7948717948717948 with parameters: {'w_lr': 0.25932220860425337, 'w_lda': 0.09195697989035678, 'w_sv': 0.6584085004074863, 'w_xgb': 0.23943615391125597, 'w_lgbm': 0.2584978813734697, 'w_mlp': 0.9426610060258075}.\n"
     ]
    },
    {
     "name": "stdout",
     "output_type": "stream",
     "text": [
      "[w_lr, w_lda, w_sv, w_xgb, w_lgbm,w_cb ] =  [0.282 0.102 0.584 0.27  0.237 0.    0.922]\n",
      "norm =  [0.118 0.043 0.244 0.112 0.099 0.    0.385]\n",
      "AUC all:  0.793040293040293\n",
      "\n"
     ]
    },
    {
     "name": "stderr",
     "output_type": "stream",
     "text": [
      "[I 2019-08-24 12:17:48,060] Finished trial#610 resulted in value: -0.793040293040293. Current best value is -0.7948717948717948 with parameters: {'w_lr': 0.25932220860425337, 'w_lda': 0.09195697989035678, 'w_sv': 0.6584085004074863, 'w_xgb': 0.23943615391125597, 'w_lgbm': 0.2584978813734697, 'w_mlp': 0.9426610060258075}.\n"
     ]
    },
    {
     "name": "stdout",
     "output_type": "stream",
     "text": [
      "[w_lr, w_lda, w_sv, w_xgb, w_lgbm,w_cb ] =  [0.257 0.116 0.596 0.312 0.256 0.    0.946]\n",
      "norm =  [0.103 0.047 0.24  0.126 0.103 0.    0.381]\n",
      "AUC all:  0.7912087912087911\n",
      "\n"
     ]
    },
    {
     "name": "stderr",
     "output_type": "stream",
     "text": [
      "[I 2019-08-24 12:17:49,141] Finished trial#611 resulted in value: -0.7912087912087911. Current best value is -0.7948717948717948 with parameters: {'w_lr': 0.25932220860425337, 'w_lda': 0.09195697989035678, 'w_sv': 0.6584085004074863, 'w_xgb': 0.23943615391125597, 'w_lgbm': 0.2584978813734697, 'w_mlp': 0.9426610060258075}.\n"
     ]
    },
    {
     "name": "stdout",
     "output_type": "stream",
     "text": [
      "[w_lr, w_lda, w_sv, w_xgb, w_lgbm,w_cb ] =  [0.276 0.61  0.572 0.259 0.279 0.    0.965]\n",
      "norm =  [0.093 0.206 0.193 0.088 0.094 0.    0.326]\n",
      "AUC all:  0.782051282051282\n",
      "\n"
     ]
    },
    {
     "name": "stderr",
     "output_type": "stream",
     "text": [
      "[I 2019-08-24 12:17:50,222] Finished trial#612 resulted in value: -0.782051282051282. Current best value is -0.7948717948717948 with parameters: {'w_lr': 0.25932220860425337, 'w_lda': 0.09195697989035678, 'w_sv': 0.6584085004074863, 'w_xgb': 0.23943615391125597, 'w_lgbm': 0.2584978813734697, 'w_mlp': 0.9426610060258075}.\n"
     ]
    },
    {
     "name": "stdout",
     "output_type": "stream",
     "text": [
      "[w_lr, w_lda, w_sv, w_xgb, w_lgbm,w_cb ] =  [0.243 0.067 0.578 0.247 0.324 0.    0.92 ]\n",
      "norm =  [0.102 0.028 0.243 0.104 0.136 0.    0.387]\n",
      "AUC all:  0.7906452521837137\n",
      "\n"
     ]
    },
    {
     "name": "stderr",
     "output_type": "stream",
     "text": [
      "[I 2019-08-24 12:17:51,288] Finished trial#613 resulted in value: -0.7906452521837137. Current best value is -0.7948717948717948 with parameters: {'w_lr': 0.25932220860425337, 'w_lda': 0.09195697989035678, 'w_sv': 0.6584085004074863, 'w_xgb': 0.23943615391125597, 'w_lgbm': 0.2584978813734697, 'w_mlp': 0.9426610060258075}.\n"
     ]
    },
    {
     "name": "stdout",
     "output_type": "stream",
     "text": [
      "[w_lr, w_lda, w_sv, w_xgb, w_lgbm,w_cb ] =  [0.182 0.099 0.589 0.191 0.402 0.    0.907]\n",
      "norm =  [0.077 0.042 0.248 0.081 0.17  0.    0.383]\n",
      "AUC all:  0.7879684418145956\n",
      "\n"
     ]
    },
    {
     "name": "stderr",
     "output_type": "stream",
     "text": [
      "[I 2019-08-24 12:17:52,375] Finished trial#614 resulted in value: -0.7879684418145956. Current best value is -0.7948717948717948 with parameters: {'w_lr': 0.25932220860425337, 'w_lda': 0.09195697989035678, 'w_sv': 0.6584085004074863, 'w_xgb': 0.23943615391125597, 'w_lgbm': 0.2584978813734697, 'w_mlp': 0.9426610060258075}.\n"
     ]
    },
    {
     "name": "stdout",
     "output_type": "stream",
     "text": [
      "[w_lr, w_lda, w_sv, w_xgb, w_lgbm,w_cb ] =  [0.261 0.059 0.607 0.288 0.269 0.    0.951]\n",
      "norm =  [0.107 0.024 0.249 0.118 0.11  0.    0.39 ]\n",
      "AUC all:  0.7928994082840237\n",
      "\n"
     ]
    },
    {
     "name": "stderr",
     "output_type": "stream",
     "text": [
      "[I 2019-08-24 12:17:53,460] Finished trial#615 resulted in value: -0.7928994082840237. Current best value is -0.7948717948717948 with parameters: {'w_lr': 0.25932220860425337, 'w_lda': 0.09195697989035678, 'w_sv': 0.6584085004074863, 'w_xgb': 0.23943615391125597, 'w_lgbm': 0.2584978813734697, 'w_mlp': 0.9426610060258075}.\n"
     ]
    },
    {
     "name": "stdout",
     "output_type": "stream",
     "text": [
      "[w_lr, w_lda, w_sv, w_xgb, w_lgbm,w_cb ] =  [0.227 0.088 0.569 0.274 0.265 0.    1.   ]\n",
      "norm =  [0.094 0.036 0.235 0.113 0.109 0.    0.412]\n",
      "AUC all:  0.7931811777965625\n",
      "\n"
     ]
    },
    {
     "name": "stderr",
     "output_type": "stream",
     "text": [
      "[I 2019-08-24 12:17:54,538] Finished trial#616 resulted in value: -0.7931811777965625. Current best value is -0.7948717948717948 with parameters: {'w_lr': 0.25932220860425337, 'w_lda': 0.09195697989035678, 'w_sv': 0.6584085004074863, 'w_xgb': 0.23943615391125597, 'w_lgbm': 0.2584978813734697, 'w_mlp': 0.9426610060258075}.\n"
     ]
    },
    {
     "name": "stdout",
     "output_type": "stream",
     "text": [
      "[w_lr, w_lda, w_sv, w_xgb, w_lgbm,w_cb ] =  [0.222 0.139 0.589 0.288 0.178 0.    0.939]\n",
      "norm =  [0.094 0.059 0.25  0.122 0.075 0.    0.399]\n",
      "AUC all:  0.7872640180332487\n",
      "\n"
     ]
    },
    {
     "name": "stderr",
     "output_type": "stream",
     "text": [
      "[I 2019-08-24 12:17:55,634] Finished trial#617 resulted in value: -0.7872640180332487. Current best value is -0.7948717948717948 with parameters: {'w_lr': 0.25932220860425337, 'w_lda': 0.09195697989035678, 'w_sv': 0.6584085004074863, 'w_xgb': 0.23943615391125597, 'w_lgbm': 0.2584978813734697, 'w_mlp': 0.9426610060258075}.\n"
     ]
    },
    {
     "name": "stdout",
     "output_type": "stream",
     "text": [
      "[w_lr, w_lda, w_sv, w_xgb, w_lgbm,w_cb ] =  [0.13  0.079 0.613 0.224 0.071 0.    0.935]\n",
      "norm =  [0.063 0.038 0.299 0.109 0.035 0.    0.456]\n",
      "AUC all:  0.7847280924204\n",
      "\n"
     ]
    },
    {
     "name": "stderr",
     "output_type": "stream",
     "text": [
      "[I 2019-08-24 12:17:56,718] Finished trial#618 resulted in value: -0.7847280924204. Current best value is -0.7948717948717948 with parameters: {'w_lr': 0.25932220860425337, 'w_lda': 0.09195697989035678, 'w_sv': 0.6584085004074863, 'w_xgb': 0.23943615391125597, 'w_lgbm': 0.2584978813734697, 'w_mlp': 0.9426610060258075}.\n"
     ]
    },
    {
     "name": "stdout",
     "output_type": "stream",
     "text": [
      "[w_lr, w_lda, w_sv, w_xgb, w_lgbm,w_cb ] =  [0.207 0.113 0.554 0.241 0.29  0.    0.907]\n",
      "norm =  [0.09  0.049 0.239 0.104 0.125 0.    0.393]\n",
      "AUC all:  0.7933220625528318\n",
      "\n"
     ]
    },
    {
     "name": "stderr",
     "output_type": "stream",
     "text": [
      "[I 2019-08-24 12:17:57,816] Finished trial#619 resulted in value: -0.7933220625528318. Current best value is -0.7948717948717948 with parameters: {'w_lr': 0.25932220860425337, 'w_lda': 0.09195697989035678, 'w_sv': 0.6584085004074863, 'w_xgb': 0.23943615391125597, 'w_lgbm': 0.2584978813734697, 'w_mlp': 0.9426610060258075}.\n"
     ]
    },
    {
     "name": "stdout",
     "output_type": "stream",
     "text": [
      "[w_lr, w_lda, w_sv, w_xgb, w_lgbm,w_cb ] =  [0.298 0.052 0.598 0.212 0.22  0.    0.929]\n",
      "norm =  [0.129 0.023 0.259 0.092 0.095 0.    0.402]\n",
      "AUC all:  0.7916314454775993\n",
      "\n"
     ]
    },
    {
     "name": "stderr",
     "output_type": "stream",
     "text": [
      "[I 2019-08-24 12:17:58,913] Finished trial#620 resulted in value: -0.7916314454775993. Current best value is -0.7948717948717948 with parameters: {'w_lr': 0.25932220860425337, 'w_lda': 0.09195697989035678, 'w_sv': 0.6584085004074863, 'w_xgb': 0.23943615391125597, 'w_lgbm': 0.2584978813734697, 'w_mlp': 0.9426610060258075}.\n"
     ]
    },
    {
     "name": "stdout",
     "output_type": "stream",
     "text": [
      "[w_lr, w_lda, w_sv, w_xgb, w_lgbm,w_cb ] =  [0.047 0.131 0.612 0.269 0.238 0.    0.948]\n",
      "norm =  [0.021 0.058 0.273 0.12  0.106 0.    0.422]\n",
      "AUC all:  0.7916314454775993\n",
      "\n"
     ]
    },
    {
     "name": "stderr",
     "output_type": "stream",
     "text": [
      "[I 2019-08-24 12:18:00,002] Finished trial#621 resulted in value: -0.7916314454775993. Current best value is -0.7948717948717948 with parameters: {'w_lr': 0.25932220860425337, 'w_lda': 0.09195697989035678, 'w_sv': 0.6584085004074863, 'w_xgb': 0.23943615391125597, 'w_lgbm': 0.2584978813734697, 'w_mlp': 0.9426610060258075}.\n"
     ]
    },
    {
     "name": "stdout",
     "output_type": "stream",
     "text": [
      "[w_lr, w_lda, w_sv, w_xgb, w_lgbm,w_cb ] =  [0.162 0.085 0.564 0.232 0.267 0.    0.991]\n",
      "norm =  [0.07  0.037 0.245 0.101 0.116 0.    0.431]\n",
      "AUC all:  0.7933220625528318\n",
      "\n"
     ]
    },
    {
     "name": "stderr",
     "output_type": "stream",
     "text": [
      "[I 2019-08-24 12:18:01,082] Finished trial#622 resulted in value: -0.7933220625528318. Current best value is -0.7948717948717948 with parameters: {'w_lr': 0.25932220860425337, 'w_lda': 0.09195697989035678, 'w_sv': 0.6584085004074863, 'w_xgb': 0.23943615391125597, 'w_lgbm': 0.2584978813734697, 'w_mlp': 0.9426610060258075}.\n"
     ]
    },
    {
     "name": "stdout",
     "output_type": "stream",
     "text": [
      "[w_lr, w_lda, w_sv, w_xgb, w_lgbm,w_cb ] =  [0.28  0.153 0.579 0.26  0.28  0.    0.923]\n",
      "norm =  [0.113 0.062 0.234 0.105 0.113 0.    0.373]\n",
      "AUC all:  0.7920540997464074\n",
      "\n"
     ]
    },
    {
     "name": "stderr",
     "output_type": "stream",
     "text": [
      "[I 2019-08-24 12:18:02,191] Finished trial#623 resulted in value: -0.7920540997464074. Current best value is -0.7948717948717948 with parameters: {'w_lr': 0.25932220860425337, 'w_lda': 0.09195697989035678, 'w_sv': 0.6584085004074863, 'w_xgb': 0.23943615391125597, 'w_lgbm': 0.2584978813734697, 'w_mlp': 0.9426610060258075}.\n"
     ]
    },
    {
     "name": "stdout",
     "output_type": "stream",
     "text": [
      "[w_lr, w_lda, w_sv, w_xgb, w_lgbm,w_cb ] =  [0.25  0.37  0.597 0.311 0.243 0.    0.954]\n",
      "norm =  [0.092 0.136 0.219 0.114 0.089 0.    0.35 ]\n",
      "AUC all:  0.7848689771766695\n",
      "\n"
     ]
    },
    {
     "name": "stderr",
     "output_type": "stream",
     "text": [
      "[I 2019-08-24 12:18:03,291] Finished trial#624 resulted in value: -0.7848689771766695. Current best value is -0.7948717948717948 with parameters: {'w_lr': 0.25932220860425337, 'w_lda': 0.09195697989035678, 'w_sv': 0.6584085004074863, 'w_xgb': 0.23943615391125597, 'w_lgbm': 0.2584978813734697, 'w_mlp': 0.9426610060258075}.\n"
     ]
    },
    {
     "name": "stdout",
     "output_type": "stream",
     "text": [
      "[w_lr, w_lda, w_sv, w_xgb, w_lgbm,w_cb ] =  [0.24  0.104 0.562 0.238 0.26  0.    0.977]\n",
      "norm =  [0.101 0.044 0.236 0.1   0.109 0.    0.41 ]\n",
      "AUC all:  0.7938856015779093\n",
      "\n"
     ]
    },
    {
     "name": "stderr",
     "output_type": "stream",
     "text": [
      "[I 2019-08-24 12:18:04,377] Finished trial#625 resulted in value: -0.7938856015779093. Current best value is -0.7948717948717948 with parameters: {'w_lr': 0.25932220860425337, 'w_lda': 0.09195697989035678, 'w_sv': 0.6584085004074863, 'w_xgb': 0.23943615391125597, 'w_lgbm': 0.2584978813734697, 'w_mlp': 0.9426610060258075}.\n"
     ]
    },
    {
     "name": "stdout",
     "output_type": "stream",
     "text": [
      "[w_lr, w_lda, w_sv, w_xgb, w_lgbm,w_cb ] =  [0.241 0.112 0.553 0.188 0.208 0.    0.971]\n",
      "norm =  [0.106 0.049 0.243 0.083 0.091 0.    0.427]\n",
      "AUC all:  0.7923358692589462\n",
      "\n"
     ]
    },
    {
     "name": "stderr",
     "output_type": "stream",
     "text": [
      "[I 2019-08-24 12:18:05,463] Finished trial#626 resulted in value: -0.7923358692589462. Current best value is -0.7948717948717948 with parameters: {'w_lr': 0.25932220860425337, 'w_lda': 0.09195697989035678, 'w_sv': 0.6584085004074863, 'w_xgb': 0.23943615391125597, 'w_lgbm': 0.2584978813734697, 'w_mlp': 0.9426610060258075}.\n"
     ]
    },
    {
     "name": "stdout",
     "output_type": "stream",
     "text": [
      "[w_lr, w_lda, w_sv, w_xgb, w_lgbm,w_cb ] =  [0.193 0.037 0.558 0.211 0.221 0.    0.984]\n",
      "norm =  [0.088 0.017 0.253 0.096 0.1   0.    0.446]\n",
      "AUC all:  0.7921949845026768\n",
      "\n"
     ]
    },
    {
     "name": "stderr",
     "output_type": "stream",
     "text": [
      "[I 2019-08-24 12:18:06,581] Finished trial#627 resulted in value: -0.7921949845026768. Current best value is -0.7948717948717948 with parameters: {'w_lr': 0.25932220860425337, 'w_lda': 0.09195697989035678, 'w_sv': 0.6584085004074863, 'w_xgb': 0.23943615391125597, 'w_lgbm': 0.2584978813734697, 'w_mlp': 0.9426610060258075}.\n"
     ]
    },
    {
     "name": "stdout",
     "output_type": "stream",
     "text": [
      "[w_lr, w_lda, w_sv, w_xgb, w_lgbm,w_cb ] =  [0.229 0.132 0.545 0.239 0.251 0.    0.966]\n",
      "norm =  [0.097 0.056 0.231 0.101 0.106 0.    0.409]\n",
      "AUC all:  0.7920540997464074\n",
      "\n"
     ]
    },
    {
     "name": "stderr",
     "output_type": "stream",
     "text": [
      "[I 2019-08-24 12:18:07,685] Finished trial#628 resulted in value: -0.7920540997464074. Current best value is -0.7948717948717948 with parameters: {'w_lr': 0.25932220860425337, 'w_lda': 0.09195697989035678, 'w_sv': 0.6584085004074863, 'w_xgb': 0.23943615391125597, 'w_lgbm': 0.2584978813734697, 'w_mlp': 0.9426610060258075}.\n"
     ]
    },
    {
     "name": "stdout",
     "output_type": "stream",
     "text": [
      "[w_lr, w_lda, w_sv, w_xgb, w_lgbm,w_cb ] =  [0.257 0.107 0.57  0.257 0.304 0.    0.965]\n",
      "norm =  [0.104 0.044 0.232 0.104 0.124 0.    0.392]\n",
      "AUC all:  0.7928994082840237\n",
      "\n"
     ]
    },
    {
     "name": "stderr",
     "output_type": "stream",
     "text": [
      "[I 2019-08-24 12:18:08,785] Finished trial#629 resulted in value: -0.7928994082840237. Current best value is -0.7948717948717948 with parameters: {'w_lr': 0.25932220860425337, 'w_lda': 0.09195697989035678, 'w_sv': 0.6584085004074863, 'w_xgb': 0.23943615391125597, 'w_lgbm': 0.2584978813734697, 'w_mlp': 0.9426610060258075}.\n"
     ]
    },
    {
     "name": "stdout",
     "output_type": "stream",
     "text": [
      "[w_lr, w_lda, w_sv, w_xgb, w_lgbm,w_cb ] =  [0.252 0.161 0.573 0.271 0.26  0.    0.974]\n",
      "norm =  [0.101 0.065 0.23  0.109 0.104 0.    0.391]\n",
      "AUC all:  0.7916314454775993\n",
      "\n"
     ]
    },
    {
     "name": "stderr",
     "output_type": "stream",
     "text": [
      "[I 2019-08-24 12:18:09,882] Finished trial#630 resulted in value: -0.7916314454775993. Current best value is -0.7948717948717948 with parameters: {'w_lr': 0.25932220860425337, 'w_lda': 0.09195697989035678, 'w_sv': 0.6584085004074863, 'w_xgb': 0.23943615391125597, 'w_lgbm': 0.2584978813734697, 'w_mlp': 0.9426610060258075}.\n"
     ]
    },
    {
     "name": "stdout",
     "output_type": "stream",
     "text": [
      "[w_lr, w_lda, w_sv, w_xgb, w_lgbm,w_cb ] =  [0.077 0.124 0.584 0.221 0.235 0.    0.915]\n",
      "norm =  [0.036 0.058 0.271 0.103 0.109 0.    0.424]\n",
      "AUC all:  0.7920540997464074\n",
      "\n"
     ]
    },
    {
     "name": "stderr",
     "output_type": "stream",
     "text": [
      "[I 2019-08-24 12:18:10,997] Finished trial#631 resulted in value: -0.7920540997464074. Current best value is -0.7948717948717948 with parameters: {'w_lr': 0.25932220860425337, 'w_lda': 0.09195697989035678, 'w_sv': 0.6584085004074863, 'w_xgb': 0.23943615391125597, 'w_lgbm': 0.2584978813734697, 'w_mlp': 0.9426610060258075}.\n"
     ]
    },
    {
     "name": "stdout",
     "output_type": "stream",
     "text": [
      "[w_lr, w_lda, w_sv, w_xgb, w_lgbm,w_cb ] =  [0.235 0.101 0.561 0.289 0.19  0.    0.944]\n",
      "norm =  [0.101 0.044 0.242 0.125 0.082 0.    0.407]\n",
      "AUC all:  0.7902225979149057\n",
      "\n"
     ]
    },
    {
     "name": "stderr",
     "output_type": "stream",
     "text": [
      "[I 2019-08-24 12:18:12,111] Finished trial#632 resulted in value: -0.7902225979149057. Current best value is -0.7948717948717948 with parameters: {'w_lr': 0.25932220860425337, 'w_lda': 0.09195697989035678, 'w_sv': 0.6584085004074863, 'w_xgb': 0.23943615391125597, 'w_lgbm': 0.2584978813734697, 'w_mlp': 0.9426610060258075}.\n"
     ]
    },
    {
     "name": "stdout",
     "output_type": "stream",
     "text": [
      "[w_lr, w_lda, w_sv, w_xgb, w_lgbm,w_cb ] =  [0.314 0.091 0.595 0.171 0.245 0.    0.956]\n",
      "norm =  [0.132 0.038 0.251 0.072 0.103 0.    0.403]\n",
      "AUC all:  0.79149056072133\n",
      "\n"
     ]
    },
    {
     "name": "stderr",
     "output_type": "stream",
     "text": [
      "[I 2019-08-24 12:18:13,213] Finished trial#633 resulted in value: -0.79149056072133. Current best value is -0.7948717948717948 with parameters: {'w_lr': 0.25932220860425337, 'w_lda': 0.09195697989035678, 'w_sv': 0.6584085004074863, 'w_xgb': 0.23943615391125597, 'w_lgbm': 0.2584978813734697, 'w_mlp': 0.9426610060258075}.\n"
     ]
    },
    {
     "name": "stdout",
     "output_type": "stream",
     "text": [
      "[w_lr, w_lda, w_sv, w_xgb, w_lgbm,w_cb ] =  [0.192 0.067 0.548 0.235 0.261 0.    0.991]\n",
      "norm =  [0.084 0.029 0.239 0.102 0.114 0.    0.432]\n",
      "AUC all:  0.7931811777965624\n",
      "\n"
     ]
    },
    {
     "name": "stderr",
     "output_type": "stream",
     "text": [
      "[I 2019-08-24 12:18:14,308] Finished trial#634 resulted in value: -0.7931811777965624. Current best value is -0.7948717948717948 with parameters: {'w_lr': 0.25932220860425337, 'w_lda': 0.09195697989035678, 'w_sv': 0.6584085004074863, 'w_xgb': 0.23943615391125597, 'w_lgbm': 0.2584978813734697, 'w_mlp': 0.9426610060258075}.\n"
     ]
    },
    {
     "name": "stdout",
     "output_type": "stream",
     "text": [
      "[w_lr, w_lda, w_sv, w_xgb, w_lgbm,w_cb ] =  [0.272 0.121 0.579 0.202 0.856 0.    0.93 ]\n",
      "norm =  [0.092 0.041 0.196 0.068 0.289 0.    0.314]\n",
      "AUC all:  0.7786700479008172\n",
      "\n"
     ]
    },
    {
     "name": "stderr",
     "output_type": "stream",
     "text": [
      "[I 2019-08-24 12:18:15,422] Finished trial#635 resulted in value: -0.7786700479008172. Current best value is -0.7948717948717948 with parameters: {'w_lr': 0.25932220860425337, 'w_lda': 0.09195697989035678, 'w_sv': 0.6584085004074863, 'w_xgb': 0.23943615391125597, 'w_lgbm': 0.2584978813734697, 'w_mlp': 0.9426610060258075}.\n"
     ]
    },
    {
     "name": "stdout",
     "output_type": "stream",
     "text": [
      "[w_lr, w_lda, w_sv, w_xgb, w_lgbm,w_cb ] =  [0.028 0.145 0.572 0.836 0.226 0.    0.908]\n",
      "norm =  [0.01  0.053 0.211 0.308 0.083 0.    0.334]\n",
      "AUC all:  0.785432516201747\n",
      "\n"
     ]
    },
    {
     "name": "stderr",
     "output_type": "stream",
     "text": [
      "[I 2019-08-24 12:18:16,530] Finished trial#636 resulted in value: -0.785432516201747. Current best value is -0.7948717948717948 with parameters: {'w_lr': 0.25932220860425337, 'w_lda': 0.09195697989035678, 'w_sv': 0.6584085004074863, 'w_xgb': 0.23943615391125597, 'w_lgbm': 0.2584978813734697, 'w_mlp': 0.9426610060258075}.\n"
     ]
    },
    {
     "name": "stdout",
     "output_type": "stream",
     "text": [
      "[w_lr, w_lda, w_sv, w_xgb, w_lgbm,w_cb ] =  [0.132 0.071 0.616 0.143 0.272 0.    0.923]\n",
      "norm =  [0.061 0.033 0.286 0.066 0.126 0.    0.428]\n",
      "AUC all:  0.7902225979149056\n",
      "\n"
     ]
    },
    {
     "name": "stderr",
     "output_type": "stream",
     "text": [
      "[I 2019-08-24 12:18:17,664] Finished trial#637 resulted in value: -0.7902225979149056. Current best value is -0.7948717948717948 with parameters: {'w_lr': 0.25932220860425337, 'w_lda': 0.09195697989035678, 'w_sv': 0.6584085004074863, 'w_xgb': 0.23943615391125597, 'w_lgbm': 0.2584978813734697, 'w_mlp': 0.9426610060258075}.\n"
     ]
    },
    {
     "name": "stdout",
     "output_type": "stream",
     "text": [
      "[w_lr, w_lda, w_sv, w_xgb, w_lgbm,w_cb ] =  [0.152 0.08  0.622 0.245 0.282 0.    0.976]\n",
      "norm =  [0.064 0.034 0.264 0.104 0.12  0.    0.414]\n",
      "AUC all:  0.7931811777965623\n",
      "\n"
     ]
    },
    {
     "name": "stderr",
     "output_type": "stream",
     "text": [
      "[I 2019-08-24 12:18:18,786] Finished trial#638 resulted in value: -0.7931811777965623. Current best value is -0.7948717948717948 with parameters: {'w_lr': 0.25932220860425337, 'w_lda': 0.09195697989035678, 'w_sv': 0.6584085004074863, 'w_xgb': 0.23943615391125597, 'w_lgbm': 0.2584978813734697, 'w_mlp': 0.9426610060258075}.\n"
     ]
    },
    {
     "name": "stdout",
     "output_type": "stream",
     "text": [
      "[w_lr, w_lda, w_sv, w_xgb, w_lgbm,w_cb ] =  [0.001 0.107 0.604 0.277 0.208 0.    0.939]\n",
      "norm =  [0.    0.05  0.283 0.13  0.097 0.    0.439]\n",
      "AUC all:  0.7903634826711751\n",
      "\n"
     ]
    },
    {
     "name": "stderr",
     "output_type": "stream",
     "text": [
      "[I 2019-08-24 12:18:19,920] Finished trial#639 resulted in value: -0.7903634826711751. Current best value is -0.7948717948717948 with parameters: {'w_lr': 0.25932220860425337, 'w_lda': 0.09195697989035678, 'w_sv': 0.6584085004074863, 'w_xgb': 0.23943615391125597, 'w_lgbm': 0.2584978813734697, 'w_mlp': 0.9426610060258075}.\n"
     ]
    },
    {
     "name": "stdout",
     "output_type": "stream",
     "text": [
      "[w_lr, w_lda, w_sv, w_xgb, w_lgbm,w_cb ] =  [0.207 0.056 0.562 0.227 0.251 0.    0.982]\n",
      "norm =  [0.091 0.024 0.246 0.099 0.11  0.    0.43 ]\n",
      "AUC all:  0.7921949845026768\n",
      "\n"
     ]
    },
    {
     "name": "stderr",
     "output_type": "stream",
     "text": [
      "[I 2019-08-24 12:18:21,038] Finished trial#640 resulted in value: -0.7921949845026768. Current best value is -0.7948717948717948 with parameters: {'w_lr': 0.25932220860425337, 'w_lda': 0.09195697989035678, 'w_sv': 0.6584085004074863, 'w_xgb': 0.23943615391125597, 'w_lgbm': 0.2584978813734697, 'w_mlp': 0.9426610060258075}.\n"
     ]
    },
    {
     "name": "stdout",
     "output_type": "stream",
     "text": [
      "[w_lr, w_lda, w_sv, w_xgb, w_lgbm,w_cb ] =  [0.109 0.085 0.624 0.251 0.235 0.    0.929]\n",
      "norm =  [0.049 0.038 0.28  0.112 0.105 0.    0.416]\n",
      "AUC all:  0.7931811777965624\n",
      "\n"
     ]
    },
    {
     "name": "stderr",
     "output_type": "stream",
     "text": [
      "[I 2019-08-24 12:18:22,163] Finished trial#641 resulted in value: -0.7931811777965624. Current best value is -0.7948717948717948 with parameters: {'w_lr': 0.25932220860425337, 'w_lda': 0.09195697989035678, 'w_sv': 0.6584085004074863, 'w_xgb': 0.23943615391125597, 'w_lgbm': 0.2584978813734697, 'w_mlp': 0.9426610060258075}.\n"
     ]
    },
    {
     "name": "stdout",
     "output_type": "stream",
     "text": [
      "[w_lr, w_lda, w_sv, w_xgb, w_lgbm,w_cb ] =  [0.068 0.035 0.633 0.206 0.253 0.    0.963]\n",
      "norm =  [0.031 0.016 0.293 0.095 0.117 0.    0.446]\n",
      "AUC all:  0.7928994082840236\n",
      "\n"
     ]
    },
    {
     "name": "stderr",
     "output_type": "stream",
     "text": [
      "[I 2019-08-24 12:18:23,269] Finished trial#642 resulted in value: -0.7928994082840236. Current best value is -0.7948717948717948 with parameters: {'w_lr': 0.25932220860425337, 'w_lda': 0.09195697989035678, 'w_sv': 0.6584085004074863, 'w_xgb': 0.23943615391125597, 'w_lgbm': 0.2584978813734697, 'w_mlp': 0.9426610060258075}.\n"
     ]
    },
    {
     "name": "stdout",
     "output_type": "stream",
     "text": [
      "[w_lr, w_lda, w_sv, w_xgb, w_lgbm,w_cb ] =  [0.175 0.096 0.547 0.228 0.224 0.    0.988]\n",
      "norm =  [0.078 0.042 0.242 0.101 0.099 0.    0.437]\n",
      "AUC all:  0.7917723302338687\n",
      "\n"
     ]
    },
    {
     "name": "stderr",
     "output_type": "stream",
     "text": [
      "[I 2019-08-24 12:18:24,391] Finished trial#643 resulted in value: -0.7917723302338687. Current best value is -0.7948717948717948 with parameters: {'w_lr': 0.25932220860425337, 'w_lda': 0.09195697989035678, 'w_sv': 0.6584085004074863, 'w_xgb': 0.23943615391125597, 'w_lgbm': 0.2584978813734697, 'w_mlp': 0.9426610060258075}.\n"
     ]
    },
    {
     "name": "stdout",
     "output_type": "stream",
     "text": [
      "[w_lr, w_lda, w_sv, w_xgb, w_lgbm,w_cb ] =  [0.087 0.064 0.567 0.199 0.278 0.    0.947]\n",
      "norm =  [0.04  0.03  0.265 0.093 0.13  0.    0.442]\n",
      "AUC all:  0.7927585235277543\n",
      "\n"
     ]
    },
    {
     "name": "stderr",
     "output_type": "stream",
     "text": [
      "[I 2019-08-24 12:18:25,512] Finished trial#644 resulted in value: -0.7927585235277543. Current best value is -0.7948717948717948 with parameters: {'w_lr': 0.25932220860425337, 'w_lda': 0.09195697989035678, 'w_sv': 0.6584085004074863, 'w_xgb': 0.23943615391125597, 'w_lgbm': 0.2584978813734697, 'w_mlp': 0.9426610060258075}.\n"
     ]
    },
    {
     "name": "stdout",
     "output_type": "stream",
     "text": [
      "[w_lr, w_lda, w_sv, w_xgb, w_lgbm,w_cb ] =  [0.219 0.141 0.587 0.306 0.253 0.    0.954]\n",
      "norm =  [0.089 0.057 0.239 0.124 0.103 0.    0.388]\n",
      "AUC all:  0.7906452521837137\n",
      "\n"
     ]
    },
    {
     "name": "stderr",
     "output_type": "stream",
     "text": [
      "[I 2019-08-24 12:18:26,655] Finished trial#645 resulted in value: -0.7906452521837137. Current best value is -0.7948717948717948 with parameters: {'w_lr': 0.25932220860425337, 'w_lda': 0.09195697989035678, 'w_sv': 0.6584085004074863, 'w_xgb': 0.23943615391125597, 'w_lgbm': 0.2584978813734697, 'w_mlp': 0.9426610060258075}.\n"
     ]
    },
    {
     "name": "stdout",
     "output_type": "stream",
     "text": [
      "[w_lr, w_lda, w_sv, w_xgb, w_lgbm,w_cb ] =  [0.259 0.12  0.678 0.26  0.309 0.    0.967]\n",
      "norm =  [0.1   0.046 0.261 0.1   0.119 0.    0.373]\n",
      "AUC all:  0.7931811777965625\n",
      "\n"
     ]
    },
    {
     "name": "stderr",
     "output_type": "stream",
     "text": [
      "[I 2019-08-24 12:18:27,781] Finished trial#646 resulted in value: -0.7931811777965625. Current best value is -0.7948717948717948 with parameters: {'w_lr': 0.25932220860425337, 'w_lda': 0.09195697989035678, 'w_sv': 0.6584085004074863, 'w_xgb': 0.23943615391125597, 'w_lgbm': 0.2584978813734697, 'w_mlp': 0.9426610060258075}.\n"
     ]
    },
    {
     "name": "stdout",
     "output_type": "stream",
     "text": [
      "[w_lr, w_lda, w_sv, w_xgb, w_lgbm,w_cb ] =  [0.039 0.105 0.608 0.18  0.208 0.    0.973]\n",
      "norm =  [0.019 0.05  0.288 0.085 0.098 0.    0.46 ]\n",
      "AUC all:  0.7928994082840236\n",
      "\n"
     ]
    },
    {
     "name": "stderr",
     "output_type": "stream",
     "text": [
      "[I 2019-08-24 12:18:28,915] Finished trial#647 resulted in value: -0.7928994082840236. Current best value is -0.7948717948717948 with parameters: {'w_lr': 0.25932220860425337, 'w_lda': 0.09195697989035678, 'w_sv': 0.6584085004074863, 'w_xgb': 0.23943615391125597, 'w_lgbm': 0.2584978813734697, 'w_mlp': 0.9426610060258075}.\n"
     ]
    },
    {
     "name": "stdout",
     "output_type": "stream",
     "text": [
      "[w_lr, w_lda, w_sv, w_xgb, w_lgbm,w_cb ] =  [0.308 0.128 0.617 0.294 0.237 0.    0.939]\n",
      "norm =  [0.122 0.051 0.245 0.116 0.094 0.    0.372]\n",
      "AUC all:  0.7906452521837137\n",
      "\n"
     ]
    },
    {
     "name": "stderr",
     "output_type": "stream",
     "text": [
      "[I 2019-08-24 12:18:30,033] Finished trial#648 resulted in value: -0.7906452521837137. Current best value is -0.7948717948717948 with parameters: {'w_lr': 0.25932220860425337, 'w_lda': 0.09195697989035678, 'w_sv': 0.6584085004074863, 'w_xgb': 0.23943615391125597, 'w_lgbm': 0.2584978813734697, 'w_mlp': 0.9426610060258075}.\n"
     ]
    },
    {
     "name": "stdout",
     "output_type": "stream",
     "text": [
      "[w_lr, w_lda, w_sv, w_xgb, w_lgbm,w_cb ] =  [0.149 0.007 0.624 0.219 0.245 0.    0.934]\n",
      "norm =  [0.068 0.003 0.287 0.101 0.113 0.    0.429]\n",
      "AUC all:  0.7920540997464074\n",
      "\n"
     ]
    },
    {
     "name": "stderr",
     "output_type": "stream",
     "text": [
      "[I 2019-08-24 12:18:31,163] Finished trial#649 resulted in value: -0.7920540997464074. Current best value is -0.7948717948717948 with parameters: {'w_lr': 0.25932220860425337, 'w_lda': 0.09195697989035678, 'w_sv': 0.6584085004074863, 'w_xgb': 0.23943615391125597, 'w_lgbm': 0.2584978813734697, 'w_mlp': 0.9426610060258075}.\n"
     ]
    },
    {
     "name": "stdout",
     "output_type": "stream",
     "text": [
      "[w_lr, w_lda, w_sv, w_xgb, w_lgbm,w_cb ] =  [0.282 0.083 0.578 0.265 0.305 0.    0.954]\n",
      "norm =  [0.114 0.034 0.234 0.107 0.124 0.    0.387]\n",
      "AUC all:  0.793040293040293\n",
      "\n"
     ]
    },
    {
     "name": "stderr",
     "output_type": "stream",
     "text": [
      "[I 2019-08-24 12:18:32,297] Finished trial#650 resulted in value: -0.793040293040293. Current best value is -0.7948717948717948 with parameters: {'w_lr': 0.25932220860425337, 'w_lda': 0.09195697989035678, 'w_sv': 0.6584085004074863, 'w_xgb': 0.23943615391125597, 'w_lgbm': 0.2584978813734697, 'w_mlp': 0.9426610060258075}.\n"
     ]
    },
    {
     "name": "stdout",
     "output_type": "stream",
     "text": [
      "[w_lr, w_lda, w_sv, w_xgb, w_lgbm,w_cb ] =  [0.236 0.094 0.561 0.235 0.29  0.    0.999]\n",
      "norm =  [0.098 0.039 0.232 0.097 0.12  0.    0.414]\n",
      "AUC all:  0.7928994082840236\n",
      "\n"
     ]
    },
    {
     "name": "stderr",
     "output_type": "stream",
     "text": [
      "[I 2019-08-24 12:18:33,444] Finished trial#651 resulted in value: -0.7928994082840236. Current best value is -0.7948717948717948 with parameters: {'w_lr': 0.25932220860425337, 'w_lda': 0.09195697989035678, 'w_sv': 0.6584085004074863, 'w_xgb': 0.23943615391125597, 'w_lgbm': 0.2584978813734697, 'w_mlp': 0.9426610060258075}.\n"
     ]
    },
    {
     "name": "stdout",
     "output_type": "stream",
     "text": [
      "[w_lr, w_lda, w_sv, w_xgb, w_lgbm,w_cb ] =  [0.205 0.044 0.597 0.213 0.157 0.    0.983]\n",
      "norm =  [0.093 0.02  0.272 0.097 0.072 0.    0.447]\n",
      "AUC all:  0.7912087912087912\n",
      "\n"
     ]
    },
    {
     "name": "stderr",
     "output_type": "stream",
     "text": [
      "[I 2019-08-24 12:18:34,583] Finished trial#652 resulted in value: -0.7912087912087912. Current best value is -0.7948717948717948 with parameters: {'w_lr': 0.25932220860425337, 'w_lda': 0.09195697989035678, 'w_sv': 0.6584085004074863, 'w_xgb': 0.23943615391125597, 'w_lgbm': 0.2584978813734697, 'w_mlp': 0.9426610060258075}.\n"
     ]
    },
    {
     "name": "stdout",
     "output_type": "stream",
     "text": [
      "[w_lr, w_lda, w_sv, w_xgb, w_lgbm,w_cb ] =  [0.241 0.173 0.542 0.25  0.261 0.    0.949]\n",
      "norm =  [0.1   0.072 0.224 0.103 0.108 0.    0.393]\n",
      "AUC all:  0.7916314454775993\n",
      "\n"
     ]
    },
    {
     "name": "stderr",
     "output_type": "stream",
     "text": [
      "[I 2019-08-24 12:18:35,716] Finished trial#653 resulted in value: -0.7916314454775993. Current best value is -0.7948717948717948 with parameters: {'w_lr': 0.25932220860425337, 'w_lda': 0.09195697989035678, 'w_sv': 0.6584085004074863, 'w_xgb': 0.23943615391125597, 'w_lgbm': 0.2584978813734697, 'w_mlp': 0.9426610060258075}.\n"
     ]
    },
    {
     "name": "stdout",
     "output_type": "stream",
     "text": [
      "[w_lr, w_lda, w_sv, w_xgb, w_lgbm,w_cb ] =  [0.    0.153 0.642 0.281 0.266 0.    0.942]\n",
      "norm =  [0.    0.067 0.281 0.123 0.116 0.    0.413]\n",
      "AUC all:  0.7928994082840237\n",
      "\n"
     ]
    },
    {
     "name": "stderr",
     "output_type": "stream",
     "text": [
      "[I 2019-08-24 12:18:36,853] Finished trial#654 resulted in value: -0.7928994082840237. Current best value is -0.7948717948717948 with parameters: {'w_lr': 0.25932220860425337, 'w_lda': 0.09195697989035678, 'w_sv': 0.6584085004074863, 'w_xgb': 0.23943615391125597, 'w_lgbm': 0.2584978813734697, 'w_mlp': 0.9426610060258075}.\n"
     ]
    },
    {
     "name": "stdout",
     "output_type": "stream",
     "text": [
      "[w_lr, w_lda, w_sv, w_xgb, w_lgbm,w_cb ] =  [0.019 0.112 0.607 0.319 0.292 0.    0.914]\n",
      "norm =  [0.008 0.05  0.268 0.141 0.129 0.    0.404]\n",
      "AUC all:  0.7933220625528319\n",
      "\n"
     ]
    },
    {
     "name": "stderr",
     "output_type": "stream",
     "text": [
      "[I 2019-08-24 12:18:38,006] Finished trial#655 resulted in value: -0.7933220625528319. Current best value is -0.7948717948717948 with parameters: {'w_lr': 0.25932220860425337, 'w_lda': 0.09195697989035678, 'w_sv': 0.6584085004074863, 'w_xgb': 0.23943615391125597, 'w_lgbm': 0.2584978813734697, 'w_mlp': 0.9426610060258075}.\n"
     ]
    },
    {
     "name": "stdout",
     "output_type": "stream",
     "text": [
      "[w_lr, w_lda, w_sv, w_xgb, w_lgbm,w_cb ] =  [0.299 0.131 0.55  0.266 0.321 0.    0.92 ]\n",
      "norm =  [0.12  0.053 0.221 0.107 0.129 0.    0.37 ]\n",
      "AUC all:  0.7920540997464074\n",
      "\n"
     ]
    },
    {
     "name": "stderr",
     "output_type": "stream",
     "text": [
      "[I 2019-08-24 12:18:39,136] Finished trial#656 resulted in value: -0.7920540997464074. Current best value is -0.7948717948717948 with parameters: {'w_lr': 0.25932220860425337, 'w_lda': 0.09195697989035678, 'w_sv': 0.6584085004074863, 'w_xgb': 0.23943615391125597, 'w_lgbm': 0.2584978813734697, 'w_mlp': 0.9426610060258075}.\n"
     ]
    },
    {
     "name": "stdout",
     "output_type": "stream",
     "text": [
      "[w_lr, w_lda, w_sv, w_xgb, w_lgbm,w_cb ] =  [0.213 0.101 0.612 0.483 0.223 0.    0.935]\n",
      "norm =  [0.083 0.039 0.238 0.188 0.087 0.    0.364]\n",
      "AUC all:  0.7885319808396731\n",
      "\n"
     ]
    },
    {
     "name": "stderr",
     "output_type": "stream",
     "text": [
      "[I 2019-08-24 12:18:40,275] Finished trial#657 resulted in value: -0.7885319808396731. Current best value is -0.7948717948717948 with parameters: {'w_lr': 0.25932220860425337, 'w_lda': 0.09195697989035678, 'w_sv': 0.6584085004074863, 'w_xgb': 0.23943615391125597, 'w_lgbm': 0.2584978813734697, 'w_mlp': 0.9426610060258075}.\n"
     ]
    },
    {
     "name": "stdout",
     "output_type": "stream",
     "text": [
      "[w_lr, w_lda, w_sv, w_xgb, w_lgbm,w_cb ] =  [0.262 0.068 0.629 0.295 0.272 0.    0.961]\n",
      "norm =  [0.105 0.027 0.253 0.119 0.109 0.    0.386]\n",
      "AUC all:  0.793040293040293\n",
      "\n"
     ]
    },
    {
     "name": "stderr",
     "output_type": "stream",
     "text": [
      "[I 2019-08-24 12:18:41,414] Finished trial#658 resulted in value: -0.793040293040293. Current best value is -0.7948717948717948 with parameters: {'w_lr': 0.25932220860425337, 'w_lda': 0.09195697989035678, 'w_sv': 0.6584085004074863, 'w_xgb': 0.23943615391125597, 'w_lgbm': 0.2584978813734697, 'w_mlp': 0.9426610060258075}.\n"
     ]
    },
    {
     "name": "stdout",
     "output_type": "stream",
     "text": [
      "[w_lr, w_lda, w_sv, w_xgb, w_lgbm,w_cb ] =  [0.222 0.08  0.659 0.238 0.272 0.    0.976]\n",
      "norm =  [0.091 0.033 0.269 0.097 0.111 0.    0.399]\n",
      "AUC all:  0.7937447168216399\n",
      "\n"
     ]
    },
    {
     "name": "stderr",
     "output_type": "stream",
     "text": [
      "[I 2019-08-24 12:18:42,571] Finished trial#659 resulted in value: -0.7937447168216399. Current best value is -0.7948717948717948 with parameters: {'w_lr': 0.25932220860425337, 'w_lda': 0.09195697989035678, 'w_sv': 0.6584085004074863, 'w_xgb': 0.23943615391125597, 'w_lgbm': 0.2584978813734697, 'w_mlp': 0.9426610060258075}.\n"
     ]
    },
    {
     "name": "stdout",
     "output_type": "stream",
     "text": [
      "[w_lr, w_lda, w_sv, w_xgb, w_lgbm,w_cb ] =  [0.238 0.11  0.672 0.254 0.002 0.    0.913]\n",
      "norm =  [0.109 0.05  0.307 0.116 0.001 0.    0.417]\n",
      "AUC all:  0.7724711186249648\n",
      "\n"
     ]
    },
    {
     "name": "stderr",
     "output_type": "stream",
     "text": [
      "[I 2019-08-24 12:18:43,718] Finished trial#660 resulted in value: -0.7724711186249648. Current best value is -0.7948717948717948 with parameters: {'w_lr': 0.25932220860425337, 'w_lda': 0.09195697989035678, 'w_sv': 0.6584085004074863, 'w_xgb': 0.23943615391125597, 'w_lgbm': 0.2584978813734697, 'w_mlp': 0.9426610060258075}.\n"
     ]
    },
    {
     "name": "stdout",
     "output_type": "stream",
     "text": [
      "[w_lr, w_lda, w_sv, w_xgb, w_lgbm,w_cb ] =  [0.277 0.096 0.568 0.248 0.294 0.    0.896]\n",
      "norm =  [0.117 0.04  0.239 0.104 0.123 0.    0.377]\n",
      "AUC all:  0.7924767540152156\n",
      "\n"
     ]
    },
    {
     "name": "stderr",
     "output_type": "stream",
     "text": [
      "[I 2019-08-24 12:18:44,867] Finished trial#661 resulted in value: -0.7924767540152156. Current best value is -0.7948717948717948 with parameters: {'w_lr': 0.25932220860425337, 'w_lda': 0.09195697989035678, 'w_sv': 0.6584085004074863, 'w_xgb': 0.23943615391125597, 'w_lgbm': 0.2584978813734697, 'w_mlp': 0.9426610060258075}.\n"
     ]
    },
    {
     "name": "stdout",
     "output_type": "stream",
     "text": [
      "[w_lr, w_lda, w_sv, w_xgb, w_lgbm,w_cb ] =  [0.955 0.127 0.586 0.278 0.347 0.    0.945]\n",
      "norm =  [0.295 0.039 0.181 0.086 0.107 0.    0.292]\n",
      "AUC all:  0.7914905607213298\n",
      "\n"
     ]
    },
    {
     "name": "stderr",
     "output_type": "stream",
     "text": [
      "[I 2019-08-24 12:18:46,014] Finished trial#662 resulted in value: -0.7914905607213298. Current best value is -0.7948717948717948 with parameters: {'w_lr': 0.25932220860425337, 'w_lda': 0.09195697989035678, 'w_sv': 0.6584085004074863, 'w_xgb': 0.23943615391125597, 'w_lgbm': 0.2584978813734697, 'w_mlp': 0.9426610060258075}.\n"
     ]
    },
    {
     "name": "stdout",
     "output_type": "stream",
     "text": [
      "[w_lr, w_lda, w_sv, w_xgb, w_lgbm,w_cb ] =  [0.246 0.145 0.659 0.217 0.308 0.    0.907]\n",
      "norm =  [0.099 0.058 0.266 0.088 0.124 0.    0.366]\n",
      "AUC all:  0.7927585235277543\n",
      "\n"
     ]
    },
    {
     "name": "stderr",
     "output_type": "stream",
     "text": [
      "[I 2019-08-24 12:18:47,160] Finished trial#663 resulted in value: -0.7927585235277543. Current best value is -0.7948717948717948 with parameters: {'w_lr': 0.25932220860425337, 'w_lda': 0.09195697989035678, 'w_sv': 0.6584085004074863, 'w_xgb': 0.23943615391125597, 'w_lgbm': 0.2584978813734697, 'w_mlp': 0.9426610060258075}.\n"
     ]
    },
    {
     "name": "stdout",
     "output_type": "stream",
     "text": [
      "[w_lr, w_lda, w_sv, w_xgb, w_lgbm,w_cb ] =  [0.226 0.063 0.594 0.268 0.624 0.    0.957]\n",
      "norm =  [0.083 0.023 0.218 0.098 0.228 0.    0.35 ]\n",
      "AUC all:  0.7841645533953225\n",
      "\n"
     ]
    },
    {
     "name": "stderr",
     "output_type": "stream",
     "text": [
      "[I 2019-08-24 12:18:48,328] Finished trial#664 resulted in value: -0.7841645533953225. Current best value is -0.7948717948717948 with parameters: {'w_lr': 0.25932220860425337, 'w_lda': 0.09195697989035678, 'w_sv': 0.6584085004074863, 'w_xgb': 0.23943615391125597, 'w_lgbm': 0.2584978813734697, 'w_mlp': 0.9426610060258075}.\n"
     ]
    },
    {
     "name": "stdout",
     "output_type": "stream",
     "text": [
      "[w_lr, w_lda, w_sv, w_xgb, w_lgbm,w_cb ] =  [0.209 0.092 0.56  0.193 0.186 0.    0.966]\n",
      "norm =  [0.095 0.042 0.254 0.087 0.085 0.    0.438]\n",
      "AUC all:  0.7912087912087912\n",
      "\n"
     ]
    },
    {
     "name": "stderr",
     "output_type": "stream",
     "text": [
      "[I 2019-08-24 12:18:49,481] Finished trial#665 resulted in value: -0.7912087912087912. Current best value is -0.7948717948717948 with parameters: {'w_lr': 0.25932220860425337, 'w_lda': 0.09195697989035678, 'w_sv': 0.6584085004074863, 'w_xgb': 0.23943615391125597, 'w_lgbm': 0.2584978813734697, 'w_mlp': 0.9426610060258075}.\n"
     ]
    },
    {
     "name": "stdout",
     "output_type": "stream",
     "text": [
      "[w_lr, w_lda, w_sv, w_xgb, w_lgbm,w_cb ] =  [0.178 0.048 0.641 0.233 0.284 0.    0.968]\n",
      "norm =  [0.076 0.02  0.273 0.099 0.121 0.    0.412]\n",
      "AUC all:  0.7920540997464074\n",
      "\n"
     ]
    },
    {
     "name": "stderr",
     "output_type": "stream",
     "text": [
      "[I 2019-08-24 12:18:50,645] Finished trial#666 resulted in value: -0.7920540997464074. Current best value is -0.7948717948717948 with parameters: {'w_lr': 0.25932220860425337, 'w_lda': 0.09195697989035678, 'w_sv': 0.6584085004074863, 'w_xgb': 0.23943615391125597, 'w_lgbm': 0.2584978813734697, 'w_mlp': 0.9426610060258075}.\n"
     ]
    },
    {
     "name": "stdout",
     "output_type": "stream",
     "text": [
      "[w_lr, w_lda, w_sv, w_xgb, w_lgbm,w_cb ] =  [0.253 0.116 0.667 0.252 0.251 0.    0.962]\n",
      "norm =  [0.101 0.046 0.267 0.101 0.1   0.    0.385]\n",
      "AUC all:  0.7927585235277542\n",
      "\n"
     ]
    },
    {
     "name": "stderr",
     "output_type": "stream",
     "text": [
      "[I 2019-08-24 12:18:51,804] Finished trial#667 resulted in value: -0.7927585235277542. Current best value is -0.7948717948717948 with parameters: {'w_lr': 0.25932220860425337, 'w_lda': 0.09195697989035678, 'w_sv': 0.6584085004074863, 'w_xgb': 0.23943615391125597, 'w_lgbm': 0.2584978813734697, 'w_mlp': 0.9426610060258075}.\n"
     ]
    },
    {
     "name": "stdout",
     "output_type": "stream",
     "text": [
      "[w_lr, w_lda, w_sv, w_xgb, w_lgbm,w_cb ] =  [0.052 0.077 0.63  0.282 0.231 0.    0.952]\n",
      "norm =  [0.024 0.035 0.283 0.127 0.104 0.    0.428]\n",
      "AUC all:  0.7917723302338688\n",
      "\n"
     ]
    },
    {
     "name": "stderr",
     "output_type": "stream",
     "text": [
      "[I 2019-08-24 12:18:52,960] Finished trial#668 resulted in value: -0.7917723302338688. Current best value is -0.7948717948717948 with parameters: {'w_lr': 0.25932220860425337, 'w_lda': 0.09195697989035678, 'w_sv': 0.6584085004074863, 'w_xgb': 0.23943615391125597, 'w_lgbm': 0.2584978813734697, 'w_mlp': 0.9426610060258075}.\n"
     ]
    },
    {
     "name": "stdout",
     "output_type": "stream",
     "text": [
      "[w_lr, w_lda, w_sv, w_xgb, w_lgbm,w_cb ] =  [0.    0.059 0.622 0.298 0.264 0.    0.929]\n",
      "norm =  [0.    0.027 0.286 0.137 0.122 0.    0.427]\n",
      "AUC all:  0.791913214990138\n",
      "\n"
     ]
    },
    {
     "name": "stderr",
     "output_type": "stream",
     "text": [
      "[I 2019-08-24 12:18:54,127] Finished trial#669 resulted in value: -0.791913214990138. Current best value is -0.7948717948717948 with parameters: {'w_lr': 0.25932220860425337, 'w_lda': 0.09195697989035678, 'w_sv': 0.6584085004074863, 'w_xgb': 0.23943615391125597, 'w_lgbm': 0.2584978813734697, 'w_mlp': 0.9426610060258075}.\n"
     ]
    },
    {
     "name": "stdout",
     "output_type": "stream",
     "text": [
      "[w_lr, w_lda, w_sv, w_xgb, w_lgbm,w_cb ] =  [0.17  0.081 0.637 0.227 0.293 0.    0.924]\n",
      "norm =  [0.073 0.035 0.273 0.097 0.126 0.    0.396]\n",
      "AUC all:  0.7921949845026768\n",
      "\n"
     ]
    },
    {
     "name": "stderr",
     "output_type": "stream",
     "text": [
      "[I 2019-08-24 12:18:55,282] Finished trial#670 resulted in value: -0.7921949845026768. Current best value is -0.7948717948717948 with parameters: {'w_lr': 0.25932220860425337, 'w_lda': 0.09195697989035678, 'w_sv': 0.6584085004074863, 'w_xgb': 0.23943615391125597, 'w_lgbm': 0.2584978813734697, 'w_mlp': 0.9426610060258075}.\n"
     ]
    },
    {
     "name": "stdout",
     "output_type": "stream",
     "text": [
      "[w_lr, w_lda, w_sv, w_xgb, w_lgbm,w_cb ] =  [0.19  0.077 0.643 0.176 0.248 0.    0.98 ]\n",
      "norm =  [0.082 0.033 0.278 0.076 0.107 0.    0.424]\n",
      "AUC all:  0.7913496759650606\n",
      "\n"
     ]
    },
    {
     "name": "stderr",
     "output_type": "stream",
     "text": [
      "[I 2019-08-24 12:18:56,444] Finished trial#671 resulted in value: -0.7913496759650606. Current best value is -0.7948717948717948 with parameters: {'w_lr': 0.25932220860425337, 'w_lda': 0.09195697989035678, 'w_sv': 0.6584085004074863, 'w_xgb': 0.23943615391125597, 'w_lgbm': 0.2584978813734697, 'w_mlp': 0.9426610060258075}.\n"
     ]
    },
    {
     "name": "stdout",
     "output_type": "stream",
     "text": [
      "[w_lr, w_lda, w_sv, w_xgb, w_lgbm,w_cb ] =  [0.032 0.116 0.616 0.273 0.205 0.    0.947]\n",
      "norm =  [0.014 0.053 0.281 0.125 0.094 0.    0.433]\n",
      "AUC all:  0.7905043674274443\n",
      "\n"
     ]
    },
    {
     "name": "stderr",
     "output_type": "stream",
     "text": [
      "[I 2019-08-24 12:18:57,628] Finished trial#672 resulted in value: -0.7905043674274443. Current best value is -0.7948717948717948 with parameters: {'w_lr': 0.25932220860425337, 'w_lda': 0.09195697989035678, 'w_sv': 0.6584085004074863, 'w_xgb': 0.23943615391125597, 'w_lgbm': 0.2584978813734697, 'w_mlp': 0.9426610060258075}.\n"
     ]
    },
    {
     "name": "stdout",
     "output_type": "stream",
     "text": [
      "[w_lr, w_lda, w_sv, w_xgb, w_lgbm,w_cb ] =  [0.241 0.1   0.655 0.246 0.277 0.    0.916]\n",
      "norm =  [0.099 0.041 0.269 0.101 0.114 0.    0.376]\n",
      "AUC all:  0.7933220625528318\n",
      "\n"
     ]
    },
    {
     "name": "stderr",
     "output_type": "stream",
     "text": [
      "[I 2019-08-24 12:18:58,806] Finished trial#673 resulted in value: -0.7933220625528318. Current best value is -0.7948717948717948 with parameters: {'w_lr': 0.25932220860425337, 'w_lda': 0.09195697989035678, 'w_sv': 0.6584085004074863, 'w_xgb': 0.23943615391125597, 'w_lgbm': 0.2584978813734697, 'w_mlp': 0.9426610060258075}.\n"
     ]
    },
    {
     "name": "stdout",
     "output_type": "stream",
     "text": [
      "[w_lr, w_lda, w_sv, w_xgb, w_lgbm,w_cb ] =  [0.018 0.143 0.622 0.212 0.222 0.    0.934]\n",
      "norm =  [0.008 0.066 0.289 0.099 0.103 0.    0.434]\n",
      "AUC all:  0.7906452521837136\n",
      "\n"
     ]
    },
    {
     "name": "stderr",
     "output_type": "stream",
     "text": [
      "[I 2019-08-24 12:18:59,966] Finished trial#674 resulted in value: -0.7906452521837136. Current best value is -0.7948717948717948 with parameters: {'w_lr': 0.25932220860425337, 'w_lda': 0.09195697989035678, 'w_sv': 0.6584085004074863, 'w_xgb': 0.23943615391125597, 'w_lgbm': 0.2584978813734697, 'w_mlp': 0.9426610060258075}.\n"
     ]
    },
    {
     "name": "stdout",
     "output_type": "stream",
     "text": [
      "[w_lr, w_lda, w_sv, w_xgb, w_lgbm,w_cb ] =  [0.041 0.123 0.575 0.194 0.24  0.    0.967]\n",
      "norm =  [0.019 0.057 0.269 0.091 0.112 0.    0.452]\n",
      "AUC all:  0.7916314454775993\n",
      "\n"
     ]
    },
    {
     "name": "stderr",
     "output_type": "stream",
     "text": [
      "[I 2019-08-24 12:19:01,140] Finished trial#675 resulted in value: -0.7916314454775993. Current best value is -0.7948717948717948 with parameters: {'w_lr': 0.25932220860425337, 'w_lda': 0.09195697989035678, 'w_sv': 0.6584085004074863, 'w_xgb': 0.23943615391125597, 'w_lgbm': 0.2584978813734697, 'w_mlp': 0.9426610060258075}.\n"
     ]
    },
    {
     "name": "stdout",
     "output_type": "stream",
     "text": [
      "[w_lr, w_lda, w_sv, w_xgb, w_lgbm,w_cb ] =  [0.02  0.168 0.613 0.313 0.242 0.    0.944]\n",
      "norm =  [0.009 0.073 0.267 0.136 0.105 0.    0.41 ]\n",
      "AUC all:  0.7888137503522119\n",
      "\n"
     ]
    },
    {
     "name": "stderr",
     "output_type": "stream",
     "text": [
      "[I 2019-08-24 12:19:02,333] Finished trial#676 resulted in value: -0.7888137503522119. Current best value is -0.7948717948717948 with parameters: {'w_lr': 0.25932220860425337, 'w_lda': 0.09195697989035678, 'w_sv': 0.6584085004074863, 'w_xgb': 0.23943615391125597, 'w_lgbm': 0.2584978813734697, 'w_mlp': 0.9426610060258075}.\n"
     ]
    },
    {
     "name": "stdout",
     "output_type": "stream",
     "text": [
      "[w_lr, w_lda, w_sv, w_xgb, w_lgbm,w_cb ] =  [0.165 0.022 0.601 0.237 0.259 0.    0.98 ]\n",
      "norm =  [0.073 0.01  0.265 0.105 0.114 0.    0.433]\n",
      "AUC all:  0.7921949845026769\n",
      "\n"
     ]
    },
    {
     "name": "stderr",
     "output_type": "stream",
     "text": [
      "[I 2019-08-24 12:19:03,509] Finished trial#677 resulted in value: -0.7921949845026769. Current best value is -0.7948717948717948 with parameters: {'w_lr': 0.25932220860425337, 'w_lda': 0.09195697989035678, 'w_sv': 0.6584085004074863, 'w_xgb': 0.23943615391125597, 'w_lgbm': 0.2584978813734697, 'w_mlp': 0.9426610060258075}.\n"
     ]
    },
    {
     "name": "stdout",
     "output_type": "stream",
     "text": [
      "[w_lr, w_lda, w_sv, w_xgb, w_lgbm,w_cb ] =  [0.217 0.099 0.681 0.217 0.211 0.    0.961]\n",
      "norm =  [0.091 0.042 0.286 0.091 0.088 0.    0.403]\n",
      "AUC all:  0.79149056072133\n",
      "\n"
     ]
    },
    {
     "name": "stderr",
     "output_type": "stream",
     "text": [
      "[I 2019-08-24 12:19:04,689] Finished trial#678 resulted in value: -0.79149056072133. Current best value is -0.7948717948717948 with parameters: {'w_lr': 0.25932220860425337, 'w_lda': 0.09195697989035678, 'w_sv': 0.6584085004074863, 'w_xgb': 0.23943615391125597, 'w_lgbm': 0.2584978813734697, 'w_mlp': 0.9426610060258075}.\n"
     ]
    },
    {
     "name": "stdout",
     "output_type": "stream",
     "text": [
      "[w_lr, w_lda, w_sv, w_xgb, w_lgbm,w_cb ] =  [0.    0.135 0.651 0.258 0.326 0.    0.903]\n",
      "norm =  [0.    0.059 0.286 0.113 0.143 0.    0.397]\n",
      "AUC all:  0.791913214990138\n",
      "\n"
     ]
    },
    {
     "name": "stderr",
     "output_type": "stream",
     "text": [
      "[I 2019-08-24 12:19:05,861] Finished trial#679 resulted in value: -0.791913214990138. Current best value is -0.7948717948717948 with parameters: {'w_lr': 0.25932220860425337, 'w_lda': 0.09195697989035678, 'w_sv': 0.6584085004074863, 'w_xgb': 0.23943615391125597, 'w_lgbm': 0.2584978813734697, 'w_mlp': 0.9426610060258075}.\n"
     ]
    },
    {
     "name": "stdout",
     "output_type": "stream",
     "text": [
      "[w_lr, w_lda, w_sv, w_xgb, w_lgbm,w_cb ] =  [0.146 0.042 0.645 0.261 0.307 0.    0.973]\n",
      "norm =  [0.061 0.018 0.272 0.11  0.129 0.    0.41 ]\n",
      "AUC all:  0.7912087912087913\n",
      "\n"
     ]
    },
    {
     "name": "stderr",
     "output_type": "stream",
     "text": [
      "[I 2019-08-24 12:19:07,052] Finished trial#680 resulted in value: -0.7912087912087913. Current best value is -0.7948717948717948 with parameters: {'w_lr': 0.25932220860425337, 'w_lda': 0.09195697989035678, 'w_sv': 0.6584085004074863, 'w_xgb': 0.23943615391125597, 'w_lgbm': 0.2584978813734697, 'w_mlp': 0.9426610060258075}.\n"
     ]
    },
    {
     "name": "stdout",
     "output_type": "stream",
     "text": [
      "[w_lr, w_lda, w_sv, w_xgb, w_lgbm,w_cb ] =  [0.185 0.063 0.587 0.232 0.269 0.    0.98 ]\n",
      "norm =  [0.08  0.027 0.253 0.1   0.116 0.    0.423]\n",
      "AUC all:  0.7934629473091012\n",
      "\n"
     ]
    },
    {
     "name": "stderr",
     "output_type": "stream",
     "text": [
      "[I 2019-08-24 12:19:08,233] Finished trial#681 resulted in value: -0.7934629473091012. Current best value is -0.7948717948717948 with parameters: {'w_lr': 0.25932220860425337, 'w_lda': 0.09195697989035678, 'w_sv': 0.6584085004074863, 'w_xgb': 0.23943615391125597, 'w_lgbm': 0.2584978813734697, 'w_mlp': 0.9426610060258075}.\n"
     ]
    },
    {
     "name": "stdout",
     "output_type": "stream",
     "text": [
      "[w_lr, w_lda, w_sv, w_xgb, w_lgbm,w_cb ] =  [0.025 0.106 0.626 0.3   0.285 0.    0.928]\n",
      "norm =  [0.011 0.047 0.276 0.132 0.125 0.    0.409]\n",
      "AUC all:  0.793040293040293\n",
      "\n"
     ]
    },
    {
     "name": "stderr",
     "output_type": "stream",
     "text": [
      "[I 2019-08-24 12:19:09,410] Finished trial#682 resulted in value: -0.793040293040293. Current best value is -0.7948717948717948 with parameters: {'w_lr': 0.25932220860425337, 'w_lda': 0.09195697989035678, 'w_sv': 0.6584085004074863, 'w_xgb': 0.23943615391125597, 'w_lgbm': 0.2584978813734697, 'w_mlp': 0.9426610060258075}.\n"
     ]
    },
    {
     "name": "stdout",
     "output_type": "stream",
     "text": [
      "[w_lr, w_lda, w_sv, w_xgb, w_lgbm,w_cb ] =  [0.27  0.091 0.549 0.211 0.231 0.    0.95 ]\n",
      "norm =  [0.117 0.04  0.238 0.092 0.101 0.    0.413]\n",
      "AUC all:  0.7920540997464073\n",
      "\n"
     ]
    },
    {
     "name": "stderr",
     "output_type": "stream",
     "text": [
      "[I 2019-08-24 12:19:10,594] Finished trial#683 resulted in value: -0.7920540997464073. Current best value is -0.7948717948717948 with parameters: {'w_lr': 0.25932220860425337, 'w_lda': 0.09195697989035678, 'w_sv': 0.6584085004074863, 'w_xgb': 0.23943615391125597, 'w_lgbm': 0.2584978813734697, 'w_mlp': 0.9426610060258075}.\n"
     ]
    },
    {
     "name": "stdout",
     "output_type": "stream",
     "text": [
      "[w_lr, w_lda, w_sv, w_xgb, w_lgbm,w_cb ] =  [0.057 0.117 0.635 0.25  0.251 0.    0.936]\n",
      "norm =  [0.025 0.052 0.283 0.111 0.112 0.    0.417]\n",
      "AUC all:  0.7927585235277543\n",
      "\n"
     ]
    },
    {
     "name": "stderr",
     "output_type": "stream",
     "text": [
      "[I 2019-08-24 12:19:11,785] Finished trial#684 resulted in value: -0.7927585235277543. Current best value is -0.7948717948717948 with parameters: {'w_lr': 0.25932220860425337, 'w_lda': 0.09195697989035678, 'w_sv': 0.6584085004074863, 'w_xgb': 0.23943615391125597, 'w_lgbm': 0.2584978813734697, 'w_mlp': 0.9426610060258075}.\n"
     ]
    },
    {
     "name": "stdout",
     "output_type": "stream",
     "text": [
      "[w_lr, w_lda, w_sv, w_xgb, w_lgbm,w_cb ] =  [0.068 0.09  0.536 0.275 0.296 0.    0.928]\n",
      "norm =  [0.031 0.041 0.245 0.125 0.135 0.    0.423]\n",
      "AUC all:  0.7931811777965624\n",
      "\n"
     ]
    },
    {
     "name": "stderr",
     "output_type": "stream",
     "text": [
      "[I 2019-08-24 12:19:12,981] Finished trial#685 resulted in value: -0.7931811777965624. Current best value is -0.7948717948717948 with parameters: {'w_lr': 0.25932220860425337, 'w_lda': 0.09195697989035678, 'w_sv': 0.6584085004074863, 'w_xgb': 0.23943615391125597, 'w_lgbm': 0.2584978813734697, 'w_mlp': 0.9426610060258075}.\n"
     ]
    },
    {
     "name": "stdout",
     "output_type": "stream",
     "text": [
      "[w_lr, w_lda, w_sv, w_xgb, w_lgbm,w_cb ] =  [0.014 0.155 0.646 0.28  0.279 0.    0.921]\n",
      "norm =  [0.006 0.068 0.281 0.122 0.122 0.    0.401]\n",
      "AUC all:  0.7926176387714848\n",
      "\n"
     ]
    },
    {
     "name": "stderr",
     "output_type": "stream",
     "text": [
      "[I 2019-08-24 12:19:14,168] Finished trial#686 resulted in value: -0.7926176387714848. Current best value is -0.7948717948717948 with parameters: {'w_lr': 0.25932220860425337, 'w_lda': 0.09195697989035678, 'w_sv': 0.6584085004074863, 'w_xgb': 0.23943615391125597, 'w_lgbm': 0.2584978813734697, 'w_mlp': 0.9426610060258075}.\n"
     ]
    },
    {
     "name": "stdout",
     "output_type": "stream",
     "text": [
      "[w_lr, w_lda, w_sv, w_xgb, w_lgbm,w_cb ] =  [0.205 0.073 0.605 0.236 0.218 0.    0.953]\n",
      "norm =  [0.09  0.032 0.264 0.103 0.095 0.    0.416]\n",
      "AUC all:  0.7927585235277543\n",
      "\n"
     ]
    },
    {
     "name": "stderr",
     "output_type": "stream",
     "text": [
      "[I 2019-08-24 12:19:15,434] Finished trial#687 resulted in value: -0.7927585235277543. Current best value is -0.7948717948717948 with parameters: {'w_lr': 0.25932220860425337, 'w_lda': 0.09195697989035678, 'w_sv': 0.6584085004074863, 'w_xgb': 0.23943615391125597, 'w_lgbm': 0.2584978813734697, 'w_mlp': 0.9426610060258075}.\n"
     ]
    },
    {
     "name": "stdout",
     "output_type": "stream",
     "text": [
      "[w_lr, w_lda, w_sv, w_xgb, w_lgbm,w_cb ] =  [0.229 0.106 0.661 0.247 0.266 0.    0.903]\n",
      "norm =  [0.095 0.044 0.274 0.102 0.11  0.    0.374]\n",
      "AUC all:  0.7937447168216398\n",
      "\n"
     ]
    },
    {
     "name": "stderr",
     "output_type": "stream",
     "text": [
      "[I 2019-08-24 12:19:16,792] Finished trial#688 resulted in value: -0.7937447168216398. Current best value is -0.7948717948717948 with parameters: {'w_lr': 0.25932220860425337, 'w_lda': 0.09195697989035678, 'w_sv': 0.6584085004074863, 'w_xgb': 0.23943615391125597, 'w_lgbm': 0.2584978813734697, 'w_mlp': 0.9426610060258075}.\n"
     ]
    },
    {
     "name": "stdout",
     "output_type": "stream",
     "text": [
      "[w_lr, w_lda, w_sv, w_xgb, w_lgbm,w_cb ] =  [0.04  0.131 0.637 0.195 0.192 0.    0.938]\n",
      "norm =  [0.019 0.061 0.299 0.092 0.09  0.    0.44 ]\n",
      "AUC all:  0.7906452521837136\n",
      "\n"
     ]
    },
    {
     "name": "stderr",
     "output_type": "stream",
     "text": [
      "[I 2019-08-24 12:19:18,118] Finished trial#689 resulted in value: -0.7906452521837136. Current best value is -0.7948717948717948 with parameters: {'w_lr': 0.25932220860425337, 'w_lda': 0.09195697989035678, 'w_sv': 0.6584085004074863, 'w_xgb': 0.23943615391125597, 'w_lgbm': 0.2584978813734697, 'w_mlp': 0.9426610060258075}.\n"
     ]
    },
    {
     "name": "stdout",
     "output_type": "stream",
     "text": [
      "[w_lr, w_lda, w_sv, w_xgb, w_lgbm,w_cb ] =  [0.09  0.046 0.634 0.222 0.247 0.    0.915]\n",
      "norm =  [0.042 0.021 0.294 0.103 0.115 0.    0.425]\n",
      "AUC all:  0.7936038320653704\n",
      "\n"
     ]
    },
    {
     "name": "stderr",
     "output_type": "stream",
     "text": [
      "[I 2019-08-24 12:19:19,556] Finished trial#690 resulted in value: -0.7936038320653704. Current best value is -0.7948717948717948 with parameters: {'w_lr': 0.25932220860425337, 'w_lda': 0.09195697989035678, 'w_sv': 0.6584085004074863, 'w_xgb': 0.23943615391125597, 'w_lgbm': 0.2584978813734697, 'w_mlp': 0.9426610060258075}.\n"
     ]
    },
    {
     "name": "stdout",
     "output_type": "stream",
     "text": [
      "[w_lr, w_lda, w_sv, w_xgb, w_lgbm,w_cb ] =  [0.138 0.064 0.628 0.176 0.231 0.    0.895]\n",
      "norm =  [0.065 0.03  0.295 0.082 0.108 0.    0.42 ]\n",
      "AUC all:  0.7920540997464075\n",
      "\n"
     ]
    },
    {
     "name": "stderr",
     "output_type": "stream",
     "text": [
      "[I 2019-08-24 12:19:21,084] Finished trial#691 resulted in value: -0.7920540997464075. Current best value is -0.7948717948717948 with parameters: {'w_lr': 0.25932220860425337, 'w_lda': 0.09195697989035678, 'w_sv': 0.6584085004074863, 'w_xgb': 0.23943615391125597, 'w_lgbm': 0.2584978813734697, 'w_mlp': 0.9426610060258075}.\n"
     ]
    },
    {
     "name": "stdout",
     "output_type": "stream",
     "text": [
      "[w_lr, w_lda, w_sv, w_xgb, w_lgbm,w_cb ] =  [0.57  0.085 0.62  0.271 0.269 0.    0.924]\n",
      "norm =  [0.208 0.031 0.226 0.099 0.098 0.    0.337]\n",
      "AUC all:  0.7931811777965625\n",
      "\n"
     ]
    },
    {
     "name": "stderr",
     "output_type": "stream",
     "text": [
      "[I 2019-08-24 12:19:22,412] Finished trial#692 resulted in value: -0.7931811777965625. Current best value is -0.7948717948717948 with parameters: {'w_lr': 0.25932220860425337, 'w_lda': 0.09195697989035678, 'w_sv': 0.6584085004074863, 'w_xgb': 0.23943615391125597, 'w_lgbm': 0.2584978813734697, 'w_mlp': 0.9426610060258075}.\n"
     ]
    },
    {
     "name": "stdout",
     "output_type": "stream",
     "text": [
      "[w_lr, w_lda, w_sv, w_xgb, w_lgbm,w_cb ] =  [0.118 0.076 0.565 0.259 0.321 0.    0.961]\n",
      "norm =  [0.051 0.033 0.246 0.113 0.139 0.    0.418]\n",
      "AUC all:  0.7916314454775993\n",
      "\n"
     ]
    },
    {
     "name": "stderr",
     "output_type": "stream",
     "text": [
      "[I 2019-08-24 12:19:23,844] Finished trial#693 resulted in value: -0.7916314454775993. Current best value is -0.7948717948717948 with parameters: {'w_lr': 0.25932220860425337, 'w_lda': 0.09195697989035678, 'w_sv': 0.6584085004074863, 'w_xgb': 0.23943615391125597, 'w_lgbm': 0.2584978813734697, 'w_mlp': 0.9426610060258075}.\n"
     ]
    },
    {
     "name": "stdout",
     "output_type": "stream",
     "text": [
      "[w_lr, w_lda, w_sv, w_xgb, w_lgbm,w_cb ] =  [0.192 0.111 0.687 0.419 0.263 0.    1.   ]\n",
      "norm =  [0.072 0.042 0.257 0.157 0.098 0.    0.374]\n",
      "AUC all:  0.7890955198647507\n",
      "\n"
     ]
    },
    {
     "name": "stderr",
     "output_type": "stream",
     "text": [
      "[I 2019-08-24 12:19:25,338] Finished trial#694 resulted in value: -0.7890955198647507. Current best value is -0.7948717948717948 with parameters: {'w_lr': 0.25932220860425337, 'w_lda': 0.09195697989035678, 'w_sv': 0.6584085004074863, 'w_xgb': 0.23943615391125597, 'w_lgbm': 0.2584978813734697, 'w_mlp': 0.9426610060258075}.\n"
     ]
    },
    {
     "name": "stdout",
     "output_type": "stream",
     "text": [
      "[w_lr, w_lda, w_sv, w_xgb, w_lgbm,w_cb ] =  [0.154 0.055 0.578 0.233 0.275 0.    1.   ]\n",
      "norm =  [0.067 0.024 0.252 0.101 0.12  0.    0.436]\n",
      "AUC all:  0.7933220625528318\n",
      "\n"
     ]
    },
    {
     "name": "stderr",
     "output_type": "stream",
     "text": [
      "[I 2019-08-24 12:19:26,759] Finished trial#695 resulted in value: -0.7933220625528318. Current best value is -0.7948717948717948 with parameters: {'w_lr': 0.25932220860425337, 'w_lda': 0.09195697989035678, 'w_sv': 0.6584085004074863, 'w_xgb': 0.23943615391125597, 'w_lgbm': 0.2584978813734697, 'w_mlp': 0.9426610060258075}.\n"
     ]
    },
    {
     "name": "stdout",
     "output_type": "stream",
     "text": [
      "[w_lr, w_lda, w_sv, w_xgb, w_lgbm,w_cb ] =  [0.179 0.086 0.608 0.207 0.246 0.    0.986]\n",
      "norm =  [0.078 0.037 0.263 0.09  0.106 0.    0.426]\n",
      "AUC all:  0.7927585235277543\n",
      "\n"
     ]
    },
    {
     "name": "stderr",
     "output_type": "stream",
     "text": [
      "[I 2019-08-24 12:19:28,178] Finished trial#696 resulted in value: -0.7927585235277543. Current best value is -0.7948717948717948 with parameters: {'w_lr': 0.25932220860425337, 'w_lda': 0.09195697989035678, 'w_sv': 0.6584085004074863, 'w_xgb': 0.23943615391125597, 'w_lgbm': 0.2584978813734697, 'w_mlp': 0.9426610060258075}.\n"
     ]
    },
    {
     "name": "stdout",
     "output_type": "stream",
     "text": [
      "[w_lr, w_lda, w_sv, w_xgb, w_lgbm,w_cb ] =  [0.194 0.121 0.595 0.289 0.227 0.    0.991]\n",
      "norm =  [0.08  0.05  0.246 0.119 0.094 0.    0.41 ]\n",
      "AUC all:  0.7903634826711751\n",
      "\n"
     ]
    },
    {
     "name": "stderr",
     "output_type": "stream",
     "text": [
      "[I 2019-08-24 12:19:29,571] Finished trial#697 resulted in value: -0.7903634826711751. Current best value is -0.7948717948717948 with parameters: {'w_lr': 0.25932220860425337, 'w_lda': 0.09195697989035678, 'w_sv': 0.6584085004074863, 'w_xgb': 0.23943615391125597, 'w_lgbm': 0.2584978813734697, 'w_mlp': 0.9426610060258075}.\n"
     ]
    },
    {
     "name": "stdout",
     "output_type": "stream",
     "text": [
      "[w_lr, w_lda, w_sv, w_xgb, w_lgbm,w_cb ] =  [0.002 0.146 0.617 0.332 0.2   0.    0.945]\n",
      "norm =  [0.001 0.065 0.275 0.148 0.089 0.    0.421]\n",
      "AUC all:  0.7890955198647506\n",
      "\n"
     ]
    },
    {
     "name": "stderr",
     "output_type": "stream",
     "text": [
      "[I 2019-08-24 12:19:30,956] Finished trial#698 resulted in value: -0.7890955198647506. Current best value is -0.7948717948717948 with parameters: {'w_lr': 0.25932220860425337, 'w_lda': 0.09195697989035678, 'w_sv': 0.6584085004074863, 'w_xgb': 0.23943615391125597, 'w_lgbm': 0.2584978813734697, 'w_mlp': 0.9426610060258075}.\n"
     ]
    },
    {
     "name": "stdout",
     "output_type": "stream",
     "text": [
      "[w_lr, w_lda, w_sv, w_xgb, w_lgbm,w_cb ] =  [0.056 0.021 0.627 0.221 0.242 0.    0.937]\n",
      "norm =  [0.026 0.01  0.298 0.105 0.115 0.    0.445]\n",
      "AUC all:  0.7921949845026768\n",
      "\n"
     ]
    },
    {
     "name": "stderr",
     "output_type": "stream",
     "text": [
      "[I 2019-08-24 12:19:32,623] Finished trial#699 resulted in value: -0.7921949845026768. Current best value is -0.7948717948717948 with parameters: {'w_lr': 0.25932220860425337, 'w_lda': 0.09195697989035678, 'w_sv': 0.6584085004074863, 'w_xgb': 0.23943615391125597, 'w_lgbm': 0.2584978813734697, 'w_mlp': 0.9426610060258075}.\n"
     ]
    },
    {
     "name": "stdout",
     "output_type": "stream",
     "text": [
      "[w_lr, w_lda, w_sv, w_xgb, w_lgbm,w_cb ] =  [0.46  0.101 0.556 0.261 0.305 0.    0.957]\n",
      "norm =  [0.174 0.038 0.211 0.099 0.116 0.    0.362]\n",
      "AUC all:  0.7933220625528318\n",
      "\n"
     ]
    },
    {
     "name": "stderr",
     "output_type": "stream",
     "text": [
      "[I 2019-08-24 12:19:34,055] Finished trial#700 resulted in value: -0.7933220625528318. Current best value is -0.7948717948717948 with parameters: {'w_lr': 0.25932220860425337, 'w_lda': 0.09195697989035678, 'w_sv': 0.6584085004074863, 'w_xgb': 0.23943615391125597, 'w_lgbm': 0.2584978813734697, 'w_mlp': 0.9426610060258075}.\n"
     ]
    },
    {
     "name": "stdout",
     "output_type": "stream",
     "text": [
      "[w_lr, w_lda, w_sv, w_xgb, w_lgbm,w_cb ] =  [0.117 0.072 0.654 0.159 0.298 0.    0.908]\n",
      "norm =  [0.053 0.033 0.296 0.072 0.135 0.    0.411]\n",
      "AUC all:  0.7890955198647506\n",
      "\n"
     ]
    },
    {
     "name": "stderr",
     "output_type": "stream",
     "text": [
      "[I 2019-08-24 12:19:35,414] Finished trial#701 resulted in value: -0.7890955198647506. Current best value is -0.7948717948717948 with parameters: {'w_lr': 0.25932220860425337, 'w_lda': 0.09195697989035678, 'w_sv': 0.6584085004074863, 'w_xgb': 0.23943615391125597, 'w_lgbm': 0.2584978813734697, 'w_mlp': 0.9426610060258075}.\n"
     ]
    },
    {
     "name": "stdout",
     "output_type": "stream",
     "text": [
      "[w_lr, w_lda, w_sv, w_xgb, w_lgbm,w_cb ] =  [0.017 0.056 0.638 0.302 0.259 0.    0.969]\n",
      "norm =  [0.007 0.025 0.285 0.135 0.116 0.    0.433]\n",
      "AUC all:  0.791913214990138\n",
      "\n"
     ]
    },
    {
     "name": "stderr",
     "output_type": "stream",
     "text": [
      "[I 2019-08-24 12:19:36,691] Finished trial#702 resulted in value: -0.791913214990138. Current best value is -0.7948717948717948 with parameters: {'w_lr': 0.25932220860425337, 'w_lda': 0.09195697989035678, 'w_sv': 0.6584085004074863, 'w_xgb': 0.23943615391125597, 'w_lgbm': 0.2584978813734697, 'w_mlp': 0.9426610060258075}.\n"
     ]
    },
    {
     "name": "stdout",
     "output_type": "stream",
     "text": [
      "[w_lr, w_lda, w_sv, w_xgb, w_lgbm,w_cb ] =  [0.261 0.128 0.572 0.242 0.216 0.    0.954]\n",
      "norm =  [0.11  0.054 0.241 0.102 0.091 0.    0.402]\n",
      "AUC all:  0.790786136939983\n",
      "\n"
     ]
    },
    {
     "name": "stderr",
     "output_type": "stream",
     "text": [
      "[I 2019-08-24 12:19:38,129] Finished trial#703 resulted in value: -0.790786136939983. Current best value is -0.7948717948717948 with parameters: {'w_lr': 0.25932220860425337, 'w_lda': 0.09195697989035678, 'w_sv': 0.6584085004074863, 'w_xgb': 0.23943615391125597, 'w_lgbm': 0.2584978813734697, 'w_mlp': 0.9426610060258075}.\n"
     ]
    },
    {
     "name": "stdout",
     "output_type": "stream",
     "text": [
      "[w_lr, w_lda, w_sv, w_xgb, w_lgbm,w_cb ] =  [0.033 0.103 0.645 0.247 0.285 0.    0.943]\n",
      "norm =  [0.015 0.046 0.286 0.11  0.126 0.    0.418]\n",
      "AUC all:  0.7933220625528318\n",
      "\n"
     ]
    },
    {
     "name": "stderr",
     "output_type": "stream",
     "text": [
      "[I 2019-08-24 12:19:39,356] Finished trial#704 resulted in value: -0.7933220625528318. Current best value is -0.7948717948717948 with parameters: {'w_lr': 0.25932220860425337, 'w_lda': 0.09195697989035678, 'w_sv': 0.6584085004074863, 'w_xgb': 0.23943615391125597, 'w_lgbm': 0.2584978813734697, 'w_mlp': 0.9426610060258075}.\n"
     ]
    },
    {
     "name": "stdout",
     "output_type": "stream",
     "text": [
      "[w_lr, w_lda, w_sv, w_xgb, w_lgbm,w_cb ] =  [0.08  0.038 0.633 0.193 0.25  0.    0.969]\n",
      "norm =  [0.037 0.018 0.293 0.089 0.116 0.    0.448]\n",
      "AUC all:  0.7928994082840236\n",
      "\n"
     ]
    },
    {
     "name": "stderr",
     "output_type": "stream",
     "text": [
      "[I 2019-08-24 12:19:40,722] Finished trial#705 resulted in value: -0.7928994082840236. Current best value is -0.7948717948717948 with parameters: {'w_lr': 0.25932220860425337, 'w_lda': 0.09195697989035678, 'w_sv': 0.6584085004074863, 'w_xgb': 0.23943615391125597, 'w_lgbm': 0.2584978813734697, 'w_mlp': 0.9426610060258075}.\n"
     ]
    },
    {
     "name": "stdout",
     "output_type": "stream",
     "text": [
      "[w_lr, w_lda, w_sv, w_xgb, w_lgbm,w_cb ] =  [0.228 0.096 0.673 0.27  0.67  0.    0.929]\n",
      "norm =  [0.08  0.033 0.235 0.094 0.234 0.    0.324]\n",
      "AUC all:  0.7836010143702452\n",
      "\n"
     ]
    },
    {
     "name": "stderr",
     "output_type": "stream",
     "text": [
      "[I 2019-08-24 12:19:41,949] Finished trial#706 resulted in value: -0.7836010143702452. Current best value is -0.7948717948717948 with parameters: {'w_lr': 0.25932220860425337, 'w_lda': 0.09195697989035678, 'w_sv': 0.6584085004074863, 'w_xgb': 0.23943615391125597, 'w_lgbm': 0.2584978813734697, 'w_mlp': 0.9426610060258075}.\n"
     ]
    },
    {
     "name": "stdout",
     "output_type": "stream",
     "text": [
      "[w_lr, w_lda, w_sv, w_xgb, w_lgbm,w_cb ] =  [0.044 0.076 0.631 0.217 0.265 0.    0.963]\n",
      "norm =  [0.02  0.035 0.287 0.099 0.12  0.    0.439]\n",
      "AUC all:  0.7931811777965624\n",
      "\n"
     ]
    },
    {
     "name": "stderr",
     "output_type": "stream",
     "text": [
      "[I 2019-08-24 12:19:43,170] Finished trial#707 resulted in value: -0.7931811777965624. Current best value is -0.7948717948717948 with parameters: {'w_lr': 0.25932220860425337, 'w_lda': 0.09195697989035678, 'w_sv': 0.6584085004074863, 'w_xgb': 0.23943615391125597, 'w_lgbm': 0.2584978813734697, 'w_mlp': 0.9426610060258075}.\n"
     ]
    },
    {
     "name": "stdout",
     "output_type": "stream",
     "text": [
      "[w_lr, w_lda, w_sv, w_xgb, w_lgbm,w_cb ] =  [0.289 0.134 0.65  0.291 0.321 0.    0.953]\n",
      "norm =  [0.11  0.051 0.246 0.11  0.122 0.    0.361]\n",
      "AUC all:  0.7928994082840237\n",
      "\n"
     ]
    },
    {
     "name": "stderr",
     "output_type": "stream",
     "text": [
      "[I 2019-08-24 12:19:44,412] Finished trial#708 resulted in value: -0.7928994082840237. Current best value is -0.7948717948717948 with parameters: {'w_lr': 0.25932220860425337, 'w_lda': 0.09195697989035678, 'w_sv': 0.6584085004074863, 'w_xgb': 0.23943615391125597, 'w_lgbm': 0.2584978813734697, 'w_mlp': 0.9426610060258075}.\n"
     ]
    },
    {
     "name": "stdout",
     "output_type": "stream",
     "text": [
      "[w_lr, w_lda, w_sv, w_xgb, w_lgbm,w_cb ] =  [0.255 0.542 0.588 0.313 0.236 0.    0.939]\n",
      "norm =  [0.089 0.188 0.205 0.109 0.082 0.    0.327]\n",
      "AUC all:  0.7814877430262045\n",
      "\n"
     ]
    },
    {
     "name": "stderr",
     "output_type": "stream",
     "text": [
      "[I 2019-08-24 12:19:45,705] Finished trial#709 resulted in value: -0.7814877430262045. Current best value is -0.7948717948717948 with parameters: {'w_lr': 0.25932220860425337, 'w_lda': 0.09195697989035678, 'w_sv': 0.6584085004074863, 'w_xgb': 0.23943615391125597, 'w_lgbm': 0.2584978813734697, 'w_mlp': 0.9426610060258075}.\n"
     ]
    },
    {
     "name": "stdout",
     "output_type": "stream",
     "text": [
      "[w_lr, w_lda, w_sv, w_xgb, w_lgbm,w_cb ] =  [0.018 0.115 0.612 0.122 0.288 0.    0.954]\n",
      "norm =  [0.008 0.054 0.29  0.058 0.136 0.    0.453]\n",
      "AUC all:  0.7897999436460974\n",
      "\n"
     ]
    },
    {
     "name": "stderr",
     "output_type": "stream",
     "text": [
      "[I 2019-08-24 12:19:47,228] Finished trial#710 resulted in value: -0.7897999436460974. Current best value is -0.7948717948717948 with parameters: {'w_lr': 0.25932220860425337, 'w_lda': 0.09195697989035678, 'w_sv': 0.6584085004074863, 'w_xgb': 0.23943615391125597, 'w_lgbm': 0.2584978813734697, 'w_mlp': 0.9426610060258075}.\n"
     ]
    },
    {
     "name": "stdout",
     "output_type": "stream",
     "text": [
      "[w_lr, w_lda, w_sv, w_xgb, w_lgbm,w_cb ] =  [0.015 0.161 0.526 0.284 0.29  0.    0.917]\n",
      "norm =  [0.007 0.073 0.24  0.13  0.132 0.    0.418]\n",
      "AUC all:  0.7923358692589462\n",
      "\n"
     ]
    },
    {
     "name": "stderr",
     "output_type": "stream",
     "text": [
      "[I 2019-08-24 12:19:48,592] Finished trial#711 resulted in value: -0.7923358692589462. Current best value is -0.7948717948717948 with parameters: {'w_lr': 0.25932220860425337, 'w_lda': 0.09195697989035678, 'w_sv': 0.6584085004074863, 'w_xgb': 0.23943615391125597, 'w_lgbm': 0.2584978813734697, 'w_mlp': 0.9426610060258075}.\n"
     ]
    },
    {
     "name": "stdout",
     "output_type": "stream",
     "text": [
      "[w_lr, w_lda, w_sv, w_xgb, w_lgbm,w_cb ] =  [0.153 0.08  0.602 0.206 0.224 0.    0.987]\n",
      "norm =  [0.068 0.036 0.267 0.091 0.099 0.    0.438]\n",
      "AUC all:  0.7923358692589462\n",
      "\n"
     ]
    },
    {
     "name": "stderr",
     "output_type": "stream",
     "text": [
      "[I 2019-08-24 12:19:49,881] Finished trial#712 resulted in value: -0.7923358692589462. Current best value is -0.7948717948717948 with parameters: {'w_lr': 0.25932220860425337, 'w_lda': 0.09195697989035678, 'w_sv': 0.6584085004074863, 'w_xgb': 0.23943615391125597, 'w_lgbm': 0.2584978813734697, 'w_mlp': 0.9426610060258075}.\n"
     ]
    },
    {
     "name": "stdout",
     "output_type": "stream",
     "text": [
      "[w_lr, w_lda, w_sv, w_xgb, w_lgbm,w_cb ] =  [0.004 0.095 0.647 0.237 0.27  0.    0.929]\n",
      "norm =  [0.002 0.044 0.297 0.109 0.124 0.    0.426]\n",
      "AUC all:  0.7938856015779092\n",
      "\n"
     ]
    },
    {
     "name": "stderr",
     "output_type": "stream",
     "text": [
      "[I 2019-08-24 12:19:51,308] Finished trial#713 resulted in value: -0.7938856015779092. Current best value is -0.7948717948717948 with parameters: {'w_lr': 0.25932220860425337, 'w_lda': 0.09195697989035678, 'w_sv': 0.6584085004074863, 'w_xgb': 0.23943615391125597, 'w_lgbm': 0.2584978813734697, 'w_mlp': 0.9426610060258075}.\n"
     ]
    },
    {
     "name": "stdout",
     "output_type": "stream",
     "text": [
      "[w_lr, w_lda, w_sv, w_xgb, w_lgbm,w_cb ] =  [0.038 0.119 0.566 0.23  0.247 0.    0.936]\n",
      "norm =  [0.018 0.056 0.265 0.108 0.116 0.    0.438]\n",
      "AUC all:  0.7924767540152156\n",
      "\n"
     ]
    },
    {
     "name": "stderr",
     "output_type": "stream",
     "text": [
      "[I 2019-08-24 12:19:52,554] Finished trial#714 resulted in value: -0.7924767540152156. Current best value is -0.7948717948717948 with parameters: {'w_lr': 0.25932220860425337, 'w_lda': 0.09195697989035678, 'w_sv': 0.6584085004074863, 'w_xgb': 0.23943615391125597, 'w_lgbm': 0.2584978813734697, 'w_mlp': 0.9426610060258075}.\n"
     ]
    },
    {
     "name": "stdout",
     "output_type": "stream",
     "text": [
      "[w_lr, w_lda, w_sv, w_xgb, w_lgbm,w_cb ] =  [0.132 0.062 0.623 0.256 0.266 0.    0.977]\n",
      "norm =  [0.057 0.027 0.269 0.111 0.115 0.    0.422]\n",
      "AUC all:  0.7934629473091012\n",
      "\n"
     ]
    },
    {
     "name": "stderr",
     "output_type": "stream",
     "text": [
      "[I 2019-08-24 12:19:53,957] Finished trial#715 resulted in value: -0.7934629473091012. Current best value is -0.7948717948717948 with parameters: {'w_lr': 0.25932220860425337, 'w_lda': 0.09195697989035678, 'w_sv': 0.6584085004074863, 'w_xgb': 0.23943615391125597, 'w_lgbm': 0.2584978813734697, 'w_mlp': 0.9426610060258075}.\n"
     ]
    },
    {
     "name": "stdout",
     "output_type": "stream",
     "text": [
      "[w_lr, w_lda, w_sv, w_xgb, w_lgbm,w_cb ] =  [0.711 0.139 0.545 0.275 0.281 0.    0.92 ]\n",
      "norm =  [0.248 0.048 0.19  0.096 0.098 0.    0.32 ]\n",
      "AUC all:  0.7919132149901381\n",
      "\n"
     ]
    },
    {
     "name": "stderr",
     "output_type": "stream",
     "text": [
      "[I 2019-08-24 12:19:55,324] Finished trial#716 resulted in value: -0.7919132149901381. Current best value is -0.7948717948717948 with parameters: {'w_lr': 0.25932220860425337, 'w_lda': 0.09195697989035678, 'w_sv': 0.6584085004074863, 'w_xgb': 0.23943615391125597, 'w_lgbm': 0.2584978813734697, 'w_mlp': 0.9426610060258075}.\n"
     ]
    },
    {
     "name": "stdout",
     "output_type": "stream",
     "text": [
      "[w_lr, w_lda, w_sv, w_xgb, w_lgbm,w_cb ] =  [0.016 0.107 0.578 0.253 0.253 0.    0.901]\n",
      "norm =  [0.008 0.051 0.274 0.12  0.12  0.    0.427]\n",
      "AUC all:  0.7940264863341786\n",
      "\n"
     ]
    },
    {
     "name": "stderr",
     "output_type": "stream",
     "text": [
      "[I 2019-08-24 12:19:56,817] Finished trial#717 resulted in value: -0.7940264863341786. Current best value is -0.7948717948717948 with parameters: {'w_lr': 0.25932220860425337, 'w_lda': 0.09195697989035678, 'w_sv': 0.6584085004074863, 'w_xgb': 0.23943615391125597, 'w_lgbm': 0.2584978813734697, 'w_mlp': 0.9426610060258075}.\n"
     ]
    },
    {
     "name": "stdout",
     "output_type": "stream",
     "text": [
      "[w_lr, w_lda, w_sv, w_xgb, w_lgbm,w_cb ] =  [0.062 0.149 0.585 0.299 0.192 0.    0.904]\n",
      "norm =  [0.028 0.068 0.267 0.136 0.088 0.    0.413]\n",
      "AUC all:  0.7886728655959425\n",
      "\n"
     ]
    },
    {
     "name": "stderr",
     "output_type": "stream",
     "text": [
      "[I 2019-08-24 12:19:58,061] Finished trial#718 resulted in value: -0.7886728655959425. Current best value is -0.7948717948717948 with parameters: {'w_lr': 0.25932220860425337, 'w_lda': 0.09195697989035678, 'w_sv': 0.6584085004074863, 'w_xgb': 0.23943615391125597, 'w_lgbm': 0.2584978813734697, 'w_mlp': 0.9426610060258075}.\n"
     ]
    },
    {
     "name": "stdout",
     "output_type": "stream",
     "text": [
      "[w_lr, w_lda, w_sv, w_xgb, w_lgbm,w_cb ] =  [0.    0.176 0.575 0.265 0.223 0.    0.883]\n",
      "norm =  [0.    0.083 0.271 0.125 0.105 0.    0.416]\n",
      "AUC all:  0.7893772893772895\n",
      "\n"
     ]
    },
    {
     "name": "stderr",
     "output_type": "stream",
     "text": [
      "[I 2019-08-24 12:19:59,315] Finished trial#719 resulted in value: -0.7893772893772895. Current best value is -0.7948717948717948 with parameters: {'w_lr': 0.25932220860425337, 'w_lda': 0.09195697989035678, 'w_sv': 0.6584085004074863, 'w_xgb': 0.23943615391125597, 'w_lgbm': 0.2584978813734697, 'w_mlp': 0.9426610060258075}.\n"
     ]
    },
    {
     "name": "stdout",
     "output_type": "stream",
     "text": [
      "[w_lr, w_lda, w_sv, w_xgb, w_lgbm,w_cb ] =  [0.    0.119 0.575 0.269 0.241 0.    0.87 ]\n",
      "norm =  [0.    0.057 0.278 0.13  0.116 0.    0.419]\n",
      "AUC all:  0.7933220625528317\n",
      "\n"
     ]
    },
    {
     "name": "stderr",
     "output_type": "stream",
     "text": [
      "[I 2019-08-24 12:20:00,827] Finished trial#720 resulted in value: -0.7933220625528317. Current best value is -0.7948717948717948 with parameters: {'w_lr': 0.25932220860425337, 'w_lda': 0.09195697989035678, 'w_sv': 0.6584085004074863, 'w_xgb': 0.23943615391125597, 'w_lgbm': 0.2584978813734697, 'w_mlp': 0.9426610060258075}.\n"
     ]
    },
    {
     "name": "stdout",
     "output_type": "stream",
     "text": [
      "[w_lr, w_lda, w_sv, w_xgb, w_lgbm,w_cb ] =  [0.035 0.088 0.586 0.683 0.26  0.    0.9  ]\n",
      "norm =  [0.014 0.035 0.23  0.268 0.102 0.    0.353]\n",
      "AUC all:  0.7872640180332489\n",
      "\n"
     ]
    },
    {
     "name": "stderr",
     "output_type": "stream",
     "text": [
      "[I 2019-08-24 12:20:02,097] Finished trial#721 resulted in value: -0.7872640180332489. Current best value is -0.7948717948717948 with parameters: {'w_lr': 0.25932220860425337, 'w_lda': 0.09195697989035678, 'w_sv': 0.6584085004074863, 'w_xgb': 0.23943615391125597, 'w_lgbm': 0.2584978813734697, 'w_mlp': 0.9426610060258075}.\n"
     ]
    },
    {
     "name": "stdout",
     "output_type": "stream",
     "text": [
      "[w_lr, w_lda, w_sv, w_xgb, w_lgbm,w_cb ] =  [0.002 0.113 0.565 0.25  0.21  0.    0.904]\n",
      "norm =  [0.001 0.055 0.277 0.122 0.103 0.    0.442]\n",
      "AUC all:  0.7912087912087913\n",
      "\n"
     ]
    },
    {
     "name": "stderr",
     "output_type": "stream",
     "text": [
      "[I 2019-08-24 12:20:03,422] Finished trial#722 resulted in value: -0.7912087912087913. Current best value is -0.7948717948717948 with parameters: {'w_lr': 0.25932220860425337, 'w_lda': 0.09195697989035678, 'w_sv': 0.6584085004074863, 'w_xgb': 0.23943615391125597, 'w_lgbm': 0.2584978813734697, 'w_mlp': 0.9426610060258075}.\n"
     ]
    },
    {
     "name": "stdout",
     "output_type": "stream",
     "text": [
      "[w_lr, w_lda, w_sv, w_xgb, w_lgbm,w_cb ] =  [0.    0.101 0.556 0.227 0.234 0.    0.944]\n",
      "norm =  [0.    0.049 0.27  0.11  0.114 0.    0.458]\n",
      "AUC all:  0.792617638771485\n",
      "\n"
     ]
    },
    {
     "name": "stderr",
     "output_type": "stream",
     "text": [
      "[I 2019-08-24 12:20:04,973] Finished trial#723 resulted in value: -0.792617638771485. Current best value is -0.7948717948717948 with parameters: {'w_lr': 0.25932220860425337, 'w_lda': 0.09195697989035678, 'w_sv': 0.6584085004074863, 'w_xgb': 0.23943615391125597, 'w_lgbm': 0.2584978813734697, 'w_mlp': 0.9426610060258075}.\n"
     ]
    },
    {
     "name": "stdout",
     "output_type": "stream",
     "text": [
      "[w_lr, w_lda, w_sv, w_xgb, w_lgbm,w_cb ] =  [0.076 0.139 0.583 0.184 0.251 0.    0.885]\n",
      "norm =  [0.036 0.066 0.275 0.087 0.119 0.    0.418]\n",
      "AUC all:  0.7928994082840237\n",
      "\n"
     ]
    },
    {
     "name": "stderr",
     "output_type": "stream",
     "text": [
      "[I 2019-08-24 12:20:06,345] Finished trial#724 resulted in value: -0.7928994082840237. Current best value is -0.7948717948717948 with parameters: {'w_lr': 0.25932220860425337, 'w_lda': 0.09195697989035678, 'w_sv': 0.6584085004074863, 'w_xgb': 0.23943615391125597, 'w_lgbm': 0.2584978813734697, 'w_mlp': 0.9426610060258075}.\n"
     ]
    },
    {
     "name": "stdout",
     "output_type": "stream",
     "text": [
      "[w_lr, w_lda, w_sv, w_xgb, w_lgbm,w_cb ] =  [0.052 0.066 0.596 0.238 0.256 0.    0.893]\n",
      "norm =  [0.025 0.031 0.284 0.113 0.122 0.    0.425]\n",
      "AUC all:  0.7938856015779092\n",
      "\n"
     ]
    },
    {
     "name": "stderr",
     "output_type": "stream",
     "text": [
      "[I 2019-08-24 12:20:07,926] Finished trial#725 resulted in value: -0.7938856015779092. Current best value is -0.7948717948717948 with parameters: {'w_lr': 0.25932220860425337, 'w_lda': 0.09195697989035678, 'w_sv': 0.6584085004074863, 'w_xgb': 0.23943615391125597, 'w_lgbm': 0.2584978813734697, 'w_mlp': 0.9426610060258075}.\n"
     ]
    },
    {
     "name": "stdout",
     "output_type": "stream",
     "text": [
      "[w_lr, w_lda, w_sv, w_xgb, w_lgbm,w_cb ] =  [0.026 0.202 0.594 0.207 0.181 0.    0.948]\n",
      "norm =  [0.012 0.094 0.275 0.096 0.084 0.    0.439]\n",
      "AUC all:  0.7871231332769794\n",
      "\n"
     ]
    },
    {
     "name": "stderr",
     "output_type": "stream",
     "text": [
      "[I 2019-08-24 12:20:09,616] Finished trial#726 resulted in value: -0.7871231332769794. Current best value is -0.7948717948717948 with parameters: {'w_lr': 0.25932220860425337, 'w_lda': 0.09195697989035678, 'w_sv': 0.6584085004074863, 'w_xgb': 0.23943615391125597, 'w_lgbm': 0.2584978813734697, 'w_mlp': 0.9426610060258075}.\n"
     ]
    },
    {
     "name": "stdout",
     "output_type": "stream",
     "text": [
      "[w_lr, w_lda, w_sv, w_xgb, w_lgbm,w_cb ] =  [0.023 0.127 0.569 0.241 0.216 0.    0.913]\n",
      "norm =  [0.011 0.061 0.272 0.116 0.103 0.    0.437]\n",
      "AUC all:  0.7910679064525219\n",
      "\n"
     ]
    },
    {
     "name": "stderr",
     "output_type": "stream",
     "text": [
      "[I 2019-08-24 12:20:11,284] Finished trial#727 resulted in value: -0.7910679064525219. Current best value is -0.7948717948717948 with parameters: {'w_lr': 0.25932220860425337, 'w_lda': 0.09195697989035678, 'w_sv': 0.6584085004074863, 'w_xgb': 0.23943615391125597, 'w_lgbm': 0.2584978813734697, 'w_mlp': 0.9426610060258075}.\n"
     ]
    },
    {
     "name": "stdout",
     "output_type": "stream",
     "text": [
      "[w_lr, w_lda, w_sv, w_xgb, w_lgbm,w_cb ] =  [0.057 0.029 0.593 0.215 0.457 0.    0.862]\n",
      "norm =  [0.026 0.013 0.268 0.097 0.207 0.    0.389]\n",
      "AUC all:  0.7871231332769795\n",
      "\n"
     ]
    },
    {
     "name": "stderr",
     "output_type": "stream",
     "text": [
      "[I 2019-08-24 12:20:12,765] Finished trial#728 resulted in value: -0.7871231332769795. Current best value is -0.7948717948717948 with parameters: {'w_lr': 0.25932220860425337, 'w_lda': 0.09195697989035678, 'w_sv': 0.6584085004074863, 'w_xgb': 0.23943615391125597, 'w_lgbm': 0.2584978813734697, 'w_mlp': 0.9426610060258075}.\n"
     ]
    },
    {
     "name": "stdout",
     "output_type": "stream",
     "text": [
      "[w_lr, w_lda, w_sv, w_xgb, w_lgbm,w_cb ] =  [0.079 0.9   0.582 0.224 0.239 0.    0.878]\n",
      "norm =  [0.027 0.31  0.201 0.077 0.082 0.    0.303]\n",
      "AUC all:  0.777120315581854\n",
      "\n"
     ]
    },
    {
     "name": "stderr",
     "output_type": "stream",
     "text": [
      "[I 2019-08-24 12:20:14,457] Finished trial#729 resulted in value: -0.777120315581854. Current best value is -0.7948717948717948 with parameters: {'w_lr': 0.25932220860425337, 'w_lda': 0.09195697989035678, 'w_sv': 0.6584085004074863, 'w_xgb': 0.23943615391125597, 'w_lgbm': 0.2584978813734697, 'w_mlp': 0.9426610060258075}.\n"
     ]
    },
    {
     "name": "stdout",
     "output_type": "stream",
     "text": [
      "[w_lr, w_lda, w_sv, w_xgb, w_lgbm,w_cb ] =  [0.037 0.097 0.564 0.261 0.348 0.    0.901]\n",
      "norm =  [0.017 0.044 0.255 0.118 0.158 0.    0.408]\n",
      "AUC all:  0.7902225979149056\n",
      "\n"
     ]
    },
    {
     "name": "stderr",
     "output_type": "stream",
     "text": [
      "[I 2019-08-24 12:20:16,211] Finished trial#730 resulted in value: -0.7902225979149056. Current best value is -0.7948717948717948 with parameters: {'w_lr': 0.25932220860425337, 'w_lda': 0.09195697989035678, 'w_sv': 0.6584085004074863, 'w_xgb': 0.23943615391125597, 'w_lgbm': 0.2584978813734697, 'w_mlp': 0.9426610060258075}.\n"
     ]
    },
    {
     "name": "stdout",
     "output_type": "stream",
     "text": [
      "[w_lr, w_lda, w_sv, w_xgb, w_lgbm,w_cb ] =  [0.098 0.052 0.613 0.178 0.227 0.    0.96 ]\n",
      "norm =  [0.046 0.024 0.288 0.084 0.107 0.    0.451]\n",
      "AUC all:  0.7923358692589462\n",
      "\n"
     ]
    },
    {
     "name": "stderr",
     "output_type": "stream",
     "text": [
      "[I 2019-08-24 12:20:17,481] Finished trial#731 resulted in value: -0.7923358692589462. Current best value is -0.7948717948717948 with parameters: {'w_lr': 0.25932220860425337, 'w_lda': 0.09195697989035678, 'w_sv': 0.6584085004074863, 'w_xgb': 0.23943615391125597, 'w_lgbm': 0.2584978813734697, 'w_mlp': 0.9426610060258075}.\n"
     ]
    },
    {
     "name": "stdout",
     "output_type": "stream",
     "text": [
      "[w_lr, w_lda, w_sv, w_xgb, w_lgbm,w_cb ] =  [0.293 0.117 0.557 0.284 0.307 0.    0.97 ]\n",
      "norm =  [0.116 0.046 0.22  0.113 0.122 0.    0.384]\n",
      "AUC all:  0.7931811777965624\n",
      "\n"
     ]
    },
    {
     "name": "stderr",
     "output_type": "stream",
     "text": [
      "[I 2019-08-24 12:20:18,869] Finished trial#732 resulted in value: -0.7931811777965624. Current best value is -0.7948717948717948 with parameters: {'w_lr': 0.25932220860425337, 'w_lda': 0.09195697989035678, 'w_sv': 0.6584085004074863, 'w_xgb': 0.23943615391125597, 'w_lgbm': 0.2584978813734697, 'w_mlp': 0.9426610060258075}.\n"
     ]
    },
    {
     "name": "stdout",
     "output_type": "stream",
     "text": [
      "[w_lr, w_lda, w_sv, w_xgb, w_lgbm,w_cb ] =  [0.269 0.092 0.537 0.253 0.278 0.    0.927]\n",
      "norm =  [0.114 0.039 0.228 0.107 0.118 0.    0.393]\n",
      "AUC all:  0.7936038320653704\n",
      "\n"
     ]
    },
    {
     "name": "stderr",
     "output_type": "stream",
     "text": [
      "[I 2019-08-24 12:20:20,228] Finished trial#733 resulted in value: -0.7936038320653704. Current best value is -0.7948717948717948 with parameters: {'w_lr': 0.25932220860425337, 'w_lda': 0.09195697989035678, 'w_sv': 0.6584085004074863, 'w_xgb': 0.23943615391125597, 'w_lgbm': 0.2584978813734697, 'w_mlp': 0.9426610060258075}.\n"
     ]
    },
    {
     "name": "stdout",
     "output_type": "stream",
     "text": [
      "[w_lr, w_lda, w_sv, w_xgb, w_lgbm,w_cb ] =  [0.051 0.065 0.599 0.25  0.257 0.    0.868]\n",
      "norm =  [0.024 0.031 0.287 0.12  0.123 0.    0.415]\n",
      "AUC all:  0.7933220625528318\n",
      "\n"
     ]
    },
    {
     "name": "stderr",
     "output_type": "stream",
     "text": [
      "[I 2019-08-24 12:20:21,642] Finished trial#734 resulted in value: -0.7933220625528318. Current best value is -0.7948717948717948 with parameters: {'w_lr': 0.25932220860425337, 'w_lda': 0.09195697989035678, 'w_sv': 0.6584085004074863, 'w_xgb': 0.23943615391125597, 'w_lgbm': 0.2584978813734697, 'w_mlp': 0.9426610060258075}.\n"
     ]
    },
    {
     "name": "stdout",
     "output_type": "stream",
     "text": [
      "[w_lr, w_lda, w_sv, w_xgb, w_lgbm,w_cb ] =  [0.098 0.064 0.592 0.198 0.264 0.    0.884]\n",
      "norm =  [0.047 0.031 0.282 0.094 0.126 0.    0.421]\n",
      "AUC all:  0.793040293040293\n",
      "\n"
     ]
    },
    {
     "name": "stderr",
     "output_type": "stream",
     "text": [
      "[I 2019-08-24 12:20:23,281] Finished trial#735 resulted in value: -0.793040293040293. Current best value is -0.7948717948717948 with parameters: {'w_lr': 0.25932220860425337, 'w_lda': 0.09195697989035678, 'w_sv': 0.6584085004074863, 'w_xgb': 0.23943615391125597, 'w_lgbm': 0.2584978813734697, 'w_mlp': 0.9426610060258075}.\n"
     ]
    },
    {
     "name": "stdout",
     "output_type": "stream",
     "text": [
      "[w_lr, w_lda, w_sv, w_xgb, w_lgbm,w_cb ] =  [0.001 0.082 0.576 0.323 0.209 0.    0.946]\n",
      "norm =  [0.    0.038 0.27  0.151 0.098 0.    0.443]\n",
      "AUC all:  0.7893772893772895\n",
      "\n"
     ]
    },
    {
     "name": "stderr",
     "output_type": "stream",
     "text": [
      "[I 2019-08-24 12:20:24,790] Finished trial#736 resulted in value: -0.7893772893772895. Current best value is -0.7948717948717948 with parameters: {'w_lr': 0.25932220860425337, 'w_lda': 0.09195697989035678, 'w_sv': 0.6584085004074863, 'w_xgb': 0.23943615391125597, 'w_lgbm': 0.2584978813734697, 'w_mlp': 0.9426610060258075}.\n"
     ]
    },
    {
     "name": "stdout",
     "output_type": "stream",
     "text": [
      "[w_lr, w_lda, w_sv, w_xgb, w_lgbm,w_cb ] =  [0.165 0.083 0.549 0.23  0.27  0.    0.993]\n",
      "norm =  [0.072 0.036 0.24  0.101 0.118 0.    0.434]\n",
      "AUC all:  0.7937447168216399\n",
      "\n"
     ]
    },
    {
     "name": "stderr",
     "output_type": "stream",
     "text": [
      "[I 2019-08-24 12:20:26,387] Finished trial#737 resulted in value: -0.7937447168216399. Current best value is -0.7948717948717948 with parameters: {'w_lr': 0.25932220860425337, 'w_lda': 0.09195697989035678, 'w_sv': 0.6584085004074863, 'w_xgb': 0.23943615391125597, 'w_lgbm': 0.2584978813734697, 'w_mlp': 0.9426610060258075}.\n"
     ]
    },
    {
     "name": "stdout",
     "output_type": "stream",
     "text": [
      "[w_lr, w_lda, w_sv, w_xgb, w_lgbm,w_cb ] =  [0.017 0.106 0.641 0.229 0.271 0.    0.927]\n",
      "norm =  [0.008 0.048 0.292 0.105 0.124 0.    0.423]\n",
      "AUC all:  0.7931811777965623\n",
      "\n"
     ]
    },
    {
     "name": "stderr",
     "output_type": "stream",
     "text": [
      "[I 2019-08-24 12:20:27,663] Finished trial#738 resulted in value: -0.7931811777965623. Current best value is -0.7948717948717948 with parameters: {'w_lr': 0.25932220860425337, 'w_lda': 0.09195697989035678, 'w_sv': 0.6584085004074863, 'w_xgb': 0.23943615391125597, 'w_lgbm': 0.2584978813734697, 'w_mlp': 0.9426610060258075}.\n"
     ]
    },
    {
     "name": "stdout",
     "output_type": "stream",
     "text": [
      "[w_lr, w_lda, w_sv, w_xgb, w_lgbm,w_cb ] =  [0.198 0.044 0.57  0.211 0.245 0.    0.979]\n",
      "norm =  [0.088 0.02  0.254 0.094 0.109 0.    0.436]\n",
      "AUC all:  0.7920540997464074\n",
      "\n"
     ]
    },
    {
     "name": "stderr",
     "output_type": "stream",
     "text": [
      "[I 2019-08-24 12:20:28,951] Finished trial#739 resulted in value: -0.7920540997464074. Current best value is -0.7948717948717948 with parameters: {'w_lr': 0.25932220860425337, 'w_lda': 0.09195697989035678, 'w_sv': 0.6584085004074863, 'w_xgb': 0.23943615391125597, 'w_lgbm': 0.2584978813734697, 'w_mlp': 0.9426610060258075}.\n"
     ]
    },
    {
     "name": "stdout",
     "output_type": "stream",
     "text": [
      "[w_lr, w_lda, w_sv, w_xgb, w_lgbm,w_cb ] =  [0.03  0.13  0.608 0.287 0.227 0.    0.934]\n",
      "norm =  [0.013 0.059 0.274 0.13  0.103 0.    0.421]\n",
      "AUC all:  0.7896590588898281\n",
      "\n"
     ]
    },
    {
     "name": "stderr",
     "output_type": "stream",
     "text": [
      "[I 2019-08-24 12:20:30,218] Finished trial#740 resulted in value: -0.7896590588898281. Current best value is -0.7948717948717948 with parameters: {'w_lr': 0.25932220860425337, 'w_lda': 0.09195697989035678, 'w_sv': 0.6584085004074863, 'w_xgb': 0.23943615391125597, 'w_lgbm': 0.2584978813734697, 'w_mlp': 0.9426610060258075}.\n"
     ]
    },
    {
     "name": "stdout",
     "output_type": "stream",
     "text": [
      "[w_lr, w_lda, w_sv, w_xgb, w_lgbm,w_cb ] =  [0.041 0.159 0.616 0.526 0.241 0.    0.947]\n",
      "norm =  [0.016 0.063 0.243 0.208 0.095 0.    0.374]\n",
      "AUC all:  0.78923640462102\n",
      "\n"
     ]
    },
    {
     "name": "stderr",
     "output_type": "stream",
     "text": [
      "[I 2019-08-24 12:20:31,509] Finished trial#741 resulted in value: -0.78923640462102. Current best value is -0.7948717948717948 with parameters: {'w_lr': 0.25932220860425337, 'w_lda': 0.09195697989035678, 'w_sv': 0.6584085004074863, 'w_xgb': 0.23943615391125597, 'w_lgbm': 0.2584978813734697, 'w_mlp': 0.9426610060258075}.\n"
     ]
    },
    {
     "name": "stdout",
     "output_type": "stream",
     "text": [
      "[w_lr, w_lda, w_sv, w_xgb, w_lgbm,w_cb ] =  [0.019 0.114 0.605 0.276 0.25  0.    0.894]\n",
      "norm =  [0.009 0.053 0.28  0.128 0.116 0.    0.414]\n",
      "AUC all:  0.7938856015779092\n",
      "\n"
     ]
    },
    {
     "name": "stderr",
     "output_type": "stream",
     "text": [
      "[I 2019-08-24 12:20:32,789] Finished trial#742 resulted in value: -0.7938856015779092. Current best value is -0.7948717948717948 with parameters: {'w_lr': 0.25932220860425337, 'w_lda': 0.09195697989035678, 'w_sv': 0.6584085004074863, 'w_xgb': 0.23943615391125597, 'w_lgbm': 0.2584978813734697, 'w_mlp': 0.9426610060258075}.\n"
     ]
    },
    {
     "name": "stdout",
     "output_type": "stream",
     "text": [
      "[w_lr, w_lda, w_sv, w_xgb, w_lgbm,w_cb ] =  [0.242 0.145 0.555 0.308 0.3   0.    0.936]\n",
      "norm =  [0.097 0.058 0.223 0.124 0.121 0.    0.376]\n",
      "AUC all:  0.7928994082840237\n",
      "\n"
     ]
    },
    {
     "name": "stderr",
     "output_type": "stream",
     "text": [
      "[I 2019-08-24 12:20:34,075] Finished trial#743 resulted in value: -0.7928994082840237. Current best value is -0.7948717948717948 with parameters: {'w_lr': 0.25932220860425337, 'w_lda': 0.09195697989035678, 'w_sv': 0.6584085004074863, 'w_xgb': 0.23943615391125597, 'w_lgbm': 0.2584978813734697, 'w_mlp': 0.9426610060258075}.\n"
     ]
    },
    {
     "name": "stdout",
     "output_type": "stream",
     "text": [
      "[w_lr, w_lda, w_sv, w_xgb, w_lgbm,w_cb ] =  [0.064 0.034 0.585 0.25  0.279 0.    0.894]\n",
      "norm =  [0.031 0.016 0.278 0.119 0.132 0.    0.424]\n",
      "AUC all:  0.79149056072133\n",
      "\n"
     ]
    },
    {
     "name": "stderr",
     "output_type": "stream",
     "text": [
      "[I 2019-08-24 12:20:35,363] Finished trial#744 resulted in value: -0.79149056072133. Current best value is -0.7948717948717948 with parameters: {'w_lr': 0.25932220860425337, 'w_lda': 0.09195697989035678, 'w_sv': 0.6584085004074863, 'w_xgb': 0.23943615391125597, 'w_lgbm': 0.2584978813734697, 'w_mlp': 0.9426610060258075}.\n"
     ]
    },
    {
     "name": "stdout",
     "output_type": "stream",
     "text": [
      "[w_lr, w_lda, w_sv, w_xgb, w_lgbm,w_cb ] =  [0.348 0.096 0.658 0.262 0.295 0.    0.917]\n",
      "norm =  [0.135 0.037 0.255 0.102 0.115 0.    0.356]\n",
      "AUC all:  0.7928994082840237\n",
      "\n"
     ]
    },
    {
     "name": "stderr",
     "output_type": "stream",
     "text": [
      "[I 2019-08-24 12:20:36,656] Finished trial#745 resulted in value: -0.7928994082840237. Current best value is -0.7948717948717948 with parameters: {'w_lr': 0.25932220860425337, 'w_lda': 0.09195697989035678, 'w_sv': 0.6584085004074863, 'w_xgb': 0.23943615391125597, 'w_lgbm': 0.2584978813734697, 'w_mlp': 0.9426610060258075}.\n"
     ]
    },
    {
     "name": "stdout",
     "output_type": "stream",
     "text": [
      "[w_lr, w_lda, w_sv, w_xgb, w_lgbm,w_cb ] =  [0.015 0.111 0.651 0.562 0.26  0.    0.97 ]\n",
      "norm =  [0.006 0.043 0.253 0.219 0.101 0.    0.377]\n",
      "AUC all:  0.7886728655959424\n",
      "\n"
     ]
    },
    {
     "name": "stderr",
     "output_type": "stream",
     "text": [
      "[I 2019-08-24 12:20:37,936] Finished trial#746 resulted in value: -0.7886728655959424. Current best value is -0.7948717948717948 with parameters: {'w_lr': 0.25932220860425337, 'w_lda': 0.09195697989035678, 'w_sv': 0.6584085004074863, 'w_xgb': 0.23943615391125597, 'w_lgbm': 0.2584978813734697, 'w_mlp': 0.9426610060258075}.\n"
     ]
    },
    {
     "name": "stdout",
     "output_type": "stream",
     "text": [
      "[w_lr, w_lda, w_sv, w_xgb, w_lgbm,w_cb ] =  [0.021 0.129 0.604 0.32  0.204 0.    0.897]\n",
      "norm =  [0.009 0.06  0.278 0.147 0.094 0.    0.412]\n",
      "AUC all:  0.7896590588898281\n",
      "\n"
     ]
    },
    {
     "name": "stderr",
     "output_type": "stream",
     "text": [
      "[I 2019-08-24 12:20:39,228] Finished trial#747 resulted in value: -0.7896590588898281. Current best value is -0.7948717948717948 with parameters: {'w_lr': 0.25932220860425337, 'w_lda': 0.09195697989035678, 'w_sv': 0.6584085004074863, 'w_xgb': 0.23943615391125597, 'w_lgbm': 0.2584978813734697, 'w_mlp': 0.9426610060258075}.\n"
     ]
    },
    {
     "name": "stdout",
     "output_type": "stream",
     "text": [
      "[w_lr, w_lda, w_sv, w_xgb, w_lgbm,w_cb ] =  [0.051 0.057 0.595 0.235 0.163 0.    0.888]\n",
      "norm =  [0.026 0.029 0.299 0.118 0.082 0.    0.446]\n",
      "AUC all:  0.7902225979149056\n",
      "\n"
     ]
    },
    {
     "name": "stderr",
     "output_type": "stream",
     "text": [
      "[I 2019-08-24 12:20:40,525] Finished trial#748 resulted in value: -0.7902225979149056. Current best value is -0.7948717948717948 with parameters: {'w_lr': 0.25932220860425337, 'w_lda': 0.09195697989035678, 'w_sv': 0.6584085004074863, 'w_xgb': 0.23943615391125597, 'w_lgbm': 0.2584978813734697, 'w_mlp': 0.9426610060258075}.\n"
     ]
    },
    {
     "name": "stdout",
     "output_type": "stream",
     "text": [
      "[w_lr, w_lda, w_sv, w_xgb, w_lgbm,w_cb ] =  [0.002 0.085 0.63  0.197 0.231 0.    0.841]\n",
      "norm =  [0.001 0.043 0.317 0.099 0.116 0.    0.423]\n",
      "AUC all:  0.7938856015779093\n",
      "\n"
     ]
    },
    {
     "name": "stderr",
     "output_type": "stream",
     "text": [
      "[I 2019-08-24 12:20:41,809] Finished trial#749 resulted in value: -0.7938856015779093. Current best value is -0.7948717948717948 with parameters: {'w_lr': 0.25932220860425337, 'w_lda': 0.09195697989035678, 'w_sv': 0.6584085004074863, 'w_xgb': 0.23943615391125597, 'w_lgbm': 0.2584978813734697, 'w_mlp': 0.9426610060258075}.\n"
     ]
    },
    {
     "name": "stdout",
     "output_type": "stream",
     "text": [
      "[w_lr, w_lda, w_sv, w_xgb, w_lgbm,w_cb ] =  [0.007 0.287 0.633 0.995 0.213 0.    0.827]\n",
      "norm =  [0.002 0.097 0.214 0.336 0.072 0.    0.279]\n",
      "AUC all:  0.7827557058326289\n",
      "\n"
     ]
    },
    {
     "name": "stderr",
     "output_type": "stream",
     "text": [
      "[I 2019-08-24 12:20:43,101] Finished trial#750 resulted in value: -0.7827557058326289. Current best value is -0.7948717948717948 with parameters: {'w_lr': 0.25932220860425337, 'w_lda': 0.09195697989035678, 'w_sv': 0.6584085004074863, 'w_xgb': 0.23943615391125597, 'w_lgbm': 0.2584978813734697, 'w_mlp': 0.9426610060258075}.\n"
     ]
    },
    {
     "name": "stdout",
     "output_type": "stream",
     "text": [
      "[w_lr, w_lda, w_sv, w_xgb, w_lgbm,w_cb ] =  [0.065 0.069 0.59  0.16  0.177 0.    0.878]\n",
      "norm =  [0.033 0.036 0.304 0.082 0.091 0.    0.453]\n",
      "AUC all:  0.7928994082840236\n",
      "\n"
     ]
    },
    {
     "name": "stderr",
     "output_type": "stream",
     "text": [
      "[I 2019-08-24 12:20:44,401] Finished trial#751 resulted in value: -0.7928994082840236. Current best value is -0.7948717948717948 with parameters: {'w_lr': 0.25932220860425337, 'w_lda': 0.09195697989035678, 'w_sv': 0.6584085004074863, 'w_xgb': 0.23943615391125597, 'w_lgbm': 0.2584978813734697, 'w_mlp': 0.9426610060258075}.\n"
     ]
    },
    {
     "name": "stdout",
     "output_type": "stream",
     "text": [
      "[w_lr, w_lda, w_sv, w_xgb, w_lgbm,w_cb ] =  [0.005 0.085 0.922 0.159 0.196 0.    0.733]\n",
      "norm =  [0.002 0.04  0.439 0.076 0.094 0.    0.349]\n",
      "AUC all:  0.792617638771485\n",
      "\n"
     ]
    },
    {
     "name": "stderr",
     "output_type": "stream",
     "text": [
      "[I 2019-08-24 12:20:45,692] Finished trial#752 resulted in value: -0.792617638771485. Current best value is -0.7948717948717948 with parameters: {'w_lr': 0.25932220860425337, 'w_lda': 0.09195697989035678, 'w_sv': 0.6584085004074863, 'w_xgb': 0.23943615391125597, 'w_lgbm': 0.2584978813734697, 'w_mlp': 0.9426610060258075}.\n"
     ]
    },
    {
     "name": "stdout",
     "output_type": "stream",
     "text": [
      "[w_lr, w_lda, w_sv, w_xgb, w_lgbm,w_cb ] =  [0.001 0.09  0.626 0.176 0.231 0.    0.798]\n",
      "norm =  [0.001 0.047 0.326 0.091 0.12  0.    0.415]\n",
      "AUC all:  0.7928994082840236\n",
      "\n"
     ]
    },
    {
     "name": "stderr",
     "output_type": "stream",
     "text": [
      "[I 2019-08-24 12:20:46,982] Finished trial#753 resulted in value: -0.7928994082840236. Current best value is -0.7948717948717948 with parameters: {'w_lr': 0.25932220860425337, 'w_lda': 0.09195697989035678, 'w_sv': 0.6584085004074863, 'w_xgb': 0.23943615391125597, 'w_lgbm': 0.2584978813734697, 'w_mlp': 0.9426610060258075}.\n"
     ]
    },
    {
     "name": "stdout",
     "output_type": "stream",
     "text": [
      "[w_lr, w_lda, w_sv, w_xgb, w_lgbm,w_cb ] =  [0.251 0.109 0.619 0.456 0.235 0.    0.911]\n",
      "norm =  [0.097 0.042 0.24  0.177 0.091 0.    0.353]\n",
      "AUC all:  0.7883910960834037\n",
      "\n"
     ]
    },
    {
     "name": "stderr",
     "output_type": "stream",
     "text": [
      "[I 2019-08-24 12:20:48,279] Finished trial#754 resulted in value: -0.7883910960834037. Current best value is -0.7948717948717948 with parameters: {'w_lr': 0.25932220860425337, 'w_lda': 0.09195697989035678, 'w_sv': 0.6584085004074863, 'w_xgb': 0.23943615391125597, 'w_lgbm': 0.2584978813734697, 'w_mlp': 0.9426610060258075}.\n"
     ]
    },
    {
     "name": "stdout",
     "output_type": "stream",
     "text": [
      "[w_lr, w_lda, w_sv, w_xgb, w_lgbm,w_cb ] =  [0.216 0.078 0.564 0.193 0.214 0.    0.856]\n",
      "norm =  [0.102 0.037 0.266 0.091 0.101 0.    0.404]\n",
      "AUC all:  0.7927585235277543\n",
      "\n"
     ]
    },
    {
     "name": "stderr",
     "output_type": "stream",
     "text": [
      "[I 2019-08-24 12:20:49,590] Finished trial#755 resulted in value: -0.7927585235277543. Current best value is -0.7948717948717948 with parameters: {'w_lr': 0.25932220860425337, 'w_lda': 0.09195697989035678, 'w_sv': 0.6584085004074863, 'w_xgb': 0.23943615391125597, 'w_lgbm': 0.2584978813734697, 'w_mlp': 0.9426610060258075}.\n"
     ]
    },
    {
     "name": "stdout",
     "output_type": "stream",
     "text": [
      "[w_lr, w_lda, w_sv, w_xgb, w_lgbm,w_cb ] =  [0.035 0.128 0.622 0.192 0.228 0.    0.832]\n",
      "norm =  [0.017 0.063 0.305 0.094 0.112 0.    0.409]\n",
      "AUC all:  0.7923358692589462\n",
      "\n"
     ]
    },
    {
     "name": "stderr",
     "output_type": "stream",
     "text": [
      "[I 2019-08-24 12:20:50,893] Finished trial#756 resulted in value: -0.7923358692589462. Current best value is -0.7948717948717948 with parameters: {'w_lr': 0.25932220860425337, 'w_lda': 0.09195697989035678, 'w_sv': 0.6584085004074863, 'w_xgb': 0.23943615391125597, 'w_lgbm': 0.2584978813734697, 'w_mlp': 0.9426610060258075}.\n"
     ]
    },
    {
     "name": "stdout",
     "output_type": "stream",
     "text": [
      "[w_lr, w_lda, w_sv, w_xgb, w_lgbm,w_cb ] =  [0.001 0.004 0.629 0.206 0.235 0.    0.923]\n",
      "norm =  [0.    0.002 0.315 0.103 0.118 0.    0.462]\n",
      "AUC all:  0.7921949845026768\n",
      "\n"
     ]
    },
    {
     "name": "stderr",
     "output_type": "stream",
     "text": [
      "[I 2019-08-24 12:20:52,355] Finished trial#757 resulted in value: -0.7921949845026768. Current best value is -0.7948717948717948 with parameters: {'w_lr': 0.25932220860425337, 'w_lda': 0.09195697989035678, 'w_sv': 0.6584085004074863, 'w_xgb': 0.23943615391125597, 'w_lgbm': 0.2584978813734697, 'w_mlp': 0.9426610060258075}.\n"
     ]
    },
    {
     "name": "stdout",
     "output_type": "stream",
     "text": [
      "[w_lr, w_lda, w_sv, w_xgb, w_lgbm,w_cb ] =  [0.018 0.1   0.641 0.145 0.253 0.    0.909]\n",
      "norm =  [0.009 0.049 0.31  0.07  0.122 0.    0.44 ]\n",
      "AUC all:  0.791913214990138\n",
      "\n"
     ]
    },
    {
     "name": "stderr",
     "output_type": "stream",
     "text": [
      "[I 2019-08-24 12:20:53,857] Finished trial#758 resulted in value: -0.791913214990138. Current best value is -0.7948717948717948 with parameters: {'w_lr': 0.25932220860425337, 'w_lda': 0.09195697989035678, 'w_sv': 0.6584085004074863, 'w_xgb': 0.23943615391125597, 'w_lgbm': 0.2584978813734697, 'w_mlp': 0.9426610060258075}.\n"
     ]
    },
    {
     "name": "stdout",
     "output_type": "stream",
     "text": [
      "[w_lr, w_lda, w_sv, w_xgb, w_lgbm,w_cb ] =  [0.036 0.17  0.614 0.286 0.2   0.    0.931]\n",
      "norm =  [0.016 0.076 0.274 0.128 0.09  0.    0.416]\n",
      "AUC all:  0.7879684418145956\n",
      "\n"
     ]
    },
    {
     "name": "stderr",
     "output_type": "stream",
     "text": [
      "[I 2019-08-24 12:20:55,482] Finished trial#759 resulted in value: -0.7879684418145956. Current best value is -0.7948717948717948 with parameters: {'w_lr': 0.25932220860425337, 'w_lda': 0.09195697989035678, 'w_sv': 0.6584085004074863, 'w_xgb': 0.23943615391125597, 'w_lgbm': 0.2584978813734697, 'w_mlp': 0.9426610060258075}.\n"
     ]
    },
    {
     "name": "stdout",
     "output_type": "stream",
     "text": [
      "[w_lr, w_lda, w_sv, w_xgb, w_lgbm,w_cb ] =  [0.603 0.076 0.621 0.27  0.245 0.    0.938]\n",
      "norm =  [0.219 0.027 0.226 0.098 0.089 0.    0.341]\n",
      "AUC all:  0.7927585235277542\n",
      "\n"
     ]
    },
    {
     "name": "stderr",
     "output_type": "stream",
     "text": [
      "[I 2019-08-24 12:20:56,939] Finished trial#760 resulted in value: -0.7927585235277542. Current best value is -0.7948717948717948 with parameters: {'w_lr': 0.25932220860425337, 'w_lda': 0.09195697989035678, 'w_sv': 0.6584085004074863, 'w_xgb': 0.23943615391125597, 'w_lgbm': 0.2584978813734697, 'w_mlp': 0.9426610060258075}.\n"
     ]
    },
    {
     "name": "stdout",
     "output_type": "stream",
     "text": [
      "[w_lr, w_lda, w_sv, w_xgb, w_lgbm,w_cb ] =  [0.    0.049 0.576 0.183 0.739 0.    0.839]\n",
      "norm =  [0.    0.02  0.241 0.077 0.31  0.    0.352]\n",
      "AUC all:  0.7786700479008171\n",
      "\n"
     ]
    },
    {
     "name": "stderr",
     "output_type": "stream",
     "text": [
      "[I 2019-08-24 12:20:58,449] Finished trial#761 resulted in value: -0.7786700479008171. Current best value is -0.7948717948717948 with parameters: {'w_lr': 0.25932220860425337, 'w_lda': 0.09195697989035678, 'w_sv': 0.6584085004074863, 'w_xgb': 0.23943615391125597, 'w_lgbm': 0.2584978813734697, 'w_mlp': 0.9426610060258075}.\n"
     ]
    },
    {
     "name": "stdout",
     "output_type": "stream",
     "text": [
      "[w_lr, w_lda, w_sv, w_xgb, w_lgbm,w_cb ] =  [0.025 0.142 0.633 0.212 0.182 0.    0.819]\n",
      "norm =  [0.013 0.071 0.315 0.105 0.09  0.    0.407]\n",
      "AUC all:  0.7895181741335587\n",
      "\n"
     ]
    },
    {
     "name": "stderr",
     "output_type": "stream",
     "text": [
      "[I 2019-08-24 12:20:59,830] Finished trial#762 resulted in value: -0.7895181741335587. Current best value is -0.7948717948717948 with parameters: {'w_lr': 0.25932220860425337, 'w_lda': 0.09195697989035678, 'w_sv': 0.6584085004074863, 'w_xgb': 0.23943615391125597, 'w_lgbm': 0.2584978813734697, 'w_mlp': 0.9426610060258075}.\n"
     ]
    },
    {
     "name": "stdout",
     "output_type": "stream",
     "text": [
      "[w_lr, w_lda, w_sv, w_xgb, w_lgbm,w_cb ] =  [0.    0.092 0.644 0.222 0.136 0.    0.92 ]\n",
      "norm =  [0.    0.046 0.32  0.11  0.067 0.    0.457]\n",
      "AUC all:  0.7888137503522119\n",
      "\n"
     ]
    },
    {
     "name": "stderr",
     "output_type": "stream",
     "text": [
      "[I 2019-08-24 12:21:01,379] Finished trial#763 resulted in value: -0.7888137503522119. Current best value is -0.7948717948717948 with parameters: {'w_lr': 0.25932220860425337, 'w_lda': 0.09195697989035678, 'w_sv': 0.6584085004074863, 'w_xgb': 0.23943615391125597, 'w_lgbm': 0.2584978813734697, 'w_mlp': 0.9426610060258075}.\n"
     ]
    },
    {
     "name": "stdout",
     "output_type": "stream",
     "text": [
      "[w_lr, w_lda, w_sv, w_xgb, w_lgbm,w_cb ] =  [0.067 0.05  0.597 0.198 0.254 0.    0.888]\n",
      "norm =  [0.033 0.024 0.291 0.096 0.124 0.    0.432]\n",
      "AUC all:  0.792617638771485\n",
      "\n"
     ]
    },
    {
     "name": "stderr",
     "output_type": "stream",
     "text": [
      "[I 2019-08-24 12:21:02,776] Finished trial#764 resulted in value: -0.792617638771485. Current best value is -0.7948717948717948 with parameters: {'w_lr': 0.25932220860425337, 'w_lda': 0.09195697989035678, 'w_sv': 0.6584085004074863, 'w_xgb': 0.23943615391125597, 'w_lgbm': 0.2584978813734697, 'w_mlp': 0.9426610060258075}.\n"
     ]
    },
    {
     "name": "stdout",
     "output_type": "stream",
     "text": [
      "[w_lr, w_lda, w_sv, w_xgb, w_lgbm,w_cb ] =  [0.243 0.114 0.549 0.255 0.365 0.    0.847]\n",
      "norm =  [0.102 0.048 0.232 0.107 0.154 0.    0.357]\n",
      "AUC all:  0.7893772893772893\n",
      "\n"
     ]
    },
    {
     "name": "stderr",
     "output_type": "stream",
     "text": [
      "[I 2019-08-24 12:21:04,087] Finished trial#765 resulted in value: -0.7893772893772893. Current best value is -0.7948717948717948 with parameters: {'w_lr': 0.25932220860425337, 'w_lda': 0.09195697989035678, 'w_sv': 0.6584085004074863, 'w_xgb': 0.23943615391125597, 'w_lgbm': 0.2584978813734697, 'w_mlp': 0.9426610060258075}.\n"
     ]
    },
    {
     "name": "stdout",
     "output_type": "stream",
     "text": [
      "[w_lr, w_lda, w_sv, w_xgb, w_lgbm,w_cb ] =  [0.206 0.073 0.578 0.221 0.275 0.    0.974]\n",
      "norm =  [0.089 0.031 0.249 0.095 0.118 0.    0.418]\n",
      "AUC all:  0.7933220625528318\n",
      "\n"
     ]
    },
    {
     "name": "stderr",
     "output_type": "stream",
     "text": [
      "[I 2019-08-24 12:21:05,828] Finished trial#766 resulted in value: -0.7933220625528318. Current best value is -0.7948717948717948 with parameters: {'w_lr': 0.25932220860425337, 'w_lda': 0.09195697989035678, 'w_sv': 0.6584085004074863, 'w_xgb': 0.23943615391125597, 'w_lgbm': 0.2584978813734697, 'w_mlp': 0.9426610060258075}.\n"
     ]
    },
    {
     "name": "stdout",
     "output_type": "stream",
     "text": [
      "[w_lr, w_lda, w_sv, w_xgb, w_lgbm,w_cb ] =  [0.001 0.106 0.645 0.168 0.27  0.    0.809]\n",
      "norm =  [0.    0.053 0.323 0.084 0.135 0.    0.405]\n",
      "AUC all:  0.7924767540152156\n",
      "\n"
     ]
    },
    {
     "name": "stderr",
     "output_type": "stream",
     "text": [
      "[I 2019-08-24 12:21:07,453] Finished trial#767 resulted in value: -0.7924767540152156. Current best value is -0.7948717948717948 with parameters: {'w_lr': 0.25932220860425337, 'w_lda': 0.09195697989035678, 'w_sv': 0.6584085004074863, 'w_xgb': 0.23943615391125597, 'w_lgbm': 0.2584978813734697, 'w_mlp': 0.9426610060258075}.\n"
     ]
    },
    {
     "name": "stdout",
     "output_type": "stream",
     "text": [
      "[w_lr, w_lda, w_sv, w_xgb, w_lgbm,w_cb ] =  [0.201 0.127 0.564 0.238 0.222 0.    0.957]\n",
      "norm =  [0.087 0.055 0.244 0.103 0.096 0.    0.415]\n",
      "AUC all:  0.7912087912087912\n",
      "\n"
     ]
    },
    {
     "name": "stderr",
     "output_type": "stream",
     "text": [
      "[I 2019-08-24 12:21:09,313] Finished trial#768 resulted in value: -0.7912087912087912. Current best value is -0.7948717948717948 with parameters: {'w_lr': 0.25932220860425337, 'w_lda': 0.09195697989035678, 'w_sv': 0.6584085004074863, 'w_xgb': 0.23943615391125597, 'w_lgbm': 0.2584978813734697, 'w_mlp': 0.9426610060258075}.\n"
     ]
    },
    {
     "name": "stdout",
     "output_type": "stream",
     "text": [
      "[w_lr, w_lda, w_sv, w_xgb, w_lgbm,w_cb ] =  [0.04  0.088 0.637 0.209 0.283 0.    0.929]\n",
      "norm =  [0.018 0.04  0.291 0.095 0.13  0.    0.425]\n",
      "AUC all:  0.7931811777965625\n",
      "\n"
     ]
    },
    {
     "name": "stderr",
     "output_type": "stream",
     "text": [
      "[I 2019-08-24 12:21:10,761] Finished trial#769 resulted in value: -0.7931811777965625. Current best value is -0.7948717948717948 with parameters: {'w_lr': 0.25932220860425337, 'w_lda': 0.09195697989035678, 'w_sv': 0.6584085004074863, 'w_xgb': 0.23943615391125597, 'w_lgbm': 0.2584978813734697, 'w_mlp': 0.9426610060258075}.\n"
     ]
    },
    {
     "name": "stdout",
     "output_type": "stream",
     "text": [
      "[w_lr, w_lda, w_sv, w_xgb, w_lgbm,w_cb ] =  [0.044 0.064 0.628 0.238 0.207 0.    0.947]\n",
      "norm =  [0.021 0.03  0.295 0.112 0.097 0.    0.445]\n",
      "AUC all:  0.7926176387714848\n",
      "\n"
     ]
    },
    {
     "name": "stderr",
     "output_type": "stream",
     "text": [
      "[I 2019-08-24 12:21:12,252] Finished trial#770 resulted in value: -0.7926176387714848. Current best value is -0.7948717948717948 with parameters: {'w_lr': 0.25932220860425337, 'w_lda': 0.09195697989035678, 'w_sv': 0.6584085004074863, 'w_xgb': 0.23943615391125597, 'w_lgbm': 0.2584978813734697, 'w_mlp': 0.9426610060258075}.\n"
     ]
    },
    {
     "name": "stdout",
     "output_type": "stream",
     "text": [
      "[w_lr, w_lda, w_sv, w_xgb, w_lgbm,w_cb ] =  [0.281 0.656 0.665 0.294 0.316 0.    0.96 ]\n",
      "norm =  [0.088 0.207 0.21  0.093 0.099 0.    0.303]\n",
      "AUC all:  0.7821921668075513\n",
      "\n"
     ]
    },
    {
     "name": "stderr",
     "output_type": "stream",
     "text": [
      "[I 2019-08-24 12:21:13,578] Finished trial#771 resulted in value: -0.7821921668075513. Current best value is -0.7948717948717948 with parameters: {'w_lr': 0.25932220860425337, 'w_lda': 0.09195697989035678, 'w_sv': 0.6584085004074863, 'w_xgb': 0.23943615391125597, 'w_lgbm': 0.2584978813734697, 'w_mlp': 0.9426610060258075}.\n"
     ]
    },
    {
     "name": "stdout",
     "output_type": "stream",
     "text": [
      "[w_lr, w_lda, w_sv, w_xgb, w_lgbm,w_cb ] =  [0.275 0.15  0.517 0.266 0.503 0.    0.95 ]\n",
      "norm =  [0.103 0.056 0.194 0.1   0.189 0.    0.357]\n",
      "AUC all:  0.7867004790081714\n",
      "\n"
     ]
    },
    {
     "name": "stderr",
     "output_type": "stream",
     "text": [
      "[I 2019-08-24 12:21:15,237] Finished trial#772 resulted in value: -0.7867004790081714. Current best value is -0.7948717948717948 with parameters: {'w_lr': 0.25932220860425337, 'w_lda': 0.09195697989035678, 'w_sv': 0.6584085004074863, 'w_xgb': 0.23943615391125597, 'w_lgbm': 0.2584978813734697, 'w_mlp': 0.9426610060258075}.\n"
     ]
    },
    {
     "name": "stdout",
     "output_type": "stream",
     "text": [
      "[w_lr, w_lda, w_sv, w_xgb, w_lgbm,w_cb ] =  [0.024 0.183 0.604 0.347 0.245 0.    0.894]\n",
      "norm =  [0.01  0.08  0.263 0.151 0.107 0.    0.389]\n",
      "AUC all:  0.7879684418145956\n",
      "\n"
     ]
    },
    {
     "name": "stderr",
     "output_type": "stream",
     "text": [
      "[I 2019-08-24 12:21:16,649] Finished trial#773 resulted in value: -0.7879684418145956. Current best value is -0.7948717948717948 with parameters: {'w_lr': 0.25932220860425337, 'w_lda': 0.09195697989035678, 'w_sv': 0.6584085004074863, 'w_xgb': 0.23943615391125597, 'w_lgbm': 0.2584978813734697, 'w_mlp': 0.9426610060258075}.\n"
     ]
    },
    {
     "name": "stdout",
     "output_type": "stream",
     "text": [
      "[w_lr, w_lda, w_sv, w_xgb, w_lgbm,w_cb ] =  [0.024 0.11  0.617 0.189 0.224 0.    0.941]\n",
      "norm =  [0.011 0.052 0.293 0.09  0.106 0.    0.447]\n",
      "AUC all:  0.7913496759650606\n",
      "\n"
     ]
    },
    {
     "name": "stderr",
     "output_type": "stream",
     "text": [
      "[I 2019-08-24 12:21:18,057] Finished trial#774 resulted in value: -0.7913496759650606. Current best value is -0.7948717948717948 with parameters: {'w_lr': 0.25932220860425337, 'w_lda': 0.09195697989035678, 'w_sv': 0.6584085004074863, 'w_xgb': 0.23943615391125597, 'w_lgbm': 0.2584978813734697, 'w_mlp': 0.9426610060258075}.\n"
     ]
    },
    {
     "name": "stdout",
     "output_type": "stream",
     "text": [
      "[w_lr, w_lda, w_sv, w_xgb, w_lgbm,w_cb ] =  [0.324 0.085 0.65  0.245 0.29  0.    0.901]\n",
      "norm =  [0.13  0.034 0.261 0.098 0.116 0.    0.361]\n",
      "AUC all:  0.7928994082840236\n",
      "\n"
     ]
    },
    {
     "name": "stderr",
     "output_type": "stream",
     "text": [
      "[I 2019-08-24 12:21:19,671] Finished trial#775 resulted in value: -0.7928994082840236. Current best value is -0.7948717948717948 with parameters: {'w_lr': 0.25932220860425337, 'w_lda': 0.09195697989035678, 'w_sv': 0.6584085004074863, 'w_xgb': 0.23943615391125597, 'w_lgbm': 0.2584978813734697, 'w_mlp': 0.9426610060258075}.\n"
     ]
    },
    {
     "name": "stdout",
     "output_type": "stream",
     "text": [
      "[w_lr, w_lda, w_sv, w_xgb, w_lgbm,w_cb ] =  [0.089 0.025 0.587 0.221 0.253 0.    0.895]\n",
      "norm =  [0.043 0.012 0.284 0.107 0.122 0.    0.432]\n",
      "AUC all:  0.7924767540152156\n",
      "\n"
     ]
    },
    {
     "name": "stderr",
     "output_type": "stream",
     "text": [
      "[I 2019-08-24 12:21:21,027] Finished trial#776 resulted in value: -0.7924767540152156. Current best value is -0.7948717948717948 with parameters: {'w_lr': 0.25932220860425337, 'w_lda': 0.09195697989035678, 'w_sv': 0.6584085004074863, 'w_xgb': 0.23943615391125597, 'w_lgbm': 0.2584978813734697, 'w_mlp': 0.9426610060258075}.\n"
     ]
    },
    {
     "name": "stdout",
     "output_type": "stream",
     "text": [
      "[w_lr, w_lda, w_sv, w_xgb, w_lgbm,w_cb ] =  [0.014 0.118 0.54  0.298 0.263 0.    0.923]\n",
      "norm =  [0.006 0.055 0.251 0.138 0.122 0.    0.428]\n",
      "AUC all:  0.7938856015779092\n",
      "\n"
     ]
    },
    {
     "name": "stderr",
     "output_type": "stream",
     "text": [
      "[I 2019-08-24 12:21:22,591] Finished trial#777 resulted in value: -0.7938856015779092. Current best value is -0.7948717948717948 with parameters: {'w_lr': 0.25932220860425337, 'w_lda': 0.09195697989035678, 'w_sv': 0.6584085004074863, 'w_xgb': 0.23943615391125597, 'w_lgbm': 0.2584978813734697, 'w_mlp': 0.9426610060258075}.\n"
     ]
    },
    {
     "name": "stdout",
     "output_type": "stream",
     "text": [
      "[w_lr, w_lda, w_sv, w_xgb, w_lgbm,w_cb ] =  [0.038 0.095 0.636 0.229 0.279 0.    0.926]\n",
      "norm =  [0.017 0.043 0.289 0.104 0.127 0.    0.42 ]\n",
      "AUC all:  0.7931811777965623\n",
      "\n"
     ]
    },
    {
     "name": "stderr",
     "output_type": "stream",
     "text": [
      "[I 2019-08-24 12:21:23,946] Finished trial#778 resulted in value: -0.7931811777965623. Current best value is -0.7948717948717948 with parameters: {'w_lr': 0.25932220860425337, 'w_lda': 0.09195697989035678, 'w_sv': 0.6584085004074863, 'w_xgb': 0.23943615391125597, 'w_lgbm': 0.2584978813734697, 'w_mlp': 0.9426610060258075}.\n"
     ]
    },
    {
     "name": "stdout",
     "output_type": "stream",
     "text": [
      "[w_lr, w_lda, w_sv, w_xgb, w_lgbm,w_cb ] =  [0.413 0.132 0.528 0.269 0.303 0.    0.789]\n",
      "norm =  [0.17  0.054 0.217 0.11  0.124 0.    0.324]\n",
      "AUC all:  0.7921949845026768\n",
      "\n"
     ]
    },
    {
     "name": "stderr",
     "output_type": "stream",
     "text": [
      "[I 2019-08-24 12:21:25,531] Finished trial#779 resulted in value: -0.7921949845026768. Current best value is -0.7948717948717948 with parameters: {'w_lr': 0.25932220860425337, 'w_lda': 0.09195697989035678, 'w_sv': 0.6584085004074863, 'w_xgb': 0.23943615391125597, 'w_lgbm': 0.2584978813734697, 'w_mlp': 0.9426610060258075}.\n"
     ]
    },
    {
     "name": "stdout",
     "output_type": "stream",
     "text": [
      "[w_lr, w_lda, w_sv, w_xgb, w_lgbm,w_cb ] =  [0.    0.072 0.571 0.249 0.284 0.    0.908]\n",
      "norm =  [0.    0.035 0.274 0.119 0.136 0.    0.436]\n",
      "AUC all:  0.793040293040293\n",
      "\n"
     ]
    },
    {
     "name": "stderr",
     "output_type": "stream",
     "text": [
      "[I 2019-08-24 12:21:27,043] Finished trial#780 resulted in value: -0.793040293040293. Current best value is -0.7948717948717948 with parameters: {'w_lr': 0.25932220860425337, 'w_lda': 0.09195697989035678, 'w_sv': 0.6584085004074863, 'w_xgb': 0.23943615391125597, 'w_lgbm': 0.2584978813734697, 'w_mlp': 0.9426610060258075}.\n"
     ]
    },
    {
     "name": "stdout",
     "output_type": "stream",
     "text": [
      "[w_lr, w_lda, w_sv, w_xgb, w_lgbm,w_cb ] =  [0.142 0.04  0.63  0.205 0.239 0.    0.976]\n",
      "norm =  [0.064 0.018 0.282 0.092 0.107 0.    0.437]\n",
      "AUC all:  0.7916314454775992\n",
      "\n"
     ]
    },
    {
     "name": "stderr",
     "output_type": "stream",
     "text": [
      "[I 2019-08-24 12:21:28,517] Finished trial#781 resulted in value: -0.7916314454775992. Current best value is -0.7948717948717948 with parameters: {'w_lr': 0.25932220860425337, 'w_lda': 0.09195697989035678, 'w_sv': 0.6584085004074863, 'w_xgb': 0.23943615391125597, 'w_lgbm': 0.2584978813734697, 'w_mlp': 0.9426610060258075}.\n"
     ]
    },
    {
     "name": "stdout",
     "output_type": "stream",
     "text": [
      "[w_lr, w_lda, w_sv, w_xgb, w_lgbm,w_cb ] =  [0.06  0.054 0.602 0.237 0.255 0.    0.895]\n",
      "norm =  [0.028 0.026 0.286 0.113 0.121 0.    0.425]\n",
      "AUC all:  0.7934629473091013\n",
      "\n"
     ]
    },
    {
     "name": "stderr",
     "output_type": "stream",
     "text": [
      "[I 2019-08-24 12:21:30,154] Finished trial#782 resulted in value: -0.7934629473091013. Current best value is -0.7948717948717948 with parameters: {'w_lr': 0.25932220860425337, 'w_lda': 0.09195697989035678, 'w_sv': 0.6584085004074863, 'w_xgb': 0.23943615391125597, 'w_lgbm': 0.2584978813734697, 'w_mlp': 0.9426610060258075}.\n"
     ]
    },
    {
     "name": "stdout",
     "output_type": "stream",
     "text": [
      "[w_lr, w_lda, w_sv, w_xgb, w_lgbm,w_cb ] =  [0.232 0.154 0.559 0.274 0.321 0.    0.961]\n",
      "norm =  [0.093 0.061 0.223 0.109 0.129 0.    0.384]\n",
      "AUC all:  0.7928994082840237\n",
      "\n"
     ]
    },
    {
     "name": "stderr",
     "output_type": "stream",
     "text": [
      "[I 2019-08-24 12:21:31,781] Finished trial#783 resulted in value: -0.7928994082840237. Current best value is -0.7948717948717948 with parameters: {'w_lr': 0.25932220860425337, 'w_lda': 0.09195697989035678, 'w_sv': 0.6584085004074863, 'w_xgb': 0.23943615391125597, 'w_lgbm': 0.2584978813734697, 'w_mlp': 0.9426610060258075}.\n"
     ]
    },
    {
     "name": "stdout",
     "output_type": "stream",
     "text": [
      "[w_lr, w_lda, w_sv, w_xgb, w_lgbm,w_cb ] =  [0.016 0.1   0.64  0.218 0.27  0.    0.926]\n",
      "norm =  [0.007 0.046 0.295 0.1   0.125 0.    0.427]\n",
      "AUC all:  0.7926176387714848\n",
      "\n"
     ]
    },
    {
     "name": "stderr",
     "output_type": "stream",
     "text": [
      "[I 2019-08-24 12:21:33,331] Finished trial#784 resulted in value: -0.7926176387714848. Current best value is -0.7948717948717948 with parameters: {'w_lr': 0.25932220860425337, 'w_lda': 0.09195697989035678, 'w_sv': 0.6584085004074863, 'w_xgb': 0.23943615391125597, 'w_lgbm': 0.2584978813734697, 'w_mlp': 0.9426610060258075}.\n"
     ]
    },
    {
     "name": "stdout",
     "output_type": "stream",
     "text": [
      "[w_lr, w_lda, w_sv, w_xgb, w_lgbm,w_cb ] =  [0.218 0.12  0.675 0.255 0.221 0.    0.857]\n",
      "norm =  [0.093 0.051 0.288 0.109 0.094 0.    0.365]\n",
      "AUC all:  0.7916314454775993\n",
      "\n"
     ]
    },
    {
     "name": "stderr",
     "output_type": "stream",
     "text": [
      "[I 2019-08-24 12:21:34,791] Finished trial#785 resulted in value: -0.7916314454775993. Current best value is -0.7948717948717948 with parameters: {'w_lr': 0.25932220860425337, 'w_lda': 0.09195697989035678, 'w_sv': 0.6584085004074863, 'w_xgb': 0.23943615391125597, 'w_lgbm': 0.2584978813734697, 'w_mlp': 0.9426610060258075}.\n"
     ]
    },
    {
     "name": "stdout",
     "output_type": "stream",
     "text": [
      "[w_lr, w_lda, w_sv, w_xgb, w_lgbm,w_cb ] =  [0.048 0.084 0.65  0.2   0.262 0.    0.91 ]\n",
      "norm =  [0.022 0.039 0.302 0.093 0.122 0.    0.422]\n",
      "AUC all:  0.7928994082840237\n",
      "\n"
     ]
    },
    {
     "name": "stderr",
     "output_type": "stream",
     "text": [
      "[I 2019-08-24 12:21:36,257] Finished trial#786 resulted in value: -0.7928994082840237. Current best value is -0.7948717948717948 with parameters: {'w_lr': 0.25932220860425337, 'w_lda': 0.09195697989035678, 'w_sv': 0.6584085004074863, 'w_xgb': 0.23943615391125597, 'w_lgbm': 0.2584978813734697, 'w_mlp': 0.9426610060258075}.\n"
     ]
    },
    {
     "name": "stdout",
     "output_type": "stream",
     "text": [
      "[w_lr, w_lda, w_sv, w_xgb, w_lgbm,w_cb ] =  [0.001 0.069 0.612 0.29  0.234 0.    0.938]\n",
      "norm =  [0.001 0.032 0.285 0.135 0.109 0.    0.438]\n",
      "AUC all:  0.7920540997464074\n",
      "\n"
     ]
    },
    {
     "name": "stderr",
     "output_type": "stream",
     "text": [
      "[I 2019-08-24 12:21:38,058] Finished trial#787 resulted in value: -0.7920540997464074. Current best value is -0.7948717948717948 with parameters: {'w_lr': 0.25932220860425337, 'w_lda': 0.09195697989035678, 'w_sv': 0.6584085004074863, 'w_xgb': 0.23943615391125597, 'w_lgbm': 0.2584978813734697, 'w_mlp': 0.9426610060258075}.\n"
     ]
    },
    {
     "name": "stdout",
     "output_type": "stream",
     "text": [
      "[w_lr, w_lda, w_sv, w_xgb, w_lgbm,w_cb ] =  [0.017 0.102 0.955 0.234 0.272 0.    0.545]\n",
      "norm =  [0.008 0.048 0.449 0.11  0.128 0.    0.256]\n",
      "AUC all:  0.7888137503522118\n",
      "\n"
     ]
    },
    {
     "name": "stderr",
     "output_type": "stream",
     "text": [
      "[I 2019-08-24 12:21:39,588] Finished trial#788 resulted in value: -0.7888137503522118. Current best value is -0.7948717948717948 with parameters: {'w_lr': 0.25932220860425337, 'w_lda': 0.09195697989035678, 'w_sv': 0.6584085004074863, 'w_xgb': 0.23943615391125597, 'w_lgbm': 0.2584978813734697, 'w_mlp': 0.9426610060258075}.\n"
     ]
    },
    {
     "name": "stdout",
     "output_type": "stream",
     "text": [
      "[w_lr, w_lda, w_sv, w_xgb, w_lgbm,w_cb ] =  [0.    0.142 0.624 0.313 0.245 0.    0.933]\n",
      "norm =  [0.    0.063 0.276 0.139 0.108 0.    0.413]\n",
      "AUC all:  0.789940828402367\n",
      "\n"
     ]
    },
    {
     "name": "stderr",
     "output_type": "stream",
     "text": [
      "[I 2019-08-24 12:21:40,955] Finished trial#789 resulted in value: -0.789940828402367. Current best value is -0.7948717948717948 with parameters: {'w_lr': 0.25932220860425337, 'w_lda': 0.09195697989035678, 'w_sv': 0.6584085004074863, 'w_xgb': 0.23943615391125597, 'w_lgbm': 0.2584978813734697, 'w_mlp': 0.9426610060258075}.\n"
     ]
    },
    {
     "name": "stdout",
     "output_type": "stream",
     "text": [
      "[w_lr, w_lda, w_sv, w_xgb, w_lgbm,w_cb ] =  [0.033 0.118 0.58  0.256 0.428 0.    0.91 ]\n",
      "norm =  [0.014 0.051 0.249 0.11  0.184 0.    0.391]\n",
      "AUC all:  0.7876866723020569\n",
      "\n"
     ]
    },
    {
     "name": "stderr",
     "output_type": "stream",
     "text": [
      "[I 2019-08-24 12:21:42,345] Finished trial#790 resulted in value: -0.7876866723020569. Current best value is -0.7948717948717948 with parameters: {'w_lr': 0.25932220860425337, 'w_lda': 0.09195697989035678, 'w_sv': 0.6584085004074863, 'w_xgb': 0.23943615391125597, 'w_lgbm': 0.2584978813734697, 'w_mlp': 0.9426610060258075}.\n"
     ]
    },
    {
     "name": "stdout",
     "output_type": "stream",
     "text": [
      "[w_lr, w_lda, w_sv, w_xgb, w_lgbm,w_cb ] =  [0.062 0.078 0.628 0.181 0.188 0.    0.758]\n",
      "norm =  [0.033 0.041 0.331 0.096 0.099 0.    0.4  ]\n",
      "AUC all:  0.7924767540152156\n",
      "\n"
     ]
    },
    {
     "name": "stderr",
     "output_type": "stream",
     "text": [
      "[I 2019-08-24 12:21:43,911] Finished trial#791 resulted in value: -0.7924767540152156. Current best value is -0.7948717948717948 with parameters: {'w_lr': 0.25932220860425337, 'w_lda': 0.09195697989035678, 'w_sv': 0.6584085004074863, 'w_xgb': 0.23943615391125597, 'w_lgbm': 0.2584978813734697, 'w_mlp': 0.9426610060258075}.\n"
     ]
    },
    {
     "name": "stdout",
     "output_type": "stream",
     "text": [
      "[w_lr, w_lda, w_sv, w_xgb, w_lgbm,w_cb ] =  [0.037 0.133 0.607 0.281 0.206 0.    0.705]\n",
      "norm =  [0.019 0.068 0.308 0.143 0.105 0.    0.358]\n",
      "AUC all:  0.7899408284023668\n",
      "\n"
     ]
    },
    {
     "name": "stderr",
     "output_type": "stream",
     "text": [
      "[I 2019-08-24 12:21:45,573] Finished trial#792 resulted in value: -0.7899408284023668. Current best value is -0.7948717948717948 with parameters: {'w_lr': 0.25932220860425337, 'w_lda': 0.09195697989035678, 'w_sv': 0.6584085004074863, 'w_xgb': 0.23943615391125597, 'w_lgbm': 0.2584978813734697, 'w_mlp': 0.9426610060258075}.\n"
     ]
    },
    {
     "name": "stdout",
     "output_type": "stream",
     "text": [
      "[w_lr, w_lda, w_sv, w_xgb, w_lgbm,w_cb ] =  [0.017 0.401 0.655 0.246 0.294 0.    0.904]\n",
      "norm =  [0.007 0.159 0.26  0.098 0.117 0.    0.359]\n",
      "AUC all:  0.7869822485207101\n",
      "\n"
     ]
    },
    {
     "name": "stderr",
     "output_type": "stream",
     "text": [
      "[I 2019-08-24 12:21:46,940] Finished trial#793 resulted in value: -0.7869822485207101. Current best value is -0.7948717948717948 with parameters: {'w_lr': 0.25932220860425337, 'w_lda': 0.09195697989035678, 'w_sv': 0.6584085004074863, 'w_xgb': 0.23943615391125597, 'w_lgbm': 0.2584978813734697, 'w_mlp': 0.9426610060258075}.\n"
     ]
    },
    {
     "name": "stdout",
     "output_type": "stream",
     "text": [
      "[w_lr, w_lda, w_sv, w_xgb, w_lgbm,w_cb ] =  [0.222 0.099 0.546 0.218 0.253 0.    0.989]\n",
      "norm =  [0.095 0.042 0.235 0.094 0.109 0.    0.425]\n",
      "AUC all:  0.7923358692589463\n",
      "\n"
     ]
    },
    {
     "name": "stderr",
     "output_type": "stream",
     "text": [
      "[I 2019-08-24 12:21:48,442] Finished trial#794 resulted in value: -0.7923358692589463. Current best value is -0.7948717948717948 with parameters: {'w_lr': 0.25932220860425337, 'w_lda': 0.09195697989035678, 'w_sv': 0.6584085004074863, 'w_xgb': 0.23943615391125597, 'w_lgbm': 0.2584978813734697, 'w_mlp': 0.9426610060258075}.\n"
     ]
    },
    {
     "name": "stdout",
     "output_type": "stream",
     "text": [
      "[w_lr, w_lda, w_sv, w_xgb, w_lgbm,w_cb ] =  [0.082 0.162 0.53  0.329 0.231 0.    0.915]\n",
      "norm =  [0.037 0.072 0.235 0.146 0.103 0.    0.407]\n",
      "AUC all:  0.7888137503522119\n",
      "\n"
     ]
    },
    {
     "name": "stderr",
     "output_type": "stream",
     "text": [
      "[I 2019-08-24 12:21:50,092] Finished trial#795 resulted in value: -0.7888137503522119. Current best value is -0.7948717948717948 with parameters: {'w_lr': 0.25932220860425337, 'w_lda': 0.09195697989035678, 'w_sv': 0.6584085004074863, 'w_xgb': 0.23943615391125597, 'w_lgbm': 0.2584978813734697, 'w_mlp': 0.9426610060258075}.\n"
     ]
    },
    {
     "name": "stdout",
     "output_type": "stream",
     "text": [
      "[w_lr, w_lda, w_sv, w_xgb, w_lgbm,w_cb ] =  [0.18  0.108 0.665 0.268 0.258 0.    0.97 ]\n",
      "norm =  [0.074 0.044 0.271 0.11  0.105 0.    0.396]\n",
      "AUC all:  0.7937447168216399\n",
      "\n"
     ]
    },
    {
     "name": "stderr",
     "output_type": "stream",
     "text": [
      "[I 2019-08-24 12:21:51,738] Finished trial#796 resulted in value: -0.7937447168216399. Current best value is -0.7948717948717948 with parameters: {'w_lr': 0.25932220860425337, 'w_lda': 0.09195697989035678, 'w_sv': 0.6584085004074863, 'w_xgb': 0.23943615391125597, 'w_lgbm': 0.2584978813734697, 'w_mlp': 0.9426610060258075}.\n"
     ]
    },
    {
     "name": "stdout",
     "output_type": "stream",
     "text": [
      "[w_lr, w_lda, w_sv, w_xgb, w_lgbm,w_cb ] =  [0.105 0.059 0.641 0.276 0.287 0.    0.956]\n",
      "norm =  [0.045 0.025 0.276 0.119 0.123 0.    0.411]\n",
      "AUC all:  0.7928994082840236\n",
      "\n"
     ]
    },
    {
     "name": "stderr",
     "output_type": "stream",
     "text": [
      "[I 2019-08-24 12:21:53,272] Finished trial#797 resulted in value: -0.7928994082840236. Current best value is -0.7948717948717948 with parameters: {'w_lr': 0.25932220860425337, 'w_lda': 0.09195697989035678, 'w_sv': 0.6584085004074863, 'w_xgb': 0.23943615391125597, 'w_lgbm': 0.2584978813734697, 'w_mlp': 0.9426610060258075}.\n"
     ]
    },
    {
     "name": "stdout",
     "output_type": "stream",
     "text": [
      "[w_lr, w_lda, w_sv, w_xgb, w_lgbm,w_cb ] =  [0.002 0.084 0.633 0.228 0.271 0.    0.93 ]\n",
      "norm =  [0.001 0.039 0.295 0.106 0.126 0.    0.433]\n",
      "AUC all:  0.793040293040293\n",
      "\n"
     ]
    },
    {
     "name": "stderr",
     "output_type": "stream",
     "text": [
      "[I 2019-08-24 12:21:54,751] Finished trial#798 resulted in value: -0.793040293040293. Current best value is -0.7948717948717948 with parameters: {'w_lr': 0.25932220860425337, 'w_lda': 0.09195697989035678, 'w_sv': 0.6584085004074863, 'w_xgb': 0.23943615391125597, 'w_lgbm': 0.2584978813734697, 'w_mlp': 0.9426610060258075}.\n"
     ]
    },
    {
     "name": "stdout",
     "output_type": "stream",
     "text": [
      "[w_lr, w_lda, w_sv, w_xgb, w_lgbm,w_cb ] =  [0.081 0.006 0.583 0.142 0.22  0.    0.883]\n",
      "norm =  [0.042 0.003 0.304 0.074 0.115 0.    0.461]\n",
      "AUC all:  0.7902225979149056\n",
      "\n"
     ]
    },
    {
     "name": "stderr",
     "output_type": "stream",
     "text": [
      "[I 2019-08-24 12:21:56,147] Finished trial#799 resulted in value: -0.7902225979149056. Current best value is -0.7948717948717948 with parameters: {'w_lr': 0.25932220860425337, 'w_lda': 0.09195697989035678, 'w_sv': 0.6584085004074863, 'w_xgb': 0.23943615391125597, 'w_lgbm': 0.2584978813734697, 'w_mlp': 0.9426610060258075}.\n"
     ]
    },
    {
     "name": "stdout",
     "output_type": "stream",
     "text": [
      "[w_lr, w_lda, w_sv, w_xgb, w_lgbm,w_cb ] =  [0.207 0.115 0.559 0.202 0.24  0.    0.989]\n",
      "norm =  [0.09  0.05  0.242 0.087 0.104 0.    0.428]\n",
      "AUC all:  0.7913496759650606\n",
      "\n"
     ]
    },
    {
     "name": "stderr",
     "output_type": "stream",
     "text": [
      "[I 2019-08-24 12:21:57,608] Finished trial#800 resulted in value: -0.7913496759650606. Current best value is -0.7948717948717948 with parameters: {'w_lr': 0.25932220860425337, 'w_lda': 0.09195697989035678, 'w_sv': 0.6584085004074863, 'w_xgb': 0.23943615391125597, 'w_lgbm': 0.2584978813734697, 'w_mlp': 0.9426610060258075}.\n"
     ]
    },
    {
     "name": "stdout",
     "output_type": "stream",
     "text": [
      "[w_lr, w_lda, w_sv, w_xgb, w_lgbm,w_cb ] =  [0.228 0.093 0.568 0.258 0.315 0.    0.955]\n",
      "norm =  [0.094 0.039 0.235 0.107 0.13  0.    0.395]\n",
      "AUC all:  0.7923358692589462\n",
      "\n"
     ]
    },
    {
     "name": "stderr",
     "output_type": "stream",
     "text": [
      "[I 2019-08-24 12:21:59,220] Finished trial#801 resulted in value: -0.7923358692589462. Current best value is -0.7948717948717948 with parameters: {'w_lr': 0.25932220860425337, 'w_lda': 0.09195697989035678, 'w_sv': 0.6584085004074863, 'w_xgb': 0.23943615391125597, 'w_lgbm': 0.2584978813734697, 'w_mlp': 0.9426610060258075}.\n"
     ]
    },
    {
     "name": "stdout",
     "output_type": "stream",
     "text": [
      "[w_lr, w_lda, w_sv, w_xgb, w_lgbm,w_cb ] =  [0.031 0.133 0.656 0.248 0.295 0.    0.909]\n",
      "norm =  [0.014 0.058 0.289 0.109 0.13  0.    0.4  ]\n",
      "AUC all:  0.7924767540152156\n",
      "\n"
     ]
    },
    {
     "name": "stderr",
     "output_type": "stream",
     "text": [
      "[I 2019-08-24 12:22:00,703] Finished trial#802 resulted in value: -0.7924767540152156. Current best value is -0.7948717948717948 with parameters: {'w_lr': 0.25932220860425337, 'w_lda': 0.09195697989035678, 'w_sv': 0.6584085004074863, 'w_xgb': 0.23943615391125597, 'w_lgbm': 0.2584978813734697, 'w_mlp': 0.9426610060258075}.\n"
     ]
    },
    {
     "name": "stdout",
     "output_type": "stream",
     "text": [
      "[w_lr, w_lda, w_sv, w_xgb, w_lgbm,w_cb ] =  [0.143 0.036 0.619 0.17  0.272 0.    0.976]\n",
      "norm =  [0.064 0.016 0.28  0.077 0.123 0.    0.44 ]\n",
      "AUC all:  0.7907861369399831\n",
      "\n"
     ]
    },
    {
     "name": "stderr",
     "output_type": "stream",
     "text": [
      "[I 2019-08-24 12:22:02,171] Finished trial#803 resulted in value: -0.7907861369399831. Current best value is -0.7948717948717948 with parameters: {'w_lr': 0.25932220860425337, 'w_lda': 0.09195697989035678, 'w_sv': 0.6584085004074863, 'w_xgb': 0.23943615391125597, 'w_lgbm': 0.2584978813734697, 'w_mlp': 0.9426610060258075}.\n"
     ]
    },
    {
     "name": "stdout",
     "output_type": "stream",
     "text": [
      "[w_lr, w_lda, w_sv, w_xgb, w_lgbm,w_cb ] =  [0.002 0.067 0.647 0.305 0.291 0.    0.874]\n",
      "norm =  [0.001 0.031 0.296 0.139 0.133 0.    0.4  ]\n",
      "AUC all:  0.792617638771485\n",
      "\n"
     ]
    },
    {
     "name": "stderr",
     "output_type": "stream",
     "text": [
      "[I 2019-08-24 12:22:03,554] Finished trial#804 resulted in value: -0.792617638771485. Current best value is -0.7948717948717948 with parameters: {'w_lr': 0.25932220860425337, 'w_lda': 0.09195697989035678, 'w_sv': 0.6584085004074863, 'w_xgb': 0.23943615391125597, 'w_lgbm': 0.2584978813734697, 'w_mlp': 0.9426610060258075}.\n"
     ]
    },
    {
     "name": "stdout",
     "output_type": "stream",
     "text": [
      "[w_lr, w_lda, w_sv, w_xgb, w_lgbm,w_cb ] =  [0.056 0.046 0.594 0.225 0.246 0.    0.891]\n",
      "norm =  [0.027 0.023 0.288 0.109 0.119 0.    0.433]\n",
      "AUC all:  0.793462947309101\n",
      "\n"
     ]
    },
    {
     "name": "stderr",
     "output_type": "stream",
     "text": [
      "[I 2019-08-24 12:22:04,934] Finished trial#805 resulted in value: -0.793462947309101. Current best value is -0.7948717948717948 with parameters: {'w_lr': 0.25932220860425337, 'w_lda': 0.09195697989035678, 'w_sv': 0.6584085004074863, 'w_xgb': 0.23943615391125597, 'w_lgbm': 0.2584978813734697, 'w_mlp': 0.9426610060258075}.\n"
     ]
    },
    {
     "name": "stdout",
     "output_type": "stream",
     "text": [
      "[w_lr, w_lda, w_sv, w_xgb, w_lgbm,w_cb ] =  [0.018 0.092 0.643 0.199 0.261 0.    0.923]\n",
      "norm =  [0.008 0.043 0.301 0.093 0.122 0.    0.432]\n",
      "AUC all:  0.7933220625528318\n",
      "\n"
     ]
    },
    {
     "name": "stderr",
     "output_type": "stream",
     "text": [
      "[I 2019-08-24 12:22:06,317] Finished trial#806 resulted in value: -0.7933220625528318. Current best value is -0.7948717948717948 with parameters: {'w_lr': 0.25932220860425337, 'w_lda': 0.09195697989035678, 'w_sv': 0.6584085004074863, 'w_xgb': 0.23943615391125597, 'w_lgbm': 0.2584978813734697, 'w_mlp': 0.9426610060258075}.\n"
     ]
    },
    {
     "name": "stdout",
     "output_type": "stream",
     "text": [
      "[w_lr, w_lda, w_sv, w_xgb, w_lgbm,w_cb ] =  [0.052 0.057 0.593 0.238 0.199 0.    0.894]\n",
      "norm =  [0.026 0.028 0.292 0.117 0.098 0.    0.439]\n",
      "AUC all:  0.7926176387714851\n",
      "\n"
     ]
    },
    {
     "name": "stderr",
     "output_type": "stream",
     "text": [
      "[I 2019-08-24 12:22:07,710] Finished trial#807 resulted in value: -0.7926176387714851. Current best value is -0.7948717948717948 with parameters: {'w_lr': 0.25932220860425337, 'w_lda': 0.09195697989035678, 'w_sv': 0.6584085004074863, 'w_xgb': 0.23943615391125597, 'w_lgbm': 0.2584978813734697, 'w_mlp': 0.9426610060258075}.\n"
     ]
    },
    {
     "name": "stdout",
     "output_type": "stream",
     "text": [
      "[w_lr, w_lda, w_sv, w_xgb, w_lgbm,w_cb ] =  [0.    0.116 0.611 0.282 0.337 0.    0.916]\n",
      "norm =  [0.    0.051 0.27  0.125 0.149 0.    0.405]\n",
      "AUC all:  0.7916314454775992\n",
      "\n"
     ]
    },
    {
     "name": "stderr",
     "output_type": "stream",
     "text": [
      "[I 2019-08-24 12:22:09,101] Finished trial#808 resulted in value: -0.7916314454775992. Current best value is -0.7948717948717948 with parameters: {'w_lr': 0.25932220860425337, 'w_lda': 0.09195697989035678, 'w_sv': 0.6584085004074863, 'w_xgb': 0.23943615391125597, 'w_lgbm': 0.2584978813734697, 'w_mlp': 0.9426610060258075}.\n"
     ]
    },
    {
     "name": "stdout",
     "output_type": "stream",
     "text": [
      "[w_lr, w_lda, w_sv, w_xgb, w_lgbm,w_cb ] =  [0.04  0.073 0.62  0.261 0.22  0.    0.948]\n",
      "norm =  [0.018 0.034 0.287 0.121 0.102 0.    0.439]\n",
      "AUC all:  0.7924767540152157\n",
      "\n"
     ]
    },
    {
     "name": "stderr",
     "output_type": "stream",
     "text": [
      "[I 2019-08-24 12:22:10,476] Finished trial#809 resulted in value: -0.7924767540152157. Current best value is -0.7948717948717948 with parameters: {'w_lr': 0.25932220860425337, 'w_lda': 0.09195697989035678, 'w_sv': 0.6584085004074863, 'w_xgb': 0.23943615391125597, 'w_lgbm': 0.2584978813734697, 'w_mlp': 0.9426610060258075}.\n"
     ]
    },
    {
     "name": "stdout",
     "output_type": "stream",
     "text": [
      "[w_lr, w_lda, w_sv, w_xgb, w_lgbm,w_cb ] =  [0.071 0.038 0.602 0.217 0.242 0.    0.871]\n",
      "norm =  [0.035 0.019 0.295 0.106 0.119 0.    0.427]\n",
      "AUC all:  0.7931811777965624\n",
      "\n"
     ]
    },
    {
     "name": "stderr",
     "output_type": "stream",
     "text": [
      "[I 2019-08-24 12:22:11,895] Finished trial#810 resulted in value: -0.7931811777965624. Current best value is -0.7948717948717948 with parameters: {'w_lr': 0.25932220860425337, 'w_lda': 0.09195697989035678, 'w_sv': 0.6584085004074863, 'w_xgb': 0.23943615391125597, 'w_lgbm': 0.2584978813734697, 'w_mlp': 0.9426610060258075}.\n"
     ]
    },
    {
     "name": "stdout",
     "output_type": "stream",
     "text": [
      "[w_lr, w_lda, w_sv, w_xgb, w_lgbm,w_cb ] =  [0.026 0.152 0.604 0.299 0.22  0.    0.881]\n",
      "norm =  [0.012 0.069 0.277 0.137 0.101 0.    0.404]\n",
      "AUC all:  0.7888137503522119\n",
      "\n"
     ]
    },
    {
     "name": "stderr",
     "output_type": "stream",
     "text": [
      "[I 2019-08-24 12:22:13,283] Finished trial#811 resulted in value: -0.7888137503522119. Current best value is -0.7948717948717948 with parameters: {'w_lr': 0.25932220860425337, 'w_lda': 0.09195697989035678, 'w_sv': 0.6584085004074863, 'w_xgb': 0.23943615391125597, 'w_lgbm': 0.2584978813734697, 'w_mlp': 0.9426610060258075}.\n"
     ]
    },
    {
     "name": "stdout",
     "output_type": "stream",
     "text": [
      "[w_lr, w_lda, w_sv, w_xgb, w_lgbm,w_cb ] =  [0.108 0.065 0.585 0.238 0.255 0.    0.874]\n",
      "norm =  [0.051 0.031 0.275 0.112 0.12  0.    0.411]\n",
      "AUC all:  0.7936038320653706\n",
      "\n"
     ]
    },
    {
     "name": "stderr",
     "output_type": "stream",
     "text": [
      "[I 2019-08-24 12:22:14,679] Finished trial#812 resulted in value: -0.7936038320653706. Current best value is -0.7948717948717948 with parameters: {'w_lr': 0.25932220860425337, 'w_lda': 0.09195697989035678, 'w_sv': 0.6584085004074863, 'w_xgb': 0.23943615391125597, 'w_lgbm': 0.2584978813734697, 'w_mlp': 0.9426610060258075}.\n"
     ]
    },
    {
     "name": "stdout",
     "output_type": "stream",
     "text": [
      "[w_lr, w_lda, w_sv, w_xgb, w_lgbm,w_cb ] =  [0.161 0.081 0.633 0.186 0.276 0.    0.968]\n",
      "norm =  [0.07  0.035 0.275 0.081 0.12  0.    0.42 ]\n",
      "AUC all:  0.7924767540152154\n",
      "\n"
     ]
    },
    {
     "name": "stderr",
     "output_type": "stream",
     "text": [
      "[I 2019-08-24 12:22:16,073] Finished trial#813 resulted in value: -0.7924767540152154. Current best value is -0.7948717948717948 with parameters: {'w_lr': 0.25932220860425337, 'w_lda': 0.09195697989035678, 'w_sv': 0.6584085004074863, 'w_xgb': 0.23943615391125597, 'w_lgbm': 0.2584978813734697, 'w_mlp': 0.9426610060258075}.\n"
     ]
    },
    {
     "name": "stdout",
     "output_type": "stream",
     "text": [
      "[w_lr, w_lda, w_sv, w_xgb, w_lgbm,w_cb ] =  [0.015 0.137 0.541 0.338 0.239 0.    0.92 ]\n",
      "norm =  [0.007 0.062 0.247 0.154 0.109 0.    0.42 ]\n",
      "AUC all:  0.7893772893772895\n",
      "\n"
     ]
    },
    {
     "name": "stderr",
     "output_type": "stream",
     "text": [
      "[I 2019-08-24 12:22:17,461] Finished trial#814 resulted in value: -0.7893772893772895. Current best value is -0.7948717948717948 with parameters: {'w_lr': 0.25932220860425337, 'w_lda': 0.09195697989035678, 'w_sv': 0.6584085004074863, 'w_xgb': 0.23943615391125597, 'w_lgbm': 0.2584978813734697, 'w_mlp': 0.9426610060258075}.\n"
     ]
    },
    {
     "name": "stdout",
     "output_type": "stream",
     "text": [
      "[w_lr, w_lda, w_sv, w_xgb, w_lgbm,w_cb ] =  [0.001 0.105 0.554 0.259 0.312 0.    0.916]\n",
      "norm =  [0.001 0.049 0.258 0.12  0.145 0.    0.426]\n",
      "AUC all:  0.792617638771485\n",
      "\n"
     ]
    },
    {
     "name": "stderr",
     "output_type": "stream",
     "text": [
      "[I 2019-08-24 12:22:18,863] Finished trial#815 resulted in value: -0.792617638771485. Current best value is -0.7948717948717948 with parameters: {'w_lr': 0.25932220860425337, 'w_lda': 0.09195697989035678, 'w_sv': 0.6584085004074863, 'w_xgb': 0.23943615391125597, 'w_lgbm': 0.2584978813734697, 'w_mlp': 0.9426610060258075}.\n"
     ]
    },
    {
     "name": "stdout",
     "output_type": "stream",
     "text": [
      "[w_lr, w_lda, w_sv, w_xgb, w_lgbm,w_cb ] =  [0.278 0.11  0.572 0.274 0.304 0.    0.961]\n",
      "norm =  [0.111 0.044 0.229 0.11  0.122 0.    0.385]\n",
      "AUC all:  0.7934629473091012\n",
      "\n"
     ]
    },
    {
     "name": "stderr",
     "output_type": "stream",
     "text": [
      "[I 2019-08-24 12:22:20,259] Finished trial#816 resulted in value: -0.7934629473091012. Current best value is -0.7948717948717948 with parameters: {'w_lr': 0.25932220860425337, 'w_lda': 0.09195697989035678, 'w_sv': 0.6584085004074863, 'w_xgb': 0.23943615391125597, 'w_lgbm': 0.2584978813734697, 'w_mlp': 0.9426610060258075}.\n"
     ]
    },
    {
     "name": "stdout",
     "output_type": "stream",
     "text": [
      "[w_lr, w_lda, w_sv, w_xgb, w_lgbm,w_cb ] =  [0.255 0.092 0.686 0.289 0.291 0.    0.946]\n",
      "norm =  [0.1   0.036 0.268 0.113 0.114 0.    0.369]\n",
      "AUC all:  0.7937447168216399\n",
      "\n"
     ]
    },
    {
     "name": "stderr",
     "output_type": "stream",
     "text": [
      "[I 2019-08-24 12:22:21,659] Finished trial#817 resulted in value: -0.7937447168216399. Current best value is -0.7948717948717948 with parameters: {'w_lr': 0.25932220860425337, 'w_lda': 0.09195697989035678, 'w_sv': 0.6584085004074863, 'w_xgb': 0.23943615391125597, 'w_lgbm': 0.2584978813734697, 'w_mlp': 0.9426610060258075}.\n"
     ]
    },
    {
     "name": "stdout",
     "output_type": "stream",
     "text": [
      "[w_lr, w_lda, w_sv, w_xgb, w_lgbm,w_cb ] =  [0.182 0.126 0.662 0.215 0.258 0.    0.983]\n",
      "norm =  [0.075 0.052 0.273 0.089 0.106 0.    0.405]\n",
      "AUC all:  0.7916314454775994\n",
      "\n"
     ]
    },
    {
     "name": "stderr",
     "output_type": "stream",
     "text": [
      "[I 2019-08-24 12:22:23,070] Finished trial#818 resulted in value: -0.7916314454775994. Current best value is -0.7948717948717948 with parameters: {'w_lr': 0.25932220860425337, 'w_lda': 0.09195697989035678, 'w_sv': 0.6584085004074863, 'w_xgb': 0.23943615391125597, 'w_lgbm': 0.2584978813734697, 'w_mlp': 0.9426610060258075}.\n"
     ]
    },
    {
     "name": "stdout",
     "output_type": "stream",
     "text": [
      "[w_lr, w_lda, w_sv, w_xgb, w_lgbm,w_cb ] =  [0.002 0.083 0.625 0.272 0.208 0.    0.939]\n",
      "norm =  [0.001 0.039 0.294 0.128 0.098 0.    0.441]\n",
      "AUC all:  0.7923358692589462\n",
      "\n"
     ]
    },
    {
     "name": "stderr",
     "output_type": "stream",
     "text": [
      "[I 2019-08-24 12:22:24,469] Finished trial#819 resulted in value: -0.7923358692589462. Current best value is -0.7948717948717948 with parameters: {'w_lr': 0.25932220860425337, 'w_lda': 0.09195697989035678, 'w_sv': 0.6584085004074863, 'w_xgb': 0.23943615391125597, 'w_lgbm': 0.2584978813734697, 'w_mlp': 0.9426610060258075}.\n"
     ]
    },
    {
     "name": "stdout",
     "output_type": "stream",
     "text": [
      "[w_lr, w_lda, w_sv, w_xgb, w_lgbm,w_cb ] =  [0.035 0.155 0.535 0.315 0.267 0.    0.934]\n",
      "norm =  [0.015 0.069 0.239 0.141 0.119 0.    0.417]\n",
      "AUC all:  0.7920540997464074\n",
      "\n"
     ]
    },
    {
     "name": "stderr",
     "output_type": "stream",
     "text": [
      "[I 2019-08-24 12:22:25,873] Finished trial#820 resulted in value: -0.7920540997464074. Current best value is -0.7948717948717948 with parameters: {'w_lr': 0.25932220860425337, 'w_lda': 0.09195697989035678, 'w_sv': 0.6584085004074863, 'w_xgb': 0.23943615391125597, 'w_lgbm': 0.2584978813734697, 'w_mlp': 0.9426610060258075}.\n"
     ]
    },
    {
     "name": "stdout",
     "output_type": "stream",
     "text": [
      "[w_lr, w_lda, w_sv, w_xgb, w_lgbm,w_cb ] =  [0.05  0.104 0.652 0.248 0.282 0.    0.909]\n",
      "norm =  [0.022 0.046 0.29  0.11  0.126 0.    0.405]\n",
      "AUC all:  0.7936038320653704\n",
      "\n"
     ]
    },
    {
     "name": "stderr",
     "output_type": "stream",
     "text": [
      "[I 2019-08-24 12:22:27,286] Finished trial#821 resulted in value: -0.7936038320653704. Current best value is -0.7948717948717948 with parameters: {'w_lr': 0.25932220860425337, 'w_lda': 0.09195697989035678, 'w_sv': 0.6584085004074863, 'w_xgb': 0.23943615391125597, 'w_lgbm': 0.2584978813734697, 'w_mlp': 0.9426610060258075}.\n"
     ]
    },
    {
     "name": "stdout",
     "output_type": "stream",
     "text": [
      "[w_lr, w_lda, w_sv, w_xgb, w_lgbm,w_cb ] =  [0.12  0.128 0.633 0.249 0.052 0.    0.965]\n",
      "norm =  [0.056 0.06  0.295 0.116 0.024 0.    0.449]\n",
      "AUC all:  0.7807833192448577\n",
      "\n"
     ]
    },
    {
     "name": "stderr",
     "output_type": "stream",
     "text": [
      "[I 2019-08-24 12:22:28,703] Finished trial#822 resulted in value: -0.7807833192448577. Current best value is -0.7948717948717948 with parameters: {'w_lr': 0.25932220860425337, 'w_lda': 0.09195697989035678, 'w_sv': 0.6584085004074863, 'w_xgb': 0.23943615391125597, 'w_lgbm': 0.2584978813734697, 'w_mlp': 0.9426610060258075}.\n"
     ]
    },
    {
     "name": "stdout",
     "output_type": "stream",
     "text": [
      "[w_lr, w_lda, w_sv, w_xgb, w_lgbm,w_cb ] =  [0.159 0.074 0.638 0.225 0.163 0.    0.974]\n",
      "norm =  [0.071 0.033 0.286 0.101 0.073 0.    0.436]\n",
      "AUC all:  0.790363482671175\n",
      "\n"
     ]
    },
    {
     "name": "stderr",
     "output_type": "stream",
     "text": [
      "[I 2019-08-24 12:22:30,089] Finished trial#823 resulted in value: -0.790363482671175. Current best value is -0.7948717948717948 with parameters: {'w_lr': 0.25932220860425337, 'w_lda': 0.09195697989035678, 'w_sv': 0.6584085004074863, 'w_xgb': 0.23943615391125597, 'w_lgbm': 0.2584978813734697, 'w_mlp': 0.9426610060258075}.\n"
     ]
    },
    {
     "name": "stdout",
     "output_type": "stream",
     "text": [
      "[w_lr, w_lda, w_sv, w_xgb, w_lgbm,w_cb ] =  [0.    0.12  0.613 0.107 0.11  0.    0.887]\n",
      "norm =  [0.    0.065 0.334 0.058 0.06  0.    0.483]\n",
      "AUC all:  0.7857142857142856\n",
      "\n"
     ]
    },
    {
     "name": "stderr",
     "output_type": "stream",
     "text": [
      "[I 2019-08-24 12:22:31,491] Finished trial#824 resulted in value: -0.7857142857142856. Current best value is -0.7948717948717948 with parameters: {'w_lr': 0.25932220860425337, 'w_lda': 0.09195697989035678, 'w_sv': 0.6584085004074863, 'w_xgb': 0.23943615391125597, 'w_lgbm': 0.2584978813734697, 'w_mlp': 0.9426610060258075}.\n"
     ]
    },
    {
     "name": "stdout",
     "output_type": "stream",
     "text": [
      "[w_lr, w_lda, w_sv, w_xgb, w_lgbm,w_cb ] =  [0.296 0.097 0.669 0.263 0.329 0.    0.956]\n",
      "norm =  [0.113 0.037 0.256 0.101 0.126 0.    0.366]\n",
      "AUC all:  0.7919132149901382\n",
      "\n"
     ]
    },
    {
     "name": "stderr",
     "output_type": "stream",
     "text": [
      "[I 2019-08-24 12:22:32,893] Finished trial#825 resulted in value: -0.7919132149901382. Current best value is -0.7948717948717948 with parameters: {'w_lr': 0.25932220860425337, 'w_lda': 0.09195697989035678, 'w_sv': 0.6584085004074863, 'w_xgb': 0.23943615391125597, 'w_lgbm': 0.2584978813734697, 'w_mlp': 0.9426610060258075}.\n"
     ]
    },
    {
     "name": "stdout",
     "output_type": "stream",
     "text": [
      "[w_lr, w_lda, w_sv, w_xgb, w_lgbm,w_cb ] =  [0.001 0.057 0.617 0.297 0.231 0.    0.942]\n",
      "norm =  [0.    0.027 0.288 0.138 0.108 0.    0.439]\n",
      "AUC all:  0.7919132149901381\n",
      "\n"
     ]
    },
    {
     "name": "stderr",
     "output_type": "stream",
     "text": [
      "[I 2019-08-24 12:22:34,301] Finished trial#826 resulted in value: -0.7919132149901381. Current best value is -0.7948717948717948 with parameters: {'w_lr': 0.25932220860425337, 'w_lda': 0.09195697989035678, 'w_sv': 0.6584085004074863, 'w_xgb': 0.23943615391125597, 'w_lgbm': 0.2584978813734697, 'w_mlp': 0.9426610060258075}.\n"
     ]
    },
    {
     "name": "stdout",
     "output_type": "stream",
     "text": [
      "[w_lr, w_lda, w_sv, w_xgb, w_lgbm,w_cb ] =  [0.074 0.051 0.58  0.203 0.249 0.    0.902]\n",
      "norm =  [0.036 0.025 0.282 0.099 0.121 0.    0.438]\n",
      "AUC all:  0.7933220625528318\n",
      "\n"
     ]
    },
    {
     "name": "stderr",
     "output_type": "stream",
     "text": [
      "[I 2019-08-24 12:22:35,714] Finished trial#827 resulted in value: -0.7933220625528318. Current best value is -0.7948717948717948 with parameters: {'w_lr': 0.25932220860425337, 'w_lda': 0.09195697989035678, 'w_sv': 0.6584085004074863, 'w_xgb': 0.23943615391125597, 'w_lgbm': 0.2584978813734697, 'w_mlp': 0.9426610060258075}.\n"
     ]
    },
    {
     "name": "stdout",
     "output_type": "stream",
     "text": [
      "[w_lr, w_lda, w_sv, w_xgb, w_lgbm,w_cb ] =  [0.032 0.086 0.624 0.225 0.197 0.    0.949]\n",
      "norm =  [0.015 0.041 0.295 0.107 0.093 0.    0.449]\n",
      "AUC all:  0.7916314454775993\n",
      "\n"
     ]
    },
    {
     "name": "stderr",
     "output_type": "stream",
     "text": [
      "[I 2019-08-24 12:22:37,157] Finished trial#828 resulted in value: -0.7916314454775993. Current best value is -0.7948717948717948 with parameters: {'w_lr': 0.25932220860425337, 'w_lda': 0.09195697989035678, 'w_sv': 0.6584085004074863, 'w_xgb': 0.23943615391125597, 'w_lgbm': 0.2584978813734697, 'w_mlp': 0.9426610060258075}.\n"
     ]
    },
    {
     "name": "stdout",
     "output_type": "stream",
     "text": [
      "[w_lr, w_lda, w_sv, w_xgb, w_lgbm,w_cb ] =  [0.049 0.179 0.598 0.281 0.225 0.    0.902]\n",
      "norm =  [0.022 0.08  0.267 0.126 0.101 0.    0.404]\n",
      "AUC all:  0.78923640462102\n",
      "\n"
     ]
    },
    {
     "name": "stderr",
     "output_type": "stream",
     "text": [
      "[I 2019-08-24 12:22:38,575] Finished trial#829 resulted in value: -0.78923640462102. Current best value is -0.7948717948717948 with parameters: {'w_lr': 0.25932220860425337, 'w_lda': 0.09195697989035678, 'w_sv': 0.6584085004074863, 'w_xgb': 0.23943615391125597, 'w_lgbm': 0.2584978813734697, 'w_mlp': 0.9426610060258075}.\n"
     ]
    },
    {
     "name": "stdout",
     "output_type": "stream",
     "text": [
      "[w_lr, w_lda, w_sv, w_xgb, w_lgbm,w_cb ] =  [0.241 0.105 0.675 0.235 0.262 0.    0.995]\n",
      "norm =  [0.096 0.042 0.268 0.094 0.104 0.    0.396]\n",
      "AUC all:  0.7931811777965624\n",
      "\n"
     ]
    },
    {
     "name": "stderr",
     "output_type": "stream",
     "text": [
      "[I 2019-08-24 12:22:39,990] Finished trial#830 resulted in value: -0.7931811777965624. Current best value is -0.7948717948717948 with parameters: {'w_lr': 0.25932220860425337, 'w_lda': 0.09195697989035678, 'w_sv': 0.6584085004074863, 'w_xgb': 0.23943615391125597, 'w_lgbm': 0.2584978813734697, 'w_mlp': 0.9426610060258075}.\n"
     ]
    },
    {
     "name": "stdout",
     "output_type": "stream",
     "text": [
      "[w_lr, w_lda, w_sv, w_xgb, w_lgbm,w_cb ] =  [0.088 0.021 0.589 0.194 0.242 0.    0.888]\n",
      "norm =  [0.043 0.01  0.291 0.096 0.119 0.    0.439]\n",
      "AUC all:  0.7920540997464074\n",
      "\n"
     ]
    },
    {
     "name": "stderr",
     "output_type": "stream",
     "text": [
      "[I 2019-08-24 12:22:41,417] Finished trial#831 resulted in value: -0.7920540997464074. Current best value is -0.7948717948717948 with parameters: {'w_lr': 0.25932220860425337, 'w_lda': 0.09195697989035678, 'w_sv': 0.6584085004074863, 'w_xgb': 0.23943615391125597, 'w_lgbm': 0.2584978813734697, 'w_mlp': 0.9426610060258075}.\n"
     ]
    },
    {
     "name": "stdout",
     "output_type": "stream",
     "text": [
      "[w_lr, w_lda, w_sv, w_xgb, w_lgbm,w_cb ] =  [0.022 0.08  0.628 0.165 0.217 0.    0.95 ]\n",
      "norm =  [0.01  0.039 0.305 0.08  0.105 0.    0.461]\n",
      "AUC all:  0.7924767540152156\n",
      "\n"
     ]
    },
    {
     "name": "stderr",
     "output_type": "stream",
     "text": [
      "[I 2019-08-24 12:22:42,838] Finished trial#832 resulted in value: -0.7924767540152156. Current best value is -0.7948717948717948 with parameters: {'w_lr': 0.25932220860425337, 'w_lda': 0.09195697989035678, 'w_sv': 0.6584085004074863, 'w_xgb': 0.23943615391125597, 'w_lgbm': 0.2584978813734697, 'w_mlp': 0.9426610060258075}.\n"
     ]
    },
    {
     "name": "stdout",
     "output_type": "stream",
     "text": [
      "[w_lr, w_lda, w_sv, w_xgb, w_lgbm,w_cb ] =  [0.001 0.131 0.566 0.244 0.292 0.    0.92 ]\n",
      "norm =  [0.    0.061 0.263 0.113 0.136 0.    0.427]\n",
      "AUC all:  0.7928994082840237\n",
      "\n"
     ]
    },
    {
     "name": "stderr",
     "output_type": "stream",
     "text": [
      "[I 2019-08-24 12:22:44,264] Finished trial#833 resulted in value: -0.7928994082840237. Current best value is -0.7948717948717948 with parameters: {'w_lr': 0.25932220860425337, 'w_lda': 0.09195697989035678, 'w_sv': 0.6584085004074863, 'w_xgb': 0.23943615391125597, 'w_lgbm': 0.2584978813734697, 'w_mlp': 0.9426610060258075}.\n"
     ]
    },
    {
     "name": "stdout",
     "output_type": "stream",
     "text": [
      "[w_lr, w_lda, w_sv, w_xgb, w_lgbm,w_cb ] =  [0.534 0.1   0.645 0.212 0.271 0.    0.934]\n",
      "norm =  [0.198 0.037 0.239 0.079 0.101 0.    0.346]\n",
      "AUC all:  0.7924767540152156\n",
      "\n"
     ]
    },
    {
     "name": "stderr",
     "output_type": "stream",
     "text": [
      "[I 2019-08-24 12:22:45,688] Finished trial#834 resulted in value: -0.7924767540152156. Current best value is -0.7948717948717948 with parameters: {'w_lr': 0.25932220860425337, 'w_lda': 0.09195697989035678, 'w_sv': 0.6584085004074863, 'w_xgb': 0.23943615391125597, 'w_lgbm': 0.2584978813734697, 'w_mlp': 0.9426610060258075}.\n"
     ]
    },
    {
     "name": "stdout",
     "output_type": "stream",
     "text": [
      "[w_lr, w_lda, w_sv, w_xgb, w_lgbm,w_cb ] =  [0.021 0.149 0.615 0.281 0.236 0.    0.849]\n",
      "norm =  [0.01  0.069 0.286 0.131 0.11  0.    0.395]\n",
      "AUC all:  0.7916314454775994\n",
      "\n"
     ]
    },
    {
     "name": "stderr",
     "output_type": "stream",
     "text": [
      "[I 2019-08-24 12:22:47,114] Finished trial#835 resulted in value: -0.7916314454775994. Current best value is -0.7948717948717948 with parameters: {'w_lr': 0.25932220860425337, 'w_lda': 0.09195697989035678, 'w_sv': 0.6584085004074863, 'w_xgb': 0.23943615391125597, 'w_lgbm': 0.2584978813734697, 'w_mlp': 0.9426610060258075}.\n"
     ]
    },
    {
     "name": "stdout",
     "output_type": "stream",
     "text": [
      "[w_lr, w_lda, w_sv, w_xgb, w_lgbm,w_cb ] =  [0.046 0.074 0.63  0.259 0.25  0.    0.944]\n",
      "norm =  [0.021 0.033 0.286 0.117 0.114 0.    0.429]\n",
      "AUC all:  0.793040293040293\n",
      "\n"
     ]
    },
    {
     "name": "stderr",
     "output_type": "stream",
     "text": [
      "[I 2019-08-24 12:22:48,546] Finished trial#836 resulted in value: -0.793040293040293. Current best value is -0.7948717948717948 with parameters: {'w_lr': 0.25932220860425337, 'w_lda': 0.09195697989035678, 'w_sv': 0.6584085004074863, 'w_xgb': 0.23943615391125597, 'w_lgbm': 0.2584978813734697, 'w_mlp': 0.9426610060258075}.\n"
     ]
    },
    {
     "name": "stdout",
     "output_type": "stream",
     "text": [
      "[w_lr, w_lda, w_sv, w_xgb, w_lgbm,w_cb ] =  [0.017 0.117 0.554 0.264 0.284 0.    0.961]\n",
      "norm =  [0.008 0.053 0.252 0.12  0.129 0.    0.438]\n",
      "AUC all:  0.7937447168216399\n",
      "\n"
     ]
    },
    {
     "name": "stderr",
     "output_type": "stream",
     "text": [
      "[I 2019-08-24 12:22:49,977] Finished trial#837 resulted in value: -0.7937447168216399. Current best value is -0.7948717948717948 with parameters: {'w_lr': 0.25932220860425337, 'w_lda': 0.09195697989035678, 'w_sv': 0.6584085004074863, 'w_xgb': 0.23943615391125597, 'w_lgbm': 0.2584978813734697, 'w_mlp': 0.9426610060258075}.\n"
     ]
    },
    {
     "name": "stdout",
     "output_type": "stream",
     "text": [
      "[w_lr, w_lda, w_sv, w_xgb, w_lgbm,w_cb ] =  [0.062 0.142 0.604 0.306 0.176 0.    0.779]\n",
      "norm =  [0.03  0.069 0.292 0.148 0.085 0.    0.376]\n",
      "AUC all:  0.7889546351084813\n",
      "\n"
     ]
    },
    {
     "name": "stderr",
     "output_type": "stream",
     "text": [
      "[I 2019-08-24 12:22:51,400] Finished trial#838 resulted in value: -0.7889546351084813. Current best value is -0.7948717948717948 with parameters: {'w_lr': 0.25932220860425337, 'w_lda': 0.09195697989035678, 'w_sv': 0.6584085004074863, 'w_xgb': 0.23943615391125597, 'w_lgbm': 0.2584978813734697, 'w_mlp': 0.9426610060258075}.\n"
     ]
    },
    {
     "name": "stdout",
     "output_type": "stream",
     "text": [
      "[w_lr, w_lda, w_sv, w_xgb, w_lgbm,w_cb ] =  [0.    0.093 0.649 0.231 0.272 0.    0.93 ]\n",
      "norm =  [0.    0.043 0.298 0.106 0.125 0.    0.428]\n",
      "AUC all:  0.7934629473091012\n",
      "\n"
     ]
    },
    {
     "name": "stderr",
     "output_type": "stream",
     "text": [
      "[I 2019-08-24 12:22:52,841] Finished trial#839 resulted in value: -0.7934629473091012. Current best value is -0.7948717948717948 with parameters: {'w_lr': 0.25932220860425337, 'w_lda': 0.09195697989035678, 'w_sv': 0.6584085004074863, 'w_xgb': 0.23943615391125597, 'w_lgbm': 0.2584978813734697, 'w_mlp': 0.9426610060258075}.\n"
     ]
    },
    {
     "name": "stdout",
     "output_type": "stream",
     "text": [
      "[w_lr, w_lda, w_sv, w_xgb, w_lgbm,w_cb ] =  [0.376 0.063 0.621 0.209 0.227 0.    0.952]\n",
      "norm =  [0.154 0.026 0.254 0.085 0.093 0.    0.389]\n",
      "AUC all:  0.7920540997464074\n",
      "\n"
     ]
    },
    {
     "name": "stderr",
     "output_type": "stream",
     "text": [
      "[I 2019-08-24 12:22:54,293] Finished trial#840 resulted in value: -0.7920540997464074. Current best value is -0.7948717948717948 with parameters: {'w_lr': 0.25932220860425337, 'w_lda': 0.09195697989035678, 'w_sv': 0.6584085004074863, 'w_xgb': 0.23943615391125597, 'w_lgbm': 0.2584978813734697, 'w_mlp': 0.9426610060258075}.\n"
     ]
    },
    {
     "name": "stdout",
     "output_type": "stream",
     "text": [
      "[w_lr, w_lda, w_sv, w_xgb, w_lgbm,w_cb ] =  [0.199 0.117 0.664 0.245 0.255 0.    0.98 ]\n",
      "norm =  [0.081 0.048 0.27  0.1   0.104 0.    0.398]\n",
      "AUC all:  0.7924767540152156\n",
      "\n"
     ]
    },
    {
     "name": "stderr",
     "output_type": "stream",
     "text": [
      "[I 2019-08-24 12:22:55,719] Finished trial#841 resulted in value: -0.7924767540152156. Current best value is -0.7948717948717948 with parameters: {'w_lr': 0.25932220860425337, 'w_lda': 0.09195697989035678, 'w_sv': 0.6584085004074863, 'w_xgb': 0.23943615391125597, 'w_lgbm': 0.2584978813734697, 'w_mlp': 0.9426610060258075}.\n"
     ]
    },
    {
     "name": "stdout",
     "output_type": "stream",
     "text": [
      "[w_lr, w_lda, w_sv, w_xgb, w_lgbm,w_cb ] =  [0.032 0.093 0.641 0.229 0.275 0.    0.929]\n",
      "norm =  [0.014 0.042 0.291 0.104 0.125 0.    0.423]\n",
      "AUC all:  0.7933220625528317\n",
      "\n"
     ]
    },
    {
     "name": "stderr",
     "output_type": "stream",
     "text": [
      "[I 2019-08-24 12:22:57,162] Finished trial#842 resulted in value: -0.7933220625528317. Current best value is -0.7948717948717948 with parameters: {'w_lr': 0.25932220860425337, 'w_lda': 0.09195697989035678, 'w_sv': 0.6584085004074863, 'w_xgb': 0.23943615391125597, 'w_lgbm': 0.2584978813734697, 'w_mlp': 0.9426610060258075}.\n"
     ]
    },
    {
     "name": "stdout",
     "output_type": "stream",
     "text": [
      "[w_lr, w_lda, w_sv, w_xgb, w_lgbm,w_cb ] =  [0.002 0.11  0.609 0.288 0.205 0.    0.95 ]\n",
      "norm =  [0.001 0.051 0.281 0.133 0.095 0.    0.439]\n",
      "AUC all:  0.7907861369399831\n",
      "\n"
     ]
    },
    {
     "name": "stderr",
     "output_type": "stream",
     "text": [
      "[I 2019-08-24 12:22:58,590] Finished trial#843 resulted in value: -0.7907861369399831. Current best value is -0.7948717948717948 with parameters: {'w_lr': 0.25932220860425337, 'w_lda': 0.09195697989035678, 'w_sv': 0.6584085004074863, 'w_xgb': 0.23943615391125597, 'w_lgbm': 0.2584978813734697, 'w_mlp': 0.9426610060258075}.\n"
     ]
    },
    {
     "name": "stdout",
     "output_type": "stream",
     "text": [
      "[w_lr, w_lda, w_sv, w_xgb, w_lgbm,w_cb ] =  [0.191 0.077 0.574 0.186 0.249 0.    0.969]\n",
      "norm =  [0.085 0.034 0.256 0.083 0.111 0.    0.432]\n",
      "AUC all:  0.7919132149901381\n",
      "\n"
     ]
    },
    {
     "name": "stderr",
     "output_type": "stream",
     "text": [
      "[I 2019-08-24 12:23:00,027] Finished trial#844 resulted in value: -0.7919132149901381. Current best value is -0.7948717948717948 with parameters: {'w_lr': 0.25932220860425337, 'w_lda': 0.09195697989035678, 'w_sv': 0.6584085004074863, 'w_xgb': 0.23943615391125597, 'w_lgbm': 0.2584978813734697, 'w_mlp': 0.9426610060258075}.\n"
     ]
    },
    {
     "name": "stdout",
     "output_type": "stream",
     "text": [
      "[w_lr, w_lda, w_sv, w_xgb, w_lgbm,w_cb ] =  [0.019 0.474 0.625 0.27  0.234 0.    0.742]\n",
      "norm =  [0.008 0.201 0.264 0.114 0.099 0.    0.314]\n",
      "AUC all:  0.7830374753451677\n",
      "\n"
     ]
    },
    {
     "name": "stderr",
     "output_type": "stream",
     "text": [
      "[I 2019-08-24 12:23:01,481] Finished trial#845 resulted in value: -0.7830374753451677. Current best value is -0.7948717948717948 with parameters: {'w_lr': 0.25932220860425337, 'w_lda': 0.09195697989035678, 'w_sv': 0.6584085004074863, 'w_xgb': 0.23943615391125597, 'w_lgbm': 0.2584978813734697, 'w_mlp': 0.9426610060258075}.\n"
     ]
    },
    {
     "name": "stdout",
     "output_type": "stream",
     "text": [
      "[w_lr, w_lda, w_sv, w_xgb, w_lgbm,w_cb ] =  [0.212 0.137 0.562 0.239 0.262 0.    0.991]\n",
      "norm =  [0.088 0.057 0.234 0.1   0.109 0.    0.412]\n",
      "AUC all:  0.7919132149901381\n",
      "\n"
     ]
    },
    {
     "name": "stderr",
     "output_type": "stream",
     "text": [
      "[I 2019-08-24 12:23:02,949] Finished trial#846 resulted in value: -0.7919132149901381. Current best value is -0.7948717948717948 with parameters: {'w_lr': 0.25932220860425337, 'w_lda': 0.09195697989035678, 'w_sv': 0.6584085004074863, 'w_xgb': 0.23943615391125597, 'w_lgbm': 0.2584978813734697, 'w_mlp': 0.9426610060258075}.\n"
     ]
    },
    {
     "name": "stdout",
     "output_type": "stream",
     "text": [
      "[w_lr, w_lda, w_sv, w_xgb, w_lgbm,w_cb ] =  [0.047 0.16  0.607 0.326 0.189 0.    0.861]\n",
      "norm =  [0.021 0.073 0.277 0.149 0.086 0.    0.393]\n",
      "AUC all:  0.7883910960834037\n",
      "\n"
     ]
    },
    {
     "name": "stderr",
     "output_type": "stream",
     "text": [
      "[I 2019-08-24 12:23:04,397] Finished trial#847 resulted in value: -0.7883910960834037. Current best value is -0.7948717948717948 with parameters: {'w_lr': 0.25932220860425337, 'w_lda': 0.09195697989035678, 'w_sv': 0.6584085004074863, 'w_xgb': 0.23943615391125597, 'w_lgbm': 0.2584978813734697, 'w_mlp': 0.9426610060258075}.\n"
     ]
    },
    {
     "name": "stdout",
     "output_type": "stream",
     "text": [
      "[w_lr, w_lda, w_sv, w_xgb, w_lgbm,w_cb ] =  [0.035 0.044 0.633 0.252 0.213 0.    0.943]\n",
      "norm =  [0.017 0.021 0.299 0.119 0.1   0.    0.445]\n",
      "AUC all:  0.793040293040293\n",
      "\n"
     ]
    },
    {
     "name": "stderr",
     "output_type": "stream",
     "text": [
      "[I 2019-08-24 12:23:05,850] Finished trial#848 resulted in value: -0.793040293040293. Current best value is -0.7948717948717948 with parameters: {'w_lr': 0.25932220860425337, 'w_lda': 0.09195697989035678, 'w_sv': 0.6584085004074863, 'w_xgb': 0.23943615391125597, 'w_lgbm': 0.2584978813734697, 'w_mlp': 0.9426610060258075}.\n"
     ]
    },
    {
     "name": "stdout",
     "output_type": "stream",
     "text": [
      "[w_lr, w_lda, w_sv, w_xgb, w_lgbm,w_cb ] =  [0.264 0.104 0.659 0.22  0.304 0.    0.967]\n",
      "norm =  [0.105 0.041 0.262 0.087 0.121 0.    0.384]\n",
      "AUC all:  0.7920540997464075\n",
      "\n"
     ]
    },
    {
     "name": "stderr",
     "output_type": "stream",
     "text": [
      "[I 2019-08-24 12:23:07,310] Finished trial#849 resulted in value: -0.7920540997464075. Current best value is -0.7948717948717948 with parameters: {'w_lr': 0.25932220860425337, 'w_lda': 0.09195697989035678, 'w_sv': 0.6584085004074863, 'w_xgb': 0.23943615391125597, 'w_lgbm': 0.2584978813734697, 'w_mlp': 0.9426610060258075}.\n"
     ]
    },
    {
     "name": "stdout",
     "output_type": "stream",
     "text": [
      "[w_lr, w_lda, w_sv, w_xgb, w_lgbm,w_cb ] =  [0.125 0.067 0.642 0.269 0.306 0.    0.961]\n",
      "norm =  [0.053 0.028 0.271 0.114 0.129 0.    0.405]\n",
      "AUC all:  0.7921949845026768\n",
      "\n"
     ]
    },
    {
     "name": "stderr",
     "output_type": "stream",
     "text": [
      "[I 2019-08-24 12:23:08,787] Finished trial#850 resulted in value: -0.7921949845026768. Current best value is -0.7948717948717948 with parameters: {'w_lr': 0.25932220860425337, 'w_lda': 0.09195697989035678, 'w_sv': 0.6584085004074863, 'w_xgb': 0.23943615391125597, 'w_lgbm': 0.2584978813734697, 'w_mlp': 0.9426610060258075}.\n"
     ]
    },
    {
     "name": "stdout",
     "output_type": "stream",
     "text": [
      "[w_lr, w_lda, w_sv, w_xgb, w_lgbm,w_cb ] =  [0.18  0.123 0.579 0.209 0.259 0.    0.982]\n",
      "norm =  [0.077 0.053 0.248 0.09  0.111 0.    0.421]\n",
      "AUC all:  0.7916314454775992\n",
      "\n"
     ]
    },
    {
     "name": "stderr",
     "output_type": "stream",
     "text": [
      "[I 2019-08-24 12:23:10,233] Finished trial#851 resulted in value: -0.7916314454775992. Current best value is -0.7948717948717948 with parameters: {'w_lr': 0.25932220860425337, 'w_lda': 0.09195697989035678, 'w_sv': 0.6584085004074863, 'w_xgb': 0.23943615391125597, 'w_lgbm': 0.2584978813734697, 'w_mlp': 0.9426610060258075}.\n"
     ]
    },
    {
     "name": "stdout",
     "output_type": "stream",
     "text": [
      "[w_lr, w_lda, w_sv, w_xgb, w_lgbm,w_cb ] =  [0.265 0.09  0.657 0.259 0.336 0.    0.96 ]\n",
      "norm =  [0.103 0.035 0.256 0.101 0.131 0.    0.374]\n",
      "AUC all:  0.7912087912087913\n",
      "\n"
     ]
    },
    {
     "name": "stderr",
     "output_type": "stream",
     "text": [
      "[I 2019-08-24 12:23:11,677] Finished trial#852 resulted in value: -0.7912087912087913. Current best value is -0.7948717948717948 with parameters: {'w_lr': 0.25932220860425337, 'w_lda': 0.09195697989035678, 'w_sv': 0.6584085004074863, 'w_xgb': 0.23943615391125597, 'w_lgbm': 0.2584978813734697, 'w_mlp': 0.9426610060258075}.\n"
     ]
    },
    {
     "name": "stdout",
     "output_type": "stream",
     "text": [
      "[w_lr, w_lda, w_sv, w_xgb, w_lgbm,w_cb ] =  [0.309 0.079 0.616 0.296 0.237 0.    0.942]\n",
      "norm =  [0.125 0.032 0.249 0.119 0.096 0.    0.38 ]\n",
      "AUC all:  0.791913214990138\n",
      "\n"
     ]
    },
    {
     "name": "stderr",
     "output_type": "stream",
     "text": [
      "[I 2019-08-24 12:23:13,126] Finished trial#853 resulted in value: -0.791913214990138. Current best value is -0.7948717948717948 with parameters: {'w_lr': 0.25932220860425337, 'w_lda': 0.09195697989035678, 'w_sv': 0.6584085004074863, 'w_xgb': 0.23943615391125597, 'w_lgbm': 0.2584978813734697, 'w_mlp': 0.9426610060258075}.\n"
     ]
    },
    {
     "name": "stdout",
     "output_type": "stream",
     "text": [
      "[w_lr, w_lda, w_sv, w_xgb, w_lgbm,w_cb ] =  [0.017 0.117 0.629 0.604 0.279 0.    0.616]\n",
      "norm =  [0.007 0.052 0.278 0.267 0.123 0.    0.272]\n",
      "AUC all:  0.7896590588898282\n",
      "\n"
     ]
    },
    {
     "name": "stderr",
     "output_type": "stream",
     "text": [
      "[I 2019-08-24 12:23:14,567] Finished trial#854 resulted in value: -0.7896590588898282. Current best value is -0.7948717948717948 with parameters: {'w_lr': 0.25932220860425337, 'w_lda': 0.09195697989035678, 'w_sv': 0.6584085004074863, 'w_xgb': 0.23943615391125597, 'w_lgbm': 0.2584978813734697, 'w_mlp': 0.9426610060258075}.\n"
     ]
    },
    {
     "name": "stdout",
     "output_type": "stream",
     "text": [
      "[w_lr, w_lda, w_sv, w_xgb, w_lgbm,w_cb ] =  [0.255 0.097 0.546 0.253 0.3   0.    0.959]\n",
      "norm =  [0.106 0.04  0.226 0.105 0.124 0.    0.398]\n",
      "AUC all:  0.7927585235277543\n",
      "\n"
     ]
    },
    {
     "name": "stderr",
     "output_type": "stream",
     "text": [
      "[I 2019-08-24 12:23:16,027] Finished trial#855 resulted in value: -0.7927585235277543. Current best value is -0.7948717948717948 with parameters: {'w_lr': 0.25932220860425337, 'w_lda': 0.09195697989035678, 'w_sv': 0.6584085004074863, 'w_xgb': 0.23943615391125597, 'w_lgbm': 0.2584978813734697, 'w_mlp': 0.9426610060258075}.\n"
     ]
    },
    {
     "name": "stdout",
     "output_type": "stream",
     "text": [
      "[w_lr, w_lda, w_sv, w_xgb, w_lgbm,w_cb ] =  [0.    0.056 0.638 0.238 0.278 0.    0.968]\n",
      "norm =  [0.    0.026 0.293 0.109 0.128 0.    0.444]\n",
      "AUC all:  0.7931811777965625\n",
      "\n"
     ]
    },
    {
     "name": "stderr",
     "output_type": "stream",
     "text": [
      "[I 2019-08-24 12:23:17,486] Finished trial#856 resulted in value: -0.7931811777965625. Current best value is -0.7948717948717948 with parameters: {'w_lr': 0.25932220860425337, 'w_lda': 0.09195697989035678, 'w_sv': 0.6584085004074863, 'w_xgb': 0.23943615391125597, 'w_lgbm': 0.2584978813734697, 'w_mlp': 0.9426610060258075}.\n"
     ]
    },
    {
     "name": "stdout",
     "output_type": "stream",
     "text": [
      "[w_lr, w_lda, w_sv, w_xgb, w_lgbm,w_cb ] =  [0.231 0.137 0.677 0.273 0.309 0.    0.954]\n",
      "norm =  [0.09  0.053 0.262 0.106 0.12  0.    0.37 ]\n",
      "AUC all:  0.7928994082840237\n",
      "\n"
     ]
    },
    {
     "name": "stderr",
     "output_type": "stream",
     "text": [
      "[I 2019-08-24 12:23:18,944] Finished trial#857 resulted in value: -0.7928994082840237. Current best value is -0.7948717948717948 with parameters: {'w_lr': 0.25932220860425337, 'w_lda': 0.09195697989035678, 'w_sv': 0.6584085004074863, 'w_xgb': 0.23943615391125597, 'w_lgbm': 0.2584978813734697, 'w_mlp': 0.9426610060258075}.\n"
     ]
    },
    {
     "name": "stdout",
     "output_type": "stream",
     "text": [
      "[w_lr, w_lda, w_sv, w_xgb, w_lgbm,w_cb ] =  [0.001 0.087 0.553 0.195 0.272 0.    0.931]\n",
      "norm =  [0.001 0.043 0.271 0.096 0.133 0.    0.457]\n",
      "AUC all:  0.7931811777965624\n",
      "\n"
     ]
    },
    {
     "name": "stderr",
     "output_type": "stream",
     "text": [
      "[I 2019-08-24 12:23:20,390] Finished trial#858 resulted in value: -0.7931811777965624. Current best value is -0.7948717948717948 with parameters: {'w_lr': 0.25932220860425337, 'w_lda': 0.09195697989035678, 'w_sv': 0.6584085004074863, 'w_xgb': 0.23943615391125597, 'w_lgbm': 0.2584978813734697, 'w_mlp': 0.9426610060258075}.\n"
     ]
    },
    {
     "name": "stdout",
     "output_type": "stream",
     "text": [
      "[w_lr, w_lda, w_sv, w_xgb, w_lgbm,w_cb ] =  [0.253 0.432 0.567 0.289 0.321 0.    0.769]\n",
      "norm =  [0.096 0.164 0.216 0.11  0.122 0.    0.292]\n",
      "AUC all:  0.7865595942519019\n",
      "\n"
     ]
    },
    {
     "name": "stderr",
     "output_type": "stream",
     "text": [
      "[I 2019-08-24 12:23:21,871] Finished trial#859 resulted in value: -0.7865595942519019. Current best value is -0.7948717948717948 with parameters: {'w_lr': 0.25932220860425337, 'w_lda': 0.09195697989035678, 'w_sv': 0.6584085004074863, 'w_xgb': 0.23943615391125597, 'w_lgbm': 0.2584978813734697, 'w_mlp': 0.9426610060258075}.\n"
     ]
    },
    {
     "name": "stdout",
     "output_type": "stream",
     "text": [
      "[w_lr, w_lda, w_sv, w_xgb, w_lgbm,w_cb ] =  [0.    0.224 0.65  0.181 0.242 0.    0.919]\n",
      "norm =  [0.    0.101 0.293 0.082 0.109 0.    0.415]\n",
      "AUC all:  0.78923640462102\n",
      "\n"
     ]
    },
    {
     "name": "stderr",
     "output_type": "stream",
     "text": [
      "[I 2019-08-24 12:23:23,334] Finished trial#860 resulted in value: -0.78923640462102. Current best value is -0.7948717948717948 with parameters: {'w_lr': 0.25932220860425337, 'w_lda': 0.09195697989035678, 'w_sv': 0.6584085004074863, 'w_xgb': 0.23943615391125597, 'w_lgbm': 0.2584978813734697, 'w_mlp': 0.9426610060258075}.\n"
     ]
    },
    {
     "name": "stdout",
     "output_type": "stream",
     "text": [
      "[w_lr, w_lda, w_sv, w_xgb, w_lgbm,w_cb ] =  [0.045 0.064 0.62  0.134 0.219 0.    0.942]\n",
      "norm =  [0.022 0.032 0.306 0.066 0.108 0.    0.465]\n",
      "AUC all:  0.7921949845026769\n",
      "\n"
     ]
    },
    {
     "name": "stderr",
     "output_type": "stream",
     "text": [
      "[I 2019-08-24 12:23:24,791] Finished trial#861 resulted in value: -0.7921949845026769. Current best value is -0.7948717948717948 with parameters: {'w_lr': 0.25932220860425337, 'w_lda': 0.09195697989035678, 'w_sv': 0.6584085004074863, 'w_xgb': 0.23943615391125597, 'w_lgbm': 0.2584978813734697, 'w_mlp': 0.9426610060258075}.\n"
     ]
    },
    {
     "name": "stdout",
     "output_type": "stream",
     "text": [
      "[w_lr, w_lda, w_sv, w_xgb, w_lgbm,w_cb ] =  [0.022 0.17  0.53  0.313 0.257 0.    0.923]\n",
      "norm =  [0.01  0.077 0.239 0.141 0.116 0.    0.417]\n",
      "AUC all:  0.7906452521837137\n",
      "\n"
     ]
    },
    {
     "name": "stderr",
     "output_type": "stream",
     "text": [
      "[I 2019-08-24 12:23:26,256] Finished trial#862 resulted in value: -0.7906452521837137. Current best value is -0.7948717948717948 with parameters: {'w_lr': 0.25932220860425337, 'w_lda': 0.09195697989035678, 'w_sv': 0.6584085004074863, 'w_xgb': 0.23943615391125597, 'w_lgbm': 0.2584978813734697, 'w_mlp': 0.9426610060258075}.\n"
     ]
    },
    {
     "name": "stdout",
     "output_type": "stream",
     "text": [
      "[w_lr, w_lda, w_sv, w_xgb, w_lgbm,w_cb ] =  [0.061 0.033 0.634 0.275 0.229 0.    0.938]\n",
      "norm =  [0.028 0.015 0.292 0.127 0.105 0.    0.432]\n",
      "AUC all:  0.7919132149901381\n",
      "\n"
     ]
    },
    {
     "name": "stderr",
     "output_type": "stream",
     "text": [
      "[I 2019-08-24 12:23:27,737] Finished trial#863 resulted in value: -0.7919132149901381. Current best value is -0.7948717948717948 with parameters: {'w_lr': 0.25932220860425337, 'w_lda': 0.09195697989035678, 'w_sv': 0.6584085004074863, 'w_xgb': 0.23943615391125597, 'w_lgbm': 0.2584978813734697, 'w_mlp': 0.9426610060258075}.\n"
     ]
    },
    {
     "name": "stdout",
     "output_type": "stream",
     "text": [
      "[w_lr, w_lda, w_sv, w_xgb, w_lgbm,w_cb ] =  [0.209 0.104 0.508 0.221 0.251 0.    0.977]\n",
      "norm =  [0.092 0.046 0.224 0.097 0.111 0.    0.43 ]\n",
      "AUC all:  0.7921949845026768\n",
      "\n"
     ]
    },
    {
     "name": "stderr",
     "output_type": "stream",
     "text": [
      "[I 2019-08-24 12:23:29,221] Finished trial#864 resulted in value: -0.7921949845026768. Current best value is -0.7948717948717948 with parameters: {'w_lr': 0.25932220860425337, 'w_lda': 0.09195697989035678, 'w_sv': 0.6584085004074863, 'w_xgb': 0.23943615391125597, 'w_lgbm': 0.2584978813734697, 'w_mlp': 0.9426610060258075}.\n"
     ]
    },
    {
     "name": "stdout",
     "output_type": "stream",
     "text": [
      "[w_lr, w_lda, w_sv, w_xgb, w_lgbm,w_cb ] =  [0.098 0.014 0.593 0.235 0.249 0.    0.899]\n",
      "norm =  [0.047 0.007 0.284 0.113 0.119 0.    0.43 ]\n",
      "AUC all:  0.7921949845026768\n",
      "\n"
     ]
    },
    {
     "name": "stderr",
     "output_type": "stream",
     "text": [
      "[I 2019-08-24 12:23:30,676] Finished trial#865 resulted in value: -0.7921949845026768. Current best value is -0.7948717948717948 with parameters: {'w_lr': 0.25932220860425337, 'w_lda': 0.09195697989035678, 'w_sv': 0.6584085004074863, 'w_xgb': 0.23943615391125597, 'w_lgbm': 0.2584978813734697, 'w_mlp': 0.9426610060258075}.\n"
     ]
    },
    {
     "name": "stdout",
     "output_type": "stream",
     "text": [
      "[w_lr, w_lda, w_sv, w_xgb, w_lgbm,w_cb ] =  [0.157 0.074 0.638 0.212 0.284 0.    0.968]\n",
      "norm =  [0.067 0.032 0.273 0.091 0.122 0.    0.415]\n",
      "AUC all:  0.793462947309101\n",
      "\n"
     ]
    },
    {
     "name": "stderr",
     "output_type": "stream",
     "text": [
      "[I 2019-08-24 12:23:32,149] Finished trial#866 resulted in value: -0.793462947309101. Current best value is -0.7948717948717948 with parameters: {'w_lr': 0.25932220860425337, 'w_lda': 0.09195697989035678, 'w_sv': 0.6584085004074863, 'w_xgb': 0.23943615391125597, 'w_lgbm': 0.2584978813734697, 'w_mlp': 0.9426610060258075}.\n"
     ]
    },
    {
     "name": "stdout",
     "output_type": "stream",
     "text": [
      "[w_lr, w_lda, w_sv, w_xgb, w_lgbm,w_cb ] =  [0.072 0.145 0.606 0.308 0.196 0.    0.908]\n",
      "norm =  [0.032 0.065 0.271 0.138 0.088 0.    0.406]\n",
      "AUC all:  0.7890955198647507\n",
      "\n"
     ]
    },
    {
     "name": "stderr",
     "output_type": "stream",
     "text": [
      "[I 2019-08-24 12:23:33,631] Finished trial#867 resulted in value: -0.7890955198647507. Current best value is -0.7948717948717948 with parameters: {'w_lr': 0.25932220860425337, 'w_lda': 0.09195697989035678, 'w_sv': 0.6584085004074863, 'w_xgb': 0.23943615391125597, 'w_lgbm': 0.2584978813734697, 'w_mlp': 0.9426610060258075}.\n"
     ]
    },
    {
     "name": "stdout",
     "output_type": "stream",
     "text": [
      "[w_lr, w_lda, w_sv, w_xgb, w_lgbm,w_cb ] =  [0.036 0.123 0.587 0.294 0.221 0.    0.902]\n",
      "norm =  [0.017 0.057 0.271 0.136 0.102 0.    0.417]\n",
      "AUC all:  0.7896590588898282\n",
      "\n"
     ]
    },
    {
     "name": "stderr",
     "output_type": "stream",
     "text": [
      "[I 2019-08-24 12:23:35,135] Finished trial#868 resulted in value: -0.7896590588898282. Current best value is -0.7948717948717948 with parameters: {'w_lr': 0.25932220860425337, 'w_lda': 0.09195697989035678, 'w_sv': 0.6584085004074863, 'w_xgb': 0.23943615391125597, 'w_lgbm': 0.2584978813734697, 'w_mlp': 0.9426610060258075}.\n"
     ]
    },
    {
     "name": "stdout",
     "output_type": "stream",
     "text": [
      "[w_lr, w_lda, w_sv, w_xgb, w_lgbm,w_cb ] =  [0.077 0.057 0.591 0.242 0.261 0.    0.89 ]\n",
      "norm =  [0.036 0.027 0.279 0.114 0.123 0.    0.42 ]\n",
      "AUC all:  0.793040293040293\n",
      "\n"
     ]
    },
    {
     "name": "stderr",
     "output_type": "stream",
     "text": [
      "[I 2019-08-24 12:23:36,611] Finished trial#869 resulted in value: -0.793040293040293. Current best value is -0.7948717948717948 with parameters: {'w_lr': 0.25932220860425337, 'w_lda': 0.09195697989035678, 'w_sv': 0.6584085004074863, 'w_xgb': 0.23943615391125597, 'w_lgbm': 0.2584978813734697, 'w_mlp': 0.9426610060258075}.\n"
     ]
    },
    {
     "name": "stdout",
     "output_type": "stream",
     "text": [
      "[w_lr, w_lda, w_sv, w_xgb, w_lgbm,w_cb ] =  [0.024 0.122 0.6   0.276 0.239 0.    0.874]\n",
      "norm =  [0.011 0.057 0.281 0.129 0.112 0.    0.409]\n",
      "AUC all:  0.7930402930402931\n",
      "\n"
     ]
    },
    {
     "name": "stderr",
     "output_type": "stream",
     "text": [
      "[I 2019-08-24 12:23:38,080] Finished trial#870 resulted in value: -0.7930402930402931. Current best value is -0.7948717948717948 with parameters: {'w_lr': 0.25932220860425337, 'w_lda': 0.09195697989035678, 'w_sv': 0.6584085004074863, 'w_xgb': 0.23943615391125597, 'w_lgbm': 0.2584978813734697, 'w_mlp': 0.9426610060258075}.\n"
     ]
    },
    {
     "name": "stdout",
     "output_type": "stream",
     "text": [
      "[w_lr, w_lda, w_sv, w_xgb, w_lgbm,w_cb ] =  [0.129 0.103 0.653 0.251 0.29  0.    0.917]\n",
      "norm =  [0.055 0.044 0.279 0.107 0.124 0.    0.391]\n",
      "AUC all:  0.793040293040293\n",
      "\n"
     ]
    },
    {
     "name": "stderr",
     "output_type": "stream",
     "text": [
      "[I 2019-08-24 12:23:39,571] Finished trial#871 resulted in value: -0.793040293040293. Current best value is -0.7948717948717948 with parameters: {'w_lr': 0.25932220860425337, 'w_lda': 0.09195697989035678, 'w_sv': 0.6584085004074863, 'w_xgb': 0.23943615391125597, 'w_lgbm': 0.2584978813734697, 'w_mlp': 0.9426610060258075}.\n"
     ]
    },
    {
     "name": "stdout",
     "output_type": "stream",
     "text": [
      "[w_lr, w_lda, w_sv, w_xgb, w_lgbm,w_cb ] =  [0.175 0.085 0.693 0.224 0.264 0.    0.994]\n",
      "norm =  [0.072 0.035 0.284 0.092 0.109 0.    0.408]\n",
      "AUC all:  0.7934629473091012\n",
      "\n"
     ]
    },
    {
     "name": "stderr",
     "output_type": "stream",
     "text": [
      "[I 2019-08-24 12:23:41,036] Finished trial#872 resulted in value: -0.7934629473091012. Current best value is -0.7948717948717948 with parameters: {'w_lr': 0.25932220860425337, 'w_lda': 0.09195697989035678, 'w_sv': 0.6584085004074863, 'w_xgb': 0.23943615391125597, 'w_lgbm': 0.2584978813734697, 'w_mlp': 0.9426610060258075}.\n"
     ]
    },
    {
     "name": "stdout",
     "output_type": "stream",
     "text": [
      "[w_lr, w_lda, w_sv, w_xgb, w_lgbm,w_cb ] =  [0.232 0.105 0.569 0.257 0.296 0.    0.951]\n",
      "norm =  [0.096 0.044 0.236 0.107 0.123 0.    0.395]\n",
      "AUC all:  0.7934629473091012\n",
      "\n"
     ]
    },
    {
     "name": "stderr",
     "output_type": "stream",
     "text": [
      "[I 2019-08-24 12:23:42,526] Finished trial#873 resulted in value: -0.7934629473091012. Current best value is -0.7948717948717948 with parameters: {'w_lr': 0.25932220860425337, 'w_lda': 0.09195697989035678, 'w_sv': 0.6584085004074863, 'w_xgb': 0.23943615391125597, 'w_lgbm': 0.2584978813734697, 'w_mlp': 0.9426610060258075}.\n"
     ]
    },
    {
     "name": "stdout",
     "output_type": "stream",
     "text": [
      "[w_lr, w_lda, w_sv, w_xgb, w_lgbm,w_cb ] =  [0.284 0.196 0.575 0.26  0.312 0.    0.956]\n",
      "norm =  [0.11  0.076 0.223 0.101 0.121 0.    0.37 ]\n",
      "AUC all:  0.791913214990138\n",
      "\n"
     ]
    },
    {
     "name": "stderr",
     "output_type": "stream",
     "text": [
      "[I 2019-08-24 12:23:44,007] Finished trial#874 resulted in value: -0.791913214990138. Current best value is -0.7948717948717948 with parameters: {'w_lr': 0.25932220860425337, 'w_lda': 0.09195697989035678, 'w_sv': 0.6584085004074863, 'w_xgb': 0.23943615391125597, 'w_lgbm': 0.2584978813734697, 'w_mlp': 0.9426610060258075}.\n"
     ]
    },
    {
     "name": "stdout",
     "output_type": "stream",
     "text": [
      "[w_lr, w_lda, w_sv, w_xgb, w_lgbm,w_cb ] =  [0.001 0.078 0.622 0.175 0.218 0.    0.939]\n",
      "norm =  [0.    0.039 0.306 0.086 0.107 0.    0.462]\n",
      "AUC all:  0.7931811777965624\n",
      "\n"
     ]
    },
    {
     "name": "stderr",
     "output_type": "stream",
     "text": [
      "[I 2019-08-24 12:23:45,507] Finished trial#875 resulted in value: -0.7931811777965624. Current best value is -0.7948717948717948 with parameters: {'w_lr': 0.25932220860425337, 'w_lda': 0.09195697989035678, 'w_sv': 0.6584085004074863, 'w_xgb': 0.23943615391125597, 'w_lgbm': 0.2584978813734697, 'w_mlp': 0.9426610060258075}.\n"
     ]
    },
    {
     "name": "stdout",
     "output_type": "stream",
     "text": [
      "[w_lr, w_lda, w_sv, w_xgb, w_lgbm,w_cb ] =  [0.019 0.134 0.65  0.201 0.285 0.    0.915]\n",
      "norm =  [0.009 0.061 0.295 0.091 0.129 0.    0.415]\n",
      "AUC all:  0.7921949845026769\n",
      "\n"
     ]
    },
    {
     "name": "stderr",
     "output_type": "stream",
     "text": [
      "[I 2019-08-24 12:23:46,994] Finished trial#876 resulted in value: -0.7921949845026769. Current best value is -0.7948717948717948 with parameters: {'w_lr': 0.25932220860425337, 'w_lda': 0.09195697989035678, 'w_sv': 0.6584085004074863, 'w_xgb': 0.23943615391125597, 'w_lgbm': 0.2584978813734697, 'w_mlp': 0.9426610060258075}.\n"
     ]
    },
    {
     "name": "stdout",
     "output_type": "stream",
     "text": [
      "[w_lr, w_lda, w_sv, w_xgb, w_lgbm,w_cb ] =  [0.05  0.038 0.615 0.286 0.23  0.    0.938]\n",
      "norm =  [0.023 0.017 0.285 0.133 0.107 0.    0.435]\n",
      "AUC all:  0.7920540997464075\n",
      "\n"
     ]
    },
    {
     "name": "stderr",
     "output_type": "stream",
     "text": [
      "[I 2019-08-24 12:23:48,488] Finished trial#877 resulted in value: -0.7920540997464075. Current best value is -0.7948717948717948 with parameters: {'w_lr': 0.25932220860425337, 'w_lda': 0.09195697989035678, 'w_sv': 0.6584085004074863, 'w_xgb': 0.23943615391125597, 'w_lgbm': 0.2584978813734697, 'w_mlp': 0.9426610060258075}.\n"
     ]
    },
    {
     "name": "stdout",
     "output_type": "stream",
     "text": [
      "[w_lr, w_lda, w_sv, w_xgb, w_lgbm,w_cb ] =  [0.    0.108 0.629 0.264 0.25  0.    0.932]\n",
      "norm =  [0.    0.049 0.288 0.121 0.114 0.    0.427]\n",
      "AUC all:  0.793462947309101\n",
      "\n"
     ]
    },
    {
     "name": "stderr",
     "output_type": "stream",
     "text": [
      "[I 2019-08-24 12:23:49,990] Finished trial#878 resulted in value: -0.793462947309101. Current best value is -0.7948717948717948 with parameters: {'w_lr': 0.25932220860425337, 'w_lda': 0.09195697989035678, 'w_sv': 0.6584085004074863, 'w_xgb': 0.23943615391125597, 'w_lgbm': 0.2584978813734697, 'w_mlp': 0.9426610060258075}.\n"
     ]
    },
    {
     "name": "stdout",
     "output_type": "stream",
     "text": [
      "[w_lr, w_lda, w_sv, w_xgb, w_lgbm,w_cb ] =  [0.161 0.068 0.639 0.225 0.275 0.    0.979]\n",
      "norm =  [0.068 0.029 0.272 0.096 0.117 0.    0.417]\n",
      "AUC all:  0.793040293040293\n",
      "\n"
     ]
    },
    {
     "name": "stderr",
     "output_type": "stream",
     "text": [
      "[I 2019-08-24 12:23:51,484] Finished trial#879 resulted in value: -0.793040293040293. Current best value is -0.7948717948717948 with parameters: {'w_lr': 0.25932220860425337, 'w_lda': 0.09195697989035678, 'w_sv': 0.6584085004074863, 'w_xgb': 0.23943615391125597, 'w_lgbm': 0.2584978813734697, 'w_mlp': 0.9426610060258075}.\n"
     ]
    },
    {
     "name": "stdout",
     "output_type": "stream",
     "text": [
      "[w_lr, w_lda, w_sv, w_xgb, w_lgbm,w_cb ] =  [0.02  0.092 0.645 0.234 0.269 0.    0.927]\n",
      "norm =  [0.009 0.042 0.295 0.107 0.123 0.    0.424]\n",
      "AUC all:  0.7937447168216398\n",
      "\n"
     ]
    },
    {
     "name": "stderr",
     "output_type": "stream",
     "text": [
      "[I 2019-08-24 12:23:52,993] Finished trial#880 resulted in value: -0.7937447168216398. Current best value is -0.7948717948717948 with parameters: {'w_lr': 0.25932220860425337, 'w_lda': 0.09195697989035678, 'w_sv': 0.6584085004074863, 'w_xgb': 0.23943615391125597, 'w_lgbm': 0.2584978813734697, 'w_mlp': 0.9426610060258075}.\n"
     ]
    },
    {
     "name": "stdout",
     "output_type": "stream",
     "text": [
      "[w_lr, w_lda, w_sv, w_xgb, w_lgbm,w_cb ] =  [0.001 0.117 0.615 0.075 0.241 0.    0.942]\n",
      "norm =  [0.    0.059 0.309 0.038 0.121 0.    0.473]\n",
      "AUC all:  0.7902225979149056\n",
      "\n"
     ]
    },
    {
     "name": "stderr",
     "output_type": "stream",
     "text": [
      "[I 2019-08-24 12:23:54,493] Finished trial#881 resulted in value: -0.7902225979149056. Current best value is -0.7948717948717948 with parameters: {'w_lr': 0.25932220860425337, 'w_lda': 0.09195697989035678, 'w_sv': 0.6584085004074863, 'w_xgb': 0.23943615391125597, 'w_lgbm': 0.2584978813734697, 'w_mlp': 0.9426610060258075}.\n"
     ]
    },
    {
     "name": "stdout",
     "output_type": "stream",
     "text": [
      "[w_lr, w_lda, w_sv, w_xgb, w_lgbm,w_cb ] =  [0.101 0.018 0.588 0.199 0.201 0.    0.899]\n",
      "norm =  [0.05  0.009 0.293 0.099 0.1   0.    0.448]\n",
      "AUC all:  0.791913214990138\n",
      "\n"
     ]
    },
    {
     "name": "stderr",
     "output_type": "stream",
     "text": [
      "[I 2019-08-24 12:23:55,991] Finished trial#882 resulted in value: -0.791913214990138. Current best value is -0.7948717948717948 with parameters: {'w_lr': 0.25932220860425337, 'w_lda': 0.09195697989035678, 'w_sv': 0.6584085004074863, 'w_xgb': 0.23943615391125597, 'w_lgbm': 0.2584978813734697, 'w_mlp': 0.9426610060258075}.\n"
     ]
    },
    {
     "name": "stdout",
     "output_type": "stream",
     "text": [
      "[w_lr, w_lda, w_sv, w_xgb, w_lgbm,w_cb ] =  [0.035 0.154 0.559 0.245 0.293 0.    0.912]\n",
      "norm =  [0.016 0.07  0.254 0.112 0.133 0.    0.415]\n",
      "AUC all:  0.7930402930402931\n",
      "\n"
     ]
    },
    {
     "name": "stderr",
     "output_type": "stream",
     "text": [
      "[I 2019-08-24 12:23:57,509] Finished trial#883 resulted in value: -0.7930402930402931. Current best value is -0.7948717948717948 with parameters: {'w_lr': 0.25932220860425337, 'w_lda': 0.09195697989035678, 'w_sv': 0.6584085004074863, 'w_xgb': 0.23943615391125597, 'w_lgbm': 0.2584978813734697, 'w_mlp': 0.9426610060258075}.\n"
     ]
    },
    {
     "name": "stdout",
     "output_type": "stream",
     "text": [
      "[w_lr, w_lda, w_sv, w_xgb, w_lgbm,w_cb ] =  [0.127 0.052 0.632 0.211 0.268 0.    0.675]\n",
      "norm =  [0.065 0.026 0.322 0.107 0.136 0.    0.343]\n",
      "AUC all:  0.7900817131586363\n",
      "\n"
     ]
    },
    {
     "name": "stderr",
     "output_type": "stream",
     "text": [
      "[I 2019-08-24 12:23:59,009] Finished trial#884 resulted in value: -0.7900817131586363. Current best value is -0.7948717948717948 with parameters: {'w_lr': 0.25932220860425337, 'w_lda': 0.09195697989035678, 'w_sv': 0.6584085004074863, 'w_xgb': 0.23943615391125597, 'w_lgbm': 0.2584978813734697, 'w_mlp': 0.9426610060258075}.\n"
     ]
    },
    {
     "name": "stdout",
     "output_type": "stream",
     "text": [
      "[w_lr, w_lda, w_sv, w_xgb, w_lgbm,w_cb ] =  [0.156 0.074 0.544 0.229 0.276 0.    0.976]\n",
      "norm =  [0.069 0.033 0.241 0.102 0.122 0.    0.433]\n",
      "AUC all:  0.7928994082840236\n",
      "\n"
     ]
    },
    {
     "name": "stderr",
     "output_type": "stream",
     "text": [
      "[I 2019-08-24 12:24:00,527] Finished trial#885 resulted in value: -0.7928994082840236. Current best value is -0.7948717948717948 with parameters: {'w_lr': 0.25932220860425337, 'w_lda': 0.09195697989035678, 'w_sv': 0.6584085004074863, 'w_xgb': 0.23943615391125597, 'w_lgbm': 0.2584978813734697, 'w_mlp': 0.9426610060258075}.\n"
     ]
    },
    {
     "name": "stdout",
     "output_type": "stream",
     "text": [
      "[w_lr, w_lda, w_sv, w_xgb, w_lgbm,w_cb ] =  [0.018 0.095 0.66  0.636 0.287 0.    0.915]\n",
      "norm =  [0.007 0.036 0.253 0.244 0.11  0.    0.35 ]\n",
      "AUC all:  0.7882502113271344\n",
      "\n"
     ]
    },
    {
     "name": "stderr",
     "output_type": "stream",
     "text": [
      "[I 2019-08-24 12:24:02,038] Finished trial#886 resulted in value: -0.7882502113271344. Current best value is -0.7948717948717948 with parameters: {'w_lr': 0.25932220860425337, 'w_lda': 0.09195697989035678, 'w_sv': 0.6584085004074863, 'w_xgb': 0.23943615391125597, 'w_lgbm': 0.2584978813734697, 'w_mlp': 0.9426610060258075}.\n"
     ]
    },
    {
     "name": "stdout",
     "output_type": "stream",
     "text": [
      "[w_lr, w_lda, w_sv, w_xgb, w_lgbm,w_cb ] =  [0.057 0.129 0.624 0.171 0.238 0.    0.949]\n",
      "norm =  [0.026 0.06  0.288 0.079 0.11  0.    0.438]\n",
      "AUC all:  0.791913214990138\n",
      "\n"
     ]
    },
    {
     "name": "stderr",
     "output_type": "stream",
     "text": [
      "[I 2019-08-24 12:24:03,544] Finished trial#887 resulted in value: -0.791913214990138. Current best value is -0.7948717948717948 with parameters: {'w_lr': 0.25932220860425337, 'w_lda': 0.09195697989035678, 'w_sv': 0.6584085004074863, 'w_xgb': 0.23943615391125597, 'w_lgbm': 0.2584978813734697, 'w_mlp': 0.9426610060258075}.\n"
     ]
    },
    {
     "name": "stdout",
     "output_type": "stream",
     "text": [
      "[w_lr, w_lda, w_sv, w_xgb, w_lgbm,w_cb ] =  [0.001 0.81  0.644 0.251 0.255 0.    0.965]\n",
      "norm =  [0.    0.277 0.22  0.086 0.087 0.    0.33 ]\n",
      "AUC all:  0.7781065088757396\n",
      "\n"
     ]
    },
    {
     "name": "stderr",
     "output_type": "stream",
     "text": [
      "[I 2019-08-24 12:24:05,041] Finished trial#888 resulted in value: -0.7781065088757396. Current best value is -0.7948717948717948 with parameters: {'w_lr': 0.25932220860425337, 'w_lda': 0.09195697989035678, 'w_sv': 0.6584085004074863, 'w_xgb': 0.23943615391125597, 'w_lgbm': 0.2584978813734697, 'w_mlp': 0.9426610060258075}.\n"
     ]
    },
    {
     "name": "stdout",
     "output_type": "stream",
     "text": [
      "[w_lr, w_lda, w_sv, w_xgb, w_lgbm,w_cb ] =  [0.037 0.091 0.561 0.192 0.266 0.    0.925]\n",
      "norm =  [0.018 0.044 0.271 0.093 0.128 0.    0.446]\n",
      "AUC all:  0.7928994082840236\n",
      "\n"
     ]
    },
    {
     "name": "stderr",
     "output_type": "stream",
     "text": [
      "[I 2019-08-24 12:24:06,536] Finished trial#889 resulted in value: -0.7928994082840236. Current best value is -0.7948717948717948 with parameters: {'w_lr': 0.25932220860425337, 'w_lda': 0.09195697989035678, 'w_sv': 0.6584085004074863, 'w_xgb': 0.23943615391125597, 'w_lgbm': 0.2584978813734697, 'w_mlp': 0.9426610060258075}.\n"
     ]
    },
    {
     "name": "stdout",
     "output_type": "stream",
     "text": [
      "[w_lr, w_lda, w_sv, w_xgb, w_lgbm,w_cb ] =  [0.814 0.147 0.54  0.35  0.225 0.    0.923]\n",
      "norm =  [0.271 0.049 0.18  0.117 0.075 0.    0.308]\n",
      "AUC all:  0.7890955198647507\n",
      "\n"
     ]
    },
    {
     "name": "stderr",
     "output_type": "stream",
     "text": [
      "[I 2019-08-24 12:24:08,050] Finished trial#890 resulted in value: -0.7890955198647507. Current best value is -0.7948717948717948 with parameters: {'w_lr': 0.25932220860425337, 'w_lda': 0.09195697989035678, 'w_sv': 0.6584085004074863, 'w_xgb': 0.23943615391125597, 'w_lgbm': 0.2584978813734697, 'w_mlp': 0.9426610060258075}.\n"
     ]
    },
    {
     "name": "stdout",
     "output_type": "stream",
     "text": [
      "[w_lr, w_lda, w_sv, w_xgb, w_lgbm,w_cb ] =  [0.147 0.047 0.634 0.219 0.258 0.    0.975]\n",
      "norm =  [0.064 0.021 0.278 0.096 0.113 0.    0.428]\n",
      "AUC all:  0.793040293040293\n",
      "\n"
     ]
    },
    {
     "name": "stderr",
     "output_type": "stream",
     "text": [
      "[I 2019-08-24 12:24:09,572] Finished trial#891 resulted in value: -0.793040293040293. Current best value is -0.7948717948717948 with parameters: {'w_lr': 0.25932220860425337, 'w_lda': 0.09195697989035678, 'w_sv': 0.6584085004074863, 'w_xgb': 0.23943615391125597, 'w_lgbm': 0.2584978813734697, 'w_mlp': 0.9426610060258075}.\n"
     ]
    },
    {
     "name": "stdout",
     "output_type": "stream",
     "text": [
      "[w_lr, w_lda, w_sv, w_xgb, w_lgbm,w_cb ] =  [0.495 0.111 0.577 0.264 0.316 0.    0.909]\n",
      "norm =  [0.185 0.042 0.216 0.099 0.118 0.    0.34 ]\n",
      "AUC all:  0.792617638771485\n",
      "\n"
     ]
    },
    {
     "name": "stderr",
     "output_type": "stream",
     "text": [
      "[I 2019-08-24 12:24:11,066] Finished trial#892 resulted in value: -0.792617638771485. Current best value is -0.7948717948717948 with parameters: {'w_lr': 0.25932220860425337, 'w_lda': 0.09195697989035678, 'w_sv': 0.6584085004074863, 'w_xgb': 0.23943615391125597, 'w_lgbm': 0.2584978813734697, 'w_mlp': 0.9426610060258075}.\n"
     ]
    },
    {
     "name": "stdout",
     "output_type": "stream",
     "text": [
      "[w_lr, w_lda, w_sv, w_xgb, w_lgbm,w_cb ] =  [0.2   0.08  0.679 0.241 0.212 0.    0.987]\n",
      "norm =  [0.083 0.033 0.283 0.1   0.088 0.    0.412]\n",
      "AUC all:  0.7923358692589462\n",
      "\n"
     ]
    },
    {
     "name": "stderr",
     "output_type": "stream",
     "text": [
      "[I 2019-08-24 12:24:12,590] Finished trial#893 resulted in value: -0.7923358692589462. Current best value is -0.7948717948717948 with parameters: {'w_lr': 0.25932220860425337, 'w_lda': 0.09195697989035678, 'w_sv': 0.6584085004074863, 'w_xgb': 0.23943615391125597, 'w_lgbm': 0.2584978813734697, 'w_mlp': 0.9426610060258075}.\n"
     ]
    },
    {
     "name": "stdout",
     "output_type": "stream",
     "text": [
      "[w_lr, w_lda, w_sv, w_xgb, w_lgbm,w_cb ] =  [0.034 0.124 0.622 0.29  0.24  0.    0.949]\n",
      "norm =  [0.015 0.055 0.275 0.129 0.106 0.    0.42 ]\n",
      "AUC all:  0.7909270216962525\n",
      "\n"
     ]
    },
    {
     "name": "stderr",
     "output_type": "stream",
     "text": [
      "[I 2019-08-24 12:24:14,103] Finished trial#894 resulted in value: -0.7909270216962525. Current best value is -0.7948717948717948 with parameters: {'w_lr': 0.25932220860425337, 'w_lda': 0.09195697989035678, 'w_sv': 0.6584085004074863, 'w_xgb': 0.23943615391125597, 'w_lgbm': 0.2584978813734697, 'w_mlp': 0.9426610060258075}.\n"
     ]
    },
    {
     "name": "stdout",
     "output_type": "stream",
     "text": [
      "[w_lr, w_lda, w_sv, w_xgb, w_lgbm,w_cb ] =  [0.775 0.15  0.517 0.323 0.253 0.    0.933]\n",
      "norm =  [0.263 0.051 0.175 0.109 0.086 0.    0.316]\n",
      "AUC all:  0.7888137503522119\n",
      "\n"
     ]
    },
    {
     "name": "stderr",
     "output_type": "stream",
     "text": [
      "[I 2019-08-24 12:24:15,633] Finished trial#895 resulted in value: -0.7888137503522119. Current best value is -0.7948717948717948 with parameters: {'w_lr': 0.25932220860425337, 'w_lda': 0.09195697989035678, 'w_sv': 0.6584085004074863, 'w_xgb': 0.23943615391125597, 'w_lgbm': 0.2584978813734697, 'w_mlp': 0.9426610060258075}.\n"
     ]
    },
    {
     "name": "stdout",
     "output_type": "stream",
     "text": [
      "[w_lr, w_lda, w_sv, w_xgb, w_lgbm,w_cb ] =  [0.    0.171 0.529 0.306 0.185 0.    0.93 ]\n",
      "norm =  [0.    0.081 0.249 0.144 0.087 0.    0.438]\n",
      "AUC all:  0.7864187094956325\n",
      "\n"
     ]
    },
    {
     "name": "stderr",
     "output_type": "stream",
     "text": [
      "[I 2019-08-24 12:24:17,151] Finished trial#896 resulted in value: -0.7864187094956325. Current best value is -0.7948717948717948 with parameters: {'w_lr': 0.25932220860425337, 'w_lda': 0.09195697989035678, 'w_sv': 0.6584085004074863, 'w_xgb': 0.23943615391125597, 'w_lgbm': 0.2584978813734697, 'w_mlp': 0.9426610060258075}.\n"
     ]
    },
    {
     "name": "stdout",
     "output_type": "stream",
     "text": [
      "[w_lr, w_lda, w_sv, w_xgb, w_lgbm,w_cb ] =  [0.066 0.029 0.599 0.237 0.233 0.    0.881]\n",
      "norm =  [0.032 0.014 0.293 0.116 0.114 0.    0.431]\n",
      "AUC all:  0.792617638771485\n",
      "\n"
     ]
    },
    {
     "name": "stderr",
     "output_type": "stream",
     "text": [
      "[I 2019-08-24 12:24:18,681] Finished trial#897 resulted in value: -0.792617638771485. Current best value is -0.7948717948717948 with parameters: {'w_lr': 0.25932220860425337, 'w_lda': 0.09195697989035678, 'w_sv': 0.6584085004074863, 'w_xgb': 0.23943615391125597, 'w_lgbm': 0.2584978813734697, 'w_mlp': 0.9426610060258075}.\n"
     ]
    },
    {
     "name": "stdout",
     "output_type": "stream",
     "text": [
      "[w_lr, w_lda, w_sv, w_xgb, w_lgbm,w_cb ] =  [0.019 0.127 0.541 0.301 0.269 0.    0.924]\n",
      "norm =  [0.009 0.058 0.248 0.138 0.123 0.    0.424]\n",
      "AUC all:  0.7928994082840236\n",
      "\n"
     ]
    },
    {
     "name": "stderr",
     "output_type": "stream",
     "text": [
      "[I 2019-08-24 12:24:20,203] Finished trial#898 resulted in value: -0.7928994082840236. Current best value is -0.7948717948717948 with parameters: {'w_lr': 0.25932220860425337, 'w_lda': 0.09195697989035678, 'w_sv': 0.6584085004074863, 'w_xgb': 0.23943615391125597, 'w_lgbm': 0.2584978813734697, 'w_mlp': 0.9426610060258075}.\n"
     ]
    },
    {
     "name": "stdout",
     "output_type": "stream",
     "text": [
      "[w_lr, w_lda, w_sv, w_xgb, w_lgbm,w_cb ] =  [0.059 0.059 0.58  0.213 0.254 0.    0.892]\n",
      "norm =  [0.029 0.029 0.282 0.104 0.123 0.    0.433]\n",
      "AUC all:  0.793462947309101\n",
      "\n"
     ]
    },
    {
     "name": "stderr",
     "output_type": "stream",
     "text": [
      "[I 2019-08-24 12:24:21,732] Finished trial#899 resulted in value: -0.793462947309101. Current best value is -0.7948717948717948 with parameters: {'w_lr': 0.25932220860425337, 'w_lda': 0.09195697989035678, 'w_sv': 0.6584085004074863, 'w_xgb': 0.23943615391125597, 'w_lgbm': 0.2584978813734697, 'w_mlp': 0.9426610060258075}.\n"
     ]
    },
    {
     "name": "stdout",
     "output_type": "stream",
     "text": [
      "[w_lr, w_lda, w_sv, w_xgb, w_lgbm,w_cb ] =  [0.264 0.103 0.67  0.268 0.394 0.    0.963]\n",
      "norm =  [0.099 0.039 0.252 0.101 0.148 0.    0.362]\n",
      "AUC all:  0.7892364046210201\n",
      "\n"
     ]
    },
    {
     "name": "stderr",
     "output_type": "stream",
     "text": [
      "[I 2019-08-24 12:24:23,256] Finished trial#900 resulted in value: -0.7892364046210201. Current best value is -0.7948717948717948 with parameters: {'w_lr': 0.25932220860425337, 'w_lda': 0.09195697989035678, 'w_sv': 0.6584085004074863, 'w_xgb': 0.23943615391125597, 'w_lgbm': 0.2584978813734697, 'w_mlp': 0.9426610060258075}.\n"
     ]
    },
    {
     "name": "stdout",
     "output_type": "stream",
     "text": [
      "[w_lr, w_lda, w_sv, w_xgb, w_lgbm,w_cb ] =  [0.016 0.085 0.611 0.498 0.209 0.    0.943]\n",
      "norm =  [0.007 0.036 0.259 0.211 0.088 0.    0.399]\n",
      "AUC all:  0.7882502113271344\n",
      "\n"
     ]
    },
    {
     "name": "stderr",
     "output_type": "stream",
     "text": [
      "[I 2019-08-24 12:24:24,770] Finished trial#901 resulted in value: -0.7882502113271344. Current best value is -0.7948717948717948 with parameters: {'w_lr': 0.25932220860425337, 'w_lda': 0.09195697989035678, 'w_sv': 0.6584085004074863, 'w_xgb': 0.23943615391125597, 'w_lgbm': 0.2584978813734697, 'w_mlp': 0.9426610060258075}.\n"
     ]
    },
    {
     "name": "stdout",
     "output_type": "stream",
     "text": [
      "[w_lr, w_lda, w_sv, w_xgb, w_lgbm,w_cb ] =  [0.229 0.104 0.668 0.242 0.28  0.    0.997]\n",
      "norm =  [0.091 0.041 0.265 0.096 0.111 0.    0.396]\n",
      "AUC all:  0.7936038320653704\n",
      "\n"
     ]
    },
    {
     "name": "stderr",
     "output_type": "stream",
     "text": [
      "[I 2019-08-24 12:24:26,293] Finished trial#902 resulted in value: -0.7936038320653704. Current best value is -0.7948717948717948 with parameters: {'w_lr': 0.25932220860425337, 'w_lda': 0.09195697989035678, 'w_sv': 0.6584085004074863, 'w_xgb': 0.23943615391125597, 'w_lgbm': 0.2584978813734697, 'w_mlp': 0.9426610060258075}.\n"
     ]
    },
    {
     "name": "stdout",
     "output_type": "stream",
     "text": [
      "[w_lr, w_lda, w_sv, w_xgb, w_lgbm,w_cb ] =  [0.001 0.075 0.611 0.404 0.226 0.    0.94 ]\n",
      "norm =  [0.    0.033 0.271 0.179 0.1   0.    0.417]\n",
      "AUC all:  0.7897999436460975\n",
      "\n"
     ]
    },
    {
     "name": "stderr",
     "output_type": "stream",
     "text": [
      "[I 2019-08-24 12:24:27,815] Finished trial#903 resulted in value: -0.7897999436460975. Current best value is -0.7948717948717948 with parameters: {'w_lr': 0.25932220860425337, 'w_lda': 0.09195697989035678, 'w_sv': 0.6584085004074863, 'w_xgb': 0.23943615391125597, 'w_lgbm': 0.2584978813734697, 'w_mlp': 0.9426610060258075}.\n"
     ]
    },
    {
     "name": "stdout",
     "output_type": "stream",
     "text": [
      "[w_lr, w_lda, w_sv, w_xgb, w_lgbm,w_cb ] =  [0.661 0.093 0.647 0.201 0.303 0.    0.932]\n",
      "norm =  [0.233 0.033 0.228 0.071 0.107 0.    0.329]\n",
      "AUC all:  0.7912087912087913\n",
      "\n"
     ]
    },
    {
     "name": "stderr",
     "output_type": "stream",
     "text": [
      "[I 2019-08-24 12:24:29,347] Finished trial#904 resulted in value: -0.7912087912087913. Current best value is -0.7948717948717948 with parameters: {'w_lr': 0.25932220860425337, 'w_lda': 0.09195697989035678, 'w_sv': 0.6584085004074863, 'w_xgb': 0.23943615391125597, 'w_lgbm': 0.2584978813734697, 'w_mlp': 0.9426610060258075}.\n"
     ]
    },
    {
     "name": "stdout",
     "output_type": "stream",
     "text": [
      "[w_lr, w_lda, w_sv, w_xgb, w_lgbm,w_cb ] =  [0.002 0.119 0.658 0.274 0.147 0.    0.905]\n",
      "norm =  [0.001 0.056 0.312 0.13  0.07  0.    0.43 ]\n",
      "AUC all:  0.7869822485207101\n",
      "\n"
     ]
    },
    {
     "name": "stderr",
     "output_type": "stream",
     "text": [
      "[I 2019-08-24 12:24:30,896] Finished trial#905 resulted in value: -0.7869822485207101. Current best value is -0.7948717948717948 with parameters: {'w_lr': 0.25932220860425337, 'w_lda': 0.09195697989035678, 'w_sv': 0.6584085004074863, 'w_xgb': 0.23943615391125597, 'w_lgbm': 0.2584978813734697, 'w_mlp': 0.9426610060258075}.\n"
     ]
    },
    {
     "name": "stdout",
     "output_type": "stream",
     "text": [
      "[w_lr, w_lda, w_sv, w_xgb, w_lgbm,w_cb ] =  [0.04  0.058 0.55  0.252 0.288 0.    0.954]\n",
      "norm =  [0.019 0.027 0.257 0.118 0.134 0.    0.446]\n",
      "AUC all:  0.7928994082840236\n",
      "\n"
     ]
    },
    {
     "name": "stderr",
     "output_type": "stream",
     "text": [
      "[I 2019-08-24 12:24:32,437] Finished trial#906 resulted in value: -0.7928994082840236. Current best value is -0.7948717948717948 with parameters: {'w_lr': 0.25932220860425337, 'w_lda': 0.09195697989035678, 'w_sv': 0.6584085004074863, 'w_xgb': 0.23943615391125597, 'w_lgbm': 0.2584978813734697, 'w_mlp': 0.9426610060258075}.\n"
     ]
    },
    {
     "name": "stdout",
     "output_type": "stream",
     "text": [
      "[w_lr, w_lda, w_sv, w_xgb, w_lgbm,w_cb ] =  [0.05  0.139 0.605 0.282 0.242 0.    0.903]\n",
      "norm =  [0.022 0.063 0.273 0.127 0.109 0.    0.407]\n",
      "AUC all:  0.7910679064525219\n",
      "\n"
     ]
    },
    {
     "name": "stderr",
     "output_type": "stream",
     "text": [
      "[I 2019-08-24 12:24:33,970] Finished trial#907 resulted in value: -0.7910679064525219. Current best value is -0.7948717948717948 with parameters: {'w_lr': 0.25932220860425337, 'w_lda': 0.09195697989035678, 'w_sv': 0.6584085004074863, 'w_xgb': 0.23943615391125597, 'w_lgbm': 0.2584978813734697, 'w_mlp': 0.9426610060258075}.\n"
     ]
    },
    {
     "name": "stdout",
     "output_type": "stream",
     "text": [
      "[w_lr, w_lda, w_sv, w_xgb, w_lgbm,w_cb ] =  [0.001 0.091 0.646 0.225 0.269 0.    0.931]\n",
      "norm =  [0.001 0.042 0.298 0.104 0.124 0.    0.43 ]\n",
      "AUC all:  0.7937447168216398\n",
      "\n"
     ]
    },
    {
     "name": "stderr",
     "output_type": "stream",
     "text": [
      "[I 2019-08-24 12:24:35,508] Finished trial#908 resulted in value: -0.7937447168216398. Current best value is -0.7948717948717948 with parameters: {'w_lr': 0.25932220860425337, 'w_lda': 0.09195697989035678, 'w_sv': 0.6584085004074863, 'w_xgb': 0.23943615391125597, 'w_lgbm': 0.2584978813734697, 'w_mlp': 0.9426610060258075}.\n"
     ]
    },
    {
     "name": "stdout",
     "output_type": "stream",
     "text": [
      "[w_lr, w_lda, w_sv, w_xgb, w_lgbm,w_cb ] =  [0.191 0.108 0.684 0.249 0.246 0.    0.968]\n",
      "norm =  [0.078 0.044 0.28  0.102 0.101 0.    0.396]\n",
      "AUC all:  0.7924767540152156\n",
      "\n"
     ]
    },
    {
     "name": "stderr",
     "output_type": "stream",
     "text": [
      "[I 2019-08-24 12:24:37,043] Finished trial#909 resulted in value: -0.7924767540152156. Current best value is -0.7948717948717948 with parameters: {'w_lr': 0.25932220860425337, 'w_lda': 0.09195697989035678, 'w_sv': 0.6584085004074863, 'w_xgb': 0.23943615391125597, 'w_lgbm': 0.2584978813734697, 'w_mlp': 0.9426610060258075}.\n"
     ]
    },
    {
     "name": "stdout",
     "output_type": "stream",
     "text": [
      "[w_lr, w_lda, w_sv, w_xgb, w_lgbm,w_cb ] =  [0.241 0.077 0.567 0.16  0.322 0.    0.957]\n",
      "norm =  [0.104 0.033 0.244 0.069 0.139 0.    0.412]\n",
      "AUC all:  0.7885319808396731\n",
      "\n"
     ]
    },
    {
     "name": "stderr",
     "output_type": "stream",
     "text": [
      "[I 2019-08-24 12:24:38,582] Finished trial#910 resulted in value: -0.7885319808396731. Current best value is -0.7948717948717948 with parameters: {'w_lr': 0.25932220860425337, 'w_lda': 0.09195697989035678, 'w_sv': 0.6584085004074863, 'w_xgb': 0.23943615391125597, 'w_lgbm': 0.2584978813734697, 'w_mlp': 0.9426610060258075}.\n"
     ]
    },
    {
     "name": "stdout",
     "output_type": "stream",
     "text": [
      "[w_lr, w_lda, w_sv, w_xgb, w_lgbm,w_cb ] =  [0.024 0.165 0.54  0.371 0.26  0.    0.915]\n",
      "norm =  [0.011 0.073 0.237 0.163 0.114 0.    0.402]\n",
      "AUC all:  0.7893772893772895\n",
      "\n"
     ]
    },
    {
     "name": "stderr",
     "output_type": "stream",
     "text": [
      "[I 2019-08-24 12:24:40,110] Finished trial#911 resulted in value: -0.7893772893772895. Current best value is -0.7948717948717948 with parameters: {'w_lr': 0.25932220860425337, 'w_lda': 0.09195697989035678, 'w_sv': 0.6584085004074863, 'w_xgb': 0.23943615391125597, 'w_lgbm': 0.2584978813734697, 'w_mlp': 0.9426610060258075}.\n"
     ]
    },
    {
     "name": "stdout",
     "output_type": "stream",
     "text": [
      "[w_lr, w_lda, w_sv, w_xgb, w_lgbm,w_cb ] =  [0.075 0.139 0.6   0.28  0.206 0.    0.89 ]\n",
      "norm =  [0.034 0.063 0.274 0.128 0.094 0.    0.406]\n",
      "AUC all:  0.7889546351084813\n",
      "\n"
     ]
    },
    {
     "name": "stderr",
     "output_type": "stream",
     "text": [
      "[I 2019-08-24 12:24:41,647] Finished trial#912 resulted in value: -0.7889546351084813. Current best value is -0.7948717948717948 with parameters: {'w_lr': 0.25932220860425337, 'w_lda': 0.09195697989035678, 'w_sv': 0.6584085004074863, 'w_xgb': 0.23943615391125597, 'w_lgbm': 0.2584978813734697, 'w_mlp': 0.9426610060258075}.\n"
     ]
    },
    {
     "name": "stdout",
     "output_type": "stream",
     "text": [
      "[w_lr, w_lda, w_sv, w_xgb, w_lgbm,w_cb ] =  [0.309 0.068 0.64  0.218 0.292 0.    0.948]\n",
      "norm =  [0.125 0.027 0.259 0.088 0.118 0.    0.383]\n",
      "AUC all:  0.7923358692589462\n",
      "\n"
     ]
    },
    {
     "name": "stderr",
     "output_type": "stream",
     "text": [
      "[I 2019-08-24 12:24:43,200] Finished trial#913 resulted in value: -0.7923358692589462. Current best value is -0.7948717948717948 with parameters: {'w_lr': 0.25932220860425337, 'w_lda': 0.09195697989035678, 'w_sv': 0.6584085004074863, 'w_xgb': 0.23943615391125597, 'w_lgbm': 0.2584978813734697, 'w_mlp': 0.9426610060258075}.\n"
     ]
    },
    {
     "name": "stdout",
     "output_type": "stream",
     "text": [
      "[w_lr, w_lda, w_sv, w_xgb, w_lgbm,w_cb ] =  [0.218 0.111 0.671 0.18  0.227 0.    0.988]\n",
      "norm =  [0.091 0.046 0.28  0.075 0.095 0.    0.413]\n",
      "AUC all:  0.7924767540152156\n",
      "\n"
     ]
    },
    {
     "name": "stderr",
     "output_type": "stream",
     "text": [
      "[I 2019-08-24 12:24:44,755] Finished trial#914 resulted in value: -0.7924767540152156. Current best value is -0.7948717948717948 with parameters: {'w_lr': 0.25932220860425337, 'w_lda': 0.09195697989035678, 'w_sv': 0.6584085004074863, 'w_xgb': 0.23943615391125597, 'w_lgbm': 0.2584978813734697, 'w_mlp': 0.9426610060258075}.\n"
     ]
    },
    {
     "name": "stdout",
     "output_type": "stream",
     "text": [
      "[w_lr, w_lda, w_sv, w_xgb, w_lgbm,w_cb ] =  [0.037 0.127 0.539 0.33  0.475 0.    0.92 ]\n",
      "norm =  [0.015 0.052 0.222 0.136 0.196 0.    0.379]\n",
      "AUC all:  0.7882502113271345\n",
      "\n"
     ]
    },
    {
     "name": "stderr",
     "output_type": "stream",
     "text": [
      "[I 2019-08-24 12:24:46,299] Finished trial#915 resulted in value: -0.7882502113271345. Current best value is -0.7948717948717948 with parameters: {'w_lr': 0.25932220860425337, 'w_lda': 0.09195697989035678, 'w_sv': 0.6584085004074863, 'w_xgb': 0.23943615391125597, 'w_lgbm': 0.2584978813734697, 'w_mlp': 0.9426610060258075}.\n"
     ]
    },
    {
     "name": "stdout",
     "output_type": "stream",
     "text": [
      "[w_lr, w_lda, w_sv, w_xgb, w_lgbm,w_cb ] =  [0.021 0.115 0.59  0.276 0.244 0.    0.893]\n",
      "norm =  [0.01  0.054 0.276 0.129 0.114 0.    0.418]\n",
      "AUC all:  0.7933220625528317\n",
      "\n"
     ]
    },
    {
     "name": "stderr",
     "output_type": "stream",
     "text": [
      "[I 2019-08-24 12:24:47,843] Finished trial#916 resulted in value: -0.7933220625528317. Current best value is -0.7948717948717948 with parameters: {'w_lr': 0.25932220860425337, 'w_lda': 0.09195697989035678, 'w_sv': 0.6584085004074863, 'w_xgb': 0.23943615391125597, 'w_lgbm': 0.2584978813734697, 'w_mlp': 0.9426610060258075}.\n"
     ]
    },
    {
     "name": "stdout",
     "output_type": "stream",
     "text": [
      "[w_lr, w_lda, w_sv, w_xgb, w_lgbm,w_cb ] =  [0.089 0.037 0.594 0.234 0.254 0.    0.904]\n",
      "norm =  [0.042 0.018 0.281 0.111 0.12  0.    0.428]\n",
      "AUC all:  0.7924767540152156\n",
      "\n"
     ]
    },
    {
     "name": "stderr",
     "output_type": "stream",
     "text": [
      "[I 2019-08-24 12:24:49,418] Finished trial#917 resulted in value: -0.7924767540152156. Current best value is -0.7948717948717948 with parameters: {'w_lr': 0.25932220860425337, 'w_lda': 0.09195697989035678, 'w_sv': 0.6584085004074863, 'w_xgb': 0.23943615391125597, 'w_lgbm': 0.2584978813734697, 'w_mlp': 0.9426610060258075}.\n"
     ]
    },
    {
     "name": "stdout",
     "output_type": "stream",
     "text": [
      "[w_lr, w_lda, w_sv, w_xgb, w_lgbm,w_cb ] =  [0.001 0.084 0.627 0.263 0.175 0.    0.944]\n",
      "norm =  [0.    0.04  0.3   0.125 0.083 0.    0.451]\n",
      "AUC all:  0.7895181741335587\n",
      "\n"
     ]
    },
    {
     "name": "stderr",
     "output_type": "stream",
     "text": [
      "[I 2019-08-24 12:24:50,955] Finished trial#918 resulted in value: -0.7895181741335587. Current best value is -0.7948717948717948 with parameters: {'w_lr': 0.25932220860425337, 'w_lda': 0.09195697989035678, 'w_sv': 0.6584085004074863, 'w_xgb': 0.23943615391125597, 'w_lgbm': 0.2584978813734697, 'w_mlp': 0.9426610060258075}.\n"
     ]
    },
    {
     "name": "stdout",
     "output_type": "stream",
     "text": [
      "[w_lr, w_lda, w_sv, w_xgb, w_lgbm,w_cb ] =  [0.055 0.587 0.629 0.193 0.218 0.    0.958]\n",
      "norm =  [0.021 0.223 0.238 0.073 0.082 0.    0.363]\n",
      "AUC all:  0.7796562411947028\n",
      "\n"
     ]
    },
    {
     "name": "stderr",
     "output_type": "stream",
     "text": [
      "[I 2019-08-24 12:24:52,512] Finished trial#919 resulted in value: -0.7796562411947028. Current best value is -0.7948717948717948 with parameters: {'w_lr': 0.25932220860425337, 'w_lda': 0.09195697989035678, 'w_sv': 0.6584085004074863, 'w_xgb': 0.23943615391125597, 'w_lgbm': 0.2584978813734697, 'w_mlp': 0.9426610060258075}.\n"
     ]
    },
    {
     "name": "stdout",
     "output_type": "stream",
     "text": [
      "[w_lr, w_lda, w_sv, w_xgb, w_lgbm,w_cb ] =  [0.133 0.05  0.632 0.208 0.28  0.    0.973]\n",
      "norm =  [0.059 0.022 0.278 0.092 0.123 0.    0.427]\n",
      "AUC all:  0.7924767540152156\n",
      "\n"
     ]
    },
    {
     "name": "stderr",
     "output_type": "stream",
     "text": [
      "[I 2019-08-24 12:24:54,076] Finished trial#920 resulted in value: -0.7924767540152156. Current best value is -0.7948717948717948 with parameters: {'w_lr': 0.25932220860425337, 'w_lda': 0.09195697989035678, 'w_sv': 0.6584085004074863, 'w_xgb': 0.23943615391125597, 'w_lgbm': 0.2584978813734697, 'w_mlp': 0.9426610060258075}.\n"
     ]
    },
    {
     "name": "stdout",
     "output_type": "stream",
     "text": [
      "[w_lr, w_lda, w_sv, w_xgb, w_lgbm,w_cb ] =  [0.034 0.136 0.609 0.296 0.237 0.    0.964]\n",
      "norm =  [0.015 0.06  0.268 0.13  0.104 0.    0.424]\n",
      "AUC all:  0.7902225979149056\n",
      "\n"
     ]
    },
    {
     "name": "stderr",
     "output_type": "stream",
     "text": [
      "[I 2019-08-24 12:24:55,620] Finished trial#921 resulted in value: -0.7902225979149056. Current best value is -0.7948717948717948 with parameters: {'w_lr': 0.25932220860425337, 'w_lda': 0.09195697989035678, 'w_sv': 0.6584085004074863, 'w_xgb': 0.23943615391125597, 'w_lgbm': 0.2584978813734697, 'w_mlp': 0.9426610060258075}.\n"
     ]
    },
    {
     "name": "stdout",
     "output_type": "stream",
     "text": [
      "[w_lr, w_lda, w_sv, w_xgb, w_lgbm,w_cb ] =  [0.112 0.098 0.621 0.255 0.267 0.    0.938]\n",
      "norm =  [0.049 0.043 0.271 0.111 0.116 0.    0.41 ]\n",
      "AUC all:  0.7944491406029868\n",
      "\n"
     ]
    },
    {
     "name": "stderr",
     "output_type": "stream",
     "text": [
      "[I 2019-08-24 12:24:57,179] Finished trial#922 resulted in value: -0.7944491406029868. Current best value is -0.7948717948717948 with parameters: {'w_lr': 0.25932220860425337, 'w_lda': 0.09195697989035678, 'w_sv': 0.6584085004074863, 'w_xgb': 0.23943615391125597, 'w_lgbm': 0.2584978813734697, 'w_mlp': 0.9426610060258075}.\n"
     ]
    },
    {
     "name": "stdout",
     "output_type": "stream",
     "text": [
      "[w_lr, w_lda, w_sv, w_xgb, w_lgbm,w_cb ] =  [0.107 0.097 0.617 0.252 0.298 0.    0.937]\n",
      "norm =  [0.046 0.042 0.267 0.109 0.129 0.    0.406]\n",
      "AUC all:  0.7927585235277542\n",
      "\n"
     ]
    },
    {
     "name": "stderr",
     "output_type": "stream",
     "text": [
      "[I 2019-08-24 12:24:58,743] Finished trial#923 resulted in value: -0.7927585235277542. Current best value is -0.7948717948717948 with parameters: {'w_lr': 0.25932220860425337, 'w_lda': 0.09195697989035678, 'w_sv': 0.6584085004074863, 'w_xgb': 0.23943615391125597, 'w_lgbm': 0.2584978813734697, 'w_mlp': 0.9426610060258075}.\n"
     ]
    },
    {
     "name": "stdout",
     "output_type": "stream",
     "text": [
      "[w_lr, w_lda, w_sv, w_xgb, w_lgbm,w_cb ] =  [0.111 0.074 0.619 0.78  0.275 0.    0.948]\n",
      "norm =  [0.039 0.026 0.221 0.278 0.098 0.    0.338]\n",
      "AUC all:  0.7875457875457875\n",
      "\n"
     ]
    },
    {
     "name": "stderr",
     "output_type": "stream",
     "text": [
      "[I 2019-08-24 12:25:00,295] Finished trial#924 resulted in value: -0.7875457875457875. Current best value is -0.7948717948717948 with parameters: {'w_lr': 0.25932220860425337, 'w_lda': 0.09195697989035678, 'w_sv': 0.6584085004074863, 'w_xgb': 0.23943615391125597, 'w_lgbm': 0.2584978813734697, 'w_mlp': 0.9426610060258075}.\n"
     ]
    },
    {
     "name": "stdout",
     "output_type": "stream",
     "text": [
      "[w_lr, w_lda, w_sv, w_xgb, w_lgbm,w_cb ] =  [0.121 0.102 0.553 0.264 0.264 0.    0.952]\n",
      "norm =  [0.054 0.045 0.245 0.117 0.117 0.    0.422]\n",
      "AUC all:  0.7948717948717947\n",
      "\n"
     ]
    },
    {
     "name": "stderr",
     "output_type": "stream",
     "text": [
      "[I 2019-08-24 12:25:01,862] Finished trial#925 resulted in value: -0.7948717948717947. Current best value is -0.7948717948717948 with parameters: {'w_lr': 0.25932220860425337, 'w_lda': 0.09195697989035678, 'w_sv': 0.6584085004074863, 'w_xgb': 0.23943615391125597, 'w_lgbm': 0.2584978813734697, 'w_mlp': 0.9426610060258075}.\n"
     ]
    },
    {
     "name": "stdout",
     "output_type": "stream",
     "text": [
      "[w_lr, w_lda, w_sv, w_xgb, w_lgbm,w_cb ] =  [0.12  0.114 0.552 0.27  0.303 0.    0.937]\n",
      "norm =  [0.052 0.05  0.24  0.118 0.132 0.    0.408]\n",
      "AUC all:  0.7930402930402931\n",
      "\n"
     ]
    },
    {
     "name": "stderr",
     "output_type": "stream",
     "text": [
      "[I 2019-08-24 12:25:03,450] Finished trial#926 resulted in value: -0.7930402930402931. Current best value is -0.7948717948717948 with parameters: {'w_lr': 0.25932220860425337, 'w_lda': 0.09195697989035678, 'w_sv': 0.6584085004074863, 'w_xgb': 0.23943615391125597, 'w_lgbm': 0.2584978813734697, 'w_mlp': 0.9426610060258075}.\n"
     ]
    },
    {
     "name": "stdout",
     "output_type": "stream",
     "text": [
      "[w_lr, w_lda, w_sv, w_xgb, w_lgbm,w_cb ] =  [0.121 0.101 0.558 0.279 0.279 0.    0.948]\n",
      "norm =  [0.053 0.044 0.244 0.122 0.122 0.    0.415]\n",
      "AUC all:  0.7937447168216399\n",
      "\n"
     ]
    },
    {
     "name": "stderr",
     "output_type": "stream",
     "text": [
      "[I 2019-08-24 12:25:05,035] Finished trial#927 resulted in value: -0.7937447168216399. Current best value is -0.7948717948717948 with parameters: {'w_lr': 0.25932220860425337, 'w_lda': 0.09195697989035678, 'w_sv': 0.6584085004074863, 'w_xgb': 0.23943615391125597, 'w_lgbm': 0.2584978813734697, 'w_mlp': 0.9426610060258075}.\n"
     ]
    },
    {
     "name": "stdout",
     "output_type": "stream",
     "text": [
      "[w_lr, w_lda, w_sv, w_xgb, w_lgbm,w_cb ] =  [0.129 0.151 0.553 0.258 0.269 0.    0.955]\n",
      "norm =  [0.056 0.065 0.239 0.112 0.116 0.    0.413]\n",
      "AUC all:  0.7921949845026769\n",
      "\n"
     ]
    },
    {
     "name": "stderr",
     "output_type": "stream",
     "text": [
      "[I 2019-08-24 12:25:06,615] Finished trial#928 resulted in value: -0.7921949845026769. Current best value is -0.7948717948717948 with parameters: {'w_lr': 0.25932220860425337, 'w_lda': 0.09195697989035678, 'w_sv': 0.6584085004074863, 'w_xgb': 0.23943615391125597, 'w_lgbm': 0.2584978813734697, 'w_mlp': 0.9426610060258075}.\n"
     ]
    },
    {
     "name": "stdout",
     "output_type": "stream",
     "text": [
      "[w_lr, w_lda, w_sv, w_xgb, w_lgbm,w_cb ] =  [0.139 0.07  0.611 0.298 0.248 0.    0.938]\n",
      "norm =  [0.06  0.03  0.265 0.129 0.108 0.    0.407]\n",
      "AUC all:  0.7923358692589462\n",
      "\n"
     ]
    },
    {
     "name": "stderr",
     "output_type": "stream",
     "text": [
      "[I 2019-08-24 12:25:08,196] Finished trial#929 resulted in value: -0.7923358692589462. Current best value is -0.7948717948717948 with parameters: {'w_lr': 0.25932220860425337, 'w_lda': 0.09195697989035678, 'w_sv': 0.6584085004074863, 'w_xgb': 0.23943615391125597, 'w_lgbm': 0.2584978813734697, 'w_mlp': 0.9426610060258075}.\n"
     ]
    },
    {
     "name": "stdout",
     "output_type": "stream",
     "text": [
      "[w_lr, w_lda, w_sv, w_xgb, w_lgbm,w_cb ] =  [0.113 0.123 0.555 0.251 0.292 0.    0.953]\n",
      "norm =  [0.05  0.054 0.243 0.11  0.128 0.    0.417]\n",
      "AUC all:  0.7928994082840236\n",
      "\n"
     ]
    },
    {
     "name": "stderr",
     "output_type": "stream",
     "text": [
      "[I 2019-08-24 12:25:09,777] Finished trial#930 resulted in value: -0.7928994082840236. Current best value is -0.7948717948717948 with parameters: {'w_lr': 0.25932220860425337, 'w_lda': 0.09195697989035678, 'w_sv': 0.6584085004074863, 'w_xgb': 0.23943615391125597, 'w_lgbm': 0.2584978813734697, 'w_mlp': 0.9426610060258075}.\n"
     ]
    },
    {
     "name": "stdout",
     "output_type": "stream",
     "text": [
      "[w_lr, w_lda, w_sv, w_xgb, w_lgbm,w_cb ] =  [0.11  0.107 0.569 0.268 0.351 0.    0.963]\n",
      "norm =  [0.047 0.045 0.24  0.113 0.148 0.    0.407]\n",
      "AUC all:  0.7906452521837137\n",
      "\n"
     ]
    },
    {
     "name": "stderr",
     "output_type": "stream",
     "text": [
      "[I 2019-08-24 12:25:11,361] Finished trial#931 resulted in value: -0.7906452521837137. Current best value is -0.7948717948717948 with parameters: {'w_lr': 0.25932220860425337, 'w_lda': 0.09195697989035678, 'w_sv': 0.6584085004074863, 'w_xgb': 0.23943615391125597, 'w_lgbm': 0.2584978813734697, 'w_mlp': 0.9426610060258075}.\n"
     ]
    },
    {
     "name": "stdout",
     "output_type": "stream",
     "text": [
      "[w_lr, w_lda, w_sv, w_xgb, w_lgbm,w_cb ] =  [0.134 0.089 0.56  0.286 0.262 0.    0.927]\n",
      "norm =  [0.06  0.039 0.248 0.127 0.116 0.    0.41 ]\n",
      "AUC all:  0.7930402930402931\n",
      "\n"
     ]
    },
    {
     "name": "stderr",
     "output_type": "stream",
     "text": [
      "[I 2019-08-24 12:25:12,928] Finished trial#932 resulted in value: -0.7930402930402931. Current best value is -0.7948717948717948 with parameters: {'w_lr': 0.25932220860425337, 'w_lda': 0.09195697989035678, 'w_sv': 0.6584085004074863, 'w_xgb': 0.23943615391125597, 'w_lgbm': 0.2584978813734697, 'w_mlp': 0.9426610060258075}.\n"
     ]
    },
    {
     "name": "stdout",
     "output_type": "stream",
     "text": [
      "[w_lr, w_lda, w_sv, w_xgb, w_lgbm,w_cb ] =  [0.096 0.056 0.621 0.314 0.23  0.    0.943]\n",
      "norm =  [0.042 0.025 0.275 0.139 0.102 0.    0.417]\n",
      "AUC all:  0.7910679064525218\n",
      "\n"
     ]
    },
    {
     "name": "stderr",
     "output_type": "stream",
     "text": [
      "[I 2019-08-24 12:25:14,515] Finished trial#933 resulted in value: -0.7910679064525218. Current best value is -0.7948717948717948 with parameters: {'w_lr': 0.25932220860425337, 'w_lda': 0.09195697989035678, 'w_sv': 0.6584085004074863, 'w_xgb': 0.23943615391125597, 'w_lgbm': 0.2584978813734697, 'w_mlp': 0.9426610060258075}.\n"
     ]
    },
    {
     "name": "stdout",
     "output_type": "stream",
     "text": [
      "[w_lr, w_lda, w_sv, w_xgb, w_lgbm,w_cb ] =  [0.101 0.085 0.629 0.265 0.2   0.    0.933]\n",
      "norm =  [0.046 0.038 0.284 0.12  0.09  0.    0.422]\n",
      "AUC all:  0.7907861369399831\n",
      "\n"
     ]
    },
    {
     "name": "stderr",
     "output_type": "stream",
     "text": [
      "[I 2019-08-24 12:25:16,111] Finished trial#934 resulted in value: -0.7907861369399831. Current best value is -0.7948717948717948 with parameters: {'w_lr': 0.25932220860425337, 'w_lda': 0.09195697989035678, 'w_sv': 0.6584085004074863, 'w_xgb': 0.23943615391125597, 'w_lgbm': 0.2584978813734697, 'w_mlp': 0.9426610060258075}.\n"
     ]
    },
    {
     "name": "stdout",
     "output_type": "stream",
     "text": [
      "[w_lr, w_lda, w_sv, w_xgb, w_lgbm,w_cb ] =  [0.14  0.138 0.582 0.244 0.331 0.    0.954]\n",
      "norm =  [0.058 0.058 0.244 0.102 0.139 0.    0.399]\n",
      "AUC all:  0.791913214990138\n",
      "\n"
     ]
    },
    {
     "name": "stderr",
     "output_type": "stream",
     "text": [
      "[I 2019-08-24 12:25:17,708] Finished trial#935 resulted in value: -0.791913214990138. Current best value is -0.7948717948717948 with parameters: {'w_lr': 0.25932220860425337, 'w_lda': 0.09195697989035678, 'w_sv': 0.6584085004074863, 'w_xgb': 0.23943615391125597, 'w_lgbm': 0.2584978813734697, 'w_mlp': 0.9426610060258075}.\n"
     ]
    },
    {
     "name": "stdout",
     "output_type": "stream",
     "text": [
      "[w_lr, w_lda, w_sv, w_xgb, w_lgbm,w_cb ] =  [0.136 0.119 0.569 0.23  0.596 0.    0.803]\n",
      "norm =  [0.056 0.049 0.232 0.094 0.243 0.    0.327]\n",
      "AUC all:  0.7834601296139757\n",
      "\n"
     ]
    },
    {
     "name": "stderr",
     "output_type": "stream",
     "text": [
      "[I 2019-08-24 12:25:19,312] Finished trial#936 resulted in value: -0.7834601296139757. Current best value is -0.7948717948717948 with parameters: {'w_lr': 0.25932220860425337, 'w_lda': 0.09195697989035678, 'w_sv': 0.6584085004074863, 'w_xgb': 0.23943615391125597, 'w_lgbm': 0.2584978813734697, 'w_mlp': 0.9426610060258075}.\n"
     ]
    },
    {
     "name": "stdout",
     "output_type": "stream",
     "text": [
      "[w_lr, w_lda, w_sv, w_xgb, w_lgbm,w_cb ] =  [0.11  0.101 0.55  0.224 0.283 0.    0.84 ]\n",
      "norm =  [0.052 0.048 0.261 0.106 0.134 0.    0.399]\n",
      "AUC all:  0.7924767540152156\n",
      "\n"
     ]
    },
    {
     "name": "stderr",
     "output_type": "stream",
     "text": [
      "[I 2019-08-24 12:25:20,907] Finished trial#937 resulted in value: -0.7924767540152156. Current best value is -0.7948717948717948 with parameters: {'w_lr': 0.25932220860425337, 'w_lda': 0.09195697989035678, 'w_sv': 0.6584085004074863, 'w_xgb': 0.23943615391125597, 'w_lgbm': 0.2584978813734697, 'w_mlp': 0.9426610060258075}.\n"
     ]
    },
    {
     "name": "stdout",
     "output_type": "stream",
     "text": [
      "[w_lr, w_lda, w_sv, w_xgb, w_lgbm,w_cb ] =  [0.154 0.062 0.518 0.286 0.307 0.    0.957]\n",
      "norm =  [0.067 0.027 0.227 0.125 0.134 0.    0.419]\n",
      "AUC all:  0.7921949845026768\n",
      "\n"
     ]
    },
    {
     "name": "stderr",
     "output_type": "stream",
     "text": [
      "[I 2019-08-24 12:25:22,488] Finished trial#938 resulted in value: -0.7921949845026768. Current best value is -0.7948717948717948 with parameters: {'w_lr': 0.25932220860425337, 'w_lda': 0.09195697989035678, 'w_sv': 0.6584085004074863, 'w_xgb': 0.23943615391125597, 'w_lgbm': 0.2584978813734697, 'w_mlp': 0.9426610060258075}.\n"
     ]
    },
    {
     "name": "stdout",
     "output_type": "stream",
     "text": [
      "[w_lr, w_lda, w_sv, w_xgb, w_lgbm,w_cb ] =  [0.092 0.132 0.561 0.261 0.264 0.    0.967]\n",
      "norm =  [0.04  0.058 0.246 0.115 0.116 0.    0.425]\n",
      "AUC all:  0.7924767540152156\n",
      "\n"
     ]
    },
    {
     "name": "stderr",
     "output_type": "stream",
     "text": [
      "[I 2019-08-24 12:25:24,079] Finished trial#939 resulted in value: -0.7924767540152156. Current best value is -0.7948717948717948 with parameters: {'w_lr': 0.25932220860425337, 'w_lda': 0.09195697989035678, 'w_sv': 0.6584085004074863, 'w_xgb': 0.23943615391125597, 'w_lgbm': 0.2584978813734697, 'w_mlp': 0.9426610060258075}.\n"
     ]
    },
    {
     "name": "stdout",
     "output_type": "stream",
     "text": [
      "[w_lr, w_lda, w_sv, w_xgb, w_lgbm,w_cb ] =  [0.149 0.085 0.636 0.304 0.259 0.    0.947]\n",
      "norm =  [0.063 0.036 0.267 0.128 0.109 0.    0.398]\n",
      "AUC all:  0.7924767540152156\n",
      "\n"
     ]
    },
    {
     "name": "stderr",
     "output_type": "stream",
     "text": [
      "[I 2019-08-24 12:25:25,668] Finished trial#940 resulted in value: -0.7924767540152156. Current best value is -0.7948717948717948 with parameters: {'w_lr': 0.25932220860425337, 'w_lda': 0.09195697989035678, 'w_sv': 0.6584085004074863, 'w_xgb': 0.23943615391125597, 'w_lgbm': 0.2584978813734697, 'w_mlp': 0.9426610060258075}.\n"
     ]
    },
    {
     "name": "stdout",
     "output_type": "stream",
     "text": [
      "[w_lr, w_lda, w_sv, w_xgb, w_lgbm,w_cb ] =  [0.128 0.156 0.575 0.233 0.244 0.    0.586]\n",
      "norm =  [0.067 0.081 0.299 0.121 0.127 0.    0.305]\n",
      "AUC all:  0.7919132149901381\n",
      "\n"
     ]
    },
    {
     "name": "stderr",
     "output_type": "stream",
     "text": [
      "[I 2019-08-24 12:25:27,258] Finished trial#941 resulted in value: -0.7919132149901381. Current best value is -0.7948717948717948 with parameters: {'w_lr': 0.25932220860425337, 'w_lda': 0.09195697989035678, 'w_sv': 0.6584085004074863, 'w_xgb': 0.23943615391125597, 'w_lgbm': 0.2584978813734697, 'w_mlp': 0.9426610060258075}.\n"
     ]
    },
    {
     "name": "stdout",
     "output_type": "stream",
     "text": [
      "[w_lr, w_lda, w_sv, w_xgb, w_lgbm,w_cb ] =  [0.165 0.107 0.547 0.247 0.276 0.    0.921]\n",
      "norm =  [0.073 0.047 0.242 0.109 0.122 0.    0.407]\n",
      "AUC all:  0.7931811777965624\n",
      "\n"
     ]
    },
    {
     "name": "stderr",
     "output_type": "stream",
     "text": [
      "[I 2019-08-24 12:25:28,844] Finished trial#942 resulted in value: -0.7931811777965624. Current best value is -0.7948717948717948 with parameters: {'w_lr': 0.25932220860425337, 'w_lda': 0.09195697989035678, 'w_sv': 0.6584085004074863, 'w_xgb': 0.23943615391125597, 'w_lgbm': 0.2584978813734697, 'w_mlp': 0.9426610060258075}.\n"
     ]
    },
    {
     "name": "stdout",
     "output_type": "stream",
     "text": [
      "[w_lr, w_lda, w_sv, w_xgb, w_lgbm,w_cb ] =  [0.119 0.09  0.533 0.213 0.227 0.    0.934]\n",
      "norm =  [0.056 0.042 0.252 0.101 0.107 0.    0.442]\n",
      "AUC all:  0.7924767540152156\n",
      "\n"
     ]
    },
    {
     "name": "stderr",
     "output_type": "stream",
     "text": [
      "[I 2019-08-24 12:25:30,428] Finished trial#943 resulted in value: -0.7924767540152156. Current best value is -0.7948717948717948 with parameters: {'w_lr': 0.25932220860425337, 'w_lda': 0.09195697989035678, 'w_sv': 0.6584085004074863, 'w_xgb': 0.23943615391125597, 'w_lgbm': 0.2584978813734697, 'w_mlp': 0.9426610060258075}.\n"
     ]
    },
    {
     "name": "stdout",
     "output_type": "stream",
     "text": [
      "[w_lr, w_lda, w_sv, w_xgb, w_lgbm,w_cb ] =  [0.084 0.04  0.624 0.278 0.239 0.    0.943]\n",
      "norm =  [0.038 0.018 0.282 0.126 0.108 0.    0.427]\n",
      "AUC all:  0.792617638771485\n",
      "\n"
     ]
    },
    {
     "name": "stderr",
     "output_type": "stream",
     "text": [
      "[I 2019-08-24 12:25:32,018] Finished trial#944 resulted in value: -0.792617638771485. Current best value is -0.7948717948717948 with parameters: {'w_lr': 0.25932220860425337, 'w_lda': 0.09195697989035678, 'w_sv': 0.6584085004074863, 'w_xgb': 0.23943615391125597, 'w_lgbm': 0.2584978813734697, 'w_mlp': 0.9426610060258075}.\n"
     ]
    },
    {
     "name": "stdout",
     "output_type": "stream",
     "text": [
      "[w_lr, w_lda, w_sv, w_xgb, w_lgbm,w_cb ] =  [0.169 0.119 0.571 0.257 0.292 0.    0.962]\n",
      "norm =  [0.071 0.05  0.241 0.109 0.123 0.    0.406]\n",
      "AUC all:  0.793462947309101\n",
      "\n"
     ]
    },
    {
     "name": "stderr",
     "output_type": "stream",
     "text": [
      "[I 2019-08-24 12:25:33,610] Finished trial#945 resulted in value: -0.793462947309101. Current best value is -0.7948717948717948 with parameters: {'w_lr': 0.25932220860425337, 'w_lda': 0.09195697989035678, 'w_sv': 0.6584085004074863, 'w_xgb': 0.23943615391125597, 'w_lgbm': 0.2584978813734697, 'w_mlp': 0.9426610060258075}.\n"
     ]
    },
    {
     "name": "stdout",
     "output_type": "stream",
     "text": [
      "[w_lr, w_lda, w_sv, w_xgb, w_lgbm,w_cb ] =  [0.109 0.066 0.638 0.298 0.53  0.    0.926]\n",
      "norm =  [0.043 0.026 0.248 0.116 0.207 0.    0.361]\n",
      "AUC all:  0.7869822485207101\n",
      "\n"
     ]
    },
    {
     "name": "stderr",
     "output_type": "stream",
     "text": [
      "[I 2019-08-24 12:25:35,227] Finished trial#946 resulted in value: -0.7869822485207101. Current best value is -0.7948717948717948 with parameters: {'w_lr': 0.25932220860425337, 'w_lda': 0.09195697989035678, 'w_sv': 0.6584085004074863, 'w_xgb': 0.23943615391125597, 'w_lgbm': 0.2584978813734697, 'w_mlp': 0.9426610060258075}.\n"
     ]
    },
    {
     "name": "stdout",
     "output_type": "stream",
     "text": [
      "[w_lr, w_lda, w_sv, w_xgb, w_lgbm,w_cb ] =  [0.165 0.1   0.579 0.23  0.261 0.    0.971]\n",
      "norm =  [0.072 0.043 0.251 0.1   0.113 0.    0.421]\n",
      "AUC all:  0.794167371090448\n",
      "\n"
     ]
    },
    {
     "name": "stderr",
     "output_type": "stream",
     "text": [
      "[I 2019-08-24 12:25:36,812] Finished trial#947 resulted in value: -0.794167371090448. Current best value is -0.7948717948717948 with parameters: {'w_lr': 0.25932220860425337, 'w_lda': 0.09195697989035678, 'w_sv': 0.6584085004074863, 'w_xgb': 0.23943615391125597, 'w_lgbm': 0.2584978813734697, 'w_mlp': 0.9426610060258075}.\n"
     ]
    },
    {
     "name": "stdout",
     "output_type": "stream",
     "text": [
      "[w_lr, w_lda, w_sv, w_xgb, w_lgbm,w_cb ] =  [0.148 0.077 0.582 0.19  0.31  0.    0.919]\n",
      "norm =  [0.066 0.034 0.262 0.085 0.139 0.    0.413]\n",
      "AUC all:  0.7897999436460975\n",
      "\n"
     ]
    },
    {
     "name": "stderr",
     "output_type": "stream",
     "text": [
      "[I 2019-08-24 12:25:38,433] Finished trial#948 resulted in value: -0.7897999436460975. Current best value is -0.7948717948717948 with parameters: {'w_lr': 0.25932220860425337, 'w_lda': 0.09195697989035678, 'w_sv': 0.6584085004074863, 'w_xgb': 0.23943615391125597, 'w_lgbm': 0.2584978813734697, 'w_mlp': 0.9426610060258075}.\n"
     ]
    },
    {
     "name": "stdout",
     "output_type": "stream",
     "text": [
      "[w_lr, w_lda, w_sv, w_xgb, w_lgbm,w_cb ] =  [0.18  0.181 0.567 0.247 0.286 0.    0.972]\n",
      "norm =  [0.074 0.075 0.233 0.101 0.118 0.    0.399]\n",
      "AUC all:  0.7917723302338687\n",
      "\n"
     ]
    },
    {
     "name": "stderr",
     "output_type": "stream",
     "text": [
      "[I 2019-08-24 12:25:40,040] Finished trial#949 resulted in value: -0.7917723302338687. Current best value is -0.7948717948717948 with parameters: {'w_lr': 0.25932220860425337, 'w_lda': 0.09195697989035678, 'w_sv': 0.6584085004074863, 'w_xgb': 0.23943615391125597, 'w_lgbm': 0.2584978813734697, 'w_mlp': 0.9426610060258075}.\n"
     ]
    },
    {
     "name": "stdout",
     "output_type": "stream",
     "text": [
      "[w_lr, w_lda, w_sv, w_xgb, w_lgbm,w_cb ] =  [0.166 0.134 0.578 0.267 0.087 0.    0.974]\n",
      "norm =  [0.075 0.061 0.262 0.121 0.04  0.    0.442]\n",
      "AUC all:  0.7838827838827839\n",
      "\n"
     ]
    },
    {
     "name": "stderr",
     "output_type": "stream",
     "text": [
      "[I 2019-08-24 12:25:41,636] Finished trial#950 resulted in value: -0.7838827838827839. Current best value is -0.7948717948717948 with parameters: {'w_lr': 0.25932220860425337, 'w_lda': 0.09195697989035678, 'w_sv': 0.6584085004074863, 'w_xgb': 0.23943615391125597, 'w_lgbm': 0.2584978813734697, 'w_mlp': 0.9426610060258075}.\n"
     ]
    },
    {
     "name": "stdout",
     "output_type": "stream",
     "text": [
      "[w_lr, w_lda, w_sv, w_xgb, w_lgbm,w_cb ] =  [0.148 0.105 0.586 0.239 0.264 0.    0.951]\n",
      "norm =  [0.065 0.046 0.256 0.104 0.115 0.    0.415]\n",
      "AUC all:  0.7943082558467174\n",
      "\n"
     ]
    },
    {
     "name": "stderr",
     "output_type": "stream",
     "text": [
      "[I 2019-08-24 12:25:43,259] Finished trial#951 resulted in value: -0.7943082558467174. Current best value is -0.7948717948717948 with parameters: {'w_lr': 0.25932220860425337, 'w_lda': 0.09195697989035678, 'w_sv': 0.6584085004074863, 'w_xgb': 0.23943615391125597, 'w_lgbm': 0.2584978813734697, 'w_mlp': 0.9426610060258075}.\n"
     ]
    },
    {
     "name": "stdout",
     "output_type": "stream",
     "text": [
      "[w_lr, w_lda, w_sv, w_xgb, w_lgbm,w_cb ] =  [0.134 0.147 0.586 0.227 0.947 0.    0.951]\n",
      "norm =  [0.045 0.049 0.196 0.076 0.316 0.    0.318]\n",
      "AUC all:  0.7788109326570866\n",
      "\n"
     ]
    },
    {
     "name": "stderr",
     "output_type": "stream",
     "text": [
      "[I 2019-08-24 12:25:44,867] Finished trial#952 resulted in value: -0.7788109326570866. Current best value is -0.7948717948717948 with parameters: {'w_lr': 0.25932220860425337, 'w_lda': 0.09195697989035678, 'w_sv': 0.6584085004074863, 'w_xgb': 0.23943615391125597, 'w_lgbm': 0.2584978813734697, 'w_mlp': 0.9426610060258075}.\n"
     ]
    },
    {
     "name": "stdout",
     "output_type": "stream",
     "text": [
      "[w_lr, w_lda, w_sv, w_xgb, w_lgbm,w_cb ] =  [0.15  0.121 0.587 0.259 0.278 0.    0.959]\n",
      "norm =  [0.064 0.051 0.25  0.11  0.118 0.    0.407]\n",
      "AUC all:  0.79374471682164\n",
      "\n"
     ]
    },
    {
     "name": "stderr",
     "output_type": "stream",
     "text": [
      "[I 2019-08-24 12:25:46,465] Finished trial#953 resulted in value: -0.79374471682164. Current best value is -0.7948717948717948 with parameters: {'w_lr': 0.25932220860425337, 'w_lda': 0.09195697989035678, 'w_sv': 0.6584085004074863, 'w_xgb': 0.23943615391125597, 'w_lgbm': 0.2584978813734697, 'w_mlp': 0.9426610060258075}.\n"
     ]
    },
    {
     "name": "stdout",
     "output_type": "stream",
     "text": [
      "[w_lr, w_lda, w_sv, w_xgb, w_lgbm,w_cb ] =  [0.172 0.103 0.581 0.282 0.307 0.    0.947]\n",
      "norm =  [0.072 0.043 0.243 0.118 0.128 0.    0.396]\n",
      "AUC all:  0.7927585235277543\n",
      "\n"
     ]
    },
    {
     "name": "stderr",
     "output_type": "stream",
     "text": [
      "[I 2019-08-24 12:25:48,068] Finished trial#954 resulted in value: -0.7927585235277543. Current best value is -0.7948717948717948 with parameters: {'w_lr': 0.25932220860425337, 'w_lda': 0.09195697989035678, 'w_sv': 0.6584085004074863, 'w_xgb': 0.23943615391125597, 'w_lgbm': 0.2584978813734697, 'w_mlp': 0.9426610060258075}.\n"
     ]
    },
    {
     "name": "stdout",
     "output_type": "stream",
     "text": [
      "[w_lr, w_lda, w_sv, w_xgb, w_lgbm,w_cb ] =  [0.144 0.16  0.593 0.244 0.3   0.    0.968]\n",
      "norm =  [0.06  0.066 0.246 0.101 0.124 0.    0.402]\n",
      "AUC all:  0.7921949845026769\n",
      "\n"
     ]
    },
    {
     "name": "stderr",
     "output_type": "stream",
     "text": [
      "[I 2019-08-24 12:25:49,698] Finished trial#955 resulted in value: -0.7921949845026769. Current best value is -0.7948717948717948 with parameters: {'w_lr': 0.25932220860425337, 'w_lda': 0.09195697989035678, 'w_sv': 0.6584085004074863, 'w_xgb': 0.23943615391125597, 'w_lgbm': 0.2584978813734697, 'w_mlp': 0.9426610060258075}.\n"
     ]
    },
    {
     "name": "stdout",
     "output_type": "stream",
     "text": [
      "[w_lr, w_lda, w_sv, w_xgb, w_lgbm,w_cb ] =  [0.173 0.096 0.601 0.267 0.334 0.    0.961]\n",
      "norm =  [0.071 0.04  0.247 0.11  0.137 0.    0.395]\n",
      "AUC all:  0.7917723302338688\n",
      "\n"
     ]
    },
    {
     "name": "stderr",
     "output_type": "stream",
     "text": [
      "[I 2019-08-24 12:25:51,301] Finished trial#956 resulted in value: -0.7917723302338688. Current best value is -0.7948717948717948 with parameters: {'w_lr': 0.25932220860425337, 'w_lda': 0.09195697989035678, 'w_sv': 0.6584085004074863, 'w_xgb': 0.23943615391125597, 'w_lgbm': 0.2584978813734697, 'w_mlp': 0.9426610060258075}.\n"
     ]
    },
    {
     "name": "stdout",
     "output_type": "stream",
     "text": [
      "[w_lr, w_lda, w_sv, w_xgb, w_lgbm,w_cb ] =  [0.125 0.127 0.594 0.294 0.266 0.    0.951]\n",
      "norm =  [0.053 0.054 0.252 0.125 0.113 0.    0.403]\n",
      "AUC all:  0.7937447168216398\n",
      "\n"
     ]
    },
    {
     "name": "stderr",
     "output_type": "stream",
     "text": [
      "[I 2019-08-24 12:25:52,924] Finished trial#957 resulted in value: -0.7937447168216398. Current best value is -0.7948717948717948 with parameters: {'w_lr': 0.25932220860425337, 'w_lda': 0.09195697989035678, 'w_sv': 0.6584085004074863, 'w_xgb': 0.23943615391125597, 'w_lgbm': 0.2584978813734697, 'w_mlp': 0.9426610060258075}.\n"
     ]
    },
    {
     "name": "stdout",
     "output_type": "stream",
     "text": [
      "[w_lr, w_lda, w_sv, w_xgb, w_lgbm,w_cb ] =  [0.146 0.109 0.576 0.239 0.286 0.    0.978]\n",
      "norm =  [0.063 0.047 0.247 0.102 0.122 0.    0.419]\n",
      "AUC all:  0.7927585235277542\n",
      "\n"
     ]
    },
    {
     "name": "stderr",
     "output_type": "stream",
     "text": [
      "[I 2019-08-24 12:25:54,562] Finished trial#958 resulted in value: -0.7927585235277542. Current best value is -0.7948717948717948 with parameters: {'w_lr': 0.25932220860425337, 'w_lda': 0.09195697989035678, 'w_sv': 0.6584085004074863, 'w_xgb': 0.23943615391125597, 'w_lgbm': 0.2584978813734697, 'w_mlp': 0.9426610060258075}.\n"
     ]
    },
    {
     "name": "stdout",
     "output_type": "stream",
     "text": [
      "[w_lr, w_lda, w_sv, w_xgb, w_lgbm,w_cb ] =  [0.151 0.064 0.597 0.274 0.259 0.    0.942]\n",
      "norm =  [0.066 0.028 0.261 0.12  0.113 0.    0.412]\n",
      "AUC all:  0.7930402930402931\n",
      "\n"
     ]
    },
    {
     "name": "stderr",
     "output_type": "stream",
     "text": [
      "[I 2019-08-24 12:25:56,207] Finished trial#959 resulted in value: -0.7930402930402931. Current best value is -0.7948717948717948 with parameters: {'w_lr': 0.25932220860425337, 'w_lda': 0.09195697989035678, 'w_sv': 0.6584085004074863, 'w_xgb': 0.23943615391125597, 'w_lgbm': 0.2584978813734697, 'w_mlp': 0.9426610060258075}.\n"
     ]
    },
    {
     "name": "stdout",
     "output_type": "stream",
     "text": [
      "[w_lr, w_lda, w_sv, w_xgb, w_lgbm,w_cb ] =  [0.127 0.142 0.584 0.221 0.271 0.    0.646]\n",
      "norm =  [0.064 0.071 0.293 0.111 0.136 0.    0.324]\n",
      "AUC all:  0.7927585235277543\n",
      "\n"
     ]
    },
    {
     "name": "stderr",
     "output_type": "stream",
     "text": [
      "[I 2019-08-24 12:25:57,830] Finished trial#960 resulted in value: -0.7927585235277543. Current best value is -0.7948717948717948 with parameters: {'w_lr': 0.25932220860425337, 'w_lda': 0.09195697989035678, 'w_sv': 0.6584085004074863, 'w_xgb': 0.23943615391125597, 'w_lgbm': 0.2584978813734697, 'w_mlp': 0.9426610060258075}.\n"
     ]
    },
    {
     "name": "stdout",
     "output_type": "stream",
     "text": [
      "[w_lr, w_lda, w_sv, w_xgb, w_lgbm,w_cb ] =  [0.154 0.087 0.603 0.261 0.313 0.    0.955]\n",
      "norm =  [0.065 0.037 0.254 0.11  0.132 0.    0.403]\n",
      "AUC all:  0.7923358692589462\n",
      "\n"
     ]
    },
    {
     "name": "stderr",
     "output_type": "stream",
     "text": [
      "[I 2019-08-24 12:25:59,473] Finished trial#961 resulted in value: -0.7923358692589462. Current best value is -0.7948717948717948 with parameters: {'w_lr': 0.25932220860425337, 'w_lda': 0.09195697989035678, 'w_sv': 0.6584085004074863, 'w_xgb': 0.23943615391125597, 'w_lgbm': 0.2584978813734697, 'w_mlp': 0.9426610060258075}.\n"
     ]
    },
    {
     "name": "stdout",
     "output_type": "stream",
     "text": [
      "[w_lr, w_lda, w_sv, w_xgb, w_lgbm,w_cb ] =  [0.117 0.99  0.591 0.212 0.25  0.    0.938]\n",
      "norm =  [0.038 0.32  0.191 0.068 0.081 0.    0.303]\n",
      "AUC all:  0.7762750070442378\n",
      "\n"
     ]
    },
    {
     "name": "stderr",
     "output_type": "stream",
     "text": [
      "[I 2019-08-24 12:26:01,114] Finished trial#962 resulted in value: -0.7762750070442378. Current best value is -0.7948717948717948 with parameters: {'w_lr': 0.25932220860425337, 'w_lda': 0.09195697989035678, 'w_sv': 0.6584085004074863, 'w_xgb': 0.23943615391125597, 'w_lgbm': 0.2584978813734697, 'w_mlp': 0.9426610060258075}.\n"
     ]
    },
    {
     "name": "stdout",
     "output_type": "stream",
     "text": [
      "[w_lr, w_lda, w_sv, w_xgb, w_lgbm,w_cb ] =  [0.173 0.116 0.76  0.248 0.286 0.    0.963]\n",
      "norm =  [0.068 0.046 0.299 0.097 0.113 0.    0.378]\n",
      "AUC all:  0.7933220625528318\n",
      "\n"
     ]
    },
    {
     "name": "stderr",
     "output_type": "stream",
     "text": [
      "[I 2019-08-24 12:26:02,761] Finished trial#963 resulted in value: -0.7933220625528318. Current best value is -0.7948717948717948 with parameters: {'w_lr': 0.25932220860425337, 'w_lda': 0.09195697989035678, 'w_sv': 0.6584085004074863, 'w_xgb': 0.23943615391125597, 'w_lgbm': 0.2584978813734697, 'w_mlp': 0.9426610060258075}.\n"
     ]
    },
    {
     "name": "stdout",
     "output_type": "stream",
     "text": [
      "[w_lr, w_lda, w_sv, w_xgb, w_lgbm,w_cb ] =  [0.165 0.131 0.578 0.322 0.26  0.    0.934]\n",
      "norm =  [0.069 0.055 0.242 0.135 0.109 0.    0.391]\n",
      "AUC all:  0.7916314454775993\n",
      "\n"
     ]
    },
    {
     "name": "stderr",
     "output_type": "stream",
     "text": [
      "[I 2019-08-24 12:26:04,374] Finished trial#964 resulted in value: -0.7916314454775993. Current best value is -0.7948717948717948 with parameters: {'w_lr': 0.25932220860425337, 'w_lda': 0.09195697989035678, 'w_sv': 0.6584085004074863, 'w_xgb': 0.23943615391125597, 'w_lgbm': 0.2584978813734697, 'w_mlp': 0.9426610060258075}.\n"
     ]
    },
    {
     "name": "stdout",
     "output_type": "stream",
     "text": [
      "[w_lr, w_lda, w_sv, w_xgb, w_lgbm,w_cb ] =  [0.136 0.1   0.58  0.228 0.272 0.    0.945]\n",
      "norm =  [0.06  0.044 0.256 0.101 0.12  0.    0.418]\n",
      "AUC all:  0.7927585235277543\n",
      "\n"
     ]
    },
    {
     "name": "stderr",
     "output_type": "stream",
     "text": [
      "[I 2019-08-24 12:26:05,991] Finished trial#965 resulted in value: -0.7927585235277543. Current best value is -0.7948717948717948 with parameters: {'w_lr': 0.25932220860425337, 'w_lda': 0.09195697989035678, 'w_sv': 0.6584085004074863, 'w_xgb': 0.23943615391125597, 'w_lgbm': 0.2584978813734697, 'w_mlp': 0.9426610060258075}.\n"
     ]
    },
    {
     "name": "stdout",
     "output_type": "stream",
     "text": [
      "[w_lr, w_lda, w_sv, w_xgb, w_lgbm,w_cb ] =  [0.104 0.077 0.572 0.283 0.244 0.    0.93 ]\n",
      "norm =  [0.047 0.035 0.259 0.128 0.11  0.    0.421]\n",
      "AUC all:  0.7921949845026768\n",
      "\n"
     ]
    },
    {
     "name": "stderr",
     "output_type": "stream",
     "text": [
      "[I 2019-08-24 12:26:07,619] Finished trial#966 resulted in value: -0.7921949845026768. Current best value is -0.7948717948717948 with parameters: {'w_lr': 0.25932220860425337, 'w_lda': 0.09195697989035678, 'w_sv': 0.6584085004074863, 'w_xgb': 0.23943615391125597, 'w_lgbm': 0.2584978813734697, 'w_mlp': 0.9426610060258075}.\n"
     ]
    },
    {
     "name": "stdout",
     "output_type": "stream",
     "text": [
      "[w_lr, w_lda, w_sv, w_xgb, w_lgbm,w_cb ] =  [0.142 0.757 0.614 0.253 0.299 0.    0.603]\n",
      "norm =  [0.053 0.284 0.23  0.095 0.112 0.    0.226]\n",
      "AUC all:  0.7789518174133558\n",
      "\n"
     ]
    },
    {
     "name": "stderr",
     "output_type": "stream",
     "text": [
      "[I 2019-08-24 12:26:09,242] Finished trial#967 resulted in value: -0.7789518174133558. Current best value is -0.7948717948717948 with parameters: {'w_lr': 0.25932220860425337, 'w_lda': 0.09195697989035678, 'w_sv': 0.6584085004074863, 'w_xgb': 0.23943615391125597, 'w_lgbm': 0.2584978813734697, 'w_mlp': 0.9426610060258075}.\n"
     ]
    },
    {
     "name": "stdout",
     "output_type": "stream",
     "text": [
      "[w_lr, w_lda, w_sv, w_xgb, w_lgbm,w_cb ] =  [0.094 0.164 0.5   0.232 0.254 0.    0.94 ]\n",
      "norm =  [0.043 0.075 0.229 0.106 0.116 0.    0.43 ]\n",
      "AUC all:  0.7921949845026768\n",
      "\n"
     ]
    },
    {
     "name": "stderr",
     "output_type": "stream",
     "text": [
      "[I 2019-08-24 12:26:10,865] Finished trial#968 resulted in value: -0.7921949845026768. Current best value is -0.7948717948717948 with parameters: {'w_lr': 0.25932220860425337, 'w_lda': 0.09195697989035678, 'w_sv': 0.6584085004074863, 'w_xgb': 0.23943615391125597, 'w_lgbm': 0.2584978813734697, 'w_mlp': 0.9426610060258075}.\n"
     ]
    },
    {
     "name": "stdout",
     "output_type": "stream",
     "text": [
      "[w_lr, w_lda, w_sv, w_xgb, w_lgbm,w_cb ] =  [0.19  0.124 0.565 0.311 0.321 0.    0.982]\n",
      "norm =  [0.076 0.05  0.227 0.125 0.129 0.    0.394]\n",
      "AUC all:  0.7924767540152156\n",
      "\n"
     ]
    },
    {
     "name": "stderr",
     "output_type": "stream",
     "text": [
      "[I 2019-08-24 12:26:12,492] Finished trial#969 resulted in value: -0.7924767540152156. Current best value is -0.7948717948717948 with parameters: {'w_lr': 0.25932220860425337, 'w_lda': 0.09195697989035678, 'w_sv': 0.6584085004074863, 'w_xgb': 0.23943615391125597, 'w_lgbm': 0.2584978813734697, 'w_mlp': 0.9426610060258075}.\n"
     ]
    },
    {
     "name": "stdout",
     "output_type": "stream",
     "text": [
      "[w_lr, w_lda, w_sv, w_xgb, w_lgbm,w_cb ] =  [0.118 0.048 0.597 0.343 0.216 0.    0.954]\n",
      "norm =  [0.052 0.021 0.262 0.151 0.095 0.    0.419]\n",
      "AUC all:  0.7905043674274443\n",
      "\n"
     ]
    },
    {
     "name": "stderr",
     "output_type": "stream",
     "text": [
      "[I 2019-08-24 12:26:14,135] Finished trial#970 resulted in value: -0.7905043674274443. Current best value is -0.7948717948717948 with parameters: {'w_lr': 0.25932220860425337, 'w_lda': 0.09195697989035678, 'w_sv': 0.6584085004074863, 'w_xgb': 0.23943615391125597, 'w_lgbm': 0.2584978813734697, 'w_mlp': 0.9426610060258075}.\n"
     ]
    },
    {
     "name": "stdout",
     "output_type": "stream",
     "text": [
      "[w_lr, w_lda, w_sv, w_xgb, w_lgbm,w_cb ] =  [0.173 0.105 0.577 0.273 0.281 0.    0.964]\n",
      "norm =  [0.073 0.044 0.243 0.115 0.119 0.    0.406]\n",
      "AUC all:  0.7940264863341786\n",
      "\n"
     ]
    },
    {
     "name": "stderr",
     "output_type": "stream",
     "text": [
      "[I 2019-08-24 12:26:15,784] Finished trial#971 resulted in value: -0.7940264863341786. Current best value is -0.7948717948717948 with parameters: {'w_lr': 0.25932220860425337, 'w_lda': 0.09195697989035678, 'w_sv': 0.6584085004074863, 'w_xgb': 0.23943615391125597, 'w_lgbm': 0.2584978813734697, 'w_mlp': 0.9426610060258075}.\n"
     ]
    },
    {
     "name": "stdout",
     "output_type": "stream",
     "text": [
      "[w_lr, w_lda, w_sv, w_xgb, w_lgbm,w_cb ] =  [0.174 0.11  0.585 0.299 0.323 0.    0.966]\n",
      "norm =  [0.071 0.045 0.238 0.122 0.132 0.    0.393]\n",
      "AUC all:  0.7934629473091013\n",
      "\n"
     ]
    },
    {
     "name": "stderr",
     "output_type": "stream",
     "text": [
      "[I 2019-08-24 12:26:17,411] Finished trial#972 resulted in value: -0.7934629473091013. Current best value is -0.7948717948717948 with parameters: {'w_lr': 0.25932220860425337, 'w_lda': 0.09195697989035678, 'w_sv': 0.6584085004074863, 'w_xgb': 0.23943615391125597, 'w_lgbm': 0.2584978813734697, 'w_mlp': 0.9426610060258075}.\n"
     ]
    },
    {
     "name": "stdout",
     "output_type": "stream",
     "text": [
      "[w_lr, w_lda, w_sv, w_xgb, w_lgbm,w_cb ] =  [0.16  0.095 0.575 0.322 0.297 0.    0.97 ]\n",
      "norm =  [0.066 0.039 0.238 0.133 0.123 0.    0.401]\n",
      "AUC all:  0.7927585235277543\n",
      "\n"
     ]
    },
    {
     "name": "stderr",
     "output_type": "stream",
     "text": [
      "[I 2019-08-24 12:26:19,061] Finished trial#973 resulted in value: -0.7927585235277543. Current best value is -0.7948717948717948 with parameters: {'w_lr': 0.25932220860425337, 'w_lda': 0.09195697989035678, 'w_sv': 0.6584085004074863, 'w_xgb': 0.23943615391125597, 'w_lgbm': 0.2584978813734697, 'w_mlp': 0.9426610060258075}.\n"
     ]
    },
    {
     "name": "stdout",
     "output_type": "stream",
     "text": [
      "[w_lr, w_lda, w_sv, w_xgb, w_lgbm,w_cb ] =  [0.181 0.151 0.588 0.278 0.364 0.    0.961]\n",
      "norm =  [0.072 0.06  0.233 0.11  0.144 0.    0.381]\n",
      "AUC all:  0.7913496759650607\n",
      "\n"
     ]
    },
    {
     "name": "stderr",
     "output_type": "stream",
     "text": [
      "[I 2019-08-24 12:26:20,703] Finished trial#974 resulted in value: -0.7913496759650607. Current best value is -0.7948717948717948 with parameters: {'w_lr': 0.25932220860425337, 'w_lda': 0.09195697989035678, 'w_sv': 0.6584085004074863, 'w_xgb': 0.23943615391125597, 'w_lgbm': 0.2584978813734697, 'w_mlp': 0.9426610060258075}.\n"
     ]
    },
    {
     "name": "stdout",
     "output_type": "stream",
     "text": [
      "[w_lr, w_lda, w_sv, w_xgb, w_lgbm,w_cb ] =  [0.147 0.135 0.584 0.289 0.285 0.    0.954]\n",
      "norm =  [0.061 0.057 0.244 0.121 0.119 0.    0.398]\n",
      "AUC all:  0.7931811777965624\n",
      "\n"
     ]
    },
    {
     "name": "stderr",
     "output_type": "stream",
     "text": [
      "[I 2019-08-24 12:26:22,357] Finished trial#975 resulted in value: -0.7931811777965624. Current best value is -0.7948717948717948 with parameters: {'w_lr': 0.25932220860425337, 'w_lda': 0.09195697989035678, 'w_sv': 0.6584085004074863, 'w_xgb': 0.23943615391125597, 'w_lgbm': 0.2584978813734697, 'w_mlp': 0.9426610060258075}.\n"
     ]
    },
    {
     "name": "stdout",
     "output_type": "stream",
     "text": [
      "[w_lr, w_lda, w_sv, w_xgb, w_lgbm,w_cb ] =  [0.165 0.079 0.593 0.277 0.338 0.    0.969]\n",
      "norm =  [0.068 0.033 0.245 0.114 0.14  0.    0.4  ]\n",
      "AUC all:  0.7913496759650606\n",
      "\n"
     ]
    },
    {
     "name": "stderr",
     "output_type": "stream",
     "text": [
      "[I 2019-08-24 12:26:24,014] Finished trial#976 resulted in value: -0.7913496759650606. Current best value is -0.7948717948717948 with parameters: {'w_lr': 0.25932220860425337, 'w_lda': 0.09195697989035678, 'w_sv': 0.6584085004074863, 'w_xgb': 0.23943615391125597, 'w_lgbm': 0.2584978813734697, 'w_mlp': 0.9426610060258075}.\n"
     ]
    },
    {
     "name": "stdout",
     "output_type": "stream",
     "text": [
      "[w_lr, w_lda, w_sv, w_xgb, w_lgbm,w_cb ] =  [0.176 0.111 0.604 0.437 0.302 0.    0.959]\n",
      "norm =  [0.068 0.043 0.233 0.169 0.117 0.    0.37 ]\n",
      "AUC all:  0.7913496759650607\n",
      "\n"
     ]
    },
    {
     "name": "stderr",
     "output_type": "stream",
     "text": [
      "[I 2019-08-24 12:26:25,656] Finished trial#977 resulted in value: -0.7913496759650607. Current best value is -0.7948717948717948 with parameters: {'w_lr': 0.25932220860425337, 'w_lda': 0.09195697989035678, 'w_sv': 0.6584085004074863, 'w_xgb': 0.23943615391125597, 'w_lgbm': 0.2584978813734697, 'w_mlp': 0.9426610060258075}.\n"
     ]
    },
    {
     "name": "stdout",
     "output_type": "stream",
     "text": [
      "[w_lr, w_lda, w_sv, w_xgb, w_lgbm,w_cb ] =  [0.142 0.093 0.575 0.308 0.282 0.    0.973]\n",
      "norm =  [0.06  0.039 0.242 0.13  0.119 0.    0.41 ]\n",
      "AUC all:  0.7927585235277542\n",
      "\n"
     ]
    },
    {
     "name": "stderr",
     "output_type": "stream",
     "text": [
      "[I 2019-08-24 12:26:27,314] Finished trial#978 resulted in value: -0.7927585235277542. Current best value is -0.7948717948717948 with parameters: {'w_lr': 0.25932220860425337, 'w_lda': 0.09195697989035678, 'w_sv': 0.6584085004074863, 'w_xgb': 0.23943615391125597, 'w_lgbm': 0.2584978813734697, 'w_mlp': 0.9426610060258075}.\n"
     ]
    },
    {
     "name": "stdout",
     "output_type": "stream",
     "text": [
      "[w_lr, w_lda, w_sv, w_xgb, w_lgbm,w_cb ] =  [0.188 0.001 0.595 0.266 0.573 0.    0.947]\n",
      "norm =  [0.073 0.    0.232 0.104 0.223 0.    0.368]\n",
      "AUC all:  0.785855170470555\n",
      "\n"
     ]
    },
    {
     "name": "stderr",
     "output_type": "stream",
     "text": [
      "[I 2019-08-24 12:26:28,980] Finished trial#979 resulted in value: -0.785855170470555. Current best value is -0.7948717948717948 with parameters: {'w_lr': 0.25932220860425337, 'w_lda': 0.09195697989035678, 'w_sv': 0.6584085004074863, 'w_xgb': 0.23943615391125597, 'w_lgbm': 0.2584978813734697, 'w_mlp': 0.9426610060258075}.\n"
     ]
    },
    {
     "name": "stdout",
     "output_type": "stream",
     "text": [
      "[w_lr, w_lda, w_sv, w_xgb, w_lgbm,w_cb ] =  [0.12  0.126 0.585 0.262 0.278 0.    0.961]\n",
      "norm =  [0.051 0.054 0.251 0.112 0.119 0.    0.412]\n",
      "AUC all:  0.7936038320653707\n",
      "\n"
     ]
    },
    {
     "name": "stderr",
     "output_type": "stream",
     "text": [
      "[I 2019-08-24 12:26:30,638] Finished trial#980 resulted in value: -0.7936038320653707. Current best value is -0.7948717948717948 with parameters: {'w_lr': 0.25932220860425337, 'w_lda': 0.09195697989035678, 'w_sv': 0.6584085004074863, 'w_xgb': 0.23943615391125597, 'w_lgbm': 0.2584978813734697, 'w_mlp': 0.9426610060258075}.\n"
     ]
    },
    {
     "name": "stdout",
     "output_type": "stream",
     "text": [
      "[w_lr, w_lda, w_sv, w_xgb, w_lgbm,w_cb ] =  [0.156 0.198 0.569 0.29  0.311 0.    0.945]\n",
      "norm =  [0.063 0.08  0.23  0.117 0.126 0.    0.383]\n",
      "AUC all:  0.7919132149901381\n",
      "\n"
     ]
    },
    {
     "name": "stderr",
     "output_type": "stream",
     "text": [
      "[I 2019-08-24 12:26:32,300] Finished trial#981 resulted in value: -0.7919132149901381. Current best value is -0.7948717948717948 with parameters: {'w_lr': 0.25932220860425337, 'w_lda': 0.09195697989035678, 'w_sv': 0.6584085004074863, 'w_xgb': 0.23943615391125597, 'w_lgbm': 0.2584978813734697, 'w_mlp': 0.9426610060258075}.\n"
     ]
    },
    {
     "name": "stdout",
     "output_type": "stream",
     "text": [
      "[w_lr, w_lda, w_sv, w_xgb, w_lgbm,w_cb ] =  [0.132 0.066 0.603 0.252 0.273 0.    0.972]\n",
      "norm =  [0.058 0.029 0.263 0.109 0.119 0.    0.423]\n",
      "AUC all:  0.7940264863341786\n",
      "\n"
     ]
    },
    {
     "name": "stderr",
     "output_type": "stream",
     "text": [
      "[I 2019-08-24 12:26:33,952] Finished trial#982 resulted in value: -0.7940264863341786. Current best value is -0.7948717948717948 with parameters: {'w_lr': 0.25932220860425337, 'w_lda': 0.09195697989035678, 'w_sv': 0.6584085004074863, 'w_xgb': 0.23943615391125597, 'w_lgbm': 0.2584978813734697, 'w_mlp': 0.9426610060258075}.\n"
     ]
    },
    {
     "name": "stdout",
     "output_type": "stream",
     "text": [
      "[w_lr, w_lda, w_sv, w_xgb, w_lgbm,w_cb ] =  [0.131 0.023 0.606 0.27  0.298 0.    0.983]\n",
      "norm =  [0.057 0.01  0.262 0.117 0.129 0.    0.425]\n",
      "AUC all:  0.7916314454775993\n",
      "\n"
     ]
    },
    {
     "name": "stderr",
     "output_type": "stream",
     "text": [
      "[I 2019-08-24 12:26:35,599] Finished trial#983 resulted in value: -0.7916314454775993. Current best value is -0.7948717948717948 with parameters: {'w_lr': 0.25932220860425337, 'w_lda': 0.09195697989035678, 'w_sv': 0.6584085004074863, 'w_xgb': 0.23943615391125597, 'w_lgbm': 0.2584978813734697, 'w_mlp': 0.9426610060258075}.\n"
     ]
    },
    {
     "name": "stdout",
     "output_type": "stream",
     "text": [
      "[w_lr, w_lda, w_sv, w_xgb, w_lgbm,w_cb ] =  [0.116 0.053 0.604 0.246 0.259 0.    0.973]\n",
      "norm =  [0.051 0.023 0.268 0.109 0.115 0.    0.432]\n",
      "AUC all:  0.793040293040293\n",
      "\n"
     ]
    },
    {
     "name": "stderr",
     "output_type": "stream",
     "text": [
      "[I 2019-08-24 12:26:37,254] Finished trial#984 resulted in value: -0.793040293040293. Current best value is -0.7948717948717948 with parameters: {'w_lr': 0.25932220860425337, 'w_lda': 0.09195697989035678, 'w_sv': 0.6584085004074863, 'w_xgb': 0.23943615391125597, 'w_lgbm': 0.2584978813734697, 'w_mlp': 0.9426610060258075}.\n"
     ]
    },
    {
     "name": "stdout",
     "output_type": "stream",
     "text": [
      "[w_lr, w_lda, w_sv, w_xgb, w_lgbm,w_cb ] =  [0.136 0.33  0.597 0.334 0.27  0.    0.955]\n",
      "norm =  [0.052 0.126 0.228 0.127 0.103 0.    0.364]\n",
      "AUC all:  0.7862778247393631\n",
      "\n"
     ]
    },
    {
     "name": "stderr",
     "output_type": "stream",
     "text": [
      "[I 2019-08-24 12:26:38,921] Finished trial#985 resulted in value: -0.7862778247393631. Current best value is -0.7948717948717948 with parameters: {'w_lr': 0.25932220860425337, 'w_lda': 0.09195697989035678, 'w_sv': 0.6584085004074863, 'w_xgb': 0.23943615391125597, 'w_lgbm': 0.2584978813734697, 'w_mlp': 0.9426610060258075}.\n"
     ]
    },
    {
     "name": "stdout",
     "output_type": "stream",
     "text": [
      "[w_lr, w_lda, w_sv, w_xgb, w_lgbm,w_cb ] =  [0.105 0.047 0.585 0.299 0.33  0.    0.984]\n",
      "norm =  [0.045 0.02  0.249 0.127 0.14  0.    0.419]\n",
      "AUC all:  0.7916314454775993\n",
      "\n"
     ]
    },
    {
     "name": "stderr",
     "output_type": "stream",
     "text": [
      "[I 2019-08-24 12:26:40,565] Finished trial#986 resulted in value: -0.7916314454775993. Current best value is -0.7948717948717948 with parameters: {'w_lr': 0.25932220860425337, 'w_lda': 0.09195697989035678, 'w_sv': 0.6584085004074863, 'w_xgb': 0.23943615391125597, 'w_lgbm': 0.2584978813734697, 'w_mlp': 0.9426610060258075}.\n"
     ]
    },
    {
     "name": "stdout",
     "output_type": "stream",
     "text": [
      "[w_lr, w_lda, w_sv, w_xgb, w_lgbm,w_cb ] =  [0.15  0.031 0.57  0.281 0.309 0.    0.974]\n",
      "norm =  [0.065 0.014 0.246 0.121 0.133 0.    0.421]\n",
      "AUC all:  0.7913496759650606\n",
      "\n"
     ]
    },
    {
     "name": "stderr",
     "output_type": "stream",
     "text": [
      "[I 2019-08-24 12:26:42,227] Finished trial#987 resulted in value: -0.7913496759650606. Current best value is -0.7948717948717948 with parameters: {'w_lr': 0.25932220860425337, 'w_lda': 0.09195697989035678, 'w_sv': 0.6584085004074863, 'w_xgb': 0.23943615391125597, 'w_lgbm': 0.2584978813734697, 'w_mlp': 0.9426610060258075}.\n"
     ]
    },
    {
     "name": "stdout",
     "output_type": "stream",
     "text": [
      "[w_lr, w_lda, w_sv, w_xgb, w_lgbm,w_cb ] =  [0.157 0.063 0.59  0.245 0.284 0.    0.963]\n",
      "norm =  [0.068 0.027 0.256 0.106 0.123 0.    0.418]\n",
      "AUC all:  0.7931811777965624\n",
      "\n"
     ]
    },
    {
     "name": "stderr",
     "output_type": "stream",
     "text": [
      "[I 2019-08-24 12:26:43,891] Finished trial#988 resulted in value: -0.7931811777965624. Current best value is -0.7948717948717948 with parameters: {'w_lr': 0.25932220860425337, 'w_lda': 0.09195697989035678, 'w_sv': 0.6584085004074863, 'w_xgb': 0.23943615391125597, 'w_lgbm': 0.2584978813734697, 'w_mlp': 0.9426610060258075}.\n"
     ]
    },
    {
     "name": "stdout",
     "output_type": "stream",
     "text": [
      "[w_lr, w_lda, w_sv, w_xgb, w_lgbm,w_cb ] =  [0.098 0.071 0.607 0.238 0.255 0.    0.937]\n",
      "norm =  [0.045 0.032 0.275 0.108 0.115 0.    0.425]\n",
      "AUC all:  0.7943082558467175\n",
      "\n"
     ]
    },
    {
     "name": "stderr",
     "output_type": "stream",
     "text": [
      "[I 2019-08-24 12:26:45,555] Finished trial#989 resulted in value: -0.7943082558467175. Current best value is -0.7948717948717948 with parameters: {'w_lr': 0.25932220860425337, 'w_lda': 0.09195697989035678, 'w_sv': 0.6584085004074863, 'w_xgb': 0.23943615391125597, 'w_lgbm': 0.2584978813734697, 'w_mlp': 0.9426610060258075}.\n"
     ]
    },
    {
     "name": "stdout",
     "output_type": "stream",
     "text": [
      "[w_lr, w_lda, w_sv, w_xgb, w_lgbm,w_cb ] =  [0.093 0.012 0.608 0.23  0.264 0.    0.934]\n",
      "norm =  [0.044 0.006 0.284 0.107 0.123 0.    0.436]\n",
      "AUC all:  0.7921949845026768\n",
      "\n"
     ]
    },
    {
     "name": "stderr",
     "output_type": "stream",
     "text": [
      "[I 2019-08-24 12:26:47,199] Finished trial#990 resulted in value: -0.7921949845026768. Current best value is -0.7948717948717948 with parameters: {'w_lr': 0.25932220860425337, 'w_lda': 0.09195697989035678, 'w_sv': 0.6584085004074863, 'w_xgb': 0.23943615391125597, 'w_lgbm': 0.2584978813734697, 'w_mlp': 0.9426610060258075}.\n"
     ]
    },
    {
     "name": "stdout",
     "output_type": "stream",
     "text": [
      "[w_lr, w_lda, w_sv, w_xgb, w_lgbm,w_cb ] =  [0.089 0.072 0.611 0.23  0.24  0.    0.936]\n",
      "norm =  [0.041 0.033 0.281 0.106 0.11  0.    0.43 ]\n",
      "AUC all:  0.7934629473091012\n",
      "\n"
     ]
    },
    {
     "name": "stderr",
     "output_type": "stream",
     "text": [
      "[I 2019-08-24 12:26:48,880] Finished trial#991 resulted in value: -0.7934629473091012. Current best value is -0.7948717948717948 with parameters: {'w_lr': 0.25932220860425337, 'w_lda': 0.09195697989035678, 'w_sv': 0.6584085004074863, 'w_xgb': 0.23943615391125597, 'w_lgbm': 0.2584978813734697, 'w_mlp': 0.9426610060258075}.\n"
     ]
    },
    {
     "name": "stdout",
     "output_type": "stream",
     "text": [
      "[w_lr, w_lda, w_sv, w_xgb, w_lgbm,w_cb ] =  [0.095 0.078 0.591 0.249 0.247 0.    0.941]\n",
      "norm =  [0.043 0.036 0.269 0.113 0.112 0.    0.427]\n",
      "AUC all:  0.7934629473091012\n",
      "\n"
     ]
    },
    {
     "name": "stderr",
     "output_type": "stream",
     "text": [
      "[I 2019-08-24 12:26:50,555] Finished trial#992 resulted in value: -0.7934629473091012. Current best value is -0.7948717948717948 with parameters: {'w_lr': 0.25932220860425337, 'w_lda': 0.09195697989035678, 'w_sv': 0.6584085004074863, 'w_xgb': 0.23943615391125597, 'w_lgbm': 0.2584978813734697, 'w_mlp': 0.9426610060258075}.\n"
     ]
    },
    {
     "name": "stdout",
     "output_type": "stream",
     "text": [
      "[w_lr, w_lda, w_sv, w_xgb, w_lgbm,w_cb ] =  [0.108 0.043 0.598 0.216 0.232 0.    0.932]\n",
      "norm =  [0.051 0.02  0.281 0.102 0.109 0.    0.438]\n",
      "AUC all:  0.7921949845026768\n",
      "\n"
     ]
    },
    {
     "name": "stderr",
     "output_type": "stream",
     "text": [
      "[I 2019-08-24 12:26:52,236] Finished trial#993 resulted in value: -0.7921949845026768. Current best value is -0.7948717948717948 with parameters: {'w_lr': 0.25932220860425337, 'w_lda': 0.09195697989035678, 'w_sv': 0.6584085004074863, 'w_xgb': 0.23943615391125597, 'w_lgbm': 0.2584978813734697, 'w_mlp': 0.9426610060258075}.\n"
     ]
    },
    {
     "name": "stdout",
     "output_type": "stream",
     "text": [
      "[w_lr, w_lda, w_sv, w_xgb, w_lgbm,w_cb ] =  [0.119 0.061 0.606 0.258 0.266 0.    0.95 ]\n",
      "norm =  [0.052 0.027 0.268 0.114 0.118 0.    0.42 ]\n",
      "AUC all:  0.7931811777965623\n",
      "\n"
     ]
    },
    {
     "name": "stderr",
     "output_type": "stream",
     "text": [
      "[I 2019-08-24 12:26:53,921] Finished trial#994 resulted in value: -0.7931811777965623. Current best value is -0.7948717948717948 with parameters: {'w_lr': 0.25932220860425337, 'w_lda': 0.09195697989035678, 'w_sv': 0.6584085004074863, 'w_xgb': 0.23943615391125597, 'w_lgbm': 0.2584978813734697, 'w_mlp': 0.9426610060258075}.\n"
     ]
    },
    {
     "name": "stdout",
     "output_type": "stream",
     "text": [
      "[w_lr, w_lda, w_sv, w_xgb, w_lgbm,w_cb ] =  [0.126 0.056 0.61  0.231 0.252 0.    0.94 ]\n",
      "norm =  [0.057 0.025 0.275 0.104 0.114 0.    0.425]\n",
      "AUC all:  0.7937447168216398\n",
      "\n"
     ]
    },
    {
     "name": "stderr",
     "output_type": "stream",
     "text": [
      "[I 2019-08-24 12:26:55,597] Finished trial#995 resulted in value: -0.7937447168216398. Current best value is -0.7948717948717948 with parameters: {'w_lr': 0.25932220860425337, 'w_lda': 0.09195697989035678, 'w_sv': 0.6584085004074863, 'w_xgb': 0.23943615391125597, 'w_lgbm': 0.2584978813734697, 'w_mlp': 0.9426610060258075}.\n"
     ]
    },
    {
     "name": "stdout",
     "output_type": "stream",
     "text": [
      "[w_lr, w_lda, w_sv, w_xgb, w_lgbm,w_cb ] =  [0.095 0.035 0.606 0.736 0.244 0.    0.928]\n",
      "norm =  [0.036 0.013 0.229 0.279 0.092 0.    0.351]\n",
      "AUC all:  0.7875457875457875\n",
      "\n"
     ]
    },
    {
     "name": "stderr",
     "output_type": "stream",
     "text": [
      "[I 2019-08-24 12:26:57,290] Finished trial#996 resulted in value: -0.7875457875457875. Current best value is -0.7948717948717948 with parameters: {'w_lr': 0.25932220860425337, 'w_lda': 0.09195697989035678, 'w_sv': 0.6584085004074863, 'w_xgb': 0.23943615391125597, 'w_lgbm': 0.2584978813734697, 'w_mlp': 0.9426610060258075}.\n"
     ]
    },
    {
     "name": "stdout",
     "output_type": "stream",
     "text": [
      "[w_lr, w_lda, w_sv, w_xgb, w_lgbm,w_cb ] =  [0.074 0.085 0.582 0.273 0.221 0.    0.948]\n",
      "norm =  [0.034 0.039 0.266 0.125 0.101 0.    0.434]\n",
      "AUC all:  0.7928994082840236\n",
      "\n"
     ]
    },
    {
     "name": "stderr",
     "output_type": "stream",
     "text": [
      "[I 2019-08-24 12:26:58,987] Finished trial#997 resulted in value: -0.7928994082840236. Current best value is -0.7948717948717948 with parameters: {'w_lr': 0.25932220860425337, 'w_lda': 0.09195697989035678, 'w_sv': 0.6584085004074863, 'w_xgb': 0.23943615391125597, 'w_lgbm': 0.2584978813734697, 'w_mlp': 0.9426610060258075}.\n"
     ]
    },
    {
     "name": "stdout",
     "output_type": "stream",
     "text": [
      "[w_lr, w_lda, w_sv, w_xgb, w_lgbm,w_cb ] =  [0.163 0.093 0.596 0.24  0.291 0.    0.924]\n",
      "norm =  [0.07  0.04  0.258 0.104 0.126 0.    0.4  ]\n",
      "AUC all:  0.792617638771485\n",
      "\n"
     ]
    },
    {
     "name": "stderr",
     "output_type": "stream",
     "text": [
      "[I 2019-08-24 12:27:00,681] Finished trial#998 resulted in value: -0.792617638771485. Current best value is -0.7948717948717948 with parameters: {'w_lr': 0.25932220860425337, 'w_lda': 0.09195697989035678, 'w_sv': 0.6584085004074863, 'w_xgb': 0.23943615391125597, 'w_lgbm': 0.2584978813734697, 'w_mlp': 0.9426610060258075}.\n"
     ]
    },
    {
     "name": "stdout",
     "output_type": "stream",
     "text": [
      "[w_lr, w_lda, w_sv, w_xgb, w_lgbm,w_cb ] =  [0.16  0.065 0.599 0.258 0.29  0.    0.968]\n",
      "norm =  [0.068 0.028 0.256 0.11  0.124 0.    0.414]\n",
      "AUC all:  0.7928994082840236\n",
      "\n"
     ]
    },
    {
     "name": "stderr",
     "output_type": "stream",
     "text": [
      "[I 2019-08-24 12:27:02,376] Finished trial#999 resulted in value: -0.7928994082840236. Current best value is -0.7948717948717948 with parameters: {'w_lr': 0.25932220860425337, 'w_lda': 0.09195697989035678, 'w_sv': 0.6584085004074863, 'w_xgb': 0.23943615391125597, 'w_lgbm': 0.2584978813734697, 'w_mlp': 0.9426610060258075}.\n"
     ]
    },
    {
     "name": "stdout",
     "output_type": "stream",
     "text": [
      "[w_lr, w_lda, w_sv, w_xgb, w_lgbm,w_cb ] =  [0.142 0.022 0.613 0.214 0.32  0.    0.983]\n",
      "norm =  [0.062 0.01  0.267 0.093 0.139 0.    0.428]\n",
      "AUC all:  0.7909270216962525\n",
      "\n"
     ]
    },
    {
     "name": "stderr",
     "output_type": "stream",
     "text": [
      "[I 2019-08-24 12:27:04,058] Finished trial#1000 resulted in value: -0.7909270216962525. Current best value is -0.7948717948717948 with parameters: {'w_lr': 0.25932220860425337, 'w_lda': 0.09195697989035678, 'w_sv': 0.6584085004074863, 'w_xgb': 0.23943615391125597, 'w_lgbm': 0.2584978813734697, 'w_mlp': 0.9426610060258075}.\n"
     ]
    },
    {
     "name": "stdout",
     "output_type": "stream",
     "text": [
      "[w_lr, w_lda, w_sv, w_xgb, w_lgbm,w_cb ] =  [0.187 0.111 0.577 0.241 0.268 0.    0.939]\n",
      "norm =  [0.081 0.048 0.248 0.104 0.115 0.    0.404]\n",
      "AUC all:  0.7940264863341786\n",
      "\n"
     ]
    },
    {
     "name": "stderr",
     "output_type": "stream",
     "text": [
      "[I 2019-08-24 12:27:05,732] Finished trial#1001 resulted in value: -0.7940264863341786. Current best value is -0.7948717948717948 with parameters: {'w_lr': 0.25932220860425337, 'w_lda': 0.09195697989035678, 'w_sv': 0.6584085004074863, 'w_xgb': 0.23943615391125597, 'w_lgbm': 0.2584978813734697, 'w_mlp': 0.9426610060258075}.\n"
     ]
    },
    {
     "name": "stdout",
     "output_type": "stream",
     "text": [
      "[w_lr, w_lda, w_sv, w_xgb, w_lgbm,w_cb ] =  [0.125 0.048 0.587 0.212 0.268 0.    0.927]\n",
      "norm =  [0.058 0.022 0.271 0.098 0.124 0.    0.428]\n",
      "AUC all:  0.7921949845026768\n",
      "\n"
     ]
    },
    {
     "name": "stderr",
     "output_type": "stream",
     "text": [
      "[I 2019-08-24 12:27:07,431] Finished trial#1002 resulted in value: -0.7921949845026768. Current best value is -0.7948717948717948 with parameters: {'w_lr': 0.25932220860425337, 'w_lda': 0.09195697989035678, 'w_sv': 0.6584085004074863, 'w_xgb': 0.23943615391125597, 'w_lgbm': 0.2584978813734697, 'w_mlp': 0.9426610060258075}.\n"
     ]
    },
    {
     "name": "stdout",
     "output_type": "stream",
     "text": [
      "[w_lr, w_lda, w_sv, w_xgb, w_lgbm,w_cb ] =  [0.08  0.096 0.578 0.284 0.241 0.    0.95 ]\n",
      "norm =  [0.036 0.043 0.259 0.127 0.108 0.    0.426]\n",
      "AUC all:  0.7927585235277541\n",
      "\n"
     ]
    },
    {
     "name": "stderr",
     "output_type": "stream",
     "text": [
      "[I 2019-08-24 12:27:09,114] Finished trial#1003 resulted in value: -0.7927585235277541. Current best value is -0.7948717948717948 with parameters: {'w_lr': 0.25932220860425337, 'w_lda': 0.09195697989035678, 'w_sv': 0.6584085004074863, 'w_xgb': 0.23943615391125597, 'w_lgbm': 0.2584978813734697, 'w_mlp': 0.9426610060258075}.\n"
     ]
    },
    {
     "name": "stdout",
     "output_type": "stream",
     "text": [
      "[w_lr, w_lda, w_sv, w_xgb, w_lgbm,w_cb ] =  [0.128 0.042 0.618 0.231 0.289 0.    0.502]\n",
      "norm =  [0.071 0.023 0.341 0.128 0.16  0.    0.277]\n",
      "AUC all:  0.7885319808396732\n",
      "\n"
     ]
    },
    {
     "name": "stderr",
     "output_type": "stream",
     "text": [
      "[I 2019-08-24 12:27:10,801] Finished trial#1004 resulted in value: -0.7885319808396732. Current best value is -0.7948717948717948 with parameters: {'w_lr': 0.25932220860425337, 'w_lda': 0.09195697989035678, 'w_sv': 0.6584085004074863, 'w_xgb': 0.23943615391125597, 'w_lgbm': 0.2584978813734697, 'w_mlp': 0.9426610060258075}.\n"
     ]
    },
    {
     "name": "stdout",
     "output_type": "stream",
     "text": [
      "[w_lr, w_lda, w_sv, w_xgb, w_lgbm,w_cb ] =  [0.103 0.071 0.602 0.251 0.256 0.    0.937]\n",
      "norm =  [0.047 0.032 0.271 0.113 0.115 0.    0.422]\n",
      "AUC all:  0.793462947309101\n",
      "\n"
     ]
    },
    {
     "name": "stderr",
     "output_type": "stream",
     "text": [
      "[I 2019-08-24 12:27:12,478] Finished trial#1005 resulted in value: -0.793462947309101. Current best value is -0.7948717948717948 with parameters: {'w_lr': 0.25932220860425337, 'w_lda': 0.09195697989035678, 'w_sv': 0.6584085004074863, 'w_xgb': 0.23943615391125597, 'w_lgbm': 0.2584978813734697, 'w_mlp': 0.9426610060258075}.\n"
     ]
    },
    {
     "name": "stdout",
     "output_type": "stream",
     "text": [
      "[w_lr, w_lda, w_sv, w_xgb, w_lgbm,w_cb ] =  [0.104 0.146 0.525 0.316 0.305 0.    0.922]\n",
      "norm =  [0.045 0.063 0.227 0.136 0.131 0.    0.398]\n",
      "AUC all:  0.7931811777965625\n",
      "\n"
     ]
    },
    {
     "name": "stderr",
     "output_type": "stream",
     "text": [
      "[I 2019-08-24 12:27:14,166] Finished trial#1006 resulted in value: -0.7931811777965625. Current best value is -0.7948717948717948 with parameters: {'w_lr': 0.25932220860425337, 'w_lda': 0.09195697989035678, 'w_sv': 0.6584085004074863, 'w_xgb': 0.23943615391125597, 'w_lgbm': 0.2584978813734697, 'w_mlp': 0.9426610060258075}.\n"
     ]
    },
    {
     "name": "stdout",
     "output_type": "stream",
     "text": [
      "[w_lr, w_lda, w_sv, w_xgb, w_lgbm,w_cb ] =  [0.147 0.109 0.572 0.294 0.287 0.    0.94 ]\n",
      "norm =  [0.063 0.046 0.244 0.125 0.122 0.    0.4  ]\n",
      "AUC all:  0.7937447168216399\n",
      "\n"
     ]
    },
    {
     "name": "stderr",
     "output_type": "stream",
     "text": [
      "[I 2019-08-24 12:27:15,860] Finished trial#1007 resulted in value: -0.7937447168216399. Current best value is -0.7948717948717948 with parameters: {'w_lr': 0.25932220860425337, 'w_lda': 0.09195697989035678, 'w_sv': 0.6584085004074863, 'w_xgb': 0.23943615391125597, 'w_lgbm': 0.2584978813734697, 'w_mlp': 0.9426610060258075}.\n"
     ]
    },
    {
     "name": "stdout",
     "output_type": "stream",
     "text": [
      "[w_lr, w_lda, w_sv, w_xgb, w_lgbm,w_cb ] =  [0.08  0.083 0.619 0.261 0.216 0.    0.949]\n",
      "norm =  [0.036 0.037 0.28  0.118 0.098 0.    0.43 ]\n",
      "AUC all:  0.7928994082840235\n",
      "\n"
     ]
    },
    {
     "name": "stderr",
     "output_type": "stream",
     "text": [
      "[I 2019-08-24 12:27:17,570] Finished trial#1008 resulted in value: -0.7928994082840235. Current best value is -0.7948717948717948 with parameters: {'w_lr': 0.25932220860425337, 'w_lda': 0.09195697989035678, 'w_sv': 0.6584085004074863, 'w_xgb': 0.23943615391125597, 'w_lgbm': 0.2584978813734697, 'w_mlp': 0.9426610060258075}.\n"
     ]
    },
    {
     "name": "stdout",
     "output_type": "stream",
     "text": [
      "[w_lr, w_lda, w_sv, w_xgb, w_lgbm,w_cb ] =  [0.133 0.058 0.601 0.222 0.342 0.    0.958]\n",
      "norm =  [0.057 0.025 0.259 0.096 0.148 0.    0.414]\n",
      "AUC all:  0.7890955198647507\n",
      "\n"
     ]
    },
    {
     "name": "stderr",
     "output_type": "stream",
     "text": [
      "[I 2019-08-24 12:27:19,267] Finished trial#1009 resulted in value: -0.7890955198647507. Current best value is -0.7948717948717948 with parameters: {'w_lr': 0.25932220860425337, 'w_lda': 0.09195697989035678, 'w_sv': 0.6584085004074863, 'w_xgb': 0.23943615391125597, 'w_lgbm': 0.2584978813734697, 'w_mlp': 0.9426610060258075}.\n"
     ]
    },
    {
     "name": "stdout",
     "output_type": "stream",
     "text": [
      "[w_lr, w_lda, w_sv, w_xgb, w_lgbm,w_cb ] =  [0.115 0.071 0.591 0.202 0.274 0.    0.929]\n",
      "norm =  [0.053 0.033 0.271 0.092 0.126 0.    0.426]\n",
      "AUC all:  0.7931811777965624\n",
      "\n"
     ]
    },
    {
     "name": "stderr",
     "output_type": "stream",
     "text": [
      "[I 2019-08-24 12:27:20,972] Finished trial#1010 resulted in value: -0.7931811777965624. Current best value is -0.7948717948717948 with parameters: {'w_lr': 0.25932220860425337, 'w_lda': 0.09195697989035678, 'w_sv': 0.6584085004074863, 'w_xgb': 0.23943615391125597, 'w_lgbm': 0.2584978813734697, 'w_mlp': 0.9426610060258075}.\n"
     ]
    },
    {
     "name": "stdout",
     "output_type": "stream",
     "text": [
      "[w_lr, w_lda, w_sv, w_xgb, w_lgbm,w_cb ] =  [0.193 0.113 0.575 0.248 0.272 0.    0.94 ]\n",
      "norm =  [0.082 0.048 0.246 0.106 0.116 0.    0.402]\n",
      "AUC all:  0.7937447168216398\n",
      "\n"
     ]
    },
    {
     "name": "stderr",
     "output_type": "stream",
     "text": [
      "[I 2019-08-24 12:27:22,685] Finished trial#1011 resulted in value: -0.7937447168216398. Current best value is -0.7948717948717948 with parameters: {'w_lr': 0.25932220860425337, 'w_lda': 0.09195697989035678, 'w_sv': 0.6584085004074863, 'w_xgb': 0.23943615391125597, 'w_lgbm': 0.2584978813734697, 'w_mlp': 0.9426610060258075}.\n"
     ]
    },
    {
     "name": "stdout",
     "output_type": "stream",
     "text": [
      "[w_lr, w_lda, w_sv, w_xgb, w_lgbm,w_cb ] =  [0.194 0.719 0.619 0.263 0.25  0.    0.945]\n",
      "norm =  [0.065 0.24  0.207 0.088 0.084 0.    0.316]\n",
      "AUC all:  0.7790927021696252\n",
      "\n"
     ]
    },
    {
     "name": "stderr",
     "output_type": "stream",
     "text": [
      "[I 2019-08-24 12:27:24,388] Finished trial#1012 resulted in value: -0.7790927021696252. Current best value is -0.7948717948717948 with parameters: {'w_lr': 0.25932220860425337, 'w_lda': 0.09195697989035678, 'w_sv': 0.6584085004074863, 'w_xgb': 0.23943615391125597, 'w_lgbm': 0.2584978813734697, 'w_mlp': 0.9426610060258075}.\n"
     ]
    },
    {
     "name": "stdout",
     "output_type": "stream",
     "text": [
      "[w_lr, w_lda, w_sv, w_xgb, w_lgbm,w_cb ] =  [0.127 0.076 0.655 0.228 0.27  0.    0.935]\n",
      "norm =  [0.056 0.033 0.286 0.099 0.118 0.    0.408]\n",
      "AUC all:  0.7930402930402931\n",
      "\n"
     ]
    },
    {
     "name": "stderr",
     "output_type": "stream",
     "text": [
      "[I 2019-08-24 12:27:26,096] Finished trial#1013 resulted in value: -0.7930402930402931. Current best value is -0.7948717948717948 with parameters: {'w_lr': 0.25932220860425337, 'w_lda': 0.09195697989035678, 'w_sv': 0.6584085004074863, 'w_xgb': 0.23943615391125597, 'w_lgbm': 0.2584978813734697, 'w_mlp': 0.9426610060258075}.\n"
     ]
    },
    {
     "name": "stdout",
     "output_type": "stream",
     "text": [
      "[w_lr, w_lda, w_sv, w_xgb, w_lgbm,w_cb ] =  [0.144 0.026 0.588 0.243 0.226 0.    0.958]\n",
      "norm =  [0.066 0.012 0.269 0.111 0.103 0.    0.438]\n",
      "AUC all:  0.7917723302338686\n",
      "\n"
     ]
    },
    {
     "name": "stderr",
     "output_type": "stream",
     "text": [
      "[I 2019-08-24 12:27:27,808] Finished trial#1014 resulted in value: -0.7917723302338686. Current best value is -0.7948717948717948 with parameters: {'w_lr': 0.25932220860425337, 'w_lda': 0.09195697989035678, 'w_sv': 0.6584085004074863, 'w_xgb': 0.23943615391125597, 'w_lgbm': 0.2584978813734697, 'w_mlp': 0.9426610060258075}.\n"
     ]
    },
    {
     "name": "stdout",
     "output_type": "stream",
     "text": [
      "[w_lr, w_lda, w_sv, w_xgb, w_lgbm,w_cb ] =  [0.179 0.17  0.557 0.213 0.312 0.    0.945]\n",
      "norm =  [0.075 0.072 0.234 0.09  0.131 0.    0.398]\n",
      "AUC all:  0.792617638771485\n",
      "\n"
     ]
    },
    {
     "name": "stderr",
     "output_type": "stream",
     "text": [
      "[I 2019-08-24 12:27:29,517] Finished trial#1015 resulted in value: -0.792617638771485. Current best value is -0.7948717948717948 with parameters: {'w_lr': 0.25932220860425337, 'w_lda': 0.09195697989035678, 'w_sv': 0.6584085004074863, 'w_xgb': 0.23943615391125597, 'w_lgbm': 0.2584978813734697, 'w_mlp': 0.9426610060258075}.\n"
     ]
    },
    {
     "name": "stdout",
     "output_type": "stream",
     "text": [
      "[w_lr, w_lda, w_sv, w_xgb, w_lgbm,w_cb ] =  [0.164 0.091 0.566 0.271 0.24  0.    0.92 ]\n",
      "norm =  [0.073 0.04  0.251 0.121 0.106 0.    0.409]\n",
      "AUC all:  0.7931811777965623\n",
      "\n"
     ]
    },
    {
     "name": "stderr",
     "output_type": "stream",
     "text": [
      "[I 2019-08-24 12:27:31,215] Finished trial#1016 resulted in value: -0.7931811777965623. Current best value is -0.7948717948717948 with parameters: {'w_lr': 0.25932220860425337, 'w_lda': 0.09195697989035678, 'w_sv': 0.6584085004074863, 'w_xgb': 0.23943615391125597, 'w_lgbm': 0.2584978813734697, 'w_mlp': 0.9426610060258075}.\n"
     ]
    },
    {
     "name": "stdout",
     "output_type": "stream",
     "text": [
      "[w_lr, w_lda, w_sv, w_xgb, w_lgbm,w_cb ] =  [0.168 0.129 0.612 0.306 0.294 0.    0.959]\n",
      "norm =  [0.068 0.052 0.248 0.124 0.119 0.    0.389]\n",
      "AUC all:  0.7937447168216399\n",
      "\n"
     ]
    },
    {
     "name": "stderr",
     "output_type": "stream",
     "text": [
      "[I 2019-08-24 12:27:32,938] Finished trial#1017 resulted in value: -0.7937447168216399. Current best value is -0.7948717948717948 with parameters: {'w_lr': 0.25932220860425337, 'w_lda': 0.09195697989035678, 'w_sv': 0.6584085004074863, 'w_xgb': 0.23943615391125597, 'w_lgbm': 0.2584978813734697, 'w_mlp': 0.9426610060258075}.\n"
     ]
    },
    {
     "name": "stdout",
     "output_type": "stream",
     "text": [
      "[w_lr, w_lda, w_sv, w_xgb, w_lgbm,w_cb ] =  [0.099 0.061 0.599 0.203 0.256 0.    0.929]\n",
      "norm =  [0.046 0.028 0.279 0.095 0.119 0.    0.433]\n",
      "AUC all:  0.7931811777965624\n",
      "\n"
     ]
    },
    {
     "name": "stderr",
     "output_type": "stream",
     "text": [
      "[I 2019-08-24 12:27:34,660] Finished trial#1018 resulted in value: -0.7931811777965624. Current best value is -0.7948717948717948 with parameters: {'w_lr': 0.25932220860425337, 'w_lda': 0.09195697989035678, 'w_sv': 0.6584085004074863, 'w_xgb': 0.23943615391125597, 'w_lgbm': 0.2584978813734697, 'w_mlp': 0.9426610060258075}.\n"
     ]
    },
    {
     "name": "stdout",
     "output_type": "stream",
     "text": [
      "[w_lr, w_lda, w_sv, w_xgb, w_lgbm,w_cb ] =  [0.168 0.048 0.583 0.235 0.278 0.    0.95 ]\n",
      "norm =  [0.074 0.021 0.258 0.104 0.123 0.    0.42 ]\n",
      "AUC all:  0.7924767540152154\n",
      "\n"
     ]
    },
    {
     "name": "stderr",
     "output_type": "stream",
     "text": [
      "[I 2019-08-24 12:27:36,378] Finished trial#1019 resulted in value: -0.7924767540152154. Current best value is -0.7948717948717948 with parameters: {'w_lr': 0.25932220860425337, 'w_lda': 0.09195697989035678, 'w_sv': 0.6584085004074863, 'w_xgb': 0.23943615391125597, 'w_lgbm': 0.2584978813734697, 'w_mlp': 0.9426610060258075}.\n"
     ]
    },
    {
     "name": "stdout",
     "output_type": "stream",
     "text": [
      "[w_lr, w_lda, w_sv, w_xgb, w_lgbm,w_cb ] =  [0.122 0.001 0.703 0.273 0.307 0.    0.971]\n",
      "norm =  [0.052 0.001 0.296 0.115 0.129 0.    0.408]\n",
      "AUC all:  0.7905043674274443\n",
      "\n"
     ]
    },
    {
     "name": "stderr",
     "output_type": "stream",
     "text": [
      "[I 2019-08-24 12:27:38,109] Finished trial#1020 resulted in value: -0.7905043674274443. Current best value is -0.7948717948717948 with parameters: {'w_lr': 0.25932220860425337, 'w_lda': 0.09195697989035678, 'w_sv': 0.6584085004074863, 'w_xgb': 0.23943615391125597, 'w_lgbm': 0.2584978813734697, 'w_mlp': 0.9426610060258075}.\n"
     ]
    },
    {
     "name": "stdout",
     "output_type": "stream",
     "text": [
      "[w_lr, w_lda, w_sv, w_xgb, w_lgbm,w_cb ] =  [0.181 0.14  1.    0.274 0.29  0.    0.955]\n",
      "norm =  [0.064 0.049 0.352 0.097 0.102 0.    0.336]\n",
      "AUC all:  0.7931811777965624\n",
      "\n"
     ]
    },
    {
     "name": "stderr",
     "output_type": "stream",
     "text": [
      "[I 2019-08-24 12:27:39,812] Finished trial#1021 resulted in value: -0.7931811777965624. Current best value is -0.7948717948717948 with parameters: {'w_lr': 0.25932220860425337, 'w_lda': 0.09195697989035678, 'w_sv': 0.6584085004074863, 'w_xgb': 0.23943615391125597, 'w_lgbm': 0.2584978813734697, 'w_mlp': 0.9426610060258075}.\n"
     ]
    },
    {
     "name": "stdout",
     "output_type": "stream",
     "text": [
      "[w_lr, w_lda, w_sv, w_xgb, w_lgbm,w_cb ] =  [0.083 0.074 0.598 0.223 0.217 0.    0.933]\n",
      "norm =  [0.039 0.035 0.281 0.105 0.102 0.    0.438]\n",
      "AUC all:  0.7928994082840237\n",
      "\n"
     ]
    },
    {
     "name": "stderr",
     "output_type": "stream",
     "text": [
      "[I 2019-08-24 12:27:41,535] Finished trial#1022 resulted in value: -0.7928994082840237. Current best value is -0.7948717948717948 with parameters: {'w_lr': 0.25932220860425337, 'w_lda': 0.09195697989035678, 'w_sv': 0.6584085004074863, 'w_xgb': 0.23943615391125597, 'w_lgbm': 0.2584978813734697, 'w_mlp': 0.9426610060258075}.\n"
     ]
    },
    {
     "name": "stdout",
     "output_type": "stream",
     "text": [
      "[w_lr, w_lda, w_sv, w_xgb, w_lgbm,w_cb ] =  [0.352 0.098 0.565 0.245 0.265 0.    0.921]\n",
      "norm =  [0.144 0.04  0.231 0.1   0.108 0.    0.376]\n",
      "AUC all:  0.7938856015779092\n",
      "\n"
     ]
    },
    {
     "name": "stderr",
     "output_type": "stream",
     "text": [
      "[I 2019-08-24 12:27:43,259] Finished trial#1023 resulted in value: -0.7938856015779092. Current best value is -0.7948717948717948 with parameters: {'w_lr': 0.25932220860425337, 'w_lda': 0.09195697989035678, 'w_sv': 0.6584085004074863, 'w_xgb': 0.23943615391125597, 'w_lgbm': 0.2584978813734697, 'w_mlp': 0.9426610060258075}.\n"
     ]
    },
    {
     "name": "stdout",
     "output_type": "stream",
     "text": [
      "[w_lr, w_lda, w_sv, w_xgb, w_lgbm,w_cb ] =  [0.135 0.117 0.561 0.291 0.326 0.    0.971]\n",
      "norm =  [0.056 0.049 0.233 0.121 0.136 0.    0.404]\n",
      "AUC all:  0.793040293040293\n",
      "\n"
     ]
    },
    {
     "name": "stderr",
     "output_type": "stream",
     "text": [
      "[I 2019-08-24 12:27:44,995] Finished trial#1024 resulted in value: -0.793040293040293. Current best value is -0.7948717948717948 with parameters: {'w_lr': 0.25932220860425337, 'w_lda': 0.09195697989035678, 'w_sv': 0.6584085004074863, 'w_xgb': 0.23943615391125597, 'w_lgbm': 0.2584978813734697, 'w_mlp': 0.9426610060258075}.\n"
     ]
    },
    {
     "name": "stdout",
     "output_type": "stream",
     "text": [
      "[w_lr, w_lda, w_sv, w_xgb, w_lgbm,w_cb ] =  [0.139 0.122 0.59  0.26  0.273 0.    0.964]\n",
      "norm =  [0.059 0.052 0.251 0.111 0.116 0.    0.411]\n",
      "AUC all:  0.7933220625528319\n",
      "\n"
     ]
    },
    {
     "name": "stderr",
     "output_type": "stream",
     "text": [
      "[I 2019-08-24 12:27:46,726] Finished trial#1025 resulted in value: -0.7933220625528319. Current best value is -0.7948717948717948 with parameters: {'w_lr': 0.25932220860425337, 'w_lda': 0.09195697989035678, 'w_sv': 0.6584085004074863, 'w_xgb': 0.23943615391125597, 'w_lgbm': 0.2584978813734697, 'w_mlp': 0.9426610060258075}.\n"
     ]
    },
    {
     "name": "stdout",
     "output_type": "stream",
     "text": [
      "[w_lr, w_lda, w_sv, w_xgb, w_lgbm,w_cb ] =  [0.199 0.149 0.581 0.231 0.232 0.    0.936]\n",
      "norm =  [0.085 0.064 0.25  0.099 0.1   0.    0.402]\n",
      "AUC all:  0.7909270216962524\n",
      "\n"
     ]
    },
    {
     "name": "stderr",
     "output_type": "stream",
     "text": [
      "[I 2019-08-24 12:27:48,437] Finished trial#1026 resulted in value: -0.7909270216962524. Current best value is -0.7948717948717948 with parameters: {'w_lr': 0.25932220860425337, 'w_lda': 0.09195697989035678, 'w_sv': 0.6584085004074863, 'w_xgb': 0.23943615391125597, 'w_lgbm': 0.2584978813734697, 'w_mlp': 0.9426610060258075}.\n"
     ]
    },
    {
     "name": "stdout",
     "output_type": "stream",
     "text": [
      "[w_lr, w_lda, w_sv, w_xgb, w_lgbm,w_cb ] =  [0.116 0.047 0.607 0.248 0.243 0.    0.948]\n",
      "norm =  [0.052 0.021 0.275 0.112 0.11  0.    0.429]\n",
      "AUC all:  0.7927585235277543\n",
      "\n"
     ]
    },
    {
     "name": "stderr",
     "output_type": "stream",
     "text": [
      "[I 2019-08-24 12:27:50,162] Finished trial#1027 resulted in value: -0.7927585235277543. Current best value is -0.7948717948717948 with parameters: {'w_lr': 0.25932220860425337, 'w_lda': 0.09195697989035678, 'w_sv': 0.6584085004074863, 'w_xgb': 0.23943615391125597, 'w_lgbm': 0.2584978813734697, 'w_mlp': 0.9426610060258075}.\n"
     ]
    },
    {
     "name": "stdout",
     "output_type": "stream",
     "text": [
      "[w_lr, w_lda, w_sv, w_xgb, w_lgbm,w_cb ] =  [0.189 0.101 0.575 0.287 0.023 0.    0.941]\n",
      "norm =  [0.089 0.048 0.272 0.136 0.011 0.    0.445]\n",
      "AUC all:  0.7764158918005072\n",
      "\n"
     ]
    },
    {
     "name": "stderr",
     "output_type": "stream",
     "text": [
      "[I 2019-08-24 12:27:51,874] Finished trial#1028 resulted in value: -0.7764158918005072. Current best value is -0.7948717948717948 with parameters: {'w_lr': 0.25932220860425337, 'w_lda': 0.09195697989035678, 'w_sv': 0.6584085004074863, 'w_xgb': 0.23943615391125597, 'w_lgbm': 0.2584978813734697, 'w_mlp': 0.9426610060258075}.\n"
     ]
    },
    {
     "name": "stdout",
     "output_type": "stream",
     "text": [
      "[w_lr, w_lda, w_sv, w_xgb, w_lgbm,w_cb ] =  [0.153 0.117 0.551 0.261 0.3   0.    0.941]\n",
      "norm =  [0.066 0.05  0.237 0.112 0.129 0.    0.405]\n",
      "AUC all:  0.7930402930402931\n",
      "\n"
     ]
    },
    {
     "name": "stderr",
     "output_type": "stream",
     "text": [
      "[I 2019-08-24 12:27:53,604] Finished trial#1029 resulted in value: -0.7930402930402931. Current best value is -0.7948717948717948 with parameters: {'w_lr': 0.25932220860425337, 'w_lda': 0.09195697989035678, 'w_sv': 0.6584085004074863, 'w_xgb': 0.23943615391125597, 'w_lgbm': 0.2584978813734697, 'w_mlp': 0.9426610060258075}.\n"
     ]
    },
    {
     "name": "stdout",
     "output_type": "stream",
     "text": [
      "[w_lr, w_lda, w_sv, w_xgb, w_lgbm,w_cb ] =  [0.095 0.067 0.613 0.208 0.248 0.    0.99 ]\n",
      "norm =  [0.043 0.03  0.276 0.094 0.111 0.    0.446]\n",
      "AUC all:  0.7921949845026768\n",
      "\n"
     ]
    },
    {
     "name": "stderr",
     "output_type": "stream",
     "text": [
      "[I 2019-08-24 12:27:55,334] Finished trial#1030 resulted in value: -0.7921949845026768. Current best value is -0.7948717948717948 with parameters: {'w_lr': 0.25932220860425337, 'w_lda': 0.09195697989035678, 'w_sv': 0.6584085004074863, 'w_xgb': 0.23943615391125597, 'w_lgbm': 0.2584978813734697, 'w_mlp': 0.9426610060258075}.\n"
     ]
    },
    {
     "name": "stdout",
     "output_type": "stream",
     "text": [
      "[w_lr, w_lda, w_sv, w_xgb, w_lgbm,w_cb ] =  [0.113 0.086 0.592 0.241 0.231 0.    0.954]\n",
      "norm =  [0.051 0.039 0.267 0.109 0.104 0.    0.43 ]\n",
      "AUC all:  0.7926176387714848\n",
      "\n"
     ]
    },
    {
     "name": "stderr",
     "output_type": "stream",
     "text": [
      "[I 2019-08-24 12:27:57,052] Finished trial#1031 resulted in value: -0.7926176387714848. Current best value is -0.7948717948717948 with parameters: {'w_lr': 0.25932220860425337, 'w_lda': 0.09195697989035678, 'w_sv': 0.6584085004074863, 'w_xgb': 0.23943615391125597, 'w_lgbm': 0.2584978813734697, 'w_mlp': 0.9426610060258075}.\n"
     ]
    },
    {
     "name": "stdout",
     "output_type": "stream",
     "text": [
      "[w_lr, w_lda, w_sv, w_xgb, w_lgbm,w_cb ] =  [0.189 0.081 0.604 0.21  0.276 0.    0.933]\n",
      "norm =  [0.082 0.035 0.263 0.092 0.12  0.    0.407]\n",
      "AUC all:  0.793040293040293\n",
      "\n"
     ]
    },
    {
     "name": "stderr",
     "output_type": "stream",
     "text": [
      "[I 2019-08-24 12:27:58,775] Finished trial#1032 resulted in value: -0.793040293040293. Current best value is -0.7948717948717948 with parameters: {'w_lr': 0.25932220860425337, 'w_lda': 0.09195697989035678, 'w_sv': 0.6584085004074863, 'w_xgb': 0.23943615391125597, 'w_lgbm': 0.2584978813734697, 'w_mlp': 0.9426610060258075}.\n"
     ]
    },
    {
     "name": "stdout",
     "output_type": "stream",
     "text": [
      "[w_lr, w_lda, w_sv, w_xgb, w_lgbm,w_cb ] =  [0.144 0.089 0.588 0.224 0.201 0.    0.922]\n",
      "norm =  [0.067 0.041 0.271 0.103 0.093 0.    0.425]\n",
      "AUC all:  0.7916314454775992\n",
      "\n"
     ]
    },
    {
     "name": "stderr",
     "output_type": "stream",
     "text": [
      "[I 2019-08-24 12:28:00,499] Finished trial#1033 resulted in value: -0.7916314454775992. Current best value is -0.7948717948717948 with parameters: {'w_lr': 0.25932220860425337, 'w_lda': 0.09195697989035678, 'w_sv': 0.6584085004074863, 'w_xgb': 0.23943615391125597, 'w_lgbm': 0.2584978813734697, 'w_mlp': 0.9426610060258075}.\n"
     ]
    },
    {
     "name": "stdout",
     "output_type": "stream",
     "text": [
      "[w_lr, w_lda, w_sv, w_xgb, w_lgbm,w_cb ] =  [0.149 0.031 0.618 0.193 0.265 0.    0.944]\n",
      "norm =  [0.068 0.014 0.281 0.088 0.121 0.    0.429]\n",
      "AUC all:  0.7917723302338687\n",
      "\n"
     ]
    },
    {
     "name": "stderr",
     "output_type": "stream",
     "text": [
      "[I 2019-08-24 12:28:02,262] Finished trial#1034 resulted in value: -0.7917723302338687. Current best value is -0.7948717948717948 with parameters: {'w_lr': 0.25932220860425337, 'w_lda': 0.09195697989035678, 'w_sv': 0.6584085004074863, 'w_xgb': 0.23943615391125597, 'w_lgbm': 0.2584978813734697, 'w_mlp': 0.9426610060258075}.\n"
     ]
    },
    {
     "name": "stdout",
     "output_type": "stream",
     "text": [
      "[w_lr, w_lda, w_sv, w_xgb, w_lgbm,w_cb ] =  [0.08  0.062 0.625 0.262 0.288 0.    0.981]\n",
      "norm =  [0.035 0.027 0.272 0.114 0.126 0.    0.427]\n",
      "AUC all:  0.793040293040293\n",
      "\n"
     ]
    },
    {
     "name": "stderr",
     "output_type": "stream",
     "text": [
      "[I 2019-08-24 12:28:04,013] Finished trial#1035 resulted in value: -0.793040293040293. Current best value is -0.7948717948717948 with parameters: {'w_lr': 0.25932220860425337, 'w_lda': 0.09195697989035678, 'w_sv': 0.6584085004074863, 'w_xgb': 0.23943615391125597, 'w_lgbm': 0.2584978813734697, 'w_mlp': 0.9426610060258075}.\n"
     ]
    },
    {
     "name": "stdout",
     "output_type": "stream",
     "text": [
      "[w_lr, w_lda, w_sv, w_xgb, w_lgbm,w_cb ] =  [0.079 0.11  0.568 0.294 0.251 0.    0.915]\n",
      "norm =  [0.036 0.049 0.256 0.133 0.113 0.    0.413]\n",
      "AUC all:  0.7930402930402929\n",
      "\n"
     ]
    },
    {
     "name": "stderr",
     "output_type": "stream",
     "text": [
      "[I 2019-08-24 12:28:05,749] Finished trial#1036 resulted in value: -0.7930402930402929. Current best value is -0.7948717948717948 with parameters: {'w_lr': 0.25932220860425337, 'w_lda': 0.09195697989035678, 'w_sv': 0.6584085004074863, 'w_xgb': 0.23943615391125597, 'w_lgbm': 0.2584978813734697, 'w_mlp': 0.9426610060258075}.\n"
     ]
    },
    {
     "name": "stdout",
     "output_type": "stream",
     "text": [
      "[w_lr, w_lda, w_sv, w_xgb, w_lgbm,w_cb ] =  [0.117 0.074 0.621 0.26  0.309 0.    0.994]\n",
      "norm =  [0.049 0.031 0.261 0.109 0.13  0.    0.419]\n",
      "AUC all:  0.7928994082840237\n",
      "\n"
     ]
    },
    {
     "name": "stderr",
     "output_type": "stream",
     "text": [
      "[I 2019-08-24 12:28:07,484] Finished trial#1037 resulted in value: -0.7928994082840237. Current best value is -0.7948717948717948 with parameters: {'w_lr': 0.25932220860425337, 'w_lda': 0.09195697989035678, 'w_sv': 0.6584085004074863, 'w_xgb': 0.23943615391125597, 'w_lgbm': 0.2584978813734697, 'w_mlp': 0.9426610060258075}.\n"
     ]
    },
    {
     "name": "stdout",
     "output_type": "stream",
     "text": [
      "[w_lr, w_lda, w_sv, w_xgb, w_lgbm,w_cb ] =  [0.175 0.097 0.612 0.004 0.265 0.    0.943]\n",
      "norm =  [0.083 0.046 0.292 0.002 0.126 0.    0.45 ]\n",
      "AUC all:  0.7855734009580164\n",
      "\n"
     ]
    },
    {
     "name": "stderr",
     "output_type": "stream",
     "text": [
      "[I 2019-08-24 12:28:09,249] Finished trial#1038 resulted in value: -0.7855734009580164. Current best value is -0.7948717948717948 with parameters: {'w_lr': 0.25932220860425337, 'w_lda': 0.09195697989035678, 'w_sv': 0.6584085004074863, 'w_xgb': 0.23943615391125597, 'w_lgbm': 0.2584978813734697, 'w_mlp': 0.9426610060258075}.\n"
     ]
    },
    {
     "name": "stdout",
     "output_type": "stream",
     "text": [
      "[w_lr, w_lda, w_sv, w_xgb, w_lgbm,w_cb ] =  [0.17  0.044 0.626 0.233 0.323 0.    0.975]\n",
      "norm =  [0.072 0.019 0.264 0.098 0.136 0.    0.411]\n",
      "AUC all:  0.7905043674274443\n",
      "\n"
     ]
    },
    {
     "name": "stderr",
     "output_type": "stream",
     "text": [
      "[I 2019-08-24 12:28:11,004] Finished trial#1039 resulted in value: -0.7905043674274443. Current best value is -0.7948717948717948 with parameters: {'w_lr': 0.25932220860425337, 'w_lda': 0.09195697989035678, 'w_sv': 0.6584085004074863, 'w_xgb': 0.23943615391125597, 'w_lgbm': 0.2584978813734697, 'w_mlp': 0.9426610060258075}.\n"
     ]
    },
    {
     "name": "stdout",
     "output_type": "stream",
     "text": [
      "[w_lr, w_lda, w_sv, w_xgb, w_lgbm,w_cb ] =  [0.101 0.056 0.598 0.237 0.834 0.    0.927]\n",
      "norm =  [0.037 0.02  0.217 0.086 0.303 0.    0.337]\n",
      "AUC all:  0.7788109326570865\n",
      "\n"
     ]
    },
    {
     "name": "stderr",
     "output_type": "stream",
     "text": [
      "[I 2019-08-24 12:28:12,744] Finished trial#1040 resulted in value: -0.7788109326570865. Current best value is -0.7948717948717948 with parameters: {'w_lr': 0.25932220860425337, 'w_lda': 0.09195697989035678, 'w_sv': 0.6584085004074863, 'w_xgb': 0.23943615391125597, 'w_lgbm': 0.2584978813734697, 'w_mlp': 0.9426610060258075}.\n"
     ]
    },
    {
     "name": "stdout",
     "output_type": "stream",
     "text": [
      "[w_lr, w_lda, w_sv, w_xgb, w_lgbm,w_cb ] =  [0.21  0.137 0.652 0.277 0.25  0.    0.953]\n",
      "norm =  [0.085 0.055 0.263 0.112 0.101 0.    0.385]\n",
      "AUC all:  0.7917723302338686\n",
      "\n"
     ]
    },
    {
     "name": "stderr",
     "output_type": "stream",
     "text": [
      "[I 2019-08-24 12:28:14,468] Finished trial#1041 resulted in value: -0.7917723302338686. Current best value is -0.7948717948717948 with parameters: {'w_lr': 0.25932220860425337, 'w_lda': 0.09195697989035678, 'w_sv': 0.6584085004074863, 'w_xgb': 0.23943615391125597, 'w_lgbm': 0.2584978813734697, 'w_mlp': 0.9426610060258075}.\n"
     ]
    },
    {
     "name": "stdout",
     "output_type": "stream",
     "text": [
      "[w_lr, w_lda, w_sv, w_xgb, w_lgbm,w_cb ] =  [0.14  0.088 0.582 0.255 0.207 0.    0.963]\n",
      "norm =  [0.063 0.039 0.26  0.114 0.093 0.    0.431]\n",
      "AUC all:  0.79149056072133\n",
      "\n"
     ]
    },
    {
     "name": "stderr",
     "output_type": "stream",
     "text": [
      "[I 2019-08-24 12:28:16,229] Finished trial#1042 resulted in value: -0.79149056072133. Current best value is -0.7948717948717948 with parameters: {'w_lr': 0.25932220860425337, 'w_lda': 0.09195697989035678, 'w_sv': 0.6584085004074863, 'w_xgb': 0.23943615391125597, 'w_lgbm': 0.2584978813734697, 'w_mlp': 0.9426610060258075}.\n"
     ]
    },
    {
     "name": "stdout",
     "output_type": "stream",
     "text": [
      "[w_lr, w_lda, w_sv, w_xgb, w_lgbm,w_cb ] =  [0.115 0.108 0.638 0.357 0.348 0.    0.561]\n",
      "norm =  [0.054 0.051 0.3   0.168 0.164 0.    0.264]\n",
      "AUC all:  0.7885319808396731\n",
      "\n"
     ]
    },
    {
     "name": "stderr",
     "output_type": "stream",
     "text": [
      "[I 2019-08-24 12:28:17,973] Finished trial#1043 resulted in value: -0.7885319808396731. Current best value is -0.7948717948717948 with parameters: {'w_lr': 0.25932220860425337, 'w_lda': 0.09195697989035678, 'w_sv': 0.6584085004074863, 'w_xgb': 0.23943615391125597, 'w_lgbm': 0.2584978813734697, 'w_mlp': 0.9426610060258075}.\n"
     ]
    },
    {
     "name": "stdout",
     "output_type": "stream",
     "text": [
      "[w_lr, w_lda, w_sv, w_xgb, w_lgbm,w_cb ] =  [0.156 0.082 0.607 0.276 0.285 0.    0.968]\n",
      "norm =  [0.066 0.034 0.256 0.116 0.12  0.    0.408]\n",
      "AUC all:  0.7934629473091012\n",
      "\n"
     ]
    },
    {
     "name": "stderr",
     "output_type": "stream",
     "text": [
      "[I 2019-08-24 12:28:19,724] Finished trial#1044 resulted in value: -0.7934629473091012. Current best value is -0.7948717948717948 with parameters: {'w_lr': 0.25932220860425337, 'w_lda': 0.09195697989035678, 'w_sv': 0.6584085004074863, 'w_xgb': 0.23943615391125597, 'w_lgbm': 0.2584978813734697, 'w_mlp': 0.9426610060258075}.\n"
     ]
    },
    {
     "name": "stdout",
     "output_type": "stream",
     "text": [
      "[w_lr, w_lda, w_sv, w_xgb, w_lgbm,w_cb ] =  [0.208 0.181 0.647 0.194 0.23  0.    0.941]\n",
      "norm =  [0.087 0.075 0.27  0.081 0.096 0.    0.392]\n",
      "AUC all:  0.7886728655959425\n",
      "\n"
     ]
    },
    {
     "name": "stderr",
     "output_type": "stream",
     "text": [
      "[I 2019-08-24 12:28:21,466] Finished trial#1045 resulted in value: -0.7886728655959425. Current best value is -0.7948717948717948 with parameters: {'w_lr': 0.25932220860425337, 'w_lda': 0.09195697989035678, 'w_sv': 0.6584085004074863, 'w_xgb': 0.23943615391125597, 'w_lgbm': 0.2584978813734697, 'w_mlp': 0.9426610060258075}.\n"
     ]
    },
    {
     "name": "stdout",
     "output_type": "stream",
     "text": [
      "[w_lr, w_lda, w_sv, w_xgb, w_lgbm,w_cb ] =  [0.158 0.066 0.605 0.309 0.278 0.    0.962]\n",
      "norm =  [0.066 0.028 0.254 0.13  0.117 0.    0.405]\n",
      "AUC all:  0.791913214990138\n",
      "\n"
     ]
    },
    {
     "name": "stderr",
     "output_type": "stream",
     "text": [
      "[I 2019-08-24 12:28:23,224] Finished trial#1046 resulted in value: -0.791913214990138. Current best value is -0.7948717948717948 with parameters: {'w_lr': 0.25932220860425337, 'w_lda': 0.09195697989035678, 'w_sv': 0.6584085004074863, 'w_xgb': 0.23943615391125597, 'w_lgbm': 0.2584978813734697, 'w_mlp': 0.9426610060258075}.\n"
     ]
    },
    {
     "name": "stdout",
     "output_type": "stream",
     "text": [
      "[w_lr, w_lda, w_sv, w_xgb, w_lgbm,w_cb ] =  [0.183 0.123 0.574 0.25  0.254 0.    0.932]\n",
      "norm =  [0.079 0.053 0.248 0.108 0.11  0.    0.402]\n",
      "AUC all:  0.7927585235277543\n",
      "\n"
     ]
    },
    {
     "name": "stderr",
     "output_type": "stream",
     "text": [
      "[I 2019-08-24 12:28:24,969] Finished trial#1047 resulted in value: -0.7927585235277543. Current best value is -0.7948717948717948 with parameters: {'w_lr': 0.25932220860425337, 'w_lda': 0.09195697989035678, 'w_sv': 0.6584085004074863, 'w_xgb': 0.23943615391125597, 'w_lgbm': 0.2584978813734697, 'w_mlp': 0.9426610060258075}.\n"
     ]
    },
    {
     "name": "stdout",
     "output_type": "stream",
     "text": [
      "[w_lr, w_lda, w_sv, w_xgb, w_lgbm,w_cb ] =  [0.129 0.13  0.633 0.239 0.27  0.    0.978]\n",
      "norm =  [0.054 0.055 0.266 0.101 0.114 0.    0.411]\n",
      "AUC all:  0.7924767540152156\n",
      "\n"
     ]
    },
    {
     "name": "stderr",
     "output_type": "stream",
     "text": [
      "[I 2019-08-24 12:28:26,722] Finished trial#1048 resulted in value: -0.7924767540152156. Current best value is -0.7948717948717948 with parameters: {'w_lr': 0.25932220860425337, 'w_lda': 0.09195697989035678, 'w_sv': 0.6584085004074863, 'w_xgb': 0.23943615391125597, 'w_lgbm': 0.2584978813734697, 'w_mlp': 0.9426610060258075}.\n"
     ]
    },
    {
     "name": "stdout",
     "output_type": "stream",
     "text": [
      "[w_lr, w_lda, w_sv, w_xgb, w_lgbm,w_cb ] =  [0.067 0.1   0.555 0.308 0.295 0.    0.963]\n",
      "norm =  [0.029 0.044 0.242 0.135 0.129 0.    0.421]\n",
      "AUC all:  0.7934629473091012\n",
      "\n"
     ]
    },
    {
     "name": "stderr",
     "output_type": "stream",
     "text": [
      "[I 2019-08-24 12:28:28,507] Finished trial#1049 resulted in value: -0.7934629473091012. Current best value is -0.7948717948717948 with parameters: {'w_lr': 0.25932220860425337, 'w_lda': 0.09195697989035678, 'w_sv': 0.6584085004074863, 'w_xgb': 0.23943615391125597, 'w_lgbm': 0.2584978813734697, 'w_mlp': 0.9426610060258075}.\n"
     ]
    },
    {
     "name": "stdout",
     "output_type": "stream",
     "text": [
      "[w_lr, w_lda, w_sv, w_xgb, w_lgbm,w_cb ] =  [0.19  0.111 0.576 0.262 0.254 0.    0.95 ]\n",
      "norm =  [0.081 0.047 0.246 0.112 0.108 0.    0.405]\n",
      "AUC all:  0.7934629473091012\n",
      "\n"
     ]
    },
    {
     "name": "stderr",
     "output_type": "stream",
     "text": [
      "[I 2019-08-24 12:28:30,270] Finished trial#1050 resulted in value: -0.7934629473091012. Current best value is -0.7948717948717948 with parameters: {'w_lr': 0.25932220860425337, 'w_lda': 0.09195697989035678, 'w_sv': 0.6584085004074863, 'w_xgb': 0.23943615391125597, 'w_lgbm': 0.2584978813734697, 'w_mlp': 0.9426610060258075}.\n"
     ]
    },
    {
     "name": "stdout",
     "output_type": "stream",
     "text": [
      "[w_lr, w_lda, w_sv, w_xgb, w_lgbm,w_cb ] =  [0.141 0.167 0.569 0.285 0.304 0.    0.932]\n",
      "norm =  [0.059 0.07  0.237 0.119 0.127 0.    0.389]\n",
      "AUC all:  0.7923358692589462\n",
      "\n"
     ]
    },
    {
     "name": "stderr",
     "output_type": "stream",
     "text": [
      "[I 2019-08-24 12:28:32,020] Finished trial#1051 resulted in value: -0.7923358692589462. Current best value is -0.7948717948717948 with parameters: {'w_lr': 0.25932220860425337, 'w_lda': 0.09195697989035678, 'w_sv': 0.6584085004074863, 'w_xgb': 0.23943615391125597, 'w_lgbm': 0.2584978813734697, 'w_mlp': 0.9426610060258075}.\n"
     ]
    },
    {
     "name": "stdout",
     "output_type": "stream",
     "text": [
      "[w_lr, w_lda, w_sv, w_xgb, w_lgbm,w_cb ] =  [0.168 0.158 0.64  0.332 0.313 0.    0.973]\n",
      "norm =  [0.065 0.061 0.248 0.128 0.121 0.    0.377]\n",
      "AUC all:  0.7931811777965625\n",
      "\n"
     ]
    },
    {
     "name": "stderr",
     "output_type": "stream",
     "text": [
      "[I 2019-08-24 12:28:33,792] Finished trial#1052 resulted in value: -0.7931811777965625. Current best value is -0.7948717948717948 with parameters: {'w_lr': 0.25932220860425337, 'w_lda': 0.09195697989035678, 'w_sv': 0.6584085004074863, 'w_xgb': 0.23943615391125597, 'w_lgbm': 0.2584978813734697, 'w_mlp': 0.9426610060258075}.\n"
     ]
    },
    {
     "name": "stdout",
     "output_type": "stream",
     "text": [
      "[w_lr, w_lda, w_sv, w_xgb, w_lgbm,w_cb ] =  [0.135 0.095 0.623 0.295 0.281 0.    0.968]\n",
      "norm =  [0.056 0.04  0.26  0.123 0.117 0.    0.404]\n",
      "AUC all:  0.793040293040293\n",
      "\n"
     ]
    },
    {
     "name": "stderr",
     "output_type": "stream",
     "text": [
      "[I 2019-08-24 12:28:35,542] Finished trial#1053 resulted in value: -0.793040293040293. Current best value is -0.7948717948717948 with parameters: {'w_lr': 0.25932220860425337, 'w_lda': 0.09195697989035678, 'w_sv': 0.6584085004074863, 'w_xgb': 0.23943615391125597, 'w_lgbm': 0.2584978813734697, 'w_mlp': 0.9426610060258075}.\n"
     ]
    },
    {
     "name": "stdout",
     "output_type": "stream",
     "text": [
      "[w_lr, w_lda, w_sv, w_xgb, w_lgbm,w_cb ] =  [0.207 0.137 0.592 0.242 0.232 0.    0.944]\n",
      "norm =  [0.088 0.058 0.251 0.103 0.098 0.    0.401]\n",
      "AUC all:  0.7910679064525218\n",
      "\n"
     ]
    },
    {
     "name": "stderr",
     "output_type": "stream",
     "text": [
      "[I 2019-08-24 12:28:37,291] Finished trial#1054 resulted in value: -0.7910679064525218. Current best value is -0.7948717948717948 with parameters: {'w_lr': 0.25932220860425337, 'w_lda': 0.09195697989035678, 'w_sv': 0.6584085004074863, 'w_xgb': 0.23943615391125597, 'w_lgbm': 0.2584978813734697, 'w_mlp': 0.9426610060258075}.\n"
     ]
    },
    {
     "name": "stdout",
     "output_type": "stream",
     "text": [
      "[w_lr, w_lda, w_sv, w_xgb, w_lgbm,w_cb ] =  [0.1   0.121 0.547 0.268 0.264 0.    0.999]\n",
      "norm =  [0.044 0.053 0.238 0.116 0.115 0.    0.434]\n",
      "AUC all:  0.7931811777965625\n",
      "\n"
     ]
    },
    {
     "name": "stderr",
     "output_type": "stream",
     "text": [
      "[I 2019-08-24 12:28:39,063] Finished trial#1055 resulted in value: -0.7931811777965625. Current best value is -0.7948717948717948 with parameters: {'w_lr': 0.25932220860425337, 'w_lda': 0.09195697989035678, 'w_sv': 0.6584085004074863, 'w_xgb': 0.23943615391125597, 'w_lgbm': 0.2584978813734697, 'w_mlp': 0.9426610060258075}.\n"
     ]
    },
    {
     "name": "stdout",
     "output_type": "stream",
     "text": [
      "[w_lr, w_lda, w_sv, w_xgb, w_lgbm,w_cb ] =  [0.066 0.142 0.662 0.211 0.195 0.    0.921]\n",
      "norm =  [0.03  0.065 0.301 0.096 0.089 0.    0.419]\n",
      "AUC all:  0.7900817131586362\n",
      "\n"
     ]
    },
    {
     "name": "stderr",
     "output_type": "stream",
     "text": [
      "[I 2019-08-24 12:28:40,838] Finished trial#1056 resulted in value: -0.7900817131586362. Current best value is -0.7948717948717948 with parameters: {'w_lr': 0.25932220860425337, 'w_lda': 0.09195697989035678, 'w_sv': 0.6584085004074863, 'w_xgb': 0.23943615391125597, 'w_lgbm': 0.2584978813734697, 'w_mlp': 0.9426610060258075}.\n"
     ]
    },
    {
     "name": "stdout",
     "output_type": "stream",
     "text": [
      "[w_lr, w_lda, w_sv, w_xgb, w_lgbm,w_cb ] =  [0.081 0.076 0.613 0.219 0.215 0.    0.914]\n",
      "norm =  [0.038 0.036 0.29  0.103 0.102 0.    0.431]\n",
      "AUC all:  0.7928994082840236\n",
      "\n"
     ]
    },
    {
     "name": "stderr",
     "output_type": "stream",
     "text": [
      "[I 2019-08-24 12:28:42,627] Finished trial#1057 resulted in value: -0.7928994082840236. Current best value is -0.7948717948717948 with parameters: {'w_lr': 0.25932220860425337, 'w_lda': 0.09195697989035678, 'w_sv': 0.6584085004074863, 'w_xgb': 0.23943615391125597, 'w_lgbm': 0.2584978813734697, 'w_mlp': 0.9426610060258075}.\n"
     ]
    },
    {
     "name": "stdout",
     "output_type": "stream",
     "text": [
      "[w_lr, w_lda, w_sv, w_xgb, w_lgbm,w_cb ] =  [0.176 0.036 0.586 0.385 0.239 0.    0.952]\n",
      "norm =  [0.074 0.015 0.247 0.162 0.101 0.    0.401]\n",
      "AUC all:  0.7893772893772893\n",
      "\n"
     ]
    },
    {
     "name": "stderr",
     "output_type": "stream",
     "text": [
      "[I 2019-08-24 12:28:44,396] Finished trial#1058 resulted in value: -0.7893772893772893. Current best value is -0.7948717948717948 with parameters: {'w_lr': 0.25932220860425337, 'w_lda': 0.09195697989035678, 'w_sv': 0.6584085004074863, 'w_xgb': 0.23943615391125597, 'w_lgbm': 0.2584978813734697, 'w_mlp': 0.9426610060258075}.\n"
     ]
    },
    {
     "name": "stdout",
     "output_type": "stream",
     "text": [
      "[w_lr, w_lda, w_sv, w_xgb, w_lgbm,w_cb ] =  [0.132 0.118 0.595 0.246 0.257 0.    0.934]\n",
      "norm =  [0.058 0.052 0.261 0.108 0.112 0.    0.409]\n",
      "AUC all:  0.7933220625528317\n",
      "\n"
     ]
    },
    {
     "name": "stderr",
     "output_type": "stream",
     "text": [
      "[I 2019-08-24 12:28:46,171] Finished trial#1059 resulted in value: -0.7933220625528317. Current best value is -0.7948717948717948 with parameters: {'w_lr': 0.25932220860425337, 'w_lda': 0.09195697989035678, 'w_sv': 0.6584085004074863, 'w_xgb': 0.23943615391125597, 'w_lgbm': 0.2584978813734697, 'w_mlp': 0.9426610060258075}.\n"
     ]
    },
    {
     "name": "stdout",
     "output_type": "stream",
     "text": [
      "[w_lr, w_lda, w_sv, w_xgb, w_lgbm,w_cb ] =  [0.158 0.059 0.628 0.222 0.288 0.    0.991]\n",
      "norm =  [0.067 0.025 0.268 0.094 0.123 0.    0.422]\n",
      "AUC all:  0.7924767540152156\n",
      "\n"
     ]
    },
    {
     "name": "stderr",
     "output_type": "stream",
     "text": [
      "[I 2019-08-24 12:28:47,943] Finished trial#1060 resulted in value: -0.7924767540152156. Current best value is -0.7948717948717948 with parameters: {'w_lr': 0.25932220860425337, 'w_lda': 0.09195697989035678, 'w_sv': 0.6584085004074863, 'w_xgb': 0.23943615391125597, 'w_lgbm': 0.2584978813734697, 'w_mlp': 0.9426610060258075}.\n"
     ]
    },
    {
     "name": "stdout",
     "output_type": "stream",
     "text": [
      "[w_lr, w_lda, w_sv, w_xgb, w_lgbm,w_cb ] =  [0.157 0.107 0.561 0.23  0.281 0.    0.957]\n",
      "norm =  [0.068 0.047 0.245 0.101 0.122 0.    0.418]\n",
      "AUC all:  0.7927585235277542\n",
      "\n"
     ]
    },
    {
     "name": "stderr",
     "output_type": "stream",
     "text": [
      "[I 2019-08-24 12:28:49,720] Finished trial#1061 resulted in value: -0.7927585235277542. Current best value is -0.7948717948717948 with parameters: {'w_lr': 0.25932220860425337, 'w_lda': 0.09195697989035678, 'w_sv': 0.6584085004074863, 'w_xgb': 0.23943615391125597, 'w_lgbm': 0.2584978813734697, 'w_mlp': 0.9426610060258075}.\n"
     ]
    },
    {
     "name": "stdout",
     "output_type": "stream",
     "text": [
      "[w_lr, w_lda, w_sv, w_xgb, w_lgbm,w_cb ] =  [0.111 0.078 0.653 0.287 0.334 0.    0.98 ]\n",
      "norm =  [0.046 0.032 0.267 0.117 0.137 0.    0.401]\n",
      "AUC all:  0.7923358692589462\n",
      "\n"
     ]
    },
    {
     "name": "stderr",
     "output_type": "stream",
     "text": [
      "[I 2019-08-24 12:28:51,501] Finished trial#1062 resulted in value: -0.7923358692589462. Current best value is -0.7948717948717948 with parameters: {'w_lr': 0.25932220860425337, 'w_lda': 0.09195697989035678, 'w_sv': 0.6584085004074863, 'w_xgb': 0.23943615391125597, 'w_lgbm': 0.2584978813734697, 'w_mlp': 0.9426610060258075}.\n"
     ]
    },
    {
     "name": "stdout",
     "output_type": "stream",
     "text": [
      "[w_lr, w_lda, w_sv, w_xgb, w_lgbm,w_cb ] =  [0.198 0.145 0.644 0.313 0.263 0.    0.954]\n",
      "norm =  [0.079 0.058 0.256 0.124 0.105 0.    0.379]\n",
      "AUC all:  0.7914905607213298\n",
      "\n"
     ]
    },
    {
     "name": "stderr",
     "output_type": "stream",
     "text": [
      "[I 2019-08-24 12:28:53,302] Finished trial#1063 resulted in value: -0.7914905607213298. Current best value is -0.7948717948717948 with parameters: {'w_lr': 0.25932220860425337, 'w_lda': 0.09195697989035678, 'w_sv': 0.6584085004074863, 'w_xgb': 0.23943615391125597, 'w_lgbm': 0.2584978813734697, 'w_mlp': 0.9426610060258075}.\n"
     ]
    },
    {
     "name": "stdout",
     "output_type": "stream",
     "text": [
      "[w_lr, w_lda, w_sv, w_xgb, w_lgbm,w_cb ] =  [0.174 0.091 0.601 0.196 0.276 0.    0.946]\n",
      "norm =  [0.076 0.04  0.263 0.086 0.121 0.    0.414]\n",
      "AUC all:  0.7928994082840236\n",
      "\n"
     ]
    },
    {
     "name": "stderr",
     "output_type": "stream",
     "text": [
      "[I 2019-08-24 12:28:55,107] Finished trial#1064 resulted in value: -0.7928994082840236. Current best value is -0.7948717948717948 with parameters: {'w_lr': 0.25932220860425337, 'w_lda': 0.09195697989035678, 'w_sv': 0.6584085004074863, 'w_xgb': 0.23943615391125597, 'w_lgbm': 0.2584978813734697, 'w_mlp': 0.9426610060258075}.\n"
     ]
    },
    {
     "name": "stdout",
     "output_type": "stream",
     "text": [
      "[w_lr, w_lda, w_sv, w_xgb, w_lgbm,w_cb ] =  [0.092 0.119 0.537 0.178 0.233 0.    0.914]\n",
      "norm =  [0.044 0.057 0.259 0.086 0.112 0.    0.441]\n",
      "AUC all:  0.7914905607213298\n",
      "\n"
     ]
    },
    {
     "name": "stderr",
     "output_type": "stream",
     "text": [
      "[I 2019-08-24 12:28:56,896] Finished trial#1065 resulted in value: -0.7914905607213298. Current best value is -0.7948717948717948 with parameters: {'w_lr': 0.25932220860425337, 'w_lda': 0.09195697989035678, 'w_sv': 0.6584085004074863, 'w_xgb': 0.23943615391125597, 'w_lgbm': 0.2584978813734697, 'w_mlp': 0.9426610060258075}.\n"
     ]
    },
    {
     "name": "stdout",
     "output_type": "stream",
     "text": [
      "[w_lr, w_lda, w_sv, w_xgb, w_lgbm,w_cb ] =  [0.149 0.103 0.577 0.264 0.299 0.    0.982]\n",
      "norm =  [0.063 0.043 0.243 0.111 0.126 0.    0.414]\n",
      "AUC all:  0.7931811777965625\n",
      "\n"
     ]
    },
    {
     "name": "stderr",
     "output_type": "stream",
     "text": [
      "[I 2019-08-24 12:28:58,708] Finished trial#1066 resulted in value: -0.7931811777965625. Current best value is -0.7948717948717948 with parameters: {'w_lr': 0.25932220860425337, 'w_lda': 0.09195697989035678, 'w_sv': 0.6584085004074863, 'w_xgb': 0.23943615391125597, 'w_lgbm': 0.2584978813734697, 'w_mlp': 0.9426610060258075}.\n"
     ]
    },
    {
     "name": "stdout",
     "output_type": "stream",
     "text": [
      "[w_lr, w_lda, w_sv, w_xgb, w_lgbm,w_cb ] =  [0.12  0.023 0.612 0.272 0.246 0.    0.966]\n",
      "norm =  [0.054 0.01  0.273 0.121 0.11  0.    0.431]\n",
      "AUC all:  0.7924767540152156\n",
      "\n"
     ]
    },
    {
     "name": "stderr",
     "output_type": "stream",
     "text": [
      "[I 2019-08-24 12:29:00,517] Finished trial#1067 resulted in value: -0.7924767540152156. Current best value is -0.7948717948717948 with parameters: {'w_lr': 0.25932220860425337, 'w_lda': 0.09195697989035678, 'w_sv': 0.6584085004074863, 'w_xgb': 0.23943615391125597, 'w_lgbm': 0.2584978813734697, 'w_mlp': 0.9426610060258075}.\n"
     ]
    },
    {
     "name": "stdout",
     "output_type": "stream",
     "text": [
      "[w_lr, w_lda, w_sv, w_xgb, w_lgbm,w_cb ] =  [0.179 0.054 0.578 0.219 0.221 0.    0.933]\n",
      "norm =  [0.082 0.025 0.264 0.1   0.101 0.    0.427]\n",
      "AUC all:  0.7920540997464075\n",
      "\n"
     ]
    },
    {
     "name": "stderr",
     "output_type": "stream",
     "text": [
      "[I 2019-08-24 12:29:02,320] Finished trial#1068 resulted in value: -0.7920540997464075. Current best value is -0.7948717948717948 with parameters: {'w_lr': 0.25932220860425337, 'w_lda': 0.09195697989035678, 'w_sv': 0.6584085004074863, 'w_xgb': 0.23943615391125597, 'w_lgbm': 0.2584978813734697, 'w_mlp': 0.9426610060258075}.\n"
     ]
    },
    {
     "name": "stdout",
     "output_type": "stream",
     "text": [
      "[w_lr, w_lda, w_sv, w_xgb, w_lgbm,w_cb ] =  [0.069 0.087 0.623 0.238 0.26  0.    0.92 ]\n",
      "norm =  [0.032 0.039 0.283 0.108 0.118 0.    0.419]\n",
      "AUC all:  0.7938856015779092\n",
      "\n"
     ]
    },
    {
     "name": "stderr",
     "output_type": "stream",
     "text": [
      "[I 2019-08-24 12:29:04,144] Finished trial#1069 resulted in value: -0.7938856015779092. Current best value is -0.7948717948717948 with parameters: {'w_lr': 0.25932220860425337, 'w_lda': 0.09195697989035678, 'w_sv': 0.6584085004074863, 'w_xgb': 0.23943615391125597, 'w_lgbm': 0.2584978813734697, 'w_mlp': 0.9426610060258075}.\n"
     ]
    },
    {
     "name": "stdout",
     "output_type": "stream",
     "text": [
      "[w_lr, w_lda, w_sv, w_xgb, w_lgbm,w_cb ] =  [0.432 0.132 0.635 0.031 0.445 0.    0.947]\n",
      "norm =  [0.165 0.05  0.242 0.012 0.17  0.    0.361]\n",
      "AUC all:  0.783882783882784\n",
      "\n"
     ]
    },
    {
     "name": "stderr",
     "output_type": "stream",
     "text": [
      "[I 2019-08-24 12:29:05,929] Finished trial#1070 resulted in value: -0.783882783882784. Current best value is -0.7948717948717948 with parameters: {'w_lr': 0.25932220860425337, 'w_lda': 0.09195697989035678, 'w_sv': 0.6584085004074863, 'w_xgb': 0.23943615391125597, 'w_lgbm': 0.2584978813734697, 'w_mlp': 0.9426610060258075}.\n"
     ]
    },
    {
     "name": "stdout",
     "output_type": "stream",
     "text": [
      "[w_lr, w_lda, w_sv, w_xgb, w_lgbm,w_cb ] =  [0.197 0.157 0.663 0.289 0.298 0.    0.957]\n",
      "norm =  [0.077 0.061 0.259 0.113 0.116 0.    0.374]\n",
      "AUC all:  0.7927585235277543\n",
      "\n"
     ]
    },
    {
     "name": "stderr",
     "output_type": "stream",
     "text": [
      "[I 2019-08-24 12:29:07,735] Finished trial#1071 resulted in value: -0.7927585235277543. Current best value is -0.7948717948717948 with parameters: {'w_lr': 0.25932220860425337, 'w_lda': 0.09195697989035678, 'w_sv': 0.6584085004074863, 'w_xgb': 0.23943615391125597, 'w_lgbm': 0.2584978813734697, 'w_mlp': 0.9426610060258075}.\n"
     ]
    },
    {
     "name": "stdout",
     "output_type": "stream",
     "text": [
      "[w_lr, w_lda, w_sv, w_xgb, w_lgbm,w_cb ] =  [0.159 0.096 0.603 0.275 0.275 0.    0.961]\n",
      "norm =  [0.067 0.041 0.255 0.116 0.116 0.    0.405]\n",
      "AUC all:  0.7936038320653704\n",
      "\n"
     ]
    },
    {
     "name": "stderr",
     "output_type": "stream",
     "text": [
      "[I 2019-08-24 12:29:09,556] Finished trial#1072 resulted in value: -0.7936038320653704. Current best value is -0.7948717948717948 with parameters: {'w_lr': 0.25932220860425337, 'w_lda': 0.09195697989035678, 'w_sv': 0.6584085004074863, 'w_xgb': 0.23943615391125597, 'w_lgbm': 0.2584978813734697, 'w_mlp': 0.9426610060258075}.\n"
     ]
    },
    {
     "name": "stdout",
     "output_type": "stream",
     "text": [
      "[w_lr, w_lda, w_sv, w_xgb, w_lgbm,w_cb ] =  [0.098 0.076 0.688 0.213 0.233 0.    0.931]\n",
      "norm =  [0.044 0.034 0.307 0.095 0.104 0.    0.416]\n",
      "AUC all:  0.7931811777965624\n",
      "\n"
     ]
    },
    {
     "name": "stderr",
     "output_type": "stream",
     "text": [
      "[I 2019-08-24 12:29:11,345] Finished trial#1073 resulted in value: -0.7931811777965624. Current best value is -0.7948717948717948 with parameters: {'w_lr': 0.25932220860425337, 'w_lda': 0.09195697989035678, 'w_sv': 0.6584085004074863, 'w_xgb': 0.23943615391125597, 'w_lgbm': 0.2584978813734697, 'w_mlp': 0.9426610060258075}.\n"
     ]
    },
    {
     "name": "stdout",
     "output_type": "stream",
     "text": [
      "[w_lr, w_lda, w_sv, w_xgb, w_lgbm,w_cb ] =  [0.191 0.062 0.591 0.203 0.321 0.    0.94 ]\n",
      "norm =  [0.083 0.027 0.256 0.088 0.139 0.    0.407]\n",
      "AUC all:  0.7899408284023669\n",
      "\n"
     ]
    },
    {
     "name": "stderr",
     "output_type": "stream",
     "text": [
      "[I 2019-08-24 12:29:13,144] Finished trial#1074 resulted in value: -0.7899408284023669. Current best value is -0.7948717948717948 with parameters: {'w_lr': 0.25932220860425337, 'w_lda': 0.09195697989035678, 'w_sv': 0.6584085004074863, 'w_xgb': 0.23943615391125597, 'w_lgbm': 0.2584978813734697, 'w_mlp': 0.9426610060258075}.\n"
     ]
    },
    {
     "name": "stdout",
     "output_type": "stream",
     "text": [
      "[w_lr, w_lda, w_sv, w_xgb, w_lgbm,w_cb ] =  [0.132 0.102 0.614 0.258 0.251 0.    0.971]\n",
      "norm =  [0.057 0.044 0.264 0.111 0.108 0.    0.417]\n",
      "AUC all:  0.7936038320653706\n",
      "\n"
     ]
    },
    {
     "name": "stderr",
     "output_type": "stream",
     "text": [
      "[I 2019-08-24 12:29:14,940] Finished trial#1075 resulted in value: -0.7936038320653706. Current best value is -0.7948717948717948 with parameters: {'w_lr': 0.25932220860425337, 'w_lda': 0.09195697989035678, 'w_sv': 0.6584085004074863, 'w_xgb': 0.23943615391125597, 'w_lgbm': 0.2584978813734697, 'w_mlp': 0.9426610060258075}.\n"
     ]
    },
    {
     "name": "stdout",
     "output_type": "stream",
     "text": [
      "[w_lr, w_lda, w_sv, w_xgb, w_lgbm,w_cb ] =  [0.106 0.269 0.586 0.235 0.183 0.    0.919]\n",
      "norm =  [0.046 0.117 0.255 0.102 0.08  0.    0.4  ]\n",
      "AUC all:  0.7851507466892081\n",
      "\n"
     ]
    },
    {
     "name": "stderr",
     "output_type": "stream",
     "text": [
      "[I 2019-08-24 12:29:16,754] Finished trial#1076 resulted in value: -0.7851507466892081. Current best value is -0.7948717948717948 with parameters: {'w_lr': 0.25932220860425337, 'w_lda': 0.09195697989035678, 'w_sv': 0.6584085004074863, 'w_xgb': 0.23943615391125597, 'w_lgbm': 0.2584978813734697, 'w_mlp': 0.9426610060258075}.\n"
     ]
    },
    {
     "name": "stdout",
     "output_type": "stream",
     "text": [
      "[w_lr, w_lda, w_sv, w_xgb, w_lgbm,w_cb ] =  [0.063 0.095 0.559 0.334 0.213 0.    0.954]\n",
      "norm =  [0.028 0.043 0.252 0.15  0.096 0.    0.43 ]\n",
      "AUC all:  0.7890955198647505\n",
      "\n"
     ]
    },
    {
     "name": "stderr",
     "output_type": "stream",
     "text": [
      "[I 2019-08-24 12:29:18,581] Finished trial#1077 resulted in value: -0.7890955198647505. Current best value is -0.7948717948717948 with parameters: {'w_lr': 0.25932220860425337, 'w_lda': 0.09195697989035678, 'w_sv': 0.6584085004074863, 'w_xgb': 0.23943615391125597, 'w_lgbm': 0.2584978813734697, 'w_mlp': 0.9426610060258075}.\n"
     ]
    },
    {
     "name": "stdout",
     "output_type": "stream",
     "text": [
      "[w_lr, w_lda, w_sv, w_xgb, w_lgbm,w_cb ] =  [0.211 0.115 0.569 0.25  0.254 0.    0.939]\n",
      "norm =  [0.09  0.049 0.243 0.107 0.108 0.    0.402]\n",
      "AUC all:  0.7924767540152156\n",
      "\n"
     ]
    },
    {
     "name": "stderr",
     "output_type": "stream",
     "text": [
      "[I 2019-08-24 12:29:20,507] Finished trial#1078 resulted in value: -0.7924767540152156. Current best value is -0.7948717948717948 with parameters: {'w_lr': 0.25932220860425337, 'w_lda': 0.09195697989035678, 'w_sv': 0.6584085004074863, 'w_xgb': 0.23943615391125597, 'w_lgbm': 0.2584978813734697, 'w_mlp': 0.9426610060258075}.\n"
     ]
    },
    {
     "name": "stdout",
     "output_type": "stream",
     "text": [
      "[w_lr, w_lda, w_sv, w_xgb, w_lgbm,w_cb ] =  [0.169 0.068 0.582 0.249 0.371 0.    0.927]\n",
      "norm =  [0.071 0.029 0.246 0.105 0.157 0.    0.392]\n",
      "AUC all:  0.7892364046210201\n",
      "\n"
     ]
    },
    {
     "name": "stderr",
     "output_type": "stream",
     "text": [
      "[I 2019-08-24 12:29:22,424] Finished trial#1079 resulted in value: -0.7892364046210201. Current best value is -0.7948717948717948 with parameters: {'w_lr': 0.25932220860425337, 'w_lda': 0.09195697989035678, 'w_sv': 0.6584085004074863, 'w_xgb': 0.23943615391125597, 'w_lgbm': 0.2584978813734697, 'w_mlp': 0.9426610060258075}.\n"
     ]
    },
    {
     "name": "stdout",
     "output_type": "stream",
     "text": [
      "[w_lr, w_lda, w_sv, w_xgb, w_lgbm,w_cb ] =  [0.185 0.088 0.566 0.223 0.234 0.    0.91 ]\n",
      "norm =  [0.084 0.04  0.257 0.101 0.106 0.    0.412]\n",
      "AUC all:  0.7931811777965624\n",
      "\n"
     ]
    },
    {
     "name": "stderr",
     "output_type": "stream",
     "text": [
      "[I 2019-08-24 12:29:24,331] Finished trial#1080 resulted in value: -0.7931811777965624. Current best value is -0.7948717948717948 with parameters: {'w_lr': 0.25932220860425337, 'w_lda': 0.09195697989035678, 'w_sv': 0.6584085004074863, 'w_xgb': 0.23943615391125597, 'w_lgbm': 0.2584978813734697, 'w_mlp': 0.9426610060258075}.\n"
     ]
    },
    {
     "name": "stdout",
     "output_type": "stream",
     "text": [
      "[w_lr, w_lda, w_sv, w_xgb, w_lgbm,w_cb ] =  [0.068 0.039 0.512 0.237 0.26  0.    0.926]\n",
      "norm =  [0.034 0.019 0.251 0.116 0.127 0.    0.454]\n",
      "AUC all:  0.7928994082840236\n",
      "\n"
     ]
    },
    {
     "name": "stderr",
     "output_type": "stream",
     "text": [
      "[I 2019-08-24 12:29:26,251] Finished trial#1081 resulted in value: -0.7928994082840236. Current best value is -0.7948717948717948 with parameters: {'w_lr': 0.25932220860425337, 'w_lda': 0.09195697989035678, 'w_sv': 0.6584085004074863, 'w_xgb': 0.23943615391125597, 'w_lgbm': 0.2584978813734697, 'w_mlp': 0.9426610060258075}.\n"
     ]
    },
    {
     "name": "stdout",
     "output_type": "stream",
     "text": [
      "[w_lr, w_lda, w_sv, w_xgb, w_lgbm,w_cb ] =  [0.132 0.042 0.596 0.188 0.205 0.    0.96 ]\n",
      "norm =  [0.062 0.02  0.281 0.089 0.097 0.    0.452]\n",
      "AUC all:  0.7923358692589462\n",
      "\n"
     ]
    },
    {
     "name": "stderr",
     "output_type": "stream",
     "text": [
      "[I 2019-08-24 12:29:28,160] Finished trial#1082 resulted in value: -0.7923358692589462. Current best value is -0.7948717948717948 with parameters: {'w_lr': 0.25932220860425337, 'w_lda': 0.09195697989035678, 'w_sv': 0.6584085004074863, 'w_xgb': 0.23943615391125597, 'w_lgbm': 0.2584978813734697, 'w_mlp': 0.9426610060258075}.\n"
     ]
    },
    {
     "name": "stdout",
     "output_type": "stream",
     "text": [
      "[w_lr, w_lda, w_sv, w_xgb, w_lgbm,w_cb ] =  [0.118 0.856 0.523 0.295 0.279 0.    0.966]\n",
      "norm =  [0.039 0.282 0.172 0.097 0.092 0.    0.318]\n",
      "AUC all:  0.7786700479008172\n",
      "\n"
     ]
    },
    {
     "name": "stderr",
     "output_type": "stream",
     "text": [
      "[I 2019-08-24 12:29:30,074] Finished trial#1083 resulted in value: -0.7786700479008172. Current best value is -0.7948717948717948 with parameters: {'w_lr': 0.25932220860425337, 'w_lda': 0.09195697989035678, 'w_sv': 0.6584085004074863, 'w_xgb': 0.23943615391125597, 'w_lgbm': 0.2584978813734697, 'w_mlp': 0.9426610060258075}.\n"
     ]
    },
    {
     "name": "stdout",
     "output_type": "stream",
     "text": [
      "[w_lr, w_lda, w_sv, w_xgb, w_lgbm,w_cb ] =  [0.084 0.067 0.65  0.26  0.237 0.    0.981]\n",
      "norm =  [0.037 0.03  0.285 0.114 0.104 0.    0.43 ]\n",
      "AUC all:  0.7928994082840237\n",
      "\n"
     ]
    },
    {
     "name": "stderr",
     "output_type": "stream",
     "text": [
      "[I 2019-08-24 12:29:31,996] Finished trial#1084 resulted in value: -0.7928994082840237. Current best value is -0.7948717948717948 with parameters: {'w_lr': 0.25932220860425337, 'w_lda': 0.09195697989035678, 'w_sv': 0.6584085004074863, 'w_xgb': 0.23943615391125597, 'w_lgbm': 0.2584978813734697, 'w_mlp': 0.9426610060258075}.\n"
     ]
    },
    {
     "name": "stdout",
     "output_type": "stream",
     "text": [
      "[w_lr, w_lda, w_sv, w_xgb, w_lgbm,w_cb ] =  [0.158 0.114 0.548 0.221 0.294 0.    0.914]\n",
      "norm =  [0.07  0.051 0.244 0.098 0.131 0.    0.406]\n",
      "AUC all:  0.7927585235277542\n",
      "\n"
     ]
    },
    {
     "name": "stderr",
     "output_type": "stream",
     "text": [
      "[I 2019-08-24 12:29:33,928] Finished trial#1085 resulted in value: -0.7927585235277542. Current best value is -0.7948717948717948 with parameters: {'w_lr': 0.25932220860425337, 'w_lda': 0.09195697989035678, 'w_sv': 0.6584085004074863, 'w_xgb': 0.23943615391125597, 'w_lgbm': 0.2584978813734697, 'w_mlp': 0.9426610060258075}.\n"
     ]
    },
    {
     "name": "stdout",
     "output_type": "stream",
     "text": [
      "[w_lr, w_lda, w_sv, w_xgb, w_lgbm,w_cb ] =  [0.206 0.102 0.631 0.232 0.267 0.    0.942]\n",
      "norm =  [0.087 0.043 0.265 0.098 0.112 0.    0.396]\n",
      "AUC all:  0.7936038320653704\n",
      "\n"
     ]
    },
    {
     "name": "stderr",
     "output_type": "stream",
     "text": [
      "[I 2019-08-24 12:29:35,879] Finished trial#1086 resulted in value: -0.7936038320653704. Current best value is -0.7948717948717948 with parameters: {'w_lr': 0.25932220860425337, 'w_lda': 0.09195697989035678, 'w_sv': 0.6584085004074863, 'w_xgb': 0.23943615391125597, 'w_lgbm': 0.2584978813734697, 'w_mlp': 0.9426610060258075}.\n"
     ]
    },
    {
     "name": "stdout",
     "output_type": "stream",
     "text": [
      "[w_lr, w_lda, w_sv, w_xgb, w_lgbm,w_cb ] =  [0.337 0.135 0.781 0.274 0.268 0.    0.937]\n",
      "norm =  [0.123 0.049 0.286 0.1   0.098 0.    0.343]\n",
      "AUC all:  0.7931811777965624\n",
      "\n"
     ]
    },
    {
     "name": "stderr",
     "output_type": "stream",
     "text": [
      "[I 2019-08-24 12:29:37,816] Finished trial#1087 resulted in value: -0.7931811777965624. Current best value is -0.7948717948717948 with parameters: {'w_lr': 0.25932220860425337, 'w_lda': 0.09195697989035678, 'w_sv': 0.6584085004074863, 'w_xgb': 0.23943615391125597, 'w_lgbm': 0.2584978813734697, 'w_mlp': 0.9426610060258075}.\n"
     ]
    },
    {
     "name": "stdout",
     "output_type": "stream",
     "text": [
      "[w_lr, w_lda, w_sv, w_xgb, w_lgbm,w_cb ] =  [0.217 0.088 0.618 0.263 0.316 0.    0.999]\n",
      "norm =  [0.087 0.035 0.247 0.105 0.126 0.    0.399]\n",
      "AUC all:  0.7927585235277542\n",
      "\n"
     ]
    },
    {
     "name": "stderr",
     "output_type": "stream",
     "text": [
      "[I 2019-08-24 12:29:39,717] Finished trial#1088 resulted in value: -0.7927585235277542. Current best value is -0.7948717948717948 with parameters: {'w_lr': 0.25932220860425337, 'w_lda': 0.09195697989035678, 'w_sv': 0.6584085004074863, 'w_xgb': 0.23943615391125597, 'w_lgbm': 0.2584978813734697, 'w_mlp': 0.9426610060258075}.\n"
     ]
    },
    {
     "name": "stdout",
     "output_type": "stream",
     "text": [
      "[w_lr, w_lda, w_sv, w_xgb, w_lgbm,w_cb ] =  [0.178 0.013 0.594 0.201 0.286 0.    0.948]\n",
      "norm =  [0.08  0.006 0.268 0.091 0.129 0.    0.427]\n",
      "AUC all:  0.7906452521837138\n",
      "\n"
     ]
    },
    {
     "name": "stderr",
     "output_type": "stream",
     "text": [
      "[I 2019-08-24 12:29:41,629] Finished trial#1089 resulted in value: -0.7906452521837138. Current best value is -0.7948717948717948 with parameters: {'w_lr': 0.25932220860425337, 'w_lda': 0.09195697989035678, 'w_sv': 0.6584085004074863, 'w_xgb': 0.23943615391125597, 'w_lgbm': 0.2584978813734697, 'w_mlp': 0.9426610060258075}.\n"
     ]
    },
    {
     "name": "stdout",
     "output_type": "stream",
     "text": [
      "[w_lr, w_lda, w_sv, w_xgb, w_lgbm,w_cb ] =  [0.061 0.071 0.7   0.247 0.225 0.    0.924]\n",
      "norm =  [0.027 0.032 0.314 0.111 0.101 0.    0.415]\n",
      "AUC all:  0.793040293040293\n",
      "\n"
     ]
    },
    {
     "name": "stderr",
     "output_type": "stream",
     "text": [
      "[I 2019-08-24 12:29:43,580] Finished trial#1090 resulted in value: -0.793040293040293. Current best value is -0.7948717948717948 with parameters: {'w_lr': 0.25932220860425337, 'w_lda': 0.09195697989035678, 'w_sv': 0.6584085004074863, 'w_xgb': 0.23943615391125597, 'w_lgbm': 0.2584978813734697, 'w_mlp': 0.9426610060258075}.\n"
     ]
    },
    {
     "name": "stdout",
     "output_type": "stream",
     "text": [
      "[w_lr, w_lda, w_sv, w_xgb, w_lgbm,w_cb ] =  [0.144 0.084 0.58  0.253 0.245 0.    0.952]\n",
      "norm =  [0.064 0.037 0.257 0.112 0.109 0.    0.421]\n",
      "AUC all:  0.7937447168216399\n",
      "\n"
     ]
    },
    {
     "name": "stderr",
     "output_type": "stream",
     "text": [
      "[I 2019-08-24 12:29:45,522] Finished trial#1091 resulted in value: -0.7937447168216399. Current best value is -0.7948717948717948 with parameters: {'w_lr': 0.25932220860425337, 'w_lda': 0.09195697989035678, 'w_sv': 0.6584085004074863, 'w_xgb': 0.23943615391125597, 'w_lgbm': 0.2584978813734697, 'w_mlp': 0.9426610060258075}.\n"
     ]
    },
    {
     "name": "stdout",
     "output_type": "stream",
     "text": [
      "[w_lr, w_lda, w_sv, w_xgb, w_lgbm,w_cb ] =  [0.119 0.129 0.63  0.57  0.267 0.    0.968]\n",
      "norm =  [0.044 0.048 0.235 0.212 0.1   0.    0.361]\n",
      "AUC all:  0.7888137503522119\n",
      "\n"
     ]
    },
    {
     "name": "stderr",
     "output_type": "stream",
     "text": [
      "[I 2019-08-24 12:29:47,460] Finished trial#1092 resulted in value: -0.7888137503522119. Current best value is -0.7948717948717948 with parameters: {'w_lr': 0.25932220860425337, 'w_lda': 0.09195697989035678, 'w_sv': 0.6584085004074863, 'w_xgb': 0.23943615391125597, 'w_lgbm': 0.2584978813734697, 'w_mlp': 0.9426610060258075}.\n"
     ]
    },
    {
     "name": "stdout",
     "output_type": "stream",
     "text": [
      "[w_lr, w_lda, w_sv, w_xgb, w_lgbm,w_cb ] =  [0.145 0.153 0.644 0.324 0.315 0.    0.976]\n",
      "norm =  [0.057 0.06  0.252 0.127 0.123 0.    0.382]\n",
      "AUC all:  0.7933220625528319\n",
      "\n"
     ]
    },
    {
     "name": "stderr",
     "output_type": "stream",
     "text": [
      "[I 2019-08-24 12:29:49,395] Finished trial#1093 resulted in value: -0.7933220625528319. Current best value is -0.7948717948717948 with parameters: {'w_lr': 0.25932220860425337, 'w_lda': 0.09195697989035678, 'w_sv': 0.6584085004074863, 'w_xgb': 0.23943615391125597, 'w_lgbm': 0.2584978813734697, 'w_mlp': 0.9426610060258075}.\n"
     ]
    },
    {
     "name": "stdout",
     "output_type": "stream",
     "text": [
      "[w_lr, w_lda, w_sv, w_xgb, w_lgbm,w_cb ] =  [0.089 0.058 0.618 0.212 0.288 0.    0.974]\n",
      "norm =  [0.04  0.026 0.276 0.095 0.129 0.    0.435]\n",
      "AUC all:  0.7921949845026768\n",
      "\n"
     ]
    },
    {
     "name": "stderr",
     "output_type": "stream",
     "text": [
      "[I 2019-08-24 12:29:51,305] Finished trial#1094 resulted in value: -0.7921949845026768. Current best value is -0.7948717948717948 with parameters: {'w_lr': 0.25932220860425337, 'w_lda': 0.09195697989035678, 'w_sv': 0.6584085004074863, 'w_xgb': 0.23943615391125597, 'w_lgbm': 0.2584978813734697, 'w_mlp': 0.9426610060258075}.\n"
     ]
    },
    {
     "name": "stdout",
     "output_type": "stream",
     "text": [
      "[w_lr, w_lda, w_sv, w_xgb, w_lgbm,w_cb ] =  [0.049 0.001 0.66  0.284 0.247 0.    0.986]\n",
      "norm =  [0.022 0.001 0.296 0.128 0.111 0.    0.442]\n",
      "AUC all:  0.7913496759650606\n",
      "\n"
     ]
    },
    {
     "name": "stderr",
     "output_type": "stream",
     "text": [
      "[I 2019-08-24 12:29:53,243] Finished trial#1095 resulted in value: -0.7913496759650606. Current best value is -0.7948717948717948 with parameters: {'w_lr': 0.25932220860425337, 'w_lda': 0.09195697989035678, 'w_sv': 0.6584085004074863, 'w_xgb': 0.23943615391125597, 'w_lgbm': 0.2584978813734697, 'w_mlp': 0.9426610060258075}.\n"
     ]
    },
    {
     "name": "stdout",
     "output_type": "stream",
     "text": [
      "[w_lr, w_lda, w_sv, w_xgb, w_lgbm,w_cb ] =  [0.161 0.113 0.572 0.263 0.295 0.    0.935]\n",
      "norm =  [0.069 0.048 0.244 0.112 0.126 0.    0.4  ]\n",
      "AUC all:  0.7931811777965624\n",
      "\n"
     ]
    },
    {
     "name": "stderr",
     "output_type": "stream",
     "text": [
      "[I 2019-08-24 12:29:55,180] Finished trial#1096 resulted in value: -0.7931811777965624. Current best value is -0.7948717948717948 with parameters: {'w_lr': 0.25932220860425337, 'w_lda': 0.09195697989035678, 'w_sv': 0.6584085004074863, 'w_xgb': 0.23943615391125597, 'w_lgbm': 0.2584978813734697, 'w_mlp': 0.9426610060258075}.\n"
     ]
    },
    {
     "name": "stdout",
     "output_type": "stream",
     "text": [
      "[w_lr, w_lda, w_sv, w_xgb, w_lgbm,w_cb ] =  [0.178 0.049 0.606 0.173 0.268 0.    0.944]\n",
      "norm =  [0.08  0.022 0.273 0.078 0.121 0.    0.426]\n",
      "AUC all:  0.7909270216962524\n",
      "\n"
     ]
    },
    {
     "name": "stderr",
     "output_type": "stream",
     "text": [
      "[I 2019-08-24 12:29:57,130] Finished trial#1097 resulted in value: -0.7909270216962524. Current best value is -0.7948717948717948 with parameters: {'w_lr': 0.25932220860425337, 'w_lda': 0.09195697989035678, 'w_sv': 0.6584085004074863, 'w_xgb': 0.23943615391125597, 'w_lgbm': 0.2584978813734697, 'w_mlp': 0.9426610060258075}.\n"
     ]
    },
    {
     "name": "stdout",
     "output_type": "stream",
     "text": [
      "[w_lr, w_lda, w_sv, w_xgb, w_lgbm,w_cb ] =  [0.145 0.105 0.564 0.273 0.339 0.    0.988]\n",
      "norm =  [0.06  0.044 0.234 0.113 0.14  0.    0.409]\n",
      "AUC all:  0.7921949845026769\n",
      "\n"
     ]
    },
    {
     "name": "stderr",
     "output_type": "stream",
     "text": [
      "[I 2019-08-24 12:29:59,051] Finished trial#1098 resulted in value: -0.7921949845026769. Current best value is -0.7948717948717948 with parameters: {'w_lr': 0.25932220860425337, 'w_lda': 0.09195697989035678, 'w_sv': 0.6584085004074863, 'w_xgb': 0.23943615391125597, 'w_lgbm': 0.2584978813734697, 'w_mlp': 0.9426610060258075}.\n"
     ]
    },
    {
     "name": "stdout",
     "output_type": "stream",
     "text": [
      "[w_lr, w_lda, w_sv, w_xgb, w_lgbm,w_cb ] =  [0.935 0.13  0.672 0.31  0.298 0.    0.961]\n",
      "norm =  [0.283 0.039 0.203 0.094 0.09  0.    0.291]\n",
      "AUC all:  0.7920540997464074\n",
      "\n"
     ]
    },
    {
     "name": "stderr",
     "output_type": "stream",
     "text": [
      "[I 2019-08-24 12:30:00,978] Finished trial#1099 resulted in value: -0.7920540997464074. Current best value is -0.7948717948717948 with parameters: {'w_lr': 0.25932220860425337, 'w_lda': 0.09195697989035678, 'w_sv': 0.6584085004074863, 'w_xgb': 0.23943615391125597, 'w_lgbm': 0.2584978813734697, 'w_mlp': 0.9426610060258075}.\n"
     ]
    },
    {
     "name": "stdout",
     "output_type": "stream",
     "text": [
      "[w_lr, w_lda, w_sv, w_xgb, w_lgbm,w_cb ] =  [0.123 0.179 0.568 0.301 0.275 0.    0.952]\n",
      "norm =  [0.051 0.074 0.237 0.125 0.115 0.    0.397]\n",
      "AUC all:  0.7914905607213301\n",
      "\n"
     ]
    },
    {
     "name": "stderr",
     "output_type": "stream",
     "text": [
      "[I 2019-08-24 12:30:02,940] Finished trial#1100 resulted in value: -0.7914905607213301. Current best value is -0.7948717948717948 with parameters: {'w_lr': 0.25932220860425337, 'w_lda': 0.09195697989035678, 'w_sv': 0.6584085004074863, 'w_xgb': 0.23943615391125597, 'w_lgbm': 0.2584978813734697, 'w_mlp': 0.9426610060258075}.\n"
     ]
    },
    {
     "name": "stdout",
     "output_type": "stream",
     "text": [
      "[w_lr, w_lda, w_sv, w_xgb, w_lgbm,w_cb ] =  [0.178 0.157 0.562 0.287 0.261 0.    0.93 ]\n",
      "norm =  [0.075 0.066 0.237 0.121 0.11  0.    0.392]\n",
      "AUC all:  0.791913214990138\n",
      "\n"
     ]
    },
    {
     "name": "stderr",
     "output_type": "stream",
     "text": [
      "[I 2019-08-24 12:30:04,774] Finished trial#1101 resulted in value: -0.791913214990138. Current best value is -0.7948717948717948 with parameters: {'w_lr': 0.25932220860425337, 'w_lda': 0.09195697989035678, 'w_sv': 0.6584085004074863, 'w_xgb': 0.23943615391125597, 'w_lgbm': 0.2584978813734697, 'w_mlp': 0.9426610060258075}.\n"
     ]
    },
    {
     "name": "stdout",
     "output_type": "stream",
     "text": [
      "[w_lr, w_lda, w_sv, w_xgb, w_lgbm,w_cb ] =  [0.198 0.071 0.604 0.228 0.237 0.    0.939]\n",
      "norm =  [0.087 0.031 0.265 0.1   0.104 0.    0.412]\n",
      "AUC all:  0.7933220625528318\n",
      "\n"
     ]
    },
    {
     "name": "stderr",
     "output_type": "stream",
     "text": [
      "[I 2019-08-24 12:30:06,622] Finished trial#1102 resulted in value: -0.7933220625528318. Current best value is -0.7948717948717948 with parameters: {'w_lr': 0.25932220860425337, 'w_lda': 0.09195697989035678, 'w_sv': 0.6584085004074863, 'w_xgb': 0.23943615391125597, 'w_lgbm': 0.2584978813734697, 'w_mlp': 0.9426610060258075}.\n"
     ]
    },
    {
     "name": "stdout",
     "output_type": "stream",
     "text": [
      "[w_lr, w_lda, w_sv, w_xgb, w_lgbm,w_cb ] =  [0.217 0.128 0.621 0.24  0.252 0.    0.961]\n",
      "norm =  [0.09  0.053 0.257 0.099 0.104 0.    0.397]\n",
      "AUC all:  0.7920540997464074\n",
      "\n"
     ]
    },
    {
     "name": "stderr",
     "output_type": "stream",
     "text": [
      "[I 2019-08-24 12:30:08,500] Finished trial#1103 resulted in value: -0.7920540997464074. Current best value is -0.7948717948717948 with parameters: {'w_lr': 0.25932220860425337, 'w_lda': 0.09195697989035678, 'w_sv': 0.6584085004074863, 'w_xgb': 0.23943615391125597, 'w_lgbm': 0.2584978813734697, 'w_mlp': 0.9426610060258075}.\n"
     ]
    },
    {
     "name": "stdout",
     "output_type": "stream",
     "text": [
      "[w_lr, w_lda, w_sv, w_xgb, w_lgbm,w_cb ] =  [0.137 0.147 0.579 0.276 0.307 0.    0.928]\n",
      "norm =  [0.058 0.062 0.244 0.116 0.129 0.    0.391]\n",
      "AUC all:  0.7928994082840237\n",
      "\n"
     ]
    },
    {
     "name": "stderr",
     "output_type": "stream",
     "text": [
      "[I 2019-08-24 12:30:10,348] Finished trial#1104 resulted in value: -0.7928994082840237. Current best value is -0.7948717948717948 with parameters: {'w_lr': 0.25932220860425337, 'w_lda': 0.09195697989035678, 'w_sv': 0.6584085004074863, 'w_xgb': 0.23943615391125597, 'w_lgbm': 0.2584978813734697, 'w_mlp': 0.9426610060258075}.\n"
     ]
    },
    {
     "name": "stdout",
     "output_type": "stream",
     "text": [
      "[w_lr, w_lda, w_sv, w_xgb, w_lgbm,w_cb ] =  [0.056 0.105 0.557 0.209 0.223 0.    0.906]\n",
      "norm =  [0.027 0.051 0.271 0.102 0.108 0.    0.441]\n",
      "AUC all:  0.79149056072133\n",
      "\n"
     ]
    },
    {
     "name": "stderr",
     "output_type": "stream",
     "text": [
      "[I 2019-08-24 12:30:12,168] Finished trial#1105 resulted in value: -0.79149056072133. Current best value is -0.7948717948717948 with parameters: {'w_lr': 0.25932220860425337, 'w_lda': 0.09195697989035678, 'w_sv': 0.6584085004074863, 'w_xgb': 0.23943615391125597, 'w_lgbm': 0.2584978813734697, 'w_mlp': 0.9426610060258075}.\n"
     ]
    },
    {
     "name": "stdout",
     "output_type": "stream",
     "text": [
      "[w_lr, w_lda, w_sv, w_xgb, w_lgbm,w_cb ] =  [0.053 0.088 0.983 0.305 0.203 0.    0.952]\n",
      "norm =  [0.02  0.034 0.38  0.118 0.078 0.    0.369]\n",
      "AUC all:  0.7900817131586362\n",
      "\n"
     ]
    },
    {
     "name": "stderr",
     "output_type": "stream",
     "text": [
      "[I 2019-08-24 12:30:14,021] Finished trial#1106 resulted in value: -0.7900817131586362. Current best value is -0.7948717948717948 with parameters: {'w_lr': 0.25932220860425337, 'w_lda': 0.09195697989035678, 'w_sv': 0.6584085004074863, 'w_xgb': 0.23943615391125597, 'w_lgbm': 0.2584978813734697, 'w_mlp': 0.9426610060258075}.\n"
     ]
    },
    {
     "name": "stdout",
     "output_type": "stream",
     "text": [
      "[w_lr, w_lda, w_sv, w_xgb, w_lgbm,w_cb ] =  [0.164 0.084 0.582 0.25  0.241 0.    0.944]\n",
      "norm =  [0.072 0.037 0.257 0.111 0.107 0.    0.416]\n",
      "AUC all:  0.7933220625528318\n",
      "\n"
     ]
    },
    {
     "name": "stderr",
     "output_type": "stream",
     "text": [
      "[I 2019-08-24 12:30:15,874] Finished trial#1107 resulted in value: -0.7933220625528318. Current best value is -0.7948717948717948 with parameters: {'w_lr': 0.25932220860425337, 'w_lda': 0.09195697989035678, 'w_sv': 0.6584085004074863, 'w_xgb': 0.23943615391125597, 'w_lgbm': 0.2584978813734697, 'w_mlp': 0.9426610060258075}.\n"
     ]
    },
    {
     "name": "stdout",
     "output_type": "stream",
     "text": [
      "[w_lr, w_lda, w_sv, w_xgb, w_lgbm,w_cb ] =  [0.179 0.1   0.592 0.248 0.216 0.    0.946]\n",
      "norm =  [0.078 0.044 0.26  0.109 0.095 0.    0.415]\n",
      "AUC all:  0.7921949845026768\n",
      "\n"
     ]
    },
    {
     "name": "stderr",
     "output_type": "stream",
     "text": [
      "[I 2019-08-24 12:30:17,752] Finished trial#1108 resulted in value: -0.7921949845026768. Current best value is -0.7948717948717948 with parameters: {'w_lr': 0.25932220860425337, 'w_lda': 0.09195697989035678, 'w_sv': 0.6584085004074863, 'w_xgb': 0.23943615391125597, 'w_lgbm': 0.2584978813734697, 'w_mlp': 0.9426610060258075}.\n"
     ]
    },
    {
     "name": "stdout",
     "output_type": "stream",
     "text": [
      "[w_lr, w_lda, w_sv, w_xgb, w_lgbm,w_cb ] =  [0.199 0.111 0.629 0.193 0.281 0.    0.935]\n",
      "norm =  [0.085 0.047 0.268 0.082 0.12  0.    0.398]\n",
      "AUC all:  0.7928994082840236\n",
      "\n"
     ]
    },
    {
     "name": "stderr",
     "output_type": "stream",
     "text": [
      "[I 2019-08-24 12:30:19,599] Finished trial#1109 resulted in value: -0.7928994082840236. Current best value is -0.7948717948717948 with parameters: {'w_lr': 0.25932220860425337, 'w_lda': 0.09195697989035678, 'w_sv': 0.6584085004074863, 'w_xgb': 0.23943615391125597, 'w_lgbm': 0.2584978813734697, 'w_mlp': 0.9426610060258075}.\n"
     ]
    },
    {
     "ename": "KeyboardInterrupt",
     "evalue": "",
     "output_type": "error",
     "traceback": [
      "\u001b[0;31m---------------------------------------------------------------------------\u001b[0m",
      "\u001b[0;31mKeyboardInterrupt\u001b[0m                         Traceback (most recent call last)",
      "\u001b[0;32m<ipython-input-10-263240bbee7e>\u001b[0m in \u001b[0;36m<module>\u001b[0;34m\u001b[0m\n\u001b[0;32m----> 1\u001b[0;31m \u001b[0mmain\u001b[0m\u001b[0;34m(\u001b[0m\u001b[0;34m)\u001b[0m\u001b[0;34m\u001b[0m\u001b[0m\n\u001b[0m",
      "\u001b[0;32m<ipython-input-9-aa6746804259>\u001b[0m in \u001b[0;36mmain\u001b[0;34m()\u001b[0m\n\u001b[1;32m      5\u001b[0m \u001b[0;34m\u001b[0m\u001b[0m\n\u001b[1;32m      6\u001b[0m     \u001b[0mstudy\u001b[0m \u001b[0;34m=\u001b[0m \u001b[0moptuna\u001b[0m\u001b[0;34m.\u001b[0m\u001b[0mcreate_study\u001b[0m\u001b[0;34m(\u001b[0m\u001b[0;34m)\u001b[0m\u001b[0;34m\u001b[0m\u001b[0m\n\u001b[0;32m----> 7\u001b[0;31m     \u001b[0mstudy\u001b[0m\u001b[0;34m.\u001b[0m\u001b[0moptimize\u001b[0m\u001b[0;34m(\u001b[0m\u001b[0;32mlambda\u001b[0m \u001b[0mtrial\u001b[0m\u001b[0;34m:\u001b[0m \u001b[0moptimize\u001b[0m\u001b[0;34m(\u001b[0m\u001b[0mtrial\u001b[0m\u001b[0;34m,\u001b[0m \u001b[0my_true_all\u001b[0m\u001b[0;34m,\u001b[0m \u001b[0mall_models_probs\u001b[0m\u001b[0;34m)\u001b[0m\u001b[0;34m,\u001b[0m \u001b[0mn_trials\u001b[0m\u001b[0;34m=\u001b[0m\u001b[0;36m10000\u001b[0m\u001b[0;34m)\u001b[0m\u001b[0;34m\u001b[0m\u001b[0m\n\u001b[0m\u001b[1;32m      8\u001b[0m     \u001b[0mprint\u001b[0m\u001b[0;34m(\u001b[0m\u001b[0mstudy\u001b[0m\u001b[0;34m.\u001b[0m\u001b[0mbest_trial\u001b[0m\u001b[0;34m)\u001b[0m\u001b[0;34m\u001b[0m\u001b[0m\n",
      "\u001b[0;32m~/venv/lib64/python3.6/site-packages/optuna/study.py\u001b[0m in \u001b[0;36moptimize\u001b[0;34m(self, func, n_trials, timeout, n_jobs, catch)\u001b[0m\n\u001b[1;32m    278\u001b[0m \u001b[0;34m\u001b[0m\u001b[0m\n\u001b[1;32m    279\u001b[0m         \u001b[0;32mif\u001b[0m \u001b[0mn_jobs\u001b[0m \u001b[0;34m==\u001b[0m \u001b[0;36m1\u001b[0m\u001b[0;34m:\u001b[0m\u001b[0;34m\u001b[0m\u001b[0m\n\u001b[0;32m--> 280\u001b[0;31m             \u001b[0mself\u001b[0m\u001b[0;34m.\u001b[0m\u001b[0m_optimize_sequential\u001b[0m\u001b[0;34m(\u001b[0m\u001b[0mfunc\u001b[0m\u001b[0;34m,\u001b[0m \u001b[0mn_trials\u001b[0m\u001b[0;34m,\u001b[0m \u001b[0mtimeout\u001b[0m\u001b[0;34m,\u001b[0m \u001b[0mcatch\u001b[0m\u001b[0;34m)\u001b[0m\u001b[0;34m\u001b[0m\u001b[0m\n\u001b[0m\u001b[1;32m    281\u001b[0m         \u001b[0;32melse\u001b[0m\u001b[0;34m:\u001b[0m\u001b[0;34m\u001b[0m\u001b[0m\n\u001b[1;32m    282\u001b[0m             \u001b[0mself\u001b[0m\u001b[0;34m.\u001b[0m\u001b[0m_optimize_parallel\u001b[0m\u001b[0;34m(\u001b[0m\u001b[0mfunc\u001b[0m\u001b[0;34m,\u001b[0m \u001b[0mn_trials\u001b[0m\u001b[0;34m,\u001b[0m \u001b[0mtimeout\u001b[0m\u001b[0;34m,\u001b[0m \u001b[0mn_jobs\u001b[0m\u001b[0;34m,\u001b[0m \u001b[0mcatch\u001b[0m\u001b[0;34m)\u001b[0m\u001b[0;34m\u001b[0m\u001b[0m\n",
      "\u001b[0;32m~/venv/lib64/python3.6/site-packages/optuna/study.py\u001b[0m in \u001b[0;36m_optimize_sequential\u001b[0;34m(self, func, n_trials, timeout, catch)\u001b[0m\n\u001b[1;32m    393\u001b[0m                     \u001b[0;32mbreak\u001b[0m\u001b[0;34m\u001b[0m\u001b[0m\n\u001b[1;32m    394\u001b[0m \u001b[0;34m\u001b[0m\u001b[0m\n\u001b[0;32m--> 395\u001b[0;31m             \u001b[0mself\u001b[0m\u001b[0;34m.\u001b[0m\u001b[0m_run_trial\u001b[0m\u001b[0;34m(\u001b[0m\u001b[0mfunc\u001b[0m\u001b[0;34m,\u001b[0m \u001b[0mcatch\u001b[0m\u001b[0;34m)\u001b[0m\u001b[0;34m\u001b[0m\u001b[0m\n\u001b[0m\u001b[1;32m    396\u001b[0m \u001b[0;34m\u001b[0m\u001b[0m\n\u001b[1;32m    397\u001b[0m     def _optimize_parallel(\n",
      "\u001b[0;32m~/venv/lib64/python3.6/site-packages/optuna/study.py\u001b[0m in \u001b[0;36m_run_trial\u001b[0;34m(self, func, catch)\u001b[0m\n\u001b[1;32m    467\u001b[0m \u001b[0;34m\u001b[0m\u001b[0m\n\u001b[1;32m    468\u001b[0m         \u001b[0;32mtry\u001b[0m\u001b[0;34m:\u001b[0m\u001b[0;34m\u001b[0m\u001b[0m\n\u001b[0;32m--> 469\u001b[0;31m             \u001b[0mresult\u001b[0m \u001b[0;34m=\u001b[0m \u001b[0mfunc\u001b[0m\u001b[0;34m(\u001b[0m\u001b[0mtrial\u001b[0m\u001b[0;34m)\u001b[0m\u001b[0;34m\u001b[0m\u001b[0m\n\u001b[0m\u001b[1;32m    470\u001b[0m         \u001b[0;32mexcept\u001b[0m \u001b[0mstructs\u001b[0m\u001b[0;34m.\u001b[0m\u001b[0mTrialPruned\u001b[0m \u001b[0;32mas\u001b[0m \u001b[0me\u001b[0m\u001b[0;34m:\u001b[0m\u001b[0;34m\u001b[0m\u001b[0m\n\u001b[1;32m    471\u001b[0m             message = 'Setting status of trial#{} as {}. {}'.format(trial_number,\n",
      "\u001b[0;32m<ipython-input-9-aa6746804259>\u001b[0m in \u001b[0;36m<lambda>\u001b[0;34m(trial)\u001b[0m\n\u001b[1;32m      5\u001b[0m \u001b[0;34m\u001b[0m\u001b[0m\n\u001b[1;32m      6\u001b[0m     \u001b[0mstudy\u001b[0m \u001b[0;34m=\u001b[0m \u001b[0moptuna\u001b[0m\u001b[0;34m.\u001b[0m\u001b[0mcreate_study\u001b[0m\u001b[0;34m(\u001b[0m\u001b[0;34m)\u001b[0m\u001b[0;34m\u001b[0m\u001b[0m\n\u001b[0;32m----> 7\u001b[0;31m     \u001b[0mstudy\u001b[0m\u001b[0;34m.\u001b[0m\u001b[0moptimize\u001b[0m\u001b[0;34m(\u001b[0m\u001b[0;32mlambda\u001b[0m \u001b[0mtrial\u001b[0m\u001b[0;34m:\u001b[0m \u001b[0moptimize\u001b[0m\u001b[0;34m(\u001b[0m\u001b[0mtrial\u001b[0m\u001b[0;34m,\u001b[0m \u001b[0my_true_all\u001b[0m\u001b[0;34m,\u001b[0m \u001b[0mall_models_probs\u001b[0m\u001b[0;34m)\u001b[0m\u001b[0;34m,\u001b[0m \u001b[0mn_trials\u001b[0m\u001b[0;34m=\u001b[0m\u001b[0;36m10000\u001b[0m\u001b[0;34m)\u001b[0m\u001b[0;34m\u001b[0m\u001b[0m\n\u001b[0m\u001b[1;32m      8\u001b[0m     \u001b[0mprint\u001b[0m\u001b[0;34m(\u001b[0m\u001b[0mstudy\u001b[0m\u001b[0;34m.\u001b[0m\u001b[0mbest_trial\u001b[0m\u001b[0;34m)\u001b[0m\u001b[0;34m\u001b[0m\u001b[0m\n",
      "\u001b[0;32m<ipython-input-8-7e00ed90881b>\u001b[0m in \u001b[0;36moptimize\u001b[0;34m(trial, y_true_all, all_models_probs)\u001b[0m\n\u001b[1;32m      1\u001b[0m \u001b[0;32mdef\u001b[0m \u001b[0moptimize\u001b[0m\u001b[0;34m(\u001b[0m\u001b[0mtrial\u001b[0m\u001b[0;34m,\u001b[0m \u001b[0my_true_all\u001b[0m\u001b[0;34m,\u001b[0m \u001b[0mall_models_probs\u001b[0m\u001b[0;34m)\u001b[0m\u001b[0;34m:\u001b[0m\u001b[0;34m\u001b[0m\u001b[0m\n\u001b[1;32m      2\u001b[0m \u001b[0;34m\u001b[0m\u001b[0m\n\u001b[0;32m----> 3\u001b[0;31m     \u001b[0mw_lr\u001b[0m \u001b[0;34m=\u001b[0m \u001b[0mtrial\u001b[0m\u001b[0;34m.\u001b[0m\u001b[0msuggest_uniform\u001b[0m\u001b[0;34m(\u001b[0m\u001b[0;34m'w_lr'\u001b[0m\u001b[0;34m,\u001b[0m \u001b[0;36m0.0\u001b[0m\u001b[0;34m,\u001b[0m \u001b[0;36m1.0\u001b[0m\u001b[0;34m)\u001b[0m\u001b[0;34m\u001b[0m\u001b[0m\n\u001b[0m\u001b[1;32m      4\u001b[0m     \u001b[0mw_lda\u001b[0m \u001b[0;34m=\u001b[0m\u001b[0mtrial\u001b[0m\u001b[0;34m.\u001b[0m\u001b[0msuggest_uniform\u001b[0m\u001b[0;34m(\u001b[0m\u001b[0;34m'w_lda'\u001b[0m\u001b[0;34m,\u001b[0m \u001b[0;36m0.0\u001b[0m\u001b[0;34m,\u001b[0m \u001b[0;36m1.0\u001b[0m\u001b[0;34m)\u001b[0m\u001b[0;34m\u001b[0m\u001b[0m\n\u001b[1;32m      5\u001b[0m     \u001b[0mw_sv\u001b[0m \u001b[0;34m=\u001b[0m \u001b[0mtrial\u001b[0m\u001b[0;34m.\u001b[0m\u001b[0msuggest_uniform\u001b[0m\u001b[0;34m(\u001b[0m\u001b[0;34m'w_sv'\u001b[0m\u001b[0;34m,\u001b[0m \u001b[0;36m0.5\u001b[0m\u001b[0;34m,\u001b[0m \u001b[0;36m1.0\u001b[0m\u001b[0;34m)\u001b[0m\u001b[0;34m\u001b[0m\u001b[0m\n",
      "\u001b[0;32m~/venv/lib64/python3.6/site-packages/optuna/trial.py\u001b[0m in \u001b[0;36msuggest_uniform\u001b[0;34m(self, name, low, high)\u001b[0m\n\u001b[1;32m    179\u001b[0m             \u001b[0;32mreturn\u001b[0m \u001b[0mself\u001b[0m\u001b[0;34m.\u001b[0m\u001b[0m_set_new_param_or_get_existing\u001b[0m\u001b[0;34m(\u001b[0m\u001b[0mname\u001b[0m\u001b[0;34m,\u001b[0m \u001b[0mlow\u001b[0m\u001b[0;34m,\u001b[0m \u001b[0mdistribution\u001b[0m\u001b[0;34m)\u001b[0m\u001b[0;34m\u001b[0m\u001b[0m\n\u001b[1;32m    180\u001b[0m \u001b[0;34m\u001b[0m\u001b[0m\n\u001b[0;32m--> 181\u001b[0;31m         \u001b[0;32mreturn\u001b[0m \u001b[0mself\u001b[0m\u001b[0;34m.\u001b[0m\u001b[0m_suggest\u001b[0m\u001b[0;34m(\u001b[0m\u001b[0mname\u001b[0m\u001b[0;34m,\u001b[0m \u001b[0mdistribution\u001b[0m\u001b[0;34m)\u001b[0m\u001b[0;34m\u001b[0m\u001b[0m\n\u001b[0m\u001b[1;32m    182\u001b[0m \u001b[0;34m\u001b[0m\u001b[0m\n\u001b[1;32m    183\u001b[0m     \u001b[0;32mdef\u001b[0m \u001b[0msuggest_loguniform\u001b[0m\u001b[0;34m(\u001b[0m\u001b[0mself\u001b[0m\u001b[0;34m,\u001b[0m \u001b[0mname\u001b[0m\u001b[0;34m,\u001b[0m \u001b[0mlow\u001b[0m\u001b[0;34m,\u001b[0m \u001b[0mhigh\u001b[0m\u001b[0;34m)\u001b[0m\u001b[0;34m:\u001b[0m\u001b[0;34m\u001b[0m\u001b[0m\n",
      "\u001b[0;32m~/venv/lib64/python3.6/site-packages/optuna/trial.py\u001b[0m in \u001b[0;36m_suggest\u001b[0;34m(self, name, distribution)\u001b[0m\n\u001b[1;32m    453\u001b[0m             \u001b[0mtrial\u001b[0m \u001b[0;34m=\u001b[0m \u001b[0mself\u001b[0m\u001b[0;34m.\u001b[0m\u001b[0mstorage\u001b[0m\u001b[0;34m.\u001b[0m\u001b[0mget_trial\u001b[0m\u001b[0;34m(\u001b[0m\u001b[0mself\u001b[0m\u001b[0;34m.\u001b[0m\u001b[0m_trial_id\u001b[0m\u001b[0;34m)\u001b[0m\u001b[0;34m\u001b[0m\u001b[0m\n\u001b[1;32m    454\u001b[0m             param_value = self.study.sampler.sample_independent(\n\u001b[0;32m--> 455\u001b[0;31m                 study, trial, name, distribution)\n\u001b[0m\u001b[1;32m    456\u001b[0m \u001b[0;34m\u001b[0m\u001b[0m\n\u001b[1;32m    457\u001b[0m         \u001b[0;32mreturn\u001b[0m \u001b[0mself\u001b[0m\u001b[0;34m.\u001b[0m\u001b[0m_set_new_param_or_get_existing\u001b[0m\u001b[0;34m(\u001b[0m\u001b[0mname\u001b[0m\u001b[0;34m,\u001b[0m \u001b[0mparam_value\u001b[0m\u001b[0;34m,\u001b[0m \u001b[0mdistribution\u001b[0m\u001b[0;34m)\u001b[0m\u001b[0;34m\u001b[0m\u001b[0m\n",
      "\u001b[0;32m~/venv/lib64/python3.6/site-packages/optuna/samplers/tpe/sampler.py\u001b[0m in \u001b[0;36msample_independent\u001b[0;34m(self, study, trial, param_name, param_distribution)\u001b[0m\n\u001b[1;32m     92\u001b[0m         \u001b[0;31m# type: (InTrialStudy, FrozenTrial, str, BaseDistribution) -> Any\u001b[0m\u001b[0;34m\u001b[0m\u001b[0;34m\u001b[0m\u001b[0m\n\u001b[1;32m     93\u001b[0m \u001b[0;34m\u001b[0m\u001b[0m\n\u001b[0;32m---> 94\u001b[0;31m         \u001b[0mvalues\u001b[0m\u001b[0;34m,\u001b[0m \u001b[0mscores\u001b[0m \u001b[0;34m=\u001b[0m \u001b[0m_get_observation_pairs\u001b[0m\u001b[0;34m(\u001b[0m\u001b[0mstudy\u001b[0m\u001b[0;34m,\u001b[0m \u001b[0mparam_name\u001b[0m\u001b[0;34m)\u001b[0m\u001b[0;34m\u001b[0m\u001b[0m\n\u001b[0m\u001b[1;32m     95\u001b[0m \u001b[0;34m\u001b[0m\u001b[0m\n\u001b[1;32m     96\u001b[0m         \u001b[0mn\u001b[0m \u001b[0;34m=\u001b[0m \u001b[0mlen\u001b[0m\u001b[0;34m(\u001b[0m\u001b[0mvalues\u001b[0m\u001b[0;34m)\u001b[0m\u001b[0;34m\u001b[0m\u001b[0m\n",
      "\u001b[0;32m~/venv/lib64/python3.6/site-packages/optuna/samplers/tpe/sampler.py\u001b[0m in \u001b[0;36m_get_observation_pairs\u001b[0;34m(study, param_name)\u001b[0m\n\u001b[1;32m    512\u001b[0m     \u001b[0mvalues\u001b[0m \u001b[0;34m=\u001b[0m \u001b[0;34m[\u001b[0m\u001b[0;34m]\u001b[0m\u001b[0;34m\u001b[0m\u001b[0m\n\u001b[1;32m    513\u001b[0m     \u001b[0mscores\u001b[0m \u001b[0;34m=\u001b[0m \u001b[0;34m[\u001b[0m\u001b[0;34m]\u001b[0m\u001b[0;34m\u001b[0m\u001b[0m\n\u001b[0;32m--> 514\u001b[0;31m     \u001b[0;32mfor\u001b[0m \u001b[0mtrial\u001b[0m \u001b[0;32min\u001b[0m \u001b[0mstudy\u001b[0m\u001b[0;34m.\u001b[0m\u001b[0mtrials\u001b[0m\u001b[0;34m:\u001b[0m\u001b[0;34m\u001b[0m\u001b[0m\n\u001b[0m\u001b[1;32m    515\u001b[0m         \u001b[0;32mif\u001b[0m \u001b[0mparam_name\u001b[0m \u001b[0;32mnot\u001b[0m \u001b[0;32min\u001b[0m \u001b[0mtrial\u001b[0m\u001b[0;34m.\u001b[0m\u001b[0mparams_in_internal_repr\u001b[0m\u001b[0;34m:\u001b[0m\u001b[0;34m\u001b[0m\u001b[0m\n\u001b[1;32m    516\u001b[0m             \u001b[0;32mcontinue\u001b[0m\u001b[0;34m\u001b[0m\u001b[0m\n",
      "\u001b[0;32m~/venv/lib64/python3.6/site-packages/optuna/study.py\u001b[0m in \u001b[0;36mtrials\u001b[0;34m(self)\u001b[0m\n\u001b[1;32m    579\u001b[0m         \"\"\"\n\u001b[1;32m    580\u001b[0m \u001b[0;34m\u001b[0m\u001b[0m\n\u001b[0;32m--> 581\u001b[0;31m         \u001b[0;32mreturn\u001b[0m \u001b[0mself\u001b[0m\u001b[0;34m.\u001b[0m\u001b[0mstorage\u001b[0m\u001b[0;34m.\u001b[0m\u001b[0mget_all_trials\u001b[0m\u001b[0;34m(\u001b[0m\u001b[0mself\u001b[0m\u001b[0;34m.\u001b[0m\u001b[0mstudy_id\u001b[0m\u001b[0;34m)\u001b[0m\u001b[0;34m\u001b[0m\u001b[0m\n\u001b[0m\u001b[1;32m    582\u001b[0m \u001b[0;34m\u001b[0m\u001b[0m\n\u001b[1;32m    583\u001b[0m \u001b[0;34m\u001b[0m\u001b[0m\n",
      "\u001b[0;32m~/venv/lib64/python3.6/site-packages/optuna/storages/in_memory.py\u001b[0m in \u001b[0;36mget_all_trials\u001b[0;34m(self, study_id)\u001b[0m\n\u001b[1;32m    254\u001b[0m         \u001b[0mself\u001b[0m\u001b[0;34m.\u001b[0m\u001b[0m_check_study_id\u001b[0m\u001b[0;34m(\u001b[0m\u001b[0mstudy_id\u001b[0m\u001b[0;34m)\u001b[0m\u001b[0;34m\u001b[0m\u001b[0m\n\u001b[1;32m    255\u001b[0m         \u001b[0;32mwith\u001b[0m \u001b[0mself\u001b[0m\u001b[0;34m.\u001b[0m\u001b[0m_lock\u001b[0m\u001b[0;34m:\u001b[0m\u001b[0;34m\u001b[0m\u001b[0m\n\u001b[0;32m--> 256\u001b[0;31m             \u001b[0;32mreturn\u001b[0m \u001b[0mcopy\u001b[0m\u001b[0;34m.\u001b[0m\u001b[0mdeepcopy\u001b[0m\u001b[0;34m(\u001b[0m\u001b[0mself\u001b[0m\u001b[0;34m.\u001b[0m\u001b[0mtrials\u001b[0m\u001b[0;34m)\u001b[0m\u001b[0;34m\u001b[0m\u001b[0m\n\u001b[0m\u001b[1;32m    257\u001b[0m \u001b[0;34m\u001b[0m\u001b[0m\n\u001b[1;32m    258\u001b[0m     \u001b[0;32mdef\u001b[0m \u001b[0mget_n_trials\u001b[0m\u001b[0;34m(\u001b[0m\u001b[0mself\u001b[0m\u001b[0;34m,\u001b[0m \u001b[0mstudy_id\u001b[0m\u001b[0;34m,\u001b[0m \u001b[0mstate\u001b[0m\u001b[0;34m=\u001b[0m\u001b[0;32mNone\u001b[0m\u001b[0;34m)\u001b[0m\u001b[0;34m:\u001b[0m\u001b[0;34m\u001b[0m\u001b[0m\n",
      "\u001b[0;32m/opt/rh/rh-python36/root/usr/lib64/python3.6/copy.py\u001b[0m in \u001b[0;36mdeepcopy\u001b[0;34m(x, memo, _nil)\u001b[0m\n\u001b[1;32m    148\u001b[0m     \u001b[0mcopier\u001b[0m \u001b[0;34m=\u001b[0m \u001b[0m_deepcopy_dispatch\u001b[0m\u001b[0;34m.\u001b[0m\u001b[0mget\u001b[0m\u001b[0;34m(\u001b[0m\u001b[0mcls\u001b[0m\u001b[0;34m)\u001b[0m\u001b[0;34m\u001b[0m\u001b[0m\n\u001b[1;32m    149\u001b[0m     \u001b[0;32mif\u001b[0m \u001b[0mcopier\u001b[0m\u001b[0;34m:\u001b[0m\u001b[0;34m\u001b[0m\u001b[0m\n\u001b[0;32m--> 150\u001b[0;31m         \u001b[0my\u001b[0m \u001b[0;34m=\u001b[0m \u001b[0mcopier\u001b[0m\u001b[0;34m(\u001b[0m\u001b[0mx\u001b[0m\u001b[0;34m,\u001b[0m \u001b[0mmemo\u001b[0m\u001b[0;34m)\u001b[0m\u001b[0;34m\u001b[0m\u001b[0m\n\u001b[0m\u001b[1;32m    151\u001b[0m     \u001b[0;32melse\u001b[0m\u001b[0;34m:\u001b[0m\u001b[0;34m\u001b[0m\u001b[0m\n\u001b[1;32m    152\u001b[0m         \u001b[0;32mtry\u001b[0m\u001b[0;34m:\u001b[0m\u001b[0;34m\u001b[0m\u001b[0m\n",
      "\u001b[0;32m/opt/rh/rh-python36/root/usr/lib64/python3.6/copy.py\u001b[0m in \u001b[0;36m_deepcopy_list\u001b[0;34m(x, memo, deepcopy)\u001b[0m\n\u001b[1;32m    213\u001b[0m     \u001b[0mappend\u001b[0m \u001b[0;34m=\u001b[0m \u001b[0my\u001b[0m\u001b[0;34m.\u001b[0m\u001b[0mappend\u001b[0m\u001b[0;34m\u001b[0m\u001b[0m\n\u001b[1;32m    214\u001b[0m     \u001b[0;32mfor\u001b[0m \u001b[0ma\u001b[0m \u001b[0;32min\u001b[0m \u001b[0mx\u001b[0m\u001b[0;34m:\u001b[0m\u001b[0;34m\u001b[0m\u001b[0m\n\u001b[0;32m--> 215\u001b[0;31m         \u001b[0mappend\u001b[0m\u001b[0;34m(\u001b[0m\u001b[0mdeepcopy\u001b[0m\u001b[0;34m(\u001b[0m\u001b[0ma\u001b[0m\u001b[0;34m,\u001b[0m \u001b[0mmemo\u001b[0m\u001b[0;34m)\u001b[0m\u001b[0;34m)\u001b[0m\u001b[0;34m\u001b[0m\u001b[0m\n\u001b[0m\u001b[1;32m    216\u001b[0m     \u001b[0;32mreturn\u001b[0m \u001b[0my\u001b[0m\u001b[0;34m\u001b[0m\u001b[0m\n\u001b[1;32m    217\u001b[0m \u001b[0md\u001b[0m\u001b[0;34m[\u001b[0m\u001b[0mlist\u001b[0m\u001b[0;34m]\u001b[0m \u001b[0;34m=\u001b[0m \u001b[0m_deepcopy_list\u001b[0m\u001b[0;34m\u001b[0m\u001b[0m\n",
      "\u001b[0;32m/opt/rh/rh-python36/root/usr/lib64/python3.6/copy.py\u001b[0m in \u001b[0;36mdeepcopy\u001b[0;34m(x, memo, _nil)\u001b[0m\n\u001b[1;32m    178\u001b[0m                     \u001b[0my\u001b[0m \u001b[0;34m=\u001b[0m \u001b[0mx\u001b[0m\u001b[0;34m\u001b[0m\u001b[0m\n\u001b[1;32m    179\u001b[0m                 \u001b[0;32melse\u001b[0m\u001b[0;34m:\u001b[0m\u001b[0;34m\u001b[0m\u001b[0m\n\u001b[0;32m--> 180\u001b[0;31m                     \u001b[0my\u001b[0m \u001b[0;34m=\u001b[0m \u001b[0m_reconstruct\u001b[0m\u001b[0;34m(\u001b[0m\u001b[0mx\u001b[0m\u001b[0;34m,\u001b[0m \u001b[0mmemo\u001b[0m\u001b[0;34m,\u001b[0m \u001b[0;34m*\u001b[0m\u001b[0mrv\u001b[0m\u001b[0;34m)\u001b[0m\u001b[0;34m\u001b[0m\u001b[0m\n\u001b[0m\u001b[1;32m    181\u001b[0m \u001b[0;34m\u001b[0m\u001b[0m\n\u001b[1;32m    182\u001b[0m     \u001b[0;31m# If is its own copy, don't memoize.\u001b[0m\u001b[0;34m\u001b[0m\u001b[0;34m\u001b[0m\u001b[0m\n",
      "\u001b[0;32m/opt/rh/rh-python36/root/usr/lib64/python3.6/copy.py\u001b[0m in \u001b[0;36m_reconstruct\u001b[0;34m(x, memo, func, args, state, listiter, dictiter, deepcopy)\u001b[0m\n\u001b[1;32m    272\u001b[0m     \u001b[0;32mif\u001b[0m \u001b[0mdeep\u001b[0m \u001b[0;32mand\u001b[0m \u001b[0margs\u001b[0m\u001b[0;34m:\u001b[0m\u001b[0;34m\u001b[0m\u001b[0m\n\u001b[1;32m    273\u001b[0m         \u001b[0margs\u001b[0m \u001b[0;34m=\u001b[0m \u001b[0;34m(\u001b[0m\u001b[0mdeepcopy\u001b[0m\u001b[0;34m(\u001b[0m\u001b[0marg\u001b[0m\u001b[0;34m,\u001b[0m \u001b[0mmemo\u001b[0m\u001b[0;34m)\u001b[0m \u001b[0;32mfor\u001b[0m \u001b[0marg\u001b[0m \u001b[0;32min\u001b[0m \u001b[0margs\u001b[0m\u001b[0;34m)\u001b[0m\u001b[0;34m\u001b[0m\u001b[0m\n\u001b[0;32m--> 274\u001b[0;31m     \u001b[0my\u001b[0m \u001b[0;34m=\u001b[0m \u001b[0mfunc\u001b[0m\u001b[0;34m(\u001b[0m\u001b[0;34m*\u001b[0m\u001b[0margs\u001b[0m\u001b[0;34m)\u001b[0m\u001b[0;34m\u001b[0m\u001b[0m\n\u001b[0m\u001b[1;32m    275\u001b[0m     \u001b[0;32mif\u001b[0m \u001b[0mdeep\u001b[0m\u001b[0;34m:\u001b[0m\u001b[0;34m\u001b[0m\u001b[0m\n\u001b[1;32m    276\u001b[0m         \u001b[0mmemo\u001b[0m\u001b[0;34m[\u001b[0m\u001b[0mid\u001b[0m\u001b[0;34m(\u001b[0m\u001b[0mx\u001b[0m\u001b[0;34m)\u001b[0m\u001b[0;34m]\u001b[0m \u001b[0;34m=\u001b[0m \u001b[0my\u001b[0m\u001b[0;34m\u001b[0m\u001b[0m\n",
      "\u001b[0;32m/opt/rh/rh-python36/root/usr/lib64/python3.6/copy.py\u001b[0m in \u001b[0;36m<genexpr>\u001b[0;34m(.0)\u001b[0m\n\u001b[1;32m    271\u001b[0m     \u001b[0mdeep\u001b[0m \u001b[0;34m=\u001b[0m \u001b[0mmemo\u001b[0m \u001b[0;32mis\u001b[0m \u001b[0;32mnot\u001b[0m \u001b[0;32mNone\u001b[0m\u001b[0;34m\u001b[0m\u001b[0m\n\u001b[1;32m    272\u001b[0m     \u001b[0;32mif\u001b[0m \u001b[0mdeep\u001b[0m \u001b[0;32mand\u001b[0m \u001b[0margs\u001b[0m\u001b[0;34m:\u001b[0m\u001b[0;34m\u001b[0m\u001b[0m\n\u001b[0;32m--> 273\u001b[0;31m         \u001b[0margs\u001b[0m \u001b[0;34m=\u001b[0m \u001b[0;34m(\u001b[0m\u001b[0mdeepcopy\u001b[0m\u001b[0;34m(\u001b[0m\u001b[0marg\u001b[0m\u001b[0;34m,\u001b[0m \u001b[0mmemo\u001b[0m\u001b[0;34m)\u001b[0m \u001b[0;32mfor\u001b[0m \u001b[0marg\u001b[0m \u001b[0;32min\u001b[0m \u001b[0margs\u001b[0m\u001b[0;34m)\u001b[0m\u001b[0;34m\u001b[0m\u001b[0m\n\u001b[0m\u001b[1;32m    274\u001b[0m     \u001b[0my\u001b[0m \u001b[0;34m=\u001b[0m \u001b[0mfunc\u001b[0m\u001b[0;34m(\u001b[0m\u001b[0;34m*\u001b[0m\u001b[0margs\u001b[0m\u001b[0;34m)\u001b[0m\u001b[0;34m\u001b[0m\u001b[0m\n\u001b[1;32m    275\u001b[0m     \u001b[0;32mif\u001b[0m \u001b[0mdeep\u001b[0m\u001b[0;34m:\u001b[0m\u001b[0;34m\u001b[0m\u001b[0m\n",
      "\u001b[0;32m/opt/rh/rh-python36/root/usr/lib64/python3.6/copy.py\u001b[0m in \u001b[0;36mdeepcopy\u001b[0;34m(x, memo, _nil)\u001b[0m\n\u001b[1;32m    148\u001b[0m     \u001b[0mcopier\u001b[0m \u001b[0;34m=\u001b[0m \u001b[0m_deepcopy_dispatch\u001b[0m\u001b[0;34m.\u001b[0m\u001b[0mget\u001b[0m\u001b[0;34m(\u001b[0m\u001b[0mcls\u001b[0m\u001b[0;34m)\u001b[0m\u001b[0;34m\u001b[0m\u001b[0m\n\u001b[1;32m    149\u001b[0m     \u001b[0;32mif\u001b[0m \u001b[0mcopier\u001b[0m\u001b[0;34m:\u001b[0m\u001b[0;34m\u001b[0m\u001b[0m\n\u001b[0;32m--> 150\u001b[0;31m         \u001b[0my\u001b[0m \u001b[0;34m=\u001b[0m \u001b[0mcopier\u001b[0m\u001b[0;34m(\u001b[0m\u001b[0mx\u001b[0m\u001b[0;34m,\u001b[0m \u001b[0mmemo\u001b[0m\u001b[0;34m)\u001b[0m\u001b[0;34m\u001b[0m\u001b[0m\n\u001b[0m\u001b[1;32m    151\u001b[0m     \u001b[0;32melse\u001b[0m\u001b[0;34m:\u001b[0m\u001b[0;34m\u001b[0m\u001b[0m\n\u001b[1;32m    152\u001b[0m         \u001b[0;32mtry\u001b[0m\u001b[0;34m:\u001b[0m\u001b[0;34m\u001b[0m\u001b[0m\n",
      "\u001b[0;32m/opt/rh/rh-python36/root/usr/lib64/python3.6/copy.py\u001b[0m in \u001b[0;36m_deepcopy_dict\u001b[0;34m(x, memo, deepcopy)\u001b[0m\n\u001b[1;32m    238\u001b[0m     \u001b[0mmemo\u001b[0m\u001b[0;34m[\u001b[0m\u001b[0mid\u001b[0m\u001b[0;34m(\u001b[0m\u001b[0mx\u001b[0m\u001b[0;34m)\u001b[0m\u001b[0;34m]\u001b[0m \u001b[0;34m=\u001b[0m \u001b[0my\u001b[0m\u001b[0;34m\u001b[0m\u001b[0m\n\u001b[1;32m    239\u001b[0m     \u001b[0;32mfor\u001b[0m \u001b[0mkey\u001b[0m\u001b[0;34m,\u001b[0m \u001b[0mvalue\u001b[0m \u001b[0;32min\u001b[0m \u001b[0mx\u001b[0m\u001b[0;34m.\u001b[0m\u001b[0mitems\u001b[0m\u001b[0;34m(\u001b[0m\u001b[0;34m)\u001b[0m\u001b[0;34m:\u001b[0m\u001b[0;34m\u001b[0m\u001b[0m\n\u001b[0;32m--> 240\u001b[0;31m         \u001b[0my\u001b[0m\u001b[0;34m[\u001b[0m\u001b[0mdeepcopy\u001b[0m\u001b[0;34m(\u001b[0m\u001b[0mkey\u001b[0m\u001b[0;34m,\u001b[0m \u001b[0mmemo\u001b[0m\u001b[0;34m)\u001b[0m\u001b[0;34m]\u001b[0m \u001b[0;34m=\u001b[0m \u001b[0mdeepcopy\u001b[0m\u001b[0;34m(\u001b[0m\u001b[0mvalue\u001b[0m\u001b[0;34m,\u001b[0m \u001b[0mmemo\u001b[0m\u001b[0;34m)\u001b[0m\u001b[0;34m\u001b[0m\u001b[0m\n\u001b[0m\u001b[1;32m    241\u001b[0m     \u001b[0;32mreturn\u001b[0m \u001b[0my\u001b[0m\u001b[0;34m\u001b[0m\u001b[0m\n\u001b[1;32m    242\u001b[0m \u001b[0md\u001b[0m\u001b[0;34m[\u001b[0m\u001b[0mdict\u001b[0m\u001b[0;34m]\u001b[0m \u001b[0;34m=\u001b[0m \u001b[0m_deepcopy_dict\u001b[0m\u001b[0;34m\u001b[0m\u001b[0m\n",
      "\u001b[0;32m/opt/rh/rh-python36/root/usr/lib64/python3.6/copy.py\u001b[0m in \u001b[0;36mdeepcopy\u001b[0;34m(x, memo, _nil)\u001b[0m\n\u001b[1;32m    157\u001b[0m             \u001b[0my\u001b[0m \u001b[0;34m=\u001b[0m \u001b[0m_deepcopy_atomic\u001b[0m\u001b[0;34m(\u001b[0m\u001b[0mx\u001b[0m\u001b[0;34m,\u001b[0m \u001b[0mmemo\u001b[0m\u001b[0;34m)\u001b[0m\u001b[0;34m\u001b[0m\u001b[0m\n\u001b[1;32m    158\u001b[0m         \u001b[0;32melse\u001b[0m\u001b[0;34m:\u001b[0m\u001b[0;34m\u001b[0m\u001b[0m\n\u001b[0;32m--> 159\u001b[0;31m             \u001b[0mcopier\u001b[0m \u001b[0;34m=\u001b[0m \u001b[0mgetattr\u001b[0m\u001b[0;34m(\u001b[0m\u001b[0mx\u001b[0m\u001b[0;34m,\u001b[0m \u001b[0;34m\"__deepcopy__\"\u001b[0m\u001b[0;34m,\u001b[0m \u001b[0;32mNone\u001b[0m\u001b[0;34m)\u001b[0m\u001b[0;34m\u001b[0m\u001b[0m\n\u001b[0m\u001b[1;32m    160\u001b[0m             \u001b[0;32mif\u001b[0m \u001b[0mcopier\u001b[0m\u001b[0;34m:\u001b[0m\u001b[0;34m\u001b[0m\u001b[0m\n\u001b[1;32m    161\u001b[0m                 \u001b[0my\u001b[0m \u001b[0;34m=\u001b[0m \u001b[0mcopier\u001b[0m\u001b[0;34m(\u001b[0m\u001b[0mmemo\u001b[0m\u001b[0;34m)\u001b[0m\u001b[0;34m\u001b[0m\u001b[0m\n",
      "\u001b[0;31mKeyboardInterrupt\u001b[0m: "
     ]
    }
   ],
   "source": [
    "main()"
   ]
  },
  {
   "cell_type": "code",
   "execution_count": null,
   "metadata": {},
   "outputs": [],
   "source": [
    "# best value is -0.7948717948717948 with parameters: {'w_lr': 0.25932220860425337, 'w_lda': 0.09195697989035678, 'w_sv': 0.6584085004074863, 'w_xgb': 0.23943615391125597, 'w_lgbm': 0.2584978813734697, 'w_mlp': 0.9426610060258075}."
   ]
  }
 ],
 "metadata": {
  "kernelspec": {
   "display_name": "Python 3",
   "language": "python",
   "name": "python3"
  },
  "language_info": {
   "codemirror_mode": {
    "name": "ipython",
    "version": 3
   },
   "file_extension": ".py",
   "mimetype": "text/x-python",
   "name": "python",
   "nbconvert_exporter": "python",
   "pygments_lexer": "ipython3",
   "version": "3.6.3"
  }
 },
 "nbformat": 4,
 "nbformat_minor": 2
}
