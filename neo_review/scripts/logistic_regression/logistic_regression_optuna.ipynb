{
 "cells": [
  {
   "cell_type": "code",
   "execution_count": 2,
   "metadata": {},
   "outputs": [],
   "source": [
    "import numpy as np\n",
    "import json\n",
    "import csv\n",
    "import pandas as pd\n",
    "import matplotlib.pyplot as plt\n",
    "from sklearn.linear_model import LogisticRegression\n",
    "from sklearn.metrics import confusion_matrix\n",
    "from sklearn.preprocessing import StandardScaler\n",
    "from sklearn.metrics import roc_auc_score\n",
    "from sklearn.metrics import roc_curve\n",
    "import optuna\n",
    "%matplotlib inline"
   ]
  },
  {
   "cell_type": "code",
   "execution_count": 3,
   "metadata": {},
   "outputs": [],
   "source": [
    "def load_data():\n",
    "    data = pd.read_pickle('../../data/dataframes/data.pkl')\n",
    "    nomination_onehot = pd.read_pickle('../../data/dataframes/nomination_onehot.pkl')\n",
    "    selected_performers_onehot = pd.read_pickle('../../data/dataframes/selected_performers_onehot.pkl')\n",
    "    selected_directors_onehot = pd.read_pickle('../../data/dataframes/selected_directors_onehot.pkl')\n",
    "    selected_studio_onehot = pd.read_pickle('../../data/dataframes/selected_studio_onehot.pkl')\n",
    "    selected_scriptwriter_onehot = pd.read_pickle('../../data/dataframes/selected_scriptwriter_onehot.pkl')\n",
    "    review_dataframe = pd.read_pickle('../../data/dataframes/review_dataframe.pkl')\n",
    "    tf_idf = pd.read_pickle('../../data/dataframes/tfidf.pkl')\n",
    "\n",
    "    \n",
    "    # selected_directors_onehotとselected_scriptwriter_onehotの重複した人\n",
    "    duplicate_scriptwriter = set(selected_directors_onehot.columns) & set(selected_scriptwriter_onehot.columns)\n",
    "    selected_scriptwriter_onehot = selected_scriptwriter_onehot.drop(duplicate_scriptwriter, axis=1)\n",
    "    \n",
    "    frames = [nomination_onehot,selected_performers_onehot,selected_directors_onehot,selected_studio_onehot,selected_scriptwriter_onehot, tf_idf]\n",
    "\n",
    "    df = data\n",
    "    for f in frames:\n",
    "        df = pd.merge(df, f, on='id')\n",
    "    \n",
    "    drop_elements = [\"director\", \"other_nominates\", \"performers\", \"production_studio\", \"scriptwriter\", \"title\",  'selected_performers', 'selected_directors', 'selected_studio',\n",
    "       'selected_scriptwriter']\n",
    "    df_drop = df.drop(drop_elements, axis=1)\n",
    "\n",
    "    return df_drop, data"
   ]
  },
  {
   "cell_type": "code",
   "execution_count": 4,
   "metadata": {},
   "outputs": [],
   "source": [
    "def standard(x_train, x_test):\n",
    "    stdsc = StandardScaler()\n",
    "\n",
    "    # 訓練用のデータを標準化\n",
    "    x_train_std = stdsc.fit_transform(x_train)\n",
    "    # 訓練用データを基準にテストデータも標準化\n",
    "    x_test_std = stdsc.transform(x_test)\n",
    "    \n",
    "    return x_train_std, x_test_std"
   ]
  },
  {
   "cell_type": "code",
   "execution_count": 5,
   "metadata": {},
   "outputs": [],
   "source": [
    "# 多重共線性の排除 (共分散0.7以上のfeatureを削除)\n",
    "\n",
    "def collinearity(X):\n",
    "\n",
    "    # 改善前\n",
    "#     cor=np.corrcoef(X.T)\n",
    "#     type(cor)\n",
    "#     plt.figure(figsize=(20, 20))\n",
    "#     sns.heatmap(cor, vmin=0.70,vmax=1,cmap=plt.cm.Spectral_r)\n",
    "\n",
    "    # 改善\n",
    "    drop_clm = ['吉田一夫']\n",
    "    X = X.drop(drop_clm,  axis=1)\n",
    "\n",
    "    # 改善後\n",
    "    \n",
    "#     cor=np.corrcoef(X.T)\n",
    "#     type(cor)\n",
    "#     plt.figure(figsize=(20, 20))\n",
    "#     sns.heatmap(cor, vmin=0.80,vmax=1,cmap=plt.cm.Spectral_r)\n",
    "    \n",
    "    return X"
   ]
  },
  {
   "cell_type": "code",
   "execution_count": 6,
   "metadata": {},
   "outputs": [],
   "source": [
    "def data_processing(test_year):\n",
    "    df, data = load_data()\n",
    "    \n",
    "    df = collinearity(df)\n",
    "    \n",
    "    train = df.loc[df[\"year\"] != test_year]\n",
    "    test = df.loc[df[\"year\"] == test_year]\n",
    "    \n",
    "    # 入力データの作成\n",
    "    y_train = train['prize'].ravel()\n",
    "    x_train = train.drop(['prize', 'year'], axis=1)\n",
    "    \n",
    "    features = x_train.columns\n",
    "    \n",
    "    x_train = x_train.values # 学習データ\n",
    "    \n",
    "    # テストデータの作成\n",
    "    y_test = test['prize'].ravel()\n",
    "    x_test = test.drop(['prize', 'year'], axis=1)\n",
    "    x_test = x_test.values # テストデータ\n",
    "\n",
    "    # データの標準化\n",
    "    x_train_std, x_test_std = standard(x_train, x_test)\n",
    "    \n",
    "    return x_train_std, x_test_std, y_train, y_test, features"
   ]
  },
  {
   "cell_type": "code",
   "execution_count": 7,
   "metadata": {},
   "outputs": [],
   "source": [
    "def print_weight_map(weight, features):\n",
    "    # feature importance\n",
    "    feature_imp = weight.reshape(features.shape)\n",
    "    feature_imp_arg = np.argsort(feature_imp)\n",
    "    f_num = len(feature_imp_arg)\n",
    "    plt.rcParams[\"font.family\"] = \"IPAexGothic\"\n",
    "    plt.figure(figsize=(20,20))\n",
    "    plt.barh(range(len(feature_imp_arg)), feature_imp[feature_imp_arg], color='b', align='center')\n",
    "    plt.yticks(range(len(feature_imp_arg)), features[feature_imp_arg])\n",
    "    plt.show()"
   ]
  },
  {
   "cell_type": "code",
   "execution_count": 8,
   "metadata": {},
   "outputs": [],
   "source": [
    "def plot_roc_curve(fpr, tpr, auc):\n",
    "    # ROC曲線をプロット\n",
    "    plt.plot(fpr, tpr, label='ROC curve (area = %.2f)'%auc)\n",
    "    plt.legend()\n",
    "    plt.title('ROC curve')\n",
    "    plt.xlabel('False Positive Rate')\n",
    "    plt.ylabel('True Positive Rate')\n",
    "    plt.grid(True)\n",
    "    plt.show()"
   ]
  },
  {
   "cell_type": "code",
   "execution_count": 9,
   "metadata": {},
   "outputs": [],
   "source": [
    "# optunaで最適なC_valを探す\n",
    "\n",
    "def train(trial):\n",
    "    \n",
    "    th_prob = 0.5\n",
    "    C_val = trial.suggest_uniform('C_val', 0.00001, 0.001)\n",
    "    \n",
    "    print(\" C_val:{}\".format(C_val))\n",
    "    \n",
    "    cm_all = np.zeros((2, 2))\n",
    "    \n",
    "    # 予測した確率全体を格納\n",
    "    probs_all = np.array([])\n",
    "    y_true_all = np.array([])\n",
    "    \n",
    "    for y in range(1978, 2020):\n",
    "        \n",
    "        # データの生成\n",
    "        x_train_std, x_test_std, y_train, y_test, features = data_processing(y)\n",
    "        \n",
    "        # 学習\n",
    "        lr = LogisticRegression(class_weight=\"balanced\", solver=\"liblinear\",  penalty=\"l2\", C=C_val) # ロジスティック回帰モデルのインスタンスを作成\n",
    "        lr.fit(x_train_std, y_train) # ロジスティック回帰モデルの重みを学習\n",
    "        \n",
    "        # 予測(確率)\n",
    "        probs = lr.predict_proba(x_test_std)\n",
    "        probs_all = np.hstack((probs_all, probs[:,1]))\n",
    "        y_true_all = np.hstack((y_true_all, y_test))\n",
    "\n",
    "        # 混同行列\n",
    "        y_pred = np.where((probs[:,1] ==  max(probs[:,1])) | (probs[:,1] > th_prob), 1, 0) #確率→0/1\n",
    "        cm = confusion_matrix(y_true=y_test, y_pred=y_pred)\n",
    "        cm_all += cm\n",
    "        \n",
    "       # 各特徴量の重み係数\n",
    "        weight = lr.coef_\n",
    "        \n",
    "        \n",
    "#         print_weight_map(weight, features)\n",
    "\n",
    "    auc = roc_auc_score(y_true_all, probs_all)\n",
    "    fpr, tpr, thresholds = roc_curve(y_true_all, probs_all)\n",
    "    \n",
    "#     plot_roc_curve(fpr, tpr, auc)\n",
    "    \n",
    "    print(\"len: {0} , {1}\".format(len(y_true_all), len(probs_all) ))\n",
    "    print(\"confusion_matrix: \")\n",
    "    print(cm_all)\n",
    "    print(\"AUC: \")\n",
    "    print(auc)\n",
    "    print()\n",
    "    return -auc"
   ]
  },
  {
   "cell_type": "code",
   "execution_count": 10,
   "metadata": {},
   "outputs": [],
   "source": [
    "def main():\n",
    "    np.set_printoptions(precision=3, suppress=True)\n",
    "    study = optuna.create_study()\n",
    "    study.optimize(train, n_trials=100)\n",
    "    print(study.best_trial)"
   ]
  },
  {
   "cell_type": "code",
   "execution_count": 11,
   "metadata": {
    "scrolled": true
   },
   "outputs": [
    {
     "name": "stdout",
     "output_type": "stream",
     "text": [
      " C_val:0.0004505807879344333\n",
      "len: 211 , 211\n",
      "confusion_matrix: \n",
      "[[105.  64.]\n",
      " [ 10.  32.]]\n",
      "AUC: \n",
      "0.7533107917723302\n",
      "\n"
     ]
    },
    {
     "name": "stderr",
     "output_type": "stream",
     "text": [
      "[I 2019-08-21 07:49:35,186] Finished trial#0 resulted in value: -0.7533107917723302. Current best value is -0.7533107917723302 with parameters: {'C_val': 0.0004505807879344333}.\n"
     ]
    },
    {
     "name": "stdout",
     "output_type": "stream",
     "text": [
      " C_val:0.0005265770050394537\n",
      "len: 211 , 211\n",
      "confusion_matrix: \n",
      "[[106.  63.]\n",
      " [ 10.  32.]]\n",
      "AUC: \n",
      "0.7542969850662159\n",
      "\n"
     ]
    },
    {
     "name": "stderr",
     "output_type": "stream",
     "text": [
      "[I 2019-08-21 07:49:44,060] Finished trial#1 resulted in value: -0.7542969850662159. Current best value is -0.7542969850662159 with parameters: {'C_val': 0.0005265770050394537}.\n"
     ]
    },
    {
     "name": "stdout",
     "output_type": "stream",
     "text": [
      " C_val:0.00033605484598804976\n",
      "len: 211 , 211\n",
      "confusion_matrix: \n",
      "[[104.  65.]\n",
      " [  9.  33.]]\n",
      "AUC: \n",
      "0.7542969850662159\n",
      "\n"
     ]
    },
    {
     "name": "stderr",
     "output_type": "stream",
     "text": [
      "[I 2019-08-21 07:49:53,228] Finished trial#2 resulted in value: -0.7542969850662159. Current best value is -0.7542969850662159 with parameters: {'C_val': 0.0005265770050394537}.\n"
     ]
    },
    {
     "name": "stdout",
     "output_type": "stream",
     "text": [
      " C_val:5.675711249189144e-05\n",
      "len: 211 , 211\n",
      "confusion_matrix: \n",
      "[[97. 72.]\n",
      " [ 9. 33.]]\n",
      "AUC: \n",
      "0.7545787545787545\n",
      "\n"
     ]
    },
    {
     "name": "stderr",
     "output_type": "stream",
     "text": [
      "[I 2019-08-21 07:50:01,581] Finished trial#3 resulted in value: -0.7545787545787545. Current best value is -0.7545787545787545 with parameters: {'C_val': 5.675711249189144e-05}.\n"
     ]
    },
    {
     "name": "stdout",
     "output_type": "stream",
     "text": [
      " C_val:0.0009051463146723071\n",
      "len: 211 , 211\n",
      "confusion_matrix: \n",
      "[[107.  62.]\n",
      " [ 10.  32.]]\n",
      "AUC: \n",
      "0.7537334460411383\n",
      "\n"
     ]
    },
    {
     "name": "stderr",
     "output_type": "stream",
     "text": [
      "[I 2019-08-21 07:50:09,892] Finished trial#4 resulted in value: -0.7537334460411383. Current best value is -0.7545787545787545 with parameters: {'C_val': 5.675711249189144e-05}.\n"
     ]
    },
    {
     "name": "stdout",
     "output_type": "stream",
     "text": [
      " C_val:0.0006829298959484242\n",
      "len: 211 , 211\n",
      "confusion_matrix: \n",
      "[[106.  63.]\n",
      " [ 10.  32.]]\n",
      "AUC: \n",
      "0.7544378698224852\n",
      "\n"
     ]
    },
    {
     "name": "stderr",
     "output_type": "stream",
     "text": [
      "[I 2019-08-21 07:50:18,554] Finished trial#5 resulted in value: -0.7544378698224852. Current best value is -0.7545787545787545 with parameters: {'C_val': 5.675711249189144e-05}.\n"
     ]
    },
    {
     "name": "stdout",
     "output_type": "stream",
     "text": [
      " C_val:0.0009021029107470796\n",
      "len: 211 , 211\n",
      "confusion_matrix: \n",
      "[[107.  62.]\n",
      " [ 10.  32.]]\n",
      "AUC: \n",
      "0.7537334460411383\n",
      "\n"
     ]
    },
    {
     "name": "stderr",
     "output_type": "stream",
     "text": [
      "[I 2019-08-21 07:50:27,832] Finished trial#6 resulted in value: -0.7537334460411383. Current best value is -0.7545787545787545 with parameters: {'C_val': 5.675711249189144e-05}.\n"
     ]
    },
    {
     "name": "stdout",
     "output_type": "stream",
     "text": [
      " C_val:0.00046519162713992766\n",
      "len: 211 , 211\n",
      "confusion_matrix: \n",
      "[[105.  64.]\n",
      " [ 10.  32.]]\n",
      "AUC: \n",
      "0.7537334460411383\n",
      "\n"
     ]
    },
    {
     "name": "stderr",
     "output_type": "stream",
     "text": [
      "[I 2019-08-21 07:50:37,614] Finished trial#7 resulted in value: -0.7537334460411383. Current best value is -0.7545787545787545 with parameters: {'C_val': 5.675711249189144e-05}.\n"
     ]
    },
    {
     "name": "stdout",
     "output_type": "stream",
     "text": [
      " C_val:0.00037185833242428333\n",
      "len: 211 , 211\n",
      "confusion_matrix: \n",
      "[[105.  64.]\n",
      " [ 10.  32.]]\n",
      "AUC: \n",
      "0.7542969850662158\n",
      "\n"
     ]
    },
    {
     "name": "stderr",
     "output_type": "stream",
     "text": [
      "[I 2019-08-21 07:50:46,610] Finished trial#8 resulted in value: -0.7542969850662158. Current best value is -0.7545787545787545 with parameters: {'C_val': 5.675711249189144e-05}.\n"
     ]
    },
    {
     "name": "stdout",
     "output_type": "stream",
     "text": [
      " C_val:0.0005145622456552257\n",
      "len: 211 , 211\n",
      "confusion_matrix: \n",
      "[[106.  63.]\n",
      " [ 10.  32.]]\n",
      "AUC: \n",
      "0.7542969850662159\n",
      "\n"
     ]
    },
    {
     "name": "stderr",
     "output_type": "stream",
     "text": [
      "[I 2019-08-21 07:50:56,284] Finished trial#9 resulted in value: -0.7542969850662159. Current best value is -0.7545787545787545 with parameters: {'C_val': 5.675711249189144e-05}.\n"
     ]
    },
    {
     "name": "stdout",
     "output_type": "stream",
     "text": [
      " C_val:1.858640374791981e-05\n",
      "len: 211 , 211\n",
      "confusion_matrix: \n",
      "[[97. 72.]\n",
      " [ 9. 33.]]\n",
      "AUC: \n",
      "0.7545787545787546\n",
      "\n"
     ]
    },
    {
     "name": "stderr",
     "output_type": "stream",
     "text": [
      "[I 2019-08-21 07:51:05,107] Finished trial#10 resulted in value: -0.7545787545787546. Current best value is -0.7545787545787546 with parameters: {'C_val': 1.858640374791981e-05}.\n"
     ]
    },
    {
     "name": "stdout",
     "output_type": "stream",
     "text": [
      " C_val:1.1705451070299899e-05\n",
      "len: 211 , 211\n",
      "confusion_matrix: \n",
      "[[97. 72.]\n",
      " [ 9. 33.]]\n",
      "AUC: \n",
      "0.7548605240912933\n",
      "\n"
     ]
    },
    {
     "name": "stderr",
     "output_type": "stream",
     "text": [
      "[I 2019-08-21 07:51:14,661] Finished trial#11 resulted in value: -0.7548605240912933. Current best value is -0.7548605240912933 with parameters: {'C_val': 1.1705451070299899e-05}.\n"
     ]
    },
    {
     "name": "stdout",
     "output_type": "stream",
     "text": [
      " C_val:1.8706618342551014e-05\n",
      "len: 211 , 211\n",
      "confusion_matrix: \n",
      "[[97. 72.]\n",
      " [ 9. 33.]]\n",
      "AUC: \n",
      "0.7545787545787546\n",
      "\n"
     ]
    },
    {
     "name": "stderr",
     "output_type": "stream",
     "text": [
      "[I 2019-08-21 07:51:23,308] Finished trial#12 resulted in value: -0.7545787545787546. Current best value is -0.7548605240912933 with parameters: {'C_val': 1.1705451070299899e-05}.\n"
     ]
    },
    {
     "name": "stdout",
     "output_type": "stream",
     "text": [
      " C_val:0.00014949831640649017\n",
      "len: 211 , 211\n",
      "confusion_matrix: \n",
      "[[102.  67.]\n",
      " [  9.  33.]]\n",
      "AUC: \n",
      "0.7554240631163709\n",
      "\n"
     ]
    },
    {
     "name": "stderr",
     "output_type": "stream",
     "text": [
      "[I 2019-08-21 07:51:31,771] Finished trial#13 resulted in value: -0.7554240631163709. Current best value is -0.7554240631163709 with parameters: {'C_val': 0.00014949831640649017}.\n"
     ]
    },
    {
     "name": "stdout",
     "output_type": "stream",
     "text": [
      " C_val:0.00014981976704572645\n",
      "len: 211 , 211\n",
      "confusion_matrix: \n",
      "[[102.  67.]\n",
      " [  9.  33.]]\n",
      "AUC: \n",
      "0.7554240631163709\n",
      "\n"
     ]
    },
    {
     "name": "stderr",
     "output_type": "stream",
     "text": [
      "[I 2019-08-21 07:51:40,291] Finished trial#14 resulted in value: -0.7554240631163709. Current best value is -0.7554240631163709 with parameters: {'C_val': 0.00014949831640649017}.\n"
     ]
    },
    {
     "name": "stdout",
     "output_type": "stream",
     "text": [
      " C_val:0.00019394401280431548\n",
      "len: 211 , 211\n",
      "confusion_matrix: \n",
      "[[103.  66.]\n",
      " [  9.  33.]]\n",
      "AUC: \n",
      "0.755142293603832\n",
      "\n"
     ]
    },
    {
     "name": "stderr",
     "output_type": "stream",
     "text": [
      "[I 2019-08-21 07:51:49,044] Finished trial#15 resulted in value: -0.755142293603832. Current best value is -0.7554240631163709 with parameters: {'C_val': 0.00014949831640649017}.\n"
     ]
    },
    {
     "name": "stdout",
     "output_type": "stream",
     "text": [
      " C_val:0.0002187900312880079\n",
      "len: 211 , 211\n",
      "confusion_matrix: \n",
      "[[103.  66.]\n",
      " [  9.  33.]]\n",
      "AUC: \n",
      "0.7547196393350241\n",
      "\n"
     ]
    },
    {
     "name": "stderr",
     "output_type": "stream",
     "text": [
      "[I 2019-08-21 07:51:57,654] Finished trial#16 resulted in value: -0.7547196393350241. Current best value is -0.7554240631163709 with parameters: {'C_val': 0.00014949831640649017}.\n"
     ]
    },
    {
     "name": "stdout",
     "output_type": "stream",
     "text": [
      " C_val:0.00016938290893082916\n",
      "len: 211 , 211\n",
      "confusion_matrix: \n",
      "[[103.  66.]\n",
      " [  9.  33.]]\n",
      "AUC: \n",
      "0.7552831783601014\n",
      "\n"
     ]
    },
    {
     "name": "stderr",
     "output_type": "stream",
     "text": [
      "[I 2019-08-21 07:52:06,414] Finished trial#17 resulted in value: -0.7552831783601014. Current best value is -0.7554240631163709 with parameters: {'C_val': 0.00014949831640649017}.\n"
     ]
    },
    {
     "name": "stdout",
     "output_type": "stream",
     "text": [
      " C_val:0.00026834005155654045\n",
      "len: 211 , 211\n",
      "confusion_matrix: \n",
      "[[103.  66.]\n",
      " [  9.  33.]]\n",
      "AUC: \n",
      "0.7545787545787546\n",
      "\n"
     ]
    },
    {
     "name": "stderr",
     "output_type": "stream",
     "text": [
      "[I 2019-08-21 07:52:15,484] Finished trial#18 resulted in value: -0.7545787545787546. Current best value is -0.7554240631163709 with parameters: {'C_val': 0.00014949831640649017}.\n"
     ]
    },
    {
     "name": "stdout",
     "output_type": "stream",
     "text": [
      " C_val:0.00010655334592020914\n",
      "len: 211 , 211\n",
      "confusion_matrix: \n",
      "[[100.  69.]\n",
      " [  9.  33.]]\n",
      "AUC: \n",
      "0.7548605240912933\n",
      "\n"
     ]
    },
    {
     "name": "stderr",
     "output_type": "stream",
     "text": [
      "[I 2019-08-21 07:52:25,002] Finished trial#19 resulted in value: -0.7548605240912933. Current best value is -0.7554240631163709 with parameters: {'C_val': 0.00014949831640649017}.\n"
     ]
    },
    {
     "name": "stdout",
     "output_type": "stream",
     "text": [
      " C_val:0.000655326864561004\n",
      "len: 211 , 211\n",
      "confusion_matrix: \n",
      "[[106.  63.]\n",
      " [ 10.  32.]]\n",
      "AUC: \n",
      "0.7544378698224852\n",
      "\n"
     ]
    },
    {
     "name": "stderr",
     "output_type": "stream",
     "text": [
      "[I 2019-08-21 07:52:34,023] Finished trial#20 resulted in value: -0.7544378698224852. Current best value is -0.7554240631163709 with parameters: {'C_val': 0.00014949831640649017}.\n"
     ]
    },
    {
     "name": "stdout",
     "output_type": "stream",
     "text": [
      " C_val:0.00015256820318469033\n",
      "len: 211 , 211\n",
      "confusion_matrix: \n",
      "[[102.  67.]\n",
      " [  9.  33.]]\n",
      "AUC: \n",
      "0.7554240631163709\n",
      "\n"
     ]
    },
    {
     "name": "stderr",
     "output_type": "stream",
     "text": [
      "[I 2019-08-21 07:52:42,548] Finished trial#21 resulted in value: -0.7554240631163709. Current best value is -0.7554240631163709 with parameters: {'C_val': 0.00014949831640649017}.\n"
     ]
    },
    {
     "name": "stdout",
     "output_type": "stream",
     "text": [
      " C_val:0.0001420407121927804\n",
      "len: 211 , 211\n",
      "confusion_matrix: \n",
      "[[102.  67.]\n",
      " [  9.  33.]]\n",
      "AUC: \n",
      "0.7552831783601015\n",
      "\n"
     ]
    },
    {
     "name": "stderr",
     "output_type": "stream",
     "text": [
      "[I 2019-08-21 07:52:51,767] Finished trial#22 resulted in value: -0.7552831783601015. Current best value is -0.7554240631163709 with parameters: {'C_val': 0.00014949831640649017}.\n"
     ]
    },
    {
     "name": "stdout",
     "output_type": "stream",
     "text": [
      " C_val:0.00026638701905178953\n",
      "len: 211 , 211\n",
      "confusion_matrix: \n",
      "[[103.  66.]\n",
      " [  9.  33.]]\n",
      "AUC: \n",
      "0.754719639335024\n",
      "\n"
     ]
    },
    {
     "name": "stderr",
     "output_type": "stream",
     "text": [
      "[I 2019-08-21 07:53:00,426] Finished trial#23 resulted in value: -0.754719639335024. Current best value is -0.7554240631163709 with parameters: {'C_val': 0.00014949831640649017}.\n"
     ]
    },
    {
     "name": "stdout",
     "output_type": "stream",
     "text": [
      " C_val:9.668606727691382e-05\n",
      "len: 211 , 211\n",
      "confusion_matrix: \n",
      "[[100.  69.]\n",
      " [  9.  33.]]\n",
      "AUC: \n",
      "0.755142293603832\n",
      "\n"
     ]
    },
    {
     "name": "stderr",
     "output_type": "stream",
     "text": [
      "[I 2019-08-21 07:53:08,723] Finished trial#24 resulted in value: -0.755142293603832. Current best value is -0.7554240631163709 with parameters: {'C_val': 0.00014949831640649017}.\n"
     ]
    },
    {
     "name": "stdout",
     "output_type": "stream",
     "text": [
      " C_val:0.0003446938526601494\n",
      "len: 211 , 211\n",
      "confusion_matrix: \n",
      "[[105.  64.]\n",
      " [  9.  33.]]\n",
      "AUC: \n",
      "0.7542969850662158\n",
      "\n"
     ]
    },
    {
     "name": "stderr",
     "output_type": "stream",
     "text": [
      "[I 2019-08-21 07:53:17,037] Finished trial#25 resulted in value: -0.7542969850662158. Current best value is -0.7554240631163709 with parameters: {'C_val': 0.00014949831640649017}.\n"
     ]
    },
    {
     "name": "stdout",
     "output_type": "stream",
     "text": [
      " C_val:0.00025191073760441585\n",
      "len: 211 , 211\n",
      "confusion_matrix: \n",
      "[[103.  66.]\n",
      " [  9.  33.]]\n",
      "AUC: \n",
      "0.7550014088475627\n",
      "\n"
     ]
    },
    {
     "name": "stderr",
     "output_type": "stream",
     "text": [
      "[I 2019-08-21 07:53:25,731] Finished trial#26 resulted in value: -0.7550014088475627. Current best value is -0.7554240631163709 with parameters: {'C_val': 0.00014949831640649017}.\n"
     ]
    },
    {
     "name": "stdout",
     "output_type": "stream",
     "text": [
      " C_val:0.00011081789524766825\n",
      "len: 211 , 211\n",
      "confusion_matrix: \n",
      "[[101.  68.]\n",
      " [  9.  33.]]\n",
      "AUC: \n",
      "0.754719639335024\n",
      "\n"
     ]
    },
    {
     "name": "stderr",
     "output_type": "stream",
     "text": [
      "[I 2019-08-21 07:53:35,224] Finished trial#27 resulted in value: -0.754719639335024. Current best value is -0.7554240631163709 with parameters: {'C_val': 0.00014949831640649017}.\n"
     ]
    },
    {
     "name": "stdout",
     "output_type": "stream",
     "text": [
      " C_val:0.0003855808255670034\n",
      "len: 211 , 211\n",
      "confusion_matrix: \n",
      "[[105.  64.]\n",
      " [ 10.  32.]]\n",
      "AUC: \n",
      "0.7537334460411383\n",
      "\n"
     ]
    },
    {
     "name": "stderr",
     "output_type": "stream",
     "text": [
      "[I 2019-08-21 07:53:44,613] Finished trial#28 resulted in value: -0.7537334460411383. Current best value is -0.7554240631163709 with parameters: {'C_val': 0.00014949831640649017}.\n"
     ]
    },
    {
     "name": "stdout",
     "output_type": "stream",
     "text": [
      " C_val:0.0005876101724606427\n",
      "len: 211 , 211\n",
      "confusion_matrix: \n",
      "[[106.  63.]\n",
      " [ 10.  32.]]\n",
      "AUC: \n",
      "0.7545787545787546\n",
      "\n"
     ]
    },
    {
     "name": "stderr",
     "output_type": "stream",
     "text": [
      "[I 2019-08-21 07:53:55,447] Finished trial#29 resulted in value: -0.7545787545787546. Current best value is -0.7554240631163709 with parameters: {'C_val': 0.00014949831640649017}.\n"
     ]
    },
    {
     "name": "stdout",
     "output_type": "stream",
     "text": [
      " C_val:0.0007932611595048444\n",
      "len: 211 , 211\n",
      "confusion_matrix: \n",
      "[[106.  63.]\n",
      " [ 10.  32.]]\n",
      "AUC: \n",
      "0.7538743307974078\n",
      "\n"
     ]
    },
    {
     "name": "stderr",
     "output_type": "stream",
     "text": [
      "[I 2019-08-21 07:54:06,082] Finished trial#30 resulted in value: -0.7538743307974078. Current best value is -0.7554240631163709 with parameters: {'C_val': 0.00014949831640649017}.\n"
     ]
    },
    {
     "name": "stdout",
     "output_type": "stream",
     "text": [
      " C_val:0.00017142128137259926\n",
      "len: 211 , 211\n",
      "confusion_matrix: \n",
      "[[103.  66.]\n",
      " [  9.  33.]]\n",
      "AUC: \n",
      "0.7554240631163708\n",
      "\n"
     ]
    },
    {
     "name": "stderr",
     "output_type": "stream",
     "text": [
      "[I 2019-08-21 07:54:16,834] Finished trial#31 resulted in value: -0.7554240631163708. Current best value is -0.7554240631163709 with parameters: {'C_val': 0.00014949831640649017}.\n"
     ]
    },
    {
     "name": "stdout",
     "output_type": "stream",
     "text": [
      " C_val:0.00019110046127499269\n",
      "len: 211 , 211\n",
      "confusion_matrix: \n",
      "[[103.  66.]\n",
      " [  9.  33.]]\n",
      "AUC: \n",
      "0.755142293603832\n",
      "\n"
     ]
    },
    {
     "name": "stderr",
     "output_type": "stream",
     "text": [
      "[I 2019-08-21 07:54:26,837] Finished trial#32 resulted in value: -0.755142293603832. Current best value is -0.7554240631163709 with parameters: {'C_val': 0.00014949831640649017}.\n"
     ]
    },
    {
     "name": "stdout",
     "output_type": "stream",
     "text": [
      " C_val:0.0002876005885850282\n",
      "len: 211 , 211\n",
      "confusion_matrix: \n",
      "[[103.  66.]\n",
      " [  9.  33.]]\n",
      "AUC: \n",
      "0.7542969850662158\n",
      "\n"
     ]
    },
    {
     "name": "stderr",
     "output_type": "stream",
     "text": [
      "[I 2019-08-21 07:54:36,129] Finished trial#33 resulted in value: -0.7542969850662158. Current best value is -0.7554240631163709 with parameters: {'C_val': 0.00014949831640649017}.\n"
     ]
    },
    {
     "name": "stdout",
     "output_type": "stream",
     "text": [
      " C_val:6.796935033298326e-05\n",
      "len: 211 , 211\n",
      "confusion_matrix: \n",
      "[[97. 72.]\n",
      " [ 9. 33.]]\n",
      "AUC: \n",
      "0.7548605240912932\n",
      "\n"
     ]
    },
    {
     "name": "stderr",
     "output_type": "stream",
     "text": [
      "[I 2019-08-21 07:54:45,507] Finished trial#34 resulted in value: -0.7548605240912932. Current best value is -0.7554240631163709 with parameters: {'C_val': 0.00014949831640649017}.\n"
     ]
    },
    {
     "name": "stdout",
     "output_type": "stream",
     "text": [
      " C_val:0.0001547653521682315\n",
      "len: 211 , 211\n",
      "confusion_matrix: \n",
      "[[102.  67.]\n",
      " [  9.  33.]]\n",
      "AUC: \n",
      "0.7554240631163709\n",
      "\n"
     ]
    },
    {
     "name": "stderr",
     "output_type": "stream",
     "text": [
      "[I 2019-08-21 07:54:54,693] Finished trial#35 resulted in value: -0.7554240631163709. Current best value is -0.7554240631163709 with parameters: {'C_val': 0.00014949831640649017}.\n"
     ]
    },
    {
     "name": "stdout",
     "output_type": "stream",
     "text": [
      " C_val:5.2843951151850975e-05\n",
      "len: 211 , 211\n",
      "confusion_matrix: \n",
      "[[97. 72.]\n",
      " [ 9. 33.]]\n",
      "AUC: \n",
      "0.7544378698224852\n",
      "\n"
     ]
    },
    {
     "name": "stderr",
     "output_type": "stream",
     "text": [
      "[I 2019-08-21 07:55:03,591] Finished trial#36 resulted in value: -0.7544378698224852. Current best value is -0.7554240631163709 with parameters: {'C_val': 0.00014949831640649017}.\n"
     ]
    },
    {
     "name": "stdout",
     "output_type": "stream",
     "text": [
      " C_val:0.000410152559445362\n",
      "len: 211 , 211\n",
      "confusion_matrix: \n",
      "[[105.  64.]\n",
      " [ 10.  32.]]\n",
      "AUC: \n",
      "0.7538743307974077\n",
      "\n"
     ]
    },
    {
     "name": "stderr",
     "output_type": "stream",
     "text": [
      "[I 2019-08-21 07:55:11,980] Finished trial#37 resulted in value: -0.7538743307974077. Current best value is -0.7554240631163709 with parameters: {'C_val': 0.00014949831640649017}.\n"
     ]
    },
    {
     "name": "stdout",
     "output_type": "stream",
     "text": [
      " C_val:0.0002909844273062736\n",
      "len: 211 , 211\n",
      "confusion_matrix: \n",
      "[[103.  66.]\n",
      " [  9.  33.]]\n",
      "AUC: \n",
      "0.7542969850662158\n",
      "\n"
     ]
    },
    {
     "name": "stderr",
     "output_type": "stream",
     "text": [
      "[I 2019-08-21 07:55:20,496] Finished trial#38 resulted in value: -0.7542969850662158. Current best value is -0.7554240631163709 with parameters: {'C_val': 0.00014949831640649017}.\n"
     ]
    },
    {
     "name": "stdout",
     "output_type": "stream",
     "text": [
      " C_val:0.00013785147714891167\n",
      "len: 211 , 211\n",
      "confusion_matrix: \n",
      "[[102.  67.]\n",
      " [  9.  33.]]\n",
      "AUC: \n",
      "0.7552831783601015\n",
      "\n"
     ]
    },
    {
     "name": "stderr",
     "output_type": "stream",
     "text": [
      "[I 2019-08-21 07:55:29,897] Finished trial#39 resulted in value: -0.7552831783601015. Current best value is -0.7554240631163709 with parameters: {'C_val': 0.00014949831640649017}.\n"
     ]
    },
    {
     "name": "stdout",
     "output_type": "stream",
     "text": [
      " C_val:0.00021640965790004687\n",
      "len: 211 , 211\n",
      "confusion_matrix: \n",
      "[[103.  66.]\n",
      " [  9.  33.]]\n",
      "AUC: \n",
      "0.7548605240912934\n",
      "\n"
     ]
    },
    {
     "name": "stderr",
     "output_type": "stream",
     "text": [
      "[I 2019-08-21 07:55:38,169] Finished trial#40 resulted in value: -0.7548605240912934. Current best value is -0.7554240631163709 with parameters: {'C_val': 0.00014949831640649017}.\n"
     ]
    },
    {
     "name": "stdout",
     "output_type": "stream",
     "text": [
      " C_val:0.0001442432364576649\n",
      "len: 211 , 211\n",
      "confusion_matrix: \n",
      "[[102.  67.]\n",
      " [  9.  33.]]\n",
      "AUC: \n",
      "0.7552831783601015\n",
      "\n"
     ]
    },
    {
     "name": "stderr",
     "output_type": "stream",
     "text": [
      "[I 2019-08-21 07:55:46,680] Finished trial#41 resulted in value: -0.7552831783601015. Current best value is -0.7554240631163709 with parameters: {'C_val': 0.00014949831640649017}.\n"
     ]
    },
    {
     "name": "stdout",
     "output_type": "stream",
     "text": [
      " C_val:0.0003167459982687759\n",
      "len: 211 , 211\n",
      "confusion_matrix: \n",
      "[[103.  66.]\n",
      " [  9.  33.]]\n",
      "AUC: \n",
      "0.7542969850662158\n",
      "\n"
     ]
    },
    {
     "name": "stderr",
     "output_type": "stream",
     "text": [
      "[I 2019-08-21 07:55:56,366] Finished trial#42 resulted in value: -0.7542969850662158. Current best value is -0.7554240631163709 with parameters: {'C_val': 0.00014949831640649017}.\n"
     ]
    },
    {
     "name": "stdout",
     "output_type": "stream",
     "text": [
      " C_val:5.857702512848128e-05\n",
      "len: 211 , 211\n",
      "confusion_matrix: \n",
      "[[97. 72.]\n",
      " [ 9. 33.]]\n",
      "AUC: \n",
      "0.7544378698224852\n",
      "\n"
     ]
    },
    {
     "name": "stderr",
     "output_type": "stream",
     "text": [
      "[I 2019-08-21 07:56:06,406] Finished trial#43 resulted in value: -0.7544378698224852. Current best value is -0.7554240631163709 with parameters: {'C_val': 0.00014949831640649017}.\n"
     ]
    },
    {
     "name": "stdout",
     "output_type": "stream",
     "text": [
      " C_val:0.00023931837605177596\n",
      "len: 211 , 211\n",
      "confusion_matrix: \n",
      "[[103.  66.]\n",
      " [  9.  33.]]\n",
      "AUC: \n",
      "0.7551422936038321\n",
      "\n"
     ]
    },
    {
     "name": "stderr",
     "output_type": "stream",
     "text": [
      "[I 2019-08-21 07:56:15,523] Finished trial#44 resulted in value: -0.7551422936038321. Current best value is -0.7554240631163709 with parameters: {'C_val': 0.00014949831640649017}.\n"
     ]
    },
    {
     "name": "stdout",
     "output_type": "stream",
     "text": [
      " C_val:0.00016201117859296983\n",
      "len: 211 , 211\n",
      "confusion_matrix: \n",
      "[[103.  66.]\n",
      " [  9.  33.]]\n",
      "AUC: \n",
      "0.7552831783601014\n",
      "\n"
     ]
    },
    {
     "name": "stderr",
     "output_type": "stream",
     "text": [
      "[I 2019-08-21 07:56:24,936] Finished trial#45 resulted in value: -0.7552831783601014. Current best value is -0.7554240631163709 with parameters: {'C_val': 0.00014949831640649017}.\n"
     ]
    },
    {
     "name": "stdout",
     "output_type": "stream",
     "text": [
      " C_val:1.2343155760877395e-05\n",
      "len: 211 , 211\n",
      "confusion_matrix: \n",
      "[[97. 72.]\n",
      " [ 9. 33.]]\n",
      "AUC: \n",
      "0.7548605240912933\n",
      "\n"
     ]
    },
    {
     "name": "stderr",
     "output_type": "stream",
     "text": [
      "[I 2019-08-21 07:56:33,387] Finished trial#46 resulted in value: -0.7548605240912933. Current best value is -0.7554240631163709 with parameters: {'C_val': 0.00014949831640649017}.\n"
     ]
    },
    {
     "name": "stdout",
     "output_type": "stream",
     "text": [
      " C_val:0.0004613036555935492\n",
      "len: 211 , 211\n",
      "confusion_matrix: \n",
      "[[105.  64.]\n",
      " [ 10.  32.]]\n",
      "AUC: \n",
      "0.753592561284869\n",
      "\n"
     ]
    },
    {
     "name": "stderr",
     "output_type": "stream",
     "text": [
      "[I 2019-08-21 07:56:41,782] Finished trial#47 resulted in value: -0.753592561284869. Current best value is -0.7554240631163709 with parameters: {'C_val': 0.00014949831640649017}.\n"
     ]
    },
    {
     "name": "stdout",
     "output_type": "stream",
     "text": [
      " C_val:7.484655462718437e-05\n",
      "len: 211 , 211\n",
      "confusion_matrix: \n",
      "[[98. 71.]\n",
      " [ 9. 33.]]\n",
      "AUC: \n",
      "0.7548605240912933\n",
      "\n"
     ]
    },
    {
     "name": "stderr",
     "output_type": "stream",
     "text": [
      "[I 2019-08-21 07:56:50,781] Finished trial#48 resulted in value: -0.7548605240912933. Current best value is -0.7554240631163709 with parameters: {'C_val': 0.00014949831640649017}.\n"
     ]
    },
    {
     "name": "stdout",
     "output_type": "stream",
     "text": [
      " C_val:0.00019946278813120634\n",
      "len: 211 , 211\n",
      "confusion_matrix: \n",
      "[[103.  66.]\n",
      " [  9.  33.]]\n",
      "AUC: \n",
      "0.7552831783601015\n",
      "\n"
     ]
    },
    {
     "name": "stderr",
     "output_type": "stream",
     "text": [
      "[I 2019-08-21 07:56:59,373] Finished trial#49 resulted in value: -0.7552831783601015. Current best value is -0.7554240631163709 with parameters: {'C_val': 0.00014949831640649017}.\n"
     ]
    },
    {
     "name": "stdout",
     "output_type": "stream",
     "text": [
      " C_val:0.0009602475456434877\n",
      "len: 211 , 211\n",
      "confusion_matrix: \n",
      "[[107.  62.]\n",
      " [ 11.  31.]]\n",
      "AUC: \n",
      "0.7534516765285997\n",
      "\n"
     ]
    },
    {
     "name": "stderr",
     "output_type": "stream",
     "text": [
      "[I 2019-08-21 07:57:08,482] Finished trial#50 resulted in value: -0.7534516765285997. Current best value is -0.7554240631163709 with parameters: {'C_val': 0.00014949831640649017}.\n"
     ]
    },
    {
     "name": "stdout",
     "output_type": "stream",
     "text": [
      " C_val:0.00013205868943606952\n",
      "len: 211 , 211\n",
      "confusion_matrix: \n",
      "[[102.  67.]\n",
      " [  9.  33.]]\n",
      "AUC: \n",
      "0.7552831783601015\n",
      "\n"
     ]
    },
    {
     "name": "stderr",
     "output_type": "stream",
     "text": [
      "[I 2019-08-21 07:57:17,205] Finished trial#51 resulted in value: -0.7552831783601015. Current best value is -0.7554240631163709 with parameters: {'C_val': 0.00014949831640649017}.\n"
     ]
    },
    {
     "name": "stdout",
     "output_type": "stream",
     "text": [
      " C_val:0.0001263716552035562\n",
      "len: 211 , 211\n",
      "confusion_matrix: \n",
      "[[101.  68.]\n",
      " [  9.  33.]]\n",
      "AUC: \n",
      "0.7551422936038321\n",
      "\n"
     ]
    },
    {
     "name": "stderr",
     "output_type": "stream",
     "text": [
      "[I 2019-08-21 07:57:25,916] Finished trial#52 resulted in value: -0.7551422936038321. Current best value is -0.7554240631163709 with parameters: {'C_val': 0.00014949831640649017}.\n"
     ]
    },
    {
     "name": "stdout",
     "output_type": "stream",
     "text": [
      " C_val:0.00018767976414067302\n",
      "len: 211 , 211\n",
      "confusion_matrix: \n",
      "[[103.  66.]\n",
      " [  9.  33.]]\n",
      "AUC: \n",
      "0.7554240631163708\n",
      "\n"
     ]
    },
    {
     "name": "stderr",
     "output_type": "stream",
     "text": [
      "[I 2019-08-21 07:57:35,154] Finished trial#53 resulted in value: -0.7554240631163708. Current best value is -0.7554240631163709 with parameters: {'C_val': 0.00014949831640649017}.\n"
     ]
    },
    {
     "name": "stdout",
     "output_type": "stream",
     "text": [
      " C_val:0.00018089121662363144\n",
      "len: 211 , 211\n",
      "confusion_matrix: \n",
      "[[103.  66.]\n",
      " [  9.  33.]]\n",
      "AUC: \n",
      "0.7552831783601015\n",
      "\n"
     ]
    },
    {
     "name": "stderr",
     "output_type": "stream",
     "text": [
      "[I 2019-08-21 07:57:43,843] Finished trial#54 resulted in value: -0.7552831783601015. Current best value is -0.7554240631163709 with parameters: {'C_val': 0.00014949831640649017}.\n"
     ]
    },
    {
     "name": "stdout",
     "output_type": "stream",
     "text": [
      " C_val:4.308702433387148e-05\n",
      "len: 211 , 211\n",
      "confusion_matrix: \n",
      "[[97. 72.]\n",
      " [ 9. 33.]]\n",
      "AUC: \n",
      "0.7541561003099464\n",
      "\n"
     ]
    },
    {
     "name": "stderr",
     "output_type": "stream",
     "text": [
      "[I 2019-08-21 07:57:52,639] Finished trial#55 resulted in value: -0.7541561003099464. Current best value is -0.7554240631163709 with parameters: {'C_val': 0.00014949831640649017}.\n"
     ]
    },
    {
     "name": "stdout",
     "output_type": "stream",
     "text": [
      " C_val:0.00023368448669543586\n",
      "len: 211 , 211\n",
      "confusion_matrix: \n",
      "[[103.  66.]\n",
      " [  9.  33.]]\n",
      "AUC: \n",
      "0.7550014088475627\n",
      "\n"
     ]
    },
    {
     "name": "stderr",
     "output_type": "stream",
     "text": [
      "[I 2019-08-21 07:58:02,173] Finished trial#56 resulted in value: -0.7550014088475627. Current best value is -0.7554240631163709 with parameters: {'C_val': 0.00014949831640649017}.\n"
     ]
    },
    {
     "name": "stdout",
     "output_type": "stream",
     "text": [
      " C_val:0.0003408887520110763\n",
      "len: 211 , 211\n",
      "confusion_matrix: \n",
      "[[105.  64.]\n",
      " [  9.  33.]]\n",
      "AUC: \n",
      "0.7542969850662159\n",
      "\n"
     ]
    },
    {
     "name": "stderr",
     "output_type": "stream",
     "text": [
      "[I 2019-08-21 07:58:12,860] Finished trial#57 resulted in value: -0.7542969850662159. Current best value is -0.7554240631163709 with parameters: {'C_val': 0.00014949831640649017}.\n"
     ]
    },
    {
     "name": "stdout",
     "output_type": "stream",
     "text": [
      " C_val:9.663375440709793e-05\n",
      "len: 211 , 211\n",
      "confusion_matrix: \n",
      "[[100.  69.]\n",
      " [  9.  33.]]\n",
      "AUC: \n",
      "0.755142293603832\n",
      "\n"
     ]
    },
    {
     "name": "stderr",
     "output_type": "stream",
     "text": [
      "[I 2019-08-21 07:58:24,769] Finished trial#58 resulted in value: -0.755142293603832. Current best value is -0.7554240631163709 with parameters: {'C_val': 0.00014949831640649017}.\n"
     ]
    },
    {
     "name": "stdout",
     "output_type": "stream",
     "text": [
      " C_val:0.0001736850590116768\n",
      "len: 211 , 211\n",
      "confusion_matrix: \n",
      "[[103.  66.]\n",
      " [  9.  33.]]\n",
      "AUC: \n",
      "0.7554240631163708\n",
      "\n"
     ]
    },
    {
     "name": "stderr",
     "output_type": "stream",
     "text": [
      "[I 2019-08-21 07:58:33,525] Finished trial#59 resulted in value: -0.7554240631163708. Current best value is -0.7554240631163709 with parameters: {'C_val': 0.00014949831640649017}.\n"
     ]
    },
    {
     "name": "stdout",
     "output_type": "stream",
     "text": [
      " C_val:0.000300662203564489\n",
      "len: 211 , 211\n",
      "confusion_matrix: \n",
      "[[103.  66.]\n",
      " [  9.  33.]]\n",
      "AUC: \n",
      "0.7544378698224853\n",
      "\n"
     ]
    },
    {
     "name": "stderr",
     "output_type": "stream",
     "text": [
      "[I 2019-08-21 07:58:42,391] Finished trial#60 resulted in value: -0.7544378698224853. Current best value is -0.7554240631163709 with parameters: {'C_val': 0.00014949831640649017}.\n"
     ]
    },
    {
     "name": "stdout",
     "output_type": "stream",
     "text": [
      " C_val:0.0001762994896437568\n",
      "len: 211 , 211\n",
      "confusion_matrix: \n",
      "[[103.  66.]\n",
      " [  9.  33.]]\n",
      "AUC: \n",
      "0.7554240631163708\n",
      "\n"
     ]
    },
    {
     "name": "stderr",
     "output_type": "stream",
     "text": [
      "[I 2019-08-21 07:58:52,244] Finished trial#61 resulted in value: -0.7554240631163708. Current best value is -0.7554240631163709 with parameters: {'C_val': 0.00014949831640649017}.\n"
     ]
    },
    {
     "name": "stdout",
     "output_type": "stream",
     "text": [
      " C_val:0.00021807964973378724\n",
      "len: 211 , 211\n",
      "confusion_matrix: \n",
      "[[103.  66.]\n",
      " [  9.  33.]]\n",
      "AUC: \n",
      "0.7547196393350241\n",
      "\n"
     ]
    },
    {
     "name": "stderr",
     "output_type": "stream",
     "text": [
      "[I 2019-08-21 07:59:01,668] Finished trial#62 resulted in value: -0.7547196393350241. Current best value is -0.7554240631163709 with parameters: {'C_val': 0.00014949831640649017}.\n"
     ]
    },
    {
     "name": "stdout",
     "output_type": "stream",
     "text": [
      " C_val:9.407791799752763e-05\n",
      "len: 211 , 211\n",
      "confusion_matrix: \n",
      "[[100.  69.]\n",
      " [  9.  33.]]\n",
      "AUC: \n",
      "0.755142293603832\n",
      "\n"
     ]
    },
    {
     "name": "stderr",
     "output_type": "stream",
     "text": [
      "[I 2019-08-21 07:59:10,943] Finished trial#63 resulted in value: -0.755142293603832. Current best value is -0.7554240631163709 with parameters: {'C_val': 0.00014949831640649017}.\n"
     ]
    },
    {
     "name": "stdout",
     "output_type": "stream",
     "text": [
      " C_val:0.00016286806712464939\n",
      "len: 211 , 211\n",
      "confusion_matrix: \n",
      "[[103.  66.]\n",
      " [  9.  33.]]\n",
      "AUC: \n",
      "0.7552831783601014\n",
      "\n"
     ]
    },
    {
     "name": "stderr",
     "output_type": "stream",
     "text": [
      "[I 2019-08-21 07:59:20,654] Finished trial#64 resulted in value: -0.7552831783601014. Current best value is -0.7554240631163709 with parameters: {'C_val': 0.00014949831640649017}.\n"
     ]
    },
    {
     "name": "stdout",
     "output_type": "stream",
     "text": [
      " C_val:0.0002632461646449903\n",
      "len: 211 , 211\n",
      "confusion_matrix: \n",
      "[[103.  66.]\n",
      " [  9.  33.]]\n",
      "AUC: \n",
      "0.754719639335024\n",
      "\n"
     ]
    },
    {
     "name": "stderr",
     "output_type": "stream",
     "text": [
      "[I 2019-08-21 07:59:29,833] Finished trial#65 resulted in value: -0.754719639335024. Current best value is -0.7554240631163709 with parameters: {'C_val': 0.00014949831640649017}.\n"
     ]
    },
    {
     "name": "stdout",
     "output_type": "stream",
     "text": [
      " C_val:2.5534043801744366e-05\n",
      "len: 211 , 211\n",
      "confusion_matrix: \n",
      "[[97. 72.]\n",
      " [ 9. 33.]]\n",
      "AUC: \n",
      "0.754719639335024\n",
      "\n"
     ]
    },
    {
     "name": "stderr",
     "output_type": "stream",
     "text": [
      "[I 2019-08-21 07:59:39,560] Finished trial#66 resulted in value: -0.754719639335024. Current best value is -0.7554240631163709 with parameters: {'C_val': 0.00014949831640649017}.\n"
     ]
    },
    {
     "name": "stdout",
     "output_type": "stream",
     "text": [
      " C_val:0.0002043579718295127\n",
      "len: 211 , 211\n",
      "confusion_matrix: \n",
      "[[103.  66.]\n",
      " [  9.  33.]]\n",
      "AUC: \n",
      "0.7550014088475628\n",
      "\n"
     ]
    },
    {
     "name": "stderr",
     "output_type": "stream",
     "text": [
      "[I 2019-08-21 07:59:50,460] Finished trial#67 resulted in value: -0.7550014088475628. Current best value is -0.7554240631163709 with parameters: {'C_val': 0.00014949831640649017}.\n"
     ]
    },
    {
     "name": "stdout",
     "output_type": "stream",
     "text": [
      " C_val:0.00011490764465286931\n",
      "len: 211 , 211\n",
      "confusion_matrix: \n",
      "[[101.  68.]\n",
      " [  9.  33.]]\n",
      "AUC: \n",
      "0.7550014088475627\n",
      "\n"
     ]
    },
    {
     "name": "stderr",
     "output_type": "stream",
     "text": [
      "[I 2019-08-21 07:59:59,375] Finished trial#68 resulted in value: -0.7550014088475627. Current best value is -0.7554240631163709 with parameters: {'C_val': 0.00014949831640649017}.\n"
     ]
    },
    {
     "name": "stdout",
     "output_type": "stream",
     "text": [
      " C_val:0.00016269949874084608\n",
      "len: 211 , 211\n",
      "confusion_matrix: \n",
      "[[103.  66.]\n",
      " [  9.  33.]]\n",
      "AUC: \n",
      "0.7552831783601014\n",
      "\n"
     ]
    },
    {
     "name": "stderr",
     "output_type": "stream",
     "text": [
      "[I 2019-08-21 08:00:08,117] Finished trial#69 resulted in value: -0.7552831783601014. Current best value is -0.7554240631163709 with parameters: {'C_val': 0.00014949831640649017}.\n"
     ]
    },
    {
     "name": "stdout",
     "output_type": "stream",
     "text": [
      " C_val:0.00024768772664616817\n",
      "len: 211 , 211\n",
      "confusion_matrix: \n",
      "[[103.  66.]\n",
      " [  9.  33.]]\n",
      "AUC: \n",
      "0.7551422936038321\n",
      "\n"
     ]
    },
    {
     "name": "stderr",
     "output_type": "stream",
     "text": [
      "[I 2019-08-21 08:00:16,563] Finished trial#70 resulted in value: -0.7551422936038321. Current best value is -0.7554240631163709 with parameters: {'C_val': 0.00014949831640649017}.\n"
     ]
    },
    {
     "name": "stdout",
     "output_type": "stream",
     "text": [
      " C_val:0.0001781944776160812\n",
      "len: 211 , 211\n",
      "confusion_matrix: \n",
      "[[103.  66.]\n",
      " [  9.  33.]]\n",
      "AUC: \n",
      "0.7552831783601015\n",
      "\n"
     ]
    },
    {
     "name": "stderr",
     "output_type": "stream",
     "text": [
      "[I 2019-08-21 08:00:24,898] Finished trial#71 resulted in value: -0.7552831783601015. Current best value is -0.7554240631163709 with parameters: {'C_val': 0.00014949831640649017}.\n"
     ]
    },
    {
     "name": "stdout",
     "output_type": "stream",
     "text": [
      " C_val:8.348957550585072e-05\n",
      "len: 211 , 211\n",
      "confusion_matrix: \n",
      "[[99. 70.]\n",
      " [ 9. 33.]]\n",
      "AUC: \n",
      "0.7548605240912932\n",
      "\n"
     ]
    },
    {
     "name": "stderr",
     "output_type": "stream",
     "text": [
      "[I 2019-08-21 08:00:33,251] Finished trial#72 resulted in value: -0.7548605240912932. Current best value is -0.7554240631163709 with parameters: {'C_val': 0.00014949831640649017}.\n"
     ]
    },
    {
     "name": "stdout",
     "output_type": "stream",
     "text": [
      " C_val:0.0001523635369429286\n",
      "len: 211 , 211\n",
      "confusion_matrix: \n",
      "[[102.  67.]\n",
      " [  9.  33.]]\n",
      "AUC: \n",
      "0.7554240631163709\n",
      "\n"
     ]
    },
    {
     "name": "stderr",
     "output_type": "stream",
     "text": [
      "[I 2019-08-21 08:00:41,572] Finished trial#73 resulted in value: -0.7554240631163709. Current best value is -0.7554240631163709 with parameters: {'C_val': 0.00014949831640649017}.\n"
     ]
    },
    {
     "name": "stdout",
     "output_type": "stream",
     "text": [
      " C_val:0.000143626928341591\n",
      "len: 211 , 211\n",
      "confusion_matrix: \n",
      "[[102.  67.]\n",
      " [  9.  33.]]\n",
      "AUC: \n",
      "0.7552831783601015\n",
      "\n"
     ]
    },
    {
     "name": "stderr",
     "output_type": "stream",
     "text": [
      "[I 2019-08-21 08:00:50,425] Finished trial#74 resulted in value: -0.7552831783601015. Current best value is -0.7554240631163709 with parameters: {'C_val': 0.00014949831640649017}.\n"
     ]
    },
    {
     "name": "stdout",
     "output_type": "stream",
     "text": [
      " C_val:0.00022518620731855026\n",
      "len: 211 , 211\n",
      "confusion_matrix: \n",
      "[[103.  66.]\n",
      " [  9.  33.]]\n",
      "AUC: \n",
      "0.7550014088475626\n",
      "\n"
     ]
    },
    {
     "name": "stderr",
     "output_type": "stream",
     "text": [
      "[I 2019-08-21 08:01:00,240] Finished trial#75 resulted in value: -0.7550014088475626. Current best value is -0.7554240631163709 with parameters: {'C_val': 0.00014949831640649017}.\n"
     ]
    },
    {
     "name": "stdout",
     "output_type": "stream",
     "text": [
      " C_val:0.00010853222369946959\n",
      "len: 211 , 211\n",
      "confusion_matrix: \n",
      "[[100.  69.]\n",
      " [  9.  33.]]\n",
      "AUC: \n",
      "0.754719639335024\n",
      "\n"
     ]
    },
    {
     "name": "stderr",
     "output_type": "stream",
     "text": [
      "[I 2019-08-21 08:01:09,689] Finished trial#76 resulted in value: -0.754719639335024. Current best value is -0.7554240631163709 with parameters: {'C_val': 0.00014949831640649017}.\n"
     ]
    },
    {
     "name": "stdout",
     "output_type": "stream",
     "text": [
      " C_val:4.323978768680856e-05\n",
      "len: 211 , 211\n",
      "confusion_matrix: \n",
      "[[97. 72.]\n",
      " [ 9. 33.]]\n",
      "AUC: \n",
      "0.7541561003099464\n",
      "\n"
     ]
    },
    {
     "name": "stderr",
     "output_type": "stream",
     "text": [
      "[I 2019-08-21 08:01:19,098] Finished trial#77 resulted in value: -0.7541561003099464. Current best value is -0.7554240631163709 with parameters: {'C_val': 0.00014949831640649017}.\n"
     ]
    },
    {
     "name": "stdout",
     "output_type": "stream",
     "text": [
      " C_val:0.00019774630654098102\n",
      "len: 211 , 211\n",
      "confusion_matrix: \n",
      "[[103.  66.]\n",
      " [  9.  33.]]\n",
      "AUC: \n",
      "0.755142293603832\n",
      "\n"
     ]
    },
    {
     "name": "stderr",
     "output_type": "stream",
     "text": [
      "[I 2019-08-21 08:01:29,745] Finished trial#78 resulted in value: -0.755142293603832. Current best value is -0.7554240631163709 with parameters: {'C_val': 0.00014949831640649017}.\n"
     ]
    },
    {
     "name": "stdout",
     "output_type": "stream",
     "text": [
      " C_val:0.0005530577068635738\n",
      "len: 211 , 211\n",
      "confusion_matrix: \n",
      "[[106.  63.]\n",
      " [ 10.  32.]]\n",
      "AUC: \n",
      "0.7544378698224853\n",
      "\n"
     ]
    },
    {
     "name": "stderr",
     "output_type": "stream",
     "text": [
      "[I 2019-08-21 08:01:39,371] Finished trial#79 resulted in value: -0.7544378698224853. Current best value is -0.7554240631163709 with parameters: {'C_val': 0.00014949831640649017}.\n"
     ]
    },
    {
     "name": "stdout",
     "output_type": "stream",
     "text": [
      " C_val:0.0001529903926043342\n",
      "len: 211 , 211\n",
      "confusion_matrix: \n",
      "[[102.  67.]\n",
      " [  9.  33.]]\n",
      "AUC: \n",
      "0.7554240631163709\n",
      "\n"
     ]
    },
    {
     "name": "stderr",
     "output_type": "stream",
     "text": [
      "[I 2019-08-21 08:01:47,891] Finished trial#80 resulted in value: -0.7554240631163709. Current best value is -0.7554240631163709 with parameters: {'C_val': 0.00014949831640649017}.\n"
     ]
    },
    {
     "name": "stdout",
     "output_type": "stream",
     "text": [
      " C_val:0.0001470363051128014\n",
      "len: 211 , 211\n",
      "confusion_matrix: \n",
      "[[102.  67.]\n",
      " [  9.  33.]]\n",
      "AUC: \n",
      "0.7554240631163709\n",
      "\n"
     ]
    },
    {
     "name": "stderr",
     "output_type": "stream",
     "text": [
      "[I 2019-08-21 08:01:57,034] Finished trial#81 resulted in value: -0.7554240631163709. Current best value is -0.7554240631163709 with parameters: {'C_val': 0.00014949831640649017}.\n"
     ]
    },
    {
     "name": "stdout",
     "output_type": "stream",
     "text": [
      " C_val:0.00013893003466009839\n",
      "len: 211 , 211\n",
      "confusion_matrix: \n",
      "[[102.  67.]\n",
      " [  9.  33.]]\n",
      "AUC: \n",
      "0.7552831783601015\n",
      "\n"
     ]
    },
    {
     "name": "stderr",
     "output_type": "stream",
     "text": [
      "[I 2019-08-21 08:02:06,473] Finished trial#82 resulted in value: -0.7552831783601015. Current best value is -0.7554240631163709 with parameters: {'C_val': 0.00014949831640649017}.\n"
     ]
    },
    {
     "name": "stdout",
     "output_type": "stream",
     "text": [
      " C_val:0.00015577562301873077\n",
      "len: 211 , 211\n",
      "confusion_matrix: \n",
      "[[102.  67.]\n",
      " [  9.  33.]]\n",
      "AUC: \n",
      "0.7554240631163709\n",
      "\n"
     ]
    },
    {
     "name": "stderr",
     "output_type": "stream",
     "text": [
      "[I 2019-08-21 08:02:15,223] Finished trial#83 resulted in value: -0.7554240631163709. Current best value is -0.7554240631163709 with parameters: {'C_val': 0.00014949831640649017}.\n"
     ]
    },
    {
     "name": "stdout",
     "output_type": "stream",
     "text": [
      " C_val:7.480023948280756e-05\n",
      "len: 211 , 211\n",
      "confusion_matrix: \n",
      "[[98. 71.]\n",
      " [ 9. 33.]]\n",
      "AUC: \n",
      "0.7548605240912933\n",
      "\n"
     ]
    },
    {
     "name": "stderr",
     "output_type": "stream",
     "text": [
      "[I 2019-08-21 08:02:23,969] Finished trial#84 resulted in value: -0.7548605240912933. Current best value is -0.7554240631163709 with parameters: {'C_val': 0.00014949831640649017}.\n"
     ]
    },
    {
     "name": "stdout",
     "output_type": "stream",
     "text": [
      " C_val:0.00011013667124584579\n",
      "len: 211 , 211\n",
      "confusion_matrix: \n",
      "[[100.  69.]\n",
      " [  9.  33.]]\n",
      "AUC: \n",
      "0.754719639335024\n",
      "\n"
     ]
    },
    {
     "name": "stderr",
     "output_type": "stream",
     "text": [
      "[I 2019-08-21 08:02:32,677] Finished trial#85 resulted in value: -0.754719639335024. Current best value is -0.7554240631163709 with parameters: {'C_val': 0.00014949831640649017}.\n"
     ]
    },
    {
     "name": "stdout",
     "output_type": "stream",
     "text": [
      " C_val:0.0001470884408912554\n",
      "len: 211 , 211\n",
      "confusion_matrix: \n",
      "[[102.  67.]\n",
      " [  9.  33.]]\n",
      "AUC: \n",
      "0.7554240631163709\n",
      "\n"
     ]
    },
    {
     "name": "stderr",
     "output_type": "stream",
     "text": [
      "[I 2019-08-21 08:02:41,034] Finished trial#86 resulted in value: -0.7554240631163709. Current best value is -0.7554240631163709 with parameters: {'C_val': 0.00014949831640649017}.\n"
     ]
    },
    {
     "name": "stdout",
     "output_type": "stream",
     "text": [
      " C_val:0.00013833307440629079\n",
      "len: 211 , 211\n",
      "confusion_matrix: \n",
      "[[102.  67.]\n",
      " [  9.  33.]]\n",
      "AUC: \n",
      "0.7552831783601015\n",
      "\n"
     ]
    },
    {
     "name": "stderr",
     "output_type": "stream",
     "text": [
      "[I 2019-08-21 08:02:49,841] Finished trial#87 resulted in value: -0.7552831783601015. Current best value is -0.7554240631163709 with parameters: {'C_val': 0.00014949831640649017}.\n"
     ]
    },
    {
     "name": "stdout",
     "output_type": "stream",
     "text": [
      " C_val:0.00015461600269899188\n",
      "len: 211 , 211\n",
      "confusion_matrix: \n",
      "[[102.  67.]\n",
      " [  9.  33.]]\n",
      "AUC: \n",
      "0.7554240631163709\n",
      "\n"
     ]
    },
    {
     "name": "stderr",
     "output_type": "stream",
     "text": [
      "[I 2019-08-21 08:02:58,892] Finished trial#88 resulted in value: -0.7554240631163709. Current best value is -0.7554240631163709 with parameters: {'C_val': 0.00014949831640649017}.\n"
     ]
    },
    {
     "name": "stdout",
     "output_type": "stream",
     "text": [
      " C_val:0.00026242578531964037\n",
      "len: 211 , 211\n",
      "confusion_matrix: \n",
      "[[103.  66.]\n",
      " [  9.  33.]]\n",
      "AUC: \n",
      "0.754719639335024\n",
      "\n"
     ]
    },
    {
     "name": "stderr",
     "output_type": "stream",
     "text": [
      "[I 2019-08-21 08:03:07,238] Finished trial#89 resulted in value: -0.754719639335024. Current best value is -0.7554240631163709 with parameters: {'C_val': 0.00014949831640649017}.\n"
     ]
    },
    {
     "name": "stdout",
     "output_type": "stream",
     "text": [
      " C_val:3.0736529413231256e-05\n",
      "len: 211 , 211\n",
      "confusion_matrix: \n",
      "[[97. 72.]\n",
      " [ 9. 33.]]\n",
      "AUC: \n",
      "0.7542969850662158\n",
      "\n"
     ]
    },
    {
     "name": "stderr",
     "output_type": "stream",
     "text": [
      "[I 2019-08-21 08:03:15,576] Finished trial#90 resulted in value: -0.7542969850662158. Current best value is -0.7554240631163709 with parameters: {'C_val': 0.00014949831640649017}.\n"
     ]
    },
    {
     "name": "stdout",
     "output_type": "stream",
     "text": [
      " C_val:0.0001486671260809417\n",
      "len: 211 , 211\n",
      "confusion_matrix: \n",
      "[[102.  67.]\n",
      " [  9.  33.]]\n",
      "AUC: \n",
      "0.7554240631163709\n",
      "\n"
     ]
    },
    {
     "name": "stderr",
     "output_type": "stream",
     "text": [
      "[I 2019-08-21 08:03:23,907] Finished trial#91 resulted in value: -0.7554240631163709. Current best value is -0.7554240631163709 with parameters: {'C_val': 0.00014949831640649017}.\n"
     ]
    },
    {
     "name": "stdout",
     "output_type": "stream",
     "text": [
      " C_val:0.00011960476497461381\n",
      "len: 211 , 211\n",
      "confusion_matrix: \n",
      "[[101.  68.]\n",
      " [  9.  33.]]\n",
      "AUC: \n",
      "0.7550014088475627\n",
      "\n"
     ]
    },
    {
     "name": "stderr",
     "output_type": "stream",
     "text": [
      "[I 2019-08-21 08:03:32,163] Finished trial#92 resulted in value: -0.7550014088475627. Current best value is -0.7554240631163709 with parameters: {'C_val': 0.00014949831640649017}.\n"
     ]
    },
    {
     "name": "stdout",
     "output_type": "stream",
     "text": [
      " C_val:0.00020359293022450365\n",
      "len: 211 , 211\n",
      "confusion_matrix: \n",
      "[[103.  66.]\n",
      " [  9.  33.]]\n",
      "AUC: \n",
      "0.7550014088475628\n",
      "\n"
     ]
    },
    {
     "name": "stderr",
     "output_type": "stream",
     "text": [
      "[I 2019-08-21 08:03:41,205] Finished trial#93 resulted in value: -0.7550014088475628. Current best value is -0.7554240631163709 with parameters: {'C_val': 0.00014949831640649017}.\n"
     ]
    },
    {
     "name": "stdout",
     "output_type": "stream",
     "text": [
      " C_val:0.0001578840002856028\n",
      "len: 211 , 211\n",
      "confusion_matrix: \n",
      "[[102.  67.]\n",
      " [  9.  33.]]\n",
      "AUC: \n",
      "0.7552831783601014\n",
      "\n"
     ]
    },
    {
     "name": "stderr",
     "output_type": "stream",
     "text": [
      "[I 2019-08-21 08:03:51,121] Finished trial#94 resulted in value: -0.7552831783601014. Current best value is -0.7554240631163709 with parameters: {'C_val': 0.00014949831640649017}.\n"
     ]
    },
    {
     "name": "stdout",
     "output_type": "stream",
     "text": [
      " C_val:0.00023594081324399186\n",
      "len: 211 , 211\n",
      "confusion_matrix: \n",
      "[[103.  66.]\n",
      " [  9.  33.]]\n",
      "AUC: \n",
      "0.7550014088475627\n",
      "\n"
     ]
    },
    {
     "name": "stderr",
     "output_type": "stream",
     "text": [
      "[I 2019-08-21 08:04:00,723] Finished trial#95 resulted in value: -0.7550014088475627. Current best value is -0.7554240631163709 with parameters: {'C_val': 0.00014949831640649017}.\n"
     ]
    },
    {
     "name": "stdout",
     "output_type": "stream",
     "text": [
      " C_val:6.48067529647601e-05\n",
      "len: 211 , 211\n",
      "confusion_matrix: \n",
      "[[97. 72.]\n",
      " [ 9. 33.]]\n",
      "AUC: \n",
      "0.7547196393350238\n",
      "\n"
     ]
    },
    {
     "name": "stderr",
     "output_type": "stream",
     "text": [
      "[I 2019-08-21 08:04:09,520] Finished trial#96 resulted in value: -0.7547196393350238. Current best value is -0.7554240631163709 with parameters: {'C_val': 0.00014949831640649017}.\n"
     ]
    },
    {
     "name": "stdout",
     "output_type": "stream",
     "text": [
      " C_val:9.155942339714705e-05\n",
      "len: 211 , 211\n",
      "confusion_matrix: \n",
      "[[100.  69.]\n",
      " [  9.  33.]]\n",
      "AUC: \n",
      "0.755142293603832\n",
      "\n"
     ]
    },
    {
     "name": "stderr",
     "output_type": "stream",
     "text": [
      "[I 2019-08-21 08:04:18,269] Finished trial#97 resulted in value: -0.755142293603832. Current best value is -0.7554240631163709 with parameters: {'C_val': 0.00014949831640649017}.\n"
     ]
    },
    {
     "name": "stdout",
     "output_type": "stream",
     "text": [
      " C_val:0.00015188562523587657\n",
      "len: 211 , 211\n",
      "confusion_matrix: \n",
      "[[102.  67.]\n",
      " [  9.  33.]]\n",
      "AUC: \n",
      "0.7554240631163709\n",
      "\n"
     ]
    },
    {
     "name": "stderr",
     "output_type": "stream",
     "text": [
      "[I 2019-08-21 08:04:26,705] Finished trial#98 resulted in value: -0.7554240631163709. Current best value is -0.7554240631163709 with parameters: {'C_val': 0.00014949831640649017}.\n"
     ]
    },
    {
     "name": "stdout",
     "output_type": "stream",
     "text": [
      " C_val:0.0002855249660229359\n",
      "len: 211 , 211\n",
      "confusion_matrix: \n",
      "[[103.  66.]\n",
      " [  9.  33.]]\n",
      "AUC: \n",
      "0.7542969850662158\n",
      "\n"
     ]
    },
    {
     "name": "stderr",
     "output_type": "stream",
     "text": [
      "[I 2019-08-21 08:04:35,360] Finished trial#99 resulted in value: -0.7542969850662158. Current best value is -0.7554240631163709 with parameters: {'C_val': 0.00014949831640649017}.\n"
     ]
    },
    {
     "name": "stdout",
     "output_type": "stream",
     "text": [
      "FrozenTrial(number=13, state=<TrialState.COMPLETE: 1>, value=-0.7554240631163709, datetime_start=datetime.datetime(2019, 8, 21, 7, 51, 23, 313213), datetime_complete=datetime.datetime(2019, 8, 21, 7, 51, 31, 769785), params={'C_val': 0.00014949831640649017}, distributions={'C_val': UniformDistribution(low=1e-05, high=0.001)}, user_attrs={}, system_attrs={'_number': 13}, intermediate_values={}, params_in_internal_repr={'C_val': 0.00014949831640649017}, trial_id=13)\n"
     ]
    }
   ],
   "source": [
    "if __name__ == \"__main__\":\n",
    "    main()"
   ]
  },
  {
   "cell_type": "markdown",
   "metadata": {},
   "source": [
    "# 結果\n",
    "C = 0.001"
   ]
  },
  {
   "cell_type": "code",
   "execution_count": null,
   "metadata": {},
   "outputs": [],
   "source": [
    "# l2 liblinear (共線性あり)\n",
    "#  best value is -0.7550014088475626 with parameters: {'C_val': 0.00025433628983389037}.\n",
    "\n",
    "# saga l1ration\n",
    "# best value is -0.7434488588334741 with parameters: {'C_val': 0.00012028884882182497, 'l1_ratio': 0.0004895734071039444}.\n",
    "\n",
    "#liblinear l2\n",
    "# best value is -0.7503522118906735 with parameters: {'C_val': 0.00010009919430783164}."
   ]
  },
  {
   "cell_type": "code",
   "execution_count": null,
   "metadata": {},
   "outputs": [],
   "source": []
  }
 ],
 "metadata": {
  "kernelspec": {
   "display_name": "Python 3",
   "language": "python",
   "name": "python3"
  },
  "language_info": {
   "codemirror_mode": {
    "name": "ipython",
    "version": 3
   },
   "file_extension": ".py",
   "mimetype": "text/x-python",
   "name": "python",
   "nbconvert_exporter": "python",
   "pygments_lexer": "ipython3",
   "version": "3.6.8"
  }
 },
 "nbformat": 4,
 "nbformat_minor": 2
}
