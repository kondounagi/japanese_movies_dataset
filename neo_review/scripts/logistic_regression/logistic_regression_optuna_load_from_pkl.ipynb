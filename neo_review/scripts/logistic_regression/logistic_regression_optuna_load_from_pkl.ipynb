{
 "cells": [
  {
   "cell_type": "code",
   "execution_count": 45,
   "metadata": {},
   "outputs": [],
   "source": [
    "import numpy as np\n",
    "import json\n",
    "import csv\n",
    "import pandas as pd\n",
    "import matplotlib.pyplot as plt\n",
    "from sklearn.linear_model import LogisticRegression\n",
    "from sklearn.metrics import confusion_matrix\n",
    "from sklearn.preprocessing import StandardScaler\n",
    "from sklearn.metrics import roc_auc_score\n",
    "from sklearn.metrics import roc_curve\n",
    "import optuna\n",
    "%matplotlib inline"
   ]
  },
  {
   "cell_type": "code",
   "execution_count": 46,
   "metadata": {},
   "outputs": [],
   "source": [
    "def load_data(y):\n",
    "    path = '../../data/std_data/'\n",
    "    x_train_std = pd.read_pickle(path +'train/{}_x.pkl'.format(str(y))).values\n",
    "    x_test_std = pd.read_pickle(path +'test/{}_x.pkl'.format(str(y))).values\n",
    "    y_train = pd.read_pickle(path +'train/{}_y.pkl'.format(str(y))).values\n",
    "    y_test = pd.read_pickle(path +'test/{}_y.pkl'.format(str(y))).values\n",
    "    features = pd.read_pickle(path +'train/{}_x.pkl'.format(str(y))).columns\n",
    "    return x_train_std, x_test_std, y_train, y_test, features"
   ]
  },
  {
   "cell_type": "code",
   "execution_count": 47,
   "metadata": {},
   "outputs": [],
   "source": [
    "def print_weight_map(weight, features):\n",
    "    # feature importance\n",
    "    feature_imp = weight.reshape(features.shape)\n",
    "    feature_imp_arg = np.argsort(feature_imp)\n",
    "    f_num = len(feature_imp_arg)\n",
    "    plt.rcParams[\"font.family\"] = \"IPAexGothic\"\n",
    "    plt.figure(figsize=(20,20))\n",
    "    plt.barh(range(len(feature_imp_arg)), feature_imp[feature_imp_arg], color='b', align='center')\n",
    "    plt.yticks(range(len(feature_imp_arg)), features[feature_imp_arg])\n",
    "    plt.show()"
   ]
  },
  {
   "cell_type": "code",
   "execution_count": 48,
   "metadata": {},
   "outputs": [],
   "source": [
    "def plot_roc_curve(fpr, tpr, auc):\n",
    "    # ROC曲線をプロット\n",
    "    plt.plot(fpr, tpr, label='ROC curve (area = %.2f)'%auc)\n",
    "    plt.legend()\n",
    "    plt.title('ROC curve')\n",
    "    plt.xlabel('False Positive Rate')\n",
    "    plt.ylabel('True Positive Rate')\n",
    "    plt.grid(True)\n",
    "    plt.show()"
   ]
  },
  {
   "cell_type": "code",
   "execution_count": 54,
   "metadata": {},
   "outputs": [],
   "source": [
    "# optunaで最適なC_valを探す\n",
    "\n",
    "def train(trial):\n",
    "    \n",
    "    th_prob = 0.5\n",
    "    C_val = trial.suggest_uniform('C_val', 0.00001, 0.0001)\n",
    "    \n",
    "    print(\" C_val:{}\".format(C_val))\n",
    "    \n",
    "    cm_all = np.zeros((2, 2))\n",
    "    \n",
    "    # 予測した確率全体を格納\n",
    "    probs_all = np.array([])\n",
    "    y_true_all = np.array([])\n",
    "    \n",
    "    for y in range(1978, 2020):\n",
    "        \n",
    "        x_train_std, x_test_std, y_train, y_test, features = load_data(y)\n",
    "        \n",
    "        # 学習\n",
    "        lr = LogisticRegression(class_weight=\"balanced\", solver=\"liblinear\",  penalty=\"l2\", C=C_val) # ロジスティック回帰モデルのインスタンスを作成\n",
    "\n",
    "        lr.fit(x_train_std, y_train) # ロジスティック回帰モデルの重みを学習\n",
    "        \n",
    "        # 予測(確率)\n",
    "        probs = lr.predict_proba(x_test_std)\n",
    "        probs_all = np.hstack((probs_all, probs[:,1]))\n",
    "        y_true_all = np.hstack((y_true_all, y_test))\n",
    "\n",
    "        # 混同行列\n",
    "        y_pred = np.where((probs[:,1] ==  max(probs[:,1])) | (probs[:,1] > th_prob), 1, 0) #確率→0/1\n",
    "        cm = confusion_matrix(y_true=y_test, y_pred=y_pred)\n",
    "        cm_all += cm\n",
    "        \n",
    "       # 各特徴量の重み係数\n",
    "        weight = lr.coef_\n",
    "        \n",
    "        \n",
    "#         print_weight_map(weight, features)\n",
    "\n",
    "    auc = roc_auc_score(y_true_all, probs_all)\n",
    "    fpr, tpr, thresholds = roc_curve(y_true_all, probs_all)\n",
    "    \n",
    "#     print_weight_map(weight, features)\n",
    "#     plot_roc_curve(fpr, tpr, auc)\n",
    "    \n",
    "#     print(\"len: {0} , {1}\".format(len(y_true_all), len(probs_all) ))\n",
    "#     print(\"confusion_matrix: \")\n",
    "#     print(cm_all)\n",
    "#     print(\"AUC: \")\n",
    "#     print(auc)\n",
    "#     print()\n",
    "    return -auc"
   ]
  },
  {
   "cell_type": "code",
   "execution_count": 50,
   "metadata": {},
   "outputs": [],
   "source": [
    "# from sklearn.utils.testing import ignore_warnings\n",
    "# from sklearn.exceptions import ConvergenceWarning\n",
    "# @ignore_warnings(category=ConvergenceWarning)\n",
    "def main():\n",
    "    np.set_printoptions(precision=3, suppress=True)\n",
    "    study = optuna.create_study()\n",
    "    study.optimize(train, n_trials=100)\n",
    "    print(study.best_trial)"
   ]
  },
  {
   "cell_type": "code",
   "execution_count": 51,
   "metadata": {
    "scrolled": false
   },
   "outputs": [
    {
     "name": "stdout",
     "output_type": "stream",
     "text": [
      " C_val:0.3525798674357871\n"
     ]
    },
    {
     "name": "stderr",
     "output_type": "stream",
     "text": [
      "[I 2019-08-23 01:42:12,853] Finished trial#0 resulted in value: -0.6293322062552832. Current best value is -0.6293322062552832 with parameters: {'C_val': 0.3525798674357871, 'l1_ratio': 0.7063360278300304}.\n"
     ]
    },
    {
     "name": "stdout",
     "output_type": "stream",
     "text": [
      " C_val:0.0019865883386039826\n"
     ]
    },
    {
     "name": "stderr",
     "output_type": "stream",
     "text": [
      "[I 2019-08-23 01:42:13,166] Finished trial#1 resulted in value: -0.5011975204282897. Current best value is -0.6293322062552832 with parameters: {'C_val': 0.3525798674357871, 'l1_ratio': 0.7063360278300304}.\n"
     ]
    },
    {
     "name": "stdout",
     "output_type": "stream",
     "text": [
      " C_val:0.24285830690831434\n"
     ]
    },
    {
     "name": "stderr",
     "output_type": "stream",
     "text": [
      "[I 2019-08-23 01:42:14,284] Finished trial#2 resulted in value: -0.6431389123696816. Current best value is -0.6431389123696816 with parameters: {'C_val': 0.24285830690831434, 'l1_ratio': 0.054920371171700455}.\n"
     ]
    },
    {
     "name": "stdout",
     "output_type": "stream",
     "text": [
      " C_val:0.8822931887617277\n"
     ]
    },
    {
     "name": "stderr",
     "output_type": "stream",
     "text": [
      "[I 2019-08-23 01:42:15,408] Finished trial#3 resulted in value: -0.6210200056353902. Current best value is -0.6431389123696816 with parameters: {'C_val': 0.24285830690831434, 'l1_ratio': 0.054920371171700455}.\n"
     ]
    },
    {
     "name": "stdout",
     "output_type": "stream",
     "text": [
      " C_val:0.7854618957521097\n"
     ]
    },
    {
     "name": "stderr",
     "output_type": "stream",
     "text": [
      "[I 2019-08-23 01:42:16,517] Finished trial#4 resulted in value: -0.6249647788109327. Current best value is -0.6431389123696816 with parameters: {'C_val': 0.24285830690831434, 'l1_ratio': 0.054920371171700455}.\n"
     ]
    },
    {
     "name": "stdout",
     "output_type": "stream",
     "text": [
      " C_val:0.6539436812304811\n"
     ]
    },
    {
     "name": "stderr",
     "output_type": "stream",
     "text": [
      "[I 2019-08-23 01:42:17,644] Finished trial#5 resulted in value: -0.6263736263736263. Current best value is -0.6431389123696816 with parameters: {'C_val': 0.24285830690831434, 'l1_ratio': 0.054920371171700455}.\n"
     ]
    },
    {
     "name": "stdout",
     "output_type": "stream",
     "text": [
      " C_val:0.8043529723474802\n"
     ]
    },
    {
     "name": "stderr",
     "output_type": "stream",
     "text": [
      "[I 2019-08-23 01:42:18,773] Finished trial#6 resulted in value: -0.6225697379543533. Current best value is -0.6431389123696816 with parameters: {'C_val': 0.24285830690831434, 'l1_ratio': 0.054920371171700455}.\n"
     ]
    },
    {
     "name": "stdout",
     "output_type": "stream",
     "text": [
      " C_val:0.3448372075642425\n"
     ]
    },
    {
     "name": "stderr",
     "output_type": "stream",
     "text": [
      "[I 2019-08-23 01:42:19,914] Finished trial#7 resulted in value: -0.6331360946745561. Current best value is -0.6431389123696816 with parameters: {'C_val': 0.24285830690831434, 'l1_ratio': 0.054920371171700455}.\n"
     ]
    },
    {
     "name": "stdout",
     "output_type": "stream",
     "text": [
      " C_val:0.5697353309283172\n"
     ]
    },
    {
     "name": "stderr",
     "output_type": "stream",
     "text": [
      "[I 2019-08-23 01:42:21,081] Finished trial#8 resulted in value: -0.6259509721048182. Current best value is -0.6431389123696816 with parameters: {'C_val': 0.24285830690831434, 'l1_ratio': 0.054920371171700455}.\n"
     ]
    },
    {
     "name": "stdout",
     "output_type": "stream",
     "text": [
      " C_val:0.29144543202882917\n"
     ]
    },
    {
     "name": "stderr",
     "output_type": "stream",
     "text": [
      "[I 2019-08-23 01:42:22,188] Finished trial#9 resulted in value: -0.6271484925331079. Current best value is -0.6431389123696816 with parameters: {'C_val': 0.24285830690831434, 'l1_ratio': 0.054920371171700455}.\n"
     ]
    },
    {
     "name": "stdout",
     "output_type": "stream",
     "text": [
      " C_val:0.017004932015508095\n"
     ]
    },
    {
     "name": "stderr",
     "output_type": "stream",
     "text": [
      "[I 2019-08-23 01:42:22,685] Finished trial#10 resulted in value: -0.5824175824175823. Current best value is -0.6431389123696816 with parameters: {'C_val': 0.24285830690831434, 'l1_ratio': 0.054920371171700455}.\n"
     ]
    },
    {
     "name": "stdout",
     "output_type": "stream",
     "text": [
      " C_val:0.2233292862056509\n"
     ]
    },
    {
     "name": "stderr",
     "output_type": "stream",
     "text": [
      "[I 2019-08-23 01:42:23,765] Finished trial#11 resulted in value: -0.6389123696816005. Current best value is -0.6431389123696816 with parameters: {'C_val': 0.24285830690831434, 'l1_ratio': 0.054920371171700455}.\n"
     ]
    },
    {
     "name": "stdout",
     "output_type": "stream",
     "text": [
      " C_val:0.17418739424041457\n"
     ]
    },
    {
     "name": "stderr",
     "output_type": "stream",
     "text": [
      "[I 2019-08-23 01:42:24,904] Finished trial#12 resulted in value: -0.6406029867568329. Current best value is -0.6431389123696816 with parameters: {'C_val': 0.24285830690831434, 'l1_ratio': 0.054920371171700455}.\n"
     ]
    },
    {
     "name": "stdout",
     "output_type": "stream",
     "text": [
      " C_val:0.12668981273293056\n"
     ]
    },
    {
     "name": "stderr",
     "output_type": "stream",
     "text": [
      "[I 2019-08-23 01:42:25,928] Finished trial#13 resulted in value: -0.6451112989574528. Current best value is -0.6451112989574528 with parameters: {'C_val': 0.12668981273293056, 'l1_ratio': 0.23120774219200077}.\n"
     ]
    },
    {
     "name": "stdout",
     "output_type": "stream",
     "text": [
      " C_val:0.10291733613186155\n"
     ]
    },
    {
     "name": "stderr",
     "output_type": "stream",
     "text": [
      "[I 2019-08-23 01:42:26,907] Finished trial#14 resulted in value: -0.6503240349394197. Current best value is -0.6503240349394197 with parameters: {'C_val': 0.10291733613186155, 'l1_ratio': 0.20191994394718937}.\n"
     ]
    },
    {
     "name": "stdout",
     "output_type": "stream",
     "text": [
      " C_val:0.09086830914818722\n"
     ]
    },
    {
     "name": "stderr",
     "output_type": "stream",
     "text": [
      "[I 2019-08-23 01:42:27,728] Finished trial#15 resulted in value: -0.6534234995773457. Current best value is -0.6534234995773457 with parameters: {'C_val': 0.09086830914818722, 'l1_ratio': 0.21582847855200288}.\n"
     ]
    },
    {
     "name": "stdout",
     "output_type": "stream",
     "text": [
      " C_val:0.07643389151908629\n"
     ]
    },
    {
     "name": "stderr",
     "output_type": "stream",
     "text": [
      "[I 2019-08-23 01:42:28,502] Finished trial#16 resulted in value: -0.6587771203155819. Current best value is -0.6587771203155819 with parameters: {'C_val': 0.07643389151908629, 'l1_ratio': 0.18142147243455736}.\n"
     ]
    },
    {
     "name": "stdout",
     "output_type": "stream",
     "text": [
      " C_val:0.44679814606228563\n"
     ]
    },
    {
     "name": "stderr",
     "output_type": "stream",
     "text": [
      "[I 2019-08-23 01:42:29,599] Finished trial#17 resulted in value: -0.6303183995491687. Current best value is -0.6587771203155819 with parameters: {'C_val': 0.07643389151908629, 'l1_ratio': 0.18142147243455736}.\n"
     ]
    },
    {
     "name": "stdout",
     "output_type": "stream",
     "text": [
      " C_val:0.017915997146316434\n"
     ]
    },
    {
     "name": "stderr",
     "output_type": "stream",
     "text": [
      "[I 2019-08-23 01:42:30,090] Finished trial#18 resulted in value: -0.5736122851507468. Current best value is -0.6587771203155819 with parameters: {'C_val': 0.07643389151908629, 'l1_ratio': 0.18142147243455736}.\n"
     ]
    },
    {
     "name": "stdout",
     "output_type": "stream",
     "text": [
      " C_val:0.45022120310597225\n"
     ]
    },
    {
     "name": "stderr",
     "output_type": "stream",
     "text": [
      "[I 2019-08-23 01:42:31,479] Finished trial#19 resulted in value: -0.6331360946745562. Current best value is -0.6587771203155819 with parameters: {'C_val': 0.07643389151908629, 'l1_ratio': 0.18142147243455736}.\n"
     ]
    },
    {
     "name": "stdout",
     "output_type": "stream",
     "text": [
      " C_val:0.08549919580797065\n"
     ]
    },
    {
     "name": "stderr",
     "output_type": "stream",
     "text": [
      "[I 2019-08-23 01:42:32,146] Finished trial#20 resulted in value: -0.6898422090729783. Current best value is -0.6898422090729783 with parameters: {'C_val': 0.08549919580797065, 'l1_ratio': 0.5728470067796118}.\n"
     ]
    },
    {
     "name": "stdout",
     "output_type": "stream",
     "text": [
      " C_val:0.08936895925128759\n"
     ]
    },
    {
     "name": "stderr",
     "output_type": "stream",
     "text": [
      "[I 2019-08-23 01:42:32,812] Finished trial#21 resulted in value: -0.685193012116089. Current best value is -0.6898422090729783 with parameters: {'C_val': 0.08549919580797065, 'l1_ratio': 0.5728470067796118}.\n"
     ]
    },
    {
     "name": "stdout",
     "output_type": "stream",
     "text": [
      " C_val:0.0015001638578197585\n"
     ]
    },
    {
     "name": "stderr",
     "output_type": "stream",
     "text": [
      "[I 2019-08-23 01:42:33,155] Finished trial#22 resulted in value: -0.4980980557903634. Current best value is -0.6898422090729783 with parameters: {'C_val': 0.08549919580797065, 'l1_ratio': 0.5728470067796118}.\n"
     ]
    },
    {
     "name": "stdout",
     "output_type": "stream",
     "text": [
      " C_val:0.09554393386160288\n"
     ]
    },
    {
     "name": "stderr",
     "output_type": "stream",
     "text": [
      "[I 2019-08-23 01:42:33,872] Finished trial#23 resulted in value: -0.69392786700479. Current best value is -0.69392786700479 with parameters: {'C_val': 0.09554393386160288, 'l1_ratio': 0.8078825214298757}.\n"
     ]
    },
    {
     "name": "stdout",
     "output_type": "stream",
     "text": [
      " C_val:0.19119427062396838\n"
     ]
    },
    {
     "name": "stderr",
     "output_type": "stream",
     "text": [
      "[I 2019-08-23 01:42:35,038] Finished trial#24 resulted in value: -0.6487038602423217. Current best value is -0.69392786700479 with parameters: {'C_val': 0.09554393386160288, 'l1_ratio': 0.8078825214298757}.\n"
     ]
    },
    {
     "name": "stdout",
     "output_type": "stream",
     "text": [
      " C_val:0.30441907922502615\n"
     ]
    },
    {
     "name": "stderr",
     "output_type": "stream",
     "text": [
      "[I 2019-08-23 01:42:36,144] Finished trial#25 resulted in value: -0.6253874330797407. Current best value is -0.69392786700479 with parameters: {'C_val': 0.09554393386160288, 'l1_ratio': 0.8078825214298757}.\n"
     ]
    },
    {
     "name": "stdout",
     "output_type": "stream",
     "text": [
      " C_val:0.14917256500647455\n"
     ]
    },
    {
     "name": "stderr",
     "output_type": "stream",
     "text": [
      "[I 2019-08-23 01:42:37,172] Finished trial#26 resulted in value: -0.6473654550577627. Current best value is -0.69392786700479 with parameters: {'C_val': 0.09554393386160288, 'l1_ratio': 0.8078825214298757}.\n"
     ]
    },
    {
     "name": "stdout",
     "output_type": "stream",
     "text": [
      " C_val:0.05538144573349892\n"
     ]
    },
    {
     "name": "stderr",
     "output_type": "stream",
     "text": [
      "[I 2019-08-23 01:42:37,748] Finished trial#27 resulted in value: -0.6436320090166244. Current best value is -0.69392786700479 with parameters: {'C_val': 0.09554393386160288, 'l1_ratio': 0.8078825214298757}.\n"
     ]
    },
    {
     "name": "stdout",
     "output_type": "stream",
     "text": [
      " C_val:0.40210015603119126\n"
     ]
    },
    {
     "name": "stderr",
     "output_type": "stream",
     "text": [
      "[I 2019-08-23 01:42:38,894] Finished trial#28 resulted in value: -0.6306001690617076. Current best value is -0.69392786700479 with parameters: {'C_val': 0.09554393386160288, 'l1_ratio': 0.8078825214298757}.\n"
     ]
    },
    {
     "name": "stdout",
     "output_type": "stream",
     "text": [
      " C_val:0.27300890529355976\n"
     ]
    },
    {
     "name": "stderr",
     "output_type": "stream",
     "text": [
      "[I 2019-08-23 01:42:39,989] Finished trial#29 resulted in value: -0.6265145111298958. Current best value is -0.69392786700479 with parameters: {'C_val': 0.09554393386160288, 'l1_ratio': 0.8078825214298757}.\n"
     ]
    },
    {
     "name": "stdout",
     "output_type": "stream",
     "text": [
      " C_val:0.5658855516748047\n"
     ]
    },
    {
     "name": "stderr",
     "output_type": "stream",
     "text": [
      "[I 2019-08-23 01:42:41,100] Finished trial#30 resulted in value: -0.626232741617357. Current best value is -0.69392786700479 with parameters: {'C_val': 0.09554393386160288, 'l1_ratio': 0.8078825214298757}.\n"
     ]
    },
    {
     "name": "stdout",
     "output_type": "stream",
     "text": [
      " C_val:0.07428855493544206\n"
     ]
    },
    {
     "name": "stderr",
     "output_type": "stream",
     "text": [
      "[I 2019-08-23 01:42:41,806] Finished trial#31 resulted in value: -0.6751197520428289. Current best value is -0.69392786700479 with parameters: {'C_val': 0.09554393386160288, 'l1_ratio': 0.8078825214298757}.\n"
     ]
    },
    {
     "name": "stdout",
     "output_type": "stream",
     "text": [
      " C_val:0.15400107601298343\n"
     ]
    },
    {
     "name": "stderr",
     "output_type": "stream",
     "text": [
      "[I 2019-08-23 01:42:42,795] Finished trial#32 resulted in value: -0.6365173288250211. Current best value is -0.69392786700479 with parameters: {'C_val': 0.09554393386160288, 'l1_ratio': 0.8078825214298757}.\n"
     ]
    },
    {
     "name": "stdout",
     "output_type": "stream",
     "text": [
      " C_val:0.056871248295381274\n"
     ]
    },
    {
     "name": "stderr",
     "output_type": "stream",
     "text": [
      "[I 2019-08-23 01:42:43,312] Finished trial#33 resulted in value: -0.6320090166244012. Current best value is -0.69392786700479 with parameters: {'C_val': 0.09554393386160288, 'l1_ratio': 0.8078825214298757}.\n"
     ]
    },
    {
     "name": "stdout",
     "output_type": "stream",
     "text": [
      " C_val:0.006099141078885081\n"
     ]
    },
    {
     "name": "stderr",
     "output_type": "stream",
     "text": [
      "[I 2019-08-23 01:42:43,638] Finished trial#34 resulted in value: -0.5027472527472527. Current best value is -0.69392786700479 with parameters: {'C_val': 0.09554393386160288, 'l1_ratio': 0.8078825214298757}.\n"
     ]
    },
    {
     "name": "stdout",
     "output_type": "stream",
     "text": [
      " C_val:0.21865850186681665\n"
     ]
    },
    {
     "name": "stderr",
     "output_type": "stream",
     "text": [
      "[I 2019-08-23 01:42:44,775] Finished trial#35 resulted in value: -0.6275007044237814. Current best value is -0.69392786700479 with parameters: {'C_val': 0.09554393386160288, 'l1_ratio': 0.8078825214298757}.\n"
     ]
    },
    {
     "name": "stdout",
     "output_type": "stream",
     "text": [
      " C_val:0.12005825304811261\n"
     ]
    },
    {
     "name": "stderr",
     "output_type": "stream",
     "text": [
      "[I 2019-08-23 01:42:45,679] Finished trial#36 resulted in value: -0.6476472245703014. Current best value is -0.69392786700479 with parameters: {'C_val': 0.09554393386160288, 'l1_ratio': 0.8078825214298757}.\n"
     ]
    },
    {
     "name": "stdout",
     "output_type": "stream",
     "text": [
      " C_val:0.9602347920722447\n"
     ]
    },
    {
     "name": "stderr",
     "output_type": "stream",
     "text": [
      "[I 2019-08-23 01:42:46,807] Finished trial#37 resulted in value: -0.6196111580726965. Current best value is -0.69392786700479 with parameters: {'C_val': 0.09554393386160288, 'l1_ratio': 0.8078825214298757}.\n"
     ]
    },
    {
     "name": "stdout",
     "output_type": "stream",
     "text": [
      " C_val:0.24455215299640842\n"
     ]
    },
    {
     "name": "stderr",
     "output_type": "stream",
     "text": [
      "[I 2019-08-23 01:42:47,951] Finished trial#38 resulted in value: -0.630741053817977. Current best value is -0.69392786700479 with parameters: {'C_val': 0.09554393386160288, 'l1_ratio': 0.8078825214298757}.\n"
     ]
    },
    {
     "name": "stdout",
     "output_type": "stream",
     "text": [
      " C_val:0.3429199837607307\n"
     ]
    },
    {
     "name": "stderr",
     "output_type": "stream",
     "text": [
      "[I 2019-08-23 01:42:49,058] Finished trial#39 resulted in value: -0.6327134404057482. Current best value is -0.69392786700479 with parameters: {'C_val': 0.09554393386160288, 'l1_ratio': 0.8078825214298757}.\n"
     ]
    },
    {
     "name": "stdout",
     "output_type": "stream",
     "text": [
      " C_val:0.04766183528193732\n"
     ]
    },
    {
     "name": "stderr",
     "output_type": "stream",
     "text": [
      "[I 2019-08-23 01:42:49,570] Finished trial#40 resulted in value: -0.6263736263736264. Current best value is -0.69392786700479 with parameters: {'C_val': 0.09554393386160288, 'l1_ratio': 0.8078825214298757}.\n"
     ]
    },
    {
     "name": "stdout",
     "output_type": "stream",
     "text": [
      " C_val:0.07352883056284955\n"
     ]
    },
    {
     "name": "stderr",
     "output_type": "stream",
     "text": [
      "[I 2019-08-23 01:42:50,315] Finished trial#41 resulted in value: -0.672865595942519. Current best value is -0.69392786700479 with parameters: {'C_val': 0.09554393386160288, 'l1_ratio': 0.8078825214298757}.\n"
     ]
    },
    {
     "name": "stdout",
     "output_type": "stream",
     "text": [
      " C_val:0.1709423766085244\n"
     ]
    },
    {
     "name": "stderr",
     "output_type": "stream",
     "text": [
      "[I 2019-08-23 01:42:51,393] Finished trial#42 resulted in value: -0.638771484925331. Current best value is -0.69392786700479 with parameters: {'C_val': 0.09554393386160288, 'l1_ratio': 0.8078825214298757}.\n"
     ]
    },
    {
     "name": "stdout",
     "output_type": "stream",
     "text": [
      " C_val:0.0009808083706168147\n"
     ]
    },
    {
     "name": "stderr",
     "output_type": "stream",
     "text": [
      "[I 2019-08-23 01:42:51,701] Finished trial#43 resulted in value: -0.49894336432797975. Current best value is -0.69392786700479 with parameters: {'C_val': 0.09554393386160288, 'l1_ratio': 0.8078825214298757}.\n"
     ]
    },
    {
     "name": "stdout",
     "output_type": "stream",
     "text": [
      " C_val:0.10106089374392013\n"
     ]
    },
    {
     "name": "stderr",
     "output_type": "stream",
     "text": [
      "[I 2019-08-23 01:42:52,536] Finished trial#44 resulted in value: -0.6514511129895746. Current best value is -0.69392786700479 with parameters: {'C_val': 0.09554393386160288, 'l1_ratio': 0.8078825214298757}.\n"
     ]
    },
    {
     "name": "stdout",
     "output_type": "stream",
     "text": [
      " C_val:0.2061051635637714\n"
     ]
    },
    {
     "name": "stderr",
     "output_type": "stream",
     "text": [
      "[I 2019-08-23 01:42:53,679] Finished trial#45 resulted in value: -0.6320090166244013. Current best value is -0.69392786700479 with parameters: {'C_val': 0.09554393386160288, 'l1_ratio': 0.8078825214298757}.\n"
     ]
    },
    {
     "name": "stdout",
     "output_type": "stream",
     "text": [
      " C_val:0.04591389636052436\n"
     ]
    },
    {
     "name": "stderr",
     "output_type": "stream",
     "text": [
      "[I 2019-08-23 01:42:54,262] Finished trial#46 resulted in value: -0.7022400676246829. Current best value is -0.7022400676246829 with parameters: {'C_val': 0.04591389636052436, 'l1_ratio': 0.29540230168626913}.\n"
     ]
    },
    {
     "name": "stdout",
     "output_type": "stream",
     "text": [
      " C_val:0.1442730892403361\n"
     ]
    },
    {
     "name": "stderr",
     "output_type": "stream",
     "text": [
      "[I 2019-08-23 01:42:55,231] Finished trial#47 resulted in value: -0.6415891800507184. Current best value is -0.7022400676246829 with parameters: {'C_val': 0.04591389636052436, 'l1_ratio': 0.29540230168626913}.\n"
     ]
    },
    {
     "name": "stdout",
     "output_type": "stream",
     "text": [
      " C_val:0.7307348321367452\n"
     ]
    },
    {
     "name": "stderr",
     "output_type": "stream",
     "text": [
      "[I 2019-08-23 01:42:56,387] Finished trial#48 resulted in value: -0.6232741617357002. Current best value is -0.7022400676246829 with parameters: {'C_val': 0.04591389636052436, 'l1_ratio': 0.29540230168626913}.\n"
     ]
    },
    {
     "name": "stdout",
     "output_type": "stream",
     "text": [
      " C_val:0.036626122736352816\n"
     ]
    },
    {
     "name": "stderr",
     "output_type": "stream",
     "text": [
      "[I 2019-08-23 01:42:56,889] Finished trial#49 resulted in value: -0.6253874330797408. Current best value is -0.7022400676246829 with parameters: {'C_val': 0.04591389636052436, 'l1_ratio': 0.29540230168626913}.\n"
     ]
    },
    {
     "name": "stdout",
     "output_type": "stream",
     "text": [
      " C_val:0.26946053356772925\n"
     ]
    },
    {
     "name": "stderr",
     "output_type": "stream",
     "text": [
      "[I 2019-08-23 01:42:58,060] Finished trial#50 resulted in value: -0.6279233586925894. Current best value is -0.7022400676246829 with parameters: {'C_val': 0.04591389636052436, 'l1_ratio': 0.29540230168626913}.\n"
     ]
    },
    {
     "name": "stdout",
     "output_type": "stream",
     "text": [
      " C_val:0.08153317191559241\n"
     ]
    },
    {
     "name": "stderr",
     "output_type": "stream",
     "text": [
      "[I 2019-08-23 01:42:58,821] Finished trial#51 resulted in value: -0.6569456184840801. Current best value is -0.7022400676246829 with parameters: {'C_val': 0.04591389636052436, 'l1_ratio': 0.29540230168626913}.\n"
     ]
    },
    {
     "name": "stdout",
     "output_type": "stream",
     "text": [
      " C_val:0.11616058671556706\n"
     ]
    },
    {
     "name": "stderr",
     "output_type": "stream",
     "text": [
      "[I 2019-08-23 01:42:59,718] Finished trial#52 resulted in value: -0.6491969568892646. Current best value is -0.7022400676246829 with parameters: {'C_val': 0.04591389636052436, 'l1_ratio': 0.29540230168626913}.\n"
     ]
    },
    {
     "name": "stdout",
     "output_type": "stream",
     "text": [
      " C_val:0.0696264739038129\n"
     ]
    },
    {
     "name": "stderr",
     "output_type": "stream",
     "text": [
      "[I 2019-08-23 01:43:00,393] Finished trial#53 resulted in value: -0.6925190194420964. Current best value is -0.7022400676246829 with parameters: {'C_val': 0.04591389636052436, 'l1_ratio': 0.29540230168626913}.\n"
     ]
    },
    {
     "name": "stdout",
     "output_type": "stream",
     "text": [
      " C_val:0.013201722794900991\n"
     ]
    },
    {
     "name": "stderr",
     "output_type": "stream",
     "text": [
      "[I 2019-08-23 01:43:00,775] Finished trial#54 resulted in value: -0.5011975204282897. Current best value is -0.7022400676246829 with parameters: {'C_val': 0.04591389636052436, 'l1_ratio': 0.29540230168626913}.\n"
     ]
    },
    {
     "name": "stdout",
     "output_type": "stream",
     "text": [
      " C_val:0.19602040914834207\n"
     ]
    },
    {
     "name": "stderr",
     "output_type": "stream",
     "text": [
      "[I 2019-08-23 01:43:01,811] Finished trial#55 resulted in value: -0.6293322062552831. Current best value is -0.7022400676246829 with parameters: {'C_val': 0.04591389636052436, 'l1_ratio': 0.29540230168626913}.\n"
     ]
    },
    {
     "name": "stdout",
     "output_type": "stream",
     "text": [
      " C_val:0.11281065602190453\n"
     ]
    },
    {
     "name": "stderr",
     "output_type": "stream",
     "text": [
      "[I 2019-08-23 01:43:02,659] Finished trial#56 resulted in value: -0.6537052690898845. Current best value is -0.7022400676246829 with parameters: {'C_val': 0.04591389636052436, 'l1_ratio': 0.29540230168626913}.\n"
     ]
    },
    {
     "name": "stdout",
     "output_type": "stream",
     "text": [
      " C_val:0.03544806263508145\n"
     ]
    },
    {
     "name": "stderr",
     "output_type": "stream",
     "text": [
      "[I 2019-08-23 01:43:03,220] Finished trial#57 resulted in value: -0.6378557340095802. Current best value is -0.7022400676246829 with parameters: {'C_val': 0.04591389636052436, 'l1_ratio': 0.29540230168626913}.\n"
     ]
    },
    {
     "name": "stdout",
     "output_type": "stream",
     "text": [
      " C_val:0.1584853758707063\n"
     ]
    },
    {
     "name": "stderr",
     "output_type": "stream",
     "text": [
      "[I 2019-08-23 01:43:04,315] Finished trial#58 resulted in value: -0.6406029867568329. Current best value is -0.7022400676246829 with parameters: {'C_val': 0.04591389636052436, 'l1_ratio': 0.29540230168626913}.\n"
     ]
    },
    {
     "name": "stdout",
     "output_type": "stream",
     "text": [
      " C_val:0.08266656974889723\n"
     ]
    },
    {
     "name": "stderr",
     "output_type": "stream",
     "text": [
      "[I 2019-08-23 01:43:05,031] Finished trial#59 resulted in value: -0.6787827557058326. Current best value is -0.7022400676246829 with parameters: {'C_val': 0.04591389636052436, 'l1_ratio': 0.29540230168626913}.\n"
     ]
    },
    {
     "name": "stdout",
     "output_type": "stream",
     "text": [
      " C_val:0.12741660801933602\n"
     ]
    },
    {
     "name": "stderr",
     "output_type": "stream",
     "text": [
      "[I 2019-08-23 01:43:05,917] Finished trial#60 resulted in value: -0.6575091575091574. Current best value is -0.7022400676246829 with parameters: {'C_val': 0.04591389636052436, 'l1_ratio': 0.29540230168626913}.\n"
     ]
    },
    {
     "name": "stdout",
     "output_type": "stream",
     "text": [
      " C_val:0.0802715896986504\n"
     ]
    },
    {
     "name": "stderr",
     "output_type": "stream",
     "text": [
      "[I 2019-08-23 01:43:06,634] Finished trial#61 resulted in value: -0.6801916032685263. Current best value is -0.7022400676246829 with parameters: {'C_val': 0.04591389636052436, 'l1_ratio': 0.29540230168626913}.\n"
     ]
    },
    {
     "name": "stdout",
     "output_type": "stream",
     "text": [
      " C_val:0.03529594178038616\n"
     ]
    },
    {
     "name": "stderr",
     "output_type": "stream",
     "text": [
      "[I 2019-08-23 01:43:07,149] Finished trial#62 resulted in value: -0.6799098337559877. Current best value is -0.7022400676246829 with parameters: {'C_val': 0.04591389636052436, 'l1_ratio': 0.29540230168626913}.\n"
     ]
    },
    {
     "name": "stdout",
     "output_type": "stream",
     "text": [
      " C_val:0.04152414056825514\n"
     ]
    },
    {
     "name": "stderr",
     "output_type": "stream",
     "text": [
      "[I 2019-08-23 01:43:07,666] Finished trial#63 resulted in value: -0.6358129050436743. Current best value is -0.7022400676246829 with parameters: {'C_val': 0.04591389636052436, 'l1_ratio': 0.29540230168626913}.\n"
     ]
    },
    {
     "name": "stdout",
     "output_type": "stream",
     "text": [
      " C_val:0.0005939020383089605\n"
     ]
    },
    {
     "name": "stderr",
     "output_type": "stream",
     "text": [
      "[I 2019-08-23 01:43:07,984] Finished trial#64 resulted in value: -0.49781628627782476. Current best value is -0.7022400676246829 with parameters: {'C_val': 0.04591389636052436, 'l1_ratio': 0.29540230168626913}.\n"
     ]
    },
    {
     "name": "stdout",
     "output_type": "stream",
     "text": [
      " C_val:0.18303718452581189\n"
     ]
    },
    {
     "name": "stderr",
     "output_type": "stream",
     "text": [
      "[I 2019-08-23 01:43:09,095] Finished trial#65 resulted in value: -0.6359537897999437. Current best value is -0.7022400676246829 with parameters: {'C_val': 0.04591389636052436, 'l1_ratio': 0.29540230168626913}.\n"
     ]
    },
    {
     "name": "stdout",
     "output_type": "stream",
     "text": [
      " C_val:0.09897248447216156\n"
     ]
    },
    {
     "name": "stderr",
     "output_type": "stream",
     "text": [
      "[I 2019-08-23 01:43:09,887] Finished trial#66 resulted in value: -0.6655395886165117. Current best value is -0.7022400676246829 with parameters: {'C_val': 0.04591389636052436, 'l1_ratio': 0.29540230168626913}.\n"
     ]
    },
    {
     "name": "stdout",
     "output_type": "stream",
     "text": [
      " C_val:0.24368471798037944\n"
     ]
    },
    {
     "name": "stderr",
     "output_type": "stream",
     "text": [
      "[I 2019-08-23 01:43:11,071] Finished trial#67 resulted in value: -0.6336996336996338. Current best value is -0.7022400676246829 with parameters: {'C_val': 0.04591389636052436, 'l1_ratio': 0.29540230168626913}.\n"
     ]
    },
    {
     "name": "stdout",
     "output_type": "stream",
     "text": [
      " C_val:0.14000758879286718\n"
     ]
    },
    {
     "name": "stderr",
     "output_type": "stream",
     "text": [
      "[I 2019-08-23 01:43:12,048] Finished trial#68 resulted in value: -0.638348830656523. Current best value is -0.7022400676246829 with parameters: {'C_val': 0.04591389636052436, 'l1_ratio': 0.29540230168626913}.\n"
     ]
    },
    {
     "name": "stdout",
     "output_type": "stream",
     "text": [
      " C_val:0.024180100961443914\n"
     ]
    },
    {
     "name": "stderr",
     "output_type": "stream",
     "text": [
      "[I 2019-08-23 01:43:12,608] Finished trial#69 resulted in value: -0.70850943927867. Current best value is -0.70850943927867 with parameters: {'C_val': 0.024180100961443914, 'l1_ratio': 0.14543118301543237}.\n"
     ]
    },
    {
     "name": "stdout",
     "output_type": "stream",
     "text": [
      " C_val:0.0864855993750687\n"
     ]
    },
    {
     "name": "stderr",
     "output_type": "stream",
     "text": [
      "[I 2019-08-23 01:43:13,485] Finished trial#70 resulted in value: -0.6549732318963087. Current best value is -0.70850943927867 with parameters: {'C_val': 0.024180100961443914, 'l1_ratio': 0.14543118301543237}.\n"
     ]
    },
    {
     "name": "stdout",
     "output_type": "stream",
     "text": [
      " C_val:0.02948421754691058\n"
     ]
    },
    {
     "name": "stderr",
     "output_type": "stream",
     "text": [
      "[I 2019-08-23 01:43:14,120] Finished trial#71 resulted in value: -0.6837137221752607. Current best value is -0.70850943927867 with parameters: {'C_val': 0.024180100961443914, 'l1_ratio': 0.14543118301543237}.\n"
     ]
    },
    {
     "name": "stdout",
     "output_type": "stream",
     "text": [
      " C_val:0.058341775234663495\n"
     ]
    },
    {
     "name": "stderr",
     "output_type": "stream",
     "text": [
      "[I 2019-08-23 01:43:14,854] Finished trial#72 resulted in value: -0.6675119752042828. Current best value is -0.70850943927867 with parameters: {'C_val': 0.024180100961443914, 'l1_ratio': 0.14543118301543237}.\n"
     ]
    },
    {
     "name": "stdout",
     "output_type": "stream",
     "text": [
      " C_val:0.02247551367315516\n"
     ]
    },
    {
     "name": "stderr",
     "output_type": "stream",
     "text": [
      "[I 2019-08-23 01:43:15,463] Finished trial#73 resulted in value: -0.6892082276697661. Current best value is -0.70850943927867 with parameters: {'C_val': 0.024180100961443914, 'l1_ratio': 0.14543118301543237}.\n"
     ]
    },
    {
     "name": "stdout",
     "output_type": "stream",
     "text": [
      " C_val:0.0013248743598552049\n"
     ]
    },
    {
     "name": "stderr",
     "output_type": "stream",
     "text": [
      "[I 2019-08-23 01:43:15,990] Finished trial#74 resulted in value: -0.7279515356438432. Current best value is -0.7279515356438432 with parameters: {'C_val': 0.0013248743598552049, 'l1_ratio': 0.016466854182089014}.\n"
     ]
    },
    {
     "name": "stdout",
     "output_type": "stream",
     "text": [
      " C_val:0.016070228641148425\n"
     ]
    },
    {
     "name": "stderr",
     "output_type": "stream",
     "text": [
      "[I 2019-08-23 01:43:16,617] Finished trial#75 resulted in value: -0.6965342349957735. Current best value is -0.7279515356438432 with parameters: {'C_val': 0.0013248743598552049, 'l1_ratio': 0.016466854182089014}.\n"
     ]
    },
    {
     "name": "stdout",
     "output_type": "stream",
     "text": [
      " C_val:0.01670057785734032\n"
     ]
    },
    {
     "name": "stderr",
     "output_type": "stream",
     "text": [
      "[I 2019-08-23 01:43:17,174] Finished trial#76 resulted in value: -0.6965342349957736. Current best value is -0.7279515356438432 with parameters: {'C_val': 0.0013248743598552049, 'l1_ratio': 0.016466854182089014}.\n"
     ]
    },
    {
     "name": "stdout",
     "output_type": "stream",
     "text": [
      " C_val:0.0019062380556329177\n"
     ]
    },
    {
     "name": "stderr",
     "output_type": "stream",
     "text": [
      "[I 2019-08-23 01:43:17,632] Finished trial#77 resulted in value: -0.6339109608340379. Current best value is -0.7279515356438432 with parameters: {'C_val': 0.0013248743598552049, 'l1_ratio': 0.016466854182089014}.\n"
     ]
    },
    {
     "name": "stdout",
     "output_type": "stream",
     "text": [
      " C_val:0.0024975204390857136\n"
     ]
    },
    {
     "name": "stderr",
     "output_type": "stream",
     "text": [
      "[I 2019-08-23 01:43:18,199] Finished trial#78 resulted in value: -0.5019019442096365. Current best value is -0.7279515356438432 with parameters: {'C_val': 0.0013248743598552049, 'l1_ratio': 0.016466854182089014}.\n"
     ]
    },
    {
     "name": "stdout",
     "output_type": "stream",
     "text": [
      " C_val:0.0527727576978996\n"
     ]
    },
    {
     "name": "stderr",
     "output_type": "stream",
     "text": [
      "[I 2019-08-23 01:43:18,931] Finished trial#79 resulted in value: -0.6683572837418992. Current best value is -0.7279515356438432 with parameters: {'C_val': 0.0013248743598552049, 'l1_ratio': 0.016466854182089014}.\n"
     ]
    },
    {
     "name": "stdout",
     "output_type": "stream",
     "text": [
      " C_val:0.059281507213694185\n"
     ]
    },
    {
     "name": "stderr",
     "output_type": "stream",
     "text": [
      "[I 2019-08-23 01:43:19,716] Finished trial#80 resulted in value: -0.6675119752042828. Current best value is -0.7279515356438432 with parameters: {'C_val': 0.0013248743598552049, 'l1_ratio': 0.016466854182089014}.\n"
     ]
    },
    {
     "name": "stdout",
     "output_type": "stream",
     "text": [
      " C_val:0.025883838442266306\n"
     ]
    },
    {
     "name": "stderr",
     "output_type": "stream",
     "text": [
      "[I 2019-08-23 01:43:20,329] Finished trial#81 resulted in value: -0.6849816849816851. Current best value is -0.7279515356438432 with parameters: {'C_val': 0.0013248743598552049, 'l1_ratio': 0.016466854182089014}.\n"
     ]
    },
    {
     "name": "stdout",
     "output_type": "stream",
     "text": [
      " C_val:0.0006166771719882391\n"
     ]
    },
    {
     "name": "stderr",
     "output_type": "stream",
     "text": [
      "[I 2019-08-23 01:43:20,818] Finished trial#82 resulted in value: -0.7383770076077769. Current best value is -0.7383770076077769 with parameters: {'C_val': 0.0006166771719882391, 'l1_ratio': 0.003510689537417372}.\n"
     ]
    },
    {
     "name": "stdout",
     "output_type": "stream",
     "text": [
      " C_val:0.002098864061027087\n"
     ]
    },
    {
     "name": "stderr",
     "output_type": "stream",
     "text": [
      "[I 2019-08-23 01:43:21,312] Finished trial#83 resulted in value: -0.6655395886165117. Current best value is -0.7383770076077769 with parameters: {'C_val': 0.0006166771719882391, 'l1_ratio': 0.003510689537417372}.\n"
     ]
    },
    {
     "name": "stdout",
     "output_type": "stream",
     "text": [
      " C_val:0.11472391461219827\n"
     ]
    },
    {
     "name": "stderr",
     "output_type": "stream",
     "text": [
      "[I 2019-08-23 01:43:22,334] Finished trial#84 resulted in value: -0.6487743026204564. Current best value is -0.7383770076077769 with parameters: {'C_val': 0.0006166771719882391, 'l1_ratio': 0.003510689537417372}.\n"
     ]
    },
    {
     "name": "stdout",
     "output_type": "stream",
     "text": [
      " C_val:0.0691072852818576\n"
     ]
    },
    {
     "name": "stderr",
     "output_type": "stream",
     "text": [
      "[I 2019-08-23 01:43:23,185] Finished trial#85 resulted in value: -0.6615948154409693. Current best value is -0.7383770076077769 with parameters: {'C_val': 0.0006166771719882391, 'l1_ratio': 0.003510689537417372}.\n"
     ]
    },
    {
     "name": "stdout",
     "output_type": "stream",
     "text": [
      " C_val:0.1348044184249656\n"
     ]
    },
    {
     "name": "stderr",
     "output_type": "stream",
     "text": [
      "[I 2019-08-23 01:43:24,257] Finished trial#86 resulted in value: -0.6460974922513384. Current best value is -0.7383770076077769 with parameters: {'C_val': 0.0006166771719882391, 'l1_ratio': 0.003510689537417372}.\n"
     ]
    },
    {
     "name": "stdout",
     "output_type": "stream",
     "text": [
      " C_val:0.5296562581047113\n"
     ]
    },
    {
     "name": "stderr",
     "output_type": "stream",
     "text": [
      "[I 2019-08-23 01:43:25,455] Finished trial#87 resulted in value: -0.6307410538179768. Current best value is -0.7383770076077769 with parameters: {'C_val': 0.0006166771719882391, 'l1_ratio': 0.003510689537417372}.\n"
     ]
    },
    {
     "name": "stdout",
     "output_type": "stream",
     "text": [
      " C_val:0.022663981140416095\n"
     ]
    },
    {
     "name": "stderr",
     "output_type": "stream",
     "text": [
      "[I 2019-08-23 01:43:25,984] Finished trial#88 resulted in value: -0.7199211045364892. Current best value is -0.7383770076077769 with parameters: {'C_val': 0.0006166771719882391, 'l1_ratio': 0.003510689537417372}.\n"
     ]
    },
    {
     "name": "stdout",
     "output_type": "stream",
     "text": [
      " C_val:0.00034435844632621157\n"
     ]
    },
    {
     "name": "stderr",
     "output_type": "stream",
     "text": [
      "[I 2019-08-23 01:43:26,303] Finished trial#89 resulted in value: -0.4983798253029022. Current best value is -0.7383770076077769 with parameters: {'C_val': 0.0006166771719882391, 'l1_ratio': 0.003510689537417372}.\n"
     ]
    },
    {
     "name": "stdout",
     "output_type": "stream",
     "text": [
      " C_val:0.02054066584275091\n"
     ]
    },
    {
     "name": "stderr",
     "output_type": "stream",
     "text": [
      "[I 2019-08-23 01:43:26,830] Finished trial#90 resulted in value: -0.7152719075795998. Current best value is -0.7383770076077769 with parameters: {'C_val': 0.0006166771719882391, 'l1_ratio': 0.003510689537417372}.\n"
     ]
    },
    {
     "name": "stdout",
     "output_type": "stream",
     "text": [
      " C_val:0.028574121650493025\n"
     ]
    },
    {
     "name": "stderr",
     "output_type": "stream",
     "text": [
      "[I 2019-08-23 01:43:27,442] Finished trial#91 resulted in value: -0.7157650042265428. Current best value is -0.7383770076077769 with parameters: {'C_val': 0.0006166771719882391, 'l1_ratio': 0.003510689537417372}.\n"
     ]
    },
    {
     "name": "stdout",
     "output_type": "stream",
     "text": [
      " C_val:0.034926494702227175\n"
     ]
    },
    {
     "name": "stderr",
     "output_type": "stream",
     "text": [
      "[I 2019-08-23 01:43:28,048] Finished trial#92 resulted in value: -0.7093547478162864. Current best value is -0.7383770076077769 with parameters: {'C_val': 0.0006166771719882391, 'l1_ratio': 0.003510689537417372}.\n"
     ]
    },
    {
     "name": "stdout",
     "output_type": "stream",
     "text": [
      " C_val:0.029985527082506003\n"
     ]
    },
    {
     "name": "stderr",
     "output_type": "stream",
     "text": [
      "[I 2019-08-23 01:43:28,587] Finished trial#93 resulted in value: -0.7194984502676809. Current best value is -0.7383770076077769 with parameters: {'C_val': 0.0006166771719882391, 'l1_ratio': 0.003510689537417372}.\n"
     ]
    },
    {
     "name": "stdout",
     "output_type": "stream",
     "text": [
      " C_val:0.03150462253586685\n"
     ]
    },
    {
     "name": "stderr",
     "output_type": "stream",
     "text": [
      "[I 2019-08-23 01:43:29,133] Finished trial#94 resulted in value: -0.7168920822766977. Current best value is -0.7383770076077769 with parameters: {'C_val': 0.0006166771719882391, 'l1_ratio': 0.003510689537417372}.\n"
     ]
    },
    {
     "name": "stdout",
     "output_type": "stream",
     "text": [
      " C_val:0.6513778633826839\n"
     ]
    },
    {
     "name": "stderr",
     "output_type": "stream",
     "text": [
      "[I 2019-08-23 01:43:30,335] Finished trial#95 resulted in value: -0.6279233586925894. Current best value is -0.7383770076077769 with parameters: {'C_val': 0.0006166771719882391, 'l1_ratio': 0.003510689537417372}.\n"
     ]
    },
    {
     "name": "stdout",
     "output_type": "stream",
     "text": [
      " C_val:0.047858369558339754\n"
     ]
    },
    {
     "name": "stderr",
     "output_type": "stream",
     "text": [
      "[I 2019-08-23 01:43:31,025] Finished trial#96 resulted in value: -0.6904761904761904. Current best value is -0.7383770076077769 with parameters: {'C_val': 0.0006166771719882391, 'l1_ratio': 0.003510689537417372}.\n"
     ]
    },
    {
     "name": "stdout",
     "output_type": "stream",
     "text": [
      " C_val:0.044608141616651595\n"
     ]
    },
    {
     "name": "stderr",
     "output_type": "stream",
     "text": [
      "[I 2019-08-23 01:43:31,666] Finished trial#97 resulted in value: -0.699070160608622. Current best value is -0.7383770076077769 with parameters: {'C_val': 0.0006166771719882391, 'l1_ratio': 0.003510689537417372}.\n"
     ]
    },
    {
     "name": "stdout",
     "output_type": "stream",
     "text": [
      " C_val:0.10443771618656783\n"
     ]
    },
    {
     "name": "stderr",
     "output_type": "stream",
     "text": [
      "[I 2019-08-23 01:43:32,560] Finished trial#98 resulted in value: -0.6501831501831501. Current best value is -0.7383770076077769 with parameters: {'C_val': 0.0006166771719882391, 'l1_ratio': 0.003510689537417372}.\n"
     ]
    },
    {
     "name": "stdout",
     "output_type": "stream",
     "text": [
      " C_val:0.028100717035856107\n"
     ]
    },
    {
     "name": "stderr",
     "output_type": "stream",
     "text": [
      "[I 2019-08-23 01:43:33,108] Finished trial#99 resulted in value: -0.7206255283178359. Current best value is -0.7383770076077769 with parameters: {'C_val': 0.0006166771719882391, 'l1_ratio': 0.003510689537417372}.\n"
     ]
    },
    {
     "name": "stdout",
     "output_type": "stream",
     "text": [
      "FrozenTrial(number=82, state=<TrialState.COMPLETE: 1>, value=-0.7383770076077769, datetime_start=datetime.datetime(2019, 8, 23, 1, 43, 20, 332483), datetime_complete=datetime.datetime(2019, 8, 23, 1, 43, 20, 809710), params={'C_val': 0.0006166771719882391, 'l1_ratio': 0.003510689537417372}, distributions={'C_val': UniformDistribution(low=1e-05, high=1), 'l1_ratio': UniformDistribution(low=0, high=1)}, user_attrs={}, system_attrs={'_number': 82}, intermediate_values={}, params_in_internal_repr={'C_val': 0.0006166771719882391, 'l1_ratio': 0.003510689537417372}, trial_id=82)\n"
     ]
    }
   ],
   "source": [
    "if __name__ == \"__main__\":\n",
    "    main()"
   ]
  },
  {
   "cell_type": "markdown",
   "metadata": {},
   "source": [
    "# 結果\n",
    "C = 0.00003"
   ]
  },
  {
   "cell_type": "code",
   "execution_count": 53,
   "metadata": {},
   "outputs": [],
   "source": [
    "# solver=\"liblinear\",  penalty=\"l2\",\n",
    "#best value is -0.7483798253029023 with parameters: {'C_val': 2.9301597434339928e-05}.\n",
    "\n",
    "# l1 and l2\n",
    "# best value is -0.7383770076077769 with parameters: {'C_val': 0.0006166771719882391, 'l1_ratio': 0.003510689537417372}."
   ]
  },
  {
   "cell_type": "code",
   "execution_count": null,
   "metadata": {},
   "outputs": [],
   "source": []
  }
 ],
 "metadata": {
  "kernelspec": {
   "display_name": "Python 3",
   "language": "python",
   "name": "python3"
  },
  "language_info": {
   "codemirror_mode": {
    "name": "ipython",
    "version": 3
   },
   "file_extension": ".py",
   "mimetype": "text/x-python",
   "name": "python",
   "nbconvert_exporter": "python",
   "pygments_lexer": "ipython3",
   "version": "3.6.8"
  }
 },
 "nbformat": 4,
 "nbformat_minor": 4
}
