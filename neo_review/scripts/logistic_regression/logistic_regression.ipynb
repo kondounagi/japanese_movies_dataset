{
 "cells": [
  {
   "cell_type": "code",
   "execution_count": 14,
   "metadata": {},
   "outputs": [],
   "source": [
    "import numpy as np\n",
    "import json\n",
    "import csv\n",
    "import pandas as pd\n",
    "import matplotlib.pyplot as plt\n",
    "from sklearn.linear_model import LogisticRegression\n",
    "from sklearn.metrics import confusion_matrix\n",
    "from sklearn.preprocessing import StandardScaler\n",
    "from sklearn.metrics import roc_auc_score\n",
    "from sklearn.metrics import roc_curve\n",
    "import optuna\n",
    "%matplotlib inline"
   ]
  },
  {
   "cell_type": "code",
   "execution_count": 42,
   "metadata": {},
   "outputs": [],
   "source": [
    "def load_data():\n",
    "    data = pd.read_pickle('../../data/dataframes/data.pkl')\n",
    "    nomination_onehot = pd.read_pickle('../../data/dataframes/nomination_onehot.pkl')\n",
    "    selected_performers_onehot = pd.read_pickle('../../data/dataframes/selected_performers_onehot.pkl')\n",
    "    selected_directors_onehot = pd.read_pickle('../../data/dataframes/selected_directors_onehot.pkl')\n",
    "    selected_studio_onehot = pd.read_pickle('../../data/dataframes/selected_studio_onehot.pkl')\n",
    "    selected_scriptwriter_onehot = pd.read_pickle('../../data/dataframes/selected_scriptwriter_onehot.pkl')\n",
    "    review_dataframe = pd.read_pickle('../../data/dataframes/review_dataframe.pkl')\n",
    "\n",
    "    \n",
    "    # selected_directors_onehotとselected_scriptwriter_onehotの重複した人\n",
    "    duplicate_scriptwriter = set(selected_directors_onehot.columns) & set(selected_scriptwriter_onehot.columns)\n",
    "    selected_scriptwriter_onehot = selected_scriptwriter_onehot.drop(duplicate_scriptwriter, axis=1)\n",
    "    \n",
    "    frames = [nomination_onehot,selected_performers_onehot,selected_directors_onehot,selected_studio_onehot,selected_scriptwriter_onehot]\n",
    "\n",
    "    df = data\n",
    "    for f in frames:\n",
    "        df = pd.merge(df, f, on='id')\n",
    "    \n",
    "    drop_elements = [\"director\", \"other_nominates\", \"performers\", \"production_studio\", \"scriptwriter\", \"title\",  'selected_performers', 'selected_directors', 'selected_studio',\n",
    "       'selected_scriptwriter']\n",
    "    df_drop = df.drop(drop_elements, axis=1)\n",
    "\n",
    "    return df_drop, data"
   ]
  },
  {
   "cell_type": "code",
   "execution_count": 43,
   "metadata": {},
   "outputs": [],
   "source": [
    "def standard(x_train, x_test):\n",
    "    stdsc = StandardScaler()\n",
    "\n",
    "    # 訓練用のデータを標準化\n",
    "    x_train_std = stdsc.fit_transform(x_train)\n",
    "    # 訓練用データを基準にテストデータも標準化\n",
    "    x_test_std = stdsc.transform(x_test)\n",
    "    \n",
    "    return x_train_std, x_test_std"
   ]
  },
  {
   "cell_type": "code",
   "execution_count": 44,
   "metadata": {},
   "outputs": [],
   "source": [
    "# 多重共線性の排除 (共分散0.7以上のfeatureを削除)\n",
    "\n",
    "def collinearity(X):\n",
    "\n",
    "    # 改善前\n",
    "#     cor=np.corrcoef(X.T)\n",
    "#     type(cor)\n",
    "#     plt.figure(figsize=(20, 20))\n",
    "#     sns.heatmap(cor, vmin=0.70,vmax=1,cmap=plt.cm.Spectral_r)\n",
    "\n",
    "    # 改善\n",
    "    drop_clm = ['吉田一夫']\n",
    "    X = X.drop(drop_clm,  axis=1)\n",
    "\n",
    "    # 改善後\n",
    "    \n",
    "#     cor=np.corrcoef(X.T)\n",
    "#     type(cor)\n",
    "#     plt.figure(figsize=(20, 20))\n",
    "#     sns.heatmap(cor, vmin=0.80,vmax=1,cmap=plt.cm.Spectral_r)\n",
    "    \n",
    "    return X"
   ]
  },
  {
   "cell_type": "code",
   "execution_count": 45,
   "metadata": {},
   "outputs": [],
   "source": [
    "def data_processing(test_year):\n",
    "    df, data = load_data()\n",
    "    \n",
    "    df = collinearity(df)\n",
    "    \n",
    "    train = df.loc[df[\"year\"] != test_year]\n",
    "    test = df.loc[df[\"year\"] == test_year]\n",
    "    \n",
    "    # 入力データの作成\n",
    "    y_train = train['prize'].ravel()\n",
    "    x_train = train.drop(['prize', 'year'], axis=1)\n",
    "    \n",
    "    features = x_train.columns\n",
    "    \n",
    "    x_train = x_train.values # 学習データ\n",
    "    \n",
    "    # テストデータの作成\n",
    "    y_test = test['prize'].ravel()\n",
    "    x_test = test.drop(['prize', 'year'], axis=1)\n",
    "    x_test = x_test.values # テストデータ\n",
    "\n",
    "    # データの標準化\n",
    "    x_train_std, x_test_std = standard(x_train, x_test)\n",
    "    \n",
    "    return x_train_std, x_test_std, y_train, y_test, features"
   ]
  },
  {
   "cell_type": "code",
   "execution_count": 46,
   "metadata": {},
   "outputs": [],
   "source": [
    "def print_weight_map(weight, features):\n",
    "    # feature importance\n",
    "    feature_imp = weight.reshape(features.shape)\n",
    "    feature_imp_arg = np.argsort(feature_imp)\n",
    "    f_num = len(feature_imp_arg)\n",
    "    plt.rcParams[\"font.family\"] = \"IPAexGothic\"\n",
    "    plt.figure(figsize=(20,20))\n",
    "    plt.barh(range(len(feature_imp_arg)), feature_imp[feature_imp_arg], color='b', align='center')\n",
    "    plt.yticks(range(len(feature_imp_arg)), features[feature_imp_arg])\n",
    "    plt.show()"
   ]
  },
  {
   "cell_type": "code",
   "execution_count": 47,
   "metadata": {},
   "outputs": [],
   "source": [
    "def plot_roc_curve(fpr, tpr, auc):\n",
    "    # ROC曲線をプロット\n",
    "    plt.plot(fpr, tpr, label='ROC curve (area = %.2f)'%auc)\n",
    "    plt.legend()\n",
    "    plt.title('ROC curve')\n",
    "    plt.xlabel('False Positive Rate')\n",
    "    plt.ylabel('True Positive Rate')\n",
    "    plt.grid(True)\n",
    "    plt.show()"
   ]
  },
  {
   "cell_type": "code",
   "execution_count": 48,
   "metadata": {},
   "outputs": [],
   "source": [
    "# optunaで最適なC_valを探す\n",
    "\n",
    "def train(trial):\n",
    "    \n",
    "    th_prob = 0.5\n",
    "    C_val = trial.suggest_uniform('C_val', 0.0001, 0.001)\n",
    "    \n",
    "    print(\" C_val:{}\".format(C_val))\n",
    "    \n",
    "    cm_all = np.zeros((2, 2))\n",
    "    \n",
    "    # 予測した確率全体を格納\n",
    "    probs_all = np.array([])\n",
    "    y_true_all = np.array([])\n",
    "    \n",
    "    for y in range(1978, 2020):\n",
    "        \n",
    "        # データの生成\n",
    "        x_train_std, x_test_std, y_train, y_test, features = data_processing(y)\n",
    "        \n",
    "        # 学習\n",
    "        lr = LogisticRegression(class_weight=\"balanced\", solver=\"liblinear\",  penalty=\"l2\", C=C_val) # ロジスティック回帰モデルのインスタンスを作成\n",
    "        lr.fit(x_train_std, y_train) # ロジスティック回帰モデルの重みを学習\n",
    "        \n",
    "        # 予測(確率)\n",
    "        probs = lr.predict_proba(x_test_std)\n",
    "        probs_all = np.hstack((probs_all, probs[:,1]))\n",
    "        y_true_all = np.hstack((y_true_all, y_test))\n",
    "\n",
    "        # 混同行列\n",
    "        y_pred = np.where((probs[:,1] ==  max(probs[:,1])) | (probs[:,1] > th_prob), 1, 0) #確率→0/1\n",
    "        cm = confusion_matrix(y_true=y_test, y_pred=y_pred)\n",
    "        cm_all += cm\n",
    "        \n",
    "       # 各特徴量の重み係数\n",
    "        weight = lr.coef_\n",
    "        \n",
    "        \n",
    "#         print_weight_map(weight, features)\n",
    "\n",
    "    auc = roc_auc_score(y_true_all, probs_all)\n",
    "    fpr, tpr, thresholds = roc_curve(y_true_all, probs_all)\n",
    "    \n",
    "#     plot_roc_curve(fpr, tpr, auc)\n",
    "    \n",
    "    print(\"len: {0} , {1}\".format(len(y_true_all), len(probs_all) ))\n",
    "    print(\"confusion_matrix: \")\n",
    "    print(cm_all)\n",
    "    print(\"AUC: \")\n",
    "    print(auc)\n",
    "    print()\n",
    "    return -auc"
   ]
  },
  {
   "cell_type": "code",
   "execution_count": 49,
   "metadata": {},
   "outputs": [],
   "source": [
    "def main():\n",
    "    np.set_printoptions(precision=3, suppress=True)\n",
    "    study = optuna.create_study()\n",
    "    study.optimize(train, n_trials=100)\n",
    "    print(study.best_trial)"
   ]
  },
  {
   "cell_type": "code",
   "execution_count": 50,
   "metadata": {
    "scrolled": true
   },
   "outputs": [
    {
     "name": "stdout",
     "output_type": "stream",
     "text": [
      " C_val:0.00025271262055805117\n",
      "len: 211 , 211\n",
      "confusion_matrix: \n",
      "[[117.  52.]\n",
      " [ 11.  31.]]\n",
      "AUC: \n",
      "0.7495069033530573\n",
      "\n"
     ]
    },
    {
     "name": "stderr",
     "output_type": "stream",
     "text": [
      "[I 2019-08-21 05:36:28,282] Finished trial#0 resulted in value: -0.7495069033530573. Current best value is -0.7495069033530573 with parameters: {'C_val': 0.00025271262055805117}.\n"
     ]
    },
    {
     "name": "stdout",
     "output_type": "stream",
     "text": [
      " C_val:0.0006792193249104638\n",
      "len: 211 , 211\n",
      "confusion_matrix: \n",
      "[[116.  53.]\n",
      " [ 12.  30.]]\n",
      "AUC: \n",
      "0.7455621301775147\n",
      "\n"
     ]
    },
    {
     "name": "stderr",
     "output_type": "stream",
     "text": [
      "[I 2019-08-21 05:36:36,496] Finished trial#1 resulted in value: -0.7455621301775147. Current best value is -0.7495069033530573 with parameters: {'C_val': 0.00025271262055805117}.\n"
     ]
    },
    {
     "name": "stdout",
     "output_type": "stream",
     "text": [
      " C_val:0.0005948896837861526\n",
      "len: 211 , 211\n",
      "confusion_matrix: \n",
      "[[116.  53.]\n",
      " [ 12.  30.]]\n",
      "AUC: \n",
      "0.7455621301775148\n",
      "\n"
     ]
    },
    {
     "name": "stderr",
     "output_type": "stream",
     "text": [
      "[I 2019-08-21 05:36:44,736] Finished trial#2 resulted in value: -0.7455621301775148. Current best value is -0.7495069033530573 with parameters: {'C_val': 0.00025271262055805117}.\n"
     ]
    },
    {
     "name": "stdout",
     "output_type": "stream",
     "text": [
      " C_val:0.0009605980642725278\n",
      "len: 211 , 211\n",
      "confusion_matrix: \n",
      "[[116.  53.]\n",
      " [ 12.  30.]]\n",
      "AUC: \n",
      "0.7444350521273598\n",
      "\n"
     ]
    },
    {
     "name": "stderr",
     "output_type": "stream",
     "text": [
      "[I 2019-08-21 05:36:53,427] Finished trial#3 resulted in value: -0.7444350521273598. Current best value is -0.7495069033530573 with parameters: {'C_val': 0.00025271262055805117}.\n"
     ]
    },
    {
     "name": "stdout",
     "output_type": "stream",
     "text": [
      " C_val:0.000813216577507713\n",
      "len: 211 , 211\n",
      "confusion_matrix: \n",
      "[[116.  53.]\n",
      " [ 12.  30.]]\n",
      "AUC: \n",
      "0.7451394759087068\n",
      "\n"
     ]
    },
    {
     "name": "stderr",
     "output_type": "stream",
     "text": [
      "[I 2019-08-21 05:37:03,138] Finished trial#4 resulted in value: -0.7451394759087068. Current best value is -0.7495069033530573 with parameters: {'C_val': 0.00025271262055805117}.\n"
     ]
    },
    {
     "name": "stdout",
     "output_type": "stream",
     "text": [
      " C_val:0.0007081108486867844\n",
      "len: 211 , 211\n",
      "confusion_matrix: \n",
      "[[116.  53.]\n",
      " [ 12.  30.]]\n",
      "AUC: \n",
      "0.7457030149337841\n",
      "\n"
     ]
    },
    {
     "name": "stderr",
     "output_type": "stream",
     "text": [
      "[I 2019-08-21 05:37:14,126] Finished trial#5 resulted in value: -0.7457030149337841. Current best value is -0.7495069033530573 with parameters: {'C_val': 0.00025271262055805117}.\n"
     ]
    },
    {
     "name": "stdout",
     "output_type": "stream",
     "text": [
      " C_val:0.00025818649297937134\n",
      "len: 211 , 211\n",
      "confusion_matrix: \n",
      "[[116.  53.]\n",
      " [ 11.  31.]]\n",
      "AUC: \n",
      "0.7493660185967879\n",
      "\n"
     ]
    },
    {
     "name": "stderr",
     "output_type": "stream",
     "text": [
      "[I 2019-08-21 05:37:25,294] Finished trial#6 resulted in value: -0.7493660185967879. Current best value is -0.7495069033530573 with parameters: {'C_val': 0.00025271262055805117}.\n"
     ]
    },
    {
     "name": "stdout",
     "output_type": "stream",
     "text": [
      " C_val:0.0003962630268125411\n",
      "len: 211 , 211\n",
      "confusion_matrix: \n",
      "[[116.  53.]\n",
      " [ 11.  31.]]\n",
      "AUC: \n",
      "0.7483798253029023\n",
      "\n"
     ]
    },
    {
     "name": "stderr",
     "output_type": "stream",
     "text": [
      "[I 2019-08-21 05:37:35,028] Finished trial#7 resulted in value: -0.7483798253029023. Current best value is -0.7495069033530573 with parameters: {'C_val': 0.00025271262055805117}.\n"
     ]
    },
    {
     "name": "stdout",
     "output_type": "stream",
     "text": [
      " C_val:0.0009757614164001146\n",
      "len: 211 , 211\n",
      "confusion_matrix: \n",
      "[[116.  53.]\n",
      " [ 12.  30.]]\n",
      "AUC: \n",
      "0.7442941673710903\n",
      "\n"
     ]
    },
    {
     "name": "stderr",
     "output_type": "stream",
     "text": [
      "[I 2019-08-21 05:37:46,988] Finished trial#8 resulted in value: -0.7442941673710903. Current best value is -0.7495069033530573 with parameters: {'C_val': 0.00025271262055805117}.\n"
     ]
    },
    {
     "name": "stdout",
     "output_type": "stream",
     "text": [
      " C_val:0.0002888566719784081\n",
      "len: 211 , 211\n",
      "confusion_matrix: \n",
      "[[116.  53.]\n",
      " [ 11.  31.]]\n",
      "AUC: \n",
      "0.7490842490842492\n",
      "\n"
     ]
    },
    {
     "name": "stderr",
     "output_type": "stream",
     "text": [
      "[I 2019-08-21 05:37:55,693] Finished trial#9 resulted in value: -0.7490842490842492. Current best value is -0.7495069033530573 with parameters: {'C_val': 0.00025271262055805117}.\n"
     ]
    },
    {
     "name": "stdout",
     "output_type": "stream",
     "text": [
      " C_val:0.00010841244439671165\n",
      "len: 211 , 211\n",
      "confusion_matrix: \n",
      "[[117.  52.]\n",
      " [ 11.  31.]]\n",
      "AUC: \n",
      "0.7500704423781347\n",
      "\n"
     ]
    },
    {
     "name": "stderr",
     "output_type": "stream",
     "text": [
      "[I 2019-08-21 05:38:04,288] Finished trial#10 resulted in value: -0.7500704423781347. Current best value is -0.7500704423781347 with parameters: {'C_val': 0.00010841244439671165}.\n"
     ]
    },
    {
     "name": "stdout",
     "output_type": "stream",
     "text": [
      " C_val:0.00010009919430783164\n",
      "len: 211 , 211\n",
      "confusion_matrix: \n",
      "[[117.  52.]\n",
      " [ 11.  31.]]\n",
      "AUC: \n",
      "0.7503522118906735\n",
      "\n"
     ]
    },
    {
     "name": "stderr",
     "output_type": "stream",
     "text": [
      "[I 2019-08-21 05:38:13,997] Finished trial#11 resulted in value: -0.7503522118906735. Current best value is -0.7503522118906735 with parameters: {'C_val': 0.00010009919430783164}.\n"
     ]
    },
    {
     "name": "stdout",
     "output_type": "stream",
     "text": [
      " C_val:0.00010617655868066622\n",
      "len: 211 , 211\n",
      "confusion_matrix: \n",
      "[[117.  52.]\n",
      " [ 11.  31.]]\n",
      "AUC: \n",
      "0.7500704423781347\n",
      "\n"
     ]
    },
    {
     "name": "stderr",
     "output_type": "stream",
     "text": [
      "[I 2019-08-21 05:38:25,298] Finished trial#12 resulted in value: -0.7500704423781347. Current best value is -0.7503522118906735 with parameters: {'C_val': 0.00010009919430783164}.\n"
     ]
    },
    {
     "name": "stdout",
     "output_type": "stream",
     "text": [
      " C_val:0.00010064033194348454\n",
      "len: 211 , 211\n",
      "confusion_matrix: \n",
      "[[117.  52.]\n",
      " [ 11.  31.]]\n",
      "AUC: \n",
      "0.7502113271344041\n",
      "\n"
     ]
    },
    {
     "name": "stderr",
     "output_type": "stream",
     "text": [
      "[I 2019-08-21 05:38:34,496] Finished trial#13 resulted in value: -0.7502113271344041. Current best value is -0.7503522118906735 with parameters: {'C_val': 0.00010009919430783164}.\n"
     ]
    },
    {
     "name": "stdout",
     "output_type": "stream",
     "text": [
      " C_val:0.0001130051481733524\n",
      "len: 211 , 211\n",
      "confusion_matrix: \n",
      "[[117.  52.]\n",
      " [ 11.  31.]]\n",
      "AUC: \n",
      "0.7499295576218653\n",
      "\n"
     ]
    },
    {
     "name": "stderr",
     "output_type": "stream",
     "text": [
      "[I 2019-08-21 05:38:44,793] Finished trial#14 resulted in value: -0.7499295576218653. Current best value is -0.7503522118906735 with parameters: {'C_val': 0.00010009919430783164}.\n"
     ]
    },
    {
     "name": "stdout",
     "output_type": "stream",
     "text": [
      " C_val:0.00043400355211357434\n",
      "len: 211 , 211\n",
      "confusion_matrix: \n",
      "[[116.  53.]\n",
      " [ 11.  31.]]\n",
      "AUC: \n",
      "0.7478162862778247\n",
      "\n"
     ]
    },
    {
     "name": "stderr",
     "output_type": "stream",
     "text": [
      "[I 2019-08-21 05:38:53,257] Finished trial#15 resulted in value: -0.7478162862778247. Current best value is -0.7503522118906735 with parameters: {'C_val': 0.00010009919430783164}.\n"
     ]
    },
    {
     "name": "stdout",
     "output_type": "stream",
     "text": [
      " C_val:0.0001974547906184063\n",
      "len: 211 , 211\n",
      "confusion_matrix: \n",
      "[[117.  52.]\n",
      " [ 11.  31.]]\n",
      "AUC: \n",
      "0.7497886728655959\n",
      "\n"
     ]
    },
    {
     "name": "stderr",
     "output_type": "stream",
     "text": [
      "[I 2019-08-21 05:39:02,559] Finished trial#16 resulted in value: -0.7497886728655959. Current best value is -0.7503522118906735 with parameters: {'C_val': 0.00010009919430783164}.\n"
     ]
    },
    {
     "name": "stdout",
     "output_type": "stream",
     "text": [
      " C_val:0.0003763635864785141\n",
      "len: 211 , 211\n",
      "confusion_matrix: \n",
      "[[116.  53.]\n",
      " [ 11.  31.]]\n",
      "AUC: \n",
      "0.7485207100591715\n",
      "\n"
     ]
    },
    {
     "name": "stderr",
     "output_type": "stream",
     "text": [
      "[I 2019-08-21 05:39:11,774] Finished trial#17 resulted in value: -0.7485207100591715. Current best value is -0.7503522118906735 with parameters: {'C_val': 0.00010009919430783164}.\n"
     ]
    },
    {
     "name": "stdout",
     "output_type": "stream",
     "text": [
      " C_val:0.0004859897019015158\n",
      "len: 211 , 211\n",
      "confusion_matrix: \n",
      "[[116.  53.]\n",
      " [ 11.  31.]]\n",
      "AUC: \n",
      "0.7468300929839391\n",
      "\n"
     ]
    },
    {
     "name": "stderr",
     "output_type": "stream",
     "text": [
      "[I 2019-08-21 05:39:20,130] Finished trial#18 resulted in value: -0.7468300929839391. Current best value is -0.7503522118906735 with parameters: {'C_val': 0.00010009919430783164}.\n"
     ]
    },
    {
     "name": "stdout",
     "output_type": "stream",
     "text": [
      " C_val:0.000183814033361798\n",
      "len: 211 , 211\n",
      "confusion_matrix: \n",
      "[[117.  52.]\n",
      " [ 11.  31.]]\n",
      "AUC: \n",
      "0.7499295576218653\n",
      "\n"
     ]
    },
    {
     "name": "stderr",
     "output_type": "stream",
     "text": [
      "[I 2019-08-21 05:39:28,252] Finished trial#19 resulted in value: -0.7499295576218653. Current best value is -0.7503522118906735 with parameters: {'C_val': 0.00010009919430783164}.\n"
     ]
    },
    {
     "name": "stdout",
     "output_type": "stream",
     "text": [
      " C_val:0.00031680928475965654\n",
      "len: 211 , 211\n",
      "confusion_matrix: \n",
      "[[116.  53.]\n",
      " [ 11.  31.]]\n",
      "AUC: \n",
      "0.7488024795717104\n",
      "\n"
     ]
    },
    {
     "name": "stderr",
     "output_type": "stream",
     "text": [
      "[I 2019-08-21 05:39:37,575] Finished trial#20 resulted in value: -0.7488024795717104. Current best value is -0.7503522118906735 with parameters: {'C_val': 0.00010009919430783164}.\n"
     ]
    },
    {
     "name": "stdout",
     "output_type": "stream",
     "text": [
      " C_val:0.00010050403738704283\n",
      "len: 211 , 211\n",
      "confusion_matrix: \n",
      "[[117.  52.]\n",
      " [ 11.  31.]]\n",
      "AUC: \n",
      "0.7502113271344041\n",
      "\n"
     ]
    },
    {
     "name": "stderr",
     "output_type": "stream",
     "text": [
      "[I 2019-08-21 05:39:47,247] Finished trial#21 resulted in value: -0.7502113271344041. Current best value is -0.7503522118906735 with parameters: {'C_val': 0.00010009919430783164}.\n"
     ]
    },
    {
     "name": "stdout",
     "output_type": "stream",
     "text": [
      " C_val:0.00016729060539632783\n",
      "len: 211 , 211\n",
      "confusion_matrix: \n",
      "[[117.  52.]\n",
      " [ 11.  31.]]\n",
      "AUC: \n",
      "0.7502113271344042\n",
      "\n"
     ]
    },
    {
     "name": "stderr",
     "output_type": "stream",
     "text": [
      "[I 2019-08-21 05:39:56,714] Finished trial#22 resulted in value: -0.7502113271344042. Current best value is -0.7503522118906735 with parameters: {'C_val': 0.00010009919430783164}.\n"
     ]
    },
    {
     "name": "stdout",
     "output_type": "stream",
     "text": [
      " C_val:0.00018239510835715023\n",
      "len: 211 , 211\n",
      "confusion_matrix: \n",
      "[[117.  52.]\n",
      " [ 11.  31.]]\n",
      "AUC: \n",
      "0.7499295576218653\n",
      "\n"
     ]
    },
    {
     "name": "stderr",
     "output_type": "stream",
     "text": [
      "[I 2019-08-21 05:40:05,439] Finished trial#23 resulted in value: -0.7499295576218653. Current best value is -0.7503522118906735 with parameters: {'C_val': 0.00010009919430783164}.\n"
     ]
    },
    {
     "name": "stdout",
     "output_type": "stream",
     "text": [
      " C_val:0.00017538405041751722\n",
      "len: 211 , 211\n",
      "confusion_matrix: \n",
      "[[117.  52.]\n",
      " [ 11.  31.]]\n",
      "AUC: \n",
      "0.7499295576218653\n",
      "\n"
     ]
    },
    {
     "name": "stderr",
     "output_type": "stream",
     "text": [
      "[I 2019-08-21 05:40:15,699] Finished trial#24 resulted in value: -0.7499295576218653. Current best value is -0.7503522118906735 with parameters: {'C_val': 0.00010009919430783164}.\n"
     ]
    },
    {
     "name": "stdout",
     "output_type": "stream",
     "text": [
      " C_val:0.00010354389873386408\n",
      "len: 211 , 211\n",
      "confusion_matrix: \n",
      "[[117.  52.]\n",
      " [ 11.  31.]]\n",
      "AUC: \n",
      "0.7502113271344041\n",
      "\n"
     ]
    },
    {
     "name": "stderr",
     "output_type": "stream",
     "text": [
      "[I 2019-08-21 05:40:25,202] Finished trial#25 resulted in value: -0.7502113271344041. Current best value is -0.7503522118906735 with parameters: {'C_val': 0.00010009919430783164}.\n"
     ]
    },
    {
     "name": "stdout",
     "output_type": "stream",
     "text": [
      " C_val:0.00022701909641609209\n",
      "len: 211 , 211\n",
      "confusion_matrix: \n",
      "[[117.  52.]\n",
      " [ 11.  31.]]\n",
      "AUC: \n",
      "0.7495069033530574\n",
      "\n"
     ]
    },
    {
     "name": "stderr",
     "output_type": "stream",
     "text": [
      "[I 2019-08-21 05:40:34,817] Finished trial#26 resulted in value: -0.7495069033530574. Current best value is -0.7503522118906735 with parameters: {'C_val': 0.00010009919430783164}.\n"
     ]
    },
    {
     "name": "stdout",
     "output_type": "stream",
     "text": [
      " C_val:0.0003130609995010466\n",
      "len: 211 , 211\n",
      "confusion_matrix: \n",
      "[[116.  53.]\n",
      " [ 11.  31.]]\n",
      "AUC: \n",
      "0.7488024795717104\n",
      "\n"
     ]
    },
    {
     "name": "stderr",
     "output_type": "stream",
     "text": [
      "[I 2019-08-21 05:40:44,877] Finished trial#27 resulted in value: -0.7488024795717104. Current best value is -0.7503522118906735 with parameters: {'C_val': 0.00010009919430783164}.\n"
     ]
    },
    {
     "name": "stdout",
     "output_type": "stream",
     "text": [
      " C_val:0.00015784212887642141\n",
      "len: 211 , 211\n",
      "confusion_matrix: \n",
      "[[117.  52.]\n",
      " [ 11.  31.]]\n",
      "AUC: \n",
      "0.7503522118906735\n",
      "\n"
     ]
    },
    {
     "name": "stderr",
     "output_type": "stream",
     "text": [
      "[I 2019-08-21 05:40:52,780] Finished trial#28 resulted in value: -0.7503522118906735. Current best value is -0.7503522118906735 with parameters: {'C_val': 0.00010009919430783164}.\n"
     ]
    },
    {
     "name": "stdout",
     "output_type": "stream",
     "text": [
      " C_val:0.0003666841010944303\n",
      "len: 211 , 211\n",
      "confusion_matrix: \n",
      "[[116.  53.]\n",
      " [ 11.  31.]]\n",
      "AUC: \n",
      "0.7488024795717103\n",
      "\n"
     ]
    },
    {
     "name": "stderr",
     "output_type": "stream",
     "text": [
      "[I 2019-08-21 05:41:01,255] Finished trial#29 resulted in value: -0.7488024795717103. Current best value is -0.7503522118906735 with parameters: {'C_val': 0.00010009919430783164}.\n"
     ]
    },
    {
     "name": "stdout",
     "output_type": "stream",
     "text": [
      " C_val:0.00024424323611252715\n",
      "len: 211 , 211\n",
      "confusion_matrix: \n",
      "[[117.  52.]\n",
      " [ 11.  31.]]\n",
      "AUC: \n",
      "0.7496477881093266\n",
      "\n"
     ]
    },
    {
     "name": "stderr",
     "output_type": "stream",
     "text": [
      "[I 2019-08-21 05:41:09,586] Finished trial#30 resulted in value: -0.7496477881093266. Current best value is -0.7503522118906735 with parameters: {'C_val': 0.00010009919430783164}.\n"
     ]
    },
    {
     "name": "stdout",
     "output_type": "stream",
     "text": [
      " C_val:0.00014814741360641545\n",
      "len: 211 , 211\n",
      "confusion_matrix: \n",
      "[[117.  52.]\n",
      " [ 11.  31.]]\n",
      "AUC: \n",
      "0.7500704423781347\n",
      "\n"
     ]
    },
    {
     "name": "stderr",
     "output_type": "stream",
     "text": [
      "[I 2019-08-21 05:41:18,601] Finished trial#31 resulted in value: -0.7500704423781347. Current best value is -0.7503522118906735 with parameters: {'C_val': 0.00010009919430783164}.\n"
     ]
    },
    {
     "name": "stdout",
     "output_type": "stream",
     "text": [
      " C_val:0.00014757481672115726\n",
      "len: 211 , 211\n",
      "confusion_matrix: \n",
      "[[117.  52.]\n",
      " [ 11.  31.]]\n",
      "AUC: \n",
      "0.7500704423781347\n",
      "\n"
     ]
    },
    {
     "name": "stderr",
     "output_type": "stream",
     "text": [
      "[I 2019-08-21 05:41:27,308] Finished trial#32 resulted in value: -0.7500704423781347. Current best value is -0.7503522118906735 with parameters: {'C_val': 0.00010009919430783164}.\n"
     ]
    },
    {
     "name": "stdout",
     "output_type": "stream",
     "text": [
      " C_val:0.00023825204116431937\n",
      "len: 211 , 211\n",
      "confusion_matrix: \n",
      "[[117.  52.]\n",
      " [ 11.  31.]]\n",
      "AUC: \n",
      "0.7496477881093266\n",
      "\n"
     ]
    },
    {
     "name": "stderr",
     "output_type": "stream",
     "text": [
      "[I 2019-08-21 05:41:35,934] Finished trial#33 resulted in value: -0.7496477881093266. Current best value is -0.7503522118906735 with parameters: {'C_val': 0.00010009919430783164}.\n"
     ]
    },
    {
     "name": "stdout",
     "output_type": "stream",
     "text": [
      " C_val:0.0005495731296589715\n",
      "len: 211 , 211\n",
      "confusion_matrix: \n",
      "[[116.  53.]\n",
      " [ 12.  30.]]\n",
      "AUC: \n",
      "0.7466892082276697\n",
      "\n"
     ]
    },
    {
     "name": "stderr",
     "output_type": "stream",
     "text": [
      "[I 2019-08-21 05:41:44,396] Finished trial#34 resulted in value: -0.7466892082276697. Current best value is -0.7503522118906735 with parameters: {'C_val': 0.00010009919430783164}.\n"
     ]
    },
    {
     "name": "stdout",
     "output_type": "stream",
     "text": [
      " C_val:0.0008840721267994648\n",
      "len: 211 , 211\n",
      "confusion_matrix: \n",
      "[[116.  53.]\n",
      " [ 12.  30.]]\n",
      "AUC: \n",
      "0.745280360664976\n",
      "\n"
     ]
    },
    {
     "name": "stderr",
     "output_type": "stream",
     "text": [
      "[I 2019-08-21 05:41:53,153] Finished trial#35 resulted in value: -0.745280360664976. Current best value is -0.7503522118906735 with parameters: {'C_val': 0.00010009919430783164}.\n"
     ]
    },
    {
     "name": "stdout",
     "output_type": "stream",
     "text": [
      " C_val:0.00014765818107507616\n",
      "len: 211 , 211\n",
      "confusion_matrix: \n",
      "[[117.  52.]\n",
      " [ 11.  31.]]\n",
      "AUC: \n",
      "0.7500704423781347\n",
      "\n"
     ]
    },
    {
     "name": "stderr",
     "output_type": "stream",
     "text": [
      "[I 2019-08-21 05:42:02,132] Finished trial#36 resulted in value: -0.7500704423781347. Current best value is -0.7503522118906735 with parameters: {'C_val': 0.00010009919430783164}.\n"
     ]
    },
    {
     "name": "stdout",
     "output_type": "stream",
     "text": [
      " C_val:0.0006407314797315677\n",
      "len: 211 , 211\n",
      "confusion_matrix: \n",
      "[[116.  53.]\n",
      " [ 12.  30.]]\n",
      "AUC: \n",
      "0.7455621301775147\n",
      "\n"
     ]
    },
    {
     "name": "stderr",
     "output_type": "stream",
     "text": [
      "[I 2019-08-21 05:42:11,776] Finished trial#37 resulted in value: -0.7455621301775147. Current best value is -0.7503522118906735 with parameters: {'C_val': 0.00010009919430783164}.\n"
     ]
    },
    {
     "name": "stdout",
     "output_type": "stream",
     "text": [
      " C_val:0.00029137380169288546\n",
      "len: 211 , 211\n",
      "confusion_matrix: \n",
      "[[116.  53.]\n",
      " [ 11.  31.]]\n",
      "AUC: \n",
      "0.7490842490842492\n",
      "\n"
     ]
    },
    {
     "name": "stderr",
     "output_type": "stream",
     "text": [
      "[I 2019-08-21 05:42:21,091] Finished trial#38 resulted in value: -0.7490842490842492. Current best value is -0.7503522118906735 with parameters: {'C_val': 0.00010009919430783164}.\n"
     ]
    },
    {
     "name": "stdout",
     "output_type": "stream",
     "text": [
      " C_val:0.00021079639153992572\n",
      "len: 211 , 211\n",
      "confusion_matrix: \n",
      "[[117.  52.]\n",
      " [ 11.  31.]]\n",
      "AUC: \n",
      "0.7499295576218653\n",
      "\n"
     ]
    },
    {
     "name": "stderr",
     "output_type": "stream",
     "text": [
      "[I 2019-08-21 05:42:29,971] Finished trial#39 resulted in value: -0.7499295576218653. Current best value is -0.7503522118906735 with parameters: {'C_val': 0.00010009919430783164}.\n"
     ]
    },
    {
     "name": "stdout",
     "output_type": "stream",
     "text": [
      " C_val:0.00013718142883956992\n",
      "len: 211 , 211\n",
      "confusion_matrix: \n",
      "[[117.  52.]\n",
      " [ 11.  31.]]\n",
      "AUC: \n",
      "0.7500704423781347\n",
      "\n"
     ]
    },
    {
     "name": "stderr",
     "output_type": "stream",
     "text": [
      "[I 2019-08-21 05:42:39,938] Finished trial#40 resulted in value: -0.7500704423781347. Current best value is -0.7503522118906735 with parameters: {'C_val': 0.00010009919430783164}.\n"
     ]
    },
    {
     "name": "stdout",
     "output_type": "stream",
     "text": [
      " C_val:0.00010966690284272123\n",
      "len: 211 , 211\n",
      "confusion_matrix: \n",
      "[[117.  52.]\n",
      " [ 11.  31.]]\n",
      "AUC: \n",
      "0.7500704423781347\n",
      "\n"
     ]
    },
    {
     "name": "stderr",
     "output_type": "stream",
     "text": [
      "[I 2019-08-21 05:42:51,554] Finished trial#41 resulted in value: -0.7500704423781347. Current best value is -0.7503522118906735 with parameters: {'C_val': 0.00010009919430783164}.\n"
     ]
    },
    {
     "name": "stdout",
     "output_type": "stream",
     "text": [
      " C_val:0.0002589446272423125\n",
      "len: 211 , 211\n",
      "confusion_matrix: \n",
      "[[116.  53.]\n",
      " [ 11.  31.]]\n",
      "AUC: \n",
      "0.7492251338405185\n",
      "\n"
     ]
    },
    {
     "name": "stderr",
     "output_type": "stream",
     "text": [
      "[I 2019-08-21 05:42:59,777] Finished trial#42 resulted in value: -0.7492251338405185. Current best value is -0.7503522118906735 with parameters: {'C_val': 0.00010009919430783164}.\n"
     ]
    },
    {
     "name": "stdout",
     "output_type": "stream",
     "text": [
      " C_val:0.00010814374712969944\n",
      "len: 211 , 211\n",
      "confusion_matrix: \n",
      "[[117.  52.]\n",
      " [ 11.  31.]]\n",
      "AUC: \n",
      "0.7500704423781347\n",
      "\n"
     ]
    },
    {
     "name": "stderr",
     "output_type": "stream",
     "text": [
      "[I 2019-08-21 05:43:07,855] Finished trial#43 resulted in value: -0.7500704423781347. Current best value is -0.7503522118906735 with parameters: {'C_val': 0.00010009919430783164}.\n"
     ]
    },
    {
     "name": "stdout",
     "output_type": "stream",
     "text": [
      " C_val:0.00015497301304574133\n",
      "len: 211 , 211\n",
      "confusion_matrix: \n",
      "[[117.  52.]\n",
      " [ 11.  31.]]\n",
      "AUC: \n",
      "0.7502113271344041\n",
      "\n"
     ]
    },
    {
     "name": "stderr",
     "output_type": "stream",
     "text": [
      "[I 2019-08-21 05:43:16,883] Finished trial#44 resulted in value: -0.7502113271344041. Current best value is -0.7503522118906735 with parameters: {'C_val': 0.00010009919430783164}.\n"
     ]
    },
    {
     "name": "stdout",
     "output_type": "stream",
     "text": [
      " C_val:0.00010606990332516535\n",
      "len: 211 , 211\n",
      "confusion_matrix: \n",
      "[[117.  52.]\n",
      " [ 11.  31.]]\n",
      "AUC: \n",
      "0.7500704423781347\n",
      "\n"
     ]
    },
    {
     "name": "stderr",
     "output_type": "stream",
     "text": [
      "[I 2019-08-21 05:43:25,364] Finished trial#45 resulted in value: -0.7500704423781347. Current best value is -0.7503522118906735 with parameters: {'C_val': 0.00010009919430783164}.\n"
     ]
    },
    {
     "name": "stdout",
     "output_type": "stream",
     "text": [
      " C_val:0.0007427942704861698\n",
      "len: 211 , 211\n",
      "confusion_matrix: \n",
      "[[116.  53.]\n",
      " [ 12.  30.]]\n",
      "AUC: \n",
      "0.7458438996900535\n",
      "\n"
     ]
    },
    {
     "name": "stderr",
     "output_type": "stream",
     "text": [
      "[I 2019-08-21 05:43:34,053] Finished trial#46 resulted in value: -0.7458438996900535. Current best value is -0.7503522118906735 with parameters: {'C_val': 0.00010009919430783164}.\n"
     ]
    },
    {
     "name": "stdout",
     "output_type": "stream",
     "text": [
      " C_val:0.00034025773084575637\n",
      "len: 211 , 211\n",
      "confusion_matrix: \n",
      "[[116.  53.]\n",
      " [ 11.  31.]]\n",
      "AUC: \n",
      "0.7485207100591715\n",
      "\n"
     ]
    },
    {
     "name": "stderr",
     "output_type": "stream",
     "text": [
      "[I 2019-08-21 05:43:41,934] Finished trial#47 resulted in value: -0.7485207100591715. Current best value is -0.7503522118906735 with parameters: {'C_val': 0.00010009919430783164}.\n"
     ]
    },
    {
     "name": "stdout",
     "output_type": "stream",
     "text": [
      " C_val:0.000274958523191296\n",
      "len: 211 , 211\n",
      "confusion_matrix: \n",
      "[[116.  53.]\n",
      " [ 11.  31.]]\n",
      "AUC: \n",
      "0.7492251338405186\n",
      "\n"
     ]
    },
    {
     "name": "stderr",
     "output_type": "stream",
     "text": [
      "[I 2019-08-21 05:43:50,693] Finished trial#48 resulted in value: -0.7492251338405186. Current best value is -0.7503522118906735 with parameters: {'C_val': 0.00010009919430783164}.\n"
     ]
    },
    {
     "name": "stdout",
     "output_type": "stream",
     "text": [
      " C_val:0.0004321457340240285\n",
      "len: 211 , 211\n",
      "confusion_matrix: \n",
      "[[116.  53.]\n",
      " [ 11.  31.]]\n",
      "AUC: \n",
      "0.7478162862778247\n",
      "\n"
     ]
    },
    {
     "name": "stderr",
     "output_type": "stream",
     "text": [
      "[I 2019-08-21 05:43:59,664] Finished trial#49 resulted in value: -0.7478162862778247. Current best value is -0.7503522118906735 with parameters: {'C_val': 0.00010009919430783164}.\n"
     ]
    },
    {
     "name": "stdout",
     "output_type": "stream",
     "text": [
      " C_val:0.00017720806818715356\n",
      "len: 211 , 211\n",
      "confusion_matrix: \n",
      "[[117.  52.]\n",
      " [ 11.  31.]]\n",
      "AUC: \n",
      "0.7499295576218653\n",
      "\n"
     ]
    },
    {
     "name": "stderr",
     "output_type": "stream",
     "text": [
      "[I 2019-08-21 05:44:09,299] Finished trial#50 resulted in value: -0.7499295576218653. Current best value is -0.7503522118906735 with parameters: {'C_val': 0.00010009919430783164}.\n"
     ]
    },
    {
     "name": "stdout",
     "output_type": "stream",
     "text": [
      " C_val:0.0001105654443589307\n",
      "len: 211 , 211\n",
      "confusion_matrix: \n",
      "[[117.  52.]\n",
      " [ 11.  31.]]\n",
      "AUC: \n",
      "0.7500704423781347\n",
      "\n"
     ]
    },
    {
     "name": "stderr",
     "output_type": "stream",
     "text": [
      "[I 2019-08-21 05:44:18,760] Finished trial#51 resulted in value: -0.7500704423781347. Current best value is -0.7503522118906735 with parameters: {'C_val': 0.00010009919430783164}.\n"
     ]
    },
    {
     "name": "stdout",
     "output_type": "stream",
     "text": [
      " C_val:0.0001413312162663234\n",
      "len: 211 , 211\n",
      "confusion_matrix: \n",
      "[[117.  52.]\n",
      " [ 11.  31.]]\n",
      "AUC: \n",
      "0.7500704423781347\n",
      "\n"
     ]
    },
    {
     "name": "stderr",
     "output_type": "stream",
     "text": [
      "[I 2019-08-21 05:44:28,964] Finished trial#52 resulted in value: -0.7500704423781347. Current best value is -0.7503522118906735 with parameters: {'C_val': 0.00010009919430783164}.\n"
     ]
    },
    {
     "name": "stdout",
     "output_type": "stream",
     "text": [
      " C_val:0.00020718321057742046\n",
      "len: 211 , 211\n",
      "confusion_matrix: \n",
      "[[117.  52.]\n",
      " [ 11.  31.]]\n",
      "AUC: \n",
      "0.7499295576218653\n",
      "\n"
     ]
    },
    {
     "name": "stderr",
     "output_type": "stream",
     "text": [
      "[I 2019-08-21 05:44:37,788] Finished trial#53 resulted in value: -0.7499295576218653. Current best value is -0.7503522118906735 with parameters: {'C_val': 0.00010009919430783164}.\n"
     ]
    },
    {
     "name": "stdout",
     "output_type": "stream",
     "text": [
      " C_val:0.00010228240681949136\n",
      "len: 211 , 211\n",
      "confusion_matrix: \n",
      "[[117.  52.]\n",
      " [ 11.  31.]]\n",
      "AUC: \n",
      "0.7502113271344041\n",
      "\n"
     ]
    },
    {
     "name": "stderr",
     "output_type": "stream",
     "text": [
      "[I 2019-08-21 05:44:47,372] Finished trial#54 resulted in value: -0.7502113271344041. Current best value is -0.7503522118906735 with parameters: {'C_val': 0.00010009919430783164}.\n"
     ]
    },
    {
     "name": "stdout",
     "output_type": "stream",
     "text": [
      " C_val:0.00020736173778378915\n",
      "len: 211 , 211\n",
      "confusion_matrix: \n",
      "[[117.  52.]\n",
      " [ 11.  31.]]\n",
      "AUC: \n",
      "0.7499295576218653\n",
      "\n"
     ]
    },
    {
     "name": "stderr",
     "output_type": "stream",
     "text": [
      "[I 2019-08-21 05:44:57,124] Finished trial#55 resulted in value: -0.7499295576218653. Current best value is -0.7503522118906735 with parameters: {'C_val': 0.00010009919430783164}.\n"
     ]
    },
    {
     "name": "stdout",
     "output_type": "stream",
     "text": [
      " C_val:0.0001638040057260826\n",
      "len: 211 , 211\n",
      "confusion_matrix: \n",
      "[[117.  52.]\n",
      " [ 11.  31.]]\n",
      "AUC: \n",
      "0.7503522118906735\n",
      "\n"
     ]
    },
    {
     "name": "stderr",
     "output_type": "stream",
     "text": [
      "[I 2019-08-21 05:45:07,279] Finished trial#56 resulted in value: -0.7503522118906735. Current best value is -0.7503522118906735 with parameters: {'C_val': 0.00010009919430783164}.\n"
     ]
    },
    {
     "name": "stdout",
     "output_type": "stream",
     "text": [
      " C_val:0.0001707538316933272\n",
      "len: 211 , 211\n",
      "confusion_matrix: \n",
      "[[117.  52.]\n",
      " [ 11.  31.]]\n",
      "AUC: \n",
      "0.7499295576218653\n",
      "\n"
     ]
    },
    {
     "name": "stderr",
     "output_type": "stream",
     "text": [
      "[I 2019-08-21 05:45:17,284] Finished trial#57 resulted in value: -0.7499295576218653. Current best value is -0.7503522118906735 with parameters: {'C_val': 0.00010009919430783164}.\n"
     ]
    },
    {
     "name": "stdout",
     "output_type": "stream",
     "text": [
      " C_val:0.0002278495423938349\n",
      "len: 211 , 211\n",
      "confusion_matrix: \n",
      "[[117.  52.]\n",
      " [ 11.  31.]]\n",
      "AUC: \n",
      "0.7495069033530574\n",
      "\n"
     ]
    },
    {
     "name": "stderr",
     "output_type": "stream",
     "text": [
      "[I 2019-08-21 05:45:26,551] Finished trial#58 resulted in value: -0.7495069033530574. Current best value is -0.7503522118906735 with parameters: {'C_val': 0.00010009919430783164}.\n"
     ]
    },
    {
     "name": "stdout",
     "output_type": "stream",
     "text": [
      " C_val:0.00013501613911331644\n",
      "len: 211 , 211\n",
      "confusion_matrix: \n",
      "[[117.  52.]\n",
      " [ 11.  31.]]\n",
      "AUC: \n",
      "0.7500704423781347\n",
      "\n"
     ]
    },
    {
     "name": "stderr",
     "output_type": "stream",
     "text": [
      "[I 2019-08-21 05:45:36,451] Finished trial#59 resulted in value: -0.7500704423781347. Current best value is -0.7503522118906735 with parameters: {'C_val': 0.00010009919430783164}.\n"
     ]
    },
    {
     "name": "stdout",
     "output_type": "stream",
     "text": [
      " C_val:0.00018815969173360537\n",
      "len: 211 , 211\n",
      "confusion_matrix: \n",
      "[[117.  52.]\n",
      " [ 11.  31.]]\n",
      "AUC: \n",
      "0.7499295576218653\n",
      "\n"
     ]
    },
    {
     "name": "stderr",
     "output_type": "stream",
     "text": [
      "[I 2019-08-21 05:45:46,321] Finished trial#60 resulted in value: -0.7499295576218653. Current best value is -0.7503522118906735 with parameters: {'C_val': 0.00010009919430783164}.\n"
     ]
    },
    {
     "name": "stdout",
     "output_type": "stream",
     "text": [
      " C_val:0.0001600475792449353\n",
      "len: 211 , 211\n",
      "confusion_matrix: \n",
      "[[117.  52.]\n",
      " [ 11.  31.]]\n",
      "AUC: \n",
      "0.7503522118906735\n",
      "\n"
     ]
    },
    {
     "name": "stderr",
     "output_type": "stream",
     "text": [
      "[I 2019-08-21 05:45:55,233] Finished trial#61 resulted in value: -0.7503522118906735. Current best value is -0.7503522118906735 with parameters: {'C_val': 0.00010009919430783164}.\n"
     ]
    },
    {
     "name": "stdout",
     "output_type": "stream",
     "text": [
      " C_val:0.00010285901633278812\n",
      "len: 211 , 211\n",
      "confusion_matrix: \n",
      "[[117.  52.]\n",
      " [ 11.  31.]]\n",
      "AUC: \n",
      "0.7502113271344041\n",
      "\n"
     ]
    },
    {
     "name": "stderr",
     "output_type": "stream",
     "text": [
      "[I 2019-08-21 05:46:04,032] Finished trial#62 resulted in value: -0.7502113271344041. Current best value is -0.7503522118906735 with parameters: {'C_val': 0.00010009919430783164}.\n"
     ]
    },
    {
     "name": "stdout",
     "output_type": "stream",
     "text": [
      " C_val:0.00012972322848334562\n",
      "len: 211 , 211\n",
      "confusion_matrix: \n",
      "[[117.  52.]\n",
      " [ 11.  31.]]\n",
      "AUC: \n",
      "0.7500704423781347\n",
      "\n"
     ]
    },
    {
     "name": "stderr",
     "output_type": "stream",
     "text": [
      "[I 2019-08-21 05:46:12,449] Finished trial#63 resulted in value: -0.7500704423781347. Current best value is -0.7503522118906735 with parameters: {'C_val': 0.00010009919430783164}.\n"
     ]
    },
    {
     "name": "stdout",
     "output_type": "stream",
     "text": [
      " C_val:0.00016922247455231727\n",
      "len: 211 , 211\n",
      "confusion_matrix: \n",
      "[[117.  52.]\n",
      " [ 11.  31.]]\n",
      "AUC: \n",
      "0.7500704423781348\n",
      "\n"
     ]
    },
    {
     "name": "stderr",
     "output_type": "stream",
     "text": [
      "[I 2019-08-21 05:46:23,441] Finished trial#64 resulted in value: -0.7500704423781348. Current best value is -0.7503522118906735 with parameters: {'C_val': 0.00010009919430783164}.\n"
     ]
    },
    {
     "name": "stdout",
     "output_type": "stream",
     "text": [
      " C_val:0.0002488506525461994\n",
      "len: 211 , 211\n",
      "confusion_matrix: \n",
      "[[117.  52.]\n",
      " [ 11.  31.]]\n",
      "AUC: \n",
      "0.7497886728655961\n",
      "\n"
     ]
    },
    {
     "name": "stderr",
     "output_type": "stream",
     "text": [
      "[I 2019-08-21 05:46:32,843] Finished trial#65 resulted in value: -0.7497886728655961. Current best value is -0.7503522118906735 with parameters: {'C_val': 0.00010009919430783164}.\n"
     ]
    },
    {
     "name": "stdout",
     "output_type": "stream",
     "text": [
      " C_val:0.00021243466566461138\n",
      "len: 211 , 211\n",
      "confusion_matrix: \n",
      "[[117.  52.]\n",
      " [ 11.  31.]]\n",
      "AUC: \n",
      "0.749788672865596\n",
      "\n"
     ]
    },
    {
     "name": "stderr",
     "output_type": "stream",
     "text": [
      "[I 2019-08-21 05:46:41,472] Finished trial#66 resulted in value: -0.749788672865596. Current best value is -0.7503522118906735 with parameters: {'C_val': 0.00010009919430783164}.\n"
     ]
    },
    {
     "name": "stdout",
     "output_type": "stream",
     "text": [
      " C_val:0.00028781368311448267\n",
      "len: 211 , 211\n",
      "confusion_matrix: \n",
      "[[116.  53.]\n",
      " [ 11.  31.]]\n",
      "AUC: \n",
      "0.7490842490842492\n",
      "\n"
     ]
    },
    {
     "name": "stderr",
     "output_type": "stream",
     "text": [
      "[I 2019-08-21 05:46:49,841] Finished trial#67 resulted in value: -0.7490842490842492. Current best value is -0.7503522118906735 with parameters: {'C_val': 0.00010009919430783164}.\n"
     ]
    },
    {
     "name": "stdout",
     "output_type": "stream",
     "text": [
      " C_val:0.000189559075491615\n",
      "len: 211 , 211\n",
      "confusion_matrix: \n",
      "[[117.  52.]\n",
      " [ 11.  31.]]\n",
      "AUC: \n",
      "0.7499295576218653\n",
      "\n"
     ]
    },
    {
     "name": "stderr",
     "output_type": "stream",
     "text": [
      "[I 2019-08-21 05:46:59,165] Finished trial#68 resulted in value: -0.7499295576218653. Current best value is -0.7503522118906735 with parameters: {'C_val': 0.00010009919430783164}.\n"
     ]
    },
    {
     "name": "stdout",
     "output_type": "stream",
     "text": [
      " C_val:0.000318075762380307\n",
      "len: 211 , 211\n",
      "confusion_matrix: \n",
      "[[116.  53.]\n",
      " [ 11.  31.]]\n",
      "AUC: \n",
      "0.7488024795717104\n",
      "\n"
     ]
    },
    {
     "name": "stderr",
     "output_type": "stream",
     "text": [
      "[I 2019-08-21 05:47:08,202] Finished trial#69 resulted in value: -0.7488024795717104. Current best value is -0.7503522118906735 with parameters: {'C_val': 0.00010009919430783164}.\n"
     ]
    },
    {
     "name": "stdout",
     "output_type": "stream",
     "text": [
      " C_val:0.00016617434992243234\n",
      "len: 211 , 211\n",
      "confusion_matrix: \n",
      "[[117.  52.]\n",
      " [ 11.  31.]]\n",
      "AUC: \n",
      "0.7503522118906735\n",
      "\n"
     ]
    },
    {
     "name": "stderr",
     "output_type": "stream",
     "text": [
      "[I 2019-08-21 05:47:16,900] Finished trial#70 resulted in value: -0.7503522118906735. Current best value is -0.7503522118906735 with parameters: {'C_val': 0.00010009919430783164}.\n"
     ]
    },
    {
     "name": "stdout",
     "output_type": "stream",
     "text": [
      " C_val:0.00015937432496897268\n",
      "len: 211 , 211\n",
      "confusion_matrix: \n",
      "[[117.  52.]\n",
      " [ 11.  31.]]\n",
      "AUC: \n",
      "0.7503522118906735\n",
      "\n"
     ]
    },
    {
     "name": "stderr",
     "output_type": "stream",
     "text": [
      "[I 2019-08-21 05:47:25,613] Finished trial#71 resulted in value: -0.7503522118906735. Current best value is -0.7503522118906735 with parameters: {'C_val': 0.00010009919430783164}.\n"
     ]
    },
    {
     "name": "stdout",
     "output_type": "stream",
     "text": [
      " C_val:0.0001586618441276768\n",
      "len: 211 , 211\n",
      "confusion_matrix: \n",
      "[[117.  52.]\n",
      " [ 11.  31.]]\n",
      "AUC: \n",
      "0.7503522118906735\n",
      "\n"
     ]
    },
    {
     "name": "stderr",
     "output_type": "stream",
     "text": [
      "[I 2019-08-21 05:47:36,756] Finished trial#72 resulted in value: -0.7503522118906735. Current best value is -0.7503522118906735 with parameters: {'C_val': 0.00010009919430783164}.\n"
     ]
    },
    {
     "name": "stdout",
     "output_type": "stream",
     "text": [
      " C_val:0.00016154469206965406\n",
      "len: 211 , 211\n",
      "confusion_matrix: \n",
      "[[117.  52.]\n",
      " [ 11.  31.]]\n",
      "AUC: \n",
      "0.7503522118906735\n",
      "\n"
     ]
    },
    {
     "name": "stderr",
     "output_type": "stream",
     "text": [
      "[I 2019-08-21 05:47:46,428] Finished trial#73 resulted in value: -0.7503522118906735. Current best value is -0.7503522118906735 with parameters: {'C_val': 0.00010009919430783164}.\n"
     ]
    },
    {
     "name": "stdout",
     "output_type": "stream",
     "text": [
      " C_val:0.00022629808142772952\n",
      "len: 211 , 211\n",
      "confusion_matrix: \n",
      "[[117.  52.]\n",
      " [ 11.  31.]]\n",
      "AUC: \n",
      "0.7495069033530574\n",
      "\n"
     ]
    },
    {
     "name": "stderr",
     "output_type": "stream",
     "text": [
      "[I 2019-08-21 05:47:55,294] Finished trial#74 resulted in value: -0.7495069033530574. Current best value is -0.7503522118906735 with parameters: {'C_val': 0.00010009919430783164}.\n"
     ]
    },
    {
     "name": "stdout",
     "output_type": "stream",
     "text": [
      " C_val:0.0002634551431157379\n",
      "len: 211 , 211\n",
      "confusion_matrix: \n",
      "[[116.  53.]\n",
      " [ 11.  31.]]\n",
      "AUC: \n",
      "0.7492251338405185\n",
      "\n"
     ]
    },
    {
     "name": "stderr",
     "output_type": "stream",
     "text": [
      "[I 2019-08-21 05:48:04,091] Finished trial#75 resulted in value: -0.7492251338405185. Current best value is -0.7503522118906735 with parameters: {'C_val': 0.00010009919430783164}.\n"
     ]
    },
    {
     "name": "stdout",
     "output_type": "stream",
     "text": [
      " C_val:0.0001299795961681167\n",
      "len: 211 , 211\n",
      "confusion_matrix: \n",
      "[[117.  52.]\n",
      " [ 11.  31.]]\n",
      "AUC: \n",
      "0.7500704423781347\n",
      "\n"
     ]
    },
    {
     "name": "stderr",
     "output_type": "stream",
     "text": [
      "[I 2019-08-21 05:48:12,982] Finished trial#76 resulted in value: -0.7500704423781347. Current best value is -0.7503522118906735 with parameters: {'C_val': 0.00010009919430783164}.\n"
     ]
    },
    {
     "name": "stdout",
     "output_type": "stream",
     "text": [
      " C_val:0.00016085433281296118\n",
      "len: 211 , 211\n",
      "confusion_matrix: \n",
      "[[117.  52.]\n",
      " [ 11.  31.]]\n",
      "AUC: \n",
      "0.7503522118906735\n",
      "\n"
     ]
    },
    {
     "name": "stderr",
     "output_type": "stream",
     "text": [
      "[I 2019-08-21 05:48:21,359] Finished trial#77 resulted in value: -0.7503522118906735. Current best value is -0.7503522118906735 with parameters: {'C_val': 0.00010009919430783164}.\n"
     ]
    },
    {
     "name": "stdout",
     "output_type": "stream",
     "text": [
      " C_val:0.00019995446096574628\n",
      "len: 211 , 211\n",
      "confusion_matrix: \n",
      "[[117.  52.]\n",
      " [ 11.  31.]]\n",
      "AUC: \n",
      "0.7499295576218653\n",
      "\n"
     ]
    },
    {
     "name": "stderr",
     "output_type": "stream",
     "text": [
      "[I 2019-08-21 05:48:29,792] Finished trial#78 resulted in value: -0.7499295576218653. Current best value is -0.7503522118906735 with parameters: {'C_val': 0.00010009919430783164}.\n"
     ]
    },
    {
     "name": "stdout",
     "output_type": "stream",
     "text": [
      " C_val:0.00012778969802559724\n",
      "len: 211 , 211\n",
      "confusion_matrix: \n",
      "[[117.  52.]\n",
      " [ 11.  31.]]\n",
      "AUC: \n",
      "0.7500704423781347\n",
      "\n"
     ]
    },
    {
     "name": "stderr",
     "output_type": "stream",
     "text": [
      "[I 2019-08-21 05:48:39,045] Finished trial#79 resulted in value: -0.7500704423781347. Current best value is -0.7503522118906735 with parameters: {'C_val': 0.00010009919430783164}.\n"
     ]
    },
    {
     "name": "stdout",
     "output_type": "stream",
     "text": [
      " C_val:0.00017118782449089185\n",
      "len: 211 , 211\n",
      "confusion_matrix: \n",
      "[[117.  52.]\n",
      " [ 11.  31.]]\n",
      "AUC: \n",
      "0.7499295576218653\n",
      "\n"
     ]
    },
    {
     "name": "stderr",
     "output_type": "stream",
     "text": [
      "[I 2019-08-21 05:48:47,728] Finished trial#80 resulted in value: -0.7499295576218653. Current best value is -0.7503522118906735 with parameters: {'C_val': 0.00010009919430783164}.\n"
     ]
    },
    {
     "name": "stdout",
     "output_type": "stream",
     "text": [
      " C_val:0.00015906197184677658\n",
      "len: 211 , 211\n",
      "confusion_matrix: \n",
      "[[117.  52.]\n",
      " [ 11.  31.]]\n",
      "AUC: \n",
      "0.7503522118906735\n",
      "\n"
     ]
    },
    {
     "name": "stderr",
     "output_type": "stream",
     "text": [
      "[I 2019-08-21 05:48:56,134] Finished trial#81 resulted in value: -0.7503522118906735. Current best value is -0.7503522118906735 with parameters: {'C_val': 0.00010009919430783164}.\n"
     ]
    },
    {
     "name": "stdout",
     "output_type": "stream",
     "text": [
      " C_val:0.00015398587739339506\n",
      "len: 211 , 211\n",
      "confusion_matrix: \n",
      "[[117.  52.]\n",
      " [ 11.  31.]]\n",
      "AUC: \n",
      "0.7502113271344041\n",
      "\n"
     ]
    },
    {
     "name": "stderr",
     "output_type": "stream",
     "text": [
      "[I 2019-08-21 05:49:04,872] Finished trial#82 resulted in value: -0.7502113271344041. Current best value is -0.7503522118906735 with parameters: {'C_val': 0.00010009919430783164}.\n"
     ]
    },
    {
     "name": "stdout",
     "output_type": "stream",
     "text": [
      " C_val:0.0002334947500640719\n",
      "len: 211 , 211\n",
      "confusion_matrix: \n",
      "[[117.  52.]\n",
      " [ 11.  31.]]\n",
      "AUC: \n",
      "0.7496477881093266\n",
      "\n"
     ]
    },
    {
     "name": "stderr",
     "output_type": "stream",
     "text": [
      "[I 2019-08-21 05:49:14,652] Finished trial#83 resulted in value: -0.7496477881093266. Current best value is -0.7503522118906735 with parameters: {'C_val': 0.00010009919430783164}.\n"
     ]
    },
    {
     "name": "stdout",
     "output_type": "stream",
     "text": [
      " C_val:0.00012485063227574448\n",
      "len: 211 , 211\n",
      "confusion_matrix: \n",
      "[[117.  52.]\n",
      " [ 11.  31.]]\n",
      "AUC: \n",
      "0.7499295576218653\n",
      "\n"
     ]
    },
    {
     "name": "stderr",
     "output_type": "stream",
     "text": [
      "[I 2019-08-21 05:49:25,079] Finished trial#84 resulted in value: -0.7499295576218653. Current best value is -0.7503522118906735 with parameters: {'C_val': 0.00010009919430783164}.\n"
     ]
    },
    {
     "name": "stdout",
     "output_type": "stream",
     "text": [
      " C_val:0.0002026067152331891\n",
      "len: 211 , 211\n",
      "confusion_matrix: \n",
      "[[117.  52.]\n",
      " [ 11.  31.]]\n",
      "AUC: \n",
      "0.7499295576218653\n",
      "\n"
     ]
    },
    {
     "name": "stderr",
     "output_type": "stream",
     "text": [
      "[I 2019-08-21 05:49:34,940] Finished trial#85 resulted in value: -0.7499295576218653. Current best value is -0.7503522118906735 with parameters: {'C_val': 0.00010009919430783164}.\n"
     ]
    },
    {
     "name": "stdout",
     "output_type": "stream",
     "text": [
      " C_val:0.00014890101296559965\n",
      "len: 211 , 211\n",
      "confusion_matrix: \n",
      "[[117.  52.]\n",
      " [ 11.  31.]]\n",
      "AUC: \n",
      "0.7502113271344041\n",
      "\n"
     ]
    },
    {
     "name": "stderr",
     "output_type": "stream",
     "text": [
      "[I 2019-08-21 05:49:43,369] Finished trial#86 resulted in value: -0.7502113271344041. Current best value is -0.7503522118906735 with parameters: {'C_val': 0.00010009919430783164}.\n"
     ]
    },
    {
     "name": "stdout",
     "output_type": "stream",
     "text": [
      " C_val:0.00018359645886721612\n",
      "len: 211 , 211\n",
      "confusion_matrix: \n",
      "[[117.  52.]\n",
      " [ 11.  31.]]\n",
      "AUC: \n",
      "0.7499295576218653\n",
      "\n"
     ]
    },
    {
     "name": "stderr",
     "output_type": "stream",
     "text": [
      "[I 2019-08-21 05:49:52,240] Finished trial#87 resulted in value: -0.7499295576218653. Current best value is -0.7503522118906735 with parameters: {'C_val': 0.00010009919430783164}.\n"
     ]
    },
    {
     "name": "stdout",
     "output_type": "stream",
     "text": [
      " C_val:0.0005255468650170672\n",
      "len: 211 , 211\n",
      "confusion_matrix: \n",
      "[[117.  52.]\n",
      " [ 12.  30.]]\n",
      "AUC: \n",
      "0.7466892082276697\n",
      "\n"
     ]
    },
    {
     "name": "stderr",
     "output_type": "stream",
     "text": [
      "[I 2019-08-21 05:50:02,979] Finished trial#88 resulted in value: -0.7466892082276697. Current best value is -0.7503522118906735 with parameters: {'C_val': 0.00010009919430783164}.\n"
     ]
    },
    {
     "name": "stdout",
     "output_type": "stream",
     "text": [
      " C_val:0.00022486487198058547\n",
      "len: 211 , 211\n",
      "confusion_matrix: \n",
      "[[117.  52.]\n",
      " [ 11.  31.]]\n",
      "AUC: \n",
      "0.7496477881093265\n",
      "\n"
     ]
    },
    {
     "name": "stderr",
     "output_type": "stream",
     "text": [
      "[I 2019-08-21 05:50:13,553] Finished trial#89 resulted in value: -0.7496477881093265. Current best value is -0.7503522118906735 with parameters: {'C_val': 0.00010009919430783164}.\n"
     ]
    },
    {
     "name": "stdout",
     "output_type": "stream",
     "text": [
      " C_val:0.00026158085190313373\n",
      "len: 211 , 211\n",
      "confusion_matrix: \n",
      "[[116.  53.]\n",
      " [ 11.  31.]]\n",
      "AUC: \n",
      "0.7492251338405185\n",
      "\n"
     ]
    },
    {
     "name": "stderr",
     "output_type": "stream",
     "text": [
      "[I 2019-08-21 05:50:26,092] Finished trial#90 resulted in value: -0.7492251338405185. Current best value is -0.7503522118906735 with parameters: {'C_val': 0.00010009919430783164}.\n"
     ]
    },
    {
     "name": "stdout",
     "output_type": "stream",
     "text": [
      " C_val:0.00016047215056141727\n",
      "len: 211 , 211\n",
      "confusion_matrix: \n",
      "[[117.  52.]\n",
      " [ 11.  31.]]\n",
      "AUC: \n",
      "0.7503522118906735\n",
      "\n"
     ]
    },
    {
     "name": "stderr",
     "output_type": "stream",
     "text": [
      "[I 2019-08-21 05:50:37,692] Finished trial#91 resulted in value: -0.7503522118906735. Current best value is -0.7503522118906735 with parameters: {'C_val': 0.00010009919430783164}.\n"
     ]
    },
    {
     "name": "stdout",
     "output_type": "stream",
     "text": [
      " C_val:0.00016009825761916928\n",
      "len: 211 , 211\n",
      "confusion_matrix: \n",
      "[[117.  52.]\n",
      " [ 11.  31.]]\n",
      "AUC: \n",
      "0.7503522118906735\n",
      "\n"
     ]
    },
    {
     "name": "stderr",
     "output_type": "stream",
     "text": [
      "[I 2019-08-21 05:50:48,335] Finished trial#92 resulted in value: -0.7503522118906735. Current best value is -0.7503522118906735 with parameters: {'C_val': 0.00010009919430783164}.\n"
     ]
    },
    {
     "name": "stdout",
     "output_type": "stream",
     "text": [
      " C_val:0.0001900540046971166\n",
      "len: 211 , 211\n",
      "confusion_matrix: \n",
      "[[117.  52.]\n",
      " [ 11.  31.]]\n",
      "AUC: \n",
      "0.7499295576218653\n",
      "\n"
     ]
    },
    {
     "name": "stderr",
     "output_type": "stream",
     "text": [
      "[I 2019-08-21 05:51:00,565] Finished trial#93 resulted in value: -0.7499295576218653. Current best value is -0.7503522118906735 with parameters: {'C_val': 0.00010009919430783164}.\n"
     ]
    },
    {
     "name": "stdout",
     "output_type": "stream",
     "text": [
      " C_val:0.00012570362971153293\n",
      "len: 211 , 211\n",
      "confusion_matrix: \n",
      "[[117.  52.]\n",
      " [ 11.  31.]]\n",
      "AUC: \n",
      "0.7499295576218653\n",
      "\n"
     ]
    },
    {
     "name": "stderr",
     "output_type": "stream",
     "text": [
      "[I 2019-08-21 05:51:13,666] Finished trial#94 resulted in value: -0.7499295576218653. Current best value is -0.7503522118906735 with parameters: {'C_val': 0.00010009919430783164}.\n"
     ]
    },
    {
     "name": "stdout",
     "output_type": "stream",
     "text": [
      " C_val:0.00016972975945037065\n",
      "len: 211 , 211\n",
      "confusion_matrix: \n",
      "[[117.  52.]\n",
      " [ 11.  31.]]\n",
      "AUC: \n",
      "0.7499295576218653\n",
      "\n"
     ]
    },
    {
     "name": "stderr",
     "output_type": "stream",
     "text": [
      "[I 2019-08-21 05:51:25,879] Finished trial#95 resulted in value: -0.7499295576218653. Current best value is -0.7503522118906735 with parameters: {'C_val': 0.00010009919430783164}.\n"
     ]
    },
    {
     "name": "stdout",
     "output_type": "stream",
     "text": [
      " C_val:0.00010229348575035927\n",
      "len: 211 , 211\n",
      "confusion_matrix: \n",
      "[[117.  52.]\n",
      " [ 11.  31.]]\n",
      "AUC: \n",
      "0.7502113271344041\n",
      "\n"
     ]
    },
    {
     "name": "stderr",
     "output_type": "stream",
     "text": [
      "[I 2019-08-21 05:51:38,342] Finished trial#96 resulted in value: -0.7502113271344041. Current best value is -0.7503522118906735 with parameters: {'C_val': 0.00010009919430783164}.\n"
     ]
    },
    {
     "name": "stdout",
     "output_type": "stream",
     "text": [
      " C_val:0.00021572666489650535\n",
      "len: 211 , 211\n",
      "confusion_matrix: \n",
      "[[117.  52.]\n",
      " [ 11.  31.]]\n",
      "AUC: \n",
      "0.7496477881093265\n",
      "\n"
     ]
    },
    {
     "name": "stderr",
     "output_type": "stream",
     "text": [
      "[I 2019-08-21 05:51:50,637] Finished trial#97 resulted in value: -0.7496477881093265. Current best value is -0.7503522118906735 with parameters: {'C_val': 0.00010009919430783164}.\n"
     ]
    },
    {
     "name": "stdout",
     "output_type": "stream",
     "text": [
      " C_val:0.00024499368217996767\n",
      "len: 211 , 211\n",
      "confusion_matrix: \n",
      "[[117.  52.]\n",
      " [ 11.  31.]]\n",
      "AUC: \n",
      "0.7496477881093266\n",
      "\n"
     ]
    },
    {
     "name": "stderr",
     "output_type": "stream",
     "text": [
      "[I 2019-08-21 05:52:01,529] Finished trial#98 resulted in value: -0.7496477881093266. Current best value is -0.7503522118906735 with parameters: {'C_val': 0.00010009919430783164}.\n"
     ]
    },
    {
     "name": "stdout",
     "output_type": "stream",
     "text": [
      " C_val:0.00014411440532777965\n",
      "len: 211 , 211\n",
      "confusion_matrix: \n",
      "[[117.  52.]\n",
      " [ 11.  31.]]\n",
      "AUC: \n",
      "0.7500704423781347\n",
      "\n"
     ]
    },
    {
     "name": "stderr",
     "output_type": "stream",
     "text": [
      "[I 2019-08-21 05:52:13,576] Finished trial#99 resulted in value: -0.7500704423781347. Current best value is -0.7503522118906735 with parameters: {'C_val': 0.00010009919430783164}.\n"
     ]
    },
    {
     "name": "stdout",
     "output_type": "stream",
     "text": [
      "FrozenTrial(number=11, state=<TrialState.COMPLETE: 1>, value=-0.7503522118906735, datetime_start=datetime.datetime(2019, 8, 21, 5, 38, 4, 292138), datetime_complete=datetime.datetime(2019, 8, 21, 5, 38, 13, 996359), params={'C_val': 0.00010009919430783164}, distributions={'C_val': UniformDistribution(low=0.0001, high=0.001)}, user_attrs={}, system_attrs={'_number': 11}, intermediate_values={}, params_in_internal_repr={'C_val': 0.00010009919430783164}, trial_id=11)\n"
     ]
    }
   ],
   "source": [
    "if __name__ == \"__main__\":\n",
    "    main()"
   ]
  },
  {
   "cell_type": "code",
   "execution_count": null,
   "metadata": {
    "scrolled": true
   },
   "outputs": [],
   "source": [
    "# l2 liblinear (共線性あり)\n",
    "#  best value is -0.7550014088475626 with parameters: {'C_val': 0.00025433628983389037}.\n",
    "\n",
    "# saga l1ration\n",
    "# best value is -0.7434488588334741 with parameters: {'C_val': 0.00012028884882182497, 'l1_ratio': 0.0004895734071039444}.\n",
    "\n",
    "#liblinear l2\n",
    "# best value is -0.7503522118906735 with parameters: {'C_val': 0.00010009919430783164}."
   ]
  }
 ],
 "metadata": {
  "kernelspec": {
   "display_name": "Python 3",
   "language": "python",
   "name": "python3"
  },
  "language_info": {
   "codemirror_mode": {
    "name": "ipython",
    "version": 3
   },
   "file_extension": ".py",
   "mimetype": "text/x-python",
   "name": "python",
   "nbconvert_exporter": "python",
   "pygments_lexer": "ipython3",
   "version": "3.6.8"
  }
 },
 "nbformat": 4,
 "nbformat_minor": 2
}
