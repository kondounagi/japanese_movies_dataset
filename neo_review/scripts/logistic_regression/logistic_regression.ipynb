{
 "cells": [
  {
   "cell_type": "code",
   "execution_count": 1,
   "metadata": {},
   "outputs": [],
   "source": [
    "import numpy as np\n",
    "import json\n",
    "import csv\n",
    "import pandas as pd\n",
    "import matplotlib.pyplot as plt\n",
    "from sklearn.linear_model import LogisticRegression\n",
    "from sklearn.metrics import confusion_matrix\n",
    "from sklearn.preprocessing import StandardScaler\n",
    "from sklearn.metrics import roc_auc_score\n",
    "from sklearn.metrics import roc_curve\n",
    "%matplotlib inline"
   ]
  },
  {
   "cell_type": "code",
   "execution_count": 2,
   "metadata": {},
   "outputs": [],
   "source": [
    "def load_data():\n",
    "    data = pd.read_pickle('../../data/dataframes/data.pkl')\n",
    "    nomination_onehot = pd.read_pickle('../../data/dataframes/nomination_onehot.pkl')\n",
    "    selected_performers_onehot = pd.read_pickle('../../data/dataframes/selected_performers_onehot.pkl')\n",
    "    selected_directors_onehot = pd.read_pickle('../../data/dataframes/selected_directors_onehot.pkl')\n",
    "    selected_studio_onehot = pd.read_pickle('../../data/dataframes/selected_studio_onehot.pkl')\n",
    "    selected_scriptwriter_onehot = pd.read_pickle('../../data/dataframes/selected_scriptwriter_onehot.pkl')\n",
    "    review_dataframe = pd.read_pickle('../../data/dataframes/review_dataframe.pkl')\n",
    "\n",
    "    \n",
    "    # selected_directors_onehotとselected_scriptwriter_onehotの重複した人\n",
    "    duplicate_scriptwriter = set(selected_directors_onehot.columns) & set(selected_scriptwriter_onehot.columns)\n",
    "    selected_scriptwriter_onehot = selected_scriptwriter_onehot.drop(duplicate_scriptwriter, axis=1)\n",
    "    \n",
    "    frames = [nomination_onehot,selected_performers_onehot,selected_directors_onehot,selected_studio_onehot,selected_scriptwriter_onehot]\n",
    "\n",
    "    df = data\n",
    "    for f in frames:\n",
    "        df = pd.merge(df, f, on='id')\n",
    "    \n",
    "    drop_elements = [\"director\", \"other_nominates\", \"performers\", \"production_studio\", \"scriptwriter\", \"title\",  'selected_performers', 'selected_directors', 'selected_studio',\n",
    "       'selected_scriptwriter']\n",
    "    df_drop = df.drop(drop_elements, axis=1)\n",
    "\n",
    "    return df_drop, data"
   ]
  },
  {
   "cell_type": "code",
   "execution_count": 3,
   "metadata": {},
   "outputs": [],
   "source": [
    "def standard(x_train, x_test):\n",
    "    stdsc = StandardScaler()\n",
    "\n",
    "    # 訓練用のデータを標準化\n",
    "    x_train_std = stdsc.fit_transform(x_train)\n",
    "    # 訓練用データを基準にテストデータも標準化\n",
    "    x_test_std = stdsc.transform(x_test)\n",
    "    \n",
    "    return x_train_std, x_test_std"
   ]
  },
  {
   "cell_type": "code",
   "execution_count": 4,
   "metadata": {},
   "outputs": [],
   "source": [
    "# 多重共線性の排除 (共分散0.7以上のfeatureを削除)\n",
    "\n",
    "def collinearity(X):\n",
    "\n",
    "    # 改善前\n",
    "#     cor=np.corrcoef(X.T)\n",
    "#     type(cor)\n",
    "#     plt.figure(figsize=(20, 20))\n",
    "#     sns.heatmap(cor, vmin=0.70,vmax=1,cmap=plt.cm.Spectral_r)\n",
    "\n",
    "    # 改善\n",
    "    drop_clm = ['吉田一夫']\n",
    "    X = X.drop(drop_clm,  axis=1)\n",
    "\n",
    "    # 改善後\n",
    "    \n",
    "#     cor=np.corrcoef(X.T)\n",
    "#     type(cor)\n",
    "#     plt.figure(figsize=(20, 20))\n",
    "#     sns.heatmap(cor, vmin=0.80,vmax=1,cmap=plt.cm.Spectral_r)\n",
    "    \n",
    "    return X"
   ]
  },
  {
   "cell_type": "code",
   "execution_count": 5,
   "metadata": {},
   "outputs": [],
   "source": [
    "def data_processing(test_year):\n",
    "    df, data = load_data()\n",
    "    \n",
    "    df = collinearity(df)\n",
    "    \n",
    "    train = df.loc[df[\"year\"] != test_year]\n",
    "    test = df.loc[df[\"year\"] == test_year]\n",
    "    \n",
    "    # 入力データの作成\n",
    "    y_train = train['prize'].ravel()\n",
    "    x_train = train.drop(['prize', 'year'], axis=1)\n",
    "    \n",
    "    features = x_train.columns\n",
    "    \n",
    "    x_train = x_train.values # 学習データ\n",
    "    \n",
    "    # テストデータの作成\n",
    "    y_test = test['prize'].ravel()\n",
    "    x_test = test.drop(['prize', 'year'], axis=1)\n",
    "    x_test = x_test.values # テストデータ\n",
    "\n",
    "    # データの標準化\n",
    "    x_train_std, x_test_std = standard(x_train, x_test)\n",
    "    \n",
    "    return x_train_std, x_test_std, y_train, y_test, features"
   ]
  },
  {
   "cell_type": "code",
   "execution_count": 6,
   "metadata": {},
   "outputs": [],
   "source": [
    "def print_weight_map(weight, features):\n",
    "    # feature importance\n",
    "    feature_imp = weight.reshape(features.shape)\n",
    "    feature_imp_arg = np.argsort(feature_imp)\n",
    "    f_num = len(feature_imp_arg)\n",
    "    plt.rcParams[\"font.family\"] = \"IPAexGothic\"\n",
    "    plt.figure(figsize=(20,20))\n",
    "    plt.barh(range(len(feature_imp_arg)), feature_imp[feature_imp_arg], color='b', align='center')\n",
    "    plt.yticks(range(len(feature_imp_arg)), features[feature_imp_arg])\n",
    "    plt.show()"
   ]
  },
  {
   "cell_type": "code",
   "execution_count": 7,
   "metadata": {},
   "outputs": [],
   "source": [
    "def plot_roc_curve(fpr, tpr, auc):\n",
    "    # ROC曲線をプロット\n",
    "    plt.plot(fpr, tpr, label='ROC curve (area = %.2f)'%auc)\n",
    "    plt.legend()\n",
    "    plt.title('ROC curve')\n",
    "    plt.xlabel('False Positive Rate')\n",
    "    plt.ylabel('True Positive Rate')\n",
    "    plt.grid(True)\n",
    "    plt.show()"
   ]
  },
  {
   "cell_type": "code",
   "execution_count": 10,
   "metadata": {},
   "outputs": [],
   "source": [
    "# optunaで最適なC_valを探す\n",
    "\n",
    "def train():\n",
    "    \n",
    "    th_prob = 0.5\n",
    "    \n",
    "    cm_all = np.zeros((2, 2))\n",
    "    \n",
    "    # 予測した確率全体を格納\n",
    "    probs_all = np.array([])\n",
    "    y_true_all = np.array([])\n",
    "    \n",
    "    for y in range(1978, 2020):\n",
    "        \n",
    "        # データの生成\n",
    "        x_train_std, x_test_std, y_train, y_test, features = data_processing(y)\n",
    "        \n",
    "        # 学習\n",
    "        lr = LogisticRegression(class_weight=\"balanced\", solver=\"liblinear\",  penalty=\"l2\", C=0.0001) # ロジスティック回帰モデルのインスタンスを作成\n",
    "        lr.fit(x_train_std, y_train) # ロジスティック回帰モデルの重みを学習\n",
    "        \n",
    "        # 予測(確率)\n",
    "        probs = lr.predict_proba(x_test_std)\n",
    "        probs_all = np.hstack((probs_all, probs[:,1]))\n",
    "        y_true_all = np.hstack((y_true_all, y_test))\n",
    "\n",
    "        # 混同行列\n",
    "        y_pred = np.where((probs[:,1] ==  max(probs[:,1])) | (probs[:,1] > th_prob), 1, 0) #確率→0/1\n",
    "        cm = confusion_matrix(y_true=y_test, y_pred=y_pred)\n",
    "        cm_all += cm\n",
    "        \n",
    "       # 各特徴量の重み係数\n",
    "        weight = lr.coef_\n",
    "        \n",
    "        \n",
    "#         print_weight_map(weight, features)\n",
    "\n",
    "    auc = roc_auc_score(y_true_all, probs_all)\n",
    "    fpr, tpr, thresholds = roc_curve(y_true_all, probs_all)\n",
    "    \n",
    "    plot_roc_curve(fpr, tpr, auc)\n",
    "    \n",
    "    print(\"len: {0} , {1}\".format(len(y_true_all), len(probs_all) ))\n",
    "    print(\"confusion_matrix: \")\n",
    "    print(cm_all)\n",
    "    print(\"AUC: \")\n",
    "    print(auc)\n",
    "    print()\n",
    "    return auc"
   ]
  },
  {
   "cell_type": "code",
   "execution_count": 11,
   "metadata": {
    "scrolled": false
   },
   "outputs": [
    {
     "data": {
      "image/png": "[encoded data removed]",
      "text/plain": [
       "<Figure size 432x288 with 1 Axes>"
      ]
     },
     "metadata": {
      "needs_background": "light"
     },
     "output_type": "display_data"
    },
    {
     "name": "stdout",
     "output_type": "stream",
     "text": [
      "len: 211 , 211\n",
      "confusion_matrix: \n",
      "[[117.  52.]\n",
      " [ 11.  31.]]\n",
      "AUC: \n",
      "0.7503522118906735\n",
      "\n"
     ]
    }
   ],
   "source": [
    "if __name__ == \"__main__\":\n",
    "    train()"
   ]
  },
  {
   "cell_type": "code",
   "execution_count": null,
   "metadata": {
    "scrolled": true
   },
   "outputs": [],
   "source": [
    "# l2 liblinear (共線性あり)\n",
    "#  best value is -0.7550014088475626 with parameters: {'C_val': 0.00025433628983389037}.\n",
    "\n",
    "# saga l1ration\n",
    "# best value is -0.7434488588334741 with parameters: {'C_val': 0.00012028884882182497, 'l1_ratio': 0.0004895734071039444}.\n",
    "\n",
    "#liblinear l2\n",
    "# best value is -0.7503522118906735 with parameters: {'C_val': 0.00010009919430783164}."
   ]
  }
 ],
 "metadata": {
  "kernelspec": {
   "display_name": "Python 3",
   "language": "python",
   "name": "python3"
  },
  "language_info": {
   "codemirror_mode": {
    "name": "ipython",
    "version": 3
   },
   "file_extension": ".py",
   "mimetype": "text/x-python",
   "name": "python",
   "nbconvert_exporter": "python",
   "pygments_lexer": "ipython3",
   "version": "3.6.8"
  }
 },
 "nbformat": 4,
 "nbformat_minor": 2
}
