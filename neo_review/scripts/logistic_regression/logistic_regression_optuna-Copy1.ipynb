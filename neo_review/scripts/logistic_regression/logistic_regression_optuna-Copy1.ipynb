{
 "cells": [
  {
   "cell_type": "code",
   "execution_count": 1,
   "metadata": {},
   "outputs": [],
   "source": [
    "import numpy as np\n",
    "import json\n",
    "import csv\n",
    "import pandas as pd\n",
    "import matplotlib.pyplot as plt\n",
    "from sklearn.linear_model import LogisticRegression\n",
    "from sklearn.metrics import confusion_matrix\n",
    "from sklearn.preprocessing import StandardScaler\n",
    "from sklearn.metrics import roc_auc_score\n",
    "from sklearn.metrics import roc_curve\n",
    "import optuna\n",
    "%matplotlib inline"
   ]
  },
  {
   "cell_type": "code",
   "execution_count": 2,
   "metadata": {},
   "outputs": [],
   "source": [
    "def print_weight_map(weight, features):\n",
    "    # feature importance\n",
    "    feature_imp = weight.reshape(features.shape)\n",
    "    feature_imp_arg = np.argsort(feature_imp)\n",
    "    f_num = len(feature_imp_arg)\n",
    "    plt.rcParams[\"font.family\"] = \"IPAexGothic\"\n",
    "    plt.figure(figsize=(20,20))\n",
    "    plt.barh(range(len(feature_imp_arg)), feature_imp[feature_imp_arg], color='b', align='center')\n",
    "    plt.yticks(range(len(feature_imp_arg)), features[feature_imp_arg])\n",
    "    plt.show()"
   ]
  },
  {
   "cell_type": "code",
   "execution_count": 3,
   "metadata": {},
   "outputs": [],
   "source": [
    "def plot_roc_curve(fpr, tpr, auc):\n",
    "    # ROC曲線をプロット\n",
    "    plt.plot(fpr, tpr, label='ROC curve (area = %.2f)'%auc)\n",
    "    plt.legend()\n",
    "    plt.title('ROC curve')\n",
    "    plt.xlabel('False Positive Rate')\n",
    "    plt.ylabel('True Positive Rate')\n",
    "    plt.grid(True)\n",
    "    plt.show()"
   ]
  },
  {
   "cell_type": "code",
   "execution_count": 11,
   "metadata": {},
   "outputs": [],
   "source": [
    "# optunaで最適なC_valを探す\n",
    "\n",
    "def train(trial):\n",
    "    \n",
    "    \n",
    "    path = '../../data/dataframes/std_data/'\n",
    "    \n",
    "    th_prob = 0.5\n",
    "    C_val = trial.suggest_uniform('C_val', 1, 100)\n",
    "#     l1_ratio = trial.suggest_uniform('l1_ratio', 0, 1)\n",
    "    \n",
    "    print(\" C_val:{}\".format(C_val))\n",
    "    \n",
    "    cm_all = np.zeros((2, 2))\n",
    "    \n",
    "    # 予測した確率全体を格納\n",
    "    probs_all = np.array([])\n",
    "    y_true_all = np.array([])\n",
    "    \n",
    "    for y in range(1978, 2020):\n",
    "        \n",
    "        # データの生成\n",
    "        x_train_std = pd.read_pickle(path +'train/{}_x.pkl'.format(str(y))).values\n",
    "        x_test_std = pd.read_pickle(path +'test/{}_x.pkl'.format(str(y))).values\n",
    "        y_train = pd.read_pickle(path +'train/{}_y.pkl'.format(str(y))).values\n",
    "        y_test = pd.read_pickle(path +'test/{}_y.pkl'.format(str(y))).values\n",
    "        \n",
    "        features = pd.read_pickle(path +'train/{}_x.pkl'.format(str(y))).columns\n",
    "        \n",
    "        # 学習\n",
    "        lr = LogisticRegression(class_weight=\"balanced\", solver=\"liblinear\",  penalty=\"l2\", C=C_val) # ロジスティック回帰モデルのインスタンスを作成\n",
    "        lr.fit(x_train_std, y_train) # ロジスティック回帰モデルの重みを学習\n",
    "        \n",
    "        # 予測(確率)\n",
    "        probs = lr.predict_proba(x_test_std)\n",
    "        probs_all = np.hstack((probs_all, probs[:,1]))\n",
    "        y_true_all = np.hstack((y_true_all, y_test))\n",
    "\n",
    "        # 混同行列\n",
    "        y_pred = np.where((probs[:,1] ==  max(probs[:,1])) | (probs[:,1] > th_prob), 1, 0) #確率→0/1\n",
    "        cm = confusion_matrix(y_true=y_test, y_pred=y_pred)\n",
    "        cm_all += cm\n",
    "        \n",
    "       # 各特徴量の重み係数\n",
    "        weight = lr.coef_\n",
    "        \n",
    "        \n",
    "#         print_weight_map(weight, features)\n",
    "\n",
    "    auc = roc_auc_score(y_true_all, probs_all)\n",
    "    fpr, tpr, thresholds = roc_curve(y_true_all, probs_all)\n",
    "    \n",
    "#     print_weight_map(weight, features)\n",
    "#     plot_roc_curve(fpr, tpr, auc)\n",
    "    \n",
    "#     print(\"len: {0} , {1}\".format(len(y_true_all), len(probs_all) ))\n",
    "#     print(\"confusion_matrix: \")\n",
    "#     print(cm_all)\n",
    "#     print(\"AUC: \")\n",
    "#     print(auc)\n",
    "#     print()\n",
    "    return -auc"
   ]
  },
  {
   "cell_type": "code",
   "execution_count": 12,
   "metadata": {},
   "outputs": [],
   "source": [
    "from sklearn.utils.testing import ignore_warnings\n",
    "from sklearn.exceptions import ConvergenceWarning\n",
    "@ignore_warnings(category=ConvergenceWarning)\n",
    "def main():\n",
    "    np.set_printoptions(precision=3, suppress=True)\n",
    "    study = optuna.create_study()\n",
    "    study.optimize(train, n_trials=100)\n",
    "    print(study.best_trial)"
   ]
  },
  {
   "cell_type": "code",
   "execution_count": 13,
   "metadata": {
    "scrolled": false
   },
   "outputs": [
    {
     "name": "stdout",
     "output_type": "stream",
     "text": [
      " C_val:43.92664348159629\n"
     ]
    },
    {
     "name": "stderr",
     "output_type": "stream",
     "text": [
      "[I 2019-08-22 09:58:14,145] Finished trial#0 resulted in value: -0.6873062834601297. Current best value is -0.6873062834601297 with parameters: {'C_val': 43.92664348159629}.\n"
     ]
    },
    {
     "name": "stdout",
     "output_type": "stream",
     "text": [
      " C_val:22.547390753895062\n"
     ]
    },
    {
     "name": "stderr",
     "output_type": "stream",
     "text": [
      "[I 2019-08-22 09:58:14,576] Finished trial#1 resulted in value: -0.6926599041983657. Current best value is -0.6926599041983657 with parameters: {'C_val': 22.547390753895062}.\n"
     ]
    },
    {
     "name": "stdout",
     "output_type": "stream",
     "text": [
      " C_val:64.60569137197811\n"
     ]
    },
    {
     "name": "stderr",
     "output_type": "stream",
     "text": [
      "[I 2019-08-22 09:58:15,069] Finished trial#2 resulted in value: -0.6864609749225133. Current best value is -0.6926599041983657 with parameters: {'C_val': 22.547390753895062}.\n"
     ]
    },
    {
     "name": "stdout",
     "output_type": "stream",
     "text": [
      " C_val:33.21586111683017\n"
     ]
    },
    {
     "name": "stderr",
     "output_type": "stream",
     "text": [
      "[I 2019-08-22 09:58:15,518] Finished trial#3 resulted in value: -0.6911101718794025. Current best value is -0.6926599041983657 with parameters: {'C_val': 22.547390753895062}.\n"
     ]
    },
    {
     "name": "stdout",
     "output_type": "stream",
     "text": [
      " C_val:18.17396298583951\n"
     ]
    },
    {
     "name": "stderr",
     "output_type": "stream",
     "text": [
      "[I 2019-08-22 09:58:15,953] Finished trial#4 resulted in value: -0.692378134685827. Current best value is -0.6926599041983657 with parameters: {'C_val': 22.547390753895062}.\n"
     ]
    },
    {
     "name": "stdout",
     "output_type": "stream",
     "text": [
      " C_val:92.03996702253897\n"
     ]
    },
    {
     "name": "stderr",
     "output_type": "stream",
     "text": [
      "[I 2019-08-22 09:58:16,416] Finished trial#5 resulted in value: -0.680966469428008. Current best value is -0.6926599041983657 with parameters: {'C_val': 22.547390753895062}.\n"
     ]
    },
    {
     "name": "stdout",
     "output_type": "stream",
     "text": [
      " C_val:61.45008826872856\n"
     ]
    },
    {
     "name": "stderr",
     "output_type": "stream",
     "text": [
      "[I 2019-08-22 09:58:16,879] Finished trial#6 resulted in value: -0.6868836291913214. Current best value is -0.6926599041983657 with parameters: {'C_val': 22.547390753895062}.\n"
     ]
    },
    {
     "name": "stdout",
     "output_type": "stream",
     "text": [
      " C_val:29.90551900824125\n"
     ]
    },
    {
     "name": "stderr",
     "output_type": "stream",
     "text": [
      "[I 2019-08-22 09:58:17,318] Finished trial#7 resulted in value: -0.6918145956607495. Current best value is -0.6926599041983657 with parameters: {'C_val': 22.547390753895062}.\n"
     ]
    },
    {
     "name": "stdout",
     "output_type": "stream",
     "text": [
      " C_val:91.98652472444142\n"
     ]
    },
    {
     "name": "stderr",
     "output_type": "stream",
     "text": [
      "[I 2019-08-22 09:58:17,865] Finished trial#8 resulted in value: -0.680966469428008. Current best value is -0.6926599041983657 with parameters: {'C_val': 22.547390753895062}.\n"
     ]
    },
    {
     "name": "stdout",
     "output_type": "stream",
     "text": [
      " C_val:42.460026841823336\n"
     ]
    },
    {
     "name": "stderr",
     "output_type": "stream",
     "text": [
      "[I 2019-08-22 09:58:18,330] Finished trial#9 resulted in value: -0.6878698224852071. Current best value is -0.6926599041983657 with parameters: {'C_val': 22.547390753895062}.\n"
     ]
    },
    {
     "name": "stdout",
     "output_type": "stream",
     "text": [
      " C_val:2.3511079502450087\n"
     ]
    },
    {
     "name": "stderr",
     "output_type": "stream",
     "text": [
      "[I 2019-08-22 09:58:18,784] Finished trial#10 resulted in value: -0.6437728937728938. Current best value is -0.6926599041983657 with parameters: {'C_val': 22.547390753895062}.\n"
     ]
    },
    {
     "name": "stdout",
     "output_type": "stream",
     "text": [
      " C_val:4.957567052202606\n"
     ]
    },
    {
     "name": "stderr",
     "output_type": "stream",
     "text": [
      "[I 2019-08-22 09:58:19,262] Finished trial#11 resulted in value: -0.6785714285714286. Current best value is -0.6926599041983657 with parameters: {'C_val': 22.547390753895062}.\n"
     ]
    },
    {
     "name": "stdout",
     "output_type": "stream",
     "text": [
      " C_val:18.344926822648628\n"
     ]
    },
    {
     "name": "stderr",
     "output_type": "stream",
     "text": [
      "[I 2019-08-22 09:58:19,776] Finished trial#12 resulted in value: -0.6929416737109045. Current best value is -0.6929416737109045 with parameters: {'C_val': 18.344926822648628}.\n"
     ]
    },
    {
     "name": "stdout",
     "output_type": "stream",
     "text": [
      " C_val:16.31381081795613\n"
     ]
    },
    {
     "name": "stderr",
     "output_type": "stream",
     "text": [
      "[I 2019-08-22 09:58:20,261] Finished trial#13 resulted in value: -0.6926599041983658. Current best value is -0.6929416737109045 with parameters: {'C_val': 18.344926822648628}.\n"
     ]
    },
    {
     "name": "stdout",
     "output_type": "stream",
     "text": [
      " C_val:12.877736568824783\n"
     ]
    },
    {
     "name": "stderr",
     "output_type": "stream",
     "text": [
      "[I 2019-08-22 09:58:20,697] Finished trial#14 resulted in value: -0.6942096365173288. Current best value is -0.6942096365173288 with parameters: {'C_val': 12.877736568824783}.\n"
     ]
    },
    {
     "name": "stdout",
     "output_type": "stream",
     "text": [
      " C_val:4.837136175749826\n"
     ]
    },
    {
     "name": "stderr",
     "output_type": "stream",
     "text": [
      "[I 2019-08-22 09:58:21,183] Finished trial#15 resulted in value: -0.6782896590588899. Current best value is -0.6942096365173288 with parameters: {'C_val': 12.877736568824783}.\n"
     ]
    },
    {
     "name": "stdout",
     "output_type": "stream",
     "text": [
      " C_val:10.375240915062857\n"
     ]
    },
    {
     "name": "stderr",
     "output_type": "stream",
     "text": [
      "[I 2019-08-22 09:58:21,611] Finished trial#16 resulted in value: -0.692378134685827. Current best value is -0.6942096365173288 with parameters: {'C_val': 12.877736568824783}.\n"
     ]
    },
    {
     "name": "stdout",
     "output_type": "stream",
     "text": [
      " C_val:58.87500720262106\n"
     ]
    },
    {
     "name": "stderr",
     "output_type": "stream",
     "text": [
      "[I 2019-08-22 09:58:22,070] Finished trial#17 resulted in value: -0.6868836291913215. Current best value is -0.6942096365173288 with parameters: {'C_val': 12.877736568824783}.\n"
     ]
    },
    {
     "name": "stdout",
     "output_type": "stream",
     "text": [
      " C_val:75.32181821390141\n"
     ]
    },
    {
     "name": "stderr",
     "output_type": "stream",
     "text": [
      "[I 2019-08-22 09:58:22,525] Finished trial#18 resulted in value: -0.6835023950408565. Current best value is -0.6942096365173288 with parameters: {'C_val': 12.877736568824783}.\n"
     ]
    },
    {
     "name": "stdout",
     "output_type": "stream",
     "text": [
      " C_val:31.913643645690744\n"
     ]
    },
    {
     "name": "stderr",
     "output_type": "stream",
     "text": [
      "[I 2019-08-22 09:58:22,967] Finished trial#19 resulted in value: -0.6915328261482108. Current best value is -0.6942096365173288 with parameters: {'C_val': 12.877736568824783}.\n"
     ]
    },
    {
     "name": "stdout",
     "output_type": "stream",
     "text": [
      " C_val:24.865775114374525\n"
     ]
    },
    {
     "name": "stderr",
     "output_type": "stream",
     "text": [
      "[I 2019-08-22 09:58:23,403] Finished trial#20 resulted in value: -0.6913919413919414. Current best value is -0.6942096365173288 with parameters: {'C_val': 12.877736568824783}.\n"
     ]
    },
    {
     "name": "stdout",
     "output_type": "stream",
     "text": [
      " C_val:16.217125456190757\n"
     ]
    },
    {
     "name": "stderr",
     "output_type": "stream",
     "text": [
      "[I 2019-08-22 09:58:23,909] Finished trial#21 resulted in value: -0.6926599041983658. Current best value is -0.6942096365173288 with parameters: {'C_val': 12.877736568824783}.\n"
     ]
    },
    {
     "name": "stdout",
     "output_type": "stream",
     "text": [
      " C_val:15.001079479439062\n"
     ]
    },
    {
     "name": "stderr",
     "output_type": "stream",
     "text": [
      "[I 2019-08-22 09:58:24,425] Finished trial#22 resulted in value: -0.6933643279797127. Current best value is -0.6942096365173288 with parameters: {'C_val': 12.877736568824783}.\n"
     ]
    },
    {
     "name": "stdout",
     "output_type": "stream",
     "text": [
      " C_val:9.793775247547075\n"
     ]
    },
    {
     "name": "stderr",
     "output_type": "stream",
     "text": [
      "[I 2019-08-22 09:58:24,874] Finished trial#23 resulted in value: -0.6919554804170189. Current best value is -0.6942096365173288 with parameters: {'C_val': 12.877736568824783}.\n"
     ]
    },
    {
     "name": "stdout",
     "output_type": "stream",
     "text": [
      " C_val:1.110553116692012\n"
     ]
    },
    {
     "name": "stderr",
     "output_type": "stream",
     "text": [
      "[I 2019-08-22 09:58:25,348] Finished trial#24 resulted in value: -0.5902366863905325. Current best value is -0.6942096365173288 with parameters: {'C_val': 12.877736568824783}.\n"
     ]
    },
    {
     "name": "stdout",
     "output_type": "stream",
     "text": [
      " C_val:40.01965957386822\n"
     ]
    },
    {
     "name": "stderr",
     "output_type": "stream",
     "text": [
      "[I 2019-08-22 09:58:25,794] Finished trial#25 resulted in value: -0.688996900535362. Current best value is -0.6942096365173288 with parameters: {'C_val': 12.877736568824783}.\n"
     ]
    },
    {
     "name": "stdout",
     "output_type": "stream",
     "text": [
      " C_val:11.252738474522255\n"
     ]
    },
    {
     "name": "stderr",
     "output_type": "stream",
     "text": [
      "[I 2019-08-22 09:58:26,286] Finished trial#26 resulted in value: -0.6937869822485208. Current best value is -0.6942096365173288 with parameters: {'C_val': 12.877736568824783}.\n"
     ]
    },
    {
     "name": "stdout",
     "output_type": "stream",
     "text": [
      " C_val:12.346329899775844\n"
     ]
    },
    {
     "name": "stderr",
     "output_type": "stream",
     "text": [
      "[I 2019-08-22 09:58:26,763] Finished trial#27 resulted in value: -0.694632290786137. Current best value is -0.694632290786137 with parameters: {'C_val': 12.346329899775844}.\n"
     ]
    },
    {
     "name": "stdout",
     "output_type": "stream",
     "text": [
      " C_val:26.577026830890233\n"
     ]
    },
    {
     "name": "stderr",
     "output_type": "stream",
     "text": [
      "[I 2019-08-22 09:58:27,272] Finished trial#28 resulted in value: -0.691251056635672. Current best value is -0.694632290786137 with parameters: {'C_val': 12.346329899775844}.\n"
     ]
    },
    {
     "name": "stdout",
     "output_type": "stream",
     "text": [
      " C_val:38.76217380971762\n"
     ]
    },
    {
     "name": "stderr",
     "output_type": "stream",
     "text": [
      "[I 2019-08-22 09:58:27,723] Finished trial#29 resulted in value: -0.6892786700479008. Current best value is -0.694632290786137 with parameters: {'C_val': 12.346329899775844}.\n"
     ]
    },
    {
     "name": "stdout",
     "output_type": "stream",
     "text": [
      " C_val:52.01164552056527\n"
     ]
    },
    {
     "name": "stderr",
     "output_type": "stream",
     "text": [
      "[I 2019-08-22 09:58:28,182] Finished trial#30 resulted in value: -0.6888560157790926. Current best value is -0.694632290786137 with parameters: {'C_val': 12.346329899775844}.\n"
     ]
    },
    {
     "name": "stdout",
     "output_type": "stream",
     "text": [
      " C_val:8.349227963529636\n"
     ]
    },
    {
     "name": "stderr",
     "output_type": "stream",
     "text": [
      "[I 2019-08-22 09:58:28,705] Finished trial#31 resulted in value: -0.6902648633417864. Current best value is -0.694632290786137 with parameters: {'C_val': 12.346329899775844}.\n"
     ]
    },
    {
     "name": "stdout",
     "output_type": "stream",
     "text": [
      " C_val:15.089380593016685\n"
     ]
    },
    {
     "name": "stderr",
     "output_type": "stream",
     "text": [
      "[I 2019-08-22 09:58:29,140] Finished trial#32 resulted in value: -0.6933643279797127. Current best value is -0.694632290786137 with parameters: {'C_val': 12.346329899775844}.\n"
     ]
    },
    {
     "name": "stdout",
     "output_type": "stream",
     "text": [
      " C_val:21.71002566189107\n"
     ]
    },
    {
     "name": "stderr",
     "output_type": "stream",
     "text": [
      "[I 2019-08-22 09:58:29,681] Finished trial#33 resulted in value: -0.6930825584671739. Current best value is -0.694632290786137 with parameters: {'C_val': 12.346329899775844}.\n"
     ]
    },
    {
     "name": "stdout",
     "output_type": "stream",
     "text": [
      " C_val:1.4048760105138545\n"
     ]
    },
    {
     "name": "stderr",
     "output_type": "stream",
     "text": [
      "[I 2019-08-22 09:58:30,160] Finished trial#34 resulted in value: -0.6123555931248238. Current best value is -0.694632290786137 with parameters: {'C_val': 12.346329899775844}.\n"
     ]
    },
    {
     "name": "stdout",
     "output_type": "stream",
     "text": [
      " C_val:11.727476979548527\n"
     ]
    },
    {
     "name": "stderr",
     "output_type": "stream",
     "text": [
      "[I 2019-08-22 09:58:30,625] Finished trial#35 resulted in value: -0.6936460974922513. Current best value is -0.694632290786137 with parameters: {'C_val': 12.346329899775844}.\n"
     ]
    },
    {
     "name": "stdout",
     "output_type": "stream",
     "text": [
      " C_val:10.442367925576837\n"
     ]
    },
    {
     "name": "stderr",
     "output_type": "stream",
     "text": [
      "[I 2019-08-22 09:58:31,090] Finished trial#36 resulted in value: -0.6922372499295576. Current best value is -0.694632290786137 with parameters: {'C_val': 12.346329899775844}.\n"
     ]
    },
    {
     "name": "stdout",
     "output_type": "stream",
     "text": [
      " C_val:22.334813832175115\n"
     ]
    },
    {
     "name": "stderr",
     "output_type": "stream",
     "text": [
      "[I 2019-08-22 09:58:31,599] Finished trial#37 resulted in value: -0.6929416737109044. Current best value is -0.694632290786137 with parameters: {'C_val': 12.346329899775844}.\n"
     ]
    },
    {
     "name": "stdout",
     "output_type": "stream",
     "text": [
      " C_val:33.17423384026023\n"
     ]
    },
    {
     "name": "stderr",
     "output_type": "stream",
     "text": [
      "[I 2019-08-22 09:58:32,120] Finished trial#38 resulted in value: -0.6911101718794025. Current best value is -0.694632290786137 with parameters: {'C_val': 12.346329899775844}.\n"
     ]
    },
    {
     "name": "stdout",
     "output_type": "stream",
     "text": [
      " C_val:27.252241846021114\n"
     ]
    },
    {
     "name": "stderr",
     "output_type": "stream",
     "text": [
      "[I 2019-08-22 09:58:32,622] Finished trial#39 resulted in value: -0.690546632854325. Current best value is -0.694632290786137 with parameters: {'C_val': 12.346329899775844}.\n"
     ]
    },
    {
     "name": "stdout",
     "output_type": "stream",
     "text": [
      " C_val:7.459164466680398\n"
     ]
    },
    {
     "name": "stderr",
     "output_type": "stream",
     "text": [
      "[I 2019-08-22 09:58:33,112] Finished trial#40 resulted in value: -0.6884333615102846. Current best value is -0.694632290786137 with parameters: {'C_val': 12.346329899775844}.\n"
     ]
    },
    {
     "name": "stdout",
     "output_type": "stream",
     "text": [
      " C_val:14.201251140985356\n"
     ]
    },
    {
     "name": "stderr",
     "output_type": "stream",
     "text": [
      "[I 2019-08-22 09:58:33,573] Finished trial#41 resulted in value: -0.6937869822485208. Current best value is -0.694632290786137 with parameters: {'C_val': 12.346329899775844}.\n"
     ]
    },
    {
     "name": "stdout",
     "output_type": "stream",
     "text": [
      " C_val:12.285256956799188\n"
     ]
    },
    {
     "name": "stderr",
     "output_type": "stream",
     "text": [
      "[I 2019-08-22 09:58:34,064] Finished trial#42 resulted in value: -0.694632290786137. Current best value is -0.694632290786137 with parameters: {'C_val': 12.346329899775844}.\n"
     ]
    },
    {
     "name": "stdout",
     "output_type": "stream",
     "text": [
      " C_val:21.15485847850418\n"
     ]
    },
    {
     "name": "stderr",
     "output_type": "stream",
     "text": [
      "[I 2019-08-22 09:58:34,570] Finished trial#43 resulted in value: -0.6933643279797126. Current best value is -0.694632290786137 with parameters: {'C_val': 12.346329899775844}.\n"
     ]
    },
    {
     "name": "stdout",
     "output_type": "stream",
     "text": [
      " C_val:3.288334355986752\n"
     ]
    },
    {
     "name": "stderr",
     "output_type": "stream",
     "text": [
      "[I 2019-08-22 09:58:34,994] Finished trial#44 resulted in value: -0.6642011834319527. Current best value is -0.694632290786137 with parameters: {'C_val': 12.346329899775844}.\n"
     ]
    },
    {
     "name": "stdout",
     "output_type": "stream",
     "text": [
      " C_val:12.956261671929848\n"
     ]
    },
    {
     "name": "stderr",
     "output_type": "stream",
     "text": [
      "[I 2019-08-22 09:58:35,426] Finished trial#45 resulted in value: -0.6944914060298676. Current best value is -0.694632290786137 with parameters: {'C_val': 12.346329899775844}.\n"
     ]
    },
    {
     "name": "stdout",
     "output_type": "stream",
     "text": [
      " C_val:76.84821810620285\n"
     ]
    },
    {
     "name": "stderr",
     "output_type": "stream",
     "text": [
      "[I 2019-08-22 09:58:35,928] Finished trial#46 resulted in value: -0.682938856015779. Current best value is -0.694632290786137 with parameters: {'C_val': 12.346329899775844}.\n"
     ]
    },
    {
     "name": "stdout",
     "output_type": "stream",
     "text": [
      " C_val:36.45108480481908\n"
     ]
    },
    {
     "name": "stderr",
     "output_type": "stream",
     "text": [
      "[I 2019-08-22 09:58:36,381] Finished trial#47 resulted in value: -0.6909692871231333. Current best value is -0.694632290786137 with parameters: {'C_val': 12.346329899775844}.\n"
     ]
    },
    {
     "name": "stdout",
     "output_type": "stream",
     "text": [
      " C_val:19.715350427535107\n"
     ]
    },
    {
     "name": "stderr",
     "output_type": "stream",
     "text": [
      "[I 2019-08-22 09:58:36,886] Finished trial#48 resulted in value: -0.6930825584671738. Current best value is -0.694632290786137 with parameters: {'C_val': 12.346329899775844}.\n"
     ]
    },
    {
     "name": "stdout",
     "output_type": "stream",
     "text": [
      " C_val:4.664334604494297\n"
     ]
    },
    {
     "name": "stderr",
     "output_type": "stream",
     "text": [
      "[I 2019-08-22 09:58:37,305] Finished trial#49 resulted in value: -0.676880811496196. Current best value is -0.694632290786137 with parameters: {'C_val': 12.346329899775844}.\n"
     ]
    },
    {
     "name": "stdout",
     "output_type": "stream",
     "text": [
      " C_val:28.90060416449522\n"
     ]
    },
    {
     "name": "stderr",
     "output_type": "stream",
     "text": [
      "[I 2019-08-22 09:58:37,771] Finished trial#50 resulted in value: -0.6908284023668638. Current best value is -0.694632290786137 with parameters: {'C_val': 12.346329899775844}.\n"
     ]
    },
    {
     "name": "stdout",
     "output_type": "stream",
     "text": [
      " C_val:12.981275364161446\n"
     ]
    },
    {
     "name": "stderr",
     "output_type": "stream",
     "text": [
      "[I 2019-08-22 09:58:38,390] Finished trial#51 resulted in value: -0.6944914060298676. Current best value is -0.694632290786137 with parameters: {'C_val': 12.346329899775844}.\n"
     ]
    },
    {
     "name": "stdout",
     "output_type": "stream",
     "text": [
      " C_val:12.877351932201728\n"
     ]
    },
    {
     "name": "stderr",
     "output_type": "stream",
     "text": [
      "[I 2019-08-22 09:58:38,941] Finished trial#52 resulted in value: -0.6942096365173288. Current best value is -0.694632290786137 with parameters: {'C_val': 12.346329899775844}.\n"
     ]
    },
    {
     "name": "stdout",
     "output_type": "stream",
     "text": [
      " C_val:18.667117845558423\n"
     ]
    },
    {
     "name": "stderr",
     "output_type": "stream",
     "text": [
      "[I 2019-08-22 09:58:39,479] Finished trial#53 resulted in value: -0.6930825584671739. Current best value is -0.694632290786137 with parameters: {'C_val': 12.346329899775844}.\n"
     ]
    },
    {
     "name": "stdout",
     "output_type": "stream",
     "text": [
      " C_val:7.66787161159214\n"
     ]
    },
    {
     "name": "stderr",
     "output_type": "stream",
     "text": [
      "[I 2019-08-22 09:58:40,071] Finished trial#54 resulted in value: -0.6887151310228234. Current best value is -0.694632290786137 with parameters: {'C_val': 12.346329899775844}.\n"
     ]
    },
    {
     "name": "stdout",
     "output_type": "stream",
     "text": [
      " C_val:12.925787629421151\n"
     ]
    },
    {
     "name": "stderr",
     "output_type": "stream",
     "text": [
      "[I 2019-08-22 09:58:40,700] Finished trial#55 resulted in value: -0.6944914060298675. Current best value is -0.694632290786137 with parameters: {'C_val': 12.346329899775844}.\n"
     ]
    },
    {
     "name": "stdout",
     "output_type": "stream",
     "text": [
      " C_val:23.22494994718426\n"
     ]
    },
    {
     "name": "stderr",
     "output_type": "stream",
     "text": [
      "[I 2019-08-22 09:58:41,232] Finished trial#56 resulted in value: -0.692378134685827. Current best value is -0.694632290786137 with parameters: {'C_val': 12.346329899775844}.\n"
     ]
    },
    {
     "name": "stdout",
     "output_type": "stream",
     "text": [
      " C_val:17.59843297722997\n"
     ]
    },
    {
     "name": "stderr",
     "output_type": "stream",
     "text": [
      "[I 2019-08-22 09:58:41,773] Finished trial#57 resulted in value: -0.6925190194420964. Current best value is -0.694632290786137 with parameters: {'C_val': 12.346329899775844}.\n"
     ]
    },
    {
     "name": "stdout",
     "output_type": "stream",
     "text": [
      " C_val:6.124165907640064\n"
     ]
    },
    {
     "name": "stderr",
     "output_type": "stream",
     "text": [
      "[I 2019-08-22 09:58:42,306] Finished trial#58 resulted in value: -0.6822344322344321. Current best value is -0.694632290786137 with parameters: {'C_val': 12.346329899775844}.\n"
     ]
    },
    {
     "name": "stdout",
     "output_type": "stream",
     "text": [
      " C_val:14.293844823722335\n"
     ]
    },
    {
     "name": "stderr",
     "output_type": "stream",
     "text": [
      "[I 2019-08-22 09:58:42,822] Finished trial#59 resulted in value: -0.6936460974922514. Current best value is -0.694632290786137 with parameters: {'C_val': 12.346329899775844}.\n"
     ]
    },
    {
     "name": "stdout",
     "output_type": "stream",
     "text": [
      " C_val:1.329789061415788\n"
     ]
    },
    {
     "name": "stderr",
     "output_type": "stream",
     "text": [
      "[I 2019-08-22 09:58:43,368] Finished trial#60 resulted in value: -0.6071428571428571. Current best value is -0.694632290786137 with parameters: {'C_val': 12.346329899775844}.\n"
     ]
    },
    {
     "name": "stdout",
     "output_type": "stream",
     "text": [
      " C_val:11.431035732012687\n"
     ]
    },
    {
     "name": "stderr",
     "output_type": "stream",
     "text": [
      "[I 2019-08-22 09:58:43,889] Finished trial#61 resulted in value: -0.693505212735982. Current best value is -0.694632290786137 with parameters: {'C_val': 12.346329899775844}.\n"
     ]
    },
    {
     "name": "stdout",
     "output_type": "stream",
     "text": [
      " C_val:13.206562584980988\n"
     ]
    },
    {
     "name": "stderr",
     "output_type": "stream",
     "text": [
      "[I 2019-08-22 09:58:44,396] Finished trial#62 resulted in value: -0.6946322907861369. Current best value is -0.694632290786137 with parameters: {'C_val': 12.346329899775844}.\n"
     ]
    },
    {
     "name": "stdout",
     "output_type": "stream",
     "text": [
      " C_val:17.832122247442253\n"
     ]
    },
    {
     "name": "stderr",
     "output_type": "stream",
     "text": [
      "[I 2019-08-22 09:58:44,912] Finished trial#63 resulted in value: -0.6922372499295576. Current best value is -0.694632290786137 with parameters: {'C_val': 12.346329899775844}.\n"
     ]
    },
    {
     "name": "stdout",
     "output_type": "stream",
     "text": [
      " C_val:24.88437249761223\n"
     ]
    },
    {
     "name": "stderr",
     "output_type": "stream",
     "text": [
      "[I 2019-08-22 09:58:45,453] Finished trial#64 resulted in value: -0.6913919413919414. Current best value is -0.694632290786137 with parameters: {'C_val': 12.346329899775844}.\n"
     ]
    },
    {
     "name": "stdout",
     "output_type": "stream",
     "text": [
      " C_val:7.837141743660395\n"
     ]
    },
    {
     "name": "stderr",
     "output_type": "stream",
     "text": [
      "[I 2019-08-22 09:58:45,928] Finished trial#65 resulted in value: -0.6889969005353621. Current best value is -0.694632290786137 with parameters: {'C_val': 12.346329899775844}.\n"
     ]
    },
    {
     "name": "stdout",
     "output_type": "stream",
     "text": [
      " C_val:13.289350960692083\n"
     ]
    },
    {
     "name": "stderr",
     "output_type": "stream",
     "text": [
      "[I 2019-08-22 09:58:46,364] Finished trial#66 resulted in value: -0.6943505212735982. Current best value is -0.694632290786137 with parameters: {'C_val': 12.346329899775844}.\n"
     ]
    },
    {
     "name": "stdout",
     "output_type": "stream",
     "text": [
      " C_val:4.727228578378243\n"
     ]
    },
    {
     "name": "stderr",
     "output_type": "stream",
     "text": [
      "[I 2019-08-22 09:58:46,794] Finished trial#67 resulted in value: -0.6773034657650042. Current best value is -0.694632290786137 with parameters: {'C_val': 12.346329899775844}.\n"
     ]
    },
    {
     "name": "stdout",
     "output_type": "stream",
     "text": [
      " C_val:15.576345384324723\n"
     ]
    },
    {
     "name": "stderr",
     "output_type": "stream",
     "text": [
      "[I 2019-08-22 09:58:47,295] Finished trial#68 resulted in value: -0.6930825584671739. Current best value is -0.694632290786137 with parameters: {'C_val': 12.346329899775844}.\n"
     ]
    },
    {
     "name": "stdout",
     "output_type": "stream",
     "text": [
      " C_val:47.46826061104355\n"
     ]
    },
    {
     "name": "stderr",
     "output_type": "stream",
     "text": [
      "[I 2019-08-22 09:58:47,813] Finished trial#69 resulted in value: -0.6888560157790926. Current best value is -0.694632290786137 with parameters: {'C_val': 12.346329899775844}.\n"
     ]
    },
    {
     "name": "stdout",
     "output_type": "stream",
     "text": [
      " C_val:29.689248033056547\n"
     ]
    },
    {
     "name": "stderr",
     "output_type": "stream",
     "text": [
      "[I 2019-08-22 09:58:48,269] Finished trial#70 resulted in value: -0.6913919413919414. Current best value is -0.694632290786137 with parameters: {'C_val': 12.346329899775844}.\n"
     ]
    },
    {
     "name": "stdout",
     "output_type": "stream",
     "text": [
      " C_val:11.068901703432932\n"
     ]
    },
    {
     "name": "stderr",
     "output_type": "stream",
     "text": [
      "[I 2019-08-22 09:58:48,713] Finished trial#71 resulted in value: -0.6936460974922514. Current best value is -0.694632290786137 with parameters: {'C_val': 12.346329899775844}.\n"
     ]
    },
    {
     "name": "stdout",
     "output_type": "stream",
     "text": [
      " C_val:13.438691712323246\n"
     ]
    },
    {
     "name": "stderr",
     "output_type": "stream",
     "text": [
      "[I 2019-08-22 09:58:49,153] Finished trial#72 resulted in value: -0.6937869822485206. Current best value is -0.694632290786137 with parameters: {'C_val': 12.346329899775844}.\n"
     ]
    },
    {
     "name": "stdout",
     "output_type": "stream",
     "text": [
      " C_val:19.80344663793468\n"
     ]
    },
    {
     "name": "stderr",
     "output_type": "stream",
     "text": [
      "[I 2019-08-22 09:58:49,690] Finished trial#73 resulted in value: -0.6932234432234432. Current best value is -0.694632290786137 with parameters: {'C_val': 12.346329899775844}.\n"
     ]
    },
    {
     "name": "stdout",
     "output_type": "stream",
     "text": [
      " C_val:24.41557996724502\n"
     ]
    },
    {
     "name": "stderr",
     "output_type": "stream",
     "text": [
      "[I 2019-08-22 09:58:50,197] Finished trial#74 resulted in value: -0.6909692871231333. Current best value is -0.694632290786137 with parameters: {'C_val': 12.346329899775844}.\n"
     ]
    },
    {
     "name": "stdout",
     "output_type": "stream",
     "text": [
      " C_val:9.186732339253906\n"
     ]
    },
    {
     "name": "stderr",
     "output_type": "stream",
     "text": [
      "[I 2019-08-22 09:58:50,630] Finished trial#75 resulted in value: -0.6913919413919414. Current best value is -0.694632290786137 with parameters: {'C_val': 12.346329899775844}.\n"
     ]
    },
    {
     "name": "stdout",
     "output_type": "stream",
     "text": [
      " C_val:13.069591560046241\n"
     ]
    },
    {
     "name": "stderr",
     "output_type": "stream",
     "text": [
      "[I 2019-08-22 09:58:51,064] Finished trial#76 resulted in value: -0.694632290786137. Current best value is -0.694632290786137 with parameters: {'C_val': 12.346329899775844}.\n"
     ]
    },
    {
     "name": "stdout",
     "output_type": "stream",
     "text": [
      " C_val:16.81677193755669\n"
     ]
    },
    {
     "name": "stderr",
     "output_type": "stream",
     "text": [
      "[I 2019-08-22 09:58:51,511] Finished trial#77 resulted in value: -0.6920963651732882. Current best value is -0.694632290786137 with parameters: {'C_val': 12.346329899775844}.\n"
     ]
    },
    {
     "name": "stdout",
     "output_type": "stream",
     "text": [
      " C_val:3.1816718838197637\n"
     ]
    },
    {
     "name": "stderr",
     "output_type": "stream",
     "text": [
      "[I 2019-08-22 09:58:51,961] Finished trial#78 resulted in value: -0.6609608340377571. Current best value is -0.694632290786137 with parameters: {'C_val': 12.346329899775844}.\n"
     ]
    },
    {
     "name": "stdout",
     "output_type": "stream",
     "text": [
      " C_val:6.495738635799423\n"
     ]
    },
    {
     "name": "stderr",
     "output_type": "stream",
     "text": [
      "[I 2019-08-22 09:58:52,511] Finished trial#79 resulted in value: -0.683643279797126. Current best value is -0.694632290786137 with parameters: {'C_val': 12.346329899775844}.\n"
     ]
    },
    {
     "name": "stdout",
     "output_type": "stream",
     "text": [
      " C_val:99.42287927221744\n"
     ]
    },
    {
     "name": "stderr",
     "output_type": "stream",
     "text": [
      "[I 2019-08-22 09:58:53,146] Finished trial#80 resulted in value: -0.6792758523527755. Current best value is -0.694632290786137 with parameters: {'C_val': 12.346329899775844}.\n"
     ]
    },
    {
     "name": "stdout",
     "output_type": "stream",
     "text": [
      " C_val:13.556789666908521\n"
     ]
    },
    {
     "name": "stderr",
     "output_type": "stream",
     "text": [
      "[I 2019-08-22 09:58:53,828] Finished trial#81 resulted in value: -0.6942096365173287. Current best value is -0.694632290786137 with parameters: {'C_val': 12.346329899775844}.\n"
     ]
    },
    {
     "name": "stdout",
     "output_type": "stream",
     "text": [
      " C_val:9.494551715625734\n"
     ]
    },
    {
     "name": "stderr",
     "output_type": "stream",
     "text": [
      "[I 2019-08-22 09:58:54,413] Finished trial#82 resulted in value: -0.6918145956607494. Current best value is -0.694632290786137 with parameters: {'C_val': 12.346329899775844}.\n"
     ]
    },
    {
     "name": "stdout",
     "output_type": "stream",
     "text": [
      " C_val:12.606189876334456\n"
     ]
    },
    {
     "name": "stderr",
     "output_type": "stream",
     "text": [
      "[I 2019-08-22 09:58:54,958] Finished trial#83 resulted in value: -0.69392786700479. Current best value is -0.694632290786137 with parameters: {'C_val': 12.346329899775844}.\n"
     ]
    },
    {
     "name": "stdout",
     "output_type": "stream",
     "text": [
      " C_val:21.53953091333336\n"
     ]
    },
    {
     "name": "stderr",
     "output_type": "stream",
     "text": [
      "[I 2019-08-22 09:58:55,460] Finished trial#84 resulted in value: -0.6929416737109045. Current best value is -0.694632290786137 with parameters: {'C_val': 12.346329899775844}.\n"
     ]
    },
    {
     "name": "stdout",
     "output_type": "stream",
     "text": [
      " C_val:16.153697557166012\n"
     ]
    },
    {
     "name": "stderr",
     "output_type": "stream",
     "text": [
      "[I 2019-08-22 09:58:55,927] Finished trial#85 resulted in value: -0.6928007889546351. Current best value is -0.694632290786137 with parameters: {'C_val': 12.346329899775844}.\n"
     ]
    },
    {
     "name": "stdout",
     "output_type": "stream",
     "text": [
      " C_val:19.994908595804436\n"
     ]
    },
    {
     "name": "stderr",
     "output_type": "stream",
     "text": [
      "[I 2019-08-22 09:58:56,412] Finished trial#86 resulted in value: -0.6936460974922514. Current best value is -0.694632290786137 with parameters: {'C_val': 12.346329899775844}.\n"
     ]
    },
    {
     "name": "stdout",
     "output_type": "stream",
     "text": [
      " C_val:10.906902203052766\n"
     ]
    },
    {
     "name": "stderr",
     "output_type": "stream",
     "text": [
      "[I 2019-08-22 09:58:56,945] Finished trial#87 resulted in value: -0.6935052127359819. Current best value is -0.694632290786137 with parameters: {'C_val': 12.346329899775844}.\n"
     ]
    },
    {
     "name": "stdout",
     "output_type": "stream",
     "text": [
      " C_val:1.1550579573558828\n"
     ]
    },
    {
     "name": "stderr",
     "output_type": "stream",
     "text": [
      "[I 2019-08-22 09:58:57,516] Finished trial#88 resulted in value: -0.5944632290786137. Current best value is -0.694632290786137 with parameters: {'C_val': 12.346329899775844}.\n"
     ]
    },
    {
     "name": "stdout",
     "output_type": "stream",
     "text": [
      " C_val:5.577569052411237\n"
     ]
    },
    {
     "name": "stderr",
     "output_type": "stream",
     "text": [
      "[I 2019-08-22 09:58:58,037] Finished trial#89 resulted in value: -0.6799802761341223. Current best value is -0.694632290786137 with parameters: {'C_val': 12.346329899775844}.\n"
     ]
    },
    {
     "name": "stdout",
     "output_type": "stream",
     "text": [
      " C_val:13.530867498347046\n"
     ]
    },
    {
     "name": "stderr",
     "output_type": "stream",
     "text": [
      "[I 2019-08-22 09:58:58,557] Finished trial#90 resulted in value: -0.69392786700479. Current best value is -0.694632290786137 with parameters: {'C_val': 12.346329899775844}.\n"
     ]
    },
    {
     "name": "stdout",
     "output_type": "stream",
     "text": [
      " C_val:8.754616158537889\n"
     ]
    },
    {
     "name": "stderr",
     "output_type": "stream",
     "text": [
      "[I 2019-08-22 09:58:59,113] Finished trial#91 resulted in value: -0.6919554804170189. Current best value is -0.694632290786137 with parameters: {'C_val': 12.346329899775844}.\n"
     ]
    },
    {
     "name": "stdout",
     "output_type": "stream",
     "text": [
      " C_val:17.305780858791866\n"
     ]
    },
    {
     "name": "stderr",
     "output_type": "stream",
     "text": [
      "[I 2019-08-22 09:58:59,583] Finished trial#92 resulted in value: -0.6926599041983658. Current best value is -0.694632290786137 with parameters: {'C_val': 12.346329899775844}.\n"
     ]
    },
    {
     "name": "stdout",
     "output_type": "stream",
     "text": [
      " C_val:12.50548546435043\n"
     ]
    },
    {
     "name": "stderr",
     "output_type": "stream",
     "text": [
      "[I 2019-08-22 09:59:00,153] Finished trial#93 resulted in value: -0.6944914060298676. Current best value is -0.694632290786137 with parameters: {'C_val': 12.346329899775844}.\n"
     ]
    },
    {
     "name": "stdout",
     "output_type": "stream",
     "text": [
      " C_val:15.354467020788682\n"
     ]
    },
    {
     "name": "stderr",
     "output_type": "stream",
     "text": [
      "[I 2019-08-22 09:59:00,610] Finished trial#94 resulted in value: -0.6930825584671738. Current best value is -0.694632290786137 with parameters: {'C_val': 12.346329899775844}.\n"
     ]
    },
    {
     "name": "stdout",
     "output_type": "stream",
     "text": [
      " C_val:11.65257557987028\n"
     ]
    },
    {
     "name": "stderr",
     "output_type": "stream",
     "text": [
      "[I 2019-08-22 09:59:01,149] Finished trial#95 resulted in value: -0.6936460974922513. Current best value is -0.694632290786137 with parameters: {'C_val': 12.346329899775844}.\n"
     ]
    },
    {
     "name": "stdout",
     "output_type": "stream",
     "text": [
      " C_val:19.5641564171966\n"
     ]
    },
    {
     "name": "stderr",
     "output_type": "stream",
     "text": [
      "[I 2019-08-22 09:59:01,607] Finished trial#96 resulted in value: -0.6929416737109045. Current best value is -0.694632290786137 with parameters: {'C_val': 12.346329899775844}.\n"
     ]
    },
    {
     "name": "stdout",
     "output_type": "stream",
     "text": [
      " C_val:8.558013211183447\n"
     ]
    },
    {
     "name": "stderr",
     "output_type": "stream",
     "text": [
      "[I 2019-08-22 09:59:02,048] Finished trial#97 resulted in value: -0.6911101718794027. Current best value is -0.694632290786137 with parameters: {'C_val': 12.346329899775844}.\n"
     ]
    },
    {
     "name": "stdout",
     "output_type": "stream",
     "text": [
      " C_val:3.5936957122220647\n"
     ]
    },
    {
     "name": "stderr",
     "output_type": "stream",
     "text": [
      "[I 2019-08-22 09:59:02,493] Finished trial#98 resulted in value: -0.66701887855734. Current best value is -0.694632290786137 with parameters: {'C_val': 12.346329899775844}.\n"
     ]
    },
    {
     "name": "stdout",
     "output_type": "stream",
     "text": [
      " C_val:22.35030262696173\n"
     ]
    },
    {
     "name": "stderr",
     "output_type": "stream",
     "text": [
      "[I 2019-08-22 09:59:02,960] Finished trial#99 resulted in value: -0.6929416737109044. Current best value is -0.694632290786137 with parameters: {'C_val': 12.346329899775844}.\n"
     ]
    },
    {
     "name": "stdout",
     "output_type": "stream",
     "text": [
      "FrozenTrial(number=27, state=<TrialState.COMPLETE: 1>, value=-0.694632290786137, datetime_start=datetime.datetime(2019, 8, 22, 9, 58, 26, 290036), datetime_complete=datetime.datetime(2019, 8, 22, 9, 58, 26, 761405), params={'C_val': 12.346329899775844}, distributions={'C_val': UniformDistribution(low=1, high=100)}, user_attrs={}, system_attrs={'_number': 27}, intermediate_values={}, params_in_internal_repr={'C_val': 12.346329899775844}, trial_id=27)\n"
     ]
    }
   ],
   "source": [
    "if __name__ == \"__main__\":\n",
    "    main()"
   ]
  },
  {
   "cell_type": "markdown",
   "metadata": {},
   "source": [
    "# 結果\n",
    "C = 0.001"
   ]
  },
  {
   "cell_type": "code",
   "execution_count": 74,
   "metadata": {},
   "outputs": [],
   "source": [
    "# best value is -0.7222457030149338 with parameters: {'C_val': 0.0013591999321332033}.\n",
    "# best value is -0.7420400112707805 with parameters: {'C_val': 0.08453576485123458, 'l1_ratio': 0.3231149632136399}."
   ]
  },
  {
   "cell_type": "code",
   "execution_count": null,
   "metadata": {},
   "outputs": [],
   "source": []
  }
 ],
 "metadata": {
  "kernelspec": {
   "display_name": "Python 3",
   "language": "python",
   "name": "python3"
  },
  "language_info": {
   "codemirror_mode": {
    "name": "ipython",
    "version": 3
   },
   "file_extension": ".py",
   "mimetype": "text/x-python",
   "name": "python",
   "nbconvert_exporter": "python",
   "pygments_lexer": "ipython3",
   "version": "3.6.8"
  }
 },
 "nbformat": 4,
 "nbformat_minor": 4
}
