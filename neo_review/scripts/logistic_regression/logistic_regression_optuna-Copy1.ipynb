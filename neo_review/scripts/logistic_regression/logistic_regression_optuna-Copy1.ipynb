{
 "cells": [
  {
   "cell_type": "code",
   "execution_count": 99,
   "metadata": {},
   "outputs": [],
   "source": [
    "import numpy as np\n",
    "import json\n",
    "import csv\n",
    "import pandas as pd\n",
    "import matplotlib.pyplot as plt\n",
    "from sklearn.linear_model import LogisticRegression\n",
    "from sklearn.metrics import confusion_matrix\n",
    "from sklearn.preprocessing import StandardScaler\n",
    "from sklearn.metrics import roc_auc_score\n",
    "from sklearn.metrics import roc_curve\n",
    "import optuna\n",
    "%matplotlib inline"
   ]
  },
  {
   "cell_type": "code",
   "execution_count": 100,
   "metadata": {},
   "outputs": [],
   "source": [
    "def load_data(df, test_year):\n",
    "    \n",
    "    train = df.loc[df[\"year\"] != test_year]\n",
    "    test = df.loc[df[\"year\"] == test_year]\n",
    "    \n",
    "    # 入力データの作成\n",
    "    y_train = train['prize'].ravel()\n",
    "    x_train = train.drop(['prize', 'year'], axis=1)\n",
    "    \n",
    "    features = x_train.columns\n",
    "    \n",
    "    x_train = x_train.values # 学習データ\n",
    "    \n",
    "    # テストデータの作成\n",
    "    y_test = test['prize'].ravel()\n",
    "    x_test = test.drop(['prize', 'year'], axis=1)\n",
    "    x_test = x_test.values # テストデータ\n",
    "    \n",
    "    return x_train, x_test, y_train, y_test, features"
   ]
  },
  {
   "cell_type": "code",
   "execution_count": 101,
   "metadata": {},
   "outputs": [],
   "source": [
    "def print_weight_map(weight, features):\n",
    "    # feature importance\n",
    "    feature_imp = weight.reshape(features.shape)\n",
    "    feature_imp_arg = np.argsort(feature_imp)\n",
    "    f_num = len(feature_imp_arg)\n",
    "    plt.rcParams[\"font.family\"] = \"IPAexGothic\"\n",
    "    plt.figure(figsize=(20,20))\n",
    "    plt.barh(range(len(feature_imp_arg)), feature_imp[feature_imp_arg], color='b', align='center')\n",
    "    plt.yticks(range(len(feature_imp_arg)), features[feature_imp_arg])\n",
    "    plt.show()"
   ]
  },
  {
   "cell_type": "code",
   "execution_count": 102,
   "metadata": {},
   "outputs": [],
   "source": [
    "def plot_roc_curve(fpr, tpr, auc):\n",
    "    # ROC曲線をプロット\n",
    "    plt.plot(fpr, tpr, label='ROC curve (area = %.2f)'%auc)\n",
    "    plt.legend()\n",
    "    plt.title('ROC curve')\n",
    "    plt.xlabel('False Positive Rate')\n",
    "    plt.ylabel('True Positive Rate')\n",
    "    plt.grid(True)\n",
    "    plt.show()"
   ]
  },
  {
   "cell_type": "code",
   "execution_count": 103,
   "metadata": {},
   "outputs": [],
   "source": [
    "# optunaで最適なC_valを探す\n",
    "\n",
    "def train(trial):\n",
    "    \n",
    "    \n",
    "    df =  pd.read_pickle('../../data/dataframes/pos_val_df.pkl')\n",
    "    \n",
    "    th_prob = 0.5\n",
    "    C_val = trial.suggest_uniform('C_val', 0.1, 10)\n",
    "#     l1_ratio = trial.suggest_uniform('l1_ratio', 0, 1)\n",
    "    \n",
    "    print(\" C_val:{}\".format(C_val))\n",
    "    \n",
    "    cm_all = np.zeros((2, 2))\n",
    "    \n",
    "    # 予測した確率全体を格納\n",
    "    probs_all = np.array([])\n",
    "    y_true_all = np.array([])\n",
    "    \n",
    "    for y in range(1978, 2020):\n",
    "        \n",
    "        # データの生成\n",
    "        x_train_std, x_test_std, y_train, y_test, features = load_data(df, y)\n",
    "        \n",
    "        # 学習\n",
    "        lr = LogisticRegression(class_weight=\"balanced\", solver=\"liblinear\",  penalty=\"l1\", C=C_val) # ロジスティック回帰モデルのインスタンスを作成\n",
    "        lr.fit(x_train_std, y_train) # ロジスティック回帰モデルの重みを学習\n",
    "        \n",
    "        # 予測(確率)\n",
    "        probs = lr.predict_proba(x_test_std)\n",
    "        probs_all = np.hstack((probs_all, probs[:,1]))\n",
    "        y_true_all = np.hstack((y_true_all, y_test))\n",
    "\n",
    "        # 混同行列\n",
    "        y_pred = np.where((probs[:,1] ==  max(probs[:,1])) | (probs[:,1] > th_prob), 1, 0) #確率→0/1\n",
    "        cm = confusion_matrix(y_true=y_test, y_pred=y_pred)\n",
    "        cm_all += cm\n",
    "        \n",
    "       # 各特徴量の重み係数\n",
    "        weight = lr.coef_\n",
    "        \n",
    "        \n",
    "#         print_weight_map(weight, features)\n",
    "\n",
    "    auc = roc_auc_score(y_true_all, probs_all)\n",
    "    fpr, tpr, thresholds = roc_curve(y_true_all, probs_all)\n",
    "    \n",
    "#     print_weight_map(weight, features)\n",
    "#     plot_roc_curve(fpr, tpr, auc)\n",
    "    \n",
    "#     print(\"len: {0} , {1}\".format(len(y_true_all), len(probs_all) ))\n",
    "#     print(\"confusion_matrix: \")\n",
    "#     print(cm_all)\n",
    "#     print(\"AUC: \")\n",
    "#     print(auc)\n",
    "#     print()\n",
    "    return -auc"
   ]
  },
  {
   "cell_type": "code",
   "execution_count": 104,
   "metadata": {},
   "outputs": [],
   "source": [
    "from sklearn.utils.testing import ignore_warnings\n",
    "from sklearn.exceptions import ConvergenceWarning\n",
    "@ignore_warnings(category=ConvergenceWarning)\n",
    "def main():\n",
    "    np.set_printoptions(precision=3, suppress=True)\n",
    "    study = optuna.create_study()\n",
    "    study.optimize(train, n_trials=100)\n",
    "    print(study.best_trial)"
   ]
  },
  {
   "cell_type": "code",
   "execution_count": 105,
   "metadata": {
    "scrolled": false
   },
   "outputs": [
    {
     "name": "stdout",
     "output_type": "stream",
     "text": [
      " C_val:6.585215987426222\n"
     ]
    },
    {
     "name": "stderr",
     "output_type": "stream",
     "text": [
      "[I 2019-08-22 07:44:54,762] Finished trial#0 resulted in value: -0.6370104254719638. Current best value is -0.6370104254719638 with parameters: {'C_val': 6.585215987426222}.\n"
     ]
    },
    {
     "name": "stdout",
     "output_type": "stream",
     "text": [
      " C_val:9.337508192104684\n"
     ]
    },
    {
     "name": "stderr",
     "output_type": "stream",
     "text": [
      "[I 2019-08-22 07:45:09,158] Finished trial#1 resulted in value: -0.6387010425471964. Current best value is -0.6387010425471964 with parameters: {'C_val': 9.337508192104684}.\n"
     ]
    },
    {
     "name": "stdout",
     "output_type": "stream",
     "text": [
      " C_val:8.199863663394884\n"
     ]
    },
    {
     "name": "stderr",
     "output_type": "stream",
     "text": [
      "[I 2019-08-22 07:45:23,315] Finished trial#2 resulted in value: -0.6361651169343477. Current best value is -0.6387010425471964 with parameters: {'C_val': 9.337508192104684}.\n"
     ]
    },
    {
     "name": "stdout",
     "output_type": "stream",
     "text": [
      " C_val:0.19388469211924075\n"
     ]
    },
    {
     "name": "stderr",
     "output_type": "stream",
     "text": [
      "[I 2019-08-22 07:45:24,588] Finished trial#3 resulted in value: -0.6549732318963087. Current best value is -0.6549732318963087 with parameters: {'C_val': 0.19388469211924075}.\n"
     ]
    },
    {
     "name": "stdout",
     "output_type": "stream",
     "text": [
      " C_val:9.490788095573528\n"
     ]
    },
    {
     "name": "stderr",
     "output_type": "stream",
     "text": [
      "[I 2019-08-22 07:45:38,358] Finished trial#4 resulted in value: -0.6450408565793181. Current best value is -0.6549732318963087 with parameters: {'C_val': 0.19388469211924075}.\n"
     ]
    },
    {
     "name": "stdout",
     "output_type": "stream",
     "text": [
      " C_val:6.588906858436171\n"
     ]
    },
    {
     "name": "stderr",
     "output_type": "stream",
     "text": [
      "[I 2019-08-22 07:45:52,972] Finished trial#5 resulted in value: -0.6351789236404621. Current best value is -0.6549732318963087 with parameters: {'C_val': 0.19388469211924075}.\n"
     ]
    },
    {
     "name": "stdout",
     "output_type": "stream",
     "text": [
      " C_val:8.227503295489795\n"
     ]
    },
    {
     "name": "stderr",
     "output_type": "stream",
     "text": [
      "[I 2019-08-22 07:46:06,363] Finished trial#6 resulted in value: -0.637433079740772. Current best value is -0.6549732318963087 with parameters: {'C_val': 0.19388469211924075}.\n"
     ]
    },
    {
     "name": "stdout",
     "output_type": "stream",
     "text": [
      " C_val:4.060678787715612\n"
     ]
    },
    {
     "name": "stderr",
     "output_type": "stream",
     "text": [
      "[I 2019-08-22 07:46:21,028] Finished trial#7 resulted in value: -0.6343336151028458. Current best value is -0.6549732318963087 with parameters: {'C_val': 0.19388469211924075}.\n"
     ]
    },
    {
     "name": "stdout",
     "output_type": "stream",
     "text": [
      " C_val:7.754362464171961\n"
     ]
    },
    {
     "name": "stderr",
     "output_type": "stream",
     "text": [
      "[I 2019-08-22 07:46:35,767] Finished trial#8 resulted in value: -0.6399690053536209. Current best value is -0.6549732318963087 with parameters: {'C_val': 0.19388469211924075}.\n"
     ]
    },
    {
     "name": "stdout",
     "output_type": "stream",
     "text": [
      " C_val:1.628252588915855\n"
     ]
    },
    {
     "name": "stderr",
     "output_type": "stream",
     "text": [
      "[I 2019-08-22 07:46:47,207] Finished trial#9 resulted in value: -0.6353198083967314. Current best value is -0.6549732318963087 with parameters: {'C_val': 0.19388469211924075}.\n"
     ]
    },
    {
     "name": "stdout",
     "output_type": "stream",
     "text": [
      " C_val:0.23095099657584017\n"
     ]
    },
    {
     "name": "stderr",
     "output_type": "stream",
     "text": [
      "[I 2019-08-22 07:46:48,712] Finished trial#10 resulted in value: -0.6654691462383769. Current best value is -0.6654691462383769 with parameters: {'C_val': 0.23095099657584017}.\n"
     ]
    },
    {
     "name": "stdout",
     "output_type": "stream",
     "text": [
      " C_val:0.5430535238305323\n"
     ]
    },
    {
     "name": "stderr",
     "output_type": "stream",
     "text": [
      "[I 2019-08-22 07:46:52,501] Finished trial#11 resulted in value: -0.6603268526345448. Current best value is -0.6654691462383769 with parameters: {'C_val': 0.23095099657584017}.\n"
     ]
    },
    {
     "name": "stdout",
     "output_type": "stream",
     "text": [
      " C_val:0.15545176074659417\n"
     ]
    },
    {
     "name": "stderr",
     "output_type": "stream",
     "text": [
      "[I 2019-08-22 07:46:53,501] Finished trial#12 resulted in value: -0.678007889546351. Current best value is -0.678007889546351 with parameters: {'C_val': 0.15545176074659417}.\n"
     ]
    },
    {
     "name": "stdout",
     "output_type": "stream",
     "text": [
      " C_val:2.6558964676414334\n"
     ]
    },
    {
     "name": "stderr",
     "output_type": "stream",
     "text": [
      "[I 2019-08-22 07:47:08,363] Finished trial#13 resulted in value: -0.6339109608340378. Current best value is -0.678007889546351 with parameters: {'C_val': 0.15545176074659417}.\n"
     ]
    },
    {
     "name": "stdout",
     "output_type": "stream",
     "text": [
      " C_val:2.6103837020224745\n"
     ]
    },
    {
     "name": "stderr",
     "output_type": "stream",
     "text": [
      "[I 2019-08-22 07:47:22,269] Finished trial#14 resulted in value: -0.6332065370526909. Current best value is -0.678007889546351 with parameters: {'C_val': 0.15545176074659417}.\n"
     ]
    },
    {
     "name": "stdout",
     "output_type": "stream",
     "text": [
      " C_val:0.16705154320607182\n"
     ]
    },
    {
     "name": "stderr",
     "output_type": "stream",
     "text": [
      "[I 2019-08-22 07:47:23,053] Finished trial#15 resulted in value: -0.6729360383206537. Current best value is -0.678007889546351 with parameters: {'C_val': 0.15545176074659417}.\n"
     ]
    },
    {
     "name": "stdout",
     "output_type": "stream",
     "text": [
      " C_val:1.3065893001947462\n"
     ]
    },
    {
     "name": "stderr",
     "output_type": "stream",
     "text": [
      "[I 2019-08-22 07:47:33,422] Finished trial#16 resulted in value: -0.6354606931530008. Current best value is -0.678007889546351 with parameters: {'C_val': 0.15545176074659417}.\n"
     ]
    },
    {
     "name": "stdout",
     "output_type": "stream",
     "text": [
      " C_val:4.288790109534769\n"
     ]
    },
    {
     "name": "stderr",
     "output_type": "stream",
     "text": [
      "[I 2019-08-22 07:47:48,475] Finished trial#17 resulted in value: -0.6360242321780784. Current best value is -0.678007889546351 with parameters: {'C_val': 0.15545176074659417}.\n"
     ]
    },
    {
     "name": "stdout",
     "output_type": "stream",
     "text": [
      " C_val:2.505644114099418\n"
     ]
    },
    {
     "name": "stderr",
     "output_type": "stream",
     "text": [
      "[I 2019-08-22 07:48:02,959] Finished trial#18 resulted in value: -0.6327838827838826. Current best value is -0.678007889546351 with parameters: {'C_val': 0.15545176074659417}.\n"
     ]
    },
    {
     "name": "stdout",
     "output_type": "stream",
     "text": [
      " C_val:1.2221513961780683\n"
     ]
    },
    {
     "name": "stderr",
     "output_type": "stream",
     "text": [
      "[I 2019-08-22 07:48:13,215] Finished trial#19 resulted in value: -0.6406734291349676. Current best value is -0.678007889546351 with parameters: {'C_val': 0.15545176074659417}.\n"
     ]
    },
    {
     "name": "stdout",
     "output_type": "stream",
     "text": [
      " C_val:3.5601749026923484\n"
     ]
    },
    {
     "name": "stderr",
     "output_type": "stream",
     "text": [
      "[I 2019-08-22 07:48:29,026] Finished trial#20 resulted in value: -0.6339109608340378. Current best value is -0.678007889546351 with parameters: {'C_val': 0.15545176074659417}.\n"
     ]
    },
    {
     "name": "stdout",
     "output_type": "stream",
     "text": [
      " C_val:0.22748698476964818\n"
     ]
    },
    {
     "name": "stderr",
     "output_type": "stream",
     "text": [
      "[I 2019-08-22 07:48:30,455] Finished trial#21 resulted in value: -0.6665257819103974. Current best value is -0.678007889546351 with parameters: {'C_val': 0.15545176074659417}.\n"
     ]
    },
    {
     "name": "stdout",
     "output_type": "stream",
     "text": [
      " C_val:0.12348749638768455\n"
     ]
    },
    {
     "name": "stderr",
     "output_type": "stream",
     "text": [
      "[I 2019-08-22 07:48:31,012] Finished trial#22 resulted in value: -0.6394054663285433. Current best value is -0.678007889546351 with parameters: {'C_val': 0.15545176074659417}.\n"
     ]
    },
    {
     "name": "stdout",
     "output_type": "stream",
     "text": [
      " C_val:1.1112240941236826\n"
     ]
    },
    {
     "name": "stderr",
     "output_type": "stream",
     "text": [
      "[I 2019-08-22 07:48:41,141] Finished trial#23 resulted in value: -0.6361651169343476. Current best value is -0.678007889546351 with parameters: {'C_val': 0.15545176074659417}.\n"
     ]
    },
    {
     "name": "stdout",
     "output_type": "stream",
     "text": [
      " C_val:1.9040159653636934\n"
     ]
    },
    {
     "name": "stderr",
     "output_type": "stream",
     "text": [
      "[I 2019-08-22 07:48:54,761] Finished trial#24 resulted in value: -0.6333474218089602. Current best value is -0.678007889546351 with parameters: {'C_val': 0.15545176074659417}.\n"
     ]
    },
    {
     "name": "stdout",
     "output_type": "stream",
     "text": [
      " C_val:0.21460857848714124\n"
     ]
    },
    {
     "name": "stderr",
     "output_type": "stream",
     "text": [
      "[I 2019-08-22 07:48:56,211] Finished trial#25 resulted in value: -0.6631445477599324. Current best value is -0.678007889546351 with parameters: {'C_val': 0.15545176074659417}.\n"
     ]
    },
    {
     "name": "stdout",
     "output_type": "stream",
     "text": [
      " C_val:0.8206236103722573\n"
     ]
    },
    {
     "name": "stderr",
     "output_type": "stream",
     "text": [
      "[I 2019-08-22 07:49:03,723] Finished trial#26 resulted in value: -0.6470132431670893. Current best value is -0.678007889546351 with parameters: {'C_val': 0.15545176074659417}.\n"
     ]
    },
    {
     "name": "stdout",
     "output_type": "stream",
     "text": [
      " C_val:5.099355475411988\n"
     ]
    },
    {
     "name": "stderr",
     "output_type": "stream",
     "text": [
      "[I 2019-08-22 07:49:19,338] Finished trial#27 resulted in value: -0.6333474218089603. Current best value is -0.678007889546351 with parameters: {'C_val': 0.15545176074659417}.\n"
     ]
    },
    {
     "name": "stdout",
     "output_type": "stream",
     "text": [
      " C_val:2.08648738719845\n"
     ]
    },
    {
     "name": "stderr",
     "output_type": "stream",
     "text": [
      "[I 2019-08-22 07:49:32,486] Finished trial#28 resulted in value: -0.6329247675401521. Current best value is -0.678007889546351 with parameters: {'C_val': 0.15545176074659417}.\n"
     ]
    },
    {
     "name": "stdout",
     "output_type": "stream",
     "text": [
      " C_val:3.3712782271013166\n"
     ]
    },
    {
     "name": "stderr",
     "output_type": "stream",
     "text": [
      "[I 2019-08-22 07:49:47,778] Finished trial#29 resulted in value: -0.6322203437588053. Current best value is -0.678007889546351 with parameters: {'C_val': 0.15545176074659417}.\n"
     ]
    },
    {
     "name": "stdout",
     "output_type": "stream",
     "text": [
      " C_val:5.636154274255306\n"
     ]
    },
    {
     "name": "stderr",
     "output_type": "stream",
     "text": [
      "[I 2019-08-22 07:50:04,288] Finished trial#30 resulted in value: -0.6356015779092702. Current best value is -0.678007889546351 with parameters: {'C_val': 0.15545176074659417}.\n"
     ]
    },
    {
     "name": "stdout",
     "output_type": "stream",
     "text": [
      " C_val:0.2463314161746727\n"
     ]
    },
    {
     "name": "stderr",
     "output_type": "stream",
     "text": [
      "[I 2019-08-22 07:50:05,868] Finished trial#31 resulted in value: -0.6678641870949563. Current best value is -0.678007889546351 with parameters: {'C_val': 0.15545176074659417}.\n"
     ]
    },
    {
     "name": "stdout",
     "output_type": "stream",
     "text": [
      " C_val:0.8312303391760149\n"
     ]
    },
    {
     "name": "stderr",
     "output_type": "stream",
     "text": [
      "[I 2019-08-22 07:50:13,195] Finished trial#32 resulted in value: -0.6467314736545505. Current best value is -0.678007889546351 with parameters: {'C_val': 0.15545176074659417}.\n"
     ]
    },
    {
     "name": "stdout",
     "output_type": "stream",
     "text": [
      " C_val:0.18845505292747733\n"
     ]
    },
    {
     "name": "stderr",
     "output_type": "stream",
     "text": [
      "[I 2019-08-22 07:50:14,574] Finished trial#33 resulted in value: -0.6407438715131023. Current best value is -0.678007889546351 with parameters: {'C_val': 0.15545176074659417}.\n"
     ]
    },
    {
     "name": "stdout",
     "output_type": "stream",
     "text": [
      " C_val:1.6504202063004736\n"
     ]
    },
    {
     "name": "stderr",
     "output_type": "stream",
     "text": [
      "[I 2019-08-22 07:50:27,473] Finished trial#34 resulted in value: -0.6310932657086503. Current best value is -0.678007889546351 with parameters: {'C_val': 0.15545176074659417}.\n"
     ]
    },
    {
     "name": "stdout",
     "output_type": "stream",
     "text": [
      " C_val:0.8140622061390212\n"
     ]
    },
    {
     "name": "stderr",
     "output_type": "stream",
     "text": [
      "[I 2019-08-22 07:50:34,723] Finished trial#35 resulted in value: -0.6472950126796281. Current best value is -0.678007889546351 with parameters: {'C_val': 0.15545176074659417}.\n"
     ]
    },
    {
     "name": "stdout",
     "output_type": "stream",
     "text": [
      " C_val:0.18528040589244227\n"
     ]
    },
    {
     "name": "stderr",
     "output_type": "stream",
     "text": [
      "[I 2019-08-22 07:50:36,285] Finished trial#36 resulted in value: -0.6326429980276134. Current best value is -0.678007889546351 with parameters: {'C_val': 0.15545176074659417}.\n"
     ]
    },
    {
     "name": "stdout",
     "output_type": "stream",
     "text": [
      " C_val:0.611404113030174\n"
     ]
    },
    {
     "name": "stderr",
     "output_type": "stream",
     "text": [
      "[I 2019-08-22 07:50:41,323] Finished trial#37 resulted in value: -0.6456043956043956. Current best value is -0.678007889546351 with parameters: {'C_val': 0.15545176074659417}.\n"
     ]
    },
    {
     "name": "stdout",
     "output_type": "stream",
     "text": [
      " C_val:2.1088102636951755\n"
     ]
    },
    {
     "name": "stderr",
     "output_type": "stream",
     "text": [
      "[I 2019-08-22 07:50:54,446] Finished trial#38 resulted in value: -0.6320794590025359. Current best value is -0.678007889546351 with parameters: {'C_val': 0.15545176074659417}.\n"
     ]
    },
    {
     "name": "stdout",
     "output_type": "stream",
     "text": [
      " C_val:1.3468104698047536\n"
     ]
    },
    {
     "name": "stderr",
     "output_type": "stream",
     "text": [
      "[I 2019-08-22 07:51:05,459] Finished trial#39 resulted in value: -0.6350380388841926. Current best value is -0.678007889546351 with parameters: {'C_val': 0.15545176074659417}.\n"
     ]
    },
    {
     "name": "stdout",
     "output_type": "stream",
     "text": [
      " C_val:3.211616039379665\n"
     ]
    },
    {
     "name": "stderr",
     "output_type": "stream",
     "text": [
      "[I 2019-08-22 07:51:21,194] Finished trial#40 resulted in value: -0.6344744998591152. Current best value is -0.678007889546351 with parameters: {'C_val': 0.15545176074659417}.\n"
     ]
    },
    {
     "name": "stdout",
     "output_type": "stream",
     "text": [
      " C_val:0.11634875695566707\n"
     ]
    },
    {
     "name": "stderr",
     "output_type": "stream",
     "text": [
      "[I 2019-08-22 07:51:21,733] Finished trial#41 resulted in value: -0.6216539870386024. Current best value is -0.678007889546351 with parameters: {'C_val': 0.15545176074659417}.\n"
     ]
    },
    {
     "name": "stdout",
     "output_type": "stream",
     "text": [
      " C_val:0.5424748885057056\n"
     ]
    },
    {
     "name": "stderr",
     "output_type": "stream",
     "text": [
      "[I 2019-08-22 07:51:25,983] Finished trial#42 resulted in value: -0.6582135812905044. Current best value is -0.678007889546351 with parameters: {'C_val': 0.15545176074659417}.\n"
     ]
    },
    {
     "name": "stdout",
     "output_type": "stream",
     "text": [
      " C_val:0.13408297999227836\n"
     ]
    },
    {
     "name": "stderr",
     "output_type": "stream",
     "text": [
      "[I 2019-08-22 07:51:26,660] Finished trial#43 resulted in value: -0.6716680755142292. Current best value is -0.678007889546351 with parameters: {'C_val': 0.15545176074659417}.\n"
     ]
    },
    {
     "name": "stdout",
     "output_type": "stream",
     "text": [
      " C_val:1.0077358599853943\n"
     ]
    },
    {
     "name": "stderr",
     "output_type": "stream",
     "text": [
      "[I 2019-08-22 07:51:36,029] Finished trial#44 resulted in value: -0.6418005071851226. Current best value is -0.678007889546351 with parameters: {'C_val': 0.15545176074659417}.\n"
     ]
    },
    {
     "name": "stdout",
     "output_type": "stream",
     "text": [
      " C_val:6.770943751145383\n"
     ]
    },
    {
     "name": "stderr",
     "output_type": "stream",
     "text": [
      "[I 2019-08-22 07:51:52,674] Finished trial#45 resulted in value: -0.635178923640462. Current best value is -0.678007889546351 with parameters: {'C_val': 0.15545176074659417}.\n"
     ]
    },
    {
     "name": "stdout",
     "output_type": "stream",
     "text": [
      " C_val:1.5974345339858682\n"
     ]
    },
    {
     "name": "stderr",
     "output_type": "stream",
     "text": [
      "[I 2019-08-22 07:52:05,654] Finished trial#46 resulted in value: -0.6326429980276134. Current best value is -0.678007889546351 with parameters: {'C_val': 0.15545176074659417}.\n"
     ]
    },
    {
     "name": "stdout",
     "output_type": "stream",
     "text": [
      " C_val:0.5736005035659124\n"
     ]
    },
    {
     "name": "stderr",
     "output_type": "stream",
     "text": [
      "[I 2019-08-22 07:52:10,184] Finished trial#47 resulted in value: -0.6503944773175542. Current best value is -0.678007889546351 with parameters: {'C_val': 0.15545176074659417}.\n"
     ]
    },
    {
     "name": "stdout",
     "output_type": "stream",
     "text": [
      " C_val:8.907119148163032\n"
     ]
    },
    {
     "name": "stderr",
     "output_type": "stream",
     "text": [
      "[I 2019-08-22 07:52:25,024] Finished trial#48 resulted in value: -0.6337700760777684. Current best value is -0.678007889546351 with parameters: {'C_val': 0.15545176074659417}.\n"
     ]
    },
    {
     "name": "stdout",
     "output_type": "stream",
     "text": [
      " C_val:0.4305867703501916\n"
     ]
    },
    {
     "name": "stderr",
     "output_type": "stream",
     "text": [
      "[I 2019-08-22 07:52:28,151] Finished trial#49 resulted in value: -0.680050718512257. Current best value is -0.680050718512257 with parameters: {'C_val': 0.4305867703501916}.\n"
     ]
    },
    {
     "name": "stdout",
     "output_type": "stream",
     "text": [
      " C_val:2.400953523264085\n"
     ]
    },
    {
     "name": "stderr",
     "output_type": "stream",
     "text": [
      "[I 2019-08-22 07:52:42,670] Finished trial#50 resulted in value: -0.6343336151028459. Current best value is -0.680050718512257 with parameters: {'C_val': 0.4305867703501916}.\n"
     ]
    },
    {
     "name": "stdout",
     "output_type": "stream",
     "text": [
      " C_val:0.1287888462489981\n"
     ]
    },
    {
     "name": "stderr",
     "output_type": "stream",
     "text": [
      "[I 2019-08-22 07:52:43,336] Finished trial#51 resulted in value: -0.6394054663285432. Current best value is -0.680050718512257 with parameters: {'C_val': 0.4305867703501916}.\n"
     ]
    },
    {
     "name": "stdout",
     "output_type": "stream",
     "text": [
      " C_val:0.5735392310410439\n"
     ]
    },
    {
     "name": "stderr",
     "output_type": "stream",
     "text": [
      "[I 2019-08-22 07:52:48,107] Finished trial#52 resulted in value: -0.6527895181741334. Current best value is -0.680050718512257 with parameters: {'C_val': 0.4305867703501916}.\n"
     ]
    },
    {
     "name": "stdout",
     "output_type": "stream",
     "text": [
      " C_val:1.4415916773108943\n"
     ]
    },
    {
     "name": "stderr",
     "output_type": "stream",
     "text": [
      "[I 2019-08-22 07:52:59,756] Finished trial#53 resulted in value: -0.6340518455903071. Current best value is -0.680050718512257 with parameters: {'C_val': 0.4305867703501916}.\n"
     ]
    },
    {
     "name": "stdout",
     "output_type": "stream",
     "text": [
      " C_val:1.0865815550958555\n"
     ]
    },
    {
     "name": "stderr",
     "output_type": "stream",
     "text": [
      "[I 2019-08-22 07:53:09,289] Finished trial#54 resulted in value: -0.6377148492533108. Current best value is -0.680050718512257 with parameters: {'C_val': 0.4305867703501916}.\n"
     ]
    },
    {
     "name": "stdout",
     "output_type": "stream",
     "text": [
      " C_val:0.3705822907438221\n"
     ]
    },
    {
     "name": "stderr",
     "output_type": "stream",
     "text": [
      "[I 2019-08-22 07:53:11,820] Finished trial#55 resulted in value: -0.6725838264299802. Current best value is -0.680050718512257 with parameters: {'C_val': 0.4305867703501916}.\n"
     ]
    },
    {
     "name": "stdout",
     "output_type": "stream",
     "text": [
      " C_val:0.43971468102741956\n"
     ]
    },
    {
     "name": "stderr",
     "output_type": "stream",
     "text": [
      "[I 2019-08-22 07:53:14,808] Finished trial#56 resulted in value: -0.675331079177233. Current best value is -0.680050718512257 with parameters: {'C_val': 0.4305867703501916}.\n"
     ]
    },
    {
     "name": "stdout",
     "output_type": "stream",
     "text": [
      " C_val:1.8303157421477199\n"
     ]
    },
    {
     "name": "stderr",
     "output_type": "stream",
     "text": [
      "[I 2019-08-22 07:53:27,014] Finished trial#57 resulted in value: -0.6330656522964215. Current best value is -0.680050718512257 with parameters: {'C_val': 0.4305867703501916}.\n"
     ]
    },
    {
     "name": "stdout",
     "output_type": "stream",
     "text": [
      " C_val:0.5687968588228509\n"
     ]
    },
    {
     "name": "stderr",
     "output_type": "stream",
     "text": [
      "[I 2019-08-22 07:53:31,380] Finished trial#58 resulted in value: -0.6551845590307128. Current best value is -0.680050718512257 with parameters: {'C_val': 0.4305867703501916}.\n"
     ]
    },
    {
     "name": "stdout",
     "output_type": "stream",
     "text": [
      " C_val:1.2013086029430684\n"
     ]
    },
    {
     "name": "stderr",
     "output_type": "stream",
     "text": [
      "[I 2019-08-22 07:53:41,693] Finished trial#59 resulted in value: -0.6346153846153845. Current best value is -0.680050718512257 with parameters: {'C_val': 0.4305867703501916}.\n"
     ]
    },
    {
     "name": "stdout",
     "output_type": "stream",
     "text": [
      " C_val:2.809437222224985\n"
     ]
    },
    {
     "name": "stderr",
     "output_type": "stream",
     "text": [
      "[I 2019-08-22 07:53:56,291] Finished trial#60 resulted in value: -0.6322203437588053. Current best value is -0.680050718512257 with parameters: {'C_val': 0.4305867703501916}.\n"
     ]
    },
    {
     "name": "stdout",
     "output_type": "stream",
     "text": [
      " C_val:0.4659374650162596\n"
     ]
    },
    {
     "name": "stderr",
     "output_type": "stream",
     "text": [
      "[I 2019-08-22 07:53:59,523] Finished trial#61 resulted in value: -0.6719498450267681. Current best value is -0.680050718512257 with parameters: {'C_val': 0.4305867703501916}.\n"
     ]
    },
    {
     "name": "stdout",
     "output_type": "stream",
     "text": [
      " C_val:0.8909960218273718\n"
     ]
    },
    {
     "name": "stderr",
     "output_type": "stream",
     "text": [
      "[I 2019-08-22 07:54:07,572] Finished trial#62 resulted in value: -0.643068469991547. Current best value is -0.680050718512257 with parameters: {'C_val': 0.4305867703501916}.\n"
     ]
    },
    {
     "name": "stdout",
     "output_type": "stream",
     "text": [
      " C_val:0.4124846016998075\n"
     ]
    },
    {
     "name": "stderr",
     "output_type": "stream",
     "text": [
      "[I 2019-08-22 07:54:10,805] Finished trial#63 resulted in value: -0.6772330233868695. Current best value is -0.680050718512257 with parameters: {'C_val': 0.4305867703501916}.\n"
     ]
    },
    {
     "name": "stdout",
     "output_type": "stream",
     "text": [
      " C_val:0.4417383820843932\n"
     ]
    },
    {
     "name": "stderr",
     "output_type": "stream",
     "text": [
      "[I 2019-08-22 07:54:13,804] Finished trial#64 resulted in value: -0.6777261200338123. Current best value is -0.680050718512257 with parameters: {'C_val': 0.4305867703501916}.\n"
     ]
    },
    {
     "name": "stdout",
     "output_type": "stream",
     "text": [
      " C_val:1.2774682513674056\n"
     ]
    },
    {
     "name": "stderr",
     "output_type": "stream",
     "text": [
      "[I 2019-08-22 07:54:24,038] Finished trial#65 resulted in value: -0.6353198083967314. Current best value is -0.680050718512257 with parameters: {'C_val': 0.4305867703501916}.\n"
     ]
    },
    {
     "name": "stdout",
     "output_type": "stream",
     "text": [
      " C_val:9.875143994998021\n"
     ]
    },
    {
     "name": "stderr",
     "output_type": "stream",
     "text": [
      "[I 2019-08-22 07:54:37,482] Finished trial#66 resulted in value: -0.6348971541279235. Current best value is -0.680050718512257 with parameters: {'C_val': 0.4305867703501916}.\n"
     ]
    },
    {
     "name": "stdout",
     "output_type": "stream",
     "text": [
      " C_val:0.8375832448060219\n"
     ]
    },
    {
     "name": "stderr",
     "output_type": "stream",
     "text": [
      "[I 2019-08-22 07:54:44,719] Finished trial#67 resulted in value: -0.6472950126796281. Current best value is -0.680050718512257 with parameters: {'C_val': 0.4305867703501916}.\n"
     ]
    },
    {
     "name": "stdout",
     "output_type": "stream",
     "text": [
      " C_val:0.37777846205768917\n"
     ]
    },
    {
     "name": "stderr",
     "output_type": "stream",
     "text": [
      "[I 2019-08-22 07:54:47,134] Finished trial#68 resulted in value: -0.6730064806987883. Current best value is -0.680050718512257 with parameters: {'C_val': 0.4305867703501916}.\n"
     ]
    },
    {
     "name": "stdout",
     "output_type": "stream",
     "text": [
      " C_val:1.751935978718657\n"
     ]
    },
    {
     "name": "stderr",
     "output_type": "stream",
     "text": [
      "[I 2019-08-22 07:54:59,299] Finished trial#69 resulted in value: -0.6339109608340378. Current best value is -0.680050718512257 with parameters: {'C_val': 0.4305867703501916}.\n"
     ]
    },
    {
     "name": "stdout",
     "output_type": "stream",
     "text": [
      " C_val:2.1796043204741338\n"
     ]
    },
    {
     "name": "stderr",
     "output_type": "stream",
     "text": [
      "[I 2019-08-22 07:55:12,518] Finished trial#70 resulted in value: -0.6313750352211891. Current best value is -0.680050718512257 with parameters: {'C_val': 0.4305867703501916}.\n"
     ]
    },
    {
     "name": "stdout",
     "output_type": "stream",
     "text": [
      " C_val:0.4234495565338326\n"
     ]
    },
    {
     "name": "stderr",
     "output_type": "stream",
     "text": [
      "[I 2019-08-22 07:55:15,391] Finished trial#71 resulted in value: -0.6801916032685263. Current best value is -0.6801916032685263 with parameters: {'C_val': 0.4234495565338326}.\n"
     ]
    },
    {
     "name": "stdout",
     "output_type": "stream",
     "text": [
      " C_val:0.799774978965784\n"
     ]
    },
    {
     "name": "stderr",
     "output_type": "stream",
     "text": [
      "[I 2019-08-22 07:55:22,368] Finished trial#72 resulted in value: -0.6470132431670893. Current best value is -0.6801916032685263 with parameters: {'C_val': 0.4234495565338326}.\n"
     ]
    },
    {
     "name": "stdout",
     "output_type": "stream",
     "text": [
      " C_val:0.40536364488747517\n"
     ]
    },
    {
     "name": "stderr",
     "output_type": "stream",
     "text": [
      "[I 2019-08-22 07:55:25,080] Finished trial#73 resulted in value: -0.6703296703296703. Current best value is -0.6801916032685263 with parameters: {'C_val': 0.4234495565338326}.\n"
     ]
    },
    {
     "name": "stdout",
     "output_type": "stream",
     "text": [
      " C_val:1.0589385241331521\n"
     ]
    },
    {
     "name": "stderr",
     "output_type": "stream",
     "text": [
      "[I 2019-08-22 07:55:33,897] Finished trial#74 resulted in value: -0.635883347421809. Current best value is -0.6801916032685263 with parameters: {'C_val': 0.4234495565338326}.\n"
     ]
    },
    {
     "name": "stdout",
     "output_type": "stream",
     "text": [
      " C_val:1.4910434027305248\n"
     ]
    },
    {
     "name": "stderr",
     "output_type": "stream",
     "text": [
      "[I 2019-08-22 07:55:45,689] Finished trial#75 resulted in value: -0.6351789236404621. Current best value is -0.6801916032685263 with parameters: {'C_val': 0.4234495565338326}.\n"
     ]
    },
    {
     "name": "stdout",
     "output_type": "stream",
     "text": [
      " C_val:0.11929961776451936\n"
     ]
    },
    {
     "name": "stderr",
     "output_type": "stream",
     "text": [
      "[I 2019-08-22 07:55:46,236] Finished trial#76 resulted in value: -0.6219357565511412. Current best value is -0.6801916032685263 with parameters: {'C_val': 0.4234495565338326}.\n"
     ]
    },
    {
     "name": "stdout",
     "output_type": "stream",
     "text": [
      " C_val:0.6883267099537383\n"
     ]
    },
    {
     "name": "stderr",
     "output_type": "stream",
     "text": [
      "[I 2019-08-22 07:55:52,146] Finished trial#77 resulted in value: -0.6480698788391096. Current best value is -0.6801916032685263 with parameters: {'C_val': 0.4234495565338326}.\n"
     ]
    },
    {
     "name": "stdout",
     "output_type": "stream",
     "text": [
      " C_val:0.33315865022722746\n"
     ]
    },
    {
     "name": "stderr",
     "output_type": "stream",
     "text": [
      "[I 2019-08-22 07:55:54,547] Finished trial#78 resulted in value: -0.6689208227669766. Current best value is -0.6801916032685263 with parameters: {'C_val': 0.4234495565338326}.\n"
     ]
    },
    {
     "name": "stdout",
     "output_type": "stream",
     "text": [
      " C_val:1.0513965214017762\n"
     ]
    },
    {
     "name": "stderr",
     "output_type": "stream",
     "text": [
      "[I 2019-08-22 07:56:03,671] Finished trial#79 resulted in value: -0.6377148492533108. Current best value is -0.6801916032685263 with parameters: {'C_val': 0.4234495565338326}.\n"
     ]
    },
    {
     "name": "stdout",
     "output_type": "stream",
     "text": [
      " C_val:0.4126887765104112\n"
     ]
    },
    {
     "name": "stderr",
     "output_type": "stream",
     "text": [
      "[I 2019-08-22 07:56:06,445] Finished trial#80 resulted in value: -0.6737109044801352. Current best value is -0.6801916032685263 with parameters: {'C_val': 0.4234495565338326}.\n"
     ]
    },
    {
     "name": "stdout",
     "output_type": "stream",
     "text": [
      " C_val:0.11775401058579454\n"
     ]
    },
    {
     "name": "stderr",
     "output_type": "stream",
     "text": [
      "[I 2019-08-22 07:56:06,941] Finished trial#81 resulted in value: -0.6217948717948718. Current best value is -0.6801916032685263 with parameters: {'C_val': 0.4234495565338326}.\n"
     ]
    },
    {
     "name": "stdout",
     "output_type": "stream",
     "text": [
      " C_val:0.40938084720306983\n"
     ]
    },
    {
     "name": "stderr",
     "output_type": "stream",
     "text": [
      "[I 2019-08-22 07:56:09,538] Finished trial#82 resulted in value: -0.6703296703296703. Current best value is -0.6801916032685263 with parameters: {'C_val': 0.4234495565338326}.\n"
     ]
    },
    {
     "name": "stdout",
     "output_type": "stream",
     "text": [
      " C_val:0.7643289270646522\n"
     ]
    },
    {
     "name": "stderr",
     "output_type": "stream",
     "text": [
      "[I 2019-08-22 07:56:16,077] Finished trial#83 resulted in value: -0.6448999718230488. Current best value is -0.6801916032685263 with parameters: {'C_val': 0.4234495565338326}.\n"
     ]
    },
    {
     "name": "stdout",
     "output_type": "stream",
     "text": [
      " C_val:1.2307022523751872\n"
     ]
    },
    {
     "name": "stderr",
     "output_type": "stream",
     "text": [
      "[I 2019-08-22 07:56:26,691] Finished trial#84 resulted in value: -0.637010425471964. Current best value is -0.6801916032685263 with parameters: {'C_val': 0.4234495565338326}.\n"
     ]
    },
    {
     "name": "stdout",
     "output_type": "stream",
     "text": [
      " C_val:4.380161442984205\n"
     ]
    },
    {
     "name": "stderr",
     "output_type": "stream",
     "text": [
      "[I 2019-08-22 07:56:41,278] Finished trial#85 resulted in value: -0.6344744998591153. Current best value is -0.6801916032685263 with parameters: {'C_val': 0.4234495565338326}.\n"
     ]
    },
    {
     "name": "stdout",
     "output_type": "stream",
     "text": [
      " C_val:0.3338700755582137\n"
     ]
    },
    {
     "name": "stderr",
     "output_type": "stream",
     "text": [
      "[I 2019-08-22 07:56:43,511] Finished trial#86 resulted in value: -0.6689912651451113. Current best value is -0.6801916032685263 with parameters: {'C_val': 0.4234495565338326}.\n"
     ]
    },
    {
     "name": "stdout",
     "output_type": "stream",
     "text": [
      " C_val:0.9180680147545506\n"
     ]
    },
    {
     "name": "stderr",
     "output_type": "stream",
     "text": [
      "[I 2019-08-22 07:56:51,196] Finished trial#87 resulted in value: -0.6440546632854326. Current best value is -0.6801916032685263 with parameters: {'C_val': 0.4234495565338326}.\n"
     ]
    },
    {
     "name": "stdout",
     "output_type": "stream",
     "text": [
      " C_val:0.11174650761540439\n"
     ]
    },
    {
     "name": "stderr",
     "output_type": "stream",
     "text": [
      "[I 2019-08-22 07:56:51,671] Finished trial#88 resulted in value: -0.6217948717948718. Current best value is -0.6801916032685263 with parameters: {'C_val': 0.4234495565338326}.\n"
     ]
    },
    {
     "name": "stdout",
     "output_type": "stream",
     "text": [
      " C_val:0.5872046728681493\n"
     ]
    },
    {
     "name": "stderr",
     "output_type": "stream",
     "text": [
      "[I 2019-08-22 07:56:56,184] Finished trial#89 resulted in value: -0.6508171315863625. Current best value is -0.6801916032685263 with parameters: {'C_val': 0.4234495565338326}.\n"
     ]
    },
    {
     "name": "stdout",
     "output_type": "stream",
     "text": [
      " C_val:1.3377240275479012\n"
     ]
    },
    {
     "name": "stderr",
     "output_type": "stream",
     "text": [
      "[I 2019-08-22 07:57:07,782] Finished trial#90 resulted in value: -0.6377148492533108. Current best value is -0.6801916032685263 with parameters: {'C_val': 0.4234495565338326}.\n"
     ]
    },
    {
     "name": "stdout",
     "output_type": "stream",
     "text": [
      " C_val:0.32695496221111636\n"
     ]
    },
    {
     "name": "stderr",
     "output_type": "stream",
     "text": [
      "[I 2019-08-22 07:57:10,016] Finished trial#91 resulted in value: -0.6662440123978587. Current best value is -0.6801916032685263 with parameters: {'C_val': 0.4234495565338326}.\n"
     ]
    },
    {
     "name": "stdout",
     "output_type": "stream",
     "text": [
      " C_val:0.6604797445308248\n"
     ]
    },
    {
     "name": "stderr",
     "output_type": "stream",
     "text": [
      "[I 2019-08-22 07:57:15,178] Finished trial#92 resulted in value: -0.647506339814032. Current best value is -0.6801916032685263 with parameters: {'C_val': 0.4234495565338326}.\n"
     ]
    },
    {
     "name": "stdout",
     "output_type": "stream",
     "text": [
      " C_val:0.3791447270022899\n"
     ]
    },
    {
     "name": "stderr",
     "output_type": "stream",
     "text": [
      "[I 2019-08-22 07:57:17,578] Finished trial#93 resulted in value: -0.6728655959425189. Current best value is -0.6801916032685263 with parameters: {'C_val': 0.4234495565338326}.\n"
     ]
    },
    {
     "name": "stdout",
     "output_type": "stream",
     "text": [
      " C_val:0.11419439604029419\n"
     ]
    },
    {
     "name": "stderr",
     "output_type": "stream",
     "text": [
      "[I 2019-08-22 07:57:18,037] Finished trial#94 resulted in value: -0.620386024232178. Current best value is -0.6801916032685263 with parameters: {'C_val': 0.4234495565338326}.\n"
     ]
    },
    {
     "name": "stdout",
     "output_type": "stream",
     "text": [
      " C_val:0.945274344020621\n"
     ]
    },
    {
     "name": "stderr",
     "output_type": "stream",
     "text": [
      "[I 2019-08-22 07:57:25,988] Finished trial#95 resulted in value: -0.6420822766976613. Current best value is -0.6801916032685263 with parameters: {'C_val': 0.4234495565338326}.\n"
     ]
    },
    {
     "name": "stdout",
     "output_type": "stream",
     "text": [
      " C_val:0.4854223892626229\n"
     ]
    },
    {
     "name": "stderr",
     "output_type": "stream",
     "text": [
      "[I 2019-08-22 07:57:29,523] Finished trial#96 resulted in value: -0.6685686108763031. Current best value is -0.6801916032685263 with parameters: {'C_val': 0.4234495565338326}.\n"
     ]
    },
    {
     "name": "stdout",
     "output_type": "stream",
     "text": [
      " C_val:1.5073622843445118\n"
     ]
    },
    {
     "name": "stderr",
     "output_type": "stream",
     "text": [
      "[I 2019-08-22 07:57:41,965] Finished trial#97 resulted in value: -0.632924767540152. Current best value is -0.6801916032685263 with parameters: {'C_val': 0.4234495565338326}.\n"
     ]
    },
    {
     "name": "stdout",
     "output_type": "stream",
     "text": [
      " C_val:7.492929887188939\n"
     ]
    },
    {
     "name": "stderr",
     "output_type": "stream",
     "text": [
      "[I 2019-08-22 07:57:56,387] Finished trial#98 resulted in value: -0.6371513102282332. Current best value is -0.6801916032685263 with parameters: {'C_val': 0.4234495565338326}.\n"
     ]
    },
    {
     "name": "stdout",
     "output_type": "stream",
     "text": [
      " C_val:0.7109574726375503\n"
     ]
    },
    {
     "name": "stderr",
     "output_type": "stream",
     "text": [
      "[I 2019-08-22 07:58:02,330] Finished trial#99 resulted in value: -0.6467314736545506. Current best value is -0.6801916032685263 with parameters: {'C_val': 0.4234495565338326}.\n"
     ]
    },
    {
     "name": "stdout",
     "output_type": "stream",
     "text": [
      "FrozenTrial(number=71, state=<TrialState.COMPLETE: 1>, value=-0.6801916032685263, datetime_start=datetime.datetime(2019, 8, 22, 7, 55, 12, 522334), datetime_complete=datetime.datetime(2019, 8, 22, 7, 55, 15, 385489), params={'C_val': 0.4234495565338326}, distributions={'C_val': UniformDistribution(low=0.1, high=10)}, user_attrs={}, system_attrs={'_number': 71}, intermediate_values={}, params_in_internal_repr={'C_val': 0.4234495565338326}, trial_id=71)\n"
     ]
    }
   ],
   "source": [
    "if __name__ == \"__main__\":\n",
    "    main()"
   ]
  },
  {
   "cell_type": "markdown",
   "metadata": {},
   "source": [
    "# 結果\n",
    "C = 0.001"
   ]
  },
  {
   "cell_type": "code",
   "execution_count": 74,
   "metadata": {},
   "outputs": [],
   "source": [
    "# best value is -0.7222457030149338 with parameters: {'C_val': 0.0013591999321332033}.\n",
    "# best value is -0.7420400112707805 with parameters: {'C_val': 0.08453576485123458, 'l1_ratio': 0.3231149632136399}."
   ]
  },
  {
   "cell_type": "code",
   "execution_count": null,
   "metadata": {},
   "outputs": [],
   "source": []
  }
 ],
 "metadata": {
  "kernelspec": {
   "display_name": "Python 3",
   "language": "python",
   "name": "python3"
  },
  "language_info": {
   "codemirror_mode": {
    "name": "ipython",
    "version": 3
   },
   "file_extension": ".py",
   "mimetype": "text/x-python",
   "name": "python",
   "nbconvert_exporter": "python",
   "pygments_lexer": "ipython3",
   "version": "3.6.8"
  }
 },
 "nbformat": 4,
 "nbformat_minor": 4
}
