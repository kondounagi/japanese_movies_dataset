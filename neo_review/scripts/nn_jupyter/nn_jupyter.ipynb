{
 "cells": [
  {
   "cell_type": "code",
   "execution_count": 1,
   "metadata": {},
   "outputs": [],
   "source": [
    "import numpy as np\n",
    "import json\n",
    "import csv\n",
    "import pandas as pd\n",
    "import matplotlib.pyplot as plt\n",
    "\n",
    "from sklearn.neural_network import MLPRegressor, MLPClassifier\n",
    "import optuna\n",
    "\n",
    "from sklearn.metrics import confusion_matrix, roc_auc_score, roc_curve\n",
    "from sklearn.preprocessing import StandardScaler\n",
    "%matplotlib inline"
   ]
  },
  {
   "cell_type": "code",
   "execution_count": 2,
   "metadata": {},
   "outputs": [],
   "source": [
    "def load_data(y):\n",
    "    path = '../../data/std_data/'\n",
    "    x_train_std = pd.read_pickle(path +'train/{}_x.pkl'.format(str(y))).values\n",
    "    x_test_std = pd.read_pickle(path +'test/{}_x.pkl'.format(str(y))).values\n",
    "    y_train = pd.read_pickle(path +'train/{}_y.pkl'.format(str(y))).values\n",
    "    y_test = pd.read_pickle(path +'test/{}_y.pkl'.format(str(y))).values\n",
    "    features = pd.read_pickle(path +'train/{}_x.pkl'.format(str(y))).columns\n",
    "    return x_train_std, x_test_std, y_train, y_test, features"
   ]
  },
  {
   "cell_type": "code",
   "execution_count": 3,
   "metadata": {},
   "outputs": [],
   "source": [
    "def plot_roc_curve(fpr, tpr, auc):\n",
    "    # ROC曲線をプロット\n",
    "    plt.plot(fpr, tpr, label='ROC curve (area = %.2f)'%auc)\n",
    "    plt.legend()\n",
    "    plt.title('ROC curve')\n",
    "    plt.xlabel('False Positive Rate')\n",
    "    plt.ylabel('True Positive Rate')\n",
    "    plt.grid(True)\n",
    "    plt.show()"
   ]
  },
  {
   "cell_type": "code",
   "execution_count": 4,
   "metadata": {},
   "outputs": [],
   "source": [
    "def train(trial):\n",
    "    \n",
    "    h_num = trial.suggest_int('num', 1, 5)\n",
    "    learning_rate = trial.suggest_uniform(\"learning_rate\", 0.001, 0.1)\n",
    "    activation = trial.suggest_categorical('activation', ['logistic', 'tanh', 'relu'])\n",
    "    alpha = trial.suggest_uniform(\"alpha\", 0, 5)\n",
    "    cm_all = np.zeros((2, 2))\n",
    "    b1 = trial.suggest_uniform(\"b1\", 0, 1)\n",
    "    b2 = trial.suggest_uniform(\"b2\", 0, 1)\n",
    "    \n",
    "    # 予測した確率全体を格納\n",
    "    probs_all = np.array([])\n",
    "    y_true_all = np.array([])\n",
    "    \n",
    "    for y in range(1978, 2020):\n",
    "        \n",
    "        # データの生成\n",
    "        x_train_std, x_test_std, y_train, y_test, features = load_data(y)\n",
    "        \n",
    "        # 学習\n",
    "        \n",
    "        if h_num == 1:\n",
    "            n1 = trial.suggest_int('n1', 3, 200)\n",
    "            mlp = MLPRegressor(hidden_layer_sizes=(n1,),\n",
    "                               activation=activation,\n",
    "                               solver='adam',\n",
    "                               alpha=alpha,\n",
    "                               batch_size='auto',\n",
    "                               learning_rate='constant', \n",
    "                               learning_rate_init=learning_rate, \n",
    "                               power_t=0.5, \n",
    "                               max_iter=1000, \n",
    "                               shuffle=True,\n",
    "                               random_state=None, \n",
    "                               tol=0.0001, \n",
    "                               verbose=False, \n",
    "                               warm_start=False, \n",
    "                               momentum=0.9,\n",
    "                               nesterovs_momentum=True, \n",
    "                               early_stopping=False, \n",
    "                               validation_fraction=0.1, \n",
    "                               beta_1=b1, \n",
    "                               beta_2=b2,\n",
    "                               epsilon=1e-08,\n",
    "                               )\n",
    "        elif h_num == 2:\n",
    "            n1 = trial.suggest_int('n1', 3, 200)\n",
    "            n2 = trial.suggest_int('n1', 3, 200)\n",
    "            mlp = MLPRegressor(hidden_layer_sizes=(n1,n2),\n",
    "                           activation=activation,\n",
    "                           solver='adam',\n",
    "                           alpha=alpha,\n",
    "                           batch_size='auto',\n",
    "                           learning_rate='constant', \n",
    "                           learning_rate_init=learning_rate, \n",
    "                           power_t=0.5, \n",
    "                           max_iter=1000, \n",
    "                           shuffle=True,\n",
    "                           random_state=None, \n",
    "                           tol=0.0001, \n",
    "                           verbose=False, \n",
    "                           warm_start=False, \n",
    "                           momentum=0.9,\n",
    "                           nesterovs_momentum=True, \n",
    "                           early_stopping=False, \n",
    "                           validation_fraction=0.1, \n",
    "                           beta_1=b1, \n",
    "                           beta_2=b2,\n",
    "                           epsilon=1e-08,\n",
    "                           )\n",
    "        elif h_num == 3:\n",
    "            n1 = trial.suggest_int('n1', 3, 200)\n",
    "            n2 = trial.suggest_int('n2', 3, 200)\n",
    "            n3 = trial.suggest_int('n3', 3, 200)\n",
    "            mlp = MLPRegressor(hidden_layer_sizes=(n1,),\n",
    "                           activation=activation,\n",
    "                           solver='adam',\n",
    "                           alpha=alpha,\n",
    "                           batch_size='auto',\n",
    "                           learning_rate='constant', \n",
    "                           learning_rate_init=learning_rate, \n",
    "                           power_t=0.5, \n",
    "                           max_iter=1000, \n",
    "                           shuffle=True,\n",
    "                           random_state=None, \n",
    "                           tol=0.0001, \n",
    "                           verbose=False, \n",
    "                           warm_start=False, \n",
    "                           momentum=0.9,\n",
    "                           nesterovs_momentum=True, \n",
    "                           early_stopping=False, \n",
    "                           validation_fraction=0.1, \n",
    "                           beta_1=b1, \n",
    "                           beta_2=b2,\n",
    "                           epsilon=1e-08,\n",
    "                           )\n",
    "        elif h_num == 4:\n",
    "            n1 = trial.suggest_int('n1', 3, 200)\n",
    "            n2 = trial.suggest_int('n2', 3, 200)\n",
    "            n3 = trial.suggest_int('n3', 3, 200)\n",
    "            n4 = trial.suggest_int('n4', 3, 200)\n",
    "            mlp = MLPRegressor(hidden_layer_sizes=(n1,n2,n3,n4,),\n",
    "                           activation=activation,\n",
    "                           solver='adam',\n",
    "                           alpha=alpha,\n",
    "                           batch_size='auto',\n",
    "                           learning_rate='constant', \n",
    "                           learning_rate_init=learning_rate, \n",
    "                           power_t=0.5, \n",
    "                           max_iter=1000, \n",
    "                           shuffle=True,\n",
    "                           random_state=None, \n",
    "                           tol=0.0001, \n",
    "                           verbose=False, \n",
    "                           warm_start=False, \n",
    "                           momentum=0.9,\n",
    "                           nesterovs_momentum=True, \n",
    "                           early_stopping=False, \n",
    "                           validation_fraction=0.1, \n",
    "                           beta_1=b1, \n",
    "                           beta_2=b2,\n",
    "                           epsilon=1e-08,\n",
    "                           )\n",
    "        else:\n",
    "            n1 = trial.suggest_int('n1', 3, 200)\n",
    "            n2 = trial.suggest_int('n2', 3, 200)\n",
    "            n3 = trial.suggest_int('n3', 3, 200)\n",
    "            n4 = trial.suggest_int('n4', 3, 200)\n",
    "            n5 = trial.suggest_int('n5', 3, 200)\n",
    "            mlp = MLPRegressor(hidden_layer_sizes=(n1,n2,n3,n4,n5),\n",
    "                               activation=activation,\n",
    "                               solver='adam',\n",
    "                               alpha=alpha,\n",
    "                               batch_size='auto',\n",
    "                               learning_rate='constant', \n",
    "                               learning_rate_init=learning_rate, \n",
    "                               power_t=0.5, \n",
    "                               max_iter=1000, \n",
    "                               shuffle=True,\n",
    "                               random_state=None, \n",
    "                               tol=0.0001, \n",
    "                               verbose=False, \n",
    "                               warm_start=False, \n",
    "                               momentum=0.9,\n",
    "                               nesterovs_momentum=True, \n",
    "                               early_stopping=False, \n",
    "                               validation_fraction=0.1, \n",
    "                               beta_1=b1, \n",
    "                               beta_2=b2,\n",
    "                               epsilon=1e-08,\n",
    "                               )\n",
    "\n",
    "        mlp.fit(x_train_std, y_train) # ロジスティック回帰モデルの重みを学習\n",
    "        \n",
    "        # 予測(確率)\n",
    "        probs = mlp.predict(x_test_std)\n",
    "        probs_all = np.hstack((probs_all, probs))\n",
    "        y_true_all = np.hstack((y_true_all, y_test))\n",
    "        \n",
    "#         print(probs)\n",
    "\n",
    "        # 混同行列\n",
    "        y_pred = np.where((probs ==  max(probs)) , 1, 0) #確率→0/1\n",
    "        cm = confusion_matrix(y_true=y_test, y_pred=y_pred)\n",
    "        cm_all += cm\n",
    "        \n",
    "\n",
    "    auc = roc_auc_score(y_true_all, probs_all)\n",
    "    fpr, tpr, thresholds = roc_curve(y_true_all, probs_all)\n",
    "    \n",
    "#     plot_roc_curve(fpr, tpr, auc)\n",
    "    \n",
    "    print(\"len: {0} , {1}\".format(len(y_true_all), len(probs_all) ))\n",
    "    print(\"confusion_matrix: \")\n",
    "    print(cm_all)\n",
    "    print(\"AUC: \")\n",
    "    print(auc)\n",
    "    print()\n",
    "    return -auc"
   ]
  },
  {
   "cell_type": "code",
   "execution_count": 5,
   "metadata": {},
   "outputs": [],
   "source": [
    "def main():\n",
    "    np.set_printoptions(precision=3, suppress=True)\n",
    "    study = optuna.create_study()\n",
    "    study.optimize(train, n_trials=200)\n",
    "    print(study.best_trial)"
   ]
  },
  {
   "cell_type": "code",
   "execution_count": 6,
   "metadata": {},
   "outputs": [
    {
     "name": "stdout",
     "output_type": "stream",
     "text": [
      "len: 211 , 211\n",
      "confusion_matrix: \n",
      "[[ 21. 148.]\n",
      " [  7.  35.]]\n",
      "AUC: \n",
      "0.500422654268808\n",
      "\n"
     ]
    },
    {
     "name": "stderr",
     "output_type": "stream",
     "text": [
      "[I 2019-08-23 08:06:35,840] Finished trial#0 resulted in value: -0.500422654268808. Current best value is -0.500422654268808 with parameters: {'num': 4, 'learning_rate': 0.0965571697002695, 'activation': 'tanh', 'alpha': 1.0366648669857588, 'b1': 0.32515188079624446, 'b2': 0.0008079300705792214, 'n1': 60, 'n2': 90, 'n3': 196, 'n4': 172}.\n"
     ]
    },
    {
     "name": "stdout",
     "output_type": "stream",
     "text": [
      "len: 211 , 211\n",
      "confusion_matrix: \n",
      "[[137.  32.]\n",
      " [ 32.  10.]]\n",
      "AUC: \n",
      "0.4991546914623838\n",
      "\n"
     ]
    },
    {
     "name": "stderr",
     "output_type": "stream",
     "text": [
      "[I 2019-08-23 08:07:20,141] Finished trial#1 resulted in value: -0.4991546914623838. Current best value is -0.500422654268808 with parameters: {'num': 4, 'learning_rate': 0.0965571697002695, 'activation': 'tanh', 'alpha': 1.0366648669857588, 'b1': 0.32515188079624446, 'b2': 0.0008079300705792214, 'n1': 60, 'n2': 90, 'n3': 196, 'n4': 172}.\n"
     ]
    },
    {
     "name": "stdout",
     "output_type": "stream",
     "text": [
      "len: 211 , 211\n",
      "confusion_matrix: \n",
      "[[135.  34.]\n",
      " [ 34.   8.]]\n",
      "AUC: \n",
      "0.5\n",
      "\n"
     ]
    },
    {
     "name": "stderr",
     "output_type": "stream",
     "text": [
      "[I 2019-08-23 08:07:25,285] Finished trial#2 resulted in value: -0.5. Current best value is -0.500422654268808 with parameters: {'num': 4, 'learning_rate': 0.0965571697002695, 'activation': 'tanh', 'alpha': 1.0366648669857588, 'b1': 0.32515188079624446, 'b2': 0.0008079300705792214, 'n1': 60, 'n2': 90, 'n3': 196, 'n4': 172}.\n"
     ]
    },
    {
     "name": "stdout",
     "output_type": "stream",
     "text": [
      "len: 211 , 211\n",
      "confusion_matrix: \n",
      "[[132.  37.]\n",
      " [ 37.   5.]]\n",
      "AUC: \n",
      "0.49619611158072696\n",
      "\n"
     ]
    },
    {
     "name": "stderr",
     "output_type": "stream",
     "text": [
      "[I 2019-08-23 08:07:29,172] Finished trial#3 resulted in value: -0.49619611158072696. Current best value is -0.500422654268808 with parameters: {'num': 4, 'learning_rate': 0.0965571697002695, 'activation': 'tanh', 'alpha': 1.0366648669857588, 'b1': 0.32515188079624446, 'b2': 0.0008079300705792214, 'n1': 60, 'n2': 90, 'n3': 196, 'n4': 172}.\n"
     ]
    },
    {
     "name": "stdout",
     "output_type": "stream",
     "text": [
      "len: 211 , 211\n",
      "confusion_matrix: \n",
      "[[137.  32.]\n",
      " [ 32.  10.]]\n",
      "AUC: \n",
      "0.5025359256128487\n",
      "\n"
     ]
    },
    {
     "name": "stderr",
     "output_type": "stream",
     "text": [
      "[I 2019-08-23 08:07:30,529] Finished trial#4 resulted in value: -0.5025359256128487. Current best value is -0.5025359256128487 with parameters: {'num': 1, 'learning_rate': 0.09492584759391348, 'activation': 'relu', 'alpha': 0.7656474158653997, 'b1': 0.9395137438391017, 'b2': 0.35953730285380925, 'n1': 149}.\n"
     ]
    },
    {
     "name": "stdout",
     "output_type": "stream",
     "text": [
      "len: 211 , 211\n",
      "confusion_matrix: \n",
      "[[134.  35.]\n",
      " [ 35.   7.]]\n",
      "AUC: \n",
      "0.49929557621865317\n",
      "\n"
     ]
    },
    {
     "name": "stderr",
     "output_type": "stream",
     "text": [
      "[I 2019-08-23 08:07:32,557] Finished trial#5 resulted in value: -0.49929557621865317. Current best value is -0.5025359256128487 with parameters: {'num': 1, 'learning_rate': 0.09492584759391348, 'activation': 'relu', 'alpha': 0.7656474158653997, 'b1': 0.9395137438391017, 'b2': 0.35953730285380925, 'n1': 149}.\n"
     ]
    },
    {
     "name": "stdout",
     "output_type": "stream",
     "text": [
      "len: 211 , 211\n",
      "confusion_matrix: \n",
      "[[135.  34.]\n",
      " [ 33.   9.]]\n",
      "AUC: \n",
      "0.4909833755987602\n",
      "\n"
     ]
    },
    {
     "name": "stderr",
     "output_type": "stream",
     "text": [
      "[I 2019-08-23 08:07:43,868] Finished trial#6 resulted in value: -0.4909833755987602. Current best value is -0.5025359256128487 with parameters: {'num': 1, 'learning_rate': 0.09492584759391348, 'activation': 'relu', 'alpha': 0.7656474158653997, 'b1': 0.9395137438391017, 'b2': 0.35953730285380925, 'n1': 149}.\n"
     ]
    },
    {
     "name": "stdout",
     "output_type": "stream",
     "text": [
      "len: 211 , 211\n",
      "confusion_matrix: \n",
      "[[135.  34.]\n",
      " [ 34.   8.]]\n",
      "AUC: \n",
      "0.4650605804451958\n",
      "\n"
     ]
    },
    {
     "name": "stderr",
     "output_type": "stream",
     "text": [
      "[I 2019-08-23 08:07:51,011] Finished trial#7 resulted in value: -0.4650605804451958. Current best value is -0.5025359256128487 with parameters: {'num': 1, 'learning_rate': 0.09492584759391348, 'activation': 'relu', 'alpha': 0.7656474158653997, 'b1': 0.9395137438391017, 'b2': 0.35953730285380925, 'n1': 149}.\n"
     ]
    },
    {
     "name": "stdout",
     "output_type": "stream",
     "text": [
      "len: 211 , 211\n",
      "confusion_matrix: \n",
      "[[146.  23.]\n",
      " [ 23.  19.]]\n",
      "AUC: \n",
      "0.6018596787827556\n",
      "\n"
     ]
    },
    {
     "name": "stderr",
     "output_type": "stream",
     "text": [
      "[I 2019-08-23 08:07:52,767] Finished trial#8 resulted in value: -0.6018596787827556. Current best value is -0.6018596787827556 with parameters: {'num': 3, 'learning_rate': 0.013033777332895163, 'activation': 'tanh', 'alpha': 3.953464876621629, 'b1': 0.10578944398961299, 'b2': 0.4238093891226684, 'n1': 38, 'n2': 142, 'n3': 164}.\n"
     ]
    },
    {
     "name": "stdout",
     "output_type": "stream",
     "text": [
      "len: 211 , 211\n",
      "confusion_matrix: \n",
      "[[113.  56.]\n",
      " [ 23.  19.]]\n",
      "AUC: \n",
      "0.5076077768385461\n",
      "\n"
     ]
    },
    {
     "name": "stderr",
     "output_type": "stream",
     "text": [
      "[I 2019-08-23 08:07:58,280] Finished trial#9 resulted in value: -0.5076077768385461. Current best value is -0.6018596787827556 with parameters: {'num': 3, 'learning_rate': 0.013033777332895163, 'activation': 'tanh', 'alpha': 3.953464876621629, 'b1': 0.10578944398961299, 'b2': 0.4238093891226684, 'n1': 38, 'n2': 142, 'n3': 164}.\n"
     ]
    },
    {
     "name": "stdout",
     "output_type": "stream",
     "text": [
      "len: 211 , 211\n",
      "confusion_matrix: \n",
      "[[135.  34.]\n",
      " [ 34.   8.]]\n",
      "AUC: \n",
      "0.4940828402366863\n",
      "\n"
     ]
    },
    {
     "name": "stderr",
     "output_type": "stream",
     "text": [
      "[I 2019-08-23 08:08:00,010] Finished trial#10 resulted in value: -0.4940828402366863. Current best value is -0.6018596787827556 with parameters: {'num': 3, 'learning_rate': 0.013033777332895163, 'activation': 'tanh', 'alpha': 3.953464876621629, 'b1': 0.10578944398961299, 'b2': 0.4238093891226684, 'n1': 38, 'n2': 142, 'n3': 164}.\n"
     ]
    },
    {
     "name": "stdout",
     "output_type": "stream",
     "text": [
      "len: 211 , 211\n",
      "confusion_matrix: \n",
      "[[138.  31.]\n",
      " [ 31.  11.]]\n",
      "AUC: \n",
      "0.5736827275288814\n",
      "\n"
     ]
    },
    {
     "name": "stderr",
     "output_type": "stream",
     "text": [
      "[I 2019-08-23 08:08:02,245] Finished trial#11 resulted in value: -0.5736827275288814. Current best value is -0.6018596787827556 with parameters: {'num': 3, 'learning_rate': 0.013033777332895163, 'activation': 'tanh', 'alpha': 3.953464876621629, 'b1': 0.10578944398961299, 'b2': 0.4238093891226684, 'n1': 38, 'n2': 142, 'n3': 164}.\n"
     ]
    },
    {
     "name": "stdout",
     "output_type": "stream",
     "text": [
      "len: 211 , 211\n",
      "confusion_matrix: \n",
      "[[138.  31.]\n",
      " [ 31.  11.]]\n",
      "AUC: \n",
      "0.5972104818258664\n",
      "\n"
     ]
    },
    {
     "name": "stderr",
     "output_type": "stream",
     "text": [
      "[I 2019-08-23 08:08:04,564] Finished trial#12 resulted in value: -0.5972104818258664. Current best value is -0.6018596787827556 with parameters: {'num': 3, 'learning_rate': 0.013033777332895163, 'activation': 'tanh', 'alpha': 3.953464876621629, 'b1': 0.10578944398961299, 'b2': 0.4238093891226684, 'n1': 38, 'n2': 142, 'n3': 164}.\n"
     ]
    },
    {
     "name": "stdout",
     "output_type": "stream",
     "text": [
      "len: 211 , 211\n",
      "confusion_matrix: \n",
      "[[150.  19.]\n",
      " [ 19.  23.]]\n",
      "AUC: \n",
      "0.6873767258382644\n",
      "\n"
     ]
    },
    {
     "name": "stderr",
     "output_type": "stream",
     "text": [
      "[I 2019-08-23 08:08:08,889] Finished trial#13 resulted in value: -0.6873767258382644. Current best value is -0.6873767258382644 with parameters: {'num': 2, 'learning_rate': 0.0036610951155024614, 'activation': 'tanh', 'alpha': 2.222759024327615, 'b1': 0.15201227138765483, 'b2': 0.8528986777213281, 'n1': 3}.\n"
     ]
    },
    {
     "name": "stdout",
     "output_type": "stream",
     "text": [
      "len: 211 , 211\n",
      "confusion_matrix: \n",
      "[[147.  22.]\n",
      " [ 22.  20.]]\n",
      "AUC: \n",
      "0.6415891800507185\n",
      "\n"
     ]
    },
    {
     "name": "stderr",
     "output_type": "stream",
     "text": [
      "[I 2019-08-23 08:08:11,088] Finished trial#14 resulted in value: -0.6415891800507185. Current best value is -0.6873767258382644 with parameters: {'num': 2, 'learning_rate': 0.0036610951155024614, 'activation': 'tanh', 'alpha': 2.222759024327615, 'b1': 0.15201227138765483, 'b2': 0.8528986777213281, 'n1': 3}.\n"
     ]
    },
    {
     "name": "stdout",
     "output_type": "stream",
     "text": [
      "len: 211 , 211\n",
      "confusion_matrix: \n",
      "[[143.  26.]\n",
      " [ 26.  16.]]\n",
      "AUC: \n",
      "0.6755424063116371\n",
      "\n"
     ]
    },
    {
     "name": "stderr",
     "output_type": "stream",
     "text": [
      "[I 2019-08-23 08:08:14,325] Finished trial#15 resulted in value: -0.6755424063116371. Current best value is -0.6873767258382644 with parameters: {'num': 2, 'learning_rate': 0.0036610951155024614, 'activation': 'tanh', 'alpha': 2.222759024327615, 'b1': 0.15201227138765483, 'b2': 0.8528986777213281, 'n1': 3}.\n"
     ]
    },
    {
     "name": "stdout",
     "output_type": "stream",
     "text": [
      "len: 211 , 211\n",
      "confusion_matrix: \n",
      "[[147.  22.]\n",
      " [ 22.  20.]]\n",
      "AUC: \n",
      "0.6954071569456185\n",
      "\n"
     ]
    },
    {
     "name": "stderr",
     "output_type": "stream",
     "text": [
      "[I 2019-08-23 08:08:26,285] Finished trial#16 resulted in value: -0.6954071569456185. Current best value is -0.6954071569456185 with parameters: {'num': 2, 'learning_rate': 0.001293554379467413, 'activation': 'tanh', 'alpha': 1.5912153067150063, 'b1': 0.21276060056404192, 'b2': 0.9934393062024263, 'n1': 4}.\n"
     ]
    },
    {
     "name": "stdout",
     "output_type": "stream",
     "text": [
      "len: 211 , 211\n",
      "confusion_matrix: \n",
      "[[144.  25.]\n",
      " [ 25.  17.]]\n",
      "AUC: \n",
      "0.5725556494787264\n",
      "\n"
     ]
    },
    {
     "name": "stderr",
     "output_type": "stream",
     "text": [
      "[I 2019-08-23 08:08:28,183] Finished trial#17 resulted in value: -0.5725556494787264. Current best value is -0.6954071569456185 with parameters: {'num': 2, 'learning_rate': 0.001293554379467413, 'activation': 'tanh', 'alpha': 1.5912153067150063, 'b1': 0.21276060056404192, 'b2': 0.9934393062024263, 'n1': 4}.\n"
     ]
    },
    {
     "name": "stdout",
     "output_type": "stream",
     "text": [
      "len: 211 , 211\n",
      "confusion_matrix: \n",
      "[[147.  22.]\n",
      " [ 22.  20.]]\n",
      "AUC: \n",
      "0.6646942800788955\n",
      "\n"
     ]
    },
    {
     "name": "stderr",
     "output_type": "stream",
     "text": [
      "[I 2019-08-23 08:08:38,441] Finished trial#18 resulted in value: -0.6646942800788955. Current best value is -0.6954071569456185 with parameters: {'num': 2, 'learning_rate': 0.001293554379467413, 'activation': 'tanh', 'alpha': 1.5912153067150063, 'b1': 0.21276060056404192, 'b2': 0.9934393062024263, 'n1': 4}.\n"
     ]
    },
    {
     "name": "stdout",
     "output_type": "stream",
     "text": [
      "len: 211 , 211\n",
      "confusion_matrix: \n",
      "[[144.  25.]\n",
      " [ 25.  17.]]\n",
      "AUC: \n",
      "0.5501549732318962\n",
      "\n"
     ]
    },
    {
     "name": "stderr",
     "output_type": "stream",
     "text": [
      "[I 2019-08-23 08:08:40,802] Finished trial#19 resulted in value: -0.5501549732318962. Current best value is -0.6954071569456185 with parameters: {'num': 2, 'learning_rate': 0.001293554379467413, 'activation': 'tanh', 'alpha': 1.5912153067150063, 'b1': 0.21276060056404192, 'b2': 0.9934393062024263, 'n1': 4}.\n"
     ]
    },
    {
     "name": "stdout",
     "output_type": "stream",
     "text": [
      "len: 211 , 211\n",
      "confusion_matrix: \n",
      "[[145.  24.]\n",
      " [ 24.  18.]]\n",
      "AUC: \n",
      "0.6439842209072978\n",
      "\n"
     ]
    },
    {
     "name": "stderr",
     "output_type": "stream",
     "text": [
      "[I 2019-08-23 08:08:42,294] Finished trial#20 resulted in value: -0.6439842209072978. Current best value is -0.6954071569456185 with parameters: {'num': 2, 'learning_rate': 0.001293554379467413, 'activation': 'tanh', 'alpha': 1.5912153067150063, 'b1': 0.21276060056404192, 'b2': 0.9934393062024263, 'n1': 4}.\n"
     ]
    },
    {
     "name": "stdout",
     "output_type": "stream",
     "text": [
      "len: 211 , 211\n",
      "confusion_matrix: \n",
      "[[147.  22.]\n",
      " [ 22.  20.]]\n",
      "AUC: \n",
      "0.711890673429135\n",
      "\n"
     ]
    },
    {
     "name": "stderr",
     "output_type": "stream",
     "text": [
      "[I 2019-08-23 08:08:50,330] Finished trial#21 resulted in value: -0.711890673429135. Current best value is -0.711890673429135 with parameters: {'num': 1, 'learning_rate': 0.001542803851126573, 'activation': 'tanh', 'alpha': 3.2342466680844844, 'b1': 0.15635578243546833, 'b2': 0.9772228636112772, 'n1': 86}.\n"
     ]
    },
    {
     "name": "stdout",
     "output_type": "stream",
     "text": [
      "len: 211 , 211\n",
      "confusion_matrix: \n",
      "[[134.  35.]\n",
      " [ 35.   7.]]\n",
      "AUC: \n",
      "0.5009861932938855\n",
      "\n"
     ]
    },
    {
     "name": "stderr",
     "output_type": "stream",
     "text": [
      "[I 2019-08-23 08:08:54,877] Finished trial#22 resulted in value: -0.5009861932938855. Current best value is -0.711890673429135 with parameters: {'num': 1, 'learning_rate': 0.001542803851126573, 'activation': 'tanh', 'alpha': 3.2342466680844844, 'b1': 0.15635578243546833, 'b2': 0.9772228636112772, 'n1': 86}.\n"
     ]
    },
    {
     "name": "stdout",
     "output_type": "stream",
     "text": [
      "len: 211 , 211\n",
      "confusion_matrix: \n",
      "[[148.  21.]\n",
      " [ 21.  21.]]\n",
      "AUC: \n",
      "0.7040011270780502\n",
      "\n"
     ]
    },
    {
     "name": "stderr",
     "output_type": "stream",
     "text": [
      "[I 2019-08-23 08:09:02,373] Finished trial#23 resulted in value: -0.7040011270780502. Current best value is -0.711890673429135 with parameters: {'num': 1, 'learning_rate': 0.001542803851126573, 'activation': 'tanh', 'alpha': 3.2342466680844844, 'b1': 0.15635578243546833, 'b2': 0.9772228636112772, 'n1': 86}.\n"
     ]
    },
    {
     "name": "stdout",
     "output_type": "stream",
     "text": [
      "len: 211 , 211\n",
      "confusion_matrix: \n",
      "[[141.  28.]\n",
      " [ 28.  14.]]\n",
      "AUC: \n",
      "0.5677655677655677\n",
      "\n"
     ]
    },
    {
     "name": "stderr",
     "output_type": "stream",
     "text": [
      "[I 2019-08-23 08:09:04,593] Finished trial#24 resulted in value: -0.5677655677655677. Current best value is -0.711890673429135 with parameters: {'num': 1, 'learning_rate': 0.001542803851126573, 'activation': 'tanh', 'alpha': 3.2342466680844844, 'b1': 0.15635578243546833, 'b2': 0.9772228636112772, 'n1': 86}.\n"
     ]
    },
    {
     "name": "stdout",
     "output_type": "stream",
     "text": [
      "len: 211 , 211\n",
      "confusion_matrix: \n",
      "[[138.  31.]\n",
      " [ 31.  11.]]\n",
      "AUC: \n",
      "0.5342349957734573\n",
      "\n"
     ]
    },
    {
     "name": "stderr",
     "output_type": "stream",
     "text": [
      "[I 2019-08-23 08:09:07,029] Finished trial#25 resulted in value: -0.5342349957734573. Current best value is -0.711890673429135 with parameters: {'num': 1, 'learning_rate': 0.001542803851126573, 'activation': 'tanh', 'alpha': 3.2342466680844844, 'b1': 0.15635578243546833, 'b2': 0.9772228636112772, 'n1': 86}.\n"
     ]
    },
    {
     "name": "stdout",
     "output_type": "stream",
     "text": [
      "len: 211 , 211\n",
      "confusion_matrix: \n",
      "[[150.  19.]\n",
      " [ 19.  23.]]\n",
      "AUC: \n",
      "0.7130177514792898\n",
      "\n"
     ]
    },
    {
     "name": "stderr",
     "output_type": "stream",
     "text": [
      "[I 2019-08-23 08:09:13,428] Finished trial#26 resulted in value: -0.7130177514792898. Current best value is -0.7130177514792898 with parameters: {'num': 1, 'learning_rate': 0.0018610255771484123, 'activation': 'tanh', 'alpha': 1.864810681648348, 'b1': 0.2588826233375909, 'b2': 0.7842399485409522, 'n1': 95}.\n"
     ]
    },
    {
     "name": "stdout",
     "output_type": "stream",
     "text": [
      "len: 211 , 211\n",
      "confusion_matrix: \n",
      "[[139.  30.]\n",
      " [ 30.  12.]]\n",
      "AUC: \n",
      "0.5717103409411102\n",
      "\n"
     ]
    },
    {
     "name": "stderr",
     "output_type": "stream",
     "text": [
      "[I 2019-08-23 08:09:15,194] Finished trial#27 resulted in value: -0.5717103409411102. Current best value is -0.7130177514792898 with parameters: {'num': 1, 'learning_rate': 0.0018610255771484123, 'activation': 'tanh', 'alpha': 1.864810681648348, 'b1': 0.2588826233375909, 'b2': 0.7842399485409522, 'n1': 95}.\n"
     ]
    },
    {
     "name": "stdout",
     "output_type": "stream",
     "text": [
      "len: 211 , 211\n",
      "confusion_matrix: \n",
      "[[145.  24.]\n",
      " [ 24.  18.]]\n",
      "AUC: \n",
      "0.645533953226261\n",
      "\n"
     ]
    },
    {
     "name": "stderr",
     "output_type": "stream",
     "text": [
      "[I 2019-08-23 08:09:17,802] Finished trial#28 resulted in value: -0.645533953226261. Current best value is -0.7130177514792898 with parameters: {'num': 1, 'learning_rate': 0.0018610255771484123, 'activation': 'tanh', 'alpha': 1.864810681648348, 'b1': 0.2588826233375909, 'b2': 0.7842399485409522, 'n1': 95}.\n"
     ]
    },
    {
     "name": "stdout",
     "output_type": "stream",
     "text": [
      "len: 211 , 211\n",
      "confusion_matrix: \n",
      "[[144.  25.]\n",
      " [ 25.  17.]]\n",
      "AUC: \n",
      "0.5681882220343759\n",
      "\n"
     ]
    },
    {
     "name": "stderr",
     "output_type": "stream",
     "text": [
      "[I 2019-08-23 08:09:19,646] Finished trial#29 resulted in value: -0.5681882220343759. Current best value is -0.7130177514792898 with parameters: {'num': 1, 'learning_rate': 0.0018610255771484123, 'activation': 'tanh', 'alpha': 1.864810681648348, 'b1': 0.2588826233375909, 'b2': 0.7842399485409522, 'n1': 95}.\n"
     ]
    },
    {
     "name": "stdout",
     "output_type": "stream",
     "text": [
      "len: 211 , 211\n",
      "confusion_matrix: \n",
      "[[146.  23.]\n",
      " [ 23.  19.]]\n",
      "AUC: \n",
      "0.681177796562412\n",
      "\n"
     ]
    },
    {
     "name": "stderr",
     "output_type": "stream",
     "text": [
      "[I 2019-08-23 08:09:26,600] Finished trial#30 resulted in value: -0.681177796562412. Current best value is -0.7130177514792898 with parameters: {'num': 1, 'learning_rate': 0.0018610255771484123, 'activation': 'tanh', 'alpha': 1.864810681648348, 'b1': 0.2588826233375909, 'b2': 0.7842399485409522, 'n1': 95}.\n"
     ]
    },
    {
     "name": "stdout",
     "output_type": "stream",
     "text": [
      "len: 211 , 211\n",
      "confusion_matrix: \n",
      "[[151.  18.]\n",
      " [ 18.  24.]]\n",
      "AUC: \n",
      "0.5925612848689771\n",
      "\n"
     ]
    },
    {
     "name": "stderr",
     "output_type": "stream",
     "text": [
      "[I 2019-08-23 08:09:34,381] Finished trial#31 resulted in value: -0.5925612848689771. Current best value is -0.7130177514792898 with parameters: {'num': 1, 'learning_rate': 0.0018610255771484123, 'activation': 'tanh', 'alpha': 1.864810681648348, 'b1': 0.2588826233375909, 'b2': 0.7842399485409522, 'n1': 95}.\n"
     ]
    },
    {
     "name": "stdout",
     "output_type": "stream",
     "text": [
      "len: 211 , 211\n",
      "confusion_matrix: \n",
      "[[149.  20.]\n",
      " [ 20.  22.]]\n",
      "AUC: \n",
      "0.7004790081713158\n",
      "\n"
     ]
    },
    {
     "name": "stderr",
     "output_type": "stream",
     "text": [
      "[I 2019-08-23 08:09:42,293] Finished trial#32 resulted in value: -0.7004790081713158. Current best value is -0.7130177514792898 with parameters: {'num': 1, 'learning_rate': 0.0018610255771484123, 'activation': 'tanh', 'alpha': 1.864810681648348, 'b1': 0.2588826233375909, 'b2': 0.7842399485409522, 'n1': 95}.\n"
     ]
    },
    {
     "name": "stdout",
     "output_type": "stream",
     "text": [
      "len: 211 , 211\n",
      "confusion_matrix: \n",
      "[[135.  34.]\n",
      " [ 34.   8.]]\n",
      "AUC: \n",
      "0.5005635390250774\n",
      "\n"
     ]
    },
    {
     "name": "stderr",
     "output_type": "stream",
     "text": [
      "[I 2019-08-23 08:09:44,282] Finished trial#33 resulted in value: -0.5005635390250774. Current best value is -0.7130177514792898 with parameters: {'num': 1, 'learning_rate': 0.0018610255771484123, 'activation': 'tanh', 'alpha': 1.864810681648348, 'b1': 0.2588826233375909, 'b2': 0.7842399485409522, 'n1': 95}.\n"
     ]
    },
    {
     "name": "stdout",
     "output_type": "stream",
     "text": [
      "len: 211 , 211\n",
      "confusion_matrix: \n",
      "[[137.  32.]\n",
      " [ 32.  10.]]\n",
      "AUC: \n",
      "0.5476190476190476\n",
      "\n"
     ]
    },
    {
     "name": "stderr",
     "output_type": "stream",
     "text": [
      "[I 2019-08-23 08:09:46,823] Finished trial#34 resulted in value: -0.5476190476190476. Current best value is -0.7130177514792898 with parameters: {'num': 1, 'learning_rate': 0.0018610255771484123, 'activation': 'tanh', 'alpha': 1.864810681648348, 'b1': 0.2588826233375909, 'b2': 0.7842399485409522, 'n1': 95}.\n"
     ]
    },
    {
     "name": "stdout",
     "output_type": "stream",
     "text": [
      "len: 211 , 211\n",
      "confusion_matrix: \n",
      "[[141.  28.]\n",
      " [ 28.  14.]]\n",
      "AUC: \n",
      "0.5931248238940546\n",
      "\n"
     ]
    },
    {
     "name": "stderr",
     "output_type": "stream",
     "text": [
      "[I 2019-08-23 08:09:50,156] Finished trial#35 resulted in value: -0.5931248238940546. Current best value is -0.7130177514792898 with parameters: {'num': 1, 'learning_rate': 0.0018610255771484123, 'activation': 'tanh', 'alpha': 1.864810681648348, 'b1': 0.2588826233375909, 'b2': 0.7842399485409522, 'n1': 95}.\n"
     ]
    },
    {
     "name": "stdout",
     "output_type": "stream",
     "text": [
      "len: 211 , 211\n",
      "confusion_matrix: \n",
      "[[148.  21.]\n",
      " [ 21.  21.]]\n",
      "AUC: \n",
      "0.740349394195548\n",
      "\n"
     ]
    },
    {
     "name": "stderr",
     "output_type": "stream",
     "text": [
      "[I 2019-08-23 08:10:00,771] Finished trial#36 resulted in value: -0.740349394195548. Current best value is -0.740349394195548 with parameters: {'num': 1, 'learning_rate': 0.001106476562682208, 'activation': 'relu', 'alpha': 3.6244949566852274, 'b1': 0.06531135581904376, 'b2': 0.9381449216689659, 'n1': 108}.\n"
     ]
    },
    {
     "name": "stdout",
     "output_type": "stream",
     "text": [
      "len: 211 , 211\n",
      "confusion_matrix: \n",
      "[[134.  35.]\n",
      " [ 35.   7.]]\n",
      "AUC: \n",
      "0.49436460974922514\n",
      "\n"
     ]
    },
    {
     "name": "stderr",
     "output_type": "stream",
     "text": [
      "[I 2019-08-23 08:10:05,305] Finished trial#37 resulted in value: -0.49436460974922514. Current best value is -0.740349394195548 with parameters: {'num': 1, 'learning_rate': 0.001106476562682208, 'activation': 'relu', 'alpha': 3.6244949566852274, 'b1': 0.06531135581904376, 'b2': 0.9381449216689659, 'n1': 108}.\n"
     ]
    },
    {
     "name": "stdout",
     "output_type": "stream",
     "text": [
      "len: 211 , 211\n",
      "confusion_matrix: \n",
      "[[148.  21.]\n",
      " [ 21.  21.]]\n",
      "AUC: \n",
      "0.6293322062552832\n",
      "\n"
     ]
    },
    {
     "name": "stderr",
     "output_type": "stream",
     "text": [
      "[I 2019-08-23 08:10:07,974] Finished trial#38 resulted in value: -0.6293322062552832. Current best value is -0.740349394195548 with parameters: {'num': 1, 'learning_rate': 0.001106476562682208, 'activation': 'relu', 'alpha': 3.6244949566852274, 'b1': 0.06531135581904376, 'b2': 0.9381449216689659, 'n1': 108}.\n"
     ]
    },
    {
     "name": "stdout",
     "output_type": "stream",
     "text": [
      "len: 211 , 211\n",
      "confusion_matrix: \n",
      "[[127.  42.]\n",
      " [ 37.   5.]]\n",
      "AUC: \n",
      "0.4962665539588616\n",
      "\n"
     ]
    },
    {
     "name": "stderr",
     "output_type": "stream",
     "text": [
      "[I 2019-08-23 08:10:13,083] Finished trial#39 resulted in value: -0.4962665539588616. Current best value is -0.740349394195548 with parameters: {'num': 1, 'learning_rate': 0.001106476562682208, 'activation': 'relu', 'alpha': 3.6244949566852274, 'b1': 0.06531135581904376, 'b2': 0.9381449216689659, 'n1': 108}.\n"
     ]
    },
    {
     "name": "stdout",
     "output_type": "stream",
     "text": [
      "len: 211 , 211\n",
      "confusion_matrix: \n",
      "[[140.  29.]\n",
      " [ 29.  13.]]\n",
      "AUC: \n",
      "0.5505776275007045\n",
      "\n"
     ]
    },
    {
     "name": "stderr",
     "output_type": "stream",
     "text": [
      "[I 2019-08-23 08:10:15,430] Finished trial#40 resulted in value: -0.5505776275007045. Current best value is -0.740349394195548 with parameters: {'num': 1, 'learning_rate': 0.001106476562682208, 'activation': 'relu', 'alpha': 3.6244949566852274, 'b1': 0.06531135581904376, 'b2': 0.9381449216689659, 'n1': 108}.\n"
     ]
    },
    {
     "name": "stdout",
     "output_type": "stream",
     "text": [
      "len: 211 , 211\n",
      "confusion_matrix: \n",
      "[[151.  18.]\n",
      " [ 18.  24.]]\n",
      "AUC: \n",
      "0.6994928148774302\n",
      "\n"
     ]
    },
    {
     "name": "stderr",
     "output_type": "stream",
     "text": [
      "[I 2019-08-23 08:10:24,149] Finished trial#41 resulted in value: -0.6994928148774302. Current best value is -0.740349394195548 with parameters: {'num': 1, 'learning_rate': 0.001106476562682208, 'activation': 'relu', 'alpha': 3.6244949566852274, 'b1': 0.06531135581904376, 'b2': 0.9381449216689659, 'n1': 108}.\n"
     ]
    },
    {
     "name": "stdout",
     "output_type": "stream",
     "text": [
      "len: 211 , 211\n",
      "confusion_matrix: \n",
      "[[142.  27.]\n",
      " [ 27.  15.]]\n",
      "AUC: \n",
      "0.5326852634544943\n",
      "\n"
     ]
    },
    {
     "name": "stderr",
     "output_type": "stream",
     "text": [
      "[I 2019-08-23 08:10:26,947] Finished trial#42 resulted in value: -0.5326852634544943. Current best value is -0.740349394195548 with parameters: {'num': 1, 'learning_rate': 0.001106476562682208, 'activation': 'relu', 'alpha': 3.6244949566852274, 'b1': 0.06531135581904376, 'b2': 0.9381449216689659, 'n1': 108}.\n"
     ]
    },
    {
     "name": "stdout",
     "output_type": "stream",
     "text": [
      "len: 211 , 211\n",
      "confusion_matrix: \n",
      "[[147.  22.]\n",
      " [ 22.  20.]]\n",
      "AUC: \n",
      "0.6265145111298958\n",
      "\n"
     ]
    },
    {
     "name": "stderr",
     "output_type": "stream",
     "text": [
      "[I 2019-08-23 08:10:30,815] Finished trial#43 resulted in value: -0.6265145111298958. Current best value is -0.740349394195548 with parameters: {'num': 1, 'learning_rate': 0.001106476562682208, 'activation': 'relu', 'alpha': 3.6244949566852274, 'b1': 0.06531135581904376, 'b2': 0.9381449216689659, 'n1': 108}.\n"
     ]
    },
    {
     "name": "stdout",
     "output_type": "stream",
     "text": [
      "len: 211 , 211\n",
      "confusion_matrix: \n",
      "[[147.  22.]\n",
      " [ 22.  20.]]\n",
      "AUC: \n",
      "0.6799098337559876\n",
      "\n"
     ]
    },
    {
     "name": "stderr",
     "output_type": "stream",
     "text": [
      "[I 2019-08-23 08:10:41,210] Finished trial#44 resulted in value: -0.6799098337559876. Current best value is -0.740349394195548 with parameters: {'num': 1, 'learning_rate': 0.001106476562682208, 'activation': 'relu', 'alpha': 3.6244949566852274, 'b1': 0.06531135581904376, 'b2': 0.9381449216689659, 'n1': 108}.\n"
     ]
    },
    {
     "name": "stdout",
     "output_type": "stream",
     "text": [
      "len: 211 , 211\n",
      "confusion_matrix: \n",
      "[[136.  33.]\n",
      " [ 29.  13.]]\n",
      "AUC: \n",
      "0.5012679628064243\n",
      "\n"
     ]
    },
    {
     "name": "stderr",
     "output_type": "stream",
     "text": [
      "[I 2019-08-23 08:10:45,007] Finished trial#45 resulted in value: -0.5012679628064243. Current best value is -0.740349394195548 with parameters: {'num': 1, 'learning_rate': 0.001106476562682208, 'activation': 'relu', 'alpha': 3.6244949566852274, 'b1': 0.06531135581904376, 'b2': 0.9381449216689659, 'n1': 108}.\n"
     ]
    },
    {
     "name": "stdout",
     "output_type": "stream",
     "text": [
      "len: 211 , 211\n",
      "confusion_matrix: \n",
      "[[142.  27.]\n",
      " [ 27.  15.]]\n",
      "AUC: \n",
      "0.5521273598196675\n",
      "\n"
     ]
    },
    {
     "name": "stderr",
     "output_type": "stream",
     "text": [
      "[I 2019-08-23 08:10:47,411] Finished trial#46 resulted in value: -0.5521273598196675. Current best value is -0.740349394195548 with parameters: {'num': 1, 'learning_rate': 0.001106476562682208, 'activation': 'relu', 'alpha': 3.6244949566852274, 'b1': 0.06531135581904376, 'b2': 0.9381449216689659, 'n1': 108}.\n"
     ]
    },
    {
     "name": "stdout",
     "output_type": "stream",
     "text": [
      "len: 211 , 211\n",
      "confusion_matrix: \n",
      "[[137.  32.]\n",
      " [ 32.  10.]]\n",
      "AUC: \n",
      "0.5009861932938856\n",
      "\n"
     ]
    },
    {
     "name": "stderr",
     "output_type": "stream",
     "text": [
      "[I 2019-08-23 08:11:02,361] Finished trial#47 resulted in value: -0.5009861932938856. Current best value is -0.740349394195548 with parameters: {'num': 1, 'learning_rate': 0.001106476562682208, 'activation': 'relu', 'alpha': 3.6244949566852274, 'b1': 0.06531135581904376, 'b2': 0.9381449216689659, 'n1': 108}.\n"
     ]
    },
    {
     "name": "stdout",
     "output_type": "stream",
     "text": [
      "len: 211 , 211\n",
      "confusion_matrix: \n",
      "[[143.  26.]\n",
      " [ 26.  16.]]\n",
      "AUC: \n",
      "0.5308537616229924\n",
      "\n"
     ]
    },
    {
     "name": "stderr",
     "output_type": "stream",
     "text": [
      "[I 2019-08-23 08:11:05,640] Finished trial#48 resulted in value: -0.5308537616229924. Current best value is -0.740349394195548 with parameters: {'num': 1, 'learning_rate': 0.001106476562682208, 'activation': 'relu', 'alpha': 3.6244949566852274, 'b1': 0.06531135581904376, 'b2': 0.9381449216689659, 'n1': 108}.\n"
     ]
    },
    {
     "name": "stdout",
     "output_type": "stream",
     "text": [
      "len: 211 , 211\n",
      "confusion_matrix: \n",
      "[[139.  30.]\n",
      " [ 30.  12.]]\n",
      "AUC: \n",
      "0.5032403493941955\n",
      "\n"
     ]
    },
    {
     "name": "stderr",
     "output_type": "stream",
     "text": [
      "[I 2019-08-23 08:11:15,477] Finished trial#49 resulted in value: -0.5032403493941955. Current best value is -0.740349394195548 with parameters: {'num': 1, 'learning_rate': 0.001106476562682208, 'activation': 'relu', 'alpha': 3.6244949566852274, 'b1': 0.06531135581904376, 'b2': 0.9381449216689659, 'n1': 108}.\n"
     ]
    },
    {
     "name": "stdout",
     "output_type": "stream",
     "text": [
      "len: 211 , 211\n",
      "confusion_matrix: \n",
      "[[143.  26.]\n",
      " [ 26.  16.]]\n",
      "AUC: \n",
      "0.4984502676810369\n",
      "\n"
     ]
    },
    {
     "name": "stderr",
     "output_type": "stream",
     "text": [
      "[I 2019-08-23 08:11:20,155] Finished trial#50 resulted in value: -0.4984502676810369. Current best value is -0.740349394195548 with parameters: {'num': 1, 'learning_rate': 0.001106476562682208, 'activation': 'relu', 'alpha': 3.6244949566852274, 'b1': 0.06531135581904376, 'b2': 0.9381449216689659, 'n1': 108}.\n"
     ]
    },
    {
     "name": "stdout",
     "output_type": "stream",
     "text": [
      "len: 211 , 211\n",
      "confusion_matrix: \n",
      "[[149.  20.]\n",
      " [ 20.  22.]]\n",
      "AUC: \n",
      "0.7151310228233305\n",
      "\n"
     ]
    },
    {
     "name": "stderr",
     "output_type": "stream",
     "text": [
      "[I 2019-08-23 08:11:29,638] Finished trial#51 resulted in value: -0.7151310228233305. Current best value is -0.740349394195548 with parameters: {'num': 1, 'learning_rate': 0.001106476562682208, 'activation': 'relu', 'alpha': 3.6244949566852274, 'b1': 0.06531135581904376, 'b2': 0.9381449216689659, 'n1': 108}.\n"
     ]
    },
    {
     "name": "stdout",
     "output_type": "stream",
     "text": [
      "len: 211 , 211\n",
      "confusion_matrix: \n",
      "[[146.  23.]\n",
      " [ 23.  19.]]\n",
      "AUC: \n",
      "0.6346858269935193\n",
      "\n"
     ]
    },
    {
     "name": "stderr",
     "output_type": "stream",
     "text": [
      "[I 2019-08-23 08:11:32,177] Finished trial#52 resulted in value: -0.6346858269935193. Current best value is -0.740349394195548 with parameters: {'num': 1, 'learning_rate': 0.001106476562682208, 'activation': 'relu', 'alpha': 3.6244949566852274, 'b1': 0.06531135581904376, 'b2': 0.9381449216689659, 'n1': 108}.\n"
     ]
    },
    {
     "name": "stdout",
     "output_type": "stream",
     "text": [
      "len: 211 , 211\n",
      "confusion_matrix: \n",
      "[[148.  21.]\n",
      " [ 21.  21.]]\n",
      "AUC: \n",
      "0.696393350239504\n",
      "\n"
     ]
    },
    {
     "name": "stderr",
     "output_type": "stream",
     "text": [
      "[I 2019-08-23 08:11:39,473] Finished trial#53 resulted in value: -0.696393350239504. Current best value is -0.740349394195548 with parameters: {'num': 1, 'learning_rate': 0.001106476562682208, 'activation': 'relu', 'alpha': 3.6244949566852274, 'b1': 0.06531135581904376, 'b2': 0.9381449216689659, 'n1': 108}.\n"
     ]
    },
    {
     "name": "stdout",
     "output_type": "stream",
     "text": [
      "len: 211 , 211\n",
      "confusion_matrix: \n",
      "[[147.  22.]\n",
      " [ 22.  20.]]\n",
      "AUC: \n",
      "0.7065370526908988\n",
      "\n"
     ]
    },
    {
     "name": "stderr",
     "output_type": "stream",
     "text": [
      "[I 2019-08-23 08:11:43,007] Finished trial#54 resulted in value: -0.7065370526908988. Current best value is -0.740349394195548 with parameters: {'num': 1, 'learning_rate': 0.001106476562682208, 'activation': 'relu', 'alpha': 3.6244949566852274, 'b1': 0.06531135581904376, 'b2': 0.9381449216689659, 'n1': 108}.\n"
     ]
    },
    {
     "name": "stdout",
     "output_type": "stream",
     "text": [
      "len: 211 , 211\n",
      "confusion_matrix: \n",
      "[[147.  22.]\n",
      " [ 22.  20.]]\n",
      "AUC: \n",
      "0.6589180050718512\n",
      "\n"
     ]
    },
    {
     "name": "stderr",
     "output_type": "stream",
     "text": [
      "[I 2019-08-23 08:11:45,826] Finished trial#55 resulted in value: -0.6589180050718512. Current best value is -0.740349394195548 with parameters: {'num': 1, 'learning_rate': 0.001106476562682208, 'activation': 'relu', 'alpha': 3.6244949566852274, 'b1': 0.06531135581904376, 'b2': 0.9381449216689659, 'n1': 108}.\n"
     ]
    },
    {
     "name": "stdout",
     "output_type": "stream",
     "text": [
      "len: 211 , 211\n",
      "confusion_matrix: \n",
      "[[135.  34.]\n",
      " [ 34.   8.]]\n",
      "AUC: \n",
      "0.503803888419273\n",
      "\n"
     ]
    },
    {
     "name": "stderr",
     "output_type": "stream",
     "text": [
      "[I 2019-08-23 08:11:52,308] Finished trial#56 resulted in value: -0.503803888419273. Current best value is -0.740349394195548 with parameters: {'num': 1, 'learning_rate': 0.001106476562682208, 'activation': 'relu', 'alpha': 3.6244949566852274, 'b1': 0.06531135581904376, 'b2': 0.9381449216689659, 'n1': 108}.\n"
     ]
    },
    {
     "name": "stdout",
     "output_type": "stream",
     "text": [
      "len: 211 , 211\n",
      "confusion_matrix: \n",
      "[[149.  20.]\n",
      " [ 20.  22.]]\n",
      "AUC: \n",
      "0.6745562130177514\n",
      "\n"
     ]
    },
    {
     "name": "stderr",
     "output_type": "stream",
     "text": [
      "[I 2019-08-23 08:11:55,077] Finished trial#57 resulted in value: -0.6745562130177514. Current best value is -0.740349394195548 with parameters: {'num': 1, 'learning_rate': 0.001106476562682208, 'activation': 'relu', 'alpha': 3.6244949566852274, 'b1': 0.06531135581904376, 'b2': 0.9381449216689659, 'n1': 108}.\n"
     ]
    },
    {
     "name": "stdout",
     "output_type": "stream",
     "text": [
      "len: 211 , 211\n",
      "confusion_matrix: \n",
      "[[141.  28.]\n",
      " [ 28.  14.]]\n",
      "AUC: \n",
      "0.6028458720766414\n",
      "\n"
     ]
    },
    {
     "name": "stderr",
     "output_type": "stream",
     "text": [
      "[I 2019-08-23 08:11:57,828] Finished trial#58 resulted in value: -0.6028458720766414. Current best value is -0.740349394195548 with parameters: {'num': 1, 'learning_rate': 0.001106476562682208, 'activation': 'relu', 'alpha': 3.6244949566852274, 'b1': 0.06531135581904376, 'b2': 0.9381449216689659, 'n1': 108}.\n"
     ]
    },
    {
     "name": "stdout",
     "output_type": "stream",
     "text": [
      "len: 211 , 211\n",
      "confusion_matrix: \n",
      "[[134.  35.]\n",
      " [ 35.   7.]]\n",
      "AUC: \n",
      "0.4995773457311919\n",
      "\n"
     ]
    },
    {
     "name": "stderr",
     "output_type": "stream",
     "text": [
      "[I 2019-08-23 08:12:02,680] Finished trial#59 resulted in value: -0.4995773457311919. Current best value is -0.740349394195548 with parameters: {'num': 1, 'learning_rate': 0.001106476562682208, 'activation': 'relu', 'alpha': 3.6244949566852274, 'b1': 0.06531135581904376, 'b2': 0.9381449216689659, 'n1': 108}.\n"
     ]
    },
    {
     "name": "stdout",
     "output_type": "stream",
     "text": [
      "len: 211 , 211\n",
      "confusion_matrix: \n",
      "[[146.  23.]\n",
      " [ 23.  19.]]\n",
      "AUC: \n",
      "0.6222879684418146\n",
      "\n"
     ]
    },
    {
     "name": "stderr",
     "output_type": "stream",
     "text": [
      "[I 2019-08-23 08:12:05,008] Finished trial#60 resulted in value: -0.6222879684418146. Current best value is -0.740349394195548 with parameters: {'num': 1, 'learning_rate': 0.001106476562682208, 'activation': 'relu', 'alpha': 3.6244949566852274, 'b1': 0.06531135581904376, 'b2': 0.9381449216689659, 'n1': 108}.\n"
     ]
    },
    {
     "name": "stdout",
     "output_type": "stream",
     "text": [
      "len: 211 , 211\n",
      "confusion_matrix: \n",
      "[[151.  18.]\n",
      " [ 18.  24.]]\n",
      "AUC: \n",
      "0.7310510002817695\n",
      "\n"
     ]
    },
    {
     "name": "stderr",
     "output_type": "stream",
     "text": [
      "[I 2019-08-23 08:12:08,914] Finished trial#61 resulted in value: -0.7310510002817695. Current best value is -0.740349394195548 with parameters: {'num': 1, 'learning_rate': 0.001106476562682208, 'activation': 'relu', 'alpha': 3.6244949566852274, 'b1': 0.06531135581904376, 'b2': 0.9381449216689659, 'n1': 108}.\n"
     ]
    },
    {
     "name": "stdout",
     "output_type": "stream",
     "text": [
      "len: 211 , 211\n",
      "confusion_matrix: \n",
      "[[144.  25.]\n",
      " [ 25.  17.]]\n",
      "AUC: \n",
      "0.648210763595379\n",
      "\n"
     ]
    },
    {
     "name": "stderr",
     "output_type": "stream",
     "text": [
      "[I 2019-08-23 08:12:12,668] Finished trial#62 resulted in value: -0.648210763595379. Current best value is -0.740349394195548 with parameters: {'num': 1, 'learning_rate': 0.001106476562682208, 'activation': 'relu', 'alpha': 3.6244949566852274, 'b1': 0.06531135581904376, 'b2': 0.9381449216689659, 'n1': 108}.\n"
     ]
    },
    {
     "name": "stdout",
     "output_type": "stream",
     "text": [
      "len: 211 , 211\n",
      "confusion_matrix: \n",
      "[[144.  25.]\n",
      " [ 25.  17.]]\n",
      "AUC: \n",
      "0.6081994928148774\n",
      "\n"
     ]
    },
    {
     "name": "stderr",
     "output_type": "stream",
     "text": [
      "[I 2019-08-23 08:12:15,936] Finished trial#63 resulted in value: -0.6081994928148774. Current best value is -0.740349394195548 with parameters: {'num': 1, 'learning_rate': 0.001106476562682208, 'activation': 'relu', 'alpha': 3.6244949566852274, 'b1': 0.06531135581904376, 'b2': 0.9381449216689659, 'n1': 108}.\n"
     ]
    },
    {
     "name": "stdout",
     "output_type": "stream",
     "text": [
      "len: 211 , 211\n",
      "confusion_matrix: \n",
      "[[150.  19.]\n",
      " [ 19.  23.]]\n",
      "AUC: \n",
      "0.6785009861932939\n",
      "\n"
     ]
    },
    {
     "name": "stderr",
     "output_type": "stream",
     "text": [
      "[I 2019-08-23 08:12:20,473] Finished trial#64 resulted in value: -0.6785009861932939. Current best value is -0.740349394195548 with parameters: {'num': 1, 'learning_rate': 0.001106476562682208, 'activation': 'relu', 'alpha': 3.6244949566852274, 'b1': 0.06531135581904376, 'b2': 0.9381449216689659, 'n1': 108}.\n"
     ]
    },
    {
     "name": "stdout",
     "output_type": "stream",
     "text": [
      "len: 211 , 211\n",
      "confusion_matrix: \n",
      "[[147.  22.]\n",
      " [ 22.  20.]]\n",
      "AUC: \n",
      "0.7059735136658213\n",
      "\n"
     ]
    },
    {
     "name": "stderr",
     "output_type": "stream",
     "text": [
      "[I 2019-08-23 08:12:29,483] Finished trial#65 resulted in value: -0.7059735136658213. Current best value is -0.740349394195548 with parameters: {'num': 1, 'learning_rate': 0.001106476562682208, 'activation': 'relu', 'alpha': 3.6244949566852274, 'b1': 0.06531135581904376, 'b2': 0.9381449216689659, 'n1': 108}.\n"
     ]
    },
    {
     "name": "stdout",
     "output_type": "stream",
     "text": [
      "len: 211 , 211\n",
      "confusion_matrix: \n",
      "[[140.  29.]\n",
      " [ 29.  13.]]\n",
      "AUC: \n",
      "0.6022823330515638\n",
      "\n"
     ]
    },
    {
     "name": "stderr",
     "output_type": "stream",
     "text": [
      "[I 2019-08-23 08:12:32,160] Finished trial#66 resulted in value: -0.6022823330515638. Current best value is -0.740349394195548 with parameters: {'num': 1, 'learning_rate': 0.001106476562682208, 'activation': 'relu', 'alpha': 3.6244949566852274, 'b1': 0.06531135581904376, 'b2': 0.9381449216689659, 'n1': 108}.\n"
     ]
    },
    {
     "name": "stdout",
     "output_type": "stream",
     "text": [
      "len: 211 , 211\n",
      "confusion_matrix: \n",
      "[[139.  30.]\n",
      " [ 30.  12.]]\n",
      "AUC: \n",
      "0.5346576500422655\n",
      "\n"
     ]
    },
    {
     "name": "stderr",
     "output_type": "stream",
     "text": [
      "[I 2019-08-23 08:12:34,442] Finished trial#67 resulted in value: -0.5346576500422655. Current best value is -0.740349394195548 with parameters: {'num': 1, 'learning_rate': 0.001106476562682208, 'activation': 'relu', 'alpha': 3.6244949566852274, 'b1': 0.06531135581904376, 'b2': 0.9381449216689659, 'n1': 108}.\n"
     ]
    },
    {
     "name": "stdout",
     "output_type": "stream",
     "text": [
      "len: 211 , 211\n",
      "confusion_matrix: \n",
      "[[146.  23.]\n",
      " [ 23.  19.]]\n",
      "AUC: \n",
      "0.6501831501831502\n",
      "\n"
     ]
    },
    {
     "name": "stderr",
     "output_type": "stream",
     "text": [
      "[I 2019-08-23 08:12:38,708] Finished trial#68 resulted in value: -0.6501831501831502. Current best value is -0.740349394195548 with parameters: {'num': 1, 'learning_rate': 0.001106476562682208, 'activation': 'relu', 'alpha': 3.6244949566852274, 'b1': 0.06531135581904376, 'b2': 0.9381449216689659, 'n1': 108}.\n"
     ]
    },
    {
     "name": "stdout",
     "output_type": "stream",
     "text": [
      "len: 211 , 211\n",
      "confusion_matrix: \n",
      "[[145.  24.]\n",
      " [ 24.  18.]]\n",
      "AUC: \n",
      "0.6442659904198366\n",
      "\n"
     ]
    },
    {
     "name": "stderr",
     "output_type": "stream",
     "text": [
      "[I 2019-08-23 08:12:42,847] Finished trial#69 resulted in value: -0.6442659904198366. Current best value is -0.740349394195548 with parameters: {'num': 1, 'learning_rate': 0.001106476562682208, 'activation': 'relu', 'alpha': 3.6244949566852274, 'b1': 0.06531135581904376, 'b2': 0.9381449216689659, 'n1': 108}.\n"
     ]
    },
    {
     "name": "stdout",
     "output_type": "stream",
     "text": [
      "len: 211 , 211\n",
      "confusion_matrix: \n",
      "[[148.  21.]\n",
      " [ 21.  21.]]\n",
      "AUC: \n",
      "0.7117497886728656\n",
      "\n"
     ]
    },
    {
     "name": "stderr",
     "output_type": "stream",
     "text": [
      "[I 2019-08-23 08:12:50,551] Finished trial#70 resulted in value: -0.7117497886728656. Current best value is -0.740349394195548 with parameters: {'num': 1, 'learning_rate': 0.001106476562682208, 'activation': 'relu', 'alpha': 3.6244949566852274, 'b1': 0.06531135581904376, 'b2': 0.9381449216689659, 'n1': 108}.\n"
     ]
    },
    {
     "name": "stdout",
     "output_type": "stream",
     "text": [
      "len: 211 , 211\n",
      "confusion_matrix: \n",
      "[[151.  18.]\n",
      " [ 18.  24.]]\n",
      "AUC: \n",
      "0.7148492533107917\n",
      "\n"
     ]
    },
    {
     "name": "stderr",
     "output_type": "stream",
     "text": [
      "[I 2019-08-23 08:12:56,819] Finished trial#71 resulted in value: -0.7148492533107917. Current best value is -0.740349394195548 with parameters: {'num': 1, 'learning_rate': 0.001106476562682208, 'activation': 'relu', 'alpha': 3.6244949566852274, 'b1': 0.06531135581904376, 'b2': 0.9381449216689659, 'n1': 108}.\n"
     ]
    },
    {
     "name": "stdout",
     "output_type": "stream",
     "text": [
      "len: 211 , 211\n",
      "confusion_matrix: \n",
      "[[150.  19.]\n",
      " [ 19.  23.]]\n",
      "AUC: \n",
      "0.6886446886446886\n",
      "\n"
     ]
    },
    {
     "name": "stderr",
     "output_type": "stream",
     "text": [
      "[I 2019-08-23 08:12:59,889] Finished trial#72 resulted in value: -0.6886446886446886. Current best value is -0.740349394195548 with parameters: {'num': 1, 'learning_rate': 0.001106476562682208, 'activation': 'relu', 'alpha': 3.6244949566852274, 'b1': 0.06531135581904376, 'b2': 0.9381449216689659, 'n1': 108}.\n"
     ]
    },
    {
     "name": "stdout",
     "output_type": "stream",
     "text": [
      "len: 211 , 211\n",
      "confusion_matrix: \n",
      "[[144.  25.]\n",
      " [ 25.  17.]]\n",
      "AUC: \n",
      "0.5946745562130178\n",
      "\n"
     ]
    },
    {
     "name": "stderr",
     "output_type": "stream",
     "text": [
      "[I 2019-08-23 08:13:02,579] Finished trial#73 resulted in value: -0.5946745562130178. Current best value is -0.740349394195548 with parameters: {'num': 1, 'learning_rate': 0.001106476562682208, 'activation': 'relu', 'alpha': 3.6244949566852274, 'b1': 0.06531135581904376, 'b2': 0.9381449216689659, 'n1': 108}.\n"
     ]
    },
    {
     "name": "stdout",
     "output_type": "stream",
     "text": [
      "len: 211 , 211\n",
      "confusion_matrix: \n",
      "[[150.  19.]\n",
      " [ 19.  23.]]\n",
      "AUC: \n",
      "0.7296421527190758\n",
      "\n"
     ]
    },
    {
     "name": "stderr",
     "output_type": "stream",
     "text": [
      "[I 2019-08-23 08:13:10,279] Finished trial#74 resulted in value: -0.7296421527190758. Current best value is -0.740349394195548 with parameters: {'num': 1, 'learning_rate': 0.001106476562682208, 'activation': 'relu', 'alpha': 3.6244949566852274, 'b1': 0.06531135581904376, 'b2': 0.9381449216689659, 'n1': 108}.\n"
     ]
    },
    {
     "name": "stdout",
     "output_type": "stream",
     "text": [
      "len: 211 , 211\n",
      "confusion_matrix: \n",
      "[[144.  25.]\n",
      " [ 25.  17.]]\n",
      "AUC: \n",
      "0.6042547196393351\n",
      "\n"
     ]
    },
    {
     "name": "stderr",
     "output_type": "stream",
     "text": [
      "[I 2019-08-23 08:13:12,743] Finished trial#75 resulted in value: -0.6042547196393351. Current best value is -0.740349394195548 with parameters: {'num': 1, 'learning_rate': 0.001106476562682208, 'activation': 'relu', 'alpha': 3.6244949566852274, 'b1': 0.06531135581904376, 'b2': 0.9381449216689659, 'n1': 108}.\n"
     ]
    },
    {
     "name": "stdout",
     "output_type": "stream",
     "text": [
      "len: 211 , 211\n",
      "confusion_matrix: \n",
      "[[149.  20.]\n",
      " [ 20.  22.]]\n",
      "AUC: \n",
      "0.6844181459566074\n",
      "\n"
     ]
    },
    {
     "name": "stderr",
     "output_type": "stream",
     "text": [
      "[I 2019-08-23 08:13:16,337] Finished trial#76 resulted in value: -0.6844181459566074. Current best value is -0.740349394195548 with parameters: {'num': 1, 'learning_rate': 0.001106476562682208, 'activation': 'relu', 'alpha': 3.6244949566852274, 'b1': 0.06531135581904376, 'b2': 0.9381449216689659, 'n1': 108}.\n"
     ]
    },
    {
     "name": "stdout",
     "output_type": "stream",
     "text": [
      "len: 211 , 211\n",
      "confusion_matrix: \n",
      "[[134.  35.]\n",
      " [ 35.   7.]]\n",
      "AUC: \n",
      "0.5009861932938856\n",
      "\n"
     ]
    },
    {
     "name": "stderr",
     "output_type": "stream",
     "text": [
      "[I 2019-08-23 08:13:19,150] Finished trial#77 resulted in value: -0.5009861932938856. Current best value is -0.740349394195548 with parameters: {'num': 1, 'learning_rate': 0.001106476562682208, 'activation': 'relu', 'alpha': 3.6244949566852274, 'b1': 0.06531135581904376, 'b2': 0.9381449216689659, 'n1': 108}.\n"
     ]
    },
    {
     "name": "stdout",
     "output_type": "stream",
     "text": [
      "len: 211 , 211\n",
      "confusion_matrix: \n",
      "[[149.  20.]\n",
      " [ 20.  22.]]\n",
      "AUC: \n",
      "0.7155536770921386\n",
      "\n"
     ]
    },
    {
     "name": "stderr",
     "output_type": "stream",
     "text": [
      "[I 2019-08-23 08:13:24,736] Finished trial#78 resulted in value: -0.7155536770921386. Current best value is -0.740349394195548 with parameters: {'num': 1, 'learning_rate': 0.001106476562682208, 'activation': 'relu', 'alpha': 3.6244949566852274, 'b1': 0.06531135581904376, 'b2': 0.9381449216689659, 'n1': 108}.\n"
     ]
    },
    {
     "name": "stdout",
     "output_type": "stream",
     "text": [
      "len: 211 , 211\n",
      "confusion_matrix: \n",
      "[[143.  26.]\n",
      " [ 26.  16.]]\n",
      "AUC: \n",
      "0.536348267117498\n",
      "\n"
     ]
    },
    {
     "name": "stderr",
     "output_type": "stream",
     "text": [
      "[I 2019-08-23 08:13:26,742] Finished trial#79 resulted in value: -0.536348267117498. Current best value is -0.740349394195548 with parameters: {'num': 1, 'learning_rate': 0.001106476562682208, 'activation': 'relu', 'alpha': 3.6244949566852274, 'b1': 0.06531135581904376, 'b2': 0.9381449216689659, 'n1': 108}.\n"
     ]
    },
    {
     "name": "stdout",
     "output_type": "stream",
     "text": [
      "len: 211 , 211\n",
      "confusion_matrix: \n",
      "[[147.  22.]\n",
      " [ 22.  20.]]\n",
      "AUC: \n",
      "0.5143702451394758\n",
      "\n"
     ]
    },
    {
     "name": "stderr",
     "output_type": "stream",
     "text": [
      "[I 2019-08-23 08:13:41,894] Finished trial#80 resulted in value: -0.5143702451394758. Current best value is -0.740349394195548 with parameters: {'num': 1, 'learning_rate': 0.001106476562682208, 'activation': 'relu', 'alpha': 3.6244949566852274, 'b1': 0.06531135581904376, 'b2': 0.9381449216689659, 'n1': 108}.\n"
     ]
    },
    {
     "name": "stdout",
     "output_type": "stream",
     "text": [
      "len: 211 , 211\n",
      "confusion_matrix: \n",
      "[[149.  20.]\n",
      " [ 20.  22.]]\n",
      "AUC: \n",
      "0.6755424063116371\n",
      "\n"
     ]
    },
    {
     "name": "stderr",
     "output_type": "stream",
     "text": [
      "[I 2019-08-23 08:13:45,913] Finished trial#81 resulted in value: -0.6755424063116371. Current best value is -0.740349394195548 with parameters: {'num': 1, 'learning_rate': 0.001106476562682208, 'activation': 'relu', 'alpha': 3.6244949566852274, 'b1': 0.06531135581904376, 'b2': 0.9381449216689659, 'n1': 108}.\n"
     ]
    },
    {
     "name": "stdout",
     "output_type": "stream",
     "text": [
      "len: 211 , 211\n",
      "confusion_matrix: \n",
      "[[151.  18.]\n",
      " [ 18.  24.]]\n",
      "AUC: \n",
      "0.6910397295012679\n",
      "\n"
     ]
    },
    {
     "name": "stderr",
     "output_type": "stream",
     "text": [
      "[I 2019-08-23 08:13:48,657] Finished trial#82 resulted in value: -0.6910397295012679. Current best value is -0.740349394195548 with parameters: {'num': 1, 'learning_rate': 0.001106476562682208, 'activation': 'relu', 'alpha': 3.6244949566852274, 'b1': 0.06531135581904376, 'b2': 0.9381449216689659, 'n1': 108}.\n"
     ]
    },
    {
     "name": "stdout",
     "output_type": "stream",
     "text": [
      "len: 211 , 211\n",
      "confusion_matrix: \n",
      "[[149.  20.]\n",
      " [ 20.  22.]]\n",
      "AUC: \n",
      "0.723302338686954\n",
      "\n"
     ]
    },
    {
     "name": "stderr",
     "output_type": "stream",
     "text": [
      "[I 2019-08-23 08:13:54,855] Finished trial#83 resulted in value: -0.723302338686954. Current best value is -0.740349394195548 with parameters: {'num': 1, 'learning_rate': 0.001106476562682208, 'activation': 'relu', 'alpha': 3.6244949566852274, 'b1': 0.06531135581904376, 'b2': 0.9381449216689659, 'n1': 108}.\n"
     ]
    },
    {
     "name": "stdout",
     "output_type": "stream",
     "text": [
      "len: 211 , 211\n",
      "confusion_matrix: \n",
      "[[150.  19.]\n",
      " [ 19.  23.]]\n",
      "AUC: \n",
      "0.7006198929275853\n",
      "\n"
     ]
    },
    {
     "name": "stderr",
     "output_type": "stream",
     "text": [
      "[I 2019-08-23 08:13:57,419] Finished trial#84 resulted in value: -0.7006198929275853. Current best value is -0.740349394195548 with parameters: {'num': 1, 'learning_rate': 0.001106476562682208, 'activation': 'relu', 'alpha': 3.6244949566852274, 'b1': 0.06531135581904376, 'b2': 0.9381449216689659, 'n1': 108}.\n"
     ]
    },
    {
     "name": "stdout",
     "output_type": "stream",
     "text": [
      "len: 211 , 211\n",
      "confusion_matrix: \n",
      "[[148.  21.]\n",
      " [ 21.  21.]]\n",
      "AUC: \n",
      "0.6568047337278107\n",
      "\n"
     ]
    },
    {
     "name": "stderr",
     "output_type": "stream",
     "text": [
      "[I 2019-08-23 08:14:01,050] Finished trial#85 resulted in value: -0.6568047337278107. Current best value is -0.740349394195548 with parameters: {'num': 1, 'learning_rate': 0.001106476562682208, 'activation': 'relu', 'alpha': 3.6244949566852274, 'b1': 0.06531135581904376, 'b2': 0.9381449216689659, 'n1': 108}.\n"
     ]
    },
    {
     "name": "stdout",
     "output_type": "stream",
     "text": [
      "len: 211 , 211\n",
      "confusion_matrix: \n",
      "[[136.  33.]\n",
      " [ 33.   9.]]\n",
      "AUC: \n",
      "0.5012679628064243\n",
      "\n"
     ]
    },
    {
     "name": "stderr",
     "output_type": "stream",
     "text": [
      "[I 2019-08-23 08:14:03,622] Finished trial#86 resulted in value: -0.5012679628064243. Current best value is -0.740349394195548 with parameters: {'num': 1, 'learning_rate': 0.001106476562682208, 'activation': 'relu', 'alpha': 3.6244949566852274, 'b1': 0.06531135581904376, 'b2': 0.9381449216689659, 'n1': 108}.\n"
     ]
    },
    {
     "name": "stdout",
     "output_type": "stream",
     "text": [
      "len: 211 , 211\n",
      "confusion_matrix: \n",
      "[[148.  21.]\n",
      " [ 21.  21.]]\n",
      "AUC: \n",
      "0.6870949563257256\n",
      "\n"
     ]
    },
    {
     "name": "stderr",
     "output_type": "stream",
     "text": [
      "[I 2019-08-23 08:14:06,435] Finished trial#87 resulted in value: -0.6870949563257256. Current best value is -0.740349394195548 with parameters: {'num': 1, 'learning_rate': 0.001106476562682208, 'activation': 'relu', 'alpha': 3.6244949566852274, 'b1': 0.06531135581904376, 'b2': 0.9381449216689659, 'n1': 108}.\n"
     ]
    },
    {
     "name": "stdout",
     "output_type": "stream",
     "text": [
      "len: 211 , 211\n",
      "confusion_matrix: \n",
      "[[147.  22.]\n",
      " [ 22.  20.]]\n",
      "AUC: \n",
      "0.682304874612567\n",
      "\n"
     ]
    },
    {
     "name": "stderr",
     "output_type": "stream",
     "text": [
      "[I 2019-08-23 08:14:14,349] Finished trial#88 resulted in value: -0.682304874612567. Current best value is -0.740349394195548 with parameters: {'num': 1, 'learning_rate': 0.001106476562682208, 'activation': 'relu', 'alpha': 3.6244949566852274, 'b1': 0.06531135581904376, 'b2': 0.9381449216689659, 'n1': 108}.\n"
     ]
    },
    {
     "name": "stdout",
     "output_type": "stream",
     "text": [
      "len: 211 , 211\n",
      "confusion_matrix: \n",
      "[[142.  27.]\n",
      " [ 27.  15.]]\n",
      "AUC: \n",
      "0.5824175824175823\n",
      "\n"
     ]
    },
    {
     "name": "stderr",
     "output_type": "stream",
     "text": [
      "[I 2019-08-23 08:14:16,879] Finished trial#89 resulted in value: -0.5824175824175823. Current best value is -0.740349394195548 with parameters: {'num': 1, 'learning_rate': 0.001106476562682208, 'activation': 'relu', 'alpha': 3.6244949566852274, 'b1': 0.06531135581904376, 'b2': 0.9381449216689659, 'n1': 108}.\n"
     ]
    },
    {
     "name": "stdout",
     "output_type": "stream",
     "text": [
      "len: 211 , 211\n",
      "confusion_matrix: \n",
      "[[139.  30.]\n",
      " [ 30.  12.]]\n",
      "AUC: \n",
      "0.5426880811496196\n",
      "\n"
     ]
    },
    {
     "name": "stderr",
     "output_type": "stream",
     "text": [
      "[I 2019-08-23 08:14:18,652] Finished trial#90 resulted in value: -0.5426880811496196. Current best value is -0.740349394195548 with parameters: {'num': 1, 'learning_rate': 0.001106476562682208, 'activation': 'relu', 'alpha': 3.6244949566852274, 'b1': 0.06531135581904376, 'b2': 0.9381449216689659, 'n1': 108}.\n"
     ]
    },
    {
     "name": "stdout",
     "output_type": "stream",
     "text": [
      "len: 211 , 211\n",
      "confusion_matrix: \n",
      "[[150.  19.]\n",
      " [ 19.  23.]]\n",
      "AUC: \n",
      "0.7233023386869541\n",
      "\n"
     ]
    },
    {
     "name": "stderr",
     "output_type": "stream",
     "text": [
      "[I 2019-08-23 08:14:24,488] Finished trial#91 resulted in value: -0.7233023386869541. Current best value is -0.740349394195548 with parameters: {'num': 1, 'learning_rate': 0.001106476562682208, 'activation': 'relu', 'alpha': 3.6244949566852274, 'b1': 0.06531135581904376, 'b2': 0.9381449216689659, 'n1': 108}.\n"
     ]
    },
    {
     "name": "stdout",
     "output_type": "stream",
     "text": [
      "len: 211 , 211\n",
      "confusion_matrix: \n",
      "[[149.  20.]\n",
      " [ 20.  22.]]\n",
      "AUC: \n",
      "0.7071005917159763\n",
      "\n"
     ]
    },
    {
     "name": "stderr",
     "output_type": "stream",
     "text": [
      "[I 2019-08-23 08:14:28,328] Finished trial#92 resulted in value: -0.7071005917159763. Current best value is -0.740349394195548 with parameters: {'num': 1, 'learning_rate': 0.001106476562682208, 'activation': 'relu', 'alpha': 3.6244949566852274, 'b1': 0.06531135581904376, 'b2': 0.9381449216689659, 'n1': 108}.\n"
     ]
    },
    {
     "name": "stdout",
     "output_type": "stream",
     "text": [
      "len: 211 , 211\n",
      "confusion_matrix: \n",
      "[[146.  23.]\n",
      " [ 23.  19.]]\n",
      "AUC: \n",
      "0.6149619611158073\n",
      "\n"
     ]
    },
    {
     "name": "stderr",
     "output_type": "stream",
     "text": [
      "[I 2019-08-23 08:14:31,488] Finished trial#93 resulted in value: -0.6149619611158073. Current best value is -0.740349394195548 with parameters: {'num': 1, 'learning_rate': 0.001106476562682208, 'activation': 'relu', 'alpha': 3.6244949566852274, 'b1': 0.06531135581904376, 'b2': 0.9381449216689659, 'n1': 108}.\n"
     ]
    },
    {
     "name": "stdout",
     "output_type": "stream",
     "text": [
      "len: 211 , 211\n",
      "confusion_matrix: \n",
      "[[148.  21.]\n",
      " [ 21.  21.]]\n",
      "AUC: \n",
      "0.6468019160326853\n",
      "\n"
     ]
    },
    {
     "name": "stderr",
     "output_type": "stream",
     "text": [
      "[I 2019-08-23 08:14:35,361] Finished trial#94 resulted in value: -0.6468019160326853. Current best value is -0.740349394195548 with parameters: {'num': 1, 'learning_rate': 0.001106476562682208, 'activation': 'relu', 'alpha': 3.6244949566852274, 'b1': 0.06531135581904376, 'b2': 0.9381449216689659, 'n1': 108}.\n"
     ]
    },
    {
     "name": "stdout",
     "output_type": "stream",
     "text": [
      "len: 211 , 211\n",
      "confusion_matrix: \n",
      "[[148.  21.]\n",
      " [ 21.  21.]]\n",
      "AUC: \n",
      "0.7094956325725555\n",
      "\n"
     ]
    },
    {
     "name": "stderr",
     "output_type": "stream",
     "text": [
      "[I 2019-08-23 08:14:41,266] Finished trial#95 resulted in value: -0.7094956325725555. Current best value is -0.740349394195548 with parameters: {'num': 1, 'learning_rate': 0.001106476562682208, 'activation': 'relu', 'alpha': 3.6244949566852274, 'b1': 0.06531135581904376, 'b2': 0.9381449216689659, 'n1': 108}.\n"
     ]
    },
    {
     "name": "stdout",
     "output_type": "stream",
     "text": [
      "len: 211 , 211\n",
      "confusion_matrix: \n",
      "[[144.  25.]\n",
      " [ 25.  17.]]\n",
      "AUC: \n",
      "0.6191885038038883\n",
      "\n"
     ]
    },
    {
     "name": "stderr",
     "output_type": "stream",
     "text": [
      "[I 2019-08-23 08:14:44,895] Finished trial#96 resulted in value: -0.6191885038038883. Current best value is -0.740349394195548 with parameters: {'num': 1, 'learning_rate': 0.001106476562682208, 'activation': 'relu', 'alpha': 3.6244949566852274, 'b1': 0.06531135581904376, 'b2': 0.9381449216689659, 'n1': 108}.\n"
     ]
    },
    {
     "name": "stdout",
     "output_type": "stream",
     "text": [
      "len: 211 , 211\n",
      "confusion_matrix: \n",
      "[[150.  19.]\n",
      " [ 19.  23.]]\n",
      "AUC: \n",
      "0.727106227106227\n",
      "\n"
     ]
    },
    {
     "name": "stderr",
     "output_type": "stream",
     "text": [
      "[I 2019-08-23 08:14:54,297] Finished trial#97 resulted in value: -0.727106227106227. Current best value is -0.740349394195548 with parameters: {'num': 1, 'learning_rate': 0.001106476562682208, 'activation': 'relu', 'alpha': 3.6244949566852274, 'b1': 0.06531135581904376, 'b2': 0.9381449216689659, 'n1': 108}.\n"
     ]
    },
    {
     "name": "stdout",
     "output_type": "stream",
     "text": [
      "len: 211 , 211\n",
      "confusion_matrix: \n",
      "[[146.  23.]\n",
      " [ 23.  19.]]\n",
      "AUC: \n",
      "0.5750915750915752\n",
      "\n"
     ]
    },
    {
     "name": "stderr",
     "output_type": "stream",
     "text": [
      "[I 2019-08-23 08:14:57,569] Finished trial#98 resulted in value: -0.5750915750915752. Current best value is -0.740349394195548 with parameters: {'num': 1, 'learning_rate': 0.001106476562682208, 'activation': 'relu', 'alpha': 3.6244949566852274, 'b1': 0.06531135581904376, 'b2': 0.9381449216689659, 'n1': 108}.\n"
     ]
    },
    {
     "name": "stdout",
     "output_type": "stream",
     "text": [
      "len: 211 , 211\n",
      "confusion_matrix: \n",
      "[[149.  20.]\n",
      " [ 20.  22.]]\n",
      "AUC: \n",
      "0.7289377289377289\n",
      "\n"
     ]
    },
    {
     "name": "stderr",
     "output_type": "stream",
     "text": [
      "[I 2019-08-23 08:15:00,648] Finished trial#99 resulted in value: -0.7289377289377289. Current best value is -0.740349394195548 with parameters: {'num': 1, 'learning_rate': 0.001106476562682208, 'activation': 'relu', 'alpha': 3.6244949566852274, 'b1': 0.06531135581904376, 'b2': 0.9381449216689659, 'n1': 108}.\n"
     ]
    },
    {
     "name": "stdout",
     "output_type": "stream",
     "text": [
      "len: 211 , 211\n",
      "confusion_matrix: \n",
      "[[149.  20.]\n",
      " [ 20.  22.]]\n",
      "AUC: \n",
      "0.6407438715131023\n",
      "\n"
     ]
    },
    {
     "name": "stderr",
     "output_type": "stream",
     "text": [
      "[I 2019-08-23 08:15:02,878] Finished trial#100 resulted in value: -0.6407438715131023. Current best value is -0.740349394195548 with parameters: {'num': 1, 'learning_rate': 0.001106476562682208, 'activation': 'relu', 'alpha': 3.6244949566852274, 'b1': 0.06531135581904376, 'b2': 0.9381449216689659, 'n1': 108}.\n"
     ]
    },
    {
     "name": "stdout",
     "output_type": "stream",
     "text": [
      "len: 211 , 211\n",
      "confusion_matrix: \n",
      "[[148.  21.]\n",
      " [ 21.  21.]]\n",
      "AUC: \n",
      "0.6686390532544378\n",
      "\n"
     ]
    },
    {
     "name": "stderr",
     "output_type": "stream",
     "text": [
      "[I 2019-08-23 08:15:11,064] Finished trial#101 resulted in value: -0.6686390532544378. Current best value is -0.740349394195548 with parameters: {'num': 1, 'learning_rate': 0.001106476562682208, 'activation': 'relu', 'alpha': 3.6244949566852274, 'b1': 0.06531135581904376, 'b2': 0.9381449216689659, 'n1': 108}.\n"
     ]
    },
    {
     "name": "stdout",
     "output_type": "stream",
     "text": [
      "len: 211 , 211\n",
      "confusion_matrix: \n",
      "[[148.  21.]\n",
      " [ 21.  21.]]\n",
      "AUC: \n",
      "0.6830092983939138\n",
      "\n"
     ]
    },
    {
     "name": "stderr",
     "output_type": "stream",
     "text": [
      "[I 2019-08-23 08:15:15,349] Finished trial#102 resulted in value: -0.6830092983939138. Current best value is -0.740349394195548 with parameters: {'num': 1, 'learning_rate': 0.001106476562682208, 'activation': 'relu', 'alpha': 3.6244949566852274, 'b1': 0.06531135581904376, 'b2': 0.9381449216689659, 'n1': 108}.\n"
     ]
    },
    {
     "name": "stdout",
     "output_type": "stream",
     "text": [
      "len: 211 , 211\n",
      "confusion_matrix: \n",
      "[[135.  34.]\n",
      " [ 34.   8.]]\n",
      "AUC: \n",
      "0.5004226542688082\n",
      "\n"
     ]
    },
    {
     "name": "stderr",
     "output_type": "stream",
     "text": [
      "[I 2019-08-23 08:15:30,080] Finished trial#103 resulted in value: -0.5004226542688082. Current best value is -0.740349394195548 with parameters: {'num': 1, 'learning_rate': 0.001106476562682208, 'activation': 'relu', 'alpha': 3.6244949566852274, 'b1': 0.06531135581904376, 'b2': 0.9381449216689659, 'n1': 108}.\n"
     ]
    },
    {
     "name": "stdout",
     "output_type": "stream",
     "text": [
      "len: 211 , 211\n",
      "confusion_matrix: \n",
      "[[147.  22.]\n",
      " [ 22.  20.]]\n",
      "AUC: \n",
      "0.666807551422936\n",
      "\n"
     ]
    },
    {
     "name": "stderr",
     "output_type": "stream",
     "text": [
      "[I 2019-08-23 08:15:37,043] Finished trial#104 resulted in value: -0.666807551422936. Current best value is -0.740349394195548 with parameters: {'num': 1, 'learning_rate': 0.001106476562682208, 'activation': 'relu', 'alpha': 3.6244949566852274, 'b1': 0.06531135581904376, 'b2': 0.9381449216689659, 'n1': 108}.\n"
     ]
    },
    {
     "name": "stdout",
     "output_type": "stream",
     "text": [
      "len: 211 , 211\n",
      "confusion_matrix: \n",
      "[[147.  22.]\n",
      " [ 22.  20.]]\n",
      "AUC: \n",
      "0.713440405748098\n",
      "\n"
     ]
    },
    {
     "name": "stderr",
     "output_type": "stream",
     "text": [
      "[I 2019-08-23 08:15:40,156] Finished trial#105 resulted in value: -0.713440405748098. Current best value is -0.740349394195548 with parameters: {'num': 1, 'learning_rate': 0.001106476562682208, 'activation': 'relu', 'alpha': 3.6244949566852274, 'b1': 0.06531135581904376, 'b2': 0.9381449216689659, 'n1': 108}.\n"
     ]
    },
    {
     "name": "stdout",
     "output_type": "stream",
     "text": [
      "len: 211 , 211\n",
      "confusion_matrix: \n",
      "[[139.  30.]\n",
      " [ 30.  12.]]\n",
      "AUC: \n",
      "0.5703014933784163\n",
      "\n"
     ]
    },
    {
     "name": "stderr",
     "output_type": "stream",
     "text": [
      "[I 2019-08-23 08:15:42,616] Finished trial#106 resulted in value: -0.5703014933784163. Current best value is -0.740349394195548 with parameters: {'num': 1, 'learning_rate': 0.001106476562682208, 'activation': 'relu', 'alpha': 3.6244949566852274, 'b1': 0.06531135581904376, 'b2': 0.9381449216689659, 'n1': 108}.\n"
     ]
    },
    {
     "name": "stdout",
     "output_type": "stream",
     "text": [
      "len: 211 , 211\n",
      "confusion_matrix: \n",
      "[[144.  25.]\n",
      " [ 25.  17.]]\n",
      "AUC: \n",
      "0.6530008453085375\n",
      "\n"
     ]
    },
    {
     "name": "stderr",
     "output_type": "stream",
     "text": [
      "[I 2019-08-23 08:15:45,186] Finished trial#107 resulted in value: -0.6530008453085375. Current best value is -0.740349394195548 with parameters: {'num': 1, 'learning_rate': 0.001106476562682208, 'activation': 'relu', 'alpha': 3.6244949566852274, 'b1': 0.06531135581904376, 'b2': 0.9381449216689659, 'n1': 108}.\n"
     ]
    },
    {
     "name": "stdout",
     "output_type": "stream",
     "text": [
      "len: 211 , 211\n",
      "confusion_matrix: \n",
      "[[148.  21.]\n",
      " [ 21.  21.]]\n",
      "AUC: \n",
      "0.6677937447168216\n",
      "\n"
     ]
    },
    {
     "name": "stderr",
     "output_type": "stream",
     "text": [
      "[I 2019-08-23 08:15:47,980] Finished trial#108 resulted in value: -0.6677937447168216. Current best value is -0.740349394195548 with parameters: {'num': 1, 'learning_rate': 0.001106476562682208, 'activation': 'relu', 'alpha': 3.6244949566852274, 'b1': 0.06531135581904376, 'b2': 0.9381449216689659, 'n1': 108}.\n"
     ]
    },
    {
     "name": "stdout",
     "output_type": "stream",
     "text": [
      "len: 211 , 211\n",
      "confusion_matrix: \n",
      "[[148.  21.]\n",
      " [ 21.  21.]]\n",
      "AUC: \n",
      "0.5880529726683573\n",
      "\n"
     ]
    },
    {
     "name": "stderr",
     "output_type": "stream",
     "text": [
      "[I 2019-08-23 08:15:50,121] Finished trial#109 resulted in value: -0.5880529726683573. Current best value is -0.740349394195548 with parameters: {'num': 1, 'learning_rate': 0.001106476562682208, 'activation': 'relu', 'alpha': 3.6244949566852274, 'b1': 0.06531135581904376, 'b2': 0.9381449216689659, 'n1': 108}.\n"
     ]
    },
    {
     "name": "stdout",
     "output_type": "stream",
     "text": [
      "len: 211 , 211\n",
      "confusion_matrix: \n",
      "[[137.  32.]\n",
      " [ 32.  10.]]\n",
      "AUC: \n",
      "0.50225415610031\n",
      "\n"
     ]
    },
    {
     "name": "stderr",
     "output_type": "stream",
     "text": [
      "[I 2019-08-23 08:15:56,934] Finished trial#110 resulted in value: -0.50225415610031. Current best value is -0.740349394195548 with parameters: {'num': 1, 'learning_rate': 0.001106476562682208, 'activation': 'relu', 'alpha': 3.6244949566852274, 'b1': 0.06531135581904376, 'b2': 0.9381449216689659, 'n1': 108}.\n"
     ]
    },
    {
     "name": "stdout",
     "output_type": "stream",
     "text": [
      "len: 211 , 211\n",
      "confusion_matrix: \n",
      "[[150.  19.]\n",
      " [ 19.  23.]]\n",
      "AUC: \n",
      "0.7096365173288249\n",
      "\n"
     ]
    },
    {
     "name": "stderr",
     "output_type": "stream",
     "text": [
      "[I 2019-08-23 08:16:04,353] Finished trial#111 resulted in value: -0.7096365173288249. Current best value is -0.740349394195548 with parameters: {'num': 1, 'learning_rate': 0.001106476562682208, 'activation': 'relu', 'alpha': 3.6244949566852274, 'b1': 0.06531135581904376, 'b2': 0.9381449216689659, 'n1': 108}.\n"
     ]
    },
    {
     "name": "stdout",
     "output_type": "stream",
     "text": [
      "len: 211 , 211\n",
      "confusion_matrix: \n",
      "[[150.  19.]\n",
      " [ 19.  23.]]\n",
      "AUC: \n",
      "0.687235841081995\n",
      "\n"
     ]
    },
    {
     "name": "stderr",
     "output_type": "stream",
     "text": [
      "[I 2019-08-23 08:16:08,853] Finished trial#112 resulted in value: -0.687235841081995. Current best value is -0.740349394195548 with parameters: {'num': 1, 'learning_rate': 0.001106476562682208, 'activation': 'relu', 'alpha': 3.6244949566852274, 'b1': 0.06531135581904376, 'b2': 0.9381449216689659, 'n1': 108}.\n"
     ]
    },
    {
     "name": "stdout",
     "output_type": "stream",
     "text": [
      "len: 211 , 211\n",
      "confusion_matrix: \n",
      "[[149.  20.]\n",
      " [ 20.  22.]]\n",
      "AUC: \n",
      "0.6630036630036631\n",
      "\n"
     ]
    },
    {
     "name": "stderr",
     "output_type": "stream",
     "text": [
      "[I 2019-08-23 08:16:13,616] Finished trial#113 resulted in value: -0.6630036630036631. Current best value is -0.740349394195548 with parameters: {'num': 1, 'learning_rate': 0.001106476562682208, 'activation': 'relu', 'alpha': 3.6244949566852274, 'b1': 0.06531135581904376, 'b2': 0.9381449216689659, 'n1': 108}.\n"
     ]
    },
    {
     "name": "stdout",
     "output_type": "stream",
     "text": [
      "len: 211 , 211\n",
      "confusion_matrix: \n",
      "[[150.  19.]\n",
      " [ 19.  23.]]\n",
      "AUC: \n",
      "0.6970977740208509\n",
      "\n"
     ]
    },
    {
     "name": "stderr",
     "output_type": "stream",
     "text": [
      "[I 2019-08-23 08:16:16,395] Finished trial#114 resulted in value: -0.6970977740208509. Current best value is -0.740349394195548 with parameters: {'num': 1, 'learning_rate': 0.001106476562682208, 'activation': 'relu', 'alpha': 3.6244949566852274, 'b1': 0.06531135581904376, 'b2': 0.9381449216689659, 'n1': 108}.\n"
     ]
    },
    {
     "name": "stdout",
     "output_type": "stream",
     "text": [
      "len: 211 , 211\n",
      "confusion_matrix: \n",
      "[[148.  21.]\n",
      " [ 21.  21.]]\n",
      "AUC: \n",
      "0.6783601014370246\n",
      "\n"
     ]
    },
    {
     "name": "stderr",
     "output_type": "stream",
     "text": [
      "[I 2019-08-23 08:16:20,901] Finished trial#115 resulted in value: -0.6783601014370246. Current best value is -0.740349394195548 with parameters: {'num': 1, 'learning_rate': 0.001106476562682208, 'activation': 'relu', 'alpha': 3.6244949566852274, 'b1': 0.06531135581904376, 'b2': 0.9381449216689659, 'n1': 108}.\n"
     ]
    },
    {
     "name": "stdout",
     "output_type": "stream",
     "text": [
      "len: 211 , 211\n",
      "confusion_matrix: \n",
      "[[141.  28.]\n",
      " [ 28.  14.]]\n",
      "AUC: \n",
      "0.5772048464356156\n",
      "\n"
     ]
    },
    {
     "name": "stderr",
     "output_type": "stream",
     "text": [
      "[I 2019-08-23 08:16:23,146] Finished trial#116 resulted in value: -0.5772048464356156. Current best value is -0.740349394195548 with parameters: {'num': 1, 'learning_rate': 0.001106476562682208, 'activation': 'relu', 'alpha': 3.6244949566852274, 'b1': 0.06531135581904376, 'b2': 0.9381449216689659, 'n1': 108}.\n"
     ]
    },
    {
     "name": "stdout",
     "output_type": "stream",
     "text": [
      "len: 211 , 211\n",
      "confusion_matrix: \n",
      "[[148.  21.]\n",
      " [ 21.  21.]]\n",
      "AUC: \n",
      "0.7030149337841647\n",
      "\n"
     ]
    },
    {
     "name": "stderr",
     "output_type": "stream",
     "text": [
      "[I 2019-08-23 08:16:27,223] Finished trial#117 resulted in value: -0.7030149337841647. Current best value is -0.740349394195548 with parameters: {'num': 1, 'learning_rate': 0.001106476562682208, 'activation': 'relu', 'alpha': 3.6244949566852274, 'b1': 0.06531135581904376, 'b2': 0.9381449216689659, 'n1': 108}.\n"
     ]
    },
    {
     "name": "stdout",
     "output_type": "stream",
     "text": [
      "len: 211 , 211\n",
      "confusion_matrix: \n",
      "[[147.  22.]\n",
      " [ 22.  20.]]\n",
      "AUC: \n",
      "0.6727247111862495\n",
      "\n"
     ]
    },
    {
     "name": "stderr",
     "output_type": "stream",
     "text": [
      "[I 2019-08-23 08:16:31,496] Finished trial#118 resulted in value: -0.6727247111862495. Current best value is -0.740349394195548 with parameters: {'num': 1, 'learning_rate': 0.001106476562682208, 'activation': 'relu', 'alpha': 3.6244949566852274, 'b1': 0.06531135581904376, 'b2': 0.9381449216689659, 'n1': 108}.\n"
     ]
    },
    {
     "name": "stdout",
     "output_type": "stream",
     "text": [
      "len: 211 , 211\n",
      "confusion_matrix: \n",
      "[[135.  34.]\n",
      " [ 34.   8.]]\n",
      "AUC: \n",
      "0.49464637926176386\n",
      "\n"
     ]
    },
    {
     "name": "stderr",
     "output_type": "stream",
     "text": [
      "[I 2019-08-23 08:16:34,059] Finished trial#119 resulted in value: -0.49464637926176386. Current best value is -0.740349394195548 with parameters: {'num': 1, 'learning_rate': 0.001106476562682208, 'activation': 'relu', 'alpha': 3.6244949566852274, 'b1': 0.06531135581904376, 'b2': 0.9381449216689659, 'n1': 108}.\n"
     ]
    },
    {
     "name": "stdout",
     "output_type": "stream",
     "text": [
      "len: 211 , 211\n",
      "confusion_matrix: \n",
      "[[146.  23.]\n",
      " [ 23.  19.]]\n",
      "AUC: \n",
      "0.6859678782755705\n",
      "\n"
     ]
    },
    {
     "name": "stderr",
     "output_type": "stream",
     "text": [
      "[I 2019-08-23 08:16:42,721] Finished trial#120 resulted in value: -0.6859678782755705. Current best value is -0.740349394195548 with parameters: {'num': 1, 'learning_rate': 0.001106476562682208, 'activation': 'relu', 'alpha': 3.6244949566852274, 'b1': 0.06531135581904376, 'b2': 0.9381449216689659, 'n1': 108}.\n"
     ]
    },
    {
     "name": "stdout",
     "output_type": "stream",
     "text": [
      "len: 211 , 211\n",
      "confusion_matrix: \n",
      "[[149.  20.]\n",
      " [ 20.  22.]]\n",
      "AUC: \n",
      "0.6873767258382643\n",
      "\n"
     ]
    },
    {
     "name": "stderr",
     "output_type": "stream",
     "text": [
      "[I 2019-08-23 08:16:51,940] Finished trial#121 resulted in value: -0.6873767258382643. Current best value is -0.740349394195548 with parameters: {'num': 1, 'learning_rate': 0.001106476562682208, 'activation': 'relu', 'alpha': 3.6244949566852274, 'b1': 0.06531135581904376, 'b2': 0.9381449216689659, 'n1': 108}.\n"
     ]
    },
    {
     "name": "stdout",
     "output_type": "stream",
     "text": [
      "len: 211 , 211\n",
      "confusion_matrix: \n",
      "[[142.  27.]\n",
      " [ 27.  15.]]\n",
      "AUC: \n",
      "0.6124260355029586\n",
      "\n"
     ]
    },
    {
     "name": "stderr",
     "output_type": "stream",
     "text": [
      "[I 2019-08-23 08:16:55,497] Finished trial#122 resulted in value: -0.6124260355029586. Current best value is -0.740349394195548 with parameters: {'num': 1, 'learning_rate': 0.001106476562682208, 'activation': 'relu', 'alpha': 3.6244949566852274, 'b1': 0.06531135581904376, 'b2': 0.9381449216689659, 'n1': 108}.\n"
     ]
    },
    {
     "name": "stdout",
     "output_type": "stream",
     "text": [
      "len: 211 , 211\n",
      "confusion_matrix: \n",
      "[[150.  19.]\n",
      " [ 19.  23.]]\n",
      "AUC: \n",
      "0.6999154691462384\n",
      "\n"
     ]
    },
    {
     "name": "stderr",
     "output_type": "stream",
     "text": [
      "[I 2019-08-23 08:16:59,817] Finished trial#123 resulted in value: -0.6999154691462384. Current best value is -0.740349394195548 with parameters: {'num': 1, 'learning_rate': 0.001106476562682208, 'activation': 'relu', 'alpha': 3.6244949566852274, 'b1': 0.06531135581904376, 'b2': 0.9381449216689659, 'n1': 108}.\n"
     ]
    },
    {
     "name": "stdout",
     "output_type": "stream",
     "text": [
      "len: 211 , 211\n",
      "confusion_matrix: \n",
      "[[149.  20.]\n",
      " [ 20.  22.]]\n",
      "AUC: \n",
      "0.7054099746407438\n",
      "\n"
     ]
    },
    {
     "name": "stderr",
     "output_type": "stream",
     "text": [
      "[I 2019-08-23 08:17:09,828] Finished trial#124 resulted in value: -0.7054099746407438. Current best value is -0.740349394195548 with parameters: {'num': 1, 'learning_rate': 0.001106476562682208, 'activation': 'relu', 'alpha': 3.6244949566852274, 'b1': 0.06531135581904376, 'b2': 0.9381449216689659, 'n1': 108}.\n"
     ]
    },
    {
     "name": "stdout",
     "output_type": "stream",
     "text": [
      "len: 211 , 211\n",
      "confusion_matrix: \n",
      "[[137.  32.]\n",
      " [ 32.  10.]]\n",
      "AUC: \n",
      "0.4973231896308819\n",
      "\n"
     ]
    },
    {
     "name": "stderr",
     "output_type": "stream",
     "text": [
      "[I 2019-08-23 08:17:29,363] Finished trial#125 resulted in value: -0.4973231896308819. Current best value is -0.740349394195548 with parameters: {'num': 1, 'learning_rate': 0.001106476562682208, 'activation': 'relu', 'alpha': 3.6244949566852274, 'b1': 0.06531135581904376, 'b2': 0.9381449216689659, 'n1': 108}.\n"
     ]
    },
    {
     "name": "stdout",
     "output_type": "stream",
     "text": [
      "len: 211 , 211\n",
      "confusion_matrix: \n",
      "[[144.  25.]\n",
      " [ 25.  17.]]\n",
      "AUC: \n",
      "0.5448013524936602\n",
      "\n"
     ]
    },
    {
     "name": "stderr",
     "output_type": "stream",
     "text": [
      "[I 2019-08-23 08:17:33,531] Finished trial#126 resulted in value: -0.5448013524936602. Current best value is -0.740349394195548 with parameters: {'num': 1, 'learning_rate': 0.001106476562682208, 'activation': 'relu', 'alpha': 3.6244949566852274, 'b1': 0.06531135581904376, 'b2': 0.9381449216689659, 'n1': 108}.\n"
     ]
    },
    {
     "name": "stdout",
     "output_type": "stream",
     "text": [
      "len: 211 , 211\n",
      "confusion_matrix: \n",
      "[[148.  21.]\n",
      " [ 21.  21.]]\n",
      "AUC: \n",
      "0.6985066215835447\n",
      "\n"
     ]
    },
    {
     "name": "stderr",
     "output_type": "stream",
     "text": [
      "[I 2019-08-23 08:17:38,906] Finished trial#127 resulted in value: -0.6985066215835447. Current best value is -0.740349394195548 with parameters: {'num': 1, 'learning_rate': 0.001106476562682208, 'activation': 'relu', 'alpha': 3.6244949566852274, 'b1': 0.06531135581904376, 'b2': 0.9381449216689659, 'n1': 108}.\n"
     ]
    },
    {
     "name": "stdout",
     "output_type": "stream",
     "text": [
      "len: 211 , 211\n",
      "confusion_matrix: \n",
      "[[147.  22.]\n",
      " [ 22.  20.]]\n",
      "AUC: \n",
      "0.6383488306565229\n",
      "\n"
     ]
    },
    {
     "name": "stderr",
     "output_type": "stream",
     "text": [
      "[I 2019-08-23 08:17:41,834] Finished trial#128 resulted in value: -0.6383488306565229. Current best value is -0.740349394195548 with parameters: {'num': 1, 'learning_rate': 0.001106476562682208, 'activation': 'relu', 'alpha': 3.6244949566852274, 'b1': 0.06531135581904376, 'b2': 0.9381449216689659, 'n1': 108}.\n"
     ]
    },
    {
     "name": "stdout",
     "output_type": "stream",
     "text": [
      "len: 211 , 211\n",
      "confusion_matrix: \n",
      "[[136.  33.]\n",
      " [ 33.   9.]]\n",
      "AUC: \n",
      "0.5054945054945055\n",
      "\n"
     ]
    },
    {
     "name": "stderr",
     "output_type": "stream",
     "text": [
      "[I 2019-08-23 08:17:45,875] Finished trial#129 resulted in value: -0.5054945054945055. Current best value is -0.740349394195548 with parameters: {'num': 1, 'learning_rate': 0.001106476562682208, 'activation': 'relu', 'alpha': 3.6244949566852274, 'b1': 0.06531135581904376, 'b2': 0.9381449216689659, 'n1': 108}.\n"
     ]
    },
    {
     "name": "stdout",
     "output_type": "stream",
     "text": [
      "len: 211 , 211\n",
      "confusion_matrix: \n",
      "[[150.  19.]\n",
      " [ 19.  23.]]\n",
      "AUC: \n",
      "0.7010425471963934\n",
      "\n"
     ]
    },
    {
     "name": "stderr",
     "output_type": "stream",
     "text": [
      "[I 2019-08-23 08:17:56,182] Finished trial#130 resulted in value: -0.7010425471963934. Current best value is -0.740349394195548 with parameters: {'num': 1, 'learning_rate': 0.001106476562682208, 'activation': 'relu', 'alpha': 3.6244949566852274, 'b1': 0.06531135581904376, 'b2': 0.9381449216689659, 'n1': 108}.\n"
     ]
    },
    {
     "name": "stdout",
     "output_type": "stream",
     "text": [
      "len: 211 , 211\n",
      "confusion_matrix: \n",
      "[[150.  19.]\n",
      " [ 19.  23.]]\n",
      "AUC: \n",
      "0.6968160045083122\n",
      "\n"
     ]
    },
    {
     "name": "stderr",
     "output_type": "stream",
     "text": [
      "[I 2019-08-23 08:18:00,439] Finished trial#131 resulted in value: -0.6968160045083122. Current best value is -0.740349394195548 with parameters: {'num': 1, 'learning_rate': 0.001106476562682208, 'activation': 'relu', 'alpha': 3.6244949566852274, 'b1': 0.06531135581904376, 'b2': 0.9381449216689659, 'n1': 108}.\n"
     ]
    },
    {
     "name": "stdout",
     "output_type": "stream",
     "text": [
      "len: 211 , 211\n",
      "confusion_matrix: \n",
      "[[148.  21.]\n",
      " [ 21.  21.]]\n",
      "AUC: \n",
      "0.7123133276979431\n",
      "\n"
     ]
    },
    {
     "name": "stderr",
     "output_type": "stream",
     "text": [
      "[I 2019-08-23 08:18:11,430] Finished trial#132 resulted in value: -0.7123133276979431. Current best value is -0.740349394195548 with parameters: {'num': 1, 'learning_rate': 0.001106476562682208, 'activation': 'relu', 'alpha': 3.6244949566852274, 'b1': 0.06531135581904376, 'b2': 0.9381449216689659, 'n1': 108}.\n"
     ]
    },
    {
     "name": "stdout",
     "output_type": "stream",
     "text": [
      "len: 211 , 211\n",
      "confusion_matrix: \n",
      "[[151.  18.]\n",
      " [ 18.  24.]]\n",
      "AUC: \n",
      "0.6776556776556777\n",
      "\n"
     ]
    },
    {
     "name": "stderr",
     "output_type": "stream",
     "text": [
      "[I 2019-08-23 08:18:15,885] Finished trial#133 resulted in value: -0.6776556776556777. Current best value is -0.740349394195548 with parameters: {'num': 1, 'learning_rate': 0.001106476562682208, 'activation': 'relu', 'alpha': 3.6244949566852274, 'b1': 0.06531135581904376, 'b2': 0.9381449216689659, 'n1': 108}.\n"
     ]
    },
    {
     "name": "stdout",
     "output_type": "stream",
     "text": [
      "len: 211 , 211\n",
      "confusion_matrix: \n",
      "[[148.  21.]\n",
      " [ 21.  21.]]\n",
      "AUC: \n",
      "0.7075232459847844\n",
      "\n"
     ]
    },
    {
     "name": "stderr",
     "output_type": "stream",
     "text": [
      "[I 2019-08-23 08:18:27,370] Finished trial#134 resulted in value: -0.7075232459847844. Current best value is -0.740349394195548 with parameters: {'num': 1, 'learning_rate': 0.001106476562682208, 'activation': 'relu', 'alpha': 3.6244949566852274, 'b1': 0.06531135581904376, 'b2': 0.9381449216689659, 'n1': 108}.\n"
     ]
    },
    {
     "name": "stdout",
     "output_type": "stream",
     "text": [
      "len: 211 , 211\n",
      "confusion_matrix: \n",
      "[[140.  29.]\n",
      " [ 29.  13.]]\n",
      "AUC: \n",
      "0.5662158354466046\n",
      "\n"
     ]
    },
    {
     "name": "stderr",
     "output_type": "stream",
     "text": [
      "[I 2019-08-23 08:18:30,477] Finished trial#135 resulted in value: -0.5662158354466046. Current best value is -0.740349394195548 with parameters: {'num': 1, 'learning_rate': 0.001106476562682208, 'activation': 'relu', 'alpha': 3.6244949566852274, 'b1': 0.06531135581904376, 'b2': 0.9381449216689659, 'n1': 108}.\n"
     ]
    },
    {
     "name": "stdout",
     "output_type": "stream",
     "text": [
      "len: 211 , 211\n",
      "confusion_matrix: \n",
      "[[151.  18.]\n",
      " [ 18.  24.]]\n",
      "AUC: \n",
      "0.6816004508312201\n",
      "\n"
     ]
    },
    {
     "name": "stderr",
     "output_type": "stream",
     "text": [
      "[I 2019-08-23 08:18:34,231] Finished trial#136 resulted in value: -0.6816004508312201. Current best value is -0.740349394195548 with parameters: {'num': 1, 'learning_rate': 0.001106476562682208, 'activation': 'relu', 'alpha': 3.6244949566852274, 'b1': 0.06531135581904376, 'b2': 0.9381449216689659, 'n1': 108}.\n"
     ]
    },
    {
     "name": "stdout",
     "output_type": "stream",
     "text": [
      "len: 211 , 211\n",
      "confusion_matrix: \n",
      "[[148.  21.]\n",
      " [ 21.  21.]]\n",
      "AUC: \n",
      "0.7073823612285152\n",
      "\n"
     ]
    },
    {
     "name": "stderr",
     "output_type": "stream",
     "text": [
      "[I 2019-08-23 08:18:39,924] Finished trial#137 resulted in value: -0.7073823612285152. Current best value is -0.740349394195548 with parameters: {'num': 1, 'learning_rate': 0.001106476562682208, 'activation': 'relu', 'alpha': 3.6244949566852274, 'b1': 0.06531135581904376, 'b2': 0.9381449216689659, 'n1': 108}.\n"
     ]
    },
    {
     "name": "stdout",
     "output_type": "stream",
     "text": [
      "len: 211 , 211\n",
      "confusion_matrix: \n",
      "[[148.  21.]\n",
      " [ 21.  21.]]\n",
      "AUC: \n",
      "0.6445477599323753\n",
      "\n"
     ]
    },
    {
     "name": "stderr",
     "output_type": "stream",
     "text": [
      "[I 2019-08-23 08:18:43,980] Finished trial#138 resulted in value: -0.6445477599323753. Current best value is -0.740349394195548 with parameters: {'num': 1, 'learning_rate': 0.001106476562682208, 'activation': 'relu', 'alpha': 3.6244949566852274, 'b1': 0.06531135581904376, 'b2': 0.9381449216689659, 'n1': 108}.\n"
     ]
    },
    {
     "name": "stdout",
     "output_type": "stream",
     "text": [
      "len: 211 , 211\n",
      "confusion_matrix: \n",
      "[[142.  27.]\n",
      " [ 27.  15.]]\n",
      "AUC: \n",
      "0.5607213299520992\n",
      "\n"
     ]
    },
    {
     "name": "stderr",
     "output_type": "stream",
     "text": [
      "[I 2019-08-23 08:18:47,994] Finished trial#139 resulted in value: -0.5607213299520992. Current best value is -0.740349394195548 with parameters: {'num': 1, 'learning_rate': 0.001106476562682208, 'activation': 'relu', 'alpha': 3.6244949566852274, 'b1': 0.06531135581904376, 'b2': 0.9381449216689659, 'n1': 108}.\n"
     ]
    },
    {
     "name": "stdout",
     "output_type": "stream",
     "text": [
      "len: 211 , 211\n",
      "confusion_matrix: \n",
      "[[151.  18.]\n",
      " [ 18.  24.]]\n",
      "AUC: \n",
      "0.7609185686108763\n",
      "\n"
     ]
    },
    {
     "name": "stderr",
     "output_type": "stream",
     "text": [
      "[I 2019-08-23 08:18:58,241] Finished trial#140 resulted in value: -0.7609185686108763. Current best value is -0.7609185686108763 with parameters: {'num': 3, 'learning_rate': 0.001266353214511663, 'activation': 'tanh', 'alpha': 4.076434130077479, 'b1': 0.572556381375883, 'b2': 0.6671373762833999, 'n1': 49, 'n2': 57, 'n3': 174}.\n"
     ]
    },
    {
     "name": "stdout",
     "output_type": "stream",
     "text": [
      "len: 211 , 211\n",
      "confusion_matrix: \n",
      "[[150.  19.]\n",
      " [ 19.  23.]]\n",
      "AUC: \n",
      "0.7040011270780502\n",
      "\n"
     ]
    },
    {
     "name": "stderr",
     "output_type": "stream",
     "text": [
      "[I 2019-08-23 08:19:08,462] Finished trial#141 resulted in value: -0.7040011270780502. Current best value is -0.7609185686108763 with parameters: {'num': 3, 'learning_rate': 0.001266353214511663, 'activation': 'tanh', 'alpha': 4.076434130077479, 'b1': 0.572556381375883, 'b2': 0.6671373762833999, 'n1': 49, 'n2': 57, 'n3': 174}.\n"
     ]
    },
    {
     "name": "stdout",
     "output_type": "stream",
     "text": [
      "len: 211 , 211\n",
      "confusion_matrix: \n",
      "[[147.  22.]\n",
      " [ 22.  20.]]\n",
      "AUC: \n",
      "0.7113271344040575\n",
      "\n"
     ]
    },
    {
     "name": "stderr",
     "output_type": "stream",
     "text": [
      "[I 2019-08-23 08:19:14,681] Finished trial#142 resulted in value: -0.7113271344040575. Current best value is -0.7609185686108763 with parameters: {'num': 3, 'learning_rate': 0.001266353214511663, 'activation': 'tanh', 'alpha': 4.076434130077479, 'b1': 0.572556381375883, 'b2': 0.6671373762833999, 'n1': 49, 'n2': 57, 'n3': 174}.\n"
     ]
    },
    {
     "name": "stdout",
     "output_type": "stream",
     "text": [
      "len: 211 , 211\n",
      "confusion_matrix: \n",
      "[[152.  17.]\n",
      " [ 17.  25.]]\n",
      "AUC: \n",
      "0.6762468300929839\n",
      "\n"
     ]
    },
    {
     "name": "stderr",
     "output_type": "stream",
     "text": [
      "[I 2019-08-23 08:19:19,485] Finished trial#143 resulted in value: -0.6762468300929839. Current best value is -0.7609185686108763 with parameters: {'num': 3, 'learning_rate': 0.001266353214511663, 'activation': 'tanh', 'alpha': 4.076434130077479, 'b1': 0.572556381375883, 'b2': 0.6671373762833999, 'n1': 49, 'n2': 57, 'n3': 174}.\n"
     ]
    },
    {
     "name": "stdout",
     "output_type": "stream",
     "text": [
      "len: 211 , 211\n",
      "confusion_matrix: \n",
      "[[147.  22.]\n",
      " [ 22.  20.]]\n",
      "AUC: \n",
      "0.63229078613694\n",
      "\n"
     ]
    },
    {
     "name": "stderr",
     "output_type": "stream",
     "text": [
      "[I 2019-08-23 08:19:22,911] Finished trial#144 resulted in value: -0.63229078613694. Current best value is -0.7609185686108763 with parameters: {'num': 3, 'learning_rate': 0.001266353214511663, 'activation': 'tanh', 'alpha': 4.076434130077479, 'b1': 0.572556381375883, 'b2': 0.6671373762833999, 'n1': 49, 'n2': 57, 'n3': 174}.\n"
     ]
    },
    {
     "name": "stdout",
     "output_type": "stream",
     "text": [
      "len: 211 , 211\n",
      "confusion_matrix: \n",
      "[[149.  20.]\n",
      " [ 20.  22.]]\n",
      "AUC: \n",
      "0.7099182868413638\n",
      "\n"
     ]
    },
    {
     "name": "stderr",
     "output_type": "stream",
     "text": [
      "[I 2019-08-23 08:19:33,172] Finished trial#145 resulted in value: -0.7099182868413638. Current best value is -0.7609185686108763 with parameters: {'num': 3, 'learning_rate': 0.001266353214511663, 'activation': 'tanh', 'alpha': 4.076434130077479, 'b1': 0.572556381375883, 'b2': 0.6671373762833999, 'n1': 49, 'n2': 57, 'n3': 174}.\n"
     ]
    },
    {
     "name": "stdout",
     "output_type": "stream",
     "text": [
      "len: 211 , 211\n",
      "confusion_matrix: \n",
      "[[149.  20.]\n",
      " [ 20.  22.]]\n",
      "AUC: \n",
      "0.7365455057762751\n",
      "\n"
     ]
    },
    {
     "name": "stderr",
     "output_type": "stream",
     "text": [
      "[I 2019-08-23 08:19:44,136] Finished trial#146 resulted in value: -0.7365455057762751. Current best value is -0.7609185686108763 with parameters: {'num': 3, 'learning_rate': 0.001266353214511663, 'activation': 'tanh', 'alpha': 4.076434130077479, 'b1': 0.572556381375883, 'b2': 0.6671373762833999, 'n1': 49, 'n2': 57, 'n3': 174}.\n"
     ]
    },
    {
     "name": "stdout",
     "output_type": "stream",
     "text": [
      "len: 211 , 211\n",
      "confusion_matrix: \n",
      "[[150.  19.]\n",
      " [ 19.  23.]]\n",
      "AUC: \n",
      "0.7087912087912088\n",
      "\n"
     ]
    },
    {
     "name": "stderr",
     "output_type": "stream",
     "text": [
      "[I 2019-08-23 08:19:55,706] Finished trial#147 resulted in value: -0.7087912087912088. Current best value is -0.7609185686108763 with parameters: {'num': 3, 'learning_rate': 0.001266353214511663, 'activation': 'tanh', 'alpha': 4.076434130077479, 'b1': 0.572556381375883, 'b2': 0.6671373762833999, 'n1': 49, 'n2': 57, 'n3': 174}.\n"
     ]
    },
    {
     "name": "stdout",
     "output_type": "stream",
     "text": [
      "len: 211 , 211\n",
      "confusion_matrix: \n",
      "[[148.  21.]\n",
      " [ 21.  21.]]\n",
      "AUC: \n",
      "0.6494787264018033\n",
      "\n"
     ]
    },
    {
     "name": "stderr",
     "output_type": "stream",
     "text": [
      "[I 2019-08-23 08:20:00,973] Finished trial#148 resulted in value: -0.6494787264018033. Current best value is -0.7609185686108763 with parameters: {'num': 3, 'learning_rate': 0.001266353214511663, 'activation': 'tanh', 'alpha': 4.076434130077479, 'b1': 0.572556381375883, 'b2': 0.6671373762833999, 'n1': 49, 'n2': 57, 'n3': 174}.\n"
     ]
    },
    {
     "name": "stdout",
     "output_type": "stream",
     "text": [
      "len: 211 , 211\n",
      "confusion_matrix: \n",
      "[[134.  35.]\n",
      " [ 35.   7.]]\n",
      "AUC: \n",
      "0.49859115243730623\n",
      "\n"
     ]
    },
    {
     "name": "stderr",
     "output_type": "stream",
     "text": [
      "[I 2019-08-23 08:20:11,609] Finished trial#149 resulted in value: -0.49859115243730623. Current best value is -0.7609185686108763 with parameters: {'num': 3, 'learning_rate': 0.001266353214511663, 'activation': 'tanh', 'alpha': 4.076434130077479, 'b1': 0.572556381375883, 'b2': 0.6671373762833999, 'n1': 49, 'n2': 57, 'n3': 174}.\n"
     ]
    },
    {
     "name": "stdout",
     "output_type": "stream",
     "text": [
      "len: 211 , 211\n",
      "confusion_matrix: \n",
      "[[148.  21.]\n",
      " [ 21.  21.]]\n",
      "AUC: \n",
      "0.6972386587771204\n",
      "\n"
     ]
    },
    {
     "name": "stderr",
     "output_type": "stream",
     "text": [
      "[I 2019-08-23 08:20:18,540] Finished trial#150 resulted in value: -0.6972386587771204. Current best value is -0.7609185686108763 with parameters: {'num': 3, 'learning_rate': 0.001266353214511663, 'activation': 'tanh', 'alpha': 4.076434130077479, 'b1': 0.572556381375883, 'b2': 0.6671373762833999, 'n1': 49, 'n2': 57, 'n3': 174}.\n"
     ]
    },
    {
     "name": "stdout",
     "output_type": "stream",
     "text": [
      "len: 211 , 211\n",
      "confusion_matrix: \n",
      "[[147.  22.]\n",
      " [ 22.  20.]]\n",
      "AUC: \n",
      "0.7035784728092421\n",
      "\n"
     ]
    },
    {
     "name": "stderr",
     "output_type": "stream",
     "text": [
      "[I 2019-08-23 08:20:25,707] Finished trial#151 resulted in value: -0.7035784728092421. Current best value is -0.7609185686108763 with parameters: {'num': 3, 'learning_rate': 0.001266353214511663, 'activation': 'tanh', 'alpha': 4.076434130077479, 'b1': 0.572556381375883, 'b2': 0.6671373762833999, 'n1': 49, 'n2': 57, 'n3': 174}.\n"
     ]
    },
    {
     "name": "stdout",
     "output_type": "stream",
     "text": [
      "len: 211 , 211\n",
      "confusion_matrix: \n",
      "[[151.  18.]\n",
      " [ 18.  24.]]\n",
      "AUC: \n",
      "0.7172442941673711\n",
      "\n"
     ]
    },
    {
     "name": "stderr",
     "output_type": "stream",
     "text": [
      "[I 2019-08-23 08:20:37,087] Finished trial#152 resulted in value: -0.7172442941673711. Current best value is -0.7609185686108763 with parameters: {'num': 3, 'learning_rate': 0.001266353214511663, 'activation': 'tanh', 'alpha': 4.076434130077479, 'b1': 0.572556381375883, 'b2': 0.6671373762833999, 'n1': 49, 'n2': 57, 'n3': 174}.\n"
     ]
    },
    {
     "name": "stdout",
     "output_type": "stream",
     "text": [
      "len: 211 , 211\n",
      "confusion_matrix: \n",
      "[[147.  22.]\n",
      " [ 22.  20.]]\n",
      "AUC: \n",
      "0.6877993801070725\n",
      "\n"
     ]
    },
    {
     "name": "stderr",
     "output_type": "stream",
     "text": [
      "[I 2019-08-23 08:20:42,471] Finished trial#153 resulted in value: -0.6877993801070725. Current best value is -0.7609185686108763 with parameters: {'num': 3, 'learning_rate': 0.001266353214511663, 'activation': 'tanh', 'alpha': 4.076434130077479, 'b1': 0.572556381375883, 'b2': 0.6671373762833999, 'n1': 49, 'n2': 57, 'n3': 174}.\n"
     ]
    },
    {
     "name": "stdout",
     "output_type": "stream",
     "text": [
      "len: 211 , 211\n",
      "confusion_matrix: \n",
      "[[146.  23.]\n",
      " [ 23.  19.]]\n",
      "AUC: \n",
      "0.7313327697943083\n",
      "\n"
     ]
    },
    {
     "name": "stderr",
     "output_type": "stream",
     "text": [
      "[I 2019-08-23 08:20:52,269] Finished trial#154 resulted in value: -0.7313327697943083. Current best value is -0.7609185686108763 with parameters: {'num': 3, 'learning_rate': 0.001266353214511663, 'activation': 'tanh', 'alpha': 4.076434130077479, 'b1': 0.572556381375883, 'b2': 0.6671373762833999, 'n1': 49, 'n2': 57, 'n3': 174}.\n"
     ]
    },
    {
     "name": "stdout",
     "output_type": "stream",
     "text": [
      "len: 211 , 211\n",
      "confusion_matrix: \n",
      "[[149.  20.]\n",
      " [ 20.  22.]]\n",
      "AUC: \n",
      "0.7014652014652014\n",
      "\n"
     ]
    },
    {
     "name": "stderr",
     "output_type": "stream",
     "text": [
      "[I 2019-08-23 08:20:58,171] Finished trial#155 resulted in value: -0.7014652014652014. Current best value is -0.7609185686108763 with parameters: {'num': 3, 'learning_rate': 0.001266353214511663, 'activation': 'tanh', 'alpha': 4.076434130077479, 'b1': 0.572556381375883, 'b2': 0.6671373762833999, 'n1': 49, 'n2': 57, 'n3': 174}.\n"
     ]
    },
    {
     "name": "stdout",
     "output_type": "stream",
     "text": [
      "len: 211 , 211\n",
      "confusion_matrix: \n",
      "[[133.  36.]\n",
      " [ 36.   6.]]\n",
      "AUC: \n",
      "0.5225415610030996\n",
      "\n"
     ]
    },
    {
     "name": "stderr",
     "output_type": "stream",
     "text": [
      "[I 2019-08-23 08:21:02,371] Finished trial#156 resulted in value: -0.5225415610030996. Current best value is -0.7609185686108763 with parameters: {'num': 3, 'learning_rate': 0.001266353214511663, 'activation': 'tanh', 'alpha': 4.076434130077479, 'b1': 0.572556381375883, 'b2': 0.6671373762833999, 'n1': 49, 'n2': 57, 'n3': 174}.\n"
     ]
    },
    {
     "name": "stdout",
     "output_type": "stream",
     "text": [
      "len: 211 , 211\n",
      "confusion_matrix: \n",
      "[[150.  19.]\n",
      " [ 19.  23.]]\n",
      "AUC: \n",
      "0.7134404057480979\n",
      "\n"
     ]
    },
    {
     "name": "stderr",
     "output_type": "stream",
     "text": [
      "[I 2019-08-23 08:21:14,077] Finished trial#157 resulted in value: -0.7134404057480979. Current best value is -0.7609185686108763 with parameters: {'num': 3, 'learning_rate': 0.001266353214511663, 'activation': 'tanh', 'alpha': 4.076434130077479, 'b1': 0.572556381375883, 'b2': 0.6671373762833999, 'n1': 49, 'n2': 57, 'n3': 174}.\n"
     ]
    },
    {
     "name": "stdout",
     "output_type": "stream",
     "text": [
      "len: 211 , 211\n",
      "confusion_matrix: \n",
      "[[146.  23.]\n",
      " [ 23.  19.]]\n",
      "AUC: \n",
      "0.5963651732882501\n",
      "\n"
     ]
    },
    {
     "name": "stderr",
     "output_type": "stream",
     "text": [
      "[I 2019-08-23 08:21:19,476] Finished trial#158 resulted in value: -0.5963651732882501. Current best value is -0.7609185686108763 with parameters: {'num': 3, 'learning_rate': 0.001266353214511663, 'activation': 'tanh', 'alpha': 4.076434130077479, 'b1': 0.572556381375883, 'b2': 0.6671373762833999, 'n1': 49, 'n2': 57, 'n3': 174}.\n"
     ]
    },
    {
     "name": "stdout",
     "output_type": "stream",
     "text": [
      "len: 211 , 211\n",
      "confusion_matrix: \n",
      "[[149.  20.]\n",
      " [ 20.  22.]]\n",
      "AUC: \n",
      "0.7459847844463229\n",
      "\n"
     ]
    },
    {
     "name": "stderr",
     "output_type": "stream",
     "text": [
      "[I 2019-08-23 08:21:30,684] Finished trial#159 resulted in value: -0.7459847844463229. Current best value is -0.7609185686108763 with parameters: {'num': 3, 'learning_rate': 0.001266353214511663, 'activation': 'tanh', 'alpha': 4.076434130077479, 'b1': 0.572556381375883, 'b2': 0.6671373762833999, 'n1': 49, 'n2': 57, 'n3': 174}.\n"
     ]
    },
    {
     "name": "stdout",
     "output_type": "stream",
     "text": [
      "len: 211 , 211\n",
      "confusion_matrix: \n",
      "[[134.  35.]\n",
      " [ 35.   7.]]\n",
      "AUC: \n",
      "0.4705550859397013\n",
      "\n"
     ]
    },
    {
     "name": "stderr",
     "output_type": "stream",
     "text": [
      "[I 2019-08-23 08:21:36,076] Finished trial#160 resulted in value: -0.4705550859397013. Current best value is -0.7609185686108763 with parameters: {'num': 3, 'learning_rate': 0.001266353214511663, 'activation': 'tanh', 'alpha': 4.076434130077479, 'b1': 0.572556381375883, 'b2': 0.6671373762833999, 'n1': 49, 'n2': 57, 'n3': 174}.\n"
     ]
    },
    {
     "name": "stdout",
     "output_type": "stream",
     "text": [
      "len: 211 , 211\n",
      "confusion_matrix: \n",
      "[[149.  20.]\n",
      " [ 20.  22.]]\n",
      "AUC: \n",
      "0.7054099746407438\n",
      "\n"
     ]
    },
    {
     "name": "stderr",
     "output_type": "stream",
     "text": [
      "[I 2019-08-23 08:21:49,473] Finished trial#161 resulted in value: -0.7054099746407438. Current best value is -0.7609185686108763 with parameters: {'num': 3, 'learning_rate': 0.001266353214511663, 'activation': 'tanh', 'alpha': 4.076434130077479, 'b1': 0.572556381375883, 'b2': 0.6671373762833999, 'n1': 49, 'n2': 57, 'n3': 174}.\n"
     ]
    },
    {
     "name": "stdout",
     "output_type": "stream",
     "text": [
      "len: 211 , 211\n",
      "confusion_matrix: \n",
      "[[149.  20.]\n",
      " [ 20.  22.]]\n",
      "AUC: \n",
      "0.7102000563539025\n",
      "\n"
     ]
    },
    {
     "name": "stderr",
     "output_type": "stream",
     "text": [
      "[I 2019-08-23 08:22:03,650] Finished trial#162 resulted in value: -0.7102000563539025. Current best value is -0.7609185686108763 with parameters: {'num': 3, 'learning_rate': 0.001266353214511663, 'activation': 'tanh', 'alpha': 4.076434130077479, 'b1': 0.572556381375883, 'b2': 0.6671373762833999, 'n1': 49, 'n2': 57, 'n3': 174}.\n"
     ]
    },
    {
     "name": "stdout",
     "output_type": "stream",
     "text": [
      "len: 211 , 211\n",
      "confusion_matrix: \n",
      "[[147.  22.]\n",
      " [ 22.  20.]]\n",
      "AUC: \n",
      "0.6351084812623274\n",
      "\n"
     ]
    },
    {
     "name": "stderr",
     "output_type": "stream",
     "text": [
      "[I 2019-08-23 08:22:10,450] Finished trial#163 resulted in value: -0.6351084812623274. Current best value is -0.7609185686108763 with parameters: {'num': 3, 'learning_rate': 0.001266353214511663, 'activation': 'tanh', 'alpha': 4.076434130077479, 'b1': 0.572556381375883, 'b2': 0.6671373762833999, 'n1': 49, 'n2': 57, 'n3': 174}.\n"
     ]
    },
    {
     "name": "stdout",
     "output_type": "stream",
     "text": [
      "len: 211 , 211\n",
      "confusion_matrix: \n",
      "[[146.  23.]\n",
      " [ 23.  19.]]\n",
      "AUC: \n",
      "0.6021414482952945\n",
      "\n"
     ]
    },
    {
     "name": "stderr",
     "output_type": "stream",
     "text": [
      "[I 2019-08-23 08:22:16,771] Finished trial#164 resulted in value: -0.6021414482952945. Current best value is -0.7609185686108763 with parameters: {'num': 3, 'learning_rate': 0.001266353214511663, 'activation': 'tanh', 'alpha': 4.076434130077479, 'b1': 0.572556381375883, 'b2': 0.6671373762833999, 'n1': 49, 'n2': 57, 'n3': 174}.\n"
     ]
    },
    {
     "name": "stdout",
     "output_type": "stream",
     "text": [
      "len: 211 , 211\n",
      "confusion_matrix: \n",
      "[[149.  20.]\n",
      " [ 20.  22.]]\n",
      "AUC: \n",
      "0.7166807551422936\n",
      "\n"
     ]
    },
    {
     "name": "stderr",
     "output_type": "stream",
     "text": [
      "[I 2019-08-23 08:22:26,537] Finished trial#165 resulted in value: -0.7166807551422936. Current best value is -0.7609185686108763 with parameters: {'num': 3, 'learning_rate': 0.001266353214511663, 'activation': 'tanh', 'alpha': 4.076434130077479, 'b1': 0.572556381375883, 'b2': 0.6671373762833999, 'n1': 49, 'n2': 57, 'n3': 174}.\n"
     ]
    },
    {
     "name": "stdout",
     "output_type": "stream",
     "text": [
      "len: 211 , 211\n",
      "confusion_matrix: \n",
      "[[147.  22.]\n",
      " [ 22.  20.]]\n",
      "AUC: \n",
      "0.7087912087912087\n",
      "\n"
     ]
    },
    {
     "name": "stderr",
     "output_type": "stream",
     "text": [
      "[I 2019-08-23 08:22:35,915] Finished trial#166 resulted in value: -0.7087912087912087. Current best value is -0.7609185686108763 with parameters: {'num': 3, 'learning_rate': 0.001266353214511663, 'activation': 'tanh', 'alpha': 4.076434130077479, 'b1': 0.572556381375883, 'b2': 0.6671373762833999, 'n1': 49, 'n2': 57, 'n3': 174}.\n"
     ]
    },
    {
     "name": "stdout",
     "output_type": "stream",
     "text": [
      "len: 211 , 211\n",
      "confusion_matrix: \n",
      "[[147.  22.]\n",
      " [ 22.  20.]]\n",
      "AUC: \n",
      "0.68385460693153\n",
      "\n"
     ]
    },
    {
     "name": "stderr",
     "output_type": "stream",
     "text": [
      "[I 2019-08-23 08:22:42,405] Finished trial#167 resulted in value: -0.68385460693153. Current best value is -0.7609185686108763 with parameters: {'num': 3, 'learning_rate': 0.001266353214511663, 'activation': 'tanh', 'alpha': 4.076434130077479, 'b1': 0.572556381375883, 'b2': 0.6671373762833999, 'n1': 49, 'n2': 57, 'n3': 174}.\n"
     ]
    },
    {
     "name": "stdout",
     "output_type": "stream",
     "text": [
      "len: 211 , 211\n",
      "confusion_matrix: \n",
      "[[144.  25.]\n",
      " [ 25.  17.]]\n",
      "AUC: \n",
      "0.5763595378979993\n",
      "\n"
     ]
    },
    {
     "name": "stderr",
     "output_type": "stream",
     "text": [
      "[I 2019-08-23 08:22:49,569] Finished trial#168 resulted in value: -0.5763595378979993. Current best value is -0.7609185686108763 with parameters: {'num': 3, 'learning_rate': 0.001266353214511663, 'activation': 'tanh', 'alpha': 4.076434130077479, 'b1': 0.572556381375883, 'b2': 0.6671373762833999, 'n1': 49, 'n2': 57, 'n3': 174}.\n"
     ]
    },
    {
     "name": "stdout",
     "output_type": "stream",
     "text": [
      "len: 211 , 211\n",
      "confusion_matrix: \n",
      "[[144.  25.]\n",
      " [ 25.  17.]]\n",
      "AUC: \n",
      "0.5822766976613131\n",
      "\n"
     ]
    },
    {
     "name": "stderr",
     "output_type": "stream",
     "text": [
      "[I 2019-08-23 08:22:56,399] Finished trial#169 resulted in value: -0.5822766976613131. Current best value is -0.7609185686108763 with parameters: {'num': 3, 'learning_rate': 0.001266353214511663, 'activation': 'tanh', 'alpha': 4.076434130077479, 'b1': 0.572556381375883, 'b2': 0.6671373762833999, 'n1': 49, 'n2': 57, 'n3': 174}.\n"
     ]
    },
    {
     "name": "stdout",
     "output_type": "stream",
     "text": [
      "len: 211 , 211\n",
      "confusion_matrix: \n",
      "[[150.  19.]\n",
      " [ 19.  23.]]\n",
      "AUC: \n",
      "0.7140039447731755\n",
      "\n"
     ]
    },
    {
     "name": "stderr",
     "output_type": "stream",
     "text": [
      "[I 2019-08-23 08:23:09,552] Finished trial#170 resulted in value: -0.7140039447731755. Current best value is -0.7609185686108763 with parameters: {'num': 3, 'learning_rate': 0.001266353214511663, 'activation': 'tanh', 'alpha': 4.076434130077479, 'b1': 0.572556381375883, 'b2': 0.6671373762833999, 'n1': 49, 'n2': 57, 'n3': 174}.\n"
     ]
    },
    {
     "name": "stdout",
     "output_type": "stream",
     "text": [
      "len: 211 , 211\n",
      "confusion_matrix: \n",
      "[[150.  19.]\n",
      " [ 19.  23.]]\n",
      "AUC: \n",
      "0.6925894618202311\n",
      "\n"
     ]
    },
    {
     "name": "stderr",
     "output_type": "stream",
     "text": [
      "[I 2019-08-23 08:23:21,167] Finished trial#171 resulted in value: -0.6925894618202311. Current best value is -0.7609185686108763 with parameters: {'num': 3, 'learning_rate': 0.001266353214511663, 'activation': 'tanh', 'alpha': 4.076434130077479, 'b1': 0.572556381375883, 'b2': 0.6671373762833999, 'n1': 49, 'n2': 57, 'n3': 174}.\n"
     ]
    },
    {
     "name": "stdout",
     "output_type": "stream",
     "text": [
      "len: 211 , 211\n",
      "confusion_matrix: \n",
      "[[146.  23.]\n",
      " [ 23.  19.]]\n",
      "AUC: \n",
      "0.6824457593688362\n",
      "\n"
     ]
    },
    {
     "name": "stderr",
     "output_type": "stream",
     "text": [
      "[I 2019-08-23 08:23:28,311] Finished trial#172 resulted in value: -0.6824457593688362. Current best value is -0.7609185686108763 with parameters: {'num': 3, 'learning_rate': 0.001266353214511663, 'activation': 'tanh', 'alpha': 4.076434130077479, 'b1': 0.572556381375883, 'b2': 0.6671373762833999, 'n1': 49, 'n2': 57, 'n3': 174}.\n"
     ]
    },
    {
     "name": "stdout",
     "output_type": "stream",
     "text": [
      "len: 211 , 211\n",
      "confusion_matrix: \n",
      "[[149.  20.]\n",
      " [ 20.  22.]]\n",
      "AUC: \n",
      "0.6749788672865596\n",
      "\n"
     ]
    },
    {
     "name": "stderr",
     "output_type": "stream",
     "text": [
      "[I 2019-08-23 08:23:39,814] Finished trial#173 resulted in value: -0.6749788672865596. Current best value is -0.7609185686108763 with parameters: {'num': 3, 'learning_rate': 0.001266353214511663, 'activation': 'tanh', 'alpha': 4.076434130077479, 'b1': 0.572556381375883, 'b2': 0.6671373762833999, 'n1': 49, 'n2': 57, 'n3': 174}.\n"
     ]
    },
    {
     "name": "stdout",
     "output_type": "stream",
     "text": [
      "len: 211 , 211\n",
      "confusion_matrix: \n",
      "[[148.  21.]\n",
      " [ 21.  21.]]\n",
      "AUC: \n",
      "0.6524373062834601\n",
      "\n"
     ]
    },
    {
     "name": "stderr",
     "output_type": "stream",
     "text": [
      "[I 2019-08-23 08:23:46,218] Finished trial#174 resulted in value: -0.6524373062834601. Current best value is -0.7609185686108763 with parameters: {'num': 3, 'learning_rate': 0.001266353214511663, 'activation': 'tanh', 'alpha': 4.076434130077479, 'b1': 0.572556381375883, 'b2': 0.6671373762833999, 'n1': 49, 'n2': 57, 'n3': 174}.\n"
     ]
    },
    {
     "name": "stdout",
     "output_type": "stream",
     "text": [
      "len: 211 , 211\n",
      "confusion_matrix: \n",
      "[[149.  20.]\n",
      " [ 20.  22.]]\n",
      "AUC: \n",
      "0.6751197520428288\n",
      "\n"
     ]
    },
    {
     "name": "stderr",
     "output_type": "stream",
     "text": [
      "[I 2019-08-23 08:23:54,080] Finished trial#175 resulted in value: -0.6751197520428288. Current best value is -0.7609185686108763 with parameters: {'num': 3, 'learning_rate': 0.001266353214511663, 'activation': 'tanh', 'alpha': 4.076434130077479, 'b1': 0.572556381375883, 'b2': 0.6671373762833999, 'n1': 49, 'n2': 57, 'n3': 174}.\n"
     ]
    },
    {
     "name": "stdout",
     "output_type": "stream",
     "text": [
      "len: 211 , 211\n",
      "confusion_matrix: \n",
      "[[150.  19.]\n",
      " [ 19.  23.]]\n",
      "AUC: \n",
      "0.7166807551422937\n",
      "\n"
     ]
    },
    {
     "name": "stderr",
     "output_type": "stream",
     "text": [
      "[I 2019-08-23 08:24:05,452] Finished trial#176 resulted in value: -0.7166807551422937. Current best value is -0.7609185686108763 with parameters: {'num': 3, 'learning_rate': 0.001266353214511663, 'activation': 'tanh', 'alpha': 4.076434130077479, 'b1': 0.572556381375883, 'b2': 0.6671373762833999, 'n1': 49, 'n2': 57, 'n3': 174}.\n"
     ]
    },
    {
     "name": "stdout",
     "output_type": "stream",
     "text": [
      "len: 211 , 211\n",
      "confusion_matrix: \n",
      "[[148.  21.]\n",
      " [ 21.  21.]]\n",
      "AUC: \n",
      "0.7230205691744152\n",
      "\n"
     ]
    },
    {
     "name": "stderr",
     "output_type": "stream",
     "text": [
      "[I 2019-08-23 08:24:18,262] Finished trial#177 resulted in value: -0.7230205691744152. Current best value is -0.7609185686108763 with parameters: {'num': 3, 'learning_rate': 0.001266353214511663, 'activation': 'tanh', 'alpha': 4.076434130077479, 'b1': 0.572556381375883, 'b2': 0.6671373762833999, 'n1': 49, 'n2': 57, 'n3': 174}.\n"
     ]
    },
    {
     "name": "stdout",
     "output_type": "stream",
     "text": [
      "len: 211 , 211\n",
      "confusion_matrix: \n",
      "[[150.  19.]\n",
      " [ 19.  23.]]\n",
      "AUC: \n",
      "0.7244294167371091\n",
      "\n"
     ]
    },
    {
     "name": "stderr",
     "output_type": "stream",
     "text": [
      "[I 2019-08-23 08:24:30,830] Finished trial#178 resulted in value: -0.7244294167371091. Current best value is -0.7609185686108763 with parameters: {'num': 3, 'learning_rate': 0.001266353214511663, 'activation': 'tanh', 'alpha': 4.076434130077479, 'b1': 0.572556381375883, 'b2': 0.6671373762833999, 'n1': 49, 'n2': 57, 'n3': 174}.\n"
     ]
    },
    {
     "name": "stdout",
     "output_type": "stream",
     "text": [
      "len: 211 , 211\n",
      "confusion_matrix: \n",
      "[[150.  19.]\n",
      " [ 19.  23.]]\n",
      "AUC: \n",
      "0.76007326007326\n",
      "\n"
     ]
    },
    {
     "name": "stderr",
     "output_type": "stream",
     "text": [
      "[I 2019-08-23 08:24:42,778] Finished trial#179 resulted in value: -0.76007326007326. Current best value is -0.7609185686108763 with parameters: {'num': 3, 'learning_rate': 0.001266353214511663, 'activation': 'tanh', 'alpha': 4.076434130077479, 'b1': 0.572556381375883, 'b2': 0.6671373762833999, 'n1': 49, 'n2': 57, 'n3': 174}.\n"
     ]
    },
    {
     "name": "stdout",
     "output_type": "stream",
     "text": [
      "len: 211 , 211\n",
      "confusion_matrix: \n",
      "[[144.  25.]\n",
      " [ 25.  17.]]\n",
      "AUC: \n",
      "0.6272189349112426\n",
      "\n"
     ]
    },
    {
     "name": "stderr",
     "output_type": "stream",
     "text": [
      "[I 2019-08-23 08:24:50,390] Finished trial#180 resulted in value: -0.6272189349112426. Current best value is -0.7609185686108763 with parameters: {'num': 3, 'learning_rate': 0.001266353214511663, 'activation': 'tanh', 'alpha': 4.076434130077479, 'b1': 0.572556381375883, 'b2': 0.6671373762833999, 'n1': 49, 'n2': 57, 'n3': 174}.\n"
     ]
    },
    {
     "name": "stdout",
     "output_type": "stream",
     "text": [
      "len: 211 , 211\n",
      "confusion_matrix: \n",
      "[[149.  20.]\n",
      " [ 20.  22.]]\n",
      "AUC: \n",
      "0.7395040856579319\n",
      "\n"
     ]
    },
    {
     "name": "stderr",
     "output_type": "stream",
     "text": [
      "[I 2019-08-23 08:25:03,142] Finished trial#181 resulted in value: -0.7395040856579319. Current best value is -0.7609185686108763 with parameters: {'num': 3, 'learning_rate': 0.001266353214511663, 'activation': 'tanh', 'alpha': 4.076434130077479, 'b1': 0.572556381375883, 'b2': 0.6671373762833999, 'n1': 49, 'n2': 57, 'n3': 174}.\n"
     ]
    },
    {
     "name": "stdout",
     "output_type": "stream",
     "text": [
      "len: 211 , 211\n",
      "confusion_matrix: \n",
      "[[150.  19.]\n",
      " [ 19.  23.]]\n",
      "AUC: \n",
      "0.7054099746407438\n",
      "\n"
     ]
    },
    {
     "name": "stderr",
     "output_type": "stream",
     "text": [
      "[I 2019-08-23 08:25:14,826] Finished trial#182 resulted in value: -0.7054099746407438. Current best value is -0.7609185686108763 with parameters: {'num': 3, 'learning_rate': 0.001266353214511663, 'activation': 'tanh', 'alpha': 4.076434130077479, 'b1': 0.572556381375883, 'b2': 0.6671373762833999, 'n1': 49, 'n2': 57, 'n3': 174}.\n"
     ]
    },
    {
     "name": "stdout",
     "output_type": "stream",
     "text": [
      "len: 211 , 211\n",
      "confusion_matrix: \n",
      "[[149.  20.]\n",
      " [ 20.  22.]]\n",
      "AUC: \n",
      "0.6759650605804451\n",
      "\n"
     ]
    },
    {
     "name": "stderr",
     "output_type": "stream",
     "text": [
      "[I 2019-08-23 08:25:21,979] Finished trial#183 resulted in value: -0.6759650605804451. Current best value is -0.7609185686108763 with parameters: {'num': 3, 'learning_rate': 0.001266353214511663, 'activation': 'tanh', 'alpha': 4.076434130077479, 'b1': 0.572556381375883, 'b2': 0.6671373762833999, 'n1': 49, 'n2': 57, 'n3': 174}.\n"
     ]
    },
    {
     "name": "stdout",
     "output_type": "stream",
     "text": [
      "len: 211 , 211\n",
      "confusion_matrix: \n",
      "[[149.  20.]\n",
      " [ 20.  22.]]\n",
      "AUC: \n",
      "0.6779374471682164\n",
      "\n"
     ]
    },
    {
     "name": "stderr",
     "output_type": "stream",
     "text": [
      "[I 2019-08-23 08:25:30,190] Finished trial#184 resulted in value: -0.6779374471682164. Current best value is -0.7609185686108763 with parameters: {'num': 3, 'learning_rate': 0.001266353214511663, 'activation': 'tanh', 'alpha': 4.076434130077479, 'b1': 0.572556381375883, 'b2': 0.6671373762833999, 'n1': 49, 'n2': 57, 'n3': 174}.\n"
     ]
    },
    {
     "name": "stdout",
     "output_type": "stream",
     "text": [
      "len: 211 , 211\n",
      "confusion_matrix: \n",
      "[[150.  19.]\n",
      " [ 19.  23.]]\n",
      "AUC: \n",
      "0.7347140039447732\n",
      "\n"
     ]
    },
    {
     "name": "stderr",
     "output_type": "stream",
     "text": [
      "[I 2019-08-23 08:25:43,878] Finished trial#185 resulted in value: -0.7347140039447732. Current best value is -0.7609185686108763 with parameters: {'num': 3, 'learning_rate': 0.001266353214511663, 'activation': 'tanh', 'alpha': 4.076434130077479, 'b1': 0.572556381375883, 'b2': 0.6671373762833999, 'n1': 49, 'n2': 57, 'n3': 174}.\n"
     ]
    },
    {
     "name": "stdout",
     "output_type": "stream",
     "text": [
      "len: 211 , 211\n",
      "confusion_matrix: \n",
      "[[150.  19.]\n",
      " [ 19.  23.]]\n",
      "AUC: \n",
      "0.7151310228233305\n",
      "\n"
     ]
    },
    {
     "name": "stderr",
     "output_type": "stream",
     "text": [
      "[I 2019-08-23 08:25:51,563] Finished trial#186 resulted in value: -0.7151310228233305. Current best value is -0.7609185686108763 with parameters: {'num': 3, 'learning_rate': 0.001266353214511663, 'activation': 'tanh', 'alpha': 4.076434130077479, 'b1': 0.572556381375883, 'b2': 0.6671373762833999, 'n1': 49, 'n2': 57, 'n3': 174}.\n"
     ]
    },
    {
     "name": "stdout",
     "output_type": "stream",
     "text": [
      "len: 211 , 211\n",
      "confusion_matrix: \n",
      "[[149.  20.]\n",
      " [ 20.  22.]]\n",
      "AUC: \n",
      "0.7032967032967034\n",
      "\n"
     ]
    },
    {
     "name": "stderr",
     "output_type": "stream",
     "text": [
      "[I 2019-08-23 08:26:04,430] Finished trial#187 resulted in value: -0.7032967032967034. Current best value is -0.7609185686108763 with parameters: {'num': 3, 'learning_rate': 0.001266353214511663, 'activation': 'tanh', 'alpha': 4.076434130077479, 'b1': 0.572556381375883, 'b2': 0.6671373762833999, 'n1': 49, 'n2': 57, 'n3': 174}.\n"
     ]
    },
    {
     "name": "stdout",
     "output_type": "stream",
     "text": [
      "len: 211 , 211\n",
      "confusion_matrix: \n",
      "[[149.  20.]\n",
      " [ 20.  22.]]\n",
      "AUC: \n",
      "0.7111862496477881\n",
      "\n"
     ]
    },
    {
     "name": "stderr",
     "output_type": "stream",
     "text": [
      "[I 2019-08-23 08:26:17,375] Finished trial#188 resulted in value: -0.7111862496477881. Current best value is -0.7609185686108763 with parameters: {'num': 3, 'learning_rate': 0.001266353214511663, 'activation': 'tanh', 'alpha': 4.076434130077479, 'b1': 0.572556381375883, 'b2': 0.6671373762833999, 'n1': 49, 'n2': 57, 'n3': 174}.\n"
     ]
    },
    {
     "name": "stdout",
     "output_type": "stream",
     "text": [
      "len: 211 , 211\n",
      "confusion_matrix: \n",
      "[[147.  22.]\n",
      " [ 22.  20.]]\n",
      "AUC: \n",
      "0.5724147647224571\n",
      "\n"
     ]
    },
    {
     "name": "stderr",
     "output_type": "stream",
     "text": [
      "[I 2019-08-23 08:26:23,625] Finished trial#189 resulted in value: -0.5724147647224571. Current best value is -0.7609185686108763 with parameters: {'num': 3, 'learning_rate': 0.001266353214511663, 'activation': 'tanh', 'alpha': 4.076434130077479, 'b1': 0.572556381375883, 'b2': 0.6671373762833999, 'n1': 49, 'n2': 57, 'n3': 174}.\n"
     ]
    },
    {
     "name": "stdout",
     "output_type": "stream",
     "text": [
      "len: 211 , 211\n",
      "confusion_matrix: \n",
      "[[153.  16.]\n",
      " [ 16.  26.]]\n",
      "AUC: \n",
      "0.6665257819103974\n",
      "\n"
     ]
    },
    {
     "name": "stderr",
     "output_type": "stream",
     "text": [
      "[I 2019-08-23 08:26:30,856] Finished trial#190 resulted in value: -0.6665257819103974. Current best value is -0.7609185686108763 with parameters: {'num': 3, 'learning_rate': 0.001266353214511663, 'activation': 'tanh', 'alpha': 4.076434130077479, 'b1': 0.572556381375883, 'b2': 0.6671373762833999, 'n1': 49, 'n2': 57, 'n3': 174}.\n"
     ]
    },
    {
     "name": "stdout",
     "output_type": "stream",
     "text": [
      "len: 211 , 211\n",
      "confusion_matrix: \n",
      "[[150.  19.]\n",
      " [ 19.  23.]]\n",
      "AUC: \n",
      "0.7302056917441533\n",
      "\n"
     ]
    },
    {
     "name": "stderr",
     "output_type": "stream",
     "text": [
      "[I 2019-08-23 08:26:45,954] Finished trial#191 resulted in value: -0.7302056917441533. Current best value is -0.7609185686108763 with parameters: {'num': 3, 'learning_rate': 0.001266353214511663, 'activation': 'tanh', 'alpha': 4.076434130077479, 'b1': 0.572556381375883, 'b2': 0.6671373762833999, 'n1': 49, 'n2': 57, 'n3': 174}.\n"
     ]
    },
    {
     "name": "stdout",
     "output_type": "stream",
     "text": [
      "len: 211 , 211\n",
      "confusion_matrix: \n",
      "[[149.  20.]\n",
      " [ 20.  22.]]\n",
      "AUC: \n",
      "0.6801916032685262\n",
      "\n"
     ]
    },
    {
     "name": "stderr",
     "output_type": "stream",
     "text": [
      "[I 2019-08-23 08:26:56,122] Finished trial#192 resulted in value: -0.6801916032685262. Current best value is -0.7609185686108763 with parameters: {'num': 3, 'learning_rate': 0.001266353214511663, 'activation': 'tanh', 'alpha': 4.076434130077479, 'b1': 0.572556381375883, 'b2': 0.6671373762833999, 'n1': 49, 'n2': 57, 'n3': 174}.\n"
     ]
    },
    {
     "name": "stdout",
     "output_type": "stream",
     "text": [
      "len: 211 , 211\n",
      "confusion_matrix: \n",
      "[[145.  24.]\n",
      " [ 24.  18.]]\n",
      "AUC: \n",
      "0.6120033812341505\n",
      "\n"
     ]
    },
    {
     "name": "stderr",
     "output_type": "stream",
     "text": [
      "[I 2019-08-23 08:27:03,936] Finished trial#193 resulted in value: -0.6120033812341505. Current best value is -0.7609185686108763 with parameters: {'num': 3, 'learning_rate': 0.001266353214511663, 'activation': 'tanh', 'alpha': 4.076434130077479, 'b1': 0.572556381375883, 'b2': 0.6671373762833999, 'n1': 49, 'n2': 57, 'n3': 174}.\n"
     ]
    },
    {
     "name": "stdout",
     "output_type": "stream",
     "text": [
      "len: 211 , 211\n",
      "confusion_matrix: \n",
      "[[149.  20.]\n",
      " [ 20.  22.]]\n",
      "AUC: \n",
      "0.682304874612567\n",
      "\n"
     ]
    },
    {
     "name": "stderr",
     "output_type": "stream",
     "text": [
      "[I 2019-08-23 08:27:16,825] Finished trial#194 resulted in value: -0.682304874612567. Current best value is -0.7609185686108763 with parameters: {'num': 3, 'learning_rate': 0.001266353214511663, 'activation': 'tanh', 'alpha': 4.076434130077479, 'b1': 0.572556381375883, 'b2': 0.6671373762833999, 'n1': 49, 'n2': 57, 'n3': 174}.\n"
     ]
    },
    {
     "name": "stdout",
     "output_type": "stream",
     "text": [
      "len: 211 , 211\n",
      "confusion_matrix: \n",
      "[[147.  22.]\n",
      " [ 22.  20.]]\n",
      "AUC: \n",
      "0.6925894618202311\n",
      "\n"
     ]
    },
    {
     "name": "stderr",
     "output_type": "stream",
     "text": [
      "[I 2019-08-23 08:27:24,532] Finished trial#195 resulted in value: -0.6925894618202311. Current best value is -0.7609185686108763 with parameters: {'num': 3, 'learning_rate': 0.001266353214511663, 'activation': 'tanh', 'alpha': 4.076434130077479, 'b1': 0.572556381375883, 'b2': 0.6671373762833999, 'n1': 49, 'n2': 57, 'n3': 174}.\n"
     ]
    },
    {
     "name": "stdout",
     "output_type": "stream",
     "text": [
      "len: 211 , 211\n",
      "confusion_matrix: \n",
      "[[151.  18.]\n",
      " [ 18.  24.]]\n",
      "AUC: \n",
      "0.7455621301775147\n",
      "\n"
     ]
    },
    {
     "name": "stderr",
     "output_type": "stream",
     "text": [
      "[I 2019-08-23 08:27:37,098] Finished trial#196 resulted in value: -0.7455621301775147. Current best value is -0.7609185686108763 with parameters: {'num': 3, 'learning_rate': 0.001266353214511663, 'activation': 'tanh', 'alpha': 4.076434130077479, 'b1': 0.572556381375883, 'b2': 0.6671373762833999, 'n1': 49, 'n2': 57, 'n3': 174}.\n"
     ]
    },
    {
     "name": "stdout",
     "output_type": "stream",
     "text": [
      "len: 211 , 211\n",
      "confusion_matrix: \n",
      "[[152.  17.]\n",
      " [ 17.  25.]]\n",
      "AUC: \n",
      "0.7295012679628063\n",
      "\n"
     ]
    },
    {
     "name": "stderr",
     "output_type": "stream",
     "text": [
      "[I 2019-08-23 08:27:51,117] Finished trial#197 resulted in value: -0.7295012679628063. Current best value is -0.7609185686108763 with parameters: {'num': 3, 'learning_rate': 0.001266353214511663, 'activation': 'tanh', 'alpha': 4.076434130077479, 'b1': 0.572556381375883, 'b2': 0.6671373762833999, 'n1': 49, 'n2': 57, 'n3': 174}.\n"
     ]
    },
    {
     "name": "stdout",
     "output_type": "stream",
     "text": [
      "len: 211 , 211\n",
      "confusion_matrix: \n",
      "[[149.  20.]\n",
      " [ 20.  22.]]\n",
      "AUC: \n",
      "0.7272471118624965\n",
      "\n"
     ]
    },
    {
     "name": "stderr",
     "output_type": "stream",
     "text": [
      "[I 2019-08-23 08:28:11,185] Finished trial#198 resulted in value: -0.7272471118624965. Current best value is -0.7609185686108763 with parameters: {'num': 3, 'learning_rate': 0.001266353214511663, 'activation': 'tanh', 'alpha': 4.076434130077479, 'b1': 0.572556381375883, 'b2': 0.6671373762833999, 'n1': 49, 'n2': 57, 'n3': 174}.\n"
     ]
    },
    {
     "name": "stdout",
     "output_type": "stream",
     "text": [
      "len: 211 , 211\n",
      "confusion_matrix: \n",
      "[[147.  22.]\n",
      " [ 22.  20.]]\n",
      "AUC: \n",
      "0.6344040574809806\n",
      "\n"
     ]
    },
    {
     "name": "stderr",
     "output_type": "stream",
     "text": [
      "[I 2019-08-23 08:28:18,880] Finished trial#199 resulted in value: -0.6344040574809806. Current best value is -0.7609185686108763 with parameters: {'num': 3, 'learning_rate': 0.001266353214511663, 'activation': 'tanh', 'alpha': 4.076434130077479, 'b1': 0.572556381375883, 'b2': 0.6671373762833999, 'n1': 49, 'n2': 57, 'n3': 174}.\n"
     ]
    },
    {
     "name": "stdout",
     "output_type": "stream",
     "text": [
      "FrozenTrial(number=140, state=<TrialState.COMPLETE: 1>, value=-0.7609185686108763, datetime_start=datetime.datetime(2019, 8, 23, 8, 18, 47, 997092), datetime_complete=datetime.datetime(2019, 8, 23, 8, 18, 58, 205873), params={'num': 3, 'learning_rate': 0.001266353214511663, 'activation': 'tanh', 'alpha': 4.076434130077479, 'b1': 0.572556381375883, 'b2': 0.6671373762833999, 'n1': 49, 'n2': 57, 'n3': 174}, distributions={'num': IntUniformDistribution(low=1, high=5), 'learning_rate': UniformDistribution(low=0.001, high=0.1), 'activation': CategoricalDistribution(choices=('logistic', 'tanh', 'relu')), 'alpha': UniformDistribution(low=0, high=5), 'b1': UniformDistribution(low=0, high=1), 'b2': UniformDistribution(low=0, high=1), 'n1': IntUniformDistribution(low=3, high=200), 'n2': IntUniformDistribution(low=3, high=200), 'n3': IntUniformDistribution(low=3, high=200)}, user_attrs={}, system_attrs={'_number': 140}, intermediate_values={}, params_in_internal_repr={'num': 3.0, 'learning_rate': 0.001266353214511663, 'activation': 1, 'alpha': 4.076434130077479, 'b1': 0.572556381375883, 'b2': 0.6671373762833999, 'n1': 49.0, 'n2': 57.0, 'n3': 174.0}, trial_id=140)\n"
     ]
    }
   ],
   "source": [
    "main()"
   ]
  },
  {
   "cell_type": "code",
   "execution_count": null,
   "metadata": {},
   "outputs": [],
   "source": []
  },
  {
   "cell_type": "code",
   "execution_count": 46,
   "metadata": {},
   "outputs": [
    {
     "data": {
      "text/plain": [
       "\"\\n# 学習\\n        mlp = MLPRegressor(hidden_layer_sizes=(num,),\\n                           activation='relu',\\n                           solver='adam',\\n                           alpha=0.001,\\n                           batch_size='auto',\\n                           learning_rate='constant', \\n                           learning_rate_init=0.01, \\n                           power_t=0.5, \\n                           max_iter=1000, \\n                           shuffle=True,\\n                           random_state=None, \\n                           tol=0.0001, \\n                           verbose=False, \\n                           warm_start=False, \\n                           momentum=0.9,\\n                           nesterovs_momentum=True, \\n                           early_stopping=False, \\n                           validation_fraction=0.1, \\n                           beta_1=0.9, \\n                           beta_2=0.999,\\n                           epsilon=1e-08,\\n                           )\\n    \\n#Current best value is -0.7364046210200056 with parameters: {'num': 143}.\\n\""
      ]
     },
     "execution_count": 46,
     "metadata": {},
     "output_type": "execute_result"
    }
   ],
   "source": [
    "\"\"\"\n",
    "# 学習\n",
    "        mlp = MLPRegressor(hidden_layer_sizes=(num,),\n",
    "                           activation='relu',\n",
    "                           solver='adam',\n",
    "                           alpha=0.001,\n",
    "                           batch_size='auto',\n",
    "                           learning_rate='constant', \n",
    "                           learning_rate_init=0.01, \n",
    "                           power_t=0.5, \n",
    "                           max_iter=1000, \n",
    "                           shuffle=True,\n",
    "                           random_state=None, \n",
    "                           tol=0.0001, \n",
    "                           verbose=False, \n",
    "                           warm_start=False, \n",
    "                           momentum=0.9,\n",
    "                           nesterovs_momentum=True, \n",
    "                           early_stopping=False, \n",
    "                           validation_fraction=0.1, \n",
    "                           beta_1=0.9, \n",
    "                           beta_2=0.999,\n",
    "                           epsilon=1e-08,\n",
    "                           )\n",
    "    \n",
    "#Current best value is -0.7364046210200056 with parameters: {'num': 143}.\n",
    "\n",
    "\n",
    "#2\n",
    "\n",
    "best value is -0.7609185686108763 \n",
    "with parameters: {'num': 3, 'learning_rate': 0.001266353214511663, 'activation': 'tanh', 'alpha': 4.076434130077479, 'b1': 0.572556381375883, 'b2': 0.6671373762833999, 'n1': 49, 'n2': 57, 'n3': 174}.\n",
    "\"\"\""
   ]
  },
  {
   "cell_type": "code",
   "execution_count": null,
   "metadata": {},
   "outputs": [],
   "source": []
  }
 ],
 "metadata": {
  "kernelspec": {
   "display_name": "Python 3",
   "language": "python",
   "name": "python3"
  },
  "language_info": {
   "codemirror_mode": {
    "name": "ipython",
    "version": 3
   },
   "file_extension": ".py",
   "mimetype": "text/x-python",
   "name": "python",
   "nbconvert_exporter": "python",
   "pygments_lexer": "ipython3",
   "version": "3.6.8"
  }
 },
 "nbformat": 4,
 "nbformat_minor": 2
}
