{
 "cells": [
  {
   "cell_type": "code",
   "execution_count": 16,
   "metadata": {},
   "outputs": [],
   "source": [
    "import numpy as np\n",
    "import json\n",
    "import csv\n",
    "import pandas as pd\n",
    "import matplotlib.pyplot as plt\n",
    "\n",
    "from sklearn.neural_network import MLPRegressor, MLPClassifier\n",
    "import optuna\n",
    "\n",
    "from sklearn.metrics import confusion_matrix, roc_auc_score, roc_curve\n",
    "from sklearn.preprocessing import StandardScaler\n",
    "%matplotlib inline"
   ]
  },
  {
   "cell_type": "code",
   "execution_count": 17,
   "metadata": {},
   "outputs": [],
   "source": [
    "def load_data(y):\n",
    "    path = '../../data/std_data/'\n",
    "    x_train_std = pd.read_pickle(path +'train/{}_x.pkl'.format(str(y))).values\n",
    "    x_test_std = pd.read_pickle(path +'test/{}_x.pkl'.format(str(y))).values\n",
    "    y_train = pd.read_pickle(path +'train/{}_y.pkl'.format(str(y))).values\n",
    "    y_test = pd.read_pickle(path +'test/{}_y.pkl'.format(str(y))).values\n",
    "    features = pd.read_pickle(path +'train/{}_x.pkl'.format(str(y))).columns\n",
    "    return x_train_std, x_test_std, y_train, y_test, features"
   ]
  },
  {
   "cell_type": "code",
   "execution_count": 18,
   "metadata": {},
   "outputs": [],
   "source": [
    "def plot_roc_curve(fpr, tpr, auc):\n",
    "    # ROC曲線をプロット\n",
    "    plt.plot(fpr, tpr, label='ROC curve (area = %.2f)'%auc)\n",
    "    plt.legend()\n",
    "    plt.title('ROC curve')\n",
    "    plt.xlabel('False Positive Rate')\n",
    "    plt.ylabel('True Positive Rate')\n",
    "    plt.grid(True)\n",
    "    plt.show()"
   ]
  },
  {
   "cell_type": "code",
   "execution_count": 19,
   "metadata": {},
   "outputs": [],
   "source": [
    "def train(trial):\n",
    "    \n",
    "    h_num = trial.suggest_int('num', 1, 5)\n",
    "    learning_rate = trial.suggest_uniform(\"learning_rate\", 0.001, 0.01)\n",
    "    activation = trial.suggest_categorical('activation', [ 'tanh', 'relu'])\n",
    "    alpha = trial.suggest_uniform(\"alpha\", 0, 5)\n",
    "    cm_all = np.zeros((2, 2))\n",
    "    b1 = trial.suggest_uniform(\"b1\", 0, 1)\n",
    "    b2 = trial.suggest_uniform(\"b2\", 0, 1)\n",
    "    \n",
    "    # 予測した確率全体を格納\n",
    "    probs_all = np.array([])\n",
    "    y_true_all = np.array([])\n",
    "    \n",
    "    for y in range(1978, 2020):\n",
    "        \n",
    "        # データの生成\n",
    "        x_train_std, x_test_std, y_train, y_test, features = load_data(y)\n",
    "        \n",
    "        # 学習\n",
    "        \n",
    "        if h_num == 1:\n",
    "            n1 = trial.suggest_int('n1', 3, 200)\n",
    "            mlp = MLPRegressor(hidden_layer_sizes=(n1,),\n",
    "                               activation=activation,\n",
    "                               solver='adam',\n",
    "                               alpha=alpha,\n",
    "                               batch_size='auto',\n",
    "                               learning_rate='constant', \n",
    "                               learning_rate_init=learning_rate, \n",
    "                               power_t=0.5, \n",
    "                               max_iter=1000, \n",
    "                               shuffle=True,\n",
    "                               random_state=0, \n",
    "                               tol=0.0001, \n",
    "                               verbose=False, \n",
    "                               warm_start=False, \n",
    "                               momentum=0.9,\n",
    "                               nesterovs_momentum=True, \n",
    "                               early_stopping=False, \n",
    "                               validation_fraction=0.1, \n",
    "                               beta_1=b1, \n",
    "                               beta_2=b2,\n",
    "                               epsilon=1e-08,\n",
    "                               )\n",
    "        elif h_num == 2:\n",
    "            n1 = trial.suggest_int('n1', 3, 100)\n",
    "            n2 = trial.suggest_int('n1', 3, 100)\n",
    "            mlp = MLPRegressor(hidden_layer_sizes=(n1,n2),\n",
    "                           activation=activation,\n",
    "                           solver='adam',\n",
    "                           alpha=alpha,\n",
    "                           batch_size='auto',\n",
    "                           learning_rate='constant', \n",
    "                           learning_rate_init=learning_rate, \n",
    "                           power_t=0.5, \n",
    "                           max_iter=1000, \n",
    "                           shuffle=True,\n",
    "                           random_state=0, \n",
    "                           tol=0.0001, \n",
    "                           verbose=False, \n",
    "                           warm_start=False, \n",
    "                           momentum=0.9,\n",
    "                           nesterovs_momentum=True, \n",
    "                           early_stopping=False, \n",
    "                           validation_fraction=0.1, \n",
    "                           beta_1=b1, \n",
    "                           beta_2=b2,\n",
    "                           epsilon=1e-08,\n",
    "                           )\n",
    "        elif h_num == 3:\n",
    "            n1 = trial.suggest_int('n1', 3, 200)\n",
    "            n2 = trial.suggest_int('n2', 3, 200)\n",
    "            n3 = trial.suggest_int('n3', 3, 200)\n",
    "            mlp = MLPRegressor(hidden_layer_sizes=(n1,),\n",
    "                           activation=activation,\n",
    "                           solver='adam',\n",
    "                           alpha=alpha,\n",
    "                           batch_size='auto',\n",
    "                           learning_rate='constant', \n",
    "                           learning_rate_init=learning_rate, \n",
    "                           power_t=0.5, \n",
    "                           max_iter=1000, \n",
    "                           shuffle=True,\n",
    "                           random_state=0, \n",
    "                           tol=0.0001, \n",
    "                           verbose=False, \n",
    "                           warm_start=False, \n",
    "                           momentum=0.9,\n",
    "                           nesterovs_momentum=True, \n",
    "                           early_stopping=False, \n",
    "                           validation_fraction=0.1, \n",
    "                           beta_1=b1, \n",
    "                           beta_2=b2,\n",
    "                           epsilon=1e-08,\n",
    "                           )\n",
    "        elif h_num == 4:\n",
    "            n1 = trial.suggest_int('n1', 3, 200)\n",
    "            n2 = trial.suggest_int('n2', 3, 200)\n",
    "            n3 = trial.suggest_int('n3', 3, 200)\n",
    "            n4 = trial.suggest_int('n4', 3, 200)\n",
    "            mlp = MLPRegressor(hidden_layer_sizes=(n1,n2,n3,n4,),\n",
    "                           activation=activation,\n",
    "                           solver='adam',\n",
    "                           alpha=alpha,\n",
    "                           batch_size='auto',\n",
    "                           learning_rate='constant', \n",
    "                           learning_rate_init=learning_rate, \n",
    "                           power_t=0.5, \n",
    "                           max_iter=1000, \n",
    "                           shuffle=True,\n",
    "                           random_state=0, \n",
    "                           tol=0.0001, \n",
    "                           verbose=False, \n",
    "                           warm_start=False, \n",
    "                           momentum=0.9,\n",
    "                           nesterovs_momentum=True, \n",
    "                           early_stopping=False, \n",
    "                           validation_fraction=0.1, \n",
    "                           beta_1=b1, \n",
    "                           beta_2=b2,\n",
    "                           epsilon=1e-08,\n",
    "                           )\n",
    "        else:\n",
    "            n1 = trial.suggest_int('n1', 3, 200)\n",
    "            n2 = trial.suggest_int('n2', 3, 200)\n",
    "            n3 = trial.suggest_int('n3', 3, 200)\n",
    "            n4 = trial.suggest_int('n4', 3, 200)\n",
    "            n5 = trial.suggest_int('n5', 3, 200)\n",
    "            mlp = MLPRegressor(hidden_layer_sizes=(n1,n2,n3,n4,n5),\n",
    "                               activation=activation,\n",
    "                               solver='adam',\n",
    "                               alpha=alpha,\n",
    "                               batch_size='auto',\n",
    "                               learning_rate='constant', \n",
    "                               learning_rate_init=learning_rate, \n",
    "                               power_t=0.5, \n",
    "                               max_iter=1000, \n",
    "                               shuffle=True,\n",
    "                               random_state=0, \n",
    "                               tol=0.0001, \n",
    "                               verbose=False, \n",
    "                               warm_start=False, \n",
    "                               momentum=0.9,\n",
    "                               nesterovs_momentum=True, \n",
    "                               early_stopping=False, \n",
    "                               validation_fraction=0.1, \n",
    "                               beta_1=b1, \n",
    "                               beta_2=b2,\n",
    "                               epsilon=1e-08,\n",
    "                               )\n",
    "\n",
    "        mlp.fit(x_train_std, y_train) \n",
    "        \n",
    "        # 予測(確率)\n",
    "        probs = mlp.predict(x_test_std)\n",
    "        probs_all = np.hstack((probs_all, probs))\n",
    "        y_true_all = np.hstack((y_true_all, y_test))\n",
    "        \n",
    "\n",
    "        # 混同行列\n",
    "        y_pred = np.where((probs ==  max(probs)) , 1, 0) #確率→0/1\n",
    "        cm = confusion_matrix(y_true=y_test, y_pred=y_pred)\n",
    "        cm_all += cm\n",
    "        \n",
    "\n",
    "    auc = roc_auc_score(y_true_all, probs_all)\n",
    "    fpr, tpr, thresholds = roc_curve(y_true_all, probs_all)\n",
    "    \n",
    "#     plot_roc_curve(fpr, tpr, auc)\n",
    "    \n",
    "    print(\"len: {0} , {1}\".format(len(y_true_all), len(probs_all) ))\n",
    "    print(\"confusion_matrix: \")\n",
    "    print(cm_all)\n",
    "    print(\"AUC: \")\n",
    "    print(auc)\n",
    "    print()\n",
    "    return -auc"
   ]
  },
  {
   "cell_type": "code",
   "execution_count": 20,
   "metadata": {},
   "outputs": [],
   "source": [
    "from sklearn.utils.testing import ignore_warnings\n",
    "from sklearn.exceptions import ConvergenceWarning\n",
    "@ignore_warnings(category=ConvergenceWarning)\n",
    "def main():\n",
    "    np.set_printoptions(precision=3, suppress=True)\n",
    "    study = optuna.create_study()\n",
    "    study.optimize(train, n_trials=100)\n",
    "    print(study.best_trial)"
   ]
  },
  {
   "cell_type": "code",
   "execution_count": 21,
   "metadata": {},
   "outputs": [
    {
     "name": "stdout",
     "output_type": "stream",
     "text": [
      "len: 211 , 211\n",
      "confusion_matrix: \n",
      "[[144.  25.]\n",
      " [ 25.  17.]]\n",
      "AUC: \n",
      "0.719921104536489\n",
      "\n"
     ]
    },
    {
     "name": "stderr",
     "output_type": "stream",
     "text": [
      "[I 2019-08-23 13:27:45,331] Finished trial#0 resulted in value: -0.719921104536489. Current best value is -0.719921104536489 with parameters: {'learning_rate': 0.0028232552344198253, 'activation': 'relu', 'alpha': 3.66555629036959, 'b1': 0.038879443635787214, 'b2': 0.9953324818522404}.\n"
     ]
    },
    {
     "name": "stdout",
     "output_type": "stream",
     "text": [
      "len: 211 , 211\n",
      "confusion_matrix: \n",
      "[[149.  20.]\n",
      " [ 20.  22.]]\n",
      "AUC: \n",
      "0.7187940264863342\n",
      "\n"
     ]
    },
    {
     "name": "stderr",
     "output_type": "stream",
     "text": [
      "[I 2019-08-23 13:27:59,392] Finished trial#1 resulted in value: -0.7187940264863342. Current best value is -0.719921104536489 with parameters: {'learning_rate': 0.0028232552344198253, 'activation': 'relu', 'alpha': 3.66555629036959, 'b1': 0.038879443635787214, 'b2': 0.9953324818522404}.\n"
     ]
    },
    {
     "name": "stdout",
     "output_type": "stream",
     "text": [
      "len: 211 , 211\n",
      "confusion_matrix: \n",
      "[[146.  23.]\n",
      " [ 23.  19.]]\n",
      "AUC: \n",
      "0.6479289940828402\n",
      "\n"
     ]
    },
    {
     "name": "stderr",
     "output_type": "stream",
     "text": [
      "[I 2019-08-23 13:28:03,256] Finished trial#2 resulted in value: -0.6479289940828402. Current best value is -0.719921104536489 with parameters: {'learning_rate': 0.0028232552344198253, 'activation': 'relu', 'alpha': 3.66555629036959, 'b1': 0.038879443635787214, 'b2': 0.9953324818522404}.\n"
     ]
    },
    {
     "name": "stdout",
     "output_type": "stream",
     "text": [
      "len: 211 , 211\n",
      "confusion_matrix: \n",
      "[[146.  23.]\n",
      " [ 23.  19.]]\n",
      "AUC: \n",
      "0.6875176105945335\n",
      "\n"
     ]
    },
    {
     "name": "stderr",
     "output_type": "stream",
     "text": [
      "[I 2019-08-23 13:28:08,646] Finished trial#3 resulted in value: -0.6875176105945335. Current best value is -0.719921104536489 with parameters: {'learning_rate': 0.0028232552344198253, 'activation': 'relu', 'alpha': 3.66555629036959, 'b1': 0.038879443635787214, 'b2': 0.9953324818522404}.\n"
     ]
    },
    {
     "name": "stdout",
     "output_type": "stream",
     "text": [
      "len: 211 , 211\n",
      "confusion_matrix: \n",
      "[[149.  20.]\n",
      " [ 20.  22.]]\n",
      "AUC: \n",
      "0.704705550859397\n",
      "\n"
     ]
    },
    {
     "name": "stderr",
     "output_type": "stream",
     "text": [
      "[I 2019-08-23 13:28:13,514] Finished trial#4 resulted in value: -0.704705550859397. Current best value is -0.719921104536489 with parameters: {'learning_rate': 0.0028232552344198253, 'activation': 'relu', 'alpha': 3.66555629036959, 'b1': 0.038879443635787214, 'b2': 0.9953324818522404}.\n"
     ]
    },
    {
     "name": "stdout",
     "output_type": "stream",
     "text": [
      "len: 211 , 211\n",
      "confusion_matrix: \n",
      "[[144.  25.]\n",
      " [ 25.  17.]]\n",
      "AUC: \n",
      "0.5818540433925049\n",
      "\n"
     ]
    },
    {
     "name": "stderr",
     "output_type": "stream",
     "text": [
      "[I 2019-08-23 13:28:17,977] Finished trial#5 resulted in value: -0.5818540433925049. Current best value is -0.719921104536489 with parameters: {'learning_rate': 0.0028232552344198253, 'activation': 'relu', 'alpha': 3.66555629036959, 'b1': 0.038879443635787214, 'b2': 0.9953324818522404}.\n"
     ]
    },
    {
     "name": "stdout",
     "output_type": "stream",
     "text": [
      "len: 211 , 211\n",
      "confusion_matrix: \n",
      "[[147.  22.]\n",
      " [ 22.  20.]]\n",
      "AUC: \n",
      "0.7234432234432234\n",
      "\n"
     ]
    },
    {
     "name": "stderr",
     "output_type": "stream",
     "text": [
      "[I 2019-08-23 13:28:22,330] Finished trial#6 resulted in value: -0.7234432234432234. Current best value is -0.7234432234432234 with parameters: {'learning_rate': 0.008265008191826642, 'activation': 'relu', 'alpha': 3.2848233135260156, 'b1': 0.02722150526215411, 'b2': 0.5801501103552589}.\n"
     ]
    },
    {
     "name": "stdout",
     "output_type": "stream",
     "text": [
      "len: 211 , 211\n",
      "confusion_matrix: \n",
      "[[147.  22.]\n",
      " [ 22.  20.]]\n",
      "AUC: \n",
      "0.6947027331642717\n",
      "\n"
     ]
    },
    {
     "name": "stderr",
     "output_type": "stream",
     "text": [
      "[I 2019-08-23 13:28:26,743] Finished trial#7 resulted in value: -0.6947027331642717. Current best value is -0.7234432234432234 with parameters: {'learning_rate': 0.008265008191826642, 'activation': 'relu', 'alpha': 3.2848233135260156, 'b1': 0.02722150526215411, 'b2': 0.5801501103552589}.\n"
     ]
    },
    {
     "name": "stdout",
     "output_type": "stream",
     "text": [
      "len: 211 , 211\n",
      "confusion_matrix: \n",
      "[[147.  22.]\n",
      " [ 22.  20.]]\n",
      "AUC: \n",
      "0.6755424063116371\n",
      "\n"
     ]
    },
    {
     "name": "stderr",
     "output_type": "stream",
     "text": [
      "[I 2019-08-23 13:28:32,145] Finished trial#8 resulted in value: -0.6755424063116371. Current best value is -0.7234432234432234 with parameters: {'learning_rate': 0.008265008191826642, 'activation': 'relu', 'alpha': 3.2848233135260156, 'b1': 0.02722150526215411, 'b2': 0.5801501103552589}.\n"
     ]
    },
    {
     "name": "stdout",
     "output_type": "stream",
     "text": [
      "len: 211 , 211\n",
      "confusion_matrix: \n",
      "[[147.  22.]\n",
      " [ 22.  20.]]\n",
      "AUC: \n",
      "0.7234432234432234\n",
      "\n"
     ]
    },
    {
     "name": "stderr",
     "output_type": "stream",
     "text": [
      "[I 2019-08-23 13:28:44,849] Finished trial#9 resulted in value: -0.7234432234432234. Current best value is -0.7234432234432234 with parameters: {'learning_rate': 0.008265008191826642, 'activation': 'relu', 'alpha': 3.2848233135260156, 'b1': 0.02722150526215411, 'b2': 0.5801501103552589}.\n"
     ]
    },
    {
     "name": "stdout",
     "output_type": "stream",
     "text": [
      "len: 211 , 211\n",
      "confusion_matrix: \n",
      "[[145.  24.]\n",
      " [ 24.  18.]]\n",
      "AUC: \n",
      "0.628909551986475\n",
      "\n"
     ]
    },
    {
     "name": "stderr",
     "output_type": "stream",
     "text": [
      "[I 2019-08-23 13:28:48,634] Finished trial#10 resulted in value: -0.628909551986475. Current best value is -0.7234432234432234 with parameters: {'learning_rate': 0.008265008191826642, 'activation': 'relu', 'alpha': 3.2848233135260156, 'b1': 0.02722150526215411, 'b2': 0.5801501103552589}.\n"
     ]
    },
    {
     "name": "stdout",
     "output_type": "stream",
     "text": [
      "len: 211 , 211\n",
      "confusion_matrix: \n",
      "[[149.  20.]\n",
      " [ 20.  22.]]\n",
      "AUC: \n",
      "0.7207664130741054\n",
      "\n"
     ]
    },
    {
     "name": "stderr",
     "output_type": "stream",
     "text": [
      "[I 2019-08-23 13:29:07,269] Finished trial#11 resulted in value: -0.7207664130741054. Current best value is -0.7234432234432234 with parameters: {'learning_rate': 0.008265008191826642, 'activation': 'relu', 'alpha': 3.2848233135260156, 'b1': 0.02722150526215411, 'b2': 0.5801501103552589}.\n"
     ]
    },
    {
     "name": "stdout",
     "output_type": "stream",
     "text": [
      "len: 211 , 211\n",
      "confusion_matrix: \n",
      "[[146.  23.]\n",
      " [ 23.  19.]]\n",
      "AUC: \n",
      "0.6610312764158919\n",
      "\n"
     ]
    },
    {
     "name": "stderr",
     "output_type": "stream",
     "text": [
      "[I 2019-08-23 13:29:13,863] Finished trial#12 resulted in value: -0.6610312764158919. Current best value is -0.7234432234432234 with parameters: {'learning_rate': 0.008265008191826642, 'activation': 'relu', 'alpha': 3.2848233135260156, 'b1': 0.02722150526215411, 'b2': 0.5801501103552589}.\n"
     ]
    },
    {
     "name": "stdout",
     "output_type": "stream",
     "text": [
      "len: 211 , 211\n",
      "confusion_matrix: \n",
      "[[149.  20.]\n",
      " [ 20.  22.]]\n",
      "AUC: \n",
      "0.7102000563539026\n",
      "\n"
     ]
    },
    {
     "name": "stderr",
     "output_type": "stream",
     "text": [
      "[I 2019-08-23 13:29:22,129] Finished trial#13 resulted in value: -0.7102000563539026. Current best value is -0.7234432234432234 with parameters: {'learning_rate': 0.008265008191826642, 'activation': 'relu', 'alpha': 3.2848233135260156, 'b1': 0.02722150526215411, 'b2': 0.5801501103552589}.\n"
     ]
    },
    {
     "name": "stdout",
     "output_type": "stream",
     "text": [
      "len: 211 , 211\n",
      "confusion_matrix: \n",
      "[[149.  20.]\n",
      " [ 20.  22.]]\n",
      "AUC: \n",
      "0.7254156100309948\n",
      "\n"
     ]
    },
    {
     "name": "stderr",
     "output_type": "stream",
     "text": [
      "[I 2019-08-23 13:29:27,541] Finished trial#14 resulted in value: -0.7254156100309948. Current best value is -0.7254156100309948 with parameters: {'learning_rate': 0.005642365572365525, 'activation': 'relu', 'alpha': 4.007362539205505, 'b1': 0.09650437453763912, 'b2': 0.5882888138810874}.\n"
     ]
    },
    {
     "name": "stdout",
     "output_type": "stream",
     "text": [
      "len: 211 , 211\n",
      "confusion_matrix: \n",
      "[[150.  19.]\n",
      " [ 19.  23.]]\n",
      "AUC: \n",
      "0.706959706959707\n",
      "\n"
     ]
    },
    {
     "name": "stderr",
     "output_type": "stream",
     "text": [
      "[I 2019-08-23 13:29:33,325] Finished trial#15 resulted in value: -0.706959706959707. Current best value is -0.7254156100309948 with parameters: {'learning_rate': 0.005642365572365525, 'activation': 'relu', 'alpha': 4.007362539205505, 'b1': 0.09650437453763912, 'b2': 0.5882888138810874}.\n"
     ]
    },
    {
     "name": "stdout",
     "output_type": "stream",
     "text": [
      "len: 211 , 211\n",
      "confusion_matrix: \n",
      "[[145.  24.]\n",
      " [ 24.  18.]]\n",
      "AUC: \n",
      "0.6258100873485488\n",
      "\n"
     ]
    },
    {
     "name": "stderr",
     "output_type": "stream",
     "text": [
      "[I 2019-08-23 13:29:37,508] Finished trial#16 resulted in value: -0.6258100873485488. Current best value is -0.7254156100309948 with parameters: {'learning_rate': 0.005642365572365525, 'activation': 'relu', 'alpha': 4.007362539205505, 'b1': 0.09650437453763912, 'b2': 0.5882888138810874}.\n"
     ]
    },
    {
     "name": "stdout",
     "output_type": "stream",
     "text": [
      "len: 211 , 211\n",
      "confusion_matrix: \n",
      "[[148.  21.]\n",
      " [ 21.  21.]]\n",
      "AUC: \n",
      "0.6803324880247957\n",
      "\n"
     ]
    },
    {
     "name": "stderr",
     "output_type": "stream",
     "text": [
      "[I 2019-08-23 13:29:41,423] Finished trial#17 resulted in value: -0.6803324880247957. Current best value is -0.7254156100309948 with parameters: {'learning_rate': 0.005642365572365525, 'activation': 'relu', 'alpha': 4.007362539205505, 'b1': 0.09650437453763912, 'b2': 0.5882888138810874}.\n"
     ]
    },
    {
     "name": "stdout",
     "output_type": "stream",
     "text": [
      "len: 211 , 211\n",
      "confusion_matrix: \n",
      "[[147.  22.]\n",
      " [ 22.  20.]]\n",
      "AUC: \n",
      "0.7156945618484082\n",
      "\n"
     ]
    },
    {
     "name": "stderr",
     "output_type": "stream",
     "text": [
      "[I 2019-08-23 13:29:46,702] Finished trial#18 resulted in value: -0.7156945618484082. Current best value is -0.7254156100309948 with parameters: {'learning_rate': 0.005642365572365525, 'activation': 'relu', 'alpha': 4.007362539205505, 'b1': 0.09650437453763912, 'b2': 0.5882888138810874}.\n"
     ]
    },
    {
     "name": "stdout",
     "output_type": "stream",
     "text": [
      "len: 211 , 211\n",
      "confusion_matrix: \n",
      "[[151.  18.]\n",
      " [ 18.  24.]]\n",
      "AUC: \n",
      "0.7561284868977176\n",
      "\n"
     ]
    },
    {
     "name": "stderr",
     "output_type": "stream",
     "text": [
      "[I 2019-08-23 13:29:55,964] Finished trial#19 resulted in value: -0.7561284868977176. Current best value is -0.7561284868977176 with parameters: {'learning_rate': 0.00202771218912465, 'activation': 'relu', 'alpha': 4.740004893279064, 'b1': 0.09778235835807104, 'b2': 0.7139323152613933}.\n"
     ]
    },
    {
     "name": "stdout",
     "output_type": "stream",
     "text": [
      "len: 211 , 211\n",
      "confusion_matrix: \n",
      "[[151.  18.]\n",
      " [ 18.  24.]]\n",
      "AUC: \n",
      "0.7106227106227105\n",
      "\n"
     ]
    },
    {
     "name": "stderr",
     "output_type": "stream",
     "text": [
      "[I 2019-08-23 13:30:02,648] Finished trial#20 resulted in value: -0.7106227106227105. Current best value is -0.7561284868977176 with parameters: {'learning_rate': 0.00202771218912465, 'activation': 'relu', 'alpha': 4.740004893279064, 'b1': 0.09778235835807104, 'b2': 0.7139323152613933}.\n"
     ]
    },
    {
     "name": "stdout",
     "output_type": "stream",
     "text": [
      "len: 211 , 211\n",
      "confusion_matrix: \n",
      "[[152.  17.]\n",
      " [ 17.  25.]]\n",
      "AUC: \n",
      "0.7588052972668358\n",
      "\n"
     ]
    },
    {
     "name": "stderr",
     "output_type": "stream",
     "text": [
      "[I 2019-08-23 13:30:11,777] Finished trial#21 resulted in value: -0.7588052972668358. Current best value is -0.7588052972668358 with parameters: {'learning_rate': 0.0022536839524469384, 'activation': 'relu', 'alpha': 5.376270732153549, 'b1': 0.0903419480770873, 'b2': 0.6012326808327763}.\n"
     ]
    },
    {
     "name": "stdout",
     "output_type": "stream",
     "text": [
      "len: 211 , 211\n",
      "confusion_matrix: \n",
      "[[152.  17.]\n",
      " [ 17.  25.]]\n",
      "AUC: \n",
      "0.766131304592843\n",
      "\n"
     ]
    },
    {
     "name": "stderr",
     "output_type": "stream",
     "text": [
      "[I 2019-08-23 13:30:20,422] Finished trial#22 resulted in value: -0.766131304592843. Current best value is -0.766131304592843 with parameters: {'learning_rate': 0.0022264612910597587, 'activation': 'relu', 'alpha': 5.425807395842627, 'b1': 0.09028966606375599, 'b2': 0.6971455755678891}.\n"
     ]
    },
    {
     "name": "stdout",
     "output_type": "stream",
     "text": [
      "len: 211 , 211\n",
      "confusion_matrix: \n",
      "[[151.  18.]\n",
      " [ 18.  24.]]\n",
      "AUC: \n",
      "0.7533107917723302\n",
      "\n"
     ]
    },
    {
     "name": "stderr",
     "output_type": "stream",
     "text": [
      "[I 2019-08-23 13:30:29,010] Finished trial#23 resulted in value: -0.7533107917723302. Current best value is -0.766131304592843 with parameters: {'learning_rate': 0.0022264612910597587, 'activation': 'relu', 'alpha': 5.425807395842627, 'b1': 0.09028966606375599, 'b2': 0.6971455755678891}.\n"
     ]
    },
    {
     "name": "stdout",
     "output_type": "stream",
     "text": [
      "len: 211 , 211\n",
      "confusion_matrix: \n",
      "[[152.  17.]\n",
      " [ 17.  25.]]\n",
      "AUC: \n",
      "0.7593688362919132\n",
      "\n"
     ]
    },
    {
     "name": "stderr",
     "output_type": "stream",
     "text": [
      "[I 2019-08-23 13:30:38,005] Finished trial#24 resulted in value: -0.7593688362919132. Current best value is -0.766131304592843 with parameters: {'learning_rate': 0.0022264612910597587, 'activation': 'relu', 'alpha': 5.425807395842627, 'b1': 0.09028966606375599, 'b2': 0.6971455755678891}.\n"
     ]
    },
    {
     "name": "stdout",
     "output_type": "stream",
     "text": [
      "len: 211 , 211\n",
      "confusion_matrix: \n",
      "[[151.  18.]\n",
      " [ 18.  24.]]\n",
      "AUC: \n",
      "0.7358410819949281\n",
      "\n"
     ]
    },
    {
     "name": "stderr",
     "output_type": "stream",
     "text": [
      "[I 2019-08-23 13:31:03,980] Finished trial#25 resulted in value: -0.7358410819949281. Current best value is -0.766131304592843 with parameters: {'learning_rate': 0.0022264612910597587, 'activation': 'relu', 'alpha': 5.425807395842627, 'b1': 0.09028966606375599, 'b2': 0.6971455755678891}.\n"
     ]
    },
    {
     "name": "stdout",
     "output_type": "stream",
     "text": [
      "len: 211 , 211\n",
      "confusion_matrix: \n",
      "[[149.  20.]\n",
      " [ 20.  22.]]\n",
      "AUC: \n",
      "0.664553395322626\n",
      "\n"
     ]
    },
    {
     "name": "stderr",
     "output_type": "stream",
     "text": [
      "[I 2019-08-23 13:31:10,654] Finished trial#26 resulted in value: -0.664553395322626. Current best value is -0.766131304592843 with parameters: {'learning_rate': 0.0022264612910597587, 'activation': 'relu', 'alpha': 5.425807395842627, 'b1': 0.09028966606375599, 'b2': 0.6971455755678891}.\n"
     ]
    },
    {
     "name": "stdout",
     "output_type": "stream",
     "text": [
      "len: 211 , 211\n",
      "confusion_matrix: \n",
      "[[148.  21.]\n",
      " [ 21.  21.]]\n",
      "AUC: \n",
      "0.7128768667230206\n",
      "\n"
     ]
    },
    {
     "name": "stderr",
     "output_type": "stream",
     "text": [
      "[I 2019-08-23 13:31:38,176] Finished trial#27 resulted in value: -0.7128768667230206. Current best value is -0.766131304592843 with parameters: {'learning_rate': 0.0022264612910597587, 'activation': 'relu', 'alpha': 5.425807395842627, 'b1': 0.09028966606375599, 'b2': 0.6971455755678891}.\n"
     ]
    },
    {
     "name": "stdout",
     "output_type": "stream",
     "text": [
      "len: 211 , 211\n",
      "confusion_matrix: \n",
      "[[149.  20.]\n",
      " [ 20.  22.]]\n",
      "AUC: \n",
      "0.7671174978867287\n",
      "\n"
     ]
    },
    {
     "name": "stderr",
     "output_type": "stream",
     "text": [
      "[I 2019-08-23 13:31:46,745] Finished trial#28 resulted in value: -0.7671174978867287. Current best value is -0.7671174978867287 with parameters: {'learning_rate': 0.0024441559729751136, 'activation': 'relu', 'alpha': 5.0641700042655655, 'b1': 0.08319112397907055, 'b2': 0.6654145580250477}.\n"
     ]
    },
    {
     "name": "stdout",
     "output_type": "stream",
     "text": [
      "len: 211 , 211\n",
      "confusion_matrix: \n",
      "[[149.  20.]\n",
      " [ 20.  22.]]\n",
      "AUC: \n",
      "0.7435897435897436\n",
      "\n"
     ]
    },
    {
     "name": "stderr",
     "output_type": "stream",
     "text": [
      "[I 2019-08-23 13:31:54,492] Finished trial#29 resulted in value: -0.7435897435897436. Current best value is -0.7671174978867287 with parameters: {'learning_rate': 0.0024441559729751136, 'activation': 'relu', 'alpha': 5.0641700042655655, 'b1': 0.08319112397907055, 'b2': 0.6654145580250477}.\n"
     ]
    },
    {
     "name": "stdout",
     "output_type": "stream",
     "text": [
      "len: 211 , 211\n",
      "confusion_matrix: \n",
      "[[151.  18.]\n",
      " [ 18.  24.]]\n",
      "AUC: \n",
      "0.7479571710340942\n",
      "\n"
     ]
    },
    {
     "name": "stderr",
     "output_type": "stream",
     "text": [
      "[I 2019-08-23 13:32:05,354] Finished trial#30 resulted in value: -0.7479571710340942. Current best value is -0.7671174978867287 with parameters: {'learning_rate': 0.0024441559729751136, 'activation': 'relu', 'alpha': 5.0641700042655655, 'b1': 0.08319112397907055, 'b2': 0.6654145580250477}.\n"
     ]
    },
    {
     "name": "stdout",
     "output_type": "stream",
     "text": [
      "len: 211 , 211\n",
      "confusion_matrix: \n",
      "[[151.  18.]\n",
      " [ 18.  24.]]\n",
      "AUC: \n",
      "0.7506339814032122\n",
      "\n"
     ]
    },
    {
     "name": "stderr",
     "output_type": "stream",
     "text": [
      "[I 2019-08-23 13:32:15,542] Finished trial#31 resulted in value: -0.7506339814032122. Current best value is -0.7671174978867287 with parameters: {'learning_rate': 0.0024441559729751136, 'activation': 'relu', 'alpha': 5.0641700042655655, 'b1': 0.08319112397907055, 'b2': 0.6654145580250477}.\n"
     ]
    },
    {
     "name": "stdout",
     "output_type": "stream",
     "text": [
      "len: 211 , 211\n",
      "confusion_matrix: \n",
      "[[150.  19.]\n",
      " [ 19.  23.]]\n",
      "AUC: \n",
      "0.7151310228233305\n",
      "\n"
     ]
    },
    {
     "name": "stderr",
     "output_type": "stream",
     "text": [
      "[I 2019-08-23 13:32:21,886] Finished trial#32 resulted in value: -0.7151310228233305. Current best value is -0.7671174978867287 with parameters: {'learning_rate': 0.0024441559729751136, 'activation': 'relu', 'alpha': 5.0641700042655655, 'b1': 0.08319112397907055, 'b2': 0.6654145580250477}.\n"
     ]
    },
    {
     "name": "stdout",
     "output_type": "stream",
     "text": [
      "len: 211 , 211\n",
      "confusion_matrix: \n",
      "[[152.  17.]\n",
      " [ 17.  25.]]\n",
      "AUC: \n",
      "0.7565511411665258\n",
      "\n"
     ]
    },
    {
     "name": "stderr",
     "output_type": "stream",
     "text": [
      "[I 2019-08-23 13:32:38,298] Finished trial#33 resulted in value: -0.7565511411665258. Current best value is -0.7671174978867287 with parameters: {'learning_rate': 0.0024441559729751136, 'activation': 'relu', 'alpha': 5.0641700042655655, 'b1': 0.08319112397907055, 'b2': 0.6654145580250477}.\n"
     ]
    },
    {
     "name": "stdout",
     "output_type": "stream",
     "text": [
      "len: 211 , 211\n",
      "confusion_matrix: \n",
      "[[150.  19.]\n",
      " [ 19.  23.]]\n",
      "AUC: \n",
      "0.7630318399549169\n",
      "\n"
     ]
    },
    {
     "name": "stderr",
     "output_type": "stream",
     "text": [
      "[I 2019-08-23 13:32:47,536] Finished trial#34 resulted in value: -0.7630318399549169. Current best value is -0.7671174978867287 with parameters: {'learning_rate': 0.0024441559729751136, 'activation': 'relu', 'alpha': 5.0641700042655655, 'b1': 0.08319112397907055, 'b2': 0.6654145580250477}.\n"
     ]
    },
    {
     "name": "stdout",
     "output_type": "stream",
     "text": [
      "len: 211 , 211\n",
      "confusion_matrix: \n",
      "[[147.  22.]\n",
      " [ 22.  20.]]\n",
      "AUC: \n",
      "0.6744153282614822\n",
      "\n"
     ]
    },
    {
     "name": "stderr",
     "output_type": "stream",
     "text": [
      "[I 2019-08-23 13:32:53,796] Finished trial#35 resulted in value: -0.6744153282614822. Current best value is -0.7671174978867287 with parameters: {'learning_rate': 0.0024441559729751136, 'activation': 'relu', 'alpha': 5.0641700042655655, 'b1': 0.08319112397907055, 'b2': 0.6654145580250477}.\n"
     ]
    },
    {
     "name": "stdout",
     "output_type": "stream",
     "text": [
      "len: 211 , 211\n",
      "confusion_matrix: \n",
      "[[151.  18.]\n",
      " [ 18.  24.]]\n",
      "AUC: \n",
      "0.753592561284869\n",
      "\n"
     ]
    },
    {
     "name": "stderr",
     "output_type": "stream",
     "text": [
      "[I 2019-08-23 13:33:04,670] Finished trial#36 resulted in value: -0.753592561284869. Current best value is -0.7671174978867287 with parameters: {'learning_rate': 0.0024441559729751136, 'activation': 'relu', 'alpha': 5.0641700042655655, 'b1': 0.08319112397907055, 'b2': 0.6654145580250477}.\n"
     ]
    },
    {
     "name": "stdout",
     "output_type": "stream",
     "text": [
      "len: 211 , 211\n",
      "confusion_matrix: \n",
      "[[151.  18.]\n",
      " [ 18.  24.]]\n",
      "AUC: \n",
      "0.7538743307974077\n",
      "\n"
     ]
    },
    {
     "name": "stderr",
     "output_type": "stream",
     "text": [
      "[I 2019-08-23 13:33:12,768] Finished trial#37 resulted in value: -0.7538743307974077. Current best value is -0.7671174978867287 with parameters: {'learning_rate': 0.0024441559729751136, 'activation': 'relu', 'alpha': 5.0641700042655655, 'b1': 0.08319112397907055, 'b2': 0.6654145580250477}.\n"
     ]
    },
    {
     "name": "stdout",
     "output_type": "stream",
     "text": [
      "len: 211 , 211\n",
      "confusion_matrix: \n",
      "[[149.  20.]\n",
      " [ 20.  22.]]\n",
      "AUC: \n",
      "0.7338686954071569\n",
      "\n"
     ]
    },
    {
     "name": "stderr",
     "output_type": "stream",
     "text": [
      "[I 2019-08-23 13:33:27,411] Finished trial#38 resulted in value: -0.7338686954071569. Current best value is -0.7671174978867287 with parameters: {'learning_rate': 0.0024441559729751136, 'activation': 'relu', 'alpha': 5.0641700042655655, 'b1': 0.08319112397907055, 'b2': 0.6654145580250477}.\n"
     ]
    },
    {
     "name": "stdout",
     "output_type": "stream",
     "text": [
      "len: 211 , 211\n",
      "confusion_matrix: \n",
      "[[149.  20.]\n",
      " [ 20.  22.]]\n",
      "AUC: \n",
      "0.6821639898562976\n",
      "\n"
     ]
    },
    {
     "name": "stderr",
     "output_type": "stream",
     "text": [
      "[I 2019-08-23 13:33:35,396] Finished trial#39 resulted in value: -0.6821639898562976. Current best value is -0.7671174978867287 with parameters: {'learning_rate': 0.0024441559729751136, 'activation': 'relu', 'alpha': 5.0641700042655655, 'b1': 0.08319112397907055, 'b2': 0.6654145580250477}.\n"
     ]
    },
    {
     "name": "stdout",
     "output_type": "stream",
     "text": [
      "len: 211 , 211\n",
      "confusion_matrix: \n",
      "[[150.  19.]\n",
      " [ 19.  23.]]\n",
      "AUC: \n",
      "0.7482389405466328\n",
      "\n"
     ]
    },
    {
     "name": "stderr",
     "output_type": "stream",
     "text": [
      "[I 2019-08-23 13:33:43,463] Finished trial#40 resulted in value: -0.7482389405466328. Current best value is -0.7671174978867287 with parameters: {'learning_rate': 0.0024441559729751136, 'activation': 'relu', 'alpha': 5.0641700042655655, 'b1': 0.08319112397907055, 'b2': 0.6654145580250477}.\n"
     ]
    },
    {
     "name": "stdout",
     "output_type": "stream",
     "text": [
      "len: 211 , 211\n",
      "confusion_matrix: \n",
      "[[151.  18.]\n",
      " [ 18.  24.]]\n",
      "AUC: \n",
      "0.7521837137221752\n",
      "\n"
     ]
    },
    {
     "name": "stderr",
     "output_type": "stream",
     "text": [
      "[I 2019-08-23 13:33:52,699] Finished trial#41 resulted in value: -0.7521837137221752. Current best value is -0.7671174978867287 with parameters: {'learning_rate': 0.0024441559729751136, 'activation': 'relu', 'alpha': 5.0641700042655655, 'b1': 0.08319112397907055, 'b2': 0.6654145580250477}.\n"
     ]
    },
    {
     "name": "stdout",
     "output_type": "stream",
     "text": [
      "len: 211 , 211\n",
      "confusion_matrix: \n",
      "[[151.  18.]\n",
      " [ 18.  24.]]\n",
      "AUC: \n",
      "0.7519019442096365\n",
      "\n"
     ]
    },
    {
     "name": "stderr",
     "output_type": "stream",
     "text": [
      "[I 2019-08-23 13:34:03,909] Finished trial#42 resulted in value: -0.7519019442096365. Current best value is -0.7671174978867287 with parameters: {'learning_rate': 0.0024441559729751136, 'activation': 'relu', 'alpha': 5.0641700042655655, 'b1': 0.08319112397907055, 'b2': 0.6654145580250477}.\n"
     ]
    },
    {
     "name": "stdout",
     "output_type": "stream",
     "text": [
      "len: 211 , 211\n",
      "confusion_matrix: \n",
      "[[147.  22.]\n",
      " [ 22.  20.]]\n",
      "AUC: \n",
      "0.7366863905325444\n",
      "\n"
     ]
    },
    {
     "name": "stderr",
     "output_type": "stream",
     "text": [
      "[I 2019-08-23 13:34:21,414] Finished trial#43 resulted in value: -0.7366863905325444. Current best value is -0.7671174978867287 with parameters: {'learning_rate': 0.0024441559729751136, 'activation': 'relu', 'alpha': 5.0641700042655655, 'b1': 0.08319112397907055, 'b2': 0.6654145580250477}.\n"
     ]
    },
    {
     "name": "stdout",
     "output_type": "stream",
     "text": [
      "len: 211 , 211\n",
      "confusion_matrix: \n",
      "[[151.  18.]\n",
      " [ 18.  24.]]\n",
      "AUC: \n",
      "0.7617638771484925\n",
      "\n"
     ]
    },
    {
     "name": "stderr",
     "output_type": "stream",
     "text": [
      "[I 2019-08-23 13:34:30,113] Finished trial#44 resulted in value: -0.7617638771484925. Current best value is -0.7671174978867287 with parameters: {'learning_rate': 0.0024441559729751136, 'activation': 'relu', 'alpha': 5.0641700042655655, 'b1': 0.08319112397907055, 'b2': 0.6654145580250477}.\n"
     ]
    },
    {
     "name": "stdout",
     "output_type": "stream",
     "text": [
      "len: 211 , 211\n",
      "confusion_matrix: \n",
      "[[150.  19.]\n",
      " [ 19.  23.]]\n",
      "AUC: \n",
      "0.7061143984220908\n",
      "\n"
     ]
    },
    {
     "name": "stderr",
     "output_type": "stream",
     "text": [
      "[I 2019-08-23 13:34:36,648] Finished trial#45 resulted in value: -0.7061143984220908. Current best value is -0.7671174978867287 with parameters: {'learning_rate': 0.0024441559729751136, 'activation': 'relu', 'alpha': 5.0641700042655655, 'b1': 0.08319112397907055, 'b2': 0.6654145580250477}.\n"
     ]
    },
    {
     "name": "stdout",
     "output_type": "stream",
     "text": [
      "len: 211 , 211\n",
      "confusion_matrix: \n",
      "[[147.  22.]\n",
      " [ 22.  20.]]\n",
      "AUC: \n",
      "0.6624401239785855\n",
      "\n"
     ]
    },
    {
     "name": "stderr",
     "output_type": "stream",
     "text": [
      "[I 2019-08-23 13:34:42,031] Finished trial#46 resulted in value: -0.6624401239785855. Current best value is -0.7671174978867287 with parameters: {'learning_rate': 0.0024441559729751136, 'activation': 'relu', 'alpha': 5.0641700042655655, 'b1': 0.08319112397907055, 'b2': 0.6654145580250477}.\n"
     ]
    },
    {
     "name": "stdout",
     "output_type": "stream",
     "text": [
      "len: 211 , 211\n",
      "confusion_matrix: \n",
      "[[149.  20.]\n",
      " [ 20.  22.]]\n",
      "AUC: \n",
      "0.7223161453930683\n",
      "\n"
     ]
    },
    {
     "name": "stderr",
     "output_type": "stream",
     "text": [
      "[I 2019-08-23 13:34:50,385] Finished trial#47 resulted in value: -0.7223161453930683. Current best value is -0.7671174978867287 with parameters: {'learning_rate': 0.0024441559729751136, 'activation': 'relu', 'alpha': 5.0641700042655655, 'b1': 0.08319112397907055, 'b2': 0.6654145580250477}.\n"
     ]
    },
    {
     "name": "stdout",
     "output_type": "stream",
     "text": [
      "len: 211 , 211\n",
      "confusion_matrix: \n",
      "[[148.  21.]\n",
      " [ 21.  21.]]\n",
      "AUC: \n",
      "0.6896308819385742\n",
      "\n"
     ]
    },
    {
     "name": "stderr",
     "output_type": "stream",
     "text": [
      "[I 2019-08-23 13:34:56,640] Finished trial#48 resulted in value: -0.6896308819385742. Current best value is -0.7671174978867287 with parameters: {'learning_rate': 0.0024441559729751136, 'activation': 'relu', 'alpha': 5.0641700042655655, 'b1': 0.08319112397907055, 'b2': 0.6654145580250477}.\n"
     ]
    },
    {
     "name": "stdout",
     "output_type": "stream",
     "text": [
      "len: 211 , 211\n",
      "confusion_matrix: \n",
      "[[149.  20.]\n",
      " [ 20.  22.]]\n",
      "AUC: \n",
      "0.7140039447731755\n",
      "\n"
     ]
    },
    {
     "name": "stderr",
     "output_type": "stream",
     "text": [
      "[I 2019-08-23 13:35:11,812] Finished trial#49 resulted in value: -0.7140039447731755. Current best value is -0.7671174978867287 with parameters: {'learning_rate': 0.0024441559729751136, 'activation': 'relu', 'alpha': 5.0641700042655655, 'b1': 0.08319112397907055, 'b2': 0.6654145580250477}.\n"
     ]
    },
    {
     "name": "stdout",
     "output_type": "stream",
     "text": [
      "len: 211 , 211\n",
      "confusion_matrix: \n",
      "[[149.  20.]\n",
      " [ 20.  22.]]\n",
      "AUC: \n",
      "0.7273879966187659\n",
      "\n"
     ]
    },
    {
     "name": "stderr",
     "output_type": "stream",
     "text": [
      "[I 2019-08-23 13:35:21,201] Finished trial#50 resulted in value: -0.7273879966187659. Current best value is -0.7671174978867287 with parameters: {'learning_rate': 0.0024441559729751136, 'activation': 'relu', 'alpha': 5.0641700042655655, 'b1': 0.08319112397907055, 'b2': 0.6654145580250477}.\n"
     ]
    },
    {
     "name": "stdout",
     "output_type": "stream",
     "text": [
      "len: 211 , 211\n",
      "confusion_matrix: \n",
      "[[150.  19.]\n",
      " [ 19.  23.]]\n",
      "AUC: \n",
      "0.7690898844744998\n",
      "\n"
     ]
    },
    {
     "name": "stderr",
     "output_type": "stream",
     "text": [
      "[I 2019-08-23 13:35:31,234] Finished trial#51 resulted in value: -0.7690898844744998. Current best value is -0.7690898844744998 with parameters: {'learning_rate': 0.0024037056425601847, 'activation': 'relu', 'alpha': 5.449696380346478, 'b1': 0.08917467824708776, 'b2': 0.6577391457787247}.\n"
     ]
    },
    {
     "name": "stdout",
     "output_type": "stream",
     "text": [
      "len: 211 , 211\n",
      "confusion_matrix: \n",
      "[[153.  16.]\n",
      " [ 16.  26.]]\n",
      "AUC: \n",
      "0.7510566356720202\n",
      "\n"
     ]
    },
    {
     "name": "stderr",
     "output_type": "stream",
     "text": [
      "[I 2019-08-23 13:35:43,176] Finished trial#52 resulted in value: -0.7510566356720202. Current best value is -0.7690898844744998 with parameters: {'learning_rate': 0.0024037056425601847, 'activation': 'relu', 'alpha': 5.449696380346478, 'b1': 0.08917467824708776, 'b2': 0.6577391457787247}.\n"
     ]
    },
    {
     "name": "stdout",
     "output_type": "stream",
     "text": [
      "len: 211 , 211\n",
      "confusion_matrix: \n",
      "[[149.  20.]\n",
      " [ 20.  22.]]\n",
      "AUC: \n",
      "0.7321780783319244\n",
      "\n"
     ]
    },
    {
     "name": "stderr",
     "output_type": "stream",
     "text": [
      "[I 2019-08-23 13:35:50,855] Finished trial#53 resulted in value: -0.7321780783319244. Current best value is -0.7690898844744998 with parameters: {'learning_rate': 0.0024037056425601847, 'activation': 'relu', 'alpha': 5.449696380346478, 'b1': 0.08917467824708776, 'b2': 0.6577391457787247}.\n"
     ]
    },
    {
     "name": "stdout",
     "output_type": "stream",
     "text": [
      "len: 211 , 211\n",
      "confusion_matrix: \n",
      "[[150.  19.]\n",
      " [ 19.  23.]]\n",
      "AUC: \n",
      "0.7359819667511975\n",
      "\n"
     ]
    },
    {
     "name": "stderr",
     "output_type": "stream",
     "text": [
      "[I 2019-08-23 13:36:11,848] Finished trial#54 resulted in value: -0.7359819667511975. Current best value is -0.7690898844744998 with parameters: {'learning_rate': 0.0024037056425601847, 'activation': 'relu', 'alpha': 5.449696380346478, 'b1': 0.08917467824708776, 'b2': 0.6577391457787247}.\n"
     ]
    },
    {
     "name": "stdout",
     "output_type": "stream",
     "text": [
      "len: 211 , 211\n",
      "confusion_matrix: \n",
      "[[152.  17.]\n",
      " [ 17.  25.]]\n",
      "AUC: \n",
      "0.7735981966751198\n",
      "\n"
     ]
    },
    {
     "name": "stderr",
     "output_type": "stream",
     "text": [
      "[I 2019-08-23 13:36:20,889] Finished trial#55 resulted in value: -0.7735981966751198. Current best value is -0.7735981966751198 with parameters: {'learning_rate': 0.0019618411261182116, 'activation': 'relu', 'alpha': 5.7096647428948835, 'b1': 0.07855155246302625, 'b2': 0.7767114116445253}.\n"
     ]
    },
    {
     "name": "stdout",
     "output_type": "stream",
     "text": [
      "len: 211 , 211\n",
      "confusion_matrix: \n",
      "[[149.  20.]\n",
      " [ 20.  22.]]\n",
      "AUC: \n",
      "0.7510566356720203\n",
      "\n"
     ]
    },
    {
     "name": "stderr",
     "output_type": "stream",
     "text": [
      "[I 2019-08-23 13:36:29,092] Finished trial#56 resulted in value: -0.7510566356720203. Current best value is -0.7735981966751198 with parameters: {'learning_rate': 0.0019618411261182116, 'activation': 'relu', 'alpha': 5.7096647428948835, 'b1': 0.07855155246302625, 'b2': 0.7767114116445253}.\n"
     ]
    },
    {
     "name": "stdout",
     "output_type": "stream",
     "text": [
      "len: 211 , 211\n",
      "confusion_matrix: \n",
      "[[150.  19.]\n",
      " [ 19.  23.]]\n",
      "AUC: \n",
      "0.7586644125105663\n",
      "\n"
     ]
    },
    {
     "name": "stderr",
     "output_type": "stream",
     "text": [
      "[I 2019-08-23 13:36:36,897] Finished trial#57 resulted in value: -0.7586644125105663. Current best value is -0.7735981966751198 with parameters: {'learning_rate': 0.0019618411261182116, 'activation': 'relu', 'alpha': 5.7096647428948835, 'b1': 0.07855155246302625, 'b2': 0.7767114116445253}.\n"
     ]
    },
    {
     "name": "stdout",
     "output_type": "stream",
     "text": [
      "len: 211 , 211\n",
      "confusion_matrix: \n",
      "[[151.  18.]\n",
      " [ 18.  24.]]\n",
      "AUC: \n",
      "0.7593688362919132\n",
      "\n"
     ]
    },
    {
     "name": "stderr",
     "output_type": "stream",
     "text": [
      "[I 2019-08-23 13:36:45,948] Finished trial#58 resulted in value: -0.7593688362919132. Current best value is -0.7735981966751198 with parameters: {'learning_rate': 0.0019618411261182116, 'activation': 'relu', 'alpha': 5.7096647428948835, 'b1': 0.07855155246302625, 'b2': 0.7767114116445253}.\n"
     ]
    },
    {
     "name": "stdout",
     "output_type": "stream",
     "text": [
      "len: 211 , 211\n",
      "confusion_matrix: \n",
      "[[146.  23.]\n",
      " [ 23.  19.]]\n",
      "AUC: \n",
      "0.6766694843617921\n",
      "\n"
     ]
    },
    {
     "name": "stderr",
     "output_type": "stream",
     "text": [
      "[I 2019-08-23 13:36:52,160] Finished trial#59 resulted in value: -0.6766694843617921. Current best value is -0.7735981966751198 with parameters: {'learning_rate': 0.0019618411261182116, 'activation': 'relu', 'alpha': 5.7096647428948835, 'b1': 0.07855155246302625, 'b2': 0.7767114116445253}.\n"
     ]
    },
    {
     "name": "stdout",
     "output_type": "stream",
     "text": [
      "len: 211 , 211\n",
      "confusion_matrix: \n",
      "[[149.  20.]\n",
      " [ 20.  22.]]\n",
      "AUC: \n",
      "0.6966751197520429\n",
      "\n"
     ]
    },
    {
     "name": "stderr",
     "output_type": "stream",
     "text": [
      "[I 2019-08-23 13:36:59,047] Finished trial#60 resulted in value: -0.6966751197520429. Current best value is -0.7735981966751198 with parameters: {'learning_rate': 0.0019618411261182116, 'activation': 'relu', 'alpha': 5.7096647428948835, 'b1': 0.07855155246302625, 'b2': 0.7767114116445253}.\n"
     ]
    },
    {
     "name": "stdout",
     "output_type": "stream",
     "text": [
      "len: 211 , 211\n",
      "confusion_matrix: \n",
      "[[151.  18.]\n",
      " [ 18.  24.]]\n",
      "AUC: \n",
      "0.7503522118906735\n",
      "\n"
     ]
    },
    {
     "name": "stderr",
     "output_type": "stream",
     "text": [
      "[I 2019-08-23 13:37:08,426] Finished trial#61 resulted in value: -0.7503522118906735. Current best value is -0.7735981966751198 with parameters: {'learning_rate': 0.0019618411261182116, 'activation': 'relu', 'alpha': 5.7096647428948835, 'b1': 0.07855155246302625, 'b2': 0.7767114116445253}.\n"
     ]
    },
    {
     "name": "stdout",
     "output_type": "stream",
     "text": [
      "len: 211 , 211\n",
      "confusion_matrix: \n",
      "[[151.  18.]\n",
      " [ 18.  24.]]\n",
      "AUC: \n",
      "0.7242885319808396\n",
      "\n"
     ]
    },
    {
     "name": "stderr",
     "output_type": "stream",
     "text": [
      "[I 2019-08-23 13:37:15,545] Finished trial#62 resulted in value: -0.7242885319808396. Current best value is -0.7735981966751198 with parameters: {'learning_rate': 0.0019618411261182116, 'activation': 'relu', 'alpha': 5.7096647428948835, 'b1': 0.07855155246302625, 'b2': 0.7767114116445253}.\n"
     ]
    },
    {
     "name": "stdout",
     "output_type": "stream",
     "text": [
      "len: 211 , 211\n",
      "confusion_matrix: \n",
      "[[151.  18.]\n",
      " [ 18.  24.]]\n",
      "AUC: \n",
      "0.7358410819949283\n",
      "\n"
     ]
    },
    {
     "name": "stderr",
     "output_type": "stream",
     "text": [
      "[I 2019-08-23 13:37:27,555] Finished trial#63 resulted in value: -0.7358410819949283. Current best value is -0.7735981966751198 with parameters: {'learning_rate': 0.0019618411261182116, 'activation': 'relu', 'alpha': 5.7096647428948835, 'b1': 0.07855155246302625, 'b2': 0.7767114116445253}.\n"
     ]
    },
    {
     "name": "stdout",
     "output_type": "stream",
     "text": [
      "len: 211 , 211\n",
      "confusion_matrix: \n",
      "[[150.  19.]\n",
      " [ 19.  23.]]\n",
      "AUC: \n",
      "0.7527472527472526\n",
      "\n"
     ]
    },
    {
     "name": "stderr",
     "output_type": "stream",
     "text": [
      "[I 2019-08-23 13:37:36,009] Finished trial#64 resulted in value: -0.7527472527472526. Current best value is -0.7735981966751198 with parameters: {'learning_rate': 0.0019618411261182116, 'activation': 'relu', 'alpha': 5.7096647428948835, 'b1': 0.07855155246302625, 'b2': 0.7767114116445253}.\n"
     ]
    },
    {
     "name": "stdout",
     "output_type": "stream",
     "text": [
      "len: 211 , 211\n",
      "confusion_matrix: \n",
      "[[152.  17.]\n",
      " [ 17.  25.]]\n",
      "AUC: \n",
      "0.7650042265426881\n",
      "\n"
     ]
    },
    {
     "name": "stderr",
     "output_type": "stream",
     "text": [
      "[I 2019-08-23 13:37:45,510] Finished trial#65 resulted in value: -0.7650042265426881. Current best value is -0.7735981966751198 with parameters: {'learning_rate': 0.0019618411261182116, 'activation': 'relu', 'alpha': 5.7096647428948835, 'b1': 0.07855155246302625, 'b2': 0.7767114116445253}.\n"
     ]
    },
    {
     "name": "stdout",
     "output_type": "stream",
     "text": [
      "len: 211 , 211\n",
      "confusion_matrix: \n",
      "[[149.  20.]\n",
      " [ 20.  22.]]\n",
      "AUC: \n",
      "0.7304874612566921\n",
      "\n"
     ]
    },
    {
     "name": "stderr",
     "output_type": "stream",
     "text": [
      "[I 2019-08-23 13:38:16,156] Finished trial#66 resulted in value: -0.7304874612566921. Current best value is -0.7735981966751198 with parameters: {'learning_rate': 0.0019618411261182116, 'activation': 'relu', 'alpha': 5.7096647428948835, 'b1': 0.07855155246302625, 'b2': 0.7767114116445253}.\n"
     ]
    },
    {
     "name": "stdout",
     "output_type": "stream",
     "text": [
      "len: 211 , 211\n",
      "confusion_matrix: \n",
      "[[150.  19.]\n",
      " [ 19.  23.]]\n",
      "AUC: \n",
      "0.7383770076077768\n",
      "\n"
     ]
    },
    {
     "name": "stderr",
     "output_type": "stream",
     "text": [
      "[I 2019-08-23 13:38:34,540] Finished trial#67 resulted in value: -0.7383770076077768. Current best value is -0.7735981966751198 with parameters: {'learning_rate': 0.0019618411261182116, 'activation': 'relu', 'alpha': 5.7096647428948835, 'b1': 0.07855155246302625, 'b2': 0.7767114116445253}.\n"
     ]
    },
    {
     "name": "stdout",
     "output_type": "stream",
     "text": [
      "len: 211 , 211\n",
      "confusion_matrix: \n",
      "[[147.  22.]\n",
      " [ 22.  20.]]\n",
      "AUC: \n",
      "0.6896308819385742\n",
      "\n"
     ]
    },
    {
     "name": "stderr",
     "output_type": "stream",
     "text": [
      "[I 2019-08-23 13:38:39,189] Finished trial#68 resulted in value: -0.6896308819385742. Current best value is -0.7735981966751198 with parameters: {'learning_rate': 0.0019618411261182116, 'activation': 'relu', 'alpha': 5.7096647428948835, 'b1': 0.07855155246302625, 'b2': 0.7767114116445253}.\n"
     ]
    },
    {
     "name": "stdout",
     "output_type": "stream",
     "text": [
      "len: 211 , 211\n",
      "confusion_matrix: \n",
      "[[151.  18.]\n",
      " [ 18.  24.]]\n",
      "AUC: \n",
      "0.7550014088475626\n",
      "\n"
     ]
    },
    {
     "name": "stderr",
     "output_type": "stream",
     "text": [
      "[I 2019-08-23 13:38:47,665] Finished trial#69 resulted in value: -0.7550014088475626. Current best value is -0.7735981966751198 with parameters: {'learning_rate': 0.0019618411261182116, 'activation': 'relu', 'alpha': 5.7096647428948835, 'b1': 0.07855155246302625, 'b2': 0.7767114116445253}.\n"
     ]
    },
    {
     "name": "stdout",
     "output_type": "stream",
     "text": [
      "len: 211 , 211\n",
      "confusion_matrix: \n",
      "[[149.  20.]\n",
      " [ 20.  22.]]\n",
      "AUC: \n",
      "0.7207664130741053\n",
      "\n"
     ]
    },
    {
     "name": "stderr",
     "output_type": "stream",
     "text": [
      "[I 2019-08-23 13:39:00,761] Finished trial#70 resulted in value: -0.7207664130741053. Current best value is -0.7735981966751198 with parameters: {'learning_rate': 0.0019618411261182116, 'activation': 'relu', 'alpha': 5.7096647428948835, 'b1': 0.07855155246302625, 'b2': 0.7767114116445253}.\n"
     ]
    },
    {
     "name": "stdout",
     "output_type": "stream",
     "text": [
      "len: 211 , 211\n",
      "confusion_matrix: \n",
      "[[151.  18.]\n",
      " [ 18.  24.]]\n",
      "AUC: \n",
      "0.7509157509157509\n",
      "\n"
     ]
    },
    {
     "name": "stderr",
     "output_type": "stream",
     "text": [
      "[I 2019-08-23 13:39:10,089] Finished trial#71 resulted in value: -0.7509157509157509. Current best value is -0.7735981966751198 with parameters: {'learning_rate': 0.0019618411261182116, 'activation': 'relu', 'alpha': 5.7096647428948835, 'b1': 0.07855155246302625, 'b2': 0.7767114116445253}.\n"
     ]
    },
    {
     "name": "stdout",
     "output_type": "stream",
     "text": [
      "len: 211 , 211\n",
      "confusion_matrix: \n",
      "[[150.  19.]\n",
      " [ 19.  23.]]\n",
      "AUC: \n",
      "0.7504930966469429\n",
      "\n"
     ]
    },
    {
     "name": "stderr",
     "output_type": "stream",
     "text": [
      "[I 2019-08-23 13:39:22,342] Finished trial#72 resulted in value: -0.7504930966469429. Current best value is -0.7735981966751198 with parameters: {'learning_rate': 0.0019618411261182116, 'activation': 'relu', 'alpha': 5.7096647428948835, 'b1': 0.07855155246302625, 'b2': 0.7767114116445253}.\n"
     ]
    },
    {
     "name": "stdout",
     "output_type": "stream",
     "text": [
      "len: 211 , 211\n",
      "confusion_matrix: \n",
      "[[150.  19.]\n",
      " [ 19.  23.]]\n",
      "AUC: \n",
      "0.7441532826148212\n",
      "\n"
     ]
    },
    {
     "name": "stderr",
     "output_type": "stream",
     "text": [
      "[I 2019-08-23 13:39:32,462] Finished trial#73 resulted in value: -0.7441532826148212. Current best value is -0.7735981966751198 with parameters: {'learning_rate': 0.0019618411261182116, 'activation': 'relu', 'alpha': 5.7096647428948835, 'b1': 0.07855155246302625, 'b2': 0.7767114116445253}.\n"
     ]
    },
    {
     "name": "stdout",
     "output_type": "stream",
     "text": [
      "len: 211 , 211\n",
      "confusion_matrix: \n",
      "[[152.  17.]\n",
      " [ 17.  25.]]\n",
      "AUC: \n",
      "0.760777683854607\n",
      "\n"
     ]
    },
    {
     "name": "stderr",
     "output_type": "stream",
     "text": [
      "[I 2019-08-23 13:39:49,080] Finished trial#74 resulted in value: -0.760777683854607. Current best value is -0.7735981966751198 with parameters: {'learning_rate': 0.0019618411261182116, 'activation': 'relu', 'alpha': 5.7096647428948835, 'b1': 0.07855155246302625, 'b2': 0.7767114116445253}.\n"
     ]
    },
    {
     "name": "stdout",
     "output_type": "stream",
     "text": [
      "len: 211 , 211\n",
      "confusion_matrix: \n",
      "[[151.  18.]\n",
      " [ 18.  24.]]\n",
      "AUC: \n",
      "0.7513384051845589\n",
      "\n"
     ]
    },
    {
     "name": "stderr",
     "output_type": "stream",
     "text": [
      "[I 2019-08-23 13:40:05,481] Finished trial#75 resulted in value: -0.7513384051845589. Current best value is -0.7735981966751198 with parameters: {'learning_rate': 0.0019618411261182116, 'activation': 'relu', 'alpha': 5.7096647428948835, 'b1': 0.07855155246302625, 'b2': 0.7767114116445253}.\n"
     ]
    },
    {
     "name": "stdout",
     "output_type": "stream",
     "text": [
      "len: 211 , 211\n",
      "confusion_matrix: \n",
      "[[152.  17.]\n",
      " [ 17.  25.]]\n",
      "AUC: \n",
      "0.7637362637362637\n",
      "\n"
     ]
    },
    {
     "name": "stderr",
     "output_type": "stream",
     "text": [
      "[I 2019-08-23 13:40:14,610] Finished trial#76 resulted in value: -0.7637362637362637. Current best value is -0.7735981966751198 with parameters: {'learning_rate': 0.0019618411261182116, 'activation': 'relu', 'alpha': 5.7096647428948835, 'b1': 0.07855155246302625, 'b2': 0.7767114116445253}.\n"
     ]
    },
    {
     "name": "stdout",
     "output_type": "stream",
     "text": [
      "len: 211 , 211\n",
      "confusion_matrix: \n",
      "[[153.  16.]\n",
      " [ 16.  26.]]\n",
      "AUC: \n",
      "0.7676810369118062\n",
      "\n"
     ]
    },
    {
     "name": "stderr",
     "output_type": "stream",
     "text": [
      "[I 2019-08-23 13:40:23,575] Finished trial#77 resulted in value: -0.7676810369118062. Current best value is -0.7735981966751198 with parameters: {'learning_rate': 0.0019618411261182116, 'activation': 'relu', 'alpha': 5.7096647428948835, 'b1': 0.07855155246302625, 'b2': 0.7767114116445253}.\n"
     ]
    },
    {
     "name": "stdout",
     "output_type": "stream",
     "text": [
      "len: 211 , 211\n",
      "confusion_matrix: \n",
      "[[151.  18.]\n",
      " [ 18.  24.]]\n",
      "AUC: \n",
      "0.774443505212736\n",
      "\n"
     ]
    },
    {
     "name": "stderr",
     "output_type": "stream",
     "text": [
      "[I 2019-08-23 13:40:33,026] Finished trial#78 resulted in value: -0.774443505212736. Current best value is -0.774443505212736 with parameters: {'learning_rate': 0.0021664792488726202, 'activation': 'relu', 'alpha': 5.325358168050972, 'b1': 0.07598760385626271, 'b2': 0.7104137109214221}.\n"
     ]
    },
    {
     "name": "stdout",
     "output_type": "stream",
     "text": [
      "len: 211 , 211\n",
      "confusion_matrix: \n",
      "[[149.  20.]\n",
      " [ 20.  22.]]\n",
      "AUC: \n",
      "0.7285150746689208\n",
      "\n"
     ]
    },
    {
     "name": "stderr",
     "output_type": "stream",
     "text": [
      "[I 2019-08-23 13:40:44,635] Finished trial#79 resulted in value: -0.7285150746689208. Current best value is -0.774443505212736 with parameters: {'learning_rate': 0.0021664792488726202, 'activation': 'relu', 'alpha': 5.325358168050972, 'b1': 0.07598760385626271, 'b2': 0.7104137109214221}.\n"
     ]
    },
    {
     "name": "stdout",
     "output_type": "stream",
     "text": [
      "len: 211 , 211\n",
      "confusion_matrix: \n",
      "[[152.  17.]\n",
      " [ 17.  25.]]\n",
      "AUC: \n",
      "0.7652859960552267\n",
      "\n"
     ]
    },
    {
     "name": "stderr",
     "output_type": "stream",
     "text": [
      "[I 2019-08-23 13:40:53,801] Finished trial#80 resulted in value: -0.7652859960552267. Current best value is -0.774443505212736 with parameters: {'learning_rate': 0.0021664792488726202, 'activation': 'relu', 'alpha': 5.325358168050972, 'b1': 0.07598760385626271, 'b2': 0.7104137109214221}.\n"
     ]
    },
    {
     "name": "stdout",
     "output_type": "stream",
     "text": [
      "len: 211 , 211\n",
      "confusion_matrix: \n",
      "[[151.  18.]\n",
      " [ 18.  24.]]\n",
      "AUC: \n",
      "0.7676810369118062\n",
      "\n"
     ]
    },
    {
     "name": "stderr",
     "output_type": "stream",
     "text": [
      "[I 2019-08-23 13:41:03,235] Finished trial#81 resulted in value: -0.7676810369118062. Current best value is -0.774443505212736 with parameters: {'learning_rate': 0.0021664792488726202, 'activation': 'relu', 'alpha': 5.325358168050972, 'b1': 0.07598760385626271, 'b2': 0.7104137109214221}.\n"
     ]
    },
    {
     "name": "stdout",
     "output_type": "stream",
     "text": [
      "len: 211 , 211\n",
      "confusion_matrix: \n",
      "[[150.  19.]\n",
      " [ 19.  23.]]\n",
      "AUC: \n",
      "0.7475345167652861\n",
      "\n"
     ]
    },
    {
     "name": "stderr",
     "output_type": "stream",
     "text": [
      "[I 2019-08-23 13:41:11,270] Finished trial#82 resulted in value: -0.7475345167652861. Current best value is -0.774443505212736 with parameters: {'learning_rate': 0.0021664792488726202, 'activation': 'relu', 'alpha': 5.325358168050972, 'b1': 0.07598760385626271, 'b2': 0.7104137109214221}.\n"
     ]
    },
    {
     "name": "stdout",
     "output_type": "stream",
     "text": [
      "len: 211 , 211\n",
      "confusion_matrix: \n",
      "[[151.  18.]\n",
      " [ 18.  24.]]\n",
      "AUC: \n",
      "0.7521837137221752\n",
      "\n"
     ]
    },
    {
     "name": "stderr",
     "output_type": "stream",
     "text": [
      "[I 2019-08-23 13:41:22,682] Finished trial#83 resulted in value: -0.7521837137221752. Current best value is -0.774443505212736 with parameters: {'learning_rate': 0.0021664792488726202, 'activation': 'relu', 'alpha': 5.325358168050972, 'b1': 0.07598760385626271, 'b2': 0.7104137109214221}.\n"
     ]
    },
    {
     "name": "stdout",
     "output_type": "stream",
     "text": [
      "len: 211 , 211\n",
      "confusion_matrix: \n",
      "[[152.  17.]\n",
      " [ 17.  25.]]\n",
      "AUC: \n",
      "0.7676810369118061\n",
      "\n"
     ]
    },
    {
     "name": "stderr",
     "output_type": "stream",
     "text": [
      "[I 2019-08-23 13:41:32,912] Finished trial#84 resulted in value: -0.7676810369118061. Current best value is -0.774443505212736 with parameters: {'learning_rate': 0.0021664792488726202, 'activation': 'relu', 'alpha': 5.325358168050972, 'b1': 0.07598760385626271, 'b2': 0.7104137109214221}.\n"
     ]
    },
    {
     "name": "stdout",
     "output_type": "stream",
     "text": [
      "len: 211 , 211\n",
      "confusion_matrix: \n",
      "[[149.  20.]\n",
      " [ 20.  22.]]\n",
      "AUC: \n",
      "0.7488024795717103\n",
      "\n"
     ]
    },
    {
     "name": "stderr",
     "output_type": "stream",
     "text": [
      "[I 2019-08-23 13:41:40,492] Finished trial#85 resulted in value: -0.7488024795717103. Current best value is -0.774443505212736 with parameters: {'learning_rate': 0.0021664792488726202, 'activation': 'relu', 'alpha': 5.325358168050972, 'b1': 0.07598760385626271, 'b2': 0.7104137109214221}.\n"
     ]
    },
    {
     "name": "stdout",
     "output_type": "stream",
     "text": [
      "len: 211 , 211\n",
      "confusion_matrix: \n",
      "[[149.  20.]\n",
      " [ 20.  22.]]\n",
      "AUC: \n",
      "0.724006762468301\n",
      "\n"
     ]
    },
    {
     "name": "stderr",
     "output_type": "stream",
     "text": [
      "[I 2019-08-23 13:41:55,010] Finished trial#86 resulted in value: -0.724006762468301. Current best value is -0.774443505212736 with parameters: {'learning_rate': 0.0021664792488726202, 'activation': 'relu', 'alpha': 5.325358168050972, 'b1': 0.07598760385626271, 'b2': 0.7104137109214221}.\n"
     ]
    },
    {
     "name": "stdout",
     "output_type": "stream",
     "text": [
      "len: 211 , 211\n",
      "confusion_matrix: \n",
      "[[151.  18.]\n",
      " [ 18.  24.]]\n",
      "AUC: \n",
      "0.7137221752606367\n",
      "\n"
     ]
    },
    {
     "name": "stderr",
     "output_type": "stream",
     "text": [
      "[I 2019-08-23 13:42:01,304] Finished trial#87 resulted in value: -0.7137221752606367. Current best value is -0.774443505212736 with parameters: {'learning_rate': 0.0021664792488726202, 'activation': 'relu', 'alpha': 5.325358168050972, 'b1': 0.07598760385626271, 'b2': 0.7104137109214221}.\n"
     ]
    },
    {
     "name": "stdout",
     "output_type": "stream",
     "text": [
      "len: 211 , 211\n",
      "confusion_matrix: \n",
      "[[152.  17.]\n",
      " [ 17.  25.]]\n",
      "AUC: \n",
      "0.7524654832347141\n",
      "\n"
     ]
    },
    {
     "name": "stderr",
     "output_type": "stream",
     "text": [
      "[I 2019-08-23 13:42:10,368] Finished trial#88 resulted in value: -0.7524654832347141. Current best value is -0.774443505212736 with parameters: {'learning_rate': 0.0021664792488726202, 'activation': 'relu', 'alpha': 5.325358168050972, 'b1': 0.07598760385626271, 'b2': 0.7104137109214221}.\n"
     ]
    },
    {
     "name": "stdout",
     "output_type": "stream",
     "text": [
      "len: 211 , 211\n",
      "confusion_matrix: \n",
      "[[151.  18.]\n",
      " [ 18.  24.]]\n",
      "AUC: \n",
      "0.7552831783601015\n",
      "\n"
     ]
    },
    {
     "name": "stderr",
     "output_type": "stream",
     "text": [
      "[I 2019-08-23 13:42:21,262] Finished trial#89 resulted in value: -0.7552831783601015. Current best value is -0.774443505212736 with parameters: {'learning_rate': 0.0021664792488726202, 'activation': 'relu', 'alpha': 5.325358168050972, 'b1': 0.07598760385626271, 'b2': 0.7104137109214221}.\n"
     ]
    },
    {
     "name": "stdout",
     "output_type": "stream",
     "text": [
      "len: 211 , 211\n",
      "confusion_matrix: \n",
      "[[149.  20.]\n",
      " [ 20.  22.]]\n",
      "AUC: \n",
      "0.7324598478444633\n",
      "\n"
     ]
    },
    {
     "name": "stderr",
     "output_type": "stream",
     "text": [
      "[I 2019-08-23 13:42:44,529] Finished trial#90 resulted in value: -0.7324598478444633. Current best value is -0.774443505212736 with parameters: {'learning_rate': 0.0021664792488726202, 'activation': 'relu', 'alpha': 5.325358168050972, 'b1': 0.07598760385626271, 'b2': 0.7104137109214221}.\n"
     ]
    },
    {
     "name": "stdout",
     "output_type": "stream",
     "text": [
      "len: 211 , 211\n",
      "confusion_matrix: \n",
      "[[152.  17.]\n",
      " [ 17.  25.]]\n",
      "AUC: \n",
      "0.767258382642998\n",
      "\n"
     ]
    },
    {
     "name": "stderr",
     "output_type": "stream",
     "text": [
      "[I 2019-08-23 13:42:53,587] Finished trial#91 resulted in value: -0.767258382642998. Current best value is -0.774443505212736 with parameters: {'learning_rate': 0.0021664792488726202, 'activation': 'relu', 'alpha': 5.325358168050972, 'b1': 0.07598760385626271, 'b2': 0.7104137109214221}.\n"
     ]
    },
    {
     "name": "stdout",
     "output_type": "stream",
     "text": [
      "len: 211 , 211\n",
      "confusion_matrix: \n",
      "[[152.  17.]\n",
      " [ 17.  25.]]\n",
      "AUC: \n",
      "0.7741617357001973\n",
      "\n"
     ]
    },
    {
     "name": "stderr",
     "output_type": "stream",
     "text": [
      "[I 2019-08-23 13:43:01,904] Finished trial#92 resulted in value: -0.7741617357001973. Current best value is -0.774443505212736 with parameters: {'learning_rate': 0.0021664792488726202, 'activation': 'relu', 'alpha': 5.325358168050972, 'b1': 0.07598760385626271, 'b2': 0.7104137109214221}.\n"
     ]
    },
    {
     "name": "stdout",
     "output_type": "stream",
     "text": [
      "len: 211 , 211\n",
      "confusion_matrix: \n",
      "[[150.  19.]\n",
      " [ 19.  23.]]\n",
      "AUC: \n",
      "0.741053817976895\n",
      "\n"
     ]
    },
    {
     "name": "stderr",
     "output_type": "stream",
     "text": [
      "[I 2019-08-23 13:43:09,978] Finished trial#93 resulted in value: -0.741053817976895. Current best value is -0.774443505212736 with parameters: {'learning_rate': 0.0021664792488726202, 'activation': 'relu', 'alpha': 5.325358168050972, 'b1': 0.07598760385626271, 'b2': 0.7104137109214221}.\n"
     ]
    },
    {
     "name": "stdout",
     "output_type": "stream",
     "text": [
      "len: 211 , 211\n",
      "confusion_matrix: \n",
      "[[149.  20.]\n",
      " [ 20.  22.]]\n",
      "AUC: \n",
      "0.768385460693153\n",
      "\n"
     ]
    },
    {
     "name": "stderr",
     "output_type": "stream",
     "text": [
      "[I 2019-08-23 13:43:18,418] Finished trial#94 resulted in value: -0.768385460693153. Current best value is -0.774443505212736 with parameters: {'learning_rate': 0.0021664792488726202, 'activation': 'relu', 'alpha': 5.325358168050972, 'b1': 0.07598760385626271, 'b2': 0.7104137109214221}.\n"
     ]
    },
    {
     "name": "stdout",
     "output_type": "stream",
     "text": [
      "len: 211 , 211\n",
      "confusion_matrix: \n",
      "[[152.  17.]\n",
      " [ 17.  25.]]\n",
      "AUC: \n",
      "0.7706396167934628\n",
      "\n"
     ]
    },
    {
     "name": "stderr",
     "output_type": "stream",
     "text": [
      "[I 2019-08-23 13:43:27,037] Finished trial#95 resulted in value: -0.7706396167934628. Current best value is -0.774443505212736 with parameters: {'learning_rate': 0.0021664792488726202, 'activation': 'relu', 'alpha': 5.325358168050972, 'b1': 0.07598760385626271, 'b2': 0.7104137109214221}.\n"
     ]
    },
    {
     "name": "stdout",
     "output_type": "stream",
     "text": [
      "len: 211 , 211\n",
      "confusion_matrix: \n",
      "[[150.  19.]\n",
      " [ 19.  23.]]\n",
      "AUC: \n",
      "0.7447168216398985\n",
      "\n"
     ]
    },
    {
     "name": "stderr",
     "output_type": "stream",
     "text": [
      "[I 2019-08-23 13:43:35,228] Finished trial#96 resulted in value: -0.7447168216398985. Current best value is -0.774443505212736 with parameters: {'learning_rate': 0.0021664792488726202, 'activation': 'relu', 'alpha': 5.325358168050972, 'b1': 0.07598760385626271, 'b2': 0.7104137109214221}.\n"
     ]
    },
    {
     "name": "stdout",
     "output_type": "stream",
     "text": [
      "len: 211 , 211\n",
      "confusion_matrix: \n",
      "[[152.  17.]\n",
      " [ 17.  25.]]\n",
      "AUC: \n",
      "0.7558467173851788\n",
      "\n"
     ]
    },
    {
     "name": "stderr",
     "output_type": "stream",
     "text": [
      "[I 2019-08-23 13:43:47,384] Finished trial#97 resulted in value: -0.7558467173851788. Current best value is -0.774443505212736 with parameters: {'learning_rate': 0.0021664792488726202, 'activation': 'relu', 'alpha': 5.325358168050972, 'b1': 0.07598760385626271, 'b2': 0.7104137109214221}.\n"
     ]
    },
    {
     "name": "stdout",
     "output_type": "stream",
     "text": [
      "len: 211 , 211\n",
      "confusion_matrix: \n",
      "[[150.  19.]\n",
      " [ 19.  23.]]\n",
      "AUC: \n",
      "0.7495069033530571\n",
      "\n"
     ]
    },
    {
     "name": "stderr",
     "output_type": "stream",
     "text": [
      "[I 2019-08-23 13:43:54,947] Finished trial#98 resulted in value: -0.7495069033530571. Current best value is -0.774443505212736 with parameters: {'learning_rate': 0.0021664792488726202, 'activation': 'relu', 'alpha': 5.325358168050972, 'b1': 0.07598760385626271, 'b2': 0.7104137109214221}.\n"
     ]
    },
    {
     "name": "stdout",
     "output_type": "stream",
     "text": [
      "len: 211 , 211\n",
      "confusion_matrix: \n",
      "[[152.  17.]\n",
      " [ 17.  25.]]\n",
      "AUC: \n",
      "0.7735981966751198\n",
      "\n"
     ]
    },
    {
     "name": "stderr",
     "output_type": "stream",
     "text": [
      "[I 2019-08-23 13:44:03,250] Finished trial#99 resulted in value: -0.7735981966751198. Current best value is -0.774443505212736 with parameters: {'learning_rate': 0.0021664792488726202, 'activation': 'relu', 'alpha': 5.325358168050972, 'b1': 0.07598760385626271, 'b2': 0.7104137109214221}.\n"
     ]
    },
    {
     "name": "stdout",
     "output_type": "stream",
     "text": [
      "FrozenTrial(number=78, state=<TrialState.COMPLETE: 1>, value=-0.774443505212736, datetime_start=datetime.datetime(2019, 8, 23, 13, 40, 23, 580039), datetime_complete=datetime.datetime(2019, 8, 23, 13, 40, 33, 238), params={'learning_rate': 0.0021664792488726202, 'activation': 'relu', 'alpha': 5.325358168050972, 'b1': 0.07598760385626271, 'b2': 0.7104137109214221}, distributions={'learning_rate': UniformDistribution(low=0.0005, high=0.01), 'activation': CategoricalDistribution(choices=('relu',)), 'alpha': UniformDistribution(low=3, high=6), 'b1': UniformDistribution(low=0, high=0.1), 'b2': UniformDistribution(low=0.5, high=1)}, user_attrs={}, system_attrs={'_number': 78}, intermediate_values={}, params_in_internal_repr={'learning_rate': 0.0021664792488726202, 'activation': 0, 'alpha': 5.325358168050972, 'b1': 0.07598760385626271, 'b2': 0.7104137109214221}, trial_id=78)\n"
     ]
    }
   ],
   "source": [
    "main()"
   ]
  },
  {
   "cell_type": "code",
   "execution_count": null,
   "metadata": {},
   "outputs": [],
   "source": []
  },
  {
   "cell_type": "markdown",
   "metadata": {},
   "source": [
    "\n",
    "best value is -0.777120315581854 \n",
    "with parameters: {\n",
    "'num': 1, 'learning_rate': 0.0012043271455668674, 'activation': 'relu', \n",
    "'alpha': 4.76324733221396, 'b1': 0.022158342014810775, 'b2': 0.7802116425099002, 'n1': 32\n",
    "}."
   ]
  },
  {
   "cell_type": "code",
   "execution_count": null,
   "metadata": {},
   "outputs": [],
   "source": []
  }
 ],
 "metadata": {
  "kernelspec": {
   "display_name": "Python 3",
   "language": "python",
   "name": "python3"
  },
  "language_info": {
   "codemirror_mode": {
    "name": "ipython",
    "version": 3
   },
   "file_extension": ".py",
   "mimetype": "text/x-python",
   "name": "python",
   "nbconvert_exporter": "python",
   "pygments_lexer": "ipython3",
   "version": "3.6.3"
  }
 },
 "nbformat": 4,
 "nbformat_minor": 2
}
