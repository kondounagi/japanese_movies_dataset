{
 "cells": [
  {
   "cell_type": "code",
   "execution_count": 14,
   "metadata": {},
   "outputs": [],
   "source": [
    "import xgboost as xgb\n",
    "import pandas as pd\n",
    "from sklearn.metrics import roc_auc_score"
   ]
  },
  {
   "cell_type": "code",
   "execution_count": 15,
   "metadata": {},
   "outputs": [],
   "source": [
    "table = pd.read_pickle('unificated_data_set.pkl')\n",
    "title = pd.read_pickle('data.pkl')['title']\n",
    "table['title'] = title"
   ]
  },
  {
   "cell_type": "code",
   "execution_count": 16,
   "metadata": {},
   "outputs": [],
   "source": [
    "import numpy as np\n",
    "import optuna"
   ]
  },
  {
   "cell_type": "code",
   "execution_count": 17,
   "metadata": {},
   "outputs": [
    {
     "name": "stdout",
     "output_type": "stream",
     "text": [
      "{'max_depth': 9, 'learning_rate': 0.17810069179572457, 'n_estimators': 165, 'n_jobs': 4, 'gamma': 0.0714625274838726, 'reg_lambda': 1.2151372400218727, 'reg_alpha': 1.4822513520880465}\n",
      "0.6850521273598197\n"
     ]
    },
    {
     "name": "stderr",
     "output_type": "stream",
     "text": [
      "[I 2019-08-21 14:18:48,684] Finished trial#0 resulted in value: -0.6850521273598197. Current best value is -0.6850521273598197 with parameters: {'max_depth': 9, 'learning_rate': 0.17810069179572457, 'n_estimators ': 165, 'gamma': 0.0714625274838726, 'reg_lambda': 1.2151372400218727, 'reg_alpha': 1.4822513520880465}.\n"
     ]
    },
    {
     "name": "stdout",
     "output_type": "stream",
     "text": [
      "{'max_depth': 7, 'learning_rate': 0.08263721522682255, 'n_estimators': 65, 'n_jobs': 4, 'gamma': 0.08673679923605726, 'reg_lambda': 1.8905082159008255, 'reg_alpha': 0.536276540881611}\n",
      "0.6895604395604396\n"
     ]
    },
    {
     "name": "stderr",
     "output_type": "stream",
     "text": [
      "[I 2019-08-21 14:18:57,707] Finished trial#1 resulted in value: -0.6895604395604396. Current best value is -0.6895604395604396 with parameters: {'max_depth': 7, 'learning_rate': 0.08263721522682255, 'n_estimators ': 65, 'gamma': 0.08673679923605726, 'reg_lambda': 1.8905082159008255, 'reg_alpha': 0.536276540881611}.\n"
     ]
    },
    {
     "name": "stdout",
     "output_type": "stream",
     "text": [
      "{'max_depth': 2, 'learning_rate': 0.1915080215190348, 'n_estimators': 187, 'n_jobs': 4, 'gamma': 0.15905172196715622, 'reg_lambda': 2.2850865012194888, 'reg_alpha': 1.3747030530276112}\n",
      "0.7199915469146237\n"
     ]
    },
    {
     "name": "stderr",
     "output_type": "stream",
     "text": [
      "[I 2019-08-21 14:19:04,559] Finished trial#2 resulted in value: -0.7199915469146237. Current best value is -0.7199915469146237 with parameters: {'max_depth': 2, 'learning_rate': 0.1915080215190348, 'n_estimators ': 187, 'gamma': 0.15905172196715622, 'reg_lambda': 2.2850865012194888, 'reg_alpha': 1.3747030530276112}.\n"
     ]
    },
    {
     "name": "stdout",
     "output_type": "stream",
     "text": [
      "{'max_depth': 5, 'learning_rate': 0.19025624742556235, 'n_estimators': 146, 'n_jobs': 4, 'gamma': 0.381334724496174, 'reg_lambda': 0.5252001378989355, 'reg_alpha': 0.5052137941850748}\n",
      "0.6747675401521556\n"
     ]
    },
    {
     "name": "stderr",
     "output_type": "stream",
     "text": [
      "[I 2019-08-21 14:19:17,069] Finished trial#3 resulted in value: -0.6747675401521556. Current best value is -0.7199915469146237 with parameters: {'max_depth': 2, 'learning_rate': 0.1915080215190348, 'n_estimators ': 187, 'gamma': 0.15905172196715622, 'reg_lambda': 2.2850865012194888, 'reg_alpha': 1.3747030530276112}.\n"
     ]
    },
    {
     "name": "stdout",
     "output_type": "stream",
     "text": [
      "{'max_depth': 8, 'learning_rate': 0.14256736525826325, 'n_estimators': 172, 'n_jobs': 4, 'gamma': 0.33144714201467373, 'reg_lambda': 2.316255949310852, 'reg_alpha': 1.3304088346855518}\n",
      "0.7131586362355593\n"
     ]
    },
    {
     "name": "stderr",
     "output_type": "stream",
     "text": [
      "[I 2019-08-21 14:19:39,751] Finished trial#4 resulted in value: -0.7131586362355593. Current best value is -0.7199915469146237 with parameters: {'max_depth': 2, 'learning_rate': 0.1915080215190348, 'n_estimators ': 187, 'gamma': 0.15905172196715622, 'reg_lambda': 2.2850865012194888, 'reg_alpha': 1.3747030530276112}.\n"
     ]
    },
    {
     "name": "stdout",
     "output_type": "stream",
     "text": [
      "{'max_depth': 5, 'learning_rate': 0.1709427311832155, 'n_estimators': 133, 'n_jobs': 4, 'gamma': 0.2632033771936453, 'reg_lambda': 0.6540862135434018, 'reg_alpha': 0.371897736611589}\n",
      "0.6751901944209636\n"
     ]
    },
    {
     "name": "stderr",
     "output_type": "stream",
     "text": [
      "[I 2019-08-21 14:19:50,969] Finished trial#5 resulted in value: -0.6751901944209636. Current best value is -0.7199915469146237 with parameters: {'max_depth': 2, 'learning_rate': 0.1915080215190348, 'n_estimators ': 187, 'gamma': 0.15905172196715622, 'reg_lambda': 2.2850865012194888, 'reg_alpha': 1.3747030530276112}.\n"
     ]
    },
    {
     "name": "stdout",
     "output_type": "stream",
     "text": [
      "{'max_depth': 6, 'learning_rate': 0.05103335658674456, 'n_estimators': 41, 'n_jobs': 4, 'gamma': 0.10092464779985222, 'reg_lambda': 1.26197905629205, 'reg_alpha': 0.7014890819584838}\n",
      "0.7125246548323471\n"
     ]
    },
    {
     "name": "stderr",
     "output_type": "stream",
     "text": [
      "[I 2019-08-21 14:19:55,793] Finished trial#6 resulted in value: -0.7125246548323471. Current best value is -0.7199915469146237 with parameters: {'max_depth': 2, 'learning_rate': 0.1915080215190348, 'n_estimators ': 187, 'gamma': 0.15905172196715622, 'reg_lambda': 2.2850865012194888, 'reg_alpha': 1.3747030530276112}.\n"
     ]
    },
    {
     "name": "stdout",
     "output_type": "stream",
     "text": [
      "{'max_depth': 2, 'learning_rate': 0.09335517778186458, 'n_estimators': 56, 'n_jobs': 4, 'gamma': 0.7385914449924758, 'reg_lambda': 1.9303430866219515, 'reg_alpha': 1.7568385056172997}\n",
      "0.6055226824457594\n"
     ]
    },
    {
     "name": "stderr",
     "output_type": "stream",
     "text": [
      "[I 2019-08-21 14:19:58,682] Finished trial#7 resulted in value: -0.6055226824457594. Current best value is -0.7199915469146237 with parameters: {'max_depth': 2, 'learning_rate': 0.1915080215190348, 'n_estimators ': 187, 'gamma': 0.15905172196715622, 'reg_lambda': 2.2850865012194888, 'reg_alpha': 1.3747030530276112}.\n"
     ]
    },
    {
     "name": "stdout",
     "output_type": "stream",
     "text": [
      "{'max_depth': 3, 'learning_rate': 0.059000637698835665, 'n_estimators': 102, 'n_jobs': 4, 'gamma': 0.6678163330341205, 'reg_lambda': 0.8196072718750318, 'reg_alpha': 1.592093973843859}\n",
      "0.6242603550295858\n"
     ]
    },
    {
     "name": "stderr",
     "output_type": "stream",
     "text": [
      "[I 2019-08-21 14:20:05,000] Finished trial#8 resulted in value: -0.6242603550295858. Current best value is -0.7199915469146237 with parameters: {'max_depth': 2, 'learning_rate': 0.1915080215190348, 'n_estimators ': 187, 'gamma': 0.15905172196715622, 'reg_lambda': 2.2850865012194888, 'reg_alpha': 1.3747030530276112}.\n"
     ]
    },
    {
     "name": "stdout",
     "output_type": "stream",
     "text": [
      "{'max_depth': 3, 'learning_rate': 0.14390386223152424, 'n_estimators': 53, 'n_jobs': 4, 'gamma': 0.9191678794092927, 'reg_lambda': 2.1235128986431775, 'reg_alpha': 0.5288301585756122}\n",
      "0.6342631727247112\n"
     ]
    },
    {
     "name": "stderr",
     "output_type": "stream",
     "text": [
      "[I 2019-08-21 14:20:08,311] Finished trial#9 resulted in value: -0.6342631727247112. Current best value is -0.7199915469146237 with parameters: {'max_depth': 2, 'learning_rate': 0.1915080215190348, 'n_estimators ': 187, 'gamma': 0.15905172196715622, 'reg_lambda': 2.2850865012194888, 'reg_alpha': 1.3747030530276112}.\n"
     ]
    },
    {
     "name": "stdout",
     "output_type": "stream",
     "text": [
      "{'max_depth': 1, 'learning_rate': 0.19957688561182693, 'n_estimators': 197, 'n_jobs': 4, 'gamma': 0.5526861592417776, 'reg_lambda': 2.846512185298818, 'reg_alpha': 2.540360422400566}\n",
      "0.6379261763877149\n"
     ]
    },
    {
     "name": "stderr",
     "output_type": "stream",
     "text": [
      "[I 2019-08-21 14:20:12,833] Finished trial#10 resulted in value: -0.6379261763877149. Current best value is -0.7199915469146237 with parameters: {'max_depth': 2, 'learning_rate': 0.1915080215190348, 'n_estimators ': 187, 'gamma': 0.15905172196715622, 'reg_lambda': 2.2850865012194888, 'reg_alpha': 1.3747030530276112}.\n"
     ]
    },
    {
     "name": "stdout",
     "output_type": "stream",
     "text": [
      "{'max_depth': 10, 'learning_rate': 0.1386247932458259, 'n_estimators': 186, 'n_jobs': 4, 'gamma': 0.28592737127844203, 'reg_lambda': 2.6605679171976817, 'reg_alpha': 1.1712343617201624}\n",
      "0.7193575655114116\n"
     ]
    },
    {
     "name": "stderr",
     "output_type": "stream",
     "text": [
      "[I 2019-08-21 14:20:44,000] Finished trial#11 resulted in value: -0.7193575655114116. Current best value is -0.7199915469146237 with parameters: {'max_depth': 2, 'learning_rate': 0.1915080215190348, 'n_estimators ': 187, 'gamma': 0.15905172196715622, 'reg_lambda': 2.2850865012194888, 'reg_alpha': 1.3747030530276112}.\n"
     ]
    },
    {
     "name": "stdout",
     "output_type": "stream",
     "text": [
      "{'max_depth': 10, 'learning_rate': 0.11002502250233914, 'n_estimators': 194, 'n_jobs': 4, 'gamma': 0.23400406668739798, 'reg_lambda': 2.8109146496770516, 'reg_alpha': 2.1262720143476552}\n",
      "0.7068892645815723\n"
     ]
    },
    {
     "name": "stderr",
     "output_type": "stream",
     "text": [
      "[I 2019-08-21 14:21:12,649] Finished trial#12 resulted in value: -0.7068892645815723. Current best value is -0.7199915469146237 with parameters: {'max_depth': 2, 'learning_rate': 0.1915080215190348, 'n_estimators ': 187, 'gamma': 0.15905172196715622, 'reg_lambda': 2.2850865012194888, 'reg_alpha': 1.3747030530276112}.\n"
     ]
    },
    {
     "name": "stdout",
     "output_type": "stream",
     "text": [
      "{'max_depth': 1, 'learning_rate': 0.1523252334033208, 'n_estimators': 197, 'n_jobs': 4, 'gamma': 0.4348595459063489, 'reg_lambda': 2.5038047873279883, 'reg_alpha': 1.0598927857170217}\n",
      "0.6327838827838828\n"
     ]
    },
    {
     "name": "stderr",
     "output_type": "stream",
     "text": [
      "[I 2019-08-21 14:21:18,966] Finished trial#13 resulted in value: -0.6327838827838828. Current best value is -0.7199915469146237 with parameters: {'max_depth': 2, 'learning_rate': 0.1915080215190348, 'n_estimators ': 187, 'gamma': 0.15905172196715622, 'reg_lambda': 2.2850865012194888, 'reg_alpha': 1.3747030530276112}.\n"
     ]
    },
    {
     "name": "stdout",
     "output_type": "stream",
     "text": [
      "{'max_depth': 10, 'learning_rate': 0.11614035405985157, 'n_estimators': 105, 'n_jobs': 4, 'gamma': 0.2046879793264704, 'reg_lambda': 2.5781442000253945, 'reg_alpha': 0.9846142808438781}\n",
      "0.7108340377571146\n"
     ]
    },
    {
     "name": "stderr",
     "output_type": "stream",
     "text": [
      "[I 2019-08-21 14:21:39,085] Finished trial#14 resulted in value: -0.7108340377571146. Current best value is -0.7199915469146237 with parameters: {'max_depth': 2, 'learning_rate': 0.1915080215190348, 'n_estimators ': 187, 'gamma': 0.15905172196715622, 'reg_lambda': 2.2850865012194888, 'reg_alpha': 1.3747030530276112}.\n"
     ]
    },
    {
     "name": "stdout",
     "output_type": "stream",
     "text": [
      "{'max_depth': 4, 'learning_rate': 0.16439259671597845, 'n_estimators': 171, 'n_jobs': 4, 'gamma': 0.5104759574842161, 'reg_lambda': 2.962370585073049, 'reg_alpha': 2.0097011812796177}\n",
      "0.6707523245984784\n"
     ]
    },
    {
     "name": "stderr",
     "output_type": "stream",
     "text": [
      "[I 2019-08-21 14:21:50,223] Finished trial#15 resulted in value: -0.6707523245984784. Current best value is -0.7199915469146237 with parameters: {'max_depth': 2, 'learning_rate': 0.1915080215190348, 'n_estimators ': 187, 'gamma': 0.15905172196715622, 'reg_lambda': 2.2850865012194888, 'reg_alpha': 1.3747030530276112}.\n"
     ]
    },
    {
     "name": "stdout",
     "output_type": "stream",
     "text": [
      "{'max_depth': 7, 'learning_rate': 0.13383734626973942, 'n_estimators': 137, 'n_jobs': 4, 'gamma': 0.16831014622972992, 'reg_lambda': 1.6854581306977188, 'reg_alpha': 0.10706900992134916}\n",
      "0.6563820794590025\n"
     ]
    },
    {
     "name": "stderr",
     "output_type": "stream",
     "text": [
      "[I 2019-08-21 14:22:07,036] Finished trial#16 resulted in value: -0.6563820794590025. Current best value is -0.7199915469146237 with parameters: {'max_depth': 2, 'learning_rate': 0.1915080215190348, 'n_estimators ': 187, 'gamma': 0.15905172196715622, 'reg_lambda': 2.2850865012194888, 'reg_alpha': 1.3747030530276112}.\n"
     ]
    },
    {
     "name": "stdout",
     "output_type": "stream",
     "text": [
      "{'max_depth': 3, 'learning_rate': 0.19553640033567726, 'n_estimators': 184, 'n_jobs': 4, 'gamma': 0.3287941572692991, 'reg_lambda': 2.5539105720449915, 'reg_alpha': 1.0555274037689109}\n",
      "0.6925894618202308\n"
     ]
    },
    {
     "name": "stderr",
     "output_type": "stream",
     "text": [
      "[I 2019-08-21 14:22:16,871] Finished trial#17 resulted in value: -0.6925894618202308. Current best value is -0.7199915469146237 with parameters: {'max_depth': 2, 'learning_rate': 0.1915080215190348, 'n_estimators ': 187, 'gamma': 0.15905172196715622, 'reg_lambda': 2.2850865012194888, 'reg_alpha': 1.3747030530276112}.\n"
     ]
    },
    {
     "name": "stdout",
     "output_type": "stream",
     "text": [
      "{'max_depth': 9, 'learning_rate': 0.0897482979485565, 'n_estimators': 155, 'n_jobs': 4, 'gamma': 0.0058764387050474765, 'reg_lambda': 2.208746856047028, 'reg_alpha': 2.3120843259671764}\n",
      "0.7067483798253029\n"
     ]
    },
    {
     "name": "stderr",
     "output_type": "stream",
     "text": [
      "[I 2019-08-21 14:22:28,934] Finished trial#18 resulted in value: -0.7067483798253029. Current best value is -0.7199915469146237 with parameters: {'max_depth': 2, 'learning_rate': 0.1915080215190348, 'n_estimators ': 187, 'gamma': 0.15905172196715622, 'reg_lambda': 2.2850865012194888, 'reg_alpha': 1.3747030530276112}.\n"
     ]
    },
    {
     "name": "stdout",
     "output_type": "stream",
     "text": [
      "{'max_depth': 6, 'learning_rate': 0.12438379018460857, 'n_estimators': 85, 'n_jobs': 4, 'gamma': 0.0016197028172451888, 'reg_lambda': 1.55535151593995, 'reg_alpha': 2.971881582440303}\n",
      "0.7099887292194984\n"
     ]
    },
    {
     "name": "stderr",
     "output_type": "stream",
     "text": [
      "[I 2019-08-21 14:22:34,103] Finished trial#19 resulted in value: -0.7099887292194984. Current best value is -0.7199915469146237 with parameters: {'max_depth': 2, 'learning_rate': 0.1915080215190348, 'n_estimators ': 187, 'gamma': 0.15905172196715622, 'reg_lambda': 2.2850865012194888, 'reg_alpha': 1.3747030530276112}.\n"
     ]
    },
    {
     "name": "stdout",
     "output_type": "stream",
     "text": [
      "{'max_depth': 2, 'learning_rate': 0.18333785358982277, 'n_estimators': 120, 'n_jobs': 4, 'gamma': 0.4279715823901754, 'reg_lambda': 2.7149339793186864, 'reg_alpha': 1.2712049100062903}\n",
      "0.71301775147929\n"
     ]
    },
    {
     "name": "stderr",
     "output_type": "stream",
     "text": [
      "[I 2019-08-21 14:22:38,753] Finished trial#20 resulted in value: -0.71301775147929. Current best value is -0.7199915469146237 with parameters: {'max_depth': 2, 'learning_rate': 0.1915080215190348, 'n_estimators ': 187, 'gamma': 0.15905172196715622, 'reg_lambda': 2.2850865012194888, 'reg_alpha': 1.3747030530276112}.\n"
     ]
    },
    {
     "name": "stdout",
     "output_type": "stream",
     "text": [
      "{'max_depth': 8, 'learning_rate': 0.15438848861777457, 'n_estimators': 177, 'n_jobs': 4, 'gamma': 0.31335849966099777, 'reg_lambda': 2.349225576829009, 'reg_alpha': 1.367952979294477}\n",
      "0.7082276697661314\n"
     ]
    },
    {
     "name": "stderr",
     "output_type": "stream",
     "text": [
      "[I 2019-08-21 14:23:03,754] Finished trial#21 resulted in value: -0.7082276697661314. Current best value is -0.7199915469146237 with parameters: {'max_depth': 2, 'learning_rate': 0.1915080215190348, 'n_estimators ': 187, 'gamma': 0.15905172196715622, 'reg_lambda': 2.2850865012194888, 'reg_alpha': 1.3747030530276112}.\n"
     ]
    },
    {
     "name": "stdout",
     "output_type": "stream",
     "text": [
      "{'max_depth': 9, 'learning_rate': 0.13411669046686403, 'n_estimators': 159, 'n_jobs': 4, 'gamma': 0.14904373376097035, 'reg_lambda': 2.2510099706006437, 'reg_alpha': 1.795728360891179}\n",
      "0.7117497886728656\n"
     ]
    },
    {
     "name": "stderr",
     "output_type": "stream",
     "text": [
      "[I 2019-08-21 14:23:28,977] Finished trial#22 resulted in value: -0.7117497886728656. Current best value is -0.7199915469146237 with parameters: {'max_depth': 2, 'learning_rate': 0.1915080215190348, 'n_estimators ': 187, 'gamma': 0.15905172196715622, 'reg_lambda': 2.2850865012194888, 'reg_alpha': 1.3747030530276112}.\n"
     ]
    },
    {
     "name": "stdout",
     "output_type": "stream",
     "text": [
      "{'max_depth': 8, 'learning_rate': 0.1024579380698469, 'n_estimators': 184, 'n_jobs': 4, 'gamma': 0.29357332122904434, 'reg_lambda': 2.0210077086266343, 'reg_alpha': 0.915611784981442}\n",
      "0.6948436179205411\n"
     ]
    },
    {
     "name": "stderr",
     "output_type": "stream",
     "text": [
      "[I 2019-08-21 14:23:57,355] Finished trial#23 resulted in value: -0.6948436179205411. Current best value is -0.7199915469146237 with parameters: {'max_depth': 2, 'learning_rate': 0.1915080215190348, 'n_estimators ': 187, 'gamma': 0.15905172196715622, 'reg_lambda': 2.2850865012194888, 'reg_alpha': 1.3747030530276112}.\n"
     ]
    },
    {
     "name": "stdout",
     "output_type": "stream",
     "text": [
      "{'max_depth': 10, 'learning_rate': 0.15856008339163585, 'n_estimators': 195, 'n_jobs': 4, 'gamma': 0.6033861037591896, 'reg_lambda': 2.3977113937292405, 'reg_alpha': 1.2489072269219446}\n",
      "0.6676528599605521\n"
     ]
    },
    {
     "name": "stderr",
     "output_type": "stream",
     "text": [
      "[I 2019-08-21 14:24:31,324] Finished trial#24 resulted in value: -0.6676528599605521. Current best value is -0.7199915469146237 with parameters: {'max_depth': 2, 'learning_rate': 0.1915080215190348, 'n_estimators ': 187, 'gamma': 0.15905172196715622, 'reg_lambda': 2.2850865012194888, 'reg_alpha': 1.3747030530276112}.\n"
     ]
    },
    {
     "name": "stdout",
     "output_type": "stream",
     "text": [
      "{'max_depth': 8, 'learning_rate': 0.1442655956745146, 'n_estimators': 172, 'n_jobs': 4, 'gamma': 0.39693443735685163, 'reg_lambda': 2.6580211748655214, 'reg_alpha': 1.677455922410933}\n",
      "0.6856156663848972\n"
     ]
    },
    {
     "name": "stderr",
     "output_type": "stream",
     "text": [
      "[I 2019-08-21 14:24:56,803] Finished trial#25 resulted in value: -0.6856156663848972. Current best value is -0.7199915469146237 with parameters: {'max_depth': 2, 'learning_rate': 0.1915080215190348, 'n_estimators ': 187, 'gamma': 0.15905172196715622, 'reg_lambda': 2.2850865012194888, 'reg_alpha': 1.3747030530276112}.\n"
     ]
    },
    {
     "name": "stdout",
     "output_type": "stream",
     "text": [
      "{'max_depth': 7, 'learning_rate': 0.12392984297544561, 'n_estimators': 200, 'n_jobs': 4, 'gamma': 0.23303072195629648, 'reg_lambda': 2.3742569111731147, 'reg_alpha': 0.864246055100977}\n",
      "0.705832628909552\n"
     ]
    },
    {
     "name": "stderr",
     "output_type": "stream",
     "text": [
      "[I 2019-08-21 14:25:21,924] Finished trial#26 resulted in value: -0.705832628909552. Current best value is -0.7199915469146237 with parameters: {'max_depth': 2, 'learning_rate': 0.1915080215190348, 'n_estimators ': 187, 'gamma': 0.15905172196715622, 'reg_lambda': 2.2850865012194888, 'reg_alpha': 1.3747030530276112}.\n"
     ]
    },
    {
     "name": "stdout",
     "output_type": "stream",
     "text": [
      "{'max_depth': 9, 'learning_rate': 0.13877027971353362, 'n_estimators': 150, 'n_jobs': 4, 'gamma': 0.35179884324714755, 'reg_lambda': 2.9096451386019213, 'reg_alpha': 1.2469812052654514}\n",
      "0.6957593688362919\n"
     ]
    },
    {
     "name": "stderr",
     "output_type": "stream",
     "text": [
      "[I 2019-08-21 14:25:48,739] Finished trial#27 resulted in value: -0.6957593688362919. Current best value is -0.7199915469146237 with parameters: {'max_depth': 2, 'learning_rate': 0.1915080215190348, 'n_estimators ': 187, 'gamma': 0.15905172196715622, 'reg_lambda': 2.2850865012194888, 'reg_alpha': 1.3747030530276112}.\n"
     ]
    },
    {
     "name": "stdout",
     "output_type": "stream",
     "text": [
      "{'max_depth': 10, 'learning_rate': 0.1722200713064417, 'n_estimators': 22, 'n_jobs': 4, 'gamma': 0.15167748077619886, 'reg_lambda': 1.7367195713830257, 'reg_alpha': 1.503913450561457}\n",
      "0.700197238658777\n"
     ]
    },
    {
     "name": "stderr",
     "output_type": "stream",
     "text": [
      "[I 2019-08-21 14:25:53,074] Finished trial#28 resulted in value: -0.700197238658777. Current best value is -0.7199915469146237 with parameters: {'max_depth': 2, 'learning_rate': 0.1915080215190348, 'n_estimators ': 187, 'gamma': 0.15905172196715622, 'reg_lambda': 2.2850865012194888, 'reg_alpha': 1.3747030530276112}.\n"
     ]
    },
    {
     "name": "stdout",
     "output_type": "stream",
     "text": [
      "{'max_depth': 9, 'learning_rate': 0.1820230713414287, 'n_estimators': 165, 'n_jobs': 4, 'gamma': 0.45253217824381553, 'reg_lambda': 1.4028989763406008, 'reg_alpha': 1.9391268114252485}\n",
      "0.6586362355593125\n"
     ]
    },
    {
     "name": "stderr",
     "output_type": "stream",
     "text": [
      "[I 2019-08-21 14:26:18,226] Finished trial#29 resulted in value: -0.6586362355593125. Current best value is -0.7199915469146237 with parameters: {'max_depth': 2, 'learning_rate': 0.1915080215190348, 'n_estimators ': 187, 'gamma': 0.15905172196715622, 'reg_lambda': 2.2850865012194888, 'reg_alpha': 1.3747030530276112}.\n"
     ]
    },
    {
     "name": "stdout",
     "output_type": "stream",
     "text": [
      "{'max_depth': 4, 'learning_rate': 0.07846971890725948, 'n_estimators': 179, 'n_jobs': 4, 'gamma': 0.28224514869119866, 'reg_lambda': 2.1350683866715108, 'reg_alpha': 1.471342602427257}\n",
      "0.7033671456748379\n"
     ]
    },
    {
     "name": "stderr",
     "output_type": "stream",
     "text": [
      "[I 2019-08-21 14:26:31,137] Finished trial#30 resulted in value: -0.7033671456748379. Current best value is -0.7199915469146237 with parameters: {'max_depth': 2, 'learning_rate': 0.1915080215190348, 'n_estimators ': 187, 'gamma': 0.15905172196715622, 'reg_lambda': 2.2850865012194888, 'reg_alpha': 1.3747030530276112}.\n"
     ]
    },
    {
     "name": "stdout",
     "output_type": "stream",
     "text": [
      "{'max_depth': 2, 'learning_rate': 0.1898690026311026, 'n_estimators': 123, 'n_jobs': 4, 'gamma': 0.473650427810744, 'reg_lambda': 2.701069780571093, 'reg_alpha': 1.199193084419996}\n",
      "0.6825866441251056\n"
     ]
    },
    {
     "name": "stderr",
     "output_type": "stream",
     "text": [
      "[I 2019-08-21 14:26:35,992] Finished trial#31 resulted in value: -0.6825866441251056. Current best value is -0.7199915469146237 with parameters: {'max_depth': 2, 'learning_rate': 0.1915080215190348, 'n_estimators ': 187, 'gamma': 0.15905172196715622, 'reg_lambda': 2.2850865012194888, 'reg_alpha': 1.3747030530276112}.\n"
     ]
    },
    {
     "name": "stdout",
     "output_type": "stream",
     "text": [
      "{'max_depth': 2, 'learning_rate': 0.18198145415270792, 'n_estimators': 118, 'n_jobs': 4, 'gamma': 0.08624725640618419, 'reg_lambda': 2.9779549136909917, 'reg_alpha': 1.3743369569366046}\n",
      "0.7191462383770078\n"
     ]
    },
    {
     "name": "stderr",
     "output_type": "stream",
     "text": [
      "[I 2019-08-21 14:26:40,710] Finished trial#32 resulted in value: -0.7191462383770078. Current best value is -0.7199915469146237 with parameters: {'max_depth': 2, 'learning_rate': 0.1915080215190348, 'n_estimators ': 187, 'gamma': 0.15905172196715622, 'reg_lambda': 2.2850865012194888, 'reg_alpha': 1.3747030530276112}.\n"
     ]
    },
    {
     "name": "stdout",
     "output_type": "stream",
     "text": [
      "{'max_depth': 1, 'learning_rate': 0.172425354117565, 'n_estimators': 85, 'n_jobs': 4, 'gamma': 0.05641617035945484, 'reg_lambda': 2.9907034691520176, 'reg_alpha': 0.7791114518713036}\n",
      "0.6517328825021133\n"
     ]
    },
    {
     "name": "stderr",
     "output_type": "stream",
     "text": [
      "[I 2019-08-21 14:26:43,394] Finished trial#33 resulted in value: -0.6517328825021133. Current best value is -0.7199915469146237 with parameters: {'max_depth': 2, 'learning_rate': 0.1915080215190348, 'n_estimators ': 187, 'gamma': 0.15905172196715622, 'reg_lambda': 2.2850865012194888, 'reg_alpha': 1.3747030530276112}.\n"
     ]
    },
    {
     "name": "stdout",
     "output_type": "stream",
     "text": [
      "{'max_depth': 4, 'learning_rate': 0.16350845239579967, 'n_estimators': 141, 'n_jobs': 4, 'gamma': 0.07235488336801903, 'reg_lambda': 1.9075746815526822, 'reg_alpha': 1.4500183069145547}\n",
      "0.7030853761622993\n"
     ]
    },
    {
     "name": "stderr",
     "output_type": "stream",
     "text": [
      "[I 2019-08-21 14:26:52,627] Finished trial#34 resulted in value: -0.7030853761622993. Current best value is -0.7199915469146237 with parameters: {'max_depth': 2, 'learning_rate': 0.1915080215190348, 'n_estimators ': 187, 'gamma': 0.15905172196715622, 'reg_lambda': 2.2850865012194888, 'reg_alpha': 1.3747030530276112}.\n"
     ]
    },
    {
     "name": "stdout",
     "output_type": "stream",
     "text": [
      "{'max_depth': 5, 'learning_rate': 0.1886733004404826, 'n_estimators': 162, 'n_jobs': 4, 'gamma': 0.10227676625260268, 'reg_lambda': 2.754111299942296, 'reg_alpha': 1.1098807201964895}\n",
      "0.6932938856015778\n"
     ]
    },
    {
     "name": "stderr",
     "output_type": "stream",
     "text": [
      "[I 2019-08-21 14:27:06,840] Finished trial#35 resulted in value: -0.6932938856015778. Current best value is -0.7199915469146237 with parameters: {'max_depth': 2, 'learning_rate': 0.1915080215190348, 'n_estimators ': 187, 'gamma': 0.15905172196715622, 'reg_lambda': 2.2850865012194888, 'reg_alpha': 1.3747030530276112}.\n"
     ]
    },
    {
     "name": "stdout",
     "output_type": "stream",
     "text": [
      "{'max_depth': 2, 'learning_rate': 0.17596614346485814, 'n_estimators': 187, 'n_jobs': 4, 'gamma': 0.18283501516251335, 'reg_lambda': 2.4590055611173134, 'reg_alpha': 1.6316397340570346}\n",
      "0.7275288813750352\n"
     ]
    },
    {
     "name": "stderr",
     "output_type": "stream",
     "text": [
      "[I 2019-08-21 14:27:15,027] Finished trial#36 resulted in value: -0.7275288813750352. Current best value is -0.7275288813750352 with parameters: {'max_depth': 2, 'learning_rate': 0.17596614346485814, 'n_estimators ': 187, 'gamma': 0.18283501516251335, 'reg_lambda': 2.4590055611173134, 'reg_alpha': 1.6316397340570346}.\n"
     ]
    },
    {
     "name": "stdout",
     "output_type": "stream",
     "text": [
      "{'max_depth': 2, 'learning_rate': 0.19976567047456023, 'n_estimators': 186, 'n_jobs': 4, 'gamma': 0.0177600940694254, 'reg_lambda': 2.41007655649695, 'reg_alpha': 1.8226844402860733}\n",
      "0.7221048182586645\n"
     ]
    },
    {
     "name": "stderr",
     "output_type": "stream",
     "text": [
      "[I 2019-08-21 14:27:24,021] Finished trial#37 resulted in value: -0.7221048182586645. Current best value is -0.7275288813750352 with parameters: {'max_depth': 2, 'learning_rate': 0.17596614346485814, 'n_estimators ': 187, 'gamma': 0.18283501516251335, 'reg_lambda': 2.4590055611173134, 'reg_alpha': 1.6316397340570346}.\n"
     ]
    },
    {
     "name": "stdout",
     "output_type": "stream",
     "text": [
      "{'max_depth': 3, 'learning_rate': 0.19515326433647887, 'n_estimators': 191, 'n_jobs': 4, 'gamma': 0.0032133434163401364, 'reg_lambda': 2.47724820691678, 'reg_alpha': 2.294386839433928}\n",
      "0.710974922513384\n"
     ]
    },
    {
     "name": "stderr",
     "output_type": "stream",
     "text": [
      "[I 2019-08-21 14:27:33,377] Finished trial#38 resulted in value: -0.710974922513384. Current best value is -0.7275288813750352 with parameters: {'max_depth': 2, 'learning_rate': 0.17596614346485814, 'n_estimators ': 187, 'gamma': 0.18283501516251335, 'reg_lambda': 2.4590055611173134, 'reg_alpha': 1.6316397340570346}.\n"
     ]
    },
    {
     "name": "stdout",
     "output_type": "stream",
     "text": [
      "{'max_depth': 1, 'learning_rate': 0.1761190894674447, 'n_estimators': 188, 'n_jobs': 4, 'gamma': 0.19187508562413186, 'reg_lambda': 2.12272051511676, 'reg_alpha': 1.8417619833997765}\n",
      "0.6356015779092702\n"
     ]
    },
    {
     "name": "stderr",
     "output_type": "stream",
     "text": [
      "[I 2019-08-21 14:27:38,493] Finished trial#39 resulted in value: -0.6356015779092702. Current best value is -0.7275288813750352 with parameters: {'max_depth': 2, 'learning_rate': 0.17596614346485814, 'n_estimators ': 187, 'gamma': 0.18283501516251335, 'reg_lambda': 2.4590055611173134, 'reg_alpha': 1.6316397340570346}.\n"
     ]
    },
    {
     "name": "stdout",
     "output_type": "stream",
     "text": [
      "{'max_depth': 2, 'learning_rate': 0.19931852646500103, 'n_estimators': 168, 'n_jobs': 4, 'gamma': 0.12372785475572323, 'reg_lambda': 2.0265622368923153, 'reg_alpha': 1.598422277062209}\n",
      "0.7229501267962806\n"
     ]
    },
    {
     "name": "stderr",
     "output_type": "stream",
     "text": [
      "[I 2019-08-21 14:27:45,275] Finished trial#40 resulted in value: -0.7229501267962806. Current best value is -0.7275288813750352 with parameters: {'max_depth': 2, 'learning_rate': 0.17596614346485814, 'n_estimators ': 187, 'gamma': 0.18283501516251335, 'reg_lambda': 2.4590055611173134, 'reg_alpha': 1.6316397340570346}.\n"
     ]
    },
    {
     "name": "stdout",
     "output_type": "stream",
     "text": [
      "{'max_depth': 2, 'learning_rate': 0.19751499230892883, 'n_estimators': 172, 'n_jobs': 4, 'gamma': 0.13650405887400627, 'reg_lambda': 2.2986410232678165, 'reg_alpha': 1.5584061733384749}\n",
      "0.7238658777120315\n"
     ]
    },
    {
     "name": "stderr",
     "output_type": "stream",
     "text": [
      "[I 2019-08-21 14:27:51,678] Finished trial#41 resulted in value: -0.7238658777120315. Current best value is -0.7275288813750352 with parameters: {'max_depth': 2, 'learning_rate': 0.17596614346485814, 'n_estimators ': 187, 'gamma': 0.18283501516251335, 'reg_lambda': 2.4590055611173134, 'reg_alpha': 1.6316397340570346}.\n"
     ]
    },
    {
     "name": "stdout",
     "output_type": "stream",
     "text": [
      "{'max_depth': 2, 'learning_rate': 0.1987068798937271, 'n_estimators': 171, 'n_jobs': 4, 'gamma': 0.1237939620043754, 'reg_lambda': 2.0087136841902957, 'reg_alpha': 1.6208133695116511}\n",
      "0.7209777402085095\n"
     ]
    },
    {
     "name": "stderr",
     "output_type": "stream",
     "text": [
      "[I 2019-08-21 14:27:57,812] Finished trial#42 resulted in value: -0.7209777402085095. Current best value is -0.7275288813750352 with parameters: {'max_depth': 2, 'learning_rate': 0.17596614346485814, 'n_estimators ': 187, 'gamma': 0.18283501516251335, 'reg_lambda': 2.4590055611173134, 'reg_alpha': 1.6316397340570346}.\n"
     ]
    },
    {
     "name": "stdout",
     "output_type": "stream",
     "text": [
      "{'max_depth': 2, 'learning_rate': 0.19986040137692546, 'n_estimators': 147, 'n_jobs': 4, 'gamma': 0.03882547054512275, 'reg_lambda': 1.994501464929922, 'reg_alpha': 1.6228745645982539}\n",
      "0.7116793462947311\n"
     ]
    },
    {
     "name": "stderr",
     "output_type": "stream",
     "text": [
      "[I 2019-08-21 14:28:03,710] Finished trial#43 resulted in value: -0.7116793462947311. Current best value is -0.7275288813750352 with parameters: {'max_depth': 2, 'learning_rate': 0.17596614346485814, 'n_estimators ': 187, 'gamma': 0.18283501516251335, 'reg_lambda': 2.4590055611173134, 'reg_alpha': 1.6316397340570346}.\n"
     ]
    },
    {
     "name": "stdout",
     "output_type": "stream",
     "text": [
      "{'max_depth': 3, 'learning_rate': 0.18801220671890165, 'n_estimators': 169, 'n_jobs': 4, 'gamma': 0.11366259858255245, 'reg_lambda': 1.849464250851115, 'reg_alpha': 2.092161096478378}\n",
      "0.7092843054381516\n"
     ]
    },
    {
     "name": "stderr",
     "output_type": "stream",
     "text": [
      "[I 2019-08-21 14:28:12,044] Finished trial#44 resulted in value: -0.7092843054381516. Current best value is -0.7275288813750352 with parameters: {'max_depth': 2, 'learning_rate': 0.17596614346485814, 'n_estimators ': 187, 'gamma': 0.18283501516251335, 'reg_lambda': 2.4590055611173134, 'reg_alpha': 1.6316397340570346}.\n"
     ]
    },
    {
     "name": "stdout",
     "output_type": "stream",
     "text": [
      "{'max_depth': 1, 'learning_rate': 0.19808500461510606, 'n_estimators': 156, 'n_jobs': 4, 'gamma': 0.1271240472028427, 'reg_lambda': 2.2211487691869616, 'reg_alpha': 1.7034123234391407}\n",
      "0.6565229642152719\n"
     ]
    },
    {
     "name": "stderr",
     "output_type": "stream",
     "text": [
      "[I 2019-08-21 14:28:16,044] Finished trial#45 resulted in value: -0.6565229642152719. Current best value is -0.7275288813750352 with parameters: {'max_depth': 2, 'learning_rate': 0.17596614346485814, 'n_estimators ': 187, 'gamma': 0.18283501516251335, 'reg_lambda': 2.4590055611173134, 'reg_alpha': 1.6316397340570346}.\n"
     ]
    },
    {
     "name": "stdout",
     "output_type": "stream",
     "text": [
      "{'max_depth': 2, 'learning_rate': 0.19815911220249915, 'n_estimators': 180, 'n_jobs': 4, 'gamma': 0.04204470890795671, 'reg_lambda': 2.0090459622796137, 'reg_alpha': 1.87955000913753}\n",
      "0.7169625246548322\n"
     ]
    },
    {
     "name": "stderr",
     "output_type": "stream",
     "text": [
      "[I 2019-08-21 14:28:22,795] Finished trial#46 resulted in value: -0.7169625246548322. Current best value is -0.7275288813750352 with parameters: {'max_depth': 2, 'learning_rate': 0.17596614346485814, 'n_estimators ': 187, 'gamma': 0.18283501516251335, 'reg_lambda': 2.4590055611173134, 'reg_alpha': 1.6316397340570346}.\n"
     ]
    },
    {
     "name": "stdout",
     "output_type": "stream",
     "text": [
      "{'max_depth': 3, 'learning_rate': 0.1867642055111336, 'n_estimators': 175, 'n_jobs': 4, 'gamma': 0.23186829332614378, 'reg_lambda': 2.4405856852901535, 'reg_alpha': 1.577407105438159}\n",
      "0.7218934911242603\n"
     ]
    },
    {
     "name": "stderr",
     "output_type": "stream",
     "text": [
      "[I 2019-08-21 14:28:31,777] Finished trial#47 resulted in value: -0.7218934911242603. Current best value is -0.7275288813750352 with parameters: {'max_depth': 2, 'learning_rate': 0.17596614346485814, 'n_estimators ': 187, 'gamma': 0.18283501516251335, 'reg_lambda': 2.4590055611173134, 'reg_alpha': 1.6316397340570346}.\n"
     ]
    },
    {
     "name": "stdout",
     "output_type": "stream",
     "text": [
      "{'max_depth': 3, 'learning_rate': 0.1786467048636309, 'n_estimators': 200, 'n_jobs': 4, 'gamma': 0.23395097554594962, 'reg_lambda': 2.4107329039117706, 'reg_alpha': 2.3177274010219526}\n",
      "0.6881515919977459\n"
     ]
    },
    {
     "name": "stderr",
     "output_type": "stream",
     "text": [
      "[I 2019-08-21 14:28:42,212] Finished trial#48 resulted in value: -0.6881515919977459. Current best value is -0.7275288813750352 with parameters: {'max_depth': 2, 'learning_rate': 0.17596614346485814, 'n_estimators ': 187, 'gamma': 0.18283501516251335, 'reg_lambda': 2.4590055611173134, 'reg_alpha': 1.6316397340570346}.\n"
     ]
    },
    {
     "name": "stdout",
     "output_type": "stream",
     "text": [
      "{'max_depth': 4, 'learning_rate': 0.16776535814234636, 'n_estimators': 176, 'n_jobs': 4, 'gamma': 0.19766221788821242, 'reg_lambda': 2.289212984907582, 'reg_alpha': 2.1881524469765123}\n",
      "0.713229078613694\n"
     ]
    },
    {
     "name": "stderr",
     "output_type": "stream",
     "text": [
      "[I 2019-08-21 14:28:54,212] Finished trial#49 resulted in value: -0.713229078613694. Current best value is -0.7275288813750352 with parameters: {'max_depth': 2, 'learning_rate': 0.17596614346485814, 'n_estimators ': 187, 'gamma': 0.18283501516251335, 'reg_lambda': 2.4590055611173134, 'reg_alpha': 1.6316397340570346}.\n"
     ]
    },
    {
     "name": "stdout",
     "output_type": "stream",
     "text": [
      "{'max_depth': 1, 'learning_rate': 0.18686182126142678, 'n_estimators': 131, 'n_jobs': 4, 'gamma': 0.8776118391582644, 'reg_lambda': 2.548655769828637, 'reg_alpha': 1.984430975969704}\n",
      "0.5810087348548887\n"
     ]
    },
    {
     "name": "stderr",
     "output_type": "stream",
     "text": [
      "[I 2019-08-21 14:28:57,612] Finished trial#50 resulted in value: -0.5810087348548887. Current best value is -0.7275288813750352 with parameters: {'max_depth': 2, 'learning_rate': 0.17596614346485814, 'n_estimators ': 187, 'gamma': 0.18283501516251335, 'reg_lambda': 2.4590055611173134, 'reg_alpha': 1.6316397340570346}.\n"
     ]
    },
    {
     "name": "stdout",
     "output_type": "stream",
     "text": [
      "{'max_depth': 2, 'learning_rate': 0.19310444681537958, 'n_estimators': 167, 'n_jobs': 4, 'gamma': 0.1569159080782777, 'reg_lambda': 2.0904724222272693, 'reg_alpha': 1.613600339514544}\n",
      "0.7173851789236405\n"
     ]
    },
    {
     "name": "stderr",
     "output_type": "stream",
     "text": [
      "[I 2019-08-21 14:29:03,594] Finished trial#51 resulted in value: -0.7173851789236405. Current best value is -0.7275288813750352 with parameters: {'max_depth': 2, 'learning_rate': 0.17596614346485814, 'n_estimators ': 187, 'gamma': 0.18283501516251335, 'reg_lambda': 2.4590055611173134, 'reg_alpha': 1.6316397340570346}.\n"
     ]
    },
    {
     "name": "stdout",
     "output_type": "stream",
     "text": [
      "{'max_depth': 2, 'learning_rate': 0.1996361987121807, 'n_estimators': 187, 'n_jobs': 4, 'gamma': 0.24502273235441252, 'reg_lambda': 1.8585850527642374, 'reg_alpha': 1.5324270741892567}\n",
      "0.7175260636799099\n"
     ]
    },
    {
     "name": "stderr",
     "output_type": "stream",
     "text": [
      "[I 2019-08-21 14:29:10,629] Finished trial#52 resulted in value: -0.7175260636799099. Current best value is -0.7275288813750352 with parameters: {'max_depth': 2, 'learning_rate': 0.17596614346485814, 'n_estimators ': 187, 'gamma': 0.18283501516251335, 'reg_lambda': 2.4590055611173134, 'reg_alpha': 1.6316397340570346}.\n"
     ]
    },
    {
     "name": "stdout",
     "output_type": "stream",
     "text": [
      "{'max_depth': 3, 'learning_rate': 0.19309326761450563, 'n_estimators': 151, 'n_jobs': 4, 'gamma': 0.12050506908318037, 'reg_lambda': 2.4859889679801026, 'reg_alpha': 1.7838583526970049}\n",
      "0.7089320935474782\n"
     ]
    },
    {
     "name": "stderr",
     "output_type": "stream",
     "text": [
      "[I 2019-08-21 14:29:18,494] Finished trial#53 resulted in value: -0.7089320935474782. Current best value is -0.7275288813750352 with parameters: {'max_depth': 2, 'learning_rate': 0.17596614346485814, 'n_estimators ': 187, 'gamma': 0.18283501516251335, 'reg_lambda': 2.4590055611173134, 'reg_alpha': 1.6316397340570346}.\n"
     ]
    },
    {
     "name": "stdout",
     "output_type": "stream",
     "text": [
      "{'max_depth': 2, 'learning_rate': 0.17702857185735926, 'n_estimators': 163, 'n_jobs': 4, 'gamma': 0.029263576966924994, 'reg_lambda': 1.6347196278681635, 'reg_alpha': 1.598647623705778}\n",
      "0.7181600450831219\n"
     ]
    },
    {
     "name": "stderr",
     "output_type": "stream",
     "text": [
      "[I 2019-08-21 14:29:25,130] Finished trial#54 resulted in value: -0.7181600450831219. Current best value is -0.7275288813750352 with parameters: {'max_depth': 2, 'learning_rate': 0.17596614346485814, 'n_estimators ': 187, 'gamma': 0.18283501516251335, 'reg_lambda': 2.4590055611173134, 'reg_alpha': 1.6316397340570346}.\n"
     ]
    },
    {
     "name": "stdout",
     "output_type": "stream",
     "text": [
      "{'max_depth': 1, 'learning_rate': 0.1834260601594595, 'n_estimators': 175, 'n_jobs': 4, 'gamma': 0.1956091830148848, 'reg_lambda': 2.2050346776930643, 'reg_alpha': 1.7046703815278992}\n",
      "0.643068469991547\n"
     ]
    },
    {
     "name": "stderr",
     "output_type": "stream",
     "text": [
      "[I 2019-08-21 14:29:29,348] Finished trial#55 resulted in value: -0.643068469991547. Current best value is -0.7275288813750352 with parameters: {'max_depth': 2, 'learning_rate': 0.17596614346485814, 'n_estimators ': 187, 'gamma': 0.18283501516251335, 'reg_lambda': 2.4590055611173134, 'reg_alpha': 1.6316397340570346}.\n"
     ]
    },
    {
     "name": "stdout",
     "output_type": "stream",
     "text": [
      "{'max_depth': 3, 'learning_rate': 0.19887245713890325, 'n_estimators': 191, 'n_jobs': 4, 'gamma': 0.0010003486169596898, 'reg_lambda': 2.315188031745506, 'reg_alpha': 1.429136995202132}\n",
      "0.7170329670329672\n"
     ]
    },
    {
     "name": "stderr",
     "output_type": "stream",
     "text": [
      "[I 2019-08-21 14:29:34,780] Finished trial#56 resulted in value: -0.7170329670329672. Current best value is -0.7275288813750352 with parameters: {'max_depth': 2, 'learning_rate': 0.17596614346485814, 'n_estimators ': 187, 'gamma': 0.18283501516251335, 'reg_lambda': 2.4590055611173134, 'reg_alpha': 1.6316397340570346}.\n"
     ]
    },
    {
     "name": "stdout",
     "output_type": "stream",
     "text": [
      "{'max_depth': 3, 'learning_rate': 0.18767615422486672, 'n_estimators': 200, 'n_jobs': 4, 'gamma': 0.07758064177499069, 'reg_lambda': 2.6251421036853335, 'reg_alpha': 1.9540466795584268}\n",
      "0.7113975767821922\n"
     ]
    },
    {
     "name": "stderr",
     "output_type": "stream",
     "text": [
      "[I 2019-08-21 14:29:44,879] Finished trial#57 resulted in value: -0.7113975767821922. Current best value is -0.7275288813750352 with parameters: {'max_depth': 2, 'learning_rate': 0.17596614346485814, 'n_estimators ': 187, 'gamma': 0.18283501516251335, 'reg_lambda': 2.4590055611173134, 'reg_alpha': 1.6316397340570346}.\n"
     ]
    },
    {
     "name": "stdout",
     "output_type": "stream",
     "text": [
      "{'max_depth': 1, 'learning_rate': 0.19397368421702793, 'n_estimators': 181, 'n_jobs': 4, 'gamma': 0.17207249283143278, 'reg_lambda': 1.8032556795644157, 'reg_alpha': 1.7886346361380825}\n",
      "0.6413778529163146\n"
     ]
    },
    {
     "name": "stderr",
     "output_type": "stream",
     "text": [
      "[I 2019-08-21 14:29:49,163] Finished trial#58 resulted in value: -0.6413778529163146. Current best value is -0.7275288813750352 with parameters: {'max_depth': 2, 'learning_rate': 0.17596614346485814, 'n_estimators ': 187, 'gamma': 0.18283501516251335, 'reg_lambda': 2.4590055611173134, 'reg_alpha': 1.6316397340570346}.\n"
     ]
    },
    {
     "name": "stdout",
     "output_type": "stream",
     "text": [
      "{'max_depth': 2, 'learning_rate': 0.19993414823425681, 'n_estimators': 156, 'n_jobs': 4, 'gamma': 0.26469547720492836, 'reg_lambda': 1.9523430319232349, 'reg_alpha': 2.526025297851545}\n",
      "0.6868836291913214\n"
     ]
    },
    {
     "name": "stderr",
     "output_type": "stream",
     "text": [
      "[I 2019-08-21 14:29:55,197] Finished trial#59 resulted in value: -0.6868836291913214. Current best value is -0.7275288813750352 with parameters: {'max_depth': 2, 'learning_rate': 0.17596614346485814, 'n_estimators ': 187, 'gamma': 0.18283501516251335, 'reg_lambda': 2.4590055611173134, 'reg_alpha': 1.6316397340570346}.\n"
     ]
    },
    {
     "name": "stdout",
     "output_type": "stream",
     "text": [
      "{'max_depth': 4, 'learning_rate': 0.17795383099063367, 'n_estimators': 173, 'n_jobs': 4, 'gamma': 0.1241485978152307, 'reg_lambda': 2.45305207517644, 'reg_alpha': 1.3224808179446588}\n",
      "0.719921104536489\n"
     ]
    },
    {
     "name": "stderr",
     "output_type": "stream",
     "text": [
      "[I 2019-08-21 14:30:06,464] Finished trial#60 resulted in value: -0.719921104536489. Current best value is -0.7275288813750352 with parameters: {'max_depth': 2, 'learning_rate': 0.17596614346485814, 'n_estimators ': 187, 'gamma': 0.18283501516251335, 'reg_lambda': 2.4590055611173134, 'reg_alpha': 1.6316397340570346}.\n"
     ]
    },
    {
     "name": "stdout",
     "output_type": "stream",
     "text": [
      "{'max_depth': 2, 'learning_rate': 0.19249910689607294, 'n_estimators': 191, 'n_jobs': 4, 'gamma': 0.22176817395207932, 'reg_lambda': 2.098967511543418, 'reg_alpha': 1.5683026380923877}\n",
      "0.6969568892645815\n"
     ]
    },
    {
     "name": "stderr",
     "output_type": "stream",
     "text": [
      "[I 2019-08-21 14:30:13,868] Finished trial#61 resulted in value: -0.6969568892645815. Current best value is -0.7275288813750352 with parameters: {'max_depth': 2, 'learning_rate': 0.17596614346485814, 'n_estimators ': 187, 'gamma': 0.18283501516251335, 'reg_lambda': 2.4590055611173134, 'reg_alpha': 1.6316397340570346}.\n"
     ]
    },
    {
     "name": "stdout",
     "output_type": "stream",
     "text": [
      "{'max_depth': 2, 'learning_rate': 0.18439808329055407, 'n_estimators': 183, 'n_jobs': 4, 'gamma': 0.15308740116383932, 'reg_lambda': 2.313352246133701, 'reg_alpha': 1.6883127001799352}\n",
      "0.7237954353338968\n"
     ]
    },
    {
     "name": "stderr",
     "output_type": "stream",
     "text": [
      "[I 2019-08-21 14:30:20,379] Finished trial#62 resulted in value: -0.7237954353338968. Current best value is -0.7275288813750352 with parameters: {'max_depth': 2, 'learning_rate': 0.17596614346485814, 'n_estimators ': 187, 'gamma': 0.18283501516251335, 'reg_lambda': 2.4590055611173134, 'reg_alpha': 1.6316397340570346}.\n"
     ]
    },
    {
     "name": "stdout",
     "output_type": "stream",
     "text": [
      "{'max_depth': 2, 'learning_rate': 0.18546986465032353, 'n_estimators': 168, 'n_jobs': 4, 'gamma': 0.08390082610307367, 'reg_lambda': 2.3151467404369135, 'reg_alpha': 1.8831812311557976}\n",
      "0.726683572837419\n"
     ]
    },
    {
     "name": "stderr",
     "output_type": "stream",
     "text": [
      "[I 2019-08-21 14:30:27,215] Finished trial#63 resulted in value: -0.726683572837419. Current best value is -0.7275288813750352 with parameters: {'max_depth': 2, 'learning_rate': 0.17596614346485814, 'n_estimators ': 187, 'gamma': 0.18283501516251335, 'reg_lambda': 2.4590055611173134, 'reg_alpha': 1.6316397340570346}.\n"
     ]
    },
    {
     "name": "stdout",
     "output_type": "stream",
     "text": [
      "{'max_depth': 3, 'learning_rate': 0.16608742227298628, 'n_estimators': 184, 'n_jobs': 4, 'gamma': 0.07591150428576338, 'reg_lambda': 2.313332504399424, 'reg_alpha': 2.068887149754368}\n",
      "0.7166807551422936\n"
     ]
    },
    {
     "name": "stderr",
     "output_type": "stream",
     "text": [
      "[I 2019-08-21 14:30:36,563] Finished trial#64 resulted in value: -0.7166807551422936. Current best value is -0.7275288813750352 with parameters: {'max_depth': 2, 'learning_rate': 0.17596614346485814, 'n_estimators ': 187, 'gamma': 0.18283501516251335, 'reg_lambda': 2.4590055611173134, 'reg_alpha': 1.6316397340570346}.\n"
     ]
    },
    {
     "name": "stdout",
     "output_type": "stream",
     "text": [
      "{'max_depth': 1, 'learning_rate': 0.15936014485947841, 'n_estimators': 165, 'n_jobs': 4, 'gamma': 0.1708160248291938, 'reg_lambda': 2.1782549658166754, 'reg_alpha': 1.896787315271642}\n",
      "0.6364468864468865\n"
     ]
    },
    {
     "name": "stderr",
     "output_type": "stream",
     "text": [
      "[I 2019-08-21 14:30:41,084] Finished trial#65 resulted in value: -0.6364468864468865. Current best value is -0.7275288813750352 with parameters: {'max_depth': 2, 'learning_rate': 0.17596614346485814, 'n_estimators ': 187, 'gamma': 0.18283501516251335, 'reg_lambda': 2.4590055611173134, 'reg_alpha': 1.6316397340570346}.\n"
     ]
    },
    {
     "name": "stdout",
     "output_type": "stream",
     "text": [
      "{'max_depth': 1, 'learning_rate': 0.1848122217767239, 'n_estimators': 195, 'n_jobs': 4, 'gamma': 0.03033213772433995, 'reg_lambda': 2.5543239836710967, 'reg_alpha': 2.1912050901421845}\n",
      "0.6507466892082276\n"
     ]
    },
    {
     "name": "stderr",
     "output_type": "stream",
     "text": [
      "[I 2019-08-21 14:30:46,424] Finished trial#66 resulted in value: -0.6507466892082276. Current best value is -0.7275288813750352 with parameters: {'max_depth': 2, 'learning_rate': 0.17596614346485814, 'n_estimators ': 187, 'gamma': 0.18283501516251335, 'reg_lambda': 2.4590055611173134, 'reg_alpha': 1.6316397340570346}.\n"
     ]
    },
    {
     "name": "stdout",
     "output_type": "stream",
     "text": [
      "{'max_depth': 2, 'learning_rate': 0.17259305337371167, 'n_estimators': 180, 'n_jobs': 4, 'gamma': 0.35970406662030935, 'reg_lambda': 2.3950956378481125, 'reg_alpha': 1.7358576535500445}\n",
      "0.6840659340659341\n"
     ]
    },
    {
     "name": "stderr",
     "output_type": "stream",
     "text": [
      "[I 2019-08-21 14:30:59,123] Finished trial#67 resulted in value: -0.6840659340659341. Current best value is -0.7275288813750352 with parameters: {'max_depth': 2, 'learning_rate': 0.17596614346485814, 'n_estimators ': 187, 'gamma': 0.18283501516251335, 'reg_lambda': 2.4590055611173134, 'reg_alpha': 1.6316397340570346}.\n"
     ]
    },
    {
     "name": "stdout",
     "output_type": "stream",
     "text": [
      "{'max_depth': 3, 'learning_rate': 0.18024563587763934, 'n_estimators': 160, 'n_jobs': 4, 'gamma': 0.14239473199964411, 'reg_lambda': 2.8517861008667187, 'reg_alpha': 1.8397635688577558}\n",
      "0.7072414764722458\n"
     ]
    },
    {
     "name": "stderr",
     "output_type": "stream",
     "text": [
      "[I 2019-08-21 14:31:07,469] Finished trial#68 resulted in value: -0.7072414764722458. Current best value is -0.7275288813750352 with parameters: {'max_depth': 2, 'learning_rate': 0.17596614346485814, 'n_estimators ': 187, 'gamma': 0.18283501516251335, 'reg_lambda': 2.4590055611173134, 'reg_alpha': 1.6316397340570346}.\n"
     ]
    },
    {
     "name": "stdout",
     "output_type": "stream",
     "text": [
      "{'max_depth': 2, 'learning_rate': 0.14868773420702142, 'n_estimators': 142, 'n_jobs': 4, 'gamma': 0.2676345190001055, 'reg_lambda': 2.2533545472007646, 'reg_alpha': 1.4183897261460272}\n",
      "0.7010425471963934\n"
     ]
    },
    {
     "name": "stderr",
     "output_type": "stream",
     "text": [
      "[I 2019-08-21 14:31:13,195] Finished trial#69 resulted in value: -0.7010425471963934. Current best value is -0.7275288813750352 with parameters: {'max_depth': 2, 'learning_rate': 0.17596614346485814, 'n_estimators ': 187, 'gamma': 0.18283501516251335, 'reg_lambda': 2.4590055611173134, 'reg_alpha': 1.6316397340570346}.\n"
     ]
    },
    {
     "name": "stdout",
     "output_type": "stream",
     "text": [
      "{'max_depth': 3, 'learning_rate': 0.17522323333538747, 'n_estimators': 184, 'n_jobs': 4, 'gamma': 0.0906498993958296, 'reg_lambda': 2.6098673339765246, 'reg_alpha': 1.5038007969120195}\n",
      "0.7037193575655114\n"
     ]
    },
    {
     "name": "stderr",
     "output_type": "stream",
     "text": [
      "[I 2019-08-21 14:31:22,225] Finished trial#70 resulted in value: -0.7037193575655114. Current best value is -0.7275288813750352 with parameters: {'max_depth': 2, 'learning_rate': 0.17596614346485814, 'n_estimators ': 187, 'gamma': 0.18283501516251335, 'reg_lambda': 2.4590055611173134, 'reg_alpha': 1.6316397340570346}.\n"
     ]
    },
    {
     "name": "stdout",
     "output_type": "stream",
     "text": [
      "{'max_depth': 2, 'learning_rate': 0.19027493223728434, 'n_estimators': 170, 'n_jobs': 4, 'gamma': 0.1768496436566025, 'reg_lambda': 2.3528586265989864, 'reg_alpha': 1.671905883211772}\n",
      "0.713863060016906\n"
     ]
    },
    {
     "name": "stderr",
     "output_type": "stream",
     "text": [
      "[I 2019-08-21 14:31:29,278] Finished trial#71 resulted in value: -0.713863060016906. Current best value is -0.7275288813750352 with parameters: {'max_depth': 2, 'learning_rate': 0.17596614346485814, 'n_estimators ': 187, 'gamma': 0.18283501516251335, 'reg_lambda': 2.4590055611173134, 'reg_alpha': 1.6316397340570346}.\n"
     ]
    },
    {
     "name": "stdout",
     "output_type": "stream",
     "text": [
      "{'max_depth': 2, 'learning_rate': 0.1857110811191121, 'n_estimators': 175, 'n_jobs': 4, 'gamma': 0.10317175956280261, 'reg_lambda': 2.436725708037574, 'reg_alpha': 1.323271273167399}\n",
      "0.7151310228233304\n"
     ]
    },
    {
     "name": "stderr",
     "output_type": "stream",
     "text": [
      "[I 2019-08-21 14:31:36,717] Finished trial#72 resulted in value: -0.7151310228233304. Current best value is -0.7275288813750352 with parameters: {'max_depth': 2, 'learning_rate': 0.17596614346485814, 'n_estimators ': 187, 'gamma': 0.18283501516251335, 'reg_lambda': 2.4590055611173134, 'reg_alpha': 1.6316397340570346}.\n"
     ]
    },
    {
     "name": "stdout",
     "output_type": "stream",
     "text": [
      "{'max_depth': 2, 'learning_rate': 0.1953800155039092, 'n_estimators': 168, 'n_jobs': 4, 'gamma': 0.1438155799013584, 'reg_lambda': 2.1627376217720524, 'reg_alpha': 1.640334836038919}\n",
      "0.7345026768103691\n"
     ]
    },
    {
     "name": "stderr",
     "output_type": "stream",
     "text": [
      "[I 2019-08-21 14:31:43,219] Finished trial#73 resulted in value: -0.7345026768103691. Current best value is -0.7345026768103691 with parameters: {'max_depth': 2, 'learning_rate': 0.1953800155039092, 'n_estimators ': 168, 'gamma': 0.1438155799013584, 'reg_lambda': 2.1627376217720524, 'reg_alpha': 1.640334836038919}.\n"
     ]
    },
    {
     "name": "stdout",
     "output_type": "stream",
     "text": [
      "{'max_depth': 1, 'learning_rate': 0.1955233756255428, 'n_estimators': 151, 'n_jobs': 4, 'gamma': 0.3029326969095528, 'reg_lambda': 2.147655590154102, 'reg_alpha': 2.0385033361491973}\n",
      "0.6049591434206818\n"
     ]
    },
    {
     "name": "stderr",
     "output_type": "stream",
     "text": [
      "[I 2019-08-21 14:31:48,208] Finished trial#74 resulted in value: -0.6049591434206818. Current best value is -0.7345026768103691 with parameters: {'max_depth': 2, 'learning_rate': 0.1953800155039092, 'n_estimators ': 168, 'gamma': 0.1438155799013584, 'reg_lambda': 2.1627376217720524, 'reg_alpha': 1.640334836038919}.\n"
     ]
    },
    {
     "name": "stdout",
     "output_type": "stream",
     "text": [
      "{'max_depth': 2, 'learning_rate': 0.1916998992732144, 'n_estimators': 167, 'n_jobs': 4, 'gamma': 0.21519258073455477, 'reg_lambda': 2.072457185526286, 'reg_alpha': 1.7473958133749325}\n",
      "0.7152014652014651\n"
     ]
    },
    {
     "name": "stderr",
     "output_type": "stream",
     "text": [
      "[I 2019-08-21 14:31:54,251] Finished trial#75 resulted in value: -0.7152014652014651. Current best value is -0.7345026768103691 with parameters: {'max_depth': 2, 'learning_rate': 0.1953800155039092, 'n_estimators ': 168, 'gamma': 0.1438155799013584, 'reg_lambda': 2.1627376217720524, 'reg_alpha': 1.640334836038919}.\n"
     ]
    },
    {
     "name": "stdout",
     "output_type": "stream",
     "text": [
      "{'max_depth': 3, 'learning_rate': 0.1836834815881245, 'n_estimators': 158, 'n_jobs': 4, 'gamma': 0.06466470361602736, 'reg_lambda': 2.2616241498377256, 'reg_alpha': 1.8886335476029488}\n",
      "0.7159763313609467\n"
     ]
    },
    {
     "name": "stderr",
     "output_type": "stream",
     "text": [
      "[I 2019-08-21 14:32:03,149] Finished trial#76 resulted in value: -0.7159763313609467. Current best value is -0.7345026768103691 with parameters: {'max_depth': 2, 'learning_rate': 0.1953800155039092, 'n_estimators ': 168, 'gamma': 0.1438155799013584, 'reg_lambda': 2.1627376217720524, 'reg_alpha': 1.640334836038919}.\n"
     ]
    },
    {
     "name": "stdout",
     "output_type": "stream",
     "text": [
      "{'max_depth': 1, 'learning_rate': 0.16915269980924733, 'n_estimators': 189, 'n_jobs': 4, 'gamma': 0.15043702629720906, 'reg_lambda': 2.5175373075864824, 'reg_alpha': 1.5482111557068345}\n",
      "0.6482107635953789\n"
     ]
    },
    {
     "name": "stderr",
     "output_type": "stream",
     "text": [
      "[I 2019-08-21 14:32:07,717] Finished trial#77 resulted in value: -0.6482107635953789. Current best value is -0.7345026768103691 with parameters: {'max_depth': 2, 'learning_rate': 0.1953800155039092, 'n_estimators ': 168, 'gamma': 0.1438155799013584, 'reg_lambda': 2.1627376217720524, 'reg_alpha': 1.640334836038919}.\n"
     ]
    },
    {
     "name": "stdout",
     "output_type": "stream",
     "text": [
      "{'max_depth': 2, 'learning_rate': 0.1812382275848426, 'n_estimators': 178, 'n_jobs': 4, 'gamma': 0.05704412835035966, 'reg_lambda': 2.7463943226090106, 'reg_alpha': 1.454240239981852}\n",
      "0.7202733164271625\n"
     ]
    },
    {
     "name": "stderr",
     "output_type": "stream",
     "text": [
      "[I 2019-08-21 14:32:14,120] Finished trial#78 resulted in value: -0.7202733164271625. Current best value is -0.7345026768103691 with parameters: {'max_depth': 2, 'learning_rate': 0.1953800155039092, 'n_estimators ': 168, 'gamma': 0.1438155799013584, 'reg_lambda': 2.1627376217720524, 'reg_alpha': 1.640334836038919}.\n"
     ]
    },
    {
     "name": "stdout",
     "output_type": "stream",
     "text": [
      "{'max_depth': 2, 'learning_rate': 0.1901317819466794, 'n_estimators': 195, 'n_jobs': 4, 'gamma': 0.017856022011984635, 'reg_lambda': 0.8943470373904251, 'reg_alpha': 1.146012360694639}\n",
      "0.680050718512257\n"
     ]
    },
    {
     "name": "stderr",
     "output_type": "stream",
     "text": [
      "[I 2019-08-21 14:32:22,070] Finished trial#79 resulted in value: -0.680050718512257. Current best value is -0.7345026768103691 with parameters: {'max_depth': 2, 'learning_rate': 0.1953800155039092, 'n_estimators ': 168, 'gamma': 0.1438155799013584, 'reg_lambda': 2.1627376217720524, 'reg_alpha': 1.640334836038919}.\n"
     ]
    },
    {
     "name": "stdout",
     "output_type": "stream",
     "text": [
      "{'max_depth': 3, 'learning_rate': 0.19589710280501307, 'n_estimators': 163, 'n_jobs': 4, 'gamma': 0.25043841286915836, 'reg_lambda': 2.3365991720602346, 'reg_alpha': 1.6736541819898165}\n",
      "0.706537052690899\n"
     ]
    },
    {
     "name": "stderr",
     "output_type": "stream",
     "text": [
      "[I 2019-08-21 14:32:30,346] Finished trial#80 resulted in value: -0.706537052690899. Current best value is -0.7345026768103691 with parameters: {'max_depth': 2, 'learning_rate': 0.1953800155039092, 'n_estimators ': 168, 'gamma': 0.1438155799013584, 'reg_lambda': 2.1627376217720524, 'reg_alpha': 1.640334836038919}.\n"
     ]
    },
    {
     "name": "stdout",
     "output_type": "stream",
     "text": [
      "{'max_depth': 2, 'learning_rate': 0.1973603786295838, 'n_estimators': 171, 'n_jobs': 4, 'gamma': 0.1317488151550052, 'reg_lambda': 1.9506872557042745, 'reg_alpha': 1.618429720921836}\n",
      "0.7230205691744153\n"
     ]
    },
    {
     "name": "stderr",
     "output_type": "stream",
     "text": [
      "[I 2019-08-21 14:32:37,268] Finished trial#81 resulted in value: -0.7230205691744153. Current best value is -0.7345026768103691 with parameters: {'max_depth': 2, 'learning_rate': 0.1953800155039092, 'n_estimators ': 168, 'gamma': 0.1438155799013584, 'reg_lambda': 2.1627376217720524, 'reg_alpha': 1.640334836038919}.\n"
     ]
    },
    {
     "name": "stdout",
     "output_type": "stream",
     "text": [
      "{'max_depth': 2, 'learning_rate': 0.18735619855331206, 'n_estimators': 182, 'n_jobs': 4, 'gamma': 0.13916469670172496, 'reg_lambda': 1.9320611129493444, 'reg_alpha': 1.8173952714495205}\n",
      "0.7209777402085095\n"
     ]
    },
    {
     "name": "stderr",
     "output_type": "stream",
     "text": [
      "[I 2019-08-21 14:32:43,658] Finished trial#82 resulted in value: -0.7209777402085095. Current best value is -0.7345026768103691 with parameters: {'max_depth': 2, 'learning_rate': 0.1953800155039092, 'n_estimators ': 168, 'gamma': 0.1438155799013584, 'reg_lambda': 2.1627376217720524, 'reg_alpha': 1.640334836038919}.\n"
     ]
    },
    {
     "name": "stdout",
     "output_type": "stream",
     "text": [
      "{'max_depth': 1, 'learning_rate': 0.19597063786955873, 'n_estimators': 172, 'n_jobs': 4, 'gamma': 0.10142028827497614, 'reg_lambda': 2.051606572406292, 'reg_alpha': 1.660220215526188}\n",
      "0.6513806706114399\n"
     ]
    },
    {
     "name": "stderr",
     "output_type": "stream",
     "text": [
      "[I 2019-08-21 14:32:47,878] Finished trial#83 resulted in value: -0.6513806706114399. Current best value is -0.7345026768103691 with parameters: {'max_depth': 2, 'learning_rate': 0.1953800155039092, 'n_estimators ': 168, 'gamma': 0.1438155799013584, 'reg_lambda': 2.1627376217720524, 'reg_alpha': 1.640334836038919}.\n"
     ]
    },
    {
     "name": "stdout",
     "output_type": "stream",
     "text": [
      "{'max_depth': 2, 'learning_rate': 0.17356481819957117, 'n_estimators': 176, 'n_jobs': 4, 'gamma': 0.18231474015769447, 'reg_lambda': 2.165674929926148, 'reg_alpha': 1.5063510226006533}\n",
      "0.7314032121724429\n"
     ]
    },
    {
     "name": "stderr",
     "output_type": "stream",
     "text": [
      "[I 2019-08-21 14:32:54,384] Finished trial#84 resulted in value: -0.7314032121724429. Current best value is -0.7345026768103691 with parameters: {'max_depth': 2, 'learning_rate': 0.1953800155039092, 'n_estimators ': 168, 'gamma': 0.1438155799013584, 'reg_lambda': 2.1627376217720524, 'reg_alpha': 1.640334836038919}.\n"
     ]
    },
    {
     "name": "stdout",
     "output_type": "stream",
     "text": [
      "{'max_depth': 2, 'learning_rate': 0.16066649496460444, 'n_estimators': 167, 'n_jobs': 4, 'gamma': 0.16238157774672224, 'reg_lambda': 2.2046792475217747, 'reg_alpha': 1.2541871616845597}\n",
      "0.725767821921668\n"
     ]
    },
    {
     "name": "stderr",
     "output_type": "stream",
     "text": [
      "[I 2019-08-21 14:33:00,218] Finished trial#85 resulted in value: -0.725767821921668. Current best value is -0.7345026768103691 with parameters: {'max_depth': 2, 'learning_rate': 0.1953800155039092, 'n_estimators ': 168, 'gamma': 0.1438155799013584, 'reg_lambda': 2.1627376217720524, 'reg_alpha': 1.640334836038919}.\n"
     ]
    },
    {
     "name": "stdout",
     "output_type": "stream",
     "text": [
      "{'max_depth': 2, 'learning_rate': 0.16024387210609314, 'n_estimators': 154, 'n_jobs': 4, 'gamma': 0.19766045741976246, 'reg_lambda': 2.192949627061732, 'reg_alpha': 1.2673600480936145}\n",
      "0.7240067624683009\n"
     ]
    },
    {
     "name": "stderr",
     "output_type": "stream",
     "text": [
      "[I 2019-08-21 14:33:06,417] Finished trial#86 resulted in value: -0.7240067624683009. Current best value is -0.7345026768103691 with parameters: {'max_depth': 2, 'learning_rate': 0.1953800155039092, 'n_estimators ': 168, 'gamma': 0.1438155799013584, 'reg_lambda': 2.1627376217720524, 'reg_alpha': 1.640334836038919}.\n"
     ]
    },
    {
     "name": "stdout",
     "output_type": "stream",
     "text": [
      "{'max_depth': 2, 'learning_rate': 0.16128198715931016, 'n_estimators': 153, 'n_jobs': 4, 'gamma': 0.1856849256789546, 'reg_lambda': 2.1798395673277, 'reg_alpha': 1.2316780934320837}\n",
      "0.723513665821358\n"
     ]
    },
    {
     "name": "stderr",
     "output_type": "stream",
     "text": [
      "[I 2019-08-21 14:33:12,822] Finished trial#87 resulted in value: -0.723513665821358. Current best value is -0.7345026768103691 with parameters: {'max_depth': 2, 'learning_rate': 0.1953800155039092, 'n_estimators ': 168, 'gamma': 0.1438155799013584, 'reg_lambda': 2.1627376217720524, 'reg_alpha': 1.640334836038919}.\n"
     ]
    },
    {
     "name": "stdout",
     "output_type": "stream",
     "text": [
      "{'max_depth': 1, 'learning_rate': 0.1601552500282431, 'n_estimators': 153, 'n_jobs': 4, 'gamma': 0.19859134117895075, 'reg_lambda': 2.1915623383848812, 'reg_alpha': 1.181393795312373}\n",
      "0.6491265145111299\n"
     ]
    },
    {
     "name": "stderr",
     "output_type": "stream",
     "text": [
      "[I 2019-08-21 14:33:18,223] Finished trial#88 resulted in value: -0.6491265145111299. Current best value is -0.7345026768103691 with parameters: {'max_depth': 2, 'learning_rate': 0.1953800155039092, 'n_estimators ': 168, 'gamma': 0.1438155799013584, 'reg_lambda': 2.1627376217720524, 'reg_alpha': 1.640334836038919}.\n"
     ]
    },
    {
     "name": "stdout",
     "output_type": "stream",
     "text": [
      "{'max_depth': 1, 'learning_rate': 0.15247340900879272, 'n_estimators': 143, 'n_jobs': 4, 'gamma': 0.18216645472517656, 'reg_lambda': 2.269555547882884, 'reg_alpha': 1.016200015212466}\n",
      "0.6515215553677091\n"
     ]
    },
    {
     "name": "stderr",
     "output_type": "stream",
     "text": [
      "[I 2019-08-21 14:33:22,589] Finished trial#89 resulted in value: -0.6515215553677091. Current best value is -0.7345026768103691 with parameters: {'max_depth': 2, 'learning_rate': 0.1953800155039092, 'n_estimators ': 168, 'gamma': 0.1438155799013584, 'reg_lambda': 2.1627376217720524, 'reg_alpha': 1.640334836038919}.\n"
     ]
    },
    {
     "name": "stdout",
     "output_type": "stream",
     "text": [
      "{'max_depth': 3, 'learning_rate': 0.16336417681431528, 'n_estimators': 129, 'n_jobs': 4, 'gamma': 0.32547013575270123, 'reg_lambda': 2.164309105810946, 'reg_alpha': 1.2516088977773518}\n",
      "0.673992673992674\n"
     ]
    },
    {
     "name": "stderr",
     "output_type": "stream",
     "text": [
      "[I 2019-08-21 14:33:29,551] Finished trial#90 resulted in value: -0.673992673992674. Current best value is -0.7345026768103691 with parameters: {'max_depth': 2, 'learning_rate': 0.1953800155039092, 'n_estimators ': 168, 'gamma': 0.1438155799013584, 'reg_lambda': 2.1627376217720524, 'reg_alpha': 1.640334836038919}.\n"
     ]
    },
    {
     "name": "stdout",
     "output_type": "stream",
     "text": [
      "{'max_depth': 2, 'learning_rate': 0.15617025845283147, 'n_estimators': 161, 'n_jobs': 4, 'gamma': 0.21569081813430457, 'reg_lambda': 2.2220517438482497, 'reg_alpha': 0.9362520509020853}\n",
      "0.7252042828965906\n"
     ]
    },
    {
     "name": "stderr",
     "output_type": "stream",
     "text": [
      "[I 2019-08-21 14:33:36,491] Finished trial#91 resulted in value: -0.7252042828965906. Current best value is -0.7345026768103691 with parameters: {'max_depth': 2, 'learning_rate': 0.1953800155039092, 'n_estimators ': 168, 'gamma': 0.1438155799013584, 'reg_lambda': 2.1627376217720524, 'reg_alpha': 1.640334836038919}.\n"
     ]
    },
    {
     "name": "stdout",
     "output_type": "stream",
     "text": [
      "{'max_depth': 2, 'learning_rate': 0.14807398904154784, 'n_estimators': 137, 'n_jobs': 4, 'gamma': 0.28070630317117545, 'reg_lambda': 2.2235224469608235, 'reg_alpha': 0.7313989680674584}\n",
      "0.7130881938574247\n"
     ]
    },
    {
     "name": "stderr",
     "output_type": "stream",
     "text": [
      "[I 2019-08-21 14:33:43,254] Finished trial#92 resulted in value: -0.7130881938574247. Current best value is -0.7345026768103691 with parameters: {'max_depth': 2, 'learning_rate': 0.1953800155039092, 'n_estimators ': 168, 'gamma': 0.1438155799013584, 'reg_lambda': 2.1627376217720524, 'reg_alpha': 1.640334836038919}.\n"
     ]
    },
    {
     "name": "stdout",
     "output_type": "stream",
     "text": [
      "{'max_depth': 2, 'learning_rate': 0.15488525263412434, 'n_estimators': 148, 'n_jobs': 4, 'gamma': 0.21234363855596522, 'reg_lambda': 2.113559940233663, 'reg_alpha': 0.9225717731573166}\n",
      "0.7124542124542124\n"
     ]
    },
    {
     "name": "stderr",
     "output_type": "stream",
     "text": [
      "[I 2019-08-21 14:33:49,698] Finished trial#93 resulted in value: -0.7124542124542124. Current best value is -0.7345026768103691 with parameters: {'max_depth': 2, 'learning_rate': 0.1953800155039092, 'n_estimators ': 168, 'gamma': 0.1438155799013584, 'reg_lambda': 2.1627376217720524, 'reg_alpha': 1.640334836038919}.\n"
     ]
    },
    {
     "name": "stdout",
     "output_type": "stream",
     "text": [
      "{'max_depth': 2, 'learning_rate': 0.1632064760593283, 'n_estimators': 160, 'n_jobs': 4, 'gamma': 0.16581101553989042, 'reg_lambda': 2.3499810160396457, 'reg_alpha': 0.5919873127128509}\n",
      "0.7142857142857143\n"
     ]
    },
    {
     "name": "stderr",
     "output_type": "stream",
     "text": [
      "[I 2019-08-21 14:33:56,120] Finished trial#94 resulted in value: -0.7142857142857143. Current best value is -0.7345026768103691 with parameters: {'max_depth': 2, 'learning_rate': 0.1953800155039092, 'n_estimators ': 168, 'gamma': 0.1438155799013584, 'reg_lambda': 2.1627376217720524, 'reg_alpha': 1.640334836038919}.\n"
     ]
    },
    {
     "name": "stdout",
     "output_type": "stream",
     "text": [
      "{'max_depth': 2, 'learning_rate': 0.1706862761674108, 'n_estimators': 155, 'n_jobs': 4, 'gamma': 0.15479048230920384, 'reg_lambda': 2.281874856805906, 'reg_alpha': 1.0695947453927699}\n",
      "0.7278810932657086\n"
     ]
    },
    {
     "name": "stderr",
     "output_type": "stream",
     "text": [
      "[I 2019-08-21 14:34:02,012] Finished trial#95 resulted in value: -0.7278810932657086. Current best value is -0.7345026768103691 with parameters: {'max_depth': 2, 'learning_rate': 0.1953800155039092, 'n_estimators ': 168, 'gamma': 0.1438155799013584, 'reg_lambda': 2.1627376217720524, 'reg_alpha': 1.640334836038919}.\n"
     ]
    },
    {
     "name": "stdout",
     "output_type": "stream",
     "text": [
      "{'max_depth': 2, 'learning_rate': 0.16955475786247484, 'n_estimators': 166, 'n_jobs': 4, 'gamma': 0.15305364424849477, 'reg_lambda': 2.2874243480638325, 'reg_alpha': 1.0984279746985988}\n",
      "0.7267540152155537\n"
     ]
    },
    {
     "name": "stderr",
     "output_type": "stream",
     "text": [
      "[I 2019-08-21 14:34:08,087] Finished trial#96 resulted in value: -0.7267540152155537. Current best value is -0.7345026768103691 with parameters: {'max_depth': 2, 'learning_rate': 0.1953800155039092, 'n_estimators ': 168, 'gamma': 0.1438155799013584, 'reg_lambda': 2.1627376217720524, 'reg_alpha': 1.640334836038919}.\n"
     ]
    },
    {
     "name": "stdout",
     "output_type": "stream",
     "text": [
      "{'max_depth': 3, 'learning_rate': 0.1561758246795317, 'n_estimators': 164, 'n_jobs': 4, 'gamma': 0.24818102754382493, 'reg_lambda': 2.4930105149569717, 'reg_alpha': 1.0786747568645674}\n",
      "0.7066779374471681\n"
     ]
    },
    {
     "name": "stderr",
     "output_type": "stream",
     "text": [
      "[I 2019-08-21 14:34:16,592] Finished trial#97 resulted in value: -0.7066779374471681. Current best value is -0.7345026768103691 with parameters: {'max_depth': 2, 'learning_rate': 0.1953800155039092, 'n_estimators ': 168, 'gamma': 0.1438155799013584, 'reg_lambda': 2.1627376217720524, 'reg_alpha': 1.640334836038919}.\n"
     ]
    },
    {
     "name": "stdout",
     "output_type": "stream",
     "text": [
      "{'max_depth': 1, 'learning_rate': 0.1712010585352972, 'n_estimators': 155, 'n_jobs': 4, 'gamma': 0.21133206990388967, 'reg_lambda': 2.373530265863982, 'reg_alpha': 0.8511764053890165}\n",
      "0.6433502395040857\n"
     ]
    },
    {
     "name": "stderr",
     "output_type": "stream",
     "text": [
      "[I 2019-08-21 14:34:20,443] Finished trial#98 resulted in value: -0.6433502395040857. Current best value is -0.7345026768103691 with parameters: {'max_depth': 2, 'learning_rate': 0.1953800155039092, 'n_estimators ': 168, 'gamma': 0.1438155799013584, 'reg_lambda': 2.1627376217720524, 'reg_alpha': 1.640334836038919}.\n"
     ]
    },
    {
     "name": "stdout",
     "output_type": "stream",
     "text": [
      "{'max_depth': 2, 'learning_rate': 0.16846523288335355, 'n_estimators': 145, 'n_jobs': 4, 'gamma': 0.09918166306113302, 'reg_lambda': 2.2714567678103528, 'reg_alpha': 0.9678246597645057}\n",
      "0.7082276697661313\n"
     ]
    },
    {
     "name": "stderr",
     "output_type": "stream",
     "text": [
      "[I 2019-08-21 14:34:26,370] Finished trial#99 resulted in value: -0.7082276697661313. Current best value is -0.7345026768103691 with parameters: {'max_depth': 2, 'learning_rate': 0.1953800155039092, 'n_estimators ': 168, 'gamma': 0.1438155799013584, 'reg_lambda': 2.1627376217720524, 'reg_alpha': 1.640334836038919}.\n"
     ]
    },
    {
     "name": "stdout",
     "output_type": "stream",
     "text": [
      "{'max_depth': 6, 'learning_rate': 0.1570774842127735, 'n_estimators': 97, 'n_jobs': 4, 'gamma': 0.6113480020798772, 'reg_lambda': 2.061319632593524, 'reg_alpha': 1.1111907955603146}\n",
      "0.6786418709495633\n"
     ]
    },
    {
     "name": "stderr",
     "output_type": "stream",
     "text": [
      "[I 2019-08-21 14:34:37,258] Finished trial#100 resulted in value: -0.6786418709495633. Current best value is -0.7345026768103691 with parameters: {'max_depth': 2, 'learning_rate': 0.1953800155039092, 'n_estimators ': 168, 'gamma': 0.1438155799013584, 'reg_lambda': 2.1627376217720524, 'reg_alpha': 1.640334836038919}.\n"
     ]
    },
    {
     "name": "stdout",
     "output_type": "stream",
     "text": [
      "{'max_depth': 2, 'learning_rate': 0.17424016619824312, 'n_estimators': 177, 'n_jobs': 4, 'gamma': 0.15613681291258397, 'reg_lambda': 2.2847838564523117, 'reg_alpha': 1.3768996918004381}\n",
      "0.7280219780219781\n"
     ]
    },
    {
     "name": "stderr",
     "output_type": "stream",
     "text": [
      "[I 2019-08-21 14:34:44,580] Finished trial#101 resulted in value: -0.7280219780219781. Current best value is -0.7345026768103691 with parameters: {'max_depth': 2, 'learning_rate': 0.1953800155039092, 'n_estimators ': 168, 'gamma': 0.1438155799013584, 'reg_lambda': 2.1627376217720524, 'reg_alpha': 1.640334836038919}.\n"
     ]
    },
    {
     "name": "stdout",
     "output_type": "stream",
     "text": [
      "{'max_depth': 2, 'learning_rate': 0.1733674251053766, 'n_estimators': 158, 'n_jobs': 4, 'gamma': 0.1522327756144464, 'reg_lambda': 2.213641685636823, 'reg_alpha': 1.3649518549800037}\n",
      "0.7339391377852916\n"
     ]
    },
    {
     "name": "stderr",
     "output_type": "stream",
     "text": [
      "[I 2019-08-21 14:34:50,486] Finished trial#102 resulted in value: -0.7339391377852916. Current best value is -0.7345026768103691 with parameters: {'max_depth': 2, 'learning_rate': 0.1953800155039092, 'n_estimators ': 168, 'gamma': 0.1438155799013584, 'reg_lambda': 2.1627376217720524, 'reg_alpha': 1.640334836038919}.\n"
     ]
    },
    {
     "name": "stdout",
     "output_type": "stream",
     "text": [
      "{'max_depth': 2, 'learning_rate': 0.17401642416379864, 'n_estimators': 159, 'n_jobs': 4, 'gamma': 0.1631456172130812, 'reg_lambda': 2.224363867019215, 'reg_alpha': 1.322759619643534}\n",
      "0.7224570301493379\n"
     ]
    },
    {
     "name": "stderr",
     "output_type": "stream",
     "text": [
      "[I 2019-08-21 14:34:56,770] Finished trial#103 resulted in value: -0.7224570301493379. Current best value is -0.7345026768103691 with parameters: {'max_depth': 2, 'learning_rate': 0.1953800155039092, 'n_estimators ': 168, 'gamma': 0.1438155799013584, 'reg_lambda': 2.1627376217720524, 'reg_alpha': 1.640334836038919}.\n"
     ]
    },
    {
     "name": "stdout",
     "output_type": "stream",
     "text": [
      "{'max_depth': 3, 'learning_rate': 0.16772308122589585, 'n_estimators': 167, 'n_jobs': 4, 'gamma': 0.19280499545529753, 'reg_lambda': 2.111797931028709, 'reg_alpha': 1.3514109345035406}\n",
      "0.7067483798253029\n"
     ]
    },
    {
     "name": "stderr",
     "output_type": "stream",
     "text": [
      "[I 2019-08-21 14:35:05,605] Finished trial#104 resulted in value: -0.7067483798253029. Current best value is -0.7345026768103691 with parameters: {'max_depth': 2, 'learning_rate': 0.1953800155039092, 'n_estimators ': 168, 'gamma': 0.1438155799013584, 'reg_lambda': 2.1627376217720524, 'reg_alpha': 1.640334836038919}.\n"
     ]
    },
    {
     "name": "stdout",
     "output_type": "stream",
     "text": [
      "{'max_depth': 2, 'learning_rate': 0.16600821873440352, 'n_estimators': 162, 'n_jobs': 4, 'gamma': 0.21952823048526576, 'reg_lambda': 1.9866909550476661, 'reg_alpha': 1.0163128194067326}\n",
      "0.7346435615666385\n"
     ]
    },
    {
     "name": "stderr",
     "output_type": "stream",
     "text": [
      "[I 2019-08-21 14:35:11,606] Finished trial#105 resulted in value: -0.7346435615666385. Current best value is -0.7346435615666385 with parameters: {'max_depth': 2, 'learning_rate': 0.16600821873440352, 'n_estimators ': 162, 'gamma': 0.21952823048526576, 'reg_lambda': 1.9866909550476661, 'reg_alpha': 1.0163128194067326}.\n"
     ]
    },
    {
     "name": "stdout",
     "output_type": "stream",
     "text": [
      "{'max_depth': 1, 'learning_rate': 0.17505466671660133, 'n_estimators': 177, 'n_jobs': 4, 'gamma': 0.2284077180915705, 'reg_lambda': 1.9913369337507227, 'reg_alpha': 0.8337781811748697}\n",
      "0.6465905888982814\n"
     ]
    },
    {
     "name": "stderr",
     "output_type": "stream",
     "text": [
      "[I 2019-08-21 14:35:16,585] Finished trial#106 resulted in value: -0.6465905888982814. Current best value is -0.7346435615666385 with parameters: {'max_depth': 2, 'learning_rate': 0.16600821873440352, 'n_estimators ': 162, 'gamma': 0.21952823048526576, 'reg_lambda': 1.9866909550476661, 'reg_alpha': 1.0163128194067326}.\n"
     ]
    },
    {
     "name": "stdout",
     "output_type": "stream",
     "text": [
      "{'max_depth': 2, 'learning_rate': 0.1705852213431092, 'n_estimators': 161, 'n_jobs': 4, 'gamma': 0.11745365412983179, 'reg_lambda': 2.392854530288356, 'reg_alpha': 0.9835070930514588}\n",
      "0.711890673429135\n"
     ]
    },
    {
     "name": "stderr",
     "output_type": "stream",
     "text": [
      "[I 2019-08-21 14:35:23,165] Finished trial#107 resulted in value: -0.711890673429135. Current best value is -0.7346435615666385 with parameters: {'max_depth': 2, 'learning_rate': 0.16600821873440352, 'n_estimators ': 162, 'gamma': 0.21952823048526576, 'reg_lambda': 1.9866909550476661, 'reg_alpha': 1.0163128194067326}.\n"
     ]
    },
    {
     "name": "stdout",
     "output_type": "stream",
     "text": [
      "{'max_depth': 2, 'learning_rate': 0.16602022306972652, 'n_estimators': 166, 'n_jobs': 4, 'gamma': 0.05124850153953968, 'reg_lambda': 1.8756483626091702, 'reg_alpha': 1.377231659093366}\n",
      "0.715905888982812\n"
     ]
    },
    {
     "name": "stderr",
     "output_type": "stream",
     "text": [
      "[I 2019-08-21 14:35:30,623] Finished trial#108 resulted in value: -0.715905888982812. Current best value is -0.7346435615666385 with parameters: {'max_depth': 2, 'learning_rate': 0.16600821873440352, 'n_estimators ': 162, 'gamma': 0.21952823048526576, 'reg_lambda': 1.9866909550476661, 'reg_alpha': 1.0163128194067326}.\n"
     ]
    },
    {
     "name": "stdout",
     "output_type": "stream",
     "text": [
      "{'max_depth': 3, 'learning_rate': 0.1778092577341784, 'n_estimators': 138, 'n_jobs': 4, 'gamma': 0.08784621058814637, 'reg_lambda': 1.8072164408510845, 'reg_alpha': 0.6321549773678399}\n",
      "0.7130177514792899\n"
     ]
    },
    {
     "name": "stderr",
     "output_type": "stream",
     "text": [
      "[I 2019-08-21 14:35:37,859] Finished trial#109 resulted in value: -0.7130177514792899. Current best value is -0.7346435615666385 with parameters: {'max_depth': 2, 'learning_rate': 0.16600821873440352, 'n_estimators ': 162, 'gamma': 0.21952823048526576, 'reg_lambda': 1.9866909550476661, 'reg_alpha': 1.0163128194067326}.\n"
     ]
    },
    {
     "name": "stdout",
     "output_type": "stream",
     "text": [
      "{'max_depth': 2, 'learning_rate': 0.17894241249695161, 'n_estimators': 174, 'n_jobs': 4, 'gamma': 0.155091359271732, 'reg_lambda': 2.140683330002902, 'reg_alpha': 1.149991990672076}\n",
      "0.7164694280078895\n"
     ]
    },
    {
     "name": "stderr",
     "output_type": "stream",
     "text": [
      "[I 2019-08-21 14:35:44,637] Finished trial#110 resulted in value: -0.7164694280078895. Current best value is -0.7346435615666385 with parameters: {'max_depth': 2, 'learning_rate': 0.16600821873440352, 'n_estimators ': 162, 'gamma': 0.21952823048526576, 'reg_lambda': 1.9866909550476661, 'reg_alpha': 1.0163128194067326}.\n"
     ]
    },
    {
     "name": "stdout",
     "output_type": "stream",
     "text": [
      "{'max_depth': 2, 'learning_rate': 0.1648612827912135, 'n_estimators': 157, 'n_jobs': 4, 'gamma': 0.18315273189696832, 'reg_lambda': 2.2342182472179126, 'reg_alpha': 1.0522495255554738}\n",
      "0.7247816286277824\n"
     ]
    },
    {
     "name": "stderr",
     "output_type": "stream",
     "text": [
      "[I 2019-08-21 14:35:51,086] Finished trial#111 resulted in value: -0.7247816286277824. Current best value is -0.7346435615666385 with parameters: {'max_depth': 2, 'learning_rate': 0.16600821873440352, 'n_estimators ': 162, 'gamma': 0.21952823048526576, 'reg_lambda': 1.9866909550476661, 'reg_alpha': 1.0163128194067326}.\n"
     ]
    },
    {
     "name": "stdout",
     "output_type": "stream",
     "text": [
      "{'max_depth': 2, 'learning_rate': 0.16531039060903255, 'n_estimators': 149, 'n_jobs': 4, 'gamma': 0.16908758320029735, 'reg_lambda': 2.3061996767940913, 'reg_alpha': 1.043853007177369}\n",
      "0.7280924204001128\n"
     ]
    },
    {
     "name": "stderr",
     "output_type": "stream",
     "text": [
      "[I 2019-08-21 14:35:56,603] Finished trial#112 resulted in value: -0.7280924204001128. Current best value is -0.7346435615666385 with parameters: {'max_depth': 2, 'learning_rate': 0.16600821873440352, 'n_estimators ': 162, 'gamma': 0.21952823048526576, 'reg_lambda': 1.9866909550476661, 'reg_alpha': 1.0163128194067326}.\n"
     ]
    },
    {
     "name": "stdout",
     "output_type": "stream",
     "text": [
      "{'max_depth': 1, 'learning_rate': 0.1709021987415306, 'n_estimators': 149, 'n_jobs': 4, 'gamma': 0.13852642903142906, 'reg_lambda': 2.310893139320394, 'reg_alpha': 1.2001594523209749}\n",
      "0.6438433361510284\n"
     ]
    },
    {
     "name": "stderr",
     "output_type": "stream",
     "text": [
      "[I 2019-08-21 14:36:00,931] Finished trial#113 resulted in value: -0.6438433361510284. Current best value is -0.7346435615666385 with parameters: {'max_depth': 2, 'learning_rate': 0.16600821873440352, 'n_estimators ': 162, 'gamma': 0.21952823048526576, 'reg_lambda': 1.9866909550476661, 'reg_alpha': 1.0163128194067326}.\n"
     ]
    },
    {
     "name": "stdout",
     "output_type": "stream",
     "text": [
      "{'max_depth': 2, 'learning_rate': 0.17606284722023052, 'n_estimators': 163, 'n_jobs': 4, 'gamma': 0.10987203903681995, 'reg_lambda': 2.426518674042557, 'reg_alpha': 1.0286345405309423}\n",
      "0.7081572273879967\n"
     ]
    },
    {
     "name": "stderr",
     "output_type": "stream",
     "text": [
      "[I 2019-08-21 14:36:07,087] Finished trial#114 resulted in value: -0.7081572273879967. Current best value is -0.7346435615666385 with parameters: {'max_depth': 2, 'learning_rate': 0.16600821873440352, 'n_estimators ': 162, 'gamma': 0.21952823048526576, 'reg_lambda': 1.9866909550476661, 'reg_alpha': 1.0163128194067326}.\n"
     ]
    },
    {
     "name": "stdout",
     "output_type": "stream",
     "text": [
      "{'max_depth': 3, 'learning_rate': 0.1736243917819322, 'n_estimators': 168, 'n_jobs': 4, 'gamma': 0.24758281617645977, 'reg_lambda': 2.279921510726834, 'reg_alpha': 0.9398477769769942}\n",
      "0.705339532262609\n"
     ]
    },
    {
     "name": "stderr",
     "output_type": "stream",
     "text": [
      "[I 2019-08-21 14:36:15,391] Finished trial#115 resulted in value: -0.705339532262609. Current best value is -0.7346435615666385 with parameters: {'max_depth': 2, 'learning_rate': 0.16600821873440352, 'n_estimators ': 162, 'gamma': 0.21952823048526576, 'reg_lambda': 1.9866909550476661, 'reg_alpha': 1.0163128194067326}.\n"
     ]
    },
    {
     "name": "stdout",
     "output_type": "stream",
     "text": [
      "{'max_depth': 2, 'learning_rate': 0.16648008729513541, 'n_estimators': 178, 'n_jobs': 4, 'gamma': 0.7370644159732922, 'reg_lambda': 2.3650289716171464, 'reg_alpha': 0.7970641330745213}\n",
      "0.6743448858833474\n"
     ]
    },
    {
     "name": "stderr",
     "output_type": "stream",
     "text": [
      "[I 2019-08-21 14:36:22,446] Finished trial#116 resulted in value: -0.6743448858833474. Current best value is -0.7346435615666385 with parameters: {'max_depth': 2, 'learning_rate': 0.16600821873440352, 'n_estimators ': 162, 'gamma': 0.21952823048526576, 'reg_lambda': 1.9866909550476661, 'reg_alpha': 1.0163128194067326}.\n"
     ]
    },
    {
     "name": "stdout",
     "output_type": "stream",
     "text": [
      "{'max_depth': 2, 'learning_rate': 0.15078989272717103, 'n_estimators': 170, 'n_jobs': 4, 'gamma': 0.16619304282629435, 'reg_lambda': 2.153077536221176, 'reg_alpha': 0.8904567286313159}\n",
      "0.7125950972104818\n"
     ]
    },
    {
     "name": "stderr",
     "output_type": "stream",
     "text": [
      "[I 2019-08-21 14:36:28,697] Finished trial#117 resulted in value: -0.7125950972104818. Current best value is -0.7346435615666385 with parameters: {'max_depth': 2, 'learning_rate': 0.16600821873440352, 'n_estimators ': 162, 'gamma': 0.21952823048526576, 'reg_lambda': 1.9866909550476661, 'reg_alpha': 1.0163128194067326}.\n"
     ]
    },
    {
     "name": "stdout",
     "output_type": "stream",
     "text": [
      "{'max_depth': 1, 'learning_rate': 0.17994399574369913, 'n_estimators': 161, 'n_jobs': 4, 'gamma': 0.21440223843590922, 'reg_lambda': 2.04276947197518, 'reg_alpha': 1.4019313106589706}\n",
      "0.6535643843336152\n"
     ]
    },
    {
     "name": "stderr",
     "output_type": "stream",
     "text": [
      "[I 2019-08-21 14:36:33,246] Finished trial#118 resulted in value: -0.6535643843336152. Current best value is -0.7346435615666385 with parameters: {'max_depth': 2, 'learning_rate': 0.16600821873440352, 'n_estimators ': 162, 'gamma': 0.21952823048526576, 'reg_lambda': 1.9866909550476661, 'reg_alpha': 1.0163128194067326}.\n"
     ]
    },
    {
     "name": "stdout",
     "output_type": "stream",
     "text": [
      "{'max_depth': 2, 'learning_rate': 0.1619994509183484, 'n_estimators': 147, 'n_jobs': 4, 'gamma': 0.07562150287891876, 'reg_lambda': 2.2347624235064663, 'reg_alpha': 1.1355566767522924}\n",
      "0.7126655395886166\n"
     ]
    },
    {
     "name": "stderr",
     "output_type": "stream",
     "text": [
      "[I 2019-08-21 14:36:39,006] Finished trial#119 resulted in value: -0.7126655395886166. Current best value is -0.7346435615666385 with parameters: {'max_depth': 2, 'learning_rate': 0.16600821873440352, 'n_estimators ': 162, 'gamma': 0.21952823048526576, 'reg_lambda': 1.9866909550476661, 'reg_alpha': 1.0163128194067326}.\n"
     ]
    },
    {
     "name": "stdout",
     "output_type": "stream",
     "text": [
      "{'max_depth': 3, 'learning_rate': 0.14000883556978028, 'n_estimators': 158, 'n_jobs': 4, 'gamma': 0.27324351236366073, 'reg_lambda': 2.457794475572699, 'reg_alpha': 1.0605147909163182}\n",
      "0.6963229078613694\n"
     ]
    },
    {
     "name": "stderr",
     "output_type": "stream",
     "text": [
      "[I 2019-08-21 14:36:47,487] Finished trial#120 resulted in value: -0.6963229078613694. Current best value is -0.7346435615666385 with parameters: {'max_depth': 2, 'learning_rate': 0.16600821873440352, 'n_estimators ': 162, 'gamma': 0.21952823048526576, 'reg_lambda': 1.9866909550476661, 'reg_alpha': 1.0163128194067326}.\n"
     ]
    },
    {
     "name": "stdout",
     "output_type": "stream",
     "text": [
      "{'max_depth': 2, 'learning_rate': 0.1657339847910755, 'n_estimators': 156, 'n_jobs': 4, 'gamma': 0.18663385518351577, 'reg_lambda': 2.2224238150143467, 'reg_alpha': 1.0718720131086865}\n",
      "0.7292899408284024\n"
     ]
    },
    {
     "name": "stderr",
     "output_type": "stream",
     "text": [
      "[I 2019-08-21 14:36:53,951] Finished trial#121 resulted in value: -0.7292899408284024. Current best value is -0.7346435615666385 with parameters: {'max_depth': 2, 'learning_rate': 0.16600821873440352, 'n_estimators ': 162, 'gamma': 0.21952823048526576, 'reg_lambda': 1.9866909550476661, 'reg_alpha': 1.0163128194067326}.\n"
     ]
    },
    {
     "name": "stdout",
     "output_type": "stream",
     "text": [
      "{'max_depth': 2, 'learning_rate': 0.1696202278026805, 'n_estimators': 165, 'n_jobs': 4, 'gamma': 0.14402542701456755, 'reg_lambda': 2.319979211716427, 'reg_alpha': 1.50606423718256}\n",
      "0.7274584389969005\n"
     ]
    },
    {
     "name": "stderr",
     "output_type": "stream",
     "text": [
      "[I 2019-08-21 14:37:00,291] Finished trial#122 resulted in value: -0.7274584389969005. Current best value is -0.7346435615666385 with parameters: {'max_depth': 2, 'learning_rate': 0.16600821873440352, 'n_estimators ': 162, 'gamma': 0.21952823048526576, 'reg_lambda': 1.9866909550476661, 'reg_alpha': 1.0163128194067326}.\n"
     ]
    },
    {
     "name": "stdout",
     "output_type": "stream",
     "text": [
      "{'max_depth': 2, 'learning_rate': 0.1700097085901123, 'n_estimators': 174, 'n_jobs': 4, 'gamma': 0.1357864028813658, 'reg_lambda': 2.3205201941251166, 'reg_alpha': 1.486729495231274}\n",
      "0.7198506621583545\n"
     ]
    },
    {
     "name": "stderr",
     "output_type": "stream",
     "text": [
      "[I 2019-08-21 14:37:07,931] Finished trial#123 resulted in value: -0.7198506621583545. Current best value is -0.7346435615666385 with parameters: {'max_depth': 2, 'learning_rate': 0.16600821873440352, 'n_estimators ': 162, 'gamma': 0.21952823048526576, 'reg_lambda': 1.9866909550476661, 'reg_alpha': 1.0163128194067326}.\n"
     ]
    },
    {
     "name": "stdout",
     "output_type": "stream",
     "text": [
      "{'max_depth': 2, 'learning_rate': 0.17364108385429738, 'n_estimators': 165, 'n_jobs': 4, 'gamma': 0.15241593923029087, 'reg_lambda': 2.5309121436006836, 'reg_alpha': 1.3100404872239915}\n",
      "0.7304170188785573\n"
     ]
    },
    {
     "name": "stderr",
     "output_type": "stream",
     "text": [
      "[I 2019-08-21 14:37:14,299] Finished trial#124 resulted in value: -0.7304170188785573. Current best value is -0.7346435615666385 with parameters: {'max_depth': 2, 'learning_rate': 0.16600821873440352, 'n_estimators ': 162, 'gamma': 0.21952823048526576, 'reg_lambda': 1.9866909550476661, 'reg_alpha': 1.0163128194067326}.\n"
     ]
    },
    {
     "name": "stdout",
     "output_type": "stream",
     "text": [
      "{'max_depth': 2, 'learning_rate': 0.17329013861815762, 'n_estimators': 153, 'n_jobs': 4, 'gamma': 0.12126131575592147, 'reg_lambda': 2.600097031619527, 'reg_alpha': 1.5151685561962767}\n",
      "0.7291490560721329\n"
     ]
    },
    {
     "name": "stderr",
     "output_type": "stream",
     "text": [
      "[I 2019-08-21 14:37:20,145] Finished trial#125 resulted in value: -0.7291490560721329. Current best value is -0.7346435615666385 with parameters: {'max_depth': 2, 'learning_rate': 0.16600821873440352, 'n_estimators ': 162, 'gamma': 0.21952823048526576, 'reg_lambda': 1.9866909550476661, 'reg_alpha': 1.0163128194067326}.\n"
     ]
    },
    {
     "name": "stdout",
     "output_type": "stream",
     "text": [
      "{'max_depth': 1, 'learning_rate': 0.1731430474170381, 'n_estimators': 152, 'n_jobs': 4, 'gamma': 0.11481786565546644, 'reg_lambda': 2.5762820870270744, 'reg_alpha': 1.3046087038692773}\n",
      "0.6498309382924766\n"
     ]
    },
    {
     "name": "stderr",
     "output_type": "stream",
     "text": [
      "[I 2019-08-21 14:37:24,330] Finished trial#126 resulted in value: -0.6498309382924766. Current best value is -0.7346435615666385 with parameters: {'max_depth': 2, 'learning_rate': 0.16600821873440352, 'n_estimators ': 162, 'gamma': 0.21952823048526576, 'reg_lambda': 1.9866909550476661, 'reg_alpha': 1.0163128194067326}.\n"
     ]
    },
    {
     "name": "stdout",
     "output_type": "stream",
     "text": [
      "{'max_depth': 2, 'learning_rate': 0.1676064525943765, 'n_estimators': 155, 'n_jobs': 4, 'gamma': 0.14564337616177414, 'reg_lambda': 2.6678821518110167, 'reg_alpha': 1.5241813899310883}\n",
      "0.726894899971823\n"
     ]
    },
    {
     "name": "stderr",
     "output_type": "stream",
     "text": [
      "[I 2019-08-21 14:37:30,039] Finished trial#127 resulted in value: -0.726894899971823. Current best value is -0.7346435615666385 with parameters: {'max_depth': 2, 'learning_rate': 0.16600821873440352, 'n_estimators ': 162, 'gamma': 0.21952823048526576, 'reg_lambda': 1.9866909550476661, 'reg_alpha': 1.0163128194067326}.\n"
     ]
    },
    {
     "name": "stdout",
     "output_type": "stream",
     "text": [
      "{'max_depth': 3, 'learning_rate': 0.16591079807133122, 'n_estimators': 144, 'n_jobs': 4, 'gamma': 0.17851948403272508, 'reg_lambda': 2.6778120112897894, 'reg_alpha': 1.481725353276939}\n",
      "0.7073119188503801\n"
     ]
    },
    {
     "name": "stderr",
     "output_type": "stream",
     "text": [
      "[I 2019-08-21 14:37:38,041] Finished trial#128 resulted in value: -0.7073119188503801. Current best value is -0.7346435615666385 with parameters: {'max_depth': 2, 'learning_rate': 0.16600821873440352, 'n_estimators ': 162, 'gamma': 0.21952823048526576, 'reg_lambda': 1.9866909550476661, 'reg_alpha': 1.0163128194067326}.\n"
     ]
    },
    {
     "name": "stdout",
     "output_type": "stream",
     "text": [
      "{'max_depth': 2, 'learning_rate': 0.1762564917525533, 'n_estimators': 156, 'n_jobs': 4, 'gamma': 0.1304124905399154, 'reg_lambda': 2.780638844085646, 'reg_alpha': 1.545082746458536}\n",
      "0.7323894054663286\n"
     ]
    },
    {
     "name": "stderr",
     "output_type": "stream",
     "text": [
      "[I 2019-08-21 14:37:43,878] Finished trial#129 resulted in value: -0.7323894054663286. Current best value is -0.7346435615666385 with parameters: {'max_depth': 2, 'learning_rate': 0.16600821873440352, 'n_estimators ': 162, 'gamma': 0.21952823048526576, 'reg_lambda': 1.9866909550476661, 'reg_alpha': 1.0163128194067326}.\n"
     ]
    },
    {
     "name": "stdout",
     "output_type": "stream",
     "text": [
      "{'max_depth': 2, 'learning_rate': 0.17672330093040992, 'n_estimators': 140, 'n_jobs': 4, 'gamma': 0.10183754100615164, 'reg_lambda': 2.614967372265878, 'reg_alpha': 1.5043468447005786}\n",
      "0.7261200338123415\n"
     ]
    },
    {
     "name": "stderr",
     "output_type": "stream",
     "text": [
      "[I 2019-08-21 14:37:49,442] Finished trial#130 resulted in value: -0.7261200338123415. Current best value is -0.7346435615666385 with parameters: {'max_depth': 2, 'learning_rate': 0.16600821873440352, 'n_estimators ': 162, 'gamma': 0.21952823048526576, 'reg_lambda': 1.9866909550476661, 'reg_alpha': 1.0163128194067326}.\n"
     ]
    },
    {
     "name": "stdout",
     "output_type": "stream",
     "text": [
      "{'max_depth': 2, 'learning_rate': 0.18043322050289776, 'n_estimators': 150, 'n_jobs': 4, 'gamma': 0.13873813604635482, 'reg_lambda': 2.8348285236769883, 'reg_alpha': 1.4168930767024082}\n",
      "0.7287264018033247\n"
     ]
    },
    {
     "name": "stderr",
     "output_type": "stream",
     "text": [
      "[I 2019-08-21 14:37:55,942] Finished trial#131 resulted in value: -0.7287264018033247. Current best value is -0.7346435615666385 with parameters: {'max_depth': 2, 'learning_rate': 0.16600821873440352, 'n_estimators ': 162, 'gamma': 0.21952823048526576, 'reg_lambda': 1.9866909550476661, 'reg_alpha': 1.0163128194067326}.\n"
     ]
    },
    {
     "name": "stdout",
     "output_type": "stream",
     "text": [
      "{'max_depth': 2, 'learning_rate': 0.18094527395474053, 'n_estimators': 157, 'n_jobs': 4, 'gamma': 0.12945442626461462, 'reg_lambda': 2.81799648337753, 'reg_alpha': 1.4560251999693457}\n",
      "0.7284446322907862\n"
     ]
    },
    {
     "name": "stderr",
     "output_type": "stream",
     "text": [
      "[I 2019-08-21 14:38:01,986] Finished trial#132 resulted in value: -0.7284446322907862. Current best value is -0.7346435615666385 with parameters: {'max_depth': 2, 'learning_rate': 0.16600821873440352, 'n_estimators ': 162, 'gamma': 0.21952823048526576, 'reg_lambda': 1.9866909550476661, 'reg_alpha': 1.0163128194067326}.\n"
     ]
    },
    {
     "name": "stdout",
     "output_type": "stream",
     "text": [
      "{'max_depth': 2, 'learning_rate': 0.18184154250118656, 'n_estimators': 134, 'n_jobs': 4, 'gamma': 0.1230123176324806, 'reg_lambda': 2.9004192548785253, 'reg_alpha': 1.3894258738740817}\n",
      "0.7301352493660186\n"
     ]
    },
    {
     "name": "stderr",
     "output_type": "stream",
     "text": [
      "[I 2019-08-21 14:38:07,508] Finished trial#133 resulted in value: -0.7301352493660186. Current best value is -0.7346435615666385 with parameters: {'max_depth': 2, 'learning_rate': 0.16600821873440352, 'n_estimators ': 162, 'gamma': 0.21952823048526576, 'reg_lambda': 1.9866909550476661, 'reg_alpha': 1.0163128194067326}.\n"
     ]
    },
    {
     "name": "stdout",
     "output_type": "stream",
     "text": [
      "{'max_depth': 2, 'learning_rate': 0.18131650577000924, 'n_estimators': 133, 'n_jobs': 4, 'gamma': 0.128159501731663, 'reg_lambda': 2.914138112613148, 'reg_alpha': 1.4083609530663845}\n",
      "0.729571710340941\n"
     ]
    },
    {
     "name": "stderr",
     "output_type": "stream",
     "text": [
      "[I 2019-08-21 14:38:13,131] Finished trial#134 resulted in value: -0.729571710340941. Current best value is -0.7346435615666385 with parameters: {'max_depth': 2, 'learning_rate': 0.16600821873440352, 'n_estimators ': 162, 'gamma': 0.21952823048526576, 'reg_lambda': 1.9866909550476661, 'reg_alpha': 1.0163128194067326}.\n"
     ]
    },
    {
     "name": "stdout",
     "output_type": "stream",
     "text": [
      "{'max_depth': 1, 'learning_rate': 0.18088361191431968, 'n_estimators': 116, 'n_jobs': 4, 'gamma': 0.12529510338207359, 'reg_lambda': 2.895645236737987, 'reg_alpha': 1.4253068556142479}\n",
      "0.6495491687799381\n"
     ]
    },
    {
     "name": "stderr",
     "output_type": "stream",
     "text": [
      "[I 2019-08-21 14:38:16,257] Finished trial#135 resulted in value: -0.6495491687799381. Current best value is -0.7346435615666385 with parameters: {'max_depth': 2, 'learning_rate': 0.16600821873440352, 'n_estimators ': 162, 'gamma': 0.21952823048526576, 'reg_lambda': 1.9866909550476661, 'reg_alpha': 1.0163128194067326}.\n"
     ]
    },
    {
     "name": "stdout",
     "output_type": "stream",
     "text": [
      "{'max_depth': 2, 'learning_rate': 0.18225445750496455, 'n_estimators': 150, 'n_jobs': 4, 'gamma': 0.05853451476162408, 'reg_lambda': 2.799394802791179, 'reg_alpha': 1.3738543437540316}\n",
      "0.7159058889828122\n"
     ]
    },
    {
     "name": "stderr",
     "output_type": "stream",
     "text": [
      "[I 2019-08-21 14:38:21,832] Finished trial#136 resulted in value: -0.7159058889828122. Current best value is -0.7346435615666385 with parameters: {'max_depth': 2, 'learning_rate': 0.16600821873440352, 'n_estimators ': 162, 'gamma': 0.21952823048526576, 'reg_lambda': 1.9866909550476661, 'reg_alpha': 1.0163128194067326}.\n"
     ]
    },
    {
     "name": "stdout",
     "output_type": "stream",
     "text": [
      "{'max_depth': 2, 'learning_rate': 0.17776391679490502, 'n_estimators': 128, 'n_jobs': 4, 'gamma': 0.1182712395229773, 'reg_lambda': 2.8119088358284645, 'reg_alpha': 1.4315106930654242}\n",
      "0.7281628627782474\n"
     ]
    },
    {
     "name": "stderr",
     "output_type": "stream",
     "text": [
      "[I 2019-08-21 14:38:27,586] Finished trial#137 resulted in value: -0.7281628627782474. Current best value is -0.7346435615666385 with parameters: {'max_depth': 2, 'learning_rate': 0.16600821873440352, 'n_estimators ': 162, 'gamma': 0.21952823048526576, 'reg_lambda': 1.9866909550476661, 'reg_alpha': 1.0163128194067326}.\n"
     ]
    },
    {
     "name": "stdout",
     "output_type": "stream",
     "text": [
      "{'max_depth': 3, 'learning_rate': 0.17926858014539068, 'n_estimators': 131, 'n_jobs': 4, 'gamma': 0.09526447609586605, 'reg_lambda': 2.9033012839155883, 'reg_alpha': 1.452443399630947}\n",
      "0.7162581008734855\n"
     ]
    },
    {
     "name": "stderr",
     "output_type": "stream",
     "text": [
      "[I 2019-08-21 14:38:35,337] Finished trial#138 resulted in value: -0.7162581008734855. Current best value is -0.7346435615666385 with parameters: {'max_depth': 2, 'learning_rate': 0.16600821873440352, 'n_estimators ': 162, 'gamma': 0.21952823048526576, 'reg_lambda': 1.9866909550476661, 'reg_alpha': 1.0163128194067326}.\n"
     ]
    },
    {
     "name": "stdout",
     "output_type": "stream",
     "text": [
      "{'max_depth': 2, 'learning_rate': 0.18311657081942515, 'n_estimators': 126, 'n_jobs': 4, 'gamma': 0.08029878920649376, 'reg_lambda': 2.9542830385235463, 'reg_alpha': 1.5713959388954364}\n",
      "0.719498450267681\n"
     ]
    },
    {
     "name": "stderr",
     "output_type": "stream",
     "text": [
      "[I 2019-08-21 14:38:41,623] Finished trial#139 resulted in value: -0.719498450267681. Current best value is -0.7346435615666385 with parameters: {'max_depth': 2, 'learning_rate': 0.16600821873440352, 'n_estimators ': 162, 'gamma': 0.21952823048526576, 'reg_lambda': 1.9866909550476661, 'reg_alpha': 1.0163128194067326}.\n"
     ]
    },
    {
     "name": "stdout",
     "output_type": "stream",
     "text": [
      "{'max_depth': 1, 'learning_rate': 0.17740032712995138, 'n_estimators': 135, 'n_jobs': 4, 'gamma': 0.12845261227405774, 'reg_lambda': 2.7867912781010995, 'reg_alpha': 1.3010812136847547}\n",
      "0.649971823048746\n"
     ]
    },
    {
     "name": "stderr",
     "output_type": "stream",
     "text": [
      "[I 2019-08-21 14:38:45,182] Finished trial#140 resulted in value: -0.649971823048746. Current best value is -0.7346435615666385 with parameters: {'max_depth': 2, 'learning_rate': 0.16600821873440352, 'n_estimators ': 162, 'gamma': 0.21952823048526576, 'reg_lambda': 1.9866909550476661, 'reg_alpha': 1.0163128194067326}.\n"
     ]
    },
    {
     "name": "stdout",
     "output_type": "stream",
     "text": [
      "{'max_depth': 2, 'learning_rate': 0.17326256113022412, 'n_estimators': 121, 'n_jobs': 4, 'gamma': 0.11331709582345621, 'reg_lambda': 2.8339863698356447, 'reg_alpha': 1.3753767143493603}\n",
      "0.7256269371653986\n"
     ]
    },
    {
     "name": "stderr",
     "output_type": "stream",
     "text": [
      "[I 2019-08-21 14:38:49,749] Finished trial#141 resulted in value: -0.7256269371653986. Current best value is -0.7346435615666385 with parameters: {'max_depth': 2, 'learning_rate': 0.16600821873440352, 'n_estimators ': 162, 'gamma': 0.21952823048526576, 'reg_lambda': 1.9866909550476661, 'reg_alpha': 1.0163128194067326}.\n"
     ]
    },
    {
     "name": "stdout",
     "output_type": "stream",
     "text": [
      "{'max_depth': 2, 'learning_rate': 0.06688494321202088, 'n_estimators': 112, 'n_jobs': 4, 'gamma': 0.17972415014648793, 'reg_lambda': 2.72488557394944, 'reg_alpha': 1.413170651800285}\n",
      "0.7176669484361792\n"
     ]
    },
    {
     "name": "stderr",
     "output_type": "stream",
     "text": [
      "[I 2019-08-21 14:38:54,308] Finished trial#142 resulted in value: -0.7176669484361792. Current best value is -0.7346435615666385 with parameters: {'max_depth': 2, 'learning_rate': 0.16600821873440352, 'n_estimators ': 162, 'gamma': 0.21952823048526576, 'reg_lambda': 1.9866909550476661, 'reg_alpha': 1.0163128194067326}.\n"
     ]
    },
    {
     "name": "stdout",
     "output_type": "stream",
     "text": [
      "{'max_depth': 2, 'learning_rate': 0.17523537663032676, 'n_estimators': 135, 'n_jobs': 4, 'gamma': 0.1273439147869691, 'reg_lambda': 2.9885214537391698, 'reg_alpha': 1.2818621201388896}\n",
      "0.7307692307692307\n"
     ]
    },
    {
     "name": "stderr",
     "output_type": "stream",
     "text": [
      "[I 2019-08-21 14:39:00,454] Finished trial#143 resulted in value: -0.7307692307692307. Current best value is -0.7346435615666385 with parameters: {'max_depth': 2, 'learning_rate': 0.16600821873440352, 'n_estimators ': 162, 'gamma': 0.21952823048526576, 'reg_lambda': 1.9866909550476661, 'reg_alpha': 1.0163128194067326}.\n"
     ]
    },
    {
     "name": "stdout",
     "output_type": "stream",
     "text": [
      "{'max_depth': 2, 'learning_rate': 0.18065931300388896, 'n_estimators': 125, 'n_jobs': 4, 'gamma': 0.12870380930069056, 'reg_lambda': 2.9681535379048714, 'reg_alpha': 1.2048132263884606}\n",
      "0.7228092420400112\n"
     ]
    },
    {
     "name": "stderr",
     "output_type": "stream",
     "text": [
      "[I 2019-08-21 14:39:05,389] Finished trial#144 resulted in value: -0.7228092420400112. Current best value is -0.7346435615666385 with parameters: {'max_depth': 2, 'learning_rate': 0.16600821873440352, 'n_estimators ': 162, 'gamma': 0.21952823048526576, 'reg_lambda': 1.9866909550476661, 'reg_alpha': 1.0163128194067326}.\n"
     ]
    },
    {
     "name": "stdout",
     "output_type": "stream",
     "text": [
      "{'max_depth': 2, 'learning_rate': 0.1856389597889262, 'n_estimators': 132, 'n_jobs': 4, 'gamma': 0.19972640023094673, 'reg_lambda': 2.918553454932129, 'reg_alpha': 1.2725740457846035}\n",
      "0.7187940264863342\n"
     ]
    },
    {
     "name": "stderr",
     "output_type": "stream",
     "text": [
      "[I 2019-08-21 14:39:10,259] Finished trial#145 resulted in value: -0.7187940264863342. Current best value is -0.7346435615666385 with parameters: {'max_depth': 2, 'learning_rate': 0.16600821873440352, 'n_estimators ': 162, 'gamma': 0.21952823048526576, 'reg_lambda': 1.9866909550476661, 'reg_alpha': 1.0163128194067326}.\n"
     ]
    },
    {
     "name": "stdout",
     "output_type": "stream",
     "text": [
      "{'max_depth': 2, 'learning_rate': 0.1883447859058236, 'n_estimators': 135, 'n_jobs': 4, 'gamma': 0.0423495660734577, 'reg_lambda': 2.8453581836834014, 'reg_alpha': 1.5679535272777796}\n",
      "0.7216821639898563\n"
     ]
    },
    {
     "name": "stderr",
     "output_type": "stream",
     "text": [
      "[I 2019-08-21 14:39:15,870] Finished trial#146 resulted in value: -0.7216821639898563. Current best value is -0.7346435615666385 with parameters: {'max_depth': 2, 'learning_rate': 0.16600821873440352, 'n_estimators ': 162, 'gamma': 0.21952823048526576, 'reg_lambda': 1.9866909550476661, 'reg_alpha': 1.0163128194067326}.\n"
     ]
    },
    {
     "name": "stdout",
     "output_type": "stream",
     "text": [
      "{'max_depth': 2, 'learning_rate': 0.1771057762507836, 'n_estimators': 141, 'n_jobs': 4, 'gamma': 0.08962461035198828, 'reg_lambda': 2.775279619573141, 'reg_alpha': 1.458759604234474}\n",
      "0.7169625246548323\n"
     ]
    },
    {
     "name": "stderr",
     "output_type": "stream",
     "text": [
      "[I 2019-08-21 14:39:21,694] Finished trial#147 resulted in value: -0.7169625246548323. Current best value is -0.7346435615666385 with parameters: {'max_depth': 2, 'learning_rate': 0.16600821873440352, 'n_estimators ': 162, 'gamma': 0.21952823048526576, 'reg_lambda': 1.9866909550476661, 'reg_alpha': 1.0163128194067326}.\n"
     ]
    },
    {
     "name": "stdout",
     "output_type": "stream",
     "text": [
      "{'max_depth': 2, 'learning_rate': 0.10875325601802963, 'n_estimators': 146, 'n_jobs': 4, 'gamma': 0.07099399998445483, 'reg_lambda': 2.72739852468741, 'reg_alpha': 1.341603943555986}\n",
      "0.7174556213017752\n"
     ]
    },
    {
     "name": "stderr",
     "output_type": "stream",
     "text": [
      "[I 2019-08-21 14:39:27,800] Finished trial#148 resulted in value: -0.7174556213017752. Current best value is -0.7346435615666385 with parameters: {'max_depth': 2, 'learning_rate': 0.16600821873440352, 'n_estimators ': 162, 'gamma': 0.21952823048526576, 'reg_lambda': 1.9866909550476661, 'reg_alpha': 1.0163128194067326}.\n"
     ]
    },
    {
     "name": "stdout",
     "output_type": "stream",
     "text": [
      "{'max_depth': 5, 'learning_rate': 0.18233374417201015, 'n_estimators': 139, 'n_jobs': 4, 'gamma': 0.11006120065178279, 'reg_lambda': 2.93602089079129, 'reg_alpha': 0.2649484570509564}\n",
      "0.6900535362073823\n"
     ]
    },
    {
     "name": "stderr",
     "output_type": "stream",
     "text": [
      "[I 2019-08-21 14:39:41,478] Finished trial#149 resulted in value: -0.6900535362073823. Current best value is -0.7346435615666385 with parameters: {'max_depth': 2, 'learning_rate': 0.16600821873440352, 'n_estimators ': 162, 'gamma': 0.21952823048526576, 'reg_lambda': 1.9866909550476661, 'reg_alpha': 1.0163128194067326}.\n"
     ]
    },
    {
     "name": "stdout",
     "output_type": "stream",
     "text": [
      "{'max_depth': 3, 'learning_rate': 0.17246409897865875, 'n_estimators': 150, 'n_jobs': 4, 'gamma': 0.16730721447868488, 'reg_lambda': 2.8751855616672986, 'reg_alpha': 1.6373113722588475}\n",
      "0.7059030712876867\n"
     ]
    },
    {
     "name": "stderr",
     "output_type": "stream",
     "text": [
      "[I 2019-08-21 14:39:49,951] Finished trial#150 resulted in value: -0.7059030712876867. Current best value is -0.7346435615666385 with parameters: {'max_depth': 2, 'learning_rate': 0.16600821873440352, 'n_estimators ': 162, 'gamma': 0.21952823048526576, 'reg_lambda': 1.9866909550476661, 'reg_alpha': 1.0163128194067326}.\n"
     ]
    },
    {
     "name": "stdout",
     "output_type": "stream",
     "text": [
      "{'max_depth': 2, 'learning_rate': 0.17428936408798, 'n_estimators': 126, 'n_jobs': 4, 'gamma': 0.14299914437393413, 'reg_lambda': 2.9971221171607105, 'reg_alpha': 1.4260029814358626}\n",
      "0.7332347140039448\n"
     ]
    },
    {
     "name": "stderr",
     "output_type": "stream",
     "text": [
      "[I 2019-08-21 14:39:55,011] Finished trial#151 resulted in value: -0.7332347140039448. Current best value is -0.7346435615666385 with parameters: {'max_depth': 2, 'learning_rate': 0.16600821873440352, 'n_estimators ': 162, 'gamma': 0.21952823048526576, 'reg_lambda': 1.9866909550476661, 'reg_alpha': 1.0163128194067326}.\n"
     ]
    },
    {
     "name": "stdout",
     "output_type": "stream",
     "text": [
      "{'max_depth': 2, 'learning_rate': 0.17512926336974194, 'n_estimators': 135, 'n_jobs': 4, 'gamma': 0.13534943072196542, 'reg_lambda': 2.8385099831404474, 'reg_alpha': 1.4222834634057386}\n",
      "0.7326007326007326\n"
     ]
    },
    {
     "name": "stderr",
     "output_type": "stream",
     "text": [
      "[I 2019-08-21 14:40:00,729] Finished trial#152 resulted in value: -0.7326007326007326. Current best value is -0.7346435615666385 with parameters: {'max_depth': 2, 'learning_rate': 0.16600821873440352, 'n_estimators ': 162, 'gamma': 0.21952823048526576, 'reg_lambda': 1.9866909550476661, 'reg_alpha': 1.0163128194067326}.\n"
     ]
    },
    {
     "name": "stdout",
     "output_type": "stream",
     "text": [
      "{'max_depth': 7, 'learning_rate': 0.17551752450361433, 'n_estimators': 129, 'n_jobs': 4, 'gamma': 0.13453769136114996, 'reg_lambda': 2.793444024352961, 'reg_alpha': 1.4432266214028702}\n",
      "0.7053395322626091\n"
     ]
    },
    {
     "name": "stderr",
     "output_type": "stream",
     "text": [
      "[I 2019-08-21 14:40:16,475] Finished trial#153 resulted in value: -0.7053395322626091. Current best value is -0.7346435615666385 with parameters: {'max_depth': 2, 'learning_rate': 0.16600821873440352, 'n_estimators ': 162, 'gamma': 0.21952823048526576, 'reg_lambda': 1.9866909550476661, 'reg_alpha': 1.0163128194067326}.\n"
     ]
    },
    {
     "name": "stdout",
     "output_type": "stream",
     "text": [
      "{'max_depth': 2, 'learning_rate': 0.17867405037719933, 'n_estimators': 127, 'n_jobs': 4, 'gamma': 0.11549595111650893, 'reg_lambda': 2.984532527851309, 'reg_alpha': 1.5626276336495006}\n",
      "0.7276697661313045\n"
     ]
    },
    {
     "name": "stderr",
     "output_type": "stream",
     "text": [
      "[I 2019-08-21 14:40:21,806] Finished trial#154 resulted in value: -0.7276697661313045. Current best value is -0.7346435615666385 with parameters: {'max_depth': 2, 'learning_rate': 0.16600821873440352, 'n_estimators ': 162, 'gamma': 0.21952823048526576, 'reg_lambda': 1.9866909550476661, 'reg_alpha': 1.0163128194067326}.\n"
     ]
    },
    {
     "name": "stdout",
     "output_type": "stream",
     "text": [
      "{'max_depth': 2, 'learning_rate': 0.18439837096552297, 'n_estimators': 118, 'n_jobs': 4, 'gamma': 0.13649618967331173, 'reg_lambda': 2.8437041704870145, 'reg_alpha': 1.3099091964694551}\n",
      "0.7190757959988727\n"
     ]
    },
    {
     "name": "stderr",
     "output_type": "stream",
     "text": [
      "[I 2019-08-21 14:40:26,681] Finished trial#155 resulted in value: -0.7190757959988727. Current best value is -0.7346435615666385 with parameters: {'max_depth': 2, 'learning_rate': 0.16600821873440352, 'n_estimators ': 162, 'gamma': 0.21952823048526576, 'reg_lambda': 1.9866909550476661, 'reg_alpha': 1.0163128194067326}.\n"
     ]
    },
    {
     "name": "stdout",
     "output_type": "stream",
     "text": [
      "{'max_depth': 2, 'learning_rate': 0.17234990899651226, 'n_estimators': 134, 'n_jobs': 4, 'gamma': 0.19440596514860226, 'reg_lambda': 2.8603458466441514, 'reg_alpha': 1.4032231631858514}\n",
      "0.729149056072133\n"
     ]
    },
    {
     "name": "stderr",
     "output_type": "stream",
     "text": [
      "[I 2019-08-21 14:40:34,612] Finished trial#156 resulted in value: -0.729149056072133. Current best value is -0.7346435615666385 with parameters: {'max_depth': 2, 'learning_rate': 0.16600821873440352, 'n_estimators ': 162, 'gamma': 0.21952823048526576, 'reg_lambda': 1.9866909550476661, 'reg_alpha': 1.0163128194067326}.\n"
     ]
    },
    {
     "name": "stdout",
     "output_type": "stream",
     "text": [
      "{'max_depth': 2, 'learning_rate': 0.1318761658472062, 'n_estimators': 137, 'n_jobs': 4, 'gamma': 0.19408668518199274, 'reg_lambda': 2.8710538643332413, 'reg_alpha': 1.2335882316348488}\n",
      "0.7146379261763877\n"
     ]
    },
    {
     "name": "stderr",
     "output_type": "stream",
     "text": [
      "[I 2019-08-21 14:40:40,237] Finished trial#157 resulted in value: -0.7146379261763877. Current best value is -0.7346435615666385 with parameters: {'max_depth': 2, 'learning_rate': 0.16600821873440352, 'n_estimators ': 162, 'gamma': 0.21952823048526576, 'reg_lambda': 1.9866909550476661, 'reg_alpha': 1.0163128194067326}.\n"
     ]
    },
    {
     "name": "stdout",
     "output_type": "stream",
     "text": [
      "{'max_depth': 1, 'learning_rate': 0.1733847689941731, 'n_estimators': 133, 'n_jobs': 4, 'gamma': 0.2267577455710682, 'reg_lambda': 2.950712027191929, 'reg_alpha': 1.5376079497670263}\n",
      "0.6405325443786981\n"
     ]
    },
    {
     "name": "stderr",
     "output_type": "stream",
     "text": [
      "[I 2019-08-21 14:40:43,855] Finished trial#158 resulted in value: -0.6405325443786981. Current best value is -0.7346435615666385 with parameters: {'max_depth': 2, 'learning_rate': 0.16600821873440352, 'n_estimators ': 162, 'gamma': 0.21952823048526576, 'reg_lambda': 1.9866909550476661, 'reg_alpha': 1.0163128194067326}.\n"
     ]
    },
    {
     "name": "stdout",
     "output_type": "stream",
     "text": [
      "{'max_depth': 2, 'learning_rate': 0.1814961196407187, 'n_estimators': 134, 'n_jobs': 4, 'gamma': 0.1518374656404101, 'reg_lambda': 2.983263093608612, 'reg_alpha': 1.3731286356313626}\n",
      "0.7202028740490279\n"
     ]
    },
    {
     "name": "stderr",
     "output_type": "stream",
     "text": [
      "[I 2019-08-21 14:40:49,910] Finished trial#159 resulted in value: -0.7202028740490279. Current best value is -0.7346435615666385 with parameters: {'max_depth': 2, 'learning_rate': 0.16600821873440352, 'n_estimators ': 162, 'gamma': 0.21952823048526576, 'reg_lambda': 1.9866909550476661, 'reg_alpha': 1.0163128194067326}.\n"
     ]
    },
    {
     "name": "stdout",
     "output_type": "stream",
     "text": [
      "{'max_depth': 3, 'learning_rate': 0.17177615422806958, 'n_estimators': 143, 'n_jobs': 4, 'gamma': 0.17586674440924738, 'reg_lambda': 2.7307254040277167, 'reg_alpha': 1.7312245799271389}\n",
      "0.702028740490279\n"
     ]
    },
    {
     "name": "stderr",
     "output_type": "stream",
     "text": [
      "[I 2019-08-21 14:40:57,729] Finished trial#160 resulted in value: -0.702028740490279. Current best value is -0.7346435615666385 with parameters: {'max_depth': 2, 'learning_rate': 0.16600821873440352, 'n_estimators ': 162, 'gamma': 0.21952823048526576, 'reg_lambda': 1.9866909550476661, 'reg_alpha': 1.0163128194067326}.\n"
     ]
    },
    {
     "name": "stdout",
     "output_type": "stream",
     "text": [
      "{'max_depth': 2, 'learning_rate': 0.1764032101028861, 'n_estimators': 123, 'n_jobs': 4, 'gamma': 0.0969580572218354, 'reg_lambda': 2.8091379615666336, 'reg_alpha': 1.4418807960137445}\n",
      "0.7162581008734854\n"
     ]
    },
    {
     "name": "stderr",
     "output_type": "stream",
     "text": [
      "[I 2019-08-21 14:41:02,995] Finished trial#161 resulted in value: -0.7162581008734854. Current best value is -0.7346435615666385 with parameters: {'max_depth': 2, 'learning_rate': 0.16600821873440352, 'n_estimators ': 162, 'gamma': 0.21952823048526576, 'reg_lambda': 1.9866909550476661, 'reg_alpha': 1.0163128194067326}.\n"
     ]
    },
    {
     "name": "stdout",
     "output_type": "stream",
     "text": [
      "{'max_depth': 2, 'learning_rate': 0.17922888228121647, 'n_estimators': 128, 'n_jobs': 4, 'gamma': 0.1426768522848065, 'reg_lambda': 2.902194590680603, 'reg_alpha': 1.4918739889514072}\n",
      "0.7330938292476754\n"
     ]
    },
    {
     "name": "stderr",
     "output_type": "stream",
     "text": [
      "[I 2019-08-21 14:41:08,986] Finished trial#162 resulted in value: -0.7330938292476754. Current best value is -0.7346435615666385 with parameters: {'max_depth': 2, 'learning_rate': 0.16600821873440352, 'n_estimators ': 162, 'gamma': 0.21952823048526576, 'reg_lambda': 1.9866909550476661, 'reg_alpha': 1.0163128194067326}.\n"
     ]
    },
    {
     "name": "stdout",
     "output_type": "stream",
     "text": [
      "{'max_depth': 2, 'learning_rate': 0.1900365966211614, 'n_estimators': 111, 'n_jobs': 4, 'gamma': 0.148998065539989, 'reg_lambda': 2.907118963905702, 'reg_alpha': 1.5137382702018962}\n",
      "0.7174556213017751\n"
     ]
    },
    {
     "name": "stderr",
     "output_type": "stream",
     "text": [
      "[I 2019-08-21 14:41:13,534] Finished trial#163 resulted in value: -0.7174556213017751. Current best value is -0.7346435615666385 with parameters: {'max_depth': 2, 'learning_rate': 0.16600821873440352, 'n_estimators ': 162, 'gamma': 0.21952823048526576, 'reg_lambda': 1.9866909550476661, 'reg_alpha': 1.0163128194067326}.\n"
     ]
    },
    {
     "name": "stdout",
     "output_type": "stream",
     "text": [
      "{'max_depth': 2, 'learning_rate': 0.16841091967318061, 'n_estimators': 158, 'n_jobs': 4, 'gamma': 0.20296368942087778, 'reg_lambda': 2.8881787081237307, 'reg_alpha': 1.6156026547805364}\n",
      "0.7321780783319245\n"
     ]
    },
    {
     "name": "stderr",
     "output_type": "stream",
     "text": [
      "[I 2019-08-21 14:41:19,632] Finished trial#164 resulted in value: -0.7321780783319245. Current best value is -0.7346435615666385 with parameters: {'max_depth': 2, 'learning_rate': 0.16600821873440352, 'n_estimators ': 162, 'gamma': 0.21952823048526576, 'reg_lambda': 1.9866909550476661, 'reg_alpha': 1.0163128194067326}.\n"
     ]
    },
    {
     "name": "stdout",
     "output_type": "stream",
     "text": [
      "{'max_depth': 2, 'learning_rate': 0.16843684743278534, 'n_estimators': 123, 'n_jobs': 4, 'gamma': 0.20313276904378358, 'reg_lambda': 2.984822680458145, 'reg_alpha': 1.6326928581836349}\n",
      "0.728233305156382\n"
     ]
    },
    {
     "name": "stderr",
     "output_type": "stream",
     "text": [
      "[I 2019-08-21 14:41:25,156] Finished trial#165 resulted in value: -0.728233305156382. Current best value is -0.7346435615666385 with parameters: {'max_depth': 2, 'learning_rate': 0.16600821873440352, 'n_estimators ': 162, 'gamma': 0.21952823048526576, 'reg_lambda': 1.9866909550476661, 'reg_alpha': 1.0163128194067326}.\n"
     ]
    },
    {
     "name": "stdout",
     "output_type": "stream",
     "text": [
      "{'max_depth': 2, 'learning_rate': 0.17483722883079997, 'n_estimators': 137, 'n_jobs': 4, 'gamma': 0.1806717846696583, 'reg_lambda': 2.9189032830359394, 'reg_alpha': 1.3008437012374523}\n",
      "0.74323753169907\n"
     ]
    },
    {
     "name": "stderr",
     "output_type": "stream",
     "text": [
      "[I 2019-08-21 14:41:30,502] Finished trial#166 resulted in value: -0.74323753169907. Current best value is -0.74323753169907 with parameters: {'max_depth': 2, 'learning_rate': 0.17483722883079997, 'n_estimators ': 137, 'gamma': 0.1806717846696583, 'reg_lambda': 2.9189032830359394, 'reg_alpha': 1.3008437012374523}.\n"
     ]
    },
    {
     "name": "stdout",
     "output_type": "stream",
     "text": [
      "{'max_depth': 2, 'learning_rate': 0.17429621925970473, 'n_estimators': 131, 'n_jobs': 4, 'gamma': 0.18874565754549472, 'reg_lambda': 2.9128621872521885, 'reg_alpha': 1.3106163455910333}\n",
      "0.7381656804733727\n"
     ]
    },
    {
     "name": "stderr",
     "output_type": "stream",
     "text": [
      "[I 2019-08-21 14:41:35,849] Finished trial#167 resulted in value: -0.7381656804733727. Current best value is -0.74323753169907 with parameters: {'max_depth': 2, 'learning_rate': 0.17483722883079997, 'n_estimators ': 137, 'gamma': 0.1806717846696583, 'reg_lambda': 2.9189032830359394, 'reg_alpha': 1.3008437012374523}.\n"
     ]
    },
    {
     "name": "stdout",
     "output_type": "stream",
     "text": [
      "{'max_depth': 2, 'learning_rate': 0.16381481636078132, 'n_estimators': 133, 'n_jobs': 4, 'gamma': 0.23586685361465154, 'reg_lambda': 2.998619662768999, 'reg_alpha': 1.1789422537335401}\n",
      "0.7186531417300648\n"
     ]
    },
    {
     "name": "stderr",
     "output_type": "stream",
     "text": [
      "[I 2019-08-21 14:41:41,603] Finished trial#168 resulted in value: -0.7186531417300648. Current best value is -0.74323753169907 with parameters: {'max_depth': 2, 'learning_rate': 0.17483722883079997, 'n_estimators ': 137, 'gamma': 0.1806717846696583, 'reg_lambda': 2.9189032830359394, 'reg_alpha': 1.3008437012374523}.\n"
     ]
    },
    {
     "name": "stdout",
     "output_type": "stream",
     "text": [
      "{'max_depth': 2, 'learning_rate': 0.1689357120231841, 'n_estimators': 137, 'n_jobs': 4, 'gamma': 0.18912691233385895, 'reg_lambda': 2.9239062433855674, 'reg_alpha': 1.2774466118148882}\n",
      "0.7259087066779373\n"
     ]
    },
    {
     "name": "stderr",
     "output_type": "stream",
     "text": [
      "[I 2019-08-21 14:41:47,118] Finished trial#169 resulted in value: -0.7259087066779373. Current best value is -0.74323753169907 with parameters: {'max_depth': 2, 'learning_rate': 0.17483722883079997, 'n_estimators ': 137, 'gamma': 0.1806717846696583, 'reg_lambda': 2.9189032830359394, 'reg_alpha': 1.3008437012374523}.\n"
     ]
    },
    {
     "name": "stdout",
     "output_type": "stream",
     "text": [
      "{'max_depth': 1, 'learning_rate': 0.1749584544095407, 'n_estimators': 102, 'n_jobs': 4, 'gamma': 0.21685788801465322, 'reg_lambda': 2.884322183188569, 'reg_alpha': 1.3310394075751322}\n",
      "0.6468019160326852\n"
     ]
    },
    {
     "name": "stderr",
     "output_type": "stream",
     "text": [
      "[I 2019-08-21 14:41:50,104] Finished trial#170 resulted in value: -0.6468019160326852. Current best value is -0.74323753169907 with parameters: {'max_depth': 2, 'learning_rate': 0.17483722883079997, 'n_estimators ': 137, 'gamma': 0.1806717846696583, 'reg_lambda': 2.9189032830359394, 'reg_alpha': 1.3008437012374523}.\n"
     ]
    },
    {
     "name": "stdout",
     "output_type": "stream",
     "text": [
      "{'max_depth': 2, 'learning_rate': 0.17199447462405407, 'n_estimators': 130, 'n_jobs': 4, 'gamma': 0.17078669729432552, 'reg_lambda': 2.872729755543027, 'reg_alpha': 1.3490049687407843}\n",
      "0.7330938292476754\n"
     ]
    },
    {
     "name": "stderr",
     "output_type": "stream",
     "text": [
      "[I 2019-08-21 14:41:56,030] Finished trial#171 resulted in value: -0.7330938292476754. Current best value is -0.74323753169907 with parameters: {'max_depth': 2, 'learning_rate': 0.17483722883079997, 'n_estimators ': 137, 'gamma': 0.1806717846696583, 'reg_lambda': 2.9189032830359394, 'reg_alpha': 1.3008437012374523}.\n"
     ]
    },
    {
     "name": "stdout",
     "output_type": "stream",
     "text": [
      "{'max_depth': 2, 'learning_rate': 0.1714884239271732, 'n_estimators': 132, 'n_jobs': 4, 'gamma': 0.17514011188215475, 'reg_lambda': 2.927278902116599, 'reg_alpha': 1.2332186600684163}\n",
      "0.7342209072978304\n"
     ]
    },
    {
     "name": "stderr",
     "output_type": "stream",
     "text": [
      "[I 2019-08-21 14:42:01,199] Finished trial#172 resulted in value: -0.7342209072978304. Current best value is -0.74323753169907 with parameters: {'max_depth': 2, 'learning_rate': 0.17483722883079997, 'n_estimators ': 137, 'gamma': 0.1806717846696583, 'reg_lambda': 2.9189032830359394, 'reg_alpha': 1.3008437012374523}.\n"
     ]
    },
    {
     "name": "stdout",
     "output_type": "stream",
     "text": [
      "{'max_depth': 2, 'learning_rate': 0.16653506998093848, 'n_estimators': 129, 'n_jobs': 4, 'gamma': 0.16665556664618075, 'reg_lambda': 2.939844222833892, 'reg_alpha': 1.2365614501521525}\n",
      "0.7171034094111017\n"
     ]
    },
    {
     "name": "stderr",
     "output_type": "stream",
     "text": [
      "[I 2019-08-21 14:42:06,128] Finished trial#173 resulted in value: -0.7171034094111017. Current best value is -0.74323753169907 with parameters: {'max_depth': 2, 'learning_rate': 0.17483722883079997, 'n_estimators ': 137, 'gamma': 0.1806717846696583, 'reg_lambda': 2.9189032830359394, 'reg_alpha': 1.3008437012374523}.\n"
     ]
    },
    {
     "name": "stdout",
     "output_type": "stream",
     "text": [
      "{'max_depth': 2, 'learning_rate': 0.1700937384554954, 'n_estimators': 126, 'n_jobs': 4, 'gamma': 0.17377860805728895, 'reg_lambda': 2.9904548559098414, 'reg_alpha': 1.1901234925955317}\n",
      "0.7278810932657087\n"
     ]
    },
    {
     "name": "stderr",
     "output_type": "stream",
     "text": [
      "[I 2019-08-21 14:42:12,212] Finished trial#174 resulted in value: -0.7278810932657087. Current best value is -0.74323753169907 with parameters: {'max_depth': 2, 'learning_rate': 0.17483722883079997, 'n_estimators ': 137, 'gamma': 0.1806717846696583, 'reg_lambda': 2.9189032830359394, 'reg_alpha': 1.3008437012374523}.\n"
     ]
    },
    {
     "name": "stdout",
     "output_type": "stream",
     "text": [
      "{'max_depth': 2, 'learning_rate': 0.17561999936517553, 'n_estimators': 130, 'n_jobs': 4, 'gamma': 0.16012477698922425, 'reg_lambda': 2.891176128690703, 'reg_alpha': 1.3020399175785484}\n",
      "0.7366159481544097\n"
     ]
    },
    {
     "name": "stderr",
     "output_type": "stream",
     "text": [
      "[I 2019-08-21 14:42:16,990] Finished trial#175 resulted in value: -0.7366159481544097. Current best value is -0.74323753169907 with parameters: {'max_depth': 2, 'learning_rate': 0.17483722883079997, 'n_estimators ': 137, 'gamma': 0.1806717846696583, 'reg_lambda': 2.9189032830359394, 'reg_alpha': 1.3008437012374523}.\n"
     ]
    },
    {
     "name": "stdout",
     "output_type": "stream",
     "text": [
      "{'max_depth': 2, 'learning_rate': 0.17536517888299957, 'n_estimators': 123, 'n_jobs': 4, 'gamma': 0.1665960189507271, 'reg_lambda': 2.8998658589643864, 'reg_alpha': 1.3181651305028674}\n",
      "0.7335164835164835\n"
     ]
    },
    {
     "name": "stderr",
     "output_type": "stream",
     "text": [
      "[I 2019-08-21 14:42:21,687] Finished trial#176 resulted in value: -0.7335164835164835. Current best value is -0.74323753169907 with parameters: {'max_depth': 2, 'learning_rate': 0.17483722883079997, 'n_estimators ': 137, 'gamma': 0.1806717846696583, 'reg_lambda': 2.9189032830359394, 'reg_alpha': 1.3008437012374523}.\n"
     ]
    },
    {
     "name": "stdout",
     "output_type": "stream",
     "text": [
      "{'max_depth': 2, 'learning_rate': 0.17539770153438702, 'n_estimators': 120, 'n_jobs': 4, 'gamma': 0.15757077267770833, 'reg_lambda': 2.882891519417569, 'reg_alpha': 1.2781838829585153}\n",
      "0.7308396731473654\n"
     ]
    },
    {
     "name": "stderr",
     "output_type": "stream",
     "text": [
      "[I 2019-08-21 14:42:26,911] Finished trial#177 resulted in value: -0.7308396731473654. Current best value is -0.74323753169907 with parameters: {'max_depth': 2, 'learning_rate': 0.17483722883079997, 'n_estimators ': 137, 'gamma': 0.1806717846696583, 'reg_lambda': 2.9189032830359394, 'reg_alpha': 1.3008437012374523}.\n"
     ]
    },
    {
     "name": "stdout",
     "output_type": "stream",
     "text": [
      "{'max_depth': 3, 'learning_rate': 0.17543828271169493, 'n_estimators': 117, 'n_jobs': 4, 'gamma': 0.20860776840019657, 'reg_lambda': 2.996584813627335, 'reg_alpha': 1.3036758544284637}\n",
      "0.7301352493660186\n"
     ]
    },
    {
     "name": "stderr",
     "output_type": "stream",
     "text": [
      "[I 2019-08-21 14:42:33,259] Finished trial#178 resulted in value: -0.7301352493660186. Current best value is -0.74323753169907 with parameters: {'max_depth': 2, 'learning_rate': 0.17483722883079997, 'n_estimators ': 137, 'gamma': 0.1806717846696583, 'reg_lambda': 2.9189032830359394, 'reg_alpha': 1.3008437012374523}.\n"
     ]
    },
    {
     "name": "stdout",
     "output_type": "stream",
     "text": [
      "{'max_depth': 2, 'learning_rate': 0.17098916802335704, 'n_estimators': 120, 'n_jobs': 4, 'gamma': 0.16414837372654065, 'reg_lambda': 2.777689544650102, 'reg_alpha': 1.2227522872092653}\n",
      "0.7281628627782474\n"
     ]
    },
    {
     "name": "stderr",
     "output_type": "stream",
     "text": [
      "[I 2019-08-21 14:42:38,087] Finished trial#179 resulted in value: -0.7281628627782474. Current best value is -0.74323753169907 with parameters: {'max_depth': 2, 'learning_rate': 0.17483722883079997, 'n_estimators ': 137, 'gamma': 0.1806717846696583, 'reg_lambda': 2.9189032830359394, 'reg_alpha': 1.3008437012374523}.\n"
     ]
    },
    {
     "name": "stdout",
     "output_type": "stream",
     "text": [
      "{'max_depth': 2, 'learning_rate': 0.1764961537144822, 'n_estimators': 121, 'n_jobs': 4, 'gamma': 0.2585056075749582, 'reg_lambda': 2.8597312820516434, 'reg_alpha': 1.2841848725469085}\n",
      "0.7223161453930684\n"
     ]
    },
    {
     "name": "stderr",
     "output_type": "stream",
     "text": [
      "[I 2019-08-21 14:42:43,636] Finished trial#180 resulted in value: -0.7223161453930684. Current best value is -0.74323753169907 with parameters: {'max_depth': 2, 'learning_rate': 0.17483722883079997, 'n_estimators ': 137, 'gamma': 0.1806717846696583, 'reg_lambda': 2.9189032830359394, 'reg_alpha': 1.3008437012374523}.\n"
     ]
    },
    {
     "name": "stdout",
     "output_type": "stream",
     "text": [
      "{'max_depth': 2, 'learning_rate': 0.17469224866076039, 'n_estimators': 130, 'n_jobs': 4, 'gamma': 0.1528215869111783, 'reg_lambda': 2.9345738471589633, 'reg_alpha': 1.3504014380710176}\n",
      "0.7332347140039448\n"
     ]
    },
    {
     "name": "stderr",
     "output_type": "stream",
     "text": [
      "[I 2019-08-21 14:42:48,755] Finished trial#181 resulted in value: -0.7332347140039448. Current best value is -0.74323753169907 with parameters: {'max_depth': 2, 'learning_rate': 0.17483722883079997, 'n_estimators ': 137, 'gamma': 0.1806717846696583, 'reg_lambda': 2.9189032830359394, 'reg_alpha': 1.3008437012374523}.\n"
     ]
    },
    {
     "name": "stdout",
     "output_type": "stream",
     "text": [
      "{'max_depth': 2, 'learning_rate': 0.17513225490800505, 'n_estimators': 113, 'n_jobs': 4, 'gamma': 0.18847885167455464, 'reg_lambda': 2.933181137674291, 'reg_alpha': 1.1346753073319362}\n",
      "0.725133840518456\n"
     ]
    },
    {
     "name": "stderr",
     "output_type": "stream",
     "text": [
      "[I 2019-08-21 14:42:53,197] Finished trial#182 resulted in value: -0.725133840518456. Current best value is -0.74323753169907 with parameters: {'max_depth': 2, 'learning_rate': 0.17483722883079997, 'n_estimators ': 137, 'gamma': 0.1806717846696583, 'reg_lambda': 2.9189032830359394, 'reg_alpha': 1.3008437012374523}.\n"
     ]
    },
    {
     "name": "stdout",
     "output_type": "stream",
     "text": [
      "{'max_depth': 2, 'learning_rate': 0.1727521335176125, 'n_estimators': 129, 'n_jobs': 4, 'gamma': 0.15448781587010593, 'reg_lambda': 2.9999374339061697, 'reg_alpha': 1.3167758091538164}\n",
      "0.7290786136939983\n"
     ]
    },
    {
     "name": "stderr",
     "output_type": "stream",
     "text": [
      "[I 2019-08-21 14:42:58,416] Finished trial#183 resulted in value: -0.7290786136939983. Current best value is -0.74323753169907 with parameters: {'max_depth': 2, 'learning_rate': 0.17483722883079997, 'n_estimators ': 137, 'gamma': 0.1806717846696583, 'reg_lambda': 2.9189032830359394, 'reg_alpha': 1.3008437012374523}.\n"
     ]
    },
    {
     "name": "stdout",
     "output_type": "stream",
     "text": [
      "{'max_depth': 2, 'learning_rate': 0.17853612770905172, 'n_estimators': 124, 'n_jobs': 4, 'gamma': 0.15984239218456947, 'reg_lambda': 2.879771226579972, 'reg_alpha': 1.3569776717375945}\n",
      "0.72309101155255\n"
     ]
    },
    {
     "name": "stderr",
     "output_type": "stream",
     "text": [
      "[I 2019-08-21 14:43:02,992] Finished trial#184 resulted in value: -0.72309101155255. Current best value is -0.74323753169907 with parameters: {'max_depth': 2, 'learning_rate': 0.17483722883079997, 'n_estimators ': 137, 'gamma': 0.1806717846696583, 'reg_lambda': 2.9189032830359394, 'reg_alpha': 1.3008437012374523}.\n"
     ]
    },
    {
     "name": "stdout",
     "output_type": "stream",
     "text": [
      "{'max_depth': 2, 'learning_rate': 0.16915246994819633, 'n_estimators': 130, 'n_jobs': 4, 'gamma': 0.23231383072381, 'reg_lambda': 1.6410246430054303, 'reg_alpha': 1.2552418662186586}\n",
      "0.7344322344322345\n"
     ]
    },
    {
     "name": "stderr",
     "output_type": "stream",
     "text": [
      "[I 2019-08-21 14:43:07,762] Finished trial#185 resulted in value: -0.7344322344322345. Current best value is -0.74323753169907 with parameters: {'max_depth': 2, 'learning_rate': 0.17483722883079997, 'n_estimators ': 137, 'gamma': 0.1806717846696583, 'reg_lambda': 2.9189032830359394, 'reg_alpha': 1.3008437012374523}.\n"
     ]
    },
    {
     "name": "stdout",
     "output_type": "stream",
     "text": [
      "{'max_depth': 2, 'learning_rate': 0.16859522148141398, 'n_estimators': 108, 'n_jobs': 4, 'gamma': 0.21867291557258084, 'reg_lambda': 1.6206661216537666, 'reg_alpha': 1.2469142891637663}\n",
      "0.7307692307692307\n"
     ]
    },
    {
     "name": "stderr",
     "output_type": "stream",
     "text": [
      "[I 2019-08-21 14:43:11,989] Finished trial#186 resulted in value: -0.7307692307692307. Current best value is -0.74323753169907 with parameters: {'max_depth': 2, 'learning_rate': 0.17483722883079997, 'n_estimators ': 137, 'gamma': 0.1806717846696583, 'reg_lambda': 2.9189032830359394, 'reg_alpha': 1.3008437012374523}.\n"
     ]
    },
    {
     "name": "stdout",
     "output_type": "stream",
     "text": [
      "{'max_depth': 2, 'learning_rate': 0.1641153095046663, 'n_estimators': 130, 'n_jobs': 4, 'gamma': 0.1814100465821455, 'reg_lambda': 2.9445647026288575, 'reg_alpha': 1.1407367646678932}\n",
      "0.717737390814314\n"
     ]
    },
    {
     "name": "stderr",
     "output_type": "stream",
     "text": [
      "[I 2019-08-21 14:43:17,057] Finished trial#187 resulted in value: -0.717737390814314. Current best value is -0.74323753169907 with parameters: {'max_depth': 2, 'learning_rate': 0.17483722883079997, 'n_estimators ': 137, 'gamma': 0.1806717846696583, 'reg_lambda': 2.9189032830359394, 'reg_alpha': 1.3008437012374523}.\n"
     ]
    },
    {
     "name": "stdout",
     "output_type": "stream",
     "text": [
      "{'max_depth': 2, 'learning_rate': 0.16844327048276764, 'n_estimators': 107, 'n_jobs': 4, 'gamma': 0.2262572453300719, 'reg_lambda': 1.566359123973406, 'reg_alpha': 1.1827475520309947}\n",
      "0.7325302902225979\n"
     ]
    },
    {
     "name": "stderr",
     "output_type": "stream",
     "text": [
      "[I 2019-08-21 14:43:21,119] Finished trial#188 resulted in value: -0.7325302902225979. Current best value is -0.74323753169907 with parameters: {'max_depth': 2, 'learning_rate': 0.17483722883079997, 'n_estimators ': 137, 'gamma': 0.1806717846696583, 'reg_lambda': 2.9189032830359394, 'reg_alpha': 1.3008437012374523}.\n"
     ]
    },
    {
     "name": "stdout",
     "output_type": "stream",
     "text": [
      "{'max_depth': 1, 'learning_rate': 0.1679717732224321, 'n_estimators': 115, 'n_jobs': 4, 'gamma': 0.23710847483879477, 'reg_lambda': 1.5771284949189532, 'reg_alpha': 1.191686886734995}\n",
      "0.6477881093265709\n"
     ]
    },
    {
     "name": "stderr",
     "output_type": "stream",
     "text": [
      "[I 2019-08-21 14:43:24,163] Finished trial#189 resulted in value: -0.6477881093265709. Current best value is -0.74323753169907 with parameters: {'max_depth': 2, 'learning_rate': 0.17483722883079997, 'n_estimators ': 137, 'gamma': 0.1806717846696583, 'reg_lambda': 2.9189032830359394, 'reg_alpha': 1.3008437012374523}.\n"
     ]
    },
    {
     "name": "stdout",
     "output_type": "stream",
     "text": [
      "{'max_depth': 2, 'learning_rate': 0.17109243993641632, 'n_estimators': 120, 'n_jobs': 4, 'gamma': 0.20346750866304328, 'reg_lambda': 1.4620723891639338, 'reg_alpha': 1.3522268271847917}\n",
      "0.7301352493660185\n"
     ]
    },
    {
     "name": "stderr",
     "output_type": "stream",
     "text": [
      "[I 2019-08-21 14:43:29,324] Finished trial#190 resulted in value: -0.7301352493660185. Current best value is -0.74323753169907 with parameters: {'max_depth': 2, 'learning_rate': 0.17483722883079997, 'n_estimators ': 137, 'gamma': 0.1806717846696583, 'reg_lambda': 2.9189032830359394, 'reg_alpha': 1.3008437012374523}.\n"
     ]
    },
    {
     "name": "stdout",
     "output_type": "stream",
     "text": [
      "{'max_depth': 2, 'learning_rate': 0.1685345746547624, 'n_estimators': 107, 'n_jobs': 4, 'gamma': 0.22916269774230774, 'reg_lambda': 1.7029981807272538, 'reg_alpha': 1.2457246530443613}\n",
      "0.7397154127923359\n"
     ]
    },
    {
     "name": "stderr",
     "output_type": "stream",
     "text": [
      "[I 2019-08-21 14:43:33,635] Finished trial#191 resulted in value: -0.7397154127923359. Current best value is -0.74323753169907 with parameters: {'max_depth': 2, 'learning_rate': 0.17483722883079997, 'n_estimators ': 137, 'gamma': 0.1806717846696583, 'reg_lambda': 2.9189032830359394, 'reg_alpha': 1.3008437012374523}.\n"
     ]
    },
    {
     "name": "stdout",
     "output_type": "stream",
     "text": [
      "{'max_depth': 2, 'learning_rate': 0.16020443278122554, 'n_estimators': 105, 'n_jobs': 4, 'gamma': 0.24839067115307986, 'reg_lambda': 1.7257211172444913, 'reg_alpha': 1.2220168386169292}\n",
      "0.7108340377571147\n"
     ]
    },
    {
     "name": "stderr",
     "output_type": "stream",
     "text": [
      "[I 2019-08-21 14:43:37,823] Finished trial#192 resulted in value: -0.7108340377571147. Current best value is -0.74323753169907 with parameters: {'max_depth': 2, 'learning_rate': 0.17483722883079997, 'n_estimators ': 137, 'gamma': 0.1806717846696583, 'reg_lambda': 2.9189032830359394, 'reg_alpha': 1.3008437012374523}.\n"
     ]
    },
    {
     "name": "stdout",
     "output_type": "stream",
     "text": [
      "{'max_depth': 2, 'learning_rate': 0.16304287042438143, 'n_estimators': 95, 'n_jobs': 4, 'gamma': 0.22717585034645832, 'reg_lambda': 1.658752740852205, 'reg_alpha': 1.4901271287771645}\n",
      "0.7359115243730627\n"
     ]
    },
    {
     "name": "stderr",
     "output_type": "stream",
     "text": [
      "[I 2019-08-21 14:43:41,933] Finished trial#193 resulted in value: -0.7359115243730627. Current best value is -0.74323753169907 with parameters: {'max_depth': 2, 'learning_rate': 0.17483722883079997, 'n_estimators ': 137, 'gamma': 0.1806717846696583, 'reg_lambda': 2.9189032830359394, 'reg_alpha': 1.3008437012374523}.\n"
     ]
    },
    {
     "name": "stdout",
     "output_type": "stream",
     "text": [
      "{'max_depth': 2, 'learning_rate': 0.1630685641245968, 'n_estimators': 105, 'n_jobs': 4, 'gamma': 0.2744453370638268, 'reg_lambda': 1.6638790291188466, 'reg_alpha': 1.503823390095002}\n",
      "0.7090729783037475\n"
     ]
    },
    {
     "name": "stderr",
     "output_type": "stream",
     "text": [
      "[I 2019-08-21 14:43:48,762] Finished trial#194 resulted in value: -0.7090729783037475. Current best value is -0.74323753169907 with parameters: {'max_depth': 2, 'learning_rate': 0.17483722883079997, 'n_estimators ': 137, 'gamma': 0.1806717846696583, 'reg_lambda': 2.9189032830359394, 'reg_alpha': 1.3008437012374523}.\n"
     ]
    },
    {
     "name": "stdout",
     "output_type": "stream",
     "text": [
      "{'max_depth': 2, 'learning_rate': 0.1670409541225228, 'n_estimators': 96, 'n_jobs': 4, 'gamma': 0.24011814300058082, 'reg_lambda': 1.5484160999503185, 'reg_alpha': 1.5590199514555247}\n",
      "0.739222316145393\n"
     ]
    },
    {
     "name": "stderr",
     "output_type": "stream",
     "text": [
      "[I 2019-08-21 14:43:53,000] Finished trial#195 resulted in value: -0.739222316145393. Current best value is -0.74323753169907 with parameters: {'max_depth': 2, 'learning_rate': 0.17483722883079997, 'n_estimators ': 137, 'gamma': 0.1806717846696583, 'reg_lambda': 2.9189032830359394, 'reg_alpha': 1.3008437012374523}.\n"
     ]
    },
    {
     "name": "stdout",
     "output_type": "stream",
     "text": [
      "{'max_depth': 2, 'learning_rate': 0.16664465904223935, 'n_estimators': 109, 'n_jobs': 4, 'gamma': 0.22642930959172558, 'reg_lambda': 1.4951799899317648, 'reg_alpha': 1.615136263837079}\n",
      "0.7368977176669484\n"
     ]
    },
    {
     "name": "stderr",
     "output_type": "stream",
     "text": [
      "[I 2019-08-21 14:43:57,163] Finished trial#196 resulted in value: -0.7368977176669484. Current best value is -0.74323753169907 with parameters: {'max_depth': 2, 'learning_rate': 0.17483722883079997, 'n_estimators ': 137, 'gamma': 0.1806717846696583, 'reg_lambda': 2.9189032830359394, 'reg_alpha': 1.3008437012374523}.\n"
     ]
    },
    {
     "name": "stdout",
     "output_type": "stream",
     "text": [
      "{'max_depth': 2, 'learning_rate': 0.15903994714199624, 'n_estimators': 88, 'n_jobs': 4, 'gamma': 0.25550899316517217, 'reg_lambda': 1.5226896516008865, 'reg_alpha': 1.5593958575435982}\n",
      "0.7197802197802198\n"
     ]
    },
    {
     "name": "stderr",
     "output_type": "stream",
     "text": [
      "[I 2019-08-21 14:44:00,984] Finished trial#197 resulted in value: -0.7197802197802198. Current best value is -0.74323753169907 with parameters: {'max_depth': 2, 'learning_rate': 0.17483722883079997, 'n_estimators ': 137, 'gamma': 0.1806717846696583, 'reg_lambda': 2.9189032830359394, 'reg_alpha': 1.3008437012374523}.\n"
     ]
    },
    {
     "name": "stdout",
     "output_type": "stream",
     "text": [
      "{'max_depth': 2, 'learning_rate': 0.16540220566803132, 'n_estimators': 98, 'n_jobs': 4, 'gamma': 0.23282762026416962, 'reg_lambda': 1.5041588496328606, 'reg_alpha': 1.3617332640055633}\n",
      "0.7192871231332769\n"
     ]
    },
    {
     "name": "stderr",
     "output_type": "stream",
     "text": [
      "[I 2019-08-21 14:44:05,021] Finished trial#198 resulted in value: -0.7192871231332769. Current best value is -0.74323753169907 with parameters: {'max_depth': 2, 'learning_rate': 0.17483722883079997, 'n_estimators ': 137, 'gamma': 0.1806717846696583, 'reg_lambda': 2.9189032830359394, 'reg_alpha': 1.3008437012374523}.\n"
     ]
    },
    {
     "name": "stdout",
     "output_type": "stream",
     "text": [
      "{'max_depth': 3, 'learning_rate': 0.16334512996155973, 'n_estimators': 85, 'n_jobs': 4, 'gamma': 0.2952580769083335, 'reg_lambda': 1.374010927979342, 'reg_alpha': 1.675745776117929}\n",
      "0.6947731755424064\n"
     ]
    },
    {
     "name": "stderr",
     "output_type": "stream",
     "text": [
      "[I 2019-08-21 14:44:09,696] Finished trial#199 resulted in value: -0.6947731755424064. Current best value is -0.74323753169907 with parameters: {'max_depth': 2, 'learning_rate': 0.17483722883079997, 'n_estimators ': 137, 'gamma': 0.1806717846696583, 'reg_lambda': 2.9189032830359394, 'reg_alpha': 1.3008437012374523}.\n"
     ]
    }
   ],
   "source": [
    "def objective(trial):\n",
    "    param = {\n",
    "        'max_depth': trial.suggest_int('max_depth',1,10),\n",
    "        'learning_rate': trial.suggest_uniform('learning_rate', 0.05, 0.2),\n",
    "        'n_estimators': trial.suggest_int('n_estimators ', 20, 200),\n",
    "        'n_jobs': 4,\n",
    "        'gamma': trial.suggest_uniform('gamma', 0, 1),\n",
    "        'reg_lambda': trial.suggest_uniform('reg_lambda', 0.5, 3),\n",
    "        'reg_alpha': trial.suggest_uniform('reg_alpha', 0, 3)\n",
    "    }\n",
    "\n",
    "    print(param)\n",
    "    \n",
    "    l = []\n",
    "\n",
    "    for year in range(1978, 2019 + 1):\n",
    "        rg = xgb.XGBRegressor(silent= True, **param)\n",
    "        X = table.query('year != {}'.format(year)).drop(['prize', 'title'], axis = 1).values\n",
    "        y = table.query('year != {}'.format(year))['prize'].values\n",
    "        rg.fit(X,y)\n",
    "        result = rg.predict(table.query('year == {}'.format(year)).drop(['prize', 'title'], axis = 1).values)\n",
    "        scope = table.query('year == {}'.format(year))[['title','prize']]\n",
    "        scope['result'] = result\n",
    "        l.append(scope)\n",
    "        title = scope['title'].copy()\n",
    "        title[scope['prize'] == 1] = title[scope['prize'] == 1].map(lambda s: '★' + s)\n",
    "        #print(year)\n",
    "        #print(pd.Series(result, index = title.values).sort_values(ascending=False) )\n",
    "        #print('')\n",
    "    \n",
    "\n",
    "    temp = pd.concat(l)\n",
    "\n",
    "    print(roc_auc_score(temp['prize'], temp['result']))\n",
    "    return -roc_auc_score(temp['prize'], temp['result'])\n",
    "\n",
    "study = optuna.create_study()\n",
    "study.optimize(objective, n_trials=200)"
   ]
  },
  {
   "cell_type": "code",
   "execution_count": 18,
   "metadata": {},
   "outputs": [
    {
     "data": {
      "text/plain": [
       "-0.74323753169907"
      ]
     },
     "execution_count": 18,
     "metadata": {},
     "output_type": "execute_result"
    }
   ],
   "source": [
    "study.best_value"
   ]
  },
  {
   "cell_type": "code",
   "execution_count": 21,
   "metadata": {},
   "outputs": [],
   "source": [
    "#best = study.best_params\n",
    "best = {\n",
    "    'max_depth': 2,\n",
    "    'learning_rate': 0.17483722883079997,\n",
    "    'n_estimators ': 137,\n",
    "    'gamma': 0.1806717846696583,\n",
    "    'reg_lambda': 2.9189032830359394,\n",
    "    'reg_alpha': 1.3008437012374523\n",
    "}"
   ]
  },
  {
   "cell_type": "code",
   "execution_count": 22,
   "metadata": {},
   "outputs": [
    {
     "data": {
      "text/plain": [
       "{'max_depth': 2,\n",
       " 'learning_rate': 0.17483722883079997,\n",
       " 'n_estimators ': 137,\n",
       " 'gamma': 0.1806717846696583,\n",
       " 'reg_lambda': 2.9189032830359394,\n",
       " 'reg_alpha': 1.3008437012374523}"
      ]
     },
     "execution_count": 22,
     "metadata": {},
     "output_type": "execute_result"
    }
   ],
   "source": [
    "best"
   ]
  },
  {
   "cell_type": "code",
   "execution_count": 23,
   "metadata": {},
   "outputs": [
    {
     "name": "stdout",
     "output_type": "stream",
     "text": [
      "1978\n",
      "はなれ瞽女おりん          0.319992\n",
      "★幸福の黄色いハンカチ       0.236557\n",
      "八甲田山              0.150353\n",
      "青春の門 自立篇（1977）    0.150353\n",
      "竹山ひとり旅            0.114663\n",
      "dtype: float32\n",
      "\n",
      "1979\n",
      "サード        0.437290\n",
      "★事件        0.240808\n",
      "柳生一族の陰謀    0.109843\n",
      "鬼畜         0.109843\n",
      "愛の亡霊       0.109843\n",
      "dtype: float32\n",
      "\n",
      "1980\n",
      "あゝ野麦峠         0.385215\n",
      "太陽を盗んだ男       0.322022\n",
      "衝動殺人 息子よ      0.141966\n",
      "★復讐するは我にあり    0.141966\n",
      "もう頬づえはつかない    0.109872\n",
      "dtype: float32\n",
      "\n",
      "1981\n",
      "★ツィゴイネルワイゼン    0.221923\n",
      "二百三高地          0.139162\n",
      "動乱             0.139162\n",
      "父よ母よ!          0.139162\n",
      "遙かなる山の呼び声      0.108186\n",
      "dtype: float32\n",
      "\n",
      "1982\n",
      "泥の河                0.446542\n",
      "遠雷                 0.298275\n",
      "ええじゃないか            0.123715\n",
      "★駅/STATION         0.123715\n",
      "日本の熱い日々 謀殺・下山事件    0.109156\n",
      "dtype: float32\n",
      "\n",
      "1983\n",
      "★蒲田行進曲      0.455198\n",
      "誘拐報道        0.135252\n",
      "鬼龍院花子の生涯    0.135252\n",
      "未完の対局       0.119507\n",
      "疑惑          0.119507\n",
      "dtype: float32\n",
      "\n",
      "1984\n",
      "戦場のメリークリスマス    0.353558\n",
      "家族ゲーム          0.305423\n",
      "南極物語（1983）     0.126282\n",
      "細雪（1983）       0.126282\n",
      "★楢山節考          0.111475\n",
      "dtype: float32\n",
      "\n",
      "1985\n",
      "瀬戸内少年野球団    0.211194\n",
      "★お葬式        0.209690\n",
      "天国の駅        0.142042\n",
      "麻雀放浪記       0.108152\n",
      "おはん         0.108152\n",
      "dtype: float32\n",
      "\n",
      "1986\n",
      "Wの悲劇             0.352750\n",
      "それから（1985）       0.287032\n",
      "ビルマの竪琴（1985）     0.126259\n",
      "恋文（1985）         0.110667\n",
      "★花いちもんめ（1985）    0.110667\n",
      "dtype: float32\n",
      "\n",
      "1987\n",
      "キネマの天地          0.126286\n",
      "植村直己物語          0.126286\n",
      "★火宅の人           0.126286\n",
      "人間の約束           0.111872\n",
      "新・喜びも悲しみも幾歳月    0.111872\n",
      "dtype: float32\n",
      "\n",
      "1988\n",
      "★マルサの女        0.455198\n",
      "吉原炎上          0.135252\n",
      "夜汽車           0.135252\n",
      "ハチ公物語         0.119507\n",
      "竹取物語（1987）    0.119507\n",
      "dtype: float32\n",
      "\n",
      "1989\n",
      "華の乱            0.494231\n",
      "★敦煌            0.127319\n",
      "優駿 ORACION     0.113025\n",
      "ダウンタウンヒーローズ    0.113025\n",
      "異人たちとの夏        0.113025\n",
      "dtype: float32\n",
      "\n",
      "1990\n",
      "社葬           0.207345\n",
      "★黒い雨         0.207345\n",
      "利休           0.133797\n",
      "千利休 本覺坊遺文    0.118772\n",
      "あ・うん         0.118772\n",
      "dtype: float32\n",
      "\n",
      "1991\n",
      "★少年時代（1990）    0.544669\n",
      "櫻の園（1990）      0.300355\n",
      "白い手            0.295063\n",
      "夢              0.126300\n",
      "死の棘            0.111960\n",
      "dtype: float32\n",
      "\n",
      "1992\n",
      "★息子（1991）           0.670636\n",
      "大誘拐 RAINBOW KIDS    0.333922\n",
      "あの夏、いちばん静かな海。       0.169923\n",
      "八月の狂詩曲（ラプソディー）      0.134575\n",
      "無能の人                0.118469\n",
      "dtype: float32\n",
      "\n",
      "1993\n",
      "★シコふんじゃった。    0.674855\n",
      "ミンボーの女        0.336126\n",
      "遠き落日          0.336126\n",
      "青春デンデケデケデケ    0.129417\n",
      "いつかギラギラする日    0.116017\n",
      "dtype: float32\n",
      "\n",
      "1994\n",
      "月はどっちに出ている      0.587132\n",
      "★学校（1993）       0.368313\n",
      "僕らはみんな生きている     0.298289\n",
      "わが愛の譜 滝廉太郎物語    0.108591\n",
      "虹の橋             0.108591\n",
      "dtype: float32\n",
      "\n",
      "1995\n",
      "★忠臣蔵外伝 四谷怪談     0.396274\n",
      "ラストソング（1994）    0.110148\n",
      "四十七人の刺客         0.110148\n",
      "119             0.110148\n",
      "居酒屋ゆうれい         0.110148\n",
      "dtype: float32\n",
      "\n",
      "1996\n",
      "★午後の遺言状            0.470346\n",
      "写楽                 0.368179\n",
      "藏                  0.290275\n",
      "Love Letter        0.117059\n",
      "きけ、わだつみの声（1995）    0.117059\n",
      "dtype: float32\n",
      "\n",
      "1997\n",
      "★Shall We ダンス？     0.641492\n",
      "スワロウテイル            0.131537\n",
      "わが心の銀河鉄道 宮沢賢治物語    0.118180\n",
      "スーパーの女             0.118180\n",
      "学校II               0.118180\n",
      "dtype: float32\n",
      "\n",
      "1998\n",
      "ラヂオの時間      0.311377\n",
      "★もののけ姫      0.122566\n",
      "誘拐（1997）    0.109833\n",
      "東京日和        0.109833\n",
      "うなぎ         0.109833\n",
      "dtype: float32\n",
      "\n",
      "1999\n",
      "★愛を乞うひと             0.427790\n",
      "HANA-BI             0.349204\n",
      "カンゾー先生              0.124339\n",
      "学校III               0.124339\n",
      "踊る大捜査線 THE MOVIE    0.124339\n",
      "dtype: float32\n",
      "\n",
      "2000\n",
      "★鉄道員（ぽっぽや）    0.538518\n",
      "御法度           0.176930\n",
      "梟の城           0.130962\n",
      "金融腐蝕列島 呪縛     0.115639\n",
      "菊次郎の夏         0.115639\n",
      "dtype: float32\n",
      "\n",
      "2001\n",
      "顔（2000）          0.543451\n",
      "十五才 学校IV         0.361242\n",
      "バトル・ロワイアル        0.133324\n",
      "ホワイトアウト（2000）    0.113530\n",
      "★雨あがる            0.113530\n",
      "dtype: float32\n",
      "\n",
      "2002\n",
      "★千と千尋の神隠し       0.393214\n",
      "千年の恋 ひかる源氏物語    0.138814\n",
      "ウォーターボーイズ       0.123483\n",
      "ホタル             0.106853\n",
      "GO（2001）        0.106853\n",
      "dtype: float32\n",
      "\n",
      "2003\n",
      "★たそがれ清兵衛       0.662459\n",
      "突入せよ！「あさま山荘    0.132298\n",
      "ピンポン           0.118976\n",
      "陽はまた昇る         0.118976\n",
      "阿弥陀堂だより        0.118976\n",
      "dtype: float32\n",
      "\n",
      "2004\n",
      "阿修羅のごとく                               0.503587\n",
      "スパイ・ゾルゲ                               0.140542\n",
      "踊る大捜査線 THE MOVIE 2 レインボーブリッジを封鎖せよ！    0.140542\n",
      "★壬生義士伝                                0.129658\n",
      "座頭市                                   0.103363\n",
      "dtype: float32\n",
      "\n",
      "2005\n",
      "血と骨             0.631077\n",
      "★半落ち            0.205683\n",
      "世界の中心で、愛をさけぶ    0.144635\n",
      "隠し剣　鬼の爪         0.144635\n",
      "スウィングガールズ       0.111398\n",
      "dtype: float32\n",
      "\n",
      "2006\n",
      "パッチギ!             0.414671\n",
      "★ALWAYS 三丁目の夕日    0.237510\n",
      "蝉しぐれ              0.191546\n",
      "亡国のイージス           0.163976\n",
      "北の零年              0.134458\n",
      "dtype: float32\n",
      "\n",
      "2007\n",
      "★フラガール           0.480273\n",
      "男たちの大和 YAMATO    0.143959\n",
      "THE 有頂天ホテル       0.124858\n",
      "武士の一分（いちぶん）      0.110191\n",
      "明日の記憶            0.110191\n",
      "dtype: float32\n",
      "\n",
      "2008\n",
      "それでもボクはやってない             0.696624\n",
      "★東京タワー　オカンとボクと、時々、オトン    0.212435\n",
      "キサラギ                     0.154247\n",
      "ALWAYS 続・三丁目の夕日          0.128909\n",
      "眉山                       0.114276\n",
      "dtype: float32\n",
      "\n",
      "2009\n",
      "★おくりびと       0.413387\n",
      "クライマーズ・ハイ    0.188648\n",
      "ザ・マジックアワー    0.133835\n",
      "母べえ          0.121786\n",
      "容疑者Xの献身      0.120111\n",
      "dtype: float32\n",
      "\n",
      "2010\n",
      "★沈まぬ太陽            0.442318\n",
      "ディア・ドクター          0.373917\n",
      "劔岳　点の記            0.130039\n",
      "ゼロの焦点             0.130039\n",
      "ヴィヨンの妻　桜桃とタンポポ    0.115321\n",
      "dtype: float32\n",
      "\n",
      "2011\n",
      "悪人           0.469588\n",
      "十三人の刺客       0.128309\n",
      "孤高のメス        0.112551\n",
      "おとうと         0.112551\n",
      "★告白（2010）    0.112551\n",
      "dtype: float32\n",
      "\n",
      "2012\n",
      "★八日目の蝉       0.236297\n",
      "大鹿村騒動記       0.131400\n",
      "ステキな金縛り      0.130781\n",
      "最後の忠臣蔵       0.130781\n",
      "探偵はBARにいる    0.114321\n",
      "dtype: float32\n",
      "\n",
      "2013\n",
      "わが母の記           0.326304\n",
      "のぼうの城           0.139886\n",
      "あなたへ            0.124132\n",
      "北のカナリアたち        0.106743\n",
      "★桐島、部活やめるってよ    0.106743\n",
      "dtype: float32\n",
      "\n",
      "2014\n",
      "★舟を編む      0.671182\n",
      "そして父になる    0.341431\n",
      "東京家族       0.132380\n",
      "利休にたずねよ    0.119057\n",
      "少年H        0.119057\n",
      "凶悪         0.119057\n",
      "dtype: float32\n",
      "\n",
      "2015\n",
      "★永遠の0       0.393072\n",
      "小さいおうち      0.138666\n",
      "蜩ノ記         0.137519\n",
      "ふしぎな岬の物語    0.106714\n",
      "紙の月         0.106714\n",
      "dtype: float32\n",
      "\n",
      "2016\n",
      "★海街diary      0.191452\n",
      "日本のいちばん長い日    0.179534\n",
      "海難1890        0.140930\n",
      "百円の恋          0.109046\n",
      "母と暮せば         0.109046\n",
      "dtype: float32\n",
      "\n",
      "2017\n",
      "怒り            0.142680\n",
      "★シン・ゴジラ       0.139097\n",
      "64 ロクヨン　前編    0.107203\n",
      "チチを撮りに        0.107203\n",
      "家族はつらいよ       0.107203\n",
      "dtype: float32\n",
      "\n",
      "2018\n",
      "関ヶ原                0.126559\n",
      "花戦さ                0.110875\n",
      "ナミヤ雑貨店の奇蹟          0.110875\n",
      "君の膵臓をたべたい（2017）    0.110875\n",
      "★三度目の殺人            0.110875\n",
      "dtype: float32\n",
      "\n",
      "2019\n",
      "★万引き家族       0.570098\n",
      "孤狼の血         0.320835\n",
      "カメラを止めるな！    0.175619\n",
      "空飛ぶタイヤ       0.115642\n",
      "北の桜守         0.115642\n",
      "dtype: float32\n",
      "\n",
      "0.74323753169907\n",
      "21 / 42\n"
     ]
    }
   ],
   "source": [
    "l = []\n",
    "\n",
    "allelement = 0\n",
    "\n",
    "count = 0\n",
    "\n",
    "for year in range(1978, 2019 + 1):\n",
    "    param = {\n",
    "        'silent': True,\n",
    "        'max_depth': 10,\n",
    "    }\n",
    "    rg = xgb.XGBRegressor(silent = True,**best)\n",
    "    X = table.query('year != {}'.format(year)).drop(['prize', 'title'], axis = 1).values\n",
    "    y = table.query('year != {}'.format(year))['prize'].values\n",
    "    rg.fit(X,y)\n",
    "    result = rg.predict(table.query('year == {}'.format(year)).drop(['prize', 'title'], axis = 1).values)\n",
    "    scope = table.query('year == {}'.format(year))[['title','prize']]\n",
    "    scope['result'] = result\n",
    "    l.append(scope)\n",
    "    title = scope['title'].copy()\n",
    "    title[scope['prize'] == 1] = title[scope['prize'] == 1].map(lambda s: '★' + s)\n",
    "    print(year)\n",
    "    disp = pd.Series(result, index = title.values).sort_values(ascending=False)\n",
    "    print(disp)\n",
    "    print('')\n",
    "    allelement  += 1\n",
    "    if '★' in disp.index[0]:\n",
    "        count += 1\n",
    "        \n",
    "    \n",
    "temp = pd.concat(l)\n",
    "print(roc_auc_score(temp['prize'], temp['result']))\n",
    "print(count,'/',allelement)"
   ]
  },
  {
   "cell_type": "code",
   "execution_count": null,
   "metadata": {},
   "outputs": [],
   "source": []
  }
 ],
 "metadata": {
  "kernelspec": {
   "display_name": "Python 3",
   "language": "python",
   "name": "python3"
  },
  "language_info": {
   "codemirror_mode": {
    "name": "ipython",
    "version": 3
   },
   "file_extension": ".py",
   "mimetype": "text/x-python",
   "name": "python",
   "nbconvert_exporter": "python",
   "pygments_lexer": "ipython3",
   "version": "3.6.6"
  }
 },
 "nbformat": 4,
 "nbformat_minor": 4
}
