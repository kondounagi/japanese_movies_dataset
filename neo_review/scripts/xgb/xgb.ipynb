{
 "cells": [
  {
   "cell_type": "code",
   "execution_count": 1,
   "metadata": {},
   "outputs": [],
   "source": [
    "import xgboost as xgb\n",
    "import pandas as pd"
   ]
  },
  {
   "cell_type": "code",
   "execution_count": 2,
   "metadata": {},
   "outputs": [],
   "source": [
    "# 読み出し\n",
    "data = pd.read_pickle('data.pkl')\n",
    "nomination_onehot = pd.read_pickle('nomination_onehot.pkl')\n",
    "selected_performers_onehot = pd.read_pickle('selected_performers_onehot.pkl')\n",
    "selected_directors_onehot = pd.read_pickle('selected_directors_onehot.pkl')\n",
    "selected_studio_onehot = pd.read_pickle('selected_studio_onehot.pkl')\n",
    "selected_scriptwriter_onehot = pd.read_pickle('selected_scriptwriter_onehot.pkl')\n",
    "review_dataframe = pd.read_pickle('review_dataframe.pkl')\n",
    "tfidf = pd.read_pickle('tfidf.pkl')"
   ]
  },
  {
   "cell_type": "code",
   "execution_count": 20,
   "metadata": {},
   "outputs": [],
   "source": [
    "table = pd.concat([\n",
    "    data[['prize', 'title', 'year', 'screen_time']],\n",
    "    nomination_onehot,\n",
    "    selected_performers_onehot,\n",
    "    selected_directors_onehot,\n",
    "    selected_studio_onehot,\n",
    "    selected_scriptwriter_onehot\n",
    "], axis = 1)"
   ]
  },
  {
   "cell_type": "code",
   "execution_count": null,
   "metadata": {},
   "outputs": [],
   "source": [
    "for year in range(1978, 2019 + 1):\n",
    "    rg = xgb.XGBRegressor(silent= True)\n",
    "    X = table.query('year != {}'.format(year)).drop(['prize', 'title', 'year'], axis = 1).values\n",
    "    y = table.query('year != {}'.format(year))['prize'].values\n",
    "    rg.fit(X,y)\n",
    "    result = rg.predict(table.query('year == {}'.format(year)).drop(['prize', 'title', 'year'], axis = 1).values)\n",
    "    prize = table.query('year == {}'.format(year))\n",
    "    title = table.query('year == {}'.format(year))['title'].copy()\n",
    "    title[prize['prize'] == 1] = title[prize['prize'] == 1].map(lambda s: '★' + s)\n",
    "    print(year)\n",
    "    print(pd.Series(result, index = title.values).sort_values(ascending=False) )\n",
    "    print('')"
   ]
  },
  {
   "cell_type": "code",
   "execution_count": 3,
   "metadata": {},
   "outputs": [
    {
     "data": {
      "text/html": [
       "<div>\n",
       "<style scoped>\n",
       "    .dataframe tbody tr th:only-of-type {\n",
       "        vertical-align: middle;\n",
       "    }\n",
       "\n",
       "    .dataframe tbody tr th {\n",
       "        vertical-align: top;\n",
       "    }\n",
       "\n",
       "    .dataframe thead th {\n",
       "        text-align: right;\n",
       "    }\n",
       "</style>\n",
       "<table border=\"1\" class=\"dataframe\">\n",
       "  <thead>\n",
       "    <tr style=\"text-align: right;\">\n",
       "      <th></th>\n",
       "      <th>title</th>\n",
       "      <th>production_studio</th>\n",
       "      <th>other_nominates</th>\n",
       "      <th>len</th>\n",
       "    </tr>\n",
       "    <tr>\n",
       "      <th>id</th>\n",
       "      <th></th>\n",
       "      <th></th>\n",
       "      <th></th>\n",
       "      <th></th>\n",
       "    </tr>\n",
       "  </thead>\n",
       "  <tbody>\n",
       "    <tr>\n",
       "      <th>131</th>\n",
       "      <td>壬生義士伝</td>\n",
       "      <td>[松竹]</td>\n",
       "      <td>[]</td>\n",
       "      <td>32</td>\n",
       "    </tr>\n",
       "    <tr>\n",
       "      <th>132</th>\n",
       "      <td>阿修羅のごとく</td>\n",
       "      <td>[東宝]</td>\n",
       "      <td>[nikkan_sports]</td>\n",
       "      <td>16</td>\n",
       "    </tr>\n",
       "    <tr>\n",
       "      <th>133</th>\n",
       "      <td>踊る大捜査線 THE MOVIE 2 レインボーブリッジを封鎖せよ！</td>\n",
       "      <td>[東宝]</td>\n",
       "      <td>[golden_gross]</td>\n",
       "      <td>55</td>\n",
       "    </tr>\n",
       "    <tr>\n",
       "      <th>134</th>\n",
       "      <td>座頭市</td>\n",
       "      <td>[松竹, オフィス北野]</td>\n",
       "      <td>[]</td>\n",
       "      <td>55</td>\n",
       "    </tr>\n",
       "    <tr>\n",
       "      <th>135</th>\n",
       "      <td>スパイ・ゾルゲ</td>\n",
       "      <td>[東宝]</td>\n",
       "      <td>[]</td>\n",
       "      <td>3</td>\n",
       "    </tr>\n",
       "  </tbody>\n",
       "</table>\n",
       "</div>"
      ],
      "text/plain": [
       "                                  title production_studio  other_nominates  \\\n",
       "id                                                                           \n",
       "131                               壬生義士伝              [松竹]               []   \n",
       "132                             阿修羅のごとく              [東宝]  [nikkan_sports]   \n",
       "133  踊る大捜査線 THE MOVIE 2 レインボーブリッジを封鎖せよ！              [東宝]   [golden_gross]   \n",
       "134                                 座頭市      [松竹, オフィス北野]               []   \n",
       "135                             スパイ・ゾルゲ              [東宝]               []   \n",
       "\n",
       "     len  \n",
       "id        \n",
       "131   32  \n",
       "132   16  \n",
       "133   55  \n",
       "134   55  \n",
       "135    3  "
      ]
     },
     "execution_count": 3,
     "metadata": {},
     "output_type": "execute_result"
    }
   ],
   "source": [
    "frames = [\n",
    "    data.query('year == 2004')[['title', 'production_studio', 'other_nominates']],\n",
    "    review_dataframe\n",
    "         ]\n",
    "\n",
    "def asdf(s):\n",
    "    s['len'] = len(s['reviews'])\n",
    "    return s\n",
    "    \n",
    "pd.concat(\n",
    "    frames,\n",
    "    axis = 1,\n",
    "    join = 'inner'\n",
    ").apply(asdf, axis = 1).drop(['reviews'], axis = 1)"
   ]
  },
  {
   "cell_type": "code",
   "execution_count": null,
   "metadata": {},
   "outputs": [],
   "source": [
    "from sklearn.decomposition import PCA\n",
    "\n",
    "pca = PCA(n_components=20)\n",
    "pca.fit(tfidf.values)\n",
    "tfidf_df = pd.DataFrame(pca.transform(tfidf.values), index = tfidf.index)"
   ]
  },
  {
   "cell_type": "code",
   "execution_count": 54,
   "metadata": {},
   "outputs": [],
   "source": [
    "table = pd.concat([\n",
    "    data[['prize', 'title', 'year']],\n",
    "    tfidf\n",
    "], axis = 1)"
   ]
  },
  {
   "cell_type": "code",
   "execution_count": null,
   "metadata": {},
   "outputs": [],
   "source": [
    "for year in range(1978, 2019 + 1):\n",
    "    rg = xgb.XGBRegressor(silent= True)\n",
    "    X = table.query('year != {}'.format(year)).drop(['prize', 'title', 'year'], axis = 1).values\n",
    "    y = table.query('year != {}'.format(year))['prize'].values\n",
    "    rg.fit(X,y)\n",
    "    result = rg.predict(table.query('year == {}'.format(year)).drop(['prize', 'title', 'year'], axis = 1).values)\n",
    "    prize = table.query('year == {}'.format(year))\n",
    "    title = table.query('year == {}'.format(year))['title'].copy()\n",
    "    title[prize['prize'] == 1] = title[prize['prize'] == 1].map(lambda s: '★' + s)\n",
    "    print(year)\n",
    "    print(pd.Series(result, index = title.values).sort_values(ascending=False) )\n",
    "    print('')"
   ]
  }
 ],
 "metadata": {
  "kernelspec": {
   "display_name": "Python 3",
   "language": "python",
   "name": "python3"
  },
  "language_info": {
   "codemirror_mode": {
    "name": "ipython",
    "version": 3
   },
   "file_extension": ".py",
   "mimetype": "text/x-python",
   "name": "python",
   "nbconvert_exporter": "python",
   "pygments_lexer": "ipython3",
   "version": "3.6.6"
  }
 },
 "nbformat": 4,
 "nbformat_minor": 4
}
