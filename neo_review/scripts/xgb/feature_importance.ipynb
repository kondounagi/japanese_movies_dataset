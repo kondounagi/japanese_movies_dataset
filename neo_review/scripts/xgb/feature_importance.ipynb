{
 "cells": [
  {
   "cell_type": "code",
   "execution_count": 1,
   "metadata": {},
   "outputs": [],
   "source": [
    "import xgboost as xgb\n",
    "import pandas as pd"
   ]
  },
  {
   "cell_type": "code",
   "execution_count": 2,
   "metadata": {},
   "outputs": [],
   "source": [
    "# 読み出し\n",
    "data = pd.read_pickle('data.pkl')\n",
    "nomination_onehot = pd.read_pickle('nomination_onehot.pkl')\n",
    "selected_performers_onehot = pd.read_pickle('selected_performers_onehot.pkl')\n",
    "selected_directors_onehot = pd.read_pickle('selected_directors_onehot.pkl')\n",
    "selected_studio_onehot = pd.read_pickle('selected_studio_onehot.pkl')\n",
    "selected_scriptwriter_onehot = pd.read_pickle('selected_scriptwriter_onehot.pkl')\n",
    "review_dataframe = pd.read_pickle('review_dataframe.pkl')"
   ]
  },
  {
   "cell_type": "code",
   "execution_count": 3,
   "metadata": {},
   "outputs": [],
   "source": [
    "table = pd.concat([\n",
    "    data[['prize', 'title', 'year', 'screen_time']],\n",
    "    nomination_onehot,\n",
    "    selected_performers_onehot,\n",
    "    selected_directors_onehot,\n",
    "    selected_studio_onehot,\n",
    "    selected_scriptwriter_onehot\n",
    "], axis = 1)"
   ]
  },
  {
   "cell_type": "code",
   "execution_count": null,
   "metadata": {},
   "outputs": [],
   "source": [
    "for year in range(1978, 2019 + 1):\n",
    "    rg = xgb.XGBRegressor(silent= True)\n",
    "    X = table.query('year != {}'.format(year)).drop(['prize', 'title'], axis = 1).values\n",
    "    y = table.query('year != {}'.format(year))['prize'].values\n",
    "    rg.fit(X,y)\n",
    "    result = rg.predict(table.query('year == {}'.format(year)).drop(['prize', 'title'], axis = 1).values)\n",
    "    prize = table.query('year == {}'.format(year))\n",
    "    title = table.query('year == {}'.format(year))['title']\n",
    "    title[prize['prize'] == 1] = title[prize['prize'] == 1].map(lambda s: '★' + s)\n",
    "    print(year)\n",
    "    print(pd.Series(result, index = title.values).sort_values(ascending=False) )\n",
    "    print('')"
   ]
  },
  {
   "cell_type": "code",
   "execution_count": 4,
   "metadata": {},
   "outputs": [
    {
     "data": {
      "text/plain": [
       "XGBRegressor(base_score=0.5, booster='gbtree', colsample_bylevel=1,\n",
       "       colsample_bynode=1, colsample_bytree=1, gamma=0,\n",
       "       importance_type='gain', learning_rate=0.1, max_delta_step=0,\n",
       "       max_depth=3, min_child_weight=1, missing=None, n_estimators=100,\n",
       "       n_jobs=1, nthread=None, objective='reg:linear', random_state=0,\n",
       "       reg_alpha=0, reg_lambda=1, scale_pos_weight=1, seed=None,\n",
       "       silent=True, subsample=1, verbosity=1)"
      ]
     },
     "execution_count": 4,
     "metadata": {},
     "output_type": "execute_result"
    }
   ],
   "source": [
    "rg = xgb.XGBRegressor(silent = True)\n",
    "X = table.drop(['prize', 'title'], axis = 1).values\n",
    "y = table['prize'].values\n",
    "rg.fit(X,y)\n"
   ]
  },
  {
   "cell_type": "code",
   "execution_count": 9,
   "metadata": {},
   "outputs": [
    {
     "data": {
      "text/plain": [
       "mainichi_film_award    0.185358\n",
       "松竹                     0.065553\n",
       "樹木希林                   0.053239\n",
       "nikkan_sports          0.050895\n",
       "余貴美子                   0.042149\n",
       "hochi_eigashou         0.042033\n",
       "倍賞美津子                  0.033229\n",
       "東映                     0.029105\n",
       "國村隼                    0.026923\n",
       "是枝裕和                   0.025301\n",
       "柄本明                    0.025279\n",
       "筒井ともみ                  0.023021\n",
       "大滝秀治                   0.022751\n",
       "今村昌平                   0.022047\n",
       "吉岡秀隆                   0.021443\n",
       "光石研                    0.020777\n",
       "kinejun_best_ten       0.020735\n",
       "原田美枝子                  0.020645\n",
       "吉行和子                   0.020086\n",
       "screen_time            0.018048\n",
       "blue_ribbon_award      0.016158\n",
       "year                   0.016137\n",
       "足立公良                   0.014476\n",
       "永島敏行                   0.013877\n",
       "深作欣二                   0.013139\n",
       "伊丹十三                   0.013057\n",
       "松田寛夫                   0.012214\n",
       "滝田洋二郎                  0.011632\n",
       "吉永小百合                  0.010574\n",
       "役所広司                   0.009582\n",
       "                         ...   \n",
       "是枝裕和                   0.000000\n",
       "李相日                    0.000000\n",
       "木下惠介                   0.000000\n",
       "北野武                    0.000000\n",
       "平田満                    0.000000\n",
       "市川崑                    0.000000\n",
       "伊丹十三                   0.000000\n",
       "三谷幸喜                   0.000000\n",
       "原田眞人                   0.000000\n",
       "古沢良太                   0.000000\n",
       "降旗康男                   0.000000\n",
       "阪本順治                   0.000000\n",
       "藤原敏之                   0.000000\n",
       "神山征二郎                  0.000000\n",
       "周防正行                   0.000000\n",
       "市川崑                    0.000000\n",
       "山田洋次                   0.000000\n",
       "原田眞人                   0.000000\n",
       "北野武                    0.000000\n",
       "佐藤純彌                   0.000000\n",
       "佐々部清                   0.000000\n",
       "那須真知子                  0.000000\n",
       "五十嵐敬司                  0.000000\n",
       "緒形拳                    0.000000\n",
       "神山繁                    0.000000\n",
       "石橋蓮司                   0.000000\n",
       "加藤正人                   0.000000\n",
       "浅野忠信                   0.000000\n",
       "山田洋次                   0.000000\n",
       "田村高廣                   0.000000\n",
       "Length: 94, dtype: float32"
      ]
     },
     "execution_count": 9,
     "metadata": {},
     "output_type": "execute_result"
    }
   ],
   "source": [
    "pd.Series(rg.feature_importances_, index= table.drop(['prize', 'title'], axis = 1).columns).sort_values(ascending = False)"
   ]
  },
  {
   "cell_type": "code",
   "execution_count": null,
   "metadata": {},
   "outputs": [],
   "source": []
  }
 ],
 "metadata": {
  "kernelspec": {
   "display_name": "Python 3",
   "language": "python",
   "name": "python3"
  },
  "language_info": {
   "codemirror_mode": {
    "name": "ipython",
    "version": 3
   },
   "file_extension": ".py",
   "mimetype": "text/x-python",
   "name": "python",
   "nbconvert_exporter": "python",
   "pygments_lexer": "ipython3",
   "version": "3.6.6"
  }
 },
 "nbformat": 4,
 "nbformat_minor": 4
}
