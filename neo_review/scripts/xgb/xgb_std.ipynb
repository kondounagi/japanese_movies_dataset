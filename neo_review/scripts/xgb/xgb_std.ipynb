{
 "cells": [
  {
   "cell_type": "code",
   "execution_count": 1,
   "metadata": {},
   "outputs": [],
   "source": [
    "import xgboost as xgb\n",
    "import pandas as pd\n",
    "from sklearn.metrics import roc_auc_score"
   ]
  },
  {
   "cell_type": "code",
   "execution_count": 12,
   "metadata": {},
   "outputs": [],
   "source": [
    "import numpy as np\n",
    "import optuna"
   ]
  },
  {
   "cell_type": "code",
   "execution_count": null,
   "metadata": {},
   "outputs": [],
   "source": [
    "filepath = '../../data/std_data'\n",
    "\n",
    "def objective(trial):\n",
    "    param = {\n",
    "        'max_depth': trial.suggest_int('max_depth',1,10),\n",
    "        'learning_rate': trial.suggest_uniform('learning_rate', 0.05, 0.2),\n",
    "        'n_estimators': trial.suggest_int('n_estimators ', 20, 200),\n",
    "        'n_jobs': 4,\n",
    "        'gamma': trial.suggest_uniform('gamma', 0, 1),\n",
    "        'reg_lambda': trial.suggest_uniform('reg_lambda', 0.5, 3),\n",
    "        'reg_alpha': trial.suggest_uniform('reg_alpha', 0, 3)\n",
    "    }\n",
    "\n",
    "    print(param)\n",
    "    \n",
    "    l = []\n",
    "\n",
    "    for year in range(1978, 2019 + 1):\n",
    "        rg = xgb.XGBRegressor(silent= True, **param)\n",
    "        train_X = pd.read_pickle(filepath + '/train/{}_x.pkl'.format(year))\n",
    "        train_y = pd.read_pickle(filepath + '/train/{}_y.pkl'.format(year))\n",
    "        rg.fit(train_X.values, train_y.values)\n",
    "        test_X = pd.read_pickle(filepath + '/test/{}_x.pkl'.format(year))\n",
    "        test_y = pd.read_pickle(filepath + '/test/{}_y.pkl'.format(year))\n",
    "        result = rg.predict(test_X.values)\n",
    "        result_series = pd.Series(result, index= test_y.index)\n",
    "        result_series.name = 'result'\n",
    "        scope = pd.concat([test_y, result_series], axis = 1)\n",
    "        l.append(scope)\n",
    "        #title = scope['title'].copy()\n",
    "        #title[scope['prize'] == 1] = title[scope['prize'] == 1].map(lambda s: '★' + s)\n",
    "        #print(year)\n",
    "        #print(pd.Series(result, index = title.values).sort_values(ascending=False) )\n",
    "        #print('')\n",
    "    \n",
    "\n",
    "    temp = pd.concat(l)\n",
    "\n",
    "    print(roc_auc_score(temp['prize'], temp['result']))\n",
    "    return -roc_auc_score(temp['prize'], temp['result'])\n",
    "\n",
    "study = optuna.create_study()\n",
    "study.optimize(objective, n_trials=200)"
   ]
  },
  {
   "cell_type": "code",
   "execution_count": null,
   "metadata": {},
   "outputs": [],
   "source": [
    "best ={'max_depth': 1,\n",
    " 'learning_rate': 0.14544434403253392,\n",
    " 'n_estimators ': 72,\n",
    " 'gamma': 0.4356018082020117,\n",
    " 'reg_lambda': 2.931451663505623,\n",
    " 'reg_alpha': 0.19045302677956732}\n",
    "best = study.best_params\n",
    "best"
   ]
  },
  {
   "cell_type": "code",
   "execution_count": 26,
   "metadata": {},
   "outputs": [
    {
     "data": {
      "text/plain": [
       "-0.7617638771484925"
      ]
     },
     "execution_count": 26,
     "metadata": {},
     "output_type": "execute_result"
    }
   ],
   "source": [
    "study.best_value"
   ]
  },
  {
   "cell_type": "code",
   "execution_count": null,
   "metadata": {},
   "outputs": [],
   "source": []
  },
  {
   "cell_type": "code",
   "execution_count": null,
   "metadata": {},
   "outputs": [],
   "source": []
  },
  {
   "cell_type": "code",
   "execution_count": null,
   "metadata": {},
   "outputs": [],
   "source": []
  },
  {
   "cell_type": "code",
   "execution_count": null,
   "metadata": {},
   "outputs": [],
   "source": []
  },
  {
   "cell_type": "code",
   "execution_count": null,
   "metadata": {},
   "outputs": [],
   "source": []
  },
  {
   "cell_type": "code",
   "execution_count": null,
   "metadata": {},
   "outputs": [],
   "source": []
  },
  {
   "cell_type": "code",
   "execution_count": null,
   "metadata": {},
   "outputs": [],
   "source": []
  },
  {
   "cell_type": "code",
   "execution_count": 28,
   "metadata": {},
   "outputs": [
    {
     "name": "stdout",
     "output_type": "stream",
     "text": [
      "{'max_depth': 3, 'learning_rate': 0.07462955989406637, 'n_estimators': 65, 'n_jobs': 4, 'gamma': 0.9914864901404017, 'reg_lambda': 2.322803987298956, 'reg_alpha': 0.41139515172177843, 'sub_sample': 0.6583737201535488, 'scale_pos_weight': 4.684776082609481}\n",
      "0.7297830374753452\n"
     ]
    },
    {
     "name": "stderr",
     "output_type": "stream",
     "text": [
      "[I 2019-08-22 10:33:08,309] Finished trial#0 resulted in value: -0.7297830374753452. Current best value is -0.7297830374753452 with parameters: {'max_depth': 3, 'learning_rate': 0.07462955989406637, 'n_estimators ': 65, 'gamma': 0.9914864901404017, 'reg_lambda': 2.322803987298956, 'reg_alpha': 0.41139515172177843, 'sub_sample': 0.6583737201535488, 'scale_pos_weight': 4.684776082609481}.\n"
     ]
    },
    {
     "name": "stdout",
     "output_type": "stream",
     "text": [
      "{'max_depth': 1, 'learning_rate': 0.1772303975739002, 'n_estimators': 189, 'n_jobs': 4, 'gamma': 0.7098416004710738, 'reg_lambda': 2.02190027125462, 'reg_alpha': 0.7365437698519927, 'sub_sample': 0.4216291080684605, 'scale_pos_weight': 3.829933902688385}\n",
      "0.692166807551423\n"
     ]
    },
    {
     "name": "stderr",
     "output_type": "stream",
     "text": [
      "[I 2019-08-22 10:33:12,798] Finished trial#1 resulted in value: -0.692166807551423. Current best value is -0.7297830374753452 with parameters: {'max_depth': 3, 'learning_rate': 0.07462955989406637, 'n_estimators ': 65, 'gamma': 0.9914864901404017, 'reg_lambda': 2.322803987298956, 'reg_alpha': 0.41139515172177843, 'sub_sample': 0.6583737201535488, 'scale_pos_weight': 4.684776082609481}.\n"
     ]
    },
    {
     "name": "stdout",
     "output_type": "stream",
     "text": [
      "{'max_depth': 8, 'learning_rate': 0.12263426096399739, 'n_estimators': 162, 'n_jobs': 4, 'gamma': 0.7362210800315617, 'reg_lambda': 2.9387518588170622, 'reg_alpha': 1.5699075955253439, 'sub_sample': 0.7758498944408352, 'scale_pos_weight': 8.760523353883354}\n",
      "0.6503240349394196\n"
     ]
    },
    {
     "name": "stderr",
     "output_type": "stream",
     "text": [
      "[I 2019-08-22 10:33:35,270] Finished trial#2 resulted in value: -0.6503240349394196. Current best value is -0.7297830374753452 with parameters: {'max_depth': 3, 'learning_rate': 0.07462955989406637, 'n_estimators ': 65, 'gamma': 0.9914864901404017, 'reg_lambda': 2.322803987298956, 'reg_alpha': 0.41139515172177843, 'sub_sample': 0.6583737201535488, 'scale_pos_weight': 4.684776082609481}.\n"
     ]
    },
    {
     "name": "stdout",
     "output_type": "stream",
     "text": [
      "{'max_depth': 5, 'learning_rate': 0.0694416474336074, 'n_estimators': 105, 'n_jobs': 4, 'gamma': 0.0330713198389011, 'reg_lambda': 3.5601092191672783, 'reg_alpha': 2.8472251906037274, 'sub_sample': 0.8255852296911799, 'scale_pos_weight': 1.4466913107909893}\n",
      "0.7481684981684981\n"
     ]
    },
    {
     "name": "stderr",
     "output_type": "stream",
     "text": [
      "[I 2019-08-22 10:33:40,756] Finished trial#3 resulted in value: -0.7481684981684981. Current best value is -0.7481684981684981 with parameters: {'max_depth': 5, 'learning_rate': 0.0694416474336074, 'n_estimators ': 105, 'gamma': 0.0330713198389011, 'reg_lambda': 3.5601092191672783, 'reg_alpha': 2.8472251906037274, 'sub_sample': 0.8255852296911799, 'scale_pos_weight': 1.4466913107909893}.\n"
     ]
    },
    {
     "name": "stdout",
     "output_type": "stream",
     "text": [
      "{'max_depth': 9, 'learning_rate': 0.06510873621194933, 'n_estimators': 192, 'n_jobs': 4, 'gamma': 0.1747848340590893, 'reg_lambda': 4.961239861554158, 'reg_alpha': 0.869263561218055, 'sub_sample': 0.7838325813599103, 'scale_pos_weight': 9.612579866881697}\n",
      "0.6541279233586925\n"
     ]
    },
    {
     "name": "stderr",
     "output_type": "stream",
     "text": [
      "[I 2019-08-22 10:34:11,406] Finished trial#4 resulted in value: -0.6541279233586925. Current best value is -0.7481684981684981 with parameters: {'max_depth': 5, 'learning_rate': 0.0694416474336074, 'n_estimators ': 105, 'gamma': 0.0330713198389011, 'reg_lambda': 3.5601092191672783, 'reg_alpha': 2.8472251906037274, 'sub_sample': 0.8255852296911799, 'scale_pos_weight': 1.4466913107909893}.\n"
     ]
    },
    {
     "name": "stdout",
     "output_type": "stream",
     "text": [
      "{'max_depth': 1, 'learning_rate': 0.06276781127349432, 'n_estimators': 151, 'n_jobs': 4, 'gamma': 0.7568944139108981, 'reg_lambda': 2.609269635618552, 'reg_alpha': 0.38368156986244795, 'sub_sample': 0.8522127077400068, 'scale_pos_weight': 1.9692943067318591}\n",
      "0.621513102282333\n"
     ]
    },
    {
     "name": "stderr",
     "output_type": "stream",
     "text": [
      "[I 2019-08-22 10:34:15,202] Finished trial#5 resulted in value: -0.621513102282333. Current best value is -0.7481684981684981 with parameters: {'max_depth': 5, 'learning_rate': 0.0694416474336074, 'n_estimators ': 105, 'gamma': 0.0330713198389011, 'reg_lambda': 3.5601092191672783, 'reg_alpha': 2.8472251906037274, 'sub_sample': 0.8255852296911799, 'scale_pos_weight': 1.4466913107909893}.\n"
     ]
    },
    {
     "name": "stdout",
     "output_type": "stream",
     "text": [
      "{'max_depth': 2, 'learning_rate': 0.05096964654677111, 'n_estimators': 77, 'n_jobs': 4, 'gamma': 0.05038630981236014, 'reg_lambda': 1.8258190627758184, 'reg_alpha': 2.7742656242563344, 'sub_sample': 0.6710665072978167, 'scale_pos_weight': 9.393201134635788}\n",
      "0.7121724429416737\n"
     ]
    },
    {
     "name": "stderr",
     "output_type": "stream",
     "text": [
      "[I 2019-08-22 10:34:18,290] Finished trial#6 resulted in value: -0.7121724429416737. Current best value is -0.7481684981684981 with parameters: {'max_depth': 5, 'learning_rate': 0.0694416474336074, 'n_estimators ': 105, 'gamma': 0.0330713198389011, 'reg_lambda': 3.5601092191672783, 'reg_alpha': 2.8472251906037274, 'sub_sample': 0.8255852296911799, 'scale_pos_weight': 1.4466913107909893}.\n"
     ]
    },
    {
     "name": "stdout",
     "output_type": "stream",
     "text": [
      "{'max_depth': 8, 'learning_rate': 0.07164352928987383, 'n_estimators': 86, 'n_jobs': 4, 'gamma': 0.17098633915343509, 'reg_lambda': 4.611719321505079, 'reg_alpha': 0.4859611260553648, 'sub_sample': 0.9871173934026496, 'scale_pos_weight': 2.391757944179982}\n",
      "0.7204846435615666\n"
     ]
    },
    {
     "name": "stderr",
     "output_type": "stream",
     "text": [
      "[I 2019-08-22 10:34:33,970] Finished trial#7 resulted in value: -0.7204846435615666. Current best value is -0.7481684981684981 with parameters: {'max_depth': 5, 'learning_rate': 0.0694416474336074, 'n_estimators ': 105, 'gamma': 0.0330713198389011, 'reg_lambda': 3.5601092191672783, 'reg_alpha': 2.8472251906037274, 'sub_sample': 0.8255852296911799, 'scale_pos_weight': 1.4466913107909893}.\n"
     ]
    },
    {
     "name": "stdout",
     "output_type": "stream",
     "text": [
      "{'max_depth': 6, 'learning_rate': 0.1919600722885399, 'n_estimators': 188, 'n_jobs': 4, 'gamma': 0.09796838673526898, 'reg_lambda': 0.6863256958390735, 'reg_alpha': 2.341260468087366, 'sub_sample': 0.5721742406966207, 'scale_pos_weight': 4.408948548033327}\n",
      "0.6890673429134968\n"
     ]
    },
    {
     "name": "stderr",
     "output_type": "stream",
     "text": [
      "[I 2019-08-22 10:34:50,636] Finished trial#8 resulted in value: -0.6890673429134968. Current best value is -0.7481684981684981 with parameters: {'max_depth': 5, 'learning_rate': 0.0694416474336074, 'n_estimators ': 105, 'gamma': 0.0330713198389011, 'reg_lambda': 3.5601092191672783, 'reg_alpha': 2.8472251906037274, 'sub_sample': 0.8255852296911799, 'scale_pos_weight': 1.4466913107909893}.\n"
     ]
    },
    {
     "name": "stdout",
     "output_type": "stream",
     "text": [
      "{'max_depth': 7, 'learning_rate': 0.16033549618304888, 'n_estimators': 22, 'n_jobs': 4, 'gamma': 0.8620585013617121, 'reg_lambda': 1.8616651714208348, 'reg_alpha': 1.786182752862459, 'sub_sample': 0.9318742917359535, 'scale_pos_weight': 2.9062589870874396}\n",
      "0.7228796844181457\n"
     ]
    },
    {
     "name": "stderr",
     "output_type": "stream",
     "text": [
      "[I 2019-08-22 10:34:53,772] Finished trial#9 resulted in value: -0.7228796844181457. Current best value is -0.7481684981684981 with parameters: {'max_depth': 5, 'learning_rate': 0.0694416474336074, 'n_estimators ': 105, 'gamma': 0.0330713198389011, 'reg_lambda': 3.5601092191672783, 'reg_alpha': 2.8472251906037274, 'sub_sample': 0.8255852296911799, 'scale_pos_weight': 1.4466913107909893}.\n"
     ]
    },
    {
     "name": "stdout",
     "output_type": "stream",
     "text": [
      "{'max_depth': 4, 'learning_rate': 0.10410513305758887, 'n_estimators': 127, 'n_jobs': 4, 'gamma': 0.3775588256651662, 'reg_lambda': 3.7118809146053686, 'reg_alpha': 2.924148208353817, 'sub_sample': 0.344170511094048, 'scale_pos_weight': 6.975190335959594}\n",
      "0.7094956325725557\n"
     ]
    },
    {
     "name": "stderr",
     "output_type": "stream",
     "text": [
      "[I 2019-08-22 10:35:01,990] Finished trial#10 resulted in value: -0.7094956325725557. Current best value is -0.7481684981684981 with parameters: {'max_depth': 5, 'learning_rate': 0.0694416474336074, 'n_estimators ': 105, 'gamma': 0.0330713198389011, 'reg_lambda': 3.5601092191672783, 'reg_alpha': 2.8472251906037274, 'sub_sample': 0.8255852296911799, 'scale_pos_weight': 1.4466913107909893}.\n"
     ]
    },
    {
     "name": "stdout",
     "output_type": "stream",
     "text": [
      "{'max_depth': 4, 'learning_rate': 0.09281678598718629, 'n_estimators': 44, 'n_jobs': 4, 'gamma': 0.9873843787658357, 'reg_lambda': 3.806752852207704, 'reg_alpha': 0.07162691739533139, 'sub_sample': 0.600413869227883, 'scale_pos_weight': 6.012165564647157}\n",
      "0.6817413355874894\n"
     ]
    },
    {
     "name": "stderr",
     "output_type": "stream",
     "text": [
      "[I 2019-08-22 10:35:05,223] Finished trial#11 resulted in value: -0.6817413355874894. Current best value is -0.7481684981684981 with parameters: {'max_depth': 5, 'learning_rate': 0.0694416474336074, 'n_estimators ': 105, 'gamma': 0.0330713198389011, 'reg_lambda': 3.5601092191672783, 'reg_alpha': 2.8472251906037274, 'sub_sample': 0.8255852296911799, 'scale_pos_weight': 1.4466913107909893}.\n"
     ]
    },
    {
     "name": "stdout",
     "output_type": "stream",
     "text": [
      "{'max_depth': 4, 'learning_rate': 0.08839874437993511, 'n_estimators': 69, 'n_jobs': 4, 'gamma': 0.4612229214568206, 'reg_lambda': 3.4994555613952185, 'reg_alpha': 2.1253589152061787, 'sub_sample': 0.7010122040267172, 'scale_pos_weight': 5.216755761200407}\n",
      "0.7140039447731756\n"
     ]
    },
    {
     "name": "stderr",
     "output_type": "stream",
     "text": [
      "[I 2019-08-22 10:35:09,898] Finished trial#12 resulted in value: -0.7140039447731756. Current best value is -0.7481684981684981 with parameters: {'max_depth': 5, 'learning_rate': 0.0694416474336074, 'n_estimators ': 105, 'gamma': 0.0330713198389011, 'reg_lambda': 3.5601092191672783, 'reg_alpha': 2.8472251906037274, 'sub_sample': 0.8255852296911799, 'scale_pos_weight': 1.4466913107909893}.\n"
     ]
    },
    {
     "name": "stdout",
     "output_type": "stream",
     "text": [
      "{'max_depth': 3, 'learning_rate': 0.13102359824566062, 'n_estimators': 110, 'n_jobs': 4, 'gamma': 0.2879616447231771, 'reg_lambda': 0.9297899613753278, 'reg_alpha': 1.109285319591433, 'sub_sample': 0.5576807848646175, 'scale_pos_weight': 1.0132289254995537}\n",
      "0.7349253310791771\n"
     ]
    },
    {
     "name": "stderr",
     "output_type": "stream",
     "text": [
      "[I 2019-08-22 10:35:15,940] Finished trial#13 resulted in value: -0.7349253310791771. Current best value is -0.7481684981684981 with parameters: {'max_depth': 5, 'learning_rate': 0.0694416474336074, 'n_estimators ': 105, 'gamma': 0.0330713198389011, 'reg_lambda': 3.5601092191672783, 'reg_alpha': 2.8472251906037274, 'sub_sample': 0.8255852296911799, 'scale_pos_weight': 1.4466913107909893}.\n"
     ]
    },
    {
     "name": "stdout",
     "output_type": "stream",
     "text": [
      "{'max_depth': 5, 'learning_rate': 0.1398478984086589, 'n_estimators': 105, 'n_jobs': 4, 'gamma': 0.3270167467938623, 'reg_lambda': 0.8810037389905288, 'reg_alpha': 1.277298924047171, 'sub_sample': 0.49202669197458704, 'scale_pos_weight': 1.1459633718537123}\n",
      "0.7180191603268526\n"
     ]
    },
    {
     "name": "stderr",
     "output_type": "stream",
     "text": [
      "[I 2019-08-22 10:35:25,007] Finished trial#14 resulted in value: -0.7180191603268526. Current best value is -0.7481684981684981 with parameters: {'max_depth': 5, 'learning_rate': 0.0694416474336074, 'n_estimators ': 105, 'gamma': 0.0330713198389011, 'reg_lambda': 3.5601092191672783, 'reg_alpha': 2.8472251906037274, 'sub_sample': 0.8255852296911799, 'scale_pos_weight': 1.4466913107909893}.\n"
     ]
    },
    {
     "name": "stdout",
     "output_type": "stream",
     "text": [
      "{'max_depth': 6, 'learning_rate': 0.1300044911636514, 'n_estimators': 119, 'n_jobs': 4, 'gamma': 0.2626153220963209, 'reg_lambda': 1.052908738210837, 'reg_alpha': 1.165319748653613, 'sub_sample': 0.49810014405257297, 'scale_pos_weight': 1.3296683164215297}\n",
      "0.7280924204001127\n"
     ]
    },
    {
     "name": "stderr",
     "output_type": "stream",
     "text": [
      "[I 2019-08-22 10:35:37,592] Finished trial#15 resulted in value: -0.7280924204001127. Current best value is -0.7481684981684981 with parameters: {'max_depth': 5, 'learning_rate': 0.0694416474336074, 'n_estimators ': 105, 'gamma': 0.0330713198389011, 'reg_lambda': 3.5601092191672783, 'reg_alpha': 2.8472251906037274, 'sub_sample': 0.8255852296911799, 'scale_pos_weight': 1.4466913107909893}.\n"
     ]
    },
    {
     "name": "stdout",
     "output_type": "stream",
     "text": [
      "{'max_depth': 2, 'learning_rate': 0.1501056083541944, 'n_estimators': 142, 'n_jobs': 4, 'gamma': 0.5499810549014579, 'reg_lambda': 4.219642532279586, 'reg_alpha': 1.9759249086108481, 'sub_sample': 0.8640018615140126, 'scale_pos_weight': 3.1821131502512956}\n",
      "0.7182304874612567\n"
     ]
    },
    {
     "name": "stderr",
     "output_type": "stream",
     "text": [
      "[I 2019-08-22 10:35:42,545] Finished trial#16 resulted in value: -0.7182304874612567. Current best value is -0.7481684981684981 with parameters: {'max_depth': 5, 'learning_rate': 0.0694416474336074, 'n_estimators ': 105, 'gamma': 0.0330713198389011, 'reg_lambda': 3.5601092191672783, 'reg_alpha': 2.8472251906037274, 'sub_sample': 0.8255852296911799, 'scale_pos_weight': 1.4466913107909893}.\n"
     ]
    },
    {
     "name": "stdout",
     "output_type": "stream",
     "text": [
      "{'max_depth': 5, 'learning_rate': 0.11455996795644441, 'n_estimators': 99, 'n_jobs': 4, 'gamma': 0.208977375570207, 'reg_lambda': 3.2036502439360275, 'reg_alpha': 2.445302731879204, 'sub_sample': 0.755660148184468, 'scale_pos_weight': 1.226967789959567}\n",
      "0.7328825021132712\n"
     ]
    },
    {
     "name": "stderr",
     "output_type": "stream",
     "text": [
      "[I 2019-08-22 10:35:50,593] Finished trial#17 resulted in value: -0.7328825021132712. Current best value is -0.7481684981684981 with parameters: {'max_depth': 5, 'learning_rate': 0.0694416474336074, 'n_estimators ': 105, 'gamma': 0.0330713198389011, 'reg_lambda': 3.5601092191672783, 'reg_alpha': 2.8472251906037274, 'sub_sample': 0.8255852296911799, 'scale_pos_weight': 1.4466913107909893}.\n"
     ]
    },
    {
     "name": "stdout",
     "output_type": "stream",
     "text": [
      "{'max_depth': 3, 'learning_rate': 0.16604041740261666, 'n_estimators': 133, 'n_jobs': 4, 'gamma': 0.005832731295184135, 'reg_lambda': 4.344946395937996, 'reg_alpha': 1.2167122182208212, 'sub_sample': 0.560449112128582, 'scale_pos_weight': 7.318434653736921}\n",
      "0.6479289940828402\n"
     ]
    },
    {
     "name": "stderr",
     "output_type": "stream",
     "text": [
      "[I 2019-08-22 10:35:57,775] Finished trial#18 resulted in value: -0.6479289940828402. Current best value is -0.7481684981684981 with parameters: {'max_depth': 5, 'learning_rate': 0.0694416474336074, 'n_estimators ': 105, 'gamma': 0.0330713198389011, 'reg_lambda': 3.5601092191672783, 'reg_alpha': 2.8472251906037274, 'sub_sample': 0.8255852296911799, 'scale_pos_weight': 1.4466913107909893}.\n"
     ]
    },
    {
     "name": "stdout",
     "output_type": "stream",
     "text": [
      "{'max_depth': 10, 'learning_rate': 0.10752112635941319, 'n_estimators': 165, 'n_jobs': 4, 'gamma': 0.5275879241433258, 'reg_lambda': 1.3224447930334378, 'reg_alpha': 1.652455047409949, 'sub_sample': 0.3829452936128852, 'scale_pos_weight': 1.9443899810934304}\n",
      "0.7160467737390813\n"
     ]
    },
    {
     "name": "stderr",
     "output_type": "stream",
     "text": [
      "[I 2019-08-22 10:36:24,591] Finished trial#19 resulted in value: -0.7160467737390813. Current best value is -0.7481684981684981 with parameters: {'max_depth': 5, 'learning_rate': 0.0694416474336074, 'n_estimators ': 105, 'gamma': 0.0330713198389011, 'reg_lambda': 3.5601092191672783, 'reg_alpha': 2.8472251906037274, 'sub_sample': 0.8255852296911799, 'scale_pos_weight': 1.4466913107909893}.\n"
     ]
    },
    {
     "name": "stdout",
     "output_type": "stream",
     "text": [
      "{'max_depth': 3, 'learning_rate': 0.13485831830523648, 'n_estimators': 46, 'n_jobs': 4, 'gamma': 0.009117494188931007, 'reg_lambda': 2.8915381497632797, 'reg_alpha': 0.8323960625158958, 'sub_sample': 0.868056815010947, 'scale_pos_weight': 1.018186913193014}\n",
      "0.7237249929557622\n"
     ]
    },
    {
     "name": "stderr",
     "output_type": "stream",
     "text": [
      "[I 2019-08-22 10:36:27,259] Finished trial#20 resulted in value: -0.7237249929557622. Current best value is -0.7481684981684981 with parameters: {'max_depth': 5, 'learning_rate': 0.0694416474336074, 'n_estimators ': 105, 'gamma': 0.0330713198389011, 'reg_lambda': 3.5601092191672783, 'reg_alpha': 2.8472251906037274, 'sub_sample': 0.8255852296911799, 'scale_pos_weight': 1.4466913107909893}.\n"
     ]
    },
    {
     "name": "stdout",
     "output_type": "stream",
     "text": [
      "{'max_depth': 6, 'learning_rate': 0.10714941879610716, 'n_estimators': 103, 'n_jobs': 4, 'gamma': 0.2132145498148619, 'reg_lambda': 3.3111622970609016, 'reg_alpha': 2.563084470435336, 'sub_sample': 0.7447687809037133, 'scale_pos_weight': 1.1279748874704376}\n",
      "0.7204846435615667\n"
     ]
    },
    {
     "name": "stderr",
     "output_type": "stream",
     "text": [
      "[I 2019-08-22 10:36:37,551] Finished trial#21 resulted in value: -0.7204846435615667. Current best value is -0.7481684981684981 with parameters: {'max_depth': 5, 'learning_rate': 0.0694416474336074, 'n_estimators ': 105, 'gamma': 0.0330713198389011, 'reg_lambda': 3.5601092191672783, 'reg_alpha': 2.8472251906037274, 'sub_sample': 0.8255852296911799, 'scale_pos_weight': 1.4466913107909893}.\n"
     ]
    },
    {
     "name": "stdout",
     "output_type": "stream",
     "text": [
      "{'max_depth': 5, 'learning_rate': 0.12015889512103864, 'n_estimators': 95, 'n_jobs': 4, 'gamma': 0.12011462726264484, 'reg_lambda': 3.279571503743055, 'reg_alpha': 2.9978323831107074, 'sub_sample': 0.817143306783539, 'scale_pos_weight': 3.1112700730121703}\n",
      "0.7313327697943084\n"
     ]
    },
    {
     "name": "stderr",
     "output_type": "stream",
     "text": [
      "[I 2019-08-22 10:36:45,310] Finished trial#22 resulted in value: -0.7313327697943084. Current best value is -0.7481684981684981 with parameters: {'max_depth': 5, 'learning_rate': 0.0694416474336074, 'n_estimators ': 105, 'gamma': 0.0330713198389011, 'reg_lambda': 3.5601092191672783, 'reg_alpha': 2.8472251906037274, 'sub_sample': 0.8255852296911799, 'scale_pos_weight': 1.4466913107909893}.\n"
     ]
    },
    {
     "name": "stdout",
     "output_type": "stream",
     "text": [
      "{'max_depth': 5, 'learning_rate': 0.08719984125363159, 'n_estimators': 110, 'n_jobs': 4, 'gamma': 0.29295977477590646, 'reg_lambda': 4.012990664770746, 'reg_alpha': 2.376144626397457, 'sub_sample': 0.7231918192808932, 'scale_pos_weight': 1.9646481206239823}\n",
      "0.7332347140039448\n"
     ]
    },
    {
     "name": "stderr",
     "output_type": "stream",
     "text": [
      "[I 2019-08-22 10:36:55,461] Finished trial#23 resulted in value: -0.7332347140039448. Current best value is -0.7481684981684981 with parameters: {'max_depth': 5, 'learning_rate': 0.0694416474336074, 'n_estimators ': 105, 'gamma': 0.0330713198389011, 'reg_lambda': 3.5601092191672783, 'reg_alpha': 2.8472251906037274, 'sub_sample': 0.8255852296911799, 'scale_pos_weight': 1.4466913107909893}.\n"
     ]
    },
    {
     "name": "stdout",
     "output_type": "stream",
     "text": [
      "{'max_depth': 4, 'learning_rate': 0.08593030800360892, 'n_estimators': 129, 'n_jobs': 4, 'gamma': 0.3944175822327062, 'reg_lambda': 4.025031861072028, 'reg_alpha': 2.741642847628738, 'sub_sample': 0.7076828385909893, 'scale_pos_weight': 2.2053978931334415}\n",
      "0.7236545505776274\n"
     ]
    },
    {
     "name": "stderr",
     "output_type": "stream",
     "text": [
      "[I 2019-08-22 10:37:04,373] Finished trial#24 resulted in value: -0.7236545505776274. Current best value is -0.7481684981684981 with parameters: {'max_depth': 5, 'learning_rate': 0.0694416474336074, 'n_estimators ': 105, 'gamma': 0.0330713198389011, 'reg_lambda': 3.5601092191672783, 'reg_alpha': 2.8472251906037274, 'sub_sample': 0.8255852296911799, 'scale_pos_weight': 1.4466913107909893}.\n"
     ]
    },
    {
     "name": "stdout",
     "output_type": "stream",
     "text": [
      "{'max_depth': 7, 'learning_rate': 0.05134082733539769, 'n_estimators': 118, 'n_jobs': 4, 'gamma': 0.3019338657051534, 'reg_lambda': 4.870002263335005, 'reg_alpha': 2.234277426782731, 'sub_sample': 0.6125264780942429, 'scale_pos_weight': 3.7878951938945753}\n",
      "0.7252747252747251\n"
     ]
    },
    {
     "name": "stderr",
     "output_type": "stream",
     "text": [
      "[I 2019-08-22 10:37:18,512] Finished trial#25 resulted in value: -0.7252747252747251. Current best value is -0.7481684981684981 with parameters: {'max_depth': 5, 'learning_rate': 0.0694416474336074, 'n_estimators ': 105, 'gamma': 0.0330713198389011, 'reg_lambda': 3.5601092191672783, 'reg_alpha': 2.8472251906037274, 'sub_sample': 0.8255852296911799, 'scale_pos_weight': 1.4466913107909893}.\n"
     ]
    },
    {
     "name": "stdout",
     "output_type": "stream",
     "text": [
      "{'max_depth': 2, 'learning_rate': 0.09621080455897231, 'n_estimators': 87, 'n_jobs': 4, 'gamma': 0.4425482660059548, 'reg_lambda': 4.590443439791876, 'reg_alpha': 2.0468543323034436, 'sub_sample': 0.9520699574255974, 'scale_pos_weight': 1.6960745932570525}\n",
      "0.7359819667511974\n"
     ]
    },
    {
     "name": "stderr",
     "output_type": "stream",
     "text": [
      "[I 2019-08-22 10:37:22,219] Finished trial#26 resulted in value: -0.7359819667511974. Current best value is -0.7481684981684981 with parameters: {'max_depth': 5, 'learning_rate': 0.0694416474336074, 'n_estimators ': 105, 'gamma': 0.0330713198389011, 'reg_lambda': 3.5601092191672783, 'reg_alpha': 2.8472251906037274, 'sub_sample': 0.8255852296911799, 'scale_pos_weight': 1.4466913107909893}.\n"
     ]
    },
    {
     "name": "stdout",
     "output_type": "stream",
     "text": [
      "{'max_depth': 2, 'learning_rate': 0.10109389879329886, 'n_estimators': 56, 'n_jobs': 4, 'gamma': 0.6109799301419726, 'reg_lambda': 4.543472839291096, 'reg_alpha': 1.4111233102710778, 'sub_sample': 0.9891570400447629, 'scale_pos_weight': 2.6594887140466428}\n",
      "0.7376021414482953\n"
     ]
    },
    {
     "name": "stderr",
     "output_type": "stream",
     "text": [
      "[I 2019-08-22 10:37:25,293] Finished trial#27 resulted in value: -0.7376021414482953. Current best value is -0.7481684981684981 with parameters: {'max_depth': 5, 'learning_rate': 0.0694416474336074, 'n_estimators ': 105, 'gamma': 0.0330713198389011, 'reg_lambda': 3.5601092191672783, 'reg_alpha': 2.8472251906037274, 'sub_sample': 0.8255852296911799, 'scale_pos_weight': 1.4466913107909893}.\n"
     ]
    },
    {
     "name": "stdout",
     "output_type": "stream",
     "text": [
      "{'max_depth': 2, 'learning_rate': 0.09884581479819729, 'n_estimators': 53, 'n_jobs': 4, 'gamma': 0.6040542840118106, 'reg_lambda': 4.588237657459401, 'reg_alpha': 1.9187434279521178, 'sub_sample': 0.9788032689353944, 'scale_pos_weight': 2.6893837090102277}\n",
      "0.7306283460129613\n"
     ]
    },
    {
     "name": "stderr",
     "output_type": "stream",
     "text": [
      "[I 2019-08-22 10:37:27,659] Finished trial#28 resulted in value: -0.7306283460129613. Current best value is -0.7481684981684981 with parameters: {'max_depth': 5, 'learning_rate': 0.0694416474336074, 'n_estimators ': 105, 'gamma': 0.0330713198389011, 'reg_lambda': 3.5601092191672783, 'reg_alpha': 2.8472251906037274, 'sub_sample': 0.8255852296911799, 'scale_pos_weight': 1.4466913107909893}.\n"
     ]
    },
    {
     "name": "stdout",
     "output_type": "stream",
     "text": [
      "{'max_depth': 1, 'learning_rate': 0.07687328642381061, 'n_estimators': 61, 'n_jobs': 4, 'gamma': 0.633402175003642, 'reg_lambda': 4.599355301086327, 'reg_alpha': 1.432854394029402, 'sub_sample': 0.927408305532081, 'scale_pos_weight': 3.9403160289461208}\n",
      "0.6608903916596224\n"
     ]
    },
    {
     "name": "stderr",
     "output_type": "stream",
     "text": [
      "[I 2019-08-22 10:37:29,529] Finished trial#29 resulted in value: -0.6608903916596224. Current best value is -0.7481684981684981 with parameters: {'max_depth': 5, 'learning_rate': 0.0694416474336074, 'n_estimators ': 105, 'gamma': 0.0330713198389011, 'reg_lambda': 3.5601092191672783, 'reg_alpha': 2.8472251906037274, 'sub_sample': 0.8255852296911799, 'scale_pos_weight': 1.4466913107909893}.\n"
     ]
    },
    {
     "name": "stdout",
     "output_type": "stream",
     "text": [
      "{'max_depth': 2, 'learning_rate': 0.0764797713784636, 'n_estimators': 81, 'n_jobs': 4, 'gamma': 0.8318649356828058, 'reg_lambda': 4.9395788766998585, 'reg_alpha': 2.038435046819856, 'sub_sample': 0.9293682930966283, 'scale_pos_weight': 1.6563080652495608}\n",
      "0.6168639053254438\n"
     ]
    },
    {
     "name": "stderr",
     "output_type": "stream",
     "text": [
      "[I 2019-08-22 10:37:32,858] Finished trial#30 resulted in value: -0.6168639053254438. Current best value is -0.7481684981684981 with parameters: {'max_depth': 5, 'learning_rate': 0.0694416474336074, 'n_estimators ': 105, 'gamma': 0.0330713198389011, 'reg_lambda': 3.5601092191672783, 'reg_alpha': 2.8472251906037274, 'sub_sample': 0.8255852296911799, 'scale_pos_weight': 1.4466913107909893}.\n"
     ]
    },
    {
     "name": "stdout",
     "output_type": "stream",
     "text": [
      "{'max_depth': 3, 'learning_rate': 0.11506853627015214, 'n_estimators': 88, 'n_jobs': 4, 'gamma': 0.45635116991446767, 'reg_lambda': 2.3977457505300275, 'reg_alpha': 0.959569965330991, 'sub_sample': 0.9806341963192469, 'scale_pos_weight': 1.0067120003488652}\n",
      "0.681389123696816\n"
     ]
    },
    {
     "name": "stderr",
     "output_type": "stream",
     "text": [
      "[I 2019-08-22 10:37:37,779] Finished trial#31 resulted in value: -0.681389123696816. Current best value is -0.7481684981684981 with parameters: {'max_depth': 5, 'learning_rate': 0.0694416474336074, 'n_estimators ': 105, 'gamma': 0.0330713198389011, 'reg_lambda': 3.5601092191672783, 'reg_alpha': 2.8472251906037274, 'sub_sample': 0.8255852296911799, 'scale_pos_weight': 1.4466913107909893}.\n"
     ]
    },
    {
     "name": "stdout",
     "output_type": "stream",
     "text": [
      "{'max_depth': 1, 'learning_rate': 0.1414461878391061, 'n_estimators': 26, 'n_jobs': 4, 'gamma': 0.6398561099506034, 'reg_lambda': 4.356830208010845, 'reg_alpha': 1.399841116723632, 'sub_sample': 0.4954047352050227, 'scale_pos_weight': 1.6175629277308023}\n",
      "0.638560157790927\n"
     ]
    },
    {
     "name": "stderr",
     "output_type": "stream",
     "text": [
      "[I 2019-08-22 10:37:39,236] Finished trial#32 resulted in value: -0.638560157790927. Current best value is -0.7481684981684981 with parameters: {'max_depth': 5, 'learning_rate': 0.0694416474336074, 'n_estimators ': 105, 'gamma': 0.0330713198389011, 'reg_lambda': 3.5601092191672783, 'reg_alpha': 2.8472251906037274, 'sub_sample': 0.8255852296911799, 'scale_pos_weight': 1.4466913107909893}.\n"
     ]
    },
    {
     "name": "stdout",
     "output_type": "stream",
     "text": [
      "{'max_depth': 2, 'learning_rate': 0.09804854869838023, 'n_estimators': 72, 'n_jobs': 4, 'gamma': 0.434013681142332, 'reg_lambda': 3.5954257634488718, 'reg_alpha': 1.6529634035847516, 'sub_sample': 0.9052648568861831, 'scale_pos_weight': 3.323743802023502}\n",
      "0.709636517328825\n"
     ]
    },
    {
     "name": "stderr",
     "output_type": "stream",
     "text": [
      "[I 2019-08-22 10:37:42,478] Finished trial#33 resulted in value: -0.709636517328825. Current best value is -0.7481684981684981 with parameters: {'max_depth': 5, 'learning_rate': 0.0694416474336074, 'n_estimators ': 105, 'gamma': 0.0330713198389011, 'reg_lambda': 3.5601092191672783, 'reg_alpha': 2.8472251906037274, 'sub_sample': 0.8255852296911799, 'scale_pos_weight': 1.4466913107909893}.\n"
     ]
    },
    {
     "name": "stdout",
     "output_type": "stream",
     "text": [
      "{'max_depth': 3, 'learning_rate': 0.06163236338878356, 'n_estimators': 35, 'n_jobs': 4, 'gamma': 0.548530894371993, 'reg_lambda': 1.441849426302917, 'reg_alpha': 1.754597936451198, 'sub_sample': 0.9991998289542466, 'scale_pos_weight': 2.403089000646945}\n",
      "0.721048182586644\n"
     ]
    },
    {
     "name": "stderr",
     "output_type": "stream",
     "text": [
      "[I 2019-08-22 10:37:44,865] Finished trial#34 resulted in value: -0.721048182586644. Current best value is -0.7481684981684981 with parameters: {'max_depth': 5, 'learning_rate': 0.0694416474336074, 'n_estimators ': 105, 'gamma': 0.0330713198389011, 'reg_lambda': 3.5601092191672783, 'reg_alpha': 2.8472251906037274, 'sub_sample': 0.8255852296911799, 'scale_pos_weight': 1.4466913107909893}.\n"
     ]
    },
    {
     "name": "stdout",
     "output_type": "stream",
     "text": [
      "{'max_depth': 1, 'learning_rate': 0.12493013287738516, 'n_estimators': 57, 'n_jobs': 4, 'gamma': 0.6916085257047301, 'reg_lambda': 4.04580087190698, 'reg_alpha': 0.9870488823431103, 'sub_sample': 0.8249786048761588, 'scale_pos_weight': 1.583482186118854}\n",
      "0.6319385742462665\n"
     ]
    },
    {
     "name": "stderr",
     "output_type": "stream",
     "text": [
      "[I 2019-08-22 10:37:46,693] Finished trial#35 resulted in value: -0.6319385742462665. Current best value is -0.7481684981684981 with parameters: {'max_depth': 5, 'learning_rate': 0.0694416474336074, 'n_estimators ': 105, 'gamma': 0.0330713198389011, 'reg_lambda': 3.5601092191672783, 'reg_alpha': 2.8472251906037274, 'sub_sample': 0.8255852296911799, 'scale_pos_weight': 1.4466913107909893}.\n"
     ]
    },
    {
     "name": "stdout",
     "output_type": "stream",
     "text": [
      "{'max_depth': 2, 'learning_rate': 0.08103322393118778, 'n_estimators': 92, 'n_jobs': 4, 'gamma': 0.37229086730625854, 'reg_lambda': 4.983715948527275, 'reg_alpha': 0.5392836441487456, 'sub_sample': 0.6389232185526492, 'scale_pos_weight': 2.6178124412925126}\n",
      "0.7125246548323472\n"
     ]
    },
    {
     "name": "stderr",
     "output_type": "stream",
     "text": [
      "[I 2019-08-22 10:37:50,326] Finished trial#36 resulted in value: -0.7125246548323472. Current best value is -0.7481684981684981 with parameters: {'max_depth': 5, 'learning_rate': 0.0694416474336074, 'n_estimators ': 105, 'gamma': 0.0330713198389011, 'reg_lambda': 3.5601092191672783, 'reg_alpha': 2.8472251906037274, 'sub_sample': 0.8255852296911799, 'scale_pos_weight': 1.4466913107909893}.\n"
     ]
    },
    {
     "name": "stdout",
     "output_type": "stream",
     "text": [
      "{'max_depth': 3, 'learning_rate': 0.06501673257256656, 'n_estimators': 110, 'n_jobs': 4, 'gamma': 0.5077963382376564, 'reg_lambda': 2.6116825541785342, 'reg_alpha': 1.1095679360274875, 'sub_sample': 0.8960787659241649, 'scale_pos_weight': 3.5680808539743247}\n",
      "0.7240772048464357\n"
     ]
    },
    {
     "name": "stderr",
     "output_type": "stream",
     "text": [
      "[I 2019-08-22 10:37:56,676] Finished trial#37 resulted in value: -0.7240772048464357. Current best value is -0.7481684981684981 with parameters: {'max_depth': 5, 'learning_rate': 0.0694416474336074, 'n_estimators ': 105, 'gamma': 0.0330713198389011, 'reg_lambda': 3.5601092191672783, 'reg_alpha': 2.8472251906037274, 'sub_sample': 0.8255852296911799, 'scale_pos_weight': 1.4466913107909893}.\n"
     ]
    },
    {
     "name": "stdout",
     "output_type": "stream",
     "text": [
      "{'max_depth': 4, 'learning_rate': 0.055176536332874074, 'n_estimators': 78, 'n_jobs': 4, 'gamma': 0.7753020455709397, 'reg_lambda': 2.9842342910767328, 'reg_alpha': 0.6716107447675193, 'sub_sample': 0.5297384716209177, 'scale_pos_weight': 1.9876614574097}\n",
      "0.6985066215835447\n"
     ]
    },
    {
     "name": "stderr",
     "output_type": "stream",
     "text": [
      "[I 2019-08-22 10:38:02,544] Finished trial#38 resulted in value: -0.6985066215835447. Current best value is -0.7481684981684981 with parameters: {'max_depth': 5, 'learning_rate': 0.0694416474336074, 'n_estimators ': 105, 'gamma': 0.0330713198389011, 'reg_lambda': 3.5601092191672783, 'reg_alpha': 2.8472251906037274, 'sub_sample': 0.8255852296911799, 'scale_pos_weight': 1.4466913107909893}.\n"
     ]
    },
    {
     "name": "stdout",
     "output_type": "stream",
     "text": [
      "{'max_depth': 1, 'learning_rate': 0.11282221179655742, 'n_estimators': 119, 'n_jobs': 4, 'gamma': 0.6879803873491288, 'reg_lambda': 4.682267918374456, 'reg_alpha': 1.4501260715535704, 'sub_sample': 0.43587863172355384, 'scale_pos_weight': 4.3659445312177985}\n",
      "0.6758946182023106\n"
     ]
    },
    {
     "name": "stderr",
     "output_type": "stream",
     "text": [
      "[I 2019-08-22 10:38:05,880] Finished trial#39 resulted in value: -0.6758946182023106. Current best value is -0.7481684981684981 with parameters: {'max_depth': 5, 'learning_rate': 0.0694416474336074, 'n_estimators ': 105, 'gamma': 0.0330713198389011, 'reg_lambda': 3.5601092191672783, 'reg_alpha': 2.8472251906037274, 'sub_sample': 0.8255852296911799, 'scale_pos_weight': 1.4466913107909893}.\n"
     ]
    },
    {
     "name": "stdout",
     "output_type": "stream",
     "text": [
      "{'max_depth': 3, 'learning_rate': 0.09718422390426712, 'n_estimators': 150, 'n_jobs': 4, 'gamma': 0.5834714469771866, 'reg_lambda': 2.3488466355855757, 'reg_alpha': 1.315188942651584, 'sub_sample': 0.823257654380342, 'scale_pos_weight': 5.332346597235229}\n",
      "0.7330233868695406\n"
     ]
    },
    {
     "name": "stderr",
     "output_type": "stream",
     "text": [
      "[I 2019-08-22 10:38:15,092] Finished trial#40 resulted in value: -0.7330233868695406. Current best value is -0.7481684981684981 with parameters: {'max_depth': 5, 'learning_rate': 0.0694416474336074, 'n_estimators ': 105, 'gamma': 0.0330713198389011, 'reg_lambda': 3.5601092191672783, 'reg_alpha': 2.8472251906037274, 'sub_sample': 0.8255852296911799, 'scale_pos_weight': 1.4466913107909893}.\n"
     ]
    },
    {
     "name": "stdout",
     "output_type": "stream",
     "text": [
      "{'max_depth': 5, 'learning_rate': 0.07011731507798177, 'n_estimators': 106, 'n_jobs': 4, 'gamma': 0.27513501446877664, 'reg_lambda': 3.925794026240985, 'reg_alpha': 2.6714868484868948, 'sub_sample': 0.7035011337835673, 'scale_pos_weight': 1.8971784542186159}\n",
      "0.7356297548605241\n"
     ]
    },
    {
     "name": "stderr",
     "output_type": "stream",
     "text": [
      "[I 2019-08-22 10:38:25,078] Finished trial#41 resulted in value: -0.7356297548605241. Current best value is -0.7481684981684981 with parameters: {'max_depth': 5, 'learning_rate': 0.0694416474336074, 'n_estimators ': 105, 'gamma': 0.0330713198389011, 'reg_lambda': 3.5601092191672783, 'reg_alpha': 2.8472251906037274, 'sub_sample': 0.8255852296911799, 'scale_pos_weight': 1.4466913107909893}.\n"
     ]
    },
    {
     "name": "stdout",
     "output_type": "stream",
     "text": [
      "{'max_depth': 4, 'learning_rate': 0.06945126010739057, 'n_estimators': 88, 'n_jobs': 4, 'gamma': 0.07678599054512013, 'reg_lambda': 4.296234447380671, 'reg_alpha': 2.745850589516624, 'sub_sample': 0.654233166664241, 'scale_pos_weight': 1.6107936743098858}\n",
      "0.755846717385179\n"
     ]
    },
    {
     "name": "stderr",
     "output_type": "stream",
     "text": [
      "[I 2019-08-22 10:38:33,662] Finished trial#42 resulted in value: -0.755846717385179. Current best value is -0.755846717385179 with parameters: {'max_depth': 4, 'learning_rate': 0.06945126010739057, 'n_estimators ': 88, 'gamma': 0.07678599054512013, 'reg_lambda': 4.296234447380671, 'reg_alpha': 2.745850589516624, 'sub_sample': 0.654233166664241, 'scale_pos_weight': 1.6107936743098858}.\n"
     ]
    },
    {
     "name": "stdout",
     "output_type": "stream",
     "text": [
      "{'max_depth': 7, 'learning_rate': 0.06952558027062333, 'n_estimators': 67, 'n_jobs': 4, 'gamma': 0.07593573665882852, 'reg_lambda': 3.7818802738191817, 'reg_alpha': 2.755710911844344, 'sub_sample': 0.6699336639898945, 'scale_pos_weight': 2.7250887485689397}\n",
      "0.7351366582135812\n"
     ]
    },
    {
     "name": "stderr",
     "output_type": "stream",
     "text": [
      "[I 2019-08-22 10:38:39,998] Finished trial#43 resulted in value: -0.7351366582135812. Current best value is -0.755846717385179 with parameters: {'max_depth': 4, 'learning_rate': 0.06945126010739057, 'n_estimators ': 88, 'gamma': 0.07678599054512013, 'reg_lambda': 4.296234447380671, 'reg_alpha': 2.745850589516624, 'sub_sample': 0.654233166664241, 'scale_pos_weight': 1.6107936743098858}.\n"
     ]
    },
    {
     "name": "stdout",
     "output_type": "stream",
     "text": [
      "{'max_depth': 5, 'learning_rate': 0.05771486066956077, 'n_estimators': 86, 'n_jobs': 4, 'gamma': 0.14274294787494135, 'reg_lambda': 4.336107821204094, 'reg_alpha': 2.5645174071350834, 'sub_sample': 0.7927843519328353, 'scale_pos_weight': 1.6324480561746229}\n",
      "0.7497886728655958\n"
     ]
    },
    {
     "name": "stderr",
     "output_type": "stream",
     "text": [
      "[I 2019-08-22 10:38:48,108] Finished trial#44 resulted in value: -0.7497886728655958. Current best value is -0.755846717385179 with parameters: {'max_depth': 4, 'learning_rate': 0.06945126010739057, 'n_estimators ': 88, 'gamma': 0.07678599054512013, 'reg_lambda': 4.296234447380671, 'reg_alpha': 2.745850589516624, 'sub_sample': 0.654233166664241, 'scale_pos_weight': 1.6107936743098858}.\n"
     ]
    },
    {
     "name": "stdout",
     "output_type": "stream",
     "text": [
      "{'max_depth': 6, 'learning_rate': 0.05887239070996969, 'n_estimators': 79, 'n_jobs': 4, 'gamma': 0.1383339776948957, 'reg_lambda': 4.311715936705306, 'reg_alpha': 2.9292112500636587, 'sub_sample': 0.8003217380895986, 'scale_pos_weight': 2.2981031925230875}\n",
      "0.7471118624964779\n"
     ]
    },
    {
     "name": "stderr",
     "output_type": "stream",
     "text": [
      "[I 2019-08-22 10:38:56,248] Finished trial#45 resulted in value: -0.7471118624964779. Current best value is -0.755846717385179 with parameters: {'max_depth': 4, 'learning_rate': 0.06945126010739057, 'n_estimators ': 88, 'gamma': 0.07678599054512013, 'reg_lambda': 4.296234447380671, 'reg_alpha': 2.745850589516624, 'sub_sample': 0.654233166664241, 'scale_pos_weight': 1.6107936743098858}.\n"
     ]
    },
    {
     "name": "stdout",
     "output_type": "stream",
     "text": [
      "{'max_depth': 6, 'learning_rate': 0.059270442617686867, 'n_estimators': 77, 'n_jobs': 4, 'gamma': 0.13752566443929864, 'reg_lambda': 4.211683074586765, 'reg_alpha': 2.9075423656808894, 'sub_sample': 0.7865505862070727, 'scale_pos_weight': 2.2264651596696465}\n",
      "0.7450690335305719\n"
     ]
    },
    {
     "name": "stderr",
     "output_type": "stream",
     "text": [
      "[I 2019-08-22 10:39:04,765] Finished trial#46 resulted in value: -0.7450690335305719. Current best value is -0.755846717385179 with parameters: {'max_depth': 4, 'learning_rate': 0.06945126010739057, 'n_estimators ': 88, 'gamma': 0.07678599054512013, 'reg_lambda': 4.296234447380671, 'reg_alpha': 2.745850589516624, 'sub_sample': 0.654233166664241, 'scale_pos_weight': 1.6107936743098858}.\n"
     ]
    },
    {
     "name": "stdout",
     "output_type": "stream",
     "text": [
      "{'max_depth': 8, 'learning_rate': 0.05798488193650324, 'n_estimators': 75, 'n_jobs': 4, 'gamma': 0.1310974779553821, 'reg_lambda': 4.20913083612084, 'reg_alpha': 2.938237062167316, 'sub_sample': 0.794888880923094, 'scale_pos_weight': 2.4201968713971813}\n",
      "0.7465483234714003\n"
     ]
    },
    {
     "name": "stderr",
     "output_type": "stream",
     "text": [
      "[I 2019-08-22 10:39:14,878] Finished trial#47 resulted in value: -0.7465483234714003. Current best value is -0.755846717385179 with parameters: {'max_depth': 4, 'learning_rate': 0.06945126010739057, 'n_estimators ': 88, 'gamma': 0.07678599054512013, 'reg_lambda': 4.296234447380671, 'reg_alpha': 2.745850589516624, 'sub_sample': 0.654233166664241, 'scale_pos_weight': 1.6107936743098858}.\n"
     ]
    },
    {
     "name": "stdout",
     "output_type": "stream",
     "text": [
      "{'max_depth': 9, 'learning_rate': 0.054728345185187495, 'n_estimators': 82, 'n_jobs': 4, 'gamma': 0.048436862626479865, 'reg_lambda': 4.35109939828458, 'reg_alpha': 2.5598715004434323, 'sub_sample': 0.7877553480185402, 'scale_pos_weight': 1.4626281395896494}\n",
      "0.7276697661313044\n"
     ]
    },
    {
     "name": "stderr",
     "output_type": "stream",
     "text": [
      "[I 2019-08-22 10:39:24,589] Finished trial#48 resulted in value: -0.7276697661313044. Current best value is -0.755846717385179 with parameters: {'max_depth': 4, 'learning_rate': 0.06945126010739057, 'n_estimators ': 88, 'gamma': 0.07678599054512013, 'reg_lambda': 4.296234447380671, 'reg_alpha': 2.745850589516624, 'sub_sample': 0.654233166664241, 'scale_pos_weight': 1.6107936743098858}.\n"
     ]
    },
    {
     "name": "stdout",
     "output_type": "stream",
     "text": [
      "{'max_depth': 8, 'learning_rate': 0.050411096762269555, 'n_estimators': 95, 'n_jobs': 4, 'gamma': 0.1877932208691211, 'reg_lambda': 3.5161150505420022, 'reg_alpha': 2.880943300914944, 'sub_sample': 0.7540178152967779, 'scale_pos_weight': 6.1206955078685095}\n",
      "0.6820231051000282\n"
     ]
    },
    {
     "name": "stderr",
     "output_type": "stream",
     "text": [
      "[I 2019-08-22 10:39:37,222] Finished trial#49 resulted in value: -0.6820231051000282. Current best value is -0.755846717385179 with parameters: {'max_depth': 4, 'learning_rate': 0.06945126010739057, 'n_estimators ': 88, 'gamma': 0.07678599054512013, 'reg_lambda': 4.296234447380671, 'reg_alpha': 2.745850589516624, 'sub_sample': 0.654233166664241, 'scale_pos_weight': 1.6107936743098858}.\n"
     ]
    },
    {
     "name": "stdout",
     "output_type": "stream",
     "text": [
      "{'max_depth': 8, 'learning_rate': 0.058412822847837796, 'n_estimators': 71, 'n_jobs': 4, 'gamma': 0.04945331668166207, 'reg_lambda': 4.1935427200514725, 'reg_alpha': 2.577001254942081, 'sub_sample': 0.8499846788838387, 'scale_pos_weight': 8.638261119655901}\n",
      "0.6401803324880248\n"
     ]
    },
    {
     "name": "stderr",
     "output_type": "stream",
     "text": [
      "[I 2019-08-22 10:39:47,333] Finished trial#50 resulted in value: -0.6401803324880248. Current best value is -0.755846717385179 with parameters: {'max_depth': 4, 'learning_rate': 0.06945126010739057, 'n_estimators ': 88, 'gamma': 0.07678599054512013, 'reg_lambda': 4.296234447380671, 'reg_alpha': 2.745850589516624, 'sub_sample': 0.654233166664241, 'scale_pos_weight': 1.6107936743098858}.\n"
     ]
    },
    {
     "name": "stdout",
     "output_type": "stream",
     "text": [
      "{'max_depth': 6, 'learning_rate': 0.06507790952496788, 'n_estimators': 76, 'n_jobs': 4, 'gamma': 0.13366950405994016, 'reg_lambda': 4.20163453914975, 'reg_alpha': 2.901617719864306, 'sub_sample': 0.7929477388726083, 'scale_pos_weight': 2.2054602679600004}\n",
      "0.7453508030431106\n"
     ]
    },
    {
     "name": "stderr",
     "output_type": "stream",
     "text": [
      "[I 2019-08-22 10:39:55,110] Finished trial#51 resulted in value: -0.7453508030431106. Current best value is -0.755846717385179 with parameters: {'max_depth': 4, 'learning_rate': 0.06945126010739057, 'n_estimators ': 88, 'gamma': 0.07678599054512013, 'reg_lambda': 4.296234447380671, 'reg_alpha': 2.745850589516624, 'sub_sample': 0.654233166664241, 'scale_pos_weight': 1.6107936743098858}.\n"
     ]
    },
    {
     "name": "stdout",
     "output_type": "stream",
     "text": [
      "{'max_depth': 7, 'learning_rate': 0.0668036957924077, 'n_estimators': 64, 'n_jobs': 4, 'gamma': 0.14720099921318103, 'reg_lambda': 4.773476870271545, 'reg_alpha': 2.99363936698491, 'sub_sample': 0.8104485560611691, 'scale_pos_weight': 2.3133748123653324}\n",
      "0.7495069033530573\n"
     ]
    },
    {
     "name": "stderr",
     "output_type": "stream",
     "text": [
      "[I 2019-08-22 10:40:03,131] Finished trial#52 resulted in value: -0.7495069033530573. Current best value is -0.755846717385179 with parameters: {'max_depth': 4, 'learning_rate': 0.06945126010739057, 'n_estimators ': 88, 'gamma': 0.07678599054512013, 'reg_lambda': 4.296234447380671, 'reg_alpha': 2.745850589516624, 'sub_sample': 0.654233166664241, 'scale_pos_weight': 1.6107936743098858}.\n"
     ]
    },
    {
     "name": "stdout",
     "output_type": "stream",
     "text": [
      "{'max_depth': 7, 'learning_rate': 0.07299064878090156, 'n_estimators': 64, 'n_jobs': 4, 'gamma': 0.22701332172087124, 'reg_lambda': 4.835441381422767, 'reg_alpha': 2.9640700418794386, 'sub_sample': 0.8428723843369592, 'scale_pos_weight': 3.03157108167749}\n",
      "0.7421104536489151\n"
     ]
    },
    {
     "name": "stderr",
     "output_type": "stream",
     "text": [
      "[I 2019-08-22 10:40:11,444] Finished trial#53 resulted in value: -0.7421104536489151. Current best value is -0.755846717385179 with parameters: {'max_depth': 4, 'learning_rate': 0.06945126010739057, 'n_estimators ': 88, 'gamma': 0.07678599054512013, 'reg_lambda': 4.296234447380671, 'reg_alpha': 2.745850589516624, 'sub_sample': 0.654233166664241, 'scale_pos_weight': 1.6107936743098858}.\n"
     ]
    },
    {
     "name": "stdout",
     "output_type": "stream",
     "text": [
      "{'max_depth': 9, 'learning_rate': 0.08131572019503551, 'n_estimators': 89, 'n_jobs': 4, 'gamma': 0.09294832148487048, 'reg_lambda': 4.431418170577856, 'reg_alpha': 2.824352924128784, 'sub_sample': 0.8783484065143345, 'scale_pos_weight': 1.3376328011927976}\n",
      "0.7254156100309945\n"
     ]
    },
    {
     "name": "stderr",
     "output_type": "stream",
     "text": [
      "[I 2019-08-22 10:40:23,016] Finished trial#54 resulted in value: -0.7254156100309945. Current best value is -0.755846717385179 with parameters: {'max_depth': 4, 'learning_rate': 0.06945126010739057, 'n_estimators ': 88, 'gamma': 0.07678599054512013, 'reg_lambda': 4.296234447380671, 'reg_alpha': 2.745850589516624, 'sub_sample': 0.654233166664241, 'scale_pos_weight': 1.6107936743098858}.\n"
     ]
    },
    {
     "name": "stdout",
     "output_type": "stream",
     "text": [
      "{'max_depth': 7, 'learning_rate': 0.06762590128726514, 'n_estimators': 44, 'n_jobs': 4, 'gamma': 0.16167498767081157, 'reg_lambda': 4.787107671056334, 'reg_alpha': 2.6606251613199214, 'sub_sample': 0.7434940092445772, 'scale_pos_weight': 2.454051474018189}\n",
      "0.7518315018315017\n"
     ]
    },
    {
     "name": "stderr",
     "output_type": "stream",
     "text": [
      "[I 2019-08-22 10:40:28,373] Finished trial#55 resulted in value: -0.7518315018315017. Current best value is -0.755846717385179 with parameters: {'max_depth': 4, 'learning_rate': 0.06945126010739057, 'n_estimators ': 88, 'gamma': 0.07678599054512013, 'reg_lambda': 4.296234447380671, 'reg_alpha': 2.745850589516624, 'sub_sample': 0.654233166664241, 'scale_pos_weight': 1.6107936743098858}.\n"
     ]
    },
    {
     "name": "stdout",
     "output_type": "stream",
     "text": [
      "{'max_depth': 7, 'learning_rate': 0.0693760625897232, 'n_estimators': 45, 'n_jobs': 4, 'gamma': 0.16125690561159534, 'reg_lambda': 4.684542029334059, 'reg_alpha': 2.6559677133447495, 'sub_sample': 0.7397977840900963, 'scale_pos_weight': 3.5176223577362005}\n",
      "0.7289377289377289\n"
     ]
    },
    {
     "name": "stderr",
     "output_type": "stream",
     "text": [
      "[I 2019-08-22 10:40:34,055] Finished trial#56 resulted in value: -0.7289377289377289. Current best value is -0.755846717385179 with parameters: {'max_depth': 4, 'learning_rate': 0.06945126010739057, 'n_estimators ': 88, 'gamma': 0.07678599054512013, 'reg_lambda': 4.296234447380671, 'reg_alpha': 2.745850589516624, 'sub_sample': 0.654233166664241, 'scale_pos_weight': 1.6107936743098858}.\n"
     ]
    },
    {
     "name": "stdout",
     "output_type": "stream",
     "text": [
      "{'max_depth': 6, 'learning_rate': 0.05117297243930284, 'n_estimators': 35, 'n_jobs': 4, 'gamma': 0.0038502645301840555, 'reg_lambda': 4.85754857937126, 'reg_alpha': 2.445424223254364, 'sub_sample': 0.7624298683297652, 'scale_pos_weight': 2.9007527915302544}\n",
      "0.7411947027331643\n"
     ]
    },
    {
     "name": "stderr",
     "output_type": "stream",
     "text": [
      "[I 2019-08-22 10:40:38,222] Finished trial#57 resulted in value: -0.7411947027331643. Current best value is -0.755846717385179 with parameters: {'max_depth': 4, 'learning_rate': 0.06945126010739057, 'n_estimators ': 88, 'gamma': 0.07678599054512013, 'reg_lambda': 4.296234447380671, 'reg_alpha': 2.745850589516624, 'sub_sample': 0.654233166664241, 'scale_pos_weight': 1.6107936743098858}.\n"
     ]
    },
    {
     "name": "stdout",
     "output_type": "stream",
     "text": [
      "{'max_depth': 4, 'learning_rate': 0.08234177503686844, 'n_estimators': 99, 'n_jobs': 4, 'gamma': 0.24927811940443362, 'reg_lambda': 3.723321321197461, 'reg_alpha': 2.2836412579182896, 'sub_sample': 0.6433082202870184, 'scale_pos_weight': 1.9013545889129682}\n",
      "0.7359819667511975\n"
     ]
    },
    {
     "name": "stderr",
     "output_type": "stream",
     "text": [
      "[I 2019-08-22 10:40:45,039] Finished trial#58 resulted in value: -0.7359819667511975. Current best value is -0.755846717385179 with parameters: {'max_depth': 4, 'learning_rate': 0.06945126010739057, 'n_estimators ': 88, 'gamma': 0.07678599054512013, 'reg_lambda': 4.296234447380671, 'reg_alpha': 2.745850589516624, 'sub_sample': 0.654233166664241, 'scale_pos_weight': 1.6107936743098858}.\n"
     ]
    },
    {
     "name": "stdout",
     "output_type": "stream",
     "text": [
      "{'max_depth': 5, 'learning_rate': 0.06774422833598452, 'n_estimators': 38, 'n_jobs': 4, 'gamma': 0.039229720835454535, 'reg_lambda': 3.931442129104072, 'reg_alpha': 2.481232398551015, 'sub_sample': 0.6749026196373279, 'scale_pos_weight': 1.3047043086863797}\n",
      "0.7475345167652859\n"
     ]
    },
    {
     "name": "stderr",
     "output_type": "stream",
     "text": [
      "[I 2019-08-22 10:40:48,445] Finished trial#59 resulted in value: -0.7475345167652859. Current best value is -0.755846717385179 with parameters: {'max_depth': 4, 'learning_rate': 0.06945126010739057, 'n_estimators ': 88, 'gamma': 0.07678599054512013, 'reg_lambda': 4.296234447380671, 'reg_alpha': 2.745850589516624, 'sub_sample': 0.654233166664241, 'scale_pos_weight': 1.6107936743098858}.\n"
     ]
    },
    {
     "name": "stdout",
     "output_type": "stream",
     "text": [
      "{'max_depth': 5, 'learning_rate': 0.19954313513669347, 'n_estimators': 32, 'n_jobs': 4, 'gamma': 0.04575327770678528, 'reg_lambda': 3.9134622764353573, 'reg_alpha': 2.4617448221804232, 'sub_sample': 0.6808338307907357, 'scale_pos_weight': 1.0786959455923626}\n",
      "0.7495773457311918\n"
     ]
    },
    {
     "name": "stderr",
     "output_type": "stream",
     "text": [
      "[I 2019-08-22 10:40:50,851] Finished trial#60 resulted in value: -0.7495773457311918. Current best value is -0.755846717385179 with parameters: {'max_depth': 4, 'learning_rate': 0.06945126010739057, 'n_estimators ': 88, 'gamma': 0.07678599054512013, 'reg_lambda': 4.296234447380671, 'reg_alpha': 2.745850589516624, 'sub_sample': 0.654233166664241, 'scale_pos_weight': 1.6107936743098858}.\n"
     ]
    },
    {
     "name": "stdout",
     "output_type": "stream",
     "text": [
      "{'max_depth': 5, 'learning_rate': 0.16932762445764343, 'n_estimators': 20, 'n_jobs': 4, 'gamma': 0.038344433227503825, 'reg_lambda': 3.8903847716071844, 'reg_alpha': 2.4708280903250937, 'sub_sample': 0.6774502624434366, 'scale_pos_weight': 1.24519623438972}\n",
      "0.7454916877993799\n"
     ]
    },
    {
     "name": "stderr",
     "output_type": "stream",
     "text": [
      "[I 2019-08-22 10:40:53,195] Finished trial#61 resulted in value: -0.7454916877993799. Current best value is -0.755846717385179 with parameters: {'max_depth': 4, 'learning_rate': 0.06945126010739057, 'n_estimators ': 88, 'gamma': 0.07678599054512013, 'reg_lambda': 4.296234447380671, 'reg_alpha': 2.745850589516624, 'sub_sample': 0.654233166664241, 'scale_pos_weight': 1.6107936743098858}.\n"
     ]
    },
    {
     "name": "stdout",
     "output_type": "stream",
     "text": [
      "{'max_depth': 5, 'learning_rate': 0.07536553289146936, 'n_estimators': 35, 'n_jobs': 4, 'gamma': 0.0820588022712989, 'reg_lambda': 3.3817860991048363, 'reg_alpha': 2.1556949065032036, 'sub_sample': 0.6035088377975302, 'scale_pos_weight': 1.4035779124846002}\n",
      "0.746830092983939\n"
     ]
    },
    {
     "name": "stderr",
     "output_type": "stream",
     "text": [
      "[I 2019-08-22 10:40:56,422] Finished trial#62 resulted in value: -0.746830092983939. Current best value is -0.755846717385179 with parameters: {'max_depth': 4, 'learning_rate': 0.06945126010739057, 'n_estimators ': 88, 'gamma': 0.07678599054512013, 'reg_lambda': 4.296234447380671, 'reg_alpha': 2.745850589516624, 'sub_sample': 0.654233166664241, 'scale_pos_weight': 1.6107936743098858}.\n"
     ]
    },
    {
     "name": "stdout",
     "output_type": "stream",
     "text": [
      "{'max_depth': 4, 'learning_rate': 0.1953652108642965, 'n_estimators': 28, 'n_jobs': 4, 'gamma': 0.0023620825806249038, 'reg_lambda': 3.1529559548709565, 'reg_alpha': 2.6383986131779373, 'sub_sample': 0.7296428091014647, 'scale_pos_weight': 1.0299207590365451}\n",
      "0.7445054945054944\n"
     ]
    },
    {
     "name": "stderr",
     "output_type": "stream",
     "text": [
      "[I 2019-08-22 10:40:58,250] Finished trial#63 resulted in value: -0.7445054945054944. Current best value is -0.755846717385179 with parameters: {'max_depth': 4, 'learning_rate': 0.06945126010739057, 'n_estimators ': 88, 'gamma': 0.07678599054512013, 'reg_lambda': 4.296234447380671, 'reg_alpha': 2.745850589516624, 'sub_sample': 0.654233166664241, 'scale_pos_weight': 1.6107936743098858}.\n"
     ]
    },
    {
     "name": "stdout",
     "output_type": "stream",
     "text": [
      "{'max_depth': 4, 'learning_rate': 0.1826016325537492, 'n_estimators': 51, 'n_jobs': 4, 'gamma': 0.17858754867124735, 'reg_lambda': 4.0374740393427135, 'reg_alpha': 2.3713779770291485, 'sub_sample': 0.6864150233340491, 'scale_pos_weight': 1.788027983304717}\n",
      "0.7425331079177232\n"
     ]
    },
    {
     "name": "stderr",
     "output_type": "stream",
     "text": [
      "[I 2019-08-22 10:41:02,000] Finished trial#64 resulted in value: -0.7425331079177232. Current best value is -0.755846717385179 with parameters: {'max_depth': 4, 'learning_rate': 0.06945126010739057, 'n_estimators ': 88, 'gamma': 0.07678599054512013, 'reg_lambda': 4.296234447380671, 'reg_alpha': 2.745850589516624, 'sub_sample': 0.654233166664241, 'scale_pos_weight': 1.6107936743098858}.\n"
     ]
    },
    {
     "name": "stdout",
     "output_type": "stream",
     "text": [
      "{'max_depth': 5, 'learning_rate': 0.06707175908799273, 'n_estimators': 41, 'n_jobs': 4, 'gamma': 0.02946712704208522, 'reg_lambda': 4.757757260884232, 'reg_alpha': 2.774322365251187, 'sub_sample': 0.6257167574417191, 'scale_pos_weight': 1.0536830470138985}\n",
      "0.7397858551704706\n"
     ]
    },
    {
     "name": "stderr",
     "output_type": "stream",
     "text": [
      "[I 2019-08-22 10:41:05,479] Finished trial#65 resulted in value: -0.7397858551704706. Current best value is -0.755846717385179 with parameters: {'max_depth': 4, 'learning_rate': 0.06945126010739057, 'n_estimators ': 88, 'gamma': 0.07678599054512013, 'reg_lambda': 4.296234447380671, 'reg_alpha': 2.745850589516624, 'sub_sample': 0.654233166664241, 'scale_pos_weight': 1.6107936743098858}.\n"
     ]
    },
    {
     "name": "stdout",
     "output_type": "stream",
     "text": [
      "{'max_depth': 5, 'learning_rate': 0.09081133585318155, 'n_estimators': 49, 'n_jobs': 4, 'gamma': 0.0661721812353821, 'reg_lambda': 3.652430075917983, 'reg_alpha': 2.4803621612675504, 'sub_sample': 0.6542284040288985, 'scale_pos_weight': 1.4849070609695039}\n",
      "0.7448577063961679\n"
     ]
    },
    {
     "name": "stderr",
     "output_type": "stream",
     "text": [
      "[I 2019-08-22 10:41:09,307] Finished trial#66 resulted in value: -0.7448577063961679. Current best value is -0.755846717385179 with parameters: {'max_depth': 4, 'learning_rate': 0.06945126010739057, 'n_estimators ': 88, 'gamma': 0.07678599054512013, 'reg_lambda': 4.296234447380671, 'reg_alpha': 2.745850589516624, 'sub_sample': 0.654233166664241, 'scale_pos_weight': 1.6107936743098858}.\n"
     ]
    },
    {
     "name": "stdout",
     "output_type": "stream",
     "text": [
      "{'max_depth': 6, 'learning_rate': 0.06323055209799196, 'n_estimators': 39, 'n_jobs': 4, 'gamma': 0.10397206143624013, 'reg_lambda': 4.513736197000627, 'reg_alpha': 2.722333397760608, 'sub_sample': 0.5822738094804635, 'scale_pos_weight': 2.0276823290462693}\n",
      "0.7499999999999999\n"
     ]
    },
    {
     "name": "stderr",
     "output_type": "stream",
     "text": [
      "[I 2019-08-22 10:41:13,354] Finished trial#67 resulted in value: -0.7499999999999999. Current best value is -0.755846717385179 with parameters: {'max_depth': 4, 'learning_rate': 0.06945126010739057, 'n_estimators ': 88, 'gamma': 0.07678599054512013, 'reg_lambda': 4.296234447380671, 'reg_alpha': 2.745850589516624, 'sub_sample': 0.654233166664241, 'scale_pos_weight': 1.6107936743098858}.\n"
     ]
    },
    {
     "name": "stdout",
     "output_type": "stream",
     "text": [
      "{'max_depth': 6, 'learning_rate': 0.07980660747626145, 'n_estimators': 29, 'n_jobs': 4, 'gamma': 0.10418030696509684, 'reg_lambda': 4.477640041949585, 'reg_alpha': 2.714312556065699, 'sub_sample': 0.7662422778206962, 'scale_pos_weight': 2.101201063744157}\n",
      "0.7460552268244576\n"
     ]
    },
    {
     "name": "stderr",
     "output_type": "stream",
     "text": [
      "[I 2019-08-22 10:41:16,541] Finished trial#68 resulted in value: -0.7460552268244576. Current best value is -0.755846717385179 with parameters: {'max_depth': 4, 'learning_rate': 0.06945126010739057, 'n_estimators ': 88, 'gamma': 0.07678599054512013, 'reg_lambda': 4.296234447380671, 'reg_alpha': 2.745850589516624, 'sub_sample': 0.654233166664241, 'scale_pos_weight': 1.6107936743098858}.\n"
     ]
    },
    {
     "name": "stdout",
     "output_type": "stream",
     "text": [
      "{'max_depth': 7, 'learning_rate': 0.06374267883551661, 'n_estimators': 61, 'n_jobs': 4, 'gamma': 0.16429405211967513, 'reg_lambda': 4.983253939442246, 'reg_alpha': 2.837801043528064, 'sub_sample': 0.7162732090535513, 'scale_pos_weight': 2.4271154541218634}\n",
      "0.7475345167652859\n"
     ]
    },
    {
     "name": "stderr",
     "output_type": "stream",
     "text": [
      "[I 2019-08-22 10:41:23,436] Finished trial#69 resulted in value: -0.7475345167652859. Current best value is -0.755846717385179 with parameters: {'max_depth': 4, 'learning_rate': 0.06945126010739057, 'n_estimators ': 88, 'gamma': 0.07678599054512013, 'reg_lambda': 4.296234447380671, 'reg_alpha': 2.745850589516624, 'sub_sample': 0.654233166664241, 'scale_pos_weight': 1.6107936743098858}.\n"
     ]
    },
    {
     "name": "stdout",
     "output_type": "stream",
     "text": [
      "{'max_depth': 7, 'learning_rate': 0.07305929307475008, 'n_estimators': 57, 'n_jobs': 4, 'gamma': 0.22849229504408003, 'reg_lambda': 4.492663039858677, 'reg_alpha': 2.273171348723274, 'sub_sample': 0.5754335651719094, 'scale_pos_weight': 1.7456576397996661}\n",
      "0.7344322344322344\n"
     ]
    },
    {
     "name": "stderr",
     "output_type": "stream",
     "text": [
      "[I 2019-08-22 10:41:29,810] Finished trial#70 resulted in value: -0.7344322344322344. Current best value is -0.755846717385179 with parameters: {'max_depth': 4, 'learning_rate': 0.06945126010739057, 'n_estimators ': 88, 'gamma': 0.07678599054512013, 'reg_lambda': 4.296234447380671, 'reg_alpha': 2.745850589516624, 'sub_sample': 0.654233166664241, 'scale_pos_weight': 1.6107936743098858}.\n"
     ]
    },
    {
     "name": "stdout",
     "output_type": "stream",
     "text": [
      "{'max_depth': 5, 'learning_rate': 0.08525961436338066, 'n_estimators': 44, 'n_jobs': 4, 'gamma': 0.02326738371592702, 'reg_lambda': 3.9003585660041775, 'reg_alpha': 2.5835040401066527, 'sub_sample': 0.6980847508527322, 'scale_pos_weight': 1.3013880728945046}\n",
      "0.746618765849535\n"
     ]
    },
    {
     "name": "stderr",
     "output_type": "stream",
     "text": [
      "[I 2019-08-22 10:41:33,242] Finished trial#71 resulted in value: -0.746618765849535. Current best value is -0.755846717385179 with parameters: {'max_depth': 4, 'learning_rate': 0.06945126010739057, 'n_estimators ': 88, 'gamma': 0.07678599054512013, 'reg_lambda': 4.296234447380671, 'reg_alpha': 2.745850589516624, 'sub_sample': 0.654233166664241, 'scale_pos_weight': 1.6107936743098858}.\n"
     ]
    },
    {
     "name": "stdout",
     "output_type": "stream",
     "text": [
      "{'max_depth': 7, 'learning_rate': 0.06130468145922819, 'n_estimators': 61, 'n_jobs': 4, 'gamma': 0.19454730687385344, 'reg_lambda': 4.989244689100012, 'reg_alpha': 2.8440971808885585, 'sub_sample': 0.7200783734844198, 'scale_pos_weight': 2.458936815485084}\n",
      "0.7456325725556495\n"
     ]
    },
    {
     "name": "stderr",
     "output_type": "stream",
     "text": [
      "[I 2019-08-22 10:41:40,382] Finished trial#72 resulted in value: -0.7456325725556495. Current best value is -0.755846717385179 with parameters: {'max_depth': 4, 'learning_rate': 0.06945126010739057, 'n_estimators ': 88, 'gamma': 0.07678599054512013, 'reg_lambda': 4.296234447380671, 'reg_alpha': 2.745850589516624, 'sub_sample': 0.654233166664241, 'scale_pos_weight': 1.6107936743098858}.\n"
     ]
    },
    {
     "name": "stdout",
     "output_type": "stream",
     "text": [
      "{'max_depth': 7, 'learning_rate': 0.0629527989689515, 'n_estimators': 62, 'n_jobs': 4, 'gamma': 0.1064160039640278, 'reg_lambda': 4.7386234363654065, 'reg_alpha': 2.992356106493833, 'sub_sample': 0.5364755907240819, 'scale_pos_weight': 2.6570818027033947}\n",
      "0.7471118624964779\n"
     ]
    },
    {
     "name": "stderr",
     "output_type": "stream",
     "text": [
      "[I 2019-08-22 10:41:47,069] Finished trial#73 resulted in value: -0.7471118624964779. Current best value is -0.755846717385179 with parameters: {'max_depth': 4, 'learning_rate': 0.06945126010739057, 'n_estimators ': 88, 'gamma': 0.07678599054512013, 'reg_lambda': 4.296234447380671, 'reg_alpha': 2.745850589516624, 'sub_sample': 0.654233166664241, 'scale_pos_weight': 1.6107936743098858}.\n"
     ]
    },
    {
     "name": "stdout",
     "output_type": "stream",
     "text": [
      "{'max_depth': 6, 'learning_rate': 0.05477006754922428, 'n_estimators': 23, 'n_jobs': 4, 'gamma': 0.15846952374146334, 'reg_lambda': 4.126605259639589, 'reg_alpha': 2.793587156363663, 'sub_sample': 0.5866534949639436, 'scale_pos_weight': 2.0517947323746895}\n",
      "0.7228092420400113\n"
     ]
    },
    {
     "name": "stderr",
     "output_type": "stream",
     "text": [
      "[I 2019-08-22 10:41:49,722] Finished trial#74 resulted in value: -0.7228092420400113. Current best value is -0.755846717385179 with parameters: {'max_depth': 4, 'learning_rate': 0.06945126010739057, 'n_estimators ': 88, 'gamma': 0.07678599054512013, 'reg_lambda': 4.296234447380671, 'reg_alpha': 2.745850589516624, 'sub_sample': 0.654233166664241, 'scale_pos_weight': 1.6107936743098858}.\n"
     ]
    },
    {
     "name": "stdout",
     "output_type": "stream",
     "text": [
      "{'max_depth': 4, 'learning_rate': 0.0785676491560628, 'n_estimators': 38, 'n_jobs': 4, 'gamma': 0.06525684085685089, 'reg_lambda': 4.386657399711359, 'reg_alpha': 2.53678394239448, 'sub_sample': 0.6262631023536525, 'scale_pos_weight': 1.6761988239528987}\n",
      "0.754015215553677\n"
     ]
    },
    {
     "name": "stderr",
     "output_type": "stream",
     "text": [
      "[I 2019-08-22 10:41:52,690] Finished trial#75 resulted in value: -0.754015215553677. Current best value is -0.755846717385179 with parameters: {'max_depth': 4, 'learning_rate': 0.06945126010739057, 'n_estimators ': 88, 'gamma': 0.07678599054512013, 'reg_lambda': 4.296234447380671, 'reg_alpha': 2.745850589516624, 'sub_sample': 0.654233166664241, 'scale_pos_weight': 1.6107936743098858}.\n"
     ]
    },
    {
     "name": "stdout",
     "output_type": "stream",
     "text": [
      "{'max_depth': 4, 'learning_rate': 0.07565267157757206, 'n_estimators': 32, 'n_jobs': 4, 'gamma': 0.06429263327305063, 'reg_lambda': 4.335973576163306, 'reg_alpha': 2.670983977405407, 'sub_sample': 0.6227275807990336, 'scale_pos_weight': 1.7010940578606037}\n",
      "0.7467596506058045\n"
     ]
    },
    {
     "name": "stderr",
     "output_type": "stream",
     "text": [
      "[I 2019-08-22 10:41:55,549] Finished trial#76 resulted in value: -0.7467596506058045. Current best value is -0.755846717385179 with parameters: {'max_depth': 4, 'learning_rate': 0.06945126010739057, 'n_estimators ': 88, 'gamma': 0.07678599054512013, 'reg_lambda': 4.296234447380671, 'reg_alpha': 2.745850589516624, 'sub_sample': 0.654233166664241, 'scale_pos_weight': 1.6107936743098858}.\n"
     ]
    },
    {
     "name": "stdout",
     "output_type": "stream",
     "text": [
      "{'max_depth': 4, 'learning_rate': 0.07909524962610266, 'n_estimators': 40, 'n_jobs': 4, 'gamma': 0.10065543321604427, 'reg_lambda': 4.507345133095783, 'reg_alpha': 2.1798661254967815, 'sub_sample': 0.6548832515477466, 'scale_pos_weight': 3.2766835159126586}\n",
      "0.7320371935756551\n"
     ]
    },
    {
     "name": "stderr",
     "output_type": "stream",
     "text": [
      "[I 2019-08-22 10:41:58,830] Finished trial#77 resulted in value: -0.7320371935756551. Current best value is -0.755846717385179 with parameters: {'max_depth': 4, 'learning_rate': 0.06945126010739057, 'n_estimators ': 88, 'gamma': 0.07678599054512013, 'reg_lambda': 4.296234447380671, 'reg_alpha': 2.745850589516624, 'sub_sample': 0.654233166664241, 'scale_pos_weight': 1.6107936743098858}.\n"
     ]
    },
    {
     "name": "stdout",
     "output_type": "stream",
     "text": [
      "{'max_depth': 5, 'learning_rate': 0.15022515628320182, 'n_estimators': 49, 'n_jobs': 4, 'gamma': 0.07708619628330673, 'reg_lambda': 4.651571194336768, 'reg_alpha': 2.5706204575540297, 'sub_sample': 0.8339009630552123, 'scale_pos_weight': 1.0074354258186493}\n",
      "0.7406311637080869\n"
     ]
    },
    {
     "name": "stderr",
     "output_type": "stream",
     "text": [
      "[I 2019-08-22 10:42:02,776] Finished trial#78 resulted in value: -0.7406311637080869. Current best value is -0.755846717385179 with parameters: {'max_depth': 4, 'learning_rate': 0.06945126010739057, 'n_estimators ': 88, 'gamma': 0.07678599054512013, 'reg_lambda': 4.296234447380671, 'reg_alpha': 2.745850589516624, 'sub_sample': 0.654233166664241, 'scale_pos_weight': 1.6107936743098858}.\n"
     ]
    },
    {
     "name": "stdout",
     "output_type": "stream",
     "text": [
      "{'max_depth': 6, 'learning_rate': 0.09123055971474635, 'n_estimators': 83, 'n_jobs': 4, 'gamma': 0.33465661025766635, 'reg_lambda': 4.12737837068408, 'reg_alpha': 0.17638690477123697, 'sub_sample': 0.8153953813657212, 'scale_pos_weight': 1.6066464373853644}\n",
      "0.723302338686954\n"
     ]
    },
    {
     "name": "stderr",
     "output_type": "stream",
     "text": [
      "[I 2019-08-22 10:42:11,778] Finished trial#79 resulted in value: -0.723302338686954. Current best value is -0.755846717385179 with parameters: {'max_depth': 4, 'learning_rate': 0.06945126010739057, 'n_estimators ': 88, 'gamma': 0.07678599054512013, 'reg_lambda': 4.296234447380671, 'reg_alpha': 2.745850589516624, 'sub_sample': 0.654233166664241, 'scale_pos_weight': 1.6107936743098858}.\n"
     ]
    },
    {
     "name": "stdout",
     "output_type": "stream",
     "text": [
      "{'max_depth': 4, 'learning_rate': 0.05364937370118834, 'n_estimators': 115, 'n_jobs': 4, 'gamma': 0.11397305145769035, 'reg_lambda': 4.404431137499975, 'reg_alpha': 2.3867485302900264, 'sub_sample': 0.5904014833367169, 'scale_pos_weight': 2.845488770856833}\n",
      "0.7379543533389686\n"
     ]
    },
    {
     "name": "stderr",
     "output_type": "stream",
     "text": [
      "[I 2019-08-22 10:42:19,300] Finished trial#80 resulted in value: -0.7379543533389686. Current best value is -0.755846717385179 with parameters: {'max_depth': 4, 'learning_rate': 0.06945126010739057, 'n_estimators ': 88, 'gamma': 0.07678599054512013, 'reg_lambda': 4.296234447380671, 'reg_alpha': 2.745850589516624, 'sub_sample': 0.654233166664241, 'scale_pos_weight': 1.6107936743098858}.\n"
     ]
    },
    {
     "name": "stdout",
     "output_type": "stream",
     "text": [
      "{'max_depth': 5, 'learning_rate': 0.0672163398333531, 'n_estimators': 36, 'n_jobs': 4, 'gamma': 0.005083550917657796, 'reg_lambda': 3.9206132657980923, 'reg_alpha': 2.4719896866190223, 'sub_sample': 0.6865759643165514, 'scale_pos_weight': 1.3085683440637579}\n",
      "0.7468300929839392\n"
     ]
    },
    {
     "name": "stderr",
     "output_type": "stream",
     "text": [
      "[I 2019-08-22 10:42:22,471] Finished trial#81 resulted in value: -0.7468300929839392. Current best value is -0.755846717385179 with parameters: {'max_depth': 4, 'learning_rate': 0.06945126010739057, 'n_estimators ': 88, 'gamma': 0.07678599054512013, 'reg_lambda': 4.296234447380671, 'reg_alpha': 2.745850589516624, 'sub_sample': 0.654233166664241, 'scale_pos_weight': 1.6107936743098858}.\n"
     ]
    },
    {
     "name": "stdout",
     "output_type": "stream",
     "text": [
      "{'max_depth': 5, 'learning_rate': 0.07139437746262178, 'n_estimators': 25, 'n_jobs': 4, 'gamma': 0.03283508566872419, 'reg_lambda': 3.8191177565217505, 'reg_alpha': 2.724583994226939, 'sub_sample': 0.5537061778712962, 'scale_pos_weight': 1.849565435239115}\n",
      "0.7461256692025922\n"
     ]
    },
    {
     "name": "stderr",
     "output_type": "stream",
     "text": [
      "[I 2019-08-22 10:42:24,960] Finished trial#82 resulted in value: -0.7461256692025922. Current best value is -0.755846717385179 with parameters: {'max_depth': 4, 'learning_rate': 0.06945126010739057, 'n_estimators ': 88, 'gamma': 0.07678599054512013, 'reg_lambda': 4.296234447380671, 'reg_alpha': 2.745850589516624, 'sub_sample': 0.654233166664241, 'scale_pos_weight': 1.6107936743098858}.\n"
     ]
    },
    {
     "name": "stdout",
     "output_type": "stream",
     "text": [
      "{'max_depth': 6, 'learning_rate': 0.06661514266057762, 'n_estimators': 40, 'n_jobs': 4, 'gamma': 0.1401965430596815, 'reg_lambda': 4.049338338706483, 'reg_alpha': 2.3132939200474683, 'sub_sample': 0.6342217269587386, 'scale_pos_weight': 2.1192657611824517}\n",
      "0.7467596506058044\n"
     ]
    },
    {
     "name": "stderr",
     "output_type": "stream",
     "text": [
      "[I 2019-08-22 10:42:29,481] Finished trial#83 resulted in value: -0.7467596506058044. Current best value is -0.755846717385179 with parameters: {'max_depth': 4, 'learning_rate': 0.06945126010739057, 'n_estimators ': 88, 'gamma': 0.07678599054512013, 'reg_lambda': 4.296234447380671, 'reg_alpha': 2.745850589516624, 'sub_sample': 0.654233166664241, 'scale_pos_weight': 1.6107936743098858}.\n"
     ]
    },
    {
     "name": "stdout",
     "output_type": "stream",
     "text": [
      "{'max_depth': 7, 'learning_rate': 0.05688767134447868, 'n_estimators': 56, 'n_jobs': 4, 'gamma': 0.16695277392275626, 'reg_lambda': 4.896800594923533, 'reg_alpha': 2.9897075897117924, 'sub_sample': 0.7281771091858321, 'scale_pos_weight': 2.4619231507137904}\n",
      "0.7490138067061143\n"
     ]
    },
    {
     "name": "stderr",
     "output_type": "stream",
     "text": [
      "[I 2019-08-22 10:42:35,653] Finished trial#84 resulted in value: -0.7490138067061143. Current best value is -0.755846717385179 with parameters: {'max_depth': 4, 'learning_rate': 0.06945126010739057, 'n_estimators ': 88, 'gamma': 0.07678599054512013, 'reg_lambda': 4.296234447380671, 'reg_alpha': 2.745850589516624, 'sub_sample': 0.654233166664241, 'scale_pos_weight': 1.6107936743098858}.\n"
     ]
    },
    {
     "name": "stdout",
     "output_type": "stream",
     "text": [
      "{'max_depth': 8, 'learning_rate': 0.061785366620741654, 'n_estimators': 54, 'n_jobs': 4, 'gamma': 0.20360925511211114, 'reg_lambda': 4.812286283615074, 'reg_alpha': 2.625326731508086, 'sub_sample': 0.7406580872200359, 'scale_pos_weight': 2.5459946995799467}\n",
      "0.7418286841363764\n"
     ]
    },
    {
     "name": "stderr",
     "output_type": "stream",
     "text": [
      "[I 2019-08-22 10:42:43,191] Finished trial#85 resulted in value: -0.7418286841363764. Current best value is -0.755846717385179 with parameters: {'max_depth': 4, 'learning_rate': 0.06945126010739057, 'n_estimators ': 88, 'gamma': 0.07678599054512013, 'reg_lambda': 4.296234447380671, 'reg_alpha': 2.745850589516624, 'sub_sample': 0.654233166664241, 'scale_pos_weight': 1.6107936743098858}.\n"
     ]
    },
    {
     "name": "stdout",
     "output_type": "stream",
     "text": [
      "{'max_depth': 7, 'learning_rate': 0.05026782197045563, 'n_estimators': 100, 'n_jobs': 4, 'gamma': 0.11935055324710826, 'reg_lambda': 4.264472065618709, 'reg_alpha': 2.9918408352029005, 'sub_sample': 0.770851192078991, 'scale_pos_weight': 4.014389666258033}\n",
      "0.7165398703860242\n"
     ]
    },
    {
     "name": "stderr",
     "output_type": "stream",
     "text": [
      "[I 2019-08-22 10:42:54,317] Finished trial#86 resulted in value: -0.7165398703860242. Current best value is -0.755846717385179 with parameters: {'max_depth': 4, 'learning_rate': 0.06945126010739057, 'n_estimators ': 88, 'gamma': 0.07678599054512013, 'reg_lambda': 4.296234447380671, 'reg_alpha': 2.745850589516624, 'sub_sample': 0.654233166664241, 'scale_pos_weight': 1.6107936743098858}.\n"
     ]
    },
    {
     "name": "stdout",
     "output_type": "stream",
     "text": [
      "{'max_depth': 6, 'learning_rate': 0.05676156001583105, 'n_estimators': 69, 'n_jobs': 4, 'gamma': 0.24267550491761605, 'reg_lambda': 4.598226039711441, 'reg_alpha': 2.728668234070875, 'sub_sample': 0.6120411722751544, 'scale_pos_weight': 3.039973379704947}\n",
      "0.7295012679628065\n"
     ]
    },
    {
     "name": "stderr",
     "output_type": "stream",
     "text": [
      "[I 2019-08-22 10:43:01,986] Finished trial#87 resulted in value: -0.7295012679628065. Current best value is -0.755846717385179 with parameters: {'max_depth': 4, 'learning_rate': 0.06945126010739057, 'n_estimators ': 88, 'gamma': 0.07678599054512013, 'reg_lambda': 4.296234447380671, 'reg_alpha': 2.745850589516624, 'sub_sample': 0.654233166664241, 'scale_pos_weight': 1.6107936743098858}.\n"
     ]
    },
    {
     "name": "stdout",
     "output_type": "stream",
     "text": [
      "{'max_depth': 8, 'learning_rate': 0.0843799370538215, 'n_estimators': 93, 'n_jobs': 4, 'gamma': 0.06344463228272545, 'reg_lambda': 4.860583394892275, 'reg_alpha': 2.5439035159411483, 'sub_sample': 0.6631323706391278, 'scale_pos_weight': 2.317568428980471}\n",
      "0.7417582417582418\n"
     ]
    },
    {
     "name": "stderr",
     "output_type": "stream",
     "text": [
      "[I 2019-08-22 10:43:08,134] Finished trial#88 resulted in value: -0.7417582417582418. Current best value is -0.755846717385179 with parameters: {'max_depth': 4, 'learning_rate': 0.06945126010739057, 'n_estimators ': 88, 'gamma': 0.07678599054512013, 'reg_lambda': 4.296234447380671, 'reg_alpha': 2.745850589516624, 'sub_sample': 0.654233166664241, 'scale_pos_weight': 1.6107936743098858}.\n"
     ]
    },
    {
     "name": "stdout",
     "output_type": "stream",
     "text": [
      "{'max_depth': 4, 'learning_rate': 0.07243122673413749, 'n_estimators': 43, 'n_jobs': 4, 'gamma': 0.9841548910147333, 'reg_lambda': 4.5143751391684654, 'reg_alpha': 2.8239923102370468, 'sub_sample': 0.7763562045138707, 'scale_pos_weight': 1.550373622066347}\n",
      "0.676458157227388\n"
     ]
    },
    {
     "name": "stderr",
     "output_type": "stream",
     "text": [
      "[I 2019-08-22 10:43:11,751] Finished trial#89 resulted in value: -0.676458157227388. Current best value is -0.755846717385179 with parameters: {'max_depth': 4, 'learning_rate': 0.06945126010739057, 'n_estimators ': 88, 'gamma': 0.07678599054512013, 'reg_lambda': 4.296234447380671, 'reg_alpha': 2.745850589516624, 'sub_sample': 0.654233166664241, 'scale_pos_weight': 1.6107936743098858}.\n"
     ]
    },
    {
     "name": "stdout",
     "output_type": "stream",
     "text": [
      "{'max_depth': 6, 'learning_rate': 0.060758115823419445, 'n_estimators': 57, 'n_jobs': 4, 'gamma': 0.1586594603931927, 'reg_lambda': 4.904376344400303, 'reg_alpha': 2.8795309643610105, 'sub_sample': 0.8669596925552174, 'scale_pos_weight': 2.020785539875436}\n",
      "0.7382361228515075\n"
     ]
    },
    {
     "name": "stderr",
     "output_type": "stream",
     "text": [
      "[I 2019-08-22 10:43:18,628] Finished trial#90 resulted in value: -0.7382361228515075. Current best value is -0.755846717385179 with parameters: {'max_depth': 4, 'learning_rate': 0.06945126010739057, 'n_estimators ': 88, 'gamma': 0.07678599054512013, 'reg_lambda': 4.296234447380671, 'reg_alpha': 2.745850589516624, 'sub_sample': 0.654233166664241, 'scale_pos_weight': 1.6107936743098858}.\n"
     ]
    },
    {
     "name": "stdout",
     "output_type": "stream",
     "text": [
      "{'max_depth': 5, 'learning_rate': 0.0685308180918733, 'n_estimators': 48, 'n_jobs': 4, 'gamma': 0.023268374104198433, 'reg_lambda': 4.393145557885427, 'reg_alpha': 2.498164272979757, 'sub_sample': 0.6983493595889587, 'scale_pos_weight': 1.188384707301691}\n",
      "0.7497182304874613\n"
     ]
    },
    {
     "name": "stderr",
     "output_type": "stream",
     "text": [
      "[I 2019-08-22 10:43:22,933] Finished trial#91 resulted in value: -0.7497182304874613. Current best value is -0.755846717385179 with parameters: {'max_depth': 4, 'learning_rate': 0.06945126010739057, 'n_estimators ': 88, 'gamma': 0.07678599054512013, 'reg_lambda': 4.296234447380671, 'reg_alpha': 2.745850589516624, 'sub_sample': 0.654233166664241, 'scale_pos_weight': 1.6107936743098858}.\n"
     ]
    },
    {
     "name": "stdout",
     "output_type": "stream",
     "text": [
      "{'max_depth': 5, 'learning_rate': 0.07677394471330956, 'n_estimators': 48, 'n_jobs': 4, 'gamma': 0.09305577524003159, 'reg_lambda': 4.694349626210569, 'reg_alpha': 2.6974521927628476, 'sub_sample': 0.6975117756967109, 'scale_pos_weight': 1.1370780769713411}\n",
      "0.7499295576218654\n"
     ]
    },
    {
     "name": "stderr",
     "output_type": "stream",
     "text": [
      "[I 2019-08-22 10:43:27,152] Finished trial#92 resulted in value: -0.7499295576218654. Current best value is -0.755846717385179 with parameters: {'max_depth': 4, 'learning_rate': 0.06945126010739057, 'n_estimators ': 88, 'gamma': 0.07678599054512013, 'reg_lambda': 4.296234447380671, 'reg_alpha': 2.745850589516624, 'sub_sample': 0.654233166664241, 'scale_pos_weight': 1.6107936743098858}.\n"
     ]
    },
    {
     "name": "stdout",
     "output_type": "stream",
     "text": [
      "{'max_depth': 5, 'learning_rate': 0.07759106956278272, 'n_estimators': 49, 'n_jobs': 4, 'gamma': 0.08062972607823071, 'reg_lambda': 4.726661845980667, 'reg_alpha': 2.4072987117705558, 'sub_sample': 0.6972352020895554, 'scale_pos_weight': 1.0071107007638767}\n",
      "0.7386587771203155\n"
     ]
    },
    {
     "name": "stderr",
     "output_type": "stream",
     "text": [
      "[I 2019-08-22 10:43:31,333] Finished trial#93 resulted in value: -0.7386587771203155. Current best value is -0.755846717385179 with parameters: {'max_depth': 4, 'learning_rate': 0.06945126010739057, 'n_estimators ': 88, 'gamma': 0.07678599054512013, 'reg_lambda': 4.296234447380671, 'reg_alpha': 2.745850589516624, 'sub_sample': 0.654233166664241, 'scale_pos_weight': 1.6107936743098858}.\n"
     ]
    },
    {
     "name": "stdout",
     "output_type": "stream",
     "text": [
      "{'max_depth': 4, 'learning_rate': 0.06423516526646428, 'n_estimators': 52, 'n_jobs': 4, 'gamma': 0.14784972641692562, 'reg_lambda': 4.622773889273307, 'reg_alpha': 2.520156781295488, 'sub_sample': 0.7316525018343496, 'scale_pos_weight': 1.779807640457684}\n",
      "0.7440828402366862\n"
     ]
    },
    {
     "name": "stderr",
     "output_type": "stream",
     "text": [
      "[I 2019-08-22 10:43:35,294] Finished trial#94 resulted in value: -0.7440828402366862. Current best value is -0.755846717385179 with parameters: {'max_depth': 4, 'learning_rate': 0.06945126010739057, 'n_estimators ': 88, 'gamma': 0.07678599054512013, 'reg_lambda': 4.296234447380671, 'reg_alpha': 2.745850589516624, 'sub_sample': 0.654233166664241, 'scale_pos_weight': 1.6107936743098858}.\n"
     ]
    },
    {
     "name": "stdout",
     "output_type": "stream",
     "text": [
      "{'max_depth': 5, 'learning_rate': 0.07010377974111422, 'n_estimators': 46, 'n_jobs': 4, 'gamma': 0.09157921949294914, 'reg_lambda': 4.395071930838528, 'reg_alpha': 2.637047820838585, 'sub_sample': 0.7113164801452082, 'scale_pos_weight': 1.4954657883293843}\n",
      "0.7472527472527473\n"
     ]
    },
    {
     "name": "stderr",
     "output_type": "stream",
     "text": [
      "[I 2019-08-22 10:43:39,318] Finished trial#95 resulted in value: -0.7472527472527473. Current best value is -0.755846717385179 with parameters: {'max_depth': 4, 'learning_rate': 0.06945126010739057, 'n_estimators ': 88, 'gamma': 0.07678599054512013, 'reg_lambda': 4.296234447380671, 'reg_alpha': 2.745850589516624, 'sub_sample': 0.654233166664241, 'scale_pos_weight': 1.6107936743098858}.\n"
     ]
    },
    {
     "name": "stdout",
     "output_type": "stream",
     "text": [
      "{'max_depth': 7, 'learning_rate': 0.0527930054252244, 'n_estimators': 31, 'n_jobs': 4, 'gamma': 0.17864663153697252, 'reg_lambda': 4.769150612196294, 'reg_alpha': 2.7096838815929156, 'sub_sample': 0.7507729654955, 'scale_pos_weight': 1.1874760644624325}\n",
      "0.7066779374471682\n"
     ]
    },
    {
     "name": "stderr",
     "output_type": "stream",
     "text": [
      "[I 2019-08-22 10:43:42,992] Finished trial#96 resulted in value: -0.7066779374471682. Current best value is -0.755846717385179 with parameters: {'max_depth': 4, 'learning_rate': 0.06945126010739057, 'n_estimators ': 88, 'gamma': 0.07678599054512013, 'reg_lambda': 4.296234447380671, 'reg_alpha': 2.745850589516624, 'sub_sample': 0.654233166664241, 'scale_pos_weight': 1.6107936743098858}.\n"
     ]
    },
    {
     "name": "stdout",
     "output_type": "stream",
     "text": [
      "{'max_depth': 6, 'learning_rate': 0.05739564418299401, 'n_estimators': 32, 'n_jobs': 4, 'gamma': 0.12221661614582441, 'reg_lambda': 4.295644569420082, 'reg_alpha': 2.7546898733014, 'sub_sample': 0.6808003676507339, 'scale_pos_weight': 2.1633824581457297}\n",
      "0.7369681600450831\n"
     ]
    },
    {
     "name": "stderr",
     "output_type": "stream",
     "text": [
      "[I 2019-08-22 10:43:46,875] Finished trial#97 resulted in value: -0.7369681600450831. Current best value is -0.755846717385179 with parameters: {'max_depth': 4, 'learning_rate': 0.06945126010739057, 'n_estimators ': 88, 'gamma': 0.07678599054512013, 'reg_lambda': 4.296234447380671, 'reg_alpha': 2.745850589516624, 'sub_sample': 0.654233166664241, 'scale_pos_weight': 1.6107936743098858}.\n"
     ]
    },
    {
     "name": "stdout",
     "output_type": "stream",
     "text": [
      "{'max_depth': 3, 'learning_rate': 0.07460076026373597, 'n_estimators': 65, 'n_jobs': 4, 'gamma': 0.21273871614025724, 'reg_lambda': 4.453465407598084, 'reg_alpha': 2.074501880954652, 'sub_sample': 0.6529773456985923, 'scale_pos_weight': 1.8653617554168886}\n",
      "0.7421808960270497\n"
     ]
    },
    {
     "name": "stderr",
     "output_type": "stream",
     "text": [
      "[I 2019-08-22 10:43:50,949] Finished trial#98 resulted in value: -0.7421808960270497. Current best value is -0.755846717385179 with parameters: {'max_depth': 4, 'learning_rate': 0.06945126010739057, 'n_estimators ': 88, 'gamma': 0.07678599054512013, 'reg_lambda': 4.296234447380671, 'reg_alpha': 2.745850589516624, 'sub_sample': 0.654233166664241, 'scale_pos_weight': 1.6107936743098858}.\n"
     ]
    },
    {
     "name": "stdout",
     "output_type": "stream",
     "text": [
      "{'max_depth': 4, 'learning_rate': 0.08724129751376664, 'n_estimators': 46, 'n_jobs': 4, 'gamma': 0.019065888803389122, 'reg_lambda': 4.572805280571982, 'reg_alpha': 2.2357807191296066, 'sub_sample': 0.7286604666055074, 'scale_pos_weight': 4.7475956849469325}\n",
      "0.7083685545224007\n"
     ]
    },
    {
     "name": "stderr",
     "output_type": "stream",
     "text": [
      "[I 2019-08-22 10:43:55,538] Finished trial#99 resulted in value: -0.7083685545224007. Current best value is -0.755846717385179 with parameters: {'max_depth': 4, 'learning_rate': 0.06945126010739057, 'n_estimators ': 88, 'gamma': 0.07678599054512013, 'reg_lambda': 4.296234447380671, 'reg_alpha': 2.745850589516624, 'sub_sample': 0.654233166664241, 'scale_pos_weight': 1.6107936743098858}.\n"
     ]
    },
    {
     "name": "stdout",
     "output_type": "stream",
     "text": [
      "{'max_depth': 5, 'learning_rate': 0.09389412866758114, 'n_estimators': 73, 'n_jobs': 4, 'gamma': 0.06347740947266182, 'reg_lambda': 2.1400994891179987, 'reg_alpha': 2.616386449097687, 'sub_sample': 0.6926851782488185, 'scale_pos_weight': 2.8022908986101114}\n",
      "0.7323189630881938\n"
     ]
    },
    {
     "name": "stderr",
     "output_type": "stream",
     "text": [
      "[I 2019-08-22 10:44:01,073] Finished trial#100 resulted in value: -0.7323189630881938. Current best value is -0.755846717385179 with parameters: {'max_depth': 4, 'learning_rate': 0.06945126010739057, 'n_estimators ': 88, 'gamma': 0.07678599054512013, 'reg_lambda': 4.296234447380671, 'reg_alpha': 2.745850589516624, 'sub_sample': 0.654233166664241, 'scale_pos_weight': 1.6107936743098858}.\n"
     ]
    },
    {
     "name": "stdout",
     "output_type": "stream",
     "text": [
      "{'max_depth': 5, 'learning_rate': 0.06974847835337518, 'n_estimators': 85, 'n_jobs': 4, 'gamma': 0.10055217470960032, 'reg_lambda': 4.131232341590615, 'reg_alpha': 2.9461447165268746, 'sub_sample': 0.8117523361914702, 'scale_pos_weight': 1.1367048246255709}\n",
      "0.7396449704142013\n"
     ]
    },
    {
     "name": "stderr",
     "output_type": "stream",
     "text": [
      "[I 2019-08-22 10:44:08,584] Finished trial#101 resulted in value: -0.7396449704142013. Current best value is -0.755846717385179 with parameters: {'max_depth': 4, 'learning_rate': 0.06945126010739057, 'n_estimators ': 88, 'gamma': 0.07678599054512013, 'reg_lambda': 4.296234447380671, 'reg_alpha': 2.745850589516624, 'sub_sample': 0.654233166664241, 'scale_pos_weight': 1.6107936743098858}.\n"
     ]
    },
    {
     "name": "stdout",
     "output_type": "stream",
     "text": [
      "{'max_depth': 5, 'learning_rate': 0.06449701783575554, 'n_estimators': 57, 'n_jobs': 4, 'gamma': 0.039813984240294004, 'reg_lambda': 4.672833950617232, 'reg_alpha': 2.5160248880697496, 'sub_sample': 0.6704817699479733, 'scale_pos_weight': 1.4119972569953616}\n",
      "0.7456325725556495\n"
     ]
    },
    {
     "name": "stderr",
     "output_type": "stream",
     "text": [
      "[I 2019-08-22 10:44:13,315] Finished trial#102 resulted in value: -0.7456325725556495. Current best value is -0.755846717385179 with parameters: {'max_depth': 4, 'learning_rate': 0.06945126010739057, 'n_estimators ': 88, 'gamma': 0.07678599054512013, 'reg_lambda': 4.296234447380671, 'reg_alpha': 2.745850589516624, 'sub_sample': 0.654233166664241, 'scale_pos_weight': 1.6107936743098858}.\n"
     ]
    },
    {
     "name": "stdout",
     "output_type": "stream",
     "text": [
      "{'max_depth': 7, 'learning_rate': 0.07373983958963558, 'n_estimators': 39, 'n_jobs': 4, 'gamma': 0.002368684306884406, 'reg_lambda': 4.936331632684161, 'reg_alpha': 2.999541164044819, 'sub_sample': 0.8045932145606647, 'scale_pos_weight': 1.520092547281263}\n",
      "0.7445759368836292\n"
     ]
    },
    {
     "name": "stderr",
     "output_type": "stream",
     "text": [
      "[I 2019-08-22 10:44:19,744] Finished trial#103 resulted in value: -0.7445759368836292. Current best value is -0.755846717385179 with parameters: {'max_depth': 4, 'learning_rate': 0.06945126010739057, 'n_estimators ': 88, 'gamma': 0.07678599054512013, 'reg_lambda': 4.296234447380671, 'reg_alpha': 2.745850589516624, 'sub_sample': 0.654233166664241, 'scale_pos_weight': 1.6107936743098858}.\n"
     ]
    },
    {
     "name": "stdout",
     "output_type": "stream",
     "text": [
      "{'max_depth': 6, 'learning_rate': 0.0778772995170299, 'n_estimators': 124, 'n_jobs': 4, 'gamma': 0.12447438717154637, 'reg_lambda': 4.399092360388812, 'reg_alpha': 2.8074014061471475, 'sub_sample': 0.7804419041293426, 'scale_pos_weight': 7.505139641932054}\n",
      "0.6724429416737109\n"
     ]
    },
    {
     "name": "stderr",
     "output_type": "stream",
     "text": [
      "[I 2019-08-22 10:44:31,286] Finished trial#104 resulted in value: -0.6724429416737109. Current best value is -0.755846717385179 with parameters: {'max_depth': 4, 'learning_rate': 0.06945126010739057, 'n_estimators ': 88, 'gamma': 0.07678599054512013, 'reg_lambda': 4.296234447380671, 'reg_alpha': 2.745850589516624, 'sub_sample': 0.654233166664241, 'scale_pos_weight': 1.6107936743098858}.\n"
     ]
    },
    {
     "name": "stdout",
     "output_type": "stream",
     "text": [
      "{'max_depth': 4, 'learning_rate': 0.06028549056946812, 'n_estimators': 54, 'n_jobs': 4, 'gamma': 0.05143254220790375, 'reg_lambda': 3.53277234131371, 'reg_alpha': 2.6997949404731214, 'sub_sample': 0.6347635060885903, 'scale_pos_weight': 2.2914940919728206}\n",
      "0.7395040856579319\n"
     ]
    },
    {
     "name": "stderr",
     "output_type": "stream",
     "text": [
      "[I 2019-08-22 10:44:35,501] Finished trial#105 resulted in value: -0.7395040856579319. Current best value is -0.755846717385179 with parameters: {'max_depth': 4, 'learning_rate': 0.06945126010739057, 'n_estimators ': 88, 'gamma': 0.07678599054512013, 'reg_lambda': 4.296234447380671, 'reg_alpha': 2.745850589516624, 'sub_sample': 0.654233166664241, 'scale_pos_weight': 1.6107936743098858}.\n"
     ]
    },
    {
     "name": "stdout",
     "output_type": "stream",
     "text": [
      "{'max_depth': 5, 'learning_rate': 0.08317163958831346, 'n_estimators': 106, 'n_jobs': 4, 'gamma': 0.18190093310017258, 'reg_lambda': 4.277222296340238, 'reg_alpha': 2.415750968850693, 'sub_sample': 0.760710599134512, 'scale_pos_weight': 1.6543826153389947}\n",
      "0.7458438996900535\n"
     ]
    },
    {
     "name": "stderr",
     "output_type": "stream",
     "text": [
      "[I 2019-08-22 10:44:43,970] Finished trial#106 resulted in value: -0.7458438996900535. Current best value is -0.755846717385179 with parameters: {'max_depth': 4, 'learning_rate': 0.06945126010739057, 'n_estimators ': 88, 'gamma': 0.07678599054512013, 'reg_lambda': 4.296234447380671, 'reg_alpha': 2.745850589516624, 'sub_sample': 0.654233166664241, 'scale_pos_weight': 1.6107936743098858}.\n"
     ]
    },
    {
     "name": "stdout",
     "output_type": "stream",
     "text": [
      "{'max_depth': 6, 'learning_rate': 0.06682214687767442, 'n_estimators': 43, 'n_jobs': 4, 'gamma': 0.14683500938430966, 'reg_lambda': 4.530999886084494, 'reg_alpha': 2.879481901259697, 'sub_sample': 0.7108986103785191, 'scale_pos_weight': 1.922945833617605}\n",
      "0.7373908143138912\n"
     ]
    },
    {
     "name": "stderr",
     "output_type": "stream",
     "text": [
      "[I 2019-08-22 10:44:48,637] Finished trial#107 resulted in value: -0.7373908143138912. Current best value is -0.755846717385179 with parameters: {'max_depth': 4, 'learning_rate': 0.06945126010739057, 'n_estimators ': 88, 'gamma': 0.07678599054512013, 'reg_lambda': 4.296234447380671, 'reg_alpha': 2.745850589516624, 'sub_sample': 0.654233166664241, 'scale_pos_weight': 1.6107936743098858}.\n"
     ]
    },
    {
     "name": "stdout",
     "output_type": "stream",
     "text": [
      "{'max_depth': 4, 'learning_rate': 0.05628392747536633, 'n_estimators': 21, 'n_jobs': 4, 'gamma': 0.08137911155593311, 'reg_lambda': 4.127554742740977, 'reg_alpha': 2.34679126416462, 'sub_sample': 0.8424926750097993, 'scale_pos_weight': 1.172202036458371}\n",
      "0.6866723020569174\n"
     ]
    },
    {
     "name": "stderr",
     "output_type": "stream",
     "text": [
      "[I 2019-08-22 10:44:50,933] Finished trial#108 resulted in value: -0.6866723020569174. Current best value is -0.755846717385179 with parameters: {'max_depth': 4, 'learning_rate': 0.06945126010739057, 'n_estimators ': 88, 'gamma': 0.07678599054512013, 'reg_lambda': 4.296234447380671, 'reg_alpha': 2.745850589516624, 'sub_sample': 0.654233166664241, 'scale_pos_weight': 1.6107936743098858}.\n"
     ]
    },
    {
     "name": "stdout",
     "output_type": "stream",
     "text": [
      "{'max_depth': 5, 'learning_rate': 0.06880954036839011, 'n_estimators': 68, 'n_jobs': 4, 'gamma': 0.018087997040130352, 'reg_lambda': 4.802898836906616, 'reg_alpha': 2.7817359287829233, 'sub_sample': 0.7420080834655959, 'scale_pos_weight': 2.085670784466519}\n",
      "0.7489433643279797\n"
     ]
    },
    {
     "name": "stderr",
     "output_type": "stream",
     "text": [
      "[I 2019-08-22 10:44:55,606] Finished trial#109 resulted in value: -0.7489433643279797. Current best value is -0.755846717385179 with parameters: {'max_depth': 4, 'learning_rate': 0.06945126010739057, 'n_estimators ': 88, 'gamma': 0.07678599054512013, 'reg_lambda': 4.296234447380671, 'reg_alpha': 2.745850589516624, 'sub_sample': 0.654233166664241, 'scale_pos_weight': 1.6107936743098858}.\n"
     ]
    },
    {
     "name": "stdout",
     "output_type": "stream",
     "text": [
      "{'max_depth': 8, 'learning_rate': 0.06848999148027608, 'n_estimators': 67, 'n_jobs': 4, 'gamma': 0.05437423555353646, 'reg_lambda': 4.7820459891211735, 'reg_alpha': 2.7763856966980067, 'sub_sample': 0.7443068144619219, 'scale_pos_weight': 2.6383342661366136}\n",
      "0.7406311637080867\n"
     ]
    },
    {
     "name": "stderr",
     "output_type": "stream",
     "text": [
      "[I 2019-08-22 10:45:01,620] Finished trial#110 resulted in value: -0.7406311637080867. Current best value is -0.755846717385179 with parameters: {'max_depth': 4, 'learning_rate': 0.06945126010739057, 'n_estimators ': 88, 'gamma': 0.07678599054512013, 'reg_lambda': 4.296234447380671, 'reg_alpha': 2.745850589516624, 'sub_sample': 0.654233166664241, 'scale_pos_weight': 1.6107936743098858}.\n"
     ]
    },
    {
     "name": "stdout",
     "output_type": "stream",
     "text": [
      "{'max_depth': 5, 'learning_rate': 0.07129672369536777, 'n_estimators': 51, 'n_jobs': 4, 'gamma': 0.00065746001643497, 'reg_lambda': 4.681462359279241, 'reg_alpha': 2.5979169096300927, 'sub_sample': 0.8285965600228071, 'scale_pos_weight': 1.9847608783295465}\n",
      "0.7483798253029023\n"
     ]
    },
    {
     "name": "stderr",
     "output_type": "stream",
     "text": [
      "[I 2019-08-22 10:45:05,817] Finished trial#111 resulted in value: -0.7483798253029023. Current best value is -0.755846717385179 with parameters: {'max_depth': 4, 'learning_rate': 0.06945126010739057, 'n_estimators ': 88, 'gamma': 0.07678599054512013, 'reg_lambda': 4.296234447380671, 'reg_alpha': 2.745850589516624, 'sub_sample': 0.654233166664241, 'scale_pos_weight': 1.6107936743098858}.\n"
     ]
    },
    {
     "name": "stdout",
     "output_type": "stream",
     "text": [
      "{'max_depth': 5, 'learning_rate': 0.07187730050313029, 'n_estimators': 49, 'n_jobs': 4, 'gamma': 0.02271780501738924, 'reg_lambda': 4.683708729709458, 'reg_alpha': 2.6059587748200563, 'sub_sample': 0.8877547667596899, 'scale_pos_weight': 2.0573321575083554}\n",
      "0.7442941673710904\n"
     ]
    },
    {
     "name": "stderr",
     "output_type": "stream",
     "text": [
      "[I 2019-08-22 10:45:10,218] Finished trial#112 resulted in value: -0.7442941673710904. Current best value is -0.755846717385179 with parameters: {'max_depth': 4, 'learning_rate': 0.06945126010739057, 'n_estimators ': 88, 'gamma': 0.07678599054512013, 'reg_lambda': 4.296234447380671, 'reg_alpha': 2.745850589516624, 'sub_sample': 0.654233166664241, 'scale_pos_weight': 1.6107936743098858}.\n"
     ]
    },
    {
     "name": "stdout",
     "output_type": "stream",
     "text": [
      "{'max_depth': 5, 'learning_rate': 0.06313653114745754, 'n_estimators': 59, 'n_jobs': 4, 'gamma': 0.0955034265199533, 'reg_lambda': 4.890615677027066, 'reg_alpha': 2.6855785073550233, 'sub_sample': 0.7236279022901045, 'scale_pos_weight': 2.4148397609428427}\n",
      "0.7437306283460129\n"
     ]
    },
    {
     "name": "stderr",
     "output_type": "stream",
     "text": [
      "[I 2019-08-22 10:45:15,709] Finished trial#113 resulted in value: -0.7437306283460129. Current best value is -0.755846717385179 with parameters: {'max_depth': 4, 'learning_rate': 0.06945126010739057, 'n_estimators ': 88, 'gamma': 0.07678599054512013, 'reg_lambda': 4.296234447380671, 'reg_alpha': 2.745850589516624, 'sub_sample': 0.654233166664241, 'scale_pos_weight': 1.6107936743098858}.\n"
     ]
    },
    {
     "name": "stdout",
     "output_type": "stream",
     "text": [
      "{'max_depth': 6, 'learning_rate': 0.08033710129737556, 'n_estimators': 63, 'n_jobs': 4, 'gamma': 0.0016581568084920242, 'reg_lambda': 4.967863566168673, 'reg_alpha': 2.4989691541484236, 'sub_sample': 0.620785593773939, 'scale_pos_weight': 1.737448507908005}\n",
      "0.7427444350521273\n"
     ]
    },
    {
     "name": "stderr",
     "output_type": "stream",
     "text": [
      "[I 2019-08-22 10:45:20,204] Finished trial#114 resulted in value: -0.7427444350521273. Current best value is -0.755846717385179 with parameters: {'max_depth': 4, 'learning_rate': 0.06945126010739057, 'n_estimators ': 88, 'gamma': 0.07678599054512013, 'reg_lambda': 4.296234447380671, 'reg_alpha': 2.745850589516624, 'sub_sample': 0.654233166664241, 'scale_pos_weight': 1.6107936743098858}.\n"
     ]
    },
    {
     "name": "stdout",
     "output_type": "stream",
     "text": [
      "{'max_depth': 4, 'learning_rate': 0.07553809712153156, 'n_estimators': 37, 'n_jobs': 4, 'gamma': 0.11615023420095283, 'reg_lambda': 4.552833057371188, 'reg_alpha': 2.533425153560747, 'sub_sample': 0.7036314761912401, 'scale_pos_weight': 1.9855772498344664}\n",
      "0.7526063679909833\n"
     ]
    },
    {
     "name": "stderr",
     "output_type": "stream",
     "text": [
      "[I 2019-08-22 10:45:23,402] Finished trial#115 resulted in value: -0.7526063679909833. Current best value is -0.755846717385179 with parameters: {'max_depth': 4, 'learning_rate': 0.06945126010739057, 'n_estimators ': 88, 'gamma': 0.07678599054512013, 'reg_lambda': 4.296234447380671, 'reg_alpha': 2.745850589516624, 'sub_sample': 0.654233166664241, 'scale_pos_weight': 1.6107936743098858}.\n"
     ]
    },
    {
     "name": "stdout",
     "output_type": "stream",
     "text": [
      "{'max_depth': 4, 'learning_rate': 0.07542482881646878, 'n_estimators': 35, 'n_jobs': 4, 'gamma': 0.10918768736240037, 'reg_lambda': 4.569768284254557, 'reg_alpha': 2.434882351113524, 'sub_sample': 0.7065935821517483, 'scale_pos_weight': 2.194979532910885}\n",
      "0.7485207100591715\n"
     ]
    },
    {
     "name": "stderr",
     "output_type": "stream",
     "text": [
      "[I 2019-08-22 10:45:26,355] Finished trial#116 resulted in value: -0.7485207100591715. Current best value is -0.755846717385179 with parameters: {'max_depth': 4, 'learning_rate': 0.06945126010739057, 'n_estimators ': 88, 'gamma': 0.07678599054512013, 'reg_lambda': 4.296234447380671, 'reg_alpha': 2.745850589516624, 'sub_sample': 0.654233166664241, 'scale_pos_weight': 1.6107936743098858}.\n"
     ]
    },
    {
     "name": "stdout",
     "output_type": "stream",
     "text": [
      "{'max_depth': 3, 'learning_rate': 0.06529067984982947, 'n_estimators': 27, 'n_jobs': 4, 'gamma': 0.13920729098187837, 'reg_lambda': 4.4620980418210765, 'reg_alpha': 2.5411449887463045, 'sub_sample': 0.6649131425499365, 'scale_pos_weight': 2.5273855358935604}\n",
      "0.729360383206537\n"
     ]
    },
    {
     "name": "stderr",
     "output_type": "stream",
     "text": [
      "[I 2019-08-22 10:45:28,353] Finished trial#117 resulted in value: -0.729360383206537. Current best value is -0.755846717385179 with parameters: {'max_depth': 4, 'learning_rate': 0.06945126010739057, 'n_estimators ': 88, 'gamma': 0.07678599054512013, 'reg_lambda': 4.296234447380671, 'reg_alpha': 2.745850589516624, 'sub_sample': 0.654233166664241, 'scale_pos_weight': 1.6107936743098858}.\n"
     ]
    },
    {
     "name": "stdout",
     "output_type": "stream",
     "text": [
      "{'max_depth': 4, 'learning_rate': 0.0773576058496126, 'n_estimators': 37, 'n_jobs': 4, 'gamma': 0.07301543703836598, 'reg_lambda': 4.810381938535318, 'reg_alpha': 2.6523893382136254, 'sub_sample': 0.6439056251247461, 'scale_pos_weight': 1.3874467736877272}\n",
      "0.7521837137221752\n"
     ]
    },
    {
     "name": "stderr",
     "output_type": "stream",
     "text": [
      "[I 2019-08-22 10:45:31,220] Finished trial#118 resulted in value: -0.7521837137221752. Current best value is -0.755846717385179 with parameters: {'max_depth': 4, 'learning_rate': 0.06945126010739057, 'n_estimators ': 88, 'gamma': 0.07678599054512013, 'reg_lambda': 4.296234447380671, 'reg_alpha': 2.745850589516624, 'sub_sample': 0.654233166664241, 'scale_pos_weight': 1.6107936743098858}.\n"
     ]
    },
    {
     "name": "stdout",
     "output_type": "stream",
     "text": [
      "{'max_depth': 4, 'learning_rate': 0.07730401735441234, 'n_estimators': 38, 'n_jobs': 4, 'gamma': 0.19464987996729408, 'reg_lambda': 4.378735419097882, 'reg_alpha': 2.6422434618457262, 'sub_sample': 0.6089775807080585, 'scale_pos_weight': 1.3714760901656147}\n",
      "0.7359819667511975\n"
     ]
    },
    {
     "name": "stderr",
     "output_type": "stream",
     "text": [
      "[I 2019-08-22 10:45:34,105] Finished trial#119 resulted in value: -0.7359819667511975. Current best value is -0.755846717385179 with parameters: {'max_depth': 4, 'learning_rate': 0.06945126010739057, 'n_estimators ': 88, 'gamma': 0.07678599054512013, 'reg_lambda': 4.296234447380671, 'reg_alpha': 2.745850589516624, 'sub_sample': 0.654233166664241, 'scale_pos_weight': 1.6107936743098858}.\n"
     ]
    },
    {
     "name": "stdout",
     "output_type": "stream",
     "text": [
      "{'max_depth': 3, 'learning_rate': 0.05935626640565285, 'n_estimators': 42, 'n_jobs': 4, 'gamma': 0.15928658192030443, 'reg_lambda': 4.232007620006343, 'reg_alpha': 2.8712540609636896, 'sub_sample': 0.591511066600061, 'scale_pos_weight': 1.6935270433614438}\n",
      "0.7347844463229078\n"
     ]
    },
    {
     "name": "stderr",
     "output_type": "stream",
     "text": [
      "[I 2019-08-22 10:45:36,703] Finished trial#120 resulted in value: -0.7347844463229078. Current best value is -0.755846717385179 with parameters: {'max_depth': 4, 'learning_rate': 0.06945126010739057, 'n_estimators ': 88, 'gamma': 0.07678599054512013, 'reg_lambda': 4.296234447380671, 'reg_alpha': 2.745850589516624, 'sub_sample': 0.654233166664241, 'scale_pos_weight': 1.6107936743098858}.\n"
     ]
    },
    {
     "name": "stdout",
     "output_type": "stream",
     "text": [
      "{'max_depth': 4, 'learning_rate': 0.0815915982554534, 'n_estimators': 47, 'n_jobs': 4, 'gamma': 0.07407458271849664, 'reg_lambda': 4.836200250641161, 'reg_alpha': 2.775603411932325, 'sub_sample': 0.6469220264118604, 'scale_pos_weight': 1.52267841170677}\n",
      "0.754719639335024\n"
     ]
    },
    {
     "name": "stderr",
     "output_type": "stream",
     "text": [
      "[I 2019-08-22 10:45:40,348] Finished trial#121 resulted in value: -0.754719639335024. Current best value is -0.755846717385179 with parameters: {'max_depth': 4, 'learning_rate': 0.06945126010739057, 'n_estimators ': 88, 'gamma': 0.07678599054512013, 'reg_lambda': 4.296234447380671, 'reg_alpha': 2.745850589516624, 'sub_sample': 0.654233166664241, 'scale_pos_weight': 1.6107936743098858}.\n"
     ]
    },
    {
     "name": "stdout",
     "output_type": "stream",
     "text": [
      "{'max_depth': 4, 'learning_rate': 0.08322192891735668, 'n_estimators': 31, 'n_jobs': 4, 'gamma': 0.07549191220391624, 'reg_lambda': 4.598020397432007, 'reg_alpha': 2.682451130535449, 'sub_sample': 0.6453018861040692, 'scale_pos_weight': 1.175258303485374}\n",
      "0.7535925612848688\n"
     ]
    },
    {
     "name": "stderr",
     "output_type": "stream",
     "text": [
      "[I 2019-08-22 10:45:42,871] Finished trial#122 resulted in value: -0.7535925612848688. Current best value is -0.755846717385179 with parameters: {'max_depth': 4, 'learning_rate': 0.06945126010739057, 'n_estimators ': 88, 'gamma': 0.07678599054512013, 'reg_lambda': 4.296234447380671, 'reg_alpha': 2.745850589516624, 'sub_sample': 0.654233166664241, 'scale_pos_weight': 1.6107936743098858}.\n"
     ]
    },
    {
     "name": "stdout",
     "output_type": "stream",
     "text": [
      "{'max_depth': 4, 'learning_rate': 0.0888210974895591, 'n_estimators': 32, 'n_jobs': 4, 'gamma': 0.06905720857940839, 'reg_lambda': 4.568691709429368, 'reg_alpha': 2.56855122603924, 'sub_sample': 0.6431229888525629, 'scale_pos_weight': 1.1304376804976743}\n",
      "0.7565511411665258\n"
     ]
    },
    {
     "name": "stderr",
     "output_type": "stream",
     "text": [
      "[I 2019-08-22 10:45:45,421] Finished trial#123 resulted in value: -0.7565511411665258. Current best value is -0.7565511411665258 with parameters: {'max_depth': 4, 'learning_rate': 0.0888210974895591, 'n_estimators ': 32, 'gamma': 0.06905720857940839, 'reg_lambda': 4.568691709429368, 'reg_alpha': 2.56855122603924, 'sub_sample': 0.6431229888525629, 'scale_pos_weight': 1.1304376804976743}.\n"
     ]
    },
    {
     "name": "stdout",
     "output_type": "stream",
     "text": [
      "{'max_depth': 4, 'learning_rate': 0.08963803585130756, 'n_estimators': 30, 'n_jobs': 4, 'gamma': 0.06764013884621821, 'reg_lambda': 4.5965613687702955, 'reg_alpha': 2.683707604622368, 'sub_sample': 0.6423877633620608, 'scale_pos_weight': 1.1160358023587}\n",
      "0.7551422936038321\n"
     ]
    },
    {
     "name": "stderr",
     "output_type": "stream",
     "text": [
      "[I 2019-08-22 10:45:47,856] Finished trial#124 resulted in value: -0.7551422936038321. Current best value is -0.7565511411665258 with parameters: {'max_depth': 4, 'learning_rate': 0.0888210974895591, 'n_estimators ': 32, 'gamma': 0.06905720857940839, 'reg_lambda': 4.568691709429368, 'reg_alpha': 2.56855122603924, 'sub_sample': 0.6431229888525629, 'scale_pos_weight': 1.1304376804976743}.\n"
     ]
    },
    {
     "name": "stdout",
     "output_type": "stream",
     "text": [
      "{'max_depth': 4, 'learning_rate': 0.10290864944254671, 'n_estimators': 28, 'n_jobs': 4, 'gamma': 0.0707760857940527, 'reg_lambda': 4.609008582758578, 'reg_alpha': 2.566580440775175, 'sub_sample': 0.6433401994726404, 'scale_pos_weight': 1.0183197117083276}\n",
      "0.7502113271344041\n"
     ]
    },
    {
     "name": "stderr",
     "output_type": "stream",
     "text": [
      "[I 2019-08-22 10:45:50,137] Finished trial#125 resulted in value: -0.7502113271344041. Current best value is -0.7565511411665258 with parameters: {'max_depth': 4, 'learning_rate': 0.0888210974895591, 'n_estimators ': 32, 'gamma': 0.06905720857940839, 'reg_lambda': 4.568691709429368, 'reg_alpha': 2.56855122603924, 'sub_sample': 0.6431229888525629, 'scale_pos_weight': 1.1304376804976743}.\n"
     ]
    },
    {
     "name": "stdout",
     "output_type": "stream",
     "text": [
      "{'max_depth': 4, 'learning_rate': 0.08904810264314891, 'n_estimators': 28, 'n_jobs': 4, 'gamma': 0.0749221183107971, 'reg_lambda': 4.606946430480907, 'reg_alpha': 2.6822423409001783, 'sub_sample': 0.6382605174060514, 'scale_pos_weight': 1.4242355493693264}\n",
      "0.7423217807833193\n"
     ]
    },
    {
     "name": "stderr",
     "output_type": "stream",
     "text": [
      "[I 2019-08-22 10:45:52,576] Finished trial#126 resulted in value: -0.7423217807833193. Current best value is -0.7565511411665258 with parameters: {'max_depth': 4, 'learning_rate': 0.0888210974895591, 'n_estimators ': 32, 'gamma': 0.06905720857940839, 'reg_lambda': 4.568691709429368, 'reg_alpha': 2.56855122603924, 'sub_sample': 0.6431229888525629, 'scale_pos_weight': 1.1304376804976743}.\n"
     ]
    },
    {
     "name": "stdout",
     "output_type": "stream",
     "text": [
      "{'max_depth': 3, 'learning_rate': 0.09419334694421264, 'n_estimators': 23, 'n_jobs': 4, 'gamma': 0.09018138556455177, 'reg_lambda': 4.533412326992035, 'reg_alpha': 2.599844432829013, 'sub_sample': 0.6438756148246075, 'scale_pos_weight': 1.2077210532701446}\n",
      "0.731403212172443\n"
     ]
    },
    {
     "name": "stderr",
     "output_type": "stream",
     "text": [
      "[I 2019-08-22 10:45:54,641] Finished trial#127 resulted in value: -0.731403212172443. Current best value is -0.7565511411665258 with parameters: {'max_depth': 4, 'learning_rate': 0.0888210974895591, 'n_estimators ': 32, 'gamma': 0.06905720857940839, 'reg_lambda': 4.568691709429368, 'reg_alpha': 2.56855122603924, 'sub_sample': 0.6431229888525629, 'scale_pos_weight': 1.1304376804976743}.\n"
     ]
    },
    {
     "name": "stdout",
     "output_type": "stream",
     "text": [
      "{'max_depth': 4, 'learning_rate': 0.1028818044189872, 'n_estimators': 20, 'n_jobs': 4, 'gamma': 0.11669894381897494, 'reg_lambda': 4.730266628749833, 'reg_alpha': 2.7332344254041545, 'sub_sample': 0.6235998745225213, 'scale_pos_weight': 1.052945007252151}\n",
      "0.7412651451112989\n"
     ]
    },
    {
     "name": "stderr",
     "output_type": "stream",
     "text": [
      "[I 2019-08-22 10:45:56,940] Finished trial#128 resulted in value: -0.7412651451112989. Current best value is -0.7565511411665258 with parameters: {'max_depth': 4, 'learning_rate': 0.0888210974895591, 'n_estimators ': 32, 'gamma': 0.06905720857940839, 'reg_lambda': 4.568691709429368, 'reg_alpha': 2.56855122603924, 'sub_sample': 0.6431229888525629, 'scale_pos_weight': 1.1304376804976743}.\n"
     ]
    },
    {
     "name": "stdout",
     "output_type": "stream",
     "text": [
      "{'max_depth': 4, 'learning_rate': 0.08561241147053517, 'n_estimators': 35, 'n_jobs': 4, 'gamma': 0.06617150040079228, 'reg_lambda': 4.9978476940656575, 'reg_alpha': 2.566004196460194, 'sub_sample': 0.5657598550790921, 'scale_pos_weight': 1.5214495759742164}\n",
      "0.7566215835446604\n"
     ]
    },
    {
     "name": "stderr",
     "output_type": "stream",
     "text": [
      "[I 2019-08-22 10:45:59,738] Finished trial#129 resulted in value: -0.7566215835446604. Current best value is -0.7566215835446604 with parameters: {'max_depth': 4, 'learning_rate': 0.08561241147053517, 'n_estimators ': 35, 'gamma': 0.06617150040079228, 'reg_lambda': 4.9978476940656575, 'reg_alpha': 2.566004196460194, 'sub_sample': 0.5657598550790921, 'scale_pos_weight': 1.5214495759742164}.\n"
     ]
    },
    {
     "name": "stdout",
     "output_type": "stream",
     "text": [
      "{'max_depth': 3, 'learning_rate': 0.08885779724847624, 'n_estimators': 180, 'n_jobs': 4, 'gamma': 0.06442408566128158, 'reg_lambda': 4.845058566516418, 'reg_alpha': 2.6596468291947324, 'sub_sample': 0.5700275226981757, 'scale_pos_weight': 1.587023071700432}\n",
      "0.7337278106508875\n"
     ]
    },
    {
     "name": "stderr",
     "output_type": "stream",
     "text": [
      "[I 2019-08-22 10:46:06,907] Finished trial#130 resulted in value: -0.7337278106508875. Current best value is -0.7566215835446604 with parameters: {'max_depth': 4, 'learning_rate': 0.08561241147053517, 'n_estimators ': 35, 'gamma': 0.06617150040079228, 'reg_lambda': 4.9978476940656575, 'reg_alpha': 2.566004196460194, 'sub_sample': 0.5657598550790921, 'scale_pos_weight': 1.5214495759742164}.\n"
     ]
    },
    {
     "name": "stdout",
     "output_type": "stream",
     "text": [
      "{'max_depth': 4, 'learning_rate': 0.08454972190892933, 'n_estimators': 33, 'n_jobs': 4, 'gamma': 0.0491533601922409, 'reg_lambda': 4.9743891779368905, 'reg_alpha': 2.521668263570144, 'sub_sample': 0.6527652106771984, 'scale_pos_weight': 1.313123392904427}\n",
      "0.7532403493941956\n"
     ]
    },
    {
     "name": "stderr",
     "output_type": "stream",
     "text": [
      "[I 2019-08-22 10:46:09,586] Finished trial#131 resulted in value: -0.7532403493941956. Current best value is -0.7566215835446604 with parameters: {'max_depth': 4, 'learning_rate': 0.08561241147053517, 'n_estimators ': 35, 'gamma': 0.06617150040079228, 'reg_lambda': 4.9978476940656575, 'reg_alpha': 2.566004196460194, 'sub_sample': 0.5657598550790921, 'scale_pos_weight': 1.5214495759742164}.\n"
     ]
    },
    {
     "name": "stdout",
     "output_type": "stream",
     "text": [
      "{'max_depth': 4, 'learning_rate': 0.08538084625204025, 'n_estimators': 31, 'n_jobs': 4, 'gamma': 0.04784748079309803, 'reg_lambda': 4.6456417213716925, 'reg_alpha': 2.5571393388440944, 'sub_sample': 0.5483216849722297, 'scale_pos_weight': 1.0111110479054628}\n",
      "0.7558467173851788\n"
     ]
    },
    {
     "name": "stderr",
     "output_type": "stream",
     "text": [
      "[I 2019-08-22 10:46:12,337] Finished trial#132 resulted in value: -0.7558467173851788. Current best value is -0.7566215835446604 with parameters: {'max_depth': 4, 'learning_rate': 0.08561241147053517, 'n_estimators ': 35, 'gamma': 0.06617150040079228, 'reg_lambda': 4.9978476940656575, 'reg_alpha': 2.566004196460194, 'sub_sample': 0.5657598550790921, 'scale_pos_weight': 1.5214495759742164}.\n"
     ]
    },
    {
     "name": "stdout",
     "output_type": "stream",
     "text": [
      "{'max_depth': 4, 'learning_rate': 0.0850341803330026, 'n_estimators': 32, 'n_jobs': 4, 'gamma': 0.04392894433015976, 'reg_lambda': 4.962839617957524, 'reg_alpha': 2.3365266809227627, 'sub_sample': 0.5483391956620578, 'scale_pos_weight': 1.0209926125337576}\n",
      "0.7500704423781347\n"
     ]
    },
    {
     "name": "stderr",
     "output_type": "stream",
     "text": [
      "[I 2019-08-22 10:46:14,972] Finished trial#133 resulted in value: -0.7500704423781347. Current best value is -0.7566215835446604 with parameters: {'max_depth': 4, 'learning_rate': 0.08561241147053517, 'n_estimators ': 35, 'gamma': 0.06617150040079228, 'reg_lambda': 4.9978476940656575, 'reg_alpha': 2.566004196460194, 'sub_sample': 0.5657598550790921, 'scale_pos_weight': 1.5214495759742164}.\n"
     ]
    },
    {
     "name": "stdout",
     "output_type": "stream",
     "text": [
      "{'max_depth': 4, 'learning_rate': 0.08506523147535708, 'n_estimators': 32, 'n_jobs': 4, 'gamma': 0.049199850627091916, 'reg_lambda': 4.900514281103378, 'reg_alpha': 2.3402535431193243, 'sub_sample': 0.6003097939758907, 'scale_pos_weight': 1.305472753118787}\n",
      "0.751127078050155\n"
     ]
    },
    {
     "name": "stderr",
     "output_type": "stream",
     "text": [
      "[I 2019-08-22 10:46:17,863] Finished trial#134 resulted in value: -0.751127078050155. Current best value is -0.7566215835446604 with parameters: {'max_depth': 4, 'learning_rate': 0.08561241147053517, 'n_estimators ': 35, 'gamma': 0.06617150040079228, 'reg_lambda': 4.9978476940656575, 'reg_alpha': 2.566004196460194, 'sub_sample': 0.5657598550790921, 'scale_pos_weight': 1.5214495759742164}.\n"
     ]
    },
    {
     "name": "stdout",
     "output_type": "stream",
     "text": [
      "{'max_depth': 4, 'learning_rate': 0.09936035861602238, 'n_estimators': 24, 'n_jobs': 4, 'gamma': 0.05467950179683048, 'reg_lambda': 4.970016813139978, 'reg_alpha': 2.5237441346906504, 'sub_sample': 0.5288610762629348, 'scale_pos_weight': 1.3496445447744525}\n",
      "0.744153282614821\n"
     ]
    },
    {
     "name": "stderr",
     "output_type": "stream",
     "text": [
      "[I 2019-08-22 10:46:20,054] Finished trial#135 resulted in value: -0.744153282614821. Current best value is -0.7566215835446604 with parameters: {'max_depth': 4, 'learning_rate': 0.08561241147053517, 'n_estimators ': 35, 'gamma': 0.06617150040079228, 'reg_lambda': 4.9978476940656575, 'reg_alpha': 2.566004196460194, 'sub_sample': 0.5657598550790921, 'scale_pos_weight': 1.5214495759742164}.\n"
     ]
    },
    {
     "name": "stdout",
     "output_type": "stream",
     "text": [
      "{'max_depth': 4, 'learning_rate': 0.08245548125621663, 'n_estimators': 35, 'n_jobs': 4, 'gamma': 0.07637066994324518, 'reg_lambda': 4.823429895621745, 'reg_alpha': 2.407283233138658, 'sub_sample': 0.5074148010681312, 'scale_pos_weight': 1.4845679653805064}\n",
      "0.754015215553677\n"
     ]
    },
    {
     "name": "stderr",
     "output_type": "stream",
     "text": [
      "[I 2019-08-22 10:46:22,962] Finished trial#136 resulted in value: -0.754015215553677. Current best value is -0.7566215835446604 with parameters: {'max_depth': 4, 'learning_rate': 0.08561241147053517, 'n_estimators ': 35, 'gamma': 0.06617150040079228, 'reg_lambda': 4.9978476940656575, 'reg_alpha': 2.566004196460194, 'sub_sample': 0.5657598550790921, 'scale_pos_weight': 1.5214495759742164}.\n"
     ]
    },
    {
     "name": "stdout",
     "output_type": "stream",
     "text": [
      "{'max_depth': 4, 'learning_rate': 0.08199637762353545, 'n_estimators': 35, 'n_jobs': 4, 'gamma': 0.03265379520595243, 'reg_lambda': 4.812775382244403, 'reg_alpha': 2.425846374299734, 'sub_sample': 0.4576688964695152, 'scale_pos_weight': 1.5142814057679777}\n",
      "0.7466892082276697\n"
     ]
    },
    {
     "name": "stderr",
     "output_type": "stream",
     "text": [
      "[I 2019-08-22 10:46:26,139] Finished trial#137 resulted in value: -0.7466892082276697. Current best value is -0.7566215835446604 with parameters: {'max_depth': 4, 'learning_rate': 0.08561241147053517, 'n_estimators ': 35, 'gamma': 0.06617150040079228, 'reg_lambda': 4.9978476940656575, 'reg_alpha': 2.566004196460194, 'sub_sample': 0.5657598550790921, 'scale_pos_weight': 1.5214495759742164}.\n"
     ]
    },
    {
     "name": "stdout",
     "output_type": "stream",
     "text": [
      "{'max_depth': 4, 'learning_rate': 0.0917997196380281, 'n_estimators': 31, 'n_jobs': 4, 'gamma': 0.0782927098765097, 'reg_lambda': 4.992662443346427, 'reg_alpha': 2.362043301733223, 'sub_sample': 0.502871310660937, 'scale_pos_weight': 1.300057938511185}\n",
      "0.745280360664976\n"
     ]
    },
    {
     "name": "stderr",
     "output_type": "stream",
     "text": [
      "[I 2019-08-22 10:46:29,022] Finished trial#138 resulted in value: -0.745280360664976. Current best value is -0.7566215835446604 with parameters: {'max_depth': 4, 'learning_rate': 0.08561241147053517, 'n_estimators ': 35, 'gamma': 0.06617150040079228, 'reg_lambda': 4.9978476940656575, 'reg_alpha': 2.566004196460194, 'sub_sample': 0.5657598550790921, 'scale_pos_weight': 1.5214495759742164}.\n"
     ]
    },
    {
     "name": "stdout",
     "output_type": "stream",
     "text": [
      "{'max_depth': 3, 'learning_rate': 0.08724155183995361, 'n_estimators': 36, 'n_jobs': 4, 'gamma': 0.04816888036786241, 'reg_lambda': 4.999282156366291, 'reg_alpha': 2.27923522035593, 'sub_sample': 0.6014517278690948, 'scale_pos_weight': 1.8191516972397987}\n",
      "0.7366863905325441\n"
     ]
    },
    {
     "name": "stderr",
     "output_type": "stream",
     "text": [
      "[I 2019-08-22 10:46:31,566] Finished trial#139 resulted in value: -0.7366863905325441. Current best value is -0.7566215835446604 with parameters: {'max_depth': 4, 'learning_rate': 0.08561241147053517, 'n_estimators ': 35, 'gamma': 0.06617150040079228, 'reg_lambda': 4.9978476940656575, 'reg_alpha': 2.566004196460194, 'sub_sample': 0.5657598550790921, 'scale_pos_weight': 1.5214495759742164}.\n"
     ]
    },
    {
     "name": "stdout",
     "output_type": "stream",
     "text": [
      "{'max_depth': 4, 'learning_rate': 0.0961269565912507, 'n_estimators': 26, 'n_jobs': 4, 'gamma': 0.12501494221079834, 'reg_lambda': 4.8777894960447385, 'reg_alpha': 1.864275276812438, 'sub_sample': 0.5712538921468473, 'scale_pos_weight': 1.4549739985490544}\n",
      "0.7418286841363764\n"
     ]
    },
    {
     "name": "stderr",
     "output_type": "stream",
     "text": [
      "[I 2019-08-22 10:46:33,988] Finished trial#140 resulted in value: -0.7418286841363764. Current best value is -0.7566215835446604 with parameters: {'max_depth': 4, 'learning_rate': 0.08561241147053517, 'n_estimators ': 35, 'gamma': 0.06617150040079228, 'reg_lambda': 4.9978476940656575, 'reg_alpha': 2.566004196460194, 'sub_sample': 0.5657598550790921, 'scale_pos_weight': 1.5214495759742164}.\n"
     ]
    },
    {
     "name": "stdout",
     "output_type": "stream",
     "text": [
      "{'max_depth': 4, 'learning_rate': 0.0829501570106305, 'n_estimators': 29, 'n_jobs': 4, 'gamma': 0.06991871887233923, 'reg_lambda': 4.64501621875546, 'reg_alpha': 2.5424975575004995, 'sub_sample': 0.6515930390387166, 'scale_pos_weight': 1.2971363104775193}\n",
      "0.751761059453367\n"
     ]
    },
    {
     "name": "stderr",
     "output_type": "stream",
     "text": [
      "[I 2019-08-22 10:46:36,566] Finished trial#141 resulted in value: -0.751761059453367. Current best value is -0.7566215835446604 with parameters: {'max_depth': 4, 'learning_rate': 0.08561241147053517, 'n_estimators ': 35, 'gamma': 0.06617150040079228, 'reg_lambda': 4.9978476940656575, 'reg_alpha': 2.566004196460194, 'sub_sample': 0.5657598550790921, 'scale_pos_weight': 1.5214495759742164}.\n"
     ]
    },
    {
     "name": "stdout",
     "output_type": "stream",
     "text": [
      "{'max_depth': 4, 'learning_rate': 0.08339229428468606, 'n_estimators': 33, 'n_jobs': 4, 'gamma': 0.06879310167649268, 'reg_lambda': 4.769486007099181, 'reg_alpha': 2.4462247135490576, 'sub_sample': 0.5081915388529261, 'scale_pos_weight': 1.2632848619152481}\n",
      "0.7518315018315018\n"
     ]
    },
    {
     "name": "stderr",
     "output_type": "stream",
     "text": [
      "[I 2019-08-22 10:46:39,277] Finished trial#142 resulted in value: -0.7518315018315018. Current best value is -0.7566215835446604 with parameters: {'max_depth': 4, 'learning_rate': 0.08561241147053517, 'n_estimators ': 35, 'gamma': 0.06617150040079228, 'reg_lambda': 4.9978476940656575, 'reg_alpha': 2.566004196460194, 'sub_sample': 0.5657598550790921, 'scale_pos_weight': 1.5214495759742164}.\n"
     ]
    },
    {
     "name": "stdout",
     "output_type": "stream",
     "text": [
      "{'max_depth': 4, 'learning_rate': 0.08196929625793162, 'n_estimators': 37, 'n_jobs': 4, 'gamma': 0.0767322610218856, 'reg_lambda': 4.764246091303975, 'reg_alpha': 2.459647361569393, 'sub_sample': 0.5141666882414347, 'scale_pos_weight': 1.6166443784363371}\n",
      "0.7533107917723302\n"
     ]
    },
    {
     "name": "stderr",
     "output_type": "stream",
     "text": [
      "[I 2019-08-22 10:46:42,504] Finished trial#143 resulted in value: -0.7533107917723302. Current best value is -0.7566215835446604 with parameters: {'max_depth': 4, 'learning_rate': 0.08561241147053517, 'n_estimators ': 35, 'gamma': 0.06617150040079228, 'reg_lambda': 4.9978476940656575, 'reg_alpha': 2.566004196460194, 'sub_sample': 0.5657598550790921, 'scale_pos_weight': 1.5214495759742164}.\n"
     ]
    },
    {
     "name": "stdout",
     "output_type": "stream",
     "text": [
      "{'max_depth': 4, 'learning_rate': 0.08016717579191036, 'n_estimators': 38, 'n_jobs': 4, 'gamma': 0.08784688517508846, 'reg_lambda': 4.761505397413806, 'reg_alpha': 2.452166145534676, 'sub_sample': 0.48038126642881757, 'scale_pos_weight': 1.6811950250158914}\n",
      "0.7513384051845591\n"
     ]
    },
    {
     "name": "stderr",
     "output_type": "stream",
     "text": [
      "[I 2019-08-22 10:46:45,892] Finished trial#144 resulted in value: -0.7513384051845591. Current best value is -0.7566215835446604 with parameters: {'max_depth': 4, 'learning_rate': 0.08561241147053517, 'n_estimators ': 35, 'gamma': 0.06617150040079228, 'reg_lambda': 4.9978476940656575, 'reg_alpha': 2.566004196460194, 'sub_sample': 0.5657598550790921, 'scale_pos_weight': 1.5214495759742164}.\n"
     ]
    },
    {
     "name": "stdout",
     "output_type": "stream",
     "text": [
      "{'max_depth': 4, 'learning_rate': 0.08941158320724145, 'n_estimators': 43, 'n_jobs': 4, 'gamma': 0.10901522526163501, 'reg_lambda': 4.731798093989616, 'reg_alpha': 2.6042241284973997, 'sub_sample': 0.5138969757003888, 'scale_pos_weight': 1.5852805097502976}\n",
      "0.7454212454212453\n"
     ]
    },
    {
     "name": "stderr",
     "output_type": "stream",
     "text": [
      "[I 2019-08-22 10:46:49,423] Finished trial#145 resulted in value: -0.7454212454212453. Current best value is -0.7566215835446604 with parameters: {'max_depth': 4, 'learning_rate': 0.08561241147053517, 'n_estimators ': 35, 'gamma': 0.06617150040079228, 'reg_lambda': 4.9978476940656575, 'reg_alpha': 2.566004196460194, 'sub_sample': 0.5657598550790921, 'scale_pos_weight': 1.5214495759742164}.\n"
     ]
    },
    {
     "name": "stdout",
     "output_type": "stream",
     "text": [
      "{'max_depth': 4, 'learning_rate': 0.07983189141214916, 'n_estimators': 34, 'n_jobs': 4, 'gamma': 0.023875758326210514, 'reg_lambda': 4.822969517240231, 'reg_alpha': 2.202387306772854, 'sub_sample': 0.54995045079811, 'scale_pos_weight': 1.008995086612198}\n",
      "0.7558467173851788\n"
     ]
    },
    {
     "name": "stderr",
     "output_type": "stream",
     "text": [
      "[I 2019-08-22 10:46:52,205] Finished trial#146 resulted in value: -0.7558467173851788. Current best value is -0.7566215835446604 with parameters: {'max_depth': 4, 'learning_rate': 0.08561241147053517, 'n_estimators ': 35, 'gamma': 0.06617150040079228, 'reg_lambda': 4.9978476940656575, 'reg_alpha': 2.566004196460194, 'sub_sample': 0.5657598550790921, 'scale_pos_weight': 1.5214495759742164}.\n"
     ]
    },
    {
     "name": "stdout",
     "output_type": "stream",
     "text": [
      "{'max_depth': 4, 'learning_rate': 0.08632973868006019, 'n_estimators': 20, 'n_jobs': 4, 'gamma': 0.029313201962549502, 'reg_lambda': 4.6182712829821675, 'reg_alpha': 2.2070036378450055, 'sub_sample': 0.4866114844474606, 'scale_pos_weight': 1.0626784975712413}\n",
      "0.7417582417582418\n"
     ]
    },
    {
     "name": "stderr",
     "output_type": "stream",
     "text": [
      "[I 2019-08-22 10:46:54,090] Finished trial#147 resulted in value: -0.7417582417582418. Current best value is -0.7566215835446604 with parameters: {'max_depth': 4, 'learning_rate': 0.08561241147053517, 'n_estimators ': 35, 'gamma': 0.06617150040079228, 'reg_lambda': 4.9978476940656575, 'reg_alpha': 2.566004196460194, 'sub_sample': 0.5657598550790921, 'scale_pos_weight': 1.5214495759742164}.\n"
     ]
    },
    {
     "name": "stdout",
     "output_type": "stream",
     "text": [
      "{'max_depth': 3, 'learning_rate': 0.08084564527305291, 'n_estimators': 34, 'n_jobs': 4, 'gamma': 0.004703959403714743, 'reg_lambda': 0.5698054159675068, 'reg_alpha': 2.4305549495305296, 'sub_sample': 0.5171623867972293, 'scale_pos_weight': 1.1679501949809912}\n",
      "0.7320371935756551\n"
     ]
    },
    {
     "name": "stderr",
     "output_type": "stream",
     "text": [
      "[I 2019-08-22 10:46:56,371] Finished trial#148 resulted in value: -0.7320371935756551. Current best value is -0.7566215835446604 with parameters: {'max_depth': 4, 'learning_rate': 0.08561241147053517, 'n_estimators ': 35, 'gamma': 0.06617150040079228, 'reg_lambda': 4.9978476940656575, 'reg_alpha': 2.566004196460194, 'sub_sample': 0.5657598550790921, 'scale_pos_weight': 1.5214495759742164}.\n"
     ]
    },
    {
     "name": "stdout",
     "output_type": "stream",
     "text": [
      "{'max_depth': 4, 'learning_rate': 0.0921747795054152, 'n_estimators': 37, 'n_jobs': 4, 'gamma': 0.03144406192593702, 'reg_lambda': 4.458137167970544, 'reg_alpha': 2.4929020931266344, 'sub_sample': 0.5416901568918575, 'scale_pos_weight': 1.4940415829385576}\n",
      "0.748661594815441\n"
     ]
    },
    {
     "name": "stderr",
     "output_type": "stream",
     "text": [
      "[I 2019-08-22 10:46:59,569] Finished trial#149 resulted in value: -0.748661594815441. Current best value is -0.7566215835446604 with parameters: {'max_depth': 4, 'learning_rate': 0.08561241147053517, 'n_estimators ': 35, 'gamma': 0.06617150040079228, 'reg_lambda': 4.9978476940656575, 'reg_alpha': 2.566004196460194, 'sub_sample': 0.5657598550790921, 'scale_pos_weight': 1.5214495759742164}.\n"
     ]
    },
    {
     "name": "stdout",
     "output_type": "stream",
     "text": [
      "{'max_depth': 4, 'learning_rate': 0.08278044840825972, 'n_estimators': 40, 'n_jobs': 4, 'gamma': 0.061458313070986, 'reg_lambda': 4.830903585530021, 'reg_alpha': 2.1170771377357145, 'sub_sample': 0.454904029868845, 'scale_pos_weight': 1.0119730760507117}\n",
      "0.7579599887292195\n"
     ]
    },
    {
     "name": "stderr",
     "output_type": "stream",
     "text": [
      "[I 2019-08-22 10:47:03,527] Finished trial#150 resulted in value: -0.7579599887292195. Current best value is -0.7579599887292195 with parameters: {'max_depth': 4, 'learning_rate': 0.08278044840825972, 'n_estimators ': 40, 'gamma': 0.061458313070986, 'reg_lambda': 4.830903585530021, 'reg_alpha': 2.1170771377357145, 'sub_sample': 0.454904029868845, 'scale_pos_weight': 1.0119730760507117}.\n"
     ]
    },
    {
     "name": "stdout",
     "output_type": "stream",
     "text": [
      "{'max_depth': 4, 'learning_rate': 0.08344901549284361, 'n_estimators': 41, 'n_jobs': 4, 'gamma': 0.06101638913190213, 'reg_lambda': 4.855459348513761, 'reg_alpha': 2.1167158796821464, 'sub_sample': 0.38941709357688886, 'scale_pos_weight': 1.0115206818667055}\n",
      "0.7528881375035222\n"
     ]
    },
    {
     "name": "stderr",
     "output_type": "stream",
     "text": [
      "[I 2019-08-22 10:47:06,807] Finished trial#151 resulted in value: -0.7528881375035222. Current best value is -0.7579599887292195 with parameters: {'max_depth': 4, 'learning_rate': 0.08278044840825972, 'n_estimators ': 40, 'gamma': 0.061458313070986, 'reg_lambda': 4.830903585530021, 'reg_alpha': 2.1170771377357145, 'sub_sample': 0.454904029868845, 'scale_pos_weight': 1.0119730760507117}.\n"
     ]
    },
    {
     "name": "stdout",
     "output_type": "stream",
     "text": [
      "{'max_depth': 4, 'learning_rate': 0.07935291285004414, 'n_estimators': 41, 'n_jobs': 4, 'gamma': 0.06000946683699144, 'reg_lambda': 4.844256592402246, 'reg_alpha': 2.097255942087046, 'sub_sample': 0.377963942630483, 'scale_pos_weight': 1.0321525610780595}\n",
      "0.7546491969568891\n"
     ]
    },
    {
     "name": "stderr",
     "output_type": "stream",
     "text": [
      "[I 2019-08-22 10:47:10,222] Finished trial#152 resulted in value: -0.7546491969568891. Current best value is -0.7579599887292195 with parameters: {'max_depth': 4, 'learning_rate': 0.08278044840825972, 'n_estimators ': 40, 'gamma': 0.061458313070986, 'reg_lambda': 4.830903585530021, 'reg_alpha': 2.1170771377357145, 'sub_sample': 0.454904029868845, 'scale_pos_weight': 1.0119730760507117}.\n"
     ]
    },
    {
     "name": "stdout",
     "output_type": "stream",
     "text": [
      "{'max_depth': 4, 'learning_rate': 0.07994928592367118, 'n_estimators': 41, 'n_jobs': 4, 'gamma': 0.01928135928284032, 'reg_lambda': 4.984905060416013, 'reg_alpha': 1.9753851065907329, 'sub_sample': 0.335072168481599, 'scale_pos_weight': 1.0463590793009343}\n",
      "0.7528881375035219\n"
     ]
    },
    {
     "name": "stderr",
     "output_type": "stream",
     "text": [
      "[I 2019-08-22 10:47:13,678] Finished trial#153 resulted in value: -0.7528881375035219. Current best value is -0.7579599887292195 with parameters: {'max_depth': 4, 'learning_rate': 0.08278044840825972, 'n_estimators ': 40, 'gamma': 0.061458313070986, 'reg_lambda': 4.830903585530021, 'reg_alpha': 2.1170771377357145, 'sub_sample': 0.454904029868845, 'scale_pos_weight': 1.0119730760507117}.\n"
     ]
    },
    {
     "name": "stdout",
     "output_type": "stream",
     "text": [
      "{'max_depth': 4, 'learning_rate': 0.08728466784197068, 'n_estimators': 41, 'n_jobs': 4, 'gamma': 0.013662092951670403, 'reg_lambda': 4.999191677692924, 'reg_alpha': 1.996104970473719, 'sub_sample': 0.3827857978708451, 'scale_pos_weight': 1.0354940143402824}\n",
      "0.7472527472527473\n"
     ]
    },
    {
     "name": "stderr",
     "output_type": "stream",
     "text": [
      "[I 2019-08-22 10:47:17,311] Finished trial#154 resulted in value: -0.7472527472527473. Current best value is -0.7579599887292195 with parameters: {'max_depth': 4, 'learning_rate': 0.08278044840825972, 'n_estimators ': 40, 'gamma': 0.061458313070986, 'reg_lambda': 4.830903585530021, 'reg_alpha': 2.1170771377357145, 'sub_sample': 0.454904029868845, 'scale_pos_weight': 1.0119730760507117}.\n"
     ]
    },
    {
     "name": "stdout",
     "output_type": "stream",
     "text": [
      "{'max_depth': 4, 'learning_rate': 0.07972420791379009, 'n_estimators': 25, 'n_jobs': 4, 'gamma': 0.04937842302035064, 'reg_lambda': 4.892196440493773, 'reg_alpha': 2.112210013219299, 'sub_sample': 0.3355534357461719, 'scale_pos_weight': 1.031836079752238}\n",
      "0.7527472527472527\n"
     ]
    },
    {
     "name": "stderr",
     "output_type": "stream",
     "text": [
      "[I 2019-08-22 10:47:19,558] Finished trial#155 resulted in value: -0.7527472527472527. Current best value is -0.7579599887292195 with parameters: {'max_depth': 4, 'learning_rate': 0.08278044840825972, 'n_estimators ': 40, 'gamma': 0.061458313070986, 'reg_lambda': 4.830903585530021, 'reg_alpha': 2.1170771377357145, 'sub_sample': 0.454904029868845, 'scale_pos_weight': 1.0119730760507117}.\n"
     ]
    },
    {
     "name": "stdout",
     "output_type": "stream",
     "text": [
      "{'max_depth': 3, 'learning_rate': 0.08370693897819427, 'n_estimators': 41, 'n_jobs': 4, 'gamma': 0.023420665433173803, 'reg_lambda': 4.688257234138916, 'reg_alpha': 1.9426417406525749, 'sub_sample': 0.3133615176506102, 'scale_pos_weight': 1.0007194360812632}\n",
      "0.7295717103409411\n"
     ]
    },
    {
     "name": "stderr",
     "output_type": "stream",
     "text": [
      "[I 2019-08-22 10:47:22,308] Finished trial#156 resulted in value: -0.7295717103409411. Current best value is -0.7579599887292195 with parameters: {'max_depth': 4, 'learning_rate': 0.08278044840825972, 'n_estimators ': 40, 'gamma': 0.061458313070986, 'reg_lambda': 4.830903585530021, 'reg_alpha': 2.1170771377357145, 'sub_sample': 0.454904029868845, 'scale_pos_weight': 1.0119730760507117}.\n"
     ]
    },
    {
     "name": "stdout",
     "output_type": "stream",
     "text": [
      "{'max_depth': 4, 'learning_rate': 0.09040216863313201, 'n_estimators': 29, 'n_jobs': 4, 'gamma': 0.09451278341855049, 'reg_lambda': 4.863752282614453, 'reg_alpha': 2.1427517758880543, 'sub_sample': 0.3897778602707534, 'scale_pos_weight': 1.0049756252247797}\n",
      "0.7516201746970977\n"
     ]
    },
    {
     "name": "stderr",
     "output_type": "stream",
     "text": [
      "[I 2019-08-22 10:47:24,921] Finished trial#157 resulted in value: -0.7516201746970977. Current best value is -0.7579599887292195 with parameters: {'max_depth': 4, 'learning_rate': 0.08278044840825972, 'n_estimators ': 40, 'gamma': 0.061458313070986, 'reg_lambda': 4.830903585530021, 'reg_alpha': 2.1170771377357145, 'sub_sample': 0.454904029868845, 'scale_pos_weight': 1.0119730760507117}.\n"
     ]
    },
    {
     "name": "stdout",
     "output_type": "stream",
     "text": [
      "{'max_depth': 4, 'learning_rate': 0.08110712840263581, 'n_estimators': 45, 'n_jobs': 4, 'gamma': 0.05394838461969742, 'reg_lambda': 4.958776812500169, 'reg_alpha': 2.040338515334128, 'sub_sample': 0.416071251246219, 'scale_pos_weight': 1.1642308079616788}\n",
      "0.7550014088475627\n"
     ]
    },
    {
     "name": "stderr",
     "output_type": "stream",
     "text": [
      "[I 2019-08-22 10:47:28,451] Finished trial#158 resulted in value: -0.7550014088475627. Current best value is -0.7579599887292195 with parameters: {'max_depth': 4, 'learning_rate': 0.08278044840825972, 'n_estimators ': 40, 'gamma': 0.061458313070986, 'reg_lambda': 4.830903585530021, 'reg_alpha': 2.1170771377357145, 'sub_sample': 0.454904029868845, 'scale_pos_weight': 1.0119730760507117}.\n"
     ]
    },
    {
     "name": "stdout",
     "output_type": "stream",
     "text": [
      "{'max_depth': 4, 'learning_rate': 0.09520366825520109, 'n_estimators': 46, 'n_jobs': 4, 'gamma': 0.05567749735129466, 'reg_lambda': 4.853354154327407, 'reg_alpha': 1.8679243586577043, 'sub_sample': 0.40386240926773176, 'scale_pos_weight': 1.220806631263867}\n",
      "0.7472527472527473\n"
     ]
    },
    {
     "name": "stderr",
     "output_type": "stream",
     "text": [
      "[I 2019-08-22 10:47:32,252] Finished trial#159 resulted in value: -0.7472527472527473. Current best value is -0.7579599887292195 with parameters: {'max_depth': 4, 'learning_rate': 0.08278044840825972, 'n_estimators ': 40, 'gamma': 0.061458313070986, 'reg_lambda': 4.830903585530021, 'reg_alpha': 2.1170771377357145, 'sub_sample': 0.454904029868845, 'scale_pos_weight': 1.0119730760507117}.\n"
     ]
    },
    {
     "name": "stdout",
     "output_type": "stream",
     "text": [
      "{'max_depth': 3, 'learning_rate': 0.08547478141013208, 'n_estimators': 30, 'n_jobs': 4, 'gamma': 0.0007797161061769559, 'reg_lambda': 4.69876667270961, 'reg_alpha': 2.075497116008134, 'sub_sample': 0.3709947795571181, 'scale_pos_weight': 1.7934805902687025}\n",
      "0.7351366582135813\n"
     ]
    },
    {
     "name": "stderr",
     "output_type": "stream",
     "text": [
      "[I 2019-08-22 10:47:34,529] Finished trial#160 resulted in value: -0.7351366582135813. Current best value is -0.7579599887292195 with parameters: {'max_depth': 4, 'learning_rate': 0.08278044840825972, 'n_estimators ': 40, 'gamma': 0.061458313070986, 'reg_lambda': 4.830903585530021, 'reg_alpha': 2.1170771377357145, 'sub_sample': 0.454904029868845, 'scale_pos_weight': 1.0119730760507117}.\n"
     ]
    },
    {
     "name": "stdout",
     "output_type": "stream",
     "text": [
      "{'max_depth': 4, 'learning_rate': 0.07921738539228527, 'n_estimators': 40, 'n_jobs': 4, 'gamma': 0.03839989204115693, 'reg_lambda': 4.983820526939244, 'reg_alpha': 1.9853212591114413, 'sub_sample': 0.4161355556791536, 'scale_pos_weight': 1.0106578636846526}\n",
      "0.7528176951253873\n"
     ]
    },
    {
     "name": "stderr",
     "output_type": "stream",
     "text": [
      "[I 2019-08-22 10:47:37,723] Finished trial#161 resulted in value: -0.7528176951253873. Current best value is -0.7579599887292195 with parameters: {'max_depth': 4, 'learning_rate': 0.08278044840825972, 'n_estimators ': 40, 'gamma': 0.061458313070986, 'reg_lambda': 4.830903585530021, 'reg_alpha': 2.1170771377357145, 'sub_sample': 0.454904029868845, 'scale_pos_weight': 1.0119730760507117}.\n"
     ]
    },
    {
     "name": "stdout",
     "output_type": "stream",
     "text": [
      "{'max_depth': 4, 'learning_rate': 0.08125298712004493, 'n_estimators': 44, 'n_jobs': 4, 'gamma': 0.08089166980933016, 'reg_lambda': 4.910461723232084, 'reg_alpha': 2.2374370117239684, 'sub_sample': 0.44514229786124787, 'scale_pos_weight': 1.2154340092291274}\n",
      "0.7558467173851788\n"
     ]
    },
    {
     "name": "stderr",
     "output_type": "stream",
     "text": [
      "[I 2019-08-22 10:47:41,157] Finished trial#162 resulted in value: -0.7558467173851788. Current best value is -0.7579599887292195 with parameters: {'max_depth': 4, 'learning_rate': 0.08278044840825972, 'n_estimators ': 40, 'gamma': 0.061458313070986, 'reg_lambda': 4.830903585530021, 'reg_alpha': 2.1170771377357145, 'sub_sample': 0.454904029868845, 'scale_pos_weight': 1.0119730760507117}.\n"
     ]
    },
    {
     "name": "stdout",
     "output_type": "stream",
     "text": [
      "{'max_depth': 4, 'learning_rate': 0.08248181484134208, 'n_estimators': 46, 'n_jobs': 4, 'gamma': 0.09152322898899523, 'reg_lambda': 4.810933498327746, 'reg_alpha': 2.219875852829067, 'sub_sample': 0.4395714649560927, 'scale_pos_weight': 1.4838308551561328}\n",
      "0.7525359256128487\n"
     ]
    },
    {
     "name": "stderr",
     "output_type": "stream",
     "text": [
      "[I 2019-08-22 10:47:44,855] Finished trial#163 resulted in value: -0.7525359256128487. Current best value is -0.7579599887292195 with parameters: {'max_depth': 4, 'learning_rate': 0.08278044840825972, 'n_estimators ': 40, 'gamma': 0.061458313070986, 'reg_lambda': 4.830903585530021, 'reg_alpha': 2.1170771377357145, 'sub_sample': 0.454904029868845, 'scale_pos_weight': 1.0119730760507117}.\n"
     ]
    },
    {
     "name": "stdout",
     "output_type": "stream",
     "text": [
      "{'max_depth': 4, 'learning_rate': 0.08848164300426432, 'n_estimators': 44, 'n_jobs': 4, 'gamma': 0.06061146069154518, 'reg_lambda': 4.925327759125325, 'reg_alpha': 2.160723687914346, 'sub_sample': 0.4647359708712558, 'scale_pos_weight': 1.2311781512663418}\n",
      "0.7588052972668357\n"
     ]
    },
    {
     "name": "stderr",
     "output_type": "stream",
     "text": [
      "[I 2019-08-22 10:47:48,721] Finished trial#164 resulted in value: -0.7588052972668357. Current best value is -0.7588052972668357 with parameters: {'max_depth': 4, 'learning_rate': 0.08848164300426432, 'n_estimators ': 44, 'gamma': 0.06061146069154518, 'reg_lambda': 4.925327759125325, 'reg_alpha': 2.160723687914346, 'sub_sample': 0.4647359708712558, 'scale_pos_weight': 1.2311781512663418}.\n"
     ]
    },
    {
     "name": "stdout",
     "output_type": "stream",
     "text": [
      "{'max_depth': 4, 'learning_rate': 0.08867134117590261, 'n_estimators': 34, 'n_jobs': 4, 'gamma': 0.08236549356722096, 'reg_lambda': 4.924869053117796, 'reg_alpha': 2.246657346977199, 'sub_sample': 0.4656589322951397, 'scale_pos_weight': 1.6220594154619021}\n",
      "0.7519019442096364\n"
     ]
    },
    {
     "name": "stderr",
     "output_type": "stream",
     "text": [
      "[I 2019-08-22 10:47:51,590] Finished trial#165 resulted in value: -0.7519019442096364. Current best value is -0.7588052972668357 with parameters: {'max_depth': 4, 'learning_rate': 0.08848164300426432, 'n_estimators ': 44, 'gamma': 0.06061146069154518, 'reg_lambda': 4.925327759125325, 'reg_alpha': 2.160723687914346, 'sub_sample': 0.4647359708712558, 'scale_pos_weight': 1.2311781512663418}.\n"
     ]
    },
    {
     "name": "stdout",
     "output_type": "stream",
     "text": [
      "{'max_depth': 4, 'learning_rate': 0.08663741477257357, 'n_estimators': 138, 'n_jobs': 4, 'gamma': 0.03942129243841837, 'reg_lambda': 4.642640236474021, 'reg_alpha': 2.1856238908177272, 'sub_sample': 0.4461650921491803, 'scale_pos_weight': 1.2391745580444429}\n",
      "0.7462665539588617\n"
     ]
    },
    {
     "name": "stderr",
     "output_type": "stream",
     "text": [
      "[I 2019-08-22 10:47:56,557] Finished trial#166 resulted in value: -0.7462665539588617. Current best value is -0.7588052972668357 with parameters: {'max_depth': 4, 'learning_rate': 0.08848164300426432, 'n_estimators ': 44, 'gamma': 0.06061146069154518, 'reg_lambda': 4.925327759125325, 'reg_alpha': 2.160723687914346, 'sub_sample': 0.4647359708712558, 'scale_pos_weight': 1.2311781512663418}.\n"
     ]
    },
    {
     "name": "stdout",
     "output_type": "stream",
     "text": [
      "{'max_depth': 4, 'learning_rate': 0.09150554339275369, 'n_estimators': 44, 'n_jobs': 4, 'gamma': 0.10580520548416042, 'reg_lambda': 4.999899225524558, 'reg_alpha': 2.039239556077123, 'sub_sample': 0.4760179845695138, 'scale_pos_weight': 1.4069884426782022}\n",
      "0.7536630036630036\n"
     ]
    },
    {
     "name": "stderr",
     "output_type": "stream",
     "text": [
      "[I 2019-08-22 10:48:00,189] Finished trial#167 resulted in value: -0.7536630036630036. Current best value is -0.7588052972668357 with parameters: {'max_depth': 4, 'learning_rate': 0.08848164300426432, 'n_estimators ': 44, 'gamma': 0.06061146069154518, 'reg_lambda': 4.925327759125325, 'reg_alpha': 2.160723687914346, 'sub_sample': 0.4647359708712558, 'scale_pos_weight': 1.2311781512663418}.\n"
     ]
    },
    {
     "name": "stdout",
     "output_type": "stream",
     "text": [
      "{'max_depth': 3, 'learning_rate': 0.09286821834775044, 'n_estimators': 53, 'n_jobs': 4, 'gamma': 0.1095381764135279, 'reg_lambda': 4.740673094850485, 'reg_alpha': 2.126791731604365, 'sub_sample': 0.4254595078285979, 'scale_pos_weight': 1.4202410188288077}\n",
      "0.7420400112707803\n"
     ]
    },
    {
     "name": "stderr",
     "output_type": "stream",
     "text": [
      "[I 2019-08-22 10:48:03,834] Finished trial#168 resulted in value: -0.7420400112707803. Current best value is -0.7588052972668357 with parameters: {'max_depth': 4, 'learning_rate': 0.08848164300426432, 'n_estimators ': 44, 'gamma': 0.06061146069154518, 'reg_lambda': 4.925327759125325, 'reg_alpha': 2.160723687914346, 'sub_sample': 0.4647359708712558, 'scale_pos_weight': 1.2311781512663418}.\n"
     ]
    },
    {
     "name": "stdout",
     "output_type": "stream",
     "text": [
      "{'max_depth': 4, 'learning_rate': 0.07426957586878033, 'n_estimators': 46, 'n_jobs': 4, 'gamma': 0.0795881238305845, 'reg_lambda': 4.541412832219344, 'reg_alpha': 2.0363097543215147, 'sub_sample': 0.4662898504879899, 'scale_pos_weight': 1.7375607403742306}\n",
      "0.741476472245703\n"
     ]
    },
    {
     "name": "stderr",
     "output_type": "stream",
     "text": [
      "[I 2019-08-22 10:48:07,523] Finished trial#169 resulted in value: -0.741476472245703. Current best value is -0.7588052972668357 with parameters: {'max_depth': 4, 'learning_rate': 0.08848164300426432, 'n_estimators ': 44, 'gamma': 0.06061146069154518, 'reg_lambda': 4.925327759125325, 'reg_alpha': 2.160723687914346, 'sub_sample': 0.4647359708712558, 'scale_pos_weight': 1.2311781512663418}.\n"
     ]
    },
    {
     "name": "stdout",
     "output_type": "stream",
     "text": [
      "{'max_depth': 4, 'learning_rate': 0.09055190362664119, 'n_estimators': 44, 'n_jobs': 4, 'gamma': 0.13256196389470387, 'reg_lambda': 4.717248962937484, 'reg_alpha': 2.296323672044826, 'sub_sample': 0.4863685127369116, 'scale_pos_weight': 1.5563879341588494}\n",
      "0.749084249084249\n"
     ]
    },
    {
     "name": "stderr",
     "output_type": "stream",
     "text": [
      "[I 2019-08-22 10:48:11,090] Finished trial#170 resulted in value: -0.749084249084249. Current best value is -0.7588052972668357 with parameters: {'max_depth': 4, 'learning_rate': 0.08848164300426432, 'n_estimators ': 44, 'gamma': 0.06061146069154518, 'reg_lambda': 4.925327759125325, 'reg_alpha': 2.160723687914346, 'sub_sample': 0.4647359708712558, 'scale_pos_weight': 1.2311781512663418}.\n"
     ]
    },
    {
     "name": "stdout",
     "output_type": "stream",
     "text": [
      "{'max_depth': 4, 'learning_rate': 0.10815516495005732, 'n_estimators': 37, 'n_jobs': 4, 'gamma': 0.05824649518585637, 'reg_lambda': 4.979667469652412, 'reg_alpha': 2.048291783151081, 'sub_sample': 0.47489402397875263, 'scale_pos_weight': 1.2177052772261392}\n",
      "0.755142293603832\n"
     ]
    },
    {
     "name": "stderr",
     "output_type": "stream",
     "text": [
      "[I 2019-08-22 10:48:13,958] Finished trial#171 resulted in value: -0.755142293603832. Current best value is -0.7588052972668357 with parameters: {'max_depth': 4, 'learning_rate': 0.08848164300426432, 'n_estimators ': 44, 'gamma': 0.06061146069154518, 'reg_lambda': 4.925327759125325, 'reg_alpha': 2.160723687914346, 'sub_sample': 0.4647359708712558, 'scale_pos_weight': 1.2311781512663418}.\n"
     ]
    },
    {
     "name": "stdout",
     "output_type": "stream",
     "text": [
      "{'max_depth': 4, 'learning_rate': 0.09853466869481041, 'n_estimators': 39, 'n_jobs': 4, 'gamma': 0.06513724055754216, 'reg_lambda': 4.901048057907489, 'reg_alpha': 2.0647288472204606, 'sub_sample': 0.47349319151580066, 'scale_pos_weight': 1.1836291348787353}\n",
      "0.7560580445195829\n"
     ]
    },
    {
     "name": "stderr",
     "output_type": "stream",
     "text": [
      "[I 2019-08-22 10:48:17,008] Finished trial#172 resulted in value: -0.7560580445195829. Current best value is -0.7588052972668357 with parameters: {'max_depth': 4, 'learning_rate': 0.08848164300426432, 'n_estimators ': 44, 'gamma': 0.06061146069154518, 'reg_lambda': 4.925327759125325, 'reg_alpha': 2.160723687914346, 'sub_sample': 0.4647359708712558, 'scale_pos_weight': 1.2311781512663418}.\n"
     ]
    },
    {
     "name": "stdout",
     "output_type": "stream",
     "text": [
      "{'max_depth': 4, 'learning_rate': 0.11798561521682753, 'n_estimators': 44, 'n_jobs': 4, 'gamma': 0.06317325302612056, 'reg_lambda': 4.9177611219846025, 'reg_alpha': 2.0396077504547976, 'sub_sample': 0.45251919683728653, 'scale_pos_weight': 1.188752091182736}\n",
      "0.750211327134404\n"
     ]
    },
    {
     "name": "stderr",
     "output_type": "stream",
     "text": [
      "[I 2019-08-22 10:48:20,404] Finished trial#173 resulted in value: -0.750211327134404. Current best value is -0.7588052972668357 with parameters: {'max_depth': 4, 'learning_rate': 0.08848164300426432, 'n_estimators ': 44, 'gamma': 0.06061146069154518, 'reg_lambda': 4.925327759125325, 'reg_alpha': 2.160723687914346, 'sub_sample': 0.4647359708712558, 'scale_pos_weight': 1.2311781512663418}.\n"
     ]
    },
    {
     "name": "stdout",
     "output_type": "stream",
     "text": [
      "{'max_depth': 4, 'learning_rate': 0.09431207949556174, 'n_estimators': 49, 'n_jobs': 4, 'gamma': 0.09675918734670969, 'reg_lambda': 4.9875430255203534, 'reg_alpha': 1.8885815477543433, 'sub_sample': 0.47455625654793565, 'scale_pos_weight': 1.172890480417182}\n",
      "0.7519723865877711\n"
     ]
    },
    {
     "name": "stderr",
     "output_type": "stream",
     "text": [
      "[I 2019-08-22 10:48:24,125] Finished trial#174 resulted in value: -0.7519723865877711. Current best value is -0.7588052972668357 with parameters: {'max_depth': 4, 'learning_rate': 0.08848164300426432, 'n_estimators ': 44, 'gamma': 0.06061146069154518, 'reg_lambda': 4.925327759125325, 'reg_alpha': 2.160723687914346, 'sub_sample': 0.4647359708712558, 'scale_pos_weight': 1.2311781512663418}.\n"
     ]
    },
    {
     "name": "stdout",
     "output_type": "stream",
     "text": [
      "{'max_depth': 4, 'learning_rate': 0.10961675335867943, 'n_estimators': 37, 'n_jobs': 4, 'gamma': 0.028864910733830518, 'reg_lambda': 1.6156598633413561, 'reg_alpha': 1.7623765562449556, 'sub_sample': 0.4274591903664358, 'scale_pos_weight': 1.3426311728490956}\n",
      "0.7423217807833192\n"
     ]
    },
    {
     "name": "stderr",
     "output_type": "stream",
     "text": [
      "[I 2019-08-22 10:48:27,074] Finished trial#175 resulted in value: -0.7423217807833192. Current best value is -0.7588052972668357 with parameters: {'max_depth': 4, 'learning_rate': 0.08848164300426432, 'n_estimators ': 44, 'gamma': 0.06061146069154518, 'reg_lambda': 4.925327759125325, 'reg_alpha': 2.160723687914346, 'sub_sample': 0.4647359708712558, 'scale_pos_weight': 1.2311781512663418}.\n"
     ]
    },
    {
     "name": "stdout",
     "output_type": "stream",
     "text": [
      "{'max_depth': 4, 'learning_rate': 0.09779763836659268, 'n_estimators': 26, 'n_jobs': 4, 'gamma': 0.059965453549469507, 'reg_lambda': 4.834043310398224, 'reg_alpha': 1.5666338944097176, 'sub_sample': 0.4954098955269462, 'scale_pos_weight': 1.411756640164775}\n",
      "0.7444350521273598\n"
     ]
    },
    {
     "name": "stderr",
     "output_type": "stream",
     "text": [
      "[I 2019-08-22 10:48:29,475] Finished trial#176 resulted in value: -0.7444350521273598. Current best value is -0.7588052972668357 with parameters: {'max_depth': 4, 'learning_rate': 0.08848164300426432, 'n_estimators ': 44, 'gamma': 0.06061146069154518, 'reg_lambda': 4.925327759125325, 'reg_alpha': 2.160723687914346, 'sub_sample': 0.4647359708712558, 'scale_pos_weight': 1.2311781512663418}.\n"
     ]
    },
    {
     "name": "stdout",
     "output_type": "stream",
     "text": [
      "{'max_depth': 4, 'learning_rate': 0.10602917249623489, 'n_estimators': 40, 'n_jobs': 4, 'gamma': 0.08675153195242749, 'reg_lambda': 4.912760745152636, 'reg_alpha': 2.1597881949191704, 'sub_sample': 0.4106204218901709, 'scale_pos_weight': 1.152939791079907}\n",
      "0.7525359256128487\n"
     ]
    },
    {
     "name": "stderr",
     "output_type": "stream",
     "text": [
      "[I 2019-08-22 10:48:32,558] Finished trial#177 resulted in value: -0.7525359256128487. Current best value is -0.7588052972668357 with parameters: {'max_depth': 4, 'learning_rate': 0.08848164300426432, 'n_estimators ': 44, 'gamma': 0.06061146069154518, 'reg_lambda': 4.925327759125325, 'reg_alpha': 2.160723687914346, 'sub_sample': 0.4647359708712558, 'scale_pos_weight': 1.2311781512663418}.\n"
     ]
    },
    {
     "name": "stdout",
     "output_type": "stream",
     "text": [
      "{'max_depth': 3, 'learning_rate': 0.08856476390642287, 'n_estimators': 32, 'n_jobs': 4, 'gamma': 0.10960651659779916, 'reg_lambda': 4.655301189899679, 'reg_alpha': 2.069120552441467, 'sub_sample': 0.46851491650413746, 'scale_pos_weight': 5.7717922275055}\n",
      "0.7247111862496479\n"
     ]
    },
    {
     "name": "stderr",
     "output_type": "stream",
     "text": [
      "[I 2019-08-22 10:48:35,022] Finished trial#178 resulted in value: -0.7247111862496479. Current best value is -0.7588052972668357 with parameters: {'max_depth': 4, 'learning_rate': 0.08848164300426432, 'n_estimators ': 44, 'gamma': 0.06061146069154518, 'reg_lambda': 4.925327759125325, 'reg_alpha': 2.160723687914346, 'sub_sample': 0.4647359708712558, 'scale_pos_weight': 1.2311781512663418}.\n"
     ]
    },
    {
     "name": "stdout",
     "output_type": "stream",
     "text": [
      "{'max_depth': 4, 'learning_rate': 0.0919595421014531, 'n_estimators': 29, 'n_jobs': 4, 'gamma': 0.042473093391195316, 'reg_lambda': 4.997716151890299, 'reg_alpha': 2.0226683726574017, 'sub_sample': 0.4415655181060485, 'scale_pos_weight': 1.2011818540904367}\n",
      "0.7475345167652859\n"
     ]
    },
    {
     "name": "stderr",
     "output_type": "stream",
     "text": [
      "[I 2019-08-22 10:48:37,691] Finished trial#179 resulted in value: -0.7475345167652859. Current best value is -0.7588052972668357 with parameters: {'max_depth': 4, 'learning_rate': 0.08848164300426432, 'n_estimators ': 44, 'gamma': 0.06061146069154518, 'reg_lambda': 4.925327759125325, 'reg_alpha': 2.160723687914346, 'sub_sample': 0.4647359708712558, 'scale_pos_weight': 1.2311781512663418}.\n"
     ]
    },
    {
     "name": "stdout",
     "output_type": "stream",
     "text": [
      "{'max_depth': 4, 'learning_rate': 0.09695832745457102, 'n_estimators': 35, 'n_jobs': 4, 'gamma': 0.013378880403126639, 'reg_lambda': 4.487834978999679, 'reg_alpha': 2.1877892699951844, 'sub_sample': 0.5598290778533207, 'scale_pos_weight': 1.0134002030110942}\n",
      "0.7532403493941955\n"
     ]
    },
    {
     "name": "stderr",
     "output_type": "stream",
     "text": [
      "[I 2019-08-22 10:48:40,473] Finished trial#180 resulted in value: -0.7532403493941955. Current best value is -0.7588052972668357 with parameters: {'max_depth': 4, 'learning_rate': 0.08848164300426432, 'n_estimators ': 44, 'gamma': 0.06061146069154518, 'reg_lambda': 4.925327759125325, 'reg_alpha': 2.160723687914346, 'sub_sample': 0.4647359708712558, 'scale_pos_weight': 1.2311781512663418}.\n"
     ]
    },
    {
     "name": "stdout",
     "output_type": "stream",
     "text": [
      "{'max_depth': 4, 'learning_rate': 0.08153436641285514, 'n_estimators': 38, 'n_jobs': 4, 'gamma': 0.06930887185043189, 'reg_lambda': 4.775932368818793, 'reg_alpha': 2.0979333281834154, 'sub_sample': 0.5172896095196355, 'scale_pos_weight': 1.601286121331504}\n",
      "0.7399267399267399\n"
     ]
    },
    {
     "name": "stderr",
     "output_type": "stream",
     "text": [
      "[I 2019-08-22 10:48:43,558] Finished trial#181 resulted in value: -0.7399267399267399. Current best value is -0.7588052972668357 with parameters: {'max_depth': 4, 'learning_rate': 0.08848164300426432, 'n_estimators ': 44, 'gamma': 0.06061146069154518, 'reg_lambda': 4.925327759125325, 'reg_alpha': 2.160723687914346, 'sub_sample': 0.4647359708712558, 'scale_pos_weight': 1.2311781512663418}.\n"
     ]
    },
    {
     "name": "stdout",
     "output_type": "stream",
     "text": [
      "{'max_depth': 4, 'learning_rate': 0.1008225209567807, 'n_estimators': 44, 'n_jobs': 4, 'gamma': 0.07982912182185187, 'reg_lambda': 4.800642532295221, 'reg_alpha': 2.229830081855764, 'sub_sample': 0.4898428622413365, 'scale_pos_weight': 1.8388585266827888}\n",
      "0.7431670893209354\n"
     ]
    },
    {
     "name": "stderr",
     "output_type": "stream",
     "text": [
      "[I 2019-08-22 10:48:47,115] Finished trial#182 resulted in value: -0.7431670893209354. Current best value is -0.7588052972668357 with parameters: {'max_depth': 4, 'learning_rate': 0.08848164300426432, 'n_estimators ': 44, 'gamma': 0.06061146069154518, 'reg_lambda': 4.925327759125325, 'reg_alpha': 2.160723687914346, 'sub_sample': 0.4647359708712558, 'scale_pos_weight': 1.2311781512663418}.\n"
     ]
    },
    {
     "name": "stdout",
     "output_type": "stream",
     "text": [
      "{'max_depth': 4, 'learning_rate': 0.0777899597303451, 'n_estimators': 36, 'n_jobs': 4, 'gamma': 0.05594464445314391, 'reg_lambda': 4.58548312459918, 'reg_alpha': 2.0762816620513793, 'sub_sample': 0.5261182236117791, 'scale_pos_weight': 1.4399821057779023}\n",
      "0.74774584389969\n"
     ]
    },
    {
     "name": "stderr",
     "output_type": "stream",
     "text": [
      "[I 2019-08-22 10:48:50,272] Finished trial#183 resulted in value: -0.74774584389969. Current best value is -0.7588052972668357 with parameters: {'max_depth': 4, 'learning_rate': 0.08848164300426432, 'n_estimators ': 44, 'gamma': 0.06061146069154518, 'reg_lambda': 4.925327759125325, 'reg_alpha': 2.160723687914346, 'sub_sample': 0.4647359708712558, 'scale_pos_weight': 1.2311781512663418}.\n"
     ]
    },
    {
     "name": "stdout",
     "output_type": "stream",
     "text": [
      "{'max_depth': 4, 'learning_rate': 0.08662240928560526, 'n_estimators': 51, 'n_jobs': 4, 'gamma': 0.10085112177910094, 'reg_lambda': 4.874820467427675, 'reg_alpha': 1.9520334376904762, 'sub_sample': 0.45128125054079654, 'scale_pos_weight': 1.6142368433257146}\n",
      "0.7493660185967878\n"
     ]
    },
    {
     "name": "stderr",
     "output_type": "stream",
     "text": [
      "[I 2019-08-22 10:48:54,595] Finished trial#184 resulted in value: -0.7493660185967878. Current best value is -0.7588052972668357 with parameters: {'max_depth': 4, 'learning_rate': 0.08848164300426432, 'n_estimators ': 44, 'gamma': 0.06061146069154518, 'reg_lambda': 4.925327759125325, 'reg_alpha': 2.160723687914346, 'sub_sample': 0.4647359708712558, 'scale_pos_weight': 1.2311781512663418}.\n"
     ]
    },
    {
     "name": "stdout",
     "output_type": "stream",
     "text": [
      "{'max_depth': 4, 'learning_rate': 0.07789294952166474, 'n_estimators': 39, 'n_jobs': 4, 'gamma': 0.036649199503892615, 'reg_lambda': 4.9988270796513445, 'reg_alpha': 2.2884465161822347, 'sub_sample': 0.47785023856428266, 'scale_pos_weight': 1.339764957575817}\n",
      "0.7565511411665257\n"
     ]
    },
    {
     "name": "stderr",
     "output_type": "stream",
     "text": [
      "[I 2019-08-22 10:48:57,808] Finished trial#185 resulted in value: -0.7565511411665257. Current best value is -0.7588052972668357 with parameters: {'max_depth': 4, 'learning_rate': 0.08848164300426432, 'n_estimators ': 44, 'gamma': 0.06061146069154518, 'reg_lambda': 4.925327759125325, 'reg_alpha': 2.160723687914346, 'sub_sample': 0.4647359708712558, 'scale_pos_weight': 1.2311781512663418}.\n"
     ]
    },
    {
     "name": "stdout",
     "output_type": "stream",
     "text": [
      "{'max_depth': 4, 'learning_rate': 0.07437166895947739, 'n_estimators': 48, 'n_jobs': 4, 'gamma': 0.03563755207470219, 'reg_lambda': 4.997796260006456, 'reg_alpha': 2.2875310175305006, 'sub_sample': 0.46390999547861556, 'scale_pos_weight': 1.3060359401550097}\n",
      "0.7533107917723303\n"
     ]
    },
    {
     "name": "stderr",
     "output_type": "stream",
     "text": [
      "[I 2019-08-22 10:49:01,557] Finished trial#186 resulted in value: -0.7533107917723303. Current best value is -0.7588052972668357 with parameters: {'max_depth': 4, 'learning_rate': 0.08848164300426432, 'n_estimators ': 44, 'gamma': 0.06061146069154518, 'reg_lambda': 4.925327759125325, 'reg_alpha': 2.160723687914346, 'sub_sample': 0.4647359708712558, 'scale_pos_weight': 1.2311781512663418}.\n"
     ]
    },
    {
     "name": "stdout",
     "output_type": "stream",
     "text": [
      "{'max_depth': 4, 'learning_rate': 0.0785401451999794, 'n_estimators': 42, 'n_jobs': 4, 'gamma': 0.004750768113665739, 'reg_lambda': 4.908055341208743, 'reg_alpha': 1.8241989343064833, 'sub_sample': 0.47742746101742495, 'scale_pos_weight': 1.2147995249618841}\n",
      "0.7424626655395886\n"
     ]
    },
    {
     "name": "stderr",
     "output_type": "stream",
     "text": [
      "[I 2019-08-22 10:49:05,028] Finished trial#187 resulted in value: -0.7424626655395886. Current best value is -0.7588052972668357 with parameters: {'max_depth': 4, 'learning_rate': 0.08848164300426432, 'n_estimators ': 44, 'gamma': 0.06061146069154518, 'reg_lambda': 4.925327759125325, 'reg_alpha': 2.160723687914346, 'sub_sample': 0.4647359708712558, 'scale_pos_weight': 1.2311781512663418}.\n"
     ]
    },
    {
     "name": "stdout",
     "output_type": "stream",
     "text": [
      "{'max_depth': 4, 'learning_rate': 0.08539122659843006, 'n_estimators': 33, 'n_jobs': 4, 'gamma': 0.05923337970595788, 'reg_lambda': 4.998752317560176, 'reg_alpha': 2.3606360033127367, 'sub_sample': 0.43712051912594696, 'scale_pos_weight': 1.0136453753175052}\n",
      "0.7526063679909833\n"
     ]
    },
    {
     "name": "stderr",
     "output_type": "stream",
     "text": [
      "[I 2019-08-22 10:49:08,037] Finished trial#188 resulted in value: -0.7526063679909833. Current best value is -0.7588052972668357 with parameters: {'max_depth': 4, 'learning_rate': 0.08848164300426432, 'n_estimators ': 44, 'gamma': 0.06061146069154518, 'reg_lambda': 4.925327759125325, 'reg_alpha': 2.160723687914346, 'sub_sample': 0.4647359708712558, 'scale_pos_weight': 1.2311781512663418}.\n"
     ]
    },
    {
     "name": "stdout",
     "output_type": "stream",
     "text": [
      "{'max_depth': 4, 'learning_rate': 0.08963743370376338, 'n_estimators': 24, 'n_jobs': 4, 'gamma': 0.034953404357039336, 'reg_lambda': 4.8204886887404275, 'reg_alpha': 2.1607271650341415, 'sub_sample': 0.49387290478308915, 'scale_pos_weight': 9.21253909931393}\n",
      "0.6983657368272752\n"
     ]
    },
    {
     "name": "stderr",
     "output_type": "stream",
     "text": [
      "[I 2019-08-22 10:49:10,325] Finished trial#189 resulted in value: -0.6983657368272752. Current best value is -0.7588052972668357 with parameters: {'max_depth': 4, 'learning_rate': 0.08848164300426432, 'n_estimators ': 44, 'gamma': 0.06061146069154518, 'reg_lambda': 4.925327759125325, 'reg_alpha': 2.160723687914346, 'sub_sample': 0.4647359708712558, 'scale_pos_weight': 1.2311781512663418}.\n"
     ]
    },
    {
     "name": "stdout",
     "output_type": "stream",
     "text": [
      "{'max_depth': 3, 'learning_rate': 0.07727070679749408, 'n_estimators': 39, 'n_jobs': 4, 'gamma': 0.0004864055530625355, 'reg_lambda': 4.673727205778313, 'reg_alpha': 2.2524855982975533, 'sub_sample': 0.3591930480494368, 'scale_pos_weight': 1.4359023027323539}\n",
      "0.7341504649196957\n"
     ]
    },
    {
     "name": "stderr",
     "output_type": "stream",
     "text": [
      "[I 2019-08-22 10:49:12,859] Finished trial#190 resulted in value: -0.7341504649196957. Current best value is -0.7588052972668357 with parameters: {'max_depth': 4, 'learning_rate': 0.08848164300426432, 'n_estimators ': 44, 'gamma': 0.06061146069154518, 'reg_lambda': 4.925327759125325, 'reg_alpha': 2.160723687914346, 'sub_sample': 0.4647359708712558, 'scale_pos_weight': 1.2311781512663418}.\n"
     ]
    },
    {
     "name": "stdout",
     "output_type": "stream",
     "text": [
      "{'max_depth': 4, 'learning_rate': 0.12898263681967567, 'n_estimators': 49, 'n_jobs': 4, 'gamma': 0.039401276095414633, 'reg_lambda': 4.918773500122838, 'reg_alpha': 2.2598460822757827, 'sub_sample': 0.46750915204415616, 'scale_pos_weight': 1.0021132440430705}\n",
      "0.756480698788391\n"
     ]
    },
    {
     "name": "stderr",
     "output_type": "stream",
     "text": [
      "[I 2019-08-22 10:49:15,709] Finished trial#191 resulted in value: -0.756480698788391. Current best value is -0.7588052972668357 with parameters: {'max_depth': 4, 'learning_rate': 0.08848164300426432, 'n_estimators ': 44, 'gamma': 0.06061146069154518, 'reg_lambda': 4.925327759125325, 'reg_alpha': 2.160723687914346, 'sub_sample': 0.4647359708712558, 'scale_pos_weight': 1.2311781512663418}.\n"
     ]
    },
    {
     "name": "stdout",
     "output_type": "stream",
     "text": [
      "{'max_depth': 4, 'learning_rate': 0.12765177534095626, 'n_estimators': 46, 'n_jobs': 4, 'gamma': 0.060805284848630535, 'reg_lambda': 4.995675788308118, 'reg_alpha': 2.1912254426545754, 'sub_sample': 0.45297631180790854, 'scale_pos_weight': 1.1672978934986058}\n",
      "0.7607072414764722\n"
     ]
    },
    {
     "name": "stderr",
     "output_type": "stream",
     "text": [
      "[I 2019-08-22 10:49:18,775] Finished trial#192 resulted in value: -0.7607072414764722. Current best value is -0.7607072414764722 with parameters: {'max_depth': 4, 'learning_rate': 0.12765177534095626, 'n_estimators ': 46, 'gamma': 0.060805284848630535, 'reg_lambda': 4.995675788308118, 'reg_alpha': 2.1912254426545754, 'sub_sample': 0.45297631180790854, 'scale_pos_weight': 1.1672978934986058}.\n"
     ]
    },
    {
     "name": "stdout",
     "output_type": "stream",
     "text": [
      "{'max_depth': 4, 'learning_rate': 0.12932579886279855, 'n_estimators': 46, 'n_jobs': 4, 'gamma': 0.046011350827938405, 'reg_lambda': 4.9103192298425835, 'reg_alpha': 2.1982050820158303, 'sub_sample': 0.4553702506348818, 'scale_pos_weight': 1.0244951650307628}\n",
      "0.7519723865877712\n"
     ]
    },
    {
     "name": "stderr",
     "output_type": "stream",
     "text": [
      "[I 2019-08-22 10:49:21,911] Finished trial#193 resulted in value: -0.7519723865877712. Current best value is -0.7607072414764722 with parameters: {'max_depth': 4, 'learning_rate': 0.12765177534095626, 'n_estimators ': 46, 'gamma': 0.060805284848630535, 'reg_lambda': 4.995675788308118, 'reg_alpha': 2.1912254426545754, 'sub_sample': 0.45297631180790854, 'scale_pos_weight': 1.1672978934986058}.\n"
     ]
    },
    {
     "name": "stdout",
     "output_type": "stream",
     "text": [
      "{'max_depth': 4, 'learning_rate': 0.08030884835435978, 'n_estimators': 53, 'n_jobs': 4, 'gamma': 0.023569795389442046, 'reg_lambda': 4.9248753695771965, 'reg_alpha': 2.2961456891290637, 'sub_sample': 0.434682927427897, 'scale_pos_weight': 1.3336425272793175}\n",
      "0.7488024795717103\n"
     ]
    },
    {
     "name": "stderr",
     "output_type": "stream",
     "text": [
      "[I 2019-08-22 10:49:25,948] Finished trial#194 resulted in value: -0.7488024795717103. Current best value is -0.7607072414764722 with parameters: {'max_depth': 4, 'learning_rate': 0.12765177534095626, 'n_estimators ': 46, 'gamma': 0.060805284848630535, 'reg_lambda': 4.995675788308118, 'reg_alpha': 2.1912254426545754, 'sub_sample': 0.45297631180790854, 'scale_pos_weight': 1.1672978934986058}.\n"
     ]
    },
    {
     "name": "stdout",
     "output_type": "stream",
     "text": [
      "{'max_depth': 4, 'learning_rate': 0.12422655897624202, 'n_estimators': 42, 'n_jobs': 4, 'gamma': 0.06110824206791529, 'reg_lambda': 4.9890991150031185, 'reg_alpha': 2.1252447825409417, 'sub_sample': 0.46822945834395874, 'scale_pos_weight': 1.0220683335246936}\n",
      "0.7548605240912933\n"
     ]
    },
    {
     "name": "stderr",
     "output_type": "stream",
     "text": [
      "[I 2019-08-22 10:49:29,142] Finished trial#195 resulted in value: -0.7548605240912933. Current best value is -0.7607072414764722 with parameters: {'max_depth': 4, 'learning_rate': 0.12765177534095626, 'n_estimators ': 46, 'gamma': 0.060805284848630535, 'reg_lambda': 4.995675788308118, 'reg_alpha': 2.1912254426545754, 'sub_sample': 0.45297631180790854, 'scale_pos_weight': 1.1672978934986058}.\n"
     ]
    },
    {
     "name": "stdout",
     "output_type": "stream",
     "text": [
      "{'max_depth': 4, 'learning_rate': 0.1271490639831711, 'n_estimators': 50, 'n_jobs': 4, 'gamma': 0.059606990894550474, 'reg_lambda': 4.843896640428415, 'reg_alpha': 2.1390594204201667, 'sub_sample': 0.4051704110478437, 'scale_pos_weight': 1.1613402503834644}\n",
      "0.7542969850662158\n"
     ]
    },
    {
     "name": "stderr",
     "output_type": "stream",
     "text": [
      "[I 2019-08-22 10:49:32,445] Finished trial#196 resulted in value: -0.7542969850662158. Current best value is -0.7607072414764722 with parameters: {'max_depth': 4, 'learning_rate': 0.12765177534095626, 'n_estimators ': 46, 'gamma': 0.060805284848630535, 'reg_lambda': 4.995675788308118, 'reg_alpha': 2.1912254426545754, 'sub_sample': 0.45297631180790854, 'scale_pos_weight': 1.1672978934986058}.\n"
     ]
    },
    {
     "name": "stdout",
     "output_type": "stream",
     "text": [
      "{'max_depth': 4, 'learning_rate': 0.13473455320510452, 'n_estimators': 50, 'n_jobs': 4, 'gamma': 0.04875144327506474, 'reg_lambda': 4.982171573670492, 'reg_alpha': 2.1319293852750527, 'sub_sample': 0.4095130866250367, 'scale_pos_weight': 1.007082779461639}\n",
      "0.7539447731755422\n"
     ]
    },
    {
     "name": "stderr",
     "output_type": "stream",
     "text": [
      "[I 2019-08-22 10:49:35,560] Finished trial#197 resulted in value: -0.7539447731755422. Current best value is -0.7607072414764722 with parameters: {'max_depth': 4, 'learning_rate': 0.12765177534095626, 'n_estimators ': 46, 'gamma': 0.060805284848630535, 'reg_lambda': 4.995675788308118, 'reg_alpha': 2.1912254426545754, 'sub_sample': 0.45297631180790854, 'scale_pos_weight': 1.1672978934986058}.\n"
     ]
    },
    {
     "name": "stdout",
     "output_type": "stream",
     "text": [
      "{'max_depth': 4, 'learning_rate': 0.12324418098070451, 'n_estimators': 47, 'n_jobs': 4, 'gamma': 0.021511744044425563, 'reg_lambda': 4.842816420419901, 'reg_alpha': 2.2136448731848, 'sub_sample': 0.4219645661847889, 'scale_pos_weight': 1.0141073857034038}\n",
      "0.7564806987883911\n"
     ]
    },
    {
     "name": "stderr",
     "output_type": "stream",
     "text": [
      "[I 2019-08-22 10:49:38,679] Finished trial#198 resulted in value: -0.7564806987883911. Current best value is -0.7607072414764722 with parameters: {'max_depth': 4, 'learning_rate': 0.12765177534095626, 'n_estimators ': 46, 'gamma': 0.060805284848630535, 'reg_lambda': 4.995675788308118, 'reg_alpha': 2.1912254426545754, 'sub_sample': 0.45297631180790854, 'scale_pos_weight': 1.1672978934986058}.\n"
     ]
    },
    {
     "name": "stdout",
     "output_type": "stream",
     "text": [
      "{'max_depth': 4, 'learning_rate': 0.12449909355342838, 'n_estimators': 56, 'n_jobs': 4, 'gamma': 0.020392501305955477, 'reg_lambda': 4.846641542160145, 'reg_alpha': 2.1669734534220004, 'sub_sample': 0.40346328091566375, 'scale_pos_weight': 1.155752471180597}\n",
      "0.7534516765285997\n"
     ]
    },
    {
     "name": "stderr",
     "output_type": "stream",
     "text": [
      "[I 2019-08-22 10:49:41,859] Finished trial#199 resulted in value: -0.7534516765285997. Current best value is -0.7607072414764722 with parameters: {'max_depth': 4, 'learning_rate': 0.12765177534095626, 'n_estimators ': 46, 'gamma': 0.060805284848630535, 'reg_lambda': 4.995675788308118, 'reg_alpha': 2.1912254426545754, 'sub_sample': 0.45297631180790854, 'scale_pos_weight': 1.1672978934986058}.\n"
     ]
    }
   ],
   "source": [
    "filepath = '../../data/std_data'\n",
    "\n",
    "def objective(trial):\n",
    "    param = {\n",
    "        'max_depth': trial.suggest_int('max_depth',1,10),\n",
    "        'learning_rate': trial.suggest_uniform('learning_rate', 0.05, 0.2),\n",
    "        'n_estimators': trial.suggest_int('n_estimators ', 20, 200),\n",
    "        'n_jobs': 4,\n",
    "        'gamma': trial.suggest_uniform('gamma', 0, 1),\n",
    "        'reg_lambda': trial.suggest_uniform('reg_lambda', 0.5, 5),\n",
    "        'reg_alpha': trial.suggest_uniform('reg_alpha', 0, 3),\n",
    "        'sub_sample': trial.suggest_uniform('sub_sample', 0.3, 1),\n",
    "        'scale_pos_weight': trial.suggest_uniform('scale_pos_weight', 1, 10),\n",
    "    }\n",
    "\n",
    "    print(param)\n",
    "    \n",
    "    l = []\n",
    "\n",
    "    for year in range(1978, 2019 + 1):\n",
    "        rg = xgb.XGBRegressor(silent= True, **param)\n",
    "        train_X = pd.read_pickle(filepath + '/train/{}_x.pkl'.format(year))\n",
    "        train_y = pd.read_pickle(filepath + '/train/{}_y.pkl'.format(year))\n",
    "        rg.fit(train_X.values, train_y.values)\n",
    "        test_X = pd.read_pickle(filepath + '/test/{}_x.pkl'.format(year))\n",
    "        test_y = pd.read_pickle(filepath + '/test/{}_y.pkl'.format(year))\n",
    "        result = rg.predict(test_X.values)\n",
    "        result_series = pd.Series(result, index= test_y.index)\n",
    "        result_series.name = 'result'\n",
    "        scope = pd.concat([test_y, result_series], axis = 1)\n",
    "        l.append(scope)\n",
    "        #title = scope['title'].copy()\n",
    "        #title[scope['prize'] == 1] = title[scope['prize'] == 1].map(lambda s: '★' + s)\n",
    "        #print(year)\n",
    "        #print(pd.Series(result, index = title.values).sort_values(ascending=False) )\n",
    "        #print('')\n",
    "    \n",
    "\n",
    "    temp = pd.concat(l)\n",
    "\n",
    "    print(roc_auc_score(temp['prize'], temp['result']))\n",
    "    return -roc_auc_score(temp['prize'], temp['result'])\n",
    "\n",
    "study = optuna.create_study()\n",
    "study.optimize(objective, n_trials=200)"
   ]
  },
  {
   "cell_type": "code",
   "execution_count": 32,
   "metadata": {},
   "outputs": [
    {
     "data": {
      "text/plain": [
       "{'max_depth': 4,\n",
       " 'learning_rate': 0.12765177534095626,\n",
       " 'n_estimators ': 46,\n",
       " 'gamma': 0.060805284848630535,\n",
       " 'reg_lambda': 4.995675788308118,\n",
       " 'reg_alpha': 2.1912254426545754,\n",
       " 'sub_sample': 0.45297631180790854,\n",
       " 'scale_pos_weight': 1.1672978934986058}"
      ]
     },
     "execution_count": 32,
     "metadata": {},
     "output_type": "execute_result"
    }
   ],
   "source": [
    "best = {'max_depth': 4,\n",
    " 'learning_rate': 0.12765177534095626,\n",
    " 'n_estimators ': 46,\n",
    " 'gamma': 0.060805284848630535,\n",
    " 'reg_lambda': 4.995675788308118,\n",
    " 'reg_alpha': 2.1912254426545754,\n",
    " 'sub_sample': 0.45297631180790854,\n",
    " 'scale_pos_weight': 1.1672978934986058}\n",
    "best = study.best_params\n",
    "best"
   ]
  },
  {
   "cell_type": "code",
   "execution_count": 31,
   "metadata": {},
   "outputs": [
    {
     "data": {
      "text/plain": [
       "-0.7607072414764722"
      ]
     },
     "execution_count": 31,
     "metadata": {},
     "output_type": "execute_result"
    }
   ],
   "source": [
    "study.best_value"
   ]
  }
 ],
 "metadata": {
  "kernelspec": {
   "display_name": "Python 3",
   "language": "python",
   "name": "python3"
  },
  "language_info": {
   "codemirror_mode": {
    "name": "ipython",
    "version": 3
   },
   "file_extension": ".py",
   "mimetype": "text/x-python",
   "name": "python",
   "nbconvert_exporter": "python",
   "pygments_lexer": "ipython3",
   "version": "3.6.6"
  }
 },
 "nbformat": 4,
 "nbformat_minor": 4
}
