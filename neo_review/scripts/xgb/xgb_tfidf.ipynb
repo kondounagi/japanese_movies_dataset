{
 "cells": [
  {
   "cell_type": "code",
   "execution_count": 1,
   "metadata": {},
   "outputs": [],
   "source": [
    "import xgboost as xgb\n",
    "import pandas as pd\n",
    "from sklearn.metrics import roc_auc_score"
   ]
  },
  {
   "cell_type": "code",
   "execution_count": 22,
   "metadata": {},
   "outputs": [],
   "source": [
    "# 読み出し\n",
    "data = pd.read_pickle('data.pkl')\n",
    "nomination_onehot = pd.read_pickle('nomination_onehot.pkl')\n",
    "selected_performers_onehot = pd.read_pickle('selected_performers_onehot.pkl')\n",
    "selected_directors_onehot = pd.read_pickle('selected_directors_onehot.pkl')\n",
    "selected_studio_onehot = pd.read_pickle('selected_studio_onehot.pkl')\n",
    "selected_scriptwriter_onehot = pd.read_pickle('selected_scriptwriter_onehot.pkl')\n",
    "review_dataframe = pd.read_pickle('review_dataframe.pkl')\n",
    "tfidf = pd.read_pickle('tfidf2.pkl')"
   ]
  },
  {
   "cell_type": "code",
   "execution_count": 3,
   "metadata": {},
   "outputs": [],
   "source": [
    "from sklearn.decomposition import PCA\n",
    "\n",
    "pca = PCA(n_components=20)\n",
    "pca.fit(tfidf.values)\n",
    "tfidf_df = pd.DataFrame(pca.transform(tfidf.values), index = tfidf.index)"
   ]
  },
  {
   "cell_type": "code",
   "execution_count": 23,
   "metadata": {},
   "outputs": [],
   "source": [
    "table = pd.concat([\n",
    "    data[['prize', 'title', 'year', 'screen_time']],\n",
    "    nomination_onehot,\n",
    "    selected_performers_onehot,\n",
    "    selected_directors_onehot,\n",
    "    selected_studio_onehot,\n",
    "    selected_scriptwriter_onehot,\n",
    "    tfidf\n",
    "], axis = 1)\n",
    "\n",
    "review_len = review_dataframe['reviews'].map(lambda s: len(s))\n",
    "review_len.name = 'len'\n",
    "year = table['year']\n",
    "\n",
    "temp = pd.concat([year, review_len], axis = 1)\n",
    "\n",
    "group = temp.groupby('year')\n",
    "\n",
    "temp = temp.apply( lambda s: (s['len']-group.mean()['len'][s['year']] )/group.std()['len'][s['year']] , axis = 1)\n",
    "temp.name = 'len'\n",
    "\n",
    "# table['len'] = temp\n"
   ]
  },
  {
   "cell_type": "code",
   "execution_count": 24,
   "metadata": {},
   "outputs": [],
   "source": [
    "# invalid\n",
    "\n",
    "def logregobj(preds, dtrain):\n",
    "    grad = - preds + dtrain\n",
    "    grad[dtrain == 1] = 1\n",
    "    grad[dtrain == 0] = -1\n",
    "    hess = np.zeros(len(preds))\n",
    "    return grad, hess\n"
   ]
  },
  {
   "cell_type": "code",
   "execution_count": 25,
   "metadata": {},
   "outputs": [],
   "source": [
    "import numpy as np\n",
    "import optuna"
   ]
  },
  {
   "cell_type": "code",
   "execution_count": 26,
   "metadata": {},
   "outputs": [
    {
     "name": "stdout",
     "output_type": "stream",
     "text": [
      "{'max_depth': 4, 'learning_rate': 0.0938688950913457, 'n_estimators': 28, 'n_jobs': 4, 'gamma': 0.961354529063393, 'reg_lambda': 1.0121955106777585, 'reg_alpha': 1.9737995953995873}\n",
      "0.7561989292758524\n"
     ]
    },
    {
     "name": "stderr",
     "output_type": "stream",
     "text": [
      "[I 2019-08-21 10:05:08,219] Finished trial#0 resulted in value: -0.7561989292758524. Current best value is -0.7561989292758524 with parameters: {'max_depth': 4, 'learning_rate': 0.0938688950913457, 'n_estimators ': 28, 'gamma': 0.961354529063393, 'reg_lambda': 1.0121955106777585, 'reg_alpha': 1.9737995953995873}.\n"
     ]
    },
    {
     "name": "stdout",
     "output_type": "stream",
     "text": [
      "{'max_depth': 8, 'learning_rate': 0.14470697736426028, 'n_estimators': 112, 'n_jobs': 4, 'gamma': 0.8728557159694865, 'reg_lambda': 2.2802752695004864, 'reg_alpha': 2.1320339079440225}\n",
      "0.7590166244012398\n"
     ]
    },
    {
     "name": "stderr",
     "output_type": "stream",
     "text": [
      "[I 2019-08-21 10:05:26,284] Finished trial#1 resulted in value: -0.7590166244012398. Current best value is -0.7590166244012398 with parameters: {'max_depth': 8, 'learning_rate': 0.14470697736426028, 'n_estimators ': 112, 'gamma': 0.8728557159694865, 'reg_lambda': 2.2802752695004864, 'reg_alpha': 2.1320339079440225}.\n"
     ]
    },
    {
     "name": "stdout",
     "output_type": "stream",
     "text": [
      "{'max_depth': 3, 'learning_rate': 0.1002257467660046, 'n_estimators': 140, 'n_jobs': 4, 'gamma': 0.9089738275100788, 'reg_lambda': 2.4850309734155607, 'reg_alpha': 0.24824465284713515}\n",
      "0.778247393632009\n"
     ]
    },
    {
     "name": "stderr",
     "output_type": "stream",
     "text": [
      "[I 2019-08-21 10:05:35,884] Finished trial#2 resulted in value: -0.778247393632009. Current best value is -0.778247393632009 with parameters: {'max_depth': 3, 'learning_rate': 0.1002257467660046, 'n_estimators ': 140, 'gamma': 0.9089738275100788, 'reg_lambda': 2.4850309734155607, 'reg_alpha': 0.24824465284713515}.\n"
     ]
    },
    {
     "name": "stdout",
     "output_type": "stream",
     "text": [
      "{'max_depth': 5, 'learning_rate': 0.09673897637387402, 'n_estimators': 98, 'n_jobs': 4, 'gamma': 0.5915441877324118, 'reg_lambda': 2.961419462618011, 'reg_alpha': 1.6301508401275362}\n",
      "0.7928994082840236\n"
     ]
    },
    {
     "name": "stderr",
     "output_type": "stream",
     "text": [
      "[I 2019-08-21 10:05:47,884] Finished trial#3 resulted in value: -0.7928994082840236. Current best value is -0.7928994082840236 with parameters: {'max_depth': 5, 'learning_rate': 0.09673897637387402, 'n_estimators ': 98, 'gamma': 0.5915441877324118, 'reg_lambda': 2.961419462618011, 'reg_alpha': 1.6301508401275362}.\n"
     ]
    },
    {
     "name": "stdout",
     "output_type": "stream",
     "text": [
      "{'max_depth': 4, 'learning_rate': 0.13802756742541533, 'n_estimators': 23, 'n_jobs': 4, 'gamma': 0.016299115211095394, 'reg_lambda': 1.4521741482586545, 'reg_alpha': 0.8575778234775824}\n",
      "0.7512679628064242\n"
     ]
    },
    {
     "name": "stderr",
     "output_type": "stream",
     "text": [
      "[I 2019-08-21 10:05:51,915] Finished trial#4 resulted in value: -0.7512679628064242. Current best value is -0.7928994082840236 with parameters: {'max_depth': 5, 'learning_rate': 0.09673897637387402, 'n_estimators ': 98, 'gamma': 0.5915441877324118, 'reg_lambda': 2.961419462618011, 'reg_alpha': 1.6301508401275362}.\n"
     ]
    },
    {
     "name": "stdout",
     "output_type": "stream",
     "text": [
      "{'max_depth': 7, 'learning_rate': 0.19263044282046204, 'n_estimators': 164, 'n_jobs': 4, 'gamma': 0.5396994059046831, 'reg_lambda': 2.235569309345837, 'reg_alpha': 0.24305657689286353}\n",
      "0.7572555649478725\n"
     ]
    },
    {
     "name": "stderr",
     "output_type": "stream",
     "text": [
      "[I 2019-08-21 10:06:20,268] Finished trial#5 resulted in value: -0.7572555649478725. Current best value is -0.7928994082840236 with parameters: {'max_depth': 5, 'learning_rate': 0.09673897637387402, 'n_estimators ': 98, 'gamma': 0.5915441877324118, 'reg_lambda': 2.961419462618011, 'reg_alpha': 1.6301508401275362}.\n"
     ]
    },
    {
     "name": "stdout",
     "output_type": "stream",
     "text": [
      "{'max_depth': 4, 'learning_rate': 0.051886304039951286, 'n_estimators': 151, 'n_jobs': 4, 'gamma': 0.509114331477291, 'reg_lambda': 1.0354183952400176, 'reg_alpha': 2.7595490288697055}\n",
      "0.7907861369399831\n"
     ]
    },
    {
     "name": "stderr",
     "output_type": "stream",
     "text": [
      "[I 2019-08-21 10:06:43,886] Finished trial#6 resulted in value: -0.7907861369399831. Current best value is -0.7928994082840236 with parameters: {'max_depth': 5, 'learning_rate': 0.09673897637387402, 'n_estimators ': 98, 'gamma': 0.5915441877324118, 'reg_lambda': 2.961419462618011, 'reg_alpha': 1.6301508401275362}.\n"
     ]
    },
    {
     "name": "stdout",
     "output_type": "stream",
     "text": [
      "{'max_depth': 9, 'learning_rate': 0.1914305890711836, 'n_estimators': 61, 'n_jobs': 4, 'gamma': 0.2900158640553092, 'reg_lambda': 1.4150687469474261, 'reg_alpha': 2.1795191057079277}\n",
      "0.7709918286841364\n"
     ]
    },
    {
     "name": "stderr",
     "output_type": "stream",
     "text": [
      "[I 2019-08-21 10:06:58,831] Finished trial#7 resulted in value: -0.7709918286841364. Current best value is -0.7928994082840236 with parameters: {'max_depth': 5, 'learning_rate': 0.09673897637387402, 'n_estimators ': 98, 'gamma': 0.5915441877324118, 'reg_lambda': 2.961419462618011, 'reg_alpha': 1.6301508401275362}.\n"
     ]
    },
    {
     "name": "stdout",
     "output_type": "stream",
     "text": [
      "{'max_depth': 7, 'learning_rate': 0.13127822845241266, 'n_estimators': 170, 'n_jobs': 4, 'gamma': 0.4894369362086788, 'reg_lambda': 2.220303319831056, 'reg_alpha': 0.03987013782726301}\n",
      "0.7986052409129332\n"
     ]
    },
    {
     "name": "stderr",
     "output_type": "stream",
     "text": [
      "[I 2019-08-21 10:07:27,768] Finished trial#8 resulted in value: -0.7986052409129332. Current best value is -0.7986052409129332 with parameters: {'max_depth': 7, 'learning_rate': 0.13127822845241266, 'n_estimators ': 170, 'gamma': 0.4894369362086788, 'reg_lambda': 2.220303319831056, 'reg_alpha': 0.03987013782726301}.\n"
     ]
    },
    {
     "name": "stdout",
     "output_type": "stream",
     "text": [
      "{'max_depth': 6, 'learning_rate': 0.0861037152959537, 'n_estimators': 100, 'n_jobs': 4, 'gamma': 0.12664791376542883, 'reg_lambda': 2.2647233821002217, 'reg_alpha': 2.022136466201008}\n",
      "0.764792899408284\n"
     ]
    },
    {
     "name": "stderr",
     "output_type": "stream",
     "text": [
      "[I 2019-08-21 10:07:51,745] Finished trial#9 resulted in value: -0.764792899408284. Current best value is -0.7986052409129332 with parameters: {'max_depth': 7, 'learning_rate': 0.13127822845241266, 'n_estimators ': 170, 'gamma': 0.4894369362086788, 'reg_lambda': 2.220303319831056, 'reg_alpha': 0.03987013782726301}.\n"
     ]
    },
    {
     "name": "stdout",
     "output_type": "stream",
     "text": [
      "{'max_depth': 1, 'learning_rate': 0.16382814170027205, 'n_estimators': 192, 'n_jobs': 4, 'gamma': 0.7080142223401964, 'reg_lambda': 2.923041118442893, 'reg_alpha': 0.8427988525223181}\n",
      "0.735207100591716\n"
     ]
    },
    {
     "name": "stderr",
     "output_type": "stream",
     "text": [
      "[I 2019-08-21 10:08:05,678] Finished trial#10 resulted in value: -0.735207100591716. Current best value is -0.7986052409129332 with parameters: {'max_depth': 7, 'learning_rate': 0.13127822845241266, 'n_estimators ': 170, 'gamma': 0.4894369362086788, 'reg_lambda': 2.220303319831056, 'reg_alpha': 0.03987013782726301}.\n"
     ]
    },
    {
     "name": "stdout",
     "output_type": "stream",
     "text": [
      "{'max_depth': 6, 'learning_rate': 0.11100212690358124, 'n_estimators': 84, 'n_jobs': 4, 'gamma': 0.35453586368811785, 'reg_lambda': 2.9647645199591, 'reg_alpha': 1.1658553762016841}\n",
      "0.782262609185686\n"
     ]
    },
    {
     "name": "stderr",
     "output_type": "stream",
     "text": [
      "[I 2019-08-21 10:08:28,116] Finished trial#11 resulted in value: -0.782262609185686. Current best value is -0.7986052409129332 with parameters: {'max_depth': 7, 'learning_rate': 0.13127822845241266, 'n_estimators ': 170, 'gamma': 0.4894369362086788, 'reg_lambda': 2.220303319831056, 'reg_alpha': 0.03987013782726301}.\n"
     ]
    },
    {
     "name": "stdout",
     "output_type": "stream",
     "text": [
      "{'max_depth': 10, 'learning_rate': 0.05621338609724004, 'n_estimators': 199, 'n_jobs': 4, 'gamma': 0.6810272878524066, 'reg_lambda': 2.6687124523544625, 'reg_alpha': 1.423078399827579}\n",
      "0.7952944491406029\n"
     ]
    },
    {
     "name": "stderr",
     "output_type": "stream",
     "text": [
      "[I 2019-08-21 10:09:18,354] Finished trial#12 resulted in value: -0.7952944491406029. Current best value is -0.7986052409129332 with parameters: {'max_depth': 7, 'learning_rate': 0.13127822845241266, 'n_estimators ': 170, 'gamma': 0.4894369362086788, 'reg_lambda': 2.220303319831056, 'reg_alpha': 0.03987013782726301}.\n"
     ]
    },
    {
     "name": "stdout",
     "output_type": "stream",
     "text": [
      "{'max_depth': 10, 'learning_rate': 0.058141539736954545, 'n_estimators': 197, 'n_jobs': 4, 'gamma': 0.7456508309620509, 'reg_lambda': 1.8551934432663773, 'reg_alpha': 0.04935444010467888}\n",
      "0.8015638207945899\n"
     ]
    },
    {
     "name": "stderr",
     "output_type": "stream",
     "text": [
      "[I 2019-08-21 10:10:07,817] Finished trial#13 resulted in value: -0.8015638207945899. Current best value is -0.8015638207945899 with parameters: {'max_depth': 10, 'learning_rate': 0.058141539736954545, 'n_estimators ': 197, 'gamma': 0.7456508309620509, 'reg_lambda': 1.8551934432663773, 'reg_alpha': 0.04935444010467888}.\n"
     ]
    },
    {
     "name": "stdout",
     "output_type": "stream",
     "text": [
      "{'max_depth': 10, 'learning_rate': 0.07028485094411133, 'n_estimators': 176, 'n_jobs': 4, 'gamma': 0.7942323648342768, 'reg_lambda': 1.8329491603073143, 'reg_alpha': 0.002945543144601069}\n",
      "0.7957875457875457\n"
     ]
    },
    {
     "name": "stderr",
     "output_type": "stream",
     "text": [
      "[I 2019-08-21 10:10:42,007] Finished trial#14 resulted in value: -0.7957875457875457. Current best value is -0.8015638207945899 with parameters: {'max_depth': 10, 'learning_rate': 0.058141539736954545, 'n_estimators ': 197, 'gamma': 0.7456508309620509, 'reg_lambda': 1.8551934432663773, 'reg_alpha': 0.04935444010467888}.\n"
     ]
    },
    {
     "name": "stdout",
     "output_type": "stream",
     "text": [
      "{'max_depth': 9, 'learning_rate': 0.12518372631924823, 'n_estimators': 199, 'n_jobs': 4, 'gamma': 0.358411810680906, 'reg_lambda': 1.834493683748077, 'reg_alpha': 0.4256449637340133}\n",
      "0.779585798816568\n"
     ]
    },
    {
     "name": "stderr",
     "output_type": "stream",
     "text": [
      "[I 2019-08-21 10:11:19,561] Finished trial#15 resulted in value: -0.779585798816568. Current best value is -0.8015638207945899 with parameters: {'max_depth': 10, 'learning_rate': 0.058141539736954545, 'n_estimators ': 197, 'gamma': 0.7456508309620509, 'reg_lambda': 1.8551934432663773, 'reg_alpha': 0.04935444010467888}.\n"
     ]
    },
    {
     "name": "stdout",
     "output_type": "stream",
     "text": [
      "{'max_depth': 8, 'learning_rate': 0.16632199849072465, 'n_estimators': 132, 'n_jobs': 4, 'gamma': 0.6724218452703564, 'reg_lambda': 1.9579791303945508, 'reg_alpha': 0.6170989720343292}\n",
      "0.8172020287404903\n"
     ]
    },
    {
     "name": "stderr",
     "output_type": "stream",
     "text": [
      "[I 2019-08-21 10:11:41,443] Finished trial#16 resulted in value: -0.8172020287404903. Current best value is -0.8172020287404903 with parameters: {'max_depth': 8, 'learning_rate': 0.16632199849072465, 'n_estimators ': 132, 'gamma': 0.6724218452703564, 'reg_lambda': 1.9579791303945508, 'reg_alpha': 0.6170989720343292}.\n"
     ]
    },
    {
     "name": "stdout",
     "output_type": "stream",
     "text": [
      "{'max_depth': 9, 'learning_rate': 0.16821507865682445, 'n_estimators': 131, 'n_jobs': 4, 'gamma': 0.7764468755724973, 'reg_lambda': 1.5030906938332826, 'reg_alpha': 0.6013092664786953}\n",
      "0.787897999436461\n"
     ]
    },
    {
     "name": "stderr",
     "output_type": "stream",
     "text": [
      "[I 2019-08-21 10:12:06,461] Finished trial#17 resulted in value: -0.787897999436461. Current best value is -0.8172020287404903 with parameters: {'max_depth': 8, 'learning_rate': 0.16632199849072465, 'n_estimators ': 132, 'gamma': 0.6724218452703564, 'reg_lambda': 1.9579791303945508, 'reg_alpha': 0.6170989720343292}.\n"
     ]
    },
    {
     "name": "stdout",
     "output_type": "stream",
     "text": [
      "{'max_depth': 8, 'learning_rate': 0.1721363744181936, 'n_estimators': 69, 'n_jobs': 4, 'gamma': 0.6670522510458389, 'reg_lambda': 1.9792430358306026, 'reg_alpha': 0.6414336152851415}\n",
      "0.8058608058608059\n"
     ]
    },
    {
     "name": "stderr",
     "output_type": "stream",
     "text": [
      "[I 2019-08-21 10:12:20,139] Finished trial#18 resulted in value: -0.8058608058608059. Current best value is -0.8172020287404903 with parameters: {'max_depth': 8, 'learning_rate': 0.16632199849072465, 'n_estimators ': 132, 'gamma': 0.6724218452703564, 'reg_lambda': 1.9579791303945508, 'reg_alpha': 0.6170989720343292}.\n"
     ]
    },
    {
     "name": "stdout",
     "output_type": "stream",
     "text": [
      "{'max_depth': 8, 'learning_rate': 0.17166871119154653, 'n_estimators': 61, 'n_jobs': 4, 'gamma': 0.6056968323246551, 'reg_lambda': 0.616293221492983, 'reg_alpha': 0.9417181446751424}\n",
      "0.7847280924204001\n"
     ]
    },
    {
     "name": "stderr",
     "output_type": "stream",
     "text": [
      "[I 2019-08-21 10:12:33,212] Finished trial#19 resulted in value: -0.7847280924204001. Current best value is -0.8172020287404903 with parameters: {'max_depth': 8, 'learning_rate': 0.16632199849072465, 'n_estimators ': 132, 'gamma': 0.6724218452703564, 'reg_lambda': 1.9579791303945508, 'reg_alpha': 0.6170989720343292}.\n"
     ]
    },
    {
     "name": "stdout",
     "output_type": "stream",
     "text": [
      "{'max_depth': 7, 'learning_rate': 0.15345448018094382, 'n_estimators': 66, 'n_jobs': 4, 'gamma': 0.990599302332881, 'reg_lambda': 2.036977380055699, 'reg_alpha': 0.6346681695179147}\n",
      "0.7953648915187377\n"
     ]
    },
    {
     "name": "stderr",
     "output_type": "stream",
     "text": [
      "[I 2019-08-21 10:12:44,834] Finished trial#20 resulted in value: -0.7953648915187377. Current best value is -0.8172020287404903 with parameters: {'max_depth': 8, 'learning_rate': 0.16632199849072465, 'n_estimators ': 132, 'gamma': 0.6724218452703564, 'reg_lambda': 1.9579791303945508, 'reg_alpha': 0.6170989720343292}.\n"
     ]
    },
    {
     "name": "stdout",
     "output_type": "stream",
     "text": [
      "{'max_depth': 10, 'learning_rate': 0.1810827807814814, 'n_estimators': 40, 'n_jobs': 4, 'gamma': 0.6977988834877966, 'reg_lambda': 1.6641313445279484, 'reg_alpha': 0.012375471786265635}\n",
      "0.7944491406029867\n"
     ]
    },
    {
     "name": "stderr",
     "output_type": "stream",
     "text": [
      "[I 2019-08-21 10:12:54,327] Finished trial#21 resulted in value: -0.7944491406029867. Current best value is -0.8172020287404903 with parameters: {'max_depth': 8, 'learning_rate': 0.16632199849072465, 'n_estimators ': 132, 'gamma': 0.6724218452703564, 'reg_lambda': 1.9579791303945508, 'reg_alpha': 0.6170989720343292}.\n"
     ]
    },
    {
     "name": "stdout",
     "output_type": "stream",
     "text": [
      "{'max_depth': 8, 'learning_rate': 0.14892541746989627, 'n_estimators': 125, 'n_jobs': 4, 'gamma': 0.7698785300302122, 'reg_lambda': 1.9724294764726982, 'reg_alpha': 0.5266718392041478}\n",
      "0.8065652296421526\n"
     ]
    },
    {
     "name": "stderr",
     "output_type": "stream",
     "text": [
      "[I 2019-08-21 10:13:14,764] Finished trial#22 resulted in value: -0.8065652296421526. Current best value is -0.8172020287404903 with parameters: {'max_depth': 8, 'learning_rate': 0.16632199849072465, 'n_estimators ': 132, 'gamma': 0.6724218452703564, 'reg_lambda': 1.9579791303945508, 'reg_alpha': 0.6170989720343292}.\n"
     ]
    },
    {
     "name": "stdout",
     "output_type": "stream",
     "text": [
      "{'max_depth': 8, 'learning_rate': 0.15265666011070786, 'n_estimators': 121, 'n_jobs': 4, 'gamma': 0.8371041735547045, 'reg_lambda': 2.0099267413360087, 'reg_alpha': 1.2191715501603513}\n",
      "0.7800788954635107\n"
     ]
    },
    {
     "name": "stderr",
     "output_type": "stream",
     "text": [
      "[I 2019-08-21 10:13:37,505] Finished trial#23 resulted in value: -0.7800788954635107. Current best value is -0.8172020287404903 with parameters: {'max_depth': 8, 'learning_rate': 0.16632199849072465, 'n_estimators ': 132, 'gamma': 0.6724218452703564, 'reg_lambda': 1.9579791303945508, 'reg_alpha': 0.6170989720343292}.\n"
     ]
    },
    {
     "name": "stdout",
     "output_type": "stream",
     "text": [
      "{'max_depth': 8, 'learning_rate': 0.17897430661043395, 'n_estimators': 89, 'n_jobs': 4, 'gamma': 0.6227300905995291, 'reg_lambda': 2.6291982494040633, 'reg_alpha': 0.5223271163579037}\n",
      "0.8036066497604959\n"
     ]
    },
    {
     "name": "stderr",
     "output_type": "stream",
     "text": [
      "[I 2019-08-21 10:13:53,391] Finished trial#24 resulted in value: -0.8036066497604959. Current best value is -0.8172020287404903 with parameters: {'max_depth': 8, 'learning_rate': 0.16632199849072465, 'n_estimators ': 132, 'gamma': 0.6724218452703564, 'reg_lambda': 1.9579791303945508, 'reg_alpha': 0.6170989720343292}.\n"
     ]
    },
    {
     "name": "stdout",
     "output_type": "stream",
     "text": [
      "{'max_depth': 7, 'learning_rate': 0.15371177562736146, 'n_estimators': 124, 'n_jobs': 4, 'gamma': 0.44162063516607386, 'reg_lambda': 1.2090747765568937, 'reg_alpha': 0.3684919863284305}\n",
      "0.7938151591997746\n"
     ]
    },
    {
     "name": "stderr",
     "output_type": "stream",
     "text": [
      "[I 2019-08-21 10:14:11,837] Finished trial#25 resulted in value: -0.7938151591997746. Current best value is -0.8172020287404903 with parameters: {'max_depth': 8, 'learning_rate': 0.16632199849072465, 'n_estimators ': 132, 'gamma': 0.6724218452703564, 'reg_lambda': 1.9579791303945508, 'reg_alpha': 0.6170989720343292}.\n"
     ]
    },
    {
     "name": "stdout",
     "output_type": "stream",
     "text": [
      "{'max_depth': 9, 'learning_rate': 0.197830979809841, 'n_estimators': 147, 'n_jobs': 4, 'gamma': 0.6489436957832234, 'reg_lambda': 2.0689464164786897, 'reg_alpha': 1.0577573939993914}\n",
      "0.8043815159199774\n"
     ]
    },
    {
     "name": "stderr",
     "output_type": "stream",
     "text": [
      "[I 2019-08-21 10:14:36,733] Finished trial#26 resulted in value: -0.8043815159199774. Current best value is -0.8172020287404903 with parameters: {'max_depth': 8, 'learning_rate': 0.16632199849072465, 'n_estimators ': 132, 'gamma': 0.6724218452703564, 'reg_lambda': 1.9579791303945508, 'reg_alpha': 0.6170989720343292}.\n"
     ]
    },
    {
     "name": "stdout",
     "output_type": "stream",
     "text": [
      "{'max_depth': 6, 'learning_rate': 0.18184447372608936, 'n_estimators': 77, 'n_jobs': 4, 'gamma': 0.8004425778002501, 'reg_lambda': 1.6594731075781333, 'reg_alpha': 0.7478725588885439}\n",
      "0.8041701887855733\n"
     ]
    },
    {
     "name": "stderr",
     "output_type": "stream",
     "text": [
      "[I 2019-08-21 10:14:47,466] Finished trial#27 resulted in value: -0.8041701887855733. Current best value is -0.8172020287404903 with parameters: {'max_depth': 8, 'learning_rate': 0.16632199849072465, 'n_estimators ': 132, 'gamma': 0.6724218452703564, 'reg_lambda': 1.9579791303945508, 'reg_alpha': 0.6170989720343292}.\n"
     ]
    },
    {
     "name": "stdout",
     "output_type": "stream",
     "text": [
      "{'max_depth': 8, 'learning_rate': 0.11537744703809108, 'n_estimators': 110, 'n_jobs': 4, 'gamma': 0.9105876357769577, 'reg_lambda': 2.522097688864572, 'reg_alpha': 1.40664083976124}\n",
      "0.7618343195266273\n"
     ]
    },
    {
     "name": "stderr",
     "output_type": "stream",
     "text": [
      "[I 2019-08-21 10:15:05,369] Finished trial#28 resulted in value: -0.7618343195266273. Current best value is -0.8172020287404903 with parameters: {'max_depth': 8, 'learning_rate': 0.16632199849072465, 'n_estimators ': 132, 'gamma': 0.6724218452703564, 'reg_lambda': 1.9579791303945508, 'reg_alpha': 0.6170989720343292}.\n"
     ]
    },
    {
     "name": "stdout",
     "output_type": "stream",
     "text": [
      "{'max_depth': 5, 'learning_rate': 0.16192360385576338, 'n_estimators': 39, 'n_jobs': 4, 'gamma': 0.9992727309704619, 'reg_lambda': 1.9838544476102515, 'reg_alpha': 1.772490851203246}\n",
      "0.7573964497041419\n"
     ]
    },
    {
     "name": "stderr",
     "output_type": "stream",
     "text": [
      "[I 2019-08-21 10:15:10,717] Finished trial#29 resulted in value: -0.7573964497041419. Current best value is -0.8172020287404903 with parameters: {'max_depth': 8, 'learning_rate': 0.16632199849072465, 'n_estimators ': 132, 'gamma': 0.6724218452703564, 'reg_lambda': 1.9579791303945508, 'reg_alpha': 0.6170989720343292}.\n"
     ]
    },
    {
     "name": "stdout",
     "output_type": "stream",
     "text": [
      "{'max_depth': 9, 'learning_rate': 0.14468693989745, 'n_estimators': 132, 'n_jobs': 4, 'gamma': 0.571914635740685, 'reg_lambda': 1.612736407828433, 'reg_alpha': 0.19794693566500415}\n",
      "0.799098337559876\n"
     ]
    },
    {
     "name": "stderr",
     "output_type": "stream",
     "text": [
      "[I 2019-08-21 10:15:35,085] Finished trial#30 resulted in value: -0.799098337559876. Current best value is -0.8172020287404903 with parameters: {'max_depth': 8, 'learning_rate': 0.16632199849072465, 'n_estimators ': 132, 'gamma': 0.6724218452703564, 'reg_lambda': 1.9579791303945508, 'reg_alpha': 0.6170989720343292}.\n"
     ]
    },
    {
     "name": "stdout",
     "output_type": "stream",
     "text": [
      "{'max_depth': 9, 'learning_rate': 0.1898706386870523, 'n_estimators': 145, 'n_jobs': 4, 'gamma': 0.6497270738916072, 'reg_lambda': 2.1093707608348513, 'reg_alpha': 1.147595777976795}\n",
      "0.7805719921104536\n"
     ]
    },
    {
     "name": "stderr",
     "output_type": "stream",
     "text": [
      "[I 2019-08-21 10:16:00,099] Finished trial#31 resulted in value: -0.7805719921104536. Current best value is -0.8172020287404903 with parameters: {'max_depth': 8, 'learning_rate': 0.16632199849072465, 'n_estimators ': 132, 'gamma': 0.6724218452703564, 'reg_lambda': 1.9579791303945508, 'reg_alpha': 0.6170989720343292}.\n"
     ]
    },
    {
     "name": "stdout",
     "output_type": "stream",
     "text": [
      "{'max_depth': 8, 'learning_rate': 0.17359916592445196, 'n_estimators': 154, 'n_jobs': 4, 'gamma': 0.7263849296688171, 'reg_lambda': 2.3824237235973738, 'reg_alpha': 0.910109832744503}\n",
      "0.8085376162299239\n"
     ]
    },
    {
     "name": "stderr",
     "output_type": "stream",
     "text": [
      "[I 2019-08-21 10:16:28,173] Finished trial#32 resulted in value: -0.8085376162299239. Current best value is -0.8172020287404903 with parameters: {'max_depth': 8, 'learning_rate': 0.16632199849072465, 'n_estimators ': 132, 'gamma': 0.6724218452703564, 'reg_lambda': 1.9579791303945508, 'reg_alpha': 0.6170989720343292}.\n"
     ]
    },
    {
     "name": "stdout",
     "output_type": "stream",
     "text": [
      "{'max_depth': 8, 'learning_rate': 0.1722043703860097, 'n_estimators': 164, 'n_jobs': 4, 'gamma': 0.732433037167948, 'reg_lambda': 2.44807256480324, 'reg_alpha': 0.7176715103832786}\n",
      "0.8047337278106508\n"
     ]
    },
    {
     "name": "stderr",
     "output_type": "stream",
     "text": [
      "[I 2019-08-21 10:16:58,935] Finished trial#33 resulted in value: -0.8047337278106508. Current best value is -0.8172020287404903 with parameters: {'max_depth': 8, 'learning_rate': 0.16632199849072465, 'n_estimators ': 132, 'gamma': 0.6724218452703564, 'reg_lambda': 1.9579791303945508, 'reg_alpha': 0.6170989720343292}.\n"
     ]
    },
    {
     "name": "stdout",
     "output_type": "stream",
     "text": [
      "{'max_depth': 7, 'learning_rate': 0.1449023580793191, 'n_estimators': 156, 'n_jobs': 4, 'gamma': 0.8785858684165906, 'reg_lambda': 2.3881121630513276, 'reg_alpha': 0.4175203039258183}\n",
      "0.7833192448577062\n"
     ]
    },
    {
     "name": "stderr",
     "output_type": "stream",
     "text": [
      "[I 2019-08-21 10:17:26,790] Finished trial#34 resulted in value: -0.7833192448577062. Current best value is -0.8172020287404903 with parameters: {'max_depth': 8, 'learning_rate': 0.16632199849072465, 'n_estimators ': 132, 'gamma': 0.6724218452703564, 'reg_lambda': 1.9579791303945508, 'reg_alpha': 0.6170989720343292}.\n"
     ]
    },
    {
     "name": "stdout",
     "output_type": "stream",
     "text": [
      "{'max_depth': 8, 'learning_rate': 0.16101963786932558, 'n_estimators': 182, 'n_jobs': 4, 'gamma': 0.9414465474429468, 'reg_lambda': 2.674644542705946, 'reg_alpha': 0.5183947787333564}\n",
      "0.7963510848126233\n"
     ]
    },
    {
     "name": "stderr",
     "output_type": "stream",
     "text": [
      "[I 2019-08-21 10:17:59,139] Finished trial#35 resulted in value: -0.7963510848126233. Current best value is -0.8172020287404903 with parameters: {'max_depth': 8, 'learning_rate': 0.16632199849072465, 'n_estimators ': 132, 'gamma': 0.6724218452703564, 'reg_lambda': 1.9579791303945508, 'reg_alpha': 0.6170989720343292}.\n"
     ]
    },
    {
     "name": "stdout",
     "output_type": "stream",
     "text": [
      "{'max_depth': 7, 'learning_rate': 0.17742519075226268, 'n_estimators': 116, 'n_jobs': 4, 'gamma': 0.8542172913626509, 'reg_lambda': 1.9141942690683855, 'reg_alpha': 0.9533773538356052}\n",
      "0.7755001408847563\n"
     ]
    },
    {
     "name": "stderr",
     "output_type": "stream",
     "text": [
      "[I 2019-08-21 10:18:17,288] Finished trial#36 resulted in value: -0.7755001408847563. Current best value is -0.8172020287404903 with parameters: {'max_depth': 8, 'learning_rate': 0.16632199849072465, 'n_estimators ': 132, 'gamma': 0.6724218452703564, 'reg_lambda': 1.9579791303945508, 'reg_alpha': 0.6170989720343292}.\n"
     ]
    },
    {
     "name": "stdout",
     "output_type": "stream",
     "text": [
      "{'max_depth': 6, 'learning_rate': 0.13753156963697688, 'n_estimators': 99, 'n_jobs': 4, 'gamma': 0.5633655306506007, 'reg_lambda': 2.337612575845018, 'reg_alpha': 0.19182544623310843}\n",
      "0.7922654268808114\n"
     ]
    },
    {
     "name": "stderr",
     "output_type": "stream",
     "text": [
      "[I 2019-08-21 10:18:31,156] Finished trial#37 resulted in value: -0.7922654268808114. Current best value is -0.8172020287404903 with parameters: {'max_depth': 8, 'learning_rate': 0.16632199849072465, 'n_estimators ': 132, 'gamma': 0.6724218452703564, 'reg_lambda': 1.9579791303945508, 'reg_alpha': 0.6170989720343292}.\n"
     ]
    },
    {
     "name": "stdout",
     "output_type": "stream",
     "text": [
      "{'max_depth': 5, 'learning_rate': 0.19837722175493055, 'n_estimators': 137, 'n_jobs': 4, 'gamma': 0.749499515899013, 'reg_lambda': 2.1269178943429172, 'reg_alpha': 1.31817901123363}\n",
      "0.7945900253592562\n"
     ]
    },
    {
     "name": "stderr",
     "output_type": "stream",
     "text": [
      "[I 2019-08-21 10:18:46,022] Finished trial#38 resulted in value: -0.7945900253592562. Current best value is -0.8172020287404903 with parameters: {'max_depth': 8, 'learning_rate': 0.16632199849072465, 'n_estimators ': 132, 'gamma': 0.6724218452703564, 'reg_lambda': 1.9579791303945508, 'reg_alpha': 0.6170989720343292}.\n"
     ]
    },
    {
     "name": "stdout",
     "output_type": "stream",
     "text": [
      "{'max_depth': 8, 'learning_rate': 0.18875797566412533, 'n_estimators': 126, 'n_jobs': 4, 'gamma': 0.45499247159557393, 'reg_lambda': 1.7280373068814159, 'reg_alpha': 1.6385922899826761}\n",
      "0.7908565793181177\n"
     ]
    },
    {
     "name": "stderr",
     "output_type": "stream",
     "text": [
      "[I 2019-08-21 10:19:06,873] Finished trial#39 resulted in value: -0.7908565793181177. Current best value is -0.8172020287404903 with parameters: {'max_depth': 8, 'learning_rate': 0.16632199849072465, 'n_estimators ': 132, 'gamma': 0.6724218452703564, 'reg_lambda': 1.9579791303945508, 'reg_alpha': 0.6170989720343292}.\n"
     ]
    },
    {
     "name": "stdout",
     "output_type": "stream",
     "text": [
      "{'max_depth': 7, 'learning_rate': 0.14783697260961495, 'n_estimators': 108, 'n_jobs': 4, 'gamma': 0.8270548574734213, 'reg_lambda': 1.2781294604617779, 'reg_alpha': 0.7830444286184981}\n",
      "0.8014933784164553\n"
     ]
    },
    {
     "name": "stderr",
     "output_type": "stream",
     "text": [
      "[I 2019-08-21 10:19:23,157] Finished trial#40 resulted in value: -0.8014933784164553. Current best value is -0.8172020287404903 with parameters: {'max_depth': 8, 'learning_rate': 0.16632199849072465, 'n_estimators ': 132, 'gamma': 0.6724218452703564, 'reg_lambda': 1.9579791303945508, 'reg_alpha': 0.6170989720343292}.\n"
     ]
    },
    {
     "name": "stdout",
     "output_type": "stream",
     "text": [
      "{'max_depth': 8, 'learning_rate': 0.1741194040236254, 'n_estimators': 158, 'n_jobs': 4, 'gamma': 0.7077262374744487, 'reg_lambda': 2.4634766409174014, 'reg_alpha': 0.657780772461106}\n",
      "0.8066356720202875\n"
     ]
    },
    {
     "name": "stderr",
     "output_type": "stream",
     "text": [
      "[I 2019-08-21 10:19:48,940] Finished trial#41 resulted in value: -0.8066356720202875. Current best value is -0.8172020287404903 with parameters: {'max_depth': 8, 'learning_rate': 0.16632199849072465, 'n_estimators ': 132, 'gamma': 0.6724218452703564, 'reg_lambda': 1.9579791303945508, 'reg_alpha': 0.6170989720343292}.\n"
     ]
    },
    {
     "name": "stdout",
     "output_type": "stream",
     "text": [
      "{'max_depth': 9, 'learning_rate': 0.1595702609984467, 'n_estimators': 155, 'n_jobs': 4, 'gamma': 0.6551537805897376, 'reg_lambda': 2.829988737864176, 'reg_alpha': 0.980122309088985}\n",
      "0.8147365455057762\n"
     ]
    },
    {
     "name": "stderr",
     "output_type": "stream",
     "text": [
      "[I 2019-08-21 10:20:15,456] Finished trial#42 resulted in value: -0.8147365455057762. Current best value is -0.8172020287404903 with parameters: {'max_depth': 8, 'learning_rate': 0.16632199849072465, 'n_estimators ': 132, 'gamma': 0.6724218452703564, 'reg_lambda': 1.9579791303945508, 'reg_alpha': 0.6170989720343292}.\n"
     ]
    },
    {
     "name": "stdout",
     "output_type": "stream",
     "text": [
      "{'max_depth': 9, 'learning_rate': 0.1575978562469884, 'n_estimators': 155, 'n_jobs': 4, 'gamma': 0.5317677163574938, 'reg_lambda': 2.8161355631179914, 'reg_alpha': 0.9647626700968612}\n",
      "0.7999436460974924\n"
     ]
    },
    {
     "name": "stderr",
     "output_type": "stream",
     "text": [
      "[I 2019-08-21 10:20:44,308] Finished trial#43 resulted in value: -0.7999436460974924. Current best value is -0.8172020287404903 with parameters: {'max_depth': 8, 'learning_rate': 0.16632199849072465, 'n_estimators ': 132, 'gamma': 0.6724218452703564, 'reg_lambda': 1.9579791303945508, 'reg_alpha': 0.6170989720343292}.\n"
     ]
    },
    {
     "name": "stdout",
     "output_type": "stream",
     "text": [
      "{'max_depth': 10, 'learning_rate': 0.13687253083159368, 'n_estimators': 163, 'n_jobs': 4, 'gamma': 0.707434578144595, 'reg_lambda': 2.8211866360440765, 'reg_alpha': 0.33216828621647787}\n",
      "0.8034657650042265\n"
     ]
    },
    {
     "name": "stderr",
     "output_type": "stream",
     "text": [
      "[I 2019-08-21 10:21:14,009] Finished trial#44 resulted in value: -0.8034657650042265. Current best value is -0.8172020287404903 with parameters: {'max_depth': 8, 'learning_rate': 0.16632199849072465, 'n_estimators ': 132, 'gamma': 0.6724218452703564, 'reg_lambda': 1.9579791303945508, 'reg_alpha': 0.6170989720343292}.\n"
     ]
    },
    {
     "name": "stdout",
     "output_type": "stream",
     "text": [
      "{'max_depth': 3, 'learning_rate': 0.16507435280039467, 'n_estimators': 141, 'n_jobs': 4, 'gamma': 0.7564592773344112, 'reg_lambda': 2.583473232921631, 'reg_alpha': 0.9006848149682162}\n",
      "0.804029304029304\n"
     ]
    },
    {
     "name": "stderr",
     "output_type": "stream",
     "text": [
      "[I 2019-08-21 10:21:23,733] Finished trial#45 resulted in value: -0.804029304029304. Current best value is -0.8172020287404903 with parameters: {'max_depth': 8, 'learning_rate': 0.16632199849072465, 'n_estimators ': 132, 'gamma': 0.6724218452703564, 'reg_lambda': 1.9579791303945508, 'reg_alpha': 0.6170989720343292}.\n"
     ]
    },
    {
     "name": "stdout",
     "output_type": "stream",
     "text": [
      "{'max_depth': 9, 'learning_rate': 0.18367276203252716, 'n_estimators': 176, 'n_jobs': 4, 'gamma': 0.6206860170853696, 'reg_lambda': 2.183965210912084, 'reg_alpha': 1.057801235800893}\n",
      "0.8020569174415327\n"
     ]
    },
    {
     "name": "stderr",
     "output_type": "stream",
     "text": [
      "[I 2019-08-21 10:21:56,928] Finished trial#46 resulted in value: -0.8020569174415327. Current best value is -0.8172020287404903 with parameters: {'max_depth': 8, 'learning_rate': 0.16632199849072465, 'n_estimators ': 132, 'gamma': 0.6724218452703564, 'reg_lambda': 1.9579791303945508, 'reg_alpha': 0.6170989720343292}.\n"
     ]
    },
    {
     "name": "stdout",
     "output_type": "stream",
     "text": [
      "{'max_depth': 7, 'learning_rate': 0.12940519913328896, 'n_estimators': 187, 'n_jobs': 4, 'gamma': 0.8965931267140939, 'reg_lambda': 2.769398580056206, 'reg_alpha': 0.5147231063029606}\n",
      "0.7995209918286842\n"
     ]
    },
    {
     "name": "stderr",
     "output_type": "stream",
     "text": [
      "[I 2019-08-21 10:22:26,578] Finished trial#47 resulted in value: -0.7995209918286842. Current best value is -0.8172020287404903 with parameters: {'max_depth': 8, 'learning_rate': 0.16632199849072465, 'n_estimators ': 132, 'gamma': 0.6724218452703564, 'reg_lambda': 1.9579791303945508, 'reg_alpha': 0.6170989720343292}.\n"
     ]
    },
    {
     "name": "stdout",
     "output_type": "stream",
     "text": [
      "{'max_depth': 9, 'learning_rate': 0.15810246719907348, 'n_estimators': 160, 'n_jobs': 4, 'gamma': 0.7963399863385545, 'reg_lambda': 2.293353153706431, 'reg_alpha': 2.541209416534029}\n",
      "0.7564102564102563\n"
     ]
    },
    {
     "name": "stderr",
     "output_type": "stream",
     "text": [
      "[I 2019-08-21 10:22:53,130] Finished trial#48 resulted in value: -0.7564102564102563. Current best value is -0.8172020287404903 with parameters: {'max_depth': 8, 'learning_rate': 0.16632199849072465, 'n_estimators ': 132, 'gamma': 0.6724218452703564, 'reg_lambda': 1.9579791303945508, 'reg_alpha': 0.6170989720343292}.\n"
     ]
    },
    {
     "name": "stdout",
     "output_type": "stream",
     "text": [
      "{'max_depth': 10, 'learning_rate': 0.1680328391866464, 'n_estimators': 171, 'n_jobs': 4, 'gamma': 0.4870367888263419, 'reg_lambda': 2.5084067431846115, 'reg_alpha': 0.6954293480357429}\n",
      "0.7871231332769795\n"
     ]
    },
    {
     "name": "stderr",
     "output_type": "stream",
     "text": [
      "[I 2019-08-21 10:23:27,395] Finished trial#49 resulted in value: -0.7871231332769795. Current best value is -0.8172020287404903 with parameters: {'max_depth': 8, 'learning_rate': 0.16632199849072465, 'n_estimators ': 132, 'gamma': 0.6724218452703564, 'reg_lambda': 1.9579791303945508, 'reg_alpha': 0.6170989720343292}.\n"
     ]
    },
    {
     "name": "stdout",
     "output_type": "stream",
     "text": [
      "{'max_depth': 1, 'learning_rate': 0.1744019263765959, 'n_estimators': 151, 'n_jobs': 4, 'gamma': 0.7122854118081317, 'reg_lambda': 2.1821451314239, 'reg_alpha': 0.8418769551124846}\n",
      "0.7480276134122288\n"
     ]
    },
    {
     "name": "stderr",
     "output_type": "stream",
     "text": [
      "[I 2019-08-21 10:23:32,775] Finished trial#50 resulted in value: -0.7480276134122288. Current best value is -0.8172020287404903 with parameters: {'max_depth': 8, 'learning_rate': 0.16632199849072465, 'n_estimators ': 132, 'gamma': 0.6724218452703564, 'reg_lambda': 1.9579791303945508, 'reg_alpha': 0.6170989720343292}.\n"
     ]
    },
    {
     "name": "stdout",
     "output_type": "stream",
     "text": [
      "{'max_depth': 8, 'learning_rate': 0.16775472327163954, 'n_estimators': 138, 'n_jobs': 4, 'gamma': 0.6622651332676, 'reg_lambda': 2.342247658632679, 'reg_alpha': 0.6399934769360556}\n",
      "0.8156522964215273\n"
     ]
    },
    {
     "name": "stderr",
     "output_type": "stream",
     "text": [
      "[I 2019-08-21 10:23:56,380] Finished trial#51 resulted in value: -0.8156522964215273. Current best value is -0.8172020287404903 with parameters: {'max_depth': 8, 'learning_rate': 0.16632199849072465, 'n_estimators ': 132, 'gamma': 0.6724218452703564, 'reg_lambda': 1.9579791303945508, 'reg_alpha': 0.6170989720343292}.\n"
     ]
    },
    {
     "name": "stdout",
     "output_type": "stream",
     "text": [
      "{'max_depth': 8, 'learning_rate': 0.14941241673985145, 'n_estimators': 136, 'n_jobs': 4, 'gamma': 0.6681139124291682, 'reg_lambda': 2.4164003295946253, 'reg_alpha': 0.28234515530884785}\n",
      "0.8021978021978022\n"
     ]
    },
    {
     "name": "stderr",
     "output_type": "stream",
     "text": [
      "[I 2019-08-21 10:24:22,160] Finished trial#52 resulted in value: -0.8021978021978022. Current best value is -0.8172020287404903 with parameters: {'max_depth': 8, 'learning_rate': 0.16632199849072465, 'n_estimators ': 132, 'gamma': 0.6724218452703564, 'reg_lambda': 1.9579791303945508, 'reg_alpha': 0.6170989720343292}.\n"
     ]
    },
    {
     "name": "stdout",
     "output_type": "stream",
     "text": [
      "{'max_depth': 8, 'learning_rate': 0.1865155332456038, 'n_estimators': 145, 'n_jobs': 4, 'gamma': 0.6034526875528402, 'reg_lambda': 2.283074486017958, 'reg_alpha': 0.5562329082263221}\n",
      "0.7963510848126232\n"
     ]
    },
    {
     "name": "stderr",
     "output_type": "stream",
     "text": [
      "[I 2019-08-21 10:24:48,512] Finished trial#53 resulted in value: -0.7963510848126232. Current best value is -0.8172020287404903 with parameters: {'max_depth': 8, 'learning_rate': 0.16632199849072465, 'n_estimators ': 132, 'gamma': 0.6724218452703564, 'reg_lambda': 1.9579791303945508, 'reg_alpha': 0.6170989720343292}.\n"
     ]
    },
    {
     "name": "stdout",
     "output_type": "stream",
     "text": [
      "{'max_depth': 9, 'learning_rate': 0.16483282394833798, 'n_estimators': 117, 'n_jobs': 4, 'gamma': 0.7757725058824501, 'reg_lambda': 2.8939432619297603, 'reg_alpha': 1.0531531459867414}\n",
      "0.7897999436460975\n"
     ]
    },
    {
     "name": "stderr",
     "output_type": "stream",
     "text": [
      "[I 2019-08-21 10:25:11,792] Finished trial#54 resulted in value: -0.7897999436460975. Current best value is -0.8172020287404903 with parameters: {'max_depth': 8, 'learning_rate': 0.16632199849072465, 'n_estimators ': 132, 'gamma': 0.6724218452703564, 'reg_lambda': 1.9579791303945508, 'reg_alpha': 0.6170989720343292}.\n"
     ]
    },
    {
     "name": "stdout",
     "output_type": "stream",
     "text": [
      "{'max_depth': 6, 'learning_rate': 0.19402211714923537, 'n_estimators': 169, 'n_jobs': 4, 'gamma': 0.6846733770268235, 'reg_lambda': 2.5568552782512817, 'reg_alpha': 0.10419730044999798}\n",
      "0.7920540997464074\n"
     ]
    },
    {
     "name": "stderr",
     "output_type": "stream",
     "text": [
      "[I 2019-08-21 10:25:40,456] Finished trial#55 resulted in value: -0.7920540997464074. Current best value is -0.8172020287404903 with parameters: {'max_depth': 8, 'learning_rate': 0.16632199849072465, 'n_estimators ': 132, 'gamma': 0.6724218452703564, 'reg_lambda': 1.9579791303945508, 'reg_alpha': 0.6170989720343292}.\n"
     ]
    },
    {
     "name": "stdout",
     "output_type": "stream",
     "text": [
      "{'max_depth': 7, 'learning_rate': 0.16904185080848685, 'n_estimators': 128, 'n_jobs': 4, 'gamma': 0.6337640358767539, 'reg_lambda': 2.6871199486053547, 'reg_alpha': 0.4327349618682038}\n",
      "0.8031135531135531\n"
     ]
    },
    {
     "name": "stderr",
     "output_type": "stream",
     "text": [
      "[I 2019-08-21 10:26:00,163] Finished trial#56 resulted in value: -0.8031135531135531. Current best value is -0.8172020287404903 with parameters: {'max_depth': 8, 'learning_rate': 0.16632199849072465, 'n_estimators ': 132, 'gamma': 0.6724218452703564, 'reg_lambda': 1.9579791303945508, 'reg_alpha': 0.6170989720343292}.\n"
     ]
    },
    {
     "name": "stdout",
     "output_type": "stream",
     "text": [
      "{'max_depth': 8, 'learning_rate': 0.17671079395920986, 'n_estimators': 134, 'n_jobs': 4, 'gamma': 0.8173220640784774, 'reg_lambda': 2.9866458925575503, 'reg_alpha': 0.8213419256858895}\n",
      "0.8032544378698225\n"
     ]
    },
    {
     "name": "stderr",
     "output_type": "stream",
     "text": [
      "[I 2019-08-21 10:26:22,586] Finished trial#57 resulted in value: -0.8032544378698225. Current best value is -0.8172020287404903 with parameters: {'max_depth': 8, 'learning_rate': 0.16632199849072465, 'n_estimators ': 132, 'gamma': 0.6724218452703564, 'reg_lambda': 1.9579791303945508, 'reg_alpha': 0.6170989720343292}.\n"
     ]
    },
    {
     "name": "stdout",
     "output_type": "stream",
     "text": [
      "{'max_depth': 9, 'learning_rate': 0.1570235257127756, 'n_estimators': 153, 'n_jobs': 4, 'gamma': 0.7309425981411076, 'reg_lambda': 1.9138059717567228, 'reg_alpha': 1.266634516109828}\n",
      "0.7868413637644406\n"
     ]
    },
    {
     "name": "stderr",
     "output_type": "stream",
     "text": [
      "[I 2019-08-21 10:26:48,647] Finished trial#58 resulted in value: -0.7868413637644406. Current best value is -0.8172020287404903 with parameters: {'max_depth': 8, 'learning_rate': 0.16632199849072465, 'n_estimators ': 132, 'gamma': 0.6724218452703564, 'reg_lambda': 1.9579791303945508, 'reg_alpha': 0.6170989720343292}.\n"
     ]
    },
    {
     "name": "stdout",
     "output_type": "stream",
     "text": [
      "{'max_depth': 10, 'learning_rate': 0.14264752345422915, 'n_estimators': 106, 'n_jobs': 4, 'gamma': 0.5711910811461558, 'reg_lambda': 2.3531968979441142, 'reg_alpha': 0.6387019535893239}\n",
      "0.7987461256692026\n"
     ]
    },
    {
     "name": "stderr",
     "output_type": "stream",
     "text": [
      "[I 2019-08-21 10:27:08,819] Finished trial#59 resulted in value: -0.7987461256692026. Current best value is -0.8172020287404903 with parameters: {'max_depth': 8, 'learning_rate': 0.16632199849072465, 'n_estimators ': 132, 'gamma': 0.6724218452703564, 'reg_lambda': 1.9579791303945508, 'reg_alpha': 0.6170989720343292}.\n"
     ]
    },
    {
     "name": "stdout",
     "output_type": "stream",
     "text": [
      "{'max_depth': 7, 'learning_rate': 0.15358271208929938, 'n_estimators': 142, 'n_jobs': 4, 'gamma': 0.5250396731048192, 'reg_lambda': 1.8032510074333679, 'reg_alpha': 1.1169648884826577}\n",
      "0.7750070442378134\n"
     ]
    },
    {
     "name": "stderr",
     "output_type": "stream",
     "text": [
      "[I 2019-08-21 10:27:33,660] Finished trial#60 resulted in value: -0.7750070442378134. Current best value is -0.8172020287404903 with parameters: {'max_depth': 8, 'learning_rate': 0.16632199849072465, 'n_estimators ': 132, 'gamma': 0.6724218452703564, 'reg_lambda': 1.9579791303945508, 'reg_alpha': 0.6170989720343292}.\n"
     ]
    },
    {
     "name": "stdout",
     "output_type": "stream",
     "text": [
      "{'max_depth': 8, 'learning_rate': 0.17324591788015437, 'n_estimators': 122, 'n_jobs': 4, 'gamma': 0.6840634404057655, 'reg_lambda': 1.9592887744309855, 'reg_alpha': 0.6742178402791685}\n",
      "0.812764158918005\n"
     ]
    },
    {
     "name": "stderr",
     "output_type": "stream",
     "text": [
      "[I 2019-08-21 10:27:53,995] Finished trial#61 resulted in value: -0.812764158918005. Current best value is -0.8172020287404903 with parameters: {'max_depth': 8, 'learning_rate': 0.16632199849072465, 'n_estimators ': 132, 'gamma': 0.6724218452703564, 'reg_lambda': 1.9579791303945508, 'reg_alpha': 0.6170989720343292}.\n"
     ]
    },
    {
     "name": "stdout",
     "output_type": "stream",
     "text": [
      "{'max_depth': 8, 'learning_rate': 0.16589564496657017, 'n_estimators': 117, 'n_jobs': 4, 'gamma': 0.6738435626685089, 'reg_lambda': 1.5198343044687912, 'reg_alpha': 0.7131444400177906}\n",
      "0.8009298393913779\n"
     ]
    },
    {
     "name": "stderr",
     "output_type": "stream",
     "text": [
      "[I 2019-08-21 10:28:13,871] Finished trial#62 resulted in value: -0.8009298393913779. Current best value is -0.8172020287404903 with parameters: {'max_depth': 8, 'learning_rate': 0.16632199849072465, 'n_estimators ': 132, 'gamma': 0.6724218452703564, 'reg_lambda': 1.9579791303945508, 'reg_alpha': 0.6170989720343292}.\n"
     ]
    },
    {
     "name": "stdout",
     "output_type": "stream",
     "text": [
      "{'max_depth': 8, 'learning_rate': 0.18437118704545213, 'n_estimators': 123, 'n_jobs': 4, 'gamma': 0.7667872283443462, 'reg_lambda': 2.2294133442426314, 'reg_alpha': 0.5938132742612949}\n",
      "0.7986052409129331\n"
     ]
    },
    {
     "name": "stderr",
     "output_type": "stream",
     "text": [
      "[I 2019-08-21 10:28:35,156] Finished trial#63 resulted in value: -0.7986052409129331. Current best value is -0.8172020287404903 with parameters: {'max_depth': 8, 'learning_rate': 0.16632199849072465, 'n_estimators ': 132, 'gamma': 0.6724218452703564, 'reg_lambda': 1.9579791303945508, 'reg_alpha': 0.6170989720343292}.\n"
     ]
    },
    {
     "name": "stdout",
     "output_type": "stream",
     "text": [
      "{'max_depth': 9, 'learning_rate': 0.17475140867318786, 'n_estimators': 148, 'n_jobs': 4, 'gamma': 0.7188909569038973, 'reg_lambda': 1.8958167159885873, 'reg_alpha': 0.42672008805995776}\n",
      "0.7943082558467174\n"
     ]
    },
    {
     "name": "stderr",
     "output_type": "stream",
     "text": [
      "[I 2019-08-21 10:29:01,949] Finished trial#64 resulted in value: -0.7943082558467174. Current best value is -0.8172020287404903 with parameters: {'max_depth': 8, 'learning_rate': 0.16632199849072465, 'n_estimators ': 132, 'gamma': 0.6724218452703564, 'reg_lambda': 1.9579791303945508, 'reg_alpha': 0.6170989720343292}.\n"
     ]
    },
    {
     "name": "stdout",
     "output_type": "stream",
     "text": [
      "{'max_depth': 8, 'learning_rate': 0.16064627256330602, 'n_estimators': 130, 'n_jobs': 4, 'gamma': 0.5956247963722615, 'reg_lambda': 2.0996389865981775, 'reg_alpha': 0.8391157619042795}\n",
      "0.8031839954916878\n"
     ]
    },
    {
     "name": "stderr",
     "output_type": "stream",
     "text": [
      "[I 2019-08-21 10:29:25,488] Finished trial#65 resulted in value: -0.8031839954916878. Current best value is -0.8172020287404903 with parameters: {'max_depth': 8, 'learning_rate': 0.16632199849072465, 'n_estimators ': 132, 'gamma': 0.6724218452703564, 'reg_lambda': 1.9579791303945508, 'reg_alpha': 0.6170989720343292}.\n"
     ]
    },
    {
     "name": "stdout",
     "output_type": "stream",
     "text": [
      "{'max_depth': 7, 'learning_rate': 0.1697136133178041, 'n_estimators': 139, 'n_jobs': 4, 'gamma': 0.6564815452668613, 'reg_lambda': 2.461123397024334, 'reg_alpha': 0.9563734751480907}\n",
      "0.8015638207945901\n"
     ]
    },
    {
     "name": "stderr",
     "output_type": "stream",
     "text": [
      "[I 2019-08-21 10:29:47,347] Finished trial#66 resulted in value: -0.8015638207945901. Current best value is -0.8172020287404903 with parameters: {'max_depth': 8, 'learning_rate': 0.16632199849072465, 'n_estimators ': 132, 'gamma': 0.6724218452703564, 'reg_lambda': 1.9579791303945508, 'reg_alpha': 0.6170989720343292}.\n"
     ]
    },
    {
     "name": "stdout",
     "output_type": "stream",
     "text": [
      "{'max_depth': 9, 'learning_rate': 0.19406356131839675, 'n_estimators': 156, 'n_jobs': 4, 'gamma': 0.6890277273575997, 'reg_lambda': 2.035008428378968, 'reg_alpha': 0.5218838848015939}\n",
      "0.8055085939701323\n"
     ]
    },
    {
     "name": "stderr",
     "output_type": "stream",
     "text": [
      "[I 2019-08-21 10:30:15,516] Finished trial#67 resulted in value: -0.8055085939701323. Current best value is -0.8172020287404903 with parameters: {'max_depth': 8, 'learning_rate': 0.16632199849072465, 'n_estimators ': 132, 'gamma': 0.6724218452703564, 'reg_lambda': 1.9579791303945508, 'reg_alpha': 0.6170989720343292}.\n"
     ]
    },
    {
     "name": "stdout",
     "output_type": "stream",
     "text": [
      "{'max_depth': 8, 'learning_rate': 0.17572165889269145, 'n_estimators': 168, 'n_jobs': 4, 'gamma': 0.7881197916240036, 'reg_lambda': 1.7721337641404944, 'reg_alpha': 0.6761909831246069}\n",
      "0.8087489433643279\n"
     ]
    },
    {
     "name": "stderr",
     "output_type": "stream",
     "text": [
      "[I 2019-08-21 10:30:44,882] Finished trial#68 resulted in value: -0.8087489433643279. Current best value is -0.8172020287404903 with parameters: {'max_depth': 8, 'learning_rate': 0.16632199849072465, 'n_estimators ': 132, 'gamma': 0.6724218452703564, 'reg_lambda': 1.9579791303945508, 'reg_alpha': 0.6170989720343292}.\n"
     ]
    },
    {
     "name": "stdout",
     "output_type": "stream",
     "text": [
      "{'max_depth': 9, 'learning_rate': 0.1803851686773273, 'n_estimators': 172, 'n_jobs': 4, 'gamma': 0.6419471895825627, 'reg_lambda': 1.7694038144036595, 'reg_alpha': 0.7528191518631484}\n",
      "0.7948717948717949\n"
     ]
    },
    {
     "name": "stderr",
     "output_type": "stream",
     "text": [
      "[I 2019-08-21 10:31:19,006] Finished trial#69 resulted in value: -0.7948717948717949. Current best value is -0.8172020287404903 with parameters: {'max_depth': 8, 'learning_rate': 0.16632199849072465, 'n_estimators ': 132, 'gamma': 0.6724218452703564, 'reg_lambda': 1.9579791303945508, 'reg_alpha': 0.6170989720343292}.\n"
     ]
    },
    {
     "name": "stdout",
     "output_type": "stream",
     "text": [
      "{'max_depth': 8, 'learning_rate': 0.17829102883954268, 'n_estimators': 183, 'n_jobs': 4, 'gamma': 0.858755315361013, 'reg_lambda': 1.612057245469355, 'reg_alpha': 0.6735678074329645}\n",
      "0.789025077486616\n"
     ]
    },
    {
     "name": "stderr",
     "output_type": "stream",
     "text": [
      "[I 2019-08-21 10:31:48,766] Finished trial#70 resulted in value: -0.789025077486616. Current best value is -0.8172020287404903 with parameters: {'max_depth': 8, 'learning_rate': 0.16632199849072465, 'n_estimators ': 132, 'gamma': 0.6724218452703564, 'reg_lambda': 1.9579791303945508, 'reg_alpha': 0.6170989720343292}.\n"
     ]
    },
    {
     "name": "stdout",
     "output_type": "stream",
     "text": [
      "{'max_depth': 8, 'learning_rate': 0.1727460102343835, 'n_estimators': 162, 'n_jobs': 4, 'gamma': 0.7859545525859826, 'reg_lambda': 1.9772519288762718, 'reg_alpha': 0.3263249299299577}\n",
      "0.8003663003663003\n"
     ]
    },
    {
     "name": "stderr",
     "output_type": "stream",
     "text": [
      "[I 2019-08-21 10:32:18,105] Finished trial#71 resulted in value: -0.8003663003663003. Current best value is -0.8172020287404903 with parameters: {'max_depth': 8, 'learning_rate': 0.16632199849072465, 'n_estimators ': 132, 'gamma': 0.6724218452703564, 'reg_lambda': 1.9579791303945508, 'reg_alpha': 0.6170989720343292}.\n"
     ]
    },
    {
     "name": "stdout",
     "output_type": "stream",
     "text": [
      "{'max_depth': 7, 'learning_rate': 0.16124327615017348, 'n_estimators': 149, 'n_jobs': 4, 'gamma': 0.7420800785217055, 'reg_lambda': 2.152361664416064, 'reg_alpha': 0.6043632456329139}\n",
      "0.8100169061707523\n"
     ]
    },
    {
     "name": "stderr",
     "output_type": "stream",
     "text": [
      "[I 2019-08-21 10:32:44,921] Finished trial#72 resulted in value: -0.8100169061707523. Current best value is -0.8172020287404903 with parameters: {'max_depth': 8, 'learning_rate': 0.16632199849072465, 'n_estimators ': 132, 'gamma': 0.6724218452703564, 'reg_lambda': 1.9579791303945508, 'reg_alpha': 0.6170989720343292}.\n"
     ]
    },
    {
     "name": "stdout",
     "output_type": "stream",
     "text": [
      "{'max_depth': 7, 'learning_rate': 0.16364619386543075, 'n_estimators': 149, 'n_jobs': 4, 'gamma': 0.7370194888460463, 'reg_lambda': 2.3183919384680625, 'reg_alpha': 1.0107811580768578}\n",
      "0.7976894899971824\n"
     ]
    },
    {
     "name": "stderr",
     "output_type": "stream",
     "text": [
      "[I 2019-08-21 10:33:10,215] Finished trial#73 resulted in value: -0.7976894899971824. Current best value is -0.8172020287404903 with parameters: {'max_depth': 8, 'learning_rate': 0.16632199849072465, 'n_estimators ': 132, 'gamma': 0.6724218452703564, 'reg_lambda': 1.9579791303945508, 'reg_alpha': 0.6170989720343292}.\n"
     ]
    },
    {
     "name": "stdout",
     "output_type": "stream",
     "text": [
      "{'max_depth': 8, 'learning_rate': 0.17017470204014087, 'n_estimators': 159, 'n_jobs': 4, 'gamma': 0.7151221643770116, 'reg_lambda': 2.1371428546016378, 'reg_alpha': 0.9046103900256428}\n",
      "0.8083967314736544\n"
     ]
    },
    {
     "name": "stderr",
     "output_type": "stream",
     "text": [
      "[I 2019-08-21 10:33:37,581] Finished trial#74 resulted in value: -0.8083967314736544. Current best value is -0.8172020287404903 with parameters: {'max_depth': 8, 'learning_rate': 0.16632199849072465, 'n_estimators ': 132, 'gamma': 0.6724218452703564, 'reg_lambda': 1.9579791303945508, 'reg_alpha': 0.6170989720343292}.\n"
     ]
    },
    {
     "name": "stdout",
     "output_type": "stream",
     "text": [
      "{'max_depth': 7, 'learning_rate': 0.16849123101471492, 'n_estimators': 165, 'n_jobs': 4, 'gamma': 0.12732617712333055, 'reg_lambda': 2.160517719211431, 'reg_alpha': 0.8610458103576111}\n",
      "0.7280924204001127\n"
     ]
    },
    {
     "name": "stderr",
     "output_type": "stream",
     "text": [
      "[I 2019-08-21 10:34:04,719] Finished trial#75 resulted in value: -0.7280924204001127. Current best value is -0.8172020287404903 with parameters: {'max_depth': 8, 'learning_rate': 0.16632199849072465, 'n_estimators ': 132, 'gamma': 0.6724218452703564, 'reg_lambda': 1.9579791303945508, 'reg_alpha': 0.6170989720343292}.\n"
     ]
    },
    {
     "name": "stdout",
     "output_type": "stream",
     "text": [
      "{'max_depth': 6, 'learning_rate': 0.15873996385607503, 'n_estimators': 167, 'n_jobs': 4, 'gamma': 0.7412513227708654, 'reg_lambda': 2.044208149868179, 'reg_alpha': 0.78813281933938}\n",
      "0.7945900253592562\n"
     ]
    },
    {
     "name": "stderr",
     "output_type": "stream",
     "text": [
      "[I 2019-08-21 10:34:26,962] Finished trial#76 resulted in value: -0.7945900253592562. Current best value is -0.8172020287404903 with parameters: {'max_depth': 8, 'learning_rate': 0.16632199849072465, 'n_estimators ': 132, 'gamma': 0.6724218452703564, 'reg_lambda': 1.9579791303945508, 'reg_alpha': 0.6170989720343292}.\n"
     ]
    },
    {
     "name": "stdout",
     "output_type": "stream",
     "text": [
      "{'max_depth': 8, 'learning_rate': 0.18642686474717982, 'n_estimators': 142, 'n_jobs': 4, 'gamma': 0.5649875155252985, 'reg_lambda': 1.8696714535242958, 'reg_alpha': 0.4413317188518973}\n",
      "0.7902225979149056\n"
     ]
    },
    {
     "name": "stderr",
     "output_type": "stream",
     "text": [
      "[I 2019-08-21 10:34:51,947] Finished trial#77 resulted in value: -0.7902225979149056. Current best value is -0.8172020287404903 with parameters: {'max_depth': 8, 'learning_rate': 0.16632199849072465, 'n_estimators ': 132, 'gamma': 0.6724218452703564, 'reg_lambda': 1.9579791303945508, 'reg_alpha': 0.6170989720343292}.\n"
     ]
    },
    {
     "name": "stdout",
     "output_type": "stream",
     "text": [
      "{'max_depth': 9, 'learning_rate': 0.18156362219568148, 'n_estimators': 153, 'n_jobs': 4, 'gamma': 0.8179340355250349, 'reg_lambda': 1.7245119533814919, 'reg_alpha': 0.8994239111483662}\n",
      "0.8040997464074386\n"
     ]
    },
    {
     "name": "stderr",
     "output_type": "stream",
     "text": [
      "[I 2019-08-21 10:35:19,630] Finished trial#78 resulted in value: -0.8040997464074386. Current best value is -0.8172020287404903 with parameters: {'max_depth': 8, 'learning_rate': 0.16632199849072465, 'n_estimators ': 132, 'gamma': 0.6724218452703564, 'reg_lambda': 1.9579791303945508, 'reg_alpha': 0.6170989720343292}.\n"
     ]
    },
    {
     "name": "stdout",
     "output_type": "stream",
     "text": [
      "{'max_depth': 8, 'learning_rate': 0.15471763410472333, 'n_estimators': 180, 'n_jobs': 4, 'gamma': 0.6193376636007049, 'reg_lambda': 2.233202955994199, 'reg_alpha': 1.1287651792816304}\n",
      "0.8117779656241194\n"
     ]
    },
    {
     "name": "stderr",
     "output_type": "stream",
     "text": [
      "[I 2019-08-21 10:35:50,518] Finished trial#79 resulted in value: -0.8117779656241194. Current best value is -0.8172020287404903 with parameters: {'max_depth': 8, 'learning_rate': 0.16632199849072465, 'n_estimators ': 132, 'gamma': 0.6724218452703564, 'reg_lambda': 1.9579791303945508, 'reg_alpha': 0.6170989720343292}.\n"
     ]
    },
    {
     "name": "stdout",
     "output_type": "stream",
     "text": [
      "{'max_depth': 7, 'learning_rate': 0.15016370432647497, 'n_estimators': 177, 'n_jobs': 4, 'gamma': 0.6211043873880298, 'reg_lambda': 1.9347798261496476, 'reg_alpha': 1.358963270040192}\n",
      "0.8006480698788391\n"
     ]
    },
    {
     "name": "stderr",
     "output_type": "stream",
     "text": [
      "[I 2019-08-21 10:36:15,334] Finished trial#80 resulted in value: -0.8006480698788391. Current best value is -0.8172020287404903 with parameters: {'max_depth': 8, 'learning_rate': 0.16632199849072465, 'n_estimators ': 132, 'gamma': 0.6724218452703564, 'reg_lambda': 1.9579791303945508, 'reg_alpha': 0.6170989720343292}.\n"
     ]
    },
    {
     "name": "stdout",
     "output_type": "stream",
     "text": [
      "{'max_depth': 8, 'learning_rate': 0.1555369354005016, 'n_estimators': 194, 'n_jobs': 4, 'gamma': 0.6932473618822765, 'reg_lambda': 2.223083241913979, 'reg_alpha': 1.5117403187581162}\n",
      "0.7898703860242322\n"
     ]
    },
    {
     "name": "stderr",
     "output_type": "stream",
     "text": [
      "[I 2019-08-21 10:36:45,366] Finished trial#81 resulted in value: -0.7898703860242322. Current best value is -0.8172020287404903 with parameters: {'max_depth': 8, 'learning_rate': 0.16632199849072465, 'n_estimators ': 132, 'gamma': 0.6724218452703564, 'reg_lambda': 1.9579791303945508, 'reg_alpha': 0.6170989720343292}.\n"
     ]
    },
    {
     "name": "stdout",
     "output_type": "stream",
     "text": [
      "{'max_depth': 8, 'learning_rate': 0.16223723455787148, 'n_estimators': 180, 'n_jobs': 4, 'gamma': 0.6605502426137349, 'reg_lambda': 2.1138143406249013, 'reg_alpha': 1.2230717444568657}\n",
      "0.8110030994646379\n"
     ]
    },
    {
     "name": "stderr",
     "output_type": "stream",
     "text": [
      "[I 2019-08-21 10:37:14,153] Finished trial#82 resulted in value: -0.8110030994646379. Current best value is -0.8172020287404903 with parameters: {'max_depth': 8, 'learning_rate': 0.16632199849072465, 'n_estimators ': 132, 'gamma': 0.6724218452703564, 'reg_lambda': 1.9579791303945508, 'reg_alpha': 0.6170989720343292}.\n"
     ]
    },
    {
     "name": "stdout",
     "output_type": "stream",
     "text": [
      "{'max_depth': 9, 'learning_rate': 0.16160988766715845, 'n_estimators': 185, 'n_jobs': 4, 'gamma': 0.669607641716569, 'reg_lambda': 0.5601321340838814, 'reg_alpha': 1.204602927447039}\n",
      "0.7988165680473372\n"
     ]
    },
    {
     "name": "stderr",
     "output_type": "stream",
     "text": [
      "[I 2019-08-21 10:37:45,436] Finished trial#83 resulted in value: -0.7988165680473372. Current best value is -0.8172020287404903 with parameters: {'max_depth': 8, 'learning_rate': 0.16632199849072465, 'n_estimators ': 132, 'gamma': 0.6724218452703564, 'reg_lambda': 1.9579791303945508, 'reg_alpha': 0.6170989720343292}.\n"
     ]
    },
    {
     "name": "stdout",
     "output_type": "stream",
     "text": [
      "{'max_depth': 8, 'learning_rate': 0.14016181871210018, 'n_estimators': 177, 'n_jobs': 4, 'gamma': 0.6311591552381189, 'reg_lambda': 2.086429240390366, 'reg_alpha': 1.1238139176324093}\n",
      "0.8118484080022541\n"
     ]
    },
    {
     "name": "stderr",
     "output_type": "stream",
     "text": [
      "[I 2019-08-21 10:38:15,320] Finished trial#84 resulted in value: -0.8118484080022541. Current best value is -0.8172020287404903 with parameters: {'max_depth': 8, 'learning_rate': 0.16632199849072465, 'n_estimators ': 132, 'gamma': 0.6724218452703564, 'reg_lambda': 1.9579791303945508, 'reg_alpha': 0.6170989720343292}.\n"
     ]
    },
    {
     "name": "stdout",
     "output_type": "stream",
     "text": [
      "{'max_depth': 7, 'learning_rate': 0.14155740741380135, 'n_estimators': 176, 'n_jobs': 4, 'gamma': 0.5793311718757206, 'reg_lambda': 1.8274553332485368, 'reg_alpha': 1.1127817887038298}\n",
      "0.7858551704705551\n"
     ]
    },
    {
     "name": "stderr",
     "output_type": "stream",
     "text": [
      "[I 2019-08-21 10:38:42,970] Finished trial#85 resulted in value: -0.7858551704705551. Current best value is -0.8172020287404903 with parameters: {'max_depth': 8, 'learning_rate': 0.16632199849072465, 'n_estimators ': 132, 'gamma': 0.6724218452703564, 'reg_lambda': 1.9579791303945508, 'reg_alpha': 0.6170989720343292}.\n"
     ]
    },
    {
     "name": "stdout",
     "output_type": "stream",
     "text": [
      "{'max_depth': 8, 'learning_rate': 0.1525231321539162, 'n_estimators': 189, 'n_jobs': 4, 'gamma': 0.5467786084831209, 'reg_lambda': 2.101776962248852, 'reg_alpha': 1.4806997612339414}\n",
      "0.7881797689489998\n"
     ]
    },
    {
     "name": "stderr",
     "output_type": "stream",
     "text": [
      "[I 2019-08-21 10:39:12,697] Finished trial#86 resulted in value: -0.7881797689489998. Current best value is -0.8172020287404903 with parameters: {'max_depth': 8, 'learning_rate': 0.16632199849072465, 'n_estimators ': 132, 'gamma': 0.6724218452703564, 'reg_lambda': 1.9579791303945508, 'reg_alpha': 0.6170989720343292}.\n"
     ]
    },
    {
     "name": "stdout",
     "output_type": "stream",
     "text": [
      "{'max_depth': 9, 'learning_rate': 0.12293640620489525, 'n_estimators': 200, 'n_jobs': 4, 'gamma': 0.4953588198864483, 'reg_lambda': 1.959025880650959, 'reg_alpha': 1.2625523673584356}\n",
      "0.7942378134685827\n"
     ]
    },
    {
     "name": "stderr",
     "output_type": "stream",
     "text": [
      "[I 2019-08-21 10:39:50,871] Finished trial#87 resulted in value: -0.7942378134685827. Current best value is -0.8172020287404903 with parameters: {'max_depth': 8, 'learning_rate': 0.16632199849072465, 'n_estimators ': 132, 'gamma': 0.6724218452703564, 'reg_lambda': 1.9579791303945508, 'reg_alpha': 0.6170989720343292}.\n"
     ]
    },
    {
     "name": "stdout",
     "output_type": "stream",
     "text": [
      "{'max_depth': 8, 'learning_rate': 0.14668500754824465, 'n_estimators': 180, 'n_jobs': 4, 'gamma': 0.6225541420471717, 'reg_lambda': 2.044878050685082, 'reg_alpha': 1.1914209482130935}\n",
      "0.8036066497604959\n"
     ]
    },
    {
     "name": "stderr",
     "output_type": "stream",
     "text": [
      "[I 2019-08-21 10:40:19,474] Finished trial#88 resulted in value: -0.8036066497604959. Current best value is -0.8172020287404903 with parameters: {'max_depth': 8, 'learning_rate': 0.16632199849072465, 'n_estimators ': 132, 'gamma': 0.6724218452703564, 'reg_lambda': 1.9579791303945508, 'reg_alpha': 0.6170989720343292}.\n"
     ]
    },
    {
     "name": "stdout",
     "output_type": "stream",
     "text": [
      "{'max_depth': 7, 'learning_rate': 0.14021321704022294, 'n_estimators': 191, 'n_jobs': 4, 'gamma': 0.6013713635119535, 'reg_lambda': 2.247142946764884, 'reg_alpha': 1.029202493242043}\n",
      "0.7906452521837135\n"
     ]
    },
    {
     "name": "stderr",
     "output_type": "stream",
     "text": [
      "[I 2019-08-21 10:40:46,941] Finished trial#89 resulted in value: -0.7906452521837135. Current best value is -0.8172020287404903 with parameters: {'max_depth': 8, 'learning_rate': 0.16632199849072465, 'n_estimators ': 132, 'gamma': 0.6724218452703564, 'reg_lambda': 1.9579791303945508, 'reg_alpha': 0.6170989720343292}.\n"
     ]
    },
    {
     "name": "stdout",
     "output_type": "stream",
     "text": [
      "{'max_depth': 6, 'learning_rate': 0.1659246603256816, 'n_estimators': 172, 'n_jobs': 4, 'gamma': 0.6435608844798423, 'reg_lambda': 1.6495539452147683, 'reg_alpha': 1.6812254162003955}\n",
      "0.7851507466892081\n"
     ]
    },
    {
     "name": "stderr",
     "output_type": "stream",
     "text": [
      "[I 2019-08-21 10:41:08,590] Finished trial#90 resulted in value: -0.7851507466892081. Current best value is -0.8172020287404903 with parameters: {'max_depth': 8, 'learning_rate': 0.16632199849072465, 'n_estimators ': 132, 'gamma': 0.6724218452703564, 'reg_lambda': 1.9579791303945508, 'reg_alpha': 0.6170989720343292}.\n"
     ]
    },
    {
     "name": "stdout",
     "output_type": "stream",
     "text": [
      "{'max_depth': 8, 'learning_rate': 0.16103574199095425, 'n_estimators': 179, 'n_jobs': 4, 'gamma': 0.7508029921857959, 'reg_lambda': 2.3792869592561474, 'reg_alpha': 0.5881270198334071}\n",
      "0.8100169061707524\n"
     ]
    },
    {
     "name": "stderr",
     "output_type": "stream",
     "text": [
      "[I 2019-08-21 10:41:42,507] Finished trial#91 resulted in value: -0.8100169061707524. Current best value is -0.8172020287404903 with parameters: {'max_depth': 8, 'learning_rate': 0.16632199849072465, 'n_estimators ': 132, 'gamma': 0.6724218452703564, 'reg_lambda': 1.9579791303945508, 'reg_alpha': 0.6170989720343292}.\n"
     ]
    },
    {
     "name": "stdout",
     "output_type": "stream",
     "text": [
      "{'max_depth': 8, 'learning_rate': 0.16106293476991065, 'n_estimators': 180, 'n_jobs': 4, 'gamma': 0.7592017098209426, 'reg_lambda': 2.19063699373353, 'reg_alpha': 0.5918520434988793}\n",
      "0.8088898281205973\n"
     ]
    },
    {
     "name": "stderr",
     "output_type": "stream",
     "text": [
      "[I 2019-08-21 10:42:13,625] Finished trial#92 resulted in value: -0.8088898281205973. Current best value is -0.8172020287404903 with parameters: {'max_depth': 8, 'learning_rate': 0.16632199849072465, 'n_estimators ': 132, 'gamma': 0.6724218452703564, 'reg_lambda': 1.9579791303945508, 'reg_alpha': 0.6170989720343292}.\n"
     ]
    },
    {
     "name": "stdout",
     "output_type": "stream",
     "text": [
      "{'max_depth': 8, 'learning_rate': 0.15985212742735777, 'n_estimators': 180, 'n_jobs': 4, 'gamma': 0.7587571451928179, 'reg_lambda': 2.2861980983521537, 'reg_alpha': 0.5021878430891544}\n",
      "0.8181882220343758\n"
     ]
    },
    {
     "name": "stderr",
     "output_type": "stream",
     "text": [
      "[I 2019-08-21 10:42:42,894] Finished trial#93 resulted in value: -0.8181882220343758. Current best value is -0.8181882220343758 with parameters: {'max_depth': 8, 'learning_rate': 0.15985212742735777, 'n_estimators ': 180, 'gamma': 0.7587571451928179, 'reg_lambda': 2.2861980983521537, 'reg_alpha': 0.5021878430891544}.\n"
     ]
    },
    {
     "name": "stdout",
     "output_type": "stream",
     "text": [
      "{'max_depth': 9, 'learning_rate': 0.1322889895469791, 'n_estimators': 195, 'n_jobs': 4, 'gamma': 0.6611883262150328, 'reg_lambda': 2.3988913745053893, 'reg_alpha': 0.47043098335800226}\n",
      "0.8217103409411101\n"
     ]
    },
    {
     "name": "stderr",
     "output_type": "stream",
     "text": [
      "[I 2019-08-21 10:43:16,011] Finished trial#94 resulted in value: -0.8217103409411101. Current best value is -0.8217103409411101 with parameters: {'max_depth': 9, 'learning_rate': 0.1322889895469791, 'n_estimators ': 195, 'gamma': 0.6611883262150328, 'reg_lambda': 2.3988913745053893, 'reg_alpha': 0.47043098335800226}.\n"
     ]
    },
    {
     "name": "stdout",
     "output_type": "stream",
     "text": [
      "{'max_depth': 10, 'learning_rate': 0.13354626662481417, 'n_estimators': 196, 'n_jobs': 4, 'gamma': 0.6628560820026247, 'reg_lambda': 2.37945440814684, 'reg_alpha': 0.11821897463953163}\n",
      "0.7983939137785291\n"
     ]
    },
    {
     "name": "stderr",
     "output_type": "stream",
     "text": [
      "[I 2019-08-21 10:43:52,863] Finished trial#95 resulted in value: -0.7983939137785291. Current best value is -0.8217103409411101 with parameters: {'max_depth': 9, 'learning_rate': 0.1322889895469791, 'n_estimators ': 195, 'gamma': 0.6611883262150328, 'reg_lambda': 2.3988913745053893, 'reg_alpha': 0.47043098335800226}.\n"
     ]
    },
    {
     "name": "stdout",
     "output_type": "stream",
     "text": [
      "{'max_depth': 9, 'learning_rate': 0.12067506939267587, 'n_estimators': 187, 'n_jobs': 4, 'gamma': 0.6801934572305524, 'reg_lambda': 2.2839564011624702, 'reg_alpha': 0.3758117073973023}\n",
      "0.7969850662158354\n"
     ]
    },
    {
     "name": "stderr",
     "output_type": "stream",
     "text": [
      "[I 2019-08-21 10:44:25,212] Finished trial#96 resulted in value: -0.7969850662158354. Current best value is -0.8217103409411101 with parameters: {'max_depth': 9, 'learning_rate': 0.1322889895469791, 'n_estimators ': 195, 'gamma': 0.6611883262150328, 'reg_lambda': 2.3988913745053893, 'reg_alpha': 0.47043098335800226}.\n"
     ]
    },
    {
     "name": "stdout",
     "output_type": "stream",
     "text": [
      "{'max_depth': 9, 'learning_rate': 0.13525444080942917, 'n_estimators': 195, 'n_jobs': 4, 'gamma': 0.6997098482425538, 'reg_lambda': 2.4188109076654944, 'reg_alpha': 0.2472639828637445}\n",
      "0.7969146238377007\n"
     ]
    },
    {
     "name": "stderr",
     "output_type": "stream",
     "text": [
      "[I 2019-08-21 10:45:00,755] Finished trial#97 resulted in value: -0.7969146238377007. Current best value is -0.8217103409411101 with parameters: {'max_depth': 9, 'learning_rate': 0.1322889895469791, 'n_estimators ': 195, 'gamma': 0.6611883262150328, 'reg_lambda': 2.3988913745053893, 'reg_alpha': 0.47043098335800226}.\n"
     ]
    },
    {
     "name": "stdout",
     "output_type": "stream",
     "text": [
      "{'max_depth': 2, 'learning_rate': 0.10420971744120171, 'n_estimators': 190, 'n_jobs': 4, 'gamma': 0.5919382692406534, 'reg_lambda': 2.5383585552142454, 'reg_alpha': 0.470818187905747}\n",
      "0.8133981403212173\n"
     ]
    },
    {
     "name": "stderr",
     "output_type": "stream",
     "text": [
      "[I 2019-08-21 10:45:09,965] Finished trial#98 resulted in value: -0.8133981403212173. Current best value is -0.8217103409411101 with parameters: {'max_depth': 9, 'learning_rate': 0.1322889895469791, 'n_estimators ': 195, 'gamma': 0.6611883262150328, 'reg_lambda': 2.3988913745053893, 'reg_alpha': 0.47043098335800226}.\n"
     ]
    },
    {
     "name": "stdout",
     "output_type": "stream",
     "text": [
      "{'max_depth': 10, 'learning_rate': 0.07809813991434222, 'n_estimators': 192, 'n_jobs': 4, 'gamma': 0.5524278003354046, 'reg_lambda': 2.5938093178852784, 'reg_alpha': 0.47209335469577085}\n",
      "0.8028317836010144\n"
     ]
    },
    {
     "name": "stderr",
     "output_type": "stream",
     "text": [
      "[I 2019-08-21 10:45:45,548] Finished trial#99 resulted in value: -0.8028317836010144. Current best value is -0.8217103409411101 with parameters: {'max_depth': 9, 'learning_rate': 0.1322889895469791, 'n_estimators ': 195, 'gamma': 0.6611883262150328, 'reg_lambda': 2.3988913745053893, 'reg_alpha': 0.47043098335800226}.\n"
     ]
    },
    {
     "name": "stdout",
     "output_type": "stream",
     "text": [
      "{'max_depth': 4, 'learning_rate': 0.09989873524920512, 'n_estimators': 174, 'n_jobs': 4, 'gamma': 0.5197433986644282, 'reg_lambda': 2.306544087398035, 'reg_alpha': 0.1924021928666083}\n",
      "0.7932516201746971\n"
     ]
    },
    {
     "name": "stderr",
     "output_type": "stream",
     "text": [
      "[I 2019-08-21 10:46:01,251] Finished trial#100 resulted in value: -0.7932516201746971. Current best value is -0.8217103409411101 with parameters: {'max_depth': 9, 'learning_rate': 0.1322889895469791, 'n_estimators ': 195, 'gamma': 0.6611883262150328, 'reg_lambda': 2.3988913745053893, 'reg_alpha': 0.47043098335800226}.\n"
     ]
    },
    {
     "name": "stdout",
     "output_type": "stream",
     "text": [
      "{'max_depth': 2, 'learning_rate': 0.12660166214973698, 'n_estimators': 200, 'n_jobs': 4, 'gamma': 0.5933870249982862, 'reg_lambda': 2.5054063627474523, 'reg_alpha': 0.35540880218333154}\n",
      "0.8131163708086785\n"
     ]
    },
    {
     "name": "stderr",
     "output_type": "stream",
     "text": [
      "[I 2019-08-21 10:46:10,665] Finished trial#101 resulted in value: -0.8131163708086785. Current best value is -0.8217103409411101 with parameters: {'max_depth': 9, 'learning_rate': 0.1322889895469791, 'n_estimators ': 195, 'gamma': 0.6611883262150328, 'reg_lambda': 2.3988913745053893, 'reg_alpha': 0.47043098335800226}.\n"
     ]
    },
    {
     "name": "stdout",
     "output_type": "stream",
     "text": [
      "{'max_depth': 2, 'learning_rate': 0.11252257364940864, 'n_estimators': 199, 'n_jobs': 4, 'gamma': 0.5973753696050186, 'reg_lambda': 2.494900477850573, 'reg_alpha': 0.31084491277916765}\n",
      "0.8121301775147929\n"
     ]
    },
    {
     "name": "stderr",
     "output_type": "stream",
     "text": [
      "[I 2019-08-21 10:46:19,482] Finished trial#102 resulted in value: -0.8121301775147929. Current best value is -0.8217103409411101 with parameters: {'max_depth': 9, 'learning_rate': 0.1322889895469791, 'n_estimators ': 195, 'gamma': 0.6611883262150328, 'reg_lambda': 2.3988913745053893, 'reg_alpha': 0.47043098335800226}.\n"
     ]
    },
    {
     "name": "stdout",
     "output_type": "stream",
     "text": [
      "{'max_depth': 2, 'learning_rate': 0.106291704588382, 'n_estimators': 198, 'n_jobs': 4, 'gamma': 0.4668540283960477, 'reg_lambda': 2.5070902866509264, 'reg_alpha': 0.3206052873883581}\n",
      "0.8243871513102282\n"
     ]
    },
    {
     "name": "stderr",
     "output_type": "stream",
     "text": [
      "[I 2019-08-21 10:46:29,594] Finished trial#103 resulted in value: -0.8243871513102282. Current best value is -0.8243871513102282 with parameters: {'max_depth': 2, 'learning_rate': 0.106291704588382, 'n_estimators ': 198, 'gamma': 0.4668540283960477, 'reg_lambda': 2.5070902866509264, 'reg_alpha': 0.3206052873883581}.\n"
     ]
    },
    {
     "name": "stdout",
     "output_type": "stream",
     "text": [
      "{'max_depth': 2, 'learning_rate': 0.10459816049352612, 'n_estimators': 196, 'n_jobs': 4, 'gamma': 0.41858677860312643, 'reg_lambda': 2.7171124580794928, 'reg_alpha': 0.2967800081279313}\n",
      "0.8252324598478444\n"
     ]
    },
    {
     "name": "stderr",
     "output_type": "stream",
     "text": [
      "[I 2019-08-21 10:46:38,941] Finished trial#104 resulted in value: -0.8252324598478444. Current best value is -0.8252324598478444 with parameters: {'max_depth': 2, 'learning_rate': 0.10459816049352612, 'n_estimators ': 196, 'gamma': 0.41858677860312643, 'reg_lambda': 2.7171124580794928, 'reg_alpha': 0.2967800081279313}.\n"
     ]
    },
    {
     "name": "stdout",
     "output_type": "stream",
     "text": [
      "{'max_depth': 2, 'learning_rate': 0.108210120350062, 'n_estimators': 199, 'n_jobs': 4, 'gamma': 0.37570656969174726, 'reg_lambda': 2.6420730931118968, 'reg_alpha': 0.30366066024104627}\n",
      "0.8253733446041137\n"
     ]
    },
    {
     "name": "stderr",
     "output_type": "stream",
     "text": [
      "[I 2019-08-21 10:46:49,761] Finished trial#105 resulted in value: -0.8253733446041137. Current best value is -0.8253733446041137 with parameters: {'max_depth': 2, 'learning_rate': 0.108210120350062, 'n_estimators ': 199, 'gamma': 0.37570656969174726, 'reg_lambda': 2.6420730931118968, 'reg_alpha': 0.30366066024104627}.\n"
     ]
    },
    {
     "name": "stdout",
     "output_type": "stream",
     "text": [
      "{'max_depth': 2, 'learning_rate': 0.10580272433131034, 'n_estimators': 199, 'n_jobs': 4, 'gamma': 0.4228249015474215, 'reg_lambda': 2.714059258987268, 'reg_alpha': 0.22478800313293412}\n",
      "0.8250915750915752\n"
     ]
    },
    {
     "name": "stderr",
     "output_type": "stream",
     "text": [
      "[I 2019-08-21 10:47:00,263] Finished trial#106 resulted in value: -0.8250915750915752. Current best value is -0.8253733446041137 with parameters: {'max_depth': 2, 'learning_rate': 0.108210120350062, 'n_estimators ': 199, 'gamma': 0.37570656969174726, 'reg_lambda': 2.6420730931118968, 'reg_alpha': 0.30366066024104627}.\n"
     ]
    },
    {
     "name": "stdout",
     "output_type": "stream",
     "text": [
      "{'max_depth': 2, 'learning_rate': 0.10766123842918608, 'n_estimators': 197, 'n_jobs': 4, 'gamma': 0.3616306062063891, 'reg_lambda': 2.739640983017858, 'reg_alpha': 0.13727381234618424}\n",
      "0.8332628909551986\n"
     ]
    },
    {
     "name": "stderr",
     "output_type": "stream",
     "text": [
      "[I 2019-08-21 10:47:08,968] Finished trial#107 resulted in value: -0.8332628909551986. Current best value is -0.8332628909551986 with parameters: {'max_depth': 2, 'learning_rate': 0.10766123842918608, 'n_estimators ': 197, 'gamma': 0.3616306062063891, 'reg_lambda': 2.739640983017858, 'reg_alpha': 0.13727381234618424}.\n"
     ]
    },
    {
     "name": "stdout",
     "output_type": "stream",
     "text": [
      "{'max_depth': 2, 'learning_rate': 0.10552017560531794, 'n_estimators': 190, 'n_jobs': 4, 'gamma': 0.3597657260335388, 'reg_lambda': 2.7111697712159084, 'reg_alpha': 0.12570836656945975}\n",
      "0.8221329952099183\n"
     ]
    },
    {
     "name": "stderr",
     "output_type": "stream",
     "text": [
      "[I 2019-08-21 10:47:17,898] Finished trial#108 resulted in value: -0.8221329952099183. Current best value is -0.8332628909551986 with parameters: {'max_depth': 2, 'learning_rate': 0.10766123842918608, 'n_estimators ': 197, 'gamma': 0.3616306062063891, 'reg_lambda': 2.739640983017858, 'reg_alpha': 0.13727381234618424}.\n"
     ]
    },
    {
     "name": "stdout",
     "output_type": "stream",
     "text": [
      "{'max_depth': 3, 'learning_rate': 0.0920100546993989, 'n_estimators': 197, 'n_jobs': 4, 'gamma': 0.3448009897800231, 'reg_lambda': 2.7389601701671373, 'reg_alpha': 0.06508722895595381}\n",
      "0.8057903634826712\n"
     ]
    },
    {
     "name": "stderr",
     "output_type": "stream",
     "text": [
      "[I 2019-08-21 10:47:31,099] Finished trial#109 resulted in value: -0.8057903634826712. Current best value is -0.8332628909551986 with parameters: {'max_depth': 2, 'learning_rate': 0.10766123842918608, 'n_estimators ': 197, 'gamma': 0.3616306062063891, 'reg_lambda': 2.739640983017858, 'reg_alpha': 0.13727381234618424}.\n"
     ]
    },
    {
     "name": "stdout",
     "output_type": "stream",
     "text": [
      "{'max_depth': 2, 'learning_rate': 0.10570714670832586, 'n_estimators': 185, 'n_jobs': 4, 'gamma': 0.3962273329515677, 'reg_lambda': 2.889054872814892, 'reg_alpha': 0.11898433266964548}\n",
      "0.8236827275288814\n"
     ]
    },
    {
     "name": "stderr",
     "output_type": "stream",
     "text": [
      "[I 2019-08-21 10:47:40,266] Finished trial#110 resulted in value: -0.8236827275288814. Current best value is -0.8332628909551986 with parameters: {'max_depth': 2, 'learning_rate': 0.10766123842918608, 'n_estimators ': 197, 'gamma': 0.3616306062063891, 'reg_lambda': 2.739640983017858, 'reg_alpha': 0.13727381234618424}.\n"
     ]
    },
    {
     "name": "stdout",
     "output_type": "stream",
     "text": [
      "{'max_depth': 2, 'learning_rate': 0.10472872124751369, 'n_estimators': 193, 'n_jobs': 4, 'gamma': 0.3974762593718377, 'reg_lambda': 2.909130108036015, 'reg_alpha': 0.1937854427107202}\n",
      "0.8203014933784163\n"
     ]
    },
    {
     "name": "stderr",
     "output_type": "stream",
     "text": [
      "[I 2019-08-21 10:47:49,220] Finished trial#111 resulted in value: -0.8203014933784163. Current best value is -0.8332628909551986 with parameters: {'max_depth': 2, 'learning_rate': 0.10766123842918608, 'n_estimators ': 197, 'gamma': 0.3616306062063891, 'reg_lambda': 2.739640983017858, 'reg_alpha': 0.13727381234618424}.\n"
     ]
    },
    {
     "name": "stdout",
     "output_type": "stream",
     "text": [
      "{'max_depth': 2, 'learning_rate': 0.10529692718705959, 'n_estimators': 186, 'n_jobs': 4, 'gamma': 0.4037878105590919, 'reg_lambda': 2.9298070981078403, 'reg_alpha': 0.14121019312513355}\n",
      "0.8172020287404902\n"
     ]
    },
    {
     "name": "stderr",
     "output_type": "stream",
     "text": [
      "[I 2019-08-21 10:47:57,524] Finished trial#112 resulted in value: -0.8172020287404902. Current best value is -0.8332628909551986 with parameters: {'max_depth': 2, 'learning_rate': 0.10766123842918608, 'n_estimators ': 197, 'gamma': 0.3616306062063891, 'reg_lambda': 2.739640983017858, 'reg_alpha': 0.13727381234618424}.\n"
     ]
    },
    {
     "name": "stdout",
     "output_type": "stream",
     "text": [
      "{'max_depth': 2, 'learning_rate': 0.1064142873585453, 'n_estimators': 185, 'n_jobs': 4, 'gamma': 0.3981372614093524, 'reg_lambda': 2.912681570713258, 'reg_alpha': 0.14590132147818619}\n",
      "0.8225556494787264\n"
     ]
    },
    {
     "name": "stderr",
     "output_type": "stream",
     "text": [
      "[I 2019-08-21 10:48:06,302] Finished trial#113 resulted in value: -0.8225556494787264. Current best value is -0.8332628909551986 with parameters: {'max_depth': 2, 'learning_rate': 0.10766123842918608, 'n_estimators ': 197, 'gamma': 0.3616306062063891, 'reg_lambda': 2.739640983017858, 'reg_alpha': 0.13727381234618424}.\n"
     ]
    },
    {
     "name": "stdout",
     "output_type": "stream",
     "text": [
      "{'max_depth': 1, 'learning_rate': 0.10824176847638012, 'n_estimators': 194, 'n_jobs': 4, 'gamma': 0.38605102387679147, 'reg_lambda': 2.8713474893259123, 'reg_alpha': 0.26159297829565553}\n",
      "0.8344604113834883\n"
     ]
    },
    {
     "name": "stderr",
     "output_type": "stream",
     "text": [
      "[I 2019-08-21 10:48:12,067] Finished trial#114 resulted in value: -0.8344604113834883. Current best value is -0.8344604113834883 with parameters: {'max_depth': 1, 'learning_rate': 0.10824176847638012, 'n_estimators ': 194, 'gamma': 0.38605102387679147, 'reg_lambda': 2.8713474893259123, 'reg_alpha': 0.26159297829565553}.\n"
     ]
    },
    {
     "name": "stdout",
     "output_type": "stream",
     "text": [
      "{'max_depth': 1, 'learning_rate': 0.10687832017234333, 'n_estimators': 194, 'n_jobs': 4, 'gamma': 0.32894224674217515, 'reg_lambda': 2.8862583404355093, 'reg_alpha': 0.030773019956643916}\n",
      "0.8198083967314737\n"
     ]
    },
    {
     "name": "stderr",
     "output_type": "stream",
     "text": [
      "[I 2019-08-21 10:48:19,181] Finished trial#115 resulted in value: -0.8198083967314737. Current best value is -0.8344604113834883 with parameters: {'max_depth': 1, 'learning_rate': 0.10824176847638012, 'n_estimators ': 194, 'gamma': 0.38605102387679147, 'reg_lambda': 2.8713474893259123, 'reg_alpha': 0.26159297829565553}.\n"
     ]
    },
    {
     "name": "stdout",
     "output_type": "stream",
     "text": [
      "{'max_depth': 1, 'learning_rate': 0.09462221615811664, 'n_estimators': 193, 'n_jobs': 4, 'gamma': 0.3118792952830285, 'reg_lambda': 2.876325529222289, 'reg_alpha': 0.05606297528625748}\n",
      "0.8185404339250493\n"
     ]
    },
    {
     "name": "stderr",
     "output_type": "stream",
     "text": [
      "[I 2019-08-21 10:48:25,619] Finished trial#116 resulted in value: -0.8185404339250493. Current best value is -0.8344604113834883 with parameters: {'max_depth': 1, 'learning_rate': 0.10824176847638012, 'n_estimators ': 194, 'gamma': 0.38605102387679147, 'reg_lambda': 2.8713474893259123, 'reg_alpha': 0.26159297829565553}.\n"
     ]
    },
    {
     "name": "stdout",
     "output_type": "stream",
     "text": [
      "{'max_depth': 3, 'learning_rate': 0.10696976764164459, 'n_estimators': 200, 'n_jobs': 4, 'gamma': 0.3968531454556477, 'reg_lambda': 2.7202843328261683, 'reg_alpha': 0.0027427974433837238}\n",
      "0.8045224006762467\n"
     ]
    },
    {
     "name": "stderr",
     "output_type": "stream",
     "text": [
      "[I 2019-08-21 10:48:38,804] Finished trial#117 resulted in value: -0.8045224006762467. Current best value is -0.8344604113834883 with parameters: {'max_depth': 1, 'learning_rate': 0.10824176847638012, 'n_estimators ': 194, 'gamma': 0.38605102387679147, 'reg_lambda': 2.8713474893259123, 'reg_alpha': 0.26159297829565553}.\n"
     ]
    },
    {
     "name": "stdout",
     "output_type": "stream",
     "text": [
      "{'max_depth': 2, 'learning_rate': 0.11625530946796156, 'n_estimators': 189, 'n_jobs': 4, 'gamma': 0.43133798334065987, 'reg_lambda': 2.786609842918056, 'reg_alpha': 0.23144583635054586}\n",
      "0.8243871513102281\n"
     ]
    },
    {
     "name": "stderr",
     "output_type": "stream",
     "text": [
      "[I 2019-08-21 10:48:47,419] Finished trial#118 resulted in value: -0.8243871513102281. Current best value is -0.8344604113834883 with parameters: {'max_depth': 1, 'learning_rate': 0.10824176847638012, 'n_estimators ': 194, 'gamma': 0.38605102387679147, 'reg_lambda': 2.8713474893259123, 'reg_alpha': 0.26159297829565553}.\n"
     ]
    },
    {
     "name": "stdout",
     "output_type": "stream",
     "text": [
      "{'max_depth': 2, 'learning_rate': 0.11692311965943819, 'n_estimators': 189, 'n_jobs': 4, 'gamma': 0.25365291916083355, 'reg_lambda': 2.649830835130017, 'reg_alpha': 0.24179095115334281}\n",
      "0.8215694561848408\n"
     ]
    },
    {
     "name": "stderr",
     "output_type": "stream",
     "text": [
      "[I 2019-08-21 10:48:56,436] Finished trial#119 resulted in value: -0.8215694561848408. Current best value is -0.8344604113834883 with parameters: {'max_depth': 1, 'learning_rate': 0.10824176847638012, 'n_estimators ': 194, 'gamma': 0.38605102387679147, 'reg_lambda': 2.8713474893259123, 'reg_alpha': 0.26159297829565553}.\n"
     ]
    },
    {
     "name": "stdout",
     "output_type": "stream",
     "text": [
      "{'max_depth': 2, 'learning_rate': 0.11634370063006366, 'n_estimators': 184, 'n_jobs': 4, 'gamma': 0.2610283744589966, 'reg_lambda': 2.6317138591831606, 'reg_alpha': 0.24788477628235595}\n",
      "0.8234009580163426\n"
     ]
    },
    {
     "name": "stderr",
     "output_type": "stream",
     "text": [
      "[I 2019-08-21 10:49:05,085] Finished trial#120 resulted in value: -0.8234009580163426. Current best value is -0.8344604113834883 with parameters: {'max_depth': 1, 'learning_rate': 0.10824176847638012, 'n_estimators ': 194, 'gamma': 0.38605102387679147, 'reg_lambda': 2.8713474893259123, 'reg_alpha': 0.26159297829565553}.\n"
     ]
    },
    {
     "name": "stdout",
     "output_type": "stream",
     "text": [
      "{'max_depth': 2, 'learning_rate': 0.11370230013682722, 'n_estimators': 185, 'n_jobs': 4, 'gamma': 0.24834033912236, 'reg_lambda': 2.6423725274406067, 'reg_alpha': 0.2658674213405443}\n",
      "0.8225556494787264\n"
     ]
    },
    {
     "name": "stderr",
     "output_type": "stream",
     "text": [
      "[I 2019-08-21 10:49:13,587] Finished trial#121 resulted in value: -0.8225556494787264. Current best value is -0.8344604113834883 with parameters: {'max_depth': 1, 'learning_rate': 0.10824176847638012, 'n_estimators ': 194, 'gamma': 0.38605102387679147, 'reg_lambda': 2.8713474893259123, 'reg_alpha': 0.26159297829565553}.\n"
     ]
    },
    {
     "name": "stdout",
     "output_type": "stream",
     "text": [
      "{'max_depth': 2, 'learning_rate': 0.11081149614560405, 'n_estimators': 185, 'n_jobs': 4, 'gamma': 0.24288310279446745, 'reg_lambda': 2.766878212288821, 'reg_alpha': 0.14265060416118053}\n",
      "0.8246689208227669\n"
     ]
    },
    {
     "name": "stderr",
     "output_type": "stream",
     "text": [
      "[I 2019-08-21 10:49:22,536] Finished trial#122 resulted in value: -0.8246689208227669. Current best value is -0.8344604113834883 with parameters: {'max_depth': 1, 'learning_rate': 0.10824176847638012, 'n_estimators ': 194, 'gamma': 0.38605102387679147, 'reg_lambda': 2.8713474893259123, 'reg_alpha': 0.26159297829565553}.\n"
     ]
    },
    {
     "name": "stdout",
     "output_type": "stream",
     "text": [
      "{'max_depth': 2, 'learning_rate': 0.10951131350267017, 'n_estimators': 184, 'n_jobs': 4, 'gamma': 0.2473354364254993, 'reg_lambda': 2.81565539251417, 'reg_alpha': 0.14279407654537102}\n",
      "0.8211468019160327\n"
     ]
    },
    {
     "name": "stderr",
     "output_type": "stream",
     "text": [
      "[I 2019-08-21 10:49:30,772] Finished trial#123 resulted in value: -0.8211468019160327. Current best value is -0.8344604113834883 with parameters: {'max_depth': 1, 'learning_rate': 0.10824176847638012, 'n_estimators ': 194, 'gamma': 0.38605102387679147, 'reg_lambda': 2.8713474893259123, 'reg_alpha': 0.26159297829565553}.\n"
     ]
    },
    {
     "name": "stdout",
     "output_type": "stream",
     "text": [
      "{'max_depth': 3, 'learning_rate': 0.10050066983180132, 'n_estimators': 188, 'n_jobs': 4, 'gamma': 0.44458061915240704, 'reg_lambda': 2.767066740770224, 'reg_alpha': 0.26218205106690323}\n",
      "0.808044519582981\n"
     ]
    },
    {
     "name": "stderr",
     "output_type": "stream",
     "text": [
      "[I 2019-08-21 10:49:43,178] Finished trial#124 resulted in value: -0.808044519582981. Current best value is -0.8344604113834883 with parameters: {'max_depth': 1, 'learning_rate': 0.10824176847638012, 'n_estimators ': 194, 'gamma': 0.38605102387679147, 'reg_lambda': 2.8713474893259123, 'reg_alpha': 0.26159297829565553}.\n"
     ]
    },
    {
     "name": "stdout",
     "output_type": "stream",
     "text": [
      "{'max_depth': 2, 'learning_rate': 0.11452777750388196, 'n_estimators': 184, 'n_jobs': 4, 'gamma': 0.3761027995938215, 'reg_lambda': 2.6170564452189544, 'reg_alpha': 0.09079838034904589}\n",
      "0.8229783037475346\n"
     ]
    },
    {
     "name": "stderr",
     "output_type": "stream",
     "text": [
      "[I 2019-08-21 10:49:51,454] Finished trial#125 resulted in value: -0.8229783037475346. Current best value is -0.8344604113834883 with parameters: {'max_depth': 1, 'learning_rate': 0.10824176847638012, 'n_estimators ': 194, 'gamma': 0.38605102387679147, 'reg_lambda': 2.8713474893259123, 'reg_alpha': 0.26159297829565553}.\n"
     ]
    },
    {
     "name": "stdout",
     "output_type": "stream",
     "text": [
      "{'max_depth': 1, 'learning_rate': 0.11623354252508797, 'n_estimators': 200, 'n_jobs': 4, 'gamma': 0.4730806703859414, 'reg_lambda': 2.6210846727040247, 'reg_alpha': 0.22656554060458622}\n",
      "0.8349535080304311\n"
     ]
    },
    {
     "name": "stderr",
     "output_type": "stream",
     "text": [
      "[I 2019-08-21 10:49:57,804] Finished trial#126 resulted in value: -0.8349535080304311. Current best value is -0.8349535080304311 with parameters: {'max_depth': 1, 'learning_rate': 0.11623354252508797, 'n_estimators ': 200, 'gamma': 0.4730806703859414, 'reg_lambda': 2.6210846727040247, 'reg_alpha': 0.22656554060458622}.\n"
     ]
    },
    {
     "name": "stdout",
     "output_type": "stream",
     "text": [
      "{'max_depth': 1, 'learning_rate': 0.11593683645415748, 'n_estimators': 200, 'n_jobs': 4, 'gamma': 0.47392170978407505, 'reg_lambda': 2.6151841542374674, 'reg_alpha': 0.38320872948566154}\n",
      "0.8365032403493943\n"
     ]
    },
    {
     "name": "stderr",
     "output_type": "stream",
     "text": [
      "[I 2019-08-21 10:50:03,706] Finished trial#127 resulted in value: -0.8365032403493943. Current best value is -0.8365032403493943 with parameters: {'max_depth': 1, 'learning_rate': 0.11593683645415748, 'n_estimators ': 200, 'gamma': 0.47392170978407505, 'reg_lambda': 2.6151841542374674, 'reg_alpha': 0.38320872948566154}.\n"
     ]
    },
    {
     "name": "stdout",
     "output_type": "stream",
     "text": [
      "{'max_depth': 1, 'learning_rate': 0.11735640594466275, 'n_estimators': 200, 'n_jobs': 4, 'gamma': 0.42463970965859027, 'reg_lambda': 2.6139250420680398, 'reg_alpha': 0.3828965148808129}\n",
      "0.8343899690053534\n"
     ]
    },
    {
     "name": "stderr",
     "output_type": "stream",
     "text": [
      "[I 2019-08-21 10:50:10,202] Finished trial#128 resulted in value: -0.8343899690053534. Current best value is -0.8365032403493943 with parameters: {'max_depth': 1, 'learning_rate': 0.11593683645415748, 'n_estimators ': 200, 'gamma': 0.47392170978407505, 'reg_lambda': 2.6151841542374674, 'reg_alpha': 0.38320872948566154}.\n"
     ]
    },
    {
     "name": "stdout",
     "output_type": "stream",
     "text": [
      "{'max_depth': 1, 'learning_rate': 0.11756491251978529, 'n_estimators': 200, 'n_jobs': 4, 'gamma': 0.4639195823340673, 'reg_lambda': 2.9928807025214335, 'reg_alpha': 0.348300586723445}\n",
      "0.8365032403493943\n"
     ]
    },
    {
     "name": "stderr",
     "output_type": "stream",
     "text": [
      "[I 2019-08-21 10:50:16,087] Finished trial#129 resulted in value: -0.8365032403493943. Current best value is -0.8365032403493943 with parameters: {'max_depth': 1, 'learning_rate': 0.11593683645415748, 'n_estimators ': 200, 'gamma': 0.47392170978407505, 'reg_lambda': 2.6151841542374674, 'reg_alpha': 0.38320872948566154}.\n"
     ]
    },
    {
     "name": "stdout",
     "output_type": "stream",
     "text": [
      "{'max_depth': 1, 'learning_rate': 0.1194040551189999, 'n_estimators': 200, 'n_jobs': 4, 'gamma': 0.46936226503775885, 'reg_lambda': 2.7995760475715374, 'reg_alpha': 0.3852595618516359}\n",
      "0.8370667793744717\n"
     ]
    },
    {
     "name": "stderr",
     "output_type": "stream",
     "text": [
      "[I 2019-08-21 10:50:21,971] Finished trial#130 resulted in value: -0.8370667793744717. Current best value is -0.8370667793744717 with parameters: {'max_depth': 1, 'learning_rate': 0.1194040551189999, 'n_estimators ': 200, 'gamma': 0.46936226503775885, 'reg_lambda': 2.7995760475715374, 'reg_alpha': 0.3852595618516359}.\n"
     ]
    },
    {
     "name": "stdout",
     "output_type": "stream",
     "text": [
      "{'max_depth': 1, 'learning_rate': 0.11912680653781141, 'n_estimators': 200, 'n_jobs': 4, 'gamma': 0.4697682084553574, 'reg_lambda': 2.97478533381138, 'reg_alpha': 0.3934615111610159}\n",
      "0.834953508030431\n"
     ]
    },
    {
     "name": "stderr",
     "output_type": "stream",
     "text": [
      "[I 2019-08-21 10:50:28,439] Finished trial#131 resulted in value: -0.834953508030431. Current best value is -0.8370667793744717 with parameters: {'max_depth': 1, 'learning_rate': 0.1194040551189999, 'n_estimators ': 200, 'gamma': 0.46936226503775885, 'reg_lambda': 2.7995760475715374, 'reg_alpha': 0.3852595618516359}.\n"
     ]
    },
    {
     "name": "stdout",
     "output_type": "stream",
     "text": [
      "{'max_depth': 1, 'learning_rate': 0.12059698554957698, 'n_estimators': 200, 'n_jobs': 4, 'gamma': 0.4636997651279014, 'reg_lambda': 2.9901094874725485, 'reg_alpha': 0.4022812246098621}\n",
      "0.8369258946182023\n"
     ]
    },
    {
     "name": "stderr",
     "output_type": "stream",
     "text": [
      "[I 2019-08-21 10:50:34,305] Finished trial#132 resulted in value: -0.8369258946182023. Current best value is -0.8370667793744717 with parameters: {'max_depth': 1, 'learning_rate': 0.1194040551189999, 'n_estimators ': 200, 'gamma': 0.46936226503775885, 'reg_lambda': 2.7995760475715374, 'reg_alpha': 0.3852595618516359}.\n"
     ]
    },
    {
     "name": "stdout",
     "output_type": "stream",
     "text": [
      "{'max_depth': 1, 'learning_rate': 0.11932430753063993, 'n_estimators': 200, 'n_jobs': 4, 'gamma': 0.47511492583919607, 'reg_lambda': 2.9944137521799044, 'reg_alpha': 0.3626424694482512}\n",
      "0.8363623555931248\n"
     ]
    },
    {
     "name": "stderr",
     "output_type": "stream",
     "text": [
      "[I 2019-08-21 10:50:41,837] Finished trial#133 resulted in value: -0.8363623555931248. Current best value is -0.8370667793744717 with parameters: {'max_depth': 1, 'learning_rate': 0.1194040551189999, 'n_estimators ': 200, 'gamma': 0.46936226503775885, 'reg_lambda': 2.7995760475715374, 'reg_alpha': 0.3852595618516359}.\n"
     ]
    },
    {
     "name": "stdout",
     "output_type": "stream",
     "text": [
      "{'max_depth': 1, 'learning_rate': 0.11911280031616729, 'n_estimators': 200, 'n_jobs': 4, 'gamma': 0.423699551732046, 'reg_lambda': 2.995266955198516, 'reg_alpha': 0.3720462306677462}\n",
      "0.8326993519301211\n"
     ]
    },
    {
     "name": "stderr",
     "output_type": "stream",
     "text": [
      "[I 2019-08-21 10:50:48,757] Finished trial#134 resulted in value: -0.8326993519301211. Current best value is -0.8370667793744717 with parameters: {'max_depth': 1, 'learning_rate': 0.1194040551189999, 'n_estimators ': 200, 'gamma': 0.46936226503775885, 'reg_lambda': 2.7995760475715374, 'reg_alpha': 0.3852595618516359}.\n"
     ]
    },
    {
     "name": "stdout",
     "output_type": "stream",
     "text": [
      "{'max_depth': 1, 'learning_rate': 0.11969934041497765, 'n_estimators': 198, 'n_jobs': 4, 'gamma': 0.47652936463223006, 'reg_lambda': 2.973759453867928, 'reg_alpha': 0.37570550485959087}\n",
      "0.8312905043674275\n"
     ]
    },
    {
     "name": "stderr",
     "output_type": "stream",
     "text": [
      "[I 2019-08-21 10:50:54,622] Finished trial#135 resulted in value: -0.8312905043674275. Current best value is -0.8370667793744717 with parameters: {'max_depth': 1, 'learning_rate': 0.1194040551189999, 'n_estimators ': 200, 'gamma': 0.46936226503775885, 'reg_lambda': 2.7995760475715374, 'reg_alpha': 0.3852595618516359}.\n"
     ]
    },
    {
     "name": "stdout",
     "output_type": "stream",
     "text": [
      "{'max_depth': 1, 'learning_rate': 0.1202695873006383, 'n_estimators': 200, 'n_jobs': 4, 'gamma': 0.46518709321910395, 'reg_lambda': 2.8288386674975143, 'reg_alpha': 0.3946851640974736}\n",
      "0.8387573964497042\n"
     ]
    },
    {
     "name": "stderr",
     "output_type": "stream",
     "text": [
      "[I 2019-08-21 10:51:01,913] Finished trial#136 resulted in value: -0.8387573964497042. Current best value is -0.8387573964497042 with parameters: {'max_depth': 1, 'learning_rate': 0.1202695873006383, 'n_estimators ': 200, 'gamma': 0.46518709321910395, 'reg_lambda': 2.8288386674975143, 'reg_alpha': 0.3946851640974736}.\n"
     ]
    },
    {
     "name": "stdout",
     "output_type": "stream",
     "text": [
      "{'max_depth': 1, 'learning_rate': 0.1202356889023437, 'n_estimators': 200, 'n_jobs': 4, 'gamma': 0.46972649135660133, 'reg_lambda': 2.9847940559461157, 'reg_alpha': 0.38945542204267214}\n",
      "0.8367850098619329\n"
     ]
    },
    {
     "name": "stderr",
     "output_type": "stream",
     "text": [
      "[I 2019-08-21 10:51:08,039] Finished trial#137 resulted in value: -0.8367850098619329. Current best value is -0.8387573964497042 with parameters: {'max_depth': 1, 'learning_rate': 0.1202695873006383, 'n_estimators ': 200, 'gamma': 0.46518709321910395, 'reg_lambda': 2.8288386674975143, 'reg_alpha': 0.3946851640974736}.\n"
     ]
    },
    {
     "name": "stdout",
     "output_type": "stream",
     "text": [
      "{'max_depth': 1, 'learning_rate': 0.12005465820229295, 'n_estimators': 200, 'n_jobs': 4, 'gamma': 0.47406875270692844, 'reg_lambda': 2.989145597246852, 'reg_alpha': 0.39965019048861733}\n",
      "0.8315722738799661\n"
     ]
    },
    {
     "name": "stderr",
     "output_type": "stream",
     "text": [
      "[I 2019-08-21 10:51:14,423] Finished trial#138 resulted in value: -0.8315722738799661. Current best value is -0.8387573964497042 with parameters: {'max_depth': 1, 'learning_rate': 0.1202695873006383, 'n_estimators ': 200, 'gamma': 0.46518709321910395, 'reg_lambda': 2.8288386674975143, 'reg_alpha': 0.3946851640974736}.\n"
     ]
    },
    {
     "name": "stdout",
     "output_type": "stream",
     "text": [
      "{'max_depth': 1, 'learning_rate': 0.1271528385048242, 'n_estimators': 200, 'n_jobs': 4, 'gamma': 0.506684772135543, 'reg_lambda': 2.9972023699572183, 'reg_alpha': 0.37346798274869375}\n",
      "0.8229783037475346\n"
     ]
    },
    {
     "name": "stderr",
     "output_type": "stream",
     "text": [
      "[I 2019-08-21 10:51:20,594] Finished trial#139 resulted in value: -0.8229783037475346. Current best value is -0.8387573964497042 with parameters: {'max_depth': 1, 'learning_rate': 0.1202695873006383, 'n_estimators ': 200, 'gamma': 0.46518709321910395, 'reg_lambda': 2.8288386674975143, 'reg_alpha': 0.3946851640974736}.\n"
     ]
    },
    {
     "name": "stdout",
     "output_type": "stream",
     "text": [
      "{'max_depth': 1, 'learning_rate': 0.12270306058078245, 'n_estimators': 200, 'n_jobs': 4, 'gamma': 0.4563559112704003, 'reg_lambda': 2.847667581634179, 'reg_alpha': 0.41335698461152787}\n",
      "0.8396027049873204\n"
     ]
    },
    {
     "name": "stderr",
     "output_type": "stream",
     "text": [
      "[I 2019-08-21 10:51:27,124] Finished trial#140 resulted in value: -0.8396027049873204. Current best value is -0.8396027049873204 with parameters: {'max_depth': 1, 'learning_rate': 0.12270306058078245, 'n_estimators ': 200, 'gamma': 0.4563559112704003, 'reg_lambda': 2.847667581634179, 'reg_alpha': 0.41335698461152787}.\n"
     ]
    },
    {
     "name": "stdout",
     "output_type": "stream",
     "text": [
      "{'max_depth': 1, 'learning_rate': 0.12300250073380481, 'n_estimators': 196, 'n_jobs': 4, 'gamma': 0.4607065180030694, 'reg_lambda': 2.9952663745319748, 'reg_alpha': 0.4323754117521263}\n",
      "0.8355170470555086\n"
     ]
    },
    {
     "name": "stderr",
     "output_type": "stream",
     "text": [
      "[I 2019-08-21 10:51:33,804] Finished trial#141 resulted in value: -0.8355170470555086. Current best value is -0.8396027049873204 with parameters: {'max_depth': 1, 'learning_rate': 0.12270306058078245, 'n_estimators ': 200, 'gamma': 0.4563559112704003, 'reg_lambda': 2.847667581634179, 'reg_alpha': 0.41335698461152787}.\n"
     ]
    },
    {
     "name": "stdout",
     "output_type": "stream",
     "text": [
      "{'max_depth': 1, 'learning_rate': 0.12309026118918157, 'n_estimators': 193, 'n_jobs': 4, 'gamma': 0.4565491598343766, 'reg_lambda': 2.8465823805583508, 'reg_alpha': 0.4089111455282829}\n",
      "0.8381938574246266\n"
     ]
    },
    {
     "name": "stderr",
     "output_type": "stream",
     "text": [
      "[I 2019-08-21 10:51:39,810] Finished trial#142 resulted in value: -0.8381938574246266. Current best value is -0.8396027049873204 with parameters: {'max_depth': 1, 'learning_rate': 0.12270306058078245, 'n_estimators ': 200, 'gamma': 0.4563559112704003, 'reg_lambda': 2.847667581634179, 'reg_alpha': 0.41335698461152787}.\n"
     ]
    },
    {
     "name": "stdout",
     "output_type": "stream",
     "text": [
      "{'max_depth': 1, 'learning_rate': 0.12289281282127065, 'n_estimators': 193, 'n_jobs': 4, 'gamma': 0.4574019830652179, 'reg_lambda': 2.824757277154205, 'reg_alpha': 0.42494056005382524}\n",
      "0.8362214708368555\n"
     ]
    },
    {
     "name": "stderr",
     "output_type": "stream",
     "text": [
      "[I 2019-08-21 10:51:46,210] Finished trial#143 resulted in value: -0.8362214708368555. Current best value is -0.8396027049873204 with parameters: {'max_depth': 1, 'learning_rate': 0.12270306058078245, 'n_estimators ': 200, 'gamma': 0.4563559112704003, 'reg_lambda': 2.847667581634179, 'reg_alpha': 0.41335698461152787}.\n"
     ]
    },
    {
     "name": "stdout",
     "output_type": "stream",
     "text": [
      "{'max_depth': 1, 'learning_rate': 0.12391894592538116, 'n_estimators': 193, 'n_jobs': 4, 'gamma': 0.45504345225019055, 'reg_lambda': 2.8445170797487704, 'reg_alpha': 0.44658059061269395}\n",
      "0.8369258946182023\n"
     ]
    },
    {
     "name": "stderr",
     "output_type": "stream",
     "text": [
      "[I 2019-08-21 10:51:52,223] Finished trial#144 resulted in value: -0.8369258946182023. Current best value is -0.8396027049873204 with parameters: {'max_depth': 1, 'learning_rate': 0.12270306058078245, 'n_estimators ': 200, 'gamma': 0.4563559112704003, 'reg_lambda': 2.847667581634179, 'reg_alpha': 0.41335698461152787}.\n"
     ]
    },
    {
     "name": "stdout",
     "output_type": "stream",
     "text": [
      "{'max_depth': 1, 'learning_rate': 0.1232957497392385, 'n_estimators': 193, 'n_jobs': 4, 'gamma': 0.4574614566246559, 'reg_lambda': 2.8247159199341962, 'reg_alpha': 0.43921529882386506}\n",
      "0.8360805860805861\n"
     ]
    },
    {
     "name": "stderr",
     "output_type": "stream",
     "text": [
      "[I 2019-08-21 10:51:58,441] Finished trial#145 resulted in value: -0.8360805860805861. Current best value is -0.8396027049873204 with parameters: {'max_depth': 1, 'learning_rate': 0.12270306058078245, 'n_estimators ': 200, 'gamma': 0.4563559112704003, 'reg_lambda': 2.847667581634179, 'reg_alpha': 0.41335698461152787}.\n"
     ]
    },
    {
     "name": "stdout",
     "output_type": "stream",
     "text": [
      "{'max_depth': 1, 'learning_rate': 0.12310500261465494, 'n_estimators': 191, 'n_jobs': 4, 'gamma': 0.46199303690739746, 'reg_lambda': 2.8381959969390493, 'reg_alpha': 0.5480320027741766}\n",
      "0.8218512256973796\n"
     ]
    },
    {
     "name": "stderr",
     "output_type": "stream",
     "text": [
      "[I 2019-08-21 10:52:05,457] Finished trial#146 resulted in value: -0.8218512256973796. Current best value is -0.8396027049873204 with parameters: {'max_depth': 1, 'learning_rate': 0.12270306058078245, 'n_estimators ': 200, 'gamma': 0.4563559112704003, 'reg_lambda': 2.847667581634179, 'reg_alpha': 0.41335698461152787}.\n"
     ]
    },
    {
     "name": "stdout",
     "output_type": "stream",
     "text": [
      "{'max_depth': 1, 'learning_rate': 0.12828920737234525, 'n_estimators': 193, 'n_jobs': 4, 'gamma': 0.49269905877140596, 'reg_lambda': 2.965788150161228, 'reg_alpha': 0.43423366263662055}\n",
      "0.823541842772612\n"
     ]
    },
    {
     "name": "stderr",
     "output_type": "stream",
     "text": [
      "[I 2019-08-21 10:52:11,291] Finished trial#147 resulted in value: -0.823541842772612. Current best value is -0.8396027049873204 with parameters: {'max_depth': 1, 'learning_rate': 0.12270306058078245, 'n_estimators ': 200, 'gamma': 0.4563559112704003, 'reg_lambda': 2.847667581634179, 'reg_alpha': 0.41335698461152787}.\n"
     ]
    },
    {
     "name": "stdout",
     "output_type": "stream",
     "text": [
      "{'max_depth': 1, 'learning_rate': 0.12383934989686889, 'n_estimators': 195, 'n_jobs': 4, 'gamma': 0.4476352643277189, 'reg_lambda': 2.9381037312226668, 'reg_alpha': 0.5229174097306339}\n",
      "0.8207241476472246\n"
     ]
    },
    {
     "name": "stderr",
     "output_type": "stream",
     "text": [
      "[I 2019-08-21 10:52:17,589] Finished trial#148 resulted in value: -0.8207241476472246. Current best value is -0.8396027049873204 with parameters: {'max_depth': 1, 'learning_rate': 0.12270306058078245, 'n_estimators ': 200, 'gamma': 0.4563559112704003, 'reg_lambda': 2.847667581634179, 'reg_alpha': 0.41335698461152787}.\n"
     ]
    },
    {
     "name": "stdout",
     "output_type": "stream",
     "text": [
      "{'max_depth': 1, 'learning_rate': 0.13053124140722266, 'n_estimators': 192, 'n_jobs': 4, 'gamma': 0.5176150052680697, 'reg_lambda': 2.8381899419614856, 'reg_alpha': 0.4667104544912606}\n",
      "0.8072696534234995\n"
     ]
    },
    {
     "name": "stderr",
     "output_type": "stream",
     "text": [
      "[I 2019-08-21 10:52:23,457] Finished trial#149 resulted in value: -0.8072696534234995. Current best value is -0.8396027049873204 with parameters: {'max_depth': 1, 'learning_rate': 0.12270306058078245, 'n_estimators ': 200, 'gamma': 0.4563559112704003, 'reg_lambda': 2.847667581634179, 'reg_alpha': 0.41335698461152787}.\n"
     ]
    },
    {
     "name": "stdout",
     "output_type": "stream",
     "text": [
      "{'max_depth': 1, 'learning_rate': 0.12536511554344865, 'n_estimators': 200, 'n_jobs': 4, 'gamma': 0.4551823135719495, 'reg_lambda': 2.8475889085525923, 'reg_alpha': 0.42150208673496775}\n",
      "0.8362214708368554\n"
     ]
    },
    {
     "name": "stderr",
     "output_type": "stream",
     "text": [
      "[I 2019-08-21 10:52:29,391] Finished trial#150 resulted in value: -0.8362214708368554. Current best value is -0.8396027049873204 with parameters: {'max_depth': 1, 'learning_rate': 0.12270306058078245, 'n_estimators ': 200, 'gamma': 0.4563559112704003, 'reg_lambda': 2.847667581634179, 'reg_alpha': 0.41335698461152787}.\n"
     ]
    },
    {
     "name": "stdout",
     "output_type": "stream",
     "text": [
      "{'max_depth': 1, 'learning_rate': 0.1251843557822461, 'n_estimators': 196, 'n_jobs': 4, 'gamma': 0.45479193742287866, 'reg_lambda': 2.841751830345984, 'reg_alpha': 0.43007686089541397}\n",
      "0.8350943927867004\n"
     ]
    },
    {
     "name": "stderr",
     "output_type": "stream",
     "text": [
      "[I 2019-08-21 10:52:35,818] Finished trial#151 resulted in value: -0.8350943927867004. Current best value is -0.8396027049873204 with parameters: {'max_depth': 1, 'learning_rate': 0.12270306058078245, 'n_estimators ': 200, 'gamma': 0.4563559112704003, 'reg_lambda': 2.847667581634179, 'reg_alpha': 0.41335698461152787}.\n"
     ]
    },
    {
     "name": "stdout",
     "output_type": "stream",
     "text": [
      "{'max_depth': 1, 'learning_rate': 0.12510820512952292, 'n_estimators': 196, 'n_jobs': 4, 'gamma': 0.4520647796988447, 'reg_lambda': 2.8114693734172285, 'reg_alpha': 0.43383114001930934}\n",
      "0.8359397013243167\n"
     ]
    },
    {
     "name": "stderr",
     "output_type": "stream",
     "text": [
      "[I 2019-08-21 10:52:41,792] Finished trial#152 resulted in value: -0.8359397013243167. Current best value is -0.8396027049873204 with parameters: {'max_depth': 1, 'learning_rate': 0.12270306058078245, 'n_estimators ': 200, 'gamma': 0.4563559112704003, 'reg_lambda': 2.847667581634179, 'reg_alpha': 0.41335698461152787}.\n"
     ]
    },
    {
     "name": "stdout",
     "output_type": "stream",
     "text": [
      "{'max_depth': 1, 'learning_rate': 0.12265846520661727, 'n_estimators': 195, 'n_jobs': 4, 'gamma': 0.4497765560150893, 'reg_lambda': 2.80999815949853, 'reg_alpha': 0.5467237605519355}\n",
      "0.8272048464356155\n"
     ]
    },
    {
     "name": "stderr",
     "output_type": "stream",
     "text": [
      "[I 2019-08-21 10:52:47,760] Finished trial#153 resulted in value: -0.8272048464356155. Current best value is -0.8396027049873204 with parameters: {'max_depth': 1, 'learning_rate': 0.12270306058078245, 'n_estimators ': 200, 'gamma': 0.4563559112704003, 'reg_lambda': 2.847667581634179, 'reg_alpha': 0.41335698461152787}.\n"
     ]
    },
    {
     "name": "stdout",
     "output_type": "stream",
     "text": [
      "{'max_depth': 1, 'learning_rate': 0.1258187105052781, 'n_estimators': 190, 'n_jobs': 4, 'gamma': 0.49483006049400513, 'reg_lambda': 2.8686945159426562, 'reg_alpha': 0.4647676536934454}\n",
      "0.8221329952099181\n"
     ]
    },
    {
     "name": "stderr",
     "output_type": "stream",
     "text": [
      "[I 2019-08-21 10:52:53,892] Finished trial#154 resulted in value: -0.8221329952099181. Current best value is -0.8396027049873204 with parameters: {'max_depth': 1, 'learning_rate': 0.12270306058078245, 'n_estimators ': 200, 'gamma': 0.4563559112704003, 'reg_lambda': 2.847667581634179, 'reg_alpha': 0.41335698461152787}.\n"
     ]
    },
    {
     "name": "stdout",
     "output_type": "stream",
     "text": [
      "{'max_depth': 1, 'learning_rate': 0.13088996216533164, 'n_estimators': 196, 'n_jobs': 4, 'gamma': 0.45262623542205727, 'reg_lambda': 2.939504860905958, 'reg_alpha': 0.4303086795918368}\n",
      "0.8329811214426598\n"
     ]
    },
    {
     "name": "stderr",
     "output_type": "stream",
     "text": [
      "[I 2019-08-21 10:52:59,709] Finished trial#155 resulted in value: -0.8329811214426598. Current best value is -0.8396027049873204 with parameters: {'max_depth': 1, 'learning_rate': 0.12270306058078245, 'n_estimators ': 200, 'gamma': 0.4563559112704003, 'reg_lambda': 2.847667581634179, 'reg_alpha': 0.41335698461152787}.\n"
     ]
    },
    {
     "name": "stdout",
     "output_type": "stream",
     "text": [
      "{'max_depth': 1, 'learning_rate': 0.12543737818065437, 'n_estimators': 196, 'n_jobs': 4, 'gamma': 0.48902949675820734, 'reg_lambda': 2.8376322372394616, 'reg_alpha': 0.3402074432487527}\n",
      "0.8294590025359256\n"
     ]
    },
    {
     "name": "stderr",
     "output_type": "stream",
     "text": [
      "[I 2019-08-21 10:53:06,092] Finished trial#156 resulted in value: -0.8294590025359256. Current best value is -0.8396027049873204 with parameters: {'max_depth': 1, 'learning_rate': 0.12270306058078245, 'n_estimators ': 200, 'gamma': 0.4563559112704003, 'reg_lambda': 2.847667581634179, 'reg_alpha': 0.41335698461152787}.\n"
     ]
    },
    {
     "name": "stdout",
     "output_type": "stream",
     "text": [
      "{'max_depth': 1, 'learning_rate': 0.12179616298569053, 'n_estimators': 48, 'n_jobs': 4, 'gamma': 0.5320781627371729, 'reg_lambda': 2.7859753370551017, 'reg_alpha': 0.502245397219876}\n",
      "0.8070583262890956\n"
     ]
    },
    {
     "name": "stderr",
     "output_type": "stream",
     "text": [
      "[I 2019-08-21 10:53:08,712] Finished trial#157 resulted in value: -0.8070583262890956. Current best value is -0.8396027049873204 with parameters: {'max_depth': 1, 'learning_rate': 0.12270306058078245, 'n_estimators ': 200, 'gamma': 0.4563559112704003, 'reg_lambda': 2.847667581634179, 'reg_alpha': 0.41335698461152787}.\n"
     ]
    },
    {
     "name": "stdout",
     "output_type": "stream",
     "text": [
      "{'max_depth': 1, 'learning_rate': 0.12772107831553559, 'n_estimators': 191, 'n_jobs': 4, 'gamma': 0.44236586621224, 'reg_lambda': 2.9341191735688708, 'reg_alpha': 0.31654415254303303}\n",
      "0.8374894336432799\n"
     ]
    },
    {
     "name": "stderr",
     "output_type": "stream",
     "text": [
      "[I 2019-08-21 10:53:14,610] Finished trial#158 resulted in value: -0.8374894336432799. Current best value is -0.8396027049873204 with parameters: {'max_depth': 1, 'learning_rate': 0.12270306058078245, 'n_estimators ': 200, 'gamma': 0.4563559112704003, 'reg_lambda': 2.847667581634179, 'reg_alpha': 0.41335698461152787}.\n"
     ]
    },
    {
     "name": "stdout",
     "output_type": "stream",
     "text": [
      "{'max_depth': 1, 'learning_rate': 0.1283414354707277, 'n_estimators': 191, 'n_jobs': 4, 'gamma': 0.5164110495335049, 'reg_lambda': 2.912833369151438, 'reg_alpha': 0.31599803062168497}\n",
      "0.8259368836291914\n"
     ]
    },
    {
     "name": "stderr",
     "output_type": "stream",
     "text": [
      "[I 2019-08-21 10:53:20,797] Finished trial#159 resulted in value: -0.8259368836291914. Current best value is -0.8396027049873204 with parameters: {'max_depth': 1, 'learning_rate': 0.12270306058078245, 'n_estimators ': 200, 'gamma': 0.4563559112704003, 'reg_lambda': 2.847667581634179, 'reg_alpha': 0.41335698461152787}.\n"
     ]
    },
    {
     "name": "stdout",
     "output_type": "stream",
     "text": [
      "{'max_depth': 1, 'learning_rate': 0.13434006409430552, 'n_estimators': 92, 'n_jobs': 4, 'gamma': 0.41495918939494775, 'reg_lambda': 2.963745991268858, 'reg_alpha': 0.33356071949472943}\n",
      "0.8387573964497042\n"
     ]
    },
    {
     "name": "stderr",
     "output_type": "stream",
     "text": [
      "[I 2019-08-21 10:53:24,577] Finished trial#160 resulted in value: -0.8387573964497042. Current best value is -0.8396027049873204 with parameters: {'max_depth': 1, 'learning_rate': 0.12270306058078245, 'n_estimators ': 200, 'gamma': 0.4563559112704003, 'reg_lambda': 2.847667581634179, 'reg_alpha': 0.41335698461152787}.\n"
     ]
    },
    {
     "name": "stdout",
     "output_type": "stream",
     "text": [
      "{'max_depth': 1, 'learning_rate': 0.1334268764524245, 'n_estimators': 93, 'n_jobs': 4, 'gamma': 0.43374650840100415, 'reg_lambda': 2.939729331647358, 'reg_alpha': 0.3304771410989156}\n",
      "0.8405888982812059\n"
     ]
    },
    {
     "name": "stderr",
     "output_type": "stream",
     "text": [
      "[I 2019-08-21 10:53:28,159] Finished trial#161 resulted in value: -0.8405888982812059. Current best value is -0.8405888982812059 with parameters: {'max_depth': 1, 'learning_rate': 0.1334268764524245, 'n_estimators ': 93, 'gamma': 0.43374650840100415, 'reg_lambda': 2.939729331647358, 'reg_alpha': 0.3304771410989156}.\n"
     ]
    },
    {
     "name": "stdout",
     "output_type": "stream",
     "text": [
      "{'max_depth': 1, 'learning_rate': 0.13577810027301745, 'n_estimators': 78, 'n_jobs': 4, 'gamma': 0.42964413742091356, 'reg_lambda': 2.942821873915166, 'reg_alpha': 0.3367761929349078}\n",
      "0.8403071287686671\n"
     ]
    },
    {
     "name": "stderr",
     "output_type": "stream",
     "text": [
      "[I 2019-08-21 10:53:31,417] Finished trial#162 resulted in value: -0.8403071287686671. Current best value is -0.8405888982812059 with parameters: {'max_depth': 1, 'learning_rate': 0.1334268764524245, 'n_estimators ': 93, 'gamma': 0.43374650840100415, 'reg_lambda': 2.939729331647358, 'reg_alpha': 0.3304771410989156}.\n"
     ]
    },
    {
     "name": "stdout",
     "output_type": "stream",
     "text": [
      "{'max_depth': 1, 'learning_rate': 0.13649729602290137, 'n_estimators': 89, 'n_jobs': 4, 'gamma': 0.42970525022319184, 'reg_lambda': 2.9468815496906715, 'reg_alpha': 0.33021479464257786}\n",
      "0.8400253592561285\n"
     ]
    },
    {
     "name": "stderr",
     "output_type": "stream",
     "text": [
      "[I 2019-08-21 10:53:34,927] Finished trial#163 resulted in value: -0.8400253592561285. Current best value is -0.8405888982812059 with parameters: {'max_depth': 1, 'learning_rate': 0.1334268764524245, 'n_estimators ': 93, 'gamma': 0.43374650840100415, 'reg_lambda': 2.939729331647358, 'reg_alpha': 0.3304771410989156}.\n"
     ]
    },
    {
     "name": "stdout",
     "output_type": "stream",
     "text": [
      "{'max_depth': 1, 'learning_rate': 0.13042655941045814, 'n_estimators': 87, 'n_jobs': 4, 'gamma': 0.410925740094341, 'reg_lambda': 2.9458210267711995, 'reg_alpha': 0.3558174458040648}\n",
      "0.8388982812059735\n"
     ]
    },
    {
     "name": "stderr",
     "output_type": "stream",
     "text": [
      "[I 2019-08-21 10:53:38,978] Finished trial#164 resulted in value: -0.8388982812059735. Current best value is -0.8405888982812059 with parameters: {'max_depth': 1, 'learning_rate': 0.1334268764524245, 'n_estimators ': 93, 'gamma': 0.43374650840100415, 'reg_lambda': 2.939729331647358, 'reg_alpha': 0.3304771410989156}.\n"
     ]
    },
    {
     "name": "stdout",
     "output_type": "stream",
     "text": [
      "{'max_depth': 1, 'learning_rate': 0.13434814210254467, 'n_estimators': 89, 'n_jobs': 4, 'gamma': 0.4157064852302394, 'reg_lambda': 2.9333859649049883, 'reg_alpha': 0.3249680093781395}\n",
      "0.8367850098619329\n"
     ]
    },
    {
     "name": "stderr",
     "output_type": "stream",
     "text": [
      "[I 2019-08-21 10:53:42,506] Finished trial#165 resulted in value: -0.8367850098619329. Current best value is -0.8405888982812059 with parameters: {'max_depth': 1, 'learning_rate': 0.1334268764524245, 'n_estimators ': 93, 'gamma': 0.43374650840100415, 'reg_lambda': 2.939729331647358, 'reg_alpha': 0.3304771410989156}.\n"
     ]
    },
    {
     "name": "stdout",
     "output_type": "stream",
     "text": [
      "{'max_depth': 1, 'learning_rate': 0.13819287941712946, 'n_estimators': 91, 'n_jobs': 4, 'gamma': 0.415823682917003, 'reg_lambda': 0.8726352806664979, 'reg_alpha': 0.3137692366950363}\n",
      "0.8400253592561285\n"
     ]
    },
    {
     "name": "stderr",
     "output_type": "stream",
     "text": [
      "[I 2019-08-21 10:53:46,044] Finished trial#166 resulted in value: -0.8400253592561285. Current best value is -0.8405888982812059 with parameters: {'max_depth': 1, 'learning_rate': 0.1334268764524245, 'n_estimators ': 93, 'gamma': 0.43374650840100415, 'reg_lambda': 2.939729331647358, 'reg_alpha': 0.3304771410989156}.\n"
     ]
    },
    {
     "name": "stdout",
     "output_type": "stream",
     "text": [
      "{'max_depth': 1, 'learning_rate': 0.13549797224465046, 'n_estimators': 89, 'n_jobs': 4, 'gamma': 0.41471627658255694, 'reg_lambda': 2.9401765183171453, 'reg_alpha': 0.3154513938375523}\n",
      "0.8396027049873204\n"
     ]
    },
    {
     "name": "stderr",
     "output_type": "stream",
     "text": [
      "[I 2019-08-21 10:53:49,578] Finished trial#167 resulted in value: -0.8396027049873204. Current best value is -0.8405888982812059 with parameters: {'max_depth': 1, 'learning_rate': 0.1334268764524245, 'n_estimators ': 93, 'gamma': 0.43374650840100415, 'reg_lambda': 2.939729331647358, 'reg_alpha': 0.3304771410989156}.\n"
     ]
    },
    {
     "name": "stdout",
     "output_type": "stream",
     "text": [
      "{'max_depth': 1, 'learning_rate': 0.13592978602059977, 'n_estimators': 90, 'n_jobs': 4, 'gamma': 0.4090782166030341, 'reg_lambda': 1.0616899997244775, 'reg_alpha': 0.28854794004418577}\n",
      "0.8350239504085658\n"
     ]
    },
    {
     "name": "stderr",
     "output_type": "stream",
     "text": [
      "[I 2019-08-21 10:53:53,670] Finished trial#168 resulted in value: -0.8350239504085658. Current best value is -0.8405888982812059 with parameters: {'max_depth': 1, 'learning_rate': 0.1334268764524245, 'n_estimators ': 93, 'gamma': 0.43374650840100415, 'reg_lambda': 2.939729331647358, 'reg_alpha': 0.3304771410989156}.\n"
     ]
    },
    {
     "name": "stdout",
     "output_type": "stream",
     "text": [
      "{'max_depth': 1, 'learning_rate': 0.13867193762139512, 'n_estimators': 80, 'n_jobs': 4, 'gamma': 0.4309477649464529, 'reg_lambda': 2.9373923106537543, 'reg_alpha': 0.19251766260755682}\n",
      "0.8369963369963369\n"
     ]
    },
    {
     "name": "stderr",
     "output_type": "stream",
     "text": [
      "[I 2019-08-21 10:53:57,027] Finished trial#169 resulted in value: -0.8369963369963369. Current best value is -0.8405888982812059 with parameters: {'max_depth': 1, 'learning_rate': 0.1334268764524245, 'n_estimators ': 93, 'gamma': 0.43374650840100415, 'reg_lambda': 2.939729331647358, 'reg_alpha': 0.3304771410989156}.\n"
     ]
    },
    {
     "name": "stdout",
     "output_type": "stream",
     "text": [
      "{'max_depth': 1, 'learning_rate': 0.13957663765434533, 'n_estimators': 78, 'n_jobs': 4, 'gamma': 0.42439375355494285, 'reg_lambda': 2.9215426599631407, 'reg_alpha': 0.18998079342022803}\n",
      "0.8398844744998591\n"
     ]
    },
    {
     "name": "stderr",
     "output_type": "stream",
     "text": [
      "[I 2019-08-21 10:54:00,344] Finished trial#170 resulted in value: -0.8398844744998591. Current best value is -0.8405888982812059 with parameters: {'max_depth': 1, 'learning_rate': 0.1334268764524245, 'n_estimators ': 93, 'gamma': 0.43374650840100415, 'reg_lambda': 2.939729331647358, 'reg_alpha': 0.3304771410989156}.\n"
     ]
    },
    {
     "name": "stdout",
     "output_type": "stream",
     "text": [
      "{'max_depth': 1, 'learning_rate': 0.1392001631071623, 'n_estimators': 79, 'n_jobs': 4, 'gamma': 0.4351009907574536, 'reg_lambda': 2.9352655109307992, 'reg_alpha': 0.20880462066939817}\n",
      "0.842138630600169\n"
     ]
    },
    {
     "name": "stderr",
     "output_type": "stream",
     "text": [
      "[I 2019-08-21 10:54:03,629] Finished trial#171 resulted in value: -0.842138630600169. Current best value is -0.842138630600169 with parameters: {'max_depth': 1, 'learning_rate': 0.1392001631071623, 'n_estimators ': 79, 'gamma': 0.4351009907574536, 'reg_lambda': 2.9352655109307992, 'reg_alpha': 0.20880462066939817}.\n"
     ]
    },
    {
     "name": "stdout",
     "output_type": "stream",
     "text": [
      "{'max_depth': 1, 'learning_rate': 0.13890320756220345, 'n_estimators': 80, 'n_jobs': 4, 'gamma': 0.4278576396740141, 'reg_lambda': 2.9087516201036916, 'reg_alpha': 0.20084878682856952}\n",
      "0.8381234150464919\n"
     ]
    },
    {
     "name": "stderr",
     "output_type": "stream",
     "text": [
      "[I 2019-08-21 10:54:06,946] Finished trial#172 resulted in value: -0.8381234150464919. Current best value is -0.842138630600169 with parameters: {'max_depth': 1, 'learning_rate': 0.1392001631071623, 'n_estimators ': 79, 'gamma': 0.4351009907574536, 'reg_lambda': 2.9352655109307992, 'reg_alpha': 0.20880462066939817}.\n"
     ]
    },
    {
     "name": "stdout",
     "output_type": "stream",
     "text": [
      "{'max_depth': 1, 'learning_rate': 0.13900427654288397, 'n_estimators': 77, 'n_jobs': 4, 'gamma': 0.4336065427866798, 'reg_lambda': 2.913189482401066, 'reg_alpha': 0.20399575356232927}\n",
      "0.8417159763313609\n"
     ]
    },
    {
     "name": "stderr",
     "output_type": "stream",
     "text": [
      "[I 2019-08-21 10:54:10,727] Finished trial#173 resulted in value: -0.8417159763313609. Current best value is -0.842138630600169 with parameters: {'max_depth': 1, 'learning_rate': 0.1392001631071623, 'n_estimators ': 79, 'gamma': 0.4351009907574536, 'reg_lambda': 2.9352655109307992, 'reg_alpha': 0.20880462066939817}.\n"
     ]
    },
    {
     "name": "stdout",
     "output_type": "stream",
     "text": [
      "{'max_depth': 1, 'learning_rate': 0.13888504290292453, 'n_estimators': 77, 'n_jobs': 4, 'gamma': 0.4249973934681886, 'reg_lambda': 2.9192182945454412, 'reg_alpha': 0.21190220530101478}\n",
      "0.8378416455339531\n"
     ]
    },
    {
     "name": "stderr",
     "output_type": "stream",
     "text": [
      "[I 2019-08-21 10:54:13,977] Finished trial#174 resulted in value: -0.8378416455339531. Current best value is -0.842138630600169 with parameters: {'max_depth': 1, 'learning_rate': 0.1392001631071623, 'n_estimators ': 79, 'gamma': 0.4351009907574536, 'reg_lambda': 2.9352655109307992, 'reg_alpha': 0.20880462066939817}.\n"
     ]
    },
    {
     "name": "stdout",
     "output_type": "stream",
     "text": [
      "{'max_depth': 1, 'learning_rate': 0.13855342504771412, 'n_estimators': 80, 'n_jobs': 4, 'gamma': 0.4215393955219448, 'reg_lambda': 0.7569752283571255, 'reg_alpha': 0.22395353929495018}\n",
      "0.8350239504085658\n"
     ]
    },
    {
     "name": "stderr",
     "output_type": "stream",
     "text": [
      "[I 2019-08-21 10:54:17,294] Finished trial#175 resulted in value: -0.8350239504085658. Current best value is -0.842138630600169 with parameters: {'max_depth': 1, 'learning_rate': 0.1392001631071623, 'n_estimators ': 79, 'gamma': 0.4351009907574536, 'reg_lambda': 2.9352655109307992, 'reg_alpha': 0.20880462066939817}.\n"
     ]
    },
    {
     "name": "stdout",
     "output_type": "stream",
     "text": [
      "{'max_depth': 1, 'learning_rate': 0.14544434403253392, 'n_estimators': 72, 'n_jobs': 4, 'gamma': 0.4356018082020117, 'reg_lambda': 2.931451663505623, 'reg_alpha': 0.19045302677956732}\n",
      "0.8434065934065934\n"
     ]
    },
    {
     "name": "stderr",
     "output_type": "stream",
     "text": [
      "[I 2019-08-21 10:54:20,445] Finished trial#176 resulted in value: -0.8434065934065934. Current best value is -0.8434065934065934 with parameters: {'max_depth': 1, 'learning_rate': 0.14544434403253392, 'n_estimators ': 72, 'gamma': 0.4356018082020117, 'reg_lambda': 2.931451663505623, 'reg_alpha': 0.19045302677956732}.\n"
     ]
    },
    {
     "name": "stdout",
     "output_type": "stream",
     "text": [
      "{'max_depth': 1, 'learning_rate': 0.14554791704437636, 'n_estimators': 72, 'n_jobs': 4, 'gamma': 0.38334764267581894, 'reg_lambda': 2.901588168275696, 'reg_alpha': 0.19163319167801035}\n",
      "0.8305156382079458\n"
     ]
    },
    {
     "name": "stderr",
     "output_type": "stream",
     "text": [
      "[I 2019-08-21 10:54:23,793] Finished trial#177 resulted in value: -0.8305156382079458. Current best value is -0.8434065934065934 with parameters: {'max_depth': 1, 'learning_rate': 0.14544434403253392, 'n_estimators ': 72, 'gamma': 0.4356018082020117, 'reg_lambda': 2.931451663505623, 'reg_alpha': 0.19045302677956732}.\n"
     ]
    },
    {
     "name": "stdout",
     "output_type": "stream",
     "text": [
      "{'max_depth': 1, 'learning_rate': 0.13335804803247517, 'n_estimators': 95, 'n_jobs': 4, 'gamma': 0.4339742997773038, 'reg_lambda': 2.900122536954427, 'reg_alpha': 0.1794418342440153}\n",
      "0.8366441251056635\n"
     ]
    },
    {
     "name": "stderr",
     "output_type": "stream",
     "text": [
      "[I 2019-08-21 10:54:27,861] Finished trial#178 resulted in value: -0.8366441251056635. Current best value is -0.8434065934065934 with parameters: {'max_depth': 1, 'learning_rate': 0.14544434403253392, 'n_estimators ': 72, 'gamma': 0.4356018082020117, 'reg_lambda': 2.931451663505623, 'reg_alpha': 0.19045302677956732}.\n"
     ]
    },
    {
     "name": "stdout",
     "output_type": "stream",
     "text": [
      "{'max_depth': 1, 'learning_rate': 0.14211248838469748, 'n_estimators': 85, 'n_jobs': 4, 'gamma': 0.408778550625712, 'reg_lambda': 2.94506754164238, 'reg_alpha': 0.2841356553378588}\n",
      "0.8401662440123979\n"
     ]
    },
    {
     "name": "stderr",
     "output_type": "stream",
     "text": [
      "[I 2019-08-21 10:54:31,300] Finished trial#179 resulted in value: -0.8401662440123979. Current best value is -0.8434065934065934 with parameters: {'max_depth': 1, 'learning_rate': 0.14544434403253392, 'n_estimators ': 72, 'gamma': 0.4356018082020117, 'reg_lambda': 2.931451663505623, 'reg_alpha': 0.19045302677956732}.\n"
     ]
    },
    {
     "name": "stdout",
     "output_type": "stream",
     "text": [
      "{'max_depth': 1, 'learning_rate': 0.1407508268441444, 'n_estimators': 85, 'n_jobs': 4, 'gamma': 0.33781039669607893, 'reg_lambda': 2.9441681532630604, 'reg_alpha': 0.28951804249220214}\n",
      "0.832488024795717\n"
     ]
    },
    {
     "name": "stderr",
     "output_type": "stream",
     "text": [
      "[I 2019-08-21 10:54:34,712] Finished trial#180 resulted in value: -0.832488024795717. Current best value is -0.8434065934065934 with parameters: {'max_depth': 1, 'learning_rate': 0.14544434403253392, 'n_estimators ': 72, 'gamma': 0.4356018082020117, 'reg_lambda': 2.931451663505623, 'reg_alpha': 0.19045302677956732}.\n"
     ]
    },
    {
     "name": "stdout",
     "output_type": "stream",
     "text": [
      "{'max_depth': 1, 'learning_rate': 0.1438813206833253, 'n_estimators': 70, 'n_jobs': 4, 'gamma': 0.402822201146981, 'reg_lambda': 2.887774884558197, 'reg_alpha': 2.269271858072353}\n",
      "0.7333755987602141\n"
     ]
    },
    {
     "name": "stderr",
     "output_type": "stream",
     "text": [
      "[I 2019-08-21 10:54:37,943] Finished trial#181 resulted in value: -0.7333755987602141. Current best value is -0.8434065934065934 with parameters: {'max_depth': 1, 'learning_rate': 0.14544434403253392, 'n_estimators ': 72, 'gamma': 0.4356018082020117, 'reg_lambda': 2.931451663505623, 'reg_alpha': 0.19045302677956732}.\n"
     ]
    },
    {
     "name": "stdout",
     "output_type": "stream",
     "text": [
      "{'max_depth': 1, 'learning_rate': 0.13479784797361313, 'n_estimators': 74, 'n_jobs': 4, 'gamma': 0.370663943848377, 'reg_lambda': 2.9430522671844668, 'reg_alpha': 0.0023026291066294557}\n",
      "0.8267117497886729\n"
     ]
    },
    {
     "name": "stderr",
     "output_type": "stream",
     "text": [
      "[I 2019-08-21 10:54:41,726] Finished trial#182 resulted in value: -0.8267117497886729. Current best value is -0.8434065934065934 with parameters: {'max_depth': 1, 'learning_rate': 0.14544434403253392, 'n_estimators ': 72, 'gamma': 0.4356018082020117, 'reg_lambda': 2.931451663505623, 'reg_alpha': 0.19045302677956732}.\n"
     ]
    },
    {
     "name": "stdout",
     "output_type": "stream",
     "text": [
      "{'max_depth': 1, 'learning_rate': 0.13788077057653703, 'n_estimators': 84, 'n_jobs': 4, 'gamma': 0.4335426116813874, 'reg_lambda': 2.886014826752449, 'reg_alpha': 2.947980593968555}\n",
      "0.7016060862214709\n"
     ]
    },
    {
     "name": "stderr",
     "output_type": "stream",
     "text": [
      "[I 2019-08-21 10:54:45,178] Finished trial#183 resulted in value: -0.7016060862214709. Current best value is -0.8434065934065934 with parameters: {'max_depth': 1, 'learning_rate': 0.14544434403253392, 'n_estimators ': 72, 'gamma': 0.4356018082020117, 'reg_lambda': 2.931451663505623, 'reg_alpha': 0.19045302677956732}.\n"
     ]
    },
    {
     "name": "stdout",
     "output_type": "stream",
     "text": [
      "{'max_depth': 1, 'learning_rate': 0.14383727930204873, 'n_estimators': 94, 'n_jobs': 4, 'gamma': 0.4105596941890494, 'reg_lambda': 2.9485498371436285, 'reg_alpha': 0.2859952568109706}\n",
      "0.839884474499859\n"
     ]
    },
    {
     "name": "stderr",
     "output_type": "stream",
     "text": [
      "[I 2019-08-21 10:54:48,814] Finished trial#184 resulted in value: -0.839884474499859. Current best value is -0.8434065934065934 with parameters: {'max_depth': 1, 'learning_rate': 0.14544434403253392, 'n_estimators ': 72, 'gamma': 0.4356018082020117, 'reg_lambda': 2.931451663505623, 'reg_alpha': 0.19045302677956732}.\n"
     ]
    },
    {
     "name": "stdout",
     "output_type": "stream",
     "text": [
      "{'max_depth': 1, 'learning_rate': 0.1429868982230435, 'n_estimators': 94, 'n_jobs': 4, 'gamma': 0.4120930182827607, 'reg_lambda': 2.9447940367372842, 'reg_alpha': 0.28068833483612693}\n",
      "0.8408706677937446\n"
     ]
    },
    {
     "name": "stderr",
     "output_type": "stream",
     "text": [
      "[I 2019-08-21 10:54:52,478] Finished trial#185 resulted in value: -0.8408706677937446. Current best value is -0.8434065934065934 with parameters: {'max_depth': 1, 'learning_rate': 0.14544434403253392, 'n_estimators ': 72, 'gamma': 0.4356018082020117, 'reg_lambda': 2.931451663505623, 'reg_alpha': 0.19045302677956732}.\n"
     ]
    },
    {
     "name": "stdout",
     "output_type": "stream",
     "text": [
      "{'max_depth': 1, 'learning_rate': 0.14333314519254053, 'n_estimators': 95, 'n_jobs': 4, 'gamma': 0.38527228409628705, 'reg_lambda': 2.951633287763154, 'reg_alpha': 0.07345139357339006}\n",
      "0.8285432516201747\n"
     ]
    },
    {
     "name": "stderr",
     "output_type": "stream",
     "text": [
      "[I 2019-08-21 10:54:56,394] Finished trial#186 resulted in value: -0.8285432516201747. Current best value is -0.8434065934065934 with parameters: {'max_depth': 1, 'learning_rate': 0.14544434403253392, 'n_estimators ': 72, 'gamma': 0.4356018082020117, 'reg_lambda': 2.931451663505623, 'reg_alpha': 0.19045302677956732}.\n"
     ]
    },
    {
     "name": "stdout",
     "output_type": "stream",
     "text": [
      "{'max_depth': 1, 'learning_rate': 0.14884505284058847, 'n_estimators': 65, 'n_jobs': 4, 'gamma': 0.41090009974777464, 'reg_lambda': 2.8853511729199943, 'reg_alpha': 0.26165517031111357}\n",
      "0.8407297830374753\n"
     ]
    },
    {
     "name": "stderr",
     "output_type": "stream",
     "text": [
      "[I 2019-08-21 10:54:59,645] Finished trial#187 resulted in value: -0.8407297830374753. Current best value is -0.8434065934065934 with parameters: {'max_depth': 1, 'learning_rate': 0.14544434403253392, 'n_estimators ': 72, 'gamma': 0.4356018082020117, 'reg_lambda': 2.931451663505623, 'reg_alpha': 0.19045302677956732}.\n"
     ]
    },
    {
     "name": "stdout",
     "output_type": "stream",
     "text": [
      "{'max_depth': 1, 'learning_rate': 0.14791801111628197, 'n_estimators': 64, 'n_jobs': 4, 'gamma': 0.4116004158119577, 'reg_lambda': 2.9983853060394234, 'reg_alpha': 0.23662366525131684}\n",
      "0.8412933220625528\n"
     ]
    },
    {
     "name": "stderr",
     "output_type": "stream",
     "text": [
      "[I 2019-08-21 10:55:02,614] Finished trial#188 resulted in value: -0.8412933220625528. Current best value is -0.8434065934065934 with parameters: {'max_depth': 1, 'learning_rate': 0.14544434403253392, 'n_estimators ': 72, 'gamma': 0.4356018082020117, 'reg_lambda': 2.931451663505623, 'reg_alpha': 0.19045302677956732}.\n"
     ]
    },
    {
     "name": "stdout",
     "output_type": "stream",
     "text": [
      "{'max_depth': 1, 'learning_rate': 0.14800685801149027, 'n_estimators': 62, 'n_jobs': 4, 'gamma': 0.4097871848328149, 'reg_lambda': 2.9979292004382034, 'reg_alpha': 0.2741844586240242}\n",
      "0.8401662440123978\n"
     ]
    },
    {
     "name": "stderr",
     "output_type": "stream",
     "text": [
      "[I 2019-08-21 10:55:05,545] Finished trial#189 resulted in value: -0.8401662440123978. Current best value is -0.8434065934065934 with parameters: {'max_depth': 1, 'learning_rate': 0.14544434403253392, 'n_estimators ': 72, 'gamma': 0.4356018082020117, 'reg_lambda': 2.931451663505623, 'reg_alpha': 0.19045302677956732}.\n"
     ]
    },
    {
     "name": "stdout",
     "output_type": "stream",
     "text": [
      "{'max_depth': 1, 'learning_rate': 0.14921883115800444, 'n_estimators': 61, 'n_jobs': 4, 'gamma': 0.355395950924447, 'reg_lambda': 2.9769386091821293, 'reg_alpha': 0.23764932195653482}\n",
      "0.8275570583262891\n"
     ]
    },
    {
     "name": "stderr",
     "output_type": "stream",
     "text": [
      "[I 2019-08-21 10:55:08,480] Finished trial#190 resulted in value: -0.8275570583262891. Current best value is -0.8434065934065934 with parameters: {'max_depth': 1, 'learning_rate': 0.14544434403253392, 'n_estimators ': 72, 'gamma': 0.4356018082020117, 'reg_lambda': 2.931451663505623, 'reg_alpha': 0.19045302677956732}.\n"
     ]
    },
    {
     "name": "stdout",
     "output_type": "stream",
     "text": [
      "{'max_depth': 1, 'learning_rate': 0.14708846924942687, 'n_estimators': 65, 'n_jobs': 4, 'gamma': 0.401696112457462, 'reg_lambda': 2.8781769946398126, 'reg_alpha': 0.2778133295767149}\n",
      "0.840588898281206\n"
     ]
    },
    {
     "name": "stderr",
     "output_type": "stream",
     "text": [
      "[I 2019-08-21 10:55:11,661] Finished trial#191 resulted in value: -0.840588898281206. Current best value is -0.8434065934065934 with parameters: {'max_depth': 1, 'learning_rate': 0.14544434403253392, 'n_estimators ': 72, 'gamma': 0.4356018082020117, 'reg_lambda': 2.931451663505623, 'reg_alpha': 0.19045302677956732}.\n"
     ]
    },
    {
     "name": "stdout",
     "output_type": "stream",
     "text": [
      "{'max_depth': 1, 'learning_rate': 0.1472015364939642, 'n_estimators': 65, 'n_jobs': 4, 'gamma': 0.405890062001783, 'reg_lambda': 2.9787144151297444, 'reg_alpha': 0.27337866451940535}\n",
      "0.8407297830374753\n"
     ]
    },
    {
     "name": "stderr",
     "output_type": "stream",
     "text": [
      "[I 2019-08-21 10:55:15,079] Finished trial#192 resulted in value: -0.8407297830374753. Current best value is -0.8434065934065934 with parameters: {'max_depth': 1, 'learning_rate': 0.14544434403253392, 'n_estimators ': 72, 'gamma': 0.4356018082020117, 'reg_lambda': 2.931451663505623, 'reg_alpha': 0.19045302677956732}.\n"
     ]
    },
    {
     "name": "stdout",
     "output_type": "stream",
     "text": [
      "{'max_depth': 1, 'learning_rate': 0.1456614886025985, 'n_estimators': 66, 'n_jobs': 4, 'gamma': 0.406266998696444, 'reg_lambda': 2.9957816138671394, 'reg_alpha': 0.279629819018849}\n",
      "0.8407297830374754\n"
     ]
    },
    {
     "name": "stderr",
     "output_type": "stream",
     "text": [
      "[I 2019-08-21 10:55:18,095] Finished trial#193 resulted in value: -0.8407297830374754. Current best value is -0.8434065934065934 with parameters: {'max_depth': 1, 'learning_rate': 0.14544434403253392, 'n_estimators ': 72, 'gamma': 0.4356018082020117, 'reg_lambda': 2.931451663505623, 'reg_alpha': 0.19045302677956732}.\n"
     ]
    },
    {
     "name": "stdout",
     "output_type": "stream",
     "text": [
      "{'max_depth': 1, 'learning_rate': 0.15110568922545206, 'n_estimators': 64, 'n_jobs': 4, 'gamma': 0.38933680094512435, 'reg_lambda': 2.8890726394818973, 'reg_alpha': 0.2693449888828993}\n",
      "0.840588898281206\n"
     ]
    },
    {
     "name": "stderr",
     "output_type": "stream",
     "text": [
      "[I 2019-08-21 10:55:21,093] Finished trial#194 resulted in value: -0.840588898281206. Current best value is -0.8434065934065934 with parameters: {'max_depth': 1, 'learning_rate': 0.14544434403253392, 'n_estimators ': 72, 'gamma': 0.4356018082020117, 'reg_lambda': 2.931451663505623, 'reg_alpha': 0.19045302677956732}.\n"
     ]
    },
    {
     "name": "stdout",
     "output_type": "stream",
     "text": [
      "{'max_depth': 1, 'learning_rate': 0.14625804563178446, 'n_estimators': 62, 'n_jobs': 4, 'gamma': 0.3792839230316799, 'reg_lambda': 2.99529810444998, 'reg_alpha': 0.2720590633869125}\n",
      "0.8344604113834883\n"
     ]
    },
    {
     "name": "stderr",
     "output_type": "stream",
     "text": [
      "[I 2019-08-21 10:55:24,013] Finished trial#195 resulted in value: -0.8344604113834883. Current best value is -0.8434065934065934 with parameters: {'max_depth': 1, 'learning_rate': 0.14544434403253392, 'n_estimators ': 72, 'gamma': 0.4356018082020117, 'reg_lambda': 2.931451663505623, 'reg_alpha': 0.19045302677956732}.\n"
     ]
    },
    {
     "name": "stdout",
     "output_type": "stream",
     "text": [
      "{'max_depth': 1, 'learning_rate': 0.15170782083276999, 'n_estimators': 65, 'n_jobs': 4, 'gamma': 0.3925656895610704, 'reg_lambda': 1.2884960441010098, 'reg_alpha': 0.14953048300950225}\n",
      "0.8306565229642152\n"
     ]
    },
    {
     "name": "stderr",
     "output_type": "stream",
     "text": [
      "[I 2019-08-21 10:55:27,014] Finished trial#196 resulted in value: -0.8306565229642152. Current best value is -0.8434065934065934 with parameters: {'max_depth': 1, 'learning_rate': 0.14544434403253392, 'n_estimators ': 72, 'gamma': 0.4356018082020117, 'reg_lambda': 2.931451663505623, 'reg_alpha': 0.19045302677956732}.\n"
     ]
    },
    {
     "name": "stdout",
     "output_type": "stream",
     "text": [
      "{'max_depth': 1, 'learning_rate': 0.1477998650482386, 'n_estimators': 56, 'n_jobs': 4, 'gamma': 0.363103602652847, 'reg_lambda': 2.992203113159486, 'reg_alpha': 0.2741936796822989}\n",
      "0.8327697943082557\n"
     ]
    },
    {
     "name": "stderr",
     "output_type": "stream",
     "text": [
      "[I 2019-08-21 10:55:30,413] Finished trial#197 resulted in value: -0.8327697943082557. Current best value is -0.8434065934065934 with parameters: {'max_depth': 1, 'learning_rate': 0.14544434403253392, 'n_estimators ': 72, 'gamma': 0.4356018082020117, 'reg_lambda': 2.931451663505623, 'reg_alpha': 0.19045302677956732}.\n"
     ]
    },
    {
     "name": "stdout",
     "output_type": "stream",
     "text": [
      "{'max_depth': 1, 'learning_rate': 0.1441769983253214, 'n_estimators': 55, 'n_jobs': 4, 'gamma': 0.39918181366398103, 'reg_lambda': 2.8696281065320934, 'reg_alpha': 0.0873253016259658}\n",
      "0.828261482107636\n"
     ]
    },
    {
     "name": "stderr",
     "output_type": "stream",
     "text": [
      "[I 2019-08-21 10:55:33,196] Finished trial#198 resulted in value: -0.828261482107636. Current best value is -0.8434065934065934 with parameters: {'max_depth': 1, 'learning_rate': 0.14544434403253392, 'n_estimators ': 72, 'gamma': 0.4356018082020117, 'reg_lambda': 2.931451663505623, 'reg_alpha': 0.19045302677956732}.\n"
     ]
    },
    {
     "name": "stdout",
     "output_type": "stream",
     "text": [
      "{'max_depth': 1, 'learning_rate': 0.15096472231414965, 'n_estimators': 67, 'n_jobs': 4, 'gamma': 0.32431001310831326, 'reg_lambda': 2.999621538700443, 'reg_alpha': 0.1653126469467298}\n",
      "0.8284023668639053\n"
     ]
    },
    {
     "name": "stderr",
     "output_type": "stream",
     "text": [
      "[I 2019-08-21 10:55:36,230] Finished trial#199 resulted in value: -0.8284023668639053. Current best value is -0.8434065934065934 with parameters: {'max_depth': 1, 'learning_rate': 0.14544434403253392, 'n_estimators ': 72, 'gamma': 0.4356018082020117, 'reg_lambda': 2.931451663505623, 'reg_alpha': 0.19045302677956732}.\n"
     ]
    }
   ],
   "source": [
    "def objective(trial):\n",
    "    param = {\n",
    "        'max_depth': trial.suggest_int('max_depth',1,10),\n",
    "        'learning_rate': trial.suggest_uniform('learning_rate', 0.05, 0.2),\n",
    "        'n_estimators': trial.suggest_int('n_estimators ', 20, 200),\n",
    "        'n_jobs': 4,\n",
    "        'gamma': trial.suggest_uniform('gamma', 0, 1),\n",
    "        'reg_lambda': trial.suggest_uniform('reg_lambda', 0.5, 3),\n",
    "        'reg_alpha': trial.suggest_uniform('reg_alpha', 0, 3)\n",
    "    }\n",
    "\n",
    "    print(param)\n",
    "    \n",
    "    l = []\n",
    "\n",
    "    for year in range(1978, 2019 + 1):\n",
    "        rg = xgb.XGBRegressor(silent= True, **param)\n",
    "        X = table.query('year != {}'.format(year)).drop(['prize', 'title'], axis = 1).values\n",
    "        y = table.query('year != {}'.format(year))['prize'].values\n",
    "        rg.fit(X,y)\n",
    "        result = rg.predict(table.query('year == {}'.format(year)).drop(['prize', 'title'], axis = 1).values)\n",
    "        scope = table.query('year == {}'.format(year))[['title','prize']]\n",
    "        scope['result'] = result\n",
    "        l.append(scope)\n",
    "        title = scope['title'].copy()\n",
    "        title[scope['prize'] == 1] = title[scope['prize'] == 1].map(lambda s: '★' + s)\n",
    "        #print(year)\n",
    "        #print(pd.Series(result, index = title.values).sort_values(ascending=False) )\n",
    "        #print('')\n",
    "    \n",
    "\n",
    "    temp = pd.concat(l)\n",
    "\n",
    "    print(roc_auc_score(temp['prize'], temp['result']))\n",
    "    return -roc_auc_score(temp['prize'], temp['result'])\n",
    "\n",
    "study = optuna.create_study()\n",
    "study.optimize(objective, n_trials=200)"
   ]
  },
  {
   "cell_type": "code",
   "execution_count": 16,
   "metadata": {},
   "outputs": [
    {
     "data": {
      "text/plain": [
       "-0.7616229923922232"
      ]
     },
     "execution_count": 16,
     "metadata": {},
     "output_type": "execute_result"
    }
   ],
   "source": [
    "study.best_value"
   ]
  },
  {
   "cell_type": "code",
   "execution_count": 31,
   "metadata": {},
   "outputs": [],
   "source": [
    "#best = study.best_params\n",
    "best ={'max_depth': 1,\n",
    " 'learning_rate': 0.14544434403253392,\n",
    " 'n_estimators ': 72,\n",
    " 'gamma': 0.4356018082020117,\n",
    " 'reg_lambda': 2.931451663505623,\n",
    " 'reg_alpha': 0.19045302677956732}"
   ]
  },
  {
   "cell_type": "code",
   "execution_count": 30,
   "metadata": {},
   "outputs": [
    {
     "data": {
      "text/plain": [
       "{'max_depth': 1,\n",
       " 'learning_rate': 0.14544434403253392,\n",
       " 'n_estimators ': 72,\n",
       " 'gamma': 0.4356018082020117,\n",
       " 'reg_lambda': 2.931451663505623,\n",
       " 'reg_alpha': 0.19045302677956732}"
      ]
     },
     "execution_count": 30,
     "metadata": {},
     "output_type": "execute_result"
    }
   ],
   "source": [
    "best"
   ]
  },
  {
   "cell_type": "code",
   "execution_count": 28,
   "metadata": {},
   "outputs": [
    {
     "name": "stdout",
     "output_type": "stream",
     "text": [
      "1978\n",
      "★幸福の黄色いハンカチ       0.397213\n",
      "八甲田山              0.313442\n",
      "はなれ瞽女おりん          0.088507\n",
      "竹山ひとり旅            0.088507\n",
      "青春の門 自立篇（1977）    0.088507\n",
      "dtype: float32\n",
      "\n",
      "1979\n",
      "★事件        0.429888\n",
      "鬼畜         0.316959\n",
      "サード        0.170334\n",
      "愛の亡霊       0.088928\n",
      "柳生一族の陰謀    0.022150\n",
      "dtype: float32\n",
      "\n",
      "1980\n",
      "あゝ野麦峠         0.307602\n",
      "太陽を盗んだ男       0.267096\n",
      "★復讐するは我にあり    0.176563\n",
      "もう頬づえはつかない    0.087150\n",
      "衝動殺人 息子よ      0.087150\n",
      "dtype: float32\n",
      "\n",
      "1981\n",
      "★ツィゴイネルワイゼン    0.213119\n",
      "遙かなる山の呼び声      0.108623\n",
      "二百三高地          0.086810\n",
      "動乱             0.086810\n",
      "父よ母よ!          0.086810\n",
      "dtype: float32\n",
      "\n",
      "1982\n",
      "泥の河                0.410817\n",
      "遠雷                 0.288641\n",
      "★駅/STATION         0.155100\n",
      "日本の熱い日々 謀殺・下山事件    0.126835\n",
      "ええじゃないか            0.086816\n",
      "dtype: float32\n",
      "\n",
      "1983\n",
      "★蒲田行進曲      0.432488\n",
      "誘拐報道        0.154498\n",
      "疑惑          0.109952\n",
      "未完の対局       0.090901\n",
      "鬼龍院花子の生涯    0.061638\n",
      "dtype: float32\n",
      "\n",
      "1984\n",
      "戦場のメリークリスマス    0.276884\n",
      "細雪（1983）       0.182414\n",
      "★楢山節考          0.182414\n",
      "家族ゲーム          0.174531\n",
      "南極物語（1983）     0.160130\n",
      "dtype: float32\n",
      "\n",
      "1985\n",
      "★お葬式        0.347275\n",
      "瀬戸内少年野球団    0.102179\n",
      "麻雀放浪記       0.087823\n",
      "天国の駅        0.087823\n",
      "おはん         0.087823\n",
      "dtype: float32\n",
      "\n",
      "1986\n",
      "ビルマの竪琴（1985）     0.292616\n",
      "Wの悲劇             0.235615\n",
      "それから（1985）       0.213872\n",
      "恋文（1985）         0.077429\n",
      "★花いちもんめ（1985）    0.077429\n",
      "dtype: float32\n",
      "\n",
      "1987\n",
      "キネマの天地          0.232992\n",
      "★火宅の人           0.108181\n",
      "植村直己物語          0.088455\n",
      "人間の約束           0.028435\n",
      "新・喜びも悲しみも幾歳月    0.019683\n",
      "dtype: float32\n",
      "\n",
      "1988\n",
      "★マルサの女        0.583663\n",
      "ハチ公物語         0.180813\n",
      "竹取物語（1987）    0.138786\n",
      "吉原炎上          0.128570\n",
      "夜汽車           0.090196\n",
      "dtype: float32\n",
      "\n",
      "1989\n",
      "華の乱            0.341653\n",
      "★敦煌            0.245378\n",
      "異人たちとの夏        0.176085\n",
      "優駿 ORACION     0.162033\n",
      "ダウンタウンヒーローズ    0.147171\n",
      "dtype: float32\n",
      "\n",
      "1990\n",
      "★黒い雨         0.486589\n",
      "あ・うん         0.138461\n",
      "利休           0.090630\n",
      "千利休 本覺坊遺文    0.090630\n",
      "社葬           0.090630\n",
      "dtype: float32\n",
      "\n",
      "1991\n",
      "★少年時代（1990）    0.480226\n",
      "櫻の園（1990）      0.168534\n",
      "死の棘            0.136470\n",
      "夢              0.108437\n",
      "白い手            0.088940\n",
      "dtype: float32\n",
      "\n",
      "1992\n",
      "★息子（1991）           0.545019\n",
      "あの夏、いちばん静かな海。       0.210255\n",
      "八月の狂詩曲（ラプソディー）      0.108971\n",
      "無能の人                0.087407\n",
      "大誘拐 RAINBOW KIDS    0.087407\n",
      "dtype: float32\n",
      "\n",
      "1993\n",
      "★シコふんじゃった。    0.552044\n",
      "ミンボーの女        0.089845\n",
      "遠き落日          0.089845\n",
      "いつかギラギラする日    0.089845\n",
      "青春デンデケデケデケ    0.030214\n",
      "dtype: float32\n",
      "\n",
      "1994\n",
      "★学校（1993）       0.434723\n",
      "月はどっちに出ている      0.405495\n",
      "僕らはみんな生きている     0.111420\n",
      "わが愛の譜 滝廉太郎物語    0.094426\n",
      "虹の橋             0.094426\n",
      "dtype: float32\n",
      "\n",
      "1995\n",
      "★忠臣蔵外伝 四谷怪談     0.264767\n",
      "居酒屋ゆうれい         0.113858\n",
      "四十七人の刺客         0.104126\n",
      "ラストソング（1994）    0.082238\n",
      "119             0.082238\n",
      "dtype: float32\n",
      "\n",
      "1996\n",
      "★午後の遺言状            0.490130\n",
      "写楽                 0.365176\n",
      "Love Letter        0.117537\n",
      "藏                  0.095765\n",
      "きけ、わだつみの声（1995）    0.095765\n",
      "dtype: float32\n",
      "\n",
      "1997\n",
      "★Shall We ダンス？     0.566059\n",
      "スーパーの女             0.325641\n",
      "スワロウテイル            0.128873\n",
      "学校II               0.108546\n",
      "わが心の銀河鉄道 宮沢賢治物語    0.091777\n",
      "dtype: float32\n",
      "\n",
      "1998\n",
      "★もののけ姫      0.151827\n",
      "ラヂオの時間      0.142513\n",
      "誘拐（1997）    0.091337\n",
      "東京日和        0.091337\n",
      "うなぎ         0.091337\n",
      "dtype: float32\n",
      "\n",
      "1999\n",
      "★愛を乞うひと             0.529523\n",
      "HANA-BI             0.311315\n",
      "カンゾー先生              0.120375\n",
      "学校III               0.120375\n",
      "踊る大捜査線 THE MOVIE    0.108981\n",
      "dtype: float32\n",
      "\n",
      "2000\n",
      "★鉄道員（ぽっぽや）    0.480903\n",
      "菊次郎の夏         0.253371\n",
      "御法度           0.140279\n",
      "梟の城           0.087105\n",
      "金融腐蝕列島 呪縛     0.087105\n",
      "dtype: float32\n",
      "\n",
      "2001\n",
      "十五才 学校IV         0.366887\n",
      "顔（2000）          0.306153\n",
      "★雨あがる            0.251388\n",
      "バトル・ロワイアル        0.223569\n",
      "ホワイトアウト（2000）    0.192414\n",
      "dtype: float32\n",
      "\n",
      "2002\n",
      "★千と千尋の神隠し       0.567843\n",
      "ウォーターボーイズ       0.099775\n",
      "ホタル             0.092681\n",
      "千年の恋 ひかる源氏物語    0.022689\n",
      "GO（2001）       -0.037453\n",
      "dtype: float32\n",
      "\n",
      "2003\n",
      "★たそがれ清兵衛       0.548027\n",
      "阿弥陀堂だより        0.307287\n",
      "ピンポン           0.089839\n",
      "陽はまた昇る         0.089839\n",
      "突入せよ！「あさま山荘    0.036044\n",
      "dtype: float32\n",
      "\n",
      "2004\n",
      "阿修羅のごとく                               0.519169\n",
      "★壬生義士伝                                0.271021\n",
      "座頭市                                   0.204013\n",
      "踊る大捜査線 THE MOVIE 2 レインボーブリッジを封鎖せよ！    0.096944\n",
      "スパイ・ゾルゲ                               0.080292\n",
      "dtype: float32\n",
      "\n",
      "2005\n",
      "血と骨             0.694016\n",
      "★半落ち            0.326077\n",
      "隠し剣　鬼の爪         0.256625\n",
      "世界の中心で、愛をさけぶ    0.125857\n",
      "スウィングガールズ       0.115274\n",
      "dtype: float32\n",
      "\n",
      "2006\n",
      "パッチギ!             0.675239\n",
      "蝉しぐれ              0.180225\n",
      "亡国のイージス           0.142126\n",
      "★ALWAYS 三丁目の夕日    0.142126\n",
      "北の零年              0.038720\n",
      "dtype: float32\n",
      "\n",
      "2007\n",
      "男たちの大和 YAMATO    0.308030\n",
      "★フラガール           0.307054\n",
      "明日の記憶            0.093535\n",
      "THE 有頂天ホテル       0.007613\n",
      "武士の一分（いちぶん）     -0.007015\n",
      "dtype: float32\n",
      "\n",
      "2008\n",
      "それでもボクはやってない             0.622240\n",
      "★東京タワー　オカンとボクと、時々、オトン    0.105977\n",
      "キサラギ                     0.105107\n",
      "眉山                       0.015212\n",
      "ALWAYS 続・三丁目の夕日          0.015212\n",
      "dtype: float32\n",
      "\n",
      "2009\n",
      "★おくりびと       0.772563\n",
      "容疑者Xの献身      0.143629\n",
      "母べえ          0.143629\n",
      "ザ・マジックアワー    0.093209\n",
      "クライマーズ・ハイ    0.049158\n",
      "dtype: float32\n",
      "\n",
      "2010\n",
      "★沈まぬ太陽            0.397488\n",
      "ディア・ドクター          0.248153\n",
      "劔岳　点の記            0.243745\n",
      "ヴィヨンの妻　桜桃とタンポポ    0.202357\n",
      "ゼロの焦点             0.100319\n",
      "dtype: float32\n",
      "\n",
      "2011\n",
      "悪人           0.764592\n",
      "★告白（2010）    0.169392\n",
      "十三人の刺客       0.166779\n",
      "孤高のメス        0.166779\n",
      "おとうと         0.089793\n",
      "dtype: float32\n",
      "\n",
      "2012\n",
      "★八日目の蝉       0.297040\n",
      "最後の忠臣蔵       0.139485\n",
      "探偵はBARにいる    0.126823\n",
      "ステキな金縛り      0.057870\n",
      "大鹿村騒動記       0.050869\n",
      "dtype: float32\n",
      "\n",
      "2013\n",
      "あなたへ            0.278366\n",
      "北のカナリアたち        0.238312\n",
      "わが母の記           0.210085\n",
      "★桐島、部活やめるってよ    0.180914\n",
      "のぼうの城           0.157485\n",
      "dtype: float32\n",
      "\n",
      "2014\n",
      "★舟を編む      0.678755\n",
      "凶悪         0.268275\n",
      "少年H        0.243136\n",
      "東京家族       0.174452\n",
      "そして父になる    0.051328\n",
      "利休にたずねよ   -0.045836\n",
      "dtype: float32\n",
      "\n",
      "2015\n",
      "★永遠の0       0.444823\n",
      "蜩ノ記         0.226063\n",
      "紙の月         0.215221\n",
      "小さいおうち      0.106812\n",
      "ふしぎな岬の物語    0.091649\n",
      "dtype: float32\n",
      "\n",
      "2016\n",
      "★海街diary      0.279785\n",
      "百円の恋          0.247646\n",
      "海難1890        0.177114\n",
      "母と暮せば         0.176339\n",
      "日本のいちばん長い日    0.052459\n",
      "dtype: float32\n",
      "\n",
      "2017\n",
      "★シン・ゴジラ       0.308663\n",
      "64 ロクヨン　前編    0.177250\n",
      "チチを撮りに        0.122702\n",
      "怒り            0.112954\n",
      "家族はつらいよ       0.088583\n",
      "dtype: float32\n",
      "\n",
      "2018\n",
      "花戦さ                0.190734\n",
      "ナミヤ雑貨店の奇蹟          0.187960\n",
      "君の膵臓をたべたい（2017）    0.187960\n",
      "★三度目の殺人            0.141790\n",
      "関ヶ原                0.114981\n",
      "dtype: float32\n",
      "\n",
      "2019\n",
      "★万引き家族       0.496520\n",
      "カメラを止めるな！    0.168862\n",
      "空飛ぶタイヤ       0.137564\n",
      "孤狼の血         0.133305\n",
      "北の桜守         0.090189\n",
      "dtype: float32\n",
      "\n",
      "0.8434065934065934\n",
      "27 / 42\n"
     ]
    }
   ],
   "source": [
    "l = []\n",
    "\n",
    "allelement = 0\n",
    "\n",
    "count = 0\n",
    "\n",
    "for year in range(1978, 2019 + 1):\n",
    "    param = {\n",
    "        'silent': True,\n",
    "        'max_depth': 10,\n",
    "    }\n",
    "    rg = xgb.XGBRegressor(silent = True,**best)\n",
    "    X = table.query('year != {}'.format(year)).drop(['prize', 'title'], axis = 1).values\n",
    "    y = table.query('year != {}'.format(year))['prize'].values\n",
    "    rg.fit(X,y)\n",
    "    result = rg.predict(table.query('year == {}'.format(year)).drop(['prize', 'title'], axis = 1).values)\n",
    "    scope = table.query('year == {}'.format(year))[['title','prize']]\n",
    "    scope['result'] = result\n",
    "    l.append(scope)\n",
    "    title = scope['title'].copy()\n",
    "    title[scope['prize'] == 1] = title[scope['prize'] == 1].map(lambda s: '★' + s)\n",
    "    print(year)\n",
    "    disp = pd.Series(result, index = title.values).sort_values(ascending=False)\n",
    "    print(disp)\n",
    "    print('')\n",
    "    allelement  += 1\n",
    "    if '★' in disp.index[0]:\n",
    "        count += 1\n",
    "        \n",
    "    \n",
    "temp = pd.concat(l)\n",
    "print(roc_auc_score(temp['prize'], temp['result']))\n",
    "print(count,'/',allelement)"
   ]
  },
  {
   "cell_type": "code",
   "execution_count": null,
   "metadata": {},
   "outputs": [],
   "source": []
  }
 ],
 "metadata": {
  "kernelspec": {
   "display_name": "Python 3",
   "language": "python",
   "name": "python3"
  },
  "language_info": {
   "codemirror_mode": {
    "name": "ipython",
    "version": 3
   },
   "file_extension": ".py",
   "mimetype": "text/x-python",
   "name": "python",
   "nbconvert_exporter": "python",
   "pygments_lexer": "ipython3",
   "version": "3.6.3"
  }
 },
 "nbformat": 4,
 "nbformat_minor": 4
}
