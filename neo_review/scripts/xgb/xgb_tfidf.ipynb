{
 "cells": [
  {
   "cell_type": "code",
   "execution_count": 1,
   "metadata": {},
   "outputs": [],
   "source": [
    "import xgboost as xgb\n",
    "import pandas as pd\n",
    "from sklearn.metrics import roc_auc_score"
   ]
  },
  {
   "cell_type": "code",
   "execution_count": 2,
   "metadata": {},
   "outputs": [],
   "source": [
    "# 読み出し\n",
    "data = pd.read_pickle('data.pkl')\n",
    "nomination_onehot = pd.read_pickle('nomination_onehot.pkl')\n",
    "selected_performers_onehot = pd.read_pickle('selected_performers_onehot.pkl')\n",
    "selected_directors_onehot = pd.read_pickle('selected_directors_onehot.pkl')\n",
    "selected_studio_onehot = pd.read_pickle('selected_studio_onehot.pkl')\n",
    "selected_scriptwriter_onehot = pd.read_pickle('selected_scriptwriter_onehot.pkl')\n",
    "review_dataframe = pd.read_pickle('review_dataframe.pkl')\n",
    "tfidf = pd.read_pickle('tfidf02_035.pkl')"
   ]
  },
  {
   "cell_type": "code",
   "execution_count": 3,
   "metadata": {},
   "outputs": [],
   "source": [
    "from sklearn.decomposition import PCA\n",
    "\n",
    "pca = PCA(n_components=20)\n",
    "pca.fit(tfidf.values)\n",
    "tfidf_df = pd.DataFrame(pca.transform(tfidf.values), index = tfidf.index)"
   ]
  },
  {
   "cell_type": "code",
   "execution_count": 4,
   "metadata": {},
   "outputs": [],
   "source": [
    "table = pd.concat([\n",
    "    data[['prize', 'title', 'year', 'screen_time']],\n",
    "    nomination_onehot,\n",
    "    selected_performers_onehot,\n",
    "    selected_directors_onehot,\n",
    "    selected_studio_onehot,\n",
    "    selected_scriptwriter_onehot,\n",
    "    tfidf_df ### pca\n",
    "], axis = 1)\n",
    "\n",
    "review_len = review_dataframe['reviews'].map(lambda s: len(s))\n",
    "review_len.name = 'len'\n",
    "year = table['year']\n",
    "\n",
    "temp = pd.concat([year, review_len], axis = 1)\n",
    "\n",
    "group = temp.groupby('year')\n",
    "\n",
    "temp = temp.apply( lambda s: (s['len']-group.mean()['len'][s['year']] )/group.std()['len'][s['year']] , axis = 1)\n",
    "temp.name = 'len'\n",
    "\n",
    "table['len'] = temp\n"
   ]
  },
  {
   "cell_type": "code",
   "execution_count": 135,
   "metadata": {},
   "outputs": [],
   "source": [
    "# invalid\n",
    "\n",
    "def logregobj(preds, dtrain):\n",
    "    grad = - preds + dtrain\n",
    "    grad[dtrain == 1] = 1\n",
    "    grad[dtrain == 0] = -1\n",
    "    hess = np.zeros(len(preds))\n",
    "    return grad, hess\n"
   ]
  },
  {
   "cell_type": "code",
   "execution_count": 5,
   "metadata": {},
   "outputs": [],
   "source": [
    "import numpy as np\n",
    "import optuna"
   ]
  },
  {
   "cell_type": "code",
   "execution_count": null,
   "metadata": {},
   "outputs": [
    {
     "name": "stdout",
     "output_type": "stream",
     "text": [
      "{'max_depth': 10, 'learning_rate': 0.09593066665668842, 'n_estimators': 50, 'n_jobs': 4, 'gamma': 0.7210236947460333, 'reg_lambda': 2.6062041118604995, 'reg_alpha': 0.03522344465232996}\n",
      "0.7106227106227105\n"
     ]
    },
    {
     "name": "stderr",
     "output_type": "stream",
     "text": [
      "[I 2019-08-21 09:18:50,011] Finished trial#0 resulted in value: -0.7106227106227105. Current best value is -0.7106227106227105 with parameters: {'max_depth': 10, 'learning_rate': 0.09593066665668842, 'n_estimators ': 50, 'gamma': 0.7210236947460333, 'reg_lambda': 2.6062041118604995, 'reg_alpha': 0.03522344465232996}.\n"
     ]
    },
    {
     "name": "stdout",
     "output_type": "stream",
     "text": [
      "{'max_depth': 9, 'learning_rate': 0.19771299339430942, 'n_estimators': 147, 'n_jobs': 4, 'gamma': 0.784551572958621, 'reg_lambda': 1.485711552802786, 'reg_alpha': 1.2529383657778181}\n",
      "0.69392786700479\n"
     ]
    },
    {
     "name": "stderr",
     "output_type": "stream",
     "text": [
      "[I 2019-08-21 09:19:12,518] Finished trial#1 resulted in value: -0.69392786700479. Current best value is -0.7106227106227105 with parameters: {'max_depth': 10, 'learning_rate': 0.09593066665668842, 'n_estimators ': 50, 'gamma': 0.7210236947460333, 'reg_lambda': 2.6062041118604995, 'reg_alpha': 0.03522344465232996}.\n"
     ]
    },
    {
     "name": "stdout",
     "output_type": "stream",
     "text": [
      "{'max_depth': 6, 'learning_rate': 0.12218873206333361, 'n_estimators': 185, 'n_jobs': 4, 'gamma': 0.8476605356413363, 'reg_lambda': 0.6209083111081797, 'reg_alpha': 0.0179961577097697}\n",
      "0.6780783319244857\n"
     ]
    },
    {
     "name": "stderr",
     "output_type": "stream",
     "text": [
      "[I 2019-08-21 09:19:35,239] Finished trial#2 resulted in value: -0.6780783319244857. Current best value is -0.7106227106227105 with parameters: {'max_depth': 10, 'learning_rate': 0.09593066665668842, 'n_estimators ': 50, 'gamma': 0.7210236947460333, 'reg_lambda': 2.6062041118604995, 'reg_alpha': 0.03522344465232996}.\n"
     ]
    },
    {
     "name": "stdout",
     "output_type": "stream",
     "text": [
      "{'max_depth': 7, 'learning_rate': 0.17018167340758528, 'n_estimators': 151, 'n_jobs': 4, 'gamma': 0.015497288987068147, 'reg_lambda': 2.075192211108421, 'reg_alpha': 0.28563216481044795}\n",
      "0.703578472809242\n"
     ]
    },
    {
     "name": "stderr",
     "output_type": "stream",
     "text": [
      "[I 2019-08-21 09:19:58,656] Finished trial#3 resulted in value: -0.703578472809242. Current best value is -0.7106227106227105 with parameters: {'max_depth': 10, 'learning_rate': 0.09593066665668842, 'n_estimators ': 50, 'gamma': 0.7210236947460333, 'reg_lambda': 2.6062041118604995, 'reg_alpha': 0.03522344465232996}.\n"
     ]
    },
    {
     "name": "stdout",
     "output_type": "stream",
     "text": [
      "{'max_depth': 4, 'learning_rate': 0.18829354558673844, 'n_estimators': 184, 'n_jobs': 4, 'gamma': 0.337014728851045, 'reg_lambda': 2.6168268653331914, 'reg_alpha': 2.6766981578836786}\n",
      "0.7451394759087066\n"
     ]
    },
    {
     "name": "stderr",
     "output_type": "stream",
     "text": [
      "[I 2019-08-21 09:20:16,287] Finished trial#4 resulted in value: -0.7451394759087066. Current best value is -0.7451394759087066 with parameters: {'max_depth': 4, 'learning_rate': 0.18829354558673844, 'n_estimators ': 184, 'gamma': 0.337014728851045, 'reg_lambda': 2.6168268653331914, 'reg_alpha': 2.6766981578836786}.\n"
     ]
    },
    {
     "name": "stdout",
     "output_type": "stream",
     "text": [
      "{'max_depth': 10, 'learning_rate': 0.1309872269025138, 'n_estimators': 195, 'n_jobs': 4, 'gamma': 0.9359018994650652, 'reg_lambda': 0.5244723637971664, 'reg_alpha': 2.7900731477783376}\n",
      "0.7187235841081994\n"
     ]
    },
    {
     "name": "stderr",
     "output_type": "stream",
     "text": [
      "[I 2019-08-21 09:20:45,320] Finished trial#5 resulted in value: -0.7187235841081994. Current best value is -0.7451394759087066 with parameters: {'max_depth': 4, 'learning_rate': 0.18829354558673844, 'n_estimators ': 184, 'gamma': 0.337014728851045, 'reg_lambda': 2.6168268653331914, 'reg_alpha': 2.6766981578836786}.\n"
     ]
    },
    {
     "name": "stdout",
     "output_type": "stream",
     "text": [
      "{'max_depth': 2, 'learning_rate': 0.1312755473338982, 'n_estimators': 23, 'n_jobs': 4, 'gamma': 0.2359983935659986, 'reg_lambda': 1.6367565901826477, 'reg_alpha': 0.025599861461188755}\n",
      "0.7269653423499577\n"
     ]
    },
    {
     "name": "stderr",
     "output_type": "stream",
     "text": [
      "[I 2019-08-21 09:20:47,371] Finished trial#6 resulted in value: -0.7269653423499577. Current best value is -0.7451394759087066 with parameters: {'max_depth': 4, 'learning_rate': 0.18829354558673844, 'n_estimators ': 184, 'gamma': 0.337014728851045, 'reg_lambda': 2.6168268653331914, 'reg_alpha': 2.6766981578836786}.\n"
     ]
    },
    {
     "name": "stdout",
     "output_type": "stream",
     "text": [
      "{'max_depth': 2, 'learning_rate': 0.15350932359836478, 'n_estimators': 88, 'n_jobs': 4, 'gamma': 0.7938959283008716, 'reg_lambda': 2.1102129557915923, 'reg_alpha': 0.9683873517649869}\n",
      "0.7469005353620738\n"
     ]
    },
    {
     "name": "stderr",
     "output_type": "stream",
     "text": [
      "[I 2019-08-21 09:20:51,948] Finished trial#7 resulted in value: -0.7469005353620738. Current best value is -0.7469005353620738 with parameters: {'max_depth': 2, 'learning_rate': 0.15350932359836478, 'n_estimators ': 88, 'gamma': 0.7938959283008716, 'reg_lambda': 2.1102129557915923, 'reg_alpha': 0.9683873517649869}.\n"
     ]
    },
    {
     "name": "stdout",
     "output_type": "stream",
     "text": [
      "{'max_depth': 9, 'learning_rate': 0.08916000052060696, 'n_estimators': 200, 'n_jobs': 4, 'gamma': 0.3059666568892164, 'reg_lambda': 1.3722621521966052, 'reg_alpha': 2.4352954208378783}\n",
      "0.7333755987602142\n"
     ]
    },
    {
     "name": "stderr",
     "output_type": "stream",
     "text": [
      "[I 2019-08-21 09:21:19,581] Finished trial#8 resulted in value: -0.7333755987602142. Current best value is -0.7469005353620738 with parameters: {'max_depth': 2, 'learning_rate': 0.15350932359836478, 'n_estimators ': 88, 'gamma': 0.7938959283008716, 'reg_lambda': 2.1102129557915923, 'reg_alpha': 0.9683873517649869}.\n"
     ]
    },
    {
     "name": "stdout",
     "output_type": "stream",
     "text": [
      "{'max_depth': 9, 'learning_rate': 0.15223914496824326, 'n_estimators': 141, 'n_jobs': 4, 'gamma': 0.9674816899056669, 'reg_lambda': 2.380340195228091, 'reg_alpha': 1.2030397830072563}\n",
      "0.7094956325725557\n"
     ]
    },
    {
     "name": "stderr",
     "output_type": "stream",
     "text": [
      "[I 2019-08-21 09:21:43,285] Finished trial#9 resulted in value: -0.7094956325725557. Current best value is -0.7469005353620738 with parameters: {'max_depth': 2, 'learning_rate': 0.15350932359836478, 'n_estimators ': 88, 'gamma': 0.7938959283008716, 'reg_lambda': 2.1102129557915923, 'reg_alpha': 0.9683873517649869}.\n"
     ]
    },
    {
     "name": "stdout",
     "output_type": "stream",
     "text": [
      "{'max_depth': 1, 'learning_rate': 0.06309331582801181, 'n_estimators': 81, 'n_jobs': 4, 'gamma': 0.5839936400995296, 'reg_lambda': 2.01330814334193, 'reg_alpha': 0.7699132857643405}\n",
      "0.7907156945618483\n"
     ]
    },
    {
     "name": "stderr",
     "output_type": "stream",
     "text": [
      "[I 2019-08-21 09:21:46,480] Finished trial#10 resulted in value: -0.7907156945618483. Current best value is -0.7907156945618483 with parameters: {'max_depth': 1, 'learning_rate': 0.06309331582801181, 'n_estimators ': 81, 'gamma': 0.5839936400995296, 'reg_lambda': 2.01330814334193, 'reg_alpha': 0.7699132857643405}.\n"
     ]
    },
    {
     "name": "stdout",
     "output_type": "stream",
     "text": [
      "{'max_depth': 1, 'learning_rate': 0.06004986455280857, 'n_estimators': 85, 'n_jobs': 4, 'gamma': 0.5965410150028881, 'reg_lambda': 2.044855547446553, 'reg_alpha': 0.7028931285131682}\n",
      "0.7897999436460975\n"
     ]
    },
    {
     "name": "stderr",
     "output_type": "stream",
     "text": [
      "[I 2019-08-21 09:21:49,575] Finished trial#11 resulted in value: -0.7897999436460975. Current best value is -0.7907156945618483 with parameters: {'max_depth': 1, 'learning_rate': 0.06309331582801181, 'n_estimators ': 81, 'gamma': 0.5839936400995296, 'reg_lambda': 2.01330814334193, 'reg_alpha': 0.7699132857643405}.\n"
     ]
    },
    {
     "name": "stdout",
     "output_type": "stream",
     "text": [
      "{'max_depth': 1, 'learning_rate': 0.05003287882436472, 'n_estimators': 81, 'n_jobs': 4, 'gamma': 0.5552227138935096, 'reg_lambda': 1.1226025942586806, 'reg_alpha': 0.7277602323779822}\n",
      "0.7905043674274443\n"
     ]
    },
    {
     "name": "stderr",
     "output_type": "stream",
     "text": [
      "[I 2019-08-21 09:21:52,979] Finished trial#12 resulted in value: -0.7905043674274443. Current best value is -0.7907156945618483 with parameters: {'max_depth': 1, 'learning_rate': 0.06309331582801181, 'n_estimators ': 81, 'gamma': 0.5839936400995296, 'reg_lambda': 2.01330814334193, 'reg_alpha': 0.7699132857643405}.\n"
     ]
    },
    {
     "name": "stdout",
     "output_type": "stream",
     "text": [
      "{'max_depth': 4, 'learning_rate': 0.05080838622452113, 'n_estimators': 60, 'n_jobs': 4, 'gamma': 0.5098576865758162, 'reg_lambda': 1.0477018475207887, 'reg_alpha': 1.8813745391198573}\n",
      "0.7380247957171034\n"
     ]
    },
    {
     "name": "stderr",
     "output_type": "stream",
     "text": [
      "[I 2019-08-21 09:21:59,378] Finished trial#13 resulted in value: -0.7380247957171034. Current best value is -0.7907156945618483 with parameters: {'max_depth': 1, 'learning_rate': 0.06309331582801181, 'n_estimators ': 81, 'gamma': 0.5839936400995296, 'reg_lambda': 2.01330814334193, 'reg_alpha': 0.7699132857643405}.\n"
     ]
    },
    {
     "name": "stdout",
     "output_type": "stream",
     "text": [
      "{'max_depth': 1, 'learning_rate': 0.07250001135768455, 'n_estimators': 107, 'n_jobs': 4, 'gamma': 0.6240173210304398, 'reg_lambda': 0.9826046661823986, 'reg_alpha': 0.5801131190628324}\n",
      "0.7847985347985348\n"
     ]
    },
    {
     "name": "stderr",
     "output_type": "stream",
     "text": [
      "[I 2019-08-21 09:22:03,353] Finished trial#14 resulted in value: -0.7847985347985348. Current best value is -0.7907156945618483 with parameters: {'max_depth': 1, 'learning_rate': 0.06309331582801181, 'n_estimators ': 81, 'gamma': 0.5839936400995296, 'reg_lambda': 2.01330814334193, 'reg_alpha': 0.7699132857643405}.\n"
     ]
    },
    {
     "name": "stdout",
     "output_type": "stream",
     "text": [
      "{'max_depth': 3, 'learning_rate': 0.050955376034474545, 'n_estimators': 53, 'n_jobs': 4, 'gamma': 0.4164572463336702, 'reg_lambda': 1.0460045404773874, 'reg_alpha': 1.813876913667961}\n",
      "0.7448577063961679\n"
     ]
    },
    {
     "name": "stderr",
     "output_type": "stream",
     "text": [
      "[I 2019-08-21 09:22:08,319] Finished trial#15 resulted in value: -0.7448577063961679. Current best value is -0.7907156945618483 with parameters: {'max_depth': 1, 'learning_rate': 0.06309331582801181, 'n_estimators ': 81, 'gamma': 0.5839936400995296, 'reg_lambda': 2.01330814334193, 'reg_alpha': 0.7699132857643405}.\n"
     ]
    },
    {
     "name": "stdout",
     "output_type": "stream",
     "text": [
      "{'max_depth': 1, 'learning_rate': 0.07751131137563419, 'n_estimators': 87, 'n_jobs': 4, 'gamma': 0.14944859099059687, 'reg_lambda': 1.885138937224624, 'reg_alpha': 0.5191575378670711}\n",
      "0.7745843899690052\n"
     ]
    },
    {
     "name": "stderr",
     "output_type": "stream",
     "text": [
      "[I 2019-08-21 09:22:11,877] Finished trial#16 resulted in value: -0.7745843899690052. Current best value is -0.7907156945618483 with parameters: {'max_depth': 1, 'learning_rate': 0.06309331582801181, 'n_estimators ': 81, 'gamma': 0.5839936400995296, 'reg_lambda': 2.01330814334193, 'reg_alpha': 0.7699132857643405}.\n"
     ]
    },
    {
     "name": "stdout",
     "output_type": "stream",
     "text": [
      "{'max_depth': 3, 'learning_rate': 0.10342074777466811, 'n_estimators': 33, 'n_jobs': 4, 'gamma': 0.5061565991188393, 'reg_lambda': 2.886174765196138, 'reg_alpha': 0.8737572216945211}\n",
      "0.7395040856579318\n"
     ]
    },
    {
     "name": "stderr",
     "output_type": "stream",
     "text": [
      "[I 2019-08-21 09:22:15,390] Finished trial#17 resulted in value: -0.7395040856579318. Current best value is -0.7907156945618483 with parameters: {'max_depth': 1, 'learning_rate': 0.06309331582801181, 'n_estimators ': 81, 'gamma': 0.5839936400995296, 'reg_lambda': 2.01330814334193, 'reg_alpha': 0.7699132857643405}.\n"
     ]
    },
    {
     "name": "stdout",
     "output_type": "stream",
     "text": [
      "{'max_depth': 5, 'learning_rate': 0.06762323245351581, 'n_estimators': 119, 'n_jobs': 4, 'gamma': 0.641331300417668, 'reg_lambda': 1.3335297332536808, 'reg_alpha': 1.5897095108093091}\n"
     ]
    }
   ],
   "source": [
    "def objective(trial):\n",
    "    param = {\n",
    "        'max_depth': trial.suggest_int('max_depth',1,10),\n",
    "        'learning_rate': trial.suggest_uniform('learning_rate', 0.05, 0.2),\n",
    "        'n_estimators': trial.suggest_int('n_estimators ', 20, 200),\n",
    "        'n_jobs': 4,\n",
    "        'gamma': trial.suggest_uniform('gamma', 0, 1),\n",
    "        'reg_lambda': trial.suggest_uniform('reg_lambda', 0.5, 3),\n",
    "        'reg_alpha': trial.suggest_uniform('reg_alpha', 0, 3)\n",
    "    }\n",
    "\n",
    "    print(param)\n",
    "    \n",
    "    l = []\n",
    "\n",
    "    for year in range(1978, 2019 + 1):\n",
    "        rg = xgb.XGBRegressor(silent= True, **param)\n",
    "        X = table.query('year != {}'.format(year)).drop(['prize', 'title'], axis = 1).values\n",
    "        y = table.query('year != {}'.format(year))['prize'].values\n",
    "        rg.fit(X,y)\n",
    "        result = rg.predict(table.query('year == {}'.format(year)).drop(['prize', 'title'], axis = 1).values)\n",
    "        scope = table.query('year == {}'.format(year))[['title','prize']]\n",
    "        scope['result'] = result\n",
    "        l.append(scope)\n",
    "        title = scope['title'].copy()\n",
    "        title[scope['prize'] == 1] = title[scope['prize'] == 1].map(lambda s: '★' + s)\n",
    "        #print(year)\n",
    "        #print(pd.Series(result, index = title.values).sort_values(ascending=False) )\n",
    "        #print('')\n",
    "    \n",
    "\n",
    "    temp = pd.concat(l)\n",
    "\n",
    "    print(roc_auc_score(temp['prize'], temp['result']))\n",
    "    return -roc_auc_score(temp['prize'], temp['result'])\n",
    "\n",
    "study = optuna.create_study()\n",
    "study.optimize(objective, n_trials=200)"
   ]
  },
  {
   "cell_type": "code",
   "execution_count": 151,
   "metadata": {},
   "outputs": [],
   "source": [
    "\n",
    "best ={'max_depth': 9,\n",
    " 'learning_rate': 0.09086768010850159,\n",
    " 'n_estimators ': 76,\n",
    " 'gamma': 0.29703555171643825,\n",
    " 'reg_lambda': 1.258947041854579,\n",
    " 'reg_alpha': 0.34103840974717364}\n",
    "\n",
    "best = study.best_params"
   ]
  },
  {
   "cell_type": "code",
   "execution_count": 234,
   "metadata": {},
   "outputs": [
    {
     "name": "stdout",
     "output_type": "stream",
     "text": [
      "1978\n",
      "★幸福の黄色いハンカチ       0.532143\n",
      "八甲田山              0.365765\n",
      "はなれ瞽女おりん          0.111901\n",
      "竹山ひとり旅            0.051013\n",
      "青春の門 自立篇（1977）    0.051013\n",
      "dtype: float32\n",
      "\n",
      "1979\n",
      "★事件        0.441585\n",
      "柳生一族の陰謀    0.287557\n",
      "鬼畜         0.270099\n",
      "サード        0.083551\n",
      "愛の亡霊       0.052906\n",
      "dtype: float32\n",
      "\n",
      "1980\n",
      "太陽を盗んだ男       0.655968\n",
      "あゝ野麦峠         0.619628\n",
      "衝動殺人 息子よ      0.583455\n",
      "★復讐するは我にあり    0.125372\n",
      "もう頬づえはつかない    0.060124\n",
      "dtype: float32\n",
      "\n",
      "1981\n",
      "遙かなる山の呼び声      0.127930\n",
      "二百三高地          0.097594\n",
      "★ツィゴイネルワイゼン    0.051663\n",
      "動乱             0.041573\n",
      "父よ母よ!          0.041573\n",
      "dtype: float32\n",
      "\n",
      "1982\n",
      "泥の河                0.281908\n",
      "遠雷                 0.240865\n",
      "ええじゃないか            0.142572\n",
      "日本の熱い日々 謀殺・下山事件    0.116348\n",
      "★駅/STATION         0.085043\n",
      "dtype: float32\n",
      "\n",
      "1983\n",
      "★蒲田行進曲      0.614684\n",
      "鬼龍院花子の生涯    0.268238\n",
      "未完の対局       0.248190\n",
      "誘拐報道        0.083835\n",
      "疑惑          0.057400\n",
      "dtype: float32\n",
      "\n",
      "1984\n",
      "戦場のメリークリスマス    0.159397\n",
      "南極物語（1983）     0.085187\n",
      "家族ゲーム          0.071927\n",
      "細雪（1983）       0.053071\n",
      "★楢山節考          0.053071\n",
      "dtype: float32\n",
      "\n",
      "1985\n",
      "★お葬式        0.222534\n",
      "瀬戸内少年野球団    0.100916\n",
      "天国の駅        0.066110\n",
      "麻雀放浪記       0.064841\n",
      "おはん         0.043846\n",
      "dtype: float32\n",
      "\n",
      "1986\n",
      "ビルマの竪琴（1985）     0.225393\n",
      "Wの悲劇             0.203721\n",
      "それから（1985）       0.064274\n",
      "恋文（1985）         0.039204\n",
      "★花いちもんめ（1985）    0.039204\n",
      "dtype: float32\n",
      "\n",
      "1987\n",
      "キネマの天地          0.582103\n",
      "★火宅の人           0.111218\n",
      "人間の約束           0.057962\n",
      "新・喜びも悲しみも幾歳月    0.049983\n",
      "植村直己物語          0.049983\n",
      "dtype: float32\n",
      "\n",
      "1988\n",
      "★マルサの女        0.683874\n",
      "吉原炎上          0.110093\n",
      "夜汽車           0.082471\n",
      "竹取物語（1987）    0.075753\n",
      "ハチ公物語         0.046972\n",
      "dtype: float32\n",
      "\n",
      "1989\n",
      "華の乱            0.365163\n",
      "異人たちとの夏        0.252094\n",
      "★敦煌            0.081698\n",
      "優駿 ORACION     0.069345\n",
      "ダウンタウンヒーローズ    0.069345\n",
      "dtype: float32\n",
      "\n",
      "1990\n",
      "★黒い雨         0.705290\n",
      "社葬           0.163372\n",
      "あ・うん         0.069381\n",
      "利休           0.046245\n",
      "千利休 本覺坊遺文    0.046245\n",
      "dtype: float32\n",
      "\n",
      "1991\n",
      "夢              0.290062\n",
      "★少年時代（1990）    0.202361\n",
      "櫻の園（1990）      0.091497\n",
      "死の棘            0.065153\n",
      "白い手            0.048638\n",
      "dtype: float32\n",
      "\n",
      "1992\n",
      "★息子（1991）           0.600186\n",
      "あの夏、いちばん静かな海。       0.394170\n",
      "大誘拐 RAINBOW KIDS    0.095204\n",
      "八月の狂詩曲（ラプソディー）      0.091156\n",
      "無能の人                0.051436\n",
      "dtype: float32\n",
      "\n",
      "1993\n",
      "★シコふんじゃった。    0.616617\n",
      "ミンボーの女        0.235629\n",
      "いつかギラギラする日    0.180431\n",
      "遠き落日          0.047740\n",
      "青春デンデケデケデケ    0.047740\n",
      "dtype: float32\n",
      "\n",
      "1994\n",
      "月はどっちに出ている      0.736470\n",
      "★学校（1993）       0.626176\n",
      "わが愛の譜 滝廉太郎物語    0.050610\n",
      "僕らはみんな生きている     0.050610\n",
      "虹の橋             0.050610\n",
      "dtype: float32\n",
      "\n",
      "1995\n",
      "四十七人の刺客         0.439815\n",
      "★忠臣蔵外伝 四谷怪談     0.356534\n",
      "居酒屋ゆうれい         0.074296\n",
      "119             0.069781\n",
      "ラストソング（1994）    0.047396\n",
      "dtype: float32\n",
      "\n",
      "1996\n",
      "★午後の遺言状            0.565202\n",
      "Love Letter        0.458048\n",
      "写楽                 0.307045\n",
      "藏                  0.101323\n",
      "きけ、わだつみの声（1995）    0.057786\n",
      "dtype: float32\n",
      "\n",
      "1997\n",
      "★Shall We ダンス？     0.679571\n",
      "スーパーの女             0.355011\n",
      "スワロウテイル            0.245104\n",
      "わが心の銀河鉄道 宮沢賢治物語    0.053153\n",
      "学校II               0.053153\n",
      "dtype: float32\n",
      "\n",
      "1998\n",
      "★もののけ姫      0.595430\n",
      "ラヂオの時間      0.434343\n",
      "うなぎ         0.123130\n",
      "誘拐（1997）    0.045489\n",
      "東京日和        0.045489\n",
      "dtype: float32\n",
      "\n",
      "1999\n",
      "★愛を乞うひと             0.342886\n",
      "HANA-BI             0.321018\n",
      "カンゾー先生              0.089716\n",
      "学校III               0.082845\n",
      "踊る大捜査線 THE MOVIE    0.076867\n",
      "dtype: float32\n",
      "\n",
      "2000\n",
      "★鉄道員（ぽっぽや）    0.435487\n",
      "菊次郎の夏         0.251911\n",
      "御法度           0.069192\n",
      "梟の城           0.043283\n",
      "金融腐蝕列島 呪縛     0.043283\n",
      "dtype: float32\n",
      "\n",
      "2001\n",
      "十五才 学校IV         0.315718\n",
      "バトル・ロワイアル        0.243394\n",
      "顔（2000）          0.196077\n",
      "★雨あがる            0.157649\n",
      "ホワイトアウト（2000）    0.065803\n",
      "dtype: float32\n",
      "\n",
      "2002\n",
      "★千と千尋の神隠し       0.651227\n",
      "GO（2001）        0.051373\n",
      "ホタル             0.051127\n",
      "千年の恋 ひかる源氏物語    0.051127\n",
      "ウォーターボーイズ       0.051127\n",
      "dtype: float32\n",
      "\n",
      "2003\n",
      "★たそがれ清兵衛       0.625749\n",
      "阿弥陀堂だより        0.311533\n",
      "突入せよ！「あさま山荘    0.076616\n",
      "ピンポン           0.062013\n",
      "陽はまた昇る         0.052326\n",
      "dtype: float32\n",
      "\n",
      "2004\n",
      "阿修羅のごとく                               0.407932\n",
      "座頭市                                   0.271515\n",
      "★壬生義士伝                                0.211641\n",
      "踊る大捜査線 THE MOVIE 2 レインボーブリッジを封鎖せよ！    0.115510\n",
      "スパイ・ゾルゲ                               0.052143\n",
      "dtype: float32\n",
      "\n",
      "2005\n",
      "血と骨             0.487945\n",
      "★半落ち            0.255065\n",
      "世界の中心で、愛をさけぶ    0.194436\n",
      "スウィングガールズ       0.161852\n",
      "隠し剣　鬼の爪         0.106181\n",
      "dtype: float32\n",
      "\n",
      "2006\n",
      "パッチギ!             0.492898\n",
      "蝉しぐれ              0.173418\n",
      "亡国のイージス           0.110246\n",
      "★ALWAYS 三丁目の夕日    0.071284\n",
      "北の零年              0.042893\n",
      "dtype: float32\n",
      "\n",
      "2007\n",
      "★フラガール           0.517963\n",
      "男たちの大和 YAMATO    0.305474\n",
      "明日の記憶            0.060131\n",
      "THE 有頂天ホテル       0.046106\n",
      "武士の一分（いちぶん）      0.043451\n",
      "dtype: float32\n",
      "\n",
      "2008\n",
      "それでもボクはやってない             0.813769\n",
      "キサラギ                     0.345192\n",
      "ALWAYS 続・三丁目の夕日          0.116182\n",
      "眉山                       0.049709\n",
      "★東京タワー　オカンとボクと、時々、オトン    0.049709\n",
      "dtype: float32\n",
      "\n",
      "2009\n",
      "★おくりびと       0.336307\n",
      "容疑者Xの献身      0.178855\n",
      "母べえ          0.083557\n",
      "クライマーズ・ハイ    0.063171\n",
      "ザ・マジックアワー    0.052327\n",
      "dtype: float32\n",
      "\n",
      "2010\n",
      "ディア・ドクター          0.789040\n",
      "★沈まぬ太陽            0.500081\n",
      "劔岳　点の記            0.366314\n",
      "ゼロの焦点             0.112542\n",
      "ヴィヨンの妻　桜桃とタンポポ    0.095229\n",
      "dtype: float32\n",
      "\n",
      "2011\n",
      "★告白（2010）    0.569111\n",
      "悪人           0.408184\n",
      "孤高のメス        0.087888\n",
      "十三人の刺客       0.071047\n",
      "おとうと         0.069423\n",
      "dtype: float32\n",
      "\n",
      "2012\n",
      "★八日目の蝉       0.388532\n",
      "探偵はBARにいる    0.131310\n",
      "ステキな金縛り      0.064667\n",
      "最後の忠臣蔵       0.048367\n",
      "大鹿村騒動記       0.048367\n",
      "dtype: float32\n",
      "\n",
      "2013\n",
      "あなたへ            0.227405\n",
      "北のカナリアたち        0.166650\n",
      "わが母の記           0.146512\n",
      "★桐島、部活やめるってよ    0.135566\n",
      "のぼうの城           0.068071\n",
      "dtype: float32\n",
      "\n",
      "2014\n",
      "★舟を編む      0.742791\n",
      "そして父になる    0.505289\n",
      "凶悪         0.296651\n",
      "利休にたずねよ    0.065420\n",
      "東京家族       0.061682\n",
      "少年H        0.054388\n",
      "dtype: float32\n",
      "\n",
      "2015\n",
      "★永遠の0       0.371904\n",
      "紙の月         0.084941\n",
      "蜩ノ記         0.059498\n",
      "小さいおうち      0.059498\n",
      "ふしぎな岬の物語    0.051356\n",
      "dtype: float32\n",
      "\n",
      "2016\n",
      "百円の恋          0.348829\n",
      "★海街diary      0.340803\n",
      "母と暮せば         0.127011\n",
      "海難1890        0.067175\n",
      "日本のいちばん長い日    0.063926\n",
      "dtype: float32\n",
      "\n",
      "2017\n",
      "★シン・ゴジラ       0.227222\n",
      "怒り            0.130048\n",
      "チチを撮りに        0.067413\n",
      "64 ロクヨン　前編    0.058199\n",
      "家族はつらいよ       0.050924\n",
      "dtype: float32\n",
      "\n",
      "2018\n",
      "★三度目の殺人            0.180522\n",
      "ナミヤ雑貨店の奇蹟          0.127304\n",
      "君の膵臓をたべたい（2017）    0.076169\n",
      "花戦さ                0.061175\n",
      "関ヶ原                0.060272\n",
      "dtype: float32\n",
      "\n",
      "2019\n",
      "★万引き家族       0.471907\n",
      "カメラを止めるな！    0.159592\n",
      "孤狼の血         0.142782\n",
      "空飛ぶタイヤ       0.052502\n",
      "北の桜守         0.046709\n",
      "dtype: float32\n",
      "\n",
      "0.7802902225979148\n",
      "24 / 42\n"
     ]
    }
   ],
   "source": [
    "l = []\n",
    "\n",
    "allelement = 0\n",
    "\n",
    "count = 0\n",
    "\n",
    "for year in range(1978, 2019 + 1):\n",
    "    param = {\n",
    "        'silent': True,\n",
    "        'max_depth': 10,\n",
    "    }\n",
    "    rg = xgb.XGBRegressor(silent = True,**best)\n",
    "    X = table.query('year != {}'.format(year)).drop(['prize', 'title'], axis = 1).values\n",
    "    y = table.query('year != {}'.format(year))['prize'].values\n",
    "    rg.fit(X,y)\n",
    "    result = rg.predict(table.query('year == {}'.format(year)).drop(['prize', 'title'], axis = 1).values)\n",
    "    scope = table.query('year == {}'.format(year))[['title','prize']]\n",
    "    scope['result'] = result\n",
    "    l.append(scope)\n",
    "    title = scope['title'].copy()\n",
    "    title[scope['prize'] == 1] = title[scope['prize'] == 1].map(lambda s: '★' + s)\n",
    "    print(year)\n",
    "    disp = pd.Series(result, index = title.values).sort_values(ascending=False)\n",
    "    print(disp)\n",
    "    print('')\n",
    "    allelement  += 1\n",
    "    if '★' in disp.index[0]:\n",
    "        count += 1\n",
    "        \n",
    "    \n",
    "temp = pd.concat(l)\n",
    "print(roc_auc_score(temp['prize'], temp['result']))\n",
    "print(count,'/',allelement)"
   ]
  },
  {
   "cell_type": "code",
   "execution_count": null,
   "metadata": {},
   "outputs": [],
   "source": []
  }
 ],
 "metadata": {
  "kernelspec": {
   "display_name": "Python 3",
   "language": "python",
   "name": "python3"
  },
  "language_info": {
   "codemirror_mode": {
    "name": "ipython",
    "version": 3
   },
   "file_extension": ".py",
   "mimetype": "text/x-python",
   "name": "python",
   "nbconvert_exporter": "python",
   "pygments_lexer": "ipython3",
   "version": "3.6.6"
  }
 },
 "nbformat": 4,
 "nbformat_minor": 4
}
