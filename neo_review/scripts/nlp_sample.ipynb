{
 "cells": [
  {
   "cell_type": "code",
   "execution_count": 17,
   "metadata": {},
   "outputs": [],
   "source": [
    "import csv\n",
    "import json\n",
    "import subprocess\n",
    "\n",
    "import numpy as np\n",
    "import MeCab\n",
    "from sklearn import feature_extraction\n",
    "\n",
    "dicdir = subprocess.check_output(['mecab-config', '--dicdir']).decode().strip()\n",
    "m = MeCab.Tagger(' -d {}/mecab-ipadic-neologd'.format(dicdir))"
   ]
  },
  {
   "cell_type": "code",
   "execution_count": 18,
   "metadata": {},
   "outputs": [],
   "source": [
    "def load_json(path):\n",
    "    with open(path, \"r\") as f:\n",
    "        json_dict = json.load(f)\n",
    "    return json_dict"
   ]
  },
  {
   "cell_type": "code",
   "execution_count": 31,
   "metadata": {},
   "outputs": [],
   "source": [
    "def nodes(text):\n",
    "    node = m.parseToNode(text)\n",
    "    while node:\n",
    "        # XXX: Monkey Patching\n",
    "        node.features = node.feature.split(',')\n",
    "\n",
    "        if node.features[0] != 'BOS/EOS':\n",
    "            yield node\n",
    "\n",
    "        node = node.next\n",
    "\n",
    "\n",
    "def wakachi(text):\n",
    "    def wanted(node):\n",
    "        return node.features[0] not in (\n",
    "            '助詞',\n",
    "            '助動詞',\n",
    "            '接続詞',\n",
    "            '動詞',\n",
    "            '記号',\n",
    "        )\n",
    "\n",
    "    words = [n.surface for n in nodes(text) if wanted(n)]\n",
    "    return ' '.join(words)"
   ]
  },
  {
   "cell_type": "code",
   "execution_count": 32,
   "metadata": {},
   "outputs": [],
   "source": [
    "def set_stopwords():\n",
    "    stop_word_file_path = \"nlp/stopword_japanese.txt\"\n",
    "    with open(stop_word_file_path, \"r\") as f:\n",
    "        stopwords = [line.strip() for line in f]\n",
    "        stopwords = [ss for ss in stopwords if not ss == u'']\n",
    "    return stopwords"
   ]
  },
  {
   "cell_type": "code",
   "execution_count": 33,
   "metadata": {},
   "outputs": [],
   "source": [
    "def join_list_str(list):\n",
    "    return ' '.join(list)\n",
    "\n",
    "def exclude_stopword(text, stopwords):\n",
    "    changed_text = [token for token in text.lower().split(\" \") if token != \"\" if token not in stopwords]\n",
    "    changed_text = join_list_str(changed_text)\n",
    "    return changed_text"
   ]
  },
  {
   "cell_type": "code",
   "execution_count": 34,
   "metadata": {},
   "outputs": [
    {
     "data": {
      "text/plain": [
       "array([['最後', 'もう', '演技', ..., '映像', '展開', 'キャスト'],\n",
       "       ['面白かっ', 'よかっ', '印象', ..., '意味', '役者', 'こんな'],\n",
       "       ['面白かっ', 'よかっ', '印象', ..., '意味', '役者', 'こんな'],\n",
       "       ...,\n",
       "       ['演出', '意味', '演技', ..., '人間', '俳優', '最高'],\n",
       "       ['面白い', '原作', '描写', ..., 'とう', 'ラスト', '人間'],\n",
       "       ['原作', 'キャスト', '面白かっ', ..., '最高', 'ちょっと', 'こんな']], dtype='<U5')"
      ]
     },
     "execution_count": 34,
     "metadata": {},
     "output_type": "execute_result"
    }
   ],
   "source": [
    "def main():\n",
    "    review_json_path = \"../data/coco_reviews.json\"\n",
    "    json_dict = load_json(review_json_path)\n",
    "    reviews = []\n",
    "    stopwords = set_stopwords()\n",
    "    for i in range(1, len(json_dict)+1):\n",
    "        # print(json_dict[str(i)][\"title\"])\n",
    "        # print(json_dict[str(i)][\"reviews\"])\n",
    "        all_review_str = join_list_str(\n",
    "            [exclude_stopword(wakachi(review_info[\"review\"]), stopwords) for review_info in json_dict[str(i)][\"reviews\"]]\n",
    "        )\n",
    "        reviews += [all_review_str]\n",
    "    # max_dfとmin_dfによって結果は大きく変わる\n",
    "    vectorizer = feature_extraction.text.TfidfVectorizer(\n",
    "        decode_error=\"ignore\",\n",
    "        strip_accents=\"unicode\",\n",
    "        lowercase=True,\n",
    "        analyzer=\"word\",\n",
    "        max_df=0.5,\n",
    "        min_df=0.3\n",
    "    )\n",
    "    \n",
    "    X = vectorizer.fit_transform(reviews).toarray()\n",
    "    index = X.argsort(axis=1)[:, ::-1]\n",
    "    feature_names = np.array(vectorizer.get_feature_names())\n",
    "    feature_words = feature_names[index]\n",
    "    \n",
    "    # FIXME: functionize me\n",
    "    with open(\"../data/nlp/tfidf.csv\", \"w\") as f:\n",
    "        writer = csv.writer(f, lineterminator=\"\\n\")\n",
    "        writer.writerows(feature_words)\n",
    "    return feature_words\n",
    "\n",
    "main()"
   ]
  },
  {
   "cell_type": "code",
   "execution_count": null,
   "metadata": {},
   "outputs": [],
   "source": []
  },
  {
   "cell_type": "code",
   "execution_count": null,
   "metadata": {},
   "outputs": [],
   "source": []
  }
 ],
 "metadata": {
  "kernelspec": {
   "display_name": "Python 3",
   "language": "python",
   "name": "python3"
  },
  "language_info": {
   "codemirror_mode": {
    "name": "ipython",
    "version": 3
   },
   "file_extension": ".py",
   "mimetype": "text/x-python",
   "name": "python",
   "nbconvert_exporter": "python",
   "pygments_lexer": "ipython3",
   "version": "3.7.4"
  }
 },
 "nbformat": 4,
 "nbformat_minor": 4
}
