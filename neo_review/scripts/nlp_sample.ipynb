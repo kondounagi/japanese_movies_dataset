{
 "cells": [
  {
   "cell_type": "code",
   "execution_count": 1,
   "metadata": {},
   "outputs": [],
   "source": [
    "import numpy as np\n",
    "import pandas as pd \n",
    "import json\n",
    "\n",
    "import MeCab"
   ]
  },
  {
   "cell_type": "code",
   "execution_count": 2,
   "metadata": {},
   "outputs": [],
   "source": [
    "m = MeCab.Tagger(' -d /usr/lib64/mecab/dic/mecab-ipadic-neologd')"
   ]
  },
  {
   "cell_type": "code",
   "execution_count": 3,
   "metadata": {},
   "outputs": [],
   "source": [
    "with open(\"../data/coco_reviews.json\", \"r\") as f:\n",
    "    json_dict = json.load(f)"
   ]
  },
  {
   "cell_type": "code",
   "execution_count": 4,
   "metadata": {},
   "outputs": [],
   "source": [
    "def wakachi(text):\n",
    "    splitted = ' '.join([\n",
    "        x.split('\\t')[0] for x in m.parse(text).splitlines()[:-1] \n",
    "            if x.split('\\t')[1].split(',')[0] not in ['助詞', '助動詞', '接続詞', '動詞', '記号']\n",
    "    ])\n",
    "    return splitted"
   ]
  },
  {
   "cell_type": "code",
   "execution_count": 5,
   "metadata": {},
   "outputs": [],
   "source": [
    "def set_stopwords():\n",
    "    with open (\"nlp/stopword_japanese.txt\", \"r\") as f:\n",
    "        stopwords = [line.strip() for line in f]\n",
    "        stopwords = [ss for ss in stopwords if not ss==u'']\n",
    "\n",
    "    return stopwords\n",
    "# set_stopwords()\n",
    "stopwords = set_stopwords()"
   ]
  },
  {
   "cell_type": "code",
   "execution_count": 6,
   "metadata": {},
   "outputs": [],
   "source": [
    "def join_list_str(list):\n",
    "    return ' '.join(list)\n",
    "\n",
    "def exclude_stopword(text):\n",
    "    changed_text = [token for token in text.lower().split(\" \") if token != \"\" if token not in stopwords]\n",
    "    changed_text = join_list_str(changed_text)\n",
    "    return changed_text"
   ]
  },
  {
   "cell_type": "code",
   "execution_count": 66,
   "metadata": {},
   "outputs": [],
   "source": [
    "reviews = []\n",
    "for i in range(1, len(json_dict)+1):\n",
    "    # print(json_dict[str(i)][\"title\"])\n",
    "    # print(json_dict[str(i)][\"reviews\"])\n",
    "    reviews_info = json_dict[str(i)][\"reviews\"]\n",
    "    all_review_str = join_list_str([exclude_stopword(wakachi(review_info[\"review\"])) for review_info in reviews_info])\n",
    "    reviews += [all_review_str]\n",
    "    # print(i)"
   ]
  },
  {
   "cell_type": "code",
   "execution_count": 12,
   "metadata": {},
   "outputs": [],
   "source": [
    "from sklearn import feature_extraction"
   ]
  },
  {
   "cell_type": "code",
   "execution_count": 94,
   "metadata": {},
   "outputs": [],
   "source": [
    "# max_dfとmin_dfによって結果は大きく変わる\n",
    "vectorizer = feature_extraction.text.TfidfVectorizer(\n",
    "    decode_error=\"ignore\",\n",
    "    strip_accents=\"unicode\",\n",
    "    lowercase=True,\n",
    "    analyzer=\"word\",\n",
    "    max_df=0.8,\n",
    "    min_df=0.3\n",
    ")"
   ]
  },
  {
   "cell_type": "code",
   "execution_count": 95,
   "metadata": {},
   "outputs": [],
   "source": [
    "X = vectorizer.fit_transform(reviews).toarray()\n",
    "index = X.argsort(axis=1)[:, ::-1]\n",
    "feature_names = np.array(vectorizer.get_feature_names())\n",
    "feature_words = feature_names[index]"
   ]
  },
  {
   "cell_type": "code",
   "execution_count": 97,
   "metadata": {},
   "outputs": [],
   "source": [
    "import csv\n",
    "with open(\"nlp/tfidf.csv\", \"w\") as f:\n",
    "    writer = csv.writer(f, lineterminator=\",\")\n",
    "    writer.writerows(feature_words)"
   ]
  },
  {
   "cell_type": "code",
   "execution_count": null,
   "metadata": {},
   "outputs": [],
   "source": []
  }
 ],
 "metadata": {
  "kernelspec": {
   "display_name": "Python 3",
   "language": "python",
   "name": "python3"
  },
  "language_info": {
   "codemirror_mode": {
    "name": "ipython",
    "version": 3
   },
   "file_extension": ".py",
   "mimetype": "text/x-python",
   "name": "python",
   "nbconvert_exporter": "python",
   "pygments_lexer": "ipython3",
   "version": "3.6.3"
  }
 },
 "nbformat": 4,
 "nbformat_minor": 4
}
