{
 "cells": [
  {
   "cell_type": "code",
   "execution_count": 1,
   "metadata": {},
   "outputs": [],
   "source": [
    "import MeCab\n",
    "import json\n",
    "import numpy as np\n",
    "import re"
   ]
  },
  {
   "cell_type": "code",
   "execution_count": 2,
   "metadata": {},
   "outputs": [],
   "source": [
    "with open(\"../../data/eigacom_review.json\", 'r') as f:\n",
    "    review_all = json.load(f)"
   ]
  },
  {
   "cell_type": "code",
   "execution_count": 3,
   "metadata": {},
   "outputs": [],
   "source": [
    "m = MeCab.Tagger(\"-d /usr/lib64/mecab/dic/mecab-ipadic-neologd\")"
   ]
  },
  {
   "cell_type": "code",
   "execution_count": 4,
   "metadata": {},
   "outputs": [],
   "source": [
    "def wakachi(text):\n",
    "    LINE_SEPARATOR_PATTERN =  \"[\\n\\r\\u2028\\u2029\\u0085]\"\n",
    "    text = re.sub(LINE_SEPARATOR_PATTERN, ' ', text)\n",
    "    splitted = ' '.join([\n",
    "        x.split('\\t')[0] for x in m.parse(text.strip()).splitlines()[:-1] \n",
    "            if x.split('\\t')[1].split(',')[0] not in ['助詞', '助動詞', '接続詞', '動詞', '記号']\n",
    "    ])\n",
    "    return splitted"
   ]
  },
  {
   "cell_type": "code",
   "execution_count": 5,
   "metadata": {},
   "outputs": [],
   "source": [
    "def set_stopwords():\n",
    "    with open(\"../nlp/stopword_japanese_lda.txt\", \"r\") as f:\n",
    "        stopwords = [line.strip() for line in f]\n",
    "        stopwords = [ss for ss in stopwords if not ss==u'']\n",
    "       \n",
    "    return stopwords\n",
    "\n",
    "stop_words  = set_stopwords()"
   ]
  },
  {
   "cell_type": "code",
   "execution_count": 6,
   "metadata": {},
   "outputs": [],
   "source": [
    "data_all = []\n",
    "\n",
    "for key in review_all.keys():\n",
    "#     print(key)\n",
    "    reviews = review_all[key][\"reviews\"]\n",
    "    data = [] # １つのデータ映画の全てのレビューを繋げる\n",
    "    for r in reviews:\n",
    "        text = r[\"review\"].strip()\n",
    "        \n",
    "        tmp = []\n",
    "        for word in wakachi(text).split():\n",
    "             # ストップワード除去\n",
    "            if word not in stop_words and not word.isdigit():\n",
    "                data.append(word)\n",
    "\n",
    "    data_all.append(data)"
   ]
  },
  {
   "cell_type": "code",
   "execution_count": 7,
   "metadata": {},
   "outputs": [
    {
     "data": {
      "text/plain": [
       "211"
      ]
     },
     "execution_count": 7,
     "metadata": {},
     "output_type": "execute_result"
    }
   ],
   "source": [
    "len(data_all)"
   ]
  },
  {
   "cell_type": "code",
   "execution_count": 8,
   "metadata": {},
   "outputs": [],
   "source": [
    "from gensim.corpora.dictionary import Dictionary\n",
    "from gensim.models import LdaModel\n",
    "\n",
    "# SEED = 6\n",
    "# np.random.seed(SEED)\n",
    "\n",
    "# 分類するトピック数\n",
    "topic_n = 10\n",
    "\n",
    "# 辞書を作成\n",
    "dictionary = Dictionary(data_all)\n",
    "\n",
    "# パラメータを設定\n",
    "# 1000単語以上には増やさない場合: keep_n=1000\n",
    "dictionary.filter_extremes(no_below=100,# 出現文書数が100回未満の単語を削除\n",
    "                           no_above=0.5,# 出現文書率が50％より大きい単語を削除\n",
    "                           ) \n",
    "# 各文書をBag-of-Wordsにより文書ベクトルに変換\n",
    "corpus_bow = [dictionary.doc2bow(text) for text in data_all]\n",
    "\n",
    "# LDAの学習\n",
    "lda = LdaModel(corpus=corpus_bow, num_topics=topic_n, id2word=dictionary)\n",
    "\n",
    "# LDAの学習には時間がかかるので、学習したモデルは保存\n",
    "# model_pref = 'model/lda'\n",
    "# lda.save(model_pref)"
   ]
  },
  {
   "cell_type": "code",
   "execution_count": 9,
   "metadata": {},
   "outputs": [
    {
     "name": "stdout",
     "output_type": "stream",
     "text": [
      "トピック 0 :  0.246*\"残念\" + 0.162*\"無い\" + 0.122*\"台詞\" + 0.117*\"展開\" + 0.111*\"原作\" + 0.106*\"部分\" + 0.085*\"一番\" + 0.052*\"雰囲気\"\n",
      "トピック 1 :  0.413*\"原作\" + 0.125*\"部分\" + 0.103*\"展開\" + 0.099*\"無い\" + 0.089*\"残念\" + 0.086*\"一番\" + 0.047*\"雰囲気\" + 0.037*\"台詞\"\n",
      "トピック 2 :  0.493*\"原作\" + 0.092*\"無い\" + 0.078*\"展開\" + 0.077*\"残念\" + 0.074*\"台詞\" + 0.068*\"部分\" + 0.066*\"雰囲気\" + 0.053*\"一番\"\n",
      "トピック 3 :  0.247*\"原作\" + 0.176*\"部分\" + 0.152*\"展開\" + 0.101*\"無い\" + 0.099*\"残念\" + 0.093*\"雰囲気\" + 0.081*\"一番\" + 0.052*\"台詞\"\n",
      "トピック 4 :  0.261*\"部分\" + 0.166*\"展開\" + 0.142*\"残念\" + 0.112*\"無い\" + 0.099*\"一番\" + 0.094*\"雰囲気\" + 0.089*\"台詞\" + 0.037*\"原作\"\n",
      "トピック 5 :  0.263*\"原作\" + 0.205*\"残念\" + 0.116*\"部分\" + 0.101*\"一番\" + 0.094*\"展開\" + 0.092*\"無い\" + 0.072*\"台詞\" + 0.056*\"雰囲気\"\n",
      "トピック 6 :  0.221*\"原作\" + 0.191*\"無い\" + 0.121*\"展開\" + 0.115*\"一番\" + 0.103*\"雰囲気\" + 0.103*\"部分\" + 0.077*\"残念\" + 0.069*\"台詞\"\n",
      "トピック 7 :  0.570*\"原作\" + 0.112*\"残念\" + 0.075*\"展開\" + 0.068*\"一番\" + 0.065*\"部分\" + 0.041*\"無い\" + 0.039*\"台詞\" + 0.031*\"雰囲気\"\n",
      "トピック 8 :  0.220*\"一番\" + 0.209*\"展開\" + 0.156*\"部分\" + 0.126*\"残念\" + 0.098*\"無い\" + 0.090*\"台詞\" + 0.070*\"雰囲気\" + 0.032*\"原作\"\n",
      "トピック 9 :  0.358*\"原作\" + 0.126*\"展開\" + 0.110*\"無い\" + 0.094*\"台詞\" + 0.084*\"一番\" + 0.079*\"部分\" + 0.076*\"雰囲気\" + 0.073*\"残念\"\n"
     ]
    }
   ],
   "source": [
    "for tpn in range(topic_n):\n",
    "    print('トピック', tpn, ': ', lda.print_topic(tpn, topn = 10))"
   ]
  },
  {
   "cell_type": "code",
   "execution_count": 10,
   "metadata": {
    "scrolled": true
   },
   "outputs": [],
   "source": [
    "category_all = []\n",
    "\n",
    "for id in range(1, 211):\n",
    "#     print(id)\n",
    "    cate, weight = sorted(lda[corpus_bow[id]], key=lambda x: x[1], reverse=True)[0]\n",
    "    category_all.append(cate)"
   ]
  },
  {
   "cell_type": "code",
   "execution_count": 11,
   "metadata": {},
   "outputs": [],
   "source": [
    "with open(\"../../data/nominate_movie_meta_data.json\", 'r') as fs:\n",
    "    j = json.load(fs)"
   ]
  },
  {
   "cell_type": "code",
   "execution_count": 12,
   "metadata": {},
   "outputs": [],
   "source": [
    "prize = []\n",
    "prize_id = []\n",
    "for i in j:\n",
    "    for item in j[i]:\n",
    "        prize.append(item[\"prize\"])\n",
    "        if item[\"prize\"]:\n",
    "            prize_id.append(item[\"id\"])"
   ]
  },
  {
   "cell_type": "code",
   "execution_count": 13,
   "metadata": {
    "scrolled": true
   },
   "outputs": [
    {
     "name": "stdout",
     "output_type": "stream",
     "text": [
      "1\n",
      "6\n",
      "11\n",
      "16\n",
      "21\n",
      "26\n",
      "31\n",
      "36\n",
      "41\n",
      "46\n",
      "51\n",
      "56\n",
      "61\n",
      "66\n",
      "71\n",
      "76\n",
      "81\n",
      "86\n",
      "91\n",
      "96\n",
      "101\n",
      "106\n",
      "111\n",
      "116\n",
      "121\n",
      "126\n",
      "131\n",
      "136\n",
      "141\n",
      "146\n",
      "151\n",
      "156\n",
      "161\n",
      "166\n",
      "171\n",
      "176\n",
      "181\n",
      "187\n",
      "192\n",
      "197\n",
      "202\n",
      "207\n"
     ]
    }
   ],
   "source": [
    "category = []\n",
    "for id in prize_id:\n",
    "    print(id)\n",
    "    cate, wight = sorted(lda[corpus_bow[id]], key=lambda x: x[1], reverse=True)[0]\n",
    "    category.append(cate)"
   ]
  },
  {
   "cell_type": "code",
   "execution_count": 14,
   "metadata": {},
   "outputs": [
    {
     "name": "stdout",
     "output_type": "stream",
     "text": [
      "0 14\n",
      "1 2\n",
      "2 4\n",
      "3 2\n",
      "4 10\n",
      "5 1\n",
      "6 4\n",
      "7 2\n",
      "8 2\n",
      "9 1\n"
     ]
    }
   ],
   "source": [
    "category_count = []\n",
    "for i in range(topic_n):\n",
    "    c = category.count(i)\n",
    "    category_count.append(c)\n",
    "    print(i, c)"
   ]
  },
  {
   "cell_type": "code",
   "execution_count": 15,
   "metadata": {},
   "outputs": [
    {
     "name": "stdout",
     "output_type": "stream",
     "text": [
      "0 66\n",
      "1 3\n",
      "2 16\n",
      "3 13\n",
      "4 24\n",
      "5 5\n",
      "6 19\n",
      "7 24\n",
      "8 33\n",
      "9 7\n"
     ]
    }
   ],
   "source": [
    "category_all_count = []\n",
    "for i in range(topic_n):\n",
    "    c = category_all.count(i)\n",
    "    category_all_count.append(c)\n",
    "    print(i, c)"
   ]
  },
  {
   "cell_type": "code",
   "execution_count": 16,
   "metadata": {},
   "outputs": [
    {
     "name": "stdout",
     "output_type": "stream",
     "text": [
      "0 0.21212121212121213\n",
      "1 0.6666666666666666\n",
      "2 0.25\n",
      "3 0.15384615384615385\n",
      "4 0.4166666666666667\n",
      "5 0.2\n",
      "6 0.21052631578947367\n",
      "7 0.08333333333333333\n",
      "8 0.06060606060606061\n",
      "9 0.14285714285714285\n"
     ]
    }
   ],
   "source": [
    "for i, p in enumerate(np.array(category_count)/np.array(category_all_count)):\n",
    "    print(i, p)"
   ]
  },
  {
   "cell_type": "code",
   "execution_count": 17,
   "metadata": {},
   "outputs": [
    {
     "name": "stdout",
     "output_type": "stream",
     "text": [
      "0 0.3333333333333333\n",
      "1 0.047619047619047616\n",
      "2 0.09523809523809523\n",
      "3 0.047619047619047616\n",
      "4 0.23809523809523808\n",
      "5 0.023809523809523808\n",
      "6 0.09523809523809523\n",
      "7 0.047619047619047616\n",
      "8 0.047619047619047616\n",
      "9 0.023809523809523808\n"
     ]
    }
   ],
   "source": [
    "for i, p in enumerate(np.array(category_count)/np.sum(category_count)):\n",
    "    print(i, p)"
   ]
  },
  {
   "cell_type": "code",
   "execution_count": 18,
   "metadata": {},
   "outputs": [
    {
     "name": "stdout",
     "output_type": "stream",
     "text": [
      "0 0.3142857142857143\n",
      "1 0.014285714285714285\n",
      "2 0.0761904761904762\n",
      "3 0.06190476190476191\n",
      "4 0.11428571428571428\n",
      "5 0.023809523809523808\n",
      "6 0.09047619047619047\n",
      "7 0.11428571428571428\n",
      "8 0.15714285714285714\n",
      "9 0.03333333333333333\n"
     ]
    }
   ],
   "source": [
    "for i, p in enumerate(np.array(category_all_count)/np.sum(category_all_count)):\n",
    "    print(i, p)"
   ]
  },
  {
   "cell_type": "code",
   "execution_count": null,
   "metadata": {},
   "outputs": [],
   "source": []
  }
 ],
 "metadata": {
  "kernelspec": {
   "display_name": "Python 3",
   "language": "python",
   "name": "python3"
  },
  "language_info": {
   "codemirror_mode": {
    "name": "ipython",
    "version": 3
   },
   "file_extension": ".py",
   "mimetype": "text/x-python",
   "name": "python",
   "nbconvert_exporter": "python",
   "pygments_lexer": "ipython3",
   "version": "3.6.3"
  }
 },
 "nbformat": 4,
 "nbformat_minor": 2
}
