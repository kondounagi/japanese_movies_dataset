{
 "cells": [
  {
   "cell_type": "code",
   "execution_count": 44,
   "metadata": {},
   "outputs": [],
   "source": [
    "import MeCab\n",
    "import json\n",
    "import numpy as np\n",
    "import pandas as pd\n",
    "import re"
   ]
  },
  {
   "cell_type": "code",
   "execution_count": 45,
   "metadata": {},
   "outputs": [],
   "source": [
    "with open(\"../../data/eigacom_review.json\", 'r') as f:\n",
    "    review_all = json.load(f)"
   ]
  },
  {
   "cell_type": "code",
   "execution_count": 46,
   "metadata": {},
   "outputs": [],
   "source": [
    "m = MeCab.Tagger(\"-d /usr/lib64/mecab/dic/mecab-ipadic-neologd\")"
   ]
  },
  {
   "cell_type": "code",
   "execution_count": 47,
   "metadata": {},
   "outputs": [],
   "source": [
    "def wakachi(text):\n",
    "    LINE_SEPARATOR_PATTERN =  \"[\\n\\r\\u2028\\u2029\\u0085]\"\n",
    "    text = re.sub(LINE_SEPARATOR_PATTERN, ' ', text)\n",
    "    splitted = ' '.join([\n",
    "        x.split('\\t')[0] for x in m.parse(text.strip()).splitlines()[:-1] \n",
    "            if x.split('\\t')[1].split(',')[0] not in ['助詞', '助動詞', '接続詞', '動詞', '記号']\n",
    "    ])\n",
    "    return splitted"
   ]
  },
  {
   "cell_type": "code",
   "execution_count": 48,
   "metadata": {},
   "outputs": [],
   "source": [
    "def set_stopwords():\n",
    "    with open(\"../nlp/stopword_lda.txt\", \"r\") as f:\n",
    "        stopwords = [line.strip() for line in f]\n",
    "        stopwords = [ss for ss in stopwords if not ss==u'']\n",
    "       \n",
    "    return stopwords\n",
    "\n",
    "stop_words  = set_stopwords()"
   ]
  },
  {
   "cell_type": "code",
   "execution_count": 49,
   "metadata": {},
   "outputs": [],
   "source": [
    "data_all = []\n",
    "\n",
    "for key in review_all.keys():\n",
    "#     print(key)\n",
    "    reviews = review_all[key][\"reviews\"]\n",
    "    data = [] # １つのデータ映画の全てのレビューを繋げる\n",
    "    for r in reviews:\n",
    "        text = r[\"review\"].strip()\n",
    "        \n",
    "        tmp = []\n",
    "        for word in wakachi(text).split():\n",
    "             # ストップワード除去\n",
    "            if word not in stop_words and not word.isdigit():\n",
    "                data.append(word)\n",
    "\n",
    "    data_all.append(data)"
   ]
  },
  {
   "cell_type": "code",
   "execution_count": 50,
   "metadata": {},
   "outputs": [
    {
     "data": {
      "text/plain": [
       "211"
      ]
     },
     "execution_count": 50,
     "metadata": {},
     "output_type": "execute_result"
    }
   ],
   "source": [
    "len(data_all)"
   ]
  },
  {
   "cell_type": "code",
   "execution_count": 51,
   "metadata": {},
   "outputs": [],
   "source": [
    "from gensim.corpora.dictionary import Dictionary\n",
    "from gensim.models import LdaModel\n",
    "\n",
    "# SEED = 6\n",
    "# np.random.seed(SEED)\n",
    "\n",
    "# 分類するトピック数\n",
    "topic_n = 20\n",
    "\n",
    "# 辞書を作成\n",
    "dictionary = Dictionary(data_all)\n",
    "\n",
    "# パラメータを設定\n",
    "# 1000単語以上には増やさない場合: keep_n=1000\n",
    "dictionary.filter_extremes(no_below=100,# 出現文書数が100回未満の単語を削除\n",
    "                           no_above=0.5,# 出現文書率が50％より大きい単語を削除\n",
    "                           ) \n",
    "# 各文書をBag-of-Wordsにより文書ベクトルに変換\n",
    "corpus_bow = [dictionary.doc2bow(text) for text in data_all]\n",
    "\n",
    "# LDAの学習\n",
    "lda = LdaModel(corpus=corpus_bow, num_topics=topic_n, id2word=dictionary)\n",
    "\n",
    "# LDAの学習には時間がかかるので、学習したモデルは保存\n",
    "# model_pref = 'model/lda'\n",
    "# lda.save(model_pref)"
   ]
  },
  {
   "cell_type": "code",
   "execution_count": 52,
   "metadata": {
    "scrolled": false
   },
   "outputs": [
    {
     "name": "stdout",
     "output_type": "stream",
     "text": [
      "トピック 0 :  0.415*\"原作\" + 0.108*\"役者\" + 0.100*\"俳優\" + 0.077*\"展開\" + 0.075*\"残念\" + 0.070*\"一番\" + 0.065*\"無い\" + 0.063*\"台詞\" + 0.026*\"雰囲気\"\n",
      "トピック 1 :  0.206*\"役者\" + 0.144*\"俳優\" + 0.138*\"無い\" + 0.121*\"残念\" + 0.097*\"一番\" + 0.088*\"展開\" + 0.080*\"原作\" + 0.067*\"台詞\" + 0.059*\"雰囲気\"\n",
      "トピック 2 :  0.324*\"原作\" + 0.165*\"残念\" + 0.097*\"役者\" + 0.092*\"雰囲気\" + 0.075*\"展開\" + 0.074*\"一番\" + 0.065*\"台詞\" + 0.060*\"無い\" + 0.047*\"俳優\"\n",
      "トピック 3 :  0.304*\"残念\" + 0.245*\"原作\" + 0.181*\"一番\" + 0.138*\"展開\" + 0.086*\"役者\" + 0.013*\"台詞\" + 0.013*\"無い\" + 0.011*\"雰囲気\" + 0.009*\"俳優\"\n",
      "トピック 4 :  0.213*\"役者\" + 0.193*\"展開\" + 0.179*\"雰囲気\" + 0.138*\"原作\" + 0.107*\"一番\" + 0.094*\"台詞\" + 0.049*\"俳優\" + 0.014*\"無い\" + 0.013*\"残念\"\n",
      "トピック 5 :  0.203*\"原作\" + 0.195*\"俳優\" + 0.136*\"一番\" + 0.119*\"無い\" + 0.114*\"役者\" + 0.082*\"展開\" + 0.055*\"雰囲気\" + 0.054*\"台詞\" + 0.042*\"残念\"\n",
      "トピック 6 :  0.205*\"原作\" + 0.174*\"役者\" + 0.142*\"展開\" + 0.113*\"一番\" + 0.107*\"俳優\" + 0.077*\"無い\" + 0.075*\"台詞\" + 0.063*\"残念\" + 0.045*\"雰囲気\"\n",
      "トピック 7 :  0.257*\"役者\" + 0.208*\"俳優\" + 0.170*\"展開\" + 0.084*\"残念\" + 0.080*\"雰囲気\" + 0.072*\"一番\" + 0.062*\"台詞\" + 0.046*\"無い\" + 0.020*\"原作\"\n",
      "トピック 8 :  0.200*\"一番\" + 0.171*\"俳優\" + 0.151*\"展開\" + 0.131*\"台詞\" + 0.115*\"残念\" + 0.112*\"無い\" + 0.062*\"役者\" + 0.051*\"雰囲気\" + 0.008*\"原作\"\n",
      "トピック 9 :  0.206*\"無い\" + 0.176*\"台詞\" + 0.165*\"残念\" + 0.133*\"雰囲気\" + 0.117*\"展開\" + 0.108*\"一番\" + 0.069*\"役者\" + 0.025*\"俳優\" + 0.002*\"原作\"\n",
      "トピック 10 :  0.450*\"無い\" + 0.141*\"残念\" + 0.090*\"展開\" + 0.078*\"雰囲気\" + 0.067*\"台詞\" + 0.066*\"一番\" + 0.053*\"俳優\" + 0.052*\"役者\" + 0.003*\"原作\"\n",
      "トピック 11 :  0.344*\"展開\" + 0.155*\"役者\" + 0.137*\"一番\" + 0.129*\"俳優\" + 0.074*\"残念\" + 0.061*\"無い\" + 0.040*\"台詞\" + 0.037*\"雰囲気\" + 0.024*\"原作\"\n",
      "トピック 12 :  0.450*\"原作\" + 0.227*\"雰囲気\" + 0.152*\"無い\" + 0.078*\"役者\" + 0.078*\"台詞\" + 0.004*\"俳優\" + 0.004*\"一番\" + 0.004*\"展開\" + 0.004*\"残念\"\n",
      "トピック 13 :  0.202*\"展開\" + 0.150*\"俳優\" + 0.133*\"役者\" + 0.123*\"一番\" + 0.108*\"台詞\" + 0.093*\"残念\" + 0.082*\"無い\" + 0.072*\"雰囲気\" + 0.036*\"原作\"\n",
      "トピック 14 :  0.217*\"無い\" + 0.160*\"展開\" + 0.117*\"俳優\" + 0.111*\"台詞\" + 0.111*\"残念\" + 0.104*\"一番\" + 0.099*\"役者\" + 0.070*\"雰囲気\" + 0.011*\"原作\"\n",
      "トピック 15 :  0.497*\"原作\" + 0.093*\"展開\" + 0.075*\"俳優\" + 0.074*\"残念\" + 0.072*\"雰囲気\" + 0.062*\"役者\" + 0.057*\"一番\" + 0.046*\"無い\" + 0.025*\"台詞\"\n",
      "トピック 16 :  0.398*\"原作\" + 0.104*\"残念\" + 0.098*\"展開\" + 0.092*\"役者\" + 0.082*\"俳優\" + 0.077*\"台詞\" + 0.065*\"無い\" + 0.046*\"一番\" + 0.037*\"雰囲気\"\n",
      "トピック 17 :  0.264*\"台詞\" + 0.232*\"原作\" + 0.133*\"役者\" + 0.133*\"雰囲気\" + 0.100*\"俳優\" + 0.067*\"無い\" + 0.034*\"展開\" + 0.034*\"一番\" + 0.002*\"残念\"\n",
      "トピック 18 :  0.214*\"原作\" + 0.149*\"俳優\" + 0.140*\"役者\" + 0.128*\"展開\" + 0.118*\"無い\" + 0.103*\"一番\" + 0.077*\"雰囲気\" + 0.040*\"台詞\" + 0.030*\"残念\"\n",
      "トピック 19 :  0.307*\"一番\" + 0.167*\"展開\" + 0.128*\"無い\" + 0.108*\"残念\" + 0.101*\"台詞\" + 0.077*\"雰囲気\" + 0.046*\"原作\" + 0.045*\"役者\" + 0.022*\"俳優\"\n"
     ]
    }
   ],
   "source": [
    "for tpn in range(topic_n):\n",
    "    print('トピック', tpn, ': ', lda.print_topic(tpn, topn = 10))"
   ]
  },
  {
   "cell_type": "code",
   "execution_count": 54,
   "metadata": {},
   "outputs": [],
   "source": [
    "frame = []\n",
    "\n",
    "for id in range(1, 211):\n",
    "    frame.append([id] + [0 for i in range(topic_n)])\n",
    "    \n",
    "for id in range(1, 211):\n",
    "    for num , prob  in lda[corpus_bow[id]]:\n",
    "        frame[id-1][num + 1] = prob"
   ]
  },
  {
   "cell_type": "code",
   "execution_count": 57,
   "metadata": {},
   "outputs": [
    {
     "data": {
      "text/html": [
       "<div>\n",
       "<style scoped>\n",
       "    .dataframe tbody tr th:only-of-type {\n",
       "        vertical-align: middle;\n",
       "    }\n",
       "\n",
       "    .dataframe tbody tr th {\n",
       "        vertical-align: top;\n",
       "    }\n",
       "\n",
       "    .dataframe thead th {\n",
       "        text-align: right;\n",
       "    }\n",
       "</style>\n",
       "<table border=\"1\" class=\"dataframe\">\n",
       "  <thead>\n",
       "    <tr style=\"text-align: right;\">\n",
       "      <th></th>\n",
       "      <th>topic_0</th>\n",
       "      <th>topic_1</th>\n",
       "      <th>topic_2</th>\n",
       "      <th>topic_3</th>\n",
       "      <th>topic_4</th>\n",
       "      <th>topic_5</th>\n",
       "      <th>topic_6</th>\n",
       "      <th>topic_7</th>\n",
       "      <th>topic_8</th>\n",
       "      <th>topic_9</th>\n",
       "      <th>topic_10</th>\n",
       "      <th>topic_11</th>\n",
       "      <th>topic_12</th>\n",
       "      <th>topic_13</th>\n",
       "      <th>topic_14</th>\n",
       "      <th>topic_15</th>\n",
       "      <th>topic_16</th>\n",
       "      <th>topic_17</th>\n",
       "      <th>topic_18</th>\n",
       "      <th>topic_19</th>\n",
       "    </tr>\n",
       "    <tr>\n",
       "      <th>id</th>\n",
       "      <th></th>\n",
       "      <th></th>\n",
       "      <th></th>\n",
       "      <th></th>\n",
       "      <th></th>\n",
       "      <th></th>\n",
       "      <th></th>\n",
       "      <th></th>\n",
       "      <th></th>\n",
       "      <th></th>\n",
       "      <th></th>\n",
       "      <th></th>\n",
       "      <th></th>\n",
       "      <th></th>\n",
       "      <th></th>\n",
       "      <th></th>\n",
       "      <th></th>\n",
       "      <th></th>\n",
       "      <th></th>\n",
       "      <th></th>\n",
       "    </tr>\n",
       "  </thead>\n",
       "  <tbody>\n",
       "    <tr>\n",
       "      <th>1</th>\n",
       "      <td>0.050000</td>\n",
       "      <td>0.05000</td>\n",
       "      <td>0.05</td>\n",
       "      <td>0.05</td>\n",
       "      <td>0.05</td>\n",
       "      <td>0.050000</td>\n",
       "      <td>0.05</td>\n",
       "      <td>0.05</td>\n",
       "      <td>0.05</td>\n",
       "      <td>0.05</td>\n",
       "      <td>0.05</td>\n",
       "      <td>0.05</td>\n",
       "      <td>0.05</td>\n",
       "      <td>0.05</td>\n",
       "      <td>0.05</td>\n",
       "      <td>0.05</td>\n",
       "      <td>0.05</td>\n",
       "      <td>0.05</td>\n",
       "      <td>0.05</td>\n",
       "      <td>0.05</td>\n",
       "    </tr>\n",
       "    <tr>\n",
       "      <th>2</th>\n",
       "      <td>0.050000</td>\n",
       "      <td>0.05000</td>\n",
       "      <td>0.05</td>\n",
       "      <td>0.05</td>\n",
       "      <td>0.05</td>\n",
       "      <td>0.050000</td>\n",
       "      <td>0.05</td>\n",
       "      <td>0.05</td>\n",
       "      <td>0.05</td>\n",
       "      <td>0.05</td>\n",
       "      <td>0.05</td>\n",
       "      <td>0.05</td>\n",
       "      <td>0.05</td>\n",
       "      <td>0.05</td>\n",
       "      <td>0.05</td>\n",
       "      <td>0.05</td>\n",
       "      <td>0.05</td>\n",
       "      <td>0.05</td>\n",
       "      <td>0.05</td>\n",
       "      <td>0.05</td>\n",
       "    </tr>\n",
       "    <tr>\n",
       "      <th>3</th>\n",
       "      <td>0.000000</td>\n",
       "      <td>0.71239</td>\n",
       "      <td>0.00</td>\n",
       "      <td>0.00</td>\n",
       "      <td>0.00</td>\n",
       "      <td>0.234669</td>\n",
       "      <td>0.00</td>\n",
       "      <td>0.00</td>\n",
       "      <td>0.00</td>\n",
       "      <td>0.00</td>\n",
       "      <td>0.00</td>\n",
       "      <td>0.00</td>\n",
       "      <td>0.00</td>\n",
       "      <td>0.00</td>\n",
       "      <td>0.00</td>\n",
       "      <td>0.00</td>\n",
       "      <td>0.00</td>\n",
       "      <td>0.00</td>\n",
       "      <td>0.00</td>\n",
       "      <td>0.00</td>\n",
       "    </tr>\n",
       "    <tr>\n",
       "      <th>4</th>\n",
       "      <td>0.050000</td>\n",
       "      <td>0.05000</td>\n",
       "      <td>0.05</td>\n",
       "      <td>0.05</td>\n",
       "      <td>0.05</td>\n",
       "      <td>0.050000</td>\n",
       "      <td>0.05</td>\n",
       "      <td>0.05</td>\n",
       "      <td>0.05</td>\n",
       "      <td>0.05</td>\n",
       "      <td>0.05</td>\n",
       "      <td>0.05</td>\n",
       "      <td>0.05</td>\n",
       "      <td>0.05</td>\n",
       "      <td>0.05</td>\n",
       "      <td>0.05</td>\n",
       "      <td>0.05</td>\n",
       "      <td>0.05</td>\n",
       "      <td>0.05</td>\n",
       "      <td>0.05</td>\n",
       "    </tr>\n",
       "    <tr>\n",
       "      <th>5</th>\n",
       "      <td>0.894444</td>\n",
       "      <td>0.00000</td>\n",
       "      <td>0.00</td>\n",
       "      <td>0.00</td>\n",
       "      <td>0.00</td>\n",
       "      <td>0.000000</td>\n",
       "      <td>0.00</td>\n",
       "      <td>0.00</td>\n",
       "      <td>0.00</td>\n",
       "      <td>0.00</td>\n",
       "      <td>0.00</td>\n",
       "      <td>0.00</td>\n",
       "      <td>0.00</td>\n",
       "      <td>0.00</td>\n",
       "      <td>0.00</td>\n",
       "      <td>0.00</td>\n",
       "      <td>0.00</td>\n",
       "      <td>0.00</td>\n",
       "      <td>0.00</td>\n",
       "      <td>0.00</td>\n",
       "    </tr>\n",
       "  </tbody>\n",
       "</table>\n",
       "</div>"
      ],
      "text/plain": [
       "     topic_0  topic_1  topic_2  topic_3  topic_4   topic_5  topic_6  topic_7  \\\n",
       "id                                                                             \n",
       "1   0.050000  0.05000     0.05     0.05     0.05  0.050000     0.05     0.05   \n",
       "2   0.050000  0.05000     0.05     0.05     0.05  0.050000     0.05     0.05   \n",
       "3   0.000000  0.71239     0.00     0.00     0.00  0.234669     0.00     0.00   \n",
       "4   0.050000  0.05000     0.05     0.05     0.05  0.050000     0.05     0.05   \n",
       "5   0.894444  0.00000     0.00     0.00     0.00  0.000000     0.00     0.00   \n",
       "\n",
       "    topic_8  topic_9  topic_10  topic_11  topic_12  topic_13  topic_14  \\\n",
       "id                                                                       \n",
       "1      0.05     0.05      0.05      0.05      0.05      0.05      0.05   \n",
       "2      0.05     0.05      0.05      0.05      0.05      0.05      0.05   \n",
       "3      0.00     0.00      0.00      0.00      0.00      0.00      0.00   \n",
       "4      0.05     0.05      0.05      0.05      0.05      0.05      0.05   \n",
       "5      0.00     0.00      0.00      0.00      0.00      0.00      0.00   \n",
       "\n",
       "    topic_15  topic_16  topic_17  topic_18  topic_19  \n",
       "id                                                    \n",
       "1       0.05      0.05      0.05      0.05      0.05  \n",
       "2       0.05      0.05      0.05      0.05      0.05  \n",
       "3       0.00      0.00      0.00      0.00      0.00  \n",
       "4       0.05      0.05      0.05      0.05      0.05  \n",
       "5       0.00      0.00      0.00      0.00      0.00  "
      ]
     },
     "execution_count": 57,
     "metadata": {},
     "output_type": "execute_result"
    }
   ],
   "source": [
    "df_columns = [\"id\"]\n",
    "for i in range(topic_n):\n",
    "    df_columns.append(\"topic_{}\".format(str(i)))\n",
    "\n",
    "df = pd.DataFrame(frame, columns=df_columns)\n",
    "df = df.set_index('id')\n",
    "df.head()"
   ]
  },
  {
   "cell_type": "code",
   "execution_count": 58,
   "metadata": {},
   "outputs": [],
   "source": [
    "df.to_pickle(\"./topics.pkl\")"
   ]
  },
  {
   "cell_type": "code",
   "execution_count": 66,
   "metadata": {
    "scrolled": true
   },
   "outputs": [],
   "source": [
    "category_all = []\n",
    "\n",
    "for id in range(1, 211):\n",
    "#     print(id)\n",
    "    cate, weight = sorted(lda[corpus_bow[id]], key=lambda x: x[1], reverse=True)[0]\n",
    "    category_all.append(cate)"
   ]
  },
  {
   "cell_type": "code",
   "execution_count": 67,
   "metadata": {},
   "outputs": [],
   "source": [
    "with open(\"../../data/nominate_movie_meta_data.json\", 'r') as fs:\n",
    "    j = json.load(fs)"
   ]
  },
  {
   "cell_type": "code",
   "execution_count": 54,
   "metadata": {},
   "outputs": [],
   "source": [
    "prize = []\n",
    "prize_id = []\n",
    "for i in j:\n",
    "    for item in j[i]:\n",
    "        prize.append(item[\"prize\"])\n",
    "        if item[\"prize\"]:\n",
    "            prize_id.append(item[\"id\"])"
   ]
  },
  {
   "cell_type": "code",
   "execution_count": 55,
   "metadata": {
    "scrolled": true
   },
   "outputs": [
    {
     "name": "stdout",
     "output_type": "stream",
     "text": [
      "1\n",
      "6\n",
      "11\n",
      "16\n",
      "21\n",
      "26\n",
      "31\n",
      "36\n",
      "41\n",
      "46\n",
      "51\n",
      "56\n",
      "61\n",
      "66\n",
      "71\n",
      "76\n",
      "81\n",
      "86\n",
      "91\n",
      "96\n",
      "101\n",
      "106\n",
      "111\n",
      "116\n",
      "121\n",
      "126\n",
      "131\n",
      "136\n",
      "141\n",
      "146\n",
      "151\n",
      "156\n",
      "161\n",
      "166\n",
      "171\n",
      "176\n",
      "181\n",
      "187\n",
      "192\n",
      "197\n",
      "202\n",
      "207\n"
     ]
    }
   ],
   "source": [
    "category = []\n",
    "for id in prize_id:\n",
    "    print(id)\n",
    "    cate, wight = sorted(lda[corpus_bow[id]], key=lambda x: x[1], reverse=True)[0]\n",
    "    category.append(cate)"
   ]
  },
  {
   "cell_type": "code",
   "execution_count": 56,
   "metadata": {},
   "outputs": [
    {
     "name": "stdout",
     "output_type": "stream",
     "text": [
      "0 9\n",
      "1 0\n",
      "2 4\n",
      "3 1\n",
      "4 0\n",
      "5 0\n",
      "6 4\n",
      "7 1\n",
      "8 3\n",
      "9 4\n",
      "10 2\n",
      "11 1\n",
      "12 2\n",
      "13 0\n",
      "14 0\n",
      "15 0\n",
      "16 4\n",
      "17 1\n",
      "18 2\n",
      "19 4\n"
     ]
    }
   ],
   "source": [
    "category_count = []\n",
    "for i in range(topic_n):\n",
    "    c = category.count(i)\n",
    "    category_count.append(c)\n",
    "    print(i, c)"
   ]
  },
  {
   "cell_type": "code",
   "execution_count": 57,
   "metadata": {},
   "outputs": [
    {
     "name": "stdout",
     "output_type": "stream",
     "text": [
      "0 45\n",
      "1 4\n",
      "2 16\n",
      "3 10\n",
      "4 7\n",
      "5 1\n",
      "6 15\n",
      "7 2\n",
      "8 12\n",
      "9 20\n",
      "10 6\n",
      "11 3\n",
      "12 6\n",
      "13 0\n",
      "14 1\n",
      "15 0\n",
      "16 16\n",
      "17 6\n",
      "18 6\n",
      "19 34\n"
     ]
    }
   ],
   "source": [
    "category_all_count = []\n",
    "for i in range(topic_n):\n",
    "    c = category_all.count(i)\n",
    "    category_all_count.append(c)\n",
    "    print(i, c)"
   ]
  },
  {
   "cell_type": "code",
   "execution_count": 58,
   "metadata": {},
   "outputs": [
    {
     "name": "stdout",
     "output_type": "stream",
     "text": [
      "0 0.2\n",
      "1 0.0\n",
      "2 0.25\n",
      "3 0.1\n",
      "4 0.0\n",
      "5 0.0\n",
      "6 0.26666666666666666\n",
      "7 0.5\n",
      "8 0.25\n",
      "9 0.2\n",
      "10 0.3333333333333333\n",
      "11 0.3333333333333333\n",
      "12 0.3333333333333333\n",
      "13 nan\n",
      "14 0.0\n",
      "15 nan\n",
      "16 0.25\n",
      "17 0.16666666666666666\n",
      "18 0.3333333333333333\n",
      "19 0.11764705882352941\n"
     ]
    },
    {
     "name": "stderr",
     "output_type": "stream",
     "text": [
      "/home/nakamoto/venv/lib64/python3.6/site-packages/ipykernel_launcher.py:1: RuntimeWarning: invalid value encountered in true_divide\n",
      "  \"\"\"Entry point for launching an IPython kernel.\n"
     ]
    }
   ],
   "source": [
    "for i, p in enumerate(np.array(category_count)/np.array(category_all_count)):\n",
    "    print(i, p)"
   ]
  },
  {
   "cell_type": "code",
   "execution_count": 59,
   "metadata": {},
   "outputs": [
    {
     "name": "stdout",
     "output_type": "stream",
     "text": [
      "0 0.21428571428571427\n",
      "1 0.0\n",
      "2 0.09523809523809523\n",
      "3 0.023809523809523808\n",
      "4 0.0\n",
      "5 0.0\n",
      "6 0.09523809523809523\n",
      "7 0.023809523809523808\n",
      "8 0.07142857142857142\n",
      "9 0.09523809523809523\n",
      "10 0.047619047619047616\n",
      "11 0.023809523809523808\n",
      "12 0.047619047619047616\n",
      "13 0.0\n",
      "14 0.0\n",
      "15 0.0\n",
      "16 0.09523809523809523\n",
      "17 0.023809523809523808\n",
      "18 0.047619047619047616\n",
      "19 0.09523809523809523\n"
     ]
    }
   ],
   "source": [
    "for i, p in enumerate(np.array(category_count)/np.sum(category_count)):\n",
    "    print(i, p)"
   ]
  },
  {
   "cell_type": "code",
   "execution_count": 60,
   "metadata": {},
   "outputs": [
    {
     "name": "stdout",
     "output_type": "stream",
     "text": [
      "0 0.21428571428571427\n",
      "1 0.01904761904761905\n",
      "2 0.0761904761904762\n",
      "3 0.047619047619047616\n",
      "4 0.03333333333333333\n",
      "5 0.004761904761904762\n",
      "6 0.07142857142857142\n",
      "7 0.009523809523809525\n",
      "8 0.05714285714285714\n",
      "9 0.09523809523809523\n",
      "10 0.02857142857142857\n",
      "11 0.014285714285714285\n",
      "12 0.02857142857142857\n",
      "13 0.0\n",
      "14 0.004761904761904762\n",
      "15 0.0\n",
      "16 0.0761904761904762\n",
      "17 0.02857142857142857\n",
      "18 0.02857142857142857\n",
      "19 0.1619047619047619\n"
     ]
    }
   ],
   "source": [
    "for i, p in enumerate(np.array(category_all_count)/np.sum(category_all_count)):\n",
    "    print(i, p)"
   ]
  },
  {
   "cell_type": "code",
   "execution_count": null,
   "metadata": {},
   "outputs": [],
   "source": []
  },
  {
   "cell_type": "code",
   "execution_count": null,
   "metadata": {},
   "outputs": [],
   "source": []
  }
 ],
 "metadata": {
  "kernelspec": {
   "display_name": "Python 3",
   "language": "python",
   "name": "python3"
  },
  "language_info": {
   "codemirror_mode": {
    "name": "ipython",
    "version": 3
   },
   "file_extension": ".py",
   "mimetype": "text/x-python",
   "name": "python",
   "nbconvert_exporter": "python",
   "pygments_lexer": "ipython3",
   "version": "3.6.3"
  }
 },
 "nbformat": 4,
 "nbformat_minor": 2
}
