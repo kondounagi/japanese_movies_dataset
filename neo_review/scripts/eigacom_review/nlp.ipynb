{
 "cells": [
  {
   "cell_type": "code",
   "execution_count": 79,
   "metadata": {},
   "outputs": [],
   "source": [
    "import MeCab\n",
    "import json\n",
    "import numpy as np\n",
    "import pandas as pd\n",
    "import re"
   ]
  },
  {
   "cell_type": "code",
   "execution_count": 80,
   "metadata": {},
   "outputs": [],
   "source": [
    "with open(\"../../data/eigacom_review.json\", 'r') as f:\n",
    "    review_all = json.load(f)"
   ]
  },
  {
   "cell_type": "code",
   "execution_count": 81,
   "metadata": {},
   "outputs": [],
   "source": [
    "m = MeCab.Tagger(\"-d /usr/lib64/mecab/dic/mecab-ipadic-neologd\")"
   ]
  },
  {
   "cell_type": "code",
   "execution_count": 82,
   "metadata": {},
   "outputs": [],
   "source": [
    "def wakachi(text):\n",
    "    LINE_SEPARATOR_PATTERN =  \"[\\n\\r\\u2028\\u2029\\u0085]\"\n",
    "    text = re.sub(LINE_SEPARATOR_PATTERN, ' ', text)\n",
    "    splitted = ' '.join([\n",
    "        x.split('\\t')[0] for x in m.parse(text.strip()).splitlines()[:-1] \n",
    "            if x.split('\\t')[1].split(',')[0] not in ['助詞', '助動詞', '接続詞', '動詞', '記号']\n",
    "    ])\n",
    "    return splitted"
   ]
  },
  {
   "cell_type": "code",
   "execution_count": 83,
   "metadata": {},
   "outputs": [],
   "source": [
    "def set_stopwords():\n",
    "    with open(\"../nlp/stopword_lda.txt\", \"r\") as f:\n",
    "        stopwords = [line.strip() for line in f]\n",
    "        stopwords = [ss for ss in stopwords if not ss==u'']\n",
    "       \n",
    "    return stopwords\n",
    "\n",
    "stop_words  = set_stopwords()"
   ]
  },
  {
   "cell_type": "code",
   "execution_count": 84,
   "metadata": {},
   "outputs": [],
   "source": [
    "data_all = []\n",
    "\n",
    "for key in review_all.keys():\n",
    "#     print(key)\n",
    "    reviews = review_all[key][\"reviews\"]\n",
    "    data = [] # １つのデータ映画の全てのレビューを繋げる\n",
    "    for r in reviews:\n",
    "        text = r[\"review\"].strip()\n",
    "        \n",
    "        tmp = []\n",
    "        for word in wakachi(text).split():\n",
    "             # ストップワード除去\n",
    "            if word not in stop_words and not word.isdigit():\n",
    "                data.append(word)\n",
    "\n",
    "    data_all.append(data)"
   ]
  },
  {
   "cell_type": "code",
   "execution_count": 85,
   "metadata": {},
   "outputs": [
    {
     "data": {
      "text/plain": [
       "211"
      ]
     },
     "execution_count": 85,
     "metadata": {},
     "output_type": "execute_result"
    }
   ],
   "source": [
    "len(data_all)"
   ]
  },
  {
   "cell_type": "code",
   "execution_count": 86,
   "metadata": {},
   "outputs": [],
   "source": [
    "from gensim.corpora.dictionary import Dictionary\n",
    "from gensim.models import LdaModel\n",
    "\n",
    "# SEED = 6\n",
    "# np.random.seed(SEED)\n",
    "\n",
    "# 分類するトピック数\n",
    "topic_n = 10\n",
    "\n",
    "# 辞書を作成\n",
    "dictionary = Dictionary(data_all)\n",
    "\n",
    "# パラメータを設定\n",
    "# 1000単語以上には増やさない場合: keep_n=1000\n",
    "dictionary.filter_extremes(no_below=100,# 出現文書数が100回未満の単語を削除\n",
    "                           no_above=0.5,# 出現文書率が50％より大きい単語を削除\n",
    "                           ) \n",
    "# 各文書をBag-of-Wordsにより文書ベクトルに変換\n",
    "corpus_bow = [dictionary.doc2bow(text) for text in data_all]\n",
    "\n",
    "# LDAの学習\n",
    "lda = LdaModel(corpus=corpus_bow, num_topics=topic_n, id2word=dictionary)\n",
    "\n",
    "# LDAの学習には時間がかかるので、学習したモデルは保存\n",
    "# model_pref = 'model/lda'\n",
    "# lda.save(model_pref)"
   ]
  },
  {
   "cell_type": "code",
   "execution_count": 87,
   "metadata": {
    "scrolled": false
   },
   "outputs": [
    {
     "name": "stdout",
     "output_type": "stream",
     "text": [
      "トピック 0 :  0.340*\"原作\" + 0.169*\"無い\" + 0.161*\"役者\" + 0.096*\"残念\" + 0.081*\"雰囲気\" + 0.043*\"俳優\" + 0.042*\"台詞\" + 0.040*\"展開\" + 0.028*\"一番\"\n",
      "トピック 1 :  0.195*\"展開\" + 0.165*\"無い\" + 0.163*\"残念\" + 0.136*\"一番\" + 0.105*\"俳優\" + 0.082*\"台詞\" + 0.079*\"役者\" + 0.058*\"雰囲気\" + 0.015*\"原作\"\n",
      "トピック 2 :  0.453*\"原作\" + 0.093*\"雰囲気\" + 0.082*\"無い\" + 0.078*\"俳優\" + 0.076*\"残念\" + 0.061*\"台詞\" + 0.060*\"一番\" + 0.055*\"展開\" + 0.042*\"役者\"\n",
      "トピック 3 :  0.208*\"原作\" + 0.161*\"役者\" + 0.115*\"俳優\" + 0.110*\"展開\" + 0.100*\"無い\" + 0.098*\"一番\" + 0.086*\"残念\" + 0.062*\"台詞\" + 0.060*\"雰囲気\"\n",
      "トピック 4 :  0.219*\"原作\" + 0.176*\"残念\" + 0.140*\"雰囲気\" + 0.126*\"展開\" + 0.111*\"俳優\" + 0.097*\"無い\" + 0.047*\"役者\" + 0.042*\"一番\" + 0.041*\"台詞\"\n",
      "トピック 5 :  0.246*\"原作\" + 0.182*\"雰囲気\" + 0.110*\"無い\" + 0.100*\"役者\" + 0.089*\"台詞\" + 0.074*\"一番\" + 0.070*\"残念\" + 0.065*\"俳優\" + 0.064*\"展開\"\n",
      "トピック 6 :  0.414*\"原作\" + 0.153*\"残念\" + 0.085*\"役者\" + 0.085*\"俳優\" + 0.081*\"展開\" + 0.051*\"一番\" + 0.048*\"無い\" + 0.048*\"台詞\" + 0.035*\"雰囲気\"\n",
      "トピック 7 :  0.530*\"原作\" + 0.099*\"展開\" + 0.077*\"俳優\" + 0.068*\"残念\" + 0.055*\"役者\" + 0.048*\"雰囲気\" + 0.048*\"無い\" + 0.042*\"一番\" + 0.034*\"台詞\"\n",
      "トピック 8 :  0.283*\"俳優\" + 0.157*\"原作\" + 0.118*\"役者\" + 0.113*\"展開\" + 0.088*\"一番\" + 0.079*\"台詞\" + 0.061*\"残念\" + 0.055*\"無い\" + 0.046*\"雰囲気\"\n",
      "トピック 9 :  0.306*\"原作\" + 0.186*\"残念\" + 0.140*\"役者\" + 0.123*\"台詞\" + 0.059*\"俳優\" + 0.054*\"無い\" + 0.053*\"一番\" + 0.049*\"展開\" + 0.030*\"雰囲気\"\n"
     ]
    }
   ],
   "source": [
    "for tpn in range(topic_n):\n",
    "    print('トピック', tpn, ': ', lda.print_topic(tpn, topn = 10))"
   ]
  },
  {
   "cell_type": "code",
   "execution_count": 94,
   "metadata": {},
   "outputs": [],
   "source": [
    "frame = []\n",
    "\n",
    "for id in range(1, 211):\n",
    "    frame.append([id] + [0 for i in range(topic_n)])\n",
    "    \n",
    "for id in range(1, 211):\n",
    "    for topic_num , prob  in lda[corpus_bow[id]]:\n",
    "        frame[id-1][topic_num + 1] = prob"
   ]
  },
  {
   "cell_type": "code",
   "execution_count": 100,
   "metadata": {},
   "outputs": [
    {
     "data": {
      "text/html": [
       "<div>\n",
       "<style scoped>\n",
       "    .dataframe tbody tr th:only-of-type {\n",
       "        vertical-align: middle;\n",
       "    }\n",
       "\n",
       "    .dataframe tbody tr th {\n",
       "        vertical-align: top;\n",
       "    }\n",
       "\n",
       "    .dataframe thead th {\n",
       "        text-align: right;\n",
       "    }\n",
       "</style>\n",
       "<table border=\"1\" class=\"dataframe\">\n",
       "  <thead>\n",
       "    <tr style=\"text-align: right;\">\n",
       "      <th></th>\n",
       "      <th>topic_0</th>\n",
       "      <th>topic_1</th>\n",
       "      <th>topic_2</th>\n",
       "      <th>topic_3</th>\n",
       "      <th>topic_4</th>\n",
       "      <th>topic_5</th>\n",
       "      <th>topic_6</th>\n",
       "      <th>topic_7</th>\n",
       "      <th>topic_8</th>\n",
       "      <th>topic_9</th>\n",
       "    </tr>\n",
       "    <tr>\n",
       "      <th>id</th>\n",
       "      <th></th>\n",
       "      <th></th>\n",
       "      <th></th>\n",
       "      <th></th>\n",
       "      <th></th>\n",
       "      <th></th>\n",
       "      <th></th>\n",
       "      <th></th>\n",
       "      <th></th>\n",
       "      <th></th>\n",
       "    </tr>\n",
       "  </thead>\n",
       "  <tbody>\n",
       "    <tr>\n",
       "      <th>1</th>\n",
       "      <td>0.100000</td>\n",
       "      <td>0.100000</td>\n",
       "      <td>0.100000</td>\n",
       "      <td>0.100000</td>\n",
       "      <td>0.100000</td>\n",
       "      <td>0.100000</td>\n",
       "      <td>0.100000</td>\n",
       "      <td>0.100000</td>\n",
       "      <td>0.100000</td>\n",
       "      <td>0.100000</td>\n",
       "    </tr>\n",
       "    <tr>\n",
       "      <th>2</th>\n",
       "      <td>0.100000</td>\n",
       "      <td>0.100000</td>\n",
       "      <td>0.100000</td>\n",
       "      <td>0.100000</td>\n",
       "      <td>0.100000</td>\n",
       "      <td>0.100000</td>\n",
       "      <td>0.100000</td>\n",
       "      <td>0.100000</td>\n",
       "      <td>0.100000</td>\n",
       "      <td>0.100000</td>\n",
       "    </tr>\n",
       "    <tr>\n",
       "      <th>3</th>\n",
       "      <td>0.000000</td>\n",
       "      <td>0.000000</td>\n",
       "      <td>0.000000</td>\n",
       "      <td>0.000000</td>\n",
       "      <td>0.000000</td>\n",
       "      <td>0.000000</td>\n",
       "      <td>0.000000</td>\n",
       "      <td>0.000000</td>\n",
       "      <td>0.947041</td>\n",
       "      <td>0.000000</td>\n",
       "    </tr>\n",
       "    <tr>\n",
       "      <th>4</th>\n",
       "      <td>0.100000</td>\n",
       "      <td>0.100000</td>\n",
       "      <td>0.100000</td>\n",
       "      <td>0.100000</td>\n",
       "      <td>0.100000</td>\n",
       "      <td>0.100000</td>\n",
       "      <td>0.100000</td>\n",
       "      <td>0.100000</td>\n",
       "      <td>0.100000</td>\n",
       "      <td>0.100000</td>\n",
       "    </tr>\n",
       "    <tr>\n",
       "      <th>5</th>\n",
       "      <td>0.690683</td>\n",
       "      <td>0.011113</td>\n",
       "      <td>0.011115</td>\n",
       "      <td>0.011115</td>\n",
       "      <td>0.011114</td>\n",
       "      <td>0.011114</td>\n",
       "      <td>0.011115</td>\n",
       "      <td>0.220401</td>\n",
       "      <td>0.011116</td>\n",
       "      <td>0.011115</td>\n",
       "    </tr>\n",
       "  </tbody>\n",
       "</table>\n",
       "</div>"
      ],
      "text/plain": [
       "     topic_0   topic_1   topic_2   topic_3   topic_4   topic_5   topic_6  \\\n",
       "id                                                                         \n",
       "1   0.100000  0.100000  0.100000  0.100000  0.100000  0.100000  0.100000   \n",
       "2   0.100000  0.100000  0.100000  0.100000  0.100000  0.100000  0.100000   \n",
       "3   0.000000  0.000000  0.000000  0.000000  0.000000  0.000000  0.000000   \n",
       "4   0.100000  0.100000  0.100000  0.100000  0.100000  0.100000  0.100000   \n",
       "5   0.690683  0.011113  0.011115  0.011115  0.011114  0.011114  0.011115   \n",
       "\n",
       "     topic_7   topic_8   topic_9  \n",
       "id                                \n",
       "1   0.100000  0.100000  0.100000  \n",
       "2   0.100000  0.100000  0.100000  \n",
       "3   0.000000  0.947041  0.000000  \n",
       "4   0.100000  0.100000  0.100000  \n",
       "5   0.220401  0.011116  0.011115  "
      ]
     },
     "execution_count": 100,
     "metadata": {},
     "output_type": "execute_result"
    }
   ],
   "source": [
    "df = pd.DataFrame(frame, columns=['id', 'topic_0', 'topic_1', 'topic_2', 'topic_3', 'topic_4', 'topic_5', 'topic_6', 'topic_7', 'topic_8', 'topic_9'])\n",
    "df = df.set_index('id')\n",
    "df.head()"
   ]
  },
  {
   "cell_type": "code",
   "execution_count": null,
   "metadata": {},
   "outputs": [],
   "source": [
    "df.to_pickle(\"./topics.pkl\")"
   ]
  },
  {
   "cell_type": "code",
   "execution_count": 66,
   "metadata": {
    "scrolled": true
   },
   "outputs": [],
   "source": [
    "category_all = []\n",
    "\n",
    "for id in range(1, 211):\n",
    "#     print(id)\n",
    "    cate, weight = sorted(lda[corpus_bow[id]], key=lambda x: x[1], reverse=True)[0]\n",
    "    category_all.append(cate)"
   ]
  },
  {
   "cell_type": "code",
   "execution_count": 67,
   "metadata": {},
   "outputs": [],
   "source": [
    "with open(\"../../data/nominate_movie_meta_data.json\", 'r') as fs:\n",
    "    j = json.load(fs)"
   ]
  },
  {
   "cell_type": "code",
   "execution_count": 54,
   "metadata": {},
   "outputs": [],
   "source": [
    "prize = []\n",
    "prize_id = []\n",
    "for i in j:\n",
    "    for item in j[i]:\n",
    "        prize.append(item[\"prize\"])\n",
    "        if item[\"prize\"]:\n",
    "            prize_id.append(item[\"id\"])"
   ]
  },
  {
   "cell_type": "code",
   "execution_count": 55,
   "metadata": {
    "scrolled": true
   },
   "outputs": [
    {
     "name": "stdout",
     "output_type": "stream",
     "text": [
      "1\n",
      "6\n",
      "11\n",
      "16\n",
      "21\n",
      "26\n",
      "31\n",
      "36\n",
      "41\n",
      "46\n",
      "51\n",
      "56\n",
      "61\n",
      "66\n",
      "71\n",
      "76\n",
      "81\n",
      "86\n",
      "91\n",
      "96\n",
      "101\n",
      "106\n",
      "111\n",
      "116\n",
      "121\n",
      "126\n",
      "131\n",
      "136\n",
      "141\n",
      "146\n",
      "151\n",
      "156\n",
      "161\n",
      "166\n",
      "171\n",
      "176\n",
      "181\n",
      "187\n",
      "192\n",
      "197\n",
      "202\n",
      "207\n"
     ]
    }
   ],
   "source": [
    "category = []\n",
    "for id in prize_id:\n",
    "    print(id)\n",
    "    cate, wight = sorted(lda[corpus_bow[id]], key=lambda x: x[1], reverse=True)[0]\n",
    "    category.append(cate)"
   ]
  },
  {
   "cell_type": "code",
   "execution_count": 56,
   "metadata": {},
   "outputs": [
    {
     "name": "stdout",
     "output_type": "stream",
     "text": [
      "0 9\n",
      "1 0\n",
      "2 4\n",
      "3 1\n",
      "4 0\n",
      "5 0\n",
      "6 4\n",
      "7 1\n",
      "8 3\n",
      "9 4\n",
      "10 2\n",
      "11 1\n",
      "12 2\n",
      "13 0\n",
      "14 0\n",
      "15 0\n",
      "16 4\n",
      "17 1\n",
      "18 2\n",
      "19 4\n"
     ]
    }
   ],
   "source": [
    "category_count = []\n",
    "for i in range(topic_n):\n",
    "    c = category.count(i)\n",
    "    category_count.append(c)\n",
    "    print(i, c)"
   ]
  },
  {
   "cell_type": "code",
   "execution_count": 57,
   "metadata": {},
   "outputs": [
    {
     "name": "stdout",
     "output_type": "stream",
     "text": [
      "0 45\n",
      "1 4\n",
      "2 16\n",
      "3 10\n",
      "4 7\n",
      "5 1\n",
      "6 15\n",
      "7 2\n",
      "8 12\n",
      "9 20\n",
      "10 6\n",
      "11 3\n",
      "12 6\n",
      "13 0\n",
      "14 1\n",
      "15 0\n",
      "16 16\n",
      "17 6\n",
      "18 6\n",
      "19 34\n"
     ]
    }
   ],
   "source": [
    "category_all_count = []\n",
    "for i in range(topic_n):\n",
    "    c = category_all.count(i)\n",
    "    category_all_count.append(c)\n",
    "    print(i, c)"
   ]
  },
  {
   "cell_type": "code",
   "execution_count": 58,
   "metadata": {},
   "outputs": [
    {
     "name": "stdout",
     "output_type": "stream",
     "text": [
      "0 0.2\n",
      "1 0.0\n",
      "2 0.25\n",
      "3 0.1\n",
      "4 0.0\n",
      "5 0.0\n",
      "6 0.26666666666666666\n",
      "7 0.5\n",
      "8 0.25\n",
      "9 0.2\n",
      "10 0.3333333333333333\n",
      "11 0.3333333333333333\n",
      "12 0.3333333333333333\n",
      "13 nan\n",
      "14 0.0\n",
      "15 nan\n",
      "16 0.25\n",
      "17 0.16666666666666666\n",
      "18 0.3333333333333333\n",
      "19 0.11764705882352941\n"
     ]
    },
    {
     "name": "stderr",
     "output_type": "stream",
     "text": [
      "/home/nakamoto/venv/lib64/python3.6/site-packages/ipykernel_launcher.py:1: RuntimeWarning: invalid value encountered in true_divide\n",
      "  \"\"\"Entry point for launching an IPython kernel.\n"
     ]
    }
   ],
   "source": [
    "for i, p in enumerate(np.array(category_count)/np.array(category_all_count)):\n",
    "    print(i, p)"
   ]
  },
  {
   "cell_type": "code",
   "execution_count": 59,
   "metadata": {},
   "outputs": [
    {
     "name": "stdout",
     "output_type": "stream",
     "text": [
      "0 0.21428571428571427\n",
      "1 0.0\n",
      "2 0.09523809523809523\n",
      "3 0.023809523809523808\n",
      "4 0.0\n",
      "5 0.0\n",
      "6 0.09523809523809523\n",
      "7 0.023809523809523808\n",
      "8 0.07142857142857142\n",
      "9 0.09523809523809523\n",
      "10 0.047619047619047616\n",
      "11 0.023809523809523808\n",
      "12 0.047619047619047616\n",
      "13 0.0\n",
      "14 0.0\n",
      "15 0.0\n",
      "16 0.09523809523809523\n",
      "17 0.023809523809523808\n",
      "18 0.047619047619047616\n",
      "19 0.09523809523809523\n"
     ]
    }
   ],
   "source": [
    "for i, p in enumerate(np.array(category_count)/np.sum(category_count)):\n",
    "    print(i, p)"
   ]
  },
  {
   "cell_type": "code",
   "execution_count": 60,
   "metadata": {},
   "outputs": [
    {
     "name": "stdout",
     "output_type": "stream",
     "text": [
      "0 0.21428571428571427\n",
      "1 0.01904761904761905\n",
      "2 0.0761904761904762\n",
      "3 0.047619047619047616\n",
      "4 0.03333333333333333\n",
      "5 0.004761904761904762\n",
      "6 0.07142857142857142\n",
      "7 0.009523809523809525\n",
      "8 0.05714285714285714\n",
      "9 0.09523809523809523\n",
      "10 0.02857142857142857\n",
      "11 0.014285714285714285\n",
      "12 0.02857142857142857\n",
      "13 0.0\n",
      "14 0.004761904761904762\n",
      "15 0.0\n",
      "16 0.0761904761904762\n",
      "17 0.02857142857142857\n",
      "18 0.02857142857142857\n",
      "19 0.1619047619047619\n"
     ]
    }
   ],
   "source": [
    "for i, p in enumerate(np.array(category_all_count)/np.sum(category_all_count)):\n",
    "    print(i, p)"
   ]
  },
  {
   "cell_type": "code",
   "execution_count": null,
   "metadata": {},
   "outputs": [],
   "source": []
  },
  {
   "cell_type": "code",
   "execution_count": null,
   "metadata": {},
   "outputs": [],
   "source": []
  }
 ],
 "metadata": {
  "kernelspec": {
   "display_name": "Python 3",
   "language": "python",
   "name": "python3"
  },
  "language_info": {
   "codemirror_mode": {
    "name": "ipython",
    "version": 3
   },
   "file_extension": ".py",
   "mimetype": "text/x-python",
   "name": "python",
   "nbconvert_exporter": "python",
   "pygments_lexer": "ipython3",
   "version": "3.6.3"
  }
 },
 "nbformat": 4,
 "nbformat_minor": 2
}
