{
 "cells": [
  {
   "cell_type": "code",
   "execution_count": 25,
   "metadata": {},
   "outputs": [],
   "source": [
    "import numpy as np\n",
    "import json\n",
    "import csv\n",
    "import pandas as pd\n",
    "import matplotlib.pyplot as plt\n",
    "from sklearn.linear_model import LogisticRegression\n",
    "from sklearn.metrics import confusion_matrix\n",
    "from sklearn.preprocessing import StandardScaler\n",
    "from sklearn.metrics import roc_auc_score\n",
    "from sklearn.metrics import roc_curve\n",
    "import optuna\n",
    "%matplotlib inline"
   ]
  },
  {
   "cell_type": "code",
   "execution_count": 26,
   "metadata": {},
   "outputs": [],
   "source": [
    "def load_data():\n",
    "    data = pd.read_pickle('../../data/dataframes/data.pkl')\n",
    "    nomination_onehot = pd.read_pickle('../../data/dataframes/nomination_onehot.pkl')\n",
    "    selected_performers_onehot = pd.read_pickle('../../data/dataframes/selected_performers_onehot.pkl')\n",
    "    selected_directors_onehot = pd.read_pickle('../../data/dataframes/selected_directors_onehot.pkl')\n",
    "    selected_studio_onehot = pd.read_pickle('../../data/dataframes/selected_studio_onehot.pkl')\n",
    "    selected_scriptwriter_onehot = pd.read_pickle('../../data/dataframes/selected_scriptwriter_onehot.pkl')\n",
    "    review_dataframe = pd.read_pickle('../../data/dataframes/review_dataframe.pkl')\n",
    "\n",
    "    frames = [nomination_onehot,selected_performers_onehot,selected_directors_onehot,selected_studio_onehot,selected_scriptwriter_onehot]\n",
    "\n",
    "    df = data\n",
    "    for f in frames:\n",
    "        df = pd.merge(df, f, on='id')\n",
    "    \n",
    "    drop_elements = [\"director\", \"other_nominates\", \"performers\", \"production_studio\", \"scriptwriter\", \"title\",  'selected_performers', 'selected_directors', 'selected_studio',\n",
    "       'selected_scriptwriter']\n",
    "    df_drop = df.drop(drop_elements, axis=1)\n",
    "\n",
    "    return df_drop, data"
   ]
  },
  {
   "cell_type": "code",
   "execution_count": 27,
   "metadata": {},
   "outputs": [],
   "source": [
    "def standard(x_train, x_test):\n",
    "    stdsc = StandardScaler()\n",
    "\n",
    "    # 訓練用のデータを標準化\n",
    "    x_train_std = stdsc.fit_transform(x_train)\n",
    "    # 訓練用データを基準にテストデータも標準化\n",
    "    x_test_std = stdsc.transform(x_test)\n",
    "    \n",
    "    return x_train_std, x_test_std"
   ]
  },
  {
   "cell_type": "code",
   "execution_count": 28,
   "metadata": {},
   "outputs": [],
   "source": [
    "def data_processing(test_year):\n",
    "    df, data = load_data()\n",
    "    \n",
    "    train = df.loc[df[\"year\"] != test_year]\n",
    "    test = df.loc[df[\"year\"] == test_year]\n",
    "    \n",
    "    # 入力データの作成\n",
    "    y_train = train['prize'].ravel()\n",
    "    x_train = train.drop(['prize', 'year'], axis=1)\n",
    "    \n",
    "    features = x_train.columns\n",
    "    \n",
    "    x_train = x_train.values # 学習データ\n",
    "    \n",
    "    # テストデータの作成\n",
    "    y_test = test['prize'].ravel()\n",
    "    x_test = test.drop(['prize', 'year'], axis=1)\n",
    "    x_test = x_test.values # テストデータ\n",
    "\n",
    "    # データの標準化\n",
    "    x_train_std, x_test_std = standard(x_train, x_test)\n",
    "    \n",
    "    return x_train_std, x_test_std, y_train, y_test, features"
   ]
  },
  {
   "cell_type": "code",
   "execution_count": 29,
   "metadata": {},
   "outputs": [],
   "source": [
    "def print_weight_map(weight, features):\n",
    "    # feature importance\n",
    "    feature_imp = weight.reshape(features.shape)\n",
    "    feature_imp_arg = np.argsort(feature_imp)\n",
    "    f_num = len(feature_imp_arg)\n",
    "    plt.rcParams[\"font.family\"] = \"IPAexGothic\"\n",
    "    plt.figure(figsize=(20,20))\n",
    "    plt.barh(range(len(feature_imp_arg)), feature_imp[feature_imp_arg], color='b', align='center')\n",
    "    plt.yticks(range(len(feature_imp_arg)), features[feature_imp_arg])\n",
    "    plt.show()"
   ]
  },
  {
   "cell_type": "code",
   "execution_count": 30,
   "metadata": {},
   "outputs": [],
   "source": [
    "def plot_roc_curve(fpr, tpr):\n",
    "    # ROC曲線をプロット\n",
    "    plt.plot(fpr, tpr, label='ROC curve (area = %.2f)'%auc)\n",
    "    plt.legend()\n",
    "    plt.title('ROC curve')\n",
    "    plt.xlabel('False Positive Rate')\n",
    "    plt.ylabel('True Positive Rate')\n",
    "    plt.grid(True)\n",
    "    plt.show()"
   ]
  },
  {
   "cell_type": "code",
   "execution_count": 31,
   "metadata": {},
   "outputs": [],
   "source": [
    "# optunaで最適なC_valを探す\n",
    "\n",
    "def train(trial):\n",
    "    \n",
    "    th_prob = 0.5\n",
    "    C_val = trial.suggest_uniform('C_val', 0.000001, 0.001)\n",
    "    \n",
    "    print(\" C_val:{}\".format(C_val))\n",
    "    \n",
    "    cm_all = np.zeros((2, 2))\n",
    "    \n",
    "    # 予測した確率全体を格納\n",
    "    probs_all = np.array([])\n",
    "    y_true_all = np.array([])\n",
    "    \n",
    "    for y in range(1978, 2020):\n",
    "        \n",
    "        # データの生成\n",
    "        x_train_std, x_test_std, y_train, y_test, features = data_processing(y)\n",
    "        \n",
    "        # 学習\n",
    "        lr = LogisticRegression(class_weight=\"balanced\", solver=\"liblinear\",  penalty='l2', C=C_val) # ロジスティック回帰モデルのインスタンスを作成\n",
    "        lr.fit(x_train_std, y_train) # ロジスティック回帰モデルの重みを学習\n",
    "        \n",
    "        # 予測(確率)\n",
    "        probs = lr.predict_proba(x_test_std)\n",
    "        probs_all = np.hstack((probs_all, probs[:,1]))\n",
    "        y_true_all = np.hstack((y_true_all, y_test))\n",
    "#         print(probs)\n",
    "#         print()\n",
    "        \n",
    "        # 混同行列\n",
    "        y_pred = np.where((probs[:,1] ==  max(probs[:,1])) | (probs[:,1] > th_prob), 1, 0) #確率→0/1\n",
    "        cm = confusion_matrix(y_true=y_test, y_pred=y_pred)\n",
    "        cm_all += cm\n",
    "        \n",
    "       # 各特徴量の重み係数\n",
    "        weight = lr.coef_\n",
    "        \n",
    "        \n",
    "#         print_weight_map(weight, features)\n",
    "\n",
    "    auc = roc_auc_score(y_true_all, probs_all)\n",
    "    fpr, tpr, thresholds = roc_curve(y_true_all, probs_all)\n",
    "    \n",
    "#     plot_roc_curve(fpr, tpr)\n",
    "    \n",
    "    print(\"len: {0} , {1}\".format(len(y_true_all), len(probs_all) ))\n",
    "    print(\"confusion_matrix: \")\n",
    "    print(cm_all)\n",
    "    print(\"AUC: \")\n",
    "    print(auc)\n",
    "#     print()\n",
    "    return -auc"
   ]
  },
  {
   "cell_type": "code",
   "execution_count": 32,
   "metadata": {},
   "outputs": [],
   "source": [
    "def main():\n",
    "    np.set_printoptions(precision=3, suppress=True)\n",
    "    study = optuna.create_study()\n",
    "    study.optimize(train, n_trials=100)\n",
    "    print(study.best_trial)"
   ]
  },
  {
   "cell_type": "code",
   "execution_count": 34,
   "metadata": {
    "scrolled": true
   },
   "outputs": [
    {
     "name": "stdout",
     "output_type": "stream",
     "text": [
      " C_val:9.963958532085081e-05\n",
      "len: 211 , 211\n",
      "confusion_matrix: \n",
      "[[118.  51.]\n",
      " [ 11.  31.]]\n",
      "AUC: \n",
      "0.7558467173851788\n"
     ]
    },
    {
     "name": "stderr",
     "output_type": "stream",
     "text": [
      "[I 2019-08-21 01:38:08,869] Finished trial#0 resulted in value: -0.7558467173851788. Current best value is -0.7558467173851788 with parameters: {'C_val': 9.963958532085081e-05}.\n"
     ]
    },
    {
     "name": "stdout",
     "output_type": "stream",
     "text": [
      " C_val:0.000409930628192413\n",
      "len: 211 , 211\n",
      "confusion_matrix: \n",
      "[[118.  51.]\n",
      " [ 13.  29.]]\n",
      "AUC: \n",
      "0.7534516765285996\n"
     ]
    },
    {
     "name": "stderr",
     "output_type": "stream",
     "text": [
      "[I 2019-08-21 01:38:16,772] Finished trial#1 resulted in value: -0.7534516765285996. Current best value is -0.7558467173851788 with parameters: {'C_val': 9.963958532085081e-05}.\n"
     ]
    },
    {
     "name": "stdout",
     "output_type": "stream",
     "text": [
      " C_val:0.00048213174096335345\n",
      "len: 211 , 211\n",
      "confusion_matrix: \n",
      "[[117.  52.]\n",
      " [ 13.  29.]]\n",
      "AUC: \n",
      "0.7530290222597914\n"
     ]
    },
    {
     "name": "stderr",
     "output_type": "stream",
     "text": [
      "[I 2019-08-21 01:38:25,346] Finished trial#2 resulted in value: -0.7530290222597914. Current best value is -0.7558467173851788 with parameters: {'C_val': 9.963958532085081e-05}.\n"
     ]
    },
    {
     "name": "stdout",
     "output_type": "stream",
     "text": [
      " C_val:0.00018597774760543064\n",
      "len: 211 , 211\n",
      "confusion_matrix: \n",
      "[[118.  51.]\n",
      " [ 12.  30.]]\n",
      "AUC: \n",
      "0.7552831783601014\n"
     ]
    },
    {
     "name": "stderr",
     "output_type": "stream",
     "text": [
      "[I 2019-08-21 01:38:34,476] Finished trial#3 resulted in value: -0.7552831783601014. Current best value is -0.7558467173851788 with parameters: {'C_val': 9.963958532085081e-05}.\n"
     ]
    },
    {
     "name": "stdout",
     "output_type": "stream",
     "text": [
      " C_val:0.00045381527964360655\n",
      "len: 211 , 211\n",
      "confusion_matrix: \n",
      "[[117.  52.]\n",
      " [ 13.  29.]]\n",
      "AUC: \n",
      "0.7531699070160608\n"
     ]
    },
    {
     "name": "stderr",
     "output_type": "stream",
     "text": [
      "[I 2019-08-21 01:38:42,932] Finished trial#4 resulted in value: -0.7531699070160608. Current best value is -0.7558467173851788 with parameters: {'C_val': 9.963958532085081e-05}.\n"
     ]
    },
    {
     "name": "stdout",
     "output_type": "stream",
     "text": [
      " C_val:4.801938052502636e-05\n",
      "len: 211 , 211\n",
      "confusion_matrix: \n",
      "[[118.  51.]\n",
      " [ 11.  31.]]\n",
      "AUC: \n",
      "0.7561284868977176\n"
     ]
    },
    {
     "name": "stderr",
     "output_type": "stream",
     "text": [
      "[I 2019-08-21 01:38:51,758] Finished trial#5 resulted in value: -0.7561284868977176. Current best value is -0.7561284868977176 with parameters: {'C_val': 4.801938052502636e-05}.\n"
     ]
    },
    {
     "name": "stdout",
     "output_type": "stream",
     "text": [
      " C_val:0.000688968451304336\n",
      "len: 211 , 211\n",
      "confusion_matrix: \n",
      "[[117.  52.]\n",
      " [ 13.  29.]]\n",
      "AUC: \n",
      "0.752888137503522\n"
     ]
    },
    {
     "name": "stderr",
     "output_type": "stream",
     "text": [
      "[I 2019-08-21 01:39:00,194] Finished trial#6 resulted in value: -0.752888137503522. Current best value is -0.7561284868977176 with parameters: {'C_val': 4.801938052502636e-05}.\n"
     ]
    },
    {
     "name": "stdout",
     "output_type": "stream",
     "text": [
      " C_val:0.0007812283049908938\n",
      "len: 211 , 211\n",
      "confusion_matrix: \n",
      "[[117.  52.]\n",
      " [ 13.  29.]]\n",
      "AUC: \n",
      "0.7527472527472527\n"
     ]
    },
    {
     "name": "stderr",
     "output_type": "stream",
     "text": [
      "[I 2019-08-21 01:39:08,985] Finished trial#7 resulted in value: -0.7527472527472527. Current best value is -0.7561284868977176 with parameters: {'C_val': 4.801938052502636e-05}.\n"
     ]
    },
    {
     "name": "stdout",
     "output_type": "stream",
     "text": [
      " C_val:5.514056903487039e-05\n",
      "len: 211 , 211\n",
      "confusion_matrix: \n",
      "[[118.  51.]\n",
      " [ 11.  31.]]\n",
      "AUC: \n",
      "0.7559876021414482\n"
     ]
    },
    {
     "name": "stderr",
     "output_type": "stream",
     "text": [
      "[I 2019-08-21 01:39:17,131] Finished trial#8 resulted in value: -0.7559876021414482. Current best value is -0.7561284868977176 with parameters: {'C_val': 4.801938052502636e-05}.\n"
     ]
    },
    {
     "name": "stdout",
     "output_type": "stream",
     "text": [
      " C_val:9.774738454687726e-05\n",
      "len: 211 , 211\n",
      "confusion_matrix: \n",
      "[[118.  51.]\n",
      " [ 11.  31.]]\n",
      "AUC: \n",
      "0.7557058326289094\n"
     ]
    },
    {
     "name": "stderr",
     "output_type": "stream",
     "text": [
      "[I 2019-08-21 01:39:25,176] Finished trial#9 resulted in value: -0.7557058326289094. Current best value is -0.7561284868977176 with parameters: {'C_val': 4.801938052502636e-05}.\n"
     ]
    },
    {
     "name": "stdout",
     "output_type": "stream",
     "text": [
      " C_val:0.0002986250421630853\n",
      "len: 211 , 211\n",
      "confusion_matrix: \n",
      "[[118.  51.]\n",
      " [ 13.  29.]]\n",
      "AUC: \n",
      "0.7544378698224852\n"
     ]
    },
    {
     "name": "stderr",
     "output_type": "stream",
     "text": [
      "[I 2019-08-21 01:39:33,529] Finished trial#10 resulted in value: -0.7544378698224852. Current best value is -0.7561284868977176 with parameters: {'C_val': 4.801938052502636e-05}.\n"
     ]
    },
    {
     "name": "stdout",
     "output_type": "stream",
     "text": [
      " C_val:1.879060470318369e-05\n",
      "len: 211 , 211\n",
      "confusion_matrix: \n",
      "[[118.  51.]\n",
      " [ 11.  31.]]\n",
      "AUC: \n",
      "0.756692025922795\n"
     ]
    },
    {
     "name": "stderr",
     "output_type": "stream",
     "text": [
      "[I 2019-08-21 01:39:43,538] Finished trial#11 resulted in value: -0.756692025922795. Current best value is -0.756692025922795 with parameters: {'C_val': 1.879060470318369e-05}.\n"
     ]
    },
    {
     "name": "stdout",
     "output_type": "stream",
     "text": [
      " C_val:1.4217591031061077e-05\n",
      "len: 211 , 211\n",
      "confusion_matrix: \n",
      "[[118.  51.]\n",
      " [ 11.  31.]]\n",
      "AUC: \n",
      "0.756692025922795\n"
     ]
    },
    {
     "name": "stderr",
     "output_type": "stream",
     "text": [
      "[I 2019-08-21 01:39:53,315] Finished trial#12 resulted in value: -0.756692025922795. Current best value is -0.756692025922795 with parameters: {'C_val': 1.879060470318369e-05}.\n"
     ]
    },
    {
     "name": "stdout",
     "output_type": "stream",
     "text": [
      " C_val:0.00023027137583790788\n",
      "len: 211 , 211\n",
      "confusion_matrix: \n",
      "[[118.  51.]\n",
      " [ 12.  30.]]\n",
      "AUC: \n",
      "0.755142293603832\n"
     ]
    },
    {
     "name": "stderr",
     "output_type": "stream",
     "text": [
      "[I 2019-08-21 01:40:02,150] Finished trial#13 resulted in value: -0.755142293603832. Current best value is -0.756692025922795 with parameters: {'C_val': 1.879060470318369e-05}.\n"
     ]
    },
    {
     "name": "stdout",
     "output_type": "stream",
     "text": [
      " C_val:0.0006376440199378227\n",
      "len: 211 , 211\n",
      "confusion_matrix: \n",
      "[[117.  52.]\n",
      " [ 13.  29.]]\n",
      "AUC: \n",
      "0.7530290222597914\n"
     ]
    },
    {
     "name": "stderr",
     "output_type": "stream",
     "text": [
      "[I 2019-08-21 01:40:10,676] Finished trial#14 resulted in value: -0.7530290222597914. Current best value is -0.756692025922795 with parameters: {'C_val': 1.879060470318369e-05}.\n"
     ]
    },
    {
     "name": "stdout",
     "output_type": "stream",
     "text": [
      " C_val:0.000990609107739226\n",
      "len: 211 , 211\n",
      "confusion_matrix: \n",
      "[[116.  53.]\n",
      " [ 13.  29.]]\n",
      "AUC: \n",
      "0.751338405184559\n"
     ]
    },
    {
     "name": "stderr",
     "output_type": "stream",
     "text": [
      "[I 2019-08-21 01:40:18,897] Finished trial#15 resulted in value: -0.751338405184559. Current best value is -0.756692025922795 with parameters: {'C_val': 1.879060470318369e-05}.\n"
     ]
    },
    {
     "name": "stdout",
     "output_type": "stream",
     "text": [
      " C_val:2.7031205295232697e-06\n",
      "len: 211 , 211\n",
      "confusion_matrix: \n",
      "[[118.  51.]\n",
      " [ 11.  31.]]\n",
      "AUC: \n",
      "0.7568329106790644\n"
     ]
    },
    {
     "name": "stderr",
     "output_type": "stream",
     "text": [
      "[I 2019-08-21 01:40:27,430] Finished trial#16 resulted in value: -0.7568329106790644. Current best value is -0.7568329106790644 with parameters: {'C_val': 2.7031205295232697e-06}.\n"
     ]
    },
    {
     "name": "stdout",
     "output_type": "stream",
     "text": [
      " C_val:0.0003168752839726178\n",
      "len: 211 , 211\n",
      "confusion_matrix: \n",
      "[[118.  51.]\n",
      " [ 13.  29.]]\n",
      "AUC: \n",
      "0.7542969850662158\n"
     ]
    },
    {
     "name": "stderr",
     "output_type": "stream",
     "text": [
      "[I 2019-08-21 01:40:38,545] Finished trial#17 resulted in value: -0.7542969850662158. Current best value is -0.7568329106790644 with parameters: {'C_val': 2.7031205295232697e-06}.\n"
     ]
    },
    {
     "name": "stdout",
     "output_type": "stream",
     "text": [
      " C_val:0.0001717503021654207\n",
      "len: 211 , 211\n",
      "confusion_matrix: \n",
      "[[118.  51.]\n",
      " [ 11.  31.]]\n",
      "AUC: \n",
      "0.7554240631163708\n"
     ]
    },
    {
     "name": "stderr",
     "output_type": "stream",
     "text": [
      "[I 2019-08-21 01:40:47,518] Finished trial#18 resulted in value: -0.7554240631163708. Current best value is -0.7568329106790644 with parameters: {'C_val': 2.7031205295232697e-06}.\n"
     ]
    },
    {
     "name": "stdout",
     "output_type": "stream",
     "text": [
      " C_val:0.00087978183631394\n",
      "len: 211 , 211\n",
      "confusion_matrix: \n",
      "[[117.  52.]\n",
      " [ 13.  29.]]\n",
      "AUC: \n",
      "0.7514792899408284\n"
     ]
    },
    {
     "name": "stderr",
     "output_type": "stream",
     "text": [
      "[I 2019-08-21 01:40:55,550] Finished trial#19 resulted in value: -0.7514792899408284. Current best value is -0.7568329106790644 with parameters: {'C_val': 2.7031205295232697e-06}.\n"
     ]
    },
    {
     "name": "stdout",
     "output_type": "stream",
     "text": [
      " C_val:4.646196718856559e-06\n",
      "len: 211 , 211\n",
      "confusion_matrix: \n",
      "[[118.  51.]\n",
      " [ 11.  31.]]\n",
      "AUC: \n",
      "0.7568329106790644\n"
     ]
    },
    {
     "name": "stderr",
     "output_type": "stream",
     "text": [
      "[I 2019-08-21 01:41:04,940] Finished trial#20 resulted in value: -0.7568329106790644. Current best value is -0.7568329106790644 with parameters: {'C_val': 2.7031205295232697e-06}.\n"
     ]
    },
    {
     "name": "stdout",
     "output_type": "stream",
     "text": [
      " C_val:1.0756382105023105e-05\n",
      "len: 211 , 211\n",
      "confusion_matrix: \n",
      "[[118.  51.]\n",
      " [ 11.  31.]]\n",
      "AUC: \n",
      "0.7568329106790644\n"
     ]
    },
    {
     "name": "stderr",
     "output_type": "stream",
     "text": [
      "[I 2019-08-21 01:41:13,729] Finished trial#21 resulted in value: -0.7568329106790644. Current best value is -0.7568329106790644 with parameters: {'C_val': 2.7031205295232697e-06}.\n"
     ]
    },
    {
     "name": "stdout",
     "output_type": "stream",
     "text": [
      " C_val:0.00014668402124242024\n",
      "len: 211 , 211\n",
      "confusion_matrix: \n",
      "[[118.  51.]\n",
      " [ 11.  31.]]\n",
      "AUC: \n",
      "0.7554240631163708\n"
     ]
    },
    {
     "name": "stderr",
     "output_type": "stream",
     "text": [
      "[I 2019-08-21 01:41:22,954] Finished trial#22 resulted in value: -0.7554240631163708. Current best value is -0.7568329106790644 with parameters: {'C_val': 2.7031205295232697e-06}.\n"
     ]
    },
    {
     "name": "stdout",
     "output_type": "stream",
     "text": [
      " C_val:0.00027691062681571945\n",
      "len: 211 , 211\n",
      "confusion_matrix: \n",
      "[[118.  51.]\n",
      " [ 13.  29.]]\n",
      "AUC: \n",
      "0.7545787545787545\n"
     ]
    },
    {
     "name": "stderr",
     "output_type": "stream",
     "text": [
      "[I 2019-08-21 01:41:31,403] Finished trial#23 resulted in value: -0.7545787545787545. Current best value is -0.7568329106790644 with parameters: {'C_val': 2.7031205295232697e-06}.\n"
     ]
    },
    {
     "name": "stdout",
     "output_type": "stream",
     "text": [
      " C_val:2.6091215164609774e-05\n",
      "len: 211 , 211\n",
      "confusion_matrix: \n",
      "[[118.  51.]\n",
      " [ 11.  31.]]\n",
      "AUC: \n",
      "0.7564102564102563\n"
     ]
    },
    {
     "name": "stderr",
     "output_type": "stream",
     "text": [
      "[I 2019-08-21 01:41:39,804] Finished trial#24 resulted in value: -0.7564102564102563. Current best value is -0.7568329106790644 with parameters: {'C_val': 2.7031205295232697e-06}.\n"
     ]
    },
    {
     "name": "stdout",
     "output_type": "stream",
     "text": [
      " C_val:0.00012609744036016097\n",
      "len: 211 , 211\n",
      "confusion_matrix: \n",
      "[[118.  51.]\n",
      " [ 11.  31.]]\n",
      "AUC: \n",
      "0.7554240631163708\n"
     ]
    },
    {
     "name": "stderr",
     "output_type": "stream",
     "text": [
      "[I 2019-08-21 01:41:48,253] Finished trial#25 resulted in value: -0.7554240631163708. Current best value is -0.7568329106790644 with parameters: {'C_val': 2.7031205295232697e-06}.\n"
     ]
    },
    {
     "name": "stdout",
     "output_type": "stream",
     "text": [
      " C_val:6.155995008842389e-06\n",
      "len: 211 , 211\n",
      "confusion_matrix: \n",
      "[[118.  51.]\n",
      " [ 11.  31.]]\n",
      "AUC: \n",
      "0.7568329106790644\n"
     ]
    },
    {
     "name": "stderr",
     "output_type": "stream",
     "text": [
      "[I 2019-08-21 01:41:56,372] Finished trial#26 resulted in value: -0.7568329106790644. Current best value is -0.7568329106790644 with parameters: {'C_val': 2.7031205295232697e-06}.\n"
     ]
    },
    {
     "name": "stdout",
     "output_type": "stream",
     "text": [
      " C_val:0.00021726365517935007\n",
      "len: 211 , 211\n",
      "confusion_matrix: \n",
      "[[118.  51.]\n",
      " [ 12.  30.]]\n",
      "AUC: \n",
      "0.755142293603832\n"
     ]
    },
    {
     "name": "stderr",
     "output_type": "stream",
     "text": [
      "[I 2019-08-21 01:42:04,573] Finished trial#27 resulted in value: -0.755142293603832. Current best value is -0.7568329106790644 with parameters: {'C_val': 2.7031205295232697e-06}.\n"
     ]
    },
    {
     "name": "stdout",
     "output_type": "stream",
     "text": [
      " C_val:0.00037339933303392044\n",
      "len: 211 , 211\n",
      "confusion_matrix: \n",
      "[[118.  51.]\n",
      " [ 13.  29.]]\n",
      "AUC: \n",
      "0.7538743307974077\n"
     ]
    },
    {
     "name": "stderr",
     "output_type": "stream",
     "text": [
      "[I 2019-08-21 01:42:12,725] Finished trial#28 resulted in value: -0.7538743307974077. Current best value is -0.7568329106790644 with parameters: {'C_val': 2.7031205295232697e-06}.\n"
     ]
    },
    {
     "name": "stdout",
     "output_type": "stream",
     "text": [
      " C_val:0.0001043658530702231\n",
      "len: 211 , 211\n",
      "confusion_matrix: \n",
      "[[118.  51.]\n",
      " [ 11.  31.]]\n",
      "AUC: \n",
      "0.7558467173851788\n"
     ]
    },
    {
     "name": "stderr",
     "output_type": "stream",
     "text": [
      "[I 2019-08-21 01:42:21,428] Finished trial#29 resulted in value: -0.7558467173851788. Current best value is -0.7568329106790644 with parameters: {'C_val': 2.7031205295232697e-06}.\n"
     ]
    },
    {
     "name": "stdout",
     "output_type": "stream",
     "text": [
      " C_val:0.0005673556932066682\n",
      "len: 211 , 211\n",
      "confusion_matrix: \n",
      "[[117.  52.]\n",
      " [ 13.  29.]]\n",
      "AUC: \n",
      "0.7531699070160608\n"
     ]
    },
    {
     "name": "stderr",
     "output_type": "stream",
     "text": [
      "[I 2019-08-21 01:42:30,023] Finished trial#30 resulted in value: -0.7531699070160608. Current best value is -0.7568329106790644 with parameters: {'C_val': 2.7031205295232697e-06}.\n"
     ]
    },
    {
     "name": "stdout",
     "output_type": "stream",
     "text": [
      " C_val:3.4827642898444447e-06\n",
      "len: 211 , 211\n",
      "confusion_matrix: \n",
      "[[118.  51.]\n",
      " [ 11.  31.]]\n",
      "AUC: \n",
      "0.7568329106790644\n"
     ]
    },
    {
     "name": "stderr",
     "output_type": "stream",
     "text": [
      "[I 2019-08-21 01:42:38,625] Finished trial#31 resulted in value: -0.7568329106790644. Current best value is -0.7568329106790644 with parameters: {'C_val': 2.7031205295232697e-06}.\n"
     ]
    },
    {
     "name": "stdout",
     "output_type": "stream",
     "text": [
      " C_val:8.728206757324693e-05\n",
      "len: 211 , 211\n",
      "confusion_matrix: \n",
      "[[118.  51.]\n",
      " [ 11.  31.]]\n",
      "AUC: \n",
      "0.7558467173851788\n"
     ]
    },
    {
     "name": "stderr",
     "output_type": "stream",
     "text": [
      "[I 2019-08-21 01:42:47,026] Finished trial#32 resulted in value: -0.7558467173851788. Current best value is -0.7568329106790644 with parameters: {'C_val': 2.7031205295232697e-06}.\n"
     ]
    },
    {
     "name": "stdout",
     "output_type": "stream",
     "text": [
      " C_val:4.419372801572513e-06\n",
      "len: 211 , 211\n",
      "confusion_matrix: \n",
      "[[118.  51.]\n",
      " [ 11.  31.]]\n",
      "AUC: \n",
      "0.7568329106790644\n"
     ]
    },
    {
     "name": "stderr",
     "output_type": "stream",
     "text": [
      "[I 2019-08-21 01:42:55,699] Finished trial#33 resulted in value: -0.7568329106790644. Current best value is -0.7568329106790644 with parameters: {'C_val': 2.7031205295232697e-06}.\n"
     ]
    },
    {
     "name": "stdout",
     "output_type": "stream",
     "text": [
      " C_val:7.29871230132659e-05\n",
      "len: 211 , 211\n",
      "confusion_matrix: \n",
      "[[118.  51.]\n",
      " [ 11.  31.]]\n",
      "AUC: \n",
      "0.7558467173851788\n"
     ]
    },
    {
     "name": "stderr",
     "output_type": "stream",
     "text": [
      "[I 2019-08-21 01:43:04,283] Finished trial#34 resulted in value: -0.7558467173851788. Current best value is -0.7568329106790644 with parameters: {'C_val': 2.7031205295232697e-06}.\n"
     ]
    },
    {
     "name": "stdout",
     "output_type": "stream",
     "text": [
      " C_val:0.0001812191577818158\n",
      "len: 211 , 211\n",
      "confusion_matrix: \n",
      "[[118.  51.]\n",
      " [ 12.  30.]]\n",
      "AUC: \n",
      "0.7554240631163708\n"
     ]
    },
    {
     "name": "stderr",
     "output_type": "stream",
     "text": [
      "[I 2019-08-21 01:43:12,936] Finished trial#35 resulted in value: -0.7554240631163708. Current best value is -0.7568329106790644 with parameters: {'C_val': 2.7031205295232697e-06}.\n"
     ]
    },
    {
     "name": "stdout",
     "output_type": "stream",
     "text": [
      " C_val:7.878921553577813e-06\n",
      "len: 211 , 211\n",
      "confusion_matrix: \n",
      "[[118.  51.]\n",
      " [ 11.  31.]]\n",
      "AUC: \n",
      "0.7568329106790644\n"
     ]
    },
    {
     "name": "stderr",
     "output_type": "stream",
     "text": [
      "[I 2019-08-21 01:43:21,225] Finished trial#36 resulted in value: -0.7568329106790644. Current best value is -0.7568329106790644 with parameters: {'C_val': 2.7031205295232697e-06}.\n"
     ]
    },
    {
     "name": "stdout",
     "output_type": "stream",
     "text": [
      " C_val:0.00023832474248698633\n",
      "len: 211 , 211\n",
      "confusion_matrix: \n",
      "[[118.  51.]\n",
      " [ 12.  30.]]\n",
      "AUC: \n",
      "0.755142293603832\n"
     ]
    },
    {
     "name": "stderr",
     "output_type": "stream",
     "text": [
      "[I 2019-08-21 01:43:29,794] Finished trial#37 resulted in value: -0.755142293603832. Current best value is -0.7568329106790644 with parameters: {'C_val': 2.7031205295232697e-06}.\n"
     ]
    },
    {
     "name": "stdout",
     "output_type": "stream",
     "text": [
      " C_val:0.00013965985944138927\n",
      "len: 211 , 211\n",
      "confusion_matrix: \n",
      "[[118.  51.]\n",
      " [ 11.  31.]]\n",
      "AUC: \n",
      "0.7554240631163708\n"
     ]
    },
    {
     "name": "stderr",
     "output_type": "stream",
     "text": [
      "[I 2019-08-21 01:43:38,036] Finished trial#38 resulted in value: -0.7554240631163708. Current best value is -0.7568329106790644 with parameters: {'C_val': 2.7031205295232697e-06}.\n"
     ]
    },
    {
     "name": "stdout",
     "output_type": "stream",
     "text": [
      " C_val:6.807214747497187e-05\n",
      "len: 211 , 211\n",
      "confusion_matrix: \n",
      "[[118.  51.]\n",
      " [ 11.  31.]]\n",
      "AUC: \n",
      "0.7558467173851788\n"
     ]
    },
    {
     "name": "stderr",
     "output_type": "stream",
     "text": [
      "[I 2019-08-21 01:43:49,040] Finished trial#39 resulted in value: -0.7558467173851788. Current best value is -0.7568329106790644 with parameters: {'C_val': 2.7031205295232697e-06}.\n"
     ]
    },
    {
     "name": "stdout",
     "output_type": "stream",
     "text": [
      " C_val:0.00040861798045013705\n",
      "len: 211 , 211\n",
      "confusion_matrix: \n",
      "[[118.  51.]\n",
      " [ 13.  29.]]\n",
      "AUC: \n",
      "0.753592561284869\n"
     ]
    },
    {
     "name": "stderr",
     "output_type": "stream",
     "text": [
      "[I 2019-08-21 01:43:58,013] Finished trial#40 resulted in value: -0.753592561284869. Current best value is -0.7568329106790644 with parameters: {'C_val': 2.7031205295232697e-06}.\n"
     ]
    },
    {
     "name": "stdout",
     "output_type": "stream",
     "text": [
      " C_val:5.466499670348404e-06\n",
      "len: 211 , 211\n",
      "confusion_matrix: \n",
      "[[118.  51.]\n",
      " [ 11.  31.]]\n",
      "AUC: \n",
      "0.7568329106790644\n"
     ]
    },
    {
     "name": "stderr",
     "output_type": "stream",
     "text": [
      "[I 2019-08-21 01:44:07,411] Finished trial#41 resulted in value: -0.7568329106790644. Current best value is -0.7568329106790644 with parameters: {'C_val': 2.7031205295232697e-06}.\n"
     ]
    },
    {
     "name": "stdout",
     "output_type": "stream",
     "text": [
      " C_val:5.56846173045061e-05\n",
      "len: 211 , 211\n",
      "confusion_matrix: \n",
      "[[118.  51.]\n",
      " [ 11.  31.]]\n",
      "AUC: \n",
      "0.7559876021414482\n"
     ]
    },
    {
     "name": "stderr",
     "output_type": "stream",
     "text": [
      "[I 2019-08-21 01:44:16,290] Finished trial#42 resulted in value: -0.7559876021414482. Current best value is -0.7568329106790644 with parameters: {'C_val': 2.7031205295232697e-06}.\n"
     ]
    },
    {
     "name": "stdout",
     "output_type": "stream",
     "text": [
      " C_val:0.00011349342036466149\n",
      "len: 211 , 211\n",
      "confusion_matrix: \n",
      "[[118.  51.]\n",
      " [ 11.  31.]]\n",
      "AUC: \n",
      "0.7558467173851788\n"
     ]
    },
    {
     "name": "stderr",
     "output_type": "stream",
     "text": [
      "[I 2019-08-21 01:44:25,458] Finished trial#43 resulted in value: -0.7558467173851788. Current best value is -0.7568329106790644 with parameters: {'C_val': 2.7031205295232697e-06}.\n"
     ]
    },
    {
     "name": "stdout",
     "output_type": "stream",
     "text": [
      " C_val:2.1592511997595073e-06\n",
      "len: 211 , 211\n",
      "confusion_matrix: \n",
      "[[118.  51.]\n",
      " [ 11.  31.]]\n",
      "AUC: \n",
      "0.7568329106790644\n"
     ]
    },
    {
     "name": "stderr",
     "output_type": "stream",
     "text": [
      "[I 2019-08-21 01:44:35,142] Finished trial#44 resulted in value: -0.7568329106790644. Current best value is -0.7568329106790644 with parameters: {'C_val': 2.7031205295232697e-06}.\n"
     ]
    },
    {
     "name": "stdout",
     "output_type": "stream",
     "text": [
      " C_val:5.179848212675171e-05\n",
      "len: 211 , 211\n",
      "confusion_matrix: \n",
      "[[118.  51.]\n",
      " [ 11.  31.]]\n",
      "AUC: \n",
      "0.7561284868977176\n"
     ]
    },
    {
     "name": "stderr",
     "output_type": "stream",
     "text": [
      "[I 2019-08-21 01:44:43,312] Finished trial#45 resulted in value: -0.7561284868977176. Current best value is -0.7568329106790644 with parameters: {'C_val': 2.7031205295232697e-06}.\n"
     ]
    },
    {
     "name": "stdout",
     "output_type": "stream",
     "text": [
      " C_val:0.0001597318742969836\n",
      "len: 211 , 211\n",
      "confusion_matrix: \n",
      "[[118.  51.]\n",
      " [ 11.  31.]]\n",
      "AUC: \n",
      "0.7552831783601014\n"
     ]
    },
    {
     "name": "stderr",
     "output_type": "stream",
     "text": [
      "[I 2019-08-21 01:44:52,145] Finished trial#46 resulted in value: -0.7552831783601014. Current best value is -0.7568329106790644 with parameters: {'C_val': 2.7031205295232697e-06}.\n"
     ]
    },
    {
     "name": "stdout",
     "output_type": "stream",
     "text": [
      " C_val:4.3120510488640635e-06\n",
      "len: 211 , 211\n",
      "confusion_matrix: \n",
      "[[118.  51.]\n",
      " [ 11.  31.]]\n",
      "AUC: \n",
      "0.7568329106790644\n"
     ]
    },
    {
     "name": "stderr",
     "output_type": "stream",
     "text": [
      "[I 2019-08-21 01:45:00,973] Finished trial#47 resulted in value: -0.7568329106790644. Current best value is -0.7568329106790644 with parameters: {'C_val': 2.7031205295232697e-06}.\n"
     ]
    },
    {
     "name": "stdout",
     "output_type": "stream",
     "text": [
      " C_val:9.22359860429546e-05\n",
      "len: 211 , 211\n",
      "confusion_matrix: \n",
      "[[118.  51.]\n",
      " [ 11.  31.]]\n",
      "AUC: \n",
      "0.7557058326289094\n"
     ]
    },
    {
     "name": "stderr",
     "output_type": "stream",
     "text": [
      "[I 2019-08-21 01:45:09,530] Finished trial#48 resulted in value: -0.7557058326289094. Current best value is -0.7568329106790644 with parameters: {'C_val': 2.7031205295232697e-06}.\n"
     ]
    },
    {
     "name": "stdout",
     "output_type": "stream",
     "text": [
      " C_val:4.4254433038748245e-05\n",
      "len: 211 , 211\n",
      "confusion_matrix: \n",
      "[[118.  51.]\n",
      " [ 11.  31.]]\n",
      "AUC: \n",
      "0.7561284868977176\n"
     ]
    },
    {
     "name": "stderr",
     "output_type": "stream",
     "text": [
      "[I 2019-08-21 01:45:18,380] Finished trial#49 resulted in value: -0.7561284868977176. Current best value is -0.7568329106790644 with parameters: {'C_val': 2.7031205295232697e-06}.\n"
     ]
    },
    {
     "name": "stdout",
     "output_type": "stream",
     "text": [
      " C_val:0.00020512759800212697\n",
      "len: 211 , 211\n",
      "confusion_matrix: \n",
      "[[118.  51.]\n",
      " [ 12.  30.]]\n",
      "AUC: \n",
      "0.755142293603832\n"
     ]
    },
    {
     "name": "stderr",
     "output_type": "stream",
     "text": [
      "[I 2019-08-21 01:45:26,907] Finished trial#50 resulted in value: -0.755142293603832. Current best value is -0.7568329106790644 with parameters: {'C_val': 2.7031205295232697e-06}.\n"
     ]
    },
    {
     "name": "stdout",
     "output_type": "stream",
     "text": [
      " C_val:3.536695526818103e-06\n",
      "len: 211 , 211\n",
      "confusion_matrix: \n",
      "[[118.  51.]\n",
      " [ 11.  31.]]\n",
      "AUC: \n",
      "0.7568329106790644\n"
     ]
    },
    {
     "name": "stderr",
     "output_type": "stream",
     "text": [
      "[I 2019-08-21 01:45:35,698] Finished trial#51 resulted in value: -0.7568329106790644. Current best value is -0.7568329106790644 with parameters: {'C_val': 2.7031205295232697e-06}.\n"
     ]
    },
    {
     "name": "stdout",
     "output_type": "stream",
     "text": [
      " C_val:3.994722913078707e-05\n",
      "len: 211 , 211\n",
      "confusion_matrix: \n",
      "[[118.  51.]\n",
      " [ 11.  31.]]\n",
      "AUC: \n",
      "0.756269371653987\n"
     ]
    },
    {
     "name": "stderr",
     "output_type": "stream",
     "text": [
      "[I 2019-08-21 01:45:43,795] Finished trial#52 resulted in value: -0.756269371653987. Current best value is -0.7568329106790644 with parameters: {'C_val': 2.7031205295232697e-06}.\n"
     ]
    },
    {
     "name": "stdout",
     "output_type": "stream",
     "text": [
      " C_val:7.0899087284463575e-06\n",
      "len: 211 , 211\n",
      "confusion_matrix: \n",
      "[[118.  51.]\n",
      " [ 11.  31.]]\n",
      "AUC: \n",
      "0.7568329106790644\n"
     ]
    },
    {
     "name": "stderr",
     "output_type": "stream",
     "text": [
      "[I 2019-08-21 01:45:52,085] Finished trial#53 resulted in value: -0.7568329106790644. Current best value is -0.7568329106790644 with parameters: {'C_val': 2.7031205295232697e-06}.\n"
     ]
    },
    {
     "name": "stdout",
     "output_type": "stream",
     "text": [
      " C_val:0.00011459883678261702\n",
      "len: 211 , 211\n",
      "confusion_matrix: \n",
      "[[118.  51.]\n",
      " [ 11.  31.]]\n",
      "AUC: \n",
      "0.7558467173851788\n"
     ]
    },
    {
     "name": "stderr",
     "output_type": "stream",
     "text": [
      "[I 2019-08-21 01:46:00,401] Finished trial#54 resulted in value: -0.7558467173851788. Current best value is -0.7568329106790644 with parameters: {'C_val': 2.7031205295232697e-06}.\n"
     ]
    },
    {
     "name": "stdout",
     "output_type": "stream",
     "text": [
      " C_val:7.584144980426921e-05\n",
      "len: 211 , 211\n",
      "confusion_matrix: \n",
      "[[118.  51.]\n",
      " [ 11.  31.]]\n",
      "AUC: \n",
      "0.7558467173851788\n"
     ]
    },
    {
     "name": "stderr",
     "output_type": "stream",
     "text": [
      "[I 2019-08-21 01:46:09,532] Finished trial#55 resulted in value: -0.7558467173851788. Current best value is -0.7568329106790644 with parameters: {'C_val': 2.7031205295232697e-06}.\n"
     ]
    },
    {
     "name": "stdout",
     "output_type": "stream",
     "text": [
      " C_val:3.6954404108767e-05\n",
      "len: 211 , 211\n",
      "confusion_matrix: \n",
      "[[118.  51.]\n",
      " [ 11.  31.]]\n",
      "AUC: \n",
      "0.756269371653987\n"
     ]
    },
    {
     "name": "stderr",
     "output_type": "stream",
     "text": [
      "[I 2019-08-21 01:46:18,365] Finished trial#56 resulted in value: -0.756269371653987. Current best value is -0.7568329106790644 with parameters: {'C_val': 2.7031205295232697e-06}.\n"
     ]
    },
    {
     "name": "stdout",
     "output_type": "stream",
     "text": [
      " C_val:0.0007659315441198443\n",
      "len: 211 , 211\n",
      "confusion_matrix: \n",
      "[[117.  52.]\n",
      " [ 13.  29.]]\n",
      "AUC: \n",
      "0.7527472527472527\n"
     ]
    },
    {
     "name": "stderr",
     "output_type": "stream",
     "text": [
      "[I 2019-08-21 01:46:26,851] Finished trial#57 resulted in value: -0.7527472527472527. Current best value is -0.7568329106790644 with parameters: {'C_val': 2.7031205295232697e-06}.\n"
     ]
    },
    {
     "name": "stdout",
     "output_type": "stream",
     "text": [
      " C_val:0.00014857219975212727\n",
      "len: 211 , 211\n",
      "confusion_matrix: \n",
      "[[118.  51.]\n",
      " [ 11.  31.]]\n",
      "AUC: \n",
      "0.7554240631163708\n"
     ]
    },
    {
     "name": "stderr",
     "output_type": "stream",
     "text": [
      "[I 2019-08-21 01:46:35,453] Finished trial#58 resulted in value: -0.7554240631163708. Current best value is -0.7568329106790644 with parameters: {'C_val': 2.7031205295232697e-06}.\n"
     ]
    },
    {
     "name": "stdout",
     "output_type": "stream",
     "text": [
      " C_val:0.000993768948951066\n",
      "len: 211 , 211\n",
      "confusion_matrix: \n",
      "[[116.  53.]\n",
      " [ 13.  29.]]\n",
      "AUC: \n",
      "0.751338405184559\n"
     ]
    },
    {
     "name": "stderr",
     "output_type": "stream",
     "text": [
      "[I 2019-08-21 01:46:44,004] Finished trial#59 resulted in value: -0.751338405184559. Current best value is -0.7568329106790644 with parameters: {'C_val': 2.7031205295232697e-06}.\n"
     ]
    },
    {
     "name": "stdout",
     "output_type": "stream",
     "text": [
      " C_val:1.420857329618384e-06\n",
      "len: 211 , 211\n",
      "confusion_matrix: \n",
      "[[118.  51.]\n",
      " [ 11.  31.]]\n",
      "AUC: \n",
      "0.7568329106790644\n"
     ]
    },
    {
     "name": "stderr",
     "output_type": "stream",
     "text": [
      "[I 2019-08-21 01:46:53,294] Finished trial#60 resulted in value: -0.7568329106790644. Current best value is -0.7568329106790644 with parameters: {'C_val': 2.7031205295232697e-06}.\n"
     ]
    },
    {
     "name": "stdout",
     "output_type": "stream",
     "text": [
      " C_val:2.814386729610338e-05\n",
      "len: 211 , 211\n",
      "confusion_matrix: \n",
      "[[118.  51.]\n",
      " [ 11.  31.]]\n",
      "AUC: \n",
      "0.7564102564102563\n"
     ]
    },
    {
     "name": "stderr",
     "output_type": "stream",
     "text": [
      "[I 2019-08-21 01:47:02,244] Finished trial#61 resulted in value: -0.7564102564102563. Current best value is -0.7568329106790644 with parameters: {'C_val': 2.7031205295232697e-06}.\n"
     ]
    },
    {
     "name": "stdout",
     "output_type": "stream",
     "text": [
      " C_val:8.091316069155044e-05\n",
      "len: 211 , 211\n",
      "confusion_matrix: \n",
      "[[118.  51.]\n",
      " [ 11.  31.]]\n",
      "AUC: \n",
      "0.7559876021414482\n"
     ]
    },
    {
     "name": "stderr",
     "output_type": "stream",
     "text": [
      "[I 2019-08-21 01:47:11,002] Finished trial#62 resulted in value: -0.7559876021414482. Current best value is -0.7568329106790644 with parameters: {'C_val': 2.7031205295232697e-06}.\n"
     ]
    },
    {
     "name": "stdout",
     "output_type": "stream",
     "text": [
      " C_val:3.755967660097304e-06\n",
      "len: 211 , 211\n",
      "confusion_matrix: \n",
      "[[118.  51.]\n",
      " [ 11.  31.]]\n",
      "AUC: \n",
      "0.7568329106790644\n"
     ]
    },
    {
     "name": "stderr",
     "output_type": "stream",
     "text": [
      "[I 2019-08-21 01:47:19,310] Finished trial#63 resulted in value: -0.7568329106790644. Current best value is -0.7568329106790644 with parameters: {'C_val': 2.7031205295232697e-06}.\n"
     ]
    },
    {
     "name": "stdout",
     "output_type": "stream",
     "text": [
      " C_val:8.863433328821532e-06\n",
      "len: 211 , 211\n",
      "confusion_matrix: \n",
      "[[118.  51.]\n",
      " [ 11.  31.]]\n",
      "AUC: \n",
      "0.7568329106790644\n"
     ]
    },
    {
     "name": "stderr",
     "output_type": "stream",
     "text": [
      "[I 2019-08-21 01:47:28,472] Finished trial#64 resulted in value: -0.7568329106790644. Current best value is -0.7568329106790644 with parameters: {'C_val': 2.7031205295232697e-06}.\n"
     ]
    },
    {
     "name": "stdout",
     "output_type": "stream",
     "text": [
      " C_val:0.00010567576926003532\n",
      "len: 211 , 211\n",
      "confusion_matrix: \n",
      "[[118.  51.]\n",
      " [ 11.  31.]]\n",
      "AUC: \n",
      "0.7558467173851788\n"
     ]
    },
    {
     "name": "stderr",
     "output_type": "stream",
     "text": [
      "[I 2019-08-21 01:47:36,925] Finished trial#65 resulted in value: -0.7558467173851788. Current best value is -0.7568329106790644 with parameters: {'C_val': 2.7031205295232697e-06}.\n"
     ]
    },
    {
     "name": "stdout",
     "output_type": "stream",
     "text": [
      " C_val:0.0005479301207877038\n",
      "len: 211 , 211\n",
      "confusion_matrix: \n",
      "[[117.  52.]\n",
      " [ 13.  29.]]\n",
      "AUC: \n",
      "0.7531699070160608\n"
     ]
    },
    {
     "name": "stderr",
     "output_type": "stream",
     "text": [
      "[I 2019-08-21 01:47:45,036] Finished trial#66 resulted in value: -0.7531699070160608. Current best value is -0.7568329106790644 with parameters: {'C_val': 2.7031205295232697e-06}.\n"
     ]
    },
    {
     "name": "stdout",
     "output_type": "stream",
     "text": [
      " C_val:0.00026435976985748276\n",
      "len: 211 , 211\n",
      "confusion_matrix: \n",
      "[[118.  51.]\n",
      " [ 13.  29.]]\n",
      "AUC: \n",
      "0.7548605240912932\n"
     ]
    },
    {
     "name": "stderr",
     "output_type": "stream",
     "text": [
      "[I 2019-08-21 01:47:53,077] Finished trial#67 resulted in value: -0.7548605240912932. Current best value is -0.7568329106790644 with parameters: {'C_val': 2.7031205295232697e-06}.\n"
     ]
    },
    {
     "name": "stdout",
     "output_type": "stream",
     "text": [
      " C_val:4.502111946930309e-05\n",
      "len: 211 , 211\n",
      "confusion_matrix: \n",
      "[[118.  51.]\n",
      " [ 11.  31.]]\n",
      "AUC: \n",
      "0.7561284868977176\n"
     ]
    },
    {
     "name": "stderr",
     "output_type": "stream",
     "text": [
      "[I 2019-08-21 01:48:01,368] Finished trial#68 resulted in value: -0.7561284868977176. Current best value is -0.7568329106790644 with parameters: {'C_val': 2.7031205295232697e-06}.\n"
     ]
    },
    {
     "name": "stdout",
     "output_type": "stream",
     "text": [
      " C_val:0.0001902877108702411\n",
      "len: 211 , 211\n",
      "confusion_matrix: \n",
      "[[118.  51.]\n",
      " [ 12.  30.]]\n",
      "AUC: \n",
      "0.7554240631163708\n"
     ]
    },
    {
     "name": "stderr",
     "output_type": "stream",
     "text": [
      "[I 2019-08-21 01:48:10,237] Finished trial#69 resulted in value: -0.7554240631163708. Current best value is -0.7568329106790644 with parameters: {'C_val': 2.7031205295232697e-06}.\n"
     ]
    },
    {
     "name": "stdout",
     "output_type": "stream",
     "text": [
      " C_val:0.00012467401139292634\n",
      "len: 211 , 211\n",
      "confusion_matrix: \n",
      "[[118.  51.]\n",
      " [ 11.  31.]]\n",
      "AUC: \n",
      "0.7554240631163708\n"
     ]
    },
    {
     "name": "stderr",
     "output_type": "stream",
     "text": [
      "[I 2019-08-21 01:48:19,075] Finished trial#70 resulted in value: -0.7554240631163708. Current best value is -0.7568329106790644 with parameters: {'C_val': 2.7031205295232697e-06}.\n"
     ]
    },
    {
     "name": "stdout",
     "output_type": "stream",
     "text": [
      " C_val:6.108375333216457e-06\n",
      "len: 211 , 211\n",
      "confusion_matrix: \n",
      "[[118.  51.]\n",
      " [ 11.  31.]]\n",
      "AUC: \n",
      "0.7568329106790644\n"
     ]
    },
    {
     "name": "stderr",
     "output_type": "stream",
     "text": [
      "[I 2019-08-21 01:48:28,094] Finished trial#71 resulted in value: -0.7568329106790644. Current best value is -0.7568329106790644 with parameters: {'C_val': 2.7031205295232697e-06}.\n"
     ]
    },
    {
     "name": "stdout",
     "output_type": "stream",
     "text": [
      " C_val:6.910309707056694e-05\n",
      "len: 211 , 211\n",
      "confusion_matrix: \n",
      "[[118.  51.]\n",
      " [ 11.  31.]]\n",
      "AUC: \n",
      "0.7558467173851788\n"
     ]
    },
    {
     "name": "stderr",
     "output_type": "stream",
     "text": [
      "[I 2019-08-21 01:48:37,431] Finished trial#72 resulted in value: -0.7558467173851788. Current best value is -0.7568329106790644 with parameters: {'C_val': 2.7031205295232697e-06}.\n"
     ]
    },
    {
     "name": "stdout",
     "output_type": "stream",
     "text": [
      " C_val:2.4187954898298336e-05\n",
      "len: 211 , 211\n",
      "confusion_matrix: \n",
      "[[118.  51.]\n",
      " [ 11.  31.]]\n",
      "AUC: \n",
      "0.7564102564102563\n"
     ]
    },
    {
     "name": "stderr",
     "output_type": "stream",
     "text": [
      "[I 2019-08-21 01:48:50,589] Finished trial#73 resulted in value: -0.7564102564102563. Current best value is -0.7568329106790644 with parameters: {'C_val': 2.7031205295232697e-06}.\n"
     ]
    },
    {
     "name": "stdout",
     "output_type": "stream",
     "text": [
      " C_val:3.196120566066683e-05\n",
      "len: 211 , 211\n",
      "confusion_matrix: \n",
      "[[118.  51.]\n",
      " [ 11.  31.]]\n",
      "AUC: \n",
      "0.7564102564102563\n"
     ]
    },
    {
     "name": "stderr",
     "output_type": "stream",
     "text": [
      "[I 2019-08-21 01:48:59,160] Finished trial#74 resulted in value: -0.7564102564102563. Current best value is -0.7568329106790644 with parameters: {'C_val': 2.7031205295232697e-06}.\n"
     ]
    },
    {
     "name": "stdout",
     "output_type": "stream",
     "text": [
      " C_val:7.11072614254901e-05\n",
      "len: 211 , 211\n",
      "confusion_matrix: \n",
      "[[118.  51.]\n",
      " [ 11.  31.]]\n",
      "AUC: \n",
      "0.7558467173851788\n"
     ]
    },
    {
     "name": "stderr",
     "output_type": "stream",
     "text": [
      "[I 2019-08-21 01:49:07,476] Finished trial#75 resulted in value: -0.7558467173851788. Current best value is -0.7568329106790644 with parameters: {'C_val': 2.7031205295232697e-06}.\n"
     ]
    },
    {
     "name": "stdout",
     "output_type": "stream",
     "text": [
      " C_val:0.000949770232154676\n",
      "len: 211 , 211\n",
      "confusion_matrix: \n",
      "[[116.  53.]\n",
      " [ 13.  29.]]\n",
      "AUC: \n",
      "0.7516201746970977\n"
     ]
    },
    {
     "name": "stderr",
     "output_type": "stream",
     "text": [
      "[I 2019-08-21 01:49:16,236] Finished trial#76 resulted in value: -0.7516201746970977. Current best value is -0.7568329106790644 with parameters: {'C_val': 2.7031205295232697e-06}.\n"
     ]
    },
    {
     "name": "stdout",
     "output_type": "stream",
     "text": [
      " C_val:5.602698913940988e-06\n",
      "len: 211 , 211\n",
      "confusion_matrix: \n",
      "[[118.  51.]\n",
      " [ 11.  31.]]\n",
      "AUC: \n",
      "0.7568329106790644\n"
     ]
    },
    {
     "name": "stderr",
     "output_type": "stream",
     "text": [
      "[I 2019-08-21 01:49:24,448] Finished trial#77 resulted in value: -0.7568329106790644. Current best value is -0.7568329106790644 with parameters: {'C_val': 2.7031205295232697e-06}.\n"
     ]
    },
    {
     "name": "stdout",
     "output_type": "stream",
     "text": [
      " C_val:0.0003370014406740216\n",
      "len: 211 , 211\n",
      "confusion_matrix: \n",
      "[[118.  51.]\n",
      " [ 13.  29.]]\n",
      "AUC: \n",
      "0.7540152155536771\n"
     ]
    },
    {
     "name": "stderr",
     "output_type": "stream",
     "text": [
      "[I 2019-08-21 01:49:32,673] Finished trial#78 resulted in value: -0.7540152155536771. Current best value is -0.7568329106790644 with parameters: {'C_val': 2.7031205295232697e-06}.\n"
     ]
    },
    {
     "name": "stdout",
     "output_type": "stream",
     "text": [
      " C_val:1.6612763130503828e-06\n",
      "len: 211 , 211\n",
      "confusion_matrix: \n",
      "[[118.  51.]\n",
      " [ 11.  31.]]\n",
      "AUC: \n",
      "0.7568329106790644\n"
     ]
    },
    {
     "name": "stderr",
     "output_type": "stream",
     "text": [
      "[I 2019-08-21 01:49:40,663] Finished trial#79 resulted in value: -0.7568329106790644. Current best value is -0.7568329106790644 with parameters: {'C_val': 2.7031205295232697e-06}.\n"
     ]
    },
    {
     "name": "stdout",
     "output_type": "stream",
     "text": [
      " C_val:0.00010252942488010992\n",
      "len: 211 , 211\n",
      "confusion_matrix: \n",
      "[[118.  51.]\n",
      " [ 11.  31.]]\n",
      "AUC: \n",
      "0.7558467173851788\n"
     ]
    },
    {
     "name": "stderr",
     "output_type": "stream",
     "text": [
      "[I 2019-08-21 01:49:48,772] Finished trial#80 resulted in value: -0.7558467173851788. Current best value is -0.7568329106790644 with parameters: {'C_val': 2.7031205295232697e-06}.\n"
     ]
    },
    {
     "name": "stdout",
     "output_type": "stream",
     "text": [
      " C_val:2.641865504882705e-06\n",
      "len: 211 , 211\n",
      "confusion_matrix: \n",
      "[[118.  51.]\n",
      " [ 11.  31.]]\n",
      "AUC: \n",
      "0.7568329106790644\n"
     ]
    },
    {
     "name": "stderr",
     "output_type": "stream",
     "text": [
      "[I 2019-08-21 01:49:57,073] Finished trial#81 resulted in value: -0.7568329106790644. Current best value is -0.7568329106790644 with parameters: {'C_val': 2.7031205295232697e-06}.\n"
     ]
    },
    {
     "name": "stdout",
     "output_type": "stream",
     "text": [
      " C_val:5.279195186726749e-05\n",
      "len: 211 , 211\n",
      "confusion_matrix: \n",
      "[[118.  51.]\n",
      " [ 11.  31.]]\n",
      "AUC: \n",
      "0.7561284868977176\n"
     ]
    },
    {
     "name": "stderr",
     "output_type": "stream",
     "text": [
      "[I 2019-08-21 01:50:06,270] Finished trial#82 resulted in value: -0.7561284868977176. Current best value is -0.7568329106790644 with parameters: {'C_val': 2.7031205295232697e-06}.\n"
     ]
    },
    {
     "name": "stdout",
     "output_type": "stream",
     "text": [
      " C_val:3.442578582226443e-05\n",
      "len: 211 , 211\n",
      "confusion_matrix: \n",
      "[[118.  51.]\n",
      " [ 11.  31.]]\n",
      "AUC: \n",
      "0.7564102564102563\n"
     ]
    },
    {
     "name": "stderr",
     "output_type": "stream",
     "text": [
      "[I 2019-08-21 01:50:15,441] Finished trial#83 resulted in value: -0.7564102564102563. Current best value is -0.7568329106790644 with parameters: {'C_val': 2.7031205295232697e-06}.\n"
     ]
    },
    {
     "name": "stdout",
     "output_type": "stream",
     "text": [
      " C_val:8.618918100087753e-05\n",
      "len: 211 , 211\n",
      "confusion_matrix: \n",
      "[[118.  51.]\n",
      " [ 11.  31.]]\n",
      "AUC: \n",
      "0.7559876021414482\n"
     ]
    },
    {
     "name": "stderr",
     "output_type": "stream",
     "text": [
      "[I 2019-08-21 01:50:23,653] Finished trial#84 resulted in value: -0.7559876021414482. Current best value is -0.7568329106790644 with parameters: {'C_val': 2.7031205295232697e-06}.\n"
     ]
    },
    {
     "name": "stdout",
     "output_type": "stream",
     "text": [
      " C_val:5.357340508218782e-05\n",
      "len: 211 , 211\n",
      "confusion_matrix: \n",
      "[[118.  51.]\n",
      " [ 11.  31.]]\n",
      "AUC: \n",
      "0.7561284868977176\n"
     ]
    },
    {
     "name": "stderr",
     "output_type": "stream",
     "text": [
      "[I 2019-08-21 01:50:31,796] Finished trial#85 resulted in value: -0.7561284868977176. Current best value is -0.7568329106790644 with parameters: {'C_val': 2.7031205295232697e-06}.\n"
     ]
    },
    {
     "name": "stdout",
     "output_type": "stream",
     "text": [
      " C_val:1.76758799023306e-05\n",
      "len: 211 , 211\n",
      "confusion_matrix: \n",
      "[[118.  51.]\n",
      " [ 11.  31.]]\n",
      "AUC: \n",
      "0.756692025922795\n"
     ]
    },
    {
     "name": "stderr",
     "output_type": "stream",
     "text": [
      "[I 2019-08-21 01:50:40,098] Finished trial#86 resulted in value: -0.756692025922795. Current best value is -0.7568329106790644 with parameters: {'C_val': 2.7031205295232697e-06}.\n"
     ]
    },
    {
     "name": "stdout",
     "output_type": "stream",
     "text": [
      " C_val:0.00013219018598971744\n",
      "len: 211 , 211\n",
      "confusion_matrix: \n",
      "[[118.  51.]\n",
      " [ 11.  31.]]\n",
      "AUC: \n",
      "0.7554240631163708\n"
     ]
    },
    {
     "name": "stderr",
     "output_type": "stream",
     "text": [
      "[I 2019-08-21 01:50:51,336] Finished trial#87 resulted in value: -0.7554240631163708. Current best value is -0.7568329106790644 with parameters: {'C_val': 2.7031205295232697e-06}.\n"
     ]
    },
    {
     "name": "stdout",
     "output_type": "stream",
     "text": [
      " C_val:2.0474485469496127e-05\n",
      "len: 211 , 211\n",
      "confusion_matrix: \n",
      "[[118.  51.]\n",
      " [ 11.  31.]]\n",
      "AUC: \n",
      "0.756692025922795\n"
     ]
    },
    {
     "name": "stderr",
     "output_type": "stream",
     "text": [
      "[I 2019-08-21 01:51:01,602] Finished trial#88 resulted in value: -0.756692025922795. Current best value is -0.7568329106790644 with parameters: {'C_val': 2.7031205295232697e-06}.\n"
     ]
    },
    {
     "name": "stdout",
     "output_type": "stream",
     "text": [
      " C_val:0.00015683820469668264\n",
      "len: 211 , 211\n",
      "confusion_matrix: \n",
      "[[118.  51.]\n",
      " [ 11.  31.]]\n",
      "AUC: \n",
      "0.7552831783601014\n"
     ]
    },
    {
     "name": "stderr",
     "output_type": "stream",
     "text": [
      "[I 2019-08-21 01:51:10,621] Finished trial#89 resulted in value: -0.7552831783601014. Current best value is -0.7568329106790644 with parameters: {'C_val': 2.7031205295232697e-06}.\n"
     ]
    },
    {
     "name": "stdout",
     "output_type": "stream",
     "text": [
      " C_val:6.29506129885273e-05\n",
      "len: 211 , 211\n",
      "confusion_matrix: \n",
      "[[118.  51.]\n",
      " [ 11.  31.]]\n",
      "AUC: \n",
      "0.7558467173851788\n"
     ]
    },
    {
     "name": "stderr",
     "output_type": "stream",
     "text": [
      "[I 2019-08-21 01:51:20,072] Finished trial#90 resulted in value: -0.7558467173851788. Current best value is -0.7568329106790644 with parameters: {'C_val': 2.7031205295232697e-06}.\n"
     ]
    },
    {
     "name": "stdout",
     "output_type": "stream",
     "text": [
      " C_val:2.5946871776686985e-06\n",
      "len: 211 , 211\n",
      "confusion_matrix: \n",
      "[[118.  51.]\n",
      " [ 11.  31.]]\n",
      "AUC: \n",
      "0.7568329106790644\n"
     ]
    },
    {
     "name": "stderr",
     "output_type": "stream",
     "text": [
      "[I 2019-08-21 01:51:29,384] Finished trial#91 resulted in value: -0.7568329106790644. Current best value is -0.7568329106790644 with parameters: {'C_val': 2.7031205295232697e-06}.\n"
     ]
    },
    {
     "name": "stdout",
     "output_type": "stream",
     "text": [
      " C_val:3.222247188113994e-05\n",
      "len: 211 , 211\n",
      "confusion_matrix: \n",
      "[[118.  51.]\n",
      " [ 11.  31.]]\n",
      "AUC: \n",
      "0.7564102564102563\n"
     ]
    },
    {
     "name": "stderr",
     "output_type": "stream",
     "text": [
      "[I 2019-08-21 01:51:39,591] Finished trial#92 resulted in value: -0.7564102564102563. Current best value is -0.7568329106790644 with parameters: {'C_val': 2.7031205295232697e-06}.\n"
     ]
    },
    {
     "name": "stdout",
     "output_type": "stream",
     "text": [
      " C_val:9.289310606620795e-05\n",
      "len: 211 , 211\n",
      "confusion_matrix: \n",
      "[[118.  51.]\n",
      " [ 11.  31.]]\n",
      "AUC: \n",
      "0.7557058326289094\n"
     ]
    },
    {
     "name": "stderr",
     "output_type": "stream",
     "text": [
      "[I 2019-08-21 01:51:48,146] Finished trial#93 resulted in value: -0.7557058326289094. Current best value is -0.7568329106790644 with parameters: {'C_val': 2.7031205295232697e-06}.\n"
     ]
    },
    {
     "name": "stdout",
     "output_type": "stream",
     "text": [
      " C_val:3.6251919736918565e-06\n",
      "len: 211 , 211\n",
      "confusion_matrix: \n",
      "[[118.  51.]\n",
      " [ 11.  31.]]\n",
      "AUC: \n",
      "0.7568329106790644\n"
     ]
    },
    {
     "name": "stderr",
     "output_type": "stream",
     "text": [
      "[I 2019-08-21 01:51:56,952] Finished trial#94 resulted in value: -0.7568329106790644. Current best value is -0.7568329106790644 with parameters: {'C_val': 2.7031205295232697e-06}.\n"
     ]
    },
    {
     "name": "stdout",
     "output_type": "stream",
     "text": [
      " C_val:0.00047108424921062363\n",
      "len: 211 , 211\n",
      "confusion_matrix: \n",
      "[[117.  52.]\n",
      " [ 13.  29.]]\n",
      "AUC: \n",
      "0.7530290222597914\n"
     ]
    },
    {
     "name": "stderr",
     "output_type": "stream",
     "text": [
      "[I 2019-08-21 01:52:05,626] Finished trial#95 resulted in value: -0.7530290222597914. Current best value is -0.7568329106790644 with parameters: {'C_val': 2.7031205295232697e-06}.\n"
     ]
    },
    {
     "name": "stdout",
     "output_type": "stream",
     "text": [
      " C_val:5.897089936259354e-05\n",
      "len: 211 , 211\n",
      "confusion_matrix: \n",
      "[[118.  51.]\n",
      " [ 11.  31.]]\n",
      "AUC: \n",
      "0.7559876021414482\n"
     ]
    },
    {
     "name": "stderr",
     "output_type": "stream",
     "text": [
      "[I 2019-08-21 01:52:14,590] Finished trial#96 resulted in value: -0.7559876021414482. Current best value is -0.7568329106790644 with parameters: {'C_val': 2.7031205295232697e-06}.\n"
     ]
    },
    {
     "name": "stdout",
     "output_type": "stream",
     "text": [
      " C_val:2.3190974176656247e-05\n",
      "len: 211 , 211\n",
      "confusion_matrix: \n",
      "[[118.  51.]\n",
      " [ 11.  31.]]\n",
      "AUC: \n",
      "0.7565511411665257\n"
     ]
    },
    {
     "name": "stderr",
     "output_type": "stream",
     "text": [
      "[I 2019-08-21 01:52:22,794] Finished trial#97 resulted in value: -0.7565511411665257. Current best value is -0.7568329106790644 with parameters: {'C_val': 2.7031205295232697e-06}.\n"
     ]
    },
    {
     "name": "stdout",
     "output_type": "stream",
     "text": [
      " C_val:1.647600045989233e-06\n",
      "len: 211 , 211\n",
      "confusion_matrix: \n",
      "[[118.  51.]\n",
      " [ 11.  31.]]\n",
      "AUC: \n",
      "0.7568329106790644\n"
     ]
    },
    {
     "name": "stderr",
     "output_type": "stream",
     "text": [
      "[I 2019-08-21 01:52:30,890] Finished trial#98 resulted in value: -0.7568329106790644. Current best value is -0.7568329106790644 with parameters: {'C_val': 2.7031205295232697e-06}.\n"
     ]
    },
    {
     "name": "stdout",
     "output_type": "stream",
     "text": [
      " C_val:1.6827092494418026e-06\n",
      "len: 211 , 211\n",
      "confusion_matrix: \n",
      "[[118.  51.]\n",
      " [ 11.  31.]]\n",
      "AUC: \n",
      "0.7568329106790644\n"
     ]
    },
    {
     "name": "stderr",
     "output_type": "stream",
     "text": [
      "[I 2019-08-21 01:52:41,001] Finished trial#99 resulted in value: -0.7568329106790644. Current best value is -0.7568329106790644 with parameters: {'C_val': 2.7031205295232697e-06}.\n"
     ]
    },
    {
     "name": "stdout",
     "output_type": "stream",
     "text": [
      "FrozenTrial(number=16, state=<TrialState.COMPLETE: 1>, value=-0.7568329106790644, datetime_start=datetime.datetime(2019, 8, 21, 1, 40, 18, 900144), datetime_complete=datetime.datetime(2019, 8, 21, 1, 40, 27, 428912), params={'C_val': 2.7031205295232697e-06}, distributions={'C_val': UniformDistribution(low=1e-06, high=0.001)}, user_attrs={}, system_attrs={'_number': 16}, intermediate_values={}, params_in_internal_repr={'C_val': 2.7031205295232697e-06}, trial_id=16)\n"
     ]
    }
   ],
   "source": [
    "# l2\n",
    "if __name__ == \"__main__\":\n",
    "    main()"
   ]
  },
  {
   "cell_type": "code",
   "execution_count": null,
   "metadata": {
    "scrolled": true
   },
   "outputs": [],
   "source": [
    "#  best value is -0.7550014088475626 with parameters: {'C_val': 0.00025433628983389037}."
   ]
  }
 ],
 "metadata": {
  "kernelspec": {
   "display_name": "Python 3",
   "language": "python",
   "name": "python3"
  },
  "language_info": {
   "codemirror_mode": {
    "name": "ipython",
    "version": 3
   },
   "file_extension": ".py",
   "mimetype": "text/x-python",
   "name": "python",
   "nbconvert_exporter": "python",
   "pygments_lexer": "ipython3",
   "version": "3.6.8"
  }
 },
 "nbformat": 4,
 "nbformat_minor": 2
}
