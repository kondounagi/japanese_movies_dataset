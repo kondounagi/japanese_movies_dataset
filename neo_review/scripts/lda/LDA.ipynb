{
 "cells": [
  {
   "cell_type": "code",
   "execution_count": 323,
   "metadata": {},
   "outputs": [],
   "source": [
    "import numpy as np\n",
    "import json\n",
    "import csv\n",
    "import pandas as pd\n",
    "import matplotlib.pyplot as plt\n",
    "from sklearn.discriminant_analysis import LinearDiscriminantAnalysis as LDA\n",
    "from sklearn.discriminant_analysis import QuadraticDiscriminantAnalysis as QDA\n",
    "from sklearn.metrics import confusion_matrix\n",
    "from sklearn.preprocessing import StandardScaler\n",
    "from sklearn.metrics import roc_auc_score\n",
    "from sklearn.metrics import roc_curve\n",
    "import seaborn as sns\n",
    "import optuna\n",
    "%matplotlib inline\n",
    "np.set_printoptions(precision=3, suppress=True)"
   ]
  },
  {
   "cell_type": "code",
   "execution_count": 324,
   "metadata": {},
   "outputs": [],
   "source": [
    "def load_data():\n",
    "    data = pd.read_pickle('../../data/dataframes/data.pkl')\n",
    "    nomination_onehot = pd.read_pickle('../../data/dataframes/nomination_onehot.pkl')\n",
    "    selected_performers_onehot = pd.read_pickle('../../data/dataframes/selected_performers_onehot.pkl')\n",
    "    selected_directors_onehot = pd.read_pickle('../../data/dataframes/selected_directors_onehot.pkl')\n",
    "    selected_studio_onehot = pd.read_pickle('../../data/dataframes/selected_studio_onehot.pkl')\n",
    "    selected_scriptwriter_onehot = pd.read_pickle('../../data/dataframes/selected_scriptwriter_onehot.pkl')\n",
    "    review_dataframe = pd.read_pickle('../../data/dataframes/review_dataframe.pkl')\n",
    "    \n",
    "    # selected_directors_onehotとselected_scriptwriter_onehotの重複した人\n",
    "    duplicate_scriptwriter = set(selected_directors_onehot.columns) & set(selected_scriptwriter_onehot.columns)\n",
    "    selected_scriptwriter_onehot = selected_scriptwriter_onehot.drop(duplicate_scriptwriter, axis=1)\n",
    "    \n",
    "    frames = [nomination_onehot,selected_performers_onehot,selected_directors_onehot,selected_studio_onehot,selected_scriptwriter_onehot]\n",
    "    \n",
    "    df = data\n",
    "    for f in frames:\n",
    "        df = pd.merge(df, f, on='id')\n",
    "    \n",
    "    drop_elements = [\"director\", \"other_nominates\", \"performers\", \"production_studio\", \"scriptwriter\", \"title\",  'selected_performers', 'selected_directors', 'selected_studio',\n",
    "       'selected_scriptwriter']\n",
    "    df_drop = df.drop(drop_elements, axis=1)\n",
    "\n",
    "    return df_drop, data"
   ]
  },
  {
   "cell_type": "code",
   "execution_count": 325,
   "metadata": {},
   "outputs": [],
   "source": [
    "def standard(x_train, x_test):\n",
    "    stdsc = StandardScaler()\n",
    "\n",
    "    # 訓練用のデータを標準化\n",
    "    x_train_std = stdsc.fit_transform(x_train)\n",
    "    # 訓練用データを基準にテストデータも標準化\n",
    "    x_test_std = stdsc.transform(x_test)\n",
    "    \n",
    "    return x_train_std, x_test_std"
   ]
  },
  {
   "cell_type": "code",
   "execution_count": 326,
   "metadata": {
    "scrolled": false
   },
   "outputs": [],
   "source": [
    "# 多重共線性の排除 (共分散0.7以上のfeatureを削除)\n",
    "\n",
    "def collinearity(X):\n",
    "\n",
    "    # 改善前\n",
    "#     cor=np.corrcoef(X.T)\n",
    "#     type(cor)\n",
    "#     plt.figure(figsize=(20, 20))\n",
    "#     sns.heatmap(cor, vmin=0.70,vmax=1,cmap=plt.cm.Spectral_r)\n",
    "\n",
    "    # 改善\n",
    "    drop_clm = ['吉田一夫']\n",
    "    X = X.drop(drop_clm,  axis=1)\n",
    "\n",
    "    # 改善後\n",
    "    \n",
    "#     cor=np.corrcoef(X.T)\n",
    "#     type(cor)\n",
    "#     plt.figure(figsize=(20, 20))\n",
    "#     sns.heatmap(cor, vmin=0.80,vmax=1,cmap=plt.cm.Spectral_r)\n",
    "    \n",
    "    return X"
   ]
  },
  {
   "cell_type": "code",
   "execution_count": 327,
   "metadata": {},
   "outputs": [],
   "source": [
    "def data_processing(test_year):\n",
    "    df, data = load_data()\n",
    "    \n",
    "    df = collinearity(df)\n",
    "    \n",
    "    train = df.loc[df[\"year\"] != test_year]\n",
    "    test = df.loc[df[\"year\"] == test_year]\n",
    "    \n",
    "    # 入力データの作成\n",
    "    y_train = train['prize'].ravel()\n",
    "    x_train = train.drop(['prize', 'year'], axis=1)\n",
    "    \n",
    "    features = x_train.columns\n",
    "    \n",
    "    x_train = x_train.values # 学習データ\n",
    "    \n",
    "    # テストデータの作成\n",
    "    y_test = test['prize'].ravel()\n",
    "    x_test = test.drop(['prize', 'year'], axis=1)\n",
    "    x_test = x_test.values # テストデータ\n",
    "\n",
    "    # データの標準化\n",
    "    x_train_std, x_test_std = standard(x_train, x_test)\n",
    "    \n",
    "    return x_train_std, x_test_std, y_train, y_test, features"
   ]
  },
  {
   "cell_type": "code",
   "execution_count": 328,
   "metadata": {},
   "outputs": [],
   "source": [
    "def plot_roc_curve(fpr, tpr, auc):\n",
    "    # ROC曲線をプロット\n",
    "    plt.plot(fpr, tpr, label='ROC curve (area = %.2f)'%auc)\n",
    "    plt.legend()\n",
    "    plt.title('ROC curve')\n",
    "    plt.xlabel('False Positive Rate')\n",
    "    plt.ylabel('True Positive Rate')\n",
    "    plt.grid(True)\n",
    "    plt.show()"
   ]
  },
  {
   "cell_type": "code",
   "execution_count": 335,
   "metadata": {},
   "outputs": [],
   "source": [
    "def lda(trial):\n",
    "    \n",
    "    th_prob = 0.5\n",
    "    \n",
    "    shrinkage = trial.suggest_uniform('shrinkage', 0, 1)\n",
    "    \n",
    "    print(\"shrinkage: \", shrinkage)\n",
    "    cm_all = np.zeros((2, 2))\n",
    "    \n",
    "    # 予測した確率全体を格納\n",
    "    probs_all = np.array([])\n",
    "    y_true_all = np.array([])\n",
    "    \n",
    "    for y in range(1978, 2020):\n",
    "        \n",
    "        # データの生成\n",
    "        x_train_std, x_test_std, y_train, y_test, features = data_processing(y)\n",
    "        \n",
    "        # 学習\n",
    "        trained = LDA(solver=\"eigen\", shrinkage=shrinkage).fit(x_train_std,  y_train)\n",
    "        \n",
    "        # 予測(確率)\n",
    "        probs = trained.predict_proba(x_test_std)\n",
    "        probs_all = np.hstack((probs_all, probs[:,1]))\n",
    "        y_true_all = np.hstack((y_true_all, y_test))\n",
    "#         print(probs)\n",
    "#         print()\n",
    "        \n",
    "        # 混同行列\n",
    "        y_pred = np.where((probs[:,1] ==  max(probs[:,1])) | (probs[:,1] > th_prob), 1, 0) #確率→0/1\n",
    "        cm = confusion_matrix(y_true=y_test, y_pred=y_pred)\n",
    "        cm_all += cm\n",
    "\n",
    "    auc = roc_auc_score(y_true_all, probs_all)\n",
    "    fpr, tpr, thresholds = roc_curve(y_true_all, probs_all)\n",
    "    \n",
    "#     plot_roc_curve(fpr, tpr, auc)\n",
    "    \n",
    "    print(\"len: {0} , {1}\".format(len(y_true_all), len(probs_all) ))\n",
    "    print(\"confusion_matrix: \")\n",
    "    print(cm_all)\n",
    "    print(\"AUC: \")\n",
    "    print(auc)\n",
    "\n",
    "    return -auc"
   ]
  },
  {
   "cell_type": "code",
   "execution_count": 336,
   "metadata": {
    "scrolled": false
   },
   "outputs": [],
   "source": [
    "def main():\n",
    "    study = optuna.create_study()\n",
    "    study.optimize(lda, n_trials=100)\n",
    "    print(study.best_trial)"
   ]
  },
  {
   "cell_type": "code",
   "execution_count": 337,
   "metadata": {},
   "outputs": [
    {
     "name": "stdout",
     "output_type": "stream",
     "text": [
      "shrinkage:  0.05698468902981546\n",
      "len: 211 , 211\n",
      "confusion_matrix: \n",
      "[[139.  30.]\n",
      " [ 21.  21.]]\n",
      "AUC: \n",
      "0.6748379825302903\n"
     ]
    },
    {
     "name": "stderr",
     "output_type": "stream",
     "text": [
      "[I 2019-08-21 05:54:33,804] Finished trial#0 resulted in value: -0.6748379825302903. Current best value is -0.6748379825302903 with parameters: {'shrinkage': 0.05698468902981546}.\n"
     ]
    },
    {
     "name": "stdout",
     "output_type": "stream",
     "text": [
      "shrinkage:  0.9800238647558587\n",
      "len: 211 , 211\n",
      "confusion_matrix: \n",
      "[[148.  21.]\n",
      " [ 18.  24.]]\n",
      "AUC: \n",
      "0.7447168216398985\n"
     ]
    },
    {
     "name": "stderr",
     "output_type": "stream",
     "text": [
      "[I 2019-08-21 05:54:42,283] Finished trial#1 resulted in value: -0.7447168216398985. Current best value is -0.7447168216398985 with parameters: {'shrinkage': 0.9800238647558587}.\n"
     ]
    },
    {
     "name": "stdout",
     "output_type": "stream",
     "text": [
      "shrinkage:  0.6936686144557905\n",
      "len: 211 , 211\n",
      "confusion_matrix: \n",
      "[[144.  25.]\n",
      " [ 20.  22.]]\n",
      "AUC: \n",
      "0.7214708368554522\n"
     ]
    },
    {
     "name": "stderr",
     "output_type": "stream",
     "text": [
      "[I 2019-08-21 05:54:51,822] Finished trial#2 resulted in value: -0.7214708368554522. Current best value is -0.7447168216398985 with parameters: {'shrinkage': 0.9800238647558587}.\n"
     ]
    },
    {
     "name": "stdout",
     "output_type": "stream",
     "text": [
      "shrinkage:  0.2644787970344997\n",
      "len: 211 , 211\n",
      "confusion_matrix: \n",
      "[[141.  28.]\n",
      " [ 21.  21.]]\n",
      "AUC: \n",
      "0.678923640462102\n"
     ]
    },
    {
     "name": "stderr",
     "output_type": "stream",
     "text": [
      "[I 2019-08-21 05:55:00,676] Finished trial#3 resulted in value: -0.678923640462102. Current best value is -0.7447168216398985 with parameters: {'shrinkage': 0.9800238647558587}.\n"
     ]
    },
    {
     "name": "stdout",
     "output_type": "stream",
     "text": [
      "shrinkage:  0.2209086826720683\n",
      "len: 211 , 211\n",
      "confusion_matrix: \n",
      "[[141.  28.]\n",
      " [ 22.  20.]]\n",
      "AUC: \n",
      "0.6752606367990983\n"
     ]
    },
    {
     "name": "stderr",
     "output_type": "stream",
     "text": [
      "[I 2019-08-21 05:55:09,190] Finished trial#4 resulted in value: -0.6752606367990983. Current best value is -0.7447168216398985 with parameters: {'shrinkage': 0.9800238647558587}.\n"
     ]
    },
    {
     "name": "stdout",
     "output_type": "stream",
     "text": [
      "shrinkage:  0.9348731974304363\n",
      "len: 211 , 211\n",
      "confusion_matrix: \n",
      "[[147.  22.]\n",
      " [ 21.  21.]]\n",
      "AUC: \n",
      "0.7421808960270498\n"
     ]
    },
    {
     "name": "stderr",
     "output_type": "stream",
     "text": [
      "[I 2019-08-21 05:55:18,687] Finished trial#5 resulted in value: -0.7421808960270498. Current best value is -0.7447168216398985 with parameters: {'shrinkage': 0.9800238647558587}.\n"
     ]
    },
    {
     "name": "stdout",
     "output_type": "stream",
     "text": [
      "shrinkage:  0.7170265252709648\n",
      "len: 211 , 211\n",
      "confusion_matrix: \n",
      "[[146.  23.]\n",
      " [ 20.  22.]]\n",
      "AUC: \n",
      "0.7237249929557622\n"
     ]
    },
    {
     "name": "stderr",
     "output_type": "stream",
     "text": [
      "[I 2019-08-21 05:55:30,762] Finished trial#6 resulted in value: -0.7237249929557622. Current best value is -0.7447168216398985 with parameters: {'shrinkage': 0.9800238647558587}.\n"
     ]
    },
    {
     "name": "stdout",
     "output_type": "stream",
     "text": [
      "shrinkage:  0.30152212480963536\n",
      "len: 211 , 211\n",
      "confusion_matrix: \n",
      "[[141.  28.]\n",
      " [ 21.  21.]]\n",
      "AUC: \n",
      "0.6816004508312201\n"
     ]
    },
    {
     "name": "stderr",
     "output_type": "stream",
     "text": [
      "[I 2019-08-21 05:55:39,860] Finished trial#7 resulted in value: -0.6816004508312201. Current best value is -0.7447168216398985 with parameters: {'shrinkage': 0.9800238647558587}.\n"
     ]
    },
    {
     "name": "stdout",
     "output_type": "stream",
     "text": [
      "shrinkage:  0.5555617274201786\n",
      "len: 211 , 211\n",
      "confusion_matrix: \n",
      "[[143.  26.]\n",
      " [ 20.  22.]]\n",
      "AUC: \n",
      "0.7113271344040575\n"
     ]
    },
    {
     "name": "stderr",
     "output_type": "stream",
     "text": [
      "[I 2019-08-21 05:55:49,002] Finished trial#8 resulted in value: -0.7113271344040575. Current best value is -0.7447168216398985 with parameters: {'shrinkage': 0.9800238647558587}.\n"
     ]
    },
    {
     "name": "stdout",
     "output_type": "stream",
     "text": [
      "shrinkage:  0.7150850396590233\n",
      "len: 211 , 211\n",
      "confusion_matrix: \n",
      "[[145.  24.]\n",
      " [ 20.  22.]]\n",
      "AUC: \n",
      "0.7235841081994928\n"
     ]
    },
    {
     "name": "stderr",
     "output_type": "stream",
     "text": [
      "[I 2019-08-21 05:55:58,132] Finished trial#9 resulted in value: -0.7235841081994928. Current best value is -0.7447168216398985 with parameters: {'shrinkage': 0.9800238647558587}.\n"
     ]
    },
    {
     "name": "stdout",
     "output_type": "stream",
     "text": [
      "shrinkage:  0.9909456786655961\n",
      "len: 211 , 211\n",
      "confusion_matrix: \n",
      "[[148.  21.]\n",
      " [ 18.  24.]]\n",
      "AUC: \n",
      "0.7451394759087067\n"
     ]
    },
    {
     "name": "stderr",
     "output_type": "stream",
     "text": [
      "[I 2019-08-21 05:56:07,373] Finished trial#10 resulted in value: -0.7451394759087067. Current best value is -0.7451394759087067 with parameters: {'shrinkage': 0.9909456786655961}.\n"
     ]
    },
    {
     "name": "stdout",
     "output_type": "stream",
     "text": [
      "shrinkage:  0.9880362195078457\n",
      "len: 211 , 211\n",
      "confusion_matrix: \n",
      "[[148.  21.]\n",
      " [ 18.  24.]]\n",
      "AUC: \n",
      "0.7444350521273598\n"
     ]
    },
    {
     "name": "stderr",
     "output_type": "stream",
     "text": [
      "[I 2019-08-21 05:56:16,975] Finished trial#11 resulted in value: -0.7444350521273598. Current best value is -0.7451394759087067 with parameters: {'shrinkage': 0.9909456786655961}.\n"
     ]
    },
    {
     "name": "stdout",
     "output_type": "stream",
     "text": [
      "shrinkage:  0.9019599613608634\n",
      "len: 211 , 211\n",
      "confusion_matrix: \n",
      "[[146.  23.]\n",
      " [ 21.  21.]]\n",
      "AUC: \n",
      "0.7386587771203155\n"
     ]
    },
    {
     "name": "stderr",
     "output_type": "stream",
     "text": [
      "[I 2019-08-21 05:56:25,991] Finished trial#12 resulted in value: -0.7386587771203155. Current best value is -0.7451394759087067 with parameters: {'shrinkage': 0.9909456786655961}.\n"
     ]
    },
    {
     "name": "stdout",
     "output_type": "stream",
     "text": [
      "shrinkage:  0.9991351368453869\n",
      "len: 211 , 211\n",
      "confusion_matrix: \n",
      "[[148.  21.]\n",
      " [ 18.  24.]]\n",
      "AUC: \n",
      "0.745280360664976\n"
     ]
    },
    {
     "name": "stderr",
     "output_type": "stream",
     "text": [
      "[I 2019-08-21 05:56:37,342] Finished trial#13 resulted in value: -0.745280360664976. Current best value is -0.745280360664976 with parameters: {'shrinkage': 0.9991351368453869}.\n"
     ]
    },
    {
     "name": "stdout",
     "output_type": "stream",
     "text": [
      "shrinkage:  0.8377008209740877\n",
      "len: 211 , 211\n",
      "confusion_matrix: \n",
      "[[147.  22.]\n",
      " [ 20.  22.]]\n",
      "AUC: \n",
      "0.7340095801634263\n"
     ]
    },
    {
     "name": "stderr",
     "output_type": "stream",
     "text": [
      "[I 2019-08-21 05:56:46,360] Finished trial#14 resulted in value: -0.7340095801634263. Current best value is -0.745280360664976 with parameters: {'shrinkage': 0.9991351368453869}.\n"
     ]
    },
    {
     "name": "stdout",
     "output_type": "stream",
     "text": [
      "shrinkage:  0.49089263894566615\n",
      "len: 211 , 211\n",
      "confusion_matrix: \n",
      "[[142.  27.]\n",
      " [ 21.  21.]]\n",
      "AUC: \n",
      "0.7032967032967034\n"
     ]
    },
    {
     "name": "stderr",
     "output_type": "stream",
     "text": [
      "[I 2019-08-21 05:56:56,508] Finished trial#15 resulted in value: -0.7032967032967034. Current best value is -0.745280360664976 with parameters: {'shrinkage': 0.9991351368453869}.\n"
     ]
    },
    {
     "name": "stdout",
     "output_type": "stream",
     "text": [
      "shrinkage:  0.8408880435743992\n",
      "len: 211 , 211\n",
      "confusion_matrix: \n",
      "[[147.  22.]\n",
      " [ 20.  22.]]\n",
      "AUC: \n",
      "0.7341504649196957\n"
     ]
    },
    {
     "name": "stderr",
     "output_type": "stream",
     "text": [
      "[I 2019-08-21 05:57:08,040] Finished trial#16 resulted in value: -0.7341504649196957. Current best value is -0.745280360664976 with parameters: {'shrinkage': 0.9991351368453869}.\n"
     ]
    },
    {
     "name": "stdout",
     "output_type": "stream",
     "text": [
      "shrinkage:  0.5102532797914692\n",
      "len: 211 , 211\n",
      "confusion_matrix: \n",
      "[[142.  27.]\n",
      " [ 21.  21.]]\n",
      "AUC: \n",
      "0.7062552831783602\n"
     ]
    },
    {
     "name": "stderr",
     "output_type": "stream",
     "text": [
      "[I 2019-08-21 05:57:17,512] Finished trial#17 resulted in value: -0.7062552831783602. Current best value is -0.745280360664976 with parameters: {'shrinkage': 0.9991351368453869}.\n"
     ]
    },
    {
     "name": "stdout",
     "output_type": "stream",
     "text": [
      "shrinkage:  0.8038507629001816\n",
      "len: 211 , 211\n",
      "confusion_matrix: \n",
      "[[147.  22.]\n",
      " [ 20.  22.]]\n",
      "AUC: \n",
      "0.7306283460129614\n"
     ]
    },
    {
     "name": "stderr",
     "output_type": "stream",
     "text": [
      "[I 2019-08-21 05:57:26,708] Finished trial#18 resulted in value: -0.7306283460129614. Current best value is -0.745280360664976 with parameters: {'shrinkage': 0.9991351368453869}.\n"
     ]
    },
    {
     "name": "stdout",
     "output_type": "stream",
     "text": [
      "shrinkage:  0.9910396802956415\n",
      "len: 211 , 211\n",
      "confusion_matrix: \n",
      "[[148.  21.]\n",
      " [ 18.  24.]]\n",
      "AUC: \n",
      "0.7451394759087067\n"
     ]
    },
    {
     "name": "stderr",
     "output_type": "stream",
     "text": [
      "[I 2019-08-21 05:57:36,039] Finished trial#19 resulted in value: -0.7451394759087067. Current best value is -0.745280360664976 with parameters: {'shrinkage': 0.9991351368453869}.\n"
     ]
    },
    {
     "name": "stdout",
     "output_type": "stream",
     "text": [
      "shrinkage:  0.6005243070069461\n",
      "len: 211 , 211\n",
      "confusion_matrix: \n",
      "[[143.  26.]\n",
      " [ 20.  22.]]\n",
      "AUC: \n",
      "0.7144265990419837\n"
     ]
    },
    {
     "name": "stderr",
     "output_type": "stream",
     "text": [
      "[I 2019-08-21 05:57:45,182] Finished trial#20 resulted in value: -0.7144265990419837. Current best value is -0.745280360664976 with parameters: {'shrinkage': 0.9991351368453869}.\n"
     ]
    },
    {
     "name": "stdout",
     "output_type": "stream",
     "text": [
      "shrinkage:  0.9995487211347018\n",
      "len: 211 , 211\n",
      "confusion_matrix: \n",
      "[[148.  21.]\n",
      " [ 18.  24.]]\n",
      "AUC: \n",
      "0.745280360664976\n"
     ]
    },
    {
     "name": "stderr",
     "output_type": "stream",
     "text": [
      "[I 2019-08-21 05:57:54,124] Finished trial#21 resulted in value: -0.745280360664976. Current best value is -0.745280360664976 with parameters: {'shrinkage': 0.9991351368453869}.\n"
     ]
    },
    {
     "name": "stdout",
     "output_type": "stream",
     "text": [
      "shrinkage:  0.9924818766214292\n",
      "len: 211 , 211\n",
      "confusion_matrix: \n",
      "[[148.  21.]\n",
      " [ 18.  24.]]\n",
      "AUC: \n",
      "0.7454212454212453\n"
     ]
    },
    {
     "name": "stderr",
     "output_type": "stream",
     "text": [
      "[I 2019-08-21 05:58:03,118] Finished trial#22 resulted in value: -0.7454212454212453. Current best value is -0.7454212454212453 with parameters: {'shrinkage': 0.9924818766214292}.\n"
     ]
    },
    {
     "name": "stdout",
     "output_type": "stream",
     "text": [
      "shrinkage:  0.8983468888508629\n",
      "len: 211 , 211\n",
      "confusion_matrix: \n",
      "[[146.  23.]\n",
      " [ 21.  21.]]\n",
      "AUC: \n",
      "0.7382361228515074\n"
     ]
    },
    {
     "name": "stderr",
     "output_type": "stream",
     "text": [
      "[I 2019-08-21 05:58:11,962] Finished trial#23 resulted in value: -0.7382361228515074. Current best value is -0.7454212454212453 with parameters: {'shrinkage': 0.9924818766214292}.\n"
     ]
    },
    {
     "name": "stdout",
     "output_type": "stream",
     "text": [
      "shrinkage:  0.7880885258876666\n",
      "len: 211 , 211\n",
      "confusion_matrix: \n",
      "[[146.  23.]\n",
      " [ 20.  22.]]\n",
      "AUC: \n",
      "0.7296421527190757\n"
     ]
    },
    {
     "name": "stderr",
     "output_type": "stream",
     "text": [
      "[I 2019-08-21 05:58:20,809] Finished trial#24 resulted in value: -0.7296421527190757. Current best value is -0.7454212454212453 with parameters: {'shrinkage': 0.9924818766214292}.\n"
     ]
    },
    {
     "name": "stdout",
     "output_type": "stream",
     "text": [
      "shrinkage:  0.39782945228763616\n",
      "len: 211 , 211\n",
      "confusion_matrix: \n",
      "[[142.  27.]\n",
      " [ 21.  21.]]\n",
      "AUC: \n",
      "0.6935756551141167\n"
     ]
    },
    {
     "name": "stderr",
     "output_type": "stream",
     "text": [
      "[I 2019-08-21 05:58:29,570] Finished trial#25 resulted in value: -0.6935756551141167. Current best value is -0.7454212454212453 with parameters: {'shrinkage': 0.9924818766214292}.\n"
     ]
    },
    {
     "name": "stdout",
     "output_type": "stream",
     "text": [
      "shrinkage:  0.8853603049655278\n",
      "len: 211 , 211\n",
      "confusion_matrix: \n",
      "[[146.  23.]\n",
      " [ 21.  21.]]\n",
      "AUC: \n",
      "0.7368272752888136\n"
     ]
    },
    {
     "name": "stderr",
     "output_type": "stream",
     "text": [
      "[I 2019-08-21 05:58:38,862] Finished trial#26 resulted in value: -0.7368272752888136. Current best value is -0.7454212454212453 with parameters: {'shrinkage': 0.9924818766214292}.\n"
     ]
    },
    {
     "name": "stdout",
     "output_type": "stream",
     "text": [
      "shrinkage:  0.04931053492084925\n",
      "len: 211 , 211\n",
      "confusion_matrix: \n",
      "[[139.  30.]\n",
      " [ 20.  22.]]\n",
      "AUC: \n",
      "0.6738517892364047\n"
     ]
    },
    {
     "name": "stderr",
     "output_type": "stream",
     "text": [
      "[I 2019-08-21 05:58:49,881] Finished trial#27 resulted in value: -0.6738517892364047. Current best value is -0.7454212454212453 with parameters: {'shrinkage': 0.9924818766214292}.\n"
     ]
    },
    {
     "name": "stdout",
     "output_type": "stream",
     "text": [
      "shrinkage:  0.6463825969228196\n",
      "len: 211 , 211\n",
      "confusion_matrix: \n",
      "[[143.  26.]\n",
      " [ 20.  22.]]\n",
      "AUC: \n",
      "0.7182304874612566\n"
     ]
    },
    {
     "name": "stderr",
     "output_type": "stream",
     "text": [
      "[I 2019-08-21 05:58:59,725] Finished trial#28 resulted in value: -0.7182304874612566. Current best value is -0.7454212454212453 with parameters: {'shrinkage': 0.9924818766214292}.\n"
     ]
    },
    {
     "name": "stdout",
     "output_type": "stream",
     "text": [
      "shrinkage:  0.15458943979647194\n",
      "len: 211 , 211\n",
      "confusion_matrix: \n",
      "[[141.  28.]\n",
      " [ 22.  20.]]\n",
      "AUC: \n",
      "0.672442941673711\n"
     ]
    },
    {
     "name": "stderr",
     "output_type": "stream",
     "text": [
      "[I 2019-08-21 05:59:09,268] Finished trial#29 resulted in value: -0.672442941673711. Current best value is -0.7454212454212453 with parameters: {'shrinkage': 0.9924818766214292}.\n"
     ]
    },
    {
     "name": "stdout",
     "output_type": "stream",
     "text": [
      "shrinkage:  0.7567302360372403\n",
      "len: 211 , 211\n",
      "confusion_matrix: \n",
      "[[146.  23.]\n",
      " [ 20.  22.]]\n",
      "AUC: \n",
      "0.7272471118624966\n"
     ]
    },
    {
     "name": "stderr",
     "output_type": "stream",
     "text": [
      "[I 2019-08-21 05:59:19,516] Finished trial#30 resulted in value: -0.7272471118624966. Current best value is -0.7454212454212453 with parameters: {'shrinkage': 0.9924818766214292}.\n"
     ]
    },
    {
     "name": "stdout",
     "output_type": "stream",
     "text": [
      "shrinkage:  0.9899333802707723\n",
      "len: 211 , 211\n",
      "confusion_matrix: \n",
      "[[148.  21.]\n",
      " [ 18.  24.]]\n",
      "AUC: \n",
      "0.7451394759087068\n"
     ]
    },
    {
     "name": "stderr",
     "output_type": "stream",
     "text": [
      "[I 2019-08-21 05:59:28,396] Finished trial#31 resulted in value: -0.7451394759087068. Current best value is -0.7454212454212453 with parameters: {'shrinkage': 0.9924818766214292}.\n"
     ]
    },
    {
     "name": "stdout",
     "output_type": "stream",
     "text": [
      "shrinkage:  0.9448558746449881\n",
      "len: 211 , 211\n",
      "confusion_matrix: \n",
      "[[147.  22.]\n",
      " [ 21.  21.]]\n",
      "AUC: \n",
      "0.7430262045646661\n"
     ]
    },
    {
     "name": "stderr",
     "output_type": "stream",
     "text": [
      "[I 2019-08-21 05:59:37,097] Finished trial#32 resulted in value: -0.7430262045646661. Current best value is -0.7454212454212453 with parameters: {'shrinkage': 0.9924818766214292}.\n"
     ]
    },
    {
     "name": "stdout",
     "output_type": "stream",
     "text": [
      "shrinkage:  0.9616160221919754\n",
      "len: 211 , 211\n",
      "confusion_matrix: \n",
      "[[148.  21.]\n",
      " [ 18.  24.]]\n",
      "AUC: \n",
      "0.7438715131022824\n"
     ]
    },
    {
     "name": "stderr",
     "output_type": "stream",
     "text": [
      "[I 2019-08-21 05:59:46,417] Finished trial#33 resulted in value: -0.7438715131022824. Current best value is -0.7454212454212453 with parameters: {'shrinkage': 0.9924818766214292}.\n"
     ]
    },
    {
     "name": "stdout",
     "output_type": "stream",
     "text": [
      "shrinkage:  0.999620647647325\n",
      "len: 211 , 211\n",
      "confusion_matrix: \n",
      "[[148.  21.]\n",
      " [ 18.  24.]]\n",
      "AUC: \n",
      "0.745280360664976\n"
     ]
    },
    {
     "name": "stderr",
     "output_type": "stream",
     "text": [
      "[I 2019-08-21 05:59:55,361] Finished trial#34 resulted in value: -0.745280360664976. Current best value is -0.7454212454212453 with parameters: {'shrinkage': 0.9924818766214292}.\n"
     ]
    },
    {
     "name": "stdout",
     "output_type": "stream",
     "text": [
      "shrinkage:  0.8637484198541483\n",
      "len: 211 , 211\n",
      "confusion_matrix: \n",
      "[[147.  22.]\n",
      " [ 20.  22.]]\n",
      "AUC: \n",
      "0.7357001972386588\n"
     ]
    },
    {
     "name": "stderr",
     "output_type": "stream",
     "text": [
      "[I 2019-08-21 06:00:05,806] Finished trial#35 resulted in value: -0.7357001972386588. Current best value is -0.7454212454212453 with parameters: {'shrinkage': 0.9924818766214292}.\n"
     ]
    },
    {
     "name": "stdout",
     "output_type": "stream",
     "text": [
      "shrinkage:  0.9192063831358444\n",
      "len: 211 , 211\n",
      "confusion_matrix: \n",
      "[[147.  22.]\n",
      " [ 21.  21.]]\n",
      "AUC: \n",
      "0.7395040856579318\n"
     ]
    },
    {
     "name": "stderr",
     "output_type": "stream",
     "text": [
      "[I 2019-08-21 06:00:15,206] Finished trial#36 resulted in value: -0.7395040856579318. Current best value is -0.7454212454212453 with parameters: {'shrinkage': 0.9924818766214292}.\n"
     ]
    },
    {
     "name": "stdout",
     "output_type": "stream",
     "text": [
      "shrinkage:  0.9906232238783256\n",
      "len: 211 , 211\n",
      "confusion_matrix: \n",
      "[[148.  21.]\n",
      " [ 18.  24.]]\n",
      "AUC: \n",
      "0.7449985911524374\n"
     ]
    },
    {
     "name": "stderr",
     "output_type": "stream",
     "text": [
      "[I 2019-08-21 06:00:24,720] Finished trial#37 resulted in value: -0.7449985911524374. Current best value is -0.7454212454212453 with parameters: {'shrinkage': 0.9924818766214292}.\n"
     ]
    },
    {
     "name": "stdout",
     "output_type": "stream",
     "text": [
      "shrinkage:  0.8012117969638581\n",
      "len: 211 , 211\n",
      "confusion_matrix: \n",
      "[[147.  22.]\n",
      " [ 20.  22.]]\n",
      "AUC: \n",
      "0.7304874612566921\n"
     ]
    },
    {
     "name": "stderr",
     "output_type": "stream",
     "text": [
      "[I 2019-08-21 06:00:33,739] Finished trial#38 resulted in value: -0.7304874612566921. Current best value is -0.7454212454212453 with parameters: {'shrinkage': 0.9924818766214292}.\n"
     ]
    },
    {
     "name": "stdout",
     "output_type": "stream",
     "text": [
      "shrinkage:  0.9363479469774375\n",
      "len: 211 , 211\n",
      "confusion_matrix: \n",
      "[[147.  22.]\n",
      " [ 21.  21.]]\n",
      "AUC: \n",
      "0.7426035502958579\n"
     ]
    },
    {
     "name": "stderr",
     "output_type": "stream",
     "text": [
      "[I 2019-08-21 06:00:42,839] Finished trial#39 resulted in value: -0.7426035502958579. Current best value is -0.7454212454212453 with parameters: {'shrinkage': 0.9924818766214292}.\n"
     ]
    },
    {
     "name": "stdout",
     "output_type": "stream",
     "text": [
      "shrinkage:  0.8717173140905136\n",
      "len: 211 , 211\n",
      "confusion_matrix: \n",
      "[[147.  22.]\n",
      " [ 20.  22.]]\n",
      "AUC: \n",
      "0.7364046210200057\n"
     ]
    },
    {
     "name": "stderr",
     "output_type": "stream",
     "text": [
      "[I 2019-08-21 06:00:53,554] Finished trial#40 resulted in value: -0.7364046210200057. Current best value is -0.7454212454212453 with parameters: {'shrinkage': 0.9924818766214292}.\n"
     ]
    },
    {
     "name": "stdout",
     "output_type": "stream",
     "text": [
      "shrinkage:  0.9969036470087731\n",
      "len: 211 , 211\n",
      "confusion_matrix: \n",
      "[[148.  21.]\n",
      " [ 18.  24.]]\n",
      "AUC: \n",
      "0.7454212454212454\n"
     ]
    },
    {
     "name": "stderr",
     "output_type": "stream",
     "text": [
      "[I 2019-08-21 06:01:02,209] Finished trial#41 resulted in value: -0.7454212454212454. Current best value is -0.7454212454212454 with parameters: {'shrinkage': 0.9969036470087731}.\n"
     ]
    },
    {
     "name": "stdout",
     "output_type": "stream",
     "text": [
      "shrinkage:  0.9946732674189872\n",
      "len: 211 , 211\n",
      "confusion_matrix: \n",
      "[[148.  21.]\n",
      " [ 18.  24.]]\n",
      "AUC: \n",
      "0.7454212454212454\n"
     ]
    },
    {
     "name": "stderr",
     "output_type": "stream",
     "text": [
      "[I 2019-08-21 06:01:11,674] Finished trial#42 resulted in value: -0.7454212454212454. Current best value is -0.7454212454212454 with parameters: {'shrinkage': 0.9969036470087731}.\n"
     ]
    },
    {
     "name": "stdout",
     "output_type": "stream",
     "text": [
      "shrinkage:  0.9353399619202091\n",
      "len: 211 , 211\n",
      "confusion_matrix: \n",
      "[[147.  22.]\n",
      " [ 21.  21.]]\n",
      "AUC: \n",
      "0.7424626655395885\n"
     ]
    },
    {
     "name": "stderr",
     "output_type": "stream",
     "text": [
      "[I 2019-08-21 06:01:20,576] Finished trial#43 resulted in value: -0.7424626655395885. Current best value is -0.7454212454212454 with parameters: {'shrinkage': 0.9969036470087731}.\n"
     ]
    },
    {
     "name": "stdout",
     "output_type": "stream",
     "text": [
      "shrinkage:  0.9953991702264264\n",
      "len: 211 , 211\n",
      "confusion_matrix: \n",
      "[[148.  21.]\n",
      " [ 18.  24.]]\n",
      "AUC: \n",
      "0.7454212454212454\n"
     ]
    },
    {
     "name": "stderr",
     "output_type": "stream",
     "text": [
      "[I 2019-08-21 06:01:29,886] Finished trial#44 resulted in value: -0.7454212454212454. Current best value is -0.7454212454212454 with parameters: {'shrinkage': 0.9969036470087731}.\n"
     ]
    },
    {
     "name": "stdout",
     "output_type": "stream",
     "text": [
      "shrinkage:  0.9417782175273072\n",
      "len: 211 , 211\n",
      "confusion_matrix: \n",
      "[[147.  22.]\n",
      " [ 21.  21.]]\n",
      "AUC: \n",
      "0.7431670893209354\n"
     ]
    },
    {
     "name": "stderr",
     "output_type": "stream",
     "text": [
      "[I 2019-08-21 06:01:38,678] Finished trial#45 resulted in value: -0.7431670893209354. Current best value is -0.7454212454212454 with parameters: {'shrinkage': 0.9969036470087731}.\n"
     ]
    },
    {
     "name": "stdout",
     "output_type": "stream",
     "text": [
      "shrinkage:  0.7369051367030008\n",
      "len: 211 , 211\n",
      "confusion_matrix: \n",
      "[[146.  23.]\n",
      " [ 20.  22.]]\n",
      "AUC: \n",
      "0.7249929557621866\n"
     ]
    },
    {
     "name": "stderr",
     "output_type": "stream",
     "text": [
      "[I 2019-08-21 06:01:47,961] Finished trial#46 resulted in value: -0.7249929557621866. Current best value is -0.7454212454212454 with parameters: {'shrinkage': 0.9969036470087731}.\n"
     ]
    },
    {
     "name": "stdout",
     "output_type": "stream",
     "text": [
      "shrinkage:  0.6745626466680912\n",
      "len: 211 , 211\n",
      "confusion_matrix: \n",
      "[[143.  26.]\n",
      " [ 20.  22.]]\n",
      "AUC: \n",
      "0.7197802197802198\n"
     ]
    },
    {
     "name": "stderr",
     "output_type": "stream",
     "text": [
      "[I 2019-08-21 06:01:56,784] Finished trial#47 resulted in value: -0.7197802197802198. Current best value is -0.7454212454212454 with parameters: {'shrinkage': 0.9969036470087731}.\n"
     ]
    },
    {
     "name": "stdout",
     "output_type": "stream",
     "text": [
      "shrinkage:  0.8438228801810634\n",
      "len: 211 , 211\n",
      "confusion_matrix: \n",
      "[[147.  22.]\n",
      " [ 20.  22.]]\n",
      "AUC: \n",
      "0.7344322344322345\n"
     ]
    },
    {
     "name": "stderr",
     "output_type": "stream",
     "text": [
      "[I 2019-08-21 06:02:07,462] Finished trial#48 resulted in value: -0.7344322344322345. Current best value is -0.7454212454212454 with parameters: {'shrinkage': 0.9969036470087731}.\n"
     ]
    },
    {
     "name": "stdout",
     "output_type": "stream",
     "text": [
      "shrinkage:  0.9625457885972702\n",
      "len: 211 , 211\n",
      "confusion_matrix: \n",
      "[[148.  21.]\n",
      " [ 18.  24.]]\n",
      "AUC: \n",
      "0.7438715131022824\n"
     ]
    },
    {
     "name": "stderr",
     "output_type": "stream",
     "text": [
      "[I 2019-08-21 06:02:17,561] Finished trial#49 resulted in value: -0.7438715131022824. Current best value is -0.7454212454212454 with parameters: {'shrinkage': 0.9969036470087731}.\n"
     ]
    },
    {
     "name": "stdout",
     "output_type": "stream",
     "text": [
      "shrinkage:  0.8991564168503461\n",
      "len: 211 , 211\n",
      "confusion_matrix: \n",
      "[[146.  23.]\n",
      " [ 21.  21.]]\n",
      "AUC: \n",
      "0.7382361228515074\n"
     ]
    },
    {
     "name": "stderr",
     "output_type": "stream",
     "text": [
      "[I 2019-08-21 06:02:26,684] Finished trial#50 resulted in value: -0.7382361228515074. Current best value is -0.7454212454212454 with parameters: {'shrinkage': 0.9969036470087731}.\n"
     ]
    },
    {
     "name": "stdout",
     "output_type": "stream",
     "text": [
      "shrinkage:  0.9838449544133936\n",
      "len: 211 , 211\n",
      "confusion_matrix: \n",
      "[[148.  21.]\n",
      " [ 18.  24.]]\n",
      "AUC: \n",
      "0.7445759368836292\n"
     ]
    },
    {
     "name": "stderr",
     "output_type": "stream",
     "text": [
      "[I 2019-08-21 06:02:37,993] Finished trial#51 resulted in value: -0.7445759368836292. Current best value is -0.7454212454212454 with parameters: {'shrinkage': 0.9969036470087731}.\n"
     ]
    },
    {
     "name": "stdout",
     "output_type": "stream",
     "text": [
      "shrinkage:  0.9940646945961884\n",
      "len: 211 , 211\n",
      "confusion_matrix: \n",
      "[[148.  21.]\n",
      " [ 18.  24.]]\n",
      "AUC: \n",
      "0.7454212454212454\n"
     ]
    },
    {
     "name": "stderr",
     "output_type": "stream",
     "text": [
      "[I 2019-08-21 06:02:47,807] Finished trial#52 resulted in value: -0.7454212454212454. Current best value is -0.7454212454212454 with parameters: {'shrinkage': 0.9969036470087731}.\n"
     ]
    },
    {
     "name": "stdout",
     "output_type": "stream",
     "text": [
      "shrinkage:  0.9963210525451262\n",
      "len: 211 , 211\n",
      "confusion_matrix: \n",
      "[[148.  21.]\n",
      " [ 18.  24.]]\n",
      "AUC: \n",
      "0.745280360664976\n"
     ]
    },
    {
     "name": "stderr",
     "output_type": "stream",
     "text": [
      "[I 2019-08-21 06:02:58,622] Finished trial#53 resulted in value: -0.745280360664976. Current best value is -0.7454212454212454 with parameters: {'shrinkage': 0.9969036470087731}.\n"
     ]
    },
    {
     "name": "stdout",
     "output_type": "stream",
     "text": [
      "shrinkage:  0.9135092966996455\n",
      "len: 211 , 211\n",
      "confusion_matrix: \n",
      "[[146.  23.]\n",
      " [ 21.  21.]]\n",
      "AUC: \n",
      "0.739222316145393\n"
     ]
    },
    {
     "name": "stderr",
     "output_type": "stream",
     "text": [
      "[I 2019-08-21 06:03:08,500] Finished trial#54 resulted in value: -0.739222316145393. Current best value is -0.7454212454212454 with parameters: {'shrinkage': 0.9969036470087731}.\n"
     ]
    },
    {
     "name": "stdout",
     "output_type": "stream",
     "text": [
      "shrinkage:  0.8275708466831024\n",
      "len: 211 , 211\n",
      "confusion_matrix: \n",
      "[[147.  22.]\n",
      " [ 20.  22.]]\n",
      "AUC: \n",
      "0.7333051563820794\n"
     ]
    },
    {
     "name": "stderr",
     "output_type": "stream",
     "text": [
      "[I 2019-08-21 06:03:19,047] Finished trial#55 resulted in value: -0.7333051563820794. Current best value is -0.7454212454212454 with parameters: {'shrinkage': 0.9969036470087731}.\n"
     ]
    },
    {
     "name": "stdout",
     "output_type": "stream",
     "text": [
      "shrinkage:  0.9654046063328803\n",
      "len: 211 , 211\n",
      "confusion_matrix: \n",
      "[[148.  21.]\n",
      " [ 18.  24.]]\n",
      "AUC: \n",
      "0.744153282614821\n"
     ]
    },
    {
     "name": "stderr",
     "output_type": "stream",
     "text": [
      "[I 2019-08-21 06:03:29,039] Finished trial#56 resulted in value: -0.744153282614821. Current best value is -0.7454212454212454 with parameters: {'shrinkage': 0.9969036470087731}.\n"
     ]
    },
    {
     "name": "stdout",
     "output_type": "stream",
     "text": [
      "shrinkage:  0.8744541980238925\n",
      "len: 211 , 211\n",
      "confusion_matrix: \n",
      "[[147.  22.]\n",
      " [ 20.  22.]]\n",
      "AUC: \n",
      "0.7359819667511975\n"
     ]
    },
    {
     "name": "stderr",
     "output_type": "stream",
     "text": [
      "[I 2019-08-21 06:03:38,659] Finished trial#57 resulted in value: -0.7359819667511975. Current best value is -0.7454212454212454 with parameters: {'shrinkage': 0.9969036470087731}.\n"
     ]
    },
    {
     "name": "stdout",
     "output_type": "stream",
     "text": [
      "shrinkage:  0.9987299843161995\n",
      "len: 211 , 211\n",
      "confusion_matrix: \n",
      "[[148.  21.]\n",
      " [ 18.  24.]]\n",
      "AUC: \n",
      "0.7454212454212454\n"
     ]
    },
    {
     "name": "stderr",
     "output_type": "stream",
     "text": [
      "[I 2019-08-21 06:03:47,781] Finished trial#58 resulted in value: -0.7454212454212454. Current best value is -0.7454212454212454 with parameters: {'shrinkage': 0.9969036470087731}.\n"
     ]
    },
    {
     "name": "stdout",
     "output_type": "stream",
     "text": [
      "shrinkage:  0.7649461986546698\n",
      "len: 211 , 211\n",
      "confusion_matrix: \n",
      "[[146.  23.]\n",
      " [ 20.  22.]]\n",
      "AUC: \n",
      "0.7279515356438433\n"
     ]
    },
    {
     "name": "stderr",
     "output_type": "stream",
     "text": [
      "[I 2019-08-21 06:03:57,619] Finished trial#59 resulted in value: -0.7279515356438433. Current best value is -0.7454212454212454 with parameters: {'shrinkage': 0.9969036470087731}.\n"
     ]
    },
    {
     "name": "stdout",
     "output_type": "stream",
     "text": [
      "shrinkage:  0.314837034238173\n",
      "len: 211 , 211\n",
      "confusion_matrix: \n",
      "[[141.  28.]\n",
      " [ 21.  21.]]\n",
      "AUC: \n",
      "0.6837137221752607\n"
     ]
    },
    {
     "name": "stderr",
     "output_type": "stream",
     "text": [
      "[I 2019-08-21 06:04:08,324] Finished trial#60 resulted in value: -0.6837137221752607. Current best value is -0.7454212454212454 with parameters: {'shrinkage': 0.9969036470087731}.\n"
     ]
    },
    {
     "name": "stdout",
     "output_type": "stream",
     "text": [
      "shrinkage:  0.955711590111976\n",
      "len: 211 , 211\n",
      "confusion_matrix: \n",
      "[[148.  21.]\n",
      " [ 18.  24.]]\n",
      "AUC: \n",
      "0.7434488588334742\n"
     ]
    },
    {
     "name": "stderr",
     "output_type": "stream",
     "text": [
      "[I 2019-08-21 06:04:21,983] Finished trial#61 resulted in value: -0.7434488588334742. Current best value is -0.7454212454212454 with parameters: {'shrinkage': 0.9969036470087731}.\n"
     ]
    },
    {
     "name": "stdout",
     "output_type": "stream",
     "text": [
      "shrinkage:  0.9999724382556077\n",
      "len: 211 , 211\n",
      "confusion_matrix: \n",
      "[[148.  21.]\n",
      " [ 18.  24.]]\n",
      "AUC: \n",
      "0.745280360664976\n"
     ]
    },
    {
     "name": "stderr",
     "output_type": "stream",
     "text": [
      "[I 2019-08-21 06:04:31,771] Finished trial#62 resulted in value: -0.745280360664976. Current best value is -0.7454212454212454 with parameters: {'shrinkage': 0.9969036470087731}.\n"
     ]
    },
    {
     "name": "stdout",
     "output_type": "stream",
     "text": [
      "shrinkage:  0.9099419936763886\n",
      "len: 211 , 211\n",
      "confusion_matrix: \n",
      "[[146.  23.]\n",
      " [ 21.  21.]]\n",
      "AUC: \n",
      "0.7389405466328542\n"
     ]
    },
    {
     "name": "stderr",
     "output_type": "stream",
     "text": [
      "[I 2019-08-21 06:04:42,726] Finished trial#63 resulted in value: -0.7389405466328542. Current best value is -0.7454212454212454 with parameters: {'shrinkage': 0.9969036470087731}.\n"
     ]
    },
    {
     "name": "stdout",
     "output_type": "stream",
     "text": [
      "shrinkage:  0.012495226851766239\n",
      "len: 211 , 211\n",
      "confusion_matrix: \n",
      "[[139.  30.]\n",
      " [ 19.  23.]]\n",
      "AUC: \n",
      "0.6770921386306002\n"
     ]
    },
    {
     "name": "stderr",
     "output_type": "stream",
     "text": [
      "[I 2019-08-21 06:04:52,433] Finished trial#64 resulted in value: -0.6770921386306002. Current best value is -0.7454212454212454 with parameters: {'shrinkage': 0.9969036470087731}.\n"
     ]
    },
    {
     "name": "stdout",
     "output_type": "stream",
     "text": [
      "shrinkage:  0.9997732652384589\n",
      "len: 211 , 211\n",
      "confusion_matrix: \n",
      "[[148.  21.]\n",
      " [ 18.  24.]]\n",
      "AUC: \n",
      "0.745280360664976\n"
     ]
    },
    {
     "name": "stderr",
     "output_type": "stream",
     "text": [
      "[I 2019-08-21 06:05:02,318] Finished trial#65 resulted in value: -0.745280360664976. Current best value is -0.7454212454212454 with parameters: {'shrinkage': 0.9969036470087731}.\n"
     ]
    },
    {
     "name": "stdout",
     "output_type": "stream",
     "text": [
      "shrinkage:  0.9652046368697424\n",
      "len: 211 , 211\n",
      "confusion_matrix: \n",
      "[[148.  21.]\n",
      " [ 18.  24.]]\n",
      "AUC: \n",
      "0.744153282614821\n"
     ]
    },
    {
     "name": "stderr",
     "output_type": "stream",
     "text": [
      "[I 2019-08-21 06:05:11,837] Finished trial#66 resulted in value: -0.744153282614821. Current best value is -0.7454212454212454 with parameters: {'shrinkage': 0.9969036470087731}.\n"
     ]
    },
    {
     "name": "stdout",
     "output_type": "stream",
     "text": [
      "shrinkage:  0.9233321757155287\n",
      "len: 211 , 211\n",
      "confusion_matrix: \n",
      "[[147.  22.]\n",
      " [ 21.  21.]]\n",
      "AUC: \n",
      "0.7400676246830094\n"
     ]
    },
    {
     "name": "stderr",
     "output_type": "stream",
     "text": [
      "[I 2019-08-21 06:05:21,222] Finished trial#67 resulted in value: -0.7400676246830094. Current best value is -0.7454212454212454 with parameters: {'shrinkage': 0.9969036470087731}.\n"
     ]
    },
    {
     "name": "stdout",
     "output_type": "stream",
     "text": [
      "shrinkage:  0.8595579609766745\n",
      "len: 211 , 211\n",
      "confusion_matrix: \n",
      "[[147.  22.]\n",
      " [ 20.  22.]]\n",
      "AUC: \n",
      "0.7355593124823894\n"
     ]
    },
    {
     "name": "stderr",
     "output_type": "stream",
     "text": [
      "[I 2019-08-21 06:05:30,230] Finished trial#68 resulted in value: -0.7355593124823894. Current best value is -0.7454212454212454 with parameters: {'shrinkage': 0.9969036470087731}.\n"
     ]
    },
    {
     "name": "stdout",
     "output_type": "stream",
     "text": [
      "shrinkage:  0.8193019188383528\n",
      "len: 211 , 211\n",
      "confusion_matrix: \n",
      "[[147.  22.]\n",
      " [ 20.  22.]]\n",
      "AUC: \n",
      "0.7326007326007327\n"
     ]
    },
    {
     "name": "stderr",
     "output_type": "stream",
     "text": [
      "[I 2019-08-21 06:05:39,611] Finished trial#69 resulted in value: -0.7326007326007327. Current best value is -0.7454212454212454 with parameters: {'shrinkage': 0.9969036470087731}.\n"
     ]
    },
    {
     "name": "stdout",
     "output_type": "stream",
     "text": [
      "shrinkage:  0.9681336763528591\n",
      "len: 211 , 211\n",
      "confusion_matrix: \n",
      "[[148.  21.]\n",
      " [ 18.  24.]]\n",
      "AUC: \n",
      "0.7441532826148209\n"
     ]
    },
    {
     "name": "stderr",
     "output_type": "stream",
     "text": [
      "[I 2019-08-21 06:05:48,770] Finished trial#70 resulted in value: -0.7441532826148209. Current best value is -0.7454212454212454 with parameters: {'shrinkage': 0.9969036470087731}.\n"
     ]
    },
    {
     "name": "stdout",
     "output_type": "stream",
     "text": [
      "shrinkage:  0.9939647106305526\n",
      "len: 211 , 211\n",
      "confusion_matrix: \n",
      "[[148.  21.]\n",
      " [ 18.  24.]]\n",
      "AUC: \n",
      "0.7454212454212454\n"
     ]
    },
    {
     "name": "stderr",
     "output_type": "stream",
     "text": [
      "[I 2019-08-21 06:05:57,797] Finished trial#71 resulted in value: -0.7454212454212454. Current best value is -0.7454212454212454 with parameters: {'shrinkage': 0.9969036470087731}.\n"
     ]
    },
    {
     "name": "stdout",
     "output_type": "stream",
     "text": [
      "shrinkage:  0.9992163137621443\n",
      "len: 211 , 211\n",
      "confusion_matrix: \n",
      "[[148.  21.]\n",
      " [ 18.  24.]]\n",
      "AUC: \n",
      "0.745280360664976\n"
     ]
    },
    {
     "name": "stderr",
     "output_type": "stream",
     "text": [
      "[I 2019-08-21 06:06:06,908] Finished trial#72 resulted in value: -0.745280360664976. Current best value is -0.7454212454212454 with parameters: {'shrinkage': 0.9969036470087731}.\n"
     ]
    },
    {
     "name": "stdout",
     "output_type": "stream",
     "text": [
      "shrinkage:  0.9029987161547005\n",
      "len: 211 , 211\n",
      "confusion_matrix: \n",
      "[[146.  23.]\n",
      " [ 21.  21.]]\n",
      "AUC: \n",
      "0.7387996618765849\n"
     ]
    },
    {
     "name": "stderr",
     "output_type": "stream",
     "text": [
      "[I 2019-08-21 06:06:16,058] Finished trial#73 resulted in value: -0.7387996618765849. Current best value is -0.7454212454212454 with parameters: {'shrinkage': 0.9969036470087731}.\n"
     ]
    },
    {
     "name": "stdout",
     "output_type": "stream",
     "text": [
      "shrinkage:  0.9406631993650062\n",
      "len: 211 , 211\n",
      "confusion_matrix: \n",
      "[[147.  22.]\n",
      " [ 21.  21.]]\n",
      "AUC: \n",
      "0.7430262045646661\n"
     ]
    },
    {
     "name": "stderr",
     "output_type": "stream",
     "text": [
      "[I 2019-08-21 06:06:25,503] Finished trial#74 resulted in value: -0.7430262045646661. Current best value is -0.7454212454212454 with parameters: {'shrinkage': 0.9969036470087731}.\n"
     ]
    },
    {
     "name": "stdout",
     "output_type": "stream",
     "text": [
      "shrinkage:  0.9726182656906223\n",
      "len: 211 , 211\n",
      "confusion_matrix: \n",
      "[[148.  21.]\n",
      " [ 18.  24.]]\n",
      "AUC: \n",
      "0.7442941673710903\n"
     ]
    },
    {
     "name": "stderr",
     "output_type": "stream",
     "text": [
      "[I 2019-08-21 06:06:34,819] Finished trial#75 resulted in value: -0.7442941673710903. Current best value is -0.7454212454212454 with parameters: {'shrinkage': 0.9969036470087731}.\n"
     ]
    },
    {
     "name": "stdout",
     "output_type": "stream",
     "text": [
      "shrinkage:  0.8855087233777674\n",
      "len: 211 , 211\n",
      "confusion_matrix: \n",
      "[[146.  23.]\n",
      " [ 21.  21.]]\n",
      "AUC: \n",
      "0.7368272752888136\n"
     ]
    },
    {
     "name": "stderr",
     "output_type": "stream",
     "text": [
      "[I 2019-08-21 06:06:44,288] Finished trial#76 resulted in value: -0.7368272752888136. Current best value is -0.7454212454212454 with parameters: {'shrinkage': 0.9969036470087731}.\n"
     ]
    },
    {
     "name": "stdout",
     "output_type": "stream",
     "text": [
      "shrinkage:  0.9996601977786571\n",
      "len: 211 , 211\n",
      "confusion_matrix: \n",
      "[[148.  21.]\n",
      " [ 18.  24.]]\n",
      "AUC: \n",
      "0.745280360664976\n"
     ]
    },
    {
     "name": "stderr",
     "output_type": "stream",
     "text": [
      "[I 2019-08-21 06:06:54,027] Finished trial#77 resulted in value: -0.745280360664976. Current best value is -0.7454212454212454 with parameters: {'shrinkage': 0.9969036470087731}.\n"
     ]
    },
    {
     "name": "stdout",
     "output_type": "stream",
     "text": [
      "shrinkage:  0.9308693729532884\n",
      "len: 211 , 211\n",
      "confusion_matrix: \n",
      "[[147.  22.]\n",
      " [ 21.  21.]]\n",
      "AUC: \n",
      "0.7413355874894335\n"
     ]
    },
    {
     "name": "stderr",
     "output_type": "stream",
     "text": [
      "[I 2019-08-21 06:07:05,278] Finished trial#78 resulted in value: -0.7413355874894335. Current best value is -0.7454212454212454 with parameters: {'shrinkage': 0.9969036470087731}.\n"
     ]
    },
    {
     "name": "stdout",
     "output_type": "stream",
     "text": [
      "shrinkage:  0.9755349335335012\n",
      "len: 211 , 211\n",
      "confusion_matrix: \n",
      "[[148.  21.]\n",
      " [ 18.  24.]]\n",
      "AUC: \n",
      "0.744153282614821\n"
     ]
    },
    {
     "name": "stderr",
     "output_type": "stream",
     "text": [
      "[I 2019-08-21 06:07:14,847] Finished trial#79 resulted in value: -0.744153282614821. Current best value is -0.7454212454212454 with parameters: {'shrinkage': 0.9969036470087731}.\n"
     ]
    },
    {
     "name": "stdout",
     "output_type": "stream",
     "text": [
      "shrinkage:  0.4712929905726657\n",
      "len: 211 , 211\n",
      "confusion_matrix: \n",
      "[[142.  27.]\n",
      " [ 21.  21.]]\n",
      "AUC: \n",
      "0.7017469709777402\n"
     ]
    },
    {
     "name": "stderr",
     "output_type": "stream",
     "text": [
      "[I 2019-08-21 06:07:24,129] Finished trial#80 resulted in value: -0.7017469709777402. Current best value is -0.7454212454212454 with parameters: {'shrinkage': 0.9969036470087731}.\n"
     ]
    },
    {
     "name": "stdout",
     "output_type": "stream",
     "text": [
      "shrinkage:  0.9992355573639972\n",
      "len: 211 , 211\n",
      "confusion_matrix: \n",
      "[[148.  21.]\n",
      " [ 18.  24.]]\n",
      "AUC: \n",
      "0.745280360664976\n"
     ]
    },
    {
     "name": "stderr",
     "output_type": "stream",
     "text": [
      "[I 2019-08-21 06:07:33,554] Finished trial#81 resulted in value: -0.745280360664976. Current best value is -0.7454212454212454 with parameters: {'shrinkage': 0.9969036470087731}.\n"
     ]
    },
    {
     "name": "stdout",
     "output_type": "stream",
     "text": [
      "shrinkage:  0.9513221163811404\n",
      "len: 211 , 211\n",
      "confusion_matrix: \n",
      "[[147.  22.]\n",
      " [ 20.  22.]]\n",
      "AUC: \n",
      "0.7433079740772048\n"
     ]
    },
    {
     "name": "stderr",
     "output_type": "stream",
     "text": [
      "[I 2019-08-21 06:07:42,606] Finished trial#82 resulted in value: -0.7433079740772048. Current best value is -0.7454212454212454 with parameters: {'shrinkage': 0.9969036470087731}.\n"
     ]
    },
    {
     "name": "stdout",
     "output_type": "stream",
     "text": [
      "shrinkage:  0.9965635275655305\n",
      "len: 211 , 211\n",
      "confusion_matrix: \n",
      "[[148.  21.]\n",
      " [ 18.  24.]]\n",
      "AUC: \n",
      "0.7454212454212454\n"
     ]
    },
    {
     "name": "stderr",
     "output_type": "stream",
     "text": [
      "[I 2019-08-21 06:07:51,999] Finished trial#83 resulted in value: -0.7454212454212454. Current best value is -0.7454212454212454 with parameters: {'shrinkage': 0.9969036470087731}.\n"
     ]
    },
    {
     "name": "stdout",
     "output_type": "stream",
     "text": [
      "shrinkage:  0.9265058825057042\n",
      "len: 211 , 211\n",
      "confusion_matrix: \n",
      "[[147.  22.]\n",
      " [ 21.  21.]]\n",
      "AUC: \n",
      "0.7404902789518174\n"
     ]
    },
    {
     "name": "stderr",
     "output_type": "stream",
     "text": [
      "[I 2019-08-21 06:08:01,803] Finished trial#84 resulted in value: -0.7404902789518174. Current best value is -0.7454212454212454 with parameters: {'shrinkage': 0.9969036470087731}.\n"
     ]
    },
    {
     "name": "stdout",
     "output_type": "stream",
     "text": [
      "shrinkage:  0.9772037955343035\n",
      "len: 211 , 211\n",
      "confusion_matrix: \n",
      "[[148.  21.]\n",
      " [ 18.  24.]]\n",
      "AUC: \n",
      "0.7447168216398985\n"
     ]
    },
    {
     "name": "stderr",
     "output_type": "stream",
     "text": [
      "[I 2019-08-21 06:08:11,056] Finished trial#85 resulted in value: -0.7447168216398985. Current best value is -0.7454212454212454 with parameters: {'shrinkage': 0.9969036470087731}.\n"
     ]
    },
    {
     "name": "stdout",
     "output_type": "stream",
     "text": [
      "shrinkage:  0.8867878611974853\n"
     ]
    },
    {
     "ename": "KeyboardInterrupt",
     "evalue": "",
     "output_type": "error",
     "traceback": [
      "\u001b[0;31m---------------------------------------------------------------------------\u001b[0m",
      "\u001b[0;31mKeyboardInterrupt\u001b[0m                         Traceback (most recent call last)",
      "\u001b[0;32m<ipython-input-337-972361fa1b80>\u001b[0m in \u001b[0;36m<module>\u001b[0;34m\u001b[0m\n\u001b[1;32m      1\u001b[0m \u001b[0;32mif\u001b[0m \u001b[0m__name__\u001b[0m \u001b[0;34m==\u001b[0m \u001b[0;34m\"__main__\"\u001b[0m\u001b[0;34m:\u001b[0m\u001b[0;34m\u001b[0m\u001b[0;34m\u001b[0m\u001b[0m\n\u001b[0;32m----> 2\u001b[0;31m     \u001b[0mmain\u001b[0m\u001b[0;34m(\u001b[0m\u001b[0;34m)\u001b[0m\u001b[0;34m\u001b[0m\u001b[0;34m\u001b[0m\u001b[0m\n\u001b[0m",
      "\u001b[0;32m<ipython-input-336-dde48848941e>\u001b[0m in \u001b[0;36mmain\u001b[0;34m()\u001b[0m\n\u001b[1;32m      1\u001b[0m \u001b[0;32mdef\u001b[0m \u001b[0mmain\u001b[0m\u001b[0;34m(\u001b[0m\u001b[0;34m)\u001b[0m\u001b[0;34m:\u001b[0m\u001b[0;34m\u001b[0m\u001b[0;34m\u001b[0m\u001b[0m\n\u001b[1;32m      2\u001b[0m     \u001b[0mstudy\u001b[0m \u001b[0;34m=\u001b[0m \u001b[0moptuna\u001b[0m\u001b[0;34m.\u001b[0m\u001b[0mcreate_study\u001b[0m\u001b[0;34m(\u001b[0m\u001b[0;34m)\u001b[0m\u001b[0;34m\u001b[0m\u001b[0;34m\u001b[0m\u001b[0m\n\u001b[0;32m----> 3\u001b[0;31m     \u001b[0mstudy\u001b[0m\u001b[0;34m.\u001b[0m\u001b[0moptimize\u001b[0m\u001b[0;34m(\u001b[0m\u001b[0mlda\u001b[0m\u001b[0;34m,\u001b[0m \u001b[0mn_trials\u001b[0m\u001b[0;34m=\u001b[0m\u001b[0;36m100\u001b[0m\u001b[0;34m)\u001b[0m\u001b[0;34m\u001b[0m\u001b[0;34m\u001b[0m\u001b[0m\n\u001b[0m\u001b[1;32m      4\u001b[0m     \u001b[0mprint\u001b[0m\u001b[0;34m(\u001b[0m\u001b[0mstudy\u001b[0m\u001b[0;34m.\u001b[0m\u001b[0mbest_trial\u001b[0m\u001b[0;34m)\u001b[0m\u001b[0;34m\u001b[0m\u001b[0;34m\u001b[0m\u001b[0m\n",
      "\u001b[0;32m~/.pyenv/versions/anaconda3-5.1.0/lib/python3.6/site-packages/optuna/study.py\u001b[0m in \u001b[0;36moptimize\u001b[0;34m(self, func, n_trials, timeout, n_jobs, catch)\u001b[0m\n\u001b[1;32m    278\u001b[0m \u001b[0;34m\u001b[0m\u001b[0m\n\u001b[1;32m    279\u001b[0m         \u001b[0;32mif\u001b[0m \u001b[0mn_jobs\u001b[0m \u001b[0;34m==\u001b[0m \u001b[0;36m1\u001b[0m\u001b[0;34m:\u001b[0m\u001b[0;34m\u001b[0m\u001b[0;34m\u001b[0m\u001b[0m\n\u001b[0;32m--> 280\u001b[0;31m             \u001b[0mself\u001b[0m\u001b[0;34m.\u001b[0m\u001b[0m_optimize_sequential\u001b[0m\u001b[0;34m(\u001b[0m\u001b[0mfunc\u001b[0m\u001b[0;34m,\u001b[0m \u001b[0mn_trials\u001b[0m\u001b[0;34m,\u001b[0m \u001b[0mtimeout\u001b[0m\u001b[0;34m,\u001b[0m \u001b[0mcatch\u001b[0m\u001b[0;34m)\u001b[0m\u001b[0;34m\u001b[0m\u001b[0;34m\u001b[0m\u001b[0m\n\u001b[0m\u001b[1;32m    281\u001b[0m         \u001b[0;32melse\u001b[0m\u001b[0;34m:\u001b[0m\u001b[0;34m\u001b[0m\u001b[0;34m\u001b[0m\u001b[0m\n\u001b[1;32m    282\u001b[0m             \u001b[0mself\u001b[0m\u001b[0;34m.\u001b[0m\u001b[0m_optimize_parallel\u001b[0m\u001b[0;34m(\u001b[0m\u001b[0mfunc\u001b[0m\u001b[0;34m,\u001b[0m \u001b[0mn_trials\u001b[0m\u001b[0;34m,\u001b[0m \u001b[0mtimeout\u001b[0m\u001b[0;34m,\u001b[0m \u001b[0mn_jobs\u001b[0m\u001b[0;34m,\u001b[0m \u001b[0mcatch\u001b[0m\u001b[0;34m)\u001b[0m\u001b[0;34m\u001b[0m\u001b[0;34m\u001b[0m\u001b[0m\n",
      "\u001b[0;32m~/.pyenv/versions/anaconda3-5.1.0/lib/python3.6/site-packages/optuna/study.py\u001b[0m in \u001b[0;36m_optimize_sequential\u001b[0;34m(self, func, n_trials, timeout, catch)\u001b[0m\n\u001b[1;32m    393\u001b[0m                     \u001b[0;32mbreak\u001b[0m\u001b[0;34m\u001b[0m\u001b[0;34m\u001b[0m\u001b[0m\n\u001b[1;32m    394\u001b[0m \u001b[0;34m\u001b[0m\u001b[0m\n\u001b[0;32m--> 395\u001b[0;31m             \u001b[0mself\u001b[0m\u001b[0;34m.\u001b[0m\u001b[0m_run_trial\u001b[0m\u001b[0;34m(\u001b[0m\u001b[0mfunc\u001b[0m\u001b[0;34m,\u001b[0m \u001b[0mcatch\u001b[0m\u001b[0;34m)\u001b[0m\u001b[0;34m\u001b[0m\u001b[0;34m\u001b[0m\u001b[0m\n\u001b[0m\u001b[1;32m    396\u001b[0m \u001b[0;34m\u001b[0m\u001b[0m\n\u001b[1;32m    397\u001b[0m     def _optimize_parallel(\n",
      "\u001b[0;32m~/.pyenv/versions/anaconda3-5.1.0/lib/python3.6/site-packages/optuna/study.py\u001b[0m in \u001b[0;36m_run_trial\u001b[0;34m(self, func, catch)\u001b[0m\n\u001b[1;32m    467\u001b[0m \u001b[0;34m\u001b[0m\u001b[0m\n\u001b[1;32m    468\u001b[0m         \u001b[0;32mtry\u001b[0m\u001b[0;34m:\u001b[0m\u001b[0;34m\u001b[0m\u001b[0;34m\u001b[0m\u001b[0m\n\u001b[0;32m--> 469\u001b[0;31m             \u001b[0mresult\u001b[0m \u001b[0;34m=\u001b[0m \u001b[0mfunc\u001b[0m\u001b[0;34m(\u001b[0m\u001b[0mtrial\u001b[0m\u001b[0;34m)\u001b[0m\u001b[0;34m\u001b[0m\u001b[0;34m\u001b[0m\u001b[0m\n\u001b[0m\u001b[1;32m    470\u001b[0m         \u001b[0;32mexcept\u001b[0m \u001b[0mstructs\u001b[0m\u001b[0;34m.\u001b[0m\u001b[0mTrialPruned\u001b[0m \u001b[0;32mas\u001b[0m \u001b[0me\u001b[0m\u001b[0;34m:\u001b[0m\u001b[0;34m\u001b[0m\u001b[0;34m\u001b[0m\u001b[0m\n\u001b[1;32m    471\u001b[0m             message = 'Setting status of trial#{} as {}. {}'.format(trial_number,\n",
      "\u001b[0;32m<ipython-input-335-6d58f142bcd6>\u001b[0m in \u001b[0;36mlda\u001b[0;34m(trial)\u001b[0m\n\u001b[1;32m     15\u001b[0m \u001b[0;34m\u001b[0m\u001b[0m\n\u001b[1;32m     16\u001b[0m         \u001b[0;31m# データの生成\u001b[0m\u001b[0;34m\u001b[0m\u001b[0;34m\u001b[0m\u001b[0;34m\u001b[0m\u001b[0m\n\u001b[0;32m---> 17\u001b[0;31m         \u001b[0mx_train_std\u001b[0m\u001b[0;34m,\u001b[0m \u001b[0mx_test_std\u001b[0m\u001b[0;34m,\u001b[0m \u001b[0my_train\u001b[0m\u001b[0;34m,\u001b[0m \u001b[0my_test\u001b[0m\u001b[0;34m,\u001b[0m \u001b[0mfeatures\u001b[0m \u001b[0;34m=\u001b[0m \u001b[0mdata_processing\u001b[0m\u001b[0;34m(\u001b[0m\u001b[0my\u001b[0m\u001b[0;34m)\u001b[0m\u001b[0;34m\u001b[0m\u001b[0;34m\u001b[0m\u001b[0m\n\u001b[0m\u001b[1;32m     18\u001b[0m \u001b[0;34m\u001b[0m\u001b[0m\n\u001b[1;32m     19\u001b[0m         \u001b[0;31m# 学習\u001b[0m\u001b[0;34m\u001b[0m\u001b[0;34m\u001b[0m\u001b[0;34m\u001b[0m\u001b[0m\n",
      "\u001b[0;32m<ipython-input-327-a8e090e14b93>\u001b[0m in \u001b[0;36mdata_processing\u001b[0;34m(test_year)\u001b[0m\n\u001b[1;32m      5\u001b[0m \u001b[0;34m\u001b[0m\u001b[0m\n\u001b[1;32m      6\u001b[0m     \u001b[0mtrain\u001b[0m \u001b[0;34m=\u001b[0m \u001b[0mdf\u001b[0m\u001b[0;34m.\u001b[0m\u001b[0mloc\u001b[0m\u001b[0;34m[\u001b[0m\u001b[0mdf\u001b[0m\u001b[0;34m[\u001b[0m\u001b[0;34m\"year\"\u001b[0m\u001b[0;34m]\u001b[0m \u001b[0;34m!=\u001b[0m \u001b[0mtest_year\u001b[0m\u001b[0;34m]\u001b[0m\u001b[0;34m\u001b[0m\u001b[0;34m\u001b[0m\u001b[0m\n\u001b[0;32m----> 7\u001b[0;31m     \u001b[0mtest\u001b[0m \u001b[0;34m=\u001b[0m \u001b[0mdf\u001b[0m\u001b[0;34m.\u001b[0m\u001b[0mloc\u001b[0m\u001b[0;34m[\u001b[0m\u001b[0mdf\u001b[0m\u001b[0;34m[\u001b[0m\u001b[0;34m\"year\"\u001b[0m\u001b[0;34m]\u001b[0m \u001b[0;34m==\u001b[0m \u001b[0mtest_year\u001b[0m\u001b[0;34m]\u001b[0m\u001b[0;34m\u001b[0m\u001b[0;34m\u001b[0m\u001b[0m\n\u001b[0m\u001b[1;32m      8\u001b[0m \u001b[0;34m\u001b[0m\u001b[0m\n\u001b[1;32m      9\u001b[0m     \u001b[0;31m# 入力データの作成\u001b[0m\u001b[0;34m\u001b[0m\u001b[0;34m\u001b[0m\u001b[0;34m\u001b[0m\u001b[0m\n",
      "\u001b[0;32m~/.pyenv/versions/anaconda3-5.1.0/lib/python3.6/site-packages/pandas/core/indexing.py\u001b[0m in \u001b[0;36m__getitem__\u001b[0;34m(self, key)\u001b[0m\n\u001b[1;32m   1498\u001b[0m \u001b[0;34m\u001b[0m\u001b[0m\n\u001b[1;32m   1499\u001b[0m             \u001b[0mmaybe_callable\u001b[0m \u001b[0;34m=\u001b[0m \u001b[0mcom\u001b[0m\u001b[0;34m.\u001b[0m\u001b[0mapply_if_callable\u001b[0m\u001b[0;34m(\u001b[0m\u001b[0mkey\u001b[0m\u001b[0;34m,\u001b[0m \u001b[0mself\u001b[0m\u001b[0;34m.\u001b[0m\u001b[0mobj\u001b[0m\u001b[0;34m)\u001b[0m\u001b[0;34m\u001b[0m\u001b[0;34m\u001b[0m\u001b[0m\n\u001b[0;32m-> 1500\u001b[0;31m             \u001b[0;32mreturn\u001b[0m \u001b[0mself\u001b[0m\u001b[0;34m.\u001b[0m\u001b[0m_getitem_axis\u001b[0m\u001b[0;34m(\u001b[0m\u001b[0mmaybe_callable\u001b[0m\u001b[0;34m,\u001b[0m \u001b[0maxis\u001b[0m\u001b[0;34m=\u001b[0m\u001b[0maxis\u001b[0m\u001b[0;34m)\u001b[0m\u001b[0;34m\u001b[0m\u001b[0;34m\u001b[0m\u001b[0m\n\u001b[0m\u001b[1;32m   1501\u001b[0m \u001b[0;34m\u001b[0m\u001b[0m\n\u001b[1;32m   1502\u001b[0m     \u001b[0;32mdef\u001b[0m \u001b[0m_is_scalar_access\u001b[0m\u001b[0;34m(\u001b[0m\u001b[0mself\u001b[0m\u001b[0;34m,\u001b[0m \u001b[0mkey\u001b[0m\u001b[0;34m)\u001b[0m\u001b[0;34m:\u001b[0m\u001b[0;34m\u001b[0m\u001b[0;34m\u001b[0m\u001b[0m\n",
      "\u001b[0;32m~/.pyenv/versions/anaconda3-5.1.0/lib/python3.6/site-packages/pandas/core/indexing.py\u001b[0m in \u001b[0;36m_getitem_axis\u001b[0;34m(self, key, axis)\u001b[0m\n\u001b[1;32m   1867\u001b[0m             \u001b[0;32mreturn\u001b[0m \u001b[0mself\u001b[0m\u001b[0;34m.\u001b[0m\u001b[0m_get_slice_axis\u001b[0m\u001b[0;34m(\u001b[0m\u001b[0mkey\u001b[0m\u001b[0;34m,\u001b[0m \u001b[0maxis\u001b[0m\u001b[0;34m=\u001b[0m\u001b[0maxis\u001b[0m\u001b[0;34m)\u001b[0m\u001b[0;34m\u001b[0m\u001b[0;34m\u001b[0m\u001b[0m\n\u001b[1;32m   1868\u001b[0m         \u001b[0;32melif\u001b[0m \u001b[0mcom\u001b[0m\u001b[0;34m.\u001b[0m\u001b[0mis_bool_indexer\u001b[0m\u001b[0;34m(\u001b[0m\u001b[0mkey\u001b[0m\u001b[0;34m)\u001b[0m\u001b[0;34m:\u001b[0m\u001b[0;34m\u001b[0m\u001b[0;34m\u001b[0m\u001b[0m\n\u001b[0;32m-> 1869\u001b[0;31m             \u001b[0;32mreturn\u001b[0m \u001b[0mself\u001b[0m\u001b[0;34m.\u001b[0m\u001b[0m_getbool_axis\u001b[0m\u001b[0;34m(\u001b[0m\u001b[0mkey\u001b[0m\u001b[0;34m,\u001b[0m \u001b[0maxis\u001b[0m\u001b[0;34m=\u001b[0m\u001b[0maxis\u001b[0m\u001b[0;34m)\u001b[0m\u001b[0;34m\u001b[0m\u001b[0;34m\u001b[0m\u001b[0m\n\u001b[0m\u001b[1;32m   1870\u001b[0m         \u001b[0;32melif\u001b[0m \u001b[0mis_list_like_indexer\u001b[0m\u001b[0;34m(\u001b[0m\u001b[0mkey\u001b[0m\u001b[0;34m)\u001b[0m\u001b[0;34m:\u001b[0m\u001b[0;34m\u001b[0m\u001b[0;34m\u001b[0m\u001b[0m\n\u001b[1;32m   1871\u001b[0m \u001b[0;34m\u001b[0m\u001b[0m\n",
      "\u001b[0;32m~/.pyenv/versions/anaconda3-5.1.0/lib/python3.6/site-packages/pandas/core/indexing.py\u001b[0m in \u001b[0;36m_getbool_axis\u001b[0;34m(self, key, axis)\u001b[0m\n\u001b[1;32m   1516\u001b[0m         \u001b[0minds\u001b[0m\u001b[0;34m,\u001b[0m \u001b[0;34m=\u001b[0m \u001b[0mkey\u001b[0m\u001b[0;34m.\u001b[0m\u001b[0mnonzero\u001b[0m\u001b[0;34m(\u001b[0m\u001b[0;34m)\u001b[0m\u001b[0;34m\u001b[0m\u001b[0;34m\u001b[0m\u001b[0m\n\u001b[1;32m   1517\u001b[0m         \u001b[0;32mtry\u001b[0m\u001b[0;34m:\u001b[0m\u001b[0;34m\u001b[0m\u001b[0;34m\u001b[0m\u001b[0m\n\u001b[0;32m-> 1518\u001b[0;31m             \u001b[0;32mreturn\u001b[0m \u001b[0mself\u001b[0m\u001b[0;34m.\u001b[0m\u001b[0mobj\u001b[0m\u001b[0;34m.\u001b[0m\u001b[0m_take\u001b[0m\u001b[0;34m(\u001b[0m\u001b[0minds\u001b[0m\u001b[0;34m,\u001b[0m \u001b[0maxis\u001b[0m\u001b[0;34m=\u001b[0m\u001b[0maxis\u001b[0m\u001b[0;34m)\u001b[0m\u001b[0;34m\u001b[0m\u001b[0;34m\u001b[0m\u001b[0m\n\u001b[0m\u001b[1;32m   1519\u001b[0m         \u001b[0;32mexcept\u001b[0m \u001b[0mException\u001b[0m \u001b[0;32mas\u001b[0m \u001b[0mdetail\u001b[0m\u001b[0;34m:\u001b[0m\u001b[0;34m\u001b[0m\u001b[0;34m\u001b[0m\u001b[0m\n\u001b[1;32m   1520\u001b[0m             \u001b[0;32mraise\u001b[0m \u001b[0mself\u001b[0m\u001b[0;34m.\u001b[0m\u001b[0m_exception\u001b[0m\u001b[0;34m(\u001b[0m\u001b[0mdetail\u001b[0m\u001b[0;34m)\u001b[0m\u001b[0;34m\u001b[0m\u001b[0;34m\u001b[0m\u001b[0m\n",
      "\u001b[0;32m~/.pyenv/versions/anaconda3-5.1.0/lib/python3.6/site-packages/pandas/core/generic.py\u001b[0m in \u001b[0;36m_take\u001b[0;34m(self, indices, axis, is_copy)\u001b[0m\n\u001b[1;32m   3357\u001b[0m         new_data = self._data.take(indices,\n\u001b[1;32m   3358\u001b[0m                                    \u001b[0maxis\u001b[0m\u001b[0;34m=\u001b[0m\u001b[0mself\u001b[0m\u001b[0;34m.\u001b[0m\u001b[0m_get_block_manager_axis\u001b[0m\u001b[0;34m(\u001b[0m\u001b[0maxis\u001b[0m\u001b[0;34m)\u001b[0m\u001b[0;34m,\u001b[0m\u001b[0;34m\u001b[0m\u001b[0;34m\u001b[0m\u001b[0m\n\u001b[0;32m-> 3359\u001b[0;31m                                    verify=True)\n\u001b[0m\u001b[1;32m   3360\u001b[0m         \u001b[0mresult\u001b[0m \u001b[0;34m=\u001b[0m \u001b[0mself\u001b[0m\u001b[0;34m.\u001b[0m\u001b[0m_constructor\u001b[0m\u001b[0;34m(\u001b[0m\u001b[0mnew_data\u001b[0m\u001b[0;34m)\u001b[0m\u001b[0;34m.\u001b[0m\u001b[0m__finalize__\u001b[0m\u001b[0;34m(\u001b[0m\u001b[0mself\u001b[0m\u001b[0;34m)\u001b[0m\u001b[0;34m\u001b[0m\u001b[0;34m\u001b[0m\u001b[0m\n\u001b[1;32m   3361\u001b[0m \u001b[0;34m\u001b[0m\u001b[0m\n",
      "\u001b[0;32m~/.pyenv/versions/anaconda3-5.1.0/lib/python3.6/site-packages/pandas/core/internals/managers.py\u001b[0m in \u001b[0;36mtake\u001b[0;34m(self, indexer, axis, verify, convert)\u001b[0m\n\u001b[1;32m   1335\u001b[0m                              dtype='int64')\n\u001b[1;32m   1336\u001b[0m                    \u001b[0;32mif\u001b[0m \u001b[0misinstance\u001b[0m\u001b[0;34m(\u001b[0m\u001b[0mindexer\u001b[0m\u001b[0;34m,\u001b[0m \u001b[0mslice\u001b[0m\u001b[0;34m)\u001b[0m\u001b[0;34m\u001b[0m\u001b[0;34m\u001b[0m\u001b[0m\n\u001b[0;32m-> 1337\u001b[0;31m                    else np.asanyarray(indexer, dtype='int64'))\n\u001b[0m\u001b[1;32m   1338\u001b[0m \u001b[0;34m\u001b[0m\u001b[0m\n\u001b[1;32m   1339\u001b[0m         \u001b[0mn\u001b[0m \u001b[0;34m=\u001b[0m \u001b[0mself\u001b[0m\u001b[0;34m.\u001b[0m\u001b[0mshape\u001b[0m\u001b[0;34m[\u001b[0m\u001b[0maxis\u001b[0m\u001b[0;34m]\u001b[0m\u001b[0;34m\u001b[0m\u001b[0;34m\u001b[0m\u001b[0m\n",
      "\u001b[0;32m~/.pyenv/versions/anaconda3-5.1.0/lib/python3.6/site-packages/numpy/core/numeric.py\u001b[0m in \u001b[0;36masanyarray\u001b[0;34m(a, dtype, order)\u001b[0m\n\u001b[1;32m    589\u001b[0m \u001b[0;34m\u001b[0m\u001b[0m\n\u001b[1;32m    590\u001b[0m     \"\"\"\n\u001b[0;32m--> 591\u001b[0;31m     \u001b[0;32mreturn\u001b[0m \u001b[0marray\u001b[0m\u001b[0;34m(\u001b[0m\u001b[0ma\u001b[0m\u001b[0;34m,\u001b[0m \u001b[0mdtype\u001b[0m\u001b[0;34m,\u001b[0m \u001b[0mcopy\u001b[0m\u001b[0;34m=\u001b[0m\u001b[0;32mFalse\u001b[0m\u001b[0;34m,\u001b[0m \u001b[0morder\u001b[0m\u001b[0;34m=\u001b[0m\u001b[0morder\u001b[0m\u001b[0;34m,\u001b[0m \u001b[0msubok\u001b[0m\u001b[0;34m=\u001b[0m\u001b[0;32mTrue\u001b[0m\u001b[0;34m)\u001b[0m\u001b[0;34m\u001b[0m\u001b[0;34m\u001b[0m\u001b[0m\n\u001b[0m\u001b[1;32m    592\u001b[0m \u001b[0;34m\u001b[0m\u001b[0m\n\u001b[1;32m    593\u001b[0m \u001b[0;34m\u001b[0m\u001b[0m\n",
      "\u001b[0;31mKeyboardInterrupt\u001b[0m: "
     ]
    }
   ],
   "source": [
    "if __name__ == \"__main__\":\n",
    "    main()"
   ]
  },
  {
   "cell_type": "code",
   "execution_count": null,
   "metadata": {},
   "outputs": [],
   "source": [
    "# svd: 0.6786418709495633\n",
    "#l sqr: 0.6786418709495633\n",
    "# eigen: 0.6786418709495633\n",
    "\n",
    "\n",
    "# eigen auto\n",
    "# 0.745280360664976"
   ]
  }
 ],
 "metadata": {
  "kernelspec": {
   "display_name": "Python 3",
   "language": "python",
   "name": "python3"
  },
  "language_info": {
   "codemirror_mode": {
    "name": "ipython",
    "version": 3
   },
   "file_extension": ".py",
   "mimetype": "text/x-python",
   "name": "python",
   "nbconvert_exporter": "python",
   "pygments_lexer": "ipython3",
   "version": "3.6.8"
  }
 },
 "nbformat": 4,
 "nbformat_minor": 2
}
