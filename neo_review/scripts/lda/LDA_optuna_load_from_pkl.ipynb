{
 "cells": [
  {
   "cell_type": "code",
   "execution_count": 1,
   "metadata": {},
   "outputs": [],
   "source": [
    "import numpy as np\n",
    "import json\n",
    "import csv\n",
    "import pandas as pd\n",
    "import matplotlib.pyplot as plt\n",
    "from sklearn.discriminant_analysis import LinearDiscriminantAnalysis as LDA\n",
    "from sklearn.metrics import confusion_matrix\n",
    "from sklearn.preprocessing import StandardScaler\n",
    "from sklearn.metrics import roc_auc_score\n",
    "from sklearn.metrics import roc_curve\n",
    "import seaborn as sns\n",
    "import optuna\n",
    "%matplotlib inline\n",
    "np.set_printoptions(precision=3, suppress=True)"
   ]
  },
  {
   "cell_type": "code",
   "execution_count": 2,
   "metadata": {},
   "outputs": [],
   "source": [
    "def load_data(y):\n",
    "    path = '../../data/std_data/'\n",
    "    x_train_std = pd.read_pickle(path +'train/{}_x.pkl'.format(str(y))).values\n",
    "    x_test_std = pd.read_pickle(path +'test/{}_x.pkl'.format(str(y))).values\n",
    "    y_train = pd.read_pickle(path +'train/{}_y.pkl'.format(str(y))).values\n",
    "    y_test = pd.read_pickle(path +'test/{}_y.pkl'.format(str(y))).values\n",
    "    features = pd.read_pickle(path +'train/{}_x.pkl'.format(str(y))).columns\n",
    "    return x_train_std, x_test_std, y_train, y_test, features"
   ]
  },
  {
   "cell_type": "code",
   "execution_count": 3,
   "metadata": {},
   "outputs": [],
   "source": [
    "def plot_roc_curve(fpr, tpr, auc):\n",
    "    # ROC曲線をプロット\n",
    "    plt.plot(fpr, tpr, label='ROC curve (area = %.2f)'%auc)\n",
    "    plt.legend()\n",
    "    plt.title('ROC curve')\n",
    "    plt.xlabel('False Positive Rate')\n",
    "    plt.ylabel('True Positive Rate')\n",
    "    plt.grid(True)\n",
    "    plt.show()"
   ]
  },
  {
   "cell_type": "code",
   "execution_count": 10,
   "metadata": {},
   "outputs": [],
   "source": [
    "def lda(trial):\n",
    "    \n",
    "    th_prob = 0.5\n",
    "    \n",
    "    shrinkage = trial.suggest_uniform('shrinkage', 0, 1)\n",
    "    \n",
    "    print(\"shrinkage: \", shrinkage)\n",
    "    cm_all = np.zeros((2, 2))\n",
    "    \n",
    "    # 予測した確率全体を格納\n",
    "    probs_all = np.array([])\n",
    "    y_true_all = np.array([])\n",
    "    \n",
    "    for y in range(1978, 2020):\n",
    "        \n",
    "        # データの生成\n",
    "        x_train_std, x_test_std, y_train, y_test, features = load_data(y)\n",
    "        \n",
    "        # 学習\n",
    "        trained = LDA(solver=\"eigen\", shrinkage=shrinkage).fit(x_train_std,  y_train)\n",
    "        \n",
    "        # 予測(確率)\n",
    "        probs = trained.predict_proba(x_test_std)\n",
    "        probs_all = np.hstack((probs_all, probs[:,1]))\n",
    "        y_true_all = np.hstack((y_true_all, y_test))\n",
    "        \n",
    "        # 混同行列\n",
    "        y_pred = np.where((probs[:,1] ==  max(probs[:,1])) | (probs[:,1] > th_prob), 1, 0) #確率→0/1\n",
    "        cm = confusion_matrix(y_true=y_test, y_pred=y_pred)\n",
    "        cm_all += cm\n",
    "\n",
    "    auc = roc_auc_score(y_true_all, probs_all)\n",
    "    fpr, tpr, thresholds = roc_curve(y_true_all, probs_all)\n",
    "    \n",
    "#     plot_roc_curve(fpr, tpr, auc)\n",
    "    \n",
    "    print(\"len: {0} , {1}\".format(len(y_true_all), len(probs_all) ))\n",
    "    print(\"confusion_matrix: \")\n",
    "    print(cm_all)\n",
    "    print(\"AUC: \")\n",
    "    print(auc)\n",
    "\n",
    "    return -auc"
   ]
  },
  {
   "cell_type": "code",
   "execution_count": 11,
   "metadata": {
    "scrolled": false
   },
   "outputs": [],
   "source": [
    "def main():\n",
    "    study = optuna.create_study()\n",
    "    study.optimize(lda, n_trials=100)\n",
    "    print(study.best_trial)"
   ]
  },
  {
   "cell_type": "code",
   "execution_count": 12,
   "metadata": {},
   "outputs": [
    {
     "name": "stdout",
     "output_type": "stream",
     "text": [
      "shrinkage:  0.4968883256324452\n",
      "len: 211 , 211\n",
      "confusion_matrix: \n",
      "[[142.  27.]\n",
      " [ 21.  21.]]\n",
      "AUC: \n",
      "0.6979430825584673\n"
     ]
    },
    {
     "name": "stderr",
     "output_type": "stream",
     "text": [
      "[I 2019-08-23 01:31:27,884] Finished trial#0 resulted in value: -0.6979430825584673. Current best value is -0.6979430825584673 with parameters: {'shrinkage': 0.4968883256324452}.\n"
     ]
    },
    {
     "name": "stdout",
     "output_type": "stream",
     "text": [
      "shrinkage:  0.22462667462506603\n",
      "len: 211 , 211\n",
      "confusion_matrix: \n",
      "[[142.  27.]\n",
      " [ 21.  21.]]\n",
      "AUC: \n",
      "0.666384897154128\n"
     ]
    },
    {
     "name": "stderr",
     "output_type": "stream",
     "text": [
      "[I 2019-08-23 01:31:28,406] Finished trial#1 resulted in value: -0.666384897154128. Current best value is -0.6979430825584673 with parameters: {'shrinkage': 0.4968883256324452}.\n"
     ]
    },
    {
     "name": "stdout",
     "output_type": "stream",
     "text": [
      "shrinkage:  0.19733108247907616\n",
      "len: 211 , 211\n",
      "confusion_matrix: \n",
      "[[142.  27.]\n",
      " [ 22.  20.]]\n",
      "AUC: \n",
      "0.665257819103973\n"
     ]
    },
    {
     "name": "stderr",
     "output_type": "stream",
     "text": [
      "[I 2019-08-23 01:31:28,930] Finished trial#2 resulted in value: -0.665257819103973. Current best value is -0.6979430825584673 with parameters: {'shrinkage': 0.4968883256324452}.\n"
     ]
    },
    {
     "name": "stdout",
     "output_type": "stream",
     "text": [
      "shrinkage:  0.9162273825769557\n",
      "len: 211 , 211\n",
      "confusion_matrix: \n",
      "[[147.  22.]\n",
      " [ 21.  21.]]\n",
      "AUC: \n",
      "0.7362637362637363\n"
     ]
    },
    {
     "name": "stderr",
     "output_type": "stream",
     "text": [
      "[I 2019-08-23 01:31:29,499] Finished trial#3 resulted in value: -0.7362637362637363. Current best value is -0.7362637362637363 with parameters: {'shrinkage': 0.9162273825769557}.\n"
     ]
    },
    {
     "name": "stdout",
     "output_type": "stream",
     "text": [
      "shrinkage:  0.7107335219568304\n",
      "len: 211 , 211\n",
      "confusion_matrix: \n",
      "[[145.  24.]\n",
      " [ 20.  22.]]\n",
      "AUC: \n",
      "0.7196393350239504\n"
     ]
    },
    {
     "name": "stderr",
     "output_type": "stream",
     "text": [
      "[I 2019-08-23 01:31:30,113] Finished trial#4 resulted in value: -0.7196393350239504. Current best value is -0.7362637362637363 with parameters: {'shrinkage': 0.9162273825769557}.\n"
     ]
    },
    {
     "name": "stdout",
     "output_type": "stream",
     "text": [
      "shrinkage:  0.9648740483179331\n",
      "len: 211 , 211\n",
      "confusion_matrix: \n",
      "[[148.  21.]\n",
      " [ 18.  24.]]\n",
      "AUC: \n",
      "0.7406311637080868\n"
     ]
    },
    {
     "name": "stderr",
     "output_type": "stream",
     "text": [
      "[I 2019-08-23 01:31:30,772] Finished trial#5 resulted in value: -0.7406311637080868. Current best value is -0.7406311637080868 with parameters: {'shrinkage': 0.9648740483179331}.\n"
     ]
    },
    {
     "name": "stdout",
     "output_type": "stream",
     "text": [
      "shrinkage:  0.40726485893882236\n",
      "len: 211 , 211\n",
      "confusion_matrix: \n",
      "[[142.  27.]\n",
      " [ 21.  21.]]\n",
      "AUC: \n",
      "0.68836291913215\n"
     ]
    },
    {
     "name": "stderr",
     "output_type": "stream",
     "text": [
      "[I 2019-08-23 01:31:31,275] Finished trial#6 resulted in value: -0.68836291913215. Current best value is -0.7406311637080868 with parameters: {'shrinkage': 0.9648740483179331}.\n"
     ]
    },
    {
     "name": "stdout",
     "output_type": "stream",
     "text": [
      "shrinkage:  0.7734416573155524\n",
      "len: 211 , 211\n",
      "confusion_matrix: \n",
      "[[146.  23.]\n",
      " [ 20.  22.]]\n",
      "AUC: \n",
      "0.7251338405184559\n"
     ]
    },
    {
     "name": "stderr",
     "output_type": "stream",
     "text": [
      "[I 2019-08-23 01:31:32,049] Finished trial#7 resulted in value: -0.7251338405184559. Current best value is -0.7406311637080868 with parameters: {'shrinkage': 0.9648740483179331}.\n"
     ]
    },
    {
     "name": "stdout",
     "output_type": "stream",
     "text": [
      "shrinkage:  0.47694340795648515\n",
      "len: 211 , 211\n",
      "confusion_matrix: \n",
      "[[142.  27.]\n",
      " [ 21.  21.]]\n",
      "AUC: \n",
      "0.6948436179205411\n"
     ]
    },
    {
     "name": "stderr",
     "output_type": "stream",
     "text": [
      "[I 2019-08-23 01:31:32,731] Finished trial#8 resulted in value: -0.6948436179205411. Current best value is -0.7406311637080868 with parameters: {'shrinkage': 0.9648740483179331}.\n"
     ]
    },
    {
     "name": "stdout",
     "output_type": "stream",
     "text": [
      "shrinkage:  0.9580995348891025\n",
      "len: 211 , 211\n",
      "confusion_matrix: \n",
      "[[148.  21.]\n",
      " [ 18.  24.]]\n",
      "AUC: \n",
      "0.7407720484643561\n"
     ]
    },
    {
     "name": "stderr",
     "output_type": "stream",
     "text": [
      "[I 2019-08-23 01:31:33,412] Finished trial#9 resulted in value: -0.7407720484643561. Current best value is -0.7407720484643561 with parameters: {'shrinkage': 0.9580995348891025}.\n"
     ]
    },
    {
     "name": "stdout",
     "output_type": "stream",
     "text": [
      "shrinkage:  0.7226337854134238\n",
      "len: 211 , 211\n",
      "confusion_matrix: \n",
      "[[146.  23.]\n",
      " [ 20.  22.]]\n",
      "AUC: \n",
      "0.7207664130741053\n"
     ]
    },
    {
     "name": "stderr",
     "output_type": "stream",
     "text": [
      "[I 2019-08-23 01:31:33,983] Finished trial#10 resulted in value: -0.7207664130741053. Current best value is -0.7407720484643561 with parameters: {'shrinkage': 0.9580995348891025}.\n"
     ]
    },
    {
     "name": "stdout",
     "output_type": "stream",
     "text": [
      "shrinkage:  0.9897436755011041\n",
      "len: 211 , 211\n",
      "confusion_matrix: \n",
      "[[148.  21.]\n",
      " [ 18.  24.]]\n",
      "AUC: \n",
      "0.7416173570019724\n"
     ]
    },
    {
     "name": "stderr",
     "output_type": "stream",
     "text": [
      "[I 2019-08-23 01:31:34,522] Finished trial#11 resulted in value: -0.7416173570019724. Current best value is -0.7416173570019724 with parameters: {'shrinkage': 0.9897436755011041}.\n"
     ]
    },
    {
     "name": "stdout",
     "output_type": "stream",
     "text": [
      "shrinkage:  0.9943268320223053\n",
      "len: 211 , 211\n",
      "confusion_matrix: \n",
      "[[148.  21.]\n",
      " [ 18.  24.]]\n",
      "AUC: \n",
      "0.7423217807833192\n"
     ]
    },
    {
     "name": "stderr",
     "output_type": "stream",
     "text": [
      "[I 2019-08-23 01:31:34,981] Finished trial#12 resulted in value: -0.7423217807833192. Current best value is -0.7423217807833192 with parameters: {'shrinkage': 0.9943268320223053}.\n"
     ]
    },
    {
     "name": "stdout",
     "output_type": "stream",
     "text": [
      "shrinkage:  0.8285922919369475\n",
      "len: 211 , 211\n",
      "confusion_matrix: \n",
      "[[146.  23.]\n",
      " [ 20.  22.]]\n",
      "AUC: \n",
      "0.7299239222316145\n"
     ]
    },
    {
     "name": "stderr",
     "output_type": "stream",
     "text": [
      "[I 2019-08-23 01:31:35,468] Finished trial#13 resulted in value: -0.7299239222316145. Current best value is -0.7423217807833192 with parameters: {'shrinkage': 0.9943268320223053}.\n"
     ]
    },
    {
     "name": "stdout",
     "output_type": "stream",
     "text": [
      "shrinkage:  0.6413111506991476\n",
      "len: 211 , 211\n",
      "confusion_matrix: \n",
      "[[143.  26.]\n",
      " [ 20.  22.]]\n",
      "AUC: \n",
      "0.7131586362355593\n"
     ]
    },
    {
     "name": "stderr",
     "output_type": "stream",
     "text": [
      "[I 2019-08-23 01:31:35,961] Finished trial#14 resulted in value: -0.7131586362355593. Current best value is -0.7423217807833192 with parameters: {'shrinkage': 0.9943268320223053}.\n"
     ]
    },
    {
     "name": "stdout",
     "output_type": "stream",
     "text": [
      "shrinkage:  0.9882767134266338\n",
      "len: 211 , 211\n",
      "confusion_matrix: \n",
      "[[148.  21.]\n",
      " [ 18.  24.]]\n",
      "AUC: \n",
      "0.741476472245703\n"
     ]
    },
    {
     "name": "stderr",
     "output_type": "stream",
     "text": [
      "[I 2019-08-23 01:31:36,417] Finished trial#15 resulted in value: -0.741476472245703. Current best value is -0.7423217807833192 with parameters: {'shrinkage': 0.9943268320223053}.\n"
     ]
    },
    {
     "name": "stdout",
     "output_type": "stream",
     "text": [
      "shrinkage:  0.8406078817849989\n",
      "len: 211 , 211\n",
      "confusion_matrix: \n",
      "[[145.  24.]\n",
      " [ 21.  21.]]\n",
      "AUC: \n",
      "0.7313327697943083\n"
     ]
    },
    {
     "name": "stderr",
     "output_type": "stream",
     "text": [
      "[I 2019-08-23 01:31:36,889] Finished trial#16 resulted in value: -0.7313327697943083. Current best value is -0.7423217807833192 with parameters: {'shrinkage': 0.9943268320223053}.\n"
     ]
    },
    {
     "name": "stdout",
     "output_type": "stream",
     "text": [
      "shrinkage:  0.08532445900309815\n",
      "len: 211 , 211\n",
      "confusion_matrix: \n",
      "[[138.  31.]\n",
      " [ 22.  20.]]\n",
      "AUC: \n",
      "0.6549732318963087\n"
     ]
    },
    {
     "name": "stderr",
     "output_type": "stream",
     "text": [
      "[I 2019-08-23 01:31:37,389] Finished trial#17 resulted in value: -0.6549732318963087. Current best value is -0.7423217807833192 with parameters: {'shrinkage': 0.9943268320223053}.\n"
     ]
    },
    {
     "name": "stdout",
     "output_type": "stream",
     "text": [
      "shrinkage:  0.6149533852148243\n",
      "len: 211 , 211\n",
      "confusion_matrix: \n",
      "[[143.  26.]\n",
      " [ 20.  22.]]\n",
      "AUC: \n",
      "0.7117497886728656\n"
     ]
    },
    {
     "name": "stderr",
     "output_type": "stream",
     "text": [
      "[I 2019-08-23 01:31:37,898] Finished trial#18 resulted in value: -0.7117497886728656. Current best value is -0.7423217807833192 with parameters: {'shrinkage': 0.9943268320223053}.\n"
     ]
    },
    {
     "name": "stdout",
     "output_type": "stream",
     "text": [
      "shrinkage:  0.8728674148573531\n",
      "len: 211 , 211\n",
      "confusion_matrix: \n",
      "[[145.  24.]\n",
      " [ 21.  21.]]\n",
      "AUC: \n",
      "0.7337278106508877\n"
     ]
    },
    {
     "name": "stderr",
     "output_type": "stream",
     "text": [
      "[I 2019-08-23 01:31:38,412] Finished trial#19 resulted in value: -0.7337278106508877. Current best value is -0.7423217807833192 with parameters: {'shrinkage': 0.9943268320223053}.\n"
     ]
    },
    {
     "name": "stdout",
     "output_type": "stream",
     "text": [
      "shrinkage:  0.9947082815731083\n",
      "len: 211 , 211\n",
      "confusion_matrix: \n",
      "[[148.  21.]\n",
      " [ 18.  24.]]\n",
      "AUC: \n",
      "0.7423217807833192\n"
     ]
    },
    {
     "name": "stderr",
     "output_type": "stream",
     "text": [
      "[I 2019-08-23 01:31:38,924] Finished trial#20 resulted in value: -0.7423217807833192. Current best value is -0.7423217807833192 with parameters: {'shrinkage': 0.9943268320223053}.\n"
     ]
    },
    {
     "name": "stdout",
     "output_type": "stream",
     "text": [
      "shrinkage:  0.9938100726164629\n",
      "len: 211 , 211\n",
      "confusion_matrix: \n",
      "[[148.  21.]\n",
      " [ 18.  24.]]\n",
      "AUC: \n",
      "0.7424626655395886\n"
     ]
    },
    {
     "name": "stderr",
     "output_type": "stream",
     "text": [
      "[I 2019-08-23 01:31:39,433] Finished trial#21 resulted in value: -0.7424626655395886. Current best value is -0.7424626655395886 with parameters: {'shrinkage': 0.9938100726164629}.\n"
     ]
    },
    {
     "name": "stdout",
     "output_type": "stream",
     "text": [
      "shrinkage:  0.9990907805945658\n",
      "len: 211 , 211\n",
      "confusion_matrix: \n",
      "[[148.  21.]\n",
      " [ 18.  24.]]\n",
      "AUC: \n",
      "0.7417582417582417\n"
     ]
    },
    {
     "name": "stderr",
     "output_type": "stream",
     "text": [
      "[I 2019-08-23 01:31:39,944] Finished trial#22 resulted in value: -0.7417582417582417. Current best value is -0.7424626655395886 with parameters: {'shrinkage': 0.9938100726164629}.\n"
     ]
    },
    {
     "name": "stdout",
     "output_type": "stream",
     "text": [
      "shrinkage:  0.8911669425248836\n",
      "len: 211 , 211\n",
      "confusion_matrix: \n",
      "[[145.  24.]\n",
      " [ 21.  21.]]\n",
      "AUC: \n",
      "0.7349957734573119\n"
     ]
    },
    {
     "name": "stderr",
     "output_type": "stream",
     "text": [
      "[I 2019-08-23 01:31:40,435] Finished trial#23 resulted in value: -0.7349957734573119. Current best value is -0.7424626655395886 with parameters: {'shrinkage': 0.9938100726164629}.\n"
     ]
    },
    {
     "name": "stdout",
     "output_type": "stream",
     "text": [
      "shrinkage:  0.791504743779669\n",
      "len: 211 , 211\n",
      "confusion_matrix: \n",
      "[[146.  23.]\n",
      " [ 20.  22.]]\n",
      "AUC: \n",
      "0.7268244575936884\n"
     ]
    },
    {
     "name": "stderr",
     "output_type": "stream",
     "text": [
      "[I 2019-08-23 01:31:40,941] Finished trial#24 resulted in value: -0.7268244575936884. Current best value is -0.7424626655395886 with parameters: {'shrinkage': 0.9938100726164629}.\n"
     ]
    },
    {
     "name": "stdout",
     "output_type": "stream",
     "text": [
      "shrinkage:  0.9041128689447797\n",
      "len: 211 , 211\n",
      "confusion_matrix: \n",
      "[[145.  24.]\n",
      " [ 21.  21.]]\n",
      "AUC: \n",
      "0.736122851507467\n"
     ]
    },
    {
     "name": "stderr",
     "output_type": "stream",
     "text": [
      "[I 2019-08-23 01:31:41,465] Finished trial#25 resulted in value: -0.736122851507467. Current best value is -0.7424626655395886 with parameters: {'shrinkage': 0.9938100726164629}.\n"
     ]
    },
    {
     "name": "stdout",
     "output_type": "stream",
     "text": [
      "shrinkage:  0.6214688788983067\n",
      "len: 211 , 211\n",
      "confusion_matrix: \n",
      "[[143.  26.]\n",
      " [ 20.  22.]]\n",
      "AUC: \n",
      "0.7120315581854043\n"
     ]
    },
    {
     "name": "stderr",
     "output_type": "stream",
     "text": [
      "[I 2019-08-23 01:31:42,009] Finished trial#26 resulted in value: -0.7120315581854043. Current best value is -0.7424626655395886 with parameters: {'shrinkage': 0.9938100726164629}.\n"
     ]
    },
    {
     "name": "stdout",
     "output_type": "stream",
     "text": [
      "shrinkage:  0.9982607563313063\n",
      "len: 211 , 211\n",
      "confusion_matrix: \n",
      "[[148.  21.]\n",
      " [ 18.  24.]]\n",
      "AUC: \n",
      "0.7417582417582417\n"
     ]
    },
    {
     "name": "stderr",
     "output_type": "stream",
     "text": [
      "[I 2019-08-23 01:31:42,503] Finished trial#27 resulted in value: -0.7417582417582417. Current best value is -0.7424626655395886 with parameters: {'shrinkage': 0.9938100726164629}.\n"
     ]
    },
    {
     "name": "stdout",
     "output_type": "stream",
     "text": [
      "shrinkage:  0.7246690567689258\n",
      "len: 211 , 211\n",
      "confusion_matrix: \n",
      "[[146.  23.]\n",
      " [ 20.  22.]]\n",
      "AUC: \n",
      "0.720625528317836\n"
     ]
    },
    {
     "name": "stderr",
     "output_type": "stream",
     "text": [
      "[I 2019-08-23 01:31:43,006] Finished trial#28 resulted in value: -0.720625528317836. Current best value is -0.7424626655395886 with parameters: {'shrinkage': 0.9938100726164629}.\n"
     ]
    },
    {
     "name": "stdout",
     "output_type": "stream",
     "text": [
      "shrinkage:  0.9239173960166486\n",
      "len: 211 , 211\n",
      "confusion_matrix: \n",
      "[[147.  22.]\n",
      " [ 21.  21.]]\n",
      "AUC: \n",
      "0.7369681600450831\n"
     ]
    },
    {
     "name": "stderr",
     "output_type": "stream",
     "text": [
      "[I 2019-08-23 01:31:43,475] Finished trial#29 resulted in value: -0.7369681600450831. Current best value is -0.7424626655395886 with parameters: {'shrinkage': 0.9938100726164629}.\n"
     ]
    },
    {
     "name": "stdout",
     "output_type": "stream",
     "text": [
      "shrinkage:  0.37426970727695197\n",
      "len: 211 , 211\n",
      "confusion_matrix: \n",
      "[[141.  28.]\n",
      " [ 21.  21.]]\n",
      "AUC: \n",
      "0.6832910679064526\n"
     ]
    },
    {
     "name": "stderr",
     "output_type": "stream",
     "text": [
      "[I 2019-08-23 01:31:43,956] Finished trial#30 resulted in value: -0.6832910679064526. Current best value is -0.7424626655395886 with parameters: {'shrinkage': 0.9938100726164629}.\n"
     ]
    },
    {
     "name": "stdout",
     "output_type": "stream",
     "text": [
      "shrinkage:  0.9954671434212472\n",
      "len: 211 , 211\n",
      "confusion_matrix: \n",
      "[[148.  21.]\n",
      " [ 18.  24.]]\n",
      "AUC: \n",
      "0.7423217807833192\n"
     ]
    },
    {
     "name": "stderr",
     "output_type": "stream",
     "text": [
      "[I 2019-08-23 01:31:44,460] Finished trial#31 resulted in value: -0.7423217807833192. Current best value is -0.7424626655395886 with parameters: {'shrinkage': 0.9938100726164629}.\n"
     ]
    },
    {
     "name": "stdout",
     "output_type": "stream",
     "text": [
      "shrinkage:  0.8468623512889979\n",
      "len: 211 , 211\n",
      "confusion_matrix: \n",
      "[[145.  24.]\n",
      " [ 21.  21.]]\n",
      "AUC: \n",
      "0.7318963088193857\n"
     ]
    },
    {
     "name": "stderr",
     "output_type": "stream",
     "text": [
      "[I 2019-08-23 01:31:44,985] Finished trial#32 resulted in value: -0.7318963088193857. Current best value is -0.7424626655395886 with parameters: {'shrinkage': 0.9938100726164629}.\n"
     ]
    },
    {
     "name": "stdout",
     "output_type": "stream",
     "text": [
      "shrinkage:  0.9932333425917688\n",
      "len: 211 , 211\n",
      "confusion_matrix: \n",
      "[[148.  21.]\n",
      " [ 18.  24.]]\n",
      "AUC: \n",
      "0.7423217807833192\n"
     ]
    },
    {
     "name": "stderr",
     "output_type": "stream",
     "text": [
      "[I 2019-08-23 01:31:45,534] Finished trial#33 resulted in value: -0.7423217807833192. Current best value is -0.7424626655395886 with parameters: {'shrinkage': 0.9938100726164629}.\n"
     ]
    },
    {
     "name": "stdout",
     "output_type": "stream",
     "text": [
      "shrinkage:  0.9288389151346741\n",
      "len: 211 , 211\n",
      "confusion_matrix: \n",
      "[[147.  22.]\n",
      " [ 21.  21.]]\n",
      "AUC: \n",
      "0.73767258382643\n"
     ]
    },
    {
     "name": "stderr",
     "output_type": "stream",
     "text": [
      "[I 2019-08-23 01:31:46,038] Finished trial#34 resulted in value: -0.73767258382643. Current best value is -0.7424626655395886 with parameters: {'shrinkage': 0.9938100726164629}.\n"
     ]
    },
    {
     "name": "stdout",
     "output_type": "stream",
     "text": [
      "shrinkage:  0.7864094386487568\n",
      "len: 211 , 211\n",
      "confusion_matrix: \n",
      "[[146.  23.]\n",
      " [ 20.  22.]]\n",
      "AUC: \n",
      "0.7259791490560721\n"
     ]
    },
    {
     "name": "stderr",
     "output_type": "stream",
     "text": [
      "[I 2019-08-23 01:31:46,536] Finished trial#35 resulted in value: -0.7259791490560721. Current best value is -0.7424626655395886 with parameters: {'shrinkage': 0.9938100726164629}.\n"
     ]
    },
    {
     "name": "stdout",
     "output_type": "stream",
     "text": [
      "shrinkage:  0.938396762929578\n",
      "len: 211 , 211\n",
      "confusion_matrix: \n",
      "[[147.  22.]\n",
      " [ 21.  21.]]\n",
      "AUC: \n",
      "0.738799661876585\n"
     ]
    },
    {
     "name": "stderr",
     "output_type": "stream",
     "text": [
      "[I 2019-08-23 01:31:47,166] Finished trial#36 resulted in value: -0.738799661876585. Current best value is -0.7424626655395886 with parameters: {'shrinkage': 0.9938100726164629}.\n"
     ]
    },
    {
     "name": "stdout",
     "output_type": "stream",
     "text": [
      "shrinkage:  0.27290272039337005\n",
      "len: 211 , 211\n",
      "confusion_matrix: \n",
      "[[141.  28.]\n",
      " [ 21.  21.]]\n",
      "AUC: \n",
      "0.671738517892364\n"
     ]
    },
    {
     "name": "stderr",
     "output_type": "stream",
     "text": [
      "[I 2019-08-23 01:31:47,674] Finished trial#37 resulted in value: -0.671738517892364. Current best value is -0.7424626655395886 with parameters: {'shrinkage': 0.9938100726164629}.\n"
     ]
    },
    {
     "name": "stdout",
     "output_type": "stream",
     "text": [
      "shrinkage:  0.8633511009546804\n",
      "len: 211 , 211\n",
      "confusion_matrix: \n",
      "[[145.  24.]\n",
      " [ 21.  21.]]\n",
      "AUC: \n",
      "0.7328825021132713\n"
     ]
    },
    {
     "name": "stderr",
     "output_type": "stream",
     "text": [
      "[I 2019-08-23 01:31:48,273] Finished trial#38 resulted in value: -0.7328825021132713. Current best value is -0.7424626655395886 with parameters: {'shrinkage': 0.9938100726164629}.\n"
     ]
    },
    {
     "name": "stdout",
     "output_type": "stream",
     "text": [
      "shrinkage:  0.9993509724025251\n",
      "len: 211 , 211\n",
      "confusion_matrix: \n",
      "[[148.  21.]\n",
      " [ 18.  24.]]\n",
      "AUC: \n",
      "0.7417582417582417\n"
     ]
    },
    {
     "name": "stderr",
     "output_type": "stream",
     "text": [
      "[I 2019-08-23 01:31:48,960] Finished trial#39 resulted in value: -0.7417582417582417. Current best value is -0.7424626655395886 with parameters: {'shrinkage': 0.9938100726164629}.\n"
     ]
    },
    {
     "name": "stdout",
     "output_type": "stream",
     "text": [
      "shrinkage:  0.9462353956159598\n",
      "len: 211 , 211\n",
      "confusion_matrix: \n",
      "[[147.  22.]\n",
      " [ 20.  22.]]\n",
      "AUC: \n",
      "0.7393632009016624\n"
     ]
    },
    {
     "name": "stderr",
     "output_type": "stream",
     "text": [
      "[I 2019-08-23 01:31:49,710] Finished trial#40 resulted in value: -0.7393632009016624. Current best value is -0.7424626655395886 with parameters: {'shrinkage': 0.9938100726164629}.\n"
     ]
    },
    {
     "name": "stdout",
     "output_type": "stream",
     "text": [
      "shrinkage:  0.979914729089027\n",
      "len: 211 , 211\n",
      "confusion_matrix: \n",
      "[[148.  21.]\n",
      " [ 18.  24.]]\n",
      "AUC: \n",
      "0.7418991265145111\n"
     ]
    },
    {
     "name": "stderr",
     "output_type": "stream",
     "text": [
      "[I 2019-08-23 01:31:50,427] Finished trial#41 resulted in value: -0.7418991265145111. Current best value is -0.7424626655395886 with parameters: {'shrinkage': 0.9938100726164629}.\n"
     ]
    },
    {
     "name": "stdout",
     "output_type": "stream",
     "text": [
      "shrinkage:  0.9031783329767445\n",
      "len: 211 , 211\n",
      "confusion_matrix: \n",
      "[[145.  24.]\n",
      " [ 21.  21.]]\n",
      "AUC: \n",
      "0.7358410819949281\n"
     ]
    },
    {
     "name": "stderr",
     "output_type": "stream",
     "text": [
      "[I 2019-08-23 01:31:51,217] Finished trial#42 resulted in value: -0.7358410819949281. Current best value is -0.7424626655395886 with parameters: {'shrinkage': 0.9938100726164629}.\n"
     ]
    },
    {
     "name": "stdout",
     "output_type": "stream",
     "text": [
      "shrinkage:  0.9532366744688157\n",
      "len: 211 , 211\n",
      "confusion_matrix: \n",
      "[[147.  22.]\n",
      " [ 19.  23.]]\n",
      "AUC: \n",
      "0.7400676246830094\n"
     ]
    },
    {
     "name": "stderr",
     "output_type": "stream",
     "text": [
      "[I 2019-08-23 01:31:51,834] Finished trial#43 resulted in value: -0.7400676246830094. Current best value is -0.7424626655395886 with parameters: {'shrinkage': 0.9938100726164629}.\n"
     ]
    },
    {
     "name": "stdout",
     "output_type": "stream",
     "text": [
      "shrinkage:  0.9963942493457529\n",
      "len: 211 , 211\n",
      "confusion_matrix: \n",
      "[[148.  21.]\n",
      " [ 18.  24.]]\n",
      "AUC: \n",
      "0.7420400112707805\n"
     ]
    },
    {
     "name": "stderr",
     "output_type": "stream",
     "text": [
      "[I 2019-08-23 01:31:52,553] Finished trial#44 resulted in value: -0.7420400112707805. Current best value is -0.7424626655395886 with parameters: {'shrinkage': 0.9938100726164629}.\n"
     ]
    },
    {
     "name": "stdout",
     "output_type": "stream",
     "text": [
      "shrinkage:  0.8144114170306809\n",
      "len: 211 , 211\n",
      "confusion_matrix: \n",
      "[[146.  23.]\n",
      " [ 20.  22.]]\n",
      "AUC: \n",
      "0.7296421527190758\n"
     ]
    },
    {
     "name": "stderr",
     "output_type": "stream",
     "text": [
      "[I 2019-08-23 01:31:53,161] Finished trial#45 resulted in value: -0.7296421527190758. Current best value is -0.7424626655395886 with parameters: {'shrinkage': 0.9938100726164629}.\n"
     ]
    },
    {
     "name": "stdout",
     "output_type": "stream",
     "text": [
      "shrinkage:  0.5518082239857498\n",
      "len: 211 , 211\n",
      "confusion_matrix: \n",
      "[[143.  26.]\n",
      " [ 20.  22.]]\n",
      "AUC: \n",
      "0.7045646661031276\n"
     ]
    },
    {
     "name": "stderr",
     "output_type": "stream",
     "text": [
      "[I 2019-08-23 01:31:53,745] Finished trial#46 resulted in value: -0.7045646661031276. Current best value is -0.7424626655395886 with parameters: {'shrinkage': 0.9938100726164629}.\n"
     ]
    },
    {
     "name": "stdout",
     "output_type": "stream",
     "text": [
      "shrinkage:  0.8965859080193844\n",
      "len: 211 , 211\n",
      "confusion_matrix: \n",
      "[[145.  24.]\n",
      " [ 21.  21.]]\n",
      "AUC: \n",
      "0.7357001972386589\n"
     ]
    },
    {
     "name": "stderr",
     "output_type": "stream",
     "text": [
      "[I 2019-08-23 01:31:54,305] Finished trial#47 resulted in value: -0.7357001972386589. Current best value is -0.7424626655395886 with parameters: {'shrinkage': 0.9938100726164629}.\n"
     ]
    },
    {
     "name": "stdout",
     "output_type": "stream",
     "text": [
      "shrinkage:  0.7606275276276893\n",
      "len: 211 , 211\n",
      "confusion_matrix: \n",
      "[[146.  23.]\n",
      " [ 20.  22.]]\n",
      "AUC: \n",
      "0.724429416737109\n"
     ]
    },
    {
     "name": "stderr",
     "output_type": "stream",
     "text": [
      "[I 2019-08-23 01:31:54,808] Finished trial#48 resulted in value: -0.724429416737109. Current best value is -0.7424626655395886 with parameters: {'shrinkage': 0.9938100726164629}.\n"
     ]
    },
    {
     "name": "stdout",
     "output_type": "stream",
     "text": [
      "shrinkage:  0.9578396759981156\n",
      "len: 211 , 211\n",
      "confusion_matrix: \n",
      "[[148.  21.]\n",
      " [ 18.  24.]]\n",
      "AUC: \n",
      "0.7406311637080867\n"
     ]
    },
    {
     "name": "stderr",
     "output_type": "stream",
     "text": [
      "[I 2019-08-23 01:31:55,305] Finished trial#49 resulted in value: -0.7406311637080867. Current best value is -0.7424626655395886 with parameters: {'shrinkage': 0.9938100726164629}.\n"
     ]
    },
    {
     "name": "stdout",
     "output_type": "stream",
     "text": [
      "shrinkage:  0.03251803655824309\n",
      "len: 211 , 211\n",
      "confusion_matrix: \n",
      "[[137.  32.]\n",
      " [ 21.  21.]]\n",
      "AUC: \n",
      "0.6511693434770357\n"
     ]
    },
    {
     "name": "stderr",
     "output_type": "stream",
     "text": [
      "[I 2019-08-23 01:31:55,816] Finished trial#50 resulted in value: -0.6511693434770357. Current best value is -0.7424626655395886 with parameters: {'shrinkage': 0.9938100726164629}.\n"
     ]
    },
    {
     "name": "stdout",
     "output_type": "stream",
     "text": [
      "shrinkage:  0.9829535143620652\n",
      "len: 211 , 211\n",
      "confusion_matrix: \n",
      "[[148.  21.]\n",
      " [ 18.  24.]]\n",
      "AUC: \n",
      "0.7416173570019723\n"
     ]
    },
    {
     "name": "stderr",
     "output_type": "stream",
     "text": [
      "[I 2019-08-23 01:31:56,318] Finished trial#51 resulted in value: -0.7416173570019723. Current best value is -0.7424626655395886 with parameters: {'shrinkage': 0.9938100726164629}.\n"
     ]
    },
    {
     "name": "stdout",
     "output_type": "stream",
     "text": [
      "shrinkage:  0.9935193866326651\n",
      "len: 211 , 211\n",
      "confusion_matrix: \n",
      "[[148.  21.]\n",
      " [ 18.  24.]]\n",
      "AUC: \n",
      "0.7424626655395886\n"
     ]
    },
    {
     "name": "stderr",
     "output_type": "stream",
     "text": [
      "[I 2019-08-23 01:31:56,823] Finished trial#52 resulted in value: -0.7424626655395886. Current best value is -0.7424626655395886 with parameters: {'shrinkage': 0.9938100726164629}.\n"
     ]
    },
    {
     "name": "stdout",
     "output_type": "stream",
     "text": [
      "shrinkage:  0.8731302697349302\n",
      "len: 211 , 211\n",
      "confusion_matrix: \n",
      "[[145.  24.]\n",
      " [ 21.  21.]]\n",
      "AUC: \n",
      "0.7335869258946183\n"
     ]
    },
    {
     "name": "stderr",
     "output_type": "stream",
     "text": [
      "[I 2019-08-23 01:31:57,336] Finished trial#53 resulted in value: -0.7335869258946183. Current best value is -0.7424626655395886 with parameters: {'shrinkage': 0.9938100726164629}.\n"
     ]
    },
    {
     "name": "stdout",
     "output_type": "stream",
     "text": [
      "shrinkage:  0.9532038922776004\n",
      "len: 211 , 211\n",
      "confusion_matrix: \n",
      "[[147.  22.]\n",
      " [ 19.  23.]]\n",
      "AUC: \n",
      "0.7400676246830094\n"
     ]
    },
    {
     "name": "stderr",
     "output_type": "stream",
     "text": [
      "[I 2019-08-23 01:31:57,834] Finished trial#54 resulted in value: -0.7400676246830094. Current best value is -0.7424626655395886 with parameters: {'shrinkage': 0.9938100726164629}.\n"
     ]
    },
    {
     "name": "stdout",
     "output_type": "stream",
     "text": [
      "shrinkage:  0.8276971582362543\n",
      "len: 211 , 211\n",
      "confusion_matrix: \n",
      "[[146.  23.]\n",
      " [ 20.  22.]]\n",
      "AUC: \n",
      "0.7299239222316145\n"
     ]
    },
    {
     "name": "stderr",
     "output_type": "stream",
     "text": [
      "[I 2019-08-23 01:31:58,344] Finished trial#55 resulted in value: -0.7299239222316145. Current best value is -0.7424626655395886 with parameters: {'shrinkage': 0.9938100726164629}.\n"
     ]
    },
    {
     "name": "stdout",
     "output_type": "stream",
     "text": [
      "shrinkage:  0.9084722099381408\n",
      "len: 211 , 211\n",
      "confusion_matrix: \n",
      "[[145.  24.]\n",
      " [ 21.  21.]]\n",
      "AUC: \n",
      "0.7362637362637363\n"
     ]
    },
    {
     "name": "stderr",
     "output_type": "stream",
     "text": [
      "[I 2019-08-23 01:31:58,867] Finished trial#56 resulted in value: -0.7362637362637363. Current best value is -0.7424626655395886 with parameters: {'shrinkage': 0.9938100726164629}.\n"
     ]
    },
    {
     "name": "stdout",
     "output_type": "stream",
     "text": [
      "shrinkage:  0.9949103368327568\n",
      "len: 211 , 211\n",
      "confusion_matrix: \n",
      "[[148.  21.]\n",
      " [ 18.  24.]]\n",
      "AUC: \n",
      "0.7423217807833192\n"
     ]
    },
    {
     "name": "stderr",
     "output_type": "stream",
     "text": [
      "[I 2019-08-23 01:31:59,371] Finished trial#57 resulted in value: -0.7423217807833192. Current best value is -0.7424626655395886 with parameters: {'shrinkage': 0.9938100726164629}.\n"
     ]
    },
    {
     "name": "stdout",
     "output_type": "stream",
     "text": [
      "shrinkage:  0.8718797968481935\n",
      "len: 211 , 211\n",
      "confusion_matrix: \n",
      "[[145.  24.]\n",
      " [ 21.  21.]]\n",
      "AUC: \n",
      "0.7337278106508877\n"
     ]
    },
    {
     "name": "stderr",
     "output_type": "stream",
     "text": [
      "[I 2019-08-23 01:31:59,893] Finished trial#58 resulted in value: -0.7337278106508877. Current best value is -0.7424626655395886 with parameters: {'shrinkage': 0.9938100726164629}.\n"
     ]
    },
    {
     "name": "stdout",
     "output_type": "stream",
     "text": [
      "shrinkage:  0.9974998305098566\n",
      "len: 211 , 211\n",
      "confusion_matrix: \n",
      "[[148.  21.]\n",
      " [ 18.  24.]]\n",
      "AUC: \n",
      "0.7421808960270498\n"
     ]
    },
    {
     "name": "stderr",
     "output_type": "stream",
     "text": [
      "[I 2019-08-23 01:32:00,415] Finished trial#59 resulted in value: -0.7421808960270498. Current best value is -0.7424626655395886 with parameters: {'shrinkage': 0.9938100726164629}.\n"
     ]
    },
    {
     "name": "stdout",
     "output_type": "stream",
     "text": [
      "shrinkage:  0.9615972542846414\n",
      "len: 211 , 211\n",
      "confusion_matrix: \n",
      "[[148.  21.]\n",
      " [ 18.  24.]]\n",
      "AUC: \n",
      "0.7409129332206255\n"
     ]
    },
    {
     "name": "stderr",
     "output_type": "stream",
     "text": [
      "[I 2019-08-23 01:32:00,923] Finished trial#60 resulted in value: -0.7409129332206255. Current best value is -0.7424626655395886 with parameters: {'shrinkage': 0.9938100726164629}.\n"
     ]
    },
    {
     "name": "stdout",
     "output_type": "stream",
     "text": [
      "shrinkage:  0.923145832401518\n",
      "len: 211 , 211\n",
      "confusion_matrix: \n",
      "[[147.  22.]\n",
      " [ 21.  21.]]\n",
      "AUC: \n",
      "0.7368272752888136\n"
     ]
    },
    {
     "name": "stderr",
     "output_type": "stream",
     "text": [
      "[I 2019-08-23 01:32:01,442] Finished trial#61 resulted in value: -0.7368272752888136. Current best value is -0.7424626655395886 with parameters: {'shrinkage': 0.9938100726164629}.\n"
     ]
    },
    {
     "name": "stdout",
     "output_type": "stream",
     "text": [
      "shrinkage:  0.9749430809099036\n",
      "len: 211 , 211\n",
      "confusion_matrix: \n",
      "[[148.  21.]\n",
      " [ 18.  24.]]\n",
      "AUC: \n",
      "0.741476472245703\n"
     ]
    },
    {
     "name": "stderr",
     "output_type": "stream",
     "text": [
      "[I 2019-08-23 01:32:01,938] Finished trial#62 resulted in value: -0.741476472245703. Current best value is -0.7424626655395886 with parameters: {'shrinkage': 0.9938100726164629}.\n"
     ]
    },
    {
     "name": "stdout",
     "output_type": "stream",
     "text": [
      "shrinkage:  0.9962340436816526\n",
      "len: 211 , 211\n",
      "confusion_matrix: \n",
      "[[148.  21.]\n",
      " [ 18.  24.]]\n",
      "AUC: \n",
      "0.7420400112707805\n"
     ]
    },
    {
     "name": "stderr",
     "output_type": "stream",
     "text": [
      "[I 2019-08-23 01:32:02,444] Finished trial#63 resulted in value: -0.7420400112707805. Current best value is -0.7424626655395886 with parameters: {'shrinkage': 0.9938100726164629}.\n"
     ]
    },
    {
     "name": "stdout",
     "output_type": "stream",
     "text": [
      "shrinkage:  0.9291876984127313\n",
      "len: 211 , 211\n",
      "confusion_matrix: \n",
      "[[147.  22.]\n",
      " [ 21.  21.]]\n",
      "AUC: \n",
      "0.73767258382643\n"
     ]
    },
    {
     "name": "stderr",
     "output_type": "stream",
     "text": [
      "[I 2019-08-23 01:32:02,936] Finished trial#64 resulted in value: -0.73767258382643. Current best value is -0.7424626655395886 with parameters: {'shrinkage': 0.9938100726164629}.\n"
     ]
    },
    {
     "name": "stdout",
     "output_type": "stream",
     "text": [
      "shrinkage:  0.8882338570133779\n",
      "len: 211 , 211\n",
      "confusion_matrix: \n",
      "[[145.  24.]\n",
      " [ 21.  21.]]\n",
      "AUC: \n",
      "0.7348548887010425\n"
     ]
    },
    {
     "name": "stderr",
     "output_type": "stream",
     "text": [
      "[I 2019-08-23 01:32:03,452] Finished trial#65 resulted in value: -0.7348548887010425. Current best value is -0.7424626655395886 with parameters: {'shrinkage': 0.9938100726164629}.\n"
     ]
    },
    {
     "name": "stdout",
     "output_type": "stream",
     "text": [
      "shrinkage:  0.9996183912907433\n",
      "len: 211 , 211\n",
      "confusion_matrix: \n",
      "[[148.  21.]\n",
      " [ 18.  24.]]\n",
      "AUC: \n",
      "0.7418991265145111\n"
     ]
    },
    {
     "name": "stderr",
     "output_type": "stream",
     "text": [
      "[I 2019-08-23 01:32:04,051] Finished trial#66 resulted in value: -0.7418991265145111. Current best value is -0.7424626655395886 with parameters: {'shrinkage': 0.9938100726164629}.\n"
     ]
    },
    {
     "name": "stdout",
     "output_type": "stream",
     "text": [
      "shrinkage:  0.9690135028163015\n",
      "len: 211 , 211\n",
      "confusion_matrix: \n",
      "[[148.  21.]\n",
      " [ 18.  24.]]\n",
      "AUC: \n",
      "0.7406311637080867\n"
     ]
    },
    {
     "name": "stderr",
     "output_type": "stream",
     "text": [
      "[I 2019-08-23 01:32:04,770] Finished trial#67 resulted in value: -0.7406311637080867. Current best value is -0.7424626655395886 with parameters: {'shrinkage': 0.9938100726164629}.\n"
     ]
    },
    {
     "name": "stdout",
     "output_type": "stream",
     "text": [
      "shrinkage:  0.7535043424784994\n",
      "len: 211 , 211\n",
      "confusion_matrix: \n",
      "[[146.  23.]\n",
      " [ 20.  22.]]\n",
      "AUC: \n",
      "0.7230205691744153\n"
     ]
    },
    {
     "name": "stderr",
     "output_type": "stream",
     "text": [
      "[I 2019-08-23 01:32:05,521] Finished trial#68 resulted in value: -0.7230205691744153. Current best value is -0.7424626655395886 with parameters: {'shrinkage': 0.9938100726164629}.\n"
     ]
    },
    {
     "name": "stdout",
     "output_type": "stream",
     "text": [
      "shrinkage:  0.8109482745327041\n",
      "len: 211 , 211\n",
      "confusion_matrix: \n",
      "[[146.  23.]\n",
      " [ 20.  22.]]\n",
      "AUC: \n",
      "0.7296421527190758\n"
     ]
    },
    {
     "name": "stderr",
     "output_type": "stream",
     "text": [
      "[I 2019-08-23 01:32:06,253] Finished trial#69 resulted in value: -0.7296421527190758. Current best value is -0.7424626655395886 with parameters: {'shrinkage': 0.9938100726164629}.\n"
     ]
    },
    {
     "name": "stdout",
     "output_type": "stream",
     "text": [
      "shrinkage:  0.8517012421126232\n",
      "len: 211 , 211\n",
      "confusion_matrix: \n",
      "[[145.  24.]\n",
      " [ 21.  21.]]\n",
      "AUC: \n",
      "0.7321780783319246\n"
     ]
    },
    {
     "name": "stderr",
     "output_type": "stream",
     "text": [
      "[I 2019-08-23 01:32:06,960] Finished trial#70 resulted in value: -0.7321780783319246. Current best value is -0.7424626655395886 with parameters: {'shrinkage': 0.9938100726164629}.\n"
     ]
    },
    {
     "name": "stdout",
     "output_type": "stream",
     "text": [
      "shrinkage:  0.9916903388928946\n",
      "len: 211 , 211\n",
      "confusion_matrix: \n",
      "[[148.  21.]\n",
      " [ 18.  24.]]\n",
      "AUC: \n",
      "0.7418991265145112\n"
     ]
    },
    {
     "name": "stderr",
     "output_type": "stream",
     "text": [
      "[I 2019-08-23 01:32:07,717] Finished trial#71 resulted in value: -0.7418991265145112. Current best value is -0.7424626655395886 with parameters: {'shrinkage': 0.9938100726164629}.\n"
     ]
    },
    {
     "name": "stdout",
     "output_type": "stream",
     "text": [
      "shrinkage:  0.932918378947083\n",
      "len: 211 , 211\n",
      "confusion_matrix: \n",
      "[[147.  22.]\n",
      " [ 21.  21.]]\n",
      "AUC: \n",
      "0.7378134685826994\n"
     ]
    },
    {
     "name": "stderr",
     "output_type": "stream",
     "text": [
      "[I 2019-08-23 01:32:08,450] Finished trial#72 resulted in value: -0.7378134685826994. Current best value is -0.7424626655395886 with parameters: {'shrinkage': 0.9938100726164629}.\n"
     ]
    },
    {
     "name": "stdout",
     "output_type": "stream",
     "text": [
      "shrinkage:  0.9627184565453024\n",
      "len: 211 , 211\n",
      "confusion_matrix: \n",
      "[[148.  21.]\n",
      " [ 18.  24.]]\n",
      "AUC: \n",
      "0.7409129332206255\n"
     ]
    },
    {
     "name": "stderr",
     "output_type": "stream",
     "text": [
      "[I 2019-08-23 01:32:09,126] Finished trial#73 resulted in value: -0.7409129332206255. Current best value is -0.7424626655395886 with parameters: {'shrinkage': 0.9938100726164629}.\n"
     ]
    },
    {
     "name": "stdout",
     "output_type": "stream",
     "text": [
      "shrinkage:  0.9156161383008491\n",
      "len: 211 , 211\n",
      "confusion_matrix: \n",
      "[[147.  22.]\n",
      " [ 21.  21.]]\n",
      "AUC: \n",
      "0.7362637362637363\n"
     ]
    },
    {
     "name": "stderr",
     "output_type": "stream",
     "text": [
      "[I 2019-08-23 01:32:09,838] Finished trial#74 resulted in value: -0.7362637362637363. Current best value is -0.7424626655395886 with parameters: {'shrinkage': 0.9938100726164629}.\n"
     ]
    },
    {
     "name": "stdout",
     "output_type": "stream",
     "text": [
      "shrinkage:  0.9414754019303604\n",
      "len: 211 , 211\n",
      "confusion_matrix: \n",
      "[[147.  22.]\n",
      " [ 20.  22.]]\n",
      "AUC: \n",
      "0.7396449704142012\n"
     ]
    },
    {
     "name": "stderr",
     "output_type": "stream",
     "text": [
      "[I 2019-08-23 01:32:10,553] Finished trial#75 resulted in value: -0.7396449704142012. Current best value is -0.7424626655395886 with parameters: {'shrinkage': 0.9938100726164629}.\n"
     ]
    },
    {
     "name": "stdout",
     "output_type": "stream",
     "text": [
      "shrinkage:  0.9968156892679103\n",
      "len: 211 , 211\n",
      "confusion_matrix: \n",
      "[[148.  21.]\n",
      " [ 18.  24.]]\n",
      "AUC: \n",
      "0.7420400112707805\n"
     ]
    },
    {
     "name": "stderr",
     "output_type": "stream",
     "text": [
      "[I 2019-08-23 01:32:11,300] Finished trial#76 resulted in value: -0.7420400112707805. Current best value is -0.7424626655395886 with parameters: {'shrinkage': 0.9938100726164629}.\n"
     ]
    },
    {
     "name": "stdout",
     "output_type": "stream",
     "text": [
      "shrinkage:  0.6632878849140356\n",
      "len: 211 , 211\n",
      "confusion_matrix: \n",
      "[[143.  26.]\n",
      " [ 20.  22.]]\n",
      "AUC: \n",
      "0.714567483798253\n"
     ]
    },
    {
     "name": "stderr",
     "output_type": "stream",
     "text": [
      "[I 2019-08-23 01:32:12,066] Finished trial#77 resulted in value: -0.714567483798253. Current best value is -0.7424626655395886 with parameters: {'shrinkage': 0.9938100726164629}.\n"
     ]
    },
    {
     "name": "stdout",
     "output_type": "stream",
     "text": [
      "shrinkage:  0.8937694476236866\n",
      "len: 211 , 211\n",
      "confusion_matrix: \n",
      "[[145.  24.]\n",
      " [ 21.  21.]]\n",
      "AUC: \n",
      "0.7351366582135812\n"
     ]
    },
    {
     "name": "stderr",
     "output_type": "stream",
     "text": [
      "[I 2019-08-23 01:32:12,782] Finished trial#78 resulted in value: -0.7351366582135812. Current best value is -0.7424626655395886 with parameters: {'shrinkage': 0.9938100726164629}.\n"
     ]
    },
    {
     "name": "stdout",
     "output_type": "stream",
     "text": [
      "shrinkage:  0.2743534365848488\n",
      "len: 211 , 211\n",
      "confusion_matrix: \n",
      "[[141.  28.]\n",
      " [ 21.  21.]]\n",
      "AUC: \n",
      "0.6723020569174415\n"
     ]
    },
    {
     "name": "stderr",
     "output_type": "stream",
     "text": [
      "[I 2019-08-23 01:32:13,492] Finished trial#79 resulted in value: -0.6723020569174415. Current best value is -0.7424626655395886 with parameters: {'shrinkage': 0.9938100726164629}.\n"
     ]
    },
    {
     "name": "stdout",
     "output_type": "stream",
     "text": [
      "shrinkage:  0.9785329754159008\n",
      "len: 211 , 211\n",
      "confusion_matrix: \n",
      "[[148.  21.]\n",
      " [ 18.  24.]]\n",
      "AUC: \n",
      "0.7417582417582417\n"
     ]
    },
    {
     "name": "stderr",
     "output_type": "stream",
     "text": [
      "[I 2019-08-23 01:32:14,284] Finished trial#80 resulted in value: -0.7417582417582417. Current best value is -0.7424626655395886 with parameters: {'shrinkage': 0.9938100726164629}.\n"
     ]
    },
    {
     "name": "stdout",
     "output_type": "stream",
     "text": [
      "shrinkage:  0.9970110430631992\n",
      "len: 211 , 211\n",
      "confusion_matrix: \n",
      "[[148.  21.]\n",
      " [ 18.  24.]]\n",
      "AUC: \n",
      "0.7420400112707805\n"
     ]
    },
    {
     "name": "stderr",
     "output_type": "stream",
     "text": [
      "[I 2019-08-23 01:32:15,057] Finished trial#81 resulted in value: -0.7420400112707805. Current best value is -0.7424626655395886 with parameters: {'shrinkage': 0.9938100726164629}.\n"
     ]
    },
    {
     "name": "stdout",
     "output_type": "stream",
     "text": [
      "shrinkage:  0.9453905426416774\n",
      "len: 211 , 211\n",
      "confusion_matrix: \n",
      "[[147.  22.]\n",
      " [ 20.  22.]]\n",
      "AUC: \n",
      "0.7395040856579318\n"
     ]
    },
    {
     "name": "stderr",
     "output_type": "stream",
     "text": [
      "[I 2019-08-23 01:32:15,844] Finished trial#82 resulted in value: -0.7395040856579318. Current best value is -0.7424626655395886 with parameters: {'shrinkage': 0.9938100726164629}.\n"
     ]
    },
    {
     "name": "stdout",
     "output_type": "stream",
     "text": [
      "shrinkage:  0.9977698210245595\n",
      "len: 211 , 211\n",
      "confusion_matrix: \n",
      "[[148.  21.]\n",
      " [ 18.  24.]]\n",
      "AUC: \n",
      "0.7420400112707805\n"
     ]
    },
    {
     "name": "stderr",
     "output_type": "stream",
     "text": [
      "[I 2019-08-23 01:32:16,679] Finished trial#83 resulted in value: -0.7420400112707805. Current best value is -0.7424626655395886 with parameters: {'shrinkage': 0.9938100726164629}.\n"
     ]
    },
    {
     "name": "stdout",
     "output_type": "stream",
     "text": [
      "shrinkage:  0.9730925952188415\n",
      "len: 211 , 211\n",
      "confusion_matrix: \n",
      "[[148.  21.]\n",
      " [ 18.  24.]]\n",
      "AUC: \n",
      "0.7410538179768948\n"
     ]
    },
    {
     "name": "stderr",
     "output_type": "stream",
     "text": [
      "[I 2019-08-23 01:32:17,573] Finished trial#84 resulted in value: -0.7410538179768948. Current best value is -0.7424626655395886 with parameters: {'shrinkage': 0.9938100726164629}.\n"
     ]
    },
    {
     "name": "stdout",
     "output_type": "stream",
     "text": [
      "shrinkage:  0.9205563784112578\n",
      "len: 211 , 211\n",
      "confusion_matrix: \n",
      "[[147.  22.]\n",
      " [ 21.  21.]]\n",
      "AUC: \n",
      "0.7365455057762751\n"
     ]
    },
    {
     "name": "stderr",
     "output_type": "stream",
     "text": [
      "[I 2019-08-23 01:32:18,353] Finished trial#85 resulted in value: -0.7365455057762751. Current best value is -0.7424626655395886 with parameters: {'shrinkage': 0.9938100726164629}.\n"
     ]
    },
    {
     "name": "stdout",
     "output_type": "stream",
     "text": [
      "shrinkage:  0.9956214275296142\n",
      "len: 211 , 211\n",
      "confusion_matrix: \n",
      "[[148.  21.]\n",
      " [ 18.  24.]]\n",
      "AUC: \n",
      "0.7421808960270498\n"
     ]
    },
    {
     "name": "stderr",
     "output_type": "stream",
     "text": [
      "[I 2019-08-23 01:32:19,215] Finished trial#86 resulted in value: -0.7421808960270498. Current best value is -0.7424626655395886 with parameters: {'shrinkage': 0.9938100726164629}.\n"
     ]
    },
    {
     "name": "stdout",
     "output_type": "stream",
     "text": [
      "shrinkage:  0.9516630365120553\n",
      "len: 211 , 211\n",
      "confusion_matrix: \n",
      "[[147.  22.]\n",
      " [ 20.  22.]]\n",
      "AUC: \n",
      "0.7402085094392786\n"
     ]
    },
    {
     "name": "stderr",
     "output_type": "stream",
     "text": [
      "[I 2019-08-23 01:32:20,042] Finished trial#87 resulted in value: -0.7402085094392786. Current best value is -0.7424626655395886 with parameters: {'shrinkage': 0.9938100726164629}.\n"
     ]
    },
    {
     "name": "stdout",
     "output_type": "stream",
     "text": [
      "shrinkage:  0.1727470855849359\n",
      "len: 211 , 211\n",
      "confusion_matrix: \n",
      "[[142.  27.]\n",
      " [ 22.  20.]]\n",
      "AUC: \n",
      "0.6642716258100874\n"
     ]
    },
    {
     "name": "stderr",
     "output_type": "stream",
     "text": [
      "[I 2019-08-23 01:32:20,619] Finished trial#88 resulted in value: -0.6642716258100874. Current best value is -0.7424626655395886 with parameters: {'shrinkage': 0.9938100726164629}.\n"
     ]
    },
    {
     "name": "stdout",
     "output_type": "stream",
     "text": [
      "shrinkage:  0.8858974500363985\n",
      "len: 211 , 211\n",
      "confusion_matrix: \n",
      "[[145.  24.]\n",
      " [ 21.  21.]]\n",
      "AUC: \n",
      "0.7347140039447732\n"
     ]
    },
    {
     "name": "stderr",
     "output_type": "stream",
     "text": [
      "[I 2019-08-23 01:32:21,379] Finished trial#89 resulted in value: -0.7347140039447732. Current best value is -0.7424626655395886 with parameters: {'shrinkage': 0.9938100726164629}.\n"
     ]
    },
    {
     "name": "stdout",
     "output_type": "stream",
     "text": [
      "shrinkage:  0.9995759916250849\n",
      "len: 211 , 211\n",
      "confusion_matrix: \n",
      "[[148.  21.]\n",
      " [ 18.  24.]]\n",
      "AUC: \n",
      "0.7418991265145111\n"
     ]
    },
    {
     "name": "stderr",
     "output_type": "stream",
     "text": [
      "[I 2019-08-23 01:32:22,043] Finished trial#90 resulted in value: -0.7418991265145111. Current best value is -0.7424626655395886 with parameters: {'shrinkage': 0.9938100726164629}.\n"
     ]
    },
    {
     "name": "stdout",
     "output_type": "stream",
     "text": [
      "shrinkage:  0.47366880221124397\n",
      "len: 211 , 211\n",
      "confusion_matrix: \n",
      "[[142.  27.]\n",
      " [ 21.  21.]]\n",
      "AUC: \n",
      "0.6947027331642717\n"
     ]
    },
    {
     "name": "stderr",
     "output_type": "stream",
     "text": [
      "[I 2019-08-23 01:32:22,759] Finished trial#91 resulted in value: -0.6947027331642717. Current best value is -0.7424626655395886 with parameters: {'shrinkage': 0.9938100726164629}.\n"
     ]
    },
    {
     "name": "stdout",
     "output_type": "stream",
     "text": [
      "shrinkage:  0.9729967502568485\n",
      "len: 211 , 211\n",
      "confusion_matrix: \n",
      "[[148.  21.]\n",
      " [ 18.  24.]]\n",
      "AUC: \n",
      "0.7410538179768948\n"
     ]
    },
    {
     "name": "stderr",
     "output_type": "stream",
     "text": [
      "[I 2019-08-23 01:32:23,343] Finished trial#92 resulted in value: -0.7410538179768948. Current best value is -0.7424626655395886 with parameters: {'shrinkage': 0.9938100726164629}.\n"
     ]
    },
    {
     "name": "stdout",
     "output_type": "stream",
     "text": [
      "shrinkage:  0.9443975008464213\n",
      "len: 211 , 211\n",
      "confusion_matrix: \n",
      "[[147.  22.]\n",
      " [ 20.  22.]]\n",
      "AUC: \n",
      "0.7397858551704706\n"
     ]
    },
    {
     "name": "stderr",
     "output_type": "stream",
     "text": [
      "[I 2019-08-23 01:32:23,883] Finished trial#93 resulted in value: -0.7397858551704706. Current best value is -0.7424626655395886 with parameters: {'shrinkage': 0.9938100726164629}.\n"
     ]
    },
    {
     "name": "stdout",
     "output_type": "stream",
     "text": [
      "shrinkage:  0.9788279714993383\n",
      "len: 211 , 211\n",
      "confusion_matrix: \n",
      "[[148.  21.]\n",
      " [ 18.  24.]]\n",
      "AUC: \n",
      "0.7417582417582417\n"
     ]
    },
    {
     "name": "stderr",
     "output_type": "stream",
     "text": [
      "[I 2019-08-23 01:32:24,396] Finished trial#94 resulted in value: -0.7417582417582417. Current best value is -0.7424626655395886 with parameters: {'shrinkage': 0.9938100726164629}.\n"
     ]
    },
    {
     "name": "stdout",
     "output_type": "stream",
     "text": [
      "shrinkage:  0.9998050226403327\n",
      "len: 211 , 211\n",
      "confusion_matrix: \n",
      "[[148.  21.]\n",
      " [ 18.  24.]]\n",
      "AUC: \n",
      "0.7418991265145111\n"
     ]
    },
    {
     "name": "stderr",
     "output_type": "stream",
     "text": [
      "[I 2019-08-23 01:32:24,898] Finished trial#95 resulted in value: -0.7418991265145111. Current best value is -0.7424626655395886 with parameters: {'shrinkage': 0.9938100726164629}.\n"
     ]
    },
    {
     "name": "stdout",
     "output_type": "stream",
     "text": [
      "shrinkage:  0.9111348812730353\n",
      "len: 211 , 211\n",
      "confusion_matrix: \n",
      "[[146.  23.]\n",
      " [ 21.  21.]]\n",
      "AUC: \n",
      "0.7361228515074669\n"
     ]
    },
    {
     "name": "stderr",
     "output_type": "stream",
     "text": [
      "[I 2019-08-23 01:32:25,402] Finished trial#96 resulted in value: -0.7361228515074669. Current best value is -0.7424626655395886 with parameters: {'shrinkage': 0.9938100726164629}.\n"
     ]
    },
    {
     "name": "stdout",
     "output_type": "stream",
     "text": [
      "shrinkage:  0.9602503142896206\n",
      "len: 211 , 211\n",
      "confusion_matrix: \n",
      "[[148.  21.]\n",
      " [ 18.  24.]]\n",
      "AUC: \n",
      "0.7406311637080867\n"
     ]
    },
    {
     "name": "stderr",
     "output_type": "stream",
     "text": [
      "[I 2019-08-23 01:32:25,879] Finished trial#97 resulted in value: -0.7406311637080867. Current best value is -0.7424626655395886 with parameters: {'shrinkage': 0.9938100726164629}.\n"
     ]
    },
    {
     "name": "stdout",
     "output_type": "stream",
     "text": [
      "shrinkage:  0.8538602187834515\n",
      "len: 211 , 211\n",
      "confusion_matrix: \n",
      "[[145.  24.]\n",
      " [ 21.  21.]]\n",
      "AUC: \n",
      "0.7324598478444633\n"
     ]
    },
    {
     "name": "stderr",
     "output_type": "stream",
     "text": [
      "[I 2019-08-23 01:32:26,378] Finished trial#98 resulted in value: -0.7324598478444633. Current best value is -0.7424626655395886 with parameters: {'shrinkage': 0.9938100726164629}.\n"
     ]
    },
    {
     "name": "stdout",
     "output_type": "stream",
     "text": [
      "shrinkage:  0.93021352343778\n",
      "len: 211 , 211\n",
      "confusion_matrix: \n",
      "[[147.  22.]\n",
      " [ 21.  21.]]\n",
      "AUC: \n",
      "0.7376725838264299\n"
     ]
    },
    {
     "name": "stderr",
     "output_type": "stream",
     "text": [
      "[I 2019-08-23 01:32:26,881] Finished trial#99 resulted in value: -0.7376725838264299. Current best value is -0.7424626655395886 with parameters: {'shrinkage': 0.9938100726164629}.\n"
     ]
    },
    {
     "name": "stdout",
     "output_type": "stream",
     "text": [
      "FrozenTrial(number=21, state=<TrialState.COMPLETE: 1>, value=-0.7424626655395886, datetime_start=datetime.datetime(2019, 8, 23, 1, 31, 38, 928883), datetime_complete=datetime.datetime(2019, 8, 23, 1, 31, 39, 431084), params={'shrinkage': 0.9938100726164629}, distributions={'shrinkage': UniformDistribution(low=0, high=1)}, user_attrs={}, system_attrs={'_number': 21}, intermediate_values={}, params_in_internal_repr={'shrinkage': 0.9938100726164629}, trial_id=21)\n"
     ]
    }
   ],
   "source": [
    "if __name__ == \"__main__\":\n",
    "    main()"
   ]
  },
  {
   "cell_type": "markdown",
   "metadata": {},
   "source": [
    "# 結果\n",
    "shrinkage = 1 or \"auto\""
   ]
  },
  {
   "cell_type": "code",
   "execution_count": null,
   "metadata": {},
   "outputs": [],
   "source": []
  }
 ],
 "metadata": {
  "kernelspec": {
   "display_name": "Python 3",
   "language": "python",
   "name": "python3"
  },
  "language_info": {
   "codemirror_mode": {
    "name": "ipython",
    "version": 3
   },
   "file_extension": ".py",
   "mimetype": "text/x-python",
   "name": "python",
   "nbconvert_exporter": "python",
   "pygments_lexer": "ipython3",
   "version": "3.6.8"
  }
 },
 "nbformat": 4,
 "nbformat_minor": 2
}
