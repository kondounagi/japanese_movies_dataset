{
 "cells": [
  {
   "cell_type": "code",
   "execution_count": 45,
   "metadata": {},
   "outputs": [],
   "source": [
    "import pandas as pd"
   ]
  },
  {
   "cell_type": "code",
   "execution_count": 48,
   "metadata": {},
   "outputs": [],
   "source": [
    "def standard(x_train, x_test):\n",
    "    stdsc = StandardScaler()\n",
    "    # 訓練用のデータを標準化\n",
    "    x_train_std = stdsc.fit_transform(x_train)\n",
    "    # 訓練用データを基準にテストデータも標準化\n",
    "    x_test_std = stdsc.transform(x_test)\n",
    "    return x_train_std, x_test_std"
   ]
  },
  {
   "cell_type": "code",
   "execution_count": 46,
   "metadata": {},
   "outputs": [],
   "source": [
    "def load_data():\n",
    "    data = pd.read_pickle('data.pkl')\n",
    "    nomination_onehot = pd.read_pickle('nomination_onehot.pkl')\n",
    "    selected_performers_onehot = pd.read_pickle('selected_performers_onehot.pkl')\n",
    "    selected_directors_onehot = pd.read_pickle('selected_directors_onehot.pkl')\n",
    "    selected_studio_onehot = pd.read_pickle('selected_studio_onehot.pkl')\n",
    "    selected_scriptwriter_onehot = pd.read_pickle('selected_scriptwriter_onehot.pkl')\n",
    "    review_dataframe = pd.read_pickle('review_dataframe.pkl')\n",
    "    \n",
    "    # selected_directors_onehotとselected_scriptwriter_onehotの重複した人\n",
    "    duplicate_scriptwriter = set(selected_directors_onehot.columns) & set(selected_scriptwriter_onehot.columns)\n",
    "    selected_scriptwriter_onehot = selected_scriptwriter_onehot.drop(duplicate_scriptwriter, axis=1)\n",
    "          \n",
    "    df = pd.concat(\n",
    "        [\n",
    "            nomination_onehot, \n",
    "            selected_performers_onehot,\n",
    "            selected_directors_onehot,\n",
    "            selected_studio_onehot,\n",
    "            selected_scriptwriter_onehot,\n",
    "            data[\"screen_time\"],\n",
    "        ],\n",
    "        axis=1\n",
    "    )\n",
    "    # 共線性の高いカラムを除く\n",
    "    drop_clm = ['吉田一夫']\n",
    "    df = df.drop(drop_clm, axis=1)\n",
    "    \n",
    "    # 取得できなかった上映時間(screen_time == -1)を平均で埋める\n",
    "    df[df[\"screen_time\"] == -1] = df.mean().screen_time\n",
    "\n",
    "    # 正規化する\n",
    "    df = (df-df.mean()) / df.std()\n",
    "        \n",
    "    # データセットとして扱うのに必要なyear, prizeのフラグを付与する\n",
    "    df = pd.concat(\n",
    "        [df, data[\"year\"], data[\"prize\"]], axis=1\n",
    "    )\n",
    "    \n",
    "    return df"
   ]
  },
  {
   "cell_type": "code",
   "execution_count": 47,
   "metadata": {},
   "outputs": [],
   "source": [
    "# save pandas.DataFrame as pickle\n",
    "df = load_data()\n",
    "df.to_pickle(\"unificated_data_set.pkl\")"
   ]
  }
 ],
 "metadata": {
  "kernelspec": {
   "display_name": "Python 3",
   "language": "python",
   "name": "python3"
  },
  "language_info": {
   "codemirror_mode": {
    "name": "ipython",
    "version": 3
   },
   "file_extension": ".py",
   "mimetype": "text/x-python",
   "name": "python",
   "nbconvert_exporter": "python",
   "pygments_lexer": "ipython3",
   "version": "3.6.3"
  }
 },
 "nbformat": 4,
 "nbformat_minor": 4
}
