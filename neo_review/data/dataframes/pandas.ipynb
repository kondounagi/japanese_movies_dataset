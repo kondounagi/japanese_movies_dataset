{
 "cells": [
  {
   "cell_type": "code",
   "execution_count": 9,
   "metadata": {},
   "outputs": [],
   "source": [
    "import numpy as np\n",
    "import json\n",
    "import csv\n",
    "import pandas as pd\n",
    "import re\n",
    "from sklearn.preprocessing import MultiLabelBinarizer\n",
    "from collections import Counter"
   ]
  },
  {
   "cell_type": "code",
   "execution_count": 75,
   "metadata": {},
   "outputs": [],
   "source": [
    "year_list = [str(year) for year in range(1978,2019)]"
   ]
  },
  {
   "cell_type": "code",
   "execution_count": 76,
   "metadata": {},
   "outputs": [],
   "source": [
    "data = []\n",
    "with open('../nominate_movie_meta_data.json', 'r', encoding = 'utf-8') as f:\n",
    "    json_dict = json.load(f)\n",
    "    for year in year_list:\n",
    "        data += json_dict[year]\n",
    "        \n",
    "data = pd.DataFrame(data)\n",
    "\n",
    "def dict2list_other_nominate(series):\n",
    "    l = []\n",
    "    other_nominates = series['other_nominates']\n",
    "    for each in other_nominates:\n",
    "        if each['prized'] == 1:\n",
    "            l.append(each['award'])\n",
    "    return pd.Series([l])\n",
    "\n",
    "data['other_nominates'] = data.apply(dict2list_other_nominate, axis = 'columns')\n",
    "\n",
    "mlb = MultiLabelBinarizer()\n",
    "onehot = mlb.fit_transform(data['other_nominates'])\n",
    "columns = mlb.classes_\n",
    "nomination_onehot = pd.DataFrame(onehot, columns = columns) #####################\n",
    "\n",
    "onehot = mlb.fit_transform(data['performers'])\n",
    "columns = mlb.classes_\n",
    "performers_onehot = pd.DataFrame(onehot, columns = columns) #####################\n",
    "\n"
   ]
  },
  {
   "cell_type": "code",
   "execution_count": 77,
   "metadata": {},
   "outputs": [],
   "source": [
    "performers = []\n",
    "for element in data['performers'].values.tolist():\n",
    "    performers += element\n",
    "\n",
    "count = Counter(performers)\n",
    "countSeries = pd.Series(count)"
   ]
  },
  {
   "cell_type": "code",
   "execution_count": 81,
   "metadata": {},
   "outputs": [],
   "source": [
    "temp = countSeries.sort_values(ascending= False)"
   ]
  },
  {
   "cell_type": "code",
   "execution_count": 93,
   "metadata": {},
   "outputs": [
    {
     "data": {
      "text/plain": [
       "22       1\n",
       "20       1\n",
       "18       2\n",
       "17       1\n",
       "16       5\n",
       "15       1\n",
       "14       1\n",
       "13       5\n",
       "12       2\n",
       "11       6\n",
       "10      10\n",
       "9       14\n",
       "8       15\n",
       "7       15\n",
       "6       41\n",
       "5       52\n",
       "4       90\n",
       "3      156\n",
       "2      475\n",
       "1     2065\n",
       "dtype: int64"
      ]
     },
     "execution_count": 93,
     "metadata": {},
     "output_type": "execute_result"
    }
   ],
   "source": [
    "temp.value_counts().sort_index(ascending = False)"
   ]
  },
  {
   "cell_type": "code",
   "execution_count": 105,
   "metadata": {},
   "outputs": [
    {
     "name": "stderr",
     "output_type": "stream",
     "text": [
      "C:\\Users\\Rofan\\Anaconda3\\lib\\site-packages\\matplotlib\\axes\\_axes.py:6462: UserWarning: The 'normed' kwarg is deprecated, and has been replaced by the 'density' kwarg.\n",
      "  warnings.warn(\"The 'normed' kwarg is deprecated, and has been \"\n"
     ]
    },
    {
     "data": {
      "text/plain": [
       "<matplotlib.axes._subplots.AxesSubplot at 0x22a2c6a16d8>"
      ]
     },
     "execution_count": 105,
     "metadata": {},
     "output_type": "execute_result"
    },
    {
     "data": {
      "image/png": "[encoded data removed]",
      "text/plain": [
       "<Figure size 432x288 with 1 Axes>"
      ]
     },
     "metadata": {},
     "output_type": "display_data"
    }
   ],
   "source": [
    "import seaborn as sns\n",
    "sns.distplot(temp, hist_kws = dict(cumulative = True) , kde_kws = dict(cumulative = True))"
   ]
  },
  {
   "cell_type": "code",
   "execution_count": null,
   "metadata": {},
   "outputs": [],
   "source": []
  }
 ],
 "metadata": {
  "kernelspec": {
   "display_name": "Python 3",
   "language": "python",
   "name": "python3"
  },
  "language_info": {
   "codemirror_mode": {
    "name": "ipython",
    "version": 3
   },
   "file_extension": ".py",
   "mimetype": "text/x-python",
   "name": "python",
   "nbconvert_exporter": "python",
   "pygments_lexer": "ipython3",
   "version": "3.6.5"
  }
 },
 "nbformat": 4,
 "nbformat_minor": 2
}
