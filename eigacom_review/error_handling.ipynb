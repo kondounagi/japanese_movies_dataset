{
 "cells": [
  {
   "cell_type": "markdown",
   "metadata": {},
   "source": [
    "映画.comに存在しないクエリ\n",
    "\n",
    "192  D5 5人の探偵\t2018\t5\t5 <br>\n",
    "357 K SEVEN STORIES Spin-off Short Movie 「ザ・アイドルK」<br>\n",
    "437 ゲヘナ～死の生ける場所～\t2018\t7\t30<br>\n",
    "577 スリーシスターズ\t2018\t9\t28<br>\n",
    "585 言葉のいらない愛\t2018\t9\t29<br>\n",
    "589 BOURBON TALK\t2018\t9\t29<br>\n",
    "590 BEATOPIA\t2018\t9\t29<br>\n",
    "642 上田慎一郎ショートムービーコレクション\t2018\t10\t19<br>\n",
    "659 Antlion\t2018\t10\t20<br>\n",
    "660 いとまごい\t2018\t10\t20<br>\n",
    "667 goes by\t2018\t10\t20<br>\n",
    "673 なんでもない日\t2018\t10\t20<br>\n",
    "675 にんげんにうまれてしまった\t2018\t10\t20<br>\n",
    "678 ファイナル・デッド・バースデー\t2018\t10\t20<br>\n",
    "709 居酒屋ばぁば\t2018\t11\t1<br>\n",
    "799 麻雀覇道伝説 天牌外伝2\t2018\t11\t18<br>\n",
    "800  麻雀覇道伝説　天牌外伝\t2018\t11\t18<br>\n",
    "865 ロッキン・ハート・ブレイカーズ\t2018\t12\t1 <br>\n",
    "<br>\n",
    "それ以外のは手で検索して，映画.comにおけるidと保存用のidのペアを直接調べた"
   ]
  },
  {
   "cell_type": "code",
   "execution_count": 1,
   "metadata": {},
   "outputs": [],
   "source": [
    "import requests\n",
    "from bs4 import BeautifulSoup\n",
    "import time\n",
    "import json"
   ]
  },
  {
   "cell_type": "code",
   "execution_count": 8,
   "metadata": {},
   "outputs": [],
   "source": [
    "def scrape_review(id_in, id_out):\n",
    "    page_num = 1\n",
    "    data = {\n",
    "        \"id\": id_out,\n",
    "        \"reviews\":{\n",
    "            \"eigacom\":[],\n",
    "            \"filmarks\":[],\n",
    "            \"coco\":[],\n",
    "        }\n",
    "    }\n",
    "    url_review = \"https://eiga.com/movie/\" + str(id_in) + \"/review/all/\"\n",
    "    \n",
    "    while(1):\n",
    "        res = requests.get(url_review + str(page_num))\n",
    "        res.encoding = res.apparent_encoding\n",
    "        soup = BeautifulSoup(res.content, \"lxml\")\n",
    "        if soup.find('div', attrs={\"class\": \"user-review\"}) == None: # ページ数の上限を超えたら\n",
    "            print('DONE : ' + str(id_out) )\n",
    "            break\n",
    "            \n",
    "        for r in soup.find_all('div', attrs={\"class\": \"user-review\"}):\n",
    "            title = r.find('h2',attrs={\"class\": \"review-title\"}).find('a')\n",
    "            main_text =  r.find('div',attrs={\"class\": \"txt-block\"})\n",
    "            tgl_btn = main_text.find('div',attrs={\"class\": \"toggle-btn\"})\n",
    "            if tgl_btn != None:\n",
    "                tgl_btn.decompose()\n",
    "            d = title.text + \"\\n\" +  main_text.text.replace(\"\\n\", \"\")\n",
    "            data[\"reviews\"][\"eigacom\"].append(d)\n",
    "        page_num += 1\n",
    "        time.sleep(1)\n",
    "    return data"
   ]
  },
  {
   "cell_type": "code",
   "execution_count": 11,
   "metadata": {},
   "outputs": [],
   "source": [
    "errors = [\n",
    "    (88259, 3),\n",
    "    (88250, 18),\n",
    "    (86670, 38),\n",
    "    (87935,45),\n",
    "    (88386,165),\n",
    "    (86032, 190),\n",
    "    (87955, 236),\n",
    "    (88566, 244),\n",
    "    (88364, 274),\n",
    "    (88508, 292),\n",
    "    (89094, 310),\n",
    "    (89250 , 342),\n",
    "    (89095 , 371),\n",
    "    (88470,373),\n",
    "    (89360, 398),\n",
    "    (89357, 415),\n",
    "    (89180 ,431 ),\n",
    "    ( 89350, 436),\n",
    "    (89348, 443),\n",
    "    (89265, 484),\n",
    "    (89000, 517),\n",
    "    (89096 , 599),\n",
    "    (87863 ,687 ),\n",
    "    (89468 ,828 ),\n",
    "    (87941, 832 ),\n",
    "    (88869,834),\n",
    "    (89728, 888),\n",
    "    (88444, 895),\n",
    "]"
   ]
  },
  {
   "cell_type": "code",
   "execution_count": null,
   "metadata": {},
   "outputs": [
    {
     "name": "stdout",
     "output_type": "stream",
     "text": [
      "DONE : 3\n",
      "DONE : 18\n",
      "DONE : 38\n",
      "DONE : 45\n",
      "DONE : 165\n",
      "DONE : 190\n",
      "DONE : 236\n",
      "DONE : 244\n",
      "DONE : 274\n",
      "DONE : 292\n",
      "DONE : 310\n",
      "DONE : 342\n",
      "DONE : 371\n",
      "DONE : 373\n",
      "DONE : 398\n",
      "DONE : 415\n",
      "DONE : 431\n",
      "DONE : 436\n",
      "DONE : 443\n",
      "DONE : 484\n",
      "DONE : 517\n",
      "DONE : 599\n",
      "DONE : 687\n",
      "DONE : 828\n"
     ]
    }
   ],
   "source": [
    "for id_in, id_out in errors:\n",
    "    output_file = './{0}.json'.format(id_out)\n",
    "    with open(output_file, 'w') as f:\n",
    "        data = scrape_review(id_in, id_out)\n",
    "        jsn =  json.dumps(data,ensure_ascii=False, indent=2) \n",
    "        f.write(jsn)   \n",
    "        f.close()"
   ]
  },
  {
   "cell_type": "code",
   "execution_count": null,
   "metadata": {},
   "outputs": [],
   "source": []
  }
 ],
 "metadata": {
  "kernelspec": {
   "display_name": "Python 3",
   "language": "python",
   "name": "python3"
  },
  "language_info": {
   "codemirror_mode": {
    "name": "ipython",
    "version": 3
   },
   "file_extension": ".py",
   "mimetype": "text/x-python",
   "name": "python",
   "nbconvert_exporter": "python",
   "pygments_lexer": "ipython3",
   "version": "3.6.8"
  }
 },
 "nbformat": 4,
 "nbformat_minor": 2
}
