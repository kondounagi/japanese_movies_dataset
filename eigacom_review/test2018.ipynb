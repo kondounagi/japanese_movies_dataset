{
 "cells": [
  {
   "cell_type": "code",
   "execution_count": 287,
   "metadata": {},
   "outputs": [],
   "source": [
    "import numpy as np\n",
    "import pandas as pd\n",
    "import re\n",
    "import sklearn\n",
    "import json\n",
    "import matplotlib.pyplot as plt\n",
    "import sys\n",
    "%matplotlib inline"
   ]
  },
  {
   "cell_type": "code",
   "execution_count": 288,
   "metadata": {},
   "outputs": [],
   "source": [
    "def read_meta_data(year, limit):\n",
    "    with open('../meta_movie_data/{}/1.json'.format(str(year)), 'r') as json_data:\n",
    "        data1 = json.load(json_data)\n",
    "    df = pd.DataFrame.from_dict(data1, orient='index').transpose()\n",
    "    df[\"id\"] = 1\n",
    "\n",
    "    for i in range (2, limit+1):\n",
    "        try:\n",
    "            with open('../meta_movie_data/{0}/{1}.json'.format(str(year),str(i)), 'r') as json_data:\n",
    "                j = json_data.read().replace('\\'', '\\\"')\n",
    "                try:\n",
    "                    data2 = json.loads(j)\n",
    "                    df2 = pd.DataFrame.from_dict(data2, orient='index').transpose()\n",
    "                    df2[\"id\"] = i\n",
    "                    df = df.append(df2)\n",
    "                except:\n",
    "                    print(sys.exc_info())\n",
    "                    print(i)\n",
    "        except:\n",
    "            print(sys.exc_info())\n",
    "            print(i)\n",
    "    \n",
    "    return df"
   ]
  },
  {
   "cell_type": "code",
   "execution_count": 289,
   "metadata": {},
   "outputs": [],
   "source": [
    "def read_star_rating(year, limit): \n",
    "    with open('../eigacom_star_rating/{}/1.json'.format(str(year))) as json_data:\n",
    "        data1 = json.load(json_data)\n",
    "    df_eigagom_rating = pd.DataFrame.from_dict(data1, orient='index').transpose()\n",
    "    df_eigagom_rating[\"id\"] = 1\n",
    "\n",
    "    for i in range (2, limit+1):\n",
    "        try:\n",
    "            with open('../eigacom_star_rating/{0}/{1}.json'.format(str(year),str(i))) as json_data:\n",
    "                try:\n",
    "                    data2 = json.load(json_data)\n",
    "                    df2 = pd.DataFrame.from_dict(data2, orient='index').transpose()\n",
    "                    df2[\"id\"] = i\n",
    "                    df_eigagom_rating = df_eigagom_rating.append(df2)\n",
    "                except:\n",
    "                    print(sys.exc_info())\n",
    "                    print(i)\n",
    "        except:\n",
    "            print(sys.exc_info())\n",
    "            print(i)\n",
    "    return df_eigagom_rating"
   ]
  },
  {
   "cell_type": "code",
   "execution_count": 290,
   "metadata": {},
   "outputs": [],
   "source": [
    "def read_data(year, limit):\n",
    "    print(year)\n",
    "    df1 = read_meta_data(year, limit)\n",
    "    df2 = read_star_rating(year, limit)\n",
    "    df = pd.merge(df1, df2, on='id')\n",
    "    df[\"year\"] = year\n",
    "    df[\"month\"] = df[\"release_date\"].apply(lambda x: int(x.split(\"-\")[1]))\n",
    "    return  df"
   ]
  },
  {
   "cell_type": "code",
   "execution_count": 291,
   "metadata": {},
   "outputs": [
    {
     "name": "stdout",
     "output_type": "stream",
     "text": [
      "2018\n",
      "(<class 'json.decoder.JSONDecodeError'>, JSONDecodeError(\"Expecting ',' delimiter: line 1 column 14 (char 13)\",), <traceback object at 0x1a19f8db48>)\n",
      "287\n",
      "(<class 'FileNotFoundError'>, FileNotFoundError(2, 'No such file or directory'), <traceback object at 0x1a1a451508>)\n",
      "357\n",
      "(<class 'FileNotFoundError'>, FileNotFoundError(2, 'No such file or directory'), <traceback object at 0x1a1a8780c8>)\n",
      "437\n",
      "(<class 'json.decoder.JSONDecodeError'>, JSONDecodeError(\"Expecting ',' delimiter: line 1 column 152 (char 151)\",), <traceback object at 0x1a19e2e1c8>)\n",
      "521\n",
      "(<class 'FileNotFoundError'>, FileNotFoundError(2, 'No such file or directory'), <traceback object at 0x1a1a806848>)\n",
      "577\n",
      "(<class 'FileNotFoundError'>, FileNotFoundError(2, 'No such file or directory'), <traceback object at 0x1a1a806388>)\n",
      "585\n",
      "(<class 'FileNotFoundError'>, FileNotFoundError(2, 'No such file or directory'), <traceback object at 0x1a1a1ab248>)\n",
      "589\n",
      "(<class 'FileNotFoundError'>, FileNotFoundError(2, 'No such file or directory'), <traceback object at 0x1a1a806388>)\n",
      "590\n",
      "(<class 'FileNotFoundError'>, FileNotFoundError(2, 'No such file or directory'), <traceback object at 0x1a19dce108>)\n",
      "642\n",
      "(<class 'FileNotFoundError'>, FileNotFoundError(2, 'No such file or directory'), <traceback object at 0x1a19dd0788>)\n",
      "659\n",
      "(<class 'FileNotFoundError'>, FileNotFoundError(2, 'No such file or directory'), <traceback object at 0x1a19dd0908>)\n",
      "660\n",
      "(<class 'FileNotFoundError'>, FileNotFoundError(2, 'No such file or directory'), <traceback object at 0x1a197916c8>)\n",
      "667\n",
      "(<class 'FileNotFoundError'>, FileNotFoundError(2, 'No such file or directory'), <traceback object at 0x1a19dcee08>)\n",
      "673\n",
      "(<class 'FileNotFoundError'>, FileNotFoundError(2, 'No such file or directory'), <traceback object at 0x1a19dce588>)\n",
      "675\n",
      "(<class 'FileNotFoundError'>, FileNotFoundError(2, 'No such file or directory'), <traceback object at 0x1a19dce108>)\n",
      "678\n",
      "(<class 'FileNotFoundError'>, FileNotFoundError(2, 'No such file or directory'), <traceback object at 0x1a19e179c8>)\n",
      "709\n",
      "(<class 'FileNotFoundError'>, FileNotFoundError(2, 'No such file or directory'), <traceback object at 0x1a19789748>)\n",
      "799\n",
      "(<class 'FileNotFoundError'>, FileNotFoundError(2, 'No such file or directory'), <traceback object at 0x1a19789748>)\n",
      "800\n",
      "(<class 'json.decoder.JSONDecodeError'>, JSONDecodeError(\"Expecting ',' delimiter: line 1 column 48 (char 47)\",), <traceback object at 0x1a19e205c8>)\n",
      "829\n",
      "(<class 'FileNotFoundError'>, FileNotFoundError(2, 'No such file or directory'), <traceback object at 0x1a1999ce08>)\n",
      "865\n",
      "(<class 'json.decoder.JSONDecodeError'>, JSONDecodeError('Expecting value: line 1 column 1 (char 0)',), <traceback object at 0x1a1999ca08>)\n",
      "192\n",
      "(<class 'json.decoder.JSONDecodeError'>, JSONDecodeError('Expecting value: line 1 column 1 (char 0)',), <traceback object at 0x1a18814c88>)\n",
      "357\n",
      "(<class 'json.decoder.JSONDecodeError'>, JSONDecodeError('Expecting value: line 1 column 1 (char 0)',), <traceback object at 0x1a1977a408>)\n",
      "437\n",
      "(<class 'json.decoder.JSONDecodeError'>, JSONDecodeError('Expecting value: line 1 column 1 (char 0)',), <traceback object at 0x1a1a27d388>)\n",
      "577\n",
      "(<class 'json.decoder.JSONDecodeError'>, JSONDecodeError('Expecting value: line 1 column 1 (char 0)',), <traceback object at 0x1a1977af48>)\n",
      "585\n",
      "(<class 'json.decoder.JSONDecodeError'>, JSONDecodeError('Expecting value: line 1 column 1 (char 0)',), <traceback object at 0x1a1a27d1c8>)\n",
      "589\n",
      "(<class 'json.decoder.JSONDecodeError'>, JSONDecodeError('Expecting value: line 1 column 1 (char 0)',), <traceback object at 0x1a1a27d288>)\n",
      "590\n",
      "(<class 'json.decoder.JSONDecodeError'>, JSONDecodeError('Expecting value: line 1 column 1 (char 0)',), <traceback object at 0x1a1977af48>)\n",
      "642\n",
      "(<class 'json.decoder.JSONDecodeError'>, JSONDecodeError('Expecting value: line 1 column 1 (char 0)',), <traceback object at 0x1a1977a588>)\n",
      "659\n",
      "(<class 'json.decoder.JSONDecodeError'>, JSONDecodeError('Expecting value: line 1 column 1 (char 0)',), <traceback object at 0x1a19dd0748>)\n",
      "660\n",
      "(<class 'json.decoder.JSONDecodeError'>, JSONDecodeError('Expecting value: line 1 column 1 (char 0)',), <traceback object at 0x1a19980148>)\n",
      "667\n",
      "(<class 'json.decoder.JSONDecodeError'>, JSONDecodeError('Expecting value: line 1 column 1 (char 0)',), <traceback object at 0x1a19980a08>)\n",
      "673\n",
      "(<class 'json.decoder.JSONDecodeError'>, JSONDecodeError('Expecting value: line 1 column 1 (char 0)',), <traceback object at 0x1a19980988>)\n",
      "675\n",
      "(<class 'json.decoder.JSONDecodeError'>, JSONDecodeError('Expecting value: line 1 column 1 (char 0)',), <traceback object at 0x1a19980748>)\n",
      "678\n",
      "(<class 'json.decoder.JSONDecodeError'>, JSONDecodeError('Expecting value: line 1 column 1 (char 0)',), <traceback object at 0x1a1a27d348>)\n",
      "709\n",
      "(<class 'json.decoder.JSONDecodeError'>, JSONDecodeError('Expecting value: line 1 column 1 (char 0)',), <traceback object at 0x1a19dd0d48>)\n",
      "799\n",
      "(<class 'json.decoder.JSONDecodeError'>, JSONDecodeError('Expecting value: line 1 column 1 (char 0)',), <traceback object at 0x1a1a0c6f08>)\n",
      "800\n",
      "(<class 'json.decoder.JSONDecodeError'>, JSONDecodeError('Expecting value: line 1 column 1 (char 0)',), <traceback object at 0x1a19df6788>)\n",
      "865\n",
      "2017\n",
      "(<class 'json.decoder.JSONDecodeError'>, JSONDecodeError(\"Expecting ',' delimiter: line 1 column 36 (char 35)\",), <traceback object at 0x1a19980a48>)\n",
      "248\n",
      "(<class 'json.decoder.JSONDecodeError'>, JSONDecodeError('Expecting value: line 1 column 1 (char 0)',), <traceback object at 0x1a1b326708>)\n",
      "61\n",
      "(<class 'json.decoder.JSONDecodeError'>, JSONDecodeError('Expecting value: line 1 column 1 (char 0)',), <traceback object at 0x1a1b309fc8>)\n",
      "204\n",
      "2016\n",
      "(<class 'json.decoder.JSONDecodeError'>, JSONDecodeError('Expecting value: line 1 column 1 (char 0)',), <traceback object at 0x1a1b2788c8>)\n",
      "59\n",
      "(<class 'json.decoder.JSONDecodeError'>, JSONDecodeError('Expecting value: line 1 column 1 (char 0)',), <traceback object at 0x1a1b2ab2c8>)\n",
      "169\n",
      "2015\n",
      "(<class 'json.decoder.JSONDecodeError'>, JSONDecodeError(\"Expecting ',' delimiter: line 1 column 25 (char 24)\",), <traceback object at 0x1a19fc7308>)\n",
      "73\n",
      "2014\n",
      "(<class 'json.decoder.JSONDecodeError'>, JSONDecodeError(\"Expecting ',' delimiter: line 1 column 51 (char 50)\",), <traceback object at 0x1a1b271a48>)\n",
      "303\n",
      "(<class 'json.decoder.JSONDecodeError'>, JSONDecodeError('Expecting value: line 1 column 1 (char 0)',), <traceback object at 0x1a1aa3be48>)\n",
      "326\n",
      "(<class 'json.decoder.JSONDecodeError'>, JSONDecodeError('Expecting value: line 1 column 1 (char 0)',), <traceback object at 0x1a1adfad48>)\n",
      "351\n",
      "(<class 'json.decoder.JSONDecodeError'>, JSONDecodeError('Expecting value: line 1 column 1 (char 0)',), <traceback object at 0x1a1a2ad9c8>)\n",
      "390\n",
      "(<class 'json.decoder.JSONDecodeError'>, JSONDecodeError('Expecting value: line 1 column 1 (char 0)',), <traceback object at 0x18176a9408>)\n",
      "461\n",
      "(<class 'json.decoder.JSONDecodeError'>, JSONDecodeError('Expecting value: line 1 column 1 (char 0)',), <traceback object at 0x18176a9e88>)\n",
      "663\n",
      "(<class 'json.decoder.JSONDecodeError'>, JSONDecodeError('Expecting value: line 1 column 1 (char 0)',), <traceback object at 0x1a1a2aa2c8>)\n",
      "755\n",
      "2013\n",
      "(<class 'json.decoder.JSONDecodeError'>, JSONDecodeError(\"Expecting ',' delimiter: line 1 column 186 (char 185)\",), <traceback object at 0x1a1a944588>)\n",
      "189\n",
      "(<class 'json.decoder.JSONDecodeError'>, JSONDecodeError('Expecting value: line 1 column 1 (char 0)',), <traceback object at 0x1a1a7834c8>)\n",
      "78\n",
      "(<class 'json.decoder.JSONDecodeError'>, JSONDecodeError('Expecting value: line 1 column 1 (char 0)',), <traceback object at 0x1a1a7835c8>)\n",
      "83\n",
      "(<class 'json.decoder.JSONDecodeError'>, JSONDecodeError('Expecting value: line 1 column 1 (char 0)',), <traceback object at 0x1a1a743288>)\n",
      "165\n",
      "(<class 'json.decoder.JSONDecodeError'>, JSONDecodeError('Expecting value: line 1 column 1 (char 0)',), <traceback object at 0x1a1a2ad088>)\n",
      "404\n",
      "(<class 'json.decoder.JSONDecodeError'>, JSONDecodeError('Expecting value: line 1 column 1 (char 0)',), <traceback object at 0x1a1a235d08>)\n",
      "477\n"
     ]
    }
   ],
   "source": [
    "df_2018 = read_data(2018, 928)\n",
    "df_2017 = read_data(2017, 320)\n",
    "df_2016 = read_data(2016, 254)\n",
    "df_2015 = read_data(2015, 290)\n",
    "df_2014 = read_data(2014, 759)\n",
    "df_2013 = read_data(2013, 662)"
   ]
  },
  {
   "cell_type": "code",
   "execution_count": 292,
   "metadata": {},
   "outputs": [],
   "source": [
    "def add_nominated(df, nominated_list):\n",
    "    df[\"nominated\"] = 0\n",
    "    for num in nominated_list:\n",
    "        df.loc[df['id'] == num, 'nominated'] = 1"
   ]
  },
  {
   "cell_type": "code",
   "execution_count": 293,
   "metadata": {
    "scrolled": true
   },
   "outputs": [],
   "source": [
    "nominated_2018 = [314, 131, 206, 284, 269]\n",
    "nominated_2017 = [217, 177, 229, 134, 202]\n",
    "nominated_2016 = [153, 186, 61, 211, 102]\n",
    "nominated_2015 = [107, 272, 278, 158]\n",
    "nominated_2014 = [678, 42, 588, 603, 747]\n",
    "nominated_2013 = [657, 454, 387, 470, 18, 187, 626]"
   ]
  },
  {
   "cell_type": "markdown",
   "metadata": {},
   "source": [
    "ノミネート2018<br>\n",
    "269 万引き家族<br>\n",
    "314 カメラを止めるな<br>\n",
    "131 北の桜守<br>\n",
    "206 孤狼の血<br>\n",
    "284 空飛ぶタイヤ<br>\n",
    "\n",
    "ノミネート2017<br>\n",
    "217 三度目の殺人<br>\n",
    "177 君の膵臓を食べたい<br>\n",
    "206 ナミヤ雑貨店の奇蹟<br>\n",
    "134 花戦さ<br>\n",
    "202 関ヶ原<br>\n",
    "\n",
    "ノミネート2016<br>\n",
    "153 シンゴジラ<br>\n",
    "186 怒り<br>\n",
    "61 家族はつらいよ<br>\n",
    "211 湯を沸かすほどの熱い愛<br>\n",
    "102 64-ロクヨン-前編<br>\n",
    "\n",
    "ノミネート2015<br>\n",
    "107 海街diary<br>\n",
    "272 海難1890<br>\n",
    "278 母と暮せば<br>\n",
    "158 日本のいちばん長い日<br>\n",
    "\n",
    "ノミネート2014<br>\n",
    "747　(2015のノミネート) 百円の恋<br>\n",
    "678 紙の月<br>\n",
    "42 小さいおうち<br>\n",
    "588 蜩ノ記<br>\n",
    "603　ふしぎな岬の物語<br>\n",
    "\n",
    "ノミネート2013<br>\n",
    "657  永遠の0 (2014の最優秀賞)<br>\n",
    "187  舟を編む<br>\n",
    "454 凶悪<br>\n",
    "387 少年H<br>\n",
    "470 そして父になる<br>\n",
    "18　東京家族<br>\n",
    "626 利休にたずねよ\t<br>"
   ]
  },
  {
   "cell_type": "code",
   "execution_count": 294,
   "metadata": {},
   "outputs": [],
   "source": [
    "add_nominated(df_2018, nominated_2018)\n",
    "add_nominated(df_2017, nominated_2017)\n",
    "add_nominated(df_2016, nominated_2016)\n",
    "add_nominated(df_2015, nominated_2015)\n",
    "add_nominated(df_2014, nominated_2014)\n",
    "add_nominated(df_2013, nominated_2013)"
   ]
  },
  {
   "cell_type": "code",
   "execution_count": 295,
   "metadata": {},
   "outputs": [],
   "source": [
    "df_all = pd.concat([df_2018, df_2017, df_2016, df_2015, df_2014, df_2013])\n",
    "drop_elements = ['title', 'director', 'scriptwriter', 'performers', 'release_date', 'id']\n",
    "df_all = df_all.drop(drop_elements, axis = 1)\n",
    "df_all['screen_time'] = df_all['screen_time'].astype(int)\n",
    "df_all = pd.get_dummies(df_all, dummy_na=True)"
   ]
  },
  {
   "cell_type": "code",
   "execution_count": 296,
   "metadata": {},
   "outputs": [],
   "source": [
    "train = pd.concat([df_2017, df_2016, df_2015, df_2014, df_2013])\n",
    "test = df_2018"
   ]
  },
  {
   "cell_type": "code",
   "execution_count": 297,
   "metadata": {},
   "outputs": [],
   "source": [
    "drop_elements = ['title', 'director', 'scriptwriter', 'performers', 'release_date', 'id']"
   ]
  },
  {
   "cell_type": "code",
   "execution_count": 298,
   "metadata": {},
   "outputs": [],
   "source": [
    "train = df_all.loc[df_all[\"year\"] != 2018]\n",
    "test = df_all.loc[df_all[\"year\"] == 2018]"
   ]
  },
  {
   "cell_type": "code",
   "execution_count": 299,
   "metadata": {},
   "outputs": [],
   "source": [
    "# 入力データの作成\n",
    "y_train = train['nominated'].ravel()\n",
    "x_train = train.drop(['nominated', 'year'], axis=1)\n",
    "features = x_train.columns\n",
    "x_train = x_train.values # 学習データ"
   ]
  },
  {
   "cell_type": "code",
   "execution_count": 300,
   "metadata": {},
   "outputs": [
    {
     "data": {
      "text/plain": [
       "(2266, 549)"
      ]
     },
     "execution_count": 300,
     "metadata": {},
     "output_type": "execute_result"
    }
   ],
   "source": [
    "x_train.shape"
   ]
  },
  {
   "cell_type": "code",
   "execution_count": 301,
   "metadata": {},
   "outputs": [],
   "source": [
    "# 入力データの作成\n",
    "y_test = test['nominated'].ravel()\n",
    "x_test = test.drop(['nominated', 'year'], axis=1)\n",
    "x_test = x_test.values # テストデータ"
   ]
  },
  {
   "cell_type": "code",
   "execution_count": 302,
   "metadata": {},
   "outputs": [
    {
     "data": {
      "text/plain": [
       "(907, 549)"
      ]
     },
     "execution_count": 302,
     "metadata": {},
     "output_type": "execute_result"
    }
   ],
   "source": [
    "x_test.shape"
   ]
  },
  {
   "cell_type": "code",
   "execution_count": 341,
   "metadata": {},
   "outputs": [],
   "source": [
    "from sklearn.ensemble import RandomForestClassifier\n",
    "clf = RandomForestClassifier(class_weight=\"balanced\", n_estimators=100, max_depth=10)\n",
    "clf = clf.fit(x_train, y_train)"
   ]
  },
  {
   "cell_type": "code",
   "execution_count": 342,
   "metadata": {},
   "outputs": [
    {
     "name": "stdout",
     "output_type": "stream",
     "text": [
      "AUC: \n",
      "0.5878048780487805\n",
      "accuracy_score: \n",
      "0.9713340683572216\n"
     ]
    }
   ],
   "source": [
    "from sklearn.metrics import (roc_curve, auc, accuracy_score)\n",
    "pred = clf.predict(x_test)\n",
    "fpr, tpr, thresholds = roc_curve(y_test, pred, pos_label=1)\n",
    "print(\"AUC: \")\n",
    "print(auc(fpr, tpr))\n",
    "print(\"accuracy_score: \")\n",
    "print(accuracy_score(pred, y_test))"
   ]
  },
  {
   "cell_type": "code",
   "execution_count": 343,
   "metadata": {
    "scrolled": true
   },
   "outputs": [
    {
     "name": "stdout",
     "output_type": "stream",
     "text": [
      "23\n"
     ]
    }
   ],
   "source": [
    "print(len([i for i, x in enumerate(pred) if x == 1]))"
   ]
  },
  {
   "cell_type": "code",
   "execution_count": 344,
   "metadata": {
    "scrolled": true
   },
   "outputs": [],
   "source": [
    "df_2018_result = df_2018\n",
    "df_2018_result[\"pred\"] = pred"
   ]
  },
  {
   "cell_type": "code",
   "execution_count": 345,
   "metadata": {},
   "outputs": [
    {
     "data": {
      "text/html": [
       "<div>\n",
       "<style scoped>\n",
       "    .dataframe tbody tr th:only-of-type {\n",
       "        vertical-align: middle;\n",
       "    }\n",
       "\n",
       "    .dataframe tbody tr th {\n",
       "        vertical-align: top;\n",
       "    }\n",
       "\n",
       "    .dataframe thead th {\n",
       "        text-align: right;\n",
       "    }\n",
       "</style>\n",
       "<table border=\"1\" class=\"dataframe\">\n",
       "  <thead>\n",
       "    <tr style=\"text-align: right;\">\n",
       "      <th></th>\n",
       "      <th>title</th>\n",
       "      <th>director</th>\n",
       "      <th>scriptwriter</th>\n",
       "      <th>performers</th>\n",
       "      <th>screen_time</th>\n",
       "      <th>production_studio</th>\n",
       "      <th>release_date</th>\n",
       "      <th>id</th>\n",
       "      <th>rating</th>\n",
       "      <th>check-in</th>\n",
       "      <th>review-count</th>\n",
       "      <th>year</th>\n",
       "      <th>month</th>\n",
       "      <th>nominated</th>\n",
       "      <th>pred</th>\n",
       "    </tr>\n",
       "  </thead>\n",
       "  <tbody>\n",
       "    <tr>\n",
       "      <th>130</th>\n",
       "      <td>北の桜守</td>\n",
       "      <td>[滝田洋二郎]</td>\n",
       "      <td>[那須真知子]</td>\n",
       "      <td>[吉永小百合, 堺雅人, 篠原涼子, 岸部一徳, 高島礼子, 永島敏行, 安田顕, 野間口徹...</td>\n",
       "      <td>126</td>\n",
       "      <td>東映</td>\n",
       "      <td>2018-03-10</td>\n",
       "      <td>131</td>\n",
       "      <td>3.1</td>\n",
       "      <td>1414.0</td>\n",
       "      <td>71.0</td>\n",
       "      <td>2018</td>\n",
       "      <td>3</td>\n",
       "      <td>1</td>\n",
       "      <td>0</td>\n",
       "    </tr>\n",
       "    <tr>\n",
       "      <th>204</th>\n",
       "      <td>孤狼の血</td>\n",
       "      <td>[白石和彌]</td>\n",
       "      <td>[池上純哉]</td>\n",
       "      <td>[役所広司, 松坂桃李, 真木よう子, 滝藤賢一, 音尾琢真, 駿河太郎, 中村倫也, 中村...</td>\n",
       "      <td>126</td>\n",
       "      <td>東映</td>\n",
       "      <td>2018-05-12</td>\n",
       "      <td>206</td>\n",
       "      <td>3.8</td>\n",
       "      <td>8460.0</td>\n",
       "      <td>308.0</td>\n",
       "      <td>2018</td>\n",
       "      <td>5</td>\n",
       "      <td>1</td>\n",
       "      <td>0</td>\n",
       "    </tr>\n",
       "    <tr>\n",
       "      <th>267</th>\n",
       "      <td>万引き家族</td>\n",
       "      <td>[是枝裕和]</td>\n",
       "      <td>[是枝裕和]</td>\n",
       "      <td>[リリー・フランキー, 安藤サクラ, 松岡茉優, 城桧吏, 佐々木みゆ, 池松壮亮, 山田裕...</td>\n",
       "      <td>120</td>\n",
       "      <td>ギャガ</td>\n",
       "      <td>2018-06-08</td>\n",
       "      <td>269</td>\n",
       "      <td>3.8</td>\n",
       "      <td>26907.0</td>\n",
       "      <td>729.0</td>\n",
       "      <td>2018</td>\n",
       "      <td>6</td>\n",
       "      <td>1</td>\n",
       "      <td>1</td>\n",
       "    </tr>\n",
       "    <tr>\n",
       "      <th>282</th>\n",
       "      <td>空飛ぶタイヤ</td>\n",
       "      <td>[本木克英]</td>\n",
       "      <td>[林民夫]</td>\n",
       "      <td>[長瀬智也, ディーン・フジオカ, 高橋一生, 深田恭子, 岸部一徳, 笹野高史, 寺脇康文...</td>\n",
       "      <td>120</td>\n",
       "      <td>松竹</td>\n",
       "      <td>2018-06-15</td>\n",
       "      <td>284</td>\n",
       "      <td>3.5</td>\n",
       "      <td>10387.0</td>\n",
       "      <td>285.0</td>\n",
       "      <td>2018</td>\n",
       "      <td>6</td>\n",
       "      <td>1</td>\n",
       "      <td>0</td>\n",
       "    </tr>\n",
       "    <tr>\n",
       "      <th>311</th>\n",
       "      <td>カメラを止めるな!</td>\n",
       "      <td>[中泉裕矢]</td>\n",
       "      <td>[上田慎一郎]</td>\n",
       "      <td>[真魚, 濱津隆之, しゅはまはるみ, 秋山ゆずき, ド・ランクザン望, チャールズ・グラバ...</td>\n",
       "      <td>57</td>\n",
       "      <td></td>\n",
       "      <td>2018-06-23</td>\n",
       "      <td>314</td>\n",
       "      <td>4.0</td>\n",
       "      <td>27960.0</td>\n",
       "      <td>1040.0</td>\n",
       "      <td>2018</td>\n",
       "      <td>6</td>\n",
       "      <td>1</td>\n",
       "      <td>0</td>\n",
       "    </tr>\n",
       "  </tbody>\n",
       "</table>\n",
       "</div>"
      ],
      "text/plain": [
       "         title director scriptwriter  \\\n",
       "130       北の桜守  [滝田洋二郎]      [那須真知子]   \n",
       "204       孤狼の血   [白石和彌]       [池上純哉]   \n",
       "267      万引き家族   [是枝裕和]       [是枝裕和]   \n",
       "282     空飛ぶタイヤ   [本木克英]        [林民夫]   \n",
       "311  カメラを止めるな!   [中泉裕矢]      [上田慎一郎]   \n",
       "\n",
       "                                            performers screen_time  \\\n",
       "130  [吉永小百合, 堺雅人, 篠原涼子, 岸部一徳, 高島礼子, 永島敏行, 安田顕, 野間口徹...         126   \n",
       "204  [役所広司, 松坂桃李, 真木よう子, 滝藤賢一, 音尾琢真, 駿河太郎, 中村倫也, 中村...         126   \n",
       "267  [リリー・フランキー, 安藤サクラ, 松岡茉優, 城桧吏, 佐々木みゆ, 池松壮亮, 山田裕...         120   \n",
       "282  [長瀬智也, ディーン・フジオカ, 高橋一生, 深田恭子, 岸部一徳, 笹野高史, 寺脇康文...         120   \n",
       "311  [真魚, 濱津隆之, しゅはまはるみ, 秋山ゆずき, ド・ランクザン望, チャールズ・グラバ...          57   \n",
       "\n",
       "    production_studio release_date   id  rating  check-in  review-count  year  \\\n",
       "130                東映   2018-03-10  131     3.1    1414.0          71.0  2018   \n",
       "204                東映   2018-05-12  206     3.8    8460.0         308.0  2018   \n",
       "267               ギャガ   2018-06-08  269     3.8   26907.0         729.0  2018   \n",
       "282                松竹   2018-06-15  284     3.5   10387.0         285.0  2018   \n",
       "311                     2018-06-23  314     4.0   27960.0        1040.0  2018   \n",
       "\n",
       "     month  nominated  pred  \n",
       "130      3          1     0  \n",
       "204      5          1     0  \n",
       "267      6          1     1  \n",
       "282      6          1     0  \n",
       "311      6          1     0  "
      ]
     },
     "execution_count": 345,
     "metadata": {},
     "output_type": "execute_result"
    }
   ],
   "source": [
    "df_2018_result.loc[df_2018_result[\"nominated\"] == 1]"
   ]
  },
  {
   "cell_type": "code",
   "execution_count": 346,
   "metadata": {},
   "outputs": [
    {
     "data": {
      "image/png": "[encoded data removed]",
      "text/plain": [
       "<Figure size 720x720 with 1 Axes>"
      ]
     },
     "metadata": {
      "needs_background": "light"
     },
     "output_type": "display_data"
    }
   ],
   "source": [
    "# feature importance\n",
    "feature_imp = clf.feature_importances_\n",
    "feature_imp_arg = np.argsort(feature_imp)\n",
    "f_num = len(feature_imp_arg)\n",
    "# rf\n",
    "plt.rcParams[\"font.family\"] = \"IPAexGothic\"\n",
    "plt.figure(figsize=(10,10))\n",
    "plt.barh(range(len(feature_imp_arg[f_num-50:])), feature_imp[feature_imp_arg[f_num-50:]], color='b', align='center')\n",
    "plt.yticks(range(len(feature_imp_arg[f_num-50:])), features[feature_imp_arg[f_num-50:]])\n",
    "plt.show()"
   ]
  },
  {
   "cell_type": "code",
   "execution_count": 347,
   "metadata": {
    "scrolled": true
   },
   "outputs": [
    {
     "data": {
      "text/plain": [
       "0       silent voice\n",
       "1                 松竹\n",
       "2                   \n",
       "3                ギャガ\n",
       "4        20世紀フォックス映画\n",
       "5            キノフィルムズ\n",
       "6                 日活\n",
       "7       AMGエンタテインメント\n",
       "8               東北新社\n",
       "9          ファインフィルムズ\n",
       "10                  \n",
       "11                  \n",
       "12                  \n",
       "13                日活\n",
       "14                  \n",
       "15            アクセスエー\n",
       "16             トラヴィス\n",
       "17                  \n",
       "18           ギャガ・プラス\n",
       "19                  \n",
       "20      AMGエンタテインメント\n",
       "21                  \n",
       "22                  \n",
       "23           ブロードウェイ\n",
       "24                  \n",
       "25           ブロードウェイ\n",
       "26            ショウゲート\n",
       "27         アスミック・エース\n",
       "28                  \n",
       "29                  \n",
       "           ...      \n",
       "877     ビーズインターナショナル\n",
       "878        ガチンコ・フィルム\n",
       "879          キノフィルムズ\n",
       "880     AMGエンタテインメント\n",
       "881     アークエンタテインメント\n",
       "882           日本出版販売\n",
       "883     ワーナー・ブラザース映画\n",
       "884            ディズニー\n",
       "885               東宝\n",
       "886              ギャガ\n",
       "887        ファインフィルムズ\n",
       "888              彩プロ\n",
       "889               東映\n",
       "890                 \n",
       "891                 \n",
       "892         キュリオスコープ\n",
       "893         ミモザフィルムズ\n",
       "894         クロックワークス\n",
       "895             カラレボ\n",
       "896    セテラ・インターナショナル\n",
       "897       マメゾウピクチャーズ\n",
       "898      [MDGP]上映委員会\n",
       "899              エデン\n",
       "900                 \n",
       "901                 \n",
       "902          REGENTS\n",
       "903         KADOKAWA\n",
       "904               松竹\n",
       "905              ツイン\n",
       "906      [MDGP]上映委員会\n",
       "Name: production_studio, Length: 907, dtype: object"
      ]
     },
     "execution_count": 347,
     "metadata": {},
     "output_type": "execute_result"
    }
   ],
   "source": [
    "df_2018_result[\"production_studio\"]"
   ]
  },
  {
   "cell_type": "code",
   "execution_count": null,
   "metadata": {},
   "outputs": [],
   "source": [
    "# XGBOOST\n"
   ]
  }
 ],
 "metadata": {
  "kernelspec": {
   "display_name": "Python 3",
   "language": "python",
   "name": "python3"
  },
  "language_info": {
   "codemirror_mode": {
    "name": "ipython",
    "version": 3
   },
   "file_extension": ".py",
   "mimetype": "text/x-python",
   "name": "python",
   "nbconvert_exporter": "python",
   "pygments_lexer": "ipython3",
   "version": "3.6.8"
  }
 },
 "nbformat": 4,
 "nbformat_minor": 2
}
